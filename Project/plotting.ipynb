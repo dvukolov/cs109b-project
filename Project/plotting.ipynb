{
 "cells": [
  {
   "cell_type": "markdown",
   "metadata": {},
   "source": [
    "# Definitions of plotting routines"
   ]
  },
  {
   "cell_type": "code",
   "execution_count": 1,
   "metadata": {},
   "outputs": [],
   "source": [
    "import galsim\n",
    "import matplotlib.pyplot as plt\n",
    "import seaborn as sns\n",
    "\n",
    "# Tweak plot resolution and styling\n",
    "%config InlineBackend.figure_format = \"retina\"\n",
    "sns.set(style=\"white\", palette=None, rc={\"axes.linewidth\": 1})\n",
    "plt.rc(\"image\", cmap=\"viridis\")"
   ]
  },
  {
   "cell_type": "code",
   "execution_count": null,
   "metadata": {},
   "outputs": [],
   "source": [
    "def true_vs_pred(y_true, y_pred, snr, set_limits=False):\n",
    "    titles = ['Flux', 'Sersic Index', 'Sersic Radius', 'g1']\n",
    "    limits = [\n",
    "        [15_000, 415_000],  # Flux\n",
    "        [0.2, 6.3],  # Sersic index\n",
    "        [0.08, 0.62],  # Sersic radius\n",
    "        [-0.72, 0.72],  # g1\n",
    "    ]\n",
    "    \n",
    "    fig, axes = plt.subplots(2, 2, figsize=(20, 15))\n",
    "    for i in range(4):\n",
    "        ax = axes[i//2, i%2]\n",
    "        im = ax.scatter(y_true[:, i], y_pred[:, i], c=snr, marker='.', cmap='RdYlBu')\n",
    "        fig.colorbar(im, ax=ax)\n",
    "        ax.set_title(f\"{titles[i]} Colored by SNR\", fontsize=20)\n",
    "        ax.set_xlabel('True Value', fontsize=16)\n",
    "        ax.set_ylabel('Predicted Value', fontsize=16)\n",
    "        ax.plot([0, 1], [0, 1], transform=ax.transAxes, color=\"tab:red\", linestyle=\"--\")\n",
    "    \n",
    "        if set_limits:\n",
    "            ax.set(xlim=limits[i], ylim=limits[i])"
   ]
  },
  {
   "cell_type": "code",
   "execution_count": null,
   "metadata": {},
   "outputs": [],
   "source": [
    "def true_vs_error(y_true, y_pred, snr):\n",
    "    titles = ['Flux', 'Sersic Index', 'Sersic Radius', 'g1']\n",
    "    error = y_pred - y_true\n",
    "    \n",
    "    fig, axes = plt.subplots(2, 2, figsize=(20, 15))\n",
    "    for i in range(4):\n",
    "        ax = axes[i//2, i%2]\n",
    "        sns.scatterplot(y_true[:, i], error[:, i], hue=snr, hue_norm=(10, 100), ax=ax, palette='RdYlBu')\n",
    "        ax.set_title(titles[i], fontsize=20)\n",
    "        ax.set_xlabel('True Value', fontsize=16)\n",
    "        ax.set_ylabel('Error', fontsize=16)\n",
    "        ax.legend(title=\"SNR\", loc=\"upper right\")\n",
    "        ax.axhline(0, color=\"tab:red\", linestyle=\"--\")"
   ]
  },
  {
   "cell_type": "code",
   "execution_count": null,
   "metadata": {},
   "outputs": [],
   "source": [
    "def error_hist(y_true, y_pred):\n",
    "    titles = ['Flux', 'Sersic Index', 'Sersic Radius', 'g1']\n",
    "    error = y_pred - y_true\n",
    "    \n",
    "    fig, axes = plt.subplots(2, 2, figsize=(20, 15))\n",
    "    for i in range(4):\n",
    "        ax = axes[i//2, i%2]\n",
    "        sns.distplot(error[:, i], bins=50, ax=ax)\n",
    "        ax.set_title(titles[i], fontsize=20)\n",
    "        ax.set_xlabel('Error', fontsize=16)\n",
    "        ax.set_ylabel('Density', fontsize=16)\n",
    "        ax.axvline(0, color=\"tab:red\", linestyle=\"--\")"
   ]
  },
  {
   "cell_type": "code",
   "execution_count": null,
   "metadata": {},
   "outputs": [],
   "source": [
    "def galsim_image(flux, sersic_index, sersic_radius, g1, g2, psf_r, sigma):\n",
    "    \"\"\"Generate a noiseless image using GalSim.\n",
    "    \"\"\"\n",
    "    image_size = 64  # n x n pixels\n",
    "    pixel_scale = 0.23  # arcsec / pixel\n",
    "    psf_beta = 2  # moffat parameter\n",
    "    \n",
    "    gal = galsim.Sersic(sersic_index, half_light_radius=sersic_radius)\n",
    "    gal = gal.withFlux(flux)\n",
    "    gal = gal.shear(g1=g1, g2=g2)\n",
    "    psf = galsim.Moffat(beta=psf_beta, flux=1.0, fwhm=psf_r)\n",
    "    final = galsim.Convolve([psf, gal])\n",
    "    image = galsim.ImageF(image_size, image_size, scale=pixel_scale)\n",
    "    final.drawImage(image=image)\n",
    "\n",
    "    return image.array"
   ]
  },
  {
   "cell_type": "code",
   "execution_count": null,
   "metadata": {},
   "outputs": [],
   "source": [
    "def plot_galsim_reconstruction(noisy, noiseless, reconstructed):\n",
    "    difference = reconstructed - noiseless\n",
    "    images = [noisy, noiseless, reconstructed, difference]\n",
    "    titles = [\"Noisy Image\", \"Noiseless Image\", \"Reconstruction\", \"Difference\"]\n",
    "\n",
    "    fig, axes = plt.subplots(2, 2, figsize=(9.5, 8), constrained_layout=True)\n",
    "    for image, title, ax in zip(images, titles, axes.flat):\n",
    "        im = ax.imshow(image)\n",
    "        ax.axis(\"off\")\n",
    "        ax.set_title(title)\n",
    "        fig.colorbar(im, ax=ax)\n",
    "    fig.suptitle(\"Galaxy Reconstruction for SNR 60\");"
   ]
  }
 ],
 "metadata": {
  "kernelspec": {
   "display_name": "Python 3",
   "language": "python",
   "name": "python3"
  },
  "language_info": {
   "codemirror_mode": {
    "name": "ipython",
    "version": 3
   },
   "file_extension": ".py",
   "mimetype": "text/x-python",
   "name": "python",
   "nbconvert_exporter": "python",
   "pygments_lexer": "ipython3",
   "version": "3.6.9"
  }
 },
 "nbformat": 4,
 "nbformat_minor": 4
}
