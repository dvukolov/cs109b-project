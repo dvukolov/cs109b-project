{
 "cells": [
  {
   "cell_type": "code",
   "execution_count": null,
   "metadata": {},
   "outputs": [],
   "source": [
    "import tensorflow as tf\n",
    "from tensorflow.python.util import nest"
   ]
  },
  {
   "cell_type": "code",
   "execution_count": null,
   "metadata": {},
   "outputs": [],
   "source": [
    "def adapt_model(model, dataset):\n",
    "    \"\"\"Adapt the preprocessing layers, e.g. Normalization(), to the dataset.\n",
    "    \"\"\"\n",
    "    if isinstance(dataset, tf.data.Dataset):\n",
    "        x = dataset.map(lambda x, y: x)\n",
    "    else:\n",
    "        x = nest.flatten(dataset)\n",
    "    \n",
    "    def get_output_layer(tensor):\n",
    "        tensor = nest.flatten(tensor)[0]\n",
    "        for layer in model.layers:\n",
    "            if isinstance(layer, tf.keras.layers.InputLayer):\n",
    "                continue\n",
    "            input_node = nest.flatten(layer.input)[0]\n",
    "            if input_node is tensor:\n",
    "                return layer\n",
    "        return None\n",
    "\n",
    "    for index, input_node in enumerate(nest.flatten(model.input)):\n",
    "        def get_data(*args):\n",
    "            return args[index]\n",
    "\n",
    "        if isinstance(x, tf.data.Dataset):\n",
    "            temp_x = x.map(get_data)\n",
    "        else:\n",
    "            temp_x = x[index]\n",
    "        layer = get_output_layer(input_node)\n",
    "        while isinstance(layer, preprocessing.PreprocessingLayer):\n",
    "            layer.adapt(temp_x)\n",
    "            layer = get_output_layer(layer.output)\n",
    "    return model"
   ]
  }
 ],
 "metadata": {
  "kernelspec": {
   "display_name": "Python 3",
   "language": "python",
   "name": "python3"
  },
  "language_info": {
   "codemirror_mode": {
    "name": "ipython",
    "version": 3
   },
   "file_extension": ".py",
   "mimetype": "text/x-python",
   "name": "python",
   "nbconvert_exporter": "python",
   "pygments_lexer": "ipython3",
   "version": "3.6.9"
  }
 },
 "nbformat": 4,
 "nbformat_minor": 4
}
