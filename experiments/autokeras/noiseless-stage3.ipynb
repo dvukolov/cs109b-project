{
 "cells": [
  {
   "cell_type": "markdown",
   "metadata": {},
   "source": [
    "# CNN for Regression from Noiseless Images to Labels\n",
    "\n",
    "## Stage 3: Retraining the Best Model on the Full Dataset (200k Samples)"
   ]
  },
  {
   "cell_type": "code",
   "execution_count": 1,
   "metadata": {},
   "outputs": [],
   "source": [
    "import json\n",
    "from pprint import pprint\n",
    "import numpy as np\n",
    "from sklearn.preprocessing import MinMaxScaler\n",
    "\n",
    "import tensorflow as tf\n",
    "import tensorflow_addons as tfa\n",
    "\n",
    "%run xception.ipynb"
   ]
  },
  {
   "cell_type": "code",
   "execution_count": 2,
   "metadata": {},
   "outputs": [
    {
     "name": "stdout",
     "output_type": "stream",
     "text": [
      "Available variables: ['img', 'img_nonoise', 'label', 'psf_r', 'snr', 'sigma']\n"
     ]
    }
   ],
   "source": [
    "dataset = \"../../data/data_v1.npz\"\n",
    "\n",
    "with np.load(dataset) as data:\n",
    "    print(\"Available variables:\", data.files)\n",
    "    image_nonoise = data[\"img_nonoise\"]\n",
    "    label = data[\"label\"]"
   ]
  },
  {
   "cell_type": "code",
   "execution_count": 3,
   "metadata": {},
   "outputs": [],
   "source": [
    "# Use unscaled noiseless images. Let TF normalize the data.\n",
    "X = image_nonoise[..., np.newaxis]\n",
    "\n",
    "# Scale the labels between -1 and 1 using the full dataset. We know the ranges of generated labels.\n",
    "scaler = MinMaxScaler(feature_range=(-1, 1))\n",
    "y = scaler.fit_transform(label)"
   ]
  },
  {
   "cell_type": "code",
   "execution_count": 4,
   "metadata": {},
   "outputs": [
    {
     "name": "stdout",
     "output_type": "stream",
     "text": [
      "{'image_block_1/xception_block_1/activation': 'selu',\n",
      " 'image_block_1/xception_block_1/conv2d_num_filters': 64,\n",
      " 'image_block_1/xception_block_1/initial_strides': 2,\n",
      " 'image_block_1/xception_block_1/kernel_size': 5,\n",
      " 'image_block_1/xception_block_1/num_residual_blocks': 7,\n",
      " 'image_block_1/xception_block_1/pooling': 'avg',\n",
      " 'image_block_1/xception_block_1/sep_num_filters': 256,\n",
      " 'optimizer': 'adam',\n",
      " 'regression_head_1/dropout_rate': 0}\n"
     ]
    }
   ],
   "source": [
    "# Show the parameters of the best model\n",
    "with open(\"noiseless_params.json\") as f:\n",
    "    pprint(json.load(f))"
   ]
  },
  {
   "cell_type": "code",
   "execution_count": 5,
   "metadata": {},
   "outputs": [
    {
     "name": "stdout",
     "output_type": "stream",
     "text": [
      "Model: \"model\"\n",
      "__________________________________________________________________________________________________\n",
      "Layer (type)                    Output Shape         Param #     Connected to                     \n",
      "==================================================================================================\n",
      "input_1 (InputLayer)            [(None, 64, 64, 1)]  0                                            \n",
      "__________________________________________________________________________________________________\n",
      "normalization (Normalization)   (None, 64, 64, 1)    3           input_1[0][0]                    \n",
      "__________________________________________________________________________________________________\n",
      "conv2d (Conv2D)                 (None, 32, 32, 64)   1664        normalization[0][0]              \n",
      "__________________________________________________________________________________________________\n",
      "separable_conv2d (SeparableConv (None, 32, 32, 256)  17216       conv2d[0][0]                     \n",
      "__________________________________________________________________________________________________\n",
      "separable_conv2d_1 (SeparableCo (None, 32, 32, 256)  68096       separable_conv2d[0][0]           \n",
      "__________________________________________________________________________________________________\n",
      "conv2d_1 (Conv2D)               (None, 32, 32, 256)  16640       conv2d[0][0]                     \n",
      "__________________________________________________________________________________________________\n",
      "add (Add)                       (None, 32, 32, 256)  0           separable_conv2d_1[0][0]         \n",
      "                                                                 conv2d_1[0][0]                   \n",
      "__________________________________________________________________________________________________\n",
      "separable_conv2d_2 (SeparableCo (None, 32, 32, 256)  68096       add[0][0]                        \n",
      "__________________________________________________________________________________________________\n",
      "separable_conv2d_3 (SeparableCo (None, 32, 32, 256)  68096       separable_conv2d_2[0][0]         \n",
      "__________________________________________________________________________________________________\n",
      "add_1 (Add)                     (None, 32, 32, 256)  0           separable_conv2d_3[0][0]         \n",
      "                                                                 add[0][0]                        \n",
      "__________________________________________________________________________________________________\n",
      "separable_conv2d_4 (SeparableCo (None, 32, 32, 256)  68096       add_1[0][0]                      \n",
      "__________________________________________________________________________________________________\n",
      "separable_conv2d_5 (SeparableCo (None, 32, 32, 256)  68096       separable_conv2d_4[0][0]         \n",
      "__________________________________________________________________________________________________\n",
      "add_2 (Add)                     (None, 32, 32, 256)  0           separable_conv2d_5[0][0]         \n",
      "                                                                 add_1[0][0]                      \n",
      "__________________________________________________________________________________________________\n",
      "separable_conv2d_6 (SeparableCo (None, 32, 32, 256)  68096       add_2[0][0]                      \n",
      "__________________________________________________________________________________________________\n",
      "separable_conv2d_7 (SeparableCo (None, 32, 32, 256)  68096       separable_conv2d_6[0][0]         \n",
      "__________________________________________________________________________________________________\n",
      "add_3 (Add)                     (None, 32, 32, 256)  0           separable_conv2d_7[0][0]         \n",
      "                                                                 add_2[0][0]                      \n",
      "__________________________________________________________________________________________________\n",
      "separable_conv2d_8 (SeparableCo (None, 32, 32, 256)  68096       add_3[0][0]                      \n",
      "__________________________________________________________________________________________________\n",
      "separable_conv2d_9 (SeparableCo (None, 32, 32, 256)  68096       separable_conv2d_8[0][0]         \n",
      "__________________________________________________________________________________________________\n",
      "add_4 (Add)                     (None, 32, 32, 256)  0           separable_conv2d_9[0][0]         \n",
      "                                                                 add_3[0][0]                      \n",
      "__________________________________________________________________________________________________\n",
      "separable_conv2d_10 (SeparableC (None, 32, 32, 256)  68096       add_4[0][0]                      \n",
      "__________________________________________________________________________________________________\n",
      "separable_conv2d_11 (SeparableC (None, 32, 32, 256)  68096       separable_conv2d_10[0][0]        \n",
      "__________________________________________________________________________________________________\n",
      "add_5 (Add)                     (None, 32, 32, 256)  0           separable_conv2d_11[0][0]        \n",
      "                                                                 add_4[0][0]                      \n",
      "__________________________________________________________________________________________________\n",
      "separable_conv2d_12 (SeparableC (None, 32, 32, 256)  68096       add_5[0][0]                      \n",
      "__________________________________________________________________________________________________\n",
      "separable_conv2d_13 (SeparableC (None, 32, 32, 256)  68096       separable_conv2d_12[0][0]        \n",
      "__________________________________________________________________________________________________\n",
      "add_6 (Add)                     (None, 32, 32, 256)  0           separable_conv2d_13[0][0]        \n",
      "                                                                 add_5[0][0]                      \n",
      "__________________________________________________________________________________________________\n",
      "separable_conv2d_14 (SeparableC (None, 32, 32, 512)  133888      add_6[0][0]                      \n",
      "__________________________________________________________________________________________________\n",
      "separable_conv2d_15 (SeparableC (None, 32, 32, 512)  267264      separable_conv2d_14[0][0]        \n",
      "__________________________________________________________________________________________________\n",
      "max_pooling2d (MaxPooling2D)    (None, 16, 16, 512)  0           separable_conv2d_15[0][0]        \n",
      "__________________________________________________________________________________________________\n",
      "conv2d_2 (Conv2D)               (None, 16, 16, 512)  131584      add_6[0][0]                      \n",
      "__________________________________________________________________________________________________\n",
      "add_7 (Add)                     (None, 16, 16, 512)  0           max_pooling2d[0][0]              \n",
      "                                                                 conv2d_2[0][0]                   \n",
      "__________________________________________________________________________________________________\n",
      "global_average_pooling2d (Globa (None, 512)          0           add_7[0][0]                      \n",
      "__________________________________________________________________________________________________\n",
      "regression_head_1 (Dense)       (None, 5)            2565        global_average_pooling2d[0][0]   \n",
      "==================================================================================================\n",
      "Total params: 1,456,072\n",
      "Trainable params: 1,456,069\n",
      "Non-trainable params: 3\n",
      "__________________________________________________________________________________________________\n"
     ]
    }
   ],
   "source": [
    "# Load the best model. SeparableConv2D layers form Xception blocks.\n",
    "model = tf.keras.models.load_model('noiseless_20k.tf', custom_objects=ak.CUSTOM_OBJECTS)\n",
    "model.summary()"
   ]
  },
  {
   "cell_type": "code",
   "execution_count": 6,
   "metadata": {},
   "outputs": [
    {
     "data": {
      "text/plain": [
       "{'name': 'Adam',\n",
       " 'learning_rate': 0.001,\n",
       " 'decay': 0.0,\n",
       " 'beta_1': 0.9,\n",
       " 'beta_2': 0.999,\n",
       " 'epsilon': 1e-07,\n",
       " 'amsgrad': False}"
      ]
     },
     "execution_count": 6,
     "metadata": {},
     "output_type": "execute_result"
    }
   ],
   "source": [
    "# Adam with the default settings was chosen by Autokeras as the optimizer\n",
    "model.optimizer.get_config()"
   ]
  },
  {
   "cell_type": "code",
   "execution_count": 7,
   "metadata": {},
   "outputs": [
    {
     "data": {
      "application/vnd.jupyter.widget-view+json": {
       "model_id": "f54b6e7addf24ca896dba691f3b2e69d",
       "version_major": 2,
       "version_minor": 0
      },
      "text/plain": [
       "HBox(children=(FloatProgress(value=0.0, description='Training', layout=Layout(flex='2'), style=ProgressStyle(d…"
      ]
     },
     "metadata": {},
     "output_type": "display_data"
    },
    {
     "name": "stdout",
     "output_type": "stream",
     "text": [
      "Epoch 1/100\n"
     ]
    },
    {
     "data": {
      "application/vnd.jupyter.widget-view+json": {
       "model_id": "e09f13e0f9bd4eb19769daf1b492e9ab",
       "version_major": 2,
       "version_minor": 0
      },
      "text/plain": [
       "HBox(children=(FloatProgress(value=0.0, layout=Layout(flex='2'), max=5625.0), HTML(value='')), layout=Layout(d…"
      ]
     },
     "metadata": {},
     "output_type": "display_data"
    },
    {
     "name": "stdout",
     "output_type": "stream",
     "text": [
      "\n",
      "Epoch 2/100\n"
     ]
    },
    {
     "data": {
      "application/vnd.jupyter.widget-view+json": {
       "model_id": "c7fb4205e395418bb9c95a1648784dc5",
       "version_major": 2,
       "version_minor": 0
      },
      "text/plain": [
       "HBox(children=(FloatProgress(value=0.0, layout=Layout(flex='2'), max=5625.0), HTML(value='')), layout=Layout(d…"
      ]
     },
     "metadata": {},
     "output_type": "display_data"
    },
    {
     "name": "stdout",
     "output_type": "stream",
     "text": [
      "\n",
      "Epoch 3/100\n"
     ]
    },
    {
     "data": {
      "application/vnd.jupyter.widget-view+json": {
       "model_id": "6e18e8198e034585895502519961f35c",
       "version_major": 2,
       "version_minor": 0
      },
      "text/plain": [
       "HBox(children=(FloatProgress(value=0.0, layout=Layout(flex='2'), max=5625.0), HTML(value='')), layout=Layout(d…"
      ]
     },
     "metadata": {},
     "output_type": "display_data"
    },
    {
     "name": "stdout",
     "output_type": "stream",
     "text": [
      "\n",
      "Epoch 4/100\n"
     ]
    },
    {
     "data": {
      "application/vnd.jupyter.widget-view+json": {
       "model_id": "466bb3c6d0294416b59a054359aeb016",
       "version_major": 2,
       "version_minor": 0
      },
      "text/plain": [
       "HBox(children=(FloatProgress(value=0.0, layout=Layout(flex='2'), max=5625.0), HTML(value='')), layout=Layout(d…"
      ]
     },
     "metadata": {},
     "output_type": "display_data"
    },
    {
     "name": "stdout",
     "output_type": "stream",
     "text": [
      "\n",
      "Epoch 5/100\n"
     ]
    },
    {
     "data": {
      "application/vnd.jupyter.widget-view+json": {
       "model_id": "d8fc3eee5e2e4fecb3d77bf758bdcb41",
       "version_major": 2,
       "version_minor": 0
      },
      "text/plain": [
       "HBox(children=(FloatProgress(value=0.0, layout=Layout(flex='2'), max=5625.0), HTML(value='')), layout=Layout(d…"
      ]
     },
     "metadata": {},
     "output_type": "display_data"
    },
    {
     "name": "stdout",
     "output_type": "stream",
     "text": [
      "\n",
      "Epoch 6/100\n"
     ]
    },
    {
     "data": {
      "application/vnd.jupyter.widget-view+json": {
       "model_id": "7dad28df09a34022806956f9c2ff9a3f",
       "version_major": 2,
       "version_minor": 0
      },
      "text/plain": [
       "HBox(children=(FloatProgress(value=0.0, layout=Layout(flex='2'), max=5625.0), HTML(value='')), layout=Layout(d…"
      ]
     },
     "metadata": {},
     "output_type": "display_data"
    },
    {
     "name": "stdout",
     "output_type": "stream",
     "text": [
      "\n",
      "Epoch 7/100\n"
     ]
    },
    {
     "data": {
      "application/vnd.jupyter.widget-view+json": {
       "model_id": "d3e25f41ce0b4735b24b720f75bca002",
       "version_major": 2,
       "version_minor": 0
      },
      "text/plain": [
       "HBox(children=(FloatProgress(value=0.0, layout=Layout(flex='2'), max=5625.0), HTML(value='')), layout=Layout(d…"
      ]
     },
     "metadata": {},
     "output_type": "display_data"
    },
    {
     "name": "stdout",
     "output_type": "stream",
     "text": [
      "\n",
      "Epoch 8/100\n"
     ]
    },
    {
     "data": {
      "application/vnd.jupyter.widget-view+json": {
       "model_id": "c7e9dcc7742d4b7288d9a78804e49540",
       "version_major": 2,
       "version_minor": 0
      },
      "text/plain": [
       "HBox(children=(FloatProgress(value=0.0, layout=Layout(flex='2'), max=5625.0), HTML(value='')), layout=Layout(d…"
      ]
     },
     "metadata": {},
     "output_type": "display_data"
    },
    {
     "name": "stdout",
     "output_type": "stream",
     "text": [
      "\n",
      "Epoch 9/100\n"
     ]
    },
    {
     "data": {
      "application/vnd.jupyter.widget-view+json": {
       "model_id": "7e948ec6203343d0be06e391e3094794",
       "version_major": 2,
       "version_minor": 0
      },
      "text/plain": [
       "HBox(children=(FloatProgress(value=0.0, layout=Layout(flex='2'), max=5625.0), HTML(value='')), layout=Layout(d…"
      ]
     },
     "metadata": {},
     "output_type": "display_data"
    },
    {
     "name": "stdout",
     "output_type": "stream",
     "text": [
      "\n",
      "\n"
     ]
    }
   ],
   "source": [
    "# Setup callbacks. TQDM is used due to issues with the default progress bar on my TF2.1 installation.\n",
    "early_stopping = tf.keras.callbacks.EarlyStopping(patience=3, restore_best_weights=True)\n",
    "tqdm_callback = tfa.callbacks.TQDMProgressBar()\n",
    "\n",
    "# Optional: reinitialize the weights\n",
    "# ...\n",
    "# Optional: reset the optimizer state\n",
    "model.compile(optimizer=\"adam\", loss=\"mse\", metrics=[\"mse\"])\n",
    "\n",
    "# Train the best model on the full dataset\n",
    "history = model.fit(X, y, epochs=100, validation_split=0.1, verbose=0, callbacks=[early_stopping, tqdm_callback])"
   ]
  },
  {
   "cell_type": "code",
   "execution_count": 9,
   "metadata": {},
   "outputs": [
    {
     "name": "stdout",
     "output_type": "stream",
     "text": [
      "WARNING:tensorflow:From /usr/share/anaconda3/envs/tf21/lib/python3.7/site-packages/tensorflow_core/python/ops/resource_variable_ops.py:1786: calling BaseResourceVariable.__init__ (from tensorflow.python.ops.resource_variable_ops) with constraint is deprecated and will be removed in a future version.\n",
      "Instructions for updating:\n",
      "If using Keras pass *_constraint arguments to layers.\n",
      "INFO:tensorflow:Assets written to: noiseless_full.tf/assets\n"
     ]
    }
   ],
   "source": [
    "# Save the fully trained model\n",
    "tf.keras.models.save_model(model, 'noiseless_200k.tf', save_format='tf')"
   ]
  },
  {
   "cell_type": "code",
   "execution_count": 4,
   "metadata": {},
   "outputs": [],
   "source": [
    "# Optionally: reload the saved model\n",
    "model = tf.keras.models.load_model('noiseless_200k.tf')"
   ]
  },
  {
   "cell_type": "code",
   "execution_count": 5,
   "metadata": {},
   "outputs": [
    {
     "data": {
      "text/plain": [
       "array([489.7916    ,   0.03671913,   0.00371554,   0.00392448,\n",
       "         0.00340343], dtype=float32)"
      ]
     },
     "execution_count": 5,
     "metadata": {},
     "output_type": "execute_result"
    }
   ],
   "source": [
    "# Evaluate the model on the validation set\n",
    "n_train = int(label.shape[0] * 0.9)\n",
    "X_val = X[n_train:]\n",
    "label_val = label[n_train:]\n",
    "\n",
    "# Predict the labels and convert them to the original scale\n",
    "predictions = model.predict(X_val)\n",
    "predictions = scaler.inverse_transform(predictions)\n",
    "\n",
    "# Compute RMSE for each label individually\n",
    "np.set_printoptions(suppress=True)\n",
    "rmse = np.sqrt(((label_val - predictions)**2).mean(axis=0))\n",
    "rmse"
   ]
  },
  {
   "cell_type": "code",
   "execution_count": 6,
   "metadata": {},
   "outputs": [
    {
     "data": {
      "text/plain": [
       "array([48742.957     ,     1.5922561 ,     0.14061895,     0.2791248 ,\n",
       "           0.27738345], dtype=float32)"
      ]
     },
     "execution_count": 6,
     "metadata": {},
     "output_type": "execute_result"
    }
   ],
   "source": [
    "# Show the standard deviations of the labels for comparison\n",
    "label_val.std(axis=0)"
   ]
  },
  {
   "cell_type": "code",
   "execution_count": 7,
   "metadata": {},
   "outputs": [
    {
     "data": {
      "text/plain": [
       "array([0.01004846, 0.02306107, 0.02642274, 0.01405993, 0.01226977],\n",
       "      dtype=float32)"
      ]
     },
     "execution_count": 7,
     "metadata": {},
     "output_type": "execute_result"
    }
   ],
   "source": [
    "# RMSE / std. dev\n",
    "rmse / label_val.std(axis=0)"
   ]
  }
 ],
 "metadata": {
  "kernelspec": {
   "display_name": "Python (TF2.1)",
   "language": "python",
   "name": "tf21"
  },
  "language_info": {
   "codemirror_mode": {
    "name": "ipython",
    "version": 3
   },
   "file_extension": ".py",
   "mimetype": "text/x-python",
   "name": "python",
   "nbconvert_exporter": "python",
   "pygments_lexer": "ipython3",
   "version": "3.7.6"
  },
  "widgets": {
   "application/vnd.jupyter.widget-state+json": {
    "state": {
     "011ff52bf9b5434e81a487d02ef3cf94": {
      "model_module": "@jupyter-widgets/controls",
      "model_module_version": "1.5.0",
      "model_name": "FloatProgressModel",
      "state": {
       "_model_module_version": "1.5.0",
       "_view_module_version": "1.5.0",
       "bar_style": "success",
       "description": "5625/5625",
       "layout": "IPY_MODEL_8fd1311c82b14969a1f74c08c99c0931",
       "max": 5625,
       "style": "IPY_MODEL_a8ed59e241fd4595b179ac5104e9468c",
       "value": 5625
      }
     },
     "08302a0188a843719e253856109bcac2": {
      "model_module": "@jupyter-widgets/controls",
      "model_module_version": "1.5.0",
      "model_name": "FloatProgressModel",
      "state": {
       "_model_module_version": "1.5.0",
       "_view_module_version": "1.5.0",
       "bar_style": "danger",
       "description": "Training:   9%",
       "layout": "IPY_MODEL_95e167c3a64240d8893adaebd423c1fd",
       "style": "IPY_MODEL_76ca48721c424fefa106c9b0f8b33098",
       "value": 9
      }
     },
     "0b56d2aaa73e46aea3746a436de1bb87": {
      "model_module": "@jupyter-widgets/controls",
      "model_module_version": "1.5.0",
      "model_name": "DescriptionStyleModel",
      "state": {
       "_model_module_version": "1.5.0",
       "_view_module_version": "1.2.0",
       "description_width": ""
      }
     },
     "0fecbdf22f7444dbacacdc94759badb1": {
      "model_module": "@jupyter-widgets/base",
      "model_module_version": "1.2.0",
      "model_name": "LayoutModel",
      "state": {
       "_model_module_version": "1.2.0",
       "_view_module_version": "1.2.0",
       "justify_items": null,
       "object_fit": null,
       "object_position": null
      }
     },
     "11f287cbc7264de28eb022b7571e91a4": {
      "model_module": "@jupyter-widgets/base",
      "model_module_version": "1.2.0",
      "model_name": "LayoutModel",
      "state": {
       "_model_module_version": "1.2.0",
       "_view_module_version": "1.2.0",
       "display": "inline-flex",
       "flex_flow": "row wrap",
       "justify_items": null,
       "object_fit": null,
       "object_position": null,
       "width": "100%"
      }
     },
     "12d98c70f6bf43658be1b94076e1d194": {
      "model_module": "@jupyter-widgets/base",
      "model_module_version": "1.2.0",
      "model_name": "LayoutModel",
      "state": {
       "_model_module_version": "1.2.0",
       "_view_module_version": "1.2.0",
       "flex": "2",
       "justify_items": null,
       "object_fit": null,
       "object_position": null
      }
     },
     "14b3aa2ab51a4b9ebb44f7ca20fd30a8": {
      "model_module": "@jupyter-widgets/base",
      "model_module_version": "1.2.0",
      "model_name": "LayoutModel",
      "state": {
       "_model_module_version": "1.2.0",
       "_view_module_version": "1.2.0",
       "flex": "2",
       "justify_items": null,
       "object_fit": null,
       "object_position": null
      }
     },
     "152c63bbee104b11a34a079f0b5fa0e6": {
      "model_module": "@jupyter-widgets/base",
      "model_module_version": "1.2.0",
      "model_name": "LayoutModel",
      "state": {
       "_model_module_version": "1.2.0",
       "_view_module_version": "1.2.0",
       "justify_items": null,
       "object_fit": null,
       "object_position": null
      }
     },
     "18bca73fc2da49c9af7c09d301dd71df": {
      "model_module": "@jupyter-widgets/controls",
      "model_module_version": "1.5.0",
      "model_name": "DescriptionStyleModel",
      "state": {
       "_model_module_version": "1.5.0",
       "_view_module_version": "1.2.0",
       "description_width": ""
      }
     },
     "1b16fc58f66e48d885465da0582af10e": {
      "model_module": "@jupyter-widgets/controls",
      "model_module_version": "1.5.0",
      "model_name": "DescriptionStyleModel",
      "state": {
       "_model_module_version": "1.5.0",
       "_view_module_version": "1.2.0",
       "description_width": ""
      }
     },
     "1e089ae614544a609bf09a1a92033372": {
      "model_module": "@jupyter-widgets/base",
      "model_module_version": "1.2.0",
      "model_name": "LayoutModel",
      "state": {
       "_model_module_version": "1.2.0",
       "_view_module_version": "1.2.0",
       "display": "inline-flex",
       "flex_flow": "row wrap",
       "justify_items": null,
       "object_fit": null,
       "object_position": null,
       "width": "100%"
      }
     },
     "2472ae7e81bc4641b1474001ed2be1fd": {
      "model_module": "@jupyter-widgets/controls",
      "model_module_version": "1.5.0",
      "model_name": "FloatProgressModel",
      "state": {
       "_model_module_version": "1.5.0",
       "_view_module_version": "1.5.0",
       "bar_style": "success",
       "description": "5625/5625",
       "layout": "IPY_MODEL_e7785ed80107402f8bdbea3efafcbfdc",
       "max": 5625,
       "style": "IPY_MODEL_d2e54a6913d34c75b7bc5d7f159a0b3e",
       "value": 5625
      }
     },
     "269585222dc9404bab9e8e4029f30e70": {
      "model_module": "@jupyter-widgets/controls",
      "model_module_version": "1.5.0",
      "model_name": "DescriptionStyleModel",
      "state": {
       "_model_module_version": "1.5.0",
       "_view_module_version": "1.2.0",
       "description_width": ""
      }
     },
     "285877b40898467498dd8ee02853e93a": {
      "model_module": "@jupyter-widgets/base",
      "model_module_version": "1.2.0",
      "model_name": "LayoutModel",
      "state": {
       "_model_module_version": "1.2.0",
       "_view_module_version": "1.2.0",
       "justify_items": null,
       "object_fit": null,
       "object_position": null
      }
     },
     "2cb0a44a16b24cfeb607163d42f7020a": {
      "model_module": "@jupyter-widgets/controls",
      "model_module_version": "1.5.0",
      "model_name": "ProgressStyleModel",
      "state": {
       "_model_module_version": "1.5.0",
       "_view_module_version": "1.2.0",
       "description_width": "initial"
      }
     },
     "30c2f4021806475181a1047151d8a52a": {
      "model_module": "@jupyter-widgets/controls",
      "model_module_version": "1.5.0",
      "model_name": "HTMLModel",
      "state": {
       "_model_module_version": "1.5.0",
       "_view_module_version": "1.5.0",
       "layout": "IPY_MODEL_152c63bbee104b11a34a079f0b5fa0e6",
       "style": "IPY_MODEL_1b16fc58f66e48d885465da0582af10e",
       "value": " ETA: 00:00s - loss: 0.0004 - mse: 0.0004 - val_loss: 0.0003 - val_mse: 0.0003"
      }
     },
     "35521731430c42c18c9aaf80edc874ff": {
      "model_module": "@jupyter-widgets/base",
      "model_module_version": "1.2.0",
      "model_name": "LayoutModel",
      "state": {
       "_model_module_version": "1.2.0",
       "_view_module_version": "1.2.0",
       "display": "inline-flex",
       "flex_flow": "row wrap",
       "justify_items": null,
       "object_fit": null,
       "object_position": null,
       "width": "100%"
      }
     },
     "3bd4d7d8dace4263b88ec37f5974cebb": {
      "model_module": "@jupyter-widgets/controls",
      "model_module_version": "1.5.0",
      "model_name": "ProgressStyleModel",
      "state": {
       "_model_module_version": "1.5.0",
       "_view_module_version": "1.2.0",
       "description_width": "initial"
      }
     },
     "3ea1b7b810d445d7a9d9a96a50e58855": {
      "model_module": "@jupyter-widgets/base",
      "model_module_version": "1.2.0",
      "model_name": "LayoutModel",
      "state": {
       "_model_module_version": "1.2.0",
       "_view_module_version": "1.2.0",
       "display": "inline-flex",
       "flex_flow": "row wrap",
       "justify_items": null,
       "object_fit": null,
       "object_position": null,
       "width": "100%"
      }
     },
     "3eeb5ddb42b14cb4974c5fae161067db": {
      "model_module": "@jupyter-widgets/base",
      "model_module_version": "1.2.0",
      "model_name": "LayoutModel",
      "state": {
       "_model_module_version": "1.2.0",
       "_view_module_version": "1.2.0",
       "display": "inline-flex",
       "flex_flow": "row wrap",
       "justify_items": null,
       "object_fit": null,
       "object_position": null,
       "width": "100%"
      }
     },
     "4020cadec19a4189a608453c252e6c62": {
      "model_module": "@jupyter-widgets/controls",
      "model_module_version": "1.5.0",
      "model_name": "ProgressStyleModel",
      "state": {
       "_model_module_version": "1.5.0",
       "_view_module_version": "1.2.0",
       "description_width": "initial"
      }
     },
     "4354fb19af7045a494809f58cb8e7089": {
      "model_module": "@jupyter-widgets/controls",
      "model_module_version": "1.5.0",
      "model_name": "FloatProgressModel",
      "state": {
       "_model_module_version": "1.5.0",
       "_view_module_version": "1.5.0",
       "bar_style": "success",
       "description": "5625/5625",
       "layout": "IPY_MODEL_d110bdd278194e52ac45025d21bfe799",
       "max": 5625,
       "style": "IPY_MODEL_f4b296a010a4429fa84a4dd2dbc15374",
       "value": 5625
      }
     },
     "466bb3c6d0294416b59a054359aeb016": {
      "model_module": "@jupyter-widgets/controls",
      "model_module_version": "1.5.0",
      "model_name": "HBoxModel",
      "state": {
       "_model_module_version": "1.5.0",
       "_view_module_version": "1.5.0",
       "children": [
        "IPY_MODEL_5abdb466da18402eba02e3140840680a",
        "IPY_MODEL_30c2f4021806475181a1047151d8a52a"
       ],
       "layout": "IPY_MODEL_e9d073d7336a4bdaaa70bb1bec52682f"
      }
     },
     "469fa72ab02a4062af6ac910f6779da2": {
      "model_module": "@jupyter-widgets/controls",
      "model_module_version": "1.5.0",
      "model_name": "ProgressStyleModel",
      "state": {
       "_model_module_version": "1.5.0",
       "_view_module_version": "1.2.0",
       "description_width": "initial"
      }
     },
     "47f474c674aa4ed0aae12aaf15ac90ce": {
      "model_module": "@jupyter-widgets/controls",
      "model_module_version": "1.5.0",
      "model_name": "FloatProgressModel",
      "state": {
       "_model_module_version": "1.5.0",
       "_view_module_version": "1.5.0",
       "bar_style": "success",
       "description": "5625/5625",
       "layout": "IPY_MODEL_5349f64338e24363970abca5eb0aa9da",
       "max": 5625,
       "style": "IPY_MODEL_62489f5b1dbf45b3a4ccff3816c4bdd5",
       "value": 5625
      }
     },
     "4837d7e734d44cac9218410fff2e52de": {
      "model_module": "@jupyter-widgets/controls",
      "model_module_version": "1.5.0",
      "model_name": "ProgressStyleModel",
      "state": {
       "_model_module_version": "1.5.0",
       "_view_module_version": "1.2.0",
       "description_width": "initial"
      }
     },
     "48e7771898d04dbcb855e7e16db6a6a3": {
      "model_module": "@jupyter-widgets/base",
      "model_module_version": "1.2.0",
      "model_name": "LayoutModel",
      "state": {
       "_model_module_version": "1.2.0",
       "_view_module_version": "1.2.0",
       "display": "inline-flex",
       "flex_flow": "row wrap",
       "justify_items": null,
       "object_fit": null,
       "object_position": null,
       "width": "100%"
      }
     },
     "4d82106c6f544f72a3e167feba98fae0": {
      "model_module": "@jupyter-widgets/base",
      "model_module_version": "1.2.0",
      "model_name": "LayoutModel",
      "state": {
       "_model_module_version": "1.2.0",
       "_view_module_version": "1.2.0",
       "flex": "2",
       "justify_items": null,
       "object_fit": null,
       "object_position": null
      }
     },
     "4e4f5761e510463b88e929126c444fd1": {
      "model_module": "@jupyter-widgets/base",
      "model_module_version": "1.2.0",
      "model_name": "LayoutModel",
      "state": {
       "_model_module_version": "1.2.0",
       "_view_module_version": "1.2.0",
       "justify_items": null,
       "object_fit": null,
       "object_position": null
      }
     },
     "5349f64338e24363970abca5eb0aa9da": {
      "model_module": "@jupyter-widgets/base",
      "model_module_version": "1.2.0",
      "model_name": "LayoutModel",
      "state": {
       "_model_module_version": "1.2.0",
       "_view_module_version": "1.2.0",
       "flex": "2",
       "justify_items": null,
       "object_fit": null,
       "object_position": null
      }
     },
     "5a86be098dfa41269b4138ec5854ef2d": {
      "model_module": "@jupyter-widgets/base",
      "model_module_version": "1.2.0",
      "model_name": "LayoutModel",
      "state": {
       "_model_module_version": "1.2.0",
       "_view_module_version": "1.2.0",
       "justify_items": null,
       "object_fit": null,
       "object_position": null
      }
     },
     "5abdb466da18402eba02e3140840680a": {
      "model_module": "@jupyter-widgets/controls",
      "model_module_version": "1.5.0",
      "model_name": "FloatProgressModel",
      "state": {
       "_model_module_version": "1.5.0",
       "_view_module_version": "1.5.0",
       "bar_style": "success",
       "description": "5625/5625",
       "layout": "IPY_MODEL_7120f3bb970a4fbcb9cd195e964231dc",
       "max": 5625,
       "style": "IPY_MODEL_2cb0a44a16b24cfeb607163d42f7020a",
       "value": 5625
      }
     },
     "5b12e800468b4d5ab88f7ca0c34e4544": {
      "model_module": "@jupyter-widgets/base",
      "model_module_version": "1.2.0",
      "model_name": "LayoutModel",
      "state": {
       "_model_module_version": "1.2.0",
       "_view_module_version": "1.2.0",
       "display": "inline-flex",
       "flex_flow": "row wrap",
       "justify_items": null,
       "object_fit": null,
       "object_position": null,
       "width": "100%"
      }
     },
     "5e49d3d55ce640fab40517b9e842ef6c": {
      "model_module": "@jupyter-widgets/controls",
      "model_module_version": "1.5.0",
      "model_name": "DescriptionStyleModel",
      "state": {
       "_model_module_version": "1.5.0",
       "_view_module_version": "1.2.0",
       "description_width": ""
      }
     },
     "5e97e805379446fc9d3a679c5363800f": {
      "model_module": "@jupyter-widgets/controls",
      "model_module_version": "1.5.0",
      "model_name": "DescriptionStyleModel",
      "state": {
       "_model_module_version": "1.5.0",
       "_view_module_version": "1.2.0",
       "description_width": ""
      }
     },
     "617f75c5bbf24cce9fbabb80e1842dae": {
      "model_module": "@jupyter-widgets/controls",
      "model_module_version": "1.5.0",
      "model_name": "FloatProgressModel",
      "state": {
       "_model_module_version": "1.5.0",
       "_view_module_version": "1.5.0",
       "bar_style": "danger",
       "description": "Training:   1%",
       "layout": "IPY_MODEL_d3ea43ea7ad946ae8776bcb578685c48",
       "style": "IPY_MODEL_95f327c7fe4b4c2b8e1da2fca69ac461",
       "value": 1
      }
     },
     "62489f5b1dbf45b3a4ccff3816c4bdd5": {
      "model_module": "@jupyter-widgets/controls",
      "model_module_version": "1.5.0",
      "model_name": "ProgressStyleModel",
      "state": {
       "_model_module_version": "1.5.0",
       "_view_module_version": "1.2.0",
       "description_width": "initial"
      }
     },
     "6685b5701ac54960a3c80b88b4fbc3d8": {
      "model_module": "@jupyter-widgets/base",
      "model_module_version": "1.2.0",
      "model_name": "LayoutModel",
      "state": {
       "_model_module_version": "1.2.0",
       "_view_module_version": "1.2.0",
       "justify_items": null,
       "object_fit": null,
       "object_position": null
      }
     },
     "6abb635ece4f49efae639f8a24020dae": {
      "model_module": "@jupyter-widgets/controls",
      "model_module_version": "1.5.0",
      "model_name": "ProgressStyleModel",
      "state": {
       "_model_module_version": "1.5.0",
       "_view_module_version": "1.2.0",
       "description_width": "initial"
      }
     },
     "6e043acd89ec4cca8a4cb626c6d420f7": {
      "model_module": "@jupyter-widgets/controls",
      "model_module_version": "1.5.0",
      "model_name": "HTMLModel",
      "state": {
       "_model_module_version": "1.5.0",
       "_view_module_version": "1.5.0",
       "layout": "IPY_MODEL_c2501bba27074a929e31f02e688ed040",
       "style": "IPY_MODEL_e9c1964940c04c37a91d3c2bd05ab21e",
       "value": " ETA: 00:00s - loss: 0.0002 - mse: 0.0002 - val_loss: 0.0002 - val_mse: 0.0002"
      }
     },
     "6e18e8198e034585895502519961f35c": {
      "model_module": "@jupyter-widgets/controls",
      "model_module_version": "1.5.0",
      "model_name": "HBoxModel",
      "state": {
       "_model_module_version": "1.5.0",
       "_view_module_version": "1.5.0",
       "children": [
        "IPY_MODEL_9d939f27596447068b0bef0499c238f2",
        "IPY_MODEL_911e75eadf434ea79b83472a57956059"
       ],
       "layout": "IPY_MODEL_da65386272dc4774b11cfe67b0b41c99"
      }
     },
     "7120f3bb970a4fbcb9cd195e964231dc": {
      "model_module": "@jupyter-widgets/base",
      "model_module_version": "1.2.0",
      "model_name": "LayoutModel",
      "state": {
       "_model_module_version": "1.2.0",
       "_view_module_version": "1.2.0",
       "flex": "2",
       "justify_items": null,
       "object_fit": null,
       "object_position": null
      }
     },
     "73cb87a4bb234948ace7ebc32b112c39": {
      "model_module": "@jupyter-widgets/controls",
      "model_module_version": "1.5.0",
      "model_name": "HBoxModel",
      "state": {
       "_model_module_version": "1.5.0",
       "_view_module_version": "1.5.0",
       "children": [
        "IPY_MODEL_92812a3ed31743c4af51e7a853198095",
        "IPY_MODEL_8fda4bb9f50445d6aa72e0bb2a4dcc2f"
       ],
       "layout": "IPY_MODEL_3ea1b7b810d445d7a9d9a96a50e58855"
      }
     },
     "7540761103c34d9eb2ec6b8a6f50a21d": {
      "model_module": "@jupyter-widgets/base",
      "model_module_version": "1.2.0",
      "model_name": "LayoutModel",
      "state": {
       "_model_module_version": "1.2.0",
       "_view_module_version": "1.2.0",
       "justify_items": null,
       "object_fit": null,
       "object_position": null
      }
     },
     "76ca48721c424fefa106c9b0f8b33098": {
      "model_module": "@jupyter-widgets/controls",
      "model_module_version": "1.5.0",
      "model_name": "ProgressStyleModel",
      "state": {
       "_model_module_version": "1.5.0",
       "_view_module_version": "1.2.0",
       "description_width": "initial"
      }
     },
     "7ae949c722134ecfb3fe9750b12e88a5": {
      "model_module": "@jupyter-widgets/controls",
      "model_module_version": "1.5.0",
      "model_name": "HTMLModel",
      "state": {
       "_model_module_version": "1.5.0",
       "_view_module_version": "1.5.0",
       "layout": "IPY_MODEL_7540761103c34d9eb2ec6b8a6f50a21d",
       "style": "IPY_MODEL_f9c36af073e54353b3988bbc98f17e24",
       "value": " ETA: 00:00s - loss: 0.0007 - mse: 0.0007 - val_loss: 0.0006 - val_mse: 0.0006"
      }
     },
     "7b44208302f34316a7a43ef333cc065e": {
      "model_module": "@jupyter-widgets/base",
      "model_module_version": "1.2.0",
      "model_name": "LayoutModel",
      "state": {
       "_model_module_version": "1.2.0",
       "_view_module_version": "1.2.0",
       "display": "inline-flex",
       "flex_flow": "row wrap",
       "justify_items": null,
       "object_fit": null,
       "object_position": null,
       "width": "100%"
      }
     },
     "7cb1d2e221164b42b20ab1f858818ca6": {
      "model_module": "@jupyter-widgets/controls",
      "model_module_version": "1.5.0",
      "model_name": "HTMLModel",
      "state": {
       "_model_module_version": "1.5.0",
       "_view_module_version": "1.5.0",
       "layout": "IPY_MODEL_4e4f5761e510463b88e929126c444fd1",
       "style": "IPY_MODEL_269585222dc9404bab9e8e4029f30e70",
       "value": " ETA: 00:00s - loss: 0.0137 - mse: 0.0150"
      }
     },
     "7d172ec5a4a448cbbc83a97f4bdb23fb": {
      "model_module": "@jupyter-widgets/controls",
      "model_module_version": "1.5.0",
      "model_name": "FloatProgressModel",
      "state": {
       "_model_module_version": "1.5.0",
       "_view_module_version": "1.5.0",
       "bar_style": "success",
       "description": "5625/5625",
       "layout": "IPY_MODEL_8e2fd31bf6bc43be960ce3cc8917973f",
       "max": 5625,
       "style": "IPY_MODEL_469fa72ab02a4062af6ac910f6779da2",
       "value": 5625
      }
     },
     "7dad28df09a34022806956f9c2ff9a3f": {
      "model_module": "@jupyter-widgets/controls",
      "model_module_version": "1.5.0",
      "model_name": "HBoxModel",
      "state": {
       "_model_module_version": "1.5.0",
       "_view_module_version": "1.5.0",
       "children": [
        "IPY_MODEL_7d172ec5a4a448cbbc83a97f4bdb23fb",
        "IPY_MODEL_927f5129eb8045b4817336147957c0f7"
       ],
       "layout": "IPY_MODEL_11f287cbc7264de28eb022b7571e91a4"
      }
     },
     "7e948ec6203343d0be06e391e3094794": {
      "model_module": "@jupyter-widgets/controls",
      "model_module_version": "1.5.0",
      "model_name": "HBoxModel",
      "state": {
       "_model_module_version": "1.5.0",
       "_view_module_version": "1.5.0",
       "children": [
        "IPY_MODEL_92e5b5b9b9294083a3ab559dc7c76f63",
        "IPY_MODEL_f895ee89002b4484b7e15ebe02455c58"
       ],
       "layout": "IPY_MODEL_a330b650d0674a32a338ca145fb36d8c"
      }
     },
     "8da8cc46892b499c98d9cdbc7ae510df": {
      "model_module": "@jupyter-widgets/base",
      "model_module_version": "1.2.0",
      "model_name": "LayoutModel",
      "state": {
       "_model_module_version": "1.2.0",
       "_view_module_version": "1.2.0",
       "display": "inline-flex",
       "flex_flow": "row wrap",
       "justify_items": null,
       "object_fit": null,
       "object_position": null,
       "width": "100%"
      }
     },
     "8e2fd31bf6bc43be960ce3cc8917973f": {
      "model_module": "@jupyter-widgets/base",
      "model_module_version": "1.2.0",
      "model_name": "LayoutModel",
      "state": {
       "_model_module_version": "1.2.0",
       "_view_module_version": "1.2.0",
       "flex": "2",
       "justify_items": null,
       "object_fit": null,
       "object_position": null
      }
     },
     "8fd1311c82b14969a1f74c08c99c0931": {
      "model_module": "@jupyter-widgets/base",
      "model_module_version": "1.2.0",
      "model_name": "LayoutModel",
      "state": {
       "_model_module_version": "1.2.0",
       "_view_module_version": "1.2.0",
       "flex": "2",
       "justify_items": null,
       "object_fit": null,
       "object_position": null
      }
     },
     "8fda4bb9f50445d6aa72e0bb2a4dcc2f": {
      "model_module": "@jupyter-widgets/controls",
      "model_module_version": "1.5.0",
      "model_name": "HTMLModel",
      "state": {
       "_model_module_version": "1.5.0",
       "_view_module_version": "1.5.0",
       "layout": "IPY_MODEL_6685b5701ac54960a3c80b88b4fbc3d8",
       "style": "IPY_MODEL_e3784b84164741bcba8bdd117575e8a5",
       "value": " ETA: 00:00s - loss: 0.0022 - mse: 0.0022"
      }
     },
     "911e75eadf434ea79b83472a57956059": {
      "model_module": "@jupyter-widgets/controls",
      "model_module_version": "1.5.0",
      "model_name": "HTMLModel",
      "state": {
       "_model_module_version": "1.5.0",
       "_view_module_version": "1.5.0",
       "layout": "IPY_MODEL_a6dbb13be48f497e8a6df4b38edc014b",
       "style": "IPY_MODEL_ab4ef7b6eafc4c83bb7d6daed0d0d00f",
       "value": " ETA: 00:00s - loss: 0.0005 - mse: 0.0005 - val_loss: 0.0003 - val_mse: 0.0003"
      }
     },
     "927f5129eb8045b4817336147957c0f7": {
      "model_module": "@jupyter-widgets/controls",
      "model_module_version": "1.5.0",
      "model_name": "HTMLModel",
      "state": {
       "_model_module_version": "1.5.0",
       "_view_module_version": "1.5.0",
       "layout": "IPY_MODEL_f02dcfae10824c4da238421dd2bebd8e",
       "style": "IPY_MODEL_0b56d2aaa73e46aea3746a436de1bb87",
       "value": " ETA: 00:00s - loss: 0.0003 - mse: 0.0003 - val_loss: 0.0001 - val_mse: 0.0001"
      }
     },
     "92812a3ed31743c4af51e7a853198095": {
      "model_module": "@jupyter-widgets/controls",
      "model_module_version": "1.5.0",
      "model_name": "FloatProgressModel",
      "state": {
       "_model_module_version": "1.5.0",
       "_view_module_version": "1.5.0",
       "bar_style": "success",
       "description": "5625/5625",
       "layout": "IPY_MODEL_14b3aa2ab51a4b9ebb44f7ca20fd30a8",
       "max": 5625,
       "style": "IPY_MODEL_b242b1358eb941c481f651451723b6da",
       "value": 5625
      }
     },
     "92e5b5b9b9294083a3ab559dc7c76f63": {
      "model_module": "@jupyter-widgets/controls",
      "model_module_version": "1.5.0",
      "model_name": "FloatProgressModel",
      "state": {
       "_model_module_version": "1.5.0",
       "_view_module_version": "1.5.0",
       "bar_style": "success",
       "description": "5625/5625",
       "layout": "IPY_MODEL_e2bbf92121384546964a2264ecd84353",
       "max": 5625,
       "style": "IPY_MODEL_3bd4d7d8dace4263b88ec37f5974cebb",
       "value": 5625
      }
     },
     "95e167c3a64240d8893adaebd423c1fd": {
      "model_module": "@jupyter-widgets/base",
      "model_module_version": "1.2.0",
      "model_name": "LayoutModel",
      "state": {
       "_model_module_version": "1.2.0",
       "_view_module_version": "1.2.0",
       "flex": "2",
       "justify_items": null,
       "object_fit": null,
       "object_position": null
      }
     },
     "95f327c7fe4b4c2b8e1da2fca69ac461": {
      "model_module": "@jupyter-widgets/controls",
      "model_module_version": "1.5.0",
      "model_name": "ProgressStyleModel",
      "state": {
       "_model_module_version": "1.5.0",
       "_view_module_version": "1.2.0",
       "description_width": "initial"
      }
     },
     "983af9ceb6d54d26b67e548899cf1eab": {
      "model_module": "@jupyter-widgets/controls",
      "model_module_version": "1.5.0",
      "model_name": "HTMLModel",
      "state": {
       "_model_module_version": "1.5.0",
       "_view_module_version": "1.5.0",
       "layout": "IPY_MODEL_5a86be098dfa41269b4138ec5854ef2d",
       "style": "IPY_MODEL_b1b1b2e74bda4ea1adbfc13a841ea6d0",
       "value": " 1/100 ETA: 2:51:14s,  103.78s/epochs"
      }
     },
     "9a6d4456b33c48b0aa61e7401efae753": {
      "model_module": "@jupyter-widgets/base",
      "model_module_version": "1.2.0",
      "model_name": "LayoutModel",
      "state": {
       "_model_module_version": "1.2.0",
       "_view_module_version": "1.2.0",
       "flex": "2",
       "justify_items": null,
       "object_fit": null,
       "object_position": null
      }
     },
     "9d939f27596447068b0bef0499c238f2": {
      "model_module": "@jupyter-widgets/controls",
      "model_module_version": "1.5.0",
      "model_name": "FloatProgressModel",
      "state": {
       "_model_module_version": "1.5.0",
       "_view_module_version": "1.5.0",
       "bar_style": "success",
       "description": "5625/5625",
       "layout": "IPY_MODEL_12d98c70f6bf43658be1b94076e1d194",
       "max": 5625,
       "style": "IPY_MODEL_4837d7e734d44cac9218410fff2e52de",
       "value": 5625
      }
     },
     "a330b650d0674a32a338ca145fb36d8c": {
      "model_module": "@jupyter-widgets/base",
      "model_module_version": "1.2.0",
      "model_name": "LayoutModel",
      "state": {
       "_model_module_version": "1.2.0",
       "_view_module_version": "1.2.0",
       "display": "inline-flex",
       "flex_flow": "row wrap",
       "justify_items": null,
       "object_fit": null,
       "object_position": null,
       "width": "100%"
      }
     },
     "a664f28cd6574428824c5fffbf5fb629": {
      "model_module": "@jupyter-widgets/base",
      "model_module_version": "1.2.0",
      "model_name": "LayoutModel",
      "state": {
       "_model_module_version": "1.2.0",
       "_view_module_version": "1.2.0",
       "justify_items": null,
       "object_fit": null,
       "object_position": null
      }
     },
     "a6dbb13be48f497e8a6df4b38edc014b": {
      "model_module": "@jupyter-widgets/base",
      "model_module_version": "1.2.0",
      "model_name": "LayoutModel",
      "state": {
       "_model_module_version": "1.2.0",
       "_view_module_version": "1.2.0",
       "justify_items": null,
       "object_fit": null,
       "object_position": null
      }
     },
     "a8ed59e241fd4595b179ac5104e9468c": {
      "model_module": "@jupyter-widgets/controls",
      "model_module_version": "1.5.0",
      "model_name": "ProgressStyleModel",
      "state": {
       "_model_module_version": "1.5.0",
       "_view_module_version": "1.2.0",
       "description_width": "initial"
      }
     },
     "ab2158a322544b308ab1c4b98d808f6b": {
      "model_module": "@jupyter-widgets/controls",
      "model_module_version": "1.5.0",
      "model_name": "FloatProgressModel",
      "state": {
       "_model_module_version": "1.5.0",
       "_view_module_version": "1.5.0",
       "bar_style": "success",
       "description": "5000/5000",
       "layout": "IPY_MODEL_4d82106c6f544f72a3e167feba98fae0",
       "max": 5000,
       "style": "IPY_MODEL_bdbc6896bb984f74b5cc7ead9ca078a4",
       "value": 5000
      }
     },
     "ab4ef7b6eafc4c83bb7d6daed0d0d00f": {
      "model_module": "@jupyter-widgets/controls",
      "model_module_version": "1.5.0",
      "model_name": "DescriptionStyleModel",
      "state": {
       "_model_module_version": "1.5.0",
       "_view_module_version": "1.2.0",
       "description_width": ""
      }
     },
     "b128826fc1c247e9ab73b0c3c0b37e6e": {
      "model_module": "@jupyter-widgets/controls",
      "model_module_version": "1.5.0",
      "model_name": "HTMLModel",
      "state": {
       "_model_module_version": "1.5.0",
       "_view_module_version": "1.5.0",
       "layout": "IPY_MODEL_ba7aa58b54eb4f9cb2a3c5d5965f7cb4",
       "style": "IPY_MODEL_18bca73fc2da49c9af7c09d301dd71df",
       "value": " ETA: 00:00s - loss: 0.0003 - mse: 0.0003 - val_loss: 0.0002 - val_mse: 0.0002"
      }
     },
     "b1b1b2e74bda4ea1adbfc13a841ea6d0": {
      "model_module": "@jupyter-widgets/controls",
      "model_module_version": "1.5.0",
      "model_name": "DescriptionStyleModel",
      "state": {
       "_model_module_version": "1.5.0",
       "_view_module_version": "1.2.0",
       "description_width": ""
      }
     },
     "b242b1358eb941c481f651451723b6da": {
      "model_module": "@jupyter-widgets/controls",
      "model_module_version": "1.5.0",
      "model_name": "ProgressStyleModel",
      "state": {
       "_model_module_version": "1.5.0",
       "_view_module_version": "1.2.0",
       "description_width": "initial"
      }
     },
     "b8f297696e904495a75e34df8cba140e": {
      "model_module": "@jupyter-widgets/controls",
      "model_module_version": "1.5.0",
      "model_name": "HTMLModel",
      "state": {
       "_model_module_version": "1.5.0",
       "_view_module_version": "1.5.0",
       "layout": "IPY_MODEL_a664f28cd6574428824c5fffbf5fb629",
       "style": "IPY_MODEL_5e97e805379446fc9d3a679c5363800f",
       "value": " 1/100 ETA: 15:36s,   9.46s/epochs"
      }
     },
     "ba7aa58b54eb4f9cb2a3c5d5965f7cb4": {
      "model_module": "@jupyter-widgets/base",
      "model_module_version": "1.2.0",
      "model_name": "LayoutModel",
      "state": {
       "_model_module_version": "1.2.0",
       "_view_module_version": "1.2.0",
       "justify_items": null,
       "object_fit": null,
       "object_position": null
      }
     },
     "bdbc6896bb984f74b5cc7ead9ca078a4": {
      "model_module": "@jupyter-widgets/controls",
      "model_module_version": "1.5.0",
      "model_name": "ProgressStyleModel",
      "state": {
       "_model_module_version": "1.5.0",
       "_view_module_version": "1.2.0",
       "description_width": "initial"
      }
     },
     "be85f91d01c0487aa01dee2ed35f74a1": {
      "model_module": "@jupyter-widgets/controls",
      "model_module_version": "1.5.0",
      "model_name": "HBoxModel",
      "state": {
       "_model_module_version": "1.5.0",
       "_view_module_version": "1.5.0",
       "children": [
        "IPY_MODEL_617f75c5bbf24cce9fbabb80e1842dae",
        "IPY_MODEL_983af9ceb6d54d26b67e548899cf1eab"
       ],
       "layout": "IPY_MODEL_7b44208302f34316a7a43ef333cc065e"
      }
     },
     "c2501bba27074a929e31f02e688ed040": {
      "model_module": "@jupyter-widgets/base",
      "model_module_version": "1.2.0",
      "model_name": "LayoutModel",
      "state": {
       "_model_module_version": "1.2.0",
       "_view_module_version": "1.2.0",
       "justify_items": null,
       "object_fit": null,
       "object_position": null
      }
     },
     "c45608a3d403488a83c427602c2808ee": {
      "model_module": "@jupyter-widgets/controls",
      "model_module_version": "1.5.0",
      "model_name": "HTMLModel",
      "state": {
       "_model_module_version": "1.5.0",
       "_view_module_version": "1.5.0",
       "layout": "IPY_MODEL_da83d665bf9a4b6aab4513679b467c51",
       "style": "IPY_MODEL_cebeb37df1ca42a6a9c571f981d3b74f",
       "value": " ETA: 00:00s - loss: 0.0011 - mse: 0.0011 - val_loss: 0.0004 - val_mse: 0.0004"
      }
     },
     "c7e9dcc7742d4b7288d9a78804e49540": {
      "model_module": "@jupyter-widgets/controls",
      "model_module_version": "1.5.0",
      "model_name": "HBoxModel",
      "state": {
       "_model_module_version": "1.5.0",
       "_view_module_version": "1.5.0",
       "children": [
        "IPY_MODEL_4354fb19af7045a494809f58cb8e7089",
        "IPY_MODEL_cad5ff9f81a44d009575345c425463b3"
       ],
       "layout": "IPY_MODEL_fff7ae4b248840788cecd27ebfae8743"
      }
     },
     "c7fb4205e395418bb9c95a1648784dc5": {
      "model_module": "@jupyter-widgets/controls",
      "model_module_version": "1.5.0",
      "model_name": "HBoxModel",
      "state": {
       "_model_module_version": "1.5.0",
       "_view_module_version": "1.5.0",
       "children": [
        "IPY_MODEL_47f474c674aa4ed0aae12aaf15ac90ce",
        "IPY_MODEL_7ae949c722134ecfb3fe9750b12e88a5"
       ],
       "layout": "IPY_MODEL_f3be1db59a2d47e7bb5fc47dc6266f90"
      }
     },
     "c8d12b5addbe49b7a6d41cd9d0485610": {
      "model_module": "@jupyter-widgets/controls",
      "model_module_version": "1.5.0",
      "model_name": "FloatProgressModel",
      "state": {
       "_model_module_version": "1.5.0",
       "_view_module_version": "1.5.0",
       "bar_style": "success",
       "description": "5625/5625",
       "layout": "IPY_MODEL_fc8433ae5b0040a68c5ead3f69a8eeed",
       "max": 5625,
       "style": "IPY_MODEL_4020cadec19a4189a608453c252e6c62",
       "value": 5625
      }
     },
     "cad5ff9f81a44d009575345c425463b3": {
      "model_module": "@jupyter-widgets/controls",
      "model_module_version": "1.5.0",
      "model_name": "HTMLModel",
      "state": {
       "_model_module_version": "1.5.0",
       "_view_module_version": "1.5.0",
       "layout": "IPY_MODEL_d514b88312c942a1b21fd59b125f8ea0",
       "style": "IPY_MODEL_5e49d3d55ce640fab40517b9e842ef6c",
       "value": " ETA: 00:00s - loss: 0.0002 - mse: 0.0002 - val_loss: 0.0004 - val_mse: 0.0004"
      }
     },
     "cebeb37df1ca42a6a9c571f981d3b74f": {
      "model_module": "@jupyter-widgets/controls",
      "model_module_version": "1.5.0",
      "model_name": "DescriptionStyleModel",
      "state": {
       "_model_module_version": "1.5.0",
       "_view_module_version": "1.2.0",
       "description_width": ""
      }
     },
     "d110bdd278194e52ac45025d21bfe799": {
      "model_module": "@jupyter-widgets/base",
      "model_module_version": "1.2.0",
      "model_name": "LayoutModel",
      "state": {
       "_model_module_version": "1.2.0",
       "_view_module_version": "1.2.0",
       "flex": "2",
       "justify_items": null,
       "object_fit": null,
       "object_position": null
      }
     },
     "d2e54a6913d34c75b7bc5d7f159a0b3e": {
      "model_module": "@jupyter-widgets/controls",
      "model_module_version": "1.5.0",
      "model_name": "ProgressStyleModel",
      "state": {
       "_model_module_version": "1.5.0",
       "_view_module_version": "1.2.0",
       "description_width": "initial"
      }
     },
     "d34f595ee5064be7981329bbff015606": {
      "model_module": "@jupyter-widgets/controls",
      "model_module_version": "1.5.0",
      "model_name": "FloatProgressModel",
      "state": {
       "_model_module_version": "1.5.0",
       "_view_module_version": "1.5.0",
       "bar_style": "danger",
       "description": "Training:   1%",
       "layout": "IPY_MODEL_9a6d4456b33c48b0aa61e7401efae753",
       "style": "IPY_MODEL_6abb635ece4f49efae639f8a24020dae",
       "value": 1
      }
     },
     "d3e25f41ce0b4735b24b720f75bca002": {
      "model_module": "@jupyter-widgets/controls",
      "model_module_version": "1.5.0",
      "model_name": "HBoxModel",
      "state": {
       "_model_module_version": "1.5.0",
       "_view_module_version": "1.5.0",
       "children": [
        "IPY_MODEL_2472ae7e81bc4641b1474001ed2be1fd",
        "IPY_MODEL_6e043acd89ec4cca8a4cb626c6d420f7"
       ],
       "layout": "IPY_MODEL_5b12e800468b4d5ab88f7ca0c34e4544"
      }
     },
     "d3ea43ea7ad946ae8776bcb578685c48": {
      "model_module": "@jupyter-widgets/base",
      "model_module_version": "1.2.0",
      "model_name": "LayoutModel",
      "state": {
       "_model_module_version": "1.2.0",
       "_view_module_version": "1.2.0",
       "flex": "2",
       "justify_items": null,
       "object_fit": null,
       "object_position": null
      }
     },
     "d514b88312c942a1b21fd59b125f8ea0": {
      "model_module": "@jupyter-widgets/base",
      "model_module_version": "1.2.0",
      "model_name": "LayoutModel",
      "state": {
       "_model_module_version": "1.2.0",
       "_view_module_version": "1.2.0",
       "justify_items": null,
       "object_fit": null,
       "object_position": null
      }
     },
     "d877808952d24322ba123c0a1b61268f": {
      "model_module": "@jupyter-widgets/controls",
      "model_module_version": "1.5.0",
      "model_name": "DescriptionStyleModel",
      "state": {
       "_model_module_version": "1.5.0",
       "_view_module_version": "1.2.0",
       "description_width": ""
      }
     },
     "d8fc3eee5e2e4fecb3d77bf758bdcb41": {
      "model_module": "@jupyter-widgets/controls",
      "model_module_version": "1.5.0",
      "model_name": "HBoxModel",
      "state": {
       "_model_module_version": "1.5.0",
       "_view_module_version": "1.5.0",
       "children": [
        "IPY_MODEL_c8d12b5addbe49b7a6d41cd9d0485610",
        "IPY_MODEL_b128826fc1c247e9ab73b0c3c0b37e6e"
       ],
       "layout": "IPY_MODEL_48e7771898d04dbcb855e7e16db6a6a3"
      }
     },
     "da65386272dc4774b11cfe67b0b41c99": {
      "model_module": "@jupyter-widgets/base",
      "model_module_version": "1.2.0",
      "model_name": "LayoutModel",
      "state": {
       "_model_module_version": "1.2.0",
       "_view_module_version": "1.2.0",
       "display": "inline-flex",
       "flex_flow": "row wrap",
       "justify_items": null,
       "object_fit": null,
       "object_position": null,
       "width": "100%"
      }
     },
     "da83d665bf9a4b6aab4513679b467c51": {
      "model_module": "@jupyter-widgets/base",
      "model_module_version": "1.2.0",
      "model_name": "LayoutModel",
      "state": {
       "_model_module_version": "1.2.0",
       "_view_module_version": "1.2.0",
       "justify_items": null,
       "object_fit": null,
       "object_position": null
      }
     },
     "e09f13e0f9bd4eb19769daf1b492e9ab": {
      "model_module": "@jupyter-widgets/controls",
      "model_module_version": "1.5.0",
      "model_name": "HBoxModel",
      "state": {
       "_model_module_version": "1.5.0",
       "_view_module_version": "1.5.0",
       "children": [
        "IPY_MODEL_011ff52bf9b5434e81a487d02ef3cf94",
        "IPY_MODEL_c45608a3d403488a83c427602c2808ee"
       ],
       "layout": "IPY_MODEL_8da8cc46892b499c98d9cdbc7ae510df"
      }
     },
     "e18d08df877445ae8bbeb593a65bfb5d": {
      "model_module": "@jupyter-widgets/controls",
      "model_module_version": "1.5.0",
      "model_name": "HBoxModel",
      "state": {
       "_model_module_version": "1.5.0",
       "_view_module_version": "1.5.0",
       "children": [
        "IPY_MODEL_ab2158a322544b308ab1c4b98d808f6b",
        "IPY_MODEL_7cb1d2e221164b42b20ab1f858818ca6"
       ],
       "layout": "IPY_MODEL_3eeb5ddb42b14cb4974c5fae161067db"
      }
     },
     "e2273ee4654a4f6cb13aa78e5097e12a": {
      "model_module": "@jupyter-widgets/controls",
      "model_module_version": "1.5.0",
      "model_name": "DescriptionStyleModel",
      "state": {
       "_model_module_version": "1.5.0",
       "_view_module_version": "1.2.0",
       "description_width": ""
      }
     },
     "e2bbf92121384546964a2264ecd84353": {
      "model_module": "@jupyter-widgets/base",
      "model_module_version": "1.2.0",
      "model_name": "LayoutModel",
      "state": {
       "_model_module_version": "1.2.0",
       "_view_module_version": "1.2.0",
       "flex": "2",
       "justify_items": null,
       "object_fit": null,
       "object_position": null
      }
     },
     "e3784b84164741bcba8bdd117575e8a5": {
      "model_module": "@jupyter-widgets/controls",
      "model_module_version": "1.5.0",
      "model_name": "DescriptionStyleModel",
      "state": {
       "_model_module_version": "1.5.0",
       "_view_module_version": "1.2.0",
       "description_width": ""
      }
     },
     "e457f5b00d764b3d882c97f928b75d36": {
      "model_module": "@jupyter-widgets/controls",
      "model_module_version": "1.5.0",
      "model_name": "HBoxModel",
      "state": {
       "_model_module_version": "1.5.0",
       "_view_module_version": "1.5.0",
       "children": [
        "IPY_MODEL_d34f595ee5064be7981329bbff015606",
        "IPY_MODEL_b8f297696e904495a75e34df8cba140e"
       ],
       "layout": "IPY_MODEL_1e089ae614544a609bf09a1a92033372"
      }
     },
     "e7785ed80107402f8bdbea3efafcbfdc": {
      "model_module": "@jupyter-widgets/base",
      "model_module_version": "1.2.0",
      "model_name": "LayoutModel",
      "state": {
       "_model_module_version": "1.2.0",
       "_view_module_version": "1.2.0",
       "flex": "2",
       "justify_items": null,
       "object_fit": null,
       "object_position": null
      }
     },
     "e9c1964940c04c37a91d3c2bd05ab21e": {
      "model_module": "@jupyter-widgets/controls",
      "model_module_version": "1.5.0",
      "model_name": "DescriptionStyleModel",
      "state": {
       "_model_module_version": "1.5.0",
       "_view_module_version": "1.2.0",
       "description_width": ""
      }
     },
     "e9d073d7336a4bdaaa70bb1bec52682f": {
      "model_module": "@jupyter-widgets/base",
      "model_module_version": "1.2.0",
      "model_name": "LayoutModel",
      "state": {
       "_model_module_version": "1.2.0",
       "_view_module_version": "1.2.0",
       "display": "inline-flex",
       "flex_flow": "row wrap",
       "justify_items": null,
       "object_fit": null,
       "object_position": null,
       "width": "100%"
      }
     },
     "f02dcfae10824c4da238421dd2bebd8e": {
      "model_module": "@jupyter-widgets/base",
      "model_module_version": "1.2.0",
      "model_name": "LayoutModel",
      "state": {
       "_model_module_version": "1.2.0",
       "_view_module_version": "1.2.0",
       "justify_items": null,
       "object_fit": null,
       "object_position": null
      }
     },
     "f3be1db59a2d47e7bb5fc47dc6266f90": {
      "model_module": "@jupyter-widgets/base",
      "model_module_version": "1.2.0",
      "model_name": "LayoutModel",
      "state": {
       "_model_module_version": "1.2.0",
       "_view_module_version": "1.2.0",
       "display": "inline-flex",
       "flex_flow": "row wrap",
       "justify_items": null,
       "object_fit": null,
       "object_position": null,
       "width": "100%"
      }
     },
     "f4b296a010a4429fa84a4dd2dbc15374": {
      "model_module": "@jupyter-widgets/controls",
      "model_module_version": "1.5.0",
      "model_name": "ProgressStyleModel",
      "state": {
       "_model_module_version": "1.5.0",
       "_view_module_version": "1.2.0",
       "description_width": "initial"
      }
     },
     "f54b6e7addf24ca896dba691f3b2e69d": {
      "model_module": "@jupyter-widgets/controls",
      "model_module_version": "1.5.0",
      "model_name": "HBoxModel",
      "state": {
       "_model_module_version": "1.5.0",
       "_view_module_version": "1.5.0",
       "children": [
        "IPY_MODEL_08302a0188a843719e253856109bcac2",
        "IPY_MODEL_fb9755eef09343b08ca97905434d5e17"
       ],
       "layout": "IPY_MODEL_35521731430c42c18c9aaf80edc874ff"
      }
     },
     "f895ee89002b4484b7e15ebe02455c58": {
      "model_module": "@jupyter-widgets/controls",
      "model_module_version": "1.5.0",
      "model_name": "HTMLModel",
      "state": {
       "_model_module_version": "1.5.0",
       "_view_module_version": "1.5.0",
       "layout": "IPY_MODEL_0fecbdf22f7444dbacacdc94759badb1",
       "style": "IPY_MODEL_d877808952d24322ba123c0a1b61268f",
       "value": " ETA: 00:00s - loss: 0.0002 - mse: 0.0002 - val_loss: 0.0003 - val_mse: 0.0003"
      }
     },
     "f9c36af073e54353b3988bbc98f17e24": {
      "model_module": "@jupyter-widgets/controls",
      "model_module_version": "1.5.0",
      "model_name": "DescriptionStyleModel",
      "state": {
       "_model_module_version": "1.5.0",
       "_view_module_version": "1.2.0",
       "description_width": ""
      }
     },
     "fb9755eef09343b08ca97905434d5e17": {
      "model_module": "@jupyter-widgets/controls",
      "model_module_version": "1.5.0",
      "model_name": "HTMLModel",
      "state": {
       "_model_module_version": "1.5.0",
       "_view_module_version": "1.5.0",
       "layout": "IPY_MODEL_285877b40898467498dd8ee02853e93a",
       "style": "IPY_MODEL_e2273ee4654a4f6cb13aa78e5097e12a",
       "value": " 9/100 ETA: 43:07:53s,  1706.31s/epochs"
      }
     },
     "fc8433ae5b0040a68c5ead3f69a8eeed": {
      "model_module": "@jupyter-widgets/base",
      "model_module_version": "1.2.0",
      "model_name": "LayoutModel",
      "state": {
       "_model_module_version": "1.2.0",
       "_view_module_version": "1.2.0",
       "flex": "2",
       "justify_items": null,
       "object_fit": null,
       "object_position": null
      }
     },
     "fff7ae4b248840788cecd27ebfae8743": {
      "model_module": "@jupyter-widgets/base",
      "model_module_version": "1.2.0",
      "model_name": "LayoutModel",
      "state": {
       "_model_module_version": "1.2.0",
       "_view_module_version": "1.2.0",
       "display": "inline-flex",
       "flex_flow": "row wrap",
       "justify_items": null,
       "object_fit": null,
       "object_position": null,
       "width": "100%"
      }
     }
    },
    "version_major": 2,
    "version_minor": 0
   }
  }
 },
 "nbformat": 4,
 "nbformat_minor": 2
}
