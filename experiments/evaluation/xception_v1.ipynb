{
 "cells": [
  {
   "cell_type": "code",
   "execution_count": 1,
   "metadata": {},
   "outputs": [],
   "source": [
    "import os\n",
    "os.environ[\"CUDA_VISIBLE_DEVICES\"] = \"1\""
   ]
  },
  {
   "cell_type": "code",
   "execution_count": 19,
   "metadata": {},
   "outputs": [],
   "source": [
    "import pickle\n",
    "import numpy as np\n",
    "import tensorflow as tf\n",
    "\n",
    "np.set_printoptions(suppress=True)"
   ]
  },
  {
   "cell_type": "code",
   "execution_count": 29,
   "metadata": {},
   "outputs": [
    {
     "name": "stdout",
     "output_type": "stream",
     "text": [
      "Available variables: ['img', 'img_nonoise', 'label', 'psf_r', 'psf_img', 'snr', 'sigma']\n"
     ]
    }
   ],
   "source": [
    "dataset = \"../../data/snr60.npz\"\n",
    "modelpath = \"../gridsearch/noisy_tiny_200k.tf\"\n",
    "scalerpath = \"../../data/data_v1.minmax\"\n",
    "\n",
    "with np.load(dataset) as data:\n",
    "    print(\"Available variables:\", data.files)\n",
    "    image = data[\"img\"]\n",
    "    label = data[\"label\"]\n",
    "\n",
    "X = image[..., np.newaxis]\n",
    "y_true = label[0]\n",
    "# Convert flux units to 10^5\n",
    "y_true[0] /= 1e+5\n",
    "\n",
    "# Reload the scaler\n",
    "with open(scalerpath, \"rb\") as f:\n",
    "    scaler = pickle.load(f)\n",
    "\n",
    "# Reload Xception model\n",
    "model = tf.keras.models.load_model(modelpath)"
   ]
  },
  {
   "cell_type": "code",
   "execution_count": 30,
   "metadata": {},
   "outputs": [],
   "source": [
    "normalized_preds = model.predict(X)\n",
    "predictions = scaler.inverse_transform(normalized_preds)\n",
    "# Convert flux units to 10^5\n",
    "predictions[:, 0] /= 1e+5"
   ]
  },
  {
   "cell_type": "code",
   "execution_count": 31,
   "metadata": {},
   "outputs": [
    {
     "data": {
      "text/plain": [
       "array([ 0.02849007,  0.5091243 ,  0.01246777, -0.01230708,  0.00154898],\n",
       "      dtype=float32)"
      ]
     },
     "execution_count": 31,
     "metadata": {},
     "output_type": "execute_result"
    }
   ],
   "source": [
    "bias = predictions.mean(axis=0) - y_true\n",
    "bias"
   ]
  },
  {
   "cell_type": "code",
   "execution_count": 32,
   "metadata": {},
   "outputs": [
    {
     "data": {
      "text/plain": [
       "array([0.06199119, 0.76120484, 0.03654568, 0.05291573, 0.05689033],\n",
       "      dtype=float32)"
      ]
     },
     "execution_count": 32,
     "metadata": {},
     "output_type": "execute_result"
    }
   ],
   "source": [
    "std = predictions.std(axis=0)\n",
    "std"
   ]
  }
 ],
 "metadata": {
  "kernelspec": {
   "display_name": "Python 3",
   "language": "python",
   "name": "python3"
  },
  "language_info": {
   "codemirror_mode": {
    "name": "ipython",
    "version": 3
   },
   "file_extension": ".py",
   "mimetype": "text/x-python",
   "name": "python",
   "nbconvert_exporter": "python",
   "pygments_lexer": "ipython3",
   "version": "3.6.9"
  }
 },
 "nbformat": 4,
 "nbformat_minor": 4
}
