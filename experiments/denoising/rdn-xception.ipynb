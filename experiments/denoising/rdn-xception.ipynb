{
 "cells": [
  {
   "cell_type": "code",
   "execution_count": 1,
   "metadata": {},
   "outputs": [],
   "source": [
    "import os\n",
    "os.environ[\"CUDA_VISIBLE_DEVICES\"] = \"1\""
   ]
  },
  {
   "cell_type": "code",
   "execution_count": 2,
   "metadata": {},
   "outputs": [],
   "source": [
    "from pathlib import Path\n",
    "import numpy as np\n",
    "import matplotlib.pyplot as plt\n",
    "from sklearn.preprocessing import MinMaxScaler\n",
    "\n",
    "import tensorflow as tf\n",
    "from tensorflow.keras.callbacks import EarlyStopping, ModelCheckpoint\n",
    "from tensorflow.keras.optimizers import Adam\n",
    "from tensorflow_addons.callbacks import TQDMProgressBar\n",
    "\n",
    "%run ../gridsearch/xception.ipynb"
   ]
  },
  {
   "cell_type": "code",
   "execution_count": 4,
   "metadata": {},
   "outputs": [
    {
     "name": "stdout",
     "output_type": "stream",
     "text": [
      "Available variables: ['img_log_denoised', 'label', 'psf_r', 'snr', 'sigma']\n"
     ]
    }
   ],
   "source": [
    "# Load denoised log-images\n",
    "basedir = Path(\"../../\")\n",
    "dataset = basedir / \"./data/data_v1d.npz\"\n",
    "modelpath = \"./models/rdn_xception.tf\"\n",
    "\n",
    "with np.load(dataset) as data:\n",
    "    print(\"Available variables:\", data.files)\n",
    "    image = data[\"img_denoised\"]\n",
    "    label = data[\"label\"]"
   ]
  },
  {
   "cell_type": "code",
   "execution_count": 5,
   "metadata": {},
   "outputs": [],
   "source": [
    "# Use unscaled images. Let TF normalize the data.\n",
    "X = image[..., np.newaxis]\n",
    "input_shape = X.shape[1:]\n",
    "\n",
    "# Scale the labels between -1 and 1 using the full dataset. We know the ranges of generated labels.\n",
    "scaler = MinMaxScaler(feature_range=(-1, 1))\n",
    "y = scaler.fit_transform(label)\n",
    "output_shape = y.shape[1:]"
   ]
  },
  {
   "cell_type": "code",
   "execution_count": 6,
   "metadata": {},
   "outputs": [
    {
     "data": {
      "image/png": "[encoded data removed]",
      "text/plain": [
       "<Figure size 432x288 with 1 Axes>"
      ]
     },
     "metadata": {
      "needs_background": "light"
     },
     "output_type": "display_data"
    }
   ],
   "source": [
    "plt.imshow(X[0].reshape(64, 64))\n",
    "plt.title(\"Denoised Input\");"
   ]
  },
  {
   "cell_type": "code",
   "execution_count": 7,
   "metadata": {
    "scrolled": true
   },
   "outputs": [
    {
     "name": "stdout",
     "output_type": "stream",
     "text": [
      "Model: \"model\"\n",
      "__________________________________________________________________________________________________\n",
      "Layer (type)                    Output Shape         Param #     Connected to                     \n",
      "==================================================================================================\n",
      "input_1 (InputLayer)            [(None, 64, 64, 1)]  0                                            \n",
      "__________________________________________________________________________________________________\n",
      "normalization (Normalization)   (None, 64, 64, 1)    3           input_1[0][0]                    \n",
      "__________________________________________________________________________________________________\n",
      "conv2d (Conv2D)                 (None, 32, 32, 16)   416         normalization[0][0]              \n",
      "__________________________________________________________________________________________________\n",
      "separable_conv2d (SeparableConv (None, 32, 32, 64)   1232        conv2d[0][0]                     \n",
      "__________________________________________________________________________________________________\n",
      "separable_conv2d_1 (SeparableCo (None, 32, 32, 64)   4736        separable_conv2d[0][0]           \n",
      "__________________________________________________________________________________________________\n",
      "conv2d_1 (Conv2D)               (None, 32, 32, 64)   1088        conv2d[0][0]                     \n",
      "__________________________________________________________________________________________________\n",
      "add (Add)                       (None, 32, 32, 64)   0           separable_conv2d_1[0][0]         \n",
      "                                                                 conv2d_1[0][0]                   \n",
      "__________________________________________________________________________________________________\n",
      "separable_conv2d_2 (SeparableCo (None, 32, 32, 64)   4736        add[0][0]                        \n",
      "__________________________________________________________________________________________________\n",
      "separable_conv2d_3 (SeparableCo (None, 32, 32, 64)   4736        separable_conv2d_2[0][0]         \n",
      "__________________________________________________________________________________________________\n",
      "add_1 (Add)                     (None, 32, 32, 64)   0           separable_conv2d_3[0][0]         \n",
      "                                                                 add[0][0]                        \n",
      "__________________________________________________________________________________________________\n",
      "separable_conv2d_4 (SeparableCo (None, 32, 32, 64)   4736        add_1[0][0]                      \n",
      "__________________________________________________________________________________________________\n",
      "separable_conv2d_5 (SeparableCo (None, 32, 32, 64)   4736        separable_conv2d_4[0][0]         \n",
      "__________________________________________________________________________________________________\n",
      "add_2 (Add)                     (None, 32, 32, 64)   0           separable_conv2d_5[0][0]         \n",
      "                                                                 add_1[0][0]                      \n",
      "__________________________________________________________________________________________________\n",
      "separable_conv2d_6 (SeparableCo (None, 32, 32, 64)   4736        add_2[0][0]                      \n",
      "__________________________________________________________________________________________________\n",
      "separable_conv2d_7 (SeparableCo (None, 32, 32, 64)   4736        separable_conv2d_6[0][0]         \n",
      "__________________________________________________________________________________________________\n",
      "add_3 (Add)                     (None, 32, 32, 64)   0           separable_conv2d_7[0][0]         \n",
      "                                                                 add_2[0][0]                      \n",
      "__________________________________________________________________________________________________\n",
      "separable_conv2d_8 (SeparableCo (None, 32, 32, 64)   4736        add_3[0][0]                      \n",
      "__________________________________________________________________________________________________\n",
      "separable_conv2d_9 (SeparableCo (None, 32, 32, 64)   4736        separable_conv2d_8[0][0]         \n",
      "__________________________________________________________________________________________________\n",
      "add_4 (Add)                     (None, 32, 32, 64)   0           separable_conv2d_9[0][0]         \n",
      "                                                                 add_3[0][0]                      \n",
      "__________________________________________________________________________________________________\n",
      "separable_conv2d_10 (SeparableC (None, 32, 32, 64)   4736        add_4[0][0]                      \n",
      "__________________________________________________________________________________________________\n",
      "separable_conv2d_11 (SeparableC (None, 32, 32, 64)   4736        separable_conv2d_10[0][0]        \n",
      "__________________________________________________________________________________________________\n",
      "add_5 (Add)                     (None, 32, 32, 64)   0           separable_conv2d_11[0][0]        \n",
      "                                                                 add_4[0][0]                      \n",
      "__________________________________________________________________________________________________\n",
      "separable_conv2d_12 (SeparableC (None, 32, 32, 64)   4736        add_5[0][0]                      \n",
      "__________________________________________________________________________________________________\n",
      "separable_conv2d_13 (SeparableC (None, 32, 32, 64)   4736        separable_conv2d_12[0][0]        \n",
      "__________________________________________________________________________________________________\n",
      "add_6 (Add)                     (None, 32, 32, 64)   0           separable_conv2d_13[0][0]        \n",
      "                                                                 add_5[0][0]                      \n",
      "__________________________________________________________________________________________________\n",
      "separable_conv2d_14 (SeparableC (None, 32, 32, 64)   4736        add_6[0][0]                      \n",
      "__________________________________________________________________________________________________\n",
      "separable_conv2d_15 (SeparableC (None, 32, 32, 64)   4736        separable_conv2d_14[0][0]        \n",
      "__________________________________________________________________________________________________\n",
      "add_7 (Add)                     (None, 32, 32, 64)   0           separable_conv2d_15[0][0]        \n",
      "                                                                 add_6[0][0]                      \n",
      "__________________________________________________________________________________________________\n",
      "separable_conv2d_16 (SeparableC (None, 32, 32, 128)  8896        add_7[0][0]                      \n",
      "__________________________________________________________________________________________________\n",
      "separable_conv2d_17 (SeparableC (None, 32, 32, 128)  17664       separable_conv2d_16[0][0]        \n",
      "__________________________________________________________________________________________________\n",
      "max_pooling2d (MaxPooling2D)    (None, 16, 16, 128)  0           separable_conv2d_17[0][0]        \n",
      "__________________________________________________________________________________________________\n",
      "conv2d_2 (Conv2D)               (None, 16, 16, 128)  8320        add_7[0][0]                      \n",
      "__________________________________________________________________________________________________\n",
      "add_8 (Add)                     (None, 16, 16, 128)  0           max_pooling2d[0][0]              \n",
      "                                                                 conv2d_2[0][0]                   \n",
      "__________________________________________________________________________________________________\n",
      "global_average_pooling2d (Globa (None, 128)          0           add_8[0][0]                      \n",
      "__________________________________________________________________________________________________\n",
      "dense (Dense)                   (None, 5)            645         global_average_pooling2d[0][0]   \n",
      "==================================================================================================\n",
      "Total params: 109,304\n",
      "Trainable params: 109,301\n",
      "Non-trainable params: 3\n",
      "__________________________________________________________________________________________________\n"
     ]
    }
   ],
   "source": [
    "# Build a small Xception model\n",
    "model = build_xception_model(\n",
    "    input_shape, output_shape, conv2d_num_filters=16, sep_num_filters=64, num_residual_blocks=8\n",
    ")\n",
    "model.compile(optimizer=Adam(0.0001), loss=\"mse\")\n",
    "\n",
    "# Adapt the normalization layer to the data\n",
    "adapt_model(model, X)\n",
    "model.summary()"
   ]
  },
  {
   "cell_type": "code",
   "execution_count": 8,
   "metadata": {},
   "outputs": [
    {
     "data": {
      "application/vnd.jupyter.widget-view+json": {
       "model_id": "7a045d559b4c475bb37c66ccfe935ed6",
       "version_major": 2,
       "version_minor": 0
      },
      "text/plain": [
       "HBox(children=(FloatProgress(value=0.0, description='Training', layout=Layout(flex='2'), max=1000.0, style=Pro…"
      ]
     },
     "metadata": {},
     "output_type": "display_data"
    },
    {
     "name": "stdout",
     "output_type": "stream",
     "text": [
      "Epoch 1/1000\n"
     ]
    },
    {
     "data": {
      "application/vnd.jupyter.widget-view+json": {
       "model_id": "540da2b6ffac4ebd9492404aa8d63e51",
       "version_major": 2,
       "version_minor": 0
      },
      "text/plain": [
       "HBox(children=(FloatProgress(value=0.0, layout=Layout(flex='2'), max=5625.0), HTML(value='')), layout=Layout(d…"
      ]
     },
     "metadata": {},
     "output_type": "display_data"
    },
    {
     "name": "stdout",
     "output_type": "stream",
     "text": [
      "\n",
      "WARNING:tensorflow:From /usr/local/lib/python3.6/dist-packages/tensorflow_core/python/ops/resource_variable_ops.py:1786: calling BaseResourceVariable.__init__ (from tensorflow.python.ops.resource_variable_ops) with constraint is deprecated and will be removed in a future version.\n",
      "Instructions for updating:\n",
      "If using Keras pass *_constraint arguments to layers.\n",
      "INFO:tensorflow:Assets written to: ./models/rdn_xception.tf/assets\n",
      "Epoch 2/1000\n"
     ]
    },
    {
     "data": {
      "application/vnd.jupyter.widget-view+json": {
       "model_id": "dbace7ed10bf4ac1bc60499a268a6849",
       "version_major": 2,
       "version_minor": 0
      },
      "text/plain": [
       "HBox(children=(FloatProgress(value=0.0, layout=Layout(flex='2'), max=5625.0), HTML(value='')), layout=Layout(d…"
      ]
     },
     "metadata": {},
     "output_type": "display_data"
    },
    {
     "name": "stdout",
     "output_type": "stream",
     "text": [
      "\n",
      "INFO:tensorflow:Assets written to: ./models/rdn_xception.tf/assets\n",
      "Epoch 3/1000\n"
     ]
    },
    {
     "data": {
      "application/vnd.jupyter.widget-view+json": {
       "model_id": "4adfd32e4dff4bfe9e614f66a0cebb01",
       "version_major": 2,
       "version_minor": 0
      },
      "text/plain": [
       "HBox(children=(FloatProgress(value=0.0, layout=Layout(flex='2'), max=5625.0), HTML(value='')), layout=Layout(d…"
      ]
     },
     "metadata": {},
     "output_type": "display_data"
    },
    {
     "name": "stdout",
     "output_type": "stream",
     "text": [
      "\n",
      "Epoch 4/1000\n"
     ]
    },
    {
     "data": {
      "application/vnd.jupyter.widget-view+json": {
       "model_id": "81e4d420f7e648d39ee79379a49ece7d",
       "version_major": 2,
       "version_minor": 0
      },
      "text/plain": [
       "HBox(children=(FloatProgress(value=0.0, layout=Layout(flex='2'), max=5625.0), HTML(value='')), layout=Layout(d…"
      ]
     },
     "metadata": {},
     "output_type": "display_data"
    },
    {
     "name": "stdout",
     "output_type": "stream",
     "text": [
      "\n",
      "INFO:tensorflow:Assets written to: ./models/rdn_xception.tf/assets\n",
      "Epoch 5/1000\n"
     ]
    },
    {
     "data": {
      "application/vnd.jupyter.widget-view+json": {
       "model_id": "82eacab8140f4059a54c23a47109f97e",
       "version_major": 2,
       "version_minor": 0
      },
      "text/plain": [
       "HBox(children=(FloatProgress(value=0.0, layout=Layout(flex='2'), max=5625.0), HTML(value='')), layout=Layout(d…"
      ]
     },
     "metadata": {},
     "output_type": "display_data"
    },
    {
     "name": "stdout",
     "output_type": "stream",
     "text": [
      "\n",
      "Epoch 6/1000\n"
     ]
    },
    {
     "data": {
      "application/vnd.jupyter.widget-view+json": {
       "model_id": "c6a14c6370aa46348e629dff4d65aeb4",
       "version_major": 2,
       "version_minor": 0
      },
      "text/plain": [
       "HBox(children=(FloatProgress(value=0.0, layout=Layout(flex='2'), max=5625.0), HTML(value='')), layout=Layout(d…"
      ]
     },
     "metadata": {},
     "output_type": "display_data"
    },
    {
     "name": "stdout",
     "output_type": "stream",
     "text": [
      "\n",
      "INFO:tensorflow:Assets written to: ./models/rdn_xception.tf/assets\n",
      "Epoch 7/1000\n"
     ]
    },
    {
     "data": {
      "application/vnd.jupyter.widget-view+json": {
       "model_id": "b078773b7c404e7baa5d75769614c290",
       "version_major": 2,
       "version_minor": 0
      },
      "text/plain": [
       "HBox(children=(FloatProgress(value=0.0, layout=Layout(flex='2'), max=5625.0), HTML(value='')), layout=Layout(d…"
      ]
     },
     "metadata": {},
     "output_type": "display_data"
    },
    {
     "name": "stdout",
     "output_type": "stream",
     "text": [
      "\n",
      "INFO:tensorflow:Assets written to: ./models/rdn_xception.tf/assets\n",
      "Epoch 8/1000\n"
     ]
    },
    {
     "data": {
      "application/vnd.jupyter.widget-view+json": {
       "model_id": "8a6229c6a67b472ebd1998998c24de77",
       "version_major": 2,
       "version_minor": 0
      },
      "text/plain": [
       "HBox(children=(FloatProgress(value=0.0, layout=Layout(flex='2'), max=5625.0), HTML(value='')), layout=Layout(d…"
      ]
     },
     "metadata": {},
     "output_type": "display_data"
    },
    {
     "name": "stdout",
     "output_type": "stream",
     "text": [
      "\n",
      "INFO:tensorflow:Assets written to: ./models/rdn_xception.tf/assets\n",
      "Epoch 9/1000\n"
     ]
    },
    {
     "data": {
      "application/vnd.jupyter.widget-view+json": {
       "model_id": "b207094013f240ec98063c4ab5310041",
       "version_major": 2,
       "version_minor": 0
      },
      "text/plain": [
       "HBox(children=(FloatProgress(value=0.0, layout=Layout(flex='2'), max=5625.0), HTML(value='')), layout=Layout(d…"
      ]
     },
     "metadata": {},
     "output_type": "display_data"
    },
    {
     "name": "stdout",
     "output_type": "stream",
     "text": [
      "\n",
      "Epoch 10/1000\n"
     ]
    },
    {
     "data": {
      "application/vnd.jupyter.widget-view+json": {
       "model_id": "235b39642e7b4b629139b827cd3e4ee3",
       "version_major": 2,
       "version_minor": 0
      },
      "text/plain": [
       "HBox(children=(FloatProgress(value=0.0, layout=Layout(flex='2'), max=5625.0), HTML(value='')), layout=Layout(d…"
      ]
     },
     "metadata": {},
     "output_type": "display_data"
    },
    {
     "name": "stdout",
     "output_type": "stream",
     "text": [
      "\n",
      "Epoch 11/1000\n"
     ]
    },
    {
     "data": {
      "application/vnd.jupyter.widget-view+json": {
       "model_id": "58795891cb27415b8689750eda8031aa",
       "version_major": 2,
       "version_minor": 0
      },
      "text/plain": [
       "HBox(children=(FloatProgress(value=0.0, layout=Layout(flex='2'), max=5625.0), HTML(value='')), layout=Layout(d…"
      ]
     },
     "metadata": {},
     "output_type": "display_data"
    },
    {
     "name": "stdout",
     "output_type": "stream",
     "text": [
      "\n",
      "Epoch 12/1000\n"
     ]
    },
    {
     "data": {
      "application/vnd.jupyter.widget-view+json": {
       "model_id": "f378f4de4f5245bfb31df82b15047b55",
       "version_major": 2,
       "version_minor": 0
      },
      "text/plain": [
       "HBox(children=(FloatProgress(value=0.0, layout=Layout(flex='2'), max=5625.0), HTML(value='')), layout=Layout(d…"
      ]
     },
     "metadata": {},
     "output_type": "display_data"
    },
    {
     "name": "stdout",
     "output_type": "stream",
     "text": [
      "\n",
      "INFO:tensorflow:Assets written to: ./models/rdn_xception.tf/assets\n",
      "Epoch 13/1000\n"
     ]
    },
    {
     "data": {
      "application/vnd.jupyter.widget-view+json": {
       "model_id": "175fcf3535ab4d16b656471683410cd6",
       "version_major": 2,
       "version_minor": 0
      },
      "text/plain": [
       "HBox(children=(FloatProgress(value=0.0, layout=Layout(flex='2'), max=5625.0), HTML(value='')), layout=Layout(d…"
      ]
     },
     "metadata": {},
     "output_type": "display_data"
    },
    {
     "name": "stdout",
     "output_type": "stream",
     "text": [
      "\n",
      "INFO:tensorflow:Assets written to: ./models/rdn_xception.tf/assets\n",
      "Epoch 14/1000\n"
     ]
    },
    {
     "data": {
      "application/vnd.jupyter.widget-view+json": {
       "model_id": "41f0a0c342324a75bdb759e67153b4d7",
       "version_major": 2,
       "version_minor": 0
      },
      "text/plain": [
       "HBox(children=(FloatProgress(value=0.0, layout=Layout(flex='2'), max=5625.0), HTML(value='')), layout=Layout(d…"
      ]
     },
     "metadata": {},
     "output_type": "display_data"
    },
    {
     "name": "stdout",
     "output_type": "stream",
     "text": [
      "\n",
      "Epoch 15/1000\n"
     ]
    },
    {
     "data": {
      "application/vnd.jupyter.widget-view+json": {
       "model_id": "de2731f593fa4c50b5865d765ed57eed",
       "version_major": 2,
       "version_minor": 0
      },
      "text/plain": [
       "HBox(children=(FloatProgress(value=0.0, layout=Layout(flex='2'), max=5625.0), HTML(value='')), layout=Layout(d…"
      ]
     },
     "metadata": {},
     "output_type": "display_data"
    },
    {
     "name": "stdout",
     "output_type": "stream",
     "text": [
      "\n",
      "Epoch 16/1000\n"
     ]
    },
    {
     "data": {
      "application/vnd.jupyter.widget-view+json": {
       "model_id": "ccd34e69feb64c98babd57b8ec19d7cd",
       "version_major": 2,
       "version_minor": 0
      },
      "text/plain": [
       "HBox(children=(FloatProgress(value=0.0, layout=Layout(flex='2'), max=5625.0), HTML(value='')), layout=Layout(d…"
      ]
     },
     "metadata": {},
     "output_type": "display_data"
    },
    {
     "name": "stdout",
     "output_type": "stream",
     "text": [
      "\n",
      "Epoch 17/1000\n"
     ]
    },
    {
     "data": {
      "application/vnd.jupyter.widget-view+json": {
       "model_id": "789720ee711c4274a6657f8fab2796bd",
       "version_major": 2,
       "version_minor": 0
      },
      "text/plain": [
       "HBox(children=(FloatProgress(value=0.0, layout=Layout(flex='2'), max=5625.0), HTML(value='')), layout=Layout(d…"
      ]
     },
     "metadata": {},
     "output_type": "display_data"
    },
    {
     "name": "stdout",
     "output_type": "stream",
     "text": [
      "\n",
      "INFO:tensorflow:Assets written to: ./models/rdn_xception.tf/assets\n",
      "Epoch 18/1000\n"
     ]
    },
    {
     "data": {
      "application/vnd.jupyter.widget-view+json": {
       "model_id": "e7f4674407654bd8bf9cd65d5743c89c",
       "version_major": 2,
       "version_minor": 0
      },
      "text/plain": [
       "HBox(children=(FloatProgress(value=0.0, layout=Layout(flex='2'), max=5625.0), HTML(value='')), layout=Layout(d…"
      ]
     },
     "metadata": {},
     "output_type": "display_data"
    },
    {
     "name": "stdout",
     "output_type": "stream",
     "text": [
      "\n",
      "INFO:tensorflow:Assets written to: ./models/rdn_xception.tf/assets\n",
      "Epoch 19/1000\n"
     ]
    },
    {
     "data": {
      "application/vnd.jupyter.widget-view+json": {
       "model_id": "fcae447fc7914acca44ec87518ab7a65",
       "version_major": 2,
       "version_minor": 0
      },
      "text/plain": [
       "HBox(children=(FloatProgress(value=0.0, layout=Layout(flex='2'), max=5625.0), HTML(value='')), layout=Layout(d…"
      ]
     },
     "metadata": {},
     "output_type": "display_data"
    },
    {
     "name": "stdout",
     "output_type": "stream",
     "text": [
      "\n",
      "Epoch 20/1000\n"
     ]
    },
    {
     "data": {
      "application/vnd.jupyter.widget-view+json": {
       "model_id": "d55fffc887c242fcab87bc1eb8a753a0",
       "version_major": 2,
       "version_minor": 0
      },
      "text/plain": [
       "HBox(children=(FloatProgress(value=0.0, layout=Layout(flex='2'), max=5625.0), HTML(value='')), layout=Layout(d…"
      ]
     },
     "metadata": {},
     "output_type": "display_data"
    },
    {
     "name": "stdout",
     "output_type": "stream",
     "text": [
      "\n",
      "Epoch 21/1000\n"
     ]
    },
    {
     "data": {
      "application/vnd.jupyter.widget-view+json": {
       "model_id": "3e15bc73b42e4e64817adfe132046761",
       "version_major": 2,
       "version_minor": 0
      },
      "text/plain": [
       "HBox(children=(FloatProgress(value=0.0, layout=Layout(flex='2'), max=5625.0), HTML(value='')), layout=Layout(d…"
      ]
     },
     "metadata": {},
     "output_type": "display_data"
    },
    {
     "name": "stdout",
     "output_type": "stream",
     "text": [
      "\n",
      "INFO:tensorflow:Assets written to: ./models/rdn_xception.tf/assets\n",
      "Epoch 22/1000\n"
     ]
    },
    {
     "data": {
      "application/vnd.jupyter.widget-view+json": {
       "model_id": "fac345e34efc477ea16232a1f2ac06a6",
       "version_major": 2,
       "version_minor": 0
      },
      "text/plain": [
       "HBox(children=(FloatProgress(value=0.0, layout=Layout(flex='2'), max=5625.0), HTML(value='')), layout=Layout(d…"
      ]
     },
     "metadata": {},
     "output_type": "display_data"
    },
    {
     "name": "stdout",
     "output_type": "stream",
     "text": [
      "\n",
      "Epoch 23/1000\n"
     ]
    },
    {
     "data": {
      "application/vnd.jupyter.widget-view+json": {
       "model_id": "f4477864b7e14b16ba909fc5632a36a0",
       "version_major": 2,
       "version_minor": 0
      },
      "text/plain": [
       "HBox(children=(FloatProgress(value=0.0, layout=Layout(flex='2'), max=5625.0), HTML(value='')), layout=Layout(d…"
      ]
     },
     "metadata": {},
     "output_type": "display_data"
    },
    {
     "name": "stdout",
     "output_type": "stream",
     "text": [
      "\n",
      "Epoch 24/1000\n"
     ]
    },
    {
     "data": {
      "application/vnd.jupyter.widget-view+json": {
       "model_id": "4cf72a6a20e24095a0c94694698b468e",
       "version_major": 2,
       "version_minor": 0
      },
      "text/plain": [
       "HBox(children=(FloatProgress(value=0.0, layout=Layout(flex='2'), max=5625.0), HTML(value='')), layout=Layout(d…"
      ]
     },
     "metadata": {},
     "output_type": "display_data"
    },
    {
     "name": "stdout",
     "output_type": "stream",
     "text": [
      "\n",
      "Epoch 25/1000\n"
     ]
    },
    {
     "data": {
      "application/vnd.jupyter.widget-view+json": {
       "model_id": "abccab787792455086bb239157ee69ec",
       "version_major": 2,
       "version_minor": 0
      },
      "text/plain": [
       "HBox(children=(FloatProgress(value=0.0, layout=Layout(flex='2'), max=5625.0), HTML(value='')), layout=Layout(d…"
      ]
     },
     "metadata": {},
     "output_type": "display_data"
    },
    {
     "name": "stdout",
     "output_type": "stream",
     "text": [
      "\n",
      "Epoch 26/1000\n"
     ]
    },
    {
     "data": {
      "application/vnd.jupyter.widget-view+json": {
       "model_id": "baf55c527d134b74986ff22f07c7b049",
       "version_major": 2,
       "version_minor": 0
      },
      "text/plain": [
       "HBox(children=(FloatProgress(value=0.0, layout=Layout(flex='2'), max=5625.0), HTML(value='')), layout=Layout(d…"
      ]
     },
     "metadata": {},
     "output_type": "display_data"
    },
    {
     "name": "stdout",
     "output_type": "stream",
     "text": [
      "\n",
      "Epoch 27/1000\n"
     ]
    },
    {
     "data": {
      "application/vnd.jupyter.widget-view+json": {
       "model_id": "93a99c9c5e274cb8ac9db354ac1673ca",
       "version_major": 2,
       "version_minor": 0
      },
      "text/plain": [
       "HBox(children=(FloatProgress(value=0.0, layout=Layout(flex='2'), max=5625.0), HTML(value='')), layout=Layout(d…"
      ]
     },
     "metadata": {},
     "output_type": "display_data"
    },
    {
     "name": "stdout",
     "output_type": "stream",
     "text": [
      "\n",
      "Epoch 28/1000\n"
     ]
    },
    {
     "data": {
      "application/vnd.jupyter.widget-view+json": {
       "model_id": "e638dbf5260042ee990a7d93b4343182",
       "version_major": 2,
       "version_minor": 0
      },
      "text/plain": [
       "HBox(children=(FloatProgress(value=0.0, layout=Layout(flex='2'), max=5625.0), HTML(value='')), layout=Layout(d…"
      ]
     },
     "metadata": {},
     "output_type": "display_data"
    },
    {
     "name": "stdout",
     "output_type": "stream",
     "text": [
      "\n",
      "Epoch 29/1000\n"
     ]
    },
    {
     "data": {
      "application/vnd.jupyter.widget-view+json": {
       "model_id": "5b68b8a700ee4b7cb7c8f6224700fd3e",
       "version_major": 2,
       "version_minor": 0
      },
      "text/plain": [
       "HBox(children=(FloatProgress(value=0.0, layout=Layout(flex='2'), max=5625.0), HTML(value='')), layout=Layout(d…"
      ]
     },
     "metadata": {},
     "output_type": "display_data"
    },
    {
     "name": "stdout",
     "output_type": "stream",
     "text": [
      "\n",
      "Epoch 30/1000\n"
     ]
    },
    {
     "data": {
      "application/vnd.jupyter.widget-view+json": {
       "model_id": "73099cd0f248495195164e46fa53e5a3",
       "version_major": 2,
       "version_minor": 0
      },
      "text/plain": [
       "HBox(children=(FloatProgress(value=0.0, layout=Layout(flex='2'), max=5625.0), HTML(value='')), layout=Layout(d…"
      ]
     },
     "metadata": {},
     "output_type": "display_data"
    },
    {
     "name": "stdout",
     "output_type": "stream",
     "text": [
      "\n",
      "Epoch 31/1000\n"
     ]
    },
    {
     "data": {
      "application/vnd.jupyter.widget-view+json": {
       "model_id": "821c8e95d1ce4d96815c8787af7289a6",
       "version_major": 2,
       "version_minor": 0
      },
      "text/plain": [
       "HBox(children=(FloatProgress(value=0.0, layout=Layout(flex='2'), max=5625.0), HTML(value='')), layout=Layout(d…"
      ]
     },
     "metadata": {},
     "output_type": "display_data"
    },
    {
     "name": "stdout",
     "output_type": "stream",
     "text": [
      "\n",
      "Epoch 32/1000\n"
     ]
    },
    {
     "data": {
      "application/vnd.jupyter.widget-view+json": {
       "model_id": "a5973c1987754de3a0613702a98e995f",
       "version_major": 2,
       "version_minor": 0
      },
      "text/plain": [
       "HBox(children=(FloatProgress(value=0.0, layout=Layout(flex='2'), max=5625.0), HTML(value='')), layout=Layout(d…"
      ]
     },
     "metadata": {},
     "output_type": "display_data"
    },
    {
     "name": "stdout",
     "output_type": "stream",
     "text": [
      "\n",
      "Epoch 33/1000\n"
     ]
    },
    {
     "data": {
      "application/vnd.jupyter.widget-view+json": {
       "model_id": "40fe1702cc74458a82fa3d8903040af3",
       "version_major": 2,
       "version_minor": 0
      },
      "text/plain": [
       "HBox(children=(FloatProgress(value=0.0, layout=Layout(flex='2'), max=5625.0), HTML(value='')), layout=Layout(d…"
      ]
     },
     "metadata": {},
     "output_type": "display_data"
    },
    {
     "name": "stdout",
     "output_type": "stream",
     "text": [
      "\n",
      "INFO:tensorflow:Assets written to: ./models/rdn_xception.tf/assets\n",
      "Epoch 34/1000\n"
     ]
    },
    {
     "data": {
      "application/vnd.jupyter.widget-view+json": {
       "model_id": "47de05d8c55c4a6e9d50182d56b8337f",
       "version_major": 2,
       "version_minor": 0
      },
      "text/plain": [
       "HBox(children=(FloatProgress(value=0.0, layout=Layout(flex='2'), max=5625.0), HTML(value='')), layout=Layout(d…"
      ]
     },
     "metadata": {},
     "output_type": "display_data"
    },
    {
     "name": "stdout",
     "output_type": "stream",
     "text": [
      "\n",
      "Epoch 35/1000\n"
     ]
    },
    {
     "data": {
      "application/vnd.jupyter.widget-view+json": {
       "model_id": "ee7170ce7259466cbc83c256668a9953",
       "version_major": 2,
       "version_minor": 0
      },
      "text/plain": [
       "HBox(children=(FloatProgress(value=0.0, layout=Layout(flex='2'), max=5625.0), HTML(value='')), layout=Layout(d…"
      ]
     },
     "metadata": {},
     "output_type": "display_data"
    },
    {
     "name": "stdout",
     "output_type": "stream",
     "text": [
      "\n",
      "Epoch 36/1000\n"
     ]
    },
    {
     "data": {
      "application/vnd.jupyter.widget-view+json": {
       "model_id": "10a4ede9c8ee433f8f4968e1c95e7b74",
       "version_major": 2,
       "version_minor": 0
      },
      "text/plain": [
       "HBox(children=(FloatProgress(value=0.0, layout=Layout(flex='2'), max=5625.0), HTML(value='')), layout=Layout(d…"
      ]
     },
     "metadata": {},
     "output_type": "display_data"
    },
    {
     "name": "stdout",
     "output_type": "stream",
     "text": [
      "\n",
      "Epoch 37/1000\n"
     ]
    },
    {
     "data": {
      "application/vnd.jupyter.widget-view+json": {
       "model_id": "da6715456e7a404d88be4128ef118c8c",
       "version_major": 2,
       "version_minor": 0
      },
      "text/plain": [
       "HBox(children=(FloatProgress(value=0.0, layout=Layout(flex='2'), max=5625.0), HTML(value='')), layout=Layout(d…"
      ]
     },
     "metadata": {},
     "output_type": "display_data"
    },
    {
     "name": "stdout",
     "output_type": "stream",
     "text": [
      "\n",
      "Epoch 38/1000\n"
     ]
    },
    {
     "data": {
      "application/vnd.jupyter.widget-view+json": {
       "model_id": "f35d5dd212bf49788713e9650a2dc7a7",
       "version_major": 2,
       "version_minor": 0
      },
      "text/plain": [
       "HBox(children=(FloatProgress(value=0.0, layout=Layout(flex='2'), max=5625.0), HTML(value='')), layout=Layout(d…"
      ]
     },
     "metadata": {},
     "output_type": "display_data"
    },
    {
     "name": "stdout",
     "output_type": "stream",
     "text": [
      "\n",
      "Epoch 39/1000\n"
     ]
    },
    {
     "data": {
      "application/vnd.jupyter.widget-view+json": {
       "model_id": "a7ea7ebffb32440bb1d15d7d96347e66",
       "version_major": 2,
       "version_minor": 0
      },
      "text/plain": [
       "HBox(children=(FloatProgress(value=0.0, layout=Layout(flex='2'), max=5625.0), HTML(value='')), layout=Layout(d…"
      ]
     },
     "metadata": {},
     "output_type": "display_data"
    },
    {
     "name": "stdout",
     "output_type": "stream",
     "text": [
      "\n",
      "Epoch 40/1000\n"
     ]
    },
    {
     "data": {
      "application/vnd.jupyter.widget-view+json": {
       "model_id": "9597295e45d2489bb043a2b736a3ed43",
       "version_major": 2,
       "version_minor": 0
      },
      "text/plain": [
       "HBox(children=(FloatProgress(value=0.0, layout=Layout(flex='2'), max=5625.0), HTML(value='')), layout=Layout(d…"
      ]
     },
     "metadata": {},
     "output_type": "display_data"
    },
    {
     "name": "stdout",
     "output_type": "stream",
     "text": [
      "\n",
      "Epoch 41/1000\n"
     ]
    },
    {
     "data": {
      "application/vnd.jupyter.widget-view+json": {
       "model_id": "55590ef0ea5147e295ff55bdba84e546",
       "version_major": 2,
       "version_minor": 0
      },
      "text/plain": [
       "HBox(children=(FloatProgress(value=0.0, layout=Layout(flex='2'), max=5625.0), HTML(value='')), layout=Layout(d…"
      ]
     },
     "metadata": {},
     "output_type": "display_data"
    },
    {
     "name": "stdout",
     "output_type": "stream",
     "text": [
      "\n",
      "Epoch 42/1000\n"
     ]
    },
    {
     "data": {
      "application/vnd.jupyter.widget-view+json": {
       "model_id": "25b3b080fc24407eb88c65100189cc8b",
       "version_major": 2,
       "version_minor": 0
      },
      "text/plain": [
       "HBox(children=(FloatProgress(value=0.0, layout=Layout(flex='2'), max=5625.0), HTML(value='')), layout=Layout(d…"
      ]
     },
     "metadata": {},
     "output_type": "display_data"
    },
    {
     "name": "stdout",
     "output_type": "stream",
     "text": [
      "\n",
      "Epoch 43/1000\n"
     ]
    },
    {
     "data": {
      "application/vnd.jupyter.widget-view+json": {
       "model_id": "a04ef460f73d454ca19ff07bb6a55181",
       "version_major": 2,
       "version_minor": 0
      },
      "text/plain": [
       "HBox(children=(FloatProgress(value=0.0, layout=Layout(flex='2'), max=5625.0), HTML(value='')), layout=Layout(d…"
      ]
     },
     "metadata": {},
     "output_type": "display_data"
    },
    {
     "name": "stdout",
     "output_type": "stream",
     "text": [
      "\n",
      "Epoch 44/1000\n"
     ]
    },
    {
     "data": {
      "application/vnd.jupyter.widget-view+json": {
       "model_id": "46e82f1346714d749434854947d44d57",
       "version_major": 2,
       "version_minor": 0
      },
      "text/plain": [
       "HBox(children=(FloatProgress(value=0.0, layout=Layout(flex='2'), max=5625.0), HTML(value='')), layout=Layout(d…"
      ]
     },
     "metadata": {},
     "output_type": "display_data"
    },
    {
     "name": "stdout",
     "output_type": "stream",
     "text": [
      "\n",
      "Epoch 45/1000\n"
     ]
    },
    {
     "data": {
      "application/vnd.jupyter.widget-view+json": {
       "model_id": "068baab8dfdf418cb1a08e9fe4e054b0",
       "version_major": 2,
       "version_minor": 0
      },
      "text/plain": [
       "HBox(children=(FloatProgress(value=0.0, layout=Layout(flex='2'), max=5625.0), HTML(value='')), layout=Layout(d…"
      ]
     },
     "metadata": {},
     "output_type": "display_data"
    },
    {
     "name": "stdout",
     "output_type": "stream",
     "text": [
      "\n",
      "Epoch 46/1000\n"
     ]
    },
    {
     "data": {
      "application/vnd.jupyter.widget-view+json": {
       "model_id": "8081971fd1f8421d9086336cfe264dbe",
       "version_major": 2,
       "version_minor": 0
      },
      "text/plain": [
       "HBox(children=(FloatProgress(value=0.0, layout=Layout(flex='2'), max=5625.0), HTML(value='')), layout=Layout(d…"
      ]
     },
     "metadata": {},
     "output_type": "display_data"
    },
    {
     "name": "stdout",
     "output_type": "stream",
     "text": [
      "\n",
      "INFO:tensorflow:Assets written to: ./models/rdn_xception.tf/assets\n",
      "Epoch 47/1000\n"
     ]
    },
    {
     "data": {
      "application/vnd.jupyter.widget-view+json": {
       "model_id": "54cdb7aa24a947dca19bf053fbb429b8",
       "version_major": 2,
       "version_minor": 0
      },
      "text/plain": [
       "HBox(children=(FloatProgress(value=0.0, layout=Layout(flex='2'), max=5625.0), HTML(value='')), layout=Layout(d…"
      ]
     },
     "metadata": {},
     "output_type": "display_data"
    },
    {
     "name": "stdout",
     "output_type": "stream",
     "text": [
      "\n",
      "Epoch 48/1000\n"
     ]
    },
    {
     "data": {
      "application/vnd.jupyter.widget-view+json": {
       "model_id": "2e82d1f74787417089ba2186d852fcf8",
       "version_major": 2,
       "version_minor": 0
      },
      "text/plain": [
       "HBox(children=(FloatProgress(value=0.0, layout=Layout(flex='2'), max=5625.0), HTML(value='')), layout=Layout(d…"
      ]
     },
     "metadata": {},
     "output_type": "display_data"
    },
    {
     "name": "stdout",
     "output_type": "stream",
     "text": [
      "\n",
      "Epoch 49/1000\n"
     ]
    },
    {
     "data": {
      "application/vnd.jupyter.widget-view+json": {
       "model_id": "eadad66d1a4a4de5bfb4d1f424a476d7",
       "version_major": 2,
       "version_minor": 0
      },
      "text/plain": [
       "HBox(children=(FloatProgress(value=0.0, layout=Layout(flex='2'), max=5625.0), HTML(value='')), layout=Layout(d…"
      ]
     },
     "metadata": {},
     "output_type": "display_data"
    },
    {
     "name": "stdout",
     "output_type": "stream",
     "text": [
      "\n",
      "Epoch 50/1000\n"
     ]
    },
    {
     "data": {
      "application/vnd.jupyter.widget-view+json": {
       "model_id": "fef0c627d0344d03b37cf9d13bd9bc37",
       "version_major": 2,
       "version_minor": 0
      },
      "text/plain": [
       "HBox(children=(FloatProgress(value=0.0, layout=Layout(flex='2'), max=5625.0), HTML(value='')), layout=Layout(d…"
      ]
     },
     "metadata": {},
     "output_type": "display_data"
    },
    {
     "name": "stdout",
     "output_type": "stream",
     "text": [
      "\n",
      "Epoch 51/1000\n"
     ]
    },
    {
     "data": {
      "application/vnd.jupyter.widget-view+json": {
       "model_id": "2bf5aae881484760a62250d65b8d8a9b",
       "version_major": 2,
       "version_minor": 0
      },
      "text/plain": [
       "HBox(children=(FloatProgress(value=0.0, layout=Layout(flex='2'), max=5625.0), HTML(value='')), layout=Layout(d…"
      ]
     },
     "metadata": {},
     "output_type": "display_data"
    },
    {
     "name": "stdout",
     "output_type": "stream",
     "text": [
      "\n",
      "Epoch 52/1000\n"
     ]
    },
    {
     "data": {
      "application/vnd.jupyter.widget-view+json": {
       "model_id": "ca8d008f6c584bc0b04673ec0bf10aeb",
       "version_major": 2,
       "version_minor": 0
      },
      "text/plain": [
       "HBox(children=(FloatProgress(value=0.0, layout=Layout(flex='2'), max=5625.0), HTML(value='')), layout=Layout(d…"
      ]
     },
     "metadata": {},
     "output_type": "display_data"
    },
    {
     "name": "stdout",
     "output_type": "stream",
     "text": [
      "\n",
      "Epoch 53/1000\n"
     ]
    },
    {
     "data": {
      "application/vnd.jupyter.widget-view+json": {
       "model_id": "95ea20332c6949d389b2eb18c0cb1b61",
       "version_major": 2,
       "version_minor": 0
      },
      "text/plain": [
       "HBox(children=(FloatProgress(value=0.0, layout=Layout(flex='2'), max=5625.0), HTML(value='')), layout=Layout(d…"
      ]
     },
     "metadata": {},
     "output_type": "display_data"
    },
    {
     "name": "stdout",
     "output_type": "stream",
     "text": [
      "\n",
      "Epoch 54/1000\n"
     ]
    },
    {
     "data": {
      "application/vnd.jupyter.widget-view+json": {
       "model_id": "e7055d1cc9d942aa84daeff8dc0c4edf",
       "version_major": 2,
       "version_minor": 0
      },
      "text/plain": [
       "HBox(children=(FloatProgress(value=0.0, layout=Layout(flex='2'), max=5625.0), HTML(value='')), layout=Layout(d…"
      ]
     },
     "metadata": {},
     "output_type": "display_data"
    },
    {
     "name": "stdout",
     "output_type": "stream",
     "text": [
      "\n",
      "Epoch 55/1000\n"
     ]
    },
    {
     "data": {
      "application/vnd.jupyter.widget-view+json": {
       "model_id": "4564620bcdc24e71a783eaf3bd8c1ae7",
       "version_major": 2,
       "version_minor": 0
      },
      "text/plain": [
       "HBox(children=(FloatProgress(value=0.0, layout=Layout(flex='2'), max=5625.0), HTML(value='')), layout=Layout(d…"
      ]
     },
     "metadata": {},
     "output_type": "display_data"
    },
    {
     "name": "stdout",
     "output_type": "stream",
     "text": [
      "\n",
      "Epoch 56/1000\n"
     ]
    },
    {
     "data": {
      "application/vnd.jupyter.widget-view+json": {
       "model_id": "3456d83962014dc598b3661fff3fc195",
       "version_major": 2,
       "version_minor": 0
      },
      "text/plain": [
       "HBox(children=(FloatProgress(value=0.0, layout=Layout(flex='2'), max=5625.0), HTML(value='')), layout=Layout(d…"
      ]
     },
     "metadata": {},
     "output_type": "display_data"
    },
    {
     "name": "stdout",
     "output_type": "stream",
     "text": [
      "\n",
      "Epoch 57/1000\n"
     ]
    },
    {
     "data": {
      "application/vnd.jupyter.widget-view+json": {
       "model_id": "e5d94a99c14c48fea7a54820c1f1972d",
       "version_major": 2,
       "version_minor": 0
      },
      "text/plain": [
       "HBox(children=(FloatProgress(value=0.0, layout=Layout(flex='2'), max=5625.0), HTML(value='')), layout=Layout(d…"
      ]
     },
     "metadata": {},
     "output_type": "display_data"
    },
    {
     "name": "stdout",
     "output_type": "stream",
     "text": [
      "\n",
      "Epoch 58/1000\n"
     ]
    },
    {
     "data": {
      "application/vnd.jupyter.widget-view+json": {
       "model_id": "f72292b0b98b4f2591b8723edd3f8fca",
       "version_major": 2,
       "version_minor": 0
      },
      "text/plain": [
       "HBox(children=(FloatProgress(value=0.0, layout=Layout(flex='2'), max=5625.0), HTML(value='')), layout=Layout(d…"
      ]
     },
     "metadata": {},
     "output_type": "display_data"
    },
    {
     "name": "stdout",
     "output_type": "stream",
     "text": [
      "\n",
      "Epoch 59/1000\n"
     ]
    },
    {
     "data": {
      "application/vnd.jupyter.widget-view+json": {
       "model_id": "d73cf927536b4e0e932b84e92c685da7",
       "version_major": 2,
       "version_minor": 0
      },
      "text/plain": [
       "HBox(children=(FloatProgress(value=0.0, layout=Layout(flex='2'), max=5625.0), HTML(value='')), layout=Layout(d…"
      ]
     },
     "metadata": {},
     "output_type": "display_data"
    },
    {
     "name": "stdout",
     "output_type": "stream",
     "text": [
      "\n",
      "Epoch 60/1000\n"
     ]
    },
    {
     "data": {
      "application/vnd.jupyter.widget-view+json": {
       "model_id": "bfd5d167f3e84ef19474af5a576ef765",
       "version_major": 2,
       "version_minor": 0
      },
      "text/plain": [
       "HBox(children=(FloatProgress(value=0.0, layout=Layout(flex='2'), max=5625.0), HTML(value='')), layout=Layout(d…"
      ]
     },
     "metadata": {},
     "output_type": "display_data"
    },
    {
     "name": "stdout",
     "output_type": "stream",
     "text": [
      "\n",
      "Epoch 61/1000\n"
     ]
    },
    {
     "data": {
      "application/vnd.jupyter.widget-view+json": {
       "model_id": "991db048e0604dc4aad3ed22900096b0",
       "version_major": 2,
       "version_minor": 0
      },
      "text/plain": [
       "HBox(children=(FloatProgress(value=0.0, layout=Layout(flex='2'), max=5625.0), HTML(value='')), layout=Layout(d…"
      ]
     },
     "metadata": {},
     "output_type": "display_data"
    },
    {
     "name": "stdout",
     "output_type": "stream",
     "text": [
      "\n",
      "Epoch 62/1000\n"
     ]
    },
    {
     "data": {
      "application/vnd.jupyter.widget-view+json": {
       "model_id": "4f82d9997e1a4f7ba1e17008deaf2dfb",
       "version_major": 2,
       "version_minor": 0
      },
      "text/plain": [
       "HBox(children=(FloatProgress(value=0.0, layout=Layout(flex='2'), max=5625.0), HTML(value='')), layout=Layout(d…"
      ]
     },
     "metadata": {},
     "output_type": "display_data"
    },
    {
     "name": "stdout",
     "output_type": "stream",
     "text": [
      "\n",
      "Epoch 63/1000\n"
     ]
    },
    {
     "data": {
      "application/vnd.jupyter.widget-view+json": {
       "model_id": "4f7b5c0d5f3744778ca9fd901987383c",
       "version_major": 2,
       "version_minor": 0
      },
      "text/plain": [
       "HBox(children=(FloatProgress(value=0.0, layout=Layout(flex='2'), max=5625.0), HTML(value='')), layout=Layout(d…"
      ]
     },
     "metadata": {},
     "output_type": "display_data"
    },
    {
     "name": "stdout",
     "output_type": "stream",
     "text": [
      "\n",
      "Epoch 64/1000\n"
     ]
    },
    {
     "data": {
      "application/vnd.jupyter.widget-view+json": {
       "model_id": "62e3b39a5f364b92853abf8aceee1505",
       "version_major": 2,
       "version_minor": 0
      },
      "text/plain": [
       "HBox(children=(FloatProgress(value=0.0, layout=Layout(flex='2'), max=5625.0), HTML(value='')), layout=Layout(d…"
      ]
     },
     "metadata": {},
     "output_type": "display_data"
    },
    {
     "name": "stdout",
     "output_type": "stream",
     "text": [
      "\n",
      "Epoch 65/1000\n"
     ]
    },
    {
     "data": {
      "application/vnd.jupyter.widget-view+json": {
       "model_id": "028a2596ebd84a7295b824008464a7c4",
       "version_major": 2,
       "version_minor": 0
      },
      "text/plain": [
       "HBox(children=(FloatProgress(value=0.0, layout=Layout(flex='2'), max=5625.0), HTML(value='')), layout=Layout(d…"
      ]
     },
     "metadata": {},
     "output_type": "display_data"
    },
    {
     "name": "stdout",
     "output_type": "stream",
     "text": [
      "\n",
      "Epoch 66/1000\n"
     ]
    },
    {
     "data": {
      "application/vnd.jupyter.widget-view+json": {
       "model_id": "67232c3221e54574a1cac2ead15f1157",
       "version_major": 2,
       "version_minor": 0
      },
      "text/plain": [
       "HBox(children=(FloatProgress(value=0.0, layout=Layout(flex='2'), max=5625.0), HTML(value='')), layout=Layout(d…"
      ]
     },
     "metadata": {},
     "output_type": "display_data"
    },
    {
     "name": "stdout",
     "output_type": "stream",
     "text": [
      "\n",
      "\n",
      "INFO:tensorflow:Assets written to: ./models/rdn_xception.tf/assets\n"
     ]
    }
   ],
   "source": [
    "# Setup callbacks\n",
    "early_stopping = EarlyStopping(patience=20, restore_best_weights=True)\n",
    "tqdm_callback = TQDMProgressBar()\n",
    "checkpoint = ModelCheckpoint(modelpath, save_best_only=True)\n",
    "\n",
    "# Train the model on the full dataset\n",
    "history = model.fit(\n",
    "    X,\n",
    "    y,\n",
    "    batch_size=32,\n",
    "    epochs=1000,\n",
    "    validation_split=0.1,\n",
    "    verbose=0,\n",
    "    callbacks=[early_stopping, tqdm_callback, checkpoint],\n",
    ")\n",
    "model.save(modelpath)"
   ]
  },
  {
   "cell_type": "code",
   "execution_count": 9,
   "metadata": {},
   "outputs": [
    {
     "data": {
      "text/plain": [
       "array([5577.07      ,    0.76942104,    0.04580465,    0.07094237,\n",
       "          0.07122599], dtype=float32)"
      ]
     },
     "execution_count": 9,
     "metadata": {},
     "output_type": "execute_result"
    }
   ],
   "source": [
    "# Evaluate the model on the validation set\n",
    "n_train = int(label.shape[0] * 0.9)\n",
    "X_val = X[n_train:]\n",
    "label_val = label[n_train:]\n",
    "\n",
    "# Predict the labels and convert them to the original scale\n",
    "predictions = model.predict(X_val)\n",
    "predictions = scaler.inverse_transform(predictions)\n",
    "\n",
    "# Compute RMSE for each label individually\n",
    "np.set_printoptions(suppress=True)\n",
    "rmse = np.sqrt(((label_val - predictions)**2).mean(axis=0))\n",
    "rmse"
   ]
  }
 ],
 "metadata": {
  "kernelspec": {
   "display_name": "Python 3",
   "language": "python",
   "name": "python3"
  },
  "language_info": {
   "codemirror_mode": {
    "name": "ipython",
    "version": 3
   },
   "file_extension": ".py",
   "mimetype": "text/x-python",
   "name": "python",
   "nbconvert_exporter": "python",
   "pygments_lexer": "ipython3",
   "version": "3.6.9"
  },
  "widgets": {
   "application/vnd.jupyter.widget-state+json": {
    "state": {
     "0039ef8cd29841fbb6c47bf5143d0722": {
      "model_module": "@jupyter-widgets/controls",
      "model_module_version": "1.5.0",
      "model_name": "ProgressStyleModel",
      "state": {
       "description_width": "initial"
      }
     },
     "0040977c85e4494ea0e4d3be50be402e": {
      "model_module": "@jupyter-widgets/controls",
      "model_module_version": "1.5.0",
      "model_name": "DescriptionStyleModel",
      "state": {
       "description_width": ""
      }
     },
     "005a744e1d374721861690a175111694": {
      "model_module": "@jupyter-widgets/controls",
      "model_module_version": "1.5.0",
      "model_name": "HTMLModel",
      "state": {
       "layout": "IPY_MODEL_57483d93ba984faf9bbc36320d672058",
       "style": "IPY_MODEL_89ff42f4423f4677bbafbddea2c7d1cd",
       "value": " ETA: 00:00s - loss: 0.0290 - val_loss: 0.0284"
      }
     },
     "005f36dc02574adc99ee72e3ba9a8f76": {
      "model_module": "@jupyter-widgets/controls",
      "model_module_version": "1.5.0",
      "model_name": "DescriptionStyleModel",
      "state": {
       "description_width": ""
      }
     },
     "0070d83c342b4879b78964fb055a45e0": {
      "model_module": "@jupyter-widgets/controls",
      "model_module_version": "1.5.0",
      "model_name": "HTMLModel",
      "state": {
       "layout": "IPY_MODEL_6fbb54818a724b539f35e285ecb959b4",
       "style": "IPY_MODEL_3d4f658865c946509f297be6a7b8c7fa",
       "value": " ETA: 00:00s - loss: 0.0281 - val_loss: 0.0273"
      }
     },
     "00b6a51c9020410b8e5cc14ed097774e": {
      "model_module": "@jupyter-widgets/controls",
      "model_module_version": "1.5.0",
      "model_name": "FloatProgressModel",
      "state": {
       "bar_style": "success",
       "description": "5625/5625",
       "layout": "IPY_MODEL_ad05fd1926b2421daff83cf199e3cd3b",
       "max": 5625,
       "style": "IPY_MODEL_064d855bc1964313a6fdeeb2b414f3de",
       "value": 5625
      }
     },
     "00de16b865a846ce8c90441f9ed36eba": {
      "model_module": "@jupyter-widgets/base",
      "model_module_version": "1.2.0",
      "model_name": "LayoutModel",
      "state": {
       "flex": "2"
      }
     },
     "00f95ae4acd8400c9148c04ee88b8b2c": {
      "model_module": "@jupyter-widgets/controls",
      "model_module_version": "1.5.0",
      "model_name": "DescriptionStyleModel",
      "state": {
       "description_width": ""
      }
     },
     "00fc840507ef44c4b4f544e19e8e4afd": {
      "model_module": "@jupyter-widgets/base",
      "model_module_version": "1.2.0",
      "model_name": "LayoutModel",
      "state": {}
     },
     "016c3785ae8d45939b0e59f7d1a3bb3d": {
      "model_module": "@jupyter-widgets/controls",
      "model_module_version": "1.5.0",
      "model_name": "HBoxModel",
      "state": {
       "children": [
        "IPY_MODEL_be84679702d64183a28d5b16fa10c801",
        "IPY_MODEL_173fb1c87537475294c5b4bbfa5fb457"
       ],
       "layout": "IPY_MODEL_bd4531d75e0e4d6bbe3259263625bcb3"
      }
     },
     "0171ca7839544e6e820f15dbd2167669": {
      "model_module": "@jupyter-widgets/controls",
      "model_module_version": "1.5.0",
      "model_name": "HTMLModel",
      "state": {
       "layout": "IPY_MODEL_6d046c168c7c47f59c60d65da3e580e8",
       "style": "IPY_MODEL_f074e65abb8a4f8c965b82513d907fbe",
       "value": " ETA: 00:00s - loss: 0.0280 - val_loss: 0.0275"
      }
     },
     "01886c3f7ea044c2b89ef3b2ad19fdde": {
      "model_module": "@jupyter-widgets/controls",
      "model_module_version": "1.5.0",
      "model_name": "DescriptionStyleModel",
      "state": {
       "description_width": ""
      }
     },
     "01a2c952b4224dd88f9fcfc5e6c00024": {
      "model_module": "@jupyter-widgets/base",
      "model_module_version": "1.2.0",
      "model_name": "LayoutModel",
      "state": {}
     },
     "01bd4500be0e458592dd3382161824f7": {
      "model_module": "@jupyter-widgets/controls",
      "model_module_version": "1.5.0",
      "model_name": "HBoxModel",
      "state": {
       "children": [
        "IPY_MODEL_485c1f2a68dc423eb0c2b9a40a2feb27",
        "IPY_MODEL_6c20c4ec446d404badfdd4c88fdede32"
       ],
       "layout": "IPY_MODEL_e7b1c57be33745f0a9d27d527435f3dc"
      }
     },
     "01c8e31a45d9448e90b0f33cb11d1d0d": {
      "model_module": "@jupyter-widgets/controls",
      "model_module_version": "1.5.0",
      "model_name": "HTMLModel",
      "state": {
       "layout": "IPY_MODEL_79cd7d6115044c33a89841e395540bae",
       "style": "IPY_MODEL_68a51764088e4cf0bd9f8d28b3e36e07",
       "value": " ETA: 00:00s - loss: 0.0299 - val_loss: 0.0289"
      }
     },
     "0220ba917d8b41bf9796276d1512b220": {
      "model_module": "@jupyter-widgets/base",
      "model_module_version": "1.2.0",
      "model_name": "LayoutModel",
      "state": {
       "display": "inline-flex",
       "flex_flow": "row wrap",
       "width": "100%"
      }
     },
     "022c8d22783547e4b1a8177ecdf89aff": {
      "model_module": "@jupyter-widgets/controls",
      "model_module_version": "1.5.0",
      "model_name": "HTMLModel",
      "state": {
       "layout": "IPY_MODEL_3f0aef30f4b747168341f0bb3f713804",
       "style": "IPY_MODEL_1ce72a47e0f3422d86f4b1f5cc5946c7",
       "value": " ETA: 00:00s - loss: 0.0320 - val_loss: 0.0327"
      }
     },
     "02481c6bc0b54809a992daa888387d3d": {
      "model_module": "@jupyter-widgets/base",
      "model_module_version": "1.2.0",
      "model_name": "LayoutModel",
      "state": {
       "display": "inline-flex",
       "flex_flow": "row wrap",
       "width": "100%"
      }
     },
     "025355afd6684f3087ef5b3dcf0b31ea": {
      "model_module": "@jupyter-widgets/controls",
      "model_module_version": "1.5.0",
      "model_name": "DescriptionStyleModel",
      "state": {
       "description_width": ""
      }
     },
     "028a2596ebd84a7295b824008464a7c4": {
      "model_module": "@jupyter-widgets/controls",
      "model_module_version": "1.5.0",
      "model_name": "HBoxModel",
      "state": {
       "children": [
        "IPY_MODEL_faa662689c694a1a9122a5ba30130be6",
        "IPY_MODEL_d9d54df79190464989e7870248e6679b"
       ],
       "layout": "IPY_MODEL_4bb9cf67bf5c4bc4bd9da68b2c897db1"
      }
     },
     "02c6e2c907bd4c5b97bb473e6161af63": {
      "model_module": "@jupyter-widgets/base",
      "model_module_version": "1.2.0",
      "model_name": "LayoutModel",
      "state": {
       "display": "inline-flex",
       "flex_flow": "row wrap",
       "width": "100%"
      }
     },
     "02e7a7cdc20d4e40994314726157699e": {
      "model_module": "@jupyter-widgets/base",
      "model_module_version": "1.2.0",
      "model_name": "LayoutModel",
      "state": {
       "flex": "2"
      }
     },
     "0308a31b565449e69b755589591dc63f": {
      "model_module": "@jupyter-widgets/controls",
      "model_module_version": "1.5.0",
      "model_name": "ProgressStyleModel",
      "state": {
       "description_width": "initial"
      }
     },
     "0309c8deb1464c5a95fafb640795179f": {
      "model_module": "@jupyter-widgets/base",
      "model_module_version": "1.2.0",
      "model_name": "LayoutModel",
      "state": {
       "flex": "2"
      }
     },
     "0374ee90560c457189777b432b48d8a2": {
      "model_module": "@jupyter-widgets/controls",
      "model_module_version": "1.5.0",
      "model_name": "HBoxModel",
      "state": {
       "children": [
        "IPY_MODEL_326eb3b9ae0c42b7ad959044387928bc",
        "IPY_MODEL_e650c8f07ad642f3b578c00a69395aa8"
       ],
       "layout": "IPY_MODEL_3a3a57feee014c62b41182d4488d5a25"
      }
     },
     "03af5f8160e34ff9aa2cdffb6a11466d": {
      "model_module": "@jupyter-widgets/base",
      "model_module_version": "1.2.0",
      "model_name": "LayoutModel",
      "state": {
       "flex": "2"
      }
     },
     "03bdf2d9143843dd979bbaa62fc59890": {
      "model_module": "@jupyter-widgets/controls",
      "model_module_version": "1.5.0",
      "model_name": "ProgressStyleModel",
      "state": {
       "description_width": "initial"
      }
     },
     "03dbb3bc44cf4480abbacf33abc1f617": {
      "model_module": "@jupyter-widgets/controls",
      "model_module_version": "1.5.0",
      "model_name": "FloatProgressModel",
      "state": {
       "bar_style": "success",
       "description": "5625/5625",
       "layout": "IPY_MODEL_a71a3dc8b57c4de0bf169abc7d407718",
       "max": 5625,
       "style": "IPY_MODEL_85660fdc7d354a23b0a2795dd9d8d10f",
       "value": 5625
      }
     },
     "03ee7bde8ec342c8a3283d28ff237765": {
      "model_module": "@jupyter-widgets/controls",
      "model_module_version": "1.5.0",
      "model_name": "HTMLModel",
      "state": {
       "layout": "IPY_MODEL_0b4a92f1a4594801a3b537e7d5f4f09b",
       "style": "IPY_MODEL_c08000ad06a84d6bae838a1be92b17aa",
       "value": " ETA: 00:00s - loss: 0.0285 - val_loss: 0.0279"
      }
     },
     "043e47160fbb469bb1a4286699e107a3": {
      "model_module": "@jupyter-widgets/base",
      "model_module_version": "1.2.0",
      "model_name": "LayoutModel",
      "state": {
       "flex": "2"
      }
     },
     "04449419c53f46a790057b32badabf8c": {
      "model_module": "@jupyter-widgets/base",
      "model_module_version": "1.2.0",
      "model_name": "LayoutModel",
      "state": {}
     },
     "048d2ffb0109487f87567103cc10180f": {
      "model_module": "@jupyter-widgets/base",
      "model_module_version": "1.2.0",
      "model_name": "LayoutModel",
      "state": {
       "flex": "2"
      }
     },
     "04b4fe01f4274cc49a7932e71aff9838": {
      "model_module": "@jupyter-widgets/base",
      "model_module_version": "1.2.0",
      "model_name": "LayoutModel",
      "state": {}
     },
     "04eb5b9e4ac34afdbc985becaa5dcbfb": {
      "model_module": "@jupyter-widgets/controls",
      "model_module_version": "1.5.0",
      "model_name": "HTMLModel",
      "state": {
       "layout": "IPY_MODEL_3920e033e6d447cea3011603beef1280",
       "style": "IPY_MODEL_7b86a0ecb28d456cbec624ea080ae0be",
       "value": " ETA: 00:00s - loss: 0.0283 - val_loss: 0.0278"
      }
     },
     "05045ba633874ff49dc5da456e38cc71": {
      "model_module": "@jupyter-widgets/controls",
      "model_module_version": "1.5.0",
      "model_name": "FloatProgressModel",
      "state": {
       "bar_style": "success",
       "description": "5625/5625",
       "layout": "IPY_MODEL_9ea3cb6f5e4d4f56b1a802ac4a35d355",
       "max": 5625,
       "style": "IPY_MODEL_747d7a1eb628417a8149a26966f58884",
       "value": 5625
      }
     },
     "05209b7f64d1492198f52752ef111d06": {
      "model_module": "@jupyter-widgets/base",
      "model_module_version": "1.2.0",
      "model_name": "LayoutModel",
      "state": {
       "flex": "2"
      }
     },
     "0524d4c770b04011ac953b9b5b07c801": {
      "model_module": "@jupyter-widgets/controls",
      "model_module_version": "1.5.0",
      "model_name": "HTMLModel",
      "state": {
       "layout": "IPY_MODEL_cbdf8e29ebb6413d952ba81924f860ba",
       "style": "IPY_MODEL_278e12d6845c49bf83d1c8d4e8f4eb24",
       "value": " ETA: 00:00s - loss: 0.0278 - val_loss: 0.0275"
      }
     },
     "053358e706034bf28b817adb560e0df3": {
      "model_module": "@jupyter-widgets/controls",
      "model_module_version": "1.5.0",
      "model_name": "DescriptionStyleModel",
      "state": {
       "description_width": ""
      }
     },
     "0562badc21a9430ca7f5a519aad29b09": {
      "model_module": "@jupyter-widgets/base",
      "model_module_version": "1.2.0",
      "model_name": "LayoutModel",
      "state": {}
     },
     "05c8e8ac1cd54c6d944771ad782529f6": {
      "model_module": "@jupyter-widgets/base",
      "model_module_version": "1.2.0",
      "model_name": "LayoutModel",
      "state": {}
     },
     "06108cf1f95b4aa8abc2ef2e5b5c6b0b": {
      "model_module": "@jupyter-widgets/controls",
      "model_module_version": "1.5.0",
      "model_name": "FloatProgressModel",
      "state": {
       "bar_style": "success",
       "description": "5625/5625",
       "layout": "IPY_MODEL_2afd3ff19f5846eeaa89dee38743eab5",
       "max": 5625,
       "style": "IPY_MODEL_88405b9f461d467ea8b8ebe5d1fa555a",
       "value": 5625
      }
     },
     "06441fa94ec34290a38a5e9e4b354352": {
      "model_module": "@jupyter-widgets/controls",
      "model_module_version": "1.5.0",
      "model_name": "ProgressStyleModel",
      "state": {
       "description_width": "initial"
      }
     },
     "064d855bc1964313a6fdeeb2b414f3de": {
      "model_module": "@jupyter-widgets/controls",
      "model_module_version": "1.5.0",
      "model_name": "ProgressStyleModel",
      "state": {
       "description_width": "initial"
      }
     },
     "068baab8dfdf418cb1a08e9fe4e054b0": {
      "model_module": "@jupyter-widgets/controls",
      "model_module_version": "1.5.0",
      "model_name": "HBoxModel",
      "state": {
       "children": [
        "IPY_MODEL_2c310d483c44450b8a7a9fdf4c4b48de",
        "IPY_MODEL_82834eaaab5c47c4a4c0aeabdd7afd43"
       ],
       "layout": "IPY_MODEL_bbb3591bf052463c9aca1b3eb995e37a"
      }
     },
     "06a75ff3698a48cd8de6088814ccafb3": {
      "model_module": "@jupyter-widgets/base",
      "model_module_version": "1.2.0",
      "model_name": "LayoutModel",
      "state": {}
     },
     "06c064ca0a6e4c89a8bfd8db4cf3efbd": {
      "model_module": "@jupyter-widgets/base",
      "model_module_version": "1.2.0",
      "model_name": "LayoutModel",
      "state": {
       "flex": "2"
      }
     },
     "06c15ddcd1984783ae83f5ff43e40719": {
      "model_module": "@jupyter-widgets/base",
      "model_module_version": "1.2.0",
      "model_name": "LayoutModel",
      "state": {
       "display": "inline-flex",
       "flex_flow": "row wrap",
       "width": "100%"
      }
     },
     "0755b3cbf6e14f70846aadb3659b4145": {
      "model_module": "@jupyter-widgets/base",
      "model_module_version": "1.2.0",
      "model_name": "LayoutModel",
      "state": {
       "display": "inline-flex",
       "flex_flow": "row wrap",
       "width": "100%"
      }
     },
     "076fe6632f51486f96e05ac771ed5437": {
      "model_module": "@jupyter-widgets/base",
      "model_module_version": "1.2.0",
      "model_name": "LayoutModel",
      "state": {
       "display": "inline-flex",
       "flex_flow": "row wrap",
       "width": "100%"
      }
     },
     "07758867f6ec4dbb83557f98c799bd93": {
      "model_module": "@jupyter-widgets/controls",
      "model_module_version": "1.5.0",
      "model_name": "ProgressStyleModel",
      "state": {
       "description_width": "initial"
      }
     },
     "07b07523aa224512b6960984b1636b81": {
      "model_module": "@jupyter-widgets/base",
      "model_module_version": "1.2.0",
      "model_name": "LayoutModel",
      "state": {
       "flex": "2"
      }
     },
     "07bb4de61f6144a38302c08697b33bac": {
      "model_module": "@jupyter-widgets/controls",
      "model_module_version": "1.5.0",
      "model_name": "HTMLModel",
      "state": {
       "layout": "IPY_MODEL_81dbd1b981ca4121a016ea8c125a45ce",
       "style": "IPY_MODEL_2946e3f0a5274242ad016ad07c3aacd0",
       "value": " ETA: 00:00s - loss: 0.0286 - val_loss: 0.0285"
      }
     },
     "0818440edc544ae2a26bb1f165158cef": {
      "model_module": "@jupyter-widgets/controls",
      "model_module_version": "1.5.0",
      "model_name": "ProgressStyleModel",
      "state": {
       "description_width": "initial"
      }
     },
     "0849592102604008bcc0e6c95be143d6": {
      "model_module": "@jupyter-widgets/base",
      "model_module_version": "1.2.0",
      "model_name": "LayoutModel",
      "state": {
       "flex": "2"
      }
     },
     "0857ef783bf846baad7b6a92e62867f0": {
      "model_module": "@jupyter-widgets/controls",
      "model_module_version": "1.5.0",
      "model_name": "FloatProgressModel",
      "state": {
       "bar_style": "success",
       "description": "5625/5625",
       "layout": "IPY_MODEL_ca4e27dec3ef4fc1848b75113aa5e42d",
       "max": 5625,
       "style": "IPY_MODEL_e4f3c18b87dd4be9b22cc65bf971dc5e",
       "value": 5625
      }
     },
     "08e4fe1866054685bce2e7cc316325bc": {
      "model_module": "@jupyter-widgets/controls",
      "model_module_version": "1.5.0",
      "model_name": "DescriptionStyleModel",
      "state": {
       "description_width": ""
      }
     },
     "090d7ad91a1c408db5f38b79582972c4": {
      "model_module": "@jupyter-widgets/controls",
      "model_module_version": "1.5.0",
      "model_name": "ProgressStyleModel",
      "state": {
       "description_width": "initial"
      }
     },
     "09560fa8b1754570a2e72f22c37dc655": {
      "model_module": "@jupyter-widgets/base",
      "model_module_version": "1.2.0",
      "model_name": "LayoutModel",
      "state": {
       "flex": "2"
      }
     },
     "09621a22d4134eacac136e44e8c97eca": {
      "model_module": "@jupyter-widgets/controls",
      "model_module_version": "1.5.0",
      "model_name": "DescriptionStyleModel",
      "state": {
       "description_width": ""
      }
     },
     "09696e5c161543729260b00ecc81376d": {
      "model_module": "@jupyter-widgets/controls",
      "model_module_version": "1.5.0",
      "model_name": "HTMLModel",
      "state": {
       "layout": "IPY_MODEL_89fe72f7a6424b8ca6647a93a3e9bfd1",
       "style": "IPY_MODEL_67ad4751f3a84d68a777f0cdb725f12c",
       "value": " ETA: 00:00s - loss: 0.0279 - val_loss: 0.0273"
      }
     },
     "09be73a22d644cd2944ca4832763061b": {
      "model_module": "@jupyter-widgets/controls",
      "model_module_version": "1.5.0",
      "model_name": "ProgressStyleModel",
      "state": {
       "description_width": "initial"
      }
     },
     "09d4eab0dbb347fc8d836048522c9edb": {
      "model_module": "@jupyter-widgets/controls",
      "model_module_version": "1.5.0",
      "model_name": "ProgressStyleModel",
      "state": {
       "description_width": "initial"
      }
     },
     "0a0db9ea296e45fa8548143a6c1f7fdf": {
      "model_module": "@jupyter-widgets/base",
      "model_module_version": "1.2.0",
      "model_name": "LayoutModel",
      "state": {
       "flex": "2"
      }
     },
     "0a184c135ef44e4e8aca92bdfd4a249e": {
      "model_module": "@jupyter-widgets/controls",
      "model_module_version": "1.5.0",
      "model_name": "ProgressStyleModel",
      "state": {
       "description_width": "initial"
      }
     },
     "0a396f78e0fa4677876f3df38cfe461a": {
      "model_module": "@jupyter-widgets/base",
      "model_module_version": "1.2.0",
      "model_name": "LayoutModel",
      "state": {
       "flex": "2"
      }
     },
     "0a3d9c261a7b4e6f8cf0d0878c33a350": {
      "model_module": "@jupyter-widgets/base",
      "model_module_version": "1.2.0",
      "model_name": "LayoutModel",
      "state": {
       "flex": "2"
      }
     },
     "0a41ccfb05f14bb1bc4081a34d68c223": {
      "model_module": "@jupyter-widgets/controls",
      "model_module_version": "1.5.0",
      "model_name": "ProgressStyleModel",
      "state": {
       "description_width": "initial"
      }
     },
     "0a43f002782d42a6bd12f31f00888e93": {
      "model_module": "@jupyter-widgets/controls",
      "model_module_version": "1.5.0",
      "model_name": "ProgressStyleModel",
      "state": {
       "description_width": "initial"
      }
     },
     "0b0208e58460461e85e939fa35f7acf2": {
      "model_module": "@jupyter-widgets/controls",
      "model_module_version": "1.5.0",
      "model_name": "HTMLModel",
      "state": {
       "layout": "IPY_MODEL_f22c7c06d0164293a1f4741c530b1362",
       "style": "IPY_MODEL_5072fd6b039443bca971e9b729c6c8f6",
       "value": " ETA: 00:00s - loss: 0.0277 - val_loss: 0.0273"
      }
     },
     "0b29883a6b8f427f8c108af6cff3ced5": {
      "model_module": "@jupyter-widgets/controls",
      "model_module_version": "1.5.0",
      "model_name": "DescriptionStyleModel",
      "state": {
       "description_width": ""
      }
     },
     "0b361d70d81a45d2afcb6c1b0b199cde": {
      "model_module": "@jupyter-widgets/base",
      "model_module_version": "1.2.0",
      "model_name": "LayoutModel",
      "state": {
       "flex": "2"
      }
     },
     "0b4a92f1a4594801a3b537e7d5f4f09b": {
      "model_module": "@jupyter-widgets/base",
      "model_module_version": "1.2.0",
      "model_name": "LayoutModel",
      "state": {}
     },
     "0b819eef0d6049808ce9764d3cd5ef99": {
      "model_module": "@jupyter-widgets/controls",
      "model_module_version": "1.5.0",
      "model_name": "HTMLModel",
      "state": {
       "layout": "IPY_MODEL_cd28e48bf2c4486986a4daf739e33064",
       "style": "IPY_MODEL_45ffe438adc2407d85ea59321bcf8394",
       "value": " ETA: 00:00s - loss: 0.0280 - val_loss: 0.0275"
      }
     },
     "0bd05db03ee243938708891074062779": {
      "model_module": "@jupyter-widgets/controls",
      "model_module_version": "1.5.0",
      "model_name": "DescriptionStyleModel",
      "state": {
       "description_width": ""
      }
     },
     "0c059c0f797640eda15b3ded2300c448": {
      "model_module": "@jupyter-widgets/controls",
      "model_module_version": "1.5.0",
      "model_name": "HBoxModel",
      "state": {
       "children": [
        "IPY_MODEL_cca5f96641834007af8e900301a36f42",
        "IPY_MODEL_f9368c6653554febb5404b2411578cd4"
       ],
       "layout": "IPY_MODEL_b248314317754517b076eabb3534b900"
      }
     },
     "0c2a68adabea46b994f424fa33614829": {
      "model_module": "@jupyter-widgets/base",
      "model_module_version": "1.2.0",
      "model_name": "LayoutModel",
      "state": {
       "flex": "2"
      }
     },
     "0c30edfb125743c0b1f532dc12988275": {
      "model_module": "@jupyter-widgets/controls",
      "model_module_version": "1.5.0",
      "model_name": "ProgressStyleModel",
      "state": {
       "description_width": "initial"
      }
     },
     "0c389735920f48b58ed58a3663428fef": {
      "model_module": "@jupyter-widgets/base",
      "model_module_version": "1.2.0",
      "model_name": "LayoutModel",
      "state": {
       "display": "inline-flex",
       "flex_flow": "row wrap",
       "width": "100%"
      }
     },
     "0d00bd28f4614ce08af655402370e688": {
      "model_module": "@jupyter-widgets/controls",
      "model_module_version": "1.5.0",
      "model_name": "FloatProgressModel",
      "state": {
       "bar_style": "success",
       "description": "5625/5625",
       "layout": "IPY_MODEL_8fef564215074af8a8e1c229939d13d0",
       "max": 5625,
       "style": "IPY_MODEL_11a3fc68b4624abfbe28d4baea37f0f2",
       "value": 5625
      }
     },
     "0d07527eddba40be9b5b5e85e079659b": {
      "model_module": "@jupyter-widgets/base",
      "model_module_version": "1.2.0",
      "model_name": "LayoutModel",
      "state": {}
     },
     "0d12fa2b03e346b382b3292259dceabb": {
      "model_module": "@jupyter-widgets/controls",
      "model_module_version": "1.5.0",
      "model_name": "ProgressStyleModel",
      "state": {
       "description_width": "initial"
      }
     },
     "0d23c21bf6ed4d15ae18101f62577665": {
      "model_module": "@jupyter-widgets/controls",
      "model_module_version": "1.5.0",
      "model_name": "DescriptionStyleModel",
      "state": {
       "description_width": ""
      }
     },
     "0d592c85bd21414eba16ff6e4caa6e01": {
      "model_module": "@jupyter-widgets/controls",
      "model_module_version": "1.5.0",
      "model_name": "FloatProgressModel",
      "state": {
       "bar_style": "success",
       "description": "5625/5625",
       "layout": "IPY_MODEL_043e47160fbb469bb1a4286699e107a3",
       "max": 5625,
       "style": "IPY_MODEL_4a96522780994a4cbab81cab75427a73",
       "value": 5625
      }
     },
     "0dc1716227cd49c49eb66ab9af3fc502": {
      "model_module": "@jupyter-widgets/base",
      "model_module_version": "1.2.0",
      "model_name": "LayoutModel",
      "state": {
       "flex": "2"
      }
     },
     "0dd3db55ce88441c9d513dc0ac52e5e3": {
      "model_module": "@jupyter-widgets/controls",
      "model_module_version": "1.5.0",
      "model_name": "ProgressStyleModel",
      "state": {
       "description_width": "initial"
      }
     },
     "0e5e40782fbd433a92bf8ef189d08f7c": {
      "model_module": "@jupyter-widgets/controls",
      "model_module_version": "1.5.0",
      "model_name": "ProgressStyleModel",
      "state": {
       "description_width": "initial"
      }
     },
     "0ea83d9ab7684b69b0eb4f235cc68b9e": {
      "model_module": "@jupyter-widgets/base",
      "model_module_version": "1.2.0",
      "model_name": "LayoutModel",
      "state": {
       "display": "inline-flex",
       "flex_flow": "row wrap",
       "width": "100%"
      }
     },
     "0f56ff4b7cce47caa33b7640a3a10ab3": {
      "model_module": "@jupyter-widgets/base",
      "model_module_version": "1.2.0",
      "model_name": "LayoutModel",
      "state": {
       "flex": "2"
      }
     },
     "0fa0406a0e23495997e866efefd132ab": {
      "model_module": "@jupyter-widgets/controls",
      "model_module_version": "1.5.0",
      "model_name": "HTMLModel",
      "state": {
       "layout": "IPY_MODEL_dfe9f0e1995a4e398ecae70a617b5f8e",
       "style": "IPY_MODEL_16f58b58d47f4f7796955833633517df",
       "value": " ETA: 00:00s - loss: 0.0282 - val_loss: 0.0277"
      }
     },
     "0ffe753333d24a4f98a9576f32983605": {
      "model_module": "@jupyter-widgets/base",
      "model_module_version": "1.2.0",
      "model_name": "LayoutModel",
      "state": {
       "display": "inline-flex",
       "flex_flow": "row wrap",
       "width": "100%"
      }
     },
     "0fffd76c7b5a42cfb25ff624172b8284": {
      "model_module": "@jupyter-widgets/base",
      "model_module_version": "1.2.0",
      "model_name": "LayoutModel",
      "state": {
       "flex": "2"
      }
     },
     "100049c1854747e1b2c64eddf7620a7b": {
      "model_module": "@jupyter-widgets/controls",
      "model_module_version": "1.5.0",
      "model_name": "FloatProgressModel",
      "state": {
       "bar_style": "success",
       "description": "5625/5625",
       "layout": "IPY_MODEL_956dc2d39d60443f89268f5caf88d2b9",
       "max": 5625,
       "style": "IPY_MODEL_f3885021f873434e8a6dcd014121e7a1",
       "value": 5625
      }
     },
     "1044f14a26e44ab2a651f80da8170605": {
      "model_module": "@jupyter-widgets/controls",
      "model_module_version": "1.5.0",
      "model_name": "HBoxModel",
      "state": {
       "children": [
        "IPY_MODEL_8d19e22e13364e528e0d9bdf051cc697",
        "IPY_MODEL_8bb676f7301f46fca2cee11537cd17d6"
       ],
       "layout": "IPY_MODEL_7a98f8b6c69a40f5a2f9a5a0a8ae7ee5"
      }
     },
     "107094de8ab14f2cad90a81caa1af988": {
      "model_module": "@jupyter-widgets/controls",
      "model_module_version": "1.5.0",
      "model_name": "HBoxModel",
      "state": {
       "children": [
        "IPY_MODEL_fd1251745fc94486a4d1c4db46164ee8",
        "IPY_MODEL_462e3dfa05884ed5b0a87e70d8dc3cbd"
       ],
       "layout": "IPY_MODEL_413c27c0ed2d42e28fffef0855fece69"
      }
     },
     "10a4ede9c8ee433f8f4968e1c95e7b74": {
      "model_module": "@jupyter-widgets/controls",
      "model_module_version": "1.5.0",
      "model_name": "HBoxModel",
      "state": {
       "children": [
        "IPY_MODEL_251af17ceb19475db55ac4da4ae66222",
        "IPY_MODEL_e787b117bfcf47cdb9d9942b4f7078a1"
       ],
       "layout": "IPY_MODEL_c407620178e84cc48d56d4009518dc29"
      }
     },
     "10adc6ae5b99433c93dfbabbf902ef47": {
      "model_module": "@jupyter-widgets/base",
      "model_module_version": "1.2.0",
      "model_name": "LayoutModel",
      "state": {
       "display": "inline-flex",
       "flex_flow": "row wrap",
       "width": "100%"
      }
     },
     "10bbefc90b6f464ea6595f0477f05eb4": {
      "model_module": "@jupyter-widgets/base",
      "model_module_version": "1.2.0",
      "model_name": "LayoutModel",
      "state": {
       "display": "inline-flex",
       "flex_flow": "row wrap",
       "width": "100%"
      }
     },
     "110697c814c34883969f9a062bfe4398": {
      "model_module": "@jupyter-widgets/controls",
      "model_module_version": "1.5.0",
      "model_name": "ProgressStyleModel",
      "state": {
       "description_width": "initial"
      }
     },
     "113cf391111a4b4595062b9f134b62ab": {
      "model_module": "@jupyter-widgets/base",
      "model_module_version": "1.2.0",
      "model_name": "LayoutModel",
      "state": {
       "display": "inline-flex",
       "flex_flow": "row wrap",
       "width": "100%"
      }
     },
     "1151dd7e950e4a62aa0c5ab9732f33e5": {
      "model_module": "@jupyter-widgets/base",
      "model_module_version": "1.2.0",
      "model_name": "LayoutModel",
      "state": {}
     },
     "1152436f2c0644caa3d130f3a9eb5dd2": {
      "model_module": "@jupyter-widgets/controls",
      "model_module_version": "1.5.0",
      "model_name": "HBoxModel",
      "state": {
       "children": [
        "IPY_MODEL_f7c73ab5e9bb46ef83b70075ec36a61e",
        "IPY_MODEL_f64889e1d3bc42b8999a59717a8e7381"
       ],
       "layout": "IPY_MODEL_30c89c2dd2304aa8a47b228be15f073d"
      }
     },
     "11966dc8fc2b41e29e3eb8105b1d8bfe": {
      "model_module": "@jupyter-widgets/controls",
      "model_module_version": "1.5.0",
      "model_name": "ProgressStyleModel",
      "state": {
       "description_width": "initial"
      }
     },
     "119d487f44064cb5ab72893060c70ec1": {
      "model_module": "@jupyter-widgets/controls",
      "model_module_version": "1.5.0",
      "model_name": "DescriptionStyleModel",
      "state": {
       "description_width": ""
      }
     },
     "11a3fc68b4624abfbe28d4baea37f0f2": {
      "model_module": "@jupyter-widgets/controls",
      "model_module_version": "1.5.0",
      "model_name": "ProgressStyleModel",
      "state": {
       "description_width": "initial"
      }
     },
     "11ab48eee4cd49eaa639b922d2a5ad0e": {
      "model_module": "@jupyter-widgets/base",
      "model_module_version": "1.2.0",
      "model_name": "LayoutModel",
      "state": {
       "flex": "2"
      }
     },
     "1220307b164544ab83394a45a30d00f5": {
      "model_module": "@jupyter-widgets/base",
      "model_module_version": "1.2.0",
      "model_name": "LayoutModel",
      "state": {
       "flex": "2"
      }
     },
     "1237cca76ab84686beff572c1c7f92ee": {
      "model_module": "@jupyter-widgets/base",
      "model_module_version": "1.2.0",
      "model_name": "LayoutModel",
      "state": {
       "flex": "2"
      }
     },
     "12c1ee81fae24d7e88ac046594f16093": {
      "model_module": "@jupyter-widgets/controls",
      "model_module_version": "1.5.0",
      "model_name": "FloatProgressModel",
      "state": {
       "bar_style": "success",
       "description": "5625/5625",
       "layout": "IPY_MODEL_6b61c5613e4f4757a75fdd6a22452aeb",
       "max": 5625,
       "style": "IPY_MODEL_8adc1a6763a447268289e42983d0cc98",
       "value": 5625
      }
     },
     "131fbda5aa724211bc88924e9bc32431": {
      "model_module": "@jupyter-widgets/controls",
      "model_module_version": "1.5.0",
      "model_name": "ProgressStyleModel",
      "state": {
       "description_width": "initial"
      }
     },
     "132cde92f8a4456fbde2246c8a0eb369": {
      "model_module": "@jupyter-widgets/base",
      "model_module_version": "1.2.0",
      "model_name": "LayoutModel",
      "state": {
       "display": "inline-flex",
       "flex_flow": "row wrap",
       "width": "100%"
      }
     },
     "1340d7fdbdd24bb2a2a955c9b89f1b55": {
      "model_module": "@jupyter-widgets/base",
      "model_module_version": "1.2.0",
      "model_name": "LayoutModel",
      "state": {
       "flex": "2"
      }
     },
     "1409ae40b0f44827bd9ab2ec04c22adc": {
      "model_module": "@jupyter-widgets/controls",
      "model_module_version": "1.5.0",
      "model_name": "DescriptionStyleModel",
      "state": {
       "description_width": ""
      }
     },
     "1432ddbf78e846e894ca11d54487c62b": {
      "model_module": "@jupyter-widgets/base",
      "model_module_version": "1.2.0",
      "model_name": "LayoutModel",
      "state": {}
     },
     "143bfa37b4cb451a8958b57cafcf33f9": {
      "model_module": "@jupyter-widgets/controls",
      "model_module_version": "1.5.0",
      "model_name": "HTMLModel",
      "state": {
       "layout": "IPY_MODEL_2b297e42b6d249d299229bf587e83a89",
       "style": "IPY_MODEL_7fa69fd41e4547229c632375fde22179",
       "value": " ETA: 00:00s - loss: 0.0281 - val_loss: 0.0275"
      }
     },
     "14899dc3eaae420f854a700ab3fa9a8b": {
      "model_module": "@jupyter-widgets/controls",
      "model_module_version": "1.5.0",
      "model_name": "FloatProgressModel",
      "state": {
       "bar_style": "success",
       "description": "5625/5625",
       "layout": "IPY_MODEL_5bf17bb8dd4c46cb8dbc8c062d54628c",
       "max": 5625,
       "style": "IPY_MODEL_9270ae952e9246929a614012c916bc36",
       "value": 5625
      }
     },
     "1498c8048f344c5b9ae1028d30457834": {
      "model_module": "@jupyter-widgets/base",
      "model_module_version": "1.2.0",
      "model_name": "LayoutModel",
      "state": {
       "display": "inline-flex",
       "flex_flow": "row wrap",
       "width": "100%"
      }
     },
     "1501437541d3488b8c91dd9e8bfa1afc": {
      "model_module": "@jupyter-widgets/controls",
      "model_module_version": "1.5.0",
      "model_name": "FloatProgressModel",
      "state": {
       "bar_style": "success",
       "description": "5625/5625",
       "layout": "IPY_MODEL_40a1ab4112ce490886edaa87490ba76f",
       "max": 5625,
       "style": "IPY_MODEL_4fb92a6d9d684b48aa0f765ffe51f6af",
       "value": 5625
      }
     },
     "151b39ad39914155abc8486efb145811": {
      "model_module": "@jupyter-widgets/controls",
      "model_module_version": "1.5.0",
      "model_name": "DescriptionStyleModel",
      "state": {
       "description_width": ""
      }
     },
     "153faf815f9845b18bb41d21560571ca": {
      "model_module": "@jupyter-widgets/controls",
      "model_module_version": "1.5.0",
      "model_name": "FloatProgressModel",
      "state": {
       "bar_style": "success",
       "description": "5625/5625",
       "layout": "IPY_MODEL_ae590b33e89a48bfae0f974a2a7abbb3",
       "max": 5625,
       "style": "IPY_MODEL_dae2b39f70bd4f53ac4a7584985121e3",
       "value": 5625
      }
     },
     "153fead2405c447093b2354ea9e9a5b5": {
      "model_module": "@jupyter-widgets/controls",
      "model_module_version": "1.5.0",
      "model_name": "HBoxModel",
      "state": {
       "children": [
        "IPY_MODEL_66252b14ad2f413fbffebe88ee23c434",
        "IPY_MODEL_4cf10a71c14b4eddac5b91b92146bb0d"
       ],
       "layout": "IPY_MODEL_a0fbd098c41a480f8ea7dfd6e348d6a6"
      }
     },
     "15671a58ad4a4b648752ca5cfc9a54f8": {
      "model_module": "@jupyter-widgets/base",
      "model_module_version": "1.2.0",
      "model_name": "LayoutModel",
      "state": {
       "flex": "2"
      }
     },
     "16dd2f07f0b941bdb6a766fdfe069f61": {
      "model_module": "@jupyter-widgets/controls",
      "model_module_version": "1.5.0",
      "model_name": "FloatProgressModel",
      "state": {
       "bar_style": "success",
       "description": "5625/5625",
       "layout": "IPY_MODEL_a21a89b2f90d4991aafcb113d628e83e",
       "max": 5625,
       "style": "IPY_MODEL_2be4ce00f5eb4270a6e3bc32015a3b50",
       "value": 5625
      }
     },
     "16f58b58d47f4f7796955833633517df": {
      "model_module": "@jupyter-widgets/controls",
      "model_module_version": "1.5.0",
      "model_name": "DescriptionStyleModel",
      "state": {
       "description_width": ""
      }
     },
     "173fb1c87537475294c5b4bbfa5fb457": {
      "model_module": "@jupyter-widgets/controls",
      "model_module_version": "1.5.0",
      "model_name": "HTMLModel",
      "state": {
       "layout": "IPY_MODEL_62daebc556424f6d86f7a8e52311b87c",
       "style": "IPY_MODEL_27f3a6e7039740f1944363387cc003c1",
       "value": " ETA: 00:00s - loss: 0.0278 - val_loss: 0.0274"
      }
     },
     "175621be92d046d98a560a499974e271": {
      "model_module": "@jupyter-widgets/controls",
      "model_module_version": "1.5.0",
      "model_name": "DescriptionStyleModel",
      "state": {
       "description_width": ""
      }
     },
     "175fcf3535ab4d16b656471683410cd6": {
      "model_module": "@jupyter-widgets/controls",
      "model_module_version": "1.5.0",
      "model_name": "HBoxModel",
      "state": {
       "children": [
        "IPY_MODEL_48c77aaa936f43d79c0c3e27ef971770",
        "IPY_MODEL_3d74457b2257427783fd19b74f74d4f6"
       ],
       "layout": "IPY_MODEL_b07c41e7d713447bb060d0d516ae3a23"
      }
     },
     "177a1bdbd6c54c6a9ef4cea1bcc5aed8": {
      "model_module": "@jupyter-widgets/controls",
      "model_module_version": "1.5.0",
      "model_name": "DescriptionStyleModel",
      "state": {
       "description_width": ""
      }
     },
     "17e2f8d0723e4332b6fef3f958bfb5ef": {
      "model_module": "@jupyter-widgets/controls",
      "model_module_version": "1.5.0",
      "model_name": "FloatProgressModel",
      "state": {
       "bar_style": "success",
       "description": "5625/5625",
       "layout": "IPY_MODEL_adde785501de4ba7a8b277dcf76f7e8b",
       "max": 5625,
       "style": "IPY_MODEL_edcfae33a44645179f92577486c2d8f9",
       "value": 5625
      }
     },
     "17f73978ef7e4c7ca79e07282c8da5e3": {
      "model_module": "@jupyter-widgets/base",
      "model_module_version": "1.2.0",
      "model_name": "LayoutModel",
      "state": {}
     },
     "185d625d044a45f8af53f46e3a04e4f1": {
      "model_module": "@jupyter-widgets/controls",
      "model_module_version": "1.5.0",
      "model_name": "HBoxModel",
      "state": {
       "children": [
        "IPY_MODEL_db511eefa2b342e09064da8bb1ecbd9a",
        "IPY_MODEL_522bf14b21a44443ac579634b5a2e9a0"
       ],
       "layout": "IPY_MODEL_3ab0475607de44549f5b7eca6c7de4c4"
      }
     },
     "1860d78c1d304da1b87fa6fa691bbacc": {
      "model_module": "@jupyter-widgets/controls",
      "model_module_version": "1.5.0",
      "model_name": "HTMLModel",
      "state": {
       "layout": "IPY_MODEL_55f49d8442934f54a260e582040fb850",
       "style": "IPY_MODEL_005f36dc02574adc99ee72e3ba9a8f76",
       "value": " ETA: 00:00s - loss: 0.0284 - val_loss: 0.0279"
      }
     },
     "18968887f30b48e8881dc4f5e5925091": {
      "model_module": "@jupyter-widgets/base",
      "model_module_version": "1.2.0",
      "model_name": "LayoutModel",
      "state": {
       "display": "inline-flex",
       "flex_flow": "row wrap",
       "width": "100%"
      }
     },
     "18996f0ab88e401988ffd3201f6ba558": {
      "model_module": "@jupyter-widgets/base",
      "model_module_version": "1.2.0",
      "model_name": "LayoutModel",
      "state": {}
     },
     "190a283ccd854c838fde78ca816b39df": {
      "model_module": "@jupyter-widgets/base",
      "model_module_version": "1.2.0",
      "model_name": "LayoutModel",
      "state": {
       "display": "inline-flex",
       "flex_flow": "row wrap",
       "width": "100%"
      }
     },
     "190f1baad2834d4aa5a54a6c418f90cf": {
      "model_module": "@jupyter-widgets/controls",
      "model_module_version": "1.5.0",
      "model_name": "HTMLModel",
      "state": {
       "layout": "IPY_MODEL_fd36ffd6724243b596266d7af41ebb73",
       "style": "IPY_MODEL_d5acfcc2aa604ab1a44d702174c41434",
       "value": " ETA: 00:00s - loss: 0.0280 - val_loss: 0.0274"
      }
     },
     "19218e6dc32742b7b5a96b9a61c5bdc7": {
      "model_module": "@jupyter-widgets/controls",
      "model_module_version": "1.5.0",
      "model_name": "DescriptionStyleModel",
      "state": {
       "description_width": ""
      }
     },
     "193db7f951cb4842883c23e12d917007": {
      "model_module": "@jupyter-widgets/controls",
      "model_module_version": "1.5.0",
      "model_name": "ProgressStyleModel",
      "state": {
       "description_width": "initial"
      }
     },
     "19419f8422ca464096e94a4602d01b75": {
      "model_module": "@jupyter-widgets/controls",
      "model_module_version": "1.5.0",
      "model_name": "HTMLModel",
      "state": {
       "layout": "IPY_MODEL_8b532b443fd64b33b872c50c444989e1",
       "style": "IPY_MODEL_57710ba7f4f146698869190a14abb1b3",
       "value": " ETA: 00:00s - loss: 0.0294 - val_loss: 0.0283"
      }
     },
     "194764790ba941e7bc9519e379aac8e8": {
      "model_module": "@jupyter-widgets/controls",
      "model_module_version": "1.5.0",
      "model_name": "ProgressStyleModel",
      "state": {
       "description_width": "initial"
      }
     },
     "196d08d86bca4978956f31e43d84cd7b": {
      "model_module": "@jupyter-widgets/controls",
      "model_module_version": "1.5.0",
      "model_name": "HTMLModel",
      "state": {
       "layout": "IPY_MODEL_9a20964699c14d339ada1d1f75d6bd46",
       "style": "IPY_MODEL_4181270604ca4f718df98ab07139ca94",
       "value": " ETA: 00:00s - loss: 0.0282 - val_loss: 0.0274"
      }
     },
     "1a06244aa7224ad8a1606cd0215fecd8": {
      "model_module": "@jupyter-widgets/base",
      "model_module_version": "1.2.0",
      "model_name": "LayoutModel",
      "state": {
       "display": "inline-flex",
       "flex_flow": "row wrap",
       "width": "100%"
      }
     },
     "1a55e5bb0d6b402b98171db1df296ec3": {
      "model_module": "@jupyter-widgets/base",
      "model_module_version": "1.2.0",
      "model_name": "LayoutModel",
      "state": {}
     },
     "1a950d4f2ece4034959e74685d4d9114": {
      "model_module": "@jupyter-widgets/controls",
      "model_module_version": "1.5.0",
      "model_name": "FloatProgressModel",
      "state": {
       "bar_style": "success",
       "description": "5625/5625",
       "layout": "IPY_MODEL_392f3c9f727e45a0ab2b35667aa3b4c7",
       "max": 5625,
       "style": "IPY_MODEL_4bea6702d854431cb32165c0df597da2",
       "value": 5625
      }
     },
     "1b1246a9c43d413c9b2d8011aba4d5f1": {
      "model_module": "@jupyter-widgets/controls",
      "model_module_version": "1.5.0",
      "model_name": "ProgressStyleModel",
      "state": {
       "description_width": "initial"
      }
     },
     "1b1c7c509dd345bdad76c9c45e31e37a": {
      "model_module": "@jupyter-widgets/controls",
      "model_module_version": "1.5.0",
      "model_name": "ProgressStyleModel",
      "state": {
       "description_width": "initial"
      }
     },
     "1b791376b9bb4630a2b5ef3f9abcce81": {
      "model_module": "@jupyter-widgets/controls",
      "model_module_version": "1.5.0",
      "model_name": "DescriptionStyleModel",
      "state": {
       "description_width": ""
      }
     },
     "1bdc51e2d8ff46d2bee105d0cb68369e": {
      "model_module": "@jupyter-widgets/base",
      "model_module_version": "1.2.0",
      "model_name": "LayoutModel",
      "state": {
       "flex": "2"
      }
     },
     "1c36e3ce41644f6ba91c0b91d128ec30": {
      "model_module": "@jupyter-widgets/controls",
      "model_module_version": "1.5.0",
      "model_name": "DescriptionStyleModel",
      "state": {
       "description_width": ""
      }
     },
     "1c402472b2c94bf48c1299603d056cd0": {
      "model_module": "@jupyter-widgets/controls",
      "model_module_version": "1.5.0",
      "model_name": "HTMLModel",
      "state": {
       "layout": "IPY_MODEL_e4119b58fa5b4235a7e0054f092013f7",
       "style": "IPY_MODEL_175621be92d046d98a560a499974e271",
       "value": " ETA: 00:00s - loss: 0.0290 - val_loss: 0.0280"
      }
     },
     "1c9ca5c737e54457b6ea38cfec1b339b": {
      "model_module": "@jupyter-widgets/base",
      "model_module_version": "1.2.0",
      "model_name": "LayoutModel",
      "state": {
       "display": "inline-flex",
       "flex_flow": "row wrap",
       "width": "100%"
      }
     },
     "1ce72a47e0f3422d86f4b1f5cc5946c7": {
      "model_module": "@jupyter-widgets/controls",
      "model_module_version": "1.5.0",
      "model_name": "DescriptionStyleModel",
      "state": {
       "description_width": ""
      }
     },
     "1cf177282424494595f8ed619bbc7cc0": {
      "model_module": "@jupyter-widgets/controls",
      "model_module_version": "1.5.0",
      "model_name": "DescriptionStyleModel",
      "state": {
       "description_width": ""
      }
     },
     "1d9061b8926b49bdad321a66be0eecb6": {
      "model_module": "@jupyter-widgets/controls",
      "model_module_version": "1.5.0",
      "model_name": "FloatProgressModel",
      "state": {
       "bar_style": "success",
       "description": "5625/5625",
       "layout": "IPY_MODEL_b7f75b0a034e452eaa5dfbd5e88f10d6",
       "max": 5625,
       "style": "IPY_MODEL_a49aae3dc91f416eae55969453d87767",
       "value": 5625
      }
     },
     "1dcba4afcc774442903b11af4d3c698c": {
      "model_module": "@jupyter-widgets/controls",
      "model_module_version": "1.5.0",
      "model_name": "FloatProgressModel",
      "state": {
       "bar_style": "success",
       "description": "5625/5625",
       "layout": "IPY_MODEL_0fffd76c7b5a42cfb25ff624172b8284",
       "max": 5625,
       "style": "IPY_MODEL_3b726c0eecfc402bb083ed150d4bc007",
       "value": 5625
      }
     },
     "1de9068cb416424e8e67e7b0bd350295": {
      "model_module": "@jupyter-widgets/base",
      "model_module_version": "1.2.0",
      "model_name": "LayoutModel",
      "state": {}
     },
     "1e00da670dfb49f3a8e7dd474fcd05d5": {
      "model_module": "@jupyter-widgets/base",
      "model_module_version": "1.2.0",
      "model_name": "LayoutModel",
      "state": {
       "display": "inline-flex",
       "flex_flow": "row wrap",
       "width": "100%"
      }
     },
     "1e0fe6b4d3034d5696beae28c66230bd": {
      "model_module": "@jupyter-widgets/controls",
      "model_module_version": "1.5.0",
      "model_name": "FloatProgressModel",
      "state": {
       "bar_style": "success",
       "description": "5625/5625",
       "layout": "IPY_MODEL_dda819974ba14595b881dc10113b1d96",
       "max": 5625,
       "style": "IPY_MODEL_637ef2847cab4915a4f245b403624b55",
       "value": 5625
      }
     },
     "1e419c47bbd94c2895df905799c22419": {
      "model_module": "@jupyter-widgets/controls",
      "model_module_version": "1.5.0",
      "model_name": "FloatProgressModel",
      "state": {
       "bar_style": "success",
       "description": "5625/5625",
       "layout": "IPY_MODEL_f028e550dc1243988a4d4cfb47c2e3e6",
       "max": 5625,
       "style": "IPY_MODEL_550ce6b3780a43cda46d3fc997ced2a8",
       "value": 5625
      }
     },
     "1e42bffa73b143058aa073ee635eebe3": {
      "model_module": "@jupyter-widgets/controls",
      "model_module_version": "1.5.0",
      "model_name": "ProgressStyleModel",
      "state": {
       "description_width": "initial"
      }
     },
     "1f268842a1f54ad2ba9f195894f5ede5": {
      "model_module": "@jupyter-widgets/controls",
      "model_module_version": "1.5.0",
      "model_name": "ProgressStyleModel",
      "state": {
       "description_width": "initial"
      }
     },
     "1f4efb94879e4e0584896a5df2339aa3": {
      "model_module": "@jupyter-widgets/controls",
      "model_module_version": "1.5.0",
      "model_name": "FloatProgressModel",
      "state": {
       "bar_style": "success",
       "description": "5625/5625",
       "layout": "IPY_MODEL_b61ccdf2071740b8976edcec74656328",
       "max": 5625,
       "style": "IPY_MODEL_1b1c7c509dd345bdad76c9c45e31e37a",
       "value": 5625
      }
     },
     "1f5dc62bca2c4659aa970dd42d59fc2b": {
      "model_module": "@jupyter-widgets/controls",
      "model_module_version": "1.5.0",
      "model_name": "DescriptionStyleModel",
      "state": {
       "description_width": ""
      }
     },
     "20605bf382c443bd8592961af4c2cde1": {
      "model_module": "@jupyter-widgets/base",
      "model_module_version": "1.2.0",
      "model_name": "LayoutModel",
      "state": {}
     },
     "20a4fba6eed14853aeaac2fb7915e42b": {
      "model_module": "@jupyter-widgets/controls",
      "model_module_version": "1.5.0",
      "model_name": "HTMLModel",
      "state": {
       "layout": "IPY_MODEL_99f468122a8b46da81d3033c614a3236",
       "style": "IPY_MODEL_ec3c343f3d5e41318161977a98015ab6",
       "value": " ETA: 00:00s - loss: 0.0306 - val_loss: 0.0318"
      }
     },
     "20ef58cd22da480eba93c43c6be7298c": {
      "model_module": "@jupyter-widgets/controls",
      "model_module_version": "1.5.0",
      "model_name": "DescriptionStyleModel",
      "state": {
       "description_width": ""
      }
     },
     "21047d3ae9d744dda7e23bf246b8be00": {
      "model_module": "@jupyter-widgets/base",
      "model_module_version": "1.2.0",
      "model_name": "LayoutModel",
      "state": {
       "display": "inline-flex",
       "flex_flow": "row wrap",
       "width": "100%"
      }
     },
     "214476cd31714787b4ef8a11a30bcd01": {
      "model_module": "@jupyter-widgets/base",
      "model_module_version": "1.2.0",
      "model_name": "LayoutModel",
      "state": {
       "display": "inline-flex",
       "flex_flow": "row wrap",
       "width": "100%"
      }
     },
     "214994cec0b64e9fb90f86d56f84452d": {
      "model_module": "@jupyter-widgets/base",
      "model_module_version": "1.2.0",
      "model_name": "LayoutModel",
      "state": {
       "flex": "2"
      }
     },
     "221e4533692c4bac9ac36e8ec5ff0a91": {
      "model_module": "@jupyter-widgets/base",
      "model_module_version": "1.2.0",
      "model_name": "LayoutModel",
      "state": {
       "display": "inline-flex",
       "flex_flow": "row wrap",
       "width": "100%"
      }
     },
     "2222adfb6c92454e833f0e725713a8c0": {
      "model_module": "@jupyter-widgets/base",
      "model_module_version": "1.2.0",
      "model_name": "LayoutModel",
      "state": {}
     },
     "223ccdde7f474b7a86d1589c56659570": {
      "model_module": "@jupyter-widgets/base",
      "model_module_version": "1.2.0",
      "model_name": "LayoutModel",
      "state": {
       "flex": "2"
      }
     },
     "22439292296f4522b73d39af78edb4f7": {
      "model_module": "@jupyter-widgets/base",
      "model_module_version": "1.2.0",
      "model_name": "LayoutModel",
      "state": {
       "display": "inline-flex",
       "flex_flow": "row wrap",
       "width": "100%"
      }
     },
     "2285054d1e07443f851d2444bd8c38b9": {
      "model_module": "@jupyter-widgets/controls",
      "model_module_version": "1.5.0",
      "model_name": "FloatProgressModel",
      "state": {
       "bar_style": "success",
       "description": "5625/5625",
       "layout": "IPY_MODEL_048d2ffb0109487f87567103cc10180f",
       "max": 5625,
       "style": "IPY_MODEL_75b5e615b6e54e0ba02cfbded8677c2b",
       "value": 5625
      }
     },
     "22a0e9052a5c451ca1f0781cf610ca9c": {
      "model_module": "@jupyter-widgets/base",
      "model_module_version": "1.2.0",
      "model_name": "LayoutModel",
      "state": {
       "flex": "2"
      }
     },
     "2338b4a0a8b64728a83d82b9abc1d433": {
      "model_module": "@jupyter-widgets/controls",
      "model_module_version": "1.5.0",
      "model_name": "ProgressStyleModel",
      "state": {
       "description_width": "initial"
      }
     },
     "235b39642e7b4b629139b827cd3e4ee3": {
      "model_module": "@jupyter-widgets/controls",
      "model_module_version": "1.5.0",
      "model_name": "HBoxModel",
      "state": {
       "children": [
        "IPY_MODEL_daf3ff81f2684893abc757f91c87a354",
        "IPY_MODEL_ba4035e495af4028973fce5103553af9"
       ],
       "layout": "IPY_MODEL_b251c333d9ef4a0db22a300d6d233e63"
      }
     },
     "23a8ce4777064e81ae212a61820ade46": {
      "model_module": "@jupyter-widgets/base",
      "model_module_version": "1.2.0",
      "model_name": "LayoutModel",
      "state": {
       "display": "inline-flex",
       "flex_flow": "row wrap",
       "width": "100%"
      }
     },
     "23d74721a67c42968bdb07fc9c797c29": {
      "model_module": "@jupyter-widgets/controls",
      "model_module_version": "1.5.0",
      "model_name": "HBoxModel",
      "state": {
       "children": [
        "IPY_MODEL_34d3311947224f128ea2892bb8ba4475",
        "IPY_MODEL_5e19d7e94f124fe4b99a047048b513ce"
       ],
       "layout": "IPY_MODEL_b76afa78b28045fea3b4ca2953290ea7"
      }
     },
     "245ed92762d1485b9741695463a45094": {
      "model_module": "@jupyter-widgets/controls",
      "model_module_version": "1.5.0",
      "model_name": "ProgressStyleModel",
      "state": {
       "description_width": "initial"
      }
     },
     "24662bea3de74143a036e7f002bfa646": {
      "model_module": "@jupyter-widgets/base",
      "model_module_version": "1.2.0",
      "model_name": "LayoutModel",
      "state": {
       "flex": "2"
      }
     },
     "251af17ceb19475db55ac4da4ae66222": {
      "model_module": "@jupyter-widgets/controls",
      "model_module_version": "1.5.0",
      "model_name": "FloatProgressModel",
      "state": {
       "bar_style": "success",
       "description": "5625/5625",
       "layout": "IPY_MODEL_338c49b7609a437893fa9805ada2a4c4",
       "max": 5625,
       "style": "IPY_MODEL_b7746423cd214639a6333d0cfcdcbb9a",
       "value": 5625
      }
     },
     "255164d5f29842b9b74fc251e01222bd": {
      "model_module": "@jupyter-widgets/base",
      "model_module_version": "1.2.0",
      "model_name": "LayoutModel",
      "state": {
       "display": "inline-flex",
       "flex_flow": "row wrap",
       "width": "100%"
      }
     },
     "257c36fedc3f42fca27d837577d08f5c": {
      "model_module": "@jupyter-widgets/base",
      "model_module_version": "1.2.0",
      "model_name": "LayoutModel",
      "state": {}
     },
     "258ecffc051f476e8ed58305724d23d9": {
      "model_module": "@jupyter-widgets/controls",
      "model_module_version": "1.5.0",
      "model_name": "FloatProgressModel",
      "state": {
       "bar_style": "success",
       "description": "5625/5625",
       "layout": "IPY_MODEL_8908227a7c424e9c995f9e6299f04950",
       "max": 5625,
       "style": "IPY_MODEL_82e99adc78bd485d94a19766c434990d",
       "value": 5625
      }
     },
     "25b3b080fc24407eb88c65100189cc8b": {
      "model_module": "@jupyter-widgets/controls",
      "model_module_version": "1.5.0",
      "model_name": "HBoxModel",
      "state": {
       "children": [
        "IPY_MODEL_e501b7339b114663a999438ee7e46ebb",
        "IPY_MODEL_3d8c989cf8da4acc96431b9aebbbe04a"
       ],
       "layout": "IPY_MODEL_6ca3aeec748b4de593281c4015362710"
      }
     },
     "25d7ab7f9cf4424f885b4a9dff638ff0": {
      "model_module": "@jupyter-widgets/base",
      "model_module_version": "1.2.0",
      "model_name": "LayoutModel",
      "state": {}
     },
     "25e6582c0b0b406f9782eb3572097f6a": {
      "model_module": "@jupyter-widgets/base",
      "model_module_version": "1.2.0",
      "model_name": "LayoutModel",
      "state": {
       "flex": "2"
      }
     },
     "25ed41c65a8e4f4eb4668f3e15b20af6": {
      "model_module": "@jupyter-widgets/controls",
      "model_module_version": "1.5.0",
      "model_name": "ProgressStyleModel",
      "state": {
       "description_width": "initial"
      }
     },
     "261dec81121649fda047087fc42e0e9f": {
      "model_module": "@jupyter-widgets/controls",
      "model_module_version": "1.5.0",
      "model_name": "HTMLModel",
      "state": {
       "layout": "IPY_MODEL_5e5f276f86bf4655816265496b552fb1",
       "style": "IPY_MODEL_36d8a71f8f4d40d7b8167165a0f04fb8",
       "value": " ETA: 00:00s - loss: 0.0281 - val_loss: 0.0275"
      }
     },
     "2672c4fa4d8c4b79b62ccd9c4e9cec16": {
      "model_module": "@jupyter-widgets/base",
      "model_module_version": "1.2.0",
      "model_name": "LayoutModel",
      "state": {}
     },
     "26a786305e704261a7f64d14dcc71f5b": {
      "model_module": "@jupyter-widgets/controls",
      "model_module_version": "1.5.0",
      "model_name": "HBoxModel",
      "state": {
       "children": [
        "IPY_MODEL_742e644165934caf89fab311803e67fe",
        "IPY_MODEL_30d264cb51fb47f2b084d01e89c19041"
       ],
       "layout": "IPY_MODEL_3939026970634ddfa845d7a3118f4b4e"
      }
     },
     "26ea284cde004d008af47ed87711f283": {
      "model_module": "@jupyter-widgets/controls",
      "model_module_version": "1.5.0",
      "model_name": "FloatProgressModel",
      "state": {
       "bar_style": "success",
       "description": "5625/5625",
       "layout": "IPY_MODEL_07b07523aa224512b6960984b1636b81",
       "max": 5625,
       "style": "IPY_MODEL_4ca70b2a666f43e687932afe877da02d",
       "value": 5625
      }
     },
     "275441114dcf49439197c3e9b575f20c": {
      "model_module": "@jupyter-widgets/base",
      "model_module_version": "1.2.0",
      "model_name": "LayoutModel",
      "state": {
       "display": "inline-flex",
       "flex_flow": "row wrap",
       "width": "100%"
      }
     },
     "278e12d6845c49bf83d1c8d4e8f4eb24": {
      "model_module": "@jupyter-widgets/controls",
      "model_module_version": "1.5.0",
      "model_name": "DescriptionStyleModel",
      "state": {
       "description_width": ""
      }
     },
     "27d6c665ecb341b6b033404f566b3540": {
      "model_module": "@jupyter-widgets/controls",
      "model_module_version": "1.5.0",
      "model_name": "ProgressStyleModel",
      "state": {
       "description_width": "initial"
      }
     },
     "27ec95af6e904ebdacf3c6f5e60b216f": {
      "model_module": "@jupyter-widgets/controls",
      "model_module_version": "1.5.0",
      "model_name": "HBoxModel",
      "state": {
       "children": [
        "IPY_MODEL_d2ed586324074a1db8cf4618aad8938e",
        "IPY_MODEL_2ba6867d363e4f19b2d329c246150d0a"
       ],
       "layout": "IPY_MODEL_48e20c7fd2834ebc9353420eedf3f0e8"
      }
     },
     "27f3a6e7039740f1944363387cc003c1": {
      "model_module": "@jupyter-widgets/controls",
      "model_module_version": "1.5.0",
      "model_name": "DescriptionStyleModel",
      "state": {
       "description_width": ""
      }
     },
     "28a40f88f75043b8a1de942926239188": {
      "model_module": "@jupyter-widgets/controls",
      "model_module_version": "1.5.0",
      "model_name": "HBoxModel",
      "state": {
       "children": [
        "IPY_MODEL_54aafe6ef04b4054a8a60060a668b593",
        "IPY_MODEL_b9feabc44ee643e29545d6acf40304b3"
       ],
       "layout": "IPY_MODEL_02c6e2c907bd4c5b97bb473e6161af63"
      }
     },
     "28e665ff6b10404c8ed93eec1a888fba": {
      "model_module": "@jupyter-widgets/controls",
      "model_module_version": "1.5.0",
      "model_name": "ProgressStyleModel",
      "state": {
       "description_width": "initial"
      }
     },
     "28ec857b40974d5ea682237e02b22f72": {
      "model_module": "@jupyter-widgets/controls",
      "model_module_version": "1.5.0",
      "model_name": "DescriptionStyleModel",
      "state": {
       "description_width": ""
      }
     },
     "2946e3f0a5274242ad016ad07c3aacd0": {
      "model_module": "@jupyter-widgets/controls",
      "model_module_version": "1.5.0",
      "model_name": "DescriptionStyleModel",
      "state": {
       "description_width": ""
      }
     },
     "298114975f9348e48003830e8d3d8de5": {
      "model_module": "@jupyter-widgets/base",
      "model_module_version": "1.2.0",
      "model_name": "LayoutModel",
      "state": {}
     },
     "29bab2a634734479a9012fdde2548195": {
      "model_module": "@jupyter-widgets/base",
      "model_module_version": "1.2.0",
      "model_name": "LayoutModel",
      "state": {
       "flex": "2"
      }
     },
     "29c840d84c3243eeb74db2e82b6b5ffa": {
      "model_module": "@jupyter-widgets/controls",
      "model_module_version": "1.5.0",
      "model_name": "HTMLModel",
      "state": {
       "layout": "IPY_MODEL_1de9068cb416424e8e67e7b0bd350295",
       "style": "IPY_MODEL_d067559b2d19449881d0cb964b9e402f",
       "value": " ETA: 00:00s - loss: 0.0278 - val_loss: 0.0281"
      }
     },
     "29edc82c4df34ba5beae9c7eaf959dd1": {
      "model_module": "@jupyter-widgets/base",
      "model_module_version": "1.2.0",
      "model_name": "LayoutModel",
      "state": {
       "flex": "2"
      }
     },
     "2a0428c71cfd4877ab6b9e1e1d1264cb": {
      "model_module": "@jupyter-widgets/controls",
      "model_module_version": "1.5.0",
      "model_name": "HBoxModel",
      "state": {
       "children": [
        "IPY_MODEL_2f944a72087344d78fbd1b15b11f6a85",
        "IPY_MODEL_878b9e600ac2496da87c89b303363c86"
       ],
       "layout": "IPY_MODEL_b9ec2b83844d476a8d5526311555666f"
      }
     },
     "2afd3ff19f5846eeaa89dee38743eab5": {
      "model_module": "@jupyter-widgets/base",
      "model_module_version": "1.2.0",
      "model_name": "LayoutModel",
      "state": {
       "flex": "2"
      }
     },
     "2b297e42b6d249d299229bf587e83a89": {
      "model_module": "@jupyter-widgets/base",
      "model_module_version": "1.2.0",
      "model_name": "LayoutModel",
      "state": {}
     },
     "2b3ab2a929e94fb9b431886b23f33d22": {
      "model_module": "@jupyter-widgets/controls",
      "model_module_version": "1.5.0",
      "model_name": "DescriptionStyleModel",
      "state": {
       "description_width": ""
      }
     },
     "2b424cf6805248ad85f96c784efed276": {
      "model_module": "@jupyter-widgets/base",
      "model_module_version": "1.2.0",
      "model_name": "LayoutModel",
      "state": {}
     },
     "2b71ea2569ba4410b5e750d5fd6be23c": {
      "model_module": "@jupyter-widgets/controls",
      "model_module_version": "1.5.0",
      "model_name": "FloatProgressModel",
      "state": {
       "bar_style": "success",
       "description": "5625/5625",
       "layout": "IPY_MODEL_8ab9cf5669134da290e21bfe31d7b286",
       "max": 5625,
       "style": "IPY_MODEL_57711d9dc8084a73a3736d87b26be13f",
       "value": 5625
      }
     },
     "2b7bcb648c0f46969ca13a7938f5ec90": {
      "model_module": "@jupyter-widgets/base",
      "model_module_version": "1.2.0",
      "model_name": "LayoutModel",
      "state": {}
     },
     "2b7dea1b35d44decb60c6bc576f7bc0c": {
      "model_module": "@jupyter-widgets/controls",
      "model_module_version": "1.5.0",
      "model_name": "DescriptionStyleModel",
      "state": {
       "description_width": ""
      }
     },
     "2ba6867d363e4f19b2d329c246150d0a": {
      "model_module": "@jupyter-widgets/controls",
      "model_module_version": "1.5.0",
      "model_name": "HTMLModel",
      "state": {
       "layout": "IPY_MODEL_2b7bcb648c0f46969ca13a7938f5ec90",
       "style": "IPY_MODEL_2c55c16eae3c41c483912c648cd6194d",
       "value": " ETA: 00:00s - loss: 0.0277 - val_loss: 0.0276"
      }
     },
     "2bbd650675424aa0a6280e4cb817d535": {
      "model_module": "@jupyter-widgets/base",
      "model_module_version": "1.2.0",
      "model_name": "LayoutModel",
      "state": {}
     },
     "2be4ce00f5eb4270a6e3bc32015a3b50": {
      "model_module": "@jupyter-widgets/controls",
      "model_module_version": "1.5.0",
      "model_name": "ProgressStyleModel",
      "state": {
       "description_width": "initial"
      }
     },
     "2bf5aae881484760a62250d65b8d8a9b": {
      "model_module": "@jupyter-widgets/controls",
      "model_module_version": "1.5.0",
      "model_name": "HBoxModel",
      "state": {
       "children": [
        "IPY_MODEL_1501437541d3488b8c91dd9e8bfa1afc",
        "IPY_MODEL_2d072d38fb424babbc02499758b26e32"
       ],
       "layout": "IPY_MODEL_8fcdb2c3be7c4363b248fab80a776000"
      }
     },
     "2c310d483c44450b8a7a9fdf4c4b48de": {
      "model_module": "@jupyter-widgets/controls",
      "model_module_version": "1.5.0",
      "model_name": "FloatProgressModel",
      "state": {
       "bar_style": "success",
       "description": "5625/5625",
       "layout": "IPY_MODEL_0849592102604008bcc0e6c95be143d6",
       "max": 5625,
       "style": "IPY_MODEL_40895ff7eb77491592a61ab0f4c9e338",
       "value": 5625
      }
     },
     "2c410bb50df04e24af3161a47ab4049d": {
      "model_module": "@jupyter-widgets/controls",
      "model_module_version": "1.5.0",
      "model_name": "ProgressStyleModel",
      "state": {
       "description_width": "initial"
      }
     },
     "2c55c16eae3c41c483912c648cd6194d": {
      "model_module": "@jupyter-widgets/controls",
      "model_module_version": "1.5.0",
      "model_name": "DescriptionStyleModel",
      "state": {
       "description_width": ""
      }
     },
     "2c667313ebfd4e5f839de30092c30813": {
      "model_module": "@jupyter-widgets/base",
      "model_module_version": "1.2.0",
      "model_name": "LayoutModel",
      "state": {
       "display": "inline-flex",
       "flex_flow": "row wrap",
       "width": "100%"
      }
     },
     "2c86de0dc9f94a5f9943c32e964ee0a7": {
      "model_module": "@jupyter-widgets/controls",
      "model_module_version": "1.5.0",
      "model_name": "ProgressStyleModel",
      "state": {
       "description_width": "initial"
      }
     },
     "2c879ab63ccc4821bec6ee757f298478": {
      "model_module": "@jupyter-widgets/base",
      "model_module_version": "1.2.0",
      "model_name": "LayoutModel",
      "state": {
       "flex": "2"
      }
     },
     "2cbf3e8f03f241679631933ab773c633": {
      "model_module": "@jupyter-widgets/controls",
      "model_module_version": "1.5.0",
      "model_name": "FloatProgressModel",
      "state": {
       "bar_style": "success",
       "description": "5625/5625",
       "layout": "IPY_MODEL_81215f61e194422a8b994b7fad727ee5",
       "max": 5625,
       "style": "IPY_MODEL_b0e38dfa1bb74ec0861d62c0dd261449",
       "value": 5625
      }
     },
     "2cd1f40313494a24869e28ff9afa931e": {
      "model_module": "@jupyter-widgets/base",
      "model_module_version": "1.2.0",
      "model_name": "LayoutModel",
      "state": {
       "flex": "2"
      }
     },
     "2d072d38fb424babbc02499758b26e32": {
      "model_module": "@jupyter-widgets/controls",
      "model_module_version": "1.5.0",
      "model_name": "HTMLModel",
      "state": {
       "layout": "IPY_MODEL_d4099d87ae414c61a01fbe58de6ed859",
       "style": "IPY_MODEL_6413397dfbda4c4c9ecf4034c96c8e1e",
       "value": " ETA: 00:00s - loss: 0.0281 - val_loss: 0.0275"
      }
     },
     "2d0a6cf5c8e54e6589bd6ca2a6bad05c": {
      "model_module": "@jupyter-widgets/controls",
      "model_module_version": "1.5.0",
      "model_name": "HTMLModel",
      "state": {
       "layout": "IPY_MODEL_c7aaa7b324d4406fb50148b48df74a90",
       "style": "IPY_MODEL_4200cdf8b31344b7a66f856be3bc6d71",
       "value": " ETA: 00:00s - loss: 0.0279 - val_loss: 0.0279"
      }
     },
     "2d6fec79b7794728b39e34987f61bb6b": {
      "model_module": "@jupyter-widgets/controls",
      "model_module_version": "1.5.0",
      "model_name": "DescriptionStyleModel",
      "state": {
       "description_width": ""
      }
     },
     "2d712af7d5bd495396142b4c83df4b50": {
      "model_module": "@jupyter-widgets/base",
      "model_module_version": "1.2.0",
      "model_name": "LayoutModel",
      "state": {}
     },
     "2d842b2e8d80411faaaffc7f07b00dc0": {
      "model_module": "@jupyter-widgets/controls",
      "model_module_version": "1.5.0",
      "model_name": "FloatProgressModel",
      "state": {
       "bar_style": "danger",
       "description": "Training:   7%",
       "layout": "IPY_MODEL_2dbe43a4eeda4f93a8003c4bd195ed44",
       "max": 1000,
       "style": "IPY_MODEL_51e57f75092c4d6eb916d9498df6e649",
       "value": 66
      }
     },
     "2db6838968424fc6ba9e2f31c9f6d291": {
      "model_module": "@jupyter-widgets/controls",
      "model_module_version": "1.5.0",
      "model_name": "HTMLModel",
      "state": {
       "layout": "IPY_MODEL_1151dd7e950e4a62aa0c5ab9732f33e5",
       "style": "IPY_MODEL_f55fa280d94c4bcbb3c5081e095eb54a",
       "value": " ETA: 00:00s - loss: 0.0282 - val_loss: 0.0284"
      }
     },
     "2dbe43a4eeda4f93a8003c4bd195ed44": {
      "model_module": "@jupyter-widgets/base",
      "model_module_version": "1.2.0",
      "model_name": "LayoutModel",
      "state": {
       "flex": "2"
      }
     },
     "2debdc61f7ec44cbbbbf374fd9230aed": {
      "model_module": "@jupyter-widgets/controls",
      "model_module_version": "1.5.0",
      "model_name": "HBoxModel",
      "state": {
       "children": [
        "IPY_MODEL_f1ebbb998b994abe945be030712a8a30",
        "IPY_MODEL_b6ab1e36a66941549727530c9925ac0d"
       ],
       "layout": "IPY_MODEL_c6755d7175b94925ae8d51582a0ac1b7"
      }
     },
     "2e1a55130b844b44b7d76117ab743f10": {
      "model_module": "@jupyter-widgets/controls",
      "model_module_version": "1.5.0",
      "model_name": "DescriptionStyleModel",
      "state": {
       "description_width": ""
      }
     },
     "2e1a7423405b4066a965a464034f5f9a": {
      "model_module": "@jupyter-widgets/base",
      "model_module_version": "1.2.0",
      "model_name": "LayoutModel",
      "state": {
       "flex": "2"
      }
     },
     "2e82d1f74787417089ba2186d852fcf8": {
      "model_module": "@jupyter-widgets/controls",
      "model_module_version": "1.5.0",
      "model_name": "HBoxModel",
      "state": {
       "children": [
        "IPY_MODEL_c9e79a4838b64deab92a174ab0e703bb",
        "IPY_MODEL_2db6838968424fc6ba9e2f31c9f6d291"
       ],
       "layout": "IPY_MODEL_a28705292c294c12a69998ed4027e6f1"
      }
     },
     "2ec3f532434547318c5a1d7aefdf8196": {
      "model_module": "@jupyter-widgets/controls",
      "model_module_version": "1.5.0",
      "model_name": "HTMLModel",
      "state": {
       "layout": "IPY_MODEL_8b7d4ea862fc44ae85f100c629837eb5",
       "style": "IPY_MODEL_2d6fec79b7794728b39e34987f61bb6b",
       "value": " ETA: 00:00s - loss: 0.0280 - val_loss: 0.0276"
      }
     },
     "2ee44423512d40069f5157711ebfaeb8": {
      "model_module": "@jupyter-widgets/base",
      "model_module_version": "1.2.0",
      "model_name": "LayoutModel",
      "state": {}
     },
     "2f5542d21fc44d55bf2152766ad7919f": {
      "model_module": "@jupyter-widgets/controls",
      "model_module_version": "1.5.0",
      "model_name": "FloatProgressModel",
      "state": {
       "bar_style": "success",
       "description": "5625/5625",
       "layout": "IPY_MODEL_4c485f1722374eb18d687779ec4c4f7b",
       "max": 5625,
       "style": "IPY_MODEL_55c87568d7de4260bae8f6f744820cba",
       "value": 5625
      }
     },
     "2f944a72087344d78fbd1b15b11f6a85": {
      "model_module": "@jupyter-widgets/controls",
      "model_module_version": "1.5.0",
      "model_name": "FloatProgressModel",
      "state": {
       "bar_style": "success",
       "description": "5625/5625",
       "layout": "IPY_MODEL_223ccdde7f474b7a86d1589c56659570",
       "max": 5625,
       "style": "IPY_MODEL_e18b9108559d40e4a91748ed01eba750",
       "value": 5625
      }
     },
     "304f7249f3a7423190ac7c9fdc965f48": {
      "model_module": "@jupyter-widgets/controls",
      "model_module_version": "1.5.0",
      "model_name": "DescriptionStyleModel",
      "state": {
       "description_width": ""
      }
     },
     "3074689cc2f148b9b8fff4fd99cb3e01": {
      "model_module": "@jupyter-widgets/controls",
      "model_module_version": "1.5.0",
      "model_name": "FloatProgressModel",
      "state": {
       "bar_style": "success",
       "description": "5625/5625",
       "layout": "IPY_MODEL_fba2d08b26b248f4825a8639a0db8114",
       "max": 5625,
       "style": "IPY_MODEL_28e665ff6b10404c8ed93eec1a888fba",
       "value": 5625
      }
     },
     "30c89c2dd2304aa8a47b228be15f073d": {
      "model_module": "@jupyter-widgets/base",
      "model_module_version": "1.2.0",
      "model_name": "LayoutModel",
      "state": {
       "display": "inline-flex",
       "flex_flow": "row wrap",
       "width": "100%"
      }
     },
     "30d264cb51fb47f2b084d01e89c19041": {
      "model_module": "@jupyter-widgets/controls",
      "model_module_version": "1.5.0",
      "model_name": "HTMLModel",
      "state": {
       "layout": "IPY_MODEL_0562badc21a9430ca7f5a519aad29b09",
       "style": "IPY_MODEL_119d487f44064cb5ab72893060c70ec1",
       "value": " ETA: 00:00s - loss: 0.0335 - val_loss: 0.0336"
      }
     },
     "31255733753b42f2857797ea86d1829a": {
      "model_module": "@jupyter-widgets/controls",
      "model_module_version": "1.5.0",
      "model_name": "HTMLModel",
      "state": {
       "layout": "IPY_MODEL_65afbd96655548e68cf3a56d300812cd",
       "style": "IPY_MODEL_eb539527bdf447a1b35893092961b98f",
       "value": " ETA: 00:00s - loss: 0.0283 - val_loss: 0.0274"
      }
     },
     "313d179700b8434aa9a1adc304221bfe": {
      "model_module": "@jupyter-widgets/controls",
      "model_module_version": "1.5.0",
      "model_name": "FloatProgressModel",
      "state": {
       "bar_style": "success",
       "description": "5625/5625",
       "layout": "IPY_MODEL_93b53dddbeb4448c8f2ac0e574219212",
       "max": 5625,
       "style": "IPY_MODEL_a6f6bc79e3064848b4330a87bb502e70",
       "value": 5625
      }
     },
     "313f11285ae342e08422637e67c8102a": {
      "model_module": "@jupyter-widgets/controls",
      "model_module_version": "1.5.0",
      "model_name": "FloatProgressModel",
      "state": {
       "bar_style": "success",
       "description": "5625/5625",
       "layout": "IPY_MODEL_591a7de9e66e413bbc750e7af5bd7679",
       "max": 5625,
       "style": "IPY_MODEL_f53a5549b4f2420f864b7fba20afb3bb",
       "value": 5625
      }
     },
     "31a30a241ec4452fa976001be2c2af91": {
      "model_module": "@jupyter-widgets/base",
      "model_module_version": "1.2.0",
      "model_name": "LayoutModel",
      "state": {
       "flex": "2"
      }
     },
     "31b65932615f49caae5b74fe23744f9b": {
      "model_module": "@jupyter-widgets/controls",
      "model_module_version": "1.5.0",
      "model_name": "DescriptionStyleModel",
      "state": {
       "description_width": ""
      }
     },
     "322e57202dfa4c2f9fcd801c5583e70c": {
      "model_module": "@jupyter-widgets/base",
      "model_module_version": "1.2.0",
      "model_name": "LayoutModel",
      "state": {
       "flex": "2"
      }
     },
     "325521992a864a54ae563e6982187b9a": {
      "model_module": "@jupyter-widgets/base",
      "model_module_version": "1.2.0",
      "model_name": "LayoutModel",
      "state": {}
     },
     "3257c2f049b441c4a517f3cbd95069e2": {
      "model_module": "@jupyter-widgets/base",
      "model_module_version": "1.2.0",
      "model_name": "LayoutModel",
      "state": {
       "display": "inline-flex",
       "flex_flow": "row wrap",
       "width": "100%"
      }
     },
     "326eb3b9ae0c42b7ad959044387928bc": {
      "model_module": "@jupyter-widgets/controls",
      "model_module_version": "1.5.0",
      "model_name": "FloatProgressModel",
      "state": {
       "bar_style": "success",
       "description": "5625/5625",
       "layout": "IPY_MODEL_4bb21f68ffc544b4ac39d4f5e71fb746",
       "max": 5625,
       "style": "IPY_MODEL_b170a856cf2a498e8f23992314034537",
       "value": 5625
      }
     },
     "3286ddb1fc7c4b3098a49003b601e32b": {
      "model_module": "@jupyter-widgets/controls",
      "model_module_version": "1.5.0",
      "model_name": "HBoxModel",
      "state": {
       "children": [
        "IPY_MODEL_f2698039a80443fc9531d759101c88a0",
        "IPY_MODEL_bb77106d312249009b657ea1f9a9364e"
       ],
       "layout": "IPY_MODEL_10bbefc90b6f464ea6595f0477f05eb4"
      }
     },
     "32f5a8b4768644e6a19549d28d05f1ea": {
      "model_module": "@jupyter-widgets/controls",
      "model_module_version": "1.5.0",
      "model_name": "ProgressStyleModel",
      "state": {
       "description_width": "initial"
      }
     },
     "32ffbf41dcea45ae91801c77cf2bf2f4": {
      "model_module": "@jupyter-widgets/base",
      "model_module_version": "1.2.0",
      "model_name": "LayoutModel",
      "state": {}
     },
     "331115a81a6847468400083070219a8b": {
      "model_module": "@jupyter-widgets/base",
      "model_module_version": "1.2.0",
      "model_name": "LayoutModel",
      "state": {}
     },
     "3335cb6387754513a6b2882e933e530c": {
      "model_module": "@jupyter-widgets/base",
      "model_module_version": "1.2.0",
      "model_name": "LayoutModel",
      "state": {
       "display": "inline-flex",
       "flex_flow": "row wrap",
       "width": "100%"
      }
     },
     "338c49b7609a437893fa9805ada2a4c4": {
      "model_module": "@jupyter-widgets/base",
      "model_module_version": "1.2.0",
      "model_name": "LayoutModel",
      "state": {
       "flex": "2"
      }
     },
     "33bcaab93ca04fc580854ab51386a76f": {
      "model_module": "@jupyter-widgets/controls",
      "model_module_version": "1.5.0",
      "model_name": "ProgressStyleModel",
      "state": {
       "description_width": "initial"
      }
     },
     "33c77803aa0a4e24ad200e818285a257": {
      "model_module": "@jupyter-widgets/controls",
      "model_module_version": "1.5.0",
      "model_name": "DescriptionStyleModel",
      "state": {
       "description_width": ""
      }
     },
     "3456d83962014dc598b3661fff3fc195": {
      "model_module": "@jupyter-widgets/controls",
      "model_module_version": "1.5.0",
      "model_name": "HBoxModel",
      "state": {
       "children": [
        "IPY_MODEL_b339a21c263540efb57f146fd0eb1e4b",
        "IPY_MODEL_e5d23871668541c8af0d85a994ce7bba"
       ],
       "layout": "IPY_MODEL_9ab7a528ce5e44a49ec12455a16dfd06"
      }
     },
     "34a347158e334e158b18182b49584b0d": {
      "model_module": "@jupyter-widgets/base",
      "model_module_version": "1.2.0",
      "model_name": "LayoutModel",
      "state": {
       "display": "inline-flex",
       "flex_flow": "row wrap",
       "width": "100%"
      }
     },
     "34ba3454818d48a9bb96589788ab1e9f": {
      "model_module": "@jupyter-widgets/controls",
      "model_module_version": "1.5.0",
      "model_name": "HTMLModel",
      "state": {
       "layout": "IPY_MODEL_4e8abf7854204ec79a3de3e5ab47bcb8",
       "style": "IPY_MODEL_a0929b7a649049f2b386f0a1086151bd",
       "value": " ETA: 00:00s - loss: 0.0278 - val_loss: 0.0273"
      }
     },
     "34d3311947224f128ea2892bb8ba4475": {
      "model_module": "@jupyter-widgets/controls",
      "model_module_version": "1.5.0",
      "model_name": "FloatProgressModel",
      "state": {
       "bar_style": "success",
       "description": "5625/5625",
       "layout": "IPY_MODEL_888568a0c7564153acbfbf8808dfbfa8",
       "max": 5625,
       "style": "IPY_MODEL_7ace54863df8430b8c13390e17466e61",
       "value": 5625
      }
     },
     "356f452b41af474bace120f78017c85e": {
      "model_module": "@jupyter-widgets/controls",
      "model_module_version": "1.5.0",
      "model_name": "FloatProgressModel",
      "state": {
       "bar_style": "success",
       "description": "5625/5625",
       "layout": "IPY_MODEL_9b8c63f70db34eb2ac291c26582b431a",
       "max": 5625,
       "style": "IPY_MODEL_2c86de0dc9f94a5f9943c32e964ee0a7",
       "value": 5625
      }
     },
     "3634325632df415a882a786d19f9f076": {
      "model_module": "@jupyter-widgets/controls",
      "model_module_version": "1.5.0",
      "model_name": "HTMLModel",
      "state": {
       "layout": "IPY_MODEL_9f6779ea6d79433b8d6b0d0b0c29a281",
       "style": "IPY_MODEL_a9f5637ec2284222a689320cac290e0b",
       "value": " ETA: 00:00s - loss: 0.0278 - val_loss: 0.0273"
      }
     },
     "368799b003f64b72b940abc4d2b28d95": {
      "model_module": "@jupyter-widgets/controls",
      "model_module_version": "1.5.0",
      "model_name": "HBoxModel",
      "state": {
       "children": [
        "IPY_MODEL_813f00c50dd446bd8e62462fff0fa051",
        "IPY_MODEL_2d0a6cf5c8e54e6589bd6ca2a6bad05c"
       ],
       "layout": "IPY_MODEL_d1faca9ca81a499b99975798d3aacf5e"
      }
     },
     "36d8a71f8f4d40d7b8167165a0f04fb8": {
      "model_module": "@jupyter-widgets/controls",
      "model_module_version": "1.5.0",
      "model_name": "DescriptionStyleModel",
      "state": {
       "description_width": ""
      }
     },
     "36dfda8fdbf3466c80fe632ed0b8bc99": {
      "model_module": "@jupyter-widgets/controls",
      "model_module_version": "1.5.0",
      "model_name": "HBoxModel",
      "state": {
       "children": [
        "IPY_MODEL_1d9061b8926b49bdad321a66be0eecb6",
        "IPY_MODEL_9a2cb36a40fa410e860770b96e9e6348"
       ],
       "layout": "IPY_MODEL_cdc09969b13b44f78f837487a2679d97"
      }
     },
     "36e008a7405544cd9e4cc05a4f4a4dd3": {
      "model_module": "@jupyter-widgets/controls",
      "model_module_version": "1.5.0",
      "model_name": "HTMLModel",
      "state": {
       "layout": "IPY_MODEL_3e598f30d4cf4d66a32431a72fbfa0b5",
       "style": "IPY_MODEL_87d896cdbd7340c095da0c74a7fce84f",
       "value": " 92/1000 ETA: 24:44:54s,  98.12s/epochs"
      }
     },
     "36e3809ce099426990bb4bf5be2338e4": {
      "model_module": "@jupyter-widgets/controls",
      "model_module_version": "1.5.0",
      "model_name": "DescriptionStyleModel",
      "state": {
       "description_width": ""
      }
     },
     "3701bbe672a24680a8e829fda13ffc89": {
      "model_module": "@jupyter-widgets/base",
      "model_module_version": "1.2.0",
      "model_name": "LayoutModel",
      "state": {
       "display": "inline-flex",
       "flex_flow": "row wrap",
       "width": "100%"
      }
     },
     "3726092e2114435cbab1d599644b2c23": {
      "model_module": "@jupyter-widgets/controls",
      "model_module_version": "1.5.0",
      "model_name": "ProgressStyleModel",
      "state": {
       "description_width": "initial"
      }
     },
     "373d033789ef4b5095d4bd43d86ff5b5": {
      "model_module": "@jupyter-widgets/base",
      "model_module_version": "1.2.0",
      "model_name": "LayoutModel",
      "state": {
       "display": "inline-flex",
       "flex_flow": "row wrap",
       "width": "100%"
      }
     },
     "3754d1b4d0af4a2ab2af5c269205f4a9": {
      "model_module": "@jupyter-widgets/controls",
      "model_module_version": "1.5.0",
      "model_name": "DescriptionStyleModel",
      "state": {
       "description_width": ""
      }
     },
     "3871f89e357447c68bd5e637227d67d6": {
      "model_module": "@jupyter-widgets/controls",
      "model_module_version": "1.5.0",
      "model_name": "ProgressStyleModel",
      "state": {
       "description_width": "initial"
      }
     },
     "391728dc6bc84c599ac9eaa65eb03576": {
      "model_module": "@jupyter-widgets/controls",
      "model_module_version": "1.5.0",
      "model_name": "HTMLModel",
      "state": {
       "layout": "IPY_MODEL_a386caa7f0044e848a957234b9a49774",
       "style": "IPY_MODEL_83f47b3b89b04233957fbafa26bb1efd",
       "value": " ETA: 00:00s - loss: 0.0279 - val_loss: 0.0273"
      }
     },
     "3920e033e6d447cea3011603beef1280": {
      "model_module": "@jupyter-widgets/base",
      "model_module_version": "1.2.0",
      "model_name": "LayoutModel",
      "state": {}
     },
     "392f3c9f727e45a0ab2b35667aa3b4c7": {
      "model_module": "@jupyter-widgets/base",
      "model_module_version": "1.2.0",
      "model_name": "LayoutModel",
      "state": {
       "flex": "2"
      }
     },
     "3939026970634ddfa845d7a3118f4b4e": {
      "model_module": "@jupyter-widgets/base",
      "model_module_version": "1.2.0",
      "model_name": "LayoutModel",
      "state": {
       "display": "inline-flex",
       "flex_flow": "row wrap",
       "width": "100%"
      }
     },
     "393f52c956384267a231506cd3af5e98": {
      "model_module": "@jupyter-widgets/controls",
      "model_module_version": "1.5.0",
      "model_name": "ProgressStyleModel",
      "state": {
       "description_width": "initial"
      }
     },
     "39c2fa04e83d4df8a8d8d710f8b9c120": {
      "model_module": "@jupyter-widgets/controls",
      "model_module_version": "1.5.0",
      "model_name": "FloatProgressModel",
      "state": {
       "bar_style": "success",
       "description": "5625/5625",
       "layout": "IPY_MODEL_5ee0c490306541beb9dcc7eb414e9234",
       "max": 5625,
       "style": "IPY_MODEL_8c66ee6fc5694f6eb2500e8bdac32c52",
       "value": 5625
      }
     },
     "3a3a57feee014c62b41182d4488d5a25": {
      "model_module": "@jupyter-widgets/base",
      "model_module_version": "1.2.0",
      "model_name": "LayoutModel",
      "state": {
       "display": "inline-flex",
       "flex_flow": "row wrap",
       "width": "100%"
      }
     },
     "3a50fd6ebe4448df91c2693c0b6760a3": {
      "model_module": "@jupyter-widgets/controls",
      "model_module_version": "1.5.0",
      "model_name": "FloatProgressModel",
      "state": {
       "bar_style": "success",
       "description": "5625/5625",
       "layout": "IPY_MODEL_ea1135aa8ae4435eb5eff37b47872558",
       "max": 5625,
       "style": "IPY_MODEL_0039ef8cd29841fbb6c47bf5143d0722",
       "value": 5625
      }
     },
     "3aa391593fcf4e128d08f888396149a9": {
      "model_module": "@jupyter-widgets/base",
      "model_module_version": "1.2.0",
      "model_name": "LayoutModel",
      "state": {}
     },
     "3ab0475607de44549f5b7eca6c7de4c4": {
      "model_module": "@jupyter-widgets/base",
      "model_module_version": "1.2.0",
      "model_name": "LayoutModel",
      "state": {
       "display": "inline-flex",
       "flex_flow": "row wrap",
       "width": "100%"
      }
     },
     "3ac9c9e082a045bc91a91dc6fec474a8": {
      "model_module": "@jupyter-widgets/controls",
      "model_module_version": "1.5.0",
      "model_name": "DescriptionStyleModel",
      "state": {
       "description_width": ""
      }
     },
     "3acdd36e24cf46b5805cf18c9432ae37": {
      "model_module": "@jupyter-widgets/base",
      "model_module_version": "1.2.0",
      "model_name": "LayoutModel",
      "state": {
       "flex": "2"
      }
     },
     "3aea84743b914ac1939de3420172ab8b": {
      "model_module": "@jupyter-widgets/base",
      "model_module_version": "1.2.0",
      "model_name": "LayoutModel",
      "state": {
       "flex": "2"
      }
     },
     "3b36c590667d4e909705e7dc3aeb31eb": {
      "model_module": "@jupyter-widgets/base",
      "model_module_version": "1.2.0",
      "model_name": "LayoutModel",
      "state": {
       "display": "inline-flex",
       "flex_flow": "row wrap",
       "width": "100%"
      }
     },
     "3b5fa60019ca4b878c2baabc838a7836": {
      "model_module": "@jupyter-widgets/controls",
      "model_module_version": "1.5.0",
      "model_name": "FloatProgressModel",
      "state": {
       "bar_style": "success",
       "description": "5625/5625",
       "layout": "IPY_MODEL_755b290bf4da4ad2a094f07cad0b86f8",
       "max": 5625,
       "style": "IPY_MODEL_931af2743fbb4637a8147fb5d24983c0",
       "value": 5625
      }
     },
     "3b726c0eecfc402bb083ed150d4bc007": {
      "model_module": "@jupyter-widgets/controls",
      "model_module_version": "1.5.0",
      "model_name": "ProgressStyleModel",
      "state": {
       "description_width": "initial"
      }
     },
     "3b9dd6f810574ed698beb607662a8322": {
      "model_module": "@jupyter-widgets/base",
      "model_module_version": "1.2.0",
      "model_name": "LayoutModel",
      "state": {}
     },
     "3be378ec708042a6be77810267d16544": {
      "model_module": "@jupyter-widgets/controls",
      "model_module_version": "1.5.0",
      "model_name": "HTMLModel",
      "state": {
       "layout": "IPY_MODEL_79cd48a55cae421c834d6cecee96a46c",
       "style": "IPY_MODEL_90ac1d62874f4b7a8857e4a7a51a9d03",
       "value": " ETA: 00:00s - loss: 0.0286 - val_loss: 0.0278"
      }
     },
     "3c014a4d68e549f484adcdb7544bfe9d": {
      "model_module": "@jupyter-widgets/controls",
      "model_module_version": "1.5.0",
      "model_name": "DescriptionStyleModel",
      "state": {
       "description_width": ""
      }
     },
     "3c0edf97159948bbb2d4f1fc682d2b1c": {
      "model_module": "@jupyter-widgets/controls",
      "model_module_version": "1.5.0",
      "model_name": "HTMLModel",
      "state": {
       "layout": "IPY_MODEL_c69970e41d2946629d206593238e61dc",
       "style": "IPY_MODEL_da8eb70a90a44ec48fde48fc5780439c",
       "value": " ETA: 00:00s - loss: 0.0281 - val_loss: 0.0275"
      }
     },
     "3c27f25f5e834deca50d5bcea93e1b10": {
      "model_module": "@jupyter-widgets/controls",
      "model_module_version": "1.5.0",
      "model_name": "ProgressStyleModel",
      "state": {
       "description_width": "initial"
      }
     },
     "3c2c970b12e94a71a80f0d360059114b": {
      "model_module": "@jupyter-widgets/base",
      "model_module_version": "1.2.0",
      "model_name": "LayoutModel",
      "state": {
       "flex": "2"
      }
     },
     "3c3eeef5df9645b49d01ffd3bb93ecf1": {
      "model_module": "@jupyter-widgets/controls",
      "model_module_version": "1.5.0",
      "model_name": "FloatProgressModel",
      "state": {
       "bar_style": "success",
       "description": "5625/5625",
       "layout": "IPY_MODEL_870cc3a88ef74947be32703aa9ac0ae1",
       "max": 5625,
       "style": "IPY_MODEL_dc62fe08898c48c4ab7187dcda5004e9",
       "value": 5625
      }
     },
     "3c5eeabc4cbd4fc682d1dbef78c16783": {
      "model_module": "@jupyter-widgets/controls",
      "model_module_version": "1.5.0",
      "model_name": "HTMLModel",
      "state": {
       "layout": "IPY_MODEL_b2156d9ceff64b4b9befac7351e289d3",
       "style": "IPY_MODEL_8b9f74e96a80499db5a3dd3d9c35093a",
       "value": " ETA: 00:00s - loss: 0.0287 - val_loss: 0.0279"
      }
     },
     "3d383b97ca914b78871fcbb6baa092e0": {
      "model_module": "@jupyter-widgets/base",
      "model_module_version": "1.2.0",
      "model_name": "LayoutModel",
      "state": {
       "flex": "2"
      }
     },
     "3d4f658865c946509f297be6a7b8c7fa": {
      "model_module": "@jupyter-widgets/controls",
      "model_module_version": "1.5.0",
      "model_name": "DescriptionStyleModel",
      "state": {
       "description_width": ""
      }
     },
     "3d74457b2257427783fd19b74f74d4f6": {
      "model_module": "@jupyter-widgets/controls",
      "model_module_version": "1.5.0",
      "model_name": "HTMLModel",
      "state": {
       "layout": "IPY_MODEL_66c5f294df5846bba00885bff5cf635e",
       "style": "IPY_MODEL_304f7249f3a7423190ac7c9fdc965f48",
       "value": " ETA: 00:00s - loss: 0.0291 - val_loss: 0.0282"
      }
     },
     "3d7958c8831a4b21b9be205375b8c9fb": {
      "model_module": "@jupyter-widgets/controls",
      "model_module_version": "1.5.0",
      "model_name": "HTMLModel",
      "state": {
       "layout": "IPY_MODEL_7aea449008d24a1b898fd682c8f0d547",
       "style": "IPY_MODEL_36e3809ce099426990bb4bf5be2338e4",
       "value": " ETA: 00:00s - loss: 0.0280 - val_loss: 0.0274"
      }
     },
     "3d8c989cf8da4acc96431b9aebbbe04a": {
      "model_module": "@jupyter-widgets/controls",
      "model_module_version": "1.5.0",
      "model_name": "HTMLModel",
      "state": {
       "layout": "IPY_MODEL_325521992a864a54ae563e6982187b9a",
       "style": "IPY_MODEL_fed6e92bde244f22beadb12536a664bb",
       "value": " ETA: 00:00s - loss: 0.0283 - val_loss: 0.0282"
      }
     },
     "3da8dc60b9be4f729fe1a98218d67250": {
      "model_module": "@jupyter-widgets/controls",
      "model_module_version": "1.5.0",
      "model_name": "HTMLModel",
      "state": {
       "layout": "IPY_MODEL_9f2cd27335104653ad86628f8d9ccb87",
       "style": "IPY_MODEL_cec0b6ae21314d279ff23006d370aac4",
       "value": " ETA: 00:00s - loss: 0.0282 - val_loss: 0.0279"
      }
     },
     "3de72ad8090a4925b103aaedf34e205c": {
      "model_module": "@jupyter-widgets/base",
      "model_module_version": "1.2.0",
      "model_name": "LayoutModel",
      "state": {
       "display": "inline-flex",
       "flex_flow": "row wrap",
       "width": "100%"
      }
     },
     "3debd49f8b814d0092b3f686710ab7c4": {
      "model_module": "@jupyter-widgets/base",
      "model_module_version": "1.2.0",
      "model_name": "LayoutModel",
      "state": {}
     },
     "3e15bc73b42e4e64817adfe132046761": {
      "model_module": "@jupyter-widgets/controls",
      "model_module_version": "1.5.0",
      "model_name": "HBoxModel",
      "state": {
       "children": [
        "IPY_MODEL_95698dd6eea44a6c8e49c290a8bfd7b8",
        "IPY_MODEL_6da67e2043c64b5da28187662ad98dac"
       ],
       "layout": "IPY_MODEL_56cd823f7ae64889b71cbc40be267e52"
      }
     },
     "3e598f30d4cf4d66a32431a72fbfa0b5": {
      "model_module": "@jupyter-widgets/base",
      "model_module_version": "1.2.0",
      "model_name": "LayoutModel",
      "state": {}
     },
     "3e84eb6e24ea49b4b1bb1271fd09680c": {
      "model_module": "@jupyter-widgets/controls",
      "model_module_version": "1.5.0",
      "model_name": "DescriptionStyleModel",
      "state": {
       "description_width": ""
      }
     },
     "3ed7c1defa9d412998099c3fbe970705": {
      "model_module": "@jupyter-widgets/controls",
      "model_module_version": "1.5.0",
      "model_name": "HTMLModel",
      "state": {
       "layout": "IPY_MODEL_e7a2fdcc734b44f18720d05be31e6768",
       "style": "IPY_MODEL_31b65932615f49caae5b74fe23744f9b",
       "value": " ETA: 00:00s - loss: 0.0291 - val_loss: 0.0281"
      }
     },
     "3f04dd4488b14e18a45597da952a86cb": {
      "model_module": "@jupyter-widgets/controls",
      "model_module_version": "1.5.0",
      "model_name": "FloatProgressModel",
      "state": {
       "bar_style": "success",
       "description": "5625/5625",
       "layout": "IPY_MODEL_9f7a65cbd4104baebff70a6d8ae31a68",
       "max": 5625,
       "style": "IPY_MODEL_0a43f002782d42a6bd12f31f00888e93",
       "value": 5625
      }
     },
     "3f05f10f69004f5baa5685c412ec65aa": {
      "model_module": "@jupyter-widgets/base",
      "model_module_version": "1.2.0",
      "model_name": "LayoutModel",
      "state": {
       "display": "inline-flex",
       "flex_flow": "row wrap",
       "width": "100%"
      }
     },
     "3f0aef30f4b747168341f0bb3f713804": {
      "model_module": "@jupyter-widgets/base",
      "model_module_version": "1.2.0",
      "model_name": "LayoutModel",
      "state": {}
     },
     "3f22c1c9a4bd49c08fb85def951b24e5": {
      "model_module": "@jupyter-widgets/base",
      "model_module_version": "1.2.0",
      "model_name": "LayoutModel",
      "state": {
       "flex": "2"
      }
     },
     "3f22f57ce35144f69c5e792fbfc5177f": {
      "model_module": "@jupyter-widgets/controls",
      "model_module_version": "1.5.0",
      "model_name": "HBoxModel",
      "state": {
       "children": [
        "IPY_MODEL_7575c1fb3bab441aa96df8d93bc441a9",
        "IPY_MODEL_34ba3454818d48a9bb96589788ab1e9f"
       ],
       "layout": "IPY_MODEL_06c15ddcd1984783ae83f5ff43e40719"
      }
     },
     "3f769e6b649d40bf8b5aca16d05dc1d9": {
      "model_module": "@jupyter-widgets/controls",
      "model_module_version": "1.5.0",
      "model_name": "HBoxModel",
      "state": {
       "children": [
        "IPY_MODEL_e8eb17dc415343af9176eb574b093254",
        "IPY_MODEL_84977b130b2b436cbf3dda16c983e7fc"
       ],
       "layout": "IPY_MODEL_a390547b44f94b769a83c09f90a100c8"
      }
     },
     "401a25677c374b50b49eefb13b3897a4": {
      "model_module": "@jupyter-widgets/controls",
      "model_module_version": "1.5.0",
      "model_name": "DescriptionStyleModel",
      "state": {
       "description_width": ""
      }
     },
     "401e53c526ab4ff7b3ba43bc63399fac": {
      "model_module": "@jupyter-widgets/base",
      "model_module_version": "1.2.0",
      "model_name": "LayoutModel",
      "state": {
       "display": "inline-flex",
       "flex_flow": "row wrap",
       "width": "100%"
      }
     },
     "406774af4bfa4246bebd426f0a8561ed": {
      "model_module": "@jupyter-widgets/controls",
      "model_module_version": "1.5.0",
      "model_name": "ProgressStyleModel",
      "state": {
       "description_width": "initial"
      }
     },
     "40895ff7eb77491592a61ab0f4c9e338": {
      "model_module": "@jupyter-widgets/controls",
      "model_module_version": "1.5.0",
      "model_name": "ProgressStyleModel",
      "state": {
       "description_width": "initial"
      }
     },
     "408d4eeeeec14f75b504ac9bd210490b": {
      "model_module": "@jupyter-widgets/base",
      "model_module_version": "1.2.0",
      "model_name": "LayoutModel",
      "state": {}
     },
     "40a1ab4112ce490886edaa87490ba76f": {
      "model_module": "@jupyter-widgets/base",
      "model_module_version": "1.2.0",
      "model_name": "LayoutModel",
      "state": {
       "flex": "2"
      }
     },
     "40cc32d55fa3481786489116186f0e9a": {
      "model_module": "@jupyter-widgets/base",
      "model_module_version": "1.2.0",
      "model_name": "LayoutModel",
      "state": {
       "display": "inline-flex",
       "flex_flow": "row wrap",
       "width": "100%"
      }
     },
     "40fe1702cc74458a82fa3d8903040af3": {
      "model_module": "@jupyter-widgets/controls",
      "model_module_version": "1.5.0",
      "model_name": "HBoxModel",
      "state": {
       "children": [
        "IPY_MODEL_a13be5934e3445878449e7c180bbe90a",
        "IPY_MODEL_92cc172cb8624c18a703557fe1cc4eb7"
       ],
       "layout": "IPY_MODEL_3de72ad8090a4925b103aaedf34e205c"
      }
     },
     "410162500edd40818fcb52db6ac7fabe": {
      "model_module": "@jupyter-widgets/controls",
      "model_module_version": "1.5.0",
      "model_name": "FloatProgressModel",
      "state": {
       "bar_style": "success",
       "description": "5625/5625",
       "layout": "IPY_MODEL_25e6582c0b0b406f9782eb3572097f6a",
       "max": 5625,
       "style": "IPY_MODEL_e2a377ffda4f4d7798780d5d752321a7",
       "value": 5625
      }
     },
     "413b9a5278e240c589465f0feb3c80a2": {
      "model_module": "@jupyter-widgets/base",
      "model_module_version": "1.2.0",
      "model_name": "LayoutModel",
      "state": {
       "display": "inline-flex",
       "flex_flow": "row wrap",
       "width": "100%"
      }
     },
     "413c27c0ed2d42e28fffef0855fece69": {
      "model_module": "@jupyter-widgets/base",
      "model_module_version": "1.2.0",
      "model_name": "LayoutModel",
      "state": {
       "display": "inline-flex",
       "flex_flow": "row wrap",
       "width": "100%"
      }
     },
     "4181270604ca4f718df98ab07139ca94": {
      "model_module": "@jupyter-widgets/controls",
      "model_module_version": "1.5.0",
      "model_name": "DescriptionStyleModel",
      "state": {
       "description_width": ""
      }
     },
     "41aa40605aed4e7e9c2c3efd97b03869": {
      "model_module": "@jupyter-widgets/base",
      "model_module_version": "1.2.0",
      "model_name": "LayoutModel",
      "state": {}
     },
     "41e33a76334d4bbfa4eec84d4f637d5c": {
      "model_module": "@jupyter-widgets/controls",
      "model_module_version": "1.5.0",
      "model_name": "DescriptionStyleModel",
      "state": {
       "description_width": ""
      }
     },
     "41f0a0c342324a75bdb759e67153b4d7": {
      "model_module": "@jupyter-widgets/controls",
      "model_module_version": "1.5.0",
      "model_name": "HBoxModel",
      "state": {
       "children": [
        "IPY_MODEL_26ea284cde004d008af47ed87711f283",
        "IPY_MODEL_7ff158391100491e86966f4bb4f710aa"
       ],
       "layout": "IPY_MODEL_85182205008c44b68a285c0ed2235efa"
      }
     },
     "4200cdf8b31344b7a66f856be3bc6d71": {
      "model_module": "@jupyter-widgets/controls",
      "model_module_version": "1.5.0",
      "model_name": "DescriptionStyleModel",
      "state": {
       "description_width": ""
      }
     },
     "42546c3a75a141589d7ea805d06a6371": {
      "model_module": "@jupyter-widgets/base",
      "model_module_version": "1.2.0",
      "model_name": "LayoutModel",
      "state": {}
     },
     "42bcb080082b4255ac92ce0cae20704a": {
      "model_module": "@jupyter-widgets/controls",
      "model_module_version": "1.5.0",
      "model_name": "DescriptionStyleModel",
      "state": {
       "description_width": ""
      }
     },
     "42dfcdd2a4c842c8937d0a58c608cde4": {
      "model_module": "@jupyter-widgets/controls",
      "model_module_version": "1.5.0",
      "model_name": "DescriptionStyleModel",
      "state": {
       "description_width": ""
      }
     },
     "435447de30af4ce690ab94ca9eee04f0": {
      "model_module": "@jupyter-widgets/base",
      "model_module_version": "1.2.0",
      "model_name": "LayoutModel",
      "state": {
       "display": "inline-flex",
       "flex_flow": "row wrap",
       "width": "100%"
      }
     },
     "436f4a4fa20249ec85132f6f6cb480d1": {
      "model_module": "@jupyter-widgets/base",
      "model_module_version": "1.2.0",
      "model_name": "LayoutModel",
      "state": {
       "flex": "2"
      }
     },
     "43c88702b50d45f19644e744f82cf0c1": {
      "model_module": "@jupyter-widgets/base",
      "model_module_version": "1.2.0",
      "model_name": "LayoutModel",
      "state": {
       "display": "inline-flex",
       "flex_flow": "row wrap",
       "width": "100%"
      }
     },
     "43ecdb32ed72454fbc024cf39dbb0968": {
      "model_module": "@jupyter-widgets/controls",
      "model_module_version": "1.5.0",
      "model_name": "HBoxModel",
      "state": {
       "children": [
        "IPY_MODEL_2b71ea2569ba4410b5e750d5fd6be23c",
        "IPY_MODEL_e5013d3bb2934c0fba84938eb4b6f0c7"
       ],
       "layout": "IPY_MODEL_a21e71e09265414589af8b9f0c1f397c"
      }
     },
     "43fe496ef7d648d083111eed2f2fed63": {
      "model_module": "@jupyter-widgets/controls",
      "model_module_version": "1.5.0",
      "model_name": "DescriptionStyleModel",
      "state": {
       "description_width": ""
      }
     },
     "443b37f0997340908bd254ba8cd0baef": {
      "model_module": "@jupyter-widgets/base",
      "model_module_version": "1.2.0",
      "model_name": "LayoutModel",
      "state": {}
     },
     "445157fa51424a48a9dc12a6419690c9": {
      "model_module": "@jupyter-widgets/controls",
      "model_module_version": "1.5.0",
      "model_name": "HBoxModel",
      "state": {
       "children": [
        "IPY_MODEL_8a0e4193382d4f6bb2141faa0a16a440",
        "IPY_MODEL_5bbdcbe1d5b1445dba7373ee7c0485dc"
       ],
       "layout": "IPY_MODEL_fc74f54aeaff41a3a2926db7530b5f8e"
      }
     },
     "4460f56bef4744569bc83491865222e9": {
      "model_module": "@jupyter-widgets/base",
      "model_module_version": "1.2.0",
      "model_name": "LayoutModel",
      "state": {}
     },
     "44a8390105074b75a9d55a7c1d65a484": {
      "model_module": "@jupyter-widgets/base",
      "model_module_version": "1.2.0",
      "model_name": "LayoutModel",
      "state": {
       "flex": "2"
      }
     },
     "44b53fca0eda4f669837ad9b087e6ec1": {
      "model_module": "@jupyter-widgets/base",
      "model_module_version": "1.2.0",
      "model_name": "LayoutModel",
      "state": {
       "flex": "2"
      }
     },
     "44eb0c86b71842a9a97f1c4edb9f2e12": {
      "model_module": "@jupyter-widgets/base",
      "model_module_version": "1.2.0",
      "model_name": "LayoutModel",
      "state": {
       "flex": "2"
      }
     },
     "45301ed6a79a4c0cac6320a2f50a81d0": {
      "model_module": "@jupyter-widgets/controls",
      "model_module_version": "1.5.0",
      "model_name": "ProgressStyleModel",
      "state": {
       "description_width": "initial"
      }
     },
     "4564620bcdc24e71a783eaf3bd8c1ae7": {
      "model_module": "@jupyter-widgets/controls",
      "model_module_version": "1.5.0",
      "model_name": "HBoxModel",
      "state": {
       "children": [
        "IPY_MODEL_b23089aeb11548a6b648e98720fa88d0",
        "IPY_MODEL_c2e9a041d44340abb144533711fc686a"
       ],
       "layout": "IPY_MODEL_435447de30af4ce690ab94ca9eee04f0"
      }
     },
     "45ffe438adc2407d85ea59321bcf8394": {
      "model_module": "@jupyter-widgets/controls",
      "model_module_version": "1.5.0",
      "model_name": "DescriptionStyleModel",
      "state": {
       "description_width": ""
      }
     },
     "462e3dfa05884ed5b0a87e70d8dc3cbd": {
      "model_module": "@jupyter-widgets/controls",
      "model_module_version": "1.5.0",
      "model_name": "HTMLModel",
      "state": {
       "layout": "IPY_MODEL_2b424cf6805248ad85f96c784efed276",
       "style": "IPY_MODEL_77145b3b97b14ecf80b08357597650b8",
       "value": " ETA: 00:00s - loss: 0.0302 - val_loss: 0.0290"
      }
     },
     "4681866ec2e2412a9b5053481461f95b": {
      "model_module": "@jupyter-widgets/base",
      "model_module_version": "1.2.0",
      "model_name": "LayoutModel",
      "state": {}
     },
     "4689e4275c064234b97feb4c96af3754": {
      "model_module": "@jupyter-widgets/controls",
      "model_module_version": "1.5.0",
      "model_name": "ProgressStyleModel",
      "state": {
       "description_width": "initial"
      }
     },
     "46ca6038477a4cf0b5cbc26a0f228112": {
      "model_module": "@jupyter-widgets/controls",
      "model_module_version": "1.5.0",
      "model_name": "FloatProgressModel",
      "state": {
       "bar_style": "success",
       "description": "5625/5625",
       "layout": "IPY_MODEL_214994cec0b64e9fb90f86d56f84452d",
       "max": 5625,
       "style": "IPY_MODEL_af9dd9a82aa746df92165b818c4113df",
       "value": 5625
      }
     },
     "46ccc72d4e7d48d5be0eb506250cfda6": {
      "model_module": "@jupyter-widgets/controls",
      "model_module_version": "1.5.0",
      "model_name": "ProgressStyleModel",
      "state": {
       "description_width": "initial"
      }
     },
     "46e82f1346714d749434854947d44d57": {
      "model_module": "@jupyter-widgets/controls",
      "model_module_version": "1.5.0",
      "model_name": "HBoxModel",
      "state": {
       "children": [
        "IPY_MODEL_f755d83967094e53a361aa92438c80f8",
        "IPY_MODEL_0fa0406a0e23495997e866efefd132ab"
       ],
       "layout": "IPY_MODEL_abe2218854b6449393b2afd6d80938a4"
      }
     },
     "4707b063b32446c0b67cf351bcee348e": {
      "model_module": "@jupyter-widgets/base",
      "model_module_version": "1.2.0",
      "model_name": "LayoutModel",
      "state": {}
     },
     "47a86b240143406caf73eee0676753b7": {
      "model_module": "@jupyter-widgets/controls",
      "model_module_version": "1.5.0",
      "model_name": "FloatProgressModel",
      "state": {
       "bar_style": "success",
       "description": "5625/5625",
       "layout": "IPY_MODEL_761495752a154c8fa146f38fba6d629d",
       "max": 5625,
       "style": "IPY_MODEL_fb51e19d539f4042b60f3612e1076789",
       "value": 5625
      }
     },
     "47b2e5f3f4f54cb1857d328ef1d17f6c": {
      "model_module": "@jupyter-widgets/base",
      "model_module_version": "1.2.0",
      "model_name": "LayoutModel",
      "state": {
       "flex": "2"
      }
     },
     "47bd8dc4a14541dbb436b07beb0b8a36": {
      "model_module": "@jupyter-widgets/controls",
      "model_module_version": "1.5.0",
      "model_name": "HBoxModel",
      "state": {
       "children": [
        "IPY_MODEL_984c8d59f8f7437da448cd24d9622b62",
        "IPY_MODEL_5f713d0a5b2f4ebb985d614ca377a850"
       ],
       "layout": "IPY_MODEL_e68886e5b43f4569a9a9fd5ef8a1a66d"
      }
     },
     "47de05d8c55c4a6e9d50182d56b8337f": {
      "model_module": "@jupyter-widgets/controls",
      "model_module_version": "1.5.0",
      "model_name": "HBoxModel",
      "state": {
       "children": [
        "IPY_MODEL_12c1ee81fae24d7e88ac046594f16093",
        "IPY_MODEL_e42f21088d42428aba2b06420f3ef57d"
       ],
       "layout": "IPY_MODEL_ea138d163c6e450fb0c2655fb790bada"
      }
     },
     "485c1f2a68dc423eb0c2b9a40a2feb27": {
      "model_module": "@jupyter-widgets/controls",
      "model_module_version": "1.5.0",
      "model_name": "FloatProgressModel",
      "state": {
       "bar_style": "success",
       "description": "5625/5625",
       "layout": "IPY_MODEL_a83f64622f544e8e955e073fc6756418",
       "max": 5625,
       "style": "IPY_MODEL_f10750ded464456f8d988d90398d2625",
       "value": 5625
      }
     },
     "4869816589664523a3e478e064a4a961": {
      "model_module": "@jupyter-widgets/controls",
      "model_module_version": "1.5.0",
      "model_name": "ProgressStyleModel",
      "state": {
       "description_width": "initial"
      }
     },
     "48ab8b43a69e4b20b9da9f4cc1742ba3": {
      "model_module": "@jupyter-widgets/base",
      "model_module_version": "1.2.0",
      "model_name": "LayoutModel",
      "state": {
       "flex": "2"
      }
     },
     "48b73cad729947ba85bbe249526d5089": {
      "model_module": "@jupyter-widgets/base",
      "model_module_version": "1.2.0",
      "model_name": "LayoutModel",
      "state": {
       "flex": "2"
      }
     },
     "48c77aaa936f43d79c0c3e27ef971770": {
      "model_module": "@jupyter-widgets/controls",
      "model_module_version": "1.5.0",
      "model_name": "FloatProgressModel",
      "state": {
       "bar_style": "success",
       "description": "5625/5625",
       "layout": "IPY_MODEL_703c3476f8134cc69b029dba7ae2b702",
       "max": 5625,
       "style": "IPY_MODEL_245ed92762d1485b9741695463a45094",
       "value": 5625
      }
     },
     "48e20c7fd2834ebc9353420eedf3f0e8": {
      "model_module": "@jupyter-widgets/base",
      "model_module_version": "1.2.0",
      "model_name": "LayoutModel",
      "state": {
       "display": "inline-flex",
       "flex_flow": "row wrap",
       "width": "100%"
      }
     },
     "492d367320d148798eac652d125645ba": {
      "model_module": "@jupyter-widgets/base",
      "model_module_version": "1.2.0",
      "model_name": "LayoutModel",
      "state": {
       "display": "inline-flex",
       "flex_flow": "row wrap",
       "width": "100%"
      }
     },
     "494e82d47b754e17abcd61bf687908b1": {
      "model_module": "@jupyter-widgets/controls",
      "model_module_version": "1.5.0",
      "model_name": "DescriptionStyleModel",
      "state": {
       "description_width": ""
      }
     },
     "49ed79f986b84b7192f3fc74e966feef": {
      "model_module": "@jupyter-widgets/base",
      "model_module_version": "1.2.0",
      "model_name": "LayoutModel",
      "state": {}
     },
     "4a3310ec14144d92ad6c2c0414c2e96e": {
      "model_module": "@jupyter-widgets/base",
      "model_module_version": "1.2.0",
      "model_name": "LayoutModel",
      "state": {}
     },
     "4a96522780994a4cbab81cab75427a73": {
      "model_module": "@jupyter-widgets/controls",
      "model_module_version": "1.5.0",
      "model_name": "ProgressStyleModel",
      "state": {
       "description_width": "initial"
      }
     },
     "4ab8b75d94eb4104bd058e3f51de4514": {
      "model_module": "@jupyter-widgets/base",
      "model_module_version": "1.2.0",
      "model_name": "LayoutModel",
      "state": {}
     },
     "4adfd32e4dff4bfe9e614f66a0cebb01": {
      "model_module": "@jupyter-widgets/controls",
      "model_module_version": "1.5.0",
      "model_name": "HBoxModel",
      "state": {
       "children": [
        "IPY_MODEL_8ae704e3509f464ca915bab37f2a9fcf",
        "IPY_MODEL_022c8d22783547e4b1a8177ecdf89aff"
       ],
       "layout": "IPY_MODEL_922e0b3450b643b791c013d3fc8889f1"
      }
     },
     "4b2a41defa504c20bd30adb327d3b75b": {
      "model_module": "@jupyter-widgets/controls",
      "model_module_version": "1.5.0",
      "model_name": "ProgressStyleModel",
      "state": {
       "description_width": "initial"
      }
     },
     "4b47e362a33b472eb944ebad37bd0fd5": {
      "model_module": "@jupyter-widgets/controls",
      "model_module_version": "1.5.0",
      "model_name": "FloatProgressModel",
      "state": {
       "bar_style": "success",
       "description": "5625/5625",
       "layout": "IPY_MODEL_898e11b69c3b42539f2ea7aa7e61e203",
       "max": 5625,
       "style": "IPY_MODEL_0a41ccfb05f14bb1bc4081a34d68c223",
       "value": 5625
      }
     },
     "4b7c7aec0374416bb361198006dc9031": {
      "model_module": "@jupyter-widgets/controls",
      "model_module_version": "1.5.0",
      "model_name": "FloatProgressModel",
      "state": {
       "bar_style": "success",
       "description": "5625/5625",
       "layout": "IPY_MODEL_88a30aa420c0450ab22eb8b58eef55c3",
       "max": 5625,
       "style": "IPY_MODEL_131fbda5aa724211bc88924e9bc32431",
       "value": 5625
      }
     },
     "4b8ad73b7b5944a6856c26ef8f99ef95": {
      "model_module": "@jupyter-widgets/base",
      "model_module_version": "1.2.0",
      "model_name": "LayoutModel",
      "state": {}
     },
     "4ba8cd4381924ac7af6458c14c3bb98b": {
      "model_module": "@jupyter-widgets/controls",
      "model_module_version": "1.5.0",
      "model_name": "DescriptionStyleModel",
      "state": {
       "description_width": ""
      }
     },
     "4bb21f68ffc544b4ac39d4f5e71fb746": {
      "model_module": "@jupyter-widgets/base",
      "model_module_version": "1.2.0",
      "model_name": "LayoutModel",
      "state": {
       "flex": "2"
      }
     },
     "4bb9cf67bf5c4bc4bd9da68b2c897db1": {
      "model_module": "@jupyter-widgets/base",
      "model_module_version": "1.2.0",
      "model_name": "LayoutModel",
      "state": {
       "display": "inline-flex",
       "flex_flow": "row wrap",
       "width": "100%"
      }
     },
     "4bea6702d854431cb32165c0df597da2": {
      "model_module": "@jupyter-widgets/controls",
      "model_module_version": "1.5.0",
      "model_name": "ProgressStyleModel",
      "state": {
       "description_width": "initial"
      }
     },
     "4beca8da825a4510aeaf537c106165be": {
      "model_module": "@jupyter-widgets/controls",
      "model_module_version": "1.5.0",
      "model_name": "HBoxModel",
      "state": {
       "children": [
        "IPY_MODEL_0d00bd28f4614ce08af655402370e688",
        "IPY_MODEL_fd310ca8c864425db02812779ba199b3"
       ],
       "layout": "IPY_MODEL_dfc4d4ef9abb42618671cc7fdcacb180"
      }
     },
     "4bf4ec1f3a4d489f9fe0984c1dd3c4fa": {
      "model_module": "@jupyter-widgets/base",
      "model_module_version": "1.2.0",
      "model_name": "LayoutModel",
      "state": {}
     },
     "4c46a83c0b874fd8b736967e09ac8d87": {
      "model_module": "@jupyter-widgets/controls",
      "model_module_version": "1.5.0",
      "model_name": "FloatProgressModel",
      "state": {
       "bar_style": "success",
       "description": "5625/5625",
       "layout": "IPY_MODEL_733ec0e34d38417cb189071a971e0331",
       "max": 5625,
       "style": "IPY_MODEL_4b2a41defa504c20bd30adb327d3b75b",
       "value": 5625
      }
     },
     "4c485f1722374eb18d687779ec4c4f7b": {
      "model_module": "@jupyter-widgets/base",
      "model_module_version": "1.2.0",
      "model_name": "LayoutModel",
      "state": {
       "flex": "2"
      }
     },
     "4c93084a50da454cb387ef0349ed461e": {
      "model_module": "@jupyter-widgets/controls",
      "model_module_version": "1.5.0",
      "model_name": "ProgressStyleModel",
      "state": {
       "description_width": "initial"
      }
     },
     "4ca70b2a666f43e687932afe877da02d": {
      "model_module": "@jupyter-widgets/controls",
      "model_module_version": "1.5.0",
      "model_name": "ProgressStyleModel",
      "state": {
       "description_width": "initial"
      }
     },
     "4cf10a71c14b4eddac5b91b92146bb0d": {
      "model_module": "@jupyter-widgets/controls",
      "model_module_version": "1.5.0",
      "model_name": "HTMLModel",
      "state": {
       "layout": "IPY_MODEL_3aa391593fcf4e128d08f888396149a9",
       "style": "IPY_MODEL_1cf177282424494595f8ed619bbc7cc0",
       "value": " ETA: 00:00s - loss: 0.0280 - val_loss: 0.0273"
      }
     },
     "4cf72a6a20e24095a0c94694698b468e": {
      "model_module": "@jupyter-widgets/controls",
      "model_module_version": "1.5.0",
      "model_name": "HBoxModel",
      "state": {
       "children": [
        "IPY_MODEL_bdcae240d0104750a358d29154118823",
        "IPY_MODEL_3be378ec708042a6be77810267d16544"
       ],
       "layout": "IPY_MODEL_bce850f31bf74be0b6c86995eca6fe12"
      }
     },
     "4d2e84a69ec140ec8aaed66faf1d4240": {
      "model_module": "@jupyter-widgets/controls",
      "model_module_version": "1.5.0",
      "model_name": "HTMLModel",
      "state": {
       "layout": "IPY_MODEL_b0012db591334a309644a133b2c0d385",
       "style": "IPY_MODEL_4f05f67b6ff443b7b4b040207bb61025",
       "value": " ETA: 00:00s - loss: 0.0293 - val_loss: 0.0282"
      }
     },
     "4d5c2857b49a4dd4942ebd5b61303089": {
      "model_module": "@jupyter-widgets/controls",
      "model_module_version": "1.5.0",
      "model_name": "HBoxModel",
      "state": {
       "children": [
        "IPY_MODEL_2cbf3e8f03f241679631933ab773c633",
        "IPY_MODEL_f12142e4b1ba4811bffddefb1e57645f"
       ],
       "layout": "IPY_MODEL_3257c2f049b441c4a517f3cbd95069e2"
      }
     },
     "4d9126fbc54b4e1fbacfe6e4487eeee8": {
      "model_module": "@jupyter-widgets/controls",
      "model_module_version": "1.5.0",
      "model_name": "HTMLModel",
      "state": {
       "layout": "IPY_MODEL_55af8e4111304652ba01fdfb51eab2d4",
       "style": "IPY_MODEL_c9d46ee4d14d485f90b0fa9dc0ed1525",
       "value": " ETA: 00:00s - loss: 0.0284 - val_loss: 0.0284"
      }
     },
     "4df3b572dd7f4123a3caef5db9eaaa75": {
      "model_module": "@jupyter-widgets/controls",
      "model_module_version": "1.5.0",
      "model_name": "ProgressStyleModel",
      "state": {
       "description_width": "initial"
      }
     },
     "4e54776842604a7ba53f87e7a0fbe706": {
      "model_module": "@jupyter-widgets/controls",
      "model_module_version": "1.5.0",
      "model_name": "HBoxModel",
      "state": {
       "children": [
        "IPY_MODEL_79667e83976b4fa1adb63dd5b5826021",
        "IPY_MODEL_6fa5aa614cfa424d8955860f98783d9f"
       ],
       "layout": "IPY_MODEL_43c88702b50d45f19644e744f82cf0c1"
      }
     },
     "4e75e0b5b1714843b4edf47c71dd5c50": {
      "model_module": "@jupyter-widgets/controls",
      "model_module_version": "1.5.0",
      "model_name": "HBoxModel",
      "state": {
       "children": [
        "IPY_MODEL_74674e461ee74c14acda5624c6f8c239",
        "IPY_MODEL_e9cc32ebd2e84395a5f1e54f03afe725"
       ],
       "layout": "IPY_MODEL_83d8115c43804345aa30c7764a19e713"
      }
     },
     "4e8abf7854204ec79a3de3e5ab47bcb8": {
      "model_module": "@jupyter-widgets/base",
      "model_module_version": "1.2.0",
      "model_name": "LayoutModel",
      "state": {}
     },
     "4e9c828beba842fe8d0f8c11c0e49d49": {
      "model_module": "@jupyter-widgets/base",
      "model_module_version": "1.2.0",
      "model_name": "LayoutModel",
      "state": {
       "display": "inline-flex",
       "flex_flow": "row wrap",
       "width": "100%"
      }
     },
     "4ebc528c3da14130a95c8ec561e40539": {
      "model_module": "@jupyter-widgets/controls",
      "model_module_version": "1.5.0",
      "model_name": "ProgressStyleModel",
      "state": {
       "description_width": "initial"
      }
     },
     "4ecbf3690e414964b568d534b3f00582": {
      "model_module": "@jupyter-widgets/controls",
      "model_module_version": "1.5.0",
      "model_name": "HBoxModel",
      "state": {
       "children": [
        "IPY_MODEL_1f4efb94879e4e0584896a5df2339aa3",
        "IPY_MODEL_c272a79573a7448abbe3dcfea969cbf7"
       ],
       "layout": "IPY_MODEL_3f05f10f69004f5baa5685c412ec65aa"
      }
     },
     "4efd11d57bec4c889949daca5a230cd5": {
      "model_module": "@jupyter-widgets/controls",
      "model_module_version": "1.5.0",
      "model_name": "HBoxModel",
      "state": {
       "children": [
        "IPY_MODEL_f6082aebd9254d98b68f9caed4f3b63d",
        "IPY_MODEL_e0436bb35bc74768aa70aa1b240c8ed9"
       ],
       "layout": "IPY_MODEL_533c90d3ddd4411dbf0ff5f67f08e46c"
      }
     },
     "4f05f67b6ff443b7b4b040207bb61025": {
      "model_module": "@jupyter-widgets/controls",
      "model_module_version": "1.5.0",
      "model_name": "DescriptionStyleModel",
      "state": {
       "description_width": ""
      }
     },
     "4f5f0741e8914b45a27dea15f032b639": {
      "model_module": "@jupyter-widgets/base",
      "model_module_version": "1.2.0",
      "model_name": "LayoutModel",
      "state": {}
     },
     "4f7b5c0d5f3744778ca9fd901987383c": {
      "model_module": "@jupyter-widgets/controls",
      "model_module_version": "1.5.0",
      "model_name": "HBoxModel",
      "state": {
       "children": [
        "IPY_MODEL_732906cf3a384783a63ab918dedb8f58",
        "IPY_MODEL_2ec3f532434547318c5a1d7aefdf8196"
       ],
       "layout": "IPY_MODEL_fbbd0374a7a249b98812d4a90f9389eb"
      }
     },
     "4f82d9997e1a4f7ba1e17008deaf2dfb": {
      "model_module": "@jupyter-widgets/controls",
      "model_module_version": "1.5.0",
      "model_name": "HBoxModel",
      "state": {
       "children": [
        "IPY_MODEL_935a24e457b344e19bdb6ff302eab76f",
        "IPY_MODEL_5bd0fe94d11d460ba8165480da082636"
       ],
       "layout": "IPY_MODEL_e290960c4d2e42a3856914fb9748b6b7"
      }
     },
     "4fb92a6d9d684b48aa0f765ffe51f6af": {
      "model_module": "@jupyter-widgets/controls",
      "model_module_version": "1.5.0",
      "model_name": "ProgressStyleModel",
      "state": {
       "description_width": "initial"
      }
     },
     "4ffdec6223be41dd9d2327cf117bde84": {
      "model_module": "@jupyter-widgets/controls",
      "model_module_version": "1.5.0",
      "model_name": "HBoxModel",
      "state": {
       "children": [
        "IPY_MODEL_1a950d4f2ece4034959e74685d4d9114",
        "IPY_MODEL_ab3f1ec76fe84c50bf02ee0074a2e817"
       ],
       "layout": "IPY_MODEL_5ba9e016a2ef4df49e391201890e5a55"
      }
     },
     "5017215a2ed74e73a7971a37e09b22e6": {
      "model_module": "@jupyter-widgets/base",
      "model_module_version": "1.2.0",
      "model_name": "LayoutModel",
      "state": {}
     },
     "506b3a4b4789472e9fc12ac1f8dab781": {
      "model_module": "@jupyter-widgets/controls",
      "model_module_version": "1.5.0",
      "model_name": "HTMLModel",
      "state": {
       "layout": "IPY_MODEL_a98747b85dce4b68b3fe31b60c0ef0a0",
       "style": "IPY_MODEL_e7bded9435034b3d82098b46a9ea3be1",
       "value": " ETA: 00:00s - loss: 0.0289 - val_loss: 0.0281"
      }
     },
     "5072fd6b039443bca971e9b729c6c8f6": {
      "model_module": "@jupyter-widgets/controls",
      "model_module_version": "1.5.0",
      "model_name": "DescriptionStyleModel",
      "state": {
       "description_width": ""
      }
     },
     "50eff0568ace4f7b814553ae8ba48511": {
      "model_module": "@jupyter-widgets/controls",
      "model_module_version": "1.5.0",
      "model_name": "FloatProgressModel",
      "state": {
       "bar_style": "success",
       "description": "5625/5625",
       "layout": "IPY_MODEL_05209b7f64d1492198f52752ef111d06",
       "max": 5625,
       "style": "IPY_MODEL_2c410bb50df04e24af3161a47ab4049d",
       "value": 5625
      }
     },
     "5110b157ec5e437d9016bd1a044426a3": {
      "model_module": "@jupyter-widgets/controls",
      "model_module_version": "1.5.0",
      "model_name": "HBoxModel",
      "state": {
       "children": [
        "IPY_MODEL_3074689cc2f148b9b8fff4fd99cb3e01",
        "IPY_MODEL_c000f61431724832b93f7b281ca0d898"
       ],
       "layout": "IPY_MODEL_bb795b6a8b43426b99bbbac647c2bc4b"
      }
     },
     "516f61ef5b254093876f20e41cb325a8": {
      "model_module": "@jupyter-widgets/base",
      "model_module_version": "1.2.0",
      "model_name": "LayoutModel",
      "state": {
       "display": "inline-flex",
       "flex_flow": "row wrap",
       "width": "100%"
      }
     },
     "518423b9a5ab4aafbc2ba1727775f0d4": {
      "model_module": "@jupyter-widgets/base",
      "model_module_version": "1.2.0",
      "model_name": "LayoutModel",
      "state": {
       "flex": "2"
      }
     },
     "5195bd329a9c460bb333dd3f0d21b509": {
      "model_module": "@jupyter-widgets/controls",
      "model_module_version": "1.5.0",
      "model_name": "HTMLModel",
      "state": {
       "layout": "IPY_MODEL_9fd59051ae154facadb7d9f8b74a640d",
       "style": "IPY_MODEL_00f95ae4acd8400c9148c04ee88b8b2c",
       "value": " ETA: 00:00s - loss: 0.0279 - val_loss: 0.0278"
      }
     },
     "5197444e941445adb5cb8dde6cd66726": {
      "model_module": "@jupyter-widgets/controls",
      "model_module_version": "1.5.0",
      "model_name": "ProgressStyleModel",
      "state": {
       "description_width": "initial"
      }
     },
     "51e57f75092c4d6eb916d9498df6e649": {
      "model_module": "@jupyter-widgets/controls",
      "model_module_version": "1.5.0",
      "model_name": "ProgressStyleModel",
      "state": {
       "description_width": "initial"
      }
     },
     "51ff355fc0254ebbb51e62c4aa216514": {
      "model_module": "@jupyter-widgets/controls",
      "model_module_version": "1.5.0",
      "model_name": "HBoxModel",
      "state": {
       "children": [
        "IPY_MODEL_818778bc6dc84a16abb5d34b22ac3698",
        "IPY_MODEL_36e008a7405544cd9e4cc05a4f4a4dd3"
       ],
       "layout": "IPY_MODEL_4e9c828beba842fe8d0f8c11c0e49d49"
      }
     },
     "522bf14b21a44443ac579634b5a2e9a0": {
      "model_module": "@jupyter-widgets/controls",
      "model_module_version": "1.5.0",
      "model_name": "HTMLModel",
      "state": {
       "layout": "IPY_MODEL_49ed79f986b84b7192f3fc74e966feef",
       "style": "IPY_MODEL_fd1792b7b95c48deb92a0b3c066bfc55",
       "value": " ETA: 00:00s - loss: 0.0278 - val_loss: 0.0276"
      }
     },
     "529074c5a9884760b11f1705e4f918d1": {
      "model_module": "@jupyter-widgets/base",
      "model_module_version": "1.2.0",
      "model_name": "LayoutModel",
      "state": {
       "flex": "2"
      }
     },
     "52deb41379ed44d189356d2eba8fcd23": {
      "model_module": "@jupyter-widgets/base",
      "model_module_version": "1.2.0",
      "model_name": "LayoutModel",
      "state": {
       "display": "inline-flex",
       "flex_flow": "row wrap",
       "width": "100%"
      }
     },
     "533c90d3ddd4411dbf0ff5f67f08e46c": {
      "model_module": "@jupyter-widgets/base",
      "model_module_version": "1.2.0",
      "model_name": "LayoutModel",
      "state": {
       "display": "inline-flex",
       "flex_flow": "row wrap",
       "width": "100%"
      }
     },
     "53a5f4a86c564719bf9405dc08c1c219": {
      "model_module": "@jupyter-widgets/controls",
      "model_module_version": "1.5.0",
      "model_name": "HBoxModel",
      "state": {
       "children": [
        "IPY_MODEL_4b47e362a33b472eb944ebad37bd0fd5",
        "IPY_MODEL_0b0208e58460461e85e939fa35f7acf2"
       ],
       "layout": "IPY_MODEL_cec7104cb06f4f4ca1fab2d25268d76e"
      }
     },
     "53b5bef51e86469784113bcbc8a3ec9d": {
      "model_module": "@jupyter-widgets/base",
      "model_module_version": "1.2.0",
      "model_name": "LayoutModel",
      "state": {
       "display": "inline-flex",
       "flex_flow": "row wrap",
       "width": "100%"
      }
     },
     "53b7a9e3a4ff4ff4857cbf6b3307efd2": {
      "model_module": "@jupyter-widgets/controls",
      "model_module_version": "1.5.0",
      "model_name": "FloatProgressModel",
      "state": {
       "bar_style": "success",
       "description": "5625/5625",
       "layout": "IPY_MODEL_e2d243ad557846ac9940d53a7238c473",
       "max": 5625,
       "style": "IPY_MODEL_33bcaab93ca04fc580854ab51386a76f",
       "value": 5625
      }
     },
     "540da2b6ffac4ebd9492404aa8d63e51": {
      "model_module": "@jupyter-widgets/controls",
      "model_module_version": "1.5.0",
      "model_name": "HBoxModel",
      "state": {
       "children": [
        "IPY_MODEL_aa4ff95d0b154cf0ae55b4e9025311ec",
        "IPY_MODEL_ef5b72f9696e494aa5173879a7c38f68"
       ],
       "layout": "IPY_MODEL_2c667313ebfd4e5f839de30092c30813"
      }
     },
     "5416f05838e347c69b6018a652efb3d1": {
      "model_module": "@jupyter-widgets/controls",
      "model_module_version": "1.5.0",
      "model_name": "HBoxModel",
      "state": {
       "children": [
        "IPY_MODEL_7a4dff0c46c14686a1e15531313864dc",
        "IPY_MODEL_8e8ebd95935a4614837c5d5ffd4ed4f7"
       ],
       "layout": "IPY_MODEL_872b1ca4eb7a42e3bdc2403091c1c619"
      }
     },
     "54226ab20af6425e83a46fa59373a6e8": {
      "model_module": "@jupyter-widgets/base",
      "model_module_version": "1.2.0",
      "model_name": "LayoutModel",
      "state": {}
     },
     "54aafe6ef04b4054a8a60060a668b593": {
      "model_module": "@jupyter-widgets/controls",
      "model_module_version": "1.5.0",
      "model_name": "FloatProgressModel",
      "state": {
       "bar_style": "success",
       "description": "5625/5625",
       "layout": "IPY_MODEL_ee5be36a3ac4495991d03421ac2b5f1d",
       "max": 5625,
       "style": "IPY_MODEL_cdf234692c1c4a4991d7c11536b665f6",
       "value": 5625
      }
     },
     "54cdb7aa24a947dca19bf053fbb429b8": {
      "model_module": "@jupyter-widgets/controls",
      "model_module_version": "1.5.0",
      "model_name": "HBoxModel",
      "state": {
       "children": [
        "IPY_MODEL_cf471e4dd37a49c8ae36746cd2865296",
        "IPY_MODEL_99612b359ef4450880619d8a96c397c1"
       ],
       "layout": "IPY_MODEL_fb748b5f275141baba65b253d615f6f4"
      }
     },
     "550ce6b3780a43cda46d3fc997ced2a8": {
      "model_module": "@jupyter-widgets/controls",
      "model_module_version": "1.5.0",
      "model_name": "ProgressStyleModel",
      "state": {
       "description_width": "initial"
      }
     },
     "5552ff07d5fd44a597d566b470d781a7": {
      "model_module": "@jupyter-widgets/base",
      "model_module_version": "1.2.0",
      "model_name": "LayoutModel",
      "state": {
       "display": "inline-flex",
       "flex_flow": "row wrap",
       "width": "100%"
      }
     },
     "55590ef0ea5147e295ff55bdba84e546": {
      "model_module": "@jupyter-widgets/controls",
      "model_module_version": "1.5.0",
      "model_name": "HBoxModel",
      "state": {
       "children": [
        "IPY_MODEL_a0d2a0fc5dab44d592c33c4d189d92d0",
        "IPY_MODEL_db23ce2628ba45fdac5a9c39a63358e5"
       ],
       "layout": "IPY_MODEL_18968887f30b48e8881dc4f5e5925091"
      }
     },
     "557eb3bf8ca74fc6b0b7a77090b5efec": {
      "model_module": "@jupyter-widgets/base",
      "model_module_version": "1.2.0",
      "model_name": "LayoutModel",
      "state": {
       "flex": "2"
      }
     },
     "55af8e4111304652ba01fdfb51eab2d4": {
      "model_module": "@jupyter-widgets/base",
      "model_module_version": "1.2.0",
      "model_name": "LayoutModel",
      "state": {}
     },
     "55c87568d7de4260bae8f6f744820cba": {
      "model_module": "@jupyter-widgets/controls",
      "model_module_version": "1.5.0",
      "model_name": "ProgressStyleModel",
      "state": {
       "description_width": "initial"
      }
     },
     "55d8af22bccf40fe99a3467936d92204": {
      "model_module": "@jupyter-widgets/base",
      "model_module_version": "1.2.0",
      "model_name": "LayoutModel",
      "state": {}
     },
     "55f49d8442934f54a260e582040fb850": {
      "model_module": "@jupyter-widgets/base",
      "model_module_version": "1.2.0",
      "model_name": "LayoutModel",
      "state": {}
     },
     "5626d2da791a4525b1b0425e78c4e2aa": {
      "model_module": "@jupyter-widgets/controls",
      "model_module_version": "1.5.0",
      "model_name": "DescriptionStyleModel",
      "state": {
       "description_width": ""
      }
     },
     "56434854bae943eea37af8b453cfa8fa": {
      "model_module": "@jupyter-widgets/base",
      "model_module_version": "1.2.0",
      "model_name": "LayoutModel",
      "state": {
       "display": "inline-flex",
       "flex_flow": "row wrap",
       "width": "100%"
      }
     },
     "567a0299cf94431b83ca4d634eb2ec3e": {
      "model_module": "@jupyter-widgets/controls",
      "model_module_version": "1.5.0",
      "model_name": "ProgressStyleModel",
      "state": {
       "description_width": "initial"
      }
     },
     "56cd823f7ae64889b71cbc40be267e52": {
      "model_module": "@jupyter-widgets/base",
      "model_module_version": "1.2.0",
      "model_name": "LayoutModel",
      "state": {
       "display": "inline-flex",
       "flex_flow": "row wrap",
       "width": "100%"
      }
     },
     "5713ff5c7c744d58a319351e95c45ee1": {
      "model_module": "@jupyter-widgets/controls",
      "model_module_version": "1.5.0",
      "model_name": "FloatProgressModel",
      "state": {
       "bar_style": "success",
       "description": "5625/5625",
       "layout": "IPY_MODEL_756ede1f337545d3862c7026f6f118f3",
       "max": 5625,
       "style": "IPY_MODEL_9c18faf050e7410a82eec3cfac64b8c3",
       "value": 5625
      }
     },
     "572db3acc16542af82b44d7bacaeea8e": {
      "model_module": "@jupyter-widgets/controls",
      "model_module_version": "1.5.0",
      "model_name": "FloatProgressModel",
      "state": {
       "bar_style": "success",
       "description": "5625/5625",
       "layout": "IPY_MODEL_90eedbcbb483414bb6b5e03c619250e4",
       "max": 5625,
       "style": "IPY_MODEL_7bb668cef4004233ba04e90120344ef8",
       "value": 5625
      }
     },
     "57483d93ba984faf9bbc36320d672058": {
      "model_module": "@jupyter-widgets/base",
      "model_module_version": "1.2.0",
      "model_name": "LayoutModel",
      "state": {}
     },
     "575db23101c44aa99775c88d46a933a5": {
      "model_module": "@jupyter-widgets/base",
      "model_module_version": "1.2.0",
      "model_name": "LayoutModel",
      "state": {
       "flex": "2"
      }
     },
     "57710ba7f4f146698869190a14abb1b3": {
      "model_module": "@jupyter-widgets/controls",
      "model_module_version": "1.5.0",
      "model_name": "DescriptionStyleModel",
      "state": {
       "description_width": ""
      }
     },
     "57711d9dc8084a73a3736d87b26be13f": {
      "model_module": "@jupyter-widgets/controls",
      "model_module_version": "1.5.0",
      "model_name": "ProgressStyleModel",
      "state": {
       "description_width": "initial"
      }
     },
     "57fe34895a094adebcc469711c8d9cfe": {
      "model_module": "@jupyter-widgets/controls",
      "model_module_version": "1.5.0",
      "model_name": "DescriptionStyleModel",
      "state": {
       "description_width": ""
      }
     },
     "581a572f94cc41e4a5259486f0ef7bfb": {
      "model_module": "@jupyter-widgets/base",
      "model_module_version": "1.2.0",
      "model_name": "LayoutModel",
      "state": {
       "display": "inline-flex",
       "flex_flow": "row wrap",
       "width": "100%"
      }
     },
     "582b5b6733df472d95239d72516f84f1": {
      "model_module": "@jupyter-widgets/base",
      "model_module_version": "1.2.0",
      "model_name": "LayoutModel",
      "state": {
       "flex": "2"
      }
     },
     "583ef084218146b4a2b0244e62833260": {
      "model_module": "@jupyter-widgets/controls",
      "model_module_version": "1.5.0",
      "model_name": "ProgressStyleModel",
      "state": {
       "description_width": "initial"
      }
     },
     "58795891cb27415b8689750eda8031aa": {
      "model_module": "@jupyter-widgets/controls",
      "model_module_version": "1.5.0",
      "model_name": "HBoxModel",
      "state": {
       "children": [
        "IPY_MODEL_96ca66a5cccd45c08d76a5b6635039f8",
        "IPY_MODEL_777ccc2de6314f17a1ca255b4755ce41"
       ],
       "layout": "IPY_MODEL_81508e0419b74fe482d3e6a062cf5697"
      }
     },
     "58f029a32db947a9b2b57632eaeb7d51": {
      "model_module": "@jupyter-widgets/base",
      "model_module_version": "1.2.0",
      "model_name": "LayoutModel",
      "state": {
       "display": "inline-flex",
       "flex_flow": "row wrap",
       "width": "100%"
      }
     },
     "591a7de9e66e413bbc750e7af5bd7679": {
      "model_module": "@jupyter-widgets/base",
      "model_module_version": "1.2.0",
      "model_name": "LayoutModel",
      "state": {
       "flex": "2"
      }
     },
     "593c3e42811f4ecfa2d5bc38e0c903a6": {
      "model_module": "@jupyter-widgets/base",
      "model_module_version": "1.2.0",
      "model_name": "LayoutModel",
      "state": {
       "display": "inline-flex",
       "flex_flow": "row wrap",
       "width": "100%"
      }
     },
     "5970a42201f54830a6b107119e3a929d": {
      "model_module": "@jupyter-widgets/controls",
      "model_module_version": "1.5.0",
      "model_name": "HTMLModel",
      "state": {
       "layout": "IPY_MODEL_2d712af7d5bd495396142b4c83df4b50",
       "style": "IPY_MODEL_91d4fd619a6648a69d9f9ac5bbea68b1",
       "value": " ETA: 00:00s - loss: 0.0285 - val_loss: 0.0283"
      }
     },
     "59bcc4028ec94f44aebb7e8ce1adb763": {
      "model_module": "@jupyter-widgets/controls",
      "model_module_version": "1.5.0",
      "model_name": "HTMLModel",
      "state": {
       "layout": "IPY_MODEL_4f5f0741e8914b45a27dea15f032b639",
       "style": "IPY_MODEL_66ace7a0fbb24200b71f796da23d0ff3",
       "value": " ETA: 00:00s - loss: 0.0279 - val_loss: 0.0272"
      }
     },
     "5a1ca1288f2449569d079aa4d10b7375": {
      "model_module": "@jupyter-widgets/base",
      "model_module_version": "1.2.0",
      "model_name": "LayoutModel",
      "state": {
       "display": "inline-flex",
       "flex_flow": "row wrap",
       "width": "100%"
      }
     },
     "5a959c6ce7364fcab6a4de001948f83e": {
      "model_module": "@jupyter-widgets/controls",
      "model_module_version": "1.5.0",
      "model_name": "HTMLModel",
      "state": {
       "layout": "IPY_MODEL_9338f14d133e4e58b8a66f369a52a11c",
       "style": "IPY_MODEL_df472eb00ba144769faf29dafaf940d2",
       "value": " ETA: 00:00s - loss: 0.0283 - val_loss: 0.0275"
      }
     },
     "5ac9902f88c14df08d1832d6c3eb4d2d": {
      "model_module": "@jupyter-widgets/base",
      "model_module_version": "1.2.0",
      "model_name": "LayoutModel",
      "state": {
       "flex": "2"
      }
     },
     "5b009673364c4c3cbda228e8245b5ca9": {
      "model_module": "@jupyter-widgets/controls",
      "model_module_version": "1.5.0",
      "model_name": "DescriptionStyleModel",
      "state": {
       "description_width": ""
      }
     },
     "5b09fb2495164b1e94acd018e51c5663": {
      "model_module": "@jupyter-widgets/base",
      "model_module_version": "1.2.0",
      "model_name": "LayoutModel",
      "state": {
       "flex": "2"
      }
     },
     "5b0b055a02d8488dac8676b59656f9c8": {
      "model_module": "@jupyter-widgets/controls",
      "model_module_version": "1.5.0",
      "model_name": "FloatProgressModel",
      "state": {
       "bar_style": "success",
       "description": "5625/5625",
       "layout": "IPY_MODEL_0c2a68adabea46b994f424fa33614829",
       "max": 5625,
       "style": "IPY_MODEL_0c30edfb125743c0b1f532dc12988275",
       "value": 5625
      }
     },
     "5b234dd0a7e043d2bb51e32f376612cf": {
      "model_module": "@jupyter-widgets/base",
      "model_module_version": "1.2.0",
      "model_name": "LayoutModel",
      "state": {
       "display": "inline-flex",
       "flex_flow": "row wrap",
       "width": "100%"
      }
     },
     "5b3a8d8722f14bb39175c9d66fc0213b": {
      "model_module": "@jupyter-widgets/controls",
      "model_module_version": "1.5.0",
      "model_name": "FloatProgressModel",
      "state": {
       "bar_style": "success",
       "description": "5625/5625",
       "layout": "IPY_MODEL_b4cedd5fc7d746b8bc42389268570f1b",
       "max": 5625,
       "style": "IPY_MODEL_ba8f1e8ce4ad4f4196f8bbb09b9d65e6",
       "value": 5625
      }
     },
     "5b67831879ad425fbab7f53ea902fda6": {
      "model_module": "@jupyter-widgets/base",
      "model_module_version": "1.2.0",
      "model_name": "LayoutModel",
      "state": {}
     },
     "5b68b8a700ee4b7cb7c8f6224700fd3e": {
      "model_module": "@jupyter-widgets/controls",
      "model_module_version": "1.5.0",
      "model_name": "HBoxModel",
      "state": {
       "children": [
        "IPY_MODEL_cd8c5b0fd5a044159b184f14c99c5cf1",
        "IPY_MODEL_deaeb367a4a644b8a25c77338a371732"
       ],
       "layout": "IPY_MODEL_413b9a5278e240c589465f0feb3c80a2"
      }
     },
     "5b74988386fc460589ca52bb6e9d6efc": {
      "model_module": "@jupyter-widgets/controls",
      "model_module_version": "1.5.0",
      "model_name": "ProgressStyleModel",
      "state": {
       "description_width": "initial"
      }
     },
     "5ba9e016a2ef4df49e391201890e5a55": {
      "model_module": "@jupyter-widgets/base",
      "model_module_version": "1.2.0",
      "model_name": "LayoutModel",
      "state": {
       "display": "inline-flex",
       "flex_flow": "row wrap",
       "width": "100%"
      }
     },
     "5bbdcbe1d5b1445dba7373ee7c0485dc": {
      "model_module": "@jupyter-widgets/controls",
      "model_module_version": "1.5.0",
      "model_name": "HTMLModel",
      "state": {
       "layout": "IPY_MODEL_9b53a9f2c5724fc280d02d29d60012e0",
       "style": "IPY_MODEL_41e33a76334d4bbfa4eec84d4f637d5c",
       "value": " ETA: 00:00s - loss: 0.0279 - val_loss: 0.0271"
      }
     },
     "5bc25f6dd5084d508f0d683222217a69": {
      "model_module": "@jupyter-widgets/base",
      "model_module_version": "1.2.0",
      "model_name": "LayoutModel",
      "state": {
       "display": "inline-flex",
       "flex_flow": "row wrap",
       "width": "100%"
      }
     },
     "5bd0fe94d11d460ba8165480da082636": {
      "model_module": "@jupyter-widgets/controls",
      "model_module_version": "1.5.0",
      "model_name": "HTMLModel",
      "state": {
       "layout": "IPY_MODEL_20605bf382c443bd8592961af4c2cde1",
       "style": "IPY_MODEL_fedd525097f747f68adad6778e0a87c5",
       "value": " ETA: 00:00s - loss: 0.0280 - val_loss: 0.0275"
      }
     },
     "5be0a154d9354f8fa30806a082fc1e80": {
      "model_module": "@jupyter-widgets/controls",
      "model_module_version": "1.5.0",
      "model_name": "FloatProgressModel",
      "state": {
       "bar_style": "success",
       "description": "5625/5625",
       "layout": "IPY_MODEL_5ac9902f88c14df08d1832d6c3eb4d2d",
       "max": 5625,
       "style": "IPY_MODEL_090d7ad91a1c408db5f38b79582972c4",
       "value": 5625
      }
     },
     "5bf17bb8dd4c46cb8dbc8c062d54628c": {
      "model_module": "@jupyter-widgets/base",
      "model_module_version": "1.2.0",
      "model_name": "LayoutModel",
      "state": {
       "flex": "2"
      }
     },
     "5c2741260b0145e3b7d91bee0465a304": {
      "model_module": "@jupyter-widgets/controls",
      "model_module_version": "1.5.0",
      "model_name": "HBoxModel",
      "state": {
       "children": [
        "IPY_MODEL_eae045a78e4a4ffd8d9205f3b48e5588",
        "IPY_MODEL_733fa69d56c849be961eb772045ba145"
       ],
       "layout": "IPY_MODEL_3b36c590667d4e909705e7dc3aeb31eb"
      }
     },
     "5d2e71045ba04c9cab13a783dab13cae": {
      "model_module": "@jupyter-widgets/controls",
      "model_module_version": "1.5.0",
      "model_name": "DescriptionStyleModel",
      "state": {
       "description_width": ""
      }
     },
     "5e0c6e1625e241a7a3db7d196534a25e": {
      "model_module": "@jupyter-widgets/controls",
      "model_module_version": "1.5.0",
      "model_name": "FloatProgressModel",
      "state": {
       "bar_style": "success",
       "description": "5625/5625",
       "layout": "IPY_MODEL_2e1a7423405b4066a965a464034f5f9a",
       "max": 5625,
       "style": "IPY_MODEL_1b1246a9c43d413c9b2d8011aba4d5f1",
       "value": 5625
      }
     },
     "5e19d7e94f124fe4b99a047048b513ce": {
      "model_module": "@jupyter-widgets/controls",
      "model_module_version": "1.5.0",
      "model_name": "HTMLModel",
      "state": {
       "layout": "IPY_MODEL_921b7285baa7472cbd7bfb527e52001c",
       "style": "IPY_MODEL_d9128200edbe4f22a4bc5adfda65c317",
       "value": " ETA: 00:00s - loss: 0.0282 - val_loss: 0.0276"
      }
     },
     "5e2cdf026abe4ad98847bdc1b314ec7c": {
      "model_module": "@jupyter-widgets/controls",
      "model_module_version": "1.5.0",
      "model_name": "FloatProgressModel",
      "state": {
       "bar_style": "success",
       "description": "5625/5625",
       "layout": "IPY_MODEL_fca1a5524ded4c639a36c9e746520188",
       "max": 5625,
       "style": "IPY_MODEL_dd6202ef0977466aab90bd6942159595",
       "value": 5625
      }
     },
     "5e564d8b5c3a4a5d94285460b7fdf7db": {
      "model_module": "@jupyter-widgets/controls",
      "model_module_version": "1.5.0",
      "model_name": "HTMLModel",
      "state": {
       "layout": "IPY_MODEL_d05905205ebc4acb967adbb78902c0e3",
       "style": "IPY_MODEL_f6c888bfe7284db4a8a437bb1082bc8a",
       "value": " ETA: 00:00s - loss: 0.0279 - val_loss: 0.0270"
      }
     },
     "5e5f276f86bf4655816265496b552fb1": {
      "model_module": "@jupyter-widgets/base",
      "model_module_version": "1.2.0",
      "model_name": "LayoutModel",
      "state": {}
     },
     "5e887446b6f34209b8da24a3fc99d871": {
      "model_module": "@jupyter-widgets/controls",
      "model_module_version": "1.5.0",
      "model_name": "FloatProgressModel",
      "state": {
       "bar_style": "success",
       "description": "5625/5625",
       "layout": "IPY_MODEL_5b09fb2495164b1e94acd018e51c5663",
       "max": 5625,
       "style": "IPY_MODEL_3c27f25f5e834deca50d5bcea93e1b10",
       "value": 5625
      }
     },
     "5e9b967ed6dc4735933c7fa5d021276b": {
      "model_module": "@jupyter-widgets/controls",
      "model_module_version": "1.5.0",
      "model_name": "HBoxModel",
      "state": {
       "children": [
        "IPY_MODEL_4b7c7aec0374416bb361198006dc9031",
        "IPY_MODEL_87daa90076ab4125bc811a21b70c3741"
       ],
       "layout": "IPY_MODEL_d02b1bfc4b9844a8bf10447712859f60"
      }
     },
     "5ee0c490306541beb9dcc7eb414e9234": {
      "model_module": "@jupyter-widgets/base",
      "model_module_version": "1.2.0",
      "model_name": "LayoutModel",
      "state": {
       "flex": "2"
      }
     },
     "5f713d0a5b2f4ebb985d614ca377a850": {
      "model_module": "@jupyter-widgets/controls",
      "model_module_version": "1.5.0",
      "model_name": "HTMLModel",
      "state": {
       "layout": "IPY_MODEL_5b67831879ad425fbab7f53ea902fda6",
       "style": "IPY_MODEL_3c014a4d68e549f484adcdb7544bfe9d",
       "value": " ETA: 00:00s - loss: 0.0278 - val_loss: 0.0273"
      }
     },
     "5f75352052b84989a9793e72b5fb73eb": {
      "model_module": "@jupyter-widgets/base",
      "model_module_version": "1.2.0",
      "model_name": "LayoutModel",
      "state": {
       "flex": "2"
      }
     },
     "5fb364fd51fe484e8826af9d9c23a80f": {
      "model_module": "@jupyter-widgets/controls",
      "model_module_version": "1.5.0",
      "model_name": "HBoxModel",
      "state": {
       "children": [
        "IPY_MODEL_e326fb8d43e14b4da9f113f849d8a7c7",
        "IPY_MODEL_0b819eef0d6049808ce9764d3cd5ef99"
       ],
       "layout": "IPY_MODEL_890fc1bdca7e4956a7728d09c0028a36"
      }
     },
     "5fee3ad3ed434b8eacb9a449772b4b4f": {
      "model_module": "@jupyter-widgets/controls",
      "model_module_version": "1.5.0",
      "model_name": "HTMLModel",
      "state": {
       "layout": "IPY_MODEL_93e9d3eb56754ec2ae15097258f0be45",
       "style": "IPY_MODEL_177a1bdbd6c54c6a9ef4cea1bcc5aed8",
       "value": " ETA: 00:00s - loss: 0.0284 - val_loss: 0.0289"
      }
     },
     "60377dbc5e0d4fb098b5c941d84588b5": {
      "model_module": "@jupyter-widgets/controls",
      "model_module_version": "1.5.0",
      "model_name": "HBoxModel",
      "state": {
       "children": [
        "IPY_MODEL_dfca781f40b84974a820d4609e18ecea",
        "IPY_MODEL_65e04ab1176e4561b1403897a6ca86ec"
       ],
       "layout": "IPY_MODEL_ba4648dff6e04adcbb78bab5b0528ecf"
      }
     },
     "608ae89ca22c46e6be5e201452bb1177": {
      "model_module": "@jupyter-widgets/controls",
      "model_module_version": "1.5.0",
      "model_name": "HTMLModel",
      "state": {
       "layout": "IPY_MODEL_331115a81a6847468400083070219a8b",
       "style": "IPY_MODEL_5b009673364c4c3cbda228e8245b5ca9",
       "value": " ETA: 00:00s - loss: 0.0284 - val_loss: 0.0276"
      }
     },
     "60f8c379a5fb4019baf2f3f1efca6cd7": {
      "model_module": "@jupyter-widgets/controls",
      "model_module_version": "1.5.0",
      "model_name": "HBoxModel",
      "state": {
       "children": [
        "IPY_MODEL_d4283ea96e54499a8252654f530171c5",
        "IPY_MODEL_8d2acd6b7cb84582b17ce9ef6a2680e3"
       ],
       "layout": "IPY_MODEL_72af4a88f3754e6782fa7e4d821b91d0"
      }
     },
     "617291849f844752b19a84fd34aa06c3": {
      "model_module": "@jupyter-widgets/base",
      "model_module_version": "1.2.0",
      "model_name": "LayoutModel",
      "state": {}
     },
     "61878fea1e3c4f50b0417c634c4dfa23": {
      "model_module": "@jupyter-widgets/base",
      "model_module_version": "1.2.0",
      "model_name": "LayoutModel",
      "state": {
       "flex": "2"
      }
     },
     "625590bd0dba464bbde7edf821e14b33": {
      "model_module": "@jupyter-widgets/base",
      "model_module_version": "1.2.0",
      "model_name": "LayoutModel",
      "state": {
       "display": "inline-flex",
       "flex_flow": "row wrap",
       "width": "100%"
      }
     },
     "62daebc556424f6d86f7a8e52311b87c": {
      "model_module": "@jupyter-widgets/base",
      "model_module_version": "1.2.0",
      "model_name": "LayoutModel",
      "state": {}
     },
     "62e3b39a5f364b92853abf8aceee1505": {
      "model_module": "@jupyter-widgets/controls",
      "model_module_version": "1.5.0",
      "model_name": "HBoxModel",
      "state": {
       "children": [
        "IPY_MODEL_95d6c8accd7f498cadb0eddf98b48035",
        "IPY_MODEL_0171ca7839544e6e820f15dbd2167669"
       ],
       "layout": "IPY_MODEL_6d6643dcf258448ba41da6bccb1df52f"
      }
     },
     "62e405734ed34efcbeb2d7d83b36d954": {
      "model_module": "@jupyter-widgets/controls",
      "model_module_version": "1.5.0",
      "model_name": "FloatProgressModel",
      "state": {
       "bar_style": "success",
       "description": "5625/5625",
       "layout": "IPY_MODEL_436f4a4fa20249ec85132f6f6cb480d1",
       "max": 5625,
       "style": "IPY_MODEL_1f268842a1f54ad2ba9f195894f5ede5",
       "value": 5625
      }
     },
     "637ef2847cab4915a4f245b403624b55": {
      "model_module": "@jupyter-widgets/controls",
      "model_module_version": "1.5.0",
      "model_name": "ProgressStyleModel",
      "state": {
       "description_width": "initial"
      }
     },
     "63b5a1f3fe5b4c62a5df522053cf15e2": {
      "model_module": "@jupyter-widgets/base",
      "model_module_version": "1.2.0",
      "model_name": "LayoutModel",
      "state": {}
     },
     "63f2c905c1594d2eb914c76351330f9a": {
      "model_module": "@jupyter-widgets/controls",
      "model_module_version": "1.5.0",
      "model_name": "DescriptionStyleModel",
      "state": {
       "description_width": ""
      }
     },
     "6413397dfbda4c4c9ecf4034c96c8e1e": {
      "model_module": "@jupyter-widgets/controls",
      "model_module_version": "1.5.0",
      "model_name": "DescriptionStyleModel",
      "state": {
       "description_width": ""
      }
     },
     "641ee86720524911951f5a84011b9d7a": {
      "model_module": "@jupyter-widgets/controls",
      "model_module_version": "1.5.0",
      "model_name": "HTMLModel",
      "state": {
       "layout": "IPY_MODEL_8aff162976b84e228728f7099be2a8c6",
       "style": "IPY_MODEL_7be901f2eece4593a190a6899a264c05",
       "value": " ETA: 00:00s - loss: 0.0289 - val_loss: 0.0285"
      }
     },
     "641ee88bc8d44ecc81d06bc83d922257": {
      "model_module": "@jupyter-widgets/controls",
      "model_module_version": "1.5.0",
      "model_name": "ProgressStyleModel",
      "state": {
       "description_width": "initial"
      }
     },
     "64bde9098a8c4e96966c622aa8732be7": {
      "model_module": "@jupyter-widgets/base",
      "model_module_version": "1.2.0",
      "model_name": "LayoutModel",
      "state": {
       "flex": "2"
      }
     },
     "6513725462c84c28b9a410ea62d5137d": {
      "model_module": "@jupyter-widgets/controls",
      "model_module_version": "1.5.0",
      "model_name": "DescriptionStyleModel",
      "state": {
       "description_width": ""
      }
     },
     "653dd0c3ea6c43e8a32dd110736ae09f": {
      "model_module": "@jupyter-widgets/controls",
      "model_module_version": "1.5.0",
      "model_name": "ProgressStyleModel",
      "state": {
       "description_width": "initial"
      }
     },
     "6560593e88fa4998a545f7e9c00c1a9b": {
      "model_module": "@jupyter-widgets/controls",
      "model_module_version": "1.5.0",
      "model_name": "ProgressStyleModel",
      "state": {
       "description_width": "initial"
      }
     },
     "65afbd96655548e68cf3a56d300812cd": {
      "model_module": "@jupyter-widgets/base",
      "model_module_version": "1.2.0",
      "model_name": "LayoutModel",
      "state": {}
     },
     "65e04ab1176e4561b1403897a6ca86ec": {
      "model_module": "@jupyter-widgets/controls",
      "model_module_version": "1.5.0",
      "model_name": "HTMLModel",
      "state": {
       "layout": "IPY_MODEL_298114975f9348e48003830e8d3d8de5",
       "style": "IPY_MODEL_33c77803aa0a4e24ad200e818285a257",
       "value": " ETA: 00:00s - loss: 0.0277 - val_loss: 0.0272"
      }
     },
     "66252b14ad2f413fbffebe88ee23c434": {
      "model_module": "@jupyter-widgets/controls",
      "model_module_version": "1.5.0",
      "model_name": "FloatProgressModel",
      "state": {
       "bar_style": "success",
       "description": "5625/5625",
       "layout": "IPY_MODEL_ecc78140e2374232916b3d4b186971b9",
       "max": 5625,
       "style": "IPY_MODEL_bf6d3a2f93cc4c09a19dff54c1f530b4",
       "value": 5625
      }
     },
     "66ace7a0fbb24200b71f796da23d0ff3": {
      "model_module": "@jupyter-widgets/controls",
      "model_module_version": "1.5.0",
      "model_name": "DescriptionStyleModel",
      "state": {
       "description_width": ""
      }
     },
     "66c5f294df5846bba00885bff5cf635e": {
      "model_module": "@jupyter-widgets/base",
      "model_module_version": "1.2.0",
      "model_name": "LayoutModel",
      "state": {}
     },
     "66f7e1c7f9cc4b0cb6e84a98f4f03532": {
      "model_module": "@jupyter-widgets/controls",
      "model_module_version": "1.5.0",
      "model_name": "DescriptionStyleModel",
      "state": {
       "description_width": ""
      }
     },
     "67232c3221e54574a1cac2ead15f1157": {
      "model_module": "@jupyter-widgets/controls",
      "model_module_version": "1.5.0",
      "model_name": "HBoxModel",
      "state": {
       "children": [
        "IPY_MODEL_97622b84520c4d97bbda40b8663abc08",
        "IPY_MODEL_69ebe625c0134633985c0d82e5d27ade"
       ],
       "layout": "IPY_MODEL_7e01c411847b4b26829a18d07eb1c9bf"
      }
     },
     "679a956486944f5496c3a453ad4a1657": {
      "model_module": "@jupyter-widgets/controls",
      "model_module_version": "1.5.0",
      "model_name": "FloatProgressModel",
      "state": {
       "bar_style": "success",
       "description": "5625/5625",
       "layout": "IPY_MODEL_79b6187bf8d34f16af74fb7aabbbdcdc",
       "max": 5625,
       "style": "IPY_MODEL_e2e4c7c2231048d1b5d2ca8e75a2884c",
       "value": 5625
      }
     },
     "67ad4751f3a84d68a777f0cdb725f12c": {
      "model_module": "@jupyter-widgets/controls",
      "model_module_version": "1.5.0",
      "model_name": "DescriptionStyleModel",
      "state": {
       "description_width": ""
      }
     },
     "67b74345047643f2b71b7a3f7d6b6339": {
      "model_module": "@jupyter-widgets/controls",
      "model_module_version": "1.5.0",
      "model_name": "HTMLModel",
      "state": {
       "layout": "IPY_MODEL_32ffbf41dcea45ae91801c77cf2bf2f4",
       "style": "IPY_MODEL_151b39ad39914155abc8486efb145811",
       "value": " ETA: 00:00s - loss: 0.0283 - val_loss: 0.0274"
      }
     },
     "67d6247233a6458e82af08cb525ac3c9": {
      "model_module": "@jupyter-widgets/base",
      "model_module_version": "1.2.0",
      "model_name": "LayoutModel",
      "state": {}
     },
     "681333ead82a4603a63358cd014eb54e": {
      "model_module": "@jupyter-widgets/base",
      "model_module_version": "1.2.0",
      "model_name": "LayoutModel",
      "state": {
       "flex": "2"
      }
     },
     "686346fb986948c08f031fe2f9a0dd4d": {
      "model_module": "@jupyter-widgets/base",
      "model_module_version": "1.2.0",
      "model_name": "LayoutModel",
      "state": {
       "flex": "2"
      }
     },
     "68a51764088e4cf0bd9f8d28b3e36e07": {
      "model_module": "@jupyter-widgets/controls",
      "model_module_version": "1.5.0",
      "model_name": "DescriptionStyleModel",
      "state": {
       "description_width": ""
      }
     },
     "68c3caf0f7d84599bdbf87f5bd80e44b": {
      "model_module": "@jupyter-widgets/controls",
      "model_module_version": "1.5.0",
      "model_name": "HTMLModel",
      "state": {
       "layout": "IPY_MODEL_bf5b4464400c4f2bbcaaf48f454aa3d7",
       "style": "IPY_MODEL_6d2fedb939d3446d911c1b9a36d4eff8",
       "value": " ETA: 00:00s - loss: 0.0289 - val_loss: 0.0281"
      }
     },
     "693162f70fa442068d42238e788bc47e": {
      "model_module": "@jupyter-widgets/base",
      "model_module_version": "1.2.0",
      "model_name": "LayoutModel",
      "state": {
       "flex": "2"
      }
     },
     "69ebe625c0134633985c0d82e5d27ade": {
      "model_module": "@jupyter-widgets/controls",
      "model_module_version": "1.5.0",
      "model_name": "HTMLModel",
      "state": {
       "layout": "IPY_MODEL_df08a942683e496483803c1d84916784",
       "style": "IPY_MODEL_9bbb2f060ae84992a267852ab6888f9d",
       "value": " ETA: 00:00s - loss: 0.0280 - val_loss: 0.0277"
      }
     },
     "6a37f4264b3747cf9f65fdd0c955d969": {
      "model_module": "@jupyter-widgets/base",
      "model_module_version": "1.2.0",
      "model_name": "LayoutModel",
      "state": {
       "flex": "2"
      }
     },
     "6a419de092f54734bf57c5aa69fe93e8": {
      "model_module": "@jupyter-widgets/base",
      "model_module_version": "1.2.0",
      "model_name": "LayoutModel",
      "state": {
       "flex": "2"
      }
     },
     "6a6f182b9ca74bcc840f312972266519": {
      "model_module": "@jupyter-widgets/base",
      "model_module_version": "1.2.0",
      "model_name": "LayoutModel",
      "state": {}
     },
     "6aa67fe9f53c4849b829a3e2d80b9656": {
      "model_module": "@jupyter-widgets/base",
      "model_module_version": "1.2.0",
      "model_name": "LayoutModel",
      "state": {}
     },
     "6af45c2c4898497f82a12c23e240df72": {
      "model_module": "@jupyter-widgets/controls",
      "model_module_version": "1.5.0",
      "model_name": "FloatProgressModel",
      "state": {
       "bar_style": "success",
       "description": "5625/5625",
       "layout": "IPY_MODEL_0b361d70d81a45d2afcb6c1b0b199cde",
       "max": 5625,
       "style": "IPY_MODEL_393f52c956384267a231506cd3af5e98",
       "value": 5625
      }
     },
     "6b03cf2272a34bf7927a7c3a2d17ce4c": {
      "model_module": "@jupyter-widgets/controls",
      "model_module_version": "1.5.0",
      "model_name": "ProgressStyleModel",
      "state": {
       "description_width": "initial"
      }
     },
     "6b23c80fe2c0412c8f1ac83cdfdcf00a": {
      "model_module": "@jupyter-widgets/controls",
      "model_module_version": "1.5.0",
      "model_name": "DescriptionStyleModel",
      "state": {
       "description_width": ""
      }
     },
     "6b61c5613e4f4757a75fdd6a22452aeb": {
      "model_module": "@jupyter-widgets/base",
      "model_module_version": "1.2.0",
      "model_name": "LayoutModel",
      "state": {
       "flex": "2"
      }
     },
     "6c20c4ec446d404badfdd4c88fdede32": {
      "model_module": "@jupyter-widgets/controls",
      "model_module_version": "1.5.0",
      "model_name": "HTMLModel",
      "state": {
       "layout": "IPY_MODEL_3debd49f8b814d0092b3f686710ab7c4",
       "style": "IPY_MODEL_3ac9c9e082a045bc91a91dc6fec474a8",
       "value": " ETA: 00:00s - loss: 0.0279 - val_loss: 0.0274"
      }
     },
     "6c3b431d3cf241af8dadaefcef547f64": {
      "model_module": "@jupyter-widgets/base",
      "model_module_version": "1.2.0",
      "model_name": "LayoutModel",
      "state": {
       "flex": "2"
      }
     },
     "6ca3aeec748b4de593281c4015362710": {
      "model_module": "@jupyter-widgets/base",
      "model_module_version": "1.2.0",
      "model_name": "LayoutModel",
      "state": {
       "display": "inline-flex",
       "flex_flow": "row wrap",
       "width": "100%"
      }
     },
     "6d046c168c7c47f59c60d65da3e580e8": {
      "model_module": "@jupyter-widgets/base",
      "model_module_version": "1.2.0",
      "model_name": "LayoutModel",
      "state": {}
     },
     "6d2fedb939d3446d911c1b9a36d4eff8": {
      "model_module": "@jupyter-widgets/controls",
      "model_module_version": "1.5.0",
      "model_name": "DescriptionStyleModel",
      "state": {
       "description_width": ""
      }
     },
     "6d642a314498407580a0c60be6517ee1": {
      "model_module": "@jupyter-widgets/controls",
      "model_module_version": "1.5.0",
      "model_name": "HTMLModel",
      "state": {
       "layout": "IPY_MODEL_4707b063b32446c0b67cf351bcee348e",
       "style": "IPY_MODEL_c705e91dd4654f62b6c3d33cbecdb5a7",
       "value": " ETA: 00:00s - loss: 0.0297 - val_loss: 0.0287"
      }
     },
     "6d6643dcf258448ba41da6bccb1df52f": {
      "model_module": "@jupyter-widgets/base",
      "model_module_version": "1.2.0",
      "model_name": "LayoutModel",
      "state": {
       "display": "inline-flex",
       "flex_flow": "row wrap",
       "width": "100%"
      }
     },
     "6d739097ae9548b781c6667470b7c281": {
      "model_module": "@jupyter-widgets/controls",
      "model_module_version": "1.5.0",
      "model_name": "DescriptionStyleModel",
      "state": {
       "description_width": ""
      }
     },
     "6da67e2043c64b5da28187662ad98dac": {
      "model_module": "@jupyter-widgets/controls",
      "model_module_version": "1.5.0",
      "model_name": "HTMLModel",
      "state": {
       "layout": "IPY_MODEL_06a75ff3698a48cd8de6088814ccafb3",
       "style": "IPY_MODEL_401a25677c374b50b49eefb13b3897a4",
       "value": " ETA: 00:00s - loss: 0.0287 - val_loss: 0.0277"
      }
     },
     "6da8f5b7a236446d8e19157a53a785fc": {
      "model_module": "@jupyter-widgets/base",
      "model_module_version": "1.2.0",
      "model_name": "LayoutModel",
      "state": {}
     },
     "6dae74a932164d618bc30b58ed90f2e7": {
      "model_module": "@jupyter-widgets/controls",
      "model_module_version": "1.5.0",
      "model_name": "HTMLModel",
      "state": {
       "layout": "IPY_MODEL_fda886d2307f482d8a53675bad91bd3f",
       "style": "IPY_MODEL_2e1a55130b844b44b7d76117ab743f10",
       "value": " ETA: 00:00s - loss: 0.0296 - val_loss: 0.0287"
      }
     },
     "6dc4ffb67a1748deb5c66a58a1a22ec2": {
      "model_module": "@jupyter-widgets/base",
      "model_module_version": "1.2.0",
      "model_name": "LayoutModel",
      "state": {}
     },
     "6e76326494274d96bfa21ccd854776f5": {
      "model_module": "@jupyter-widgets/base",
      "model_module_version": "1.2.0",
      "model_name": "LayoutModel",
      "state": {
       "display": "inline-flex",
       "flex_flow": "row wrap",
       "width": "100%"
      }
     },
     "6e945b0d65fd4f859997eb4fc3975c3e": {
      "model_module": "@jupyter-widgets/base",
      "model_module_version": "1.2.0",
      "model_name": "LayoutModel",
      "state": {
       "flex": "2"
      }
     },
     "6eaef938dcea4c7daeeb8806aaa21ef2": {
      "model_module": "@jupyter-widgets/controls",
      "model_module_version": "1.5.0",
      "model_name": "DescriptionStyleModel",
      "state": {
       "description_width": ""
      }
     },
     "6ee39798ea4f4a4b91a03d1c12af6bf6": {
      "model_module": "@jupyter-widgets/base",
      "model_module_version": "1.2.0",
      "model_name": "LayoutModel",
      "state": {
       "display": "inline-flex",
       "flex_flow": "row wrap",
       "width": "100%"
      }
     },
     "6ef85bba7f5248609c10caada0d48173": {
      "model_module": "@jupyter-widgets/controls",
      "model_module_version": "1.5.0",
      "model_name": "HBoxModel",
      "state": {
       "children": [
        "IPY_MODEL_8345d68b0a0940d08170417ac7b15ce0",
        "IPY_MODEL_d171ad4464b44e308f063365386ab1f6"
       ],
       "layout": "IPY_MODEL_aec40a7540794b3a8ddd78c86c0ac81e"
      }
     },
     "6f4a978e7f414572921b3b54b6939436": {
      "model_module": "@jupyter-widgets/controls",
      "model_module_version": "1.5.0",
      "model_name": "DescriptionStyleModel",
      "state": {
       "description_width": ""
      }
     },
     "6fa5aa614cfa424d8955860f98783d9f": {
      "model_module": "@jupyter-widgets/controls",
      "model_module_version": "1.5.0",
      "model_name": "HTMLModel",
      "state": {
       "layout": "IPY_MODEL_f234b1c163584231afcec520fe8af485",
       "style": "IPY_MODEL_7b716edf2304420190b9b32da43a6eb3",
       "value": " ETA: 00:00s - loss: 0.0279 - val_loss: 0.0276"
      }
     },
     "6fbb54818a724b539f35e285ecb959b4": {
      "model_module": "@jupyter-widgets/base",
      "model_module_version": "1.2.0",
      "model_name": "LayoutModel",
      "state": {}
     },
     "7019990cd41541a6bd290c2121a84d80": {
      "model_module": "@jupyter-widgets/controls",
      "model_module_version": "1.5.0",
      "model_name": "FloatProgressModel",
      "state": {
       "bar_style": "success",
       "description": "5625/5625",
       "layout": "IPY_MODEL_518423b9a5ab4aafbc2ba1727775f0d4",
       "max": 5625,
       "style": "IPY_MODEL_8fb3b61d3fa74cb68fcc631e0065df6b",
       "value": 5625
      }
     },
     "703c3476f8134cc69b029dba7ae2b702": {
      "model_module": "@jupyter-widgets/base",
      "model_module_version": "1.2.0",
      "model_name": "LayoutModel",
      "state": {
       "flex": "2"
      }
     },
     "70410a903f634811909520874d60e98b": {
      "model_module": "@jupyter-widgets/controls",
      "model_module_version": "1.5.0",
      "model_name": "DescriptionStyleModel",
      "state": {
       "description_width": ""
      }
     },
     "707cbbeca62e4d44a43f04d1a18c3254": {
      "model_module": "@jupyter-widgets/base",
      "model_module_version": "1.2.0",
      "model_name": "LayoutModel",
      "state": {
       "display": "inline-flex",
       "flex_flow": "row wrap",
       "width": "100%"
      }
     },
     "7082f5344b6e41848bc35525327938f5": {
      "model_module": "@jupyter-widgets/controls",
      "model_module_version": "1.5.0",
      "model_name": "ProgressStyleModel",
      "state": {
       "description_width": "initial"
      }
     },
     "70ea983b4f20458d93afa60b05ed1748": {
      "model_module": "@jupyter-widgets/base",
      "model_module_version": "1.2.0",
      "model_name": "LayoutModel",
      "state": {}
     },
     "7112792b0c8745ed967573b794495f08": {
      "model_module": "@jupyter-widgets/controls",
      "model_module_version": "1.5.0",
      "model_name": "HTMLModel",
      "state": {
       "layout": "IPY_MODEL_74cf5adba74c49b8a98d173fa126921b",
       "style": "IPY_MODEL_6eaef938dcea4c7daeeb8806aaa21ef2",
       "value": " ETA: 00:00s - loss: 0.0281 - val_loss: 0.0273"
      }
     },
     "7163a7a8d157486fb1109a9c9a4b88d5": {
      "model_module": "@jupyter-widgets/base",
      "model_module_version": "1.2.0",
      "model_name": "LayoutModel",
      "state": {
       "flex": "2"
      }
     },
     "723a2a61fcae4353b950d1a017f487e6": {
      "model_module": "@jupyter-widgets/controls",
      "model_module_version": "1.5.0",
      "model_name": "FloatProgressModel",
      "state": {
       "bar_style": "success",
       "description": "5625/5625",
       "layout": "IPY_MODEL_a8a89b9ebebf4c52ad201cf053d6e792",
       "max": 5625,
       "style": "IPY_MODEL_2338b4a0a8b64728a83d82b9abc1d433",
       "value": 5625
      }
     },
     "7247aa63b7484cdfb630ad62de6aaea5": {
      "model_module": "@jupyter-widgets/controls",
      "model_module_version": "1.5.0",
      "model_name": "HBoxModel",
      "state": {
       "children": [
        "IPY_MODEL_572db3acc16542af82b44d7bacaeea8e",
        "IPY_MODEL_9fd60b63106245029c0e10228a200762"
       ],
       "layout": "IPY_MODEL_3701bbe672a24680a8e829fda13ffc89"
      }
     },
     "729494b0d07d406890415d15ad39aa0d": {
      "model_module": "@jupyter-widgets/controls",
      "model_module_version": "1.5.0",
      "model_name": "ProgressStyleModel",
      "state": {
       "description_width": "initial"
      }
     },
     "72af4a88f3754e6782fa7e4d821b91d0": {
      "model_module": "@jupyter-widgets/base",
      "model_module_version": "1.2.0",
      "model_name": "LayoutModel",
      "state": {
       "display": "inline-flex",
       "flex_flow": "row wrap",
       "width": "100%"
      }
     },
     "72f4ee1262cb4f4f899920b2b3c1c441": {
      "model_module": "@jupyter-widgets/controls",
      "model_module_version": "1.5.0",
      "model_name": "ProgressStyleModel",
      "state": {
       "description_width": "initial"
      }
     },
     "73099cd0f248495195164e46fa53e5a3": {
      "model_module": "@jupyter-widgets/controls",
      "model_module_version": "1.5.0",
      "model_name": "HBoxModel",
      "state": {
       "children": [
        "IPY_MODEL_17e2f8d0723e4332b6fef3f958bfb5ef",
        "IPY_MODEL_03ee7bde8ec342c8a3283d28ff237765"
       ],
       "layout": "IPY_MODEL_1e00da670dfb49f3a8e7dd474fcd05d5"
      }
     },
     "732906cf3a384783a63ab918dedb8f58": {
      "model_module": "@jupyter-widgets/controls",
      "model_module_version": "1.5.0",
      "model_name": "FloatProgressModel",
      "state": {
       "bar_style": "success",
       "description": "5625/5625",
       "layout": "IPY_MODEL_c616bc2c9d0f4675b13342829b80379c",
       "max": 5625,
       "style": "IPY_MODEL_46ccc72d4e7d48d5be0eb506250cfda6",
       "value": 5625
      }
     },
     "733ec0e34d38417cb189071a971e0331": {
      "model_module": "@jupyter-widgets/base",
      "model_module_version": "1.2.0",
      "model_name": "LayoutModel",
      "state": {
       "flex": "2"
      }
     },
     "733fa69d56c849be961eb772045ba145": {
      "model_module": "@jupyter-widgets/controls",
      "model_module_version": "1.5.0",
      "model_name": "HTMLModel",
      "state": {
       "layout": "IPY_MODEL_a9c7f1e357ac493389be2ea16587426a",
       "style": "IPY_MODEL_8c811b36fd67411aa7d30ea819b4347c",
       "value": " ETA: 00:00s - loss: 0.0281 - val_loss: 0.0274"
      }
     },
     "735ffa140fa54a7d92eec50d693975e5": {
      "model_module": "@jupyter-widgets/controls",
      "model_module_version": "1.5.0",
      "model_name": "DescriptionStyleModel",
      "state": {
       "description_width": ""
      }
     },
     "73b12c3d51f9468792651484a2b39f8a": {
      "model_module": "@jupyter-widgets/controls",
      "model_module_version": "1.5.0",
      "model_name": "DescriptionStyleModel",
      "state": {
       "description_width": ""
      }
     },
     "742e644165934caf89fab311803e67fe": {
      "model_module": "@jupyter-widgets/controls",
      "model_module_version": "1.5.0",
      "model_name": "FloatProgressModel",
      "state": {
       "bar_style": "success",
       "description": "5625/5625",
       "layout": "IPY_MODEL_aa9ec0e6211e47a596a887b0822d235e",
       "max": 5625,
       "style": "IPY_MODEL_5b74988386fc460589ca52bb6e9d6efc",
       "value": 5625
      }
     },
     "744ec91f7d114b08bb35739b08382bc2": {
      "model_module": "@jupyter-widgets/controls",
      "model_module_version": "1.5.0",
      "model_name": "HBoxModel",
      "state": {
       "children": [
        "IPY_MODEL_b87df6c11a744feda9b8ab7dc89a1730",
        "IPY_MODEL_0524d4c770b04011ac953b9b5b07c801"
       ],
       "layout": "IPY_MODEL_7e6278db4b994a1693c1d96723c520b8"
      }
     },
     "74674e461ee74c14acda5624c6f8c239": {
      "model_module": "@jupyter-widgets/controls",
      "model_module_version": "1.5.0",
      "model_name": "FloatProgressModel",
      "state": {
       "bar_style": "success",
       "description": "5625/5625",
       "layout": "IPY_MODEL_f198c1e2e4ec4a50b6ad058f2350a694",
       "max": 5625,
       "style": "IPY_MODEL_a116026c5a374b249aabc970574b5bb0",
       "value": 5625
      }
     },
     "747d7a1eb628417a8149a26966f58884": {
      "model_module": "@jupyter-widgets/controls",
      "model_module_version": "1.5.0",
      "model_name": "ProgressStyleModel",
      "state": {
       "description_width": "initial"
      }
     },
     "7497525b449241ea96f52a552d33dbe8": {
      "model_module": "@jupyter-widgets/controls",
      "model_module_version": "1.5.0",
      "model_name": "HTMLModel",
      "state": {
       "layout": "IPY_MODEL_b77916d9683f47f2a1b170d5fd86f992",
       "style": "IPY_MODEL_66f7e1c7f9cc4b0cb6e84a98f4f03532",
       "value": " 66/1000 ETA: 25:05:06s,  96.69s/epochs"
      }
     },
     "74cf5adba74c49b8a98d173fa126921b": {
      "model_module": "@jupyter-widgets/base",
      "model_module_version": "1.2.0",
      "model_name": "LayoutModel",
      "state": {}
     },
     "755b290bf4da4ad2a094f07cad0b86f8": {
      "model_module": "@jupyter-widgets/base",
      "model_module_version": "1.2.0",
      "model_name": "LayoutModel",
      "state": {
       "flex": "2"
      }
     },
     "756ede1f337545d3862c7026f6f118f3": {
      "model_module": "@jupyter-widgets/base",
      "model_module_version": "1.2.0",
      "model_name": "LayoutModel",
      "state": {
       "flex": "2"
      }
     },
     "7575c1fb3bab441aa96df8d93bc441a9": {
      "model_module": "@jupyter-widgets/controls",
      "model_module_version": "1.5.0",
      "model_name": "FloatProgressModel",
      "state": {
       "bar_style": "success",
       "description": "5625/5625",
       "layout": "IPY_MODEL_ae119bf51e6541a890a90310e1d92545",
       "max": 5625,
       "style": "IPY_MODEL_d99371ae61df4341af0e087a42a222cf",
       "value": 5625
      }
     },
     "75b5e615b6e54e0ba02cfbded8677c2b": {
      "model_module": "@jupyter-widgets/controls",
      "model_module_version": "1.5.0",
      "model_name": "ProgressStyleModel",
      "state": {
       "description_width": "initial"
      }
     },
     "75ec327337e54915bd555caec530a741": {
      "model_module": "@jupyter-widgets/controls",
      "model_module_version": "1.5.0",
      "model_name": "ProgressStyleModel",
      "state": {
       "description_width": "initial"
      }
     },
     "75fccffaac8045c3928578e6ba6aad04": {
      "model_module": "@jupyter-widgets/controls",
      "model_module_version": "1.5.0",
      "model_name": "DescriptionStyleModel",
      "state": {
       "description_width": ""
      }
     },
     "7600006840f0462aa27d6b1c1b0b3a0f": {
      "model_module": "@jupyter-widgets/controls",
      "model_module_version": "1.5.0",
      "model_name": "HTMLModel",
      "state": {
       "layout": "IPY_MODEL_c2ed766cfbe640378cf00e112cf525ab",
       "style": "IPY_MODEL_eb4f5ed8eece415e9ea08548659a73c3",
       "value": " ETA: 00:00s - loss: 0.0285 - val_loss: 0.0280"
      }
     },
     "7611c8e591994682a9bcf3ae57228d05": {
      "model_module": "@jupyter-widgets/controls",
      "model_module_version": "1.5.0",
      "model_name": "ProgressStyleModel",
      "state": {
       "description_width": "initial"
      }
     },
     "761495752a154c8fa146f38fba6d629d": {
      "model_module": "@jupyter-widgets/base",
      "model_module_version": "1.2.0",
      "model_name": "LayoutModel",
      "state": {
       "flex": "2"
      }
     },
     "7668f9f819c94bc7b221344543ab3567": {
      "model_module": "@jupyter-widgets/controls",
      "model_module_version": "1.5.0",
      "model_name": "FloatProgressModel",
      "state": {
       "bar_style": "success",
       "description": "5625/5625",
       "layout": "IPY_MODEL_e2f923c8075f4a3ab787f943d1a54cb2",
       "max": 5625,
       "style": "IPY_MODEL_193db7f951cb4842883c23e12d917007",
       "value": 5625
      }
     },
     "76a6ecc73f0d417ba5fdabcab9745017": {
      "model_module": "@jupyter-widgets/controls",
      "model_module_version": "1.5.0",
      "model_name": "DescriptionStyleModel",
      "state": {
       "description_width": ""
      }
     },
     "7700b13657cb457bae50f1f74f5a00e7": {
      "model_module": "@jupyter-widgets/base",
      "model_module_version": "1.2.0",
      "model_name": "LayoutModel",
      "state": {
       "display": "inline-flex",
       "flex_flow": "row wrap",
       "width": "100%"
      }
     },
     "77145b3b97b14ecf80b08357597650b8": {
      "model_module": "@jupyter-widgets/controls",
      "model_module_version": "1.5.0",
      "model_name": "DescriptionStyleModel",
      "state": {
       "description_width": ""
      }
     },
     "77743570a6744816b3ea2f47e7c73c62": {
      "model_module": "@jupyter-widgets/base",
      "model_module_version": "1.2.0",
      "model_name": "LayoutModel",
      "state": {
       "flex": "2"
      }
     },
     "777ccc2de6314f17a1ca255b4755ce41": {
      "model_module": "@jupyter-widgets/controls",
      "model_module_version": "1.5.0",
      "model_name": "HTMLModel",
      "state": {
       "layout": "IPY_MODEL_25d7ab7f9cf4424f885b4a9dff638ff0",
       "style": "IPY_MODEL_1409ae40b0f44827bd9ab2ec04c22adc",
       "value": " ETA: 00:00s - loss: 0.0293 - val_loss: 0.0292"
      }
     },
     "77cbb3d431f44abbb49d3529970a379f": {
      "model_module": "@jupyter-widgets/controls",
      "model_module_version": "1.5.0",
      "model_name": "HBoxModel",
      "state": {
       "children": [
        "IPY_MODEL_8d2f814ce9484f64858b88413a1ad309",
        "IPY_MODEL_3c0edf97159948bbb2d4f1fc682d2b1c"
       ],
       "layout": "IPY_MODEL_0ffe753333d24a4f98a9576f32983605"
      }
     },
     "77f1c6b41fa54e85a1dd2702bb3f9c89": {
      "model_module": "@jupyter-widgets/controls",
      "model_module_version": "1.5.0",
      "model_name": "DescriptionStyleModel",
      "state": {
       "description_width": ""
      }
     },
     "78569c10f05a467eb12ada6dce4bfe2c": {
      "model_module": "@jupyter-widgets/controls",
      "model_module_version": "1.5.0",
      "model_name": "ProgressStyleModel",
      "state": {
       "description_width": "initial"
      }
     },
     "789720ee711c4274a6657f8fab2796bd": {
      "model_module": "@jupyter-widgets/controls",
      "model_module_version": "1.5.0",
      "model_name": "HBoxModel",
      "state": {
       "children": [
        "IPY_MODEL_1e419c47bbd94c2895df905799c22419",
        "IPY_MODEL_506b3a4b4789472e9fc12ac1f8dab781"
       ],
       "layout": "IPY_MODEL_e3d9988a7cda49e4a605c8440dbc2692"
      }
     },
     "79667e83976b4fa1adb63dd5b5826021": {
      "model_module": "@jupyter-widgets/controls",
      "model_module_version": "1.5.0",
      "model_name": "FloatProgressModel",
      "state": {
       "bar_style": "success",
       "description": "5625/5625",
       "layout": "IPY_MODEL_1220307b164544ab83394a45a30d00f5",
       "max": 5625,
       "style": "IPY_MODEL_567a0299cf94431b83ca4d634eb2ec3e",
       "value": 5625
      }
     },
     "79930315e34b4523a5753d2653da6157": {
      "model_module": "@jupyter-widgets/controls",
      "model_module_version": "1.5.0",
      "model_name": "HBoxModel",
      "state": {
       "children": [
        "IPY_MODEL_6af45c2c4898497f82a12c23e240df72",
        "IPY_MODEL_6d642a314498407580a0c60be6517ee1"
       ],
       "layout": "IPY_MODEL_53b5bef51e86469784113bcbc8a3ec9d"
      }
     },
     "79b6187bf8d34f16af74fb7aabbbdcdc": {
      "model_module": "@jupyter-widgets/base",
      "model_module_version": "1.2.0",
      "model_name": "LayoutModel",
      "state": {
       "flex": "2"
      }
     },
     "79cd48a55cae421c834d6cecee96a46c": {
      "model_module": "@jupyter-widgets/base",
      "model_module_version": "1.2.0",
      "model_name": "LayoutModel",
      "state": {}
     },
     "79cd7d6115044c33a89841e395540bae": {
      "model_module": "@jupyter-widgets/base",
      "model_module_version": "1.2.0",
      "model_name": "LayoutModel",
      "state": {}
     },
     "7a045d559b4c475bb37c66ccfe935ed6": {
      "model_module": "@jupyter-widgets/controls",
      "model_module_version": "1.5.0",
      "model_name": "HBoxModel",
      "state": {
       "children": [
        "IPY_MODEL_2d842b2e8d80411faaaffc7f07b00dc0",
        "IPY_MODEL_7497525b449241ea96f52a552d33dbe8"
       ],
       "layout": "IPY_MODEL_5bc25f6dd5084d508f0d683222217a69"
      }
     },
     "7a4dff0c46c14686a1e15531313864dc": {
      "model_module": "@jupyter-widgets/controls",
      "model_module_version": "1.5.0",
      "model_name": "FloatProgressModel",
      "state": {
       "bar_style": "success",
       "description": "5625/5625",
       "layout": "IPY_MODEL_e6ef989de5f44ece90dc2b88a1995475",
       "max": 5625,
       "style": "IPY_MODEL_ad8e1e854fcb4d12885a43ef00fc1839",
       "value": 5625
      }
     },
     "7a724957ced84e8a9f0197ab87c798fc": {
      "model_module": "@jupyter-widgets/controls",
      "model_module_version": "1.5.0",
      "model_name": "ProgressStyleModel",
      "state": {
       "description_width": "initial"
      }
     },
     "7a98f8b6c69a40f5a2f9a5a0a8ae7ee5": {
      "model_module": "@jupyter-widgets/base",
      "model_module_version": "1.2.0",
      "model_name": "LayoutModel",
      "state": {
       "display": "inline-flex",
       "flex_flow": "row wrap",
       "width": "100%"
      }
     },
     "7ac1c3f834e24bcead12f92aa91992d4": {
      "model_module": "@jupyter-widgets/base",
      "model_module_version": "1.2.0",
      "model_name": "LayoutModel",
      "state": {}
     },
     "7ace54863df8430b8c13390e17466e61": {
      "model_module": "@jupyter-widgets/controls",
      "model_module_version": "1.5.0",
      "model_name": "ProgressStyleModel",
      "state": {
       "description_width": "initial"
      }
     },
     "7aea449008d24a1b898fd682c8f0d547": {
      "model_module": "@jupyter-widgets/base",
      "model_module_version": "1.2.0",
      "model_name": "LayoutModel",
      "state": {}
     },
     "7b2014a428f74287a0d688799585d913": {
      "model_module": "@jupyter-widgets/controls",
      "model_module_version": "1.5.0",
      "model_name": "DescriptionStyleModel",
      "state": {
       "description_width": ""
      }
     },
     "7b716edf2304420190b9b32da43a6eb3": {
      "model_module": "@jupyter-widgets/controls",
      "model_module_version": "1.5.0",
      "model_name": "DescriptionStyleModel",
      "state": {
       "description_width": ""
      }
     },
     "7b86a0ecb28d456cbec624ea080ae0be": {
      "model_module": "@jupyter-widgets/controls",
      "model_module_version": "1.5.0",
      "model_name": "DescriptionStyleModel",
      "state": {
       "description_width": ""
      }
     },
     "7bb668cef4004233ba04e90120344ef8": {
      "model_module": "@jupyter-widgets/controls",
      "model_module_version": "1.5.0",
      "model_name": "ProgressStyleModel",
      "state": {
       "description_width": "initial"
      }
     },
     "7bc8452a077b48499408f236edad2458": {
      "model_module": "@jupyter-widgets/controls",
      "model_module_version": "1.5.0",
      "model_name": "DescriptionStyleModel",
      "state": {
       "description_width": ""
      }
     },
     "7be901f2eece4593a190a6899a264c05": {
      "model_module": "@jupyter-widgets/controls",
      "model_module_version": "1.5.0",
      "model_name": "DescriptionStyleModel",
      "state": {
       "description_width": ""
      }
     },
     "7bec785489774651961e29c942c13faf": {
      "model_module": "@jupyter-widgets/controls",
      "model_module_version": "1.5.0",
      "model_name": "HTMLModel",
      "state": {
       "layout": "IPY_MODEL_5017215a2ed74e73a7971a37e09b22e6",
       "style": "IPY_MODEL_b862326a3f2647d086e1eca71eb4239b",
       "value": " ETA: 00:00s - loss: 0.0288 - val_loss: 0.0277"
      }
     },
     "7bf2e3b9fecc41f381550b6508eaf216": {
      "model_module": "@jupyter-widgets/base",
      "model_module_version": "1.2.0",
      "model_name": "LayoutModel",
      "state": {
       "flex": "2"
      }
     },
     "7c6326abcc704f4c8662c1f8825353c1": {
      "model_module": "@jupyter-widgets/controls",
      "model_module_version": "1.5.0",
      "model_name": "ProgressStyleModel",
      "state": {
       "description_width": "initial"
      }
     },
     "7c71b92b00474665876e38e49c4b98c3": {
      "model_module": "@jupyter-widgets/controls",
      "model_module_version": "1.5.0",
      "model_name": "FloatProgressModel",
      "state": {
       "bar_style": "success",
       "description": "5625/5625",
       "layout": "IPY_MODEL_917cde6c57804de68f2432eee47cfd51",
       "max": 5625,
       "style": "IPY_MODEL_27d6c665ecb341b6b033404f566b3540",
       "value": 5625
      }
     },
     "7cf1bdd91ad04dae9b43f23d37bc0b3e": {
      "model_module": "@jupyter-widgets/base",
      "model_module_version": "1.2.0",
      "model_name": "LayoutModel",
      "state": {}
     },
     "7d25ba1312fa4d99b84f0088571b985e": {
      "model_module": "@jupyter-widgets/controls",
      "model_module_version": "1.5.0",
      "model_name": "HTMLModel",
      "state": {
       "layout": "IPY_MODEL_fc59e74190ed4c1498ad58c7f1d40b62",
       "style": "IPY_MODEL_ff30a45dd7144bd6b7cea257955f30ff",
       "value": " ETA: 00:00s - loss: 0.0299 - val_loss: 0.0288"
      }
     },
     "7d3582659d5543c29853e640dd23e07f": {
      "model_module": "@jupyter-widgets/base",
      "model_module_version": "1.2.0",
      "model_name": "LayoutModel",
      "state": {
       "display": "inline-flex",
       "flex_flow": "row wrap",
       "width": "100%"
      }
     },
     "7d41456792f94016a7b5f5d14cd545b2": {
      "model_module": "@jupyter-widgets/controls",
      "model_module_version": "1.5.0",
      "model_name": "FloatProgressModel",
      "state": {
       "bar_style": "success",
       "description": "5625/5625",
       "layout": "IPY_MODEL_fe9a0a92d16f4803a8271a38bc605cf8",
       "max": 5625,
       "style": "IPY_MODEL_d93f91aab4a248d7bf8573002088f9fd",
       "value": 5625
      }
     },
     "7dbcee0a19bf4c37a53cdb71eb7667be": {
      "model_module": "@jupyter-widgets/base",
      "model_module_version": "1.2.0",
      "model_name": "LayoutModel",
      "state": {
       "display": "inline-flex",
       "flex_flow": "row wrap",
       "width": "100%"
      }
     },
     "7dc7ffb41b7a4e178d1eaefb2f9d288f": {
      "model_module": "@jupyter-widgets/controls",
      "model_module_version": "1.5.0",
      "model_name": "ProgressStyleModel",
      "state": {
       "description_width": "initial"
      }
     },
     "7dd73523a52a4b2fa5f38c70af0b0004": {
      "model_module": "@jupyter-widgets/controls",
      "model_module_version": "1.5.0",
      "model_name": "HBoxModel",
      "state": {
       "children": [
        "IPY_MODEL_39c2fa04e83d4df8a8d8d710f8b9c120",
        "IPY_MODEL_8b1fb2091f79410aa8baf1ee33b62964"
       ],
       "layout": "IPY_MODEL_21047d3ae9d744dda7e23bf246b8be00"
      }
     },
     "7e01c411847b4b26829a18d07eb1c9bf": {
      "model_module": "@jupyter-widgets/base",
      "model_module_version": "1.2.0",
      "model_name": "LayoutModel",
      "state": {
       "display": "inline-flex",
       "flex_flow": "row wrap",
       "width": "100%"
      }
     },
     "7e16223ba154410490b5b26fb192abaa": {
      "model_module": "@jupyter-widgets/controls",
      "model_module_version": "1.5.0",
      "model_name": "FloatProgressModel",
      "state": {
       "bar_style": "success",
       "description": "5625/5625",
       "layout": "IPY_MODEL_8a0ed08834ec4b648a9d57ba5b217d16",
       "max": 5625,
       "style": "IPY_MODEL_7a724957ced84e8a9f0197ab87c798fc",
       "value": 5625
      }
     },
     "7e3437ad21d142719952e2a23ce31e93": {
      "model_module": "@jupyter-widgets/controls",
      "model_module_version": "1.5.0",
      "model_name": "HTMLModel",
      "state": {
       "layout": "IPY_MODEL_6aa67fe9f53c4849b829a3e2d80b9656",
       "style": "IPY_MODEL_43fe496ef7d648d083111eed2f2fed63",
       "value": " ETA: 00:00s - loss: 0.0278 - val_loss: 0.0273"
      }
     },
     "7e48653af4d7443382387a108f650f17": {
      "model_module": "@jupyter-widgets/base",
      "model_module_version": "1.2.0",
      "model_name": "LayoutModel",
      "state": {
       "display": "inline-flex",
       "flex_flow": "row wrap",
       "width": "100%"
      }
     },
     "7e6278db4b994a1693c1d96723c520b8": {
      "model_module": "@jupyter-widgets/base",
      "model_module_version": "1.2.0",
      "model_name": "LayoutModel",
      "state": {
       "display": "inline-flex",
       "flex_flow": "row wrap",
       "width": "100%"
      }
     },
     "7e6f247b7be446869fb3698f3515fc6f": {
      "model_module": "@jupyter-widgets/base",
      "model_module_version": "1.2.0",
      "model_name": "LayoutModel",
      "state": {
       "flex": "2"
      }
     },
     "7e81800e77714278b34101dcfdb08bc7": {
      "model_module": "@jupyter-widgets/controls",
      "model_module_version": "1.5.0",
      "model_name": "DescriptionStyleModel",
      "state": {
       "description_width": ""
      }
     },
     "7f906459ce914c2fb278eae47c7bbba4": {
      "model_module": "@jupyter-widgets/base",
      "model_module_version": "1.2.0",
      "model_name": "LayoutModel",
      "state": {}
     },
     "7fa69fd41e4547229c632375fde22179": {
      "model_module": "@jupyter-widgets/controls",
      "model_module_version": "1.5.0",
      "model_name": "DescriptionStyleModel",
      "state": {
       "description_width": ""
      }
     },
     "7fdda5a4a9664ad0a50f4d49a893e1c5": {
      "model_module": "@jupyter-widgets/controls",
      "model_module_version": "1.5.0",
      "model_name": "DescriptionStyleModel",
      "state": {
       "description_width": ""
      }
     },
     "7ff158391100491e86966f4bb4f710aa": {
      "model_module": "@jupyter-widgets/controls",
      "model_module_version": "1.5.0",
      "model_name": "HTMLModel",
      "state": {
       "layout": "IPY_MODEL_617291849f844752b19a84fd34aa06c3",
       "style": "IPY_MODEL_af9ce36397ed4427a0b5394578d2e15c",
       "value": " ETA: 00:00s - loss: 0.0291 - val_loss: 0.0283"
      }
     },
     "8073d8b9452344d7899bd6944807b74c": {
      "model_module": "@jupyter-widgets/base",
      "model_module_version": "1.2.0",
      "model_name": "LayoutModel",
      "state": {
       "display": "inline-flex",
       "flex_flow": "row wrap",
       "width": "100%"
      }
     },
     "8081971fd1f8421d9086336cfe264dbe": {
      "model_module": "@jupyter-widgets/controls",
      "model_module_version": "1.5.0",
      "model_name": "HBoxModel",
      "state": {
       "children": [
        "IPY_MODEL_3c3eeef5df9645b49d01ffd3bb93ecf1",
        "IPY_MODEL_196d08d86bca4978956f31e43d84cd7b"
       ],
       "layout": "IPY_MODEL_a6386f5775dc49afac40e5192f385c60"
      }
     },
     "80d7da483c144c688b54b26e7f0703bf": {
      "model_module": "@jupyter-widgets/controls",
      "model_module_version": "1.5.0",
      "model_name": "HTMLModel",
      "state": {
       "layout": "IPY_MODEL_63b5a1f3fe5b4c62a5df522053cf15e2",
       "style": "IPY_MODEL_89056eac8c2441f1b412a2d0bc0dd564",
       "value": " ETA: 00:00s - loss: 0.0598 - val_loss: 0.0359"
      }
     },
     "81215f61e194422a8b994b7fad727ee5": {
      "model_module": "@jupyter-widgets/base",
      "model_module_version": "1.2.0",
      "model_name": "LayoutModel",
      "state": {
       "flex": "2"
      }
     },
     "813f00c50dd446bd8e62462fff0fa051": {
      "model_module": "@jupyter-widgets/controls",
      "model_module_version": "1.5.0",
      "model_name": "FloatProgressModel",
      "state": {
       "bar_style": "success",
       "description": "5625/5625",
       "layout": "IPY_MODEL_6a37f4264b3747cf9f65fdd0c955d969",
       "max": 5625,
       "style": "IPY_MODEL_4ebc528c3da14130a95c8ec561e40539",
       "value": 5625
      }
     },
     "81508e0419b74fe482d3e6a062cf5697": {
      "model_module": "@jupyter-widgets/base",
      "model_module_version": "1.2.0",
      "model_name": "LayoutModel",
      "state": {
       "display": "inline-flex",
       "flex_flow": "row wrap",
       "width": "100%"
      }
     },
     "818778bc6dc84a16abb5d34b22ac3698": {
      "model_module": "@jupyter-widgets/controls",
      "model_module_version": "1.5.0",
      "model_name": "FloatProgressModel",
      "state": {
       "bar_style": "danger",
       "description": "Training:   9%",
       "layout": "IPY_MODEL_6c3b431d3cf241af8dadaefcef547f64",
       "max": 1000,
       "style": "IPY_MODEL_653dd0c3ea6c43e8a32dd110736ae09f",
       "value": 92
      }
     },
     "818d77e02f9744e5b9bf91dd51a04217": {
      "model_module": "@jupyter-widgets/controls",
      "model_module_version": "1.5.0",
      "model_name": "DescriptionStyleModel",
      "state": {
       "description_width": ""
      }
     },
     "81dbd1b981ca4121a016ea8c125a45ce": {
      "model_module": "@jupyter-widgets/base",
      "model_module_version": "1.2.0",
      "model_name": "LayoutModel",
      "state": {}
     },
     "81e4d420f7e648d39ee79379a49ece7d": {
      "model_module": "@jupyter-widgets/controls",
      "model_module_version": "1.5.0",
      "model_name": "HBoxModel",
      "state": {
       "children": [
        "IPY_MODEL_eac6d60a51ad4627bd18d02e48450dc4",
        "IPY_MODEL_c2614ca6a13c499bb80a9a2b75b6073c"
       ],
       "layout": "IPY_MODEL_02481c6bc0b54809a992daa888387d3d"
      }
     },
     "8211571241ee444e980482f9aa5d8b9a": {
      "model_module": "@jupyter-widgets/controls",
      "model_module_version": "1.5.0",
      "model_name": "HTMLModel",
      "state": {
       "layout": "IPY_MODEL_d44f8eaf8b8148348ac9ee478814d19b",
       "style": "IPY_MODEL_57fe34895a094adebcc469711c8d9cfe",
       "value": " ETA: 00:00s - loss: 0.0282 - val_loss: 0.0294"
      }
     },
     "821c8e95d1ce4d96815c8787af7289a6": {
      "model_module": "@jupyter-widgets/controls",
      "model_module_version": "1.5.0",
      "model_name": "HBoxModel",
      "state": {
       "children": [
        "IPY_MODEL_3a50fd6ebe4448df91c2693c0b6760a3",
        "IPY_MODEL_7600006840f0462aa27d6b1c1b0b3a0f"
       ],
       "layout": "IPY_MODEL_8ba5a438348843efa52b638e871f9a71"
      }
     },
     "82750b2086b842a5bcb345ddaa36792d": {
      "model_module": "@jupyter-widgets/controls",
      "model_module_version": "1.5.0",
      "model_name": "ProgressStyleModel",
      "state": {
       "description_width": "initial"
      }
     },
     "82834eaaab5c47c4a4c0aeabdd7afd43": {
      "model_module": "@jupyter-widgets/controls",
      "model_module_version": "1.5.0",
      "model_name": "HTMLModel",
      "state": {
       "layout": "IPY_MODEL_4bf4ec1f3a4d489f9fe0984c1dd3c4fa",
       "style": "IPY_MODEL_c9d163d3f7764443809e0ea632ad5fb9",
       "value": " ETA: 00:00s - loss: 0.0282 - val_loss: 0.0281"
      }
     },
     "82c13f6e62dc4f3aba9c8e1fef39ba08": {
      "model_module": "@jupyter-widgets/controls",
      "model_module_version": "1.5.0",
      "model_name": "HBoxModel",
      "state": {
       "children": [
        "IPY_MODEL_c366f793943a4ad2ae924614988dfc28",
        "IPY_MODEL_aca8a13b68994f7fb0ad10b33d132a2e"
       ],
       "layout": "IPY_MODEL_516f61ef5b254093876f20e41cb325a8"
      }
     },
     "82e99adc78bd485d94a19766c434990d": {
      "model_module": "@jupyter-widgets/controls",
      "model_module_version": "1.5.0",
      "model_name": "ProgressStyleModel",
      "state": {
       "description_width": "initial"
      }
     },
     "82eacab8140f4059a54c23a47109f97e": {
      "model_module": "@jupyter-widgets/controls",
      "model_module_version": "1.5.0",
      "model_name": "HBoxModel",
      "state": {
       "children": [
        "IPY_MODEL_9a2bbb4a5f194573bfd23abf9be8db6d",
        "IPY_MODEL_20a4fba6eed14853aeaac2fb7915e42b"
       ],
       "layout": "IPY_MODEL_23a8ce4777064e81ae212a61820ade46"
      }
     },
     "8345d68b0a0940d08170417ac7b15ce0": {
      "model_module": "@jupyter-widgets/controls",
      "model_module_version": "1.5.0",
      "model_name": "FloatProgressModel",
      "state": {
       "bar_style": "success",
       "description": "5625/5625",
       "layout": "IPY_MODEL_693162f70fa442068d42238e788bc47e",
       "max": 5625,
       "style": "IPY_MODEL_5197444e941445adb5cb8dde6cd66726",
       "value": 5625
      }
     },
     "83d8115c43804345aa30c7764a19e713": {
      "model_module": "@jupyter-widgets/base",
      "model_module_version": "1.2.0",
      "model_name": "LayoutModel",
      "state": {
       "display": "inline-flex",
       "flex_flow": "row wrap",
       "width": "100%"
      }
     },
     "83e423050818491883d4f589b890776a": {
      "model_module": "@jupyter-widgets/base",
      "model_module_version": "1.2.0",
      "model_name": "LayoutModel",
      "state": {}
     },
     "83f47b3b89b04233957fbafa26bb1efd": {
      "model_module": "@jupyter-widgets/controls",
      "model_module_version": "1.5.0",
      "model_name": "DescriptionStyleModel",
      "state": {
       "description_width": ""
      }
     },
     "841a49f462604253829e44cd70b91926": {
      "model_module": "@jupyter-widgets/controls",
      "model_module_version": "1.5.0",
      "model_name": "HTMLModel",
      "state": {
       "layout": "IPY_MODEL_17f73978ef7e4c7ca79e07282c8da5e3",
       "style": "IPY_MODEL_923721871d8545ee93765180c9bdf0fe",
       "value": " ETA: 00:00s - loss: 0.0283 - val_loss: 0.0283"
      }
     },
     "84970d6c477b43019151ccf5074c565e": {
      "model_module": "@jupyter-widgets/base",
      "model_module_version": "1.2.0",
      "model_name": "LayoutModel",
      "state": {
       "display": "inline-flex",
       "flex_flow": "row wrap",
       "width": "100%"
      }
     },
     "84977b130b2b436cbf3dda16c983e7fc": {
      "model_module": "@jupyter-widgets/controls",
      "model_module_version": "1.5.0",
      "model_name": "HTMLModel",
      "state": {
       "layout": "IPY_MODEL_b600440fe63e4b48a7d76a26a924ed49",
       "style": "IPY_MODEL_85f5074e2bba421392da9280a4642708",
       "value": " ETA: 00:00s - loss: 0.0315 - val_loss: 0.0295"
      }
     },
     "84d462b9d2a9479e9ec6ea028540dd80": {
      "model_module": "@jupyter-widgets/base",
      "model_module_version": "1.2.0",
      "model_name": "LayoutModel",
      "state": {}
     },
     "85182205008c44b68a285c0ed2235efa": {
      "model_module": "@jupyter-widgets/base",
      "model_module_version": "1.2.0",
      "model_name": "LayoutModel",
      "state": {
       "display": "inline-flex",
       "flex_flow": "row wrap",
       "width": "100%"
      }
     },
     "85660fdc7d354a23b0a2795dd9d8d10f": {
      "model_module": "@jupyter-widgets/controls",
      "model_module_version": "1.5.0",
      "model_name": "ProgressStyleModel",
      "state": {
       "description_width": "initial"
      }
     },
     "85f5074e2bba421392da9280a4642708": {
      "model_module": "@jupyter-widgets/controls",
      "model_module_version": "1.5.0",
      "model_name": "DescriptionStyleModel",
      "state": {
       "description_width": ""
      }
     },
     "85f9c15ad3a946efbadf0682889ac3f4": {
      "model_module": "@jupyter-widgets/base",
      "model_module_version": "1.2.0",
      "model_name": "LayoutModel",
      "state": {}
     },
     "86a9191ddc03424f87cca81c45f98d1f": {
      "model_module": "@jupyter-widgets/controls",
      "model_module_version": "1.5.0",
      "model_name": "FloatProgressModel",
      "state": {
       "bar_style": "success",
       "description": "5625/5625",
       "layout": "IPY_MODEL_b9235a07ea204a6b94929557fd4810d7",
       "max": 5625,
       "style": "IPY_MODEL_ba68abd1781444479113a2a7bb9679a5",
       "value": 5625
      }
     },
     "86ba181962b84abf9d5ea72c4858acc7": {
      "model_module": "@jupyter-widgets/base",
      "model_module_version": "1.2.0",
      "model_name": "LayoutModel",
      "state": {}
     },
     "870cc3a88ef74947be32703aa9ac0ae1": {
      "model_module": "@jupyter-widgets/base",
      "model_module_version": "1.2.0",
      "model_name": "LayoutModel",
      "state": {
       "flex": "2"
      }
     },
     "87138b5fa06b4992ab88c2277f846c85": {
      "model_module": "@jupyter-widgets/base",
      "model_module_version": "1.2.0",
      "model_name": "LayoutModel",
      "state": {}
     },
     "871ed9c5d7804e90851db1f135d4a2fc": {
      "model_module": "@jupyter-widgets/controls",
      "model_module_version": "1.5.0",
      "model_name": "ProgressStyleModel",
      "state": {
       "description_width": "initial"
      }
     },
     "872b1ca4eb7a42e3bdc2403091c1c619": {
      "model_module": "@jupyter-widgets/base",
      "model_module_version": "1.2.0",
      "model_name": "LayoutModel",
      "state": {
       "display": "inline-flex",
       "flex_flow": "row wrap",
       "width": "100%"
      }
     },
     "876e93bf08b543dba42dad12ed321faf": {
      "model_module": "@jupyter-widgets/controls",
      "model_module_version": "1.5.0",
      "model_name": "FloatProgressModel",
      "state": {
       "bar_style": "success",
       "description": "5625/5625",
       "layout": "IPY_MODEL_15671a58ad4a4b648752ca5cfc9a54f8",
       "max": 5625,
       "style": "IPY_MODEL_110697c814c34883969f9a062bfe4398",
       "value": 5625
      }
     },
     "878b9e600ac2496da87c89b303363c86": {
      "model_module": "@jupyter-widgets/controls",
      "model_module_version": "1.5.0",
      "model_name": "HTMLModel",
      "state": {
       "layout": "IPY_MODEL_8f3f7f1eb8cb46bb852ea150512073e0",
       "style": "IPY_MODEL_3754d1b4d0af4a2ab2af5c269205f4a9",
       "value": " ETA: 00:00s - loss: 0.0284 - val_loss: 0.0274"
      }
     },
     "87d896cdbd7340c095da0c74a7fce84f": {
      "model_module": "@jupyter-widgets/controls",
      "model_module_version": "1.5.0",
      "model_name": "DescriptionStyleModel",
      "state": {
       "description_width": ""
      }
     },
     "87daa90076ab4125bc811a21b70c3741": {
      "model_module": "@jupyter-widgets/controls",
      "model_module_version": "1.5.0",
      "model_name": "HTMLModel",
      "state": {
       "layout": "IPY_MODEL_f9435f5b8bba4e0488b03cc6053e054a",
       "style": "IPY_MODEL_af8948ed115a42359369f6ae3e0dd8b9",
       "value": " ETA: 00:00s - loss: 0.0306 - val_loss: 0.0295"
      }
     },
     "8827fc6946464488a1fa015e940a1ff5": {
      "model_module": "@jupyter-widgets/controls",
      "model_module_version": "1.5.0",
      "model_name": "FloatProgressModel",
      "state": {
       "bar_style": "success",
       "description": "5625/5625",
       "layout": "IPY_MODEL_77743570a6744816b3ea2f47e7c73c62",
       "max": 5625,
       "style": "IPY_MODEL_f48da15465e04176b5c4e5ec34d53ed4",
       "value": 5625
      }
     },
     "8838146424644bf99bcb540f4f77441b": {
      "model_module": "@jupyter-widgets/controls",
      "model_module_version": "1.5.0",
      "model_name": "DescriptionStyleModel",
      "state": {
       "description_width": ""
      }
     },
     "88405b9f461d467ea8b8ebe5d1fa555a": {
      "model_module": "@jupyter-widgets/controls",
      "model_module_version": "1.5.0",
      "model_name": "ProgressStyleModel",
      "state": {
       "description_width": "initial"
      }
     },
     "885f2463efbf4a10a4d865e054affedf": {
      "model_module": "@jupyter-widgets/controls",
      "model_module_version": "1.5.0",
      "model_name": "FloatProgressModel",
      "state": {
       "bar_style": "success",
       "description": "5625/5625",
       "layout": "IPY_MODEL_557eb3bf8ca74fc6b0b7a77090b5efec",
       "max": 5625,
       "style": "IPY_MODEL_871ed9c5d7804e90851db1f135d4a2fc",
       "value": 5625
      }
     },
     "888568a0c7564153acbfbf8808dfbfa8": {
      "model_module": "@jupyter-widgets/base",
      "model_module_version": "1.2.0",
      "model_name": "LayoutModel",
      "state": {
       "flex": "2"
      }
     },
     "889e49b49235404091931015bd437815": {
      "model_module": "@jupyter-widgets/controls",
      "model_module_version": "1.5.0",
      "model_name": "DescriptionStyleModel",
      "state": {
       "description_width": ""
      }
     },
     "88a30aa420c0450ab22eb8b58eef55c3": {
      "model_module": "@jupyter-widgets/base",
      "model_module_version": "1.2.0",
      "model_name": "LayoutModel",
      "state": {
       "flex": "2"
      }
     },
     "89056eac8c2441f1b412a2d0bc0dd564": {
      "model_module": "@jupyter-widgets/controls",
      "model_module_version": "1.5.0",
      "model_name": "DescriptionStyleModel",
      "state": {
       "description_width": ""
      }
     },
     "8908227a7c424e9c995f9e6299f04950": {
      "model_module": "@jupyter-widgets/base",
      "model_module_version": "1.2.0",
      "model_name": "LayoutModel",
      "state": {
       "flex": "2"
      }
     },
     "890fc1bdca7e4956a7728d09c0028a36": {
      "model_module": "@jupyter-widgets/base",
      "model_module_version": "1.2.0",
      "model_name": "LayoutModel",
      "state": {
       "display": "inline-flex",
       "flex_flow": "row wrap",
       "width": "100%"
      }
     },
     "892f4a7d93454ab59a3946ccdb3970e9": {
      "model_module": "@jupyter-widgets/controls",
      "model_module_version": "1.5.0",
      "model_name": "DescriptionStyleModel",
      "state": {
       "description_width": ""
      }
     },
     "898e11b69c3b42539f2ea7aa7e61e203": {
      "model_module": "@jupyter-widgets/base",
      "model_module_version": "1.2.0",
      "model_name": "LayoutModel",
      "state": {
       "flex": "2"
      }
     },
     "89a4961b6b2c40869379b9bd4108827a": {
      "model_module": "@jupyter-widgets/base",
      "model_module_version": "1.2.0",
      "model_name": "LayoutModel",
      "state": {
       "flex": "2"
      }
     },
     "89cea9840c5c4354a70ae176f4ccb08c": {
      "model_module": "@jupyter-widgets/controls",
      "model_module_version": "1.5.0",
      "model_name": "HBoxModel",
      "state": {
       "children": [
        "IPY_MODEL_5b3a8d8722f14bb39175c9d66fc0213b",
        "IPY_MODEL_7d25ba1312fa4d99b84f0088571b985e"
       ],
       "layout": "IPY_MODEL_40cc32d55fa3481786489116186f0e9a"
      }
     },
     "89fe72f7a6424b8ca6647a93a3e9bfd1": {
      "model_module": "@jupyter-widgets/base",
      "model_module_version": "1.2.0",
      "model_name": "LayoutModel",
      "state": {}
     },
     "89ff42f4423f4677bbafbddea2c7d1cd": {
      "model_module": "@jupyter-widgets/controls",
      "model_module_version": "1.5.0",
      "model_name": "DescriptionStyleModel",
      "state": {
       "description_width": ""
      }
     },
     "8a0e4193382d4f6bb2141faa0a16a440": {
      "model_module": "@jupyter-widgets/controls",
      "model_module_version": "1.5.0",
      "model_name": "FloatProgressModel",
      "state": {
       "bar_style": "success",
       "description": "5625/5625",
       "layout": "IPY_MODEL_c4be8b28af434944b721f3e55bf9f444",
       "max": 5625,
       "style": "IPY_MODEL_0818440edc544ae2a26bb1f165158cef",
       "value": 5625
      }
     },
     "8a0ed08834ec4b648a9d57ba5b217d16": {
      "model_module": "@jupyter-widgets/base",
      "model_module_version": "1.2.0",
      "model_name": "LayoutModel",
      "state": {
       "flex": "2"
      }
     },
     "8a5a636940114c0f859b1a75b9c9c286": {
      "model_module": "@jupyter-widgets/controls",
      "model_module_version": "1.5.0",
      "model_name": "HBoxModel",
      "state": {
       "children": [
        "IPY_MODEL_5713ff5c7c744d58a319351e95c45ee1",
        "IPY_MODEL_3ed7c1defa9d412998099c3fbe970705"
       ],
       "layout": "IPY_MODEL_0c389735920f48b58ed58a3663428fef"
      }
     },
     "8a6229c6a67b472ebd1998998c24de77": {
      "model_module": "@jupyter-widgets/controls",
      "model_module_version": "1.5.0",
      "model_name": "HBoxModel",
      "state": {
       "children": [
        "IPY_MODEL_356f452b41af474bace120f78017c85e",
        "IPY_MODEL_cf6659efaa8a4cc4b824cb011c138a8a"
       ],
       "layout": "IPY_MODEL_baefd93e70e9482289233dc44ad4906d"
      }
     },
     "8ab9cf5669134da290e21bfe31d7b286": {
      "model_module": "@jupyter-widgets/base",
      "model_module_version": "1.2.0",
      "model_name": "LayoutModel",
      "state": {
       "flex": "2"
      }
     },
     "8adc1a6763a447268289e42983d0cc98": {
      "model_module": "@jupyter-widgets/controls",
      "model_module_version": "1.5.0",
      "model_name": "ProgressStyleModel",
      "state": {
       "description_width": "initial"
      }
     },
     "8ae704e3509f464ca915bab37f2a9fcf": {
      "model_module": "@jupyter-widgets/controls",
      "model_module_version": "1.5.0",
      "model_name": "FloatProgressModel",
      "state": {
       "bar_style": "success",
       "description": "5625/5625",
       "layout": "IPY_MODEL_6a419de092f54734bf57c5aa69fe93e8",
       "max": 5625,
       "style": "IPY_MODEL_d692bf2e9f004a828509c164a9a4903e",
       "value": 5625
      }
     },
     "8aff162976b84e228728f7099be2a8c6": {
      "model_module": "@jupyter-widgets/base",
      "model_module_version": "1.2.0",
      "model_name": "LayoutModel",
      "state": {}
     },
     "8b1b1313e53c40a7be1979ab4d40437c": {
      "model_module": "@jupyter-widgets/controls",
      "model_module_version": "1.5.0",
      "model_name": "HBoxModel",
      "state": {
       "children": [
        "IPY_MODEL_3b5fa60019ca4b878c2baabc838a7836",
        "IPY_MODEL_8211571241ee444e980482f9aa5d8b9a"
       ],
       "layout": "IPY_MODEL_a88c1845bbb44f3c8e5361f038dff5dd"
      }
     },
     "8b1fb2091f79410aa8baf1ee33b62964": {
      "model_module": "@jupyter-widgets/controls",
      "model_module_version": "1.5.0",
      "model_name": "HTMLModel",
      "state": {
       "layout": "IPY_MODEL_ebafed2b5e984f3fafe8c62b8ad12ceb",
       "style": "IPY_MODEL_494e82d47b754e17abcd61bf687908b1",
       "value": " ETA: 00:00s - loss: 0.0286 - val_loss: 0.0279"
      }
     },
     "8b532b443fd64b33b872c50c444989e1": {
      "model_module": "@jupyter-widgets/base",
      "model_module_version": "1.2.0",
      "model_name": "LayoutModel",
      "state": {}
     },
     "8b7d4ea862fc44ae85f100c629837eb5": {
      "model_module": "@jupyter-widgets/base",
      "model_module_version": "1.2.0",
      "model_name": "LayoutModel",
      "state": {}
     },
     "8b9f74e96a80499db5a3dd3d9c35093a": {
      "model_module": "@jupyter-widgets/controls",
      "model_module_version": "1.5.0",
      "model_name": "DescriptionStyleModel",
      "state": {
       "description_width": ""
      }
     },
     "8ba5a438348843efa52b638e871f9a71": {
      "model_module": "@jupyter-widgets/base",
      "model_module_version": "1.2.0",
      "model_name": "LayoutModel",
      "state": {
       "display": "inline-flex",
       "flex_flow": "row wrap",
       "width": "100%"
      }
     },
     "8bb676f7301f46fca2cee11537cd17d6": {
      "model_module": "@jupyter-widgets/controls",
      "model_module_version": "1.5.0",
      "model_name": "HTMLModel",
      "state": {
       "layout": "IPY_MODEL_e798e2e0ec014c30b9e2fe67838be38f",
       "style": "IPY_MODEL_bbb3fa24b73845eba36b69d23632b70d",
       "value": " ETA: 00:00s - loss: 0.0277 - val_loss: 0.0271"
      }
     },
     "8c2c859154474801b4b4aa1a641df44c": {
      "model_module": "@jupyter-widgets/controls",
      "model_module_version": "1.5.0",
      "model_name": "ProgressStyleModel",
      "state": {
       "description_width": "initial"
      }
     },
     "8c66ee6fc5694f6eb2500e8bdac32c52": {
      "model_module": "@jupyter-widgets/controls",
      "model_module_version": "1.5.0",
      "model_name": "ProgressStyleModel",
      "state": {
       "description_width": "initial"
      }
     },
     "8c811b36fd67411aa7d30ea819b4347c": {
      "model_module": "@jupyter-widgets/controls",
      "model_module_version": "1.5.0",
      "model_name": "DescriptionStyleModel",
      "state": {
       "description_width": ""
      }
     },
     "8ccca5fa564f433389d663a6a69f359d": {
      "model_module": "@jupyter-widgets/controls",
      "model_module_version": "1.5.0",
      "model_name": "HTMLModel",
      "state": {
       "layout": "IPY_MODEL_257c36fedc3f42fca27d837577d08f5c",
       "style": "IPY_MODEL_1c36e3ce41644f6ba91c0b91d128ec30",
       "value": " ETA: 00:00s - loss: 0.0281 - val_loss: 0.0274"
      }
     },
     "8ce617a6de324535b9747174aea34894": {
      "model_module": "@jupyter-widgets/base",
      "model_module_version": "1.2.0",
      "model_name": "LayoutModel",
      "state": {
       "display": "inline-flex",
       "flex_flow": "row wrap",
       "width": "100%"
      }
     },
     "8d19e22e13364e528e0d9bdf051cc697": {
      "model_module": "@jupyter-widgets/controls",
      "model_module_version": "1.5.0",
      "model_name": "FloatProgressModel",
      "state": {
       "bar_style": "success",
       "description": "5625/5625",
       "layout": "IPY_MODEL_686346fb986948c08f031fe2f9a0dd4d",
       "max": 5625,
       "style": "IPY_MODEL_f7f796ff5b0a44fdb5e84cc56f7e6b05",
       "value": 5625
      }
     },
     "8d2acd6b7cb84582b17ce9ef6a2680e3": {
      "model_module": "@jupyter-widgets/controls",
      "model_module_version": "1.5.0",
      "model_name": "HTMLModel",
      "state": {
       "layout": "IPY_MODEL_67d6247233a6458e82af08cb525ac3c9",
       "style": "IPY_MODEL_73b12c3d51f9468792651484a2b39f8a",
       "value": " ETA: 00:00s - loss: 0.0295 - val_loss: 0.0283"
      }
     },
     "8d2f814ce9484f64858b88413a1ad309": {
      "model_module": "@jupyter-widgets/controls",
      "model_module_version": "1.5.0",
      "model_name": "FloatProgressModel",
      "state": {
       "bar_style": "success",
       "description": "5625/5625",
       "layout": "IPY_MODEL_a9383a16ba674851ad83a1b11959aea7",
       "max": 5625,
       "style": "IPY_MODEL_1e42bffa73b143058aa073ee635eebe3",
       "value": 5625
      }
     },
     "8dbff01d678a4377b3b9b71ee1198431": {
      "model_module": "@jupyter-widgets/controls",
      "model_module_version": "1.5.0",
      "model_name": "HTMLModel",
      "state": {
       "layout": "IPY_MODEL_c933ed2c75ea48f8bf11c859b762e8d3",
       "style": "IPY_MODEL_63f2c905c1594d2eb914c76351330f9a",
       "value": " ETA: 00:00s - loss: 0.0282 - val_loss: 0.0274"
      }
     },
     "8e52996237a843c48b633fe22be9ba44": {
      "model_module": "@jupyter-widgets/controls",
      "model_module_version": "1.5.0",
      "model_name": "HTMLModel",
      "state": {
       "layout": "IPY_MODEL_2bbd650675424aa0a6280e4cb817d535",
       "style": "IPY_MODEL_d5142a33dc03451f857c1a0fce7f4b82",
       "value": " ETA: 00:00s - loss: 0.0288 - val_loss: 0.0279"
      }
     },
     "8e8ebd95935a4614837c5d5ffd4ed4f7": {
      "model_module": "@jupyter-widgets/controls",
      "model_module_version": "1.5.0",
      "model_name": "HTMLModel",
      "state": {
       "layout": "IPY_MODEL_9765e588009e42f78bd08f866b6586fe",
       "style": "IPY_MODEL_f859042785934dfcb3a1e397f2e4d8f1",
       "value": " ETA: 00:00s - loss: 0.0283 - val_loss: 0.0277"
      }
     },
     "8ef5fc2ea82c4a799e9f3cd2ec692da5": {
      "model_module": "@jupyter-widgets/controls",
      "model_module_version": "1.5.0",
      "model_name": "DescriptionStyleModel",
      "state": {
       "description_width": ""
      }
     },
     "8f3f7f1eb8cb46bb852ea150512073e0": {
      "model_module": "@jupyter-widgets/base",
      "model_module_version": "1.2.0",
      "model_name": "LayoutModel",
      "state": {}
     },
     "8f40bb16b31f43f0a1fcc033a3b3783e": {
      "model_module": "@jupyter-widgets/controls",
      "model_module_version": "1.5.0",
      "model_name": "HBoxModel",
      "state": {
       "children": [
        "IPY_MODEL_62e405734ed34efcbeb2d7d83b36d954",
        "IPY_MODEL_608ae89ca22c46e6be5e201452bb1177"
       ],
       "layout": "IPY_MODEL_ac4b535aff92440bbe6826e2637c2f5d"
      }
     },
     "8fb3b61d3fa74cb68fcc631e0065df6b": {
      "model_module": "@jupyter-widgets/controls",
      "model_module_version": "1.5.0",
      "model_name": "ProgressStyleModel",
      "state": {
       "description_width": "initial"
      }
     },
     "8fc796624db84a6a8fd1f2613215fa5d": {
      "model_module": "@jupyter-widgets/base",
      "model_module_version": "1.2.0",
      "model_name": "LayoutModel",
      "state": {}
     },
     "8fcdb2c3be7c4363b248fab80a776000": {
      "model_module": "@jupyter-widgets/base",
      "model_module_version": "1.2.0",
      "model_name": "LayoutModel",
      "state": {
       "display": "inline-flex",
       "flex_flow": "row wrap",
       "width": "100%"
      }
     },
     "8fef564215074af8a8e1c229939d13d0": {
      "model_module": "@jupyter-widgets/base",
      "model_module_version": "1.2.0",
      "model_name": "LayoutModel",
      "state": {
       "flex": "2"
      }
     },
     "90ac1d62874f4b7a8857e4a7a51a9d03": {
      "model_module": "@jupyter-widgets/controls",
      "model_module_version": "1.5.0",
      "model_name": "DescriptionStyleModel",
      "state": {
       "description_width": ""
      }
     },
     "90ce16723c3b40aeb58419a07b65ed3f": {
      "model_module": "@jupyter-widgets/controls",
      "model_module_version": "1.5.0",
      "model_name": "FloatProgressModel",
      "state": {
       "bar_style": "success",
       "description": "5625/5625",
       "layout": "IPY_MODEL_e1175485b3c94444926efc564e5a55d1",
       "max": 5625,
       "style": "IPY_MODEL_11966dc8fc2b41e29e3eb8105b1d8bfe",
       "value": 5625
      }
     },
     "90d1394d1a034c839dac3bb1f6d5c667": {
      "model_module": "@jupyter-widgets/base",
      "model_module_version": "1.2.0",
      "model_name": "LayoutModel",
      "state": {
       "display": "inline-flex",
       "flex_flow": "row wrap",
       "width": "100%"
      }
     },
     "90eedbcbb483414bb6b5e03c619250e4": {
      "model_module": "@jupyter-widgets/base",
      "model_module_version": "1.2.0",
      "model_name": "LayoutModel",
      "state": {
       "flex": "2"
      }
     },
     "913ba4784211489d9ac3a108a4d84625": {
      "model_module": "@jupyter-widgets/controls",
      "model_module_version": "1.5.0",
      "model_name": "HBoxModel",
      "state": {
       "children": [
        "IPY_MODEL_5e0c6e1625e241a7a3db7d196534a25e",
        "IPY_MODEL_f85bf1cbac33466cbf8c4cfbcaecbbe6"
       ],
       "layout": "IPY_MODEL_f0873ac2adfd4285b2e7e3adf63acdbf"
      }
     },
     "916d600c987e4f7ba9f0a2f62c5f2bbc": {
      "model_module": "@jupyter-widgets/controls",
      "model_module_version": "1.5.0",
      "model_name": "HTMLModel",
      "state": {
       "layout": "IPY_MODEL_443b37f0997340908bd254ba8cd0baef",
       "style": "IPY_MODEL_fb192133c4cf4556a218b62e0421f9ed",
       "value": " ETA: 00:00s - loss: 0.0284 - val_loss: 0.0274"
      }
     },
     "917cde6c57804de68f2432eee47cfd51": {
      "model_module": "@jupyter-widgets/base",
      "model_module_version": "1.2.0",
      "model_name": "LayoutModel",
      "state": {
       "flex": "2"
      }
     },
     "91d4fd619a6648a69d9f9ac5bbea68b1": {
      "model_module": "@jupyter-widgets/controls",
      "model_module_version": "1.5.0",
      "model_name": "DescriptionStyleModel",
      "state": {
       "description_width": ""
      }
     },
     "91db7d22ec054add8ff5a19237e880e8": {
      "model_module": "@jupyter-widgets/controls",
      "model_module_version": "1.5.0",
      "model_name": "DescriptionStyleModel",
      "state": {
       "description_width": ""
      }
     },
     "921b7285baa7472cbd7bfb527e52001c": {
      "model_module": "@jupyter-widgets/base",
      "model_module_version": "1.2.0",
      "model_name": "LayoutModel",
      "state": {}
     },
     "922e0b3450b643b791c013d3fc8889f1": {
      "model_module": "@jupyter-widgets/base",
      "model_module_version": "1.2.0",
      "model_name": "LayoutModel",
      "state": {
       "display": "inline-flex",
       "flex_flow": "row wrap",
       "width": "100%"
      }
     },
     "923721871d8545ee93765180c9bdf0fe": {
      "model_module": "@jupyter-widgets/controls",
      "model_module_version": "1.5.0",
      "model_name": "DescriptionStyleModel",
      "state": {
       "description_width": ""
      }
     },
     "924e4a9ea76c4d408c3765736e398fb2": {
      "model_module": "@jupyter-widgets/controls",
      "model_module_version": "1.5.0",
      "model_name": "ProgressStyleModel",
      "state": {
       "description_width": "initial"
      }
     },
     "9270ae952e9246929a614012c916bc36": {
      "model_module": "@jupyter-widgets/controls",
      "model_module_version": "1.5.0",
      "model_name": "ProgressStyleModel",
      "state": {
       "description_width": "initial"
      }
     },
     "92803f1c71a94ba8bf331252ff37e809": {
      "model_module": "@jupyter-widgets/controls",
      "model_module_version": "1.5.0",
      "model_name": "ProgressStyleModel",
      "state": {
       "description_width": "initial"
      }
     },
     "92cc172cb8624c18a703557fe1cc4eb7": {
      "model_module": "@jupyter-widgets/controls",
      "model_module_version": "1.5.0",
      "model_name": "HTMLModel",
      "state": {
       "layout": "IPY_MODEL_ebcc7894cfef431cac2a33cff8fafdcb",
       "style": "IPY_MODEL_c3c9493ac0d344f4b3c14e04c8732991",
       "value": " ETA: 00:00s - loss: 0.0284 - val_loss: 0.0274"
      }
     },
     "931af2743fbb4637a8147fb5d24983c0": {
      "model_module": "@jupyter-widgets/controls",
      "model_module_version": "1.5.0",
      "model_name": "ProgressStyleModel",
      "state": {
       "description_width": "initial"
      }
     },
     "9338f14d133e4e58b8a66f369a52a11c": {
      "model_module": "@jupyter-widgets/base",
      "model_module_version": "1.2.0",
      "model_name": "LayoutModel",
      "state": {}
     },
     "935a24e457b344e19bdb6ff302eab76f": {
      "model_module": "@jupyter-widgets/controls",
      "model_module_version": "1.5.0",
      "model_name": "FloatProgressModel",
      "state": {
       "bar_style": "success",
       "description": "5625/5625",
       "layout": "IPY_MODEL_c7d20d6ec5934722924c7a81a3f05878",
       "max": 5625,
       "style": "IPY_MODEL_f3557548065b4d3d8412fa725e84b07c",
       "value": 5625
      }
     },
     "93a99c9c5e274cb8ac9db354ac1673ca": {
      "model_module": "@jupyter-widgets/controls",
      "model_module_version": "1.5.0",
      "model_name": "HBoxModel",
      "state": {
       "children": [
        "IPY_MODEL_b94ffb785394444ea501c4e850af129a",
        "IPY_MODEL_dccdb8cefc6c4f138e1232f1befabeb7"
       ],
       "layout": "IPY_MODEL_9c930332fd4444ddb124cdf847a34d5f"
      }
     },
     "93b53dddbeb4448c8f2ac0e574219212": {
      "model_module": "@jupyter-widgets/base",
      "model_module_version": "1.2.0",
      "model_name": "LayoutModel",
      "state": {
       "flex": "2"
      }
     },
     "93cf849d02864f53b3c25e3717ba23a0": {
      "model_module": "@jupyter-widgets/controls",
      "model_module_version": "1.5.0",
      "model_name": "ProgressStyleModel",
      "state": {
       "description_width": "initial"
      }
     },
     "93e9d3eb56754ec2ae15097258f0be45": {
      "model_module": "@jupyter-widgets/base",
      "model_module_version": "1.2.0",
      "model_name": "LayoutModel",
      "state": {}
     },
     "940c49a98ad749e18c0a58957902c50c": {
      "model_module": "@jupyter-widgets/base",
      "model_module_version": "1.2.0",
      "model_name": "LayoutModel",
      "state": {
       "display": "inline-flex",
       "flex_flow": "row wrap",
       "width": "100%"
      }
     },
     "941d66081b1a4e939adad9b2068c4cf9": {
      "model_module": "@jupyter-widgets/base",
      "model_module_version": "1.2.0",
      "model_name": "LayoutModel",
      "state": {
       "display": "inline-flex",
       "flex_flow": "row wrap",
       "width": "100%"
      }
     },
     "94d3d74a450a43d7b04def9e7ad6d368": {
      "model_module": "@jupyter-widgets/controls",
      "model_module_version": "1.5.0",
      "model_name": "FloatProgressModel",
      "state": {
       "bar_style": "success",
       "description": "5625/5625",
       "layout": "IPY_MODEL_322e57202dfa4c2f9fcd801c5583e70c",
       "max": 5625,
       "style": "IPY_MODEL_d9b90aa483864dc8a8db748244f0b36a",
       "value": 5625
      }
     },
     "94ead1452e0245fbb82d2131acf01728": {
      "model_module": "@jupyter-widgets/base",
      "model_module_version": "1.2.0",
      "model_name": "LayoutModel",
      "state": {
       "flex": "2"
      }
     },
     "94f7b2fa615f48e08d22de5e8c523e91": {
      "model_module": "@jupyter-widgets/base",
      "model_module_version": "1.2.0",
      "model_name": "LayoutModel",
      "state": {}
     },
     "94f834dad59e4a069bdebba0efa1d48b": {
      "model_module": "@jupyter-widgets/controls",
      "model_module_version": "1.5.0",
      "model_name": "HTMLModel",
      "state": {
       "layout": "IPY_MODEL_af6ba7d7e05243068481edfa1c1cdb17",
       "style": "IPY_MODEL_0b29883a6b8f427f8c108af6cff3ced5",
       "value": " ETA: 00:00s - loss: 0.0280 - val_loss: 0.0279"
      }
     },
     "95698dd6eea44a6c8e49c290a8bfd7b8": {
      "model_module": "@jupyter-widgets/controls",
      "model_module_version": "1.5.0",
      "model_name": "FloatProgressModel",
      "state": {
       "bar_style": "success",
       "description": "5625/5625",
       "layout": "IPY_MODEL_3f22c1c9a4bd49c08fb85def951b24e5",
       "max": 5625,
       "style": "IPY_MODEL_0d12fa2b03e346b382b3292259dceabb",
       "value": 5625
      }
     },
     "956dc2d39d60443f89268f5caf88d2b9": {
      "model_module": "@jupyter-widgets/base",
      "model_module_version": "1.2.0",
      "model_name": "LayoutModel",
      "state": {
       "flex": "2"
      }
     },
     "9597295e45d2489bb043a2b736a3ed43": {
      "model_module": "@jupyter-widgets/controls",
      "model_module_version": "1.5.0",
      "model_name": "HBoxModel",
      "state": {
       "children": [
        "IPY_MODEL_86a9191ddc03424f87cca81c45f98d1f",
        "IPY_MODEL_f59b7aa83d244bee92efc5cac1385774"
       ],
       "layout": "IPY_MODEL_a403ad240c1d4a399f60618e5c225e13"
      }
     },
     "95d6c8accd7f498cadb0eddf98b48035": {
      "model_module": "@jupyter-widgets/controls",
      "model_module_version": "1.5.0",
      "model_name": "FloatProgressModel",
      "state": {
       "bar_style": "success",
       "description": "5625/5625",
       "layout": "IPY_MODEL_c1df0b4d0bac4e30ba8191a7ecd11fbd",
       "max": 5625,
       "style": "IPY_MODEL_0dd3db55ce88441c9d513dc0ac52e5e3",
       "value": 5625
      }
     },
     "95ea20332c6949d389b2eb18c0cb1b61": {
      "model_module": "@jupyter-widgets/controls",
      "model_module_version": "1.5.0",
      "model_name": "HBoxModel",
      "state": {
       "children": [
        "IPY_MODEL_bfe4175192c343c28cda88217c2f6022",
        "IPY_MODEL_143bfa37b4cb451a8958b57cafcf33f9"
       ],
       "layout": "IPY_MODEL_a4babf3d7cc94c23abd2fd9809e60f56"
      }
     },
     "965b6cac1a0d41da862eed6e5e1f71d8": {
      "model_module": "@jupyter-widgets/controls",
      "model_module_version": "1.5.0",
      "model_name": "ProgressStyleModel",
      "state": {
       "description_width": "initial"
      }
     },
     "96ca66a5cccd45c08d76a5b6635039f8": {
      "model_module": "@jupyter-widgets/controls",
      "model_module_version": "1.5.0",
      "model_name": "FloatProgressModel",
      "state": {
       "bar_style": "success",
       "description": "5625/5625",
       "layout": "IPY_MODEL_d4be78a36a8d47b5a5af043d0517fc9b",
       "max": 5625,
       "style": "IPY_MODEL_09be73a22d644cd2944ca4832763061b",
       "value": 5625
      }
     },
     "971d3d9f3f2c4837bfabca8ee29013bb": {
      "model_module": "@jupyter-widgets/controls",
      "model_module_version": "1.5.0",
      "model_name": "HBoxModel",
      "state": {
       "children": [
        "IPY_MODEL_2f5542d21fc44d55bf2152766ad7919f",
        "IPY_MODEL_7e3437ad21d142719952e2a23ce31e93"
       ],
       "layout": "IPY_MODEL_6ee39798ea4f4a4b91a03d1c12af6bf6"
      }
     },
     "9722ba5a86f4423e9f484b28157b5e70": {
      "model_module": "@jupyter-widgets/controls",
      "model_module_version": "1.5.0",
      "model_name": "HTMLModel",
      "state": {
       "layout": "IPY_MODEL_abb270b3aa864d909500dfad5a6b3e84",
       "style": "IPY_MODEL_9ecc8936b560436f82ec78c94e31bd30",
       "value": " ETA: 00:00s - loss: 0.0281 - val_loss: 0.0279"
      }
     },
     "972f93a6626045219834ff2266772267": {
      "model_module": "@jupyter-widgets/controls",
      "model_module_version": "1.5.0",
      "model_name": "DescriptionStyleModel",
      "state": {
       "description_width": ""
      }
     },
     "973b6e8e79d248ceabb45275dced8d76": {
      "model_module": "@jupyter-widgets/controls",
      "model_module_version": "1.5.0",
      "model_name": "HTMLModel",
      "state": {
       "layout": "IPY_MODEL_7f906459ce914c2fb278eae47c7bbba4",
       "style": "IPY_MODEL_c78d2ab7d8ee4e669fdb96c177c5bc3d",
       "value": " ETA: 00:00s - loss: 0.0281 - val_loss: 0.0275"
      }
     },
     "97622b84520c4d97bbda40b8663abc08": {
      "model_module": "@jupyter-widgets/controls",
      "model_module_version": "1.5.0",
      "model_name": "FloatProgressModel",
      "state": {
       "bar_style": "success",
       "description": "5625/5625",
       "layout": "IPY_MODEL_529074c5a9884760b11f1705e4f918d1",
       "max": 5625,
       "style": "IPY_MODEL_fc73e1bed75449f6bbf3744dbb7c2dab",
       "value": 5625
      }
     },
     "9765e588009e42f78bd08f866b6586fe": {
      "model_module": "@jupyter-widgets/base",
      "model_module_version": "1.2.0",
      "model_name": "LayoutModel",
      "state": {}
     },
     "97a7aa799897465487c47e9ee22a1c8c": {
      "model_module": "@jupyter-widgets/controls",
      "model_module_version": "1.5.0",
      "model_name": "HBoxModel",
      "state": {
       "children": [
        "IPY_MODEL_99642fc9e32a478bb37bf218d39e8aee",
        "IPY_MODEL_cbe03168a4a94cd3a8f0af46c1d8e807"
       ],
       "layout": "IPY_MODEL_a1c46b69d7554354b3b326cee59f7cd0"
      }
     },
     "97c963d0862142a28cc1eb7f60faf30e": {
      "model_module": "@jupyter-widgets/controls",
      "model_module_version": "1.5.0",
      "model_name": "FloatProgressModel",
      "state": {
       "bar_style": "success",
       "description": "5625/5625",
       "layout": "IPY_MODEL_0a0db9ea296e45fa8548143a6c1f7fdf",
       "max": 5625,
       "style": "IPY_MODEL_d924f766e04349c9a73ff71ad28aed12",
       "value": 5625
      }
     },
     "98197b3528ec421fa4e601c4ad5c0fad": {
      "model_module": "@jupyter-widgets/base",
      "model_module_version": "1.2.0",
      "model_name": "LayoutModel",
      "state": {
       "display": "inline-flex",
       "flex_flow": "row wrap",
       "width": "100%"
      }
     },
     "984c8d59f8f7437da448cd24d9622b62": {
      "model_module": "@jupyter-widgets/controls",
      "model_module_version": "1.5.0",
      "model_name": "FloatProgressModel",
      "state": {
       "bar_style": "success",
       "description": "5625/5625",
       "layout": "IPY_MODEL_f52f05cf029a4fa69348626565fad7e9",
       "max": 5625,
       "style": "IPY_MODEL_dee4cbc8145a49c4834d0e1d5c6e8bc3",
       "value": 5625
      }
     },
     "991db048e0604dc4aad3ed22900096b0": {
      "model_module": "@jupyter-widgets/controls",
      "model_module_version": "1.5.0",
      "model_name": "HBoxModel",
      "state": {
       "children": [
        "IPY_MODEL_cc54386507d343bbabca13b899284947",
        "IPY_MODEL_fe1d4ba1a87741179fdefea9225cf419"
       ],
       "layout": "IPY_MODEL_adb30cf004944ceab068fe88aaf41435"
      }
     },
     "99612b359ef4450880619d8a96c397c1": {
      "model_module": "@jupyter-widgets/controls",
      "model_module_version": "1.5.0",
      "model_name": "HTMLModel",
      "state": {
       "layout": "IPY_MODEL_8fc796624db84a6a8fd1f2613215fa5d",
       "style": "IPY_MODEL_76a6ecc73f0d417ba5fdabcab9745017",
       "value": " ETA: 00:00s - loss: 0.0282 - val_loss: 0.0275"
      }
     },
     "99642fc9e32a478bb37bf218d39e8aee": {
      "model_module": "@jupyter-widgets/controls",
      "model_module_version": "1.5.0",
      "model_name": "FloatProgressModel",
      "state": {
       "bar_style": "success",
       "description": "5625/5625",
       "layout": "IPY_MODEL_44b53fca0eda4f669837ad9b087e6ec1",
       "max": 5625,
       "style": "IPY_MODEL_b2395ddadca148ce9b28d2d6bb51981d",
       "value": 5625
      }
     },
     "99b7974d21a340848d5ccf583eea1455": {
      "model_module": "@jupyter-widgets/controls",
      "model_module_version": "1.5.0",
      "model_name": "HBoxModel",
      "state": {
       "children": [
        "IPY_MODEL_47a86b240143406caf73eee0676753b7",
        "IPY_MODEL_68c3caf0f7d84599bdbf87f5bd80e44b"
       ],
       "layout": "IPY_MODEL_90d1394d1a034c839dac3bb1f6d5c667"
      }
     },
     "99f468122a8b46da81d3033c614a3236": {
      "model_module": "@jupyter-widgets/base",
      "model_module_version": "1.2.0",
      "model_name": "LayoutModel",
      "state": {}
     },
     "9a20964699c14d339ada1d1f75d6bd46": {
      "model_module": "@jupyter-widgets/base",
      "model_module_version": "1.2.0",
      "model_name": "LayoutModel",
      "state": {}
     },
     "9a2bbb4a5f194573bfd23abf9be8db6d": {
      "model_module": "@jupyter-widgets/controls",
      "model_module_version": "1.5.0",
      "model_name": "FloatProgressModel",
      "state": {
       "bar_style": "success",
       "description": "5625/5625",
       "layout": "IPY_MODEL_b34964e4a71f482e9e304f69b7476c22",
       "max": 5625,
       "style": "IPY_MODEL_dd9f4bbae858464081d936c9736ba86e",
       "value": 5625
      }
     },
     "9a2cb36a40fa410e860770b96e9e6348": {
      "model_module": "@jupyter-widgets/controls",
      "model_module_version": "1.5.0",
      "model_name": "HTMLModel",
      "state": {
       "layout": "IPY_MODEL_6a6f182b9ca74bcc840f312972266519",
       "style": "IPY_MODEL_735ffa140fa54a7d92eec50d693975e5",
       "value": " ETA: 00:00s - loss: 0.0278 - val_loss: 0.0273"
      }
     },
     "9ab7a528ce5e44a49ec12455a16dfd06": {
      "model_module": "@jupyter-widgets/base",
      "model_module_version": "1.2.0",
      "model_name": "LayoutModel",
      "state": {
       "display": "inline-flex",
       "flex_flow": "row wrap",
       "width": "100%"
      }
     },
     "9ac84d7fc8584b69bc8b62b1965c972d": {
      "model_module": "@jupyter-widgets/controls",
      "model_module_version": "1.5.0",
      "model_name": "HBoxModel",
      "state": {
       "children": [
        "IPY_MODEL_0857ef783bf846baad7b6a92e62867f0",
        "IPY_MODEL_5970a42201f54830a6b107119e3a929d"
       ],
       "layout": "IPY_MODEL_c9c4eb0cbefa42d9800c21bd54be7c56"
      }
     },
     "9b202ab1725a43c39da425456bc43ed4": {
      "model_module": "@jupyter-widgets/base",
      "model_module_version": "1.2.0",
      "model_name": "LayoutModel",
      "state": {}
     },
     "9b2a906004dc41b7b3b52ec0bafca5a6": {
      "model_module": "@jupyter-widgets/base",
      "model_module_version": "1.2.0",
      "model_name": "LayoutModel",
      "state": {
       "display": "inline-flex",
       "flex_flow": "row wrap",
       "width": "100%"
      }
     },
     "9b53a9f2c5724fc280d02d29d60012e0": {
      "model_module": "@jupyter-widgets/base",
      "model_module_version": "1.2.0",
      "model_name": "LayoutModel",
      "state": {}
     },
     "9b8c63f70db34eb2ac291c26582b431a": {
      "model_module": "@jupyter-widgets/base",
      "model_module_version": "1.2.0",
      "model_name": "LayoutModel",
      "state": {
       "flex": "2"
      }
     },
     "9bbb2f060ae84992a267852ab6888f9d": {
      "model_module": "@jupyter-widgets/controls",
      "model_module_version": "1.5.0",
      "model_name": "DescriptionStyleModel",
      "state": {
       "description_width": ""
      }
     },
     "9c18faf050e7410a82eec3cfac64b8c3": {
      "model_module": "@jupyter-widgets/controls",
      "model_module_version": "1.5.0",
      "model_name": "ProgressStyleModel",
      "state": {
       "description_width": "initial"
      }
     },
     "9c69fcb6c9e34b7fbf7dac7aa9825e5e": {
      "model_module": "@jupyter-widgets/controls",
      "model_module_version": "1.5.0",
      "model_name": "HBoxModel",
      "state": {
       "children": [
        "IPY_MODEL_fc601ba52f104c348b2af5ca84a50d82",
        "IPY_MODEL_0070d83c342b4879b78964fb055a45e0"
       ],
       "layout": "IPY_MODEL_373d033789ef4b5095d4bd43d86ff5b5"
      }
     },
     "9c80d14536324b4985149b83a1c81c5b": {
      "model_module": "@jupyter-widgets/controls",
      "model_module_version": "1.5.0",
      "model_name": "HTMLModel",
      "state": {
       "layout": "IPY_MODEL_4460f56bef4744569bc83491865222e9",
       "style": "IPY_MODEL_bafc1473649b4508ac4e1d9ec104e595",
       "value": " ETA: 00:00s - loss: 0.0281 - val_loss: 0.0278"
      }
     },
     "9c930332fd4444ddb124cdf847a34d5f": {
      "model_module": "@jupyter-widgets/base",
      "model_module_version": "1.2.0",
      "model_name": "LayoutModel",
      "state": {
       "display": "inline-flex",
       "flex_flow": "row wrap",
       "width": "100%"
      }
     },
     "9d195af9de104af69dd83496cacf2ad4": {
      "model_module": "@jupyter-widgets/controls",
      "model_module_version": "1.5.0",
      "model_name": "ProgressStyleModel",
      "state": {
       "description_width": "initial"
      }
     },
     "9d422cd5468f40b5952ff1213d9ee371": {
      "model_module": "@jupyter-widgets/controls",
      "model_module_version": "1.5.0",
      "model_name": "HTMLModel",
      "state": {
       "layout": "IPY_MODEL_2672c4fa4d8c4b79b62ccd9c4e9cec16",
       "style": "IPY_MODEL_7b2014a428f74287a0d688799585d913",
       "value": " ETA: 00:00s - loss: 0.0289 - val_loss: 0.0285"
      }
     },
     "9d523c5feb7a479f9ac388f8fc7d90f9": {
      "model_module": "@jupyter-widgets/controls",
      "model_module_version": "1.5.0",
      "model_name": "HBoxModel",
      "state": {
       "children": [
        "IPY_MODEL_aab780bc5d2d4aada7ea81aaaf5cd543",
        "IPY_MODEL_3c5eeabc4cbd4fc682d1dbef78c16783"
       ],
       "layout": "IPY_MODEL_7700b13657cb457bae50f1f74f5a00e7"
      }
     },
     "9dae6555f28248b1871630b057572efc": {
      "model_module": "@jupyter-widgets/controls",
      "model_module_version": "1.5.0",
      "model_name": "HBoxModel",
      "state": {
       "children": [
        "IPY_MODEL_1e0fe6b4d3034d5696beae28c66230bd",
        "IPY_MODEL_80d7da483c144c688b54b26e7f0703bf"
       ],
       "layout": "IPY_MODEL_58f029a32db947a9b2b57632eaeb7d51"
      }
     },
     "9db2fe4d5f284fd4904b9e65a83d5910": {
      "model_module": "@jupyter-widgets/controls",
      "model_module_version": "1.5.0",
      "model_name": "FloatProgressModel",
      "state": {
       "bar_style": "success",
       "description": "5625/5625",
       "layout": "IPY_MODEL_c4fb39e99755424ca38c02469d16d651",
       "max": 5625,
       "style": "IPY_MODEL_c030384c4f604534919af86df5a8a6a4",
       "value": 5625
      }
     },
     "9df6a3ca83fc404d97b1919fdec23099": {
      "model_module": "@jupyter-widgets/base",
      "model_module_version": "1.2.0",
      "model_name": "LayoutModel",
      "state": {
       "flex": "2"
      }
     },
     "9e5243bbaebd4d74bfcba253469a0220": {
      "model_module": "@jupyter-widgets/controls",
      "model_module_version": "1.5.0",
      "model_name": "HTMLModel",
      "state": {
       "layout": "IPY_MODEL_f64c5132d3cc4d59bbce5baca8b63ff0",
       "style": "IPY_MODEL_8ef5fc2ea82c4a799e9f3cd2ec692da5",
       "value": " ETA: 00:00s - loss: 0.0286 - val_loss: 0.0291"
      }
     },
     "9e6df08c10754ff5b1b590dc1f6b01a5": {
      "model_module": "@jupyter-widgets/controls",
      "model_module_version": "1.5.0",
      "model_name": "HTMLModel",
      "state": {
       "layout": "IPY_MODEL_3b9dd6f810574ed698beb607662a8322",
       "style": "IPY_MODEL_91db7d22ec054add8ff5a19237e880e8",
       "value": " ETA: 00:00s - loss: 0.0285 - val_loss: 0.0287"
      }
     },
     "9ea3cb6f5e4d4f56b1a802ac4a35d355": {
      "model_module": "@jupyter-widgets/base",
      "model_module_version": "1.2.0",
      "model_name": "LayoutModel",
      "state": {
       "flex": "2"
      }
     },
     "9eb3a0b2d0c94e1a8c8e79700dfbf608": {
      "model_module": "@jupyter-widgets/controls",
      "model_module_version": "1.5.0",
      "model_name": "DescriptionStyleModel",
      "state": {
       "description_width": ""
      }
     },
     "9ecc8936b560436f82ec78c94e31bd30": {
      "model_module": "@jupyter-widgets/controls",
      "model_module_version": "1.5.0",
      "model_name": "DescriptionStyleModel",
      "state": {
       "description_width": ""
      }
     },
     "9f2cd27335104653ad86628f8d9ccb87": {
      "model_module": "@jupyter-widgets/base",
      "model_module_version": "1.2.0",
      "model_name": "LayoutModel",
      "state": {}
     },
     "9f41f263b8d749eeb6fa64c4a41aab31": {
      "model_module": "@jupyter-widgets/base",
      "model_module_version": "1.2.0",
      "model_name": "LayoutModel",
      "state": {
       "display": "inline-flex",
       "flex_flow": "row wrap",
       "width": "100%"
      }
     },
     "9f6779ea6d79433b8d6b0d0b0c29a281": {
      "model_module": "@jupyter-widgets/base",
      "model_module_version": "1.2.0",
      "model_name": "LayoutModel",
      "state": {}
     },
     "9f7a65cbd4104baebff70a6d8ae31a68": {
      "model_module": "@jupyter-widgets/base",
      "model_module_version": "1.2.0",
      "model_name": "LayoutModel",
      "state": {
       "flex": "2"
      }
     },
     "9f842e585d144c8cbe1fe6a7df6ed247": {
      "model_module": "@jupyter-widgets/controls",
      "model_module_version": "1.5.0",
      "model_name": "HBoxModel",
      "state": {
       "children": [
        "IPY_MODEL_7d41456792f94016a7b5f5d14cd545b2",
        "IPY_MODEL_391728dc6bc84c599ac9eaa65eb03576"
       ],
       "layout": "IPY_MODEL_af467994947f43329d0b743f13affd3a"
      }
     },
     "9fd59051ae154facadb7d9f8b74a640d": {
      "model_module": "@jupyter-widgets/base",
      "model_module_version": "1.2.0",
      "model_name": "LayoutModel",
      "state": {}
     },
     "9fd60b63106245029c0e10228a200762": {
      "model_module": "@jupyter-widgets/controls",
      "model_module_version": "1.5.0",
      "model_name": "HTMLModel",
      "state": {
       "layout": "IPY_MODEL_42546c3a75a141589d7ea805d06a6371",
       "style": "IPY_MODEL_b95c2f39753c416499b0807f216a45ac",
       "value": " ETA: 00:00s - loss: 0.0279 - val_loss: 0.0273"
      }
     },
     "a04ef460f73d454ca19ff07bb6a55181": {
      "model_module": "@jupyter-widgets/controls",
      "model_module_version": "1.5.0",
      "model_name": "HBoxModel",
      "state": {
       "children": [
        "IPY_MODEL_b9e982d3e21b4ce096a193267775a675",
        "IPY_MODEL_3da8dc60b9be4f729fe1a98218d67250"
       ],
       "layout": "IPY_MODEL_52deb41379ed44d189356d2eba8fcd23"
      }
     },
     "a08e5c1acf96482fbe02f27aa308401f": {
      "model_module": "@jupyter-widgets/controls",
      "model_module_version": "1.5.0",
      "model_name": "ProgressStyleModel",
      "state": {
       "description_width": "initial"
      }
     },
     "a0929b7a649049f2b386f0a1086151bd": {
      "model_module": "@jupyter-widgets/controls",
      "model_module_version": "1.5.0",
      "model_name": "DescriptionStyleModel",
      "state": {
       "description_width": ""
      }
     },
     "a0d2a0fc5dab44d592c33c4d189d92d0": {
      "model_module": "@jupyter-widgets/controls",
      "model_module_version": "1.5.0",
      "model_name": "FloatProgressModel",
      "state": {
       "bar_style": "success",
       "description": "5625/5625",
       "layout": "IPY_MODEL_44eb0c86b71842a9a97f1c4edb9f2e12",
       "max": 5625,
       "style": "IPY_MODEL_72f4ee1262cb4f4f899920b2b3c1c441",
       "value": 5625
      }
     },
     "a0fbd098c41a480f8ea7dfd6e348d6a6": {
      "model_module": "@jupyter-widgets/base",
      "model_module_version": "1.2.0",
      "model_name": "LayoutModel",
      "state": {
       "display": "inline-flex",
       "flex_flow": "row wrap",
       "width": "100%"
      }
     },
     "a114c912f6e14b2fa5b48857c0780717": {
      "model_module": "@jupyter-widgets/controls",
      "model_module_version": "1.5.0",
      "model_name": "HTMLModel",
      "state": {
       "layout": "IPY_MODEL_2222adfb6c92454e833f0e725713a8c0",
       "style": "IPY_MODEL_0bd05db03ee243938708891074062779",
       "value": " ETA: 00:00s - loss: 0.0281 - val_loss: 0.0274"
      }
     },
     "a116026c5a374b249aabc970574b5bb0": {
      "model_module": "@jupyter-widgets/controls",
      "model_module_version": "1.5.0",
      "model_name": "ProgressStyleModel",
      "state": {
       "description_width": "initial"
      }
     },
     "a13be5934e3445878449e7c180bbe90a": {
      "model_module": "@jupyter-widgets/controls",
      "model_module_version": "1.5.0",
      "model_name": "FloatProgressModel",
      "state": {
       "bar_style": "success",
       "description": "5625/5625",
       "layout": "IPY_MODEL_c869b3a0b3b4400d93efbb9b9e6c972e",
       "max": 5625,
       "style": "IPY_MODEL_7dc7ffb41b7a4e178d1eaefb2f9d288f",
       "value": 5625
      }
     },
     "a1ade67791c84878a817a2ce0b22b0ed": {
      "model_module": "@jupyter-widgets/base",
      "model_module_version": "1.2.0",
      "model_name": "LayoutModel",
      "state": {
       "display": "inline-flex",
       "flex_flow": "row wrap",
       "width": "100%"
      }
     },
     "a1c46b69d7554354b3b326cee59f7cd0": {
      "model_module": "@jupyter-widgets/base",
      "model_module_version": "1.2.0",
      "model_name": "LayoutModel",
      "state": {
       "display": "inline-flex",
       "flex_flow": "row wrap",
       "width": "100%"
      }
     },
     "a1f367b8775f4a8a9ec39c321782516b": {
      "model_module": "@jupyter-widgets/base",
      "model_module_version": "1.2.0",
      "model_name": "LayoutModel",
      "state": {}
     },
     "a21a89b2f90d4991aafcb113d628e83e": {
      "model_module": "@jupyter-widgets/base",
      "model_module_version": "1.2.0",
      "model_name": "LayoutModel",
      "state": {
       "flex": "2"
      }
     },
     "a21e71e09265414589af8b9f0c1f397c": {
      "model_module": "@jupyter-widgets/base",
      "model_module_version": "1.2.0",
      "model_name": "LayoutModel",
      "state": {
       "display": "inline-flex",
       "flex_flow": "row wrap",
       "width": "100%"
      }
     },
     "a2523b16aa29438681ee02e234624c14": {
      "model_module": "@jupyter-widgets/controls",
      "model_module_version": "1.5.0",
      "model_name": "HTMLModel",
      "state": {
       "layout": "IPY_MODEL_01a2c952b4224dd88f9fcfc5e6c00024",
       "style": "IPY_MODEL_972f93a6626045219834ff2266772267",
       "value": " ETA: 00:00s - loss: 0.0280 - val_loss: 0.0279"
      }
     },
     "a28705292c294c12a69998ed4027e6f1": {
      "model_module": "@jupyter-widgets/base",
      "model_module_version": "1.2.0",
      "model_name": "LayoutModel",
      "state": {
       "display": "inline-flex",
       "flex_flow": "row wrap",
       "width": "100%"
      }
     },
     "a32ec985bda144e3ac759ccb4a8a8696": {
      "model_module": "@jupyter-widgets/controls",
      "model_module_version": "1.5.0",
      "model_name": "FloatProgressModel",
      "state": {
       "bar_style": "success",
       "description": "5625/5625",
       "layout": "IPY_MODEL_61878fea1e3c4f50b0417c634c4dfa23",
       "max": 5625,
       "style": "IPY_MODEL_eab76cd6858b41cfb9c05e0b099ac4a7",
       "value": 5625
      }
     },
     "a386caa7f0044e848a957234b9a49774": {
      "model_module": "@jupyter-widgets/base",
      "model_module_version": "1.2.0",
      "model_name": "LayoutModel",
      "state": {}
     },
     "a390547b44f94b769a83c09f90a100c8": {
      "model_module": "@jupyter-widgets/base",
      "model_module_version": "1.2.0",
      "model_name": "LayoutModel",
      "state": {
       "display": "inline-flex",
       "flex_flow": "row wrap",
       "width": "100%"
      }
     },
     "a3bff1b1300c4873b1d5931ad9666a4f": {
      "model_module": "@jupyter-widgets/controls",
      "model_module_version": "1.5.0",
      "model_name": "ProgressStyleModel",
      "state": {
       "description_width": "initial"
      }
     },
     "a403ad240c1d4a399f60618e5c225e13": {
      "model_module": "@jupyter-widgets/base",
      "model_module_version": "1.2.0",
      "model_name": "LayoutModel",
      "state": {
       "display": "inline-flex",
       "flex_flow": "row wrap",
       "width": "100%"
      }
     },
     "a440a38daf5d4456ac8ccdee6451ed34": {
      "model_module": "@jupyter-widgets/controls",
      "model_module_version": "1.5.0",
      "model_name": "ProgressStyleModel",
      "state": {
       "description_width": "initial"
      }
     },
     "a45468cf4a7b4123ad0bc689a7f7cb4c": {
      "model_module": "@jupyter-widgets/controls",
      "model_module_version": "1.5.0",
      "model_name": "HBoxModel",
      "state": {
       "children": [
        "IPY_MODEL_00b6a51c9020410b8e5cc14ed097774e",
        "IPY_MODEL_59bcc4028ec94f44aebb7e8ce1adb763"
       ],
       "layout": "IPY_MODEL_f5ccb77b1dae4a82b6db8551bc9620bf"
      }
     },
     "a45ea16605314d6bbf512a6a7780ed9c": {
      "model_module": "@jupyter-widgets/controls",
      "model_module_version": "1.5.0",
      "model_name": "HTMLModel",
      "state": {
       "layout": "IPY_MODEL_f6df200da957479f8ac8767c02689a59",
       "style": "IPY_MODEL_b6a3f8493d1f4d27980104f38e9905de",
       "value": " ETA: 00:00s - loss: 0.0283 - val_loss: 0.0275"
      }
     },
     "a466b99f27604bc4acdb7e85abdae488": {
      "model_module": "@jupyter-widgets/base",
      "model_module_version": "1.2.0",
      "model_name": "LayoutModel",
      "state": {}
     },
     "a49aae3dc91f416eae55969453d87767": {
      "model_module": "@jupyter-widgets/controls",
      "model_module_version": "1.5.0",
      "model_name": "ProgressStyleModel",
      "state": {
       "description_width": "initial"
      }
     },
     "a4babf3d7cc94c23abd2fd9809e60f56": {
      "model_module": "@jupyter-widgets/base",
      "model_module_version": "1.2.0",
      "model_name": "LayoutModel",
      "state": {
       "display": "inline-flex",
       "flex_flow": "row wrap",
       "width": "100%"
      }
     },
     "a5973c1987754de3a0613702a98e995f": {
      "model_module": "@jupyter-widgets/controls",
      "model_module_version": "1.5.0",
      "model_name": "HBoxModel",
      "state": {
       "children": [
        "IPY_MODEL_05045ba633874ff49dc5da456e38cc71",
        "IPY_MODEL_e465b2b5ac61423a836947ed6ed60c7e"
       ],
       "layout": "IPY_MODEL_bdca568293d34204b366cd9fd094284f"
      }
     },
     "a59fbca3356e424a8fa963a844c6f30b": {
      "model_module": "@jupyter-widgets/base",
      "model_module_version": "1.2.0",
      "model_name": "LayoutModel",
      "state": {}
     },
     "a6386f5775dc49afac40e5192f385c60": {
      "model_module": "@jupyter-widgets/base",
      "model_module_version": "1.2.0",
      "model_name": "LayoutModel",
      "state": {
       "display": "inline-flex",
       "flex_flow": "row wrap",
       "width": "100%"
      }
     },
     "a6681c73ff5c4c1ab32339e42c8e94d3": {
      "model_module": "@jupyter-widgets/controls",
      "model_module_version": "1.5.0",
      "model_name": "HBoxModel",
      "state": {
       "children": [
        "IPY_MODEL_5be0a154d9354f8fa30806a082fc1e80",
        "IPY_MODEL_09696e5c161543729260b00ecc81376d"
       ],
       "layout": "IPY_MODEL_cbbac51d88714c0c845b8ffef3850569"
      }
     },
     "a6f6bc79e3064848b4330a87bb502e70": {
      "model_module": "@jupyter-widgets/controls",
      "model_module_version": "1.5.0",
      "model_name": "ProgressStyleModel",
      "state": {
       "description_width": "initial"
      }
     },
     "a71a3dc8b57c4de0bf169abc7d407718": {
      "model_module": "@jupyter-widgets/base",
      "model_module_version": "1.2.0",
      "model_name": "LayoutModel",
      "state": {
       "flex": "2"
      }
     },
     "a74adadc7f764ad797ce73fd2d418d12": {
      "model_module": "@jupyter-widgets/controls",
      "model_module_version": "1.5.0",
      "model_name": "FloatProgressModel",
      "state": {
       "bar_style": "success",
       "description": "5625/5625",
       "layout": "IPY_MODEL_0a396f78e0fa4677876f3df38cfe461a",
       "max": 5625,
       "style": "IPY_MODEL_ad1b9ceb0f7b40e69e221b72e59eee16",
       "value": 5625
      }
     },
     "a7759e23216a4a369714f6e8f01552cf": {
      "model_module": "@jupyter-widgets/controls",
      "model_module_version": "1.5.0",
      "model_name": "HBoxModel",
      "state": {
       "children": [
        "IPY_MODEL_f516a5eee2fa46b09545ae9a7b045077",
        "IPY_MODEL_b5a8423654284bb5bf3dcaef509fbe18"
       ],
       "layout": "IPY_MODEL_bf0c1352a60746968aa0528359d5e31d"
      }
     },
     "a79adfcffeec40acb752f4600de3affa": {
      "model_module": "@jupyter-widgets/controls",
      "model_module_version": "1.5.0",
      "model_name": "HBoxModel",
      "state": {
       "children": [
        "IPY_MODEL_46ca6038477a4cf0b5cbc26a0f228112",
        "IPY_MODEL_190f1baad2834d4aa5a54a6c418f90cf"
       ],
       "layout": "IPY_MODEL_a1ade67791c84878a817a2ce0b22b0ed"
      }
     },
     "a7ea7ebffb32440bb1d15d7d96347e66": {
      "model_module": "@jupyter-widgets/controls",
      "model_module_version": "1.5.0",
      "model_name": "HBoxModel",
      "state": {
       "children": [
        "IPY_MODEL_c01ec9105ee2411dab73ca36caaa8af9",
        "IPY_MODEL_5a959c6ce7364fcab6a4de001948f83e"
       ],
       "layout": "IPY_MODEL_190a283ccd854c838fde78ca816b39df"
      }
     },
     "a83f64622f544e8e955e073fc6756418": {
      "model_module": "@jupyter-widgets/base",
      "model_module_version": "1.2.0",
      "model_name": "LayoutModel",
      "state": {
       "flex": "2"
      }
     },
     "a87d81ad4ed543fc959e54054889da69": {
      "model_module": "@jupyter-widgets/controls",
      "model_module_version": "1.5.0",
      "model_name": "HTMLModel",
      "state": {
       "layout": "IPY_MODEL_87138b5fa06b4992ab88c2277f846c85",
       "style": "IPY_MODEL_08e4fe1866054685bce2e7cc316325bc",
       "value": " ETA: 00:00s - loss: 0.0285 - val_loss: 0.0281"
      }
     },
     "a88c1845bbb44f3c8e5361f038dff5dd": {
      "model_module": "@jupyter-widgets/base",
      "model_module_version": "1.2.0",
      "model_name": "LayoutModel",
      "state": {
       "display": "inline-flex",
       "flex_flow": "row wrap",
       "width": "100%"
      }
     },
     "a89090fe78484c0b8665c3e5a1c56f81": {
      "model_module": "@jupyter-widgets/controls",
      "model_module_version": "1.5.0",
      "model_name": "HBoxModel",
      "state": {
       "children": [
        "IPY_MODEL_5e2cdf026abe4ad98847bdc1b314ec7c",
        "IPY_MODEL_a114c912f6e14b2fa5b48857c0780717"
       ],
       "layout": "IPY_MODEL_d4aa1bae0ddf4fc38bc942ee740aadd7"
      }
     },
     "a8a89b9ebebf4c52ad201cf053d6e792": {
      "model_module": "@jupyter-widgets/base",
      "model_module_version": "1.2.0",
      "model_name": "LayoutModel",
      "state": {
       "flex": "2"
      }
     },
     "a9213f42ab2c4f66970a08d436a6f80f": {
      "model_module": "@jupyter-widgets/base",
      "model_module_version": "1.2.0",
      "model_name": "LayoutModel",
      "state": {
       "display": "inline-flex",
       "flex_flow": "row wrap",
       "width": "100%"
      }
     },
     "a9383a16ba674851ad83a1b11959aea7": {
      "model_module": "@jupyter-widgets/base",
      "model_module_version": "1.2.0",
      "model_name": "LayoutModel",
      "state": {
       "flex": "2"
      }
     },
     "a98747b85dce4b68b3fe31b60c0ef0a0": {
      "model_module": "@jupyter-widgets/base",
      "model_module_version": "1.2.0",
      "model_name": "LayoutModel",
      "state": {}
     },
     "a9c7f1e357ac493389be2ea16587426a": {
      "model_module": "@jupyter-widgets/base",
      "model_module_version": "1.2.0",
      "model_name": "LayoutModel",
      "state": {}
     },
     "a9f5637ec2284222a689320cac290e0b": {
      "model_module": "@jupyter-widgets/controls",
      "model_module_version": "1.5.0",
      "model_name": "DescriptionStyleModel",
      "state": {
       "description_width": ""
      }
     },
     "aa4ff95d0b154cf0ae55b4e9025311ec": {
      "model_module": "@jupyter-widgets/controls",
      "model_module_version": "1.5.0",
      "model_name": "FloatProgressModel",
      "state": {
       "bar_style": "success",
       "description": "5625/5625",
       "layout": "IPY_MODEL_3c2c970b12e94a71a80f0d360059114b",
       "max": 5625,
       "style": "IPY_MODEL_194764790ba941e7bc9519e379aac8e8",
       "value": 5625
      }
     },
     "aa55e6be88f04d128145be200e5fa928": {
      "model_module": "@jupyter-widgets/base",
      "model_module_version": "1.2.0",
      "model_name": "LayoutModel",
      "state": {
       "flex": "2"
      }
     },
     "aa9ec0e6211e47a596a887b0822d235e": {
      "model_module": "@jupyter-widgets/base",
      "model_module_version": "1.2.0",
      "model_name": "LayoutModel",
      "state": {
       "flex": "2"
      }
     },
     "aab780bc5d2d4aada7ea81aaaf5cd543": {
      "model_module": "@jupyter-widgets/controls",
      "model_module_version": "1.5.0",
      "model_name": "FloatProgressModel",
      "state": {
       "bar_style": "success",
       "description": "5625/5625",
       "layout": "IPY_MODEL_0a3d9c261a7b4e6f8cf0d0878c33a350",
       "max": 5625,
       "style": "IPY_MODEL_a08e5c1acf96482fbe02f27aa308401f",
       "value": 5625
      }
     },
     "ab3f1ec76fe84c50bf02ee0074a2e817": {
      "model_module": "@jupyter-widgets/controls",
      "model_module_version": "1.5.0",
      "model_name": "HTMLModel",
      "state": {
       "layout": "IPY_MODEL_1432ddbf78e846e894ca11d54487c62b",
       "style": "IPY_MODEL_bb1b5af7a4d145db9c86481f195aa5eb",
       "value": " ETA: 00:00s - loss: 0.0282 - val_loss: 0.0285"
      }
     },
     "ab8770c83eac43939517f5ad3ff68ca8": {
      "model_module": "@jupyter-widgets/base",
      "model_module_version": "1.2.0",
      "model_name": "LayoutModel",
      "state": {}
     },
     "abb270b3aa864d909500dfad5a6b3e84": {
      "model_module": "@jupyter-widgets/base",
      "model_module_version": "1.2.0",
      "model_name": "LayoutModel",
      "state": {}
     },
     "abccab787792455086bb239157ee69ec": {
      "model_module": "@jupyter-widgets/controls",
      "model_module_version": "1.5.0",
      "model_name": "HBoxModel",
      "state": {
       "children": [
        "IPY_MODEL_14899dc3eaae420f854a700ab3fa9a8b",
        "IPY_MODEL_9e5243bbaebd4d74bfcba253469a0220"
       ],
       "layout": "IPY_MODEL_7dbcee0a19bf4c37a53cdb71eb7667be"
      }
     },
     "abe2218854b6449393b2afd6d80938a4": {
      "model_module": "@jupyter-widgets/base",
      "model_module_version": "1.2.0",
      "model_name": "LayoutModel",
      "state": {
       "display": "inline-flex",
       "flex_flow": "row wrap",
       "width": "100%"
      }
     },
     "ac1a5fbe4c2a40a499e28650a8b62891": {
      "model_module": "@jupyter-widgets/base",
      "model_module_version": "1.2.0",
      "model_name": "LayoutModel",
      "state": {}
     },
     "ac4b535aff92440bbe6826e2637c2f5d": {
      "model_module": "@jupyter-widgets/base",
      "model_module_version": "1.2.0",
      "model_name": "LayoutModel",
      "state": {
       "display": "inline-flex",
       "flex_flow": "row wrap",
       "width": "100%"
      }
     },
     "aca8a13b68994f7fb0ad10b33d132a2e": {
      "model_module": "@jupyter-widgets/controls",
      "model_module_version": "1.5.0",
      "model_name": "HTMLModel",
      "state": {
       "layout": "IPY_MODEL_f2a41f5e54bb4ea68d7c40111c38cd04",
       "style": "IPY_MODEL_bed11de65cfa4bd3984b1b5ba9c821df",
       "value": " ETA: 00:00s - loss: 0.0278 - val_loss: 0.0274"
      }
     },
     "ad05fd1926b2421daff83cf199e3cd3b": {
      "model_module": "@jupyter-widgets/base",
      "model_module_version": "1.2.0",
      "model_name": "LayoutModel",
      "state": {
       "flex": "2"
      }
     },
     "ad1b9ceb0f7b40e69e221b72e59eee16": {
      "model_module": "@jupyter-widgets/controls",
      "model_module_version": "1.5.0",
      "model_name": "ProgressStyleModel",
      "state": {
       "description_width": "initial"
      }
     },
     "ad8e1e854fcb4d12885a43ef00fc1839": {
      "model_module": "@jupyter-widgets/controls",
      "model_module_version": "1.5.0",
      "model_name": "ProgressStyleModel",
      "state": {
       "description_width": "initial"
      }
     },
     "adb30cf004944ceab068fe88aaf41435": {
      "model_module": "@jupyter-widgets/base",
      "model_module_version": "1.2.0",
      "model_name": "LayoutModel",
      "state": {
       "display": "inline-flex",
       "flex_flow": "row wrap",
       "width": "100%"
      }
     },
     "adb9e4cf180149d3a99252c89480e486": {
      "model_module": "@jupyter-widgets/controls",
      "model_module_version": "1.5.0",
      "model_name": "HTMLModel",
      "state": {
       "layout": "IPY_MODEL_7ac1c3f834e24bcead12f92aa91992d4",
       "style": "IPY_MODEL_7fdda5a4a9664ad0a50f4d49a893e1c5",
       "value": " ETA: 00:00s - loss: 0.0278 - val_loss: 0.0278"
      }
     },
     "adde785501de4ba7a8b277dcf76f7e8b": {
      "model_module": "@jupyter-widgets/base",
      "model_module_version": "1.2.0",
      "model_name": "LayoutModel",
      "state": {
       "flex": "2"
      }
     },
     "ae119bf51e6541a890a90310e1d92545": {
      "model_module": "@jupyter-widgets/base",
      "model_module_version": "1.2.0",
      "model_name": "LayoutModel",
      "state": {
       "flex": "2"
      }
     },
     "ae590b33e89a48bfae0f974a2a7abbb3": {
      "model_module": "@jupyter-widgets/base",
      "model_module_version": "1.2.0",
      "model_name": "LayoutModel",
      "state": {
       "flex": "2"
      }
     },
     "ae9369ad63ff496081e6be1bd2f7d676": {
      "model_module": "@jupyter-widgets/base",
      "model_module_version": "1.2.0",
      "model_name": "LayoutModel",
      "state": {
       "flex": "2"
      }
     },
     "ae9bcc22c25045e9a2c8d7da2e6e9c22": {
      "model_module": "@jupyter-widgets/base",
      "model_module_version": "1.2.0",
      "model_name": "LayoutModel",
      "state": {
       "flex": "2"
      }
     },
     "aec40a7540794b3a8ddd78c86c0ac81e": {
      "model_module": "@jupyter-widgets/base",
      "model_module_version": "1.2.0",
      "model_name": "LayoutModel",
      "state": {
       "display": "inline-flex",
       "flex_flow": "row wrap",
       "width": "100%"
      }
     },
     "aedb6bf0d8f143aa90bb6a605e58381d": {
      "model_module": "@jupyter-widgets/base",
      "model_module_version": "1.2.0",
      "model_name": "LayoutModel",
      "state": {
       "flex": "2"
      }
     },
     "af467994947f43329d0b743f13affd3a": {
      "model_module": "@jupyter-widgets/base",
      "model_module_version": "1.2.0",
      "model_name": "LayoutModel",
      "state": {
       "display": "inline-flex",
       "flex_flow": "row wrap",
       "width": "100%"
      }
     },
     "af6a7c3295834c48882a5a169b169a14": {
      "model_module": "@jupyter-widgets/controls",
      "model_module_version": "1.5.0",
      "model_name": "FloatProgressModel",
      "state": {
       "bar_style": "success",
       "description": "5625/5625",
       "layout": "IPY_MODEL_bc6d7ac005e349598df0dd51f6a75d97",
       "max": 5625,
       "style": "IPY_MODEL_da242f11363f4c6db14ed2919251caa4",
       "value": 5625
      }
     },
     "af6ba7d7e05243068481edfa1c1cdb17": {
      "model_module": "@jupyter-widgets/base",
      "model_module_version": "1.2.0",
      "model_name": "LayoutModel",
      "state": {}
     },
     "af8948ed115a42359369f6ae3e0dd8b9": {
      "model_module": "@jupyter-widgets/controls",
      "model_module_version": "1.5.0",
      "model_name": "DescriptionStyleModel",
      "state": {
       "description_width": ""
      }
     },
     "af9ce36397ed4427a0b5394578d2e15c": {
      "model_module": "@jupyter-widgets/controls",
      "model_module_version": "1.5.0",
      "model_name": "DescriptionStyleModel",
      "state": {
       "description_width": ""
      }
     },
     "af9dd9a82aa746df92165b818c4113df": {
      "model_module": "@jupyter-widgets/controls",
      "model_module_version": "1.5.0",
      "model_name": "ProgressStyleModel",
      "state": {
       "description_width": "initial"
      }
     },
     "b0012db591334a309644a133b2c0d385": {
      "model_module": "@jupyter-widgets/base",
      "model_module_version": "1.2.0",
      "model_name": "LayoutModel",
      "state": {}
     },
     "b078773b7c404e7baa5d75769614c290": {
      "model_module": "@jupyter-widgets/controls",
      "model_module_version": "1.5.0",
      "model_name": "HBoxModel",
      "state": {
       "children": [
        "IPY_MODEL_b80cbfbb017b43aa83279adcc19a545d",
        "IPY_MODEL_01c8e31a45d9448e90b0f33cb11d1d0d"
       ],
       "layout": "IPY_MODEL_8073d8b9452344d7899bd6944807b74c"
      }
     },
     "b07c41e7d713447bb060d0d516ae3a23": {
      "model_module": "@jupyter-widgets/base",
      "model_module_version": "1.2.0",
      "model_name": "LayoutModel",
      "state": {
       "display": "inline-flex",
       "flex_flow": "row wrap",
       "width": "100%"
      }
     },
     "b0e38dfa1bb74ec0861d62c0dd261449": {
      "model_module": "@jupyter-widgets/controls",
      "model_module_version": "1.5.0",
      "model_name": "ProgressStyleModel",
      "state": {
       "description_width": "initial"
      }
     },
     "b12080e7a91044b7b83d5a15a265d6e3": {
      "model_module": "@jupyter-widgets/controls",
      "model_module_version": "1.5.0",
      "model_name": "HBoxModel",
      "state": {
       "children": [
        "IPY_MODEL_c0a88d83738041269b77a997eae77683",
        "IPY_MODEL_d88746fb0b0a40658d42b70c792fc1be"
       ],
       "layout": "IPY_MODEL_e537a49395c1421694c61029c1754608"
      }
     },
     "b170a856cf2a498e8f23992314034537": {
      "model_module": "@jupyter-widgets/controls",
      "model_module_version": "1.5.0",
      "model_name": "ProgressStyleModel",
      "state": {
       "description_width": "initial"
      }
     },
     "b207094013f240ec98063c4ab5310041": {
      "model_module": "@jupyter-widgets/controls",
      "model_module_version": "1.5.0",
      "model_name": "HBoxModel",
      "state": {
       "children": [
        "IPY_MODEL_53b7a9e3a4ff4ff4857cbf6b3307efd2",
        "IPY_MODEL_6dae74a932164d618bc30b58ed90f2e7"
       ],
       "layout": "IPY_MODEL_98197b3528ec421fa4e601c4ad5c0fad"
      }
     },
     "b2156d9ceff64b4b9befac7351e289d3": {
      "model_module": "@jupyter-widgets/base",
      "model_module_version": "1.2.0",
      "model_name": "LayoutModel",
      "state": {}
     },
     "b23089aeb11548a6b648e98720fa88d0": {
      "model_module": "@jupyter-widgets/controls",
      "model_module_version": "1.5.0",
      "model_name": "FloatProgressModel",
      "state": {
       "bar_style": "success",
       "description": "5625/5625",
       "layout": "IPY_MODEL_2c879ab63ccc4821bec6ee757f298478",
       "max": 5625,
       "style": "IPY_MODEL_b25182b9cfd94011ab5d9b8df63b9a4b",
       "value": 5625
      }
     },
     "b2395ddadca148ce9b28d2d6bb51981d": {
      "model_module": "@jupyter-widgets/controls",
      "model_module_version": "1.5.0",
      "model_name": "ProgressStyleModel",
      "state": {
       "description_width": "initial"
      }
     },
     "b248314317754517b076eabb3534b900": {
      "model_module": "@jupyter-widgets/base",
      "model_module_version": "1.2.0",
      "model_name": "LayoutModel",
      "state": {
       "display": "inline-flex",
       "flex_flow": "row wrap",
       "width": "100%"
      }
     },
     "b25182b9cfd94011ab5d9b8df63b9a4b": {
      "model_module": "@jupyter-widgets/controls",
      "model_module_version": "1.5.0",
      "model_name": "ProgressStyleModel",
      "state": {
       "description_width": "initial"
      }
     },
     "b251c333d9ef4a0db22a300d6d233e63": {
      "model_module": "@jupyter-widgets/base",
      "model_module_version": "1.2.0",
      "model_name": "LayoutModel",
      "state": {
       "display": "inline-flex",
       "flex_flow": "row wrap",
       "width": "100%"
      }
     },
     "b339a21c263540efb57f146fd0eb1e4b": {
      "model_module": "@jupyter-widgets/controls",
      "model_module_version": "1.5.0",
      "model_name": "FloatProgressModel",
      "state": {
       "bar_style": "success",
       "description": "5625/5625",
       "layout": "IPY_MODEL_ae9bcc22c25045e9a2c8d7da2e6e9c22",
       "max": 5625,
       "style": "IPY_MODEL_da4fb045f35e4e5cafe1be077ce84d47",
       "value": 5625
      }
     },
     "b34964e4a71f482e9e304f69b7476c22": {
      "model_module": "@jupyter-widgets/base",
      "model_module_version": "1.2.0",
      "model_name": "LayoutModel",
      "state": {
       "flex": "2"
      }
     },
     "b3af279425a949df9e817a066a992664": {
      "model_module": "@jupyter-widgets/base",
      "model_module_version": "1.2.0",
      "model_name": "LayoutModel",
      "state": {
       "flex": "2"
      }
     },
     "b3c7cc553c9d4c4db9444ee28b56f2d4": {
      "model_module": "@jupyter-widgets/controls",
      "model_module_version": "1.5.0",
      "model_name": "HTMLModel",
      "state": {
       "layout": "IPY_MODEL_df63f66e8f9c41f090b1ba7aba3d4878",
       "style": "IPY_MODEL_025355afd6684f3087ef5b3dcf0b31ea",
       "value": " ETA: 00:00s - loss: 0.0280 - val_loss: 0.0274"
      }
     },
     "b3ca782a5cdc4a43879cb03b1cfb3d65": {
      "model_module": "@jupyter-widgets/controls",
      "model_module_version": "1.5.0",
      "model_name": "HBoxModel",
      "state": {
       "children": [
        "IPY_MODEL_b97db434827b40539f9aea505afcd892",
        "IPY_MODEL_5e564d8b5c3a4a5d94285460b7fdf7db"
       ],
       "layout": "IPY_MODEL_1498c8048f344c5b9ae1028d30457834"
      }
     },
     "b44dc69795e64dd2bf695017f5728fa3": {
      "model_module": "@jupyter-widgets/base",
      "model_module_version": "1.2.0",
      "model_name": "LayoutModel",
      "state": {}
     },
     "b4cedd5fc7d746b8bc42389268570f1b": {
      "model_module": "@jupyter-widgets/base",
      "model_module_version": "1.2.0",
      "model_name": "LayoutModel",
      "state": {
       "flex": "2"
      }
     },
     "b597cb74c4ff45d3a073b220035065dc": {
      "model_module": "@jupyter-widgets/controls",
      "model_module_version": "1.5.0",
      "model_name": "ProgressStyleModel",
      "state": {
       "description_width": "initial"
      }
     },
     "b5a8423654284bb5bf3dcaef509fbe18": {
      "model_module": "@jupyter-widgets/controls",
      "model_module_version": "1.5.0",
      "model_name": "HTMLModel",
      "state": {
       "layout": "IPY_MODEL_d68e8f857ce345ea9d443e794bcc7075",
       "style": "IPY_MODEL_6b23c80fe2c0412c8f1ac83cdfdcf00a",
       "value": " ETA: 00:00s - loss: 0.0281 - val_loss: 0.0273"
      }
     },
     "b5ff609753ae4a35ad248daf56a8f145": {
      "model_module": "@jupyter-widgets/base",
      "model_module_version": "1.2.0",
      "model_name": "LayoutModel",
      "state": {}
     },
     "b600440fe63e4b48a7d76a26a924ed49": {
      "model_module": "@jupyter-widgets/base",
      "model_module_version": "1.2.0",
      "model_name": "LayoutModel",
      "state": {}
     },
     "b61ccdf2071740b8976edcec74656328": {
      "model_module": "@jupyter-widgets/base",
      "model_module_version": "1.2.0",
      "model_name": "LayoutModel",
      "state": {
       "flex": "2"
      }
     },
     "b6a3f8493d1f4d27980104f38e9905de": {
      "model_module": "@jupyter-widgets/controls",
      "model_module_version": "1.5.0",
      "model_name": "DescriptionStyleModel",
      "state": {
       "description_width": ""
      }
     },
     "b6ab1e36a66941549727530c9925ac0d": {
      "model_module": "@jupyter-widgets/controls",
      "model_module_version": "1.5.0",
      "model_name": "HTMLModel",
      "state": {
       "layout": "IPY_MODEL_4a3310ec14144d92ad6c2c0414c2e96e",
       "style": "IPY_MODEL_bc58c76856a540249a52464976335e14",
       "value": " ETA: 00:00s - loss: 0.0280 - val_loss: 0.0278"
      }
     },
     "b6e3e2abe46147399338a8991f60711f": {
      "model_module": "@jupyter-widgets/controls",
      "model_module_version": "1.5.0",
      "model_name": "ProgressStyleModel",
      "state": {
       "description_width": "initial"
      }
     },
     "b76afa78b28045fea3b4ca2953290ea7": {
      "model_module": "@jupyter-widgets/base",
      "model_module_version": "1.2.0",
      "model_name": "LayoutModel",
      "state": {
       "display": "inline-flex",
       "flex_flow": "row wrap",
       "width": "100%"
      }
     },
     "b7746423cd214639a6333d0cfcdcbb9a": {
      "model_module": "@jupyter-widgets/controls",
      "model_module_version": "1.5.0",
      "model_name": "ProgressStyleModel",
      "state": {
       "description_width": "initial"
      }
     },
     "b77916d9683f47f2a1b170d5fd86f992": {
      "model_module": "@jupyter-widgets/base",
      "model_module_version": "1.2.0",
      "model_name": "LayoutModel",
      "state": {}
     },
     "b7a35a33bda64fd6afa8d4e2e1892ed6": {
      "model_module": "@jupyter-widgets/base",
      "model_module_version": "1.2.0",
      "model_name": "LayoutModel",
      "state": {}
     },
     "b7f75b0a034e452eaa5dfbd5e88f10d6": {
      "model_module": "@jupyter-widgets/base",
      "model_module_version": "1.2.0",
      "model_name": "LayoutModel",
      "state": {
       "flex": "2"
      }
     },
     "b80cbfbb017b43aa83279adcc19a545d": {
      "model_module": "@jupyter-widgets/controls",
      "model_module_version": "1.5.0",
      "model_name": "FloatProgressModel",
      "state": {
       "bar_style": "success",
       "description": "5625/5625",
       "layout": "IPY_MODEL_22a0e9052a5c451ca1f0781cf610ca9c",
       "max": 5625,
       "style": "IPY_MODEL_e21a532646654d5eacd52a2afde6161f",
       "value": 5625
      }
     },
     "b862326a3f2647d086e1eca71eb4239b": {
      "model_module": "@jupyter-widgets/controls",
      "model_module_version": "1.5.0",
      "model_name": "DescriptionStyleModel",
      "state": {
       "description_width": ""
      }
     },
     "b87df6c11a744feda9b8ab7dc89a1730": {
      "model_module": "@jupyter-widgets/controls",
      "model_module_version": "1.5.0",
      "model_name": "FloatProgressModel",
      "state": {
       "bar_style": "success",
       "description": "5625/5625",
       "layout": "IPY_MODEL_31a30a241ec4452fa976001be2c2af91",
       "max": 5625,
       "style": "IPY_MODEL_7082f5344b6e41848bc35525327938f5",
       "value": 5625
      }
     },
     "b9235a07ea204a6b94929557fd4810d7": {
      "model_module": "@jupyter-widgets/base",
      "model_module_version": "1.2.0",
      "model_name": "LayoutModel",
      "state": {
       "flex": "2"
      }
     },
     "b9240227733744ec94347ef6dec43a89": {
      "model_module": "@jupyter-widgets/controls",
      "model_module_version": "1.5.0",
      "model_name": "FloatProgressModel",
      "state": {
       "bar_style": "success",
       "description": "5625/5625",
       "layout": "IPY_MODEL_1237cca76ab84686beff572c1c7f92ee",
       "max": 5625,
       "style": "IPY_MODEL_b597cb74c4ff45d3a073b220035065dc",
       "value": 5625
      }
     },
     "b94ffb785394444ea501c4e850af129a": {
      "model_module": "@jupyter-widgets/controls",
      "model_module_version": "1.5.0",
      "model_name": "FloatProgressModel",
      "state": {
       "bar_style": "success",
       "description": "5625/5625",
       "layout": "IPY_MODEL_7e6f247b7be446869fb3698f3515fc6f",
       "max": 5625,
       "style": "IPY_MODEL_406774af4bfa4246bebd426f0a8561ed",
       "value": 5625
      }
     },
     "b95c2f39753c416499b0807f216a45ac": {
      "model_module": "@jupyter-widgets/controls",
      "model_module_version": "1.5.0",
      "model_name": "DescriptionStyleModel",
      "state": {
       "description_width": ""
      }
     },
     "b97db434827b40539f9aea505afcd892": {
      "model_module": "@jupyter-widgets/controls",
      "model_module_version": "1.5.0",
      "model_name": "FloatProgressModel",
      "state": {
       "bar_style": "success",
       "description": "5625/5625",
       "layout": "IPY_MODEL_24662bea3de74143a036e7f002bfa646",
       "max": 5625,
       "style": "IPY_MODEL_729494b0d07d406890415d15ad39aa0d",
       "value": 5625
      }
     },
     "b9d1260a895b4191b9631f9f3ffb5044": {
      "model_module": "@jupyter-widgets/controls",
      "model_module_version": "1.5.0",
      "model_name": "HTMLModel",
      "state": {
       "layout": "IPY_MODEL_4681866ec2e2412a9b5053481461f95b",
       "style": "IPY_MODEL_c61daba3b1fd4836886713a7b9b905c8",
       "value": " ETA: 00:00s - loss: 0.0287 - val_loss: 0.0279"
      }
     },
     "b9e982d3e21b4ce096a193267775a675": {
      "model_module": "@jupyter-widgets/controls",
      "model_module_version": "1.5.0",
      "model_name": "FloatProgressModel",
      "state": {
       "bar_style": "success",
       "description": "5625/5625",
       "layout": "IPY_MODEL_fb7cdad6137a49b9b76faae0e5a07dcf",
       "max": 5625,
       "style": "IPY_MODEL_bc5c824e0c0141509b0315f34f1caa15",
       "value": 5625
      }
     },
     "b9ec2b83844d476a8d5526311555666f": {
      "model_module": "@jupyter-widgets/base",
      "model_module_version": "1.2.0",
      "model_name": "LayoutModel",
      "state": {
       "display": "inline-flex",
       "flex_flow": "row wrap",
       "width": "100%"
      }
     },
     "b9feabc44ee643e29545d6acf40304b3": {
      "model_module": "@jupyter-widgets/controls",
      "model_module_version": "1.5.0",
      "model_name": "HTMLModel",
      "state": {
       "layout": "IPY_MODEL_d90c48d6e2c644fca7b0c33e12fbe982",
       "style": "IPY_MODEL_6513725462c84c28b9a410ea62d5137d",
       "value": " ETA: 00:00s - loss: 0.0282 - val_loss: 0.0284"
      }
     },
     "ba4035e495af4028973fce5103553af9": {
      "model_module": "@jupyter-widgets/controls",
      "model_module_version": "1.5.0",
      "model_name": "HTMLModel",
      "state": {
       "layout": "IPY_MODEL_4ab8b75d94eb4104bd058e3f51de4514",
       "style": "IPY_MODEL_f39d12a5bc634803879c5eb93dc9709e",
       "value": " ETA: 00:00s - loss: 0.0294 - val_loss: 0.0290"
      }
     },
     "ba4648dff6e04adcbb78bab5b0528ecf": {
      "model_module": "@jupyter-widgets/base",
      "model_module_version": "1.2.0",
      "model_name": "LayoutModel",
      "state": {
       "display": "inline-flex",
       "flex_flow": "row wrap",
       "width": "100%"
      }
     },
     "ba68abd1781444479113a2a7bb9679a5": {
      "model_module": "@jupyter-widgets/controls",
      "model_module_version": "1.5.0",
      "model_name": "ProgressStyleModel",
      "state": {
       "description_width": "initial"
      }
     },
     "ba8f1e8ce4ad4f4196f8bbb09b9d65e6": {
      "model_module": "@jupyter-widgets/controls",
      "model_module_version": "1.5.0",
      "model_name": "ProgressStyleModel",
      "state": {
       "description_width": "initial"
      }
     },
     "baefd93e70e9482289233dc44ad4906d": {
      "model_module": "@jupyter-widgets/base",
      "model_module_version": "1.2.0",
      "model_name": "LayoutModel",
      "state": {
       "display": "inline-flex",
       "flex_flow": "row wrap",
       "width": "100%"
      }
     },
     "baf55c527d134b74986ff22f07c7b049": {
      "model_module": "@jupyter-widgets/controls",
      "model_module_version": "1.5.0",
      "model_name": "HBoxModel",
      "state": {
       "children": [
        "IPY_MODEL_dd6f6a02643344f088c7ce0b43d24707",
        "IPY_MODEL_a87d81ad4ed543fc959e54054889da69"
       ],
       "layout": "IPY_MODEL_c65978c6f8134880b91d84d21418f853"
      }
     },
     "bafc1473649b4508ac4e1d9ec104e595": {
      "model_module": "@jupyter-widgets/controls",
      "model_module_version": "1.5.0",
      "model_name": "DescriptionStyleModel",
      "state": {
       "description_width": ""
      }
     },
     "baff2862d4834ed69e405de34bdf1375": {
      "model_module": "@jupyter-widgets/controls",
      "model_module_version": "1.5.0",
      "model_name": "HTMLModel",
      "state": {
       "layout": "IPY_MODEL_fd9311f36219432285f5e856db2e156e",
       "style": "IPY_MODEL_c2996ad3ef30493abe15404732f1ff35",
       "value": " ETA: 00:00s - loss: 0.0287 - val_loss: 0.0280"
      }
     },
     "bb1b5af7a4d145db9c86481f195aa5eb": {
      "model_module": "@jupyter-widgets/controls",
      "model_module_version": "1.5.0",
      "model_name": "DescriptionStyleModel",
      "state": {
       "description_width": ""
      }
     },
     "bb28ddd18b8d4f828690fbd3d31867ab": {
      "model_module": "@jupyter-widgets/base",
      "model_module_version": "1.2.0",
      "model_name": "LayoutModel",
      "state": {}
     },
     "bb77106d312249009b657ea1f9a9364e": {
      "model_module": "@jupyter-widgets/controls",
      "model_module_version": "1.5.0",
      "model_name": "HTMLModel",
      "state": {
       "layout": "IPY_MODEL_41aa40605aed4e7e9c2c3efd97b03869",
       "style": "IPY_MODEL_9eb3a0b2d0c94e1a8c8e79700dfbf608",
       "value": " ETA: 00:00s - loss: 0.0281 - val_loss: 0.0274"
      }
     },
     "bb795b6a8b43426b99bbbac647c2bc4b": {
      "model_module": "@jupyter-widgets/base",
      "model_module_version": "1.2.0",
      "model_name": "LayoutModel",
      "state": {
       "display": "inline-flex",
       "flex_flow": "row wrap",
       "width": "100%"
      }
     },
     "bbb3591bf052463c9aca1b3eb995e37a": {
      "model_module": "@jupyter-widgets/base",
      "model_module_version": "1.2.0",
      "model_name": "LayoutModel",
      "state": {
       "display": "inline-flex",
       "flex_flow": "row wrap",
       "width": "100%"
      }
     },
     "bbb3fa24b73845eba36b69d23632b70d": {
      "model_module": "@jupyter-widgets/controls",
      "model_module_version": "1.5.0",
      "model_name": "DescriptionStyleModel",
      "state": {
       "description_width": ""
      }
     },
     "bc58c76856a540249a52464976335e14": {
      "model_module": "@jupyter-widgets/controls",
      "model_module_version": "1.5.0",
      "model_name": "DescriptionStyleModel",
      "state": {
       "description_width": ""
      }
     },
     "bc5c824e0c0141509b0315f34f1caa15": {
      "model_module": "@jupyter-widgets/controls",
      "model_module_version": "1.5.0",
      "model_name": "ProgressStyleModel",
      "state": {
       "description_width": "initial"
      }
     },
     "bc6d7ac005e349598df0dd51f6a75d97": {
      "model_module": "@jupyter-widgets/base",
      "model_module_version": "1.2.0",
      "model_name": "LayoutModel",
      "state": {
       "flex": "2"
      }
     },
     "bccb60c64e17473ea99ef1ce01e12a1b": {
      "model_module": "@jupyter-widgets/controls",
      "model_module_version": "1.5.0",
      "model_name": "HBoxModel",
      "state": {
       "children": [
        "IPY_MODEL_5b0b055a02d8488dac8676b59656f9c8",
        "IPY_MODEL_a2523b16aa29438681ee02e234624c14"
       ],
       "layout": "IPY_MODEL_56434854bae943eea37af8b453cfa8fa"
      }
     },
     "bce850f31bf74be0b6c86995eca6fe12": {
      "model_module": "@jupyter-widgets/base",
      "model_module_version": "1.2.0",
      "model_name": "LayoutModel",
      "state": {
       "display": "inline-flex",
       "flex_flow": "row wrap",
       "width": "100%"
      }
     },
     "bd1e8c55a62c4782a58bb98dd66cf3ac": {
      "model_module": "@jupyter-widgets/base",
      "model_module_version": "1.2.0",
      "model_name": "LayoutModel",
      "state": {
       "display": "inline-flex",
       "flex_flow": "row wrap",
       "width": "100%"
      }
     },
     "bd1fac8833be479a81856ad623959ff4": {
      "model_module": "@jupyter-widgets/controls",
      "model_module_version": "1.5.0",
      "model_name": "FloatProgressModel",
      "state": {
       "bar_style": "success",
       "description": "5625/5625",
       "layout": "IPY_MODEL_94ead1452e0245fbb82d2131acf01728",
       "max": 5625,
       "style": "IPY_MODEL_6b03cf2272a34bf7927a7c3a2d17ce4c",
       "value": 5625
      }
     },
     "bd4531d75e0e4d6bbe3259263625bcb3": {
      "model_module": "@jupyter-widgets/base",
      "model_module_version": "1.2.0",
      "model_name": "LayoutModel",
      "state": {
       "display": "inline-flex",
       "flex_flow": "row wrap",
       "width": "100%"
      }
     },
     "bd9e38a88d634e5ab09e4bb5491ee5b4": {
      "model_module": "@jupyter-widgets/base",
      "model_module_version": "1.2.0",
      "model_name": "LayoutModel",
      "state": {}
     },
     "bdc1f3476c2a431eae20232972fd2f36": {
      "model_module": "@jupyter-widgets/controls",
      "model_module_version": "1.5.0",
      "model_name": "HBoxModel",
      "state": {
       "children": [
        "IPY_MODEL_723a2a61fcae4353b950d1a017f487e6",
        "IPY_MODEL_c428aba2ceb747828d8afdc892ede58a"
       ],
       "layout": "IPY_MODEL_593c3e42811f4ecfa2d5bc38e0c903a6"
      }
     },
     "bdca568293d34204b366cd9fd094284f": {
      "model_module": "@jupyter-widgets/base",
      "model_module_version": "1.2.0",
      "model_name": "LayoutModel",
      "state": {
       "display": "inline-flex",
       "flex_flow": "row wrap",
       "width": "100%"
      }
     },
     "bdcae240d0104750a358d29154118823": {
      "model_module": "@jupyter-widgets/controls",
      "model_module_version": "1.5.0",
      "model_name": "FloatProgressModel",
      "state": {
       "bar_style": "success",
       "description": "5625/5625",
       "layout": "IPY_MODEL_e5419f9889fc4167abb6c657ecfa9416",
       "max": 5625,
       "style": "IPY_MODEL_a440a38daf5d4456ac8ccdee6451ed34",
       "value": 5625
      }
     },
     "be0b874274fd47cc9f9dc24a708870f6": {
      "model_module": "@jupyter-widgets/controls",
      "model_module_version": "1.5.0",
      "model_name": "HBoxModel",
      "state": {
       "children": [
        "IPY_MODEL_e857077abf8b48369e8ce7a59c8335ac",
        "IPY_MODEL_07bb4de61f6144a38302c08697b33bac"
       ],
       "layout": "IPY_MODEL_ca9d246130bc4a61b74da2b626f50939"
      }
     },
     "be84679702d64183a28d5b16fa10c801": {
      "model_module": "@jupyter-widgets/controls",
      "model_module_version": "1.5.0",
      "model_name": "FloatProgressModel",
      "state": {
       "bar_style": "success",
       "description": "5625/5625",
       "layout": "IPY_MODEL_06c064ca0a6e4c89a8bfd8db4cf3efbd",
       "max": 5625,
       "style": "IPY_MODEL_0308a31b565449e69b755589591dc63f",
       "value": 5625
      }
     },
     "bed11de65cfa4bd3984b1b5ba9c821df": {
      "model_module": "@jupyter-widgets/controls",
      "model_module_version": "1.5.0",
      "model_name": "DescriptionStyleModel",
      "state": {
       "description_width": ""
      }
     },
     "bf0c1352a60746968aa0528359d5e31d": {
      "model_module": "@jupyter-widgets/base",
      "model_module_version": "1.2.0",
      "model_name": "LayoutModel",
      "state": {
       "display": "inline-flex",
       "flex_flow": "row wrap",
       "width": "100%"
      }
     },
     "bf34ad27e1f94c68b1848c5012d0203e": {
      "model_module": "@jupyter-widgets/base",
      "model_module_version": "1.2.0",
      "model_name": "LayoutModel",
      "state": {
       "flex": "2"
      }
     },
     "bf5b4464400c4f2bbcaaf48f454aa3d7": {
      "model_module": "@jupyter-widgets/base",
      "model_module_version": "1.2.0",
      "model_name": "LayoutModel",
      "state": {}
     },
     "bf6d3a2f93cc4c09a19dff54c1f530b4": {
      "model_module": "@jupyter-widgets/controls",
      "model_module_version": "1.5.0",
      "model_name": "ProgressStyleModel",
      "state": {
       "description_width": "initial"
      }
     },
     "bfd5d167f3e84ef19474af5a576ef765": {
      "model_module": "@jupyter-widgets/controls",
      "model_module_version": "1.5.0",
      "model_name": "HBoxModel",
      "state": {
       "children": [
        "IPY_MODEL_2285054d1e07443f851d2444bd8c38b9",
        "IPY_MODEL_94f834dad59e4a069bdebba0efa1d48b"
       ],
       "layout": "IPY_MODEL_076fe6632f51486f96e05ac771ed5437"
      }
     },
     "bfe4175192c343c28cda88217c2f6022": {
      "model_module": "@jupyter-widgets/controls",
      "model_module_version": "1.5.0",
      "model_name": "FloatProgressModel",
      "state": {
       "bar_style": "success",
       "description": "5625/5625",
       "layout": "IPY_MODEL_7163a7a8d157486fb1109a9c9a4b88d5",
       "max": 5625,
       "style": "IPY_MODEL_07758867f6ec4dbb83557f98c799bd93",
       "value": 5625
      }
     },
     "c000f61431724832b93f7b281ca0d898": {
      "model_module": "@jupyter-widgets/controls",
      "model_module_version": "1.5.0",
      "model_name": "HTMLModel",
      "state": {
       "layout": "IPY_MODEL_ac1a5fbe4c2a40a499e28650a8b62891",
       "style": "IPY_MODEL_6d739097ae9548b781c6667470b7c281",
       "value": " ETA: 00:00s - loss: 0.0284 - val_loss: 0.0278"
      }
     },
     "c01ec9105ee2411dab73ca36caaa8af9": {
      "model_module": "@jupyter-widgets/controls",
      "model_module_version": "1.5.0",
      "model_name": "FloatProgressModel",
      "state": {
       "bar_style": "success",
       "description": "5625/5625",
       "layout": "IPY_MODEL_cc6b12915c184bb9a80107987c59986d",
       "max": 5625,
       "style": "IPY_MODEL_93cf849d02864f53b3c25e3717ba23a0",
       "value": 5625
      }
     },
     "c030384c4f604534919af86df5a8a6a4": {
      "model_module": "@jupyter-widgets/controls",
      "model_module_version": "1.5.0",
      "model_name": "ProgressStyleModel",
      "state": {
       "description_width": "initial"
      }
     },
     "c08000ad06a84d6bae838a1be92b17aa": {
      "model_module": "@jupyter-widgets/controls",
      "model_module_version": "1.5.0",
      "model_name": "DescriptionStyleModel",
      "state": {
       "description_width": ""
      }
     },
     "c0a88d83738041269b77a997eae77683": {
      "model_module": "@jupyter-widgets/controls",
      "model_module_version": "1.5.0",
      "model_name": "FloatProgressModel",
      "state": {
       "bar_style": "success",
       "description": "5625/5625",
       "layout": "IPY_MODEL_44a8390105074b75a9d55a7c1d65a484",
       "max": 5625,
       "style": "IPY_MODEL_fe353ef83d214ef391f712f60ae92294",
       "value": 5625
      }
     },
     "c0fbd789aa2f4b9aa2086a3e49415463": {
      "model_module": "@jupyter-widgets/controls",
      "model_module_version": "1.5.0",
      "model_name": "ProgressStyleModel",
      "state": {
       "description_width": "initial"
      }
     },
     "c1adb9b7d6a24dcaad10247bb1c82c63": {
      "model_module": "@jupyter-widgets/controls",
      "model_module_version": "1.5.0",
      "model_name": "HBoxModel",
      "state": {
       "children": [
        "IPY_MODEL_03dbb3bc44cf4480abbacf33abc1f617",
        "IPY_MODEL_b9d1260a895b4191b9631f9f3ffb5044"
       ],
       "layout": "IPY_MODEL_7d3582659d5543c29853e640dd23e07f"
      }
     },
     "c1dae2d9d304446dbc12b49322a269f8": {
      "model_module": "@jupyter-widgets/controls",
      "model_module_version": "1.5.0",
      "model_name": "HTMLModel",
      "state": {
       "layout": "IPY_MODEL_84d462b9d2a9479e9ec6ea028540dd80",
       "style": "IPY_MODEL_70410a903f634811909520874d60e98b",
       "value": " ETA: 00:00s - loss: 0.0282 - val_loss: 0.0275"
      }
     },
     "c1df0b4d0bac4e30ba8191a7ecd11fbd": {
      "model_module": "@jupyter-widgets/base",
      "model_module_version": "1.2.0",
      "model_name": "LayoutModel",
      "state": {
       "flex": "2"
      }
     },
     "c2614ca6a13c499bb80a9a2b75b6073c": {
      "model_module": "@jupyter-widgets/controls",
      "model_module_version": "1.5.0",
      "model_name": "HTMLModel",
      "state": {
       "layout": "IPY_MODEL_ff4755d3e7dc4a1ba127c955869887f8",
       "style": "IPY_MODEL_77f1c6b41fa54e85a1dd2702bb3f9c89",
       "value": " ETA: 00:00s - loss: 0.0310 - val_loss: 0.0298"
      }
     },
     "c272a79573a7448abbe3dcfea969cbf7": {
      "model_module": "@jupyter-widgets/controls",
      "model_module_version": "1.5.0",
      "model_name": "HTMLModel",
      "state": {
       "layout": "IPY_MODEL_a1f367b8775f4a8a9ec39c321782516b",
       "style": "IPY_MODEL_7e81800e77714278b34101dcfdb08bc7",
       "value": " ETA: 00:00s - loss: 0.0278 - val_loss: 0.0275"
      }
     },
     "c2996ad3ef30493abe15404732f1ff35": {
      "model_module": "@jupyter-widgets/controls",
      "model_module_version": "1.5.0",
      "model_name": "DescriptionStyleModel",
      "state": {
       "description_width": ""
      }
     },
     "c2e9a041d44340abb144533711fc686a": {
      "model_module": "@jupyter-widgets/controls",
      "model_module_version": "1.5.0",
      "model_name": "HTMLModel",
      "state": {
       "layout": "IPY_MODEL_c64a691003bb4004976143f259172ab2",
       "style": "IPY_MODEL_f5ae07c0782a4c60a1a5f422c5cb1514",
       "value": " ETA: 00:00s - loss: 0.0281 - val_loss: 0.0278"
      }
     },
     "c2ed766cfbe640378cf00e112cf525ab": {
      "model_module": "@jupyter-widgets/base",
      "model_module_version": "1.2.0",
      "model_name": "LayoutModel",
      "state": {}
     },
     "c3170e222ec74f7cb03e8ecdf5eb8e32": {
      "model_module": "@jupyter-widgets/base",
      "model_module_version": "1.2.0",
      "model_name": "LayoutModel",
      "state": {
       "display": "inline-flex",
       "flex_flow": "row wrap",
       "width": "100%"
      }
     },
     "c349da1c80844302b5100a45f39d78e6": {
      "model_module": "@jupyter-widgets/controls",
      "model_module_version": "1.5.0",
      "model_name": "ProgressStyleModel",
      "state": {
       "description_width": "initial"
      }
     },
     "c35daaa04a2a45d7b8e0a55fdcd6c380": {
      "model_module": "@jupyter-widgets/controls",
      "model_module_version": "1.5.0",
      "model_name": "DescriptionStyleModel",
      "state": {
       "description_width": ""
      }
     },
     "c366f793943a4ad2ae924614988dfc28": {
      "model_module": "@jupyter-widgets/controls",
      "model_module_version": "1.5.0",
      "model_name": "FloatProgressModel",
      "state": {
       "bar_style": "success",
       "description": "5625/5625",
       "layout": "IPY_MODEL_48ab8b43a69e4b20b9da9f4cc1742ba3",
       "max": 5625,
       "style": "IPY_MODEL_4869816589664523a3e478e064a4a961",
       "value": 5625
      }
     },
     "c3c9493ac0d344f4b3c14e04c8732991": {
      "model_module": "@jupyter-widgets/controls",
      "model_module_version": "1.5.0",
      "model_name": "DescriptionStyleModel",
      "state": {
       "description_width": ""
      }
     },
     "c407620178e84cc48d56d4009518dc29": {
      "model_module": "@jupyter-widgets/base",
      "model_module_version": "1.2.0",
      "model_name": "LayoutModel",
      "state": {
       "display": "inline-flex",
       "flex_flow": "row wrap",
       "width": "100%"
      }
     },
     "c428aba2ceb747828d8afdc892ede58a": {
      "model_module": "@jupyter-widgets/controls",
      "model_module_version": "1.5.0",
      "model_name": "HTMLModel",
      "state": {
       "layout": "IPY_MODEL_a59fbca3356e424a8fa963a844c6f30b",
       "style": "IPY_MODEL_892f4a7d93454ab59a3946ccdb3970e9",
       "value": " ETA: 00:00s - loss: 0.0279 - val_loss: 0.0271"
      }
     },
     "c4be8b28af434944b721f3e55bf9f444": {
      "model_module": "@jupyter-widgets/base",
      "model_module_version": "1.2.0",
      "model_name": "LayoutModel",
      "state": {
       "flex": "2"
      }
     },
     "c4fb39e99755424ca38c02469d16d651": {
      "model_module": "@jupyter-widgets/base",
      "model_module_version": "1.2.0",
      "model_name": "LayoutModel",
      "state": {
       "flex": "2"
      }
     },
     "c52566e740324dd590936bc2e46548df": {
      "model_module": "@jupyter-widgets/controls",
      "model_module_version": "1.5.0",
      "model_name": "FloatProgressModel",
      "state": {
       "bar_style": "success",
       "description": "5625/5625",
       "layout": "IPY_MODEL_7bf2e3b9fecc41f381550b6508eaf216",
       "max": 5625,
       "style": "IPY_MODEL_82750b2086b842a5bcb345ddaa36792d",
       "value": 5625
      }
     },
     "c5609af7eb934b9a9887078e9c0ff5c4": {
      "model_module": "@jupyter-widgets/controls",
      "model_module_version": "1.5.0",
      "model_name": "FloatProgressModel",
      "state": {
       "bar_style": "success",
       "description": "5625/5625",
       "layout": "IPY_MODEL_89a4961b6b2c40869379b9bd4108827a",
       "max": 5625,
       "style": "IPY_MODEL_78569c10f05a467eb12ada6dce4bfe2c",
       "value": 5625
      }
     },
     "c6068aba32eb493a8adedb5c38144993": {
      "model_module": "@jupyter-widgets/controls",
      "model_module_version": "1.5.0",
      "model_name": "DescriptionStyleModel",
      "state": {
       "description_width": ""
      }
     },
     "c616bc2c9d0f4675b13342829b80379c": {
      "model_module": "@jupyter-widgets/base",
      "model_module_version": "1.2.0",
      "model_name": "LayoutModel",
      "state": {
       "flex": "2"
      }
     },
     "c61daba3b1fd4836886713a7b9b905c8": {
      "model_module": "@jupyter-widgets/controls",
      "model_module_version": "1.5.0",
      "model_name": "DescriptionStyleModel",
      "state": {
       "description_width": ""
      }
     },
     "c64a691003bb4004976143f259172ab2": {
      "model_module": "@jupyter-widgets/base",
      "model_module_version": "1.2.0",
      "model_name": "LayoutModel",
      "state": {}
     },
     "c65978c6f8134880b91d84d21418f853": {
      "model_module": "@jupyter-widgets/base",
      "model_module_version": "1.2.0",
      "model_name": "LayoutModel",
      "state": {
       "display": "inline-flex",
       "flex_flow": "row wrap",
       "width": "100%"
      }
     },
     "c6755d7175b94925ae8d51582a0ac1b7": {
      "model_module": "@jupyter-widgets/base",
      "model_module_version": "1.2.0",
      "model_name": "LayoutModel",
      "state": {
       "display": "inline-flex",
       "flex_flow": "row wrap",
       "width": "100%"
      }
     },
     "c69970e41d2946629d206593238e61dc": {
      "model_module": "@jupyter-widgets/base",
      "model_module_version": "1.2.0",
      "model_name": "LayoutModel",
      "state": {}
     },
     "c6a14c6370aa46348e629dff4d65aeb4": {
      "model_module": "@jupyter-widgets/controls",
      "model_module_version": "1.5.0",
      "model_name": "HBoxModel",
      "state": {
       "children": [
        "IPY_MODEL_153faf815f9845b18bb41d21560571ca",
        "IPY_MODEL_e80559782c0d4cca881992ff41d0c558"
       ],
       "layout": "IPY_MODEL_dd127d1ba7dc42469b8a80ba11ae767d"
      }
     },
     "c6f31b8c06b649bd93450a0c0f95e3f7": {
      "model_module": "@jupyter-widgets/controls",
      "model_module_version": "1.5.0",
      "model_name": "FloatProgressModel",
      "state": {
       "bar_style": "success",
       "description": "5625/5625",
       "layout": "IPY_MODEL_aedb6bf0d8f143aa90bb6a605e58381d",
       "max": 5625,
       "style": "IPY_MODEL_d11fbf777aaf4e318f0f4531f877568e",
       "value": 5625
      }
     },
     "c705e91dd4654f62b6c3d33cbecdb5a7": {
      "model_module": "@jupyter-widgets/controls",
      "model_module_version": "1.5.0",
      "model_name": "DescriptionStyleModel",
      "state": {
       "description_width": ""
      }
     },
     "c71164027a214f038508cf9b504d0a5f": {
      "model_module": "@jupyter-widgets/controls",
      "model_module_version": "1.5.0",
      "model_name": "HBoxModel",
      "state": {
       "children": [
        "IPY_MODEL_90ce16723c3b40aeb58419a07b65ed3f",
        "IPY_MODEL_7112792b0c8745ed967573b794495f08"
       ],
       "layout": "IPY_MODEL_10adc6ae5b99433c93dfbabbf902ef47"
      }
     },
     "c78d2ab7d8ee4e669fdb96c177c5bc3d": {
      "model_module": "@jupyter-widgets/controls",
      "model_module_version": "1.5.0",
      "model_name": "DescriptionStyleModel",
      "state": {
       "description_width": ""
      }
     },
     "c7aaa7b324d4406fb50148b48df74a90": {
      "model_module": "@jupyter-widgets/base",
      "model_module_version": "1.2.0",
      "model_name": "LayoutModel",
      "state": {}
     },
     "c7cfa3511e3e42178e41b610dce265b2": {
      "model_module": "@jupyter-widgets/controls",
      "model_module_version": "1.5.0",
      "model_name": "FloatProgressModel",
      "state": {
       "bar_style": "success",
       "description": "5625/5625",
       "layout": "IPY_MODEL_ea83852e7a9242338c3381ff189c3cb7",
       "max": 5625,
       "style": "IPY_MODEL_a3bff1b1300c4873b1d5931ad9666a4f",
       "value": 5625
      }
     },
     "c7d20d6ec5934722924c7a81a3f05878": {
      "model_module": "@jupyter-widgets/base",
      "model_module_version": "1.2.0",
      "model_name": "LayoutModel",
      "state": {
       "flex": "2"
      }
     },
     "c80d160e5dc1450480756a46ea50735c": {
      "model_module": "@jupyter-widgets/controls",
      "model_module_version": "1.5.0",
      "model_name": "HBoxModel",
      "state": {
       "children": [
        "IPY_MODEL_b9240227733744ec94347ef6dec43a89",
        "IPY_MODEL_916d600c987e4f7ba9f0a2f62c5f2bbc"
       ],
       "layout": "IPY_MODEL_221e4533692c4bac9ac36e8ec5ff0a91"
      }
     },
     "c869b3a0b3b4400d93efbb9b9e6c972e": {
      "model_module": "@jupyter-widgets/base",
      "model_module_version": "1.2.0",
      "model_name": "LayoutModel",
      "state": {
       "flex": "2"
      }
     },
     "c933ed2c75ea48f8bf11c859b762e8d3": {
      "model_module": "@jupyter-widgets/base",
      "model_module_version": "1.2.0",
      "model_name": "LayoutModel",
      "state": {}
     },
     "c9466d04561740e789f9d737c6db6fad": {
      "model_module": "@jupyter-widgets/controls",
      "model_module_version": "1.5.0",
      "model_name": "ProgressStyleModel",
      "state": {
       "description_width": "initial"
      }
     },
     "c9c4eb0cbefa42d9800c21bd54be7c56": {
      "model_module": "@jupyter-widgets/base",
      "model_module_version": "1.2.0",
      "model_name": "LayoutModel",
      "state": {
       "display": "inline-flex",
       "flex_flow": "row wrap",
       "width": "100%"
      }
     },
     "c9d163d3f7764443809e0ea632ad5fb9": {
      "model_module": "@jupyter-widgets/controls",
      "model_module_version": "1.5.0",
      "model_name": "DescriptionStyleModel",
      "state": {
       "description_width": ""
      }
     },
     "c9d46ee4d14d485f90b0fa9dc0ed1525": {
      "model_module": "@jupyter-widgets/controls",
      "model_module_version": "1.5.0",
      "model_name": "DescriptionStyleModel",
      "state": {
       "description_width": ""
      }
     },
     "c9e79a4838b64deab92a174ab0e703bb": {
      "model_module": "@jupyter-widgets/controls",
      "model_module_version": "1.5.0",
      "model_name": "FloatProgressModel",
      "state": {
       "bar_style": "success",
       "description": "5625/5625",
       "layout": "IPY_MODEL_e733ec5fc82c4f1cbadc7d74f60ac20e",
       "max": 5625,
       "style": "IPY_MODEL_b6e3e2abe46147399338a8991f60711f",
       "value": 5625
      }
     },
     "c9f63ec9ea70469d8cce504527139407": {
      "model_module": "@jupyter-widgets/controls",
      "model_module_version": "1.5.0",
      "model_name": "HBoxModel",
      "state": {
       "children": [
        "IPY_MODEL_885f2463efbf4a10a4d865e054affedf",
        "IPY_MODEL_f48734ed0d584fe59eef5037d430d9e2"
       ],
       "layout": "IPY_MODEL_5552ff07d5fd44a597d566b470d781a7"
      }
     },
     "ca2f5124a763437187fc0b2f7217e4c4": {
      "model_module": "@jupyter-widgets/controls",
      "model_module_version": "1.5.0",
      "model_name": "DescriptionStyleModel",
      "state": {
       "description_width": ""
      }
     },
     "ca4e27dec3ef4fc1848b75113aa5e42d": {
      "model_module": "@jupyter-widgets/base",
      "model_module_version": "1.2.0",
      "model_name": "LayoutModel",
      "state": {
       "flex": "2"
      }
     },
     "ca5e258911c84bef8dd6824685102c1b": {
      "model_module": "@jupyter-widgets/controls",
      "model_module_version": "1.5.0",
      "model_name": "FloatProgressModel",
      "state": {
       "bar_style": "success",
       "description": "5625/5625",
       "layout": "IPY_MODEL_02e7a7cdc20d4e40994314726157699e",
       "max": 5625,
       "style": "IPY_MODEL_92803f1c71a94ba8bf331252ff37e809",
       "value": 5625
      }
     },
     "ca8d008f6c584bc0b04673ec0bf10aeb": {
      "model_module": "@jupyter-widgets/controls",
      "model_module_version": "1.5.0",
      "model_name": "HBoxModel",
      "state": {
       "children": [
        "IPY_MODEL_9db2fe4d5f284fd4904b9e65a83d5910",
        "IPY_MODEL_cd14fce4f1094f7e92874224b98e1a81"
       ],
       "layout": "IPY_MODEL_6e76326494274d96bfa21ccd854776f5"
      }
     },
     "ca9d246130bc4a61b74da2b626f50939": {
      "model_module": "@jupyter-widgets/base",
      "model_module_version": "1.2.0",
      "model_name": "LayoutModel",
      "state": {
       "display": "inline-flex",
       "flex_flow": "row wrap",
       "width": "100%"
      }
     },
     "cb02ce5faec54e29900be2ca9af691cb": {
      "model_module": "@jupyter-widgets/controls",
      "model_module_version": "1.5.0",
      "model_name": "HBoxModel",
      "state": {
       "children": [
        "IPY_MODEL_fd881da7fca54f958198692cb137f3bd",
        "IPY_MODEL_31255733753b42f2857797ea86d1829a"
       ],
       "layout": "IPY_MODEL_f2985dcd4e4244b9a3abfd75a0ff798a"
      }
     },
     "cb56542f3fd74061bb3b886619b12bd6": {
      "model_module": "@jupyter-widgets/controls",
      "model_module_version": "1.5.0",
      "model_name": "DescriptionStyleModel",
      "state": {
       "description_width": ""
      }
     },
     "cbaa335b130c49f59256b9a5be7e28a5": {
      "model_module": "@jupyter-widgets/base",
      "model_module_version": "1.2.0",
      "model_name": "LayoutModel",
      "state": {
       "display": "inline-flex",
       "flex_flow": "row wrap",
       "width": "100%"
      }
     },
     "cbbac51d88714c0c845b8ffef3850569": {
      "model_module": "@jupyter-widgets/base",
      "model_module_version": "1.2.0",
      "model_name": "LayoutModel",
      "state": {
       "display": "inline-flex",
       "flex_flow": "row wrap",
       "width": "100%"
      }
     },
     "cbdf8e29ebb6413d952ba81924f860ba": {
      "model_module": "@jupyter-widgets/base",
      "model_module_version": "1.2.0",
      "model_name": "LayoutModel",
      "state": {}
     },
     "cbe03168a4a94cd3a8f0af46c1d8e807": {
      "model_module": "@jupyter-widgets/controls",
      "model_module_version": "1.5.0",
      "model_name": "HTMLModel",
      "state": {
       "layout": "IPY_MODEL_bd9e38a88d634e5ab09e4bb5491ee5b4",
       "style": "IPY_MODEL_e99b4184a426481fae3c35d791f8248a",
       "value": " ETA: 00:00s - loss: 0.0287 - val_loss: 0.0278"
      }
     },
     "cc3d23f435014747a107d413b1ffc57d": {
      "model_module": "@jupyter-widgets/controls",
      "model_module_version": "1.5.0",
      "model_name": "HTMLModel",
      "state": {
       "layout": "IPY_MODEL_fa33eb045c734430b1812e786fc469f0",
       "style": "IPY_MODEL_28ec857b40974d5ea682237e02b22f72",
       "value": " ETA: 00:00s - loss: 0.0288 - val_loss: 0.0284"
      }
     },
     "cc54386507d343bbabca13b899284947": {
      "model_module": "@jupyter-widgets/controls",
      "model_module_version": "1.5.0",
      "model_name": "FloatProgressModel",
      "state": {
       "bar_style": "success",
       "description": "5625/5625",
       "layout": "IPY_MODEL_0309c8deb1464c5a95fafb640795179f",
       "max": 5625,
       "style": "IPY_MODEL_4df3b572dd7f4123a3caef5db9eaaa75",
       "value": 5625
      }
     },
     "cc6b12915c184bb9a80107987c59986d": {
      "model_module": "@jupyter-widgets/base",
      "model_module_version": "1.2.0",
      "model_name": "LayoutModel",
      "state": {
       "flex": "2"
      }
     },
     "cc93368c2af347638c3de4ecfeab2adf": {
      "model_module": "@jupyter-widgets/controls",
      "model_module_version": "1.5.0",
      "model_name": "FloatProgressModel",
      "state": {
       "bar_style": "success",
       "description": "5625/5625",
       "layout": "IPY_MODEL_575db23101c44aa99775c88d46a933a5",
       "max": 5625,
       "style": "IPY_MODEL_3871f89e357447c68bd5e637227d67d6",
       "value": 5625
      }
     },
     "cca5f96641834007af8e900301a36f42": {
      "model_module": "@jupyter-widgets/controls",
      "model_module_version": "1.5.0",
      "model_name": "FloatProgressModel",
      "state": {
       "bar_style": "success",
       "description": "5625/5625",
       "layout": "IPY_MODEL_47b2e5f3f4f54cb1857d328ef1d17f6c",
       "max": 5625,
       "style": "IPY_MODEL_fc2ffde06f284f92876e821f2df27f62",
       "value": 5625
      }
     },
     "ccbc49b4690d494ca4c0234fea3c0634": {
      "model_module": "@jupyter-widgets/controls",
      "model_module_version": "1.5.0",
      "model_name": "FloatProgressModel",
      "state": {
       "bar_style": "success",
       "description": "5625/5625",
       "layout": "IPY_MODEL_1bdc51e2d8ff46d2bee105d0cb68369e",
       "max": 5625,
       "style": "IPY_MODEL_4689e4275c064234b97feb4c96af3754",
       "value": 5625
      }
     },
     "ccd34e69feb64c98babd57b8ec19d7cd": {
      "model_module": "@jupyter-widgets/controls",
      "model_module_version": "1.5.0",
      "model_name": "HBoxModel",
      "state": {
       "children": [
        "IPY_MODEL_c6f31b8c06b649bd93450a0c0f95e3f7",
        "IPY_MODEL_641ee86720524911951f5a84011b9d7a"
       ],
       "layout": "IPY_MODEL_214476cd31714787b4ef8a11a30bcd01"
      }
     },
     "cd14fce4f1094f7e92874224b98e1a81": {
      "model_module": "@jupyter-widgets/controls",
      "model_module_version": "1.5.0",
      "model_name": "HTMLModel",
      "state": {
       "layout": "IPY_MODEL_83e423050818491883d4f589b890776a",
       "style": "IPY_MODEL_c35daaa04a2a45d7b8e0a55fdcd6c380",
       "value": " ETA: 00:00s - loss: 0.0281 - val_loss: 0.0276"
      }
     },
     "cd28e48bf2c4486986a4daf739e33064": {
      "model_module": "@jupyter-widgets/base",
      "model_module_version": "1.2.0",
      "model_name": "LayoutModel",
      "state": {}
     },
     "cd7e73859c454f0ba1ff4034ac8360a2": {
      "model_module": "@jupyter-widgets/controls",
      "model_module_version": "1.5.0",
      "model_name": "HBoxModel",
      "state": {
       "children": [
        "IPY_MODEL_c5609af7eb934b9a9887078e9c0ff5c4",
        "IPY_MODEL_29c840d84c3243eeb74db2e82b6b5ffa"
       ],
       "layout": "IPY_MODEL_1a06244aa7224ad8a1606cd0215fecd8"
      }
     },
     "cd8c5b0fd5a044159b184f14c99c5cf1": {
      "model_module": "@jupyter-widgets/controls",
      "model_module_version": "1.5.0",
      "model_name": "FloatProgressModel",
      "state": {
       "bar_style": "success",
       "description": "5625/5625",
       "layout": "IPY_MODEL_29edc82c4df34ba5beae9c7eaf959dd1",
       "max": 5625,
       "style": "IPY_MODEL_ff7839e8289646dbbb32ea362b520d77",
       "value": 5625
      }
     },
     "cd91479c0c7842e6ab9719e46a83e4cd": {
      "model_module": "@jupyter-widgets/controls",
      "model_module_version": "1.5.0",
      "model_name": "HTMLModel",
      "state": {
       "layout": "IPY_MODEL_bb28ddd18b8d4f828690fbd3d31867ab",
       "style": "IPY_MODEL_889e49b49235404091931015bd437815",
       "value": " ETA: 00:00s - loss: 0.0342 - val_loss: 0.0311"
      }
     },
     "cd9384edc4314879a1e02232cf72fba2": {
      "model_module": "@jupyter-widgets/controls",
      "model_module_version": "1.5.0",
      "model_name": "HTMLModel",
      "state": {
       "layout": "IPY_MODEL_1a55e5bb0d6b402b98171db1df296ec3",
       "style": "IPY_MODEL_5d2e71045ba04c9cab13a783dab13cae",
       "value": " ETA: 00:00s - loss: 0.0281 - val_loss: 0.0276"
      }
     },
     "cdc09969b13b44f78f837487a2679d97": {
      "model_module": "@jupyter-widgets/base",
      "model_module_version": "1.2.0",
      "model_name": "LayoutModel",
      "state": {
       "display": "inline-flex",
       "flex_flow": "row wrap",
       "width": "100%"
      }
     },
     "cdf234692c1c4a4991d7c11536b665f6": {
      "model_module": "@jupyter-widgets/controls",
      "model_module_version": "1.5.0",
      "model_name": "ProgressStyleModel",
      "state": {
       "description_width": "initial"
      }
     },
     "ce8cd73d65d34306a664448ad54942a8": {
      "model_module": "@jupyter-widgets/controls",
      "model_module_version": "1.5.0",
      "model_name": "DescriptionStyleModel",
      "state": {
       "description_width": ""
      }
     },
     "cec0b6ae21314d279ff23006d370aac4": {
      "model_module": "@jupyter-widgets/controls",
      "model_module_version": "1.5.0",
      "model_name": "DescriptionStyleModel",
      "state": {
       "description_width": ""
      }
     },
     "cec7104cb06f4f4ca1fab2d25268d76e": {
      "model_module": "@jupyter-widgets/base",
      "model_module_version": "1.2.0",
      "model_name": "LayoutModel",
      "state": {
       "display": "inline-flex",
       "flex_flow": "row wrap",
       "width": "100%"
      }
     },
     "cf471e4dd37a49c8ae36746cd2865296": {
      "model_module": "@jupyter-widgets/controls",
      "model_module_version": "1.5.0",
      "model_name": "FloatProgressModel",
      "state": {
       "bar_style": "success",
       "description": "5625/5625",
       "layout": "IPY_MODEL_0f56ff4b7cce47caa33b7640a3a10ab3",
       "max": 5625,
       "style": "IPY_MODEL_6560593e88fa4998a545f7e9c00c1a9b",
       "value": 5625
      }
     },
     "cf6659efaa8a4cc4b824cb011c138a8a": {
      "model_module": "@jupyter-widgets/controls",
      "model_module_version": "1.5.0",
      "model_name": "HTMLModel",
      "state": {
       "layout": "IPY_MODEL_6da8f5b7a236446d8e19157a53a785fc",
       "style": "IPY_MODEL_ca2f5124a763437187fc0b2f7217e4c4",
       "value": " ETA: 00:00s - loss: 0.0297 - val_loss: 0.0287"
      }
     },
     "d02b1bfc4b9844a8bf10447712859f60": {
      "model_module": "@jupyter-widgets/base",
      "model_module_version": "1.2.0",
      "model_name": "LayoutModel",
      "state": {
       "display": "inline-flex",
       "flex_flow": "row wrap",
       "width": "100%"
      }
     },
     "d05905205ebc4acb967adbb78902c0e3": {
      "model_module": "@jupyter-widgets/base",
      "model_module_version": "1.2.0",
      "model_name": "LayoutModel",
      "state": {}
     },
     "d067559b2d19449881d0cb964b9e402f": {
      "model_module": "@jupyter-widgets/controls",
      "model_module_version": "1.5.0",
      "model_name": "DescriptionStyleModel",
      "state": {
       "description_width": ""
      }
     },
     "d0820035d3cd4201b2a95629de337cdb": {
      "model_module": "@jupyter-widgets/controls",
      "model_module_version": "1.5.0",
      "model_name": "DescriptionStyleModel",
      "state": {
       "description_width": ""
      }
     },
     "d11fbf777aaf4e318f0f4531f877568e": {
      "model_module": "@jupyter-widgets/controls",
      "model_module_version": "1.5.0",
      "model_name": "ProgressStyleModel",
      "state": {
       "description_width": "initial"
      }
     },
     "d171ad4464b44e308f063365386ab1f6": {
      "model_module": "@jupyter-widgets/controls",
      "model_module_version": "1.5.0",
      "model_name": "HTMLModel",
      "state": {
       "layout": "IPY_MODEL_00fc840507ef44c4b4f544e19e8e4afd",
       "style": "IPY_MODEL_7bc8452a077b48499408f236edad2458",
       "value": " ETA: 00:00s - loss: 0.0279 - val_loss: 0.0274"
      }
     },
     "d1802c39fa0a477b9ba32f9b3f36ad1f": {
      "model_module": "@jupyter-widgets/base",
      "model_module_version": "1.2.0",
      "model_name": "LayoutModel",
      "state": {}
     },
     "d1faca9ca81a499b99975798d3aacf5e": {
      "model_module": "@jupyter-widgets/base",
      "model_module_version": "1.2.0",
      "model_name": "LayoutModel",
      "state": {
       "display": "inline-flex",
       "flex_flow": "row wrap",
       "width": "100%"
      }
     },
     "d221d3ab43b44072966adf4f2f9d7fe8": {
      "model_module": "@jupyter-widgets/controls",
      "model_module_version": "1.5.0",
      "model_name": "HTMLModel",
      "state": {
       "layout": "IPY_MODEL_2ee44423512d40069f5157711ebfaeb8",
       "style": "IPY_MODEL_ce8cd73d65d34306a664448ad54942a8",
       "value": " ETA: 00:00s - loss: 0.0281 - val_loss: 0.0278"
      }
     },
     "d2ed586324074a1db8cf4618aad8938e": {
      "model_module": "@jupyter-widgets/controls",
      "model_module_version": "1.5.0",
      "model_name": "FloatProgressModel",
      "state": {
       "bar_style": "success",
       "description": "5625/5625",
       "layout": "IPY_MODEL_f4b4ce4197464be59d5328c455fbf153",
       "max": 5625,
       "style": "IPY_MODEL_fdd64ac8bb8f4d89bbfa081074110fcf",
       "value": 5625
      }
     },
     "d3dd27cabc97426fadf075628b09b135": {
      "model_module": "@jupyter-widgets/base",
      "model_module_version": "1.2.0",
      "model_name": "LayoutModel",
      "state": {}
     },
     "d4099d87ae414c61a01fbe58de6ed859": {
      "model_module": "@jupyter-widgets/base",
      "model_module_version": "1.2.0",
      "model_name": "LayoutModel",
      "state": {}
     },
     "d4283ea96e54499a8252654f530171c5": {
      "model_module": "@jupyter-widgets/controls",
      "model_module_version": "1.5.0",
      "model_name": "FloatProgressModel",
      "state": {
       "bar_style": "success",
       "description": "5625/5625",
       "layout": "IPY_MODEL_ae9369ad63ff496081e6be1bd2f7d676",
       "max": 5625,
       "style": "IPY_MODEL_c349da1c80844302b5100a45f39d78e6",
       "value": 5625
      }
     },
     "d435ffe85d6e4f2fbdb7c9302792be83": {
      "model_module": "@jupyter-widgets/controls",
      "model_module_version": "1.5.0",
      "model_name": "HBoxModel",
      "state": {
       "children": [
        "IPY_MODEL_a32ec985bda144e3ac759ccb4a8a8696",
        "IPY_MODEL_4d2e84a69ec140ec8aaed66faf1d4240"
       ],
       "layout": "IPY_MODEL_132cde92f8a4456fbde2246c8a0eb369"
      }
     },
     "d44f8eaf8b8148348ac9ee478814d19b": {
      "model_module": "@jupyter-widgets/base",
      "model_module_version": "1.2.0",
      "model_name": "LayoutModel",
      "state": {}
     },
     "d44fccf4a7c14daca015a0ca745c3263": {
      "model_module": "@jupyter-widgets/controls",
      "model_module_version": "1.5.0",
      "model_name": "HBoxModel",
      "state": {
       "children": [
        "IPY_MODEL_97c963d0862142a28cc1eb7f60faf30e",
        "IPY_MODEL_9d422cd5468f40b5952ff1213d9ee371"
       ],
       "layout": "IPY_MODEL_5b234dd0a7e043d2bb51e32f376612cf"
      }
     },
     "d4aa1bae0ddf4fc38bc942ee740aadd7": {
      "model_module": "@jupyter-widgets/base",
      "model_module_version": "1.2.0",
      "model_name": "LayoutModel",
      "state": {
       "display": "inline-flex",
       "flex_flow": "row wrap",
       "width": "100%"
      }
     },
     "d4be78a36a8d47b5a5af043d0517fc9b": {
      "model_module": "@jupyter-widgets/base",
      "model_module_version": "1.2.0",
      "model_name": "LayoutModel",
      "state": {
       "flex": "2"
      }
     },
     "d4d53621d3614ea896f6a04d92bf7d2d": {
      "model_module": "@jupyter-widgets/controls",
      "model_module_version": "1.5.0",
      "model_name": "ProgressStyleModel",
      "state": {
       "description_width": "initial"
      }
     },
     "d51208c1545d4a68b5d5e24146295069": {
      "model_module": "@jupyter-widgets/base",
      "model_module_version": "1.2.0",
      "model_name": "LayoutModel",
      "state": {
       "flex": "2"
      }
     },
     "d5142a33dc03451f857c1a0fce7f4b82": {
      "model_module": "@jupyter-widgets/controls",
      "model_module_version": "1.5.0",
      "model_name": "DescriptionStyleModel",
      "state": {
       "description_width": ""
      }
     },
     "d55fffc887c242fcab87bc1eb8a753a0": {
      "model_module": "@jupyter-widgets/controls",
      "model_module_version": "1.5.0",
      "model_name": "HBoxModel",
      "state": {
       "children": [
        "IPY_MODEL_1dcba4afcc774442903b11af4d3c698c",
        "IPY_MODEL_e993f1ce8bda4e8cb85cbe98124431be"
       ],
       "layout": "IPY_MODEL_1c9ca5c737e54457b6ea38cfec1b339b"
      }
     },
     "d5acfcc2aa604ab1a44d702174c41434": {
      "model_module": "@jupyter-widgets/controls",
      "model_module_version": "1.5.0",
      "model_name": "DescriptionStyleModel",
      "state": {
       "description_width": ""
      }
     },
     "d68e8f857ce345ea9d443e794bcc7075": {
      "model_module": "@jupyter-widgets/base",
      "model_module_version": "1.2.0",
      "model_name": "LayoutModel",
      "state": {}
     },
     "d692bf2e9f004a828509c164a9a4903e": {
      "model_module": "@jupyter-widgets/controls",
      "model_module_version": "1.5.0",
      "model_name": "ProgressStyleModel",
      "state": {
       "description_width": "initial"
      }
     },
     "d73cf927536b4e0e932b84e92c685da7": {
      "model_module": "@jupyter-widgets/controls",
      "model_module_version": "1.5.0",
      "model_name": "HBoxModel",
      "state": {
       "children": [
        "IPY_MODEL_258ecffc051f476e8ed58305724d23d9",
        "IPY_MODEL_9722ba5a86f4423e9f484b28157b5e70"
       ],
       "layout": "IPY_MODEL_581a572f94cc41e4a5259486f0ef7bfb"
      }
     },
     "d7ea1305a81c442f8663dc01a8128051": {
      "model_module": "@jupyter-widgets/controls",
      "model_module_version": "1.5.0",
      "model_name": "HTMLModel",
      "state": {
       "layout": "IPY_MODEL_408d4eeeeec14f75b504ac9bd210490b",
       "style": "IPY_MODEL_fb5ae6451137412283118c58063db94a",
       "value": " ETA: 00:00s - loss: 0.0291 - val_loss: 0.0292"
      }
     },
     "d88746fb0b0a40658d42b70c792fc1be": {
      "model_module": "@jupyter-widgets/controls",
      "model_module_version": "1.5.0",
      "model_name": "HTMLModel",
      "state": {
       "layout": "IPY_MODEL_70ea983b4f20458d93afa60b05ed1748",
       "style": "IPY_MODEL_c6068aba32eb493a8adedb5c38144993",
       "value": " ETA: 00:00s - loss: 0.0282 - val_loss: 0.0274"
      }
     },
     "d8d5397f4ee54882be430e7d317893e5": {
      "model_module": "@jupyter-widgets/base",
      "model_module_version": "1.2.0",
      "model_name": "LayoutModel",
      "state": {
       "flex": "2"
      }
     },
     "d8ed639a7b524dc798ba4f76e16694e6": {
      "model_module": "@jupyter-widgets/controls",
      "model_module_version": "1.5.0",
      "model_name": "HBoxModel",
      "state": {
       "children": [
        "IPY_MODEL_7c71b92b00474665876e38e49c4b98c3",
        "IPY_MODEL_4d9126fbc54b4e1fbacfe6e4487eeee8"
       ],
       "layout": "IPY_MODEL_f95dd5ccd31741f68bedf86ec86a3b67"
      }
     },
     "d90c48d6e2c644fca7b0c33e12fbe982": {
      "model_module": "@jupyter-widgets/base",
      "model_module_version": "1.2.0",
      "model_name": "LayoutModel",
      "state": {}
     },
     "d9128200edbe4f22a4bc5adfda65c317": {
      "model_module": "@jupyter-widgets/controls",
      "model_module_version": "1.5.0",
      "model_name": "DescriptionStyleModel",
      "state": {
       "description_width": ""
      }
     },
     "d916ac61ff9943b8845625ad466fa65a": {
      "model_module": "@jupyter-widgets/base",
      "model_module_version": "1.2.0",
      "model_name": "LayoutModel",
      "state": {
       "display": "inline-flex",
       "flex_flow": "row wrap",
       "width": "100%"
      }
     },
     "d924f766e04349c9a73ff71ad28aed12": {
      "model_module": "@jupyter-widgets/controls",
      "model_module_version": "1.5.0",
      "model_name": "ProgressStyleModel",
      "state": {
       "description_width": "initial"
      }
     },
     "d93f91aab4a248d7bf8573002088f9fd": {
      "model_module": "@jupyter-widgets/controls",
      "model_module_version": "1.5.0",
      "model_name": "ProgressStyleModel",
      "state": {
       "description_width": "initial"
      }
     },
     "d967a178fbb84a18b39ea2835ab2f0d7": {
      "model_module": "@jupyter-widgets/controls",
      "model_module_version": "1.5.0",
      "model_name": "DescriptionStyleModel",
      "state": {
       "description_width": ""
      }
     },
     "d99371ae61df4341af0e087a42a222cf": {
      "model_module": "@jupyter-widgets/controls",
      "model_module_version": "1.5.0",
      "model_name": "ProgressStyleModel",
      "state": {
       "description_width": "initial"
      }
     },
     "d9b90aa483864dc8a8db748244f0b36a": {
      "model_module": "@jupyter-widgets/controls",
      "model_module_version": "1.5.0",
      "model_name": "ProgressStyleModel",
      "state": {
       "description_width": "initial"
      }
     },
     "d9d54df79190464989e7870248e6679b": {
      "model_module": "@jupyter-widgets/controls",
      "model_module_version": "1.5.0",
      "model_name": "HTMLModel",
      "state": {
       "layout": "IPY_MODEL_54226ab20af6425e83a46fa59373a6e8",
       "style": "IPY_MODEL_fc4af7b817494b0ebfc53e3fb585ce18",
       "value": " ETA: 00:00s - loss: 0.0280 - val_loss: 0.0275"
      }
     },
     "da242f11363f4c6db14ed2919251caa4": {
      "model_module": "@jupyter-widgets/controls",
      "model_module_version": "1.5.0",
      "model_name": "ProgressStyleModel",
      "state": {
       "description_width": "initial"
      }
     },
     "da4fb045f35e4e5cafe1be077ce84d47": {
      "model_module": "@jupyter-widgets/controls",
      "model_module_version": "1.5.0",
      "model_name": "ProgressStyleModel",
      "state": {
       "description_width": "initial"
      }
     },
     "da6715456e7a404d88be4128ef118c8c": {
      "model_module": "@jupyter-widgets/controls",
      "model_module_version": "1.5.0",
      "model_name": "HBoxModel",
      "state": {
       "children": [
        "IPY_MODEL_fbaa3a7546be4cbb8c86bf67220f8abc",
        "IPY_MODEL_841a49f462604253829e44cd70b91926"
       ],
       "layout": "IPY_MODEL_625590bd0dba464bbde7edf821e14b33"
      }
     },
     "da8eb70a90a44ec48fde48fc5780439c": {
      "model_module": "@jupyter-widgets/controls",
      "model_module_version": "1.5.0",
      "model_name": "DescriptionStyleModel",
      "state": {
       "description_width": ""
      }
     },
     "dae2b39f70bd4f53ac4a7584985121e3": {
      "model_module": "@jupyter-widgets/controls",
      "model_module_version": "1.5.0",
      "model_name": "ProgressStyleModel",
      "state": {
       "description_width": "initial"
      }
     },
     "daf3ff81f2684893abc757f91c87a354": {
      "model_module": "@jupyter-widgets/controls",
      "model_module_version": "1.5.0",
      "model_name": "FloatProgressModel",
      "state": {
       "bar_style": "success",
       "description": "5625/5625",
       "layout": "IPY_MODEL_09560fa8b1754570a2e72f22c37dc655",
       "max": 5625,
       "style": "IPY_MODEL_75ec327337e54915bd555caec530a741",
       "value": 5625
      }
     },
     "db23ce2628ba45fdac5a9c39a63358e5": {
      "model_module": "@jupyter-widgets/controls",
      "model_module_version": "1.5.0",
      "model_name": "HTMLModel",
      "state": {
       "layout": "IPY_MODEL_d3dd27cabc97426fadf075628b09b135",
       "style": "IPY_MODEL_75fccffaac8045c3928578e6ba6aad04",
       "value": " ETA: 00:00s - loss: 0.0282 - val_loss: 0.0280"
      }
     },
     "db511eefa2b342e09064da8bb1ecbd9a": {
      "model_module": "@jupyter-widgets/controls",
      "model_module_version": "1.5.0",
      "model_name": "FloatProgressModel",
      "state": {
       "bar_style": "success",
       "description": "5625/5625",
       "layout": "IPY_MODEL_03af5f8160e34ff9aa2cdffb6a11466d",
       "max": 5625,
       "style": "IPY_MODEL_ffa3edd088a445119286b741ed16b497",
       "value": 5625
      }
     },
     "dbace7ed10bf4ac1bc60499a268a6849": {
      "model_module": "@jupyter-widgets/controls",
      "model_module_version": "1.5.0",
      "model_name": "HBoxModel",
      "state": {
       "children": [
        "IPY_MODEL_5e887446b6f34209b8da24a3fc99d871",
        "IPY_MODEL_cd91479c0c7842e6ab9719e46a83e4cd"
       ],
       "layout": "IPY_MODEL_401e53c526ab4ff7b3ba43bc63399fac"
      }
     },
     "dc05f86ac4334ea1852d4f166952f836": {
      "model_module": "@jupyter-widgets/controls",
      "model_module_version": "1.5.0",
      "model_name": "HBoxModel",
      "state": {
       "children": [
        "IPY_MODEL_af6a7c3295834c48882a5a169b169a14",
        "IPY_MODEL_a45ea16605314d6bbf512a6a7780ed9c"
       ],
       "layout": "IPY_MODEL_0755b3cbf6e14f70846aadb3659b4145"
      }
     },
     "dc62fe08898c48c4ab7187dcda5004e9": {
      "model_module": "@jupyter-widgets/controls",
      "model_module_version": "1.5.0",
      "model_name": "ProgressStyleModel",
      "state": {
       "description_width": "initial"
      }
     },
     "dcac9e0db0394a58973664010a4f4457": {
      "model_module": "@jupyter-widgets/controls",
      "model_module_version": "1.5.0",
      "model_name": "HBoxModel",
      "state": {
       "children": [
        "IPY_MODEL_94d3d74a450a43d7b04def9e7ad6d368",
        "IPY_MODEL_7bec785489774651961e29c942c13faf"
       ],
       "layout": "IPY_MODEL_9b2a906004dc41b7b3b52ec0bafca5a6"
      }
     },
     "dccdb8cefc6c4f138e1232f1befabeb7": {
      "model_module": "@jupyter-widgets/controls",
      "model_module_version": "1.5.0",
      "model_name": "HTMLModel",
      "state": {
       "layout": "IPY_MODEL_f945e40a89914f44a0ccd3412458f839",
       "style": "IPY_MODEL_3e84eb6e24ea49b4b1bb1271fd09680c",
       "value": " ETA: 00:00s - loss: 0.0285 - val_loss: 0.0280"
      }
     },
     "dd127d1ba7dc42469b8a80ba11ae767d": {
      "model_module": "@jupyter-widgets/base",
      "model_module_version": "1.2.0",
      "model_name": "LayoutModel",
      "state": {
       "display": "inline-flex",
       "flex_flow": "row wrap",
       "width": "100%"
      }
     },
     "dd6202ef0977466aab90bd6942159595": {
      "model_module": "@jupyter-widgets/controls",
      "model_module_version": "1.5.0",
      "model_name": "ProgressStyleModel",
      "state": {
       "description_width": "initial"
      }
     },
     "dd6f6a02643344f088c7ce0b43d24707": {
      "model_module": "@jupyter-widgets/controls",
      "model_module_version": "1.5.0",
      "model_name": "FloatProgressModel",
      "state": {
       "bar_style": "success",
       "description": "5625/5625",
       "layout": "IPY_MODEL_6e945b0d65fd4f859997eb4fc3975c3e",
       "max": 5625,
       "style": "IPY_MODEL_45301ed6a79a4c0cac6320a2f50a81d0",
       "value": 5625
      }
     },
     "dd8ec37495024489ad233ab8cdd52813": {
      "model_module": "@jupyter-widgets/controls",
      "model_module_version": "1.5.0",
      "model_name": "DescriptionStyleModel",
      "state": {
       "description_width": ""
      }
     },
     "dd9f4bbae858464081d936c9736ba86e": {
      "model_module": "@jupyter-widgets/controls",
      "model_module_version": "1.5.0",
      "model_name": "ProgressStyleModel",
      "state": {
       "description_width": "initial"
      }
     },
     "dda819974ba14595b881dc10113b1d96": {
      "model_module": "@jupyter-widgets/base",
      "model_module_version": "1.2.0",
      "model_name": "LayoutModel",
      "state": {
       "flex": "2"
      }
     },
     "de2731f593fa4c50b5865d765ed57eed": {
      "model_module": "@jupyter-widgets/controls",
      "model_module_version": "1.5.0",
      "model_name": "HBoxModel",
      "state": {
       "children": [
        "IPY_MODEL_c7cfa3511e3e42178e41b610dce265b2",
        "IPY_MODEL_005a744e1d374721861690a175111694"
       ],
       "layout": "IPY_MODEL_940c49a98ad749e18c0a58957902c50c"
      }
     },
     "deaeb367a4a644b8a25c77338a371732": {
      "model_module": "@jupyter-widgets/controls",
      "model_module_version": "1.5.0",
      "model_name": "HTMLModel",
      "state": {
       "layout": "IPY_MODEL_05c8e8ac1cd54c6d944771ad782529f6",
       "style": "IPY_MODEL_42dfcdd2a4c842c8937d0a58c608cde4",
       "value": " ETA: 00:00s - loss: 0.0284 - val_loss: 0.0278"
      }
     },
     "dee4cbc8145a49c4834d0e1d5c6e8bc3": {
      "model_module": "@jupyter-widgets/controls",
      "model_module_version": "1.5.0",
      "model_name": "ProgressStyleModel",
      "state": {
       "description_width": "initial"
      }
     },
     "df08a942683e496483803c1d84916784": {
      "model_module": "@jupyter-widgets/base",
      "model_module_version": "1.2.0",
      "model_name": "LayoutModel",
      "state": {}
     },
     "df472eb00ba144769faf29dafaf940d2": {
      "model_module": "@jupyter-widgets/controls",
      "model_module_version": "1.5.0",
      "model_name": "DescriptionStyleModel",
      "state": {
       "description_width": ""
      }
     },
     "df63f66e8f9c41f090b1ba7aba3d4878": {
      "model_module": "@jupyter-widgets/base",
      "model_module_version": "1.2.0",
      "model_name": "LayoutModel",
      "state": {}
     },
     "dfc4d4ef9abb42618671cc7fdcacb180": {
      "model_module": "@jupyter-widgets/base",
      "model_module_version": "1.2.0",
      "model_name": "LayoutModel",
      "state": {
       "display": "inline-flex",
       "flex_flow": "row wrap",
       "width": "100%"
      }
     },
     "dfca781f40b84974a820d4609e18ecea": {
      "model_module": "@jupyter-widgets/controls",
      "model_module_version": "1.5.0",
      "model_name": "FloatProgressModel",
      "state": {
       "bar_style": "success",
       "description": "5625/5625",
       "layout": "IPY_MODEL_3acdd36e24cf46b5805cf18c9432ae37",
       "max": 5625,
       "style": "IPY_MODEL_09d4eab0dbb347fc8d836048522c9edb",
       "value": 5625
      }
     },
     "dfe9f0e1995a4e398ecae70a617b5f8e": {
      "model_module": "@jupyter-widgets/base",
      "model_module_version": "1.2.0",
      "model_name": "LayoutModel",
      "state": {}
     },
     "e007469b407e4da3ac449810ea28eac8": {
      "model_module": "@jupyter-widgets/controls",
      "model_module_version": "1.5.0",
      "model_name": "FloatProgressModel",
      "state": {
       "bar_style": "success",
       "description": "5625/5625",
       "layout": "IPY_MODEL_aa55e6be88f04d128145be200e5fa928",
       "max": 5625,
       "style": "IPY_MODEL_fa14a7a4db8b4892a50e14b17f7aaf82",
       "value": 5625
      }
     },
     "e0436bb35bc74768aa70aa1b240c8ed9": {
      "model_module": "@jupyter-widgets/controls",
      "model_module_version": "1.5.0",
      "model_name": "HTMLModel",
      "state": {
       "layout": "IPY_MODEL_a466b99f27604bc4acdb7e85abdae488",
       "style": "IPY_MODEL_d967a178fbb84a18b39ea2835ab2f0d7",
       "value": " ETA: 00:00s - loss: 0.0285 - val_loss: 0.0278"
      }
     },
     "e0522a37d45b437b82fed6d519f0c2e4": {
      "model_module": "@jupyter-widgets/controls",
      "model_module_version": "1.5.0",
      "model_name": "HBoxModel",
      "state": {
       "children": [
        "IPY_MODEL_410162500edd40818fcb52db6ac7fabe",
        "IPY_MODEL_1c402472b2c94bf48c1299603d056cd0"
       ],
       "layout": "IPY_MODEL_7e48653af4d7443382387a108f650f17"
      }
     },
     "e111043ce2a748a09ce47c257d17ed88": {
      "model_module": "@jupyter-widgets/controls",
      "model_module_version": "1.5.0",
      "model_name": "ProgressStyleModel",
      "state": {
       "description_width": "initial"
      }
     },
     "e1175485b3c94444926efc564e5a55d1": {
      "model_module": "@jupyter-widgets/base",
      "model_module_version": "1.2.0",
      "model_name": "LayoutModel",
      "state": {
       "flex": "2"
      }
     },
     "e18b9108559d40e4a91748ed01eba750": {
      "model_module": "@jupyter-widgets/controls",
      "model_module_version": "1.5.0",
      "model_name": "ProgressStyleModel",
      "state": {
       "description_width": "initial"
      }
     },
     "e208f0037e3a49afae1878a224db2e52": {
      "model_module": "@jupyter-widgets/controls",
      "model_module_version": "1.5.0",
      "model_name": "HTMLModel",
      "state": {
       "layout": "IPY_MODEL_86ba181962b84abf9d5ea72c4858acc7",
       "style": "IPY_MODEL_d0820035d3cd4201b2a95629de337cdb",
       "value": " ETA: 00:00s - loss: 0.0292 - val_loss: 0.0283"
      }
     },
     "e21a532646654d5eacd52a2afde6161f": {
      "model_module": "@jupyter-widgets/controls",
      "model_module_version": "1.5.0",
      "model_name": "ProgressStyleModel",
      "state": {
       "description_width": "initial"
      }
     },
     "e290960c4d2e42a3856914fb9748b6b7": {
      "model_module": "@jupyter-widgets/base",
      "model_module_version": "1.2.0",
      "model_name": "LayoutModel",
      "state": {
       "display": "inline-flex",
       "flex_flow": "row wrap",
       "width": "100%"
      }
     },
     "e2a377ffda4f4d7798780d5d752321a7": {
      "model_module": "@jupyter-widgets/controls",
      "model_module_version": "1.5.0",
      "model_name": "ProgressStyleModel",
      "state": {
       "description_width": "initial"
      }
     },
     "e2d243ad557846ac9940d53a7238c473": {
      "model_module": "@jupyter-widgets/base",
      "model_module_version": "1.2.0",
      "model_name": "LayoutModel",
      "state": {
       "flex": "2"
      }
     },
     "e2e4c7c2231048d1b5d2ca8e75a2884c": {
      "model_module": "@jupyter-widgets/controls",
      "model_module_version": "1.5.0",
      "model_name": "ProgressStyleModel",
      "state": {
       "description_width": "initial"
      }
     },
     "e2f923c8075f4a3ab787f943d1a54cb2": {
      "model_module": "@jupyter-widgets/base",
      "model_module_version": "1.2.0",
      "model_name": "LayoutModel",
      "state": {
       "flex": "2"
      }
     },
     "e326fb8d43e14b4da9f113f849d8a7c7": {
      "model_module": "@jupyter-widgets/controls",
      "model_module_version": "1.5.0",
      "model_name": "FloatProgressModel",
      "state": {
       "bar_style": "success",
       "description": "5625/5625",
       "layout": "IPY_MODEL_582b5b6733df472d95239d72516f84f1",
       "max": 5625,
       "style": "IPY_MODEL_7611c8e591994682a9bcf3ae57228d05",
       "value": 5625
      }
     },
     "e3d9988a7cda49e4a605c8440dbc2692": {
      "model_module": "@jupyter-widgets/base",
      "model_module_version": "1.2.0",
      "model_name": "LayoutModel",
      "state": {
       "display": "inline-flex",
       "flex_flow": "row wrap",
       "width": "100%"
      }
     },
     "e3dc93b03ba4453dab2f9a442ac34072": {
      "model_module": "@jupyter-widgets/base",
      "model_module_version": "1.2.0",
      "model_name": "LayoutModel",
      "state": {
       "display": "inline-flex",
       "flex_flow": "row wrap",
       "width": "100%"
      }
     },
     "e4119b58fa5b4235a7e0054f092013f7": {
      "model_module": "@jupyter-widgets/base",
      "model_module_version": "1.2.0",
      "model_name": "LayoutModel",
      "state": {}
     },
     "e42f21088d42428aba2b06420f3ef57d": {
      "model_module": "@jupyter-widgets/controls",
      "model_module_version": "1.5.0",
      "model_name": "HTMLModel",
      "state": {
       "layout": "IPY_MODEL_55d8af22bccf40fe99a3467936d92204",
       "style": "IPY_MODEL_053358e706034bf28b817adb560e0df3",
       "value": " ETA: 00:00s - loss: 0.0284 - val_loss: 0.0277"
      }
     },
     "e43930f9533540608b6ed279f678d72d": {
      "model_module": "@jupyter-widgets/controls",
      "model_module_version": "1.5.0",
      "model_name": "FloatProgressModel",
      "state": {
       "bar_style": "success",
       "description": "5625/5625",
       "layout": "IPY_MODEL_29bab2a634734479a9012fdde2548195",
       "max": 5625,
       "style": "IPY_MODEL_25ed41c65a8e4f4eb4668f3e15b20af6",
       "value": 5625
      }
     },
     "e465b2b5ac61423a836947ed6ed60c7e": {
      "model_module": "@jupyter-widgets/controls",
      "model_module_version": "1.5.0",
      "model_name": "HTMLModel",
      "state": {
       "layout": "IPY_MODEL_85f9c15ad3a946efbadf0682889ac3f4",
       "style": "IPY_MODEL_2b3ab2a929e94fb9b431886b23f33d22",
       "value": " ETA: 00:00s - loss: 0.0284 - val_loss: 0.0282"
      }
     },
     "e4f3c18b87dd4be9b22cc65bf971dc5e": {
      "model_module": "@jupyter-widgets/controls",
      "model_module_version": "1.5.0",
      "model_name": "ProgressStyleModel",
      "state": {
       "description_width": "initial"
      }
     },
     "e5013d3bb2934c0fba84938eb4b6f0c7": {
      "model_module": "@jupyter-widgets/controls",
      "model_module_version": "1.5.0",
      "model_name": "HTMLModel",
      "state": {
       "layout": "IPY_MODEL_6dc4ffb67a1748deb5c66a58a1a22ec2",
       "style": "IPY_MODEL_0d23c21bf6ed4d15ae18101f62577665",
       "value": " ETA: 00:00s - loss: 0.0280 - val_loss: 0.0274"
      }
     },
     "e501b7339b114663a999438ee7e46ebb": {
      "model_module": "@jupyter-widgets/controls",
      "model_module_version": "1.5.0",
      "model_name": "FloatProgressModel",
      "state": {
       "bar_style": "success",
       "description": "5625/5625",
       "layout": "IPY_MODEL_d8d5397f4ee54882be430e7d317893e5",
       "max": 5625,
       "style": "IPY_MODEL_7c6326abcc704f4c8662c1f8825353c1",
       "value": 5625
      }
     },
     "e537a49395c1421694c61029c1754608": {
      "model_module": "@jupyter-widgets/base",
      "model_module_version": "1.2.0",
      "model_name": "LayoutModel",
      "state": {
       "display": "inline-flex",
       "flex_flow": "row wrap",
       "width": "100%"
      }
     },
     "e5394624297141c882fd3643a1e59527": {
      "model_module": "@jupyter-widgets/base",
      "model_module_version": "1.2.0",
      "model_name": "LayoutModel",
      "state": {
       "display": "inline-flex",
       "flex_flow": "row wrap",
       "width": "100%"
      }
     },
     "e5419f9889fc4167abb6c657ecfa9416": {
      "model_module": "@jupyter-widgets/base",
      "model_module_version": "1.2.0",
      "model_name": "LayoutModel",
      "state": {
       "flex": "2"
      }
     },
     "e5d23871668541c8af0d85a994ce7bba": {
      "model_module": "@jupyter-widgets/controls",
      "model_module_version": "1.5.0",
      "model_name": "HTMLModel",
      "state": {
       "layout": "IPY_MODEL_04b4fe01f4274cc49a7932e71aff9838",
       "style": "IPY_MODEL_0040977c85e4494ea0e4d3be50be402e",
       "value": " ETA: 00:00s - loss: 0.0281 - val_loss: 0.0277"
      }
     },
     "e5d94a99c14c48fea7a54820c1f1972d": {
      "model_module": "@jupyter-widgets/controls",
      "model_module_version": "1.5.0",
      "model_name": "HBoxModel",
      "state": {
       "children": [
        "IPY_MODEL_06108cf1f95b4aa8abc2ef2e5b5c6b0b",
        "IPY_MODEL_973b6e8e79d248ceabb45275dced8d76"
       ],
       "layout": "IPY_MODEL_34a347158e334e158b18182b49584b0d"
      }
     },
     "e638dbf5260042ee990a7d93b4343182": {
      "model_module": "@jupyter-widgets/controls",
      "model_module_version": "1.5.0",
      "model_name": "HBoxModel",
      "state": {
       "children": [
        "IPY_MODEL_876e93bf08b543dba42dad12ed321faf",
        "IPY_MODEL_9e6df08c10754ff5b1b590dc1f6b01a5"
       ],
       "layout": "IPY_MODEL_3335cb6387754513a6b2882e933e530c"
      }
     },
     "e650c8f07ad642f3b578c00a69395aa8": {
      "model_module": "@jupyter-widgets/controls",
      "model_module_version": "1.5.0",
      "model_name": "HTMLModel",
      "state": {
       "layout": "IPY_MODEL_ffa0d7e7ec8e4b24b629fbb95ba07de2",
       "style": "IPY_MODEL_2b7dea1b35d44decb60c6bc576f7bc0c",
       "value": " ETA: 00:00s - loss: 0.0278 - val_loss: 0.0276"
      }
     },
     "e68886e5b43f4569a9a9fd5ef8a1a66d": {
      "model_module": "@jupyter-widgets/base",
      "model_module_version": "1.2.0",
      "model_name": "LayoutModel",
      "state": {
       "display": "inline-flex",
       "flex_flow": "row wrap",
       "width": "100%"
      }
     },
     "e6ef989de5f44ece90dc2b88a1995475": {
      "model_module": "@jupyter-widgets/base",
      "model_module_version": "1.2.0",
      "model_name": "LayoutModel",
      "state": {
       "flex": "2"
      }
     },
     "e7055d1cc9d942aa84daeff8dc0c4edf": {
      "model_module": "@jupyter-widgets/controls",
      "model_module_version": "1.5.0",
      "model_name": "HBoxModel",
      "state": {
       "children": [
        "IPY_MODEL_7e16223ba154410490b5b26fb192abaa",
        "IPY_MODEL_d221d3ab43b44072966adf4f2f9d7fe8"
       ],
       "layout": "IPY_MODEL_0220ba917d8b41bf9796276d1512b220"
      }
     },
     "e70680f8ecd34127aab6fef1e1a6b574": {
      "model_module": "@jupyter-widgets/controls",
      "model_module_version": "1.5.0",
      "model_name": "HTMLModel",
      "state": {
       "layout": "IPY_MODEL_f5826e8ff43b4b329b28160d73b2c1d3",
       "style": "IPY_MODEL_4ba8cd4381924ac7af6458c14c3bb98b",
       "value": " ETA: 00:00s - loss: 0.0286 - val_loss: 0.0282"
      }
     },
     "e733ec5fc82c4f1cbadc7d74f60ac20e": {
      "model_module": "@jupyter-widgets/base",
      "model_module_version": "1.2.0",
      "model_name": "LayoutModel",
      "state": {
       "flex": "2"
      }
     },
     "e787b117bfcf47cdb9d9942b4f7078a1": {
      "model_module": "@jupyter-widgets/controls",
      "model_module_version": "1.5.0",
      "model_name": "HTMLModel",
      "state": {
       "layout": "IPY_MODEL_94f7b2fa615f48e08d22de5e8c523e91",
       "style": "IPY_MODEL_01886c3f7ea044c2b89ef3b2ad19fdde",
       "value": " ETA: 00:00s - loss: 0.0283 - val_loss: 0.0275"
      }
     },
     "e798e2e0ec014c30b9e2fe67838be38f": {
      "model_module": "@jupyter-widgets/base",
      "model_module_version": "1.2.0",
      "model_name": "LayoutModel",
      "state": {}
     },
     "e7a2fdcc734b44f18720d05be31e6768": {
      "model_module": "@jupyter-widgets/base",
      "model_module_version": "1.2.0",
      "model_name": "LayoutModel",
      "state": {}
     },
     "e7b1c57be33745f0a9d27d527435f3dc": {
      "model_module": "@jupyter-widgets/base",
      "model_module_version": "1.2.0",
      "model_name": "LayoutModel",
      "state": {
       "display": "inline-flex",
       "flex_flow": "row wrap",
       "width": "100%"
      }
     },
     "e7bded9435034b3d82098b46a9ea3be1": {
      "model_module": "@jupyter-widgets/controls",
      "model_module_version": "1.5.0",
      "model_name": "DescriptionStyleModel",
      "state": {
       "description_width": ""
      }
     },
     "e7f4674407654bd8bf9cd65d5743c89c": {
      "model_module": "@jupyter-widgets/controls",
      "model_module_version": "1.5.0",
      "model_name": "HBoxModel",
      "state": {
       "children": [
        "IPY_MODEL_e43930f9533540608b6ed279f678d72d",
        "IPY_MODEL_8e52996237a843c48b633fe22be9ba44"
       ],
       "layout": "IPY_MODEL_c3170e222ec74f7cb03e8ecdf5eb8e32"
      }
     },
     "e80559782c0d4cca881992ff41d0c558": {
      "model_module": "@jupyter-widgets/controls",
      "model_module_version": "1.5.0",
      "model_name": "HTMLModel",
      "state": {
       "layout": "IPY_MODEL_4b8ad73b7b5944a6856c26ef8f99ef95",
       "style": "IPY_MODEL_6f4a978e7f414572921b3b54b6939436",
       "value": " ETA: 00:00s - loss: 0.0302 - val_loss: 0.0290"
      }
     },
     "e857077abf8b48369e8ce7a59c8335ac": {
      "model_module": "@jupyter-widgets/controls",
      "model_module_version": "1.5.0",
      "model_name": "FloatProgressModel",
      "state": {
       "bar_style": "success",
       "description": "5625/5625",
       "layout": "IPY_MODEL_2cd1f40313494a24869e28ff9afa931e",
       "max": 5625,
       "style": "IPY_MODEL_c0fbd789aa2f4b9aa2086a3e49415463",
       "value": 5625
      }
     },
     "e85762161f6d42678d678863cc97c0b4": {
      "model_module": "@jupyter-widgets/base",
      "model_module_version": "1.2.0",
      "model_name": "LayoutModel",
      "state": {
       "display": "inline-flex",
       "flex_flow": "row wrap",
       "width": "100%"
      }
     },
     "e8c11fcaad194853b4fcf33e615b157d": {
      "model_module": "@jupyter-widgets/controls",
      "model_module_version": "1.5.0",
      "model_name": "HBoxModel",
      "state": {
       "children": [
        "IPY_MODEL_313d179700b8434aa9a1adc304221bfe",
        "IPY_MODEL_67b74345047643f2b71b7a3f7d6b6339"
       ],
       "layout": "IPY_MODEL_22439292296f4522b73d39af78edb4f7"
      }
     },
     "e8eb17dc415343af9176eb574b093254": {
      "model_module": "@jupyter-widgets/controls",
      "model_module_version": "1.5.0",
      "model_name": "FloatProgressModel",
      "state": {
       "bar_style": "success",
       "description": "5625/5625",
       "layout": "IPY_MODEL_d51208c1545d4a68b5d5e24146295069",
       "max": 5625,
       "style": "IPY_MODEL_641ee88bc8d44ecc81d06bc83d922257",
       "value": 5625
      }
     },
     "e993f1ce8bda4e8cb85cbe98124431be": {
      "model_module": "@jupyter-widgets/controls",
      "model_module_version": "1.5.0",
      "model_name": "HTMLModel",
      "state": {
       "layout": "IPY_MODEL_7cf1bdd91ad04dae9b43f23d37bc0b3e",
       "style": "IPY_MODEL_19218e6dc32742b7b5a96b9a61c5bdc7",
       "value": " ETA: 00:00s - loss: 0.0288 - val_loss: 0.0282"
      }
     },
     "e99b4184a426481fae3c35d791f8248a": {
      "model_module": "@jupyter-widgets/controls",
      "model_module_version": "1.5.0",
      "model_name": "DescriptionStyleModel",
      "state": {
       "description_width": ""
      }
     },
     "e9cc32ebd2e84395a5f1e54f03afe725": {
      "model_module": "@jupyter-widgets/controls",
      "model_module_version": "1.5.0",
      "model_name": "HTMLModel",
      "state": {
       "layout": "IPY_MODEL_0d07527eddba40be9b5b5e85e079659b",
       "style": "IPY_MODEL_42bcb080082b4255ac92ce0cae20704a",
       "value": " ETA: 00:00s - loss: 0.0278 - val_loss: 0.0272"
      }
     },
     "ea1135aa8ae4435eb5eff37b47872558": {
      "model_module": "@jupyter-widgets/base",
      "model_module_version": "1.2.0",
      "model_name": "LayoutModel",
      "state": {
       "flex": "2"
      }
     },
     "ea138d163c6e450fb0c2655fb790bada": {
      "model_module": "@jupyter-widgets/base",
      "model_module_version": "1.2.0",
      "model_name": "LayoutModel",
      "state": {
       "display": "inline-flex",
       "flex_flow": "row wrap",
       "width": "100%"
      }
     },
     "ea83852e7a9242338c3381ff189c3cb7": {
      "model_module": "@jupyter-widgets/base",
      "model_module_version": "1.2.0",
      "model_name": "LayoutModel",
      "state": {
       "flex": "2"
      }
     },
     "eab76cd6858b41cfb9c05e0b099ac4a7": {
      "model_module": "@jupyter-widgets/controls",
      "model_module_version": "1.5.0",
      "model_name": "ProgressStyleModel",
      "state": {
       "description_width": "initial"
      }
     },
     "eac0dbe740b9429f8c10ee734761bc57": {
      "model_module": "@jupyter-widgets/controls",
      "model_module_version": "1.5.0",
      "model_name": "HBoxModel",
      "state": {
       "children": [
        "IPY_MODEL_c52566e740324dd590936bc2e46548df",
        "IPY_MODEL_c1dae2d9d304446dbc12b49322a269f8"
       ],
       "layout": "IPY_MODEL_cbaa335b130c49f59256b9a5be7e28a5"
      }
     },
     "eac6d60a51ad4627bd18d02e48450dc4": {
      "model_module": "@jupyter-widgets/controls",
      "model_module_version": "1.5.0",
      "model_name": "FloatProgressModel",
      "state": {
       "bar_style": "success",
       "description": "5625/5625",
       "layout": "IPY_MODEL_f55ec80a28b94d678d9fdeee7303d343",
       "max": 5625,
       "style": "IPY_MODEL_03bdf2d9143843dd979bbaa62fc59890",
       "value": 5625
      }
     },
     "eac7eaff9bba4b4d95a5c07edd775a3a": {
      "model_module": "@jupyter-widgets/controls",
      "model_module_version": "1.5.0",
      "model_name": "HBoxModel",
      "state": {
       "children": [
        "IPY_MODEL_cc93368c2af347638c3de4ecfeab2adf",
        "IPY_MODEL_261dec81121649fda047087fc42e0e9f"
       ],
       "layout": "IPY_MODEL_0ea83d9ab7684b69b0eb4f235cc68b9e"
      }
     },
     "eadad66d1a4a4de5bfb4d1f424a476d7": {
      "model_module": "@jupyter-widgets/controls",
      "model_module_version": "1.5.0",
      "model_name": "HBoxModel",
      "state": {
       "children": [
        "IPY_MODEL_7668f9f819c94bc7b221344543ab3567",
        "IPY_MODEL_8dbff01d678a4377b3b9b71ee1198431"
       ],
       "layout": "IPY_MODEL_f6a05efb5173480c9a7a9411a2e3cc3f"
      }
     },
     "eae045a78e4a4ffd8d9205f3b48e5588": {
      "model_module": "@jupyter-widgets/controls",
      "model_module_version": "1.5.0",
      "model_name": "FloatProgressModel",
      "state": {
       "bar_style": "success",
       "description": "5625/5625",
       "layout": "IPY_MODEL_64bde9098a8c4e96966c622aa8732be7",
       "max": 5625,
       "style": "IPY_MODEL_9d195af9de104af69dd83496cacf2ad4",
       "value": 5625
      }
     },
     "eb4f5ed8eece415e9ea08548659a73c3": {
      "model_module": "@jupyter-widgets/controls",
      "model_module_version": "1.5.0",
      "model_name": "DescriptionStyleModel",
      "state": {
       "description_width": ""
      }
     },
     "eb539527bdf447a1b35893092961b98f": {
      "model_module": "@jupyter-widgets/controls",
      "model_module_version": "1.5.0",
      "model_name": "DescriptionStyleModel",
      "state": {
       "description_width": ""
      }
     },
     "eb9a27ea37b642a196a012d67d0fe926": {
      "model_module": "@jupyter-widgets/controls",
      "model_module_version": "1.5.0",
      "model_name": "HBoxModel",
      "state": {
       "children": [
        "IPY_MODEL_a74adadc7f764ad797ce73fd2d418d12",
        "IPY_MODEL_5fee3ad3ed434b8eacb9a449772b4b4f"
       ],
       "layout": "IPY_MODEL_a9213f42ab2c4f66970a08d436a6f80f"
      }
     },
     "ebafed2b5e984f3fafe8c62b8ad12ceb": {
      "model_module": "@jupyter-widgets/base",
      "model_module_version": "1.2.0",
      "model_name": "LayoutModel",
      "state": {}
     },
     "ebcc7894cfef431cac2a33cff8fafdcb": {
      "model_module": "@jupyter-widgets/base",
      "model_module_version": "1.2.0",
      "model_name": "LayoutModel",
      "state": {}
     },
     "ec3c343f3d5e41318161977a98015ab6": {
      "model_module": "@jupyter-widgets/controls",
      "model_module_version": "1.5.0",
      "model_name": "DescriptionStyleModel",
      "state": {
       "description_width": ""
      }
     },
     "ecc78140e2374232916b3d4b186971b9": {
      "model_module": "@jupyter-widgets/base",
      "model_module_version": "1.2.0",
      "model_name": "LayoutModel",
      "state": {
       "flex": "2"
      }
     },
     "edcfae33a44645179f92577486c2d8f9": {
      "model_module": "@jupyter-widgets/controls",
      "model_module_version": "1.5.0",
      "model_name": "ProgressStyleModel",
      "state": {
       "description_width": "initial"
      }
     },
     "ee32a6dc8a58411f8cedebca5a1f674f": {
      "model_module": "@jupyter-widgets/controls",
      "model_module_version": "1.5.0",
      "model_name": "HBoxModel",
      "state": {
       "children": [
        "IPY_MODEL_0d592c85bd21414eba16ff6e4caa6e01",
        "IPY_MODEL_3634325632df415a882a786d19f9f076"
       ],
       "layout": "IPY_MODEL_5a1ca1288f2449569d079aa4d10b7375"
      }
     },
     "ee5be36a3ac4495991d03421ac2b5f1d": {
      "model_module": "@jupyter-widgets/base",
      "model_module_version": "1.2.0",
      "model_name": "LayoutModel",
      "state": {
       "flex": "2"
      }
     },
     "ee7170ce7259466cbc83c256668a9953": {
      "model_module": "@jupyter-widgets/controls",
      "model_module_version": "1.5.0",
      "model_name": "HBoxModel",
      "state": {
       "children": [
        "IPY_MODEL_e007469b407e4da3ac449810ea28eac8",
        "IPY_MODEL_1860d78c1d304da1b87fa6fa691bbacc"
       ],
       "layout": "IPY_MODEL_e3dc93b03ba4453dab2f9a442ac34072"
      }
     },
     "eef7750dd41749e3a4077ac9564299dc": {
      "model_module": "@jupyter-widgets/controls",
      "model_module_version": "1.5.0",
      "model_name": "HBoxModel",
      "state": {
       "children": [
        "IPY_MODEL_ccbc49b4690d494ca4c0234fea3c0634",
        "IPY_MODEL_adb9e4cf180149d3a99252c89480e486"
       ],
       "layout": "IPY_MODEL_113cf391111a4b4595062b9f134b62ab"
      }
     },
     "ef5b72f9696e494aa5173879a7c38f68": {
      "model_module": "@jupyter-widgets/controls",
      "model_module_version": "1.5.0",
      "model_name": "HTMLModel",
      "state": {
       "layout": "IPY_MODEL_f2d62c57b57e47b8b1dc9dd8d0db827b",
       "style": "IPY_MODEL_1f5dc62bca2c4659aa970dd42d59fc2b",
       "value": " ETA: 00:00s - loss: 0.0593 - val_loss: 0.0357"
      }
     },
     "f028e550dc1243988a4d4cfb47c2e3e6": {
      "model_module": "@jupyter-widgets/base",
      "model_module_version": "1.2.0",
      "model_name": "LayoutModel",
      "state": {
       "flex": "2"
      }
     },
     "f074e65abb8a4f8c965b82513d907fbe": {
      "model_module": "@jupyter-widgets/controls",
      "model_module_version": "1.5.0",
      "model_name": "DescriptionStyleModel",
      "state": {
       "description_width": ""
      }
     },
     "f0873ac2adfd4285b2e7e3adf63acdbf": {
      "model_module": "@jupyter-widgets/base",
      "model_module_version": "1.2.0",
      "model_name": "LayoutModel",
      "state": {
       "display": "inline-flex",
       "flex_flow": "row wrap",
       "width": "100%"
      }
     },
     "f10750ded464456f8d988d90398d2625": {
      "model_module": "@jupyter-widgets/controls",
      "model_module_version": "1.5.0",
      "model_name": "ProgressStyleModel",
      "state": {
       "description_width": "initial"
      }
     },
     "f12142e4b1ba4811bffddefb1e57645f": {
      "model_module": "@jupyter-widgets/controls",
      "model_module_version": "1.5.0",
      "model_name": "HTMLModel",
      "state": {
       "layout": "IPY_MODEL_b5ff609753ae4a35ad248daf56a8f145",
       "style": "IPY_MODEL_09621a22d4134eacac136e44e8c97eca",
       "value": " ETA: 00:00s - loss: 0.0286 - val_loss: 0.0288"
      }
     },
     "f198c1e2e4ec4a50b6ad058f2350a694": {
      "model_module": "@jupyter-widgets/base",
      "model_module_version": "1.2.0",
      "model_name": "LayoutModel",
      "state": {
       "flex": "2"
      }
     },
     "f1ebbb998b994abe945be030712a8a30": {
      "model_module": "@jupyter-widgets/controls",
      "model_module_version": "1.5.0",
      "model_name": "FloatProgressModel",
      "state": {
       "bar_style": "success",
       "description": "5625/5625",
       "layout": "IPY_MODEL_681333ead82a4603a63358cd014eb54e",
       "max": 5625,
       "style": "IPY_MODEL_4c93084a50da454cb387ef0349ed461e",
       "value": 5625
      }
     },
     "f22c7c06d0164293a1f4741c530b1362": {
      "model_module": "@jupyter-widgets/base",
      "model_module_version": "1.2.0",
      "model_name": "LayoutModel",
      "state": {}
     },
     "f234b1c163584231afcec520fe8af485": {
      "model_module": "@jupyter-widgets/base",
      "model_module_version": "1.2.0",
      "model_name": "LayoutModel",
      "state": {}
     },
     "f2698039a80443fc9531d759101c88a0": {
      "model_module": "@jupyter-widgets/controls",
      "model_module_version": "1.5.0",
      "model_name": "FloatProgressModel",
      "state": {
       "bar_style": "success",
       "description": "5625/5625",
       "layout": "IPY_MODEL_1340d7fdbdd24bb2a2a955c9b89f1b55",
       "max": 5625,
       "style": "IPY_MODEL_32f5a8b4768644e6a19549d28d05f1ea",
       "value": 5625
      }
     },
     "f2985dcd4e4244b9a3abfd75a0ff798a": {
      "model_module": "@jupyter-widgets/base",
      "model_module_version": "1.2.0",
      "model_name": "LayoutModel",
      "state": {
       "display": "inline-flex",
       "flex_flow": "row wrap",
       "width": "100%"
      }
     },
     "f2a41f5e54bb4ea68d7c40111c38cd04": {
      "model_module": "@jupyter-widgets/base",
      "model_module_version": "1.2.0",
      "model_name": "LayoutModel",
      "state": {}
     },
     "f2d62c57b57e47b8b1dc9dd8d0db827b": {
      "model_module": "@jupyter-widgets/base",
      "model_module_version": "1.2.0",
      "model_name": "LayoutModel",
      "state": {}
     },
     "f3557548065b4d3d8412fa725e84b07c": {
      "model_module": "@jupyter-widgets/controls",
      "model_module_version": "1.5.0",
      "model_name": "ProgressStyleModel",
      "state": {
       "description_width": "initial"
      }
     },
     "f35d5dd212bf49788713e9650a2dc7a7": {
      "model_module": "@jupyter-widgets/controls",
      "model_module_version": "1.5.0",
      "model_name": "HBoxModel",
      "state": {
       "children": [
        "IPY_MODEL_4c46a83c0b874fd8b736967e09ac8d87",
        "IPY_MODEL_04eb5b9e4ac34afdbc985becaa5dcbfb"
       ],
       "layout": "IPY_MODEL_9f41f263b8d749eeb6fa64c4a41aab31"
      }
     },
     "f378f4de4f5245bfb31df82b15047b55": {
      "model_module": "@jupyter-widgets/controls",
      "model_module_version": "1.5.0",
      "model_name": "HBoxModel",
      "state": {
       "children": [
        "IPY_MODEL_ca5e258911c84bef8dd6824685102c1b",
        "IPY_MODEL_e208f0037e3a49afae1878a224db2e52"
       ],
       "layout": "IPY_MODEL_941d66081b1a4e939adad9b2068c4cf9"
      }
     },
     "f3885021f873434e8a6dcd014121e7a1": {
      "model_module": "@jupyter-widgets/controls",
      "model_module_version": "1.5.0",
      "model_name": "ProgressStyleModel",
      "state": {
       "description_width": "initial"
      }
     },
     "f39d12a5bc634803879c5eb93dc9709e": {
      "model_module": "@jupyter-widgets/controls",
      "model_module_version": "1.5.0",
      "model_name": "DescriptionStyleModel",
      "state": {
       "description_width": ""
      }
     },
     "f4477864b7e14b16ba909fc5632a36a0": {
      "model_module": "@jupyter-widgets/controls",
      "model_module_version": "1.5.0",
      "model_name": "HBoxModel",
      "state": {
       "children": [
        "IPY_MODEL_16dd2f07f0b941bdb6a766fdfe069f61",
        "IPY_MODEL_e70680f8ecd34127aab6fef1e1a6b574"
       ],
       "layout": "IPY_MODEL_d916ac61ff9943b8845625ad466fa65a"
      }
     },
     "f47549918e714c658d6105917e755625": {
      "model_module": "@jupyter-widgets/base",
      "model_module_version": "1.2.0",
      "model_name": "LayoutModel",
      "state": {
       "display": "inline-flex",
       "flex_flow": "row wrap",
       "width": "100%"
      }
     },
     "f48734ed0d584fe59eef5037d430d9e2": {
      "model_module": "@jupyter-widgets/controls",
      "model_module_version": "1.5.0",
      "model_name": "HTMLModel",
      "state": {
       "layout": "IPY_MODEL_18996f0ab88e401988ffd3201f6ba558",
       "style": "IPY_MODEL_dd8ec37495024489ad233ab8cdd52813",
       "value": " ETA: 00:00s - loss: 0.0280 - val_loss: 0.0274"
      }
     },
     "f48da15465e04176b5c4e5ec34d53ed4": {
      "model_module": "@jupyter-widgets/controls",
      "model_module_version": "1.5.0",
      "model_name": "ProgressStyleModel",
      "state": {
       "description_width": "initial"
      }
     },
     "f4b4ce4197464be59d5328c455fbf153": {
      "model_module": "@jupyter-widgets/base",
      "model_module_version": "1.2.0",
      "model_name": "LayoutModel",
      "state": {
       "flex": "2"
      }
     },
     "f4c2cc9ee510499aa119237ee3182fba": {
      "model_module": "@jupyter-widgets/controls",
      "model_module_version": "1.5.0",
      "model_name": "FloatProgressModel",
      "state": {
       "bar_style": "success",
       "description": "5625/5625",
       "layout": "IPY_MODEL_3aea84743b914ac1939de3420172ab8b",
       "max": 5625,
       "style": "IPY_MODEL_924e4a9ea76c4d408c3765736e398fb2",
       "value": 5625
      }
     },
     "f516a5eee2fa46b09545ae9a7b045077": {
      "model_module": "@jupyter-widgets/controls",
      "model_module_version": "1.5.0",
      "model_name": "FloatProgressModel",
      "state": {
       "bar_style": "success",
       "description": "5625/5625",
       "layout": "IPY_MODEL_11ab48eee4cd49eaa639b922d2a5ad0e",
       "max": 5625,
       "style": "IPY_MODEL_06441fa94ec34290a38a5e9e4b354352",
       "value": 5625
      }
     },
     "f52f05cf029a4fa69348626565fad7e9": {
      "model_module": "@jupyter-widgets/base",
      "model_module_version": "1.2.0",
      "model_name": "LayoutModel",
      "state": {
       "flex": "2"
      }
     },
     "f53a5549b4f2420f864b7fba20afb3bb": {
      "model_module": "@jupyter-widgets/controls",
      "model_module_version": "1.5.0",
      "model_name": "ProgressStyleModel",
      "state": {
       "description_width": "initial"
      }
     },
     "f55ec80a28b94d678d9fdeee7303d343": {
      "model_module": "@jupyter-widgets/base",
      "model_module_version": "1.2.0",
      "model_name": "LayoutModel",
      "state": {
       "flex": "2"
      }
     },
     "f55fa280d94c4bcbb3c5081e095eb54a": {
      "model_module": "@jupyter-widgets/controls",
      "model_module_version": "1.5.0",
      "model_name": "DescriptionStyleModel",
      "state": {
       "description_width": ""
      }
     },
     "f5826e8ff43b4b329b28160d73b2c1d3": {
      "model_module": "@jupyter-widgets/base",
      "model_module_version": "1.2.0",
      "model_name": "LayoutModel",
      "state": {}
     },
     "f59b7aa83d244bee92efc5cac1385774": {
      "model_module": "@jupyter-widgets/controls",
      "model_module_version": "1.5.0",
      "model_name": "HTMLModel",
      "state": {
       "layout": "IPY_MODEL_ab8770c83eac43939517f5ad3ff68ca8",
       "style": "IPY_MODEL_818d77e02f9744e5b9bf91dd51a04217",
       "value": " ETA: 00:00s - loss: 0.0282 - val_loss: 0.0277"
      }
     },
     "f5ae07c0782a4c60a1a5f422c5cb1514": {
      "model_module": "@jupyter-widgets/controls",
      "model_module_version": "1.5.0",
      "model_name": "DescriptionStyleModel",
      "state": {
       "description_width": ""
      }
     },
     "f5ccb77b1dae4a82b6db8551bc9620bf": {
      "model_module": "@jupyter-widgets/base",
      "model_module_version": "1.2.0",
      "model_name": "LayoutModel",
      "state": {
       "display": "inline-flex",
       "flex_flow": "row wrap",
       "width": "100%"
      }
     },
     "f6082aebd9254d98b68f9caed4f3b63d": {
      "model_module": "@jupyter-widgets/controls",
      "model_module_version": "1.5.0",
      "model_name": "FloatProgressModel",
      "state": {
       "bar_style": "success",
       "description": "5625/5625",
       "layout": "IPY_MODEL_0dc1716227cd49c49eb66ab9af3fc502",
       "max": 5625,
       "style": "IPY_MODEL_e111043ce2a748a09ce47c257d17ed88",
       "value": 5625
      }
     },
     "f64889e1d3bc42b8999a59717a8e7381": {
      "model_module": "@jupyter-widgets/controls",
      "model_module_version": "1.5.0",
      "model_name": "HTMLModel",
      "state": {
       "layout": "IPY_MODEL_04449419c53f46a790057b32badabf8c",
       "style": "IPY_MODEL_20ef58cd22da480eba93c43c6be7298c",
       "value": " ETA: 00:00s - loss: 0.0279 - val_loss: 0.0278"
      }
     },
     "f64c5132d3cc4d59bbce5baca8b63ff0": {
      "model_module": "@jupyter-widgets/base",
      "model_module_version": "1.2.0",
      "model_name": "LayoutModel",
      "state": {}
     },
     "f698eef7eea54f2e8103f2504533be7e": {
      "model_module": "@jupyter-widgets/controls",
      "model_module_version": "1.5.0",
      "model_name": "HBoxModel",
      "state": {
       "children": [
        "IPY_MODEL_679a956486944f5496c3a453ad4a1657",
        "IPY_MODEL_b3c7cc553c9d4c4db9444ee28b56f2d4"
       ],
       "layout": "IPY_MODEL_e5394624297141c882fd3643a1e59527"
      }
     },
     "f6a05efb5173480c9a7a9411a2e3cc3f": {
      "model_module": "@jupyter-widgets/base",
      "model_module_version": "1.2.0",
      "model_name": "LayoutModel",
      "state": {
       "display": "inline-flex",
       "flex_flow": "row wrap",
       "width": "100%"
      }
     },
     "f6c888bfe7284db4a8a437bb1082bc8a": {
      "model_module": "@jupyter-widgets/controls",
      "model_module_version": "1.5.0",
      "model_name": "DescriptionStyleModel",
      "state": {
       "description_width": ""
      }
     },
     "f6df200da957479f8ac8767c02689a59": {
      "model_module": "@jupyter-widgets/base",
      "model_module_version": "1.2.0",
      "model_name": "LayoutModel",
      "state": {}
     },
     "f72292b0b98b4f2591b8723edd3f8fca": {
      "model_module": "@jupyter-widgets/controls",
      "model_module_version": "1.5.0",
      "model_name": "HBoxModel",
      "state": {
       "children": [
        "IPY_MODEL_50eff0568ace4f7b814553ae8ba48511",
        "IPY_MODEL_9c80d14536324b4985149b83a1c81c5b"
       ],
       "layout": "IPY_MODEL_84970d6c477b43019151ccf5074c565e"
      }
     },
     "f72f72bc7b904d958d664b685b92993a": {
      "model_module": "@jupyter-widgets/controls",
      "model_module_version": "1.5.0",
      "model_name": "HBoxModel",
      "state": {
       "children": [
        "IPY_MODEL_bd1fac8833be479a81856ad623959ff4",
        "IPY_MODEL_5195bd329a9c460bb333dd3f0d21b509"
       ],
       "layout": "IPY_MODEL_f47549918e714c658d6105917e755625"
      }
     },
     "f755d83967094e53a361aa92438c80f8": {
      "model_module": "@jupyter-widgets/controls",
      "model_module_version": "1.5.0",
      "model_name": "FloatProgressModel",
      "state": {
       "bar_style": "success",
       "description": "5625/5625",
       "layout": "IPY_MODEL_3d383b97ca914b78871fcbb6baa092e0",
       "max": 5625,
       "style": "IPY_MODEL_0a184c135ef44e4e8aca92bdfd4a249e",
       "value": 5625
      }
     },
     "f7c73ab5e9bb46ef83b70075ec36a61e": {
      "model_module": "@jupyter-widgets/controls",
      "model_module_version": "1.5.0",
      "model_name": "FloatProgressModel",
      "state": {
       "bar_style": "success",
       "description": "5625/5625",
       "layout": "IPY_MODEL_b3af279425a949df9e817a066a992664",
       "max": 5625,
       "style": "IPY_MODEL_583ef084218146b4a2b0244e62833260",
       "value": 5625
      }
     },
     "f7f796ff5b0a44fdb5e84cc56f7e6b05": {
      "model_module": "@jupyter-widgets/controls",
      "model_module_version": "1.5.0",
      "model_name": "ProgressStyleModel",
      "state": {
       "description_width": "initial"
      }
     },
     "f859042785934dfcb3a1e397f2e4d8f1": {
      "model_module": "@jupyter-widgets/controls",
      "model_module_version": "1.5.0",
      "model_name": "DescriptionStyleModel",
      "state": {
       "description_width": ""
      }
     },
     "f85bf1cbac33466cbf8c4cfbcaecbbe6": {
      "model_module": "@jupyter-widgets/controls",
      "model_module_version": "1.5.0",
      "model_name": "HTMLModel",
      "state": {
       "layout": "IPY_MODEL_d1802c39fa0a477b9ba32f9b3f36ad1f",
       "style": "IPY_MODEL_cb56542f3fd74061bb3b886619b12bd6",
       "value": " ETA: 00:00s - loss: 0.0280 - val_loss: 0.0279"
      }
     },
     "f89039d83092425abe6ad95d4a6e42f2": {
      "model_module": "@jupyter-widgets/controls",
      "model_module_version": "1.5.0",
      "model_name": "FloatProgressModel",
      "state": {
       "bar_style": "success",
       "description": "5625/5625",
       "layout": "IPY_MODEL_48b73cad729947ba85bbe249526d5089",
       "max": 5625,
       "style": "IPY_MODEL_3726092e2114435cbab1d599644b2c23",
       "value": 5625
      }
     },
     "f9368c6653554febb5404b2411578cd4": {
      "model_module": "@jupyter-widgets/controls",
      "model_module_version": "1.5.0",
      "model_name": "HTMLModel",
      "state": {
       "layout": "IPY_MODEL_9b202ab1725a43c39da425456bc43ed4",
       "style": "IPY_MODEL_5626d2da791a4525b1b0425e78c4e2aa",
       "value": " ETA: 00:00s - loss: 0.0278 - val_loss: 0.0272"
      }
     },
     "f9435f5b8bba4e0488b03cc6053e054a": {
      "model_module": "@jupyter-widgets/base",
      "model_module_version": "1.2.0",
      "model_name": "LayoutModel",
      "state": {}
     },
     "f945e40a89914f44a0ccd3412458f839": {
      "model_module": "@jupyter-widgets/base",
      "model_module_version": "1.2.0",
      "model_name": "LayoutModel",
      "state": {}
     },
     "f95dd5ccd31741f68bedf86ec86a3b67": {
      "model_module": "@jupyter-widgets/base",
      "model_module_version": "1.2.0",
      "model_name": "LayoutModel",
      "state": {
       "display": "inline-flex",
       "flex_flow": "row wrap",
       "width": "100%"
      }
     },
     "fa14a7a4db8b4892a50e14b17f7aaf82": {
      "model_module": "@jupyter-widgets/controls",
      "model_module_version": "1.5.0",
      "model_name": "ProgressStyleModel",
      "state": {
       "description_width": "initial"
      }
     },
     "fa33eb045c734430b1812e786fc469f0": {
      "model_module": "@jupyter-widgets/base",
      "model_module_version": "1.2.0",
      "model_name": "LayoutModel",
      "state": {}
     },
     "faa662689c694a1a9122a5ba30130be6": {
      "model_module": "@jupyter-widgets/controls",
      "model_module_version": "1.5.0",
      "model_name": "FloatProgressModel",
      "state": {
       "bar_style": "success",
       "description": "5625/5625",
       "layout": "IPY_MODEL_bf34ad27e1f94c68b1848c5012d0203e",
       "max": 5625,
       "style": "IPY_MODEL_965b6cac1a0d41da862eed6e5e1f71d8",
       "value": 5625
      }
     },
     "fac345e34efc477ea16232a1f2ac06a6": {
      "model_module": "@jupyter-widgets/controls",
      "model_module_version": "1.5.0",
      "model_name": "HBoxModel",
      "state": {
       "children": [
        "IPY_MODEL_3f04dd4488b14e18a45597da952a86cb",
        "IPY_MODEL_baff2862d4834ed69e405de34bdf1375"
       ],
       "layout": "IPY_MODEL_bd1e8c55a62c4782a58bb98dd66cf3ac"
      }
     },
     "fac3acfcc50d4301907e1396cd151c2b": {
      "model_module": "@jupyter-widgets/controls",
      "model_module_version": "1.5.0",
      "model_name": "HBoxModel",
      "state": {
       "children": [
        "IPY_MODEL_f4c2cc9ee510499aa119237ee3182fba",
        "IPY_MODEL_3d7958c8831a4b21b9be205375b8c9fb"
       ],
       "layout": "IPY_MODEL_8ce617a6de324535b9747174aea34894"
      }
     },
     "fb192133c4cf4556a218b62e0421f9ed": {
      "model_module": "@jupyter-widgets/controls",
      "model_module_version": "1.5.0",
      "model_name": "DescriptionStyleModel",
      "state": {
       "description_width": ""
      }
     },
     "fb51e19d539f4042b60f3612e1076789": {
      "model_module": "@jupyter-widgets/controls",
      "model_module_version": "1.5.0",
      "model_name": "ProgressStyleModel",
      "state": {
       "description_width": "initial"
      }
     },
     "fb5a254d18fc4b739fd0a5ad0f852b26": {
      "model_module": "@jupyter-widgets/controls",
      "model_module_version": "1.5.0",
      "model_name": "HBoxModel",
      "state": {
       "children": [
        "IPY_MODEL_8827fc6946464488a1fa015e940a1ff5",
        "IPY_MODEL_cd9384edc4314879a1e02232cf72fba2"
       ],
       "layout": "IPY_MODEL_492d367320d148798eac652d125645ba"
      }
     },
     "fb5ae6451137412283118c58063db94a": {
      "model_module": "@jupyter-widgets/controls",
      "model_module_version": "1.5.0",
      "model_name": "DescriptionStyleModel",
      "state": {
       "description_width": ""
      }
     },
     "fb748b5f275141baba65b253d615f6f4": {
      "model_module": "@jupyter-widgets/base",
      "model_module_version": "1.2.0",
      "model_name": "LayoutModel",
      "state": {
       "display": "inline-flex",
       "flex_flow": "row wrap",
       "width": "100%"
      }
     },
     "fb7cdad6137a49b9b76faae0e5a07dcf": {
      "model_module": "@jupyter-widgets/base",
      "model_module_version": "1.2.0",
      "model_name": "LayoutModel",
      "state": {
       "flex": "2"
      }
     },
     "fba2d08b26b248f4825a8639a0db8114": {
      "model_module": "@jupyter-widgets/base",
      "model_module_version": "1.2.0",
      "model_name": "LayoutModel",
      "state": {
       "flex": "2"
      }
     },
     "fbaa3a7546be4cbb8c86bf67220f8abc": {
      "model_module": "@jupyter-widgets/controls",
      "model_module_version": "1.5.0",
      "model_name": "FloatProgressModel",
      "state": {
       "bar_style": "success",
       "description": "5625/5625",
       "layout": "IPY_MODEL_fef29ec92ddd447bb216d4173b4efec9",
       "max": 5625,
       "style": "IPY_MODEL_8c2c859154474801b4b4aa1a641df44c",
       "value": 5625
      }
     },
     "fbbd0374a7a249b98812d4a90f9389eb": {
      "model_module": "@jupyter-widgets/base",
      "model_module_version": "1.2.0",
      "model_name": "LayoutModel",
      "state": {
       "display": "inline-flex",
       "flex_flow": "row wrap",
       "width": "100%"
      }
     },
     "fc2ffde06f284f92876e821f2df27f62": {
      "model_module": "@jupyter-widgets/controls",
      "model_module_version": "1.5.0",
      "model_name": "ProgressStyleModel",
      "state": {
       "description_width": "initial"
      }
     },
     "fc4af7b817494b0ebfc53e3fb585ce18": {
      "model_module": "@jupyter-widgets/controls",
      "model_module_version": "1.5.0",
      "model_name": "DescriptionStyleModel",
      "state": {
       "description_width": ""
      }
     },
     "fc59e74190ed4c1498ad58c7f1d40b62": {
      "model_module": "@jupyter-widgets/base",
      "model_module_version": "1.2.0",
      "model_name": "LayoutModel",
      "state": {}
     },
     "fc601ba52f104c348b2af5ca84a50d82": {
      "model_module": "@jupyter-widgets/controls",
      "model_module_version": "1.5.0",
      "model_name": "FloatProgressModel",
      "state": {
       "bar_style": "success",
       "description": "5625/5625",
       "layout": "IPY_MODEL_00de16b865a846ce8c90441f9ed36eba",
       "max": 5625,
       "style": "IPY_MODEL_d4d53621d3614ea896f6a04d92bf7d2d",
       "value": 5625
      }
     },
     "fc73e1bed75449f6bbf3744dbb7c2dab": {
      "model_module": "@jupyter-widgets/controls",
      "model_module_version": "1.5.0",
      "model_name": "ProgressStyleModel",
      "state": {
       "description_width": "initial"
      }
     },
     "fc74f54aeaff41a3a2926db7530b5f8e": {
      "model_module": "@jupyter-widgets/base",
      "model_module_version": "1.2.0",
      "model_name": "LayoutModel",
      "state": {
       "display": "inline-flex",
       "flex_flow": "row wrap",
       "width": "100%"
      }
     },
     "fca1a5524ded4c639a36c9e746520188": {
      "model_module": "@jupyter-widgets/base",
      "model_module_version": "1.2.0",
      "model_name": "LayoutModel",
      "state": {
       "flex": "2"
      }
     },
     "fcae447fc7914acca44ec87518ab7a65": {
      "model_module": "@jupyter-widgets/controls",
      "model_module_version": "1.5.0",
      "model_name": "HBoxModel",
      "state": {
       "children": [
        "IPY_MODEL_7019990cd41541a6bd290c2121a84d80",
        "IPY_MODEL_cc3d23f435014747a107d413b1ffc57d"
       ],
       "layout": "IPY_MODEL_e85762161f6d42678d678863cc97c0b4"
      }
     },
     "fcbdad7c5b404e238ad6139c22fe0248": {
      "model_module": "@jupyter-widgets/controls",
      "model_module_version": "1.5.0",
      "model_name": "HBoxModel",
      "state": {
       "children": [
        "IPY_MODEL_313f11285ae342e08422637e67c8102a",
        "IPY_MODEL_19419f8422ca464096e94a4602d01b75"
       ],
       "layout": "IPY_MODEL_275441114dcf49439197c3e9b575f20c"
      }
     },
     "fd1251745fc94486a4d1c4db46164ee8": {
      "model_module": "@jupyter-widgets/controls",
      "model_module_version": "1.5.0",
      "model_name": "FloatProgressModel",
      "state": {
       "bar_style": "success",
       "description": "5625/5625",
       "layout": "IPY_MODEL_9df6a3ca83fc404d97b1919fdec23099",
       "max": 5625,
       "style": "IPY_MODEL_c9466d04561740e789f9d737c6db6fad",
       "value": 5625
      }
     },
     "fd1792b7b95c48deb92a0b3c066bfc55": {
      "model_module": "@jupyter-widgets/controls",
      "model_module_version": "1.5.0",
      "model_name": "DescriptionStyleModel",
      "state": {
       "description_width": ""
      }
     },
     "fd310ca8c864425db02812779ba199b3": {
      "model_module": "@jupyter-widgets/controls",
      "model_module_version": "1.5.0",
      "model_name": "HTMLModel",
      "state": {
       "layout": "IPY_MODEL_b44dc69795e64dd2bf695017f5728fa3",
       "style": "IPY_MODEL_8838146424644bf99bcb540f4f77441b",
       "value": " ETA: 00:00s - loss: 0.0280 - val_loss: 0.0274"
      }
     },
     "fd36ffd6724243b596266d7af41ebb73": {
      "model_module": "@jupyter-widgets/base",
      "model_module_version": "1.2.0",
      "model_name": "LayoutModel",
      "state": {}
     },
     "fd881da7fca54f958198692cb137f3bd": {
      "model_module": "@jupyter-widgets/controls",
      "model_module_version": "1.5.0",
      "model_name": "FloatProgressModel",
      "state": {
       "bar_style": "success",
       "description": "5625/5625",
       "layout": "IPY_MODEL_5f75352052b84989a9793e72b5fb73eb",
       "max": 5625,
       "style": "IPY_MODEL_0e5e40782fbd433a92bf8ef189d08f7c",
       "value": 5625
      }
     },
     "fd9311f36219432285f5e856db2e156e": {
      "model_module": "@jupyter-widgets/base",
      "model_module_version": "1.2.0",
      "model_name": "LayoutModel",
      "state": {}
     },
     "fd95d6bcd6884c48a8f74100d99c92f1": {
      "model_module": "@jupyter-widgets/controls",
      "model_module_version": "1.5.0",
      "model_name": "HBoxModel",
      "state": {
       "children": [
        "IPY_MODEL_100049c1854747e1b2c64eddf7620a7b",
        "IPY_MODEL_d7ea1305a81c442f8663dc01a8128051"
       ],
       "layout": "IPY_MODEL_255164d5f29842b9b74fc251e01222bd"
      }
     },
     "fda886d2307f482d8a53675bad91bd3f": {
      "model_module": "@jupyter-widgets/base",
      "model_module_version": "1.2.0",
      "model_name": "LayoutModel",
      "state": {}
     },
     "fdd64ac8bb8f4d89bbfa081074110fcf": {
      "model_module": "@jupyter-widgets/controls",
      "model_module_version": "1.5.0",
      "model_name": "ProgressStyleModel",
      "state": {
       "description_width": "initial"
      }
     },
     "fe1d4ba1a87741179fdefea9225cf419": {
      "model_module": "@jupyter-widgets/controls",
      "model_module_version": "1.5.0",
      "model_name": "HTMLModel",
      "state": {
       "layout": "IPY_MODEL_b7a35a33bda64fd6afa8d4e2e1892ed6",
       "style": "IPY_MODEL_1b791376b9bb4630a2b5ef3f9abcce81",
       "value": " ETA: 00:00s - loss: 0.0280 - val_loss: 0.0274"
      }
     },
     "fe353ef83d214ef391f712f60ae92294": {
      "model_module": "@jupyter-widgets/controls",
      "model_module_version": "1.5.0",
      "model_name": "ProgressStyleModel",
      "state": {
       "description_width": "initial"
      }
     },
     "fe9a0a92d16f4803a8271a38bc605cf8": {
      "model_module": "@jupyter-widgets/base",
      "model_module_version": "1.2.0",
      "model_name": "LayoutModel",
      "state": {
       "flex": "2"
      }
     },
     "fed6e92bde244f22beadb12536a664bb": {
      "model_module": "@jupyter-widgets/controls",
      "model_module_version": "1.5.0",
      "model_name": "DescriptionStyleModel",
      "state": {
       "description_width": ""
      }
     },
     "fedd525097f747f68adad6778e0a87c5": {
      "model_module": "@jupyter-widgets/controls",
      "model_module_version": "1.5.0",
      "model_name": "DescriptionStyleModel",
      "state": {
       "description_width": ""
      }
     },
     "fef0c627d0344d03b37cf9d13bd9bc37": {
      "model_module": "@jupyter-widgets/controls",
      "model_module_version": "1.5.0",
      "model_name": "HBoxModel",
      "state": {
       "children": [
        "IPY_MODEL_f89039d83092425abe6ad95d4a6e42f2",
        "IPY_MODEL_8ccca5fa564f433389d663a6a69f359d"
       ],
       "layout": "IPY_MODEL_707cbbeca62e4d44a43f04d1a18c3254"
      }
     },
     "fef29ec92ddd447bb216d4173b4efec9": {
      "model_module": "@jupyter-widgets/base",
      "model_module_version": "1.2.0",
      "model_name": "LayoutModel",
      "state": {
       "flex": "2"
      }
     },
     "ff30a45dd7144bd6b7cea257955f30ff": {
      "model_module": "@jupyter-widgets/controls",
      "model_module_version": "1.5.0",
      "model_name": "DescriptionStyleModel",
      "state": {
       "description_width": ""
      }
     },
     "ff4755d3e7dc4a1ba127c955869887f8": {
      "model_module": "@jupyter-widgets/base",
      "model_module_version": "1.2.0",
      "model_name": "LayoutModel",
      "state": {}
     },
     "ff7839e8289646dbbb32ea362b520d77": {
      "model_module": "@jupyter-widgets/controls",
      "model_module_version": "1.5.0",
      "model_name": "ProgressStyleModel",
      "state": {
       "description_width": "initial"
      }
     },
     "ffa0d7e7ec8e4b24b629fbb95ba07de2": {
      "model_module": "@jupyter-widgets/base",
      "model_module_version": "1.2.0",
      "model_name": "LayoutModel",
      "state": {}
     },
     "ffa3edd088a445119286b741ed16b497": {
      "model_module": "@jupyter-widgets/controls",
      "model_module_version": "1.5.0",
      "model_name": "ProgressStyleModel",
      "state": {
       "description_width": "initial"
      }
     }
    },
    "version_major": 2,
    "version_minor": 0
   }
  }
 },
 "nbformat": 4,
 "nbformat_minor": 4
}
