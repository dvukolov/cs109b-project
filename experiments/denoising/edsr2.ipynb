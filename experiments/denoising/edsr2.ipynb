{
 "cells": [
  {
   "cell_type": "code",
   "execution_count": 1,
   "metadata": {},
   "outputs": [],
   "source": [
    "import os\n",
    "os.environ[\"CUDA_VISIBLE_DEVICES\"] = \"0\""
   ]
  },
  {
   "cell_type": "code",
   "execution_count": 2,
   "metadata": {},
   "outputs": [],
   "source": [
    "from pathlib import Path\n",
    "import numpy as np\n",
    "import matplotlib.pyplot as plt\n",
    "\n",
    "import tensorflow as tf\n",
    "from tensorflow.python.keras.layers import Add, Conv2D, Input, Lambda\n",
    "from tensorflow.python.keras.models import Model\n",
    "from tensorflow.keras.layers.experimental import preprocessing\n",
    "from tensorflow.python.util import nest\n",
    "\n",
    "from tensorflow.keras.callbacks import EarlyStopping, ModelCheckpoint\n",
    "from tensorflow.keras.optimizers import Adam\n",
    "from tensorflow_addons.callbacks import TQDMProgressBar\n",
    "\n",
    "%run ../gridsearch/xception.ipynb"
   ]
  },
  {
   "cell_type": "code",
   "execution_count": 3,
   "metadata": {},
   "outputs": [
    {
     "name": "stdout",
     "output_type": "stream",
     "text": [
      "Available variables: ['img', 'img_nonoise', 'label', 'psf_r', 'snr', 'sigma']\n"
     ]
    }
   ],
   "source": [
    "# A separate dataset for training a denoising network with fixed PSF and fixed noise\n",
    "# Starting random seed for data generation 2314662\n",
    "basedir = Path(\"../../\")\n",
    "dataset = basedir / \"./data/data_v1a.npz\"\n",
    "modelpath = \"./models/edsr2.tf\"\n",
    "\n",
    "with np.load(dataset) as data:\n",
    "    print(\"Available variables:\", data.files)\n",
    "    noisy = data[\"img\"]\n",
    "    noiseless = data[\"img_nonoise\"]"
   ]
  },
  {
   "cell_type": "code",
   "execution_count": 4,
   "metadata": {},
   "outputs": [],
   "source": [
    "subset = 200_000\n",
    "X = noisy[:subset, ..., np.newaxis]\n",
    "Y = noiseless[:subset, ..., np.newaxis]\n",
    "\n",
    "input_shape = X.shape[1:]"
   ]
  },
  {
   "cell_type": "code",
   "execution_count": 5,
   "metadata": {},
   "outputs": [],
   "source": [
    "def edsr(input_shape, num_filters=64, num_res_blocks=8, res_block_scaling=None):\n",
    "    x_in = Input(shape=input_shape)\n",
    "    x = preprocessing.Normalization()(x_in)\n",
    "\n",
    "    x = b = Conv2D(num_filters, 3, padding='same')(x)\n",
    "    for i in range(num_res_blocks):\n",
    "        b = res_block(b, num_filters, res_block_scaling)\n",
    "    b = Conv2D(num_filters, 3, padding='same')(b)\n",
    "    x = Add()([x, b])\n",
    "\n",
    "    x = Conv2D(1, 3, padding='same')(x)\n",
    "\n",
    "    return Model(x_in, x, name=\"edsr\")\n",
    "\n",
    "\n",
    "def res_block(x_in, filters, scaling):\n",
    "    x = Conv2D(filters, 3, padding='same', activation='relu')(x_in)\n",
    "    x = Conv2D(filters, 3, padding='same')(x)\n",
    "    if scaling:\n",
    "        x = Lambda(lambda t: t * scaling)(x)\n",
    "    x = Add()([x_in, x])\n",
    "    return x"
   ]
  },
  {
   "cell_type": "code",
   "execution_count": 6,
   "metadata": {
    "scrolled": true
   },
   "outputs": [
    {
     "name": "stdout",
     "output_type": "stream",
     "text": [
      "Model: \"edsr\"\n",
      "__________________________________________________________________________________________________\n",
      "Layer (type)                    Output Shape         Param #     Connected to                     \n",
      "==================================================================================================\n",
      "input_1 (InputLayer)            [(None, 64, 64, 1)]  0                                            \n",
      "__________________________________________________________________________________________________\n",
      "normalization (Normalization)   (None, 64, 64, 1)    3           input_1[0][0]                    \n",
      "__________________________________________________________________________________________________\n",
      "conv2d (Conv2D)                 (None, 64, 64, 256)  2560        normalization[0][0]              \n",
      "__________________________________________________________________________________________________\n",
      "conv2d_1 (Conv2D)               (None, 64, 64, 256)  590080      conv2d[0][0]                     \n",
      "__________________________________________________________________________________________________\n",
      "conv2d_2 (Conv2D)               (None, 64, 64, 256)  590080      conv2d_1[0][0]                   \n",
      "__________________________________________________________________________________________________\n",
      "lambda (Lambda)                 (None, 64, 64, 256)  0           conv2d_2[0][0]                   \n",
      "__________________________________________________________________________________________________\n",
      "add (Add)                       (None, 64, 64, 256)  0           conv2d[0][0]                     \n",
      "                                                                 lambda[0][0]                     \n",
      "__________________________________________________________________________________________________\n",
      "conv2d_3 (Conv2D)               (None, 64, 64, 256)  590080      add[0][0]                        \n",
      "__________________________________________________________________________________________________\n",
      "conv2d_4 (Conv2D)               (None, 64, 64, 256)  590080      conv2d_3[0][0]                   \n",
      "__________________________________________________________________________________________________\n",
      "lambda_1 (Lambda)               (None, 64, 64, 256)  0           conv2d_4[0][0]                   \n",
      "__________________________________________________________________________________________________\n",
      "add_1 (Add)                     (None, 64, 64, 256)  0           add[0][0]                        \n",
      "                                                                 lambda_1[0][0]                   \n",
      "__________________________________________________________________________________________________\n",
      "conv2d_5 (Conv2D)               (None, 64, 64, 256)  590080      add_1[0][0]                      \n",
      "__________________________________________________________________________________________________\n",
      "conv2d_6 (Conv2D)               (None, 64, 64, 256)  590080      conv2d_5[0][0]                   \n",
      "__________________________________________________________________________________________________\n",
      "lambda_2 (Lambda)               (None, 64, 64, 256)  0           conv2d_6[0][0]                   \n",
      "__________________________________________________________________________________________________\n",
      "add_2 (Add)                     (None, 64, 64, 256)  0           add_1[0][0]                      \n",
      "                                                                 lambda_2[0][0]                   \n",
      "__________________________________________________________________________________________________\n",
      "conv2d_7 (Conv2D)               (None, 64, 64, 256)  590080      add_2[0][0]                      \n",
      "__________________________________________________________________________________________________\n",
      "conv2d_8 (Conv2D)               (None, 64, 64, 256)  590080      conv2d_7[0][0]                   \n",
      "__________________________________________________________________________________________________\n",
      "lambda_3 (Lambda)               (None, 64, 64, 256)  0           conv2d_8[0][0]                   \n",
      "__________________________________________________________________________________________________\n",
      "add_3 (Add)                     (None, 64, 64, 256)  0           add_2[0][0]                      \n",
      "                                                                 lambda_3[0][0]                   \n",
      "__________________________________________________________________________________________________\n",
      "conv2d_9 (Conv2D)               (None, 64, 64, 256)  590080      add_3[0][0]                      \n",
      "__________________________________________________________________________________________________\n",
      "conv2d_10 (Conv2D)              (None, 64, 64, 256)  590080      conv2d_9[0][0]                   \n",
      "__________________________________________________________________________________________________\n",
      "lambda_4 (Lambda)               (None, 64, 64, 256)  0           conv2d_10[0][0]                  \n",
      "__________________________________________________________________________________________________\n",
      "add_4 (Add)                     (None, 64, 64, 256)  0           add_3[0][0]                      \n",
      "                                                                 lambda_4[0][0]                   \n",
      "__________________________________________________________________________________________________\n",
      "conv2d_11 (Conv2D)              (None, 64, 64, 256)  590080      add_4[0][0]                      \n",
      "__________________________________________________________________________________________________\n",
      "conv2d_12 (Conv2D)              (None, 64, 64, 256)  590080      conv2d_11[0][0]                  \n",
      "__________________________________________________________________________________________________\n",
      "lambda_5 (Lambda)               (None, 64, 64, 256)  0           conv2d_12[0][0]                  \n",
      "__________________________________________________________________________________________________\n",
      "add_5 (Add)                     (None, 64, 64, 256)  0           add_4[0][0]                      \n",
      "                                                                 lambda_5[0][0]                   \n",
      "__________________________________________________________________________________________________\n",
      "conv2d_13 (Conv2D)              (None, 64, 64, 256)  590080      add_5[0][0]                      \n",
      "__________________________________________________________________________________________________\n",
      "conv2d_14 (Conv2D)              (None, 64, 64, 256)  590080      conv2d_13[0][0]                  \n",
      "__________________________________________________________________________________________________\n",
      "lambda_6 (Lambda)               (None, 64, 64, 256)  0           conv2d_14[0][0]                  \n",
      "__________________________________________________________________________________________________\n",
      "add_6 (Add)                     (None, 64, 64, 256)  0           add_5[0][0]                      \n",
      "                                                                 lambda_6[0][0]                   \n",
      "__________________________________________________________________________________________________\n",
      "conv2d_15 (Conv2D)              (None, 64, 64, 256)  590080      add_6[0][0]                      \n",
      "__________________________________________________________________________________________________\n",
      "conv2d_16 (Conv2D)              (None, 64, 64, 256)  590080      conv2d_15[0][0]                  \n",
      "__________________________________________________________________________________________________\n",
      "lambda_7 (Lambda)               (None, 64, 64, 256)  0           conv2d_16[0][0]                  \n",
      "__________________________________________________________________________________________________\n",
      "add_7 (Add)                     (None, 64, 64, 256)  0           add_6[0][0]                      \n",
      "                                                                 lambda_7[0][0]                   \n",
      "__________________________________________________________________________________________________\n",
      "conv2d_17 (Conv2D)              (None, 64, 64, 256)  590080      add_7[0][0]                      \n",
      "__________________________________________________________________________________________________\n",
      "conv2d_18 (Conv2D)              (None, 64, 64, 256)  590080      conv2d_17[0][0]                  \n",
      "__________________________________________________________________________________________________\n",
      "lambda_8 (Lambda)               (None, 64, 64, 256)  0           conv2d_18[0][0]                  \n",
      "__________________________________________________________________________________________________\n",
      "add_8 (Add)                     (None, 64, 64, 256)  0           add_7[0][0]                      \n",
      "                                                                 lambda_8[0][0]                   \n",
      "__________________________________________________________________________________________________\n",
      "conv2d_19 (Conv2D)              (None, 64, 64, 256)  590080      add_8[0][0]                      \n",
      "__________________________________________________________________________________________________\n",
      "conv2d_20 (Conv2D)              (None, 64, 64, 256)  590080      conv2d_19[0][0]                  \n",
      "__________________________________________________________________________________________________\n",
      "lambda_9 (Lambda)               (None, 64, 64, 256)  0           conv2d_20[0][0]                  \n",
      "__________________________________________________________________________________________________\n",
      "add_9 (Add)                     (None, 64, 64, 256)  0           add_8[0][0]                      \n",
      "                                                                 lambda_9[0][0]                   \n",
      "__________________________________________________________________________________________________\n",
      "conv2d_21 (Conv2D)              (None, 64, 64, 256)  590080      add_9[0][0]                      \n",
      "__________________________________________________________________________________________________\n",
      "conv2d_22 (Conv2D)              (None, 64, 64, 256)  590080      conv2d_21[0][0]                  \n",
      "__________________________________________________________________________________________________\n",
      "lambda_10 (Lambda)              (None, 64, 64, 256)  0           conv2d_22[0][0]                  \n",
      "__________________________________________________________________________________________________\n",
      "add_10 (Add)                    (None, 64, 64, 256)  0           add_9[0][0]                      \n",
      "                                                                 lambda_10[0][0]                  \n",
      "__________________________________________________________________________________________________\n",
      "conv2d_23 (Conv2D)              (None, 64, 64, 256)  590080      add_10[0][0]                     \n",
      "__________________________________________________________________________________________________\n",
      "conv2d_24 (Conv2D)              (None, 64, 64, 256)  590080      conv2d_23[0][0]                  \n",
      "__________________________________________________________________________________________________\n",
      "lambda_11 (Lambda)              (None, 64, 64, 256)  0           conv2d_24[0][0]                  \n",
      "__________________________________________________________________________________________________\n",
      "add_11 (Add)                    (None, 64, 64, 256)  0           add_10[0][0]                     \n",
      "                                                                 lambda_11[0][0]                  \n",
      "__________________________________________________________________________________________________\n",
      "conv2d_25 (Conv2D)              (None, 64, 64, 256)  590080      add_11[0][0]                     \n",
      "__________________________________________________________________________________________________\n",
      "conv2d_26 (Conv2D)              (None, 64, 64, 256)  590080      conv2d_25[0][0]                  \n",
      "__________________________________________________________________________________________________\n",
      "lambda_12 (Lambda)              (None, 64, 64, 256)  0           conv2d_26[0][0]                  \n",
      "__________________________________________________________________________________________________\n",
      "add_12 (Add)                    (None, 64, 64, 256)  0           add_11[0][0]                     \n",
      "                                                                 lambda_12[0][0]                  \n",
      "__________________________________________________________________________________________________\n",
      "conv2d_27 (Conv2D)              (None, 64, 64, 256)  590080      add_12[0][0]                     \n",
      "__________________________________________________________________________________________________\n",
      "conv2d_28 (Conv2D)              (None, 64, 64, 256)  590080      conv2d_27[0][0]                  \n",
      "__________________________________________________________________________________________________\n",
      "lambda_13 (Lambda)              (None, 64, 64, 256)  0           conv2d_28[0][0]                  \n",
      "__________________________________________________________________________________________________\n",
      "add_13 (Add)                    (None, 64, 64, 256)  0           add_12[0][0]                     \n",
      "                                                                 lambda_13[0][0]                  \n",
      "__________________________________________________________________________________________________\n",
      "conv2d_29 (Conv2D)              (None, 64, 64, 256)  590080      add_13[0][0]                     \n",
      "__________________________________________________________________________________________________\n",
      "conv2d_30 (Conv2D)              (None, 64, 64, 256)  590080      conv2d_29[0][0]                  \n",
      "__________________________________________________________________________________________________\n",
      "lambda_14 (Lambda)              (None, 64, 64, 256)  0           conv2d_30[0][0]                  \n",
      "__________________________________________________________________________________________________\n",
      "add_14 (Add)                    (None, 64, 64, 256)  0           add_13[0][0]                     \n",
      "                                                                 lambda_14[0][0]                  \n",
      "__________________________________________________________________________________________________\n",
      "conv2d_31 (Conv2D)              (None, 64, 64, 256)  590080      add_14[0][0]                     \n",
      "__________________________________________________________________________________________________\n",
      "conv2d_32 (Conv2D)              (None, 64, 64, 256)  590080      conv2d_31[0][0]                  \n",
      "__________________________________________________________________________________________________\n",
      "lambda_15 (Lambda)              (None, 64, 64, 256)  0           conv2d_32[0][0]                  \n",
      "__________________________________________________________________________________________________\n",
      "add_15 (Add)                    (None, 64, 64, 256)  0           add_14[0][0]                     \n",
      "                                                                 lambda_15[0][0]                  \n",
      "__________________________________________________________________________________________________\n",
      "conv2d_33 (Conv2D)              (None, 64, 64, 256)  590080      add_15[0][0]                     \n",
      "__________________________________________________________________________________________________\n",
      "add_16 (Add)                    (None, 64, 64, 256)  0           conv2d[0][0]                     \n",
      "                                                                 conv2d_33[0][0]                  \n",
      "__________________________________________________________________________________________________\n",
      "conv2d_34 (Conv2D)              (None, 64, 64, 1)    2305        add_16[0][0]                     \n",
      "==================================================================================================\n",
      "Total params: 19,477,508\n",
      "Trainable params: 19,477,505\n",
      "Non-trainable params: 3\n",
      "__________________________________________________________________________________________________\n"
     ]
    }
   ],
   "source": [
    "model = edsr(input_shape, num_filters=256, num_res_blocks=16, res_block_scaling=0.1)\n",
    "model.compile(optimizer=Adam(0.0001), loss=\"mae\")\n",
    "\n",
    "adapt_model(model, X)\n",
    "model.summary()"
   ]
  },
  {
   "cell_type": "code",
   "execution_count": 7,
   "metadata": {
    "scrolled": true
   },
   "outputs": [
    {
     "data": {
      "application/vnd.jupyter.widget-view+json": {
       "model_id": "44059dc552754117b455e9ac9f732e81",
       "version_major": 2,
       "version_minor": 0
      },
      "text/plain": [
       "HBox(children=(FloatProgress(value=0.0, description='Training', layout=Layout(flex='2'), max=1000.0, style=Pro…"
      ]
     },
     "metadata": {},
     "output_type": "display_data"
    },
    {
     "name": "stdout",
     "output_type": "stream",
     "text": [
      "Epoch 1/1000\n"
     ]
    },
    {
     "data": {
      "application/vnd.jupyter.widget-view+json": {
       "model_id": "aa1481c88d424e1fa1aa0daed9a5c10c",
       "version_major": 2,
       "version_minor": 0
      },
      "text/plain": [
       "HBox(children=(FloatProgress(value=0.0, layout=Layout(flex='2'), max=5625.0), HTML(value='')), layout=Layout(d…"
      ]
     },
     "metadata": {},
     "output_type": "display_data"
    },
    {
     "name": "stdout",
     "output_type": "stream",
     "text": [
      "\n",
      "WARNING:tensorflow:From /usr/local/lib/python3.6/dist-packages/tensorflow_core/python/ops/resource_variable_ops.py:1786: calling BaseResourceVariable.__init__ (from tensorflow.python.ops.resource_variable_ops) with constraint is deprecated and will be removed in a future version.\n",
      "Instructions for updating:\n",
      "If using Keras pass *_constraint arguments to layers.\n",
      "INFO:tensorflow:Assets written to: ./models/edsr2.tf/assets\n",
      "Epoch 2/1000\n"
     ]
    },
    {
     "data": {
      "application/vnd.jupyter.widget-view+json": {
       "model_id": "88df134125da413aa4fdc06ead1f1c65",
       "version_major": 2,
       "version_minor": 0
      },
      "text/plain": [
       "HBox(children=(FloatProgress(value=0.0, layout=Layout(flex='2'), max=5625.0), HTML(value='')), layout=Layout(d…"
      ]
     },
     "metadata": {},
     "output_type": "display_data"
    },
    {
     "name": "stdout",
     "output_type": "stream",
     "text": [
      "\n",
      "INFO:tensorflow:Assets written to: ./models/edsr2.tf/assets\n",
      "Epoch 3/1000\n"
     ]
    },
    {
     "data": {
      "application/vnd.jupyter.widget-view+json": {
       "model_id": "3fb5301497e843f091a2d901c8f58dfc",
       "version_major": 2,
       "version_minor": 0
      },
      "text/plain": [
       "HBox(children=(FloatProgress(value=0.0, layout=Layout(flex='2'), max=5625.0), HTML(value='')), layout=Layout(d…"
      ]
     },
     "metadata": {},
     "output_type": "display_data"
    },
    {
     "name": "stdout",
     "output_type": "stream",
     "text": [
      "\n",
      "INFO:tensorflow:Assets written to: ./models/edsr2.tf/assets\n",
      "Epoch 4/1000\n"
     ]
    },
    {
     "data": {
      "application/vnd.jupyter.widget-view+json": {
       "model_id": "1d648711ab6149cda152395d9167d845",
       "version_major": 2,
       "version_minor": 0
      },
      "text/plain": [
       "HBox(children=(FloatProgress(value=0.0, layout=Layout(flex='2'), max=5625.0), HTML(value='')), layout=Layout(d…"
      ]
     },
     "metadata": {},
     "output_type": "display_data"
    },
    {
     "name": "stdout",
     "output_type": "stream",
     "text": [
      "\n",
      "INFO:tensorflow:Assets written to: ./models/edsr2.tf/assets\n",
      "Epoch 5/1000\n"
     ]
    },
    {
     "data": {
      "application/vnd.jupyter.widget-view+json": {
       "model_id": "e9276feafcd64a47ae4546a02ddb3b51",
       "version_major": 2,
       "version_minor": 0
      },
      "text/plain": [
       "HBox(children=(FloatProgress(value=0.0, layout=Layout(flex='2'), max=5625.0), HTML(value='')), layout=Layout(d…"
      ]
     },
     "metadata": {},
     "output_type": "display_data"
    },
    {
     "name": "stdout",
     "output_type": "stream",
     "text": [
      "\n",
      "Epoch 6/1000\n"
     ]
    },
    {
     "data": {
      "application/vnd.jupyter.widget-view+json": {
       "model_id": "cd1a2b4ea13e435dbf27c98042433514",
       "version_major": 2,
       "version_minor": 0
      },
      "text/plain": [
       "HBox(children=(FloatProgress(value=0.0, layout=Layout(flex='2'), max=5625.0), HTML(value='')), layout=Layout(d…"
      ]
     },
     "metadata": {},
     "output_type": "display_data"
    },
    {
     "name": "stdout",
     "output_type": "stream",
     "text": [
      "\n",
      "Epoch 7/1000\n"
     ]
    },
    {
     "data": {
      "application/vnd.jupyter.widget-view+json": {
       "model_id": "42cd2f09c281457c8ed2949dc2f85f6d",
       "version_major": 2,
       "version_minor": 0
      },
      "text/plain": [
       "HBox(children=(FloatProgress(value=0.0, layout=Layout(flex='2'), max=5625.0), HTML(value='')), layout=Layout(d…"
      ]
     },
     "metadata": {},
     "output_type": "display_data"
    },
    {
     "name": "stdout",
     "output_type": "stream",
     "text": [
      "\n",
      "INFO:tensorflow:Assets written to: ./models/edsr2.tf/assets\n",
      "Epoch 8/1000\n"
     ]
    },
    {
     "data": {
      "application/vnd.jupyter.widget-view+json": {
       "model_id": "25179108a459411883171f917081ca57",
       "version_major": 2,
       "version_minor": 0
      },
      "text/plain": [
       "HBox(children=(FloatProgress(value=0.0, layout=Layout(flex='2'), max=5625.0), HTML(value='')), layout=Layout(d…"
      ]
     },
     "metadata": {},
     "output_type": "display_data"
    },
    {
     "name": "stdout",
     "output_type": "stream",
     "text": [
      "\n",
      "Epoch 9/1000\n"
     ]
    },
    {
     "data": {
      "application/vnd.jupyter.widget-view+json": {
       "model_id": "4537e1723c6a419780129874f18593ad",
       "version_major": 2,
       "version_minor": 0
      },
      "text/plain": [
       "HBox(children=(FloatProgress(value=0.0, layout=Layout(flex='2'), max=5625.0), HTML(value='')), layout=Layout(d…"
      ]
     },
     "metadata": {},
     "output_type": "display_data"
    },
    {
     "name": "stdout",
     "output_type": "stream",
     "text": [
      "\n",
      "INFO:tensorflow:Assets written to: ./models/edsr2.tf/assets\n",
      "Epoch 10/1000\n"
     ]
    },
    {
     "data": {
      "application/vnd.jupyter.widget-view+json": {
       "model_id": "d9672959fa014dbaa4c05467abd663ba",
       "version_major": 2,
       "version_minor": 0
      },
      "text/plain": [
       "HBox(children=(FloatProgress(value=0.0, layout=Layout(flex='2'), max=5625.0), HTML(value='')), layout=Layout(d…"
      ]
     },
     "metadata": {},
     "output_type": "display_data"
    },
    {
     "name": "stdout",
     "output_type": "stream",
     "text": [
      "\n",
      "INFO:tensorflow:Assets written to: ./models/edsr2.tf/assets\n",
      "Epoch 11/1000\n"
     ]
    },
    {
     "data": {
      "application/vnd.jupyter.widget-view+json": {
       "model_id": "e864d3ee8a9b4d76a40114a33f734f25",
       "version_major": 2,
       "version_minor": 0
      },
      "text/plain": [
       "HBox(children=(FloatProgress(value=0.0, layout=Layout(flex='2'), max=5625.0), HTML(value='')), layout=Layout(d…"
      ]
     },
     "metadata": {},
     "output_type": "display_data"
    },
    {
     "name": "stdout",
     "output_type": "stream",
     "text": [
      "\n",
      "INFO:tensorflow:Assets written to: ./models/edsr2.tf/assets\n",
      "Epoch 12/1000\n"
     ]
    },
    {
     "data": {
      "application/vnd.jupyter.widget-view+json": {
       "model_id": "c007ef81b3314023886e659949e11a19",
       "version_major": 2,
       "version_minor": 0
      },
      "text/plain": [
       "HBox(children=(FloatProgress(value=0.0, layout=Layout(flex='2'), max=5625.0), HTML(value='')), layout=Layout(d…"
      ]
     },
     "metadata": {},
     "output_type": "display_data"
    },
    {
     "name": "stdout",
     "output_type": "stream",
     "text": [
      "\n",
      "Epoch 13/1000\n"
     ]
    },
    {
     "data": {
      "application/vnd.jupyter.widget-view+json": {
       "model_id": "10a0f5472d7b4f77a669cf9103227d66",
       "version_major": 2,
       "version_minor": 0
      },
      "text/plain": [
       "HBox(children=(FloatProgress(value=0.0, layout=Layout(flex='2'), max=5625.0), HTML(value='')), layout=Layout(d…"
      ]
     },
     "metadata": {},
     "output_type": "display_data"
    },
    {
     "name": "stdout",
     "output_type": "stream",
     "text": [
      "\n",
      "Epoch 14/1000\n"
     ]
    },
    {
     "data": {
      "application/vnd.jupyter.widget-view+json": {
       "model_id": "582a56d30c894569bbfe9d9d76253da1",
       "version_major": 2,
       "version_minor": 0
      },
      "text/plain": [
       "HBox(children=(FloatProgress(value=0.0, layout=Layout(flex='2'), max=5625.0), HTML(value='')), layout=Layout(d…"
      ]
     },
     "metadata": {},
     "output_type": "display_data"
    },
    {
     "name": "stdout",
     "output_type": "stream",
     "text": [
      "\n",
      "Epoch 15/1000\n"
     ]
    },
    {
     "data": {
      "application/vnd.jupyter.widget-view+json": {
       "model_id": "97303fe264a143698c663306aafce8d7",
       "version_major": 2,
       "version_minor": 0
      },
      "text/plain": [
       "HBox(children=(FloatProgress(value=0.0, layout=Layout(flex='2'), max=5625.0), HTML(value='')), layout=Layout(d…"
      ]
     },
     "metadata": {},
     "output_type": "display_data"
    },
    {
     "name": "stdout",
     "output_type": "stream",
     "text": [
      "\n",
      "Epoch 16/1000\n"
     ]
    },
    {
     "data": {
      "application/vnd.jupyter.widget-view+json": {
       "model_id": "ff4722c901e5407791ad373a60231ec2",
       "version_major": 2,
       "version_minor": 0
      },
      "text/plain": [
       "HBox(children=(FloatProgress(value=0.0, layout=Layout(flex='2'), max=5625.0), HTML(value='')), layout=Layout(d…"
      ]
     },
     "metadata": {},
     "output_type": "display_data"
    },
    {
     "name": "stdout",
     "output_type": "stream",
     "text": [
      "\n",
      "Epoch 17/1000\n"
     ]
    },
    {
     "data": {
      "application/vnd.jupyter.widget-view+json": {
       "model_id": "b344e7edd2234f1faf75cfe597435ebc",
       "version_major": 2,
       "version_minor": 0
      },
      "text/plain": [
       "HBox(children=(FloatProgress(value=0.0, layout=Layout(flex='2'), max=5625.0), HTML(value='')), layout=Layout(d…"
      ]
     },
     "metadata": {},
     "output_type": "display_data"
    },
    {
     "name": "stdout",
     "output_type": "stream",
     "text": [
      "\n",
      "Epoch 18/1000\n"
     ]
    },
    {
     "data": {
      "application/vnd.jupyter.widget-view+json": {
       "model_id": "6ce40017566446b3b650b4668628ef99",
       "version_major": 2,
       "version_minor": 0
      },
      "text/plain": [
       "HBox(children=(FloatProgress(value=0.0, layout=Layout(flex='2'), max=5625.0), HTML(value='')), layout=Layout(d…"
      ]
     },
     "metadata": {},
     "output_type": "display_data"
    },
    {
     "name": "stdout",
     "output_type": "stream",
     "text": [
      "\n",
      "INFO:tensorflow:Assets written to: ./models/edsr2.tf/assets\n",
      "Epoch 19/1000\n"
     ]
    },
    {
     "data": {
      "application/vnd.jupyter.widget-view+json": {
       "model_id": "bde1d3753ef0497ca3a30fd79f4163ad",
       "version_major": 2,
       "version_minor": 0
      },
      "text/plain": [
       "HBox(children=(FloatProgress(value=0.0, layout=Layout(flex='2'), max=5625.0), HTML(value='')), layout=Layout(d…"
      ]
     },
     "metadata": {},
     "output_type": "display_data"
    },
    {
     "name": "stdout",
     "output_type": "stream",
     "text": [
      "\n",
      "Epoch 20/1000\n"
     ]
    },
    {
     "data": {
      "application/vnd.jupyter.widget-view+json": {
       "model_id": "ec45b857b9464a40afd4d53b7bcd98a8",
       "version_major": 2,
       "version_minor": 0
      },
      "text/plain": [
       "HBox(children=(FloatProgress(value=0.0, layout=Layout(flex='2'), max=5625.0), HTML(value='')), layout=Layout(d…"
      ]
     },
     "metadata": {},
     "output_type": "display_data"
    },
    {
     "name": "stdout",
     "output_type": "stream",
     "text": [
      "\n",
      "Epoch 21/1000\n"
     ]
    },
    {
     "data": {
      "application/vnd.jupyter.widget-view+json": {
       "model_id": "35fe68fe661a4b288e332c934072784a",
       "version_major": 2,
       "version_minor": 0
      },
      "text/plain": [
       "HBox(children=(FloatProgress(value=0.0, layout=Layout(flex='2'), max=5625.0), HTML(value='')), layout=Layout(d…"
      ]
     },
     "metadata": {},
     "output_type": "display_data"
    },
    {
     "name": "stdout",
     "output_type": "stream",
     "text": [
      "\n",
      "Epoch 22/1000\n"
     ]
    },
    {
     "data": {
      "application/vnd.jupyter.widget-view+json": {
       "model_id": "d7416170ef3c40fd8fc3511a97c78da8",
       "version_major": 2,
       "version_minor": 0
      },
      "text/plain": [
       "HBox(children=(FloatProgress(value=0.0, layout=Layout(flex='2'), max=5625.0), HTML(value='')), layout=Layout(d…"
      ]
     },
     "metadata": {},
     "output_type": "display_data"
    },
    {
     "name": "stdout",
     "output_type": "stream",
     "text": [
      "\n",
      "Epoch 23/1000\n"
     ]
    },
    {
     "data": {
      "application/vnd.jupyter.widget-view+json": {
       "model_id": "518e13afc2ce4700b18620a7aa9b6670",
       "version_major": 2,
       "version_minor": 0
      },
      "text/plain": [
       "HBox(children=(FloatProgress(value=0.0, layout=Layout(flex='2'), max=5625.0), HTML(value='')), layout=Layout(d…"
      ]
     },
     "metadata": {},
     "output_type": "display_data"
    },
    {
     "name": "stdout",
     "output_type": "stream",
     "text": [
      "\n",
      "INFO:tensorflow:Assets written to: ./models/edsr2.tf/assets\n",
      "Epoch 24/1000\n"
     ]
    },
    {
     "data": {
      "application/vnd.jupyter.widget-view+json": {
       "model_id": "8e0d73bea69e492295a74ac8cabf4d72",
       "version_major": 2,
       "version_minor": 0
      },
      "text/plain": [
       "HBox(children=(FloatProgress(value=0.0, layout=Layout(flex='2'), max=5625.0), HTML(value='')), layout=Layout(d…"
      ]
     },
     "metadata": {},
     "output_type": "display_data"
    },
    {
     "name": "stdout",
     "output_type": "stream",
     "text": [
      "\n",
      "Epoch 25/1000\n"
     ]
    },
    {
     "data": {
      "application/vnd.jupyter.widget-view+json": {
       "model_id": "8c4d7b607b3c46f4b7b1ad192001f479",
       "version_major": 2,
       "version_minor": 0
      },
      "text/plain": [
       "HBox(children=(FloatProgress(value=0.0, layout=Layout(flex='2'), max=5625.0), HTML(value='')), layout=Layout(d…"
      ]
     },
     "metadata": {},
     "output_type": "display_data"
    },
    {
     "name": "stdout",
     "output_type": "stream",
     "text": [
      "\n",
      "Epoch 26/1000\n"
     ]
    },
    {
     "data": {
      "application/vnd.jupyter.widget-view+json": {
       "model_id": "42dc038581d0481989dc2a40996e8886",
       "version_major": 2,
       "version_minor": 0
      },
      "text/plain": [
       "HBox(children=(FloatProgress(value=0.0, layout=Layout(flex='2'), max=5625.0), HTML(value='')), layout=Layout(d…"
      ]
     },
     "metadata": {},
     "output_type": "display_data"
    },
    {
     "name": "stdout",
     "output_type": "stream",
     "text": [
      "\n",
      "Epoch 27/1000\n"
     ]
    },
    {
     "data": {
      "application/vnd.jupyter.widget-view+json": {
       "model_id": "fc14d7a7a8904c499394e9717b26f93b",
       "version_major": 2,
       "version_minor": 0
      },
      "text/plain": [
       "HBox(children=(FloatProgress(value=0.0, layout=Layout(flex='2'), max=5625.0), HTML(value='')), layout=Layout(d…"
      ]
     },
     "metadata": {},
     "output_type": "display_data"
    },
    {
     "name": "stdout",
     "output_type": "stream",
     "text": [
      "\n",
      "Epoch 28/1000\n"
     ]
    },
    {
     "data": {
      "application/vnd.jupyter.widget-view+json": {
       "model_id": "1acd28d57c8644959de7ff30556dc904",
       "version_major": 2,
       "version_minor": 0
      },
      "text/plain": [
       "HBox(children=(FloatProgress(value=0.0, layout=Layout(flex='2'), max=5625.0), HTML(value='')), layout=Layout(d…"
      ]
     },
     "metadata": {},
     "output_type": "display_data"
    },
    {
     "name": "stdout",
     "output_type": "stream",
     "text": [
      "\n",
      "Epoch 29/1000\n"
     ]
    },
    {
     "data": {
      "application/vnd.jupyter.widget-view+json": {
       "model_id": "db141461f06c498b9558df9a09927823",
       "version_major": 2,
       "version_minor": 0
      },
      "text/plain": [
       "HBox(children=(FloatProgress(value=0.0, layout=Layout(flex='2'), max=5625.0), HTML(value='')), layout=Layout(d…"
      ]
     },
     "metadata": {},
     "output_type": "display_data"
    },
    {
     "name": "stdout",
     "output_type": "stream",
     "text": [
      "\n",
      "Epoch 30/1000\n"
     ]
    },
    {
     "data": {
      "application/vnd.jupyter.widget-view+json": {
       "model_id": "378ef01cc8ec44a78760bb07766818d8",
       "version_major": 2,
       "version_minor": 0
      },
      "text/plain": [
       "HBox(children=(FloatProgress(value=0.0, layout=Layout(flex='2'), max=5625.0), HTML(value='')), layout=Layout(d…"
      ]
     },
     "metadata": {},
     "output_type": "display_data"
    },
    {
     "name": "stdout",
     "output_type": "stream",
     "text": [
      "\n",
      "Epoch 31/1000\n"
     ]
    },
    {
     "data": {
      "application/vnd.jupyter.widget-view+json": {
       "model_id": "048bafbada47453687cde4f4fcbe60a0",
       "version_major": 2,
       "version_minor": 0
      },
      "text/plain": [
       "HBox(children=(FloatProgress(value=0.0, layout=Layout(flex='2'), max=5625.0), HTML(value='')), layout=Layout(d…"
      ]
     },
     "metadata": {},
     "output_type": "display_data"
    },
    {
     "name": "stdout",
     "output_type": "stream",
     "text": [
      "\n",
      "Epoch 32/1000\n"
     ]
    },
    {
     "data": {
      "application/vnd.jupyter.widget-view+json": {
       "model_id": "4f673e56defd4fed9103db8125fa7b97",
       "version_major": 2,
       "version_minor": 0
      },
      "text/plain": [
       "HBox(children=(FloatProgress(value=0.0, layout=Layout(flex='2'), max=5625.0), HTML(value='')), layout=Layout(d…"
      ]
     },
     "metadata": {},
     "output_type": "display_data"
    },
    {
     "name": "stdout",
     "output_type": "stream",
     "text": [
      "\n",
      "Epoch 33/1000\n"
     ]
    },
    {
     "data": {
      "application/vnd.jupyter.widget-view+json": {
       "model_id": "3cb9df7a1010422c97a2f119ee770d8c",
       "version_major": 2,
       "version_minor": 0
      },
      "text/plain": [
       "HBox(children=(FloatProgress(value=0.0, layout=Layout(flex='2'), max=5625.0), HTML(value='')), layout=Layout(d…"
      ]
     },
     "metadata": {},
     "output_type": "display_data"
    },
    {
     "name": "stdout",
     "output_type": "stream",
     "text": [
      "\n",
      "Epoch 34/1000\n"
     ]
    },
    {
     "data": {
      "application/vnd.jupyter.widget-view+json": {
       "model_id": "e01218c25f54489fadb688fb198c73bf",
       "version_major": 2,
       "version_minor": 0
      },
      "text/plain": [
       "HBox(children=(FloatProgress(value=0.0, layout=Layout(flex='2'), max=5625.0), HTML(value='')), layout=Layout(d…"
      ]
     },
     "metadata": {},
     "output_type": "display_data"
    },
    {
     "name": "stdout",
     "output_type": "stream",
     "text": [
      "\n",
      "Epoch 35/1000\n"
     ]
    },
    {
     "data": {
      "application/vnd.jupyter.widget-view+json": {
       "model_id": "2060a2b247374932886eb763543ad3d3",
       "version_major": 2,
       "version_minor": 0
      },
      "text/plain": [
       "HBox(children=(FloatProgress(value=0.0, layout=Layout(flex='2'), max=5625.0), HTML(value='')), layout=Layout(d…"
      ]
     },
     "metadata": {},
     "output_type": "display_data"
    },
    {
     "name": "stdout",
     "output_type": "stream",
     "text": [
      "\n",
      "Epoch 36/1000\n"
     ]
    },
    {
     "data": {
      "application/vnd.jupyter.widget-view+json": {
       "model_id": "9ac8b06c98114325b3bc5882ca769d17",
       "version_major": 2,
       "version_minor": 0
      },
      "text/plain": [
       "HBox(children=(FloatProgress(value=0.0, layout=Layout(flex='2'), max=5625.0), HTML(value='')), layout=Layout(d…"
      ]
     },
     "metadata": {},
     "output_type": "display_data"
    },
    {
     "name": "stdout",
     "output_type": "stream",
     "text": [
      "\n",
      "Epoch 37/1000\n"
     ]
    },
    {
     "data": {
      "application/vnd.jupyter.widget-view+json": {
       "model_id": "bb6e82a510a0466e9e59212a56241bb1",
       "version_major": 2,
       "version_minor": 0
      },
      "text/plain": [
       "HBox(children=(FloatProgress(value=0.0, layout=Layout(flex='2'), max=5625.0), HTML(value='')), layout=Layout(d…"
      ]
     },
     "metadata": {},
     "output_type": "display_data"
    },
    {
     "name": "stdout",
     "output_type": "stream",
     "text": [
      "\n",
      "Epoch 38/1000\n"
     ]
    },
    {
     "data": {
      "application/vnd.jupyter.widget-view+json": {
       "model_id": "775a503f269846648480d49c3031c23a",
       "version_major": 2,
       "version_minor": 0
      },
      "text/plain": [
       "HBox(children=(FloatProgress(value=0.0, layout=Layout(flex='2'), max=5625.0), HTML(value='')), layout=Layout(d…"
      ]
     },
     "metadata": {},
     "output_type": "display_data"
    },
    {
     "name": "stdout",
     "output_type": "stream",
     "text": [
      "\n",
      "Epoch 39/1000\n"
     ]
    },
    {
     "data": {
      "application/vnd.jupyter.widget-view+json": {
       "model_id": "a404ef3bf88f449f971133dc1c06c725",
       "version_major": 2,
       "version_minor": 0
      },
      "text/plain": [
       "HBox(children=(FloatProgress(value=0.0, layout=Layout(flex='2'), max=5625.0), HTML(value='')), layout=Layout(d…"
      ]
     },
     "metadata": {},
     "output_type": "display_data"
    },
    {
     "name": "stdout",
     "output_type": "stream",
     "text": [
      "\n",
      "Epoch 40/1000\n"
     ]
    },
    {
     "data": {
      "application/vnd.jupyter.widget-view+json": {
       "model_id": "ebc8ebb5a08d4d25af43df39af10b71b",
       "version_major": 2,
       "version_minor": 0
      },
      "text/plain": [
       "HBox(children=(FloatProgress(value=0.0, layout=Layout(flex='2'), max=5625.0), HTML(value='')), layout=Layout(d…"
      ]
     },
     "metadata": {},
     "output_type": "display_data"
    },
    {
     "name": "stdout",
     "output_type": "stream",
     "text": [
      "\n",
      "Epoch 41/1000\n"
     ]
    },
    {
     "data": {
      "application/vnd.jupyter.widget-view+json": {
       "model_id": "5731c7d789704096a9d75a2aaae3a2a1",
       "version_major": 2,
       "version_minor": 0
      },
      "text/plain": [
       "HBox(children=(FloatProgress(value=0.0, layout=Layout(flex='2'), max=5625.0), HTML(value='')), layout=Layout(d…"
      ]
     },
     "metadata": {},
     "output_type": "display_data"
    },
    {
     "name": "stdout",
     "output_type": "stream",
     "text": [
      "\n",
      "Epoch 42/1000\n"
     ]
    },
    {
     "data": {
      "application/vnd.jupyter.widget-view+json": {
       "model_id": "4c366667a54341179ef705a0dd5cf805",
       "version_major": 2,
       "version_minor": 0
      },
      "text/plain": [
       "HBox(children=(FloatProgress(value=0.0, layout=Layout(flex='2'), max=5625.0), HTML(value='')), layout=Layout(d…"
      ]
     },
     "metadata": {},
     "output_type": "display_data"
    },
    {
     "name": "stdout",
     "output_type": "stream",
     "text": [
      "\n",
      "Epoch 43/1000\n"
     ]
    },
    {
     "data": {
      "application/vnd.jupyter.widget-view+json": {
       "model_id": "6c19713e1a77486caf2eb93404478fce",
       "version_major": 2,
       "version_minor": 0
      },
      "text/plain": [
       "HBox(children=(FloatProgress(value=0.0, layout=Layout(flex='2'), max=5625.0), HTML(value='')), layout=Layout(d…"
      ]
     },
     "metadata": {},
     "output_type": "display_data"
    },
    {
     "name": "stdout",
     "output_type": "stream",
     "text": [
      "\n",
      "\n",
      "INFO:tensorflow:Assets written to: ./models/edsr2.tf/assets\n"
     ]
    }
   ],
   "source": [
    "# Setup callbacks\n",
    "early_stopping = EarlyStopping(patience=20, restore_best_weights=True)\n",
    "tqdm_callback = TQDMProgressBar()\n",
    "checkpoint = ModelCheckpoint(modelpath, save_best_only=True)\n",
    "\n",
    "model.fit(\n",
    "    X,\n",
    "    Y,\n",
    "    batch_size=32,\n",
    "    epochs=1000,\n",
    "    validation_split=0.1,\n",
    "    verbose=0,\n",
    "    callbacks=[early_stopping, tqdm_callback, checkpoint],\n",
    ")\n",
    "model.save(modelpath)"
   ]
  },
  {
   "cell_type": "code",
   "execution_count": 8,
   "metadata": {},
   "outputs": [
    {
     "data": {
      "image/png": "[encoded data removed]",
      "text/plain": [
       "<Figure size 864x288 with 3 Axes>"
      ]
     },
     "metadata": {
      "needs_background": "light"
     },
     "output_type": "display_data"
    }
   ],
   "source": [
    "# Plot the results\n",
    "image_idx = -8\n",
    "pred = model.predict(X[np.newaxis, image_idx])[0]\n",
    "\n",
    "fig, ax = plt.subplots(1, 3, figsize=(12, 4), tight_layout=True)\n",
    "ax[0].imshow(X[image_idx].reshape(64, 64))\n",
    "ax[0].set_title(\"Original Noisy Image\")\n",
    "ax[1].imshow(pred.reshape(64, 64))\n",
    "ax[1].set_title(\"Denoised Image\")\n",
    "ax[2].imshow(Y[image_idx].reshape(64, 64))\n",
    "ax[2].set_title(\"Original Noiseless Image\");"
   ]
  }
 ],
 "metadata": {
  "kernelspec": {
   "display_name": "Python 3",
   "language": "python",
   "name": "python3"
  },
  "language_info": {
   "codemirror_mode": {
    "name": "ipython",
    "version": 3
   },
   "file_extension": ".py",
   "mimetype": "text/x-python",
   "name": "python",
   "nbconvert_exporter": "python",
   "pygments_lexer": "ipython3",
   "version": "3.6.9"
  },
  "widgets": {
   "application/vnd.jupyter.widget-state+json": {
    "state": {
     "00249e38c4424908ab1336f88ec25c65": {
      "model_module": "@jupyter-widgets/base",
      "model_module_version": "1.2.0",
      "model_name": "LayoutModel",
      "state": {
       "display": "inline-flex",
       "flex_flow": "row wrap",
       "width": "100%"
      }
     },
     "00355252a60241378450df0bf5c07c49": {
      "model_module": "@jupyter-widgets/base",
      "model_module_version": "1.2.0",
      "model_name": "LayoutModel",
      "state": {
       "display": "inline-flex",
       "flex_flow": "row wrap",
       "width": "100%"
      }
     },
     "00b2674e053a42d38dfdcd23dcc7d0e8": {
      "model_module": "@jupyter-widgets/base",
      "model_module_version": "1.2.0",
      "model_name": "LayoutModel",
      "state": {
       "flex": "2"
      }
     },
     "011a3917d08c4b67b9e847331a9473a3": {
      "model_module": "@jupyter-widgets/base",
      "model_module_version": "1.2.0",
      "model_name": "LayoutModel",
      "state": {
       "display": "inline-flex",
       "flex_flow": "row wrap",
       "width": "100%"
      }
     },
     "01443d2a18ac400da243975b463065d6": {
      "model_module": "@jupyter-widgets/base",
      "model_module_version": "1.2.0",
      "model_name": "LayoutModel",
      "state": {}
     },
     "01a0de0c6826476da9bf85190e810092": {
      "model_module": "@jupyter-widgets/base",
      "model_module_version": "1.2.0",
      "model_name": "LayoutModel",
      "state": {}
     },
     "01aa1181b7544f23848ee564103f5efc": {
      "model_module": "@jupyter-widgets/controls",
      "model_module_version": "1.5.0",
      "model_name": "FloatProgressModel",
      "state": {
       "bar_style": "success",
       "description": "2813/2813",
       "layout": "IPY_MODEL_30dfbd3716684082b6f47ce32d0ff708",
       "max": 2813,
       "style": "IPY_MODEL_86e3307cd15d400a903576d0f8850ea8",
       "value": 2813
      }
     },
     "01b7e291562143539c4afe601880e730": {
      "model_module": "@jupyter-widgets/base",
      "model_module_version": "1.2.0",
      "model_name": "LayoutModel",
      "state": {
       "display": "inline-flex",
       "flex_flow": "row wrap",
       "width": "100%"
      }
     },
     "01ff11195ace42fdacd1e00e71eb97f4": {
      "model_module": "@jupyter-widgets/controls",
      "model_module_version": "1.5.0",
      "model_name": "DescriptionStyleModel",
      "state": {
       "description_width": ""
      }
     },
     "023fb7112d334a43b34cc1c69cd571fc": {
      "model_module": "@jupyter-widgets/controls",
      "model_module_version": "1.5.0",
      "model_name": "DescriptionStyleModel",
      "state": {
       "description_width": ""
      }
     },
     "027448b73773455dac437c68d9e50dde": {
      "model_module": "@jupyter-widgets/controls",
      "model_module_version": "1.5.0",
      "model_name": "ProgressStyleModel",
      "state": {
       "description_width": "initial"
      }
     },
     "028d56393d114a8182d7e4be482da0f6": {
      "model_module": "@jupyter-widgets/controls",
      "model_module_version": "1.5.0",
      "model_name": "DescriptionStyleModel",
      "state": {
       "description_width": ""
      }
     },
     "0297e6d5d3e4499087abc9964e634652": {
      "model_module": "@jupyter-widgets/controls",
      "model_module_version": "1.5.0",
      "model_name": "HTMLModel",
      "state": {
       "layout": "IPY_MODEL_1b4d38d0219e4b038f8e0d8a61fd7368",
       "style": "IPY_MODEL_01ff11195ace42fdacd1e00e71eb97f4",
       "value": " ETA: 00:00s - loss: 1.3214 - val_loss: 1.8401"
      }
     },
     "0322fa2ef4ef43e6af7f6d99cfd06eba": {
      "model_module": "@jupyter-widgets/controls",
      "model_module_version": "1.5.0",
      "model_name": "HBoxModel",
      "state": {
       "children": [
        "IPY_MODEL_2aaf25d01bd047778b0024f5a07ce938",
        "IPY_MODEL_0297e6d5d3e4499087abc9964e634652"
       ],
       "layout": "IPY_MODEL_b30dd29db9264771bade8feb9c682b55"
      }
     },
     "03608a14371941fcb6eb375b5054d494": {
      "model_module": "@jupyter-widgets/controls",
      "model_module_version": "1.5.0",
      "model_name": "ProgressStyleModel",
      "state": {
       "description_width": "initial"
      }
     },
     "039396e1005f4126a19d4952b4a5e249": {
      "model_module": "@jupyter-widgets/base",
      "model_module_version": "1.2.0",
      "model_name": "LayoutModel",
      "state": {
       "flex": "2"
      }
     },
     "03db5fc577bf4a81b80a305def9b3523": {
      "model_module": "@jupyter-widgets/base",
      "model_module_version": "1.2.0",
      "model_name": "LayoutModel",
      "state": {}
     },
     "0414c58e90ef4fa0bbe21df1bebfb4f4": {
      "model_module": "@jupyter-widgets/controls",
      "model_module_version": "1.5.0",
      "model_name": "FloatProgressModel",
      "state": {
       "bar_style": "success",
       "description": "2813/2813",
       "layout": "IPY_MODEL_6282b9aa04f24eb6ac5374a4489a0aa3",
       "max": 2813,
       "style": "IPY_MODEL_9361d359ffb148babb69bb99aef7bd78",
       "value": 2813
      }
     },
     "0433b0ea8d7f449aaf97855abada835e": {
      "model_module": "@jupyter-widgets/controls",
      "model_module_version": "1.5.0",
      "model_name": "DescriptionStyleModel",
      "state": {
       "description_width": ""
      }
     },
     "043dbeaa14584679acc20b2ed7eb19cf": {
      "model_module": "@jupyter-widgets/controls",
      "model_module_version": "1.5.0",
      "model_name": "FloatProgressModel",
      "state": {
       "bar_style": "success",
       "description": "5625/5625",
       "layout": "IPY_MODEL_256aadc02c5343129a1d9e9e2f2c14c6",
       "max": 5625,
       "style": "IPY_MODEL_896eef4737ce42359f549c43347b83f4",
       "value": 5625
      }
     },
     "045a1a4a3e6846a99008d5377afb6971": {
      "model_module": "@jupyter-widgets/base",
      "model_module_version": "1.2.0",
      "model_name": "LayoutModel",
      "state": {
       "flex": "2"
      }
     },
     "048b63fc2a0f43d5bdbd2261c6015743": {
      "model_module": "@jupyter-widgets/controls",
      "model_module_version": "1.5.0",
      "model_name": "HTMLModel",
      "state": {
       "layout": "IPY_MODEL_46ac7a3a950242dd994810664b5cdef8",
       "style": "IPY_MODEL_49fb496bc0ab43dab86c59ef24be0258",
       "value": " ETA: 00:00s - loss: 1.6504 - val_loss: 1.7055"
      }
     },
     "048bafbada47453687cde4f4fcbe60a0": {
      "model_module": "@jupyter-widgets/controls",
      "model_module_version": "1.5.0",
      "model_name": "HBoxModel",
      "state": {
       "children": [
        "IPY_MODEL_06eeb7f125c446e39ce7973c5c36b815",
        "IPY_MODEL_4ff22bcf127a4995a81b83b801da1a3b"
       ],
       "layout": "IPY_MODEL_7ca9048453684a288cafdb4866452f89"
      }
     },
     "04bd77c18b184d10aeb09e9278573673": {
      "model_module": "@jupyter-widgets/controls",
      "model_module_version": "1.5.0",
      "model_name": "FloatProgressModel",
      "state": {
       "bar_style": "success",
       "description": "5625/5625",
       "layout": "IPY_MODEL_d021b75e2d08439aa4ebfe16ea6bf3f2",
       "max": 5625,
       "style": "IPY_MODEL_142f9d5cb2e144539e2c2a296c3fa9bd",
       "value": 5625
      }
     },
     "054ad219948d474092e22bb804fd4d47": {
      "model_module": "@jupyter-widgets/controls",
      "model_module_version": "1.5.0",
      "model_name": "ProgressStyleModel",
      "state": {
       "description_width": "initial"
      }
     },
     "057a40cef8034efe885c9cf12299322f": {
      "model_module": "@jupyter-widgets/controls",
      "model_module_version": "1.5.0",
      "model_name": "ProgressStyleModel",
      "state": {
       "description_width": "initial"
      }
     },
     "0595093fdb2a4f6da4bda483160e4b2c": {
      "model_module": "@jupyter-widgets/base",
      "model_module_version": "1.2.0",
      "model_name": "LayoutModel",
      "state": {
       "flex": "2"
      }
     },
     "05c31e1356b840de911f35f61a103629": {
      "model_module": "@jupyter-widgets/base",
      "model_module_version": "1.2.0",
      "model_name": "LayoutModel",
      "state": {}
     },
     "06349ababd3d498a9ce46ba74cd4d369": {
      "model_module": "@jupyter-widgets/base",
      "model_module_version": "1.2.0",
      "model_name": "LayoutModel",
      "state": {
       "display": "inline-flex",
       "flex_flow": "row wrap",
       "width": "100%"
      }
     },
     "064eab8483614ff58fd5695f7aa54f44": {
      "model_module": "@jupyter-widgets/controls",
      "model_module_version": "1.5.0",
      "model_name": "HBoxModel",
      "state": {
       "children": [
        "IPY_MODEL_0ead62fd820c4f8cbf0131a4f0709b94",
        "IPY_MODEL_669ed52a4302487da25e0e1adb6b7cc8"
       ],
       "layout": "IPY_MODEL_b62bc8ee404049d8b8c9e651e01eee67"
      }
     },
     "066fdd6e7e4d44d9820fdd237b48a1fc": {
      "model_module": "@jupyter-widgets/base",
      "model_module_version": "1.2.0",
      "model_name": "LayoutModel",
      "state": {}
     },
     "068caed0497747cd9addb6b7cd922cff": {
      "model_module": "@jupyter-widgets/base",
      "model_module_version": "1.2.0",
      "model_name": "LayoutModel",
      "state": {}
     },
     "06eeb7f125c446e39ce7973c5c36b815": {
      "model_module": "@jupyter-widgets/controls",
      "model_module_version": "1.5.0",
      "model_name": "FloatProgressModel",
      "state": {
       "bar_style": "success",
       "description": "5625/5625",
       "layout": "IPY_MODEL_a1d235add37942f49a81971a25d8cbfe",
       "max": 5625,
       "style": "IPY_MODEL_2c197093f93d414784d80a20f4343cf9",
       "value": 5625
      }
     },
     "0767dcbec9144371830aba5a14fa267c": {
      "model_module": "@jupyter-widgets/controls",
      "model_module_version": "1.5.0",
      "model_name": "ProgressStyleModel",
      "state": {
       "description_width": "initial"
      }
     },
     "077ffd25a3fc4af3bacec4e687840a11": {
      "model_module": "@jupyter-widgets/base",
      "model_module_version": "1.2.0",
      "model_name": "LayoutModel",
      "state": {
       "display": "inline-flex",
       "flex_flow": "row wrap",
       "width": "100%"
      }
     },
     "07eefd351f8b478b954de7dde04e4c13": {
      "model_module": "@jupyter-widgets/base",
      "model_module_version": "1.2.0",
      "model_name": "LayoutModel",
      "state": {
       "flex": "2"
      }
     },
     "0864d8803864470198bd08f9943cfb00": {
      "model_module": "@jupyter-widgets/controls",
      "model_module_version": "1.5.0",
      "model_name": "FloatProgressModel",
      "state": {
       "bar_style": "success",
       "description": "5625/5625",
       "layout": "IPY_MODEL_0bfa29ec82c143c58e4b7cc7aaa30bce",
       "max": 5625,
       "style": "IPY_MODEL_1b58f0b91f89429cb0e2ef64a1b993b4",
       "value": 5625
      }
     },
     "0880330362004756813b951faa6a133d": {
      "model_module": "@jupyter-widgets/controls",
      "model_module_version": "1.5.0",
      "model_name": "FloatProgressModel",
      "state": {
       "bar_style": "success",
       "description": "2813/2813",
       "layout": "IPY_MODEL_93cdfb51ff254c349d8cfe99fdc92331",
       "max": 2813,
       "style": "IPY_MODEL_ab23ba515dfa4b188e067c9a3a207197",
       "value": 2813
      }
     },
     "0887f6c1ec2d44d1bbeb9fcb7c0818e1": {
      "model_module": "@jupyter-widgets/controls",
      "model_module_version": "1.5.0",
      "model_name": "DescriptionStyleModel",
      "state": {
       "description_width": ""
      }
     },
     "08a4fcc10395487ca62bf7889d26f829": {
      "model_module": "@jupyter-widgets/base",
      "model_module_version": "1.2.0",
      "model_name": "LayoutModel",
      "state": {}
     },
     "08eb858c81bb4745a39f2d60acac0dde": {
      "model_module": "@jupyter-widgets/controls",
      "model_module_version": "1.5.0",
      "model_name": "HTMLModel",
      "state": {
       "layout": "IPY_MODEL_5d31cc43b6dc4ac7a92fb862c9ebaaa2",
       "style": "IPY_MODEL_73948381c00244cb8f1a6fd00ddf54b4",
       "value": " ETA: 00:00s - loss: 1.7471 - val_loss: 1.7008"
      }
     },
     "09a0113f895d4dc193273aa4599b597a": {
      "model_module": "@jupyter-widgets/controls",
      "model_module_version": "1.5.0",
      "model_name": "DescriptionStyleModel",
      "state": {
       "description_width": ""
      }
     },
     "09f6191bdfc749bc825db0e98e8fc5bb": {
      "model_module": "@jupyter-widgets/base",
      "model_module_version": "1.2.0",
      "model_name": "LayoutModel",
      "state": {
       "display": "inline-flex",
       "flex_flow": "row wrap",
       "width": "100%"
      }
     },
     "0a14b25aeabf4c3abd4fe3ef164de3be": {
      "model_module": "@jupyter-widgets/controls",
      "model_module_version": "1.5.0",
      "model_name": "DescriptionStyleModel",
      "state": {
       "description_width": ""
      }
     },
     "0a2e7707320e486d8b9ce1a472af8885": {
      "model_module": "@jupyter-widgets/base",
      "model_module_version": "1.2.0",
      "model_name": "LayoutModel",
      "state": {
       "display": "inline-flex",
       "flex_flow": "row wrap",
       "width": "100%"
      }
     },
     "0a7607421e46491fa1b529818fe7a05f": {
      "model_module": "@jupyter-widgets/controls",
      "model_module_version": "1.5.0",
      "model_name": "HTMLModel",
      "state": {
       "layout": "IPY_MODEL_4d558af3383748e2acab274d322b93e2",
       "style": "IPY_MODEL_09a0113f895d4dc193273aa4599b597a",
       "value": " ETA: 00:00s - loss: 1.8236 - val_loss: 1.9206"
      }
     },
     "0a8d3e2aa4de4da5a17a1a895f34a7ed": {
      "model_module": "@jupyter-widgets/base",
      "model_module_version": "1.2.0",
      "model_name": "LayoutModel",
      "state": {}
     },
     "0ae7e192bd12487091dc35203db957a9": {
      "model_module": "@jupyter-widgets/base",
      "model_module_version": "1.2.0",
      "model_name": "LayoutModel",
      "state": {}
     },
     "0b3a45b36b6e456498254637d32c61d4": {
      "model_module": "@jupyter-widgets/base",
      "model_module_version": "1.2.0",
      "model_name": "LayoutModel",
      "state": {
       "display": "inline-flex",
       "flex_flow": "row wrap",
       "width": "100%"
      }
     },
     "0b6ddeda764547c0a55d44db4aa91d32": {
      "model_module": "@jupyter-widgets/base",
      "model_module_version": "1.2.0",
      "model_name": "LayoutModel",
      "state": {
       "display": "inline-flex",
       "flex_flow": "row wrap",
       "width": "100%"
      }
     },
     "0b7d90068c6141d39007b6cf6a290437": {
      "model_module": "@jupyter-widgets/controls",
      "model_module_version": "1.5.0",
      "model_name": "HTMLModel",
      "state": {
       "layout": "IPY_MODEL_b062c9d4665746069be2922e032e61fb",
       "style": "IPY_MODEL_4e0a01bb54604c7db44b5bedd02696fc",
       "value": " ETA: 00:00s - loss: 3.8167 - val_loss: 3.1510"
      }
     },
     "0bd1c037c2574a6cadfc56e3b76562e1": {
      "model_module": "@jupyter-widgets/controls",
      "model_module_version": "1.5.0",
      "model_name": "FloatProgressModel",
      "state": {
       "bar_style": "success",
       "description": "2813/2813",
       "layout": "IPY_MODEL_3591bd79240647fc85c8acdc2d502a1e",
       "max": 2813,
       "style": "IPY_MODEL_699efae8ea3d4641983760f695f7df38",
       "value": 2813
      }
     },
     "0bfa29ec82c143c58e4b7cc7aaa30bce": {
      "model_module": "@jupyter-widgets/base",
      "model_module_version": "1.2.0",
      "model_name": "LayoutModel",
      "state": {
       "flex": "2"
      }
     },
     "0c012dacb9e44da18c670ac05d8c4ba6": {
      "model_module": "@jupyter-widgets/controls",
      "model_module_version": "1.5.0",
      "model_name": "DescriptionStyleModel",
      "state": {
       "description_width": ""
      }
     },
     "0c0cf31b3b8c4b69b83ed4018edc5170": {
      "model_module": "@jupyter-widgets/base",
      "model_module_version": "1.2.0",
      "model_name": "LayoutModel",
      "state": {
       "flex": "2"
      }
     },
     "0c4a7c68b057476788e610cb17eab516": {
      "model_module": "@jupyter-widgets/controls",
      "model_module_version": "1.5.0",
      "model_name": "ProgressStyleModel",
      "state": {
       "description_width": "initial"
      }
     },
     "0cd8c9053798494fa102f10198a710bb": {
      "model_module": "@jupyter-widgets/controls",
      "model_module_version": "1.5.0",
      "model_name": "HBoxModel",
      "state": {
       "children": [
        "IPY_MODEL_d6c84e5f01d949b1a59b4148fdbed2b1",
        "IPY_MODEL_0ec48c3a419c4a36a973e78985a5498f"
       ],
       "layout": "IPY_MODEL_3d4b1c0a91e44a4c8a310f47a76291d8"
      }
     },
     "0d03def5a20c4d8a8e9df77d9e6b2845": {
      "model_module": "@jupyter-widgets/base",
      "model_module_version": "1.2.0",
      "model_name": "LayoutModel",
      "state": {}
     },
     "0d0f4abfa3874dcb9810e6d839ba3c37": {
      "model_module": "@jupyter-widgets/base",
      "model_module_version": "1.2.0",
      "model_name": "LayoutModel",
      "state": {
       "display": "inline-flex",
       "flex_flow": "row wrap",
       "width": "100%"
      }
     },
     "0d204214958e40f78593eda5bf5a07e1": {
      "model_module": "@jupyter-widgets/controls",
      "model_module_version": "1.5.0",
      "model_name": "ProgressStyleModel",
      "state": {
       "description_width": "initial"
      }
     },
     "0d48b0247cba47b59dbf5a0112ae395e": {
      "model_module": "@jupyter-widgets/base",
      "model_module_version": "1.2.0",
      "model_name": "LayoutModel",
      "state": {
       "flex": "2"
      }
     },
     "0df70b0408dd4957a274ea4c938f46be": {
      "model_module": "@jupyter-widgets/base",
      "model_module_version": "1.2.0",
      "model_name": "LayoutModel",
      "state": {}
     },
     "0ead62fd820c4f8cbf0131a4f0709b94": {
      "model_module": "@jupyter-widgets/controls",
      "model_module_version": "1.5.0",
      "model_name": "FloatProgressModel",
      "state": {
       "bar_style": "success",
       "description": "2813/2813",
       "layout": "IPY_MODEL_fb758f7806b842dfaeb7d4c2d8b1b830",
       "max": 2813,
       "style": "IPY_MODEL_169013c90e9845e0a317969ffdcbdb5d",
       "value": 2813
      }
     },
     "0ec48c3a419c4a36a973e78985a5498f": {
      "model_module": "@jupyter-widgets/controls",
      "model_module_version": "1.5.0",
      "model_name": "HTMLModel",
      "state": {
       "layout": "IPY_MODEL_35f1e2de7934491ab85357164fb5b839",
       "style": "IPY_MODEL_5db68815bee04b078918feca7bf41c56",
       "value": " ETA: 00:00s - loss: 2.4348 - val_loss: 2.3249"
      }
     },
     "0ec669b498054d898ed6109425eca713": {
      "model_module": "@jupyter-widgets/controls",
      "model_module_version": "1.5.0",
      "model_name": "FloatProgressModel",
      "state": {
       "bar_style": "success",
       "description": "5625/5625",
       "layout": "IPY_MODEL_ee17289b9ef048afb40e49ffc12d9918",
       "max": 5625,
       "style": "IPY_MODEL_4d177b4f40704cd98b0e158392d420fa",
       "value": 5625
      }
     },
     "0ec7391d8d554c15b6af49c090349033": {
      "model_module": "@jupyter-widgets/controls",
      "model_module_version": "1.5.0",
      "model_name": "ProgressStyleModel",
      "state": {
       "description_width": "initial"
      }
     },
     "0f1472fe85ef444085effcb82043cb24": {
      "model_module": "@jupyter-widgets/controls",
      "model_module_version": "1.5.0",
      "model_name": "FloatProgressModel",
      "state": {
       "bar_style": "success",
       "description": "5625/5625",
       "layout": "IPY_MODEL_7062e8ac29fa4ede836bc5a6ff140278",
       "max": 5625,
       "style": "IPY_MODEL_ee4b8c093f5d4c239df328268b2ed6fa",
       "value": 5625
      }
     },
     "0f303e8c5be14f5c8307ec3a8fa110f3": {
      "model_module": "@jupyter-widgets/base",
      "model_module_version": "1.2.0",
      "model_name": "LayoutModel",
      "state": {}
     },
     "0f3d9d37bcbe4307b7b20f6a54e1a075": {
      "model_module": "@jupyter-widgets/base",
      "model_module_version": "1.2.0",
      "model_name": "LayoutModel",
      "state": {}
     },
     "0f44bd0a6f37444b8d64f2f4f465924e": {
      "model_module": "@jupyter-widgets/controls",
      "model_module_version": "1.5.0",
      "model_name": "HTMLModel",
      "state": {
       "layout": "IPY_MODEL_01a0de0c6826476da9bf85190e810092",
       "style": "IPY_MODEL_1fba11cda22a4e87a93781fbd8d63b18",
       "value": " ETA: 00:00s - loss: 1.7744 - val_loss: 1.7664"
      }
     },
     "0fa587eb84e64b7aabe6b97fc08046ea": {
      "model_module": "@jupyter-widgets/base",
      "model_module_version": "1.2.0",
      "model_name": "LayoutModel",
      "state": {}
     },
     "0faa1e0a2fd349b595effaaca30fe1a6": {
      "model_module": "@jupyter-widgets/controls",
      "model_module_version": "1.5.0",
      "model_name": "HBoxModel",
      "state": {
       "children": [
        "IPY_MODEL_c59ae8f2c4bc45ef82dab3f35453e3fb",
        "IPY_MODEL_9057bad49a944c87a7edfc58d466f76e"
       ],
       "layout": "IPY_MODEL_db0d2f98928f42bd85b0b8fd1fdc47b1"
      }
     },
     "0ff09ffb23b8407c899b2c684073ee4b": {
      "model_module": "@jupyter-widgets/controls",
      "model_module_version": "1.5.0",
      "model_name": "HTMLModel",
      "state": {
       "layout": "IPY_MODEL_39a145413bce4b19bc7caf6a8c49bbaa",
       "style": "IPY_MODEL_3e1aad3b485f478d99e3364d73c36faf",
       "value": " ETA: 00:00s - loss: 1.2151 - val_loss: 1.8204"
      }
     },
     "1025d0bd952c439b8f9db2166cbfbb94": {
      "model_module": "@jupyter-widgets/base",
      "model_module_version": "1.2.0",
      "model_name": "LayoutModel",
      "state": {
       "flex": "2"
      }
     },
     "102c17c943ba4586acd4995ac9595630": {
      "model_module": "@jupyter-widgets/controls",
      "model_module_version": "1.5.0",
      "model_name": "DescriptionStyleModel",
      "state": {
       "description_width": ""
      }
     },
     "107bb672d94543928b7202680f09fd0b": {
      "model_module": "@jupyter-widgets/controls",
      "model_module_version": "1.5.0",
      "model_name": "HTMLModel",
      "state": {
       "layout": "IPY_MODEL_afa67786b31b4339b0b298e7aefc29ea",
       "style": "IPY_MODEL_1556200434e14f15bf552de72066dfe2",
       "value": " ETA: 00:00s - loss: 1.4898 - val_loss: 1.7630"
      }
     },
     "10a0f5472d7b4f77a669cf9103227d66": {
      "model_module": "@jupyter-widgets/controls",
      "model_module_version": "1.5.0",
      "model_name": "HBoxModel",
      "state": {
       "children": [
        "IPY_MODEL_bef4100fb37f402082e3ca041f67cd6b",
        "IPY_MODEL_eca915375d144165b2357511dfd5fa72"
       ],
       "layout": "IPY_MODEL_a1acc5513e6845b9a1dc44db80c66cd6"
      }
     },
     "10af24339b864dfc8902bdf0d7a56ad4": {
      "model_module": "@jupyter-widgets/base",
      "model_module_version": "1.2.0",
      "model_name": "LayoutModel",
      "state": {
       "display": "inline-flex",
       "flex_flow": "row wrap",
       "width": "100%"
      }
     },
     "10d3bd66065f4b0d9470bfdb786b94ed": {
      "model_module": "@jupyter-widgets/controls",
      "model_module_version": "1.5.0",
      "model_name": "HBoxModel",
      "state": {
       "children": [
        "IPY_MODEL_0f1472fe85ef444085effcb82043cb24",
        "IPY_MODEL_b8422af5e02b4d848b4e042be5c6fc85"
       ],
       "layout": "IPY_MODEL_9e8a564d78e243f795c7b9405f40e0e0"
      }
     },
     "1138f465295f4aeea53112190518f9a9": {
      "model_module": "@jupyter-widgets/base",
      "model_module_version": "1.2.0",
      "model_name": "LayoutModel",
      "state": {
       "display": "inline-flex",
       "flex_flow": "row wrap",
       "width": "100%"
      }
     },
     "11472f6d02534f79bd7428fd89883f9c": {
      "model_module": "@jupyter-widgets/controls",
      "model_module_version": "1.5.0",
      "model_name": "FloatProgressModel",
      "state": {
       "bar_style": "success",
       "description": "2813/2813",
       "layout": "IPY_MODEL_45293884df9540bb868d1cb5d17389d3",
       "max": 2813,
       "style": "IPY_MODEL_7629e5aea49f451da29ed1bb05e1cd42",
       "value": 2813
      }
     },
     "11b10c5ce20a4ce1a8f453f335775d6f": {
      "model_module": "@jupyter-widgets/controls",
      "model_module_version": "1.5.0",
      "model_name": "FloatProgressModel",
      "state": {
       "bar_style": "success",
       "description": "2813/2813",
       "layout": "IPY_MODEL_1f87c608c69a4ab885fa77428bcd09fd",
       "max": 2813,
       "style": "IPY_MODEL_e93e512dca3e42c1b57eb4797b733703",
       "value": 2813
      }
     },
     "11da14a478f448a9b6b885e44fdddf4a": {
      "model_module": "@jupyter-widgets/controls",
      "model_module_version": "1.5.0",
      "model_name": "HTMLModel",
      "state": {
       "layout": "IPY_MODEL_b45f1bd4cd9c48088a3ae607cbdd1631",
       "style": "IPY_MODEL_c129eb534eef4d09bb751ab504a39f41",
       "value": " ETA: 00:00s - loss: 2.0918 - val_loss: 1.9351"
      }
     },
     "11ed534ca06444b1b9433d04a4e41cbd": {
      "model_module": "@jupyter-widgets/controls",
      "model_module_version": "1.5.0",
      "model_name": "ProgressStyleModel",
      "state": {
       "description_width": "initial"
      }
     },
     "1204e8596bc74215bd0fa1f1d9ae3535": {
      "model_module": "@jupyter-widgets/base",
      "model_module_version": "1.2.0",
      "model_name": "LayoutModel",
      "state": {}
     },
     "1229a4c65f8a4b06b846f538b4c6a4a8": {
      "model_module": "@jupyter-widgets/base",
      "model_module_version": "1.2.0",
      "model_name": "LayoutModel",
      "state": {
       "flex": "2"
      }
     },
     "1233834dff244dac91a0ff3336c7208e": {
      "model_module": "@jupyter-widgets/controls",
      "model_module_version": "1.5.0",
      "model_name": "ProgressStyleModel",
      "state": {
       "description_width": "initial"
      }
     },
     "1255e568d75a4323a82a03b06d3dd412": {
      "model_module": "@jupyter-widgets/controls",
      "model_module_version": "1.5.0",
      "model_name": "DescriptionStyleModel",
      "state": {
       "description_width": ""
      }
     },
     "127044d0bfb34fe59590aa5921262729": {
      "model_module": "@jupyter-widgets/controls",
      "model_module_version": "1.5.0",
      "model_name": "ProgressStyleModel",
      "state": {
       "description_width": "initial"
      }
     },
     "128bd4ced7544c7c9b594700d024fa4d": {
      "model_module": "@jupyter-widgets/controls",
      "model_module_version": "1.5.0",
      "model_name": "HTMLModel",
      "state": {
       "layout": "IPY_MODEL_817d4ab8ad934760995039628f8997c3",
       "style": "IPY_MODEL_ff9efe55eff64c3c968457248f72cbbc",
       "value": " 19/100 ETA: 34:06:29s,  1515.92s/epochs"
      }
     },
     "12963f95ebee4c28a3b8b8db72b72e8b": {
      "model_module": "@jupyter-widgets/controls",
      "model_module_version": "1.5.0",
      "model_name": "ProgressStyleModel",
      "state": {
       "description_width": "initial"
      }
     },
     "13775a647ebc48508bd5d83cbc518a80": {
      "model_module": "@jupyter-widgets/controls",
      "model_module_version": "1.5.0",
      "model_name": "ProgressStyleModel",
      "state": {
       "description_width": "initial"
      }
     },
     "13d7308bef12453f8210b7a7e1d60883": {
      "model_module": "@jupyter-widgets/controls",
      "model_module_version": "1.5.0",
      "model_name": "FloatProgressModel",
      "state": {
       "bar_style": "success",
       "description": "2813/2813",
       "layout": "IPY_MODEL_4133d3c5ed3b4cbd9b331f8ccb7c0d06",
       "max": 2813,
       "style": "IPY_MODEL_a2c9df46ff3a46c78cb135e9db9c334a",
       "value": 2813
      }
     },
     "141364fc21f34107830ba8d7eda92c58": {
      "model_module": "@jupyter-widgets/controls",
      "model_module_version": "1.5.0",
      "model_name": "FloatProgressModel",
      "state": {
       "bar_style": "success",
       "description": "2813/2813",
       "layout": "IPY_MODEL_b505026e946e4a048a066f8905a2651b",
       "max": 2813,
       "style": "IPY_MODEL_8df72057fd804cd688208d322d390d87",
       "value": 2813
      }
     },
     "142f9d5cb2e144539e2c2a296c3fa9bd": {
      "model_module": "@jupyter-widgets/controls",
      "model_module_version": "1.5.0",
      "model_name": "ProgressStyleModel",
      "state": {
       "description_width": "initial"
      }
     },
     "1468659355e14fb0ba7e617ed1ad7990": {
      "model_module": "@jupyter-widgets/base",
      "model_module_version": "1.2.0",
      "model_name": "LayoutModel",
      "state": {
       "flex": "2"
      }
     },
     "14e084a580d048a59265c06365178d52": {
      "model_module": "@jupyter-widgets/controls",
      "model_module_version": "1.5.0",
      "model_name": "FloatProgressModel",
      "state": {
       "bar_style": "success",
       "description": "5625/5625",
       "layout": "IPY_MODEL_2c125f04944e47bea26938cb49cd163b",
       "max": 5625,
       "style": "IPY_MODEL_94d31b8aea9445e0a07c4fa00c310f55",
       "value": 5625
      }
     },
     "1503039e0cd34dd6a627984c0e2dce85": {
      "model_module": "@jupyter-widgets/base",
      "model_module_version": "1.2.0",
      "model_name": "LayoutModel",
      "state": {
       "display": "inline-flex",
       "flex_flow": "row wrap",
       "width": "100%"
      }
     },
     "1556200434e14f15bf552de72066dfe2": {
      "model_module": "@jupyter-widgets/controls",
      "model_module_version": "1.5.0",
      "model_name": "DescriptionStyleModel",
      "state": {
       "description_width": ""
      }
     },
     "159f77b7051d43b5a2a739aca8350c20": {
      "model_module": "@jupyter-widgets/controls",
      "model_module_version": "1.5.0",
      "model_name": "HTMLModel",
      "state": {
       "layout": "IPY_MODEL_fd6da3140c3c46b183c08e8da765c0eb",
       "style": "IPY_MODEL_a5c706384ec54ba8b41daed4d0f790b3",
       "value": " ETA: 00:00s - loss: 1.6713 - val_loss: 1.7159"
      }
     },
     "162077ba2a984c33be0fbd84cad1eccd": {
      "model_module": "@jupyter-widgets/controls",
      "model_module_version": "1.5.0",
      "model_name": "HTMLModel",
      "state": {
       "layout": "IPY_MODEL_37c712995e65437da85cebfd70656796",
       "style": "IPY_MODEL_5bdc75d0f6df405caa813349e3b2873a",
       "value": " ETA: 00:00s - loss: 1.7231 - val_loss: 1.7091"
      }
     },
     "16294bc36baf4796a70ca3e9e6ead532": {
      "model_module": "@jupyter-widgets/controls",
      "model_module_version": "1.5.0",
      "model_name": "HBoxModel",
      "state": {
       "children": [
        "IPY_MODEL_04bd77c18b184d10aeb09e9278573673",
        "IPY_MODEL_f350f7ad3c9c48918b7cb781304f742a"
       ],
       "layout": "IPY_MODEL_c3efef1d53bf423ba1bb209048261cff"
      }
     },
     "162e2279a87d4af0955b0b74b879faa0": {
      "model_module": "@jupyter-widgets/base",
      "model_module_version": "1.2.0",
      "model_name": "LayoutModel",
      "state": {
       "display": "inline-flex",
       "flex_flow": "row wrap",
       "width": "100%"
      }
     },
     "1681dc6080c546f5aa44aec18e6bf283": {
      "model_module": "@jupyter-widgets/base",
      "model_module_version": "1.2.0",
      "model_name": "LayoutModel",
      "state": {
       "flex": "2"
      }
     },
     "169013c90e9845e0a317969ffdcbdb5d": {
      "model_module": "@jupyter-widgets/controls",
      "model_module_version": "1.5.0",
      "model_name": "ProgressStyleModel",
      "state": {
       "description_width": "initial"
      }
     },
     "169fcd1ff177404486bb56ae2225ead6": {
      "model_module": "@jupyter-widgets/controls",
      "model_module_version": "1.5.0",
      "model_name": "DescriptionStyleModel",
      "state": {
       "description_width": ""
      }
     },
     "16ed3756e39b483986652e9eae8a6225": {
      "model_module": "@jupyter-widgets/base",
      "model_module_version": "1.2.0",
      "model_name": "LayoutModel",
      "state": {
       "display": "inline-flex",
       "flex_flow": "row wrap",
       "width": "100%"
      }
     },
     "16fae55108404e8fba241ca7a54a0cf0": {
      "model_module": "@jupyter-widgets/controls",
      "model_module_version": "1.5.0",
      "model_name": "HTMLModel",
      "state": {
       "layout": "IPY_MODEL_9ac08dc309214897a582ef024311554e",
       "style": "IPY_MODEL_af1ac3a610c647bca370611d8cb27088",
       "value": " ETA: 00:00s - loss: 1.7644 - val_loss: 1.7355"
      }
     },
     "182e3058107e4c0db2521491a353633d": {
      "model_module": "@jupyter-widgets/controls",
      "model_module_version": "1.5.0",
      "model_name": "DescriptionStyleModel",
      "state": {
       "description_width": ""
      }
     },
     "185901f1b408477a819ba3d4faca8c75": {
      "model_module": "@jupyter-widgets/controls",
      "model_module_version": "1.5.0",
      "model_name": "HBoxModel",
      "state": {
       "children": [
        "IPY_MODEL_96d941536e44478f95fe087ff21f6739",
        "IPY_MODEL_107bb672d94543928b7202680f09fd0b"
       ],
       "layout": "IPY_MODEL_a182c2e55216483cae5f8d4e68b55dae"
      }
     },
     "185cf1ab64f14361a3072b1851e867b3": {
      "model_module": "@jupyter-widgets/controls",
      "model_module_version": "1.5.0",
      "model_name": "DescriptionStyleModel",
      "state": {
       "description_width": ""
      }
     },
     "18c242f1773a472987e2d61125250443": {
      "model_module": "@jupyter-widgets/controls",
      "model_module_version": "1.5.0",
      "model_name": "DescriptionStyleModel",
      "state": {
       "description_width": ""
      }
     },
     "1969f456c05f4fe98fca242b2b818628": {
      "model_module": "@jupyter-widgets/controls",
      "model_module_version": "1.5.0",
      "model_name": "HTMLModel",
      "state": {
       "layout": "IPY_MODEL_b3e978a81d654753b9819dee250bf69d",
       "style": "IPY_MODEL_c479aec1b8af47129e05eec1f289cda0",
       "value": " ETA: 00:00s - loss: 2.3755 - val_loss: 2.2185"
      }
     },
     "19cce9be5a4b43c7a795d9c720b93dbd": {
      "model_module": "@jupyter-widgets/base",
      "model_module_version": "1.2.0",
      "model_name": "LayoutModel",
      "state": {
       "display": "inline-flex",
       "flex_flow": "row wrap",
       "width": "100%"
      }
     },
     "19e9d777c08c488fa72f5de3b84a9003": {
      "model_module": "@jupyter-widgets/base",
      "model_module_version": "1.2.0",
      "model_name": "LayoutModel",
      "state": {}
     },
     "1a2ad377859f4655be47c63909ef6619": {
      "model_module": "@jupyter-widgets/controls",
      "model_module_version": "1.5.0",
      "model_name": "HBoxModel",
      "state": {
       "children": [
        "IPY_MODEL_557fe1e84ff64de59a649228630fa74c",
        "IPY_MODEL_4e6c3a0844bc440e9909e6a5e8d7da64"
       ],
       "layout": "IPY_MODEL_5545551ba1fd497bbf4f1544a7db109e"
      }
     },
     "1a3388be632643be9bfff3614e663595": {
      "model_module": "@jupyter-widgets/controls",
      "model_module_version": "1.5.0",
      "model_name": "FloatProgressModel",
      "state": {
       "bar_style": "success",
       "description": "2813/2813",
       "layout": "IPY_MODEL_479ab20da63d4379abcb9c41bb4ad285",
       "max": 2813,
       "style": "IPY_MODEL_6259009ce75b4caaa7ed5ec3e3105eb4",
       "value": 2813
      }
     },
     "1a5490f783d54a0caf82ce33c318e19b": {
      "model_module": "@jupyter-widgets/controls",
      "model_module_version": "1.5.0",
      "model_name": "HTMLModel",
      "state": {
       "layout": "IPY_MODEL_55a71ed3e0a44d0794768140fb8cfc42",
       "style": "IPY_MODEL_d8c0d7c5612c412fa72a84b2987b38e3",
       "value": " ETA: 00:00s - loss: 1.6947 - val_loss: 1.6946"
      }
     },
     "1a5ed0b4a3364150b69f0c62782415d4": {
      "model_module": "@jupyter-widgets/controls",
      "model_module_version": "1.5.0",
      "model_name": "ProgressStyleModel",
      "state": {
       "description_width": "initial"
      }
     },
     "1a722512e9ed456aaadcbb8abcfd3349": {
      "model_module": "@jupyter-widgets/base",
      "model_module_version": "1.2.0",
      "model_name": "LayoutModel",
      "state": {
       "display": "inline-flex",
       "flex_flow": "row wrap",
       "width": "100%"
      }
     },
     "1a72abbdcd5d46afb5ce08b9e1bcaf01": {
      "model_module": "@jupyter-widgets/base",
      "model_module_version": "1.2.0",
      "model_name": "LayoutModel",
      "state": {
       "flex": "2"
      }
     },
     "1acd28d57c8644959de7ff30556dc904": {
      "model_module": "@jupyter-widgets/controls",
      "model_module_version": "1.5.0",
      "model_name": "HBoxModel",
      "state": {
       "children": [
        "IPY_MODEL_14e084a580d048a59265c06365178d52",
        "IPY_MODEL_80af34f2c9db4a9dbd40e15d435586a3"
       ],
       "layout": "IPY_MODEL_cbcbb3ccccec42a7accf6e0fd8374b63"
      }
     },
     "1b43f110b7eb4b9dbd5460f33af6fcf9": {
      "model_module": "@jupyter-widgets/controls",
      "model_module_version": "1.5.0",
      "model_name": "HTMLModel",
      "state": {
       "layout": "IPY_MODEL_c1eb9cb81c8c4a209f432aedd33b4592",
       "style": "IPY_MODEL_e20c1f49ad5e4a029fbcde81e49e4862",
       "value": " ETA: 00:00s - loss: 1.9336 - val_loss: 1.8634"
      }
     },
     "1b4d38d0219e4b038f8e0d8a61fd7368": {
      "model_module": "@jupyter-widgets/base",
      "model_module_version": "1.2.0",
      "model_name": "LayoutModel",
      "state": {}
     },
     "1b58f0b91f89429cb0e2ef64a1b993b4": {
      "model_module": "@jupyter-widgets/controls",
      "model_module_version": "1.5.0",
      "model_name": "ProgressStyleModel",
      "state": {
       "description_width": "initial"
      }
     },
     "1b648eb224c3458e8e30766adebf52ed": {
      "model_module": "@jupyter-widgets/base",
      "model_module_version": "1.2.0",
      "model_name": "LayoutModel",
      "state": {
       "flex": "2"
      }
     },
     "1b848f99a1c24a45ade9aeef7914bc18": {
      "model_module": "@jupyter-widgets/controls",
      "model_module_version": "1.5.0",
      "model_name": "ProgressStyleModel",
      "state": {
       "description_width": "initial"
      }
     },
     "1b93aa88e01e42349c4bb147ccbd473a": {
      "model_module": "@jupyter-widgets/base",
      "model_module_version": "1.2.0",
      "model_name": "LayoutModel",
      "state": {
       "flex": "2"
      }
     },
     "1bad8287d67d489e8ff5fcfccb7f223d": {
      "model_module": "@jupyter-widgets/controls",
      "model_module_version": "1.5.0",
      "model_name": "FloatProgressModel",
      "state": {
       "bar_style": "success",
       "description": "5625/5625",
       "layout": "IPY_MODEL_307f4b4d9fd54fac8f42b2ed765b1e5a",
       "max": 5625,
       "style": "IPY_MODEL_63af1f5ae59d4da7a701737632ebe3ee",
       "value": 5625
      }
     },
     "1c0f235d7f9c460bbddd75f42aa642b3": {
      "model_module": "@jupyter-widgets/base",
      "model_module_version": "1.2.0",
      "model_name": "LayoutModel",
      "state": {}
     },
     "1c5917156d7c478ab0ac920abb2897e9": {
      "model_module": "@jupyter-widgets/controls",
      "model_module_version": "1.5.0",
      "model_name": "ProgressStyleModel",
      "state": {
       "description_width": "initial"
      }
     },
     "1c695d7877fb4315ba847fdc7e663bef": {
      "model_module": "@jupyter-widgets/controls",
      "model_module_version": "1.5.0",
      "model_name": "FloatProgressModel",
      "state": {
       "bar_style": "success",
       "description": "5625/5625",
       "layout": "IPY_MODEL_1681dc6080c546f5aa44aec18e6bf283",
       "max": 5625,
       "style": "IPY_MODEL_127044d0bfb34fe59590aa5921262729",
       "value": 5625
      }
     },
     "1c83cb8df2e3475390ad177fcd8c1a37": {
      "model_module": "@jupyter-widgets/base",
      "model_module_version": "1.2.0",
      "model_name": "LayoutModel",
      "state": {
       "display": "inline-flex",
       "flex_flow": "row wrap",
       "width": "100%"
      }
     },
     "1cb18d46e56f47b2987252edca53c94f": {
      "model_module": "@jupyter-widgets/controls",
      "model_module_version": "1.5.0",
      "model_name": "FloatProgressModel",
      "state": {
       "bar_style": "success",
       "description": "5625/5625",
       "layout": "IPY_MODEL_31d8791129cf4efc84639a812b6f2840",
       "max": 5625,
       "style": "IPY_MODEL_9e7b86ae8823476a84ca140536126dc2",
       "value": 5625
      }
     },
     "1ce9d430c1ec4e87b7efb13813407fea": {
      "model_module": "@jupyter-widgets/base",
      "model_module_version": "1.2.0",
      "model_name": "LayoutModel",
      "state": {
       "display": "inline-flex",
       "flex_flow": "row wrap",
       "width": "100%"
      }
     },
     "1d5d7e239c014690960b11f0e1d45f32": {
      "model_module": "@jupyter-widgets/controls",
      "model_module_version": "1.5.0",
      "model_name": "DescriptionStyleModel",
      "state": {
       "description_width": ""
      }
     },
     "1d648711ab6149cda152395d9167d845": {
      "model_module": "@jupyter-widgets/controls",
      "model_module_version": "1.5.0",
      "model_name": "HBoxModel",
      "state": {
       "children": [
        "IPY_MODEL_3c977a3151c54a239ff2fecad9a22e92",
        "IPY_MODEL_e71cbd5c6ca84a929c60802aa0cf8d9b"
       ],
       "layout": "IPY_MODEL_8bb4ee876cc14b5694b5fce003789543"
      }
     },
     "1d9c030d542244378964ecabbacfeb3b": {
      "model_module": "@jupyter-widgets/controls",
      "model_module_version": "1.5.0",
      "model_name": "FloatProgressModel",
      "state": {
       "description": "350/2813",
       "layout": "IPY_MODEL_c12e1fc9e47e48aca732250f0bab5b5f",
       "max": 2813,
       "style": "IPY_MODEL_d9d3ada3d1b94aae9c08ed6a31564290",
       "value": 350
      }
     },
     "1db8353b55fe40738e53c58dd5b334b7": {
      "model_module": "@jupyter-widgets/controls",
      "model_module_version": "1.5.0",
      "model_name": "DescriptionStyleModel",
      "state": {
       "description_width": ""
      }
     },
     "1de4ec8a4a8d41b386317ddbcc7df569": {
      "model_module": "@jupyter-widgets/base",
      "model_module_version": "1.2.0",
      "model_name": "LayoutModel",
      "state": {
       "flex": "2"
      }
     },
     "1f87c608c69a4ab885fa77428bcd09fd": {
      "model_module": "@jupyter-widgets/base",
      "model_module_version": "1.2.0",
      "model_name": "LayoutModel",
      "state": {
       "flex": "2"
      }
     },
     "1fba11cda22a4e87a93781fbd8d63b18": {
      "model_module": "@jupyter-widgets/controls",
      "model_module_version": "1.5.0",
      "model_name": "DescriptionStyleModel",
      "state": {
       "description_width": ""
      }
     },
     "203a499bb01944f4bd5591436370f70c": {
      "model_module": "@jupyter-widgets/controls",
      "model_module_version": "1.5.0",
      "model_name": "DescriptionStyleModel",
      "state": {
       "description_width": ""
      }
     },
     "2060a2b247374932886eb763543ad3d3": {
      "model_module": "@jupyter-widgets/controls",
      "model_module_version": "1.5.0",
      "model_name": "HBoxModel",
      "state": {
       "children": [
        "IPY_MODEL_743edddfb580456497dcb8f369fcab6d",
        "IPY_MODEL_c988ee01c436401b88c12e6836ca363b"
       ],
       "layout": "IPY_MODEL_f2e7b7261b9d4f90a49a28775098ec01"
      }
     },
     "20c6b1057aa54a1980caa9c74d4c8cc8": {
      "model_module": "@jupyter-widgets/controls",
      "model_module_version": "1.5.0",
      "model_name": "FloatProgressModel",
      "state": {
       "bar_style": "success",
       "description": "2813/2813",
       "layout": "IPY_MODEL_6dc9c2f31eeb4a53aebfc49130ddade2",
       "max": 2813,
       "style": "IPY_MODEL_1a5ed0b4a3364150b69f0c62782415d4",
       "value": 2813
      }
     },
     "21136710be0047aa860ed4ce59abb1be": {
      "model_module": "@jupyter-widgets/controls",
      "model_module_version": "1.5.0",
      "model_name": "DescriptionStyleModel",
      "state": {
       "description_width": ""
      }
     },
     "216b7aa91cd54ea1a943908a22d9443d": {
      "model_module": "@jupyter-widgets/base",
      "model_module_version": "1.2.0",
      "model_name": "LayoutModel",
      "state": {
       "display": "inline-flex",
       "flex_flow": "row wrap",
       "width": "100%"
      }
     },
     "221215eddb9240a7b088c9faea3d3646": {
      "model_module": "@jupyter-widgets/controls",
      "model_module_version": "1.5.0",
      "model_name": "HTMLModel",
      "state": {
       "layout": "IPY_MODEL_89972d17210240be832892d82103f6f0",
       "style": "IPY_MODEL_438fbc91849c43c4aaf9e2c8e9218e38",
       "value": " ETA: 00:00s - loss: 1.8046 - val_loss: 1.7736"
      }
     },
     "22872c4e05d1414fbb2664589868c801": {
      "model_module": "@jupyter-widgets/base",
      "model_module_version": "1.2.0",
      "model_name": "LayoutModel",
      "state": {
       "flex": "2"
      }
     },
     "22d3f5e8349e4a7b9a1e842f059ebd60": {
      "model_module": "@jupyter-widgets/controls",
      "model_module_version": "1.5.0",
      "model_name": "DescriptionStyleModel",
      "state": {
       "description_width": ""
      }
     },
     "23971862c05d480c8bfb160f7ed98c92": {
      "model_module": "@jupyter-widgets/controls",
      "model_module_version": "1.5.0",
      "model_name": "ProgressStyleModel",
      "state": {
       "description_width": "initial"
      }
     },
     "23ab0bb3a8c14d7fbda235bb0a60082a": {
      "model_module": "@jupyter-widgets/controls",
      "model_module_version": "1.5.0",
      "model_name": "DescriptionStyleModel",
      "state": {
       "description_width": ""
      }
     },
     "23d0325c75ac4ff99edc5db4bff17bc7": {
      "model_module": "@jupyter-widgets/controls",
      "model_module_version": "1.5.0",
      "model_name": "ProgressStyleModel",
      "state": {
       "description_width": "initial"
      }
     },
     "24240ef6b1fc428e9711058f23d3937f": {
      "model_module": "@jupyter-widgets/controls",
      "model_module_version": "1.5.0",
      "model_name": "ProgressStyleModel",
      "state": {
       "description_width": "initial"
      }
     },
     "2436636b5987456585f66ba45547de30": {
      "model_module": "@jupyter-widgets/controls",
      "model_module_version": "1.5.0",
      "model_name": "HTMLModel",
      "state": {
       "layout": "IPY_MODEL_d29f0f966b0f40c0b55acef616112807",
       "style": "IPY_MODEL_4f47823fe8c34c4bb229e753fcc2f37f",
       "value": " ETA: 00:00s - loss: 2.1394 - val_loss: 2.0811"
      }
     },
     "246041a1bf0547f9bb7628d27f298340": {
      "model_module": "@jupyter-widgets/controls",
      "model_module_version": "1.5.0",
      "model_name": "HTMLModel",
      "state": {
       "layout": "IPY_MODEL_94022ebd39cf42329bcbd10efaeb961a",
       "style": "IPY_MODEL_203a499bb01944f4bd5591436370f70c",
       "value": " ETA: 00:00s - loss: 1.5914 - val_loss: 1.7304"
      }
     },
     "24920f4ad68e41ea9216d20b0bf0c16d": {
      "model_module": "@jupyter-widgets/controls",
      "model_module_version": "1.5.0",
      "model_name": "HTMLModel",
      "state": {
       "layout": "IPY_MODEL_066fdd6e7e4d44d9820fdd237b48a1fc",
       "style": "IPY_MODEL_b9de6c3224bb45f7b31640574a8e1205",
       "value": " ETA: 20:49s - loss: 6.8288"
      }
     },
     "249f8589233d428a9df8b89b11689937": {
      "model_module": "@jupyter-widgets/base",
      "model_module_version": "1.2.0",
      "model_name": "LayoutModel",
      "state": {}
     },
     "24a706d3f3484958b20ebf5704b49e2c": {
      "model_module": "@jupyter-widgets/controls",
      "model_module_version": "1.5.0",
      "model_name": "HBoxModel",
      "state": {
       "children": [
        "IPY_MODEL_1d9c030d542244378964ecabbacfeb3b",
        "IPY_MODEL_24920f4ad68e41ea9216d20b0bf0c16d"
       ],
       "layout": "IPY_MODEL_ab96ae50b31841d78052e3c49a6cd16b"
      }
     },
     "25179108a459411883171f917081ca57": {
      "model_module": "@jupyter-widgets/controls",
      "model_module_version": "1.5.0",
      "model_name": "HBoxModel",
      "state": {
       "children": [
        "IPY_MODEL_4f436904ab184be9883a64bfa6e5a6f5",
        "IPY_MODEL_d98baf716a8042f8be7229996577faf6"
       ],
       "layout": "IPY_MODEL_011a3917d08c4b67b9e847331a9473a3"
      }
     },
     "2521fb358d6e45478cf21cff3fac58c2": {
      "model_module": "@jupyter-widgets/controls",
      "model_module_version": "1.5.0",
      "model_name": "HBoxModel",
      "state": {
       "children": [
        "IPY_MODEL_e703b35ed2fc4665ade3c00dea5c3e15",
        "IPY_MODEL_54b096cf182a4a03be2264f392c40d60"
       ],
       "layout": "IPY_MODEL_253c15c9eff24f8db03b30c357885d39"
      }
     },
     "253c15c9eff24f8db03b30c357885d39": {
      "model_module": "@jupyter-widgets/base",
      "model_module_version": "1.2.0",
      "model_name": "LayoutModel",
      "state": {
       "display": "inline-flex",
       "flex_flow": "row wrap",
       "width": "100%"
      }
     },
     "25598cb0ab0b4006a5f56e9b9eba09b3": {
      "model_module": "@jupyter-widgets/controls",
      "model_module_version": "1.5.0",
      "model_name": "DescriptionStyleModel",
      "state": {
       "description_width": ""
      }
     },
     "256aadc02c5343129a1d9e9e2f2c14c6": {
      "model_module": "@jupyter-widgets/base",
      "model_module_version": "1.2.0",
      "model_name": "LayoutModel",
      "state": {
       "flex": "2"
      }
     },
     "2586d367ec184003ab5f3fabefd48a74": {
      "model_module": "@jupyter-widgets/controls",
      "model_module_version": "1.5.0",
      "model_name": "HTMLModel",
      "state": {
       "layout": "IPY_MODEL_25f03c652f454bf9a7b32b6bb44670ba",
       "style": "IPY_MODEL_fd295a5c04954e7ea1a9401434cab982",
       "value": " ETA: 00:00s - loss: 1.1144 - val_loss: 1.8491"
      }
     },
     "25f03c652f454bf9a7b32b6bb44670ba": {
      "model_module": "@jupyter-widgets/base",
      "model_module_version": "1.2.0",
      "model_name": "LayoutModel",
      "state": {}
     },
     "26003b0141e541e0b0eef7e27720cbe3": {
      "model_module": "@jupyter-widgets/controls",
      "model_module_version": "1.5.0",
      "model_name": "ProgressStyleModel",
      "state": {
       "description_width": "initial"
      }
     },
     "260be995365b4dd3aa6dfa46f6ca75ad": {
      "model_module": "@jupyter-widgets/controls",
      "model_module_version": "1.5.0",
      "model_name": "ProgressStyleModel",
      "state": {
       "description_width": "initial"
      }
     },
     "27211595ba1f467eb3e37dd85d129dc8": {
      "model_module": "@jupyter-widgets/base",
      "model_module_version": "1.2.0",
      "model_name": "LayoutModel",
      "state": {}
     },
     "2781535a7c4a43a482b72f3ff87788e1": {
      "model_module": "@jupyter-widgets/base",
      "model_module_version": "1.2.0",
      "model_name": "LayoutModel",
      "state": {}
     },
     "279b7e4cce0e48dcb777cd240964139e": {
      "model_module": "@jupyter-widgets/base",
      "model_module_version": "1.2.0",
      "model_name": "LayoutModel",
      "state": {}
     },
     "280d902e25ff4615b94b9f96723d59e0": {
      "model_module": "@jupyter-widgets/controls",
      "model_module_version": "1.5.0",
      "model_name": "ProgressStyleModel",
      "state": {
       "description_width": "initial"
      }
     },
     "28a86a88132e4e39938284dd48b7bf5e": {
      "model_module": "@jupyter-widgets/base",
      "model_module_version": "1.2.0",
      "model_name": "LayoutModel",
      "state": {
       "display": "inline-flex",
       "flex_flow": "row wrap",
       "width": "100%"
      }
     },
     "2905713f388a4beaad7ea2a1e22fb154": {
      "model_module": "@jupyter-widgets/controls",
      "model_module_version": "1.5.0",
      "model_name": "HBoxModel",
      "state": {
       "children": [
        "IPY_MODEL_5e31d7dfc9c74c3d8401a195fa3eb52d",
        "IPY_MODEL_95a007d062f14c529b029cc7bdfe0651"
       ],
       "layout": "IPY_MODEL_00249e38c4424908ab1336f88ec25c65"
      }
     },
     "29295a3a4a954e05aa150bd7c0d338ca": {
      "model_module": "@jupyter-widgets/controls",
      "model_module_version": "1.5.0",
      "model_name": "FloatProgressModel",
      "state": {
       "bar_style": "success",
       "description": "5625/5625",
       "layout": "IPY_MODEL_4e182974481d4deb96b6e6f70da38fe1",
       "max": 5625,
       "style": "IPY_MODEL_ec6ac57f2b27457ea1ba101222472e7a",
       "value": 5625
      }
     },
     "29c48199971145f69f802e90676bfea2": {
      "model_module": "@jupyter-widgets/controls",
      "model_module_version": "1.5.0",
      "model_name": "HBoxModel",
      "state": {
       "children": [
        "IPY_MODEL_f1923eb588ef428da5cc7aaeabca1da4",
        "IPY_MODEL_f16b5803d36a40f69f31d97554fc5a03"
       ],
       "layout": "IPY_MODEL_c84249d7f95f43f3b9eceeaf37c393d7"
      }
     },
     "2a825c009d9c48d1b19cc2d370191e31": {
      "model_module": "@jupyter-widgets/controls",
      "model_module_version": "1.5.0",
      "model_name": "HTMLModel",
      "state": {
       "layout": "IPY_MODEL_3e5a45d827574e7a9e5b76e1bb59c3a9",
       "style": "IPY_MODEL_abacf547eab44bce9c73f131411d7dee",
       "value": " ETA: 00:00s - loss: 1.6216 - val_loss: 1.7473"
      }
     },
     "2a8b98378b524e808e8fbbf6b9161f52": {
      "model_module": "@jupyter-widgets/controls",
      "model_module_version": "1.5.0",
      "model_name": "FloatProgressModel",
      "state": {
       "bar_style": "success",
       "description": "5625/5625",
       "layout": "IPY_MODEL_ee9c3574fe57467fafacd4a7bebf2212",
       "max": 5625,
       "style": "IPY_MODEL_5fff2e809a8a471499975a4bfaa4b37d",
       "value": 5625
      }
     },
     "2aaf25d01bd047778b0024f5a07ce938": {
      "model_module": "@jupyter-widgets/controls",
      "model_module_version": "1.5.0",
      "model_name": "FloatProgressModel",
      "state": {
       "bar_style": "success",
       "description": "2813/2813",
       "layout": "IPY_MODEL_fd7a4e253a724fe68b464c7a29b061d8",
       "max": 2813,
       "style": "IPY_MODEL_6f34ba17ff2849558ce2f0920ba09d50",
       "value": 2813
      }
     },
     "2b358da787744a8da007e2ebbf05c43c": {
      "model_module": "@jupyter-widgets/base",
      "model_module_version": "1.2.0",
      "model_name": "LayoutModel",
      "state": {
       "display": "inline-flex",
       "flex_flow": "row wrap",
       "width": "100%"
      }
     },
     "2bcf02b53afe46feae7a31969732ccb3": {
      "model_module": "@jupyter-widgets/base",
      "model_module_version": "1.2.0",
      "model_name": "LayoutModel",
      "state": {
       "flex": "2"
      }
     },
     "2bf1c9139120429395a14075c243a7c9": {
      "model_module": "@jupyter-widgets/base",
      "model_module_version": "1.2.0",
      "model_name": "LayoutModel",
      "state": {
       "flex": "2"
      }
     },
     "2c125f04944e47bea26938cb49cd163b": {
      "model_module": "@jupyter-widgets/base",
      "model_module_version": "1.2.0",
      "model_name": "LayoutModel",
      "state": {
       "flex": "2"
      }
     },
     "2c197093f93d414784d80a20f4343cf9": {
      "model_module": "@jupyter-widgets/controls",
      "model_module_version": "1.5.0",
      "model_name": "ProgressStyleModel",
      "state": {
       "description_width": "initial"
      }
     },
     "2c341a143b484a43af91a702d307ed9b": {
      "model_module": "@jupyter-widgets/controls",
      "model_module_version": "1.5.0",
      "model_name": "FloatProgressModel",
      "state": {
       "bar_style": "success",
       "description": "5625/5625",
       "layout": "IPY_MODEL_0c0cf31b3b8c4b69b83ed4018edc5170",
       "max": 5625,
       "style": "IPY_MODEL_11ed534ca06444b1b9433d04a4e41cbd",
       "value": 5625
      }
     },
     "2d6294cdec834b04baab91ba1543bbfd": {
      "model_module": "@jupyter-widgets/controls",
      "model_module_version": "1.5.0",
      "model_name": "DescriptionStyleModel",
      "state": {
       "description_width": ""
      }
     },
     "2e2f418022c744c28dea0a75b940ba5c": {
      "model_module": "@jupyter-widgets/base",
      "model_module_version": "1.2.0",
      "model_name": "LayoutModel",
      "state": {
       "display": "inline-flex",
       "flex_flow": "row wrap",
       "width": "100%"
      }
     },
     "2e3a2411e46c4d29953b8544935a84aa": {
      "model_module": "@jupyter-widgets/controls",
      "model_module_version": "1.5.0",
      "model_name": "HTMLModel",
      "state": {
       "layout": "IPY_MODEL_b5b1737342454abea70c469632af31ac",
       "style": "IPY_MODEL_812e105533db4836a5d197f62db885db",
       "value": " ETA: 00:00s - loss: 1.6815 - val_loss: 1.6767"
      }
     },
     "2e42cef850ca49fa84e2c65cd142df90": {
      "model_module": "@jupyter-widgets/base",
      "model_module_version": "1.2.0",
      "model_name": "LayoutModel",
      "state": {}
     },
     "2e66ce3345404538b71caeb44c7b1b90": {
      "model_module": "@jupyter-widgets/controls",
      "model_module_version": "1.5.0",
      "model_name": "FloatProgressModel",
      "state": {
       "bar_style": "success",
       "description": "5625/5625",
       "layout": "IPY_MODEL_039396e1005f4126a19d4952b4a5e249",
       "max": 5625,
       "style": "IPY_MODEL_7810aa5cff014a0c8778a036a19d5bc4",
       "value": 5625
      }
     },
     "2e8c41a09ff04056ab613c8a72738fe6": {
      "model_module": "@jupyter-widgets/base",
      "model_module_version": "1.2.0",
      "model_name": "LayoutModel",
      "state": {}
     },
     "2eabd8c0e8c04cdea7b182f3d9295f8a": {
      "model_module": "@jupyter-widgets/controls",
      "model_module_version": "1.5.0",
      "model_name": "DescriptionStyleModel",
      "state": {
       "description_width": ""
      }
     },
     "2f99032d96a54b9fbf7910af070c65da": {
      "model_module": "@jupyter-widgets/base",
      "model_module_version": "1.2.0",
      "model_name": "LayoutModel",
      "state": {
       "flex": "2"
      }
     },
     "2ffc5433e3194522a4418c130687f1cf": {
      "model_module": "@jupyter-widgets/controls",
      "model_module_version": "1.5.0",
      "model_name": "ProgressStyleModel",
      "state": {
       "description_width": "initial"
      }
     },
     "3027137bd77a40149f1af8c3ac669e82": {
      "model_module": "@jupyter-widgets/controls",
      "model_module_version": "1.5.0",
      "model_name": "FloatProgressModel",
      "state": {
       "bar_style": "success",
       "description": "2813/2813",
       "layout": "IPY_MODEL_aa03825e8eca4bd6bf0dd5626c25fffe",
       "max": 2813,
       "style": "IPY_MODEL_bae7275a30ba416fbc244443dd5028ba",
       "value": 2813
      }
     },
     "307f4b4d9fd54fac8f42b2ed765b1e5a": {
      "model_module": "@jupyter-widgets/base",
      "model_module_version": "1.2.0",
      "model_name": "LayoutModel",
      "state": {
       "flex": "2"
      }
     },
     "30a229427ced44dc992cad632168bbfd": {
      "model_module": "@jupyter-widgets/controls",
      "model_module_version": "1.5.0",
      "model_name": "FloatProgressModel",
      "state": {
       "bar_style": "success",
       "description": "5625/5625",
       "layout": "IPY_MODEL_35c49db37f6f4a4bb9ae90f327d57560",
       "max": 5625,
       "style": "IPY_MODEL_c11739443a9047679461d1bacabd0638",
       "value": 5625
      }
     },
     "30d382ee2c954788b4b1208961267d8e": {
      "model_module": "@jupyter-widgets/base",
      "model_module_version": "1.2.0",
      "model_name": "LayoutModel",
      "state": {
       "flex": "2"
      }
     },
     "30d93eacd4ae42c49ed29a86fceea3ee": {
      "model_module": "@jupyter-widgets/base",
      "model_module_version": "1.2.0",
      "model_name": "LayoutModel",
      "state": {
       "display": "inline-flex",
       "flex_flow": "row wrap",
       "width": "100%"
      }
     },
     "30dfbd3716684082b6f47ce32d0ff708": {
      "model_module": "@jupyter-widgets/base",
      "model_module_version": "1.2.0",
      "model_name": "LayoutModel",
      "state": {
       "flex": "2"
      }
     },
     "30f86cc4641a419aa5e6726656df648f": {
      "model_module": "@jupyter-widgets/controls",
      "model_module_version": "1.5.0",
      "model_name": "FloatProgressModel",
      "state": {
       "bar_style": "success",
       "description": "5625/5625",
       "layout": "IPY_MODEL_22872c4e05d1414fbb2664589868c801",
       "max": 5625,
       "style": "IPY_MODEL_f4522921b1c8414c884401439fae3cda",
       "value": 5625
      }
     },
     "310fded06abf4baf84585f3eb7084908": {
      "model_module": "@jupyter-widgets/base",
      "model_module_version": "1.2.0",
      "model_name": "LayoutModel",
      "state": {
       "flex": "2"
      }
     },
     "3110d08469e54cadb7def7d42344186e": {
      "model_module": "@jupyter-widgets/controls",
      "model_module_version": "1.5.0",
      "model_name": "HTMLModel",
      "state": {
       "layout": "IPY_MODEL_2e42cef850ca49fa84e2c65cd142df90",
       "style": "IPY_MODEL_df2abb91e0bf4336b032fea133b8b3ea",
       "value": " ETA: 00:00s - loss: 2.2399 - val_loss: 2.2444"
      }
     },
     "315695f7b101462fa14b268b40719984": {
      "model_module": "@jupyter-widgets/controls",
      "model_module_version": "1.5.0",
      "model_name": "ProgressStyleModel",
      "state": {
       "description_width": "initial"
      }
     },
     "31d8791129cf4efc84639a812b6f2840": {
      "model_module": "@jupyter-widgets/base",
      "model_module_version": "1.2.0",
      "model_name": "LayoutModel",
      "state": {
       "flex": "2"
      }
     },
     "32895cfe5ede4ba2902bde939817107f": {
      "model_module": "@jupyter-widgets/base",
      "model_module_version": "1.2.0",
      "model_name": "LayoutModel",
      "state": {
       "display": "inline-flex",
       "flex_flow": "row wrap",
       "width": "100%"
      }
     },
     "331bb65c746f4ec5ae97115bb9c0ae5e": {
      "model_module": "@jupyter-widgets/controls",
      "model_module_version": "1.5.0",
      "model_name": "HBoxModel",
      "state": {
       "children": [
        "IPY_MODEL_60506b90e3a444bb9c499e2dfb85d707",
        "IPY_MODEL_d7926adc493744378fa7fb839df96adc"
       ],
       "layout": "IPY_MODEL_3971e42588fc48d2aec543ddb0fbc93c"
      }
     },
     "33500f26a19d4109b3649621871c6239": {
      "model_module": "@jupyter-widgets/base",
      "model_module_version": "1.2.0",
      "model_name": "LayoutModel",
      "state": {}
     },
     "338a5baa7e6341a7a53044a16ee2ccbe": {
      "model_module": "@jupyter-widgets/controls",
      "model_module_version": "1.5.0",
      "model_name": "FloatProgressModel",
      "state": {
       "bar_style": "success",
       "description": "2813/2813",
       "layout": "IPY_MODEL_395a869eafa94c82a092e46275b9b2fb",
       "max": 2813,
       "style": "IPY_MODEL_12963f95ebee4c28a3b8b8db72b72e8b",
       "value": 2813
      }
     },
     "33d20a5368b24ddc95cb914504cbcb2c": {
      "model_module": "@jupyter-widgets/base",
      "model_module_version": "1.2.0",
      "model_name": "LayoutModel",
      "state": {}
     },
     "33d9f6358a134eb9bee2092b9a5b53ad": {
      "model_module": "@jupyter-widgets/controls",
      "model_module_version": "1.5.0",
      "model_name": "FloatProgressModel",
      "state": {
       "bar_style": "success",
       "description": "5625/5625",
       "layout": "IPY_MODEL_36aed8af2c514d22b3d77eb5bd46184d",
       "max": 5625,
       "style": "IPY_MODEL_74b8cb1914b7403c85f17d89f3765f23",
       "value": 5625
      }
     },
     "3487879a365a45979ca7ceaa25eb4538": {
      "model_module": "@jupyter-widgets/base",
      "model_module_version": "1.2.0",
      "model_name": "LayoutModel",
      "state": {
       "flex": "2"
      }
     },
     "34b642159d2f4d61b34710923433ae53": {
      "model_module": "@jupyter-widgets/base",
      "model_module_version": "1.2.0",
      "model_name": "LayoutModel",
      "state": {
       "flex": "2"
      }
     },
     "34efbe2970aa4711b7bf408e827728c4": {
      "model_module": "@jupyter-widgets/controls",
      "model_module_version": "1.5.0",
      "model_name": "DescriptionStyleModel",
      "state": {
       "description_width": ""
      }
     },
     "3591bd79240647fc85c8acdc2d502a1e": {
      "model_module": "@jupyter-widgets/base",
      "model_module_version": "1.2.0",
      "model_name": "LayoutModel",
      "state": {
       "flex": "2"
      }
     },
     "35c49db37f6f4a4bb9ae90f327d57560": {
      "model_module": "@jupyter-widgets/base",
      "model_module_version": "1.2.0",
      "model_name": "LayoutModel",
      "state": {
       "flex": "2"
      }
     },
     "35f1e2de7934491ab85357164fb5b839": {
      "model_module": "@jupyter-widgets/base",
      "model_module_version": "1.2.0",
      "model_name": "LayoutModel",
      "state": {}
     },
     "35fe68fe661a4b288e332c934072784a": {
      "model_module": "@jupyter-widgets/controls",
      "model_module_version": "1.5.0",
      "model_name": "HBoxModel",
      "state": {
       "children": [
        "IPY_MODEL_bc0c4f6fab0342ae8a8a63db9fe941f1",
        "IPY_MODEL_b2e2b6a9c0134994b3be042ea7a88d79"
       ],
       "layout": "IPY_MODEL_e070b4e66796450485be881e0b9c96f6"
      }
     },
     "36a7b395b40f47f89a32fad92ab7bb17": {
      "model_module": "@jupyter-widgets/controls",
      "model_module_version": "1.5.0",
      "model_name": "ProgressStyleModel",
      "state": {
       "description_width": "initial"
      }
     },
     "36aed8af2c514d22b3d77eb5bd46184d": {
      "model_module": "@jupyter-widgets/base",
      "model_module_version": "1.2.0",
      "model_name": "LayoutModel",
      "state": {
       "flex": "2"
      }
     },
     "36ccf664d0ed486ab16a5460812d430b": {
      "model_module": "@jupyter-widgets/base",
      "model_module_version": "1.2.0",
      "model_name": "LayoutModel",
      "state": {
       "flex": "2"
      }
     },
     "36fa541aef214918853f4bfb3c3a8a60": {
      "model_module": "@jupyter-widgets/controls",
      "model_module_version": "1.5.0",
      "model_name": "ProgressStyleModel",
      "state": {
       "description_width": "initial"
      }
     },
     "372fde0e1c6e4c1fa748a49446cec8e6": {
      "model_module": "@jupyter-widgets/controls",
      "model_module_version": "1.5.0",
      "model_name": "ProgressStyleModel",
      "state": {
       "description_width": "initial"
      }
     },
     "37439ea966884710b809c7fd6057a767": {
      "model_module": "@jupyter-widgets/controls",
      "model_module_version": "1.5.0",
      "model_name": "FloatProgressModel",
      "state": {
       "bar_style": "success",
       "description": "5625/5625",
       "layout": "IPY_MODEL_7656bdbf3ccf4a10a58edf5c1e533389",
       "max": 5625,
       "style": "IPY_MODEL_5c54d23c55534bcfa5333e2540f814a8",
       "value": 5625
      }
     },
     "3749ee8a8ad949dcab4a19e89a5c890d": {
      "model_module": "@jupyter-widgets/controls",
      "model_module_version": "1.5.0",
      "model_name": "HBoxModel",
      "state": {
       "children": [
        "IPY_MODEL_88aa54a0d11046038e50c711c041990d",
        "IPY_MODEL_f998ab0f2b724da69a6cc1f8d2f80a30"
       ],
       "layout": "IPY_MODEL_162e2279a87d4af0955b0b74b879faa0"
      }
     },
     "378ef01cc8ec44a78760bb07766818d8": {
      "model_module": "@jupyter-widgets/controls",
      "model_module_version": "1.5.0",
      "model_name": "HBoxModel",
      "state": {
       "children": [
        "IPY_MODEL_a7c775a448cb42038fc022366f3256ec",
        "IPY_MODEL_a6d4a3e6b1df4907b71debae1cba8efd"
       ],
       "layout": "IPY_MODEL_3eec28985ffe4ba680bcc7974340b3e6"
      }
     },
     "37c712995e65437da85cebfd70656796": {
      "model_module": "@jupyter-widgets/base",
      "model_module_version": "1.2.0",
      "model_name": "LayoutModel",
      "state": {}
     },
     "3832f6b710a541098bc1955c0129b359": {
      "model_module": "@jupyter-widgets/base",
      "model_module_version": "1.2.0",
      "model_name": "LayoutModel",
      "state": {}
     },
     "38a1edbae2c24b02998830a42920ff27": {
      "model_module": "@jupyter-widgets/base",
      "model_module_version": "1.2.0",
      "model_name": "LayoutModel",
      "state": {
       "flex": "2"
      }
     },
     "38de46bdcc24444bbc039b0fd7821edb": {
      "model_module": "@jupyter-widgets/controls",
      "model_module_version": "1.5.0",
      "model_name": "HBoxModel",
      "state": {
       "children": [
        "IPY_MODEL_d921e189d2824881bb85ebb89cd122f6",
        "IPY_MODEL_246041a1bf0547f9bb7628d27f298340"
       ],
       "layout": "IPY_MODEL_c2e4e67726f744e29e39ed0b83d4eaff"
      }
     },
     "38fd79b62b56431da36d2bfc8b20907d": {
      "model_module": "@jupyter-widgets/controls",
      "model_module_version": "1.5.0",
      "model_name": "FloatProgressModel",
      "state": {
       "bar_style": "success",
       "description": "5625/5625",
       "layout": "IPY_MODEL_4780782fc3344792b807a19f5d268a9a",
       "max": 5625,
       "style": "IPY_MODEL_a66a601e410c4f45b9caa48d7d407c3d",
       "value": 5625
      }
     },
     "3919971f4dc54cb4b869e42bdbe3f838": {
      "model_module": "@jupyter-widgets/controls",
      "model_module_version": "1.5.0",
      "model_name": "DescriptionStyleModel",
      "state": {
       "description_width": ""
      }
     },
     "393a1b98b7b7497fb854b25edf86f2c3": {
      "model_module": "@jupyter-widgets/controls",
      "model_module_version": "1.5.0",
      "model_name": "HBoxModel",
      "state": {
       "children": [
        "IPY_MODEL_043dbeaa14584679acc20b2ed7eb19cf",
        "IPY_MODEL_d3de55840b5b46e69274d32203173869"
       ],
       "layout": "IPY_MODEL_b970b8813662404b9cc511d3a2d9827b"
      }
     },
     "3947dca3295b41bfaad17bb2e70525a2": {
      "model_module": "@jupyter-widgets/controls",
      "model_module_version": "1.5.0",
      "model_name": "DescriptionStyleModel",
      "state": {
       "description_width": ""
      }
     },
     "395a869eafa94c82a092e46275b9b2fb": {
      "model_module": "@jupyter-widgets/base",
      "model_module_version": "1.2.0",
      "model_name": "LayoutModel",
      "state": {
       "flex": "2"
      }
     },
     "3971e42588fc48d2aec543ddb0fbc93c": {
      "model_module": "@jupyter-widgets/base",
      "model_module_version": "1.2.0",
      "model_name": "LayoutModel",
      "state": {
       "display": "inline-flex",
       "flex_flow": "row wrap",
       "width": "100%"
      }
     },
     "39a145413bce4b19bc7caf6a8c49bbaa": {
      "model_module": "@jupyter-widgets/base",
      "model_module_version": "1.2.0",
      "model_name": "LayoutModel",
      "state": {}
     },
     "39fa96683f05421eb30c9ee79ca2c2e2": {
      "model_module": "@jupyter-widgets/controls",
      "model_module_version": "1.5.0",
      "model_name": "ProgressStyleModel",
      "state": {
       "description_width": "initial"
      }
     },
     "39ffacf25a1e42948a8db162f90398e8": {
      "model_module": "@jupyter-widgets/controls",
      "model_module_version": "1.5.0",
      "model_name": "ProgressStyleModel",
      "state": {
       "description_width": "initial"
      }
     },
     "3a0cb2e847864106ab7eaed34b5ab0c4": {
      "model_module": "@jupyter-widgets/base",
      "model_module_version": "1.2.0",
      "model_name": "LayoutModel",
      "state": {}
     },
     "3a2dacce319a4fdca53b9687b71a2b55": {
      "model_module": "@jupyter-widgets/base",
      "model_module_version": "1.2.0",
      "model_name": "LayoutModel",
      "state": {}
     },
     "3ab217aa36f5489eb916e9ca1340e716": {
      "model_module": "@jupyter-widgets/base",
      "model_module_version": "1.2.0",
      "model_name": "LayoutModel",
      "state": {
       "flex": "2"
      }
     },
     "3ae95dbb28fa47d289a2670b38dd1e3d": {
      "model_module": "@jupyter-widgets/controls",
      "model_module_version": "1.5.0",
      "model_name": "HBoxModel",
      "state": {
       "children": [
        "IPY_MODEL_d00bbf78eedd43eb8840f5226da82cb2",
        "IPY_MODEL_60882b4aa8d94e17ac6aee1b0ba15782"
       ],
       "layout": "IPY_MODEL_06349ababd3d498a9ce46ba74cd4d369"
      }
     },
     "3b551da62e9c40d28a7536a8469a78bb": {
      "model_module": "@jupyter-widgets/controls",
      "model_module_version": "1.5.0",
      "model_name": "HTMLModel",
      "state": {
       "layout": "IPY_MODEL_01443d2a18ac400da243975b463065d6",
       "style": "IPY_MODEL_af84a76438b8471290706d2143a5d84a",
       "value": " ETA: 00:00s - loss: 1.8967 - val_loss: 1.8930"
      }
     },
     "3c272d40d0764c4a8d6f91c65a7f7057": {
      "model_module": "@jupyter-widgets/controls",
      "model_module_version": "1.5.0",
      "model_name": "FloatProgressModel",
      "state": {
       "bar_style": "success",
       "description": "5625/5625",
       "layout": "IPY_MODEL_4e67fb58c3a240e0b4a43d1bf7ec40ef",
       "max": 5625,
       "style": "IPY_MODEL_2ffc5433e3194522a4418c130687f1cf",
       "value": 5625
      }
     },
     "3c977a3151c54a239ff2fecad9a22e92": {
      "model_module": "@jupyter-widgets/controls",
      "model_module_version": "1.5.0",
      "model_name": "FloatProgressModel",
      "state": {
       "bar_style": "success",
       "description": "5625/5625",
       "layout": "IPY_MODEL_458f0fa749d649148b7294e5567a6271",
       "max": 5625,
       "style": "IPY_MODEL_4d2e6bb411b24323b1385c6024d4034f",
       "value": 5625
      }
     },
     "3ca7bac772f44e75a72d6310fdfcd143": {
      "model_module": "@jupyter-widgets/controls",
      "model_module_version": "1.5.0",
      "model_name": "HBoxModel",
      "state": {
       "children": [
        "IPY_MODEL_20c6b1057aa54a1980caa9c74d4c8cc8",
        "IPY_MODEL_162077ba2a984c33be0fbd84cad1eccd"
       ],
       "layout": "IPY_MODEL_09f6191bdfc749bc825db0e98e8fc5bb"
      }
     },
     "3cb9df7a1010422c97a2f119ee770d8c": {
      "model_module": "@jupyter-widgets/controls",
      "model_module_version": "1.5.0",
      "model_name": "HBoxModel",
      "state": {
       "children": [
        "IPY_MODEL_77478803d5514189a5b2ddc25bd4458d",
        "IPY_MODEL_6eedb18dd4184aa6be6a356c707d0ca0"
       ],
       "layout": "IPY_MODEL_f39ffc854a7b44788fdb26357f73a31f"
      }
     },
     "3d4b1c0a91e44a4c8a310f47a76291d8": {
      "model_module": "@jupyter-widgets/base",
      "model_module_version": "1.2.0",
      "model_name": "LayoutModel",
      "state": {
       "display": "inline-flex",
       "flex_flow": "row wrap",
       "width": "100%"
      }
     },
     "3d875ac567f44ebc881c208c41fa0cd3": {
      "model_module": "@jupyter-widgets/base",
      "model_module_version": "1.2.0",
      "model_name": "LayoutModel",
      "state": {}
     },
     "3d99113a028442f186114ad7c872e303": {
      "model_module": "@jupyter-widgets/controls",
      "model_module_version": "1.5.0",
      "model_name": "DescriptionStyleModel",
      "state": {
       "description_width": ""
      }
     },
     "3e1aad3b485f478d99e3364d73c36faf": {
      "model_module": "@jupyter-widgets/controls",
      "model_module_version": "1.5.0",
      "model_name": "DescriptionStyleModel",
      "state": {
       "description_width": ""
      }
     },
     "3e465925c90746928620f025301bc94b": {
      "model_module": "@jupyter-widgets/controls",
      "model_module_version": "1.5.0",
      "model_name": "HTMLModel",
      "state": {
       "layout": "IPY_MODEL_1204e8596bc74215bd0fa1f1d9ae3535",
       "style": "IPY_MODEL_2eabd8c0e8c04cdea7b182f3d9295f8a",
       "value": " ETA: 00:00s - loss: 1.7028 - val_loss: 1.7401"
      }
     },
     "3e5a45d827574e7a9e5b76e1bb59c3a9": {
      "model_module": "@jupyter-widgets/base",
      "model_module_version": "1.2.0",
      "model_name": "LayoutModel",
      "state": {}
     },
     "3e8e7da21bfc4100a9956d7a68a8a977": {
      "model_module": "@jupyter-widgets/base",
      "model_module_version": "1.2.0",
      "model_name": "LayoutModel",
      "state": {
       "display": "inline-flex",
       "flex_flow": "row wrap",
       "width": "100%"
      }
     },
     "3eec28985ffe4ba680bcc7974340b3e6": {
      "model_module": "@jupyter-widgets/base",
      "model_module_version": "1.2.0",
      "model_name": "LayoutModel",
      "state": {
       "display": "inline-flex",
       "flex_flow": "row wrap",
       "width": "100%"
      }
     },
     "3f38375cbabe48dbb74e8f79c21b891f": {
      "model_module": "@jupyter-widgets/base",
      "model_module_version": "1.2.0",
      "model_name": "LayoutModel",
      "state": {
       "display": "inline-flex",
       "flex_flow": "row wrap",
       "width": "100%"
      }
     },
     "3f686dbafcce4fc6a7f5c4461d672e5f": {
      "model_module": "@jupyter-widgets/controls",
      "model_module_version": "1.5.0",
      "model_name": "FloatProgressModel",
      "state": {
       "bar_style": "success",
       "description": "2813/2813",
       "layout": "IPY_MODEL_3487879a365a45979ca7ceaa25eb4538",
       "max": 2813,
       "style": "IPY_MODEL_057a40cef8034efe885c9cf12299322f",
       "value": 2813
      }
     },
     "3f88aa97e3fb4e81a1c58cfca6083a1e": {
      "model_module": "@jupyter-widgets/controls",
      "model_module_version": "1.5.0",
      "model_name": "DescriptionStyleModel",
      "state": {
       "description_width": ""
      }
     },
     "3f8f0549eae24f9a9278cf5668e163b7": {
      "model_module": "@jupyter-widgets/controls",
      "model_module_version": "1.5.0",
      "model_name": "ProgressStyleModel",
      "state": {
       "description_width": "initial"
      }
     },
     "3faecb83e67c4c18ba547347ae56e3d5": {
      "model_module": "@jupyter-widgets/base",
      "model_module_version": "1.2.0",
      "model_name": "LayoutModel",
      "state": {}
     },
     "3fb5301497e843f091a2d901c8f58dfc": {
      "model_module": "@jupyter-widgets/controls",
      "model_module_version": "1.5.0",
      "model_name": "HBoxModel",
      "state": {
       "children": [
        "IPY_MODEL_2a8b98378b524e808e8fbbf6b9161f52",
        "IPY_MODEL_11da14a478f448a9b6b885e44fdddf4a"
       ],
       "layout": "IPY_MODEL_679d5cb00f9646ac851a0cbc3e87fb64"
      }
     },
     "3fe00f7571e94119bd5ce97b0259bedc": {
      "model_module": "@jupyter-widgets/controls",
      "model_module_version": "1.5.0",
      "model_name": "HBoxModel",
      "state": {
       "children": [
        "IPY_MODEL_11472f6d02534f79bd7428fd89883f9c",
        "IPY_MODEL_99c99a8c35fe4517b604ab4fe9e3ef30"
       ],
       "layout": "IPY_MODEL_32895cfe5ede4ba2902bde939817107f"
      }
     },
     "405c097d037649be870b7d14b2363ba7": {
      "model_module": "@jupyter-widgets/base",
      "model_module_version": "1.2.0",
      "model_name": "LayoutModel",
      "state": {
       "display": "inline-flex",
       "flex_flow": "row wrap",
       "width": "100%"
      }
     },
     "405e47f28b3b4d7f812de725769316ff": {
      "model_module": "@jupyter-widgets/controls",
      "model_module_version": "1.5.0",
      "model_name": "HBoxModel",
      "state": {
       "children": [
        "IPY_MODEL_eb6dc036dffc44eb8f123f6a401208b6",
        "IPY_MODEL_f940018610ea4c9b99270fa933aeef55"
       ],
       "layout": "IPY_MODEL_efacbdc2dbb441c6871d9f6558457cb7"
      }
     },
     "4133d3c5ed3b4cbd9b331f8ccb7c0d06": {
      "model_module": "@jupyter-widgets/base",
      "model_module_version": "1.2.0",
      "model_name": "LayoutModel",
      "state": {
       "flex": "2"
      }
     },
     "41b2e6add82d42cbb29b079cc66a5a6c": {
      "model_module": "@jupyter-widgets/controls",
      "model_module_version": "1.5.0",
      "model_name": "FloatProgressModel",
      "state": {
       "bar_style": "success",
       "description": "2813/2813",
       "layout": "IPY_MODEL_34b642159d2f4d61b34710923433ae53",
       "max": 2813,
       "style": "IPY_MODEL_484c5657cfb44cefaf01fad1c0ebbb7d",
       "value": 2813
      }
     },
     "41e20118bef34a4995b47df099238549": {
      "model_module": "@jupyter-widgets/base",
      "model_module_version": "1.2.0",
      "model_name": "LayoutModel",
      "state": {
       "display": "inline-flex",
       "flex_flow": "row wrap",
       "width": "100%"
      }
     },
     "421fd352f0a64378b5fe5a06f0b472b1": {
      "model_module": "@jupyter-widgets/base",
      "model_module_version": "1.2.0",
      "model_name": "LayoutModel",
      "state": {}
     },
     "4250407caf484c5f8e317cc4d8874d08": {
      "model_module": "@jupyter-widgets/base",
      "model_module_version": "1.2.0",
      "model_name": "LayoutModel",
      "state": {
       "display": "inline-flex",
       "flex_flow": "row wrap",
       "width": "100%"
      }
     },
     "4266b1a375234f03929fce132cb67742": {
      "model_module": "@jupyter-widgets/controls",
      "model_module_version": "1.5.0",
      "model_name": "HBoxModel",
      "state": {
       "children": [
        "IPY_MODEL_b1199744a2084fd7a559eab368adff2f",
        "IPY_MODEL_6398cf4fff4045daaaf7457b83623c94"
       ],
       "layout": "IPY_MODEL_5be202ad46404288897f70c659da560e"
      }
     },
     "42cd2f09c281457c8ed2949dc2f85f6d": {
      "model_module": "@jupyter-widgets/controls",
      "model_module_version": "1.5.0",
      "model_name": "HBoxModel",
      "state": {
       "children": [
        "IPY_MODEL_6847d6196a164b829cdac0bc448d7a85",
        "IPY_MODEL_221215eddb9240a7b088c9faea3d3646"
       ],
       "layout": "IPY_MODEL_00355252a60241378450df0bf5c07c49"
      }
     },
     "42dc038581d0481989dc2a40996e8886": {
      "model_module": "@jupyter-widgets/controls",
      "model_module_version": "1.5.0",
      "model_name": "HBoxModel",
      "state": {
       "children": [
        "IPY_MODEL_f2ec03584f404b9492354b19fac0beec",
        "IPY_MODEL_5cd3706d1e8f4601925fdfd4c53e10fa"
       ],
       "layout": "IPY_MODEL_858eabcd1ac14121909393a799cf64b7"
      }
     },
     "42ed437bf6af401aa142b3ec7746d089": {
      "model_module": "@jupyter-widgets/controls",
      "model_module_version": "1.5.0",
      "model_name": "DescriptionStyleModel",
      "state": {
       "description_width": ""
      }
     },
     "42f4264689eb439f8d8b229e1bc3b819": {
      "model_module": "@jupyter-widgets/base",
      "model_module_version": "1.2.0",
      "model_name": "LayoutModel",
      "state": {}
     },
     "435c9ee3efe445bbb41ec025ab97911e": {
      "model_module": "@jupyter-widgets/controls",
      "model_module_version": "1.5.0",
      "model_name": "DescriptionStyleModel",
      "state": {
       "description_width": ""
      }
     },
     "438d428519024426a3938fa0a0839dc8": {
      "model_module": "@jupyter-widgets/base",
      "model_module_version": "1.2.0",
      "model_name": "LayoutModel",
      "state": {
       "display": "inline-flex",
       "flex_flow": "row wrap",
       "width": "100%"
      }
     },
     "438fbc91849c43c4aaf9e2c8e9218e38": {
      "model_module": "@jupyter-widgets/controls",
      "model_module_version": "1.5.0",
      "model_name": "DescriptionStyleModel",
      "state": {
       "description_width": ""
      }
     },
     "44059dc552754117b455e9ac9f732e81": {
      "model_module": "@jupyter-widgets/controls",
      "model_module_version": "1.5.0",
      "model_name": "HBoxModel",
      "state": {
       "children": [
        "IPY_MODEL_f32f472702fc4a1da0cd9dfadfa24316",
        "IPY_MODEL_923d787dbaa54528a2d63fc3ddf27599"
       ],
       "layout": "IPY_MODEL_0a2e7707320e486d8b9ce1a472af8885"
      }
     },
     "441bc36e389b42a8b87d308cd90f92b1": {
      "model_module": "@jupyter-widgets/controls",
      "model_module_version": "1.5.0",
      "model_name": "HBoxModel",
      "state": {
       "children": [
        "IPY_MODEL_91e28613ace94b07aba93dbce114fcc6",
        "IPY_MODEL_541e599bfd154e3885264e9941f11b81"
       ],
       "layout": "IPY_MODEL_4bbaf00c4ec84e22bed95fcbd366ba20"
      }
     },
     "45293884df9540bb868d1cb5d17389d3": {
      "model_module": "@jupyter-widgets/base",
      "model_module_version": "1.2.0",
      "model_name": "LayoutModel",
      "state": {
       "flex": "2"
      }
     },
     "4537e1723c6a419780129874f18593ad": {
      "model_module": "@jupyter-widgets/controls",
      "model_module_version": "1.5.0",
      "model_name": "HBoxModel",
      "state": {
       "children": [
        "IPY_MODEL_30f86cc4641a419aa5e6726656df648f",
        "IPY_MODEL_16fae55108404e8fba241ca7a54a0cf0"
       ],
       "layout": "IPY_MODEL_7f71c133910c48799fb5473c53bc5bee"
      }
     },
     "4555fd2b1f014d88a971ed4009a38826": {
      "model_module": "@jupyter-widgets/base",
      "model_module_version": "1.2.0",
      "model_name": "LayoutModel",
      "state": {
       "display": "inline-flex",
       "flex_flow": "row wrap",
       "width": "100%"
      }
     },
     "458f0fa749d649148b7294e5567a6271": {
      "model_module": "@jupyter-widgets/base",
      "model_module_version": "1.2.0",
      "model_name": "LayoutModel",
      "state": {
       "flex": "2"
      }
     },
     "46009ba45adf4bcfaa5dd2368a34f70c": {
      "model_module": "@jupyter-widgets/controls",
      "model_module_version": "1.5.0",
      "model_name": "HTMLModel",
      "state": {
       "layout": "IPY_MODEL_4a67e3c4d98c4ecda84c319989fb2a98",
       "style": "IPY_MODEL_5986a04840694e6fa8797adf65a44bde",
       "value": " ETA: 00:00s - loss: 2.1828 - val_loss: 2.1343"
      }
     },
     "4688bdca321047e18d2d737e1e79df18": {
      "model_module": "@jupyter-widgets/controls",
      "model_module_version": "1.5.0",
      "model_name": "HTMLModel",
      "state": {
       "layout": "IPY_MODEL_0ae7e192bd12487091dc35203db957a9",
       "style": "IPY_MODEL_1db8353b55fe40738e53c58dd5b334b7",
       "value": " ETA: 00:00s - loss: 2.1922 - val_loss: 2.1527"
      }
     },
     "46ac7a3a950242dd994810664b5cdef8": {
      "model_module": "@jupyter-widgets/base",
      "model_module_version": "1.2.0",
      "model_name": "LayoutModel",
      "state": {}
     },
     "46fdc09dc1904127bd8099ca4a379c4b": {
      "model_module": "@jupyter-widgets/base",
      "model_module_version": "1.2.0",
      "model_name": "LayoutModel",
      "state": {
       "display": "inline-flex",
       "flex_flow": "row wrap",
       "width": "100%"
      }
     },
     "470889361ab346bd908bc8b0147ab216": {
      "model_module": "@jupyter-widgets/base",
      "model_module_version": "1.2.0",
      "model_name": "LayoutModel",
      "state": {
       "display": "inline-flex",
       "flex_flow": "row wrap",
       "width": "100%"
      }
     },
     "475efbbe59af46dbb12116156a36c885": {
      "model_module": "@jupyter-widgets/base",
      "model_module_version": "1.2.0",
      "model_name": "LayoutModel",
      "state": {}
     },
     "4780782fc3344792b807a19f5d268a9a": {
      "model_module": "@jupyter-widgets/base",
      "model_module_version": "1.2.0",
      "model_name": "LayoutModel",
      "state": {
       "flex": "2"
      }
     },
     "479ab20da63d4379abcb9c41bb4ad285": {
      "model_module": "@jupyter-widgets/base",
      "model_module_version": "1.2.0",
      "model_name": "LayoutModel",
      "state": {
       "flex": "2"
      }
     },
     "484c5657cfb44cefaf01fad1c0ebbb7d": {
      "model_module": "@jupyter-widgets/controls",
      "model_module_version": "1.5.0",
      "model_name": "ProgressStyleModel",
      "state": {
       "description_width": "initial"
      }
     },
     "487651d8d55e431fafd8a9dd4caed2f2": {
      "model_module": "@jupyter-widgets/controls",
      "model_module_version": "1.5.0",
      "model_name": "HBoxModel",
      "state": {
       "children": [
        "IPY_MODEL_a26b677c9b574e7eb7ab545688bc8edb",
        "IPY_MODEL_b91409bf405a4eaeae011ffad4006440"
       ],
       "layout": "IPY_MODEL_1ce9d430c1ec4e87b7efb13813407fea"
      }
     },
     "48b6cc14bd2541e0bf44e9c1077cb60f": {
      "model_module": "@jupyter-widgets/base",
      "model_module_version": "1.2.0",
      "model_name": "LayoutModel",
      "state": {}
     },
     "48df46b9ec0e4404a3b67582377fa633": {
      "model_module": "@jupyter-widgets/controls",
      "model_module_version": "1.5.0",
      "model_name": "DescriptionStyleModel",
      "state": {
       "description_width": ""
      }
     },
     "490beabb9ad5405f8640dc45bc4413aa": {
      "model_module": "@jupyter-widgets/base",
      "model_module_version": "1.2.0",
      "model_name": "LayoutModel",
      "state": {
       "display": "inline-flex",
       "flex_flow": "row wrap",
       "width": "100%"
      }
     },
     "496434f9641f4dfc8036a93074e22d65": {
      "model_module": "@jupyter-widgets/base",
      "model_module_version": "1.2.0",
      "model_name": "LayoutModel",
      "state": {
       "display": "inline-flex",
       "flex_flow": "row wrap",
       "width": "100%"
      }
     },
     "49fb496bc0ab43dab86c59ef24be0258": {
      "model_module": "@jupyter-widgets/controls",
      "model_module_version": "1.5.0",
      "model_name": "DescriptionStyleModel",
      "state": {
       "description_width": ""
      }
     },
     "4a67e3c4d98c4ecda84c319989fb2a98": {
      "model_module": "@jupyter-widgets/base",
      "model_module_version": "1.2.0",
      "model_name": "LayoutModel",
      "state": {}
     },
     "4b07e79623a6443dbaf5d7e321ffe2a4": {
      "model_module": "@jupyter-widgets/base",
      "model_module_version": "1.2.0",
      "model_name": "LayoutModel",
      "state": {
       "display": "inline-flex",
       "flex_flow": "row wrap",
       "width": "100%"
      }
     },
     "4b7f8755401e4747abb5bef9e998c841": {
      "model_module": "@jupyter-widgets/base",
      "model_module_version": "1.2.0",
      "model_name": "LayoutModel",
      "state": {}
     },
     "4bb3415d8c7146d2ac18708ee9a34b84": {
      "model_module": "@jupyter-widgets/controls",
      "model_module_version": "1.5.0",
      "model_name": "HBoxModel",
      "state": {
       "children": [
        "IPY_MODEL_995f10fe66064c2bae787b1809ddaaf3",
        "IPY_MODEL_957d10b62354491d9e352f32a7a8db36"
       ],
       "layout": "IPY_MODEL_8720003fb64d4f4eb76399899a3cfaf0"
      }
     },
     "4bbaf00c4ec84e22bed95fcbd366ba20": {
      "model_module": "@jupyter-widgets/base",
      "model_module_version": "1.2.0",
      "model_name": "LayoutModel",
      "state": {
       "display": "inline-flex",
       "flex_flow": "row wrap",
       "width": "100%"
      }
     },
     "4c05441f06574de18be249c08caa0c2e": {
      "model_module": "@jupyter-widgets/base",
      "model_module_version": "1.2.0",
      "model_name": "LayoutModel",
      "state": {
       "flex": "2"
      }
     },
     "4c366667a54341179ef705a0dd5cf805": {
      "model_module": "@jupyter-widgets/controls",
      "model_module_version": "1.5.0",
      "model_name": "HBoxModel",
      "state": {
       "children": [
        "IPY_MODEL_37439ea966884710b809c7fd6057a767",
        "IPY_MODEL_a9b4c9c698eb4f36a0c181b0c2c0573c"
       ],
       "layout": "IPY_MODEL_990257112b6d4837885e8a4c9cd38b36"
      }
     },
     "4c78aab5b056490db2edcff29f0837ce": {
      "model_module": "@jupyter-widgets/controls",
      "model_module_version": "1.5.0",
      "model_name": "HTMLModel",
      "state": {
       "layout": "IPY_MODEL_33500f26a19d4109b3649621871c6239",
       "style": "IPY_MODEL_eda34a59f47641a786a7994981a77d99",
       "value": " ETA: 00:00s - loss: 1.8400 - val_loss: 1.9132"
      }
     },
     "4c83d548861a4d119e2a9a8944706d5f": {
      "model_module": "@jupyter-widgets/controls",
      "model_module_version": "1.5.0",
      "model_name": "DescriptionStyleModel",
      "state": {
       "description_width": ""
      }
     },
     "4cfda4c690d94231b9c57456d0564e5d": {
      "model_module": "@jupyter-widgets/controls",
      "model_module_version": "1.5.0",
      "model_name": "HBoxModel",
      "state": {
       "children": [
        "IPY_MODEL_e8ff77e4dcef4a6ca9604b525990a02c",
        "IPY_MODEL_683b9356ce56469593f4539b49951349"
       ],
       "layout": "IPY_MODEL_a31aeb46b5264f3185fead318d644ac9"
      }
     },
     "4d177b4f40704cd98b0e158392d420fa": {
      "model_module": "@jupyter-widgets/controls",
      "model_module_version": "1.5.0",
      "model_name": "ProgressStyleModel",
      "state": {
       "description_width": "initial"
      }
     },
     "4d2e6bb411b24323b1385c6024d4034f": {
      "model_module": "@jupyter-widgets/controls",
      "model_module_version": "1.5.0",
      "model_name": "ProgressStyleModel",
      "state": {
       "description_width": "initial"
      }
     },
     "4d33eaa669854acbbfed52c9a073fbab": {
      "model_module": "@jupyter-widgets/controls",
      "model_module_version": "1.5.0",
      "model_name": "HBoxModel",
      "state": {
       "children": [
        "IPY_MODEL_b21b0cb8d58841058c5fd6dbcbf44cc8",
        "IPY_MODEL_0a7607421e46491fa1b529818fe7a05f"
       ],
       "layout": "IPY_MODEL_6387d226da3a490baf280b5ab313c8d3"
      }
     },
     "4d3f03b19c08439fa9ed663dbe72d392": {
      "model_module": "@jupyter-widgets/base",
      "model_module_version": "1.2.0",
      "model_name": "LayoutModel",
      "state": {
       "display": "inline-flex",
       "flex_flow": "row wrap",
       "width": "100%"
      }
     },
     "4d54068ed4594698af1073d215d58deb": {
      "model_module": "@jupyter-widgets/base",
      "model_module_version": "1.2.0",
      "model_name": "LayoutModel",
      "state": {
       "display": "inline-flex",
       "flex_flow": "row wrap",
       "width": "100%"
      }
     },
     "4d558af3383748e2acab274d322b93e2": {
      "model_module": "@jupyter-widgets/base",
      "model_module_version": "1.2.0",
      "model_name": "LayoutModel",
      "state": {}
     },
     "4e0a01bb54604c7db44b5bedd02696fc": {
      "model_module": "@jupyter-widgets/controls",
      "model_module_version": "1.5.0",
      "model_name": "DescriptionStyleModel",
      "state": {
       "description_width": ""
      }
     },
     "4e182974481d4deb96b6e6f70da38fe1": {
      "model_module": "@jupyter-widgets/base",
      "model_module_version": "1.2.0",
      "model_name": "LayoutModel",
      "state": {
       "flex": "2"
      }
     },
     "4e67fb58c3a240e0b4a43d1bf7ec40ef": {
      "model_module": "@jupyter-widgets/base",
      "model_module_version": "1.2.0",
      "model_name": "LayoutModel",
      "state": {
       "flex": "2"
      }
     },
     "4e6c3a0844bc440e9909e6a5e8d7da64": {
      "model_module": "@jupyter-widgets/controls",
      "model_module_version": "1.5.0",
      "model_name": "HTMLModel",
      "state": {
       "layout": "IPY_MODEL_fdef4e7838e940bf967f63f18db9cd45",
       "style": "IPY_MODEL_709a04148a7947f0b638e43a65846f1d",
       "value": " ETA: 00:00s - loss: 2.5673 - val_loss: 2.6966"
      }
     },
     "4f436904ab184be9883a64bfa6e5a6f5": {
      "model_module": "@jupyter-widgets/controls",
      "model_module_version": "1.5.0",
      "model_name": "FloatProgressModel",
      "state": {
       "bar_style": "success",
       "description": "5625/5625",
       "layout": "IPY_MODEL_00b2674e053a42d38dfdcd23dcc7d0e8",
       "max": 5625,
       "style": "IPY_MODEL_5d24c85031c04da1bcdd3c84ab82f334",
       "value": 5625
      }
     },
     "4f47823fe8c34c4bb229e753fcc2f37f": {
      "model_module": "@jupyter-widgets/controls",
      "model_module_version": "1.5.0",
      "model_name": "DescriptionStyleModel",
      "state": {
       "description_width": ""
      }
     },
     "4f673e56defd4fed9103db8125fa7b97": {
      "model_module": "@jupyter-widgets/controls",
      "model_module_version": "1.5.0",
      "model_name": "HBoxModel",
      "state": {
       "children": [
        "IPY_MODEL_1bad8287d67d489e8ff5fcfccb7f223d",
        "IPY_MODEL_7a9bfc607caf4431bc4a0f5208b2703d"
       ],
       "layout": "IPY_MODEL_077ffd25a3fc4af3bacec4e687840a11"
      }
     },
     "4feded2cb3514228bde5409e0acdd9fa": {
      "model_module": "@jupyter-widgets/base",
      "model_module_version": "1.2.0",
      "model_name": "LayoutModel",
      "state": {
       "flex": "2"
      }
     },
     "4ff22bcf127a4995a81b83b801da1a3b": {
      "model_module": "@jupyter-widgets/controls",
      "model_module_version": "1.5.0",
      "model_name": "HTMLModel",
      "state": {
       "layout": "IPY_MODEL_421fd352f0a64378b5fe5a06f0b472b1",
       "style": "IPY_MODEL_42ed437bf6af401aa142b3ec7746d089",
       "value": " ETA: 00:00s - loss: 1.4763 - val_loss: 1.7754"
      }
     },
     "4ff8e855caa0486992eae2f2067dacec": {
      "model_module": "@jupyter-widgets/controls",
      "model_module_version": "1.5.0",
      "model_name": "HBoxModel",
      "state": {
       "children": [
        "IPY_MODEL_d5aae18489534882ba7f2588d6442157",
        "IPY_MODEL_bfedd16eafb6481091c924e5b0920520"
       ],
       "layout": "IPY_MODEL_b913a951a9c64676b8a767a8b4c58fea"
      }
     },
     "508f4d22c99f456193958089e3d27e0b": {
      "model_module": "@jupyter-widgets/base",
      "model_module_version": "1.2.0",
      "model_name": "LayoutModel",
      "state": {
       "display": "inline-flex",
       "flex_flow": "row wrap",
       "width": "100%"
      }
     },
     "509dd952d8624b32829be59b53a9e3f8": {
      "model_module": "@jupyter-widgets/controls",
      "model_module_version": "1.5.0",
      "model_name": "FloatProgressModel",
      "state": {
       "bar_style": "success",
       "description": "2813/2813",
       "layout": "IPY_MODEL_30d382ee2c954788b4b1208961267d8e",
       "max": 2813,
       "style": "IPY_MODEL_24240ef6b1fc428e9711058f23d3937f",
       "value": 2813
      }
     },
     "5141452376e34080a3e441b0cb974851": {
      "model_module": "@jupyter-widgets/controls",
      "model_module_version": "1.5.0",
      "model_name": "ProgressStyleModel",
      "state": {
       "description_width": "initial"
      }
     },
     "51673063f920448a8368dd154a701a3f": {
      "model_module": "@jupyter-widgets/controls",
      "model_module_version": "1.5.0",
      "model_name": "DescriptionStyleModel",
      "state": {
       "description_width": ""
      }
     },
     "518e13afc2ce4700b18620a7aa9b6670": {
      "model_module": "@jupyter-widgets/controls",
      "model_module_version": "1.5.0",
      "model_name": "HBoxModel",
      "state": {
       "children": [
        "IPY_MODEL_a60629601ae34aa9b26d90ac2e933bf3",
        "IPY_MODEL_d8ed4e5049b44dfd93339a4bc95c21c5"
       ],
       "layout": "IPY_MODEL_2b358da787744a8da007e2ebbf05c43c"
      }
     },
     "51ccf73aba91447ab1739613d2da4956": {
      "model_module": "@jupyter-widgets/base",
      "model_module_version": "1.2.0",
      "model_name": "LayoutModel",
      "state": {
       "flex": "2"
      }
     },
     "51dc49f7fcd7466988a19a66ec5a88b6": {
      "model_module": "@jupyter-widgets/controls",
      "model_module_version": "1.5.0",
      "model_name": "ProgressStyleModel",
      "state": {
       "description_width": "initial"
      }
     },
     "51e4f0446d654a66b5bee1228fe0e9c7": {
      "model_module": "@jupyter-widgets/base",
      "model_module_version": "1.2.0",
      "model_name": "LayoutModel",
      "state": {}
     },
     "5254c2a7a2b1494e9518b3ccd7e646e0": {
      "model_module": "@jupyter-widgets/base",
      "model_module_version": "1.2.0",
      "model_name": "LayoutModel",
      "state": {
       "flex": "2"
      }
     },
     "5254d1c828e44783a59890ad327c3a86": {
      "model_module": "@jupyter-widgets/base",
      "model_module_version": "1.2.0",
      "model_name": "LayoutModel",
      "state": {
       "display": "inline-flex",
       "flex_flow": "row wrap",
       "width": "100%"
      }
     },
     "52569ad5061346f48a469a74b9282fac": {
      "model_module": "@jupyter-widgets/controls",
      "model_module_version": "1.5.0",
      "model_name": "DescriptionStyleModel",
      "state": {
       "description_width": ""
      }
     },
     "52e4ad9e1a564d8ea4119039d50dff1d": {
      "model_module": "@jupyter-widgets/controls",
      "model_module_version": "1.5.0",
      "model_name": "HBoxModel",
      "state": {
       "children": [
        "IPY_MODEL_1c695d7877fb4315ba847fdc7e663bef",
        "IPY_MODEL_4688bdca321047e18d2d737e1e79df18"
       ],
       "layout": "IPY_MODEL_91439b79831447e3816fac25fa894090"
      }
     },
     "53bc3c629eef4252bc3ec1e4a888315f": {
      "model_module": "@jupyter-widgets/base",
      "model_module_version": "1.2.0",
      "model_name": "LayoutModel",
      "state": {
       "flex": "2"
      }
     },
     "53c584568ab94b0ea04f7afc7baa8ecf": {
      "model_module": "@jupyter-widgets/controls",
      "model_module_version": "1.5.0",
      "model_name": "HBoxModel",
      "state": {
       "children": [
        "IPY_MODEL_d237e3f2021645dbbbbbe95dad990e2c",
        "IPY_MODEL_e4ed2a19604f47b1b8c55670ae801188"
       ],
       "layout": "IPY_MODEL_d17c70fd41004d03ba8239fd3636635c"
      }
     },
     "541c9c92b67c4944ad6734c1c306d0b2": {
      "model_module": "@jupyter-widgets/base",
      "model_module_version": "1.2.0",
      "model_name": "LayoutModel",
      "state": {}
     },
     "541e599bfd154e3885264e9941f11b81": {
      "model_module": "@jupyter-widgets/controls",
      "model_module_version": "1.5.0",
      "model_name": "HTMLModel",
      "state": {
       "layout": "IPY_MODEL_249f8589233d428a9df8b89b11689937",
       "style": "IPY_MODEL_0433b0ea8d7f449aaf97855abada835e",
       "value": " ETA: 00:00s - loss: 2.2450 - val_loss: 2.2883"
      }
     },
     "543412a9c47b400892c23eccc698b3b1": {
      "model_module": "@jupyter-widgets/base",
      "model_module_version": "1.2.0",
      "model_name": "LayoutModel",
      "state": {
       "display": "inline-flex",
       "flex_flow": "row wrap",
       "width": "100%"
      }
     },
     "54715092b28a4332b8b07691248ff873": {
      "model_module": "@jupyter-widgets/base",
      "model_module_version": "1.2.0",
      "model_name": "LayoutModel",
      "state": {
       "display": "inline-flex",
       "flex_flow": "row wrap",
       "width": "100%"
      }
     },
     "54b096cf182a4a03be2264f392c40d60": {
      "model_module": "@jupyter-widgets/controls",
      "model_module_version": "1.5.0",
      "model_name": "HTMLModel",
      "state": {
       "layout": "IPY_MODEL_475efbbe59af46dbb12116156a36c885",
       "style": "IPY_MODEL_182e3058107e4c0db2521491a353633d",
       "value": " ETA: 00:00s - loss: 3.1826 - val_loss: 2.7618"
      }
     },
     "5545551ba1fd497bbf4f1544a7db109e": {
      "model_module": "@jupyter-widgets/base",
      "model_module_version": "1.2.0",
      "model_name": "LayoutModel",
      "state": {
       "display": "inline-flex",
       "flex_flow": "row wrap",
       "width": "100%"
      }
     },
     "557fe1e84ff64de59a649228630fa74c": {
      "model_module": "@jupyter-widgets/controls",
      "model_module_version": "1.5.0",
      "model_name": "FloatProgressModel",
      "state": {
       "bar_style": "success",
       "description": "2813/2813",
       "layout": "IPY_MODEL_0d48b0247cba47b59dbf5a0112ae395e",
       "max": 2813,
       "style": "IPY_MODEL_0d204214958e40f78593eda5bf5a07e1",
       "value": 2813
      }
     },
     "55a71ed3e0a44d0794768140fb8cfc42": {
      "model_module": "@jupyter-widgets/base",
      "model_module_version": "1.2.0",
      "model_name": "LayoutModel",
      "state": {}
     },
     "55cdbd3a9f7a4df0b15cc749af10a05a": {
      "model_module": "@jupyter-widgets/base",
      "model_module_version": "1.2.0",
      "model_name": "LayoutModel",
      "state": {}
     },
     "55ec9cc02ec840589dfe701c7cce4db1": {
      "model_module": "@jupyter-widgets/controls",
      "model_module_version": "1.5.0",
      "model_name": "HBoxModel",
      "state": {
       "children": [
        "IPY_MODEL_b8b37a675c354402a7e802efd801063e",
        "IPY_MODEL_77679f59cb33434ea035fb92c3739744"
       ],
       "layout": "IPY_MODEL_9696b3b221f147b4ad762ae4b91c52e9"
      }
     },
     "5731c7d789704096a9d75a2aaae3a2a1": {
      "model_module": "@jupyter-widgets/controls",
      "model_module_version": "1.5.0",
      "model_name": "HBoxModel",
      "state": {
       "children": [
        "IPY_MODEL_1cb18d46e56f47b2987252edca53c94f",
        "IPY_MODEL_2586d367ec184003ab5f3fabefd48a74"
       ],
       "layout": "IPY_MODEL_41e20118bef34a4995b47df099238549"
      }
     },
     "57cfb9ae68844497abbd45def6598fae": {
      "model_module": "@jupyter-widgets/base",
      "model_module_version": "1.2.0",
      "model_name": "LayoutModel",
      "state": {
       "flex": "2"
      }
     },
     "57ea76625a684ee6954ce7e024b0db8b": {
      "model_module": "@jupyter-widgets/base",
      "model_module_version": "1.2.0",
      "model_name": "LayoutModel",
      "state": {
       "display": "inline-flex",
       "flex_flow": "row wrap",
       "width": "100%"
      }
     },
     "582a56d30c894569bbfe9d9d76253da1": {
      "model_module": "@jupyter-widgets/controls",
      "model_module_version": "1.5.0",
      "model_name": "HBoxModel",
      "state": {
       "children": [
        "IPY_MODEL_edbf08c487034d14adb0684b31527ea9",
        "IPY_MODEL_b9793370738c448292820726e1438437"
       ],
       "layout": "IPY_MODEL_4b07e79623a6443dbaf5d7e321ffe2a4"
      }
     },
     "58529179a89a48b7af2dac4de9220cae": {
      "model_module": "@jupyter-widgets/controls",
      "model_module_version": "1.5.0",
      "model_name": "DescriptionStyleModel",
      "state": {
       "description_width": ""
      }
     },
     "58b74cd29d6a4dce9a2b6e3974ab9170": {
      "model_module": "@jupyter-widgets/controls",
      "model_module_version": "1.5.0",
      "model_name": "ProgressStyleModel",
      "state": {
       "description_width": "initial"
      }
     },
     "58dbb5833b5a4ae1a103388514500715": {
      "model_module": "@jupyter-widgets/controls",
      "model_module_version": "1.5.0",
      "model_name": "HTMLModel",
      "state": {
       "layout": "IPY_MODEL_0f303e8c5be14f5c8307ec3a8fa110f3",
       "style": "IPY_MODEL_169fcd1ff177404486bb56ae2225ead6",
       "value": " ETA: 00:00s - loss: 1.2846 - val_loss: 1.8605"
      }
     },
     "594a92dccefa4fe793970eddf1790726": {
      "model_module": "@jupyter-widgets/base",
      "model_module_version": "1.2.0",
      "model_name": "LayoutModel",
      "state": {}
     },
     "594d95826618447a9361057fdc409964": {
      "model_module": "@jupyter-widgets/base",
      "model_module_version": "1.2.0",
      "model_name": "LayoutModel",
      "state": {}
     },
     "5986a04840694e6fa8797adf65a44bde": {
      "model_module": "@jupyter-widgets/controls",
      "model_module_version": "1.5.0",
      "model_name": "DescriptionStyleModel",
      "state": {
       "description_width": ""
      }
     },
     "59b423a7f2fe45d38961876d41180d67": {
      "model_module": "@jupyter-widgets/controls",
      "model_module_version": "1.5.0",
      "model_name": "ProgressStyleModel",
      "state": {
       "description_width": "initial"
      }
     },
     "59db8fba455e471dac9278a0be1ae5e1": {
      "model_module": "@jupyter-widgets/controls",
      "model_module_version": "1.5.0",
      "model_name": "HTMLModel",
      "state": {
       "layout": "IPY_MODEL_594d95826618447a9361057fdc409964",
       "style": "IPY_MODEL_5b13c1263e0648fe82a08475c28dbfad",
       "value": " ETA: 00:00s - loss: 1.6535 - val_loss: 1.7298"
      }
     },
     "59dff7d9ee08499982bdcbb3bddbfbeb": {
      "model_module": "@jupyter-widgets/controls",
      "model_module_version": "1.5.0",
      "model_name": "DescriptionStyleModel",
      "state": {
       "description_width": ""
      }
     },
     "5a7aa87e80ab4bcb9a031cb17a5f0bfc": {
      "model_module": "@jupyter-widgets/controls",
      "model_module_version": "1.5.0",
      "model_name": "HTMLModel",
      "state": {
       "layout": "IPY_MODEL_d477aff00470460db10be63a93dd5ba1",
       "style": "IPY_MODEL_cf68061f1109486682984a7a8f6b6387",
       "value": " ETA: 00:00s - loss: 1.5175 - val_loss: 1.7690"
      }
     },
     "5b13c1263e0648fe82a08475c28dbfad": {
      "model_module": "@jupyter-widgets/controls",
      "model_module_version": "1.5.0",
      "model_name": "DescriptionStyleModel",
      "state": {
       "description_width": ""
      }
     },
     "5b8e5e5318a14d3b8e736e376bba7c82": {
      "model_module": "@jupyter-widgets/base",
      "model_module_version": "1.2.0",
      "model_name": "LayoutModel",
      "state": {}
     },
     "5bdc75d0f6df405caa813349e3b2873a": {
      "model_module": "@jupyter-widgets/controls",
      "model_module_version": "1.5.0",
      "model_name": "DescriptionStyleModel",
      "state": {
       "description_width": ""
      }
     },
     "5be202ad46404288897f70c659da560e": {
      "model_module": "@jupyter-widgets/base",
      "model_module_version": "1.2.0",
      "model_name": "LayoutModel",
      "state": {
       "display": "inline-flex",
       "flex_flow": "row wrap",
       "width": "100%"
      }
     },
     "5c54d23c55534bcfa5333e2540f814a8": {
      "model_module": "@jupyter-widgets/controls",
      "model_module_version": "1.5.0",
      "model_name": "ProgressStyleModel",
      "state": {
       "description_width": "initial"
      }
     },
     "5c55b6a7dd0a4a178a5a624c1e0d288d": {
      "model_module": "@jupyter-widgets/controls",
      "model_module_version": "1.5.0",
      "model_name": "DescriptionStyleModel",
      "state": {
       "description_width": ""
      }
     },
     "5c630c8e550444b09f817b0193268fd1": {
      "model_module": "@jupyter-widgets/base",
      "model_module_version": "1.2.0",
      "model_name": "LayoutModel",
      "state": {
       "flex": "2"
      }
     },
     "5cd3706d1e8f4601925fdfd4c53e10fa": {
      "model_module": "@jupyter-widgets/controls",
      "model_module_version": "1.5.0",
      "model_name": "HTMLModel",
      "state": {
       "layout": "IPY_MODEL_bb880f8b9ea7464d81fc59d7b8f8c26d",
       "style": "IPY_MODEL_8290f1b05f3b478caa571a591dc7e06c",
       "value": " ETA: 00:00s - loss: 1.6049 - val_loss: 1.7274"
      }
     },
     "5cec5fd885c74b0fac92cf9c1cc6320b": {
      "model_module": "@jupyter-widgets/base",
      "model_module_version": "1.2.0",
      "model_name": "LayoutModel",
      "state": {
       "flex": "2"
      }
     },
     "5d24c85031c04da1bcdd3c84ab82f334": {
      "model_module": "@jupyter-widgets/controls",
      "model_module_version": "1.5.0",
      "model_name": "ProgressStyleModel",
      "state": {
       "description_width": "initial"
      }
     },
     "5d31cc43b6dc4ac7a92fb862c9ebaaa2": {
      "model_module": "@jupyter-widgets/base",
      "model_module_version": "1.2.0",
      "model_name": "LayoutModel",
      "state": {}
     },
     "5db68815bee04b078918feca7bf41c56": {
      "model_module": "@jupyter-widgets/controls",
      "model_module_version": "1.5.0",
      "model_name": "DescriptionStyleModel",
      "state": {
       "description_width": ""
      }
     },
     "5df42939d09642169fc5380373a208f8": {
      "model_module": "@jupyter-widgets/base",
      "model_module_version": "1.2.0",
      "model_name": "LayoutModel",
      "state": {
       "display": "inline-flex",
       "flex_flow": "row wrap",
       "width": "100%"
      }
     },
     "5e31d7dfc9c74c3d8401a195fa3eb52d": {
      "model_module": "@jupyter-widgets/controls",
      "model_module_version": "1.5.0",
      "model_name": "FloatProgressModel",
      "state": {
       "bar_style": "success",
       "description": "2813/2813",
       "layout": "IPY_MODEL_847e0680bd9544d6919ad9bf8a56a193",
       "max": 2813,
       "style": "IPY_MODEL_bfdc690224dc46e4a34e5e0f208fd6a0",
       "value": 2813
      }
     },
     "5e987269f1234e02b6ce15620482183b": {
      "model_module": "@jupyter-widgets/controls",
      "model_module_version": "1.5.0",
      "model_name": "DescriptionStyleModel",
      "state": {
       "description_width": ""
      }
     },
     "5f9c9041926a4b97bf04edaf446d55fd": {
      "model_module": "@jupyter-widgets/base",
      "model_module_version": "1.2.0",
      "model_name": "LayoutModel",
      "state": {
       "display": "inline-flex",
       "flex_flow": "row wrap",
       "width": "100%"
      }
     },
     "5fcd08130fcd492e8cb872f27a32e6a7": {
      "model_module": "@jupyter-widgets/controls",
      "model_module_version": "1.5.0",
      "model_name": "HTMLModel",
      "state": {
       "layout": "IPY_MODEL_d2c56f12f7db4e04b7256dc013b9b875",
       "style": "IPY_MODEL_3919971f4dc54cb4b869e42bdbe3f838",
       "value": " ETA: 00:00s - loss: 2.3247 - val_loss: 2.1201"
      }
     },
     "5fff2e809a8a471499975a4bfaa4b37d": {
      "model_module": "@jupyter-widgets/controls",
      "model_module_version": "1.5.0",
      "model_name": "ProgressStyleModel",
      "state": {
       "description_width": "initial"
      }
     },
     "60506b90e3a444bb9c499e2dfb85d707": {
      "model_module": "@jupyter-widgets/controls",
      "model_module_version": "1.5.0",
      "model_name": "FloatProgressModel",
      "state": {
       "bar_style": "success",
       "description": "2813/2813",
       "layout": "IPY_MODEL_6aa0422d2ed74de59b5b5648837aa9ad",
       "max": 2813,
       "style": "IPY_MODEL_26003b0141e541e0b0eef7e27720cbe3",
       "value": 2813
      }
     },
     "60882b4aa8d94e17ac6aee1b0ba15782": {
      "model_module": "@jupyter-widgets/controls",
      "model_module_version": "1.5.0",
      "model_name": "HTMLModel",
      "state": {
       "layout": "IPY_MODEL_8f6c2ddea31f4f75bf290dde2a61c5af",
       "style": "IPY_MODEL_dabb326955ae4404a02b162230cfb498",
       "value": " ETA: 00:00s - loss: 2.3067 - val_loss: 2.2270"
      }
     },
     "613007a5ef5a490baa4057a77892a0e8": {
      "model_module": "@jupyter-widgets/controls",
      "model_module_version": "1.5.0",
      "model_name": "HTMLModel",
      "state": {
       "layout": "IPY_MODEL_55cdbd3a9f7a4df0b15cc749af10a05a",
       "style": "IPY_MODEL_c803bc85c7954ca0842616cfe00736aa",
       "value": " ETA: 00:00s - loss: 1.8771 - val_loss: 1.9141"
      }
     },
     "61589ce6fe044af19b1b0ae0a0b6d419": {
      "model_module": "@jupyter-widgets/base",
      "model_module_version": "1.2.0",
      "model_name": "LayoutModel",
      "state": {
       "display": "inline-flex",
       "flex_flow": "row wrap",
       "width": "100%"
      }
     },
     "61597ce1e8034b7891b5e565a3a34bc5": {
      "model_module": "@jupyter-widgets/controls",
      "model_module_version": "1.5.0",
      "model_name": "ProgressStyleModel",
      "state": {
       "description_width": "initial"
      }
     },
     "621c38466b8c4b8fa6a8938206b679f8": {
      "model_module": "@jupyter-widgets/base",
      "model_module_version": "1.2.0",
      "model_name": "LayoutModel",
      "state": {
       "flex": "2"
      }
     },
     "621fa78048b0478788e564ac5c8daada": {
      "model_module": "@jupyter-widgets/base",
      "model_module_version": "1.2.0",
      "model_name": "LayoutModel",
      "state": {
       "display": "inline-flex",
       "flex_flow": "row wrap",
       "width": "100%"
      }
     },
     "6259009ce75b4caaa7ed5ec3e3105eb4": {
      "model_module": "@jupyter-widgets/controls",
      "model_module_version": "1.5.0",
      "model_name": "ProgressStyleModel",
      "state": {
       "description_width": "initial"
      }
     },
     "6282b9aa04f24eb6ac5374a4489a0aa3": {
      "model_module": "@jupyter-widgets/base",
      "model_module_version": "1.2.0",
      "model_name": "LayoutModel",
      "state": {
       "flex": "2"
      }
     },
     "62fd6189309a4bb6ba5a9fee33436c7d": {
      "model_module": "@jupyter-widgets/controls",
      "model_module_version": "1.5.0",
      "model_name": "HBoxModel",
      "state": {
       "children": [
        "IPY_MODEL_c56f6f0e614043b4bc7712f0093db757",
        "IPY_MODEL_65e47b94900e47769db955c6ff0bb6e2"
       ],
       "layout": "IPY_MODEL_0b6ddeda764547c0a55d44db4aa91d32"
      }
     },
     "636ba75a026c4719a09f28414cedca63": {
      "model_module": "@jupyter-widgets/base",
      "model_module_version": "1.2.0",
      "model_name": "LayoutModel",
      "state": {
       "flex": "2"
      }
     },
     "6387d226da3a490baf280b5ab313c8d3": {
      "model_module": "@jupyter-widgets/base",
      "model_module_version": "1.2.0",
      "model_name": "LayoutModel",
      "state": {
       "display": "inline-flex",
       "flex_flow": "row wrap",
       "width": "100%"
      }
     },
     "6398cf4fff4045daaaf7457b83623c94": {
      "model_module": "@jupyter-widgets/controls",
      "model_module_version": "1.5.0",
      "model_name": "HTMLModel",
      "state": {
       "layout": "IPY_MODEL_75640ee7204b49dba0848c2add6176e3",
       "style": "IPY_MODEL_adc2d029131341b7ab0908901854acee",
       "value": " ETA: 00:00s - loss: 2.7190 - val_loss: 2.3257"
      }
     },
     "63af1f5ae59d4da7a701737632ebe3ee": {
      "model_module": "@jupyter-widgets/controls",
      "model_module_version": "1.5.0",
      "model_name": "ProgressStyleModel",
      "state": {
       "description_width": "initial"
      }
     },
     "63b3af4001dd4949860075501559e0b9": {
      "model_module": "@jupyter-widgets/controls",
      "model_module_version": "1.5.0",
      "model_name": "HBoxModel",
      "state": {
       "children": [
        "IPY_MODEL_75aae145b3a84e7ea73b1267e91cc9ee",
        "IPY_MODEL_1969f456c05f4fe98fca242b2b818628"
       ],
       "layout": "IPY_MODEL_c86b425949974c67b1e0b02d133e9080"
      }
     },
     "63f97a4d87ff4243bc5acd35c21e412b": {
      "model_module": "@jupyter-widgets/base",
      "model_module_version": "1.2.0",
      "model_name": "LayoutModel",
      "state": {}
     },
     "6475b55c3f484f53b5b2ca6f7b057ad6": {
      "model_module": "@jupyter-widgets/base",
      "model_module_version": "1.2.0",
      "model_name": "LayoutModel",
      "state": {
       "flex": "2"
      }
     },
     "65426dd5a3384a948993f650f031569e": {
      "model_module": "@jupyter-widgets/base",
      "model_module_version": "1.2.0",
      "model_name": "LayoutModel",
      "state": {
       "flex": "2"
      }
     },
     "6563d5b5db89448782c3c5aaf9400271": {
      "model_module": "@jupyter-widgets/base",
      "model_module_version": "1.2.0",
      "model_name": "LayoutModel",
      "state": {}
     },
     "65e47b94900e47769db955c6ff0bb6e2": {
      "model_module": "@jupyter-widgets/controls",
      "model_module_version": "1.5.0",
      "model_name": "HTMLModel",
      "state": {
       "layout": "IPY_MODEL_71f04e75156c423bb39c3cbc52e71278",
       "style": "IPY_MODEL_e039539e58634a44a79ff39e954d65cb",
       "value": " ETA: 00:00s - loss: 1.7375 - val_loss: 1.7312"
      }
     },
     "668eca5189b94794a9216f863caf45cf": {
      "model_module": "@jupyter-widgets/controls",
      "model_module_version": "1.5.0",
      "model_name": "ProgressStyleModel",
      "state": {
       "description_width": "initial"
      }
     },
     "669ed52a4302487da25e0e1adb6b7cc8": {
      "model_module": "@jupyter-widgets/controls",
      "model_module_version": "1.5.0",
      "model_name": "HTMLModel",
      "state": {
       "layout": "IPY_MODEL_902d1175e57f46da9852b71e7d304750",
       "style": "IPY_MODEL_efa82fc688d647679752e0304bef4c91",
       "value": " ETA: 00:00s - loss: 1.6956 - val_loss: 1.7314"
      }
     },
     "66ccedba104e4d0b8d4bb5a35a8a5888": {
      "model_module": "@jupyter-widgets/controls",
      "model_module_version": "1.5.0",
      "model_name": "ProgressStyleModel",
      "state": {
       "description_width": "initial"
      }
     },
     "679d5cb00f9646ac851a0cbc3e87fb64": {
      "model_module": "@jupyter-widgets/base",
      "model_module_version": "1.2.0",
      "model_name": "LayoutModel",
      "state": {
       "display": "inline-flex",
       "flex_flow": "row wrap",
       "width": "100%"
      }
     },
     "67e1ac24325f40958da30c8acaa77ddd": {
      "model_module": "@jupyter-widgets/controls",
      "model_module_version": "1.5.0",
      "model_name": "HTMLModel",
      "state": {
       "layout": "IPY_MODEL_87b86b891ea24bd79b00cb624b75bc27",
       "style": "IPY_MODEL_5c55b6a7dd0a4a178a5a624c1e0d288d",
       "value": " ETA: 00:00s - loss: 1.5387 - val_loss: 1.7319"
      }
     },
     "683b9356ce56469593f4539b49951349": {
      "model_module": "@jupyter-widgets/controls",
      "model_module_version": "1.5.0",
      "model_name": "HTMLModel",
      "state": {
       "layout": "IPY_MODEL_42f4264689eb439f8d8b229e1bc3b819",
       "style": "IPY_MODEL_e6f0a7b5c2fd4b64badf73036939e729",
       "value": " ETA: 00:00s - loss: 1.6614 - val_loss: 1.7539"
      }
     },
     "68402908a0604f12b061eaa7ce32d26b": {
      "model_module": "@jupyter-widgets/base",
      "model_module_version": "1.2.0",
      "model_name": "LayoutModel",
      "state": {}
     },
     "6847d6196a164b829cdac0bc448d7a85": {
      "model_module": "@jupyter-widgets/controls",
      "model_module_version": "1.5.0",
      "model_name": "FloatProgressModel",
      "state": {
       "bar_style": "success",
       "description": "5625/5625",
       "layout": "IPY_MODEL_621c38466b8c4b8fa6a8938206b679f8",
       "max": 5625,
       "style": "IPY_MODEL_ee5ecf08f3d842e1b3714847c094be58",
       "value": 5625
      }
     },
     "684bb70a52d24ac18c28b6d00836a9a3": {
      "model_module": "@jupyter-widgets/base",
      "model_module_version": "1.2.0",
      "model_name": "LayoutModel",
      "state": {
       "display": "inline-flex",
       "flex_flow": "row wrap",
       "width": "100%"
      }
     },
     "6852326e5df54230b1da79af14914fc2": {
      "model_module": "@jupyter-widgets/base",
      "model_module_version": "1.2.0",
      "model_name": "LayoutModel",
      "state": {}
     },
     "6941c0046e94415c9419149d73cd3908": {
      "model_module": "@jupyter-widgets/base",
      "model_module_version": "1.2.0",
      "model_name": "LayoutModel",
      "state": {
       "flex": "2"
      }
     },
     "695a67c3e541467c93c132068c907120": {
      "model_module": "@jupyter-widgets/base",
      "model_module_version": "1.2.0",
      "model_name": "LayoutModel",
      "state": {
       "flex": "2"
      }
     },
     "6962f6d8f5134c368f9cddac6c2b72cb": {
      "model_module": "@jupyter-widgets/controls",
      "model_module_version": "1.5.0",
      "model_name": "HTMLModel",
      "state": {
       "layout": "IPY_MODEL_2e8c41a09ff04056ab613c8a72738fe6",
       "style": "IPY_MODEL_d03dbe31c0b14205a2018652e5890361",
       "value": " ETA: 00:00s - loss: 1.8029 - val_loss: 1.8101"
      }
     },
     "699efae8ea3d4641983760f695f7df38": {
      "model_module": "@jupyter-widgets/controls",
      "model_module_version": "1.5.0",
      "model_name": "ProgressStyleModel",
      "state": {
       "description_width": "initial"
      }
     },
     "69aa2770457f427f87c88ad85b9c15a0": {
      "model_module": "@jupyter-widgets/base",
      "model_module_version": "1.2.0",
      "model_name": "LayoutModel",
      "state": {
       "display": "inline-flex",
       "flex_flow": "row wrap",
       "width": "100%"
      }
     },
     "69c75b7a5d7047dc81cf2c902d30ba58": {
      "model_module": "@jupyter-widgets/controls",
      "model_module_version": "1.5.0",
      "model_name": "FloatProgressModel",
      "state": {
       "bar_style": "success",
       "description": "5625/5625",
       "layout": "IPY_MODEL_38a1edbae2c24b02998830a42920ff27",
       "max": 5625,
       "style": "IPY_MODEL_da806acb410640bf838e65b544b09508",
       "value": 5625
      }
     },
     "6a12fe708ea74dadadda6656518ccfa9": {
      "model_module": "@jupyter-widgets/controls",
      "model_module_version": "1.5.0",
      "model_name": "DescriptionStyleModel",
      "state": {
       "description_width": ""
      }
     },
     "6aa0422d2ed74de59b5b5648837aa9ad": {
      "model_module": "@jupyter-widgets/base",
      "model_module_version": "1.2.0",
      "model_name": "LayoutModel",
      "state": {
       "flex": "2"
      }
     },
     "6aeaae7ff1d04bfeb768f43aacc8f6e7": {
      "model_module": "@jupyter-widgets/controls",
      "model_module_version": "1.5.0",
      "model_name": "HBoxModel",
      "state": {
       "children": [
        "IPY_MODEL_8dc641d90cf3427dae444a51b8253395",
        "IPY_MODEL_90a67ca25e7f47f4b29c0abdd52aceb2"
       ],
       "layout": "IPY_MODEL_ea6b1199d33e4c8cbe0ee1703a539b04"
      }
     },
     "6b08c78ed10f4f9da7e07897d9702db3": {
      "model_module": "@jupyter-widgets/controls",
      "model_module_version": "1.5.0",
      "model_name": "ProgressStyleModel",
      "state": {
       "description_width": "initial"
      }
     },
     "6c19713e1a77486caf2eb93404478fce": {
      "model_module": "@jupyter-widgets/controls",
      "model_module_version": "1.5.0",
      "model_name": "HBoxModel",
      "state": {
       "children": [
        "IPY_MODEL_95b72e9fe87740e49d69d652b0341df1",
        "IPY_MODEL_9156bca3ad284f25b26b2af1571eea93"
       ],
       "layout": "IPY_MODEL_496434f9641f4dfc8036a93074e22d65"
      }
     },
     "6ce40017566446b3b650b4668628ef99": {
      "model_module": "@jupyter-widgets/controls",
      "model_module_version": "1.5.0",
      "model_name": "HBoxModel",
      "state": {
       "children": [
        "IPY_MODEL_e8a56f36fa6344cd92b25b928dceb33f",
        "IPY_MODEL_2e3a2411e46c4d29953b8544935a84aa"
       ],
       "layout": "IPY_MODEL_4250407caf484c5f8e317cc4d8874d08"
      }
     },
     "6d783d2319294ec794b63eda98c82bfb": {
      "model_module": "@jupyter-widgets/controls",
      "model_module_version": "1.5.0",
      "model_name": "HTMLModel",
      "state": {
       "layout": "IPY_MODEL_e89de940f98242c684213c99a3916665",
       "style": "IPY_MODEL_e0da2e7b0a6d403ba0563d156e0ce9a0",
       "value": " ETA: 00:00s - loss: 1.6765 - val_loss: 1.7285"
      }
     },
     "6da17c2d0375496ebeab64b1f3636917": {
      "model_module": "@jupyter-widgets/controls",
      "model_module_version": "1.5.0",
      "model_name": "ProgressStyleModel",
      "state": {
       "description_width": "initial"
      }
     },
     "6dc9c2f31eeb4a53aebfc49130ddade2": {
      "model_module": "@jupyter-widgets/base",
      "model_module_version": "1.2.0",
      "model_name": "LayoutModel",
      "state": {
       "flex": "2"
      }
     },
     "6df2a7f0529c4257a954cf3183338e40": {
      "model_module": "@jupyter-widgets/controls",
      "model_module_version": "1.5.0",
      "model_name": "FloatProgressModel",
      "state": {
       "bar_style": "success",
       "description": "2813/2813",
       "layout": "IPY_MODEL_53bc3c629eef4252bc3ec1e4a888315f",
       "max": 2813,
       "style": "IPY_MODEL_668eca5189b94794a9216f863caf45cf",
       "value": 2813
      }
     },
     "6e0e64e455b049d3b2787842da1eeb40": {
      "model_module": "@jupyter-widgets/controls",
      "model_module_version": "1.5.0",
      "model_name": "FloatProgressModel",
      "state": {
       "description": "Training:   0%",
       "layout": "IPY_MODEL_3ab217aa36f5489eb916e9ca1340e716",
       "max": 1000,
       "style": "IPY_MODEL_eb32abbd17ad44a39ca783e5e8bf8de6"
      }
     },
     "6eaa892133ef4e48b0c14909f5054f32": {
      "model_module": "@jupyter-widgets/controls",
      "model_module_version": "1.5.0",
      "model_name": "ProgressStyleModel",
      "state": {
       "description_width": "initial"
      }
     },
     "6eedb18dd4184aa6be6a356c707d0ca0": {
      "model_module": "@jupyter-widgets/controls",
      "model_module_version": "1.5.0",
      "model_name": "HTMLModel",
      "state": {
       "layout": "IPY_MODEL_910f56c3db7c44dc8feb23b6d6534ca0",
       "style": "IPY_MODEL_7a44bb03e57d43138fbbd10bb10514e6",
       "value": " ETA: 00:00s - loss: 1.4028 - val_loss: 1.7999"
      }
     },
     "6f34ba17ff2849558ce2f0920ba09d50": {
      "model_module": "@jupyter-widgets/controls",
      "model_module_version": "1.5.0",
      "model_name": "ProgressStyleModel",
      "state": {
       "description_width": "initial"
      }
     },
     "6f98b6382c3247c0827eb5a4060d6d58": {
      "model_module": "@jupyter-widgets/controls",
      "model_module_version": "1.5.0",
      "model_name": "HTMLModel",
      "state": {
       "layout": "IPY_MODEL_33d20a5368b24ddc95cb914504cbcb2c",
       "style": "IPY_MODEL_ea015bd8b9d94449a19d8a26e5a5112f",
       "value": " ETA: 00:00s - loss: 2.0448 - val_loss: 2.0608"
      }
     },
     "70154cace6ac4f0ab6484c6a9f7e3494": {
      "model_module": "@jupyter-widgets/controls",
      "model_module_version": "1.5.0",
      "model_name": "ProgressStyleModel",
      "state": {
       "description_width": "initial"
      }
     },
     "7062e8ac29fa4ede836bc5a6ff140278": {
      "model_module": "@jupyter-widgets/base",
      "model_module_version": "1.2.0",
      "model_name": "LayoutModel",
      "state": {
       "flex": "2"
      }
     },
     "709a04148a7947f0b638e43a65846f1d": {
      "model_module": "@jupyter-widgets/controls",
      "model_module_version": "1.5.0",
      "model_name": "DescriptionStyleModel",
      "state": {
       "description_width": ""
      }
     },
     "70a49e60507c4ebdb2b9d38209ab4143": {
      "model_module": "@jupyter-widgets/controls",
      "model_module_version": "1.5.0",
      "model_name": "FloatProgressModel",
      "state": {
       "bar_style": "success",
       "description": "5625/5625",
       "layout": "IPY_MODEL_1b648eb224c3458e8e30766adebf52ed",
       "max": 5625,
       "style": "IPY_MODEL_d176173e761346d6ab52b6a37919f48e",
       "value": 5625
      }
     },
     "71f04e75156c423bb39c3cbc52e71278": {
      "model_module": "@jupyter-widgets/base",
      "model_module_version": "1.2.0",
      "model_name": "LayoutModel",
      "state": {}
     },
     "71ffc0a98ade4f5aa7173f3b487672f8": {
      "model_module": "@jupyter-widgets/controls",
      "model_module_version": "1.5.0",
      "model_name": "HTMLModel",
      "state": {
       "layout": "IPY_MODEL_8d035aa97c3f4a5ca7d921884d65a5ff",
       "style": "IPY_MODEL_fe0309953c2147eba6f45875a0b065b6",
       "value": " ETA: 00:00s - loss: 1.5870 - val_loss: 1.7115"
      }
     },
     "7236c35076a140a791c82eff6c12af27": {
      "model_module": "@jupyter-widgets/base",
      "model_module_version": "1.2.0",
      "model_name": "LayoutModel",
      "state": {
       "flex": "2"
      }
     },
     "7248cc94eb764393a48564e51c10fadc": {
      "model_module": "@jupyter-widgets/controls",
      "model_module_version": "1.5.0",
      "model_name": "HTMLModel",
      "state": {
       "layout": "IPY_MODEL_3832f6b710a541098bc1955c0129b359",
       "style": "IPY_MODEL_52569ad5061346f48a469a74b9282fac",
       "value": " ETA: 00:00s - loss: 1.6662 - val_loss: 1.7018"
      }
     },
     "729fe538c4994df483b6d10247956d0a": {
      "model_module": "@jupyter-widgets/controls",
      "model_module_version": "1.5.0",
      "model_name": "HTMLModel",
      "state": {
       "layout": "IPY_MODEL_6563d5b5db89448782c3c5aaf9400271",
       "style": "IPY_MODEL_5e987269f1234e02b6ce15620482183b",
       "value": " ETA: 00:00s - loss: 1.3651 - val_loss: 1.7737"
      }
     },
     "72e67295ebb044af8118dc64f612110c": {
      "model_module": "@jupyter-widgets/controls",
      "model_module_version": "1.5.0",
      "model_name": "DescriptionStyleModel",
      "state": {
       "description_width": ""
      }
     },
     "733111d5cf5546979ef307013fed3194": {
      "model_module": "@jupyter-widgets/controls",
      "model_module_version": "1.5.0",
      "model_name": "DescriptionStyleModel",
      "state": {
       "description_width": ""
      }
     },
     "735e233c796a447c823301aff02664ca": {
      "model_module": "@jupyter-widgets/base",
      "model_module_version": "1.2.0",
      "model_name": "LayoutModel",
      "state": {
       "flex": "2"
      }
     },
     "73948381c00244cb8f1a6fd00ddf54b4": {
      "model_module": "@jupyter-widgets/controls",
      "model_module_version": "1.5.0",
      "model_name": "DescriptionStyleModel",
      "state": {
       "description_width": ""
      }
     },
     "739770a24dcb4dfbb5ab24b1a2c7dc27": {
      "model_module": "@jupyter-widgets/controls",
      "model_module_version": "1.5.0",
      "model_name": "DescriptionStyleModel",
      "state": {
       "description_width": ""
      }
     },
     "743edddfb580456497dcb8f369fcab6d": {
      "model_module": "@jupyter-widgets/controls",
      "model_module_version": "1.5.0",
      "model_name": "FloatProgressModel",
      "state": {
       "bar_style": "success",
       "description": "5625/5625",
       "layout": "IPY_MODEL_a10201b99d804e1c8b993a6e77b86134",
       "max": 5625,
       "style": "IPY_MODEL_fe5a2f8fef4e4311be8d0446d9a070b2",
       "value": 5625
      }
     },
     "747402eeaddb4fe5aa8a23edbcd0c4ff": {
      "model_module": "@jupyter-widgets/controls",
      "model_module_version": "1.5.0",
      "model_name": "ProgressStyleModel",
      "state": {
       "description_width": "initial"
      }
     },
     "748eced4f48149b89aa8c283d7cc45a5": {
      "model_module": "@jupyter-widgets/controls",
      "model_module_version": "1.5.0",
      "model_name": "HBoxModel",
      "state": {
       "children": [
        "IPY_MODEL_13d7308bef12453f8210b7a7e1d60883",
        "IPY_MODEL_9a04172e03b64aa0b54aaabe79e46980"
       ],
       "layout": "IPY_MODEL_d3a60e3ad5ab4f2589712cf0d403ab46"
      }
     },
     "74abc4cae87e4c76bd0a6c5d68d34971": {
      "model_module": "@jupyter-widgets/controls",
      "model_module_version": "1.5.0",
      "model_name": "HBoxModel",
      "state": {
       "children": [
        "IPY_MODEL_77787f8c87624b21be8e83733fa113f0",
        "IPY_MODEL_e19d14d207ed488eb64fdb979c35adf9"
       ],
       "layout": "IPY_MODEL_a29ba74ff4f14291b8042a3922ed1d91"
      }
     },
     "74b8cb1914b7403c85f17d89f3765f23": {
      "model_module": "@jupyter-widgets/controls",
      "model_module_version": "1.5.0",
      "model_name": "ProgressStyleModel",
      "state": {
       "description_width": "initial"
      }
     },
     "75494883231749b5a340777377008b2e": {
      "model_module": "@jupyter-widgets/base",
      "model_module_version": "1.2.0",
      "model_name": "LayoutModel",
      "state": {
       "flex": "2"
      }
     },
     "754e9cfa8b574b5e87fb791d427cf7b7": {
      "model_module": "@jupyter-widgets/base",
      "model_module_version": "1.2.0",
      "model_name": "LayoutModel",
      "state": {
       "flex": "2"
      }
     },
     "75640ee7204b49dba0848c2add6176e3": {
      "model_module": "@jupyter-widgets/base",
      "model_module_version": "1.2.0",
      "model_name": "LayoutModel",
      "state": {}
     },
     "757cdc93795546449f1407384a5480fc": {
      "model_module": "@jupyter-widgets/controls",
      "model_module_version": "1.5.0",
      "model_name": "ProgressStyleModel",
      "state": {
       "description_width": "initial"
      }
     },
     "757dc03790764b3fbfb5c7c6246e6097": {
      "model_module": "@jupyter-widgets/base",
      "model_module_version": "1.2.0",
      "model_name": "LayoutModel",
      "state": {
       "flex": "2"
      }
     },
     "75aae145b3a84e7ea73b1267e91cc9ee": {
      "model_module": "@jupyter-widgets/controls",
      "model_module_version": "1.5.0",
      "model_name": "FloatProgressModel",
      "state": {
       "bar_style": "success",
       "description": "5625/5625",
       "layout": "IPY_MODEL_868fdf41e3914be6a85a95cbe0566951",
       "max": 5625,
       "style": "IPY_MODEL_804aca13980a41caaf5b4f83749d9f2f",
       "value": 5625
      }
     },
     "762766c947ce45fa8a73b08b54f1515a": {
      "model_module": "@jupyter-widgets/controls",
      "model_module_version": "1.5.0",
      "model_name": "HBoxModel",
      "state": {
       "children": [
        "IPY_MODEL_791704a57fbe4972853e4861892c2bcf",
        "IPY_MODEL_8548f33cfb4c4d9fb7513fae2f005960"
       ],
       "layout": "IPY_MODEL_5254d1c828e44783a59890ad327c3a86"
      }
     },
     "7629e5aea49f451da29ed1bb05e1cd42": {
      "model_module": "@jupyter-widgets/controls",
      "model_module_version": "1.5.0",
      "model_name": "ProgressStyleModel",
      "state": {
       "description_width": "initial"
      }
     },
     "7656bdbf3ccf4a10a58edf5c1e533389": {
      "model_module": "@jupyter-widgets/base",
      "model_module_version": "1.2.0",
      "model_name": "LayoutModel",
      "state": {
       "flex": "2"
      }
     },
     "77478803d5514189a5b2ddc25bd4458d": {
      "model_module": "@jupyter-widgets/controls",
      "model_module_version": "1.5.0",
      "model_name": "FloatProgressModel",
      "state": {
       "bar_style": "success",
       "description": "5625/5625",
       "layout": "IPY_MODEL_8159ad1136274cb4a1ed88010f710857",
       "max": 5625,
       "style": "IPY_MODEL_c20ab0ce9d8642b6bb6fec03b2d81a68",
       "value": 5625
      }
     },
     "775a503f269846648480d49c3031c23a": {
      "model_module": "@jupyter-widgets/controls",
      "model_module_version": "1.5.0",
      "model_name": "HBoxModel",
      "state": {
       "children": [
        "IPY_MODEL_7ee3c307b95244659b1a99cc3039024a",
        "IPY_MODEL_0ff09ffb23b8407c899b2c684073ee4b"
       ],
       "layout": "IPY_MODEL_0d0f4abfa3874dcb9810e6d839ba3c37"
      }
     },
     "77679f59cb33434ea035fb92c3739744": {
      "model_module": "@jupyter-widgets/controls",
      "model_module_version": "1.5.0",
      "model_name": "HTMLModel",
      "state": {
       "layout": "IPY_MODEL_48b6cc14bd2541e0bf44e9c1077cb60f",
       "style": "IPY_MODEL_b87b3654fb80490089bb2b6e4db03d52",
       "value": " ETA: 00:00s - loss: 1.1277 - val_loss: 1.8673"
      }
     },
     "7776d612d99d4561a9d4cdb4ae3f9129": {
      "model_module": "@jupyter-widgets/base",
      "model_module_version": "1.2.0",
      "model_name": "LayoutModel",
      "state": {
       "flex": "2"
      }
     },
     "77787f8c87624b21be8e83733fa113f0": {
      "model_module": "@jupyter-widgets/controls",
      "model_module_version": "1.5.0",
      "model_name": "FloatProgressModel",
      "state": {
       "bar_style": "success",
       "description": "2813/2813",
       "layout": "IPY_MODEL_87a618ea4b4b46029dc76003b6939b39",
       "max": 2813,
       "style": "IPY_MODEL_8db0c8f68bc242c28d0053182896ba68",
       "value": 2813
      }
     },
     "77a4c6cb10e7400d9c304fca20b3dc03": {
      "model_module": "@jupyter-widgets/controls",
      "model_module_version": "1.5.0",
      "model_name": "DescriptionStyleModel",
      "state": {
       "description_width": ""
      }
     },
     "7810aa5cff014a0c8778a036a19d5bc4": {
      "model_module": "@jupyter-widgets/controls",
      "model_module_version": "1.5.0",
      "model_name": "ProgressStyleModel",
      "state": {
       "description_width": "initial"
      }
     },
     "78118050280c4912b3b99a6ab9885dc4": {
      "model_module": "@jupyter-widgets/controls",
      "model_module_version": "1.5.0",
      "model_name": "HTMLModel",
      "state": {
       "layout": "IPY_MODEL_cb6d5aeebb1a44298392aa20d4d4b9ff",
       "style": "IPY_MODEL_028d56393d114a8182d7e4be482da0f6",
       "value": " ETA: 00:00s - loss: 1.6310 - val_loss: 1.7136"
      }
     },
     "781c158590b74e188f726cb4345a052e": {
      "model_module": "@jupyter-widgets/controls",
      "model_module_version": "1.5.0",
      "model_name": "FloatProgressModel",
      "state": {
       "bar_style": "success",
       "description": "5625/5625",
       "layout": "IPY_MODEL_4c05441f06574de18be249c08caa0c2e",
       "max": 5625,
       "style": "IPY_MODEL_ec31c3174e594934906f1d090f6df3b1",
       "value": 5625
      }
     },
     "78540d5ce3fc4426bc61bc7b66ba56df": {
      "model_module": "@jupyter-widgets/controls",
      "model_module_version": "1.5.0",
      "model_name": "DescriptionStyleModel",
      "state": {
       "description_width": ""
      }
     },
     "791704a57fbe4972853e4861892c2bcf": {
      "model_module": "@jupyter-widgets/controls",
      "model_module_version": "1.5.0",
      "model_name": "FloatProgressModel",
      "state": {
       "bar_style": "success",
       "description": "2813/2813",
       "layout": "IPY_MODEL_c178a9d0a67b45788787afbb3a6f39ff",
       "max": 2813,
       "style": "IPY_MODEL_ef96d75ef169428fabb629174eecc11f",
       "value": 2813
      }
     },
     "7a44bb03e57d43138fbbd10bb10514e6": {
      "model_module": "@jupyter-widgets/controls",
      "model_module_version": "1.5.0",
      "model_name": "DescriptionStyleModel",
      "state": {
       "description_width": ""
      }
     },
     "7a823cc955af4cbcb273169e0b51f301": {
      "model_module": "@jupyter-widgets/controls",
      "model_module_version": "1.5.0",
      "model_name": "ProgressStyleModel",
      "state": {
       "description_width": "initial"
      }
     },
     "7a9bfc607caf4431bc4a0f5208b2703d": {
      "model_module": "@jupyter-widgets/controls",
      "model_module_version": "1.5.0",
      "model_name": "HTMLModel",
      "state": {
       "layout": "IPY_MODEL_a9e3c75d30a84d7180a8e31b81247937",
       "style": "IPY_MODEL_733111d5cf5546979ef307013fed3194",
       "value": " ETA: 00:00s - loss: 1.4400 - val_loss: 1.7717"
      }
     },
     "7bbdcd6efc024b4eb1f6c39ed7604252": {
      "model_module": "@jupyter-widgets/controls",
      "model_module_version": "1.5.0",
      "model_name": "HTMLModel",
      "state": {
       "layout": "IPY_MODEL_19e9d777c08c488fa72f5de3b84a9003",
       "style": "IPY_MODEL_77a4c6cb10e7400d9c304fca20b3dc03",
       "value": " ETA: 00:00s - loss: 1.3896 - val_loss: 1.8047"
      }
     },
     "7c858dbf4c7b4970b93d904a74464bef": {
      "model_module": "@jupyter-widgets/controls",
      "model_module_version": "1.5.0",
      "model_name": "HTMLModel",
      "state": {
       "layout": "IPY_MODEL_bd9f3cea22304d3c9b586d70ada8213b",
       "style": "IPY_MODEL_3d99113a028442f186114ad7c872e303",
       "value": " ETA: 00:00s - loss: 1.7447 - val_loss: 1.7893"
      }
     },
     "7ca9048453684a288cafdb4866452f89": {
      "model_module": "@jupyter-widgets/base",
      "model_module_version": "1.2.0",
      "model_name": "LayoutModel",
      "state": {
       "display": "inline-flex",
       "flex_flow": "row wrap",
       "width": "100%"
      }
     },
     "7cdc182551034244a91604f722f69648": {
      "model_module": "@jupyter-widgets/controls",
      "model_module_version": "1.5.0",
      "model_name": "HBoxModel",
      "state": {
       "children": [
        "IPY_MODEL_f9ba4e098eb247f4aca1da531962ce49",
        "IPY_MODEL_aa23d7ecfa534a23a6e67d4bfc4fa0c7"
       ],
       "layout": "IPY_MODEL_c5acce5c91cd4611992a98dd7cd948e8"
      }
     },
     "7d1270209668421590a1824eec5d8bd4": {
      "model_module": "@jupyter-widgets/controls",
      "model_module_version": "1.5.0",
      "model_name": "HTMLModel",
      "state": {
       "layout": "IPY_MODEL_b9d2507de04f4f3c883462d9b018fdef",
       "style": "IPY_MODEL_d9f26d47feb549d59d6565f76dd2aa6a",
       "value": " ETA: 00:00s - loss: 2.2784 - val_loss: 2.2118"
      }
     },
     "7dee42b1ec0f4537b19d4e6c4a893650": {
      "model_module": "@jupyter-widgets/base",
      "model_module_version": "1.2.0",
      "model_name": "LayoutModel",
      "state": {
       "display": "inline-flex",
       "flex_flow": "row wrap",
       "width": "100%"
      }
     },
     "7df114cfaf6f48f5bd451c8ed2c3c970": {
      "model_module": "@jupyter-widgets/base",
      "model_module_version": "1.2.0",
      "model_name": "LayoutModel",
      "state": {
       "display": "inline-flex",
       "flex_flow": "row wrap",
       "width": "100%"
      }
     },
     "7e0bcace522146e69a0ce977c1243775": {
      "model_module": "@jupyter-widgets/controls",
      "model_module_version": "1.5.0",
      "model_name": "HBoxModel",
      "state": {
       "children": [
        "IPY_MODEL_41b2e6add82d42cbb29b079cc66a5a6c",
        "IPY_MODEL_f71255bc3d324d24b13ef982b3c9cf8d"
       ],
       "layout": "IPY_MODEL_490beabb9ad5405f8640dc45bc4413aa"
      }
     },
     "7e588a43e4d941a9bba5aa6054ecb71f": {
      "model_module": "@jupyter-widgets/controls",
      "model_module_version": "1.5.0",
      "model_name": "HTMLModel",
      "state": {
       "layout": "IPY_MODEL_7f80800b281340c5b3ac92635fdd6b2b",
       "style": "IPY_MODEL_d1a757fe35554685a125cb9d48942e3b",
       "value": " ETA: 00:00s - loss: 1.4531 - val_loss: 1.7819"
      }
     },
     "7e79cf29d0d74b4f8852072c912735f8": {
      "model_module": "@jupyter-widgets/controls",
      "model_module_version": "1.5.0",
      "model_name": "FloatProgressModel",
      "state": {
       "bar_style": "success",
       "description": "5625/5625",
       "layout": "IPY_MODEL_07eefd351f8b478b954de7dde04e4c13",
       "max": 5625,
       "style": "IPY_MODEL_23d0325c75ac4ff99edc5db4bff17bc7",
       "value": 5625
      }
     },
     "7ee3c307b95244659b1a99cc3039024a": {
      "model_module": "@jupyter-widgets/controls",
      "model_module_version": "1.5.0",
      "model_name": "FloatProgressModel",
      "state": {
       "bar_style": "success",
       "description": "5625/5625",
       "layout": "IPY_MODEL_83621c67e5964549bb9a751c0a273ccc",
       "max": 5625,
       "style": "IPY_MODEL_9c88e90cb3af4f4497a5a8530085e43f",
       "value": 5625
      }
     },
     "7f71c133910c48799fb5473c53bc5bee": {
      "model_module": "@jupyter-widgets/base",
      "model_module_version": "1.2.0",
      "model_name": "LayoutModel",
      "state": {
       "display": "inline-flex",
       "flex_flow": "row wrap",
       "width": "100%"
      }
     },
     "7f80800b281340c5b3ac92635fdd6b2b": {
      "model_module": "@jupyter-widgets/base",
      "model_module_version": "1.2.0",
      "model_name": "LayoutModel",
      "state": {}
     },
     "7fe5447d6c524a55a1ee0d24ad1d961c": {
      "model_module": "@jupyter-widgets/base",
      "model_module_version": "1.2.0",
      "model_name": "LayoutModel",
      "state": {
       "display": "inline-flex",
       "flex_flow": "row wrap",
       "width": "100%"
      }
     },
     "8039bae76f1d4df2bffa84b270e438a4": {
      "model_module": "@jupyter-widgets/controls",
      "model_module_version": "1.5.0",
      "model_name": "DescriptionStyleModel",
      "state": {
       "description_width": ""
      }
     },
     "804aca13980a41caaf5b4f83749d9f2f": {
      "model_module": "@jupyter-widgets/controls",
      "model_module_version": "1.5.0",
      "model_name": "ProgressStyleModel",
      "state": {
       "description_width": "initial"
      }
     },
     "80af34f2c9db4a9dbd40e15d435586a3": {
      "model_module": "@jupyter-widgets/controls",
      "model_module_version": "1.5.0",
      "model_name": "HTMLModel",
      "state": {
       "layout": "IPY_MODEL_be540ecb8a21427abe67674bc0d141ca",
       "style": "IPY_MODEL_4c83d548861a4d119e2a9a8944706d5f",
       "value": " ETA: 00:00s - loss: 1.5651 - val_loss: 1.7390"
      }
     },
     "80ed1bfb332c413cb362eccdf53caf25": {
      "model_module": "@jupyter-widgets/controls",
      "model_module_version": "1.5.0",
      "model_name": "DescriptionStyleModel",
      "state": {
       "description_width": ""
      }
     },
     "80fcd8fe1bec4f24930680b075e65cfd": {
      "model_module": "@jupyter-widgets/controls",
      "model_module_version": "1.5.0",
      "model_name": "HBoxModel",
      "state": {
       "children": [
        "IPY_MODEL_33d9f6358a134eb9bee2092b9a5b53ad",
        "IPY_MODEL_7d1270209668421590a1824eec5d8bd4"
       ],
       "layout": "IPY_MODEL_f45e7f0ba2a94e369645824ef49e7b13"
      }
     },
     "812e105533db4836a5d197f62db885db": {
      "model_module": "@jupyter-widgets/controls",
      "model_module_version": "1.5.0",
      "model_name": "DescriptionStyleModel",
      "state": {
       "description_width": ""
      }
     },
     "8159ad1136274cb4a1ed88010f710857": {
      "model_module": "@jupyter-widgets/base",
      "model_module_version": "1.2.0",
      "model_name": "LayoutModel",
      "state": {
       "flex": "2"
      }
     },
     "8174fb52c4c6478687b055e62d4f05e2": {
      "model_module": "@jupyter-widgets/base",
      "model_module_version": "1.2.0",
      "model_name": "LayoutModel",
      "state": {
       "display": "inline-flex",
       "flex_flow": "row wrap",
       "width": "100%"
      }
     },
     "817d4ab8ad934760995039628f8997c3": {
      "model_module": "@jupyter-widgets/base",
      "model_module_version": "1.2.0",
      "model_name": "LayoutModel",
      "state": {}
     },
     "8290f1b05f3b478caa571a591dc7e06c": {
      "model_module": "@jupyter-widgets/controls",
      "model_module_version": "1.5.0",
      "model_name": "DescriptionStyleModel",
      "state": {
       "description_width": ""
      }
     },
     "82ef62544a6b4bbdb36646f7c87453dc": {
      "model_module": "@jupyter-widgets/controls",
      "model_module_version": "1.5.0",
      "model_name": "HTMLModel",
      "state": {
       "layout": "IPY_MODEL_e4c4a21ed9844335a14e8e171ad4adb4",
       "style": "IPY_MODEL_25598cb0ab0b4006a5f56e9b9eba09b3",
       "value": " ETA: 00:00s - loss: 1.6888 - val_loss: 1.6991"
      }
     },
     "83527765122b46dcaa498bb73201790a": {
      "model_module": "@jupyter-widgets/base",
      "model_module_version": "1.2.0",
      "model_name": "LayoutModel",
      "state": {
       "display": "inline-flex",
       "flex_flow": "row wrap",
       "width": "100%"
      }
     },
     "83621c67e5964549bb9a751c0a273ccc": {
      "model_module": "@jupyter-widgets/base",
      "model_module_version": "1.2.0",
      "model_name": "LayoutModel",
      "state": {
       "flex": "2"
      }
     },
     "838ffd7c32ef49cfa8829da680379294": {
      "model_module": "@jupyter-widgets/base",
      "model_module_version": "1.2.0",
      "model_name": "LayoutModel",
      "state": {
       "flex": "2"
      }
     },
     "83ec8aba3c5a424a9a397fee916eb3d2": {
      "model_module": "@jupyter-widgets/controls",
      "model_module_version": "1.5.0",
      "model_name": "DescriptionStyleModel",
      "state": {
       "description_width": ""
      }
     },
     "841233d496cc43f69860a213992aa8e5": {
      "model_module": "@jupyter-widgets/controls",
      "model_module_version": "1.5.0",
      "model_name": "FloatProgressModel",
      "state": {
       "bar_style": "success",
       "description": "2813/2813",
       "layout": "IPY_MODEL_57cfb9ae68844497abbd45def6598fae",
       "max": 2813,
       "style": "IPY_MODEL_ee660deddc014aab87e0564ede4a78d6",
       "value": 2813
      }
     },
     "847e0680bd9544d6919ad9bf8a56a193": {
      "model_module": "@jupyter-widgets/base",
      "model_module_version": "1.2.0",
      "model_name": "LayoutModel",
      "state": {
       "flex": "2"
      }
     },
     "8548f33cfb4c4d9fb7513fae2f005960": {
      "model_module": "@jupyter-widgets/controls",
      "model_module_version": "1.5.0",
      "model_name": "HTMLModel",
      "state": {
       "layout": "IPY_MODEL_caa8890f376147a9b500fdf2a8d302c8",
       "style": "IPY_MODEL_0887f6c1ec2d44d1bbeb9fcb7c0818e1",
       "value": " ETA: 00:00s - loss: 1.3564 - val_loss: 1.8063"
      }
     },
     "858eabcd1ac14121909393a799cf64b7": {
      "model_module": "@jupyter-widgets/base",
      "model_module_version": "1.2.0",
      "model_name": "LayoutModel",
      "state": {
       "display": "inline-flex",
       "flex_flow": "row wrap",
       "width": "100%"
      }
     },
     "868fdf41e3914be6a85a95cbe0566951": {
      "model_module": "@jupyter-widgets/base",
      "model_module_version": "1.2.0",
      "model_name": "LayoutModel",
      "state": {
       "flex": "2"
      }
     },
     "86e3307cd15d400a903576d0f8850ea8": {
      "model_module": "@jupyter-widgets/controls",
      "model_module_version": "1.5.0",
      "model_name": "ProgressStyleModel",
      "state": {
       "description_width": "initial"
      }
     },
     "8720003fb64d4f4eb76399899a3cfaf0": {
      "model_module": "@jupyter-widgets/base",
      "model_module_version": "1.2.0",
      "model_name": "LayoutModel",
      "state": {
       "display": "inline-flex",
       "flex_flow": "row wrap",
       "width": "100%"
      }
     },
     "8731ff8369684ad7af5c98975a8116cb": {
      "model_module": "@jupyter-widgets/controls",
      "model_module_version": "1.5.0",
      "model_name": "ProgressStyleModel",
      "state": {
       "description_width": "initial"
      }
     },
     "87a618ea4b4b46029dc76003b6939b39": {
      "model_module": "@jupyter-widgets/base",
      "model_module_version": "1.2.0",
      "model_name": "LayoutModel",
      "state": {
       "flex": "2"
      }
     },
     "87b86b891ea24bd79b00cb624b75bc27": {
      "model_module": "@jupyter-widgets/base",
      "model_module_version": "1.2.0",
      "model_name": "LayoutModel",
      "state": {}
     },
     "880fcbdd8e414b9da6bd14a2443909cd": {
      "model_module": "@jupyter-widgets/controls",
      "model_module_version": "1.5.0",
      "model_name": "DescriptionStyleModel",
      "state": {
       "description_width": ""
      }
     },
     "885794bb047346979bc2a4b1431e0e29": {
      "model_module": "@jupyter-widgets/base",
      "model_module_version": "1.2.0",
      "model_name": "LayoutModel",
      "state": {
       "flex": "2"
      }
     },
     "887b53457e1e4be1a0d9b363958b6bf6": {
      "model_module": "@jupyter-widgets/base",
      "model_module_version": "1.2.0",
      "model_name": "LayoutModel",
      "state": {
       "flex": "2"
      }
     },
     "88aa54a0d11046038e50c711c041990d": {
      "model_module": "@jupyter-widgets/controls",
      "model_module_version": "1.5.0",
      "model_name": "FloatProgressModel",
      "state": {
       "bar_style": "success",
       "description": "2813/2813",
       "layout": "IPY_MODEL_ab0f7697782e405c9a6047c6f54998f9",
       "max": 2813,
       "style": "IPY_MODEL_bd63c2f9570d49be834cddd2498e3b25",
       "value": 2813
      }
     },
     "88df134125da413aa4fdc06ead1f1c65": {
      "model_module": "@jupyter-widgets/controls",
      "model_module_version": "1.5.0",
      "model_name": "HBoxModel",
      "state": {
       "children": [
        "IPY_MODEL_d057be2bc50742b8a9610ad3bf7249d1",
        "IPY_MODEL_f5be3bc881a2441eb357fec8fc314d27"
       ],
       "layout": "IPY_MODEL_bf6384f3d6db4573899e4d477a53a59d"
      }
     },
     "88ec0aab12a243e28029d5f3f2cf52f7": {
      "model_module": "@jupyter-widgets/base",
      "model_module_version": "1.2.0",
      "model_name": "LayoutModel",
      "state": {}
     },
     "896eef4737ce42359f549c43347b83f4": {
      "model_module": "@jupyter-widgets/controls",
      "model_module_version": "1.5.0",
      "model_name": "ProgressStyleModel",
      "state": {
       "description_width": "initial"
      }
     },
     "89972d17210240be832892d82103f6f0": {
      "model_module": "@jupyter-widgets/base",
      "model_module_version": "1.2.0",
      "model_name": "LayoutModel",
      "state": {}
     },
     "89ceafe5e19843ba9baa9386e6e46ba6": {
      "model_module": "@jupyter-widgets/controls",
      "model_module_version": "1.5.0",
      "model_name": "HBoxModel",
      "state": {
       "children": [
        "IPY_MODEL_b2c20c10f08f428ba7e0ffa437d9e7f1",
        "IPY_MODEL_58dbb5833b5a4ae1a103388514500715"
       ],
       "layout": "IPY_MODEL_4d54068ed4594698af1073d215d58deb"
      }
     },
     "89f34eb3f0114d78a72efc0ce07c8388": {
      "model_module": "@jupyter-widgets/controls",
      "model_module_version": "1.5.0",
      "model_name": "HBoxModel",
      "state": {
       "children": [
        "IPY_MODEL_8e50e05efeb74a7689508dacfa9d984b",
        "IPY_MODEL_159f77b7051d43b5a2a739aca8350c20"
       ],
       "layout": "IPY_MODEL_01b7e291562143539c4afe601880e730"
      }
     },
     "8a31d1d11a0b41d3af8f5a338fca76dd": {
      "model_module": "@jupyter-widgets/controls",
      "model_module_version": "1.5.0",
      "model_name": "DescriptionStyleModel",
      "state": {
       "description_width": ""
      }
     },
     "8ae30c069fff4f3f9007a2033ab70197": {
      "model_module": "@jupyter-widgets/controls",
      "model_module_version": "1.5.0",
      "model_name": "HBoxModel",
      "state": {
       "children": [
        "IPY_MODEL_3f686dbafcce4fc6a7f5c4461d672e5f",
        "IPY_MODEL_fd6da93fb4584691979ee52dd3723c61"
       ],
       "layout": "IPY_MODEL_a0515e3d8c0d471d8860aad775a682f2"
      }
     },
     "8bb4ee876cc14b5694b5fce003789543": {
      "model_module": "@jupyter-widgets/base",
      "model_module_version": "1.2.0",
      "model_name": "LayoutModel",
      "state": {
       "display": "inline-flex",
       "flex_flow": "row wrap",
       "width": "100%"
      }
     },
     "8c4d7b607b3c46f4b7b1ad192001f479": {
      "model_module": "@jupyter-widgets/controls",
      "model_module_version": "1.5.0",
      "model_name": "HBoxModel",
      "state": {
       "children": [
        "IPY_MODEL_cf27b72f83de46a0812c18d1583cb7d2",
        "IPY_MODEL_a743cfeaa70440e29d5df77d836959ed"
       ],
       "layout": "IPY_MODEL_684bb70a52d24ac18c28b6d00836a9a3"
      }
     },
     "8ce2442760d24ffbac9a66d6970545ef": {
      "model_module": "@jupyter-widgets/controls",
      "model_module_version": "1.5.0",
      "model_name": "DescriptionStyleModel",
      "state": {
       "description_width": ""
      }
     },
     "8d035aa97c3f4a5ca7d921884d65a5ff": {
      "model_module": "@jupyter-widgets/base",
      "model_module_version": "1.2.0",
      "model_name": "LayoutModel",
      "state": {}
     },
     "8d384719ffdd405a8278c747950c4d46": {
      "model_module": "@jupyter-widgets/base",
      "model_module_version": "1.2.0",
      "model_name": "LayoutModel",
      "state": {}
     },
     "8d7a718828154b839a3adaf39567fa5b": {
      "model_module": "@jupyter-widgets/controls",
      "model_module_version": "1.5.0",
      "model_name": "FloatProgressModel",
      "state": {
       "bar_style": "success",
       "description": "5625/5625",
       "layout": "IPY_MODEL_1a72abbdcd5d46afb5ce08b9e1bcaf01",
       "max": 5625,
       "style": "IPY_MODEL_7a823cc955af4cbcb273169e0b51f301",
       "value": 5625
      }
     },
     "8db0c8f68bc242c28d0053182896ba68": {
      "model_module": "@jupyter-widgets/controls",
      "model_module_version": "1.5.0",
      "model_name": "ProgressStyleModel",
      "state": {
       "description_width": "initial"
      }
     },
     "8dc641d90cf3427dae444a51b8253395": {
      "model_module": "@jupyter-widgets/controls",
      "model_module_version": "1.5.0",
      "model_name": "FloatProgressModel",
      "state": {
       "bar_style": "success",
       "description": "2813/2813",
       "layout": "IPY_MODEL_695a67c3e541467c93c132068c907120",
       "max": 2813,
       "style": "IPY_MODEL_b55b69b0e9584228bcd8f2f3ecaaa5b3",
       "value": 2813
      }
     },
     "8df72057fd804cd688208d322d390d87": {
      "model_module": "@jupyter-widgets/controls",
      "model_module_version": "1.5.0",
      "model_name": "ProgressStyleModel",
      "state": {
       "description_width": "initial"
      }
     },
     "8e0d73bea69e492295a74ac8cabf4d72": {
      "model_module": "@jupyter-widgets/controls",
      "model_module_version": "1.5.0",
      "model_name": "HBoxModel",
      "state": {
       "children": [
        "IPY_MODEL_e71e9ebf70d64b638a74c6f58a270bff",
        "IPY_MODEL_78118050280c4912b3b99a6ab9885dc4"
       ],
       "layout": "IPY_MODEL_b7827b80935f44cc8992dabbe926beda"
      }
     },
     "8e38ec0a42ca45d8a3e1d73419522ec0": {
      "model_module": "@jupyter-widgets/controls",
      "model_module_version": "1.5.0",
      "model_name": "ProgressStyleModel",
      "state": {
       "description_width": "initial"
      }
     },
     "8e4bfdb54e964c5083fa7d2fed967d5f": {
      "model_module": "@jupyter-widgets/controls",
      "model_module_version": "1.5.0",
      "model_name": "ProgressStyleModel",
      "state": {
       "description_width": "initial"
      }
     },
     "8e50e05efeb74a7689508dacfa9d984b": {
      "model_module": "@jupyter-widgets/controls",
      "model_module_version": "1.5.0",
      "model_name": "FloatProgressModel",
      "state": {
       "bar_style": "success",
       "description": "2813/2813",
       "layout": "IPY_MODEL_9ecccba27b1f41989a7ab653089792df",
       "max": 2813,
       "style": "IPY_MODEL_054ad219948d474092e22bb804fd4d47",
       "value": 2813
      }
     },
     "8e941d2e629c428596d65580423ed517": {
      "model_module": "@jupyter-widgets/base",
      "model_module_version": "1.2.0",
      "model_name": "LayoutModel",
      "state": {
       "display": "inline-flex",
       "flex_flow": "row wrap",
       "width": "100%"
      }
     },
     "8f6c2ddea31f4f75bf290dde2a61c5af": {
      "model_module": "@jupyter-widgets/base",
      "model_module_version": "1.2.0",
      "model_name": "LayoutModel",
      "state": {}
     },
     "902d1175e57f46da9852b71e7d304750": {
      "model_module": "@jupyter-widgets/base",
      "model_module_version": "1.2.0",
      "model_name": "LayoutModel",
      "state": {}
     },
     "9057bad49a944c87a7edfc58d466f76e": {
      "model_module": "@jupyter-widgets/controls",
      "model_module_version": "1.5.0",
      "model_name": "HTMLModel",
      "state": {
       "layout": "IPY_MODEL_0df70b0408dd4957a274ea4c938f46be",
       "style": "IPY_MODEL_3947dca3295b41bfaad17bb2e70525a2",
       "value": " ETA: 00:00s - loss: 1.7646 - val_loss: 1.7311"
      }
     },
     "90657f569761461bb21295e8f6a163fc": {
      "model_module": "@jupyter-widgets/controls",
      "model_module_version": "1.5.0",
      "model_name": "HBoxModel",
      "state": {
       "children": [
        "IPY_MODEL_0414c58e90ef4fa0bbe21df1bebfb4f4",
        "IPY_MODEL_9582d63aa4aa4e0fad79a59deb463b2b"
       ],
       "layout": "IPY_MODEL_0b3a45b36b6e456498254637d32c61d4"
      }
     },
     "90a67ca25e7f47f4b29c0abdd52aceb2": {
      "model_module": "@jupyter-widgets/controls",
      "model_module_version": "1.5.0",
      "model_name": "HTMLModel",
      "state": {
       "layout": "IPY_MODEL_3d875ac567f44ebc881c208c41fa0cd3",
       "style": "IPY_MODEL_e1d6f1e8f62342dba077ff1802e754e1",
       "value": " ETA: 00:00s - loss: 1.7296 - val_loss: 1.8701"
      }
     },
     "90c07dd59d604c20aa81397aa8c9571c": {
      "model_module": "@jupyter-widgets/controls",
      "model_module_version": "1.5.0",
      "model_name": "HBoxModel",
      "state": {
       "children": [
        "IPY_MODEL_3027137bd77a40149f1af8c3ac669e82",
        "IPY_MODEL_d64002ac8eb540dbaa06e33e1e93351d"
       ],
       "layout": "IPY_MODEL_3e8e7da21bfc4100a9956d7a68a8a977"
      }
     },
     "910f56c3db7c44dc8feb23b6d6534ca0": {
      "model_module": "@jupyter-widgets/base",
      "model_module_version": "1.2.0",
      "model_name": "LayoutModel",
      "state": {}
     },
     "9115b3e47d024676ad0bbf5c3b3391b0": {
      "model_module": "@jupyter-widgets/controls",
      "model_module_version": "1.5.0",
      "model_name": "ProgressStyleModel",
      "state": {
       "description_width": "initial"
      }
     },
     "911bbc8c48614b0d856228ba86095aa9": {
      "model_module": "@jupyter-widgets/base",
      "model_module_version": "1.2.0",
      "model_name": "LayoutModel",
      "state": {
       "flex": "2"
      }
     },
     "91439b79831447e3816fac25fa894090": {
      "model_module": "@jupyter-widgets/base",
      "model_module_version": "1.2.0",
      "model_name": "LayoutModel",
      "state": {
       "display": "inline-flex",
       "flex_flow": "row wrap",
       "width": "100%"
      }
     },
     "9156bca3ad284f25b26b2af1571eea93": {
      "model_module": "@jupyter-widgets/controls",
      "model_module_version": "1.5.0",
      "model_name": "HTMLModel",
      "state": {
       "layout": "IPY_MODEL_27211595ba1f467eb3e37dd85d129dc8",
       "style": "IPY_MODEL_e11c5ff0a6c849b3b1b83aac9fa34b25",
       "value": " ETA: 00:00s - loss: 1.0588 - val_loss: 1.8700"
      }
     },
     "9173c905bb344f7988ee71a106092b60": {
      "model_module": "@jupyter-widgets/base",
      "model_module_version": "1.2.0",
      "model_name": "LayoutModel",
      "state": {}
     },
     "91e28613ace94b07aba93dbce114fcc6": {
      "model_module": "@jupyter-widgets/controls",
      "model_module_version": "1.5.0",
      "model_name": "FloatProgressModel",
      "state": {
       "bar_style": "success",
       "description": "5625/5625",
       "layout": "IPY_MODEL_7776d612d99d4561a9d4cdb4ae3f9129",
       "max": 5625,
       "style": "IPY_MODEL_6b08c78ed10f4f9da7e07897d9702db3",
       "value": 5625
      }
     },
     "921be2ad040e4bb19332490fb6c8a2bc": {
      "model_module": "@jupyter-widgets/base",
      "model_module_version": "1.2.0",
      "model_name": "LayoutModel",
      "state": {}
     },
     "923d787dbaa54528a2d63fc3ddf27599": {
      "model_module": "@jupyter-widgets/controls",
      "model_module_version": "1.5.0",
      "model_name": "HTMLModel",
      "state": {
       "layout": "IPY_MODEL_0fa587eb84e64b7aabe6b97fc08046ea",
       "style": "IPY_MODEL_6a12fe708ea74dadadda6656518ccfa9",
       "value": " 43/1000 ETA: 783:20:43s,  2946.75s/epochs"
      }
     },
     "9310a230e27d44028772f799d989b196": {
      "model_module": "@jupyter-widgets/base",
      "model_module_version": "1.2.0",
      "model_name": "LayoutModel",
      "state": {
       "display": "inline-flex",
       "flex_flow": "row wrap",
       "width": "100%"
      }
     },
     "9361d359ffb148babb69bb99aef7bd78": {
      "model_module": "@jupyter-widgets/controls",
      "model_module_version": "1.5.0",
      "model_name": "ProgressStyleModel",
      "state": {
       "description_width": "initial"
      }
     },
     "93cdfb51ff254c349d8cfe99fdc92331": {
      "model_module": "@jupyter-widgets/base",
      "model_module_version": "1.2.0",
      "model_name": "LayoutModel",
      "state": {
       "flex": "2"
      }
     },
     "94022ebd39cf42329bcbd10efaeb961a": {
      "model_module": "@jupyter-widgets/base",
      "model_module_version": "1.2.0",
      "model_name": "LayoutModel",
      "state": {}
     },
     "9450fb2c40ec4bcbab2efbccc898e1f5": {
      "model_module": "@jupyter-widgets/base",
      "model_module_version": "1.2.0",
      "model_name": "LayoutModel",
      "state": {}
     },
     "949565de09fb487b83dd74286b1c81bf": {
      "model_module": "@jupyter-widgets/controls",
      "model_module_version": "1.5.0",
      "model_name": "FloatProgressModel",
      "state": {
       "bar_style": "success",
       "description": "2813/2813",
       "layout": "IPY_MODEL_885794bb047346979bc2a4b1431e0e29",
       "max": 2813,
       "style": "IPY_MODEL_36a7b395b40f47f89a32fad92ab7bb17",
       "value": 2813
      }
     },
     "94d31b8aea9445e0a07c4fa00c310f55": {
      "model_module": "@jupyter-widgets/controls",
      "model_module_version": "1.5.0",
      "model_name": "ProgressStyleModel",
      "state": {
       "description_width": "initial"
      }
     },
     "957d10b62354491d9e352f32a7a8db36": {
      "model_module": "@jupyter-widgets/controls",
      "model_module_version": "1.5.0",
      "model_name": "HTMLModel",
      "state": {
       "layout": "IPY_MODEL_68402908a0604f12b061eaa7ce32d26b",
       "style": "IPY_MODEL_59dff7d9ee08499982bdcbb3bddbfbeb",
       "value": " ETA: 00:00s - loss: 1.7881 - val_loss: 1.7429"
      }
     },
     "9582d63aa4aa4e0fad79a59deb463b2b": {
      "model_module": "@jupyter-widgets/controls",
      "model_module_version": "1.5.0",
      "model_name": "HTMLModel",
      "state": {
       "layout": "IPY_MODEL_9173c905bb344f7988ee71a106092b60",
       "style": "IPY_MODEL_1255e568d75a4323a82a03b06d3dd412",
       "value": " ETA: 00:00s - loss: 1.7586 - val_loss: 1.7289"
      }
     },
     "959d1aa0a62049118a6ffdaa5de1b9b6": {
      "model_module": "@jupyter-widgets/controls",
      "model_module_version": "1.5.0",
      "model_name": "HTMLModel",
      "state": {
       "layout": "IPY_MODEL_ff49d0bd463042fd85d8b3bc3773d013",
       "style": "IPY_MODEL_d9bd02bd98c94313a20486ca5e2b1bac",
       "value": " ETA: 00:00s - loss: 1.5681 - val_loss: 1.7475"
      }
     },
     "95a007d062f14c529b029cc7bdfe0651": {
      "model_module": "@jupyter-widgets/controls",
      "model_module_version": "1.5.0",
      "model_name": "HTMLModel",
      "state": {
       "layout": "IPY_MODEL_cb15ef3667d649388497307bcc2e4e48",
       "style": "IPY_MODEL_c6dfbb74170444d6bc917ffa5df38455",
       "value": " ETA: 00:00s - loss: 1.6097 - val_loss: 1.8033"
      }
     },
     "95b72e9fe87740e49d69d652b0341df1": {
      "model_module": "@jupyter-widgets/controls",
      "model_module_version": "1.5.0",
      "model_name": "FloatProgressModel",
      "state": {
       "bar_style": "success",
       "description": "5625/5625",
       "layout": "IPY_MODEL_1b93aa88e01e42349c4bb147ccbd473a",
       "max": 5625,
       "style": "IPY_MODEL_315695f7b101462fa14b268b40719984",
       "value": 5625
      }
     },
     "9696b3b221f147b4ad762ae4b91c52e9": {
      "model_module": "@jupyter-widgets/base",
      "model_module_version": "1.2.0",
      "model_name": "LayoutModel",
      "state": {
       "display": "inline-flex",
       "flex_flow": "row wrap",
       "width": "100%"
      }
     },
     "96cf629ba3c74111afb342a1100ebdb3": {
      "model_module": "@jupyter-widgets/base",
      "model_module_version": "1.2.0",
      "model_name": "LayoutModel",
      "state": {
       "flex": "2"
      }
     },
     "96d941536e44478f95fe087ff21f6739": {
      "model_module": "@jupyter-widgets/controls",
      "model_module_version": "1.5.0",
      "model_name": "FloatProgressModel",
      "state": {
       "bar_style": "success",
       "description": "2813/2813",
       "layout": "IPY_MODEL_911bbc8c48614b0d856228ba86095aa9",
       "max": 2813,
       "style": "IPY_MODEL_1233834dff244dac91a0ff3336c7208e",
       "value": 2813
      }
     },
     "96e078c058764872a0607b7f022d0434": {
      "model_module": "@jupyter-widgets/controls",
      "model_module_version": "1.5.0",
      "model_name": "ProgressStyleModel",
      "state": {
       "description_width": "initial"
      }
     },
     "97303fe264a143698c663306aafce8d7": {
      "model_module": "@jupyter-widgets/controls",
      "model_module_version": "1.5.0",
      "model_name": "HBoxModel",
      "state": {
       "children": [
        "IPY_MODEL_8d7a718828154b839a3adaf39567fa5b",
        "IPY_MODEL_e31356765790448ca5e18d226aa4d1db"
       ],
       "layout": "IPY_MODEL_83527765122b46dcaa498bb73201790a"
      }
     },
     "990257112b6d4837885e8a4c9cd38b36": {
      "model_module": "@jupyter-widgets/base",
      "model_module_version": "1.2.0",
      "model_name": "LayoutModel",
      "state": {
       "display": "inline-flex",
       "flex_flow": "row wrap",
       "width": "100%"
      }
     },
     "9904d842af9f4bbfaa3feae9aa08869b": {
      "model_module": "@jupyter-widgets/controls",
      "model_module_version": "1.5.0",
      "model_name": "HBoxModel",
      "state": {
       "children": [
        "IPY_MODEL_7e79cf29d0d74b4f8852072c912735f8",
        "IPY_MODEL_a607ce81d81d4ff6bb63ba5d84e96b28"
       ],
       "layout": "IPY_MODEL_7fe5447d6c524a55a1ee0d24ad1d961c"
      }
     },
     "995f10fe66064c2bae787b1809ddaaf3": {
      "model_module": "@jupyter-widgets/controls",
      "model_module_version": "1.5.0",
      "model_name": "FloatProgressModel",
      "state": {
       "bar_style": "success",
       "description": "2813/2813",
       "layout": "IPY_MODEL_c536a8c4572e4874a9adbb83da265595",
       "max": 2813,
       "style": "IPY_MODEL_39ffacf25a1e42948a8db162f90398e8",
       "value": 2813
      }
     },
     "99c99a8c35fe4517b604ab4fe9e3ef30": {
      "model_module": "@jupyter-widgets/controls",
      "model_module_version": "1.5.0",
      "model_name": "HTMLModel",
      "state": {
       "layout": "IPY_MODEL_e3edd187b87e4d54a87e404873f29a49",
       "style": "IPY_MODEL_a64a1b5c935142fd945d7366ee2d7b6a",
       "value": " ETA: 00:00s - loss: 1.0961 - val_loss: 1.8573"
      }
     },
     "99e2826b013d455d9c71b9ae1f8cee24": {
      "model_module": "@jupyter-widgets/controls",
      "model_module_version": "1.5.0",
      "model_name": "ProgressStyleModel",
      "state": {
       "description_width": "initial"
      }
     },
     "9a04172e03b64aa0b54aaabe79e46980": {
      "model_module": "@jupyter-widgets/controls",
      "model_module_version": "1.5.0",
      "model_name": "HTMLModel",
      "state": {
       "layout": "IPY_MODEL_c3bd44f46d334b1090d2d6980a3cf29c",
       "style": "IPY_MODEL_bb1e916780864206a799fdf8e693bc74",
       "value": " ETA: 00:00s - loss: 1.7067 - val_loss: 1.7244"
      }
     },
     "9ac08dc309214897a582ef024311554e": {
      "model_module": "@jupyter-widgets/base",
      "model_module_version": "1.2.0",
      "model_name": "LayoutModel",
      "state": {}
     },
     "9ac8b06c98114325b3bc5882ca769d17": {
      "model_module": "@jupyter-widgets/controls",
      "model_module_version": "1.5.0",
      "model_name": "HBoxModel",
      "state": {
       "children": [
        "IPY_MODEL_2c341a143b484a43af91a702d307ed9b",
        "IPY_MODEL_aa651bf38d644f48a6a7057bd52eafb9"
       ],
       "layout": "IPY_MODEL_1a722512e9ed456aaadcbb8abcfd3349"
      }
     },
     "9ae69d1599184782a6dd8e67037fe19d": {
      "model_module": "@jupyter-widgets/controls",
      "model_module_version": "1.5.0",
      "model_name": "HBoxModel",
      "state": {
       "children": [
        "IPY_MODEL_781c158590b74e188f726cb4345a052e",
        "IPY_MODEL_46009ba45adf4bcfaa5dd2368a34f70c"
       ],
       "layout": "IPY_MODEL_54715092b28a4332b8b07691248ff873"
      }
     },
     "9b45a14749c34c9b885bc22f4689d78f": {
      "model_module": "@jupyter-widgets/controls",
      "model_module_version": "1.5.0",
      "model_name": "HTMLModel",
      "state": {
       "layout": "IPY_MODEL_921be2ad040e4bb19332490fb6c8a2bc",
       "style": "IPY_MODEL_a58d74b453b6448588e3c3e47aaefa67",
       "value": " 50/1000 ETA: 391:43:10s,  1484.41s/epochs"
      }
     },
     "9b48797ed9ce49c4839d2d0c82e3a456": {
      "model_module": "@jupyter-widgets/controls",
      "model_module_version": "1.5.0",
      "model_name": "ProgressStyleModel",
      "state": {
       "description_width": "initial"
      }
     },
     "9bb85a4a7ef24e10b52542d419b5d7a7": {
      "model_module": "@jupyter-widgets/controls",
      "model_module_version": "1.5.0",
      "model_name": "DescriptionStyleModel",
      "state": {
       "description_width": ""
      }
     },
     "9c58c87d6d674bd4ab208a176e2a8190": {
      "model_module": "@jupyter-widgets/controls",
      "model_module_version": "1.5.0",
      "model_name": "HTMLModel",
      "state": {
       "layout": "IPY_MODEL_a1816b97c8794a668119fad57b9e2a4a",
       "style": "IPY_MODEL_22d3f5e8349e4a7b9a1e842f059ebd60",
       "value": " ETA: 00:00s - loss: 1.6379 - val_loss: 1.7228"
      }
     },
     "9c88e90cb3af4f4497a5a8530085e43f": {
      "model_module": "@jupyter-widgets/controls",
      "model_module_version": "1.5.0",
      "model_name": "ProgressStyleModel",
      "state": {
       "description_width": "initial"
      }
     },
     "9d6f86e4c460476f8f5ebe8027587d64": {
      "model_module": "@jupyter-widgets/controls",
      "model_module_version": "1.5.0",
      "model_name": "HBoxModel",
      "state": {
       "children": [
        "IPY_MODEL_e7f27f5a25d640659601f7f102a1c7d2",
        "IPY_MODEL_9b45a14749c34c9b885bc22f4689d78f"
       ],
       "layout": "IPY_MODEL_69aa2770457f427f87c88ad85b9c15a0"
      }
     },
     "9d8568e942d04385bf7493213b32a900": {
      "model_module": "@jupyter-widgets/controls",
      "model_module_version": "1.5.0",
      "model_name": "HTMLModel",
      "state": {
       "layout": "IPY_MODEL_3faecb83e67c4c18ba547347ae56e3d5",
       "style": "IPY_MODEL_102c17c943ba4586acd4995ac9595630",
       "value": " ETA: 00:00s - loss: 1.1474 - val_loss: 1.8593"
      }
     },
     "9e7b86ae8823476a84ca140536126dc2": {
      "model_module": "@jupyter-widgets/controls",
      "model_module_version": "1.5.0",
      "model_name": "ProgressStyleModel",
      "state": {
       "description_width": "initial"
      }
     },
     "9e8a564d78e243f795c7b9405f40e0e0": {
      "model_module": "@jupyter-widgets/base",
      "model_module_version": "1.2.0",
      "model_name": "LayoutModel",
      "state": {
       "display": "inline-flex",
       "flex_flow": "row wrap",
       "width": "100%"
      }
     },
     "9ecccba27b1f41989a7ab653089792df": {
      "model_module": "@jupyter-widgets/base",
      "model_module_version": "1.2.0",
      "model_name": "LayoutModel",
      "state": {
       "flex": "2"
      }
     },
     "9fd199fb9c3c47288908b824c992082d": {
      "model_module": "@jupyter-widgets/controls",
      "model_module_version": "1.5.0",
      "model_name": "FloatProgressModel",
      "state": {
       "bar_style": "success",
       "description": "5625/5625",
       "layout": "IPY_MODEL_1de4ec8a4a8d41b386317ddbcc7df569",
       "max": 5625,
       "style": "IPY_MODEL_260be995365b4dd3aa6dfa46f6ca75ad",
       "value": 5625
      }
     },
     "a0515e3d8c0d471d8860aad775a682f2": {
      "model_module": "@jupyter-widgets/base",
      "model_module_version": "1.2.0",
      "model_name": "LayoutModel",
      "state": {
       "display": "inline-flex",
       "flex_flow": "row wrap",
       "width": "100%"
      }
     },
     "a063a7a0181e4999819fe94a9f7dd1be": {
      "model_module": "@jupyter-widgets/controls",
      "model_module_version": "1.5.0",
      "model_name": "HBoxModel",
      "state": {
       "children": [
        "IPY_MODEL_509dd952d8624b32829be59b53a9e3f8",
        "IPY_MODEL_4c78aab5b056490db2edcff29f0837ce"
       ],
       "layout": "IPY_MODEL_d08b6634f85e47589c8601ebcdfacc3e"
      }
     },
     "a081f6edbdcf4aea8ee1b2244e78a57b": {
      "model_module": "@jupyter-widgets/controls",
      "model_module_version": "1.5.0",
      "model_name": "HBoxModel",
      "state": {
       "children": [
        "IPY_MODEL_949565de09fb487b83dd74286b1c81bf",
        "IPY_MODEL_3e465925c90746928620f025301bc94b"
       ],
       "layout": "IPY_MODEL_5f9c9041926a4b97bf04edaf446d55fd"
      }
     },
     "a09ded7f9a9b4141ba317b97db814646": {
      "model_module": "@jupyter-widgets/base",
      "model_module_version": "1.2.0",
      "model_name": "LayoutModel",
      "state": {
       "flex": "2"
      }
     },
     "a0f12a88df2c448999e37f953a500d8a": {
      "model_module": "@jupyter-widgets/controls",
      "model_module_version": "1.5.0",
      "model_name": "HTMLModel",
      "state": {
       "layout": "IPY_MODEL_a16b2b2b69f64ca2b23ca721a1972120",
       "style": "IPY_MODEL_23ab0bb3a8c14d7fbda235bb0a60082a",
       "value": " ETA: 00:00s - loss: 1.7359 - val_loss: 1.6931"
      }
     },
     "a10201b99d804e1c8b993a6e77b86134": {
      "model_module": "@jupyter-widgets/base",
      "model_module_version": "1.2.0",
      "model_name": "LayoutModel",
      "state": {
       "flex": "2"
      }
     },
     "a10de80a2619425ab21f1fc7d93bc872": {
      "model_module": "@jupyter-widgets/controls",
      "model_module_version": "1.5.0",
      "model_name": "ProgressStyleModel",
      "state": {
       "description_width": "initial"
      }
     },
     "a16b2b2b69f64ca2b23ca721a1972120": {
      "model_module": "@jupyter-widgets/base",
      "model_module_version": "1.2.0",
      "model_name": "LayoutModel",
      "state": {}
     },
     "a17771541d1e4986aadee8b7aae7af1e": {
      "model_module": "@jupyter-widgets/base",
      "model_module_version": "1.2.0",
      "model_name": "LayoutModel",
      "state": {}
     },
     "a1816b97c8794a668119fad57b9e2a4a": {
      "model_module": "@jupyter-widgets/base",
      "model_module_version": "1.2.0",
      "model_name": "LayoutModel",
      "state": {}
     },
     "a182c2e55216483cae5f8d4e68b55dae": {
      "model_module": "@jupyter-widgets/base",
      "model_module_version": "1.2.0",
      "model_name": "LayoutModel",
      "state": {
       "display": "inline-flex",
       "flex_flow": "row wrap",
       "width": "100%"
      }
     },
     "a1acc5513e6845b9a1dc44db80c66cd6": {
      "model_module": "@jupyter-widgets/base",
      "model_module_version": "1.2.0",
      "model_name": "LayoutModel",
      "state": {
       "display": "inline-flex",
       "flex_flow": "row wrap",
       "width": "100%"
      }
     },
     "a1d235add37942f49a81971a25d8cbfe": {
      "model_module": "@jupyter-widgets/base",
      "model_module_version": "1.2.0",
      "model_name": "LayoutModel",
      "state": {
       "flex": "2"
      }
     },
     "a26b677c9b574e7eb7ab545688bc8edb": {
      "model_module": "@jupyter-widgets/controls",
      "model_module_version": "1.5.0",
      "model_name": "FloatProgressModel",
      "state": {
       "bar_style": "success",
       "description": "2813/2813",
       "layout": "IPY_MODEL_c32742a515274463a68d8a0e2bdc5381",
       "max": 2813,
       "style": "IPY_MODEL_027448b73773455dac437c68d9e50dde",
       "value": 2813
      }
     },
     "a29ba74ff4f14291b8042a3922ed1d91": {
      "model_module": "@jupyter-widgets/base",
      "model_module_version": "1.2.0",
      "model_name": "LayoutModel",
      "state": {
       "display": "inline-flex",
       "flex_flow": "row wrap",
       "width": "100%"
      }
     },
     "a29f32e034df4dbda2c3cd8d51ae2129": {
      "model_module": "@jupyter-widgets/controls",
      "model_module_version": "1.5.0",
      "model_name": "HBoxModel",
      "state": {
       "children": [
        "IPY_MODEL_fd92959d9f8248d5a5e60e62e4ea5dca",
        "IPY_MODEL_7e588a43e4d941a9bba5aa6054ecb71f"
       ],
       "layout": "IPY_MODEL_10af24339b864dfc8902bdf0d7a56ad4"
      }
     },
     "a2c9df46ff3a46c78cb135e9db9c334a": {
      "model_module": "@jupyter-widgets/controls",
      "model_module_version": "1.5.0",
      "model_name": "ProgressStyleModel",
      "state": {
       "description_width": "initial"
      }
     },
     "a31aeb46b5264f3185fead318d644ac9": {
      "model_module": "@jupyter-widgets/base",
      "model_module_version": "1.2.0",
      "model_name": "LayoutModel",
      "state": {
       "display": "inline-flex",
       "flex_flow": "row wrap",
       "width": "100%"
      }
     },
     "a3a58916309c405980f3e220d173649b": {
      "model_module": "@jupyter-widgets/base",
      "model_module_version": "1.2.0",
      "model_name": "LayoutModel",
      "state": {
       "flex": "2"
      }
     },
     "a404ef3bf88f449f971133dc1c06c725": {
      "model_module": "@jupyter-widgets/controls",
      "model_module_version": "1.5.0",
      "model_name": "HBoxModel",
      "state": {
       "children": [
        "IPY_MODEL_69c75b7a5d7047dc81cf2c902d30ba58",
        "IPY_MODEL_fcb39d7975d7442cbeaaf8801ca20c57"
       ],
       "layout": "IPY_MODEL_7dee42b1ec0f4537b19d4e6c4a893650"
      }
     },
     "a40c3cb35f6247219aa114dd78a7b2cc": {
      "model_module": "@jupyter-widgets/controls",
      "model_module_version": "1.5.0",
      "model_name": "DescriptionStyleModel",
      "state": {
       "description_width": ""
      }
     },
     "a427277b9b3f41fead764844fab3b8b3": {
      "model_module": "@jupyter-widgets/controls",
      "model_module_version": "1.5.0",
      "model_name": "FloatProgressModel",
      "state": {
       "bar_style": "success",
       "description": "2813/2813",
       "layout": "IPY_MODEL_5cec5fd885c74b0fac92cf9c1cc6320b",
       "max": 2813,
       "style": "IPY_MODEL_9115b3e47d024676ad0bbf5c3b3391b0",
       "value": 2813
      }
     },
     "a4391b1907214cde92832ee563783ae2": {
      "model_module": "@jupyter-widgets/base",
      "model_module_version": "1.2.0",
      "model_name": "LayoutModel",
      "state": {
       "flex": "2"
      }
     },
     "a4f88a67b70b4072b0f17910b45a8f3e": {
      "model_module": "@jupyter-widgets/base",
      "model_module_version": "1.2.0",
      "model_name": "LayoutModel",
      "state": {}
     },
     "a58d74b453b6448588e3c3e47aaefa67": {
      "model_module": "@jupyter-widgets/controls",
      "model_module_version": "1.5.0",
      "model_name": "DescriptionStyleModel",
      "state": {
       "description_width": ""
      }
     },
     "a5c706384ec54ba8b41daed4d0f790b3": {
      "model_module": "@jupyter-widgets/controls",
      "model_module_version": "1.5.0",
      "model_name": "DescriptionStyleModel",
      "state": {
       "description_width": ""
      }
     },
     "a60629601ae34aa9b26d90ac2e933bf3": {
      "model_module": "@jupyter-widgets/controls",
      "model_module_version": "1.5.0",
      "model_name": "FloatProgressModel",
      "state": {
       "bar_style": "success",
       "description": "5625/5625",
       "layout": "IPY_MODEL_6475b55c3f484f53b5b2ca6f7b057ad6",
       "max": 5625,
       "style": "IPY_MODEL_70154cace6ac4f0ab6484c6a9f7e3494",
       "value": 5625
      }
     },
     "a607ce81d81d4ff6bb63ba5d84e96b28": {
      "model_module": "@jupyter-widgets/controls",
      "model_module_version": "1.5.0",
      "model_name": "HTMLModel",
      "state": {
       "layout": "IPY_MODEL_0d03def5a20c4d8a8e9df77d9e6b2845",
       "style": "IPY_MODEL_185cf1ab64f14361a3072b1851e867b3",
       "value": " ETA: 00:00s - loss: 2.2151 - val_loss: 2.1936"
      }
     },
     "a64a1b5c935142fd945d7366ee2d7b6a": {
      "model_module": "@jupyter-widgets/controls",
      "model_module_version": "1.5.0",
      "model_name": "DescriptionStyleModel",
      "state": {
       "description_width": ""
      }
     },
     "a66a601e410c4f45b9caa48d7d407c3d": {
      "model_module": "@jupyter-widgets/controls",
      "model_module_version": "1.5.0",
      "model_name": "ProgressStyleModel",
      "state": {
       "description_width": "initial"
      }
     },
     "a6d4a3e6b1df4907b71debae1cba8efd": {
      "model_module": "@jupyter-widgets/controls",
      "model_module_version": "1.5.0",
      "model_name": "HTMLModel",
      "state": {
       "layout": "IPY_MODEL_541c9c92b67c4944ad6734c1c306d0b2",
       "style": "IPY_MODEL_a40c3cb35f6247219aa114dd78a7b2cc",
       "value": " ETA: 00:00s - loss: 1.5114 - val_loss: 1.7619"
      }
     },
     "a743cfeaa70440e29d5df77d836959ed": {
      "model_module": "@jupyter-widgets/controls",
      "model_module_version": "1.5.0",
      "model_name": "HTMLModel",
      "state": {
       "layout": "IPY_MODEL_9450fb2c40ec4bcbab2efbccc898e1f5",
       "style": "IPY_MODEL_0c012dacb9e44da18c670ac05d8c4ba6",
       "value": " ETA: 00:00s - loss: 1.6191 - val_loss: 1.6938"
      }
     },
     "a7825d31e4d74e329436e6dc2354508b": {
      "model_module": "@jupyter-widgets/controls",
      "model_module_version": "1.5.0",
      "model_name": "ProgressStyleModel",
      "state": {
       "description_width": "initial"
      }
     },
     "a7c775a448cb42038fc022366f3256ec": {
      "model_module": "@jupyter-widgets/controls",
      "model_module_version": "1.5.0",
      "model_name": "FloatProgressModel",
      "state": {
       "bar_style": "success",
       "description": "5625/5625",
       "layout": "IPY_MODEL_d2ecf428b0b449e181ca3a487047eabe",
       "max": 5625,
       "style": "IPY_MODEL_0ec7391d8d554c15b6af49c090349033",
       "value": 5625
      }
     },
     "a91a0e94851545399d519c0c1d86d42e": {
      "model_module": "@jupyter-widgets/controls",
      "model_module_version": "1.5.0",
      "model_name": "FloatProgressModel",
      "state": {
       "bar_style": "success",
       "description": "5625/5625",
       "layout": "IPY_MODEL_045a1a4a3e6846a99008d5377afb6971",
       "max": 5625,
       "style": "IPY_MODEL_5141452376e34080a3e441b0cb974851",
       "value": 5625
      }
     },
     "a92040186a9b4d8c847f34d68ccd8294": {
      "model_module": "@jupyter-widgets/controls",
      "model_module_version": "1.5.0",
      "model_name": "DescriptionStyleModel",
      "state": {
       "description_width": ""
      }
     },
     "a936e1924fa14ea193acb4c5db5b27bf": {
      "model_module": "@jupyter-widgets/base",
      "model_module_version": "1.2.0",
      "model_name": "LayoutModel",
      "state": {}
     },
     "a9b4c9c698eb4f36a0c181b0c2c0573c": {
      "model_module": "@jupyter-widgets/controls",
      "model_module_version": "1.5.0",
      "model_name": "HTMLModel",
      "state": {
       "layout": "IPY_MODEL_f382d3f17b7a421da33f1f408a6f3d64",
       "style": "IPY_MODEL_8039bae76f1d4df2bffa84b270e438a4",
       "value": " ETA: 00:00s - loss: 1.0859 - val_loss: 1.8469"
      }
     },
     "a9e3c75d30a84d7180a8e31b81247937": {
      "model_module": "@jupyter-widgets/base",
      "model_module_version": "1.2.0",
      "model_name": "LayoutModel",
      "state": {}
     },
     "aa03825e8eca4bd6bf0dd5626c25fffe": {
      "model_module": "@jupyter-widgets/base",
      "model_module_version": "1.2.0",
      "model_name": "LayoutModel",
      "state": {
       "flex": "2"
      }
     },
     "aa1481c88d424e1fa1aa0daed9a5c10c": {
      "model_module": "@jupyter-widgets/controls",
      "model_module_version": "1.5.0",
      "model_name": "HBoxModel",
      "state": {
       "children": [
        "IPY_MODEL_70a49e60507c4ebdb2b9d38209ab4143",
        "IPY_MODEL_e6df894c4a274f07a9275a79f9d33097"
       ],
       "layout": "IPY_MODEL_16ed3756e39b483986652e9eae8a6225"
      }
     },
     "aa23d7ecfa534a23a6e67d4bfc4fa0c7": {
      "model_module": "@jupyter-widgets/controls",
      "model_module_version": "1.5.0",
      "model_name": "HTMLModel",
      "state": {
       "layout": "IPY_MODEL_ddb5b412b4504148995640003c0e8c7d",
       "style": "IPY_MODEL_83ec8aba3c5a424a9a397fee916eb3d2",
       "value": " ETA: 00:00s - loss: 2.5289 - val_loss: 2.3825"
      }
     },
     "aa352e06ad654913957279fc688db0fa": {
      "model_module": "@jupyter-widgets/base",
      "model_module_version": "1.2.0",
      "model_name": "LayoutModel",
      "state": {
       "display": "inline-flex",
       "flex_flow": "row wrap",
       "width": "100%"
      }
     },
     "aa651bf38d644f48a6a7057bd52eafb9": {
      "model_module": "@jupyter-widgets/controls",
      "model_module_version": "1.5.0",
      "model_name": "HTMLModel",
      "state": {
       "layout": "IPY_MODEL_594a92dccefa4fe793970eddf1790726",
       "style": "IPY_MODEL_2d6294cdec834b04baab91ba1543bbfd",
       "value": " ETA: 00:00s - loss: 1.2876 - val_loss: 1.7974"
      }
     },
     "aa6b86634d5448b5a6eb42e00ddd7106": {
      "model_module": "@jupyter-widgets/base",
      "model_module_version": "1.2.0",
      "model_name": "LayoutModel",
      "state": {}
     },
     "ab0f7697782e405c9a6047c6f54998f9": {
      "model_module": "@jupyter-widgets/base",
      "model_module_version": "1.2.0",
      "model_name": "LayoutModel",
      "state": {
       "flex": "2"
      }
     },
     "ab23ba515dfa4b188e067c9a3a207197": {
      "model_module": "@jupyter-widgets/controls",
      "model_module_version": "1.5.0",
      "model_name": "ProgressStyleModel",
      "state": {
       "description_width": "initial"
      }
     },
     "ab96ae50b31841d78052e3c49a6cd16b": {
      "model_module": "@jupyter-widgets/base",
      "model_module_version": "1.2.0",
      "model_name": "LayoutModel",
      "state": {
       "display": "inline-flex",
       "flex_flow": "row wrap",
       "width": "100%"
      }
     },
     "abacf547eab44bce9c73f131411d7dee": {
      "model_module": "@jupyter-widgets/controls",
      "model_module_version": "1.5.0",
      "model_name": "DescriptionStyleModel",
      "state": {
       "description_width": ""
      }
     },
     "abed8a3528d944519f26f66ee9cf95c9": {
      "model_module": "@jupyter-widgets/base",
      "model_module_version": "1.2.0",
      "model_name": "LayoutModel",
      "state": {}
     },
     "ac09eb50c9984c618cdbc18df773313b": {
      "model_module": "@jupyter-widgets/controls",
      "model_module_version": "1.5.0",
      "model_name": "DescriptionStyleModel",
      "state": {
       "description_width": ""
      }
     },
     "acf7909d1c5442bc93851fa6f4bfaabc": {
      "model_module": "@jupyter-widgets/controls",
      "model_module_version": "1.5.0",
      "model_name": "FloatProgressModel",
      "state": {
       "bar_style": "success",
       "description": "5625/5625",
       "layout": "IPY_MODEL_65426dd5a3384a948993f650f031569e",
       "max": 5625,
       "style": "IPY_MODEL_757cdc93795546449f1407384a5480fc",
       "value": 5625
      }
     },
     "adb90b400bf346d0bfe09b6b3c52c0c1": {
      "model_module": "@jupyter-widgets/controls",
      "model_module_version": "1.5.0",
      "model_name": "HBoxModel",
      "state": {
       "children": [
        "IPY_MODEL_a427277b9b3f41fead764844fab3b8b3",
        "IPY_MODEL_0b7d90068c6141d39007b6cf6a290437"
       ],
       "layout": "IPY_MODEL_e3b5c5c06a044b85ab9b5bb3b14909da"
      }
     },
     "adc2d029131341b7ab0908901854acee": {
      "model_module": "@jupyter-widgets/controls",
      "model_module_version": "1.5.0",
      "model_name": "DescriptionStyleModel",
      "state": {
       "description_width": ""
      }
     },
     "af1ac3a610c647bca370611d8cb27088": {
      "model_module": "@jupyter-widgets/controls",
      "model_module_version": "1.5.0",
      "model_name": "DescriptionStyleModel",
      "state": {
       "description_width": ""
      }
     },
     "af84a76438b8471290706d2143a5d84a": {
      "model_module": "@jupyter-widgets/controls",
      "model_module_version": "1.5.0",
      "model_name": "DescriptionStyleModel",
      "state": {
       "description_width": ""
      }
     },
     "af97ab5a40274bb58186340de9bbe8b5": {
      "model_module": "@jupyter-widgets/controls",
      "model_module_version": "1.5.0",
      "model_name": "HBoxModel",
      "state": {
       "children": [
        "IPY_MODEL_bbd4ed2d441a47cd8123f3d7af4e1be9",
        "IPY_MODEL_7c858dbf4c7b4970b93d904a74464bef"
       ],
       "layout": "IPY_MODEL_30d93eacd4ae42c49ed29a86fceea3ee"
      }
     },
     "afa67786b31b4339b0b298e7aefc29ea": {
      "model_module": "@jupyter-widgets/base",
      "model_module_version": "1.2.0",
      "model_name": "LayoutModel",
      "state": {}
     },
     "b062c9d4665746069be2922e032e61fb": {
      "model_module": "@jupyter-widgets/base",
      "model_module_version": "1.2.0",
      "model_name": "LayoutModel",
      "state": {}
     },
     "b06da43b2b8548c8930073f2c35a4898": {
      "model_module": "@jupyter-widgets/controls",
      "model_module_version": "1.5.0",
      "model_name": "ProgressStyleModel",
      "state": {
       "description_width": "initial"
      }
     },
     "b0b52c8438094932b2a0b05023f92835": {
      "model_module": "@jupyter-widgets/controls",
      "model_module_version": "1.5.0",
      "model_name": "HTMLModel",
      "state": {
       "layout": "IPY_MODEL_abed8a3528d944519f26f66ee9cf95c9",
       "style": "IPY_MODEL_72e67295ebb044af8118dc64f612110c",
       "value": " ETA: 00:00s - loss: 1.6738 - val_loss: 1.7014"
      }
     },
     "b1199744a2084fd7a559eab368adff2f": {
      "model_module": "@jupyter-widgets/controls",
      "model_module_version": "1.5.0",
      "model_name": "FloatProgressModel",
      "state": {
       "bar_style": "success",
       "description": "5625/5625",
       "layout": "IPY_MODEL_51ccf73aba91447ab1739613d2da4956",
       "max": 5625,
       "style": "IPY_MODEL_b06da43b2b8548c8930073f2c35a4898",
       "value": 5625
      }
     },
     "b130d3eb75fa483999711dea5b5d69df": {
      "model_module": "@jupyter-widgets/base",
      "model_module_version": "1.2.0",
      "model_name": "LayoutModel",
      "state": {
       "flex": "2"
      }
     },
     "b21b0cb8d58841058c5fd6dbcbf44cc8": {
      "model_module": "@jupyter-widgets/controls",
      "model_module_version": "1.5.0",
      "model_name": "FloatProgressModel",
      "state": {
       "bar_style": "success",
       "description": "2813/2813",
       "layout": "IPY_MODEL_fb1b0aefb9204629bdf03f25a76a2e9e",
       "max": 2813,
       "style": "IPY_MODEL_23971862c05d480c8bfb160f7ed98c92",
       "value": 2813
      }
     },
     "b2c20c10f08f428ba7e0ffa437d9e7f1": {
      "model_module": "@jupyter-widgets/controls",
      "model_module_version": "1.5.0",
      "model_name": "FloatProgressModel",
      "state": {
       "bar_style": "success",
       "description": "2813/2813",
       "layout": "IPY_MODEL_c8b34dfcd89d4182b592fe503baacf98",
       "max": 2813,
       "style": "IPY_MODEL_8e4bfdb54e964c5083fa7d2fed967d5f",
       "value": 2813
      }
     },
     "b2e2b6a9c0134994b3be042ea7a88d79": {
      "model_module": "@jupyter-widgets/controls",
      "model_module_version": "1.5.0",
      "model_name": "HTMLModel",
      "state": {
       "layout": "IPY_MODEL_bbecf96f46184ebe9180abaca1444344",
       "style": "IPY_MODEL_8a31d1d11a0b41d3af8f5a338fca76dd",
       "value": " ETA: 00:00s - loss: 1.6608 - val_loss: 1.6911"
      }
     },
     "b2efbaac8dae4e90b8bf8535e1c35f86": {
      "model_module": "@jupyter-widgets/controls",
      "model_module_version": "1.5.0",
      "model_name": "DescriptionStyleModel",
      "state": {
       "description_width": ""
      }
     },
     "b30dd29db9264771bade8feb9c682b55": {
      "model_module": "@jupyter-widgets/base",
      "model_module_version": "1.2.0",
      "model_name": "LayoutModel",
      "state": {
       "display": "inline-flex",
       "flex_flow": "row wrap",
       "width": "100%"
      }
     },
     "b344e7edd2234f1faf75cfe597435ebc": {
      "model_module": "@jupyter-widgets/controls",
      "model_module_version": "1.5.0",
      "model_name": "HBoxModel",
      "state": {
       "children": [
        "IPY_MODEL_3c272d40d0764c4a8d6f91c65a7f7057",
        "IPY_MODEL_82ef62544a6b4bbdb36646f7c87453dc"
       ],
       "layout": "IPY_MODEL_1c83cb8df2e3475390ad177fcd8c1a37"
      }
     },
     "b389a437ea764037b29d6eb7380435f5": {
      "model_module": "@jupyter-widgets/controls",
      "model_module_version": "1.5.0",
      "model_name": "HBoxModel",
      "state": {
       "children": [
        "IPY_MODEL_b69572e7ec7d41d1a557ae77dfdd7aba",
        "IPY_MODEL_3110d08469e54cadb7def7d42344186e"
       ],
       "layout": "IPY_MODEL_c5683ac30e924d9d891a317e5100cf67"
      }
     },
     "b3e978a81d654753b9819dee250bf69d": {
      "model_module": "@jupyter-widgets/base",
      "model_module_version": "1.2.0",
      "model_name": "LayoutModel",
      "state": {}
     },
     "b435c774daad44929bb7955f76caf766": {
      "model_module": "@jupyter-widgets/controls",
      "model_module_version": "1.5.0",
      "model_name": "HBoxModel",
      "state": {
       "children": [
        "IPY_MODEL_0880330362004756813b951faa6a133d",
        "IPY_MODEL_6d783d2319294ec794b63eda98c82bfb"
       ],
       "layout": "IPY_MODEL_7df114cfaf6f48f5bd451c8ed2c3c970"
      }
     },
     "b45f1bd4cd9c48088a3ae607cbdd1631": {
      "model_module": "@jupyter-widgets/base",
      "model_module_version": "1.2.0",
      "model_name": "LayoutModel",
      "state": {}
     },
     "b46952ddc54544e4bd2a2c94f7bc8e2e": {
      "model_module": "@jupyter-widgets/base",
      "model_module_version": "1.2.0",
      "model_name": "LayoutModel",
      "state": {
       "flex": "2"
      }
     },
     "b46cfe7d8c89472dad426a44d670b9c3": {
      "model_module": "@jupyter-widgets/controls",
      "model_module_version": "1.5.0",
      "model_name": "HBoxModel",
      "state": {
       "children": [
        "IPY_MODEL_c8349be8ed2c4f5ba6ddec30bc49adf5",
        "IPY_MODEL_f506eeab371e49c7a127442d692f6bd1"
       ],
       "layout": "IPY_MODEL_ce6041db606a4b34af8d9c8ce524266e"
      }
     },
     "b49195cb5a5b4a3eb2fc7196d1236abd": {
      "model_module": "@jupyter-widgets/base",
      "model_module_version": "1.2.0",
      "model_name": "LayoutModel",
      "state": {
       "display": "inline-flex",
       "flex_flow": "row wrap",
       "width": "100%"
      }
     },
     "b505026e946e4a048a066f8905a2651b": {
      "model_module": "@jupyter-widgets/base",
      "model_module_version": "1.2.0",
      "model_name": "LayoutModel",
      "state": {
       "flex": "2"
      }
     },
     "b55b69b0e9584228bcd8f2f3ecaaa5b3": {
      "model_module": "@jupyter-widgets/controls",
      "model_module_version": "1.5.0",
      "model_name": "ProgressStyleModel",
      "state": {
       "description_width": "initial"
      }
     },
     "b5b1737342454abea70c469632af31ac": {
      "model_module": "@jupyter-widgets/base",
      "model_module_version": "1.2.0",
      "model_name": "LayoutModel",
      "state": {}
     },
     "b6007377d0ba4126a40e23acd6c29476": {
      "model_module": "@jupyter-widgets/controls",
      "model_module_version": "1.5.0",
      "model_name": "FloatProgressModel",
      "state": {
       "bar_style": "success",
       "description": "5625/5625",
       "layout": "IPY_MODEL_bdf3d3f1bf2f4c29af901bb926a74936",
       "max": 5625,
       "style": "IPY_MODEL_ce6c394010664a28b47a5348f09855ce",
       "value": 5625
      }
     },
     "b62bc8ee404049d8b8c9e651e01eee67": {
      "model_module": "@jupyter-widgets/base",
      "model_module_version": "1.2.0",
      "model_name": "LayoutModel",
      "state": {
       "display": "inline-flex",
       "flex_flow": "row wrap",
       "width": "100%"
      }
     },
     "b675e8ac272841acbaffe647e00d02ec": {
      "model_module": "@jupyter-widgets/controls",
      "model_module_version": "1.5.0",
      "model_name": "HTMLModel",
      "state": {
       "layout": "IPY_MODEL_068caed0497747cd9addb6b7cd922cff",
       "style": "IPY_MODEL_0a14b25aeabf4c3abd4fe3ef164de3be",
       "value": " ETA: 00:00s - loss: 1.5455 - val_loss: 1.7743"
      }
     },
     "b69572e7ec7d41d1a557ae77dfdd7aba": {
      "model_module": "@jupyter-widgets/controls",
      "model_module_version": "1.5.0",
      "model_name": "FloatProgressModel",
      "state": {
       "bar_style": "success",
       "description": "5625/5625",
       "layout": "IPY_MODEL_96cf629ba3c74111afb342a1100ebdb3",
       "max": 5625,
       "style": "IPY_MODEL_99e2826b013d455d9c71b9ae1f8cee24",
       "value": 5625
      }
     },
     "b6b481e7e52c47c686def2c74e82d9ba": {
      "model_module": "@jupyter-widgets/controls",
      "model_module_version": "1.5.0",
      "model_name": "ProgressStyleModel",
      "state": {
       "description_width": "initial"
      }
     },
     "b7827b80935f44cc8992dabbe926beda": {
      "model_module": "@jupyter-widgets/base",
      "model_module_version": "1.2.0",
      "model_name": "LayoutModel",
      "state": {
       "display": "inline-flex",
       "flex_flow": "row wrap",
       "width": "100%"
      }
     },
     "b7d9a22dfe8d4eb1acee6c399fa33db1": {
      "model_module": "@jupyter-widgets/controls",
      "model_module_version": "1.5.0",
      "model_name": "FloatProgressModel",
      "state": {
       "bar_style": "success",
       "description": "2813/2813",
       "layout": "IPY_MODEL_bd3e976b4a214eaeaabd4ddc1ddccd62",
       "max": 2813,
       "style": "IPY_MODEL_c24b1dd7a9d2411cab7c320ab8be8ea2",
       "value": 2813
      }
     },
     "b8422af5e02b4d848b4e042be5c6fc85": {
      "model_module": "@jupyter-widgets/controls",
      "model_module_version": "1.5.0",
      "model_name": "HTMLModel",
      "state": {
       "layout": "IPY_MODEL_1c0f235d7f9c460bbddd75f42aa642b3",
       "style": "IPY_MODEL_a92040186a9b4d8c847f34d68ccd8294",
       "value": " ETA: 00:00s - loss: 5.1383 - val_loss: 2.9599"
      }
     },
     "b87b3654fb80490089bb2b6e4db03d52": {
      "model_module": "@jupyter-widgets/controls",
      "model_module_version": "1.5.0",
      "model_name": "DescriptionStyleModel",
      "state": {
       "description_width": ""
      }
     },
     "b8b37a675c354402a7e802efd801063e": {
      "model_module": "@jupyter-widgets/controls",
      "model_module_version": "1.5.0",
      "model_name": "FloatProgressModel",
      "state": {
       "bar_style": "success",
       "description": "2813/2813",
       "layout": "IPY_MODEL_a09ded7f9a9b4141ba317b97db814646",
       "max": 2813,
       "style": "IPY_MODEL_13775a647ebc48508bd5d83cbc518a80",
       "value": 2813
      }
     },
     "b913a951a9c64676b8a767a8b4c58fea": {
      "model_module": "@jupyter-widgets/base",
      "model_module_version": "1.2.0",
      "model_name": "LayoutModel",
      "state": {
       "display": "inline-flex",
       "flex_flow": "row wrap",
       "width": "100%"
      }
     },
     "b91409bf405a4eaeae011ffad4006440": {
      "model_module": "@jupyter-widgets/controls",
      "model_module_version": "1.5.0",
      "model_name": "HTMLModel",
      "state": {
       "layout": "IPY_MODEL_d02c40aeccc74c1e87dfa752c9cd4c4b",
       "style": "IPY_MODEL_eb4cc36adf1447f4a2dccab71d1f5477",
       "value": " ETA: 00:00s - loss: 1.1874 - val_loss: 1.8477"
      }
     },
     "b970b8813662404b9cc511d3a2d9827b": {
      "model_module": "@jupyter-widgets/base",
      "model_module_version": "1.2.0",
      "model_name": "LayoutModel",
      "state": {
       "display": "inline-flex",
       "flex_flow": "row wrap",
       "width": "100%"
      }
     },
     "b9793370738c448292820726e1438437": {
      "model_module": "@jupyter-widgets/controls",
      "model_module_version": "1.5.0",
      "model_name": "HTMLModel",
      "state": {
       "layout": "IPY_MODEL_2781535a7c4a43a482b72f3ff87788e1",
       "style": "IPY_MODEL_fd400fa475c54aa9aae0947962391850",
       "value": " ETA: 00:00s - loss: 1.7106 - val_loss: 1.7264"
      }
     },
     "b9d2507de04f4f3c883462d9b018fdef": {
      "model_module": "@jupyter-widgets/base",
      "model_module_version": "1.2.0",
      "model_name": "LayoutModel",
      "state": {}
     },
     "b9de6c3224bb45f7b31640574a8e1205": {
      "model_module": "@jupyter-widgets/controls",
      "model_module_version": "1.5.0",
      "model_name": "DescriptionStyleModel",
      "state": {
       "description_width": ""
      }
     },
     "bae7275a30ba416fbc244443dd5028ba": {
      "model_module": "@jupyter-widgets/controls",
      "model_module_version": "1.5.0",
      "model_name": "ProgressStyleModel",
      "state": {
       "description_width": "initial"
      }
     },
     "bb1e916780864206a799fdf8e693bc74": {
      "model_module": "@jupyter-widgets/controls",
      "model_module_version": "1.5.0",
      "model_name": "DescriptionStyleModel",
      "state": {
       "description_width": ""
      }
     },
     "bb34f7a1945847ef96a849cefad2deef": {
      "model_module": "@jupyter-widgets/controls",
      "model_module_version": "1.5.0",
      "model_name": "HBoxModel",
      "state": {
       "children": [
        "IPY_MODEL_01aa1181b7544f23848ee564103f5efc",
        "IPY_MODEL_6962f6d8f5134c368f9cddac6c2b72cb"
       ],
       "layout": "IPY_MODEL_4555fd2b1f014d88a971ed4009a38826"
      }
     },
     "bb6e82a510a0466e9e59212a56241bb1": {
      "model_module": "@jupyter-widgets/controls",
      "model_module_version": "1.5.0",
      "model_name": "HBoxModel",
      "state": {
       "children": [
        "IPY_MODEL_bfbae88c99f84c6e96303ccfb1cbd86c",
        "IPY_MODEL_e7b2ea66707741879d202583dfadf2da"
       ],
       "layout": "IPY_MODEL_46fdc09dc1904127bd8099ca4a379c4b"
      }
     },
     "bb880f8b9ea7464d81fc59d7b8f8c26d": {
      "model_module": "@jupyter-widgets/base",
      "model_module_version": "1.2.0",
      "model_name": "LayoutModel",
      "state": {}
     },
     "bbd4ed2d441a47cd8123f3d7af4e1be9": {
      "model_module": "@jupyter-widgets/controls",
      "model_module_version": "1.5.0",
      "model_name": "FloatProgressModel",
      "state": {
       "bar_style": "success",
       "description": "2813/2813",
       "layout": "IPY_MODEL_0595093fdb2a4f6da4bda483160e4b2c",
       "max": 2813,
       "style": "IPY_MODEL_372fde0e1c6e4c1fa748a49446cec8e6",
       "value": 2813
      }
     },
     "bbecf96f46184ebe9180abaca1444344": {
      "model_module": "@jupyter-widgets/base",
      "model_module_version": "1.2.0",
      "model_name": "LayoutModel",
      "state": {}
     },
     "bc0c4f6fab0342ae8a8a63db9fe941f1": {
      "model_module": "@jupyter-widgets/controls",
      "model_module_version": "1.5.0",
      "model_name": "FloatProgressModel",
      "state": {
       "bar_style": "success",
       "description": "5625/5625",
       "layout": "IPY_MODEL_75494883231749b5a340777377008b2e",
       "max": 5625,
       "style": "IPY_MODEL_1b848f99a1c24a45ade9aeef7914bc18",
       "value": 5625
      }
     },
     "bc8b3a4076c44bebb645d414f624f8b2": {
      "model_module": "@jupyter-widgets/controls",
      "model_module_version": "1.5.0",
      "model_name": "ProgressStyleModel",
      "state": {
       "description_width": "initial"
      }
     },
     "bd3e976b4a214eaeaabd4ddc1ddccd62": {
      "model_module": "@jupyter-widgets/base",
      "model_module_version": "1.2.0",
      "model_name": "LayoutModel",
      "state": {
       "flex": "2"
      }
     },
     "bd63c2f9570d49be834cddd2498e3b25": {
      "model_module": "@jupyter-widgets/controls",
      "model_module_version": "1.5.0",
      "model_name": "ProgressStyleModel",
      "state": {
       "description_width": "initial"
      }
     },
     "bd9f3cea22304d3c9b586d70ada8213b": {
      "model_module": "@jupyter-widgets/base",
      "model_module_version": "1.2.0",
      "model_name": "LayoutModel",
      "state": {}
     },
     "bde1d3753ef0497ca3a30fd79f4163ad": {
      "model_module": "@jupyter-widgets/controls",
      "model_module_version": "1.5.0",
      "model_name": "HBoxModel",
      "state": {
       "children": [
        "IPY_MODEL_2e66ce3345404538b71caeb44c7b1b90",
        "IPY_MODEL_b0b52c8438094932b2a0b05023f92835"
       ],
       "layout": "IPY_MODEL_9310a230e27d44028772f799d989b196"
      }
     },
     "bdf3d3f1bf2f4c29af901bb926a74936": {
      "model_module": "@jupyter-widgets/base",
      "model_module_version": "1.2.0",
      "model_name": "LayoutModel",
      "state": {
       "flex": "2"
      }
     },
     "be540ecb8a21427abe67674bc0d141ca": {
      "model_module": "@jupyter-widgets/base",
      "model_module_version": "1.2.0",
      "model_name": "LayoutModel",
      "state": {}
     },
     "bef4100fb37f402082e3ca041f67cd6b": {
      "model_module": "@jupyter-widgets/controls",
      "model_module_version": "1.5.0",
      "model_name": "FloatProgressModel",
      "state": {
       "bar_style": "success",
       "description": "5625/5625",
       "layout": "IPY_MODEL_b46952ddc54544e4bd2a2c94f7bc8e2e",
       "max": 5625,
       "style": "IPY_MODEL_dfd62faf36434668aa7dbaa2c86b68ec",
       "value": 5625
      }
     },
     "bf6384f3d6db4573899e4d477a53a59d": {
      "model_module": "@jupyter-widgets/base",
      "model_module_version": "1.2.0",
      "model_name": "LayoutModel",
      "state": {
       "display": "inline-flex",
       "flex_flow": "row wrap",
       "width": "100%"
      }
     },
     "bfbae88c99f84c6e96303ccfb1cbd86c": {
      "model_module": "@jupyter-widgets/controls",
      "model_module_version": "1.5.0",
      "model_name": "FloatProgressModel",
      "state": {
       "bar_style": "success",
       "description": "5625/5625",
       "layout": "IPY_MODEL_5c630c8e550444b09f817b0193268fd1",
       "max": 5625,
       "style": "IPY_MODEL_c12b59238dac47f9a2681efb6ddd0aed",
       "value": 5625
      }
     },
     "bfc6ae2b36fa41d6b4c3228c5cab5acf": {
      "model_module": "@jupyter-widgets/controls",
      "model_module_version": "1.5.0",
      "model_name": "HBoxModel",
      "state": {
       "children": [
        "IPY_MODEL_11b10c5ce20a4ce1a8f453f335775d6f",
        "IPY_MODEL_6f98b6382c3247c0827eb5a4060d6d58"
       ],
       "layout": "IPY_MODEL_543412a9c47b400892c23eccc698b3b1"
      }
     },
     "bfdc690224dc46e4a34e5e0f208fd6a0": {
      "model_module": "@jupyter-widgets/controls",
      "model_module_version": "1.5.0",
      "model_name": "ProgressStyleModel",
      "state": {
       "description_width": "initial"
      }
     },
     "bfe0578d3d174551b2dfea6b7822ced3": {
      "model_module": "@jupyter-widgets/controls",
      "model_module_version": "1.5.0",
      "model_name": "HBoxModel",
      "state": {
       "children": [
        "IPY_MODEL_841233d496cc43f69860a213992aa8e5",
        "IPY_MODEL_1b43f110b7eb4b9dbd5460f33af6fcf9"
       ],
       "layout": "IPY_MODEL_470889361ab346bd908bc8b0147ab216"
      }
     },
     "bfedd16eafb6481091c924e5b0920520": {
      "model_module": "@jupyter-widgets/controls",
      "model_module_version": "1.5.0",
      "model_name": "HTMLModel",
      "state": {
       "layout": "IPY_MODEL_fa3d726019104deeb9a8926892f18703",
       "style": "IPY_MODEL_feb35c2a2a6e431e87aa96d2d024b24f",
       "value": " ETA: 00:00s - loss: 1.4248 - val_loss: 1.8058"
      }
     },
     "c007ef81b3314023886e659949e11a19": {
      "model_module": "@jupyter-widgets/controls",
      "model_module_version": "1.5.0",
      "model_name": "HBoxModel",
      "state": {
       "children": [
        "IPY_MODEL_e7b59a00643544ca866e6e40ddf94d09",
        "IPY_MODEL_ff56bda42e234a01a63f3560e846549c"
       ],
       "layout": "IPY_MODEL_1503039e0cd34dd6a627984c0e2dce85"
      }
     },
     "c11739443a9047679461d1bacabd0638": {
      "model_module": "@jupyter-widgets/controls",
      "model_module_version": "1.5.0",
      "model_name": "ProgressStyleModel",
      "state": {
       "description_width": "initial"
      }
     },
     "c129eb534eef4d09bb751ab504a39f41": {
      "model_module": "@jupyter-widgets/controls",
      "model_module_version": "1.5.0",
      "model_name": "DescriptionStyleModel",
      "state": {
       "description_width": ""
      }
     },
     "c12b59238dac47f9a2681efb6ddd0aed": {
      "model_module": "@jupyter-widgets/controls",
      "model_module_version": "1.5.0",
      "model_name": "ProgressStyleModel",
      "state": {
       "description_width": "initial"
      }
     },
     "c12e1fc9e47e48aca732250f0bab5b5f": {
      "model_module": "@jupyter-widgets/base",
      "model_module_version": "1.2.0",
      "model_name": "LayoutModel",
      "state": {
       "flex": "2"
      }
     },
     "c178a9d0a67b45788787afbb3a6f39ff": {
      "model_module": "@jupyter-widgets/base",
      "model_module_version": "1.2.0",
      "model_name": "LayoutModel",
      "state": {
       "flex": "2"
      }
     },
     "c1eb9cb81c8c4a209f432aedd33b4592": {
      "model_module": "@jupyter-widgets/base",
      "model_module_version": "1.2.0",
      "model_name": "LayoutModel",
      "state": {}
     },
     "c20ab0ce9d8642b6bb6fec03b2d81a68": {
      "model_module": "@jupyter-widgets/controls",
      "model_module_version": "1.5.0",
      "model_name": "ProgressStyleModel",
      "state": {
       "description_width": "initial"
      }
     },
     "c24b1dd7a9d2411cab7c320ab8be8ea2": {
      "model_module": "@jupyter-widgets/controls",
      "model_module_version": "1.5.0",
      "model_name": "ProgressStyleModel",
      "state": {
       "description_width": "initial"
      }
     },
     "c2e4e67726f744e29e39ed0b83d4eaff": {
      "model_module": "@jupyter-widgets/base",
      "model_module_version": "1.2.0",
      "model_name": "LayoutModel",
      "state": {
       "display": "inline-flex",
       "flex_flow": "row wrap",
       "width": "100%"
      }
     },
     "c32742a515274463a68d8a0e2bdc5381": {
      "model_module": "@jupyter-widgets/base",
      "model_module_version": "1.2.0",
      "model_name": "LayoutModel",
      "state": {
       "flex": "2"
      }
     },
     "c3bd44f46d334b1090d2d6980a3cf29c": {
      "model_module": "@jupyter-widgets/base",
      "model_module_version": "1.2.0",
      "model_name": "LayoutModel",
      "state": {}
     },
     "c3efef1d53bf423ba1bb209048261cff": {
      "model_module": "@jupyter-widgets/base",
      "model_module_version": "1.2.0",
      "model_name": "LayoutModel",
      "state": {
       "display": "inline-flex",
       "flex_flow": "row wrap",
       "width": "100%"
      }
     },
     "c479aec1b8af47129e05eec1f289cda0": {
      "model_module": "@jupyter-widgets/controls",
      "model_module_version": "1.5.0",
      "model_name": "DescriptionStyleModel",
      "state": {
       "description_width": ""
      }
     },
     "c536a8c4572e4874a9adbb83da265595": {
      "model_module": "@jupyter-widgets/base",
      "model_module_version": "1.2.0",
      "model_name": "LayoutModel",
      "state": {
       "flex": "2"
      }
     },
     "c5683ac30e924d9d891a317e5100cf67": {
      "model_module": "@jupyter-widgets/base",
      "model_module_version": "1.2.0",
      "model_name": "LayoutModel",
      "state": {
       "display": "inline-flex",
       "flex_flow": "row wrap",
       "width": "100%"
      }
     },
     "c56f6f0e614043b4bc7712f0093db757": {
      "model_module": "@jupyter-widgets/controls",
      "model_module_version": "1.5.0",
      "model_name": "FloatProgressModel",
      "state": {
       "bar_style": "success",
       "description": "2813/2813",
       "layout": "IPY_MODEL_757dc03790764b3fbfb5c7c6246e6097",
       "max": 2813,
       "style": "IPY_MODEL_ca559bbc4730451bb5b57ff65d781724",
       "value": 2813
      }
     },
     "c59ae8f2c4bc45ef82dab3f35453e3fb": {
      "model_module": "@jupyter-widgets/controls",
      "model_module_version": "1.5.0",
      "model_name": "FloatProgressModel",
      "state": {
       "bar_style": "success",
       "description": "2813/2813",
       "layout": "IPY_MODEL_754e9cfa8b574b5e87fb791d427cf7b7",
       "max": 2813,
       "style": "IPY_MODEL_96e078c058764872a0607b7f022d0434",
       "value": 2813
      }
     },
     "c5a236c5e6ea4faf866d31871af74623": {
      "model_module": "@jupyter-widgets/base",
      "model_module_version": "1.2.0",
      "model_name": "LayoutModel",
      "state": {}
     },
     "c5acce5c91cd4611992a98dd7cd948e8": {
      "model_module": "@jupyter-widgets/base",
      "model_module_version": "1.2.0",
      "model_name": "LayoutModel",
      "state": {
       "display": "inline-flex",
       "flex_flow": "row wrap",
       "width": "100%"
      }
     },
     "c613b61ae6c24c4d8503dd88510d9390": {
      "model_module": "@jupyter-widgets/controls",
      "model_module_version": "1.5.0",
      "model_name": "DescriptionStyleModel",
      "state": {
       "description_width": ""
      }
     },
     "c694053fe9f249d69c571e23dd571b1a": {
      "model_module": "@jupyter-widgets/base",
      "model_module_version": "1.2.0",
      "model_name": "LayoutModel",
      "state": {
       "flex": "2"
      }
     },
     "c6dfbb74170444d6bc917ffa5df38455": {
      "model_module": "@jupyter-widgets/controls",
      "model_module_version": "1.5.0",
      "model_name": "DescriptionStyleModel",
      "state": {
       "description_width": ""
      }
     },
     "c797cd16836f4c36a9846fe16e7da0df": {
      "model_module": "@jupyter-widgets/controls",
      "model_module_version": "1.5.0",
      "model_name": "FloatProgressModel",
      "state": {
       "bar_style": "danger",
       "description": "Training:  19%",
       "layout": "IPY_MODEL_887b53457e1e4be1a0d9b363958b6bf6",
       "style": "IPY_MODEL_1c5917156d7c478ab0ac920abb2897e9",
       "value": 19
      }
     },
     "c7dda87f4d8a4096bd4624a7464c7816": {
      "model_module": "@jupyter-widgets/base",
      "model_module_version": "1.2.0",
      "model_name": "LayoutModel",
      "state": {
       "display": "inline-flex",
       "flex_flow": "row wrap",
       "width": "100%"
      }
     },
     "c803bc85c7954ca0842616cfe00736aa": {
      "model_module": "@jupyter-widgets/controls",
      "model_module_version": "1.5.0",
      "model_name": "DescriptionStyleModel",
      "state": {
       "description_width": ""
      }
     },
     "c8349be8ed2c4f5ba6ddec30bc49adf5": {
      "model_module": "@jupyter-widgets/controls",
      "model_module_version": "1.5.0",
      "model_name": "FloatProgressModel",
      "state": {
       "bar_style": "success",
       "description": "5625/5625",
       "layout": "IPY_MODEL_636ba75a026c4719a09f28414cedca63",
       "max": 5625,
       "style": "IPY_MODEL_0c4a7c68b057476788e610cb17eab516",
       "value": 5625
      }
     },
     "c84249d7f95f43f3b9eceeaf37c393d7": {
      "model_module": "@jupyter-widgets/base",
      "model_module_version": "1.2.0",
      "model_name": "LayoutModel",
      "state": {
       "display": "inline-flex",
       "flex_flow": "row wrap",
       "width": "100%"
      }
     },
     "c86b425949974c67b1e0b02d133e9080": {
      "model_module": "@jupyter-widgets/base",
      "model_module_version": "1.2.0",
      "model_name": "LayoutModel",
      "state": {
       "display": "inline-flex",
       "flex_flow": "row wrap",
       "width": "100%"
      }
     },
     "c8a5de37f5154a2d8c14d225cf9042f0": {
      "model_module": "@jupyter-widgets/controls",
      "model_module_version": "1.5.0",
      "model_name": "FloatProgressModel",
      "state": {
       "bar_style": "success",
       "description": "2813/2813",
       "layout": "IPY_MODEL_838ffd7c32ef49cfa8829da680379294",
       "max": 2813,
       "style": "IPY_MODEL_51dc49f7fcd7466988a19a66ec5a88b6",
       "value": 2813
      }
     },
     "c8b34dfcd89d4182b592fe503baacf98": {
      "model_module": "@jupyter-widgets/base",
      "model_module_version": "1.2.0",
      "model_name": "LayoutModel",
      "state": {
       "flex": "2"
      }
     },
     "c988ee01c436401b88c12e6836ca363b": {
      "model_module": "@jupyter-widgets/controls",
      "model_module_version": "1.5.0",
      "model_name": "HTMLModel",
      "state": {
       "layout": "IPY_MODEL_0a8d3e2aa4de4da5a17a1a895f34a7ed",
       "style": "IPY_MODEL_b2efbaac8dae4e90b8bf8535e1c35f86",
       "value": " ETA: 00:00s - loss: 1.3258 - val_loss: 1.8098"
      }
     },
     "c9a7d6ef3efa4349b1c97415e4e3fe12": {
      "model_module": "@jupyter-widgets/controls",
      "model_module_version": "1.5.0",
      "model_name": "FloatProgressModel",
      "state": {
       "bar_style": "success",
       "description": "2813/2813",
       "layout": "IPY_MODEL_310fded06abf4baf84585f3eb7084908",
       "max": 2813,
       "style": "IPY_MODEL_9b48797ed9ce49c4839d2d0c82e3a456",
       "value": 2813
      }
     },
     "ca1e19fc11ad4339ab5a5734ad57706c": {
      "model_module": "@jupyter-widgets/base",
      "model_module_version": "1.2.0",
      "model_name": "LayoutModel",
      "state": {
       "flex": "2"
      }
     },
     "ca559bbc4730451bb5b57ff65d781724": {
      "model_module": "@jupyter-widgets/controls",
      "model_module_version": "1.5.0",
      "model_name": "ProgressStyleModel",
      "state": {
       "description_width": "initial"
      }
     },
     "ca95464b4e4b4ac280630608ef616e96": {
      "model_module": "@jupyter-widgets/base",
      "model_module_version": "1.2.0",
      "model_name": "LayoutModel",
      "state": {
       "flex": "2"
      }
     },
     "caa8890f376147a9b500fdf2a8d302c8": {
      "model_module": "@jupyter-widgets/base",
      "model_module_version": "1.2.0",
      "model_name": "LayoutModel",
      "state": {}
     },
     "cb15ef3667d649388497307bcc2e4e48": {
      "model_module": "@jupyter-widgets/base",
      "model_module_version": "1.2.0",
      "model_name": "LayoutModel",
      "state": {}
     },
     "cb160aa441d7402d85cd2cbfdc8e0033": {
      "model_module": "@jupyter-widgets/base",
      "model_module_version": "1.2.0",
      "model_name": "LayoutModel",
      "state": {}
     },
     "cb3579a0b3ba45a78f14afd69643dc69": {
      "model_module": "@jupyter-widgets/base",
      "model_module_version": "1.2.0",
      "model_name": "LayoutModel",
      "state": {
       "flex": "2"
      }
     },
     "cb6917d1356f4431951108921031aae3": {
      "model_module": "@jupyter-widgets/controls",
      "model_module_version": "1.5.0",
      "model_name": "HBoxModel",
      "state": {
       "children": [
        "IPY_MODEL_6df2a7f0529c4257a954cf3183338e40",
        "IPY_MODEL_7bbdcd6efc024b4eb1f6c39ed7604252"
       ],
       "layout": "IPY_MODEL_dec413e5497c4cc19442b5fb0ee41fb7"
      }
     },
     "cb6d5aeebb1a44298392aa20d4d4b9ff": {
      "model_module": "@jupyter-widgets/base",
      "model_module_version": "1.2.0",
      "model_name": "LayoutModel",
      "state": {}
     },
     "cba9813de33047dc8f4ac552df3b1cd7": {
      "model_module": "@jupyter-widgets/base",
      "model_module_version": "1.2.0",
      "model_name": "LayoutModel",
      "state": {
       "display": "inline-flex",
       "flex_flow": "row wrap",
       "width": "100%"
      }
     },
     "cbcbb3ccccec42a7accf6e0fd8374b63": {
      "model_module": "@jupyter-widgets/base",
      "model_module_version": "1.2.0",
      "model_name": "LayoutModel",
      "state": {
       "display": "inline-flex",
       "flex_flow": "row wrap",
       "width": "100%"
      }
     },
     "cbf81ae194a54b16b3293ad54f7e4ad5": {
      "model_module": "@jupyter-widgets/controls",
      "model_module_version": "1.5.0",
      "model_name": "HBoxModel",
      "state": {
       "children": [
        "IPY_MODEL_0864d8803864470198bd08f9943cfb00",
        "IPY_MODEL_5fcd08130fcd492e8cb872f27a32e6a7"
       ],
       "layout": "IPY_MODEL_216b7aa91cd54ea1a943908a22d9443d"
      }
     },
     "cca3e55fb520496e87c6bc614ae25b37": {
      "model_module": "@jupyter-widgets/controls",
      "model_module_version": "1.5.0",
      "model_name": "ProgressStyleModel",
      "state": {
       "description_width": "initial"
      }
     },
     "cd1a2b4ea13e435dbf27c98042433514": {
      "model_module": "@jupyter-widgets/controls",
      "model_module_version": "1.5.0",
      "model_name": "HBoxModel",
      "state": {
       "children": [
        "IPY_MODEL_f6dc84955d4c4f2bb7c403b58b8d23fd",
        "IPY_MODEL_e93af01d267f42e49e56f843fb7c9969"
       ],
       "layout": "IPY_MODEL_57ea76625a684ee6954ce7e024b0db8b"
      }
     },
     "cd50cc846ec642518ce49f6ab5313de2": {
      "model_module": "@jupyter-widgets/controls",
      "model_module_version": "1.5.0",
      "model_name": "HBoxModel",
      "state": {
       "children": [
        "IPY_MODEL_c8a5de37f5154a2d8c14d225cf9042f0",
        "IPY_MODEL_5a7aa87e80ab4bcb9a031cb17a5f0bfc"
       ],
       "layout": "IPY_MODEL_2e2f418022c744c28dea0a75b940ba5c"
      }
     },
     "cd899a7f7d874294a4a85e4427f84db5": {
      "model_module": "@jupyter-widgets/controls",
      "model_module_version": "1.5.0",
      "model_name": "HBoxModel",
      "state": {
       "children": [
        "IPY_MODEL_1a3388be632643be9bfff3614e663595",
        "IPY_MODEL_b675e8ac272841acbaffe647e00d02ec"
       ],
       "layout": "IPY_MODEL_8e941d2e629c428596d65580423ed517"
      }
     },
     "cd9bd23e165548938b1ccc4e456cf12d": {
      "model_module": "@jupyter-widgets/controls",
      "model_module_version": "1.5.0",
      "model_name": "FloatProgressModel",
      "state": {
       "bar_style": "success",
       "description": "5625/5625",
       "layout": "IPY_MODEL_fc6789cd997a4e4a8ddf0e3e529125fa",
       "max": 5625,
       "style": "IPY_MODEL_0767dcbec9144371830aba5a14fa267c",
       "value": 5625
      }
     },
     "cdc00e3802f54bc99fc8d08a5e732e3f": {
      "model_module": "@jupyter-widgets/controls",
      "model_module_version": "1.5.0",
      "model_name": "ProgressStyleModel",
      "state": {
       "description_width": "initial"
      }
     },
     "ce6041db606a4b34af8d9c8ce524266e": {
      "model_module": "@jupyter-widgets/base",
      "model_module_version": "1.2.0",
      "model_name": "LayoutModel",
      "state": {
       "display": "inline-flex",
       "flex_flow": "row wrap",
       "width": "100%"
      }
     },
     "ce6c394010664a28b47a5348f09855ce": {
      "model_module": "@jupyter-widgets/controls",
      "model_module_version": "1.5.0",
      "model_name": "ProgressStyleModel",
      "state": {
       "description_width": "initial"
      }
     },
     "cec92a4f8b5b4f4e96f237b3aef44f7d": {
      "model_module": "@jupyter-widgets/controls",
      "model_module_version": "1.5.0",
      "model_name": "DescriptionStyleModel",
      "state": {
       "description_width": ""
      }
     },
     "cf02139fe911484b8684018f3f3e1abc": {
      "model_module": "@jupyter-widgets/controls",
      "model_module_version": "1.5.0",
      "model_name": "HBoxModel",
      "state": {
       "children": [
        "IPY_MODEL_d31de77e46d3489fb2cfb29f899802ad",
        "IPY_MODEL_f9d1de0dc81c4d9bacea41e627cb6572"
       ],
       "layout": "IPY_MODEL_c7dda87f4d8a4096bd4624a7464c7816"
      }
     },
     "cf27b72f83de46a0812c18d1583cb7d2": {
      "model_module": "@jupyter-widgets/controls",
      "model_module_version": "1.5.0",
      "model_name": "FloatProgressModel",
      "state": {
       "bar_style": "success",
       "description": "5625/5625",
       "layout": "IPY_MODEL_1025d0bd952c439b8f9db2166cbfbb94",
       "max": 5625,
       "style": "IPY_MODEL_b6b481e7e52c47c686def2c74e82d9ba",
       "value": 5625
      }
     },
     "cf68061f1109486682984a7a8f6b6387": {
      "model_module": "@jupyter-widgets/controls",
      "model_module_version": "1.5.0",
      "model_name": "DescriptionStyleModel",
      "state": {
       "description_width": ""
      }
     },
     "cfd6a4ed00d34ccb95ac22d69a0912cc": {
      "model_module": "@jupyter-widgets/base",
      "model_module_version": "1.2.0",
      "model_name": "LayoutModel",
      "state": {
       "flex": "2"
      }
     },
     "d00bbf78eedd43eb8840f5226da82cb2": {
      "model_module": "@jupyter-widgets/controls",
      "model_module_version": "1.5.0",
      "model_name": "FloatProgressModel",
      "state": {
       "bar_style": "success",
       "description": "5625/5625",
       "layout": "IPY_MODEL_ca1e19fc11ad4339ab5a5734ad57706c",
       "max": 5625,
       "style": "IPY_MODEL_ed69596acceb4a6da4820fa01d71f19a",
       "value": 5625
      }
     },
     "d021b75e2d08439aa4ebfe16ea6bf3f2": {
      "model_module": "@jupyter-widgets/base",
      "model_module_version": "1.2.0",
      "model_name": "LayoutModel",
      "state": {
       "flex": "2"
      }
     },
     "d029ed2493954e1e8fbf71e72b7bd2f9": {
      "model_module": "@jupyter-widgets/base",
      "model_module_version": "1.2.0",
      "model_name": "LayoutModel",
      "state": {
       "flex": "2"
      }
     },
     "d02c40aeccc74c1e87dfa752c9cd4c4b": {
      "model_module": "@jupyter-widgets/base",
      "model_module_version": "1.2.0",
      "model_name": "LayoutModel",
      "state": {}
     },
     "d03dbe31c0b14205a2018652e5890361": {
      "model_module": "@jupyter-widgets/controls",
      "model_module_version": "1.5.0",
      "model_name": "DescriptionStyleModel",
      "state": {
       "description_width": ""
      }
     },
     "d057be2bc50742b8a9610ad3bf7249d1": {
      "model_module": "@jupyter-widgets/controls",
      "model_module_version": "1.5.0",
      "model_name": "FloatProgressModel",
      "state": {
       "bar_style": "success",
       "description": "5625/5625",
       "layout": "IPY_MODEL_f377040b6a894bb5bb1e54c408151a08",
       "max": 5625,
       "style": "IPY_MODEL_bc8b3a4076c44bebb645d414f624f8b2",
       "value": 5625
      }
     },
     "d08b6634f85e47589c8601ebcdfacc3e": {
      "model_module": "@jupyter-widgets/base",
      "model_module_version": "1.2.0",
      "model_name": "LayoutModel",
      "state": {
       "display": "inline-flex",
       "flex_flow": "row wrap",
       "width": "100%"
      }
     },
     "d176173e761346d6ab52b6a37919f48e": {
      "model_module": "@jupyter-widgets/controls",
      "model_module_version": "1.5.0",
      "model_name": "ProgressStyleModel",
      "state": {
       "description_width": "initial"
      }
     },
     "d17c70fd41004d03ba8239fd3636635c": {
      "model_module": "@jupyter-widgets/base",
      "model_module_version": "1.2.0",
      "model_name": "LayoutModel",
      "state": {
       "display": "inline-flex",
       "flex_flow": "row wrap",
       "width": "100%"
      }
     },
     "d1a1de00e8724b4a970fe6a9034082ff": {
      "model_module": "@jupyter-widgets/base",
      "model_module_version": "1.2.0",
      "model_name": "LayoutModel",
      "state": {
       "display": "inline-flex",
       "flex_flow": "row wrap",
       "width": "100%"
      }
     },
     "d1a757fe35554685a125cb9d48942e3b": {
      "model_module": "@jupyter-widgets/controls",
      "model_module_version": "1.5.0",
      "model_name": "DescriptionStyleModel",
      "state": {
       "description_width": ""
      }
     },
     "d1c63c3e69cc4589a2ae82df695e0eb3": {
      "model_module": "@jupyter-widgets/controls",
      "model_module_version": "1.5.0",
      "model_name": "DescriptionStyleModel",
      "state": {
       "description_width": ""
      }
     },
     "d237e3f2021645dbbbbbe95dad990e2c": {
      "model_module": "@jupyter-widgets/controls",
      "model_module_version": "1.5.0",
      "model_name": "FloatProgressModel",
      "state": {
       "bar_style": "success",
       "description": "2813/2813",
       "layout": "IPY_MODEL_1229a4c65f8a4b06b846f538b4c6a4a8",
       "max": 2813,
       "style": "IPY_MODEL_6eaa892133ef4e48b0c14909f5054f32",
       "value": 2813
      }
     },
     "d29cc008223e4ce1aef65a94bbbc6bde": {
      "model_module": "@jupyter-widgets/controls",
      "model_module_version": "1.5.0",
      "model_name": "HBoxModel",
      "state": {
       "children": [
        "IPY_MODEL_338a5baa7e6341a7a53044a16ee2ccbe",
        "IPY_MODEL_2436636b5987456585f66ba45547de30"
       ],
       "layout": "IPY_MODEL_dbdc955934ae4e3db53e90ab6284f9a0"
      }
     },
     "d29f0f966b0f40c0b55acef616112807": {
      "model_module": "@jupyter-widgets/base",
      "model_module_version": "1.2.0",
      "model_name": "LayoutModel",
      "state": {}
     },
     "d2c56f12f7db4e04b7256dc013b9b875": {
      "model_module": "@jupyter-widgets/base",
      "model_module_version": "1.2.0",
      "model_name": "LayoutModel",
      "state": {}
     },
     "d2ecf428b0b449e181ca3a487047eabe": {
      "model_module": "@jupyter-widgets/base",
      "model_module_version": "1.2.0",
      "model_name": "LayoutModel",
      "state": {
       "flex": "2"
      }
     },
     "d31de77e46d3489fb2cfb29f899802ad": {
      "model_module": "@jupyter-widgets/controls",
      "model_module_version": "1.5.0",
      "model_name": "FloatProgressModel",
      "state": {
       "bar_style": "success",
       "description": "5625/5625",
       "layout": "IPY_MODEL_2f99032d96a54b9fbf7910af070c65da",
       "max": 5625,
       "style": "IPY_MODEL_58b74cd29d6a4dce9a2b6e3974ab9170",
       "value": 5625
      }
     },
     "d375e3c873334b1bbc084015cdbeb06f": {
      "model_module": "@jupyter-widgets/controls",
      "model_module_version": "1.5.0",
      "model_name": "HBoxModel",
      "state": {
       "children": [
        "IPY_MODEL_6e0e64e455b049d3b2787842da1eeb40",
        "IPY_MODEL_e11f24a2e0cd474190e47a6ad4f69f29"
       ],
       "layout": "IPY_MODEL_f8b45a57431049cc8c04b3c47e587ce2"
      }
     },
     "d3a60e3ad5ab4f2589712cf0d403ab46": {
      "model_module": "@jupyter-widgets/base",
      "model_module_version": "1.2.0",
      "model_name": "LayoutModel",
      "state": {
       "display": "inline-flex",
       "flex_flow": "row wrap",
       "width": "100%"
      }
     },
     "d3de55840b5b46e69274d32203173869": {
      "model_module": "@jupyter-widgets/controls",
      "model_module_version": "1.5.0",
      "model_name": "HTMLModel",
      "state": {
       "layout": "IPY_MODEL_cb160aa441d7402d85cd2cbfdc8e0033",
       "style": "IPY_MODEL_8ce2442760d24ffbac9a66d6970545ef",
       "value": " ETA: 00:00s - loss: 2.2225 - val_loss: 2.1507"
      }
     },
     "d466339eb0c84f428b816468c4e46922": {
      "model_module": "@jupyter-widgets/controls",
      "model_module_version": "1.5.0",
      "model_name": "HBoxModel",
      "state": {
       "children": [
        "IPY_MODEL_b7d9a22dfe8d4eb1acee6c399fa33db1",
        "IPY_MODEL_3b551da62e9c40d28a7536a8469a78bb"
       ],
       "layout": "IPY_MODEL_efbcdc32fa3f4bd78a4e63d674af77d9"
      }
     },
     "d477aff00470460db10be63a93dd5ba1": {
      "model_module": "@jupyter-widgets/base",
      "model_module_version": "1.2.0",
      "model_name": "LayoutModel",
      "state": {}
     },
     "d51737eacb1b4bd2aef140ea92745cfa": {
      "model_module": "@jupyter-widgets/base",
      "model_module_version": "1.2.0",
      "model_name": "LayoutModel",
      "state": {}
     },
     "d5aae18489534882ba7f2588d6442157": {
      "model_module": "@jupyter-widgets/controls",
      "model_module_version": "1.5.0",
      "model_name": "FloatProgressModel",
      "state": {
       "bar_style": "success",
       "description": "2813/2813",
       "layout": "IPY_MODEL_ca95464b4e4b4ac280630608ef616e96",
       "max": 2813,
       "style": "IPY_MODEL_66ccedba104e4d0b8d4bb5a35a8a5888",
       "value": 2813
      }
     },
     "d615ad0b1be3412691cae88fd91868ae": {
      "model_module": "@jupyter-widgets/controls",
      "model_module_version": "1.5.0",
      "model_name": "HBoxModel",
      "state": {
       "children": [
        "IPY_MODEL_f673b1c4bc3b4c6883c781ecea01f0fd",
        "IPY_MODEL_9c58c87d6d674bd4ab208a176e2a8190"
       ],
       "layout": "IPY_MODEL_cba9813de33047dc8f4ac552df3b1cd7"
      }
     },
     "d64002ac8eb540dbaa06e33e1e93351d": {
      "model_module": "@jupyter-widgets/controls",
      "model_module_version": "1.5.0",
      "model_name": "HTMLModel",
      "state": {
       "layout": "IPY_MODEL_05c31e1356b840de911f35f61a103629",
       "style": "IPY_MODEL_ec29d7cd58a94fe79c98a4627ade45ac",
       "value": " ETA: 00:00s - loss: 1.2189 - val_loss: 1.8781"
      }
     },
     "d6c84e5f01d949b1a59b4148fdbed2b1": {
      "model_module": "@jupyter-widgets/controls",
      "model_module_version": "1.5.0",
      "model_name": "FloatProgressModel",
      "state": {
       "bar_style": "success",
       "description": "5625/5625",
       "layout": "IPY_MODEL_735e233c796a447c823301aff02664ca",
       "max": 5625,
       "style": "IPY_MODEL_6da17c2d0375496ebeab64b1f3636917",
       "value": 5625
      }
     },
     "d6edf495929b4b518b8aeab3deb0d4b3": {
      "model_module": "@jupyter-widgets/base",
      "model_module_version": "1.2.0",
      "model_name": "LayoutModel",
      "state": {}
     },
     "d7416170ef3c40fd8fc3511a97c78da8": {
      "model_module": "@jupyter-widgets/controls",
      "model_module_version": "1.5.0",
      "model_name": "HBoxModel",
      "state": {
       "children": [
        "IPY_MODEL_0ec669b498054d898ed6109425eca713",
        "IPY_MODEL_59db8fba455e471dac9278a0be1ae5e1"
       ],
       "layout": "IPY_MODEL_8174fb52c4c6478687b055e62d4f05e2"
      }
     },
     "d7926adc493744378fa7fb839df96adc": {
      "model_module": "@jupyter-widgets/controls",
      "model_module_version": "1.5.0",
      "model_name": "HTMLModel",
      "state": {
       "layout": "IPY_MODEL_a17771541d1e4986aadee8b7aae7af1e",
       "style": "IPY_MODEL_880fcbdd8e414b9da6bd14a2443909cd",
       "value": " ETA: 00:00s - loss: 1.9813 - val_loss: 2.0327"
      }
     },
     "d7be59fc23cb4aa5bc3f7fa9df436b21": {
      "model_module": "@jupyter-widgets/controls",
      "model_module_version": "1.5.0",
      "model_name": "HTMLModel",
      "state": {
       "layout": "IPY_MODEL_da57f50ca19a4026bcfddec69bc0800f",
       "style": "IPY_MODEL_f4b377d99124448aa3354153ef4c981e",
       "value": " ETA: 00:00s - loss: 1.2529 - val_loss: 1.8652"
      }
     },
     "d8c0d7c5612c412fa72a84b2987b38e3": {
      "model_module": "@jupyter-widgets/controls",
      "model_module_version": "1.5.0",
      "model_name": "DescriptionStyleModel",
      "state": {
       "description_width": ""
      }
     },
     "d8ed4e5049b44dfd93339a4bc95c21c5": {
      "model_module": "@jupyter-widgets/controls",
      "model_module_version": "1.5.0",
      "model_name": "HTMLModel",
      "state": {
       "layout": "IPY_MODEL_fa0403d0c18349e99aca690415880064",
       "style": "IPY_MODEL_cec92a4f8b5b4f4e96f237b3aef44f7d",
       "value": " ETA: 00:00s - loss: 1.6435 - val_loss: 1.6692"
      }
     },
     "d921e189d2824881bb85ebb89cd122f6": {
      "model_module": "@jupyter-widgets/controls",
      "model_module_version": "1.5.0",
      "model_name": "FloatProgressModel",
      "state": {
       "bar_style": "success",
       "description": "2813/2813",
       "layout": "IPY_MODEL_c694053fe9f249d69c571e23dd571b1a",
       "max": 2813,
       "style": "IPY_MODEL_f44a35f8e0de4ff7b7cea4c7e99f01ef",
       "value": 2813
      }
     },
     "d9672959fa014dbaa4c05467abd663ba": {
      "model_module": "@jupyter-widgets/controls",
      "model_module_version": "1.5.0",
      "model_name": "HBoxModel",
      "state": {
       "children": [
        "IPY_MODEL_cd9bd23e165548938b1ccc4e456cf12d",
        "IPY_MODEL_08eb858c81bb4745a39f2d60acac0dde"
       ],
       "layout": "IPY_MODEL_ea2e7227207a40ac8b5eacc193a21287"
      }
     },
     "d98baf716a8042f8be7229996577faf6": {
      "model_module": "@jupyter-widgets/controls",
      "model_module_version": "1.5.0",
      "model_name": "HTMLModel",
      "state": {
       "layout": "IPY_MODEL_a936e1924fa14ea193acb4c5db5b27bf",
       "style": "IPY_MODEL_739770a24dcb4dfbb5ab24b1a2c7dc27",
       "value": " ETA: 00:00s - loss: 1.7819 - val_loss: 1.8199"
      }
     },
     "d9bd02bd98c94313a20486ca5e2b1bac": {
      "model_module": "@jupyter-widgets/controls",
      "model_module_version": "1.5.0",
      "model_name": "DescriptionStyleModel",
      "state": {
       "description_width": ""
      }
     },
     "d9d3ada3d1b94aae9c08ed6a31564290": {
      "model_module": "@jupyter-widgets/controls",
      "model_module_version": "1.5.0",
      "model_name": "ProgressStyleModel",
      "state": {
       "description_width": "initial"
      }
     },
     "d9f26d47feb549d59d6565f76dd2aa6a": {
      "model_module": "@jupyter-widgets/controls",
      "model_module_version": "1.5.0",
      "model_name": "DescriptionStyleModel",
      "state": {
       "description_width": ""
      }
     },
     "da2112952ab9442c9c570dc0d2ebd019": {
      "model_module": "@jupyter-widgets/controls",
      "model_module_version": "1.5.0",
      "model_name": "HBoxModel",
      "state": {
       "children": [
        "IPY_MODEL_f185c52b0390495e97d4faf24c6f3dfe",
        "IPY_MODEL_959d1aa0a62049118a6ffdaa5de1b9b6"
       ],
       "layout": "IPY_MODEL_19cce9be5a4b43c7a795d9c720b93dbd"
      }
     },
     "da57f50ca19a4026bcfddec69bc0800f": {
      "model_module": "@jupyter-widgets/base",
      "model_module_version": "1.2.0",
      "model_name": "LayoutModel",
      "state": {}
     },
     "da806acb410640bf838e65b544b09508": {
      "model_module": "@jupyter-widgets/controls",
      "model_module_version": "1.5.0",
      "model_name": "ProgressStyleModel",
      "state": {
       "description_width": "initial"
      }
     },
     "dabb326955ae4404a02b162230cfb498": {
      "model_module": "@jupyter-widgets/controls",
      "model_module_version": "1.5.0",
      "model_name": "DescriptionStyleModel",
      "state": {
       "description_width": ""
      }
     },
     "db0d2f98928f42bd85b0b8fd1fdc47b1": {
      "model_module": "@jupyter-widgets/base",
      "model_module_version": "1.2.0",
      "model_name": "LayoutModel",
      "state": {
       "display": "inline-flex",
       "flex_flow": "row wrap",
       "width": "100%"
      }
     },
     "db141461f06c498b9558df9a09927823": {
      "model_module": "@jupyter-widgets/controls",
      "model_module_version": "1.5.0",
      "model_name": "HBoxModel",
      "state": {
       "children": [
        "IPY_MODEL_30a229427ced44dc992cad632168bbfd",
        "IPY_MODEL_67e1ac24325f40958da30c8acaa77ddd"
       ],
       "layout": "IPY_MODEL_621fa78048b0478788e564ac5c8daada"
      }
     },
     "dbdc955934ae4e3db53e90ab6284f9a0": {
      "model_module": "@jupyter-widgets/base",
      "model_module_version": "1.2.0",
      "model_name": "LayoutModel",
      "state": {
       "display": "inline-flex",
       "flex_flow": "row wrap",
       "width": "100%"
      }
     },
     "ddb5b412b4504148995640003c0e8c7d": {
      "model_module": "@jupyter-widgets/base",
      "model_module_version": "1.2.0",
      "model_name": "LayoutModel",
      "state": {}
     },
     "dec413e5497c4cc19442b5fb0ee41fb7": {
      "model_module": "@jupyter-widgets/base",
      "model_module_version": "1.2.0",
      "model_name": "LayoutModel",
      "state": {
       "display": "inline-flex",
       "flex_flow": "row wrap",
       "width": "100%"
      }
     },
     "df2abb91e0bf4336b032fea133b8b3ea": {
      "model_module": "@jupyter-widgets/controls",
      "model_module_version": "1.5.0",
      "model_name": "DescriptionStyleModel",
      "state": {
       "description_width": ""
      }
     },
     "dfd62faf36434668aa7dbaa2c86b68ec": {
      "model_module": "@jupyter-widgets/controls",
      "model_module_version": "1.5.0",
      "model_name": "ProgressStyleModel",
      "state": {
       "description_width": "initial"
      }
     },
     "e01218c25f54489fadb688fb198c73bf": {
      "model_module": "@jupyter-widgets/controls",
      "model_module_version": "1.5.0",
      "model_name": "HBoxModel",
      "state": {
       "children": [
        "IPY_MODEL_b6007377d0ba4126a40e23acd6c29476",
        "IPY_MODEL_729fe538c4994df483b6d10247956d0a"
       ],
       "layout": "IPY_MODEL_5df42939d09642169fc5380373a208f8"
      }
     },
     "e039539e58634a44a79ff39e954d65cb": {
      "model_module": "@jupyter-widgets/controls",
      "model_module_version": "1.5.0",
      "model_name": "DescriptionStyleModel",
      "state": {
       "description_width": ""
      }
     },
     "e070b4e66796450485be881e0b9c96f6": {
      "model_module": "@jupyter-widgets/base",
      "model_module_version": "1.2.0",
      "model_name": "LayoutModel",
      "state": {
       "display": "inline-flex",
       "flex_flow": "row wrap",
       "width": "100%"
      }
     },
     "e0b4c454c9714bad930bab7c958e8ffe": {
      "model_module": "@jupyter-widgets/base",
      "model_module_version": "1.2.0",
      "model_name": "LayoutModel",
      "state": {
       "flex": "2"
      }
     },
     "e0da2e7b0a6d403ba0563d156e0ce9a0": {
      "model_module": "@jupyter-widgets/controls",
      "model_module_version": "1.5.0",
      "model_name": "DescriptionStyleModel",
      "state": {
       "description_width": ""
      }
     },
     "e11c5ff0a6c849b3b1b83aac9fa34b25": {
      "model_module": "@jupyter-widgets/controls",
      "model_module_version": "1.5.0",
      "model_name": "DescriptionStyleModel",
      "state": {
       "description_width": ""
      }
     },
     "e11f24a2e0cd474190e47a6ad4f69f29": {
      "model_module": "@jupyter-widgets/controls",
      "model_module_version": "1.5.0",
      "model_name": "HTMLModel",
      "state": {
       "layout": "IPY_MODEL_d51737eacb1b4bd2aef140ea92745cfa",
       "style": "IPY_MODEL_f9f55ac152ba42fd9847a5a7a29eb8c4",
       "value": " 0/1000 ETA: ?s,  ?epochs/s"
      }
     },
     "e19d14d207ed488eb64fdb979c35adf9": {
      "model_module": "@jupyter-widgets/controls",
      "model_module_version": "1.5.0",
      "model_name": "HTMLModel",
      "state": {
       "layout": "IPY_MODEL_8d384719ffdd405a8278c747950c4d46",
       "style": "IPY_MODEL_023fb7112d334a43b34cc1c69cd571fc",
       "value": " ETA: 00:00s - loss: 1.6878 - val_loss: 1.7145"
      }
     },
     "e1d6f1e8f62342dba077ff1802e754e1": {
      "model_module": "@jupyter-widgets/controls",
      "model_module_version": "1.5.0",
      "model_name": "DescriptionStyleModel",
      "state": {
       "description_width": ""
      }
     },
     "e204be5817fe492084262f0e3a435a35": {
      "model_module": "@jupyter-widgets/controls",
      "model_module_version": "1.5.0",
      "model_name": "DescriptionStyleModel",
      "state": {
       "description_width": ""
      }
     },
     "e20c1f49ad5e4a029fbcde81e49e4862": {
      "model_module": "@jupyter-widgets/controls",
      "model_module_version": "1.5.0",
      "model_name": "DescriptionStyleModel",
      "state": {
       "description_width": ""
      }
     },
     "e2daab302edf4fd0a94e0be1c9515e35": {
      "model_module": "@jupyter-widgets/controls",
      "model_module_version": "1.5.0",
      "model_name": "HBoxModel",
      "state": {
       "children": [
        "IPY_MODEL_0bd1c037c2574a6cadfc56e3b76562e1",
        "IPY_MODEL_2a825c009d9c48d1b19cc2d370191e31"
       ],
       "layout": "IPY_MODEL_b49195cb5a5b4a3eb2fc7196d1236abd"
      }
     },
     "e31356765790448ca5e18d226aa4d1db": {
      "model_module": "@jupyter-widgets/controls",
      "model_module_version": "1.5.0",
      "model_name": "HTMLModel",
      "state": {
       "layout": "IPY_MODEL_a4f88a67b70b4072b0f17910b45a8f3e",
       "style": "IPY_MODEL_435c9ee3efe445bbb41ec025ab97911e",
       "value": " ETA: 00:00s - loss: 1.7011 - val_loss: 1.7153"
      }
     },
     "e3b5c5c06a044b85ab9b5bb3b14909da": {
      "model_module": "@jupyter-widgets/base",
      "model_module_version": "1.2.0",
      "model_name": "LayoutModel",
      "state": {
       "display": "inline-flex",
       "flex_flow": "row wrap",
       "width": "100%"
      }
     },
     "e3ccd19b27634c58b9e19bf0b3065b97": {
      "model_module": "@jupyter-widgets/controls",
      "model_module_version": "1.5.0",
      "model_name": "ProgressStyleModel",
      "state": {
       "description_width": "initial"
      }
     },
     "e3edd187b87e4d54a87e404873f29a49": {
      "model_module": "@jupyter-widgets/base",
      "model_module_version": "1.2.0",
      "model_name": "LayoutModel",
      "state": {}
     },
     "e425c80fc2a74998a2370f063ff6e773": {
      "model_module": "@jupyter-widgets/base",
      "model_module_version": "1.2.0",
      "model_name": "LayoutModel",
      "state": {
       "flex": "2"
      }
     },
     "e4c4a21ed9844335a14e8e171ad4adb4": {
      "model_module": "@jupyter-widgets/base",
      "model_module_version": "1.2.0",
      "model_name": "LayoutModel",
      "state": {}
     },
     "e4ed2a19604f47b1b8c55670ae801188": {
      "model_module": "@jupyter-widgets/controls",
      "model_module_version": "1.5.0",
      "model_name": "HTMLModel",
      "state": {
       "layout": "IPY_MODEL_4b7f8755401e4747abb5bef9e998c841",
       "style": "IPY_MODEL_48df46b9ec0e4404a3b67582377fa633",
       "value": " ETA: 00:00s - loss: 1.8658 - val_loss: 1.8505"
      }
     },
     "e587142a11ef4a39a6bf6529b81217fa": {
      "model_module": "@jupyter-widgets/base",
      "model_module_version": "1.2.0",
      "model_name": "LayoutModel",
      "state": {
       "flex": "2"
      }
     },
     "e6df894c4a274f07a9275a79f9d33097": {
      "model_module": "@jupyter-widgets/controls",
      "model_module_version": "1.5.0",
      "model_name": "HTMLModel",
      "state": {
       "layout": "IPY_MODEL_08a4fcc10395487ca62bf7889d26f829",
       "style": "IPY_MODEL_c613b61ae6c24c4d8503dd88510d9390",
       "value": " ETA: 00:00s - loss: 3.3537 - val_loss: 2.7420"
      }
     },
     "e6f0a7b5c2fd4b64badf73036939e729": {
      "model_module": "@jupyter-widgets/controls",
      "model_module_version": "1.5.0",
      "model_name": "DescriptionStyleModel",
      "state": {
       "description_width": ""
      }
     },
     "e703b35ed2fc4665ade3c00dea5c3e15": {
      "model_module": "@jupyter-widgets/controls",
      "model_module_version": "1.5.0",
      "model_name": "FloatProgressModel",
      "state": {
       "bar_style": "success",
       "description": "5625/5625",
       "layout": "IPY_MODEL_2bcf02b53afe46feae7a31969732ccb3",
       "max": 5625,
       "style": "IPY_MODEL_747402eeaddb4fe5aa8a23edbcd0c4ff",
       "value": 5625
      }
     },
     "e71cbd5c6ca84a929c60802aa0cf8d9b": {
      "model_module": "@jupyter-widgets/controls",
      "model_module_version": "1.5.0",
      "model_name": "HTMLModel",
      "state": {
       "layout": "IPY_MODEL_c5a236c5e6ea4faf866d31871af74623",
       "style": "IPY_MODEL_1d5d7e239c014690960b11f0e1d45f32",
       "value": " ETA: 00:00s - loss: 1.9474 - val_loss: 1.9083"
      }
     },
     "e71e9ebf70d64b638a74c6f58a270bff": {
      "model_module": "@jupyter-widgets/controls",
      "model_module_version": "1.5.0",
      "model_name": "FloatProgressModel",
      "state": {
       "bar_style": "success",
       "description": "5625/5625",
       "layout": "IPY_MODEL_b130d3eb75fa483999711dea5b5d69df",
       "max": 5625,
       "style": "IPY_MODEL_8e38ec0a42ca45d8a3e1d73419522ec0",
       "value": 5625
      }
     },
     "e7b2ea66707741879d202583dfadf2da": {
      "model_module": "@jupyter-widgets/controls",
      "model_module_version": "1.5.0",
      "model_name": "HTMLModel",
      "state": {
       "layout": "IPY_MODEL_88ec0aab12a243e28029d5f3f2cf52f7",
       "style": "IPY_MODEL_80ed1bfb332c413cb362eccdf53caf25",
       "value": " ETA: 00:00s - loss: 1.2494 - val_loss: 1.8203"
      }
     },
     "e7b59a00643544ca866e6e40ddf94d09": {
      "model_module": "@jupyter-widgets/controls",
      "model_module_version": "1.5.0",
      "model_name": "FloatProgressModel",
      "state": {
       "bar_style": "success",
       "description": "5625/5625",
       "layout": "IPY_MODEL_4feded2cb3514228bde5409e0acdd9fa",
       "max": 5625,
       "style": "IPY_MODEL_61597ce1e8034b7891b5e565a3a34bc5",
       "value": 5625
      }
     },
     "e7f27f5a25d640659601f7f102a1c7d2": {
      "model_module": "@jupyter-widgets/controls",
      "model_module_version": "1.5.0",
      "model_name": "FloatProgressModel",
      "state": {
       "bar_style": "danger",
       "description": "Training:   5%",
       "layout": "IPY_MODEL_a3a58916309c405980f3e220d173649b",
       "max": 1000,
       "style": "IPY_MODEL_280d902e25ff4615b94b9f96723d59e0",
       "value": 50
      }
     },
     "e864d3ee8a9b4d76a40114a33f734f25": {
      "model_module": "@jupyter-widgets/controls",
      "model_module_version": "1.5.0",
      "model_name": "HBoxModel",
      "state": {
       "children": [
        "IPY_MODEL_acf7909d1c5442bc93851fa6f4bfaabc",
        "IPY_MODEL_a0f12a88df2c448999e37f953a500d8a"
       ],
       "layout": "IPY_MODEL_28a86a88132e4e39938284dd48b7bf5e"
      }
     },
     "e89de940f98242c684213c99a3916665": {
      "model_module": "@jupyter-widgets/base",
      "model_module_version": "1.2.0",
      "model_name": "LayoutModel",
      "state": {}
     },
     "e8a56f36fa6344cd92b25b928dceb33f": {
      "model_module": "@jupyter-widgets/controls",
      "model_module_version": "1.5.0",
      "model_name": "FloatProgressModel",
      "state": {
       "bar_style": "success",
       "description": "5625/5625",
       "layout": "IPY_MODEL_5254c2a7a2b1494e9518b3ccd7e646e0",
       "max": 5625,
       "style": "IPY_MODEL_59b423a7f2fe45d38961876d41180d67",
       "value": 5625
      }
     },
     "e8e45e7f951f42ce807c6609b4972c71": {
      "model_module": "@jupyter-widgets/controls",
      "model_module_version": "1.5.0",
      "model_name": "ProgressStyleModel",
      "state": {
       "description_width": "initial"
      }
     },
     "e8ff77e4dcef4a6ca9604b525990a02c": {
      "model_module": "@jupyter-widgets/controls",
      "model_module_version": "1.5.0",
      "model_name": "FloatProgressModel",
      "state": {
       "bar_style": "success",
       "description": "2813/2813",
       "layout": "IPY_MODEL_ef8510e232b64024a25bb6f13306c82e",
       "max": 2813,
       "style": "IPY_MODEL_cdc00e3802f54bc99fc8d08a5e732e3f",
       "value": 2813
      }
     },
     "e9276feafcd64a47ae4546a02ddb3b51": {
      "model_module": "@jupyter-widgets/controls",
      "model_module_version": "1.5.0",
      "model_name": "HBoxModel",
      "state": {
       "children": [
        "IPY_MODEL_38fd79b62b56431da36d2bfc8b20907d",
        "IPY_MODEL_613007a5ef5a490baa4057a77892a0e8"
       ],
       "layout": "IPY_MODEL_61589ce6fe044af19b1b0ae0a0b6d419"
      }
     },
     "e93af01d267f42e49e56f843fb7c9969": {
      "model_module": "@jupyter-widgets/controls",
      "model_module_version": "1.5.0",
      "model_name": "HTMLModel",
      "state": {
       "layout": "IPY_MODEL_f8746c2ddfa7427f8f0374c5cfdfe9b9",
       "style": "IPY_MODEL_18c242f1773a472987e2d61125250443",
       "value": " ETA: 00:00s - loss: 1.8358 - val_loss: 1.9546"
      }
     },
     "e93e512dca3e42c1b57eb4797b733703": {
      "model_module": "@jupyter-widgets/controls",
      "model_module_version": "1.5.0",
      "model_name": "ProgressStyleModel",
      "state": {
       "description_width": "initial"
      }
     },
     "ea015bd8b9d94449a19d8a26e5a5112f": {
      "model_module": "@jupyter-widgets/controls",
      "model_module_version": "1.5.0",
      "model_name": "DescriptionStyleModel",
      "state": {
       "description_width": ""
      }
     },
     "ea2e7227207a40ac8b5eacc193a21287": {
      "model_module": "@jupyter-widgets/base",
      "model_module_version": "1.2.0",
      "model_name": "LayoutModel",
      "state": {
       "display": "inline-flex",
       "flex_flow": "row wrap",
       "width": "100%"
      }
     },
     "ea6b1199d33e4c8cbe0ee1703a539b04": {
      "model_module": "@jupyter-widgets/base",
      "model_module_version": "1.2.0",
      "model_name": "LayoutModel",
      "state": {
       "display": "inline-flex",
       "flex_flow": "row wrap",
       "width": "100%"
      }
     },
     "eb32abbd17ad44a39ca783e5e8bf8de6": {
      "model_module": "@jupyter-widgets/controls",
      "model_module_version": "1.5.0",
      "model_name": "ProgressStyleModel",
      "state": {
       "description_width": "initial"
      }
     },
     "eb4cc36adf1447f4a2dccab71d1f5477": {
      "model_module": "@jupyter-widgets/controls",
      "model_module_version": "1.5.0",
      "model_name": "DescriptionStyleModel",
      "state": {
       "description_width": ""
      }
     },
     "eb6dc036dffc44eb8f123f6a401208b6": {
      "model_module": "@jupyter-widgets/controls",
      "model_module_version": "1.5.0",
      "model_name": "FloatProgressModel",
      "state": {
       "bar_style": "success",
       "description": "2813/2813",
       "layout": "IPY_MODEL_a4391b1907214cde92832ee563783ae2",
       "max": 2813,
       "style": "IPY_MODEL_03608a14371941fcb6eb375b5054d494",
       "value": 2813
      }
     },
     "ebc8ebb5a08d4d25af43df39af10b71b": {
      "model_module": "@jupyter-widgets/controls",
      "model_module_version": "1.5.0",
      "model_name": "HBoxModel",
      "state": {
       "children": [
        "IPY_MODEL_a91a0e94851545399d519c0c1d86d42e",
        "IPY_MODEL_9d8568e942d04385bf7493213b32a900"
       ],
       "layout": "IPY_MODEL_438d428519024426a3938fa0a0839dc8"
      }
     },
     "ec1cf4d882634c60a4af146085e361ac": {
      "model_module": "@jupyter-widgets/controls",
      "model_module_version": "1.5.0",
      "model_name": "DescriptionStyleModel",
      "state": {
       "description_width": ""
      }
     },
     "ec29d7cd58a94fe79c98a4627ade45ac": {
      "model_module": "@jupyter-widgets/controls",
      "model_module_version": "1.5.0",
      "model_name": "DescriptionStyleModel",
      "state": {
       "description_width": ""
      }
     },
     "ec31c3174e594934906f1d090f6df3b1": {
      "model_module": "@jupyter-widgets/controls",
      "model_module_version": "1.5.0",
      "model_name": "ProgressStyleModel",
      "state": {
       "description_width": "initial"
      }
     },
     "ec45b857b9464a40afd4d53b7bcd98a8": {
      "model_module": "@jupyter-widgets/controls",
      "model_module_version": "1.5.0",
      "model_name": "HBoxModel",
      "state": {
       "children": [
        "IPY_MODEL_29295a3a4a954e05aa150bd7c0d338ca",
        "IPY_MODEL_7248cc94eb764393a48564e51c10fadc"
       ],
       "layout": "IPY_MODEL_d1a1de00e8724b4a970fe6a9034082ff"
      }
     },
     "ec6ac57f2b27457ea1ba101222472e7a": {
      "model_module": "@jupyter-widgets/controls",
      "model_module_version": "1.5.0",
      "model_name": "ProgressStyleModel",
      "state": {
       "description_width": "initial"
      }
     },
     "eca915375d144165b2357511dfd5fa72": {
      "model_module": "@jupyter-widgets/controls",
      "model_module_version": "1.5.0",
      "model_name": "HTMLModel",
      "state": {
       "layout": "IPY_MODEL_3a0cb2e847864106ab7eaed34b5ab0c4",
       "style": "IPY_MODEL_78540d5ce3fc4426bc61bc7b66ba56df",
       "value": " ETA: 00:00s - loss: 1.7175 - val_loss: 1.7485"
      }
     },
     "ed69596acceb4a6da4820fa01d71f19a": {
      "model_module": "@jupyter-widgets/controls",
      "model_module_version": "1.5.0",
      "model_name": "ProgressStyleModel",
      "state": {
       "description_width": "initial"
      }
     },
     "eda34a59f47641a786a7994981a77d99": {
      "model_module": "@jupyter-widgets/controls",
      "model_module_version": "1.5.0",
      "model_name": "DescriptionStyleModel",
      "state": {
       "description_width": ""
      }
     },
     "edbf08c487034d14adb0684b31527ea9": {
      "model_module": "@jupyter-widgets/controls",
      "model_module_version": "1.5.0",
      "model_name": "FloatProgressModel",
      "state": {
       "bar_style": "success",
       "description": "5625/5625",
       "layout": "IPY_MODEL_e425c80fc2a74998a2370f063ff6e773",
       "max": 5625,
       "style": "IPY_MODEL_36fa541aef214918853f4bfb3c3a8a60",
       "value": 5625
      }
     },
     "ee17289b9ef048afb40e49ffc12d9918": {
      "model_module": "@jupyter-widgets/base",
      "model_module_version": "1.2.0",
      "model_name": "LayoutModel",
      "state": {
       "flex": "2"
      }
     },
     "ee4b8c093f5d4c239df328268b2ed6fa": {
      "model_module": "@jupyter-widgets/controls",
      "model_module_version": "1.5.0",
      "model_name": "ProgressStyleModel",
      "state": {
       "description_width": "initial"
      }
     },
     "ee5ecf08f3d842e1b3714847c094be58": {
      "model_module": "@jupyter-widgets/controls",
      "model_module_version": "1.5.0",
      "model_name": "ProgressStyleModel",
      "state": {
       "description_width": "initial"
      }
     },
     "ee660deddc014aab87e0564ede4a78d6": {
      "model_module": "@jupyter-widgets/controls",
      "model_module_version": "1.5.0",
      "model_name": "ProgressStyleModel",
      "state": {
       "description_width": "initial"
      }
     },
     "ee6cb34423d946f5bbfbbd96f3ff2fbd": {
      "model_module": "@jupyter-widgets/controls",
      "model_module_version": "1.5.0",
      "model_name": "FloatProgressModel",
      "state": {
       "bar_style": "success",
       "description": "5625/5625",
       "layout": "IPY_MODEL_cb3579a0b3ba45a78f14afd69643dc69",
       "max": 5625,
       "style": "IPY_MODEL_f8cdcc8e0ebf42e5847f4033bfaed328",
       "value": 5625
      }
     },
     "ee9c3574fe57467fafacd4a7bebf2212": {
      "model_module": "@jupyter-widgets/base",
      "model_module_version": "1.2.0",
      "model_name": "LayoutModel",
      "state": {
       "flex": "2"
      }
     },
     "ef8510e232b64024a25bb6f13306c82e": {
      "model_module": "@jupyter-widgets/base",
      "model_module_version": "1.2.0",
      "model_name": "LayoutModel",
      "state": {
       "flex": "2"
      }
     },
     "ef96d75ef169428fabb629174eecc11f": {
      "model_module": "@jupyter-widgets/controls",
      "model_module_version": "1.5.0",
      "model_name": "ProgressStyleModel",
      "state": {
       "description_width": "initial"
      }
     },
     "efa82fc688d647679752e0304bef4c91": {
      "model_module": "@jupyter-widgets/controls",
      "model_module_version": "1.5.0",
      "model_name": "DescriptionStyleModel",
      "state": {
       "description_width": ""
      }
     },
     "efacbdc2dbb441c6871d9f6558457cb7": {
      "model_module": "@jupyter-widgets/base",
      "model_module_version": "1.2.0",
      "model_name": "LayoutModel",
      "state": {
       "display": "inline-flex",
       "flex_flow": "row wrap",
       "width": "100%"
      }
     },
     "efbcdc32fa3f4bd78a4e63d674af77d9": {
      "model_module": "@jupyter-widgets/base",
      "model_module_version": "1.2.0",
      "model_name": "LayoutModel",
      "state": {
       "display": "inline-flex",
       "flex_flow": "row wrap",
       "width": "100%"
      }
     },
     "f0e6c056fe7244e1a87a6919cdf69f10": {
      "model_module": "@jupyter-widgets/controls",
      "model_module_version": "1.5.0",
      "model_name": "HBoxModel",
      "state": {
       "children": [
        "IPY_MODEL_141364fc21f34107830ba8d7eda92c58",
        "IPY_MODEL_d7be59fc23cb4aa5bc3f7fa9df436b21"
       ],
       "layout": "IPY_MODEL_405c097d037649be870b7d14b2363ba7"
      }
     },
     "f16b5803d36a40f69f31d97554fc5a03": {
      "model_module": "@jupyter-widgets/controls",
      "model_module_version": "1.5.0",
      "model_name": "HTMLModel",
      "state": {
       "layout": "IPY_MODEL_6852326e5df54230b1da79af14914fc2",
       "style": "IPY_MODEL_f748bb68dc7d4f6ea0973c3f723d696b",
       "value": " ETA: 00:00s - loss: 2.2086 - val_loss: 2.2663"
      }
     },
     "f185c52b0390495e97d4faf24c6f3dfe": {
      "model_module": "@jupyter-widgets/controls",
      "model_module_version": "1.5.0",
      "model_name": "FloatProgressModel",
      "state": {
       "bar_style": "success",
       "description": "2813/2813",
       "layout": "IPY_MODEL_e0b4c454c9714bad930bab7c958e8ffe",
       "max": 2813,
       "style": "IPY_MODEL_f96b3127b18c43f0bf69bd376dbaa4b3",
       "value": 2813
      }
     },
     "f1923eb588ef428da5cc7aaeabca1da4": {
      "model_module": "@jupyter-widgets/controls",
      "model_module_version": "1.5.0",
      "model_name": "FloatProgressModel",
      "state": {
       "bar_style": "success",
       "description": "5625/5625",
       "layout": "IPY_MODEL_7236c35076a140a791c82eff6c12af27",
       "max": 5625,
       "style": "IPY_MODEL_a7825d31e4d74e329436e6dc2354508b",
       "value": 5625
      }
     },
     "f2e7b7261b9d4f90a49a28775098ec01": {
      "model_module": "@jupyter-widgets/base",
      "model_module_version": "1.2.0",
      "model_name": "LayoutModel",
      "state": {
       "display": "inline-flex",
       "flex_flow": "row wrap",
       "width": "100%"
      }
     },
     "f2ec03584f404b9492354b19fac0beec": {
      "model_module": "@jupyter-widgets/controls",
      "model_module_version": "1.5.0",
      "model_name": "FloatProgressModel",
      "state": {
       "bar_style": "success",
       "description": "5625/5625",
       "layout": "IPY_MODEL_36ccf664d0ed486ab16a5460812d430b",
       "max": 5625,
       "style": "IPY_MODEL_39fa96683f05421eb30c9ee79ca2c2e2",
       "value": 5625
      }
     },
     "f32f472702fc4a1da0cd9dfadfa24316": {
      "model_module": "@jupyter-widgets/controls",
      "model_module_version": "1.5.0",
      "model_name": "FloatProgressModel",
      "state": {
       "bar_style": "danger",
       "description": "Training:   4%",
       "layout": "IPY_MODEL_2bf1c9139120429395a14075c243a7c9",
       "max": 1000,
       "style": "IPY_MODEL_e8e45e7f951f42ce807c6609b4972c71",
       "value": 43
      }
     },
     "f350f7ad3c9c48918b7cb781304f742a": {
      "model_module": "@jupyter-widgets/controls",
      "model_module_version": "1.5.0",
      "model_name": "HTMLModel",
      "state": {
       "layout": "IPY_MODEL_f651e99daa7b4970aaad17c5748451ae",
       "style": "IPY_MODEL_21136710be0047aa860ed4ce59abb1be",
       "value": " ETA: 00:00s - loss: 2.2449 - val_loss: 2.1818"
      }
     },
     "f377040b6a894bb5bb1e54c408151a08": {
      "model_module": "@jupyter-widgets/base",
      "model_module_version": "1.2.0",
      "model_name": "LayoutModel",
      "state": {
       "flex": "2"
      }
     },
     "f382d3f17b7a421da33f1f408a6f3d64": {
      "model_module": "@jupyter-widgets/base",
      "model_module_version": "1.2.0",
      "model_name": "LayoutModel",
      "state": {}
     },
     "f39ffc854a7b44788fdb26357f73a31f": {
      "model_module": "@jupyter-widgets/base",
      "model_module_version": "1.2.0",
      "model_name": "LayoutModel",
      "state": {
       "display": "inline-flex",
       "flex_flow": "row wrap",
       "width": "100%"
      }
     },
     "f44a35f8e0de4ff7b7cea4c7e99f01ef": {
      "model_module": "@jupyter-widgets/controls",
      "model_module_version": "1.5.0",
      "model_name": "ProgressStyleModel",
      "state": {
       "description_width": "initial"
      }
     },
     "f4522921b1c8414c884401439fae3cda": {
      "model_module": "@jupyter-widgets/controls",
      "model_module_version": "1.5.0",
      "model_name": "ProgressStyleModel",
      "state": {
       "description_width": "initial"
      }
     },
     "f45e7f0ba2a94e369645824ef49e7b13": {
      "model_module": "@jupyter-widgets/base",
      "model_module_version": "1.2.0",
      "model_name": "LayoutModel",
      "state": {
       "display": "inline-flex",
       "flex_flow": "row wrap",
       "width": "100%"
      }
     },
     "f4b377d99124448aa3354153ef4c981e": {
      "model_module": "@jupyter-widgets/controls",
      "model_module_version": "1.5.0",
      "model_name": "DescriptionStyleModel",
      "state": {
       "description_width": ""
      }
     },
     "f506eeab371e49c7a127442d692f6bd1": {
      "model_module": "@jupyter-widgets/controls",
      "model_module_version": "1.5.0",
      "model_name": "HTMLModel",
      "state": {
       "layout": "IPY_MODEL_aa6b86634d5448b5a6eb42e00ddd7106",
       "style": "IPY_MODEL_e204be5817fe492084262f0e3a435a35",
       "value": " ETA: 00:00s - loss: 2.1873 - val_loss: 2.1281"
      }
     },
     "f5be3bc881a2441eb357fec8fc314d27": {
      "model_module": "@jupyter-widgets/controls",
      "model_module_version": "1.5.0",
      "model_name": "HTMLModel",
      "state": {
       "layout": "IPY_MODEL_51e4f0446d654a66b5bee1228fe0e9c7",
       "style": "IPY_MODEL_58529179a89a48b7af2dac4de9220cae",
       "value": " ETA: 00:00s - loss: 2.4318 - val_loss: 2.1359"
      }
     },
     "f651e99daa7b4970aaad17c5748451ae": {
      "model_module": "@jupyter-widgets/base",
      "model_module_version": "1.2.0",
      "model_name": "LayoutModel",
      "state": {}
     },
     "f673b1c4bc3b4c6883c781ecea01f0fd": {
      "model_module": "@jupyter-widgets/controls",
      "model_module_version": "1.5.0",
      "model_name": "FloatProgressModel",
      "state": {
       "bar_style": "success",
       "description": "2813/2813",
       "layout": "IPY_MODEL_6941c0046e94415c9419149d73cd3908",
       "max": 2813,
       "style": "IPY_MODEL_cca3e55fb520496e87c6bc614ae25b37",
       "value": 2813
      }
     },
     "f6dc84955d4c4f2bb7c403b58b8d23fd": {
      "model_module": "@jupyter-widgets/controls",
      "model_module_version": "1.5.0",
      "model_name": "FloatProgressModel",
      "state": {
       "bar_style": "success",
       "description": "5625/5625",
       "layout": "IPY_MODEL_e587142a11ef4a39a6bf6529b81217fa",
       "max": 5625,
       "style": "IPY_MODEL_3f8f0549eae24f9a9278cf5668e163b7",
       "value": 5625
      }
     },
     "f71255bc3d324d24b13ef982b3c9cf8d": {
      "model_module": "@jupyter-widgets/controls",
      "model_module_version": "1.5.0",
      "model_name": "HTMLModel",
      "state": {
       "layout": "IPY_MODEL_03db5fc577bf4a81b80a305def9b3523",
       "style": "IPY_MODEL_d1c63c3e69cc4589a2ae82df695e0eb3",
       "value": " ETA: 00:00s - loss: 1.1570 - val_loss: 1.8536"
      }
     },
     "f748bb68dc7d4f6ea0973c3f723d696b": {
      "model_module": "@jupyter-widgets/controls",
      "model_module_version": "1.5.0",
      "model_name": "DescriptionStyleModel",
      "state": {
       "description_width": ""
      }
     },
     "f8746c2ddfa7427f8f0374c5cfdfe9b9": {
      "model_module": "@jupyter-widgets/base",
      "model_module_version": "1.2.0",
      "model_name": "LayoutModel",
      "state": {}
     },
     "f8b45a57431049cc8c04b3c47e587ce2": {
      "model_module": "@jupyter-widgets/base",
      "model_module_version": "1.2.0",
      "model_name": "LayoutModel",
      "state": {
       "display": "inline-flex",
       "flex_flow": "row wrap",
       "width": "100%"
      }
     },
     "f8cdcc8e0ebf42e5847f4033bfaed328": {
      "model_module": "@jupyter-widgets/controls",
      "model_module_version": "1.5.0",
      "model_name": "ProgressStyleModel",
      "state": {
       "description_width": "initial"
      }
     },
     "f8daa9dc4bf14e63b50762cfbcc85aba": {
      "model_module": "@jupyter-widgets/controls",
      "model_module_version": "1.5.0",
      "model_name": "FloatProgressModel",
      "state": {
       "bar_style": "success",
       "description": "2813/2813",
       "layout": "IPY_MODEL_d029ed2493954e1e8fbf71e72b7bd2f9",
       "max": 2813,
       "style": "IPY_MODEL_8731ff8369684ad7af5c98975a8116cb",
       "value": 2813
      }
     },
     "f940018610ea4c9b99270fa933aeef55": {
      "model_module": "@jupyter-widgets/controls",
      "model_module_version": "1.5.0",
      "model_name": "HTMLModel",
      "state": {
       "layout": "IPY_MODEL_279b7e4cce0e48dcb777cd240964139e",
       "style": "IPY_MODEL_3f88aa97e3fb4e81a1c58cfca6083a1e",
       "value": " ETA: 00:00s - loss: 1.7140 - val_loss: 1.7402"
      }
     },
     "f96b3127b18c43f0bf69bd376dbaa4b3": {
      "model_module": "@jupyter-widgets/controls",
      "model_module_version": "1.5.0",
      "model_name": "ProgressStyleModel",
      "state": {
       "description_width": "initial"
      }
     },
     "f998ab0f2b724da69a6cc1f8d2f80a30": {
      "model_module": "@jupyter-widgets/controls",
      "model_module_version": "1.5.0",
      "model_name": "HTMLModel",
      "state": {
       "layout": "IPY_MODEL_0f3d9d37bcbe4307b7b20f6a54e1a075",
       "style": "IPY_MODEL_51673063f920448a8368dd154a701a3f",
       "value": " ETA: 00:00s - loss: 2.9142 - val_loss: 2.6870"
      }
     },
     "f9ba4e098eb247f4aca1da531962ce49": {
      "model_module": "@jupyter-widgets/controls",
      "model_module_version": "1.5.0",
      "model_name": "FloatProgressModel",
      "state": {
       "bar_style": "success",
       "description": "5625/5625",
       "layout": "IPY_MODEL_cfd6a4ed00d34ccb95ac22d69a0912cc",
       "max": 5625,
       "style": "IPY_MODEL_e3ccd19b27634c58b9e19bf0b3065b97",
       "value": 5625
      }
     },
     "f9d1de0dc81c4d9bacea41e627cb6572": {
      "model_module": "@jupyter-widgets/controls",
      "model_module_version": "1.5.0",
      "model_name": "HTMLModel",
      "state": {
       "layout": "IPY_MODEL_5b8e5e5318a14d3b8e736e376bba7c82",
       "style": "IPY_MODEL_9bb85a4a7ef24e10b52542d419b5d7a7",
       "value": " ETA: 00:00s - loss: 2.3077 - val_loss: 2.2436"
      }
     },
     "f9dd26a091e84a828ae58ccdd3aef4ec": {
      "model_module": "@jupyter-widgets/controls",
      "model_module_version": "1.5.0",
      "model_name": "HBoxModel",
      "state": {
       "children": [
        "IPY_MODEL_c9a7d6ef3efa4349b1c97415e4e3fe12",
        "IPY_MODEL_048b63fc2a0f43d5bdbd2261c6015743"
       ],
       "layout": "IPY_MODEL_aa352e06ad654913957279fc688db0fa"
      }
     },
     "f9f55ac152ba42fd9847a5a7a29eb8c4": {
      "model_module": "@jupyter-widgets/controls",
      "model_module_version": "1.5.0",
      "model_name": "DescriptionStyleModel",
      "state": {
       "description_width": ""
      }
     },
     "fa0403d0c18349e99aca690415880064": {
      "model_module": "@jupyter-widgets/base",
      "model_module_version": "1.2.0",
      "model_name": "LayoutModel",
      "state": {}
     },
     "fa3d726019104deeb9a8926892f18703": {
      "model_module": "@jupyter-widgets/base",
      "model_module_version": "1.2.0",
      "model_name": "LayoutModel",
      "state": {}
     },
     "faeecec72eb7472db0e49a7149068167": {
      "model_module": "@jupyter-widgets/controls",
      "model_module_version": "1.5.0",
      "model_name": "HBoxModel",
      "state": {
       "children": [
        "IPY_MODEL_f8daa9dc4bf14e63b50762cfbcc85aba",
        "IPY_MODEL_0f44bd0a6f37444b8d64f2f4f465924e"
       ],
       "layout": "IPY_MODEL_1138f465295f4aeea53112190518f9a9"
      }
     },
     "fb1b0aefb9204629bdf03f25a76a2e9e": {
      "model_module": "@jupyter-widgets/base",
      "model_module_version": "1.2.0",
      "model_name": "LayoutModel",
      "state": {
       "flex": "2"
      }
     },
     "fb758f7806b842dfaeb7d4c2d8b1b830": {
      "model_module": "@jupyter-widgets/base",
      "model_module_version": "1.2.0",
      "model_name": "LayoutModel",
      "state": {
       "flex": "2"
      }
     },
     "fc14d7a7a8904c499394e9717b26f93b": {
      "model_module": "@jupyter-widgets/controls",
      "model_module_version": "1.5.0",
      "model_name": "HBoxModel",
      "state": {
       "children": [
        "IPY_MODEL_9fd199fb9c3c47288908b824c992082d",
        "IPY_MODEL_71ffc0a98ade4f5aa7173f3b487672f8"
       ],
       "layout": "IPY_MODEL_508f4d22c99f456193958089e3d27e0b"
      }
     },
     "fc6789cd997a4e4a8ddf0e3e529125fa": {
      "model_module": "@jupyter-widgets/base",
      "model_module_version": "1.2.0",
      "model_name": "LayoutModel",
      "state": {
       "flex": "2"
      }
     },
     "fcb39d7975d7442cbeaaf8801ca20c57": {
      "model_module": "@jupyter-widgets/controls",
      "model_module_version": "1.5.0",
      "model_name": "HTMLModel",
      "state": {
       "layout": "IPY_MODEL_63f97a4d87ff4243bc5acd35c21e412b",
       "style": "IPY_MODEL_34efbe2970aa4711b7bf408e827728c4",
       "value": " ETA: 00:00s - loss: 1.1806 - val_loss: 1.8345"
      }
     },
     "fd295a5c04954e7ea1a9401434cab982": {
      "model_module": "@jupyter-widgets/controls",
      "model_module_version": "1.5.0",
      "model_name": "DescriptionStyleModel",
      "state": {
       "description_width": ""
      }
     },
     "fd400fa475c54aa9aae0947962391850": {
      "model_module": "@jupyter-widgets/controls",
      "model_module_version": "1.5.0",
      "model_name": "DescriptionStyleModel",
      "state": {
       "description_width": ""
      }
     },
     "fd6da3140c3c46b183c08e8da765c0eb": {
      "model_module": "@jupyter-widgets/base",
      "model_module_version": "1.2.0",
      "model_name": "LayoutModel",
      "state": {}
     },
     "fd6da93fb4584691979ee52dd3723c61": {
      "model_module": "@jupyter-widgets/controls",
      "model_module_version": "1.5.0",
      "model_name": "HTMLModel",
      "state": {
       "layout": "IPY_MODEL_d6edf495929b4b518b8aeab3deb0d4b3",
       "style": "IPY_MODEL_ec1cf4d882634c60a4af146085e361ac",
       "value": " ETA: 00:00s - loss: 2.3141 - val_loss: 2.1703"
      }
     },
     "fd7a4e253a724fe68b464c7a29b061d8": {
      "model_module": "@jupyter-widgets/base",
      "model_module_version": "1.2.0",
      "model_name": "LayoutModel",
      "state": {
       "flex": "2"
      }
     },
     "fd92959d9f8248d5a5e60e62e4ea5dca": {
      "model_module": "@jupyter-widgets/controls",
      "model_module_version": "1.5.0",
      "model_name": "FloatProgressModel",
      "state": {
       "bar_style": "success",
       "description": "2813/2813",
       "layout": "IPY_MODEL_1468659355e14fb0ba7e617ed1ad7990",
       "max": 2813,
       "style": "IPY_MODEL_a10de80a2619425ab21f1fc7d93bc872",
       "value": 2813
      }
     },
     "fdef4e7838e940bf967f63f18db9cd45": {
      "model_module": "@jupyter-widgets/base",
      "model_module_version": "1.2.0",
      "model_name": "LayoutModel",
      "state": {}
     },
     "fe0309953c2147eba6f45875a0b065b6": {
      "model_module": "@jupyter-widgets/controls",
      "model_module_version": "1.5.0",
      "model_name": "DescriptionStyleModel",
      "state": {
       "description_width": ""
      }
     },
     "fe5a2f8fef4e4311be8d0446d9a070b2": {
      "model_module": "@jupyter-widgets/controls",
      "model_module_version": "1.5.0",
      "model_name": "ProgressStyleModel",
      "state": {
       "description_width": "initial"
      }
     },
     "feb35c2a2a6e431e87aa96d2d024b24f": {
      "model_module": "@jupyter-widgets/controls",
      "model_module_version": "1.5.0",
      "model_name": "DescriptionStyleModel",
      "state": {
       "description_width": ""
      }
     },
     "ff1d30ab882449bab3ed6a04227dd78f": {
      "model_module": "@jupyter-widgets/controls",
      "model_module_version": "1.5.0",
      "model_name": "HBoxModel",
      "state": {
       "children": [
        "IPY_MODEL_c797cd16836f4c36a9846fe16e7da0df",
        "IPY_MODEL_128bd4ced7544c7c9b594700d024fa4d"
       ],
       "layout": "IPY_MODEL_3f38375cbabe48dbb74e8f79c21b891f"
      }
     },
     "ff4722c901e5407791ad373a60231ec2": {
      "model_module": "@jupyter-widgets/controls",
      "model_module_version": "1.5.0",
      "model_name": "HBoxModel",
      "state": {
       "children": [
        "IPY_MODEL_ee6cb34423d946f5bbfbbd96f3ff2fbd",
        "IPY_MODEL_1a5490f783d54a0caf82ce33c318e19b"
       ],
       "layout": "IPY_MODEL_4d3f03b19c08439fa9ed663dbe72d392"
      }
     },
     "ff49d0bd463042fd85d8b3bc3773d013": {
      "model_module": "@jupyter-widgets/base",
      "model_module_version": "1.2.0",
      "model_name": "LayoutModel",
      "state": {}
     },
     "ff56bda42e234a01a63f3560e846549c": {
      "model_module": "@jupyter-widgets/controls",
      "model_module_version": "1.5.0",
      "model_name": "HTMLModel",
      "state": {
       "layout": "IPY_MODEL_3a2dacce319a4fdca53b9687b71a2b55",
       "style": "IPY_MODEL_ac09eb50c9984c618cdbc18df773313b",
       "value": " ETA: 00:00s - loss: 1.7257 - val_loss: 1.7051"
      }
     },
     "ff9efe55eff64c3c968457248f72cbbc": {
      "model_module": "@jupyter-widgets/controls",
      "model_module_version": "1.5.0",
      "model_name": "DescriptionStyleModel",
      "state": {
       "description_width": ""
      }
     }
    },
    "version_major": 2,
    "version_minor": 0
   }
  }
 },
 "nbformat": 4,
 "nbformat_minor": 2
}
