{
 "cells": [
  {
   "cell_type": "code",
   "execution_count": 1,
   "metadata": {},
   "outputs": [],
   "source": [
    "import os\n",
    "os.environ[\"CUDA_VISIBLE_DEVICES\"] = \"3\""
   ]
  },
  {
   "cell_type": "code",
   "execution_count": 2,
   "metadata": {},
   "outputs": [],
   "source": [
    "from pathlib import Path\n",
    "import numpy as np\n",
    "import matplotlib.pyplot as plt\n",
    "\n",
    "import tensorflow as tf\n",
    "from tensorflow.python.keras.layers import Add, Conv2D, Input, Lambda\n",
    "from tensorflow.python.keras.models import Model\n",
    "from tensorflow.keras.layers.experimental import preprocessing\n",
    "from tensorflow.python.util import nest\n",
    "\n",
    "from tensorflow.keras.callbacks import EarlyStopping, ModelCheckpoint\n",
    "from tensorflow.keras.optimizers import Adam\n",
    "from tensorflow_addons.callbacks import TQDMProgressBar\n",
    "\n",
    "%run ../gridsearch/xception.ipynb"
   ]
  },
  {
   "cell_type": "code",
   "execution_count": 3,
   "metadata": {},
   "outputs": [
    {
     "name": "stdout",
     "output_type": "stream",
     "text": [
      "Available variables: ['img', 'img_nonoise', 'label', 'psf_r', 'snr', 'sigma']\n"
     ]
    }
   ],
   "source": [
    "# A separate dataset for training a denoising network with fixed PSF and fixed noise\n",
    "# Starting random seed for data generation 2314662\n",
    "basedir = Path(\"../../\")\n",
    "dataset = basedir / \"./data/data_v1a.npz\"\n",
    "modelpath = \"edsr.tf\"\n",
    "\n",
    "with np.load(dataset) as data:\n",
    "    print(\"Available variables:\", data.files)\n",
    "    noisy = data[\"img\"]\n",
    "    noiseless = data[\"img_nonoise\"]"
   ]
  },
  {
   "cell_type": "code",
   "execution_count": 4,
   "metadata": {},
   "outputs": [],
   "source": [
    "subset = 100_000\n",
    "X = noisy[:subset, ..., np.newaxis]\n",
    "Y = noiseless[:subset, ..., np.newaxis]\n",
    "\n",
    "input_shape = X.shape[1:]"
   ]
  },
  {
   "cell_type": "code",
   "execution_count": 5,
   "metadata": {},
   "outputs": [],
   "source": [
    "def edsr(input_shape, num_filters=64, num_res_blocks=8, res_block_scaling=None):\n",
    "    x_in = Input(shape=input_shape)\n",
    "    x = preprocessing.Normalization()(x_in)\n",
    "\n",
    "    x = b = Conv2D(num_filters, 3, padding='same')(x)\n",
    "    for i in range(num_res_blocks):\n",
    "        b = res_block(b, num_filters, res_block_scaling)\n",
    "    b = Conv2D(num_filters, 3, padding='same')(b)\n",
    "    x = Add()([x, b])\n",
    "\n",
    "    x = Conv2D(1, 3, padding='same')(x)\n",
    "\n",
    "    return Model(x_in, x, name=\"edsr\")\n",
    "\n",
    "\n",
    "def res_block(x_in, filters, scaling):\n",
    "    x = Conv2D(filters, 3, padding='same', activation='relu')(x_in)\n",
    "    x = Conv2D(filters, 3, padding='same')(x)\n",
    "    if scaling:\n",
    "        x = Lambda(lambda t: t * scaling)(x)\n",
    "    x = Add()([x_in, x])\n",
    "    return x"
   ]
  },
  {
   "cell_type": "code",
   "execution_count": 6,
   "metadata": {
    "scrolled": true
   },
   "outputs": [
    {
     "name": "stdout",
     "output_type": "stream",
     "text": [
      "Model: \"edsr\"\n",
      "__________________________________________________________________________________________________\n",
      "Layer (type)                    Output Shape         Param #     Connected to                     \n",
      "==================================================================================================\n",
      "input_1 (InputLayer)            [(None, 64, 64, 1)]  0                                            \n",
      "__________________________________________________________________________________________________\n",
      "normalization (Normalization)   (None, 64, 64, 1)    3           input_1[0][0]                    \n",
      "__________________________________________________________________________________________________\n",
      "conv2d (Conv2D)                 (None, 64, 64, 256)  2560        normalization[0][0]              \n",
      "__________________________________________________________________________________________________\n",
      "conv2d_1 (Conv2D)               (None, 64, 64, 256)  590080      conv2d[0][0]                     \n",
      "__________________________________________________________________________________________________\n",
      "conv2d_2 (Conv2D)               (None, 64, 64, 256)  590080      conv2d_1[0][0]                   \n",
      "__________________________________________________________________________________________________\n",
      "lambda (Lambda)                 (None, 64, 64, 256)  0           conv2d_2[0][0]                   \n",
      "__________________________________________________________________________________________________\n",
      "add (Add)                       (None, 64, 64, 256)  0           conv2d[0][0]                     \n",
      "                                                                 lambda[0][0]                     \n",
      "__________________________________________________________________________________________________\n",
      "conv2d_3 (Conv2D)               (None, 64, 64, 256)  590080      add[0][0]                        \n",
      "__________________________________________________________________________________________________\n",
      "conv2d_4 (Conv2D)               (None, 64, 64, 256)  590080      conv2d_3[0][0]                   \n",
      "__________________________________________________________________________________________________\n",
      "lambda_1 (Lambda)               (None, 64, 64, 256)  0           conv2d_4[0][0]                   \n",
      "__________________________________________________________________________________________________\n",
      "add_1 (Add)                     (None, 64, 64, 256)  0           add[0][0]                        \n",
      "                                                                 lambda_1[0][0]                   \n",
      "__________________________________________________________________________________________________\n",
      "conv2d_5 (Conv2D)               (None, 64, 64, 256)  590080      add_1[0][0]                      \n",
      "__________________________________________________________________________________________________\n",
      "conv2d_6 (Conv2D)               (None, 64, 64, 256)  590080      conv2d_5[0][0]                   \n",
      "__________________________________________________________________________________________________\n",
      "lambda_2 (Lambda)               (None, 64, 64, 256)  0           conv2d_6[0][0]                   \n",
      "__________________________________________________________________________________________________\n",
      "add_2 (Add)                     (None, 64, 64, 256)  0           add_1[0][0]                      \n",
      "                                                                 lambda_2[0][0]                   \n",
      "__________________________________________________________________________________________________\n",
      "conv2d_7 (Conv2D)               (None, 64, 64, 256)  590080      add_2[0][0]                      \n",
      "__________________________________________________________________________________________________\n",
      "conv2d_8 (Conv2D)               (None, 64, 64, 256)  590080      conv2d_7[0][0]                   \n",
      "__________________________________________________________________________________________________\n",
      "lambda_3 (Lambda)               (None, 64, 64, 256)  0           conv2d_8[0][0]                   \n",
      "__________________________________________________________________________________________________\n",
      "add_3 (Add)                     (None, 64, 64, 256)  0           add_2[0][0]                      \n",
      "                                                                 lambda_3[0][0]                   \n",
      "__________________________________________________________________________________________________\n",
      "conv2d_9 (Conv2D)               (None, 64, 64, 256)  590080      add_3[0][0]                      \n",
      "__________________________________________________________________________________________________\n",
      "conv2d_10 (Conv2D)              (None, 64, 64, 256)  590080      conv2d_9[0][0]                   \n",
      "__________________________________________________________________________________________________\n",
      "lambda_4 (Lambda)               (None, 64, 64, 256)  0           conv2d_10[0][0]                  \n",
      "__________________________________________________________________________________________________\n",
      "add_4 (Add)                     (None, 64, 64, 256)  0           add_3[0][0]                      \n",
      "                                                                 lambda_4[0][0]                   \n",
      "__________________________________________________________________________________________________\n",
      "conv2d_11 (Conv2D)              (None, 64, 64, 256)  590080      add_4[0][0]                      \n",
      "__________________________________________________________________________________________________\n",
      "conv2d_12 (Conv2D)              (None, 64, 64, 256)  590080      conv2d_11[0][0]                  \n",
      "__________________________________________________________________________________________________\n",
      "lambda_5 (Lambda)               (None, 64, 64, 256)  0           conv2d_12[0][0]                  \n",
      "__________________________________________________________________________________________________\n",
      "add_5 (Add)                     (None, 64, 64, 256)  0           add_4[0][0]                      \n",
      "                                                                 lambda_5[0][0]                   \n",
      "__________________________________________________________________________________________________\n",
      "conv2d_13 (Conv2D)              (None, 64, 64, 256)  590080      add_5[0][0]                      \n",
      "__________________________________________________________________________________________________\n",
      "conv2d_14 (Conv2D)              (None, 64, 64, 256)  590080      conv2d_13[0][0]                  \n",
      "__________________________________________________________________________________________________\n",
      "lambda_6 (Lambda)               (None, 64, 64, 256)  0           conv2d_14[0][0]                  \n",
      "__________________________________________________________________________________________________\n",
      "add_6 (Add)                     (None, 64, 64, 256)  0           add_5[0][0]                      \n",
      "                                                                 lambda_6[0][0]                   \n",
      "__________________________________________________________________________________________________\n",
      "conv2d_15 (Conv2D)              (None, 64, 64, 256)  590080      add_6[0][0]                      \n",
      "__________________________________________________________________________________________________\n",
      "conv2d_16 (Conv2D)              (None, 64, 64, 256)  590080      conv2d_15[0][0]                  \n",
      "__________________________________________________________________________________________________\n",
      "lambda_7 (Lambda)               (None, 64, 64, 256)  0           conv2d_16[0][0]                  \n",
      "__________________________________________________________________________________________________\n",
      "add_7 (Add)                     (None, 64, 64, 256)  0           add_6[0][0]                      \n",
      "                                                                 lambda_7[0][0]                   \n",
      "__________________________________________________________________________________________________\n",
      "conv2d_17 (Conv2D)              (None, 64, 64, 256)  590080      add_7[0][0]                      \n",
      "__________________________________________________________________________________________________\n",
      "conv2d_18 (Conv2D)              (None, 64, 64, 256)  590080      conv2d_17[0][0]                  \n",
      "__________________________________________________________________________________________________\n",
      "lambda_8 (Lambda)               (None, 64, 64, 256)  0           conv2d_18[0][0]                  \n",
      "__________________________________________________________________________________________________\n",
      "add_8 (Add)                     (None, 64, 64, 256)  0           add_7[0][0]                      \n",
      "                                                                 lambda_8[0][0]                   \n",
      "__________________________________________________________________________________________________\n",
      "conv2d_19 (Conv2D)              (None, 64, 64, 256)  590080      add_8[0][0]                      \n",
      "__________________________________________________________________________________________________\n",
      "conv2d_20 (Conv2D)              (None, 64, 64, 256)  590080      conv2d_19[0][0]                  \n",
      "__________________________________________________________________________________________________\n",
      "lambda_9 (Lambda)               (None, 64, 64, 256)  0           conv2d_20[0][0]                  \n",
      "__________________________________________________________________________________________________\n",
      "add_9 (Add)                     (None, 64, 64, 256)  0           add_8[0][0]                      \n",
      "                                                                 lambda_9[0][0]                   \n",
      "__________________________________________________________________________________________________\n",
      "conv2d_21 (Conv2D)              (None, 64, 64, 256)  590080      add_9[0][0]                      \n",
      "__________________________________________________________________________________________________\n",
      "conv2d_22 (Conv2D)              (None, 64, 64, 256)  590080      conv2d_21[0][0]                  \n",
      "__________________________________________________________________________________________________\n",
      "lambda_10 (Lambda)              (None, 64, 64, 256)  0           conv2d_22[0][0]                  \n",
      "__________________________________________________________________________________________________\n",
      "add_10 (Add)                    (None, 64, 64, 256)  0           add_9[0][0]                      \n",
      "                                                                 lambda_10[0][0]                  \n",
      "__________________________________________________________________________________________________\n",
      "conv2d_23 (Conv2D)              (None, 64, 64, 256)  590080      add_10[0][0]                     \n",
      "__________________________________________________________________________________________________\n",
      "conv2d_24 (Conv2D)              (None, 64, 64, 256)  590080      conv2d_23[0][0]                  \n",
      "__________________________________________________________________________________________________\n",
      "lambda_11 (Lambda)              (None, 64, 64, 256)  0           conv2d_24[0][0]                  \n",
      "__________________________________________________________________________________________________\n",
      "add_11 (Add)                    (None, 64, 64, 256)  0           add_10[0][0]                     \n",
      "                                                                 lambda_11[0][0]                  \n",
      "__________________________________________________________________________________________________\n",
      "conv2d_25 (Conv2D)              (None, 64, 64, 256)  590080      add_11[0][0]                     \n",
      "__________________________________________________________________________________________________\n",
      "conv2d_26 (Conv2D)              (None, 64, 64, 256)  590080      conv2d_25[0][0]                  \n",
      "__________________________________________________________________________________________________\n",
      "lambda_12 (Lambda)              (None, 64, 64, 256)  0           conv2d_26[0][0]                  \n",
      "__________________________________________________________________________________________________\n",
      "add_12 (Add)                    (None, 64, 64, 256)  0           add_11[0][0]                     \n",
      "                                                                 lambda_12[0][0]                  \n",
      "__________________________________________________________________________________________________\n",
      "conv2d_27 (Conv2D)              (None, 64, 64, 256)  590080      add_12[0][0]                     \n",
      "__________________________________________________________________________________________________\n",
      "conv2d_28 (Conv2D)              (None, 64, 64, 256)  590080      conv2d_27[0][0]                  \n",
      "__________________________________________________________________________________________________\n",
      "lambda_13 (Lambda)              (None, 64, 64, 256)  0           conv2d_28[0][0]                  \n",
      "__________________________________________________________________________________________________\n",
      "add_13 (Add)                    (None, 64, 64, 256)  0           add_12[0][0]                     \n",
      "                                                                 lambda_13[0][0]                  \n",
      "__________________________________________________________________________________________________\n",
      "conv2d_29 (Conv2D)              (None, 64, 64, 256)  590080      add_13[0][0]                     \n",
      "__________________________________________________________________________________________________\n",
      "conv2d_30 (Conv2D)              (None, 64, 64, 256)  590080      conv2d_29[0][0]                  \n",
      "__________________________________________________________________________________________________\n",
      "lambda_14 (Lambda)              (None, 64, 64, 256)  0           conv2d_30[0][0]                  \n",
      "__________________________________________________________________________________________________\n",
      "add_14 (Add)                    (None, 64, 64, 256)  0           add_13[0][0]                     \n",
      "                                                                 lambda_14[0][0]                  \n",
      "__________________________________________________________________________________________________\n",
      "conv2d_31 (Conv2D)              (None, 64, 64, 256)  590080      add_14[0][0]                     \n",
      "__________________________________________________________________________________________________\n",
      "conv2d_32 (Conv2D)              (None, 64, 64, 256)  590080      conv2d_31[0][0]                  \n",
      "__________________________________________________________________________________________________\n",
      "lambda_15 (Lambda)              (None, 64, 64, 256)  0           conv2d_32[0][0]                  \n",
      "__________________________________________________________________________________________________\n",
      "add_15 (Add)                    (None, 64, 64, 256)  0           add_14[0][0]                     \n",
      "                                                                 lambda_15[0][0]                  \n",
      "__________________________________________________________________________________________________\n",
      "conv2d_33 (Conv2D)              (None, 64, 64, 256)  590080      add_15[0][0]                     \n",
      "__________________________________________________________________________________________________\n",
      "add_16 (Add)                    (None, 64, 64, 256)  0           conv2d[0][0]                     \n",
      "                                                                 conv2d_33[0][0]                  \n",
      "__________________________________________________________________________________________________\n",
      "conv2d_34 (Conv2D)              (None, 64, 64, 1)    2305        add_16[0][0]                     \n",
      "==================================================================================================\n",
      "Total params: 19,477,508\n",
      "Trainable params: 19,477,505\n",
      "Non-trainable params: 3\n",
      "__________________________________________________________________________________________________\n"
     ]
    }
   ],
   "source": [
    "model = edsr(input_shape, num_filters=256, num_res_blocks=16, res_block_scaling=0.1)\n",
    "model.compile(optimizer=Adam(0.0001), loss=\"mae\")\n",
    "\n",
    "adapt_model(model, X)\n",
    "model.summary()"
   ]
  },
  {
   "cell_type": "code",
   "execution_count": 7,
   "metadata": {},
   "outputs": [
    {
     "data": {
      "application/vnd.jupyter.widget-view+json": {
       "model_id": "9d6f86e4c460476f8f5ebe8027587d64",
       "version_major": 2,
       "version_minor": 0
      },
      "text/plain": [
       "HBox(children=(FloatProgress(value=0.0, description='Training', layout=Layout(flex='2'), max=1000.0, style=Pro…"
      ]
     },
     "metadata": {},
     "output_type": "display_data"
    },
    {
     "name": "stdout",
     "output_type": "stream",
     "text": [
      "Epoch 1/1000\n"
     ]
    },
    {
     "data": {
      "application/vnd.jupyter.widget-view+json": {
       "model_id": "adb90b400bf346d0bfe09b6b3c52c0c1",
       "version_major": 2,
       "version_minor": 0
      },
      "text/plain": [
       "HBox(children=(FloatProgress(value=0.0, layout=Layout(flex='2'), max=2813.0), HTML(value='')), layout=Layout(d…"
      ]
     },
     "metadata": {},
     "output_type": "display_data"
    },
    {
     "name": "stdout",
     "output_type": "stream",
     "text": [
      "\n",
      "WARNING:tensorflow:From /usr/local/lib/python3.6/dist-packages/tensorflow_core/python/ops/resource_variable_ops.py:1786: calling BaseResourceVariable.__init__ (from tensorflow.python.ops.resource_variable_ops) with constraint is deprecated and will be removed in a future version.\n",
      "Instructions for updating:\n",
      "If using Keras pass *_constraint arguments to layers.\n",
      "INFO:tensorflow:Assets written to: edsr.tf/assets\n",
      "Epoch 2/1000\n"
     ]
    },
    {
     "data": {
      "application/vnd.jupyter.widget-view+json": {
       "model_id": "3749ee8a8ad949dcab4a19e89a5c890d",
       "version_major": 2,
       "version_minor": 0
      },
      "text/plain": [
       "HBox(children=(FloatProgress(value=0.0, layout=Layout(flex='2'), max=2813.0), HTML(value='')), layout=Layout(d…"
      ]
     },
     "metadata": {},
     "output_type": "display_data"
    },
    {
     "name": "stdout",
     "output_type": "stream",
     "text": [
      "\n",
      "INFO:tensorflow:Assets written to: edsr.tf/assets\n",
      "Epoch 3/1000\n"
     ]
    },
    {
     "data": {
      "application/vnd.jupyter.widget-view+json": {
       "model_id": "1a2ad377859f4655be47c63909ef6619",
       "version_major": 2,
       "version_minor": 0
      },
      "text/plain": [
       "HBox(children=(FloatProgress(value=0.0, layout=Layout(flex='2'), max=2813.0), HTML(value='')), layout=Layout(d…"
      ]
     },
     "metadata": {},
     "output_type": "display_data"
    },
    {
     "name": "stdout",
     "output_type": "stream",
     "text": [
      "\n",
      "Epoch 4/1000\n"
     ]
    },
    {
     "data": {
      "application/vnd.jupyter.widget-view+json": {
       "model_id": "8ae30c069fff4f3f9007a2033ab70197",
       "version_major": 2,
       "version_minor": 0
      },
      "text/plain": [
       "HBox(children=(FloatProgress(value=0.0, layout=Layout(flex='2'), max=2813.0), HTML(value='')), layout=Layout(d…"
      ]
     },
     "metadata": {},
     "output_type": "display_data"
    },
    {
     "name": "stdout",
     "output_type": "stream",
     "text": [
      "\n",
      "INFO:tensorflow:Assets written to: edsr.tf/assets\n",
      "Epoch 5/1000\n"
     ]
    },
    {
     "data": {
      "application/vnd.jupyter.widget-view+json": {
       "model_id": "d29cc008223e4ce1aef65a94bbbc6bde",
       "version_major": 2,
       "version_minor": 0
      },
      "text/plain": [
       "HBox(children=(FloatProgress(value=0.0, layout=Layout(flex='2'), max=2813.0), HTML(value='')), layout=Layout(d…"
      ]
     },
     "metadata": {},
     "output_type": "display_data"
    },
    {
     "name": "stdout",
     "output_type": "stream",
     "text": [
      "\n",
      "INFO:tensorflow:Assets written to: edsr.tf/assets\n",
      "Epoch 6/1000\n"
     ]
    },
    {
     "data": {
      "application/vnd.jupyter.widget-view+json": {
       "model_id": "bfc6ae2b36fa41d6b4c3228c5cab5acf",
       "version_major": 2,
       "version_minor": 0
      },
      "text/plain": [
       "HBox(children=(FloatProgress(value=0.0, layout=Layout(flex='2'), max=2813.0), HTML(value='')), layout=Layout(d…"
      ]
     },
     "metadata": {},
     "output_type": "display_data"
    },
    {
     "name": "stdout",
     "output_type": "stream",
     "text": [
      "\n",
      "INFO:tensorflow:Assets written to: edsr.tf/assets\n",
      "Epoch 7/1000\n"
     ]
    },
    {
     "data": {
      "application/vnd.jupyter.widget-view+json": {
       "model_id": "331bb65c746f4ec5ae97115bb9c0ae5e",
       "version_major": 2,
       "version_minor": 0
      },
      "text/plain": [
       "HBox(children=(FloatProgress(value=0.0, layout=Layout(flex='2'), max=2813.0), HTML(value='')), layout=Layout(d…"
      ]
     },
     "metadata": {},
     "output_type": "display_data"
    },
    {
     "name": "stdout",
     "output_type": "stream",
     "text": [
      "\n",
      "INFO:tensorflow:Assets written to: edsr.tf/assets\n",
      "Epoch 8/1000\n"
     ]
    },
    {
     "data": {
      "application/vnd.jupyter.widget-view+json": {
       "model_id": "bfe0578d3d174551b2dfea6b7822ced3",
       "version_major": 2,
       "version_minor": 0
      },
      "text/plain": [
       "HBox(children=(FloatProgress(value=0.0, layout=Layout(flex='2'), max=2813.0), HTML(value='')), layout=Layout(d…"
      ]
     },
     "metadata": {},
     "output_type": "display_data"
    },
    {
     "name": "stdout",
     "output_type": "stream",
     "text": [
      "\n",
      "INFO:tensorflow:Assets written to: edsr.tf/assets\n",
      "Epoch 9/1000\n"
     ]
    },
    {
     "data": {
      "application/vnd.jupyter.widget-view+json": {
       "model_id": "d466339eb0c84f428b816468c4e46922",
       "version_major": 2,
       "version_minor": 0
      },
      "text/plain": [
       "HBox(children=(FloatProgress(value=0.0, layout=Layout(flex='2'), max=2813.0), HTML(value='')), layout=Layout(d…"
      ]
     },
     "metadata": {},
     "output_type": "display_data"
    },
    {
     "name": "stdout",
     "output_type": "stream",
     "text": [
      "\n",
      "Epoch 10/1000\n"
     ]
    },
    {
     "data": {
      "application/vnd.jupyter.widget-view+json": {
       "model_id": "53c584568ab94b0ea04f7afc7baa8ecf",
       "version_major": 2,
       "version_minor": 0
      },
      "text/plain": [
       "HBox(children=(FloatProgress(value=0.0, layout=Layout(flex='2'), max=2813.0), HTML(value='')), layout=Layout(d…"
      ]
     },
     "metadata": {},
     "output_type": "display_data"
    },
    {
     "name": "stdout",
     "output_type": "stream",
     "text": [
      "\n",
      "INFO:tensorflow:Assets written to: edsr.tf/assets\n",
      "Epoch 11/1000\n"
     ]
    },
    {
     "data": {
      "application/vnd.jupyter.widget-view+json": {
       "model_id": "a063a7a0181e4999819fe94a9f7dd1be",
       "version_major": 2,
       "version_minor": 0
      },
      "text/plain": [
       "HBox(children=(FloatProgress(value=0.0, layout=Layout(flex='2'), max=2813.0), HTML(value='')), layout=Layout(d…"
      ]
     },
     "metadata": {},
     "output_type": "display_data"
    },
    {
     "name": "stdout",
     "output_type": "stream",
     "text": [
      "\n",
      "Epoch 12/1000\n"
     ]
    },
    {
     "data": {
      "application/vnd.jupyter.widget-view+json": {
       "model_id": "4d33eaa669854acbbfed52c9a073fbab",
       "version_major": 2,
       "version_minor": 0
      },
      "text/plain": [
       "HBox(children=(FloatProgress(value=0.0, layout=Layout(flex='2'), max=2813.0), HTML(value='')), layout=Layout(d…"
      ]
     },
     "metadata": {},
     "output_type": "display_data"
    },
    {
     "name": "stdout",
     "output_type": "stream",
     "text": [
      "\n",
      "Epoch 13/1000\n"
     ]
    },
    {
     "data": {
      "application/vnd.jupyter.widget-view+json": {
       "model_id": "bb34f7a1945847ef96a849cefad2deef",
       "version_major": 2,
       "version_minor": 0
      },
      "text/plain": [
       "HBox(children=(FloatProgress(value=0.0, layout=Layout(flex='2'), max=2813.0), HTML(value='')), layout=Layout(d…"
      ]
     },
     "metadata": {},
     "output_type": "display_data"
    },
    {
     "name": "stdout",
     "output_type": "stream",
     "text": [
      "\n",
      "INFO:tensorflow:Assets written to: edsr.tf/assets\n",
      "Epoch 14/1000\n"
     ]
    },
    {
     "data": {
      "application/vnd.jupyter.widget-view+json": {
       "model_id": "4bb3415d8c7146d2ac18708ee9a34b84",
       "version_major": 2,
       "version_minor": 0
      },
      "text/plain": [
       "HBox(children=(FloatProgress(value=0.0, layout=Layout(flex='2'), max=2813.0), HTML(value='')), layout=Layout(d…"
      ]
     },
     "metadata": {},
     "output_type": "display_data"
    },
    {
     "name": "stdout",
     "output_type": "stream",
     "text": [
      "\n",
      "INFO:tensorflow:Assets written to: edsr.tf/assets\n",
      "Epoch 15/1000\n"
     ]
    },
    {
     "data": {
      "application/vnd.jupyter.widget-view+json": {
       "model_id": "faeecec72eb7472db0e49a7149068167",
       "version_major": 2,
       "version_minor": 0
      },
      "text/plain": [
       "HBox(children=(FloatProgress(value=0.0, layout=Layout(flex='2'), max=2813.0), HTML(value='')), layout=Layout(d…"
      ]
     },
     "metadata": {},
     "output_type": "display_data"
    },
    {
     "name": "stdout",
     "output_type": "stream",
     "text": [
      "\n",
      "Epoch 16/1000\n"
     ]
    },
    {
     "data": {
      "application/vnd.jupyter.widget-view+json": {
       "model_id": "0faa1e0a2fd349b595effaaca30fe1a6",
       "version_major": 2,
       "version_minor": 0
      },
      "text/plain": [
       "HBox(children=(FloatProgress(value=0.0, layout=Layout(flex='2'), max=2813.0), HTML(value='')), layout=Layout(d…"
      ]
     },
     "metadata": {},
     "output_type": "display_data"
    },
    {
     "name": "stdout",
     "output_type": "stream",
     "text": [
      "\n",
      "INFO:tensorflow:Assets written to: edsr.tf/assets\n",
      "Epoch 17/1000\n"
     ]
    },
    {
     "data": {
      "application/vnd.jupyter.widget-view+json": {
       "model_id": "90657f569761461bb21295e8f6a163fc",
       "version_major": 2,
       "version_minor": 0
      },
      "text/plain": [
       "HBox(children=(FloatProgress(value=0.0, layout=Layout(flex='2'), max=2813.0), HTML(value='')), layout=Layout(d…"
      ]
     },
     "metadata": {},
     "output_type": "display_data"
    },
    {
     "name": "stdout",
     "output_type": "stream",
     "text": [
      "\n",
      "INFO:tensorflow:Assets written to: edsr.tf/assets\n",
      "Epoch 18/1000\n"
     ]
    },
    {
     "data": {
      "application/vnd.jupyter.widget-view+json": {
       "model_id": "af97ab5a40274bb58186340de9bbe8b5",
       "version_major": 2,
       "version_minor": 0
      },
      "text/plain": [
       "HBox(children=(FloatProgress(value=0.0, layout=Layout(flex='2'), max=2813.0), HTML(value='')), layout=Layout(d…"
      ]
     },
     "metadata": {},
     "output_type": "display_data"
    },
    {
     "name": "stdout",
     "output_type": "stream",
     "text": [
      "\n",
      "Epoch 19/1000\n"
     ]
    },
    {
     "data": {
      "application/vnd.jupyter.widget-view+json": {
       "model_id": "62fd6189309a4bb6ba5a9fee33436c7d",
       "version_major": 2,
       "version_minor": 0
      },
      "text/plain": [
       "HBox(children=(FloatProgress(value=0.0, layout=Layout(flex='2'), max=2813.0), HTML(value='')), layout=Layout(d…"
      ]
     },
     "metadata": {},
     "output_type": "display_data"
    },
    {
     "name": "stdout",
     "output_type": "stream",
     "text": [
      "\n",
      "Epoch 20/1000\n"
     ]
    },
    {
     "data": {
      "application/vnd.jupyter.widget-view+json": {
       "model_id": "6aeaae7ff1d04bfeb768f43aacc8f6e7",
       "version_major": 2,
       "version_minor": 0
      },
      "text/plain": [
       "HBox(children=(FloatProgress(value=0.0, layout=Layout(flex='2'), max=2813.0), HTML(value='')), layout=Layout(d…"
      ]
     },
     "metadata": {},
     "output_type": "display_data"
    },
    {
     "name": "stdout",
     "output_type": "stream",
     "text": [
      "\n",
      "Epoch 21/1000\n"
     ]
    },
    {
     "data": {
      "application/vnd.jupyter.widget-view+json": {
       "model_id": "3ca7bac772f44e75a72d6310fdfcd143",
       "version_major": 2,
       "version_minor": 0
      },
      "text/plain": [
       "HBox(children=(FloatProgress(value=0.0, layout=Layout(flex='2'), max=2813.0), HTML(value='')), layout=Layout(d…"
      ]
     },
     "metadata": {},
     "output_type": "display_data"
    },
    {
     "name": "stdout",
     "output_type": "stream",
     "text": [
      "\n",
      "INFO:tensorflow:Assets written to: edsr.tf/assets\n",
      "Epoch 22/1000\n"
     ]
    },
    {
     "data": {
      "application/vnd.jupyter.widget-view+json": {
       "model_id": "405e47f28b3b4d7f812de725769316ff",
       "version_major": 2,
       "version_minor": 0
      },
      "text/plain": [
       "HBox(children=(FloatProgress(value=0.0, layout=Layout(flex='2'), max=2813.0), HTML(value='')), layout=Layout(d…"
      ]
     },
     "metadata": {},
     "output_type": "display_data"
    },
    {
     "name": "stdout",
     "output_type": "stream",
     "text": [
      "\n",
      "Epoch 23/1000\n"
     ]
    },
    {
     "data": {
      "application/vnd.jupyter.widget-view+json": {
       "model_id": "748eced4f48149b89aa8c283d7cc45a5",
       "version_major": 2,
       "version_minor": 0
      },
      "text/plain": [
       "HBox(children=(FloatProgress(value=0.0, layout=Layout(flex='2'), max=2813.0), HTML(value='')), layout=Layout(d…"
      ]
     },
     "metadata": {},
     "output_type": "display_data"
    },
    {
     "name": "stdout",
     "output_type": "stream",
     "text": [
      "\n",
      "Epoch 24/1000\n"
     ]
    },
    {
     "data": {
      "application/vnd.jupyter.widget-view+json": {
       "model_id": "a081f6edbdcf4aea8ee1b2244e78a57b",
       "version_major": 2,
       "version_minor": 0
      },
      "text/plain": [
       "HBox(children=(FloatProgress(value=0.0, layout=Layout(flex='2'), max=2813.0), HTML(value='')), layout=Layout(d…"
      ]
     },
     "metadata": {},
     "output_type": "display_data"
    },
    {
     "name": "stdout",
     "output_type": "stream",
     "text": [
      "\n",
      "Epoch 25/1000\n"
     ]
    },
    {
     "data": {
      "application/vnd.jupyter.widget-view+json": {
       "model_id": "064eab8483614ff58fd5695f7aa54f44",
       "version_major": 2,
       "version_minor": 0
      },
      "text/plain": [
       "HBox(children=(FloatProgress(value=0.0, layout=Layout(flex='2'), max=2813.0), HTML(value='')), layout=Layout(d…"
      ]
     },
     "metadata": {},
     "output_type": "display_data"
    },
    {
     "name": "stdout",
     "output_type": "stream",
     "text": [
      "\n",
      "Epoch 26/1000\n"
     ]
    },
    {
     "data": {
      "application/vnd.jupyter.widget-view+json": {
       "model_id": "74abc4cae87e4c76bd0a6c5d68d34971",
       "version_major": 2,
       "version_minor": 0
      },
      "text/plain": [
       "HBox(children=(FloatProgress(value=0.0, layout=Layout(flex='2'), max=2813.0), HTML(value='')), layout=Layout(d…"
      ]
     },
     "metadata": {},
     "output_type": "display_data"
    },
    {
     "name": "stdout",
     "output_type": "stream",
     "text": [
      "\n",
      "Epoch 27/1000\n"
     ]
    },
    {
     "data": {
      "application/vnd.jupyter.widget-view+json": {
       "model_id": "b435c774daad44929bb7955f76caf766",
       "version_major": 2,
       "version_minor": 0
      },
      "text/plain": [
       "HBox(children=(FloatProgress(value=0.0, layout=Layout(flex='2'), max=2813.0), HTML(value='')), layout=Layout(d…"
      ]
     },
     "metadata": {},
     "output_type": "display_data"
    },
    {
     "name": "stdout",
     "output_type": "stream",
     "text": [
      "\n",
      "Epoch 28/1000\n"
     ]
    },
    {
     "data": {
      "application/vnd.jupyter.widget-view+json": {
       "model_id": "89f34eb3f0114d78a72efc0ce07c8388",
       "version_major": 2,
       "version_minor": 0
      },
      "text/plain": [
       "HBox(children=(FloatProgress(value=0.0, layout=Layout(flex='2'), max=2813.0), HTML(value='')), layout=Layout(d…"
      ]
     },
     "metadata": {},
     "output_type": "display_data"
    },
    {
     "name": "stdout",
     "output_type": "stream",
     "text": [
      "\n",
      "Epoch 29/1000\n"
     ]
    },
    {
     "data": {
      "application/vnd.jupyter.widget-view+json": {
       "model_id": "4cfda4c690d94231b9c57456d0564e5d",
       "version_major": 2,
       "version_minor": 0
      },
      "text/plain": [
       "HBox(children=(FloatProgress(value=0.0, layout=Layout(flex='2'), max=2813.0), HTML(value='')), layout=Layout(d…"
      ]
     },
     "metadata": {},
     "output_type": "display_data"
    },
    {
     "name": "stdout",
     "output_type": "stream",
     "text": [
      "\n",
      "Epoch 30/1000\n"
     ]
    },
    {
     "data": {
      "application/vnd.jupyter.widget-view+json": {
       "model_id": "f9dd26a091e84a828ae58ccdd3aef4ec",
       "version_major": 2,
       "version_minor": 0
      },
      "text/plain": [
       "HBox(children=(FloatProgress(value=0.0, layout=Layout(flex='2'), max=2813.0), HTML(value='')), layout=Layout(d…"
      ]
     },
     "metadata": {},
     "output_type": "display_data"
    },
    {
     "name": "stdout",
     "output_type": "stream",
     "text": [
      "\n",
      "INFO:tensorflow:Assets written to: edsr.tf/assets\n",
      "Epoch 31/1000\n"
     ]
    },
    {
     "data": {
      "application/vnd.jupyter.widget-view+json": {
       "model_id": "d615ad0b1be3412691cae88fd91868ae",
       "version_major": 2,
       "version_minor": 0
      },
      "text/plain": [
       "HBox(children=(FloatProgress(value=0.0, layout=Layout(flex='2'), max=2813.0), HTML(value='')), layout=Layout(d…"
      ]
     },
     "metadata": {},
     "output_type": "display_data"
    },
    {
     "name": "stdout",
     "output_type": "stream",
     "text": [
      "\n",
      "Epoch 32/1000\n"
     ]
    },
    {
     "data": {
      "application/vnd.jupyter.widget-view+json": {
       "model_id": "e2daab302edf4fd0a94e0be1c9515e35",
       "version_major": 2,
       "version_minor": 0
      },
      "text/plain": [
       "HBox(children=(FloatProgress(value=0.0, layout=Layout(flex='2'), max=2813.0), HTML(value='')), layout=Layout(d…"
      ]
     },
     "metadata": {},
     "output_type": "display_data"
    },
    {
     "name": "stdout",
     "output_type": "stream",
     "text": [
      "\n",
      "Epoch 33/1000\n"
     ]
    },
    {
     "data": {
      "application/vnd.jupyter.widget-view+json": {
       "model_id": "2905713f388a4beaad7ea2a1e22fb154",
       "version_major": 2,
       "version_minor": 0
      },
      "text/plain": [
       "HBox(children=(FloatProgress(value=0.0, layout=Layout(flex='2'), max=2813.0), HTML(value='')), layout=Layout(d…"
      ]
     },
     "metadata": {},
     "output_type": "display_data"
    },
    {
     "name": "stdout",
     "output_type": "stream",
     "text": [
      "\n",
      "Epoch 34/1000\n"
     ]
    },
    {
     "data": {
      "application/vnd.jupyter.widget-view+json": {
       "model_id": "38de46bdcc24444bbc039b0fd7821edb",
       "version_major": 2,
       "version_minor": 0
      },
      "text/plain": [
       "HBox(children=(FloatProgress(value=0.0, layout=Layout(flex='2'), max=2813.0), HTML(value='')), layout=Layout(d…"
      ]
     },
     "metadata": {},
     "output_type": "display_data"
    },
    {
     "name": "stdout",
     "output_type": "stream",
     "text": [
      "\n",
      "Epoch 35/1000\n"
     ]
    },
    {
     "data": {
      "application/vnd.jupyter.widget-view+json": {
       "model_id": "da2112952ab9442c9c570dc0d2ebd019",
       "version_major": 2,
       "version_minor": 0
      },
      "text/plain": [
       "HBox(children=(FloatProgress(value=0.0, layout=Layout(flex='2'), max=2813.0), HTML(value='')), layout=Layout(d…"
      ]
     },
     "metadata": {},
     "output_type": "display_data"
    },
    {
     "name": "stdout",
     "output_type": "stream",
     "text": [
      "\n",
      "Epoch 36/1000\n"
     ]
    },
    {
     "data": {
      "application/vnd.jupyter.widget-view+json": {
       "model_id": "cd899a7f7d874294a4a85e4427f84db5",
       "version_major": 2,
       "version_minor": 0
      },
      "text/plain": [
       "HBox(children=(FloatProgress(value=0.0, layout=Layout(flex='2'), max=2813.0), HTML(value='')), layout=Layout(d…"
      ]
     },
     "metadata": {},
     "output_type": "display_data"
    },
    {
     "name": "stdout",
     "output_type": "stream",
     "text": [
      "\n",
      "Epoch 37/1000\n"
     ]
    },
    {
     "data": {
      "application/vnd.jupyter.widget-view+json": {
       "model_id": "cd50cc846ec642518ce49f6ab5313de2",
       "version_major": 2,
       "version_minor": 0
      },
      "text/plain": [
       "HBox(children=(FloatProgress(value=0.0, layout=Layout(flex='2'), max=2813.0), HTML(value='')), layout=Layout(d…"
      ]
     },
     "metadata": {},
     "output_type": "display_data"
    },
    {
     "name": "stdout",
     "output_type": "stream",
     "text": [
      "\n",
      "Epoch 38/1000\n"
     ]
    },
    {
     "data": {
      "application/vnd.jupyter.widget-view+json": {
       "model_id": "185901f1b408477a819ba3d4faca8c75",
       "version_major": 2,
       "version_minor": 0
      },
      "text/plain": [
       "HBox(children=(FloatProgress(value=0.0, layout=Layout(flex='2'), max=2813.0), HTML(value='')), layout=Layout(d…"
      ]
     },
     "metadata": {},
     "output_type": "display_data"
    },
    {
     "name": "stdout",
     "output_type": "stream",
     "text": [
      "\n",
      "Epoch 39/1000\n"
     ]
    },
    {
     "data": {
      "application/vnd.jupyter.widget-view+json": {
       "model_id": "a29f32e034df4dbda2c3cd8d51ae2129",
       "version_major": 2,
       "version_minor": 0
      },
      "text/plain": [
       "HBox(children=(FloatProgress(value=0.0, layout=Layout(flex='2'), max=2813.0), HTML(value='')), layout=Layout(d…"
      ]
     },
     "metadata": {},
     "output_type": "display_data"
    },
    {
     "name": "stdout",
     "output_type": "stream",
     "text": [
      "\n",
      "Epoch 40/1000\n"
     ]
    },
    {
     "data": {
      "application/vnd.jupyter.widget-view+json": {
       "model_id": "4ff8e855caa0486992eae2f2067dacec",
       "version_major": 2,
       "version_minor": 0
      },
      "text/plain": [
       "HBox(children=(FloatProgress(value=0.0, layout=Layout(flex='2'), max=2813.0), HTML(value='')), layout=Layout(d…"
      ]
     },
     "metadata": {},
     "output_type": "display_data"
    },
    {
     "name": "stdout",
     "output_type": "stream",
     "text": [
      "\n",
      "Epoch 41/1000\n"
     ]
    },
    {
     "data": {
      "application/vnd.jupyter.widget-view+json": {
       "model_id": "cb6917d1356f4431951108921031aae3",
       "version_major": 2,
       "version_minor": 0
      },
      "text/plain": [
       "HBox(children=(FloatProgress(value=0.0, layout=Layout(flex='2'), max=2813.0), HTML(value='')), layout=Layout(d…"
      ]
     },
     "metadata": {},
     "output_type": "display_data"
    },
    {
     "name": "stdout",
     "output_type": "stream",
     "text": [
      "\n",
      "Epoch 42/1000\n"
     ]
    },
    {
     "data": {
      "application/vnd.jupyter.widget-view+json": {
       "model_id": "762766c947ce45fa8a73b08b54f1515a",
       "version_major": 2,
       "version_minor": 0
      },
      "text/plain": [
       "HBox(children=(FloatProgress(value=0.0, layout=Layout(flex='2'), max=2813.0), HTML(value='')), layout=Layout(d…"
      ]
     },
     "metadata": {},
     "output_type": "display_data"
    },
    {
     "name": "stdout",
     "output_type": "stream",
     "text": [
      "\n",
      "Epoch 43/1000\n"
     ]
    },
    {
     "data": {
      "application/vnd.jupyter.widget-view+json": {
       "model_id": "0322fa2ef4ef43e6af7f6d99cfd06eba",
       "version_major": 2,
       "version_minor": 0
      },
      "text/plain": [
       "HBox(children=(FloatProgress(value=0.0, layout=Layout(flex='2'), max=2813.0), HTML(value='')), layout=Layout(d…"
      ]
     },
     "metadata": {},
     "output_type": "display_data"
    },
    {
     "name": "stdout",
     "output_type": "stream",
     "text": [
      "\n",
      "Epoch 44/1000\n"
     ]
    },
    {
     "data": {
      "application/vnd.jupyter.widget-view+json": {
       "model_id": "89ceafe5e19843ba9baa9386e6e46ba6",
       "version_major": 2,
       "version_minor": 0
      },
      "text/plain": [
       "HBox(children=(FloatProgress(value=0.0, layout=Layout(flex='2'), max=2813.0), HTML(value='')), layout=Layout(d…"
      ]
     },
     "metadata": {},
     "output_type": "display_data"
    },
    {
     "name": "stdout",
     "output_type": "stream",
     "text": [
      "\n",
      "Epoch 45/1000\n"
     ]
    },
    {
     "data": {
      "application/vnd.jupyter.widget-view+json": {
       "model_id": "f0e6c056fe7244e1a87a6919cdf69f10",
       "version_major": 2,
       "version_minor": 0
      },
      "text/plain": [
       "HBox(children=(FloatProgress(value=0.0, layout=Layout(flex='2'), max=2813.0), HTML(value='')), layout=Layout(d…"
      ]
     },
     "metadata": {},
     "output_type": "display_data"
    },
    {
     "name": "stdout",
     "output_type": "stream",
     "text": [
      "\n",
      "Epoch 46/1000\n"
     ]
    },
    {
     "data": {
      "application/vnd.jupyter.widget-view+json": {
       "model_id": "90c07dd59d604c20aa81397aa8c9571c",
       "version_major": 2,
       "version_minor": 0
      },
      "text/plain": [
       "HBox(children=(FloatProgress(value=0.0, layout=Layout(flex='2'), max=2813.0), HTML(value='')), layout=Layout(d…"
      ]
     },
     "metadata": {},
     "output_type": "display_data"
    },
    {
     "name": "stdout",
     "output_type": "stream",
     "text": [
      "\n",
      "Epoch 47/1000\n"
     ]
    },
    {
     "data": {
      "application/vnd.jupyter.widget-view+json": {
       "model_id": "487651d8d55e431fafd8a9dd4caed2f2",
       "version_major": 2,
       "version_minor": 0
      },
      "text/plain": [
       "HBox(children=(FloatProgress(value=0.0, layout=Layout(flex='2'), max=2813.0), HTML(value='')), layout=Layout(d…"
      ]
     },
     "metadata": {},
     "output_type": "display_data"
    },
    {
     "name": "stdout",
     "output_type": "stream",
     "text": [
      "\n",
      "Epoch 48/1000\n"
     ]
    },
    {
     "data": {
      "application/vnd.jupyter.widget-view+json": {
       "model_id": "7e0bcace522146e69a0ce977c1243775",
       "version_major": 2,
       "version_minor": 0
      },
      "text/plain": [
       "HBox(children=(FloatProgress(value=0.0, layout=Layout(flex='2'), max=2813.0), HTML(value='')), layout=Layout(d…"
      ]
     },
     "metadata": {},
     "output_type": "display_data"
    },
    {
     "name": "stdout",
     "output_type": "stream",
     "text": [
      "\n",
      "Epoch 49/1000\n"
     ]
    },
    {
     "data": {
      "application/vnd.jupyter.widget-view+json": {
       "model_id": "55ec9cc02ec840589dfe701c7cce4db1",
       "version_major": 2,
       "version_minor": 0
      },
      "text/plain": [
       "HBox(children=(FloatProgress(value=0.0, layout=Layout(flex='2'), max=2813.0), HTML(value='')), layout=Layout(d…"
      ]
     },
     "metadata": {},
     "output_type": "display_data"
    },
    {
     "name": "stdout",
     "output_type": "stream",
     "text": [
      "\n",
      "Epoch 50/1000\n"
     ]
    },
    {
     "data": {
      "application/vnd.jupyter.widget-view+json": {
       "model_id": "3fe00f7571e94119bd5ce97b0259bedc",
       "version_major": 2,
       "version_minor": 0
      },
      "text/plain": [
       "HBox(children=(FloatProgress(value=0.0, layout=Layout(flex='2'), max=2813.0), HTML(value='')), layout=Layout(d…"
      ]
     },
     "metadata": {},
     "output_type": "display_data"
    },
    {
     "name": "stdout",
     "output_type": "stream",
     "text": [
      "\n",
      "\n",
      "INFO:tensorflow:Assets written to: edsr.tf/assets\n"
     ]
    }
   ],
   "source": [
    "# Setup callbacks\n",
    "early_stopping = EarlyStopping(patience=20, restore_best_weights=True)\n",
    "tqdm_callback = TQDMProgressBar()\n",
    "checkpoint = ModelCheckpoint(modelpath, save_best_only=True)\n",
    "\n",
    "model.fit(\n",
    "    X,\n",
    "    Y,\n",
    "    batch_size=32,\n",
    "    epochs=1000,\n",
    "    validation_split=0.1,\n",
    "    verbose=0,\n",
    "    callbacks=[early_stopping, tqdm_callback, checkpoint],\n",
    ")\n",
    "model.save(modelpath)"
   ]
  },
  {
   "cell_type": "code",
   "execution_count": 8,
   "metadata": {},
   "outputs": [
    {
     "data": {
      "image/png": "[encoded data removed]",
      "text/plain": [
       "<Figure size 864x288 with 3 Axes>"
      ]
     },
     "metadata": {
      "needs_background": "light"
     },
     "output_type": "display_data"
    }
   ],
   "source": [
    "# Plot the results\n",
    "image_idx = -8\n",
    "pred = model.predict(X[np.newaxis, image_idx])[0]\n",
    "\n",
    "fig, ax = plt.subplots(1, 3, figsize=(12, 4), tight_layout=True)\n",
    "ax[0].imshow(X[image_idx].reshape(64, 64))\n",
    "ax[0].set_title(\"Original Noisy Image\")\n",
    "ax[1].imshow(pred.reshape(64, 64))\n",
    "ax[1].set_title(\"Denoised Image\")\n",
    "ax[2].imshow(Y[image_idx].reshape(64, 64))\n",
    "ax[2].set_title(\"Original Noiseless Image\");"
   ]
  },
  {
   "cell_type": "code",
   "execution_count": 9,
   "metadata": {},
   "outputs": [
    {
     "name": "stderr",
     "output_type": "stream",
     "text": [
      "/usr/local/lib/python3.6/dist-packages/ipykernel_launcher.py:2: RuntimeWarning: invalid value encountered in log\n",
      "  \n"
     ]
    },
    {
     "data": {
      "image/png": "[encoded data removed]",
      "text/plain": [
       "<Figure size 576x288 with 2 Axes>"
      ]
     },
     "metadata": {
      "needs_background": "light"
     },
     "output_type": "display_data"
    }
   ],
   "source": [
    "fig, ax = plt.subplots(1, 2, figsize=(8, 4), tight_layout=True)\n",
    "ax[0].imshow(np.log(pred).reshape(64, 64))\n",
    "ax[0].set_title(\"Denoised Image (Log-Scale)\")\n",
    "ax[1].imshow(np.log(Y[image_idx]).reshape(64, 64))\n",
    "ax[1].set_title(\"Original Noiseless Image (Log-Scale)\");"
   ]
  }
 ],
 "metadata": {
  "kernelspec": {
   "display_name": "Python 3",
   "language": "python",
   "name": "python3"
  },
  "language_info": {
   "codemirror_mode": {
    "name": "ipython",
    "version": 3
   },
   "file_extension": ".py",
   "mimetype": "text/x-python",
   "name": "python",
   "nbconvert_exporter": "python",
   "pygments_lexer": "ipython3",
   "version": "3.6.9"
  },
  "widgets": {
   "application/vnd.jupyter.widget-state+json": {
    "state": {
     "00249e38c4424908ab1336f88ec25c65": {
      "model_module": "@jupyter-widgets/base",
      "model_module_version": "1.2.0",
      "model_name": "LayoutModel",
      "state": {
       "display": "inline-flex",
       "flex_flow": "row wrap",
       "width": "100%"
      }
     },
     "01443d2a18ac400da243975b463065d6": {
      "model_module": "@jupyter-widgets/base",
      "model_module_version": "1.2.0",
      "model_name": "LayoutModel",
      "state": {}
     },
     "01a0de0c6826476da9bf85190e810092": {
      "model_module": "@jupyter-widgets/base",
      "model_module_version": "1.2.0",
      "model_name": "LayoutModel",
      "state": {}
     },
     "01aa1181b7544f23848ee564103f5efc": {
      "model_module": "@jupyter-widgets/controls",
      "model_module_version": "1.5.0",
      "model_name": "FloatProgressModel",
      "state": {
       "bar_style": "success",
       "description": "2813/2813",
       "layout": "IPY_MODEL_30dfbd3716684082b6f47ce32d0ff708",
       "max": 2813,
       "style": "IPY_MODEL_86e3307cd15d400a903576d0f8850ea8",
       "value": 2813
      }
     },
     "01b7e291562143539c4afe601880e730": {
      "model_module": "@jupyter-widgets/base",
      "model_module_version": "1.2.0",
      "model_name": "LayoutModel",
      "state": {
       "display": "inline-flex",
       "flex_flow": "row wrap",
       "width": "100%"
      }
     },
     "01ff11195ace42fdacd1e00e71eb97f4": {
      "model_module": "@jupyter-widgets/controls",
      "model_module_version": "1.5.0",
      "model_name": "DescriptionStyleModel",
      "state": {
       "description_width": ""
      }
     },
     "023fb7112d334a43b34cc1c69cd571fc": {
      "model_module": "@jupyter-widgets/controls",
      "model_module_version": "1.5.0",
      "model_name": "DescriptionStyleModel",
      "state": {
       "description_width": ""
      }
     },
     "027448b73773455dac437c68d9e50dde": {
      "model_module": "@jupyter-widgets/controls",
      "model_module_version": "1.5.0",
      "model_name": "ProgressStyleModel",
      "state": {
       "description_width": "initial"
      }
     },
     "0297e6d5d3e4499087abc9964e634652": {
      "model_module": "@jupyter-widgets/controls",
      "model_module_version": "1.5.0",
      "model_name": "HTMLModel",
      "state": {
       "layout": "IPY_MODEL_1b4d38d0219e4b038f8e0d8a61fd7368",
       "style": "IPY_MODEL_01ff11195ace42fdacd1e00e71eb97f4",
       "value": " ETA: 00:00s - loss: 1.3214 - val_loss: 1.8401"
      }
     },
     "0322fa2ef4ef43e6af7f6d99cfd06eba": {
      "model_module": "@jupyter-widgets/controls",
      "model_module_version": "1.5.0",
      "model_name": "HBoxModel",
      "state": {
       "children": [
        "IPY_MODEL_2aaf25d01bd047778b0024f5a07ce938",
        "IPY_MODEL_0297e6d5d3e4499087abc9964e634652"
       ],
       "layout": "IPY_MODEL_b30dd29db9264771bade8feb9c682b55"
      }
     },
     "03608a14371941fcb6eb375b5054d494": {
      "model_module": "@jupyter-widgets/controls",
      "model_module_version": "1.5.0",
      "model_name": "ProgressStyleModel",
      "state": {
       "description_width": "initial"
      }
     },
     "03db5fc577bf4a81b80a305def9b3523": {
      "model_module": "@jupyter-widgets/base",
      "model_module_version": "1.2.0",
      "model_name": "LayoutModel",
      "state": {}
     },
     "0414c58e90ef4fa0bbe21df1bebfb4f4": {
      "model_module": "@jupyter-widgets/controls",
      "model_module_version": "1.5.0",
      "model_name": "FloatProgressModel",
      "state": {
       "bar_style": "success",
       "description": "2813/2813",
       "layout": "IPY_MODEL_6282b9aa04f24eb6ac5374a4489a0aa3",
       "max": 2813,
       "style": "IPY_MODEL_9361d359ffb148babb69bb99aef7bd78",
       "value": 2813
      }
     },
     "0433b0ea8d7f449aaf97855abada835e": {
      "model_module": "@jupyter-widgets/controls",
      "model_module_version": "1.5.0",
      "model_name": "DescriptionStyleModel",
      "state": {
       "description_width": ""
      }
     },
     "043dbeaa14584679acc20b2ed7eb19cf": {
      "model_module": "@jupyter-widgets/controls",
      "model_module_version": "1.5.0",
      "model_name": "FloatProgressModel",
      "state": {
       "bar_style": "success",
       "description": "5625/5625",
       "layout": "IPY_MODEL_256aadc02c5343129a1d9e9e2f2c14c6",
       "max": 5625,
       "style": "IPY_MODEL_896eef4737ce42359f549c43347b83f4",
       "value": 5625
      }
     },
     "048b63fc2a0f43d5bdbd2261c6015743": {
      "model_module": "@jupyter-widgets/controls",
      "model_module_version": "1.5.0",
      "model_name": "HTMLModel",
      "state": {
       "layout": "IPY_MODEL_46ac7a3a950242dd994810664b5cdef8",
       "style": "IPY_MODEL_49fb496bc0ab43dab86c59ef24be0258",
       "value": " ETA: 00:00s - loss: 1.6504 - val_loss: 1.7055"
      }
     },
     "04bd77c18b184d10aeb09e9278573673": {
      "model_module": "@jupyter-widgets/controls",
      "model_module_version": "1.5.0",
      "model_name": "FloatProgressModel",
      "state": {
       "bar_style": "success",
       "description": "5625/5625",
       "layout": "IPY_MODEL_d021b75e2d08439aa4ebfe16ea6bf3f2",
       "max": 5625,
       "style": "IPY_MODEL_142f9d5cb2e144539e2c2a296c3fa9bd",
       "value": 5625
      }
     },
     "054ad219948d474092e22bb804fd4d47": {
      "model_module": "@jupyter-widgets/controls",
      "model_module_version": "1.5.0",
      "model_name": "ProgressStyleModel",
      "state": {
       "description_width": "initial"
      }
     },
     "057a40cef8034efe885c9cf12299322f": {
      "model_module": "@jupyter-widgets/controls",
      "model_module_version": "1.5.0",
      "model_name": "ProgressStyleModel",
      "state": {
       "description_width": "initial"
      }
     },
     "0595093fdb2a4f6da4bda483160e4b2c": {
      "model_module": "@jupyter-widgets/base",
      "model_module_version": "1.2.0",
      "model_name": "LayoutModel",
      "state": {
       "flex": "2"
      }
     },
     "05c31e1356b840de911f35f61a103629": {
      "model_module": "@jupyter-widgets/base",
      "model_module_version": "1.2.0",
      "model_name": "LayoutModel",
      "state": {}
     },
     "06349ababd3d498a9ce46ba74cd4d369": {
      "model_module": "@jupyter-widgets/base",
      "model_module_version": "1.2.0",
      "model_name": "LayoutModel",
      "state": {
       "display": "inline-flex",
       "flex_flow": "row wrap",
       "width": "100%"
      }
     },
     "064eab8483614ff58fd5695f7aa54f44": {
      "model_module": "@jupyter-widgets/controls",
      "model_module_version": "1.5.0",
      "model_name": "HBoxModel",
      "state": {
       "children": [
        "IPY_MODEL_0ead62fd820c4f8cbf0131a4f0709b94",
        "IPY_MODEL_669ed52a4302487da25e0e1adb6b7cc8"
       ],
       "layout": "IPY_MODEL_b62bc8ee404049d8b8c9e651e01eee67"
      }
     },
     "066fdd6e7e4d44d9820fdd237b48a1fc": {
      "model_module": "@jupyter-widgets/base",
      "model_module_version": "1.2.0",
      "model_name": "LayoutModel",
      "state": {}
     },
     "068caed0497747cd9addb6b7cd922cff": {
      "model_module": "@jupyter-widgets/base",
      "model_module_version": "1.2.0",
      "model_name": "LayoutModel",
      "state": {}
     },
     "07eefd351f8b478b954de7dde04e4c13": {
      "model_module": "@jupyter-widgets/base",
      "model_module_version": "1.2.0",
      "model_name": "LayoutModel",
      "state": {
       "flex": "2"
      }
     },
     "0864d8803864470198bd08f9943cfb00": {
      "model_module": "@jupyter-widgets/controls",
      "model_module_version": "1.5.0",
      "model_name": "FloatProgressModel",
      "state": {
       "bar_style": "success",
       "description": "5625/5625",
       "layout": "IPY_MODEL_0bfa29ec82c143c58e4b7cc7aaa30bce",
       "max": 5625,
       "style": "IPY_MODEL_1b58f0b91f89429cb0e2ef64a1b993b4",
       "value": 5625
      }
     },
     "0880330362004756813b951faa6a133d": {
      "model_module": "@jupyter-widgets/controls",
      "model_module_version": "1.5.0",
      "model_name": "FloatProgressModel",
      "state": {
       "bar_style": "success",
       "description": "2813/2813",
       "layout": "IPY_MODEL_93cdfb51ff254c349d8cfe99fdc92331",
       "max": 2813,
       "style": "IPY_MODEL_ab23ba515dfa4b188e067c9a3a207197",
       "value": 2813
      }
     },
     "0887f6c1ec2d44d1bbeb9fcb7c0818e1": {
      "model_module": "@jupyter-widgets/controls",
      "model_module_version": "1.5.0",
      "model_name": "DescriptionStyleModel",
      "state": {
       "description_width": ""
      }
     },
     "09a0113f895d4dc193273aa4599b597a": {
      "model_module": "@jupyter-widgets/controls",
      "model_module_version": "1.5.0",
      "model_name": "DescriptionStyleModel",
      "state": {
       "description_width": ""
      }
     },
     "09f6191bdfc749bc825db0e98e8fc5bb": {
      "model_module": "@jupyter-widgets/base",
      "model_module_version": "1.2.0",
      "model_name": "LayoutModel",
      "state": {
       "display": "inline-flex",
       "flex_flow": "row wrap",
       "width": "100%"
      }
     },
     "0a14b25aeabf4c3abd4fe3ef164de3be": {
      "model_module": "@jupyter-widgets/controls",
      "model_module_version": "1.5.0",
      "model_name": "DescriptionStyleModel",
      "state": {
       "description_width": ""
      }
     },
     "0a7607421e46491fa1b529818fe7a05f": {
      "model_module": "@jupyter-widgets/controls",
      "model_module_version": "1.5.0",
      "model_name": "HTMLModel",
      "state": {
       "layout": "IPY_MODEL_4d558af3383748e2acab274d322b93e2",
       "style": "IPY_MODEL_09a0113f895d4dc193273aa4599b597a",
       "value": " ETA: 00:00s - loss: 1.8236 - val_loss: 1.9206"
      }
     },
     "0ae7e192bd12487091dc35203db957a9": {
      "model_module": "@jupyter-widgets/base",
      "model_module_version": "1.2.0",
      "model_name": "LayoutModel",
      "state": {}
     },
     "0b3a45b36b6e456498254637d32c61d4": {
      "model_module": "@jupyter-widgets/base",
      "model_module_version": "1.2.0",
      "model_name": "LayoutModel",
      "state": {
       "display": "inline-flex",
       "flex_flow": "row wrap",
       "width": "100%"
      }
     },
     "0b6ddeda764547c0a55d44db4aa91d32": {
      "model_module": "@jupyter-widgets/base",
      "model_module_version": "1.2.0",
      "model_name": "LayoutModel",
      "state": {
       "display": "inline-flex",
       "flex_flow": "row wrap",
       "width": "100%"
      }
     },
     "0b7d90068c6141d39007b6cf6a290437": {
      "model_module": "@jupyter-widgets/controls",
      "model_module_version": "1.5.0",
      "model_name": "HTMLModel",
      "state": {
       "layout": "IPY_MODEL_b062c9d4665746069be2922e032e61fb",
       "style": "IPY_MODEL_4e0a01bb54604c7db44b5bedd02696fc",
       "value": " ETA: 00:00s - loss: 3.8167 - val_loss: 3.1510"
      }
     },
     "0bd1c037c2574a6cadfc56e3b76562e1": {
      "model_module": "@jupyter-widgets/controls",
      "model_module_version": "1.5.0",
      "model_name": "FloatProgressModel",
      "state": {
       "bar_style": "success",
       "description": "2813/2813",
       "layout": "IPY_MODEL_3591bd79240647fc85c8acdc2d502a1e",
       "max": 2813,
       "style": "IPY_MODEL_699efae8ea3d4641983760f695f7df38",
       "value": 2813
      }
     },
     "0bfa29ec82c143c58e4b7cc7aaa30bce": {
      "model_module": "@jupyter-widgets/base",
      "model_module_version": "1.2.0",
      "model_name": "LayoutModel",
      "state": {
       "flex": "2"
      }
     },
     "0c4a7c68b057476788e610cb17eab516": {
      "model_module": "@jupyter-widgets/controls",
      "model_module_version": "1.5.0",
      "model_name": "ProgressStyleModel",
      "state": {
       "description_width": "initial"
      }
     },
     "0cd8c9053798494fa102f10198a710bb": {
      "model_module": "@jupyter-widgets/controls",
      "model_module_version": "1.5.0",
      "model_name": "HBoxModel",
      "state": {
       "children": [
        "IPY_MODEL_d6c84e5f01d949b1a59b4148fdbed2b1",
        "IPY_MODEL_0ec48c3a419c4a36a973e78985a5498f"
       ],
       "layout": "IPY_MODEL_3d4b1c0a91e44a4c8a310f47a76291d8"
      }
     },
     "0d03def5a20c4d8a8e9df77d9e6b2845": {
      "model_module": "@jupyter-widgets/base",
      "model_module_version": "1.2.0",
      "model_name": "LayoutModel",
      "state": {}
     },
     "0d204214958e40f78593eda5bf5a07e1": {
      "model_module": "@jupyter-widgets/controls",
      "model_module_version": "1.5.0",
      "model_name": "ProgressStyleModel",
      "state": {
       "description_width": "initial"
      }
     },
     "0d48b0247cba47b59dbf5a0112ae395e": {
      "model_module": "@jupyter-widgets/base",
      "model_module_version": "1.2.0",
      "model_name": "LayoutModel",
      "state": {
       "flex": "2"
      }
     },
     "0df70b0408dd4957a274ea4c938f46be": {
      "model_module": "@jupyter-widgets/base",
      "model_module_version": "1.2.0",
      "model_name": "LayoutModel",
      "state": {}
     },
     "0ead62fd820c4f8cbf0131a4f0709b94": {
      "model_module": "@jupyter-widgets/controls",
      "model_module_version": "1.5.0",
      "model_name": "FloatProgressModel",
      "state": {
       "bar_style": "success",
       "description": "2813/2813",
       "layout": "IPY_MODEL_fb758f7806b842dfaeb7d4c2d8b1b830",
       "max": 2813,
       "style": "IPY_MODEL_169013c90e9845e0a317969ffdcbdb5d",
       "value": 2813
      }
     },
     "0ec48c3a419c4a36a973e78985a5498f": {
      "model_module": "@jupyter-widgets/controls",
      "model_module_version": "1.5.0",
      "model_name": "HTMLModel",
      "state": {
       "layout": "IPY_MODEL_35f1e2de7934491ab85357164fb5b839",
       "style": "IPY_MODEL_5db68815bee04b078918feca7bf41c56",
       "value": " ETA: 00:00s - loss: 2.4348 - val_loss: 2.3249"
      }
     },
     "0f1472fe85ef444085effcb82043cb24": {
      "model_module": "@jupyter-widgets/controls",
      "model_module_version": "1.5.0",
      "model_name": "FloatProgressModel",
      "state": {
       "bar_style": "success",
       "description": "5625/5625",
       "layout": "IPY_MODEL_7062e8ac29fa4ede836bc5a6ff140278",
       "max": 5625,
       "style": "IPY_MODEL_ee4b8c093f5d4c239df328268b2ed6fa",
       "value": 5625
      }
     },
     "0f303e8c5be14f5c8307ec3a8fa110f3": {
      "model_module": "@jupyter-widgets/base",
      "model_module_version": "1.2.0",
      "model_name": "LayoutModel",
      "state": {}
     },
     "0f3d9d37bcbe4307b7b20f6a54e1a075": {
      "model_module": "@jupyter-widgets/base",
      "model_module_version": "1.2.0",
      "model_name": "LayoutModel",
      "state": {}
     },
     "0f44bd0a6f37444b8d64f2f4f465924e": {
      "model_module": "@jupyter-widgets/controls",
      "model_module_version": "1.5.0",
      "model_name": "HTMLModel",
      "state": {
       "layout": "IPY_MODEL_01a0de0c6826476da9bf85190e810092",
       "style": "IPY_MODEL_1fba11cda22a4e87a93781fbd8d63b18",
       "value": " ETA: 00:00s - loss: 1.7744 - val_loss: 1.7664"
      }
     },
     "0faa1e0a2fd349b595effaaca30fe1a6": {
      "model_module": "@jupyter-widgets/controls",
      "model_module_version": "1.5.0",
      "model_name": "HBoxModel",
      "state": {
       "children": [
        "IPY_MODEL_c59ae8f2c4bc45ef82dab3f35453e3fb",
        "IPY_MODEL_9057bad49a944c87a7edfc58d466f76e"
       ],
       "layout": "IPY_MODEL_db0d2f98928f42bd85b0b8fd1fdc47b1"
      }
     },
     "107bb672d94543928b7202680f09fd0b": {
      "model_module": "@jupyter-widgets/controls",
      "model_module_version": "1.5.0",
      "model_name": "HTMLModel",
      "state": {
       "layout": "IPY_MODEL_afa67786b31b4339b0b298e7aefc29ea",
       "style": "IPY_MODEL_1556200434e14f15bf552de72066dfe2",
       "value": " ETA: 00:00s - loss: 1.4898 - val_loss: 1.7630"
      }
     },
     "10af24339b864dfc8902bdf0d7a56ad4": {
      "model_module": "@jupyter-widgets/base",
      "model_module_version": "1.2.0",
      "model_name": "LayoutModel",
      "state": {
       "display": "inline-flex",
       "flex_flow": "row wrap",
       "width": "100%"
      }
     },
     "10d3bd66065f4b0d9470bfdb786b94ed": {
      "model_module": "@jupyter-widgets/controls",
      "model_module_version": "1.5.0",
      "model_name": "HBoxModel",
      "state": {
       "children": [
        "IPY_MODEL_0f1472fe85ef444085effcb82043cb24",
        "IPY_MODEL_b8422af5e02b4d848b4e042be5c6fc85"
       ],
       "layout": "IPY_MODEL_9e8a564d78e243f795c7b9405f40e0e0"
      }
     },
     "1138f465295f4aeea53112190518f9a9": {
      "model_module": "@jupyter-widgets/base",
      "model_module_version": "1.2.0",
      "model_name": "LayoutModel",
      "state": {
       "display": "inline-flex",
       "flex_flow": "row wrap",
       "width": "100%"
      }
     },
     "11472f6d02534f79bd7428fd89883f9c": {
      "model_module": "@jupyter-widgets/controls",
      "model_module_version": "1.5.0",
      "model_name": "FloatProgressModel",
      "state": {
       "bar_style": "success",
       "description": "2813/2813",
       "layout": "IPY_MODEL_45293884df9540bb868d1cb5d17389d3",
       "max": 2813,
       "style": "IPY_MODEL_7629e5aea49f451da29ed1bb05e1cd42",
       "value": 2813
      }
     },
     "11b10c5ce20a4ce1a8f453f335775d6f": {
      "model_module": "@jupyter-widgets/controls",
      "model_module_version": "1.5.0",
      "model_name": "FloatProgressModel",
      "state": {
       "bar_style": "success",
       "description": "2813/2813",
       "layout": "IPY_MODEL_1f87c608c69a4ab885fa77428bcd09fd",
       "max": 2813,
       "style": "IPY_MODEL_e93e512dca3e42c1b57eb4797b733703",
       "value": 2813
      }
     },
     "1204e8596bc74215bd0fa1f1d9ae3535": {
      "model_module": "@jupyter-widgets/base",
      "model_module_version": "1.2.0",
      "model_name": "LayoutModel",
      "state": {}
     },
     "1229a4c65f8a4b06b846f538b4c6a4a8": {
      "model_module": "@jupyter-widgets/base",
      "model_module_version": "1.2.0",
      "model_name": "LayoutModel",
      "state": {
       "flex": "2"
      }
     },
     "1233834dff244dac91a0ff3336c7208e": {
      "model_module": "@jupyter-widgets/controls",
      "model_module_version": "1.5.0",
      "model_name": "ProgressStyleModel",
      "state": {
       "description_width": "initial"
      }
     },
     "1255e568d75a4323a82a03b06d3dd412": {
      "model_module": "@jupyter-widgets/controls",
      "model_module_version": "1.5.0",
      "model_name": "DescriptionStyleModel",
      "state": {
       "description_width": ""
      }
     },
     "127044d0bfb34fe59590aa5921262729": {
      "model_module": "@jupyter-widgets/controls",
      "model_module_version": "1.5.0",
      "model_name": "ProgressStyleModel",
      "state": {
       "description_width": "initial"
      }
     },
     "128bd4ced7544c7c9b594700d024fa4d": {
      "model_module": "@jupyter-widgets/controls",
      "model_module_version": "1.5.0",
      "model_name": "HTMLModel",
      "state": {
       "layout": "IPY_MODEL_817d4ab8ad934760995039628f8997c3",
       "style": "IPY_MODEL_ff9efe55eff64c3c968457248f72cbbc",
       "value": " 19/100 ETA: 34:06:29s,  1515.92s/epochs"
      }
     },
     "12963f95ebee4c28a3b8b8db72b72e8b": {
      "model_module": "@jupyter-widgets/controls",
      "model_module_version": "1.5.0",
      "model_name": "ProgressStyleModel",
      "state": {
       "description_width": "initial"
      }
     },
     "13775a647ebc48508bd5d83cbc518a80": {
      "model_module": "@jupyter-widgets/controls",
      "model_module_version": "1.5.0",
      "model_name": "ProgressStyleModel",
      "state": {
       "description_width": "initial"
      }
     },
     "13d7308bef12453f8210b7a7e1d60883": {
      "model_module": "@jupyter-widgets/controls",
      "model_module_version": "1.5.0",
      "model_name": "FloatProgressModel",
      "state": {
       "bar_style": "success",
       "description": "2813/2813",
       "layout": "IPY_MODEL_4133d3c5ed3b4cbd9b331f8ccb7c0d06",
       "max": 2813,
       "style": "IPY_MODEL_a2c9df46ff3a46c78cb135e9db9c334a",
       "value": 2813
      }
     },
     "141364fc21f34107830ba8d7eda92c58": {
      "model_module": "@jupyter-widgets/controls",
      "model_module_version": "1.5.0",
      "model_name": "FloatProgressModel",
      "state": {
       "bar_style": "success",
       "description": "2813/2813",
       "layout": "IPY_MODEL_b505026e946e4a048a066f8905a2651b",
       "max": 2813,
       "style": "IPY_MODEL_8df72057fd804cd688208d322d390d87",
       "value": 2813
      }
     },
     "142f9d5cb2e144539e2c2a296c3fa9bd": {
      "model_module": "@jupyter-widgets/controls",
      "model_module_version": "1.5.0",
      "model_name": "ProgressStyleModel",
      "state": {
       "description_width": "initial"
      }
     },
     "1468659355e14fb0ba7e617ed1ad7990": {
      "model_module": "@jupyter-widgets/base",
      "model_module_version": "1.2.0",
      "model_name": "LayoutModel",
      "state": {
       "flex": "2"
      }
     },
     "1556200434e14f15bf552de72066dfe2": {
      "model_module": "@jupyter-widgets/controls",
      "model_module_version": "1.5.0",
      "model_name": "DescriptionStyleModel",
      "state": {
       "description_width": ""
      }
     },
     "159f77b7051d43b5a2a739aca8350c20": {
      "model_module": "@jupyter-widgets/controls",
      "model_module_version": "1.5.0",
      "model_name": "HTMLModel",
      "state": {
       "layout": "IPY_MODEL_fd6da3140c3c46b183c08e8da765c0eb",
       "style": "IPY_MODEL_a5c706384ec54ba8b41daed4d0f790b3",
       "value": " ETA: 00:00s - loss: 1.6713 - val_loss: 1.7159"
      }
     },
     "162077ba2a984c33be0fbd84cad1eccd": {
      "model_module": "@jupyter-widgets/controls",
      "model_module_version": "1.5.0",
      "model_name": "HTMLModel",
      "state": {
       "layout": "IPY_MODEL_37c712995e65437da85cebfd70656796",
       "style": "IPY_MODEL_5bdc75d0f6df405caa813349e3b2873a",
       "value": " ETA: 00:00s - loss: 1.7231 - val_loss: 1.7091"
      }
     },
     "16294bc36baf4796a70ca3e9e6ead532": {
      "model_module": "@jupyter-widgets/controls",
      "model_module_version": "1.5.0",
      "model_name": "HBoxModel",
      "state": {
       "children": [
        "IPY_MODEL_04bd77c18b184d10aeb09e9278573673",
        "IPY_MODEL_f350f7ad3c9c48918b7cb781304f742a"
       ],
       "layout": "IPY_MODEL_c3efef1d53bf423ba1bb209048261cff"
      }
     },
     "162e2279a87d4af0955b0b74b879faa0": {
      "model_module": "@jupyter-widgets/base",
      "model_module_version": "1.2.0",
      "model_name": "LayoutModel",
      "state": {
       "display": "inline-flex",
       "flex_flow": "row wrap",
       "width": "100%"
      }
     },
     "1681dc6080c546f5aa44aec18e6bf283": {
      "model_module": "@jupyter-widgets/base",
      "model_module_version": "1.2.0",
      "model_name": "LayoutModel",
      "state": {
       "flex": "2"
      }
     },
     "169013c90e9845e0a317969ffdcbdb5d": {
      "model_module": "@jupyter-widgets/controls",
      "model_module_version": "1.5.0",
      "model_name": "ProgressStyleModel",
      "state": {
       "description_width": "initial"
      }
     },
     "169fcd1ff177404486bb56ae2225ead6": {
      "model_module": "@jupyter-widgets/controls",
      "model_module_version": "1.5.0",
      "model_name": "DescriptionStyleModel",
      "state": {
       "description_width": ""
      }
     },
     "182e3058107e4c0db2521491a353633d": {
      "model_module": "@jupyter-widgets/controls",
      "model_module_version": "1.5.0",
      "model_name": "DescriptionStyleModel",
      "state": {
       "description_width": ""
      }
     },
     "185901f1b408477a819ba3d4faca8c75": {
      "model_module": "@jupyter-widgets/controls",
      "model_module_version": "1.5.0",
      "model_name": "HBoxModel",
      "state": {
       "children": [
        "IPY_MODEL_96d941536e44478f95fe087ff21f6739",
        "IPY_MODEL_107bb672d94543928b7202680f09fd0b"
       ],
       "layout": "IPY_MODEL_a182c2e55216483cae5f8d4e68b55dae"
      }
     },
     "185cf1ab64f14361a3072b1851e867b3": {
      "model_module": "@jupyter-widgets/controls",
      "model_module_version": "1.5.0",
      "model_name": "DescriptionStyleModel",
      "state": {
       "description_width": ""
      }
     },
     "1969f456c05f4fe98fca242b2b818628": {
      "model_module": "@jupyter-widgets/controls",
      "model_module_version": "1.5.0",
      "model_name": "HTMLModel",
      "state": {
       "layout": "IPY_MODEL_b3e978a81d654753b9819dee250bf69d",
       "style": "IPY_MODEL_c479aec1b8af47129e05eec1f289cda0",
       "value": " ETA: 00:00s - loss: 2.3755 - val_loss: 2.2185"
      }
     },
     "19cce9be5a4b43c7a795d9c720b93dbd": {
      "model_module": "@jupyter-widgets/base",
      "model_module_version": "1.2.0",
      "model_name": "LayoutModel",
      "state": {
       "display": "inline-flex",
       "flex_flow": "row wrap",
       "width": "100%"
      }
     },
     "19e9d777c08c488fa72f5de3b84a9003": {
      "model_module": "@jupyter-widgets/base",
      "model_module_version": "1.2.0",
      "model_name": "LayoutModel",
      "state": {}
     },
     "1a2ad377859f4655be47c63909ef6619": {
      "model_module": "@jupyter-widgets/controls",
      "model_module_version": "1.5.0",
      "model_name": "HBoxModel",
      "state": {
       "children": [
        "IPY_MODEL_557fe1e84ff64de59a649228630fa74c",
        "IPY_MODEL_4e6c3a0844bc440e9909e6a5e8d7da64"
       ],
       "layout": "IPY_MODEL_5545551ba1fd497bbf4f1544a7db109e"
      }
     },
     "1a3388be632643be9bfff3614e663595": {
      "model_module": "@jupyter-widgets/controls",
      "model_module_version": "1.5.0",
      "model_name": "FloatProgressModel",
      "state": {
       "bar_style": "success",
       "description": "2813/2813",
       "layout": "IPY_MODEL_479ab20da63d4379abcb9c41bb4ad285",
       "max": 2813,
       "style": "IPY_MODEL_6259009ce75b4caaa7ed5ec3e3105eb4",
       "value": 2813
      }
     },
     "1a5ed0b4a3364150b69f0c62782415d4": {
      "model_module": "@jupyter-widgets/controls",
      "model_module_version": "1.5.0",
      "model_name": "ProgressStyleModel",
      "state": {
       "description_width": "initial"
      }
     },
     "1b43f110b7eb4b9dbd5460f33af6fcf9": {
      "model_module": "@jupyter-widgets/controls",
      "model_module_version": "1.5.0",
      "model_name": "HTMLModel",
      "state": {
       "layout": "IPY_MODEL_c1eb9cb81c8c4a209f432aedd33b4592",
       "style": "IPY_MODEL_e20c1f49ad5e4a029fbcde81e49e4862",
       "value": " ETA: 00:00s - loss: 1.9336 - val_loss: 1.8634"
      }
     },
     "1b4d38d0219e4b038f8e0d8a61fd7368": {
      "model_module": "@jupyter-widgets/base",
      "model_module_version": "1.2.0",
      "model_name": "LayoutModel",
      "state": {}
     },
     "1b58f0b91f89429cb0e2ef64a1b993b4": {
      "model_module": "@jupyter-widgets/controls",
      "model_module_version": "1.5.0",
      "model_name": "ProgressStyleModel",
      "state": {
       "description_width": "initial"
      }
     },
     "1c0f235d7f9c460bbddd75f42aa642b3": {
      "model_module": "@jupyter-widgets/base",
      "model_module_version": "1.2.0",
      "model_name": "LayoutModel",
      "state": {}
     },
     "1c5917156d7c478ab0ac920abb2897e9": {
      "model_module": "@jupyter-widgets/controls",
      "model_module_version": "1.5.0",
      "model_name": "ProgressStyleModel",
      "state": {
       "description_width": "initial"
      }
     },
     "1c695d7877fb4315ba847fdc7e663bef": {
      "model_module": "@jupyter-widgets/controls",
      "model_module_version": "1.5.0",
      "model_name": "FloatProgressModel",
      "state": {
       "bar_style": "success",
       "description": "5625/5625",
       "layout": "IPY_MODEL_1681dc6080c546f5aa44aec18e6bf283",
       "max": 5625,
       "style": "IPY_MODEL_127044d0bfb34fe59590aa5921262729",
       "value": 5625
      }
     },
     "1ce9d430c1ec4e87b7efb13813407fea": {
      "model_module": "@jupyter-widgets/base",
      "model_module_version": "1.2.0",
      "model_name": "LayoutModel",
      "state": {
       "display": "inline-flex",
       "flex_flow": "row wrap",
       "width": "100%"
      }
     },
     "1d9c030d542244378964ecabbacfeb3b": {
      "model_module": "@jupyter-widgets/controls",
      "model_module_version": "1.5.0",
      "model_name": "FloatProgressModel",
      "state": {
       "description": "350/2813",
       "layout": "IPY_MODEL_c12e1fc9e47e48aca732250f0bab5b5f",
       "max": 2813,
       "style": "IPY_MODEL_d9d3ada3d1b94aae9c08ed6a31564290",
       "value": 350
      }
     },
     "1db8353b55fe40738e53c58dd5b334b7": {
      "model_module": "@jupyter-widgets/controls",
      "model_module_version": "1.5.0",
      "model_name": "DescriptionStyleModel",
      "state": {
       "description_width": ""
      }
     },
     "1f87c608c69a4ab885fa77428bcd09fd": {
      "model_module": "@jupyter-widgets/base",
      "model_module_version": "1.2.0",
      "model_name": "LayoutModel",
      "state": {
       "flex": "2"
      }
     },
     "1fba11cda22a4e87a93781fbd8d63b18": {
      "model_module": "@jupyter-widgets/controls",
      "model_module_version": "1.5.0",
      "model_name": "DescriptionStyleModel",
      "state": {
       "description_width": ""
      }
     },
     "203a499bb01944f4bd5591436370f70c": {
      "model_module": "@jupyter-widgets/controls",
      "model_module_version": "1.5.0",
      "model_name": "DescriptionStyleModel",
      "state": {
       "description_width": ""
      }
     },
     "20c6b1057aa54a1980caa9c74d4c8cc8": {
      "model_module": "@jupyter-widgets/controls",
      "model_module_version": "1.5.0",
      "model_name": "FloatProgressModel",
      "state": {
       "bar_style": "success",
       "description": "2813/2813",
       "layout": "IPY_MODEL_6dc9c2f31eeb4a53aebfc49130ddade2",
       "max": 2813,
       "style": "IPY_MODEL_1a5ed0b4a3364150b69f0c62782415d4",
       "value": 2813
      }
     },
     "21136710be0047aa860ed4ce59abb1be": {
      "model_module": "@jupyter-widgets/controls",
      "model_module_version": "1.5.0",
      "model_name": "DescriptionStyleModel",
      "state": {
       "description_width": ""
      }
     },
     "216b7aa91cd54ea1a943908a22d9443d": {
      "model_module": "@jupyter-widgets/base",
      "model_module_version": "1.2.0",
      "model_name": "LayoutModel",
      "state": {
       "display": "inline-flex",
       "flex_flow": "row wrap",
       "width": "100%"
      }
     },
     "22d3f5e8349e4a7b9a1e842f059ebd60": {
      "model_module": "@jupyter-widgets/controls",
      "model_module_version": "1.5.0",
      "model_name": "DescriptionStyleModel",
      "state": {
       "description_width": ""
      }
     },
     "23971862c05d480c8bfb160f7ed98c92": {
      "model_module": "@jupyter-widgets/controls",
      "model_module_version": "1.5.0",
      "model_name": "ProgressStyleModel",
      "state": {
       "description_width": "initial"
      }
     },
     "23d0325c75ac4ff99edc5db4bff17bc7": {
      "model_module": "@jupyter-widgets/controls",
      "model_module_version": "1.5.0",
      "model_name": "ProgressStyleModel",
      "state": {
       "description_width": "initial"
      }
     },
     "24240ef6b1fc428e9711058f23d3937f": {
      "model_module": "@jupyter-widgets/controls",
      "model_module_version": "1.5.0",
      "model_name": "ProgressStyleModel",
      "state": {
       "description_width": "initial"
      }
     },
     "2436636b5987456585f66ba45547de30": {
      "model_module": "@jupyter-widgets/controls",
      "model_module_version": "1.5.0",
      "model_name": "HTMLModel",
      "state": {
       "layout": "IPY_MODEL_d29f0f966b0f40c0b55acef616112807",
       "style": "IPY_MODEL_4f47823fe8c34c4bb229e753fcc2f37f",
       "value": " ETA: 00:00s - loss: 2.1394 - val_loss: 2.0811"
      }
     },
     "246041a1bf0547f9bb7628d27f298340": {
      "model_module": "@jupyter-widgets/controls",
      "model_module_version": "1.5.0",
      "model_name": "HTMLModel",
      "state": {
       "layout": "IPY_MODEL_94022ebd39cf42329bcbd10efaeb961a",
       "style": "IPY_MODEL_203a499bb01944f4bd5591436370f70c",
       "value": " ETA: 00:00s - loss: 1.5914 - val_loss: 1.7304"
      }
     },
     "24920f4ad68e41ea9216d20b0bf0c16d": {
      "model_module": "@jupyter-widgets/controls",
      "model_module_version": "1.5.0",
      "model_name": "HTMLModel",
      "state": {
       "layout": "IPY_MODEL_066fdd6e7e4d44d9820fdd237b48a1fc",
       "style": "IPY_MODEL_b9de6c3224bb45f7b31640574a8e1205",
       "value": " ETA: 20:49s - loss: 6.8288"
      }
     },
     "249f8589233d428a9df8b89b11689937": {
      "model_module": "@jupyter-widgets/base",
      "model_module_version": "1.2.0",
      "model_name": "LayoutModel",
      "state": {}
     },
     "24a706d3f3484958b20ebf5704b49e2c": {
      "model_module": "@jupyter-widgets/controls",
      "model_module_version": "1.5.0",
      "model_name": "HBoxModel",
      "state": {
       "children": [
        "IPY_MODEL_1d9c030d542244378964ecabbacfeb3b",
        "IPY_MODEL_24920f4ad68e41ea9216d20b0bf0c16d"
       ],
       "layout": "IPY_MODEL_ab96ae50b31841d78052e3c49a6cd16b"
      }
     },
     "2521fb358d6e45478cf21cff3fac58c2": {
      "model_module": "@jupyter-widgets/controls",
      "model_module_version": "1.5.0",
      "model_name": "HBoxModel",
      "state": {
       "children": [
        "IPY_MODEL_e703b35ed2fc4665ade3c00dea5c3e15",
        "IPY_MODEL_54b096cf182a4a03be2264f392c40d60"
       ],
       "layout": "IPY_MODEL_253c15c9eff24f8db03b30c357885d39"
      }
     },
     "253c15c9eff24f8db03b30c357885d39": {
      "model_module": "@jupyter-widgets/base",
      "model_module_version": "1.2.0",
      "model_name": "LayoutModel",
      "state": {
       "display": "inline-flex",
       "flex_flow": "row wrap",
       "width": "100%"
      }
     },
     "256aadc02c5343129a1d9e9e2f2c14c6": {
      "model_module": "@jupyter-widgets/base",
      "model_module_version": "1.2.0",
      "model_name": "LayoutModel",
      "state": {
       "flex": "2"
      }
     },
     "26003b0141e541e0b0eef7e27720cbe3": {
      "model_module": "@jupyter-widgets/controls",
      "model_module_version": "1.5.0",
      "model_name": "ProgressStyleModel",
      "state": {
       "description_width": "initial"
      }
     },
     "279b7e4cce0e48dcb777cd240964139e": {
      "model_module": "@jupyter-widgets/base",
      "model_module_version": "1.2.0",
      "model_name": "LayoutModel",
      "state": {}
     },
     "280d902e25ff4615b94b9f96723d59e0": {
      "model_module": "@jupyter-widgets/controls",
      "model_module_version": "1.5.0",
      "model_name": "ProgressStyleModel",
      "state": {
       "description_width": "initial"
      }
     },
     "2905713f388a4beaad7ea2a1e22fb154": {
      "model_module": "@jupyter-widgets/controls",
      "model_module_version": "1.5.0",
      "model_name": "HBoxModel",
      "state": {
       "children": [
        "IPY_MODEL_5e31d7dfc9c74c3d8401a195fa3eb52d",
        "IPY_MODEL_95a007d062f14c529b029cc7bdfe0651"
       ],
       "layout": "IPY_MODEL_00249e38c4424908ab1336f88ec25c65"
      }
     },
     "29c48199971145f69f802e90676bfea2": {
      "model_module": "@jupyter-widgets/controls",
      "model_module_version": "1.5.0",
      "model_name": "HBoxModel",
      "state": {
       "children": [
        "IPY_MODEL_f1923eb588ef428da5cc7aaeabca1da4",
        "IPY_MODEL_f16b5803d36a40f69f31d97554fc5a03"
       ],
       "layout": "IPY_MODEL_c84249d7f95f43f3b9eceeaf37c393d7"
      }
     },
     "2a825c009d9c48d1b19cc2d370191e31": {
      "model_module": "@jupyter-widgets/controls",
      "model_module_version": "1.5.0",
      "model_name": "HTMLModel",
      "state": {
       "layout": "IPY_MODEL_3e5a45d827574e7a9e5b76e1bb59c3a9",
       "style": "IPY_MODEL_abacf547eab44bce9c73f131411d7dee",
       "value": " ETA: 00:00s - loss: 1.6216 - val_loss: 1.7473"
      }
     },
     "2aaf25d01bd047778b0024f5a07ce938": {
      "model_module": "@jupyter-widgets/controls",
      "model_module_version": "1.5.0",
      "model_name": "FloatProgressModel",
      "state": {
       "bar_style": "success",
       "description": "2813/2813",
       "layout": "IPY_MODEL_fd7a4e253a724fe68b464c7a29b061d8",
       "max": 2813,
       "style": "IPY_MODEL_6f34ba17ff2849558ce2f0920ba09d50",
       "value": 2813
      }
     },
     "2bcf02b53afe46feae7a31969732ccb3": {
      "model_module": "@jupyter-widgets/base",
      "model_module_version": "1.2.0",
      "model_name": "LayoutModel",
      "state": {
       "flex": "2"
      }
     },
     "2e2f418022c744c28dea0a75b940ba5c": {
      "model_module": "@jupyter-widgets/base",
      "model_module_version": "1.2.0",
      "model_name": "LayoutModel",
      "state": {
       "display": "inline-flex",
       "flex_flow": "row wrap",
       "width": "100%"
      }
     },
     "2e42cef850ca49fa84e2c65cd142df90": {
      "model_module": "@jupyter-widgets/base",
      "model_module_version": "1.2.0",
      "model_name": "LayoutModel",
      "state": {}
     },
     "2e8c41a09ff04056ab613c8a72738fe6": {
      "model_module": "@jupyter-widgets/base",
      "model_module_version": "1.2.0",
      "model_name": "LayoutModel",
      "state": {}
     },
     "2eabd8c0e8c04cdea7b182f3d9295f8a": {
      "model_module": "@jupyter-widgets/controls",
      "model_module_version": "1.5.0",
      "model_name": "DescriptionStyleModel",
      "state": {
       "description_width": ""
      }
     },
     "2f99032d96a54b9fbf7910af070c65da": {
      "model_module": "@jupyter-widgets/base",
      "model_module_version": "1.2.0",
      "model_name": "LayoutModel",
      "state": {
       "flex": "2"
      }
     },
     "3027137bd77a40149f1af8c3ac669e82": {
      "model_module": "@jupyter-widgets/controls",
      "model_module_version": "1.5.0",
      "model_name": "FloatProgressModel",
      "state": {
       "bar_style": "success",
       "description": "2813/2813",
       "layout": "IPY_MODEL_aa03825e8eca4bd6bf0dd5626c25fffe",
       "max": 2813,
       "style": "IPY_MODEL_bae7275a30ba416fbc244443dd5028ba",
       "value": 2813
      }
     },
     "30d382ee2c954788b4b1208961267d8e": {
      "model_module": "@jupyter-widgets/base",
      "model_module_version": "1.2.0",
      "model_name": "LayoutModel",
      "state": {
       "flex": "2"
      }
     },
     "30d93eacd4ae42c49ed29a86fceea3ee": {
      "model_module": "@jupyter-widgets/base",
      "model_module_version": "1.2.0",
      "model_name": "LayoutModel",
      "state": {
       "display": "inline-flex",
       "flex_flow": "row wrap",
       "width": "100%"
      }
     },
     "30dfbd3716684082b6f47ce32d0ff708": {
      "model_module": "@jupyter-widgets/base",
      "model_module_version": "1.2.0",
      "model_name": "LayoutModel",
      "state": {
       "flex": "2"
      }
     },
     "310fded06abf4baf84585f3eb7084908": {
      "model_module": "@jupyter-widgets/base",
      "model_module_version": "1.2.0",
      "model_name": "LayoutModel",
      "state": {
       "flex": "2"
      }
     },
     "3110d08469e54cadb7def7d42344186e": {
      "model_module": "@jupyter-widgets/controls",
      "model_module_version": "1.5.0",
      "model_name": "HTMLModel",
      "state": {
       "layout": "IPY_MODEL_2e42cef850ca49fa84e2c65cd142df90",
       "style": "IPY_MODEL_df2abb91e0bf4336b032fea133b8b3ea",
       "value": " ETA: 00:00s - loss: 2.2399 - val_loss: 2.2444"
      }
     },
     "32895cfe5ede4ba2902bde939817107f": {
      "model_module": "@jupyter-widgets/base",
      "model_module_version": "1.2.0",
      "model_name": "LayoutModel",
      "state": {
       "display": "inline-flex",
       "flex_flow": "row wrap",
       "width": "100%"
      }
     },
     "331bb65c746f4ec5ae97115bb9c0ae5e": {
      "model_module": "@jupyter-widgets/controls",
      "model_module_version": "1.5.0",
      "model_name": "HBoxModel",
      "state": {
       "children": [
        "IPY_MODEL_60506b90e3a444bb9c499e2dfb85d707",
        "IPY_MODEL_d7926adc493744378fa7fb839df96adc"
       ],
       "layout": "IPY_MODEL_3971e42588fc48d2aec543ddb0fbc93c"
      }
     },
     "33500f26a19d4109b3649621871c6239": {
      "model_module": "@jupyter-widgets/base",
      "model_module_version": "1.2.0",
      "model_name": "LayoutModel",
      "state": {}
     },
     "338a5baa7e6341a7a53044a16ee2ccbe": {
      "model_module": "@jupyter-widgets/controls",
      "model_module_version": "1.5.0",
      "model_name": "FloatProgressModel",
      "state": {
       "bar_style": "success",
       "description": "2813/2813",
       "layout": "IPY_MODEL_395a869eafa94c82a092e46275b9b2fb",
       "max": 2813,
       "style": "IPY_MODEL_12963f95ebee4c28a3b8b8db72b72e8b",
       "value": 2813
      }
     },
     "33d20a5368b24ddc95cb914504cbcb2c": {
      "model_module": "@jupyter-widgets/base",
      "model_module_version": "1.2.0",
      "model_name": "LayoutModel",
      "state": {}
     },
     "33d9f6358a134eb9bee2092b9a5b53ad": {
      "model_module": "@jupyter-widgets/controls",
      "model_module_version": "1.5.0",
      "model_name": "FloatProgressModel",
      "state": {
       "bar_style": "success",
       "description": "5625/5625",
       "layout": "IPY_MODEL_36aed8af2c514d22b3d77eb5bd46184d",
       "max": 5625,
       "style": "IPY_MODEL_74b8cb1914b7403c85f17d89f3765f23",
       "value": 5625
      }
     },
     "3487879a365a45979ca7ceaa25eb4538": {
      "model_module": "@jupyter-widgets/base",
      "model_module_version": "1.2.0",
      "model_name": "LayoutModel",
      "state": {
       "flex": "2"
      }
     },
     "34b642159d2f4d61b34710923433ae53": {
      "model_module": "@jupyter-widgets/base",
      "model_module_version": "1.2.0",
      "model_name": "LayoutModel",
      "state": {
       "flex": "2"
      }
     },
     "3591bd79240647fc85c8acdc2d502a1e": {
      "model_module": "@jupyter-widgets/base",
      "model_module_version": "1.2.0",
      "model_name": "LayoutModel",
      "state": {
       "flex": "2"
      }
     },
     "35f1e2de7934491ab85357164fb5b839": {
      "model_module": "@jupyter-widgets/base",
      "model_module_version": "1.2.0",
      "model_name": "LayoutModel",
      "state": {}
     },
     "36a7b395b40f47f89a32fad92ab7bb17": {
      "model_module": "@jupyter-widgets/controls",
      "model_module_version": "1.5.0",
      "model_name": "ProgressStyleModel",
      "state": {
       "description_width": "initial"
      }
     },
     "36aed8af2c514d22b3d77eb5bd46184d": {
      "model_module": "@jupyter-widgets/base",
      "model_module_version": "1.2.0",
      "model_name": "LayoutModel",
      "state": {
       "flex": "2"
      }
     },
     "372fde0e1c6e4c1fa748a49446cec8e6": {
      "model_module": "@jupyter-widgets/controls",
      "model_module_version": "1.5.0",
      "model_name": "ProgressStyleModel",
      "state": {
       "description_width": "initial"
      }
     },
     "3749ee8a8ad949dcab4a19e89a5c890d": {
      "model_module": "@jupyter-widgets/controls",
      "model_module_version": "1.5.0",
      "model_name": "HBoxModel",
      "state": {
       "children": [
        "IPY_MODEL_88aa54a0d11046038e50c711c041990d",
        "IPY_MODEL_f998ab0f2b724da69a6cc1f8d2f80a30"
       ],
       "layout": "IPY_MODEL_162e2279a87d4af0955b0b74b879faa0"
      }
     },
     "37c712995e65437da85cebfd70656796": {
      "model_module": "@jupyter-widgets/base",
      "model_module_version": "1.2.0",
      "model_name": "LayoutModel",
      "state": {}
     },
     "38de46bdcc24444bbc039b0fd7821edb": {
      "model_module": "@jupyter-widgets/controls",
      "model_module_version": "1.5.0",
      "model_name": "HBoxModel",
      "state": {
       "children": [
        "IPY_MODEL_d921e189d2824881bb85ebb89cd122f6",
        "IPY_MODEL_246041a1bf0547f9bb7628d27f298340"
       ],
       "layout": "IPY_MODEL_c2e4e67726f744e29e39ed0b83d4eaff"
      }
     },
     "3919971f4dc54cb4b869e42bdbe3f838": {
      "model_module": "@jupyter-widgets/controls",
      "model_module_version": "1.5.0",
      "model_name": "DescriptionStyleModel",
      "state": {
       "description_width": ""
      }
     },
     "393a1b98b7b7497fb854b25edf86f2c3": {
      "model_module": "@jupyter-widgets/controls",
      "model_module_version": "1.5.0",
      "model_name": "HBoxModel",
      "state": {
       "children": [
        "IPY_MODEL_043dbeaa14584679acc20b2ed7eb19cf",
        "IPY_MODEL_d3de55840b5b46e69274d32203173869"
       ],
       "layout": "IPY_MODEL_b970b8813662404b9cc511d3a2d9827b"
      }
     },
     "3947dca3295b41bfaad17bb2e70525a2": {
      "model_module": "@jupyter-widgets/controls",
      "model_module_version": "1.5.0",
      "model_name": "DescriptionStyleModel",
      "state": {
       "description_width": ""
      }
     },
     "395a869eafa94c82a092e46275b9b2fb": {
      "model_module": "@jupyter-widgets/base",
      "model_module_version": "1.2.0",
      "model_name": "LayoutModel",
      "state": {
       "flex": "2"
      }
     },
     "3971e42588fc48d2aec543ddb0fbc93c": {
      "model_module": "@jupyter-widgets/base",
      "model_module_version": "1.2.0",
      "model_name": "LayoutModel",
      "state": {
       "display": "inline-flex",
       "flex_flow": "row wrap",
       "width": "100%"
      }
     },
     "39ffacf25a1e42948a8db162f90398e8": {
      "model_module": "@jupyter-widgets/controls",
      "model_module_version": "1.5.0",
      "model_name": "ProgressStyleModel",
      "state": {
       "description_width": "initial"
      }
     },
     "3ab217aa36f5489eb916e9ca1340e716": {
      "model_module": "@jupyter-widgets/base",
      "model_module_version": "1.2.0",
      "model_name": "LayoutModel",
      "state": {
       "flex": "2"
      }
     },
     "3ae95dbb28fa47d289a2670b38dd1e3d": {
      "model_module": "@jupyter-widgets/controls",
      "model_module_version": "1.5.0",
      "model_name": "HBoxModel",
      "state": {
       "children": [
        "IPY_MODEL_d00bbf78eedd43eb8840f5226da82cb2",
        "IPY_MODEL_60882b4aa8d94e17ac6aee1b0ba15782"
       ],
       "layout": "IPY_MODEL_06349ababd3d498a9ce46ba74cd4d369"
      }
     },
     "3b551da62e9c40d28a7536a8469a78bb": {
      "model_module": "@jupyter-widgets/controls",
      "model_module_version": "1.5.0",
      "model_name": "HTMLModel",
      "state": {
       "layout": "IPY_MODEL_01443d2a18ac400da243975b463065d6",
       "style": "IPY_MODEL_af84a76438b8471290706d2143a5d84a",
       "value": " ETA: 00:00s - loss: 1.8967 - val_loss: 1.8930"
      }
     },
     "3ca7bac772f44e75a72d6310fdfcd143": {
      "model_module": "@jupyter-widgets/controls",
      "model_module_version": "1.5.0",
      "model_name": "HBoxModel",
      "state": {
       "children": [
        "IPY_MODEL_20c6b1057aa54a1980caa9c74d4c8cc8",
        "IPY_MODEL_162077ba2a984c33be0fbd84cad1eccd"
       ],
       "layout": "IPY_MODEL_09f6191bdfc749bc825db0e98e8fc5bb"
      }
     },
     "3d4b1c0a91e44a4c8a310f47a76291d8": {
      "model_module": "@jupyter-widgets/base",
      "model_module_version": "1.2.0",
      "model_name": "LayoutModel",
      "state": {
       "display": "inline-flex",
       "flex_flow": "row wrap",
       "width": "100%"
      }
     },
     "3d875ac567f44ebc881c208c41fa0cd3": {
      "model_module": "@jupyter-widgets/base",
      "model_module_version": "1.2.0",
      "model_name": "LayoutModel",
      "state": {}
     },
     "3d99113a028442f186114ad7c872e303": {
      "model_module": "@jupyter-widgets/controls",
      "model_module_version": "1.5.0",
      "model_name": "DescriptionStyleModel",
      "state": {
       "description_width": ""
      }
     },
     "3e465925c90746928620f025301bc94b": {
      "model_module": "@jupyter-widgets/controls",
      "model_module_version": "1.5.0",
      "model_name": "HTMLModel",
      "state": {
       "layout": "IPY_MODEL_1204e8596bc74215bd0fa1f1d9ae3535",
       "style": "IPY_MODEL_2eabd8c0e8c04cdea7b182f3d9295f8a",
       "value": " ETA: 00:00s - loss: 1.7028 - val_loss: 1.7401"
      }
     },
     "3e5a45d827574e7a9e5b76e1bb59c3a9": {
      "model_module": "@jupyter-widgets/base",
      "model_module_version": "1.2.0",
      "model_name": "LayoutModel",
      "state": {}
     },
     "3e8e7da21bfc4100a9956d7a68a8a977": {
      "model_module": "@jupyter-widgets/base",
      "model_module_version": "1.2.0",
      "model_name": "LayoutModel",
      "state": {
       "display": "inline-flex",
       "flex_flow": "row wrap",
       "width": "100%"
      }
     },
     "3f38375cbabe48dbb74e8f79c21b891f": {
      "model_module": "@jupyter-widgets/base",
      "model_module_version": "1.2.0",
      "model_name": "LayoutModel",
      "state": {
       "display": "inline-flex",
       "flex_flow": "row wrap",
       "width": "100%"
      }
     },
     "3f686dbafcce4fc6a7f5c4461d672e5f": {
      "model_module": "@jupyter-widgets/controls",
      "model_module_version": "1.5.0",
      "model_name": "FloatProgressModel",
      "state": {
       "bar_style": "success",
       "description": "2813/2813",
       "layout": "IPY_MODEL_3487879a365a45979ca7ceaa25eb4538",
       "max": 2813,
       "style": "IPY_MODEL_057a40cef8034efe885c9cf12299322f",
       "value": 2813
      }
     },
     "3f88aa97e3fb4e81a1c58cfca6083a1e": {
      "model_module": "@jupyter-widgets/controls",
      "model_module_version": "1.5.0",
      "model_name": "DescriptionStyleModel",
      "state": {
       "description_width": ""
      }
     },
     "3fe00f7571e94119bd5ce97b0259bedc": {
      "model_module": "@jupyter-widgets/controls",
      "model_module_version": "1.5.0",
      "model_name": "HBoxModel",
      "state": {
       "children": [
        "IPY_MODEL_11472f6d02534f79bd7428fd89883f9c",
        "IPY_MODEL_99c99a8c35fe4517b604ab4fe9e3ef30"
       ],
       "layout": "IPY_MODEL_32895cfe5ede4ba2902bde939817107f"
      }
     },
     "405c097d037649be870b7d14b2363ba7": {
      "model_module": "@jupyter-widgets/base",
      "model_module_version": "1.2.0",
      "model_name": "LayoutModel",
      "state": {
       "display": "inline-flex",
       "flex_flow": "row wrap",
       "width": "100%"
      }
     },
     "405e47f28b3b4d7f812de725769316ff": {
      "model_module": "@jupyter-widgets/controls",
      "model_module_version": "1.5.0",
      "model_name": "HBoxModel",
      "state": {
       "children": [
        "IPY_MODEL_eb6dc036dffc44eb8f123f6a401208b6",
        "IPY_MODEL_f940018610ea4c9b99270fa933aeef55"
       ],
       "layout": "IPY_MODEL_efacbdc2dbb441c6871d9f6558457cb7"
      }
     },
     "4133d3c5ed3b4cbd9b331f8ccb7c0d06": {
      "model_module": "@jupyter-widgets/base",
      "model_module_version": "1.2.0",
      "model_name": "LayoutModel",
      "state": {
       "flex": "2"
      }
     },
     "41b2e6add82d42cbb29b079cc66a5a6c": {
      "model_module": "@jupyter-widgets/controls",
      "model_module_version": "1.5.0",
      "model_name": "FloatProgressModel",
      "state": {
       "bar_style": "success",
       "description": "2813/2813",
       "layout": "IPY_MODEL_34b642159d2f4d61b34710923433ae53",
       "max": 2813,
       "style": "IPY_MODEL_484c5657cfb44cefaf01fad1c0ebbb7d",
       "value": 2813
      }
     },
     "4266b1a375234f03929fce132cb67742": {
      "model_module": "@jupyter-widgets/controls",
      "model_module_version": "1.5.0",
      "model_name": "HBoxModel",
      "state": {
       "children": [
        "IPY_MODEL_b1199744a2084fd7a559eab368adff2f",
        "IPY_MODEL_6398cf4fff4045daaaf7457b83623c94"
       ],
       "layout": "IPY_MODEL_5be202ad46404288897f70c659da560e"
      }
     },
     "42f4264689eb439f8d8b229e1bc3b819": {
      "model_module": "@jupyter-widgets/base",
      "model_module_version": "1.2.0",
      "model_name": "LayoutModel",
      "state": {}
     },
     "441bc36e389b42a8b87d308cd90f92b1": {
      "model_module": "@jupyter-widgets/controls",
      "model_module_version": "1.5.0",
      "model_name": "HBoxModel",
      "state": {
       "children": [
        "IPY_MODEL_91e28613ace94b07aba93dbce114fcc6",
        "IPY_MODEL_541e599bfd154e3885264e9941f11b81"
       ],
       "layout": "IPY_MODEL_4bbaf00c4ec84e22bed95fcbd366ba20"
      }
     },
     "45293884df9540bb868d1cb5d17389d3": {
      "model_module": "@jupyter-widgets/base",
      "model_module_version": "1.2.0",
      "model_name": "LayoutModel",
      "state": {
       "flex": "2"
      }
     },
     "4555fd2b1f014d88a971ed4009a38826": {
      "model_module": "@jupyter-widgets/base",
      "model_module_version": "1.2.0",
      "model_name": "LayoutModel",
      "state": {
       "display": "inline-flex",
       "flex_flow": "row wrap",
       "width": "100%"
      }
     },
     "46009ba45adf4bcfaa5dd2368a34f70c": {
      "model_module": "@jupyter-widgets/controls",
      "model_module_version": "1.5.0",
      "model_name": "HTMLModel",
      "state": {
       "layout": "IPY_MODEL_4a67e3c4d98c4ecda84c319989fb2a98",
       "style": "IPY_MODEL_5986a04840694e6fa8797adf65a44bde",
       "value": " ETA: 00:00s - loss: 2.1828 - val_loss: 2.1343"
      }
     },
     "4688bdca321047e18d2d737e1e79df18": {
      "model_module": "@jupyter-widgets/controls",
      "model_module_version": "1.5.0",
      "model_name": "HTMLModel",
      "state": {
       "layout": "IPY_MODEL_0ae7e192bd12487091dc35203db957a9",
       "style": "IPY_MODEL_1db8353b55fe40738e53c58dd5b334b7",
       "value": " ETA: 00:00s - loss: 2.1922 - val_loss: 2.1527"
      }
     },
     "46ac7a3a950242dd994810664b5cdef8": {
      "model_module": "@jupyter-widgets/base",
      "model_module_version": "1.2.0",
      "model_name": "LayoutModel",
      "state": {}
     },
     "470889361ab346bd908bc8b0147ab216": {
      "model_module": "@jupyter-widgets/base",
      "model_module_version": "1.2.0",
      "model_name": "LayoutModel",
      "state": {
       "display": "inline-flex",
       "flex_flow": "row wrap",
       "width": "100%"
      }
     },
     "475efbbe59af46dbb12116156a36c885": {
      "model_module": "@jupyter-widgets/base",
      "model_module_version": "1.2.0",
      "model_name": "LayoutModel",
      "state": {}
     },
     "479ab20da63d4379abcb9c41bb4ad285": {
      "model_module": "@jupyter-widgets/base",
      "model_module_version": "1.2.0",
      "model_name": "LayoutModel",
      "state": {
       "flex": "2"
      }
     },
     "484c5657cfb44cefaf01fad1c0ebbb7d": {
      "model_module": "@jupyter-widgets/controls",
      "model_module_version": "1.5.0",
      "model_name": "ProgressStyleModel",
      "state": {
       "description_width": "initial"
      }
     },
     "487651d8d55e431fafd8a9dd4caed2f2": {
      "model_module": "@jupyter-widgets/controls",
      "model_module_version": "1.5.0",
      "model_name": "HBoxModel",
      "state": {
       "children": [
        "IPY_MODEL_a26b677c9b574e7eb7ab545688bc8edb",
        "IPY_MODEL_b91409bf405a4eaeae011ffad4006440"
       ],
       "layout": "IPY_MODEL_1ce9d430c1ec4e87b7efb13813407fea"
      }
     },
     "48b6cc14bd2541e0bf44e9c1077cb60f": {
      "model_module": "@jupyter-widgets/base",
      "model_module_version": "1.2.0",
      "model_name": "LayoutModel",
      "state": {}
     },
     "48df46b9ec0e4404a3b67582377fa633": {
      "model_module": "@jupyter-widgets/controls",
      "model_module_version": "1.5.0",
      "model_name": "DescriptionStyleModel",
      "state": {
       "description_width": ""
      }
     },
     "490beabb9ad5405f8640dc45bc4413aa": {
      "model_module": "@jupyter-widgets/base",
      "model_module_version": "1.2.0",
      "model_name": "LayoutModel",
      "state": {
       "display": "inline-flex",
       "flex_flow": "row wrap",
       "width": "100%"
      }
     },
     "49fb496bc0ab43dab86c59ef24be0258": {
      "model_module": "@jupyter-widgets/controls",
      "model_module_version": "1.5.0",
      "model_name": "DescriptionStyleModel",
      "state": {
       "description_width": ""
      }
     },
     "4a67e3c4d98c4ecda84c319989fb2a98": {
      "model_module": "@jupyter-widgets/base",
      "model_module_version": "1.2.0",
      "model_name": "LayoutModel",
      "state": {}
     },
     "4b7f8755401e4747abb5bef9e998c841": {
      "model_module": "@jupyter-widgets/base",
      "model_module_version": "1.2.0",
      "model_name": "LayoutModel",
      "state": {}
     },
     "4bb3415d8c7146d2ac18708ee9a34b84": {
      "model_module": "@jupyter-widgets/controls",
      "model_module_version": "1.5.0",
      "model_name": "HBoxModel",
      "state": {
       "children": [
        "IPY_MODEL_995f10fe66064c2bae787b1809ddaaf3",
        "IPY_MODEL_957d10b62354491d9e352f32a7a8db36"
       ],
       "layout": "IPY_MODEL_8720003fb64d4f4eb76399899a3cfaf0"
      }
     },
     "4bbaf00c4ec84e22bed95fcbd366ba20": {
      "model_module": "@jupyter-widgets/base",
      "model_module_version": "1.2.0",
      "model_name": "LayoutModel",
      "state": {
       "display": "inline-flex",
       "flex_flow": "row wrap",
       "width": "100%"
      }
     },
     "4c05441f06574de18be249c08caa0c2e": {
      "model_module": "@jupyter-widgets/base",
      "model_module_version": "1.2.0",
      "model_name": "LayoutModel",
      "state": {
       "flex": "2"
      }
     },
     "4c78aab5b056490db2edcff29f0837ce": {
      "model_module": "@jupyter-widgets/controls",
      "model_module_version": "1.5.0",
      "model_name": "HTMLModel",
      "state": {
       "layout": "IPY_MODEL_33500f26a19d4109b3649621871c6239",
       "style": "IPY_MODEL_eda34a59f47641a786a7994981a77d99",
       "value": " ETA: 00:00s - loss: 1.8400 - val_loss: 1.9132"
      }
     },
     "4cfda4c690d94231b9c57456d0564e5d": {
      "model_module": "@jupyter-widgets/controls",
      "model_module_version": "1.5.0",
      "model_name": "HBoxModel",
      "state": {
       "children": [
        "IPY_MODEL_e8ff77e4dcef4a6ca9604b525990a02c",
        "IPY_MODEL_683b9356ce56469593f4539b49951349"
       ],
       "layout": "IPY_MODEL_a31aeb46b5264f3185fead318d644ac9"
      }
     },
     "4d33eaa669854acbbfed52c9a073fbab": {
      "model_module": "@jupyter-widgets/controls",
      "model_module_version": "1.5.0",
      "model_name": "HBoxModel",
      "state": {
       "children": [
        "IPY_MODEL_b21b0cb8d58841058c5fd6dbcbf44cc8",
        "IPY_MODEL_0a7607421e46491fa1b529818fe7a05f"
       ],
       "layout": "IPY_MODEL_6387d226da3a490baf280b5ab313c8d3"
      }
     },
     "4d54068ed4594698af1073d215d58deb": {
      "model_module": "@jupyter-widgets/base",
      "model_module_version": "1.2.0",
      "model_name": "LayoutModel",
      "state": {
       "display": "inline-flex",
       "flex_flow": "row wrap",
       "width": "100%"
      }
     },
     "4d558af3383748e2acab274d322b93e2": {
      "model_module": "@jupyter-widgets/base",
      "model_module_version": "1.2.0",
      "model_name": "LayoutModel",
      "state": {}
     },
     "4e0a01bb54604c7db44b5bedd02696fc": {
      "model_module": "@jupyter-widgets/controls",
      "model_module_version": "1.5.0",
      "model_name": "DescriptionStyleModel",
      "state": {
       "description_width": ""
      }
     },
     "4e6c3a0844bc440e9909e6a5e8d7da64": {
      "model_module": "@jupyter-widgets/controls",
      "model_module_version": "1.5.0",
      "model_name": "HTMLModel",
      "state": {
       "layout": "IPY_MODEL_fdef4e7838e940bf967f63f18db9cd45",
       "style": "IPY_MODEL_709a04148a7947f0b638e43a65846f1d",
       "value": " ETA: 00:00s - loss: 2.5673 - val_loss: 2.6966"
      }
     },
     "4f47823fe8c34c4bb229e753fcc2f37f": {
      "model_module": "@jupyter-widgets/controls",
      "model_module_version": "1.5.0",
      "model_name": "DescriptionStyleModel",
      "state": {
       "description_width": ""
      }
     },
     "4ff8e855caa0486992eae2f2067dacec": {
      "model_module": "@jupyter-widgets/controls",
      "model_module_version": "1.5.0",
      "model_name": "HBoxModel",
      "state": {
       "children": [
        "IPY_MODEL_d5aae18489534882ba7f2588d6442157",
        "IPY_MODEL_bfedd16eafb6481091c924e5b0920520"
       ],
       "layout": "IPY_MODEL_b913a951a9c64676b8a767a8b4c58fea"
      }
     },
     "509dd952d8624b32829be59b53a9e3f8": {
      "model_module": "@jupyter-widgets/controls",
      "model_module_version": "1.5.0",
      "model_name": "FloatProgressModel",
      "state": {
       "bar_style": "success",
       "description": "2813/2813",
       "layout": "IPY_MODEL_30d382ee2c954788b4b1208961267d8e",
       "max": 2813,
       "style": "IPY_MODEL_24240ef6b1fc428e9711058f23d3937f",
       "value": 2813
      }
     },
     "51673063f920448a8368dd154a701a3f": {
      "model_module": "@jupyter-widgets/controls",
      "model_module_version": "1.5.0",
      "model_name": "DescriptionStyleModel",
      "state": {
       "description_width": ""
      }
     },
     "51ccf73aba91447ab1739613d2da4956": {
      "model_module": "@jupyter-widgets/base",
      "model_module_version": "1.2.0",
      "model_name": "LayoutModel",
      "state": {
       "flex": "2"
      }
     },
     "51dc49f7fcd7466988a19a66ec5a88b6": {
      "model_module": "@jupyter-widgets/controls",
      "model_module_version": "1.5.0",
      "model_name": "ProgressStyleModel",
      "state": {
       "description_width": "initial"
      }
     },
     "5254d1c828e44783a59890ad327c3a86": {
      "model_module": "@jupyter-widgets/base",
      "model_module_version": "1.2.0",
      "model_name": "LayoutModel",
      "state": {
       "display": "inline-flex",
       "flex_flow": "row wrap",
       "width": "100%"
      }
     },
     "52e4ad9e1a564d8ea4119039d50dff1d": {
      "model_module": "@jupyter-widgets/controls",
      "model_module_version": "1.5.0",
      "model_name": "HBoxModel",
      "state": {
       "children": [
        "IPY_MODEL_1c695d7877fb4315ba847fdc7e663bef",
        "IPY_MODEL_4688bdca321047e18d2d737e1e79df18"
       ],
       "layout": "IPY_MODEL_91439b79831447e3816fac25fa894090"
      }
     },
     "53bc3c629eef4252bc3ec1e4a888315f": {
      "model_module": "@jupyter-widgets/base",
      "model_module_version": "1.2.0",
      "model_name": "LayoutModel",
      "state": {
       "flex": "2"
      }
     },
     "53c584568ab94b0ea04f7afc7baa8ecf": {
      "model_module": "@jupyter-widgets/controls",
      "model_module_version": "1.5.0",
      "model_name": "HBoxModel",
      "state": {
       "children": [
        "IPY_MODEL_d237e3f2021645dbbbbbe95dad990e2c",
        "IPY_MODEL_e4ed2a19604f47b1b8c55670ae801188"
       ],
       "layout": "IPY_MODEL_d17c70fd41004d03ba8239fd3636635c"
      }
     },
     "541e599bfd154e3885264e9941f11b81": {
      "model_module": "@jupyter-widgets/controls",
      "model_module_version": "1.5.0",
      "model_name": "HTMLModel",
      "state": {
       "layout": "IPY_MODEL_249f8589233d428a9df8b89b11689937",
       "style": "IPY_MODEL_0433b0ea8d7f449aaf97855abada835e",
       "value": " ETA: 00:00s - loss: 2.2450 - val_loss: 2.2883"
      }
     },
     "543412a9c47b400892c23eccc698b3b1": {
      "model_module": "@jupyter-widgets/base",
      "model_module_version": "1.2.0",
      "model_name": "LayoutModel",
      "state": {
       "display": "inline-flex",
       "flex_flow": "row wrap",
       "width": "100%"
      }
     },
     "54715092b28a4332b8b07691248ff873": {
      "model_module": "@jupyter-widgets/base",
      "model_module_version": "1.2.0",
      "model_name": "LayoutModel",
      "state": {
       "display": "inline-flex",
       "flex_flow": "row wrap",
       "width": "100%"
      }
     },
     "54b096cf182a4a03be2264f392c40d60": {
      "model_module": "@jupyter-widgets/controls",
      "model_module_version": "1.5.0",
      "model_name": "HTMLModel",
      "state": {
       "layout": "IPY_MODEL_475efbbe59af46dbb12116156a36c885",
       "style": "IPY_MODEL_182e3058107e4c0db2521491a353633d",
       "value": " ETA: 00:00s - loss: 3.1826 - val_loss: 2.7618"
      }
     },
     "5545551ba1fd497bbf4f1544a7db109e": {
      "model_module": "@jupyter-widgets/base",
      "model_module_version": "1.2.0",
      "model_name": "LayoutModel",
      "state": {
       "display": "inline-flex",
       "flex_flow": "row wrap",
       "width": "100%"
      }
     },
     "557fe1e84ff64de59a649228630fa74c": {
      "model_module": "@jupyter-widgets/controls",
      "model_module_version": "1.5.0",
      "model_name": "FloatProgressModel",
      "state": {
       "bar_style": "success",
       "description": "2813/2813",
       "layout": "IPY_MODEL_0d48b0247cba47b59dbf5a0112ae395e",
       "max": 2813,
       "style": "IPY_MODEL_0d204214958e40f78593eda5bf5a07e1",
       "value": 2813
      }
     },
     "55ec9cc02ec840589dfe701c7cce4db1": {
      "model_module": "@jupyter-widgets/controls",
      "model_module_version": "1.5.0",
      "model_name": "HBoxModel",
      "state": {
       "children": [
        "IPY_MODEL_b8b37a675c354402a7e802efd801063e",
        "IPY_MODEL_77679f59cb33434ea035fb92c3739744"
       ],
       "layout": "IPY_MODEL_9696b3b221f147b4ad762ae4b91c52e9"
      }
     },
     "57cfb9ae68844497abbd45def6598fae": {
      "model_module": "@jupyter-widgets/base",
      "model_module_version": "1.2.0",
      "model_name": "LayoutModel",
      "state": {
       "flex": "2"
      }
     },
     "58b74cd29d6a4dce9a2b6e3974ab9170": {
      "model_module": "@jupyter-widgets/controls",
      "model_module_version": "1.5.0",
      "model_name": "ProgressStyleModel",
      "state": {
       "description_width": "initial"
      }
     },
     "58dbb5833b5a4ae1a103388514500715": {
      "model_module": "@jupyter-widgets/controls",
      "model_module_version": "1.5.0",
      "model_name": "HTMLModel",
      "state": {
       "layout": "IPY_MODEL_0f303e8c5be14f5c8307ec3a8fa110f3",
       "style": "IPY_MODEL_169fcd1ff177404486bb56ae2225ead6",
       "value": " ETA: 00:00s - loss: 1.2846 - val_loss: 1.8605"
      }
     },
     "5986a04840694e6fa8797adf65a44bde": {
      "model_module": "@jupyter-widgets/controls",
      "model_module_version": "1.5.0",
      "model_name": "DescriptionStyleModel",
      "state": {
       "description_width": ""
      }
     },
     "59dff7d9ee08499982bdcbb3bddbfbeb": {
      "model_module": "@jupyter-widgets/controls",
      "model_module_version": "1.5.0",
      "model_name": "DescriptionStyleModel",
      "state": {
       "description_width": ""
      }
     },
     "5a7aa87e80ab4bcb9a031cb17a5f0bfc": {
      "model_module": "@jupyter-widgets/controls",
      "model_module_version": "1.5.0",
      "model_name": "HTMLModel",
      "state": {
       "layout": "IPY_MODEL_d477aff00470460db10be63a93dd5ba1",
       "style": "IPY_MODEL_cf68061f1109486682984a7a8f6b6387",
       "value": " ETA: 00:00s - loss: 1.5175 - val_loss: 1.7690"
      }
     },
     "5b8e5e5318a14d3b8e736e376bba7c82": {
      "model_module": "@jupyter-widgets/base",
      "model_module_version": "1.2.0",
      "model_name": "LayoutModel",
      "state": {}
     },
     "5bdc75d0f6df405caa813349e3b2873a": {
      "model_module": "@jupyter-widgets/controls",
      "model_module_version": "1.5.0",
      "model_name": "DescriptionStyleModel",
      "state": {
       "description_width": ""
      }
     },
     "5be202ad46404288897f70c659da560e": {
      "model_module": "@jupyter-widgets/base",
      "model_module_version": "1.2.0",
      "model_name": "LayoutModel",
      "state": {
       "display": "inline-flex",
       "flex_flow": "row wrap",
       "width": "100%"
      }
     },
     "5cec5fd885c74b0fac92cf9c1cc6320b": {
      "model_module": "@jupyter-widgets/base",
      "model_module_version": "1.2.0",
      "model_name": "LayoutModel",
      "state": {
       "flex": "2"
      }
     },
     "5db68815bee04b078918feca7bf41c56": {
      "model_module": "@jupyter-widgets/controls",
      "model_module_version": "1.5.0",
      "model_name": "DescriptionStyleModel",
      "state": {
       "description_width": ""
      }
     },
     "5e31d7dfc9c74c3d8401a195fa3eb52d": {
      "model_module": "@jupyter-widgets/controls",
      "model_module_version": "1.5.0",
      "model_name": "FloatProgressModel",
      "state": {
       "bar_style": "success",
       "description": "2813/2813",
       "layout": "IPY_MODEL_847e0680bd9544d6919ad9bf8a56a193",
       "max": 2813,
       "style": "IPY_MODEL_bfdc690224dc46e4a34e5e0f208fd6a0",
       "value": 2813
      }
     },
     "5f9c9041926a4b97bf04edaf446d55fd": {
      "model_module": "@jupyter-widgets/base",
      "model_module_version": "1.2.0",
      "model_name": "LayoutModel",
      "state": {
       "display": "inline-flex",
       "flex_flow": "row wrap",
       "width": "100%"
      }
     },
     "5fcd08130fcd492e8cb872f27a32e6a7": {
      "model_module": "@jupyter-widgets/controls",
      "model_module_version": "1.5.0",
      "model_name": "HTMLModel",
      "state": {
       "layout": "IPY_MODEL_d2c56f12f7db4e04b7256dc013b9b875",
       "style": "IPY_MODEL_3919971f4dc54cb4b869e42bdbe3f838",
       "value": " ETA: 00:00s - loss: 2.3247 - val_loss: 2.1201"
      }
     },
     "60506b90e3a444bb9c499e2dfb85d707": {
      "model_module": "@jupyter-widgets/controls",
      "model_module_version": "1.5.0",
      "model_name": "FloatProgressModel",
      "state": {
       "bar_style": "success",
       "description": "2813/2813",
       "layout": "IPY_MODEL_6aa0422d2ed74de59b5b5648837aa9ad",
       "max": 2813,
       "style": "IPY_MODEL_26003b0141e541e0b0eef7e27720cbe3",
       "value": 2813
      }
     },
     "60882b4aa8d94e17ac6aee1b0ba15782": {
      "model_module": "@jupyter-widgets/controls",
      "model_module_version": "1.5.0",
      "model_name": "HTMLModel",
      "state": {
       "layout": "IPY_MODEL_8f6c2ddea31f4f75bf290dde2a61c5af",
       "style": "IPY_MODEL_dabb326955ae4404a02b162230cfb498",
       "value": " ETA: 00:00s - loss: 2.3067 - val_loss: 2.2270"
      }
     },
     "6259009ce75b4caaa7ed5ec3e3105eb4": {
      "model_module": "@jupyter-widgets/controls",
      "model_module_version": "1.5.0",
      "model_name": "ProgressStyleModel",
      "state": {
       "description_width": "initial"
      }
     },
     "6282b9aa04f24eb6ac5374a4489a0aa3": {
      "model_module": "@jupyter-widgets/base",
      "model_module_version": "1.2.0",
      "model_name": "LayoutModel",
      "state": {
       "flex": "2"
      }
     },
     "62fd6189309a4bb6ba5a9fee33436c7d": {
      "model_module": "@jupyter-widgets/controls",
      "model_module_version": "1.5.0",
      "model_name": "HBoxModel",
      "state": {
       "children": [
        "IPY_MODEL_c56f6f0e614043b4bc7712f0093db757",
        "IPY_MODEL_65e47b94900e47769db955c6ff0bb6e2"
       ],
       "layout": "IPY_MODEL_0b6ddeda764547c0a55d44db4aa91d32"
      }
     },
     "636ba75a026c4719a09f28414cedca63": {
      "model_module": "@jupyter-widgets/base",
      "model_module_version": "1.2.0",
      "model_name": "LayoutModel",
      "state": {
       "flex": "2"
      }
     },
     "6387d226da3a490baf280b5ab313c8d3": {
      "model_module": "@jupyter-widgets/base",
      "model_module_version": "1.2.0",
      "model_name": "LayoutModel",
      "state": {
       "display": "inline-flex",
       "flex_flow": "row wrap",
       "width": "100%"
      }
     },
     "6398cf4fff4045daaaf7457b83623c94": {
      "model_module": "@jupyter-widgets/controls",
      "model_module_version": "1.5.0",
      "model_name": "HTMLModel",
      "state": {
       "layout": "IPY_MODEL_75640ee7204b49dba0848c2add6176e3",
       "style": "IPY_MODEL_adc2d029131341b7ab0908901854acee",
       "value": " ETA: 00:00s - loss: 2.7190 - val_loss: 2.3257"
      }
     },
     "63b3af4001dd4949860075501559e0b9": {
      "model_module": "@jupyter-widgets/controls",
      "model_module_version": "1.5.0",
      "model_name": "HBoxModel",
      "state": {
       "children": [
        "IPY_MODEL_75aae145b3a84e7ea73b1267e91cc9ee",
        "IPY_MODEL_1969f456c05f4fe98fca242b2b818628"
       ],
       "layout": "IPY_MODEL_c86b425949974c67b1e0b02d133e9080"
      }
     },
     "65e47b94900e47769db955c6ff0bb6e2": {
      "model_module": "@jupyter-widgets/controls",
      "model_module_version": "1.5.0",
      "model_name": "HTMLModel",
      "state": {
       "layout": "IPY_MODEL_71f04e75156c423bb39c3cbc52e71278",
       "style": "IPY_MODEL_e039539e58634a44a79ff39e954d65cb",
       "value": " ETA: 00:00s - loss: 1.7375 - val_loss: 1.7312"
      }
     },
     "668eca5189b94794a9216f863caf45cf": {
      "model_module": "@jupyter-widgets/controls",
      "model_module_version": "1.5.0",
      "model_name": "ProgressStyleModel",
      "state": {
       "description_width": "initial"
      }
     },
     "669ed52a4302487da25e0e1adb6b7cc8": {
      "model_module": "@jupyter-widgets/controls",
      "model_module_version": "1.5.0",
      "model_name": "HTMLModel",
      "state": {
       "layout": "IPY_MODEL_902d1175e57f46da9852b71e7d304750",
       "style": "IPY_MODEL_efa82fc688d647679752e0304bef4c91",
       "value": " ETA: 00:00s - loss: 1.6956 - val_loss: 1.7314"
      }
     },
     "66ccedba104e4d0b8d4bb5a35a8a5888": {
      "model_module": "@jupyter-widgets/controls",
      "model_module_version": "1.5.0",
      "model_name": "ProgressStyleModel",
      "state": {
       "description_width": "initial"
      }
     },
     "683b9356ce56469593f4539b49951349": {
      "model_module": "@jupyter-widgets/controls",
      "model_module_version": "1.5.0",
      "model_name": "HTMLModel",
      "state": {
       "layout": "IPY_MODEL_42f4264689eb439f8d8b229e1bc3b819",
       "style": "IPY_MODEL_e6f0a7b5c2fd4b64badf73036939e729",
       "value": " ETA: 00:00s - loss: 1.6614 - val_loss: 1.7539"
      }
     },
     "68402908a0604f12b061eaa7ce32d26b": {
      "model_module": "@jupyter-widgets/base",
      "model_module_version": "1.2.0",
      "model_name": "LayoutModel",
      "state": {}
     },
     "6852326e5df54230b1da79af14914fc2": {
      "model_module": "@jupyter-widgets/base",
      "model_module_version": "1.2.0",
      "model_name": "LayoutModel",
      "state": {}
     },
     "6941c0046e94415c9419149d73cd3908": {
      "model_module": "@jupyter-widgets/base",
      "model_module_version": "1.2.0",
      "model_name": "LayoutModel",
      "state": {
       "flex": "2"
      }
     },
     "695a67c3e541467c93c132068c907120": {
      "model_module": "@jupyter-widgets/base",
      "model_module_version": "1.2.0",
      "model_name": "LayoutModel",
      "state": {
       "flex": "2"
      }
     },
     "6962f6d8f5134c368f9cddac6c2b72cb": {
      "model_module": "@jupyter-widgets/controls",
      "model_module_version": "1.5.0",
      "model_name": "HTMLModel",
      "state": {
       "layout": "IPY_MODEL_2e8c41a09ff04056ab613c8a72738fe6",
       "style": "IPY_MODEL_d03dbe31c0b14205a2018652e5890361",
       "value": " ETA: 00:00s - loss: 1.8029 - val_loss: 1.8101"
      }
     },
     "699efae8ea3d4641983760f695f7df38": {
      "model_module": "@jupyter-widgets/controls",
      "model_module_version": "1.5.0",
      "model_name": "ProgressStyleModel",
      "state": {
       "description_width": "initial"
      }
     },
     "69aa2770457f427f87c88ad85b9c15a0": {
      "model_module": "@jupyter-widgets/base",
      "model_module_version": "1.2.0",
      "model_name": "LayoutModel",
      "state": {
       "display": "inline-flex",
       "flex_flow": "row wrap",
       "width": "100%"
      }
     },
     "6aa0422d2ed74de59b5b5648837aa9ad": {
      "model_module": "@jupyter-widgets/base",
      "model_module_version": "1.2.0",
      "model_name": "LayoutModel",
      "state": {
       "flex": "2"
      }
     },
     "6aeaae7ff1d04bfeb768f43aacc8f6e7": {
      "model_module": "@jupyter-widgets/controls",
      "model_module_version": "1.5.0",
      "model_name": "HBoxModel",
      "state": {
       "children": [
        "IPY_MODEL_8dc641d90cf3427dae444a51b8253395",
        "IPY_MODEL_90a67ca25e7f47f4b29c0abdd52aceb2"
       ],
       "layout": "IPY_MODEL_ea6b1199d33e4c8cbe0ee1703a539b04"
      }
     },
     "6b08c78ed10f4f9da7e07897d9702db3": {
      "model_module": "@jupyter-widgets/controls",
      "model_module_version": "1.5.0",
      "model_name": "ProgressStyleModel",
      "state": {
       "description_width": "initial"
      }
     },
     "6d783d2319294ec794b63eda98c82bfb": {
      "model_module": "@jupyter-widgets/controls",
      "model_module_version": "1.5.0",
      "model_name": "HTMLModel",
      "state": {
       "layout": "IPY_MODEL_e89de940f98242c684213c99a3916665",
       "style": "IPY_MODEL_e0da2e7b0a6d403ba0563d156e0ce9a0",
       "value": " ETA: 00:00s - loss: 1.6765 - val_loss: 1.7285"
      }
     },
     "6da17c2d0375496ebeab64b1f3636917": {
      "model_module": "@jupyter-widgets/controls",
      "model_module_version": "1.5.0",
      "model_name": "ProgressStyleModel",
      "state": {
       "description_width": "initial"
      }
     },
     "6dc9c2f31eeb4a53aebfc49130ddade2": {
      "model_module": "@jupyter-widgets/base",
      "model_module_version": "1.2.0",
      "model_name": "LayoutModel",
      "state": {
       "flex": "2"
      }
     },
     "6df2a7f0529c4257a954cf3183338e40": {
      "model_module": "@jupyter-widgets/controls",
      "model_module_version": "1.5.0",
      "model_name": "FloatProgressModel",
      "state": {
       "bar_style": "success",
       "description": "2813/2813",
       "layout": "IPY_MODEL_53bc3c629eef4252bc3ec1e4a888315f",
       "max": 2813,
       "style": "IPY_MODEL_668eca5189b94794a9216f863caf45cf",
       "value": 2813
      }
     },
     "6e0e64e455b049d3b2787842da1eeb40": {
      "model_module": "@jupyter-widgets/controls",
      "model_module_version": "1.5.0",
      "model_name": "FloatProgressModel",
      "state": {
       "description": "Training:   0%",
       "layout": "IPY_MODEL_3ab217aa36f5489eb916e9ca1340e716",
       "max": 1000,
       "style": "IPY_MODEL_eb32abbd17ad44a39ca783e5e8bf8de6"
      }
     },
     "6eaa892133ef4e48b0c14909f5054f32": {
      "model_module": "@jupyter-widgets/controls",
      "model_module_version": "1.5.0",
      "model_name": "ProgressStyleModel",
      "state": {
       "description_width": "initial"
      }
     },
     "6f34ba17ff2849558ce2f0920ba09d50": {
      "model_module": "@jupyter-widgets/controls",
      "model_module_version": "1.5.0",
      "model_name": "ProgressStyleModel",
      "state": {
       "description_width": "initial"
      }
     },
     "6f98b6382c3247c0827eb5a4060d6d58": {
      "model_module": "@jupyter-widgets/controls",
      "model_module_version": "1.5.0",
      "model_name": "HTMLModel",
      "state": {
       "layout": "IPY_MODEL_33d20a5368b24ddc95cb914504cbcb2c",
       "style": "IPY_MODEL_ea015bd8b9d94449a19d8a26e5a5112f",
       "value": " ETA: 00:00s - loss: 2.0448 - val_loss: 2.0608"
      }
     },
     "7062e8ac29fa4ede836bc5a6ff140278": {
      "model_module": "@jupyter-widgets/base",
      "model_module_version": "1.2.0",
      "model_name": "LayoutModel",
      "state": {
       "flex": "2"
      }
     },
     "709a04148a7947f0b638e43a65846f1d": {
      "model_module": "@jupyter-widgets/controls",
      "model_module_version": "1.5.0",
      "model_name": "DescriptionStyleModel",
      "state": {
       "description_width": ""
      }
     },
     "71f04e75156c423bb39c3cbc52e71278": {
      "model_module": "@jupyter-widgets/base",
      "model_module_version": "1.2.0",
      "model_name": "LayoutModel",
      "state": {}
     },
     "7236c35076a140a791c82eff6c12af27": {
      "model_module": "@jupyter-widgets/base",
      "model_module_version": "1.2.0",
      "model_name": "LayoutModel",
      "state": {
       "flex": "2"
      }
     },
     "735e233c796a447c823301aff02664ca": {
      "model_module": "@jupyter-widgets/base",
      "model_module_version": "1.2.0",
      "model_name": "LayoutModel",
      "state": {
       "flex": "2"
      }
     },
     "747402eeaddb4fe5aa8a23edbcd0c4ff": {
      "model_module": "@jupyter-widgets/controls",
      "model_module_version": "1.5.0",
      "model_name": "ProgressStyleModel",
      "state": {
       "description_width": "initial"
      }
     },
     "748eced4f48149b89aa8c283d7cc45a5": {
      "model_module": "@jupyter-widgets/controls",
      "model_module_version": "1.5.0",
      "model_name": "HBoxModel",
      "state": {
       "children": [
        "IPY_MODEL_13d7308bef12453f8210b7a7e1d60883",
        "IPY_MODEL_9a04172e03b64aa0b54aaabe79e46980"
       ],
       "layout": "IPY_MODEL_d3a60e3ad5ab4f2589712cf0d403ab46"
      }
     },
     "74abc4cae87e4c76bd0a6c5d68d34971": {
      "model_module": "@jupyter-widgets/controls",
      "model_module_version": "1.5.0",
      "model_name": "HBoxModel",
      "state": {
       "children": [
        "IPY_MODEL_77787f8c87624b21be8e83733fa113f0",
        "IPY_MODEL_e19d14d207ed488eb64fdb979c35adf9"
       ],
       "layout": "IPY_MODEL_a29ba74ff4f14291b8042a3922ed1d91"
      }
     },
     "74b8cb1914b7403c85f17d89f3765f23": {
      "model_module": "@jupyter-widgets/controls",
      "model_module_version": "1.5.0",
      "model_name": "ProgressStyleModel",
      "state": {
       "description_width": "initial"
      }
     },
     "754e9cfa8b574b5e87fb791d427cf7b7": {
      "model_module": "@jupyter-widgets/base",
      "model_module_version": "1.2.0",
      "model_name": "LayoutModel",
      "state": {
       "flex": "2"
      }
     },
     "75640ee7204b49dba0848c2add6176e3": {
      "model_module": "@jupyter-widgets/base",
      "model_module_version": "1.2.0",
      "model_name": "LayoutModel",
      "state": {}
     },
     "757dc03790764b3fbfb5c7c6246e6097": {
      "model_module": "@jupyter-widgets/base",
      "model_module_version": "1.2.0",
      "model_name": "LayoutModel",
      "state": {
       "flex": "2"
      }
     },
     "75aae145b3a84e7ea73b1267e91cc9ee": {
      "model_module": "@jupyter-widgets/controls",
      "model_module_version": "1.5.0",
      "model_name": "FloatProgressModel",
      "state": {
       "bar_style": "success",
       "description": "5625/5625",
       "layout": "IPY_MODEL_868fdf41e3914be6a85a95cbe0566951",
       "max": 5625,
       "style": "IPY_MODEL_804aca13980a41caaf5b4f83749d9f2f",
       "value": 5625
      }
     },
     "762766c947ce45fa8a73b08b54f1515a": {
      "model_module": "@jupyter-widgets/controls",
      "model_module_version": "1.5.0",
      "model_name": "HBoxModel",
      "state": {
       "children": [
        "IPY_MODEL_791704a57fbe4972853e4861892c2bcf",
        "IPY_MODEL_8548f33cfb4c4d9fb7513fae2f005960"
       ],
       "layout": "IPY_MODEL_5254d1c828e44783a59890ad327c3a86"
      }
     },
     "7629e5aea49f451da29ed1bb05e1cd42": {
      "model_module": "@jupyter-widgets/controls",
      "model_module_version": "1.5.0",
      "model_name": "ProgressStyleModel",
      "state": {
       "description_width": "initial"
      }
     },
     "77679f59cb33434ea035fb92c3739744": {
      "model_module": "@jupyter-widgets/controls",
      "model_module_version": "1.5.0",
      "model_name": "HTMLModel",
      "state": {
       "layout": "IPY_MODEL_48b6cc14bd2541e0bf44e9c1077cb60f",
       "style": "IPY_MODEL_b87b3654fb80490089bb2b6e4db03d52",
       "value": " ETA: 00:00s - loss: 1.1277 - val_loss: 1.8673"
      }
     },
     "7776d612d99d4561a9d4cdb4ae3f9129": {
      "model_module": "@jupyter-widgets/base",
      "model_module_version": "1.2.0",
      "model_name": "LayoutModel",
      "state": {
       "flex": "2"
      }
     },
     "77787f8c87624b21be8e83733fa113f0": {
      "model_module": "@jupyter-widgets/controls",
      "model_module_version": "1.5.0",
      "model_name": "FloatProgressModel",
      "state": {
       "bar_style": "success",
       "description": "2813/2813",
       "layout": "IPY_MODEL_87a618ea4b4b46029dc76003b6939b39",
       "max": 2813,
       "style": "IPY_MODEL_8db0c8f68bc242c28d0053182896ba68",
       "value": 2813
      }
     },
     "77a4c6cb10e7400d9c304fca20b3dc03": {
      "model_module": "@jupyter-widgets/controls",
      "model_module_version": "1.5.0",
      "model_name": "DescriptionStyleModel",
      "state": {
       "description_width": ""
      }
     },
     "781c158590b74e188f726cb4345a052e": {
      "model_module": "@jupyter-widgets/controls",
      "model_module_version": "1.5.0",
      "model_name": "FloatProgressModel",
      "state": {
       "bar_style": "success",
       "description": "5625/5625",
       "layout": "IPY_MODEL_4c05441f06574de18be249c08caa0c2e",
       "max": 5625,
       "style": "IPY_MODEL_ec31c3174e594934906f1d090f6df3b1",
       "value": 5625
      }
     },
     "791704a57fbe4972853e4861892c2bcf": {
      "model_module": "@jupyter-widgets/controls",
      "model_module_version": "1.5.0",
      "model_name": "FloatProgressModel",
      "state": {
       "bar_style": "success",
       "description": "2813/2813",
       "layout": "IPY_MODEL_c178a9d0a67b45788787afbb3a6f39ff",
       "max": 2813,
       "style": "IPY_MODEL_ef96d75ef169428fabb629174eecc11f",
       "value": 2813
      }
     },
     "7bbdcd6efc024b4eb1f6c39ed7604252": {
      "model_module": "@jupyter-widgets/controls",
      "model_module_version": "1.5.0",
      "model_name": "HTMLModel",
      "state": {
       "layout": "IPY_MODEL_19e9d777c08c488fa72f5de3b84a9003",
       "style": "IPY_MODEL_77a4c6cb10e7400d9c304fca20b3dc03",
       "value": " ETA: 00:00s - loss: 1.3896 - val_loss: 1.8047"
      }
     },
     "7c858dbf4c7b4970b93d904a74464bef": {
      "model_module": "@jupyter-widgets/controls",
      "model_module_version": "1.5.0",
      "model_name": "HTMLModel",
      "state": {
       "layout": "IPY_MODEL_bd9f3cea22304d3c9b586d70ada8213b",
       "style": "IPY_MODEL_3d99113a028442f186114ad7c872e303",
       "value": " ETA: 00:00s - loss: 1.7447 - val_loss: 1.7893"
      }
     },
     "7cdc182551034244a91604f722f69648": {
      "model_module": "@jupyter-widgets/controls",
      "model_module_version": "1.5.0",
      "model_name": "HBoxModel",
      "state": {
       "children": [
        "IPY_MODEL_f9ba4e098eb247f4aca1da531962ce49",
        "IPY_MODEL_aa23d7ecfa534a23a6e67d4bfc4fa0c7"
       ],
       "layout": "IPY_MODEL_c5acce5c91cd4611992a98dd7cd948e8"
      }
     },
     "7d1270209668421590a1824eec5d8bd4": {
      "model_module": "@jupyter-widgets/controls",
      "model_module_version": "1.5.0",
      "model_name": "HTMLModel",
      "state": {
       "layout": "IPY_MODEL_b9d2507de04f4f3c883462d9b018fdef",
       "style": "IPY_MODEL_d9f26d47feb549d59d6565f76dd2aa6a",
       "value": " ETA: 00:00s - loss: 2.2784 - val_loss: 2.2118"
      }
     },
     "7df114cfaf6f48f5bd451c8ed2c3c970": {
      "model_module": "@jupyter-widgets/base",
      "model_module_version": "1.2.0",
      "model_name": "LayoutModel",
      "state": {
       "display": "inline-flex",
       "flex_flow": "row wrap",
       "width": "100%"
      }
     },
     "7e0bcace522146e69a0ce977c1243775": {
      "model_module": "@jupyter-widgets/controls",
      "model_module_version": "1.5.0",
      "model_name": "HBoxModel",
      "state": {
       "children": [
        "IPY_MODEL_41b2e6add82d42cbb29b079cc66a5a6c",
        "IPY_MODEL_f71255bc3d324d24b13ef982b3c9cf8d"
       ],
       "layout": "IPY_MODEL_490beabb9ad5405f8640dc45bc4413aa"
      }
     },
     "7e588a43e4d941a9bba5aa6054ecb71f": {
      "model_module": "@jupyter-widgets/controls",
      "model_module_version": "1.5.0",
      "model_name": "HTMLModel",
      "state": {
       "layout": "IPY_MODEL_7f80800b281340c5b3ac92635fdd6b2b",
       "style": "IPY_MODEL_d1a757fe35554685a125cb9d48942e3b",
       "value": " ETA: 00:00s - loss: 1.4531 - val_loss: 1.7819"
      }
     },
     "7e79cf29d0d74b4f8852072c912735f8": {
      "model_module": "@jupyter-widgets/controls",
      "model_module_version": "1.5.0",
      "model_name": "FloatProgressModel",
      "state": {
       "bar_style": "success",
       "description": "5625/5625",
       "layout": "IPY_MODEL_07eefd351f8b478b954de7dde04e4c13",
       "max": 5625,
       "style": "IPY_MODEL_23d0325c75ac4ff99edc5db4bff17bc7",
       "value": 5625
      }
     },
     "7f80800b281340c5b3ac92635fdd6b2b": {
      "model_module": "@jupyter-widgets/base",
      "model_module_version": "1.2.0",
      "model_name": "LayoutModel",
      "state": {}
     },
     "7fe5447d6c524a55a1ee0d24ad1d961c": {
      "model_module": "@jupyter-widgets/base",
      "model_module_version": "1.2.0",
      "model_name": "LayoutModel",
      "state": {
       "display": "inline-flex",
       "flex_flow": "row wrap",
       "width": "100%"
      }
     },
     "804aca13980a41caaf5b4f83749d9f2f": {
      "model_module": "@jupyter-widgets/controls",
      "model_module_version": "1.5.0",
      "model_name": "ProgressStyleModel",
      "state": {
       "description_width": "initial"
      }
     },
     "80fcd8fe1bec4f24930680b075e65cfd": {
      "model_module": "@jupyter-widgets/controls",
      "model_module_version": "1.5.0",
      "model_name": "HBoxModel",
      "state": {
       "children": [
        "IPY_MODEL_33d9f6358a134eb9bee2092b9a5b53ad",
        "IPY_MODEL_7d1270209668421590a1824eec5d8bd4"
       ],
       "layout": "IPY_MODEL_f45e7f0ba2a94e369645824ef49e7b13"
      }
     },
     "817d4ab8ad934760995039628f8997c3": {
      "model_module": "@jupyter-widgets/base",
      "model_module_version": "1.2.0",
      "model_name": "LayoutModel",
      "state": {}
     },
     "838ffd7c32ef49cfa8829da680379294": {
      "model_module": "@jupyter-widgets/base",
      "model_module_version": "1.2.0",
      "model_name": "LayoutModel",
      "state": {
       "flex": "2"
      }
     },
     "83ec8aba3c5a424a9a397fee916eb3d2": {
      "model_module": "@jupyter-widgets/controls",
      "model_module_version": "1.5.0",
      "model_name": "DescriptionStyleModel",
      "state": {
       "description_width": ""
      }
     },
     "841233d496cc43f69860a213992aa8e5": {
      "model_module": "@jupyter-widgets/controls",
      "model_module_version": "1.5.0",
      "model_name": "FloatProgressModel",
      "state": {
       "bar_style": "success",
       "description": "2813/2813",
       "layout": "IPY_MODEL_57cfb9ae68844497abbd45def6598fae",
       "max": 2813,
       "style": "IPY_MODEL_ee660deddc014aab87e0564ede4a78d6",
       "value": 2813
      }
     },
     "847e0680bd9544d6919ad9bf8a56a193": {
      "model_module": "@jupyter-widgets/base",
      "model_module_version": "1.2.0",
      "model_name": "LayoutModel",
      "state": {
       "flex": "2"
      }
     },
     "8548f33cfb4c4d9fb7513fae2f005960": {
      "model_module": "@jupyter-widgets/controls",
      "model_module_version": "1.5.0",
      "model_name": "HTMLModel",
      "state": {
       "layout": "IPY_MODEL_caa8890f376147a9b500fdf2a8d302c8",
       "style": "IPY_MODEL_0887f6c1ec2d44d1bbeb9fcb7c0818e1",
       "value": " ETA: 00:00s - loss: 1.3564 - val_loss: 1.8063"
      }
     },
     "868fdf41e3914be6a85a95cbe0566951": {
      "model_module": "@jupyter-widgets/base",
      "model_module_version": "1.2.0",
      "model_name": "LayoutModel",
      "state": {
       "flex": "2"
      }
     },
     "86e3307cd15d400a903576d0f8850ea8": {
      "model_module": "@jupyter-widgets/controls",
      "model_module_version": "1.5.0",
      "model_name": "ProgressStyleModel",
      "state": {
       "description_width": "initial"
      }
     },
     "8720003fb64d4f4eb76399899a3cfaf0": {
      "model_module": "@jupyter-widgets/base",
      "model_module_version": "1.2.0",
      "model_name": "LayoutModel",
      "state": {
       "display": "inline-flex",
       "flex_flow": "row wrap",
       "width": "100%"
      }
     },
     "8731ff8369684ad7af5c98975a8116cb": {
      "model_module": "@jupyter-widgets/controls",
      "model_module_version": "1.5.0",
      "model_name": "ProgressStyleModel",
      "state": {
       "description_width": "initial"
      }
     },
     "87a618ea4b4b46029dc76003b6939b39": {
      "model_module": "@jupyter-widgets/base",
      "model_module_version": "1.2.0",
      "model_name": "LayoutModel",
      "state": {
       "flex": "2"
      }
     },
     "880fcbdd8e414b9da6bd14a2443909cd": {
      "model_module": "@jupyter-widgets/controls",
      "model_module_version": "1.5.0",
      "model_name": "DescriptionStyleModel",
      "state": {
       "description_width": ""
      }
     },
     "885794bb047346979bc2a4b1431e0e29": {
      "model_module": "@jupyter-widgets/base",
      "model_module_version": "1.2.0",
      "model_name": "LayoutModel",
      "state": {
       "flex": "2"
      }
     },
     "887b53457e1e4be1a0d9b363958b6bf6": {
      "model_module": "@jupyter-widgets/base",
      "model_module_version": "1.2.0",
      "model_name": "LayoutModel",
      "state": {
       "flex": "2"
      }
     },
     "88aa54a0d11046038e50c711c041990d": {
      "model_module": "@jupyter-widgets/controls",
      "model_module_version": "1.5.0",
      "model_name": "FloatProgressModel",
      "state": {
       "bar_style": "success",
       "description": "2813/2813",
       "layout": "IPY_MODEL_ab0f7697782e405c9a6047c6f54998f9",
       "max": 2813,
       "style": "IPY_MODEL_bd63c2f9570d49be834cddd2498e3b25",
       "value": 2813
      }
     },
     "896eef4737ce42359f549c43347b83f4": {
      "model_module": "@jupyter-widgets/controls",
      "model_module_version": "1.5.0",
      "model_name": "ProgressStyleModel",
      "state": {
       "description_width": "initial"
      }
     },
     "89ceafe5e19843ba9baa9386e6e46ba6": {
      "model_module": "@jupyter-widgets/controls",
      "model_module_version": "1.5.0",
      "model_name": "HBoxModel",
      "state": {
       "children": [
        "IPY_MODEL_b2c20c10f08f428ba7e0ffa437d9e7f1",
        "IPY_MODEL_58dbb5833b5a4ae1a103388514500715"
       ],
       "layout": "IPY_MODEL_4d54068ed4594698af1073d215d58deb"
      }
     },
     "89f34eb3f0114d78a72efc0ce07c8388": {
      "model_module": "@jupyter-widgets/controls",
      "model_module_version": "1.5.0",
      "model_name": "HBoxModel",
      "state": {
       "children": [
        "IPY_MODEL_8e50e05efeb74a7689508dacfa9d984b",
        "IPY_MODEL_159f77b7051d43b5a2a739aca8350c20"
       ],
       "layout": "IPY_MODEL_01b7e291562143539c4afe601880e730"
      }
     },
     "8ae30c069fff4f3f9007a2033ab70197": {
      "model_module": "@jupyter-widgets/controls",
      "model_module_version": "1.5.0",
      "model_name": "HBoxModel",
      "state": {
       "children": [
        "IPY_MODEL_3f686dbafcce4fc6a7f5c4461d672e5f",
        "IPY_MODEL_fd6da93fb4584691979ee52dd3723c61"
       ],
       "layout": "IPY_MODEL_a0515e3d8c0d471d8860aad775a682f2"
      }
     },
     "8ce2442760d24ffbac9a66d6970545ef": {
      "model_module": "@jupyter-widgets/controls",
      "model_module_version": "1.5.0",
      "model_name": "DescriptionStyleModel",
      "state": {
       "description_width": ""
      }
     },
     "8d384719ffdd405a8278c747950c4d46": {
      "model_module": "@jupyter-widgets/base",
      "model_module_version": "1.2.0",
      "model_name": "LayoutModel",
      "state": {}
     },
     "8db0c8f68bc242c28d0053182896ba68": {
      "model_module": "@jupyter-widgets/controls",
      "model_module_version": "1.5.0",
      "model_name": "ProgressStyleModel",
      "state": {
       "description_width": "initial"
      }
     },
     "8dc641d90cf3427dae444a51b8253395": {
      "model_module": "@jupyter-widgets/controls",
      "model_module_version": "1.5.0",
      "model_name": "FloatProgressModel",
      "state": {
       "bar_style": "success",
       "description": "2813/2813",
       "layout": "IPY_MODEL_695a67c3e541467c93c132068c907120",
       "max": 2813,
       "style": "IPY_MODEL_b55b69b0e9584228bcd8f2f3ecaaa5b3",
       "value": 2813
      }
     },
     "8df72057fd804cd688208d322d390d87": {
      "model_module": "@jupyter-widgets/controls",
      "model_module_version": "1.5.0",
      "model_name": "ProgressStyleModel",
      "state": {
       "description_width": "initial"
      }
     },
     "8e4bfdb54e964c5083fa7d2fed967d5f": {
      "model_module": "@jupyter-widgets/controls",
      "model_module_version": "1.5.0",
      "model_name": "ProgressStyleModel",
      "state": {
       "description_width": "initial"
      }
     },
     "8e50e05efeb74a7689508dacfa9d984b": {
      "model_module": "@jupyter-widgets/controls",
      "model_module_version": "1.5.0",
      "model_name": "FloatProgressModel",
      "state": {
       "bar_style": "success",
       "description": "2813/2813",
       "layout": "IPY_MODEL_9ecccba27b1f41989a7ab653089792df",
       "max": 2813,
       "style": "IPY_MODEL_054ad219948d474092e22bb804fd4d47",
       "value": 2813
      }
     },
     "8e941d2e629c428596d65580423ed517": {
      "model_module": "@jupyter-widgets/base",
      "model_module_version": "1.2.0",
      "model_name": "LayoutModel",
      "state": {
       "display": "inline-flex",
       "flex_flow": "row wrap",
       "width": "100%"
      }
     },
     "8f6c2ddea31f4f75bf290dde2a61c5af": {
      "model_module": "@jupyter-widgets/base",
      "model_module_version": "1.2.0",
      "model_name": "LayoutModel",
      "state": {}
     },
     "902d1175e57f46da9852b71e7d304750": {
      "model_module": "@jupyter-widgets/base",
      "model_module_version": "1.2.0",
      "model_name": "LayoutModel",
      "state": {}
     },
     "9057bad49a944c87a7edfc58d466f76e": {
      "model_module": "@jupyter-widgets/controls",
      "model_module_version": "1.5.0",
      "model_name": "HTMLModel",
      "state": {
       "layout": "IPY_MODEL_0df70b0408dd4957a274ea4c938f46be",
       "style": "IPY_MODEL_3947dca3295b41bfaad17bb2e70525a2",
       "value": " ETA: 00:00s - loss: 1.7646 - val_loss: 1.7311"
      }
     },
     "90657f569761461bb21295e8f6a163fc": {
      "model_module": "@jupyter-widgets/controls",
      "model_module_version": "1.5.0",
      "model_name": "HBoxModel",
      "state": {
       "children": [
        "IPY_MODEL_0414c58e90ef4fa0bbe21df1bebfb4f4",
        "IPY_MODEL_9582d63aa4aa4e0fad79a59deb463b2b"
       ],
       "layout": "IPY_MODEL_0b3a45b36b6e456498254637d32c61d4"
      }
     },
     "90a67ca25e7f47f4b29c0abdd52aceb2": {
      "model_module": "@jupyter-widgets/controls",
      "model_module_version": "1.5.0",
      "model_name": "HTMLModel",
      "state": {
       "layout": "IPY_MODEL_3d875ac567f44ebc881c208c41fa0cd3",
       "style": "IPY_MODEL_e1d6f1e8f62342dba077ff1802e754e1",
       "value": " ETA: 00:00s - loss: 1.7296 - val_loss: 1.8701"
      }
     },
     "90c07dd59d604c20aa81397aa8c9571c": {
      "model_module": "@jupyter-widgets/controls",
      "model_module_version": "1.5.0",
      "model_name": "HBoxModel",
      "state": {
       "children": [
        "IPY_MODEL_3027137bd77a40149f1af8c3ac669e82",
        "IPY_MODEL_d64002ac8eb540dbaa06e33e1e93351d"
       ],
       "layout": "IPY_MODEL_3e8e7da21bfc4100a9956d7a68a8a977"
      }
     },
     "9115b3e47d024676ad0bbf5c3b3391b0": {
      "model_module": "@jupyter-widgets/controls",
      "model_module_version": "1.5.0",
      "model_name": "ProgressStyleModel",
      "state": {
       "description_width": "initial"
      }
     },
     "911bbc8c48614b0d856228ba86095aa9": {
      "model_module": "@jupyter-widgets/base",
      "model_module_version": "1.2.0",
      "model_name": "LayoutModel",
      "state": {
       "flex": "2"
      }
     },
     "91439b79831447e3816fac25fa894090": {
      "model_module": "@jupyter-widgets/base",
      "model_module_version": "1.2.0",
      "model_name": "LayoutModel",
      "state": {
       "display": "inline-flex",
       "flex_flow": "row wrap",
       "width": "100%"
      }
     },
     "9173c905bb344f7988ee71a106092b60": {
      "model_module": "@jupyter-widgets/base",
      "model_module_version": "1.2.0",
      "model_name": "LayoutModel",
      "state": {}
     },
     "91e28613ace94b07aba93dbce114fcc6": {
      "model_module": "@jupyter-widgets/controls",
      "model_module_version": "1.5.0",
      "model_name": "FloatProgressModel",
      "state": {
       "bar_style": "success",
       "description": "5625/5625",
       "layout": "IPY_MODEL_7776d612d99d4561a9d4cdb4ae3f9129",
       "max": 5625,
       "style": "IPY_MODEL_6b08c78ed10f4f9da7e07897d9702db3",
       "value": 5625
      }
     },
     "921be2ad040e4bb19332490fb6c8a2bc": {
      "model_module": "@jupyter-widgets/base",
      "model_module_version": "1.2.0",
      "model_name": "LayoutModel",
      "state": {}
     },
     "9361d359ffb148babb69bb99aef7bd78": {
      "model_module": "@jupyter-widgets/controls",
      "model_module_version": "1.5.0",
      "model_name": "ProgressStyleModel",
      "state": {
       "description_width": "initial"
      }
     },
     "93cdfb51ff254c349d8cfe99fdc92331": {
      "model_module": "@jupyter-widgets/base",
      "model_module_version": "1.2.0",
      "model_name": "LayoutModel",
      "state": {
       "flex": "2"
      }
     },
     "94022ebd39cf42329bcbd10efaeb961a": {
      "model_module": "@jupyter-widgets/base",
      "model_module_version": "1.2.0",
      "model_name": "LayoutModel",
      "state": {}
     },
     "949565de09fb487b83dd74286b1c81bf": {
      "model_module": "@jupyter-widgets/controls",
      "model_module_version": "1.5.0",
      "model_name": "FloatProgressModel",
      "state": {
       "bar_style": "success",
       "description": "2813/2813",
       "layout": "IPY_MODEL_885794bb047346979bc2a4b1431e0e29",
       "max": 2813,
       "style": "IPY_MODEL_36a7b395b40f47f89a32fad92ab7bb17",
       "value": 2813
      }
     },
     "957d10b62354491d9e352f32a7a8db36": {
      "model_module": "@jupyter-widgets/controls",
      "model_module_version": "1.5.0",
      "model_name": "HTMLModel",
      "state": {
       "layout": "IPY_MODEL_68402908a0604f12b061eaa7ce32d26b",
       "style": "IPY_MODEL_59dff7d9ee08499982bdcbb3bddbfbeb",
       "value": " ETA: 00:00s - loss: 1.7881 - val_loss: 1.7429"
      }
     },
     "9582d63aa4aa4e0fad79a59deb463b2b": {
      "model_module": "@jupyter-widgets/controls",
      "model_module_version": "1.5.0",
      "model_name": "HTMLModel",
      "state": {
       "layout": "IPY_MODEL_9173c905bb344f7988ee71a106092b60",
       "style": "IPY_MODEL_1255e568d75a4323a82a03b06d3dd412",
       "value": " ETA: 00:00s - loss: 1.7586 - val_loss: 1.7289"
      }
     },
     "959d1aa0a62049118a6ffdaa5de1b9b6": {
      "model_module": "@jupyter-widgets/controls",
      "model_module_version": "1.5.0",
      "model_name": "HTMLModel",
      "state": {
       "layout": "IPY_MODEL_ff49d0bd463042fd85d8b3bc3773d013",
       "style": "IPY_MODEL_d9bd02bd98c94313a20486ca5e2b1bac",
       "value": " ETA: 00:00s - loss: 1.5681 - val_loss: 1.7475"
      }
     },
     "95a007d062f14c529b029cc7bdfe0651": {
      "model_module": "@jupyter-widgets/controls",
      "model_module_version": "1.5.0",
      "model_name": "HTMLModel",
      "state": {
       "layout": "IPY_MODEL_cb15ef3667d649388497307bcc2e4e48",
       "style": "IPY_MODEL_c6dfbb74170444d6bc917ffa5df38455",
       "value": " ETA: 00:00s - loss: 1.6097 - val_loss: 1.8033"
      }
     },
     "9696b3b221f147b4ad762ae4b91c52e9": {
      "model_module": "@jupyter-widgets/base",
      "model_module_version": "1.2.0",
      "model_name": "LayoutModel",
      "state": {
       "display": "inline-flex",
       "flex_flow": "row wrap",
       "width": "100%"
      }
     },
     "96cf629ba3c74111afb342a1100ebdb3": {
      "model_module": "@jupyter-widgets/base",
      "model_module_version": "1.2.0",
      "model_name": "LayoutModel",
      "state": {
       "flex": "2"
      }
     },
     "96d941536e44478f95fe087ff21f6739": {
      "model_module": "@jupyter-widgets/controls",
      "model_module_version": "1.5.0",
      "model_name": "FloatProgressModel",
      "state": {
       "bar_style": "success",
       "description": "2813/2813",
       "layout": "IPY_MODEL_911bbc8c48614b0d856228ba86095aa9",
       "max": 2813,
       "style": "IPY_MODEL_1233834dff244dac91a0ff3336c7208e",
       "value": 2813
      }
     },
     "96e078c058764872a0607b7f022d0434": {
      "model_module": "@jupyter-widgets/controls",
      "model_module_version": "1.5.0",
      "model_name": "ProgressStyleModel",
      "state": {
       "description_width": "initial"
      }
     },
     "9904d842af9f4bbfaa3feae9aa08869b": {
      "model_module": "@jupyter-widgets/controls",
      "model_module_version": "1.5.0",
      "model_name": "HBoxModel",
      "state": {
       "children": [
        "IPY_MODEL_7e79cf29d0d74b4f8852072c912735f8",
        "IPY_MODEL_a607ce81d81d4ff6bb63ba5d84e96b28"
       ],
       "layout": "IPY_MODEL_7fe5447d6c524a55a1ee0d24ad1d961c"
      }
     },
     "995f10fe66064c2bae787b1809ddaaf3": {
      "model_module": "@jupyter-widgets/controls",
      "model_module_version": "1.5.0",
      "model_name": "FloatProgressModel",
      "state": {
       "bar_style": "success",
       "description": "2813/2813",
       "layout": "IPY_MODEL_c536a8c4572e4874a9adbb83da265595",
       "max": 2813,
       "style": "IPY_MODEL_39ffacf25a1e42948a8db162f90398e8",
       "value": 2813
      }
     },
     "99c99a8c35fe4517b604ab4fe9e3ef30": {
      "model_module": "@jupyter-widgets/controls",
      "model_module_version": "1.5.0",
      "model_name": "HTMLModel",
      "state": {
       "layout": "IPY_MODEL_e3edd187b87e4d54a87e404873f29a49",
       "style": "IPY_MODEL_a64a1b5c935142fd945d7366ee2d7b6a",
       "value": " ETA: 00:00s - loss: 1.0961 - val_loss: 1.8573"
      }
     },
     "99e2826b013d455d9c71b9ae1f8cee24": {
      "model_module": "@jupyter-widgets/controls",
      "model_module_version": "1.5.0",
      "model_name": "ProgressStyleModel",
      "state": {
       "description_width": "initial"
      }
     },
     "9a04172e03b64aa0b54aaabe79e46980": {
      "model_module": "@jupyter-widgets/controls",
      "model_module_version": "1.5.0",
      "model_name": "HTMLModel",
      "state": {
       "layout": "IPY_MODEL_c3bd44f46d334b1090d2d6980a3cf29c",
       "style": "IPY_MODEL_bb1e916780864206a799fdf8e693bc74",
       "value": " ETA: 00:00s - loss: 1.7067 - val_loss: 1.7244"
      }
     },
     "9ae69d1599184782a6dd8e67037fe19d": {
      "model_module": "@jupyter-widgets/controls",
      "model_module_version": "1.5.0",
      "model_name": "HBoxModel",
      "state": {
       "children": [
        "IPY_MODEL_781c158590b74e188f726cb4345a052e",
        "IPY_MODEL_46009ba45adf4bcfaa5dd2368a34f70c"
       ],
       "layout": "IPY_MODEL_54715092b28a4332b8b07691248ff873"
      }
     },
     "9b45a14749c34c9b885bc22f4689d78f": {
      "model_module": "@jupyter-widgets/controls",
      "model_module_version": "1.5.0",
      "model_name": "HTMLModel",
      "state": {
       "layout": "IPY_MODEL_921be2ad040e4bb19332490fb6c8a2bc",
       "style": "IPY_MODEL_a58d74b453b6448588e3c3e47aaefa67",
       "value": " 50/1000 ETA: 391:43:10s,  1484.41s/epochs"
      }
     },
     "9b48797ed9ce49c4839d2d0c82e3a456": {
      "model_module": "@jupyter-widgets/controls",
      "model_module_version": "1.5.0",
      "model_name": "ProgressStyleModel",
      "state": {
       "description_width": "initial"
      }
     },
     "9bb85a4a7ef24e10b52542d419b5d7a7": {
      "model_module": "@jupyter-widgets/controls",
      "model_module_version": "1.5.0",
      "model_name": "DescriptionStyleModel",
      "state": {
       "description_width": ""
      }
     },
     "9c58c87d6d674bd4ab208a176e2a8190": {
      "model_module": "@jupyter-widgets/controls",
      "model_module_version": "1.5.0",
      "model_name": "HTMLModel",
      "state": {
       "layout": "IPY_MODEL_a1816b97c8794a668119fad57b9e2a4a",
       "style": "IPY_MODEL_22d3f5e8349e4a7b9a1e842f059ebd60",
       "value": " ETA: 00:00s - loss: 1.6379 - val_loss: 1.7228"
      }
     },
     "9d6f86e4c460476f8f5ebe8027587d64": {
      "model_module": "@jupyter-widgets/controls",
      "model_module_version": "1.5.0",
      "model_name": "HBoxModel",
      "state": {
       "children": [
        "IPY_MODEL_e7f27f5a25d640659601f7f102a1c7d2",
        "IPY_MODEL_9b45a14749c34c9b885bc22f4689d78f"
       ],
       "layout": "IPY_MODEL_69aa2770457f427f87c88ad85b9c15a0"
      }
     },
     "9e8a564d78e243f795c7b9405f40e0e0": {
      "model_module": "@jupyter-widgets/base",
      "model_module_version": "1.2.0",
      "model_name": "LayoutModel",
      "state": {
       "display": "inline-flex",
       "flex_flow": "row wrap",
       "width": "100%"
      }
     },
     "9ecccba27b1f41989a7ab653089792df": {
      "model_module": "@jupyter-widgets/base",
      "model_module_version": "1.2.0",
      "model_name": "LayoutModel",
      "state": {
       "flex": "2"
      }
     },
     "a0515e3d8c0d471d8860aad775a682f2": {
      "model_module": "@jupyter-widgets/base",
      "model_module_version": "1.2.0",
      "model_name": "LayoutModel",
      "state": {
       "display": "inline-flex",
       "flex_flow": "row wrap",
       "width": "100%"
      }
     },
     "a063a7a0181e4999819fe94a9f7dd1be": {
      "model_module": "@jupyter-widgets/controls",
      "model_module_version": "1.5.0",
      "model_name": "HBoxModel",
      "state": {
       "children": [
        "IPY_MODEL_509dd952d8624b32829be59b53a9e3f8",
        "IPY_MODEL_4c78aab5b056490db2edcff29f0837ce"
       ],
       "layout": "IPY_MODEL_d08b6634f85e47589c8601ebcdfacc3e"
      }
     },
     "a081f6edbdcf4aea8ee1b2244e78a57b": {
      "model_module": "@jupyter-widgets/controls",
      "model_module_version": "1.5.0",
      "model_name": "HBoxModel",
      "state": {
       "children": [
        "IPY_MODEL_949565de09fb487b83dd74286b1c81bf",
        "IPY_MODEL_3e465925c90746928620f025301bc94b"
       ],
       "layout": "IPY_MODEL_5f9c9041926a4b97bf04edaf446d55fd"
      }
     },
     "a09ded7f9a9b4141ba317b97db814646": {
      "model_module": "@jupyter-widgets/base",
      "model_module_version": "1.2.0",
      "model_name": "LayoutModel",
      "state": {
       "flex": "2"
      }
     },
     "a10de80a2619425ab21f1fc7d93bc872": {
      "model_module": "@jupyter-widgets/controls",
      "model_module_version": "1.5.0",
      "model_name": "ProgressStyleModel",
      "state": {
       "description_width": "initial"
      }
     },
     "a17771541d1e4986aadee8b7aae7af1e": {
      "model_module": "@jupyter-widgets/base",
      "model_module_version": "1.2.0",
      "model_name": "LayoutModel",
      "state": {}
     },
     "a1816b97c8794a668119fad57b9e2a4a": {
      "model_module": "@jupyter-widgets/base",
      "model_module_version": "1.2.0",
      "model_name": "LayoutModel",
      "state": {}
     },
     "a182c2e55216483cae5f8d4e68b55dae": {
      "model_module": "@jupyter-widgets/base",
      "model_module_version": "1.2.0",
      "model_name": "LayoutModel",
      "state": {
       "display": "inline-flex",
       "flex_flow": "row wrap",
       "width": "100%"
      }
     },
     "a26b677c9b574e7eb7ab545688bc8edb": {
      "model_module": "@jupyter-widgets/controls",
      "model_module_version": "1.5.0",
      "model_name": "FloatProgressModel",
      "state": {
       "bar_style": "success",
       "description": "2813/2813",
       "layout": "IPY_MODEL_c32742a515274463a68d8a0e2bdc5381",
       "max": 2813,
       "style": "IPY_MODEL_027448b73773455dac437c68d9e50dde",
       "value": 2813
      }
     },
     "a29ba74ff4f14291b8042a3922ed1d91": {
      "model_module": "@jupyter-widgets/base",
      "model_module_version": "1.2.0",
      "model_name": "LayoutModel",
      "state": {
       "display": "inline-flex",
       "flex_flow": "row wrap",
       "width": "100%"
      }
     },
     "a29f32e034df4dbda2c3cd8d51ae2129": {
      "model_module": "@jupyter-widgets/controls",
      "model_module_version": "1.5.0",
      "model_name": "HBoxModel",
      "state": {
       "children": [
        "IPY_MODEL_fd92959d9f8248d5a5e60e62e4ea5dca",
        "IPY_MODEL_7e588a43e4d941a9bba5aa6054ecb71f"
       ],
       "layout": "IPY_MODEL_10af24339b864dfc8902bdf0d7a56ad4"
      }
     },
     "a2c9df46ff3a46c78cb135e9db9c334a": {
      "model_module": "@jupyter-widgets/controls",
      "model_module_version": "1.5.0",
      "model_name": "ProgressStyleModel",
      "state": {
       "description_width": "initial"
      }
     },
     "a31aeb46b5264f3185fead318d644ac9": {
      "model_module": "@jupyter-widgets/base",
      "model_module_version": "1.2.0",
      "model_name": "LayoutModel",
      "state": {
       "display": "inline-flex",
       "flex_flow": "row wrap",
       "width": "100%"
      }
     },
     "a3a58916309c405980f3e220d173649b": {
      "model_module": "@jupyter-widgets/base",
      "model_module_version": "1.2.0",
      "model_name": "LayoutModel",
      "state": {
       "flex": "2"
      }
     },
     "a427277b9b3f41fead764844fab3b8b3": {
      "model_module": "@jupyter-widgets/controls",
      "model_module_version": "1.5.0",
      "model_name": "FloatProgressModel",
      "state": {
       "bar_style": "success",
       "description": "2813/2813",
       "layout": "IPY_MODEL_5cec5fd885c74b0fac92cf9c1cc6320b",
       "max": 2813,
       "style": "IPY_MODEL_9115b3e47d024676ad0bbf5c3b3391b0",
       "value": 2813
      }
     },
     "a4391b1907214cde92832ee563783ae2": {
      "model_module": "@jupyter-widgets/base",
      "model_module_version": "1.2.0",
      "model_name": "LayoutModel",
      "state": {
       "flex": "2"
      }
     },
     "a58d74b453b6448588e3c3e47aaefa67": {
      "model_module": "@jupyter-widgets/controls",
      "model_module_version": "1.5.0",
      "model_name": "DescriptionStyleModel",
      "state": {
       "description_width": ""
      }
     },
     "a5c706384ec54ba8b41daed4d0f790b3": {
      "model_module": "@jupyter-widgets/controls",
      "model_module_version": "1.5.0",
      "model_name": "DescriptionStyleModel",
      "state": {
       "description_width": ""
      }
     },
     "a607ce81d81d4ff6bb63ba5d84e96b28": {
      "model_module": "@jupyter-widgets/controls",
      "model_module_version": "1.5.0",
      "model_name": "HTMLModel",
      "state": {
       "layout": "IPY_MODEL_0d03def5a20c4d8a8e9df77d9e6b2845",
       "style": "IPY_MODEL_185cf1ab64f14361a3072b1851e867b3",
       "value": " ETA: 00:00s - loss: 2.2151 - val_loss: 2.1936"
      }
     },
     "a64a1b5c935142fd945d7366ee2d7b6a": {
      "model_module": "@jupyter-widgets/controls",
      "model_module_version": "1.5.0",
      "model_name": "DescriptionStyleModel",
      "state": {
       "description_width": ""
      }
     },
     "a7825d31e4d74e329436e6dc2354508b": {
      "model_module": "@jupyter-widgets/controls",
      "model_module_version": "1.5.0",
      "model_name": "ProgressStyleModel",
      "state": {
       "description_width": "initial"
      }
     },
     "a92040186a9b4d8c847f34d68ccd8294": {
      "model_module": "@jupyter-widgets/controls",
      "model_module_version": "1.5.0",
      "model_name": "DescriptionStyleModel",
      "state": {
       "description_width": ""
      }
     },
     "aa03825e8eca4bd6bf0dd5626c25fffe": {
      "model_module": "@jupyter-widgets/base",
      "model_module_version": "1.2.0",
      "model_name": "LayoutModel",
      "state": {
       "flex": "2"
      }
     },
     "aa23d7ecfa534a23a6e67d4bfc4fa0c7": {
      "model_module": "@jupyter-widgets/controls",
      "model_module_version": "1.5.0",
      "model_name": "HTMLModel",
      "state": {
       "layout": "IPY_MODEL_ddb5b412b4504148995640003c0e8c7d",
       "style": "IPY_MODEL_83ec8aba3c5a424a9a397fee916eb3d2",
       "value": " ETA: 00:00s - loss: 2.5289 - val_loss: 2.3825"
      }
     },
     "aa352e06ad654913957279fc688db0fa": {
      "model_module": "@jupyter-widgets/base",
      "model_module_version": "1.2.0",
      "model_name": "LayoutModel",
      "state": {
       "display": "inline-flex",
       "flex_flow": "row wrap",
       "width": "100%"
      }
     },
     "aa6b86634d5448b5a6eb42e00ddd7106": {
      "model_module": "@jupyter-widgets/base",
      "model_module_version": "1.2.0",
      "model_name": "LayoutModel",
      "state": {}
     },
     "ab0f7697782e405c9a6047c6f54998f9": {
      "model_module": "@jupyter-widgets/base",
      "model_module_version": "1.2.0",
      "model_name": "LayoutModel",
      "state": {
       "flex": "2"
      }
     },
     "ab23ba515dfa4b188e067c9a3a207197": {
      "model_module": "@jupyter-widgets/controls",
      "model_module_version": "1.5.0",
      "model_name": "ProgressStyleModel",
      "state": {
       "description_width": "initial"
      }
     },
     "ab96ae50b31841d78052e3c49a6cd16b": {
      "model_module": "@jupyter-widgets/base",
      "model_module_version": "1.2.0",
      "model_name": "LayoutModel",
      "state": {
       "display": "inline-flex",
       "flex_flow": "row wrap",
       "width": "100%"
      }
     },
     "abacf547eab44bce9c73f131411d7dee": {
      "model_module": "@jupyter-widgets/controls",
      "model_module_version": "1.5.0",
      "model_name": "DescriptionStyleModel",
      "state": {
       "description_width": ""
      }
     },
     "adb90b400bf346d0bfe09b6b3c52c0c1": {
      "model_module": "@jupyter-widgets/controls",
      "model_module_version": "1.5.0",
      "model_name": "HBoxModel",
      "state": {
       "children": [
        "IPY_MODEL_a427277b9b3f41fead764844fab3b8b3",
        "IPY_MODEL_0b7d90068c6141d39007b6cf6a290437"
       ],
       "layout": "IPY_MODEL_e3b5c5c06a044b85ab9b5bb3b14909da"
      }
     },
     "adc2d029131341b7ab0908901854acee": {
      "model_module": "@jupyter-widgets/controls",
      "model_module_version": "1.5.0",
      "model_name": "DescriptionStyleModel",
      "state": {
       "description_width": ""
      }
     },
     "af84a76438b8471290706d2143a5d84a": {
      "model_module": "@jupyter-widgets/controls",
      "model_module_version": "1.5.0",
      "model_name": "DescriptionStyleModel",
      "state": {
       "description_width": ""
      }
     },
     "af97ab5a40274bb58186340de9bbe8b5": {
      "model_module": "@jupyter-widgets/controls",
      "model_module_version": "1.5.0",
      "model_name": "HBoxModel",
      "state": {
       "children": [
        "IPY_MODEL_bbd4ed2d441a47cd8123f3d7af4e1be9",
        "IPY_MODEL_7c858dbf4c7b4970b93d904a74464bef"
       ],
       "layout": "IPY_MODEL_30d93eacd4ae42c49ed29a86fceea3ee"
      }
     },
     "afa67786b31b4339b0b298e7aefc29ea": {
      "model_module": "@jupyter-widgets/base",
      "model_module_version": "1.2.0",
      "model_name": "LayoutModel",
      "state": {}
     },
     "b062c9d4665746069be2922e032e61fb": {
      "model_module": "@jupyter-widgets/base",
      "model_module_version": "1.2.0",
      "model_name": "LayoutModel",
      "state": {}
     },
     "b06da43b2b8548c8930073f2c35a4898": {
      "model_module": "@jupyter-widgets/controls",
      "model_module_version": "1.5.0",
      "model_name": "ProgressStyleModel",
      "state": {
       "description_width": "initial"
      }
     },
     "b1199744a2084fd7a559eab368adff2f": {
      "model_module": "@jupyter-widgets/controls",
      "model_module_version": "1.5.0",
      "model_name": "FloatProgressModel",
      "state": {
       "bar_style": "success",
       "description": "5625/5625",
       "layout": "IPY_MODEL_51ccf73aba91447ab1739613d2da4956",
       "max": 5625,
       "style": "IPY_MODEL_b06da43b2b8548c8930073f2c35a4898",
       "value": 5625
      }
     },
     "b21b0cb8d58841058c5fd6dbcbf44cc8": {
      "model_module": "@jupyter-widgets/controls",
      "model_module_version": "1.5.0",
      "model_name": "FloatProgressModel",
      "state": {
       "bar_style": "success",
       "description": "2813/2813",
       "layout": "IPY_MODEL_fb1b0aefb9204629bdf03f25a76a2e9e",
       "max": 2813,
       "style": "IPY_MODEL_23971862c05d480c8bfb160f7ed98c92",
       "value": 2813
      }
     },
     "b2c20c10f08f428ba7e0ffa437d9e7f1": {
      "model_module": "@jupyter-widgets/controls",
      "model_module_version": "1.5.0",
      "model_name": "FloatProgressModel",
      "state": {
       "bar_style": "success",
       "description": "2813/2813",
       "layout": "IPY_MODEL_c8b34dfcd89d4182b592fe503baacf98",
       "max": 2813,
       "style": "IPY_MODEL_8e4bfdb54e964c5083fa7d2fed967d5f",
       "value": 2813
      }
     },
     "b30dd29db9264771bade8feb9c682b55": {
      "model_module": "@jupyter-widgets/base",
      "model_module_version": "1.2.0",
      "model_name": "LayoutModel",
      "state": {
       "display": "inline-flex",
       "flex_flow": "row wrap",
       "width": "100%"
      }
     },
     "b389a437ea764037b29d6eb7380435f5": {
      "model_module": "@jupyter-widgets/controls",
      "model_module_version": "1.5.0",
      "model_name": "HBoxModel",
      "state": {
       "children": [
        "IPY_MODEL_b69572e7ec7d41d1a557ae77dfdd7aba",
        "IPY_MODEL_3110d08469e54cadb7def7d42344186e"
       ],
       "layout": "IPY_MODEL_c5683ac30e924d9d891a317e5100cf67"
      }
     },
     "b3e978a81d654753b9819dee250bf69d": {
      "model_module": "@jupyter-widgets/base",
      "model_module_version": "1.2.0",
      "model_name": "LayoutModel",
      "state": {}
     },
     "b435c774daad44929bb7955f76caf766": {
      "model_module": "@jupyter-widgets/controls",
      "model_module_version": "1.5.0",
      "model_name": "HBoxModel",
      "state": {
       "children": [
        "IPY_MODEL_0880330362004756813b951faa6a133d",
        "IPY_MODEL_6d783d2319294ec794b63eda98c82bfb"
       ],
       "layout": "IPY_MODEL_7df114cfaf6f48f5bd451c8ed2c3c970"
      }
     },
     "b46cfe7d8c89472dad426a44d670b9c3": {
      "model_module": "@jupyter-widgets/controls",
      "model_module_version": "1.5.0",
      "model_name": "HBoxModel",
      "state": {
       "children": [
        "IPY_MODEL_c8349be8ed2c4f5ba6ddec30bc49adf5",
        "IPY_MODEL_f506eeab371e49c7a127442d692f6bd1"
       ],
       "layout": "IPY_MODEL_ce6041db606a4b34af8d9c8ce524266e"
      }
     },
     "b49195cb5a5b4a3eb2fc7196d1236abd": {
      "model_module": "@jupyter-widgets/base",
      "model_module_version": "1.2.0",
      "model_name": "LayoutModel",
      "state": {
       "display": "inline-flex",
       "flex_flow": "row wrap",
       "width": "100%"
      }
     },
     "b505026e946e4a048a066f8905a2651b": {
      "model_module": "@jupyter-widgets/base",
      "model_module_version": "1.2.0",
      "model_name": "LayoutModel",
      "state": {
       "flex": "2"
      }
     },
     "b55b69b0e9584228bcd8f2f3ecaaa5b3": {
      "model_module": "@jupyter-widgets/controls",
      "model_module_version": "1.5.0",
      "model_name": "ProgressStyleModel",
      "state": {
       "description_width": "initial"
      }
     },
     "b62bc8ee404049d8b8c9e651e01eee67": {
      "model_module": "@jupyter-widgets/base",
      "model_module_version": "1.2.0",
      "model_name": "LayoutModel",
      "state": {
       "display": "inline-flex",
       "flex_flow": "row wrap",
       "width": "100%"
      }
     },
     "b675e8ac272841acbaffe647e00d02ec": {
      "model_module": "@jupyter-widgets/controls",
      "model_module_version": "1.5.0",
      "model_name": "HTMLModel",
      "state": {
       "layout": "IPY_MODEL_068caed0497747cd9addb6b7cd922cff",
       "style": "IPY_MODEL_0a14b25aeabf4c3abd4fe3ef164de3be",
       "value": " ETA: 00:00s - loss: 1.5455 - val_loss: 1.7743"
      }
     },
     "b69572e7ec7d41d1a557ae77dfdd7aba": {
      "model_module": "@jupyter-widgets/controls",
      "model_module_version": "1.5.0",
      "model_name": "FloatProgressModel",
      "state": {
       "bar_style": "success",
       "description": "5625/5625",
       "layout": "IPY_MODEL_96cf629ba3c74111afb342a1100ebdb3",
       "max": 5625,
       "style": "IPY_MODEL_99e2826b013d455d9c71b9ae1f8cee24",
       "value": 5625
      }
     },
     "b7d9a22dfe8d4eb1acee6c399fa33db1": {
      "model_module": "@jupyter-widgets/controls",
      "model_module_version": "1.5.0",
      "model_name": "FloatProgressModel",
      "state": {
       "bar_style": "success",
       "description": "2813/2813",
       "layout": "IPY_MODEL_bd3e976b4a214eaeaabd4ddc1ddccd62",
       "max": 2813,
       "style": "IPY_MODEL_c24b1dd7a9d2411cab7c320ab8be8ea2",
       "value": 2813
      }
     },
     "b8422af5e02b4d848b4e042be5c6fc85": {
      "model_module": "@jupyter-widgets/controls",
      "model_module_version": "1.5.0",
      "model_name": "HTMLModel",
      "state": {
       "layout": "IPY_MODEL_1c0f235d7f9c460bbddd75f42aa642b3",
       "style": "IPY_MODEL_a92040186a9b4d8c847f34d68ccd8294",
       "value": " ETA: 00:00s - loss: 5.1383 - val_loss: 2.9599"
      }
     },
     "b87b3654fb80490089bb2b6e4db03d52": {
      "model_module": "@jupyter-widgets/controls",
      "model_module_version": "1.5.0",
      "model_name": "DescriptionStyleModel",
      "state": {
       "description_width": ""
      }
     },
     "b8b37a675c354402a7e802efd801063e": {
      "model_module": "@jupyter-widgets/controls",
      "model_module_version": "1.5.0",
      "model_name": "FloatProgressModel",
      "state": {
       "bar_style": "success",
       "description": "2813/2813",
       "layout": "IPY_MODEL_a09ded7f9a9b4141ba317b97db814646",
       "max": 2813,
       "style": "IPY_MODEL_13775a647ebc48508bd5d83cbc518a80",
       "value": 2813
      }
     },
     "b913a951a9c64676b8a767a8b4c58fea": {
      "model_module": "@jupyter-widgets/base",
      "model_module_version": "1.2.0",
      "model_name": "LayoutModel",
      "state": {
       "display": "inline-flex",
       "flex_flow": "row wrap",
       "width": "100%"
      }
     },
     "b91409bf405a4eaeae011ffad4006440": {
      "model_module": "@jupyter-widgets/controls",
      "model_module_version": "1.5.0",
      "model_name": "HTMLModel",
      "state": {
       "layout": "IPY_MODEL_d02c40aeccc74c1e87dfa752c9cd4c4b",
       "style": "IPY_MODEL_eb4cc36adf1447f4a2dccab71d1f5477",
       "value": " ETA: 00:00s - loss: 1.1874 - val_loss: 1.8477"
      }
     },
     "b970b8813662404b9cc511d3a2d9827b": {
      "model_module": "@jupyter-widgets/base",
      "model_module_version": "1.2.0",
      "model_name": "LayoutModel",
      "state": {
       "display": "inline-flex",
       "flex_flow": "row wrap",
       "width": "100%"
      }
     },
     "b9d2507de04f4f3c883462d9b018fdef": {
      "model_module": "@jupyter-widgets/base",
      "model_module_version": "1.2.0",
      "model_name": "LayoutModel",
      "state": {}
     },
     "b9de6c3224bb45f7b31640574a8e1205": {
      "model_module": "@jupyter-widgets/controls",
      "model_module_version": "1.5.0",
      "model_name": "DescriptionStyleModel",
      "state": {
       "description_width": ""
      }
     },
     "bae7275a30ba416fbc244443dd5028ba": {
      "model_module": "@jupyter-widgets/controls",
      "model_module_version": "1.5.0",
      "model_name": "ProgressStyleModel",
      "state": {
       "description_width": "initial"
      }
     },
     "bb1e916780864206a799fdf8e693bc74": {
      "model_module": "@jupyter-widgets/controls",
      "model_module_version": "1.5.0",
      "model_name": "DescriptionStyleModel",
      "state": {
       "description_width": ""
      }
     },
     "bb34f7a1945847ef96a849cefad2deef": {
      "model_module": "@jupyter-widgets/controls",
      "model_module_version": "1.5.0",
      "model_name": "HBoxModel",
      "state": {
       "children": [
        "IPY_MODEL_01aa1181b7544f23848ee564103f5efc",
        "IPY_MODEL_6962f6d8f5134c368f9cddac6c2b72cb"
       ],
       "layout": "IPY_MODEL_4555fd2b1f014d88a971ed4009a38826"
      }
     },
     "bbd4ed2d441a47cd8123f3d7af4e1be9": {
      "model_module": "@jupyter-widgets/controls",
      "model_module_version": "1.5.0",
      "model_name": "FloatProgressModel",
      "state": {
       "bar_style": "success",
       "description": "2813/2813",
       "layout": "IPY_MODEL_0595093fdb2a4f6da4bda483160e4b2c",
       "max": 2813,
       "style": "IPY_MODEL_372fde0e1c6e4c1fa748a49446cec8e6",
       "value": 2813
      }
     },
     "bd3e976b4a214eaeaabd4ddc1ddccd62": {
      "model_module": "@jupyter-widgets/base",
      "model_module_version": "1.2.0",
      "model_name": "LayoutModel",
      "state": {
       "flex": "2"
      }
     },
     "bd63c2f9570d49be834cddd2498e3b25": {
      "model_module": "@jupyter-widgets/controls",
      "model_module_version": "1.5.0",
      "model_name": "ProgressStyleModel",
      "state": {
       "description_width": "initial"
      }
     },
     "bd9f3cea22304d3c9b586d70ada8213b": {
      "model_module": "@jupyter-widgets/base",
      "model_module_version": "1.2.0",
      "model_name": "LayoutModel",
      "state": {}
     },
     "bfc6ae2b36fa41d6b4c3228c5cab5acf": {
      "model_module": "@jupyter-widgets/controls",
      "model_module_version": "1.5.0",
      "model_name": "HBoxModel",
      "state": {
       "children": [
        "IPY_MODEL_11b10c5ce20a4ce1a8f453f335775d6f",
        "IPY_MODEL_6f98b6382c3247c0827eb5a4060d6d58"
       ],
       "layout": "IPY_MODEL_543412a9c47b400892c23eccc698b3b1"
      }
     },
     "bfdc690224dc46e4a34e5e0f208fd6a0": {
      "model_module": "@jupyter-widgets/controls",
      "model_module_version": "1.5.0",
      "model_name": "ProgressStyleModel",
      "state": {
       "description_width": "initial"
      }
     },
     "bfe0578d3d174551b2dfea6b7822ced3": {
      "model_module": "@jupyter-widgets/controls",
      "model_module_version": "1.5.0",
      "model_name": "HBoxModel",
      "state": {
       "children": [
        "IPY_MODEL_841233d496cc43f69860a213992aa8e5",
        "IPY_MODEL_1b43f110b7eb4b9dbd5460f33af6fcf9"
       ],
       "layout": "IPY_MODEL_470889361ab346bd908bc8b0147ab216"
      }
     },
     "bfedd16eafb6481091c924e5b0920520": {
      "model_module": "@jupyter-widgets/controls",
      "model_module_version": "1.5.0",
      "model_name": "HTMLModel",
      "state": {
       "layout": "IPY_MODEL_fa3d726019104deeb9a8926892f18703",
       "style": "IPY_MODEL_feb35c2a2a6e431e87aa96d2d024b24f",
       "value": " ETA: 00:00s - loss: 1.4248 - val_loss: 1.8058"
      }
     },
     "c12e1fc9e47e48aca732250f0bab5b5f": {
      "model_module": "@jupyter-widgets/base",
      "model_module_version": "1.2.0",
      "model_name": "LayoutModel",
      "state": {
       "flex": "2"
      }
     },
     "c178a9d0a67b45788787afbb3a6f39ff": {
      "model_module": "@jupyter-widgets/base",
      "model_module_version": "1.2.0",
      "model_name": "LayoutModel",
      "state": {
       "flex": "2"
      }
     },
     "c1eb9cb81c8c4a209f432aedd33b4592": {
      "model_module": "@jupyter-widgets/base",
      "model_module_version": "1.2.0",
      "model_name": "LayoutModel",
      "state": {}
     },
     "c24b1dd7a9d2411cab7c320ab8be8ea2": {
      "model_module": "@jupyter-widgets/controls",
      "model_module_version": "1.5.0",
      "model_name": "ProgressStyleModel",
      "state": {
       "description_width": "initial"
      }
     },
     "c2e4e67726f744e29e39ed0b83d4eaff": {
      "model_module": "@jupyter-widgets/base",
      "model_module_version": "1.2.0",
      "model_name": "LayoutModel",
      "state": {
       "display": "inline-flex",
       "flex_flow": "row wrap",
       "width": "100%"
      }
     },
     "c32742a515274463a68d8a0e2bdc5381": {
      "model_module": "@jupyter-widgets/base",
      "model_module_version": "1.2.0",
      "model_name": "LayoutModel",
      "state": {
       "flex": "2"
      }
     },
     "c3bd44f46d334b1090d2d6980a3cf29c": {
      "model_module": "@jupyter-widgets/base",
      "model_module_version": "1.2.0",
      "model_name": "LayoutModel",
      "state": {}
     },
     "c3efef1d53bf423ba1bb209048261cff": {
      "model_module": "@jupyter-widgets/base",
      "model_module_version": "1.2.0",
      "model_name": "LayoutModel",
      "state": {
       "display": "inline-flex",
       "flex_flow": "row wrap",
       "width": "100%"
      }
     },
     "c479aec1b8af47129e05eec1f289cda0": {
      "model_module": "@jupyter-widgets/controls",
      "model_module_version": "1.5.0",
      "model_name": "DescriptionStyleModel",
      "state": {
       "description_width": ""
      }
     },
     "c536a8c4572e4874a9adbb83da265595": {
      "model_module": "@jupyter-widgets/base",
      "model_module_version": "1.2.0",
      "model_name": "LayoutModel",
      "state": {
       "flex": "2"
      }
     },
     "c5683ac30e924d9d891a317e5100cf67": {
      "model_module": "@jupyter-widgets/base",
      "model_module_version": "1.2.0",
      "model_name": "LayoutModel",
      "state": {
       "display": "inline-flex",
       "flex_flow": "row wrap",
       "width": "100%"
      }
     },
     "c56f6f0e614043b4bc7712f0093db757": {
      "model_module": "@jupyter-widgets/controls",
      "model_module_version": "1.5.0",
      "model_name": "FloatProgressModel",
      "state": {
       "bar_style": "success",
       "description": "2813/2813",
       "layout": "IPY_MODEL_757dc03790764b3fbfb5c7c6246e6097",
       "max": 2813,
       "style": "IPY_MODEL_ca559bbc4730451bb5b57ff65d781724",
       "value": 2813
      }
     },
     "c59ae8f2c4bc45ef82dab3f35453e3fb": {
      "model_module": "@jupyter-widgets/controls",
      "model_module_version": "1.5.0",
      "model_name": "FloatProgressModel",
      "state": {
       "bar_style": "success",
       "description": "2813/2813",
       "layout": "IPY_MODEL_754e9cfa8b574b5e87fb791d427cf7b7",
       "max": 2813,
       "style": "IPY_MODEL_96e078c058764872a0607b7f022d0434",
       "value": 2813
      }
     },
     "c5acce5c91cd4611992a98dd7cd948e8": {
      "model_module": "@jupyter-widgets/base",
      "model_module_version": "1.2.0",
      "model_name": "LayoutModel",
      "state": {
       "display": "inline-flex",
       "flex_flow": "row wrap",
       "width": "100%"
      }
     },
     "c694053fe9f249d69c571e23dd571b1a": {
      "model_module": "@jupyter-widgets/base",
      "model_module_version": "1.2.0",
      "model_name": "LayoutModel",
      "state": {
       "flex": "2"
      }
     },
     "c6dfbb74170444d6bc917ffa5df38455": {
      "model_module": "@jupyter-widgets/controls",
      "model_module_version": "1.5.0",
      "model_name": "DescriptionStyleModel",
      "state": {
       "description_width": ""
      }
     },
     "c797cd16836f4c36a9846fe16e7da0df": {
      "model_module": "@jupyter-widgets/controls",
      "model_module_version": "1.5.0",
      "model_name": "FloatProgressModel",
      "state": {
       "bar_style": "danger",
       "description": "Training:  19%",
       "layout": "IPY_MODEL_887b53457e1e4be1a0d9b363958b6bf6",
       "style": "IPY_MODEL_1c5917156d7c478ab0ac920abb2897e9",
       "value": 19
      }
     },
     "c7dda87f4d8a4096bd4624a7464c7816": {
      "model_module": "@jupyter-widgets/base",
      "model_module_version": "1.2.0",
      "model_name": "LayoutModel",
      "state": {
       "display": "inline-flex",
       "flex_flow": "row wrap",
       "width": "100%"
      }
     },
     "c8349be8ed2c4f5ba6ddec30bc49adf5": {
      "model_module": "@jupyter-widgets/controls",
      "model_module_version": "1.5.0",
      "model_name": "FloatProgressModel",
      "state": {
       "bar_style": "success",
       "description": "5625/5625",
       "layout": "IPY_MODEL_636ba75a026c4719a09f28414cedca63",
       "max": 5625,
       "style": "IPY_MODEL_0c4a7c68b057476788e610cb17eab516",
       "value": 5625
      }
     },
     "c84249d7f95f43f3b9eceeaf37c393d7": {
      "model_module": "@jupyter-widgets/base",
      "model_module_version": "1.2.0",
      "model_name": "LayoutModel",
      "state": {
       "display": "inline-flex",
       "flex_flow": "row wrap",
       "width": "100%"
      }
     },
     "c86b425949974c67b1e0b02d133e9080": {
      "model_module": "@jupyter-widgets/base",
      "model_module_version": "1.2.0",
      "model_name": "LayoutModel",
      "state": {
       "display": "inline-flex",
       "flex_flow": "row wrap",
       "width": "100%"
      }
     },
     "c8a5de37f5154a2d8c14d225cf9042f0": {
      "model_module": "@jupyter-widgets/controls",
      "model_module_version": "1.5.0",
      "model_name": "FloatProgressModel",
      "state": {
       "bar_style": "success",
       "description": "2813/2813",
       "layout": "IPY_MODEL_838ffd7c32ef49cfa8829da680379294",
       "max": 2813,
       "style": "IPY_MODEL_51dc49f7fcd7466988a19a66ec5a88b6",
       "value": 2813
      }
     },
     "c8b34dfcd89d4182b592fe503baacf98": {
      "model_module": "@jupyter-widgets/base",
      "model_module_version": "1.2.0",
      "model_name": "LayoutModel",
      "state": {
       "flex": "2"
      }
     },
     "c9a7d6ef3efa4349b1c97415e4e3fe12": {
      "model_module": "@jupyter-widgets/controls",
      "model_module_version": "1.5.0",
      "model_name": "FloatProgressModel",
      "state": {
       "bar_style": "success",
       "description": "2813/2813",
       "layout": "IPY_MODEL_310fded06abf4baf84585f3eb7084908",
       "max": 2813,
       "style": "IPY_MODEL_9b48797ed9ce49c4839d2d0c82e3a456",
       "value": 2813
      }
     },
     "ca1e19fc11ad4339ab5a5734ad57706c": {
      "model_module": "@jupyter-widgets/base",
      "model_module_version": "1.2.0",
      "model_name": "LayoutModel",
      "state": {
       "flex": "2"
      }
     },
     "ca559bbc4730451bb5b57ff65d781724": {
      "model_module": "@jupyter-widgets/controls",
      "model_module_version": "1.5.0",
      "model_name": "ProgressStyleModel",
      "state": {
       "description_width": "initial"
      }
     },
     "ca95464b4e4b4ac280630608ef616e96": {
      "model_module": "@jupyter-widgets/base",
      "model_module_version": "1.2.0",
      "model_name": "LayoutModel",
      "state": {
       "flex": "2"
      }
     },
     "caa8890f376147a9b500fdf2a8d302c8": {
      "model_module": "@jupyter-widgets/base",
      "model_module_version": "1.2.0",
      "model_name": "LayoutModel",
      "state": {}
     },
     "cb15ef3667d649388497307bcc2e4e48": {
      "model_module": "@jupyter-widgets/base",
      "model_module_version": "1.2.0",
      "model_name": "LayoutModel",
      "state": {}
     },
     "cb160aa441d7402d85cd2cbfdc8e0033": {
      "model_module": "@jupyter-widgets/base",
      "model_module_version": "1.2.0",
      "model_name": "LayoutModel",
      "state": {}
     },
     "cb6917d1356f4431951108921031aae3": {
      "model_module": "@jupyter-widgets/controls",
      "model_module_version": "1.5.0",
      "model_name": "HBoxModel",
      "state": {
       "children": [
        "IPY_MODEL_6df2a7f0529c4257a954cf3183338e40",
        "IPY_MODEL_7bbdcd6efc024b4eb1f6c39ed7604252"
       ],
       "layout": "IPY_MODEL_dec413e5497c4cc19442b5fb0ee41fb7"
      }
     },
     "cba9813de33047dc8f4ac552df3b1cd7": {
      "model_module": "@jupyter-widgets/base",
      "model_module_version": "1.2.0",
      "model_name": "LayoutModel",
      "state": {
       "display": "inline-flex",
       "flex_flow": "row wrap",
       "width": "100%"
      }
     },
     "cbf81ae194a54b16b3293ad54f7e4ad5": {
      "model_module": "@jupyter-widgets/controls",
      "model_module_version": "1.5.0",
      "model_name": "HBoxModel",
      "state": {
       "children": [
        "IPY_MODEL_0864d8803864470198bd08f9943cfb00",
        "IPY_MODEL_5fcd08130fcd492e8cb872f27a32e6a7"
       ],
       "layout": "IPY_MODEL_216b7aa91cd54ea1a943908a22d9443d"
      }
     },
     "cca3e55fb520496e87c6bc614ae25b37": {
      "model_module": "@jupyter-widgets/controls",
      "model_module_version": "1.5.0",
      "model_name": "ProgressStyleModel",
      "state": {
       "description_width": "initial"
      }
     },
     "cd50cc846ec642518ce49f6ab5313de2": {
      "model_module": "@jupyter-widgets/controls",
      "model_module_version": "1.5.0",
      "model_name": "HBoxModel",
      "state": {
       "children": [
        "IPY_MODEL_c8a5de37f5154a2d8c14d225cf9042f0",
        "IPY_MODEL_5a7aa87e80ab4bcb9a031cb17a5f0bfc"
       ],
       "layout": "IPY_MODEL_2e2f418022c744c28dea0a75b940ba5c"
      }
     },
     "cd899a7f7d874294a4a85e4427f84db5": {
      "model_module": "@jupyter-widgets/controls",
      "model_module_version": "1.5.0",
      "model_name": "HBoxModel",
      "state": {
       "children": [
        "IPY_MODEL_1a3388be632643be9bfff3614e663595",
        "IPY_MODEL_b675e8ac272841acbaffe647e00d02ec"
       ],
       "layout": "IPY_MODEL_8e941d2e629c428596d65580423ed517"
      }
     },
     "cdc00e3802f54bc99fc8d08a5e732e3f": {
      "model_module": "@jupyter-widgets/controls",
      "model_module_version": "1.5.0",
      "model_name": "ProgressStyleModel",
      "state": {
       "description_width": "initial"
      }
     },
     "ce6041db606a4b34af8d9c8ce524266e": {
      "model_module": "@jupyter-widgets/base",
      "model_module_version": "1.2.0",
      "model_name": "LayoutModel",
      "state": {
       "display": "inline-flex",
       "flex_flow": "row wrap",
       "width": "100%"
      }
     },
     "cf02139fe911484b8684018f3f3e1abc": {
      "model_module": "@jupyter-widgets/controls",
      "model_module_version": "1.5.0",
      "model_name": "HBoxModel",
      "state": {
       "children": [
        "IPY_MODEL_d31de77e46d3489fb2cfb29f899802ad",
        "IPY_MODEL_f9d1de0dc81c4d9bacea41e627cb6572"
       ],
       "layout": "IPY_MODEL_c7dda87f4d8a4096bd4624a7464c7816"
      }
     },
     "cf68061f1109486682984a7a8f6b6387": {
      "model_module": "@jupyter-widgets/controls",
      "model_module_version": "1.5.0",
      "model_name": "DescriptionStyleModel",
      "state": {
       "description_width": ""
      }
     },
     "cfd6a4ed00d34ccb95ac22d69a0912cc": {
      "model_module": "@jupyter-widgets/base",
      "model_module_version": "1.2.0",
      "model_name": "LayoutModel",
      "state": {
       "flex": "2"
      }
     },
     "d00bbf78eedd43eb8840f5226da82cb2": {
      "model_module": "@jupyter-widgets/controls",
      "model_module_version": "1.5.0",
      "model_name": "FloatProgressModel",
      "state": {
       "bar_style": "success",
       "description": "5625/5625",
       "layout": "IPY_MODEL_ca1e19fc11ad4339ab5a5734ad57706c",
       "max": 5625,
       "style": "IPY_MODEL_ed69596acceb4a6da4820fa01d71f19a",
       "value": 5625
      }
     },
     "d021b75e2d08439aa4ebfe16ea6bf3f2": {
      "model_module": "@jupyter-widgets/base",
      "model_module_version": "1.2.0",
      "model_name": "LayoutModel",
      "state": {
       "flex": "2"
      }
     },
     "d029ed2493954e1e8fbf71e72b7bd2f9": {
      "model_module": "@jupyter-widgets/base",
      "model_module_version": "1.2.0",
      "model_name": "LayoutModel",
      "state": {
       "flex": "2"
      }
     },
     "d02c40aeccc74c1e87dfa752c9cd4c4b": {
      "model_module": "@jupyter-widgets/base",
      "model_module_version": "1.2.0",
      "model_name": "LayoutModel",
      "state": {}
     },
     "d03dbe31c0b14205a2018652e5890361": {
      "model_module": "@jupyter-widgets/controls",
      "model_module_version": "1.5.0",
      "model_name": "DescriptionStyleModel",
      "state": {
       "description_width": ""
      }
     },
     "d08b6634f85e47589c8601ebcdfacc3e": {
      "model_module": "@jupyter-widgets/base",
      "model_module_version": "1.2.0",
      "model_name": "LayoutModel",
      "state": {
       "display": "inline-flex",
       "flex_flow": "row wrap",
       "width": "100%"
      }
     },
     "d17c70fd41004d03ba8239fd3636635c": {
      "model_module": "@jupyter-widgets/base",
      "model_module_version": "1.2.0",
      "model_name": "LayoutModel",
      "state": {
       "display": "inline-flex",
       "flex_flow": "row wrap",
       "width": "100%"
      }
     },
     "d1a757fe35554685a125cb9d48942e3b": {
      "model_module": "@jupyter-widgets/controls",
      "model_module_version": "1.5.0",
      "model_name": "DescriptionStyleModel",
      "state": {
       "description_width": ""
      }
     },
     "d1c63c3e69cc4589a2ae82df695e0eb3": {
      "model_module": "@jupyter-widgets/controls",
      "model_module_version": "1.5.0",
      "model_name": "DescriptionStyleModel",
      "state": {
       "description_width": ""
      }
     },
     "d237e3f2021645dbbbbbe95dad990e2c": {
      "model_module": "@jupyter-widgets/controls",
      "model_module_version": "1.5.0",
      "model_name": "FloatProgressModel",
      "state": {
       "bar_style": "success",
       "description": "2813/2813",
       "layout": "IPY_MODEL_1229a4c65f8a4b06b846f538b4c6a4a8",
       "max": 2813,
       "style": "IPY_MODEL_6eaa892133ef4e48b0c14909f5054f32",
       "value": 2813
      }
     },
     "d29cc008223e4ce1aef65a94bbbc6bde": {
      "model_module": "@jupyter-widgets/controls",
      "model_module_version": "1.5.0",
      "model_name": "HBoxModel",
      "state": {
       "children": [
        "IPY_MODEL_338a5baa7e6341a7a53044a16ee2ccbe",
        "IPY_MODEL_2436636b5987456585f66ba45547de30"
       ],
       "layout": "IPY_MODEL_dbdc955934ae4e3db53e90ab6284f9a0"
      }
     },
     "d29f0f966b0f40c0b55acef616112807": {
      "model_module": "@jupyter-widgets/base",
      "model_module_version": "1.2.0",
      "model_name": "LayoutModel",
      "state": {}
     },
     "d2c56f12f7db4e04b7256dc013b9b875": {
      "model_module": "@jupyter-widgets/base",
      "model_module_version": "1.2.0",
      "model_name": "LayoutModel",
      "state": {}
     },
     "d31de77e46d3489fb2cfb29f899802ad": {
      "model_module": "@jupyter-widgets/controls",
      "model_module_version": "1.5.0",
      "model_name": "FloatProgressModel",
      "state": {
       "bar_style": "success",
       "description": "5625/5625",
       "layout": "IPY_MODEL_2f99032d96a54b9fbf7910af070c65da",
       "max": 5625,
       "style": "IPY_MODEL_58b74cd29d6a4dce9a2b6e3974ab9170",
       "value": 5625
      }
     },
     "d375e3c873334b1bbc084015cdbeb06f": {
      "model_module": "@jupyter-widgets/controls",
      "model_module_version": "1.5.0",
      "model_name": "HBoxModel",
      "state": {
       "children": [
        "IPY_MODEL_6e0e64e455b049d3b2787842da1eeb40",
        "IPY_MODEL_e11f24a2e0cd474190e47a6ad4f69f29"
       ],
       "layout": "IPY_MODEL_f8b45a57431049cc8c04b3c47e587ce2"
      }
     },
     "d3a60e3ad5ab4f2589712cf0d403ab46": {
      "model_module": "@jupyter-widgets/base",
      "model_module_version": "1.2.0",
      "model_name": "LayoutModel",
      "state": {
       "display": "inline-flex",
       "flex_flow": "row wrap",
       "width": "100%"
      }
     },
     "d3de55840b5b46e69274d32203173869": {
      "model_module": "@jupyter-widgets/controls",
      "model_module_version": "1.5.0",
      "model_name": "HTMLModel",
      "state": {
       "layout": "IPY_MODEL_cb160aa441d7402d85cd2cbfdc8e0033",
       "style": "IPY_MODEL_8ce2442760d24ffbac9a66d6970545ef",
       "value": " ETA: 00:00s - loss: 2.2225 - val_loss: 2.1507"
      }
     },
     "d466339eb0c84f428b816468c4e46922": {
      "model_module": "@jupyter-widgets/controls",
      "model_module_version": "1.5.0",
      "model_name": "HBoxModel",
      "state": {
       "children": [
        "IPY_MODEL_b7d9a22dfe8d4eb1acee6c399fa33db1",
        "IPY_MODEL_3b551da62e9c40d28a7536a8469a78bb"
       ],
       "layout": "IPY_MODEL_efbcdc32fa3f4bd78a4e63d674af77d9"
      }
     },
     "d477aff00470460db10be63a93dd5ba1": {
      "model_module": "@jupyter-widgets/base",
      "model_module_version": "1.2.0",
      "model_name": "LayoutModel",
      "state": {}
     },
     "d51737eacb1b4bd2aef140ea92745cfa": {
      "model_module": "@jupyter-widgets/base",
      "model_module_version": "1.2.0",
      "model_name": "LayoutModel",
      "state": {}
     },
     "d5aae18489534882ba7f2588d6442157": {
      "model_module": "@jupyter-widgets/controls",
      "model_module_version": "1.5.0",
      "model_name": "FloatProgressModel",
      "state": {
       "bar_style": "success",
       "description": "2813/2813",
       "layout": "IPY_MODEL_ca95464b4e4b4ac280630608ef616e96",
       "max": 2813,
       "style": "IPY_MODEL_66ccedba104e4d0b8d4bb5a35a8a5888",
       "value": 2813
      }
     },
     "d615ad0b1be3412691cae88fd91868ae": {
      "model_module": "@jupyter-widgets/controls",
      "model_module_version": "1.5.0",
      "model_name": "HBoxModel",
      "state": {
       "children": [
        "IPY_MODEL_f673b1c4bc3b4c6883c781ecea01f0fd",
        "IPY_MODEL_9c58c87d6d674bd4ab208a176e2a8190"
       ],
       "layout": "IPY_MODEL_cba9813de33047dc8f4ac552df3b1cd7"
      }
     },
     "d64002ac8eb540dbaa06e33e1e93351d": {
      "model_module": "@jupyter-widgets/controls",
      "model_module_version": "1.5.0",
      "model_name": "HTMLModel",
      "state": {
       "layout": "IPY_MODEL_05c31e1356b840de911f35f61a103629",
       "style": "IPY_MODEL_ec29d7cd58a94fe79c98a4627ade45ac",
       "value": " ETA: 00:00s - loss: 1.2189 - val_loss: 1.8781"
      }
     },
     "d6c84e5f01d949b1a59b4148fdbed2b1": {
      "model_module": "@jupyter-widgets/controls",
      "model_module_version": "1.5.0",
      "model_name": "FloatProgressModel",
      "state": {
       "bar_style": "success",
       "description": "5625/5625",
       "layout": "IPY_MODEL_735e233c796a447c823301aff02664ca",
       "max": 5625,
       "style": "IPY_MODEL_6da17c2d0375496ebeab64b1f3636917",
       "value": 5625
      }
     },
     "d6edf495929b4b518b8aeab3deb0d4b3": {
      "model_module": "@jupyter-widgets/base",
      "model_module_version": "1.2.0",
      "model_name": "LayoutModel",
      "state": {}
     },
     "d7926adc493744378fa7fb839df96adc": {
      "model_module": "@jupyter-widgets/controls",
      "model_module_version": "1.5.0",
      "model_name": "HTMLModel",
      "state": {
       "layout": "IPY_MODEL_a17771541d1e4986aadee8b7aae7af1e",
       "style": "IPY_MODEL_880fcbdd8e414b9da6bd14a2443909cd",
       "value": " ETA: 00:00s - loss: 1.9813 - val_loss: 2.0327"
      }
     },
     "d7be59fc23cb4aa5bc3f7fa9df436b21": {
      "model_module": "@jupyter-widgets/controls",
      "model_module_version": "1.5.0",
      "model_name": "HTMLModel",
      "state": {
       "layout": "IPY_MODEL_da57f50ca19a4026bcfddec69bc0800f",
       "style": "IPY_MODEL_f4b377d99124448aa3354153ef4c981e",
       "value": " ETA: 00:00s - loss: 1.2529 - val_loss: 1.8652"
      }
     },
     "d921e189d2824881bb85ebb89cd122f6": {
      "model_module": "@jupyter-widgets/controls",
      "model_module_version": "1.5.0",
      "model_name": "FloatProgressModel",
      "state": {
       "bar_style": "success",
       "description": "2813/2813",
       "layout": "IPY_MODEL_c694053fe9f249d69c571e23dd571b1a",
       "max": 2813,
       "style": "IPY_MODEL_f44a35f8e0de4ff7b7cea4c7e99f01ef",
       "value": 2813
      }
     },
     "d9bd02bd98c94313a20486ca5e2b1bac": {
      "model_module": "@jupyter-widgets/controls",
      "model_module_version": "1.5.0",
      "model_name": "DescriptionStyleModel",
      "state": {
       "description_width": ""
      }
     },
     "d9d3ada3d1b94aae9c08ed6a31564290": {
      "model_module": "@jupyter-widgets/controls",
      "model_module_version": "1.5.0",
      "model_name": "ProgressStyleModel",
      "state": {
       "description_width": "initial"
      }
     },
     "d9f26d47feb549d59d6565f76dd2aa6a": {
      "model_module": "@jupyter-widgets/controls",
      "model_module_version": "1.5.0",
      "model_name": "DescriptionStyleModel",
      "state": {
       "description_width": ""
      }
     },
     "da2112952ab9442c9c570dc0d2ebd019": {
      "model_module": "@jupyter-widgets/controls",
      "model_module_version": "1.5.0",
      "model_name": "HBoxModel",
      "state": {
       "children": [
        "IPY_MODEL_f185c52b0390495e97d4faf24c6f3dfe",
        "IPY_MODEL_959d1aa0a62049118a6ffdaa5de1b9b6"
       ],
       "layout": "IPY_MODEL_19cce9be5a4b43c7a795d9c720b93dbd"
      }
     },
     "da57f50ca19a4026bcfddec69bc0800f": {
      "model_module": "@jupyter-widgets/base",
      "model_module_version": "1.2.0",
      "model_name": "LayoutModel",
      "state": {}
     },
     "dabb326955ae4404a02b162230cfb498": {
      "model_module": "@jupyter-widgets/controls",
      "model_module_version": "1.5.0",
      "model_name": "DescriptionStyleModel",
      "state": {
       "description_width": ""
      }
     },
     "db0d2f98928f42bd85b0b8fd1fdc47b1": {
      "model_module": "@jupyter-widgets/base",
      "model_module_version": "1.2.0",
      "model_name": "LayoutModel",
      "state": {
       "display": "inline-flex",
       "flex_flow": "row wrap",
       "width": "100%"
      }
     },
     "dbdc955934ae4e3db53e90ab6284f9a0": {
      "model_module": "@jupyter-widgets/base",
      "model_module_version": "1.2.0",
      "model_name": "LayoutModel",
      "state": {
       "display": "inline-flex",
       "flex_flow": "row wrap",
       "width": "100%"
      }
     },
     "ddb5b412b4504148995640003c0e8c7d": {
      "model_module": "@jupyter-widgets/base",
      "model_module_version": "1.2.0",
      "model_name": "LayoutModel",
      "state": {}
     },
     "dec413e5497c4cc19442b5fb0ee41fb7": {
      "model_module": "@jupyter-widgets/base",
      "model_module_version": "1.2.0",
      "model_name": "LayoutModel",
      "state": {
       "display": "inline-flex",
       "flex_flow": "row wrap",
       "width": "100%"
      }
     },
     "df2abb91e0bf4336b032fea133b8b3ea": {
      "model_module": "@jupyter-widgets/controls",
      "model_module_version": "1.5.0",
      "model_name": "DescriptionStyleModel",
      "state": {
       "description_width": ""
      }
     },
     "e039539e58634a44a79ff39e954d65cb": {
      "model_module": "@jupyter-widgets/controls",
      "model_module_version": "1.5.0",
      "model_name": "DescriptionStyleModel",
      "state": {
       "description_width": ""
      }
     },
     "e0b4c454c9714bad930bab7c958e8ffe": {
      "model_module": "@jupyter-widgets/base",
      "model_module_version": "1.2.0",
      "model_name": "LayoutModel",
      "state": {
       "flex": "2"
      }
     },
     "e0da2e7b0a6d403ba0563d156e0ce9a0": {
      "model_module": "@jupyter-widgets/controls",
      "model_module_version": "1.5.0",
      "model_name": "DescriptionStyleModel",
      "state": {
       "description_width": ""
      }
     },
     "e11f24a2e0cd474190e47a6ad4f69f29": {
      "model_module": "@jupyter-widgets/controls",
      "model_module_version": "1.5.0",
      "model_name": "HTMLModel",
      "state": {
       "layout": "IPY_MODEL_d51737eacb1b4bd2aef140ea92745cfa",
       "style": "IPY_MODEL_f9f55ac152ba42fd9847a5a7a29eb8c4",
       "value": " 0/1000 ETA: ?s,  ?epochs/s"
      }
     },
     "e19d14d207ed488eb64fdb979c35adf9": {
      "model_module": "@jupyter-widgets/controls",
      "model_module_version": "1.5.0",
      "model_name": "HTMLModel",
      "state": {
       "layout": "IPY_MODEL_8d384719ffdd405a8278c747950c4d46",
       "style": "IPY_MODEL_023fb7112d334a43b34cc1c69cd571fc",
       "value": " ETA: 00:00s - loss: 1.6878 - val_loss: 1.7145"
      }
     },
     "e1d6f1e8f62342dba077ff1802e754e1": {
      "model_module": "@jupyter-widgets/controls",
      "model_module_version": "1.5.0",
      "model_name": "DescriptionStyleModel",
      "state": {
       "description_width": ""
      }
     },
     "e204be5817fe492084262f0e3a435a35": {
      "model_module": "@jupyter-widgets/controls",
      "model_module_version": "1.5.0",
      "model_name": "DescriptionStyleModel",
      "state": {
       "description_width": ""
      }
     },
     "e20c1f49ad5e4a029fbcde81e49e4862": {
      "model_module": "@jupyter-widgets/controls",
      "model_module_version": "1.5.0",
      "model_name": "DescriptionStyleModel",
      "state": {
       "description_width": ""
      }
     },
     "e2daab302edf4fd0a94e0be1c9515e35": {
      "model_module": "@jupyter-widgets/controls",
      "model_module_version": "1.5.0",
      "model_name": "HBoxModel",
      "state": {
       "children": [
        "IPY_MODEL_0bd1c037c2574a6cadfc56e3b76562e1",
        "IPY_MODEL_2a825c009d9c48d1b19cc2d370191e31"
       ],
       "layout": "IPY_MODEL_b49195cb5a5b4a3eb2fc7196d1236abd"
      }
     },
     "e3b5c5c06a044b85ab9b5bb3b14909da": {
      "model_module": "@jupyter-widgets/base",
      "model_module_version": "1.2.0",
      "model_name": "LayoutModel",
      "state": {
       "display": "inline-flex",
       "flex_flow": "row wrap",
       "width": "100%"
      }
     },
     "e3ccd19b27634c58b9e19bf0b3065b97": {
      "model_module": "@jupyter-widgets/controls",
      "model_module_version": "1.5.0",
      "model_name": "ProgressStyleModel",
      "state": {
       "description_width": "initial"
      }
     },
     "e3edd187b87e4d54a87e404873f29a49": {
      "model_module": "@jupyter-widgets/base",
      "model_module_version": "1.2.0",
      "model_name": "LayoutModel",
      "state": {}
     },
     "e4ed2a19604f47b1b8c55670ae801188": {
      "model_module": "@jupyter-widgets/controls",
      "model_module_version": "1.5.0",
      "model_name": "HTMLModel",
      "state": {
       "layout": "IPY_MODEL_4b7f8755401e4747abb5bef9e998c841",
       "style": "IPY_MODEL_48df46b9ec0e4404a3b67582377fa633",
       "value": " ETA: 00:00s - loss: 1.8658 - val_loss: 1.8505"
      }
     },
     "e6f0a7b5c2fd4b64badf73036939e729": {
      "model_module": "@jupyter-widgets/controls",
      "model_module_version": "1.5.0",
      "model_name": "DescriptionStyleModel",
      "state": {
       "description_width": ""
      }
     },
     "e703b35ed2fc4665ade3c00dea5c3e15": {
      "model_module": "@jupyter-widgets/controls",
      "model_module_version": "1.5.0",
      "model_name": "FloatProgressModel",
      "state": {
       "bar_style": "success",
       "description": "5625/5625",
       "layout": "IPY_MODEL_2bcf02b53afe46feae7a31969732ccb3",
       "max": 5625,
       "style": "IPY_MODEL_747402eeaddb4fe5aa8a23edbcd0c4ff",
       "value": 5625
      }
     },
     "e7f27f5a25d640659601f7f102a1c7d2": {
      "model_module": "@jupyter-widgets/controls",
      "model_module_version": "1.5.0",
      "model_name": "FloatProgressModel",
      "state": {
       "bar_style": "danger",
       "description": "Training:   5%",
       "layout": "IPY_MODEL_a3a58916309c405980f3e220d173649b",
       "max": 1000,
       "style": "IPY_MODEL_280d902e25ff4615b94b9f96723d59e0",
       "value": 50
      }
     },
     "e89de940f98242c684213c99a3916665": {
      "model_module": "@jupyter-widgets/base",
      "model_module_version": "1.2.0",
      "model_name": "LayoutModel",
      "state": {}
     },
     "e8ff77e4dcef4a6ca9604b525990a02c": {
      "model_module": "@jupyter-widgets/controls",
      "model_module_version": "1.5.0",
      "model_name": "FloatProgressModel",
      "state": {
       "bar_style": "success",
       "description": "2813/2813",
       "layout": "IPY_MODEL_ef8510e232b64024a25bb6f13306c82e",
       "max": 2813,
       "style": "IPY_MODEL_cdc00e3802f54bc99fc8d08a5e732e3f",
       "value": 2813
      }
     },
     "e93e512dca3e42c1b57eb4797b733703": {
      "model_module": "@jupyter-widgets/controls",
      "model_module_version": "1.5.0",
      "model_name": "ProgressStyleModel",
      "state": {
       "description_width": "initial"
      }
     },
     "ea015bd8b9d94449a19d8a26e5a5112f": {
      "model_module": "@jupyter-widgets/controls",
      "model_module_version": "1.5.0",
      "model_name": "DescriptionStyleModel",
      "state": {
       "description_width": ""
      }
     },
     "ea6b1199d33e4c8cbe0ee1703a539b04": {
      "model_module": "@jupyter-widgets/base",
      "model_module_version": "1.2.0",
      "model_name": "LayoutModel",
      "state": {
       "display": "inline-flex",
       "flex_flow": "row wrap",
       "width": "100%"
      }
     },
     "eb32abbd17ad44a39ca783e5e8bf8de6": {
      "model_module": "@jupyter-widgets/controls",
      "model_module_version": "1.5.0",
      "model_name": "ProgressStyleModel",
      "state": {
       "description_width": "initial"
      }
     },
     "eb4cc36adf1447f4a2dccab71d1f5477": {
      "model_module": "@jupyter-widgets/controls",
      "model_module_version": "1.5.0",
      "model_name": "DescriptionStyleModel",
      "state": {
       "description_width": ""
      }
     },
     "eb6dc036dffc44eb8f123f6a401208b6": {
      "model_module": "@jupyter-widgets/controls",
      "model_module_version": "1.5.0",
      "model_name": "FloatProgressModel",
      "state": {
       "bar_style": "success",
       "description": "2813/2813",
       "layout": "IPY_MODEL_a4391b1907214cde92832ee563783ae2",
       "max": 2813,
       "style": "IPY_MODEL_03608a14371941fcb6eb375b5054d494",
       "value": 2813
      }
     },
     "ec1cf4d882634c60a4af146085e361ac": {
      "model_module": "@jupyter-widgets/controls",
      "model_module_version": "1.5.0",
      "model_name": "DescriptionStyleModel",
      "state": {
       "description_width": ""
      }
     },
     "ec29d7cd58a94fe79c98a4627ade45ac": {
      "model_module": "@jupyter-widgets/controls",
      "model_module_version": "1.5.0",
      "model_name": "DescriptionStyleModel",
      "state": {
       "description_width": ""
      }
     },
     "ec31c3174e594934906f1d090f6df3b1": {
      "model_module": "@jupyter-widgets/controls",
      "model_module_version": "1.5.0",
      "model_name": "ProgressStyleModel",
      "state": {
       "description_width": "initial"
      }
     },
     "ed69596acceb4a6da4820fa01d71f19a": {
      "model_module": "@jupyter-widgets/controls",
      "model_module_version": "1.5.0",
      "model_name": "ProgressStyleModel",
      "state": {
       "description_width": "initial"
      }
     },
     "eda34a59f47641a786a7994981a77d99": {
      "model_module": "@jupyter-widgets/controls",
      "model_module_version": "1.5.0",
      "model_name": "DescriptionStyleModel",
      "state": {
       "description_width": ""
      }
     },
     "ee4b8c093f5d4c239df328268b2ed6fa": {
      "model_module": "@jupyter-widgets/controls",
      "model_module_version": "1.5.0",
      "model_name": "ProgressStyleModel",
      "state": {
       "description_width": "initial"
      }
     },
     "ee660deddc014aab87e0564ede4a78d6": {
      "model_module": "@jupyter-widgets/controls",
      "model_module_version": "1.5.0",
      "model_name": "ProgressStyleModel",
      "state": {
       "description_width": "initial"
      }
     },
     "ef8510e232b64024a25bb6f13306c82e": {
      "model_module": "@jupyter-widgets/base",
      "model_module_version": "1.2.0",
      "model_name": "LayoutModel",
      "state": {
       "flex": "2"
      }
     },
     "ef96d75ef169428fabb629174eecc11f": {
      "model_module": "@jupyter-widgets/controls",
      "model_module_version": "1.5.0",
      "model_name": "ProgressStyleModel",
      "state": {
       "description_width": "initial"
      }
     },
     "efa82fc688d647679752e0304bef4c91": {
      "model_module": "@jupyter-widgets/controls",
      "model_module_version": "1.5.0",
      "model_name": "DescriptionStyleModel",
      "state": {
       "description_width": ""
      }
     },
     "efacbdc2dbb441c6871d9f6558457cb7": {
      "model_module": "@jupyter-widgets/base",
      "model_module_version": "1.2.0",
      "model_name": "LayoutModel",
      "state": {
       "display": "inline-flex",
       "flex_flow": "row wrap",
       "width": "100%"
      }
     },
     "efbcdc32fa3f4bd78a4e63d674af77d9": {
      "model_module": "@jupyter-widgets/base",
      "model_module_version": "1.2.0",
      "model_name": "LayoutModel",
      "state": {
       "display": "inline-flex",
       "flex_flow": "row wrap",
       "width": "100%"
      }
     },
     "f0e6c056fe7244e1a87a6919cdf69f10": {
      "model_module": "@jupyter-widgets/controls",
      "model_module_version": "1.5.0",
      "model_name": "HBoxModel",
      "state": {
       "children": [
        "IPY_MODEL_141364fc21f34107830ba8d7eda92c58",
        "IPY_MODEL_d7be59fc23cb4aa5bc3f7fa9df436b21"
       ],
       "layout": "IPY_MODEL_405c097d037649be870b7d14b2363ba7"
      }
     },
     "f16b5803d36a40f69f31d97554fc5a03": {
      "model_module": "@jupyter-widgets/controls",
      "model_module_version": "1.5.0",
      "model_name": "HTMLModel",
      "state": {
       "layout": "IPY_MODEL_6852326e5df54230b1da79af14914fc2",
       "style": "IPY_MODEL_f748bb68dc7d4f6ea0973c3f723d696b",
       "value": " ETA: 00:00s - loss: 2.2086 - val_loss: 2.2663"
      }
     },
     "f185c52b0390495e97d4faf24c6f3dfe": {
      "model_module": "@jupyter-widgets/controls",
      "model_module_version": "1.5.0",
      "model_name": "FloatProgressModel",
      "state": {
       "bar_style": "success",
       "description": "2813/2813",
       "layout": "IPY_MODEL_e0b4c454c9714bad930bab7c958e8ffe",
       "max": 2813,
       "style": "IPY_MODEL_f96b3127b18c43f0bf69bd376dbaa4b3",
       "value": 2813
      }
     },
     "f1923eb588ef428da5cc7aaeabca1da4": {
      "model_module": "@jupyter-widgets/controls",
      "model_module_version": "1.5.0",
      "model_name": "FloatProgressModel",
      "state": {
       "bar_style": "success",
       "description": "5625/5625",
       "layout": "IPY_MODEL_7236c35076a140a791c82eff6c12af27",
       "max": 5625,
       "style": "IPY_MODEL_a7825d31e4d74e329436e6dc2354508b",
       "value": 5625
      }
     },
     "f350f7ad3c9c48918b7cb781304f742a": {
      "model_module": "@jupyter-widgets/controls",
      "model_module_version": "1.5.0",
      "model_name": "HTMLModel",
      "state": {
       "layout": "IPY_MODEL_f651e99daa7b4970aaad17c5748451ae",
       "style": "IPY_MODEL_21136710be0047aa860ed4ce59abb1be",
       "value": " ETA: 00:00s - loss: 2.2449 - val_loss: 2.1818"
      }
     },
     "f44a35f8e0de4ff7b7cea4c7e99f01ef": {
      "model_module": "@jupyter-widgets/controls",
      "model_module_version": "1.5.0",
      "model_name": "ProgressStyleModel",
      "state": {
       "description_width": "initial"
      }
     },
     "f45e7f0ba2a94e369645824ef49e7b13": {
      "model_module": "@jupyter-widgets/base",
      "model_module_version": "1.2.0",
      "model_name": "LayoutModel",
      "state": {
       "display": "inline-flex",
       "flex_flow": "row wrap",
       "width": "100%"
      }
     },
     "f4b377d99124448aa3354153ef4c981e": {
      "model_module": "@jupyter-widgets/controls",
      "model_module_version": "1.5.0",
      "model_name": "DescriptionStyleModel",
      "state": {
       "description_width": ""
      }
     },
     "f506eeab371e49c7a127442d692f6bd1": {
      "model_module": "@jupyter-widgets/controls",
      "model_module_version": "1.5.0",
      "model_name": "HTMLModel",
      "state": {
       "layout": "IPY_MODEL_aa6b86634d5448b5a6eb42e00ddd7106",
       "style": "IPY_MODEL_e204be5817fe492084262f0e3a435a35",
       "value": " ETA: 00:00s - loss: 2.1873 - val_loss: 2.1281"
      }
     },
     "f651e99daa7b4970aaad17c5748451ae": {
      "model_module": "@jupyter-widgets/base",
      "model_module_version": "1.2.0",
      "model_name": "LayoutModel",
      "state": {}
     },
     "f673b1c4bc3b4c6883c781ecea01f0fd": {
      "model_module": "@jupyter-widgets/controls",
      "model_module_version": "1.5.0",
      "model_name": "FloatProgressModel",
      "state": {
       "bar_style": "success",
       "description": "2813/2813",
       "layout": "IPY_MODEL_6941c0046e94415c9419149d73cd3908",
       "max": 2813,
       "style": "IPY_MODEL_cca3e55fb520496e87c6bc614ae25b37",
       "value": 2813
      }
     },
     "f71255bc3d324d24b13ef982b3c9cf8d": {
      "model_module": "@jupyter-widgets/controls",
      "model_module_version": "1.5.0",
      "model_name": "HTMLModel",
      "state": {
       "layout": "IPY_MODEL_03db5fc577bf4a81b80a305def9b3523",
       "style": "IPY_MODEL_d1c63c3e69cc4589a2ae82df695e0eb3",
       "value": " ETA: 00:00s - loss: 1.1570 - val_loss: 1.8536"
      }
     },
     "f748bb68dc7d4f6ea0973c3f723d696b": {
      "model_module": "@jupyter-widgets/controls",
      "model_module_version": "1.5.0",
      "model_name": "DescriptionStyleModel",
      "state": {
       "description_width": ""
      }
     },
     "f8b45a57431049cc8c04b3c47e587ce2": {
      "model_module": "@jupyter-widgets/base",
      "model_module_version": "1.2.0",
      "model_name": "LayoutModel",
      "state": {
       "display": "inline-flex",
       "flex_flow": "row wrap",
       "width": "100%"
      }
     },
     "f8daa9dc4bf14e63b50762cfbcc85aba": {
      "model_module": "@jupyter-widgets/controls",
      "model_module_version": "1.5.0",
      "model_name": "FloatProgressModel",
      "state": {
       "bar_style": "success",
       "description": "2813/2813",
       "layout": "IPY_MODEL_d029ed2493954e1e8fbf71e72b7bd2f9",
       "max": 2813,
       "style": "IPY_MODEL_8731ff8369684ad7af5c98975a8116cb",
       "value": 2813
      }
     },
     "f940018610ea4c9b99270fa933aeef55": {
      "model_module": "@jupyter-widgets/controls",
      "model_module_version": "1.5.0",
      "model_name": "HTMLModel",
      "state": {
       "layout": "IPY_MODEL_279b7e4cce0e48dcb777cd240964139e",
       "style": "IPY_MODEL_3f88aa97e3fb4e81a1c58cfca6083a1e",
       "value": " ETA: 00:00s - loss: 1.7140 - val_loss: 1.7402"
      }
     },
     "f96b3127b18c43f0bf69bd376dbaa4b3": {
      "model_module": "@jupyter-widgets/controls",
      "model_module_version": "1.5.0",
      "model_name": "ProgressStyleModel",
      "state": {
       "description_width": "initial"
      }
     },
     "f998ab0f2b724da69a6cc1f8d2f80a30": {
      "model_module": "@jupyter-widgets/controls",
      "model_module_version": "1.5.0",
      "model_name": "HTMLModel",
      "state": {
       "layout": "IPY_MODEL_0f3d9d37bcbe4307b7b20f6a54e1a075",
       "style": "IPY_MODEL_51673063f920448a8368dd154a701a3f",
       "value": " ETA: 00:00s - loss: 2.9142 - val_loss: 2.6870"
      }
     },
     "f9ba4e098eb247f4aca1da531962ce49": {
      "model_module": "@jupyter-widgets/controls",
      "model_module_version": "1.5.0",
      "model_name": "FloatProgressModel",
      "state": {
       "bar_style": "success",
       "description": "5625/5625",
       "layout": "IPY_MODEL_cfd6a4ed00d34ccb95ac22d69a0912cc",
       "max": 5625,
       "style": "IPY_MODEL_e3ccd19b27634c58b9e19bf0b3065b97",
       "value": 5625
      }
     },
     "f9d1de0dc81c4d9bacea41e627cb6572": {
      "model_module": "@jupyter-widgets/controls",
      "model_module_version": "1.5.0",
      "model_name": "HTMLModel",
      "state": {
       "layout": "IPY_MODEL_5b8e5e5318a14d3b8e736e376bba7c82",
       "style": "IPY_MODEL_9bb85a4a7ef24e10b52542d419b5d7a7",
       "value": " ETA: 00:00s - loss: 2.3077 - val_loss: 2.2436"
      }
     },
     "f9dd26a091e84a828ae58ccdd3aef4ec": {
      "model_module": "@jupyter-widgets/controls",
      "model_module_version": "1.5.0",
      "model_name": "HBoxModel",
      "state": {
       "children": [
        "IPY_MODEL_c9a7d6ef3efa4349b1c97415e4e3fe12",
        "IPY_MODEL_048b63fc2a0f43d5bdbd2261c6015743"
       ],
       "layout": "IPY_MODEL_aa352e06ad654913957279fc688db0fa"
      }
     },
     "f9f55ac152ba42fd9847a5a7a29eb8c4": {
      "model_module": "@jupyter-widgets/controls",
      "model_module_version": "1.5.0",
      "model_name": "DescriptionStyleModel",
      "state": {
       "description_width": ""
      }
     },
     "fa3d726019104deeb9a8926892f18703": {
      "model_module": "@jupyter-widgets/base",
      "model_module_version": "1.2.0",
      "model_name": "LayoutModel",
      "state": {}
     },
     "faeecec72eb7472db0e49a7149068167": {
      "model_module": "@jupyter-widgets/controls",
      "model_module_version": "1.5.0",
      "model_name": "HBoxModel",
      "state": {
       "children": [
        "IPY_MODEL_f8daa9dc4bf14e63b50762cfbcc85aba",
        "IPY_MODEL_0f44bd0a6f37444b8d64f2f4f465924e"
       ],
       "layout": "IPY_MODEL_1138f465295f4aeea53112190518f9a9"
      }
     },
     "fb1b0aefb9204629bdf03f25a76a2e9e": {
      "model_module": "@jupyter-widgets/base",
      "model_module_version": "1.2.0",
      "model_name": "LayoutModel",
      "state": {
       "flex": "2"
      }
     },
     "fb758f7806b842dfaeb7d4c2d8b1b830": {
      "model_module": "@jupyter-widgets/base",
      "model_module_version": "1.2.0",
      "model_name": "LayoutModel",
      "state": {
       "flex": "2"
      }
     },
     "fd6da3140c3c46b183c08e8da765c0eb": {
      "model_module": "@jupyter-widgets/base",
      "model_module_version": "1.2.0",
      "model_name": "LayoutModel",
      "state": {}
     },
     "fd6da93fb4584691979ee52dd3723c61": {
      "model_module": "@jupyter-widgets/controls",
      "model_module_version": "1.5.0",
      "model_name": "HTMLModel",
      "state": {
       "layout": "IPY_MODEL_d6edf495929b4b518b8aeab3deb0d4b3",
       "style": "IPY_MODEL_ec1cf4d882634c60a4af146085e361ac",
       "value": " ETA: 00:00s - loss: 2.3141 - val_loss: 2.1703"
      }
     },
     "fd7a4e253a724fe68b464c7a29b061d8": {
      "model_module": "@jupyter-widgets/base",
      "model_module_version": "1.2.0",
      "model_name": "LayoutModel",
      "state": {
       "flex": "2"
      }
     },
     "fd92959d9f8248d5a5e60e62e4ea5dca": {
      "model_module": "@jupyter-widgets/controls",
      "model_module_version": "1.5.0",
      "model_name": "FloatProgressModel",
      "state": {
       "bar_style": "success",
       "description": "2813/2813",
       "layout": "IPY_MODEL_1468659355e14fb0ba7e617ed1ad7990",
       "max": 2813,
       "style": "IPY_MODEL_a10de80a2619425ab21f1fc7d93bc872",
       "value": 2813
      }
     },
     "fdef4e7838e940bf967f63f18db9cd45": {
      "model_module": "@jupyter-widgets/base",
      "model_module_version": "1.2.0",
      "model_name": "LayoutModel",
      "state": {}
     },
     "feb35c2a2a6e431e87aa96d2d024b24f": {
      "model_module": "@jupyter-widgets/controls",
      "model_module_version": "1.5.0",
      "model_name": "DescriptionStyleModel",
      "state": {
       "description_width": ""
      }
     },
     "ff1d30ab882449bab3ed6a04227dd78f": {
      "model_module": "@jupyter-widgets/controls",
      "model_module_version": "1.5.0",
      "model_name": "HBoxModel",
      "state": {
       "children": [
        "IPY_MODEL_c797cd16836f4c36a9846fe16e7da0df",
        "IPY_MODEL_128bd4ced7544c7c9b594700d024fa4d"
       ],
       "layout": "IPY_MODEL_3f38375cbabe48dbb74e8f79c21b891f"
      }
     },
     "ff49d0bd463042fd85d8b3bc3773d013": {
      "model_module": "@jupyter-widgets/base",
      "model_module_version": "1.2.0",
      "model_name": "LayoutModel",
      "state": {}
     },
     "ff9efe55eff64c3c968457248f72cbbc": {
      "model_module": "@jupyter-widgets/controls",
      "model_module_version": "1.5.0",
      "model_name": "DescriptionStyleModel",
      "state": {
       "description_width": ""
      }
     }
    },
    "version_major": 2,
    "version_minor": 0
   }
  }
 },
 "nbformat": 4,
 "nbformat_minor": 2
}
