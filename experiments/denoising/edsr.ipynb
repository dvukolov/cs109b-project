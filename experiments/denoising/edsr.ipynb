{
 "cells": [
  {
   "cell_type": "code",
   "execution_count": 1,
   "metadata": {},
   "outputs": [],
   "source": [
    "import numpy as np\n",
    "import matplotlib.pyplot as plt\n",
    "\n",
    "import tensorflow as tf\n",
    "from tensorflow.python.keras.layers import Add, Conv2D, Input, Lambda\n",
    "from tensorflow.python.keras.models import Model\n",
    "\n",
    "import tensorflow_addons as tfa"
   ]
  },
  {
   "cell_type": "code",
   "execution_count": 2,
   "metadata": {},
   "outputs": [
    {
     "name": "stdout",
     "output_type": "stream",
     "text": [
      "Available variables: ['img', 'img_nonoise', 'label', 'psf_r', 'snr', 'sigma']\n"
     ]
    }
   ],
   "source": [
    "# A separate dataset for training a denoising network with fixed PSF and fixed noise\n",
    "# Starting random seed for data generation 2314662\n",
    "dataset = \"../../data/data_v1a.npz\"\n",
    "\n",
    "with np.load(dataset) as data:\n",
    "    print(\"Available variables:\", data.files)\n",
    "    noisy = data[\"img\"]\n",
    "    noiseless = data[\"img_nonoise\"]"
   ]
  },
  {
   "cell_type": "code",
   "execution_count": 3,
   "metadata": {},
   "outputs": [],
   "source": [
    "X = noisy[..., np.newaxis]\n",
    "Y = noiseless[..., np.newaxis]\n",
    "\n",
    "input_shape = X.shape[1:]\n",
    "mean, std = X.mean(), X.std()\n",
    "\n",
    "\n",
    "def normalize(x):\n",
    "    return (x - mean) / std\n",
    "\n",
    "\n",
    "def denormalize(x):\n",
    "    return x * std + mean"
   ]
  },
  {
   "cell_type": "code",
   "execution_count": 4,
   "metadata": {},
   "outputs": [],
   "source": [
    "def edsr(input_shape, num_filters=64, num_res_blocks=8, res_block_scaling=None):\n",
    "    x_in = Input(shape=input_shape)\n",
    "    x = Lambda(normalize)(x_in)\n",
    "\n",
    "    x = b = Conv2D(num_filters, 3, padding='same')(x)\n",
    "    for i in range(num_res_blocks):\n",
    "        b = res_block(b, num_filters, res_block_scaling)\n",
    "    b = Conv2D(num_filters, 3, padding='same')(b)\n",
    "    x = Add()([x, b])\n",
    "\n",
    "    x = Conv2D(1, 3, padding='same')(x)\n",
    "\n",
    "    x = Lambda(denormalize)(x)\n",
    "    return Model(x_in, x, name=\"edsr\")\n",
    "\n",
    "\n",
    "def res_block(x_in, filters, scaling):\n",
    "    x = Conv2D(filters, 3, padding='same', activation='relu')(x_in)\n",
    "    x = Conv2D(filters, 3, padding='same')(x)\n",
    "    if scaling:\n",
    "        x = Lambda(lambda t: t * scaling)(x)\n",
    "    x = Add()([x_in, x])\n",
    "    return x"
   ]
  },
  {
   "cell_type": "code",
   "execution_count": 5,
   "metadata": {
    "scrolled": true
   },
   "outputs": [
    {
     "name": "stdout",
     "output_type": "stream",
     "text": [
      "Model: \"edsr\"\n",
      "__________________________________________________________________________________________________\n",
      "Layer (type)                    Output Shape         Param #     Connected to                     \n",
      "==================================================================================================\n",
      "input_1 (InputLayer)            [(None, 64, 64, 1)]  0                                            \n",
      "__________________________________________________________________________________________________\n",
      "lambda (Lambda)                 (None, 64, 64, 1)    0           input_1[0][0]                    \n",
      "__________________________________________________________________________________________________\n",
      "conv2d (Conv2D)                 (None, 64, 64, 64)   640         lambda[0][0]                     \n",
      "__________________________________________________________________________________________________\n",
      "conv2d_1 (Conv2D)               (None, 64, 64, 64)   36928       conv2d[0][0]                     \n",
      "__________________________________________________________________________________________________\n",
      "conv2d_2 (Conv2D)               (None, 64, 64, 64)   36928       conv2d_1[0][0]                   \n",
      "__________________________________________________________________________________________________\n",
      "add (Add)                       (None, 64, 64, 64)   0           conv2d[0][0]                     \n",
      "                                                                 conv2d_2[0][0]                   \n",
      "__________________________________________________________________________________________________\n",
      "conv2d_3 (Conv2D)               (None, 64, 64, 64)   36928       add[0][0]                        \n",
      "__________________________________________________________________________________________________\n",
      "conv2d_4 (Conv2D)               (None, 64, 64, 64)   36928       conv2d_3[0][0]                   \n",
      "__________________________________________________________________________________________________\n",
      "add_1 (Add)                     (None, 64, 64, 64)   0           add[0][0]                        \n",
      "                                                                 conv2d_4[0][0]                   \n",
      "__________________________________________________________________________________________________\n",
      "conv2d_5 (Conv2D)               (None, 64, 64, 64)   36928       add_1[0][0]                      \n",
      "__________________________________________________________________________________________________\n",
      "conv2d_6 (Conv2D)               (None, 64, 64, 64)   36928       conv2d_5[0][0]                   \n",
      "__________________________________________________________________________________________________\n",
      "add_2 (Add)                     (None, 64, 64, 64)   0           add_1[0][0]                      \n",
      "                                                                 conv2d_6[0][0]                   \n",
      "__________________________________________________________________________________________________\n",
      "conv2d_7 (Conv2D)               (None, 64, 64, 64)   36928       add_2[0][0]                      \n",
      "__________________________________________________________________________________________________\n",
      "conv2d_8 (Conv2D)               (None, 64, 64, 64)   36928       conv2d_7[0][0]                   \n",
      "__________________________________________________________________________________________________\n",
      "add_3 (Add)                     (None, 64, 64, 64)   0           add_2[0][0]                      \n",
      "                                                                 conv2d_8[0][0]                   \n",
      "__________________________________________________________________________________________________\n",
      "conv2d_9 (Conv2D)               (None, 64, 64, 64)   36928       add_3[0][0]                      \n",
      "__________________________________________________________________________________________________\n",
      "conv2d_10 (Conv2D)              (None, 64, 64, 64)   36928       conv2d_9[0][0]                   \n",
      "__________________________________________________________________________________________________\n",
      "add_4 (Add)                     (None, 64, 64, 64)   0           add_3[0][0]                      \n",
      "                                                                 conv2d_10[0][0]                  \n",
      "__________________________________________________________________________________________________\n",
      "conv2d_11 (Conv2D)              (None, 64, 64, 64)   36928       add_4[0][0]                      \n",
      "__________________________________________________________________________________________________\n",
      "conv2d_12 (Conv2D)              (None, 64, 64, 64)   36928       conv2d_11[0][0]                  \n",
      "__________________________________________________________________________________________________\n",
      "add_5 (Add)                     (None, 64, 64, 64)   0           add_4[0][0]                      \n",
      "                                                                 conv2d_12[0][0]                  \n",
      "__________________________________________________________________________________________________\n",
      "conv2d_13 (Conv2D)              (None, 64, 64, 64)   36928       add_5[0][0]                      \n",
      "__________________________________________________________________________________________________\n",
      "conv2d_14 (Conv2D)              (None, 64, 64, 64)   36928       conv2d_13[0][0]                  \n",
      "__________________________________________________________________________________________________\n",
      "add_6 (Add)                     (None, 64, 64, 64)   0           add_5[0][0]                      \n",
      "                                                                 conv2d_14[0][0]                  \n",
      "__________________________________________________________________________________________________\n",
      "conv2d_15 (Conv2D)              (None, 64, 64, 64)   36928       add_6[0][0]                      \n",
      "__________________________________________________________________________________________________\n",
      "conv2d_16 (Conv2D)              (None, 64, 64, 64)   36928       conv2d_15[0][0]                  \n",
      "__________________________________________________________________________________________________\n",
      "add_7 (Add)                     (None, 64, 64, 64)   0           add_6[0][0]                      \n",
      "                                                                 conv2d_16[0][0]                  \n",
      "__________________________________________________________________________________________________\n",
      "conv2d_17 (Conv2D)              (None, 64, 64, 64)   36928       add_7[0][0]                      \n",
      "__________________________________________________________________________________________________\n",
      "add_8 (Add)                     (None, 64, 64, 64)   0           conv2d[0][0]                     \n",
      "                                                                 conv2d_17[0][0]                  \n",
      "__________________________________________________________________________________________________\n",
      "conv2d_18 (Conv2D)              (None, 64, 64, 1)    577         add_8[0][0]                      \n",
      "__________________________________________________________________________________________________\n",
      "lambda_1 (Lambda)               (None, 64, 64, 1)    0           conv2d_18[0][0]                  \n",
      "==================================================================================================\n",
      "Total params: 628,993\n",
      "Trainable params: 628,993\n",
      "Non-trainable params: 0\n",
      "__________________________________________________________________________________________________\n"
     ]
    }
   ],
   "source": [
    "model = edsr(input_shape)\n",
    "model.summary()"
   ]
  },
  {
   "cell_type": "code",
   "execution_count": 6,
   "metadata": {},
   "outputs": [],
   "source": [
    "# tf.keras.utils.plot_model(model)"
   ]
  },
  {
   "cell_type": "code",
   "execution_count": 7,
   "metadata": {},
   "outputs": [
    {
     "data": {
      "application/vnd.jupyter.widget-view+json": {
       "model_id": "ff1d30ab882449bab3ed6a04227dd78f",
       "version_major": 2,
       "version_minor": 0
      },
      "text/plain": [
       "HBox(children=(FloatProgress(value=0.0, description='Training', layout=Layout(flex='2'), style=ProgressStyle(d…"
      ]
     },
     "metadata": {},
     "output_type": "display_data"
    },
    {
     "name": "stdout",
     "output_type": "stream",
     "text": [
      "Epoch 1/100\n"
     ]
    },
    {
     "data": {
      "application/vnd.jupyter.widget-view+json": {
       "model_id": "10d3bd66065f4b0d9470bfdb786b94ed",
       "version_major": 2,
       "version_minor": 0
      },
      "text/plain": [
       "HBox(children=(FloatProgress(value=0.0, layout=Layout(flex='2'), max=5625.0), HTML(value='')), layout=Layout(d…"
      ]
     },
     "metadata": {},
     "output_type": "display_data"
    },
    {
     "name": "stdout",
     "output_type": "stream",
     "text": [
      "\n",
      "WARNING:tensorflow:From /usr/share/anaconda3/envs/tf21/lib/python3.7/site-packages/tensorflow_core/python/ops/resource_variable_ops.py:1786: calling BaseResourceVariable.__init__ (from tensorflow.python.ops.resource_variable_ops) with constraint is deprecated and will be removed in a future version.\n",
      "Instructions for updating:\n",
      "If using Keras pass *_constraint arguments to layers.\n",
      "INFO:tensorflow:Assets written to: edsr.tf/assets\n",
      "Epoch 2/100\n"
     ]
    },
    {
     "data": {
      "application/vnd.jupyter.widget-view+json": {
       "model_id": "2521fb358d6e45478cf21cff3fac58c2",
       "version_major": 2,
       "version_minor": 0
      },
      "text/plain": [
       "HBox(children=(FloatProgress(value=0.0, layout=Layout(flex='2'), max=5625.0), HTML(value='')), layout=Layout(d…"
      ]
     },
     "metadata": {},
     "output_type": "display_data"
    },
    {
     "name": "stdout",
     "output_type": "stream",
     "text": [
      "\n",
      "INFO:tensorflow:Assets written to: edsr.tf/assets\n",
      "Epoch 3/100\n"
     ]
    },
    {
     "data": {
      "application/vnd.jupyter.widget-view+json": {
       "model_id": "7cdc182551034244a91604f722f69648",
       "version_major": 2,
       "version_minor": 0
      },
      "text/plain": [
       "HBox(children=(FloatProgress(value=0.0, layout=Layout(flex='2'), max=5625.0), HTML(value='')), layout=Layout(d…"
      ]
     },
     "metadata": {},
     "output_type": "display_data"
    },
    {
     "name": "stdout",
     "output_type": "stream",
     "text": [
      "\n",
      "INFO:tensorflow:Assets written to: edsr.tf/assets\n",
      "Epoch 4/100\n"
     ]
    },
    {
     "data": {
      "application/vnd.jupyter.widget-view+json": {
       "model_id": "0cd8c9053798494fa102f10198a710bb",
       "version_major": 2,
       "version_minor": 0
      },
      "text/plain": [
       "HBox(children=(FloatProgress(value=0.0, layout=Layout(flex='2'), max=5625.0), HTML(value='')), layout=Layout(d…"
      ]
     },
     "metadata": {},
     "output_type": "display_data"
    },
    {
     "name": "stdout",
     "output_type": "stream",
     "text": [
      "\n",
      "INFO:tensorflow:Assets written to: edsr.tf/assets\n",
      "Epoch 5/100\n"
     ]
    },
    {
     "data": {
      "application/vnd.jupyter.widget-view+json": {
       "model_id": "cf02139fe911484b8684018f3f3e1abc",
       "version_major": 2,
       "version_minor": 0
      },
      "text/plain": [
       "HBox(children=(FloatProgress(value=0.0, layout=Layout(flex='2'), max=5625.0), HTML(value='')), layout=Layout(d…"
      ]
     },
     "metadata": {},
     "output_type": "display_data"
    },
    {
     "name": "stdout",
     "output_type": "stream",
     "text": [
      "\n",
      "INFO:tensorflow:Assets written to: edsr.tf/assets\n",
      "Epoch 6/100\n"
     ]
    },
    {
     "data": {
      "application/vnd.jupyter.widget-view+json": {
       "model_id": "80fcd8fe1bec4f24930680b075e65cfd",
       "version_major": 2,
       "version_minor": 0
      },
      "text/plain": [
       "HBox(children=(FloatProgress(value=0.0, layout=Layout(flex='2'), max=5625.0), HTML(value='')), layout=Layout(d…"
      ]
     },
     "metadata": {},
     "output_type": "display_data"
    },
    {
     "name": "stdout",
     "output_type": "stream",
     "text": [
      "\n",
      "INFO:tensorflow:Assets written to: edsr.tf/assets\n",
      "Epoch 7/100\n"
     ]
    },
    {
     "data": {
      "application/vnd.jupyter.widget-view+json": {
       "model_id": "441bc36e389b42a8b87d308cd90f92b1",
       "version_major": 2,
       "version_minor": 0
      },
      "text/plain": [
       "HBox(children=(FloatProgress(value=0.0, layout=Layout(flex='2'), max=5625.0), HTML(value='')), layout=Layout(d…"
      ]
     },
     "metadata": {},
     "output_type": "display_data"
    },
    {
     "name": "stdout",
     "output_type": "stream",
     "text": [
      "\n",
      "Epoch 8/100\n"
     ]
    },
    {
     "data": {
      "application/vnd.jupyter.widget-view+json": {
       "model_id": "3ae95dbb28fa47d289a2670b38dd1e3d",
       "version_major": 2,
       "version_minor": 0
      },
      "text/plain": [
       "HBox(children=(FloatProgress(value=0.0, layout=Layout(flex='2'), max=5625.0), HTML(value='')), layout=Layout(d…"
      ]
     },
     "metadata": {},
     "output_type": "display_data"
    },
    {
     "name": "stdout",
     "output_type": "stream",
     "text": [
      "\n",
      "Epoch 9/100\n"
     ]
    },
    {
     "data": {
      "application/vnd.jupyter.widget-view+json": {
       "model_id": "cbf81ae194a54b16b3293ad54f7e4ad5",
       "version_major": 2,
       "version_minor": 0
      },
      "text/plain": [
       "HBox(children=(FloatProgress(value=0.0, layout=Layout(flex='2'), max=5625.0), HTML(value='')), layout=Layout(d…"
      ]
     },
     "metadata": {},
     "output_type": "display_data"
    },
    {
     "name": "stdout",
     "output_type": "stream",
     "text": [
      "\n",
      "INFO:tensorflow:Assets written to: edsr.tf/assets\n",
      "Epoch 10/100\n"
     ]
    },
    {
     "data": {
      "application/vnd.jupyter.widget-view+json": {
       "model_id": "29c48199971145f69f802e90676bfea2",
       "version_major": 2,
       "version_minor": 0
      },
      "text/plain": [
       "HBox(children=(FloatProgress(value=0.0, layout=Layout(flex='2'), max=5625.0), HTML(value='')), layout=Layout(d…"
      ]
     },
     "metadata": {},
     "output_type": "display_data"
    },
    {
     "name": "stdout",
     "output_type": "stream",
     "text": [
      "\n",
      "Epoch 11/100\n"
     ]
    },
    {
     "data": {
      "application/vnd.jupyter.widget-view+json": {
       "model_id": "9904d842af9f4bbfaa3feae9aa08869b",
       "version_major": 2,
       "version_minor": 0
      },
      "text/plain": [
       "HBox(children=(FloatProgress(value=0.0, layout=Layout(flex='2'), max=5625.0), HTML(value='')), layout=Layout(d…"
      ]
     },
     "metadata": {},
     "output_type": "display_data"
    },
    {
     "name": "stdout",
     "output_type": "stream",
     "text": [
      "\n",
      "Epoch 12/100\n"
     ]
    },
    {
     "data": {
      "application/vnd.jupyter.widget-view+json": {
       "model_id": "52e4ad9e1a564d8ea4119039d50dff1d",
       "version_major": 2,
       "version_minor": 0
      },
      "text/plain": [
       "HBox(children=(FloatProgress(value=0.0, layout=Layout(flex='2'), max=5625.0), HTML(value='')), layout=Layout(d…"
      ]
     },
     "metadata": {},
     "output_type": "display_data"
    },
    {
     "name": "stdout",
     "output_type": "stream",
     "text": [
      "\n",
      "Epoch 13/100\n"
     ]
    },
    {
     "data": {
      "application/vnd.jupyter.widget-view+json": {
       "model_id": "b46cfe7d8c89472dad426a44d670b9c3",
       "version_major": 2,
       "version_minor": 0
      },
      "text/plain": [
       "HBox(children=(FloatProgress(value=0.0, layout=Layout(flex='2'), max=5625.0), HTML(value='')), layout=Layout(d…"
      ]
     },
     "metadata": {},
     "output_type": "display_data"
    },
    {
     "name": "stdout",
     "output_type": "stream",
     "text": [
      "\n",
      "Epoch 14/100\n"
     ]
    },
    {
     "data": {
      "application/vnd.jupyter.widget-view+json": {
       "model_id": "9ae69d1599184782a6dd8e67037fe19d",
       "version_major": 2,
       "version_minor": 0
      },
      "text/plain": [
       "HBox(children=(FloatProgress(value=0.0, layout=Layout(flex='2'), max=5625.0), HTML(value='')), layout=Layout(d…"
      ]
     },
     "metadata": {},
     "output_type": "display_data"
    },
    {
     "name": "stdout",
     "output_type": "stream",
     "text": [
      "\n",
      "Epoch 15/100\n"
     ]
    },
    {
     "data": {
      "application/vnd.jupyter.widget-view+json": {
       "model_id": "4266b1a375234f03929fce132cb67742",
       "version_major": 2,
       "version_minor": 0
      },
      "text/plain": [
       "HBox(children=(FloatProgress(value=0.0, layout=Layout(flex='2'), max=5625.0), HTML(value='')), layout=Layout(d…"
      ]
     },
     "metadata": {},
     "output_type": "display_data"
    },
    {
     "name": "stdout",
     "output_type": "stream",
     "text": [
      "\n",
      "Epoch 16/100\n"
     ]
    },
    {
     "data": {
      "application/vnd.jupyter.widget-view+json": {
       "model_id": "63b3af4001dd4949860075501559e0b9",
       "version_major": 2,
       "version_minor": 0
      },
      "text/plain": [
       "HBox(children=(FloatProgress(value=0.0, layout=Layout(flex='2'), max=5625.0), HTML(value='')), layout=Layout(d…"
      ]
     },
     "metadata": {},
     "output_type": "display_data"
    },
    {
     "name": "stdout",
     "output_type": "stream",
     "text": [
      "\n",
      "Epoch 17/100\n"
     ]
    },
    {
     "data": {
      "application/vnd.jupyter.widget-view+json": {
       "model_id": "b389a437ea764037b29d6eb7380435f5",
       "version_major": 2,
       "version_minor": 0
      },
      "text/plain": [
       "HBox(children=(FloatProgress(value=0.0, layout=Layout(flex='2'), max=5625.0), HTML(value='')), layout=Layout(d…"
      ]
     },
     "metadata": {},
     "output_type": "display_data"
    },
    {
     "name": "stdout",
     "output_type": "stream",
     "text": [
      "\n",
      "Epoch 18/100\n"
     ]
    },
    {
     "data": {
      "application/vnd.jupyter.widget-view+json": {
       "model_id": "393a1b98b7b7497fb854b25edf86f2c3",
       "version_major": 2,
       "version_minor": 0
      },
      "text/plain": [
       "HBox(children=(FloatProgress(value=0.0, layout=Layout(flex='2'), max=5625.0), HTML(value='')), layout=Layout(d…"
      ]
     },
     "metadata": {},
     "output_type": "display_data"
    },
    {
     "name": "stdout",
     "output_type": "stream",
     "text": [
      "\n",
      "Epoch 19/100\n"
     ]
    },
    {
     "data": {
      "application/vnd.jupyter.widget-view+json": {
       "model_id": "16294bc36baf4796a70ca3e9e6ead532",
       "version_major": 2,
       "version_minor": 0
      },
      "text/plain": [
       "HBox(children=(FloatProgress(value=0.0, layout=Layout(flex='2'), max=5625.0), HTML(value='')), layout=Layout(d…"
      ]
     },
     "metadata": {},
     "output_type": "display_data"
    },
    {
     "name": "stdout",
     "output_type": "stream",
     "text": [
      "\n",
      "\n"
     ]
    }
   ],
   "source": [
    "# Setup callbacks. TQDM is used due to issues with the default progress bar on my TF2.1 installation.\n",
    "early_stopping = tf.keras.callbacks.EarlyStopping(patience=10, restore_best_weights=True)\n",
    "tqdm_callback = tfa.callbacks.TQDMProgressBar()\n",
    "checkpoint = tf.keras.callbacks.ModelCheckpoint(\"edsr.tf\", save_best_only=True)\n",
    "\n",
    "model.compile(optimizer=\"adam\", loss=\"mae\")\n",
    "history = model.fit(\n",
    "    X,\n",
    "    Y,\n",
    "    batch_size=32,\n",
    "    epochs=100,\n",
    "    validation_split=0.1,\n",
    "    verbose=0,\n",
    "    callbacks=[early_stopping, tqdm_callback, checkpoint],\n",
    ")"
   ]
  },
  {
   "cell_type": "code",
   "execution_count": 13,
   "metadata": {},
   "outputs": [
    {
     "data": {
      "image/png": "[encoded data removed]",
      "text/plain": [
       "<Figure size 864x288 with 3 Axes>"
      ]
     },
     "metadata": {
      "needs_background": "light"
     },
     "output_type": "display_data"
    }
   ],
   "source": [
    "# Plot the results\n",
    "pred = model.predict(X[np.newaxis, 0])[0]\n",
    "\n",
    "fig, ax = plt.subplots(1, 3, figsize=(12, 4), tight_layout=True)\n",
    "ax[0].imshow(X[0].reshape(64, 64))\n",
    "ax[0].set_title(\"Original Noisy Image\")\n",
    "ax[1].imshow(pred.reshape(64, 64))\n",
    "ax[1].set_title(\"Denoised Image\")\n",
    "ax[2].imshow(Y[0].reshape(64, 64))\n",
    "ax[2].set_title(\"Original Noiseless Image\");"
   ]
  },
  {
   "cell_type": "code",
   "execution_count": 14,
   "metadata": {},
   "outputs": [
    {
     "data": {
      "image/png": "[encoded data removed]",
      "text/plain": [
       "<Figure size 576x288 with 2 Axes>"
      ]
     },
     "metadata": {
      "needs_background": "light"
     },
     "output_type": "display_data"
    }
   ],
   "source": [
    "fig, ax = plt.subplots(1, 2, figsize=(8, 4), tight_layout=True)\n",
    "ax[0].imshow(np.log(pred).reshape(64, 64))\n",
    "ax[0].set_title(\"Denoised Image (Log-Scale)\")\n",
    "ax[1].imshow(np.log(Y[0]).reshape(64, 64))\n",
    "ax[1].set_title(\"Original Noiseless Image (Log-Scale)\");"
   ]
  },
  {
   "cell_type": "code",
   "execution_count": 7,
   "metadata": {},
   "outputs": [
    {
     "name": "stdout",
     "output_type": "stream",
     "text": [
      "Available variables: ['img', 'img_nonoise', 'label', 'psf_r', 'snr', 'sigma']\n"
     ]
    }
   ],
   "source": [
    "# Load the v1 dataset\n",
    "dataset = \"../../data/data_v1.npz\"\n",
    "\n",
    "with np.load(dataset) as data:\n",
    "    print(\"Available variables:\", data.files)\n",
    "    noisy = data[\"img\"]\n",
    "    label = data[\"label\"]\n",
    "    psf_r = data[\"psf_r\"]\n",
    "\n",
    "X = noisy[..., np.newaxis]"
   ]
  },
  {
   "cell_type": "code",
   "execution_count": 4,
   "metadata": {},
   "outputs": [
    {
     "name": "stdout",
     "output_type": "stream",
     "text": [
      "200000/200000 [==============================] - 545s 3ms/sample\n"
     ]
    }
   ],
   "source": [
    "# Denoise the v1 dataset\n",
    "model = tf.keras.models.load_model(\"edsr.tf\")\n",
    "pred = model.predict(X, batch_size=32, verbose=1)"
   ]
  },
  {
   "cell_type": "code",
   "execution_count": 8,
   "metadata": {},
   "outputs": [],
   "source": [
    "# Save the results\n",
    "filename = \"../../data/data_v1d.npz\"\n",
    "np.savez(\n",
    "    filename, img_denoised=pred.reshape(-1, 64, 64), label=label, psf_r=psf_r,\n",
    ")"
   ]
  }
 ],
 "metadata": {
  "kernelspec": {
   "display_name": "Python (TF2.1)",
   "language": "python",
   "name": "tf21"
  },
  "language_info": {
   "codemirror_mode": {
    "name": "ipython",
    "version": 3
   },
   "file_extension": ".py",
   "mimetype": "text/x-python",
   "name": "python",
   "nbconvert_exporter": "python",
   "pygments_lexer": "ipython3",
   "version": "3.7.6"
  },
  "widgets": {
   "application/vnd.jupyter.widget-state+json": {
    "state": {
     "0433b0ea8d7f449aaf97855abada835e": {
      "model_module": "@jupyter-widgets/controls",
      "model_module_version": "1.5.0",
      "model_name": "DescriptionStyleModel",
      "state": {
       "_model_module_version": "1.5.0",
       "_view_module_version": "1.2.0",
       "description_width": ""
      }
     },
     "043dbeaa14584679acc20b2ed7eb19cf": {
      "model_module": "@jupyter-widgets/controls",
      "model_module_version": "1.5.0",
      "model_name": "FloatProgressModel",
      "state": {
       "_model_module_version": "1.5.0",
       "_view_module_version": "1.5.0",
       "bar_style": "success",
       "description": "5625/5625",
       "layout": "IPY_MODEL_256aadc02c5343129a1d9e9e2f2c14c6",
       "max": 5625,
       "style": "IPY_MODEL_896eef4737ce42359f549c43347b83f4",
       "value": 5625
      }
     },
     "04bd77c18b184d10aeb09e9278573673": {
      "model_module": "@jupyter-widgets/controls",
      "model_module_version": "1.5.0",
      "model_name": "FloatProgressModel",
      "state": {
       "_model_module_version": "1.5.0",
       "_view_module_version": "1.5.0",
       "bar_style": "success",
       "description": "5625/5625",
       "layout": "IPY_MODEL_d021b75e2d08439aa4ebfe16ea6bf3f2",
       "max": 5625,
       "style": "IPY_MODEL_142f9d5cb2e144539e2c2a296c3fa9bd",
       "value": 5625
      }
     },
     "06349ababd3d498a9ce46ba74cd4d369": {
      "model_module": "@jupyter-widgets/base",
      "model_module_version": "1.2.0",
      "model_name": "LayoutModel",
      "state": {
       "_model_module_version": "1.2.0",
       "_view_module_version": "1.2.0",
       "display": "inline-flex",
       "flex_flow": "row wrap",
       "justify_items": null,
       "object_fit": null,
       "object_position": null,
       "width": "100%"
      }
     },
     "07eefd351f8b478b954de7dde04e4c13": {
      "model_module": "@jupyter-widgets/base",
      "model_module_version": "1.2.0",
      "model_name": "LayoutModel",
      "state": {
       "_model_module_version": "1.2.0",
       "_view_module_version": "1.2.0",
       "flex": "2",
       "justify_items": null,
       "object_fit": null,
       "object_position": null
      }
     },
     "0864d8803864470198bd08f9943cfb00": {
      "model_module": "@jupyter-widgets/controls",
      "model_module_version": "1.5.0",
      "model_name": "FloatProgressModel",
      "state": {
       "_model_module_version": "1.5.0",
       "_view_module_version": "1.5.0",
       "bar_style": "success",
       "description": "5625/5625",
       "layout": "IPY_MODEL_0bfa29ec82c143c58e4b7cc7aaa30bce",
       "max": 5625,
       "style": "IPY_MODEL_1b58f0b91f89429cb0e2ef64a1b993b4",
       "value": 5625
      }
     },
     "0ae7e192bd12487091dc35203db957a9": {
      "model_module": "@jupyter-widgets/base",
      "model_module_version": "1.2.0",
      "model_name": "LayoutModel",
      "state": {
       "_model_module_version": "1.2.0",
       "_view_module_version": "1.2.0",
       "justify_items": null,
       "object_fit": null,
       "object_position": null
      }
     },
     "0bfa29ec82c143c58e4b7cc7aaa30bce": {
      "model_module": "@jupyter-widgets/base",
      "model_module_version": "1.2.0",
      "model_name": "LayoutModel",
      "state": {
       "_model_module_version": "1.2.0",
       "_view_module_version": "1.2.0",
       "flex": "2",
       "justify_items": null,
       "object_fit": null,
       "object_position": null
      }
     },
     "0c4a7c68b057476788e610cb17eab516": {
      "model_module": "@jupyter-widgets/controls",
      "model_module_version": "1.5.0",
      "model_name": "ProgressStyleModel",
      "state": {
       "_model_module_version": "1.5.0",
       "_view_module_version": "1.2.0",
       "description_width": "initial"
      }
     },
     "0cd8c9053798494fa102f10198a710bb": {
      "model_module": "@jupyter-widgets/controls",
      "model_module_version": "1.5.0",
      "model_name": "HBoxModel",
      "state": {
       "_model_module_version": "1.5.0",
       "_view_module_version": "1.5.0",
       "children": [
        "IPY_MODEL_d6c84e5f01d949b1a59b4148fdbed2b1",
        "IPY_MODEL_0ec48c3a419c4a36a973e78985a5498f"
       ],
       "layout": "IPY_MODEL_3d4b1c0a91e44a4c8a310f47a76291d8"
      }
     },
     "0d03def5a20c4d8a8e9df77d9e6b2845": {
      "model_module": "@jupyter-widgets/base",
      "model_module_version": "1.2.0",
      "model_name": "LayoutModel",
      "state": {
       "_model_module_version": "1.2.0",
       "_view_module_version": "1.2.0",
       "justify_items": null,
       "object_fit": null,
       "object_position": null
      }
     },
     "0ec48c3a419c4a36a973e78985a5498f": {
      "model_module": "@jupyter-widgets/controls",
      "model_module_version": "1.5.0",
      "model_name": "HTMLModel",
      "state": {
       "_model_module_version": "1.5.0",
       "_view_module_version": "1.5.0",
       "layout": "IPY_MODEL_35f1e2de7934491ab85357164fb5b839",
       "style": "IPY_MODEL_5db68815bee04b078918feca7bf41c56",
       "value": " ETA: 00:00s - loss: 2.4348 - val_loss: 2.3249"
      }
     },
     "0f1472fe85ef444085effcb82043cb24": {
      "model_module": "@jupyter-widgets/controls",
      "model_module_version": "1.5.0",
      "model_name": "FloatProgressModel",
      "state": {
       "_model_module_version": "1.5.0",
       "_view_module_version": "1.5.0",
       "bar_style": "success",
       "description": "5625/5625",
       "layout": "IPY_MODEL_7062e8ac29fa4ede836bc5a6ff140278",
       "max": 5625,
       "style": "IPY_MODEL_ee4b8c093f5d4c239df328268b2ed6fa",
       "value": 5625
      }
     },
     "10d3bd66065f4b0d9470bfdb786b94ed": {
      "model_module": "@jupyter-widgets/controls",
      "model_module_version": "1.5.0",
      "model_name": "HBoxModel",
      "state": {
       "_model_module_version": "1.5.0",
       "_view_module_version": "1.5.0",
       "children": [
        "IPY_MODEL_0f1472fe85ef444085effcb82043cb24",
        "IPY_MODEL_b8422af5e02b4d848b4e042be5c6fc85"
       ],
       "layout": "IPY_MODEL_9e8a564d78e243f795c7b9405f40e0e0"
      }
     },
     "127044d0bfb34fe59590aa5921262729": {
      "model_module": "@jupyter-widgets/controls",
      "model_module_version": "1.5.0",
      "model_name": "ProgressStyleModel",
      "state": {
       "_model_module_version": "1.5.0",
       "_view_module_version": "1.2.0",
       "description_width": "initial"
      }
     },
     "128bd4ced7544c7c9b594700d024fa4d": {
      "model_module": "@jupyter-widgets/controls",
      "model_module_version": "1.5.0",
      "model_name": "HTMLModel",
      "state": {
       "_model_module_version": "1.5.0",
       "_view_module_version": "1.5.0",
       "layout": "IPY_MODEL_817d4ab8ad934760995039628f8997c3",
       "style": "IPY_MODEL_ff9efe55eff64c3c968457248f72cbbc",
       "value": " 19/100 ETA: 34:06:29s,  1515.92s/epochs"
      }
     },
     "142f9d5cb2e144539e2c2a296c3fa9bd": {
      "model_module": "@jupyter-widgets/controls",
      "model_module_version": "1.5.0",
      "model_name": "ProgressStyleModel",
      "state": {
       "_model_module_version": "1.5.0",
       "_view_module_version": "1.2.0",
       "description_width": "initial"
      }
     },
     "16294bc36baf4796a70ca3e9e6ead532": {
      "model_module": "@jupyter-widgets/controls",
      "model_module_version": "1.5.0",
      "model_name": "HBoxModel",
      "state": {
       "_model_module_version": "1.5.0",
       "_view_module_version": "1.5.0",
       "children": [
        "IPY_MODEL_04bd77c18b184d10aeb09e9278573673",
        "IPY_MODEL_f350f7ad3c9c48918b7cb781304f742a"
       ],
       "layout": "IPY_MODEL_c3efef1d53bf423ba1bb209048261cff"
      }
     },
     "1681dc6080c546f5aa44aec18e6bf283": {
      "model_module": "@jupyter-widgets/base",
      "model_module_version": "1.2.0",
      "model_name": "LayoutModel",
      "state": {
       "_model_module_version": "1.2.0",
       "_view_module_version": "1.2.0",
       "flex": "2",
       "justify_items": null,
       "object_fit": null,
       "object_position": null
      }
     },
     "182e3058107e4c0db2521491a353633d": {
      "model_module": "@jupyter-widgets/controls",
      "model_module_version": "1.5.0",
      "model_name": "DescriptionStyleModel",
      "state": {
       "_model_module_version": "1.5.0",
       "_view_module_version": "1.2.0",
       "description_width": ""
      }
     },
     "185cf1ab64f14361a3072b1851e867b3": {
      "model_module": "@jupyter-widgets/controls",
      "model_module_version": "1.5.0",
      "model_name": "DescriptionStyleModel",
      "state": {
       "_model_module_version": "1.5.0",
       "_view_module_version": "1.2.0",
       "description_width": ""
      }
     },
     "1969f456c05f4fe98fca242b2b818628": {
      "model_module": "@jupyter-widgets/controls",
      "model_module_version": "1.5.0",
      "model_name": "HTMLModel",
      "state": {
       "_model_module_version": "1.5.0",
       "_view_module_version": "1.5.0",
       "layout": "IPY_MODEL_b3e978a81d654753b9819dee250bf69d",
       "style": "IPY_MODEL_c479aec1b8af47129e05eec1f289cda0",
       "value": " ETA: 00:00s - loss: 2.3755 - val_loss: 2.2185"
      }
     },
     "1b58f0b91f89429cb0e2ef64a1b993b4": {
      "model_module": "@jupyter-widgets/controls",
      "model_module_version": "1.5.0",
      "model_name": "ProgressStyleModel",
      "state": {
       "_model_module_version": "1.5.0",
       "_view_module_version": "1.2.0",
       "description_width": "initial"
      }
     },
     "1c0f235d7f9c460bbddd75f42aa642b3": {
      "model_module": "@jupyter-widgets/base",
      "model_module_version": "1.2.0",
      "model_name": "LayoutModel",
      "state": {
       "_model_module_version": "1.2.0",
       "_view_module_version": "1.2.0",
       "justify_items": null,
       "object_fit": null,
       "object_position": null
      }
     },
     "1c5917156d7c478ab0ac920abb2897e9": {
      "model_module": "@jupyter-widgets/controls",
      "model_module_version": "1.5.0",
      "model_name": "ProgressStyleModel",
      "state": {
       "_model_module_version": "1.5.0",
       "_view_module_version": "1.2.0",
       "description_width": "initial"
      }
     },
     "1c695d7877fb4315ba847fdc7e663bef": {
      "model_module": "@jupyter-widgets/controls",
      "model_module_version": "1.5.0",
      "model_name": "FloatProgressModel",
      "state": {
       "_model_module_version": "1.5.0",
       "_view_module_version": "1.5.0",
       "bar_style": "success",
       "description": "5625/5625",
       "layout": "IPY_MODEL_1681dc6080c546f5aa44aec18e6bf283",
       "max": 5625,
       "style": "IPY_MODEL_127044d0bfb34fe59590aa5921262729",
       "value": 5625
      }
     },
     "1db8353b55fe40738e53c58dd5b334b7": {
      "model_module": "@jupyter-widgets/controls",
      "model_module_version": "1.5.0",
      "model_name": "DescriptionStyleModel",
      "state": {
       "_model_module_version": "1.5.0",
       "_view_module_version": "1.2.0",
       "description_width": ""
      }
     },
     "21136710be0047aa860ed4ce59abb1be": {
      "model_module": "@jupyter-widgets/controls",
      "model_module_version": "1.5.0",
      "model_name": "DescriptionStyleModel",
      "state": {
       "_model_module_version": "1.5.0",
       "_view_module_version": "1.2.0",
       "description_width": ""
      }
     },
     "216b7aa91cd54ea1a943908a22d9443d": {
      "model_module": "@jupyter-widgets/base",
      "model_module_version": "1.2.0",
      "model_name": "LayoutModel",
      "state": {
       "_model_module_version": "1.2.0",
       "_view_module_version": "1.2.0",
       "display": "inline-flex",
       "flex_flow": "row wrap",
       "justify_items": null,
       "object_fit": null,
       "object_position": null,
       "width": "100%"
      }
     },
     "23d0325c75ac4ff99edc5db4bff17bc7": {
      "model_module": "@jupyter-widgets/controls",
      "model_module_version": "1.5.0",
      "model_name": "ProgressStyleModel",
      "state": {
       "_model_module_version": "1.5.0",
       "_view_module_version": "1.2.0",
       "description_width": "initial"
      }
     },
     "249f8589233d428a9df8b89b11689937": {
      "model_module": "@jupyter-widgets/base",
      "model_module_version": "1.2.0",
      "model_name": "LayoutModel",
      "state": {
       "_model_module_version": "1.2.0",
       "_view_module_version": "1.2.0",
       "justify_items": null,
       "object_fit": null,
       "object_position": null
      }
     },
     "2521fb358d6e45478cf21cff3fac58c2": {
      "model_module": "@jupyter-widgets/controls",
      "model_module_version": "1.5.0",
      "model_name": "HBoxModel",
      "state": {
       "_model_module_version": "1.5.0",
       "_view_module_version": "1.5.0",
       "children": [
        "IPY_MODEL_e703b35ed2fc4665ade3c00dea5c3e15",
        "IPY_MODEL_54b096cf182a4a03be2264f392c40d60"
       ],
       "layout": "IPY_MODEL_253c15c9eff24f8db03b30c357885d39"
      }
     },
     "253c15c9eff24f8db03b30c357885d39": {
      "model_module": "@jupyter-widgets/base",
      "model_module_version": "1.2.0",
      "model_name": "LayoutModel",
      "state": {
       "_model_module_version": "1.2.0",
       "_view_module_version": "1.2.0",
       "display": "inline-flex",
       "flex_flow": "row wrap",
       "justify_items": null,
       "object_fit": null,
       "object_position": null,
       "width": "100%"
      }
     },
     "256aadc02c5343129a1d9e9e2f2c14c6": {
      "model_module": "@jupyter-widgets/base",
      "model_module_version": "1.2.0",
      "model_name": "LayoutModel",
      "state": {
       "_model_module_version": "1.2.0",
       "_view_module_version": "1.2.0",
       "flex": "2",
       "justify_items": null,
       "object_fit": null,
       "object_position": null
      }
     },
     "29c48199971145f69f802e90676bfea2": {
      "model_module": "@jupyter-widgets/controls",
      "model_module_version": "1.5.0",
      "model_name": "HBoxModel",
      "state": {
       "_model_module_version": "1.5.0",
       "_view_module_version": "1.5.0",
       "children": [
        "IPY_MODEL_f1923eb588ef428da5cc7aaeabca1da4",
        "IPY_MODEL_f16b5803d36a40f69f31d97554fc5a03"
       ],
       "layout": "IPY_MODEL_c84249d7f95f43f3b9eceeaf37c393d7"
      }
     },
     "2bcf02b53afe46feae7a31969732ccb3": {
      "model_module": "@jupyter-widgets/base",
      "model_module_version": "1.2.0",
      "model_name": "LayoutModel",
      "state": {
       "_model_module_version": "1.2.0",
       "_view_module_version": "1.2.0",
       "flex": "2",
       "justify_items": null,
       "object_fit": null,
       "object_position": null
      }
     },
     "2e42cef850ca49fa84e2c65cd142df90": {
      "model_module": "@jupyter-widgets/base",
      "model_module_version": "1.2.0",
      "model_name": "LayoutModel",
      "state": {
       "_model_module_version": "1.2.0",
       "_view_module_version": "1.2.0",
       "justify_items": null,
       "object_fit": null,
       "object_position": null
      }
     },
     "2f99032d96a54b9fbf7910af070c65da": {
      "model_module": "@jupyter-widgets/base",
      "model_module_version": "1.2.0",
      "model_name": "LayoutModel",
      "state": {
       "_model_module_version": "1.2.0",
       "_view_module_version": "1.2.0",
       "flex": "2",
       "justify_items": null,
       "object_fit": null,
       "object_position": null
      }
     },
     "3110d08469e54cadb7def7d42344186e": {
      "model_module": "@jupyter-widgets/controls",
      "model_module_version": "1.5.0",
      "model_name": "HTMLModel",
      "state": {
       "_model_module_version": "1.5.0",
       "_view_module_version": "1.5.0",
       "layout": "IPY_MODEL_2e42cef850ca49fa84e2c65cd142df90",
       "style": "IPY_MODEL_df2abb91e0bf4336b032fea133b8b3ea",
       "value": " ETA: 00:00s - loss: 2.2399 - val_loss: 2.2444"
      }
     },
     "33d9f6358a134eb9bee2092b9a5b53ad": {
      "model_module": "@jupyter-widgets/controls",
      "model_module_version": "1.5.0",
      "model_name": "FloatProgressModel",
      "state": {
       "_model_module_version": "1.5.0",
       "_view_module_version": "1.5.0",
       "bar_style": "success",
       "description": "5625/5625",
       "layout": "IPY_MODEL_36aed8af2c514d22b3d77eb5bd46184d",
       "max": 5625,
       "style": "IPY_MODEL_74b8cb1914b7403c85f17d89f3765f23",
       "value": 5625
      }
     },
     "35f1e2de7934491ab85357164fb5b839": {
      "model_module": "@jupyter-widgets/base",
      "model_module_version": "1.2.0",
      "model_name": "LayoutModel",
      "state": {
       "_model_module_version": "1.2.0",
       "_view_module_version": "1.2.0",
       "justify_items": null,
       "object_fit": null,
       "object_position": null
      }
     },
     "36aed8af2c514d22b3d77eb5bd46184d": {
      "model_module": "@jupyter-widgets/base",
      "model_module_version": "1.2.0",
      "model_name": "LayoutModel",
      "state": {
       "_model_module_version": "1.2.0",
       "_view_module_version": "1.2.0",
       "flex": "2",
       "justify_items": null,
       "object_fit": null,
       "object_position": null
      }
     },
     "3919971f4dc54cb4b869e42bdbe3f838": {
      "model_module": "@jupyter-widgets/controls",
      "model_module_version": "1.5.0",
      "model_name": "DescriptionStyleModel",
      "state": {
       "_model_module_version": "1.5.0",
       "_view_module_version": "1.2.0",
       "description_width": ""
      }
     },
     "393a1b98b7b7497fb854b25edf86f2c3": {
      "model_module": "@jupyter-widgets/controls",
      "model_module_version": "1.5.0",
      "model_name": "HBoxModel",
      "state": {
       "_model_module_version": "1.5.0",
       "_view_module_version": "1.5.0",
       "children": [
        "IPY_MODEL_043dbeaa14584679acc20b2ed7eb19cf",
        "IPY_MODEL_d3de55840b5b46e69274d32203173869"
       ],
       "layout": "IPY_MODEL_b970b8813662404b9cc511d3a2d9827b"
      }
     },
     "3ae95dbb28fa47d289a2670b38dd1e3d": {
      "model_module": "@jupyter-widgets/controls",
      "model_module_version": "1.5.0",
      "model_name": "HBoxModel",
      "state": {
       "_model_module_version": "1.5.0",
       "_view_module_version": "1.5.0",
       "children": [
        "IPY_MODEL_d00bbf78eedd43eb8840f5226da82cb2",
        "IPY_MODEL_60882b4aa8d94e17ac6aee1b0ba15782"
       ],
       "layout": "IPY_MODEL_06349ababd3d498a9ce46ba74cd4d369"
      }
     },
     "3d4b1c0a91e44a4c8a310f47a76291d8": {
      "model_module": "@jupyter-widgets/base",
      "model_module_version": "1.2.0",
      "model_name": "LayoutModel",
      "state": {
       "_model_module_version": "1.2.0",
       "_view_module_version": "1.2.0",
       "display": "inline-flex",
       "flex_flow": "row wrap",
       "justify_items": null,
       "object_fit": null,
       "object_position": null,
       "width": "100%"
      }
     },
     "3f38375cbabe48dbb74e8f79c21b891f": {
      "model_module": "@jupyter-widgets/base",
      "model_module_version": "1.2.0",
      "model_name": "LayoutModel",
      "state": {
       "_model_module_version": "1.2.0",
       "_view_module_version": "1.2.0",
       "display": "inline-flex",
       "flex_flow": "row wrap",
       "justify_items": null,
       "object_fit": null,
       "object_position": null,
       "width": "100%"
      }
     },
     "4266b1a375234f03929fce132cb67742": {
      "model_module": "@jupyter-widgets/controls",
      "model_module_version": "1.5.0",
      "model_name": "HBoxModel",
      "state": {
       "_model_module_version": "1.5.0",
       "_view_module_version": "1.5.0",
       "children": [
        "IPY_MODEL_b1199744a2084fd7a559eab368adff2f",
        "IPY_MODEL_6398cf4fff4045daaaf7457b83623c94"
       ],
       "layout": "IPY_MODEL_5be202ad46404288897f70c659da560e"
      }
     },
     "441bc36e389b42a8b87d308cd90f92b1": {
      "model_module": "@jupyter-widgets/controls",
      "model_module_version": "1.5.0",
      "model_name": "HBoxModel",
      "state": {
       "_model_module_version": "1.5.0",
       "_view_module_version": "1.5.0",
       "children": [
        "IPY_MODEL_91e28613ace94b07aba93dbce114fcc6",
        "IPY_MODEL_541e599bfd154e3885264e9941f11b81"
       ],
       "layout": "IPY_MODEL_4bbaf00c4ec84e22bed95fcbd366ba20"
      }
     },
     "46009ba45adf4bcfaa5dd2368a34f70c": {
      "model_module": "@jupyter-widgets/controls",
      "model_module_version": "1.5.0",
      "model_name": "HTMLModel",
      "state": {
       "_model_module_version": "1.5.0",
       "_view_module_version": "1.5.0",
       "layout": "IPY_MODEL_4a67e3c4d98c4ecda84c319989fb2a98",
       "style": "IPY_MODEL_5986a04840694e6fa8797adf65a44bde",
       "value": " ETA: 00:00s - loss: 2.1828 - val_loss: 2.1343"
      }
     },
     "4688bdca321047e18d2d737e1e79df18": {
      "model_module": "@jupyter-widgets/controls",
      "model_module_version": "1.5.0",
      "model_name": "HTMLModel",
      "state": {
       "_model_module_version": "1.5.0",
       "_view_module_version": "1.5.0",
       "layout": "IPY_MODEL_0ae7e192bd12487091dc35203db957a9",
       "style": "IPY_MODEL_1db8353b55fe40738e53c58dd5b334b7",
       "value": " ETA: 00:00s - loss: 2.1922 - val_loss: 2.1527"
      }
     },
     "475efbbe59af46dbb12116156a36c885": {
      "model_module": "@jupyter-widgets/base",
      "model_module_version": "1.2.0",
      "model_name": "LayoutModel",
      "state": {
       "_model_module_version": "1.2.0",
       "_view_module_version": "1.2.0",
       "justify_items": null,
       "object_fit": null,
       "object_position": null
      }
     },
     "4a67e3c4d98c4ecda84c319989fb2a98": {
      "model_module": "@jupyter-widgets/base",
      "model_module_version": "1.2.0",
      "model_name": "LayoutModel",
      "state": {
       "_model_module_version": "1.2.0",
       "_view_module_version": "1.2.0",
       "justify_items": null,
       "object_fit": null,
       "object_position": null
      }
     },
     "4bbaf00c4ec84e22bed95fcbd366ba20": {
      "model_module": "@jupyter-widgets/base",
      "model_module_version": "1.2.0",
      "model_name": "LayoutModel",
      "state": {
       "_model_module_version": "1.2.0",
       "_view_module_version": "1.2.0",
       "display": "inline-flex",
       "flex_flow": "row wrap",
       "justify_items": null,
       "object_fit": null,
       "object_position": null,
       "width": "100%"
      }
     },
     "4c05441f06574de18be249c08caa0c2e": {
      "model_module": "@jupyter-widgets/base",
      "model_module_version": "1.2.0",
      "model_name": "LayoutModel",
      "state": {
       "_model_module_version": "1.2.0",
       "_view_module_version": "1.2.0",
       "flex": "2",
       "justify_items": null,
       "object_fit": null,
       "object_position": null
      }
     },
     "51ccf73aba91447ab1739613d2da4956": {
      "model_module": "@jupyter-widgets/base",
      "model_module_version": "1.2.0",
      "model_name": "LayoutModel",
      "state": {
       "_model_module_version": "1.2.0",
       "_view_module_version": "1.2.0",
       "flex": "2",
       "justify_items": null,
       "object_fit": null,
       "object_position": null
      }
     },
     "52e4ad9e1a564d8ea4119039d50dff1d": {
      "model_module": "@jupyter-widgets/controls",
      "model_module_version": "1.5.0",
      "model_name": "HBoxModel",
      "state": {
       "_model_module_version": "1.5.0",
       "_view_module_version": "1.5.0",
       "children": [
        "IPY_MODEL_1c695d7877fb4315ba847fdc7e663bef",
        "IPY_MODEL_4688bdca321047e18d2d737e1e79df18"
       ],
       "layout": "IPY_MODEL_91439b79831447e3816fac25fa894090"
      }
     },
     "541e599bfd154e3885264e9941f11b81": {
      "model_module": "@jupyter-widgets/controls",
      "model_module_version": "1.5.0",
      "model_name": "HTMLModel",
      "state": {
       "_model_module_version": "1.5.0",
       "_view_module_version": "1.5.0",
       "layout": "IPY_MODEL_249f8589233d428a9df8b89b11689937",
       "style": "IPY_MODEL_0433b0ea8d7f449aaf97855abada835e",
       "value": " ETA: 00:00s - loss: 2.2450 - val_loss: 2.2883"
      }
     },
     "54715092b28a4332b8b07691248ff873": {
      "model_module": "@jupyter-widgets/base",
      "model_module_version": "1.2.0",
      "model_name": "LayoutModel",
      "state": {
       "_model_module_version": "1.2.0",
       "_view_module_version": "1.2.0",
       "display": "inline-flex",
       "flex_flow": "row wrap",
       "justify_items": null,
       "object_fit": null,
       "object_position": null,
       "width": "100%"
      }
     },
     "54b096cf182a4a03be2264f392c40d60": {
      "model_module": "@jupyter-widgets/controls",
      "model_module_version": "1.5.0",
      "model_name": "HTMLModel",
      "state": {
       "_model_module_version": "1.5.0",
       "_view_module_version": "1.5.0",
       "layout": "IPY_MODEL_475efbbe59af46dbb12116156a36c885",
       "style": "IPY_MODEL_182e3058107e4c0db2521491a353633d",
       "value": " ETA: 00:00s - loss: 3.1826 - val_loss: 2.7618"
      }
     },
     "58b74cd29d6a4dce9a2b6e3974ab9170": {
      "model_module": "@jupyter-widgets/controls",
      "model_module_version": "1.5.0",
      "model_name": "ProgressStyleModel",
      "state": {
       "_model_module_version": "1.5.0",
       "_view_module_version": "1.2.0",
       "description_width": "initial"
      }
     },
     "5986a04840694e6fa8797adf65a44bde": {
      "model_module": "@jupyter-widgets/controls",
      "model_module_version": "1.5.0",
      "model_name": "DescriptionStyleModel",
      "state": {
       "_model_module_version": "1.5.0",
       "_view_module_version": "1.2.0",
       "description_width": ""
      }
     },
     "5b8e5e5318a14d3b8e736e376bba7c82": {
      "model_module": "@jupyter-widgets/base",
      "model_module_version": "1.2.0",
      "model_name": "LayoutModel",
      "state": {
       "_model_module_version": "1.2.0",
       "_view_module_version": "1.2.0",
       "justify_items": null,
       "object_fit": null,
       "object_position": null
      }
     },
     "5be202ad46404288897f70c659da560e": {
      "model_module": "@jupyter-widgets/base",
      "model_module_version": "1.2.0",
      "model_name": "LayoutModel",
      "state": {
       "_model_module_version": "1.2.0",
       "_view_module_version": "1.2.0",
       "display": "inline-flex",
       "flex_flow": "row wrap",
       "justify_items": null,
       "object_fit": null,
       "object_position": null,
       "width": "100%"
      }
     },
     "5db68815bee04b078918feca7bf41c56": {
      "model_module": "@jupyter-widgets/controls",
      "model_module_version": "1.5.0",
      "model_name": "DescriptionStyleModel",
      "state": {
       "_model_module_version": "1.5.0",
       "_view_module_version": "1.2.0",
       "description_width": ""
      }
     },
     "5fcd08130fcd492e8cb872f27a32e6a7": {
      "model_module": "@jupyter-widgets/controls",
      "model_module_version": "1.5.0",
      "model_name": "HTMLModel",
      "state": {
       "_model_module_version": "1.5.0",
       "_view_module_version": "1.5.0",
       "layout": "IPY_MODEL_d2c56f12f7db4e04b7256dc013b9b875",
       "style": "IPY_MODEL_3919971f4dc54cb4b869e42bdbe3f838",
       "value": " ETA: 00:00s - loss: 2.3247 - val_loss: 2.1201"
      }
     },
     "60882b4aa8d94e17ac6aee1b0ba15782": {
      "model_module": "@jupyter-widgets/controls",
      "model_module_version": "1.5.0",
      "model_name": "HTMLModel",
      "state": {
       "_model_module_version": "1.5.0",
       "_view_module_version": "1.5.0",
       "layout": "IPY_MODEL_8f6c2ddea31f4f75bf290dde2a61c5af",
       "style": "IPY_MODEL_dabb326955ae4404a02b162230cfb498",
       "value": " ETA: 00:00s - loss: 2.3067 - val_loss: 2.2270"
      }
     },
     "636ba75a026c4719a09f28414cedca63": {
      "model_module": "@jupyter-widgets/base",
      "model_module_version": "1.2.0",
      "model_name": "LayoutModel",
      "state": {
       "_model_module_version": "1.2.0",
       "_view_module_version": "1.2.0",
       "flex": "2",
       "justify_items": null,
       "object_fit": null,
       "object_position": null
      }
     },
     "6398cf4fff4045daaaf7457b83623c94": {
      "model_module": "@jupyter-widgets/controls",
      "model_module_version": "1.5.0",
      "model_name": "HTMLModel",
      "state": {
       "_model_module_version": "1.5.0",
       "_view_module_version": "1.5.0",
       "layout": "IPY_MODEL_75640ee7204b49dba0848c2add6176e3",
       "style": "IPY_MODEL_adc2d029131341b7ab0908901854acee",
       "value": " ETA: 00:00s - loss: 2.7190 - val_loss: 2.3257"
      }
     },
     "63b3af4001dd4949860075501559e0b9": {
      "model_module": "@jupyter-widgets/controls",
      "model_module_version": "1.5.0",
      "model_name": "HBoxModel",
      "state": {
       "_model_module_version": "1.5.0",
       "_view_module_version": "1.5.0",
       "children": [
        "IPY_MODEL_75aae145b3a84e7ea73b1267e91cc9ee",
        "IPY_MODEL_1969f456c05f4fe98fca242b2b818628"
       ],
       "layout": "IPY_MODEL_c86b425949974c67b1e0b02d133e9080"
      }
     },
     "6852326e5df54230b1da79af14914fc2": {
      "model_module": "@jupyter-widgets/base",
      "model_module_version": "1.2.0",
      "model_name": "LayoutModel",
      "state": {
       "_model_module_version": "1.2.0",
       "_view_module_version": "1.2.0",
       "justify_items": null,
       "object_fit": null,
       "object_position": null
      }
     },
     "6b08c78ed10f4f9da7e07897d9702db3": {
      "model_module": "@jupyter-widgets/controls",
      "model_module_version": "1.5.0",
      "model_name": "ProgressStyleModel",
      "state": {
       "_model_module_version": "1.5.0",
       "_view_module_version": "1.2.0",
       "description_width": "initial"
      }
     },
     "6da17c2d0375496ebeab64b1f3636917": {
      "model_module": "@jupyter-widgets/controls",
      "model_module_version": "1.5.0",
      "model_name": "ProgressStyleModel",
      "state": {
       "_model_module_version": "1.5.0",
       "_view_module_version": "1.2.0",
       "description_width": "initial"
      }
     },
     "7062e8ac29fa4ede836bc5a6ff140278": {
      "model_module": "@jupyter-widgets/base",
      "model_module_version": "1.2.0",
      "model_name": "LayoutModel",
      "state": {
       "_model_module_version": "1.2.0",
       "_view_module_version": "1.2.0",
       "flex": "2",
       "justify_items": null,
       "object_fit": null,
       "object_position": null
      }
     },
     "7236c35076a140a791c82eff6c12af27": {
      "model_module": "@jupyter-widgets/base",
      "model_module_version": "1.2.0",
      "model_name": "LayoutModel",
      "state": {
       "_model_module_version": "1.2.0",
       "_view_module_version": "1.2.0",
       "flex": "2",
       "justify_items": null,
       "object_fit": null,
       "object_position": null
      }
     },
     "735e233c796a447c823301aff02664ca": {
      "model_module": "@jupyter-widgets/base",
      "model_module_version": "1.2.0",
      "model_name": "LayoutModel",
      "state": {
       "_model_module_version": "1.2.0",
       "_view_module_version": "1.2.0",
       "flex": "2",
       "justify_items": null,
       "object_fit": null,
       "object_position": null
      }
     },
     "747402eeaddb4fe5aa8a23edbcd0c4ff": {
      "model_module": "@jupyter-widgets/controls",
      "model_module_version": "1.5.0",
      "model_name": "ProgressStyleModel",
      "state": {
       "_model_module_version": "1.5.0",
       "_view_module_version": "1.2.0",
       "description_width": "initial"
      }
     },
     "74b8cb1914b7403c85f17d89f3765f23": {
      "model_module": "@jupyter-widgets/controls",
      "model_module_version": "1.5.0",
      "model_name": "ProgressStyleModel",
      "state": {
       "_model_module_version": "1.5.0",
       "_view_module_version": "1.2.0",
       "description_width": "initial"
      }
     },
     "75640ee7204b49dba0848c2add6176e3": {
      "model_module": "@jupyter-widgets/base",
      "model_module_version": "1.2.0",
      "model_name": "LayoutModel",
      "state": {
       "_model_module_version": "1.2.0",
       "_view_module_version": "1.2.0",
       "justify_items": null,
       "object_fit": null,
       "object_position": null
      }
     },
     "75aae145b3a84e7ea73b1267e91cc9ee": {
      "model_module": "@jupyter-widgets/controls",
      "model_module_version": "1.5.0",
      "model_name": "FloatProgressModel",
      "state": {
       "_model_module_version": "1.5.0",
       "_view_module_version": "1.5.0",
       "bar_style": "success",
       "description": "5625/5625",
       "layout": "IPY_MODEL_868fdf41e3914be6a85a95cbe0566951",
       "max": 5625,
       "style": "IPY_MODEL_804aca13980a41caaf5b4f83749d9f2f",
       "value": 5625
      }
     },
     "7776d612d99d4561a9d4cdb4ae3f9129": {
      "model_module": "@jupyter-widgets/base",
      "model_module_version": "1.2.0",
      "model_name": "LayoutModel",
      "state": {
       "_model_module_version": "1.2.0",
       "_view_module_version": "1.2.0",
       "flex": "2",
       "justify_items": null,
       "object_fit": null,
       "object_position": null
      }
     },
     "781c158590b74e188f726cb4345a052e": {
      "model_module": "@jupyter-widgets/controls",
      "model_module_version": "1.5.0",
      "model_name": "FloatProgressModel",
      "state": {
       "_model_module_version": "1.5.0",
       "_view_module_version": "1.5.0",
       "bar_style": "success",
       "description": "5625/5625",
       "layout": "IPY_MODEL_4c05441f06574de18be249c08caa0c2e",
       "max": 5625,
       "style": "IPY_MODEL_ec31c3174e594934906f1d090f6df3b1",
       "value": 5625
      }
     },
     "7cdc182551034244a91604f722f69648": {
      "model_module": "@jupyter-widgets/controls",
      "model_module_version": "1.5.0",
      "model_name": "HBoxModel",
      "state": {
       "_model_module_version": "1.5.0",
       "_view_module_version": "1.5.0",
       "children": [
        "IPY_MODEL_f9ba4e098eb247f4aca1da531962ce49",
        "IPY_MODEL_aa23d7ecfa534a23a6e67d4bfc4fa0c7"
       ],
       "layout": "IPY_MODEL_c5acce5c91cd4611992a98dd7cd948e8"
      }
     },
     "7d1270209668421590a1824eec5d8bd4": {
      "model_module": "@jupyter-widgets/controls",
      "model_module_version": "1.5.0",
      "model_name": "HTMLModel",
      "state": {
       "_model_module_version": "1.5.0",
       "_view_module_version": "1.5.0",
       "layout": "IPY_MODEL_b9d2507de04f4f3c883462d9b018fdef",
       "style": "IPY_MODEL_d9f26d47feb549d59d6565f76dd2aa6a",
       "value": " ETA: 00:00s - loss: 2.2784 - val_loss: 2.2118"
      }
     },
     "7e79cf29d0d74b4f8852072c912735f8": {
      "model_module": "@jupyter-widgets/controls",
      "model_module_version": "1.5.0",
      "model_name": "FloatProgressModel",
      "state": {
       "_model_module_version": "1.5.0",
       "_view_module_version": "1.5.0",
       "bar_style": "success",
       "description": "5625/5625",
       "layout": "IPY_MODEL_07eefd351f8b478b954de7dde04e4c13",
       "max": 5625,
       "style": "IPY_MODEL_23d0325c75ac4ff99edc5db4bff17bc7",
       "value": 5625
      }
     },
     "7fe5447d6c524a55a1ee0d24ad1d961c": {
      "model_module": "@jupyter-widgets/base",
      "model_module_version": "1.2.0",
      "model_name": "LayoutModel",
      "state": {
       "_model_module_version": "1.2.0",
       "_view_module_version": "1.2.0",
       "display": "inline-flex",
       "flex_flow": "row wrap",
       "justify_items": null,
       "object_fit": null,
       "object_position": null,
       "width": "100%"
      }
     },
     "804aca13980a41caaf5b4f83749d9f2f": {
      "model_module": "@jupyter-widgets/controls",
      "model_module_version": "1.5.0",
      "model_name": "ProgressStyleModel",
      "state": {
       "_model_module_version": "1.5.0",
       "_view_module_version": "1.2.0",
       "description_width": "initial"
      }
     },
     "80fcd8fe1bec4f24930680b075e65cfd": {
      "model_module": "@jupyter-widgets/controls",
      "model_module_version": "1.5.0",
      "model_name": "HBoxModel",
      "state": {
       "_model_module_version": "1.5.0",
       "_view_module_version": "1.5.0",
       "children": [
        "IPY_MODEL_33d9f6358a134eb9bee2092b9a5b53ad",
        "IPY_MODEL_7d1270209668421590a1824eec5d8bd4"
       ],
       "layout": "IPY_MODEL_f45e7f0ba2a94e369645824ef49e7b13"
      }
     },
     "817d4ab8ad934760995039628f8997c3": {
      "model_module": "@jupyter-widgets/base",
      "model_module_version": "1.2.0",
      "model_name": "LayoutModel",
      "state": {
       "_model_module_version": "1.2.0",
       "_view_module_version": "1.2.0",
       "justify_items": null,
       "object_fit": null,
       "object_position": null
      }
     },
     "83ec8aba3c5a424a9a397fee916eb3d2": {
      "model_module": "@jupyter-widgets/controls",
      "model_module_version": "1.5.0",
      "model_name": "DescriptionStyleModel",
      "state": {
       "_model_module_version": "1.5.0",
       "_view_module_version": "1.2.0",
       "description_width": ""
      }
     },
     "868fdf41e3914be6a85a95cbe0566951": {
      "model_module": "@jupyter-widgets/base",
      "model_module_version": "1.2.0",
      "model_name": "LayoutModel",
      "state": {
       "_model_module_version": "1.2.0",
       "_view_module_version": "1.2.0",
       "flex": "2",
       "justify_items": null,
       "object_fit": null,
       "object_position": null
      }
     },
     "887b53457e1e4be1a0d9b363958b6bf6": {
      "model_module": "@jupyter-widgets/base",
      "model_module_version": "1.2.0",
      "model_name": "LayoutModel",
      "state": {
       "_model_module_version": "1.2.0",
       "_view_module_version": "1.2.0",
       "flex": "2",
       "justify_items": null,
       "object_fit": null,
       "object_position": null
      }
     },
     "896eef4737ce42359f549c43347b83f4": {
      "model_module": "@jupyter-widgets/controls",
      "model_module_version": "1.5.0",
      "model_name": "ProgressStyleModel",
      "state": {
       "_model_module_version": "1.5.0",
       "_view_module_version": "1.2.0",
       "description_width": "initial"
      }
     },
     "8ce2442760d24ffbac9a66d6970545ef": {
      "model_module": "@jupyter-widgets/controls",
      "model_module_version": "1.5.0",
      "model_name": "DescriptionStyleModel",
      "state": {
       "_model_module_version": "1.5.0",
       "_view_module_version": "1.2.0",
       "description_width": ""
      }
     },
     "8f6c2ddea31f4f75bf290dde2a61c5af": {
      "model_module": "@jupyter-widgets/base",
      "model_module_version": "1.2.0",
      "model_name": "LayoutModel",
      "state": {
       "_model_module_version": "1.2.0",
       "_view_module_version": "1.2.0",
       "justify_items": null,
       "object_fit": null,
       "object_position": null
      }
     },
     "91439b79831447e3816fac25fa894090": {
      "model_module": "@jupyter-widgets/base",
      "model_module_version": "1.2.0",
      "model_name": "LayoutModel",
      "state": {
       "_model_module_version": "1.2.0",
       "_view_module_version": "1.2.0",
       "display": "inline-flex",
       "flex_flow": "row wrap",
       "justify_items": null,
       "object_fit": null,
       "object_position": null,
       "width": "100%"
      }
     },
     "91e28613ace94b07aba93dbce114fcc6": {
      "model_module": "@jupyter-widgets/controls",
      "model_module_version": "1.5.0",
      "model_name": "FloatProgressModel",
      "state": {
       "_model_module_version": "1.5.0",
       "_view_module_version": "1.5.0",
       "bar_style": "success",
       "description": "5625/5625",
       "layout": "IPY_MODEL_7776d612d99d4561a9d4cdb4ae3f9129",
       "max": 5625,
       "style": "IPY_MODEL_6b08c78ed10f4f9da7e07897d9702db3",
       "value": 5625
      }
     },
     "96cf629ba3c74111afb342a1100ebdb3": {
      "model_module": "@jupyter-widgets/base",
      "model_module_version": "1.2.0",
      "model_name": "LayoutModel",
      "state": {
       "_model_module_version": "1.2.0",
       "_view_module_version": "1.2.0",
       "flex": "2",
       "justify_items": null,
       "object_fit": null,
       "object_position": null
      }
     },
     "9904d842af9f4bbfaa3feae9aa08869b": {
      "model_module": "@jupyter-widgets/controls",
      "model_module_version": "1.5.0",
      "model_name": "HBoxModel",
      "state": {
       "_model_module_version": "1.5.0",
       "_view_module_version": "1.5.0",
       "children": [
        "IPY_MODEL_7e79cf29d0d74b4f8852072c912735f8",
        "IPY_MODEL_a607ce81d81d4ff6bb63ba5d84e96b28"
       ],
       "layout": "IPY_MODEL_7fe5447d6c524a55a1ee0d24ad1d961c"
      }
     },
     "99e2826b013d455d9c71b9ae1f8cee24": {
      "model_module": "@jupyter-widgets/controls",
      "model_module_version": "1.5.0",
      "model_name": "ProgressStyleModel",
      "state": {
       "_model_module_version": "1.5.0",
       "_view_module_version": "1.2.0",
       "description_width": "initial"
      }
     },
     "9ae69d1599184782a6dd8e67037fe19d": {
      "model_module": "@jupyter-widgets/controls",
      "model_module_version": "1.5.0",
      "model_name": "HBoxModel",
      "state": {
       "_model_module_version": "1.5.0",
       "_view_module_version": "1.5.0",
       "children": [
        "IPY_MODEL_781c158590b74e188f726cb4345a052e",
        "IPY_MODEL_46009ba45adf4bcfaa5dd2368a34f70c"
       ],
       "layout": "IPY_MODEL_54715092b28a4332b8b07691248ff873"
      }
     },
     "9bb85a4a7ef24e10b52542d419b5d7a7": {
      "model_module": "@jupyter-widgets/controls",
      "model_module_version": "1.5.0",
      "model_name": "DescriptionStyleModel",
      "state": {
       "_model_module_version": "1.5.0",
       "_view_module_version": "1.2.0",
       "description_width": ""
      }
     },
     "9e8a564d78e243f795c7b9405f40e0e0": {
      "model_module": "@jupyter-widgets/base",
      "model_module_version": "1.2.0",
      "model_name": "LayoutModel",
      "state": {
       "_model_module_version": "1.2.0",
       "_view_module_version": "1.2.0",
       "display": "inline-flex",
       "flex_flow": "row wrap",
       "justify_items": null,
       "object_fit": null,
       "object_position": null,
       "width": "100%"
      }
     },
     "a607ce81d81d4ff6bb63ba5d84e96b28": {
      "model_module": "@jupyter-widgets/controls",
      "model_module_version": "1.5.0",
      "model_name": "HTMLModel",
      "state": {
       "_model_module_version": "1.5.0",
       "_view_module_version": "1.5.0",
       "layout": "IPY_MODEL_0d03def5a20c4d8a8e9df77d9e6b2845",
       "style": "IPY_MODEL_185cf1ab64f14361a3072b1851e867b3",
       "value": " ETA: 00:00s - loss: 2.2151 - val_loss: 2.1936"
      }
     },
     "a7825d31e4d74e329436e6dc2354508b": {
      "model_module": "@jupyter-widgets/controls",
      "model_module_version": "1.5.0",
      "model_name": "ProgressStyleModel",
      "state": {
       "_model_module_version": "1.5.0",
       "_view_module_version": "1.2.0",
       "description_width": "initial"
      }
     },
     "a92040186a9b4d8c847f34d68ccd8294": {
      "model_module": "@jupyter-widgets/controls",
      "model_module_version": "1.5.0",
      "model_name": "DescriptionStyleModel",
      "state": {
       "_model_module_version": "1.5.0",
       "_view_module_version": "1.2.0",
       "description_width": ""
      }
     },
     "aa23d7ecfa534a23a6e67d4bfc4fa0c7": {
      "model_module": "@jupyter-widgets/controls",
      "model_module_version": "1.5.0",
      "model_name": "HTMLModel",
      "state": {
       "_model_module_version": "1.5.0",
       "_view_module_version": "1.5.0",
       "layout": "IPY_MODEL_ddb5b412b4504148995640003c0e8c7d",
       "style": "IPY_MODEL_83ec8aba3c5a424a9a397fee916eb3d2",
       "value": " ETA: 00:00s - loss: 2.5289 - val_loss: 2.3825"
      }
     },
     "aa6b86634d5448b5a6eb42e00ddd7106": {
      "model_module": "@jupyter-widgets/base",
      "model_module_version": "1.2.0",
      "model_name": "LayoutModel",
      "state": {
       "_model_module_version": "1.2.0",
       "_view_module_version": "1.2.0",
       "justify_items": null,
       "object_fit": null,
       "object_position": null
      }
     },
     "adc2d029131341b7ab0908901854acee": {
      "model_module": "@jupyter-widgets/controls",
      "model_module_version": "1.5.0",
      "model_name": "DescriptionStyleModel",
      "state": {
       "_model_module_version": "1.5.0",
       "_view_module_version": "1.2.0",
       "description_width": ""
      }
     },
     "b06da43b2b8548c8930073f2c35a4898": {
      "model_module": "@jupyter-widgets/controls",
      "model_module_version": "1.5.0",
      "model_name": "ProgressStyleModel",
      "state": {
       "_model_module_version": "1.5.0",
       "_view_module_version": "1.2.0",
       "description_width": "initial"
      }
     },
     "b1199744a2084fd7a559eab368adff2f": {
      "model_module": "@jupyter-widgets/controls",
      "model_module_version": "1.5.0",
      "model_name": "FloatProgressModel",
      "state": {
       "_model_module_version": "1.5.0",
       "_view_module_version": "1.5.0",
       "bar_style": "success",
       "description": "5625/5625",
       "layout": "IPY_MODEL_51ccf73aba91447ab1739613d2da4956",
       "max": 5625,
       "style": "IPY_MODEL_b06da43b2b8548c8930073f2c35a4898",
       "value": 5625
      }
     },
     "b389a437ea764037b29d6eb7380435f5": {
      "model_module": "@jupyter-widgets/controls",
      "model_module_version": "1.5.0",
      "model_name": "HBoxModel",
      "state": {
       "_model_module_version": "1.5.0",
       "_view_module_version": "1.5.0",
       "children": [
        "IPY_MODEL_b69572e7ec7d41d1a557ae77dfdd7aba",
        "IPY_MODEL_3110d08469e54cadb7def7d42344186e"
       ],
       "layout": "IPY_MODEL_c5683ac30e924d9d891a317e5100cf67"
      }
     },
     "b3e978a81d654753b9819dee250bf69d": {
      "model_module": "@jupyter-widgets/base",
      "model_module_version": "1.2.0",
      "model_name": "LayoutModel",
      "state": {
       "_model_module_version": "1.2.0",
       "_view_module_version": "1.2.0",
       "justify_items": null,
       "object_fit": null,
       "object_position": null
      }
     },
     "b46cfe7d8c89472dad426a44d670b9c3": {
      "model_module": "@jupyter-widgets/controls",
      "model_module_version": "1.5.0",
      "model_name": "HBoxModel",
      "state": {
       "_model_module_version": "1.5.0",
       "_view_module_version": "1.5.0",
       "children": [
        "IPY_MODEL_c8349be8ed2c4f5ba6ddec30bc49adf5",
        "IPY_MODEL_f506eeab371e49c7a127442d692f6bd1"
       ],
       "layout": "IPY_MODEL_ce6041db606a4b34af8d9c8ce524266e"
      }
     },
     "b69572e7ec7d41d1a557ae77dfdd7aba": {
      "model_module": "@jupyter-widgets/controls",
      "model_module_version": "1.5.0",
      "model_name": "FloatProgressModel",
      "state": {
       "_model_module_version": "1.5.0",
       "_view_module_version": "1.5.0",
       "bar_style": "success",
       "description": "5625/5625",
       "layout": "IPY_MODEL_96cf629ba3c74111afb342a1100ebdb3",
       "max": 5625,
       "style": "IPY_MODEL_99e2826b013d455d9c71b9ae1f8cee24",
       "value": 5625
      }
     },
     "b8422af5e02b4d848b4e042be5c6fc85": {
      "model_module": "@jupyter-widgets/controls",
      "model_module_version": "1.5.0",
      "model_name": "HTMLModel",
      "state": {
       "_model_module_version": "1.5.0",
       "_view_module_version": "1.5.0",
       "layout": "IPY_MODEL_1c0f235d7f9c460bbddd75f42aa642b3",
       "style": "IPY_MODEL_a92040186a9b4d8c847f34d68ccd8294",
       "value": " ETA: 00:00s - loss: 5.1383 - val_loss: 2.9599"
      }
     },
     "b970b8813662404b9cc511d3a2d9827b": {
      "model_module": "@jupyter-widgets/base",
      "model_module_version": "1.2.0",
      "model_name": "LayoutModel",
      "state": {
       "_model_module_version": "1.2.0",
       "_view_module_version": "1.2.0",
       "display": "inline-flex",
       "flex_flow": "row wrap",
       "justify_items": null,
       "object_fit": null,
       "object_position": null,
       "width": "100%"
      }
     },
     "b9d2507de04f4f3c883462d9b018fdef": {
      "model_module": "@jupyter-widgets/base",
      "model_module_version": "1.2.0",
      "model_name": "LayoutModel",
      "state": {
       "_model_module_version": "1.2.0",
       "_view_module_version": "1.2.0",
       "justify_items": null,
       "object_fit": null,
       "object_position": null
      }
     },
     "c3efef1d53bf423ba1bb209048261cff": {
      "model_module": "@jupyter-widgets/base",
      "model_module_version": "1.2.0",
      "model_name": "LayoutModel",
      "state": {
       "_model_module_version": "1.2.0",
       "_view_module_version": "1.2.0",
       "display": "inline-flex",
       "flex_flow": "row wrap",
       "justify_items": null,
       "object_fit": null,
       "object_position": null,
       "width": "100%"
      }
     },
     "c479aec1b8af47129e05eec1f289cda0": {
      "model_module": "@jupyter-widgets/controls",
      "model_module_version": "1.5.0",
      "model_name": "DescriptionStyleModel",
      "state": {
       "_model_module_version": "1.5.0",
       "_view_module_version": "1.2.0",
       "description_width": ""
      }
     },
     "c5683ac30e924d9d891a317e5100cf67": {
      "model_module": "@jupyter-widgets/base",
      "model_module_version": "1.2.0",
      "model_name": "LayoutModel",
      "state": {
       "_model_module_version": "1.2.0",
       "_view_module_version": "1.2.0",
       "display": "inline-flex",
       "flex_flow": "row wrap",
       "justify_items": null,
       "object_fit": null,
       "object_position": null,
       "width": "100%"
      }
     },
     "c5acce5c91cd4611992a98dd7cd948e8": {
      "model_module": "@jupyter-widgets/base",
      "model_module_version": "1.2.0",
      "model_name": "LayoutModel",
      "state": {
       "_model_module_version": "1.2.0",
       "_view_module_version": "1.2.0",
       "display": "inline-flex",
       "flex_flow": "row wrap",
       "justify_items": null,
       "object_fit": null,
       "object_position": null,
       "width": "100%"
      }
     },
     "c797cd16836f4c36a9846fe16e7da0df": {
      "model_module": "@jupyter-widgets/controls",
      "model_module_version": "1.5.0",
      "model_name": "FloatProgressModel",
      "state": {
       "_model_module_version": "1.5.0",
       "_view_module_version": "1.5.0",
       "bar_style": "danger",
       "description": "Training:  19%",
       "layout": "IPY_MODEL_887b53457e1e4be1a0d9b363958b6bf6",
       "style": "IPY_MODEL_1c5917156d7c478ab0ac920abb2897e9",
       "value": 19
      }
     },
     "c7dda87f4d8a4096bd4624a7464c7816": {
      "model_module": "@jupyter-widgets/base",
      "model_module_version": "1.2.0",
      "model_name": "LayoutModel",
      "state": {
       "_model_module_version": "1.2.0",
       "_view_module_version": "1.2.0",
       "display": "inline-flex",
       "flex_flow": "row wrap",
       "justify_items": null,
       "object_fit": null,
       "object_position": null,
       "width": "100%"
      }
     },
     "c8349be8ed2c4f5ba6ddec30bc49adf5": {
      "model_module": "@jupyter-widgets/controls",
      "model_module_version": "1.5.0",
      "model_name": "FloatProgressModel",
      "state": {
       "_model_module_version": "1.5.0",
       "_view_module_version": "1.5.0",
       "bar_style": "success",
       "description": "5625/5625",
       "layout": "IPY_MODEL_636ba75a026c4719a09f28414cedca63",
       "max": 5625,
       "style": "IPY_MODEL_0c4a7c68b057476788e610cb17eab516",
       "value": 5625
      }
     },
     "c84249d7f95f43f3b9eceeaf37c393d7": {
      "model_module": "@jupyter-widgets/base",
      "model_module_version": "1.2.0",
      "model_name": "LayoutModel",
      "state": {
       "_model_module_version": "1.2.0",
       "_view_module_version": "1.2.0",
       "display": "inline-flex",
       "flex_flow": "row wrap",
       "justify_items": null,
       "object_fit": null,
       "object_position": null,
       "width": "100%"
      }
     },
     "c86b425949974c67b1e0b02d133e9080": {
      "model_module": "@jupyter-widgets/base",
      "model_module_version": "1.2.0",
      "model_name": "LayoutModel",
      "state": {
       "_model_module_version": "1.2.0",
       "_view_module_version": "1.2.0",
       "display": "inline-flex",
       "flex_flow": "row wrap",
       "justify_items": null,
       "object_fit": null,
       "object_position": null,
       "width": "100%"
      }
     },
     "ca1e19fc11ad4339ab5a5734ad57706c": {
      "model_module": "@jupyter-widgets/base",
      "model_module_version": "1.2.0",
      "model_name": "LayoutModel",
      "state": {
       "_model_module_version": "1.2.0",
       "_view_module_version": "1.2.0",
       "flex": "2",
       "justify_items": null,
       "object_fit": null,
       "object_position": null
      }
     },
     "cb160aa441d7402d85cd2cbfdc8e0033": {
      "model_module": "@jupyter-widgets/base",
      "model_module_version": "1.2.0",
      "model_name": "LayoutModel",
      "state": {
       "_model_module_version": "1.2.0",
       "_view_module_version": "1.2.0",
       "justify_items": null,
       "object_fit": null,
       "object_position": null
      }
     },
     "cbf81ae194a54b16b3293ad54f7e4ad5": {
      "model_module": "@jupyter-widgets/controls",
      "model_module_version": "1.5.0",
      "model_name": "HBoxModel",
      "state": {
       "_model_module_version": "1.5.0",
       "_view_module_version": "1.5.0",
       "children": [
        "IPY_MODEL_0864d8803864470198bd08f9943cfb00",
        "IPY_MODEL_5fcd08130fcd492e8cb872f27a32e6a7"
       ],
       "layout": "IPY_MODEL_216b7aa91cd54ea1a943908a22d9443d"
      }
     },
     "ce6041db606a4b34af8d9c8ce524266e": {
      "model_module": "@jupyter-widgets/base",
      "model_module_version": "1.2.0",
      "model_name": "LayoutModel",
      "state": {
       "_model_module_version": "1.2.0",
       "_view_module_version": "1.2.0",
       "display": "inline-flex",
       "flex_flow": "row wrap",
       "justify_items": null,
       "object_fit": null,
       "object_position": null,
       "width": "100%"
      }
     },
     "cf02139fe911484b8684018f3f3e1abc": {
      "model_module": "@jupyter-widgets/controls",
      "model_module_version": "1.5.0",
      "model_name": "HBoxModel",
      "state": {
       "_model_module_version": "1.5.0",
       "_view_module_version": "1.5.0",
       "children": [
        "IPY_MODEL_d31de77e46d3489fb2cfb29f899802ad",
        "IPY_MODEL_f9d1de0dc81c4d9bacea41e627cb6572"
       ],
       "layout": "IPY_MODEL_c7dda87f4d8a4096bd4624a7464c7816"
      }
     },
     "cfd6a4ed00d34ccb95ac22d69a0912cc": {
      "model_module": "@jupyter-widgets/base",
      "model_module_version": "1.2.0",
      "model_name": "LayoutModel",
      "state": {
       "_model_module_version": "1.2.0",
       "_view_module_version": "1.2.0",
       "flex": "2",
       "justify_items": null,
       "object_fit": null,
       "object_position": null
      }
     },
     "d00bbf78eedd43eb8840f5226da82cb2": {
      "model_module": "@jupyter-widgets/controls",
      "model_module_version": "1.5.0",
      "model_name": "FloatProgressModel",
      "state": {
       "_model_module_version": "1.5.0",
       "_view_module_version": "1.5.0",
       "bar_style": "success",
       "description": "5625/5625",
       "layout": "IPY_MODEL_ca1e19fc11ad4339ab5a5734ad57706c",
       "max": 5625,
       "style": "IPY_MODEL_ed69596acceb4a6da4820fa01d71f19a",
       "value": 5625
      }
     },
     "d021b75e2d08439aa4ebfe16ea6bf3f2": {
      "model_module": "@jupyter-widgets/base",
      "model_module_version": "1.2.0",
      "model_name": "LayoutModel",
      "state": {
       "_model_module_version": "1.2.0",
       "_view_module_version": "1.2.0",
       "flex": "2",
       "justify_items": null,
       "object_fit": null,
       "object_position": null
      }
     },
     "d2c56f12f7db4e04b7256dc013b9b875": {
      "model_module": "@jupyter-widgets/base",
      "model_module_version": "1.2.0",
      "model_name": "LayoutModel",
      "state": {
       "_model_module_version": "1.2.0",
       "_view_module_version": "1.2.0",
       "justify_items": null,
       "object_fit": null,
       "object_position": null
      }
     },
     "d31de77e46d3489fb2cfb29f899802ad": {
      "model_module": "@jupyter-widgets/controls",
      "model_module_version": "1.5.0",
      "model_name": "FloatProgressModel",
      "state": {
       "_model_module_version": "1.5.0",
       "_view_module_version": "1.5.0",
       "bar_style": "success",
       "description": "5625/5625",
       "layout": "IPY_MODEL_2f99032d96a54b9fbf7910af070c65da",
       "max": 5625,
       "style": "IPY_MODEL_58b74cd29d6a4dce9a2b6e3974ab9170",
       "value": 5625
      }
     },
     "d3de55840b5b46e69274d32203173869": {
      "model_module": "@jupyter-widgets/controls",
      "model_module_version": "1.5.0",
      "model_name": "HTMLModel",
      "state": {
       "_model_module_version": "1.5.0",
       "_view_module_version": "1.5.0",
       "layout": "IPY_MODEL_cb160aa441d7402d85cd2cbfdc8e0033",
       "style": "IPY_MODEL_8ce2442760d24ffbac9a66d6970545ef",
       "value": " ETA: 00:00s - loss: 2.2225 - val_loss: 2.1507"
      }
     },
     "d6c84e5f01d949b1a59b4148fdbed2b1": {
      "model_module": "@jupyter-widgets/controls",
      "model_module_version": "1.5.0",
      "model_name": "FloatProgressModel",
      "state": {
       "_model_module_version": "1.5.0",
       "_view_module_version": "1.5.0",
       "bar_style": "success",
       "description": "5625/5625",
       "layout": "IPY_MODEL_735e233c796a447c823301aff02664ca",
       "max": 5625,
       "style": "IPY_MODEL_6da17c2d0375496ebeab64b1f3636917",
       "value": 5625
      }
     },
     "d9f26d47feb549d59d6565f76dd2aa6a": {
      "model_module": "@jupyter-widgets/controls",
      "model_module_version": "1.5.0",
      "model_name": "DescriptionStyleModel",
      "state": {
       "_model_module_version": "1.5.0",
       "_view_module_version": "1.2.0",
       "description_width": ""
      }
     },
     "dabb326955ae4404a02b162230cfb498": {
      "model_module": "@jupyter-widgets/controls",
      "model_module_version": "1.5.0",
      "model_name": "DescriptionStyleModel",
      "state": {
       "_model_module_version": "1.5.0",
       "_view_module_version": "1.2.0",
       "description_width": ""
      }
     },
     "ddb5b412b4504148995640003c0e8c7d": {
      "model_module": "@jupyter-widgets/base",
      "model_module_version": "1.2.0",
      "model_name": "LayoutModel",
      "state": {
       "_model_module_version": "1.2.0",
       "_view_module_version": "1.2.0",
       "justify_items": null,
       "object_fit": null,
       "object_position": null
      }
     },
     "df2abb91e0bf4336b032fea133b8b3ea": {
      "model_module": "@jupyter-widgets/controls",
      "model_module_version": "1.5.0",
      "model_name": "DescriptionStyleModel",
      "state": {
       "_model_module_version": "1.5.0",
       "_view_module_version": "1.2.0",
       "description_width": ""
      }
     },
     "e204be5817fe492084262f0e3a435a35": {
      "model_module": "@jupyter-widgets/controls",
      "model_module_version": "1.5.0",
      "model_name": "DescriptionStyleModel",
      "state": {
       "_model_module_version": "1.5.0",
       "_view_module_version": "1.2.0",
       "description_width": ""
      }
     },
     "e3ccd19b27634c58b9e19bf0b3065b97": {
      "model_module": "@jupyter-widgets/controls",
      "model_module_version": "1.5.0",
      "model_name": "ProgressStyleModel",
      "state": {
       "_model_module_version": "1.5.0",
       "_view_module_version": "1.2.0",
       "description_width": "initial"
      }
     },
     "e703b35ed2fc4665ade3c00dea5c3e15": {
      "model_module": "@jupyter-widgets/controls",
      "model_module_version": "1.5.0",
      "model_name": "FloatProgressModel",
      "state": {
       "_model_module_version": "1.5.0",
       "_view_module_version": "1.5.0",
       "bar_style": "success",
       "description": "5625/5625",
       "layout": "IPY_MODEL_2bcf02b53afe46feae7a31969732ccb3",
       "max": 5625,
       "style": "IPY_MODEL_747402eeaddb4fe5aa8a23edbcd0c4ff",
       "value": 5625
      }
     },
     "ec31c3174e594934906f1d090f6df3b1": {
      "model_module": "@jupyter-widgets/controls",
      "model_module_version": "1.5.0",
      "model_name": "ProgressStyleModel",
      "state": {
       "_model_module_version": "1.5.0",
       "_view_module_version": "1.2.0",
       "description_width": "initial"
      }
     },
     "ed69596acceb4a6da4820fa01d71f19a": {
      "model_module": "@jupyter-widgets/controls",
      "model_module_version": "1.5.0",
      "model_name": "ProgressStyleModel",
      "state": {
       "_model_module_version": "1.5.0",
       "_view_module_version": "1.2.0",
       "description_width": "initial"
      }
     },
     "ee4b8c093f5d4c239df328268b2ed6fa": {
      "model_module": "@jupyter-widgets/controls",
      "model_module_version": "1.5.0",
      "model_name": "ProgressStyleModel",
      "state": {
       "_model_module_version": "1.5.0",
       "_view_module_version": "1.2.0",
       "description_width": "initial"
      }
     },
     "f16b5803d36a40f69f31d97554fc5a03": {
      "model_module": "@jupyter-widgets/controls",
      "model_module_version": "1.5.0",
      "model_name": "HTMLModel",
      "state": {
       "_model_module_version": "1.5.0",
       "_view_module_version": "1.5.0",
       "layout": "IPY_MODEL_6852326e5df54230b1da79af14914fc2",
       "style": "IPY_MODEL_f748bb68dc7d4f6ea0973c3f723d696b",
       "value": " ETA: 00:00s - loss: 2.2086 - val_loss: 2.2663"
      }
     },
     "f1923eb588ef428da5cc7aaeabca1da4": {
      "model_module": "@jupyter-widgets/controls",
      "model_module_version": "1.5.0",
      "model_name": "FloatProgressModel",
      "state": {
       "_model_module_version": "1.5.0",
       "_view_module_version": "1.5.0",
       "bar_style": "success",
       "description": "5625/5625",
       "layout": "IPY_MODEL_7236c35076a140a791c82eff6c12af27",
       "max": 5625,
       "style": "IPY_MODEL_a7825d31e4d74e329436e6dc2354508b",
       "value": 5625
      }
     },
     "f350f7ad3c9c48918b7cb781304f742a": {
      "model_module": "@jupyter-widgets/controls",
      "model_module_version": "1.5.0",
      "model_name": "HTMLModel",
      "state": {
       "_model_module_version": "1.5.0",
       "_view_module_version": "1.5.0",
       "layout": "IPY_MODEL_f651e99daa7b4970aaad17c5748451ae",
       "style": "IPY_MODEL_21136710be0047aa860ed4ce59abb1be",
       "value": " ETA: 00:00s - loss: 2.2449 - val_loss: 2.1818"
      }
     },
     "f45e7f0ba2a94e369645824ef49e7b13": {
      "model_module": "@jupyter-widgets/base",
      "model_module_version": "1.2.0",
      "model_name": "LayoutModel",
      "state": {
       "_model_module_version": "1.2.0",
       "_view_module_version": "1.2.0",
       "display": "inline-flex",
       "flex_flow": "row wrap",
       "justify_items": null,
       "object_fit": null,
       "object_position": null,
       "width": "100%"
      }
     },
     "f506eeab371e49c7a127442d692f6bd1": {
      "model_module": "@jupyter-widgets/controls",
      "model_module_version": "1.5.0",
      "model_name": "HTMLModel",
      "state": {
       "_model_module_version": "1.5.0",
       "_view_module_version": "1.5.0",
       "layout": "IPY_MODEL_aa6b86634d5448b5a6eb42e00ddd7106",
       "style": "IPY_MODEL_e204be5817fe492084262f0e3a435a35",
       "value": " ETA: 00:00s - loss: 2.1873 - val_loss: 2.1281"
      }
     },
     "f651e99daa7b4970aaad17c5748451ae": {
      "model_module": "@jupyter-widgets/base",
      "model_module_version": "1.2.0",
      "model_name": "LayoutModel",
      "state": {
       "_model_module_version": "1.2.0",
       "_view_module_version": "1.2.0",
       "justify_items": null,
       "object_fit": null,
       "object_position": null
      }
     },
     "f748bb68dc7d4f6ea0973c3f723d696b": {
      "model_module": "@jupyter-widgets/controls",
      "model_module_version": "1.5.0",
      "model_name": "DescriptionStyleModel",
      "state": {
       "_model_module_version": "1.5.0",
       "_view_module_version": "1.2.0",
       "description_width": ""
      }
     },
     "f9ba4e098eb247f4aca1da531962ce49": {
      "model_module": "@jupyter-widgets/controls",
      "model_module_version": "1.5.0",
      "model_name": "FloatProgressModel",
      "state": {
       "_model_module_version": "1.5.0",
       "_view_module_version": "1.5.0",
       "bar_style": "success",
       "description": "5625/5625",
       "layout": "IPY_MODEL_cfd6a4ed00d34ccb95ac22d69a0912cc",
       "max": 5625,
       "style": "IPY_MODEL_e3ccd19b27634c58b9e19bf0b3065b97",
       "value": 5625
      }
     },
     "f9d1de0dc81c4d9bacea41e627cb6572": {
      "model_module": "@jupyter-widgets/controls",
      "model_module_version": "1.5.0",
      "model_name": "HTMLModel",
      "state": {
       "_model_module_version": "1.5.0",
       "_view_module_version": "1.5.0",
       "layout": "IPY_MODEL_5b8e5e5318a14d3b8e736e376bba7c82",
       "style": "IPY_MODEL_9bb85a4a7ef24e10b52542d419b5d7a7",
       "value": " ETA: 00:00s - loss: 2.3077 - val_loss: 2.2436"
      }
     },
     "ff1d30ab882449bab3ed6a04227dd78f": {
      "model_module": "@jupyter-widgets/controls",
      "model_module_version": "1.5.0",
      "model_name": "HBoxModel",
      "state": {
       "_model_module_version": "1.5.0",
       "_view_module_version": "1.5.0",
       "children": [
        "IPY_MODEL_c797cd16836f4c36a9846fe16e7da0df",
        "IPY_MODEL_128bd4ced7544c7c9b594700d024fa4d"
       ],
       "layout": "IPY_MODEL_3f38375cbabe48dbb74e8f79c21b891f"
      }
     },
     "ff9efe55eff64c3c968457248f72cbbc": {
      "model_module": "@jupyter-widgets/controls",
      "model_module_version": "1.5.0",
      "model_name": "DescriptionStyleModel",
      "state": {
       "_model_module_version": "1.5.0",
       "_view_module_version": "1.2.0",
       "description_width": ""
      }
     }
    },
    "version_major": 2,
    "version_minor": 0
   }
  }
 },
 "nbformat": 4,
 "nbformat_minor": 2
}
