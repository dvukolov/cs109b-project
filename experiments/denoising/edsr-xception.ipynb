{
 "cells": [
  {
   "cell_type": "code",
   "execution_count": 12,
   "metadata": {},
   "outputs": [],
   "source": [
    "import numpy as np\n",
    "import matplotlib.pyplot as plt\n",
    "from sklearn.preprocessing import MinMaxScaler\n",
    "\n",
    "import tensorflow as tf\n",
    "import tensorflow_addons as tfa\n",
    "\n",
    "%run ../gridsearch/xception.ipynb"
   ]
  },
  {
   "cell_type": "code",
   "execution_count": 4,
   "metadata": {},
   "outputs": [
    {
     "name": "stdout",
     "output_type": "stream",
     "text": [
      "Available variables: ['img_denoised', 'label', 'psf_r']\n"
     ]
    }
   ],
   "source": [
    "# Load a denoised dataset\n",
    "dataset = \"../../data/data_v1d.npz\"\n",
    "\n",
    "with np.load(dataset) as data:\n",
    "    print(\"Available variables:\", data.files)\n",
    "    image = data[\"img_denoised\"]\n",
    "    label = data[\"label\"]"
   ]
  },
  {
   "cell_type": "code",
   "execution_count": 5,
   "metadata": {},
   "outputs": [],
   "source": [
    "# Use unscaled images. Let TF normalize the data.\n",
    "X = image[..., np.newaxis]\n",
    "input_shape = X.shape[1:]\n",
    "\n",
    "# Scale the labels between -1 and 1 using the full dataset. We know the ranges of generated labels.\n",
    "scaler = MinMaxScaler(feature_range=(-1, 1))\n",
    "y = scaler.fit_transform(label)\n",
    "output_shape = y.shape[1:]"
   ]
  },
  {
   "cell_type": "code",
   "execution_count": 15,
   "metadata": {},
   "outputs": [
    {
     "data": {
      "image/png": "[encoded data removed]",
      "text/plain": [
       "<Figure size 432x288 with 1 Axes>"
      ]
     },
     "metadata": {
      "needs_background": "light"
     },
     "output_type": "display_data"
    }
   ],
   "source": [
    "plt.imshow(X[0].reshape(64, 64))\n",
    "plt.title(\"Denoised Input Image\");"
   ]
  },
  {
   "cell_type": "code",
   "execution_count": 6,
   "metadata": {
    "scrolled": true
   },
   "outputs": [
    {
     "name": "stdout",
     "output_type": "stream",
     "text": [
      "Model: \"model\"\n",
      "__________________________________________________________________________________________________\n",
      "Layer (type)                    Output Shape         Param #     Connected to                     \n",
      "==================================================================================================\n",
      "input_1 (InputLayer)            [(None, 64, 64, 1)]  0                                            \n",
      "__________________________________________________________________________________________________\n",
      "normalization (Normalization)   (None, 64, 64, 1)    3           input_1[0][0]                    \n",
      "__________________________________________________________________________________________________\n",
      "conv2d (Conv2D)                 (None, 32, 32, 16)   416         normalization[0][0]              \n",
      "__________________________________________________________________________________________________\n",
      "separable_conv2d (SeparableConv (None, 32, 32, 64)   1232        conv2d[0][0]                     \n",
      "__________________________________________________________________________________________________\n",
      "separable_conv2d_1 (SeparableCo (None, 32, 32, 64)   4736        separable_conv2d[0][0]           \n",
      "__________________________________________________________________________________________________\n",
      "conv2d_1 (Conv2D)               (None, 32, 32, 64)   1088        conv2d[0][0]                     \n",
      "__________________________________________________________________________________________________\n",
      "add (Add)                       (None, 32, 32, 64)   0           separable_conv2d_1[0][0]         \n",
      "                                                                 conv2d_1[0][0]                   \n",
      "__________________________________________________________________________________________________\n",
      "separable_conv2d_2 (SeparableCo (None, 32, 32, 64)   4736        add[0][0]                        \n",
      "__________________________________________________________________________________________________\n",
      "separable_conv2d_3 (SeparableCo (None, 32, 32, 64)   4736        separable_conv2d_2[0][0]         \n",
      "__________________________________________________________________________________________________\n",
      "add_1 (Add)                     (None, 32, 32, 64)   0           separable_conv2d_3[0][0]         \n",
      "                                                                 add[0][0]                        \n",
      "__________________________________________________________________________________________________\n",
      "separable_conv2d_4 (SeparableCo (None, 32, 32, 64)   4736        add_1[0][0]                      \n",
      "__________________________________________________________________________________________________\n",
      "separable_conv2d_5 (SeparableCo (None, 32, 32, 64)   4736        separable_conv2d_4[0][0]         \n",
      "__________________________________________________________________________________________________\n",
      "add_2 (Add)                     (None, 32, 32, 64)   0           separable_conv2d_5[0][0]         \n",
      "                                                                 add_1[0][0]                      \n",
      "__________________________________________________________________________________________________\n",
      "separable_conv2d_6 (SeparableCo (None, 32, 32, 64)   4736        add_2[0][0]                      \n",
      "__________________________________________________________________________________________________\n",
      "separable_conv2d_7 (SeparableCo (None, 32, 32, 64)   4736        separable_conv2d_6[0][0]         \n",
      "__________________________________________________________________________________________________\n",
      "add_3 (Add)                     (None, 32, 32, 64)   0           separable_conv2d_7[0][0]         \n",
      "                                                                 add_2[0][0]                      \n",
      "__________________________________________________________________________________________________\n",
      "separable_conv2d_8 (SeparableCo (None, 32, 32, 64)   4736        add_3[0][0]                      \n",
      "__________________________________________________________________________________________________\n",
      "separable_conv2d_9 (SeparableCo (None, 32, 32, 64)   4736        separable_conv2d_8[0][0]         \n",
      "__________________________________________________________________________________________________\n",
      "add_4 (Add)                     (None, 32, 32, 64)   0           separable_conv2d_9[0][0]         \n",
      "                                                                 add_3[0][0]                      \n",
      "__________________________________________________________________________________________________\n",
      "separable_conv2d_10 (SeparableC (None, 32, 32, 64)   4736        add_4[0][0]                      \n",
      "__________________________________________________________________________________________________\n",
      "separable_conv2d_11 (SeparableC (None, 32, 32, 64)   4736        separable_conv2d_10[0][0]        \n",
      "__________________________________________________________________________________________________\n",
      "add_5 (Add)                     (None, 32, 32, 64)   0           separable_conv2d_11[0][0]        \n",
      "                                                                 add_4[0][0]                      \n",
      "__________________________________________________________________________________________________\n",
      "separable_conv2d_12 (SeparableC (None, 32, 32, 64)   4736        add_5[0][0]                      \n",
      "__________________________________________________________________________________________________\n",
      "separable_conv2d_13 (SeparableC (None, 32, 32, 64)   4736        separable_conv2d_12[0][0]        \n",
      "__________________________________________________________________________________________________\n",
      "add_6 (Add)                     (None, 32, 32, 64)   0           separable_conv2d_13[0][0]        \n",
      "                                                                 add_5[0][0]                      \n",
      "__________________________________________________________________________________________________\n",
      "separable_conv2d_14 (SeparableC (None, 32, 32, 64)   4736        add_6[0][0]                      \n",
      "__________________________________________________________________________________________________\n",
      "separable_conv2d_15 (SeparableC (None, 32, 32, 64)   4736        separable_conv2d_14[0][0]        \n",
      "__________________________________________________________________________________________________\n",
      "add_7 (Add)                     (None, 32, 32, 64)   0           separable_conv2d_15[0][0]        \n",
      "                                                                 add_6[0][0]                      \n",
      "__________________________________________________________________________________________________\n",
      "separable_conv2d_16 (SeparableC (None, 32, 32, 128)  8896        add_7[0][0]                      \n",
      "__________________________________________________________________________________________________\n",
      "separable_conv2d_17 (SeparableC (None, 32, 32, 128)  17664       separable_conv2d_16[0][0]        \n",
      "__________________________________________________________________________________________________\n",
      "max_pooling2d (MaxPooling2D)    (None, 16, 16, 128)  0           separable_conv2d_17[0][0]        \n",
      "__________________________________________________________________________________________________\n",
      "conv2d_2 (Conv2D)               (None, 16, 16, 128)  8320        add_7[0][0]                      \n",
      "__________________________________________________________________________________________________\n",
      "add_8 (Add)                     (None, 16, 16, 128)  0           max_pooling2d[0][0]              \n",
      "                                                                 conv2d_2[0][0]                   \n",
      "__________________________________________________________________________________________________\n",
      "global_average_pooling2d (Globa (None, 128)          0           add_8[0][0]                      \n",
      "__________________________________________________________________________________________________\n",
      "dense (Dense)                   (None, 5)            645         global_average_pooling2d[0][0]   \n",
      "==================================================================================================\n",
      "Total params: 109,304\n",
      "Trainable params: 109,301\n"
     ]
    },
    {
     "name": "stdout",
     "output_type": "stream",
     "text": [
      "Non-trainable params: 3\n",
      "__________________________________________________________________________________________________\n"
     ]
    }
   ],
   "source": [
    "# Build a small Xception model. SeparableConv2D layers form Xception blocks.\n",
    "model = build_xception_model(\n",
    "    input_shape, output_shape, conv2d_num_filters=16, sep_num_filters=64, num_residual_blocks=8\n",
    ")\n",
    "model.summary()"
   ]
  },
  {
   "cell_type": "code",
   "execution_count": 7,
   "metadata": {},
   "outputs": [
    {
     "data": {
      "application/vnd.jupyter.widget-view+json": {
       "model_id": "3c387fab0a2a4971a3e11776ab515a99",
       "version_major": 2,
       "version_minor": 0
      },
      "text/plain": [
       "HBox(children=(FloatProgress(value=0.0, description='Training', layout=Layout(flex='2'), style=ProgressStyle(d…"
      ]
     },
     "metadata": {},
     "output_type": "display_data"
    },
    {
     "name": "stdout",
     "output_type": "stream",
     "text": [
      "Epoch 1/100\n"
     ]
    },
    {
     "data": {
      "application/vnd.jupyter.widget-view+json": {
       "model_id": "fce2dbda458348ddb3bde7046e352c58",
       "version_major": 2,
       "version_minor": 0
      },
      "text/plain": [
       "HBox(children=(FloatProgress(value=0.0, layout=Layout(flex='2'), max=5625.0), HTML(value='')), layout=Layout(d…"
      ]
     },
     "metadata": {},
     "output_type": "display_data"
    },
    {
     "name": "stdout",
     "output_type": "stream",
     "text": [
      "\n",
      "WARNING:tensorflow:From /usr/share/anaconda3/envs/tf21/lib/python3.7/site-packages/tensorflow_core/python/ops/resource_variable_ops.py:1786: calling BaseResourceVariable.__init__ (from tensorflow.python.ops.resource_variable_ops) with constraint is deprecated and will be removed in a future version.\n",
      "Instructions for updating:\n",
      "If using Keras pass *_constraint arguments to layers.\n"
     ]
    },
    {
     "name": "stderr",
     "output_type": "stream",
     "text": [
      "WARNING:tensorflow:From /usr/share/anaconda3/envs/tf21/lib/python3.7/site-packages/tensorflow_core/python/ops/resource_variable_ops.py:1786: calling BaseResourceVariable.__init__ (from tensorflow.python.ops.resource_variable_ops) with constraint is deprecated and will be removed in a future version.\n",
      "Instructions for updating:\n",
      "If using Keras pass *_constraint arguments to layers.\n"
     ]
    },
    {
     "name": "stdout",
     "output_type": "stream",
     "text": [
      "INFO:tensorflow:Assets written to: edsr-xception.tf/assets\n"
     ]
    },
    {
     "name": "stderr",
     "output_type": "stream",
     "text": [
      "INFO:tensorflow:Assets written to: edsr-xception.tf/assets\n"
     ]
    },
    {
     "name": "stdout",
     "output_type": "stream",
     "text": [
      "Epoch 2/100\n"
     ]
    },
    {
     "data": {
      "application/vnd.jupyter.widget-view+json": {
       "model_id": "ea49ffd2c3e04d7db887b4716bbd8bd7",
       "version_major": 2,
       "version_minor": 0
      },
      "text/plain": [
       "HBox(children=(FloatProgress(value=0.0, layout=Layout(flex='2'), max=5625.0), HTML(value='')), layout=Layout(d…"
      ]
     },
     "metadata": {},
     "output_type": "display_data"
    },
    {
     "name": "stdout",
     "output_type": "stream",
     "text": [
      "\n",
      "INFO:tensorflow:Assets written to: edsr-xception.tf/assets\n"
     ]
    },
    {
     "name": "stderr",
     "output_type": "stream",
     "text": [
      "INFO:tensorflow:Assets written to: edsr-xception.tf/assets\n"
     ]
    },
    {
     "name": "stdout",
     "output_type": "stream",
     "text": [
      "Epoch 3/100\n"
     ]
    },
    {
     "data": {
      "application/vnd.jupyter.widget-view+json": {
       "model_id": "671f2cb6c8f84200957bd88db3bfecde",
       "version_major": 2,
       "version_minor": 0
      },
      "text/plain": [
       "HBox(children=(FloatProgress(value=0.0, layout=Layout(flex='2'), max=5625.0), HTML(value='')), layout=Layout(d…"
      ]
     },
     "metadata": {},
     "output_type": "display_data"
    },
    {
     "name": "stdout",
     "output_type": "stream",
     "text": [
      "\n",
      "Epoch 4/100\n"
     ]
    },
    {
     "data": {
      "application/vnd.jupyter.widget-view+json": {
       "model_id": "ec92926d3a464b4d803c50c13d86c3fd",
       "version_major": 2,
       "version_minor": 0
      },
      "text/plain": [
       "HBox(children=(FloatProgress(value=0.0, layout=Layout(flex='2'), max=5625.0), HTML(value='')), layout=Layout(d…"
      ]
     },
     "metadata": {},
     "output_type": "display_data"
    },
    {
     "name": "stdout",
     "output_type": "stream",
     "text": [
      "\n",
      "Epoch 5/100\n"
     ]
    },
    {
     "data": {
      "application/vnd.jupyter.widget-view+json": {
       "model_id": "36972c4e0abe45a782326819a9d48d16",
       "version_major": 2,
       "version_minor": 0
      },
      "text/plain": [
       "HBox(children=(FloatProgress(value=0.0, layout=Layout(flex='2'), max=5625.0), HTML(value='')), layout=Layout(d…"
      ]
     },
     "metadata": {},
     "output_type": "display_data"
    },
    {
     "name": "stdout",
     "output_type": "stream",
     "text": [
      "\n",
      "Epoch 6/100\n"
     ]
    },
    {
     "data": {
      "application/vnd.jupyter.widget-view+json": {
       "model_id": "9ff857ebb6e244cd87af08063560f579",
       "version_major": 2,
       "version_minor": 0
      },
      "text/plain": [
       "HBox(children=(FloatProgress(value=0.0, layout=Layout(flex='2'), max=5625.0), HTML(value='')), layout=Layout(d…"
      ]
     },
     "metadata": {},
     "output_type": "display_data"
    },
    {
     "name": "stdout",
     "output_type": "stream",
     "text": [
      "\n",
      "INFO:tensorflow:Assets written to: edsr-xception.tf/assets\n"
     ]
    },
    {
     "name": "stderr",
     "output_type": "stream",
     "text": [
      "INFO:tensorflow:Assets written to: edsr-xception.tf/assets\n"
     ]
    },
    {
     "name": "stdout",
     "output_type": "stream",
     "text": [
      "Epoch 7/100\n"
     ]
    },
    {
     "data": {
      "application/vnd.jupyter.widget-view+json": {
       "model_id": "6ab3afd2fa54413aa5cee23e5033c0a1",
       "version_major": 2,
       "version_minor": 0
      },
      "text/plain": [
       "HBox(children=(FloatProgress(value=0.0, layout=Layout(flex='2'), max=5625.0), HTML(value='')), layout=Layout(d…"
      ]
     },
     "metadata": {},
     "output_type": "display_data"
    },
    {
     "name": "stdout",
     "output_type": "stream",
     "text": [
      "\n",
      "Epoch 8/100\n"
     ]
    },
    {
     "data": {
      "application/vnd.jupyter.widget-view+json": {
       "model_id": "63c812d251724a199d42578b4f728aec",
       "version_major": 2,
       "version_minor": 0
      },
      "text/plain": [
       "HBox(children=(FloatProgress(value=0.0, layout=Layout(flex='2'), max=5625.0), HTML(value='')), layout=Layout(d…"
      ]
     },
     "metadata": {},
     "output_type": "display_data"
    },
    {
     "name": "stdout",
     "output_type": "stream",
     "text": [
      "\n",
      "Epoch 9/100\n"
     ]
    },
    {
     "data": {
      "application/vnd.jupyter.widget-view+json": {
       "model_id": "b7ad0337915040f8bc3e2a97d1f39c8a",
       "version_major": 2,
       "version_minor": 0
      },
      "text/plain": [
       "HBox(children=(FloatProgress(value=0.0, layout=Layout(flex='2'), max=5625.0), HTML(value='')), layout=Layout(d…"
      ]
     },
     "metadata": {},
     "output_type": "display_data"
    },
    {
     "name": "stdout",
     "output_type": "stream",
     "text": [
      "\n",
      "INFO:tensorflow:Assets written to: edsr-xception.tf/assets\n"
     ]
    },
    {
     "name": "stderr",
     "output_type": "stream",
     "text": [
      "INFO:tensorflow:Assets written to: edsr-xception.tf/assets\n"
     ]
    },
    {
     "name": "stdout",
     "output_type": "stream",
     "text": [
      "Epoch 10/100\n"
     ]
    },
    {
     "data": {
      "application/vnd.jupyter.widget-view+json": {
       "model_id": "27e52a9aa77943f7a20137d00e1b0f4f",
       "version_major": 2,
       "version_minor": 0
      },
      "text/plain": [
       "HBox(children=(FloatProgress(value=0.0, layout=Layout(flex='2'), max=5625.0), HTML(value='')), layout=Layout(d…"
      ]
     },
     "metadata": {},
     "output_type": "display_data"
    },
    {
     "name": "stdout",
     "output_type": "stream",
     "text": [
      "\n",
      "Epoch 11/100\n"
     ]
    },
    {
     "data": {
      "application/vnd.jupyter.widget-view+json": {
       "model_id": "ef78afe34c6b444c9b69520caf4ce08b",
       "version_major": 2,
       "version_minor": 0
      },
      "text/plain": [
       "HBox(children=(FloatProgress(value=0.0, layout=Layout(flex='2'), max=5625.0), HTML(value='')), layout=Layout(d…"
      ]
     },
     "metadata": {},
     "output_type": "display_data"
    },
    {
     "name": "stdout",
     "output_type": "stream",
     "text": [
      "\n",
      "Epoch 12/100\n"
     ]
    },
    {
     "data": {
      "application/vnd.jupyter.widget-view+json": {
       "model_id": "4a515f7d993a4528b44c38ced61b1d80",
       "version_major": 2,
       "version_minor": 0
      },
      "text/plain": [
       "HBox(children=(FloatProgress(value=0.0, layout=Layout(flex='2'), max=5625.0), HTML(value='')), layout=Layout(d…"
      ]
     },
     "metadata": {},
     "output_type": "display_data"
    },
    {
     "name": "stdout",
     "output_type": "stream",
     "text": [
      "\n",
      "Epoch 13/100\n"
     ]
    },
    {
     "data": {
      "application/vnd.jupyter.widget-view+json": {
       "model_id": "e24432a4ba294c8ba8b83952129fea23",
       "version_major": 2,
       "version_minor": 0
      },
      "text/plain": [
       "HBox(children=(FloatProgress(value=0.0, layout=Layout(flex='2'), max=5625.0), HTML(value='')), layout=Layout(d…"
      ]
     },
     "metadata": {},
     "output_type": "display_data"
    },
    {
     "name": "stdout",
     "output_type": "stream",
     "text": [
      "\n",
      "INFO:tensorflow:Assets written to: edsr-xception.tf/assets\n"
     ]
    },
    {
     "name": "stderr",
     "output_type": "stream",
     "text": [
      "INFO:tensorflow:Assets written to: edsr-xception.tf/assets\n"
     ]
    },
    {
     "name": "stdout",
     "output_type": "stream",
     "text": [
      "Epoch 14/100\n"
     ]
    },
    {
     "data": {
      "application/vnd.jupyter.widget-view+json": {
       "model_id": "136cdcfedf4d4af6ad4a80dbc8de23b3",
       "version_major": 2,
       "version_minor": 0
      },
      "text/plain": [
       "HBox(children=(FloatProgress(value=0.0, layout=Layout(flex='2'), max=5625.0), HTML(value='')), layout=Layout(d…"
      ]
     },
     "metadata": {},
     "output_type": "display_data"
    },
    {
     "name": "stdout",
     "output_type": "stream",
     "text": [
      "\n",
      "Epoch 15/100\n"
     ]
    },
    {
     "data": {
      "application/vnd.jupyter.widget-view+json": {
       "model_id": "32c1189cf90b4c2d9e6f81798a9ade2d",
       "version_major": 2,
       "version_minor": 0
      },
      "text/plain": [
       "HBox(children=(FloatProgress(value=0.0, layout=Layout(flex='2'), max=5625.0), HTML(value='')), layout=Layout(d…"
      ]
     },
     "metadata": {},
     "output_type": "display_data"
    },
    {
     "name": "stdout",
     "output_type": "stream",
     "text": [
      "\n",
      "Epoch 16/100\n"
     ]
    },
    {
     "data": {
      "application/vnd.jupyter.widget-view+json": {
       "model_id": "88350d5ab459456bba78b16904eb312f",
       "version_major": 2,
       "version_minor": 0
      },
      "text/plain": [
       "HBox(children=(FloatProgress(value=0.0, layout=Layout(flex='2'), max=5625.0), HTML(value='')), layout=Layout(d…"
      ]
     },
     "metadata": {},
     "output_type": "display_data"
    },
    {
     "name": "stdout",
     "output_type": "stream",
     "text": [
      "\n",
      "Epoch 17/100\n"
     ]
    },
    {
     "data": {
      "application/vnd.jupyter.widget-view+json": {
       "model_id": "bdd4aef6b6b24db4b1cb15648021fc00",
       "version_major": 2,
       "version_minor": 0
      },
      "text/plain": [
       "HBox(children=(FloatProgress(value=0.0, layout=Layout(flex='2'), max=5625.0), HTML(value='')), layout=Layout(d…"
      ]
     },
     "metadata": {},
     "output_type": "display_data"
    },
    {
     "name": "stdout",
     "output_type": "stream",
     "text": [
      "\n",
      "INFO:tensorflow:Assets written to: edsr-xception.tf/assets\n"
     ]
    },
    {
     "name": "stderr",
     "output_type": "stream",
     "text": [
      "INFO:tensorflow:Assets written to: edsr-xception.tf/assets\n"
     ]
    },
    {
     "name": "stdout",
     "output_type": "stream",
     "text": [
      "Epoch 18/100\n"
     ]
    },
    {
     "data": {
      "application/vnd.jupyter.widget-view+json": {
       "model_id": "bbba877319db483db3d2538684a35490",
       "version_major": 2,
       "version_minor": 0
      },
      "text/plain": [
       "HBox(children=(FloatProgress(value=0.0, layout=Layout(flex='2'), max=5625.0), HTML(value='')), layout=Layout(d…"
      ]
     },
     "metadata": {},
     "output_type": "display_data"
    },
    {
     "name": "stdout",
     "output_type": "stream",
     "text": [
      "\n",
      "Epoch 19/100\n"
     ]
    },
    {
     "data": {
      "application/vnd.jupyter.widget-view+json": {
       "model_id": "5704b9fee0ea4b0cbe747f92fa4304e4",
       "version_major": 2,
       "version_minor": 0
      },
      "text/plain": [
       "HBox(children=(FloatProgress(value=0.0, layout=Layout(flex='2'), max=5625.0), HTML(value='')), layout=Layout(d…"
      ]
     },
     "metadata": {},
     "output_type": "display_data"
    },
    {
     "name": "stdout",
     "output_type": "stream",
     "text": [
      "\n",
      "Epoch 20/100\n"
     ]
    },
    {
     "data": {
      "application/vnd.jupyter.widget-view+json": {
       "model_id": "2fe194a2cd654c30a8fd6d16bd60b763",
       "version_major": 2,
       "version_minor": 0
      },
      "text/plain": [
       "HBox(children=(FloatProgress(value=0.0, layout=Layout(flex='2'), max=5625.0), HTML(value='')), layout=Layout(d…"
      ]
     },
     "metadata": {},
     "output_type": "display_data"
    },
    {
     "name": "stdout",
     "output_type": "stream",
     "text": [
      "\n",
      "Epoch 21/100\n"
     ]
    },
    {
     "data": {
      "application/vnd.jupyter.widget-view+json": {
       "model_id": "f4a35fc6e8484f27b8ef170835d262fd",
       "version_major": 2,
       "version_minor": 0
      },
      "text/plain": [
       "HBox(children=(FloatProgress(value=0.0, layout=Layout(flex='2'), max=5625.0), HTML(value='')), layout=Layout(d…"
      ]
     },
     "metadata": {},
     "output_type": "display_data"
    },
    {
     "name": "stdout",
     "output_type": "stream",
     "text": [
      "\n",
      "Epoch 22/100\n"
     ]
    },
    {
     "data": {
      "application/vnd.jupyter.widget-view+json": {
       "model_id": "70cbe29749914f0a916a8cef310d6a3c",
       "version_major": 2,
       "version_minor": 0
      },
      "text/plain": [
       "HBox(children=(FloatProgress(value=0.0, layout=Layout(flex='2'), max=5625.0), HTML(value='')), layout=Layout(d…"
      ]
     },
     "metadata": {},
     "output_type": "display_data"
    },
    {
     "name": "stdout",
     "output_type": "stream",
     "text": [
      "\n",
      "Epoch 23/100\n"
     ]
    },
    {
     "data": {
      "application/vnd.jupyter.widget-view+json": {
       "model_id": "b3ce45768eff409b90e541b88bc5cdd0",
       "version_major": 2,
       "version_minor": 0
      },
      "text/plain": [
       "HBox(children=(FloatProgress(value=0.0, layout=Layout(flex='2'), max=5625.0), HTML(value='')), layout=Layout(d…"
      ]
     },
     "metadata": {},
     "output_type": "display_data"
    },
    {
     "name": "stdout",
     "output_type": "stream",
     "text": [
      "\n",
      "Epoch 24/100\n"
     ]
    },
    {
     "data": {
      "application/vnd.jupyter.widget-view+json": {
       "model_id": "28a065756b4a47c0a50f0f369dd3f548",
       "version_major": 2,
       "version_minor": 0
      },
      "text/plain": [
       "HBox(children=(FloatProgress(value=0.0, layout=Layout(flex='2'), max=5625.0), HTML(value='')), layout=Layout(d…"
      ]
     },
     "metadata": {},
     "output_type": "display_data"
    },
    {
     "name": "stdout",
     "output_type": "stream",
     "text": [
      "\n",
      "Epoch 25/100\n"
     ]
    },
    {
     "data": {
      "application/vnd.jupyter.widget-view+json": {
       "model_id": "6edfb2f2a69242779a319bb0bc5a051a",
       "version_major": 2,
       "version_minor": 0
      },
      "text/plain": [
       "HBox(children=(FloatProgress(value=0.0, layout=Layout(flex='2'), max=5625.0), HTML(value='')), layout=Layout(d…"
      ]
     },
     "metadata": {},
     "output_type": "display_data"
    },
    {
     "name": "stdout",
     "output_type": "stream",
     "text": [
      "\n",
      "INFO:tensorflow:Assets written to: edsr-xception.tf/assets\n"
     ]
    },
    {
     "name": "stderr",
     "output_type": "stream",
     "text": [
      "INFO:tensorflow:Assets written to: edsr-xception.tf/assets\n"
     ]
    },
    {
     "name": "stdout",
     "output_type": "stream",
     "text": [
      "Epoch 26/100\n"
     ]
    },
    {
     "data": {
      "application/vnd.jupyter.widget-view+json": {
       "model_id": "8eccb0c3d5e44a449f3cfa484727a51a",
       "version_major": 2,
       "version_minor": 0
      },
      "text/plain": [
       "HBox(children=(FloatProgress(value=0.0, layout=Layout(flex='2'), max=5625.0), HTML(value='')), layout=Layout(d…"
      ]
     },
     "metadata": {},
     "output_type": "display_data"
    },
    {
     "name": "stdout",
     "output_type": "stream",
     "text": [
      "\n",
      "Epoch 27/100\n"
     ]
    },
    {
     "data": {
      "application/vnd.jupyter.widget-view+json": {
       "model_id": "ed35691403ac4b9696b61261d1f93857",
       "version_major": 2,
       "version_minor": 0
      },
      "text/plain": [
       "HBox(children=(FloatProgress(value=0.0, layout=Layout(flex='2'), max=5625.0), HTML(value='')), layout=Layout(d…"
      ]
     },
     "metadata": {},
     "output_type": "display_data"
    },
    {
     "name": "stdout",
     "output_type": "stream",
     "text": [
      "\n",
      "Epoch 28/100\n"
     ]
    },
    {
     "data": {
      "application/vnd.jupyter.widget-view+json": {
       "model_id": "2576faf6b516499192fcd43d7cc08d86",
       "version_major": 2,
       "version_minor": 0
      },
      "text/plain": [
       "HBox(children=(FloatProgress(value=0.0, layout=Layout(flex='2'), max=5625.0), HTML(value='')), layout=Layout(d…"
      ]
     },
     "metadata": {},
     "output_type": "display_data"
    },
    {
     "name": "stdout",
     "output_type": "stream",
     "text": [
      "\n",
      "Epoch 29/100\n"
     ]
    },
    {
     "data": {
      "application/vnd.jupyter.widget-view+json": {
       "model_id": "291e360cf0b14117bcf132ffb0aaa1b0",
       "version_major": 2,
       "version_minor": 0
      },
      "text/plain": [
       "HBox(children=(FloatProgress(value=0.0, layout=Layout(flex='2'), max=5625.0), HTML(value='')), layout=Layout(d…"
      ]
     },
     "metadata": {},
     "output_type": "display_data"
    },
    {
     "name": "stdout",
     "output_type": "stream",
     "text": [
      "\n",
      "Epoch 30/100\n"
     ]
    },
    {
     "data": {
      "application/vnd.jupyter.widget-view+json": {
       "model_id": "a71ee610141142bbb0518a69f018c591",
       "version_major": 2,
       "version_minor": 0
      },
      "text/plain": [
       "HBox(children=(FloatProgress(value=0.0, layout=Layout(flex='2'), max=5625.0), HTML(value='')), layout=Layout(d…"
      ]
     },
     "metadata": {},
     "output_type": "display_data"
    },
    {
     "name": "stdout",
     "output_type": "stream",
     "text": [
      "\n",
      "Epoch 31/100\n"
     ]
    },
    {
     "data": {
      "application/vnd.jupyter.widget-view+json": {
       "model_id": "18bff4fec2f74d47bb74458dd9a71abe",
       "version_major": 2,
       "version_minor": 0
      },
      "text/plain": [
       "HBox(children=(FloatProgress(value=0.0, layout=Layout(flex='2'), max=5625.0), HTML(value='')), layout=Layout(d…"
      ]
     },
     "metadata": {},
     "output_type": "display_data"
    },
    {
     "name": "stdout",
     "output_type": "stream",
     "text": [
      "\n",
      "Epoch 32/100\n"
     ]
    },
    {
     "data": {
      "application/vnd.jupyter.widget-view+json": {
       "model_id": "c813343b29ab4b49b2db77be4ac8426e",
       "version_major": 2,
       "version_minor": 0
      },
      "text/plain": [
       "HBox(children=(FloatProgress(value=0.0, layout=Layout(flex='2'), max=5625.0), HTML(value='')), layout=Layout(d…"
      ]
     },
     "metadata": {},
     "output_type": "display_data"
    },
    {
     "name": "stdout",
     "output_type": "stream",
     "text": [
      "\n",
      "Epoch 33/100\n"
     ]
    },
    {
     "data": {
      "application/vnd.jupyter.widget-view+json": {
       "model_id": "8dd747fdcd704ae89350414c05ae464b",
       "version_major": 2,
       "version_minor": 0
      },
      "text/plain": [
       "HBox(children=(FloatProgress(value=0.0, layout=Layout(flex='2'), max=5625.0), HTML(value='')), layout=Layout(d…"
      ]
     },
     "metadata": {},
     "output_type": "display_data"
    },
    {
     "name": "stdout",
     "output_type": "stream",
     "text": [
      "\n",
      "Epoch 34/100\n"
     ]
    },
    {
     "data": {
      "application/vnd.jupyter.widget-view+json": {
       "model_id": "ebd49a57d65847adba6d438ebd337607",
       "version_major": 2,
       "version_minor": 0
      },
      "text/plain": [
       "HBox(children=(FloatProgress(value=0.0, layout=Layout(flex='2'), max=5625.0), HTML(value='')), layout=Layout(d…"
      ]
     },
     "metadata": {},
     "output_type": "display_data"
    },
    {
     "name": "stdout",
     "output_type": "stream",
     "text": [
      "\n",
      "Epoch 35/100\n"
     ]
    },
    {
     "data": {
      "application/vnd.jupyter.widget-view+json": {
       "model_id": "67c0ba8eae2b44ac905db18864ef271c",
       "version_major": 2,
       "version_minor": 0
      },
      "text/plain": [
       "HBox(children=(FloatProgress(value=0.0, layout=Layout(flex='2'), max=5625.0), HTML(value='')), layout=Layout(d…"
      ]
     },
     "metadata": {},
     "output_type": "display_data"
    },
    {
     "name": "stdout",
     "output_type": "stream",
     "text": [
      "\n",
      "\n"
     ]
    }
   ],
   "source": [
    "# Configure the model\n",
    "model.compile(optimizer=\"adam\", loss=\"mse\")\n",
    "\n",
    "# Setup callbacks. TQDM is used due to issues with the default progress bar on my TF2.1 installation.\n",
    "early_stopping = tf.keras.callbacks.EarlyStopping(patience=10, restore_best_weights=True)\n",
    "tqdm_callback = tfa.callbacks.TQDMProgressBar()\n",
    "checkpoint = tf.keras.callbacks.ModelCheckpoint(\"edsr-xception.tf\", save_best_only=True)\n",
    "\n",
    "# Adapt the normalization layer to the data\n",
    "adapt_model(model, X)\n",
    "# Train the best model on the full dataset\n",
    "history = model.fit(\n",
    "    X,\n",
    "    y,\n",
    "    batch_size=32,\n",
    "    epochs=100,\n",
    "    validation_split=0.1,\n",
    "    verbose=0,\n",
    "    callbacks=[early_stopping, tqdm_callback, checkpoint],\n",
    ")"
   ]
  },
  {
   "cell_type": "code",
   "execution_count": 8,
   "metadata": {},
   "outputs": [
    {
     "data": {
      "text/plain": [
       "array([5778.521     ,    0.7836832 ,    0.04665107,    0.07195907,\n",
       "          0.0719365 ], dtype=float32)"
      ]
     },
     "execution_count": 8,
     "metadata": {},
     "output_type": "execute_result"
    }
   ],
   "source": [
    "# Evaluate the model on the validation set\n",
    "n_train = int(label.shape[0] * 0.9)\n",
    "X_val = X[n_train:]\n",
    "label_val = label[n_train:]\n",
    "\n",
    "# Predict the labels and convert them to the original scale\n",
    "predictions = model.predict(X_val)\n",
    "predictions = scaler.inverse_transform(predictions)\n",
    "\n",
    "# Compute RMSE for each label individually\n",
    "np.set_printoptions(suppress=True)\n",
    "rmse = np.sqrt(((label_val - predictions)**2).mean(axis=0))\n",
    "rmse"
   ]
  }
 ],
 "metadata": {
  "kernelspec": {
   "display_name": "Python (TF2.1)",
   "language": "python",
   "name": "tf21"
  },
  "language_info": {
   "codemirror_mode": {
    "name": "ipython",
    "version": 3
   },
   "file_extension": ".py",
   "mimetype": "text/x-python",
   "name": "python",
   "nbconvert_exporter": "python",
   "pygments_lexer": "ipython3",
   "version": "3.7.6"
  },
  "widgets": {
   "application/vnd.jupyter.widget-state+json": {
    "state": {
     "0020ee91f59340f79d64baf96512c105": {
      "model_module": "@jupyter-widgets/controls",
      "model_module_version": "1.5.0",
      "model_name": "HTMLModel",
      "state": {
       "_model_module_version": "1.5.0",
       "_view_module_version": "1.5.0",
       "layout": "IPY_MODEL_93f02625c04347e8b19bc70624cf8f31",
       "style": "IPY_MODEL_cbe63ee74e8b4e74a1a432963c14ca27",
       "value": " ETA: 00:00s - loss: 0.0325 - val_loss: 0.0301"
      }
     },
     "030577d879134a5ba42bfd1bd12faec6": {
      "model_module": "@jupyter-widgets/controls",
      "model_module_version": "1.5.0",
      "model_name": "ProgressStyleModel",
      "state": {
       "_model_module_version": "1.5.0",
       "_view_module_version": "1.2.0",
       "description_width": "initial"
      }
     },
     "03842c8952464fcbb5902d264f4a490c": {
      "model_module": "@jupyter-widgets/base",
      "model_module_version": "1.2.0",
      "model_name": "LayoutModel",
      "state": {
       "_model_module_version": "1.2.0",
       "_view_module_version": "1.2.0",
       "display": "inline-flex",
       "flex_flow": "row wrap",
       "justify_items": null,
       "object_fit": null,
       "object_position": null,
       "width": "100%"
      }
     },
     "04d6a4a463334597a20adf3018a78185": {
      "model_module": "@jupyter-widgets/base",
      "model_module_version": "1.2.0",
      "model_name": "LayoutModel",
      "state": {
       "_model_module_version": "1.2.0",
       "_view_module_version": "1.2.0",
       "flex": "2",
       "justify_items": null,
       "object_fit": null,
       "object_position": null
      }
     },
     "06e882b011da4f7181e123895d93e25e": {
      "model_module": "@jupyter-widgets/controls",
      "model_module_version": "1.5.0",
      "model_name": "DescriptionStyleModel",
      "state": {
       "_model_module_version": "1.5.0",
       "_view_module_version": "1.2.0",
       "description_width": ""
      }
     },
     "0805b0059a4d401696282e12a0003435": {
      "model_module": "@jupyter-widgets/controls",
      "model_module_version": "1.5.0",
      "model_name": "ProgressStyleModel",
      "state": {
       "_model_module_version": "1.5.0",
       "_view_module_version": "1.2.0",
       "description_width": "initial"
      }
     },
     "093de52b124648428e3baaae47fe0bf2": {
      "model_module": "@jupyter-widgets/controls",
      "model_module_version": "1.5.0",
      "model_name": "FloatProgressModel",
      "state": {
       "_model_module_version": "1.5.0",
       "_view_module_version": "1.5.0",
       "bar_style": "success",
       "description": "5625/5625",
       "layout": "IPY_MODEL_5a8d464b458b46598e67bf1c8257cb93",
       "max": 5625,
       "style": "IPY_MODEL_1a6fd0580b864367a911e39255006049",
       "value": 5625
      }
     },
     "0c088ef1c1784fa0a4ff468d70dfd31f": {
      "model_module": "@jupyter-widgets/controls",
      "model_module_version": "1.5.0",
      "model_name": "ProgressStyleModel",
      "state": {
       "_model_module_version": "1.5.0",
       "_view_module_version": "1.2.0",
       "description_width": "initial"
      }
     },
     "0e2a989f1ece4a15922ace3faa322334": {
      "model_module": "@jupyter-widgets/controls",
      "model_module_version": "1.5.0",
      "model_name": "HTMLModel",
      "state": {
       "_model_module_version": "1.5.0",
       "_view_module_version": "1.5.0",
       "layout": "IPY_MODEL_b304b0fbb78e40e7981f7bb506b6728a",
       "style": "IPY_MODEL_17a56d20d1f84aa58f538e5ef127f259",
       "value": " ETA: 00:00s - loss: 0.0300 - val_loss: 0.0291"
      }
     },
     "0edbedfc07cd452eb283bfe6a01eadd0": {
      "model_module": "@jupyter-widgets/base",
      "model_module_version": "1.2.0",
      "model_name": "LayoutModel",
      "state": {
       "_model_module_version": "1.2.0",
       "_view_module_version": "1.2.0",
       "justify_items": null,
       "object_fit": null,
       "object_position": null
      }
     },
     "11a77bdeedb24065aa2f963bde874e13": {
      "model_module": "@jupyter-widgets/controls",
      "model_module_version": "1.5.0",
      "model_name": "ProgressStyleModel",
      "state": {
       "_model_module_version": "1.5.0",
       "_view_module_version": "1.2.0",
       "description_width": "initial"
      }
     },
     "136cdcfedf4d4af6ad4a80dbc8de23b3": {
      "model_module": "@jupyter-widgets/controls",
      "model_module_version": "1.5.0",
      "model_name": "HBoxModel",
      "state": {
       "_model_module_version": "1.5.0",
       "_view_module_version": "1.5.0",
       "children": [
        "IPY_MODEL_a71b9d638a024085a3c5422ecfddcc9a",
        "IPY_MODEL_e1324172cb7741a4aba0b8d3c7bba168"
       ],
       "layout": "IPY_MODEL_842dbff404a348bfb5333cf2a2d1f6e4"
      }
     },
     "13a8dbe17ebf42eea8aa2aebdf244046": {
      "model_module": "@jupyter-widgets/controls",
      "model_module_version": "1.5.0",
      "model_name": "FloatProgressModel",
      "state": {
       "_model_module_version": "1.5.0",
       "_view_module_version": "1.5.0",
       "bar_style": "success",
       "description": "5625/5625",
       "layout": "IPY_MODEL_9b021226fff8400e90699646b74929ff",
       "max": 5625,
       "style": "IPY_MODEL_c77d982e7cdc48cab4f9a7d25f74ec90",
       "value": 5625
      }
     },
     "13ceacb2d8f7458297f6ea191c0e6c03": {
      "model_module": "@jupyter-widgets/base",
      "model_module_version": "1.2.0",
      "model_name": "LayoutModel",
      "state": {
       "_model_module_version": "1.2.0",
       "_view_module_version": "1.2.0",
       "display": "inline-flex",
       "flex_flow": "row wrap",
       "justify_items": null,
       "object_fit": null,
       "object_position": null,
       "width": "100%"
      }
     },
     "14f28ebdd64c429a9b7dd74462ee7a31": {
      "model_module": "@jupyter-widgets/base",
      "model_module_version": "1.2.0",
      "model_name": "LayoutModel",
      "state": {
       "_model_module_version": "1.2.0",
       "_view_module_version": "1.2.0",
       "justify_items": null,
       "object_fit": null,
       "object_position": null
      }
     },
     "153d29cc92f9463197249b5ed674dbe4": {
      "model_module": "@jupyter-widgets/base",
      "model_module_version": "1.2.0",
      "model_name": "LayoutModel",
      "state": {
       "_model_module_version": "1.2.0",
       "_view_module_version": "1.2.0",
       "justify_items": null,
       "object_fit": null,
       "object_position": null
      }
     },
     "15e4df70424b4eedbae2b23dccf4ff35": {
      "model_module": "@jupyter-widgets/base",
      "model_module_version": "1.2.0",
      "model_name": "LayoutModel",
      "state": {
       "_model_module_version": "1.2.0",
       "_view_module_version": "1.2.0",
       "justify_items": null,
       "object_fit": null,
       "object_position": null
      }
     },
     "165d268d96254d519a00af8147881d75": {
      "model_module": "@jupyter-widgets/base",
      "model_module_version": "1.2.0",
      "model_name": "LayoutModel",
      "state": {
       "_model_module_version": "1.2.0",
       "_view_module_version": "1.2.0",
       "display": "inline-flex",
       "flex_flow": "row wrap",
       "justify_items": null,
       "object_fit": null,
       "object_position": null,
       "width": "100%"
      }
     },
     "178e2702c78c47d9ba5b1015a23e2f54": {
      "model_module": "@jupyter-widgets/controls",
      "model_module_version": "1.5.0",
      "model_name": "HTMLModel",
      "state": {
       "_model_module_version": "1.5.0",
       "_view_module_version": "1.5.0",
       "layout": "IPY_MODEL_f2d752c7b3514750881624f38d1e9d16",
       "style": "IPY_MODEL_db0ff191e13b45fbb28124def20a6843",
       "value": " ETA: 00:00s - loss: 0.0291 - val_loss: 0.0287"
      }
     },
     "17a56d20d1f84aa58f538e5ef127f259": {
      "model_module": "@jupyter-widgets/controls",
      "model_module_version": "1.5.0",
      "model_name": "DescriptionStyleModel",
      "state": {
       "_model_module_version": "1.5.0",
       "_view_module_version": "1.2.0",
       "description_width": ""
      }
     },
     "187efa7f799e4f8790c8a807787e9d1e": {
      "model_module": "@jupyter-widgets/base",
      "model_module_version": "1.2.0",
      "model_name": "LayoutModel",
      "state": {
       "_model_module_version": "1.2.0",
       "_view_module_version": "1.2.0",
       "flex": "2",
       "justify_items": null,
       "object_fit": null,
       "object_position": null
      }
     },
     "18bff4fec2f74d47bb74458dd9a71abe": {
      "model_module": "@jupyter-widgets/controls",
      "model_module_version": "1.5.0",
      "model_name": "HBoxModel",
      "state": {
       "_model_module_version": "1.5.0",
       "_view_module_version": "1.5.0",
       "children": [
        "IPY_MODEL_f4e29fb2bcd1434bbc739a901595cff2",
        "IPY_MODEL_c914a4030221419d898fc82519877b45"
       ],
       "layout": "IPY_MODEL_3e60fde39d2540f1b26685eb3b267f62"
      }
     },
     "19de7e71cbd9425aa9776d0872df0f6f": {
      "model_module": "@jupyter-widgets/controls",
      "model_module_version": "1.5.0",
      "model_name": "DescriptionStyleModel",
      "state": {
       "_model_module_version": "1.5.0",
       "_view_module_version": "1.2.0",
       "description_width": ""
      }
     },
     "19fede88cd7d49889abf544e6a437124": {
      "model_module": "@jupyter-widgets/base",
      "model_module_version": "1.2.0",
      "model_name": "LayoutModel",
      "state": {
       "_model_module_version": "1.2.0",
       "_view_module_version": "1.2.0",
       "display": "inline-flex",
       "flex_flow": "row wrap",
       "justify_items": null,
       "object_fit": null,
       "object_position": null,
       "width": "100%"
      }
     },
     "1a1ffdd4518546f4b450e64b3492f569": {
      "model_module": "@jupyter-widgets/base",
      "model_module_version": "1.2.0",
      "model_name": "LayoutModel",
      "state": {
       "_model_module_version": "1.2.0",
       "_view_module_version": "1.2.0",
       "justify_items": null,
       "object_fit": null,
       "object_position": null
      }
     },
     "1a6fd0580b864367a911e39255006049": {
      "model_module": "@jupyter-widgets/controls",
      "model_module_version": "1.5.0",
      "model_name": "ProgressStyleModel",
      "state": {
       "_model_module_version": "1.5.0",
       "_view_module_version": "1.2.0",
       "description_width": "initial"
      }
     },
     "1aea5dc6a6574dfd9843b64f7cfcd024": {
      "model_module": "@jupyter-widgets/controls",
      "model_module_version": "1.5.0",
      "model_name": "HTMLModel",
      "state": {
       "_model_module_version": "1.5.0",
       "_view_module_version": "1.5.0",
       "layout": "IPY_MODEL_90f4633847944be8b63064540af24f0a",
       "style": "IPY_MODEL_64af299e32824001b48ed4944b0e4a8e",
       "value": " ETA: 00:00s - loss: 0.0293 - val_loss: 0.0291"
      }
     },
     "1b616e1981aa4f63b520a99f8a3da402": {
      "model_module": "@jupyter-widgets/controls",
      "model_module_version": "1.5.0",
      "model_name": "ProgressStyleModel",
      "state": {
       "_model_module_version": "1.5.0",
       "_view_module_version": "1.2.0",
       "description_width": "initial"
      }
     },
     "1b924c800952474f8834adb9cee27ed0": {
      "model_module": "@jupyter-widgets/base",
      "model_module_version": "1.2.0",
      "model_name": "LayoutModel",
      "state": {
       "_model_module_version": "1.2.0",
       "_view_module_version": "1.2.0",
       "flex": "2",
       "justify_items": null,
       "object_fit": null,
       "object_position": null
      }
     },
     "1c5ee9db36524719b6b1ce27dedafb30": {
      "model_module": "@jupyter-widgets/base",
      "model_module_version": "1.2.0",
      "model_name": "LayoutModel",
      "state": {
       "_model_module_version": "1.2.0",
       "_view_module_version": "1.2.0",
       "flex": "2",
       "justify_items": null,
       "object_fit": null,
       "object_position": null
      }
     },
     "1f87165613ee472d8b410f57945fd839": {
      "model_module": "@jupyter-widgets/controls",
      "model_module_version": "1.5.0",
      "model_name": "ProgressStyleModel",
      "state": {
       "_model_module_version": "1.5.0",
       "_view_module_version": "1.2.0",
       "description_width": "initial"
      }
     },
     "1ff7255f251f418396d90543bc099907": {
      "model_module": "@jupyter-widgets/controls",
      "model_module_version": "1.5.0",
      "model_name": "HTMLModel",
      "state": {
       "_model_module_version": "1.5.0",
       "_view_module_version": "1.5.0",
       "layout": "IPY_MODEL_21eb893e24f548a092cab57fec602265",
       "style": "IPY_MODEL_e9fead85e8f24038a1fcff557e1d24e7",
       "value": " ETA: 00:00s - loss: 0.0301 - val_loss: 0.0289"
      }
     },
     "21eb893e24f548a092cab57fec602265": {
      "model_module": "@jupyter-widgets/base",
      "model_module_version": "1.2.0",
      "model_name": "LayoutModel",
      "state": {
       "_model_module_version": "1.2.0",
       "_view_module_version": "1.2.0",
       "justify_items": null,
       "object_fit": null,
       "object_position": null
      }
     },
     "2209b29c2c6b4d37916c8a71f2dc968a": {
      "model_module": "@jupyter-widgets/controls",
      "model_module_version": "1.5.0",
      "model_name": "ProgressStyleModel",
      "state": {
       "_model_module_version": "1.5.0",
       "_view_module_version": "1.2.0",
       "description_width": "initial"
      }
     },
     "22b58f64d6e14bfb966197acca33a4f5": {
      "model_module": "@jupyter-widgets/base",
      "model_module_version": "1.2.0",
      "model_name": "LayoutModel",
      "state": {
       "_model_module_version": "1.2.0",
       "_view_module_version": "1.2.0",
       "display": "inline-flex",
       "flex_flow": "row wrap",
       "justify_items": null,
       "object_fit": null,
       "object_position": null,
       "width": "100%"
      }
     },
     "242fc7c50ef247c5afb8ec93a0327bbf": {
      "model_module": "@jupyter-widgets/controls",
      "model_module_version": "1.5.0",
      "model_name": "DescriptionStyleModel",
      "state": {
       "_model_module_version": "1.5.0",
       "_view_module_version": "1.2.0",
       "description_width": ""
      }
     },
     "24ee823c166c4d3da1261909cf0e192e": {
      "model_module": "@jupyter-widgets/controls",
      "model_module_version": "1.5.0",
      "model_name": "HTMLModel",
      "state": {
       "_model_module_version": "1.5.0",
       "_view_module_version": "1.5.0",
       "layout": "IPY_MODEL_cf398af0455e4773a5e125c02a37dc98",
       "style": "IPY_MODEL_fba00d7d579a41e38577e80610224f9d",
       "value": " ETA: 00:00s - loss: 0.0390 - val_loss: 0.0336"
      }
     },
     "2576faf6b516499192fcd43d7cc08d86": {
      "model_module": "@jupyter-widgets/controls",
      "model_module_version": "1.5.0",
      "model_name": "HBoxModel",
      "state": {
       "_model_module_version": "1.5.0",
       "_view_module_version": "1.5.0",
       "children": [
        "IPY_MODEL_9a00c133d3a14404af670f3a227c665d",
        "IPY_MODEL_f474470144c44087921d539c58c1a816"
       ],
       "layout": "IPY_MODEL_8d376f0cd8b54c2a9e47a78abcb4f4c3"
      }
     },
     "25df71e80c41442f90f7d0dc4900335e": {
      "model_module": "@jupyter-widgets/controls",
      "model_module_version": "1.5.0",
      "model_name": "FloatProgressModel",
      "state": {
       "_model_module_version": "1.5.0",
       "_view_module_version": "1.5.0",
       "bar_style": "success",
       "description": "5625/5625",
       "layout": "IPY_MODEL_be89a311cf74422fafef392ff58f93fd",
       "max": 5625,
       "style": "IPY_MODEL_d4c7ef1834c14b909a67be153f0a980e",
       "value": 5625
      }
     },
     "25df87b1c9794dca8084f0ce53af942d": {
      "model_module": "@jupyter-widgets/controls",
      "model_module_version": "1.5.0",
      "model_name": "DescriptionStyleModel",
      "state": {
       "_model_module_version": "1.5.0",
       "_view_module_version": "1.2.0",
       "description_width": ""
      }
     },
     "27c3975f1bad45cea767702a6ed19858": {
      "model_module": "@jupyter-widgets/controls",
      "model_module_version": "1.5.0",
      "model_name": "DescriptionStyleModel",
      "state": {
       "_model_module_version": "1.5.0",
       "_view_module_version": "1.2.0",
       "description_width": ""
      }
     },
     "27e52a9aa77943f7a20137d00e1b0f4f": {
      "model_module": "@jupyter-widgets/controls",
      "model_module_version": "1.5.0",
      "model_name": "HBoxModel",
      "state": {
       "_model_module_version": "1.5.0",
       "_view_module_version": "1.5.0",
       "children": [
        "IPY_MODEL_5c171ca54e2a4a6cb3b8d8b974f873ce",
        "IPY_MODEL_0e2a989f1ece4a15922ace3faa322334"
       ],
       "layout": "IPY_MODEL_9d2b0d67414a4b1c9e2c7585f206d774"
      }
     },
     "27f5464a5fcc4f1a96972421fe5f4254": {
      "model_module": "@jupyter-widgets/controls",
      "model_module_version": "1.5.0",
      "model_name": "DescriptionStyleModel",
      "state": {
       "_model_module_version": "1.5.0",
       "_view_module_version": "1.2.0",
       "description_width": ""
      }
     },
     "28a065756b4a47c0a50f0f369dd3f548": {
      "model_module": "@jupyter-widgets/controls",
      "model_module_version": "1.5.0",
      "model_name": "HBoxModel",
      "state": {
       "_model_module_version": "1.5.0",
       "_view_module_version": "1.5.0",
       "children": [
        "IPY_MODEL_45fd61c9fe264420805391458dbcbb3f",
        "IPY_MODEL_6aa9075fbea44f5d90c626fdbd47e2c1"
       ],
       "layout": "IPY_MODEL_a8acf985a17c4c53a24a81111219c86a"
      }
     },
     "291e360cf0b14117bcf132ffb0aaa1b0": {
      "model_module": "@jupyter-widgets/controls",
      "model_module_version": "1.5.0",
      "model_name": "HBoxModel",
      "state": {
       "_model_module_version": "1.5.0",
       "_view_module_version": "1.5.0",
       "children": [
        "IPY_MODEL_cfa1e42b075148d5b60804e5b7eaf515",
        "IPY_MODEL_5e4f9525239141fe80aeeede5a615ff1"
       ],
       "layout": "IPY_MODEL_165d268d96254d519a00af8147881d75"
      }
     },
     "298f5d26ab3e404fae8146aeba95e93a": {
      "model_module": "@jupyter-widgets/base",
      "model_module_version": "1.2.0",
      "model_name": "LayoutModel",
      "state": {
       "_model_module_version": "1.2.0",
       "_view_module_version": "1.2.0",
       "justify_items": null,
       "object_fit": null,
       "object_position": null
      }
     },
     "2d4bc60e1a0c4fd083ff995945d40fb8": {
      "model_module": "@jupyter-widgets/base",
      "model_module_version": "1.2.0",
      "model_name": "LayoutModel",
      "state": {
       "_model_module_version": "1.2.0",
       "_view_module_version": "1.2.0",
       "display": "inline-flex",
       "flex_flow": "row wrap",
       "justify_items": null,
       "object_fit": null,
       "object_position": null,
       "width": "100%"
      }
     },
     "2e57f36777d749b688abd85bbf9adce0": {
      "model_module": "@jupyter-widgets/controls",
      "model_module_version": "1.5.0",
      "model_name": "FloatProgressModel",
      "state": {
       "_model_module_version": "1.5.0",
       "_view_module_version": "1.5.0",
       "bar_style": "success",
       "description": "5625/5625",
       "layout": "IPY_MODEL_6af31d0bc9d74563bc400abf15672ff4",
       "max": 5625,
       "style": "IPY_MODEL_0805b0059a4d401696282e12a0003435",
       "value": 5625
      }
     },
     "2fc4fe06a8d64195ad9ba38b228b8490": {
      "model_module": "@jupyter-widgets/controls",
      "model_module_version": "1.5.0",
      "model_name": "ProgressStyleModel",
      "state": {
       "_model_module_version": "1.5.0",
       "_view_module_version": "1.2.0",
       "description_width": "initial"
      }
     },
     "2fe194a2cd654c30a8fd6d16bd60b763": {
      "model_module": "@jupyter-widgets/controls",
      "model_module_version": "1.5.0",
      "model_name": "HBoxModel",
      "state": {
       "_model_module_version": "1.5.0",
       "_view_module_version": "1.5.0",
       "children": [
        "IPY_MODEL_36e736a01ca64720a55d07e4dc2f51a0",
        "IPY_MODEL_999c38b9819f4efd929501bc8386e1a3"
       ],
       "layout": "IPY_MODEL_eeca7bec7b2941f180afcfb78d2d4c27"
      }
     },
     "300d55afbf134a6caa5a2807ec785e59": {
      "model_module": "@jupyter-widgets/controls",
      "model_module_version": "1.5.0",
      "model_name": "DescriptionStyleModel",
      "state": {
       "_model_module_version": "1.5.0",
       "_view_module_version": "1.2.0",
       "description_width": ""
      }
     },
     "32c1189cf90b4c2d9e6f81798a9ade2d": {
      "model_module": "@jupyter-widgets/controls",
      "model_module_version": "1.5.0",
      "model_name": "HBoxModel",
      "state": {
       "_model_module_version": "1.5.0",
       "_view_module_version": "1.5.0",
       "children": [
        "IPY_MODEL_816c13c78fe649128a03b98b9c3f82e7",
        "IPY_MODEL_a736687d0a944b7aaf8886aadaa2735a"
       ],
       "layout": "IPY_MODEL_c6a8f13248874ef6ab1152d6c88d141e"
      }
     },
     "33ea44ba18164449bcb07fc6bffe04cf": {
      "model_module": "@jupyter-widgets/controls",
      "model_module_version": "1.5.0",
      "model_name": "ProgressStyleModel",
      "state": {
       "_model_module_version": "1.5.0",
       "_view_module_version": "1.2.0",
       "description_width": "initial"
      }
     },
     "343605154d4d4450bb5c7525522247d1": {
      "model_module": "@jupyter-widgets/controls",
      "model_module_version": "1.5.0",
      "model_name": "HTMLModel",
      "state": {
       "_model_module_version": "1.5.0",
       "_view_module_version": "1.5.0",
       "layout": "IPY_MODEL_749199b0f053480d8ec8340c4cbc4fca",
       "style": "IPY_MODEL_19de7e71cbd9425aa9776d0872df0f6f",
       "value": " ETA: 00:00s - loss: 0.0291 - val_loss: 0.0291"
      }
     },
     "36972c4e0abe45a782326819a9d48d16": {
      "model_module": "@jupyter-widgets/controls",
      "model_module_version": "1.5.0",
      "model_name": "HBoxModel",
      "state": {
       "_model_module_version": "1.5.0",
       "_view_module_version": "1.5.0",
       "children": [
        "IPY_MODEL_dc7a5a9946e5471d940b2fcdf450e52f",
        "IPY_MODEL_39af73c27da745a08f50a56c10975452"
       ],
       "layout": "IPY_MODEL_4db103d79cdb4fd3a5b78c030fb544dd"
      }
     },
     "36e736a01ca64720a55d07e4dc2f51a0": {
      "model_module": "@jupyter-widgets/controls",
      "model_module_version": "1.5.0",
      "model_name": "FloatProgressModel",
      "state": {
       "_model_module_version": "1.5.0",
       "_view_module_version": "1.5.0",
       "bar_style": "success",
       "description": "5625/5625",
       "layout": "IPY_MODEL_b0cdfd6b367a43d4b01d8827389e3af6",
       "max": 5625,
       "style": "IPY_MODEL_f18a100d010846d6b4075f6d561a1616",
       "value": 5625
      }
     },
     "38564364e0a64685aa7aed253c544f51": {
      "model_module": "@jupyter-widgets/controls",
      "model_module_version": "1.5.0",
      "model_name": "ProgressStyleModel",
      "state": {
       "_model_module_version": "1.5.0",
       "_view_module_version": "1.2.0",
       "description_width": "initial"
      }
     },
     "39af73c27da745a08f50a56c10975452": {
      "model_module": "@jupyter-widgets/controls",
      "model_module_version": "1.5.0",
      "model_name": "HTMLModel",
      "state": {
       "_model_module_version": "1.5.0",
       "_view_module_version": "1.5.0",
       "layout": "IPY_MODEL_92e93da2fefe4edeb9b5e80dee5428ec",
       "style": "IPY_MODEL_736f3067814c498f933e3d1a86115e4d",
       "value": " ETA: 00:00s - loss: 0.0308 - val_loss: 0.0301"
      }
     },
     "3b2f0e64678d41c19174a0e95aec1092": {
      "model_module": "@jupyter-widgets/controls",
      "model_module_version": "1.5.0",
      "model_name": "DescriptionStyleModel",
      "state": {
       "_model_module_version": "1.5.0",
       "_view_module_version": "1.2.0",
       "description_width": ""
      }
     },
     "3c387fab0a2a4971a3e11776ab515a99": {
      "model_module": "@jupyter-widgets/controls",
      "model_module_version": "1.5.0",
      "model_name": "HBoxModel",
      "state": {
       "_model_module_version": "1.5.0",
       "_view_module_version": "1.5.0",
       "children": [
        "IPY_MODEL_d885a998549c45ae8765a5155cfaae43",
        "IPY_MODEL_c0957933fdc840928baacc7d799363a9"
       ],
       "layout": "IPY_MODEL_f2e43cb25b8e44dabce9d2bde064eacd"
      }
     },
     "3c6887ead69647bc8beb8a25a964f493": {
      "model_module": "@jupyter-widgets/base",
      "model_module_version": "1.2.0",
      "model_name": "LayoutModel",
      "state": {
       "_model_module_version": "1.2.0",
       "_view_module_version": "1.2.0",
       "display": "inline-flex",
       "flex_flow": "row wrap",
       "justify_items": null,
       "object_fit": null,
       "object_position": null,
       "width": "100%"
      }
     },
     "3e1fe62263854374b71c07b89176b910": {
      "model_module": "@jupyter-widgets/controls",
      "model_module_version": "1.5.0",
      "model_name": "ProgressStyleModel",
      "state": {
       "_model_module_version": "1.5.0",
       "_view_module_version": "1.2.0",
       "description_width": "initial"
      }
     },
     "3e60fde39d2540f1b26685eb3b267f62": {
      "model_module": "@jupyter-widgets/base",
      "model_module_version": "1.2.0",
      "model_name": "LayoutModel",
      "state": {
       "_model_module_version": "1.2.0",
       "_view_module_version": "1.2.0",
       "display": "inline-flex",
       "flex_flow": "row wrap",
       "justify_items": null,
       "object_fit": null,
       "object_position": null,
       "width": "100%"
      }
     },
     "3e79d9eadbc548628d27134042205f2d": {
      "model_module": "@jupyter-widgets/controls",
      "model_module_version": "1.5.0",
      "model_name": "FloatProgressModel",
      "state": {
       "_model_module_version": "1.5.0",
       "_view_module_version": "1.5.0",
       "bar_style": "success",
       "description": "5625/5625",
       "layout": "IPY_MODEL_04d6a4a463334597a20adf3018a78185",
       "max": 5625,
       "style": "IPY_MODEL_668e2d0abd5045fe85755d4443e667e8",
       "value": 5625
      }
     },
     "40655ec7f4ef407693b82dd4d73cc5fe": {
      "model_module": "@jupyter-widgets/base",
      "model_module_version": "1.2.0",
      "model_name": "LayoutModel",
      "state": {
       "_model_module_version": "1.2.0",
       "_view_module_version": "1.2.0",
       "flex": "2",
       "justify_items": null,
       "object_fit": null,
       "object_position": null
      }
     },
     "4159a999c2de4112ba659170d6adbd9e": {
      "model_module": "@jupyter-widgets/controls",
      "model_module_version": "1.5.0",
      "model_name": "ProgressStyleModel",
      "state": {
       "_model_module_version": "1.5.0",
       "_view_module_version": "1.2.0",
       "description_width": "initial"
      }
     },
     "41a5671a7ee441deb3f6d1b881ee4c3e": {
      "model_module": "@jupyter-widgets/base",
      "model_module_version": "1.2.0",
      "model_name": "LayoutModel",
      "state": {
       "_model_module_version": "1.2.0",
       "_view_module_version": "1.2.0",
       "flex": "2",
       "justify_items": null,
       "object_fit": null,
       "object_position": null
      }
     },
     "41b9edb0b9b246559fa5e17affb9dbf4": {
      "model_module": "@jupyter-widgets/base",
      "model_module_version": "1.2.0",
      "model_name": "LayoutModel",
      "state": {
       "_model_module_version": "1.2.0",
       "_view_module_version": "1.2.0",
       "justify_items": null,
       "object_fit": null,
       "object_position": null
      }
     },
     "42d0bfcb47be4d179b0ff1c19e134cd3": {
      "model_module": "@jupyter-widgets/base",
      "model_module_version": "1.2.0",
      "model_name": "LayoutModel",
      "state": {
       "_model_module_version": "1.2.0",
       "_view_module_version": "1.2.0",
       "flex": "2",
       "justify_items": null,
       "object_fit": null,
       "object_position": null
      }
     },
     "433223548b4348d9b25c343c3b5f52c0": {
      "model_module": "@jupyter-widgets/controls",
      "model_module_version": "1.5.0",
      "model_name": "HTMLModel",
      "state": {
       "_model_module_version": "1.5.0",
       "_view_module_version": "1.5.0",
       "layout": "IPY_MODEL_54f530cf9e904540b9d5a4c5b16e0d17",
       "style": "IPY_MODEL_fcb0b90db042495cb91de653b57f8524",
       "value": " ETA: 00:00s - loss: 0.0298 - val_loss: 0.0291"
      }
     },
     "43c464bd64644df29bf8ff1368e8cc14": {
      "model_module": "@jupyter-widgets/base",
      "model_module_version": "1.2.0",
      "model_name": "LayoutModel",
      "state": {
       "_model_module_version": "1.2.0",
       "_view_module_version": "1.2.0",
       "flex": "2",
       "justify_items": null,
       "object_fit": null,
       "object_position": null
      }
     },
     "45fd61c9fe264420805391458dbcbb3f": {
      "model_module": "@jupyter-widgets/controls",
      "model_module_version": "1.5.0",
      "model_name": "FloatProgressModel",
      "state": {
       "_model_module_version": "1.5.0",
       "_view_module_version": "1.5.0",
       "bar_style": "success",
       "description": "5625/5625",
       "layout": "IPY_MODEL_81e600fc68a84da09b1d41e06a298537",
       "max": 5625,
       "style": "IPY_MODEL_33ea44ba18164449bcb07fc6bffe04cf",
       "value": 5625
      }
     },
     "47414b893bf84f1fb3c845b93a0bd6bf": {
      "model_module": "@jupyter-widgets/controls",
      "model_module_version": "1.5.0",
      "model_name": "DescriptionStyleModel",
      "state": {
       "_model_module_version": "1.5.0",
       "_view_module_version": "1.2.0",
       "description_width": ""
      }
     },
     "478c29819e624e5081d6672dc8cfd0b4": {
      "model_module": "@jupyter-widgets/controls",
      "model_module_version": "1.5.0",
      "model_name": "DescriptionStyleModel",
      "state": {
       "_model_module_version": "1.5.0",
       "_view_module_version": "1.2.0",
       "description_width": ""
      }
     },
     "482d5669f0d34346a2b35dffe8a1ae32": {
      "model_module": "@jupyter-widgets/controls",
      "model_module_version": "1.5.0",
      "model_name": "HTMLModel",
      "state": {
       "_model_module_version": "1.5.0",
       "_view_module_version": "1.5.0",
       "layout": "IPY_MODEL_ab135f0a6ad9489cb88a77e350542d25",
       "style": "IPY_MODEL_a9853a8b1e7e41eb8bba1425958a360f",
       "value": " ETA: 00:00s - loss: 0.0291 - val_loss: 0.0286"
      }
     },
     "48be82182ae148f5848f8f6ef54598cb": {
      "model_module": "@jupyter-widgets/controls",
      "model_module_version": "1.5.0",
      "model_name": "HTMLModel",
      "state": {
       "_model_module_version": "1.5.0",
       "_view_module_version": "1.5.0",
       "layout": "IPY_MODEL_83e303e641c04cb0bd2537f75bc9d934",
       "style": "IPY_MODEL_edb4455d02f64fa4ae53e4b981ae3c1e",
       "value": " ETA: 00:00s - loss: 0.0292 - val_loss: 0.0292"
      }
     },
     "492cca2eaa294a0385375f68c3fdb55d": {
      "model_module": "@jupyter-widgets/base",
      "model_module_version": "1.2.0",
      "model_name": "LayoutModel",
      "state": {
       "_model_module_version": "1.2.0",
       "_view_module_version": "1.2.0",
       "display": "inline-flex",
       "flex_flow": "row wrap",
       "justify_items": null,
       "object_fit": null,
       "object_position": null,
       "width": "100%"
      }
     },
     "4952a1b928d542d69e884aecc3a4da35": {
      "model_module": "@jupyter-widgets/controls",
      "model_module_version": "1.5.0",
      "model_name": "ProgressStyleModel",
      "state": {
       "_model_module_version": "1.5.0",
       "_view_module_version": "1.2.0",
       "description_width": "initial"
      }
     },
     "4a515f7d993a4528b44c38ced61b1d80": {
      "model_module": "@jupyter-widgets/controls",
      "model_module_version": "1.5.0",
      "model_name": "HBoxModel",
      "state": {
       "_model_module_version": "1.5.0",
       "_view_module_version": "1.5.0",
       "children": [
        "IPY_MODEL_4aeb9ae7462241f6af886dcd2dfd8002",
        "IPY_MODEL_c41a0908bc964afaac3980045592ef73"
       ],
       "layout": "IPY_MODEL_f5d5cc4df1924159aaef9aa45675ea0c"
      }
     },
     "4aeb9ae7462241f6af886dcd2dfd8002": {
      "model_module": "@jupyter-widgets/controls",
      "model_module_version": "1.5.0",
      "model_name": "FloatProgressModel",
      "state": {
       "_model_module_version": "1.5.0",
       "_view_module_version": "1.5.0",
       "bar_style": "success",
       "description": "5625/5625",
       "layout": "IPY_MODEL_e9440893fc014c0588dcf2c247dcf997",
       "max": 5625,
       "style": "IPY_MODEL_6892750d03d84619b7156d6f0ff7c3fd",
       "value": 5625
      }
     },
     "4b60831a43d94909be898be05623aaf0": {
      "model_module": "@jupyter-widgets/controls",
      "model_module_version": "1.5.0",
      "model_name": "FloatProgressModel",
      "state": {
       "_model_module_version": "1.5.0",
       "_view_module_version": "1.5.0",
       "bar_style": "success",
       "description": "5625/5625",
       "layout": "IPY_MODEL_d241462de505474685954235da12f84d",
       "max": 5625,
       "style": "IPY_MODEL_38564364e0a64685aa7aed253c544f51",
       "value": 5625
      }
     },
     "4b77fa5cd033470e834b0dccad4552c6": {
      "model_module": "@jupyter-widgets/base",
      "model_module_version": "1.2.0",
      "model_name": "LayoutModel",
      "state": {
       "_model_module_version": "1.2.0",
       "_view_module_version": "1.2.0",
       "flex": "2",
       "justify_items": null,
       "object_fit": null,
       "object_position": null
      }
     },
     "4c0a168eb421406eb6de18a6e8bc31ec": {
      "model_module": "@jupyter-widgets/controls",
      "model_module_version": "1.5.0",
      "model_name": "FloatProgressModel",
      "state": {
       "_model_module_version": "1.5.0",
       "_view_module_version": "1.5.0",
       "bar_style": "success",
       "description": "5625/5625",
       "layout": "IPY_MODEL_fef3ae30b90e411c868afc8bda7adb1c",
       "max": 5625,
       "style": "IPY_MODEL_9f06a1ea2d2a4a6fb16d77b774dbd83d",
       "value": 5625
      }
     },
     "4c7cfd7f3f4c461bb9f9bd0dc2cf3951": {
      "model_module": "@jupyter-widgets/base",
      "model_module_version": "1.2.0",
      "model_name": "LayoutModel",
      "state": {
       "_model_module_version": "1.2.0",
       "_view_module_version": "1.2.0",
       "flex": "2",
       "justify_items": null,
       "object_fit": null,
       "object_position": null
      }
     },
     "4db103d79cdb4fd3a5b78c030fb544dd": {
      "model_module": "@jupyter-widgets/base",
      "model_module_version": "1.2.0",
      "model_name": "LayoutModel",
      "state": {
       "_model_module_version": "1.2.0",
       "_view_module_version": "1.2.0",
       "display": "inline-flex",
       "flex_flow": "row wrap",
       "justify_items": null,
       "object_fit": null,
       "object_position": null,
       "width": "100%"
      }
     },
     "4dc321a7a2ad433b858bcf8937a9dbd5": {
      "model_module": "@jupyter-widgets/base",
      "model_module_version": "1.2.0",
      "model_name": "LayoutModel",
      "state": {
       "_model_module_version": "1.2.0",
       "_view_module_version": "1.2.0",
       "justify_items": null,
       "object_fit": null,
       "object_position": null
      }
     },
     "50489e049bd248cfbd644e07d2e1440e": {
      "model_module": "@jupyter-widgets/controls",
      "model_module_version": "1.5.0",
      "model_name": "HTMLModel",
      "state": {
       "_model_module_version": "1.5.0",
       "_view_module_version": "1.5.0",
       "layout": "IPY_MODEL_153d29cc92f9463197249b5ed674dbe4",
       "style": "IPY_MODEL_27f5464a5fcc4f1a96972421fe5f4254",
       "value": " ETA: 00:00s - loss: 0.0290 - val_loss: 0.0285"
      }
     },
     "505b4d9fa32d42e88b314aa566508269": {
      "model_module": "@jupyter-widgets/base",
      "model_module_version": "1.2.0",
      "model_name": "LayoutModel",
      "state": {
       "_model_module_version": "1.2.0",
       "_view_module_version": "1.2.0",
       "flex": "2",
       "justify_items": null,
       "object_fit": null,
       "object_position": null
      }
     },
     "54521df4662241b0a2fb77b70799ddd1": {
      "model_module": "@jupyter-widgets/controls",
      "model_module_version": "1.5.0",
      "model_name": "ProgressStyleModel",
      "state": {
       "_model_module_version": "1.5.0",
       "_view_module_version": "1.2.0",
       "description_width": "initial"
      }
     },
     "548b7b64a9c74d618cf04defc349d10c": {
      "model_module": "@jupyter-widgets/base",
      "model_module_version": "1.2.0",
      "model_name": "LayoutModel",
      "state": {
       "_model_module_version": "1.2.0",
       "_view_module_version": "1.2.0",
       "display": "inline-flex",
       "flex_flow": "row wrap",
       "justify_items": null,
       "object_fit": null,
       "object_position": null,
       "width": "100%"
      }
     },
     "54f530cf9e904540b9d5a4c5b16e0d17": {
      "model_module": "@jupyter-widgets/base",
      "model_module_version": "1.2.0",
      "model_name": "LayoutModel",
      "state": {
       "_model_module_version": "1.2.0",
       "_view_module_version": "1.2.0",
       "justify_items": null,
       "object_fit": null,
       "object_position": null
      }
     },
     "5624cfc924e74665a1d3ea912e2dc285": {
      "model_module": "@jupyter-widgets/base",
      "model_module_version": "1.2.0",
      "model_name": "LayoutModel",
      "state": {
       "_model_module_version": "1.2.0",
       "_view_module_version": "1.2.0",
       "display": "inline-flex",
       "flex_flow": "row wrap",
       "justify_items": null,
       "object_fit": null,
       "object_position": null,
       "width": "100%"
      }
     },
     "56c0f08abd7e4893844eb44c951b79d4": {
      "model_module": "@jupyter-widgets/base",
      "model_module_version": "1.2.0",
      "model_name": "LayoutModel",
      "state": {
       "_model_module_version": "1.2.0",
       "_view_module_version": "1.2.0",
       "display": "inline-flex",
       "flex_flow": "row wrap",
       "justify_items": null,
       "object_fit": null,
       "object_position": null,
       "width": "100%"
      }
     },
     "56d3af39c69845faa4d359e105ccdaa9": {
      "model_module": "@jupyter-widgets/controls",
      "model_module_version": "1.5.0",
      "model_name": "HTMLModel",
      "state": {
       "_model_module_version": "1.5.0",
       "_view_module_version": "1.5.0",
       "layout": "IPY_MODEL_d7a5bf49334a45d2b365d141a99bc1aa",
       "style": "IPY_MODEL_47414b893bf84f1fb3c845b93a0bd6bf",
       "value": " ETA: 00:00s - loss: 0.0316 - val_loss: 0.0306"
      }
     },
     "5704b9fee0ea4b0cbe747f92fa4304e4": {
      "model_module": "@jupyter-widgets/controls",
      "model_module_version": "1.5.0",
      "model_name": "HBoxModel",
      "state": {
       "_model_module_version": "1.5.0",
       "_view_module_version": "1.5.0",
       "children": [
        "IPY_MODEL_25df71e80c41442f90f7d0dc4900335e",
        "IPY_MODEL_fe1b9df09ae74c38a424fe3d0b546ad1"
       ],
       "layout": "IPY_MODEL_a0caf97dd2154d3396b5d79c75b7b68d"
      }
     },
     "578a4639e6a24843a260d98e6eb473c9": {
      "model_module": "@jupyter-widgets/base",
      "model_module_version": "1.2.0",
      "model_name": "LayoutModel",
      "state": {
       "_model_module_version": "1.2.0",
       "_view_module_version": "1.2.0",
       "justify_items": null,
       "object_fit": null,
       "object_position": null
      }
     },
     "589b59c0ed224995b69ca7b2be969f35": {
      "model_module": "@jupyter-widgets/controls",
      "model_module_version": "1.5.0",
      "model_name": "DescriptionStyleModel",
      "state": {
       "_model_module_version": "1.5.0",
       "_view_module_version": "1.2.0",
       "description_width": ""
      }
     },
     "59854537769a4ef1828730b5ea7d5d55": {
      "model_module": "@jupyter-widgets/controls",
      "model_module_version": "1.5.0",
      "model_name": "FloatProgressModel",
      "state": {
       "_model_module_version": "1.5.0",
       "_view_module_version": "1.5.0",
       "bar_style": "success",
       "description": "5625/5625",
       "layout": "IPY_MODEL_f80969384dca42fda6cc2591f230c09a",
       "max": 5625,
       "style": "IPY_MODEL_d851e5ce052a4ff680d96bd235956bf2",
       "value": 5625
      }
     },
     "5a3ef847f0394162a5ef9cb38935e31a": {
      "model_module": "@jupyter-widgets/controls",
      "model_module_version": "1.5.0",
      "model_name": "DescriptionStyleModel",
      "state": {
       "_model_module_version": "1.5.0",
       "_view_module_version": "1.2.0",
       "description_width": ""
      }
     },
     "5a567dbd6b1f4a9188a4d6bd21599fdc": {
      "model_module": "@jupyter-widgets/controls",
      "model_module_version": "1.5.0",
      "model_name": "ProgressStyleModel",
      "state": {
       "_model_module_version": "1.5.0",
       "_view_module_version": "1.2.0",
       "description_width": "initial"
      }
     },
     "5a8d464b458b46598e67bf1c8257cb93": {
      "model_module": "@jupyter-widgets/base",
      "model_module_version": "1.2.0",
      "model_name": "LayoutModel",
      "state": {
       "_model_module_version": "1.2.0",
       "_view_module_version": "1.2.0",
       "flex": "2",
       "justify_items": null,
       "object_fit": null,
       "object_position": null
      }
     },
     "5b5793deabb0443988551d4d39c05f8d": {
      "model_module": "@jupyter-widgets/controls",
      "model_module_version": "1.5.0",
      "model_name": "DescriptionStyleModel",
      "state": {
       "_model_module_version": "1.5.0",
       "_view_module_version": "1.2.0",
       "description_width": ""
      }
     },
     "5c171ca54e2a4a6cb3b8d8b974f873ce": {
      "model_module": "@jupyter-widgets/controls",
      "model_module_version": "1.5.0",
      "model_name": "FloatProgressModel",
      "state": {
       "_model_module_version": "1.5.0",
       "_view_module_version": "1.5.0",
       "bar_style": "success",
       "description": "5625/5625",
       "layout": "IPY_MODEL_60272bea3e254c8bbde2a5c51e94ccac",
       "max": 5625,
       "style": "IPY_MODEL_aede6cee19ce4f9cb80c8a3e4e204fd3",
       "value": 5625
      }
     },
     "5e17b4cf7cf6438fa1d28e7ea1840655": {
      "model_module": "@jupyter-widgets/controls",
      "model_module_version": "1.5.0",
      "model_name": "HTMLModel",
      "state": {
       "_model_module_version": "1.5.0",
       "_view_module_version": "1.5.0",
       "layout": "IPY_MODEL_0edbedfc07cd452eb283bfe6a01eadd0",
       "style": "IPY_MODEL_66e1390bbad646ddbf075df65a061df2",
       "value": " ETA: 00:00s - loss: 0.0305 - val_loss: 0.0293"
      }
     },
     "5e4f9525239141fe80aeeede5a615ff1": {
      "model_module": "@jupyter-widgets/controls",
      "model_module_version": "1.5.0",
      "model_name": "HTMLModel",
      "state": {
       "_model_module_version": "1.5.0",
       "_view_module_version": "1.5.0",
       "layout": "IPY_MODEL_7c9a89f4a368468a95ab3c6d03b889ee",
       "style": "IPY_MODEL_fb4dfd30ae074c62aad345a519ff8004",
       "value": " ETA: 00:00s - loss: 0.0292 - val_loss: 0.0284"
      }
     },
     "5ee46132622147c2ae6d9817e0f30634": {
      "model_module": "@jupyter-widgets/base",
      "model_module_version": "1.2.0",
      "model_name": "LayoutModel",
      "state": {
       "_model_module_version": "1.2.0",
       "_view_module_version": "1.2.0",
       "display": "inline-flex",
       "flex_flow": "row wrap",
       "justify_items": null,
       "object_fit": null,
       "object_position": null,
       "width": "100%"
      }
     },
     "5f6f774428f24e9fa8a8c382d89f5381": {
      "model_module": "@jupyter-widgets/controls",
      "model_module_version": "1.5.0",
      "model_name": "HTMLModel",
      "state": {
       "_model_module_version": "1.5.0",
       "_view_module_version": "1.5.0",
       "layout": "IPY_MODEL_298f5d26ab3e404fae8146aeba95e93a",
       "style": "IPY_MODEL_ac9a09f2517c41e4bf8ed4ebcee59348",
       "value": " ETA: 00:00s - loss: 0.0295 - val_loss: 0.0293"
      }
     },
     "5fc6640091f744d8ab102e0f6298cd70": {
      "model_module": "@jupyter-widgets/controls",
      "model_module_version": "1.5.0",
      "model_name": "ProgressStyleModel",
      "state": {
       "_model_module_version": "1.5.0",
       "_view_module_version": "1.2.0",
       "description_width": "initial"
      }
     },
     "60272bea3e254c8bbde2a5c51e94ccac": {
      "model_module": "@jupyter-widgets/base",
      "model_module_version": "1.2.0",
      "model_name": "LayoutModel",
      "state": {
       "_model_module_version": "1.2.0",
       "_view_module_version": "1.2.0",
       "flex": "2",
       "justify_items": null,
       "object_fit": null,
       "object_position": null
      }
     },
     "615daf6e7c7148b2aec49adac705fe4e": {
      "model_module": "@jupyter-widgets/controls",
      "model_module_version": "1.5.0",
      "model_name": "DescriptionStyleModel",
      "state": {
       "_model_module_version": "1.5.0",
       "_view_module_version": "1.2.0",
       "description_width": ""
      }
     },
     "61795b868de84931a6738bf209e33e8f": {
      "model_module": "@jupyter-widgets/base",
      "model_module_version": "1.2.0",
      "model_name": "LayoutModel",
      "state": {
       "_model_module_version": "1.2.0",
       "_view_module_version": "1.2.0",
       "flex": "2",
       "justify_items": null,
       "object_fit": null,
       "object_position": null
      }
     },
     "62138f0010544207923de1b016a72255": {
      "model_module": "@jupyter-widgets/controls",
      "model_module_version": "1.5.0",
      "model_name": "HTMLModel",
      "state": {
       "_model_module_version": "1.5.0",
       "_view_module_version": "1.5.0",
       "layout": "IPY_MODEL_be45b5940be14f628ec3ee66115b711b",
       "style": "IPY_MODEL_615daf6e7c7148b2aec49adac705fe4e",
       "value": " ETA: 00:00s - loss: 0.0294 - val_loss: 0.0288"
      }
     },
     "62a40b0a8bb24d9088b94e27fe936a4a": {
      "model_module": "@jupyter-widgets/controls",
      "model_module_version": "1.5.0",
      "model_name": "ProgressStyleModel",
      "state": {
       "_model_module_version": "1.5.0",
       "_view_module_version": "1.2.0",
       "description_width": "initial"
      }
     },
     "63c812d251724a199d42578b4f728aec": {
      "model_module": "@jupyter-widgets/controls",
      "model_module_version": "1.5.0",
      "model_name": "HBoxModel",
      "state": {
       "_model_module_version": "1.5.0",
       "_view_module_version": "1.5.0",
       "children": [
        "IPY_MODEL_3e79d9eadbc548628d27134042205f2d",
        "IPY_MODEL_6424877396ed4dc4ae9b3e8e62936612"
       ],
       "layout": "IPY_MODEL_f5ba373a2fcc4825ba022784a7f6a438"
      }
     },
     "6424877396ed4dc4ae9b3e8e62936612": {
      "model_module": "@jupyter-widgets/controls",
      "model_module_version": "1.5.0",
      "model_name": "HTMLModel",
      "state": {
       "_model_module_version": "1.5.0",
       "_view_module_version": "1.5.0",
       "layout": "IPY_MODEL_b602870c728849868c3a59e01871af8e",
       "style": "IPY_MODEL_ee593ead895b4040a215701c81f52228",
       "value": " ETA: 00:00s - loss: 0.0302 - val_loss: 0.0294"
      }
     },
     "64af299e32824001b48ed4944b0e4a8e": {
      "model_module": "@jupyter-widgets/controls",
      "model_module_version": "1.5.0",
      "model_name": "DescriptionStyleModel",
      "state": {
       "_model_module_version": "1.5.0",
       "_view_module_version": "1.2.0",
       "description_width": ""
      }
     },
     "668e2d0abd5045fe85755d4443e667e8": {
      "model_module": "@jupyter-widgets/controls",
      "model_module_version": "1.5.0",
      "model_name": "ProgressStyleModel",
      "state": {
       "_model_module_version": "1.5.0",
       "_view_module_version": "1.2.0",
       "description_width": "initial"
      }
     },
     "66dc907ea333474d9cd081807b52576b": {
      "model_module": "@jupyter-widgets/base",
      "model_module_version": "1.2.0",
      "model_name": "LayoutModel",
      "state": {
       "_model_module_version": "1.2.0",
       "_view_module_version": "1.2.0",
       "flex": "2",
       "justify_items": null,
       "object_fit": null,
       "object_position": null
      }
     },
     "66e1390bbad646ddbf075df65a061df2": {
      "model_module": "@jupyter-widgets/controls",
      "model_module_version": "1.5.0",
      "model_name": "DescriptionStyleModel",
      "state": {
       "_model_module_version": "1.5.0",
       "_view_module_version": "1.2.0",
       "description_width": ""
      }
     },
     "670a8d645e754bf1b46c39dd8e39ec9a": {
      "model_module": "@jupyter-widgets/base",
      "model_module_version": "1.2.0",
      "model_name": "LayoutModel",
      "state": {
       "_model_module_version": "1.2.0",
       "_view_module_version": "1.2.0",
       "flex": "2",
       "justify_items": null,
       "object_fit": null,
       "object_position": null
      }
     },
     "671f2cb6c8f84200957bd88db3bfecde": {
      "model_module": "@jupyter-widgets/controls",
      "model_module_version": "1.5.0",
      "model_name": "HBoxModel",
      "state": {
       "_model_module_version": "1.5.0",
       "_view_module_version": "1.5.0",
       "children": [
        "IPY_MODEL_7615e2c1ca904823b1df037ebf15c23f",
        "IPY_MODEL_56d3af39c69845faa4d359e105ccdaa9"
       ],
       "layout": "IPY_MODEL_a6ee6fed88844b4eb32dd027ab1d73f2"
      }
     },
     "67b80cfbdeb44a6cbdff7e85b89669ca": {
      "model_module": "@jupyter-widgets/base",
      "model_module_version": "1.2.0",
      "model_name": "LayoutModel",
      "state": {
       "_model_module_version": "1.2.0",
       "_view_module_version": "1.2.0",
       "flex": "2",
       "justify_items": null,
       "object_fit": null,
       "object_position": null
      }
     },
     "67c0ba8eae2b44ac905db18864ef271c": {
      "model_module": "@jupyter-widgets/controls",
      "model_module_version": "1.5.0",
      "model_name": "HBoxModel",
      "state": {
       "_model_module_version": "1.5.0",
       "_view_module_version": "1.5.0",
       "children": [
        "IPY_MODEL_eafebf1bb2504700adf2bad608d0dc47",
        "IPY_MODEL_50489e049bd248cfbd644e07d2e1440e"
       ],
       "layout": "IPY_MODEL_548b7b64a9c74d618cf04defc349d10c"
      }
     },
     "6892750d03d84619b7156d6f0ff7c3fd": {
      "model_module": "@jupyter-widgets/controls",
      "model_module_version": "1.5.0",
      "model_name": "ProgressStyleModel",
      "state": {
       "_model_module_version": "1.5.0",
       "_view_module_version": "1.2.0",
       "description_width": "initial"
      }
     },
     "69ffda3361384126b2c7d28cb5cd549f": {
      "model_module": "@jupyter-widgets/controls",
      "model_module_version": "1.5.0",
      "model_name": "DescriptionStyleModel",
      "state": {
       "_model_module_version": "1.5.0",
       "_view_module_version": "1.2.0",
       "description_width": ""
      }
     },
     "6aa9075fbea44f5d90c626fdbd47e2c1": {
      "model_module": "@jupyter-widgets/controls",
      "model_module_version": "1.5.0",
      "model_name": "HTMLModel",
      "state": {
       "_model_module_version": "1.5.0",
       "_view_module_version": "1.5.0",
       "layout": "IPY_MODEL_cd302dfde04f4520855d549f0e5d8424",
       "style": "IPY_MODEL_242fc7c50ef247c5afb8ec93a0327bbf",
       "value": " ETA: 00:00s - loss: 0.0292 - val_loss: 0.0287"
      }
     },
     "6ab3afd2fa54413aa5cee23e5033c0a1": {
      "model_module": "@jupyter-widgets/controls",
      "model_module_version": "1.5.0",
      "model_name": "HBoxModel",
      "state": {
       "_model_module_version": "1.5.0",
       "_view_module_version": "1.5.0",
       "children": [
        "IPY_MODEL_801b8e2b34484401867a15002ba4a2b0",
        "IPY_MODEL_f2f1997990634f888fd7e238c4249499"
       ],
       "layout": "IPY_MODEL_bd32b9f898ce4823a324acb4257b3e33"
      }
     },
     "6af31d0bc9d74563bc400abf15672ff4": {
      "model_module": "@jupyter-widgets/base",
      "model_module_version": "1.2.0",
      "model_name": "LayoutModel",
      "state": {
       "_model_module_version": "1.2.0",
       "_view_module_version": "1.2.0",
       "flex": "2",
       "justify_items": null,
       "object_fit": null,
       "object_position": null
      }
     },
     "6edfb2f2a69242779a319bb0bc5a051a": {
      "model_module": "@jupyter-widgets/controls",
      "model_module_version": "1.5.0",
      "model_name": "HBoxModel",
      "state": {
       "_model_module_version": "1.5.0",
       "_view_module_version": "1.5.0",
       "children": [
        "IPY_MODEL_ce437f5a903a43adbd13ed007c5c59bc",
        "IPY_MODEL_bdeb502cc5ac48dcb2a4fa1de667dd1d"
       ],
       "layout": "IPY_MODEL_2d4bc60e1a0c4fd083ff995945d40fb8"
      }
     },
     "6f595918ab644fd9a8ef3bb7077c5fa7": {
      "model_module": "@jupyter-widgets/controls",
      "model_module_version": "1.5.0",
      "model_name": "FloatProgressModel",
      "state": {
       "_model_module_version": "1.5.0",
       "_view_module_version": "1.5.0",
       "bar_style": "success",
       "description": "5625/5625",
       "layout": "IPY_MODEL_a162cd30431a4e9a8eebd16aa8035346",
       "max": 5625,
       "style": "IPY_MODEL_e6a465424623435981d3825c3143a7e7",
       "value": 5625
      }
     },
     "6fbbc4de94044b72badf36215b34fe80": {
      "model_module": "@jupyter-widgets/controls",
      "model_module_version": "1.5.0",
      "model_name": "DescriptionStyleModel",
      "state": {
       "_model_module_version": "1.5.0",
       "_view_module_version": "1.2.0",
       "description_width": ""
      }
     },
     "708b937b92324d77b29f40967fcbdfb8": {
      "model_module": "@jupyter-widgets/base",
      "model_module_version": "1.2.0",
      "model_name": "LayoutModel",
      "state": {
       "_model_module_version": "1.2.0",
       "_view_module_version": "1.2.0",
       "justify_items": null,
       "object_fit": null,
       "object_position": null
      }
     },
     "70cbe29749914f0a916a8cef310d6a3c": {
      "model_module": "@jupyter-widgets/controls",
      "model_module_version": "1.5.0",
      "model_name": "HBoxModel",
      "state": {
       "_model_module_version": "1.5.0",
       "_view_module_version": "1.5.0",
       "children": [
        "IPY_MODEL_4b60831a43d94909be898be05623aaf0",
        "IPY_MODEL_1aea5dc6a6574dfd9843b64f7cfcd024"
       ],
       "layout": "IPY_MODEL_3c6887ead69647bc8beb8a25a964f493"
      }
     },
     "71d83eac27544ecc8caa1569e89e1aa1": {
      "model_module": "@jupyter-widgets/base",
      "model_module_version": "1.2.0",
      "model_name": "LayoutModel",
      "state": {
       "_model_module_version": "1.2.0",
       "_view_module_version": "1.2.0",
       "display": "inline-flex",
       "flex_flow": "row wrap",
       "justify_items": null,
       "object_fit": null,
       "object_position": null,
       "width": "100%"
      }
     },
     "72984614dfa340639c59acce20f6178f": {
      "model_module": "@jupyter-widgets/base",
      "model_module_version": "1.2.0",
      "model_name": "LayoutModel",
      "state": {
       "_model_module_version": "1.2.0",
       "_view_module_version": "1.2.0",
       "display": "inline-flex",
       "flex_flow": "row wrap",
       "justify_items": null,
       "object_fit": null,
       "object_position": null,
       "width": "100%"
      }
     },
     "72b6998048dc4be0a44532bf7124a7aa": {
      "model_module": "@jupyter-widgets/controls",
      "model_module_version": "1.5.0",
      "model_name": "FloatProgressModel",
      "state": {
       "_model_module_version": "1.5.0",
       "_view_module_version": "1.5.0",
       "bar_style": "success",
       "description": "5625/5625",
       "layout": "IPY_MODEL_b580182984fe490f9b0769e88f6e1e48",
       "max": 5625,
       "style": "IPY_MODEL_3e1fe62263854374b71c07b89176b910",
       "value": 5625
      }
     },
     "736f3067814c498f933e3d1a86115e4d": {
      "model_module": "@jupyter-widgets/controls",
      "model_module_version": "1.5.0",
      "model_name": "DescriptionStyleModel",
      "state": {
       "_model_module_version": "1.5.0",
       "_view_module_version": "1.2.0",
       "description_width": ""
      }
     },
     "73ce7f8a10ac41299e29eb21d1c1e8c2": {
      "model_module": "@jupyter-widgets/controls",
      "model_module_version": "1.5.0",
      "model_name": "DescriptionStyleModel",
      "state": {
       "_model_module_version": "1.5.0",
       "_view_module_version": "1.2.0",
       "description_width": ""
      }
     },
     "749199b0f053480d8ec8340c4cbc4fca": {
      "model_module": "@jupyter-widgets/base",
      "model_module_version": "1.2.0",
      "model_name": "LayoutModel",
      "state": {
       "_model_module_version": "1.2.0",
       "_view_module_version": "1.2.0",
       "justify_items": null,
       "object_fit": null,
       "object_position": null
      }
     },
     "75b9d8875b5b440ba650ec3577e57552": {
      "model_module": "@jupyter-widgets/controls",
      "model_module_version": "1.5.0",
      "model_name": "FloatProgressModel",
      "state": {
       "_model_module_version": "1.5.0",
       "_view_module_version": "1.5.0",
       "bar_style": "success",
       "description": "5625/5625",
       "layout": "IPY_MODEL_40655ec7f4ef407693b82dd4d73cc5fe",
       "max": 5625,
       "style": "IPY_MODEL_4159a999c2de4112ba659170d6adbd9e",
       "value": 5625
      }
     },
     "7615e2c1ca904823b1df037ebf15c23f": {
      "model_module": "@jupyter-widgets/controls",
      "model_module_version": "1.5.0",
      "model_name": "FloatProgressModel",
      "state": {
       "_model_module_version": "1.5.0",
       "_view_module_version": "1.5.0",
       "bar_style": "success",
       "description": "5625/5625",
       "layout": "IPY_MODEL_e2e1af3d8fbe44c3bab4e860cef6baf2",
       "max": 5625,
       "style": "IPY_MODEL_9dec91a7ec814a868729c346b6a76cc0",
       "value": 5625
      }
     },
     "76499f6a9d5740cc8403ba18db015229": {
      "model_module": "@jupyter-widgets/controls",
      "model_module_version": "1.5.0",
      "model_name": "FloatProgressModel",
      "state": {
       "_model_module_version": "1.5.0",
       "_view_module_version": "1.5.0",
       "bar_style": "success",
       "description": "5625/5625",
       "layout": "IPY_MODEL_79d524d89a61420f8e3569bdccafa525",
       "max": 5625,
       "style": "IPY_MODEL_54521df4662241b0a2fb77b70799ddd1",
       "value": 5625
      }
     },
     "767e71e0058149a997e247c41a646159": {
      "model_module": "@jupyter-widgets/controls",
      "model_module_version": "1.5.0",
      "model_name": "ProgressStyleModel",
      "state": {
       "_model_module_version": "1.5.0",
       "_view_module_version": "1.2.0",
       "description_width": "initial"
      }
     },
     "772cddc6462f451da0a6f50403445352": {
      "model_module": "@jupyter-widgets/controls",
      "model_module_version": "1.5.0",
      "model_name": "DescriptionStyleModel",
      "state": {
       "_model_module_version": "1.5.0",
       "_view_module_version": "1.2.0",
       "description_width": ""
      }
     },
     "77cb40736514499fb1b4bc2501fd0ad4": {
      "model_module": "@jupyter-widgets/base",
      "model_module_version": "1.2.0",
      "model_name": "LayoutModel",
      "state": {
       "_model_module_version": "1.2.0",
       "_view_module_version": "1.2.0",
       "justify_items": null,
       "object_fit": null,
       "object_position": null
      }
     },
     "79173a51440c4d25a41ba772358e70f9": {
      "model_module": "@jupyter-widgets/base",
      "model_module_version": "1.2.0",
      "model_name": "LayoutModel",
      "state": {
       "_model_module_version": "1.2.0",
       "_view_module_version": "1.2.0",
       "display": "inline-flex",
       "flex_flow": "row wrap",
       "justify_items": null,
       "object_fit": null,
       "object_position": null,
       "width": "100%"
      }
     },
     "79d524d89a61420f8e3569bdccafa525": {
      "model_module": "@jupyter-widgets/base",
      "model_module_version": "1.2.0",
      "model_name": "LayoutModel",
      "state": {
       "_model_module_version": "1.2.0",
       "_view_module_version": "1.2.0",
       "flex": "2",
       "justify_items": null,
       "object_fit": null,
       "object_position": null
      }
     },
     "7b0bebeefeb24257a843d65196d69333": {
      "model_module": "@jupyter-widgets/controls",
      "model_module_version": "1.5.0",
      "model_name": "DescriptionStyleModel",
      "state": {
       "_model_module_version": "1.5.0",
       "_view_module_version": "1.2.0",
       "description_width": ""
      }
     },
     "7c70e8ca5e484f5ba913bf290ada3dd3": {
      "model_module": "@jupyter-widgets/controls",
      "model_module_version": "1.5.0",
      "model_name": "FloatProgressModel",
      "state": {
       "_model_module_version": "1.5.0",
       "_view_module_version": "1.5.0",
       "bar_style": "success",
       "description": "5625/5625",
       "layout": "IPY_MODEL_187efa7f799e4f8790c8a807787e9d1e",
       "max": 5625,
       "style": "IPY_MODEL_5a567dbd6b1f4a9188a4d6bd21599fdc",
       "value": 5625
      }
     },
     "7c9a89f4a368468a95ab3c6d03b889ee": {
      "model_module": "@jupyter-widgets/base",
      "model_module_version": "1.2.0",
      "model_name": "LayoutModel",
      "state": {
       "_model_module_version": "1.2.0",
       "_view_module_version": "1.2.0",
       "justify_items": null,
       "object_fit": null,
       "object_position": null
      }
     },
     "801b8e2b34484401867a15002ba4a2b0": {
      "model_module": "@jupyter-widgets/controls",
      "model_module_version": "1.5.0",
      "model_name": "FloatProgressModel",
      "state": {
       "_model_module_version": "1.5.0",
       "_view_module_version": "1.5.0",
       "bar_style": "success",
       "description": "5625/5625",
       "layout": "IPY_MODEL_670a8d645e754bf1b46c39dd8e39ec9a",
       "max": 5625,
       "style": "IPY_MODEL_e549e26d665845ccb86b20ef4802d8d9",
       "value": 5625
      }
     },
     "816c13c78fe649128a03b98b9c3f82e7": {
      "model_module": "@jupyter-widgets/controls",
      "model_module_version": "1.5.0",
      "model_name": "FloatProgressModel",
      "state": {
       "_model_module_version": "1.5.0",
       "_view_module_version": "1.5.0",
       "bar_style": "success",
       "description": "5625/5625",
       "layout": "IPY_MODEL_e0e800f06a6c4f4abf1cb4b1dff1597a",
       "max": 5625,
       "style": "IPY_MODEL_11a77bdeedb24065aa2f963bde874e13",
       "value": 5625
      }
     },
     "81e600fc68a84da09b1d41e06a298537": {
      "model_module": "@jupyter-widgets/base",
      "model_module_version": "1.2.0",
      "model_name": "LayoutModel",
      "state": {
       "_model_module_version": "1.2.0",
       "_view_module_version": "1.2.0",
       "flex": "2",
       "justify_items": null,
       "object_fit": null,
       "object_position": null
      }
     },
     "82c42f9621124d9fa565b52cbd76f081": {
      "model_module": "@jupyter-widgets/controls",
      "model_module_version": "1.5.0",
      "model_name": "ProgressStyleModel",
      "state": {
       "_model_module_version": "1.5.0",
       "_view_module_version": "1.2.0",
       "description_width": "initial"
      }
     },
     "83e303e641c04cb0bd2537f75bc9d934": {
      "model_module": "@jupyter-widgets/base",
      "model_module_version": "1.2.0",
      "model_name": "LayoutModel",
      "state": {
       "_model_module_version": "1.2.0",
       "_view_module_version": "1.2.0",
       "justify_items": null,
       "object_fit": null,
       "object_position": null
      }
     },
     "842dbff404a348bfb5333cf2a2d1f6e4": {
      "model_module": "@jupyter-widgets/base",
      "model_module_version": "1.2.0",
      "model_name": "LayoutModel",
      "state": {
       "_model_module_version": "1.2.0",
       "_view_module_version": "1.2.0",
       "display": "inline-flex",
       "flex_flow": "row wrap",
       "justify_items": null,
       "object_fit": null,
       "object_position": null,
       "width": "100%"
      }
     },
     "87dcc25e37d7451da28e9a66a1b538b3": {
      "model_module": "@jupyter-widgets/base",
      "model_module_version": "1.2.0",
      "model_name": "LayoutModel",
      "state": {
       "_model_module_version": "1.2.0",
       "_view_module_version": "1.2.0",
       "justify_items": null,
       "object_fit": null,
       "object_position": null
      }
     },
     "88350d5ab459456bba78b16904eb312f": {
      "model_module": "@jupyter-widgets/controls",
      "model_module_version": "1.5.0",
      "model_name": "HBoxModel",
      "state": {
       "_model_module_version": "1.5.0",
       "_view_module_version": "1.5.0",
       "children": [
        "IPY_MODEL_2e57f36777d749b688abd85bbf9adce0",
        "IPY_MODEL_c77c408848df4961a38f1dea62d5bece"
       ],
       "layout": "IPY_MODEL_c1162d2cd3af452e8c1f5c6625eadffb"
      }
     },
     "8911973e07de49378137a7beaa29bb96": {
      "model_module": "@jupyter-widgets/base",
      "model_module_version": "1.2.0",
      "model_name": "LayoutModel",
      "state": {
       "_model_module_version": "1.2.0",
       "_view_module_version": "1.2.0",
       "display": "inline-flex",
       "flex_flow": "row wrap",
       "justify_items": null,
       "object_fit": null,
       "object_position": null,
       "width": "100%"
      }
     },
     "8d376f0cd8b54c2a9e47a78abcb4f4c3": {
      "model_module": "@jupyter-widgets/base",
      "model_module_version": "1.2.0",
      "model_name": "LayoutModel",
      "state": {
       "_model_module_version": "1.2.0",
       "_view_module_version": "1.2.0",
       "display": "inline-flex",
       "flex_flow": "row wrap",
       "justify_items": null,
       "object_fit": null,
       "object_position": null,
       "width": "100%"
      }
     },
     "8dd747fdcd704ae89350414c05ae464b": {
      "model_module": "@jupyter-widgets/controls",
      "model_module_version": "1.5.0",
      "model_name": "HBoxModel",
      "state": {
       "_model_module_version": "1.5.0",
       "_view_module_version": "1.5.0",
       "children": [
        "IPY_MODEL_72b6998048dc4be0a44532bf7124a7aa",
        "IPY_MODEL_343605154d4d4450bb5c7525522247d1"
       ],
       "layout": "IPY_MODEL_79173a51440c4d25a41ba772358e70f9"
      }
     },
     "8eccb0c3d5e44a449f3cfa484727a51a": {
      "model_module": "@jupyter-widgets/controls",
      "model_module_version": "1.5.0",
      "model_name": "HBoxModel",
      "state": {
       "_model_module_version": "1.5.0",
       "_view_module_version": "1.5.0",
       "children": [
        "IPY_MODEL_92a3584d7ae144bea591fce33af3385f",
        "IPY_MODEL_b43cdadb688a42cd9e3f55251bbc1405"
       ],
       "layout": "IPY_MODEL_5624cfc924e74665a1d3ea912e2dc285"
      }
     },
     "90f4633847944be8b63064540af24f0a": {
      "model_module": "@jupyter-widgets/base",
      "model_module_version": "1.2.0",
      "model_name": "LayoutModel",
      "state": {
       "_model_module_version": "1.2.0",
       "_view_module_version": "1.2.0",
       "justify_items": null,
       "object_fit": null,
       "object_position": null
      }
     },
     "92a3584d7ae144bea591fce33af3385f": {
      "model_module": "@jupyter-widgets/controls",
      "model_module_version": "1.5.0",
      "model_name": "FloatProgressModel",
      "state": {
       "_model_module_version": "1.5.0",
       "_view_module_version": "1.5.0",
       "bar_style": "success",
       "description": "5625/5625",
       "layout": "IPY_MODEL_43c464bd64644df29bf8ff1368e8cc14",
       "max": 5625,
       "style": "IPY_MODEL_2fc4fe06a8d64195ad9ba38b228b8490",
       "value": 5625
      }
     },
     "92e93da2fefe4edeb9b5e80dee5428ec": {
      "model_module": "@jupyter-widgets/base",
      "model_module_version": "1.2.0",
      "model_name": "LayoutModel",
      "state": {
       "_model_module_version": "1.2.0",
       "_view_module_version": "1.2.0",
       "justify_items": null,
       "object_fit": null,
       "object_position": null
      }
     },
     "936bc4d6e82a47a7931f3a2c823f1dfa": {
      "model_module": "@jupyter-widgets/controls",
      "model_module_version": "1.5.0",
      "model_name": "DescriptionStyleModel",
      "state": {
       "_model_module_version": "1.5.0",
       "_view_module_version": "1.2.0",
       "description_width": ""
      }
     },
     "93f02625c04347e8b19bc70624cf8f31": {
      "model_module": "@jupyter-widgets/base",
      "model_module_version": "1.2.0",
      "model_name": "LayoutModel",
      "state": {
       "_model_module_version": "1.2.0",
       "_view_module_version": "1.2.0",
       "justify_items": null,
       "object_fit": null,
       "object_position": null
      }
     },
     "962eab06e5ab4471943c7b9d3424a778": {
      "model_module": "@jupyter-widgets/controls",
      "model_module_version": "1.5.0",
      "model_name": "HTMLModel",
      "state": {
       "_model_module_version": "1.5.0",
       "_view_module_version": "1.5.0",
       "layout": "IPY_MODEL_a6f789c7353f466eaf3963a87f096a56",
       "style": "IPY_MODEL_589b59c0ed224995b69ca7b2be969f35",
       "value": " ETA: 00:00s - loss: 0.0293 - val_loss: 0.0286"
      }
     },
     "97f5a8b2fe1c4695952488098cb88f71": {
      "model_module": "@jupyter-widgets/controls",
      "model_module_version": "1.5.0",
      "model_name": "HTMLModel",
      "state": {
       "_model_module_version": "1.5.0",
       "_view_module_version": "1.5.0",
       "layout": "IPY_MODEL_ca4100405a264cd48fd5fa589f184992",
       "style": "IPY_MODEL_ee9aafb32e7f42f4b766dd8211f7dbb5",
       "value": " ETA: 00:00s - loss: 0.0295 - val_loss: 0.0285"
      }
     },
     "98af5bf88dec46e3997502d70cdface7": {
      "model_module": "@jupyter-widgets/controls",
      "model_module_version": "1.5.0",
      "model_name": "FloatProgressModel",
      "state": {
       "_model_module_version": "1.5.0",
       "_view_module_version": "1.5.0",
       "bar_style": "success",
       "description": "5625/5625",
       "layout": "IPY_MODEL_1c5ee9db36524719b6b1ce27dedafb30",
       "max": 5625,
       "style": "IPY_MODEL_ce9d80a25f3c4cbbae5fe850c46bac37",
       "value": 5625
      }
     },
     "999c38b9819f4efd929501bc8386e1a3": {
      "model_module": "@jupyter-widgets/controls",
      "model_module_version": "1.5.0",
      "model_name": "HTMLModel",
      "state": {
       "_model_module_version": "1.5.0",
       "_view_module_version": "1.5.0",
       "layout": "IPY_MODEL_b0c1dee56f524054bea7ca62717ea9ad",
       "style": "IPY_MODEL_e039f884669f4006a8f14da8eefccf49",
       "value": " ETA: 00:00s - loss: 0.0294 - val_loss: 0.0298"
      }
     },
     "9a00c133d3a14404af670f3a227c665d": {
      "model_module": "@jupyter-widgets/controls",
      "model_module_version": "1.5.0",
      "model_name": "FloatProgressModel",
      "state": {
       "_model_module_version": "1.5.0",
       "_view_module_version": "1.5.0",
       "bar_style": "success",
       "description": "5625/5625",
       "layout": "IPY_MODEL_4b77fa5cd033470e834b0dccad4552c6",
       "max": 5625,
       "style": "IPY_MODEL_0c088ef1c1784fa0a4ff468d70dfd31f",
       "value": 5625
      }
     },
     "9a4bf5e4be8243a091f664cd6d5ff267": {
      "model_module": "@jupyter-widgets/controls",
      "model_module_version": "1.5.0",
      "model_name": "FloatProgressModel",
      "state": {
       "_model_module_version": "1.5.0",
       "_view_module_version": "1.5.0",
       "bar_style": "success",
       "description": "5625/5625",
       "layout": "IPY_MODEL_c4e64f2eabed43d5b60c977e5467eb50",
       "max": 5625,
       "style": "IPY_MODEL_1f87165613ee472d8b410f57945fd839",
       "value": 5625
      }
     },
     "9b021226fff8400e90699646b74929ff": {
      "model_module": "@jupyter-widgets/base",
      "model_module_version": "1.2.0",
      "model_name": "LayoutModel",
      "state": {
       "_model_module_version": "1.2.0",
       "_view_module_version": "1.2.0",
       "flex": "2",
       "justify_items": null,
       "object_fit": null,
       "object_position": null
      }
     },
     "9c55dff171404a6ea0292e2102f0c33a": {
      "model_module": "@jupyter-widgets/controls",
      "model_module_version": "1.5.0",
      "model_name": "ProgressStyleModel",
      "state": {
       "_model_module_version": "1.5.0",
       "_view_module_version": "1.2.0",
       "description_width": "initial"
      }
     },
     "9d2b0d67414a4b1c9e2c7585f206d774": {
      "model_module": "@jupyter-widgets/base",
      "model_module_version": "1.2.0",
      "model_name": "LayoutModel",
      "state": {
       "_model_module_version": "1.2.0",
       "_view_module_version": "1.2.0",
       "display": "inline-flex",
       "flex_flow": "row wrap",
       "justify_items": null,
       "object_fit": null,
       "object_position": null,
       "width": "100%"
      }
     },
     "9dec91a7ec814a868729c346b6a76cc0": {
      "model_module": "@jupyter-widgets/controls",
      "model_module_version": "1.5.0",
      "model_name": "ProgressStyleModel",
      "state": {
       "_model_module_version": "1.5.0",
       "_view_module_version": "1.2.0",
       "description_width": "initial"
      }
     },
     "9f06a1ea2d2a4a6fb16d77b774dbd83d": {
      "model_module": "@jupyter-widgets/controls",
      "model_module_version": "1.5.0",
      "model_name": "ProgressStyleModel",
      "state": {
       "_model_module_version": "1.5.0",
       "_view_module_version": "1.2.0",
       "description_width": "initial"
      }
     },
     "9ff857ebb6e244cd87af08063560f579": {
      "model_module": "@jupyter-widgets/controls",
      "model_module_version": "1.5.0",
      "model_name": "HBoxModel",
      "state": {
       "_model_module_version": "1.5.0",
       "_view_module_version": "1.5.0",
       "children": [
        "IPY_MODEL_d3251bda7b624308a67f230afa8afc04",
        "IPY_MODEL_5e17b4cf7cf6438fa1d28e7ea1840655"
       ],
       "layout": "IPY_MODEL_22b58f64d6e14bfb966197acca33a4f5"
      }
     },
     "a0caf97dd2154d3396b5d79c75b7b68d": {
      "model_module": "@jupyter-widgets/base",
      "model_module_version": "1.2.0",
      "model_name": "LayoutModel",
      "state": {
       "_model_module_version": "1.2.0",
       "_view_module_version": "1.2.0",
       "display": "inline-flex",
       "flex_flow": "row wrap",
       "justify_items": null,
       "object_fit": null,
       "object_position": null,
       "width": "100%"
      }
     },
     "a162cd30431a4e9a8eebd16aa8035346": {
      "model_module": "@jupyter-widgets/base",
      "model_module_version": "1.2.0",
      "model_name": "LayoutModel",
      "state": {
       "_model_module_version": "1.2.0",
       "_view_module_version": "1.2.0",
       "flex": "2",
       "justify_items": null,
       "object_fit": null,
       "object_position": null
      }
     },
     "a1be1a844445485c94aa9eac8871a2f9": {
      "model_module": "@jupyter-widgets/controls",
      "model_module_version": "1.5.0",
      "model_name": "ProgressStyleModel",
      "state": {
       "_model_module_version": "1.5.0",
       "_view_module_version": "1.2.0",
       "description_width": "initial"
      }
     },
     "a6ee6fed88844b4eb32dd027ab1d73f2": {
      "model_module": "@jupyter-widgets/base",
      "model_module_version": "1.2.0",
      "model_name": "LayoutModel",
      "state": {
       "_model_module_version": "1.2.0",
       "_view_module_version": "1.2.0",
       "display": "inline-flex",
       "flex_flow": "row wrap",
       "justify_items": null,
       "object_fit": null,
       "object_position": null,
       "width": "100%"
      }
     },
     "a6f789c7353f466eaf3963a87f096a56": {
      "model_module": "@jupyter-widgets/base",
      "model_module_version": "1.2.0",
      "model_name": "LayoutModel",
      "state": {
       "_model_module_version": "1.2.0",
       "_view_module_version": "1.2.0",
       "justify_items": null,
       "object_fit": null,
       "object_position": null
      }
     },
     "a71b9d638a024085a3c5422ecfddcc9a": {
      "model_module": "@jupyter-widgets/controls",
      "model_module_version": "1.5.0",
      "model_name": "FloatProgressModel",
      "state": {
       "_model_module_version": "1.5.0",
       "_view_module_version": "1.5.0",
       "bar_style": "success",
       "description": "5625/5625",
       "layout": "IPY_MODEL_e1a1b521f56540e1bc7f68ee947d8006",
       "max": 5625,
       "style": "IPY_MODEL_767e71e0058149a997e247c41a646159",
       "value": 5625
      }
     },
     "a71ee610141142bbb0518a69f018c591": {
      "model_module": "@jupyter-widgets/controls",
      "model_module_version": "1.5.0",
      "model_name": "HBoxModel",
      "state": {
       "_model_module_version": "1.5.0",
       "_view_module_version": "1.5.0",
       "children": [
        "IPY_MODEL_4c0a168eb421406eb6de18a6e8bc31ec",
        "IPY_MODEL_178e2702c78c47d9ba5b1015a23e2f54"
       ],
       "layout": "IPY_MODEL_03842c8952464fcbb5902d264f4a490c"
      }
     },
     "a736687d0a944b7aaf8886aadaa2735a": {
      "model_module": "@jupyter-widgets/controls",
      "model_module_version": "1.5.0",
      "model_name": "HTMLModel",
      "state": {
       "_model_module_version": "1.5.0",
       "_view_module_version": "1.5.0",
       "layout": "IPY_MODEL_4dc321a7a2ad433b858bcf8937a9dbd5",
       "style": "IPY_MODEL_06e882b011da4f7181e123895d93e25e",
       "value": " ETA: 00:00s - loss: 0.0296 - val_loss: 0.0290"
      }
     },
     "a75733ed59eb4c3c99e9836253fa61ae": {
      "model_module": "@jupyter-widgets/controls",
      "model_module_version": "1.5.0",
      "model_name": "HTMLModel",
      "state": {
       "_model_module_version": "1.5.0",
       "_view_module_version": "1.5.0",
       "layout": "IPY_MODEL_b055cba1451c48dab17ac456ac6d18e7",
       "style": "IPY_MODEL_772cddc6462f451da0a6f50403445352",
       "value": " ETA: 00:00s - loss: 0.0297 - val_loss: 0.0288"
      }
     },
     "a853041367844cd1a7e108470db834e2": {
      "model_module": "@jupyter-widgets/controls",
      "model_module_version": "1.5.0",
      "model_name": "FloatProgressModel",
      "state": {
       "_model_module_version": "1.5.0",
       "_view_module_version": "1.5.0",
       "bar_style": "success",
       "description": "5625/5625",
       "layout": "IPY_MODEL_e530c3a582fa45de8f228d495c7ed43e",
       "max": 5625,
       "style": "IPY_MODEL_82c42f9621124d9fa565b52cbd76f081",
       "value": 5625
      }
     },
     "a8acf985a17c4c53a24a81111219c86a": {
      "model_module": "@jupyter-widgets/base",
      "model_module_version": "1.2.0",
      "model_name": "LayoutModel",
      "state": {
       "_model_module_version": "1.2.0",
       "_view_module_version": "1.2.0",
       "display": "inline-flex",
       "flex_flow": "row wrap",
       "justify_items": null,
       "object_fit": null,
       "object_position": null,
       "width": "100%"
      }
     },
     "a9853a8b1e7e41eb8bba1425958a360f": {
      "model_module": "@jupyter-widgets/controls",
      "model_module_version": "1.5.0",
      "model_name": "DescriptionStyleModel",
      "state": {
       "_model_module_version": "1.5.0",
       "_view_module_version": "1.2.0",
       "description_width": ""
      }
     },
     "ab135f0a6ad9489cb88a77e350542d25": {
      "model_module": "@jupyter-widgets/base",
      "model_module_version": "1.2.0",
      "model_name": "LayoutModel",
      "state": {
       "_model_module_version": "1.2.0",
       "_view_module_version": "1.2.0",
       "justify_items": null,
       "object_fit": null,
       "object_position": null
      }
     },
     "ac9a09f2517c41e4bf8ed4ebcee59348": {
      "model_module": "@jupyter-widgets/controls",
      "model_module_version": "1.5.0",
      "model_name": "DescriptionStyleModel",
      "state": {
       "_model_module_version": "1.5.0",
       "_view_module_version": "1.2.0",
       "description_width": ""
      }
     },
     "aede6cee19ce4f9cb80c8a3e4e204fd3": {
      "model_module": "@jupyter-widgets/controls",
      "model_module_version": "1.5.0",
      "model_name": "ProgressStyleModel",
      "state": {
       "_model_module_version": "1.5.0",
       "_view_module_version": "1.2.0",
       "description_width": "initial"
      }
     },
     "b055cba1451c48dab17ac456ac6d18e7": {
      "model_module": "@jupyter-widgets/base",
      "model_module_version": "1.2.0",
      "model_name": "LayoutModel",
      "state": {
       "_model_module_version": "1.2.0",
       "_view_module_version": "1.2.0",
       "justify_items": null,
       "object_fit": null,
       "object_position": null
      }
     },
     "b0c1dee56f524054bea7ca62717ea9ad": {
      "model_module": "@jupyter-widgets/base",
      "model_module_version": "1.2.0",
      "model_name": "LayoutModel",
      "state": {
       "_model_module_version": "1.2.0",
       "_view_module_version": "1.2.0",
       "justify_items": null,
       "object_fit": null,
       "object_position": null
      }
     },
     "b0cdfd6b367a43d4b01d8827389e3af6": {
      "model_module": "@jupyter-widgets/base",
      "model_module_version": "1.2.0",
      "model_name": "LayoutModel",
      "state": {
       "_model_module_version": "1.2.0",
       "_view_module_version": "1.2.0",
       "flex": "2",
       "justify_items": null,
       "object_fit": null,
       "object_position": null
      }
     },
     "b2f3c6693eb0408294b6f9cc5de7e2e7": {
      "model_module": "@jupyter-widgets/base",
      "model_module_version": "1.2.0",
      "model_name": "LayoutModel",
      "state": {
       "_model_module_version": "1.2.0",
       "_view_module_version": "1.2.0",
       "display": "inline-flex",
       "flex_flow": "row wrap",
       "justify_items": null,
       "object_fit": null,
       "object_position": null,
       "width": "100%"
      }
     },
     "b304b0fbb78e40e7981f7bb506b6728a": {
      "model_module": "@jupyter-widgets/base",
      "model_module_version": "1.2.0",
      "model_name": "LayoutModel",
      "state": {
       "_model_module_version": "1.2.0",
       "_view_module_version": "1.2.0",
       "justify_items": null,
       "object_fit": null,
       "object_position": null
      }
     },
     "b3ce45768eff409b90e541b88bc5cdd0": {
      "model_module": "@jupyter-widgets/controls",
      "model_module_version": "1.5.0",
      "model_name": "HBoxModel",
      "state": {
       "_model_module_version": "1.5.0",
       "_view_module_version": "1.5.0",
       "children": [
        "IPY_MODEL_a853041367844cd1a7e108470db834e2",
        "IPY_MODEL_962eab06e5ab4471943c7b9d3424a778"
       ],
       "layout": "IPY_MODEL_72984614dfa340639c59acce20f6178f"
      }
     },
     "b43cdadb688a42cd9e3f55251bbc1405": {
      "model_module": "@jupyter-widgets/controls",
      "model_module_version": "1.5.0",
      "model_name": "HTMLModel",
      "state": {
       "_model_module_version": "1.5.0",
       "_view_module_version": "1.5.0",
       "layout": "IPY_MODEL_f2f851c206624ad4927ed2447cdbbcf1",
       "style": "IPY_MODEL_5b5793deabb0443988551d4d39c05f8d",
       "value": " ETA: 00:00s - loss: 0.0292 - val_loss: 0.0290"
      }
     },
     "b4cf3f84cc204af991f16dea094fd397": {
      "model_module": "@jupyter-widgets/base",
      "model_module_version": "1.2.0",
      "model_name": "LayoutModel",
      "state": {
       "_model_module_version": "1.2.0",
       "_view_module_version": "1.2.0",
       "display": "inline-flex",
       "flex_flow": "row wrap",
       "justify_items": null,
       "object_fit": null,
       "object_position": null,
       "width": "100%"
      }
     },
     "b580182984fe490f9b0769e88f6e1e48": {
      "model_module": "@jupyter-widgets/base",
      "model_module_version": "1.2.0",
      "model_name": "LayoutModel",
      "state": {
       "_model_module_version": "1.2.0",
       "_view_module_version": "1.2.0",
       "flex": "2",
       "justify_items": null,
       "object_fit": null,
       "object_position": null
      }
     },
     "b602870c728849868c3a59e01871af8e": {
      "model_module": "@jupyter-widgets/base",
      "model_module_version": "1.2.0",
      "model_name": "LayoutModel",
      "state": {
       "_model_module_version": "1.2.0",
       "_view_module_version": "1.2.0",
       "justify_items": null,
       "object_fit": null,
       "object_position": null
      }
     },
     "b6c3db5ff2b84c5ea9d0a29076906558": {
      "model_module": "@jupyter-widgets/controls",
      "model_module_version": "1.5.0",
      "model_name": "ProgressStyleModel",
      "state": {
       "_model_module_version": "1.5.0",
       "_view_module_version": "1.2.0",
       "description_width": "initial"
      }
     },
     "b7ad0337915040f8bc3e2a97d1f39c8a": {
      "model_module": "@jupyter-widgets/controls",
      "model_module_version": "1.5.0",
      "model_name": "HBoxModel",
      "state": {
       "_model_module_version": "1.5.0",
       "_view_module_version": "1.5.0",
       "children": [
        "IPY_MODEL_13a8dbe17ebf42eea8aa2aebdf244046",
        "IPY_MODEL_1ff7255f251f418396d90543bc099907"
       ],
       "layout": "IPY_MODEL_d668f918f7c34e8aaee8eed5380863a1"
      }
     },
     "b7e8660484af47af8119e181b62e3059": {
      "model_module": "@jupyter-widgets/base",
      "model_module_version": "1.2.0",
      "model_name": "LayoutModel",
      "state": {
       "_model_module_version": "1.2.0",
       "_view_module_version": "1.2.0",
       "flex": "2",
       "justify_items": null,
       "object_fit": null,
       "object_position": null
      }
     },
     "bbba877319db483db3d2538684a35490": {
      "model_module": "@jupyter-widgets/controls",
      "model_module_version": "1.5.0",
      "model_name": "HBoxModel",
      "state": {
       "_model_module_version": "1.5.0",
       "_view_module_version": "1.5.0",
       "children": [
        "IPY_MODEL_fe20d443e93b4c90a07b4a5e7048fbe3",
        "IPY_MODEL_5f6f774428f24e9fa8a8c382d89f5381"
       ],
       "layout": "IPY_MODEL_ff339418cffc466392b43559591a63d5"
      }
     },
     "bd32b9f898ce4823a324acb4257b3e33": {
      "model_module": "@jupyter-widgets/base",
      "model_module_version": "1.2.0",
      "model_name": "LayoutModel",
      "state": {
       "_model_module_version": "1.2.0",
       "_view_module_version": "1.2.0",
       "display": "inline-flex",
       "flex_flow": "row wrap",
       "justify_items": null,
       "object_fit": null,
       "object_position": null,
       "width": "100%"
      }
     },
     "bdd4aef6b6b24db4b1cb15648021fc00": {
      "model_module": "@jupyter-widgets/controls",
      "model_module_version": "1.5.0",
      "model_name": "HBoxModel",
      "state": {
       "_model_module_version": "1.5.0",
       "_view_module_version": "1.5.0",
       "children": [
        "IPY_MODEL_98af5bf88dec46e3997502d70cdface7",
        "IPY_MODEL_97f5a8b2fe1c4695952488098cb88f71"
       ],
       "layout": "IPY_MODEL_5ee46132622147c2ae6d9817e0f30634"
      }
     },
     "bdeb502cc5ac48dcb2a4fa1de667dd1d": {
      "model_module": "@jupyter-widgets/controls",
      "model_module_version": "1.5.0",
      "model_name": "HTMLModel",
      "state": {
       "_model_module_version": "1.5.0",
       "_view_module_version": "1.5.0",
       "layout": "IPY_MODEL_cd8d8b6c23324ea4b3a95ed2be23405d",
       "style": "IPY_MODEL_25df87b1c9794dca8084f0ce53af942d",
       "value": " ETA: 00:00s - loss: 0.0292 - val_loss: 0.0284"
      }
     },
     "be45b5940be14f628ec3ee66115b711b": {
      "model_module": "@jupyter-widgets/base",
      "model_module_version": "1.2.0",
      "model_name": "LayoutModel",
      "state": {
       "_model_module_version": "1.2.0",
       "_view_module_version": "1.2.0",
       "justify_items": null,
       "object_fit": null,
       "object_position": null
      }
     },
     "be89a311cf74422fafef392ff58f93fd": {
      "model_module": "@jupyter-widgets/base",
      "model_module_version": "1.2.0",
      "model_name": "LayoutModel",
      "state": {
       "_model_module_version": "1.2.0",
       "_view_module_version": "1.2.0",
       "flex": "2",
       "justify_items": null,
       "object_fit": null,
       "object_position": null
      }
     },
     "c0957933fdc840928baacc7d799363a9": {
      "model_module": "@jupyter-widgets/controls",
      "model_module_version": "1.5.0",
      "model_name": "HTMLModel",
      "state": {
       "_model_module_version": "1.5.0",
       "_view_module_version": "1.5.0",
       "layout": "IPY_MODEL_87dcc25e37d7451da28e9a66a1b538b3",
       "style": "IPY_MODEL_7b0bebeefeb24257a843d65196d69333",
       "value": " 35/100 ETA: 6:02:36s,  334.72s/epochs"
      }
     },
     "c1162d2cd3af452e8c1f5c6625eadffb": {
      "model_module": "@jupyter-widgets/base",
      "model_module_version": "1.2.0",
      "model_name": "LayoutModel",
      "state": {
       "_model_module_version": "1.2.0",
       "_view_module_version": "1.2.0",
       "display": "inline-flex",
       "flex_flow": "row wrap",
       "justify_items": null,
       "object_fit": null,
       "object_position": null,
       "width": "100%"
      }
     },
     "c21232f5b0ae4aadb64661a3464eba6c": {
      "model_module": "@jupyter-widgets/controls",
      "model_module_version": "1.5.0",
      "model_name": "FloatProgressModel",
      "state": {
       "_model_module_version": "1.5.0",
       "_view_module_version": "1.5.0",
       "bar_style": "success",
       "description": "5625/5625",
       "layout": "IPY_MODEL_1b924c800952474f8834adb9cee27ed0",
       "max": 5625,
       "style": "IPY_MODEL_feff11dba9314933bef8572adf049699",
       "value": 5625
      }
     },
     "c41a0908bc964afaac3980045592ef73": {
      "model_module": "@jupyter-widgets/controls",
      "model_module_version": "1.5.0",
      "model_name": "HTMLModel",
      "state": {
       "_model_module_version": "1.5.0",
       "_view_module_version": "1.5.0",
       "layout": "IPY_MODEL_1a1ffdd4518546f4b450e64b3492f569",
       "style": "IPY_MODEL_936bc4d6e82a47a7931f3a2c823f1dfa",
       "value": " ETA: 00:00s - loss: 0.0298 - val_loss: 0.0298"
      }
     },
     "c4e64f2eabed43d5b60c977e5467eb50": {
      "model_module": "@jupyter-widgets/base",
      "model_module_version": "1.2.0",
      "model_name": "LayoutModel",
      "state": {
       "_model_module_version": "1.2.0",
       "_view_module_version": "1.2.0",
       "flex": "2",
       "justify_items": null,
       "object_fit": null,
       "object_position": null
      }
     },
     "c6a8f13248874ef6ab1152d6c88d141e": {
      "model_module": "@jupyter-widgets/base",
      "model_module_version": "1.2.0",
      "model_name": "LayoutModel",
      "state": {
       "_model_module_version": "1.2.0",
       "_view_module_version": "1.2.0",
       "display": "inline-flex",
       "flex_flow": "row wrap",
       "justify_items": null,
       "object_fit": null,
       "object_position": null,
       "width": "100%"
      }
     },
     "c77c408848df4961a38f1dea62d5bece": {
      "model_module": "@jupyter-widgets/controls",
      "model_module_version": "1.5.0",
      "model_name": "HTMLModel",
      "state": {
       "_model_module_version": "1.5.0",
       "_view_module_version": "1.5.0",
       "layout": "IPY_MODEL_578a4639e6a24843a260d98e6eb473c9",
       "style": "IPY_MODEL_6fbbc4de94044b72badf36215b34fe80",
       "value": " ETA: 00:00s - loss: 0.0296 - val_loss: 0.0288"
      }
     },
     "c77d982e7cdc48cab4f9a7d25f74ec90": {
      "model_module": "@jupyter-widgets/controls",
      "model_module_version": "1.5.0",
      "model_name": "ProgressStyleModel",
      "state": {
       "_model_module_version": "1.5.0",
       "_view_module_version": "1.2.0",
       "description_width": "initial"
      }
     },
     "c813343b29ab4b49b2db77be4ac8426e": {
      "model_module": "@jupyter-widgets/controls",
      "model_module_version": "1.5.0",
      "model_name": "HBoxModel",
      "state": {
       "_model_module_version": "1.5.0",
       "_view_module_version": "1.5.0",
       "children": [
        "IPY_MODEL_6f595918ab644fd9a8ef3bb7077c5fa7",
        "IPY_MODEL_482d5669f0d34346a2b35dffe8a1ae32"
       ],
       "layout": "IPY_MODEL_71d83eac27544ecc8caa1569e89e1aa1"
      }
     },
     "c8b99743010b48fe87e715471331446c": {
      "model_module": "@jupyter-widgets/controls",
      "model_module_version": "1.5.0",
      "model_name": "FloatProgressModel",
      "state": {
       "_model_module_version": "1.5.0",
       "_view_module_version": "1.5.0",
       "bar_style": "success",
       "description": "5625/5625",
       "layout": "IPY_MODEL_42d0bfcb47be4d179b0ff1c19e134cd3",
       "max": 5625,
       "style": "IPY_MODEL_030577d879134a5ba42bfd1bd12faec6",
       "value": 5625
      }
     },
     "c914a4030221419d898fc82519877b45": {
      "model_module": "@jupyter-widgets/controls",
      "model_module_version": "1.5.0",
      "model_name": "HTMLModel",
      "state": {
       "_model_module_version": "1.5.0",
       "_view_module_version": "1.5.0",
       "layout": "IPY_MODEL_77cb40736514499fb1b4bc2501fd0ad4",
       "style": "IPY_MODEL_478c29819e624e5081d6672dc8cfd0b4",
       "value": " ETA: 00:00s - loss: 0.0291 - val_loss: 0.0288"
      }
     },
     "ca4100405a264cd48fd5fa589f184992": {
      "model_module": "@jupyter-widgets/base",
      "model_module_version": "1.2.0",
      "model_name": "LayoutModel",
      "state": {
       "_model_module_version": "1.2.0",
       "_view_module_version": "1.2.0",
       "justify_items": null,
       "object_fit": null,
       "object_position": null
      }
     },
     "cbe63ee74e8b4e74a1a432963c14ca27": {
      "model_module": "@jupyter-widgets/controls",
      "model_module_version": "1.5.0",
      "model_name": "DescriptionStyleModel",
      "state": {
       "_model_module_version": "1.5.0",
       "_view_module_version": "1.2.0",
       "description_width": ""
      }
     },
     "cd302dfde04f4520855d549f0e5d8424": {
      "model_module": "@jupyter-widgets/base",
      "model_module_version": "1.2.0",
      "model_name": "LayoutModel",
      "state": {
       "_model_module_version": "1.2.0",
       "_view_module_version": "1.2.0",
       "justify_items": null,
       "object_fit": null,
       "object_position": null
      }
     },
     "cd8d8b6c23324ea4b3a95ed2be23405d": {
      "model_module": "@jupyter-widgets/base",
      "model_module_version": "1.2.0",
      "model_name": "LayoutModel",
      "state": {
       "_model_module_version": "1.2.0",
       "_view_module_version": "1.2.0",
       "justify_items": null,
       "object_fit": null,
       "object_position": null
      }
     },
     "ce437f5a903a43adbd13ed007c5c59bc": {
      "model_module": "@jupyter-widgets/controls",
      "model_module_version": "1.5.0",
      "model_name": "FloatProgressModel",
      "state": {
       "_model_module_version": "1.5.0",
       "_view_module_version": "1.5.0",
       "bar_style": "success",
       "description": "5625/5625",
       "layout": "IPY_MODEL_66dc907ea333474d9cd081807b52576b",
       "max": 5625,
       "style": "IPY_MODEL_a1be1a844445485c94aa9eac8871a2f9",
       "value": 5625
      }
     },
     "ce9d80a25f3c4cbbae5fe850c46bac37": {
      "model_module": "@jupyter-widgets/controls",
      "model_module_version": "1.5.0",
      "model_name": "ProgressStyleModel",
      "state": {
       "_model_module_version": "1.5.0",
       "_view_module_version": "1.2.0",
       "description_width": "initial"
      }
     },
     "cf398af0455e4773a5e125c02a37dc98": {
      "model_module": "@jupyter-widgets/base",
      "model_module_version": "1.2.0",
      "model_name": "LayoutModel",
      "state": {
       "_model_module_version": "1.2.0",
       "_view_module_version": "1.2.0",
       "justify_items": null,
       "object_fit": null,
       "object_position": null
      }
     },
     "cfa1e42b075148d5b60804e5b7eaf515": {
      "model_module": "@jupyter-widgets/controls",
      "model_module_version": "1.5.0",
      "model_name": "FloatProgressModel",
      "state": {
       "_model_module_version": "1.5.0",
       "_view_module_version": "1.5.0",
       "bar_style": "success",
       "description": "5625/5625",
       "layout": "IPY_MODEL_67b80cfbdeb44a6cbdff7e85b89669ca",
       "max": 5625,
       "style": "IPY_MODEL_2209b29c2c6b4d37916c8a71f2dc968a",
       "value": 5625
      }
     },
     "d0af9b42d5b6412d8af1eb53ff4a5875": {
      "model_module": "@jupyter-widgets/controls",
      "model_module_version": "1.5.0",
      "model_name": "HTMLModel",
      "state": {
       "_model_module_version": "1.5.0",
       "_view_module_version": "1.5.0",
       "layout": "IPY_MODEL_d64ce698485f4566b11ed17dd2d5b3c4",
       "style": "IPY_MODEL_3b2f0e64678d41c19174a0e95aec1092",
       "value": " ETA: 00:00s - loss: 0.0291 - val_loss: 0.0290"
      }
     },
     "d241462de505474685954235da12f84d": {
      "model_module": "@jupyter-widgets/base",
      "model_module_version": "1.2.0",
      "model_name": "LayoutModel",
      "state": {
       "_model_module_version": "1.2.0",
       "_view_module_version": "1.2.0",
       "flex": "2",
       "justify_items": null,
       "object_fit": null,
       "object_position": null
      }
     },
     "d3251bda7b624308a67f230afa8afc04": {
      "model_module": "@jupyter-widgets/controls",
      "model_module_version": "1.5.0",
      "model_name": "FloatProgressModel",
      "state": {
       "_model_module_version": "1.5.0",
       "_view_module_version": "1.5.0",
       "bar_style": "success",
       "description": "5625/5625",
       "layout": "IPY_MODEL_61795b868de84931a6738bf209e33e8f",
       "max": 5625,
       "style": "IPY_MODEL_4952a1b928d542d69e884aecc3a4da35",
       "value": 5625
      }
     },
     "d4c7ef1834c14b909a67be153f0a980e": {
      "model_module": "@jupyter-widgets/controls",
      "model_module_version": "1.5.0",
      "model_name": "ProgressStyleModel",
      "state": {
       "_model_module_version": "1.5.0",
       "_view_module_version": "1.2.0",
       "description_width": "initial"
      }
     },
     "d64ce698485f4566b11ed17dd2d5b3c4": {
      "model_module": "@jupyter-widgets/base",
      "model_module_version": "1.2.0",
      "model_name": "LayoutModel",
      "state": {
       "_model_module_version": "1.2.0",
       "_view_module_version": "1.2.0",
       "justify_items": null,
       "object_fit": null,
       "object_position": null
      }
     },
     "d668f918f7c34e8aaee8eed5380863a1": {
      "model_module": "@jupyter-widgets/base",
      "model_module_version": "1.2.0",
      "model_name": "LayoutModel",
      "state": {
       "_model_module_version": "1.2.0",
       "_view_module_version": "1.2.0",
       "display": "inline-flex",
       "flex_flow": "row wrap",
       "justify_items": null,
       "object_fit": null,
       "object_position": null,
       "width": "100%"
      }
     },
     "d7a5bf49334a45d2b365d141a99bc1aa": {
      "model_module": "@jupyter-widgets/base",
      "model_module_version": "1.2.0",
      "model_name": "LayoutModel",
      "state": {
       "_model_module_version": "1.2.0",
       "_view_module_version": "1.2.0",
       "justify_items": null,
       "object_fit": null,
       "object_position": null
      }
     },
     "d851e5ce052a4ff680d96bd235956bf2": {
      "model_module": "@jupyter-widgets/controls",
      "model_module_version": "1.5.0",
      "model_name": "ProgressStyleModel",
      "state": {
       "_model_module_version": "1.5.0",
       "_view_module_version": "1.2.0",
       "description_width": "initial"
      }
     },
     "d885a998549c45ae8765a5155cfaae43": {
      "model_module": "@jupyter-widgets/controls",
      "model_module_version": "1.5.0",
      "model_name": "FloatProgressModel",
      "state": {
       "_model_module_version": "1.5.0",
       "_view_module_version": "1.5.0",
       "bar_style": "danger",
       "description": "Training:  35%",
       "layout": "IPY_MODEL_41a5671a7ee441deb3f6d1b881ee4c3e",
       "style": "IPY_MODEL_b6c3db5ff2b84c5ea9d0a29076906558",
       "value": 35
      }
     },
     "d9a682053ce74aadac01e62b7f5d2686": {
      "model_module": "@jupyter-widgets/controls",
      "model_module_version": "1.5.0",
      "model_name": "HTMLModel",
      "state": {
       "_model_module_version": "1.5.0",
       "_view_module_version": "1.5.0",
       "layout": "IPY_MODEL_41b9edb0b9b246559fa5e17affb9dbf4",
       "style": "IPY_MODEL_73ce7f8a10ac41299e29eb21d1c1e8c2",
       "value": " ETA: 00:00s - loss: 0.0312 - val_loss: 0.0305"
      }
     },
     "db0ff191e13b45fbb28124def20a6843": {
      "model_module": "@jupyter-widgets/controls",
      "model_module_version": "1.5.0",
      "model_name": "DescriptionStyleModel",
      "state": {
       "_model_module_version": "1.5.0",
       "_view_module_version": "1.2.0",
       "description_width": ""
      }
     },
     "dc7a5a9946e5471d940b2fcdf450e52f": {
      "model_module": "@jupyter-widgets/controls",
      "model_module_version": "1.5.0",
      "model_name": "FloatProgressModel",
      "state": {
       "_model_module_version": "1.5.0",
       "_view_module_version": "1.5.0",
       "bar_style": "success",
       "description": "5625/5625",
       "layout": "IPY_MODEL_505b4d9fa32d42e88b314aa566508269",
       "max": 5625,
       "style": "IPY_MODEL_9c55dff171404a6ea0292e2102f0c33a",
       "value": 5625
      }
     },
     "e039f884669f4006a8f14da8eefccf49": {
      "model_module": "@jupyter-widgets/controls",
      "model_module_version": "1.5.0",
      "model_name": "DescriptionStyleModel",
      "state": {
       "_model_module_version": "1.5.0",
       "_view_module_version": "1.2.0",
       "description_width": ""
      }
     },
     "e0e800f06a6c4f4abf1cb4b1dff1597a": {
      "model_module": "@jupyter-widgets/base",
      "model_module_version": "1.2.0",
      "model_name": "LayoutModel",
      "state": {
       "_model_module_version": "1.2.0",
       "_view_module_version": "1.2.0",
       "flex": "2",
       "justify_items": null,
       "object_fit": null,
       "object_position": null
      }
     },
     "e0fa50956b2044a4a3f2e7c38da3749d": {
      "model_module": "@jupyter-widgets/base",
      "model_module_version": "1.2.0",
      "model_name": "LayoutModel",
      "state": {
       "_model_module_version": "1.2.0",
       "_view_module_version": "1.2.0",
       "justify_items": null,
       "object_fit": null,
       "object_position": null
      }
     },
     "e1324172cb7741a4aba0b8d3c7bba168": {
      "model_module": "@jupyter-widgets/controls",
      "model_module_version": "1.5.0",
      "model_name": "HTMLModel",
      "state": {
       "_model_module_version": "1.5.0",
       "_view_module_version": "1.5.0",
       "layout": "IPY_MODEL_15e4df70424b4eedbae2b23dccf4ff35",
       "style": "IPY_MODEL_300d55afbf134a6caa5a2807ec785e59",
       "value": " ETA: 00:00s - loss: 0.0296 - val_loss: 0.0288"
      }
     },
     "e1a1b521f56540e1bc7f68ee947d8006": {
      "model_module": "@jupyter-widgets/base",
      "model_module_version": "1.2.0",
      "model_name": "LayoutModel",
      "state": {
       "_model_module_version": "1.2.0",
       "_view_module_version": "1.2.0",
       "flex": "2",
       "justify_items": null,
       "object_fit": null,
       "object_position": null
      }
     },
     "e24432a4ba294c8ba8b83952129fea23": {
      "model_module": "@jupyter-widgets/controls",
      "model_module_version": "1.5.0",
      "model_name": "HBoxModel",
      "state": {
       "_model_module_version": "1.5.0",
       "_view_module_version": "1.5.0",
       "children": [
        "IPY_MODEL_75b9d8875b5b440ba650ec3577e57552",
        "IPY_MODEL_a75733ed59eb4c3c99e9836253fa61ae"
       ],
       "layout": "IPY_MODEL_fc037e2f1ef64056b7c3b390773756c4"
      }
     },
     "e2e1af3d8fbe44c3bab4e860cef6baf2": {
      "model_module": "@jupyter-widgets/base",
      "model_module_version": "1.2.0",
      "model_name": "LayoutModel",
      "state": {
       "_model_module_version": "1.2.0",
       "_view_module_version": "1.2.0",
       "flex": "2",
       "justify_items": null,
       "object_fit": null,
       "object_position": null
      }
     },
     "e530c3a582fa45de8f228d495c7ed43e": {
      "model_module": "@jupyter-widgets/base",
      "model_module_version": "1.2.0",
      "model_name": "LayoutModel",
      "state": {
       "_model_module_version": "1.2.0",
       "_view_module_version": "1.2.0",
       "flex": "2",
       "justify_items": null,
       "object_fit": null,
       "object_position": null
      }
     },
     "e549e26d665845ccb86b20ef4802d8d9": {
      "model_module": "@jupyter-widgets/controls",
      "model_module_version": "1.5.0",
      "model_name": "ProgressStyleModel",
      "state": {
       "_model_module_version": "1.5.0",
       "_view_module_version": "1.2.0",
       "description_width": "initial"
      }
     },
     "e6a465424623435981d3825c3143a7e7": {
      "model_module": "@jupyter-widgets/controls",
      "model_module_version": "1.5.0",
      "model_name": "ProgressStyleModel",
      "state": {
       "_model_module_version": "1.5.0",
       "_view_module_version": "1.2.0",
       "description_width": "initial"
      }
     },
     "e776fdf5ccd74e79a4f1bb1ac05997d6": {
      "model_module": "@jupyter-widgets/base",
      "model_module_version": "1.2.0",
      "model_name": "LayoutModel",
      "state": {
       "_model_module_version": "1.2.0",
       "_view_module_version": "1.2.0",
       "flex": "2",
       "justify_items": null,
       "object_fit": null,
       "object_position": null
      }
     },
     "e9440893fc014c0588dcf2c247dcf997": {
      "model_module": "@jupyter-widgets/base",
      "model_module_version": "1.2.0",
      "model_name": "LayoutModel",
      "state": {
       "_model_module_version": "1.2.0",
       "_view_module_version": "1.2.0",
       "flex": "2",
       "justify_items": null,
       "object_fit": null,
       "object_position": null
      }
     },
     "e9fead85e8f24038a1fcff557e1d24e7": {
      "model_module": "@jupyter-widgets/controls",
      "model_module_version": "1.5.0",
      "model_name": "DescriptionStyleModel",
      "state": {
       "_model_module_version": "1.5.0",
       "_view_module_version": "1.2.0",
       "description_width": ""
      }
     },
     "ea49ffd2c3e04d7db887b4716bbd8bd7": {
      "model_module": "@jupyter-widgets/controls",
      "model_module_version": "1.5.0",
      "model_name": "HBoxModel",
      "state": {
       "_model_module_version": "1.5.0",
       "_view_module_version": "1.5.0",
       "children": [
        "IPY_MODEL_59854537769a4ef1828730b5ea7d5d55",
        "IPY_MODEL_0020ee91f59340f79d64baf96512c105"
       ],
       "layout": "IPY_MODEL_19fede88cd7d49889abf544e6a437124"
      }
     },
     "eafebf1bb2504700adf2bad608d0dc47": {
      "model_module": "@jupyter-widgets/controls",
      "model_module_version": "1.5.0",
      "model_name": "FloatProgressModel",
      "state": {
       "_model_module_version": "1.5.0",
       "_view_module_version": "1.5.0",
       "bar_style": "success",
       "description": "5625/5625",
       "layout": "IPY_MODEL_e776fdf5ccd74e79a4f1bb1ac05997d6",
       "max": 5625,
       "style": "IPY_MODEL_1b616e1981aa4f63b520a99f8a3da402",
       "value": 5625
      }
     },
     "ebd49a57d65847adba6d438ebd337607": {
      "model_module": "@jupyter-widgets/controls",
      "model_module_version": "1.5.0",
      "model_name": "HBoxModel",
      "state": {
       "_model_module_version": "1.5.0",
       "_view_module_version": "1.5.0",
       "children": [
        "IPY_MODEL_093de52b124648428e3baaae47fe0bf2",
        "IPY_MODEL_d0af9b42d5b6412d8af1eb53ff4a5875"
       ],
       "layout": "IPY_MODEL_b4cf3f84cc204af991f16dea094fd397"
      }
     },
     "ec92926d3a464b4d803c50c13d86c3fd": {
      "model_module": "@jupyter-widgets/controls",
      "model_module_version": "1.5.0",
      "model_name": "HBoxModel",
      "state": {
       "_model_module_version": "1.5.0",
       "_view_module_version": "1.5.0",
       "children": [
        "IPY_MODEL_76499f6a9d5740cc8403ba18db015229",
        "IPY_MODEL_d9a682053ce74aadac01e62b7f5d2686"
       ],
       "layout": "IPY_MODEL_56c0f08abd7e4893844eb44c951b79d4"
      }
     },
     "ed35691403ac4b9696b61261d1f93857": {
      "model_module": "@jupyter-widgets/controls",
      "model_module_version": "1.5.0",
      "model_name": "HBoxModel",
      "state": {
       "_model_module_version": "1.5.0",
       "_view_module_version": "1.5.0",
       "children": [
        "IPY_MODEL_7c70e8ca5e484f5ba913bf290ada3dd3",
        "IPY_MODEL_48be82182ae148f5848f8f6ef54598cb"
       ],
       "layout": "IPY_MODEL_b2f3c6693eb0408294b6f9cc5de7e2e7"
      }
     },
     "edb4455d02f64fa4ae53e4b981ae3c1e": {
      "model_module": "@jupyter-widgets/controls",
      "model_module_version": "1.5.0",
      "model_name": "DescriptionStyleModel",
      "state": {
       "_model_module_version": "1.5.0",
       "_view_module_version": "1.2.0",
       "description_width": ""
      }
     },
     "ee593ead895b4040a215701c81f52228": {
      "model_module": "@jupyter-widgets/controls",
      "model_module_version": "1.5.0",
      "model_name": "DescriptionStyleModel",
      "state": {
       "_model_module_version": "1.5.0",
       "_view_module_version": "1.2.0",
       "description_width": ""
      }
     },
     "ee9aafb32e7f42f4b766dd8211f7dbb5": {
      "model_module": "@jupyter-widgets/controls",
      "model_module_version": "1.5.0",
      "model_name": "DescriptionStyleModel",
      "state": {
       "_model_module_version": "1.5.0",
       "_view_module_version": "1.2.0",
       "description_width": ""
      }
     },
     "eeca7bec7b2941f180afcfb78d2d4c27": {
      "model_module": "@jupyter-widgets/base",
      "model_module_version": "1.2.0",
      "model_name": "LayoutModel",
      "state": {
       "_model_module_version": "1.2.0",
       "_view_module_version": "1.2.0",
       "display": "inline-flex",
       "flex_flow": "row wrap",
       "justify_items": null,
       "object_fit": null,
       "object_position": null,
       "width": "100%"
      }
     },
     "ef78afe34c6b444c9b69520caf4ce08b": {
      "model_module": "@jupyter-widgets/controls",
      "model_module_version": "1.5.0",
      "model_name": "HBoxModel",
      "state": {
       "_model_module_version": "1.5.0",
       "_view_module_version": "1.5.0",
       "children": [
        "IPY_MODEL_c21232f5b0ae4aadb64661a3464eba6c",
        "IPY_MODEL_433223548b4348d9b25c343c3b5f52c0"
       ],
       "layout": "IPY_MODEL_492cca2eaa294a0385375f68c3fdb55d"
      }
     },
     "f18a100d010846d6b4075f6d561a1616": {
      "model_module": "@jupyter-widgets/controls",
      "model_module_version": "1.5.0",
      "model_name": "ProgressStyleModel",
      "state": {
       "_model_module_version": "1.5.0",
       "_view_module_version": "1.2.0",
       "description_width": "initial"
      }
     },
     "f2d752c7b3514750881624f38d1e9d16": {
      "model_module": "@jupyter-widgets/base",
      "model_module_version": "1.2.0",
      "model_name": "LayoutModel",
      "state": {
       "_model_module_version": "1.2.0",
       "_view_module_version": "1.2.0",
       "justify_items": null,
       "object_fit": null,
       "object_position": null
      }
     },
     "f2e43cb25b8e44dabce9d2bde064eacd": {
      "model_module": "@jupyter-widgets/base",
      "model_module_version": "1.2.0",
      "model_name": "LayoutModel",
      "state": {
       "_model_module_version": "1.2.0",
       "_view_module_version": "1.2.0",
       "display": "inline-flex",
       "flex_flow": "row wrap",
       "justify_items": null,
       "object_fit": null,
       "object_position": null,
       "width": "100%"
      }
     },
     "f2f1997990634f888fd7e238c4249499": {
      "model_module": "@jupyter-widgets/controls",
      "model_module_version": "1.5.0",
      "model_name": "HTMLModel",
      "state": {
       "_model_module_version": "1.5.0",
       "_view_module_version": "1.5.0",
       "layout": "IPY_MODEL_708b937b92324d77b29f40967fcbdfb8",
       "style": "IPY_MODEL_27c3975f1bad45cea767702a6ed19858",
       "value": " ETA: 00:00s - loss: 0.0303 - val_loss: 0.0295"
      }
     },
     "f2f851c206624ad4927ed2447cdbbcf1": {
      "model_module": "@jupyter-widgets/base",
      "model_module_version": "1.2.0",
      "model_name": "LayoutModel",
      "state": {
       "_model_module_version": "1.2.0",
       "_view_module_version": "1.2.0",
       "justify_items": null,
       "object_fit": null,
       "object_position": null
      }
     },
     "f474470144c44087921d539c58c1a816": {
      "model_module": "@jupyter-widgets/controls",
      "model_module_version": "1.5.0",
      "model_name": "HTMLModel",
      "state": {
       "_model_module_version": "1.5.0",
       "_view_module_version": "1.5.0",
       "layout": "IPY_MODEL_14f28ebdd64c429a9b7dd74462ee7a31",
       "style": "IPY_MODEL_5a3ef847f0394162a5ef9cb38935e31a",
       "value": " ETA: 00:00s - loss: 0.0292 - val_loss: 0.0286"
      }
     },
     "f4a35fc6e8484f27b8ef170835d262fd": {
      "model_module": "@jupyter-widgets/controls",
      "model_module_version": "1.5.0",
      "model_name": "HBoxModel",
      "state": {
       "_model_module_version": "1.5.0",
       "_view_module_version": "1.5.0",
       "children": [
        "IPY_MODEL_c8b99743010b48fe87e715471331446c",
        "IPY_MODEL_62138f0010544207923de1b016a72255"
       ],
       "layout": "IPY_MODEL_13ceacb2d8f7458297f6ea191c0e6c03"
      }
     },
     "f4e29fb2bcd1434bbc739a901595cff2": {
      "model_module": "@jupyter-widgets/controls",
      "model_module_version": "1.5.0",
      "model_name": "FloatProgressModel",
      "state": {
       "_model_module_version": "1.5.0",
       "_view_module_version": "1.5.0",
       "bar_style": "success",
       "description": "5625/5625",
       "layout": "IPY_MODEL_4c7cfd7f3f4c461bb9f9bd0dc2cf3951",
       "max": 5625,
       "style": "IPY_MODEL_5fc6640091f744d8ab102e0f6298cd70",
       "value": 5625
      }
     },
     "f5ba373a2fcc4825ba022784a7f6a438": {
      "model_module": "@jupyter-widgets/base",
      "model_module_version": "1.2.0",
      "model_name": "LayoutModel",
      "state": {
       "_model_module_version": "1.2.0",
       "_view_module_version": "1.2.0",
       "display": "inline-flex",
       "flex_flow": "row wrap",
       "justify_items": null,
       "object_fit": null,
       "object_position": null,
       "width": "100%"
      }
     },
     "f5d5cc4df1924159aaef9aa45675ea0c": {
      "model_module": "@jupyter-widgets/base",
      "model_module_version": "1.2.0",
      "model_name": "LayoutModel",
      "state": {
       "_model_module_version": "1.2.0",
       "_view_module_version": "1.2.0",
       "display": "inline-flex",
       "flex_flow": "row wrap",
       "justify_items": null,
       "object_fit": null,
       "object_position": null,
       "width": "100%"
      }
     },
     "f80969384dca42fda6cc2591f230c09a": {
      "model_module": "@jupyter-widgets/base",
      "model_module_version": "1.2.0",
      "model_name": "LayoutModel",
      "state": {
       "_model_module_version": "1.2.0",
       "_view_module_version": "1.2.0",
       "flex": "2",
       "justify_items": null,
       "object_fit": null,
       "object_position": null
      }
     },
     "fb4dfd30ae074c62aad345a519ff8004": {
      "model_module": "@jupyter-widgets/controls",
      "model_module_version": "1.5.0",
      "model_name": "DescriptionStyleModel",
      "state": {
       "_model_module_version": "1.5.0",
       "_view_module_version": "1.2.0",
       "description_width": ""
      }
     },
     "fba00d7d579a41e38577e80610224f9d": {
      "model_module": "@jupyter-widgets/controls",
      "model_module_version": "1.5.0",
      "model_name": "DescriptionStyleModel",
      "state": {
       "_model_module_version": "1.5.0",
       "_view_module_version": "1.2.0",
       "description_width": ""
      }
     },
     "fc037e2f1ef64056b7c3b390773756c4": {
      "model_module": "@jupyter-widgets/base",
      "model_module_version": "1.2.0",
      "model_name": "LayoutModel",
      "state": {
       "_model_module_version": "1.2.0",
       "_view_module_version": "1.2.0",
       "display": "inline-flex",
       "flex_flow": "row wrap",
       "justify_items": null,
       "object_fit": null,
       "object_position": null,
       "width": "100%"
      }
     },
     "fcb0b90db042495cb91de653b57f8524": {
      "model_module": "@jupyter-widgets/controls",
      "model_module_version": "1.5.0",
      "model_name": "DescriptionStyleModel",
      "state": {
       "_model_module_version": "1.5.0",
       "_view_module_version": "1.2.0",
       "description_width": ""
      }
     },
     "fce2dbda458348ddb3bde7046e352c58": {
      "model_module": "@jupyter-widgets/controls",
      "model_module_version": "1.5.0",
      "model_name": "HBoxModel",
      "state": {
       "_model_module_version": "1.5.0",
       "_view_module_version": "1.5.0",
       "children": [
        "IPY_MODEL_9a4bf5e4be8243a091f664cd6d5ff267",
        "IPY_MODEL_24ee823c166c4d3da1261909cf0e192e"
       ],
       "layout": "IPY_MODEL_8911973e07de49378137a7beaa29bb96"
      }
     },
     "fe1b9df09ae74c38a424fe3d0b546ad1": {
      "model_module": "@jupyter-widgets/controls",
      "model_module_version": "1.5.0",
      "model_name": "HTMLModel",
      "state": {
       "_model_module_version": "1.5.0",
       "_view_module_version": "1.5.0",
       "layout": "IPY_MODEL_e0fa50956b2044a4a3f2e7c38da3749d",
       "style": "IPY_MODEL_69ffda3361384126b2c7d28cb5cd549f",
       "value": " ETA: 00:00s - loss: 0.0295 - val_loss: 0.0290"
      }
     },
     "fe20d443e93b4c90a07b4a5e7048fbe3": {
      "model_module": "@jupyter-widgets/controls",
      "model_module_version": "1.5.0",
      "model_name": "FloatProgressModel",
      "state": {
       "_model_module_version": "1.5.0",
       "_view_module_version": "1.5.0",
       "bar_style": "success",
       "description": "5625/5625",
       "layout": "IPY_MODEL_b7e8660484af47af8119e181b62e3059",
       "max": 5625,
       "style": "IPY_MODEL_62a40b0a8bb24d9088b94e27fe936a4a",
       "value": 5625
      }
     },
     "fef3ae30b90e411c868afc8bda7adb1c": {
      "model_module": "@jupyter-widgets/base",
      "model_module_version": "1.2.0",
      "model_name": "LayoutModel",
      "state": {
       "_model_module_version": "1.2.0",
       "_view_module_version": "1.2.0",
       "flex": "2",
       "justify_items": null,
       "object_fit": null,
       "object_position": null
      }
     },
     "feff11dba9314933bef8572adf049699": {
      "model_module": "@jupyter-widgets/controls",
      "model_module_version": "1.5.0",
      "model_name": "ProgressStyleModel",
      "state": {
       "_model_module_version": "1.5.0",
       "_view_module_version": "1.2.0",
       "description_width": "initial"
      }
     },
     "ff339418cffc466392b43559591a63d5": {
      "model_module": "@jupyter-widgets/base",
      "model_module_version": "1.2.0",
      "model_name": "LayoutModel",
      "state": {
       "_model_module_version": "1.2.0",
       "_view_module_version": "1.2.0",
       "display": "inline-flex",
       "flex_flow": "row wrap",
       "justify_items": null,
       "object_fit": null,
       "object_position": null,
       "width": "100%"
      }
     }
    },
    "version_major": 2,
    "version_minor": 0
   }
  }
 },
 "nbformat": 4,
 "nbformat_minor": 2
}
