{
 "cells": [
  {
   "cell_type": "code",
   "execution_count": 2,
   "metadata": {},
   "outputs": [],
   "source": [
    "from pathlib import Path\n",
    "import numpy as np\n",
    "import matplotlib.pyplot as plt\n",
    "from sklearn.preprocessing import MinMaxScaler\n",
    "\n",
    "import tensorflow as tf\n",
    "from tensorflow.keras.callbacks import EarlyStopping, ModelCheckpoint\n",
    "from tensorflow.keras.optimizers import Adam\n",
    "from tensorflow_addons.callbacks import TQDMProgressBar\n",
    "\n",
    "%run ../gridsearch/xception.ipynb"
   ]
  },
  {
   "cell_type": "code",
   "execution_count": null,
   "metadata": {},
   "outputs": [],
   "source": [
    "# Load denoised log-images\n",
    "basedir = Path(\"../../\")\n",
    "dataset = basedir / \"./data/data_v1d.npz\"\n",
    "modelpath = \"./models/edsr_xception.tf\"\n",
    "\n",
    "with np.load(dataset) as data:\n",
    "    print(\"Available variables:\", data.files)\n",
    "    image = data[\"img_denoised\"]\n",
    "    label = data[\"label\"]"
   ]
  },
  {
   "cell_type": "code",
   "execution_count": 5,
   "metadata": {},
   "outputs": [],
   "source": [
    "# Use unscaled images. Let TF normalize the data.\n",
    "X = image[..., np.newaxis]\n",
    "input_shape = X.shape[1:]\n",
    "\n",
    "# Scale the labels between -1 and 1 using the full dataset. We know the ranges of generated labels.\n",
    "scaler = MinMaxScaler(feature_range=(-1, 1))\n",
    "y = scaler.fit_transform(label)\n",
    "output_shape = y.shape[1:]"
   ]
  },
  {
   "cell_type": "code",
   "execution_count": 6,
   "metadata": {},
   "outputs": [
    {
     "data": {
      "image/png": "[encoded data removed]",
      "text/plain": [
       "<Figure size 432x288 with 1 Axes>"
      ]
     },
     "metadata": {
      "needs_background": "light"
     },
     "output_type": "display_data"
    }
   ],
   "source": [
    "plt.imshow(X[0].reshape(64, 64))\n",
    "plt.title(\"Denoised Input\");"
   ]
  },
  {
   "cell_type": "code",
   "execution_count": 7,
   "metadata": {
    "scrolled": true
   },
   "outputs": [
    {
     "name": "stdout",
     "output_type": "stream",
     "text": [
      "Model: \"model\"\n",
      "__________________________________________________________________________________________________\n",
      "Layer (type)                    Output Shape         Param #     Connected to                     \n",
      "==================================================================================================\n",
      "input_1 (InputLayer)            [(None, 64, 64, 1)]  0                                            \n",
      "__________________________________________________________________________________________________\n",
      "normalization (Normalization)   (None, 64, 64, 1)    3           input_1[0][0]                    \n",
      "__________________________________________________________________________________________________\n",
      "conv2d (Conv2D)                 (None, 32, 32, 16)   416         normalization[0][0]              \n",
      "__________________________________________________________________________________________________\n",
      "separable_conv2d (SeparableConv (None, 32, 32, 64)   1232        conv2d[0][0]                     \n",
      "__________________________________________________________________________________________________\n",
      "separable_conv2d_1 (SeparableCo (None, 32, 32, 64)   4736        separable_conv2d[0][0]           \n",
      "__________________________________________________________________________________________________\n",
      "conv2d_1 (Conv2D)               (None, 32, 32, 64)   1088        conv2d[0][0]                     \n",
      "__________________________________________________________________________________________________\n",
      "add (Add)                       (None, 32, 32, 64)   0           separable_conv2d_1[0][0]         \n",
      "                                                                 conv2d_1[0][0]                   \n",
      "__________________________________________________________________________________________________\n",
      "separable_conv2d_2 (SeparableCo (None, 32, 32, 64)   4736        add[0][0]                        \n",
      "__________________________________________________________________________________________________\n",
      "separable_conv2d_3 (SeparableCo (None, 32, 32, 64)   4736        separable_conv2d_2[0][0]         \n",
      "__________________________________________________________________________________________________\n",
      "add_1 (Add)                     (None, 32, 32, 64)   0           separable_conv2d_3[0][0]         \n",
      "                                                                 add[0][0]                        \n",
      "__________________________________________________________________________________________________\n",
      "separable_conv2d_4 (SeparableCo (None, 32, 32, 64)   4736        add_1[0][0]                      \n",
      "__________________________________________________________________________________________________\n",
      "separable_conv2d_5 (SeparableCo (None, 32, 32, 64)   4736        separable_conv2d_4[0][0]         \n",
      "__________________________________________________________________________________________________\n",
      "add_2 (Add)                     (None, 32, 32, 64)   0           separable_conv2d_5[0][0]         \n",
      "                                                                 add_1[0][0]                      \n",
      "__________________________________________________________________________________________________\n",
      "separable_conv2d_6 (SeparableCo (None, 32, 32, 64)   4736        add_2[0][0]                      \n",
      "__________________________________________________________________________________________________\n",
      "separable_conv2d_7 (SeparableCo (None, 32, 32, 64)   4736        separable_conv2d_6[0][0]         \n",
      "__________________________________________________________________________________________________\n",
      "add_3 (Add)                     (None, 32, 32, 64)   0           separable_conv2d_7[0][0]         \n",
      "                                                                 add_2[0][0]                      \n",
      "__________________________________________________________________________________________________\n",
      "separable_conv2d_8 (SeparableCo (None, 32, 32, 64)   4736        add_3[0][0]                      \n",
      "__________________________________________________________________________________________________\n",
      "separable_conv2d_9 (SeparableCo (None, 32, 32, 64)   4736        separable_conv2d_8[0][0]         \n",
      "__________________________________________________________________________________________________\n",
      "add_4 (Add)                     (None, 32, 32, 64)   0           separable_conv2d_9[0][0]         \n",
      "                                                                 add_3[0][0]                      \n",
      "__________________________________________________________________________________________________\n",
      "separable_conv2d_10 (SeparableC (None, 32, 32, 64)   4736        add_4[0][0]                      \n",
      "__________________________________________________________________________________________________\n",
      "separable_conv2d_11 (SeparableC (None, 32, 32, 64)   4736        separable_conv2d_10[0][0]        \n",
      "__________________________________________________________________________________________________\n",
      "add_5 (Add)                     (None, 32, 32, 64)   0           separable_conv2d_11[0][0]        \n",
      "                                                                 add_4[0][0]                      \n",
      "__________________________________________________________________________________________________\n",
      "separable_conv2d_12 (SeparableC (None, 32, 32, 64)   4736        add_5[0][0]                      \n",
      "__________________________________________________________________________________________________\n",
      "separable_conv2d_13 (SeparableC (None, 32, 32, 64)   4736        separable_conv2d_12[0][0]        \n",
      "__________________________________________________________________________________________________\n",
      "add_6 (Add)                     (None, 32, 32, 64)   0           separable_conv2d_13[0][0]        \n",
      "                                                                 add_5[0][0]                      \n",
      "__________________________________________________________________________________________________\n",
      "separable_conv2d_14 (SeparableC (None, 32, 32, 64)   4736        add_6[0][0]                      \n",
      "__________________________________________________________________________________________________\n",
      "separable_conv2d_15 (SeparableC (None, 32, 32, 64)   4736        separable_conv2d_14[0][0]        \n",
      "__________________________________________________________________________________________________\n",
      "add_7 (Add)                     (None, 32, 32, 64)   0           separable_conv2d_15[0][0]        \n",
      "                                                                 add_6[0][0]                      \n",
      "__________________________________________________________________________________________________\n",
      "separable_conv2d_16 (SeparableC (None, 32, 32, 128)  8896        add_7[0][0]                      \n",
      "__________________________________________________________________________________________________\n",
      "separable_conv2d_17 (SeparableC (None, 32, 32, 128)  17664       separable_conv2d_16[0][0]        \n",
      "__________________________________________________________________________________________________\n",
      "max_pooling2d (MaxPooling2D)    (None, 16, 16, 128)  0           separable_conv2d_17[0][0]        \n",
      "__________________________________________________________________________________________________\n",
      "conv2d_2 (Conv2D)               (None, 16, 16, 128)  8320        add_7[0][0]                      \n",
      "__________________________________________________________________________________________________\n",
      "add_8 (Add)                     (None, 16, 16, 128)  0           max_pooling2d[0][0]              \n",
      "                                                                 conv2d_2[0][0]                   \n",
      "__________________________________________________________________________________________________\n",
      "global_average_pooling2d (Globa (None, 128)          0           add_8[0][0]                      \n",
      "__________________________________________________________________________________________________\n",
      "dense (Dense)                   (None, 5)            645         global_average_pooling2d[0][0]   \n",
      "==================================================================================================\n",
      "Total params: 109,304\n",
      "Trainable params: 109,301\n",
      "Non-trainable params: 3\n",
      "__________________________________________________________________________________________________\n"
     ]
    }
   ],
   "source": [
    "# Build a small Xception model\n",
    "model = build_xception_model(\n",
    "    input_shape, output_shape, conv2d_num_filters=16, sep_num_filters=64, num_residual_blocks=8\n",
    ")\n",
    "model.compile(optimizer=Adam(0.0001), loss=\"mse\")\n",
    "\n",
    "# Adapt the normalization layer to the data\n",
    "adapt_model(model, X)\n",
    "model.summary()"
   ]
  },
  {
   "cell_type": "code",
   "execution_count": 8,
   "metadata": {},
   "outputs": [
    {
     "data": {
      "application/vnd.jupyter.widget-view+json": {
       "model_id": "51ff355fc0254ebbb51e62c4aa216514",
       "version_major": 2,
       "version_minor": 0
      },
      "text/plain": [
       "HBox(children=(FloatProgress(value=0.0, description='Training', layout=Layout(flex='2'), max=1000.0, style=Pro…"
      ]
     },
     "metadata": {},
     "output_type": "display_data"
    },
    {
     "name": "stdout",
     "output_type": "stream",
     "text": [
      "Epoch 1/1000\n"
     ]
    },
    {
     "data": {
      "application/vnd.jupyter.widget-view+json": {
       "model_id": "9dae6555f28248b1871630b057572efc",
       "version_major": 2,
       "version_minor": 0
      },
      "text/plain": [
       "HBox(children=(FloatProgress(value=0.0, layout=Layout(flex='2'), max=5625.0), HTML(value='')), layout=Layout(d…"
      ]
     },
     "metadata": {},
     "output_type": "display_data"
    },
    {
     "name": "stdout",
     "output_type": "stream",
     "text": [
      "\n",
      "WARNING:tensorflow:From /usr/local/lib/python3.6/dist-packages/tensorflow_core/python/ops/resource_variable_ops.py:1786: calling BaseResourceVariable.__init__ (from tensorflow.python.ops.resource_variable_ops) with constraint is deprecated and will be removed in a future version.\n",
      "Instructions for updating:\n",
      "If using Keras pass *_constraint arguments to layers.\n",
      "INFO:tensorflow:Assets written to: ./models/edsr_xception.tf/assets\n",
      "Epoch 2/1000\n"
     ]
    },
    {
     "data": {
      "application/vnd.jupyter.widget-view+json": {
       "model_id": "26a786305e704261a7f64d14dcc71f5b",
       "version_major": 2,
       "version_minor": 0
      },
      "text/plain": [
       "HBox(children=(FloatProgress(value=0.0, layout=Layout(flex='2'), max=5625.0), HTML(value='')), layout=Layout(d…"
      ]
     },
     "metadata": {},
     "output_type": "display_data"
    },
    {
     "name": "stdout",
     "output_type": "stream",
     "text": [
      "\n",
      "INFO:tensorflow:Assets written to: ./models/edsr_xception.tf/assets\n",
      "Epoch 3/1000\n"
     ]
    },
    {
     "data": {
      "application/vnd.jupyter.widget-view+json": {
       "model_id": "3f769e6b649d40bf8b5aca16d05dc1d9",
       "version_major": 2,
       "version_minor": 0
      },
      "text/plain": [
       "HBox(children=(FloatProgress(value=0.0, layout=Layout(flex='2'), max=5625.0), HTML(value='')), layout=Layout(d…"
      ]
     },
     "metadata": {},
     "output_type": "display_data"
    },
    {
     "name": "stdout",
     "output_type": "stream",
     "text": [
      "\n",
      "INFO:tensorflow:Assets written to: ./models/edsr_xception.tf/assets\n",
      "Epoch 4/1000\n"
     ]
    },
    {
     "data": {
      "application/vnd.jupyter.widget-view+json": {
       "model_id": "5e9b967ed6dc4735933c7fa5d021276b",
       "version_major": 2,
       "version_minor": 0
      },
      "text/plain": [
       "HBox(children=(FloatProgress(value=0.0, layout=Layout(flex='2'), max=5625.0), HTML(value='')), layout=Layout(d…"
      ]
     },
     "metadata": {},
     "output_type": "display_data"
    },
    {
     "name": "stdout",
     "output_type": "stream",
     "text": [
      "\n",
      "INFO:tensorflow:Assets written to: ./models/edsr_xception.tf/assets\n",
      "Epoch 5/1000\n"
     ]
    },
    {
     "data": {
      "application/vnd.jupyter.widget-view+json": {
       "model_id": "107094de8ab14f2cad90a81caa1af988",
       "version_major": 2,
       "version_minor": 0
      },
      "text/plain": [
       "HBox(children=(FloatProgress(value=0.0, layout=Layout(flex='2'), max=5625.0), HTML(value='')), layout=Layout(d…"
      ]
     },
     "metadata": {},
     "output_type": "display_data"
    },
    {
     "name": "stdout",
     "output_type": "stream",
     "text": [
      "\n",
      "INFO:tensorflow:Assets written to: ./models/edsr_xception.tf/assets\n",
      "Epoch 6/1000\n"
     ]
    },
    {
     "data": {
      "application/vnd.jupyter.widget-view+json": {
       "model_id": "89cea9840c5c4354a70ae176f4ccb08c",
       "version_major": 2,
       "version_minor": 0
      },
      "text/plain": [
       "HBox(children=(FloatProgress(value=0.0, layout=Layout(flex='2'), max=5625.0), HTML(value='')), layout=Layout(d…"
      ]
     },
     "metadata": {},
     "output_type": "display_data"
    },
    {
     "name": "stdout",
     "output_type": "stream",
     "text": [
      "\n",
      "INFO:tensorflow:Assets written to: ./models/edsr_xception.tf/assets\n",
      "Epoch 7/1000\n"
     ]
    },
    {
     "data": {
      "application/vnd.jupyter.widget-view+json": {
       "model_id": "79930315e34b4523a5753d2653da6157",
       "version_major": 2,
       "version_minor": 0
      },
      "text/plain": [
       "HBox(children=(FloatProgress(value=0.0, layout=Layout(flex='2'), max=5625.0), HTML(value='')), layout=Layout(d…"
      ]
     },
     "metadata": {},
     "output_type": "display_data"
    },
    {
     "name": "stdout",
     "output_type": "stream",
     "text": [
      "\n",
      "INFO:tensorflow:Assets written to: ./models/edsr_xception.tf/assets\n",
      "Epoch 8/1000\n"
     ]
    },
    {
     "data": {
      "application/vnd.jupyter.widget-view+json": {
       "model_id": "60f8c379a5fb4019baf2f3f1efca6cd7",
       "version_major": 2,
       "version_minor": 0
      },
      "text/plain": [
       "HBox(children=(FloatProgress(value=0.0, layout=Layout(flex='2'), max=5625.0), HTML(value='')), layout=Layout(d…"
      ]
     },
     "metadata": {},
     "output_type": "display_data"
    },
    {
     "name": "stdout",
     "output_type": "stream",
     "text": [
      "\n",
      "INFO:tensorflow:Assets written to: ./models/edsr_xception.tf/assets\n",
      "Epoch 9/1000\n"
     ]
    },
    {
     "data": {
      "application/vnd.jupyter.widget-view+json": {
       "model_id": "fcbdad7c5b404e238ad6139c22fe0248",
       "version_major": 2,
       "version_minor": 0
      },
      "text/plain": [
       "HBox(children=(FloatProgress(value=0.0, layout=Layout(flex='2'), max=5625.0), HTML(value='')), layout=Layout(d…"
      ]
     },
     "metadata": {},
     "output_type": "display_data"
    },
    {
     "name": "stdout",
     "output_type": "stream",
     "text": [
      "\n",
      "INFO:tensorflow:Assets written to: ./models/edsr_xception.tf/assets\n",
      "Epoch 10/1000\n"
     ]
    },
    {
     "data": {
      "application/vnd.jupyter.widget-view+json": {
       "model_id": "d435ffe85d6e4f2fbdb7c9302792be83",
       "version_major": 2,
       "version_minor": 0
      },
      "text/plain": [
       "HBox(children=(FloatProgress(value=0.0, layout=Layout(flex='2'), max=5625.0), HTML(value='')), layout=Layout(d…"
      ]
     },
     "metadata": {},
     "output_type": "display_data"
    },
    {
     "name": "stdout",
     "output_type": "stream",
     "text": [
      "\n",
      "INFO:tensorflow:Assets written to: ./models/edsr_xception.tf/assets\n",
      "Epoch 11/1000\n"
     ]
    },
    {
     "data": {
      "application/vnd.jupyter.widget-view+json": {
       "model_id": "fd95d6bcd6884c48a8f74100d99c92f1",
       "version_major": 2,
       "version_minor": 0
      },
      "text/plain": [
       "HBox(children=(FloatProgress(value=0.0, layout=Layout(flex='2'), max=5625.0), HTML(value='')), layout=Layout(d…"
      ]
     },
     "metadata": {},
     "output_type": "display_data"
    },
    {
     "name": "stdout",
     "output_type": "stream",
     "text": [
      "\n",
      "Epoch 12/1000\n"
     ]
    },
    {
     "data": {
      "application/vnd.jupyter.widget-view+json": {
       "model_id": "8a5a636940114c0f859b1a75b9c9c286",
       "version_major": 2,
       "version_minor": 0
      },
      "text/plain": [
       "HBox(children=(FloatProgress(value=0.0, layout=Layout(flex='2'), max=5625.0), HTML(value='')), layout=Layout(d…"
      ]
     },
     "metadata": {},
     "output_type": "display_data"
    },
    {
     "name": "stdout",
     "output_type": "stream",
     "text": [
      "\n",
      "INFO:tensorflow:Assets written to: ./models/edsr_xception.tf/assets\n",
      "Epoch 13/1000\n"
     ]
    },
    {
     "data": {
      "application/vnd.jupyter.widget-view+json": {
       "model_id": "e0522a37d45b437b82fed6d519f0c2e4",
       "version_major": 2,
       "version_minor": 0
      },
      "text/plain": [
       "HBox(children=(FloatProgress(value=0.0, layout=Layout(flex='2'), max=5625.0), HTML(value='')), layout=Layout(d…"
      ]
     },
     "metadata": {},
     "output_type": "display_data"
    },
    {
     "name": "stdout",
     "output_type": "stream",
     "text": [
      "\n",
      "INFO:tensorflow:Assets written to: ./models/edsr_xception.tf/assets\n",
      "Epoch 14/1000\n"
     ]
    },
    {
     "data": {
      "application/vnd.jupyter.widget-view+json": {
       "model_id": "d44fccf4a7c14daca015a0ca745c3263",
       "version_major": 2,
       "version_minor": 0
      },
      "text/plain": [
       "HBox(children=(FloatProgress(value=0.0, layout=Layout(flex='2'), max=5625.0), HTML(value='')), layout=Layout(d…"
      ]
     },
     "metadata": {},
     "output_type": "display_data"
    },
    {
     "name": "stdout",
     "output_type": "stream",
     "text": [
      "\n",
      "Epoch 15/1000\n"
     ]
    },
    {
     "data": {
      "application/vnd.jupyter.widget-view+json": {
       "model_id": "99b7974d21a340848d5ccf583eea1455",
       "version_major": 2,
       "version_minor": 0
      },
      "text/plain": [
       "HBox(children=(FloatProgress(value=0.0, layout=Layout(flex='2'), max=5625.0), HTML(value='')), layout=Layout(d…"
      ]
     },
     "metadata": {},
     "output_type": "display_data"
    },
    {
     "name": "stdout",
     "output_type": "stream",
     "text": [
      "\n",
      "Epoch 16/1000\n"
     ]
    },
    {
     "data": {
      "application/vnd.jupyter.widget-view+json": {
       "model_id": "dcac9e0db0394a58973664010a4f4457",
       "version_major": 2,
       "version_minor": 0
      },
      "text/plain": [
       "HBox(children=(FloatProgress(value=0.0, layout=Layout(flex='2'), max=5625.0), HTML(value='')), layout=Layout(d…"
      ]
     },
     "metadata": {},
     "output_type": "display_data"
    },
    {
     "name": "stdout",
     "output_type": "stream",
     "text": [
      "\n",
      "INFO:tensorflow:Assets written to: ./models/edsr_xception.tf/assets\n",
      "Epoch 17/1000\n"
     ]
    },
    {
     "data": {
      "application/vnd.jupyter.widget-view+json": {
       "model_id": "c1adb9b7d6a24dcaad10247bb1c82c63",
       "version_major": 2,
       "version_minor": 0
      },
      "text/plain": [
       "HBox(children=(FloatProgress(value=0.0, layout=Layout(flex='2'), max=5625.0), HTML(value='')), layout=Layout(d…"
      ]
     },
     "metadata": {},
     "output_type": "display_data"
    },
    {
     "name": "stdout",
     "output_type": "stream",
     "text": [
      "\n",
      "Epoch 18/1000\n"
     ]
    },
    {
     "data": {
      "application/vnd.jupyter.widget-view+json": {
       "model_id": "97a7aa799897465487c47e9ee22a1c8c",
       "version_major": 2,
       "version_minor": 0
      },
      "text/plain": [
       "HBox(children=(FloatProgress(value=0.0, layout=Layout(flex='2'), max=5625.0), HTML(value='')), layout=Layout(d…"
      ]
     },
     "metadata": {},
     "output_type": "display_data"
    },
    {
     "name": "stdout",
     "output_type": "stream",
     "text": [
      "\n",
      "Epoch 19/1000\n"
     ]
    },
    {
     "data": {
      "application/vnd.jupyter.widget-view+json": {
       "model_id": "9d523c5feb7a479f9ac388f8fc7d90f9",
       "version_major": 2,
       "version_minor": 0
      },
      "text/plain": [
       "HBox(children=(FloatProgress(value=0.0, layout=Layout(flex='2'), max=5625.0), HTML(value='')), layout=Layout(d…"
      ]
     },
     "metadata": {},
     "output_type": "display_data"
    },
    {
     "name": "stdout",
     "output_type": "stream",
     "text": [
      "\n",
      "Epoch 20/1000\n"
     ]
    },
    {
     "data": {
      "application/vnd.jupyter.widget-view+json": {
       "model_id": "be0b874274fd47cc9f9dc24a708870f6",
       "version_major": 2,
       "version_minor": 0
      },
      "text/plain": [
       "HBox(children=(FloatProgress(value=0.0, layout=Layout(flex='2'), max=5625.0), HTML(value='')), layout=Layout(d…"
      ]
     },
     "metadata": {},
     "output_type": "display_data"
    },
    {
     "name": "stdout",
     "output_type": "stream",
     "text": [
      "\n",
      "Epoch 21/1000\n"
     ]
    },
    {
     "data": {
      "application/vnd.jupyter.widget-view+json": {
       "model_id": "4d5c2857b49a4dd4942ebd5b61303089",
       "version_major": 2,
       "version_minor": 0
      },
      "text/plain": [
       "HBox(children=(FloatProgress(value=0.0, layout=Layout(flex='2'), max=5625.0), HTML(value='')), layout=Layout(d…"
      ]
     },
     "metadata": {},
     "output_type": "display_data"
    },
    {
     "name": "stdout",
     "output_type": "stream",
     "text": [
      "\n",
      "Epoch 22/1000\n"
     ]
    },
    {
     "data": {
      "application/vnd.jupyter.widget-view+json": {
       "model_id": "7dd73523a52a4b2fa5f38c70af0b0004",
       "version_major": 2,
       "version_minor": 0
      },
      "text/plain": [
       "HBox(children=(FloatProgress(value=0.0, layout=Layout(flex='2'), max=5625.0), HTML(value='')), layout=Layout(d…"
      ]
     },
     "metadata": {},
     "output_type": "display_data"
    },
    {
     "name": "stdout",
     "output_type": "stream",
     "text": [
      "\n",
      "Epoch 23/1000\n"
     ]
    },
    {
     "data": {
      "application/vnd.jupyter.widget-view+json": {
       "model_id": "9ac84d7fc8584b69bc8b62b1965c972d",
       "version_major": 2,
       "version_minor": 0
      },
      "text/plain": [
       "HBox(children=(FloatProgress(value=0.0, layout=Layout(flex='2'), max=5625.0), HTML(value='')), layout=Layout(d…"
      ]
     },
     "metadata": {},
     "output_type": "display_data"
    },
    {
     "name": "stdout",
     "output_type": "stream",
     "text": [
      "\n",
      "Epoch 24/1000\n"
     ]
    },
    {
     "data": {
      "application/vnd.jupyter.widget-view+json": {
       "model_id": "4efd11d57bec4c889949daca5a230cd5",
       "version_major": 2,
       "version_minor": 0
      },
      "text/plain": [
       "HBox(children=(FloatProgress(value=0.0, layout=Layout(flex='2'), max=5625.0), HTML(value='')), layout=Layout(d…"
      ]
     },
     "metadata": {},
     "output_type": "display_data"
    },
    {
     "name": "stdout",
     "output_type": "stream",
     "text": [
      "\n",
      "Epoch 25/1000\n"
     ]
    },
    {
     "data": {
      "application/vnd.jupyter.widget-view+json": {
       "model_id": "c80d160e5dc1450480756a46ea50735c",
       "version_major": 2,
       "version_minor": 0
      },
      "text/plain": [
       "HBox(children=(FloatProgress(value=0.0, layout=Layout(flex='2'), max=5625.0), HTML(value='')), layout=Layout(d…"
      ]
     },
     "metadata": {},
     "output_type": "display_data"
    },
    {
     "name": "stdout",
     "output_type": "stream",
     "text": [
      "\n",
      "INFO:tensorflow:Assets written to: ./models/edsr_xception.tf/assets\n",
      "Epoch 26/1000\n"
     ]
    },
    {
     "data": {
      "application/vnd.jupyter.widget-view+json": {
       "model_id": "8f40bb16b31f43f0a1fcc033a3b3783e",
       "version_major": 2,
       "version_minor": 0
      },
      "text/plain": [
       "HBox(children=(FloatProgress(value=0.0, layout=Layout(flex='2'), max=5625.0), HTML(value='')), layout=Layout(d…"
      ]
     },
     "metadata": {},
     "output_type": "display_data"
    },
    {
     "name": "stdout",
     "output_type": "stream",
     "text": [
      "\n",
      "Epoch 27/1000\n"
     ]
    },
    {
     "data": {
      "application/vnd.jupyter.widget-view+json": {
       "model_id": "5110b157ec5e437d9016bd1a044426a3",
       "version_major": 2,
       "version_minor": 0
      },
      "text/plain": [
       "HBox(children=(FloatProgress(value=0.0, layout=Layout(flex='2'), max=5625.0), HTML(value='')), layout=Layout(d…"
      ]
     },
     "metadata": {},
     "output_type": "display_data"
    },
    {
     "name": "stdout",
     "output_type": "stream",
     "text": [
      "\n",
      "Epoch 28/1000\n"
     ]
    },
    {
     "data": {
      "application/vnd.jupyter.widget-view+json": {
       "model_id": "eb9a27ea37b642a196a012d67d0fe926",
       "version_major": 2,
       "version_minor": 0
      },
      "text/plain": [
       "HBox(children=(FloatProgress(value=0.0, layout=Layout(flex='2'), max=5625.0), HTML(value='')), layout=Layout(d…"
      ]
     },
     "metadata": {},
     "output_type": "display_data"
    },
    {
     "name": "stdout",
     "output_type": "stream",
     "text": [
      "\n",
      "Epoch 29/1000\n"
     ]
    },
    {
     "data": {
      "application/vnd.jupyter.widget-view+json": {
       "model_id": "d8ed639a7b524dc798ba4f76e16694e6",
       "version_major": 2,
       "version_minor": 0
      },
      "text/plain": [
       "HBox(children=(FloatProgress(value=0.0, layout=Layout(flex='2'), max=5625.0), HTML(value='')), layout=Layout(d…"
      ]
     },
     "metadata": {},
     "output_type": "display_data"
    },
    {
     "name": "stdout",
     "output_type": "stream",
     "text": [
      "\n",
      "Epoch 30/1000\n"
     ]
    },
    {
     "data": {
      "application/vnd.jupyter.widget-view+json": {
       "model_id": "2a0428c71cfd4877ab6b9e1e1d1264cb",
       "version_major": 2,
       "version_minor": 0
      },
      "text/plain": [
       "HBox(children=(FloatProgress(value=0.0, layout=Layout(flex='2'), max=5625.0), HTML(value='')), layout=Layout(d…"
      ]
     },
     "metadata": {},
     "output_type": "display_data"
    },
    {
     "name": "stdout",
     "output_type": "stream",
     "text": [
      "\n",
      "INFO:tensorflow:Assets written to: ./models/edsr_xception.tf/assets\n",
      "Epoch 31/1000\n"
     ]
    },
    {
     "data": {
      "application/vnd.jupyter.widget-view+json": {
       "model_id": "5416f05838e347c69b6018a652efb3d1",
       "version_major": 2,
       "version_minor": 0
      },
      "text/plain": [
       "HBox(children=(FloatProgress(value=0.0, layout=Layout(flex='2'), max=5625.0), HTML(value='')), layout=Layout(d…"
      ]
     },
     "metadata": {},
     "output_type": "display_data"
    },
    {
     "name": "stdout",
     "output_type": "stream",
     "text": [
      "\n",
      "Epoch 32/1000\n"
     ]
    },
    {
     "data": {
      "application/vnd.jupyter.widget-view+json": {
       "model_id": "dc05f86ac4334ea1852d4f166952f836",
       "version_major": 2,
       "version_minor": 0
      },
      "text/plain": [
       "HBox(children=(FloatProgress(value=0.0, layout=Layout(flex='2'), max=5625.0), HTML(value='')), layout=Layout(d…"
      ]
     },
     "metadata": {},
     "output_type": "display_data"
    },
    {
     "name": "stdout",
     "output_type": "stream",
     "text": [
      "\n",
      "Epoch 33/1000\n"
     ]
    },
    {
     "data": {
      "application/vnd.jupyter.widget-view+json": {
       "model_id": "cb02ce5faec54e29900be2ca9af691cb",
       "version_major": 2,
       "version_minor": 0
      },
      "text/plain": [
       "HBox(children=(FloatProgress(value=0.0, layout=Layout(flex='2'), max=5625.0), HTML(value='')), layout=Layout(d…"
      ]
     },
     "metadata": {},
     "output_type": "display_data"
    },
    {
     "name": "stdout",
     "output_type": "stream",
     "text": [
      "\n",
      "Epoch 34/1000\n"
     ]
    },
    {
     "data": {
      "application/vnd.jupyter.widget-view+json": {
       "model_id": "e8c11fcaad194853b4fcf33e615b157d",
       "version_major": 2,
       "version_minor": 0
      },
      "text/plain": [
       "HBox(children=(FloatProgress(value=0.0, layout=Layout(flex='2'), max=5625.0), HTML(value='')), layout=Layout(d…"
      ]
     },
     "metadata": {},
     "output_type": "display_data"
    },
    {
     "name": "stdout",
     "output_type": "stream",
     "text": [
      "\n",
      "Epoch 35/1000\n"
     ]
    },
    {
     "data": {
      "application/vnd.jupyter.widget-view+json": {
       "model_id": "28a40f88f75043b8a1de942926239188",
       "version_major": 2,
       "version_minor": 0
      },
      "text/plain": [
       "HBox(children=(FloatProgress(value=0.0, layout=Layout(flex='2'), max=5625.0), HTML(value='')), layout=Layout(d…"
      ]
     },
     "metadata": {},
     "output_type": "display_data"
    },
    {
     "name": "stdout",
     "output_type": "stream",
     "text": [
      "\n",
      "Epoch 36/1000\n"
     ]
    },
    {
     "data": {
      "application/vnd.jupyter.widget-view+json": {
       "model_id": "eac0dbe740b9429f8c10ee734761bc57",
       "version_major": 2,
       "version_minor": 0
      },
      "text/plain": [
       "HBox(children=(FloatProgress(value=0.0, layout=Layout(flex='2'), max=5625.0), HTML(value='')), layout=Layout(d…"
      ]
     },
     "metadata": {},
     "output_type": "display_data"
    },
    {
     "name": "stdout",
     "output_type": "stream",
     "text": [
      "\n",
      "Epoch 37/1000\n"
     ]
    },
    {
     "data": {
      "application/vnd.jupyter.widget-view+json": {
       "model_id": "b12080e7a91044b7b83d5a15a265d6e3",
       "version_major": 2,
       "version_minor": 0
      },
      "text/plain": [
       "HBox(children=(FloatProgress(value=0.0, layout=Layout(flex='2'), max=5625.0), HTML(value='')), layout=Layout(d…"
      ]
     },
     "metadata": {},
     "output_type": "display_data"
    },
    {
     "name": "stdout",
     "output_type": "stream",
     "text": [
      "\n",
      "Epoch 38/1000\n"
     ]
    },
    {
     "data": {
      "application/vnd.jupyter.widget-view+json": {
       "model_id": "4ffdec6223be41dd9d2327cf117bde84",
       "version_major": 2,
       "version_minor": 0
      },
      "text/plain": [
       "HBox(children=(FloatProgress(value=0.0, layout=Layout(flex='2'), max=5625.0), HTML(value='')), layout=Layout(d…"
      ]
     },
     "metadata": {},
     "output_type": "display_data"
    },
    {
     "name": "stdout",
     "output_type": "stream",
     "text": [
      "\n",
      "Epoch 39/1000\n"
     ]
    },
    {
     "data": {
      "application/vnd.jupyter.widget-view+json": {
       "model_id": "23d74721a67c42968bdb07fc9c797c29",
       "version_major": 2,
       "version_minor": 0
      },
      "text/plain": [
       "HBox(children=(FloatProgress(value=0.0, layout=Layout(flex='2'), max=5625.0), HTML(value='')), layout=Layout(d…"
      ]
     },
     "metadata": {},
     "output_type": "display_data"
    },
    {
     "name": "stdout",
     "output_type": "stream",
     "text": [
      "\n",
      "Epoch 40/1000\n"
     ]
    },
    {
     "data": {
      "application/vnd.jupyter.widget-view+json": {
       "model_id": "8b1b1313e53c40a7be1979ab4d40437c",
       "version_major": 2,
       "version_minor": 0
      },
      "text/plain": [
       "HBox(children=(FloatProgress(value=0.0, layout=Layout(flex='2'), max=5625.0), HTML(value='')), layout=Layout(d…"
      ]
     },
     "metadata": {},
     "output_type": "display_data"
    },
    {
     "name": "stdout",
     "output_type": "stream",
     "text": [
      "\n",
      "Epoch 41/1000\n"
     ]
    },
    {
     "data": {
      "application/vnd.jupyter.widget-view+json": {
       "model_id": "77cbb3d431f44abbb49d3529970a379f",
       "version_major": 2,
       "version_minor": 0
      },
      "text/plain": [
       "HBox(children=(FloatProgress(value=0.0, layout=Layout(flex='2'), max=5625.0), HTML(value='')), layout=Layout(d…"
      ]
     },
     "metadata": {},
     "output_type": "display_data"
    },
    {
     "name": "stdout",
     "output_type": "stream",
     "text": [
      "\n",
      "Epoch 42/1000\n"
     ]
    },
    {
     "data": {
      "application/vnd.jupyter.widget-view+json": {
       "model_id": "c71164027a214f038508cf9b504d0a5f",
       "version_major": 2,
       "version_minor": 0
      },
      "text/plain": [
       "HBox(children=(FloatProgress(value=0.0, layout=Layout(flex='2'), max=5625.0), HTML(value='')), layout=Layout(d…"
      ]
     },
     "metadata": {},
     "output_type": "display_data"
    },
    {
     "name": "stdout",
     "output_type": "stream",
     "text": [
      "\n",
      "INFO:tensorflow:Assets written to: ./models/edsr_xception.tf/assets\n",
      "Epoch 43/1000\n"
     ]
    },
    {
     "data": {
      "application/vnd.jupyter.widget-view+json": {
       "model_id": "5c2741260b0145e3b7d91bee0465a304",
       "version_major": 2,
       "version_minor": 0
      },
      "text/plain": [
       "HBox(children=(FloatProgress(value=0.0, layout=Layout(flex='2'), max=5625.0), HTML(value='')), layout=Layout(d…"
      ]
     },
     "metadata": {},
     "output_type": "display_data"
    },
    {
     "name": "stdout",
     "output_type": "stream",
     "text": [
      "\n",
      "Epoch 44/1000\n"
     ]
    },
    {
     "data": {
      "application/vnd.jupyter.widget-view+json": {
       "model_id": "fb5a254d18fc4b739fd0a5ad0f852b26",
       "version_major": 2,
       "version_minor": 0
      },
      "text/plain": [
       "HBox(children=(FloatProgress(value=0.0, layout=Layout(flex='2'), max=5625.0), HTML(value='')), layout=Layout(d…"
      ]
     },
     "metadata": {},
     "output_type": "display_data"
    },
    {
     "name": "stdout",
     "output_type": "stream",
     "text": [
      "\n",
      "Epoch 45/1000\n"
     ]
    },
    {
     "data": {
      "application/vnd.jupyter.widget-view+json": {
       "model_id": "eac7eaff9bba4b4d95a5c07edd775a3a",
       "version_major": 2,
       "version_minor": 0
      },
      "text/plain": [
       "HBox(children=(FloatProgress(value=0.0, layout=Layout(flex='2'), max=5625.0), HTML(value='')), layout=Layout(d…"
      ]
     },
     "metadata": {},
     "output_type": "display_data"
    },
    {
     "name": "stdout",
     "output_type": "stream",
     "text": [
      "\n",
      "Epoch 46/1000\n"
     ]
    },
    {
     "data": {
      "application/vnd.jupyter.widget-view+json": {
       "model_id": "3286ddb1fc7c4b3098a49003b601e32b",
       "version_major": 2,
       "version_minor": 0
      },
      "text/plain": [
       "HBox(children=(FloatProgress(value=0.0, layout=Layout(flex='2'), max=5625.0), HTML(value='')), layout=Layout(d…"
      ]
     },
     "metadata": {},
     "output_type": "display_data"
    },
    {
     "name": "stdout",
     "output_type": "stream",
     "text": [
      "\n",
      "Epoch 47/1000\n"
     ]
    },
    {
     "data": {
      "application/vnd.jupyter.widget-view+json": {
       "model_id": "a89090fe78484c0b8665c3e5a1c56f81",
       "version_major": 2,
       "version_minor": 0
      },
      "text/plain": [
       "HBox(children=(FloatProgress(value=0.0, layout=Layout(flex='2'), max=5625.0), HTML(value='')), layout=Layout(d…"
      ]
     },
     "metadata": {},
     "output_type": "display_data"
    },
    {
     "name": "stdout",
     "output_type": "stream",
     "text": [
      "\n",
      "Epoch 48/1000\n"
     ]
    },
    {
     "data": {
      "application/vnd.jupyter.widget-view+json": {
       "model_id": "5fb364fd51fe484e8826af9d9c23a80f",
       "version_major": 2,
       "version_minor": 0
      },
      "text/plain": [
       "HBox(children=(FloatProgress(value=0.0, layout=Layout(flex='2'), max=5625.0), HTML(value='')), layout=Layout(d…"
      ]
     },
     "metadata": {},
     "output_type": "display_data"
    },
    {
     "name": "stdout",
     "output_type": "stream",
     "text": [
      "\n",
      "Epoch 49/1000\n"
     ]
    },
    {
     "data": {
      "application/vnd.jupyter.widget-view+json": {
       "model_id": "c9f63ec9ea70469d8cce504527139407",
       "version_major": 2,
       "version_minor": 0
      },
      "text/plain": [
       "HBox(children=(FloatProgress(value=0.0, layout=Layout(flex='2'), max=5625.0), HTML(value='')), layout=Layout(d…"
      ]
     },
     "metadata": {},
     "output_type": "display_data"
    },
    {
     "name": "stdout",
     "output_type": "stream",
     "text": [
      "\n",
      "Epoch 50/1000\n"
     ]
    },
    {
     "data": {
      "application/vnd.jupyter.widget-view+json": {
       "model_id": "9c69fcb6c9e34b7fbf7dac7aa9825e5e",
       "version_major": 2,
       "version_minor": 0
      },
      "text/plain": [
       "HBox(children=(FloatProgress(value=0.0, layout=Layout(flex='2'), max=5625.0), HTML(value='')), layout=Layout(d…"
      ]
     },
     "metadata": {},
     "output_type": "display_data"
    },
    {
     "name": "stdout",
     "output_type": "stream",
     "text": [
      "\n",
      "Epoch 51/1000\n"
     ]
    },
    {
     "data": {
      "application/vnd.jupyter.widget-view+json": {
       "model_id": "a7759e23216a4a369714f6e8f01552cf",
       "version_major": 2,
       "version_minor": 0
      },
      "text/plain": [
       "HBox(children=(FloatProgress(value=0.0, layout=Layout(flex='2'), max=5625.0), HTML(value='')), layout=Layout(d…"
      ]
     },
     "metadata": {},
     "output_type": "display_data"
    },
    {
     "name": "stdout",
     "output_type": "stream",
     "text": [
      "\n",
      "INFO:tensorflow:Assets written to: ./models/edsr_xception.tf/assets\n",
      "Epoch 52/1000\n"
     ]
    },
    {
     "data": {
      "application/vnd.jupyter.widget-view+json": {
       "model_id": "4beca8da825a4510aeaf537c106165be",
       "version_major": 2,
       "version_minor": 0
      },
      "text/plain": [
       "HBox(children=(FloatProgress(value=0.0, layout=Layout(flex='2'), max=5625.0), HTML(value='')), layout=Layout(d…"
      ]
     },
     "metadata": {},
     "output_type": "display_data"
    },
    {
     "name": "stdout",
     "output_type": "stream",
     "text": [
      "\n",
      "Epoch 53/1000\n"
     ]
    },
    {
     "data": {
      "application/vnd.jupyter.widget-view+json": {
       "model_id": "913ba4784211489d9ac3a108a4d84625",
       "version_major": 2,
       "version_minor": 0
      },
      "text/plain": [
       "HBox(children=(FloatProgress(value=0.0, layout=Layout(flex='2'), max=5625.0), HTML(value='')), layout=Layout(d…"
      ]
     },
     "metadata": {},
     "output_type": "display_data"
    },
    {
     "name": "stdout",
     "output_type": "stream",
     "text": [
      "\n",
      "Epoch 54/1000\n"
     ]
    },
    {
     "data": {
      "application/vnd.jupyter.widget-view+json": {
       "model_id": "bccb60c64e17473ea99ef1ce01e12a1b",
       "version_major": 2,
       "version_minor": 0
      },
      "text/plain": [
       "HBox(children=(FloatProgress(value=0.0, layout=Layout(flex='2'), max=5625.0), HTML(value='')), layout=Layout(d…"
      ]
     },
     "metadata": {},
     "output_type": "display_data"
    },
    {
     "name": "stdout",
     "output_type": "stream",
     "text": [
      "\n",
      "Epoch 55/1000\n"
     ]
    },
    {
     "data": {
      "application/vnd.jupyter.widget-view+json": {
       "model_id": "a79adfcffeec40acb752f4600de3affa",
       "version_major": 2,
       "version_minor": 0
      },
      "text/plain": [
       "HBox(children=(FloatProgress(value=0.0, layout=Layout(flex='2'), max=5625.0), HTML(value='')), layout=Layout(d…"
      ]
     },
     "metadata": {},
     "output_type": "display_data"
    },
    {
     "name": "stdout",
     "output_type": "stream",
     "text": [
      "\n",
      "Epoch 56/1000\n"
     ]
    },
    {
     "data": {
      "application/vnd.jupyter.widget-view+json": {
       "model_id": "43ecdb32ed72454fbc024cf39dbb0968",
       "version_major": 2,
       "version_minor": 0
      },
      "text/plain": [
       "HBox(children=(FloatProgress(value=0.0, layout=Layout(flex='2'), max=5625.0), HTML(value='')), layout=Layout(d…"
      ]
     },
     "metadata": {},
     "output_type": "display_data"
    },
    {
     "name": "stdout",
     "output_type": "stream",
     "text": [
      "\n",
      "Epoch 57/1000\n"
     ]
    },
    {
     "data": {
      "application/vnd.jupyter.widget-view+json": {
       "model_id": "f698eef7eea54f2e8103f2504533be7e",
       "version_major": 2,
       "version_minor": 0
      },
      "text/plain": [
       "HBox(children=(FloatProgress(value=0.0, layout=Layout(flex='2'), max=5625.0), HTML(value='')), layout=Layout(d…"
      ]
     },
     "metadata": {},
     "output_type": "display_data"
    },
    {
     "name": "stdout",
     "output_type": "stream",
     "text": [
      "\n",
      "Epoch 58/1000\n"
     ]
    },
    {
     "data": {
      "application/vnd.jupyter.widget-view+json": {
       "model_id": "2debdc61f7ec44cbbbbf374fd9230aed",
       "version_major": 2,
       "version_minor": 0
      },
      "text/plain": [
       "HBox(children=(FloatProgress(value=0.0, layout=Layout(flex='2'), max=5625.0), HTML(value='')), layout=Layout(d…"
      ]
     },
     "metadata": {},
     "output_type": "display_data"
    },
    {
     "name": "stdout",
     "output_type": "stream",
     "text": [
      "\n",
      "Epoch 59/1000\n"
     ]
    },
    {
     "data": {
      "application/vnd.jupyter.widget-view+json": {
       "model_id": "153fead2405c447093b2354ea9e9a5b5",
       "version_major": 2,
       "version_minor": 0
      },
      "text/plain": [
       "HBox(children=(FloatProgress(value=0.0, layout=Layout(flex='2'), max=5625.0), HTML(value='')), layout=Layout(d…"
      ]
     },
     "metadata": {},
     "output_type": "display_data"
    },
    {
     "name": "stdout",
     "output_type": "stream",
     "text": [
      "\n",
      "Epoch 60/1000\n"
     ]
    },
    {
     "data": {
      "application/vnd.jupyter.widget-view+json": {
       "model_id": "f72f72bc7b904d958d664b685b92993a",
       "version_major": 2,
       "version_minor": 0
      },
      "text/plain": [
       "HBox(children=(FloatProgress(value=0.0, layout=Layout(flex='2'), max=5625.0), HTML(value='')), layout=Layout(d…"
      ]
     },
     "metadata": {},
     "output_type": "display_data"
    },
    {
     "name": "stdout",
     "output_type": "stream",
     "text": [
      "\n",
      "Epoch 61/1000\n"
     ]
    },
    {
     "data": {
      "application/vnd.jupyter.widget-view+json": {
       "model_id": "fac3acfcc50d4301907e1396cd151c2b",
       "version_major": 2,
       "version_minor": 0
      },
      "text/plain": [
       "HBox(children=(FloatProgress(value=0.0, layout=Layout(flex='2'), max=5625.0), HTML(value='')), layout=Layout(d…"
      ]
     },
     "metadata": {},
     "output_type": "display_data"
    },
    {
     "name": "stdout",
     "output_type": "stream",
     "text": [
      "\n",
      "Epoch 62/1000\n"
     ]
    },
    {
     "data": {
      "application/vnd.jupyter.widget-view+json": {
       "model_id": "a45468cf4a7b4123ad0bc689a7f7cb4c",
       "version_major": 2,
       "version_minor": 0
      },
      "text/plain": [
       "HBox(children=(FloatProgress(value=0.0, layout=Layout(flex='2'), max=5625.0), HTML(value='')), layout=Layout(d…"
      ]
     },
     "metadata": {},
     "output_type": "display_data"
    },
    {
     "name": "stdout",
     "output_type": "stream",
     "text": [
      "\n",
      "INFO:tensorflow:Assets written to: ./models/edsr_xception.tf/assets\n",
      "Epoch 63/1000\n"
     ]
    },
    {
     "data": {
      "application/vnd.jupyter.widget-view+json": {
       "model_id": "1152436f2c0644caa3d130f3a9eb5dd2",
       "version_major": 2,
       "version_minor": 0
      },
      "text/plain": [
       "HBox(children=(FloatProgress(value=0.0, layout=Layout(flex='2'), max=5625.0), HTML(value='')), layout=Layout(d…"
      ]
     },
     "metadata": {},
     "output_type": "display_data"
    },
    {
     "name": "stdout",
     "output_type": "stream",
     "text": [
      "\n",
      "Epoch 64/1000\n"
     ]
    },
    {
     "data": {
      "application/vnd.jupyter.widget-view+json": {
       "model_id": "01bd4500be0e458592dd3382161824f7",
       "version_major": 2,
       "version_minor": 0
      },
      "text/plain": [
       "HBox(children=(FloatProgress(value=0.0, layout=Layout(flex='2'), max=5625.0), HTML(value='')), layout=Layout(d…"
      ]
     },
     "metadata": {},
     "output_type": "display_data"
    },
    {
     "name": "stdout",
     "output_type": "stream",
     "text": [
      "\n",
      "Epoch 65/1000\n"
     ]
    },
    {
     "data": {
      "application/vnd.jupyter.widget-view+json": {
       "model_id": "a6681c73ff5c4c1ab32339e42c8e94d3",
       "version_major": 2,
       "version_minor": 0
      },
      "text/plain": [
       "HBox(children=(FloatProgress(value=0.0, layout=Layout(flex='2'), max=5625.0), HTML(value='')), layout=Layout(d…"
      ]
     },
     "metadata": {},
     "output_type": "display_data"
    },
    {
     "name": "stdout",
     "output_type": "stream",
     "text": [
      "\n",
      "Epoch 66/1000\n"
     ]
    },
    {
     "data": {
      "application/vnd.jupyter.widget-view+json": {
       "model_id": "368799b003f64b72b940abc4d2b28d95",
       "version_major": 2,
       "version_minor": 0
      },
      "text/plain": [
       "HBox(children=(FloatProgress(value=0.0, layout=Layout(flex='2'), max=5625.0), HTML(value='')), layout=Layout(d…"
      ]
     },
     "metadata": {},
     "output_type": "display_data"
    },
    {
     "name": "stdout",
     "output_type": "stream",
     "text": [
      "\n",
      "Epoch 67/1000\n"
     ]
    },
    {
     "data": {
      "application/vnd.jupyter.widget-view+json": {
       "model_id": "6ef85bba7f5248609c10caada0d48173",
       "version_major": 2,
       "version_minor": 0
      },
      "text/plain": [
       "HBox(children=(FloatProgress(value=0.0, layout=Layout(flex='2'), max=5625.0), HTML(value='')), layout=Layout(d…"
      ]
     },
     "metadata": {},
     "output_type": "display_data"
    },
    {
     "name": "stdout",
     "output_type": "stream",
     "text": [
      "\n",
      "Epoch 68/1000\n"
     ]
    },
    {
     "data": {
      "application/vnd.jupyter.widget-view+json": {
       "model_id": "7247aa63b7484cdfb630ad62de6aaea5",
       "version_major": 2,
       "version_minor": 0
      },
      "text/plain": [
       "HBox(children=(FloatProgress(value=0.0, layout=Layout(flex='2'), max=5625.0), HTML(value='')), layout=Layout(d…"
      ]
     },
     "metadata": {},
     "output_type": "display_data"
    },
    {
     "name": "stdout",
     "output_type": "stream",
     "text": [
      "\n",
      "Epoch 69/1000\n"
     ]
    },
    {
     "data": {
      "application/vnd.jupyter.widget-view+json": {
       "model_id": "9f842e585d144c8cbe1fe6a7df6ed247",
       "version_major": 2,
       "version_minor": 0
      },
      "text/plain": [
       "HBox(children=(FloatProgress(value=0.0, layout=Layout(flex='2'), max=5625.0), HTML(value='')), layout=Layout(d…"
      ]
     },
     "metadata": {},
     "output_type": "display_data"
    },
    {
     "name": "stdout",
     "output_type": "stream",
     "text": [
      "\n",
      "Epoch 70/1000\n"
     ]
    },
    {
     "data": {
      "application/vnd.jupyter.widget-view+json": {
       "model_id": "bdc1f3476c2a431eae20232972fd2f36",
       "version_major": 2,
       "version_minor": 0
      },
      "text/plain": [
       "HBox(children=(FloatProgress(value=0.0, layout=Layout(flex='2'), max=5625.0), HTML(value='')), layout=Layout(d…"
      ]
     },
     "metadata": {},
     "output_type": "display_data"
    },
    {
     "name": "stdout",
     "output_type": "stream",
     "text": [
      "\n",
      "INFO:tensorflow:Assets written to: ./models/edsr_xception.tf/assets\n",
      "Epoch 71/1000\n"
     ]
    },
    {
     "data": {
      "application/vnd.jupyter.widget-view+json": {
       "model_id": "4e54776842604a7ba53f87e7a0fbe706",
       "version_major": 2,
       "version_minor": 0
      },
      "text/plain": [
       "HBox(children=(FloatProgress(value=0.0, layout=Layout(flex='2'), max=5625.0), HTML(value='')), layout=Layout(d…"
      ]
     },
     "metadata": {},
     "output_type": "display_data"
    },
    {
     "name": "stdout",
     "output_type": "stream",
     "text": [
      "\n",
      "Epoch 72/1000\n"
     ]
    },
    {
     "data": {
      "application/vnd.jupyter.widget-view+json": {
       "model_id": "b3ca782a5cdc4a43879cb03b1cfb3d65",
       "version_major": 2,
       "version_minor": 0
      },
      "text/plain": [
       "HBox(children=(FloatProgress(value=0.0, layout=Layout(flex='2'), max=5625.0), HTML(value='')), layout=Layout(d…"
      ]
     },
     "metadata": {},
     "output_type": "display_data"
    },
    {
     "name": "stdout",
     "output_type": "stream",
     "text": [
      "\n",
      "INFO:tensorflow:Assets written to: ./models/edsr_xception.tf/assets\n",
      "Epoch 73/1000\n"
     ]
    },
    {
     "data": {
      "application/vnd.jupyter.widget-view+json": {
       "model_id": "185d625d044a45f8af53f46e3a04e4f1",
       "version_major": 2,
       "version_minor": 0
      },
      "text/plain": [
       "HBox(children=(FloatProgress(value=0.0, layout=Layout(flex='2'), max=5625.0), HTML(value='')), layout=Layout(d…"
      ]
     },
     "metadata": {},
     "output_type": "display_data"
    },
    {
     "name": "stdout",
     "output_type": "stream",
     "text": [
      "\n",
      "Epoch 74/1000\n"
     ]
    },
    {
     "data": {
      "application/vnd.jupyter.widget-view+json": {
       "model_id": "445157fa51424a48a9dc12a6419690c9",
       "version_major": 2,
       "version_minor": 0
      },
      "text/plain": [
       "HBox(children=(FloatProgress(value=0.0, layout=Layout(flex='2'), max=5625.0), HTML(value='')), layout=Layout(d…"
      ]
     },
     "metadata": {},
     "output_type": "display_data"
    },
    {
     "name": "stdout",
     "output_type": "stream",
     "text": [
      "\n",
      "Epoch 75/1000\n"
     ]
    },
    {
     "data": {
      "application/vnd.jupyter.widget-view+json": {
       "model_id": "3f22f57ce35144f69c5e792fbfc5177f",
       "version_major": 2,
       "version_minor": 0
      },
      "text/plain": [
       "HBox(children=(FloatProgress(value=0.0, layout=Layout(flex='2'), max=5625.0), HTML(value='')), layout=Layout(d…"
      ]
     },
     "metadata": {},
     "output_type": "display_data"
    },
    {
     "name": "stdout",
     "output_type": "stream",
     "text": [
      "\n",
      "Epoch 76/1000\n"
     ]
    },
    {
     "data": {
      "application/vnd.jupyter.widget-view+json": {
       "model_id": "0374ee90560c457189777b432b48d8a2",
       "version_major": 2,
       "version_minor": 0
      },
      "text/plain": [
       "HBox(children=(FloatProgress(value=0.0, layout=Layout(flex='2'), max=5625.0), HTML(value='')), layout=Layout(d…"
      ]
     },
     "metadata": {},
     "output_type": "display_data"
    },
    {
     "name": "stdout",
     "output_type": "stream",
     "text": [
      "\n",
      "Epoch 77/1000\n"
     ]
    },
    {
     "data": {
      "application/vnd.jupyter.widget-view+json": {
       "model_id": "82c13f6e62dc4f3aba9c8e1fef39ba08",
       "version_major": 2,
       "version_minor": 0
      },
      "text/plain": [
       "HBox(children=(FloatProgress(value=0.0, layout=Layout(flex='2'), max=5625.0), HTML(value='')), layout=Layout(d…"
      ]
     },
     "metadata": {},
     "output_type": "display_data"
    },
    {
     "name": "stdout",
     "output_type": "stream",
     "text": [
      "\n",
      "Epoch 78/1000\n"
     ]
    },
    {
     "data": {
      "application/vnd.jupyter.widget-view+json": {
       "model_id": "cd7e73859c454f0ba1ff4034ac8360a2",
       "version_major": 2,
       "version_minor": 0
      },
      "text/plain": [
       "HBox(children=(FloatProgress(value=0.0, layout=Layout(flex='2'), max=5625.0), HTML(value='')), layout=Layout(d…"
      ]
     },
     "metadata": {},
     "output_type": "display_data"
    },
    {
     "name": "stdout",
     "output_type": "stream",
     "text": [
      "\n",
      "Epoch 79/1000\n"
     ]
    },
    {
     "data": {
      "application/vnd.jupyter.widget-view+json": {
       "model_id": "971d3d9f3f2c4837bfabca8ee29013bb",
       "version_major": 2,
       "version_minor": 0
      },
      "text/plain": [
       "HBox(children=(FloatProgress(value=0.0, layout=Layout(flex='2'), max=5625.0), HTML(value='')), layout=Layout(d…"
      ]
     },
     "metadata": {},
     "output_type": "display_data"
    },
    {
     "name": "stdout",
     "output_type": "stream",
     "text": [
      "\n",
      "Epoch 80/1000\n"
     ]
    },
    {
     "data": {
      "application/vnd.jupyter.widget-view+json": {
       "model_id": "0c059c0f797640eda15b3ded2300c448",
       "version_major": 2,
       "version_minor": 0
      },
      "text/plain": [
       "HBox(children=(FloatProgress(value=0.0, layout=Layout(flex='2'), max=5625.0), HTML(value='')), layout=Layout(d…"
      ]
     },
     "metadata": {},
     "output_type": "display_data"
    },
    {
     "name": "stdout",
     "output_type": "stream",
     "text": [
      "\n",
      "Epoch 81/1000\n"
     ]
    },
    {
     "data": {
      "application/vnd.jupyter.widget-view+json": {
       "model_id": "eef7750dd41749e3a4077ac9564299dc",
       "version_major": 2,
       "version_minor": 0
      },
      "text/plain": [
       "HBox(children=(FloatProgress(value=0.0, layout=Layout(flex='2'), max=5625.0), HTML(value='')), layout=Layout(d…"
      ]
     },
     "metadata": {},
     "output_type": "display_data"
    },
    {
     "name": "stdout",
     "output_type": "stream",
     "text": [
      "\n",
      "Epoch 82/1000\n"
     ]
    },
    {
     "data": {
      "application/vnd.jupyter.widget-view+json": {
       "model_id": "ee32a6dc8a58411f8cedebca5a1f674f",
       "version_major": 2,
       "version_minor": 0
      },
      "text/plain": [
       "HBox(children=(FloatProgress(value=0.0, layout=Layout(flex='2'), max=5625.0), HTML(value='')), layout=Layout(d…"
      ]
     },
     "metadata": {},
     "output_type": "display_data"
    },
    {
     "name": "stdout",
     "output_type": "stream",
     "text": [
      "\n",
      "Epoch 83/1000\n"
     ]
    },
    {
     "data": {
      "application/vnd.jupyter.widget-view+json": {
       "model_id": "36dfda8fdbf3466c80fe632ed0b8bc99",
       "version_major": 2,
       "version_minor": 0
      },
      "text/plain": [
       "HBox(children=(FloatProgress(value=0.0, layout=Layout(flex='2'), max=5625.0), HTML(value='')), layout=Layout(d…"
      ]
     },
     "metadata": {},
     "output_type": "display_data"
    },
    {
     "name": "stdout",
     "output_type": "stream",
     "text": [
      "\n",
      "Epoch 84/1000\n"
     ]
    },
    {
     "data": {
      "application/vnd.jupyter.widget-view+json": {
       "model_id": "4e75e0b5b1714843b4edf47c71dd5c50",
       "version_major": 2,
       "version_minor": 0
      },
      "text/plain": [
       "HBox(children=(FloatProgress(value=0.0, layout=Layout(flex='2'), max=5625.0), HTML(value='')), layout=Layout(d…"
      ]
     },
     "metadata": {},
     "output_type": "display_data"
    },
    {
     "name": "stdout",
     "output_type": "stream",
     "text": [
      "\n",
      "Epoch 85/1000\n"
     ]
    },
    {
     "data": {
      "application/vnd.jupyter.widget-view+json": {
       "model_id": "744ec91f7d114b08bb35739b08382bc2",
       "version_major": 2,
       "version_minor": 0
      },
      "text/plain": [
       "HBox(children=(FloatProgress(value=0.0, layout=Layout(flex='2'), max=5625.0), HTML(value='')), layout=Layout(d…"
      ]
     },
     "metadata": {},
     "output_type": "display_data"
    },
    {
     "name": "stdout",
     "output_type": "stream",
     "text": [
      "\n",
      "Epoch 86/1000\n"
     ]
    },
    {
     "data": {
      "application/vnd.jupyter.widget-view+json": {
       "model_id": "47bd8dc4a14541dbb436b07beb0b8a36",
       "version_major": 2,
       "version_minor": 0
      },
      "text/plain": [
       "HBox(children=(FloatProgress(value=0.0, layout=Layout(flex='2'), max=5625.0), HTML(value='')), layout=Layout(d…"
      ]
     },
     "metadata": {},
     "output_type": "display_data"
    },
    {
     "name": "stdout",
     "output_type": "stream",
     "text": [
      "\n",
      "Epoch 87/1000\n"
     ]
    },
    {
     "data": {
      "application/vnd.jupyter.widget-view+json": {
       "model_id": "016c3785ae8d45939b0e59f7d1a3bb3d",
       "version_major": 2,
       "version_minor": 0
      },
      "text/plain": [
       "HBox(children=(FloatProgress(value=0.0, layout=Layout(flex='2'), max=5625.0), HTML(value='')), layout=Layout(d…"
      ]
     },
     "metadata": {},
     "output_type": "display_data"
    },
    {
     "name": "stdout",
     "output_type": "stream",
     "text": [
      "\n",
      "Epoch 88/1000\n"
     ]
    },
    {
     "data": {
      "application/vnd.jupyter.widget-view+json": {
       "model_id": "4ecbf3690e414964b568d534b3f00582",
       "version_major": 2,
       "version_minor": 0
      },
      "text/plain": [
       "HBox(children=(FloatProgress(value=0.0, layout=Layout(flex='2'), max=5625.0), HTML(value='')), layout=Layout(d…"
      ]
     },
     "metadata": {},
     "output_type": "display_data"
    },
    {
     "name": "stdout",
     "output_type": "stream",
     "text": [
      "\n",
      "Epoch 89/1000\n"
     ]
    },
    {
     "data": {
      "application/vnd.jupyter.widget-view+json": {
       "model_id": "53a5f4a86c564719bf9405dc08c1c219",
       "version_major": 2,
       "version_minor": 0
      },
      "text/plain": [
       "HBox(children=(FloatProgress(value=0.0, layout=Layout(flex='2'), max=5625.0), HTML(value='')), layout=Layout(d…"
      ]
     },
     "metadata": {},
     "output_type": "display_data"
    },
    {
     "name": "stdout",
     "output_type": "stream",
     "text": [
      "\n",
      "Epoch 90/1000\n"
     ]
    },
    {
     "data": {
      "application/vnd.jupyter.widget-view+json": {
       "model_id": "1044f14a26e44ab2a651f80da8170605",
       "version_major": 2,
       "version_minor": 0
      },
      "text/plain": [
       "HBox(children=(FloatProgress(value=0.0, layout=Layout(flex='2'), max=5625.0), HTML(value='')), layout=Layout(d…"
      ]
     },
     "metadata": {},
     "output_type": "display_data"
    },
    {
     "name": "stdout",
     "output_type": "stream",
     "text": [
      "\n",
      "Epoch 91/1000\n"
     ]
    },
    {
     "data": {
      "application/vnd.jupyter.widget-view+json": {
       "model_id": "27ec95af6e904ebdacf3c6f5e60b216f",
       "version_major": 2,
       "version_minor": 0
      },
      "text/plain": [
       "HBox(children=(FloatProgress(value=0.0, layout=Layout(flex='2'), max=5625.0), HTML(value='')), layout=Layout(d…"
      ]
     },
     "metadata": {},
     "output_type": "display_data"
    },
    {
     "name": "stdout",
     "output_type": "stream",
     "text": [
      "\n",
      "Epoch 92/1000\n"
     ]
    },
    {
     "data": {
      "application/vnd.jupyter.widget-view+json": {
       "model_id": "60377dbc5e0d4fb098b5c941d84588b5",
       "version_major": 2,
       "version_minor": 0
      },
      "text/plain": [
       "HBox(children=(FloatProgress(value=0.0, layout=Layout(flex='2'), max=5625.0), HTML(value='')), layout=Layout(d…"
      ]
     },
     "metadata": {},
     "output_type": "display_data"
    },
    {
     "name": "stdout",
     "output_type": "stream",
     "text": [
      "\n",
      "\n",
      "INFO:tensorflow:Assets written to: ./models/edsr_xception.tf/assets\n"
     ]
    }
   ],
   "source": [
    "# Setup callbacks\n",
    "early_stopping = EarlyStopping(patience=20, restore_best_weights=True)\n",
    "tqdm_callback = TQDMProgressBar()\n",
    "checkpoint = ModelCheckpoint(modelpath, save_best_only=True)\n",
    "\n",
    "# Train the model on the full dataset\n",
    "history = model.fit(\n",
    "    X,\n",
    "    y,\n",
    "    batch_size=32,\n",
    "    epochs=1000,\n",
    "    validation_split=0.1,\n",
    "    verbose=0,\n",
    "    callbacks=[early_stopping, tqdm_callback, checkpoint],\n",
    ")\n",
    "model.save(modelpath)"
   ]
  },
  {
   "cell_type": "code",
   "execution_count": 9,
   "metadata": {},
   "outputs": [
    {
     "data": {
      "text/plain": [
       "array([5536.3594    ,    0.7627292 ,    0.04561479,    0.07093491,\n",
       "          0.07121205], dtype=float32)"
      ]
     },
     "execution_count": 9,
     "metadata": {},
     "output_type": "execute_result"
    }
   ],
   "source": [
    "# Evaluate the model on the validation set\n",
    "n_train = int(label.shape[0] * 0.9)\n",
    "X_val = X[n_train:]\n",
    "label_val = label[n_train:]\n",
    "\n",
    "# Predict the labels and convert them to the original scale\n",
    "predictions = model.predict(X_val)\n",
    "predictions = scaler.inverse_transform(predictions)\n",
    "\n",
    "# Compute RMSE for each label individually\n",
    "np.set_printoptions(suppress=True)\n",
    "rmse = np.sqrt(((label_val - predictions)**2).mean(axis=0))\n",
    "rmse"
   ]
  }
 ],
 "metadata": {
  "kernelspec": {
   "display_name": "Python 3",
   "language": "python",
   "name": "python3"
  },
  "language_info": {
   "codemirror_mode": {
    "name": "ipython",
    "version": 3
   },
   "file_extension": ".py",
   "mimetype": "text/x-python",
   "name": "python",
   "nbconvert_exporter": "python",
   "pygments_lexer": "ipython3",
   "version": "3.6.9"
  },
  "widgets": {
   "application/vnd.jupyter.widget-state+json": {
    "state": {
     "0070d83c342b4879b78964fb055a45e0": {
      "model_module": "@jupyter-widgets/controls",
      "model_module_version": "1.5.0",
      "model_name": "HTMLModel",
      "state": {
       "layout": "IPY_MODEL_6fbb54818a724b539f35e285ecb959b4",
       "style": "IPY_MODEL_3d4f658865c946509f297be6a7b8c7fa",
       "value": " ETA: 00:00s - loss: 0.0281 - val_loss: 0.0273"
      }
     },
     "00b6a51c9020410b8e5cc14ed097774e": {
      "model_module": "@jupyter-widgets/controls",
      "model_module_version": "1.5.0",
      "model_name": "FloatProgressModel",
      "state": {
       "bar_style": "success",
       "description": "5625/5625",
       "layout": "IPY_MODEL_ad05fd1926b2421daff83cf199e3cd3b",
       "max": 5625,
       "style": "IPY_MODEL_064d855bc1964313a6fdeeb2b414f3de",
       "value": 5625
      }
     },
     "00de16b865a846ce8c90441f9ed36eba": {
      "model_module": "@jupyter-widgets/base",
      "model_module_version": "1.2.0",
      "model_name": "LayoutModel",
      "state": {
       "flex": "2"
      }
     },
     "00f95ae4acd8400c9148c04ee88b8b2c": {
      "model_module": "@jupyter-widgets/controls",
      "model_module_version": "1.5.0",
      "model_name": "DescriptionStyleModel",
      "state": {
       "description_width": ""
      }
     },
     "00fc840507ef44c4b4f544e19e8e4afd": {
      "model_module": "@jupyter-widgets/base",
      "model_module_version": "1.2.0",
      "model_name": "LayoutModel",
      "state": {}
     },
     "016c3785ae8d45939b0e59f7d1a3bb3d": {
      "model_module": "@jupyter-widgets/controls",
      "model_module_version": "1.5.0",
      "model_name": "HBoxModel",
      "state": {
       "children": [
        "IPY_MODEL_be84679702d64183a28d5b16fa10c801",
        "IPY_MODEL_173fb1c87537475294c5b4bbfa5fb457"
       ],
       "layout": "IPY_MODEL_bd4531d75e0e4d6bbe3259263625bcb3"
      }
     },
     "01a2c952b4224dd88f9fcfc5e6c00024": {
      "model_module": "@jupyter-widgets/base",
      "model_module_version": "1.2.0",
      "model_name": "LayoutModel",
      "state": {}
     },
     "01bd4500be0e458592dd3382161824f7": {
      "model_module": "@jupyter-widgets/controls",
      "model_module_version": "1.5.0",
      "model_name": "HBoxModel",
      "state": {
       "children": [
        "IPY_MODEL_485c1f2a68dc423eb0c2b9a40a2feb27",
        "IPY_MODEL_6c20c4ec446d404badfdd4c88fdede32"
       ],
       "layout": "IPY_MODEL_e7b1c57be33745f0a9d27d527435f3dc"
      }
     },
     "025355afd6684f3087ef5b3dcf0b31ea": {
      "model_module": "@jupyter-widgets/controls",
      "model_module_version": "1.5.0",
      "model_name": "DescriptionStyleModel",
      "state": {
       "description_width": ""
      }
     },
     "02c6e2c907bd4c5b97bb473e6161af63": {
      "model_module": "@jupyter-widgets/base",
      "model_module_version": "1.2.0",
      "model_name": "LayoutModel",
      "state": {
       "display": "inline-flex",
       "flex_flow": "row wrap",
       "width": "100%"
      }
     },
     "0308a31b565449e69b755589591dc63f": {
      "model_module": "@jupyter-widgets/controls",
      "model_module_version": "1.5.0",
      "model_name": "ProgressStyleModel",
      "state": {
       "description_width": "initial"
      }
     },
     "0374ee90560c457189777b432b48d8a2": {
      "model_module": "@jupyter-widgets/controls",
      "model_module_version": "1.5.0",
      "model_name": "HBoxModel",
      "state": {
       "children": [
        "IPY_MODEL_326eb3b9ae0c42b7ad959044387928bc",
        "IPY_MODEL_e650c8f07ad642f3b578c00a69395aa8"
       ],
       "layout": "IPY_MODEL_3a3a57feee014c62b41182d4488d5a25"
      }
     },
     "03af5f8160e34ff9aa2cdffb6a11466d": {
      "model_module": "@jupyter-widgets/base",
      "model_module_version": "1.2.0",
      "model_name": "LayoutModel",
      "state": {
       "flex": "2"
      }
     },
     "03dbb3bc44cf4480abbacf33abc1f617": {
      "model_module": "@jupyter-widgets/controls",
      "model_module_version": "1.5.0",
      "model_name": "FloatProgressModel",
      "state": {
       "bar_style": "success",
       "description": "5625/5625",
       "layout": "IPY_MODEL_a71a3dc8b57c4de0bf169abc7d407718",
       "max": 5625,
       "style": "IPY_MODEL_85660fdc7d354a23b0a2795dd9d8d10f",
       "value": 5625
      }
     },
     "043e47160fbb469bb1a4286699e107a3": {
      "model_module": "@jupyter-widgets/base",
      "model_module_version": "1.2.0",
      "model_name": "LayoutModel",
      "state": {
       "flex": "2"
      }
     },
     "04449419c53f46a790057b32badabf8c": {
      "model_module": "@jupyter-widgets/base",
      "model_module_version": "1.2.0",
      "model_name": "LayoutModel",
      "state": {}
     },
     "0524d4c770b04011ac953b9b5b07c801": {
      "model_module": "@jupyter-widgets/controls",
      "model_module_version": "1.5.0",
      "model_name": "HTMLModel",
      "state": {
       "layout": "IPY_MODEL_cbdf8e29ebb6413d952ba81924f860ba",
       "style": "IPY_MODEL_278e12d6845c49bf83d1c8d4e8f4eb24",
       "value": " ETA: 00:00s - loss: 0.0278 - val_loss: 0.0275"
      }
     },
     "0562badc21a9430ca7f5a519aad29b09": {
      "model_module": "@jupyter-widgets/base",
      "model_module_version": "1.2.0",
      "model_name": "LayoutModel",
      "state": {}
     },
     "06441fa94ec34290a38a5e9e4b354352": {
      "model_module": "@jupyter-widgets/controls",
      "model_module_version": "1.5.0",
      "model_name": "ProgressStyleModel",
      "state": {
       "description_width": "initial"
      }
     },
     "064d855bc1964313a6fdeeb2b414f3de": {
      "model_module": "@jupyter-widgets/controls",
      "model_module_version": "1.5.0",
      "model_name": "ProgressStyleModel",
      "state": {
       "description_width": "initial"
      }
     },
     "06c064ca0a6e4c89a8bfd8db4cf3efbd": {
      "model_module": "@jupyter-widgets/base",
      "model_module_version": "1.2.0",
      "model_name": "LayoutModel",
      "state": {
       "flex": "2"
      }
     },
     "06c15ddcd1984783ae83f5ff43e40719": {
      "model_module": "@jupyter-widgets/base",
      "model_module_version": "1.2.0",
      "model_name": "LayoutModel",
      "state": {
       "display": "inline-flex",
       "flex_flow": "row wrap",
       "width": "100%"
      }
     },
     "0755b3cbf6e14f70846aadb3659b4145": {
      "model_module": "@jupyter-widgets/base",
      "model_module_version": "1.2.0",
      "model_name": "LayoutModel",
      "state": {
       "display": "inline-flex",
       "flex_flow": "row wrap",
       "width": "100%"
      }
     },
     "07bb4de61f6144a38302c08697b33bac": {
      "model_module": "@jupyter-widgets/controls",
      "model_module_version": "1.5.0",
      "model_name": "HTMLModel",
      "state": {
       "layout": "IPY_MODEL_81dbd1b981ca4121a016ea8c125a45ce",
       "style": "IPY_MODEL_2946e3f0a5274242ad016ad07c3aacd0",
       "value": " ETA: 00:00s - loss: 0.0286 - val_loss: 0.0285"
      }
     },
     "0818440edc544ae2a26bb1f165158cef": {
      "model_module": "@jupyter-widgets/controls",
      "model_module_version": "1.5.0",
      "model_name": "ProgressStyleModel",
      "state": {
       "description_width": "initial"
      }
     },
     "0857ef783bf846baad7b6a92e62867f0": {
      "model_module": "@jupyter-widgets/controls",
      "model_module_version": "1.5.0",
      "model_name": "FloatProgressModel",
      "state": {
       "bar_style": "success",
       "description": "5625/5625",
       "layout": "IPY_MODEL_ca4e27dec3ef4fc1848b75113aa5e42d",
       "max": 5625,
       "style": "IPY_MODEL_e4f3c18b87dd4be9b22cc65bf971dc5e",
       "value": 5625
      }
     },
     "090d7ad91a1c408db5f38b79582972c4": {
      "model_module": "@jupyter-widgets/controls",
      "model_module_version": "1.5.0",
      "model_name": "ProgressStyleModel",
      "state": {
       "description_width": "initial"
      }
     },
     "09621a22d4134eacac136e44e8c97eca": {
      "model_module": "@jupyter-widgets/controls",
      "model_module_version": "1.5.0",
      "model_name": "DescriptionStyleModel",
      "state": {
       "description_width": ""
      }
     },
     "09696e5c161543729260b00ecc81376d": {
      "model_module": "@jupyter-widgets/controls",
      "model_module_version": "1.5.0",
      "model_name": "HTMLModel",
      "state": {
       "layout": "IPY_MODEL_89fe72f7a6424b8ca6647a93a3e9bfd1",
       "style": "IPY_MODEL_67ad4751f3a84d68a777f0cdb725f12c",
       "value": " ETA: 00:00s - loss: 0.0279 - val_loss: 0.0273"
      }
     },
     "09d4eab0dbb347fc8d836048522c9edb": {
      "model_module": "@jupyter-widgets/controls",
      "model_module_version": "1.5.0",
      "model_name": "ProgressStyleModel",
      "state": {
       "description_width": "initial"
      }
     },
     "0a0db9ea296e45fa8548143a6c1f7fdf": {
      "model_module": "@jupyter-widgets/base",
      "model_module_version": "1.2.0",
      "model_name": "LayoutModel",
      "state": {
       "flex": "2"
      }
     },
     "0a396f78e0fa4677876f3df38cfe461a": {
      "model_module": "@jupyter-widgets/base",
      "model_module_version": "1.2.0",
      "model_name": "LayoutModel",
      "state": {
       "flex": "2"
      }
     },
     "0a3d9c261a7b4e6f8cf0d0878c33a350": {
      "model_module": "@jupyter-widgets/base",
      "model_module_version": "1.2.0",
      "model_name": "LayoutModel",
      "state": {
       "flex": "2"
      }
     },
     "0a41ccfb05f14bb1bc4081a34d68c223": {
      "model_module": "@jupyter-widgets/controls",
      "model_module_version": "1.5.0",
      "model_name": "ProgressStyleModel",
      "state": {
       "description_width": "initial"
      }
     },
     "0b0208e58460461e85e939fa35f7acf2": {
      "model_module": "@jupyter-widgets/controls",
      "model_module_version": "1.5.0",
      "model_name": "HTMLModel",
      "state": {
       "layout": "IPY_MODEL_f22c7c06d0164293a1f4741c530b1362",
       "style": "IPY_MODEL_5072fd6b039443bca971e9b729c6c8f6",
       "value": " ETA: 00:00s - loss: 0.0277 - val_loss: 0.0273"
      }
     },
     "0b361d70d81a45d2afcb6c1b0b199cde": {
      "model_module": "@jupyter-widgets/base",
      "model_module_version": "1.2.0",
      "model_name": "LayoutModel",
      "state": {
       "flex": "2"
      }
     },
     "0b819eef0d6049808ce9764d3cd5ef99": {
      "model_module": "@jupyter-widgets/controls",
      "model_module_version": "1.5.0",
      "model_name": "HTMLModel",
      "state": {
       "layout": "IPY_MODEL_cd28e48bf2c4486986a4daf739e33064",
       "style": "IPY_MODEL_45ffe438adc2407d85ea59321bcf8394",
       "value": " ETA: 00:00s - loss: 0.0280 - val_loss: 0.0275"
      }
     },
     "0bd05db03ee243938708891074062779": {
      "model_module": "@jupyter-widgets/controls",
      "model_module_version": "1.5.0",
      "model_name": "DescriptionStyleModel",
      "state": {
       "description_width": ""
      }
     },
     "0c059c0f797640eda15b3ded2300c448": {
      "model_module": "@jupyter-widgets/controls",
      "model_module_version": "1.5.0",
      "model_name": "HBoxModel",
      "state": {
       "children": [
        "IPY_MODEL_cca5f96641834007af8e900301a36f42",
        "IPY_MODEL_f9368c6653554febb5404b2411578cd4"
       ],
       "layout": "IPY_MODEL_b248314317754517b076eabb3534b900"
      }
     },
     "0c2a68adabea46b994f424fa33614829": {
      "model_module": "@jupyter-widgets/base",
      "model_module_version": "1.2.0",
      "model_name": "LayoutModel",
      "state": {
       "flex": "2"
      }
     },
     "0c30edfb125743c0b1f532dc12988275": {
      "model_module": "@jupyter-widgets/controls",
      "model_module_version": "1.5.0",
      "model_name": "ProgressStyleModel",
      "state": {
       "description_width": "initial"
      }
     },
     "0c389735920f48b58ed58a3663428fef": {
      "model_module": "@jupyter-widgets/base",
      "model_module_version": "1.2.0",
      "model_name": "LayoutModel",
      "state": {
       "display": "inline-flex",
       "flex_flow": "row wrap",
       "width": "100%"
      }
     },
     "0d00bd28f4614ce08af655402370e688": {
      "model_module": "@jupyter-widgets/controls",
      "model_module_version": "1.5.0",
      "model_name": "FloatProgressModel",
      "state": {
       "bar_style": "success",
       "description": "5625/5625",
       "layout": "IPY_MODEL_8fef564215074af8a8e1c229939d13d0",
       "max": 5625,
       "style": "IPY_MODEL_11a3fc68b4624abfbe28d4baea37f0f2",
       "value": 5625
      }
     },
     "0d07527eddba40be9b5b5e85e079659b": {
      "model_module": "@jupyter-widgets/base",
      "model_module_version": "1.2.0",
      "model_name": "LayoutModel",
      "state": {}
     },
     "0d23c21bf6ed4d15ae18101f62577665": {
      "model_module": "@jupyter-widgets/controls",
      "model_module_version": "1.5.0",
      "model_name": "DescriptionStyleModel",
      "state": {
       "description_width": ""
      }
     },
     "0d592c85bd21414eba16ff6e4caa6e01": {
      "model_module": "@jupyter-widgets/controls",
      "model_module_version": "1.5.0",
      "model_name": "FloatProgressModel",
      "state": {
       "bar_style": "success",
       "description": "5625/5625",
       "layout": "IPY_MODEL_043e47160fbb469bb1a4286699e107a3",
       "max": 5625,
       "style": "IPY_MODEL_4a96522780994a4cbab81cab75427a73",
       "value": 5625
      }
     },
     "0dc1716227cd49c49eb66ab9af3fc502": {
      "model_module": "@jupyter-widgets/base",
      "model_module_version": "1.2.0",
      "model_name": "LayoutModel",
      "state": {
       "flex": "2"
      }
     },
     "0e5e40782fbd433a92bf8ef189d08f7c": {
      "model_module": "@jupyter-widgets/controls",
      "model_module_version": "1.5.0",
      "model_name": "ProgressStyleModel",
      "state": {
       "description_width": "initial"
      }
     },
     "0ea83d9ab7684b69b0eb4f235cc68b9e": {
      "model_module": "@jupyter-widgets/base",
      "model_module_version": "1.2.0",
      "model_name": "LayoutModel",
      "state": {
       "display": "inline-flex",
       "flex_flow": "row wrap",
       "width": "100%"
      }
     },
     "0ffe753333d24a4f98a9576f32983605": {
      "model_module": "@jupyter-widgets/base",
      "model_module_version": "1.2.0",
      "model_name": "LayoutModel",
      "state": {
       "display": "inline-flex",
       "flex_flow": "row wrap",
       "width": "100%"
      }
     },
     "100049c1854747e1b2c64eddf7620a7b": {
      "model_module": "@jupyter-widgets/controls",
      "model_module_version": "1.5.0",
      "model_name": "FloatProgressModel",
      "state": {
       "bar_style": "success",
       "description": "5625/5625",
       "layout": "IPY_MODEL_956dc2d39d60443f89268f5caf88d2b9",
       "max": 5625,
       "style": "IPY_MODEL_f3885021f873434e8a6dcd014121e7a1",
       "value": 5625
      }
     },
     "1044f14a26e44ab2a651f80da8170605": {
      "model_module": "@jupyter-widgets/controls",
      "model_module_version": "1.5.0",
      "model_name": "HBoxModel",
      "state": {
       "children": [
        "IPY_MODEL_8d19e22e13364e528e0d9bdf051cc697",
        "IPY_MODEL_8bb676f7301f46fca2cee11537cd17d6"
       ],
       "layout": "IPY_MODEL_7a98f8b6c69a40f5a2f9a5a0a8ae7ee5"
      }
     },
     "107094de8ab14f2cad90a81caa1af988": {
      "model_module": "@jupyter-widgets/controls",
      "model_module_version": "1.5.0",
      "model_name": "HBoxModel",
      "state": {
       "children": [
        "IPY_MODEL_fd1251745fc94486a4d1c4db46164ee8",
        "IPY_MODEL_462e3dfa05884ed5b0a87e70d8dc3cbd"
       ],
       "layout": "IPY_MODEL_413c27c0ed2d42e28fffef0855fece69"
      }
     },
     "10adc6ae5b99433c93dfbabbf902ef47": {
      "model_module": "@jupyter-widgets/base",
      "model_module_version": "1.2.0",
      "model_name": "LayoutModel",
      "state": {
       "display": "inline-flex",
       "flex_flow": "row wrap",
       "width": "100%"
      }
     },
     "10bbefc90b6f464ea6595f0477f05eb4": {
      "model_module": "@jupyter-widgets/base",
      "model_module_version": "1.2.0",
      "model_name": "LayoutModel",
      "state": {
       "display": "inline-flex",
       "flex_flow": "row wrap",
       "width": "100%"
      }
     },
     "113cf391111a4b4595062b9f134b62ab": {
      "model_module": "@jupyter-widgets/base",
      "model_module_version": "1.2.0",
      "model_name": "LayoutModel",
      "state": {
       "display": "inline-flex",
       "flex_flow": "row wrap",
       "width": "100%"
      }
     },
     "1152436f2c0644caa3d130f3a9eb5dd2": {
      "model_module": "@jupyter-widgets/controls",
      "model_module_version": "1.5.0",
      "model_name": "HBoxModel",
      "state": {
       "children": [
        "IPY_MODEL_f7c73ab5e9bb46ef83b70075ec36a61e",
        "IPY_MODEL_f64889e1d3bc42b8999a59717a8e7381"
       ],
       "layout": "IPY_MODEL_30c89c2dd2304aa8a47b228be15f073d"
      }
     },
     "11966dc8fc2b41e29e3eb8105b1d8bfe": {
      "model_module": "@jupyter-widgets/controls",
      "model_module_version": "1.5.0",
      "model_name": "ProgressStyleModel",
      "state": {
       "description_width": "initial"
      }
     },
     "119d487f44064cb5ab72893060c70ec1": {
      "model_module": "@jupyter-widgets/controls",
      "model_module_version": "1.5.0",
      "model_name": "DescriptionStyleModel",
      "state": {
       "description_width": ""
      }
     },
     "11a3fc68b4624abfbe28d4baea37f0f2": {
      "model_module": "@jupyter-widgets/controls",
      "model_module_version": "1.5.0",
      "model_name": "ProgressStyleModel",
      "state": {
       "description_width": "initial"
      }
     },
     "11ab48eee4cd49eaa639b922d2a5ad0e": {
      "model_module": "@jupyter-widgets/base",
      "model_module_version": "1.2.0",
      "model_name": "LayoutModel",
      "state": {
       "flex": "2"
      }
     },
     "1220307b164544ab83394a45a30d00f5": {
      "model_module": "@jupyter-widgets/base",
      "model_module_version": "1.2.0",
      "model_name": "LayoutModel",
      "state": {
       "flex": "2"
      }
     },
     "1237cca76ab84686beff572c1c7f92ee": {
      "model_module": "@jupyter-widgets/base",
      "model_module_version": "1.2.0",
      "model_name": "LayoutModel",
      "state": {
       "flex": "2"
      }
     },
     "131fbda5aa724211bc88924e9bc32431": {
      "model_module": "@jupyter-widgets/controls",
      "model_module_version": "1.5.0",
      "model_name": "ProgressStyleModel",
      "state": {
       "description_width": "initial"
      }
     },
     "132cde92f8a4456fbde2246c8a0eb369": {
      "model_module": "@jupyter-widgets/base",
      "model_module_version": "1.2.0",
      "model_name": "LayoutModel",
      "state": {
       "display": "inline-flex",
       "flex_flow": "row wrap",
       "width": "100%"
      }
     },
     "1340d7fdbdd24bb2a2a955c9b89f1b55": {
      "model_module": "@jupyter-widgets/base",
      "model_module_version": "1.2.0",
      "model_name": "LayoutModel",
      "state": {
       "flex": "2"
      }
     },
     "1432ddbf78e846e894ca11d54487c62b": {
      "model_module": "@jupyter-widgets/base",
      "model_module_version": "1.2.0",
      "model_name": "LayoutModel",
      "state": {}
     },
     "1498c8048f344c5b9ae1028d30457834": {
      "model_module": "@jupyter-widgets/base",
      "model_module_version": "1.2.0",
      "model_name": "LayoutModel",
      "state": {
       "display": "inline-flex",
       "flex_flow": "row wrap",
       "width": "100%"
      }
     },
     "151b39ad39914155abc8486efb145811": {
      "model_module": "@jupyter-widgets/controls",
      "model_module_version": "1.5.0",
      "model_name": "DescriptionStyleModel",
      "state": {
       "description_width": ""
      }
     },
     "153fead2405c447093b2354ea9e9a5b5": {
      "model_module": "@jupyter-widgets/controls",
      "model_module_version": "1.5.0",
      "model_name": "HBoxModel",
      "state": {
       "children": [
        "IPY_MODEL_66252b14ad2f413fbffebe88ee23c434",
        "IPY_MODEL_4cf10a71c14b4eddac5b91b92146bb0d"
       ],
       "layout": "IPY_MODEL_a0fbd098c41a480f8ea7dfd6e348d6a6"
      }
     },
     "173fb1c87537475294c5b4bbfa5fb457": {
      "model_module": "@jupyter-widgets/controls",
      "model_module_version": "1.5.0",
      "model_name": "HTMLModel",
      "state": {
       "layout": "IPY_MODEL_62daebc556424f6d86f7a8e52311b87c",
       "style": "IPY_MODEL_27f3a6e7039740f1944363387cc003c1",
       "value": " ETA: 00:00s - loss: 0.0278 - val_loss: 0.0274"
      }
     },
     "175621be92d046d98a560a499974e271": {
      "model_module": "@jupyter-widgets/controls",
      "model_module_version": "1.5.0",
      "model_name": "DescriptionStyleModel",
      "state": {
       "description_width": ""
      }
     },
     "177a1bdbd6c54c6a9ef4cea1bcc5aed8": {
      "model_module": "@jupyter-widgets/controls",
      "model_module_version": "1.5.0",
      "model_name": "DescriptionStyleModel",
      "state": {
       "description_width": ""
      }
     },
     "185d625d044a45f8af53f46e3a04e4f1": {
      "model_module": "@jupyter-widgets/controls",
      "model_module_version": "1.5.0",
      "model_name": "HBoxModel",
      "state": {
       "children": [
        "IPY_MODEL_db511eefa2b342e09064da8bb1ecbd9a",
        "IPY_MODEL_522bf14b21a44443ac579634b5a2e9a0"
       ],
       "layout": "IPY_MODEL_3ab0475607de44549f5b7eca6c7de4c4"
      }
     },
     "18996f0ab88e401988ffd3201f6ba558": {
      "model_module": "@jupyter-widgets/base",
      "model_module_version": "1.2.0",
      "model_name": "LayoutModel",
      "state": {}
     },
     "190f1baad2834d4aa5a54a6c418f90cf": {
      "model_module": "@jupyter-widgets/controls",
      "model_module_version": "1.5.0",
      "model_name": "HTMLModel",
      "state": {
       "layout": "IPY_MODEL_fd36ffd6724243b596266d7af41ebb73",
       "style": "IPY_MODEL_d5acfcc2aa604ab1a44d702174c41434",
       "value": " ETA: 00:00s - loss: 0.0280 - val_loss: 0.0274"
      }
     },
     "19419f8422ca464096e94a4602d01b75": {
      "model_module": "@jupyter-widgets/controls",
      "model_module_version": "1.5.0",
      "model_name": "HTMLModel",
      "state": {
       "layout": "IPY_MODEL_8b532b443fd64b33b872c50c444989e1",
       "style": "IPY_MODEL_57710ba7f4f146698869190a14abb1b3",
       "value": " ETA: 00:00s - loss: 0.0294 - val_loss: 0.0283"
      }
     },
     "1a06244aa7224ad8a1606cd0215fecd8": {
      "model_module": "@jupyter-widgets/base",
      "model_module_version": "1.2.0",
      "model_name": "LayoutModel",
      "state": {
       "display": "inline-flex",
       "flex_flow": "row wrap",
       "width": "100%"
      }
     },
     "1a55e5bb0d6b402b98171db1df296ec3": {
      "model_module": "@jupyter-widgets/base",
      "model_module_version": "1.2.0",
      "model_name": "LayoutModel",
      "state": {}
     },
     "1a950d4f2ece4034959e74685d4d9114": {
      "model_module": "@jupyter-widgets/controls",
      "model_module_version": "1.5.0",
      "model_name": "FloatProgressModel",
      "state": {
       "bar_style": "success",
       "description": "5625/5625",
       "layout": "IPY_MODEL_392f3c9f727e45a0ab2b35667aa3b4c7",
       "max": 5625,
       "style": "IPY_MODEL_4bea6702d854431cb32165c0df597da2",
       "value": 5625
      }
     },
     "1b1246a9c43d413c9b2d8011aba4d5f1": {
      "model_module": "@jupyter-widgets/controls",
      "model_module_version": "1.5.0",
      "model_name": "ProgressStyleModel",
      "state": {
       "description_width": "initial"
      }
     },
     "1b1c7c509dd345bdad76c9c45e31e37a": {
      "model_module": "@jupyter-widgets/controls",
      "model_module_version": "1.5.0",
      "model_name": "ProgressStyleModel",
      "state": {
       "description_width": "initial"
      }
     },
     "1bdc51e2d8ff46d2bee105d0cb68369e": {
      "model_module": "@jupyter-widgets/base",
      "model_module_version": "1.2.0",
      "model_name": "LayoutModel",
      "state": {
       "flex": "2"
      }
     },
     "1c402472b2c94bf48c1299603d056cd0": {
      "model_module": "@jupyter-widgets/controls",
      "model_module_version": "1.5.0",
      "model_name": "HTMLModel",
      "state": {
       "layout": "IPY_MODEL_e4119b58fa5b4235a7e0054f092013f7",
       "style": "IPY_MODEL_175621be92d046d98a560a499974e271",
       "value": " ETA: 00:00s - loss: 0.0290 - val_loss: 0.0280"
      }
     },
     "1cf177282424494595f8ed619bbc7cc0": {
      "model_module": "@jupyter-widgets/controls",
      "model_module_version": "1.5.0",
      "model_name": "DescriptionStyleModel",
      "state": {
       "description_width": ""
      }
     },
     "1d9061b8926b49bdad321a66be0eecb6": {
      "model_module": "@jupyter-widgets/controls",
      "model_module_version": "1.5.0",
      "model_name": "FloatProgressModel",
      "state": {
       "bar_style": "success",
       "description": "5625/5625",
       "layout": "IPY_MODEL_b7f75b0a034e452eaa5dfbd5e88f10d6",
       "max": 5625,
       "style": "IPY_MODEL_a49aae3dc91f416eae55969453d87767",
       "value": 5625
      }
     },
     "1de9068cb416424e8e67e7b0bd350295": {
      "model_module": "@jupyter-widgets/base",
      "model_module_version": "1.2.0",
      "model_name": "LayoutModel",
      "state": {}
     },
     "1e0fe6b4d3034d5696beae28c66230bd": {
      "model_module": "@jupyter-widgets/controls",
      "model_module_version": "1.5.0",
      "model_name": "FloatProgressModel",
      "state": {
       "bar_style": "success",
       "description": "5625/5625",
       "layout": "IPY_MODEL_dda819974ba14595b881dc10113b1d96",
       "max": 5625,
       "style": "IPY_MODEL_637ef2847cab4915a4f245b403624b55",
       "value": 5625
      }
     },
     "1e42bffa73b143058aa073ee635eebe3": {
      "model_module": "@jupyter-widgets/controls",
      "model_module_version": "1.5.0",
      "model_name": "ProgressStyleModel",
      "state": {
       "description_width": "initial"
      }
     },
     "1f268842a1f54ad2ba9f195894f5ede5": {
      "model_module": "@jupyter-widgets/controls",
      "model_module_version": "1.5.0",
      "model_name": "ProgressStyleModel",
      "state": {
       "description_width": "initial"
      }
     },
     "1f4efb94879e4e0584896a5df2339aa3": {
      "model_module": "@jupyter-widgets/controls",
      "model_module_version": "1.5.0",
      "model_name": "FloatProgressModel",
      "state": {
       "bar_style": "success",
       "description": "5625/5625",
       "layout": "IPY_MODEL_b61ccdf2071740b8976edcec74656328",
       "max": 5625,
       "style": "IPY_MODEL_1b1c7c509dd345bdad76c9c45e31e37a",
       "value": 5625
      }
     },
     "20ef58cd22da480eba93c43c6be7298c": {
      "model_module": "@jupyter-widgets/controls",
      "model_module_version": "1.5.0",
      "model_name": "DescriptionStyleModel",
      "state": {
       "description_width": ""
      }
     },
     "21047d3ae9d744dda7e23bf246b8be00": {
      "model_module": "@jupyter-widgets/base",
      "model_module_version": "1.2.0",
      "model_name": "LayoutModel",
      "state": {
       "display": "inline-flex",
       "flex_flow": "row wrap",
       "width": "100%"
      }
     },
     "214994cec0b64e9fb90f86d56f84452d": {
      "model_module": "@jupyter-widgets/base",
      "model_module_version": "1.2.0",
      "model_name": "LayoutModel",
      "state": {
       "flex": "2"
      }
     },
     "221e4533692c4bac9ac36e8ec5ff0a91": {
      "model_module": "@jupyter-widgets/base",
      "model_module_version": "1.2.0",
      "model_name": "LayoutModel",
      "state": {
       "display": "inline-flex",
       "flex_flow": "row wrap",
       "width": "100%"
      }
     },
     "2222adfb6c92454e833f0e725713a8c0": {
      "model_module": "@jupyter-widgets/base",
      "model_module_version": "1.2.0",
      "model_name": "LayoutModel",
      "state": {}
     },
     "223ccdde7f474b7a86d1589c56659570": {
      "model_module": "@jupyter-widgets/base",
      "model_module_version": "1.2.0",
      "model_name": "LayoutModel",
      "state": {
       "flex": "2"
      }
     },
     "22439292296f4522b73d39af78edb4f7": {
      "model_module": "@jupyter-widgets/base",
      "model_module_version": "1.2.0",
      "model_name": "LayoutModel",
      "state": {
       "display": "inline-flex",
       "flex_flow": "row wrap",
       "width": "100%"
      }
     },
     "2338b4a0a8b64728a83d82b9abc1d433": {
      "model_module": "@jupyter-widgets/controls",
      "model_module_version": "1.5.0",
      "model_name": "ProgressStyleModel",
      "state": {
       "description_width": "initial"
      }
     },
     "23d74721a67c42968bdb07fc9c797c29": {
      "model_module": "@jupyter-widgets/controls",
      "model_module_version": "1.5.0",
      "model_name": "HBoxModel",
      "state": {
       "children": [
        "IPY_MODEL_34d3311947224f128ea2892bb8ba4475",
        "IPY_MODEL_5e19d7e94f124fe4b99a047048b513ce"
       ],
       "layout": "IPY_MODEL_b76afa78b28045fea3b4ca2953290ea7"
      }
     },
     "24662bea3de74143a036e7f002bfa646": {
      "model_module": "@jupyter-widgets/base",
      "model_module_version": "1.2.0",
      "model_name": "LayoutModel",
      "state": {
       "flex": "2"
      }
     },
     "255164d5f29842b9b74fc251e01222bd": {
      "model_module": "@jupyter-widgets/base",
      "model_module_version": "1.2.0",
      "model_name": "LayoutModel",
      "state": {
       "display": "inline-flex",
       "flex_flow": "row wrap",
       "width": "100%"
      }
     },
     "25e6582c0b0b406f9782eb3572097f6a": {
      "model_module": "@jupyter-widgets/base",
      "model_module_version": "1.2.0",
      "model_name": "LayoutModel",
      "state": {
       "flex": "2"
      }
     },
     "261dec81121649fda047087fc42e0e9f": {
      "model_module": "@jupyter-widgets/controls",
      "model_module_version": "1.5.0",
      "model_name": "HTMLModel",
      "state": {
       "layout": "IPY_MODEL_5e5f276f86bf4655816265496b552fb1",
       "style": "IPY_MODEL_36d8a71f8f4d40d7b8167165a0f04fb8",
       "value": " ETA: 00:00s - loss: 0.0281 - val_loss: 0.0275"
      }
     },
     "2672c4fa4d8c4b79b62ccd9c4e9cec16": {
      "model_module": "@jupyter-widgets/base",
      "model_module_version": "1.2.0",
      "model_name": "LayoutModel",
      "state": {}
     },
     "26a786305e704261a7f64d14dcc71f5b": {
      "model_module": "@jupyter-widgets/controls",
      "model_module_version": "1.5.0",
      "model_name": "HBoxModel",
      "state": {
       "children": [
        "IPY_MODEL_742e644165934caf89fab311803e67fe",
        "IPY_MODEL_30d264cb51fb47f2b084d01e89c19041"
       ],
       "layout": "IPY_MODEL_3939026970634ddfa845d7a3118f4b4e"
      }
     },
     "275441114dcf49439197c3e9b575f20c": {
      "model_module": "@jupyter-widgets/base",
      "model_module_version": "1.2.0",
      "model_name": "LayoutModel",
      "state": {
       "display": "inline-flex",
       "flex_flow": "row wrap",
       "width": "100%"
      }
     },
     "278e12d6845c49bf83d1c8d4e8f4eb24": {
      "model_module": "@jupyter-widgets/controls",
      "model_module_version": "1.5.0",
      "model_name": "DescriptionStyleModel",
      "state": {
       "description_width": ""
      }
     },
     "27d6c665ecb341b6b033404f566b3540": {
      "model_module": "@jupyter-widgets/controls",
      "model_module_version": "1.5.0",
      "model_name": "ProgressStyleModel",
      "state": {
       "description_width": "initial"
      }
     },
     "27ec95af6e904ebdacf3c6f5e60b216f": {
      "model_module": "@jupyter-widgets/controls",
      "model_module_version": "1.5.0",
      "model_name": "HBoxModel",
      "state": {
       "children": [
        "IPY_MODEL_d2ed586324074a1db8cf4618aad8938e",
        "IPY_MODEL_2ba6867d363e4f19b2d329c246150d0a"
       ],
       "layout": "IPY_MODEL_48e20c7fd2834ebc9353420eedf3f0e8"
      }
     },
     "27f3a6e7039740f1944363387cc003c1": {
      "model_module": "@jupyter-widgets/controls",
      "model_module_version": "1.5.0",
      "model_name": "DescriptionStyleModel",
      "state": {
       "description_width": ""
      }
     },
     "28a40f88f75043b8a1de942926239188": {
      "model_module": "@jupyter-widgets/controls",
      "model_module_version": "1.5.0",
      "model_name": "HBoxModel",
      "state": {
       "children": [
        "IPY_MODEL_54aafe6ef04b4054a8a60060a668b593",
        "IPY_MODEL_b9feabc44ee643e29545d6acf40304b3"
       ],
       "layout": "IPY_MODEL_02c6e2c907bd4c5b97bb473e6161af63"
      }
     },
     "28e665ff6b10404c8ed93eec1a888fba": {
      "model_module": "@jupyter-widgets/controls",
      "model_module_version": "1.5.0",
      "model_name": "ProgressStyleModel",
      "state": {
       "description_width": "initial"
      }
     },
     "2946e3f0a5274242ad016ad07c3aacd0": {
      "model_module": "@jupyter-widgets/controls",
      "model_module_version": "1.5.0",
      "model_name": "DescriptionStyleModel",
      "state": {
       "description_width": ""
      }
     },
     "298114975f9348e48003830e8d3d8de5": {
      "model_module": "@jupyter-widgets/base",
      "model_module_version": "1.2.0",
      "model_name": "LayoutModel",
      "state": {}
     },
     "29c840d84c3243eeb74db2e82b6b5ffa": {
      "model_module": "@jupyter-widgets/controls",
      "model_module_version": "1.5.0",
      "model_name": "HTMLModel",
      "state": {
       "layout": "IPY_MODEL_1de9068cb416424e8e67e7b0bd350295",
       "style": "IPY_MODEL_d067559b2d19449881d0cb964b9e402f",
       "value": " ETA: 00:00s - loss: 0.0278 - val_loss: 0.0281"
      }
     },
     "2a0428c71cfd4877ab6b9e1e1d1264cb": {
      "model_module": "@jupyter-widgets/controls",
      "model_module_version": "1.5.0",
      "model_name": "HBoxModel",
      "state": {
       "children": [
        "IPY_MODEL_2f944a72087344d78fbd1b15b11f6a85",
        "IPY_MODEL_878b9e600ac2496da87c89b303363c86"
       ],
       "layout": "IPY_MODEL_b9ec2b83844d476a8d5526311555666f"
      }
     },
     "2b424cf6805248ad85f96c784efed276": {
      "model_module": "@jupyter-widgets/base",
      "model_module_version": "1.2.0",
      "model_name": "LayoutModel",
      "state": {}
     },
     "2b71ea2569ba4410b5e750d5fd6be23c": {
      "model_module": "@jupyter-widgets/controls",
      "model_module_version": "1.5.0",
      "model_name": "FloatProgressModel",
      "state": {
       "bar_style": "success",
       "description": "5625/5625",
       "layout": "IPY_MODEL_8ab9cf5669134da290e21bfe31d7b286",
       "max": 5625,
       "style": "IPY_MODEL_57711d9dc8084a73a3736d87b26be13f",
       "value": 5625
      }
     },
     "2b7bcb648c0f46969ca13a7938f5ec90": {
      "model_module": "@jupyter-widgets/base",
      "model_module_version": "1.2.0",
      "model_name": "LayoutModel",
      "state": {}
     },
     "2b7dea1b35d44decb60c6bc576f7bc0c": {
      "model_module": "@jupyter-widgets/controls",
      "model_module_version": "1.5.0",
      "model_name": "DescriptionStyleModel",
      "state": {
       "description_width": ""
      }
     },
     "2ba6867d363e4f19b2d329c246150d0a": {
      "model_module": "@jupyter-widgets/controls",
      "model_module_version": "1.5.0",
      "model_name": "HTMLModel",
      "state": {
       "layout": "IPY_MODEL_2b7bcb648c0f46969ca13a7938f5ec90",
       "style": "IPY_MODEL_2c55c16eae3c41c483912c648cd6194d",
       "value": " ETA: 00:00s - loss: 0.0277 - val_loss: 0.0276"
      }
     },
     "2c55c16eae3c41c483912c648cd6194d": {
      "model_module": "@jupyter-widgets/controls",
      "model_module_version": "1.5.0",
      "model_name": "DescriptionStyleModel",
      "state": {
       "description_width": ""
      }
     },
     "2cbf3e8f03f241679631933ab773c633": {
      "model_module": "@jupyter-widgets/controls",
      "model_module_version": "1.5.0",
      "model_name": "FloatProgressModel",
      "state": {
       "bar_style": "success",
       "description": "5625/5625",
       "layout": "IPY_MODEL_81215f61e194422a8b994b7fad727ee5",
       "max": 5625,
       "style": "IPY_MODEL_b0e38dfa1bb74ec0861d62c0dd261449",
       "value": 5625
      }
     },
     "2cd1f40313494a24869e28ff9afa931e": {
      "model_module": "@jupyter-widgets/base",
      "model_module_version": "1.2.0",
      "model_name": "LayoutModel",
      "state": {
       "flex": "2"
      }
     },
     "2d0a6cf5c8e54e6589bd6ca2a6bad05c": {
      "model_module": "@jupyter-widgets/controls",
      "model_module_version": "1.5.0",
      "model_name": "HTMLModel",
      "state": {
       "layout": "IPY_MODEL_c7aaa7b324d4406fb50148b48df74a90",
       "style": "IPY_MODEL_4200cdf8b31344b7a66f856be3bc6d71",
       "value": " ETA: 00:00s - loss: 0.0279 - val_loss: 0.0279"
      }
     },
     "2d712af7d5bd495396142b4c83df4b50": {
      "model_module": "@jupyter-widgets/base",
      "model_module_version": "1.2.0",
      "model_name": "LayoutModel",
      "state": {}
     },
     "2debdc61f7ec44cbbbbf374fd9230aed": {
      "model_module": "@jupyter-widgets/controls",
      "model_module_version": "1.5.0",
      "model_name": "HBoxModel",
      "state": {
       "children": [
        "IPY_MODEL_f1ebbb998b994abe945be030712a8a30",
        "IPY_MODEL_b6ab1e36a66941549727530c9925ac0d"
       ],
       "layout": "IPY_MODEL_c6755d7175b94925ae8d51582a0ac1b7"
      }
     },
     "2e1a7423405b4066a965a464034f5f9a": {
      "model_module": "@jupyter-widgets/base",
      "model_module_version": "1.2.0",
      "model_name": "LayoutModel",
      "state": {
       "flex": "2"
      }
     },
     "2f5542d21fc44d55bf2152766ad7919f": {
      "model_module": "@jupyter-widgets/controls",
      "model_module_version": "1.5.0",
      "model_name": "FloatProgressModel",
      "state": {
       "bar_style": "success",
       "description": "5625/5625",
       "layout": "IPY_MODEL_4c485f1722374eb18d687779ec4c4f7b",
       "max": 5625,
       "style": "IPY_MODEL_55c87568d7de4260bae8f6f744820cba",
       "value": 5625
      }
     },
     "2f944a72087344d78fbd1b15b11f6a85": {
      "model_module": "@jupyter-widgets/controls",
      "model_module_version": "1.5.0",
      "model_name": "FloatProgressModel",
      "state": {
       "bar_style": "success",
       "description": "5625/5625",
       "layout": "IPY_MODEL_223ccdde7f474b7a86d1589c56659570",
       "max": 5625,
       "style": "IPY_MODEL_e18b9108559d40e4a91748ed01eba750",
       "value": 5625
      }
     },
     "3074689cc2f148b9b8fff4fd99cb3e01": {
      "model_module": "@jupyter-widgets/controls",
      "model_module_version": "1.5.0",
      "model_name": "FloatProgressModel",
      "state": {
       "bar_style": "success",
       "description": "5625/5625",
       "layout": "IPY_MODEL_fba2d08b26b248f4825a8639a0db8114",
       "max": 5625,
       "style": "IPY_MODEL_28e665ff6b10404c8ed93eec1a888fba",
       "value": 5625
      }
     },
     "30c89c2dd2304aa8a47b228be15f073d": {
      "model_module": "@jupyter-widgets/base",
      "model_module_version": "1.2.0",
      "model_name": "LayoutModel",
      "state": {
       "display": "inline-flex",
       "flex_flow": "row wrap",
       "width": "100%"
      }
     },
     "30d264cb51fb47f2b084d01e89c19041": {
      "model_module": "@jupyter-widgets/controls",
      "model_module_version": "1.5.0",
      "model_name": "HTMLModel",
      "state": {
       "layout": "IPY_MODEL_0562badc21a9430ca7f5a519aad29b09",
       "style": "IPY_MODEL_119d487f44064cb5ab72893060c70ec1",
       "value": " ETA: 00:00s - loss: 0.0335 - val_loss: 0.0336"
      }
     },
     "31255733753b42f2857797ea86d1829a": {
      "model_module": "@jupyter-widgets/controls",
      "model_module_version": "1.5.0",
      "model_name": "HTMLModel",
      "state": {
       "layout": "IPY_MODEL_65afbd96655548e68cf3a56d300812cd",
       "style": "IPY_MODEL_eb539527bdf447a1b35893092961b98f",
       "value": " ETA: 00:00s - loss: 0.0283 - val_loss: 0.0274"
      }
     },
     "313d179700b8434aa9a1adc304221bfe": {
      "model_module": "@jupyter-widgets/controls",
      "model_module_version": "1.5.0",
      "model_name": "FloatProgressModel",
      "state": {
       "bar_style": "success",
       "description": "5625/5625",
       "layout": "IPY_MODEL_93b53dddbeb4448c8f2ac0e574219212",
       "max": 5625,
       "style": "IPY_MODEL_a6f6bc79e3064848b4330a87bb502e70",
       "value": 5625
      }
     },
     "313f11285ae342e08422637e67c8102a": {
      "model_module": "@jupyter-widgets/controls",
      "model_module_version": "1.5.0",
      "model_name": "FloatProgressModel",
      "state": {
       "bar_style": "success",
       "description": "5625/5625",
       "layout": "IPY_MODEL_591a7de9e66e413bbc750e7af5bd7679",
       "max": 5625,
       "style": "IPY_MODEL_f53a5549b4f2420f864b7fba20afb3bb",
       "value": 5625
      }
     },
     "31a30a241ec4452fa976001be2c2af91": {
      "model_module": "@jupyter-widgets/base",
      "model_module_version": "1.2.0",
      "model_name": "LayoutModel",
      "state": {
       "flex": "2"
      }
     },
     "31b65932615f49caae5b74fe23744f9b": {
      "model_module": "@jupyter-widgets/controls",
      "model_module_version": "1.5.0",
      "model_name": "DescriptionStyleModel",
      "state": {
       "description_width": ""
      }
     },
     "322e57202dfa4c2f9fcd801c5583e70c": {
      "model_module": "@jupyter-widgets/base",
      "model_module_version": "1.2.0",
      "model_name": "LayoutModel",
      "state": {
       "flex": "2"
      }
     },
     "3257c2f049b441c4a517f3cbd95069e2": {
      "model_module": "@jupyter-widgets/base",
      "model_module_version": "1.2.0",
      "model_name": "LayoutModel",
      "state": {
       "display": "inline-flex",
       "flex_flow": "row wrap",
       "width": "100%"
      }
     },
     "326eb3b9ae0c42b7ad959044387928bc": {
      "model_module": "@jupyter-widgets/controls",
      "model_module_version": "1.5.0",
      "model_name": "FloatProgressModel",
      "state": {
       "bar_style": "success",
       "description": "5625/5625",
       "layout": "IPY_MODEL_4bb21f68ffc544b4ac39d4f5e71fb746",
       "max": 5625,
       "style": "IPY_MODEL_b170a856cf2a498e8f23992314034537",
       "value": 5625
      }
     },
     "3286ddb1fc7c4b3098a49003b601e32b": {
      "model_module": "@jupyter-widgets/controls",
      "model_module_version": "1.5.0",
      "model_name": "HBoxModel",
      "state": {
       "children": [
        "IPY_MODEL_f2698039a80443fc9531d759101c88a0",
        "IPY_MODEL_bb77106d312249009b657ea1f9a9364e"
       ],
       "layout": "IPY_MODEL_10bbefc90b6f464ea6595f0477f05eb4"
      }
     },
     "32f5a8b4768644e6a19549d28d05f1ea": {
      "model_module": "@jupyter-widgets/controls",
      "model_module_version": "1.5.0",
      "model_name": "ProgressStyleModel",
      "state": {
       "description_width": "initial"
      }
     },
     "32ffbf41dcea45ae91801c77cf2bf2f4": {
      "model_module": "@jupyter-widgets/base",
      "model_module_version": "1.2.0",
      "model_name": "LayoutModel",
      "state": {}
     },
     "331115a81a6847468400083070219a8b": {
      "model_module": "@jupyter-widgets/base",
      "model_module_version": "1.2.0",
      "model_name": "LayoutModel",
      "state": {}
     },
     "33c77803aa0a4e24ad200e818285a257": {
      "model_module": "@jupyter-widgets/controls",
      "model_module_version": "1.5.0",
      "model_name": "DescriptionStyleModel",
      "state": {
       "description_width": ""
      }
     },
     "34ba3454818d48a9bb96589788ab1e9f": {
      "model_module": "@jupyter-widgets/controls",
      "model_module_version": "1.5.0",
      "model_name": "HTMLModel",
      "state": {
       "layout": "IPY_MODEL_4e8abf7854204ec79a3de3e5ab47bcb8",
       "style": "IPY_MODEL_a0929b7a649049f2b386f0a1086151bd",
       "value": " ETA: 00:00s - loss: 0.0278 - val_loss: 0.0273"
      }
     },
     "34d3311947224f128ea2892bb8ba4475": {
      "model_module": "@jupyter-widgets/controls",
      "model_module_version": "1.5.0",
      "model_name": "FloatProgressModel",
      "state": {
       "bar_style": "success",
       "description": "5625/5625",
       "layout": "IPY_MODEL_888568a0c7564153acbfbf8808dfbfa8",
       "max": 5625,
       "style": "IPY_MODEL_7ace54863df8430b8c13390e17466e61",
       "value": 5625
      }
     },
     "3634325632df415a882a786d19f9f076": {
      "model_module": "@jupyter-widgets/controls",
      "model_module_version": "1.5.0",
      "model_name": "HTMLModel",
      "state": {
       "layout": "IPY_MODEL_9f6779ea6d79433b8d6b0d0b0c29a281",
       "style": "IPY_MODEL_a9f5637ec2284222a689320cac290e0b",
       "value": " ETA: 00:00s - loss: 0.0278 - val_loss: 0.0273"
      }
     },
     "368799b003f64b72b940abc4d2b28d95": {
      "model_module": "@jupyter-widgets/controls",
      "model_module_version": "1.5.0",
      "model_name": "HBoxModel",
      "state": {
       "children": [
        "IPY_MODEL_813f00c50dd446bd8e62462fff0fa051",
        "IPY_MODEL_2d0a6cf5c8e54e6589bd6ca2a6bad05c"
       ],
       "layout": "IPY_MODEL_d1faca9ca81a499b99975798d3aacf5e"
      }
     },
     "36d8a71f8f4d40d7b8167165a0f04fb8": {
      "model_module": "@jupyter-widgets/controls",
      "model_module_version": "1.5.0",
      "model_name": "DescriptionStyleModel",
      "state": {
       "description_width": ""
      }
     },
     "36dfda8fdbf3466c80fe632ed0b8bc99": {
      "model_module": "@jupyter-widgets/controls",
      "model_module_version": "1.5.0",
      "model_name": "HBoxModel",
      "state": {
       "children": [
        "IPY_MODEL_1d9061b8926b49bdad321a66be0eecb6",
        "IPY_MODEL_9a2cb36a40fa410e860770b96e9e6348"
       ],
       "layout": "IPY_MODEL_cdc09969b13b44f78f837487a2679d97"
      }
     },
     "36e008a7405544cd9e4cc05a4f4a4dd3": {
      "model_module": "@jupyter-widgets/controls",
      "model_module_version": "1.5.0",
      "model_name": "HTMLModel",
      "state": {
       "layout": "IPY_MODEL_3e598f30d4cf4d66a32431a72fbfa0b5",
       "style": "IPY_MODEL_87d896cdbd7340c095da0c74a7fce84f",
       "value": " 92/1000 ETA: 24:44:54s,  98.12s/epochs"
      }
     },
     "36e3809ce099426990bb4bf5be2338e4": {
      "model_module": "@jupyter-widgets/controls",
      "model_module_version": "1.5.0",
      "model_name": "DescriptionStyleModel",
      "state": {
       "description_width": ""
      }
     },
     "3701bbe672a24680a8e829fda13ffc89": {
      "model_module": "@jupyter-widgets/base",
      "model_module_version": "1.2.0",
      "model_name": "LayoutModel",
      "state": {
       "display": "inline-flex",
       "flex_flow": "row wrap",
       "width": "100%"
      }
     },
     "373d033789ef4b5095d4bd43d86ff5b5": {
      "model_module": "@jupyter-widgets/base",
      "model_module_version": "1.2.0",
      "model_name": "LayoutModel",
      "state": {
       "display": "inline-flex",
       "flex_flow": "row wrap",
       "width": "100%"
      }
     },
     "3754d1b4d0af4a2ab2af5c269205f4a9": {
      "model_module": "@jupyter-widgets/controls",
      "model_module_version": "1.5.0",
      "model_name": "DescriptionStyleModel",
      "state": {
       "description_width": ""
      }
     },
     "3871f89e357447c68bd5e637227d67d6": {
      "model_module": "@jupyter-widgets/controls",
      "model_module_version": "1.5.0",
      "model_name": "ProgressStyleModel",
      "state": {
       "description_width": "initial"
      }
     },
     "391728dc6bc84c599ac9eaa65eb03576": {
      "model_module": "@jupyter-widgets/controls",
      "model_module_version": "1.5.0",
      "model_name": "HTMLModel",
      "state": {
       "layout": "IPY_MODEL_a386caa7f0044e848a957234b9a49774",
       "style": "IPY_MODEL_83f47b3b89b04233957fbafa26bb1efd",
       "value": " ETA: 00:00s - loss: 0.0279 - val_loss: 0.0273"
      }
     },
     "392f3c9f727e45a0ab2b35667aa3b4c7": {
      "model_module": "@jupyter-widgets/base",
      "model_module_version": "1.2.0",
      "model_name": "LayoutModel",
      "state": {
       "flex": "2"
      }
     },
     "3939026970634ddfa845d7a3118f4b4e": {
      "model_module": "@jupyter-widgets/base",
      "model_module_version": "1.2.0",
      "model_name": "LayoutModel",
      "state": {
       "display": "inline-flex",
       "flex_flow": "row wrap",
       "width": "100%"
      }
     },
     "393f52c956384267a231506cd3af5e98": {
      "model_module": "@jupyter-widgets/controls",
      "model_module_version": "1.5.0",
      "model_name": "ProgressStyleModel",
      "state": {
       "description_width": "initial"
      }
     },
     "39c2fa04e83d4df8a8d8d710f8b9c120": {
      "model_module": "@jupyter-widgets/controls",
      "model_module_version": "1.5.0",
      "model_name": "FloatProgressModel",
      "state": {
       "bar_style": "success",
       "description": "5625/5625",
       "layout": "IPY_MODEL_5ee0c490306541beb9dcc7eb414e9234",
       "max": 5625,
       "style": "IPY_MODEL_8c66ee6fc5694f6eb2500e8bdac32c52",
       "value": 5625
      }
     },
     "3a3a57feee014c62b41182d4488d5a25": {
      "model_module": "@jupyter-widgets/base",
      "model_module_version": "1.2.0",
      "model_name": "LayoutModel",
      "state": {
       "display": "inline-flex",
       "flex_flow": "row wrap",
       "width": "100%"
      }
     },
     "3aa391593fcf4e128d08f888396149a9": {
      "model_module": "@jupyter-widgets/base",
      "model_module_version": "1.2.0",
      "model_name": "LayoutModel",
      "state": {}
     },
     "3ab0475607de44549f5b7eca6c7de4c4": {
      "model_module": "@jupyter-widgets/base",
      "model_module_version": "1.2.0",
      "model_name": "LayoutModel",
      "state": {
       "display": "inline-flex",
       "flex_flow": "row wrap",
       "width": "100%"
      }
     },
     "3ac9c9e082a045bc91a91dc6fec474a8": {
      "model_module": "@jupyter-widgets/controls",
      "model_module_version": "1.5.0",
      "model_name": "DescriptionStyleModel",
      "state": {
       "description_width": ""
      }
     },
     "3acdd36e24cf46b5805cf18c9432ae37": {
      "model_module": "@jupyter-widgets/base",
      "model_module_version": "1.2.0",
      "model_name": "LayoutModel",
      "state": {
       "flex": "2"
      }
     },
     "3aea84743b914ac1939de3420172ab8b": {
      "model_module": "@jupyter-widgets/base",
      "model_module_version": "1.2.0",
      "model_name": "LayoutModel",
      "state": {
       "flex": "2"
      }
     },
     "3b36c590667d4e909705e7dc3aeb31eb": {
      "model_module": "@jupyter-widgets/base",
      "model_module_version": "1.2.0",
      "model_name": "LayoutModel",
      "state": {
       "display": "inline-flex",
       "flex_flow": "row wrap",
       "width": "100%"
      }
     },
     "3b5fa60019ca4b878c2baabc838a7836": {
      "model_module": "@jupyter-widgets/controls",
      "model_module_version": "1.5.0",
      "model_name": "FloatProgressModel",
      "state": {
       "bar_style": "success",
       "description": "5625/5625",
       "layout": "IPY_MODEL_755b290bf4da4ad2a094f07cad0b86f8",
       "max": 5625,
       "style": "IPY_MODEL_931af2743fbb4637a8147fb5d24983c0",
       "value": 5625
      }
     },
     "3c014a4d68e549f484adcdb7544bfe9d": {
      "model_module": "@jupyter-widgets/controls",
      "model_module_version": "1.5.0",
      "model_name": "DescriptionStyleModel",
      "state": {
       "description_width": ""
      }
     },
     "3c0edf97159948bbb2d4f1fc682d2b1c": {
      "model_module": "@jupyter-widgets/controls",
      "model_module_version": "1.5.0",
      "model_name": "HTMLModel",
      "state": {
       "layout": "IPY_MODEL_c69970e41d2946629d206593238e61dc",
       "style": "IPY_MODEL_da8eb70a90a44ec48fde48fc5780439c",
       "value": " ETA: 00:00s - loss: 0.0281 - val_loss: 0.0275"
      }
     },
     "3c5eeabc4cbd4fc682d1dbef78c16783": {
      "model_module": "@jupyter-widgets/controls",
      "model_module_version": "1.5.0",
      "model_name": "HTMLModel",
      "state": {
       "layout": "IPY_MODEL_b2156d9ceff64b4b9befac7351e289d3",
       "style": "IPY_MODEL_8b9f74e96a80499db5a3dd3d9c35093a",
       "value": " ETA: 00:00s - loss: 0.0287 - val_loss: 0.0279"
      }
     },
     "3d4f658865c946509f297be6a7b8c7fa": {
      "model_module": "@jupyter-widgets/controls",
      "model_module_version": "1.5.0",
      "model_name": "DescriptionStyleModel",
      "state": {
       "description_width": ""
      }
     },
     "3d7958c8831a4b21b9be205375b8c9fb": {
      "model_module": "@jupyter-widgets/controls",
      "model_module_version": "1.5.0",
      "model_name": "HTMLModel",
      "state": {
       "layout": "IPY_MODEL_7aea449008d24a1b898fd682c8f0d547",
       "style": "IPY_MODEL_36e3809ce099426990bb4bf5be2338e4",
       "value": " ETA: 00:00s - loss: 0.0280 - val_loss: 0.0274"
      }
     },
     "3debd49f8b814d0092b3f686710ab7c4": {
      "model_module": "@jupyter-widgets/base",
      "model_module_version": "1.2.0",
      "model_name": "LayoutModel",
      "state": {}
     },
     "3e598f30d4cf4d66a32431a72fbfa0b5": {
      "model_module": "@jupyter-widgets/base",
      "model_module_version": "1.2.0",
      "model_name": "LayoutModel",
      "state": {}
     },
     "3ed7c1defa9d412998099c3fbe970705": {
      "model_module": "@jupyter-widgets/controls",
      "model_module_version": "1.5.0",
      "model_name": "HTMLModel",
      "state": {
       "layout": "IPY_MODEL_e7a2fdcc734b44f18720d05be31e6768",
       "style": "IPY_MODEL_31b65932615f49caae5b74fe23744f9b",
       "value": " ETA: 00:00s - loss: 0.0291 - val_loss: 0.0281"
      }
     },
     "3f05f10f69004f5baa5685c412ec65aa": {
      "model_module": "@jupyter-widgets/base",
      "model_module_version": "1.2.0",
      "model_name": "LayoutModel",
      "state": {
       "display": "inline-flex",
       "flex_flow": "row wrap",
       "width": "100%"
      }
     },
     "3f22f57ce35144f69c5e792fbfc5177f": {
      "model_module": "@jupyter-widgets/controls",
      "model_module_version": "1.5.0",
      "model_name": "HBoxModel",
      "state": {
       "children": [
        "IPY_MODEL_7575c1fb3bab441aa96df8d93bc441a9",
        "IPY_MODEL_34ba3454818d48a9bb96589788ab1e9f"
       ],
       "layout": "IPY_MODEL_06c15ddcd1984783ae83f5ff43e40719"
      }
     },
     "3f769e6b649d40bf8b5aca16d05dc1d9": {
      "model_module": "@jupyter-widgets/controls",
      "model_module_version": "1.5.0",
      "model_name": "HBoxModel",
      "state": {
       "children": [
        "IPY_MODEL_e8eb17dc415343af9176eb574b093254",
        "IPY_MODEL_84977b130b2b436cbf3dda16c983e7fc"
       ],
       "layout": "IPY_MODEL_a390547b44f94b769a83c09f90a100c8"
      }
     },
     "408d4eeeeec14f75b504ac9bd210490b": {
      "model_module": "@jupyter-widgets/base",
      "model_module_version": "1.2.0",
      "model_name": "LayoutModel",
      "state": {}
     },
     "40cc32d55fa3481786489116186f0e9a": {
      "model_module": "@jupyter-widgets/base",
      "model_module_version": "1.2.0",
      "model_name": "LayoutModel",
      "state": {
       "display": "inline-flex",
       "flex_flow": "row wrap",
       "width": "100%"
      }
     },
     "410162500edd40818fcb52db6ac7fabe": {
      "model_module": "@jupyter-widgets/controls",
      "model_module_version": "1.5.0",
      "model_name": "FloatProgressModel",
      "state": {
       "bar_style": "success",
       "description": "5625/5625",
       "layout": "IPY_MODEL_25e6582c0b0b406f9782eb3572097f6a",
       "max": 5625,
       "style": "IPY_MODEL_e2a377ffda4f4d7798780d5d752321a7",
       "value": 5625
      }
     },
     "413c27c0ed2d42e28fffef0855fece69": {
      "model_module": "@jupyter-widgets/base",
      "model_module_version": "1.2.0",
      "model_name": "LayoutModel",
      "state": {
       "display": "inline-flex",
       "flex_flow": "row wrap",
       "width": "100%"
      }
     },
     "41aa40605aed4e7e9c2c3efd97b03869": {
      "model_module": "@jupyter-widgets/base",
      "model_module_version": "1.2.0",
      "model_name": "LayoutModel",
      "state": {}
     },
     "41e33a76334d4bbfa4eec84d4f637d5c": {
      "model_module": "@jupyter-widgets/controls",
      "model_module_version": "1.5.0",
      "model_name": "DescriptionStyleModel",
      "state": {
       "description_width": ""
      }
     },
     "4200cdf8b31344b7a66f856be3bc6d71": {
      "model_module": "@jupyter-widgets/controls",
      "model_module_version": "1.5.0",
      "model_name": "DescriptionStyleModel",
      "state": {
       "description_width": ""
      }
     },
     "42546c3a75a141589d7ea805d06a6371": {
      "model_module": "@jupyter-widgets/base",
      "model_module_version": "1.2.0",
      "model_name": "LayoutModel",
      "state": {}
     },
     "42bcb080082b4255ac92ce0cae20704a": {
      "model_module": "@jupyter-widgets/controls",
      "model_module_version": "1.5.0",
      "model_name": "DescriptionStyleModel",
      "state": {
       "description_width": ""
      }
     },
     "436f4a4fa20249ec85132f6f6cb480d1": {
      "model_module": "@jupyter-widgets/base",
      "model_module_version": "1.2.0",
      "model_name": "LayoutModel",
      "state": {
       "flex": "2"
      }
     },
     "43c88702b50d45f19644e744f82cf0c1": {
      "model_module": "@jupyter-widgets/base",
      "model_module_version": "1.2.0",
      "model_name": "LayoutModel",
      "state": {
       "display": "inline-flex",
       "flex_flow": "row wrap",
       "width": "100%"
      }
     },
     "43ecdb32ed72454fbc024cf39dbb0968": {
      "model_module": "@jupyter-widgets/controls",
      "model_module_version": "1.5.0",
      "model_name": "HBoxModel",
      "state": {
       "children": [
        "IPY_MODEL_2b71ea2569ba4410b5e750d5fd6be23c",
        "IPY_MODEL_e5013d3bb2934c0fba84938eb4b6f0c7"
       ],
       "layout": "IPY_MODEL_a21e71e09265414589af8b9f0c1f397c"
      }
     },
     "43fe496ef7d648d083111eed2f2fed63": {
      "model_module": "@jupyter-widgets/controls",
      "model_module_version": "1.5.0",
      "model_name": "DescriptionStyleModel",
      "state": {
       "description_width": ""
      }
     },
     "443b37f0997340908bd254ba8cd0baef": {
      "model_module": "@jupyter-widgets/base",
      "model_module_version": "1.2.0",
      "model_name": "LayoutModel",
      "state": {}
     },
     "445157fa51424a48a9dc12a6419690c9": {
      "model_module": "@jupyter-widgets/controls",
      "model_module_version": "1.5.0",
      "model_name": "HBoxModel",
      "state": {
       "children": [
        "IPY_MODEL_8a0e4193382d4f6bb2141faa0a16a440",
        "IPY_MODEL_5bbdcbe1d5b1445dba7373ee7c0485dc"
       ],
       "layout": "IPY_MODEL_fc74f54aeaff41a3a2926db7530b5f8e"
      }
     },
     "44a8390105074b75a9d55a7c1d65a484": {
      "model_module": "@jupyter-widgets/base",
      "model_module_version": "1.2.0",
      "model_name": "LayoutModel",
      "state": {
       "flex": "2"
      }
     },
     "44b53fca0eda4f669837ad9b087e6ec1": {
      "model_module": "@jupyter-widgets/base",
      "model_module_version": "1.2.0",
      "model_name": "LayoutModel",
      "state": {
       "flex": "2"
      }
     },
     "45ffe438adc2407d85ea59321bcf8394": {
      "model_module": "@jupyter-widgets/controls",
      "model_module_version": "1.5.0",
      "model_name": "DescriptionStyleModel",
      "state": {
       "description_width": ""
      }
     },
     "462e3dfa05884ed5b0a87e70d8dc3cbd": {
      "model_module": "@jupyter-widgets/controls",
      "model_module_version": "1.5.0",
      "model_name": "HTMLModel",
      "state": {
       "layout": "IPY_MODEL_2b424cf6805248ad85f96c784efed276",
       "style": "IPY_MODEL_77145b3b97b14ecf80b08357597650b8",
       "value": " ETA: 00:00s - loss: 0.0302 - val_loss: 0.0290"
      }
     },
     "4681866ec2e2412a9b5053481461f95b": {
      "model_module": "@jupyter-widgets/base",
      "model_module_version": "1.2.0",
      "model_name": "LayoutModel",
      "state": {}
     },
     "4689e4275c064234b97feb4c96af3754": {
      "model_module": "@jupyter-widgets/controls",
      "model_module_version": "1.5.0",
      "model_name": "ProgressStyleModel",
      "state": {
       "description_width": "initial"
      }
     },
     "46ca6038477a4cf0b5cbc26a0f228112": {
      "model_module": "@jupyter-widgets/controls",
      "model_module_version": "1.5.0",
      "model_name": "FloatProgressModel",
      "state": {
       "bar_style": "success",
       "description": "5625/5625",
       "layout": "IPY_MODEL_214994cec0b64e9fb90f86d56f84452d",
       "max": 5625,
       "style": "IPY_MODEL_af9dd9a82aa746df92165b818c4113df",
       "value": 5625
      }
     },
     "4707b063b32446c0b67cf351bcee348e": {
      "model_module": "@jupyter-widgets/base",
      "model_module_version": "1.2.0",
      "model_name": "LayoutModel",
      "state": {}
     },
     "47a86b240143406caf73eee0676753b7": {
      "model_module": "@jupyter-widgets/controls",
      "model_module_version": "1.5.0",
      "model_name": "FloatProgressModel",
      "state": {
       "bar_style": "success",
       "description": "5625/5625",
       "layout": "IPY_MODEL_761495752a154c8fa146f38fba6d629d",
       "max": 5625,
       "style": "IPY_MODEL_fb51e19d539f4042b60f3612e1076789",
       "value": 5625
      }
     },
     "47b2e5f3f4f54cb1857d328ef1d17f6c": {
      "model_module": "@jupyter-widgets/base",
      "model_module_version": "1.2.0",
      "model_name": "LayoutModel",
      "state": {
       "flex": "2"
      }
     },
     "47bd8dc4a14541dbb436b07beb0b8a36": {
      "model_module": "@jupyter-widgets/controls",
      "model_module_version": "1.5.0",
      "model_name": "HBoxModel",
      "state": {
       "children": [
        "IPY_MODEL_984c8d59f8f7437da448cd24d9622b62",
        "IPY_MODEL_5f713d0a5b2f4ebb985d614ca377a850"
       ],
       "layout": "IPY_MODEL_e68886e5b43f4569a9a9fd5ef8a1a66d"
      }
     },
     "485c1f2a68dc423eb0c2b9a40a2feb27": {
      "model_module": "@jupyter-widgets/controls",
      "model_module_version": "1.5.0",
      "model_name": "FloatProgressModel",
      "state": {
       "bar_style": "success",
       "description": "5625/5625",
       "layout": "IPY_MODEL_a83f64622f544e8e955e073fc6756418",
       "max": 5625,
       "style": "IPY_MODEL_f10750ded464456f8d988d90398d2625",
       "value": 5625
      }
     },
     "4869816589664523a3e478e064a4a961": {
      "model_module": "@jupyter-widgets/controls",
      "model_module_version": "1.5.0",
      "model_name": "ProgressStyleModel",
      "state": {
       "description_width": "initial"
      }
     },
     "48ab8b43a69e4b20b9da9f4cc1742ba3": {
      "model_module": "@jupyter-widgets/base",
      "model_module_version": "1.2.0",
      "model_name": "LayoutModel",
      "state": {
       "flex": "2"
      }
     },
     "48e20c7fd2834ebc9353420eedf3f0e8": {
      "model_module": "@jupyter-widgets/base",
      "model_module_version": "1.2.0",
      "model_name": "LayoutModel",
      "state": {
       "display": "inline-flex",
       "flex_flow": "row wrap",
       "width": "100%"
      }
     },
     "492d367320d148798eac652d125645ba": {
      "model_module": "@jupyter-widgets/base",
      "model_module_version": "1.2.0",
      "model_name": "LayoutModel",
      "state": {
       "display": "inline-flex",
       "flex_flow": "row wrap",
       "width": "100%"
      }
     },
     "494e82d47b754e17abcd61bf687908b1": {
      "model_module": "@jupyter-widgets/controls",
      "model_module_version": "1.5.0",
      "model_name": "DescriptionStyleModel",
      "state": {
       "description_width": ""
      }
     },
     "49ed79f986b84b7192f3fc74e966feef": {
      "model_module": "@jupyter-widgets/base",
      "model_module_version": "1.2.0",
      "model_name": "LayoutModel",
      "state": {}
     },
     "4a3310ec14144d92ad6c2c0414c2e96e": {
      "model_module": "@jupyter-widgets/base",
      "model_module_version": "1.2.0",
      "model_name": "LayoutModel",
      "state": {}
     },
     "4a96522780994a4cbab81cab75427a73": {
      "model_module": "@jupyter-widgets/controls",
      "model_module_version": "1.5.0",
      "model_name": "ProgressStyleModel",
      "state": {
       "description_width": "initial"
      }
     },
     "4b47e362a33b472eb944ebad37bd0fd5": {
      "model_module": "@jupyter-widgets/controls",
      "model_module_version": "1.5.0",
      "model_name": "FloatProgressModel",
      "state": {
       "bar_style": "success",
       "description": "5625/5625",
       "layout": "IPY_MODEL_898e11b69c3b42539f2ea7aa7e61e203",
       "max": 5625,
       "style": "IPY_MODEL_0a41ccfb05f14bb1bc4081a34d68c223",
       "value": 5625
      }
     },
     "4b7c7aec0374416bb361198006dc9031": {
      "model_module": "@jupyter-widgets/controls",
      "model_module_version": "1.5.0",
      "model_name": "FloatProgressModel",
      "state": {
       "bar_style": "success",
       "description": "5625/5625",
       "layout": "IPY_MODEL_88a30aa420c0450ab22eb8b58eef55c3",
       "max": 5625,
       "style": "IPY_MODEL_131fbda5aa724211bc88924e9bc32431",
       "value": 5625
      }
     },
     "4bb21f68ffc544b4ac39d4f5e71fb746": {
      "model_module": "@jupyter-widgets/base",
      "model_module_version": "1.2.0",
      "model_name": "LayoutModel",
      "state": {
       "flex": "2"
      }
     },
     "4bea6702d854431cb32165c0df597da2": {
      "model_module": "@jupyter-widgets/controls",
      "model_module_version": "1.5.0",
      "model_name": "ProgressStyleModel",
      "state": {
       "description_width": "initial"
      }
     },
     "4beca8da825a4510aeaf537c106165be": {
      "model_module": "@jupyter-widgets/controls",
      "model_module_version": "1.5.0",
      "model_name": "HBoxModel",
      "state": {
       "children": [
        "IPY_MODEL_0d00bd28f4614ce08af655402370e688",
        "IPY_MODEL_fd310ca8c864425db02812779ba199b3"
       ],
       "layout": "IPY_MODEL_dfc4d4ef9abb42618671cc7fdcacb180"
      }
     },
     "4c485f1722374eb18d687779ec4c4f7b": {
      "model_module": "@jupyter-widgets/base",
      "model_module_version": "1.2.0",
      "model_name": "LayoutModel",
      "state": {
       "flex": "2"
      }
     },
     "4c93084a50da454cb387ef0349ed461e": {
      "model_module": "@jupyter-widgets/controls",
      "model_module_version": "1.5.0",
      "model_name": "ProgressStyleModel",
      "state": {
       "description_width": "initial"
      }
     },
     "4cf10a71c14b4eddac5b91b92146bb0d": {
      "model_module": "@jupyter-widgets/controls",
      "model_module_version": "1.5.0",
      "model_name": "HTMLModel",
      "state": {
       "layout": "IPY_MODEL_3aa391593fcf4e128d08f888396149a9",
       "style": "IPY_MODEL_1cf177282424494595f8ed619bbc7cc0",
       "value": " ETA: 00:00s - loss: 0.0280 - val_loss: 0.0273"
      }
     },
     "4d2e84a69ec140ec8aaed66faf1d4240": {
      "model_module": "@jupyter-widgets/controls",
      "model_module_version": "1.5.0",
      "model_name": "HTMLModel",
      "state": {
       "layout": "IPY_MODEL_b0012db591334a309644a133b2c0d385",
       "style": "IPY_MODEL_4f05f67b6ff443b7b4b040207bb61025",
       "value": " ETA: 00:00s - loss: 0.0293 - val_loss: 0.0282"
      }
     },
     "4d5c2857b49a4dd4942ebd5b61303089": {
      "model_module": "@jupyter-widgets/controls",
      "model_module_version": "1.5.0",
      "model_name": "HBoxModel",
      "state": {
       "children": [
        "IPY_MODEL_2cbf3e8f03f241679631933ab773c633",
        "IPY_MODEL_f12142e4b1ba4811bffddefb1e57645f"
       ],
       "layout": "IPY_MODEL_3257c2f049b441c4a517f3cbd95069e2"
      }
     },
     "4d9126fbc54b4e1fbacfe6e4487eeee8": {
      "model_module": "@jupyter-widgets/controls",
      "model_module_version": "1.5.0",
      "model_name": "HTMLModel",
      "state": {
       "layout": "IPY_MODEL_55af8e4111304652ba01fdfb51eab2d4",
       "style": "IPY_MODEL_c9d46ee4d14d485f90b0fa9dc0ed1525",
       "value": " ETA: 00:00s - loss: 0.0284 - val_loss: 0.0284"
      }
     },
     "4e54776842604a7ba53f87e7a0fbe706": {
      "model_module": "@jupyter-widgets/controls",
      "model_module_version": "1.5.0",
      "model_name": "HBoxModel",
      "state": {
       "children": [
        "IPY_MODEL_79667e83976b4fa1adb63dd5b5826021",
        "IPY_MODEL_6fa5aa614cfa424d8955860f98783d9f"
       ],
       "layout": "IPY_MODEL_43c88702b50d45f19644e744f82cf0c1"
      }
     },
     "4e75e0b5b1714843b4edf47c71dd5c50": {
      "model_module": "@jupyter-widgets/controls",
      "model_module_version": "1.5.0",
      "model_name": "HBoxModel",
      "state": {
       "children": [
        "IPY_MODEL_74674e461ee74c14acda5624c6f8c239",
        "IPY_MODEL_e9cc32ebd2e84395a5f1e54f03afe725"
       ],
       "layout": "IPY_MODEL_83d8115c43804345aa30c7764a19e713"
      }
     },
     "4e8abf7854204ec79a3de3e5ab47bcb8": {
      "model_module": "@jupyter-widgets/base",
      "model_module_version": "1.2.0",
      "model_name": "LayoutModel",
      "state": {}
     },
     "4e9c828beba842fe8d0f8c11c0e49d49": {
      "model_module": "@jupyter-widgets/base",
      "model_module_version": "1.2.0",
      "model_name": "LayoutModel",
      "state": {
       "display": "inline-flex",
       "flex_flow": "row wrap",
       "width": "100%"
      }
     },
     "4ebc528c3da14130a95c8ec561e40539": {
      "model_module": "@jupyter-widgets/controls",
      "model_module_version": "1.5.0",
      "model_name": "ProgressStyleModel",
      "state": {
       "description_width": "initial"
      }
     },
     "4ecbf3690e414964b568d534b3f00582": {
      "model_module": "@jupyter-widgets/controls",
      "model_module_version": "1.5.0",
      "model_name": "HBoxModel",
      "state": {
       "children": [
        "IPY_MODEL_1f4efb94879e4e0584896a5df2339aa3",
        "IPY_MODEL_c272a79573a7448abbe3dcfea969cbf7"
       ],
       "layout": "IPY_MODEL_3f05f10f69004f5baa5685c412ec65aa"
      }
     },
     "4efd11d57bec4c889949daca5a230cd5": {
      "model_module": "@jupyter-widgets/controls",
      "model_module_version": "1.5.0",
      "model_name": "HBoxModel",
      "state": {
       "children": [
        "IPY_MODEL_f6082aebd9254d98b68f9caed4f3b63d",
        "IPY_MODEL_e0436bb35bc74768aa70aa1b240c8ed9"
       ],
       "layout": "IPY_MODEL_533c90d3ddd4411dbf0ff5f67f08e46c"
      }
     },
     "4f05f67b6ff443b7b4b040207bb61025": {
      "model_module": "@jupyter-widgets/controls",
      "model_module_version": "1.5.0",
      "model_name": "DescriptionStyleModel",
      "state": {
       "description_width": ""
      }
     },
     "4f5f0741e8914b45a27dea15f032b639": {
      "model_module": "@jupyter-widgets/base",
      "model_module_version": "1.2.0",
      "model_name": "LayoutModel",
      "state": {}
     },
     "4ffdec6223be41dd9d2327cf117bde84": {
      "model_module": "@jupyter-widgets/controls",
      "model_module_version": "1.5.0",
      "model_name": "HBoxModel",
      "state": {
       "children": [
        "IPY_MODEL_1a950d4f2ece4034959e74685d4d9114",
        "IPY_MODEL_ab3f1ec76fe84c50bf02ee0074a2e817"
       ],
       "layout": "IPY_MODEL_5ba9e016a2ef4df49e391201890e5a55"
      }
     },
     "5017215a2ed74e73a7971a37e09b22e6": {
      "model_module": "@jupyter-widgets/base",
      "model_module_version": "1.2.0",
      "model_name": "LayoutModel",
      "state": {}
     },
     "5072fd6b039443bca971e9b729c6c8f6": {
      "model_module": "@jupyter-widgets/controls",
      "model_module_version": "1.5.0",
      "model_name": "DescriptionStyleModel",
      "state": {
       "description_width": ""
      }
     },
     "5110b157ec5e437d9016bd1a044426a3": {
      "model_module": "@jupyter-widgets/controls",
      "model_module_version": "1.5.0",
      "model_name": "HBoxModel",
      "state": {
       "children": [
        "IPY_MODEL_3074689cc2f148b9b8fff4fd99cb3e01",
        "IPY_MODEL_c000f61431724832b93f7b281ca0d898"
       ],
       "layout": "IPY_MODEL_bb795b6a8b43426b99bbbac647c2bc4b"
      }
     },
     "516f61ef5b254093876f20e41cb325a8": {
      "model_module": "@jupyter-widgets/base",
      "model_module_version": "1.2.0",
      "model_name": "LayoutModel",
      "state": {
       "display": "inline-flex",
       "flex_flow": "row wrap",
       "width": "100%"
      }
     },
     "5195bd329a9c460bb333dd3f0d21b509": {
      "model_module": "@jupyter-widgets/controls",
      "model_module_version": "1.5.0",
      "model_name": "HTMLModel",
      "state": {
       "layout": "IPY_MODEL_9fd59051ae154facadb7d9f8b74a640d",
       "style": "IPY_MODEL_00f95ae4acd8400c9148c04ee88b8b2c",
       "value": " ETA: 00:00s - loss: 0.0279 - val_loss: 0.0278"
      }
     },
     "5197444e941445adb5cb8dde6cd66726": {
      "model_module": "@jupyter-widgets/controls",
      "model_module_version": "1.5.0",
      "model_name": "ProgressStyleModel",
      "state": {
       "description_width": "initial"
      }
     },
     "51ff355fc0254ebbb51e62c4aa216514": {
      "model_module": "@jupyter-widgets/controls",
      "model_module_version": "1.5.0",
      "model_name": "HBoxModel",
      "state": {
       "children": [
        "IPY_MODEL_818778bc6dc84a16abb5d34b22ac3698",
        "IPY_MODEL_36e008a7405544cd9e4cc05a4f4a4dd3"
       ],
       "layout": "IPY_MODEL_4e9c828beba842fe8d0f8c11c0e49d49"
      }
     },
     "522bf14b21a44443ac579634b5a2e9a0": {
      "model_module": "@jupyter-widgets/controls",
      "model_module_version": "1.5.0",
      "model_name": "HTMLModel",
      "state": {
       "layout": "IPY_MODEL_49ed79f986b84b7192f3fc74e966feef",
       "style": "IPY_MODEL_fd1792b7b95c48deb92a0b3c066bfc55",
       "value": " ETA: 00:00s - loss: 0.0278 - val_loss: 0.0276"
      }
     },
     "533c90d3ddd4411dbf0ff5f67f08e46c": {
      "model_module": "@jupyter-widgets/base",
      "model_module_version": "1.2.0",
      "model_name": "LayoutModel",
      "state": {
       "display": "inline-flex",
       "flex_flow": "row wrap",
       "width": "100%"
      }
     },
     "53a5f4a86c564719bf9405dc08c1c219": {
      "model_module": "@jupyter-widgets/controls",
      "model_module_version": "1.5.0",
      "model_name": "HBoxModel",
      "state": {
       "children": [
        "IPY_MODEL_4b47e362a33b472eb944ebad37bd0fd5",
        "IPY_MODEL_0b0208e58460461e85e939fa35f7acf2"
       ],
       "layout": "IPY_MODEL_cec7104cb06f4f4ca1fab2d25268d76e"
      }
     },
     "53b5bef51e86469784113bcbc8a3ec9d": {
      "model_module": "@jupyter-widgets/base",
      "model_module_version": "1.2.0",
      "model_name": "LayoutModel",
      "state": {
       "display": "inline-flex",
       "flex_flow": "row wrap",
       "width": "100%"
      }
     },
     "5416f05838e347c69b6018a652efb3d1": {
      "model_module": "@jupyter-widgets/controls",
      "model_module_version": "1.5.0",
      "model_name": "HBoxModel",
      "state": {
       "children": [
        "IPY_MODEL_7a4dff0c46c14686a1e15531313864dc",
        "IPY_MODEL_8e8ebd95935a4614837c5d5ffd4ed4f7"
       ],
       "layout": "IPY_MODEL_872b1ca4eb7a42e3bdc2403091c1c619"
      }
     },
     "54aafe6ef04b4054a8a60060a668b593": {
      "model_module": "@jupyter-widgets/controls",
      "model_module_version": "1.5.0",
      "model_name": "FloatProgressModel",
      "state": {
       "bar_style": "success",
       "description": "5625/5625",
       "layout": "IPY_MODEL_ee5be36a3ac4495991d03421ac2b5f1d",
       "max": 5625,
       "style": "IPY_MODEL_cdf234692c1c4a4991d7c11536b665f6",
       "value": 5625
      }
     },
     "5552ff07d5fd44a597d566b470d781a7": {
      "model_module": "@jupyter-widgets/base",
      "model_module_version": "1.2.0",
      "model_name": "LayoutModel",
      "state": {
       "display": "inline-flex",
       "flex_flow": "row wrap",
       "width": "100%"
      }
     },
     "557eb3bf8ca74fc6b0b7a77090b5efec": {
      "model_module": "@jupyter-widgets/base",
      "model_module_version": "1.2.0",
      "model_name": "LayoutModel",
      "state": {
       "flex": "2"
      }
     },
     "55af8e4111304652ba01fdfb51eab2d4": {
      "model_module": "@jupyter-widgets/base",
      "model_module_version": "1.2.0",
      "model_name": "LayoutModel",
      "state": {}
     },
     "55c87568d7de4260bae8f6f744820cba": {
      "model_module": "@jupyter-widgets/controls",
      "model_module_version": "1.5.0",
      "model_name": "ProgressStyleModel",
      "state": {
       "description_width": "initial"
      }
     },
     "5626d2da791a4525b1b0425e78c4e2aa": {
      "model_module": "@jupyter-widgets/controls",
      "model_module_version": "1.5.0",
      "model_name": "DescriptionStyleModel",
      "state": {
       "description_width": ""
      }
     },
     "56434854bae943eea37af8b453cfa8fa": {
      "model_module": "@jupyter-widgets/base",
      "model_module_version": "1.2.0",
      "model_name": "LayoutModel",
      "state": {
       "display": "inline-flex",
       "flex_flow": "row wrap",
       "width": "100%"
      }
     },
     "567a0299cf94431b83ca4d634eb2ec3e": {
      "model_module": "@jupyter-widgets/controls",
      "model_module_version": "1.5.0",
      "model_name": "ProgressStyleModel",
      "state": {
       "description_width": "initial"
      }
     },
     "5713ff5c7c744d58a319351e95c45ee1": {
      "model_module": "@jupyter-widgets/controls",
      "model_module_version": "1.5.0",
      "model_name": "FloatProgressModel",
      "state": {
       "bar_style": "success",
       "description": "5625/5625",
       "layout": "IPY_MODEL_756ede1f337545d3862c7026f6f118f3",
       "max": 5625,
       "style": "IPY_MODEL_9c18faf050e7410a82eec3cfac64b8c3",
       "value": 5625
      }
     },
     "572db3acc16542af82b44d7bacaeea8e": {
      "model_module": "@jupyter-widgets/controls",
      "model_module_version": "1.5.0",
      "model_name": "FloatProgressModel",
      "state": {
       "bar_style": "success",
       "description": "5625/5625",
       "layout": "IPY_MODEL_90eedbcbb483414bb6b5e03c619250e4",
       "max": 5625,
       "style": "IPY_MODEL_7bb668cef4004233ba04e90120344ef8",
       "value": 5625
      }
     },
     "575db23101c44aa99775c88d46a933a5": {
      "model_module": "@jupyter-widgets/base",
      "model_module_version": "1.2.0",
      "model_name": "LayoutModel",
      "state": {
       "flex": "2"
      }
     },
     "57710ba7f4f146698869190a14abb1b3": {
      "model_module": "@jupyter-widgets/controls",
      "model_module_version": "1.5.0",
      "model_name": "DescriptionStyleModel",
      "state": {
       "description_width": ""
      }
     },
     "57711d9dc8084a73a3736d87b26be13f": {
      "model_module": "@jupyter-widgets/controls",
      "model_module_version": "1.5.0",
      "model_name": "ProgressStyleModel",
      "state": {
       "description_width": "initial"
      }
     },
     "57fe34895a094adebcc469711c8d9cfe": {
      "model_module": "@jupyter-widgets/controls",
      "model_module_version": "1.5.0",
      "model_name": "DescriptionStyleModel",
      "state": {
       "description_width": ""
      }
     },
     "582b5b6733df472d95239d72516f84f1": {
      "model_module": "@jupyter-widgets/base",
      "model_module_version": "1.2.0",
      "model_name": "LayoutModel",
      "state": {
       "flex": "2"
      }
     },
     "583ef084218146b4a2b0244e62833260": {
      "model_module": "@jupyter-widgets/controls",
      "model_module_version": "1.5.0",
      "model_name": "ProgressStyleModel",
      "state": {
       "description_width": "initial"
      }
     },
     "58f029a32db947a9b2b57632eaeb7d51": {
      "model_module": "@jupyter-widgets/base",
      "model_module_version": "1.2.0",
      "model_name": "LayoutModel",
      "state": {
       "display": "inline-flex",
       "flex_flow": "row wrap",
       "width": "100%"
      }
     },
     "591a7de9e66e413bbc750e7af5bd7679": {
      "model_module": "@jupyter-widgets/base",
      "model_module_version": "1.2.0",
      "model_name": "LayoutModel",
      "state": {
       "flex": "2"
      }
     },
     "593c3e42811f4ecfa2d5bc38e0c903a6": {
      "model_module": "@jupyter-widgets/base",
      "model_module_version": "1.2.0",
      "model_name": "LayoutModel",
      "state": {
       "display": "inline-flex",
       "flex_flow": "row wrap",
       "width": "100%"
      }
     },
     "5970a42201f54830a6b107119e3a929d": {
      "model_module": "@jupyter-widgets/controls",
      "model_module_version": "1.5.0",
      "model_name": "HTMLModel",
      "state": {
       "layout": "IPY_MODEL_2d712af7d5bd495396142b4c83df4b50",
       "style": "IPY_MODEL_91d4fd619a6648a69d9f9ac5bbea68b1",
       "value": " ETA: 00:00s - loss: 0.0285 - val_loss: 0.0283"
      }
     },
     "59bcc4028ec94f44aebb7e8ce1adb763": {
      "model_module": "@jupyter-widgets/controls",
      "model_module_version": "1.5.0",
      "model_name": "HTMLModel",
      "state": {
       "layout": "IPY_MODEL_4f5f0741e8914b45a27dea15f032b639",
       "style": "IPY_MODEL_66ace7a0fbb24200b71f796da23d0ff3",
       "value": " ETA: 00:00s - loss: 0.0279 - val_loss: 0.0272"
      }
     },
     "5a1ca1288f2449569d079aa4d10b7375": {
      "model_module": "@jupyter-widgets/base",
      "model_module_version": "1.2.0",
      "model_name": "LayoutModel",
      "state": {
       "display": "inline-flex",
       "flex_flow": "row wrap",
       "width": "100%"
      }
     },
     "5ac9902f88c14df08d1832d6c3eb4d2d": {
      "model_module": "@jupyter-widgets/base",
      "model_module_version": "1.2.0",
      "model_name": "LayoutModel",
      "state": {
       "flex": "2"
      }
     },
     "5b009673364c4c3cbda228e8245b5ca9": {
      "model_module": "@jupyter-widgets/controls",
      "model_module_version": "1.5.0",
      "model_name": "DescriptionStyleModel",
      "state": {
       "description_width": ""
      }
     },
     "5b0b055a02d8488dac8676b59656f9c8": {
      "model_module": "@jupyter-widgets/controls",
      "model_module_version": "1.5.0",
      "model_name": "FloatProgressModel",
      "state": {
       "bar_style": "success",
       "description": "5625/5625",
       "layout": "IPY_MODEL_0c2a68adabea46b994f424fa33614829",
       "max": 5625,
       "style": "IPY_MODEL_0c30edfb125743c0b1f532dc12988275",
       "value": 5625
      }
     },
     "5b234dd0a7e043d2bb51e32f376612cf": {
      "model_module": "@jupyter-widgets/base",
      "model_module_version": "1.2.0",
      "model_name": "LayoutModel",
      "state": {
       "display": "inline-flex",
       "flex_flow": "row wrap",
       "width": "100%"
      }
     },
     "5b3a8d8722f14bb39175c9d66fc0213b": {
      "model_module": "@jupyter-widgets/controls",
      "model_module_version": "1.5.0",
      "model_name": "FloatProgressModel",
      "state": {
       "bar_style": "success",
       "description": "5625/5625",
       "layout": "IPY_MODEL_b4cedd5fc7d746b8bc42389268570f1b",
       "max": 5625,
       "style": "IPY_MODEL_ba8f1e8ce4ad4f4196f8bbb09b9d65e6",
       "value": 5625
      }
     },
     "5b67831879ad425fbab7f53ea902fda6": {
      "model_module": "@jupyter-widgets/base",
      "model_module_version": "1.2.0",
      "model_name": "LayoutModel",
      "state": {}
     },
     "5b74988386fc460589ca52bb6e9d6efc": {
      "model_module": "@jupyter-widgets/controls",
      "model_module_version": "1.5.0",
      "model_name": "ProgressStyleModel",
      "state": {
       "description_width": "initial"
      }
     },
     "5ba9e016a2ef4df49e391201890e5a55": {
      "model_module": "@jupyter-widgets/base",
      "model_module_version": "1.2.0",
      "model_name": "LayoutModel",
      "state": {
       "display": "inline-flex",
       "flex_flow": "row wrap",
       "width": "100%"
      }
     },
     "5bbdcbe1d5b1445dba7373ee7c0485dc": {
      "model_module": "@jupyter-widgets/controls",
      "model_module_version": "1.5.0",
      "model_name": "HTMLModel",
      "state": {
       "layout": "IPY_MODEL_9b53a9f2c5724fc280d02d29d60012e0",
       "style": "IPY_MODEL_41e33a76334d4bbfa4eec84d4f637d5c",
       "value": " ETA: 00:00s - loss: 0.0279 - val_loss: 0.0271"
      }
     },
     "5be0a154d9354f8fa30806a082fc1e80": {
      "model_module": "@jupyter-widgets/controls",
      "model_module_version": "1.5.0",
      "model_name": "FloatProgressModel",
      "state": {
       "bar_style": "success",
       "description": "5625/5625",
       "layout": "IPY_MODEL_5ac9902f88c14df08d1832d6c3eb4d2d",
       "max": 5625,
       "style": "IPY_MODEL_090d7ad91a1c408db5f38b79582972c4",
       "value": 5625
      }
     },
     "5c2741260b0145e3b7d91bee0465a304": {
      "model_module": "@jupyter-widgets/controls",
      "model_module_version": "1.5.0",
      "model_name": "HBoxModel",
      "state": {
       "children": [
        "IPY_MODEL_eae045a78e4a4ffd8d9205f3b48e5588",
        "IPY_MODEL_733fa69d56c849be961eb772045ba145"
       ],
       "layout": "IPY_MODEL_3b36c590667d4e909705e7dc3aeb31eb"
      }
     },
     "5d2e71045ba04c9cab13a783dab13cae": {
      "model_module": "@jupyter-widgets/controls",
      "model_module_version": "1.5.0",
      "model_name": "DescriptionStyleModel",
      "state": {
       "description_width": ""
      }
     },
     "5e0c6e1625e241a7a3db7d196534a25e": {
      "model_module": "@jupyter-widgets/controls",
      "model_module_version": "1.5.0",
      "model_name": "FloatProgressModel",
      "state": {
       "bar_style": "success",
       "description": "5625/5625",
       "layout": "IPY_MODEL_2e1a7423405b4066a965a464034f5f9a",
       "max": 5625,
       "style": "IPY_MODEL_1b1246a9c43d413c9b2d8011aba4d5f1",
       "value": 5625
      }
     },
     "5e19d7e94f124fe4b99a047048b513ce": {
      "model_module": "@jupyter-widgets/controls",
      "model_module_version": "1.5.0",
      "model_name": "HTMLModel",
      "state": {
       "layout": "IPY_MODEL_921b7285baa7472cbd7bfb527e52001c",
       "style": "IPY_MODEL_d9128200edbe4f22a4bc5adfda65c317",
       "value": " ETA: 00:00s - loss: 0.0282 - val_loss: 0.0276"
      }
     },
     "5e2cdf026abe4ad98847bdc1b314ec7c": {
      "model_module": "@jupyter-widgets/controls",
      "model_module_version": "1.5.0",
      "model_name": "FloatProgressModel",
      "state": {
       "bar_style": "success",
       "description": "5625/5625",
       "layout": "IPY_MODEL_fca1a5524ded4c639a36c9e746520188",
       "max": 5625,
       "style": "IPY_MODEL_dd6202ef0977466aab90bd6942159595",
       "value": 5625
      }
     },
     "5e564d8b5c3a4a5d94285460b7fdf7db": {
      "model_module": "@jupyter-widgets/controls",
      "model_module_version": "1.5.0",
      "model_name": "HTMLModel",
      "state": {
       "layout": "IPY_MODEL_d05905205ebc4acb967adbb78902c0e3",
       "style": "IPY_MODEL_f6c888bfe7284db4a8a437bb1082bc8a",
       "value": " ETA: 00:00s - loss: 0.0279 - val_loss: 0.0270"
      }
     },
     "5e5f276f86bf4655816265496b552fb1": {
      "model_module": "@jupyter-widgets/base",
      "model_module_version": "1.2.0",
      "model_name": "LayoutModel",
      "state": {}
     },
     "5e9b967ed6dc4735933c7fa5d021276b": {
      "model_module": "@jupyter-widgets/controls",
      "model_module_version": "1.5.0",
      "model_name": "HBoxModel",
      "state": {
       "children": [
        "IPY_MODEL_4b7c7aec0374416bb361198006dc9031",
        "IPY_MODEL_87daa90076ab4125bc811a21b70c3741"
       ],
       "layout": "IPY_MODEL_d02b1bfc4b9844a8bf10447712859f60"
      }
     },
     "5ee0c490306541beb9dcc7eb414e9234": {
      "model_module": "@jupyter-widgets/base",
      "model_module_version": "1.2.0",
      "model_name": "LayoutModel",
      "state": {
       "flex": "2"
      }
     },
     "5f713d0a5b2f4ebb985d614ca377a850": {
      "model_module": "@jupyter-widgets/controls",
      "model_module_version": "1.5.0",
      "model_name": "HTMLModel",
      "state": {
       "layout": "IPY_MODEL_5b67831879ad425fbab7f53ea902fda6",
       "style": "IPY_MODEL_3c014a4d68e549f484adcdb7544bfe9d",
       "value": " ETA: 00:00s - loss: 0.0278 - val_loss: 0.0273"
      }
     },
     "5f75352052b84989a9793e72b5fb73eb": {
      "model_module": "@jupyter-widgets/base",
      "model_module_version": "1.2.0",
      "model_name": "LayoutModel",
      "state": {
       "flex": "2"
      }
     },
     "5fb364fd51fe484e8826af9d9c23a80f": {
      "model_module": "@jupyter-widgets/controls",
      "model_module_version": "1.5.0",
      "model_name": "HBoxModel",
      "state": {
       "children": [
        "IPY_MODEL_e326fb8d43e14b4da9f113f849d8a7c7",
        "IPY_MODEL_0b819eef0d6049808ce9764d3cd5ef99"
       ],
       "layout": "IPY_MODEL_890fc1bdca7e4956a7728d09c0028a36"
      }
     },
     "5fee3ad3ed434b8eacb9a449772b4b4f": {
      "model_module": "@jupyter-widgets/controls",
      "model_module_version": "1.5.0",
      "model_name": "HTMLModel",
      "state": {
       "layout": "IPY_MODEL_93e9d3eb56754ec2ae15097258f0be45",
       "style": "IPY_MODEL_177a1bdbd6c54c6a9ef4cea1bcc5aed8",
       "value": " ETA: 00:00s - loss: 0.0284 - val_loss: 0.0289"
      }
     },
     "60377dbc5e0d4fb098b5c941d84588b5": {
      "model_module": "@jupyter-widgets/controls",
      "model_module_version": "1.5.0",
      "model_name": "HBoxModel",
      "state": {
       "children": [
        "IPY_MODEL_dfca781f40b84974a820d4609e18ecea",
        "IPY_MODEL_65e04ab1176e4561b1403897a6ca86ec"
       ],
       "layout": "IPY_MODEL_ba4648dff6e04adcbb78bab5b0528ecf"
      }
     },
     "608ae89ca22c46e6be5e201452bb1177": {
      "model_module": "@jupyter-widgets/controls",
      "model_module_version": "1.5.0",
      "model_name": "HTMLModel",
      "state": {
       "layout": "IPY_MODEL_331115a81a6847468400083070219a8b",
       "style": "IPY_MODEL_5b009673364c4c3cbda228e8245b5ca9",
       "value": " ETA: 00:00s - loss: 0.0284 - val_loss: 0.0276"
      }
     },
     "60f8c379a5fb4019baf2f3f1efca6cd7": {
      "model_module": "@jupyter-widgets/controls",
      "model_module_version": "1.5.0",
      "model_name": "HBoxModel",
      "state": {
       "children": [
        "IPY_MODEL_d4283ea96e54499a8252654f530171c5",
        "IPY_MODEL_8d2acd6b7cb84582b17ce9ef6a2680e3"
       ],
       "layout": "IPY_MODEL_72af4a88f3754e6782fa7e4d821b91d0"
      }
     },
     "61878fea1e3c4f50b0417c634c4dfa23": {
      "model_module": "@jupyter-widgets/base",
      "model_module_version": "1.2.0",
      "model_name": "LayoutModel",
      "state": {
       "flex": "2"
      }
     },
     "62daebc556424f6d86f7a8e52311b87c": {
      "model_module": "@jupyter-widgets/base",
      "model_module_version": "1.2.0",
      "model_name": "LayoutModel",
      "state": {}
     },
     "62e405734ed34efcbeb2d7d83b36d954": {
      "model_module": "@jupyter-widgets/controls",
      "model_module_version": "1.5.0",
      "model_name": "FloatProgressModel",
      "state": {
       "bar_style": "success",
       "description": "5625/5625",
       "layout": "IPY_MODEL_436f4a4fa20249ec85132f6f6cb480d1",
       "max": 5625,
       "style": "IPY_MODEL_1f268842a1f54ad2ba9f195894f5ede5",
       "value": 5625
      }
     },
     "637ef2847cab4915a4f245b403624b55": {
      "model_module": "@jupyter-widgets/controls",
      "model_module_version": "1.5.0",
      "model_name": "ProgressStyleModel",
      "state": {
       "description_width": "initial"
      }
     },
     "63b5a1f3fe5b4c62a5df522053cf15e2": {
      "model_module": "@jupyter-widgets/base",
      "model_module_version": "1.2.0",
      "model_name": "LayoutModel",
      "state": {}
     },
     "641ee88bc8d44ecc81d06bc83d922257": {
      "model_module": "@jupyter-widgets/controls",
      "model_module_version": "1.5.0",
      "model_name": "ProgressStyleModel",
      "state": {
       "description_width": "initial"
      }
     },
     "64bde9098a8c4e96966c622aa8732be7": {
      "model_module": "@jupyter-widgets/base",
      "model_module_version": "1.2.0",
      "model_name": "LayoutModel",
      "state": {
       "flex": "2"
      }
     },
     "6513725462c84c28b9a410ea62d5137d": {
      "model_module": "@jupyter-widgets/controls",
      "model_module_version": "1.5.0",
      "model_name": "DescriptionStyleModel",
      "state": {
       "description_width": ""
      }
     },
     "653dd0c3ea6c43e8a32dd110736ae09f": {
      "model_module": "@jupyter-widgets/controls",
      "model_module_version": "1.5.0",
      "model_name": "ProgressStyleModel",
      "state": {
       "description_width": "initial"
      }
     },
     "65afbd96655548e68cf3a56d300812cd": {
      "model_module": "@jupyter-widgets/base",
      "model_module_version": "1.2.0",
      "model_name": "LayoutModel",
      "state": {}
     },
     "65e04ab1176e4561b1403897a6ca86ec": {
      "model_module": "@jupyter-widgets/controls",
      "model_module_version": "1.5.0",
      "model_name": "HTMLModel",
      "state": {
       "layout": "IPY_MODEL_298114975f9348e48003830e8d3d8de5",
       "style": "IPY_MODEL_33c77803aa0a4e24ad200e818285a257",
       "value": " ETA: 00:00s - loss: 0.0277 - val_loss: 0.0272"
      }
     },
     "66252b14ad2f413fbffebe88ee23c434": {
      "model_module": "@jupyter-widgets/controls",
      "model_module_version": "1.5.0",
      "model_name": "FloatProgressModel",
      "state": {
       "bar_style": "success",
       "description": "5625/5625",
       "layout": "IPY_MODEL_ecc78140e2374232916b3d4b186971b9",
       "max": 5625,
       "style": "IPY_MODEL_bf6d3a2f93cc4c09a19dff54c1f530b4",
       "value": 5625
      }
     },
     "66ace7a0fbb24200b71f796da23d0ff3": {
      "model_module": "@jupyter-widgets/controls",
      "model_module_version": "1.5.0",
      "model_name": "DescriptionStyleModel",
      "state": {
       "description_width": ""
      }
     },
     "679a956486944f5496c3a453ad4a1657": {
      "model_module": "@jupyter-widgets/controls",
      "model_module_version": "1.5.0",
      "model_name": "FloatProgressModel",
      "state": {
       "bar_style": "success",
       "description": "5625/5625",
       "layout": "IPY_MODEL_79b6187bf8d34f16af74fb7aabbbdcdc",
       "max": 5625,
       "style": "IPY_MODEL_e2e4c7c2231048d1b5d2ca8e75a2884c",
       "value": 5625
      }
     },
     "67ad4751f3a84d68a777f0cdb725f12c": {
      "model_module": "@jupyter-widgets/controls",
      "model_module_version": "1.5.0",
      "model_name": "DescriptionStyleModel",
      "state": {
       "description_width": ""
      }
     },
     "67b74345047643f2b71b7a3f7d6b6339": {
      "model_module": "@jupyter-widgets/controls",
      "model_module_version": "1.5.0",
      "model_name": "HTMLModel",
      "state": {
       "layout": "IPY_MODEL_32ffbf41dcea45ae91801c77cf2bf2f4",
       "style": "IPY_MODEL_151b39ad39914155abc8486efb145811",
       "value": " ETA: 00:00s - loss: 0.0283 - val_loss: 0.0274"
      }
     },
     "67d6247233a6458e82af08cb525ac3c9": {
      "model_module": "@jupyter-widgets/base",
      "model_module_version": "1.2.0",
      "model_name": "LayoutModel",
      "state": {}
     },
     "681333ead82a4603a63358cd014eb54e": {
      "model_module": "@jupyter-widgets/base",
      "model_module_version": "1.2.0",
      "model_name": "LayoutModel",
      "state": {
       "flex": "2"
      }
     },
     "686346fb986948c08f031fe2f9a0dd4d": {
      "model_module": "@jupyter-widgets/base",
      "model_module_version": "1.2.0",
      "model_name": "LayoutModel",
      "state": {
       "flex": "2"
      }
     },
     "68c3caf0f7d84599bdbf87f5bd80e44b": {
      "model_module": "@jupyter-widgets/controls",
      "model_module_version": "1.5.0",
      "model_name": "HTMLModel",
      "state": {
       "layout": "IPY_MODEL_bf5b4464400c4f2bbcaaf48f454aa3d7",
       "style": "IPY_MODEL_6d2fedb939d3446d911c1b9a36d4eff8",
       "value": " ETA: 00:00s - loss: 0.0289 - val_loss: 0.0281"
      }
     },
     "693162f70fa442068d42238e788bc47e": {
      "model_module": "@jupyter-widgets/base",
      "model_module_version": "1.2.0",
      "model_name": "LayoutModel",
      "state": {
       "flex": "2"
      }
     },
     "6a37f4264b3747cf9f65fdd0c955d969": {
      "model_module": "@jupyter-widgets/base",
      "model_module_version": "1.2.0",
      "model_name": "LayoutModel",
      "state": {
       "flex": "2"
      }
     },
     "6a6f182b9ca74bcc840f312972266519": {
      "model_module": "@jupyter-widgets/base",
      "model_module_version": "1.2.0",
      "model_name": "LayoutModel",
      "state": {}
     },
     "6aa67fe9f53c4849b829a3e2d80b9656": {
      "model_module": "@jupyter-widgets/base",
      "model_module_version": "1.2.0",
      "model_name": "LayoutModel",
      "state": {}
     },
     "6af45c2c4898497f82a12c23e240df72": {
      "model_module": "@jupyter-widgets/controls",
      "model_module_version": "1.5.0",
      "model_name": "FloatProgressModel",
      "state": {
       "bar_style": "success",
       "description": "5625/5625",
       "layout": "IPY_MODEL_0b361d70d81a45d2afcb6c1b0b199cde",
       "max": 5625,
       "style": "IPY_MODEL_393f52c956384267a231506cd3af5e98",
       "value": 5625
      }
     },
     "6b03cf2272a34bf7927a7c3a2d17ce4c": {
      "model_module": "@jupyter-widgets/controls",
      "model_module_version": "1.5.0",
      "model_name": "ProgressStyleModel",
      "state": {
       "description_width": "initial"
      }
     },
     "6b23c80fe2c0412c8f1ac83cdfdcf00a": {
      "model_module": "@jupyter-widgets/controls",
      "model_module_version": "1.5.0",
      "model_name": "DescriptionStyleModel",
      "state": {
       "description_width": ""
      }
     },
     "6c20c4ec446d404badfdd4c88fdede32": {
      "model_module": "@jupyter-widgets/controls",
      "model_module_version": "1.5.0",
      "model_name": "HTMLModel",
      "state": {
       "layout": "IPY_MODEL_3debd49f8b814d0092b3f686710ab7c4",
       "style": "IPY_MODEL_3ac9c9e082a045bc91a91dc6fec474a8",
       "value": " ETA: 00:00s - loss: 0.0279 - val_loss: 0.0274"
      }
     },
     "6c3b431d3cf241af8dadaefcef547f64": {
      "model_module": "@jupyter-widgets/base",
      "model_module_version": "1.2.0",
      "model_name": "LayoutModel",
      "state": {
       "flex": "2"
      }
     },
     "6d2fedb939d3446d911c1b9a36d4eff8": {
      "model_module": "@jupyter-widgets/controls",
      "model_module_version": "1.5.0",
      "model_name": "DescriptionStyleModel",
      "state": {
       "description_width": ""
      }
     },
     "6d642a314498407580a0c60be6517ee1": {
      "model_module": "@jupyter-widgets/controls",
      "model_module_version": "1.5.0",
      "model_name": "HTMLModel",
      "state": {
       "layout": "IPY_MODEL_4707b063b32446c0b67cf351bcee348e",
       "style": "IPY_MODEL_c705e91dd4654f62b6c3d33cbecdb5a7",
       "value": " ETA: 00:00s - loss: 0.0297 - val_loss: 0.0287"
      }
     },
     "6d739097ae9548b781c6667470b7c281": {
      "model_module": "@jupyter-widgets/controls",
      "model_module_version": "1.5.0",
      "model_name": "DescriptionStyleModel",
      "state": {
       "description_width": ""
      }
     },
     "6dc4ffb67a1748deb5c66a58a1a22ec2": {
      "model_module": "@jupyter-widgets/base",
      "model_module_version": "1.2.0",
      "model_name": "LayoutModel",
      "state": {}
     },
     "6eaef938dcea4c7daeeb8806aaa21ef2": {
      "model_module": "@jupyter-widgets/controls",
      "model_module_version": "1.5.0",
      "model_name": "DescriptionStyleModel",
      "state": {
       "description_width": ""
      }
     },
     "6ee39798ea4f4a4b91a03d1c12af6bf6": {
      "model_module": "@jupyter-widgets/base",
      "model_module_version": "1.2.0",
      "model_name": "LayoutModel",
      "state": {
       "display": "inline-flex",
       "flex_flow": "row wrap",
       "width": "100%"
      }
     },
     "6ef85bba7f5248609c10caada0d48173": {
      "model_module": "@jupyter-widgets/controls",
      "model_module_version": "1.5.0",
      "model_name": "HBoxModel",
      "state": {
       "children": [
        "IPY_MODEL_8345d68b0a0940d08170417ac7b15ce0",
        "IPY_MODEL_d171ad4464b44e308f063365386ab1f6"
       ],
       "layout": "IPY_MODEL_aec40a7540794b3a8ddd78c86c0ac81e"
      }
     },
     "6fa5aa614cfa424d8955860f98783d9f": {
      "model_module": "@jupyter-widgets/controls",
      "model_module_version": "1.5.0",
      "model_name": "HTMLModel",
      "state": {
       "layout": "IPY_MODEL_f234b1c163584231afcec520fe8af485",
       "style": "IPY_MODEL_7b716edf2304420190b9b32da43a6eb3",
       "value": " ETA: 00:00s - loss: 0.0279 - val_loss: 0.0276"
      }
     },
     "6fbb54818a724b539f35e285ecb959b4": {
      "model_module": "@jupyter-widgets/base",
      "model_module_version": "1.2.0",
      "model_name": "LayoutModel",
      "state": {}
     },
     "70410a903f634811909520874d60e98b": {
      "model_module": "@jupyter-widgets/controls",
      "model_module_version": "1.5.0",
      "model_name": "DescriptionStyleModel",
      "state": {
       "description_width": ""
      }
     },
     "7082f5344b6e41848bc35525327938f5": {
      "model_module": "@jupyter-widgets/controls",
      "model_module_version": "1.5.0",
      "model_name": "ProgressStyleModel",
      "state": {
       "description_width": "initial"
      }
     },
     "70ea983b4f20458d93afa60b05ed1748": {
      "model_module": "@jupyter-widgets/base",
      "model_module_version": "1.2.0",
      "model_name": "LayoutModel",
      "state": {}
     },
     "7112792b0c8745ed967573b794495f08": {
      "model_module": "@jupyter-widgets/controls",
      "model_module_version": "1.5.0",
      "model_name": "HTMLModel",
      "state": {
       "layout": "IPY_MODEL_74cf5adba74c49b8a98d173fa126921b",
       "style": "IPY_MODEL_6eaef938dcea4c7daeeb8806aaa21ef2",
       "value": " ETA: 00:00s - loss: 0.0281 - val_loss: 0.0273"
      }
     },
     "723a2a61fcae4353b950d1a017f487e6": {
      "model_module": "@jupyter-widgets/controls",
      "model_module_version": "1.5.0",
      "model_name": "FloatProgressModel",
      "state": {
       "bar_style": "success",
       "description": "5625/5625",
       "layout": "IPY_MODEL_a8a89b9ebebf4c52ad201cf053d6e792",
       "max": 5625,
       "style": "IPY_MODEL_2338b4a0a8b64728a83d82b9abc1d433",
       "value": 5625
      }
     },
     "7247aa63b7484cdfb630ad62de6aaea5": {
      "model_module": "@jupyter-widgets/controls",
      "model_module_version": "1.5.0",
      "model_name": "HBoxModel",
      "state": {
       "children": [
        "IPY_MODEL_572db3acc16542af82b44d7bacaeea8e",
        "IPY_MODEL_9fd60b63106245029c0e10228a200762"
       ],
       "layout": "IPY_MODEL_3701bbe672a24680a8e829fda13ffc89"
      }
     },
     "729494b0d07d406890415d15ad39aa0d": {
      "model_module": "@jupyter-widgets/controls",
      "model_module_version": "1.5.0",
      "model_name": "ProgressStyleModel",
      "state": {
       "description_width": "initial"
      }
     },
     "72af4a88f3754e6782fa7e4d821b91d0": {
      "model_module": "@jupyter-widgets/base",
      "model_module_version": "1.2.0",
      "model_name": "LayoutModel",
      "state": {
       "display": "inline-flex",
       "flex_flow": "row wrap",
       "width": "100%"
      }
     },
     "733fa69d56c849be961eb772045ba145": {
      "model_module": "@jupyter-widgets/controls",
      "model_module_version": "1.5.0",
      "model_name": "HTMLModel",
      "state": {
       "layout": "IPY_MODEL_a9c7f1e357ac493389be2ea16587426a",
       "style": "IPY_MODEL_8c811b36fd67411aa7d30ea819b4347c",
       "value": " ETA: 00:00s - loss: 0.0281 - val_loss: 0.0274"
      }
     },
     "735ffa140fa54a7d92eec50d693975e5": {
      "model_module": "@jupyter-widgets/controls",
      "model_module_version": "1.5.0",
      "model_name": "DescriptionStyleModel",
      "state": {
       "description_width": ""
      }
     },
     "73b12c3d51f9468792651484a2b39f8a": {
      "model_module": "@jupyter-widgets/controls",
      "model_module_version": "1.5.0",
      "model_name": "DescriptionStyleModel",
      "state": {
       "description_width": ""
      }
     },
     "742e644165934caf89fab311803e67fe": {
      "model_module": "@jupyter-widgets/controls",
      "model_module_version": "1.5.0",
      "model_name": "FloatProgressModel",
      "state": {
       "bar_style": "success",
       "description": "5625/5625",
       "layout": "IPY_MODEL_aa9ec0e6211e47a596a887b0822d235e",
       "max": 5625,
       "style": "IPY_MODEL_5b74988386fc460589ca52bb6e9d6efc",
       "value": 5625
      }
     },
     "744ec91f7d114b08bb35739b08382bc2": {
      "model_module": "@jupyter-widgets/controls",
      "model_module_version": "1.5.0",
      "model_name": "HBoxModel",
      "state": {
       "children": [
        "IPY_MODEL_b87df6c11a744feda9b8ab7dc89a1730",
        "IPY_MODEL_0524d4c770b04011ac953b9b5b07c801"
       ],
       "layout": "IPY_MODEL_7e6278db4b994a1693c1d96723c520b8"
      }
     },
     "74674e461ee74c14acda5624c6f8c239": {
      "model_module": "@jupyter-widgets/controls",
      "model_module_version": "1.5.0",
      "model_name": "FloatProgressModel",
      "state": {
       "bar_style": "success",
       "description": "5625/5625",
       "layout": "IPY_MODEL_f198c1e2e4ec4a50b6ad058f2350a694",
       "max": 5625,
       "style": "IPY_MODEL_a116026c5a374b249aabc970574b5bb0",
       "value": 5625
      }
     },
     "74cf5adba74c49b8a98d173fa126921b": {
      "model_module": "@jupyter-widgets/base",
      "model_module_version": "1.2.0",
      "model_name": "LayoutModel",
      "state": {}
     },
     "755b290bf4da4ad2a094f07cad0b86f8": {
      "model_module": "@jupyter-widgets/base",
      "model_module_version": "1.2.0",
      "model_name": "LayoutModel",
      "state": {
       "flex": "2"
      }
     },
     "756ede1f337545d3862c7026f6f118f3": {
      "model_module": "@jupyter-widgets/base",
      "model_module_version": "1.2.0",
      "model_name": "LayoutModel",
      "state": {
       "flex": "2"
      }
     },
     "7575c1fb3bab441aa96df8d93bc441a9": {
      "model_module": "@jupyter-widgets/controls",
      "model_module_version": "1.5.0",
      "model_name": "FloatProgressModel",
      "state": {
       "bar_style": "success",
       "description": "5625/5625",
       "layout": "IPY_MODEL_ae119bf51e6541a890a90310e1d92545",
       "max": 5625,
       "style": "IPY_MODEL_d99371ae61df4341af0e087a42a222cf",
       "value": 5625
      }
     },
     "7611c8e591994682a9bcf3ae57228d05": {
      "model_module": "@jupyter-widgets/controls",
      "model_module_version": "1.5.0",
      "model_name": "ProgressStyleModel",
      "state": {
       "description_width": "initial"
      }
     },
     "761495752a154c8fa146f38fba6d629d": {
      "model_module": "@jupyter-widgets/base",
      "model_module_version": "1.2.0",
      "model_name": "LayoutModel",
      "state": {
       "flex": "2"
      }
     },
     "7700b13657cb457bae50f1f74f5a00e7": {
      "model_module": "@jupyter-widgets/base",
      "model_module_version": "1.2.0",
      "model_name": "LayoutModel",
      "state": {
       "display": "inline-flex",
       "flex_flow": "row wrap",
       "width": "100%"
      }
     },
     "77145b3b97b14ecf80b08357597650b8": {
      "model_module": "@jupyter-widgets/controls",
      "model_module_version": "1.5.0",
      "model_name": "DescriptionStyleModel",
      "state": {
       "description_width": ""
      }
     },
     "77743570a6744816b3ea2f47e7c73c62": {
      "model_module": "@jupyter-widgets/base",
      "model_module_version": "1.2.0",
      "model_name": "LayoutModel",
      "state": {
       "flex": "2"
      }
     },
     "77cbb3d431f44abbb49d3529970a379f": {
      "model_module": "@jupyter-widgets/controls",
      "model_module_version": "1.5.0",
      "model_name": "HBoxModel",
      "state": {
       "children": [
        "IPY_MODEL_8d2f814ce9484f64858b88413a1ad309",
        "IPY_MODEL_3c0edf97159948bbb2d4f1fc682d2b1c"
       ],
       "layout": "IPY_MODEL_0ffe753333d24a4f98a9576f32983605"
      }
     },
     "78569c10f05a467eb12ada6dce4bfe2c": {
      "model_module": "@jupyter-widgets/controls",
      "model_module_version": "1.5.0",
      "model_name": "ProgressStyleModel",
      "state": {
       "description_width": "initial"
      }
     },
     "79667e83976b4fa1adb63dd5b5826021": {
      "model_module": "@jupyter-widgets/controls",
      "model_module_version": "1.5.0",
      "model_name": "FloatProgressModel",
      "state": {
       "bar_style": "success",
       "description": "5625/5625",
       "layout": "IPY_MODEL_1220307b164544ab83394a45a30d00f5",
       "max": 5625,
       "style": "IPY_MODEL_567a0299cf94431b83ca4d634eb2ec3e",
       "value": 5625
      }
     },
     "79930315e34b4523a5753d2653da6157": {
      "model_module": "@jupyter-widgets/controls",
      "model_module_version": "1.5.0",
      "model_name": "HBoxModel",
      "state": {
       "children": [
        "IPY_MODEL_6af45c2c4898497f82a12c23e240df72",
        "IPY_MODEL_6d642a314498407580a0c60be6517ee1"
       ],
       "layout": "IPY_MODEL_53b5bef51e86469784113bcbc8a3ec9d"
      }
     },
     "79b6187bf8d34f16af74fb7aabbbdcdc": {
      "model_module": "@jupyter-widgets/base",
      "model_module_version": "1.2.0",
      "model_name": "LayoutModel",
      "state": {
       "flex": "2"
      }
     },
     "7a4dff0c46c14686a1e15531313864dc": {
      "model_module": "@jupyter-widgets/controls",
      "model_module_version": "1.5.0",
      "model_name": "FloatProgressModel",
      "state": {
       "bar_style": "success",
       "description": "5625/5625",
       "layout": "IPY_MODEL_e6ef989de5f44ece90dc2b88a1995475",
       "max": 5625,
       "style": "IPY_MODEL_ad8e1e854fcb4d12885a43ef00fc1839",
       "value": 5625
      }
     },
     "7a98f8b6c69a40f5a2f9a5a0a8ae7ee5": {
      "model_module": "@jupyter-widgets/base",
      "model_module_version": "1.2.0",
      "model_name": "LayoutModel",
      "state": {
       "display": "inline-flex",
       "flex_flow": "row wrap",
       "width": "100%"
      }
     },
     "7ac1c3f834e24bcead12f92aa91992d4": {
      "model_module": "@jupyter-widgets/base",
      "model_module_version": "1.2.0",
      "model_name": "LayoutModel",
      "state": {}
     },
     "7ace54863df8430b8c13390e17466e61": {
      "model_module": "@jupyter-widgets/controls",
      "model_module_version": "1.5.0",
      "model_name": "ProgressStyleModel",
      "state": {
       "description_width": "initial"
      }
     },
     "7aea449008d24a1b898fd682c8f0d547": {
      "model_module": "@jupyter-widgets/base",
      "model_module_version": "1.2.0",
      "model_name": "LayoutModel",
      "state": {}
     },
     "7b2014a428f74287a0d688799585d913": {
      "model_module": "@jupyter-widgets/controls",
      "model_module_version": "1.5.0",
      "model_name": "DescriptionStyleModel",
      "state": {
       "description_width": ""
      }
     },
     "7b716edf2304420190b9b32da43a6eb3": {
      "model_module": "@jupyter-widgets/controls",
      "model_module_version": "1.5.0",
      "model_name": "DescriptionStyleModel",
      "state": {
       "description_width": ""
      }
     },
     "7bb668cef4004233ba04e90120344ef8": {
      "model_module": "@jupyter-widgets/controls",
      "model_module_version": "1.5.0",
      "model_name": "ProgressStyleModel",
      "state": {
       "description_width": "initial"
      }
     },
     "7bc8452a077b48499408f236edad2458": {
      "model_module": "@jupyter-widgets/controls",
      "model_module_version": "1.5.0",
      "model_name": "DescriptionStyleModel",
      "state": {
       "description_width": ""
      }
     },
     "7bec785489774651961e29c942c13faf": {
      "model_module": "@jupyter-widgets/controls",
      "model_module_version": "1.5.0",
      "model_name": "HTMLModel",
      "state": {
       "layout": "IPY_MODEL_5017215a2ed74e73a7971a37e09b22e6",
       "style": "IPY_MODEL_b862326a3f2647d086e1eca71eb4239b",
       "value": " ETA: 00:00s - loss: 0.0288 - val_loss: 0.0277"
      }
     },
     "7bf2e3b9fecc41f381550b6508eaf216": {
      "model_module": "@jupyter-widgets/base",
      "model_module_version": "1.2.0",
      "model_name": "LayoutModel",
      "state": {
       "flex": "2"
      }
     },
     "7c71b92b00474665876e38e49c4b98c3": {
      "model_module": "@jupyter-widgets/controls",
      "model_module_version": "1.5.0",
      "model_name": "FloatProgressModel",
      "state": {
       "bar_style": "success",
       "description": "5625/5625",
       "layout": "IPY_MODEL_917cde6c57804de68f2432eee47cfd51",
       "max": 5625,
       "style": "IPY_MODEL_27d6c665ecb341b6b033404f566b3540",
       "value": 5625
      }
     },
     "7d25ba1312fa4d99b84f0088571b985e": {
      "model_module": "@jupyter-widgets/controls",
      "model_module_version": "1.5.0",
      "model_name": "HTMLModel",
      "state": {
       "layout": "IPY_MODEL_fc59e74190ed4c1498ad58c7f1d40b62",
       "style": "IPY_MODEL_ff30a45dd7144bd6b7cea257955f30ff",
       "value": " ETA: 00:00s - loss: 0.0299 - val_loss: 0.0288"
      }
     },
     "7d3582659d5543c29853e640dd23e07f": {
      "model_module": "@jupyter-widgets/base",
      "model_module_version": "1.2.0",
      "model_name": "LayoutModel",
      "state": {
       "display": "inline-flex",
       "flex_flow": "row wrap",
       "width": "100%"
      }
     },
     "7d41456792f94016a7b5f5d14cd545b2": {
      "model_module": "@jupyter-widgets/controls",
      "model_module_version": "1.5.0",
      "model_name": "FloatProgressModel",
      "state": {
       "bar_style": "success",
       "description": "5625/5625",
       "layout": "IPY_MODEL_fe9a0a92d16f4803a8271a38bc605cf8",
       "max": 5625,
       "style": "IPY_MODEL_d93f91aab4a248d7bf8573002088f9fd",
       "value": 5625
      }
     },
     "7dd73523a52a4b2fa5f38c70af0b0004": {
      "model_module": "@jupyter-widgets/controls",
      "model_module_version": "1.5.0",
      "model_name": "HBoxModel",
      "state": {
       "children": [
        "IPY_MODEL_39c2fa04e83d4df8a8d8d710f8b9c120",
        "IPY_MODEL_8b1fb2091f79410aa8baf1ee33b62964"
       ],
       "layout": "IPY_MODEL_21047d3ae9d744dda7e23bf246b8be00"
      }
     },
     "7e3437ad21d142719952e2a23ce31e93": {
      "model_module": "@jupyter-widgets/controls",
      "model_module_version": "1.5.0",
      "model_name": "HTMLModel",
      "state": {
       "layout": "IPY_MODEL_6aa67fe9f53c4849b829a3e2d80b9656",
       "style": "IPY_MODEL_43fe496ef7d648d083111eed2f2fed63",
       "value": " ETA: 00:00s - loss: 0.0278 - val_loss: 0.0273"
      }
     },
     "7e48653af4d7443382387a108f650f17": {
      "model_module": "@jupyter-widgets/base",
      "model_module_version": "1.2.0",
      "model_name": "LayoutModel",
      "state": {
       "display": "inline-flex",
       "flex_flow": "row wrap",
       "width": "100%"
      }
     },
     "7e6278db4b994a1693c1d96723c520b8": {
      "model_module": "@jupyter-widgets/base",
      "model_module_version": "1.2.0",
      "model_name": "LayoutModel",
      "state": {
       "display": "inline-flex",
       "flex_flow": "row wrap",
       "width": "100%"
      }
     },
     "7e81800e77714278b34101dcfdb08bc7": {
      "model_module": "@jupyter-widgets/controls",
      "model_module_version": "1.5.0",
      "model_name": "DescriptionStyleModel",
      "state": {
       "description_width": ""
      }
     },
     "7fdda5a4a9664ad0a50f4d49a893e1c5": {
      "model_module": "@jupyter-widgets/controls",
      "model_module_version": "1.5.0",
      "model_name": "DescriptionStyleModel",
      "state": {
       "description_width": ""
      }
     },
     "80d7da483c144c688b54b26e7f0703bf": {
      "model_module": "@jupyter-widgets/controls",
      "model_module_version": "1.5.0",
      "model_name": "HTMLModel",
      "state": {
       "layout": "IPY_MODEL_63b5a1f3fe5b4c62a5df522053cf15e2",
       "style": "IPY_MODEL_89056eac8c2441f1b412a2d0bc0dd564",
       "value": " ETA: 00:00s - loss: 0.0598 - val_loss: 0.0359"
      }
     },
     "81215f61e194422a8b994b7fad727ee5": {
      "model_module": "@jupyter-widgets/base",
      "model_module_version": "1.2.0",
      "model_name": "LayoutModel",
      "state": {
       "flex": "2"
      }
     },
     "813f00c50dd446bd8e62462fff0fa051": {
      "model_module": "@jupyter-widgets/controls",
      "model_module_version": "1.5.0",
      "model_name": "FloatProgressModel",
      "state": {
       "bar_style": "success",
       "description": "5625/5625",
       "layout": "IPY_MODEL_6a37f4264b3747cf9f65fdd0c955d969",
       "max": 5625,
       "style": "IPY_MODEL_4ebc528c3da14130a95c8ec561e40539",
       "value": 5625
      }
     },
     "818778bc6dc84a16abb5d34b22ac3698": {
      "model_module": "@jupyter-widgets/controls",
      "model_module_version": "1.5.0",
      "model_name": "FloatProgressModel",
      "state": {
       "bar_style": "danger",
       "description": "Training:   9%",
       "layout": "IPY_MODEL_6c3b431d3cf241af8dadaefcef547f64",
       "max": 1000,
       "style": "IPY_MODEL_653dd0c3ea6c43e8a32dd110736ae09f",
       "value": 92
      }
     },
     "81dbd1b981ca4121a016ea8c125a45ce": {
      "model_module": "@jupyter-widgets/base",
      "model_module_version": "1.2.0",
      "model_name": "LayoutModel",
      "state": {}
     },
     "8211571241ee444e980482f9aa5d8b9a": {
      "model_module": "@jupyter-widgets/controls",
      "model_module_version": "1.5.0",
      "model_name": "HTMLModel",
      "state": {
       "layout": "IPY_MODEL_d44f8eaf8b8148348ac9ee478814d19b",
       "style": "IPY_MODEL_57fe34895a094adebcc469711c8d9cfe",
       "value": " ETA: 00:00s - loss: 0.0282 - val_loss: 0.0294"
      }
     },
     "82750b2086b842a5bcb345ddaa36792d": {
      "model_module": "@jupyter-widgets/controls",
      "model_module_version": "1.5.0",
      "model_name": "ProgressStyleModel",
      "state": {
       "description_width": "initial"
      }
     },
     "82c13f6e62dc4f3aba9c8e1fef39ba08": {
      "model_module": "@jupyter-widgets/controls",
      "model_module_version": "1.5.0",
      "model_name": "HBoxModel",
      "state": {
       "children": [
        "IPY_MODEL_c366f793943a4ad2ae924614988dfc28",
        "IPY_MODEL_aca8a13b68994f7fb0ad10b33d132a2e"
       ],
       "layout": "IPY_MODEL_516f61ef5b254093876f20e41cb325a8"
      }
     },
     "8345d68b0a0940d08170417ac7b15ce0": {
      "model_module": "@jupyter-widgets/controls",
      "model_module_version": "1.5.0",
      "model_name": "FloatProgressModel",
      "state": {
       "bar_style": "success",
       "description": "5625/5625",
       "layout": "IPY_MODEL_693162f70fa442068d42238e788bc47e",
       "max": 5625,
       "style": "IPY_MODEL_5197444e941445adb5cb8dde6cd66726",
       "value": 5625
      }
     },
     "83d8115c43804345aa30c7764a19e713": {
      "model_module": "@jupyter-widgets/base",
      "model_module_version": "1.2.0",
      "model_name": "LayoutModel",
      "state": {
       "display": "inline-flex",
       "flex_flow": "row wrap",
       "width": "100%"
      }
     },
     "83f47b3b89b04233957fbafa26bb1efd": {
      "model_module": "@jupyter-widgets/controls",
      "model_module_version": "1.5.0",
      "model_name": "DescriptionStyleModel",
      "state": {
       "description_width": ""
      }
     },
     "84977b130b2b436cbf3dda16c983e7fc": {
      "model_module": "@jupyter-widgets/controls",
      "model_module_version": "1.5.0",
      "model_name": "HTMLModel",
      "state": {
       "layout": "IPY_MODEL_b600440fe63e4b48a7d76a26a924ed49",
       "style": "IPY_MODEL_85f5074e2bba421392da9280a4642708",
       "value": " ETA: 00:00s - loss: 0.0315 - val_loss: 0.0295"
      }
     },
     "84d462b9d2a9479e9ec6ea028540dd80": {
      "model_module": "@jupyter-widgets/base",
      "model_module_version": "1.2.0",
      "model_name": "LayoutModel",
      "state": {}
     },
     "85660fdc7d354a23b0a2795dd9d8d10f": {
      "model_module": "@jupyter-widgets/controls",
      "model_module_version": "1.5.0",
      "model_name": "ProgressStyleModel",
      "state": {
       "description_width": "initial"
      }
     },
     "85f5074e2bba421392da9280a4642708": {
      "model_module": "@jupyter-widgets/controls",
      "model_module_version": "1.5.0",
      "model_name": "DescriptionStyleModel",
      "state": {
       "description_width": ""
      }
     },
     "871ed9c5d7804e90851db1f135d4a2fc": {
      "model_module": "@jupyter-widgets/controls",
      "model_module_version": "1.5.0",
      "model_name": "ProgressStyleModel",
      "state": {
       "description_width": "initial"
      }
     },
     "872b1ca4eb7a42e3bdc2403091c1c619": {
      "model_module": "@jupyter-widgets/base",
      "model_module_version": "1.2.0",
      "model_name": "LayoutModel",
      "state": {
       "display": "inline-flex",
       "flex_flow": "row wrap",
       "width": "100%"
      }
     },
     "878b9e600ac2496da87c89b303363c86": {
      "model_module": "@jupyter-widgets/controls",
      "model_module_version": "1.5.0",
      "model_name": "HTMLModel",
      "state": {
       "layout": "IPY_MODEL_8f3f7f1eb8cb46bb852ea150512073e0",
       "style": "IPY_MODEL_3754d1b4d0af4a2ab2af5c269205f4a9",
       "value": " ETA: 00:00s - loss: 0.0284 - val_loss: 0.0274"
      }
     },
     "87d896cdbd7340c095da0c74a7fce84f": {
      "model_module": "@jupyter-widgets/controls",
      "model_module_version": "1.5.0",
      "model_name": "DescriptionStyleModel",
      "state": {
       "description_width": ""
      }
     },
     "87daa90076ab4125bc811a21b70c3741": {
      "model_module": "@jupyter-widgets/controls",
      "model_module_version": "1.5.0",
      "model_name": "HTMLModel",
      "state": {
       "layout": "IPY_MODEL_f9435f5b8bba4e0488b03cc6053e054a",
       "style": "IPY_MODEL_af8948ed115a42359369f6ae3e0dd8b9",
       "value": " ETA: 00:00s - loss: 0.0306 - val_loss: 0.0295"
      }
     },
     "8827fc6946464488a1fa015e940a1ff5": {
      "model_module": "@jupyter-widgets/controls",
      "model_module_version": "1.5.0",
      "model_name": "FloatProgressModel",
      "state": {
       "bar_style": "success",
       "description": "5625/5625",
       "layout": "IPY_MODEL_77743570a6744816b3ea2f47e7c73c62",
       "max": 5625,
       "style": "IPY_MODEL_f48da15465e04176b5c4e5ec34d53ed4",
       "value": 5625
      }
     },
     "8838146424644bf99bcb540f4f77441b": {
      "model_module": "@jupyter-widgets/controls",
      "model_module_version": "1.5.0",
      "model_name": "DescriptionStyleModel",
      "state": {
       "description_width": ""
      }
     },
     "885f2463efbf4a10a4d865e054affedf": {
      "model_module": "@jupyter-widgets/controls",
      "model_module_version": "1.5.0",
      "model_name": "FloatProgressModel",
      "state": {
       "bar_style": "success",
       "description": "5625/5625",
       "layout": "IPY_MODEL_557eb3bf8ca74fc6b0b7a77090b5efec",
       "max": 5625,
       "style": "IPY_MODEL_871ed9c5d7804e90851db1f135d4a2fc",
       "value": 5625
      }
     },
     "888568a0c7564153acbfbf8808dfbfa8": {
      "model_module": "@jupyter-widgets/base",
      "model_module_version": "1.2.0",
      "model_name": "LayoutModel",
      "state": {
       "flex": "2"
      }
     },
     "88a30aa420c0450ab22eb8b58eef55c3": {
      "model_module": "@jupyter-widgets/base",
      "model_module_version": "1.2.0",
      "model_name": "LayoutModel",
      "state": {
       "flex": "2"
      }
     },
     "89056eac8c2441f1b412a2d0bc0dd564": {
      "model_module": "@jupyter-widgets/controls",
      "model_module_version": "1.5.0",
      "model_name": "DescriptionStyleModel",
      "state": {
       "description_width": ""
      }
     },
     "890fc1bdca7e4956a7728d09c0028a36": {
      "model_module": "@jupyter-widgets/base",
      "model_module_version": "1.2.0",
      "model_name": "LayoutModel",
      "state": {
       "display": "inline-flex",
       "flex_flow": "row wrap",
       "width": "100%"
      }
     },
     "892f4a7d93454ab59a3946ccdb3970e9": {
      "model_module": "@jupyter-widgets/controls",
      "model_module_version": "1.5.0",
      "model_name": "DescriptionStyleModel",
      "state": {
       "description_width": ""
      }
     },
     "898e11b69c3b42539f2ea7aa7e61e203": {
      "model_module": "@jupyter-widgets/base",
      "model_module_version": "1.2.0",
      "model_name": "LayoutModel",
      "state": {
       "flex": "2"
      }
     },
     "89a4961b6b2c40869379b9bd4108827a": {
      "model_module": "@jupyter-widgets/base",
      "model_module_version": "1.2.0",
      "model_name": "LayoutModel",
      "state": {
       "flex": "2"
      }
     },
     "89cea9840c5c4354a70ae176f4ccb08c": {
      "model_module": "@jupyter-widgets/controls",
      "model_module_version": "1.5.0",
      "model_name": "HBoxModel",
      "state": {
       "children": [
        "IPY_MODEL_5b3a8d8722f14bb39175c9d66fc0213b",
        "IPY_MODEL_7d25ba1312fa4d99b84f0088571b985e"
       ],
       "layout": "IPY_MODEL_40cc32d55fa3481786489116186f0e9a"
      }
     },
     "89fe72f7a6424b8ca6647a93a3e9bfd1": {
      "model_module": "@jupyter-widgets/base",
      "model_module_version": "1.2.0",
      "model_name": "LayoutModel",
      "state": {}
     },
     "8a0e4193382d4f6bb2141faa0a16a440": {
      "model_module": "@jupyter-widgets/controls",
      "model_module_version": "1.5.0",
      "model_name": "FloatProgressModel",
      "state": {
       "bar_style": "success",
       "description": "5625/5625",
       "layout": "IPY_MODEL_c4be8b28af434944b721f3e55bf9f444",
       "max": 5625,
       "style": "IPY_MODEL_0818440edc544ae2a26bb1f165158cef",
       "value": 5625
      }
     },
     "8a5a636940114c0f859b1a75b9c9c286": {
      "model_module": "@jupyter-widgets/controls",
      "model_module_version": "1.5.0",
      "model_name": "HBoxModel",
      "state": {
       "children": [
        "IPY_MODEL_5713ff5c7c744d58a319351e95c45ee1",
        "IPY_MODEL_3ed7c1defa9d412998099c3fbe970705"
       ],
       "layout": "IPY_MODEL_0c389735920f48b58ed58a3663428fef"
      }
     },
     "8ab9cf5669134da290e21bfe31d7b286": {
      "model_module": "@jupyter-widgets/base",
      "model_module_version": "1.2.0",
      "model_name": "LayoutModel",
      "state": {
       "flex": "2"
      }
     },
     "8b1b1313e53c40a7be1979ab4d40437c": {
      "model_module": "@jupyter-widgets/controls",
      "model_module_version": "1.5.0",
      "model_name": "HBoxModel",
      "state": {
       "children": [
        "IPY_MODEL_3b5fa60019ca4b878c2baabc838a7836",
        "IPY_MODEL_8211571241ee444e980482f9aa5d8b9a"
       ],
       "layout": "IPY_MODEL_a88c1845bbb44f3c8e5361f038dff5dd"
      }
     },
     "8b1fb2091f79410aa8baf1ee33b62964": {
      "model_module": "@jupyter-widgets/controls",
      "model_module_version": "1.5.0",
      "model_name": "HTMLModel",
      "state": {
       "layout": "IPY_MODEL_ebafed2b5e984f3fafe8c62b8ad12ceb",
       "style": "IPY_MODEL_494e82d47b754e17abcd61bf687908b1",
       "value": " ETA: 00:00s - loss: 0.0286 - val_loss: 0.0279"
      }
     },
     "8b532b443fd64b33b872c50c444989e1": {
      "model_module": "@jupyter-widgets/base",
      "model_module_version": "1.2.0",
      "model_name": "LayoutModel",
      "state": {}
     },
     "8b9f74e96a80499db5a3dd3d9c35093a": {
      "model_module": "@jupyter-widgets/controls",
      "model_module_version": "1.5.0",
      "model_name": "DescriptionStyleModel",
      "state": {
       "description_width": ""
      }
     },
     "8bb676f7301f46fca2cee11537cd17d6": {
      "model_module": "@jupyter-widgets/controls",
      "model_module_version": "1.5.0",
      "model_name": "HTMLModel",
      "state": {
       "layout": "IPY_MODEL_e798e2e0ec014c30b9e2fe67838be38f",
       "style": "IPY_MODEL_bbb3fa24b73845eba36b69d23632b70d",
       "value": " ETA: 00:00s - loss: 0.0277 - val_loss: 0.0271"
      }
     },
     "8c66ee6fc5694f6eb2500e8bdac32c52": {
      "model_module": "@jupyter-widgets/controls",
      "model_module_version": "1.5.0",
      "model_name": "ProgressStyleModel",
      "state": {
       "description_width": "initial"
      }
     },
     "8c811b36fd67411aa7d30ea819b4347c": {
      "model_module": "@jupyter-widgets/controls",
      "model_module_version": "1.5.0",
      "model_name": "DescriptionStyleModel",
      "state": {
       "description_width": ""
      }
     },
     "8ce617a6de324535b9747174aea34894": {
      "model_module": "@jupyter-widgets/base",
      "model_module_version": "1.2.0",
      "model_name": "LayoutModel",
      "state": {
       "display": "inline-flex",
       "flex_flow": "row wrap",
       "width": "100%"
      }
     },
     "8d19e22e13364e528e0d9bdf051cc697": {
      "model_module": "@jupyter-widgets/controls",
      "model_module_version": "1.5.0",
      "model_name": "FloatProgressModel",
      "state": {
       "bar_style": "success",
       "description": "5625/5625",
       "layout": "IPY_MODEL_686346fb986948c08f031fe2f9a0dd4d",
       "max": 5625,
       "style": "IPY_MODEL_f7f796ff5b0a44fdb5e84cc56f7e6b05",
       "value": 5625
      }
     },
     "8d2acd6b7cb84582b17ce9ef6a2680e3": {
      "model_module": "@jupyter-widgets/controls",
      "model_module_version": "1.5.0",
      "model_name": "HTMLModel",
      "state": {
       "layout": "IPY_MODEL_67d6247233a6458e82af08cb525ac3c9",
       "style": "IPY_MODEL_73b12c3d51f9468792651484a2b39f8a",
       "value": " ETA: 00:00s - loss: 0.0295 - val_loss: 0.0283"
      }
     },
     "8d2f814ce9484f64858b88413a1ad309": {
      "model_module": "@jupyter-widgets/controls",
      "model_module_version": "1.5.0",
      "model_name": "FloatProgressModel",
      "state": {
       "bar_style": "success",
       "description": "5625/5625",
       "layout": "IPY_MODEL_a9383a16ba674851ad83a1b11959aea7",
       "max": 5625,
       "style": "IPY_MODEL_1e42bffa73b143058aa073ee635eebe3",
       "value": 5625
      }
     },
     "8e8ebd95935a4614837c5d5ffd4ed4f7": {
      "model_module": "@jupyter-widgets/controls",
      "model_module_version": "1.5.0",
      "model_name": "HTMLModel",
      "state": {
       "layout": "IPY_MODEL_9765e588009e42f78bd08f866b6586fe",
       "style": "IPY_MODEL_f859042785934dfcb3a1e397f2e4d8f1",
       "value": " ETA: 00:00s - loss: 0.0283 - val_loss: 0.0277"
      }
     },
     "8f3f7f1eb8cb46bb852ea150512073e0": {
      "model_module": "@jupyter-widgets/base",
      "model_module_version": "1.2.0",
      "model_name": "LayoutModel",
      "state": {}
     },
     "8f40bb16b31f43f0a1fcc033a3b3783e": {
      "model_module": "@jupyter-widgets/controls",
      "model_module_version": "1.5.0",
      "model_name": "HBoxModel",
      "state": {
       "children": [
        "IPY_MODEL_62e405734ed34efcbeb2d7d83b36d954",
        "IPY_MODEL_608ae89ca22c46e6be5e201452bb1177"
       ],
       "layout": "IPY_MODEL_ac4b535aff92440bbe6826e2637c2f5d"
      }
     },
     "8fef564215074af8a8e1c229939d13d0": {
      "model_module": "@jupyter-widgets/base",
      "model_module_version": "1.2.0",
      "model_name": "LayoutModel",
      "state": {
       "flex": "2"
      }
     },
     "90ce16723c3b40aeb58419a07b65ed3f": {
      "model_module": "@jupyter-widgets/controls",
      "model_module_version": "1.5.0",
      "model_name": "FloatProgressModel",
      "state": {
       "bar_style": "success",
       "description": "5625/5625",
       "layout": "IPY_MODEL_e1175485b3c94444926efc564e5a55d1",
       "max": 5625,
       "style": "IPY_MODEL_11966dc8fc2b41e29e3eb8105b1d8bfe",
       "value": 5625
      }
     },
     "90d1394d1a034c839dac3bb1f6d5c667": {
      "model_module": "@jupyter-widgets/base",
      "model_module_version": "1.2.0",
      "model_name": "LayoutModel",
      "state": {
       "display": "inline-flex",
       "flex_flow": "row wrap",
       "width": "100%"
      }
     },
     "90eedbcbb483414bb6b5e03c619250e4": {
      "model_module": "@jupyter-widgets/base",
      "model_module_version": "1.2.0",
      "model_name": "LayoutModel",
      "state": {
       "flex": "2"
      }
     },
     "913ba4784211489d9ac3a108a4d84625": {
      "model_module": "@jupyter-widgets/controls",
      "model_module_version": "1.5.0",
      "model_name": "HBoxModel",
      "state": {
       "children": [
        "IPY_MODEL_5e0c6e1625e241a7a3db7d196534a25e",
        "IPY_MODEL_f85bf1cbac33466cbf8c4cfbcaecbbe6"
       ],
       "layout": "IPY_MODEL_f0873ac2adfd4285b2e7e3adf63acdbf"
      }
     },
     "916d600c987e4f7ba9f0a2f62c5f2bbc": {
      "model_module": "@jupyter-widgets/controls",
      "model_module_version": "1.5.0",
      "model_name": "HTMLModel",
      "state": {
       "layout": "IPY_MODEL_443b37f0997340908bd254ba8cd0baef",
       "style": "IPY_MODEL_fb192133c4cf4556a218b62e0421f9ed",
       "value": " ETA: 00:00s - loss: 0.0284 - val_loss: 0.0274"
      }
     },
     "917cde6c57804de68f2432eee47cfd51": {
      "model_module": "@jupyter-widgets/base",
      "model_module_version": "1.2.0",
      "model_name": "LayoutModel",
      "state": {
       "flex": "2"
      }
     },
     "91d4fd619a6648a69d9f9ac5bbea68b1": {
      "model_module": "@jupyter-widgets/controls",
      "model_module_version": "1.5.0",
      "model_name": "DescriptionStyleModel",
      "state": {
       "description_width": ""
      }
     },
     "921b7285baa7472cbd7bfb527e52001c": {
      "model_module": "@jupyter-widgets/base",
      "model_module_version": "1.2.0",
      "model_name": "LayoutModel",
      "state": {}
     },
     "924e4a9ea76c4d408c3765736e398fb2": {
      "model_module": "@jupyter-widgets/controls",
      "model_module_version": "1.5.0",
      "model_name": "ProgressStyleModel",
      "state": {
       "description_width": "initial"
      }
     },
     "931af2743fbb4637a8147fb5d24983c0": {
      "model_module": "@jupyter-widgets/controls",
      "model_module_version": "1.5.0",
      "model_name": "ProgressStyleModel",
      "state": {
       "description_width": "initial"
      }
     },
     "93b53dddbeb4448c8f2ac0e574219212": {
      "model_module": "@jupyter-widgets/base",
      "model_module_version": "1.2.0",
      "model_name": "LayoutModel",
      "state": {
       "flex": "2"
      }
     },
     "93e9d3eb56754ec2ae15097258f0be45": {
      "model_module": "@jupyter-widgets/base",
      "model_module_version": "1.2.0",
      "model_name": "LayoutModel",
      "state": {}
     },
     "94d3d74a450a43d7b04def9e7ad6d368": {
      "model_module": "@jupyter-widgets/controls",
      "model_module_version": "1.5.0",
      "model_name": "FloatProgressModel",
      "state": {
       "bar_style": "success",
       "description": "5625/5625",
       "layout": "IPY_MODEL_322e57202dfa4c2f9fcd801c5583e70c",
       "max": 5625,
       "style": "IPY_MODEL_d9b90aa483864dc8a8db748244f0b36a",
       "value": 5625
      }
     },
     "94ead1452e0245fbb82d2131acf01728": {
      "model_module": "@jupyter-widgets/base",
      "model_module_version": "1.2.0",
      "model_name": "LayoutModel",
      "state": {
       "flex": "2"
      }
     },
     "956dc2d39d60443f89268f5caf88d2b9": {
      "model_module": "@jupyter-widgets/base",
      "model_module_version": "1.2.0",
      "model_name": "LayoutModel",
      "state": {
       "flex": "2"
      }
     },
     "971d3d9f3f2c4837bfabca8ee29013bb": {
      "model_module": "@jupyter-widgets/controls",
      "model_module_version": "1.5.0",
      "model_name": "HBoxModel",
      "state": {
       "children": [
        "IPY_MODEL_2f5542d21fc44d55bf2152766ad7919f",
        "IPY_MODEL_7e3437ad21d142719952e2a23ce31e93"
       ],
       "layout": "IPY_MODEL_6ee39798ea4f4a4b91a03d1c12af6bf6"
      }
     },
     "972f93a6626045219834ff2266772267": {
      "model_module": "@jupyter-widgets/controls",
      "model_module_version": "1.5.0",
      "model_name": "DescriptionStyleModel",
      "state": {
       "description_width": ""
      }
     },
     "9765e588009e42f78bd08f866b6586fe": {
      "model_module": "@jupyter-widgets/base",
      "model_module_version": "1.2.0",
      "model_name": "LayoutModel",
      "state": {}
     },
     "97a7aa799897465487c47e9ee22a1c8c": {
      "model_module": "@jupyter-widgets/controls",
      "model_module_version": "1.5.0",
      "model_name": "HBoxModel",
      "state": {
       "children": [
        "IPY_MODEL_99642fc9e32a478bb37bf218d39e8aee",
        "IPY_MODEL_cbe03168a4a94cd3a8f0af46c1d8e807"
       ],
       "layout": "IPY_MODEL_a1c46b69d7554354b3b326cee59f7cd0"
      }
     },
     "97c963d0862142a28cc1eb7f60faf30e": {
      "model_module": "@jupyter-widgets/controls",
      "model_module_version": "1.5.0",
      "model_name": "FloatProgressModel",
      "state": {
       "bar_style": "success",
       "description": "5625/5625",
       "layout": "IPY_MODEL_0a0db9ea296e45fa8548143a6c1f7fdf",
       "max": 5625,
       "style": "IPY_MODEL_d924f766e04349c9a73ff71ad28aed12",
       "value": 5625
      }
     },
     "984c8d59f8f7437da448cd24d9622b62": {
      "model_module": "@jupyter-widgets/controls",
      "model_module_version": "1.5.0",
      "model_name": "FloatProgressModel",
      "state": {
       "bar_style": "success",
       "description": "5625/5625",
       "layout": "IPY_MODEL_f52f05cf029a4fa69348626565fad7e9",
       "max": 5625,
       "style": "IPY_MODEL_dee4cbc8145a49c4834d0e1d5c6e8bc3",
       "value": 5625
      }
     },
     "99642fc9e32a478bb37bf218d39e8aee": {
      "model_module": "@jupyter-widgets/controls",
      "model_module_version": "1.5.0",
      "model_name": "FloatProgressModel",
      "state": {
       "bar_style": "success",
       "description": "5625/5625",
       "layout": "IPY_MODEL_44b53fca0eda4f669837ad9b087e6ec1",
       "max": 5625,
       "style": "IPY_MODEL_b2395ddadca148ce9b28d2d6bb51981d",
       "value": 5625
      }
     },
     "99b7974d21a340848d5ccf583eea1455": {
      "model_module": "@jupyter-widgets/controls",
      "model_module_version": "1.5.0",
      "model_name": "HBoxModel",
      "state": {
       "children": [
        "IPY_MODEL_47a86b240143406caf73eee0676753b7",
        "IPY_MODEL_68c3caf0f7d84599bdbf87f5bd80e44b"
       ],
       "layout": "IPY_MODEL_90d1394d1a034c839dac3bb1f6d5c667"
      }
     },
     "9a2cb36a40fa410e860770b96e9e6348": {
      "model_module": "@jupyter-widgets/controls",
      "model_module_version": "1.5.0",
      "model_name": "HTMLModel",
      "state": {
       "layout": "IPY_MODEL_6a6f182b9ca74bcc840f312972266519",
       "style": "IPY_MODEL_735ffa140fa54a7d92eec50d693975e5",
       "value": " ETA: 00:00s - loss: 0.0278 - val_loss: 0.0273"
      }
     },
     "9ac84d7fc8584b69bc8b62b1965c972d": {
      "model_module": "@jupyter-widgets/controls",
      "model_module_version": "1.5.0",
      "model_name": "HBoxModel",
      "state": {
       "children": [
        "IPY_MODEL_0857ef783bf846baad7b6a92e62867f0",
        "IPY_MODEL_5970a42201f54830a6b107119e3a929d"
       ],
       "layout": "IPY_MODEL_c9c4eb0cbefa42d9800c21bd54be7c56"
      }
     },
     "9b202ab1725a43c39da425456bc43ed4": {
      "model_module": "@jupyter-widgets/base",
      "model_module_version": "1.2.0",
      "model_name": "LayoutModel",
      "state": {}
     },
     "9b2a906004dc41b7b3b52ec0bafca5a6": {
      "model_module": "@jupyter-widgets/base",
      "model_module_version": "1.2.0",
      "model_name": "LayoutModel",
      "state": {
       "display": "inline-flex",
       "flex_flow": "row wrap",
       "width": "100%"
      }
     },
     "9b53a9f2c5724fc280d02d29d60012e0": {
      "model_module": "@jupyter-widgets/base",
      "model_module_version": "1.2.0",
      "model_name": "LayoutModel",
      "state": {}
     },
     "9c18faf050e7410a82eec3cfac64b8c3": {
      "model_module": "@jupyter-widgets/controls",
      "model_module_version": "1.5.0",
      "model_name": "ProgressStyleModel",
      "state": {
       "description_width": "initial"
      }
     },
     "9c69fcb6c9e34b7fbf7dac7aa9825e5e": {
      "model_module": "@jupyter-widgets/controls",
      "model_module_version": "1.5.0",
      "model_name": "HBoxModel",
      "state": {
       "children": [
        "IPY_MODEL_fc601ba52f104c348b2af5ca84a50d82",
        "IPY_MODEL_0070d83c342b4879b78964fb055a45e0"
       ],
       "layout": "IPY_MODEL_373d033789ef4b5095d4bd43d86ff5b5"
      }
     },
     "9d195af9de104af69dd83496cacf2ad4": {
      "model_module": "@jupyter-widgets/controls",
      "model_module_version": "1.5.0",
      "model_name": "ProgressStyleModel",
      "state": {
       "description_width": "initial"
      }
     },
     "9d422cd5468f40b5952ff1213d9ee371": {
      "model_module": "@jupyter-widgets/controls",
      "model_module_version": "1.5.0",
      "model_name": "HTMLModel",
      "state": {
       "layout": "IPY_MODEL_2672c4fa4d8c4b79b62ccd9c4e9cec16",
       "style": "IPY_MODEL_7b2014a428f74287a0d688799585d913",
       "value": " ETA: 00:00s - loss: 0.0289 - val_loss: 0.0285"
      }
     },
     "9d523c5feb7a479f9ac388f8fc7d90f9": {
      "model_module": "@jupyter-widgets/controls",
      "model_module_version": "1.5.0",
      "model_name": "HBoxModel",
      "state": {
       "children": [
        "IPY_MODEL_aab780bc5d2d4aada7ea81aaaf5cd543",
        "IPY_MODEL_3c5eeabc4cbd4fc682d1dbef78c16783"
       ],
       "layout": "IPY_MODEL_7700b13657cb457bae50f1f74f5a00e7"
      }
     },
     "9dae6555f28248b1871630b057572efc": {
      "model_module": "@jupyter-widgets/controls",
      "model_module_version": "1.5.0",
      "model_name": "HBoxModel",
      "state": {
       "children": [
        "IPY_MODEL_1e0fe6b4d3034d5696beae28c66230bd",
        "IPY_MODEL_80d7da483c144c688b54b26e7f0703bf"
       ],
       "layout": "IPY_MODEL_58f029a32db947a9b2b57632eaeb7d51"
      }
     },
     "9df6a3ca83fc404d97b1919fdec23099": {
      "model_module": "@jupyter-widgets/base",
      "model_module_version": "1.2.0",
      "model_name": "LayoutModel",
      "state": {
       "flex": "2"
      }
     },
     "9eb3a0b2d0c94e1a8c8e79700dfbf608": {
      "model_module": "@jupyter-widgets/controls",
      "model_module_version": "1.5.0",
      "model_name": "DescriptionStyleModel",
      "state": {
       "description_width": ""
      }
     },
     "9f6779ea6d79433b8d6b0d0b0c29a281": {
      "model_module": "@jupyter-widgets/base",
      "model_module_version": "1.2.0",
      "model_name": "LayoutModel",
      "state": {}
     },
     "9f842e585d144c8cbe1fe6a7df6ed247": {
      "model_module": "@jupyter-widgets/controls",
      "model_module_version": "1.5.0",
      "model_name": "HBoxModel",
      "state": {
       "children": [
        "IPY_MODEL_7d41456792f94016a7b5f5d14cd545b2",
        "IPY_MODEL_391728dc6bc84c599ac9eaa65eb03576"
       ],
       "layout": "IPY_MODEL_af467994947f43329d0b743f13affd3a"
      }
     },
     "9fd59051ae154facadb7d9f8b74a640d": {
      "model_module": "@jupyter-widgets/base",
      "model_module_version": "1.2.0",
      "model_name": "LayoutModel",
      "state": {}
     },
     "9fd60b63106245029c0e10228a200762": {
      "model_module": "@jupyter-widgets/controls",
      "model_module_version": "1.5.0",
      "model_name": "HTMLModel",
      "state": {
       "layout": "IPY_MODEL_42546c3a75a141589d7ea805d06a6371",
       "style": "IPY_MODEL_b95c2f39753c416499b0807f216a45ac",
       "value": " ETA: 00:00s - loss: 0.0279 - val_loss: 0.0273"
      }
     },
     "a08e5c1acf96482fbe02f27aa308401f": {
      "model_module": "@jupyter-widgets/controls",
      "model_module_version": "1.5.0",
      "model_name": "ProgressStyleModel",
      "state": {
       "description_width": "initial"
      }
     },
     "a0929b7a649049f2b386f0a1086151bd": {
      "model_module": "@jupyter-widgets/controls",
      "model_module_version": "1.5.0",
      "model_name": "DescriptionStyleModel",
      "state": {
       "description_width": ""
      }
     },
     "a0fbd098c41a480f8ea7dfd6e348d6a6": {
      "model_module": "@jupyter-widgets/base",
      "model_module_version": "1.2.0",
      "model_name": "LayoutModel",
      "state": {
       "display": "inline-flex",
       "flex_flow": "row wrap",
       "width": "100%"
      }
     },
     "a114c912f6e14b2fa5b48857c0780717": {
      "model_module": "@jupyter-widgets/controls",
      "model_module_version": "1.5.0",
      "model_name": "HTMLModel",
      "state": {
       "layout": "IPY_MODEL_2222adfb6c92454e833f0e725713a8c0",
       "style": "IPY_MODEL_0bd05db03ee243938708891074062779",
       "value": " ETA: 00:00s - loss: 0.0281 - val_loss: 0.0274"
      }
     },
     "a116026c5a374b249aabc970574b5bb0": {
      "model_module": "@jupyter-widgets/controls",
      "model_module_version": "1.5.0",
      "model_name": "ProgressStyleModel",
      "state": {
       "description_width": "initial"
      }
     },
     "a1ade67791c84878a817a2ce0b22b0ed": {
      "model_module": "@jupyter-widgets/base",
      "model_module_version": "1.2.0",
      "model_name": "LayoutModel",
      "state": {
       "display": "inline-flex",
       "flex_flow": "row wrap",
       "width": "100%"
      }
     },
     "a1c46b69d7554354b3b326cee59f7cd0": {
      "model_module": "@jupyter-widgets/base",
      "model_module_version": "1.2.0",
      "model_name": "LayoutModel",
      "state": {
       "display": "inline-flex",
       "flex_flow": "row wrap",
       "width": "100%"
      }
     },
     "a1f367b8775f4a8a9ec39c321782516b": {
      "model_module": "@jupyter-widgets/base",
      "model_module_version": "1.2.0",
      "model_name": "LayoutModel",
      "state": {}
     },
     "a21e71e09265414589af8b9f0c1f397c": {
      "model_module": "@jupyter-widgets/base",
      "model_module_version": "1.2.0",
      "model_name": "LayoutModel",
      "state": {
       "display": "inline-flex",
       "flex_flow": "row wrap",
       "width": "100%"
      }
     },
     "a2523b16aa29438681ee02e234624c14": {
      "model_module": "@jupyter-widgets/controls",
      "model_module_version": "1.5.0",
      "model_name": "HTMLModel",
      "state": {
       "layout": "IPY_MODEL_01a2c952b4224dd88f9fcfc5e6c00024",
       "style": "IPY_MODEL_972f93a6626045219834ff2266772267",
       "value": " ETA: 00:00s - loss: 0.0280 - val_loss: 0.0279"
      }
     },
     "a32ec985bda144e3ac759ccb4a8a8696": {
      "model_module": "@jupyter-widgets/controls",
      "model_module_version": "1.5.0",
      "model_name": "FloatProgressModel",
      "state": {
       "bar_style": "success",
       "description": "5625/5625",
       "layout": "IPY_MODEL_61878fea1e3c4f50b0417c634c4dfa23",
       "max": 5625,
       "style": "IPY_MODEL_eab76cd6858b41cfb9c05e0b099ac4a7",
       "value": 5625
      }
     },
     "a386caa7f0044e848a957234b9a49774": {
      "model_module": "@jupyter-widgets/base",
      "model_module_version": "1.2.0",
      "model_name": "LayoutModel",
      "state": {}
     },
     "a390547b44f94b769a83c09f90a100c8": {
      "model_module": "@jupyter-widgets/base",
      "model_module_version": "1.2.0",
      "model_name": "LayoutModel",
      "state": {
       "display": "inline-flex",
       "flex_flow": "row wrap",
       "width": "100%"
      }
     },
     "a45468cf4a7b4123ad0bc689a7f7cb4c": {
      "model_module": "@jupyter-widgets/controls",
      "model_module_version": "1.5.0",
      "model_name": "HBoxModel",
      "state": {
       "children": [
        "IPY_MODEL_00b6a51c9020410b8e5cc14ed097774e",
        "IPY_MODEL_59bcc4028ec94f44aebb7e8ce1adb763"
       ],
       "layout": "IPY_MODEL_f5ccb77b1dae4a82b6db8551bc9620bf"
      }
     },
     "a45ea16605314d6bbf512a6a7780ed9c": {
      "model_module": "@jupyter-widgets/controls",
      "model_module_version": "1.5.0",
      "model_name": "HTMLModel",
      "state": {
       "layout": "IPY_MODEL_f6df200da957479f8ac8767c02689a59",
       "style": "IPY_MODEL_b6a3f8493d1f4d27980104f38e9905de",
       "value": " ETA: 00:00s - loss: 0.0283 - val_loss: 0.0275"
      }
     },
     "a466b99f27604bc4acdb7e85abdae488": {
      "model_module": "@jupyter-widgets/base",
      "model_module_version": "1.2.0",
      "model_name": "LayoutModel",
      "state": {}
     },
     "a49aae3dc91f416eae55969453d87767": {
      "model_module": "@jupyter-widgets/controls",
      "model_module_version": "1.5.0",
      "model_name": "ProgressStyleModel",
      "state": {
       "description_width": "initial"
      }
     },
     "a59fbca3356e424a8fa963a844c6f30b": {
      "model_module": "@jupyter-widgets/base",
      "model_module_version": "1.2.0",
      "model_name": "LayoutModel",
      "state": {}
     },
     "a6681c73ff5c4c1ab32339e42c8e94d3": {
      "model_module": "@jupyter-widgets/controls",
      "model_module_version": "1.5.0",
      "model_name": "HBoxModel",
      "state": {
       "children": [
        "IPY_MODEL_5be0a154d9354f8fa30806a082fc1e80",
        "IPY_MODEL_09696e5c161543729260b00ecc81376d"
       ],
       "layout": "IPY_MODEL_cbbac51d88714c0c845b8ffef3850569"
      }
     },
     "a6f6bc79e3064848b4330a87bb502e70": {
      "model_module": "@jupyter-widgets/controls",
      "model_module_version": "1.5.0",
      "model_name": "ProgressStyleModel",
      "state": {
       "description_width": "initial"
      }
     },
     "a71a3dc8b57c4de0bf169abc7d407718": {
      "model_module": "@jupyter-widgets/base",
      "model_module_version": "1.2.0",
      "model_name": "LayoutModel",
      "state": {
       "flex": "2"
      }
     },
     "a74adadc7f764ad797ce73fd2d418d12": {
      "model_module": "@jupyter-widgets/controls",
      "model_module_version": "1.5.0",
      "model_name": "FloatProgressModel",
      "state": {
       "bar_style": "success",
       "description": "5625/5625",
       "layout": "IPY_MODEL_0a396f78e0fa4677876f3df38cfe461a",
       "max": 5625,
       "style": "IPY_MODEL_ad1b9ceb0f7b40e69e221b72e59eee16",
       "value": 5625
      }
     },
     "a7759e23216a4a369714f6e8f01552cf": {
      "model_module": "@jupyter-widgets/controls",
      "model_module_version": "1.5.0",
      "model_name": "HBoxModel",
      "state": {
       "children": [
        "IPY_MODEL_f516a5eee2fa46b09545ae9a7b045077",
        "IPY_MODEL_b5a8423654284bb5bf3dcaef509fbe18"
       ],
       "layout": "IPY_MODEL_bf0c1352a60746968aa0528359d5e31d"
      }
     },
     "a79adfcffeec40acb752f4600de3affa": {
      "model_module": "@jupyter-widgets/controls",
      "model_module_version": "1.5.0",
      "model_name": "HBoxModel",
      "state": {
       "children": [
        "IPY_MODEL_46ca6038477a4cf0b5cbc26a0f228112",
        "IPY_MODEL_190f1baad2834d4aa5a54a6c418f90cf"
       ],
       "layout": "IPY_MODEL_a1ade67791c84878a817a2ce0b22b0ed"
      }
     },
     "a83f64622f544e8e955e073fc6756418": {
      "model_module": "@jupyter-widgets/base",
      "model_module_version": "1.2.0",
      "model_name": "LayoutModel",
      "state": {
       "flex": "2"
      }
     },
     "a88c1845bbb44f3c8e5361f038dff5dd": {
      "model_module": "@jupyter-widgets/base",
      "model_module_version": "1.2.0",
      "model_name": "LayoutModel",
      "state": {
       "display": "inline-flex",
       "flex_flow": "row wrap",
       "width": "100%"
      }
     },
     "a89090fe78484c0b8665c3e5a1c56f81": {
      "model_module": "@jupyter-widgets/controls",
      "model_module_version": "1.5.0",
      "model_name": "HBoxModel",
      "state": {
       "children": [
        "IPY_MODEL_5e2cdf026abe4ad98847bdc1b314ec7c",
        "IPY_MODEL_a114c912f6e14b2fa5b48857c0780717"
       ],
       "layout": "IPY_MODEL_d4aa1bae0ddf4fc38bc942ee740aadd7"
      }
     },
     "a8a89b9ebebf4c52ad201cf053d6e792": {
      "model_module": "@jupyter-widgets/base",
      "model_module_version": "1.2.0",
      "model_name": "LayoutModel",
      "state": {
       "flex": "2"
      }
     },
     "a9213f42ab2c4f66970a08d436a6f80f": {
      "model_module": "@jupyter-widgets/base",
      "model_module_version": "1.2.0",
      "model_name": "LayoutModel",
      "state": {
       "display": "inline-flex",
       "flex_flow": "row wrap",
       "width": "100%"
      }
     },
     "a9383a16ba674851ad83a1b11959aea7": {
      "model_module": "@jupyter-widgets/base",
      "model_module_version": "1.2.0",
      "model_name": "LayoutModel",
      "state": {
       "flex": "2"
      }
     },
     "a9c7f1e357ac493389be2ea16587426a": {
      "model_module": "@jupyter-widgets/base",
      "model_module_version": "1.2.0",
      "model_name": "LayoutModel",
      "state": {}
     },
     "a9f5637ec2284222a689320cac290e0b": {
      "model_module": "@jupyter-widgets/controls",
      "model_module_version": "1.5.0",
      "model_name": "DescriptionStyleModel",
      "state": {
       "description_width": ""
      }
     },
     "aa9ec0e6211e47a596a887b0822d235e": {
      "model_module": "@jupyter-widgets/base",
      "model_module_version": "1.2.0",
      "model_name": "LayoutModel",
      "state": {
       "flex": "2"
      }
     },
     "aab780bc5d2d4aada7ea81aaaf5cd543": {
      "model_module": "@jupyter-widgets/controls",
      "model_module_version": "1.5.0",
      "model_name": "FloatProgressModel",
      "state": {
       "bar_style": "success",
       "description": "5625/5625",
       "layout": "IPY_MODEL_0a3d9c261a7b4e6f8cf0d0878c33a350",
       "max": 5625,
       "style": "IPY_MODEL_a08e5c1acf96482fbe02f27aa308401f",
       "value": 5625
      }
     },
     "ab3f1ec76fe84c50bf02ee0074a2e817": {
      "model_module": "@jupyter-widgets/controls",
      "model_module_version": "1.5.0",
      "model_name": "HTMLModel",
      "state": {
       "layout": "IPY_MODEL_1432ddbf78e846e894ca11d54487c62b",
       "style": "IPY_MODEL_bb1b5af7a4d145db9c86481f195aa5eb",
       "value": " ETA: 00:00s - loss: 0.0282 - val_loss: 0.0285"
      }
     },
     "ac1a5fbe4c2a40a499e28650a8b62891": {
      "model_module": "@jupyter-widgets/base",
      "model_module_version": "1.2.0",
      "model_name": "LayoutModel",
      "state": {}
     },
     "ac4b535aff92440bbe6826e2637c2f5d": {
      "model_module": "@jupyter-widgets/base",
      "model_module_version": "1.2.0",
      "model_name": "LayoutModel",
      "state": {
       "display": "inline-flex",
       "flex_flow": "row wrap",
       "width": "100%"
      }
     },
     "aca8a13b68994f7fb0ad10b33d132a2e": {
      "model_module": "@jupyter-widgets/controls",
      "model_module_version": "1.5.0",
      "model_name": "HTMLModel",
      "state": {
       "layout": "IPY_MODEL_f2a41f5e54bb4ea68d7c40111c38cd04",
       "style": "IPY_MODEL_bed11de65cfa4bd3984b1b5ba9c821df",
       "value": " ETA: 00:00s - loss: 0.0278 - val_loss: 0.0274"
      }
     },
     "ad05fd1926b2421daff83cf199e3cd3b": {
      "model_module": "@jupyter-widgets/base",
      "model_module_version": "1.2.0",
      "model_name": "LayoutModel",
      "state": {
       "flex": "2"
      }
     },
     "ad1b9ceb0f7b40e69e221b72e59eee16": {
      "model_module": "@jupyter-widgets/controls",
      "model_module_version": "1.5.0",
      "model_name": "ProgressStyleModel",
      "state": {
       "description_width": "initial"
      }
     },
     "ad8e1e854fcb4d12885a43ef00fc1839": {
      "model_module": "@jupyter-widgets/controls",
      "model_module_version": "1.5.0",
      "model_name": "ProgressStyleModel",
      "state": {
       "description_width": "initial"
      }
     },
     "adb9e4cf180149d3a99252c89480e486": {
      "model_module": "@jupyter-widgets/controls",
      "model_module_version": "1.5.0",
      "model_name": "HTMLModel",
      "state": {
       "layout": "IPY_MODEL_7ac1c3f834e24bcead12f92aa91992d4",
       "style": "IPY_MODEL_7fdda5a4a9664ad0a50f4d49a893e1c5",
       "value": " ETA: 00:00s - loss: 0.0278 - val_loss: 0.0278"
      }
     },
     "ae119bf51e6541a890a90310e1d92545": {
      "model_module": "@jupyter-widgets/base",
      "model_module_version": "1.2.0",
      "model_name": "LayoutModel",
      "state": {
       "flex": "2"
      }
     },
     "ae9369ad63ff496081e6be1bd2f7d676": {
      "model_module": "@jupyter-widgets/base",
      "model_module_version": "1.2.0",
      "model_name": "LayoutModel",
      "state": {
       "flex": "2"
      }
     },
     "aec40a7540794b3a8ddd78c86c0ac81e": {
      "model_module": "@jupyter-widgets/base",
      "model_module_version": "1.2.0",
      "model_name": "LayoutModel",
      "state": {
       "display": "inline-flex",
       "flex_flow": "row wrap",
       "width": "100%"
      }
     },
     "af467994947f43329d0b743f13affd3a": {
      "model_module": "@jupyter-widgets/base",
      "model_module_version": "1.2.0",
      "model_name": "LayoutModel",
      "state": {
       "display": "inline-flex",
       "flex_flow": "row wrap",
       "width": "100%"
      }
     },
     "af6a7c3295834c48882a5a169b169a14": {
      "model_module": "@jupyter-widgets/controls",
      "model_module_version": "1.5.0",
      "model_name": "FloatProgressModel",
      "state": {
       "bar_style": "success",
       "description": "5625/5625",
       "layout": "IPY_MODEL_bc6d7ac005e349598df0dd51f6a75d97",
       "max": 5625,
       "style": "IPY_MODEL_da242f11363f4c6db14ed2919251caa4",
       "value": 5625
      }
     },
     "af8948ed115a42359369f6ae3e0dd8b9": {
      "model_module": "@jupyter-widgets/controls",
      "model_module_version": "1.5.0",
      "model_name": "DescriptionStyleModel",
      "state": {
       "description_width": ""
      }
     },
     "af9dd9a82aa746df92165b818c4113df": {
      "model_module": "@jupyter-widgets/controls",
      "model_module_version": "1.5.0",
      "model_name": "ProgressStyleModel",
      "state": {
       "description_width": "initial"
      }
     },
     "b0012db591334a309644a133b2c0d385": {
      "model_module": "@jupyter-widgets/base",
      "model_module_version": "1.2.0",
      "model_name": "LayoutModel",
      "state": {}
     },
     "b0e38dfa1bb74ec0861d62c0dd261449": {
      "model_module": "@jupyter-widgets/controls",
      "model_module_version": "1.5.0",
      "model_name": "ProgressStyleModel",
      "state": {
       "description_width": "initial"
      }
     },
     "b12080e7a91044b7b83d5a15a265d6e3": {
      "model_module": "@jupyter-widgets/controls",
      "model_module_version": "1.5.0",
      "model_name": "HBoxModel",
      "state": {
       "children": [
        "IPY_MODEL_c0a88d83738041269b77a997eae77683",
        "IPY_MODEL_d88746fb0b0a40658d42b70c792fc1be"
       ],
       "layout": "IPY_MODEL_e537a49395c1421694c61029c1754608"
      }
     },
     "b170a856cf2a498e8f23992314034537": {
      "model_module": "@jupyter-widgets/controls",
      "model_module_version": "1.5.0",
      "model_name": "ProgressStyleModel",
      "state": {
       "description_width": "initial"
      }
     },
     "b2156d9ceff64b4b9befac7351e289d3": {
      "model_module": "@jupyter-widgets/base",
      "model_module_version": "1.2.0",
      "model_name": "LayoutModel",
      "state": {}
     },
     "b2395ddadca148ce9b28d2d6bb51981d": {
      "model_module": "@jupyter-widgets/controls",
      "model_module_version": "1.5.0",
      "model_name": "ProgressStyleModel",
      "state": {
       "description_width": "initial"
      }
     },
     "b248314317754517b076eabb3534b900": {
      "model_module": "@jupyter-widgets/base",
      "model_module_version": "1.2.0",
      "model_name": "LayoutModel",
      "state": {
       "display": "inline-flex",
       "flex_flow": "row wrap",
       "width": "100%"
      }
     },
     "b3af279425a949df9e817a066a992664": {
      "model_module": "@jupyter-widgets/base",
      "model_module_version": "1.2.0",
      "model_name": "LayoutModel",
      "state": {
       "flex": "2"
      }
     },
     "b3c7cc553c9d4c4db9444ee28b56f2d4": {
      "model_module": "@jupyter-widgets/controls",
      "model_module_version": "1.5.0",
      "model_name": "HTMLModel",
      "state": {
       "layout": "IPY_MODEL_df63f66e8f9c41f090b1ba7aba3d4878",
       "style": "IPY_MODEL_025355afd6684f3087ef5b3dcf0b31ea",
       "value": " ETA: 00:00s - loss: 0.0280 - val_loss: 0.0274"
      }
     },
     "b3ca782a5cdc4a43879cb03b1cfb3d65": {
      "model_module": "@jupyter-widgets/controls",
      "model_module_version": "1.5.0",
      "model_name": "HBoxModel",
      "state": {
       "children": [
        "IPY_MODEL_b97db434827b40539f9aea505afcd892",
        "IPY_MODEL_5e564d8b5c3a4a5d94285460b7fdf7db"
       ],
       "layout": "IPY_MODEL_1498c8048f344c5b9ae1028d30457834"
      }
     },
     "b44dc69795e64dd2bf695017f5728fa3": {
      "model_module": "@jupyter-widgets/base",
      "model_module_version": "1.2.0",
      "model_name": "LayoutModel",
      "state": {}
     },
     "b4cedd5fc7d746b8bc42389268570f1b": {
      "model_module": "@jupyter-widgets/base",
      "model_module_version": "1.2.0",
      "model_name": "LayoutModel",
      "state": {
       "flex": "2"
      }
     },
     "b597cb74c4ff45d3a073b220035065dc": {
      "model_module": "@jupyter-widgets/controls",
      "model_module_version": "1.5.0",
      "model_name": "ProgressStyleModel",
      "state": {
       "description_width": "initial"
      }
     },
     "b5a8423654284bb5bf3dcaef509fbe18": {
      "model_module": "@jupyter-widgets/controls",
      "model_module_version": "1.5.0",
      "model_name": "HTMLModel",
      "state": {
       "layout": "IPY_MODEL_d68e8f857ce345ea9d443e794bcc7075",
       "style": "IPY_MODEL_6b23c80fe2c0412c8f1ac83cdfdcf00a",
       "value": " ETA: 00:00s - loss: 0.0281 - val_loss: 0.0273"
      }
     },
     "b5ff609753ae4a35ad248daf56a8f145": {
      "model_module": "@jupyter-widgets/base",
      "model_module_version": "1.2.0",
      "model_name": "LayoutModel",
      "state": {}
     },
     "b600440fe63e4b48a7d76a26a924ed49": {
      "model_module": "@jupyter-widgets/base",
      "model_module_version": "1.2.0",
      "model_name": "LayoutModel",
      "state": {}
     },
     "b61ccdf2071740b8976edcec74656328": {
      "model_module": "@jupyter-widgets/base",
      "model_module_version": "1.2.0",
      "model_name": "LayoutModel",
      "state": {
       "flex": "2"
      }
     },
     "b6a3f8493d1f4d27980104f38e9905de": {
      "model_module": "@jupyter-widgets/controls",
      "model_module_version": "1.5.0",
      "model_name": "DescriptionStyleModel",
      "state": {
       "description_width": ""
      }
     },
     "b6ab1e36a66941549727530c9925ac0d": {
      "model_module": "@jupyter-widgets/controls",
      "model_module_version": "1.5.0",
      "model_name": "HTMLModel",
      "state": {
       "layout": "IPY_MODEL_4a3310ec14144d92ad6c2c0414c2e96e",
       "style": "IPY_MODEL_bc58c76856a540249a52464976335e14",
       "value": " ETA: 00:00s - loss: 0.0280 - val_loss: 0.0278"
      }
     },
     "b76afa78b28045fea3b4ca2953290ea7": {
      "model_module": "@jupyter-widgets/base",
      "model_module_version": "1.2.0",
      "model_name": "LayoutModel",
      "state": {
       "display": "inline-flex",
       "flex_flow": "row wrap",
       "width": "100%"
      }
     },
     "b7f75b0a034e452eaa5dfbd5e88f10d6": {
      "model_module": "@jupyter-widgets/base",
      "model_module_version": "1.2.0",
      "model_name": "LayoutModel",
      "state": {
       "flex": "2"
      }
     },
     "b862326a3f2647d086e1eca71eb4239b": {
      "model_module": "@jupyter-widgets/controls",
      "model_module_version": "1.5.0",
      "model_name": "DescriptionStyleModel",
      "state": {
       "description_width": ""
      }
     },
     "b87df6c11a744feda9b8ab7dc89a1730": {
      "model_module": "@jupyter-widgets/controls",
      "model_module_version": "1.5.0",
      "model_name": "FloatProgressModel",
      "state": {
       "bar_style": "success",
       "description": "5625/5625",
       "layout": "IPY_MODEL_31a30a241ec4452fa976001be2c2af91",
       "max": 5625,
       "style": "IPY_MODEL_7082f5344b6e41848bc35525327938f5",
       "value": 5625
      }
     },
     "b9240227733744ec94347ef6dec43a89": {
      "model_module": "@jupyter-widgets/controls",
      "model_module_version": "1.5.0",
      "model_name": "FloatProgressModel",
      "state": {
       "bar_style": "success",
       "description": "5625/5625",
       "layout": "IPY_MODEL_1237cca76ab84686beff572c1c7f92ee",
       "max": 5625,
       "style": "IPY_MODEL_b597cb74c4ff45d3a073b220035065dc",
       "value": 5625
      }
     },
     "b95c2f39753c416499b0807f216a45ac": {
      "model_module": "@jupyter-widgets/controls",
      "model_module_version": "1.5.0",
      "model_name": "DescriptionStyleModel",
      "state": {
       "description_width": ""
      }
     },
     "b97db434827b40539f9aea505afcd892": {
      "model_module": "@jupyter-widgets/controls",
      "model_module_version": "1.5.0",
      "model_name": "FloatProgressModel",
      "state": {
       "bar_style": "success",
       "description": "5625/5625",
       "layout": "IPY_MODEL_24662bea3de74143a036e7f002bfa646",
       "max": 5625,
       "style": "IPY_MODEL_729494b0d07d406890415d15ad39aa0d",
       "value": 5625
      }
     },
     "b9d1260a895b4191b9631f9f3ffb5044": {
      "model_module": "@jupyter-widgets/controls",
      "model_module_version": "1.5.0",
      "model_name": "HTMLModel",
      "state": {
       "layout": "IPY_MODEL_4681866ec2e2412a9b5053481461f95b",
       "style": "IPY_MODEL_c61daba3b1fd4836886713a7b9b905c8",
       "value": " ETA: 00:00s - loss: 0.0287 - val_loss: 0.0279"
      }
     },
     "b9ec2b83844d476a8d5526311555666f": {
      "model_module": "@jupyter-widgets/base",
      "model_module_version": "1.2.0",
      "model_name": "LayoutModel",
      "state": {
       "display": "inline-flex",
       "flex_flow": "row wrap",
       "width": "100%"
      }
     },
     "b9feabc44ee643e29545d6acf40304b3": {
      "model_module": "@jupyter-widgets/controls",
      "model_module_version": "1.5.0",
      "model_name": "HTMLModel",
      "state": {
       "layout": "IPY_MODEL_d90c48d6e2c644fca7b0c33e12fbe982",
       "style": "IPY_MODEL_6513725462c84c28b9a410ea62d5137d",
       "value": " ETA: 00:00s - loss: 0.0282 - val_loss: 0.0284"
      }
     },
     "ba4648dff6e04adcbb78bab5b0528ecf": {
      "model_module": "@jupyter-widgets/base",
      "model_module_version": "1.2.0",
      "model_name": "LayoutModel",
      "state": {
       "display": "inline-flex",
       "flex_flow": "row wrap",
       "width": "100%"
      }
     },
     "ba8f1e8ce4ad4f4196f8bbb09b9d65e6": {
      "model_module": "@jupyter-widgets/controls",
      "model_module_version": "1.5.0",
      "model_name": "ProgressStyleModel",
      "state": {
       "description_width": "initial"
      }
     },
     "bb1b5af7a4d145db9c86481f195aa5eb": {
      "model_module": "@jupyter-widgets/controls",
      "model_module_version": "1.5.0",
      "model_name": "DescriptionStyleModel",
      "state": {
       "description_width": ""
      }
     },
     "bb77106d312249009b657ea1f9a9364e": {
      "model_module": "@jupyter-widgets/controls",
      "model_module_version": "1.5.0",
      "model_name": "HTMLModel",
      "state": {
       "layout": "IPY_MODEL_41aa40605aed4e7e9c2c3efd97b03869",
       "style": "IPY_MODEL_9eb3a0b2d0c94e1a8c8e79700dfbf608",
       "value": " ETA: 00:00s - loss: 0.0281 - val_loss: 0.0274"
      }
     },
     "bb795b6a8b43426b99bbbac647c2bc4b": {
      "model_module": "@jupyter-widgets/base",
      "model_module_version": "1.2.0",
      "model_name": "LayoutModel",
      "state": {
       "display": "inline-flex",
       "flex_flow": "row wrap",
       "width": "100%"
      }
     },
     "bbb3fa24b73845eba36b69d23632b70d": {
      "model_module": "@jupyter-widgets/controls",
      "model_module_version": "1.5.0",
      "model_name": "DescriptionStyleModel",
      "state": {
       "description_width": ""
      }
     },
     "bc58c76856a540249a52464976335e14": {
      "model_module": "@jupyter-widgets/controls",
      "model_module_version": "1.5.0",
      "model_name": "DescriptionStyleModel",
      "state": {
       "description_width": ""
      }
     },
     "bc6d7ac005e349598df0dd51f6a75d97": {
      "model_module": "@jupyter-widgets/base",
      "model_module_version": "1.2.0",
      "model_name": "LayoutModel",
      "state": {
       "flex": "2"
      }
     },
     "bccb60c64e17473ea99ef1ce01e12a1b": {
      "model_module": "@jupyter-widgets/controls",
      "model_module_version": "1.5.0",
      "model_name": "HBoxModel",
      "state": {
       "children": [
        "IPY_MODEL_5b0b055a02d8488dac8676b59656f9c8",
        "IPY_MODEL_a2523b16aa29438681ee02e234624c14"
       ],
       "layout": "IPY_MODEL_56434854bae943eea37af8b453cfa8fa"
      }
     },
     "bd1fac8833be479a81856ad623959ff4": {
      "model_module": "@jupyter-widgets/controls",
      "model_module_version": "1.5.0",
      "model_name": "FloatProgressModel",
      "state": {
       "bar_style": "success",
       "description": "5625/5625",
       "layout": "IPY_MODEL_94ead1452e0245fbb82d2131acf01728",
       "max": 5625,
       "style": "IPY_MODEL_6b03cf2272a34bf7927a7c3a2d17ce4c",
       "value": 5625
      }
     },
     "bd4531d75e0e4d6bbe3259263625bcb3": {
      "model_module": "@jupyter-widgets/base",
      "model_module_version": "1.2.0",
      "model_name": "LayoutModel",
      "state": {
       "display": "inline-flex",
       "flex_flow": "row wrap",
       "width": "100%"
      }
     },
     "bd9e38a88d634e5ab09e4bb5491ee5b4": {
      "model_module": "@jupyter-widgets/base",
      "model_module_version": "1.2.0",
      "model_name": "LayoutModel",
      "state": {}
     },
     "bdc1f3476c2a431eae20232972fd2f36": {
      "model_module": "@jupyter-widgets/controls",
      "model_module_version": "1.5.0",
      "model_name": "HBoxModel",
      "state": {
       "children": [
        "IPY_MODEL_723a2a61fcae4353b950d1a017f487e6",
        "IPY_MODEL_c428aba2ceb747828d8afdc892ede58a"
       ],
       "layout": "IPY_MODEL_593c3e42811f4ecfa2d5bc38e0c903a6"
      }
     },
     "be0b874274fd47cc9f9dc24a708870f6": {
      "model_module": "@jupyter-widgets/controls",
      "model_module_version": "1.5.0",
      "model_name": "HBoxModel",
      "state": {
       "children": [
        "IPY_MODEL_e857077abf8b48369e8ce7a59c8335ac",
        "IPY_MODEL_07bb4de61f6144a38302c08697b33bac"
       ],
       "layout": "IPY_MODEL_ca9d246130bc4a61b74da2b626f50939"
      }
     },
     "be84679702d64183a28d5b16fa10c801": {
      "model_module": "@jupyter-widgets/controls",
      "model_module_version": "1.5.0",
      "model_name": "FloatProgressModel",
      "state": {
       "bar_style": "success",
       "description": "5625/5625",
       "layout": "IPY_MODEL_06c064ca0a6e4c89a8bfd8db4cf3efbd",
       "max": 5625,
       "style": "IPY_MODEL_0308a31b565449e69b755589591dc63f",
       "value": 5625
      }
     },
     "bed11de65cfa4bd3984b1b5ba9c821df": {
      "model_module": "@jupyter-widgets/controls",
      "model_module_version": "1.5.0",
      "model_name": "DescriptionStyleModel",
      "state": {
       "description_width": ""
      }
     },
     "bf0c1352a60746968aa0528359d5e31d": {
      "model_module": "@jupyter-widgets/base",
      "model_module_version": "1.2.0",
      "model_name": "LayoutModel",
      "state": {
       "display": "inline-flex",
       "flex_flow": "row wrap",
       "width": "100%"
      }
     },
     "bf5b4464400c4f2bbcaaf48f454aa3d7": {
      "model_module": "@jupyter-widgets/base",
      "model_module_version": "1.2.0",
      "model_name": "LayoutModel",
      "state": {}
     },
     "bf6d3a2f93cc4c09a19dff54c1f530b4": {
      "model_module": "@jupyter-widgets/controls",
      "model_module_version": "1.5.0",
      "model_name": "ProgressStyleModel",
      "state": {
       "description_width": "initial"
      }
     },
     "c000f61431724832b93f7b281ca0d898": {
      "model_module": "@jupyter-widgets/controls",
      "model_module_version": "1.5.0",
      "model_name": "HTMLModel",
      "state": {
       "layout": "IPY_MODEL_ac1a5fbe4c2a40a499e28650a8b62891",
       "style": "IPY_MODEL_6d739097ae9548b781c6667470b7c281",
       "value": " ETA: 00:00s - loss: 0.0284 - val_loss: 0.0278"
      }
     },
     "c0a88d83738041269b77a997eae77683": {
      "model_module": "@jupyter-widgets/controls",
      "model_module_version": "1.5.0",
      "model_name": "FloatProgressModel",
      "state": {
       "bar_style": "success",
       "description": "5625/5625",
       "layout": "IPY_MODEL_44a8390105074b75a9d55a7c1d65a484",
       "max": 5625,
       "style": "IPY_MODEL_fe353ef83d214ef391f712f60ae92294",
       "value": 5625
      }
     },
     "c0fbd789aa2f4b9aa2086a3e49415463": {
      "model_module": "@jupyter-widgets/controls",
      "model_module_version": "1.5.0",
      "model_name": "ProgressStyleModel",
      "state": {
       "description_width": "initial"
      }
     },
     "c1adb9b7d6a24dcaad10247bb1c82c63": {
      "model_module": "@jupyter-widgets/controls",
      "model_module_version": "1.5.0",
      "model_name": "HBoxModel",
      "state": {
       "children": [
        "IPY_MODEL_03dbb3bc44cf4480abbacf33abc1f617",
        "IPY_MODEL_b9d1260a895b4191b9631f9f3ffb5044"
       ],
       "layout": "IPY_MODEL_7d3582659d5543c29853e640dd23e07f"
      }
     },
     "c1dae2d9d304446dbc12b49322a269f8": {
      "model_module": "@jupyter-widgets/controls",
      "model_module_version": "1.5.0",
      "model_name": "HTMLModel",
      "state": {
       "layout": "IPY_MODEL_84d462b9d2a9479e9ec6ea028540dd80",
       "style": "IPY_MODEL_70410a903f634811909520874d60e98b",
       "value": " ETA: 00:00s - loss: 0.0282 - val_loss: 0.0275"
      }
     },
     "c272a79573a7448abbe3dcfea969cbf7": {
      "model_module": "@jupyter-widgets/controls",
      "model_module_version": "1.5.0",
      "model_name": "HTMLModel",
      "state": {
       "layout": "IPY_MODEL_a1f367b8775f4a8a9ec39c321782516b",
       "style": "IPY_MODEL_7e81800e77714278b34101dcfdb08bc7",
       "value": " ETA: 00:00s - loss: 0.0278 - val_loss: 0.0275"
      }
     },
     "c349da1c80844302b5100a45f39d78e6": {
      "model_module": "@jupyter-widgets/controls",
      "model_module_version": "1.5.0",
      "model_name": "ProgressStyleModel",
      "state": {
       "description_width": "initial"
      }
     },
     "c366f793943a4ad2ae924614988dfc28": {
      "model_module": "@jupyter-widgets/controls",
      "model_module_version": "1.5.0",
      "model_name": "FloatProgressModel",
      "state": {
       "bar_style": "success",
       "description": "5625/5625",
       "layout": "IPY_MODEL_48ab8b43a69e4b20b9da9f4cc1742ba3",
       "max": 5625,
       "style": "IPY_MODEL_4869816589664523a3e478e064a4a961",
       "value": 5625
      }
     },
     "c428aba2ceb747828d8afdc892ede58a": {
      "model_module": "@jupyter-widgets/controls",
      "model_module_version": "1.5.0",
      "model_name": "HTMLModel",
      "state": {
       "layout": "IPY_MODEL_a59fbca3356e424a8fa963a844c6f30b",
       "style": "IPY_MODEL_892f4a7d93454ab59a3946ccdb3970e9",
       "value": " ETA: 00:00s - loss: 0.0279 - val_loss: 0.0271"
      }
     },
     "c4be8b28af434944b721f3e55bf9f444": {
      "model_module": "@jupyter-widgets/base",
      "model_module_version": "1.2.0",
      "model_name": "LayoutModel",
      "state": {
       "flex": "2"
      }
     },
     "c52566e740324dd590936bc2e46548df": {
      "model_module": "@jupyter-widgets/controls",
      "model_module_version": "1.5.0",
      "model_name": "FloatProgressModel",
      "state": {
       "bar_style": "success",
       "description": "5625/5625",
       "layout": "IPY_MODEL_7bf2e3b9fecc41f381550b6508eaf216",
       "max": 5625,
       "style": "IPY_MODEL_82750b2086b842a5bcb345ddaa36792d",
       "value": 5625
      }
     },
     "c5609af7eb934b9a9887078e9c0ff5c4": {
      "model_module": "@jupyter-widgets/controls",
      "model_module_version": "1.5.0",
      "model_name": "FloatProgressModel",
      "state": {
       "bar_style": "success",
       "description": "5625/5625",
       "layout": "IPY_MODEL_89a4961b6b2c40869379b9bd4108827a",
       "max": 5625,
       "style": "IPY_MODEL_78569c10f05a467eb12ada6dce4bfe2c",
       "value": 5625
      }
     },
     "c6068aba32eb493a8adedb5c38144993": {
      "model_module": "@jupyter-widgets/controls",
      "model_module_version": "1.5.0",
      "model_name": "DescriptionStyleModel",
      "state": {
       "description_width": ""
      }
     },
     "c61daba3b1fd4836886713a7b9b905c8": {
      "model_module": "@jupyter-widgets/controls",
      "model_module_version": "1.5.0",
      "model_name": "DescriptionStyleModel",
      "state": {
       "description_width": ""
      }
     },
     "c6755d7175b94925ae8d51582a0ac1b7": {
      "model_module": "@jupyter-widgets/base",
      "model_module_version": "1.2.0",
      "model_name": "LayoutModel",
      "state": {
       "display": "inline-flex",
       "flex_flow": "row wrap",
       "width": "100%"
      }
     },
     "c69970e41d2946629d206593238e61dc": {
      "model_module": "@jupyter-widgets/base",
      "model_module_version": "1.2.0",
      "model_name": "LayoutModel",
      "state": {}
     },
     "c705e91dd4654f62b6c3d33cbecdb5a7": {
      "model_module": "@jupyter-widgets/controls",
      "model_module_version": "1.5.0",
      "model_name": "DescriptionStyleModel",
      "state": {
       "description_width": ""
      }
     },
     "c71164027a214f038508cf9b504d0a5f": {
      "model_module": "@jupyter-widgets/controls",
      "model_module_version": "1.5.0",
      "model_name": "HBoxModel",
      "state": {
       "children": [
        "IPY_MODEL_90ce16723c3b40aeb58419a07b65ed3f",
        "IPY_MODEL_7112792b0c8745ed967573b794495f08"
       ],
       "layout": "IPY_MODEL_10adc6ae5b99433c93dfbabbf902ef47"
      }
     },
     "c7aaa7b324d4406fb50148b48df74a90": {
      "model_module": "@jupyter-widgets/base",
      "model_module_version": "1.2.0",
      "model_name": "LayoutModel",
      "state": {}
     },
     "c80d160e5dc1450480756a46ea50735c": {
      "model_module": "@jupyter-widgets/controls",
      "model_module_version": "1.5.0",
      "model_name": "HBoxModel",
      "state": {
       "children": [
        "IPY_MODEL_b9240227733744ec94347ef6dec43a89",
        "IPY_MODEL_916d600c987e4f7ba9f0a2f62c5f2bbc"
       ],
       "layout": "IPY_MODEL_221e4533692c4bac9ac36e8ec5ff0a91"
      }
     },
     "c9466d04561740e789f9d737c6db6fad": {
      "model_module": "@jupyter-widgets/controls",
      "model_module_version": "1.5.0",
      "model_name": "ProgressStyleModel",
      "state": {
       "description_width": "initial"
      }
     },
     "c9c4eb0cbefa42d9800c21bd54be7c56": {
      "model_module": "@jupyter-widgets/base",
      "model_module_version": "1.2.0",
      "model_name": "LayoutModel",
      "state": {
       "display": "inline-flex",
       "flex_flow": "row wrap",
       "width": "100%"
      }
     },
     "c9d46ee4d14d485f90b0fa9dc0ed1525": {
      "model_module": "@jupyter-widgets/controls",
      "model_module_version": "1.5.0",
      "model_name": "DescriptionStyleModel",
      "state": {
       "description_width": ""
      }
     },
     "c9f63ec9ea70469d8cce504527139407": {
      "model_module": "@jupyter-widgets/controls",
      "model_module_version": "1.5.0",
      "model_name": "HBoxModel",
      "state": {
       "children": [
        "IPY_MODEL_885f2463efbf4a10a4d865e054affedf",
        "IPY_MODEL_f48734ed0d584fe59eef5037d430d9e2"
       ],
       "layout": "IPY_MODEL_5552ff07d5fd44a597d566b470d781a7"
      }
     },
     "ca4e27dec3ef4fc1848b75113aa5e42d": {
      "model_module": "@jupyter-widgets/base",
      "model_module_version": "1.2.0",
      "model_name": "LayoutModel",
      "state": {
       "flex": "2"
      }
     },
     "ca9d246130bc4a61b74da2b626f50939": {
      "model_module": "@jupyter-widgets/base",
      "model_module_version": "1.2.0",
      "model_name": "LayoutModel",
      "state": {
       "display": "inline-flex",
       "flex_flow": "row wrap",
       "width": "100%"
      }
     },
     "cb02ce5faec54e29900be2ca9af691cb": {
      "model_module": "@jupyter-widgets/controls",
      "model_module_version": "1.5.0",
      "model_name": "HBoxModel",
      "state": {
       "children": [
        "IPY_MODEL_fd881da7fca54f958198692cb137f3bd",
        "IPY_MODEL_31255733753b42f2857797ea86d1829a"
       ],
       "layout": "IPY_MODEL_f2985dcd4e4244b9a3abfd75a0ff798a"
      }
     },
     "cb56542f3fd74061bb3b886619b12bd6": {
      "model_module": "@jupyter-widgets/controls",
      "model_module_version": "1.5.0",
      "model_name": "DescriptionStyleModel",
      "state": {
       "description_width": ""
      }
     },
     "cbaa335b130c49f59256b9a5be7e28a5": {
      "model_module": "@jupyter-widgets/base",
      "model_module_version": "1.2.0",
      "model_name": "LayoutModel",
      "state": {
       "display": "inline-flex",
       "flex_flow": "row wrap",
       "width": "100%"
      }
     },
     "cbbac51d88714c0c845b8ffef3850569": {
      "model_module": "@jupyter-widgets/base",
      "model_module_version": "1.2.0",
      "model_name": "LayoutModel",
      "state": {
       "display": "inline-flex",
       "flex_flow": "row wrap",
       "width": "100%"
      }
     },
     "cbdf8e29ebb6413d952ba81924f860ba": {
      "model_module": "@jupyter-widgets/base",
      "model_module_version": "1.2.0",
      "model_name": "LayoutModel",
      "state": {}
     },
     "cbe03168a4a94cd3a8f0af46c1d8e807": {
      "model_module": "@jupyter-widgets/controls",
      "model_module_version": "1.5.0",
      "model_name": "HTMLModel",
      "state": {
       "layout": "IPY_MODEL_bd9e38a88d634e5ab09e4bb5491ee5b4",
       "style": "IPY_MODEL_e99b4184a426481fae3c35d791f8248a",
       "value": " ETA: 00:00s - loss: 0.0287 - val_loss: 0.0278"
      }
     },
     "cc93368c2af347638c3de4ecfeab2adf": {
      "model_module": "@jupyter-widgets/controls",
      "model_module_version": "1.5.0",
      "model_name": "FloatProgressModel",
      "state": {
       "bar_style": "success",
       "description": "5625/5625",
       "layout": "IPY_MODEL_575db23101c44aa99775c88d46a933a5",
       "max": 5625,
       "style": "IPY_MODEL_3871f89e357447c68bd5e637227d67d6",
       "value": 5625
      }
     },
     "cca5f96641834007af8e900301a36f42": {
      "model_module": "@jupyter-widgets/controls",
      "model_module_version": "1.5.0",
      "model_name": "FloatProgressModel",
      "state": {
       "bar_style": "success",
       "description": "5625/5625",
       "layout": "IPY_MODEL_47b2e5f3f4f54cb1857d328ef1d17f6c",
       "max": 5625,
       "style": "IPY_MODEL_fc2ffde06f284f92876e821f2df27f62",
       "value": 5625
      }
     },
     "ccbc49b4690d494ca4c0234fea3c0634": {
      "model_module": "@jupyter-widgets/controls",
      "model_module_version": "1.5.0",
      "model_name": "FloatProgressModel",
      "state": {
       "bar_style": "success",
       "description": "5625/5625",
       "layout": "IPY_MODEL_1bdc51e2d8ff46d2bee105d0cb68369e",
       "max": 5625,
       "style": "IPY_MODEL_4689e4275c064234b97feb4c96af3754",
       "value": 5625
      }
     },
     "cd28e48bf2c4486986a4daf739e33064": {
      "model_module": "@jupyter-widgets/base",
      "model_module_version": "1.2.0",
      "model_name": "LayoutModel",
      "state": {}
     },
     "cd7e73859c454f0ba1ff4034ac8360a2": {
      "model_module": "@jupyter-widgets/controls",
      "model_module_version": "1.5.0",
      "model_name": "HBoxModel",
      "state": {
       "children": [
        "IPY_MODEL_c5609af7eb934b9a9887078e9c0ff5c4",
        "IPY_MODEL_29c840d84c3243eeb74db2e82b6b5ffa"
       ],
       "layout": "IPY_MODEL_1a06244aa7224ad8a1606cd0215fecd8"
      }
     },
     "cd9384edc4314879a1e02232cf72fba2": {
      "model_module": "@jupyter-widgets/controls",
      "model_module_version": "1.5.0",
      "model_name": "HTMLModel",
      "state": {
       "layout": "IPY_MODEL_1a55e5bb0d6b402b98171db1df296ec3",
       "style": "IPY_MODEL_5d2e71045ba04c9cab13a783dab13cae",
       "value": " ETA: 00:00s - loss: 0.0281 - val_loss: 0.0276"
      }
     },
     "cdc09969b13b44f78f837487a2679d97": {
      "model_module": "@jupyter-widgets/base",
      "model_module_version": "1.2.0",
      "model_name": "LayoutModel",
      "state": {
       "display": "inline-flex",
       "flex_flow": "row wrap",
       "width": "100%"
      }
     },
     "cdf234692c1c4a4991d7c11536b665f6": {
      "model_module": "@jupyter-widgets/controls",
      "model_module_version": "1.5.0",
      "model_name": "ProgressStyleModel",
      "state": {
       "description_width": "initial"
      }
     },
     "cec7104cb06f4f4ca1fab2d25268d76e": {
      "model_module": "@jupyter-widgets/base",
      "model_module_version": "1.2.0",
      "model_name": "LayoutModel",
      "state": {
       "display": "inline-flex",
       "flex_flow": "row wrap",
       "width": "100%"
      }
     },
     "d02b1bfc4b9844a8bf10447712859f60": {
      "model_module": "@jupyter-widgets/base",
      "model_module_version": "1.2.0",
      "model_name": "LayoutModel",
      "state": {
       "display": "inline-flex",
       "flex_flow": "row wrap",
       "width": "100%"
      }
     },
     "d05905205ebc4acb967adbb78902c0e3": {
      "model_module": "@jupyter-widgets/base",
      "model_module_version": "1.2.0",
      "model_name": "LayoutModel",
      "state": {}
     },
     "d067559b2d19449881d0cb964b9e402f": {
      "model_module": "@jupyter-widgets/controls",
      "model_module_version": "1.5.0",
      "model_name": "DescriptionStyleModel",
      "state": {
       "description_width": ""
      }
     },
     "d171ad4464b44e308f063365386ab1f6": {
      "model_module": "@jupyter-widgets/controls",
      "model_module_version": "1.5.0",
      "model_name": "HTMLModel",
      "state": {
       "layout": "IPY_MODEL_00fc840507ef44c4b4f544e19e8e4afd",
       "style": "IPY_MODEL_7bc8452a077b48499408f236edad2458",
       "value": " ETA: 00:00s - loss: 0.0279 - val_loss: 0.0274"
      }
     },
     "d1802c39fa0a477b9ba32f9b3f36ad1f": {
      "model_module": "@jupyter-widgets/base",
      "model_module_version": "1.2.0",
      "model_name": "LayoutModel",
      "state": {}
     },
     "d1faca9ca81a499b99975798d3aacf5e": {
      "model_module": "@jupyter-widgets/base",
      "model_module_version": "1.2.0",
      "model_name": "LayoutModel",
      "state": {
       "display": "inline-flex",
       "flex_flow": "row wrap",
       "width": "100%"
      }
     },
     "d2ed586324074a1db8cf4618aad8938e": {
      "model_module": "@jupyter-widgets/controls",
      "model_module_version": "1.5.0",
      "model_name": "FloatProgressModel",
      "state": {
       "bar_style": "success",
       "description": "5625/5625",
       "layout": "IPY_MODEL_f4b4ce4197464be59d5328c455fbf153",
       "max": 5625,
       "style": "IPY_MODEL_fdd64ac8bb8f4d89bbfa081074110fcf",
       "value": 5625
      }
     },
     "d4283ea96e54499a8252654f530171c5": {
      "model_module": "@jupyter-widgets/controls",
      "model_module_version": "1.5.0",
      "model_name": "FloatProgressModel",
      "state": {
       "bar_style": "success",
       "description": "5625/5625",
       "layout": "IPY_MODEL_ae9369ad63ff496081e6be1bd2f7d676",
       "max": 5625,
       "style": "IPY_MODEL_c349da1c80844302b5100a45f39d78e6",
       "value": 5625
      }
     },
     "d435ffe85d6e4f2fbdb7c9302792be83": {
      "model_module": "@jupyter-widgets/controls",
      "model_module_version": "1.5.0",
      "model_name": "HBoxModel",
      "state": {
       "children": [
        "IPY_MODEL_a32ec985bda144e3ac759ccb4a8a8696",
        "IPY_MODEL_4d2e84a69ec140ec8aaed66faf1d4240"
       ],
       "layout": "IPY_MODEL_132cde92f8a4456fbde2246c8a0eb369"
      }
     },
     "d44f8eaf8b8148348ac9ee478814d19b": {
      "model_module": "@jupyter-widgets/base",
      "model_module_version": "1.2.0",
      "model_name": "LayoutModel",
      "state": {}
     },
     "d44fccf4a7c14daca015a0ca745c3263": {
      "model_module": "@jupyter-widgets/controls",
      "model_module_version": "1.5.0",
      "model_name": "HBoxModel",
      "state": {
       "children": [
        "IPY_MODEL_97c963d0862142a28cc1eb7f60faf30e",
        "IPY_MODEL_9d422cd5468f40b5952ff1213d9ee371"
       ],
       "layout": "IPY_MODEL_5b234dd0a7e043d2bb51e32f376612cf"
      }
     },
     "d4aa1bae0ddf4fc38bc942ee740aadd7": {
      "model_module": "@jupyter-widgets/base",
      "model_module_version": "1.2.0",
      "model_name": "LayoutModel",
      "state": {
       "display": "inline-flex",
       "flex_flow": "row wrap",
       "width": "100%"
      }
     },
     "d4d53621d3614ea896f6a04d92bf7d2d": {
      "model_module": "@jupyter-widgets/controls",
      "model_module_version": "1.5.0",
      "model_name": "ProgressStyleModel",
      "state": {
       "description_width": "initial"
      }
     },
     "d51208c1545d4a68b5d5e24146295069": {
      "model_module": "@jupyter-widgets/base",
      "model_module_version": "1.2.0",
      "model_name": "LayoutModel",
      "state": {
       "flex": "2"
      }
     },
     "d5acfcc2aa604ab1a44d702174c41434": {
      "model_module": "@jupyter-widgets/controls",
      "model_module_version": "1.5.0",
      "model_name": "DescriptionStyleModel",
      "state": {
       "description_width": ""
      }
     },
     "d68e8f857ce345ea9d443e794bcc7075": {
      "model_module": "@jupyter-widgets/base",
      "model_module_version": "1.2.0",
      "model_name": "LayoutModel",
      "state": {}
     },
     "d7ea1305a81c442f8663dc01a8128051": {
      "model_module": "@jupyter-widgets/controls",
      "model_module_version": "1.5.0",
      "model_name": "HTMLModel",
      "state": {
       "layout": "IPY_MODEL_408d4eeeeec14f75b504ac9bd210490b",
       "style": "IPY_MODEL_fb5ae6451137412283118c58063db94a",
       "value": " ETA: 00:00s - loss: 0.0291 - val_loss: 0.0292"
      }
     },
     "d88746fb0b0a40658d42b70c792fc1be": {
      "model_module": "@jupyter-widgets/controls",
      "model_module_version": "1.5.0",
      "model_name": "HTMLModel",
      "state": {
       "layout": "IPY_MODEL_70ea983b4f20458d93afa60b05ed1748",
       "style": "IPY_MODEL_c6068aba32eb493a8adedb5c38144993",
       "value": " ETA: 00:00s - loss: 0.0282 - val_loss: 0.0274"
      }
     },
     "d8ed639a7b524dc798ba4f76e16694e6": {
      "model_module": "@jupyter-widgets/controls",
      "model_module_version": "1.5.0",
      "model_name": "HBoxModel",
      "state": {
       "children": [
        "IPY_MODEL_7c71b92b00474665876e38e49c4b98c3",
        "IPY_MODEL_4d9126fbc54b4e1fbacfe6e4487eeee8"
       ],
       "layout": "IPY_MODEL_f95dd5ccd31741f68bedf86ec86a3b67"
      }
     },
     "d90c48d6e2c644fca7b0c33e12fbe982": {
      "model_module": "@jupyter-widgets/base",
      "model_module_version": "1.2.0",
      "model_name": "LayoutModel",
      "state": {}
     },
     "d9128200edbe4f22a4bc5adfda65c317": {
      "model_module": "@jupyter-widgets/controls",
      "model_module_version": "1.5.0",
      "model_name": "DescriptionStyleModel",
      "state": {
       "description_width": ""
      }
     },
     "d924f766e04349c9a73ff71ad28aed12": {
      "model_module": "@jupyter-widgets/controls",
      "model_module_version": "1.5.0",
      "model_name": "ProgressStyleModel",
      "state": {
       "description_width": "initial"
      }
     },
     "d93f91aab4a248d7bf8573002088f9fd": {
      "model_module": "@jupyter-widgets/controls",
      "model_module_version": "1.5.0",
      "model_name": "ProgressStyleModel",
      "state": {
       "description_width": "initial"
      }
     },
     "d967a178fbb84a18b39ea2835ab2f0d7": {
      "model_module": "@jupyter-widgets/controls",
      "model_module_version": "1.5.0",
      "model_name": "DescriptionStyleModel",
      "state": {
       "description_width": ""
      }
     },
     "d99371ae61df4341af0e087a42a222cf": {
      "model_module": "@jupyter-widgets/controls",
      "model_module_version": "1.5.0",
      "model_name": "ProgressStyleModel",
      "state": {
       "description_width": "initial"
      }
     },
     "d9b90aa483864dc8a8db748244f0b36a": {
      "model_module": "@jupyter-widgets/controls",
      "model_module_version": "1.5.0",
      "model_name": "ProgressStyleModel",
      "state": {
       "description_width": "initial"
      }
     },
     "da242f11363f4c6db14ed2919251caa4": {
      "model_module": "@jupyter-widgets/controls",
      "model_module_version": "1.5.0",
      "model_name": "ProgressStyleModel",
      "state": {
       "description_width": "initial"
      }
     },
     "da8eb70a90a44ec48fde48fc5780439c": {
      "model_module": "@jupyter-widgets/controls",
      "model_module_version": "1.5.0",
      "model_name": "DescriptionStyleModel",
      "state": {
       "description_width": ""
      }
     },
     "db511eefa2b342e09064da8bb1ecbd9a": {
      "model_module": "@jupyter-widgets/controls",
      "model_module_version": "1.5.0",
      "model_name": "FloatProgressModel",
      "state": {
       "bar_style": "success",
       "description": "5625/5625",
       "layout": "IPY_MODEL_03af5f8160e34ff9aa2cdffb6a11466d",
       "max": 5625,
       "style": "IPY_MODEL_ffa3edd088a445119286b741ed16b497",
       "value": 5625
      }
     },
     "dc05f86ac4334ea1852d4f166952f836": {
      "model_module": "@jupyter-widgets/controls",
      "model_module_version": "1.5.0",
      "model_name": "HBoxModel",
      "state": {
       "children": [
        "IPY_MODEL_af6a7c3295834c48882a5a169b169a14",
        "IPY_MODEL_a45ea16605314d6bbf512a6a7780ed9c"
       ],
       "layout": "IPY_MODEL_0755b3cbf6e14f70846aadb3659b4145"
      }
     },
     "dcac9e0db0394a58973664010a4f4457": {
      "model_module": "@jupyter-widgets/controls",
      "model_module_version": "1.5.0",
      "model_name": "HBoxModel",
      "state": {
       "children": [
        "IPY_MODEL_94d3d74a450a43d7b04def9e7ad6d368",
        "IPY_MODEL_7bec785489774651961e29c942c13faf"
       ],
       "layout": "IPY_MODEL_9b2a906004dc41b7b3b52ec0bafca5a6"
      }
     },
     "dd6202ef0977466aab90bd6942159595": {
      "model_module": "@jupyter-widgets/controls",
      "model_module_version": "1.5.0",
      "model_name": "ProgressStyleModel",
      "state": {
       "description_width": "initial"
      }
     },
     "dd8ec37495024489ad233ab8cdd52813": {
      "model_module": "@jupyter-widgets/controls",
      "model_module_version": "1.5.0",
      "model_name": "DescriptionStyleModel",
      "state": {
       "description_width": ""
      }
     },
     "dda819974ba14595b881dc10113b1d96": {
      "model_module": "@jupyter-widgets/base",
      "model_module_version": "1.2.0",
      "model_name": "LayoutModel",
      "state": {
       "flex": "2"
      }
     },
     "dee4cbc8145a49c4834d0e1d5c6e8bc3": {
      "model_module": "@jupyter-widgets/controls",
      "model_module_version": "1.5.0",
      "model_name": "ProgressStyleModel",
      "state": {
       "description_width": "initial"
      }
     },
     "df63f66e8f9c41f090b1ba7aba3d4878": {
      "model_module": "@jupyter-widgets/base",
      "model_module_version": "1.2.0",
      "model_name": "LayoutModel",
      "state": {}
     },
     "dfc4d4ef9abb42618671cc7fdcacb180": {
      "model_module": "@jupyter-widgets/base",
      "model_module_version": "1.2.0",
      "model_name": "LayoutModel",
      "state": {
       "display": "inline-flex",
       "flex_flow": "row wrap",
       "width": "100%"
      }
     },
     "dfca781f40b84974a820d4609e18ecea": {
      "model_module": "@jupyter-widgets/controls",
      "model_module_version": "1.5.0",
      "model_name": "FloatProgressModel",
      "state": {
       "bar_style": "success",
       "description": "5625/5625",
       "layout": "IPY_MODEL_3acdd36e24cf46b5805cf18c9432ae37",
       "max": 5625,
       "style": "IPY_MODEL_09d4eab0dbb347fc8d836048522c9edb",
       "value": 5625
      }
     },
     "e0436bb35bc74768aa70aa1b240c8ed9": {
      "model_module": "@jupyter-widgets/controls",
      "model_module_version": "1.5.0",
      "model_name": "HTMLModel",
      "state": {
       "layout": "IPY_MODEL_a466b99f27604bc4acdb7e85abdae488",
       "style": "IPY_MODEL_d967a178fbb84a18b39ea2835ab2f0d7",
       "value": " ETA: 00:00s - loss: 0.0285 - val_loss: 0.0278"
      }
     },
     "e0522a37d45b437b82fed6d519f0c2e4": {
      "model_module": "@jupyter-widgets/controls",
      "model_module_version": "1.5.0",
      "model_name": "HBoxModel",
      "state": {
       "children": [
        "IPY_MODEL_410162500edd40818fcb52db6ac7fabe",
        "IPY_MODEL_1c402472b2c94bf48c1299603d056cd0"
       ],
       "layout": "IPY_MODEL_7e48653af4d7443382387a108f650f17"
      }
     },
     "e111043ce2a748a09ce47c257d17ed88": {
      "model_module": "@jupyter-widgets/controls",
      "model_module_version": "1.5.0",
      "model_name": "ProgressStyleModel",
      "state": {
       "description_width": "initial"
      }
     },
     "e1175485b3c94444926efc564e5a55d1": {
      "model_module": "@jupyter-widgets/base",
      "model_module_version": "1.2.0",
      "model_name": "LayoutModel",
      "state": {
       "flex": "2"
      }
     },
     "e18b9108559d40e4a91748ed01eba750": {
      "model_module": "@jupyter-widgets/controls",
      "model_module_version": "1.5.0",
      "model_name": "ProgressStyleModel",
      "state": {
       "description_width": "initial"
      }
     },
     "e2a377ffda4f4d7798780d5d752321a7": {
      "model_module": "@jupyter-widgets/controls",
      "model_module_version": "1.5.0",
      "model_name": "ProgressStyleModel",
      "state": {
       "description_width": "initial"
      }
     },
     "e2e4c7c2231048d1b5d2ca8e75a2884c": {
      "model_module": "@jupyter-widgets/controls",
      "model_module_version": "1.5.0",
      "model_name": "ProgressStyleModel",
      "state": {
       "description_width": "initial"
      }
     },
     "e326fb8d43e14b4da9f113f849d8a7c7": {
      "model_module": "@jupyter-widgets/controls",
      "model_module_version": "1.5.0",
      "model_name": "FloatProgressModel",
      "state": {
       "bar_style": "success",
       "description": "5625/5625",
       "layout": "IPY_MODEL_582b5b6733df472d95239d72516f84f1",
       "max": 5625,
       "style": "IPY_MODEL_7611c8e591994682a9bcf3ae57228d05",
       "value": 5625
      }
     },
     "e4119b58fa5b4235a7e0054f092013f7": {
      "model_module": "@jupyter-widgets/base",
      "model_module_version": "1.2.0",
      "model_name": "LayoutModel",
      "state": {}
     },
     "e4f3c18b87dd4be9b22cc65bf971dc5e": {
      "model_module": "@jupyter-widgets/controls",
      "model_module_version": "1.5.0",
      "model_name": "ProgressStyleModel",
      "state": {
       "description_width": "initial"
      }
     },
     "e5013d3bb2934c0fba84938eb4b6f0c7": {
      "model_module": "@jupyter-widgets/controls",
      "model_module_version": "1.5.0",
      "model_name": "HTMLModel",
      "state": {
       "layout": "IPY_MODEL_6dc4ffb67a1748deb5c66a58a1a22ec2",
       "style": "IPY_MODEL_0d23c21bf6ed4d15ae18101f62577665",
       "value": " ETA: 00:00s - loss: 0.0280 - val_loss: 0.0274"
      }
     },
     "e537a49395c1421694c61029c1754608": {
      "model_module": "@jupyter-widgets/base",
      "model_module_version": "1.2.0",
      "model_name": "LayoutModel",
      "state": {
       "display": "inline-flex",
       "flex_flow": "row wrap",
       "width": "100%"
      }
     },
     "e5394624297141c882fd3643a1e59527": {
      "model_module": "@jupyter-widgets/base",
      "model_module_version": "1.2.0",
      "model_name": "LayoutModel",
      "state": {
       "display": "inline-flex",
       "flex_flow": "row wrap",
       "width": "100%"
      }
     },
     "e650c8f07ad642f3b578c00a69395aa8": {
      "model_module": "@jupyter-widgets/controls",
      "model_module_version": "1.5.0",
      "model_name": "HTMLModel",
      "state": {
       "layout": "IPY_MODEL_ffa0d7e7ec8e4b24b629fbb95ba07de2",
       "style": "IPY_MODEL_2b7dea1b35d44decb60c6bc576f7bc0c",
       "value": " ETA: 00:00s - loss: 0.0278 - val_loss: 0.0276"
      }
     },
     "e68886e5b43f4569a9a9fd5ef8a1a66d": {
      "model_module": "@jupyter-widgets/base",
      "model_module_version": "1.2.0",
      "model_name": "LayoutModel",
      "state": {
       "display": "inline-flex",
       "flex_flow": "row wrap",
       "width": "100%"
      }
     },
     "e6ef989de5f44ece90dc2b88a1995475": {
      "model_module": "@jupyter-widgets/base",
      "model_module_version": "1.2.0",
      "model_name": "LayoutModel",
      "state": {
       "flex": "2"
      }
     },
     "e798e2e0ec014c30b9e2fe67838be38f": {
      "model_module": "@jupyter-widgets/base",
      "model_module_version": "1.2.0",
      "model_name": "LayoutModel",
      "state": {}
     },
     "e7a2fdcc734b44f18720d05be31e6768": {
      "model_module": "@jupyter-widgets/base",
      "model_module_version": "1.2.0",
      "model_name": "LayoutModel",
      "state": {}
     },
     "e7b1c57be33745f0a9d27d527435f3dc": {
      "model_module": "@jupyter-widgets/base",
      "model_module_version": "1.2.0",
      "model_name": "LayoutModel",
      "state": {
       "display": "inline-flex",
       "flex_flow": "row wrap",
       "width": "100%"
      }
     },
     "e857077abf8b48369e8ce7a59c8335ac": {
      "model_module": "@jupyter-widgets/controls",
      "model_module_version": "1.5.0",
      "model_name": "FloatProgressModel",
      "state": {
       "bar_style": "success",
       "description": "5625/5625",
       "layout": "IPY_MODEL_2cd1f40313494a24869e28ff9afa931e",
       "max": 5625,
       "style": "IPY_MODEL_c0fbd789aa2f4b9aa2086a3e49415463",
       "value": 5625
      }
     },
     "e8c11fcaad194853b4fcf33e615b157d": {
      "model_module": "@jupyter-widgets/controls",
      "model_module_version": "1.5.0",
      "model_name": "HBoxModel",
      "state": {
       "children": [
        "IPY_MODEL_313d179700b8434aa9a1adc304221bfe",
        "IPY_MODEL_67b74345047643f2b71b7a3f7d6b6339"
       ],
       "layout": "IPY_MODEL_22439292296f4522b73d39af78edb4f7"
      }
     },
     "e8eb17dc415343af9176eb574b093254": {
      "model_module": "@jupyter-widgets/controls",
      "model_module_version": "1.5.0",
      "model_name": "FloatProgressModel",
      "state": {
       "bar_style": "success",
       "description": "5625/5625",
       "layout": "IPY_MODEL_d51208c1545d4a68b5d5e24146295069",
       "max": 5625,
       "style": "IPY_MODEL_641ee88bc8d44ecc81d06bc83d922257",
       "value": 5625
      }
     },
     "e99b4184a426481fae3c35d791f8248a": {
      "model_module": "@jupyter-widgets/controls",
      "model_module_version": "1.5.0",
      "model_name": "DescriptionStyleModel",
      "state": {
       "description_width": ""
      }
     },
     "e9cc32ebd2e84395a5f1e54f03afe725": {
      "model_module": "@jupyter-widgets/controls",
      "model_module_version": "1.5.0",
      "model_name": "HTMLModel",
      "state": {
       "layout": "IPY_MODEL_0d07527eddba40be9b5b5e85e079659b",
       "style": "IPY_MODEL_42bcb080082b4255ac92ce0cae20704a",
       "value": " ETA: 00:00s - loss: 0.0278 - val_loss: 0.0272"
      }
     },
     "eab76cd6858b41cfb9c05e0b099ac4a7": {
      "model_module": "@jupyter-widgets/controls",
      "model_module_version": "1.5.0",
      "model_name": "ProgressStyleModel",
      "state": {
       "description_width": "initial"
      }
     },
     "eac0dbe740b9429f8c10ee734761bc57": {
      "model_module": "@jupyter-widgets/controls",
      "model_module_version": "1.5.0",
      "model_name": "HBoxModel",
      "state": {
       "children": [
        "IPY_MODEL_c52566e740324dd590936bc2e46548df",
        "IPY_MODEL_c1dae2d9d304446dbc12b49322a269f8"
       ],
       "layout": "IPY_MODEL_cbaa335b130c49f59256b9a5be7e28a5"
      }
     },
     "eac7eaff9bba4b4d95a5c07edd775a3a": {
      "model_module": "@jupyter-widgets/controls",
      "model_module_version": "1.5.0",
      "model_name": "HBoxModel",
      "state": {
       "children": [
        "IPY_MODEL_cc93368c2af347638c3de4ecfeab2adf",
        "IPY_MODEL_261dec81121649fda047087fc42e0e9f"
       ],
       "layout": "IPY_MODEL_0ea83d9ab7684b69b0eb4f235cc68b9e"
      }
     },
     "eae045a78e4a4ffd8d9205f3b48e5588": {
      "model_module": "@jupyter-widgets/controls",
      "model_module_version": "1.5.0",
      "model_name": "FloatProgressModel",
      "state": {
       "bar_style": "success",
       "description": "5625/5625",
       "layout": "IPY_MODEL_64bde9098a8c4e96966c622aa8732be7",
       "max": 5625,
       "style": "IPY_MODEL_9d195af9de104af69dd83496cacf2ad4",
       "value": 5625
      }
     },
     "eb539527bdf447a1b35893092961b98f": {
      "model_module": "@jupyter-widgets/controls",
      "model_module_version": "1.5.0",
      "model_name": "DescriptionStyleModel",
      "state": {
       "description_width": ""
      }
     },
     "eb9a27ea37b642a196a012d67d0fe926": {
      "model_module": "@jupyter-widgets/controls",
      "model_module_version": "1.5.0",
      "model_name": "HBoxModel",
      "state": {
       "children": [
        "IPY_MODEL_a74adadc7f764ad797ce73fd2d418d12",
        "IPY_MODEL_5fee3ad3ed434b8eacb9a449772b4b4f"
       ],
       "layout": "IPY_MODEL_a9213f42ab2c4f66970a08d436a6f80f"
      }
     },
     "ebafed2b5e984f3fafe8c62b8ad12ceb": {
      "model_module": "@jupyter-widgets/base",
      "model_module_version": "1.2.0",
      "model_name": "LayoutModel",
      "state": {}
     },
     "ecc78140e2374232916b3d4b186971b9": {
      "model_module": "@jupyter-widgets/base",
      "model_module_version": "1.2.0",
      "model_name": "LayoutModel",
      "state": {
       "flex": "2"
      }
     },
     "ee32a6dc8a58411f8cedebca5a1f674f": {
      "model_module": "@jupyter-widgets/controls",
      "model_module_version": "1.5.0",
      "model_name": "HBoxModel",
      "state": {
       "children": [
        "IPY_MODEL_0d592c85bd21414eba16ff6e4caa6e01",
        "IPY_MODEL_3634325632df415a882a786d19f9f076"
       ],
       "layout": "IPY_MODEL_5a1ca1288f2449569d079aa4d10b7375"
      }
     },
     "ee5be36a3ac4495991d03421ac2b5f1d": {
      "model_module": "@jupyter-widgets/base",
      "model_module_version": "1.2.0",
      "model_name": "LayoutModel",
      "state": {
       "flex": "2"
      }
     },
     "eef7750dd41749e3a4077ac9564299dc": {
      "model_module": "@jupyter-widgets/controls",
      "model_module_version": "1.5.0",
      "model_name": "HBoxModel",
      "state": {
       "children": [
        "IPY_MODEL_ccbc49b4690d494ca4c0234fea3c0634",
        "IPY_MODEL_adb9e4cf180149d3a99252c89480e486"
       ],
       "layout": "IPY_MODEL_113cf391111a4b4595062b9f134b62ab"
      }
     },
     "f0873ac2adfd4285b2e7e3adf63acdbf": {
      "model_module": "@jupyter-widgets/base",
      "model_module_version": "1.2.0",
      "model_name": "LayoutModel",
      "state": {
       "display": "inline-flex",
       "flex_flow": "row wrap",
       "width": "100%"
      }
     },
     "f10750ded464456f8d988d90398d2625": {
      "model_module": "@jupyter-widgets/controls",
      "model_module_version": "1.5.0",
      "model_name": "ProgressStyleModel",
      "state": {
       "description_width": "initial"
      }
     },
     "f12142e4b1ba4811bffddefb1e57645f": {
      "model_module": "@jupyter-widgets/controls",
      "model_module_version": "1.5.0",
      "model_name": "HTMLModel",
      "state": {
       "layout": "IPY_MODEL_b5ff609753ae4a35ad248daf56a8f145",
       "style": "IPY_MODEL_09621a22d4134eacac136e44e8c97eca",
       "value": " ETA: 00:00s - loss: 0.0286 - val_loss: 0.0288"
      }
     },
     "f198c1e2e4ec4a50b6ad058f2350a694": {
      "model_module": "@jupyter-widgets/base",
      "model_module_version": "1.2.0",
      "model_name": "LayoutModel",
      "state": {
       "flex": "2"
      }
     },
     "f1ebbb998b994abe945be030712a8a30": {
      "model_module": "@jupyter-widgets/controls",
      "model_module_version": "1.5.0",
      "model_name": "FloatProgressModel",
      "state": {
       "bar_style": "success",
       "description": "5625/5625",
       "layout": "IPY_MODEL_681333ead82a4603a63358cd014eb54e",
       "max": 5625,
       "style": "IPY_MODEL_4c93084a50da454cb387ef0349ed461e",
       "value": 5625
      }
     },
     "f22c7c06d0164293a1f4741c530b1362": {
      "model_module": "@jupyter-widgets/base",
      "model_module_version": "1.2.0",
      "model_name": "LayoutModel",
      "state": {}
     },
     "f234b1c163584231afcec520fe8af485": {
      "model_module": "@jupyter-widgets/base",
      "model_module_version": "1.2.0",
      "model_name": "LayoutModel",
      "state": {}
     },
     "f2698039a80443fc9531d759101c88a0": {
      "model_module": "@jupyter-widgets/controls",
      "model_module_version": "1.5.0",
      "model_name": "FloatProgressModel",
      "state": {
       "bar_style": "success",
       "description": "5625/5625",
       "layout": "IPY_MODEL_1340d7fdbdd24bb2a2a955c9b89f1b55",
       "max": 5625,
       "style": "IPY_MODEL_32f5a8b4768644e6a19549d28d05f1ea",
       "value": 5625
      }
     },
     "f2985dcd4e4244b9a3abfd75a0ff798a": {
      "model_module": "@jupyter-widgets/base",
      "model_module_version": "1.2.0",
      "model_name": "LayoutModel",
      "state": {
       "display": "inline-flex",
       "flex_flow": "row wrap",
       "width": "100%"
      }
     },
     "f2a41f5e54bb4ea68d7c40111c38cd04": {
      "model_module": "@jupyter-widgets/base",
      "model_module_version": "1.2.0",
      "model_name": "LayoutModel",
      "state": {}
     },
     "f3885021f873434e8a6dcd014121e7a1": {
      "model_module": "@jupyter-widgets/controls",
      "model_module_version": "1.5.0",
      "model_name": "ProgressStyleModel",
      "state": {
       "description_width": "initial"
      }
     },
     "f47549918e714c658d6105917e755625": {
      "model_module": "@jupyter-widgets/base",
      "model_module_version": "1.2.0",
      "model_name": "LayoutModel",
      "state": {
       "display": "inline-flex",
       "flex_flow": "row wrap",
       "width": "100%"
      }
     },
     "f48734ed0d584fe59eef5037d430d9e2": {
      "model_module": "@jupyter-widgets/controls",
      "model_module_version": "1.5.0",
      "model_name": "HTMLModel",
      "state": {
       "layout": "IPY_MODEL_18996f0ab88e401988ffd3201f6ba558",
       "style": "IPY_MODEL_dd8ec37495024489ad233ab8cdd52813",
       "value": " ETA: 00:00s - loss: 0.0280 - val_loss: 0.0274"
      }
     },
     "f48da15465e04176b5c4e5ec34d53ed4": {
      "model_module": "@jupyter-widgets/controls",
      "model_module_version": "1.5.0",
      "model_name": "ProgressStyleModel",
      "state": {
       "description_width": "initial"
      }
     },
     "f4b4ce4197464be59d5328c455fbf153": {
      "model_module": "@jupyter-widgets/base",
      "model_module_version": "1.2.0",
      "model_name": "LayoutModel",
      "state": {
       "flex": "2"
      }
     },
     "f4c2cc9ee510499aa119237ee3182fba": {
      "model_module": "@jupyter-widgets/controls",
      "model_module_version": "1.5.0",
      "model_name": "FloatProgressModel",
      "state": {
       "bar_style": "success",
       "description": "5625/5625",
       "layout": "IPY_MODEL_3aea84743b914ac1939de3420172ab8b",
       "max": 5625,
       "style": "IPY_MODEL_924e4a9ea76c4d408c3765736e398fb2",
       "value": 5625
      }
     },
     "f516a5eee2fa46b09545ae9a7b045077": {
      "model_module": "@jupyter-widgets/controls",
      "model_module_version": "1.5.0",
      "model_name": "FloatProgressModel",
      "state": {
       "bar_style": "success",
       "description": "5625/5625",
       "layout": "IPY_MODEL_11ab48eee4cd49eaa639b922d2a5ad0e",
       "max": 5625,
       "style": "IPY_MODEL_06441fa94ec34290a38a5e9e4b354352",
       "value": 5625
      }
     },
     "f52f05cf029a4fa69348626565fad7e9": {
      "model_module": "@jupyter-widgets/base",
      "model_module_version": "1.2.0",
      "model_name": "LayoutModel",
      "state": {
       "flex": "2"
      }
     },
     "f53a5549b4f2420f864b7fba20afb3bb": {
      "model_module": "@jupyter-widgets/controls",
      "model_module_version": "1.5.0",
      "model_name": "ProgressStyleModel",
      "state": {
       "description_width": "initial"
      }
     },
     "f5ccb77b1dae4a82b6db8551bc9620bf": {
      "model_module": "@jupyter-widgets/base",
      "model_module_version": "1.2.0",
      "model_name": "LayoutModel",
      "state": {
       "display": "inline-flex",
       "flex_flow": "row wrap",
       "width": "100%"
      }
     },
     "f6082aebd9254d98b68f9caed4f3b63d": {
      "model_module": "@jupyter-widgets/controls",
      "model_module_version": "1.5.0",
      "model_name": "FloatProgressModel",
      "state": {
       "bar_style": "success",
       "description": "5625/5625",
       "layout": "IPY_MODEL_0dc1716227cd49c49eb66ab9af3fc502",
       "max": 5625,
       "style": "IPY_MODEL_e111043ce2a748a09ce47c257d17ed88",
       "value": 5625
      }
     },
     "f64889e1d3bc42b8999a59717a8e7381": {
      "model_module": "@jupyter-widgets/controls",
      "model_module_version": "1.5.0",
      "model_name": "HTMLModel",
      "state": {
       "layout": "IPY_MODEL_04449419c53f46a790057b32badabf8c",
       "style": "IPY_MODEL_20ef58cd22da480eba93c43c6be7298c",
       "value": " ETA: 00:00s - loss: 0.0279 - val_loss: 0.0278"
      }
     },
     "f698eef7eea54f2e8103f2504533be7e": {
      "model_module": "@jupyter-widgets/controls",
      "model_module_version": "1.5.0",
      "model_name": "HBoxModel",
      "state": {
       "children": [
        "IPY_MODEL_679a956486944f5496c3a453ad4a1657",
        "IPY_MODEL_b3c7cc553c9d4c4db9444ee28b56f2d4"
       ],
       "layout": "IPY_MODEL_e5394624297141c882fd3643a1e59527"
      }
     },
     "f6c888bfe7284db4a8a437bb1082bc8a": {
      "model_module": "@jupyter-widgets/controls",
      "model_module_version": "1.5.0",
      "model_name": "DescriptionStyleModel",
      "state": {
       "description_width": ""
      }
     },
     "f6df200da957479f8ac8767c02689a59": {
      "model_module": "@jupyter-widgets/base",
      "model_module_version": "1.2.0",
      "model_name": "LayoutModel",
      "state": {}
     },
     "f72f72bc7b904d958d664b685b92993a": {
      "model_module": "@jupyter-widgets/controls",
      "model_module_version": "1.5.0",
      "model_name": "HBoxModel",
      "state": {
       "children": [
        "IPY_MODEL_bd1fac8833be479a81856ad623959ff4",
        "IPY_MODEL_5195bd329a9c460bb333dd3f0d21b509"
       ],
       "layout": "IPY_MODEL_f47549918e714c658d6105917e755625"
      }
     },
     "f7c73ab5e9bb46ef83b70075ec36a61e": {
      "model_module": "@jupyter-widgets/controls",
      "model_module_version": "1.5.0",
      "model_name": "FloatProgressModel",
      "state": {
       "bar_style": "success",
       "description": "5625/5625",
       "layout": "IPY_MODEL_b3af279425a949df9e817a066a992664",
       "max": 5625,
       "style": "IPY_MODEL_583ef084218146b4a2b0244e62833260",
       "value": 5625
      }
     },
     "f7f796ff5b0a44fdb5e84cc56f7e6b05": {
      "model_module": "@jupyter-widgets/controls",
      "model_module_version": "1.5.0",
      "model_name": "ProgressStyleModel",
      "state": {
       "description_width": "initial"
      }
     },
     "f859042785934dfcb3a1e397f2e4d8f1": {
      "model_module": "@jupyter-widgets/controls",
      "model_module_version": "1.5.0",
      "model_name": "DescriptionStyleModel",
      "state": {
       "description_width": ""
      }
     },
     "f85bf1cbac33466cbf8c4cfbcaecbbe6": {
      "model_module": "@jupyter-widgets/controls",
      "model_module_version": "1.5.0",
      "model_name": "HTMLModel",
      "state": {
       "layout": "IPY_MODEL_d1802c39fa0a477b9ba32f9b3f36ad1f",
       "style": "IPY_MODEL_cb56542f3fd74061bb3b886619b12bd6",
       "value": " ETA: 00:00s - loss: 0.0280 - val_loss: 0.0279"
      }
     },
     "f9368c6653554febb5404b2411578cd4": {
      "model_module": "@jupyter-widgets/controls",
      "model_module_version": "1.5.0",
      "model_name": "HTMLModel",
      "state": {
       "layout": "IPY_MODEL_9b202ab1725a43c39da425456bc43ed4",
       "style": "IPY_MODEL_5626d2da791a4525b1b0425e78c4e2aa",
       "value": " ETA: 00:00s - loss: 0.0278 - val_loss: 0.0272"
      }
     },
     "f9435f5b8bba4e0488b03cc6053e054a": {
      "model_module": "@jupyter-widgets/base",
      "model_module_version": "1.2.0",
      "model_name": "LayoutModel",
      "state": {}
     },
     "f95dd5ccd31741f68bedf86ec86a3b67": {
      "model_module": "@jupyter-widgets/base",
      "model_module_version": "1.2.0",
      "model_name": "LayoutModel",
      "state": {
       "display": "inline-flex",
       "flex_flow": "row wrap",
       "width": "100%"
      }
     },
     "fac3acfcc50d4301907e1396cd151c2b": {
      "model_module": "@jupyter-widgets/controls",
      "model_module_version": "1.5.0",
      "model_name": "HBoxModel",
      "state": {
       "children": [
        "IPY_MODEL_f4c2cc9ee510499aa119237ee3182fba",
        "IPY_MODEL_3d7958c8831a4b21b9be205375b8c9fb"
       ],
       "layout": "IPY_MODEL_8ce617a6de324535b9747174aea34894"
      }
     },
     "fb192133c4cf4556a218b62e0421f9ed": {
      "model_module": "@jupyter-widgets/controls",
      "model_module_version": "1.5.0",
      "model_name": "DescriptionStyleModel",
      "state": {
       "description_width": ""
      }
     },
     "fb51e19d539f4042b60f3612e1076789": {
      "model_module": "@jupyter-widgets/controls",
      "model_module_version": "1.5.0",
      "model_name": "ProgressStyleModel",
      "state": {
       "description_width": "initial"
      }
     },
     "fb5a254d18fc4b739fd0a5ad0f852b26": {
      "model_module": "@jupyter-widgets/controls",
      "model_module_version": "1.5.0",
      "model_name": "HBoxModel",
      "state": {
       "children": [
        "IPY_MODEL_8827fc6946464488a1fa015e940a1ff5",
        "IPY_MODEL_cd9384edc4314879a1e02232cf72fba2"
       ],
       "layout": "IPY_MODEL_492d367320d148798eac652d125645ba"
      }
     },
     "fb5ae6451137412283118c58063db94a": {
      "model_module": "@jupyter-widgets/controls",
      "model_module_version": "1.5.0",
      "model_name": "DescriptionStyleModel",
      "state": {
       "description_width": ""
      }
     },
     "fba2d08b26b248f4825a8639a0db8114": {
      "model_module": "@jupyter-widgets/base",
      "model_module_version": "1.2.0",
      "model_name": "LayoutModel",
      "state": {
       "flex": "2"
      }
     },
     "fc2ffde06f284f92876e821f2df27f62": {
      "model_module": "@jupyter-widgets/controls",
      "model_module_version": "1.5.0",
      "model_name": "ProgressStyleModel",
      "state": {
       "description_width": "initial"
      }
     },
     "fc59e74190ed4c1498ad58c7f1d40b62": {
      "model_module": "@jupyter-widgets/base",
      "model_module_version": "1.2.0",
      "model_name": "LayoutModel",
      "state": {}
     },
     "fc601ba52f104c348b2af5ca84a50d82": {
      "model_module": "@jupyter-widgets/controls",
      "model_module_version": "1.5.0",
      "model_name": "FloatProgressModel",
      "state": {
       "bar_style": "success",
       "description": "5625/5625",
       "layout": "IPY_MODEL_00de16b865a846ce8c90441f9ed36eba",
       "max": 5625,
       "style": "IPY_MODEL_d4d53621d3614ea896f6a04d92bf7d2d",
       "value": 5625
      }
     },
     "fc74f54aeaff41a3a2926db7530b5f8e": {
      "model_module": "@jupyter-widgets/base",
      "model_module_version": "1.2.0",
      "model_name": "LayoutModel",
      "state": {
       "display": "inline-flex",
       "flex_flow": "row wrap",
       "width": "100%"
      }
     },
     "fca1a5524ded4c639a36c9e746520188": {
      "model_module": "@jupyter-widgets/base",
      "model_module_version": "1.2.0",
      "model_name": "LayoutModel",
      "state": {
       "flex": "2"
      }
     },
     "fcbdad7c5b404e238ad6139c22fe0248": {
      "model_module": "@jupyter-widgets/controls",
      "model_module_version": "1.5.0",
      "model_name": "HBoxModel",
      "state": {
       "children": [
        "IPY_MODEL_313f11285ae342e08422637e67c8102a",
        "IPY_MODEL_19419f8422ca464096e94a4602d01b75"
       ],
       "layout": "IPY_MODEL_275441114dcf49439197c3e9b575f20c"
      }
     },
     "fd1251745fc94486a4d1c4db46164ee8": {
      "model_module": "@jupyter-widgets/controls",
      "model_module_version": "1.5.0",
      "model_name": "FloatProgressModel",
      "state": {
       "bar_style": "success",
       "description": "5625/5625",
       "layout": "IPY_MODEL_9df6a3ca83fc404d97b1919fdec23099",
       "max": 5625,
       "style": "IPY_MODEL_c9466d04561740e789f9d737c6db6fad",
       "value": 5625
      }
     },
     "fd1792b7b95c48deb92a0b3c066bfc55": {
      "model_module": "@jupyter-widgets/controls",
      "model_module_version": "1.5.0",
      "model_name": "DescriptionStyleModel",
      "state": {
       "description_width": ""
      }
     },
     "fd310ca8c864425db02812779ba199b3": {
      "model_module": "@jupyter-widgets/controls",
      "model_module_version": "1.5.0",
      "model_name": "HTMLModel",
      "state": {
       "layout": "IPY_MODEL_b44dc69795e64dd2bf695017f5728fa3",
       "style": "IPY_MODEL_8838146424644bf99bcb540f4f77441b",
       "value": " ETA: 00:00s - loss: 0.0280 - val_loss: 0.0274"
      }
     },
     "fd36ffd6724243b596266d7af41ebb73": {
      "model_module": "@jupyter-widgets/base",
      "model_module_version": "1.2.0",
      "model_name": "LayoutModel",
      "state": {}
     },
     "fd881da7fca54f958198692cb137f3bd": {
      "model_module": "@jupyter-widgets/controls",
      "model_module_version": "1.5.0",
      "model_name": "FloatProgressModel",
      "state": {
       "bar_style": "success",
       "description": "5625/5625",
       "layout": "IPY_MODEL_5f75352052b84989a9793e72b5fb73eb",
       "max": 5625,
       "style": "IPY_MODEL_0e5e40782fbd433a92bf8ef189d08f7c",
       "value": 5625
      }
     },
     "fd95d6bcd6884c48a8f74100d99c92f1": {
      "model_module": "@jupyter-widgets/controls",
      "model_module_version": "1.5.0",
      "model_name": "HBoxModel",
      "state": {
       "children": [
        "IPY_MODEL_100049c1854747e1b2c64eddf7620a7b",
        "IPY_MODEL_d7ea1305a81c442f8663dc01a8128051"
       ],
       "layout": "IPY_MODEL_255164d5f29842b9b74fc251e01222bd"
      }
     },
     "fdd64ac8bb8f4d89bbfa081074110fcf": {
      "model_module": "@jupyter-widgets/controls",
      "model_module_version": "1.5.0",
      "model_name": "ProgressStyleModel",
      "state": {
       "description_width": "initial"
      }
     },
     "fe353ef83d214ef391f712f60ae92294": {
      "model_module": "@jupyter-widgets/controls",
      "model_module_version": "1.5.0",
      "model_name": "ProgressStyleModel",
      "state": {
       "description_width": "initial"
      }
     },
     "fe9a0a92d16f4803a8271a38bc605cf8": {
      "model_module": "@jupyter-widgets/base",
      "model_module_version": "1.2.0",
      "model_name": "LayoutModel",
      "state": {
       "flex": "2"
      }
     },
     "ff30a45dd7144bd6b7cea257955f30ff": {
      "model_module": "@jupyter-widgets/controls",
      "model_module_version": "1.5.0",
      "model_name": "DescriptionStyleModel",
      "state": {
       "description_width": ""
      }
     },
     "ffa0d7e7ec8e4b24b629fbb95ba07de2": {
      "model_module": "@jupyter-widgets/base",
      "model_module_version": "1.2.0",
      "model_name": "LayoutModel",
      "state": {}
     },
     "ffa3edd088a445119286b741ed16b497": {
      "model_module": "@jupyter-widgets/controls",
      "model_module_version": "1.5.0",
      "model_name": "ProgressStyleModel",
      "state": {
       "description_width": "initial"
      }
     }
    },
    "version_major": 2,
    "version_minor": 0
   }
  }
 },
 "nbformat": 4,
 "nbformat_minor": 4
}
