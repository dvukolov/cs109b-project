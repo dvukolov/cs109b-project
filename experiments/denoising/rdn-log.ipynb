{
 "cells": [
  {
   "cell_type": "code",
   "execution_count": 1,
   "metadata": {},
   "outputs": [],
   "source": [
    "import numpy as np\n",
    "import matplotlib.pyplot as plt\n",
    "\n",
    "import tensorflow as tf\n",
    "from tensorflow.python.keras.layers import Add, Concatenate, Conv2D, Input, Lambda\n",
    "from tensorflow.python.keras.models import Model\n",
    "from tensorflow.keras.layers.experimental import preprocessing\n",
    "from tensorflow.python.util import nest\n",
    "\n",
    "from tensorflow.keras.callbacks import EarlyStopping, ModelCheckpoint\n",
    "from tensorflow.keras.optimizers import Adam\n",
    "from tensorflow_addons.callbacks import TQDMProgressBar\n",
    "\n",
    "%run ../gridsearch/xception.ipynb"
   ]
  },
  {
   "cell_type": "code",
   "execution_count": 2,
   "metadata": {},
   "outputs": [
    {
     "name": "stdout",
     "output_type": "stream",
     "text": [
      "Available variables: ['img', 'img_nonoise', 'label', 'psf_r', 'snr', 'sigma']\n"
     ]
    }
   ],
   "source": [
    "# A separate dataset for training a denoising network with fixed PSF and fixed noise\n",
    "# Starting random seed for data generation 2314662\n",
    "basedir = Path(\"../../\")\n",
    "dataset = basedir / \"./data/data_v1a.npz\"\n",
    "modelpath = \"./models/rdn_log.tf\"\n",
    "\n",
    "with np.load(dataset) as data:\n",
    "    print(\"Available variables:\", data.files)\n",
    "    noisy = data[\"img\"]\n",
    "    noiseless = data[\"img_nonoise\"]"
   ]
  },
  {
   "cell_type": "code",
   "execution_count": 3,
   "metadata": {},
   "outputs": [
    {
     "data": {
      "image/png": "[encoded data removed]",
      "text/plain": [
       "<Figure size 972x288 with 3 Axes>"
      ]
     },
     "metadata": {
      "needs_background": "light"
     },
     "output_type": "display_data"
    }
   ],
   "source": [
    "image_idx = 2\n",
    "\n",
    "fig, ax = plt.subplots(1, 3, figsize=(13.5, 4), tight_layout=True)\n",
    "ax[0].hist(noisy[image_idx].ravel(), bins=50)\n",
    "ax[0].set_title(\"Distribution of Noise Pixels\")\n",
    "ax[1].hist(noiseless[image_idx].ravel(), bins=50)\n",
    "ax[1].set_title(\"Distribution of Noiseless Pixels\")\n",
    "ax[2].hist(np.log(noiseless[image_idx]).ravel(), bins=50)\n",
    "ax[2].set_title(\"Distribution of Noiseless Pixels (Log Scale)\");"
   ]
  },
  {
   "cell_type": "code",
   "execution_count": 4,
   "metadata": {},
   "outputs": [],
   "source": [
    "subset = 20_000\n",
    "X = noisy[:subset, ..., np.newaxis]\n",
    "Y = np.log(noiseless[:subset, ..., np.newaxis] + 1)\n",
    "\n",
    "input_shape = X.shape[1:]"
   ]
  },
  {
   "cell_type": "code",
   "execution_count": 5,
   "metadata": {},
   "outputs": [],
   "source": [
    "def RDB_conv(x, G=32):\n",
    "    out = Conv2D(filters=G, kernel_size=3, padding=\"same\", strides=1, activation=\"relu\")(x)\n",
    "    out = Concatenate()([x, out])\n",
    "    return out\n",
    "\n",
    "\n",
    "def RDB(x, C=6, G=32):\n",
    "    inputs = x\n",
    "    for _ in range(C):\n",
    "        x = RDB_conv(x, G=G)\n",
    "        \n",
    "    # Local Feature Fusion\n",
    "    x = Conv2D(filters=64, kernel_size=1, padding=\"same\", strides=1)(x)  # alt: padding=\"valid\"\n",
    "    \n",
    "    out = Add()([x, inputs])\n",
    "    return out\n",
    "        \n",
    "\n",
    "def RDN(input_shape, D=20, C=6, G=32):\n",
    "    \"\"\"Build a Residual Dense Network.\n",
    "    \n",
    "    Args:\n",
    "        input_shape: a 3-dimensional tuple of the input shape (including the channel dimension)\n",
    "        D: the number of residual dense blocks\n",
    "        C: the number of convolutional layers in each residual dense block\n",
    "        D: growth rate of residual dense blocks\n",
    "    \"\"\"    \n",
    "    inputs = Input(shape=input_shape)\n",
    "    x = preprocessing.Normalization()(inputs)\n",
    "    \n",
    "    # Shallow feature extraction\n",
    "    sfe1 = Conv2D(filters=64, kernel_size=3, strides=1, padding=\"same\")(x)\n",
    "    sfe2 = Conv2D(filters=64, kernel_size=3, strides=1, padding=\"same\")(sfe1)\n",
    "    x = sfe2\n",
    "    \n",
    "    RDBs = []\n",
    "    for _ in range(D):\n",
    "        x = RDB(x, C=C, G=G)\n",
    "        RDBs.append(x)\n",
    "        \n",
    "    x = Concatenate()(RDBs)\n",
    "    \n",
    "    # Global Feature Fusion\n",
    "    gff1 = Conv2D(filters=64, kernel_size=1, strides=1, padding=\"same\")(x)  # alt: padding=\"valid\"\n",
    "    gff2 = Conv2D(filters=64, kernel_size=3, strides=1, padding=\"same\")(gff1)\n",
    "    \n",
    "    x = Add()([gff2, sfe1])\n",
    "    outputs = Conv2D(filters=input_shape[-1], kernel_size=3, strides=1, padding=\"same\")(x)\n",
    "\n",
    "    model = Model(inputs, outputs, name=\"RDN\")\n",
    "    return model"
   ]
  },
  {
   "cell_type": "code",
   "execution_count": 10,
   "metadata": {},
   "outputs": [
    {
     "data": {
      "text/plain": [
       "<tensorflow.python.keras.engine.training.Model at 0x7f982804e950>"
      ]
     },
     "execution_count": 10,
     "metadata": {},
     "output_type": "execute_result"
    }
   ],
   "source": [
    "model = RDN(input_shape, D=3)\n",
    "adapt_model(model, X);\n",
    "# model.summary()"
   ]
  },
  {
   "cell_type": "code",
   "execution_count": 11,
   "metadata": {
    "scrolled": true
   },
   "outputs": [
    {
     "data": {
      "application/vnd.jupyter.widget-view+json": {
       "model_id": "99a98d3242cd4a459f968794ea905de4",
       "version_major": 2,
       "version_minor": 0
      },
      "text/plain": [
       "HBox(children=(FloatProgress(value=0.0, description='Training', layout=Layout(flex='2'), style=ProgressStyle(d…"
      ]
     },
     "metadata": {},
     "output_type": "display_data"
    },
    {
     "name": "stdout",
     "output_type": "stream",
     "text": [
      "Epoch 1/100\n"
     ]
    },
    {
     "data": {
      "application/vnd.jupyter.widget-view+json": {
       "model_id": "e01e88834ffd4ba09c72a41ea715ea3b",
       "version_major": 2,
       "version_minor": 0
      },
      "text/plain": [
       "HBox(children=(FloatProgress(value=0.0, layout=Layout(flex='2'), max=500.0), HTML(value='')), layout=Layout(di…"
      ]
     },
     "metadata": {},
     "output_type": "display_data"
    },
    {
     "name": "stdout",
     "output_type": "stream",
     "text": [
      "\n",
      "WARNING:tensorflow:From /usr/share/anaconda3/envs/tf21/lib/python3.7/site-packages/tensorflow_core/python/ops/resource_variable_ops.py:1786: calling BaseResourceVariable.__init__ (from tensorflow.python.ops.resource_variable_ops) with constraint is deprecated and will be removed in a future version.\n",
      "Instructions for updating:\n",
      "If using Keras pass *_constraint arguments to layers.\n",
      "INFO:tensorflow:Assets written to: rdn_log.tf/assets\n",
      "Epoch 2/100\n"
     ]
    },
    {
     "data": {
      "application/vnd.jupyter.widget-view+json": {
       "model_id": "553d8fd00f7246158b2b9a512fd85cd9",
       "version_major": 2,
       "version_minor": 0
      },
      "text/plain": [
       "HBox(children=(FloatProgress(value=0.0, layout=Layout(flex='2'), max=500.0), HTML(value='')), layout=Layout(di…"
      ]
     },
     "metadata": {},
     "output_type": "display_data"
    },
    {
     "name": "stdout",
     "output_type": "stream",
     "text": [
      "\n",
      "INFO:tensorflow:Assets written to: rdn_log.tf/assets\n",
      "Epoch 3/100\n"
     ]
    },
    {
     "data": {
      "application/vnd.jupyter.widget-view+json": {
       "model_id": "1f9b6e9f115e4a7d8eba52b24288c094",
       "version_major": 2,
       "version_minor": 0
      },
      "text/plain": [
       "HBox(children=(FloatProgress(value=0.0, layout=Layout(flex='2'), max=500.0), HTML(value='')), layout=Layout(di…"
      ]
     },
     "metadata": {},
     "output_type": "display_data"
    },
    {
     "name": "stdout",
     "output_type": "stream",
     "text": [
      "\n",
      "INFO:tensorflow:Assets written to: rdn_log.tf/assets\n",
      "Epoch 4/100\n"
     ]
    },
    {
     "data": {
      "application/vnd.jupyter.widget-view+json": {
       "model_id": "d93b226c333c4ce794dd1fe624c6bcd4",
       "version_major": 2,
       "version_minor": 0
      },
      "text/plain": [
       "HBox(children=(FloatProgress(value=0.0, layout=Layout(flex='2'), max=500.0), HTML(value='')), layout=Layout(di…"
      ]
     },
     "metadata": {},
     "output_type": "display_data"
    },
    {
     "name": "stdout",
     "output_type": "stream",
     "text": [
      "\n",
      "Epoch 5/100\n"
     ]
    },
    {
     "data": {
      "application/vnd.jupyter.widget-view+json": {
       "model_id": "e590c434b9e347f1a431aecbf96d5e60",
       "version_major": 2,
       "version_minor": 0
      },
      "text/plain": [
       "HBox(children=(FloatProgress(value=0.0, layout=Layout(flex='2'), max=500.0), HTML(value='')), layout=Layout(di…"
      ]
     },
     "metadata": {},
     "output_type": "display_data"
    },
    {
     "name": "stdout",
     "output_type": "stream",
     "text": [
      "\n",
      "INFO:tensorflow:Assets written to: rdn_log.tf/assets\n",
      "Epoch 6/100\n"
     ]
    },
    {
     "data": {
      "application/vnd.jupyter.widget-view+json": {
       "model_id": "70fd1dc1dc894be29782a460f6d66edf",
       "version_major": 2,
       "version_minor": 0
      },
      "text/plain": [
       "HBox(children=(FloatProgress(value=0.0, layout=Layout(flex='2'), max=500.0), HTML(value='')), layout=Layout(di…"
      ]
     },
     "metadata": {},
     "output_type": "display_data"
    },
    {
     "name": "stdout",
     "output_type": "stream",
     "text": [
      "\n",
      "Epoch 7/100\n"
     ]
    },
    {
     "data": {
      "application/vnd.jupyter.widget-view+json": {
       "model_id": "e35d1745a31641b9986dc924f430f812",
       "version_major": 2,
       "version_minor": 0
      },
      "text/plain": [
       "HBox(children=(FloatProgress(value=0.0, layout=Layout(flex='2'), max=500.0), HTML(value='')), layout=Layout(di…"
      ]
     },
     "metadata": {},
     "output_type": "display_data"
    },
    {
     "name": "stdout",
     "output_type": "stream",
     "text": [
      "\n",
      "INFO:tensorflow:Assets written to: rdn_log.tf/assets\n",
      "Epoch 8/100\n"
     ]
    },
    {
     "data": {
      "application/vnd.jupyter.widget-view+json": {
       "model_id": "fd0b9c150e124094abfce86f7029db20",
       "version_major": 2,
       "version_minor": 0
      },
      "text/plain": [
       "HBox(children=(FloatProgress(value=0.0, layout=Layout(flex='2'), max=500.0), HTML(value='')), layout=Layout(di…"
      ]
     },
     "metadata": {},
     "output_type": "display_data"
    },
    {
     "name": "stdout",
     "output_type": "stream",
     "text": [
      "\n",
      "INFO:tensorflow:Assets written to: rdn_log.tf/assets\n",
      "Epoch 9/100\n"
     ]
    },
    {
     "data": {
      "application/vnd.jupyter.widget-view+json": {
       "model_id": "152e61a9a3cc4063babe403babd26f22",
       "version_major": 2,
       "version_minor": 0
      },
      "text/plain": [
       "HBox(children=(FloatProgress(value=0.0, layout=Layout(flex='2'), max=500.0), HTML(value='')), layout=Layout(di…"
      ]
     },
     "metadata": {},
     "output_type": "display_data"
    },
    {
     "name": "stdout",
     "output_type": "stream",
     "text": [
      "\n",
      "INFO:tensorflow:Assets written to: rdn_log.tf/assets\n",
      "Epoch 10/100\n"
     ]
    },
    {
     "data": {
      "application/vnd.jupyter.widget-view+json": {
       "model_id": "2c4fae392bed4f7eaa7240fd28dc89d7",
       "version_major": 2,
       "version_minor": 0
      },
      "text/plain": [
       "HBox(children=(FloatProgress(value=0.0, layout=Layout(flex='2'), max=500.0), HTML(value='')), layout=Layout(di…"
      ]
     },
     "metadata": {},
     "output_type": "display_data"
    },
    {
     "name": "stdout",
     "output_type": "stream",
     "text": [
      "\n",
      "Epoch 11/100\n"
     ]
    },
    {
     "data": {
      "application/vnd.jupyter.widget-view+json": {
       "model_id": "e4848d4ab2214d49b08d9e5b571b9d5e",
       "version_major": 2,
       "version_minor": 0
      },
      "text/plain": [
       "HBox(children=(FloatProgress(value=0.0, layout=Layout(flex='2'), max=500.0), HTML(value='')), layout=Layout(di…"
      ]
     },
     "metadata": {},
     "output_type": "display_data"
    },
    {
     "name": "stdout",
     "output_type": "stream",
     "text": [
      "\n",
      "INFO:tensorflow:Assets written to: rdn_log.tf/assets\n",
      "Epoch 12/100\n"
     ]
    },
    {
     "data": {
      "application/vnd.jupyter.widget-view+json": {
       "model_id": "e0975523dfeb4476979adc8368a2344b",
       "version_major": 2,
       "version_minor": 0
      },
      "text/plain": [
       "HBox(children=(FloatProgress(value=0.0, layout=Layout(flex='2'), max=500.0), HTML(value='')), layout=Layout(di…"
      ]
     },
     "metadata": {},
     "output_type": "display_data"
    },
    {
     "name": "stdout",
     "output_type": "stream",
     "text": [
      "\n",
      "Epoch 13/100\n"
     ]
    },
    {
     "data": {
      "application/vnd.jupyter.widget-view+json": {
       "model_id": "56066d69825e4d30ab99361f86338f16",
       "version_major": 2,
       "version_minor": 0
      },
      "text/plain": [
       "HBox(children=(FloatProgress(value=0.0, layout=Layout(flex='2'), max=500.0), HTML(value='')), layout=Layout(di…"
      ]
     },
     "metadata": {},
     "output_type": "display_data"
    },
    {
     "name": "stdout",
     "output_type": "stream",
     "text": [
      "\n",
      "Epoch 14/100\n"
     ]
    },
    {
     "data": {
      "application/vnd.jupyter.widget-view+json": {
       "model_id": "484ab13ed8004516a52a18f5852c43ab",
       "version_major": 2,
       "version_minor": 0
      },
      "text/plain": [
       "HBox(children=(FloatProgress(value=0.0, layout=Layout(flex='2'), max=500.0), HTML(value='')), layout=Layout(di…"
      ]
     },
     "metadata": {},
     "output_type": "display_data"
    },
    {
     "name": "stdout",
     "output_type": "stream",
     "text": [
      "\n",
      "INFO:tensorflow:Assets written to: rdn_log.tf/assets\n",
      "Epoch 15/100\n"
     ]
    },
    {
     "data": {
      "application/vnd.jupyter.widget-view+json": {
       "model_id": "b478573f4a9743b3963405c275b90d26",
       "version_major": 2,
       "version_minor": 0
      },
      "text/plain": [
       "HBox(children=(FloatProgress(value=0.0, layout=Layout(flex='2'), max=500.0), HTML(value='')), layout=Layout(di…"
      ]
     },
     "metadata": {},
     "output_type": "display_data"
    },
    {
     "name": "stdout",
     "output_type": "stream",
     "text": [
      "\n",
      "INFO:tensorflow:Assets written to: rdn_log.tf/assets\n",
      "Epoch 16/100\n"
     ]
    },
    {
     "data": {
      "application/vnd.jupyter.widget-view+json": {
       "model_id": "58fef62e801c415ab89833ffc2d4b016",
       "version_major": 2,
       "version_minor": 0
      },
      "text/plain": [
       "HBox(children=(FloatProgress(value=0.0, layout=Layout(flex='2'), max=500.0), HTML(value='')), layout=Layout(di…"
      ]
     },
     "metadata": {},
     "output_type": "display_data"
    },
    {
     "name": "stdout",
     "output_type": "stream",
     "text": [
      "\n",
      "INFO:tensorflow:Assets written to: rdn_log.tf/assets\n",
      "Epoch 17/100\n"
     ]
    },
    {
     "data": {
      "application/vnd.jupyter.widget-view+json": {
       "model_id": "bfb413bb988f4c1085b9cc184857824c",
       "version_major": 2,
       "version_minor": 0
      },
      "text/plain": [
       "HBox(children=(FloatProgress(value=0.0, layout=Layout(flex='2'), max=500.0), HTML(value='')), layout=Layout(di…"
      ]
     },
     "metadata": {},
     "output_type": "display_data"
    },
    {
     "name": "stdout",
     "output_type": "stream",
     "text": [
      "\n",
      "INFO:tensorflow:Assets written to: rdn_log.tf/assets\n",
      "Epoch 18/100\n"
     ]
    },
    {
     "data": {
      "application/vnd.jupyter.widget-view+json": {
       "model_id": "a66cf52b4d0640b0b13897aeb8af610e",
       "version_major": 2,
       "version_minor": 0
      },
      "text/plain": [
       "HBox(children=(FloatProgress(value=0.0, layout=Layout(flex='2'), max=500.0), HTML(value='')), layout=Layout(di…"
      ]
     },
     "metadata": {},
     "output_type": "display_data"
    },
    {
     "name": "stdout",
     "output_type": "stream",
     "text": [
      "\n",
      "INFO:tensorflow:Assets written to: rdn_log.tf/assets\n",
      "Epoch 19/100\n"
     ]
    },
    {
     "data": {
      "application/vnd.jupyter.widget-view+json": {
       "model_id": "f784dd25cd53418483923e0ccd2b0f82",
       "version_major": 2,
       "version_minor": 0
      },
      "text/plain": [
       "HBox(children=(FloatProgress(value=0.0, layout=Layout(flex='2'), max=500.0), HTML(value='')), layout=Layout(di…"
      ]
     },
     "metadata": {},
     "output_type": "display_data"
    },
    {
     "name": "stdout",
     "output_type": "stream",
     "text": [
      "\n",
      "Epoch 20/100\n"
     ]
    },
    {
     "data": {
      "application/vnd.jupyter.widget-view+json": {
       "model_id": "29a5b6251d7c4b318df5afb9a88236cc",
       "version_major": 2,
       "version_minor": 0
      },
      "text/plain": [
       "HBox(children=(FloatProgress(value=0.0, layout=Layout(flex='2'), max=500.0), HTML(value='')), layout=Layout(di…"
      ]
     },
     "metadata": {},
     "output_type": "display_data"
    },
    {
     "name": "stdout",
     "output_type": "stream",
     "text": [
      "\n",
      "Epoch 21/100\n"
     ]
    },
    {
     "data": {
      "application/vnd.jupyter.widget-view+json": {
       "model_id": "a3bfee22fedf46a392856e104582940f",
       "version_major": 2,
       "version_minor": 0
      },
      "text/plain": [
       "HBox(children=(FloatProgress(value=0.0, layout=Layout(flex='2'), max=500.0), HTML(value='')), layout=Layout(di…"
      ]
     },
     "metadata": {},
     "output_type": "display_data"
    },
    {
     "name": "stdout",
     "output_type": "stream",
     "text": [
      "\n",
      "INFO:tensorflow:Assets written to: rdn_log.tf/assets\n",
      "Epoch 22/100\n"
     ]
    },
    {
     "data": {
      "application/vnd.jupyter.widget-view+json": {
       "model_id": "0f9a4b5007d247808acdf3950eba1914",
       "version_major": 2,
       "version_minor": 0
      },
      "text/plain": [
       "HBox(children=(FloatProgress(value=0.0, layout=Layout(flex='2'), max=500.0), HTML(value='')), layout=Layout(di…"
      ]
     },
     "metadata": {},
     "output_type": "display_data"
    },
    {
     "name": "stdout",
     "output_type": "stream",
     "text": [
      "\n",
      "INFO:tensorflow:Assets written to: rdn_log.tf/assets\n",
      "Epoch 23/100\n"
     ]
    },
    {
     "data": {
      "application/vnd.jupyter.widget-view+json": {
       "model_id": "d8a15ce2b08b41a6a668e1c23b3eb03a",
       "version_major": 2,
       "version_minor": 0
      },
      "text/plain": [
       "HBox(children=(FloatProgress(value=0.0, layout=Layout(flex='2'), max=500.0), HTML(value='')), layout=Layout(di…"
      ]
     },
     "metadata": {},
     "output_type": "display_data"
    },
    {
     "name": "stdout",
     "output_type": "stream",
     "text": [
      "\n",
      "INFO:tensorflow:Assets written to: rdn_log.tf/assets\n",
      "Epoch 24/100\n"
     ]
    },
    {
     "data": {
      "application/vnd.jupyter.widget-view+json": {
       "model_id": "a41e2a6ab93a4a7c8240afb06eac7ff1",
       "version_major": 2,
       "version_minor": 0
      },
      "text/plain": [
       "HBox(children=(FloatProgress(value=0.0, layout=Layout(flex='2'), max=500.0), HTML(value='')), layout=Layout(di…"
      ]
     },
     "metadata": {},
     "output_type": "display_data"
    },
    {
     "name": "stdout",
     "output_type": "stream",
     "text": [
      "\n",
      "INFO:tensorflow:Assets written to: rdn_log.tf/assets\n",
      "Epoch 25/100\n"
     ]
    },
    {
     "data": {
      "application/vnd.jupyter.widget-view+json": {
       "model_id": "4aa8f39e9142452194c508cf557a97a8",
       "version_major": 2,
       "version_minor": 0
      },
      "text/plain": [
       "HBox(children=(FloatProgress(value=0.0, layout=Layout(flex='2'), max=500.0), HTML(value='')), layout=Layout(di…"
      ]
     },
     "metadata": {},
     "output_type": "display_data"
    },
    {
     "name": "stdout",
     "output_type": "stream",
     "text": [
      "\n",
      "Epoch 26/100\n"
     ]
    },
    {
     "data": {
      "application/vnd.jupyter.widget-view+json": {
       "model_id": "1337a2d16ef449e1ba79e17e770e3e7e",
       "version_major": 2,
       "version_minor": 0
      },
      "text/plain": [
       "HBox(children=(FloatProgress(value=0.0, layout=Layout(flex='2'), max=500.0), HTML(value='')), layout=Layout(di…"
      ]
     },
     "metadata": {},
     "output_type": "display_data"
    },
    {
     "name": "stdout",
     "output_type": "stream",
     "text": [
      "\n",
      "INFO:tensorflow:Assets written to: rdn_log.tf/assets\n",
      "Epoch 27/100\n"
     ]
    },
    {
     "data": {
      "application/vnd.jupyter.widget-view+json": {
       "model_id": "7b76b3f20e6d4f1cabd899f760d70ec6",
       "version_major": 2,
       "version_minor": 0
      },
      "text/plain": [
       "HBox(children=(FloatProgress(value=0.0, layout=Layout(flex='2'), max=500.0), HTML(value='')), layout=Layout(di…"
      ]
     },
     "metadata": {},
     "output_type": "display_data"
    },
    {
     "name": "stdout",
     "output_type": "stream",
     "text": [
      "\n",
      "INFO:tensorflow:Assets written to: rdn_log.tf/assets\n",
      "Epoch 28/100\n"
     ]
    },
    {
     "data": {
      "application/vnd.jupyter.widget-view+json": {
       "model_id": "70aec04511af4f1fb7efc19244bc09ad",
       "version_major": 2,
       "version_minor": 0
      },
      "text/plain": [
       "HBox(children=(FloatProgress(value=0.0, layout=Layout(flex='2'), max=500.0), HTML(value='')), layout=Layout(di…"
      ]
     },
     "metadata": {},
     "output_type": "display_data"
    },
    {
     "name": "stdout",
     "output_type": "stream",
     "text": [
      "\n",
      "INFO:tensorflow:Assets written to: rdn_log.tf/assets\n",
      "Epoch 29/100\n"
     ]
    },
    {
     "data": {
      "application/vnd.jupyter.widget-view+json": {
       "model_id": "84b8ffb46420402988189f23528c9cff",
       "version_major": 2,
       "version_minor": 0
      },
      "text/plain": [
       "HBox(children=(FloatProgress(value=0.0, layout=Layout(flex='2'), max=500.0), HTML(value='')), layout=Layout(di…"
      ]
     },
     "metadata": {},
     "output_type": "display_data"
    },
    {
     "name": "stdout",
     "output_type": "stream",
     "text": [
      "\n",
      "Epoch 30/100\n"
     ]
    },
    {
     "data": {
      "application/vnd.jupyter.widget-view+json": {
       "model_id": "89e039f8f7764c278d000639b71ae90c",
       "version_major": 2,
       "version_minor": 0
      },
      "text/plain": [
       "HBox(children=(FloatProgress(value=0.0, layout=Layout(flex='2'), max=500.0), HTML(value='')), layout=Layout(di…"
      ]
     },
     "metadata": {},
     "output_type": "display_data"
    },
    {
     "name": "stdout",
     "output_type": "stream",
     "text": [
      "\n",
      "Epoch 31/100\n"
     ]
    },
    {
     "data": {
      "application/vnd.jupyter.widget-view+json": {
       "model_id": "c9222b7213ca47d5a93bcf018ffc5379",
       "version_major": 2,
       "version_minor": 0
      },
      "text/plain": [
       "HBox(children=(FloatProgress(value=0.0, layout=Layout(flex='2'), max=500.0), HTML(value='')), layout=Layout(di…"
      ]
     },
     "metadata": {},
     "output_type": "display_data"
    },
    {
     "name": "stdout",
     "output_type": "stream",
     "text": [
      "\n",
      "Epoch 32/100\n"
     ]
    },
    {
     "data": {
      "application/vnd.jupyter.widget-view+json": {
       "model_id": "ef4d57f20e8f4616bddb905b5854de19",
       "version_major": 2,
       "version_minor": 0
      },
      "text/plain": [
       "HBox(children=(FloatProgress(value=0.0, layout=Layout(flex='2'), max=500.0), HTML(value='')), layout=Layout(di…"
      ]
     },
     "metadata": {},
     "output_type": "display_data"
    },
    {
     "name": "stdout",
     "output_type": "stream",
     "text": [
      "\n",
      "INFO:tensorflow:Assets written to: rdn_log.tf/assets\n",
      "Epoch 33/100\n"
     ]
    },
    {
     "data": {
      "application/vnd.jupyter.widget-view+json": {
       "model_id": "813c2ab3890a4b46bdc39d67439c80a1",
       "version_major": 2,
       "version_minor": 0
      },
      "text/plain": [
       "HBox(children=(FloatProgress(value=0.0, layout=Layout(flex='2'), max=500.0), HTML(value='')), layout=Layout(di…"
      ]
     },
     "metadata": {},
     "output_type": "display_data"
    },
    {
     "name": "stdout",
     "output_type": "stream",
     "text": [
      "\n",
      "Epoch 34/100\n"
     ]
    },
    {
     "data": {
      "application/vnd.jupyter.widget-view+json": {
       "model_id": "7c2b8a3720ac459fa9d8f8f22fd2ee25",
       "version_major": 2,
       "version_minor": 0
      },
      "text/plain": [
       "HBox(children=(FloatProgress(value=0.0, layout=Layout(flex='2'), max=500.0), HTML(value='')), layout=Layout(di…"
      ]
     },
     "metadata": {},
     "output_type": "display_data"
    },
    {
     "name": "stdout",
     "output_type": "stream",
     "text": [
      "\n",
      "Epoch 35/100\n"
     ]
    },
    {
     "data": {
      "application/vnd.jupyter.widget-view+json": {
       "model_id": "a92d31475f9c4468b50a41278053a162",
       "version_major": 2,
       "version_minor": 0
      },
      "text/plain": [
       "HBox(children=(FloatProgress(value=0.0, layout=Layout(flex='2'), max=500.0), HTML(value='')), layout=Layout(di…"
      ]
     },
     "metadata": {},
     "output_type": "display_data"
    },
    {
     "name": "stdout",
     "output_type": "stream",
     "text": [
      "\n",
      "INFO:tensorflow:Assets written to: rdn_log.tf/assets\n",
      "Epoch 36/100\n"
     ]
    },
    {
     "data": {
      "application/vnd.jupyter.widget-view+json": {
       "model_id": "753e454e16ed4ef991a7f14c32bda8b7",
       "version_major": 2,
       "version_minor": 0
      },
      "text/plain": [
       "HBox(children=(FloatProgress(value=0.0, layout=Layout(flex='2'), max=500.0), HTML(value='')), layout=Layout(di…"
      ]
     },
     "metadata": {},
     "output_type": "display_data"
    },
    {
     "name": "stdout",
     "output_type": "stream",
     "text": [
      "\n",
      "Epoch 37/100\n"
     ]
    },
    {
     "data": {
      "application/vnd.jupyter.widget-view+json": {
       "model_id": "1e49e3a8c61140f5a0b6c8be52a8e7e0",
       "version_major": 2,
       "version_minor": 0
      },
      "text/plain": [
       "HBox(children=(FloatProgress(value=0.0, layout=Layout(flex='2'), max=500.0), HTML(value='')), layout=Layout(di…"
      ]
     },
     "metadata": {},
     "output_type": "display_data"
    },
    {
     "name": "stdout",
     "output_type": "stream",
     "text": [
      "\n",
      "Epoch 38/100\n"
     ]
    },
    {
     "data": {
      "application/vnd.jupyter.widget-view+json": {
       "model_id": "3e2799ef608340b6a1b7c43560a4f3e4",
       "version_major": 2,
       "version_minor": 0
      },
      "text/plain": [
       "HBox(children=(FloatProgress(value=0.0, layout=Layout(flex='2'), max=500.0), HTML(value='')), layout=Layout(di…"
      ]
     },
     "metadata": {},
     "output_type": "display_data"
    },
    {
     "name": "stdout",
     "output_type": "stream",
     "text": [
      "\n",
      "Epoch 39/100\n"
     ]
    },
    {
     "data": {
      "application/vnd.jupyter.widget-view+json": {
       "model_id": "e6eb0fa7587a472984b9cfb1241e353d",
       "version_major": 2,
       "version_minor": 0
      },
      "text/plain": [
       "HBox(children=(FloatProgress(value=0.0, layout=Layout(flex='2'), max=500.0), HTML(value='')), layout=Layout(di…"
      ]
     },
     "metadata": {},
     "output_type": "display_data"
    },
    {
     "name": "stdout",
     "output_type": "stream",
     "text": [
      "\n",
      "Epoch 40/100\n"
     ]
    },
    {
     "data": {
      "application/vnd.jupyter.widget-view+json": {
       "model_id": "fd678d110dde45588c21450d3d3c92da",
       "version_major": 2,
       "version_minor": 0
      },
      "text/plain": [
       "HBox(children=(FloatProgress(value=0.0, layout=Layout(flex='2'), max=500.0), HTML(value='')), layout=Layout(di…"
      ]
     },
     "metadata": {},
     "output_type": "display_data"
    },
    {
     "name": "stdout",
     "output_type": "stream",
     "text": [
      "\n",
      "INFO:tensorflow:Assets written to: rdn_log.tf/assets\n",
      "Epoch 41/100\n"
     ]
    },
    {
     "data": {
      "application/vnd.jupyter.widget-view+json": {
       "model_id": "9aaab58321d44630a5424728cc913955",
       "version_major": 2,
       "version_minor": 0
      },
      "text/plain": [
       "HBox(children=(FloatProgress(value=0.0, layout=Layout(flex='2'), max=500.0), HTML(value='')), layout=Layout(di…"
      ]
     },
     "metadata": {},
     "output_type": "display_data"
    },
    {
     "name": "stdout",
     "output_type": "stream",
     "text": [
      "\n",
      "INFO:tensorflow:Assets written to: rdn_log.tf/assets\n",
      "Epoch 42/100\n"
     ]
    },
    {
     "data": {
      "application/vnd.jupyter.widget-view+json": {
       "model_id": "933e4fd6886a4be4b3c228dabf39e8a8",
       "version_major": 2,
       "version_minor": 0
      },
      "text/plain": [
       "HBox(children=(FloatProgress(value=0.0, layout=Layout(flex='2'), max=500.0), HTML(value='')), layout=Layout(di…"
      ]
     },
     "metadata": {},
     "output_type": "display_data"
    },
    {
     "name": "stdout",
     "output_type": "stream",
     "text": [
      "\n",
      "Epoch 43/100\n"
     ]
    },
    {
     "data": {
      "application/vnd.jupyter.widget-view+json": {
       "model_id": "7fee41a5cda04a8fa87debc8d76698b7",
       "version_major": 2,
       "version_minor": 0
      },
      "text/plain": [
       "HBox(children=(FloatProgress(value=0.0, layout=Layout(flex='2'), max=500.0), HTML(value='')), layout=Layout(di…"
      ]
     },
     "metadata": {},
     "output_type": "display_data"
    },
    {
     "name": "stdout",
     "output_type": "stream",
     "text": [
      "\n",
      "Epoch 44/100\n"
     ]
    },
    {
     "data": {
      "application/vnd.jupyter.widget-view+json": {
       "model_id": "1cb4648677824f1f8b34073b41b569ac",
       "version_major": 2,
       "version_minor": 0
      },
      "text/plain": [
       "HBox(children=(FloatProgress(value=0.0, layout=Layout(flex='2'), max=500.0), HTML(value='')), layout=Layout(di…"
      ]
     },
     "metadata": {},
     "output_type": "display_data"
    },
    {
     "name": "stdout",
     "output_type": "stream",
     "text": [
      "\n",
      "Epoch 45/100\n"
     ]
    },
    {
     "data": {
      "application/vnd.jupyter.widget-view+json": {
       "model_id": "fe32f86b574e496ab8dbb6c5289d912a",
       "version_major": 2,
       "version_minor": 0
      },
      "text/plain": [
       "HBox(children=(FloatProgress(value=0.0, layout=Layout(flex='2'), max=500.0), HTML(value='')), layout=Layout(di…"
      ]
     },
     "metadata": {},
     "output_type": "display_data"
    },
    {
     "name": "stdout",
     "output_type": "stream",
     "text": [
      "\n",
      "Epoch 46/100\n"
     ]
    },
    {
     "data": {
      "application/vnd.jupyter.widget-view+json": {
       "model_id": "df3762ed1da34893ab216bbec7b34c24",
       "version_major": 2,
       "version_minor": 0
      },
      "text/plain": [
       "HBox(children=(FloatProgress(value=0.0, layout=Layout(flex='2'), max=500.0), HTML(value='')), layout=Layout(di…"
      ]
     },
     "metadata": {},
     "output_type": "display_data"
    },
    {
     "name": "stdout",
     "output_type": "stream",
     "text": [
      "\n",
      "Epoch 47/100\n"
     ]
    },
    {
     "data": {
      "application/vnd.jupyter.widget-view+json": {
       "model_id": "3520391c5eb942ddaf06bedb0c012b30",
       "version_major": 2,
       "version_minor": 0
      },
      "text/plain": [
       "HBox(children=(FloatProgress(value=0.0, layout=Layout(flex='2'), max=500.0), HTML(value='')), layout=Layout(di…"
      ]
     },
     "metadata": {},
     "output_type": "display_data"
    },
    {
     "name": "stdout",
     "output_type": "stream",
     "text": [
      "\n",
      "Epoch 48/100\n"
     ]
    },
    {
     "data": {
      "application/vnd.jupyter.widget-view+json": {
       "model_id": "184bb627c99048d0a9daa26543c4db31",
       "version_major": 2,
       "version_minor": 0
      },
      "text/plain": [
       "HBox(children=(FloatProgress(value=0.0, layout=Layout(flex='2'), max=500.0), HTML(value='')), layout=Layout(di…"
      ]
     },
     "metadata": {},
     "output_type": "display_data"
    },
    {
     "name": "stdout",
     "output_type": "stream",
     "text": [
      "\n",
      "INFO:tensorflow:Assets written to: rdn_log.tf/assets\n",
      "Epoch 49/100\n"
     ]
    },
    {
     "data": {
      "application/vnd.jupyter.widget-view+json": {
       "model_id": "1412a08e8c2f459191fb1ecd85097438",
       "version_major": 2,
       "version_minor": 0
      },
      "text/plain": [
       "HBox(children=(FloatProgress(value=0.0, layout=Layout(flex='2'), max=500.0), HTML(value='')), layout=Layout(di…"
      ]
     },
     "metadata": {},
     "output_type": "display_data"
    },
    {
     "name": "stdout",
     "output_type": "stream",
     "text": [
      "\n",
      "Epoch 50/100\n"
     ]
    },
    {
     "data": {
      "application/vnd.jupyter.widget-view+json": {
       "model_id": "e90539da971a4e2cb1c6d62f724e7dcc",
       "version_major": 2,
       "version_minor": 0
      },
      "text/plain": [
       "HBox(children=(FloatProgress(value=0.0, layout=Layout(flex='2'), max=500.0), HTML(value='')), layout=Layout(di…"
      ]
     },
     "metadata": {},
     "output_type": "display_data"
    },
    {
     "name": "stdout",
     "output_type": "stream",
     "text": [
      "\n",
      "Epoch 51/100\n"
     ]
    },
    {
     "data": {
      "application/vnd.jupyter.widget-view+json": {
       "model_id": "a0aa803224ab4be880dfcc27cd1a7287",
       "version_major": 2,
       "version_minor": 0
      },
      "text/plain": [
       "HBox(children=(FloatProgress(value=0.0, layout=Layout(flex='2'), max=500.0), HTML(value='')), layout=Layout(di…"
      ]
     },
     "metadata": {},
     "output_type": "display_data"
    },
    {
     "name": "stdout",
     "output_type": "stream",
     "text": [
      "\n",
      "INFO:tensorflow:Assets written to: rdn_log.tf/assets\n",
      "Epoch 52/100\n"
     ]
    },
    {
     "data": {
      "application/vnd.jupyter.widget-view+json": {
       "model_id": "56be43cfe0ea4747a14450d316475705",
       "version_major": 2,
       "version_minor": 0
      },
      "text/plain": [
       "HBox(children=(FloatProgress(value=0.0, layout=Layout(flex='2'), max=500.0), HTML(value='')), layout=Layout(di…"
      ]
     },
     "metadata": {},
     "output_type": "display_data"
    },
    {
     "name": "stdout",
     "output_type": "stream",
     "text": [
      "\n",
      "INFO:tensorflow:Assets written to: rdn_log.tf/assets\n",
      "Epoch 53/100\n"
     ]
    },
    {
     "data": {
      "application/vnd.jupyter.widget-view+json": {
       "model_id": "3188dee425584d4e9599cd626a04b2a9",
       "version_major": 2,
       "version_minor": 0
      },
      "text/plain": [
       "HBox(children=(FloatProgress(value=0.0, layout=Layout(flex='2'), max=500.0), HTML(value='')), layout=Layout(di…"
      ]
     },
     "metadata": {},
     "output_type": "display_data"
    },
    {
     "name": "stdout",
     "output_type": "stream",
     "text": [
      "\n",
      "Epoch 54/100\n"
     ]
    },
    {
     "data": {
      "application/vnd.jupyter.widget-view+json": {
       "model_id": "bed8422310914e4fad29eaef3a9a6d04",
       "version_major": 2,
       "version_minor": 0
      },
      "text/plain": [
       "HBox(children=(FloatProgress(value=0.0, layout=Layout(flex='2'), max=500.0), HTML(value='')), layout=Layout(di…"
      ]
     },
     "metadata": {},
     "output_type": "display_data"
    },
    {
     "name": "stdout",
     "output_type": "stream",
     "text": [
      "\n",
      "INFO:tensorflow:Assets written to: rdn_log.tf/assets\n",
      "Epoch 55/100\n"
     ]
    },
    {
     "data": {
      "application/vnd.jupyter.widget-view+json": {
       "model_id": "9e44e1d866304495b9b79d462e51b3ea",
       "version_major": 2,
       "version_minor": 0
      },
      "text/plain": [
       "HBox(children=(FloatProgress(value=0.0, layout=Layout(flex='2'), max=500.0), HTML(value='')), layout=Layout(di…"
      ]
     },
     "metadata": {},
     "output_type": "display_data"
    },
    {
     "name": "stdout",
     "output_type": "stream",
     "text": [
      "\n",
      "INFO:tensorflow:Assets written to: rdn_log.tf/assets\n",
      "Epoch 56/100\n"
     ]
    },
    {
     "data": {
      "application/vnd.jupyter.widget-view+json": {
       "model_id": "9628bdc235414a15b57a9c78e1b6e7a7",
       "version_major": 2,
       "version_minor": 0
      },
      "text/plain": [
       "HBox(children=(FloatProgress(value=0.0, layout=Layout(flex='2'), max=500.0), HTML(value='')), layout=Layout(di…"
      ]
     },
     "metadata": {},
     "output_type": "display_data"
    },
    {
     "name": "stdout",
     "output_type": "stream",
     "text": [
      "\n",
      "Epoch 57/100\n"
     ]
    },
    {
     "data": {
      "application/vnd.jupyter.widget-view+json": {
       "model_id": "69d4a1dab0a14f589bbdd56a8f2fc1cb",
       "version_major": 2,
       "version_minor": 0
      },
      "text/plain": [
       "HBox(children=(FloatProgress(value=0.0, layout=Layout(flex='2'), max=500.0), HTML(value='')), layout=Layout(di…"
      ]
     },
     "metadata": {},
     "output_type": "display_data"
    },
    {
     "name": "stdout",
     "output_type": "stream",
     "text": [
      "\n",
      "INFO:tensorflow:Assets written to: rdn_log.tf/assets\n",
      "Epoch 58/100\n"
     ]
    },
    {
     "data": {
      "application/vnd.jupyter.widget-view+json": {
       "model_id": "3415f3751a8f498e975ac24800299e89",
       "version_major": 2,
       "version_minor": 0
      },
      "text/plain": [
       "HBox(children=(FloatProgress(value=0.0, layout=Layout(flex='2'), max=500.0), HTML(value='')), layout=Layout(di…"
      ]
     },
     "metadata": {},
     "output_type": "display_data"
    },
    {
     "name": "stdout",
     "output_type": "stream",
     "text": [
      "\n",
      "Epoch 59/100\n"
     ]
    },
    {
     "data": {
      "application/vnd.jupyter.widget-view+json": {
       "model_id": "e058a22e40074af5b1cd4d722eaea80a",
       "version_major": 2,
       "version_minor": 0
      },
      "text/plain": [
       "HBox(children=(FloatProgress(value=0.0, layout=Layout(flex='2'), max=500.0), HTML(value='')), layout=Layout(di…"
      ]
     },
     "metadata": {},
     "output_type": "display_data"
    },
    {
     "name": "stdout",
     "output_type": "stream",
     "text": [
      "\n",
      "Epoch 60/100\n"
     ]
    },
    {
     "data": {
      "application/vnd.jupyter.widget-view+json": {
       "model_id": "6a09130e8c664ee29e94419b28f509a7",
       "version_major": 2,
       "version_minor": 0
      },
      "text/plain": [
       "HBox(children=(FloatProgress(value=0.0, layout=Layout(flex='2'), max=500.0), HTML(value='')), layout=Layout(di…"
      ]
     },
     "metadata": {},
     "output_type": "display_data"
    },
    {
     "name": "stdout",
     "output_type": "stream",
     "text": [
      "\n",
      "Epoch 61/100\n"
     ]
    },
    {
     "data": {
      "application/vnd.jupyter.widget-view+json": {
       "model_id": "2f13365700104e53a2d6c6a348d08785",
       "version_major": 2,
       "version_minor": 0
      },
      "text/plain": [
       "HBox(children=(FloatProgress(value=0.0, layout=Layout(flex='2'), max=500.0), HTML(value='')), layout=Layout(di…"
      ]
     },
     "metadata": {},
     "output_type": "display_data"
    },
    {
     "name": "stdout",
     "output_type": "stream",
     "text": [
      "\n",
      "Epoch 62/100\n"
     ]
    },
    {
     "data": {
      "application/vnd.jupyter.widget-view+json": {
       "model_id": "f8637b6717c041838ba303dffdaf16ff",
       "version_major": 2,
       "version_minor": 0
      },
      "text/plain": [
       "HBox(children=(FloatProgress(value=0.0, layout=Layout(flex='2'), max=500.0), HTML(value='')), layout=Layout(di…"
      ]
     },
     "metadata": {},
     "output_type": "display_data"
    },
    {
     "name": "stdout",
     "output_type": "stream",
     "text": [
      "\n",
      "Epoch 63/100\n"
     ]
    },
    {
     "data": {
      "application/vnd.jupyter.widget-view+json": {
       "model_id": "c356352287294f07b395da15a1bf5d99",
       "version_major": 2,
       "version_minor": 0
      },
      "text/plain": [
       "HBox(children=(FloatProgress(value=0.0, layout=Layout(flex='2'), max=500.0), HTML(value='')), layout=Layout(di…"
      ]
     },
     "metadata": {},
     "output_type": "display_data"
    },
    {
     "name": "stdout",
     "output_type": "stream",
     "text": [
      "\n",
      "INFO:tensorflow:Assets written to: rdn_log.tf/assets\n",
      "Epoch 64/100\n"
     ]
    },
    {
     "data": {
      "application/vnd.jupyter.widget-view+json": {
       "model_id": "04e00209347045dabd77e0fcec6711f4",
       "version_major": 2,
       "version_minor": 0
      },
      "text/plain": [
       "HBox(children=(FloatProgress(value=0.0, layout=Layout(flex='2'), max=500.0), HTML(value='')), layout=Layout(di…"
      ]
     },
     "metadata": {},
     "output_type": "display_data"
    },
    {
     "name": "stdout",
     "output_type": "stream",
     "text": [
      "\n",
      "INFO:tensorflow:Assets written to: rdn_log.tf/assets\n",
      "Epoch 65/100\n"
     ]
    },
    {
     "data": {
      "application/vnd.jupyter.widget-view+json": {
       "model_id": "c8e3d7fceffd4fc5be05ee6b955eb689",
       "version_major": 2,
       "version_minor": 0
      },
      "text/plain": [
       "HBox(children=(FloatProgress(value=0.0, layout=Layout(flex='2'), max=500.0), HTML(value='')), layout=Layout(di…"
      ]
     },
     "metadata": {},
     "output_type": "display_data"
    },
    {
     "name": "stdout",
     "output_type": "stream",
     "text": [
      "\n",
      "Epoch 66/100\n"
     ]
    },
    {
     "data": {
      "application/vnd.jupyter.widget-view+json": {
       "model_id": "a88fd45203734e92831bcc7aeda96ac3",
       "version_major": 2,
       "version_minor": 0
      },
      "text/plain": [
       "HBox(children=(FloatProgress(value=0.0, layout=Layout(flex='2'), max=500.0), HTML(value='')), layout=Layout(di…"
      ]
     },
     "metadata": {},
     "output_type": "display_data"
    },
    {
     "name": "stdout",
     "output_type": "stream",
     "text": [
      "\n",
      "Epoch 67/100\n"
     ]
    },
    {
     "data": {
      "application/vnd.jupyter.widget-view+json": {
       "model_id": "62060a52b6b04aa4aded878dbeba48a6",
       "version_major": 2,
       "version_minor": 0
      },
      "text/plain": [
       "HBox(children=(FloatProgress(value=0.0, layout=Layout(flex='2'), max=500.0), HTML(value='')), layout=Layout(di…"
      ]
     },
     "metadata": {},
     "output_type": "display_data"
    },
    {
     "name": "stdout",
     "output_type": "stream",
     "text": [
      "\n",
      "INFO:tensorflow:Assets written to: rdn_log.tf/assets\n",
      "Epoch 68/100\n"
     ]
    },
    {
     "data": {
      "application/vnd.jupyter.widget-view+json": {
       "model_id": "c5953fab4c41407fb1f72a7782f3e406",
       "version_major": 2,
       "version_minor": 0
      },
      "text/plain": [
       "HBox(children=(FloatProgress(value=0.0, layout=Layout(flex='2'), max=500.0), HTML(value='')), layout=Layout(di…"
      ]
     },
     "metadata": {},
     "output_type": "display_data"
    },
    {
     "name": "stdout",
     "output_type": "stream",
     "text": [
      "\n",
      "Epoch 69/100\n"
     ]
    },
    {
     "data": {
      "application/vnd.jupyter.widget-view+json": {
       "model_id": "749eb868faf848c5bcca90a5f66909cc",
       "version_major": 2,
       "version_minor": 0
      },
      "text/plain": [
       "HBox(children=(FloatProgress(value=0.0, layout=Layout(flex='2'), max=500.0), HTML(value='')), layout=Layout(di…"
      ]
     },
     "metadata": {},
     "output_type": "display_data"
    },
    {
     "name": "stdout",
     "output_type": "stream",
     "text": [
      "\n",
      "Epoch 70/100\n"
     ]
    },
    {
     "data": {
      "application/vnd.jupyter.widget-view+json": {
       "model_id": "df2c4b612e2b40acadc9c9b3484b6d38",
       "version_major": 2,
       "version_minor": 0
      },
      "text/plain": [
       "HBox(children=(FloatProgress(value=0.0, layout=Layout(flex='2'), max=500.0), HTML(value='')), layout=Layout(di…"
      ]
     },
     "metadata": {},
     "output_type": "display_data"
    },
    {
     "name": "stdout",
     "output_type": "stream",
     "text": [
      "\n",
      "Epoch 71/100\n"
     ]
    },
    {
     "data": {
      "application/vnd.jupyter.widget-view+json": {
       "model_id": "36595cf9bffb41f288aa9867e2268cd2",
       "version_major": 2,
       "version_minor": 0
      },
      "text/plain": [
       "HBox(children=(FloatProgress(value=0.0, layout=Layout(flex='2'), max=500.0), HTML(value='')), layout=Layout(di…"
      ]
     },
     "metadata": {},
     "output_type": "display_data"
    },
    {
     "name": "stdout",
     "output_type": "stream",
     "text": [
      "\n",
      "INFO:tensorflow:Assets written to: rdn_log.tf/assets\n",
      "Epoch 72/100\n"
     ]
    },
    {
     "data": {
      "application/vnd.jupyter.widget-view+json": {
       "model_id": "c23d43903bd1454394633e1d923aac9f",
       "version_major": 2,
       "version_minor": 0
      },
      "text/plain": [
       "HBox(children=(FloatProgress(value=0.0, layout=Layout(flex='2'), max=500.0), HTML(value='')), layout=Layout(di…"
      ]
     },
     "metadata": {},
     "output_type": "display_data"
    },
    {
     "name": "stdout",
     "output_type": "stream",
     "text": [
      "\n",
      "Epoch 73/100\n"
     ]
    },
    {
     "data": {
      "application/vnd.jupyter.widget-view+json": {
       "model_id": "3eebe954690045b899871988265d0172",
       "version_major": 2,
       "version_minor": 0
      },
      "text/plain": [
       "HBox(children=(FloatProgress(value=0.0, layout=Layout(flex='2'), max=500.0), HTML(value='')), layout=Layout(di…"
      ]
     },
     "metadata": {},
     "output_type": "display_data"
    },
    {
     "name": "stdout",
     "output_type": "stream",
     "text": [
      "\n",
      "INFO:tensorflow:Assets written to: rdn_log.tf/assets\n",
      "Epoch 74/100\n"
     ]
    },
    {
     "data": {
      "application/vnd.jupyter.widget-view+json": {
       "model_id": "19ac7dc539f94147960215d187cb536a",
       "version_major": 2,
       "version_minor": 0
      },
      "text/plain": [
       "HBox(children=(FloatProgress(value=0.0, layout=Layout(flex='2'), max=500.0), HTML(value='')), layout=Layout(di…"
      ]
     },
     "metadata": {},
     "output_type": "display_data"
    },
    {
     "name": "stdout",
     "output_type": "stream",
     "text": [
      "\n",
      "INFO:tensorflow:Assets written to: rdn_log.tf/assets\n",
      "Epoch 75/100\n"
     ]
    },
    {
     "data": {
      "application/vnd.jupyter.widget-view+json": {
       "model_id": "4653f4414fbd41449cc93d604a003284",
       "version_major": 2,
       "version_minor": 0
      },
      "text/plain": [
       "HBox(children=(FloatProgress(value=0.0, layout=Layout(flex='2'), max=500.0), HTML(value='')), layout=Layout(di…"
      ]
     },
     "metadata": {},
     "output_type": "display_data"
    },
    {
     "name": "stdout",
     "output_type": "stream",
     "text": [
      "\n",
      "Epoch 76/100\n"
     ]
    },
    {
     "data": {
      "application/vnd.jupyter.widget-view+json": {
       "model_id": "b04ca3e45e7748a8ad2839b73ecd56e5",
       "version_major": 2,
       "version_minor": 0
      },
      "text/plain": [
       "HBox(children=(FloatProgress(value=0.0, layout=Layout(flex='2'), max=500.0), HTML(value='')), layout=Layout(di…"
      ]
     },
     "metadata": {},
     "output_type": "display_data"
    },
    {
     "name": "stdout",
     "output_type": "stream",
     "text": [
      "\n",
      "INFO:tensorflow:Assets written to: rdn_log.tf/assets\n",
      "Epoch 77/100\n"
     ]
    },
    {
     "data": {
      "application/vnd.jupyter.widget-view+json": {
       "model_id": "2be97d7881b042f09b17b9d89d024398",
       "version_major": 2,
       "version_minor": 0
      },
      "text/plain": [
       "HBox(children=(FloatProgress(value=0.0, layout=Layout(flex='2'), max=500.0), HTML(value='')), layout=Layout(di…"
      ]
     },
     "metadata": {},
     "output_type": "display_data"
    },
    {
     "name": "stdout",
     "output_type": "stream",
     "text": [
      "\n",
      "INFO:tensorflow:Assets written to: rdn_log.tf/assets\n",
      "Epoch 78/100\n"
     ]
    },
    {
     "data": {
      "application/vnd.jupyter.widget-view+json": {
       "model_id": "71751b0a21a2465f912e5ef68767d71f",
       "version_major": 2,
       "version_minor": 0
      },
      "text/plain": [
       "HBox(children=(FloatProgress(value=0.0, layout=Layout(flex='2'), max=500.0), HTML(value='')), layout=Layout(di…"
      ]
     },
     "metadata": {},
     "output_type": "display_data"
    },
    {
     "name": "stdout",
     "output_type": "stream",
     "text": [
      "WARNING:tensorflow:Early stopping conditioned on metric `val_loss` which is not available. Available metrics are: loss\n",
      "\n",
      "WARNING:tensorflow:Can save best model only with val_loss available, skipping.\n",
      "\n"
     ]
    },
    {
     "ename": "KeyboardInterrupt",
     "evalue": "",
     "output_type": "error",
     "traceback": [
      "\u001b[0;31m---------------------------------------------------------------------------\u001b[0m",
      "\u001b[0;31mKeyboardInterrupt\u001b[0m                         Traceback (most recent call last)",
      "\u001b[0;32m<ipython-input-11-67baadc0280d>\u001b[0m in \u001b[0;36m<module>\u001b[0;34m\u001b[0m\n\u001b[1;32m     12\u001b[0m     \u001b[0mvalidation_split\u001b[0m\u001b[0;34m=\u001b[0m\u001b[0;36m0.2\u001b[0m\u001b[0;34m,\u001b[0m\u001b[0;34m\u001b[0m\u001b[0;34m\u001b[0m\u001b[0m\n\u001b[1;32m     13\u001b[0m     \u001b[0mverbose\u001b[0m\u001b[0;34m=\u001b[0m\u001b[0;36m0\u001b[0m\u001b[0;34m,\u001b[0m\u001b[0;34m\u001b[0m\u001b[0;34m\u001b[0m\u001b[0m\n\u001b[0;32m---> 14\u001b[0;31m     \u001b[0mcallbacks\u001b[0m\u001b[0;34m=\u001b[0m\u001b[0;34m[\u001b[0m\u001b[0mearly_stopping\u001b[0m\u001b[0;34m,\u001b[0m \u001b[0mtqdm_callback\u001b[0m\u001b[0;34m,\u001b[0m \u001b[0mcheckpoint\u001b[0m\u001b[0;34m]\u001b[0m\u001b[0;34m,\u001b[0m\u001b[0;34m\u001b[0m\u001b[0;34m\u001b[0m\u001b[0m\n\u001b[0m\u001b[1;32m     15\u001b[0m )\n\u001b[1;32m     16\u001b[0m \u001b[0mmodel\u001b[0m\u001b[0;34m.\u001b[0m\u001b[0msave\u001b[0m\u001b[0;34m(\u001b[0m\u001b[0;34m\"edsr_log.tf\"\u001b[0m\u001b[0;34m)\u001b[0m\u001b[0;34m\u001b[0m\u001b[0;34m\u001b[0m\u001b[0m\n",
      "\u001b[0;32m/usr/share/anaconda3/envs/tf21/lib/python3.7/site-packages/tensorflow_core/python/keras/engine/training.py\u001b[0m in \u001b[0;36mfit\u001b[0;34m(self, x, y, batch_size, epochs, verbose, callbacks, validation_split, validation_data, shuffle, class_weight, sample_weight, initial_epoch, steps_per_epoch, validation_steps, validation_freq, max_queue_size, workers, use_multiprocessing, **kwargs)\u001b[0m\n\u001b[1;32m    817\u001b[0m         \u001b[0mmax_queue_size\u001b[0m\u001b[0;34m=\u001b[0m\u001b[0mmax_queue_size\u001b[0m\u001b[0;34m,\u001b[0m\u001b[0;34m\u001b[0m\u001b[0;34m\u001b[0m\u001b[0m\n\u001b[1;32m    818\u001b[0m         \u001b[0mworkers\u001b[0m\u001b[0;34m=\u001b[0m\u001b[0mworkers\u001b[0m\u001b[0;34m,\u001b[0m\u001b[0;34m\u001b[0m\u001b[0;34m\u001b[0m\u001b[0m\n\u001b[0;32m--> 819\u001b[0;31m         use_multiprocessing=use_multiprocessing)\n\u001b[0m\u001b[1;32m    820\u001b[0m \u001b[0;34m\u001b[0m\u001b[0m\n\u001b[1;32m    821\u001b[0m   def evaluate(self,\n",
      "\u001b[0;32m/usr/share/anaconda3/envs/tf21/lib/python3.7/site-packages/tensorflow_core/python/keras/engine/training_v2.py\u001b[0m in \u001b[0;36mfit\u001b[0;34m(self, model, x, y, batch_size, epochs, verbose, callbacks, validation_split, validation_data, shuffle, class_weight, sample_weight, initial_epoch, steps_per_epoch, validation_steps, validation_freq, max_queue_size, workers, use_multiprocessing, **kwargs)\u001b[0m\n\u001b[1;32m    340\u001b[0m                 \u001b[0mmode\u001b[0m\u001b[0;34m=\u001b[0m\u001b[0mModeKeys\u001b[0m\u001b[0;34m.\u001b[0m\u001b[0mTRAIN\u001b[0m\u001b[0;34m,\u001b[0m\u001b[0;34m\u001b[0m\u001b[0;34m\u001b[0m\u001b[0m\n\u001b[1;32m    341\u001b[0m                 \u001b[0mtraining_context\u001b[0m\u001b[0;34m=\u001b[0m\u001b[0mtraining_context\u001b[0m\u001b[0;34m,\u001b[0m\u001b[0;34m\u001b[0m\u001b[0;34m\u001b[0m\u001b[0m\n\u001b[0;32m--> 342\u001b[0;31m                 total_epochs=epochs)\n\u001b[0m\u001b[1;32m    343\u001b[0m             \u001b[0mcbks\u001b[0m\u001b[0;34m.\u001b[0m\u001b[0mmake_logs\u001b[0m\u001b[0;34m(\u001b[0m\u001b[0mmodel\u001b[0m\u001b[0;34m,\u001b[0m \u001b[0mepoch_logs\u001b[0m\u001b[0;34m,\u001b[0m \u001b[0mtraining_result\u001b[0m\u001b[0;34m,\u001b[0m \u001b[0mModeKeys\u001b[0m\u001b[0;34m.\u001b[0m\u001b[0mTRAIN\u001b[0m\u001b[0;34m)\u001b[0m\u001b[0;34m\u001b[0m\u001b[0;34m\u001b[0m\u001b[0m\n\u001b[1;32m    344\u001b[0m \u001b[0;34m\u001b[0m\u001b[0m\n",
      "\u001b[0;32m/usr/share/anaconda3/envs/tf21/lib/python3.7/site-packages/tensorflow_core/python/keras/engine/training_v2.py\u001b[0m in \u001b[0;36mrun_one_epoch\u001b[0;34m(model, iterator, execution_function, dataset_size, batch_size, strategy, steps_per_epoch, num_samples, mode, training_context, total_epochs)\u001b[0m\n\u001b[1;32m    126\u001b[0m         step=step, mode=mode, size=current_batch_size) as batch_logs:\n\u001b[1;32m    127\u001b[0m       \u001b[0;32mtry\u001b[0m\u001b[0;34m:\u001b[0m\u001b[0;34m\u001b[0m\u001b[0;34m\u001b[0m\u001b[0m\n\u001b[0;32m--> 128\u001b[0;31m         \u001b[0mbatch_outs\u001b[0m \u001b[0;34m=\u001b[0m \u001b[0mexecution_function\u001b[0m\u001b[0;34m(\u001b[0m\u001b[0miterator\u001b[0m\u001b[0;34m)\u001b[0m\u001b[0;34m\u001b[0m\u001b[0;34m\u001b[0m\u001b[0m\n\u001b[0m\u001b[1;32m    129\u001b[0m       \u001b[0;32mexcept\u001b[0m \u001b[0;34m(\u001b[0m\u001b[0mStopIteration\u001b[0m\u001b[0;34m,\u001b[0m \u001b[0merrors\u001b[0m\u001b[0;34m.\u001b[0m\u001b[0mOutOfRangeError\u001b[0m\u001b[0;34m)\u001b[0m\u001b[0;34m:\u001b[0m\u001b[0;34m\u001b[0m\u001b[0;34m\u001b[0m\u001b[0m\n\u001b[1;32m    130\u001b[0m         \u001b[0;31m# TODO(kaftan): File bug about tf function and errors.OutOfRangeError?\u001b[0m\u001b[0;34m\u001b[0m\u001b[0;34m\u001b[0m\u001b[0;34m\u001b[0m\u001b[0m\n",
      "\u001b[0;32m/usr/share/anaconda3/envs/tf21/lib/python3.7/site-packages/tensorflow_core/python/keras/engine/training_v2_utils.py\u001b[0m in \u001b[0;36mexecution_function\u001b[0;34m(input_fn)\u001b[0m\n\u001b[1;32m     96\u001b[0m     \u001b[0;31m# `numpy` translates Tensors to values in Eager mode.\u001b[0m\u001b[0;34m\u001b[0m\u001b[0;34m\u001b[0m\u001b[0;34m\u001b[0m\u001b[0m\n\u001b[1;32m     97\u001b[0m     return nest.map_structure(_non_none_constant_value,\n\u001b[0;32m---> 98\u001b[0;31m                               distributed_function(input_fn))\n\u001b[0m\u001b[1;32m     99\u001b[0m \u001b[0;34m\u001b[0m\u001b[0m\n\u001b[1;32m    100\u001b[0m   \u001b[0;32mreturn\u001b[0m \u001b[0mexecution_function\u001b[0m\u001b[0;34m\u001b[0m\u001b[0;34m\u001b[0m\u001b[0m\n",
      "\u001b[0;32m/usr/share/anaconda3/envs/tf21/lib/python3.7/site-packages/tensorflow_core/python/util/nest.py\u001b[0m in \u001b[0;36mmap_structure\u001b[0;34m(func, *structure, **kwargs)\u001b[0m\n\u001b[1;32m    566\u001b[0m \u001b[0;34m\u001b[0m\u001b[0m\n\u001b[1;32m    567\u001b[0m   return pack_sequence_as(\n\u001b[0;32m--> 568\u001b[0;31m       \u001b[0mstructure\u001b[0m\u001b[0;34m[\u001b[0m\u001b[0;36m0\u001b[0m\u001b[0;34m]\u001b[0m\u001b[0;34m,\u001b[0m \u001b[0;34m[\u001b[0m\u001b[0mfunc\u001b[0m\u001b[0;34m(\u001b[0m\u001b[0;34m*\u001b[0m\u001b[0mx\u001b[0m\u001b[0;34m)\u001b[0m \u001b[0;32mfor\u001b[0m \u001b[0mx\u001b[0m \u001b[0;32min\u001b[0m \u001b[0mentries\u001b[0m\u001b[0;34m]\u001b[0m\u001b[0;34m,\u001b[0m\u001b[0;34m\u001b[0m\u001b[0;34m\u001b[0m\u001b[0m\n\u001b[0m\u001b[1;32m    569\u001b[0m       expand_composites=expand_composites)\n\u001b[1;32m    570\u001b[0m \u001b[0;34m\u001b[0m\u001b[0m\n",
      "\u001b[0;32m/usr/share/anaconda3/envs/tf21/lib/python3.7/site-packages/tensorflow_core/python/util/nest.py\u001b[0m in \u001b[0;36m<listcomp>\u001b[0;34m(.0)\u001b[0m\n\u001b[1;32m    566\u001b[0m \u001b[0;34m\u001b[0m\u001b[0m\n\u001b[1;32m    567\u001b[0m   return pack_sequence_as(\n\u001b[0;32m--> 568\u001b[0;31m       \u001b[0mstructure\u001b[0m\u001b[0;34m[\u001b[0m\u001b[0;36m0\u001b[0m\u001b[0;34m]\u001b[0m\u001b[0;34m,\u001b[0m \u001b[0;34m[\u001b[0m\u001b[0mfunc\u001b[0m\u001b[0;34m(\u001b[0m\u001b[0;34m*\u001b[0m\u001b[0mx\u001b[0m\u001b[0;34m)\u001b[0m \u001b[0;32mfor\u001b[0m \u001b[0mx\u001b[0m \u001b[0;32min\u001b[0m \u001b[0mentries\u001b[0m\u001b[0;34m]\u001b[0m\u001b[0;34m,\u001b[0m\u001b[0;34m\u001b[0m\u001b[0;34m\u001b[0m\u001b[0m\n\u001b[0m\u001b[1;32m    569\u001b[0m       expand_composites=expand_composites)\n\u001b[1;32m    570\u001b[0m \u001b[0;34m\u001b[0m\u001b[0m\n",
      "\u001b[0;32m/usr/share/anaconda3/envs/tf21/lib/python3.7/site-packages/tensorflow_core/python/keras/engine/training_v2_utils.py\u001b[0m in \u001b[0;36m_non_none_constant_value\u001b[0;34m(v)\u001b[0m\n\u001b[1;32m    128\u001b[0m \u001b[0;34m\u001b[0m\u001b[0m\n\u001b[1;32m    129\u001b[0m \u001b[0;32mdef\u001b[0m \u001b[0m_non_none_constant_value\u001b[0m\u001b[0;34m(\u001b[0m\u001b[0mv\u001b[0m\u001b[0;34m)\u001b[0m\u001b[0;34m:\u001b[0m\u001b[0;34m\u001b[0m\u001b[0;34m\u001b[0m\u001b[0m\n\u001b[0;32m--> 130\u001b[0;31m   \u001b[0mconstant_value\u001b[0m \u001b[0;34m=\u001b[0m \u001b[0mtensor_util\u001b[0m\u001b[0;34m.\u001b[0m\u001b[0mconstant_value\u001b[0m\u001b[0;34m(\u001b[0m\u001b[0mv\u001b[0m\u001b[0;34m)\u001b[0m\u001b[0;34m\u001b[0m\u001b[0;34m\u001b[0m\u001b[0m\n\u001b[0m\u001b[1;32m    131\u001b[0m   \u001b[0;32mreturn\u001b[0m \u001b[0mconstant_value\u001b[0m \u001b[0;32mif\u001b[0m \u001b[0mconstant_value\u001b[0m \u001b[0;32mis\u001b[0m \u001b[0;32mnot\u001b[0m \u001b[0;32mNone\u001b[0m \u001b[0;32melse\u001b[0m \u001b[0mv\u001b[0m\u001b[0;34m\u001b[0m\u001b[0;34m\u001b[0m\u001b[0m\n\u001b[1;32m    132\u001b[0m \u001b[0;34m\u001b[0m\u001b[0m\n",
      "\u001b[0;32m/usr/share/anaconda3/envs/tf21/lib/python3.7/site-packages/tensorflow_core/python/framework/tensor_util.py\u001b[0m in \u001b[0;36mconstant_value\u001b[0;34m(tensor, partial)\u001b[0m\n\u001b[1;32m    820\u001b[0m   \"\"\"\n\u001b[1;32m    821\u001b[0m   \u001b[0;32mif\u001b[0m \u001b[0misinstance\u001b[0m\u001b[0;34m(\u001b[0m\u001b[0mtensor\u001b[0m\u001b[0;34m,\u001b[0m \u001b[0mops\u001b[0m\u001b[0;34m.\u001b[0m\u001b[0mEagerTensor\u001b[0m\u001b[0;34m)\u001b[0m\u001b[0;34m:\u001b[0m\u001b[0;34m\u001b[0m\u001b[0;34m\u001b[0m\u001b[0m\n\u001b[0;32m--> 822\u001b[0;31m     \u001b[0;32mreturn\u001b[0m \u001b[0mtensor\u001b[0m\u001b[0;34m.\u001b[0m\u001b[0mnumpy\u001b[0m\u001b[0;34m(\u001b[0m\u001b[0;34m)\u001b[0m\u001b[0;34m\u001b[0m\u001b[0;34m\u001b[0m\u001b[0m\n\u001b[0m\u001b[1;32m    823\u001b[0m   \u001b[0;32mif\u001b[0m \u001b[0;32mnot\u001b[0m \u001b[0mis_tensor\u001b[0m\u001b[0;34m(\u001b[0m\u001b[0mtensor\u001b[0m\u001b[0;34m)\u001b[0m\u001b[0;34m:\u001b[0m\u001b[0;34m\u001b[0m\u001b[0;34m\u001b[0m\u001b[0m\n\u001b[1;32m    824\u001b[0m     \u001b[0;32mreturn\u001b[0m \u001b[0mtensor\u001b[0m\u001b[0;34m\u001b[0m\u001b[0;34m\u001b[0m\u001b[0m\n",
      "\u001b[0;32m/usr/share/anaconda3/envs/tf21/lib/python3.7/site-packages/tensorflow_core/python/framework/ops.py\u001b[0m in \u001b[0;36mnumpy\u001b[0;34m(self)\u001b[0m\n\u001b[1;32m    940\u001b[0m     \"\"\"\n\u001b[1;32m    941\u001b[0m     \u001b[0;31m# TODO(slebedev): Consider avoiding a copy for non-CPU or remote tensors.\u001b[0m\u001b[0;34m\u001b[0m\u001b[0;34m\u001b[0m\u001b[0;34m\u001b[0m\u001b[0m\n\u001b[0;32m--> 942\u001b[0;31m     \u001b[0mmaybe_arr\u001b[0m \u001b[0;34m=\u001b[0m \u001b[0mself\u001b[0m\u001b[0;34m.\u001b[0m\u001b[0m_numpy\u001b[0m\u001b[0;34m(\u001b[0m\u001b[0;34m)\u001b[0m  \u001b[0;31m# pylint: disable=protected-access\u001b[0m\u001b[0;34m\u001b[0m\u001b[0;34m\u001b[0m\u001b[0m\n\u001b[0m\u001b[1;32m    943\u001b[0m     \u001b[0;32mreturn\u001b[0m \u001b[0mmaybe_arr\u001b[0m\u001b[0;34m.\u001b[0m\u001b[0mcopy\u001b[0m\u001b[0;34m(\u001b[0m\u001b[0;34m)\u001b[0m \u001b[0;32mif\u001b[0m \u001b[0misinstance\u001b[0m\u001b[0;34m(\u001b[0m\u001b[0mmaybe_arr\u001b[0m\u001b[0;34m,\u001b[0m \u001b[0mnp\u001b[0m\u001b[0;34m.\u001b[0m\u001b[0mndarray\u001b[0m\u001b[0;34m)\u001b[0m \u001b[0;32melse\u001b[0m \u001b[0mmaybe_arr\u001b[0m\u001b[0;34m\u001b[0m\u001b[0;34m\u001b[0m\u001b[0m\n\u001b[1;32m    944\u001b[0m \u001b[0;34m\u001b[0m\u001b[0m\n",
      "\u001b[0;32m/usr/share/anaconda3/envs/tf21/lib/python3.7/site-packages/tensorflow_core/python/framework/ops.py\u001b[0m in \u001b[0;36m_numpy\u001b[0;34m(self)\u001b[0m\n\u001b[1;32m    906\u001b[0m     \u001b[0;31m# pylint: disable=protected-access\u001b[0m\u001b[0;34m\u001b[0m\u001b[0;34m\u001b[0m\u001b[0;34m\u001b[0m\u001b[0m\n\u001b[1;32m    907\u001b[0m     \u001b[0;32mtry\u001b[0m\u001b[0;34m:\u001b[0m\u001b[0;34m\u001b[0m\u001b[0;34m\u001b[0m\u001b[0m\n\u001b[0;32m--> 908\u001b[0;31m       \u001b[0;32mreturn\u001b[0m \u001b[0mself\u001b[0m\u001b[0;34m.\u001b[0m\u001b[0m_numpy_internal\u001b[0m\u001b[0;34m(\u001b[0m\u001b[0;34m)\u001b[0m\u001b[0;34m\u001b[0m\u001b[0;34m\u001b[0m\u001b[0m\n\u001b[0m\u001b[1;32m    909\u001b[0m     \u001b[0;32mexcept\u001b[0m \u001b[0mcore\u001b[0m\u001b[0;34m.\u001b[0m\u001b[0m_NotOkStatusException\u001b[0m \u001b[0;32mas\u001b[0m \u001b[0me\u001b[0m\u001b[0;34m:\u001b[0m\u001b[0;34m\u001b[0m\u001b[0;34m\u001b[0m\u001b[0m\n\u001b[1;32m    910\u001b[0m       \u001b[0msix\u001b[0m\u001b[0;34m.\u001b[0m\u001b[0mraise_from\u001b[0m\u001b[0;34m(\u001b[0m\u001b[0mcore\u001b[0m\u001b[0;34m.\u001b[0m\u001b[0m_status_to_exception\u001b[0m\u001b[0;34m(\u001b[0m\u001b[0me\u001b[0m\u001b[0;34m.\u001b[0m\u001b[0mcode\u001b[0m\u001b[0;34m,\u001b[0m \u001b[0me\u001b[0m\u001b[0;34m.\u001b[0m\u001b[0mmessage\u001b[0m\u001b[0;34m)\u001b[0m\u001b[0;34m,\u001b[0m \u001b[0;32mNone\u001b[0m\u001b[0;34m)\u001b[0m\u001b[0;34m\u001b[0m\u001b[0;34m\u001b[0m\u001b[0m\n",
      "\u001b[0;31mKeyboardInterrupt\u001b[0m: "
     ]
    }
   ],
   "source": [
    "# Setup callbacks. TQDM is used due to issues with the default progress bar on my TF2.1 installation.\n",
    "early_stopping = EarlyStopping(patience=10, restore_best_weights=True)\n",
    "tqdm_callback = TQDMProgressBar()\n",
    "checkpoint = ModelCheckpoint(modelpath, save_best_only=True)\n",
    "\n",
    "model.compile(optimizer=Adam(0.0001), loss=\"mae\")\n",
    "history = model.fit(\n",
    "    X,\n",
    "    Y,\n",
    "    batch_size=32,\n",
    "    epochs=100,\n",
    "    validation_split=0.2,\n",
    "    verbose=0,\n",
    "    callbacks=[early_stopping, tqdm_callback, checkpoint],\n",
    ")\n",
    "model.save(modelpath)"
   ]
  },
  {
   "cell_type": "code",
   "execution_count": 14,
   "metadata": {},
   "outputs": [
    {
     "data": {
      "image/png": "[encoded data removed]",
      "text/plain": [
       "<Figure size 864x288 with 3 Axes>"
      ]
     },
     "metadata": {
      "needs_background": "light"
     },
     "output_type": "display_data"
    }
   ],
   "source": [
    "# Plot the results\n",
    "pred = model.predict(X[np.newaxis, 0])[0]\n",
    "\n",
    "fig, ax = plt.subplots(1, 3, figsize=(12, 4), tight_layout=True)\n",
    "ax[0].imshow(X[0].reshape(64, 64))\n",
    "ax[0].set_title(\"Original Noisy Image\")\n",
    "ax[1].imshow(pred.reshape(64, 64))\n",
    "ax[1].set_title(\"Denoised Image\")\n",
    "ax[2].imshow(Y[0].reshape(64, 64))\n",
    "ax[2].set_title(\"Original Noiseless Image\");"
   ]
  },
  {
   "cell_type": "code",
   "execution_count": 17,
   "metadata": {},
   "outputs": [
    {
     "data": {
      "image/png": "[encoded data removed]",
      "text/plain": [
       "<Figure size 576x288 with 2 Axes>"
      ]
     },
     "metadata": {
      "needs_background": "light"
     },
     "output_type": "display_data"
    }
   ],
   "source": [
    "fig, ax = plt.subplots(1, 2, figsize=(8, 4), tight_layout=True)\n",
    "ax[0].imshow(np.exp(pred).reshape(64, 64) - 1)\n",
    "ax[0].set_title(\"Denoised Image (Exponentiated)\")\n",
    "ax[1].imshow(np.exp(Y[0]).reshape(64, 64) - 1)\n",
    "ax[1].set_title(\"Original Noiseless Image (Exponentiated)\");"
   ]
  },
  {
   "cell_type": "code",
   "execution_count": null,
   "metadata": {},
   "outputs": [],
   "source": [
    "# lr=0.0001 \n",
    "# adam = Adam(lr=lr, beta_1=0.9, beta_2=0.999, epsilon=None, decay=lr / 2, amsgrad=False)\n",
    "\n",
    "#     ## multi gpu setting\n",
    "\n",
    "#     # if gpu < 0:\n",
    "#     # model = multi_gpu_model(model, gpus=2)\n",
    "#     ## Modification of adding PSNR as a loss factor\n",
    "#     model.compile(loss=self.L1_loss, optimizer=adam, metrics=[PSNRLoss, SSIM])"
   ]
  }
 ],
 "metadata": {
  "kernelspec": {
   "display_name": "Python (TF2.1)",
   "language": "python",
   "name": "tf21"
  },
  "language_info": {
   "codemirror_mode": {
    "name": "ipython",
    "version": 3
   },
   "file_extension": ".py",
   "mimetype": "text/x-python",
   "name": "python",
   "nbconvert_exporter": "python",
   "pygments_lexer": "ipython3",
   "version": "3.7.6"
  },
  "widgets": {
   "application/vnd.jupyter.widget-state+json": {
    "state": {
     "0051d8208916434eb9eb762557670f2e": {
      "model_module": "@jupyter-widgets/base",
      "model_module_version": "1.2.0",
      "model_name": "LayoutModel",
      "state": {
       "_model_module_version": "1.2.0",
       "_view_module_version": "1.2.0",
       "display": "inline-flex",
       "flex_flow": "row wrap",
       "justify_items": null,
       "object_fit": null,
       "object_position": null,
       "width": "100%"
      }
     },
     "0082c454f33c4b8f88d15d963f8bafd0": {
      "model_module": "@jupyter-widgets/base",
      "model_module_version": "1.2.0",
      "model_name": "LayoutModel",
      "state": {
       "_model_module_version": "1.2.0",
       "_view_module_version": "1.2.0",
       "display": "inline-flex",
       "flex_flow": "row wrap",
       "justify_items": null,
       "object_fit": null,
       "object_position": null,
       "width": "100%"
      }
     },
     "020352bb1d5b44528f45462ea7ae5c53": {
      "model_module": "@jupyter-widgets/controls",
      "model_module_version": "1.5.0",
      "model_name": "DescriptionStyleModel",
      "state": {
       "_model_module_version": "1.5.0",
       "_view_module_version": "1.2.0",
       "description_width": ""
      }
     },
     "0234ab86b24c4c6baffa79269e3bf99c": {
      "model_module": "@jupyter-widgets/controls",
      "model_module_version": "1.5.0",
      "model_name": "HTMLModel",
      "state": {
       "_model_module_version": "1.5.0",
       "_view_module_version": "1.5.0",
       "layout": "IPY_MODEL_1fe86c26a4db45d9835c18cc05787ac5",
       "style": "IPY_MODEL_0e892b251ae4431899eef73b7e9ea704",
       "value": " ETA: 00:00s - loss: 0.2067 - val_loss: 0.2071"
      }
     },
     "0254de18b5c4428788b75cce1fb9b93a": {
      "model_module": "@jupyter-widgets/controls",
      "model_module_version": "1.5.0",
      "model_name": "ProgressStyleModel",
      "state": {
       "_model_module_version": "1.5.0",
       "_view_module_version": "1.2.0",
       "description_width": "initial"
      }
     },
     "02b8707a114c4eacbded6d5fdf97cdf2": {
      "model_module": "@jupyter-widgets/controls",
      "model_module_version": "1.5.0",
      "model_name": "DescriptionStyleModel",
      "state": {
       "_model_module_version": "1.5.0",
       "_view_module_version": "1.2.0",
       "description_width": ""
      }
     },
     "03b9703ee29e40d297672ee140b1bce8": {
      "model_module": "@jupyter-widgets/controls",
      "model_module_version": "1.5.0",
      "model_name": "DescriptionStyleModel",
      "state": {
       "_model_module_version": "1.5.0",
       "_view_module_version": "1.2.0",
       "description_width": ""
      }
     },
     "03de675620454f7da48d9baa06d057ca": {
      "model_module": "@jupyter-widgets/base",
      "model_module_version": "1.2.0",
      "model_name": "LayoutModel",
      "state": {
       "_model_module_version": "1.2.0",
       "_view_module_version": "1.2.0",
       "justify_items": null,
       "object_fit": null,
       "object_position": null
      }
     },
     "044b5df109034c048d2648aeed4f3ef0": {
      "model_module": "@jupyter-widgets/base",
      "model_module_version": "1.2.0",
      "model_name": "LayoutModel",
      "state": {
       "_model_module_version": "1.2.0",
       "_view_module_version": "1.2.0",
       "justify_items": null,
       "object_fit": null,
       "object_position": null
      }
     },
     "04bdca47261b432785e5b779198a40a9": {
      "model_module": "@jupyter-widgets/controls",
      "model_module_version": "1.5.0",
      "model_name": "FloatProgressModel",
      "state": {
       "_model_module_version": "1.5.0",
       "_view_module_version": "1.5.0",
       "bar_style": "success",
       "description": "500/500",
       "layout": "IPY_MODEL_680e7b66348e43c0a02037de13a9d6b7",
       "max": 500,
       "style": "IPY_MODEL_297ff219576c4c56913c0e46a218e62a",
       "value": 500
      }
     },
     "04dd203fec8c47bbbdac33e06869de1c": {
      "model_module": "@jupyter-widgets/controls",
      "model_module_version": "1.5.0",
      "model_name": "FloatProgressModel",
      "state": {
       "_model_module_version": "1.5.0",
       "_view_module_version": "1.5.0",
       "bar_style": "success",
       "description": "500/500",
       "layout": "IPY_MODEL_faba4304fcca4bbf84d167380cd0a3fb",
       "max": 500,
       "style": "IPY_MODEL_1d2415b2975045809d818bc12df06392",
       "value": 500
      }
     },
     "04e00209347045dabd77e0fcec6711f4": {
      "model_module": "@jupyter-widgets/controls",
      "model_module_version": "1.5.0",
      "model_name": "HBoxModel",
      "state": {
       "_model_module_version": "1.5.0",
       "_view_module_version": "1.5.0",
       "children": [
        "IPY_MODEL_b4f7fe797a16447fa156b788a5f5e744",
        "IPY_MODEL_0c51d361c47946548d190b86f3f3e7a0"
       ],
       "layout": "IPY_MODEL_286e9a6f064e46a1b4c765af8246fbfb"
      }
     },
     "06253ea58a304fc4a1fe0ac6a02b00f0": {
      "model_module": "@jupyter-widgets/base",
      "model_module_version": "1.2.0",
      "model_name": "LayoutModel",
      "state": {
       "_model_module_version": "1.2.0",
       "_view_module_version": "1.2.0",
       "flex": "2",
       "justify_items": null,
       "object_fit": null,
       "object_position": null
      }
     },
     "0639294818c54b778cd2628d654e8f51": {
      "model_module": "@jupyter-widgets/controls",
      "model_module_version": "1.5.0",
      "model_name": "DescriptionStyleModel",
      "state": {
       "_model_module_version": "1.5.0",
       "_view_module_version": "1.2.0",
       "description_width": ""
      }
     },
     "06a9495694c84e808c0b19f650f7494a": {
      "model_module": "@jupyter-widgets/base",
      "model_module_version": "1.2.0",
      "model_name": "LayoutModel",
      "state": {
       "_model_module_version": "1.2.0",
       "_view_module_version": "1.2.0",
       "flex": "2",
       "justify_items": null,
       "object_fit": null,
       "object_position": null
      }
     },
     "06ff7a0100f44c039b6dd12468a1cb9d": {
      "model_module": "@jupyter-widgets/base",
      "model_module_version": "1.2.0",
      "model_name": "LayoutModel",
      "state": {
       "_model_module_version": "1.2.0",
       "_view_module_version": "1.2.0",
       "display": "inline-flex",
       "flex_flow": "row wrap",
       "justify_items": null,
       "object_fit": null,
       "object_position": null,
       "width": "100%"
      }
     },
     "0780625417984e4bb937369f829f2c20": {
      "model_module": "@jupyter-widgets/controls",
      "model_module_version": "1.5.0",
      "model_name": "HTMLModel",
      "state": {
       "_model_module_version": "1.5.0",
       "_view_module_version": "1.5.0",
       "layout": "IPY_MODEL_d3edcf3883334a098f5b7836a6097377",
       "style": "IPY_MODEL_25db4019329542e7b0fafb961fe06360",
       "value": " ETA: 00:00s - loss: 0.2025 - val_loss: 0.2037"
      }
     },
     "0793f7b51f7a4990b28982eb2e975caa": {
      "model_module": "@jupyter-widgets/base",
      "model_module_version": "1.2.0",
      "model_name": "LayoutModel",
      "state": {
       "_model_module_version": "1.2.0",
       "_view_module_version": "1.2.0",
       "display": "inline-flex",
       "flex_flow": "row wrap",
       "justify_items": null,
       "object_fit": null,
       "object_position": null,
       "width": "100%"
      }
     },
     "0817a1f34c654055a9ef08c333a244ca": {
      "model_module": "@jupyter-widgets/controls",
      "model_module_version": "1.5.0",
      "model_name": "ProgressStyleModel",
      "state": {
       "_model_module_version": "1.5.0",
       "_view_module_version": "1.2.0",
       "description_width": "initial"
      }
     },
     "0939e3ce742646c8a2817b04a9b81ff8": {
      "model_module": "@jupyter-widgets/base",
      "model_module_version": "1.2.0",
      "model_name": "LayoutModel",
      "state": {
       "_model_module_version": "1.2.0",
       "_view_module_version": "1.2.0",
       "display": "inline-flex",
       "flex_flow": "row wrap",
       "justify_items": null,
       "object_fit": null,
       "object_position": null,
       "width": "100%"
      }
     },
     "095d83cc3ada423f80c2017670bf6f65": {
      "model_module": "@jupyter-widgets/controls",
      "model_module_version": "1.5.0",
      "model_name": "ProgressStyleModel",
      "state": {
       "_model_module_version": "1.5.0",
       "_view_module_version": "1.2.0",
       "description_width": "initial"
      }
     },
     "095d96be4b6c408da681d13bc874b007": {
      "model_module": "@jupyter-widgets/controls",
      "model_module_version": "1.5.0",
      "model_name": "ProgressStyleModel",
      "state": {
       "_model_module_version": "1.5.0",
       "_view_module_version": "1.2.0",
       "description_width": "initial"
      }
     },
     "0967b0bb8d0e4cc59398634f39fff6a3": {
      "model_module": "@jupyter-widgets/controls",
      "model_module_version": "1.5.0",
      "model_name": "HTMLModel",
      "state": {
       "_model_module_version": "1.5.0",
       "_view_module_version": "1.5.0",
       "layout": "IPY_MODEL_c4361026d6aa49a6b8336ba585bd35c3",
       "style": "IPY_MODEL_aceeada83ccd4b20b32e1a2bb13e632e",
       "value": " ETA: 00:00s - loss: 0.2274 - val_loss: 0.2302"
      }
     },
     "09b615f79ffe48369975d6c977042c90": {
      "model_module": "@jupyter-widgets/controls",
      "model_module_version": "1.5.0",
      "model_name": "FloatProgressModel",
      "state": {
       "_model_module_version": "1.5.0",
       "_view_module_version": "1.5.0",
       "bar_style": "success",
       "description": "500/500",
       "layout": "IPY_MODEL_e7477ee65ea74fc4acca001629954b4b",
       "max": 500,
       "style": "IPY_MODEL_4ae86d768f2f44e29c94aebabc5322fd",
       "value": 500
      }
     },
     "0bd9feddec3c42609ad4c3be44a75999": {
      "model_module": "@jupyter-widgets/controls",
      "model_module_version": "1.5.0",
      "model_name": "FloatProgressModel",
      "state": {
       "_model_module_version": "1.5.0",
       "_view_module_version": "1.5.0",
       "bar_style": "success",
       "description": "500/500",
       "layout": "IPY_MODEL_369c0f22b6b74876923d7c54d63a4afd",
       "max": 500,
       "style": "IPY_MODEL_ca790d2997b04343b11ab41a62b62977",
       "value": 500
      }
     },
     "0c3bea246c494f4c9b0d49c53924de9d": {
      "model_module": "@jupyter-widgets/controls",
      "model_module_version": "1.5.0",
      "model_name": "HTMLModel",
      "state": {
       "_model_module_version": "1.5.0",
       "_view_module_version": "1.5.0",
       "layout": "IPY_MODEL_62776df549be4db59ef02f0b73423a3f",
       "style": "IPY_MODEL_0639294818c54b778cd2628d654e8f51",
       "value": " ETA: 00:00s - loss: 0.3451 - val_loss: 0.3223"
      }
     },
     "0c41f4fedccb4b818d57f7b13e31fd6e": {
      "model_module": "@jupyter-widgets/controls",
      "model_module_version": "1.5.0",
      "model_name": "HTMLModel",
      "state": {
       "_model_module_version": "1.5.0",
       "_view_module_version": "1.5.0",
       "layout": "IPY_MODEL_1af2b312fe6c420d8d0fc8aad9952083",
       "style": "IPY_MODEL_8174f6589a934e3fa3875448c253be18",
       "value": " ETA: 00:00s - loss: 0.2048 - val_loss: 0.2182"
      }
     },
     "0c51d361c47946548d190b86f3f3e7a0": {
      "model_module": "@jupyter-widgets/controls",
      "model_module_version": "1.5.0",
      "model_name": "HTMLModel",
      "state": {
       "_model_module_version": "1.5.0",
       "_view_module_version": "1.5.0",
       "layout": "IPY_MODEL_b71caf0683b343f985cf6dd31fe86277",
       "style": "IPY_MODEL_a81c252a62534a56848a7907285fa1d8",
       "value": " ETA: 00:00s - loss: 0.2064 - val_loss: 0.2060"
      }
     },
     "0c6d9a8690c740818e104b8a5ee3d708": {
      "model_module": "@jupyter-widgets/controls",
      "model_module_version": "1.5.0",
      "model_name": "HTMLModel",
      "state": {
       "_model_module_version": "1.5.0",
       "_view_module_version": "1.5.0",
       "layout": "IPY_MODEL_99c32b0418ce47f2b9034b2a05633eab",
       "style": "IPY_MODEL_cdeed1aacfa349429658befb096fd6fc",
       "value": " ETA: 00:00s - loss: 0.2056 - val_loss: 0.2100"
      }
     },
     "0c8c196268d741c58591a7fe9e670d32": {
      "model_module": "@jupyter-widgets/controls",
      "model_module_version": "1.5.0",
      "model_name": "ProgressStyleModel",
      "state": {
       "_model_module_version": "1.5.0",
       "_view_module_version": "1.2.0",
       "description_width": "initial"
      }
     },
     "0c8c5bf1596447c1be0a69390f748959": {
      "model_module": "@jupyter-widgets/controls",
      "model_module_version": "1.5.0",
      "model_name": "HTMLModel",
      "state": {
       "_model_module_version": "1.5.0",
       "_view_module_version": "1.5.0",
       "layout": "IPY_MODEL_3d83848f220e41ecae3c305a2cb2458e",
       "style": "IPY_MODEL_03b9703ee29e40d297672ee140b1bce8",
       "value": " ETA: 00:00s - loss: 0.2084 - val_loss: 0.2117"
      }
     },
     "0d2ddad7ffa745a8a0a523bcfe6a4b15": {
      "model_module": "@jupyter-widgets/controls",
      "model_module_version": "1.5.0",
      "model_name": "FloatProgressModel",
      "state": {
       "_model_module_version": "1.5.0",
       "_view_module_version": "1.5.0",
       "bar_style": "success",
       "description": "500/500",
       "layout": "IPY_MODEL_9cf418e490d74db4844c7ced49b40d8f",
       "max": 500,
       "style": "IPY_MODEL_c7cfe62d81e44a08b7749730aff907c7",
       "value": 500
      }
     },
     "0d710b52f7614e08bc136a067430e632": {
      "model_module": "@jupyter-widgets/base",
      "model_module_version": "1.2.0",
      "model_name": "LayoutModel",
      "state": {
       "_model_module_version": "1.2.0",
       "_view_module_version": "1.2.0",
       "justify_items": null,
       "object_fit": null,
       "object_position": null
      }
     },
     "0e3c2efdb6b84703a3f515cc8203e96d": {
      "model_module": "@jupyter-widgets/base",
      "model_module_version": "1.2.0",
      "model_name": "LayoutModel",
      "state": {
       "_model_module_version": "1.2.0",
       "_view_module_version": "1.2.0",
       "flex": "2",
       "justify_items": null,
       "object_fit": null,
       "object_position": null
      }
     },
     "0e892b251ae4431899eef73b7e9ea704": {
      "model_module": "@jupyter-widgets/controls",
      "model_module_version": "1.5.0",
      "model_name": "DescriptionStyleModel",
      "state": {
       "_model_module_version": "1.5.0",
       "_view_module_version": "1.2.0",
       "description_width": ""
      }
     },
     "0f777d0e50b24a4dba22b0afd7e9a444": {
      "model_module": "@jupyter-widgets/controls",
      "model_module_version": "1.5.0",
      "model_name": "FloatProgressModel",
      "state": {
       "_model_module_version": "1.5.0",
       "_view_module_version": "1.5.0",
       "bar_style": "success",
       "description": "500/500",
       "layout": "IPY_MODEL_aad1759fd67441479a0ac4f5ae37cd61",
       "max": 500,
       "style": "IPY_MODEL_71e54830c08442e7a35209de9e1dced9",
       "value": 500
      }
     },
     "0f8656473d1f4e64897f8270f5fdc10c": {
      "model_module": "@jupyter-widgets/controls",
      "model_module_version": "1.5.0",
      "model_name": "DescriptionStyleModel",
      "state": {
       "_model_module_version": "1.5.0",
       "_view_module_version": "1.2.0",
       "description_width": ""
      }
     },
     "0f9a4b5007d247808acdf3950eba1914": {
      "model_module": "@jupyter-widgets/controls",
      "model_module_version": "1.5.0",
      "model_name": "HBoxModel",
      "state": {
       "_model_module_version": "1.5.0",
       "_view_module_version": "1.5.0",
       "children": [
        "IPY_MODEL_baa87f75faf34aef81f994df9108eaa5",
        "IPY_MODEL_9f561fb791fe4dc0975035a54965de53"
       ],
       "layout": "IPY_MODEL_8341936ad0c44acc9968e52587c6de07"
      }
     },
     "109e1f6d22f749978236c0f30cd67936": {
      "model_module": "@jupyter-widgets/controls",
      "model_module_version": "1.5.0",
      "model_name": "DescriptionStyleModel",
      "state": {
       "_model_module_version": "1.5.0",
       "_view_module_version": "1.2.0",
       "description_width": ""
      }
     },
     "11758eb6f2594890b928a86aa1011902": {
      "model_module": "@jupyter-widgets/controls",
      "model_module_version": "1.5.0",
      "model_name": "DescriptionStyleModel",
      "state": {
       "_model_module_version": "1.5.0",
       "_view_module_version": "1.2.0",
       "description_width": ""
      }
     },
     "117e7bfb95e44ac98c933ba70ed76aac": {
      "model_module": "@jupyter-widgets/base",
      "model_module_version": "1.2.0",
      "model_name": "LayoutModel",
      "state": {
       "_model_module_version": "1.2.0",
       "_view_module_version": "1.2.0",
       "flex": "2",
       "justify_items": null,
       "object_fit": null,
       "object_position": null
      }
     },
     "11b1e185bdef43b5b7918a4a03c5fe88": {
      "model_module": "@jupyter-widgets/base",
      "model_module_version": "1.2.0",
      "model_name": "LayoutModel",
      "state": {
       "_model_module_version": "1.2.0",
       "_view_module_version": "1.2.0",
       "flex": "2",
       "justify_items": null,
       "object_fit": null,
       "object_position": null
      }
     },
     "11e990fd6ca848b5a9400fdad7bb21ba": {
      "model_module": "@jupyter-widgets/controls",
      "model_module_version": "1.5.0",
      "model_name": "DescriptionStyleModel",
      "state": {
       "_model_module_version": "1.5.0",
       "_view_module_version": "1.2.0",
       "description_width": ""
      }
     },
     "1306e213effe419a8ed8e5f45d1b1d6b": {
      "model_module": "@jupyter-widgets/base",
      "model_module_version": "1.2.0",
      "model_name": "LayoutModel",
      "state": {
       "_model_module_version": "1.2.0",
       "_view_module_version": "1.2.0",
       "display": "inline-flex",
       "flex_flow": "row wrap",
       "justify_items": null,
       "object_fit": null,
       "object_position": null,
       "width": "100%"
      }
     },
     "1337a2d16ef449e1ba79e17e770e3e7e": {
      "model_module": "@jupyter-widgets/controls",
      "model_module_version": "1.5.0",
      "model_name": "HBoxModel",
      "state": {
       "_model_module_version": "1.5.0",
       "_view_module_version": "1.5.0",
       "children": [
        "IPY_MODEL_dff1493e3ddc43ad86f6ffa2e977b711",
        "IPY_MODEL_a01c71b1968e40d094b58ef6e821d8f9"
       ],
       "layout": "IPY_MODEL_207d6bc2c66b4b19989446d403e4daac"
      }
     },
     "1341f6b04d0f41478afdde15db56a68d": {
      "model_module": "@jupyter-widgets/base",
      "model_module_version": "1.2.0",
      "model_name": "LayoutModel",
      "state": {
       "_model_module_version": "1.2.0",
       "_view_module_version": "1.2.0",
       "display": "inline-flex",
       "flex_flow": "row wrap",
       "justify_items": null,
       "object_fit": null,
       "object_position": null,
       "width": "100%"
      }
     },
     "135af8810e9d408d884efe3bb3807fc5": {
      "model_module": "@jupyter-widgets/base",
      "model_module_version": "1.2.0",
      "model_name": "LayoutModel",
      "state": {
       "_model_module_version": "1.2.0",
       "_view_module_version": "1.2.0",
       "flex": "2",
       "justify_items": null,
       "object_fit": null,
       "object_position": null
      }
     },
     "1361c755f1f848dd8ee31ae99e514ec3": {
      "model_module": "@jupyter-widgets/controls",
      "model_module_version": "1.5.0",
      "model_name": "ProgressStyleModel",
      "state": {
       "_model_module_version": "1.5.0",
       "_view_module_version": "1.2.0",
       "description_width": "initial"
      }
     },
     "136b860bee4d43239c85ab01efe09d4b": {
      "model_module": "@jupyter-widgets/controls",
      "model_module_version": "1.5.0",
      "model_name": "HBoxModel",
      "state": {
       "_model_module_version": "1.5.0",
       "_view_module_version": "1.5.0",
       "children": [
        "IPY_MODEL_09b615f79ffe48369975d6c977042c90",
        "IPY_MODEL_9ef583dd697b4a61a299ce1afa08ac42"
       ],
       "layout": "IPY_MODEL_770e377eef7c40f693a6397879ae88c6"
      }
     },
     "136c76b32c6540888787f540689f15a8": {
      "model_module": "@jupyter-widgets/controls",
      "model_module_version": "1.5.0",
      "model_name": "FloatProgressModel",
      "state": {
       "_model_module_version": "1.5.0",
       "_view_module_version": "1.5.0",
       "bar_style": "success",
       "description": "500/500",
       "layout": "IPY_MODEL_5cf3c0ce69dd47a08763727d9e5099f2",
       "max": 500,
       "style": "IPY_MODEL_ad63ade980e048baaeb85e73bad0e02f",
       "value": 500
      }
     },
     "1389099527a84546966b3230bca571f8": {
      "model_module": "@jupyter-widgets/base",
      "model_module_version": "1.2.0",
      "model_name": "LayoutModel",
      "state": {
       "_model_module_version": "1.2.0",
       "_view_module_version": "1.2.0",
       "flex": "2",
       "justify_items": null,
       "object_fit": null,
       "object_position": null
      }
     },
     "1412a08e8c2f459191fb1ecd85097438": {
      "model_module": "@jupyter-widgets/controls",
      "model_module_version": "1.5.0",
      "model_name": "HBoxModel",
      "state": {
       "_model_module_version": "1.5.0",
       "_view_module_version": "1.5.0",
       "children": [
        "IPY_MODEL_c6a8cb8a03c742ae95fe2a9ffffd9ca5",
        "IPY_MODEL_f6074e8af6934d9f93c414cbb2d409ea"
       ],
       "layout": "IPY_MODEL_f0cd3c3f2f504798b68f1451500e675d"
      }
     },
     "1435ae083c6c405c85973c4d8240083f": {
      "model_module": "@jupyter-widgets/controls",
      "model_module_version": "1.5.0",
      "model_name": "HBoxModel",
      "state": {
       "_model_module_version": "1.5.0",
       "_view_module_version": "1.5.0",
       "children": [
        "IPY_MODEL_184ee8e90618458895c1ff78569c620d",
        "IPY_MODEL_3a68331c657d43488b80ea761d471079"
       ],
       "layout": "IPY_MODEL_65f70ed528cb4759b57ac16b0b3206ba"
      }
     },
     "144d3037fad24a72b54d8b30dce76ab1": {
      "model_module": "@jupyter-widgets/base",
      "model_module_version": "1.2.0",
      "model_name": "LayoutModel",
      "state": {
       "_model_module_version": "1.2.0",
       "_view_module_version": "1.2.0",
       "justify_items": null,
       "object_fit": null,
       "object_position": null
      }
     },
     "14720c75dcd34124a46711ee76775c86": {
      "model_module": "@jupyter-widgets/base",
      "model_module_version": "1.2.0",
      "model_name": "LayoutModel",
      "state": {
       "_model_module_version": "1.2.0",
       "_view_module_version": "1.2.0",
       "justify_items": null,
       "object_fit": null,
       "object_position": null
      }
     },
     "14779458e5594123b06e0a0350cd46d2": {
      "model_module": "@jupyter-widgets/controls",
      "model_module_version": "1.5.0",
      "model_name": "DescriptionStyleModel",
      "state": {
       "_model_module_version": "1.5.0",
       "_view_module_version": "1.2.0",
       "description_width": ""
      }
     },
     "15194acf0662441e9cb40e542d868a66": {
      "model_module": "@jupyter-widgets/controls",
      "model_module_version": "1.5.0",
      "model_name": "ProgressStyleModel",
      "state": {
       "_model_module_version": "1.5.0",
       "_view_module_version": "1.2.0",
       "description_width": "initial"
      }
     },
     "152e61a9a3cc4063babe403babd26f22": {
      "model_module": "@jupyter-widgets/controls",
      "model_module_version": "1.5.0",
      "model_name": "HBoxModel",
      "state": {
       "_model_module_version": "1.5.0",
       "_view_module_version": "1.5.0",
       "children": [
        "IPY_MODEL_0d2ddad7ffa745a8a0a523bcfe6a4b15",
        "IPY_MODEL_98798d80200a453b83ed8918c877e76f"
       ],
       "layout": "IPY_MODEL_acda3f6fb8704c4093fa55ed22fd15ba"
      }
     },
     "1551d8dbaef94db2a25c79b510eb99b4": {
      "model_module": "@jupyter-widgets/controls",
      "model_module_version": "1.5.0",
      "model_name": "FloatProgressModel",
      "state": {
       "_model_module_version": "1.5.0",
       "_view_module_version": "1.5.0",
       "bar_style": "success",
       "description": "500/500",
       "layout": "IPY_MODEL_5ad62ff07ce042c6a8a9985a54737efc",
       "max": 500,
       "style": "IPY_MODEL_bfcc67eeb6d045f09fe5e8558f0aaba8",
       "value": 500
      }
     },
     "159c909a8348471d929250613aefbd31": {
      "model_module": "@jupyter-widgets/controls",
      "model_module_version": "1.5.0",
      "model_name": "DescriptionStyleModel",
      "state": {
       "_model_module_version": "1.5.0",
       "_view_module_version": "1.2.0",
       "description_width": ""
      }
     },
     "15e9699f12fe4062a082db29bf33c1eb": {
      "model_module": "@jupyter-widgets/controls",
      "model_module_version": "1.5.0",
      "model_name": "HTMLModel",
      "state": {
       "_model_module_version": "1.5.0",
       "_view_module_version": "1.5.0",
       "layout": "IPY_MODEL_f29bd8c860ec4d23a6e76fd902c0c7fa",
       "style": "IPY_MODEL_14779458e5594123b06e0a0350cd46d2",
       "value": " ETA: 00:00s - loss: 0.2231 - val_loss: 0.2313"
      }
     },
     "16136e33b68240a095a1221689434888": {
      "model_module": "@jupyter-widgets/base",
      "model_module_version": "1.2.0",
      "model_name": "LayoutModel",
      "state": {
       "_model_module_version": "1.2.0",
       "_view_module_version": "1.2.0",
       "display": "inline-flex",
       "flex_flow": "row wrap",
       "justify_items": null,
       "object_fit": null,
       "object_position": null,
       "width": "100%"
      }
     },
     "16577541743f42cc933bc6e8629e0af6": {
      "model_module": "@jupyter-widgets/controls",
      "model_module_version": "1.5.0",
      "model_name": "ProgressStyleModel",
      "state": {
       "_model_module_version": "1.5.0",
       "_view_module_version": "1.2.0",
       "description_width": "initial"
      }
     },
     "1759b52fb4a0496e852a306bb4f1e867": {
      "model_module": "@jupyter-widgets/base",
      "model_module_version": "1.2.0",
      "model_name": "LayoutModel",
      "state": {
       "_model_module_version": "1.2.0",
       "_view_module_version": "1.2.0",
       "flex": "2",
       "justify_items": null,
       "object_fit": null,
       "object_position": null
      }
     },
     "17c953df1a0444f5b29be165d5c100af": {
      "model_module": "@jupyter-widgets/controls",
      "model_module_version": "1.5.0",
      "model_name": "ProgressStyleModel",
      "state": {
       "_model_module_version": "1.5.0",
       "_view_module_version": "1.2.0",
       "description_width": "initial"
      }
     },
     "184bb627c99048d0a9daa26543c4db31": {
      "model_module": "@jupyter-widgets/controls",
      "model_module_version": "1.5.0",
      "model_name": "HBoxModel",
      "state": {
       "_model_module_version": "1.5.0",
       "_view_module_version": "1.5.0",
       "children": [
        "IPY_MODEL_2dae04e7959845cc9fbb358f6544f03f",
        "IPY_MODEL_99a1193cc7f94688a89fc5a05ebe8cb2"
       ],
       "layout": "IPY_MODEL_cfa82eead2cd4e3c93e20948bb1f0734"
      }
     },
     "184ee8e90618458895c1ff78569c620d": {
      "model_module": "@jupyter-widgets/controls",
      "model_module_version": "1.5.0",
      "model_name": "FloatProgressModel",
      "state": {
       "_model_module_version": "1.5.0",
       "_view_module_version": "1.5.0",
       "bar_style": "success",
       "description": "500/500",
       "layout": "IPY_MODEL_6c9244bc7a85497b969a369b5684652b",
       "max": 500,
       "style": "IPY_MODEL_604ee31f55ff4cd38fc126f5a52ea385",
       "value": 500
      }
     },
     "18fa1fbbe19b4a6bbf03b99508977403": {
      "model_module": "@jupyter-widgets/base",
      "model_module_version": "1.2.0",
      "model_name": "LayoutModel",
      "state": {
       "_model_module_version": "1.2.0",
       "_view_module_version": "1.2.0",
       "display": "inline-flex",
       "flex_flow": "row wrap",
       "justify_items": null,
       "object_fit": null,
       "object_position": null,
       "width": "100%"
      }
     },
     "19114fa5cbb14fbe8c85b697b4818baa": {
      "model_module": "@jupyter-widgets/base",
      "model_module_version": "1.2.0",
      "model_name": "LayoutModel",
      "state": {
       "_model_module_version": "1.2.0",
       "_view_module_version": "1.2.0",
       "justify_items": null,
       "object_fit": null,
       "object_position": null
      }
     },
     "19ac7dc539f94147960215d187cb536a": {
      "model_module": "@jupyter-widgets/controls",
      "model_module_version": "1.5.0",
      "model_name": "HBoxModel",
      "state": {
       "_model_module_version": "1.5.0",
       "_view_module_version": "1.5.0",
       "children": [
        "IPY_MODEL_685c0af36a7f4400b635267a4bfa6ac5",
        "IPY_MODEL_fb8aed554e224b85a2d4e04276849b52"
       ],
       "layout": "IPY_MODEL_3b179644dbd944528f13f28c80b61b8b"
      }
     },
     "1a8b508818ae450d9a9ceb7c2e391e38": {
      "model_module": "@jupyter-widgets/base",
      "model_module_version": "1.2.0",
      "model_name": "LayoutModel",
      "state": {
       "_model_module_version": "1.2.0",
       "_view_module_version": "1.2.0",
       "flex": "2",
       "justify_items": null,
       "object_fit": null,
       "object_position": null
      }
     },
     "1ab41c42e94a4468a7de44f0bd16e30b": {
      "model_module": "@jupyter-widgets/controls",
      "model_module_version": "1.5.0",
      "model_name": "HTMLModel",
      "state": {
       "_model_module_version": "1.5.0",
       "_view_module_version": "1.5.0",
       "layout": "IPY_MODEL_6356b41dcba5411993988e3839c350ac",
       "style": "IPY_MODEL_d0b2b02b9ff043088286114584aebea9",
       "value": " ETA: 00:00s - loss: 0.2509 - val_loss: 0.2466"
      }
     },
     "1af2b312fe6c420d8d0fc8aad9952083": {
      "model_module": "@jupyter-widgets/base",
      "model_module_version": "1.2.0",
      "model_name": "LayoutModel",
      "state": {
       "_model_module_version": "1.2.0",
       "_view_module_version": "1.2.0",
       "justify_items": null,
       "object_fit": null,
       "object_position": null
      }
     },
     "1b3efa4a25fc435d874050a448bcf534": {
      "model_module": "@jupyter-widgets/controls",
      "model_module_version": "1.5.0",
      "model_name": "ProgressStyleModel",
      "state": {
       "_model_module_version": "1.5.0",
       "_view_module_version": "1.2.0",
       "description_width": "initial"
      }
     },
     "1bae8d49cebd43eabef0691626becded": {
      "model_module": "@jupyter-widgets/base",
      "model_module_version": "1.2.0",
      "model_name": "LayoutModel",
      "state": {
       "_model_module_version": "1.2.0",
       "_view_module_version": "1.2.0",
       "display": "inline-flex",
       "flex_flow": "row wrap",
       "justify_items": null,
       "object_fit": null,
       "object_position": null,
       "width": "100%"
      }
     },
     "1bcbe51ce2fd44bd9e0ee5b2433f934b": {
      "model_module": "@jupyter-widgets/base",
      "model_module_version": "1.2.0",
      "model_name": "LayoutModel",
      "state": {
       "_model_module_version": "1.2.0",
       "_view_module_version": "1.2.0",
       "display": "inline-flex",
       "flex_flow": "row wrap",
       "justify_items": null,
       "object_fit": null,
       "object_position": null,
       "width": "100%"
      }
     },
     "1be5d33b8149445fbb4636db2eea80df": {
      "model_module": "@jupyter-widgets/base",
      "model_module_version": "1.2.0",
      "model_name": "LayoutModel",
      "state": {
       "_model_module_version": "1.2.0",
       "_view_module_version": "1.2.0",
       "display": "inline-flex",
       "flex_flow": "row wrap",
       "justify_items": null,
       "object_fit": null,
       "object_position": null,
       "width": "100%"
      }
     },
     "1c39bc8e5fe441de8ea4513a0ddb9e23": {
      "model_module": "@jupyter-widgets/base",
      "model_module_version": "1.2.0",
      "model_name": "LayoutModel",
      "state": {
       "_model_module_version": "1.2.0",
       "_view_module_version": "1.2.0",
       "display": "inline-flex",
       "flex_flow": "row wrap",
       "justify_items": null,
       "object_fit": null,
       "object_position": null,
       "width": "100%"
      }
     },
     "1c7b866f147542c3b38fd199d70e2a29": {
      "model_module": "@jupyter-widgets/base",
      "model_module_version": "1.2.0",
      "model_name": "LayoutModel",
      "state": {
       "_model_module_version": "1.2.0",
       "_view_module_version": "1.2.0",
       "justify_items": null,
       "object_fit": null,
       "object_position": null
      }
     },
     "1c98daf82bc346ff8a73fe90c7389be7": {
      "model_module": "@jupyter-widgets/base",
      "model_module_version": "1.2.0",
      "model_name": "LayoutModel",
      "state": {
       "_model_module_version": "1.2.0",
       "_view_module_version": "1.2.0",
       "flex": "2",
       "justify_items": null,
       "object_fit": null,
       "object_position": null
      }
     },
     "1cb4648677824f1f8b34073b41b569ac": {
      "model_module": "@jupyter-widgets/controls",
      "model_module_version": "1.5.0",
      "model_name": "HBoxModel",
      "state": {
       "_model_module_version": "1.5.0",
       "_view_module_version": "1.5.0",
       "children": [
        "IPY_MODEL_8057a9c39ca2428481b787963f30903e",
        "IPY_MODEL_2a215899134b4e188543de3860d0f6ce"
       ],
       "layout": "IPY_MODEL_eb1430d9e6f840da9c096cd99a3f68d6"
      }
     },
     "1cefece38b6a4b6eae15ca90bab852f0": {
      "model_module": "@jupyter-widgets/controls",
      "model_module_version": "1.5.0",
      "model_name": "FloatProgressModel",
      "state": {
       "_model_module_version": "1.5.0",
       "_view_module_version": "1.5.0",
       "bar_style": "success",
       "description": "500/500",
       "layout": "IPY_MODEL_5343b4af412141ca850146e5d31df39b",
       "max": 500,
       "style": "IPY_MODEL_986f1b3bf76b45049e025df0cbf5fc11",
       "value": 500
      }
     },
     "1d2415b2975045809d818bc12df06392": {
      "model_module": "@jupyter-widgets/controls",
      "model_module_version": "1.5.0",
      "model_name": "ProgressStyleModel",
      "state": {
       "_model_module_version": "1.5.0",
       "_view_module_version": "1.2.0",
       "description_width": "initial"
      }
     },
     "1d34385ec6c343d0bc35936ed9ae0549": {
      "model_module": "@jupyter-widgets/controls",
      "model_module_version": "1.5.0",
      "model_name": "ProgressStyleModel",
      "state": {
       "_model_module_version": "1.5.0",
       "_view_module_version": "1.2.0",
       "description_width": "initial"
      }
     },
     "1d5047990a1443c094df3a803467b99d": {
      "model_module": "@jupyter-widgets/base",
      "model_module_version": "1.2.0",
      "model_name": "LayoutModel",
      "state": {
       "_model_module_version": "1.2.0",
       "_view_module_version": "1.2.0",
       "display": "inline-flex",
       "flex_flow": "row wrap",
       "justify_items": null,
       "object_fit": null,
       "object_position": null,
       "width": "100%"
      }
     },
     "1dce811b1e024665bbaf88e022e6ad20": {
      "model_module": "@jupyter-widgets/controls",
      "model_module_version": "1.5.0",
      "model_name": "HTMLModel",
      "state": {
       "_model_module_version": "1.5.0",
       "_view_module_version": "1.5.0",
       "layout": "IPY_MODEL_d484a5caebf84cd39a24a3b9585390b3",
       "style": "IPY_MODEL_2a0db956eb4f48df9c2c253226ff496b",
       "value": " ETA: 00:00s - loss: 0.2113 - val_loss: 0.2112"
      }
     },
     "1de3e69bd62d4e6585108a7416a08ca9": {
      "model_module": "@jupyter-widgets/base",
      "model_module_version": "1.2.0",
      "model_name": "LayoutModel",
      "state": {
       "_model_module_version": "1.2.0",
       "_view_module_version": "1.2.0",
       "flex": "2",
       "justify_items": null,
       "object_fit": null,
       "object_position": null
      }
     },
     "1e2835c8ea4a454f8513f1a1e3370b5f": {
      "model_module": "@jupyter-widgets/controls",
      "model_module_version": "1.5.0",
      "model_name": "DescriptionStyleModel",
      "state": {
       "_model_module_version": "1.5.0",
       "_view_module_version": "1.2.0",
       "description_width": ""
      }
     },
     "1e49e3a8c61140f5a0b6c8be52a8e7e0": {
      "model_module": "@jupyter-widgets/controls",
      "model_module_version": "1.5.0",
      "model_name": "HBoxModel",
      "state": {
       "_model_module_version": "1.5.0",
       "_view_module_version": "1.5.0",
       "children": [
        "IPY_MODEL_a07819d4b04645f991dd0c12ab32e02f",
        "IPY_MODEL_25c7e0c549da4a7b887b031fafdfab15"
       ],
       "layout": "IPY_MODEL_6b3c0d39b9d745d1a44efb2eec737bb5"
      }
     },
     "1e555f363b6c4aaeadb5bc66a686fb49": {
      "model_module": "@jupyter-widgets/base",
      "model_module_version": "1.2.0",
      "model_name": "LayoutModel",
      "state": {
       "_model_module_version": "1.2.0",
       "_view_module_version": "1.2.0",
       "flex": "2",
       "justify_items": null,
       "object_fit": null,
       "object_position": null
      }
     },
     "1f9b6e9f115e4a7d8eba52b24288c094": {
      "model_module": "@jupyter-widgets/controls",
      "model_module_version": "1.5.0",
      "model_name": "HBoxModel",
      "state": {
       "_model_module_version": "1.5.0",
       "_view_module_version": "1.5.0",
       "children": [
        "IPY_MODEL_8e49bfaf4ac84e04ba58ef5ac76e7337",
        "IPY_MODEL_d50c0a9d914d4432ad32bdd56fe51928"
       ],
       "layout": "IPY_MODEL_aed54117dbd94b30aba9069e0fee5468"
      }
     },
     "1fe04e74f8aa4a75b2545451676cd7ce": {
      "model_module": "@jupyter-widgets/base",
      "model_module_version": "1.2.0",
      "model_name": "LayoutModel",
      "state": {
       "_model_module_version": "1.2.0",
       "_view_module_version": "1.2.0",
       "justify_items": null,
       "object_fit": null,
       "object_position": null
      }
     },
     "1fe86c26a4db45d9835c18cc05787ac5": {
      "model_module": "@jupyter-widgets/base",
      "model_module_version": "1.2.0",
      "model_name": "LayoutModel",
      "state": {
       "_model_module_version": "1.2.0",
       "_view_module_version": "1.2.0",
       "justify_items": null,
       "object_fit": null,
       "object_position": null
      }
     },
     "207d6bc2c66b4b19989446d403e4daac": {
      "model_module": "@jupyter-widgets/base",
      "model_module_version": "1.2.0",
      "model_name": "LayoutModel",
      "state": {
       "_model_module_version": "1.2.0",
       "_view_module_version": "1.2.0",
       "display": "inline-flex",
       "flex_flow": "row wrap",
       "justify_items": null,
       "object_fit": null,
       "object_position": null,
       "width": "100%"
      }
     },
     "2085bda1606c451d936c9dae8e0991bf": {
      "model_module": "@jupyter-widgets/controls",
      "model_module_version": "1.5.0",
      "model_name": "FloatProgressModel",
      "state": {
       "_model_module_version": "1.5.0",
       "_view_module_version": "1.5.0",
       "bar_style": "success",
       "description": "500/500",
       "layout": "IPY_MODEL_9961cde1d6c44a5f9cbdbb07c649883f",
       "max": 500,
       "style": "IPY_MODEL_502614d176b24791b4a6b0ca7a35ca2b",
       "value": 500
      }
     },
     "208fdfa7d0a243a69c03041d0f5d8ec8": {
      "model_module": "@jupyter-widgets/base",
      "model_module_version": "1.2.0",
      "model_name": "LayoutModel",
      "state": {
       "_model_module_version": "1.2.0",
       "_view_module_version": "1.2.0",
       "display": "inline-flex",
       "flex_flow": "row wrap",
       "justify_items": null,
       "object_fit": null,
       "object_position": null,
       "width": "100%"
      }
     },
     "20d9463927dc4036935195ec9e0a41d5": {
      "model_module": "@jupyter-widgets/controls",
      "model_module_version": "1.5.0",
      "model_name": "ProgressStyleModel",
      "state": {
       "_model_module_version": "1.5.0",
       "_view_module_version": "1.2.0",
       "description_width": "initial"
      }
     },
     "20f25b6249b44ada8e6059000f31bdf7": {
      "model_module": "@jupyter-widgets/controls",
      "model_module_version": "1.5.0",
      "model_name": "FloatProgressModel",
      "state": {
       "_model_module_version": "1.5.0",
       "_view_module_version": "1.5.0",
       "bar_style": "success",
       "description": "500/500",
       "layout": "IPY_MODEL_5e48f7ff28a94134a6c960c4b7c884bd",
       "max": 500,
       "style": "IPY_MODEL_1361c755f1f848dd8ee31ae99e514ec3",
       "value": 500
      }
     },
     "214c206b492b44cea723c43c409da980": {
      "model_module": "@jupyter-widgets/controls",
      "model_module_version": "1.5.0",
      "model_name": "FloatProgressModel",
      "state": {
       "_model_module_version": "1.5.0",
       "_view_module_version": "1.5.0",
       "bar_style": "success",
       "description": "500/500",
       "layout": "IPY_MODEL_bcfe6f7652934e0b9b3765629db3015a",
       "max": 500,
       "style": "IPY_MODEL_60b46621497d4994a5af0a768e35ff3f",
       "value": 500
      }
     },
     "21e62e6c32334ba2a5d312f136870dd5": {
      "model_module": "@jupyter-widgets/base",
      "model_module_version": "1.2.0",
      "model_name": "LayoutModel",
      "state": {
       "_model_module_version": "1.2.0",
       "_view_module_version": "1.2.0",
       "justify_items": null,
       "object_fit": null,
       "object_position": null
      }
     },
     "21f2abea76474cbe8c2b1ab32a7922c4": {
      "model_module": "@jupyter-widgets/controls",
      "model_module_version": "1.5.0",
      "model_name": "DescriptionStyleModel",
      "state": {
       "_model_module_version": "1.5.0",
       "_view_module_version": "1.2.0",
       "description_width": ""
      }
     },
     "2203316a6ad8488b8dd75f22f1fded6b": {
      "model_module": "@jupyter-widgets/controls",
      "model_module_version": "1.5.0",
      "model_name": "FloatProgressModel",
      "state": {
       "_model_module_version": "1.5.0",
       "_view_module_version": "1.5.0",
       "bar_style": "success",
       "description": "500/500",
       "layout": "IPY_MODEL_1759b52fb4a0496e852a306bb4f1e867",
       "max": 500,
       "style": "IPY_MODEL_db146ec5a54a4f3dae6bdaf4e22d61a3",
       "value": 500
      }
     },
     "23104b4cea8641f5be6d9a1d64b06bff": {
      "model_module": "@jupyter-widgets/controls",
      "model_module_version": "1.5.0",
      "model_name": "FloatProgressModel",
      "state": {
       "_model_module_version": "1.5.0",
       "_view_module_version": "1.5.0",
       "bar_style": "success",
       "description": "500/500",
       "layout": "IPY_MODEL_a1bd14870ed942ec9cd666d0a939f62e",
       "max": 500,
       "style": "IPY_MODEL_bc4d7408bb364c1295c53182f03c2feb",
       "value": 500
      }
     },
     "236375b46dd94ac5b0f24c33fe5100b8": {
      "model_module": "@jupyter-widgets/base",
      "model_module_version": "1.2.0",
      "model_name": "LayoutModel",
      "state": {
       "_model_module_version": "1.2.0",
       "_view_module_version": "1.2.0",
       "flex": "2",
       "justify_items": null,
       "object_fit": null,
       "object_position": null
      }
     },
     "23e5d505cadd4a02837ee3eec920ec5b": {
      "model_module": "@jupyter-widgets/controls",
      "model_module_version": "1.5.0",
      "model_name": "DescriptionStyleModel",
      "state": {
       "_model_module_version": "1.5.0",
       "_view_module_version": "1.2.0",
       "description_width": ""
      }
     },
     "240ec7d61ed946cd91be1d091e2262f9": {
      "model_module": "@jupyter-widgets/controls",
      "model_module_version": "1.5.0",
      "model_name": "HBoxModel",
      "state": {
       "_model_module_version": "1.5.0",
       "_view_module_version": "1.5.0",
       "children": [
        "IPY_MODEL_c1230cdaaf7d424ea7534e7e031c5df7",
        "IPY_MODEL_cb259fb965034ff28199b9eaeda68cb3"
       ],
       "layout": "IPY_MODEL_841491c0f8084b85958f6886afafa8df"
      }
     },
     "247fa207ea4c4aeca9e49a5a963e6c09": {
      "model_module": "@jupyter-widgets/base",
      "model_module_version": "1.2.0",
      "model_name": "LayoutModel",
      "state": {
       "_model_module_version": "1.2.0",
       "_view_module_version": "1.2.0",
       "flex": "2",
       "justify_items": null,
       "object_fit": null,
       "object_position": null
      }
     },
     "250b9e19affc42a4be3051da6afcda61": {
      "model_module": "@jupyter-widgets/base",
      "model_module_version": "1.2.0",
      "model_name": "LayoutModel",
      "state": {
       "_model_module_version": "1.2.0",
       "_view_module_version": "1.2.0",
       "justify_items": null,
       "object_fit": null,
       "object_position": null
      }
     },
     "25380e55d1164d0db65e0f87672056eb": {
      "model_module": "@jupyter-widgets/controls",
      "model_module_version": "1.5.0",
      "model_name": "HTMLModel",
      "state": {
       "_model_module_version": "1.5.0",
       "_view_module_version": "1.5.0",
       "layout": "IPY_MODEL_b657b4bd0e994bdd89c05d069511ef7d",
       "style": "IPY_MODEL_824fe3a34fc94a03ae4743aa790a4605",
       "value": " ETA: 00:00s - loss: 0.2104 - val_loss: 0.2110"
      }
     },
     "2559ec1044a64517855bcab46c617767": {
      "model_module": "@jupyter-widgets/base",
      "model_module_version": "1.2.0",
      "model_name": "LayoutModel",
      "state": {
       "_model_module_version": "1.2.0",
       "_view_module_version": "1.2.0",
       "justify_items": null,
       "object_fit": null,
       "object_position": null
      }
     },
     "25c7e0c549da4a7b887b031fafdfab15": {
      "model_module": "@jupyter-widgets/controls",
      "model_module_version": "1.5.0",
      "model_name": "HTMLModel",
      "state": {
       "_model_module_version": "1.5.0",
       "_view_module_version": "1.5.0",
       "layout": "IPY_MODEL_a178983d953346b08672651aa729fc46",
       "style": "IPY_MODEL_d92c54889fe54f959d1ca8da597a2b46",
       "value": " ETA: 00:00s - loss: 0.2205 - val_loss: 0.2206"
      }
     },
     "25db4019329542e7b0fafb961fe06360": {
      "model_module": "@jupyter-widgets/controls",
      "model_module_version": "1.5.0",
      "model_name": "DescriptionStyleModel",
      "state": {
       "_model_module_version": "1.5.0",
       "_view_module_version": "1.2.0",
       "description_width": ""
      }
     },
     "264d90dedd6e450b98784d4eafdd7e34": {
      "model_module": "@jupyter-widgets/base",
      "model_module_version": "1.2.0",
      "model_name": "LayoutModel",
      "state": {
       "_model_module_version": "1.2.0",
       "_view_module_version": "1.2.0",
       "justify_items": null,
       "object_fit": null,
       "object_position": null
      }
     },
     "26c4c9c1ebc243d789dfe09fe4642c1d": {
      "model_module": "@jupyter-widgets/controls",
      "model_module_version": "1.5.0",
      "model_name": "FloatProgressModel",
      "state": {
       "_model_module_version": "1.5.0",
       "_view_module_version": "1.5.0",
       "bar_style": "success",
       "description": "500/500",
       "layout": "IPY_MODEL_e8d77001158b438481c7efe38eb2aa6b",
       "max": 500,
       "style": "IPY_MODEL_3553aec01044467daedc17a8defdb5f9",
       "value": 500
      }
     },
     "26ccf5b72c1243359224d727abed4c2f": {
      "model_module": "@jupyter-widgets/controls",
      "model_module_version": "1.5.0",
      "model_name": "DescriptionStyleModel",
      "state": {
       "_model_module_version": "1.5.0",
       "_view_module_version": "1.2.0",
       "description_width": ""
      }
     },
     "274188a796fb409b9575a0d7761d47bf": {
      "model_module": "@jupyter-widgets/base",
      "model_module_version": "1.2.0",
      "model_name": "LayoutModel",
      "state": {
       "_model_module_version": "1.2.0",
       "_view_module_version": "1.2.0",
       "justify_items": null,
       "object_fit": null,
       "object_position": null
      }
     },
     "27454247612a4384a9d426d8127603d0": {
      "model_module": "@jupyter-widgets/base",
      "model_module_version": "1.2.0",
      "model_name": "LayoutModel",
      "state": {
       "_model_module_version": "1.2.0",
       "_view_module_version": "1.2.0",
       "display": "inline-flex",
       "flex_flow": "row wrap",
       "justify_items": null,
       "object_fit": null,
       "object_position": null,
       "width": "100%"
      }
     },
     "27bb28236fe3421890ccfea7aea630ac": {
      "model_module": "@jupyter-widgets/controls",
      "model_module_version": "1.5.0",
      "model_name": "HTMLModel",
      "state": {
       "_model_module_version": "1.5.0",
       "_view_module_version": "1.5.0",
       "layout": "IPY_MODEL_14720c75dcd34124a46711ee76775c86",
       "style": "IPY_MODEL_ecb9e80a1c41450fbe5ebb1cdf01c30d",
       "value": " ETA: 00:00s - loss: 0.2164 - val_loss: 0.2169"
      }
     },
     "286e9a6f064e46a1b4c765af8246fbfb": {
      "model_module": "@jupyter-widgets/base",
      "model_module_version": "1.2.0",
      "model_name": "LayoutModel",
      "state": {
       "_model_module_version": "1.2.0",
       "_view_module_version": "1.2.0",
       "display": "inline-flex",
       "flex_flow": "row wrap",
       "justify_items": null,
       "object_fit": null,
       "object_position": null,
       "width": "100%"
      }
     },
     "28a7dda7def54158b8116ce1497b6871": {
      "model_module": "@jupyter-widgets/controls",
      "model_module_version": "1.5.0",
      "model_name": "ProgressStyleModel",
      "state": {
       "_model_module_version": "1.5.0",
       "_view_module_version": "1.2.0",
       "description_width": "initial"
      }
     },
     "29107562ae19474596f68e33dc58625a": {
      "model_module": "@jupyter-widgets/controls",
      "model_module_version": "1.5.0",
      "model_name": "FloatProgressModel",
      "state": {
       "_model_module_version": "1.5.0",
       "_view_module_version": "1.5.0",
       "bar_style": "success",
       "description": "500/500",
       "layout": "IPY_MODEL_ee358f78d50f4acbb4730cdcda334e41",
       "max": 500,
       "style": "IPY_MODEL_095d83cc3ada423f80c2017670bf6f65",
       "value": 500
      }
     },
     "29232c65b93e4dfdb4b4e94944e25aea": {
      "model_module": "@jupyter-widgets/controls",
      "model_module_version": "1.5.0",
      "model_name": "DescriptionStyleModel",
      "state": {
       "_model_module_version": "1.5.0",
       "_view_module_version": "1.2.0",
       "description_width": ""
      }
     },
     "29355f0c80bb4eebb483193f0958409b": {
      "model_module": "@jupyter-widgets/base",
      "model_module_version": "1.2.0",
      "model_name": "LayoutModel",
      "state": {
       "_model_module_version": "1.2.0",
       "_view_module_version": "1.2.0",
       "display": "inline-flex",
       "flex_flow": "row wrap",
       "justify_items": null,
       "object_fit": null,
       "object_position": null,
       "width": "100%"
      }
     },
     "297ff219576c4c56913c0e46a218e62a": {
      "model_module": "@jupyter-widgets/controls",
      "model_module_version": "1.5.0",
      "model_name": "ProgressStyleModel",
      "state": {
       "_model_module_version": "1.5.0",
       "_view_module_version": "1.2.0",
       "description_width": "initial"
      }
     },
     "29a5b6251d7c4b318df5afb9a88236cc": {
      "model_module": "@jupyter-widgets/controls",
      "model_module_version": "1.5.0",
      "model_name": "HBoxModel",
      "state": {
       "_model_module_version": "1.5.0",
       "_view_module_version": "1.5.0",
       "children": [
        "IPY_MODEL_8db55b2412a84620b17f68f5a04a55d4",
        "IPY_MODEL_bc6564a905ea42ad9a8b67b1f4cd672a"
       ],
       "layout": "IPY_MODEL_91af6d868169403ca88effc94b2e662e"
      }
     },
     "29cc16c4bfda4ee386a94478d8e7da22": {
      "model_module": "@jupyter-widgets/controls",
      "model_module_version": "1.5.0",
      "model_name": "HTMLModel",
      "state": {
       "_model_module_version": "1.5.0",
       "_view_module_version": "1.5.0",
       "layout": "IPY_MODEL_f9b36e545eae46059ed3d64e61c0760a",
       "style": "IPY_MODEL_2fd6ebb9eb504f2a8c75e5f3046b43ad",
       "value": " ETA: 00:00s - loss: 0.2999 - val_loss: 0.3144"
      }
     },
     "2a0db956eb4f48df9c2c253226ff496b": {
      "model_module": "@jupyter-widgets/controls",
      "model_module_version": "1.5.0",
      "model_name": "DescriptionStyleModel",
      "state": {
       "_model_module_version": "1.5.0",
       "_view_module_version": "1.2.0",
       "description_width": ""
      }
     },
     "2a0ed5df33d84ff299ddd911850a417c": {
      "model_module": "@jupyter-widgets/controls",
      "model_module_version": "1.5.0",
      "model_name": "HTMLModel",
      "state": {
       "_model_module_version": "1.5.0",
       "_view_module_version": "1.5.0",
       "layout": "IPY_MODEL_fc5255a53ff44a358e1caa4e25ca2570",
       "style": "IPY_MODEL_fec9e560e6a44c218841ffa11fe75d79",
       "value": " ETA: 00:00s - loss: 0.2100 - val_loss: 0.2080"
      }
     },
     "2a215899134b4e188543de3860d0f6ce": {
      "model_module": "@jupyter-widgets/controls",
      "model_module_version": "1.5.0",
      "model_name": "HTMLModel",
      "state": {
       "_model_module_version": "1.5.0",
       "_view_module_version": "1.5.0",
       "layout": "IPY_MODEL_eda358462a924ca090e36fc18e77eeff",
       "style": "IPY_MODEL_b2807a377aea43759d2d8110801e66cb",
       "value": " ETA: 00:00s - loss: 0.2158 - val_loss: 0.2183"
      }
     },
     "2a99577ccda44faaa6c7f60dc7492559": {
      "model_module": "@jupyter-widgets/base",
      "model_module_version": "1.2.0",
      "model_name": "LayoutModel",
      "state": {
       "_model_module_version": "1.2.0",
       "_view_module_version": "1.2.0",
       "flex": "2",
       "justify_items": null,
       "object_fit": null,
       "object_position": null
      }
     },
     "2b2fee2187c5441493ac2e41fac43253": {
      "model_module": "@jupyter-widgets/base",
      "model_module_version": "1.2.0",
      "model_name": "LayoutModel",
      "state": {
       "_model_module_version": "1.2.0",
       "_view_module_version": "1.2.0",
       "flex": "2",
       "justify_items": null,
       "object_fit": null,
       "object_position": null
      }
     },
     "2bd90f78abd74db8a375708d47259694": {
      "model_module": "@jupyter-widgets/controls",
      "model_module_version": "1.5.0",
      "model_name": "ProgressStyleModel",
      "state": {
       "_model_module_version": "1.5.0",
       "_view_module_version": "1.2.0",
       "description_width": "initial"
      }
     },
     "2be97d7881b042f09b17b9d89d024398": {
      "model_module": "@jupyter-widgets/controls",
      "model_module_version": "1.5.0",
      "model_name": "HBoxModel",
      "state": {
       "_model_module_version": "1.5.0",
       "_view_module_version": "1.5.0",
       "children": [
        "IPY_MODEL_0f777d0e50b24a4dba22b0afd7e9a444",
        "IPY_MODEL_3aa3323a6f334e0c92f675ac700e0473"
       ],
       "layout": "IPY_MODEL_0939e3ce742646c8a2817b04a9b81ff8"
      }
     },
     "2c4fae392bed4f7eaa7240fd28dc89d7": {
      "model_module": "@jupyter-widgets/controls",
      "model_module_version": "1.5.0",
      "model_name": "HBoxModel",
      "state": {
       "_model_module_version": "1.5.0",
       "_view_module_version": "1.5.0",
       "children": [
        "IPY_MODEL_e267b972db954fe28eaccabd8536e418",
        "IPY_MODEL_7cdc38f14aca4b918a12a9acfcb8f4e5"
       ],
       "layout": "IPY_MODEL_59f54e6c39c74b339f93786e5ce53d08"
      }
     },
     "2c8cf31ad33f4c588ef9664b16e99187": {
      "model_module": "@jupyter-widgets/base",
      "model_module_version": "1.2.0",
      "model_name": "LayoutModel",
      "state": {
       "_model_module_version": "1.2.0",
       "_view_module_version": "1.2.0",
       "display": "inline-flex",
       "flex_flow": "row wrap",
       "justify_items": null,
       "object_fit": null,
       "object_position": null,
       "width": "100%"
      }
     },
     "2d3f9bea51274bbda949db749e9637a7": {
      "model_module": "@jupyter-widgets/base",
      "model_module_version": "1.2.0",
      "model_name": "LayoutModel",
      "state": {
       "_model_module_version": "1.2.0",
       "_view_module_version": "1.2.0",
       "justify_items": null,
       "object_fit": null,
       "object_position": null
      }
     },
     "2d5add7d803f4fd5a041fa58bce61f89": {
      "model_module": "@jupyter-widgets/controls",
      "model_module_version": "1.5.0",
      "model_name": "FloatProgressModel",
      "state": {
       "_model_module_version": "1.5.0",
       "_view_module_version": "1.5.0",
       "bar_style": "success",
       "description": "500/500",
       "layout": "IPY_MODEL_2ee91f1243cd477f9862f79687eb815e",
       "max": 500,
       "style": "IPY_MODEL_613c4da86fb746d1ab2d6a3503aec401",
       "value": 500
      }
     },
     "2d6467c765584404a902eeee3ac4f949": {
      "model_module": "@jupyter-widgets/controls",
      "model_module_version": "1.5.0",
      "model_name": "HBoxModel",
      "state": {
       "_model_module_version": "1.5.0",
       "_view_module_version": "1.5.0",
       "children": [
        "IPY_MODEL_b17615ea6fa64f3cb860117302217a69",
        "IPY_MODEL_b76138904cb64edc9e8af2517c549670"
       ],
       "layout": "IPY_MODEL_8fb5ee224a8e4b89a64524bc49c4eaf4"
      }
     },
     "2d964ff8925448849de1e46f6befba66": {
      "model_module": "@jupyter-widgets/base",
      "model_module_version": "1.2.0",
      "model_name": "LayoutModel",
      "state": {
       "_model_module_version": "1.2.0",
       "_view_module_version": "1.2.0",
       "justify_items": null,
       "object_fit": null,
       "object_position": null
      }
     },
     "2dae04e7959845cc9fbb358f6544f03f": {
      "model_module": "@jupyter-widgets/controls",
      "model_module_version": "1.5.0",
      "model_name": "FloatProgressModel",
      "state": {
       "_model_module_version": "1.5.0",
       "_view_module_version": "1.5.0",
       "bar_style": "success",
       "description": "500/500",
       "layout": "IPY_MODEL_1389099527a84546966b3230bca571f8",
       "max": 500,
       "style": "IPY_MODEL_c3175e3fbe6149a1b14d9bdb4188e89b",
       "value": 500
      }
     },
     "2e186af00caa49829ea9a9223d63c815": {
      "model_module": "@jupyter-widgets/controls",
      "model_module_version": "1.5.0",
      "model_name": "DescriptionStyleModel",
      "state": {
       "_model_module_version": "1.5.0",
       "_view_module_version": "1.2.0",
       "description_width": ""
      }
     },
     "2ee91f1243cd477f9862f79687eb815e": {
      "model_module": "@jupyter-widgets/base",
      "model_module_version": "1.2.0",
      "model_name": "LayoutModel",
      "state": {
       "_model_module_version": "1.2.0",
       "_view_module_version": "1.2.0",
       "flex": "2",
       "justify_items": null,
       "object_fit": null,
       "object_position": null
      }
     },
     "2f13365700104e53a2d6c6a348d08785": {
      "model_module": "@jupyter-widgets/controls",
      "model_module_version": "1.5.0",
      "model_name": "HBoxModel",
      "state": {
       "_model_module_version": "1.5.0",
       "_view_module_version": "1.5.0",
       "children": [
        "IPY_MODEL_f0d057e8d44f45669a87070049139c32",
        "IPY_MODEL_0c8c5bf1596447c1be0a69390f748959"
       ],
       "layout": "IPY_MODEL_c899cf1f996d483aa5fa1c46dfa50f58"
      }
     },
     "2f25224c3f594b7b95b56cbb8ce7a75c": {
      "model_module": "@jupyter-widgets/controls",
      "model_module_version": "1.5.0",
      "model_name": "ProgressStyleModel",
      "state": {
       "_model_module_version": "1.5.0",
       "_view_module_version": "1.2.0",
       "description_width": "initial"
      }
     },
     "2f47db43deb84a6ea9b502ad8d5263dd": {
      "model_module": "@jupyter-widgets/controls",
      "model_module_version": "1.5.0",
      "model_name": "ProgressStyleModel",
      "state": {
       "_model_module_version": "1.5.0",
       "_view_module_version": "1.2.0",
       "description_width": "initial"
      }
     },
     "2f82ae8382174a33af18a825da21250f": {
      "model_module": "@jupyter-widgets/controls",
      "model_module_version": "1.5.0",
      "model_name": "HTMLModel",
      "state": {
       "_model_module_version": "1.5.0",
       "_view_module_version": "1.5.0",
       "layout": "IPY_MODEL_5d097400c5554b50b3cfb7e7caa0b76f",
       "style": "IPY_MODEL_58bea317d2484fd183130733c412ca99",
       "value": " ETA: 00:00s - loss: 0.2226 - val_loss: 0.2190"
      }
     },
     "2fd6ebb9eb504f2a8c75e5f3046b43ad": {
      "model_module": "@jupyter-widgets/controls",
      "model_module_version": "1.5.0",
      "model_name": "DescriptionStyleModel",
      "state": {
       "_model_module_version": "1.5.0",
       "_view_module_version": "1.2.0",
       "description_width": ""
      }
     },
     "2ffa5943400e4b21a194839b3521204f": {
      "model_module": "@jupyter-widgets/base",
      "model_module_version": "1.2.0",
      "model_name": "LayoutModel",
      "state": {
       "_model_module_version": "1.2.0",
       "_view_module_version": "1.2.0",
       "display": "inline-flex",
       "flex_flow": "row wrap",
       "justify_items": null,
       "object_fit": null,
       "object_position": null,
       "width": "100%"
      }
     },
     "306d60397bc6484e8aa881a5273d6d07": {
      "model_module": "@jupyter-widgets/controls",
      "model_module_version": "1.5.0",
      "model_name": "HTMLModel",
      "state": {
       "_model_module_version": "1.5.0",
       "_view_module_version": "1.5.0",
       "layout": "IPY_MODEL_90d5fb74243a45f180ee46d8409035f6",
       "style": "IPY_MODEL_553d4d856770456498f7190eade05639",
       "value": " ETA: 00:00s - loss: 0.2132 - val_loss: 0.2160"
      }
     },
     "311636ef90c64e638a82968a67be6e33": {
      "model_module": "@jupyter-widgets/controls",
      "model_module_version": "1.5.0",
      "model_name": "HTMLModel",
      "state": {
       "_model_module_version": "1.5.0",
       "_view_module_version": "1.5.0",
       "layout": "IPY_MODEL_e02176d710ab40d98df050f1ef850d13",
       "style": "IPY_MODEL_6217bb0741fc45de9a2de62c37068118",
       "value": " ETA: 00:00s - loss: 0.2357 - val_loss: 0.2333"
      }
     },
     "3188dee425584d4e9599cd626a04b2a9": {
      "model_module": "@jupyter-widgets/controls",
      "model_module_version": "1.5.0",
      "model_name": "HBoxModel",
      "state": {
       "_model_module_version": "1.5.0",
       "_view_module_version": "1.5.0",
       "children": [
        "IPY_MODEL_ec7ddc3551c2402ea0ad0fca057abd13",
        "IPY_MODEL_e341bf6815d0429799b806b54407789e"
       ],
       "layout": "IPY_MODEL_d968dede210442e7b4bdc682ff8bf2ca"
      }
     },
     "318a78d6948c4300a87007e0ae9eafc5": {
      "model_module": "@jupyter-widgets/base",
      "model_module_version": "1.2.0",
      "model_name": "LayoutModel",
      "state": {
       "_model_module_version": "1.2.0",
       "_view_module_version": "1.2.0",
       "justify_items": null,
       "object_fit": null,
       "object_position": null
      }
     },
     "3240d876cd5a49a5b2da5b4d868b3267": {
      "model_module": "@jupyter-widgets/base",
      "model_module_version": "1.2.0",
      "model_name": "LayoutModel",
      "state": {
       "_model_module_version": "1.2.0",
       "_view_module_version": "1.2.0",
       "flex": "2",
       "justify_items": null,
       "object_fit": null,
       "object_position": null
      }
     },
     "3279045293ff498ca428cea308e1fda7": {
      "model_module": "@jupyter-widgets/controls",
      "model_module_version": "1.5.0",
      "model_name": "HTMLModel",
      "state": {
       "_model_module_version": "1.5.0",
       "_view_module_version": "1.5.0",
       "layout": "IPY_MODEL_9ce1c35e367a40b99b8311d4050da392",
       "style": "IPY_MODEL_8210f12f1c584ad8af88dc2b3aa195c4",
       "value": " ETA: 00:00s - loss: 0.2287 - val_loss: 0.2262"
      }
     },
     "32cc82e7ea564febb80382f10c606340": {
      "model_module": "@jupyter-widgets/controls",
      "model_module_version": "1.5.0",
      "model_name": "ProgressStyleModel",
      "state": {
       "_model_module_version": "1.5.0",
       "_view_module_version": "1.2.0",
       "description_width": "initial"
      }
     },
     "32d2293ae48b48b2afa65d6792a04278": {
      "model_module": "@jupyter-widgets/base",
      "model_module_version": "1.2.0",
      "model_name": "LayoutModel",
      "state": {
       "_model_module_version": "1.2.0",
       "_view_module_version": "1.2.0",
       "justify_items": null,
       "object_fit": null,
       "object_position": null
      }
     },
     "339760a9d3b042d49152322be3c8dc66": {
      "model_module": "@jupyter-widgets/controls",
      "model_module_version": "1.5.0",
      "model_name": "FloatProgressModel",
      "state": {
       "_model_module_version": "1.5.0",
       "_view_module_version": "1.5.0",
       "bar_style": "success",
       "description": "500/500",
       "layout": "IPY_MODEL_4153f4ad5e044260831be66de309a31f",
       "max": 500,
       "style": "IPY_MODEL_42a1dd6b606347e28aa20165bb6f7886",
       "value": 500
      }
     },
     "3415f3751a8f498e975ac24800299e89": {
      "model_module": "@jupyter-widgets/controls",
      "model_module_version": "1.5.0",
      "model_name": "HBoxModel",
      "state": {
       "_model_module_version": "1.5.0",
       "_view_module_version": "1.5.0",
       "children": [
        "IPY_MODEL_c0e3688e240240f1ae26cd73d2588401",
        "IPY_MODEL_cb3f12769dc146bcb9512eccb957d2ae"
       ],
       "layout": "IPY_MODEL_a52a84f37a32409b8f4118c10bff5288"
      }
     },
     "342b914dd4334ed3ad60217afad96837": {
      "model_module": "@jupyter-widgets/controls",
      "model_module_version": "1.5.0",
      "model_name": "DescriptionStyleModel",
      "state": {
       "_model_module_version": "1.5.0",
       "_view_module_version": "1.2.0",
       "description_width": ""
      }
     },
     "34cea08022d24043b0b0cdce4c751f20": {
      "model_module": "@jupyter-widgets/controls",
      "model_module_version": "1.5.0",
      "model_name": "HTMLModel",
      "state": {
       "_model_module_version": "1.5.0",
       "_view_module_version": "1.5.0",
       "layout": "IPY_MODEL_fa93dfb0f03c42f3bb73a4597f6c10c2",
       "style": "IPY_MODEL_afbae375ea284bbc8801c98ca1807e09",
       "value": " ETA: 00:00s - loss: 0.3036 - val_loss: 0.3022"
      }
     },
     "34eef305c8a142b7a9b48cc62aed67e4": {
      "model_module": "@jupyter-widgets/controls",
      "model_module_version": "1.5.0",
      "model_name": "HTMLModel",
      "state": {
       "_model_module_version": "1.5.0",
       "_view_module_version": "1.5.0",
       "layout": "IPY_MODEL_78f7d5eb83d94b6f8877e6bebf3609d0",
       "style": "IPY_MODEL_6e64cf22ffb04a988b52db4add349856",
       "value": " ETA: 00:00s - loss: 0.2014"
      }
     },
     "3520391c5eb942ddaf06bedb0c012b30": {
      "model_module": "@jupyter-widgets/controls",
      "model_module_version": "1.5.0",
      "model_name": "HBoxModel",
      "state": {
       "_model_module_version": "1.5.0",
       "_view_module_version": "1.5.0",
       "children": [
        "IPY_MODEL_e4fdb480fb08488e8e59e13d56c9e1fd",
        "IPY_MODEL_8b361cb2fc584092afbf7b20f116fa11"
       ],
       "layout": "IPY_MODEL_ab09b713814d48f4a7bca485385c2bed"
      }
     },
     "35371855a7834fb5b2a61dfc723a0ba8": {
      "model_module": "@jupyter-widgets/controls",
      "model_module_version": "1.5.0",
      "model_name": "ProgressStyleModel",
      "state": {
       "_model_module_version": "1.5.0",
       "_view_module_version": "1.2.0",
       "description_width": "initial"
      }
     },
     "3553aec01044467daedc17a8defdb5f9": {
      "model_module": "@jupyter-widgets/controls",
      "model_module_version": "1.5.0",
      "model_name": "ProgressStyleModel",
      "state": {
       "_model_module_version": "1.5.0",
       "_view_module_version": "1.2.0",
       "description_width": "initial"
      }
     },
     "364c69471a4d415181cd6f6ac13c5126": {
      "model_module": "@jupyter-widgets/base",
      "model_module_version": "1.2.0",
      "model_name": "LayoutModel",
      "state": {
       "_model_module_version": "1.2.0",
       "_view_module_version": "1.2.0",
       "flex": "2",
       "justify_items": null,
       "object_fit": null,
       "object_position": null
      }
     },
     "36595cf9bffb41f288aa9867e2268cd2": {
      "model_module": "@jupyter-widgets/controls",
      "model_module_version": "1.5.0",
      "model_name": "HBoxModel",
      "state": {
       "_model_module_version": "1.5.0",
       "_view_module_version": "1.5.0",
       "children": [
        "IPY_MODEL_7720603bb4a74a3f99cae74f1d2f4cfe",
        "IPY_MODEL_4fb83085c9a2448494b03f437b431878"
       ],
       "layout": "IPY_MODEL_c3ba37f40a3a4032bd92807eaf0dd5d5"
      }
     },
     "369c0f22b6b74876923d7c54d63a4afd": {
      "model_module": "@jupyter-widgets/base",
      "model_module_version": "1.2.0",
      "model_name": "LayoutModel",
      "state": {
       "_model_module_version": "1.2.0",
       "_view_module_version": "1.2.0",
       "flex": "2",
       "justify_items": null,
       "object_fit": null,
       "object_position": null
      }
     },
     "36b02f59cb34484e973ceaa83b09b9ea": {
      "model_module": "@jupyter-widgets/controls",
      "model_module_version": "1.5.0",
      "model_name": "FloatProgressModel",
      "state": {
       "_model_module_version": "1.5.0",
       "_view_module_version": "1.5.0",
       "bar_style": "success",
       "description": "500/500",
       "layout": "IPY_MODEL_236375b46dd94ac5b0f24c33fe5100b8",
       "max": 500,
       "style": "IPY_MODEL_bfcd186e964348e6b1d233b88711e9c1",
       "value": 500
      }
     },
     "3755b6c2c69a466081facccf6f3e0932": {
      "model_module": "@jupyter-widgets/base",
      "model_module_version": "1.2.0",
      "model_name": "LayoutModel",
      "state": {
       "_model_module_version": "1.2.0",
       "_view_module_version": "1.2.0",
       "display": "inline-flex",
       "flex_flow": "row wrap",
       "justify_items": null,
       "object_fit": null,
       "object_position": null,
       "width": "100%"
      }
     },
     "39ec6e814720485f9effb3e5130b1d17": {
      "model_module": "@jupyter-widgets/base",
      "model_module_version": "1.2.0",
      "model_name": "LayoutModel",
      "state": {
       "_model_module_version": "1.2.0",
       "_view_module_version": "1.2.0",
       "flex": "2",
       "justify_items": null,
       "object_fit": null,
       "object_position": null
      }
     },
     "3a68331c657d43488b80ea761d471079": {
      "model_module": "@jupyter-widgets/controls",
      "model_module_version": "1.5.0",
      "model_name": "HTMLModel",
      "state": {
       "_model_module_version": "1.5.0",
       "_view_module_version": "1.5.0",
       "layout": "IPY_MODEL_fa0ffed4e9ab4b44a11f576b009f060a",
       "style": "IPY_MODEL_d8031a9f11a6435cb15e5984c4e68c12",
       "value": " ETA: 00:00s - loss: 22.0398"
      }
     },
     "3aa3323a6f334e0c92f675ac700e0473": {
      "model_module": "@jupyter-widgets/controls",
      "model_module_version": "1.5.0",
      "model_name": "HTMLModel",
      "state": {
       "_model_module_version": "1.5.0",
       "_view_module_version": "1.5.0",
       "layout": "IPY_MODEL_cc91e5ad5dee461e8d9d9ea55f133376",
       "style": "IPY_MODEL_f742fd9418a94affb87815851a8bec80",
       "value": " ETA: 00:00s - loss: 0.2012 - val_loss: 0.2032"
      }
     },
     "3ab3575537b84664b84b1383c6678436": {
      "model_module": "@jupyter-widgets/base",
      "model_module_version": "1.2.0",
      "model_name": "LayoutModel",
      "state": {
       "_model_module_version": "1.2.0",
       "_view_module_version": "1.2.0",
       "flex": "2",
       "justify_items": null,
       "object_fit": null,
       "object_position": null
      }
     },
     "3b179644dbd944528f13f28c80b61b8b": {
      "model_module": "@jupyter-widgets/base",
      "model_module_version": "1.2.0",
      "model_name": "LayoutModel",
      "state": {
       "_model_module_version": "1.2.0",
       "_view_module_version": "1.2.0",
       "display": "inline-flex",
       "flex_flow": "row wrap",
       "justify_items": null,
       "object_fit": null,
       "object_position": null,
       "width": "100%"
      }
     },
     "3b451e2d3f0843a28c33eb9d75bcf0dc": {
      "model_module": "@jupyter-widgets/controls",
      "model_module_version": "1.5.0",
      "model_name": "ProgressStyleModel",
      "state": {
       "_model_module_version": "1.5.0",
       "_view_module_version": "1.2.0",
       "description_width": "initial"
      }
     },
     "3b766476acc64dbfa7689cf7d4cc47be": {
      "model_module": "@jupyter-widgets/base",
      "model_module_version": "1.2.0",
      "model_name": "LayoutModel",
      "state": {
       "_model_module_version": "1.2.0",
       "_view_module_version": "1.2.0",
       "flex": "2",
       "justify_items": null,
       "object_fit": null,
       "object_position": null
      }
     },
     "3b8cc8649db64a3f882ef0a0de8720b7": {
      "model_module": "@jupyter-widgets/controls",
      "model_module_version": "1.5.0",
      "model_name": "FloatProgressModel",
      "state": {
       "_model_module_version": "1.5.0",
       "_view_module_version": "1.5.0",
       "bar_style": "success",
       "description": "500/500",
       "layout": "IPY_MODEL_79edf7bcbf924355836ab391e1ac6344",
       "max": 500,
       "style": "IPY_MODEL_88aa599a0e144abea7a7c4840ba9646c",
       "value": 500
      }
     },
     "3bfd9d282bf14f6c9e719f7fff142773": {
      "model_module": "@jupyter-widgets/base",
      "model_module_version": "1.2.0",
      "model_name": "LayoutModel",
      "state": {
       "_model_module_version": "1.2.0",
       "_view_module_version": "1.2.0",
       "justify_items": null,
       "object_fit": null,
       "object_position": null
      }
     },
     "3c8f253e0ee5405183b985ef07f79ac9": {
      "model_module": "@jupyter-widgets/base",
      "model_module_version": "1.2.0",
      "model_name": "LayoutModel",
      "state": {
       "_model_module_version": "1.2.0",
       "_view_module_version": "1.2.0",
       "flex": "2",
       "justify_items": null,
       "object_fit": null,
       "object_position": null
      }
     },
     "3d5310fe9aa14028932aeb7be40e5403": {
      "model_module": "@jupyter-widgets/base",
      "model_module_version": "1.2.0",
      "model_name": "LayoutModel",
      "state": {
       "_model_module_version": "1.2.0",
       "_view_module_version": "1.2.0",
       "justify_items": null,
       "object_fit": null,
       "object_position": null
      }
     },
     "3d5cf5bdadcd491f8a5c4138dd0cb36e": {
      "model_module": "@jupyter-widgets/base",
      "model_module_version": "1.2.0",
      "model_name": "LayoutModel",
      "state": {
       "_model_module_version": "1.2.0",
       "_view_module_version": "1.2.0",
       "justify_items": null,
       "object_fit": null,
       "object_position": null
      }
     },
     "3d83848f220e41ecae3c305a2cb2458e": {
      "model_module": "@jupyter-widgets/base",
      "model_module_version": "1.2.0",
      "model_name": "LayoutModel",
      "state": {
       "_model_module_version": "1.2.0",
       "_view_module_version": "1.2.0",
       "justify_items": null,
       "object_fit": null,
       "object_position": null
      }
     },
     "3d8994c57ac043aa80bfb38e000c2402": {
      "model_module": "@jupyter-widgets/base",
      "model_module_version": "1.2.0",
      "model_name": "LayoutModel",
      "state": {
       "_model_module_version": "1.2.0",
       "_view_module_version": "1.2.0",
       "display": "inline-flex",
       "flex_flow": "row wrap",
       "justify_items": null,
       "object_fit": null,
       "object_position": null,
       "width": "100%"
      }
     },
     "3de060e5727d49a8ae48b519e222a26d": {
      "model_module": "@jupyter-widgets/controls",
      "model_module_version": "1.5.0",
      "model_name": "ProgressStyleModel",
      "state": {
       "_model_module_version": "1.5.0",
       "_view_module_version": "1.2.0",
       "description_width": "initial"
      }
     },
     "3e0397f37d1b43eaa2e647cdbabb0e9c": {
      "model_module": "@jupyter-widgets/base",
      "model_module_version": "1.2.0",
      "model_name": "LayoutModel",
      "state": {
       "_model_module_version": "1.2.0",
       "_view_module_version": "1.2.0",
       "flex": "2",
       "justify_items": null,
       "object_fit": null,
       "object_position": null
      }
     },
     "3e175b2763054aacbfcd2ca3a974341b": {
      "model_module": "@jupyter-widgets/controls",
      "model_module_version": "1.5.0",
      "model_name": "FloatProgressModel",
      "state": {
       "_model_module_version": "1.5.0",
       "_view_module_version": "1.5.0",
       "bar_style": "success",
       "description": "500/500",
       "layout": "IPY_MODEL_89acef21b56741878d06e4716cb4c95e",
       "max": 500,
       "style": "IPY_MODEL_e3a8a0f92462416485d45a08b1fc9d0b",
       "value": 500
      }
     },
     "3e2799ef608340b6a1b7c43560a4f3e4": {
      "model_module": "@jupyter-widgets/controls",
      "model_module_version": "1.5.0",
      "model_name": "HBoxModel",
      "state": {
       "_model_module_version": "1.5.0",
       "_view_module_version": "1.5.0",
       "children": [
        "IPY_MODEL_1551d8dbaef94db2a25c79b510eb99b4",
        "IPY_MODEL_ab04c32aeb49477aafc7de8efcc84476"
       ],
       "layout": "IPY_MODEL_a74bc984c66445f1aa828d24d0ac3cc8"
      }
     },
     "3eebe954690045b899871988265d0172": {
      "model_module": "@jupyter-widgets/controls",
      "model_module_version": "1.5.0",
      "model_name": "HBoxModel",
      "state": {
       "_model_module_version": "1.5.0",
       "_view_module_version": "1.5.0",
       "children": [
        "IPY_MODEL_b3e5af4c23f3471aa18f57f459f70727",
        "IPY_MODEL_d59a9c79796b4ee48e09d4c88c8a3e69"
       ],
       "layout": "IPY_MODEL_90232744ebee439f8d242bfcd86e194d"
      }
     },
     "3eff25d3a2764885896150e01f6a6ba6": {
      "model_module": "@jupyter-widgets/base",
      "model_module_version": "1.2.0",
      "model_name": "LayoutModel",
      "state": {
       "_model_module_version": "1.2.0",
       "_view_module_version": "1.2.0",
       "flex": "2",
       "justify_items": null,
       "object_fit": null,
       "object_position": null
      }
     },
     "3f4bfb4c104943e58bbdfa512e24dfb0": {
      "model_module": "@jupyter-widgets/controls",
      "model_module_version": "1.5.0",
      "model_name": "DescriptionStyleModel",
      "state": {
       "_model_module_version": "1.5.0",
       "_view_module_version": "1.2.0",
       "description_width": ""
      }
     },
     "3fe8b3fa691b401f9890ee591655a68f": {
      "model_module": "@jupyter-widgets/controls",
      "model_module_version": "1.5.0",
      "model_name": "DescriptionStyleModel",
      "state": {
       "_model_module_version": "1.5.0",
       "_view_module_version": "1.2.0",
       "description_width": ""
      }
     },
     "403b49835aae47eba8019ae9faa0c253": {
      "model_module": "@jupyter-widgets/controls",
      "model_module_version": "1.5.0",
      "model_name": "DescriptionStyleModel",
      "state": {
       "_model_module_version": "1.5.0",
       "_view_module_version": "1.2.0",
       "description_width": ""
      }
     },
     "4153f4ad5e044260831be66de309a31f": {
      "model_module": "@jupyter-widgets/base",
      "model_module_version": "1.2.0",
      "model_name": "LayoutModel",
      "state": {
       "_model_module_version": "1.2.0",
       "_view_module_version": "1.2.0",
       "flex": "2",
       "justify_items": null,
       "object_fit": null,
       "object_position": null
      }
     },
     "419a58eabcf44f32976eb9bbcb77f3e5": {
      "model_module": "@jupyter-widgets/base",
      "model_module_version": "1.2.0",
      "model_name": "LayoutModel",
      "state": {
       "_model_module_version": "1.2.0",
       "_view_module_version": "1.2.0",
       "display": "inline-flex",
       "flex_flow": "row wrap",
       "justify_items": null,
       "object_fit": null,
       "object_position": null,
       "width": "100%"
      }
     },
     "41b004a85443491bb280aa26a7b41a3d": {
      "model_module": "@jupyter-widgets/base",
      "model_module_version": "1.2.0",
      "model_name": "LayoutModel",
      "state": {
       "_model_module_version": "1.2.0",
       "_view_module_version": "1.2.0",
       "display": "inline-flex",
       "flex_flow": "row wrap",
       "justify_items": null,
       "object_fit": null,
       "object_position": null,
       "width": "100%"
      }
     },
     "4248445f3ef04ac59d0f556b9466e279": {
      "model_module": "@jupyter-widgets/base",
      "model_module_version": "1.2.0",
      "model_name": "LayoutModel",
      "state": {
       "_model_module_version": "1.2.0",
       "_view_module_version": "1.2.0",
       "flex": "2",
       "justify_items": null,
       "object_fit": null,
       "object_position": null
      }
     },
     "42a1dd6b606347e28aa20165bb6f7886": {
      "model_module": "@jupyter-widgets/controls",
      "model_module_version": "1.5.0",
      "model_name": "ProgressStyleModel",
      "state": {
       "_model_module_version": "1.5.0",
       "_view_module_version": "1.2.0",
       "description_width": "initial"
      }
     },
     "42b0c2b82ce4453aab40fdcedfd4194e": {
      "model_module": "@jupyter-widgets/controls",
      "model_module_version": "1.5.0",
      "model_name": "DescriptionStyleModel",
      "state": {
       "_model_module_version": "1.5.0",
       "_view_module_version": "1.2.0",
       "description_width": ""
      }
     },
     "434700291ce249bfa3af6443529add3b": {
      "model_module": "@jupyter-widgets/controls",
      "model_module_version": "1.5.0",
      "model_name": "HTMLModel",
      "state": {
       "_model_module_version": "1.5.0",
       "_view_module_version": "1.5.0",
       "layout": "IPY_MODEL_32d2293ae48b48b2afa65d6792a04278",
       "style": "IPY_MODEL_1e2835c8ea4a454f8513f1a1e3370b5f",
       "value": " ETA: 00:00s - loss: 0.2025 - val_loss: 0.2104"
      }
     },
     "4365a8bd061b41d4919c8363c09f3d54": {
      "model_module": "@jupyter-widgets/base",
      "model_module_version": "1.2.0",
      "model_name": "LayoutModel",
      "state": {
       "_model_module_version": "1.2.0",
       "_view_module_version": "1.2.0",
       "justify_items": null,
       "object_fit": null,
       "object_position": null
      }
     },
     "4373ef3eb2954c59b5279205bbd345b0": {
      "model_module": "@jupyter-widgets/controls",
      "model_module_version": "1.5.0",
      "model_name": "ProgressStyleModel",
      "state": {
       "_model_module_version": "1.5.0",
       "_view_module_version": "1.2.0",
       "description_width": "initial"
      }
     },
     "445be4f0b5f24c4588b8f5f0851b9b13": {
      "model_module": "@jupyter-widgets/base",
      "model_module_version": "1.2.0",
      "model_name": "LayoutModel",
      "state": {
       "_model_module_version": "1.2.0",
       "_view_module_version": "1.2.0",
       "flex": "2",
       "justify_items": null,
       "object_fit": null,
       "object_position": null
      }
     },
     "447db07893fa434daa7d7500396925fd": {
      "model_module": "@jupyter-widgets/base",
      "model_module_version": "1.2.0",
      "model_name": "LayoutModel",
      "state": {
       "_model_module_version": "1.2.0",
       "_view_module_version": "1.2.0",
       "flex": "2",
       "justify_items": null,
       "object_fit": null,
       "object_position": null
      }
     },
     "46217ab91ef542dfa56f43ffd575a2e0": {
      "model_module": "@jupyter-widgets/base",
      "model_module_version": "1.2.0",
      "model_name": "LayoutModel",
      "state": {
       "_model_module_version": "1.2.0",
       "_view_module_version": "1.2.0",
       "display": "inline-flex",
       "flex_flow": "row wrap",
       "justify_items": null,
       "object_fit": null,
       "object_position": null,
       "width": "100%"
      }
     },
     "4653f4414fbd41449cc93d604a003284": {
      "model_module": "@jupyter-widgets/controls",
      "model_module_version": "1.5.0",
      "model_name": "HBoxModel",
      "state": {
       "_model_module_version": "1.5.0",
       "_view_module_version": "1.5.0",
       "children": [
        "IPY_MODEL_7e80ac8c356a4f2bb3fb7f6d015bddc1",
        "IPY_MODEL_434700291ce249bfa3af6443529add3b"
       ],
       "layout": "IPY_MODEL_16136e33b68240a095a1221689434888"
      }
     },
     "4673b5a3b50746a1b2cc5b7dcc560e38": {
      "model_module": "@jupyter-widgets/base",
      "model_module_version": "1.2.0",
      "model_name": "LayoutModel",
      "state": {
       "_model_module_version": "1.2.0",
       "_view_module_version": "1.2.0",
       "display": "inline-flex",
       "flex_flow": "row wrap",
       "justify_items": null,
       "object_fit": null,
       "object_position": null,
       "width": "100%"
      }
     },
     "469c98143f7f4d34b1088b65d10daa24": {
      "model_module": "@jupyter-widgets/controls",
      "model_module_version": "1.5.0",
      "model_name": "DescriptionStyleModel",
      "state": {
       "_model_module_version": "1.5.0",
       "_view_module_version": "1.2.0",
       "description_width": ""
      }
     },
     "46d8b302c4064c02a122b495237d7534": {
      "model_module": "@jupyter-widgets/base",
      "model_module_version": "1.2.0",
      "model_name": "LayoutModel",
      "state": {
       "_model_module_version": "1.2.0",
       "_view_module_version": "1.2.0",
       "display": "inline-flex",
       "flex_flow": "row wrap",
       "justify_items": null,
       "object_fit": null,
       "object_position": null,
       "width": "100%"
      }
     },
     "476811623d304c49b69ad97058b1a707": {
      "model_module": "@jupyter-widgets/controls",
      "model_module_version": "1.5.0",
      "model_name": "FloatProgressModel",
      "state": {
       "_model_module_version": "1.5.0",
       "_view_module_version": "1.5.0",
       "bar_style": "success",
       "description": "500/500",
       "layout": "IPY_MODEL_a491d162cc654bdba6cbbe3916a88d47",
       "max": 500,
       "style": "IPY_MODEL_76eba82263b749238fe15e2ea7ba330e",
       "value": 500
      }
     },
     "484ab13ed8004516a52a18f5852c43ab": {
      "model_module": "@jupyter-widgets/controls",
      "model_module_version": "1.5.0",
      "model_name": "HBoxModel",
      "state": {
       "_model_module_version": "1.5.0",
       "_view_module_version": "1.5.0",
       "children": [
        "IPY_MODEL_cd0584bab1be4ed68a665d51d183c4e1",
        "IPY_MODEL_4b29dbf4206b42abbd800b6835fa8b8f"
       ],
       "layout": "IPY_MODEL_782867f4bdc94f0ea2f5c7fa10c2a752"
      }
     },
     "48bae030cd5e49ec92756fcb1516da39": {
      "model_module": "@jupyter-widgets/controls",
      "model_module_version": "1.5.0",
      "model_name": "HTMLModel",
      "state": {
       "_model_module_version": "1.5.0",
       "_view_module_version": "1.5.0",
       "layout": "IPY_MODEL_6c575d51a7554c5e954844f4076bfeae",
       "style": "IPY_MODEL_469c98143f7f4d34b1088b65d10daa24",
       "value": " 1/100 ETA: 14:39:26s,  532.99s/epochs"
      }
     },
     "494a5724e95a42d2bc1fb0ff7be1e980": {
      "model_module": "@jupyter-widgets/base",
      "model_module_version": "1.2.0",
      "model_name": "LayoutModel",
      "state": {
       "_model_module_version": "1.2.0",
       "_view_module_version": "1.2.0",
       "justify_items": null,
       "object_fit": null,
       "object_position": null
      }
     },
     "4aa8f39e9142452194c508cf557a97a8": {
      "model_module": "@jupyter-widgets/controls",
      "model_module_version": "1.5.0",
      "model_name": "HBoxModel",
      "state": {
       "_model_module_version": "1.5.0",
       "_view_module_version": "1.5.0",
       "children": [
        "IPY_MODEL_c89187e04f074b949b7a24cb1deb5a97",
        "IPY_MODEL_a467880213a8456092024bd018fd48d2"
       ],
       "layout": "IPY_MODEL_c64bebfcb6cb4104af5f9c852e5f4e4a"
      }
     },
     "4abdb813c1754864a56449bccf5c9d33": {
      "model_module": "@jupyter-widgets/controls",
      "model_module_version": "1.5.0",
      "model_name": "DescriptionStyleModel",
      "state": {
       "_model_module_version": "1.5.0",
       "_view_module_version": "1.2.0",
       "description_width": ""
      }
     },
     "4ae86d768f2f44e29c94aebabc5322fd": {
      "model_module": "@jupyter-widgets/controls",
      "model_module_version": "1.5.0",
      "model_name": "ProgressStyleModel",
      "state": {
       "_model_module_version": "1.5.0",
       "_view_module_version": "1.2.0",
       "description_width": "initial"
      }
     },
     "4b124a755b87473a9b122b1fa2341ee0": {
      "model_module": "@jupyter-widgets/base",
      "model_module_version": "1.2.0",
      "model_name": "LayoutModel",
      "state": {
       "_model_module_version": "1.2.0",
       "_view_module_version": "1.2.0",
       "display": "inline-flex",
       "flex_flow": "row wrap",
       "justify_items": null,
       "object_fit": null,
       "object_position": null,
       "width": "100%"
      }
     },
     "4b29dbf4206b42abbd800b6835fa8b8f": {
      "model_module": "@jupyter-widgets/controls",
      "model_module_version": "1.5.0",
      "model_name": "HTMLModel",
      "state": {
       "_model_module_version": "1.5.0",
       "_view_module_version": "1.5.0",
       "layout": "IPY_MODEL_95dcfd4a84a14e8a9f2320f8d4e9cb93",
       "style": "IPY_MODEL_3f4bfb4c104943e58bbdfa512e24dfb0",
       "value": " ETA: 00:00s - loss: 0.2632 - val_loss: 0.2604"
      }
     },
     "4cc405903e7f4637958947a88f61e5dd": {
      "model_module": "@jupyter-widgets/base",
      "model_module_version": "1.2.0",
      "model_name": "LayoutModel",
      "state": {
       "_model_module_version": "1.2.0",
       "_view_module_version": "1.2.0",
       "justify_items": null,
       "object_fit": null,
       "object_position": null
      }
     },
     "4d4051bc1f6b41d48e77ed4bf13981ac": {
      "model_module": "@jupyter-widgets/controls",
      "model_module_version": "1.5.0",
      "model_name": "HTMLModel",
      "state": {
       "_model_module_version": "1.5.0",
       "_view_module_version": "1.5.0",
       "layout": "IPY_MODEL_9e33a58c58be474cae59e5f3ac47fbb0",
       "style": "IPY_MODEL_109e1f6d22f749978236c0f30cd67936",
       "value": " ETA: 00:00s - loss: 0.2566 - val_loss: 0.2566"
      }
     },
     "4d7a36afc8094a19aeb41966146b8fc9": {
      "model_module": "@jupyter-widgets/controls",
      "model_module_version": "1.5.0",
      "model_name": "HTMLModel",
      "state": {
       "_model_module_version": "1.5.0",
       "_view_module_version": "1.5.0",
       "layout": "IPY_MODEL_274188a796fb409b9575a0d7761d47bf",
       "style": "IPY_MODEL_02b8707a114c4eacbded6d5fdf97cdf2",
       "value": " ETA: 00:00s - loss: 0.2243 - val_loss: 0.2269"
      }
     },
     "4dece65a729e4f27bff296aceaed325b": {
      "model_module": "@jupyter-widgets/base",
      "model_module_version": "1.2.0",
      "model_name": "LayoutModel",
      "state": {
       "_model_module_version": "1.2.0",
       "_view_module_version": "1.2.0",
       "flex": "2",
       "justify_items": null,
       "object_fit": null,
       "object_position": null
      }
     },
     "4e4cc4ac6ff54a4c867d4a75e2587d88": {
      "model_module": "@jupyter-widgets/controls",
      "model_module_version": "1.5.0",
      "model_name": "FloatProgressModel",
      "state": {
       "_model_module_version": "1.5.0",
       "_view_module_version": "1.5.0",
       "bar_style": "success",
       "description": "500/500",
       "layout": "IPY_MODEL_364c69471a4d415181cd6f6ac13c5126",
       "max": 500,
       "style": "IPY_MODEL_5b2057862f7e456495e2690b0a78cf4a",
       "value": 500
      }
     },
     "4fb10e939e0648f495a7db15d18f6872": {
      "model_module": "@jupyter-widgets/controls",
      "model_module_version": "1.5.0",
      "model_name": "FloatProgressModel",
      "state": {
       "_model_module_version": "1.5.0",
       "_view_module_version": "1.5.0",
       "bar_style": "success",
       "description": "500/500",
       "layout": "IPY_MODEL_daf5e327e9444d57ab28103c4a388a0d",
       "max": 500,
       "style": "IPY_MODEL_993f3a9410e240c79048940d609df264",
       "value": 500
      }
     },
     "4fb83085c9a2448494b03f437b431878": {
      "model_module": "@jupyter-widgets/controls",
      "model_module_version": "1.5.0",
      "model_name": "HTMLModel",
      "state": {
       "_model_module_version": "1.5.0",
       "_view_module_version": "1.5.0",
       "layout": "IPY_MODEL_4365a8bd061b41d4919c8363c09f3d54",
       "style": "IPY_MODEL_a74daeab07df4615ab493fac31878e2f",
       "value": " ETA: 00:00s - loss: 0.2048 - val_loss: 0.2056"
      }
     },
     "502614d176b24791b4a6b0ca7a35ca2b": {
      "model_module": "@jupyter-widgets/controls",
      "model_module_version": "1.5.0",
      "model_name": "ProgressStyleModel",
      "state": {
       "_model_module_version": "1.5.0",
       "_view_module_version": "1.2.0",
       "description_width": "initial"
      }
     },
     "50e298e8cad9472fa0ae1e9293768d36": {
      "model_module": "@jupyter-widgets/controls",
      "model_module_version": "1.5.0",
      "model_name": "ProgressStyleModel",
      "state": {
       "_model_module_version": "1.5.0",
       "_view_module_version": "1.2.0",
       "description_width": "initial"
      }
     },
     "51564ef41e51424783cb1f68d47c1ae5": {
      "model_module": "@jupyter-widgets/controls",
      "model_module_version": "1.5.0",
      "model_name": "ProgressStyleModel",
      "state": {
       "_model_module_version": "1.5.0",
       "_view_module_version": "1.2.0",
       "description_width": "initial"
      }
     },
     "51a77866787a41c99f94006b19bb6f1b": {
      "model_module": "@jupyter-widgets/controls",
      "model_module_version": "1.5.0",
      "model_name": "ProgressStyleModel",
      "state": {
       "_model_module_version": "1.5.0",
       "_view_module_version": "1.2.0",
       "description_width": "initial"
      }
     },
     "51d6ab33db604b379ef0039c108240d3": {
      "model_module": "@jupyter-widgets/base",
      "model_module_version": "1.2.0",
      "model_name": "LayoutModel",
      "state": {
       "_model_module_version": "1.2.0",
       "_view_module_version": "1.2.0",
       "display": "inline-flex",
       "flex_flow": "row wrap",
       "justify_items": null,
       "object_fit": null,
       "object_position": null,
       "width": "100%"
      }
     },
     "524d753ce1a4458783ac1d9f80d12962": {
      "model_module": "@jupyter-widgets/controls",
      "model_module_version": "1.5.0",
      "model_name": "DescriptionStyleModel",
      "state": {
       "_model_module_version": "1.5.0",
       "_view_module_version": "1.2.0",
       "description_width": ""
      }
     },
     "52726dfd402643ea9fdfe8e72cbf5fc8": {
      "model_module": "@jupyter-widgets/controls",
      "model_module_version": "1.5.0",
      "model_name": "FloatProgressModel",
      "state": {
       "_model_module_version": "1.5.0",
       "_view_module_version": "1.5.0",
       "bar_style": "success",
       "description": "500/500",
       "layout": "IPY_MODEL_8ed7a3545699415e8cafe715d743b9fe",
       "max": 500,
       "style": "IPY_MODEL_3de060e5727d49a8ae48b519e222a26d",
       "value": 500
      }
     },
     "52ecfeefd6194a6e8fdff66b618e3d37": {
      "model_module": "@jupyter-widgets/controls",
      "model_module_version": "1.5.0",
      "model_name": "DescriptionStyleModel",
      "state": {
       "_model_module_version": "1.5.0",
       "_view_module_version": "1.2.0",
       "description_width": ""
      }
     },
     "5314a357af9145aea0bb1fac3782d768": {
      "model_module": "@jupyter-widgets/base",
      "model_module_version": "1.2.0",
      "model_name": "LayoutModel",
      "state": {
       "_model_module_version": "1.2.0",
       "_view_module_version": "1.2.0",
       "flex": "2",
       "justify_items": null,
       "object_fit": null,
       "object_position": null
      }
     },
     "5343b4af412141ca850146e5d31df39b": {
      "model_module": "@jupyter-widgets/base",
      "model_module_version": "1.2.0",
      "model_name": "LayoutModel",
      "state": {
       "_model_module_version": "1.2.0",
       "_view_module_version": "1.2.0",
       "flex": "2",
       "justify_items": null,
       "object_fit": null,
       "object_position": null
      }
     },
     "53aa9770748044aab80da2914456731c": {
      "model_module": "@jupyter-widgets/controls",
      "model_module_version": "1.5.0",
      "model_name": "DescriptionStyleModel",
      "state": {
       "_model_module_version": "1.5.0",
       "_view_module_version": "1.2.0",
       "description_width": ""
      }
     },
     "5418c2ebe91441b985782fe21c407f55": {
      "model_module": "@jupyter-widgets/base",
      "model_module_version": "1.2.0",
      "model_name": "LayoutModel",
      "state": {
       "_model_module_version": "1.2.0",
       "_view_module_version": "1.2.0",
       "justify_items": null,
       "object_fit": null,
       "object_position": null
      }
     },
     "54dcba1219e04db48676c458ebf2e978": {
      "model_module": "@jupyter-widgets/controls",
      "model_module_version": "1.5.0",
      "model_name": "FloatProgressModel",
      "state": {
       "_model_module_version": "1.5.0",
       "_view_module_version": "1.5.0",
       "bar_style": "danger",
       "description": "Training:  78%",
       "layout": "IPY_MODEL_e60d391403dc4f52b8878cfcd7b0c7ca",
       "style": "IPY_MODEL_a9674c2ec34d4373baf1ac7ee3a7998e",
       "value": 78
      }
     },
     "553d4d856770456498f7190eade05639": {
      "model_module": "@jupyter-widgets/controls",
      "model_module_version": "1.5.0",
      "model_name": "DescriptionStyleModel",
      "state": {
       "_model_module_version": "1.5.0",
       "_view_module_version": "1.2.0",
       "description_width": ""
      }
     },
     "553d8fd00f7246158b2b9a512fd85cd9": {
      "model_module": "@jupyter-widgets/controls",
      "model_module_version": "1.5.0",
      "model_name": "HBoxModel",
      "state": {
       "_model_module_version": "1.5.0",
       "_view_module_version": "1.5.0",
       "children": [
        "IPY_MODEL_3b8cc8649db64a3f882ef0a0de8720b7",
        "IPY_MODEL_0c3bea246c494f4c9b0d49c53924de9d"
       ],
       "layout": "IPY_MODEL_a25f95adf74146d68f49e8775788db94"
      }
     },
     "56066d69825e4d30ab99361f86338f16": {
      "model_module": "@jupyter-widgets/controls",
      "model_module_version": "1.5.0",
      "model_name": "HBoxModel",
      "state": {
       "_model_module_version": "1.5.0",
       "_view_module_version": "1.5.0",
       "children": [
        "IPY_MODEL_8ccf436bb58147dd97b6146014f50632",
        "IPY_MODEL_65335534f7f14d2baa3c716ff077416c"
       ],
       "layout": "IPY_MODEL_208fdfa7d0a243a69c03041d0f5d8ec8"
      }
     },
     "56be43cfe0ea4747a14450d316475705": {
      "model_module": "@jupyter-widgets/controls",
      "model_module_version": "1.5.0",
      "model_name": "HBoxModel",
      "state": {
       "_model_module_version": "1.5.0",
       "_view_module_version": "1.5.0",
       "children": [
        "IPY_MODEL_ed3f409c236f4e74bf6eedd9e70b4cb2",
        "IPY_MODEL_e66b7e8490824c808d2a7dac90b6c9e7"
       ],
       "layout": "IPY_MODEL_63f715d997144c0f9c9b681bb60833c8"
      }
     },
     "57661e8be7ff42a89e5d89dbe439630b": {
      "model_module": "@jupyter-widgets/controls",
      "model_module_version": "1.5.0",
      "model_name": "FloatProgressModel",
      "state": {
       "_model_module_version": "1.5.0",
       "_view_module_version": "1.5.0",
       "bar_style": "success",
       "description": "500/500",
       "layout": "IPY_MODEL_d9410462d7024a62accf60114e0e5964",
       "max": 500,
       "style": "IPY_MODEL_60e5c38317f646298b3fdb97a0e77bf2",
       "value": 500
      }
     },
     "57923370b57644908ffd3295e59aeb06": {
      "model_module": "@jupyter-widgets/controls",
      "model_module_version": "1.5.0",
      "model_name": "HTMLModel",
      "state": {
       "_model_module_version": "1.5.0",
       "_view_module_version": "1.5.0",
       "layout": "IPY_MODEL_a4a44c298e7344a395a7a84e0e599d01",
       "style": "IPY_MODEL_21f2abea76474cbe8c2b1ab32a7922c4",
       "value": " ETA: 00:00s - loss: 0.2395 - val_loss: 0.2346"
      }
     },
     "588e9a75fe46442f807a8769206d2064": {
      "model_module": "@jupyter-widgets/controls",
      "model_module_version": "1.5.0",
      "model_name": "HTMLModel",
      "state": {
       "_model_module_version": "1.5.0",
       "_view_module_version": "1.5.0",
       "layout": "IPY_MODEL_aee327d5c9eb40299f2108b329c6376d",
       "style": "IPY_MODEL_4abdb813c1754864a56449bccf5c9d33",
       "value": " ETA: 00:00s - loss: 0.2107 - val_loss: 0.2088"
      }
     },
     "58bea317d2484fd183130733c412ca99": {
      "model_module": "@jupyter-widgets/controls",
      "model_module_version": "1.5.0",
      "model_name": "DescriptionStyleModel",
      "state": {
       "_model_module_version": "1.5.0",
       "_view_module_version": "1.2.0",
       "description_width": ""
      }
     },
     "58fef62e801c415ab89833ffc2d4b016": {
      "model_module": "@jupyter-widgets/controls",
      "model_module_version": "1.5.0",
      "model_name": "HBoxModel",
      "state": {
       "_model_module_version": "1.5.0",
       "_view_module_version": "1.5.0",
       "children": [
        "IPY_MODEL_9905db3268d14c3fad46804f240e9a1e",
        "IPY_MODEL_e1feb44a25144cc1a81710581b018c30"
       ],
       "layout": "IPY_MODEL_f2e7051169d94013a724dc527f783f72"
      }
     },
     "5936961689134b8e8024f9820103f134": {
      "model_module": "@jupyter-widgets/base",
      "model_module_version": "1.2.0",
      "model_name": "LayoutModel",
      "state": {
       "_model_module_version": "1.2.0",
       "_view_module_version": "1.2.0",
       "flex": "2",
       "justify_items": null,
       "object_fit": null,
       "object_position": null
      }
     },
     "59a13787dc214caa9352f6c94416e864": {
      "model_module": "@jupyter-widgets/controls",
      "model_module_version": "1.5.0",
      "model_name": "ProgressStyleModel",
      "state": {
       "_model_module_version": "1.5.0",
       "_view_module_version": "1.2.0",
       "description_width": "initial"
      }
     },
     "59f54e6c39c74b339f93786e5ce53d08": {
      "model_module": "@jupyter-widgets/base",
      "model_module_version": "1.2.0",
      "model_name": "LayoutModel",
      "state": {
       "_model_module_version": "1.2.0",
       "_view_module_version": "1.2.0",
       "display": "inline-flex",
       "flex_flow": "row wrap",
       "justify_items": null,
       "object_fit": null,
       "object_position": null,
       "width": "100%"
      }
     },
     "5a41849f16394bfcac2127097c63608e": {
      "model_module": "@jupyter-widgets/base",
      "model_module_version": "1.2.0",
      "model_name": "LayoutModel",
      "state": {
       "_model_module_version": "1.2.0",
       "_view_module_version": "1.2.0",
       "justify_items": null,
       "object_fit": null,
       "object_position": null
      }
     },
     "5ad62ff07ce042c6a8a9985a54737efc": {
      "model_module": "@jupyter-widgets/base",
      "model_module_version": "1.2.0",
      "model_name": "LayoutModel",
      "state": {
       "_model_module_version": "1.2.0",
       "_view_module_version": "1.2.0",
       "flex": "2",
       "justify_items": null,
       "object_fit": null,
       "object_position": null
      }
     },
     "5af36c1f0b6a430abc69cd0d20e2a01c": {
      "model_module": "@jupyter-widgets/controls",
      "model_module_version": "1.5.0",
      "model_name": "ProgressStyleModel",
      "state": {
       "_model_module_version": "1.5.0",
       "_view_module_version": "1.2.0",
       "description_width": "initial"
      }
     },
     "5b0fd345ff0249fab1c8ff3484e2d846": {
      "model_module": "@jupyter-widgets/controls",
      "model_module_version": "1.5.0",
      "model_name": "ProgressStyleModel",
      "state": {
       "_model_module_version": "1.5.0",
       "_view_module_version": "1.2.0",
       "description_width": "initial"
      }
     },
     "5b2057862f7e456495e2690b0a78cf4a": {
      "model_module": "@jupyter-widgets/controls",
      "model_module_version": "1.5.0",
      "model_name": "ProgressStyleModel",
      "state": {
       "_model_module_version": "1.5.0",
       "_view_module_version": "1.2.0",
       "description_width": "initial"
      }
     },
     "5b8f4797f60a4348a1648efa4232ae83": {
      "model_module": "@jupyter-widgets/controls",
      "model_module_version": "1.5.0",
      "model_name": "FloatProgressModel",
      "state": {
       "_model_module_version": "1.5.0",
       "_view_module_version": "1.5.0",
       "bar_style": "success",
       "description": "500/500",
       "layout": "IPY_MODEL_447db07893fa434daa7d7500396925fd",
       "max": 500,
       "style": "IPY_MODEL_4373ef3eb2954c59b5279205bbd345b0",
       "value": 500
      }
     },
     "5b9be49aca6249b3a5736a11f4e2f542": {
      "model_module": "@jupyter-widgets/controls",
      "model_module_version": "1.5.0",
      "model_name": "FloatProgressModel",
      "state": {
       "_model_module_version": "1.5.0",
       "_view_module_version": "1.5.0",
       "bar_style": "success",
       "description": "500/500",
       "layout": "IPY_MODEL_fb3c78173d2242a8a8c379160292d308",
       "max": 500,
       "style": "IPY_MODEL_1b3efa4a25fc435d874050a448bcf534",
       "value": 500
      }
     },
     "5c899e78f3924faf9f5d291246ba6ba8": {
      "model_module": "@jupyter-widgets/controls",
      "model_module_version": "1.5.0",
      "model_name": "DescriptionStyleModel",
      "state": {
       "_model_module_version": "1.5.0",
       "_view_module_version": "1.2.0",
       "description_width": ""
      }
     },
     "5cf3c0ce69dd47a08763727d9e5099f2": {
      "model_module": "@jupyter-widgets/base",
      "model_module_version": "1.2.0",
      "model_name": "LayoutModel",
      "state": {
       "_model_module_version": "1.2.0",
       "_view_module_version": "1.2.0",
       "flex": "2",
       "justify_items": null,
       "object_fit": null,
       "object_position": null
      }
     },
     "5d097400c5554b50b3cfb7e7caa0b76f": {
      "model_module": "@jupyter-widgets/base",
      "model_module_version": "1.2.0",
      "model_name": "LayoutModel",
      "state": {
       "_model_module_version": "1.2.0",
       "_view_module_version": "1.2.0",
       "justify_items": null,
       "object_fit": null,
       "object_position": null
      }
     },
     "5db9b4c8a73e4c2080f91d244728ce31": {
      "model_module": "@jupyter-widgets/controls",
      "model_module_version": "1.5.0",
      "model_name": "DescriptionStyleModel",
      "state": {
       "_model_module_version": "1.5.0",
       "_view_module_version": "1.2.0",
       "description_width": ""
      }
     },
     "5dbf621a5dcd40598e0fec91f014e04d": {
      "model_module": "@jupyter-widgets/controls",
      "model_module_version": "1.5.0",
      "model_name": "DescriptionStyleModel",
      "state": {
       "_model_module_version": "1.5.0",
       "_view_module_version": "1.2.0",
       "description_width": ""
      }
     },
     "5e48f7ff28a94134a6c960c4b7c884bd": {
      "model_module": "@jupyter-widgets/base",
      "model_module_version": "1.2.0",
      "model_name": "LayoutModel",
      "state": {
       "_model_module_version": "1.2.0",
       "_view_module_version": "1.2.0",
       "flex": "2",
       "justify_items": null,
       "object_fit": null,
       "object_position": null
      }
     },
     "604ee31f55ff4cd38fc126f5a52ea385": {
      "model_module": "@jupyter-widgets/controls",
      "model_module_version": "1.5.0",
      "model_name": "ProgressStyleModel",
      "state": {
       "_model_module_version": "1.5.0",
       "_view_module_version": "1.2.0",
       "description_width": "initial"
      }
     },
     "607bef10c87a482eb2c8d90ee61ad757": {
      "model_module": "@jupyter-widgets/controls",
      "model_module_version": "1.5.0",
      "model_name": "DescriptionStyleModel",
      "state": {
       "_model_module_version": "1.5.0",
       "_view_module_version": "1.2.0",
       "description_width": ""
      }
     },
     "60b46621497d4994a5af0a768e35ff3f": {
      "model_module": "@jupyter-widgets/controls",
      "model_module_version": "1.5.0",
      "model_name": "ProgressStyleModel",
      "state": {
       "_model_module_version": "1.5.0",
       "_view_module_version": "1.2.0",
       "description_width": "initial"
      }
     },
     "60dc7d4f8d534b4daa8ff2c32f96f101": {
      "model_module": "@jupyter-widgets/controls",
      "model_module_version": "1.5.0",
      "model_name": "HTMLModel",
      "state": {
       "_model_module_version": "1.5.0",
       "_view_module_version": "1.5.0",
       "layout": "IPY_MODEL_2d3f9bea51274bbda949db749e9637a7",
       "style": "IPY_MODEL_68fe5247c52e4125a3555940db359119",
       "value": " ETA: 00:00s - loss: 0.2083 - val_loss: 0.2097"
      }
     },
     "60e5c38317f646298b3fdb97a0e77bf2": {
      "model_module": "@jupyter-widgets/controls",
      "model_module_version": "1.5.0",
      "model_name": "ProgressStyleModel",
      "state": {
       "_model_module_version": "1.5.0",
       "_view_module_version": "1.2.0",
       "description_width": "initial"
      }
     },
     "613c4da86fb746d1ab2d6a3503aec401": {
      "model_module": "@jupyter-widgets/controls",
      "model_module_version": "1.5.0",
      "model_name": "ProgressStyleModel",
      "state": {
       "_model_module_version": "1.5.0",
       "_view_module_version": "1.2.0",
       "description_width": "initial"
      }
     },
     "61bcd510e9c74a85ae533ffb0c36d299": {
      "model_module": "@jupyter-widgets/base",
      "model_module_version": "1.2.0",
      "model_name": "LayoutModel",
      "state": {
       "_model_module_version": "1.2.0",
       "_view_module_version": "1.2.0",
       "justify_items": null,
       "object_fit": null,
       "object_position": null
      }
     },
     "61d83f1e77aa4f5f997965a189de99e3": {
      "model_module": "@jupyter-widgets/controls",
      "model_module_version": "1.5.0",
      "model_name": "FloatProgressModel",
      "state": {
       "_model_module_version": "1.5.0",
       "_view_module_version": "1.5.0",
       "bar_style": "success",
       "description": "500/500",
       "layout": "IPY_MODEL_d25a89b6a24a467fbd8c2de84dd3ad56",
       "max": 500,
       "style": "IPY_MODEL_ce998eaf0c0241e0b4158da802b553d1",
       "value": 500
      }
     },
     "62060a52b6b04aa4aded878dbeba48a6": {
      "model_module": "@jupyter-widgets/controls",
      "model_module_version": "1.5.0",
      "model_name": "HBoxModel",
      "state": {
       "_model_module_version": "1.5.0",
       "_view_module_version": "1.5.0",
       "children": [
        "IPY_MODEL_fa9ceeea0f5848618c6c16d9719dd43c",
        "IPY_MODEL_921d82c0536b4c93bb2b3cd0bec70e66"
       ],
       "layout": "IPY_MODEL_1341f6b04d0f41478afdde15db56a68d"
      }
     },
     "6217bb0741fc45de9a2de62c37068118": {
      "model_module": "@jupyter-widgets/controls",
      "model_module_version": "1.5.0",
      "model_name": "DescriptionStyleModel",
      "state": {
       "_model_module_version": "1.5.0",
       "_view_module_version": "1.2.0",
       "description_width": ""
      }
     },
     "62776df549be4db59ef02f0b73423a3f": {
      "model_module": "@jupyter-widgets/base",
      "model_module_version": "1.2.0",
      "model_name": "LayoutModel",
      "state": {
       "_model_module_version": "1.2.0",
       "_view_module_version": "1.2.0",
       "justify_items": null,
       "object_fit": null,
       "object_position": null
      }
     },
     "631dd71690b5485a80e49253b8d0c147": {
      "model_module": "@jupyter-widgets/base",
      "model_module_version": "1.2.0",
      "model_name": "LayoutModel",
      "state": {
       "_model_module_version": "1.2.0",
       "_view_module_version": "1.2.0",
       "display": "inline-flex",
       "flex_flow": "row wrap",
       "justify_items": null,
       "object_fit": null,
       "object_position": null,
       "width": "100%"
      }
     },
     "6336a5ef0c844042874c41fa324ea465": {
      "model_module": "@jupyter-widgets/base",
      "model_module_version": "1.2.0",
      "model_name": "LayoutModel",
      "state": {
       "_model_module_version": "1.2.0",
       "_view_module_version": "1.2.0",
       "justify_items": null,
       "object_fit": null,
       "object_position": null
      }
     },
     "6356b41dcba5411993988e3839c350ac": {
      "model_module": "@jupyter-widgets/base",
      "model_module_version": "1.2.0",
      "model_name": "LayoutModel",
      "state": {
       "_model_module_version": "1.2.0",
       "_view_module_version": "1.2.0",
       "justify_items": null,
       "object_fit": null,
       "object_position": null
      }
     },
     "63f715d997144c0f9c9b681bb60833c8": {
      "model_module": "@jupyter-widgets/base",
      "model_module_version": "1.2.0",
      "model_name": "LayoutModel",
      "state": {
       "_model_module_version": "1.2.0",
       "_view_module_version": "1.2.0",
       "display": "inline-flex",
       "flex_flow": "row wrap",
       "justify_items": null,
       "object_fit": null,
       "object_position": null,
       "width": "100%"
      }
     },
     "6527a1eb30df46518f28c4d2d391385c": {
      "model_module": "@jupyter-widgets/controls",
      "model_module_version": "1.5.0",
      "model_name": "FloatProgressModel",
      "state": {
       "_model_module_version": "1.5.0",
       "_view_module_version": "1.5.0",
       "bar_style": "success",
       "description": "500/500",
       "layout": "IPY_MODEL_4dece65a729e4f27bff296aceaed325b",
       "max": 500,
       "style": "IPY_MODEL_50e298e8cad9472fa0ae1e9293768d36",
       "value": 500
      }
     },
     "65335534f7f14d2baa3c716ff077416c": {
      "model_module": "@jupyter-widgets/controls",
      "model_module_version": "1.5.0",
      "model_name": "HTMLModel",
      "state": {
       "_model_module_version": "1.5.0",
       "_view_module_version": "1.5.0",
       "layout": "IPY_MODEL_6336a5ef0c844042874c41fa324ea465",
       "style": "IPY_MODEL_e69dc8feecd143c8ad08a2ed28581571",
       "value": " ETA: 00:00s - loss: 0.2659 - val_loss: 0.2650"
      }
     },
     "655933621d7340db8f9144de9ba29054": {
      "model_module": "@jupyter-widgets/base",
      "model_module_version": "1.2.0",
      "model_name": "LayoutModel",
      "state": {
       "_model_module_version": "1.2.0",
       "_view_module_version": "1.2.0",
       "justify_items": null,
       "object_fit": null,
       "object_position": null
      }
     },
     "65ed64e85a30443f871bdba6ee95d4b6": {
      "model_module": "@jupyter-widgets/base",
      "model_module_version": "1.2.0",
      "model_name": "LayoutModel",
      "state": {
       "_model_module_version": "1.2.0",
       "_view_module_version": "1.2.0",
       "justify_items": null,
       "object_fit": null,
       "object_position": null
      }
     },
     "65f70ed528cb4759b57ac16b0b3206ba": {
      "model_module": "@jupyter-widgets/base",
      "model_module_version": "1.2.0",
      "model_name": "LayoutModel",
      "state": {
       "_model_module_version": "1.2.0",
       "_view_module_version": "1.2.0",
       "display": "inline-flex",
       "flex_flow": "row wrap",
       "justify_items": null,
       "object_fit": null,
       "object_position": null,
       "width": "100%"
      }
     },
     "67c1fddb46614bc3a07ff73853cdf97d": {
      "model_module": "@jupyter-widgets/base",
      "model_module_version": "1.2.0",
      "model_name": "LayoutModel",
      "state": {
       "_model_module_version": "1.2.0",
       "_view_module_version": "1.2.0",
       "justify_items": null,
       "object_fit": null,
       "object_position": null
      }
     },
     "680e7b66348e43c0a02037de13a9d6b7": {
      "model_module": "@jupyter-widgets/base",
      "model_module_version": "1.2.0",
      "model_name": "LayoutModel",
      "state": {
       "_model_module_version": "1.2.0",
       "_view_module_version": "1.2.0",
       "flex": "2",
       "justify_items": null,
       "object_fit": null,
       "object_position": null
      }
     },
     "685c0af36a7f4400b635267a4bfa6ac5": {
      "model_module": "@jupyter-widgets/controls",
      "model_module_version": "1.5.0",
      "model_name": "FloatProgressModel",
      "state": {
       "_model_module_version": "1.5.0",
       "_view_module_version": "1.5.0",
       "bar_style": "success",
       "description": "500/500",
       "layout": "IPY_MODEL_959e42b15a8d4ad8869d013487ea0a4c",
       "max": 500,
       "style": "IPY_MODEL_28a7dda7def54158b8116ce1497b6871",
       "value": 500
      }
     },
     "68fe5247c52e4125a3555940db359119": {
      "model_module": "@jupyter-widgets/controls",
      "model_module_version": "1.5.0",
      "model_name": "DescriptionStyleModel",
      "state": {
       "_model_module_version": "1.5.0",
       "_view_module_version": "1.2.0",
       "description_width": ""
      }
     },
     "69d4a1dab0a14f589bbdd56a8f2fc1cb": {
      "model_module": "@jupyter-widgets/controls",
      "model_module_version": "1.5.0",
      "model_name": "HBoxModel",
      "state": {
       "_model_module_version": "1.5.0",
       "_view_module_version": "1.5.0",
       "children": [
        "IPY_MODEL_0bd9feddec3c42609ad4c3be44a75999",
        "IPY_MODEL_2a0ed5df33d84ff299ddd911850a417c"
       ],
       "layout": "IPY_MODEL_2c8cf31ad33f4c588ef9664b16e99187"
      }
     },
     "6a09130e8c664ee29e94419b28f509a7": {
      "model_module": "@jupyter-widgets/controls",
      "model_module_version": "1.5.0",
      "model_name": "HBoxModel",
      "state": {
       "_model_module_version": "1.5.0",
       "_view_module_version": "1.5.0",
       "children": [
        "IPY_MODEL_c7c8f59ca64c471d9c77c6ef1e3d82fe",
        "IPY_MODEL_f5638e02d0fe4826bae4629be345cfbe"
       ],
       "layout": "IPY_MODEL_4b124a755b87473a9b122b1fa2341ee0"
      }
     },
     "6aaf644a4b16459c99804896405522fe": {
      "model_module": "@jupyter-widgets/base",
      "model_module_version": "1.2.0",
      "model_name": "LayoutModel",
      "state": {
       "_model_module_version": "1.2.0",
       "_view_module_version": "1.2.0",
       "display": "inline-flex",
       "flex_flow": "row wrap",
       "justify_items": null,
       "object_fit": null,
       "object_position": null,
       "width": "100%"
      }
     },
     "6b3c0d39b9d745d1a44efb2eec737bb5": {
      "model_module": "@jupyter-widgets/base",
      "model_module_version": "1.2.0",
      "model_name": "LayoutModel",
      "state": {
       "_model_module_version": "1.2.0",
       "_view_module_version": "1.2.0",
       "display": "inline-flex",
       "flex_flow": "row wrap",
       "justify_items": null,
       "object_fit": null,
       "object_position": null,
       "width": "100%"
      }
     },
     "6c575d51a7554c5e954844f4076bfeae": {
      "model_module": "@jupyter-widgets/base",
      "model_module_version": "1.2.0",
      "model_name": "LayoutModel",
      "state": {
       "_model_module_version": "1.2.0",
       "_view_module_version": "1.2.0",
       "justify_items": null,
       "object_fit": null,
       "object_position": null
      }
     },
     "6c9244bc7a85497b969a369b5684652b": {
      "model_module": "@jupyter-widgets/base",
      "model_module_version": "1.2.0",
      "model_name": "LayoutModel",
      "state": {
       "_model_module_version": "1.2.0",
       "_view_module_version": "1.2.0",
       "flex": "2",
       "justify_items": null,
       "object_fit": null,
       "object_position": null
      }
     },
     "6d979acdda164813b5d30d9f83a3dd95": {
      "model_module": "@jupyter-widgets/base",
      "model_module_version": "1.2.0",
      "model_name": "LayoutModel",
      "state": {
       "_model_module_version": "1.2.0",
       "_view_module_version": "1.2.0",
       "justify_items": null,
       "object_fit": null,
       "object_position": null
      }
     },
     "6e64cf22ffb04a988b52db4add349856": {
      "model_module": "@jupyter-widgets/controls",
      "model_module_version": "1.5.0",
      "model_name": "DescriptionStyleModel",
      "state": {
       "_model_module_version": "1.5.0",
       "_view_module_version": "1.2.0",
       "description_width": ""
      }
     },
     "6ea31dcca9d74d6cb62546523fe5f870": {
      "model_module": "@jupyter-widgets/base",
      "model_module_version": "1.2.0",
      "model_name": "LayoutModel",
      "state": {
       "_model_module_version": "1.2.0",
       "_view_module_version": "1.2.0",
       "flex": "2",
       "justify_items": null,
       "object_fit": null,
       "object_position": null
      }
     },
     "6eb993fb70fc4bfd83e274a5145d6c91": {
      "model_module": "@jupyter-widgets/base",
      "model_module_version": "1.2.0",
      "model_name": "LayoutModel",
      "state": {
       "_model_module_version": "1.2.0",
       "_view_module_version": "1.2.0",
       "display": "inline-flex",
       "flex_flow": "row wrap",
       "justify_items": null,
       "object_fit": null,
       "object_position": null,
       "width": "100%"
      }
     },
     "6f6e324985364699baf67ab5d867a7de": {
      "model_module": "@jupyter-widgets/base",
      "model_module_version": "1.2.0",
      "model_name": "LayoutModel",
      "state": {
       "_model_module_version": "1.2.0",
       "_view_module_version": "1.2.0",
       "display": "inline-flex",
       "flex_flow": "row wrap",
       "justify_items": null,
       "object_fit": null,
       "object_position": null,
       "width": "100%"
      }
     },
     "70aec04511af4f1fb7efc19244bc09ad": {
      "model_module": "@jupyter-widgets/controls",
      "model_module_version": "1.5.0",
      "model_name": "HBoxModel",
      "state": {
       "_model_module_version": "1.5.0",
       "_view_module_version": "1.5.0",
       "children": [
        "IPY_MODEL_db36b326c25e4e06b616fee15bde0a55",
        "IPY_MODEL_3279045293ff498ca428cea308e1fda7"
       ],
       "layout": "IPY_MODEL_0051d8208916434eb9eb762557670f2e"
      }
     },
     "70fd1dc1dc894be29782a460f6d66edf": {
      "model_module": "@jupyter-widgets/controls",
      "model_module_version": "1.5.0",
      "model_name": "HBoxModel",
      "state": {
       "_model_module_version": "1.5.0",
       "_view_module_version": "1.5.0",
       "children": [
        "IPY_MODEL_5b8f4797f60a4348a1648efa4232ae83",
        "IPY_MODEL_29cc16c4bfda4ee386a94478d8e7da22"
       ],
       "layout": "IPY_MODEL_06ff7a0100f44c039b6dd12468a1cb9d"
      }
     },
     "715c70d19c354840b18dc430151d4ff2": {
      "model_module": "@jupyter-widgets/base",
      "model_module_version": "1.2.0",
      "model_name": "LayoutModel",
      "state": {
       "_model_module_version": "1.2.0",
       "_view_module_version": "1.2.0",
       "justify_items": null,
       "object_fit": null,
       "object_position": null
      }
     },
     "71751b0a21a2465f912e5ef68767d71f": {
      "model_module": "@jupyter-widgets/controls",
      "model_module_version": "1.5.0",
      "model_name": "HBoxModel",
      "state": {
       "_model_module_version": "1.5.0",
       "_view_module_version": "1.5.0",
       "children": [
        "IPY_MODEL_c121297bf3a641b4a67b202b2ff3fb8f",
        "IPY_MODEL_34eef305c8a142b7a9b48cc62aed67e4"
       ],
       "layout": "IPY_MODEL_c1e67bb825b44f4b91bfeb89ab13fb8e"
      }
     },
     "71e54830c08442e7a35209de9e1dced9": {
      "model_module": "@jupyter-widgets/controls",
      "model_module_version": "1.5.0",
      "model_name": "ProgressStyleModel",
      "state": {
       "_model_module_version": "1.5.0",
       "_view_module_version": "1.2.0",
       "description_width": "initial"
      }
     },
     "7246766310af445ea28eaf71a18d1a9c": {
      "model_module": "@jupyter-widgets/base",
      "model_module_version": "1.2.0",
      "model_name": "LayoutModel",
      "state": {
       "_model_module_version": "1.2.0",
       "_view_module_version": "1.2.0",
       "display": "inline-flex",
       "flex_flow": "row wrap",
       "justify_items": null,
       "object_fit": null,
       "object_position": null,
       "width": "100%"
      }
     },
     "72be41f77ba9462a9f1a110a4cd6f1fd": {
      "model_module": "@jupyter-widgets/controls",
      "model_module_version": "1.5.0",
      "model_name": "FloatProgressModel",
      "state": {
       "_model_module_version": "1.5.0",
       "_view_module_version": "1.5.0",
       "bar_style": "success",
       "description": "500/500",
       "layout": "IPY_MODEL_f73d0e3ec25a47ca90cb5fbb0c324734",
       "max": 500,
       "style": "IPY_MODEL_51a77866787a41c99f94006b19bb6f1b",
       "value": 500
      }
     },
     "732372d1a1574564a059f2e3cea38826": {
      "model_module": "@jupyter-widgets/base",
      "model_module_version": "1.2.0",
      "model_name": "LayoutModel",
      "state": {
       "_model_module_version": "1.2.0",
       "_view_module_version": "1.2.0",
       "display": "inline-flex",
       "flex_flow": "row wrap",
       "justify_items": null,
       "object_fit": null,
       "object_position": null,
       "width": "100%"
      }
     },
     "749eb868faf848c5bcca90a5f66909cc": {
      "model_module": "@jupyter-widgets/controls",
      "model_module_version": "1.5.0",
      "model_name": "HBoxModel",
      "state": {
       "_model_module_version": "1.5.0",
       "_view_module_version": "1.5.0",
       "children": [
        "IPY_MODEL_d70f1a7e75074e95a239c19b2b9357e1",
        "IPY_MODEL_f235202515af4f9bba2dd7c4ce38a794"
       ],
       "layout": "IPY_MODEL_46d8b302c4064c02a122b495237d7534"
      }
     },
     "7526ea3d09074e29aafc37bfd225d97e": {
      "model_module": "@jupyter-widgets/base",
      "model_module_version": "1.2.0",
      "model_name": "LayoutModel",
      "state": {
       "_model_module_version": "1.2.0",
       "_view_module_version": "1.2.0",
       "justify_items": null,
       "object_fit": null,
       "object_position": null
      }
     },
     "753e454e16ed4ef991a7f14c32bda8b7": {
      "model_module": "@jupyter-widgets/controls",
      "model_module_version": "1.5.0",
      "model_name": "HBoxModel",
      "state": {
       "_model_module_version": "1.5.0",
       "_view_module_version": "1.5.0",
       "children": [
        "IPY_MODEL_2203316a6ad8488b8dd75f22f1fded6b",
        "IPY_MODEL_c8e2335380504518a1f4c9755cdb5d36"
       ],
       "layout": "IPY_MODEL_1bae8d49cebd43eabef0691626becded"
      }
     },
     "75d75208ef1b417ebc080fb80e573cd4": {
      "model_module": "@jupyter-widgets/controls",
      "model_module_version": "1.5.0",
      "model_name": "HTMLModel",
      "state": {
       "_model_module_version": "1.5.0",
       "_view_module_version": "1.5.0",
       "layout": "IPY_MODEL_2559ec1044a64517855bcab46c617767",
       "style": "IPY_MODEL_ce0d120c81154d869ef6056873f38aaa",
       "value": " ETA: 00:00s - loss: 0.2180 - val_loss: 0.2180"
      }
     },
     "76143ba1c58c495c97782371d981ff85": {
      "model_module": "@jupyter-widgets/controls",
      "model_module_version": "1.5.0",
      "model_name": "HTMLModel",
      "state": {
       "_model_module_version": "1.5.0",
       "_view_module_version": "1.5.0",
       "layout": "IPY_MODEL_0d710b52f7614e08bc136a067430e632",
       "style": "IPY_MODEL_8e57c6ed31294a03939154d642aa9fe1",
       "value": " ETA: 00:00s - loss: 0.2457 - val_loss: 0.2428"
      }
     },
     "76eba82263b749238fe15e2ea7ba330e": {
      "model_module": "@jupyter-widgets/controls",
      "model_module_version": "1.5.0",
      "model_name": "ProgressStyleModel",
      "state": {
       "_model_module_version": "1.5.0",
       "_view_module_version": "1.2.0",
       "description_width": "initial"
      }
     },
     "770aa36fb7294ce08271aafd8375117f": {
      "model_module": "@jupyter-widgets/controls",
      "model_module_version": "1.5.0",
      "model_name": "ProgressStyleModel",
      "state": {
       "_model_module_version": "1.5.0",
       "_view_module_version": "1.2.0",
       "description_width": "initial"
      }
     },
     "770e377eef7c40f693a6397879ae88c6": {
      "model_module": "@jupyter-widgets/base",
      "model_module_version": "1.2.0",
      "model_name": "LayoutModel",
      "state": {
       "_model_module_version": "1.2.0",
       "_view_module_version": "1.2.0",
       "display": "inline-flex",
       "flex_flow": "row wrap",
       "justify_items": null,
       "object_fit": null,
       "object_position": null,
       "width": "100%"
      }
     },
     "7720603bb4a74a3f99cae74f1d2f4cfe": {
      "model_module": "@jupyter-widgets/controls",
      "model_module_version": "1.5.0",
      "model_name": "FloatProgressModel",
      "state": {
       "_model_module_version": "1.5.0",
       "_view_module_version": "1.5.0",
       "bar_style": "success",
       "description": "500/500",
       "layout": "IPY_MODEL_b7684fe0824f466d9ffa421ec7f83415",
       "max": 500,
       "style": "IPY_MODEL_dbe996d7c2874949ae69ef71fa481bcc",
       "value": 500
      }
     },
     "77d89705aa274f888c485abfb4eae609": {
      "model_module": "@jupyter-widgets/controls",
      "model_module_version": "1.5.0",
      "model_name": "DescriptionStyleModel",
      "state": {
       "_model_module_version": "1.5.0",
       "_view_module_version": "1.2.0",
       "description_width": ""
      }
     },
     "77d8bf20a61d4f439f148488da03654f": {
      "model_module": "@jupyter-widgets/base",
      "model_module_version": "1.2.0",
      "model_name": "LayoutModel",
      "state": {
       "_model_module_version": "1.2.0",
       "_view_module_version": "1.2.0",
       "justify_items": null,
       "object_fit": null,
       "object_position": null
      }
     },
     "782867f4bdc94f0ea2f5c7fa10c2a752": {
      "model_module": "@jupyter-widgets/base",
      "model_module_version": "1.2.0",
      "model_name": "LayoutModel",
      "state": {
       "_model_module_version": "1.2.0",
       "_view_module_version": "1.2.0",
       "display": "inline-flex",
       "flex_flow": "row wrap",
       "justify_items": null,
       "object_fit": null,
       "object_position": null,
       "width": "100%"
      }
     },
     "7835614b6ca949bd9f880ceb9aa324d3": {
      "model_module": "@jupyter-widgets/controls",
      "model_module_version": "1.5.0",
      "model_name": "FloatProgressModel",
      "state": {
       "_model_module_version": "1.5.0",
       "_view_module_version": "1.5.0",
       "bar_style": "success",
       "description": "500/500",
       "layout": "IPY_MODEL_2a99577ccda44faaa6c7f60dc7492559",
       "max": 500,
       "style": "IPY_MODEL_e6f39b4ca3184813b594fb23786725d0",
       "value": 500
      }
     },
     "78f7d5eb83d94b6f8877e6bebf3609d0": {
      "model_module": "@jupyter-widgets/base",
      "model_module_version": "1.2.0",
      "model_name": "LayoutModel",
      "state": {
       "_model_module_version": "1.2.0",
       "_view_module_version": "1.2.0",
       "justify_items": null,
       "object_fit": null,
       "object_position": null
      }
     },
     "7913f54953da434683a925a10d804a38": {
      "model_module": "@jupyter-widgets/controls",
      "model_module_version": "1.5.0",
      "model_name": "ProgressStyleModel",
      "state": {
       "_model_module_version": "1.5.0",
       "_view_module_version": "1.2.0",
       "description_width": "initial"
      }
     },
     "7959a089c3094e39a6c870c4c48bfcca": {
      "model_module": "@jupyter-widgets/controls",
      "model_module_version": "1.5.0",
      "model_name": "FloatProgressModel",
      "state": {
       "_model_module_version": "1.5.0",
       "_view_module_version": "1.5.0",
       "bar_style": "success",
       "description": "500/500",
       "layout": "IPY_MODEL_c8c435f79f2842a781490eee2bc85a34",
       "max": 500,
       "style": "IPY_MODEL_e7d430b44ab5406cab505b52fb11400d",
       "value": 500
      }
     },
     "7999f130a9ad443086f6c82736908db4": {
      "model_module": "@jupyter-widgets/controls",
      "model_module_version": "1.5.0",
      "model_name": "DescriptionStyleModel",
      "state": {
       "_model_module_version": "1.5.0",
       "_view_module_version": "1.2.0",
       "description_width": ""
      }
     },
     "79b12b7f788643498d6ca316b2bdc4dd": {
      "model_module": "@jupyter-widgets/controls",
      "model_module_version": "1.5.0",
      "model_name": "DescriptionStyleModel",
      "state": {
       "_model_module_version": "1.5.0",
       "_view_module_version": "1.2.0",
       "description_width": ""
      }
     },
     "79edf7bcbf924355836ab391e1ac6344": {
      "model_module": "@jupyter-widgets/base",
      "model_module_version": "1.2.0",
      "model_name": "LayoutModel",
      "state": {
       "_model_module_version": "1.2.0",
       "_view_module_version": "1.2.0",
       "flex": "2",
       "justify_items": null,
       "object_fit": null,
       "object_position": null
      }
     },
     "7b76b3f20e6d4f1cabd899f760d70ec6": {
      "model_module": "@jupyter-widgets/controls",
      "model_module_version": "1.5.0",
      "model_name": "HBoxModel",
      "state": {
       "_model_module_version": "1.5.0",
       "_view_module_version": "1.5.0",
       "children": [
        "IPY_MODEL_57661e8be7ff42a89e5d89dbe439630b",
        "IPY_MODEL_b14b8da8f681495daf6227b2777a6721"
       ],
       "layout": "IPY_MODEL_4673b5a3b50746a1b2cc5b7dcc560e38"
      }
     },
     "7c2b8a3720ac459fa9d8f8f22fd2ee25": {
      "model_module": "@jupyter-widgets/controls",
      "model_module_version": "1.5.0",
      "model_name": "HBoxModel",
      "state": {
       "_model_module_version": "1.5.0",
       "_view_module_version": "1.5.0",
       "children": [
        "IPY_MODEL_339760a9d3b042d49152322be3c8dc66",
        "IPY_MODEL_15e9699f12fe4062a082db29bf33c1eb"
       ],
       "layout": "IPY_MODEL_1306e213effe419a8ed8e5f45d1b1d6b"
      }
     },
     "7cdc38f14aca4b918a12a9acfcb8f4e5": {
      "model_module": "@jupyter-widgets/controls",
      "model_module_version": "1.5.0",
      "model_name": "HTMLModel",
      "state": {
       "_model_module_version": "1.5.0",
       "_view_module_version": "1.5.0",
       "layout": "IPY_MODEL_318a78d6948c4300a87007e0ae9eafc5",
       "style": "IPY_MODEL_9b25cf76f26f4acfbb9820d345b131cf",
       "value": " ETA: 00:00s - loss: 0.2779 - val_loss: 0.2768"
      }
     },
     "7d365316880f4e28afd527c2d36f8d0b": {
      "model_module": "@jupyter-widgets/base",
      "model_module_version": "1.2.0",
      "model_name": "LayoutModel",
      "state": {
       "_model_module_version": "1.2.0",
       "_view_module_version": "1.2.0",
       "display": "inline-flex",
       "flex_flow": "row wrap",
       "justify_items": null,
       "object_fit": null,
       "object_position": null,
       "width": "100%"
      }
     },
     "7d42527b59d5473d93854c36b29c1b82": {
      "model_module": "@jupyter-widgets/controls",
      "model_module_version": "1.5.0",
      "model_name": "ProgressStyleModel",
      "state": {
       "_model_module_version": "1.5.0",
       "_view_module_version": "1.2.0",
       "description_width": "initial"
      }
     },
     "7d54a02e1d11436fa9d0f63e536b351b": {
      "model_module": "@jupyter-widgets/base",
      "model_module_version": "1.2.0",
      "model_name": "LayoutModel",
      "state": {
       "_model_module_version": "1.2.0",
       "_view_module_version": "1.2.0",
       "flex": "2",
       "justify_items": null,
       "object_fit": null,
       "object_position": null
      }
     },
     "7d5bca59eefe4fae8468160fa87e7b2b": {
      "model_module": "@jupyter-widgets/controls",
      "model_module_version": "1.5.0",
      "model_name": "FloatProgressModel",
      "state": {
       "_model_module_version": "1.5.0",
       "_view_module_version": "1.5.0",
       "bar_style": "success",
       "description": "500/500",
       "layout": "IPY_MODEL_1a8b508818ae450d9a9ceb7c2e391e38",
       "max": 500,
       "style": "IPY_MODEL_0817a1f34c654055a9ef08c333a244ca",
       "value": 500
      }
     },
     "7df016a7d6014dd4b1481863ffb5c210": {
      "model_module": "@jupyter-widgets/controls",
      "model_module_version": "1.5.0",
      "model_name": "ProgressStyleModel",
      "state": {
       "_model_module_version": "1.5.0",
       "_view_module_version": "1.2.0",
       "description_width": "initial"
      }
     },
     "7e2bdc654c7e4a5fb5e09c5e24790cae": {
      "model_module": "@jupyter-widgets/controls",
      "model_module_version": "1.5.0",
      "model_name": "DescriptionStyleModel",
      "state": {
       "_model_module_version": "1.5.0",
       "_view_module_version": "1.2.0",
       "description_width": ""
      }
     },
     "7e80ac8c356a4f2bb3fb7f6d015bddc1": {
      "model_module": "@jupyter-widgets/controls",
      "model_module_version": "1.5.0",
      "model_name": "FloatProgressModel",
      "state": {
       "_model_module_version": "1.5.0",
       "_view_module_version": "1.5.0",
       "bar_style": "success",
       "description": "500/500",
       "layout": "IPY_MODEL_3eff25d3a2764885896150e01f6a6ba6",
       "max": 500,
       "style": "IPY_MODEL_16577541743f42cc933bc6e8629e0af6",
       "value": 500
      }
     },
     "7f9da3a1e34446ff92b9c656ab4b690c": {
      "model_module": "@jupyter-widgets/controls",
      "model_module_version": "1.5.0",
      "model_name": "FloatProgressModel",
      "state": {
       "_model_module_version": "1.5.0",
       "_view_module_version": "1.5.0",
       "bar_style": "danger",
       "description": "Training:   1%",
       "layout": "IPY_MODEL_a9a8b197d8594378bbfb586ddb54d07b",
       "style": "IPY_MODEL_32cc82e7ea564febb80382f10c606340",
       "value": 1
      }
     },
     "7fee41a5cda04a8fa87debc8d76698b7": {
      "model_module": "@jupyter-widgets/controls",
      "model_module_version": "1.5.0",
      "model_name": "HBoxModel",
      "state": {
       "_model_module_version": "1.5.0",
       "_view_module_version": "1.5.0",
       "children": [
        "IPY_MODEL_f99e16f056014084a0e58d3be71664b4",
        "IPY_MODEL_f9b17149f4b5470ea01b9c7272338679"
       ],
       "layout": "IPY_MODEL_41b004a85443491bb280aa26a7b41a3d"
      }
     },
     "80502099f0f44b4f98f73ca5029ecb5c": {
      "model_module": "@jupyter-widgets/base",
      "model_module_version": "1.2.0",
      "model_name": "LayoutModel",
      "state": {
       "_model_module_version": "1.2.0",
       "_view_module_version": "1.2.0",
       "justify_items": null,
       "object_fit": null,
       "object_position": null
      }
     },
     "8057a9c39ca2428481b787963f30903e": {
      "model_module": "@jupyter-widgets/controls",
      "model_module_version": "1.5.0",
      "model_name": "FloatProgressModel",
      "state": {
       "_model_module_version": "1.5.0",
       "_view_module_version": "1.5.0",
       "bar_style": "success",
       "description": "500/500",
       "layout": "IPY_MODEL_da5f3f0f7ab74af0a7638a3d39503597",
       "max": 500,
       "style": "IPY_MODEL_1d34385ec6c343d0bc35936ed9ae0549",
       "value": 500
      }
     },
     "813c2ab3890a4b46bdc39d67439c80a1": {
      "model_module": "@jupyter-widgets/controls",
      "model_module_version": "1.5.0",
      "model_name": "HBoxModel",
      "state": {
       "_model_module_version": "1.5.0",
       "_view_module_version": "1.5.0",
       "children": [
        "IPY_MODEL_7959a089c3094e39a6c870c4c48bfcca",
        "IPY_MODEL_4d7a36afc8094a19aeb41966146b8fc9"
       ],
       "layout": "IPY_MODEL_f463dcfbb5b142ba90b8a6df48008812"
      }
     },
     "814e7bb24a0e40fbaf88edc92e44d95f": {
      "model_module": "@jupyter-widgets/controls",
      "model_module_version": "1.5.0",
      "model_name": "HTMLModel",
      "state": {
       "_model_module_version": "1.5.0",
       "_view_module_version": "1.5.0",
       "layout": "IPY_MODEL_841e3cfc59374468867cebbcc3b29be6",
       "style": "IPY_MODEL_7999f130a9ad443086f6c82736908db4",
       "value": " ETA: 00:00s - loss: 0.5932"
      }
     },
     "8174f6589a934e3fa3875448c253be18": {
      "model_module": "@jupyter-widgets/controls",
      "model_module_version": "1.5.0",
      "model_name": "DescriptionStyleModel",
      "state": {
       "_model_module_version": "1.5.0",
       "_view_module_version": "1.2.0",
       "description_width": ""
      }
     },
     "81dae8f177c64963b91f7898581597e1": {
      "model_module": "@jupyter-widgets/base",
      "model_module_version": "1.2.0",
      "model_name": "LayoutModel",
      "state": {
       "_model_module_version": "1.2.0",
       "_view_module_version": "1.2.0",
       "flex": "2",
       "justify_items": null,
       "object_fit": null,
       "object_position": null
      }
     },
     "8210f12f1c584ad8af88dc2b3aa195c4": {
      "model_module": "@jupyter-widgets/controls",
      "model_module_version": "1.5.0",
      "model_name": "DescriptionStyleModel",
      "state": {
       "_model_module_version": "1.5.0",
       "_view_module_version": "1.2.0",
       "description_width": ""
      }
     },
     "824fe3a34fc94a03ae4743aa790a4605": {
      "model_module": "@jupyter-widgets/controls",
      "model_module_version": "1.5.0",
      "model_name": "DescriptionStyleModel",
      "state": {
       "_model_module_version": "1.5.0",
       "_view_module_version": "1.2.0",
       "description_width": ""
      }
     },
     "8341936ad0c44acc9968e52587c6de07": {
      "model_module": "@jupyter-widgets/base",
      "model_module_version": "1.2.0",
      "model_name": "LayoutModel",
      "state": {
       "_model_module_version": "1.2.0",
       "_view_module_version": "1.2.0",
       "display": "inline-flex",
       "flex_flow": "row wrap",
       "justify_items": null,
       "object_fit": null,
       "object_position": null,
       "width": "100%"
      }
     },
     "83707517d32e49e296191a37df413a01": {
      "model_module": "@jupyter-widgets/base",
      "model_module_version": "1.2.0",
      "model_name": "LayoutModel",
      "state": {
       "_model_module_version": "1.2.0",
       "_view_module_version": "1.2.0",
       "justify_items": null,
       "object_fit": null,
       "object_position": null
      }
     },
     "83ba696cbbb64965b6369a089b4e228a": {
      "model_module": "@jupyter-widgets/controls",
      "model_module_version": "1.5.0",
      "model_name": "HTMLModel",
      "state": {
       "_model_module_version": "1.5.0",
       "_view_module_version": "1.5.0",
       "layout": "IPY_MODEL_abe6b002d30b43768272a24a50eb8835",
       "style": "IPY_MODEL_bd1b6a4d906e43a19d326b37bf3f4c61",
       "value": " ETA: 00:00s - loss: 0.2265 - val_loss: 0.2225"
      }
     },
     "841491c0f8084b85958f6886afafa8df": {
      "model_module": "@jupyter-widgets/base",
      "model_module_version": "1.2.0",
      "model_name": "LayoutModel",
      "state": {
       "_model_module_version": "1.2.0",
       "_view_module_version": "1.2.0",
       "display": "inline-flex",
       "flex_flow": "row wrap",
       "justify_items": null,
       "object_fit": null,
       "object_position": null,
       "width": "100%"
      }
     },
     "841e3cfc59374468867cebbcc3b29be6": {
      "model_module": "@jupyter-widgets/base",
      "model_module_version": "1.2.0",
      "model_name": "LayoutModel",
      "state": {
       "_model_module_version": "1.2.0",
       "_view_module_version": "1.2.0",
       "justify_items": null,
       "object_fit": null,
       "object_position": null
      }
     },
     "846b716334d54f819321a4e2f0b09b75": {
      "model_module": "@jupyter-widgets/base",
      "model_module_version": "1.2.0",
      "model_name": "LayoutModel",
      "state": {
       "_model_module_version": "1.2.0",
       "_view_module_version": "1.2.0",
       "justify_items": null,
       "object_fit": null,
       "object_position": null
      }
     },
     "84b8ffb46420402988189f23528c9cff": {
      "model_module": "@jupyter-widgets/controls",
      "model_module_version": "1.5.0",
      "model_name": "HBoxModel",
      "state": {
       "_model_module_version": "1.5.0",
       "_view_module_version": "1.5.0",
       "children": [
        "IPY_MODEL_7d5bca59eefe4fae8468160fa87e7b2b",
        "IPY_MODEL_edd49b78ce5645a9aa335d2368ca52bd"
       ],
       "layout": "IPY_MODEL_ba82869c22db4be5b4c444aac5862faf"
      }
     },
     "8867deb59ebd4adaa62a9143f4101717": {
      "model_module": "@jupyter-widgets/controls",
      "model_module_version": "1.5.0",
      "model_name": "DescriptionStyleModel",
      "state": {
       "_model_module_version": "1.5.0",
       "_view_module_version": "1.2.0",
       "description_width": ""
      }
     },
     "88881aaedaaa4260a82e69de1bc6d18b": {
      "model_module": "@jupyter-widgets/base",
      "model_module_version": "1.2.0",
      "model_name": "LayoutModel",
      "state": {
       "_model_module_version": "1.2.0",
       "_view_module_version": "1.2.0",
       "justify_items": null,
       "object_fit": null,
       "object_position": null
      }
     },
     "88aa599a0e144abea7a7c4840ba9646c": {
      "model_module": "@jupyter-widgets/controls",
      "model_module_version": "1.5.0",
      "model_name": "ProgressStyleModel",
      "state": {
       "_model_module_version": "1.5.0",
       "_view_module_version": "1.2.0",
       "description_width": "initial"
      }
     },
     "8956d9bb11f840cb8de920acd1d63b9a": {
      "model_module": "@jupyter-widgets/controls",
      "model_module_version": "1.5.0",
      "model_name": "FloatProgressModel",
      "state": {
       "_model_module_version": "1.5.0",
       "_view_module_version": "1.5.0",
       "bar_style": "success",
       "description": "500/500",
       "layout": "IPY_MODEL_135af8810e9d408d884efe3bb3807fc5",
       "max": 500,
       "style": "IPY_MODEL_c3d3945ba9b14f1fb9041db36db0d1fe",
       "value": 500
      }
     },
     "89acef21b56741878d06e4716cb4c95e": {
      "model_module": "@jupyter-widgets/base",
      "model_module_version": "1.2.0",
      "model_name": "LayoutModel",
      "state": {
       "_model_module_version": "1.2.0",
       "_view_module_version": "1.2.0",
       "flex": "2",
       "justify_items": null,
       "object_fit": null,
       "object_position": null
      }
     },
     "89e039f8f7764c278d000639b71ae90c": {
      "model_module": "@jupyter-widgets/controls",
      "model_module_version": "1.5.0",
      "model_name": "HBoxModel",
      "state": {
       "_model_module_version": "1.5.0",
       "_view_module_version": "1.5.0",
       "children": [
        "IPY_MODEL_04dd203fec8c47bbbdac33e06869de1c",
        "IPY_MODEL_0967b0bb8d0e4cc59398634f39fff6a3"
       ],
       "layout": "IPY_MODEL_419a58eabcf44f32976eb9bbcb77f3e5"
      }
     },
     "8b12768264eb4515b396640e0f80d944": {
      "model_module": "@jupyter-widgets/controls",
      "model_module_version": "1.5.0",
      "model_name": "ProgressStyleModel",
      "state": {
       "_model_module_version": "1.5.0",
       "_view_module_version": "1.2.0",
       "description_width": "initial"
      }
     },
     "8b361cb2fc584092afbf7b20f116fa11": {
      "model_module": "@jupyter-widgets/controls",
      "model_module_version": "1.5.0",
      "model_name": "HTMLModel",
      "state": {
       "_model_module_version": "1.5.0",
       "_view_module_version": "1.5.0",
       "layout": "IPY_MODEL_a73e3f9a84c54d5a8bb429f78dee67a5",
       "style": "IPY_MODEL_e96e248700ef4666a308f9562fc3d668",
       "value": " ETA: 00:00s - loss: 0.2146 - val_loss: 0.2147"
      }
     },
     "8bc5ac33259a4727a3b1ec95e195d8ec": {
      "model_module": "@jupyter-widgets/base",
      "model_module_version": "1.2.0",
      "model_name": "LayoutModel",
      "state": {
       "_model_module_version": "1.2.0",
       "_view_module_version": "1.2.0",
       "justify_items": null,
       "object_fit": null,
       "object_position": null
      }
     },
     "8c1ba3cbc70d4cfe93e94db96ef089ff": {
      "model_module": "@jupyter-widgets/base",
      "model_module_version": "1.2.0",
      "model_name": "LayoutModel",
      "state": {
       "_model_module_version": "1.2.0",
       "_view_module_version": "1.2.0",
       "flex": "2",
       "justify_items": null,
       "object_fit": null,
       "object_position": null
      }
     },
     "8c8b73da22194a329c6d1982e65fc963": {
      "model_module": "@jupyter-widgets/controls",
      "model_module_version": "1.5.0",
      "model_name": "HBoxModel",
      "state": {
       "_model_module_version": "1.5.0",
       "_view_module_version": "1.5.0",
       "children": [
        "IPY_MODEL_476811623d304c49b69ad97058b1a707",
        "IPY_MODEL_814e7bb24a0e40fbaf88edc92e44d95f"
       ],
       "layout": "IPY_MODEL_ec45aaff4ac540a990d76118e9cea928"
      }
     },
     "8ccf436bb58147dd97b6146014f50632": {
      "model_module": "@jupyter-widgets/controls",
      "model_module_version": "1.5.0",
      "model_name": "FloatProgressModel",
      "state": {
       "_model_module_version": "1.5.0",
       "_view_module_version": "1.5.0",
       "bar_style": "success",
       "description": "500/500",
       "layout": "IPY_MODEL_3ab3575537b84664b84b1383c6678436",
       "max": 500,
       "style": "IPY_MODEL_2f47db43deb84a6ea9b502ad8d5263dd",
       "value": 500
      }
     },
     "8d6dcb37fa6e41a1889e5bb3bcf9e504": {
      "model_module": "@jupyter-widgets/controls",
      "model_module_version": "1.5.0",
      "model_name": "ProgressStyleModel",
      "state": {
       "_model_module_version": "1.5.0",
       "_view_module_version": "1.2.0",
       "description_width": "initial"
      }
     },
     "8db55b2412a84620b17f68f5a04a55d4": {
      "model_module": "@jupyter-widgets/controls",
      "model_module_version": "1.5.0",
      "model_name": "FloatProgressModel",
      "state": {
       "_model_module_version": "1.5.0",
       "_view_module_version": "1.5.0",
       "bar_style": "success",
       "description": "500/500",
       "layout": "IPY_MODEL_247fa207ea4c4aeca9e49a5a963e6c09",
       "max": 500,
       "style": "IPY_MODEL_8b12768264eb4515b396640e0f80d944",
       "value": 500
      }
     },
     "8e32b2f9db72455da7cf41c471ee721c": {
      "model_module": "@jupyter-widgets/controls",
      "model_module_version": "1.5.0",
      "model_name": "FloatProgressModel",
      "state": {
       "_model_module_version": "1.5.0",
       "_view_module_version": "1.5.0",
       "bar_style": "success",
       "description": "500/500",
       "layout": "IPY_MODEL_9739e65023d142c686d3a8736e300f84",
       "max": 500,
       "style": "IPY_MODEL_ff9991b17fe241ae8b1ca1c0330d6a0e",
       "value": 500
      }
     },
     "8e49bfaf4ac84e04ba58ef5ac76e7337": {
      "model_module": "@jupyter-widgets/controls",
      "model_module_version": "1.5.0",
      "model_name": "FloatProgressModel",
      "state": {
       "_model_module_version": "1.5.0",
       "_view_module_version": "1.5.0",
       "bar_style": "success",
       "description": "500/500",
       "layout": "IPY_MODEL_ef0967b50eee48619028a3dee60b0a41",
       "max": 500,
       "style": "IPY_MODEL_51564ef41e51424783cb1f68d47c1ae5",
       "value": 500
      }
     },
     "8e57c6ed31294a03939154d642aa9fe1": {
      "model_module": "@jupyter-widgets/controls",
      "model_module_version": "1.5.0",
      "model_name": "DescriptionStyleModel",
      "state": {
       "_model_module_version": "1.5.0",
       "_view_module_version": "1.2.0",
       "description_width": ""
      }
     },
     "8ed7a3545699415e8cafe715d743b9fe": {
      "model_module": "@jupyter-widgets/base",
      "model_module_version": "1.2.0",
      "model_name": "LayoutModel",
      "state": {
       "_model_module_version": "1.2.0",
       "_view_module_version": "1.2.0",
       "flex": "2",
       "justify_items": null,
       "object_fit": null,
       "object_position": null
      }
     },
     "8fb5ee224a8e4b89a64524bc49c4eaf4": {
      "model_module": "@jupyter-widgets/base",
      "model_module_version": "1.2.0",
      "model_name": "LayoutModel",
      "state": {
       "_model_module_version": "1.2.0",
       "_view_module_version": "1.2.0",
       "display": "inline-flex",
       "flex_flow": "row wrap",
       "justify_items": null,
       "object_fit": null,
       "object_position": null,
       "width": "100%"
      }
     },
     "90232744ebee439f8d242bfcd86e194d": {
      "model_module": "@jupyter-widgets/base",
      "model_module_version": "1.2.0",
      "model_name": "LayoutModel",
      "state": {
       "_model_module_version": "1.2.0",
       "_view_module_version": "1.2.0",
       "display": "inline-flex",
       "flex_flow": "row wrap",
       "justify_items": null,
       "object_fit": null,
       "object_position": null,
       "width": "100%"
      }
     },
     "90d5fb74243a45f180ee46d8409035f6": {
      "model_module": "@jupyter-widgets/base",
      "model_module_version": "1.2.0",
      "model_name": "LayoutModel",
      "state": {
       "_model_module_version": "1.2.0",
       "_view_module_version": "1.2.0",
       "justify_items": null,
       "object_fit": null,
       "object_position": null
      }
     },
     "9117af044b7141329c735194d0948068": {
      "model_module": "@jupyter-widgets/controls",
      "model_module_version": "1.5.0",
      "model_name": "ProgressStyleModel",
      "state": {
       "_model_module_version": "1.5.0",
       "_view_module_version": "1.2.0",
       "description_width": "initial"
      }
     },
     "9181da5f849245c4a8b2974b1d0326a7": {
      "model_module": "@jupyter-widgets/controls",
      "model_module_version": "1.5.0",
      "model_name": "DescriptionStyleModel",
      "state": {
       "_model_module_version": "1.5.0",
       "_view_module_version": "1.2.0",
       "description_width": ""
      }
     },
     "91af6d868169403ca88effc94b2e662e": {
      "model_module": "@jupyter-widgets/base",
      "model_module_version": "1.2.0",
      "model_name": "LayoutModel",
      "state": {
       "_model_module_version": "1.2.0",
       "_view_module_version": "1.2.0",
       "display": "inline-flex",
       "flex_flow": "row wrap",
       "justify_items": null,
       "object_fit": null,
       "object_position": null,
       "width": "100%"
      }
     },
     "921d82c0536b4c93bb2b3cd0bec70e66": {
      "model_module": "@jupyter-widgets/controls",
      "model_module_version": "1.5.0",
      "model_name": "HTMLModel",
      "state": {
       "_model_module_version": "1.5.0",
       "_view_module_version": "1.5.0",
       "layout": "IPY_MODEL_c959ffe8e1c1478ca9663baa8fa53523",
       "style": "IPY_MODEL_a8e1bdc452614bcd9dea06fe01dca1a8",
       "value": " ETA: 00:00s - loss: 0.2065 - val_loss: 0.2057"
      }
     },
     "933e4fd6886a4be4b3c228dabf39e8a8": {
      "model_module": "@jupyter-widgets/controls",
      "model_module_version": "1.5.0",
      "model_name": "HBoxModel",
      "state": {
       "_model_module_version": "1.5.0",
       "_view_module_version": "1.5.0",
       "children": [
        "IPY_MODEL_cfd4ac2403de4f8e85761678390be35e",
        "IPY_MODEL_27bb28236fe3421890ccfea7aea630ac"
       ],
       "layout": "IPY_MODEL_de52010ce984456a9fd3ca2b09f031dd"
      }
     },
     "93a11acd09744e94a18c64d2aeced139": {
      "model_module": "@jupyter-widgets/controls",
      "model_module_version": "1.5.0",
      "model_name": "DescriptionStyleModel",
      "state": {
       "_model_module_version": "1.5.0",
       "_view_module_version": "1.2.0",
       "description_width": ""
      }
     },
     "94807fc81df949108860005dee9920f6": {
      "model_module": "@jupyter-widgets/controls",
      "model_module_version": "1.5.0",
      "model_name": "ProgressStyleModel",
      "state": {
       "_model_module_version": "1.5.0",
       "_view_module_version": "1.2.0",
       "description_width": "initial"
      }
     },
     "94f1a30f5d1b4716b41be31767f81a56": {
      "model_module": "@jupyter-widgets/controls",
      "model_module_version": "1.5.0",
      "model_name": "DescriptionStyleModel",
      "state": {
       "_model_module_version": "1.5.0",
       "_view_module_version": "1.2.0",
       "description_width": ""
      }
     },
     "951c8ec06fbf40928c52bd4d1011ae8c": {
      "model_module": "@jupyter-widgets/controls",
      "model_module_version": "1.5.0",
      "model_name": "HTMLModel",
      "state": {
       "_model_module_version": "1.5.0",
       "_view_module_version": "1.5.0",
       "layout": "IPY_MODEL_9f4062b06ae3454cafe126cfde5373d9",
       "style": "IPY_MODEL_26ccf5b72c1243359224d727abed4c2f",
       "value": " ETA: 00:00s - loss: 0.2480 - val_loss: 0.2412"
      }
     },
     "959e42b15a8d4ad8869d013487ea0a4c": {
      "model_module": "@jupyter-widgets/base",
      "model_module_version": "1.2.0",
      "model_name": "LayoutModel",
      "state": {
       "_model_module_version": "1.2.0",
       "_view_module_version": "1.2.0",
       "flex": "2",
       "justify_items": null,
       "object_fit": null,
       "object_position": null
      }
     },
     "95dcfd4a84a14e8a9f2320f8d4e9cb93": {
      "model_module": "@jupyter-widgets/base",
      "model_module_version": "1.2.0",
      "model_name": "LayoutModel",
      "state": {
       "_model_module_version": "1.2.0",
       "_view_module_version": "1.2.0",
       "justify_items": null,
       "object_fit": null,
       "object_position": null
      }
     },
     "95f00486314a476bb8362dae1974811a": {
      "model_module": "@jupyter-widgets/controls",
      "model_module_version": "1.5.0",
      "model_name": "DescriptionStyleModel",
      "state": {
       "_model_module_version": "1.5.0",
       "_view_module_version": "1.2.0",
       "description_width": ""
      }
     },
     "9628bdc235414a15b57a9c78e1b6e7a7": {
      "model_module": "@jupyter-widgets/controls",
      "model_module_version": "1.5.0",
      "model_name": "HBoxModel",
      "state": {
       "_model_module_version": "1.5.0",
       "_view_module_version": "1.5.0",
       "children": [
        "IPY_MODEL_5b9be49aca6249b3a5736a11f4e2f542",
        "IPY_MODEL_c1a2c323e31a4d1abd034fb77513eb85"
       ],
       "layout": "IPY_MODEL_7246766310af445ea28eaf71a18d1a9c"
      }
     },
     "964e84115c814680a0652a354e25824e": {
      "model_module": "@jupyter-widgets/controls",
      "model_module_version": "1.5.0",
      "model_name": "FloatProgressModel",
      "state": {
       "_model_module_version": "1.5.0",
       "_view_module_version": "1.5.0",
       "bar_style": "success",
       "description": "500/500",
       "layout": "IPY_MODEL_2b2fee2187c5441493ac2e41fac43253",
       "max": 500,
       "style": "IPY_MODEL_b8f5e13d41bd4f27b42217d1db5f1e60",
       "value": 500
      }
     },
     "9739d810e9f94b09b5b154071fc3f94d": {
      "model_module": "@jupyter-widgets/controls",
      "model_module_version": "1.5.0",
      "model_name": "HTMLModel",
      "state": {
       "_model_module_version": "1.5.0",
       "_view_module_version": "1.5.0",
       "layout": "IPY_MODEL_655933621d7340db8f9144de9ba29054",
       "style": "IPY_MODEL_3fe8b3fa691b401f9890ee591655a68f",
       "value": " ETA: 00:00s - loss: 0.2733 - val_loss: 0.2642"
      }
     },
     "9739e65023d142c686d3a8736e300f84": {
      "model_module": "@jupyter-widgets/base",
      "model_module_version": "1.2.0",
      "model_name": "LayoutModel",
      "state": {
       "_model_module_version": "1.2.0",
       "_view_module_version": "1.2.0",
       "flex": "2",
       "justify_items": null,
       "object_fit": null,
       "object_position": null
      }
     },
     "9748b31859aa4f6789b1d5de91ad1993": {
      "model_module": "@jupyter-widgets/base",
      "model_module_version": "1.2.0",
      "model_name": "LayoutModel",
      "state": {
       "_model_module_version": "1.2.0",
       "_view_module_version": "1.2.0",
       "display": "inline-flex",
       "flex_flow": "row wrap",
       "justify_items": null,
       "object_fit": null,
       "object_position": null,
       "width": "100%"
      }
     },
     "986f1b3bf76b45049e025df0cbf5fc11": {
      "model_module": "@jupyter-widgets/controls",
      "model_module_version": "1.5.0",
      "model_name": "ProgressStyleModel",
      "state": {
       "_model_module_version": "1.5.0",
       "_view_module_version": "1.2.0",
       "description_width": "initial"
      }
     },
     "98798d80200a453b83ed8918c877e76f": {
      "model_module": "@jupyter-widgets/controls",
      "model_module_version": "1.5.0",
      "model_name": "HTMLModel",
      "state": {
       "_model_module_version": "1.5.0",
       "_view_module_version": "1.5.0",
       "layout": "IPY_MODEL_8bc5ac33259a4727a3b1ec95e195d8ec",
       "style": "IPY_MODEL_ebc85f70b7794d77af8fdd4566e0d200",
       "value": " ETA: 00:00s - loss: 0.2811 - val_loss: 0.2750"
      }
     },
     "98c1d31807cc4d0a8180ac0fef43b5ee": {
      "model_module": "@jupyter-widgets/base",
      "model_module_version": "1.2.0",
      "model_name": "LayoutModel",
      "state": {
       "_model_module_version": "1.2.0",
       "_view_module_version": "1.2.0",
       "flex": "2",
       "justify_items": null,
       "object_fit": null,
       "object_position": null
      }
     },
     "9905db3268d14c3fad46804f240e9a1e": {
      "model_module": "@jupyter-widgets/controls",
      "model_module_version": "1.5.0",
      "model_name": "FloatProgressModel",
      "state": {
       "_model_module_version": "1.5.0",
       "_view_module_version": "1.5.0",
       "bar_style": "success",
       "description": "500/500",
       "layout": "IPY_MODEL_efe724596c444ef69e8de45c703a9532",
       "max": 500,
       "style": "IPY_MODEL_15194acf0662441e9cb40e542d868a66",
       "value": 500
      }
     },
     "993f3a9410e240c79048940d609df264": {
      "model_module": "@jupyter-widgets/controls",
      "model_module_version": "1.5.0",
      "model_name": "ProgressStyleModel",
      "state": {
       "_model_module_version": "1.5.0",
       "_view_module_version": "1.2.0",
       "description_width": "initial"
      }
     },
     "9961cde1d6c44a5f9cbdbb07c649883f": {
      "model_module": "@jupyter-widgets/base",
      "model_module_version": "1.2.0",
      "model_name": "LayoutModel",
      "state": {
       "_model_module_version": "1.2.0",
       "_view_module_version": "1.2.0",
       "flex": "2",
       "justify_items": null,
       "object_fit": null,
       "object_position": null
      }
     },
     "99a1193cc7f94688a89fc5a05ebe8cb2": {
      "model_module": "@jupyter-widgets/controls",
      "model_module_version": "1.5.0",
      "model_name": "HTMLModel",
      "state": {
       "_model_module_version": "1.5.0",
       "_view_module_version": "1.5.0",
       "layout": "IPY_MODEL_65ed64e85a30443f871bdba6ee95d4b6",
       "style": "IPY_MODEL_a333d38bb944438e8e6eccdaeab59245",
       "value": " ETA: 00:00s - loss: 0.2151 - val_loss: 0.2120"
      }
     },
     "99a98d3242cd4a459f968794ea905de4": {
      "model_module": "@jupyter-widgets/controls",
      "model_module_version": "1.5.0",
      "model_name": "HBoxModel",
      "state": {
       "_model_module_version": "1.5.0",
       "_view_module_version": "1.5.0",
       "children": [
        "IPY_MODEL_54dcba1219e04db48676c458ebf2e978",
        "IPY_MODEL_ef76a96b6c414b7d8f482d263fbc4c45"
       ],
       "layout": "IPY_MODEL_e86a8555b9d3456383e9b60f7b371838"
      }
     },
     "99c32b0418ce47f2b9034b2a05633eab": {
      "model_module": "@jupyter-widgets/base",
      "model_module_version": "1.2.0",
      "model_name": "LayoutModel",
      "state": {
       "_model_module_version": "1.2.0",
       "_view_module_version": "1.2.0",
       "justify_items": null,
       "object_fit": null,
       "object_position": null
      }
     },
     "9a1e8fe804454e32b179440eeafdc8c1": {
      "model_module": "@jupyter-widgets/controls",
      "model_module_version": "1.5.0",
      "model_name": "FloatProgressModel",
      "state": {
       "_model_module_version": "1.5.0",
       "_view_module_version": "1.5.0",
       "bar_style": "success",
       "description": "500/500",
       "layout": "IPY_MODEL_6ea31dcca9d74d6cb62546523fe5f870",
       "max": 500,
       "style": "IPY_MODEL_20d9463927dc4036935195ec9e0a41d5",
       "value": 500
      }
     },
     "9aaab58321d44630a5424728cc913955": {
      "model_module": "@jupyter-widgets/controls",
      "model_module_version": "1.5.0",
      "model_name": "HBoxModel",
      "state": {
       "_model_module_version": "1.5.0",
       "_view_module_version": "1.5.0",
       "children": [
        "IPY_MODEL_eb3249671e1f4129aeaa3dac787ab58a",
        "IPY_MODEL_ac8a2596f38247eca7ab531edd1317a6"
       ],
       "layout": "IPY_MODEL_f137f8fdf4c54c58a95b43ffeb387d69"
      }
     },
     "9b105d5ee7454b43a0cbad029c983d08": {
      "model_module": "@jupyter-widgets/controls",
      "model_module_version": "1.5.0",
      "model_name": "DescriptionStyleModel",
      "state": {
       "_model_module_version": "1.5.0",
       "_view_module_version": "1.2.0",
       "description_width": ""
      }
     },
     "9b25cf76f26f4acfbb9820d345b131cf": {
      "model_module": "@jupyter-widgets/controls",
      "model_module_version": "1.5.0",
      "model_name": "DescriptionStyleModel",
      "state": {
       "_model_module_version": "1.5.0",
       "_view_module_version": "1.2.0",
       "description_width": ""
      }
     },
     "9ce1c35e367a40b99b8311d4050da392": {
      "model_module": "@jupyter-widgets/base",
      "model_module_version": "1.2.0",
      "model_name": "LayoutModel",
      "state": {
       "_model_module_version": "1.2.0",
       "_view_module_version": "1.2.0",
       "justify_items": null,
       "object_fit": null,
       "object_position": null
      }
     },
     "9cf418e490d74db4844c7ced49b40d8f": {
      "model_module": "@jupyter-widgets/base",
      "model_module_version": "1.2.0",
      "model_name": "LayoutModel",
      "state": {
       "_model_module_version": "1.2.0",
       "_view_module_version": "1.2.0",
       "flex": "2",
       "justify_items": null,
       "object_fit": null,
       "object_position": null
      }
     },
     "9dbd0c878ce0455d9ced2ae9f20765dd": {
      "model_module": "@jupyter-widgets/base",
      "model_module_version": "1.2.0",
      "model_name": "LayoutModel",
      "state": {
       "_model_module_version": "1.2.0",
       "_view_module_version": "1.2.0",
       "justify_items": null,
       "object_fit": null,
       "object_position": null
      }
     },
     "9dc7e7726a5f4947867f82762b4aded1": {
      "model_module": "@jupyter-widgets/base",
      "model_module_version": "1.2.0",
      "model_name": "LayoutModel",
      "state": {
       "_model_module_version": "1.2.0",
       "_view_module_version": "1.2.0",
       "flex": "2",
       "justify_items": null,
       "object_fit": null,
       "object_position": null
      }
     },
     "9e33a58c58be474cae59e5f3ac47fbb0": {
      "model_module": "@jupyter-widgets/base",
      "model_module_version": "1.2.0",
      "model_name": "LayoutModel",
      "state": {
       "_model_module_version": "1.2.0",
       "_view_module_version": "1.2.0",
       "justify_items": null,
       "object_fit": null,
       "object_position": null
      }
     },
     "9e44e1d866304495b9b79d462e51b3ea": {
      "model_module": "@jupyter-widgets/controls",
      "model_module_version": "1.5.0",
      "model_name": "HBoxModel",
      "state": {
       "_model_module_version": "1.5.0",
       "_view_module_version": "1.5.0",
       "children": [
        "IPY_MODEL_3e175b2763054aacbfcd2ca3a974341b",
        "IPY_MODEL_588e9a75fe46442f807a8769206d2064"
       ],
       "layout": "IPY_MODEL_c5e0545cb93c46e3b5fc5b532afc0648"
      }
     },
     "9ef583dd697b4a61a299ce1afa08ac42": {
      "model_module": "@jupyter-widgets/controls",
      "model_module_version": "1.5.0",
      "model_name": "HTMLModel",
      "state": {
       "_model_module_version": "1.5.0",
       "_view_module_version": "1.5.0",
       "layout": "IPY_MODEL_4cc405903e7f4637958947a88f61e5dd",
       "style": "IPY_MODEL_23e5d505cadd4a02837ee3eec920ec5b",
       "value": " ETA: 00:00s - loss: 0.4868"
      }
     },
     "9f4062b06ae3454cafe126cfde5373d9": {
      "model_module": "@jupyter-widgets/base",
      "model_module_version": "1.2.0",
      "model_name": "LayoutModel",
      "state": {
       "_model_module_version": "1.2.0",
       "_view_module_version": "1.2.0",
       "justify_items": null,
       "object_fit": null,
       "object_position": null
      }
     },
     "9f561fb791fe4dc0975035a54965de53": {
      "model_module": "@jupyter-widgets/controls",
      "model_module_version": "1.5.0",
      "model_name": "HTMLModel",
      "state": {
       "_model_module_version": "1.5.0",
       "_view_module_version": "1.5.0",
       "layout": "IPY_MODEL_264d90dedd6e450b98784d4eafdd7e34",
       "style": "IPY_MODEL_29232c65b93e4dfdb4b4e94944e25aea",
       "value": " ETA: 00:00s - loss: 0.2411 - val_loss: 0.2394"
      }
     },
     "9f7da86820e9472ca7d7d2dd1e0d266b": {
      "model_module": "@jupyter-widgets/controls",
      "model_module_version": "1.5.0",
      "model_name": "FloatProgressModel",
      "state": {
       "_model_module_version": "1.5.0",
       "_view_module_version": "1.5.0",
       "bar_style": "success",
       "description": "500/500",
       "layout": "IPY_MODEL_81dae8f177c64963b91f7898581597e1",
       "max": 500,
       "style": "IPY_MODEL_35371855a7834fb5b2a61dfc723a0ba8",
       "value": 500
      }
     },
     "9fd5abccaf79411fa7848f8a2d19ab98": {
      "model_module": "@jupyter-widgets/controls",
      "model_module_version": "1.5.0",
      "model_name": "ProgressStyleModel",
      "state": {
       "_model_module_version": "1.5.0",
       "_view_module_version": "1.2.0",
       "description_width": "initial"
      }
     },
     "a01c71b1968e40d094b58ef6e821d8f9": {
      "model_module": "@jupyter-widgets/controls",
      "model_module_version": "1.5.0",
      "model_name": "HTMLModel",
      "state": {
       "_model_module_version": "1.5.0",
       "_view_module_version": "1.5.0",
       "layout": "IPY_MODEL_250b9e19affc42a4be3051da6afcda61",
       "style": "IPY_MODEL_8867deb59ebd4adaa62a9143f4101717",
       "value": " ETA: 00:00s - loss: 0.2327 - val_loss: 0.2296"
      }
     },
     "a07819d4b04645f991dd0c12ab32e02f": {
      "model_module": "@jupyter-widgets/controls",
      "model_module_version": "1.5.0",
      "model_name": "FloatProgressModel",
      "state": {
       "_model_module_version": "1.5.0",
       "_view_module_version": "1.5.0",
       "bar_style": "success",
       "description": "500/500",
       "layout": "IPY_MODEL_06253ea58a304fc4a1fe0ac6a02b00f0",
       "max": 500,
       "style": "IPY_MODEL_17c953df1a0444f5b29be165d5c100af",
       "value": 500
      }
     },
     "a0aa803224ab4be880dfcc27cd1a7287": {
      "model_module": "@jupyter-widgets/controls",
      "model_module_version": "1.5.0",
      "model_name": "HBoxModel",
      "state": {
       "_model_module_version": "1.5.0",
       "_view_module_version": "1.5.0",
       "children": [
        "IPY_MODEL_8956d9bb11f840cb8de920acd1d63b9a",
        "IPY_MODEL_1dce811b1e024665bbaf88e022e6ad20"
       ],
       "layout": "IPY_MODEL_f9f4d4e22f9f459a8618ddb7647e1fc6"
      }
     },
     "a178983d953346b08672651aa729fc46": {
      "model_module": "@jupyter-widgets/base",
      "model_module_version": "1.2.0",
      "model_name": "LayoutModel",
      "state": {
       "_model_module_version": "1.2.0",
       "_view_module_version": "1.2.0",
       "justify_items": null,
       "object_fit": null,
       "object_position": null
      }
     },
     "a1bd14870ed942ec9cd666d0a939f62e": {
      "model_module": "@jupyter-widgets/base",
      "model_module_version": "1.2.0",
      "model_name": "LayoutModel",
      "state": {
       "_model_module_version": "1.2.0",
       "_view_module_version": "1.2.0",
       "flex": "2",
       "justify_items": null,
       "object_fit": null,
       "object_position": null
      }
     },
     "a1ce641cb0304c51bc1808078e9fcc9b": {
      "model_module": "@jupyter-widgets/base",
      "model_module_version": "1.2.0",
      "model_name": "LayoutModel",
      "state": {
       "_model_module_version": "1.2.0",
       "_view_module_version": "1.2.0",
       "flex": "2",
       "justify_items": null,
       "object_fit": null,
       "object_position": null
      }
     },
     "a21437c99b004b0ebc952d23675fb0a2": {
      "model_module": "@jupyter-widgets/controls",
      "model_module_version": "1.5.0",
      "model_name": "HTMLModel",
      "state": {
       "_model_module_version": "1.5.0",
       "_view_module_version": "1.5.0",
       "layout": "IPY_MODEL_d0aafd44498042a8871fff16049ca97d",
       "style": "IPY_MODEL_9b105d5ee7454b43a0cbad029c983d08",
       "value": " ETA: 00:00s - loss: 0.2269 - val_loss: 0.2284"
      }
     },
     "a25f95adf74146d68f49e8775788db94": {
      "model_module": "@jupyter-widgets/base",
      "model_module_version": "1.2.0",
      "model_name": "LayoutModel",
      "state": {
       "_model_module_version": "1.2.0",
       "_view_module_version": "1.2.0",
       "display": "inline-flex",
       "flex_flow": "row wrap",
       "justify_items": null,
       "object_fit": null,
       "object_position": null,
       "width": "100%"
      }
     },
     "a3177470fd984631b63b5275ce04b49b": {
      "model_module": "@jupyter-widgets/controls",
      "model_module_version": "1.5.0",
      "model_name": "FloatProgressModel",
      "state": {
       "_model_module_version": "1.5.0",
       "_view_module_version": "1.5.0",
       "bar_style": "success",
       "description": "500/500",
       "layout": "IPY_MODEL_39ec6e814720485f9effb3e5130b1d17",
       "max": 500,
       "style": "IPY_MODEL_0254de18b5c4428788b75cce1fb9b93a",
       "value": 500
      }
     },
     "a324fc2411984023937eb640dc84aa08": {
      "model_module": "@jupyter-widgets/controls",
      "model_module_version": "1.5.0",
      "model_name": "ProgressStyleModel",
      "state": {
       "_model_module_version": "1.5.0",
       "_view_module_version": "1.2.0",
       "description_width": "initial"
      }
     },
     "a333d38bb944438e8e6eccdaeab59245": {
      "model_module": "@jupyter-widgets/controls",
      "model_module_version": "1.5.0",
      "model_name": "DescriptionStyleModel",
      "state": {
       "_model_module_version": "1.5.0",
       "_view_module_version": "1.2.0",
       "description_width": ""
      }
     },
     "a3bfee22fedf46a392856e104582940f": {
      "model_module": "@jupyter-widgets/controls",
      "model_module_version": "1.5.0",
      "model_name": "HBoxModel",
      "state": {
       "_model_module_version": "1.5.0",
       "_view_module_version": "1.5.0",
       "children": [
        "IPY_MODEL_e6fa1ce8dbe543e1a0d10ceea9c4476f",
        "IPY_MODEL_eabcac73963b417f9d36a249ca465310"
       ],
       "layout": "IPY_MODEL_2ffa5943400e4b21a194839b3521204f"
      }
     },
     "a41a3a08f5274851978e7116ed325eee": {
      "model_module": "@jupyter-widgets/base",
      "model_module_version": "1.2.0",
      "model_name": "LayoutModel",
      "state": {
       "_model_module_version": "1.2.0",
       "_view_module_version": "1.2.0",
       "flex": "2",
       "justify_items": null,
       "object_fit": null,
       "object_position": null
      }
     },
     "a41e2a6ab93a4a7c8240afb06eac7ff1": {
      "model_module": "@jupyter-widgets/controls",
      "model_module_version": "1.5.0",
      "model_name": "HBoxModel",
      "state": {
       "_model_module_version": "1.5.0",
       "_view_module_version": "1.5.0",
       "children": [
        "IPY_MODEL_2085bda1606c451d936c9dae8e0991bf",
        "IPY_MODEL_311636ef90c64e638a82968a67be6e33"
       ],
       "layout": "IPY_MODEL_7d365316880f4e28afd527c2d36f8d0b"
      }
     },
     "a467880213a8456092024bd018fd48d2": {
      "model_module": "@jupyter-widgets/controls",
      "model_module_version": "1.5.0",
      "model_name": "HTMLModel",
      "state": {
       "_model_module_version": "1.5.0",
       "_view_module_version": "1.5.0",
       "layout": "IPY_MODEL_19114fa5cbb14fbe8c85b697b4818baa",
       "style": "IPY_MODEL_e548c51321e84334b60ffaaea68fe0b3",
       "value": " ETA: 00:00s - loss: 0.2350 - val_loss: 0.2344"
      }
     },
     "a491d162cc654bdba6cbbe3916a88d47": {
      "model_module": "@jupyter-widgets/base",
      "model_module_version": "1.2.0",
      "model_name": "LayoutModel",
      "state": {
       "_model_module_version": "1.2.0",
       "_view_module_version": "1.2.0",
       "flex": "2",
       "justify_items": null,
       "object_fit": null,
       "object_position": null
      }
     },
     "a4a44c298e7344a395a7a84e0e599d01": {
      "model_module": "@jupyter-widgets/base",
      "model_module_version": "1.2.0",
      "model_name": "LayoutModel",
      "state": {
       "_model_module_version": "1.2.0",
       "_view_module_version": "1.2.0",
       "justify_items": null,
       "object_fit": null,
       "object_position": null
      }
     },
     "a52a84f37a32409b8f4118c10bff5288": {
      "model_module": "@jupyter-widgets/base",
      "model_module_version": "1.2.0",
      "model_name": "LayoutModel",
      "state": {
       "_model_module_version": "1.2.0",
       "_view_module_version": "1.2.0",
       "display": "inline-flex",
       "flex_flow": "row wrap",
       "justify_items": null,
       "object_fit": null,
       "object_position": null,
       "width": "100%"
      }
     },
     "a6170101c3bd46ee9f5387519fff27b4": {
      "model_module": "@jupyter-widgets/base",
      "model_module_version": "1.2.0",
      "model_name": "LayoutModel",
      "state": {
       "_model_module_version": "1.2.0",
       "_view_module_version": "1.2.0",
       "display": "inline-flex",
       "flex_flow": "row wrap",
       "justify_items": null,
       "object_fit": null,
       "object_position": null,
       "width": "100%"
      }
     },
     "a66cf52b4d0640b0b13897aeb8af610e": {
      "model_module": "@jupyter-widgets/controls",
      "model_module_version": "1.5.0",
      "model_name": "HBoxModel",
      "state": {
       "_model_module_version": "1.5.0",
       "_view_module_version": "1.5.0",
       "children": [
        "IPY_MODEL_04bdca47261b432785e5b779198a40a9",
        "IPY_MODEL_951c8ec06fbf40928c52bd4d1011ae8c"
       ],
       "layout": "IPY_MODEL_0082c454f33c4b8f88d15d963f8bafd0"
      }
     },
     "a6dc37a536eb457c85397eecdbb52684": {
      "model_module": "@jupyter-widgets/controls",
      "model_module_version": "1.5.0",
      "model_name": "ProgressStyleModel",
      "state": {
       "_model_module_version": "1.5.0",
       "_view_module_version": "1.2.0",
       "description_width": "initial"
      }
     },
     "a734812dcc514c66b71746db1a4b92f0": {
      "model_module": "@jupyter-widgets/controls",
      "model_module_version": "1.5.0",
      "model_name": "HTMLModel",
      "state": {
       "_model_module_version": "1.5.0",
       "_view_module_version": "1.5.0",
       "layout": "IPY_MODEL_f4ead5df705742beaf7272ea6e0f0395",
       "style": "IPY_MODEL_fced323a745344179cdb1fa293a0c351",
       "value": " ETA: 00:00s - loss: 0.2199 - val_loss: 0.2229"
      }
     },
     "a73e3f9a84c54d5a8bb429f78dee67a5": {
      "model_module": "@jupyter-widgets/base",
      "model_module_version": "1.2.0",
      "model_name": "LayoutModel",
      "state": {
       "_model_module_version": "1.2.0",
       "_view_module_version": "1.2.0",
       "justify_items": null,
       "object_fit": null,
       "object_position": null
      }
     },
     "a74bc984c66445f1aa828d24d0ac3cc8": {
      "model_module": "@jupyter-widgets/base",
      "model_module_version": "1.2.0",
      "model_name": "LayoutModel",
      "state": {
       "_model_module_version": "1.2.0",
       "_view_module_version": "1.2.0",
       "display": "inline-flex",
       "flex_flow": "row wrap",
       "justify_items": null,
       "object_fit": null,
       "object_position": null,
       "width": "100%"
      }
     },
     "a74daeab07df4615ab493fac31878e2f": {
      "model_module": "@jupyter-widgets/controls",
      "model_module_version": "1.5.0",
      "model_name": "DescriptionStyleModel",
      "state": {
       "_model_module_version": "1.5.0",
       "_view_module_version": "1.2.0",
       "description_width": ""
      }
     },
     "a81c252a62534a56848a7907285fa1d8": {
      "model_module": "@jupyter-widgets/controls",
      "model_module_version": "1.5.0",
      "model_name": "DescriptionStyleModel",
      "state": {
       "_model_module_version": "1.5.0",
       "_view_module_version": "1.2.0",
       "description_width": ""
      }
     },
     "a88fd45203734e92831bcc7aeda96ac3": {
      "model_module": "@jupyter-widgets/controls",
      "model_module_version": "1.5.0",
      "model_name": "HBoxModel",
      "state": {
       "_model_module_version": "1.5.0",
       "_view_module_version": "1.5.0",
       "children": [
        "IPY_MODEL_6527a1eb30df46518f28c4d2d391385c",
        "IPY_MODEL_c0edfe5e3d8540b5b42cd104700c503d"
       ],
       "layout": "IPY_MODEL_1d5047990a1443c094df3a803467b99d"
      }
     },
     "a8e1bdc452614bcd9dea06fe01dca1a8": {
      "model_module": "@jupyter-widgets/controls",
      "model_module_version": "1.5.0",
      "model_name": "DescriptionStyleModel",
      "state": {
       "_model_module_version": "1.5.0",
       "_view_module_version": "1.2.0",
       "description_width": ""
      }
     },
     "a92d31475f9c4468b50a41278053a162": {
      "model_module": "@jupyter-widgets/controls",
      "model_module_version": "1.5.0",
      "model_name": "HBoxModel",
      "state": {
       "_model_module_version": "1.5.0",
       "_view_module_version": "1.5.0",
       "children": [
        "IPY_MODEL_b89b76187a0b448f9fa74595b9ba286d",
        "IPY_MODEL_2f82ae8382174a33af18a825da21250f"
       ],
       "layout": "IPY_MODEL_ca89c52c6b00401f88f4fd4d09194551"
      }
     },
     "a9674c2ec34d4373baf1ac7ee3a7998e": {
      "model_module": "@jupyter-widgets/controls",
      "model_module_version": "1.5.0",
      "model_name": "ProgressStyleModel",
      "state": {
       "_model_module_version": "1.5.0",
       "_view_module_version": "1.2.0",
       "description_width": "initial"
      }
     },
     "a9a8b197d8594378bbfb586ddb54d07b": {
      "model_module": "@jupyter-widgets/base",
      "model_module_version": "1.2.0",
      "model_name": "LayoutModel",
      "state": {
       "_model_module_version": "1.2.0",
       "_view_module_version": "1.2.0",
       "flex": "2",
       "justify_items": null,
       "object_fit": null,
       "object_position": null
      }
     },
     "a9dfa4e78f4a42d6bab57812d9d3dca8": {
      "model_module": "@jupyter-widgets/controls",
      "model_module_version": "1.5.0",
      "model_name": "HTMLModel",
      "state": {
       "_model_module_version": "1.5.0",
       "_view_module_version": "1.5.0",
       "layout": "IPY_MODEL_d18ce9ad59b343ac847405d148fc1427",
       "style": "IPY_MODEL_faa61cadeeff437d89a29380ae2f4e24",
       "value": " ETA: 00:00s - loss: 0.2908 - val_loss: 0.2843"
      }
     },
     "aa0437c634c3435fa8f02046b1254dd7": {
      "model_module": "@jupyter-widgets/controls",
      "model_module_version": "1.5.0",
      "model_name": "FloatProgressModel",
      "state": {
       "_model_module_version": "1.5.0",
       "_view_module_version": "1.5.0",
       "bar_style": "success",
       "description": "500/500",
       "layout": "IPY_MODEL_c3e4f03b58e04b2caf754fb7f7ba8c83",
       "max": 500,
       "style": "IPY_MODEL_f73449fc294e4c8da497849d364f9690",
       "value": 500
      }
     },
     "aa6929b2a6a04fe9a3b7b6d9f2980e5f": {
      "model_module": "@jupyter-widgets/controls",
      "model_module_version": "1.5.0",
      "model_name": "ProgressStyleModel",
      "state": {
       "_model_module_version": "1.5.0",
       "_view_module_version": "1.2.0",
       "description_width": "initial"
      }
     },
     "aad1759fd67441479a0ac4f5ae37cd61": {
      "model_module": "@jupyter-widgets/base",
      "model_module_version": "1.2.0",
      "model_name": "LayoutModel",
      "state": {
       "_model_module_version": "1.2.0",
       "_view_module_version": "1.2.0",
       "flex": "2",
       "justify_items": null,
       "object_fit": null,
       "object_position": null
      }
     },
     "ab04c32aeb49477aafc7de8efcc84476": {
      "model_module": "@jupyter-widgets/controls",
      "model_module_version": "1.5.0",
      "model_name": "HTMLModel",
      "state": {
       "_model_module_version": "1.5.0",
       "_view_module_version": "1.5.0",
       "layout": "IPY_MODEL_ce10ecdf2cab45578dc301c7bce0f9a6",
       "style": "IPY_MODEL_ea2ebfef0ee94f5e9d973e89f0a9e924",
       "value": " ETA: 00:00s - loss: 0.2201 - val_loss: 0.2229"
      }
     },
     "ab09b713814d48f4a7bca485385c2bed": {
      "model_module": "@jupyter-widgets/base",
      "model_module_version": "1.2.0",
      "model_name": "LayoutModel",
      "state": {
       "_model_module_version": "1.2.0",
       "_view_module_version": "1.2.0",
       "display": "inline-flex",
       "flex_flow": "row wrap",
       "justify_items": null,
       "object_fit": null,
       "object_position": null,
       "width": "100%"
      }
     },
     "abe6b002d30b43768272a24a50eb8835": {
      "model_module": "@jupyter-widgets/base",
      "model_module_version": "1.2.0",
      "model_name": "LayoutModel",
      "state": {
       "_model_module_version": "1.2.0",
       "_view_module_version": "1.2.0",
       "justify_items": null,
       "object_fit": null,
       "object_position": null
      }
     },
     "ac162b1cbf4e4f489b29970e180b6d98": {
      "model_module": "@jupyter-widgets/base",
      "model_module_version": "1.2.0",
      "model_name": "LayoutModel",
      "state": {
       "_model_module_version": "1.2.0",
       "_view_module_version": "1.2.0",
       "flex": "2",
       "justify_items": null,
       "object_fit": null,
       "object_position": null
      }
     },
     "ac8a2596f38247eca7ab531edd1317a6": {
      "model_module": "@jupyter-widgets/controls",
      "model_module_version": "1.5.0",
      "model_name": "HTMLModel",
      "state": {
       "_model_module_version": "1.5.0",
       "_view_module_version": "1.5.0",
       "layout": "IPY_MODEL_d2e2725290634a888a294cc9ace325d7",
       "style": "IPY_MODEL_95f00486314a476bb8362dae1974811a",
       "value": " ETA: 00:00s - loss: 0.2186 - val_loss: 0.2144"
      }
     },
     "acda3f6fb8704c4093fa55ed22fd15ba": {
      "model_module": "@jupyter-widgets/base",
      "model_module_version": "1.2.0",
      "model_name": "LayoutModel",
      "state": {
       "_model_module_version": "1.2.0",
       "_view_module_version": "1.2.0",
       "display": "inline-flex",
       "flex_flow": "row wrap",
       "justify_items": null,
       "object_fit": null,
       "object_position": null,
       "width": "100%"
      }
     },
     "aceeada83ccd4b20b32e1a2bb13e632e": {
      "model_module": "@jupyter-widgets/controls",
      "model_module_version": "1.5.0",
      "model_name": "DescriptionStyleModel",
      "state": {
       "_model_module_version": "1.5.0",
       "_view_module_version": "1.2.0",
       "description_width": ""
      }
     },
     "ad63ade980e048baaeb85e73bad0e02f": {
      "model_module": "@jupyter-widgets/controls",
      "model_module_version": "1.5.0",
      "model_name": "ProgressStyleModel",
      "state": {
       "_model_module_version": "1.5.0",
       "_view_module_version": "1.2.0",
       "description_width": "initial"
      }
     },
     "add09c8a853940dc8f33f121b80dad01": {
      "model_module": "@jupyter-widgets/base",
      "model_module_version": "1.2.0",
      "model_name": "LayoutModel",
      "state": {
       "_model_module_version": "1.2.0",
       "_view_module_version": "1.2.0",
       "justify_items": null,
       "object_fit": null,
       "object_position": null
      }
     },
     "aeb07eb53e9a4ab2919424b1540db3f3": {
      "model_module": "@jupyter-widgets/controls",
      "model_module_version": "1.5.0",
      "model_name": "HTMLModel",
      "state": {
       "_model_module_version": "1.5.0",
       "_view_module_version": "1.5.0",
       "layout": "IPY_MODEL_df1b9d249bf743b6aa771408cf9c3348",
       "style": "IPY_MODEL_c8e3f87c974945728967c7f2e99a7f67",
       "value": " ETA: 00:00s - loss: 0.2077 - val_loss: 0.2233"
      }
     },
     "aed54117dbd94b30aba9069e0fee5468": {
      "model_module": "@jupyter-widgets/base",
      "model_module_version": "1.2.0",
      "model_name": "LayoutModel",
      "state": {
       "_model_module_version": "1.2.0",
       "_view_module_version": "1.2.0",
       "display": "inline-flex",
       "flex_flow": "row wrap",
       "justify_items": null,
       "object_fit": null,
       "object_position": null,
       "width": "100%"
      }
     },
     "aee327d5c9eb40299f2108b329c6376d": {
      "model_module": "@jupyter-widgets/base",
      "model_module_version": "1.2.0",
      "model_name": "LayoutModel",
      "state": {
       "_model_module_version": "1.2.0",
       "_view_module_version": "1.2.0",
       "justify_items": null,
       "object_fit": null,
       "object_position": null
      }
     },
     "afbae375ea284bbc8801c98ca1807e09": {
      "model_module": "@jupyter-widgets/controls",
      "model_module_version": "1.5.0",
      "model_name": "DescriptionStyleModel",
      "state": {
       "_model_module_version": "1.5.0",
       "_view_module_version": "1.2.0",
       "description_width": ""
      }
     },
     "b04ca3e45e7748a8ad2839b73ecd56e5": {
      "model_module": "@jupyter-widgets/controls",
      "model_module_version": "1.5.0",
      "model_name": "HBoxModel",
      "state": {
       "_model_module_version": "1.5.0",
       "_view_module_version": "1.5.0",
       "children": [
        "IPY_MODEL_b16f2548a5a240528a53775e5352e82b",
        "IPY_MODEL_0780625417984e4bb937369f829f2c20"
       ],
       "layout": "IPY_MODEL_0793f7b51f7a4990b28982eb2e975caa"
      }
     },
     "b14b8da8f681495daf6227b2777a6721": {
      "model_module": "@jupyter-widgets/controls",
      "model_module_version": "1.5.0",
      "model_name": "HTMLModel",
      "state": {
       "_model_module_version": "1.5.0",
       "_view_module_version": "1.5.0",
       "layout": "IPY_MODEL_1fe04e74f8aa4a75b2545451676cd7ce",
       "style": "IPY_MODEL_e68d4347f31e4b98aae3d3f070f9036b",
       "value": " ETA: 00:00s - loss: 0.2316 - val_loss: 0.2273"
      }
     },
     "b16f2548a5a240528a53775e5352e82b": {
      "model_module": "@jupyter-widgets/controls",
      "model_module_version": "1.5.0",
      "model_name": "FloatProgressModel",
      "state": {
       "_model_module_version": "1.5.0",
       "_view_module_version": "1.5.0",
       "bar_style": "success",
       "description": "500/500",
       "layout": "IPY_MODEL_98c1d31807cc4d0a8180ac0fef43b5ee",
       "max": 500,
       "style": "IPY_MODEL_0c8c196268d741c58591a7fe9e670d32",
       "value": 500
      }
     },
     "b17615ea6fa64f3cb860117302217a69": {
      "model_module": "@jupyter-widgets/controls",
      "model_module_version": "1.5.0",
      "model_name": "FloatProgressModel",
      "state": {
       "_model_module_version": "1.5.0",
       "_view_module_version": "1.5.0",
       "bar_style": "danger",
       "description": "Training:   1%",
       "layout": "IPY_MODEL_f5563df377ad4d0495d8af9f22328655",
       "style": "IPY_MODEL_aa6929b2a6a04fe9a3b7b6d9f2980e5f",
       "value": 1
      }
     },
     "b2807a377aea43759d2d8110801e66cb": {
      "model_module": "@jupyter-widgets/controls",
      "model_module_version": "1.5.0",
      "model_name": "DescriptionStyleModel",
      "state": {
       "_model_module_version": "1.5.0",
       "_view_module_version": "1.2.0",
       "description_width": ""
      }
     },
     "b3e5af4c23f3471aa18f57f459f70727": {
      "model_module": "@jupyter-widgets/controls",
      "model_module_version": "1.5.0",
      "model_name": "FloatProgressModel",
      "state": {
       "_model_module_version": "1.5.0",
       "_view_module_version": "1.5.0",
       "bar_style": "success",
       "description": "500/500",
       "layout": "IPY_MODEL_ac162b1cbf4e4f489b29970e180b6d98",
       "max": 500,
       "style": "IPY_MODEL_7df016a7d6014dd4b1481863ffb5c210",
       "value": 500
      }
     },
     "b478573f4a9743b3963405c275b90d26": {
      "model_module": "@jupyter-widgets/controls",
      "model_module_version": "1.5.0",
      "model_name": "HBoxModel",
      "state": {
       "_model_module_version": "1.5.0",
       "_view_module_version": "1.5.0",
       "children": [
        "IPY_MODEL_9a1e8fe804454e32b179440eeafdc8c1",
        "IPY_MODEL_4d4051bc1f6b41d48e77ed4bf13981ac"
       ],
       "layout": "IPY_MODEL_a6170101c3bd46ee9f5387519fff27b4"
      }
     },
     "b478defe3e3844bf84cf9f3e2bbc8496": {
      "model_module": "@jupyter-widgets/base",
      "model_module_version": "1.2.0",
      "model_name": "LayoutModel",
      "state": {
       "_model_module_version": "1.2.0",
       "_view_module_version": "1.2.0",
       "flex": "2",
       "justify_items": null,
       "object_fit": null,
       "object_position": null
      }
     },
     "b4f7fe797a16447fa156b788a5f5e744": {
      "model_module": "@jupyter-widgets/controls",
      "model_module_version": "1.5.0",
      "model_name": "FloatProgressModel",
      "state": {
       "_model_module_version": "1.5.0",
       "_view_module_version": "1.5.0",
       "bar_style": "success",
       "description": "500/500",
       "layout": "IPY_MODEL_5314a357af9145aea0bb1fac3782d768",
       "max": 500,
       "style": "IPY_MODEL_e71c566167444a4eb949e9b4cd4284e0",
       "value": 500
      }
     },
     "b500fbf37c644d4eb340215927e4b822": {
      "model_module": "@jupyter-widgets/controls",
      "model_module_version": "1.5.0",
      "model_name": "ProgressStyleModel",
      "state": {
       "_model_module_version": "1.5.0",
       "_view_module_version": "1.2.0",
       "description_width": "initial"
      }
     },
     "b63ec38e60494e448f6d6c4255906370": {
      "model_module": "@jupyter-widgets/controls",
      "model_module_version": "1.5.0",
      "model_name": "HTMLModel",
      "state": {
       "_model_module_version": "1.5.0",
       "_view_module_version": "1.5.0",
       "layout": "IPY_MODEL_fb7082a43b7a4a68af8dd393cbbefd27",
       "style": "IPY_MODEL_bd16dd041e0441288a7d124930fc6379",
       "value": " ETA: 00:00s - loss: 0.2054 - val_loss: 0.2067"
      }
     },
     "b657b4bd0e994bdd89c05d069511ef7d": {
      "model_module": "@jupyter-widgets/base",
      "model_module_version": "1.2.0",
      "model_name": "LayoutModel",
      "state": {
       "_model_module_version": "1.2.0",
       "_view_module_version": "1.2.0",
       "justify_items": null,
       "object_fit": null,
       "object_position": null
      }
     },
     "b6cd56fd7e984d63976eff7e5736f6f2": {
      "model_module": "@jupyter-widgets/base",
      "model_module_version": "1.2.0",
      "model_name": "LayoutModel",
      "state": {
       "_model_module_version": "1.2.0",
       "_view_module_version": "1.2.0",
       "display": "inline-flex",
       "flex_flow": "row wrap",
       "justify_items": null,
       "object_fit": null,
       "object_position": null,
       "width": "100%"
      }
     },
     "b71caf0683b343f985cf6dd31fe86277": {
      "model_module": "@jupyter-widgets/base",
      "model_module_version": "1.2.0",
      "model_name": "LayoutModel",
      "state": {
       "_model_module_version": "1.2.0",
       "_view_module_version": "1.2.0",
       "justify_items": null,
       "object_fit": null,
       "object_position": null
      }
     },
     "b76138904cb64edc9e8af2517c549670": {
      "model_module": "@jupyter-widgets/controls",
      "model_module_version": "1.5.0",
      "model_name": "HTMLModel",
      "state": {
       "_model_module_version": "1.5.0",
       "_view_module_version": "1.5.0",
       "layout": "IPY_MODEL_03de675620454f7da48d9baa06d057ca",
       "style": "IPY_MODEL_9181da5f849245c4a8b2974b1d0326a7",
       "value": " 1/100 ETA: 23:15s,  14.09s/epochs"
      }
     },
     "b7684fe0824f466d9ffa421ec7f83415": {
      "model_module": "@jupyter-widgets/base",
      "model_module_version": "1.2.0",
      "model_name": "LayoutModel",
      "state": {
       "_model_module_version": "1.2.0",
       "_view_module_version": "1.2.0",
       "flex": "2",
       "justify_items": null,
       "object_fit": null,
       "object_position": null
      }
     },
     "b89b76187a0b448f9fa74595b9ba286d": {
      "model_module": "@jupyter-widgets/controls",
      "model_module_version": "1.5.0",
      "model_name": "FloatProgressModel",
      "state": {
       "_model_module_version": "1.5.0",
       "_view_module_version": "1.5.0",
       "bar_style": "success",
       "description": "500/500",
       "layout": "IPY_MODEL_0e3c2efdb6b84703a3f515cc8203e96d",
       "max": 500,
       "style": "IPY_MODEL_d582f3f5b6b047adbbe6cb08827d4acc",
       "value": 500
      }
     },
     "b8f5e13d41bd4f27b42217d1db5f1e60": {
      "model_module": "@jupyter-widgets/controls",
      "model_module_version": "1.5.0",
      "model_name": "ProgressStyleModel",
      "state": {
       "_model_module_version": "1.5.0",
       "_view_module_version": "1.2.0",
       "description_width": "initial"
      }
     },
     "ba82869c22db4be5b4c444aac5862faf": {
      "model_module": "@jupyter-widgets/base",
      "model_module_version": "1.2.0",
      "model_name": "LayoutModel",
      "state": {
       "_model_module_version": "1.2.0",
       "_view_module_version": "1.2.0",
       "display": "inline-flex",
       "flex_flow": "row wrap",
       "justify_items": null,
       "object_fit": null,
       "object_position": null,
       "width": "100%"
      }
     },
     "baa87f75faf34aef81f994df9108eaa5": {
      "model_module": "@jupyter-widgets/controls",
      "model_module_version": "1.5.0",
      "model_name": "FloatProgressModel",
      "state": {
       "_model_module_version": "1.5.0",
       "_view_module_version": "1.5.0",
       "bar_style": "success",
       "description": "500/500",
       "layout": "IPY_MODEL_06a9495694c84e808c0b19f650f7494a",
       "max": 500,
       "style": "IPY_MODEL_a324fc2411984023937eb640dc84aa08",
       "value": 500
      }
     },
     "bb063cf1240b4cf4a1dd3d0fcfb0119f": {
      "model_module": "@jupyter-widgets/controls",
      "model_module_version": "1.5.0",
      "model_name": "ProgressStyleModel",
      "state": {
       "_model_module_version": "1.5.0",
       "_view_module_version": "1.2.0",
       "description_width": "initial"
      }
     },
     "bc4d7408bb364c1295c53182f03c2feb": {
      "model_module": "@jupyter-widgets/controls",
      "model_module_version": "1.5.0",
      "model_name": "ProgressStyleModel",
      "state": {
       "_model_module_version": "1.5.0",
       "_view_module_version": "1.2.0",
       "description_width": "initial"
      }
     },
     "bc6564a905ea42ad9a8b67b1f4cd672a": {
      "model_module": "@jupyter-widgets/controls",
      "model_module_version": "1.5.0",
      "model_name": "HTMLModel",
      "state": {
       "_model_module_version": "1.5.0",
       "_view_module_version": "1.5.0",
       "layout": "IPY_MODEL_5a41849f16394bfcac2127097c63608e",
       "style": "IPY_MODEL_77d89705aa274f888c485abfb4eae609",
       "value": " ETA: 00:00s - loss: 0.2440 - val_loss: 0.2432"
      }
     },
     "bcc9dd5c33494fefb17580f236ac1dbb": {
      "model_module": "@jupyter-widgets/controls",
      "model_module_version": "1.5.0",
      "model_name": "FloatProgressModel",
      "state": {
       "_model_module_version": "1.5.0",
       "_view_module_version": "1.5.0",
       "bar_style": "success",
       "description": "500/500",
       "layout": "IPY_MODEL_f1388b7f36084a308164ae0b5e6ffa47",
       "max": 500,
       "style": "IPY_MODEL_770aa36fb7294ce08271aafd8375117f",
       "value": 500
      }
     },
     "bcfe6f7652934e0b9b3765629db3015a": {
      "model_module": "@jupyter-widgets/base",
      "model_module_version": "1.2.0",
      "model_name": "LayoutModel",
      "state": {
       "_model_module_version": "1.2.0",
       "_view_module_version": "1.2.0",
       "flex": "2",
       "justify_items": null,
       "object_fit": null,
       "object_position": null
      }
     },
     "bd16dd041e0441288a7d124930fc6379": {
      "model_module": "@jupyter-widgets/controls",
      "model_module_version": "1.5.0",
      "model_name": "DescriptionStyleModel",
      "state": {
       "_model_module_version": "1.5.0",
       "_view_module_version": "1.2.0",
       "description_width": ""
      }
     },
     "bd1b6a4d906e43a19d326b37bf3f4c61": {
      "model_module": "@jupyter-widgets/controls",
      "model_module_version": "1.5.0",
      "model_name": "DescriptionStyleModel",
      "state": {
       "_model_module_version": "1.5.0",
       "_view_module_version": "1.2.0",
       "description_width": ""
      }
     },
     "bd2b945190c845179f532c9745a924b5": {
      "model_module": "@jupyter-widgets/controls",
      "model_module_version": "1.5.0",
      "model_name": "ProgressStyleModel",
      "state": {
       "_model_module_version": "1.5.0",
       "_view_module_version": "1.2.0",
       "description_width": "initial"
      }
     },
     "bd757648fdb2437999ae111f77ac751a": {
      "model_module": "@jupyter-widgets/controls",
      "model_module_version": "1.5.0",
      "model_name": "FloatProgressModel",
      "state": {
       "_model_module_version": "1.5.0",
       "_view_module_version": "1.5.0",
       "bar_style": "success",
       "description": "500/500",
       "layout": "IPY_MODEL_cbbdf27d042e4c738ea57a5d083dc990",
       "max": 500,
       "style": "IPY_MODEL_dbf0b06753a94051a02e2ec4c21786dd",
       "value": 500
      }
     },
     "be8ad8d403e84800b744dfd722e7a734": {
      "model_module": "@jupyter-widgets/base",
      "model_module_version": "1.2.0",
      "model_name": "LayoutModel",
      "state": {
       "_model_module_version": "1.2.0",
       "_view_module_version": "1.2.0",
       "flex": "2",
       "justify_items": null,
       "object_fit": null,
       "object_position": null
      }
     },
     "bed8422310914e4fad29eaef3a9a6d04": {
      "model_module": "@jupyter-widgets/controls",
      "model_module_version": "1.5.0",
      "model_name": "HBoxModel",
      "state": {
       "_model_module_version": "1.5.0",
       "_view_module_version": "1.5.0",
       "children": [
        "IPY_MODEL_29107562ae19474596f68e33dc58625a",
        "IPY_MODEL_25380e55d1164d0db65e0f87672056eb"
       ],
       "layout": "IPY_MODEL_6aaf644a4b16459c99804896405522fe"
      }
     },
     "bedbfb2c77d74b8e9f3c5689b905bd71": {
      "model_module": "@jupyter-widgets/base",
      "model_module_version": "1.2.0",
      "model_name": "LayoutModel",
      "state": {
       "_model_module_version": "1.2.0",
       "_view_module_version": "1.2.0",
       "display": "inline-flex",
       "flex_flow": "row wrap",
       "justify_items": null,
       "object_fit": null,
       "object_position": null,
       "width": "100%"
      }
     },
     "bedcb18f11094490abed935206cc35c3": {
      "model_module": "@jupyter-widgets/controls",
      "model_module_version": "1.5.0",
      "model_name": "FloatProgressModel",
      "state": {
       "_model_module_version": "1.5.0",
       "_view_module_version": "1.5.0",
       "bar_style": "success",
       "description": "500/500",
       "layout": "IPY_MODEL_f2a359cf94ff4b6c969c9a3763eb6014",
       "max": 500,
       "style": "IPY_MODEL_9117af044b7141329c735194d0948068",
       "value": 500
      }
     },
     "bfb2b374abb94612a28641e9cc7ba0b1": {
      "model_module": "@jupyter-widgets/controls",
      "model_module_version": "1.5.0",
      "model_name": "HTMLModel",
      "state": {
       "_model_module_version": "1.5.0",
       "_view_module_version": "1.5.0",
       "layout": "IPY_MODEL_61bcd510e9c74a85ae533ffb0c36d299",
       "style": "IPY_MODEL_c6fe214ad2ab42369c20fd6870f3398f",
       "value": " ETA: 00:00s - loss: 0.2151 - val_loss: 0.2163"
      }
     },
     "bfb413bb988f4c1085b9cc184857824c": {
      "model_module": "@jupyter-widgets/controls",
      "model_module_version": "1.5.0",
      "model_name": "HBoxModel",
      "state": {
       "_model_module_version": "1.5.0",
       "_view_module_version": "1.5.0",
       "children": [
        "IPY_MODEL_bcc9dd5c33494fefb17580f236ac1dbb",
        "IPY_MODEL_1ab41c42e94a4468a7de44f0bd16e30b"
       ],
       "layout": "IPY_MODEL_51d6ab33db604b379ef0039c108240d3"
      }
     },
     "bfcc67eeb6d045f09fe5e8558f0aaba8": {
      "model_module": "@jupyter-widgets/controls",
      "model_module_version": "1.5.0",
      "model_name": "ProgressStyleModel",
      "state": {
       "_model_module_version": "1.5.0",
       "_view_module_version": "1.2.0",
       "description_width": "initial"
      }
     },
     "bfcd186e964348e6b1d233b88711e9c1": {
      "model_module": "@jupyter-widgets/controls",
      "model_module_version": "1.5.0",
      "model_name": "ProgressStyleModel",
      "state": {
       "_model_module_version": "1.5.0",
       "_view_module_version": "1.2.0",
       "description_width": "initial"
      }
     },
     "bfd6351d00434c8da952c1b673a46169": {
      "model_module": "@jupyter-widgets/controls",
      "model_module_version": "1.5.0",
      "model_name": "ProgressStyleModel",
      "state": {
       "_model_module_version": "1.5.0",
       "_view_module_version": "1.2.0",
       "description_width": "initial"
      }
     },
     "c0e3688e240240f1ae26cd73d2588401": {
      "model_module": "@jupyter-widgets/controls",
      "model_module_version": "1.5.0",
      "model_name": "FloatProgressModel",
      "state": {
       "_model_module_version": "1.5.0",
       "_view_module_version": "1.5.0",
       "bar_style": "success",
       "description": "500/500",
       "layout": "IPY_MODEL_a41a3a08f5274851978e7116ed325eee",
       "max": 500,
       "style": "IPY_MODEL_8d6dcb37fa6e41a1889e5bb3bcf9e504",
       "value": 500
      }
     },
     "c0edfe5e3d8540b5b42cd104700c503d": {
      "model_module": "@jupyter-widgets/controls",
      "model_module_version": "1.5.0",
      "model_name": "HTMLModel",
      "state": {
       "_model_module_version": "1.5.0",
       "_view_module_version": "1.5.0",
       "layout": "IPY_MODEL_add09c8a853940dc8f33f121b80dad01",
       "style": "IPY_MODEL_94f1a30f5d1b4716b41be31767f81a56",
       "value": " ETA: 00:00s - loss: 0.2056 - val_loss: 0.2239"
      }
     },
     "c121297bf3a641b4a67b202b2ff3fb8f": {
      "model_module": "@jupyter-widgets/controls",
      "model_module_version": "1.5.0",
      "model_name": "FloatProgressModel",
      "state": {
       "_model_module_version": "1.5.0",
       "_view_module_version": "1.5.0",
       "bar_style": "success",
       "description": "500/500",
       "layout": "IPY_MODEL_1c98daf82bc346ff8a73fe90c7389be7",
       "max": 500,
       "style": "IPY_MODEL_bfd6351d00434c8da952c1b673a46169",
       "value": 500
      }
     },
     "c1230cdaaf7d424ea7534e7e031c5df7": {
      "model_module": "@jupyter-widgets/controls",
      "model_module_version": "1.5.0",
      "model_name": "FloatProgressModel",
      "state": {
       "_model_module_version": "1.5.0",
       "_view_module_version": "1.5.0",
       "bar_style": "danger",
       "description": "Training:   1%",
       "layout": "IPY_MODEL_4248445f3ef04ac59d0f556b9466e279",
       "style": "IPY_MODEL_94807fc81df949108860005dee9920f6",
       "value": 1
      }
     },
     "c1a2c323e31a4d1abd034fb77513eb85": {
      "model_module": "@jupyter-widgets/controls",
      "model_module_version": "1.5.0",
      "model_name": "HTMLModel",
      "state": {
       "_model_module_version": "1.5.0",
       "_view_module_version": "1.5.0",
       "layout": "IPY_MODEL_044b5df109034c048d2648aeed4f3ef0",
       "style": "IPY_MODEL_524d753ce1a4458783ac1d9f80d12962",
       "value": " ETA: 00:00s - loss: 0.2102 - val_loss: 0.2196"
      }
     },
     "c1e67bb825b44f4b91bfeb89ab13fb8e": {
      "model_module": "@jupyter-widgets/base",
      "model_module_version": "1.2.0",
      "model_name": "LayoutModel",
      "state": {
       "_model_module_version": "1.2.0",
       "_view_module_version": "1.2.0",
       "display": "inline-flex",
       "flex_flow": "row wrap",
       "justify_items": null,
       "object_fit": null,
       "object_position": null,
       "width": "100%"
      }
     },
     "c23d43903bd1454394633e1d923aac9f": {
      "model_module": "@jupyter-widgets/controls",
      "model_module_version": "1.5.0",
      "model_name": "HBoxModel",
      "state": {
       "_model_module_version": "1.5.0",
       "_view_module_version": "1.5.0",
       "children": [
        "IPY_MODEL_4e4cc4ac6ff54a4c867d4a75e2587d88",
        "IPY_MODEL_d1a5f0f9cec942698343163ef987ec30"
       ],
       "layout": "IPY_MODEL_b6cd56fd7e984d63976eff7e5736f6f2"
      }
     },
     "c3175e3fbe6149a1b14d9bdb4188e89b": {
      "model_module": "@jupyter-widgets/controls",
      "model_module_version": "1.5.0",
      "model_name": "ProgressStyleModel",
      "state": {
       "_model_module_version": "1.5.0",
       "_view_module_version": "1.2.0",
       "description_width": "initial"
      }
     },
     "c356352287294f07b395da15a1bf5d99": {
      "model_module": "@jupyter-widgets/controls",
      "model_module_version": "1.5.0",
      "model_name": "HBoxModel",
      "state": {
       "_model_module_version": "1.5.0",
       "_view_module_version": "1.5.0",
       "children": [
        "IPY_MODEL_136c76b32c6540888787f540689f15a8",
        "IPY_MODEL_0234ab86b24c4c6baffa79269e3bf99c"
       ],
       "layout": "IPY_MODEL_6f6e324985364699baf67ab5d867a7de"
      }
     },
     "c3ba37f40a3a4032bd92807eaf0dd5d5": {
      "model_module": "@jupyter-widgets/base",
      "model_module_version": "1.2.0",
      "model_name": "LayoutModel",
      "state": {
       "_model_module_version": "1.2.0",
       "_view_module_version": "1.2.0",
       "display": "inline-flex",
       "flex_flow": "row wrap",
       "justify_items": null,
       "object_fit": null,
       "object_position": null,
       "width": "100%"
      }
     },
     "c3d3945ba9b14f1fb9041db36db0d1fe": {
      "model_module": "@jupyter-widgets/controls",
      "model_module_version": "1.5.0",
      "model_name": "ProgressStyleModel",
      "state": {
       "_model_module_version": "1.5.0",
       "_view_module_version": "1.2.0",
       "description_width": "initial"
      }
     },
     "c3e4f03b58e04b2caf754fb7f7ba8c83": {
      "model_module": "@jupyter-widgets/base",
      "model_module_version": "1.2.0",
      "model_name": "LayoutModel",
      "state": {
       "_model_module_version": "1.2.0",
       "_view_module_version": "1.2.0",
       "flex": "2",
       "justify_items": null,
       "object_fit": null,
       "object_position": null
      }
     },
     "c4361026d6aa49a6b8336ba585bd35c3": {
      "model_module": "@jupyter-widgets/base",
      "model_module_version": "1.2.0",
      "model_name": "LayoutModel",
      "state": {
       "_model_module_version": "1.2.0",
       "_view_module_version": "1.2.0",
       "justify_items": null,
       "object_fit": null,
       "object_position": null
      }
     },
     "c5953fab4c41407fb1f72a7782f3e406": {
      "model_module": "@jupyter-widgets/controls",
      "model_module_version": "1.5.0",
      "model_name": "HBoxModel",
      "state": {
       "_model_module_version": "1.5.0",
       "_view_module_version": "1.5.0",
       "children": [
        "IPY_MODEL_964e84115c814680a0652a354e25824e",
        "IPY_MODEL_b63ec38e60494e448f6d6c4255906370"
       ],
       "layout": "IPY_MODEL_e13a2cca2e964aaeb9cce92297b1c8a5"
      }
     },
     "c5e0545cb93c46e3b5fc5b532afc0648": {
      "model_module": "@jupyter-widgets/base",
      "model_module_version": "1.2.0",
      "model_name": "LayoutModel",
      "state": {
       "_model_module_version": "1.2.0",
       "_view_module_version": "1.2.0",
       "display": "inline-flex",
       "flex_flow": "row wrap",
       "justify_items": null,
       "object_fit": null,
       "object_position": null,
       "width": "100%"
      }
     },
     "c64bebfcb6cb4104af5f9c852e5f4e4a": {
      "model_module": "@jupyter-widgets/base",
      "model_module_version": "1.2.0",
      "model_name": "LayoutModel",
      "state": {
       "_model_module_version": "1.2.0",
       "_view_module_version": "1.2.0",
       "display": "inline-flex",
       "flex_flow": "row wrap",
       "justify_items": null,
       "object_fit": null,
       "object_position": null,
       "width": "100%"
      }
     },
     "c6a8cb8a03c742ae95fe2a9ffffd9ca5": {
      "model_module": "@jupyter-widgets/controls",
      "model_module_version": "1.5.0",
      "model_name": "FloatProgressModel",
      "state": {
       "_model_module_version": "1.5.0",
       "_view_module_version": "1.5.0",
       "bar_style": "success",
       "description": "500/500",
       "layout": "IPY_MODEL_9dc7e7726a5f4947867f82762b4aded1",
       "max": 500,
       "style": "IPY_MODEL_59a13787dc214caa9352f6c94416e864",
       "value": 500
      }
     },
     "c6fe214ad2ab42369c20fd6870f3398f": {
      "model_module": "@jupyter-widgets/controls",
      "model_module_version": "1.5.0",
      "model_name": "DescriptionStyleModel",
      "state": {
       "_model_module_version": "1.5.0",
       "_view_module_version": "1.2.0",
       "description_width": ""
      }
     },
     "c7c8f59ca64c471d9c77c6ef1e3d82fe": {
      "model_module": "@jupyter-widgets/controls",
      "model_module_version": "1.5.0",
      "model_name": "FloatProgressModel",
      "state": {
       "_model_module_version": "1.5.0",
       "_view_module_version": "1.5.0",
       "bar_style": "success",
       "description": "500/500",
       "layout": "IPY_MODEL_e95e5ba35de54f7693df461d82442161",
       "max": 500,
       "style": "IPY_MODEL_bd2b945190c845179f532c9745a924b5",
       "value": 500
      }
     },
     "c7cfd892a70f4475afb1aa1e2fbf1710": {
      "model_module": "@jupyter-widgets/controls",
      "model_module_version": "1.5.0",
      "model_name": "DescriptionStyleModel",
      "state": {
       "_model_module_version": "1.5.0",
       "_view_module_version": "1.2.0",
       "description_width": ""
      }
     },
     "c7cfe62d81e44a08b7749730aff907c7": {
      "model_module": "@jupyter-widgets/controls",
      "model_module_version": "1.5.0",
      "model_name": "ProgressStyleModel",
      "state": {
       "_model_module_version": "1.5.0",
       "_view_module_version": "1.2.0",
       "description_width": "initial"
      }
     },
     "c7f591df1a6846a1a51304eb6c21dff9": {
      "model_module": "@jupyter-widgets/controls",
      "model_module_version": "1.5.0",
      "model_name": "DescriptionStyleModel",
      "state": {
       "_model_module_version": "1.5.0",
       "_view_module_version": "1.2.0",
       "description_width": ""
      }
     },
     "c89187e04f074b949b7a24cb1deb5a97": {
      "model_module": "@jupyter-widgets/controls",
      "model_module_version": "1.5.0",
      "model_name": "FloatProgressModel",
      "state": {
       "_model_module_version": "1.5.0",
       "_view_module_version": "1.5.0",
       "bar_style": "success",
       "description": "500/500",
       "layout": "IPY_MODEL_1de3e69bd62d4e6585108a7416a08ca9",
       "max": 500,
       "style": "IPY_MODEL_f5b09834a8384d9fb09e4b338959853c",
       "value": 500
      }
     },
     "c899cf1f996d483aa5fa1c46dfa50f58": {
      "model_module": "@jupyter-widgets/base",
      "model_module_version": "1.2.0",
      "model_name": "LayoutModel",
      "state": {
       "_model_module_version": "1.2.0",
       "_view_module_version": "1.2.0",
       "display": "inline-flex",
       "flex_flow": "row wrap",
       "justify_items": null,
       "object_fit": null,
       "object_position": null,
       "width": "100%"
      }
     },
     "c8c435f79f2842a781490eee2bc85a34": {
      "model_module": "@jupyter-widgets/base",
      "model_module_version": "1.2.0",
      "model_name": "LayoutModel",
      "state": {
       "_model_module_version": "1.2.0",
       "_view_module_version": "1.2.0",
       "flex": "2",
       "justify_items": null,
       "object_fit": null,
       "object_position": null
      }
     },
     "c8e2335380504518a1f4c9755cdb5d36": {
      "model_module": "@jupyter-widgets/controls",
      "model_module_version": "1.5.0",
      "model_name": "HTMLModel",
      "state": {
       "_model_module_version": "1.5.0",
       "_view_module_version": "1.5.0",
       "layout": "IPY_MODEL_2d964ff8925448849de1e46f6befba66",
       "style": "IPY_MODEL_53aa9770748044aab80da2914456731c",
       "value": " ETA: 00:00s - loss: 0.2207 - val_loss: 0.2277"
      }
     },
     "c8e3d7fceffd4fc5be05ee6b955eb689": {
      "model_module": "@jupyter-widgets/controls",
      "model_module_version": "1.5.0",
      "model_name": "HBoxModel",
      "state": {
       "_model_module_version": "1.5.0",
       "_view_module_version": "1.5.0",
       "children": [
        "IPY_MODEL_2d5add7d803f4fd5a041fa58bce61f89",
        "IPY_MODEL_0c6d9a8690c740818e104b8a5ee3d708"
       ],
       "layout": "IPY_MODEL_ffc47e5c6b654d4c8202275046e9aff5"
      }
     },
     "c8e3f87c974945728967c7f2e99a7f67": {
      "model_module": "@jupyter-widgets/controls",
      "model_module_version": "1.5.0",
      "model_name": "DescriptionStyleModel",
      "state": {
       "_model_module_version": "1.5.0",
       "_view_module_version": "1.2.0",
       "description_width": ""
      }
     },
     "c9222b7213ca47d5a93bcf018ffc5379": {
      "model_module": "@jupyter-widgets/controls",
      "model_module_version": "1.5.0",
      "model_name": "HBoxModel",
      "state": {
       "_model_module_version": "1.5.0",
       "_view_module_version": "1.5.0",
       "children": [
        "IPY_MODEL_8e32b2f9db72455da7cf41c471ee721c",
        "IPY_MODEL_a21437c99b004b0ebc952d23675fb0a2"
       ],
       "layout": "IPY_MODEL_fc07b0788cb44ec9bd2612f665561df8"
      }
     },
     "c934c38759b34ccaa2d27e0b258fa795": {
      "model_module": "@jupyter-widgets/controls",
      "model_module_version": "1.5.0",
      "model_name": "FloatProgressModel",
      "state": {
       "_model_module_version": "1.5.0",
       "_view_module_version": "1.5.0",
       "bar_style": "success",
       "description": "500/500",
       "layout": "IPY_MODEL_445be4f0b5f24c4588b8f5f0851b9b13",
       "max": 500,
       "style": "IPY_MODEL_9fd5abccaf79411fa7848f8a2d19ab98",
       "value": 500
      }
     },
     "c959ffe8e1c1478ca9663baa8fa53523": {
      "model_module": "@jupyter-widgets/base",
      "model_module_version": "1.2.0",
      "model_name": "LayoutModel",
      "state": {
       "_model_module_version": "1.2.0",
       "_view_module_version": "1.2.0",
       "justify_items": null,
       "object_fit": null,
       "object_position": null
      }
     },
     "ca790d2997b04343b11ab41a62b62977": {
      "model_module": "@jupyter-widgets/controls",
      "model_module_version": "1.5.0",
      "model_name": "ProgressStyleModel",
      "state": {
       "_model_module_version": "1.5.0",
       "_view_module_version": "1.2.0",
       "description_width": "initial"
      }
     },
     "ca89c52c6b00401f88f4fd4d09194551": {
      "model_module": "@jupyter-widgets/base",
      "model_module_version": "1.2.0",
      "model_name": "LayoutModel",
      "state": {
       "_model_module_version": "1.2.0",
       "_view_module_version": "1.2.0",
       "display": "inline-flex",
       "flex_flow": "row wrap",
       "justify_items": null,
       "object_fit": null,
       "object_position": null,
       "width": "100%"
      }
     },
     "cb259fb965034ff28199b9eaeda68cb3": {
      "model_module": "@jupyter-widgets/controls",
      "model_module_version": "1.5.0",
      "model_name": "HTMLModel",
      "state": {
       "_model_module_version": "1.5.0",
       "_view_module_version": "1.5.0",
       "layout": "IPY_MODEL_88881aaedaaa4260a82e69de1bc6d18b",
       "style": "IPY_MODEL_342b914dd4334ed3ad60217afad96837",
       "value": " 1/100 ETA: 584:44:10s,  21263.14s/epochs"
      }
     },
     "cb3f12769dc146bcb9512eccb957d2ae": {
      "model_module": "@jupyter-widgets/controls",
      "model_module_version": "1.5.0",
      "model_name": "HTMLModel",
      "state": {
       "_model_module_version": "1.5.0",
       "_view_module_version": "1.5.0",
       "layout": "IPY_MODEL_d016d4110ec54645b8ea5f58a0258f7e",
       "style": "IPY_MODEL_607bef10c87a482eb2c8d90ee61ad757",
       "value": " ETA: 00:00s - loss: 0.2092 - val_loss: 0.2102"
      }
     },
     "cbbdf27d042e4c738ea57a5d083dc990": {
      "model_module": "@jupyter-widgets/base",
      "model_module_version": "1.2.0",
      "model_name": "LayoutModel",
      "state": {
       "_model_module_version": "1.2.0",
       "_view_module_version": "1.2.0",
       "flex": "2",
       "justify_items": null,
       "object_fit": null,
       "object_position": null
      }
     },
     "cc91e5ad5dee461e8d9d9ea55f133376": {
      "model_module": "@jupyter-widgets/base",
      "model_module_version": "1.2.0",
      "model_name": "LayoutModel",
      "state": {
       "_model_module_version": "1.2.0",
       "_view_module_version": "1.2.0",
       "justify_items": null,
       "object_fit": null,
       "object_position": null
      }
     },
     "ccae9a45dd204b4396d9f897445fe8e4": {
      "model_module": "@jupyter-widgets/base",
      "model_module_version": "1.2.0",
      "model_name": "LayoutModel",
      "state": {
       "_model_module_version": "1.2.0",
       "_view_module_version": "1.2.0",
       "display": "inline-flex",
       "flex_flow": "row wrap",
       "justify_items": null,
       "object_fit": null,
       "object_position": null,
       "width": "100%"
      }
     },
     "cd0584bab1be4ed68a665d51d183c4e1": {
      "model_module": "@jupyter-widgets/controls",
      "model_module_version": "1.5.0",
      "model_name": "FloatProgressModel",
      "state": {
       "_model_module_version": "1.5.0",
       "_view_module_version": "1.5.0",
       "bar_style": "success",
       "description": "500/500",
       "layout": "IPY_MODEL_7d54a02e1d11436fa9d0f63e536b351b",
       "max": 500,
       "style": "IPY_MODEL_b500fbf37c644d4eb340215927e4b822",
       "value": 500
      }
     },
     "cdeed1aacfa349429658befb096fd6fc": {
      "model_module": "@jupyter-widgets/controls",
      "model_module_version": "1.5.0",
      "model_name": "DescriptionStyleModel",
      "state": {
       "_model_module_version": "1.5.0",
       "_view_module_version": "1.2.0",
       "description_width": ""
      }
     },
     "ce0d120c81154d869ef6056873f38aaa": {
      "model_module": "@jupyter-widgets/controls",
      "model_module_version": "1.5.0",
      "model_name": "DescriptionStyleModel",
      "state": {
       "_model_module_version": "1.5.0",
       "_view_module_version": "1.2.0",
       "description_width": ""
      }
     },
     "ce10ecdf2cab45578dc301c7bce0f9a6": {
      "model_module": "@jupyter-widgets/base",
      "model_module_version": "1.2.0",
      "model_name": "LayoutModel",
      "state": {
       "_model_module_version": "1.2.0",
       "_view_module_version": "1.2.0",
       "justify_items": null,
       "object_fit": null,
       "object_position": null
      }
     },
     "ce998eaf0c0241e0b4158da802b553d1": {
      "model_module": "@jupyter-widgets/controls",
      "model_module_version": "1.5.0",
      "model_name": "ProgressStyleModel",
      "state": {
       "_model_module_version": "1.5.0",
       "_view_module_version": "1.2.0",
       "description_width": "initial"
      }
     },
     "cfa82eead2cd4e3c93e20948bb1f0734": {
      "model_module": "@jupyter-widgets/base",
      "model_module_version": "1.2.0",
      "model_name": "LayoutModel",
      "state": {
       "_model_module_version": "1.2.0",
       "_view_module_version": "1.2.0",
       "display": "inline-flex",
       "flex_flow": "row wrap",
       "justify_items": null,
       "object_fit": null,
       "object_position": null,
       "width": "100%"
      }
     },
     "cfd4ac2403de4f8e85761678390be35e": {
      "model_module": "@jupyter-widgets/controls",
      "model_module_version": "1.5.0",
      "model_name": "FloatProgressModel",
      "state": {
       "_model_module_version": "1.5.0",
       "_view_module_version": "1.5.0",
       "bar_style": "success",
       "description": "500/500",
       "layout": "IPY_MODEL_a1ce641cb0304c51bc1808078e9fcc9b",
       "max": 500,
       "style": "IPY_MODEL_2f25224c3f594b7b95b56cbb8ce7a75c",
       "value": 500
      }
     },
     "d016d4110ec54645b8ea5f58a0258f7e": {
      "model_module": "@jupyter-widgets/base",
      "model_module_version": "1.2.0",
      "model_name": "LayoutModel",
      "state": {
       "_model_module_version": "1.2.0",
       "_view_module_version": "1.2.0",
       "justify_items": null,
       "object_fit": null,
       "object_position": null
      }
     },
     "d0aafd44498042a8871fff16049ca97d": {
      "model_module": "@jupyter-widgets/base",
      "model_module_version": "1.2.0",
      "model_name": "LayoutModel",
      "state": {
       "_model_module_version": "1.2.0",
       "_view_module_version": "1.2.0",
       "justify_items": null,
       "object_fit": null,
       "object_position": null
      }
     },
     "d0afaf97d6664b0b9457b25fbb3ee202": {
      "model_module": "@jupyter-widgets/base",
      "model_module_version": "1.2.0",
      "model_name": "LayoutModel",
      "state": {
       "_model_module_version": "1.2.0",
       "_view_module_version": "1.2.0",
       "display": "inline-flex",
       "flex_flow": "row wrap",
       "justify_items": null,
       "object_fit": null,
       "object_position": null,
       "width": "100%"
      }
     },
     "d0b2b02b9ff043088286114584aebea9": {
      "model_module": "@jupyter-widgets/controls",
      "model_module_version": "1.5.0",
      "model_name": "DescriptionStyleModel",
      "state": {
       "_model_module_version": "1.5.0",
       "_view_module_version": "1.2.0",
       "description_width": ""
      }
     },
     "d0ce769322784f7e85a54680df958a2c": {
      "model_module": "@jupyter-widgets/controls",
      "model_module_version": "1.5.0",
      "model_name": "ProgressStyleModel",
      "state": {
       "_model_module_version": "1.5.0",
       "_view_module_version": "1.2.0",
       "description_width": "initial"
      }
     },
     "d10062d4a3f744c6b354288b0181a256": {
      "model_module": "@jupyter-widgets/controls",
      "model_module_version": "1.5.0",
      "model_name": "HTMLModel",
      "state": {
       "_model_module_version": "1.5.0",
       "_view_module_version": "1.5.0",
       "layout": "IPY_MODEL_67c1fddb46614bc3a07ff73853cdf97d",
       "style": "IPY_MODEL_403b49835aae47eba8019ae9faa0c253",
       "value": " ETA: 00:00s - loss: 0.2685 - val_loss: 0.2760"
      }
     },
     "d17e777add94414f8dd0a1edaa926305": {
      "model_module": "@jupyter-widgets/controls",
      "model_module_version": "1.5.0",
      "model_name": "HTMLModel",
      "state": {
       "_model_module_version": "1.5.0",
       "_view_module_version": "1.5.0",
       "layout": "IPY_MODEL_3d5cf5bdadcd491f8a5c4138dd0cb36e",
       "style": "IPY_MODEL_c7cfd892a70f4475afb1aa1e2fbf1710",
       "value": " ETA: 00:00s - loss: 0.3109 - val_loss: 0.3238"
      }
     },
     "d18ce9ad59b343ac847405d148fc1427": {
      "model_module": "@jupyter-widgets/base",
      "model_module_version": "1.2.0",
      "model_name": "LayoutModel",
      "state": {
       "_model_module_version": "1.2.0",
       "_view_module_version": "1.2.0",
       "justify_items": null,
       "object_fit": null,
       "object_position": null
      }
     },
     "d1a5f0f9cec942698343163ef987ec30": {
      "model_module": "@jupyter-widgets/controls",
      "model_module_version": "1.5.0",
      "model_name": "HTMLModel",
      "state": {
       "_model_module_version": "1.5.0",
       "_view_module_version": "1.5.0",
       "layout": "IPY_MODEL_83707517d32e49e296191a37df413a01",
       "style": "IPY_MODEL_159c909a8348471d929250613aefbd31",
       "value": " ETA: 00:00s - loss: 0.2050 - val_loss: 0.2080"
      }
     },
     "d24c26a73c5d4346b3d25464e805bd7e": {
      "model_module": "@jupyter-widgets/controls",
      "model_module_version": "1.5.0",
      "model_name": "HTMLModel",
      "state": {
       "_model_module_version": "1.5.0",
       "_view_module_version": "1.5.0",
       "layout": "IPY_MODEL_1c7b866f147542c3b38fd199d70e2a29",
       "style": "IPY_MODEL_5c899e78f3924faf9f5d291246ba6ba8",
       "value": " ETA: 00:00s - loss: 0.2871 - val_loss: 0.2840"
      }
     },
     "d25a89b6a24a467fbd8c2de84dd3ad56": {
      "model_module": "@jupyter-widgets/base",
      "model_module_version": "1.2.0",
      "model_name": "LayoutModel",
      "state": {
       "_model_module_version": "1.2.0",
       "_view_module_version": "1.2.0",
       "flex": "2",
       "justify_items": null,
       "object_fit": null,
       "object_position": null
      }
     },
     "d2e2725290634a888a294cc9ace325d7": {
      "model_module": "@jupyter-widgets/base",
      "model_module_version": "1.2.0",
      "model_name": "LayoutModel",
      "state": {
       "_model_module_version": "1.2.0",
       "_view_module_version": "1.2.0",
       "justify_items": null,
       "object_fit": null,
       "object_position": null
      }
     },
     "d3edcf3883334a098f5b7836a6097377": {
      "model_module": "@jupyter-widgets/base",
      "model_module_version": "1.2.0",
      "model_name": "LayoutModel",
      "state": {
       "_model_module_version": "1.2.0",
       "_view_module_version": "1.2.0",
       "justify_items": null,
       "object_fit": null,
       "object_position": null
      }
     },
     "d484a5caebf84cd39a24a3b9585390b3": {
      "model_module": "@jupyter-widgets/base",
      "model_module_version": "1.2.0",
      "model_name": "LayoutModel",
      "state": {
       "_model_module_version": "1.2.0",
       "_view_module_version": "1.2.0",
       "justify_items": null,
       "object_fit": null,
       "object_position": null
      }
     },
     "d50c0a9d914d4432ad32bdd56fe51928": {
      "model_module": "@jupyter-widgets/controls",
      "model_module_version": "1.5.0",
      "model_name": "HTMLModel",
      "state": {
       "_model_module_version": "1.5.0",
       "_view_module_version": "1.5.0",
       "layout": "IPY_MODEL_21e62e6c32334ba2a5d312f136870dd5",
       "style": "IPY_MODEL_7e2bdc654c7e4a5fb5e09c5e24790cae",
       "value": " ETA: 00:00s - loss: 0.3223 - val_loss: 0.3107"
      }
     },
     "d582f3f5b6b047adbbe6cb08827d4acc": {
      "model_module": "@jupyter-widgets/controls",
      "model_module_version": "1.5.0",
      "model_name": "ProgressStyleModel",
      "state": {
       "_model_module_version": "1.5.0",
       "_view_module_version": "1.2.0",
       "description_width": "initial"
      }
     },
     "d59a9c79796b4ee48e09d4c88c8a3e69": {
      "model_module": "@jupyter-widgets/controls",
      "model_module_version": "1.5.0",
      "model_name": "HTMLModel",
      "state": {
       "_model_module_version": "1.5.0",
       "_view_module_version": "1.5.0",
       "layout": "IPY_MODEL_3bfd9d282bf14f6c9e719f7fff142773",
       "style": "IPY_MODEL_0f8656473d1f4e64897f8270f5fdc10c",
       "value": " ETA: 00:00s - loss: 0.2032 - val_loss: 0.2055"
      }
     },
     "d66fc40c1d8f4755967509bc6f77b969": {
      "model_module": "@jupyter-widgets/base",
      "model_module_version": "1.2.0",
      "model_name": "LayoutModel",
      "state": {
       "_model_module_version": "1.2.0",
       "_view_module_version": "1.2.0",
       "display": "inline-flex",
       "flex_flow": "row wrap",
       "justify_items": null,
       "object_fit": null,
       "object_position": null,
       "width": "100%"
      }
     },
     "d70f1a7e75074e95a239c19b2b9357e1": {
      "model_module": "@jupyter-widgets/controls",
      "model_module_version": "1.5.0",
      "model_name": "FloatProgressModel",
      "state": {
       "_model_module_version": "1.5.0",
       "_view_module_version": "1.5.0",
       "bar_style": "success",
       "description": "500/500",
       "layout": "IPY_MODEL_1e555f363b6c4aaeadb5bc66a686fb49",
       "max": 500,
       "style": "IPY_MODEL_5b0fd345ff0249fab1c8ff3484e2d846",
       "value": 500
      }
     },
     "d77bedc5d8fa4a55bf566ab8f67aeefc": {
      "model_module": "@jupyter-widgets/controls",
      "model_module_version": "1.5.0",
      "model_name": "HTMLModel",
      "state": {
       "_model_module_version": "1.5.0",
       "_view_module_version": "1.5.0",
       "layout": "IPY_MODEL_5418c2ebe91441b985782fe21c407f55",
       "style": "IPY_MODEL_52ecfeefd6194a6e8fdff66b618e3d37",
       "value": " ETA: 00:00s - loss: 0.4549 - val_loss: 0.3475"
      }
     },
     "d8031a9f11a6435cb15e5984c4e68c12": {
      "model_module": "@jupyter-widgets/controls",
      "model_module_version": "1.5.0",
      "model_name": "DescriptionStyleModel",
      "state": {
       "_model_module_version": "1.5.0",
       "_view_module_version": "1.2.0",
       "description_width": ""
      }
     },
     "d892010b195a4693a0b5befd460e2a3a": {
      "model_module": "@jupyter-widgets/controls",
      "model_module_version": "1.5.0",
      "model_name": "FloatProgressModel",
      "state": {
       "_model_module_version": "1.5.0",
       "_view_module_version": "1.5.0",
       "bar_style": "success",
       "description": "500/500",
       "layout": "IPY_MODEL_5936961689134b8e8024f9820103f134",
       "max": 500,
       "style": "IPY_MODEL_3b451e2d3f0843a28c33eb9d75bcf0dc",
       "value": 500
      }
     },
     "d8a15ce2b08b41a6a668e1c23b3eb03a": {
      "model_module": "@jupyter-widgets/controls",
      "model_module_version": "1.5.0",
      "model_name": "HBoxModel",
      "state": {
       "_model_module_version": "1.5.0",
       "_view_module_version": "1.5.0",
       "children": [
        "IPY_MODEL_20f25b6249b44ada8e6059000f31bdf7",
        "IPY_MODEL_57923370b57644908ffd3295e59aeb06"
       ],
       "layout": "IPY_MODEL_3755b6c2c69a466081facccf6f3e0932"
      }
     },
     "d92c54889fe54f959d1ca8da597a2b46": {
      "model_module": "@jupyter-widgets/controls",
      "model_module_version": "1.5.0",
      "model_name": "DescriptionStyleModel",
      "state": {
       "_model_module_version": "1.5.0",
       "_view_module_version": "1.2.0",
       "description_width": ""
      }
     },
     "d93b226c333c4ce794dd1fe624c6bcd4": {
      "model_module": "@jupyter-widgets/controls",
      "model_module_version": "1.5.0",
      "model_name": "HBoxModel",
      "state": {
       "_model_module_version": "1.5.0",
       "_view_module_version": "1.5.0",
       "children": [
        "IPY_MODEL_aa0437c634c3435fa8f02046b1254dd7",
        "IPY_MODEL_d17e777add94414f8dd0a1edaa926305"
       ],
       "layout": "IPY_MODEL_6eb993fb70fc4bfd83e274a5145d6c91"
      }
     },
     "d9410462d7024a62accf60114e0e5964": {
      "model_module": "@jupyter-widgets/base",
      "model_module_version": "1.2.0",
      "model_name": "LayoutModel",
      "state": {
       "_model_module_version": "1.2.0",
       "_view_module_version": "1.2.0",
       "flex": "2",
       "justify_items": null,
       "object_fit": null,
       "object_position": null
      }
     },
     "d968dede210442e7b4bdc682ff8bf2ca": {
      "model_module": "@jupyter-widgets/base",
      "model_module_version": "1.2.0",
      "model_name": "LayoutModel",
      "state": {
       "_model_module_version": "1.2.0",
       "_view_module_version": "1.2.0",
       "display": "inline-flex",
       "flex_flow": "row wrap",
       "justify_items": null,
       "object_fit": null,
       "object_position": null,
       "width": "100%"
      }
     },
     "da5f3f0f7ab74af0a7638a3d39503597": {
      "model_module": "@jupyter-widgets/base",
      "model_module_version": "1.2.0",
      "model_name": "LayoutModel",
      "state": {
       "_model_module_version": "1.2.0",
       "_view_module_version": "1.2.0",
       "flex": "2",
       "justify_items": null,
       "object_fit": null,
       "object_position": null
      }
     },
     "da819bb02fdb4a94b19e6a23cfb8446c": {
      "model_module": "@jupyter-widgets/controls",
      "model_module_version": "1.5.0",
      "model_name": "DescriptionStyleModel",
      "state": {
       "_model_module_version": "1.5.0",
       "_view_module_version": "1.2.0",
       "description_width": ""
      }
     },
     "da953e39dd574ca4bab600a39620a855": {
      "model_module": "@jupyter-widgets/controls",
      "model_module_version": "1.5.0",
      "model_name": "ProgressStyleModel",
      "state": {
       "_model_module_version": "1.5.0",
       "_view_module_version": "1.2.0",
       "description_width": "initial"
      }
     },
     "daf5e327e9444d57ab28103c4a388a0d": {
      "model_module": "@jupyter-widgets/base",
      "model_module_version": "1.2.0",
      "model_name": "LayoutModel",
      "state": {
       "_model_module_version": "1.2.0",
       "_view_module_version": "1.2.0",
       "flex": "2",
       "justify_items": null,
       "object_fit": null,
       "object_position": null
      }
     },
     "db146ec5a54a4f3dae6bdaf4e22d61a3": {
      "model_module": "@jupyter-widgets/controls",
      "model_module_version": "1.5.0",
      "model_name": "ProgressStyleModel",
      "state": {
       "_model_module_version": "1.5.0",
       "_view_module_version": "1.2.0",
       "description_width": "initial"
      }
     },
     "db1db2630c79433da87f8bcaa119dfdd": {
      "model_module": "@jupyter-widgets/controls",
      "model_module_version": "1.5.0",
      "model_name": "HTMLModel",
      "state": {
       "_model_module_version": "1.5.0",
       "_view_module_version": "1.5.0",
       "layout": "IPY_MODEL_6d979acdda164813b5d30d9f83a3dd95",
       "style": "IPY_MODEL_da819bb02fdb4a94b19e6a23cfb8446c",
       "value": " ETA: 00:00s - loss: 0.2162 - val_loss: 0.2207"
      }
     },
     "db36b326c25e4e06b616fee15bde0a55": {
      "model_module": "@jupyter-widgets/controls",
      "model_module_version": "1.5.0",
      "model_name": "FloatProgressModel",
      "state": {
       "_model_module_version": "1.5.0",
       "_view_module_version": "1.5.0",
       "bar_style": "success",
       "description": "500/500",
       "layout": "IPY_MODEL_3b766476acc64dbfa7689cf7d4cc47be",
       "max": 500,
       "style": "IPY_MODEL_2bd90f78abd74db8a375708d47259694",
       "value": 500
      }
     },
     "dbe996d7c2874949ae69ef71fa481bcc": {
      "model_module": "@jupyter-widgets/controls",
      "model_module_version": "1.5.0",
      "model_name": "ProgressStyleModel",
      "state": {
       "_model_module_version": "1.5.0",
       "_view_module_version": "1.2.0",
       "description_width": "initial"
      }
     },
     "dbf0b06753a94051a02e2ec4c21786dd": {
      "model_module": "@jupyter-widgets/controls",
      "model_module_version": "1.5.0",
      "model_name": "ProgressStyleModel",
      "state": {
       "_model_module_version": "1.5.0",
       "_view_module_version": "1.2.0",
       "description_width": "initial"
      }
     },
     "de52010ce984456a9fd3ca2b09f031dd": {
      "model_module": "@jupyter-widgets/base",
      "model_module_version": "1.2.0",
      "model_name": "LayoutModel",
      "state": {
       "_model_module_version": "1.2.0",
       "_view_module_version": "1.2.0",
       "display": "inline-flex",
       "flex_flow": "row wrap",
       "justify_items": null,
       "object_fit": null,
       "object_position": null,
       "width": "100%"
      }
     },
     "df1b9d249bf743b6aa771408cf9c3348": {
      "model_module": "@jupyter-widgets/base",
      "model_module_version": "1.2.0",
      "model_name": "LayoutModel",
      "state": {
       "_model_module_version": "1.2.0",
       "_view_module_version": "1.2.0",
       "justify_items": null,
       "object_fit": null,
       "object_position": null
      }
     },
     "df2c4b612e2b40acadc9c9b3484b6d38": {
      "model_module": "@jupyter-widgets/controls",
      "model_module_version": "1.5.0",
      "model_name": "HBoxModel",
      "state": {
       "_model_module_version": "1.5.0",
       "_view_module_version": "1.5.0",
       "children": [
        "IPY_MODEL_36b02f59cb34484e973ceaa83b09b9ea",
        "IPY_MODEL_0c41f4fedccb4b818d57f7b13e31fd6e"
       ],
       "layout": "IPY_MODEL_1c39bc8e5fe441de8ea4513a0ddb9e23"
      }
     },
     "df3762ed1da34893ab216bbec7b34c24": {
      "model_module": "@jupyter-widgets/controls",
      "model_module_version": "1.5.0",
      "model_name": "HBoxModel",
      "state": {
       "_model_module_version": "1.5.0",
       "_view_module_version": "1.5.0",
       "children": [
        "IPY_MODEL_bd757648fdb2437999ae111f77ac751a",
        "IPY_MODEL_bfb2b374abb94612a28641e9cc7ba0b1"
       ],
       "layout": "IPY_MODEL_f28810a8bdc5445eb979f23311f9a6d8"
      }
     },
     "dff1493e3ddc43ad86f6ffa2e977b711": {
      "model_module": "@jupyter-widgets/controls",
      "model_module_version": "1.5.0",
      "model_name": "FloatProgressModel",
      "state": {
       "_model_module_version": "1.5.0",
       "_view_module_version": "1.5.0",
       "bar_style": "success",
       "description": "500/500",
       "layout": "IPY_MODEL_b478defe3e3844bf84cf9f3e2bbc8496",
       "max": 500,
       "style": "IPY_MODEL_095d96be4b6c408da681d13bc874b007",
       "value": 500
      }
     },
     "e01e88834ffd4ba09c72a41ea715ea3b": {
      "model_module": "@jupyter-widgets/controls",
      "model_module_version": "1.5.0",
      "model_name": "HBoxModel",
      "state": {
       "_model_module_version": "1.5.0",
       "_view_module_version": "1.5.0",
       "children": [
        "IPY_MODEL_bedcb18f11094490abed935206cc35c3",
        "IPY_MODEL_d77bedc5d8fa4a55bf566ab8f67aeefc"
       ],
       "layout": "IPY_MODEL_e6bffa2b63b24c62be3f59b8d3f1add1"
      }
     },
     "e02176d710ab40d98df050f1ef850d13": {
      "model_module": "@jupyter-widgets/base",
      "model_module_version": "1.2.0",
      "model_name": "LayoutModel",
      "state": {
       "_model_module_version": "1.2.0",
       "_view_module_version": "1.2.0",
       "justify_items": null,
       "object_fit": null,
       "object_position": null
      }
     },
     "e058a22e40074af5b1cd4d722eaea80a": {
      "model_module": "@jupyter-widgets/controls",
      "model_module_version": "1.5.0",
      "model_name": "HBoxModel",
      "state": {
       "_model_module_version": "1.5.0",
       "_view_module_version": "1.5.0",
       "children": [
        "IPY_MODEL_7835614b6ca949bd9f880ceb9aa324d3",
        "IPY_MODEL_60dc7d4f8d534b4daa8ff2c32f96f101"
       ],
       "layout": "IPY_MODEL_18fa1fbbe19b4a6bbf03b99508977403"
      }
     },
     "e0975523dfeb4476979adc8368a2344b": {
      "model_module": "@jupyter-widgets/controls",
      "model_module_version": "1.5.0",
      "model_name": "HBoxModel",
      "state": {
       "_model_module_version": "1.5.0",
       "_view_module_version": "1.5.0",
       "children": [
        "IPY_MODEL_61d83f1e77aa4f5f997965a189de99e3",
        "IPY_MODEL_d10062d4a3f744c6b354288b0181a256"
       ],
       "layout": "IPY_MODEL_ccae9a45dd204b4396d9f897445fe8e4"
      }
     },
     "e13a2cca2e964aaeb9cce92297b1c8a5": {
      "model_module": "@jupyter-widgets/base",
      "model_module_version": "1.2.0",
      "model_name": "LayoutModel",
      "state": {
       "_model_module_version": "1.2.0",
       "_view_module_version": "1.2.0",
       "display": "inline-flex",
       "flex_flow": "row wrap",
       "justify_items": null,
       "object_fit": null,
       "object_position": null,
       "width": "100%"
      }
     },
     "e1feb44a25144cc1a81710581b018c30": {
      "model_module": "@jupyter-widgets/controls",
      "model_module_version": "1.5.0",
      "model_name": "HTMLModel",
      "state": {
       "_model_module_version": "1.5.0",
       "_view_module_version": "1.5.0",
       "layout": "IPY_MODEL_f3c076b469ed4326939d63947a578249",
       "style": "IPY_MODEL_2e186af00caa49829ea9a9223d63c815",
       "value": " ETA: 00:00s - loss: 0.2555 - val_loss: 0.2504"
      }
     },
     "e267b972db954fe28eaccabd8536e418": {
      "model_module": "@jupyter-widgets/controls",
      "model_module_version": "1.5.0",
      "model_name": "FloatProgressModel",
      "state": {
       "_model_module_version": "1.5.0",
       "_view_module_version": "1.5.0",
       "bar_style": "success",
       "description": "500/500",
       "layout": "IPY_MODEL_8c1ba3cbc70d4cfe93e94db96ef089ff",
       "max": 500,
       "style": "IPY_MODEL_bb063cf1240b4cf4a1dd3d0fcfb0119f",
       "value": 500
      }
     },
     "e2b7d9efc9d44d1caf35069f22b44c5f": {
      "model_module": "@jupyter-widgets/base",
      "model_module_version": "1.2.0",
      "model_name": "LayoutModel",
      "state": {
       "_model_module_version": "1.2.0",
       "_view_module_version": "1.2.0",
       "justify_items": null,
       "object_fit": null,
       "object_position": null
      }
     },
     "e341bf6815d0429799b806b54407789e": {
      "model_module": "@jupyter-widgets/controls",
      "model_module_version": "1.5.0",
      "model_name": "HTMLModel",
      "state": {
       "_model_module_version": "1.5.0",
       "_view_module_version": "1.5.0",
       "layout": "IPY_MODEL_715c70d19c354840b18dc430151d4ff2",
       "style": "IPY_MODEL_020352bb1d5b44528f45462ea7ae5c53",
       "value": " ETA: 00:00s - loss: 0.2110 - val_loss: 0.2154"
      }
     },
     "e35d1745a31641b9986dc924f430f812": {
      "model_module": "@jupyter-widgets/controls",
      "model_module_version": "1.5.0",
      "model_name": "HBoxModel",
      "state": {
       "_model_module_version": "1.5.0",
       "_view_module_version": "1.5.0",
       "children": [
        "IPY_MODEL_a3177470fd984631b63b5275ce04b49b",
        "IPY_MODEL_a9dfa4e78f4a42d6bab57812d9d3dca8"
       ],
       "layout": "IPY_MODEL_1be5d33b8149445fbb4636db2eea80df"
      }
     },
     "e3a8a0f92462416485d45a08b1fc9d0b": {
      "model_module": "@jupyter-widgets/controls",
      "model_module_version": "1.5.0",
      "model_name": "ProgressStyleModel",
      "state": {
       "_model_module_version": "1.5.0",
       "_view_module_version": "1.2.0",
       "description_width": "initial"
      }
     },
     "e4848d4ab2214d49b08d9e5b571b9d5e": {
      "model_module": "@jupyter-widgets/controls",
      "model_module_version": "1.5.0",
      "model_name": "HBoxModel",
      "state": {
       "_model_module_version": "1.5.0",
       "_view_module_version": "1.5.0",
       "children": [
        "IPY_MODEL_4fb10e939e0648f495a7db15d18f6872",
        "IPY_MODEL_9739d810e9f94b09b5b154071fc3f94d"
       ],
       "layout": "IPY_MODEL_3d8994c57ac043aa80bfb38e000c2402"
      }
     },
     "e4fdb480fb08488e8e59e13d56c9e1fd": {
      "model_module": "@jupyter-widgets/controls",
      "model_module_version": "1.5.0",
      "model_name": "FloatProgressModel",
      "state": {
       "_model_module_version": "1.5.0",
       "_view_module_version": "1.5.0",
       "bar_style": "success",
       "description": "500/500",
       "layout": "IPY_MODEL_be8ad8d403e84800b744dfd722e7a734",
       "max": 500,
       "style": "IPY_MODEL_f25f96b06ecf4ee39fe2963795a70079",
       "value": 500
      }
     },
     "e548c51321e84334b60ffaaea68fe0b3": {
      "model_module": "@jupyter-widgets/controls",
      "model_module_version": "1.5.0",
      "model_name": "DescriptionStyleModel",
      "state": {
       "_model_module_version": "1.5.0",
       "_view_module_version": "1.2.0",
       "description_width": ""
      }
     },
     "e590c434b9e347f1a431aecbf96d5e60": {
      "model_module": "@jupyter-widgets/controls",
      "model_module_version": "1.5.0",
      "model_name": "HBoxModel",
      "state": {
       "_model_module_version": "1.5.0",
       "_view_module_version": "1.5.0",
       "children": [
        "IPY_MODEL_d892010b195a4693a0b5befd460e2a3a",
        "IPY_MODEL_34cea08022d24043b0b0cdce4c751f20"
       ],
       "layout": "IPY_MODEL_1bcbe51ce2fd44bd9e0ee5b2433f934b"
      }
     },
     "e60d391403dc4f52b8878cfcd7b0c7ca": {
      "model_module": "@jupyter-widgets/base",
      "model_module_version": "1.2.0",
      "model_name": "LayoutModel",
      "state": {
       "_model_module_version": "1.2.0",
       "_view_module_version": "1.2.0",
       "flex": "2",
       "justify_items": null,
       "object_fit": null,
       "object_position": null
      }
     },
     "e66b7e8490824c808d2a7dac90b6c9e7": {
      "model_module": "@jupyter-widgets/controls",
      "model_module_version": "1.5.0",
      "model_name": "HTMLModel",
      "state": {
       "_model_module_version": "1.5.0",
       "_view_module_version": "1.5.0",
       "layout": "IPY_MODEL_9dbd0c878ce0455d9ced2ae9f20765dd",
       "style": "IPY_MODEL_5dbf621a5dcd40598e0fec91f014e04d",
       "value": " ETA: 00:00s - loss: 0.2113 - val_loss: 0.2112"
      }
     },
     "e68d4347f31e4b98aae3d3f070f9036b": {
      "model_module": "@jupyter-widgets/controls",
      "model_module_version": "1.5.0",
      "model_name": "DescriptionStyleModel",
      "state": {
       "_model_module_version": "1.5.0",
       "_view_module_version": "1.2.0",
       "description_width": ""
      }
     },
     "e6956b78af654b0c8af5dc1678882c0d": {
      "model_module": "@jupyter-widgets/base",
      "model_module_version": "1.2.0",
      "model_name": "LayoutModel",
      "state": {
       "_model_module_version": "1.2.0",
       "_view_module_version": "1.2.0",
       "flex": "2",
       "justify_items": null,
       "object_fit": null,
       "object_position": null
      }
     },
     "e69dc8feecd143c8ad08a2ed28581571": {
      "model_module": "@jupyter-widgets/controls",
      "model_module_version": "1.5.0",
      "model_name": "DescriptionStyleModel",
      "state": {
       "_model_module_version": "1.5.0",
       "_view_module_version": "1.2.0",
       "description_width": ""
      }
     },
     "e6bffa2b63b24c62be3f59b8d3f1add1": {
      "model_module": "@jupyter-widgets/base",
      "model_module_version": "1.2.0",
      "model_name": "LayoutModel",
      "state": {
       "_model_module_version": "1.2.0",
       "_view_module_version": "1.2.0",
       "display": "inline-flex",
       "flex_flow": "row wrap",
       "justify_items": null,
       "object_fit": null,
       "object_position": null,
       "width": "100%"
      }
     },
     "e6eb0fa7587a472984b9cfb1241e353d": {
      "model_module": "@jupyter-widgets/controls",
      "model_module_version": "1.5.0",
      "model_name": "HBoxModel",
      "state": {
       "_model_module_version": "1.5.0",
       "_view_module_version": "1.5.0",
       "children": [
        "IPY_MODEL_26c4c9c1ebc243d789dfe09fe4642c1d",
        "IPY_MODEL_a734812dcc514c66b71746db1a4b92f0"
       ],
       "layout": "IPY_MODEL_29355f0c80bb4eebb483193f0958409b"
      }
     },
     "e6f39b4ca3184813b594fb23786725d0": {
      "model_module": "@jupyter-widgets/controls",
      "model_module_version": "1.5.0",
      "model_name": "ProgressStyleModel",
      "state": {
       "_model_module_version": "1.5.0",
       "_view_module_version": "1.2.0",
       "description_width": "initial"
      }
     },
     "e6fa1ce8dbe543e1a0d10ceea9c4476f": {
      "model_module": "@jupyter-widgets/controls",
      "model_module_version": "1.5.0",
      "model_name": "FloatProgressModel",
      "state": {
       "_model_module_version": "1.5.0",
       "_view_module_version": "1.5.0",
       "bar_style": "success",
       "description": "500/500",
       "layout": "IPY_MODEL_e6956b78af654b0c8af5dc1678882c0d",
       "max": 500,
       "style": "IPY_MODEL_a6dc37a536eb457c85397eecdbb52684",
       "value": 500
      }
     },
     "e71c566167444a4eb949e9b4cd4284e0": {
      "model_module": "@jupyter-widgets/controls",
      "model_module_version": "1.5.0",
      "model_name": "ProgressStyleModel",
      "state": {
       "_model_module_version": "1.5.0",
       "_view_module_version": "1.2.0",
       "description_width": "initial"
      }
     },
     "e7477ee65ea74fc4acca001629954b4b": {
      "model_module": "@jupyter-widgets/base",
      "model_module_version": "1.2.0",
      "model_name": "LayoutModel",
      "state": {
       "_model_module_version": "1.2.0",
       "_view_module_version": "1.2.0",
       "flex": "2",
       "justify_items": null,
       "object_fit": null,
       "object_position": null
      }
     },
     "e7d430b44ab5406cab505b52fb11400d": {
      "model_module": "@jupyter-widgets/controls",
      "model_module_version": "1.5.0",
      "model_name": "ProgressStyleModel",
      "state": {
       "_model_module_version": "1.5.0",
       "_view_module_version": "1.2.0",
       "description_width": "initial"
      }
     },
     "e86a8555b9d3456383e9b60f7b371838": {
      "model_module": "@jupyter-widgets/base",
      "model_module_version": "1.2.0",
      "model_name": "LayoutModel",
      "state": {
       "_model_module_version": "1.2.0",
       "_view_module_version": "1.2.0",
       "display": "inline-flex",
       "flex_flow": "row wrap",
       "justify_items": null,
       "object_fit": null,
       "object_position": null,
       "width": "100%"
      }
     },
     "e8d77001158b438481c7efe38eb2aa6b": {
      "model_module": "@jupyter-widgets/base",
      "model_module_version": "1.2.0",
      "model_name": "LayoutModel",
      "state": {
       "_model_module_version": "1.2.0",
       "_view_module_version": "1.2.0",
       "flex": "2",
       "justify_items": null,
       "object_fit": null,
       "object_position": null
      }
     },
     "e90539da971a4e2cb1c6d62f724e7dcc": {
      "model_module": "@jupyter-widgets/controls",
      "model_module_version": "1.5.0",
      "model_name": "HBoxModel",
      "state": {
       "_model_module_version": "1.5.0",
       "_view_module_version": "1.5.0",
       "children": [
        "IPY_MODEL_23104b4cea8641f5be6d9a1d64b06bff",
        "IPY_MODEL_306d60397bc6484e8aa881a5273d6d07"
       ],
       "layout": "IPY_MODEL_732372d1a1574564a059f2e3cea38826"
      }
     },
     "e95e5ba35de54f7693df461d82442161": {
      "model_module": "@jupyter-widgets/base",
      "model_module_version": "1.2.0",
      "model_name": "LayoutModel",
      "state": {
       "_model_module_version": "1.2.0",
       "_view_module_version": "1.2.0",
       "flex": "2",
       "justify_items": null,
       "object_fit": null,
       "object_position": null
      }
     },
     "e96e248700ef4666a308f9562fc3d668": {
      "model_module": "@jupyter-widgets/controls",
      "model_module_version": "1.5.0",
      "model_name": "DescriptionStyleModel",
      "state": {
       "_model_module_version": "1.5.0",
       "_view_module_version": "1.2.0",
       "description_width": ""
      }
     },
     "ea2ebfef0ee94f5e9d973e89f0a9e924": {
      "model_module": "@jupyter-widgets/controls",
      "model_module_version": "1.5.0",
      "model_name": "DescriptionStyleModel",
      "state": {
       "_model_module_version": "1.5.0",
       "_view_module_version": "1.2.0",
       "description_width": ""
      }
     },
     "eabcac73963b417f9d36a249ca465310": {
      "model_module": "@jupyter-widgets/controls",
      "model_module_version": "1.5.0",
      "model_name": "HTMLModel",
      "state": {
       "_model_module_version": "1.5.0",
       "_view_module_version": "1.5.0",
       "layout": "IPY_MODEL_7526ea3d09074e29aafc37bfd225d97e",
       "style": "IPY_MODEL_93a11acd09744e94a18c64d2aeced139",
       "value": " ETA: 00:00s - loss: 0.2420 - val_loss: 0.2403"
      }
     },
     "eb1430d9e6f840da9c096cd99a3f68d6": {
      "model_module": "@jupyter-widgets/base",
      "model_module_version": "1.2.0",
      "model_name": "LayoutModel",
      "state": {
       "_model_module_version": "1.2.0",
       "_view_module_version": "1.2.0",
       "display": "inline-flex",
       "flex_flow": "row wrap",
       "justify_items": null,
       "object_fit": null,
       "object_position": null,
       "width": "100%"
      }
     },
     "eb3249671e1f4129aeaa3dac787ab58a": {
      "model_module": "@jupyter-widgets/controls",
      "model_module_version": "1.5.0",
      "model_name": "FloatProgressModel",
      "state": {
       "_model_module_version": "1.5.0",
       "_view_module_version": "1.5.0",
       "bar_style": "success",
       "description": "500/500",
       "layout": "IPY_MODEL_11b1e185bdef43b5b7918a4a03c5fe88",
       "max": 500,
       "style": "IPY_MODEL_fc85b1cc4b064e71b0e72dc8b1c0e618",
       "value": 500
      }
     },
     "ebc85f70b7794d77af8fdd4566e0d200": {
      "model_module": "@jupyter-widgets/controls",
      "model_module_version": "1.5.0",
      "model_name": "DescriptionStyleModel",
      "state": {
       "_model_module_version": "1.5.0",
       "_view_module_version": "1.2.0",
       "description_width": ""
      }
     },
     "ec45aaff4ac540a990d76118e9cea928": {
      "model_module": "@jupyter-widgets/base",
      "model_module_version": "1.2.0",
      "model_name": "LayoutModel",
      "state": {
       "_model_module_version": "1.2.0",
       "_view_module_version": "1.2.0",
       "display": "inline-flex",
       "flex_flow": "row wrap",
       "justify_items": null,
       "object_fit": null,
       "object_position": null,
       "width": "100%"
      }
     },
     "ec7ddc3551c2402ea0ad0fca057abd13": {
      "model_module": "@jupyter-widgets/controls",
      "model_module_version": "1.5.0",
      "model_name": "FloatProgressModel",
      "state": {
       "_model_module_version": "1.5.0",
       "_view_module_version": "1.5.0",
       "bar_style": "success",
       "description": "500/500",
       "layout": "IPY_MODEL_3e0397f37d1b43eaa2e647cdbabb0e9c",
       "max": 500,
       "style": "IPY_MODEL_d0ce769322784f7e85a54680df958a2c",
       "value": 500
      }
     },
     "ecb9e80a1c41450fbe5ebb1cdf01c30d": {
      "model_module": "@jupyter-widgets/controls",
      "model_module_version": "1.5.0",
      "model_name": "DescriptionStyleModel",
      "state": {
       "_model_module_version": "1.5.0",
       "_view_module_version": "1.2.0",
       "description_width": ""
      }
     },
     "ed3f409c236f4e74bf6eedd9e70b4cb2": {
      "model_module": "@jupyter-widgets/controls",
      "model_module_version": "1.5.0",
      "model_name": "FloatProgressModel",
      "state": {
       "_model_module_version": "1.5.0",
       "_view_module_version": "1.5.0",
       "bar_style": "success",
       "description": "500/500",
       "layout": "IPY_MODEL_f6f361e952bd4c428454f50e886211d5",
       "max": 500,
       "style": "IPY_MODEL_7d42527b59d5473d93854c36b29c1b82",
       "value": 500
      }
     },
     "eda358462a924ca090e36fc18e77eeff": {
      "model_module": "@jupyter-widgets/base",
      "model_module_version": "1.2.0",
      "model_name": "LayoutModel",
      "state": {
       "_model_module_version": "1.2.0",
       "_view_module_version": "1.2.0",
       "justify_items": null,
       "object_fit": null,
       "object_position": null
      }
     },
     "edd49b78ce5645a9aa335d2368ca52bd": {
      "model_module": "@jupyter-widgets/controls",
      "model_module_version": "1.5.0",
      "model_name": "HTMLModel",
      "state": {
       "_model_module_version": "1.5.0",
       "_view_module_version": "1.5.0",
       "layout": "IPY_MODEL_144d3037fad24a72b54d8b30dce76ab1",
       "style": "IPY_MODEL_79b12b7f788643498d6ca316b2bdc4dd",
       "value": " ETA: 00:00s - loss: 0.2290 - val_loss: 0.2321"
      }
     },
     "ee358f78d50f4acbb4730cdcda334e41": {
      "model_module": "@jupyter-widgets/base",
      "model_module_version": "1.2.0",
      "model_name": "LayoutModel",
      "state": {
       "_model_module_version": "1.2.0",
       "_view_module_version": "1.2.0",
       "flex": "2",
       "justify_items": null,
       "object_fit": null,
       "object_position": null
      }
     },
     "ef0967b50eee48619028a3dee60b0a41": {
      "model_module": "@jupyter-widgets/base",
      "model_module_version": "1.2.0",
      "model_name": "LayoutModel",
      "state": {
       "_model_module_version": "1.2.0",
       "_view_module_version": "1.2.0",
       "flex": "2",
       "justify_items": null,
       "object_fit": null,
       "object_position": null
      }
     },
     "ef4d57f20e8f4616bddb905b5854de19": {
      "model_module": "@jupyter-widgets/controls",
      "model_module_version": "1.5.0",
      "model_name": "HBoxModel",
      "state": {
       "_model_module_version": "1.5.0",
       "_view_module_version": "1.5.0",
       "children": [
        "IPY_MODEL_1cefece38b6a4b6eae15ca90bab852f0",
        "IPY_MODEL_83ba696cbbb64965b6369a089b4e228a"
       ],
       "layout": "IPY_MODEL_631dd71690b5485a80e49253b8d0c147"
      }
     },
     "ef76a96b6c414b7d8f482d263fbc4c45": {
      "model_module": "@jupyter-widgets/controls",
      "model_module_version": "1.5.0",
      "model_name": "HTMLModel",
      "state": {
       "_model_module_version": "1.5.0",
       "_view_module_version": "1.5.0",
       "layout": "IPY_MODEL_494a5724e95a42d2bc1fb0ff7be1e980",
       "style": "IPY_MODEL_f7809e04d4a14fbe84e22411f69c61a0",
       "value": " 78/100 ETA: 1:39:32s,  271.47s/epochs"
      }
     },
     "efe724596c444ef69e8de45c703a9532": {
      "model_module": "@jupyter-widgets/base",
      "model_module_version": "1.2.0",
      "model_name": "LayoutModel",
      "state": {
       "_model_module_version": "1.2.0",
       "_view_module_version": "1.2.0",
       "flex": "2",
       "justify_items": null,
       "object_fit": null,
       "object_position": null
      }
     },
     "f0cd3c3f2f504798b68f1451500e675d": {
      "model_module": "@jupyter-widgets/base",
      "model_module_version": "1.2.0",
      "model_name": "LayoutModel",
      "state": {
       "_model_module_version": "1.2.0",
       "_view_module_version": "1.2.0",
       "display": "inline-flex",
       "flex_flow": "row wrap",
       "justify_items": null,
       "object_fit": null,
       "object_position": null,
       "width": "100%"
      }
     },
     "f0d057e8d44f45669a87070049139c32": {
      "model_module": "@jupyter-widgets/controls",
      "model_module_version": "1.5.0",
      "model_name": "FloatProgressModel",
      "state": {
       "_model_module_version": "1.5.0",
       "_view_module_version": "1.5.0",
       "bar_style": "success",
       "description": "500/500",
       "layout": "IPY_MODEL_117e7bfb95e44ac98c933ba70ed76aac",
       "max": 500,
       "style": "IPY_MODEL_5af36c1f0b6a430abc69cd0d20e2a01c",
       "value": 500
      }
     },
     "f137f8fdf4c54c58a95b43ffeb387d69": {
      "model_module": "@jupyter-widgets/base",
      "model_module_version": "1.2.0",
      "model_name": "LayoutModel",
      "state": {
       "_model_module_version": "1.2.0",
       "_view_module_version": "1.2.0",
       "display": "inline-flex",
       "flex_flow": "row wrap",
       "justify_items": null,
       "object_fit": null,
       "object_position": null,
       "width": "100%"
      }
     },
     "f1388b7f36084a308164ae0b5e6ffa47": {
      "model_module": "@jupyter-widgets/base",
      "model_module_version": "1.2.0",
      "model_name": "LayoutModel",
      "state": {
       "_model_module_version": "1.2.0",
       "_view_module_version": "1.2.0",
       "flex": "2",
       "justify_items": null,
       "object_fit": null,
       "object_position": null
      }
     },
     "f235202515af4f9bba2dd7c4ce38a794": {
      "model_module": "@jupyter-widgets/controls",
      "model_module_version": "1.5.0",
      "model_name": "HTMLModel",
      "state": {
       "_model_module_version": "1.5.0",
       "_view_module_version": "1.5.0",
       "layout": "IPY_MODEL_e2b7d9efc9d44d1caf35069f22b44c5f",
       "style": "IPY_MODEL_11758eb6f2594890b928a86aa1011902",
       "value": " ETA: 00:00s - loss: 0.2045 - val_loss: 0.2071"
      }
     },
     "f25f96b06ecf4ee39fe2963795a70079": {
      "model_module": "@jupyter-widgets/controls",
      "model_module_version": "1.5.0",
      "model_name": "ProgressStyleModel",
      "state": {
       "_model_module_version": "1.5.0",
       "_view_module_version": "1.2.0",
       "description_width": "initial"
      }
     },
     "f28810a8bdc5445eb979f23311f9a6d8": {
      "model_module": "@jupyter-widgets/base",
      "model_module_version": "1.2.0",
      "model_name": "LayoutModel",
      "state": {
       "_model_module_version": "1.2.0",
       "_view_module_version": "1.2.0",
       "display": "inline-flex",
       "flex_flow": "row wrap",
       "justify_items": null,
       "object_fit": null,
       "object_position": null,
       "width": "100%"
      }
     },
     "f29bd8c860ec4d23a6e76fd902c0c7fa": {
      "model_module": "@jupyter-widgets/base",
      "model_module_version": "1.2.0",
      "model_name": "LayoutModel",
      "state": {
       "_model_module_version": "1.2.0",
       "_view_module_version": "1.2.0",
       "justify_items": null,
       "object_fit": null,
       "object_position": null
      }
     },
     "f2a359cf94ff4b6c969c9a3763eb6014": {
      "model_module": "@jupyter-widgets/base",
      "model_module_version": "1.2.0",
      "model_name": "LayoutModel",
      "state": {
       "_model_module_version": "1.2.0",
       "_view_module_version": "1.2.0",
       "flex": "2",
       "justify_items": null,
       "object_fit": null,
       "object_position": null
      }
     },
     "f2e7051169d94013a724dc527f783f72": {
      "model_module": "@jupyter-widgets/base",
      "model_module_version": "1.2.0",
      "model_name": "LayoutModel",
      "state": {
       "_model_module_version": "1.2.0",
       "_view_module_version": "1.2.0",
       "display": "inline-flex",
       "flex_flow": "row wrap",
       "justify_items": null,
       "object_fit": null,
       "object_position": null,
       "width": "100%"
      }
     },
     "f3c076b469ed4326939d63947a578249": {
      "model_module": "@jupyter-widgets/base",
      "model_module_version": "1.2.0",
      "model_name": "LayoutModel",
      "state": {
       "_model_module_version": "1.2.0",
       "_view_module_version": "1.2.0",
       "justify_items": null,
       "object_fit": null,
       "object_position": null
      }
     },
     "f463dcfbb5b142ba90b8a6df48008812": {
      "model_module": "@jupyter-widgets/base",
      "model_module_version": "1.2.0",
      "model_name": "LayoutModel",
      "state": {
       "_model_module_version": "1.2.0",
       "_view_module_version": "1.2.0",
       "display": "inline-flex",
       "flex_flow": "row wrap",
       "justify_items": null,
       "object_fit": null,
       "object_position": null,
       "width": "100%"
      }
     },
     "f4ead5df705742beaf7272ea6e0f0395": {
      "model_module": "@jupyter-widgets/base",
      "model_module_version": "1.2.0",
      "model_name": "LayoutModel",
      "state": {
       "_model_module_version": "1.2.0",
       "_view_module_version": "1.2.0",
       "justify_items": null,
       "object_fit": null,
       "object_position": null
      }
     },
     "f5563df377ad4d0495d8af9f22328655": {
      "model_module": "@jupyter-widgets/base",
      "model_module_version": "1.2.0",
      "model_name": "LayoutModel",
      "state": {
       "_model_module_version": "1.2.0",
       "_view_module_version": "1.2.0",
       "flex": "2",
       "justify_items": null,
       "object_fit": null,
       "object_position": null
      }
     },
     "f5638e02d0fe4826bae4629be345cfbe": {
      "model_module": "@jupyter-widgets/controls",
      "model_module_version": "1.5.0",
      "model_name": "HTMLModel",
      "state": {
       "_model_module_version": "1.5.0",
       "_view_module_version": "1.5.0",
       "layout": "IPY_MODEL_846b716334d54f819321a4e2f0b09b75",
       "style": "IPY_MODEL_11e990fd6ca848b5a9400fdad7bb21ba",
       "value": " ETA: 00:00s - loss: 0.2084 - val_loss: 0.2184"
      }
     },
     "f5b09834a8384d9fb09e4b338959853c": {
      "model_module": "@jupyter-widgets/controls",
      "model_module_version": "1.5.0",
      "model_name": "ProgressStyleModel",
      "state": {
       "_model_module_version": "1.5.0",
       "_view_module_version": "1.2.0",
       "description_width": "initial"
      }
     },
     "f6074e8af6934d9f93c414cbb2d409ea": {
      "model_module": "@jupyter-widgets/controls",
      "model_module_version": "1.5.0",
      "model_name": "HTMLModel",
      "state": {
       "_model_module_version": "1.5.0",
       "_view_module_version": "1.5.0",
       "layout": "IPY_MODEL_3d5310fe9aa14028932aeb7be40e5403",
       "style": "IPY_MODEL_42b0c2b82ce4453aab40fdcedfd4194e",
       "value": " ETA: 00:00s - loss: 0.2120 - val_loss: 0.2148"
      }
     },
     "f6f361e952bd4c428454f50e886211d5": {
      "model_module": "@jupyter-widgets/base",
      "model_module_version": "1.2.0",
      "model_name": "LayoutModel",
      "state": {
       "_model_module_version": "1.2.0",
       "_view_module_version": "1.2.0",
       "flex": "2",
       "justify_items": null,
       "object_fit": null,
       "object_position": null
      }
     },
     "f73449fc294e4c8da497849d364f9690": {
      "model_module": "@jupyter-widgets/controls",
      "model_module_version": "1.5.0",
      "model_name": "ProgressStyleModel",
      "state": {
       "_model_module_version": "1.5.0",
       "_view_module_version": "1.2.0",
       "description_width": "initial"
      }
     },
     "f73d0e3ec25a47ca90cb5fbb0c324734": {
      "model_module": "@jupyter-widgets/base",
      "model_module_version": "1.2.0",
      "model_name": "LayoutModel",
      "state": {
       "_model_module_version": "1.2.0",
       "_view_module_version": "1.2.0",
       "flex": "2",
       "justify_items": null,
       "object_fit": null,
       "object_position": null
      }
     },
     "f742fd9418a94affb87815851a8bec80": {
      "model_module": "@jupyter-widgets/controls",
      "model_module_version": "1.5.0",
      "model_name": "DescriptionStyleModel",
      "state": {
       "_model_module_version": "1.5.0",
       "_view_module_version": "1.2.0",
       "description_width": ""
      }
     },
     "f7809e04d4a14fbe84e22411f69c61a0": {
      "model_module": "@jupyter-widgets/controls",
      "model_module_version": "1.5.0",
      "model_name": "DescriptionStyleModel",
      "state": {
       "_model_module_version": "1.5.0",
       "_view_module_version": "1.2.0",
       "description_width": ""
      }
     },
     "f784dd25cd53418483923e0ccd2b0f82": {
      "model_module": "@jupyter-widgets/controls",
      "model_module_version": "1.5.0",
      "model_name": "HBoxModel",
      "state": {
       "_model_module_version": "1.5.0",
       "_view_module_version": "1.5.0",
       "children": [
        "IPY_MODEL_52726dfd402643ea9fdfe8e72cbf5fc8",
        "IPY_MODEL_76143ba1c58c495c97782371d981ff85"
       ],
       "layout": "IPY_MODEL_d66fc40c1d8f4755967509bc6f77b969"
      }
     },
     "f8637b6717c041838ba303dffdaf16ff": {
      "model_module": "@jupyter-widgets/controls",
      "model_module_version": "1.5.0",
      "model_name": "HBoxModel",
      "state": {
       "_model_module_version": "1.5.0",
       "_view_module_version": "1.5.0",
       "children": [
        "IPY_MODEL_9f7da86820e9472ca7d7d2dd1e0d266b",
        "IPY_MODEL_aeb07eb53e9a4ab2919424b1540db3f3"
       ],
       "layout": "IPY_MODEL_46217ab91ef542dfa56f43ffd575a2e0"
      }
     },
     "f99e16f056014084a0e58d3be71664b4": {
      "model_module": "@jupyter-widgets/controls",
      "model_module_version": "1.5.0",
      "model_name": "FloatProgressModel",
      "state": {
       "_model_module_version": "1.5.0",
       "_view_module_version": "1.5.0",
       "bar_style": "success",
       "description": "500/500",
       "layout": "IPY_MODEL_3c8f253e0ee5405183b985ef07f79ac9",
       "max": 500,
       "style": "IPY_MODEL_da953e39dd574ca4bab600a39620a855",
       "value": 500
      }
     },
     "f9b17149f4b5470ea01b9c7272338679": {
      "model_module": "@jupyter-widgets/controls",
      "model_module_version": "1.5.0",
      "model_name": "HTMLModel",
      "state": {
       "_model_module_version": "1.5.0",
       "_view_module_version": "1.5.0",
       "layout": "IPY_MODEL_77d8bf20a61d4f439f148488da03654f",
       "style": "IPY_MODEL_5db9b4c8a73e4c2080f91d244728ce31",
       "value": " ETA: 00:00s - loss: 0.2171 - val_loss: 0.2181"
      }
     },
     "f9b36e545eae46059ed3d64e61c0760a": {
      "model_module": "@jupyter-widgets/base",
      "model_module_version": "1.2.0",
      "model_name": "LayoutModel",
      "state": {
       "_model_module_version": "1.2.0",
       "_view_module_version": "1.2.0",
       "justify_items": null,
       "object_fit": null,
       "object_position": null
      }
     },
     "f9f4d4e22f9f459a8618ddb7647e1fc6": {
      "model_module": "@jupyter-widgets/base",
      "model_module_version": "1.2.0",
      "model_name": "LayoutModel",
      "state": {
       "_model_module_version": "1.2.0",
       "_view_module_version": "1.2.0",
       "display": "inline-flex",
       "flex_flow": "row wrap",
       "justify_items": null,
       "object_fit": null,
       "object_position": null,
       "width": "100%"
      }
     },
     "fa0ffed4e9ab4b44a11f576b009f060a": {
      "model_module": "@jupyter-widgets/base",
      "model_module_version": "1.2.0",
      "model_name": "LayoutModel",
      "state": {
       "_model_module_version": "1.2.0",
       "_view_module_version": "1.2.0",
       "justify_items": null,
       "object_fit": null,
       "object_position": null
      }
     },
     "fa93dfb0f03c42f3bb73a4597f6c10c2": {
      "model_module": "@jupyter-widgets/base",
      "model_module_version": "1.2.0",
      "model_name": "LayoutModel",
      "state": {
       "_model_module_version": "1.2.0",
       "_view_module_version": "1.2.0",
       "justify_items": null,
       "object_fit": null,
       "object_position": null
      }
     },
     "fa9ceeea0f5848618c6c16d9719dd43c": {
      "model_module": "@jupyter-widgets/controls",
      "model_module_version": "1.5.0",
      "model_name": "FloatProgressModel",
      "state": {
       "_model_module_version": "1.5.0",
       "_view_module_version": "1.5.0",
       "bar_style": "success",
       "description": "500/500",
       "layout": "IPY_MODEL_3240d876cd5a49a5b2da5b4d868b3267",
       "max": 500,
       "style": "IPY_MODEL_7913f54953da434683a925a10d804a38",
       "value": 500
      }
     },
     "faa61cadeeff437d89a29380ae2f4e24": {
      "model_module": "@jupyter-widgets/controls",
      "model_module_version": "1.5.0",
      "model_name": "DescriptionStyleModel",
      "state": {
       "_model_module_version": "1.5.0",
       "_view_module_version": "1.2.0",
       "description_width": ""
      }
     },
     "faba4304fcca4bbf84d167380cd0a3fb": {
      "model_module": "@jupyter-widgets/base",
      "model_module_version": "1.2.0",
      "model_name": "LayoutModel",
      "state": {
       "_model_module_version": "1.2.0",
       "_view_module_version": "1.2.0",
       "flex": "2",
       "justify_items": null,
       "object_fit": null,
       "object_position": null
      }
     },
     "fb3c78173d2242a8a8c379160292d308": {
      "model_module": "@jupyter-widgets/base",
      "model_module_version": "1.2.0",
      "model_name": "LayoutModel",
      "state": {
       "_model_module_version": "1.2.0",
       "_view_module_version": "1.2.0",
       "flex": "2",
       "justify_items": null,
       "object_fit": null,
       "object_position": null
      }
     },
     "fb7082a43b7a4a68af8dd393cbbefd27": {
      "model_module": "@jupyter-widgets/base",
      "model_module_version": "1.2.0",
      "model_name": "LayoutModel",
      "state": {
       "_model_module_version": "1.2.0",
       "_view_module_version": "1.2.0",
       "justify_items": null,
       "object_fit": null,
       "object_position": null
      }
     },
     "fb8aed554e224b85a2d4e04276849b52": {
      "model_module": "@jupyter-widgets/controls",
      "model_module_version": "1.5.0",
      "model_name": "HTMLModel",
      "state": {
       "_model_module_version": "1.5.0",
       "_view_module_version": "1.5.0",
       "layout": "IPY_MODEL_80502099f0f44b4f98f73ca5029ecb5c",
       "style": "IPY_MODEL_c7f591df1a6846a1a51304eb6c21dff9",
       "value": " ETA: 00:00s - loss: 0.2030 - val_loss: 0.2050"
      }
     },
     "fc07b0788cb44ec9bd2612f665561df8": {
      "model_module": "@jupyter-widgets/base",
      "model_module_version": "1.2.0",
      "model_name": "LayoutModel",
      "state": {
       "_model_module_version": "1.2.0",
       "_view_module_version": "1.2.0",
       "display": "inline-flex",
       "flex_flow": "row wrap",
       "justify_items": null,
       "object_fit": null,
       "object_position": null,
       "width": "100%"
      }
     },
     "fc5255a53ff44a358e1caa4e25ca2570": {
      "model_module": "@jupyter-widgets/base",
      "model_module_version": "1.2.0",
      "model_name": "LayoutModel",
      "state": {
       "_model_module_version": "1.2.0",
       "_view_module_version": "1.2.0",
       "justify_items": null,
       "object_fit": null,
       "object_position": null
      }
     },
     "fc85b1cc4b064e71b0e72dc8b1c0e618": {
      "model_module": "@jupyter-widgets/controls",
      "model_module_version": "1.5.0",
      "model_name": "ProgressStyleModel",
      "state": {
       "_model_module_version": "1.5.0",
       "_view_module_version": "1.2.0",
       "description_width": "initial"
      }
     },
     "fced323a745344179cdb1fa293a0c351": {
      "model_module": "@jupyter-widgets/controls",
      "model_module_version": "1.5.0",
      "model_name": "DescriptionStyleModel",
      "state": {
       "_model_module_version": "1.5.0",
       "_view_module_version": "1.2.0",
       "description_width": ""
      }
     },
     "fd0b9c150e124094abfce86f7029db20": {
      "model_module": "@jupyter-widgets/controls",
      "model_module_version": "1.5.0",
      "model_name": "HBoxModel",
      "state": {
       "_model_module_version": "1.5.0",
       "_view_module_version": "1.5.0",
       "children": [
        "IPY_MODEL_c934c38759b34ccaa2d27e0b258fa795",
        "IPY_MODEL_d24c26a73c5d4346b3d25464e805bd7e"
       ],
       "layout": "IPY_MODEL_27454247612a4384a9d426d8127603d0"
      }
     },
     "fd678d110dde45588c21450d3d3c92da": {
      "model_module": "@jupyter-widgets/controls",
      "model_module_version": "1.5.0",
      "model_name": "HBoxModel",
      "state": {
       "_model_module_version": "1.5.0",
       "_view_module_version": "1.5.0",
       "children": [
        "IPY_MODEL_72be41f77ba9462a9f1a110a4cd6f1fd",
        "IPY_MODEL_75d75208ef1b417ebc080fb80e573cd4"
       ],
       "layout": "IPY_MODEL_d0afaf97d6664b0b9457b25fbb3ee202"
      }
     },
     "fe32f86b574e496ab8dbb6c5289d912a": {
      "model_module": "@jupyter-widgets/controls",
      "model_module_version": "1.5.0",
      "model_name": "HBoxModel",
      "state": {
       "_model_module_version": "1.5.0",
       "_view_module_version": "1.5.0",
       "children": [
        "IPY_MODEL_214c206b492b44cea723c43c409da980",
        "IPY_MODEL_db1db2630c79433da87f8bcaa119dfdd"
       ],
       "layout": "IPY_MODEL_bedbfb2c77d74b8e9f3c5689b905bd71"
      }
     },
     "feaeaae809c141cea04f5181f1a17b43": {
      "model_module": "@jupyter-widgets/controls",
      "model_module_version": "1.5.0",
      "model_name": "HBoxModel",
      "state": {
       "_model_module_version": "1.5.0",
       "_view_module_version": "1.5.0",
       "children": [
        "IPY_MODEL_7f9da3a1e34446ff92b9c656ab4b690c",
        "IPY_MODEL_48bae030cd5e49ec92756fcb1516da39"
       ],
       "layout": "IPY_MODEL_9748b31859aa4f6789b1d5de91ad1993"
      }
     },
     "fec9e560e6a44c218841ffa11fe75d79": {
      "model_module": "@jupyter-widgets/controls",
      "model_module_version": "1.5.0",
      "model_name": "DescriptionStyleModel",
      "state": {
       "_model_module_version": "1.5.0",
       "_view_module_version": "1.2.0",
       "description_width": ""
      }
     },
     "ff9991b17fe241ae8b1ca1c0330d6a0e": {
      "model_module": "@jupyter-widgets/controls",
      "model_module_version": "1.5.0",
      "model_name": "ProgressStyleModel",
      "state": {
       "_model_module_version": "1.5.0",
       "_view_module_version": "1.2.0",
       "description_width": "initial"
      }
     },
     "ffc47e5c6b654d4c8202275046e9aff5": {
      "model_module": "@jupyter-widgets/base",
      "model_module_version": "1.2.0",
      "model_name": "LayoutModel",
      "state": {
       "_model_module_version": "1.2.0",
       "_view_module_version": "1.2.0",
       "display": "inline-flex",
       "flex_flow": "row wrap",
       "justify_items": null,
       "object_fit": null,
       "object_position": null,
       "width": "100%"
      }
     }
    },
    "version_major": 2,
    "version_minor": 0
   }
  }
 },
 "nbformat": 4,
 "nbformat_minor": 2
}
