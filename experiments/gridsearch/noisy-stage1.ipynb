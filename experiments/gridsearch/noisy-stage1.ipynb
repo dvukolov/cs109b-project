{
 "cells": [
  {
   "cell_type": "markdown",
   "metadata": {},
   "source": [
    "# CNN for Regression from Noisy Images to Labels\n",
    "\n",
    "## Stage 1: Hyperparameter Grid Search on a Subset of the Data (20K Samples)"
   ]
  },
  {
   "cell_type": "code",
   "execution_count": 14,
   "metadata": {
    "colab": {},
    "colab_type": "code",
    "id": "Yxte-FPgZun0"
   },
   "outputs": [],
   "source": [
    "import json\n",
    "from pathlib import Path\n",
    "import numpy as np\n",
    "import tensorflow as tf\n",
    "import tensorflow_addons as tfa\n",
    "from sklearn.model_selection import ParameterGrid\n",
    "from sklearn.preprocessing import MinMaxScaler\n",
    "\n",
    "%run xception.ipynb"
   ]
  },
  {
   "cell_type": "code",
   "execution_count": 15,
   "metadata": {
    "colab": {
     "base_uri": "https://localhost:8080/",
     "height": 35
    },
    "colab_type": "code",
    "id": "gWTrhwdHZ4dr",
    "outputId": "b1f4d5d6-9a7b-41fa-e8cc-ede8cc7d0503"
   },
   "outputs": [
    {
     "name": "stdout",
     "output_type": "stream",
     "text": [
      "Available variables: ['img', 'img_nonoise', 'label', 'psf_r', 'snr', 'sigma']\n"
     ]
    }
   ],
   "source": [
    "dataset = \"../../data/data_v1_small.npz\"\n",
    "\n",
    "with np.load(dataset) as data:\n",
    "    print(\"Available variables:\", data.files)\n",
    "    image = data[\"img\"]\n",
    "    label = data[\"label\"]"
   ]
  },
  {
   "cell_type": "code",
   "execution_count": 16,
   "metadata": {},
   "outputs": [],
   "source": [
    "# Use unscaled noisy images. Let TF normalize the data.\n",
    "X = image[..., np.newaxis]\n",
    "input_shape = X.shape[1:]\n",
    "\n",
    "# Scale the labels between -1 and 1 using the full dataset. We know the ranges of generated labels.\n",
    "scaler = MinMaxScaler(feature_range=(-1, 1))\n",
    "y = scaler.fit_transform(label)\n",
    "output_shape = y.shape[1:]"
   ]
  },
  {
   "cell_type": "code",
   "execution_count": null,
   "metadata": {
    "scrolled": true
   },
   "outputs": [],
   "source": [
    "# params = dict(conv2d_num_filters=[16, 32, 64], sep_num_filters=[128, 256, 384])\n",
    "params = dict(conv2d_num_filters=[8, 16, 32, 64], sep_num_filters=[8, 16, 32, 64])\n",
    "model_args = list(ParameterGrid(params))\n",
    "total = len(model_args)\n",
    "\n",
    "for i, args in enumerate(model_args, start=1):\n",
    "    cval = args[\"conv2d_num_filters\"]\n",
    "    sval = args[\"sep_num_filters\"]\n",
    "    filename = Path(\"trials-v1\") / f\"trial-c{cval}-s{sval}.json\"\n",
    "    if filename.exists():\n",
    "        continue\n",
    "        \n",
    "    print(f\"Testing {i}/{total}: {args}\")\n",
    "    model = build_xception_model(input_shape, output_shape, num_residual_blocks=8, **args)\n",
    "    model.compile(optimizer=\"adam\", loss=\"mse\")\n",
    "    early_stopping = tf.keras.callbacks.EarlyStopping(patience=5, restore_best_weights=True)\n",
    "    adapt_model(model, X)\n",
    "    history = model.fit(\n",
    "        X,\n",
    "        y,\n",
    "        batch_size=32,\n",
    "        epochs=50,\n",
    "        validation_split=0.2,\n",
    "        verbose=2,\n",
    "        callbacks=[early_stopping],\n",
    "    )\n",
    "    \n",
    "    doc = args.copy()\n",
    "    doc['score'] = np.min(history.history[\"val_loss\"])\n",
    "    with open(filename, \"w\") as f:\n",
    "        json.dump(doc, f)\n",
    "    print()"
   ]
  }
 ],
 "metadata": {
  "accelerator": "GPU",
  "colab": {
   "collapsed_sections": [],
   "name": "autokeras.ipynb",
   "provenance": []
  },
  "kernelspec": {
   "display_name": "Python (TF2.1)",
   "language": "python",
   "name": "tf21"
  },
  "language_info": {
   "codemirror_mode": {
    "name": "ipython",
    "version": 3
   },
   "file_extension": ".py",
   "mimetype": "text/x-python",
   "name": "python",
   "nbconvert_exporter": "python",
   "pygments_lexer": "ipython3",
   "version": "3.7.6"
  },
  "widgets": {
   "application/vnd.jupyter.widget-state+json": {
    "state": {
     "006ceb0c8e814c60a3966628c67a1b69": {
      "model_module": "@jupyter-widgets/controls",
      "model_module_version": "1.5.0",
      "model_name": "HBoxModel",
      "state": {
       "_model_module_version": "1.5.0",
       "_view_module_version": "1.5.0",
       "children": [
        "IPY_MODEL_8e784e5fa2a74b249e11786413a0bda6",
        "IPY_MODEL_56f642e104154a5eaa2150b669d7671b"
       ],
       "layout": "IPY_MODEL_dec2153b8e1842d2aa8c6ac64d420c8a"
      }
     },
     "0084c4fc45c14546bb3c780767d2c87a": {
      "model_module": "@jupyter-widgets/base",
      "model_module_version": "1.2.0",
      "model_name": "LayoutModel",
      "state": {
       "_model_module_version": "1.2.0",
       "_view_module_version": "1.2.0",
       "display": "inline-flex",
       "flex_flow": "row wrap",
       "justify_items": null,
       "object_fit": null,
       "object_position": null,
       "width": "100%"
      }
     },
     "0163129d37af4c5090e654409f0dee04": {
      "model_module": "@jupyter-widgets/controls",
      "model_module_version": "1.5.0",
      "model_name": "DescriptionStyleModel",
      "state": {
       "_model_module_version": "1.5.0",
       "_view_module_version": "1.2.0",
       "description_width": ""
      }
     },
     "017ae4a891ca469dbea32d449a8a4829": {
      "model_module": "@jupyter-widgets/controls",
      "model_module_version": "1.5.0",
      "model_name": "FloatProgressModel",
      "state": {
       "_model_module_version": "1.5.0",
       "_view_module_version": "1.5.0",
       "bar_style": "success",
       "description": "2813/2813",
       "layout": "IPY_MODEL_03be2f88e0c24e3d8399e2a3c0b3023b",
       "max": 2813,
       "style": "IPY_MODEL_e9eaa1d8545a4f5995499afb1a5c68a0",
       "value": 2813
      }
     },
     "01e807f412bb4cff8bbeec55a3c3ba6c": {
      "model_module": "@jupyter-widgets/controls",
      "model_module_version": "1.5.0",
      "model_name": "ProgressStyleModel",
      "state": {
       "_model_module_version": "1.5.0",
       "_view_module_version": "1.2.0",
       "description_width": "initial"
      }
     },
     "0319f58941914958b881255cf34fa0cc": {
      "model_module": "@jupyter-widgets/controls",
      "model_module_version": "1.5.0",
      "model_name": "HBoxModel",
      "state": {
       "_model_module_version": "1.5.0",
       "_view_module_version": "1.5.0",
       "children": [
        "IPY_MODEL_c62f4e5c3b204126a500043007f30e60",
        "IPY_MODEL_fe3d33f7f0764294af676ffb7a998bee"
       ],
       "layout": "IPY_MODEL_992e81eb027540c7901875af34210e1f"
      }
     },
     "0336f629c22a4b889be5dca5571d1404": {
      "model_module": "@jupyter-widgets/controls",
      "model_module_version": "1.5.0",
      "model_name": "HTMLModel",
      "state": {
       "_model_module_version": "1.5.0",
       "_view_module_version": "1.5.0",
       "layout": "IPY_MODEL_3fe998886c144703b48159cd5e77b2d0",
       "style": "IPY_MODEL_d57445a0a2374582a15b3cc04e85d85b",
       "value": " ETA: 00:00s - loss: 3.4619 - mse: 3.4619 - val_loss: 0.1106 - val_mse: 0.1105"
      }
     },
     "035c9ae4c0d8463db85bd268de07c8dc": {
      "model_module": "@jupyter-widgets/base",
      "model_module_version": "1.2.0",
      "model_name": "LayoutModel",
      "state": {
       "_model_module_version": "1.2.0",
       "_view_module_version": "1.2.0",
       "flex": "2",
       "justify_items": null,
       "object_fit": null,
       "object_position": null
      }
     },
     "03be2f88e0c24e3d8399e2a3c0b3023b": {
      "model_module": "@jupyter-widgets/base",
      "model_module_version": "1.2.0",
      "model_name": "LayoutModel",
      "state": {
       "_model_module_version": "1.2.0",
       "_view_module_version": "1.2.0",
       "flex": "2",
       "justify_items": null,
       "object_fit": null,
       "object_position": null
      }
     },
     "0487cf2a55df4ddab185fac27950be58": {
      "model_module": "@jupyter-widgets/controls",
      "model_module_version": "1.5.0",
      "model_name": "FloatProgressModel",
      "state": {
       "_model_module_version": "1.5.0",
       "_view_module_version": "1.5.0",
       "bar_style": "success",
       "description": "Training: 100%",
       "layout": "IPY_MODEL_14c795175a004aacaf6b32aacc68a662",
       "max": 1,
       "style": "IPY_MODEL_5995f8ebbd4f4612ae69b8e5665593d5",
       "value": 1
      }
     },
     "04e59de9d16f4d6ead40dc1cb2b70a23": {
      "model_module": "@jupyter-widgets/base",
      "model_module_version": "1.2.0",
      "model_name": "LayoutModel",
      "state": {
       "_model_module_version": "1.2.0",
       "_view_module_version": "1.2.0",
       "justify_items": null,
       "object_fit": null,
       "object_position": null
      }
     },
     "04f5b266bfcc4675ad0e2606ad6a0c99": {
      "model_module": "@jupyter-widgets/controls",
      "model_module_version": "1.5.0",
      "model_name": "HTMLModel",
      "state": {
       "_model_module_version": "1.5.0",
       "_view_module_version": "1.5.0",
       "layout": "IPY_MODEL_7baf54dc547c4125940677555873332f",
       "style": "IPY_MODEL_057ebf8f25ef4b0b85a77bf04c965df3",
       "value": " 1/1 ETA: 00:00s,   4.16s/epochs"
      }
     },
     "057ebf8f25ef4b0b85a77bf04c965df3": {
      "model_module": "@jupyter-widgets/controls",
      "model_module_version": "1.5.0",
      "model_name": "DescriptionStyleModel",
      "state": {
       "_model_module_version": "1.5.0",
       "_view_module_version": "1.2.0",
       "description_width": ""
      }
     },
     "058517abbf1349d98584e94fbb67b3cc": {
      "model_module": "@jupyter-widgets/controls",
      "model_module_version": "1.5.0",
      "model_name": "FloatProgressModel",
      "state": {
       "_model_module_version": "1.5.0",
       "_view_module_version": "1.5.0",
       "bar_style": "success",
       "description": "2813/2813",
       "layout": "IPY_MODEL_bffa9967a08643e193cdb39f27a4e82f",
       "max": 2813,
       "style": "IPY_MODEL_1def096678fd420fa6b423e3b0479a34",
       "value": 2813
      }
     },
     "05c13c13e77146d29d6bff29915e0d65": {
      "model_module": "@jupyter-widgets/controls",
      "model_module_version": "1.5.0",
      "model_name": "HBoxModel",
      "state": {
       "_model_module_version": "1.5.0",
       "_view_module_version": "1.5.0",
       "children": [
        "IPY_MODEL_6ee58fbce4cf41bc95ad04f22568bbd3",
        "IPY_MODEL_268d70a6757f4570bf67d033d29088e4"
       ],
       "layout": "IPY_MODEL_342fe89b8fad47a6b3a08ae924278421"
      }
     },
     "074921ef7f364852831a5805b5c6cd29": {
      "model_module": "@jupyter-widgets/controls",
      "model_module_version": "1.5.0",
      "model_name": "DescriptionStyleModel",
      "state": {
       "_model_module_version": "1.5.0",
       "_view_module_version": "1.2.0",
       "description_width": ""
      }
     },
     "079a5f14880f4a2e8d0488982c97f74e": {
      "model_module": "@jupyter-widgets/controls",
      "model_module_version": "1.5.0",
      "model_name": "HTMLModel",
      "state": {
       "_model_module_version": "1.5.0",
       "_view_module_version": "1.5.0",
       "layout": "IPY_MODEL_a4208eda0d5b42de8742677e9ddf5864",
       "style": "IPY_MODEL_eeb902c1df6a4929bb409acab8e26095",
       "value": " 1/1 ETA: 00:00s,  584.81s/epochs"
      }
     },
     "07ca935453194e85a8ba7e4e0dc3c4dc": {
      "model_module": "@jupyter-widgets/controls",
      "model_module_version": "1.5.0",
      "model_name": "HTMLModel",
      "state": {
       "_model_module_version": "1.5.0",
       "_view_module_version": "1.5.0",
       "layout": "IPY_MODEL_edef46aefc9e4033a04f28921e61a2e5",
       "style": "IPY_MODEL_6f18d6f9aab5438592819dc2b93b4a68",
       "value": " ETA: 00:00s - loss: 0.1262 - mse: 0.1262 - val_loss: 0.0641 - val_mse: 0.0641"
      }
     },
     "081b3a995f4046d792d6b25bb5925343": {
      "model_module": "@jupyter-widgets/controls",
      "model_module_version": "1.5.0",
      "model_name": "ProgressStyleModel",
      "state": {
       "_model_module_version": "1.5.0",
       "_view_module_version": "1.2.0",
       "description_width": "initial"
      }
     },
     "081e227e1311447ab4ee1e1682b8407a": {
      "model_module": "@jupyter-widgets/controls",
      "model_module_version": "1.5.0",
      "model_name": "HTMLModel",
      "state": {
       "_model_module_version": "1.5.0",
       "_view_module_version": "1.5.0",
       "layout": "IPY_MODEL_39aeffa0a97e4fe1a5b98b51a96f956a",
       "style": "IPY_MODEL_74fedd5610c8472e8bcbad7a952b0c1f",
       "value": " 1/1 ETA: 00:00s,  361.91s/epochs"
      }
     },
     "086e7ffb8a504fc191b8ad4342dfda6b": {
      "model_module": "@jupyter-widgets/base",
      "model_module_version": "1.2.0",
      "model_name": "LayoutModel",
      "state": {
       "_model_module_version": "1.2.0",
       "_view_module_version": "1.2.0",
       "justify_items": null,
       "object_fit": null,
       "object_position": null
      }
     },
     "0a9ef628e5b44e708f1da7e255255ec4": {
      "model_module": "@jupyter-widgets/controls",
      "model_module_version": "1.5.0",
      "model_name": "ProgressStyleModel",
      "state": {
       "_model_module_version": "1.5.0",
       "_view_module_version": "1.2.0",
       "description_width": "initial"
      }
     },
     "0aa6f30b6ecf4912a7f68315bcfbacf4": {
      "model_module": "@jupyter-widgets/controls",
      "model_module_version": "1.5.0",
      "model_name": "DescriptionStyleModel",
      "state": {
       "_model_module_version": "1.5.0",
       "_view_module_version": "1.2.0",
       "description_width": ""
      }
     },
     "0c87e4cb2f214ebd9ea3a0b18adfb0c9": {
      "model_module": "@jupyter-widgets/controls",
      "model_module_version": "1.5.0",
      "model_name": "FloatProgressModel",
      "state": {
       "_model_module_version": "1.5.0",
       "_view_module_version": "1.5.0",
       "bar_style": "success",
       "description": "Training: 100%",
       "layout": "IPY_MODEL_dbc79ce72fe342ef92fc75a160fa79bc",
       "max": 1,
       "style": "IPY_MODEL_eaa632e0799a4e44889a0b3e085e6618",
       "value": 1
      }
     },
     "0cbddf3d4f7c42b49ff84dd3d1e5a44f": {
      "model_module": "@jupyter-widgets/controls",
      "model_module_version": "1.5.0",
      "model_name": "HTMLModel",
      "state": {
       "_model_module_version": "1.5.0",
       "_view_module_version": "1.5.0",
       "layout": "IPY_MODEL_a8b38bd181d24c7c9bef7af3a8d67b7f",
       "style": "IPY_MODEL_b44aae36a6b24f09a104dec5b87ef42b",
       "value": " ETA: 00:00s - loss: 0.0657 - mse: 0.0657 - val_loss: 0.0497 - val_mse: 0.0497"
      }
     },
     "0cd0197fd6d44cb4a1cd61593bbe01af": {
      "model_module": "@jupyter-widgets/controls",
      "model_module_version": "1.5.0",
      "model_name": "HBoxModel",
      "state": {
       "_model_module_version": "1.5.0",
       "_view_module_version": "1.5.0",
       "children": [
        "IPY_MODEL_f830df85a1814c8bb406b88be558aae3",
        "IPY_MODEL_ed726bebed4844d98811ba20da089f7c"
       ],
       "layout": "IPY_MODEL_95fc40ffadb54a90a3b868b4efb86fca"
      }
     },
     "0e75fe13aab947dbb7e9bf02f3b2ee14": {
      "model_module": "@jupyter-widgets/base",
      "model_module_version": "1.2.0",
      "model_name": "LayoutModel",
      "state": {
       "_model_module_version": "1.2.0",
       "_view_module_version": "1.2.0",
       "display": "inline-flex",
       "flex_flow": "row wrap",
       "justify_items": null,
       "object_fit": null,
       "object_position": null,
       "width": "100%"
      }
     },
     "0eed768c54484887ab78b554636c760e": {
      "model_module": "@jupyter-widgets/base",
      "model_module_version": "1.2.0",
      "model_name": "LayoutModel",
      "state": {
       "_model_module_version": "1.2.0",
       "_view_module_version": "1.2.0",
       "flex": "2",
       "justify_items": null,
       "object_fit": null,
       "object_position": null
      }
     },
     "0f1b74b707854488b9f41b94b2bf3080": {
      "model_module": "@jupyter-widgets/controls",
      "model_module_version": "1.5.0",
      "model_name": "DescriptionStyleModel",
      "state": {
       "_model_module_version": "1.5.0",
       "_view_module_version": "1.2.0",
       "description_width": ""
      }
     },
     "0f47f74b43b44f6391ec55ebc606ca4e": {
      "model_module": "@jupyter-widgets/base",
      "model_module_version": "1.2.0",
      "model_name": "LayoutModel",
      "state": {
       "_model_module_version": "1.2.0",
       "_view_module_version": "1.2.0",
       "justify_items": null,
       "object_fit": null,
       "object_position": null
      }
     },
     "0f7beeeb663249428b034db8a33e1464": {
      "model_module": "@jupyter-widgets/base",
      "model_module_version": "1.2.0",
      "model_name": "LayoutModel",
      "state": {
       "_model_module_version": "1.2.0",
       "_view_module_version": "1.2.0",
       "flex": "2",
       "justify_items": null,
       "object_fit": null,
       "object_position": null
      }
     },
     "0f940c2c5263488b95a3457b6fee481c": {
      "model_module": "@jupyter-widgets/controls",
      "model_module_version": "1.5.0",
      "model_name": "HBoxModel",
      "state": {
       "_model_module_version": "1.5.0",
       "_view_module_version": "1.5.0",
       "children": [
        "IPY_MODEL_4b59685e05d84fb3aec3555192affb0a",
        "IPY_MODEL_081e227e1311447ab4ee1e1682b8407a"
       ],
       "layout": "IPY_MODEL_474dc5dca923452dbd83fc37607ce19f"
      }
     },
     "0fa207aaf3f446baac8139d94f2c1b5f": {
      "model_module": "@jupyter-widgets/base",
      "model_module_version": "1.2.0",
      "model_name": "LayoutModel",
      "state": {
       "_model_module_version": "1.2.0",
       "_view_module_version": "1.2.0",
       "flex": "2",
       "justify_items": null,
       "object_fit": null,
       "object_position": null
      }
     },
     "0fccecae52e84c9ebad62d0b3554609d": {
      "model_module": "@jupyter-widgets/base",
      "model_module_version": "1.2.0",
      "model_name": "LayoutModel",
      "state": {
       "_model_module_version": "1.2.0",
       "_view_module_version": "1.2.0",
       "justify_items": null,
       "object_fit": null,
       "object_position": null
      }
     },
     "0ffb674d980f463ab875c637cd91c813": {
      "model_module": "@jupyter-widgets/base",
      "model_module_version": "1.2.0",
      "model_name": "LayoutModel",
      "state": {
       "_model_module_version": "1.2.0",
       "_view_module_version": "1.2.0",
       "flex": "2",
       "justify_items": null,
       "object_fit": null,
       "object_position": null
      }
     },
     "1074ac32d61c412ba638efec149922b7": {
      "model_module": "@jupyter-widgets/controls",
      "model_module_version": "1.5.0",
      "model_name": "FloatProgressModel",
      "state": {
       "_model_module_version": "1.5.0",
       "_view_module_version": "1.5.0",
       "bar_style": "success",
       "description": "2813/2813",
       "layout": "IPY_MODEL_0f7beeeb663249428b034db8a33e1464",
       "max": 2813,
       "style": "IPY_MODEL_83fb58bb01294671a0eed67b9fdeab12",
       "value": 2813
      }
     },
     "10f3fabce80543508c81c7817be959fc": {
      "model_module": "@jupyter-widgets/controls",
      "model_module_version": "1.5.0",
      "model_name": "FloatProgressModel",
      "state": {
       "_model_module_version": "1.5.0",
       "_view_module_version": "1.5.0",
       "bar_style": "success",
       "description": "Training: 100%",
       "layout": "IPY_MODEL_e462aaf6dd044f5d99f4e02208bcbb63",
       "max": 1,
       "style": "IPY_MODEL_081b3a995f4046d792d6b25bb5925343",
       "value": 1
      }
     },
     "112334c503cf46dfbe34ca201059a9b1": {
      "model_module": "@jupyter-widgets/controls",
      "model_module_version": "1.5.0",
      "model_name": "ProgressStyleModel",
      "state": {
       "_model_module_version": "1.5.0",
       "_view_module_version": "1.2.0",
       "description_width": "initial"
      }
     },
     "115da28ec2a54a92bce2fbdb26784c17": {
      "model_module": "@jupyter-widgets/controls",
      "model_module_version": "1.5.0",
      "model_name": "HBoxModel",
      "state": {
       "_model_module_version": "1.5.0",
       "_view_module_version": "1.5.0",
       "children": [
        "IPY_MODEL_9cfc4921140d47a18942e9e30cc65d6c",
        "IPY_MODEL_b108e0a22f8e4c009b8d7baceff4d0da"
       ],
       "layout": "IPY_MODEL_61c4827085ee4472b884b238b93496d3"
      }
     },
     "137d727d15f74c4f8c50347360e4d78b": {
      "model_module": "@jupyter-widgets/base",
      "model_module_version": "1.2.0",
      "model_name": "LayoutModel",
      "state": {
       "_model_module_version": "1.2.0",
       "_view_module_version": "1.2.0",
       "display": "inline-flex",
       "flex_flow": "row wrap",
       "justify_items": null,
       "object_fit": null,
       "object_position": null,
       "width": "100%"
      }
     },
     "141feec4eef34407aa0112e89bd498dc": {
      "model_module": "@jupyter-widgets/controls",
      "model_module_version": "1.5.0",
      "model_name": "ProgressStyleModel",
      "state": {
       "_model_module_version": "1.5.0",
       "_view_module_version": "1.2.0",
       "description_width": "initial"
      }
     },
     "1438f652d73b48a3ae02ca6bcaabb23d": {
      "model_module": "@jupyter-widgets/controls",
      "model_module_version": "1.5.0",
      "model_name": "HBoxModel",
      "state": {
       "_model_module_version": "1.5.0",
       "_view_module_version": "1.5.0",
       "children": [
        "IPY_MODEL_8f4e2008119342eba9df28092a4a60da",
        "IPY_MODEL_d9fc602831c04a8b839bda2f24e551d5"
       ],
       "layout": "IPY_MODEL_90b086e2842e41d4999e37e5164c1b04"
      }
     },
     "14c795175a004aacaf6b32aacc68a662": {
      "model_module": "@jupyter-widgets/base",
      "model_module_version": "1.2.0",
      "model_name": "LayoutModel",
      "state": {
       "_model_module_version": "1.2.0",
       "_view_module_version": "1.2.0",
       "flex": "2",
       "justify_items": null,
       "object_fit": null,
       "object_position": null
      }
     },
     "153353d16aea42b2a8fc4329d9150ef9": {
      "model_module": "@jupyter-widgets/base",
      "model_module_version": "1.2.0",
      "model_name": "LayoutModel",
      "state": {
       "_model_module_version": "1.2.0",
       "_view_module_version": "1.2.0",
       "display": "inline-flex",
       "flex_flow": "row wrap",
       "justify_items": null,
       "object_fit": null,
       "object_position": null,
       "width": "100%"
      }
     },
     "15ca832dda9b45108d83dc62eb076b7a": {
      "model_module": "@jupyter-widgets/controls",
      "model_module_version": "1.5.0",
      "model_name": "ProgressStyleModel",
      "state": {
       "_model_module_version": "1.5.0",
       "_view_module_version": "1.2.0",
       "description_width": "initial"
      }
     },
     "16acafd36e734faf958d86465deecd5e": {
      "model_module": "@jupyter-widgets/controls",
      "model_module_version": "1.5.0",
      "model_name": "DescriptionStyleModel",
      "state": {
       "_model_module_version": "1.5.0",
       "_view_module_version": "1.2.0",
       "description_width": ""
      }
     },
     "1709639b79104ce4a58533cdc6f0a2fd": {
      "model_module": "@jupyter-widgets/controls",
      "model_module_version": "1.5.0",
      "model_name": "HTMLModel",
      "state": {
       "_model_module_version": "1.5.0",
       "_view_module_version": "1.5.0",
       "layout": "IPY_MODEL_a906f10ce3a74befbfff4d7cea63ba91",
       "style": "IPY_MODEL_364f09ee6b0845ae92acb73b0032d480",
       "value": " 1/1 ETA: 00:00s,  1956.29s/epochs"
      }
     },
     "17cd47db438340d8bef2d36ce98dabcd": {
      "model_module": "@jupyter-widgets/controls",
      "model_module_version": "1.5.0",
      "model_name": "FloatProgressModel",
      "state": {
       "_model_module_version": "1.5.0",
       "_view_module_version": "1.5.0",
       "bar_style": "success",
       "description": "Training: 100%",
       "layout": "IPY_MODEL_657e5d327b314aa392326a85a8022a26",
       "max": 1,
       "style": "IPY_MODEL_549c182f5f254f1fb9b04a654f9a6a80",
       "value": 1
      }
     },
     "18ec1514b0cd482889a2c2e2a9119b61": {
      "model_module": "@jupyter-widgets/controls",
      "model_module_version": "1.5.0",
      "model_name": "DescriptionStyleModel",
      "state": {
       "_model_module_version": "1.5.0",
       "_view_module_version": "1.2.0",
       "description_width": ""
      }
     },
     "1a5744ab95d149519db5c930341b6e9b": {
      "model_module": "@jupyter-widgets/controls",
      "model_module_version": "1.5.0",
      "model_name": "HBoxModel",
      "state": {
       "_model_module_version": "1.5.0",
       "_view_module_version": "1.5.0",
       "children": [
        "IPY_MODEL_537559392ab5467aa8de17c3688343ae",
        "IPY_MODEL_ba6ffece0df74da2a2c2801a914a4169"
       ],
       "layout": "IPY_MODEL_c9604509bd8f4832938291c5610fc6c6"
      }
     },
     "1aebf31494da44e39fbd1bd7d55dd4d2": {
      "model_module": "@jupyter-widgets/controls",
      "model_module_version": "1.5.0",
      "model_name": "FloatProgressModel",
      "state": {
       "_model_module_version": "1.5.0",
       "_view_module_version": "1.5.0",
       "bar_style": "success",
       "description": "Training: 100%",
       "layout": "IPY_MODEL_e34eff1697e0417cab8d2d408e6e4c1b",
       "max": 1,
       "style": "IPY_MODEL_fb1965b7a45f425da59236642a755774",
       "value": 1
      }
     },
     "1cab4f1965b64378b6ef347685c95f92": {
      "model_module": "@jupyter-widgets/base",
      "model_module_version": "1.2.0",
      "model_name": "LayoutModel",
      "state": {
       "_model_module_version": "1.2.0",
       "_view_module_version": "1.2.0",
       "display": "inline-flex",
       "flex_flow": "row wrap",
       "justify_items": null,
       "object_fit": null,
       "object_position": null,
       "width": "100%"
      }
     },
     "1cc1a179aa3b4a50827b723aec0f8602": {
      "model_module": "@jupyter-widgets/controls",
      "model_module_version": "1.5.0",
      "model_name": "ProgressStyleModel",
      "state": {
       "_model_module_version": "1.5.0",
       "_view_module_version": "1.2.0",
       "description_width": "initial"
      }
     },
     "1def096678fd420fa6b423e3b0479a34": {
      "model_module": "@jupyter-widgets/controls",
      "model_module_version": "1.5.0",
      "model_name": "ProgressStyleModel",
      "state": {
       "_model_module_version": "1.5.0",
       "_view_module_version": "1.2.0",
       "description_width": "initial"
      }
     },
     "1ecfae83ac0041eabd330fcff1dd680a": {
      "model_module": "@jupyter-widgets/controls",
      "model_module_version": "1.5.0",
      "model_name": "DescriptionStyleModel",
      "state": {
       "_model_module_version": "1.5.0",
       "_view_module_version": "1.2.0",
       "description_width": ""
      }
     },
     "1f523fe244f749a7b1c941449fbf3c14": {
      "model_module": "@jupyter-widgets/controls",
      "model_module_version": "1.5.0",
      "model_name": "ProgressStyleModel",
      "state": {
       "_model_module_version": "1.5.0",
       "_view_module_version": "1.2.0",
       "description_width": "initial"
      }
     },
     "20076ccf99b34d20919d064cfaa2bf65": {
      "model_module": "@jupyter-widgets/controls",
      "model_module_version": "1.5.0",
      "model_name": "DescriptionStyleModel",
      "state": {
       "_model_module_version": "1.5.0",
       "_view_module_version": "1.2.0",
       "description_width": ""
      }
     },
     "21365bf0bad44cb0bacc8efa2f3b64d9": {
      "model_module": "@jupyter-widgets/base",
      "model_module_version": "1.2.0",
      "model_name": "LayoutModel",
      "state": {
       "_model_module_version": "1.2.0",
       "_view_module_version": "1.2.0",
       "justify_items": null,
       "object_fit": null,
       "object_position": null
      }
     },
     "218efbac7b6b4aed8f38c3ba29a9e6f9": {
      "model_module": "@jupyter-widgets/controls",
      "model_module_version": "1.5.0",
      "model_name": "HTMLModel",
      "state": {
       "_model_module_version": "1.5.0",
       "_view_module_version": "1.5.0",
       "layout": "IPY_MODEL_ec082582e2f942bebb291df389b25b86",
       "style": "IPY_MODEL_53716974ab7e40639ff5652b786f2c7a",
       "value": " 1/1 ETA: 00:00s,  661.29s/epochs"
      }
     },
     "2190a1e4fd8642418600a8a4fc3c7c10": {
      "model_module": "@jupyter-widgets/base",
      "model_module_version": "1.2.0",
      "model_name": "LayoutModel",
      "state": {
       "_model_module_version": "1.2.0",
       "_view_module_version": "1.2.0",
       "flex": "2",
       "justify_items": null,
       "object_fit": null,
       "object_position": null
      }
     },
     "21d80dfe25714014b9beddcccdb7f277": {
      "model_module": "@jupyter-widgets/controls",
      "model_module_version": "1.5.0",
      "model_name": "FloatProgressModel",
      "state": {
       "_model_module_version": "1.5.0",
       "_view_module_version": "1.5.0",
       "bar_style": "success",
       "description": "5625/5625",
       "layout": "IPY_MODEL_75a0e1c356c74d80852bbf316f294dbe",
       "max": 5625,
       "style": "IPY_MODEL_0a9ef628e5b44e708f1da7e255255ec4",
       "value": 5625
      }
     },
     "22ab651565b34401b4ccefc8bcc1f67a": {
      "model_module": "@jupyter-widgets/controls",
      "model_module_version": "1.5.0",
      "model_name": "FloatProgressModel",
      "state": {
       "_model_module_version": "1.5.0",
       "_view_module_version": "1.5.0",
       "bar_style": "success",
       "description": "2813/2813",
       "layout": "IPY_MODEL_544e46620c4648dab3ab18096c7c3e6f",
       "max": 2813,
       "style": "IPY_MODEL_ce3ad65701974069b74465ed9a643058",
       "value": 2813
      }
     },
     "22c9678458ac43ff98275cd1d25813d8": {
      "model_module": "@jupyter-widgets/base",
      "model_module_version": "1.2.0",
      "model_name": "LayoutModel",
      "state": {
       "_model_module_version": "1.2.0",
       "_view_module_version": "1.2.0",
       "display": "inline-flex",
       "flex_flow": "row wrap",
       "justify_items": null,
       "object_fit": null,
       "object_position": null,
       "width": "100%"
      }
     },
     "231cf0666743403e982fc8b480fe8b6a": {
      "model_module": "@jupyter-widgets/controls",
      "model_module_version": "1.5.0",
      "model_name": "FloatProgressModel",
      "state": {
       "_model_module_version": "1.5.0",
       "_view_module_version": "1.5.0",
       "bar_style": "success",
       "description": "Training: 100%",
       "layout": "IPY_MODEL_c36d8479ecda4175910e8fc4e258d55f",
       "max": 1,
       "style": "IPY_MODEL_befef40a56c748978a25a79e8e2665a8",
       "value": 1
      }
     },
     "24ea060943d34792925aa1f29807a6fa": {
      "model_module": "@jupyter-widgets/base",
      "model_module_version": "1.2.0",
      "model_name": "LayoutModel",
      "state": {
       "_model_module_version": "1.2.0",
       "_view_module_version": "1.2.0",
       "display": "inline-flex",
       "flex_flow": "row wrap",
       "justify_items": null,
       "object_fit": null,
       "object_position": null,
       "width": "100%"
      }
     },
     "250e55db9eff404d9162876227f818a6": {
      "model_module": "@jupyter-widgets/controls",
      "model_module_version": "1.5.0",
      "model_name": "ProgressStyleModel",
      "state": {
       "_model_module_version": "1.5.0",
       "_view_module_version": "1.2.0",
       "description_width": "initial"
      }
     },
     "259e7524605a49d4af64beb5b15efd6d": {
      "model_module": "@jupyter-widgets/base",
      "model_module_version": "1.2.0",
      "model_name": "LayoutModel",
      "state": {
       "_model_module_version": "1.2.0",
       "_view_module_version": "1.2.0",
       "flex": "2",
       "justify_items": null,
       "object_fit": null,
       "object_position": null
      }
     },
     "26082c1ce2ff4ddb8b2a7bd1276a4c43": {
      "model_module": "@jupyter-widgets/base",
      "model_module_version": "1.2.0",
      "model_name": "LayoutModel",
      "state": {
       "_model_module_version": "1.2.0",
       "_view_module_version": "1.2.0",
       "display": "inline-flex",
       "flex_flow": "row wrap",
       "justify_items": null,
       "object_fit": null,
       "object_position": null,
       "width": "100%"
      }
     },
     "26387845e52645eb97e1edfc112d22b1": {
      "model_module": "@jupyter-widgets/base",
      "model_module_version": "1.2.0",
      "model_name": "LayoutModel",
      "state": {
       "_model_module_version": "1.2.0",
       "_view_module_version": "1.2.0",
       "display": "inline-flex",
       "flex_flow": "row wrap",
       "justify_items": null,
       "object_fit": null,
       "object_position": null,
       "width": "100%"
      }
     },
     "268d70a6757f4570bf67d033d29088e4": {
      "model_module": "@jupyter-widgets/controls",
      "model_module_version": "1.5.0",
      "model_name": "HTMLModel",
      "state": {
       "_model_module_version": "1.5.0",
       "_view_module_version": "1.5.0",
       "layout": "IPY_MODEL_9dde3823e73a4935af14a752fb51add3",
       "style": "IPY_MODEL_c460e9dca19c47c299f85d42643d8db3",
       "value": " 1/1 ETA: 00:00s,  713.57s/epochs"
      }
     },
     "2840f90e21934750adb15a36084cdb7b": {
      "model_module": "@jupyter-widgets/controls",
      "model_module_version": "1.5.0",
      "model_name": "HBoxModel",
      "state": {
       "_model_module_version": "1.5.0",
       "_view_module_version": "1.5.0",
       "children": [
        "IPY_MODEL_57b3f755dcc6450b8b67373f12e20a5c",
        "IPY_MODEL_ddfefec2f478489e876814f24b2f4315"
       ],
       "layout": "IPY_MODEL_299e37ef8508459aa6478c1ca48fde0e"
      }
     },
     "299e37ef8508459aa6478c1ca48fde0e": {
      "model_module": "@jupyter-widgets/base",
      "model_module_version": "1.2.0",
      "model_name": "LayoutModel",
      "state": {
       "_model_module_version": "1.2.0",
       "_view_module_version": "1.2.0",
       "display": "inline-flex",
       "flex_flow": "row wrap",
       "justify_items": null,
       "object_fit": null,
       "object_position": null,
       "width": "100%"
      }
     },
     "29ab1738a24b4ea0bb99860fbf271adc": {
      "model_module": "@jupyter-widgets/controls",
      "model_module_version": "1.5.0",
      "model_name": "HBoxModel",
      "state": {
       "_model_module_version": "1.5.0",
       "_view_module_version": "1.5.0",
       "children": [
        "IPY_MODEL_d343e997bf8f40aa94df8fe923a507e3",
        "IPY_MODEL_999af867a10d44d1a22aef348276af3b"
       ],
       "layout": "IPY_MODEL_40dc64104f7a4bd9a791239c66db3cca"
      }
     },
     "2a8193c1e7134e9ab968ed52a46c1783": {
      "model_module": "@jupyter-widgets/controls",
      "model_module_version": "1.5.0",
      "model_name": "ProgressStyleModel",
      "state": {
       "_model_module_version": "1.5.0",
       "_view_module_version": "1.2.0",
       "description_width": "initial"
      }
     },
     "2a85782a8c3b4a59b6771b6169aafeb3": {
      "model_module": "@jupyter-widgets/controls",
      "model_module_version": "1.5.0",
      "model_name": "ProgressStyleModel",
      "state": {
       "_model_module_version": "1.5.0",
       "_view_module_version": "1.2.0",
       "description_width": "initial"
      }
     },
     "2c8997bf38e14c3eadf7e472f2de3c33": {
      "model_module": "@jupyter-widgets/base",
      "model_module_version": "1.2.0",
      "model_name": "LayoutModel",
      "state": {
       "_model_module_version": "1.2.0",
       "_view_module_version": "1.2.0",
       "justify_items": null,
       "object_fit": null,
       "object_position": null
      }
     },
     "2caacd5bcda64ecc8104660ebd6fd38b": {
      "model_module": "@jupyter-widgets/controls",
      "model_module_version": "1.5.0",
      "model_name": "DescriptionStyleModel",
      "state": {
       "_model_module_version": "1.5.0",
       "_view_module_version": "1.2.0",
       "description_width": ""
      }
     },
     "2cfea37a727441b386f46c8015f5e9bc": {
      "model_module": "@jupyter-widgets/controls",
      "model_module_version": "1.5.0",
      "model_name": "DescriptionStyleModel",
      "state": {
       "_model_module_version": "1.5.0",
       "_view_module_version": "1.2.0",
       "description_width": ""
      }
     },
     "2d948af569ca4696ba67bc7fc3d095c6": {
      "model_module": "@jupyter-widgets/controls",
      "model_module_version": "1.5.0",
      "model_name": "ProgressStyleModel",
      "state": {
       "_model_module_version": "1.5.0",
       "_view_module_version": "1.2.0",
       "description_width": "initial"
      }
     },
     "2db9d67c23464482a7535bfbec5d96bc": {
      "model_module": "@jupyter-widgets/controls",
      "model_module_version": "1.5.0",
      "model_name": "FloatProgressModel",
      "state": {
       "_model_module_version": "1.5.0",
       "_view_module_version": "1.5.0",
       "bar_style": "success",
       "description": "Training: 100%",
       "layout": "IPY_MODEL_31299d74fec44ddb9f2f2108a7d4b6f3",
       "max": 1,
       "style": "IPY_MODEL_c19b00aa45f94c2e96d77ac61447c8e2",
       "value": 1
      }
     },
     "2e302df48a254e6abc6f9f811966ccaa": {
      "model_module": "@jupyter-widgets/base",
      "model_module_version": "1.2.0",
      "model_name": "LayoutModel",
      "state": {
       "_model_module_version": "1.2.0",
       "_view_module_version": "1.2.0",
       "flex": "2",
       "justify_items": null,
       "object_fit": null,
       "object_position": null
      }
     },
     "2e3b5cd4d84446ccae8ac49c64bb91df": {
      "model_module": "@jupyter-widgets/controls",
      "model_module_version": "1.5.0",
      "model_name": "ProgressStyleModel",
      "state": {
       "_model_module_version": "1.5.0",
       "_view_module_version": "1.2.0",
       "description_width": "initial"
      }
     },
     "2e5dff39fdb34641ae37c3cf423c64c0": {
      "model_module": "@jupyter-widgets/controls",
      "model_module_version": "1.5.0",
      "model_name": "DescriptionStyleModel",
      "state": {
       "_model_module_version": "1.5.0",
       "_view_module_version": "1.2.0",
       "description_width": ""
      }
     },
     "2f3409e650074ab8a0baa90a387e6db2": {
      "model_module": "@jupyter-widgets/controls",
      "model_module_version": "1.5.0",
      "model_name": "ProgressStyleModel",
      "state": {
       "_model_module_version": "1.5.0",
       "_view_module_version": "1.2.0",
       "description_width": "initial"
      }
     },
     "2f9e1a8a5dee4fea87a01910f9dc344e": {
      "model_module": "@jupyter-widgets/base",
      "model_module_version": "1.2.0",
      "model_name": "LayoutModel",
      "state": {
       "_model_module_version": "1.2.0",
       "_view_module_version": "1.2.0",
       "display": "inline-flex",
       "flex_flow": "row wrap",
       "justify_items": null,
       "object_fit": null,
       "object_position": null,
       "width": "100%"
      }
     },
     "31299d74fec44ddb9f2f2108a7d4b6f3": {
      "model_module": "@jupyter-widgets/base",
      "model_module_version": "1.2.0",
      "model_name": "LayoutModel",
      "state": {
       "_model_module_version": "1.2.0",
       "_view_module_version": "1.2.0",
       "flex": "2",
       "justify_items": null,
       "object_fit": null,
       "object_position": null
      }
     },
     "315fc0925511488ab854ea06c38c7959": {
      "model_module": "@jupyter-widgets/base",
      "model_module_version": "1.2.0",
      "model_name": "LayoutModel",
      "state": {
       "_model_module_version": "1.2.0",
       "_view_module_version": "1.2.0",
       "justify_items": null,
       "object_fit": null,
       "object_position": null
      }
     },
     "31cba8cfb57a4e179a1bec3c8a69def2": {
      "model_module": "@jupyter-widgets/controls",
      "model_module_version": "1.5.0",
      "model_name": "HTMLModel",
      "state": {
       "_model_module_version": "1.5.0",
       "_view_module_version": "1.5.0",
       "layout": "IPY_MODEL_90a5d6de9c794e8a82ba3d3b99bf1d2d",
       "style": "IPY_MODEL_53d831dd167c480b82f8a516a6659d8a",
       "value": " ETA: 00:00s - loss: 0.0760 - mse: 0.0760"
      }
     },
     "32071664a39b4411aba08e1f12927da2": {
      "model_module": "@jupyter-widgets/controls",
      "model_module_version": "1.5.0",
      "model_name": "DescriptionStyleModel",
      "state": {
       "_model_module_version": "1.5.0",
       "_view_module_version": "1.2.0",
       "description_width": ""
      }
     },
     "3207f5a6d18649a896be8fb427e51652": {
      "model_module": "@jupyter-widgets/controls",
      "model_module_version": "1.5.0",
      "model_name": "HBoxModel",
      "state": {
       "_model_module_version": "1.5.0",
       "_view_module_version": "1.5.0",
       "children": [
        "IPY_MODEL_0487cf2a55df4ddab185fac27950be58",
        "IPY_MODEL_e5f17058cba347119bcd3620b6738242"
       ],
       "layout": "IPY_MODEL_a88df0e17ead4403b83bbeb7efdce6e5"
      }
     },
     "3251089b6a934c1a8b94610ff0679132": {
      "model_module": "@jupyter-widgets/controls",
      "model_module_version": "1.5.0",
      "model_name": "DescriptionStyleModel",
      "state": {
       "_model_module_version": "1.5.0",
       "_view_module_version": "1.2.0",
       "description_width": ""
      }
     },
     "342fe89b8fad47a6b3a08ae924278421": {
      "model_module": "@jupyter-widgets/base",
      "model_module_version": "1.2.0",
      "model_name": "LayoutModel",
      "state": {
       "_model_module_version": "1.2.0",
       "_view_module_version": "1.2.0",
       "display": "inline-flex",
       "flex_flow": "row wrap",
       "justify_items": null,
       "object_fit": null,
       "object_position": null,
       "width": "100%"
      }
     },
     "3505b6a96aeb42218fcddf899ee96f19": {
      "model_module": "@jupyter-widgets/controls",
      "model_module_version": "1.5.0",
      "model_name": "ProgressStyleModel",
      "state": {
       "_model_module_version": "1.5.0",
       "_view_module_version": "1.2.0",
       "description_width": "initial"
      }
     },
     "361e2b2aab06478aa3e72c184170de90": {
      "model_module": "@jupyter-widgets/controls",
      "model_module_version": "1.5.0",
      "model_name": "FloatProgressModel",
      "state": {
       "_model_module_version": "1.5.0",
       "_view_module_version": "1.5.0",
       "bar_style": "success",
       "description": "Training: 100%",
       "layout": "IPY_MODEL_c472f70c2a9241898a65aee9dae1c994",
       "max": 1,
       "style": "IPY_MODEL_ccb9810a894f4f6a8f150deedbd80387",
       "value": 1
      }
     },
     "364f09ee6b0845ae92acb73b0032d480": {
      "model_module": "@jupyter-widgets/controls",
      "model_module_version": "1.5.0",
      "model_name": "DescriptionStyleModel",
      "state": {
       "_model_module_version": "1.5.0",
       "_view_module_version": "1.2.0",
       "description_width": ""
      }
     },
     "365d510188c04c5caa789d32036bd156": {
      "model_module": "@jupyter-widgets/controls",
      "model_module_version": "1.5.0",
      "model_name": "DescriptionStyleModel",
      "state": {
       "_model_module_version": "1.5.0",
       "_view_module_version": "1.2.0",
       "description_width": ""
      }
     },
     "3722c4cfdc8b4dd09c584bd4d5e6a95b": {
      "model_module": "@jupyter-widgets/controls",
      "model_module_version": "1.5.0",
      "model_name": "HTMLModel",
      "state": {
       "_model_module_version": "1.5.0",
       "_view_module_version": "1.5.0",
       "layout": "IPY_MODEL_7505a7c67b3247c98b86703551ce61b2",
       "style": "IPY_MODEL_8f858ee77061423e9a5ed4bf5b2ba0a8",
       "value": " 1/1 ETA: 00:00s,  688.53s/epochs"
      }
     },
     "376b67006b1040568fedb08def1b4f68": {
      "model_module": "@jupyter-widgets/base",
      "model_module_version": "1.2.0",
      "model_name": "LayoutModel",
      "state": {
       "_model_module_version": "1.2.0",
       "_view_module_version": "1.2.0",
       "justify_items": null,
       "object_fit": null,
       "object_position": null
      }
     },
     "37f24b5a59a24a7595ba5d255164d56d": {
      "model_module": "@jupyter-widgets/base",
      "model_module_version": "1.2.0",
      "model_name": "LayoutModel",
      "state": {
       "_model_module_version": "1.2.0",
       "_view_module_version": "1.2.0",
       "display": "inline-flex",
       "flex_flow": "row wrap",
       "justify_items": null,
       "object_fit": null,
       "object_position": null,
       "width": "100%"
      }
     },
     "3876bd69124f494c90badec63b21be04": {
      "model_module": "@jupyter-widgets/controls",
      "model_module_version": "1.5.0",
      "model_name": "HBoxModel",
      "state": {
       "_model_module_version": "1.5.0",
       "_view_module_version": "1.5.0",
       "children": [
        "IPY_MODEL_a781dffeb51445cfa282332bd2854de6",
        "IPY_MODEL_c27d299007204676ae5cd7cab086792d"
       ],
       "layout": "IPY_MODEL_9e0723e557e349c5b0dc38a5d752222a"
      }
     },
     "388c317a6c8f44ad9ead51e39c0eda41": {
      "model_module": "@jupyter-widgets/controls",
      "model_module_version": "1.5.0",
      "model_name": "DescriptionStyleModel",
      "state": {
       "_model_module_version": "1.5.0",
       "_view_module_version": "1.2.0",
       "description_width": ""
      }
     },
     "38ffdebe31924e82a93f83908e836cf5": {
      "model_module": "@jupyter-widgets/base",
      "model_module_version": "1.2.0",
      "model_name": "LayoutModel",
      "state": {
       "_model_module_version": "1.2.0",
       "_view_module_version": "1.2.0",
       "flex": "2",
       "justify_items": null,
       "object_fit": null,
       "object_position": null
      }
     },
     "391bf175b6db4a4a9e86059de5a79867": {
      "model_module": "@jupyter-widgets/controls",
      "model_module_version": "1.5.0",
      "model_name": "DescriptionStyleModel",
      "state": {
       "_model_module_version": "1.5.0",
       "_view_module_version": "1.2.0",
       "description_width": ""
      }
     },
     "395355c976bb4be381c4e6464a9beeab": {
      "model_module": "@jupyter-widgets/base",
      "model_module_version": "1.2.0",
      "model_name": "LayoutModel",
      "state": {
       "_model_module_version": "1.2.0",
       "_view_module_version": "1.2.0",
       "justify_items": null,
       "object_fit": null,
       "object_position": null
      }
     },
     "39a7d19605c0437f8d3f4edd0f2f3cbc": {
      "model_module": "@jupyter-widgets/base",
      "model_module_version": "1.2.0",
      "model_name": "LayoutModel",
      "state": {
       "_model_module_version": "1.2.0",
       "_view_module_version": "1.2.0",
       "flex": "2",
       "justify_items": null,
       "object_fit": null,
       "object_position": null
      }
     },
     "39aeffa0a97e4fe1a5b98b51a96f956a": {
      "model_module": "@jupyter-widgets/base",
      "model_module_version": "1.2.0",
      "model_name": "LayoutModel",
      "state": {
       "_model_module_version": "1.2.0",
       "_view_module_version": "1.2.0",
       "justify_items": null,
       "object_fit": null,
       "object_position": null
      }
     },
     "3a31212958ad48b181a354665baed0be": {
      "model_module": "@jupyter-widgets/controls",
      "model_module_version": "1.5.0",
      "model_name": "HBoxModel",
      "state": {
       "_model_module_version": "1.5.0",
       "_view_module_version": "1.5.0",
       "children": [
        "IPY_MODEL_4c52a35e7c7e4771bf5392e4564033cb",
        "IPY_MODEL_31cba8cfb57a4e179a1bec3c8a69def2"
       ],
       "layout": "IPY_MODEL_739ce2607a4f451582c45ecba4210850"
      }
     },
     "3a4703fc046442d59e13dc41607c1e90": {
      "model_module": "@jupyter-widgets/controls",
      "model_module_version": "1.5.0",
      "model_name": "HBoxModel",
      "state": {
       "_model_module_version": "1.5.0",
       "_view_module_version": "1.5.0",
       "children": [
        "IPY_MODEL_d0488d4a352d42aca5354f6205a630e5",
        "IPY_MODEL_7232e50d0bd04203be9c2e30c2d4f1cf"
       ],
       "layout": "IPY_MODEL_0084c4fc45c14546bb3c780767d2c87a"
      }
     },
     "3a81e05b157343cab4528fbe13d838ff": {
      "model_module": "@jupyter-widgets/controls",
      "model_module_version": "1.5.0",
      "model_name": "FloatProgressModel",
      "state": {
       "_model_module_version": "1.5.0",
       "_view_module_version": "1.5.0",
       "bar_style": "success",
       "description": "5625/5625",
       "layout": "IPY_MODEL_48a02753c8e548c8bab249d9eaff26be",
       "max": 5625,
       "style": "IPY_MODEL_58f27cb2e21f4ca4950d726005d0a505",
       "value": 5625
      }
     },
     "3ad7c7def12a49898c7b92ad76990a6b": {
      "model_module": "@jupyter-widgets/controls",
      "model_module_version": "1.5.0",
      "model_name": "ProgressStyleModel",
      "state": {
       "_model_module_version": "1.5.0",
       "_view_module_version": "1.2.0",
       "description_width": "initial"
      }
     },
     "3b061d067daf482785a34c21a702f696": {
      "model_module": "@jupyter-widgets/controls",
      "model_module_version": "1.5.0",
      "model_name": "HBoxModel",
      "state": {
       "_model_module_version": "1.5.0",
       "_view_module_version": "1.5.0",
       "children": [
        "IPY_MODEL_058517abbf1349d98584e94fbb67b3cc",
        "IPY_MODEL_63bc0d87e2b24755b6117f6e32671106"
       ],
       "layout": "IPY_MODEL_9af776a7ef2d4fbb9022098116da458c"
      }
     },
     "3bc5c065197640f6b0e908e51998c4ea": {
      "model_module": "@jupyter-widgets/controls",
      "model_module_version": "1.5.0",
      "model_name": "DescriptionStyleModel",
      "state": {
       "_model_module_version": "1.5.0",
       "_view_module_version": "1.2.0",
       "description_width": ""
      }
     },
     "3c5b3ceec8154362ad960a6382b70d4d": {
      "model_module": "@jupyter-widgets/base",
      "model_module_version": "1.2.0",
      "model_name": "LayoutModel",
      "state": {
       "_model_module_version": "1.2.0",
       "_view_module_version": "1.2.0",
       "display": "inline-flex",
       "flex_flow": "row wrap",
       "justify_items": null,
       "object_fit": null,
       "object_position": null,
       "width": "100%"
      }
     },
     "3ca4ce999e584c1db4ffb00e809f5b8f": {
      "model_module": "@jupyter-widgets/base",
      "model_module_version": "1.2.0",
      "model_name": "LayoutModel",
      "state": {
       "_model_module_version": "1.2.0",
       "_view_module_version": "1.2.0",
       "display": "inline-flex",
       "flex_flow": "row wrap",
       "justify_items": null,
       "object_fit": null,
       "object_position": null,
       "width": "100%"
      }
     },
     "3cabadc92755448b8deac362ee003356": {
      "model_module": "@jupyter-widgets/controls",
      "model_module_version": "1.5.0",
      "model_name": "HBoxModel",
      "state": {
       "_model_module_version": "1.5.0",
       "_view_module_version": "1.5.0",
       "children": [
        "IPY_MODEL_4f7e167563ef485189a45b0dd858777e",
        "IPY_MODEL_8d2515ee79424c439490474427792bf6"
       ],
       "layout": "IPY_MODEL_9541ec32fbb744e38a9b12bf3754ea74"
      }
     },
     "3d027620263c4284bc7bce735b6bd2ab": {
      "model_module": "@jupyter-widgets/base",
      "model_module_version": "1.2.0",
      "model_name": "LayoutModel",
      "state": {
       "_model_module_version": "1.2.0",
       "_view_module_version": "1.2.0",
       "display": "inline-flex",
       "flex_flow": "row wrap",
       "justify_items": null,
       "object_fit": null,
       "object_position": null,
       "width": "100%"
      }
     },
     "3d34a6925e894e1680261d5c123a87a0": {
      "model_module": "@jupyter-widgets/base",
      "model_module_version": "1.2.0",
      "model_name": "LayoutModel",
      "state": {
       "_model_module_version": "1.2.0",
       "_view_module_version": "1.2.0",
       "justify_items": null,
       "object_fit": null,
       "object_position": null
      }
     },
     "3d4d9f84b46d414690d3d6990b19ceab": {
      "model_module": "@jupyter-widgets/base",
      "model_module_version": "1.2.0",
      "model_name": "LayoutModel",
      "state": {
       "_model_module_version": "1.2.0",
       "_view_module_version": "1.2.0",
       "display": "inline-flex",
       "flex_flow": "row wrap",
       "justify_items": null,
       "object_fit": null,
       "object_position": null,
       "width": "100%"
      }
     },
     "3ddfb246b168450f8cdf0f8bddc3d266": {
      "model_module": "@jupyter-widgets/controls",
      "model_module_version": "1.5.0",
      "model_name": "HBoxModel",
      "state": {
       "_model_module_version": "1.5.0",
       "_view_module_version": "1.5.0",
       "children": [
        "IPY_MODEL_7400eeb9c3ba4ac3a7ca39630ca6ee36",
        "IPY_MODEL_c235b24f62424f79a85cf8dbbdcfb6e3"
       ],
       "layout": "IPY_MODEL_afd7c5b951a74bf4a98f5461ad614ac0"
      }
     },
     "3e3fd0e3308e4e7b970c56c02a4bb203": {
      "model_module": "@jupyter-widgets/base",
      "model_module_version": "1.2.0",
      "model_name": "LayoutModel",
      "state": {
       "_model_module_version": "1.2.0",
       "_view_module_version": "1.2.0",
       "flex": "2",
       "justify_items": null,
       "object_fit": null,
       "object_position": null
      }
     },
     "3e5e945e25a840f3a62360239b114a78": {
      "model_module": "@jupyter-widgets/controls",
      "model_module_version": "1.5.0",
      "model_name": "HBoxModel",
      "state": {
       "_model_module_version": "1.5.0",
       "_view_module_version": "1.5.0",
       "children": [
        "IPY_MODEL_87f1434df932473eafe100a2c6d0cd51",
        "IPY_MODEL_d2d96233ea8047e4a68fcafd2d039dc8"
       ],
       "layout": "IPY_MODEL_da5448607bb74a2fa1366cfb33e06903"
      }
     },
     "3eaf76ccd431410994bb8452c5d5e74f": {
      "model_module": "@jupyter-widgets/controls",
      "model_module_version": "1.5.0",
      "model_name": "HTMLModel",
      "state": {
       "_model_module_version": "1.5.0",
       "_view_module_version": "1.5.0",
       "layout": "IPY_MODEL_0f47f74b43b44f6391ec55ebc606ca4e",
       "style": "IPY_MODEL_988688f89d5e4fb28955e1152380ba1e",
       "value": " 1/1 ETA: 00:00s,  862.83s/epochs"
      }
     },
     "3fa11604fe1243ccad33f4133ed7e94c": {
      "model_module": "@jupyter-widgets/controls",
      "model_module_version": "1.5.0",
      "model_name": "DescriptionStyleModel",
      "state": {
       "_model_module_version": "1.5.0",
       "_view_module_version": "1.2.0",
       "description_width": ""
      }
     },
     "3fdb1ba33c3049c28c6294bee7c44ef6": {
      "model_module": "@jupyter-widgets/controls",
      "model_module_version": "1.5.0",
      "model_name": "HTMLModel",
      "state": {
       "_model_module_version": "1.5.0",
       "_view_module_version": "1.5.0",
       "layout": "IPY_MODEL_61cd70f79c8f45cca4479f55bc3e083a",
       "style": "IPY_MODEL_7a67f837f5c146558622d8f6cb337e0e",
       "value": " ETA: 00:00s - loss: 3.5020 - mse: 3.5020 - val_loss: 0.1904 - val_mse: 0.1904"
      }
     },
     "3fe998886c144703b48159cd5e77b2d0": {
      "model_module": "@jupyter-widgets/base",
      "model_module_version": "1.2.0",
      "model_name": "LayoutModel",
      "state": {
       "_model_module_version": "1.2.0",
       "_view_module_version": "1.2.0",
       "justify_items": null,
       "object_fit": null,
       "object_position": null
      }
     },
     "3ff8110d984a48119787176312ccfcb6": {
      "model_module": "@jupyter-widgets/base",
      "model_module_version": "1.2.0",
      "model_name": "LayoutModel",
      "state": {
       "_model_module_version": "1.2.0",
       "_view_module_version": "1.2.0",
       "display": "inline-flex",
       "flex_flow": "row wrap",
       "justify_items": null,
       "object_fit": null,
       "object_position": null,
       "width": "100%"
      }
     },
     "4021d0ec98d74fb5881883345f006781": {
      "model_module": "@jupyter-widgets/controls",
      "model_module_version": "1.5.0",
      "model_name": "HTMLModel",
      "state": {
       "_model_module_version": "1.5.0",
       "_view_module_version": "1.5.0",
       "layout": "IPY_MODEL_9b860982901542759a1890a1d42940ae",
       "style": "IPY_MODEL_bade61dd357845dcb14195122c7804e4",
       "value": " ETA: 00:00s - loss: 0.6718 - mse: 0.6718 - val_loss: 0.2323 - val_mse: 0.2322"
      }
     },
     "404c056150f14a5d931170b4916a72de": {
      "model_module": "@jupyter-widgets/controls",
      "model_module_version": "1.5.0",
      "model_name": "HBoxModel",
      "state": {
       "_model_module_version": "1.5.0",
       "_view_module_version": "1.5.0",
       "children": [
        "IPY_MODEL_ba499cb248514e6ea0e32b96395f0e07",
        "IPY_MODEL_52527c3b686842ac9de827e0857f2b85"
       ],
       "layout": "IPY_MODEL_49e0c0a3ed1e4678bcbdeddc3861843f"
      }
     },
     "40dc522fdaff4782ab4e8a0ec959256c": {
      "model_module": "@jupyter-widgets/base",
      "model_module_version": "1.2.0",
      "model_name": "LayoutModel",
      "state": {
       "_model_module_version": "1.2.0",
       "_view_module_version": "1.2.0",
       "justify_items": null,
       "object_fit": null,
       "object_position": null
      }
     },
     "40dc64104f7a4bd9a791239c66db3cca": {
      "model_module": "@jupyter-widgets/base",
      "model_module_version": "1.2.0",
      "model_name": "LayoutModel",
      "state": {
       "_model_module_version": "1.2.0",
       "_view_module_version": "1.2.0",
       "display": "inline-flex",
       "flex_flow": "row wrap",
       "justify_items": null,
       "object_fit": null,
       "object_position": null,
       "width": "100%"
      }
     },
     "410a15f371ca4f2b9dbea65b70cd69d3": {
      "model_module": "@jupyter-widgets/controls",
      "model_module_version": "1.5.0",
      "model_name": "FloatProgressModel",
      "state": {
       "_model_module_version": "1.5.0",
       "_view_module_version": "1.5.0",
       "bar_style": "success",
       "description": "Training: 100%",
       "layout": "IPY_MODEL_f98485f4f13b47a9834aee0aecb301a8",
       "max": 1,
       "style": "IPY_MODEL_dcad18382f334498a1eadb1f95296ad2",
       "value": 1
      }
     },
     "4292dbb72cd844179729425c6c99a485": {
      "model_module": "@jupyter-widgets/base",
      "model_module_version": "1.2.0",
      "model_name": "LayoutModel",
      "state": {
       "_model_module_version": "1.2.0",
       "_view_module_version": "1.2.0",
       "justify_items": null,
       "object_fit": null,
       "object_position": null
      }
     },
     "432c174652ca4d5293378652b75d5048": {
      "model_module": "@jupyter-widgets/base",
      "model_module_version": "1.2.0",
      "model_name": "LayoutModel",
      "state": {
       "_model_module_version": "1.2.0",
       "_view_module_version": "1.2.0",
       "flex": "2",
       "justify_items": null,
       "object_fit": null,
       "object_position": null
      }
     },
     "446a18b409dd4797a6deb6a0dcbf1913": {
      "model_module": "@jupyter-widgets/controls",
      "model_module_version": "1.5.0",
      "model_name": "DescriptionStyleModel",
      "state": {
       "_model_module_version": "1.5.0",
       "_view_module_version": "1.2.0",
       "description_width": ""
      }
     },
     "4548885bffff43829243506c5171b279": {
      "model_module": "@jupyter-widgets/controls",
      "model_module_version": "1.5.0",
      "model_name": "HBoxModel",
      "state": {
       "_model_module_version": "1.5.0",
       "_view_module_version": "1.5.0",
       "children": [
        "IPY_MODEL_0c87e4cb2f214ebd9ea3a0b18adfb0c9",
        "IPY_MODEL_74cb0b633aac4f97a9874245cca454c6"
       ],
       "layout": "IPY_MODEL_598539dad9a24bc5b95e168aac0c13b0"
      }
     },
     "467fe565ed564a11ba54cd1230787220": {
      "model_module": "@jupyter-widgets/base",
      "model_module_version": "1.2.0",
      "model_name": "LayoutModel",
      "state": {
       "_model_module_version": "1.2.0",
       "_view_module_version": "1.2.0",
       "display": "inline-flex",
       "flex_flow": "row wrap",
       "justify_items": null,
       "object_fit": null,
       "object_position": null,
       "width": "100%"
      }
     },
     "468566372acf4ee8b13780512a1c5880": {
      "model_module": "@jupyter-widgets/controls",
      "model_module_version": "1.5.0",
      "model_name": "HTMLModel",
      "state": {
       "_model_module_version": "1.5.0",
       "_view_module_version": "1.5.0",
       "layout": "IPY_MODEL_e2ee7347af8146e2ae6b83f432f86478",
       "style": "IPY_MODEL_50ca1a6aae174737b4d108076ee65861",
       "value": " ETA: 00:00s - loss: 0.0708 - mse: 0.0708 - val_loss: 0.0939 - val_mse: 0.0939"
      }
     },
     "46d1d2d4812b4a1c9ce9af990d179160": {
      "model_module": "@jupyter-widgets/base",
      "model_module_version": "1.2.0",
      "model_name": "LayoutModel",
      "state": {
       "_model_module_version": "1.2.0",
       "_view_module_version": "1.2.0",
       "flex": "2",
       "justify_items": null,
       "object_fit": null,
       "object_position": null
      }
     },
     "474dc5dca923452dbd83fc37607ce19f": {
      "model_module": "@jupyter-widgets/base",
      "model_module_version": "1.2.0",
      "model_name": "LayoutModel",
      "state": {
       "_model_module_version": "1.2.0",
       "_view_module_version": "1.2.0",
       "display": "inline-flex",
       "flex_flow": "row wrap",
       "justify_items": null,
       "object_fit": null,
       "object_position": null,
       "width": "100%"
      }
     },
     "483c5c4d6a8c45cbb7a261c68121d458": {
      "model_module": "@jupyter-widgets/controls",
      "model_module_version": "1.5.0",
      "model_name": "DescriptionStyleModel",
      "state": {
       "_model_module_version": "1.5.0",
       "_view_module_version": "1.2.0",
       "description_width": ""
      }
     },
     "48942e7751b240918bf33ece17f55252": {
      "model_module": "@jupyter-widgets/controls",
      "model_module_version": "1.5.0",
      "model_name": "HBoxModel",
      "state": {
       "_model_module_version": "1.5.0",
       "_view_module_version": "1.5.0",
       "children": [
        "IPY_MODEL_e59edfc05276463dad270ddce59f8544",
        "IPY_MODEL_755caa786fec4119ad368cf24fac44d2"
       ],
       "layout": "IPY_MODEL_cd5cbcf996a04281ae8897e5c06794cf"
      }
     },
     "48a02753c8e548c8bab249d9eaff26be": {
      "model_module": "@jupyter-widgets/base",
      "model_module_version": "1.2.0",
      "model_name": "LayoutModel",
      "state": {
       "_model_module_version": "1.2.0",
       "_view_module_version": "1.2.0",
       "flex": "2",
       "justify_items": null,
       "object_fit": null,
       "object_position": null
      }
     },
     "4930fac1f12b46bcab9b5e202386e7df": {
      "model_module": "@jupyter-widgets/controls",
      "model_module_version": "1.5.0",
      "model_name": "HBoxModel",
      "state": {
       "_model_module_version": "1.5.0",
       "_view_module_version": "1.5.0",
       "children": [
        "IPY_MODEL_895c78e7c3714795b3f552ae65df895c",
        "IPY_MODEL_d48cf9d443e74786965333681d8d78d6"
       ],
       "layout": "IPY_MODEL_3c5b3ceec8154362ad960a6382b70d4d"
      }
     },
     "497a945c66fa41f8812efad0df9c306f": {
      "model_module": "@jupyter-widgets/base",
      "model_module_version": "1.2.0",
      "model_name": "LayoutModel",
      "state": {
       "_model_module_version": "1.2.0",
       "_view_module_version": "1.2.0",
       "display": "inline-flex",
       "flex_flow": "row wrap",
       "justify_items": null,
       "object_fit": null,
       "object_position": null,
       "width": "100%"
      }
     },
     "49d9c9e8f86a4a029a207834292de750": {
      "model_module": "@jupyter-widgets/controls",
      "model_module_version": "1.5.0",
      "model_name": "ProgressStyleModel",
      "state": {
       "_model_module_version": "1.5.0",
       "_view_module_version": "1.2.0",
       "description_width": "initial"
      }
     },
     "49e0c0a3ed1e4678bcbdeddc3861843f": {
      "model_module": "@jupyter-widgets/base",
      "model_module_version": "1.2.0",
      "model_name": "LayoutModel",
      "state": {
       "_model_module_version": "1.2.0",
       "_view_module_version": "1.2.0",
       "display": "inline-flex",
       "flex_flow": "row wrap",
       "justify_items": null,
       "object_fit": null,
       "object_position": null,
       "width": "100%"
      }
     },
     "4a726cf9cef644069655c503ab2dd052": {
      "model_module": "@jupyter-widgets/controls",
      "model_module_version": "1.5.0",
      "model_name": "HBoxModel",
      "state": {
       "_model_module_version": "1.5.0",
       "_view_module_version": "1.5.0",
       "children": [
        "IPY_MODEL_c550fb4dacb140ff8d1523c71287a630",
        "IPY_MODEL_218efbac7b6b4aed8f38c3ba29a9e6f9"
       ],
       "layout": "IPY_MODEL_f1d8d1ce78f24a108d15f89a4897276f"
      }
     },
     "4b23847630e341a384e1ed0a06482591": {
      "model_module": "@jupyter-widgets/base",
      "model_module_version": "1.2.0",
      "model_name": "LayoutModel",
      "state": {
       "_model_module_version": "1.2.0",
       "_view_module_version": "1.2.0",
       "display": "inline-flex",
       "flex_flow": "row wrap",
       "justify_items": null,
       "object_fit": null,
       "object_position": null,
       "width": "100%"
      }
     },
     "4b59685e05d84fb3aec3555192affb0a": {
      "model_module": "@jupyter-widgets/controls",
      "model_module_version": "1.5.0",
      "model_name": "FloatProgressModel",
      "state": {
       "_model_module_version": "1.5.0",
       "_view_module_version": "1.5.0",
       "bar_style": "success",
       "description": "Training: 100%",
       "layout": "IPY_MODEL_a1d7254e8ed743428a48fc9d921d85bf",
       "max": 1,
       "style": "IPY_MODEL_897573505d614c8fb952c82f1e3f9d01",
       "value": 1
      }
     },
     "4b649da35a554231acf4952a788a0827": {
      "model_module": "@jupyter-widgets/controls",
      "model_module_version": "1.5.0",
      "model_name": "ProgressStyleModel",
      "state": {
       "_model_module_version": "1.5.0",
       "_view_module_version": "1.2.0",
       "description_width": "initial"
      }
     },
     "4b899ff03eba4a22859adf99eeffe205": {
      "model_module": "@jupyter-widgets/base",
      "model_module_version": "1.2.0",
      "model_name": "LayoutModel",
      "state": {
       "_model_module_version": "1.2.0",
       "_view_module_version": "1.2.0",
       "flex": "2",
       "justify_items": null,
       "object_fit": null,
       "object_position": null
      }
     },
     "4c52a35e7c7e4771bf5392e4564033cb": {
      "model_module": "@jupyter-widgets/controls",
      "model_module_version": "1.5.0",
      "model_name": "FloatProgressModel",
      "state": {
       "_model_module_version": "1.5.0",
       "_view_module_version": "1.5.0",
       "bar_style": "success",
       "description": "2813/2813",
       "layout": "IPY_MODEL_744675a10b7f45b48becc3f15574066f",
       "max": 2813,
       "style": "IPY_MODEL_e00db5ed75a3417a844e994eaedc423e",
       "value": 2813
      }
     },
     "4c8e0a23755f455cad9259e2910f3090": {
      "model_module": "@jupyter-widgets/base",
      "model_module_version": "1.2.0",
      "model_name": "LayoutModel",
      "state": {
       "_model_module_version": "1.2.0",
       "_view_module_version": "1.2.0",
       "display": "inline-flex",
       "flex_flow": "row wrap",
       "justify_items": null,
       "object_fit": null,
       "object_position": null,
       "width": "100%"
      }
     },
     "4f239bd0eacb4ee6ab463aaee5b0f127": {
      "model_module": "@jupyter-widgets/controls",
      "model_module_version": "1.5.0",
      "model_name": "FloatProgressModel",
      "state": {
       "_model_module_version": "1.5.0",
       "_view_module_version": "1.5.0",
       "bar_style": "success",
       "description": "Training: 100%",
       "layout": "IPY_MODEL_2190a1e4fd8642418600a8a4fc3c7c10",
       "max": 1,
       "style": "IPY_MODEL_aa537a7b8dc14488ae7bdf26e785042a",
       "value": 1
      }
     },
     "4f4ecf8b221e45f09a82e37b63469cf6": {
      "model_module": "@jupyter-widgets/base",
      "model_module_version": "1.2.0",
      "model_name": "LayoutModel",
      "state": {
       "_model_module_version": "1.2.0",
       "_view_module_version": "1.2.0",
       "display": "inline-flex",
       "flex_flow": "row wrap",
       "justify_items": null,
       "object_fit": null,
       "object_position": null,
       "width": "100%"
      }
     },
     "4f505addbc404143ae0a7f84b5dcc7a8": {
      "model_module": "@jupyter-widgets/base",
      "model_module_version": "1.2.0",
      "model_name": "LayoutModel",
      "state": {
       "_model_module_version": "1.2.0",
       "_view_module_version": "1.2.0",
       "flex": "2",
       "justify_items": null,
       "object_fit": null,
       "object_position": null
      }
     },
     "4f666ade7d784fd3975d644afb916696": {
      "model_module": "@jupyter-widgets/base",
      "model_module_version": "1.2.0",
      "model_name": "LayoutModel",
      "state": {
       "_model_module_version": "1.2.0",
       "_view_module_version": "1.2.0",
       "display": "inline-flex",
       "flex_flow": "row wrap",
       "justify_items": null,
       "object_fit": null,
       "object_position": null,
       "width": "100%"
      }
     },
     "4f7e167563ef485189a45b0dd858777e": {
      "model_module": "@jupyter-widgets/controls",
      "model_module_version": "1.5.0",
      "model_name": "FloatProgressModel",
      "state": {
       "_model_module_version": "1.5.0",
       "_view_module_version": "1.5.0",
       "bar_style": "success",
       "description": "Training: 100%",
       "layout": "IPY_MODEL_9d091f59fb0d40f399fa6b8939a4a4a9",
       "max": 1,
       "style": "IPY_MODEL_d0ba52343c0446e7b53ba96b6a778ab5",
       "value": 1
      }
     },
     "4fd4ccf29ff148cd9bb869a1d278a806": {
      "model_module": "@jupyter-widgets/base",
      "model_module_version": "1.2.0",
      "model_name": "LayoutModel",
      "state": {
       "_model_module_version": "1.2.0",
       "_view_module_version": "1.2.0",
       "flex": "2",
       "justify_items": null,
       "object_fit": null,
       "object_position": null
      }
     },
     "4ff1dc45e4cd4e7e9865cc0f01559926": {
      "model_module": "@jupyter-widgets/controls",
      "model_module_version": "1.5.0",
      "model_name": "DescriptionStyleModel",
      "state": {
       "_model_module_version": "1.5.0",
       "_view_module_version": "1.2.0",
       "description_width": ""
      }
     },
     "50ca1a6aae174737b4d108076ee65861": {
      "model_module": "@jupyter-widgets/controls",
      "model_module_version": "1.5.0",
      "model_name": "DescriptionStyleModel",
      "state": {
       "_model_module_version": "1.5.0",
       "_view_module_version": "1.2.0",
       "description_width": ""
      }
     },
     "50f555cc35d44a95ae025afb46c5700d": {
      "model_module": "@jupyter-widgets/base",
      "model_module_version": "1.2.0",
      "model_name": "LayoutModel",
      "state": {
       "_model_module_version": "1.2.0",
       "_view_module_version": "1.2.0",
       "justify_items": null,
       "object_fit": null,
       "object_position": null
      }
     },
     "522a7cd4298d434f81269ef866dd28d7": {
      "model_module": "@jupyter-widgets/base",
      "model_module_version": "1.2.0",
      "model_name": "LayoutModel",
      "state": {
       "_model_module_version": "1.2.0",
       "_view_module_version": "1.2.0",
       "flex": "2",
       "justify_items": null,
       "object_fit": null,
       "object_position": null
      }
     },
     "52527c3b686842ac9de827e0857f2b85": {
      "model_module": "@jupyter-widgets/controls",
      "model_module_version": "1.5.0",
      "model_name": "HTMLModel",
      "state": {
       "_model_module_version": "1.5.0",
       "_view_module_version": "1.5.0",
       "layout": "IPY_MODEL_8f6a7799fb7c4aa291b5c04c09cf9149",
       "style": "IPY_MODEL_ea5b20bed8a846a7bfb4bf11568ecfd7",
       "value": " 1/1 ETA: 00:00s,  584.71s/epochs"
      }
     },
     "52a604f9794941959d52f1104f64e43e": {
      "model_module": "@jupyter-widgets/controls",
      "model_module_version": "1.5.0",
      "model_name": "FloatProgressModel",
      "state": {
       "_model_module_version": "1.5.0",
       "_view_module_version": "1.5.0",
       "bar_style": "success",
       "description": "2813/2813",
       "layout": "IPY_MODEL_8f20bab63b8345809ee9caf2bf6c38b5",
       "max": 2813,
       "style": "IPY_MODEL_6ae26cecf84c424785e76b57f9e1e221",
       "value": 2813
      }
     },
     "52e7bcd905e54aa9bd1f4cffb6f88fc8": {
      "model_module": "@jupyter-widgets/base",
      "model_module_version": "1.2.0",
      "model_name": "LayoutModel",
      "state": {
       "_model_module_version": "1.2.0",
       "_view_module_version": "1.2.0",
       "justify_items": null,
       "object_fit": null,
       "object_position": null
      }
     },
     "52fbf32794ed41e9a76f9e84a73c6fd1": {
      "model_module": "@jupyter-widgets/base",
      "model_module_version": "1.2.0",
      "model_name": "LayoutModel",
      "state": {
       "_model_module_version": "1.2.0",
       "_view_module_version": "1.2.0",
       "display": "inline-flex",
       "flex_flow": "row wrap",
       "justify_items": null,
       "object_fit": null,
       "object_position": null,
       "width": "100%"
      }
     },
     "53716974ab7e40639ff5652b786f2c7a": {
      "model_module": "@jupyter-widgets/controls",
      "model_module_version": "1.5.0",
      "model_name": "DescriptionStyleModel",
      "state": {
       "_model_module_version": "1.5.0",
       "_view_module_version": "1.2.0",
       "description_width": ""
      }
     },
     "537559392ab5467aa8de17c3688343ae": {
      "model_module": "@jupyter-widgets/controls",
      "model_module_version": "1.5.0",
      "model_name": "FloatProgressModel",
      "state": {
       "_model_module_version": "1.5.0",
       "_view_module_version": "1.5.0",
       "bar_style": "success",
       "description": "2813/2813",
       "layout": "IPY_MODEL_f90f541246844fed87e324e722245dbf",
       "max": 2813,
       "style": "IPY_MODEL_3505b6a96aeb42218fcddf899ee96f19",
       "value": 2813
      }
     },
     "53d831dd167c480b82f8a516a6659d8a": {
      "model_module": "@jupyter-widgets/controls",
      "model_module_version": "1.5.0",
      "model_name": "DescriptionStyleModel",
      "state": {
       "_model_module_version": "1.5.0",
       "_view_module_version": "1.2.0",
       "description_width": ""
      }
     },
     "54157ab3187540de8cf17ecf0fea4833": {
      "model_module": "@jupyter-widgets/base",
      "model_module_version": "1.2.0",
      "model_name": "LayoutModel",
      "state": {
       "_model_module_version": "1.2.0",
       "_view_module_version": "1.2.0",
       "flex": "2",
       "justify_items": null,
       "object_fit": null,
       "object_position": null
      }
     },
     "544e46620c4648dab3ab18096c7c3e6f": {
      "model_module": "@jupyter-widgets/base",
      "model_module_version": "1.2.0",
      "model_name": "LayoutModel",
      "state": {
       "_model_module_version": "1.2.0",
       "_view_module_version": "1.2.0",
       "flex": "2",
       "justify_items": null,
       "object_fit": null,
       "object_position": null
      }
     },
     "544ebbe7a83648439e019ad656d0b245": {
      "model_module": "@jupyter-widgets/controls",
      "model_module_version": "1.5.0",
      "model_name": "ProgressStyleModel",
      "state": {
       "_model_module_version": "1.5.0",
       "_view_module_version": "1.2.0",
       "description_width": "initial"
      }
     },
     "549c182f5f254f1fb9b04a654f9a6a80": {
      "model_module": "@jupyter-widgets/controls",
      "model_module_version": "1.5.0",
      "model_name": "ProgressStyleModel",
      "state": {
       "_model_module_version": "1.5.0",
       "_view_module_version": "1.2.0",
       "description_width": "initial"
      }
     },
     "55236c7853694af3ba854ab94c2fc310": {
      "model_module": "@jupyter-widgets/controls",
      "model_module_version": "1.5.0",
      "model_name": "FloatProgressModel",
      "state": {
       "_model_module_version": "1.5.0",
       "_view_module_version": "1.5.0",
       "bar_style": "success",
       "description": "Training: 100%",
       "layout": "IPY_MODEL_687edb32e32b4b1bb2c006dd7552c401",
       "max": 1,
       "style": "IPY_MODEL_2a8193c1e7134e9ab968ed52a46c1783",
       "value": 1
      }
     },
     "56957152069c4fca85581b060a4fcd81": {
      "model_module": "@jupyter-widgets/controls",
      "model_module_version": "1.5.0",
      "model_name": "DescriptionStyleModel",
      "state": {
       "_model_module_version": "1.5.0",
       "_view_module_version": "1.2.0",
       "description_width": ""
      }
     },
     "56f642e104154a5eaa2150b669d7671b": {
      "model_module": "@jupyter-widgets/controls",
      "model_module_version": "1.5.0",
      "model_name": "HTMLModel",
      "state": {
       "_model_module_version": "1.5.0",
       "_view_module_version": "1.5.0",
       "layout": "IPY_MODEL_8cc8c08057f7441085341ae4030478b9",
       "style": "IPY_MODEL_4ff1dc45e4cd4e7e9865cc0f01559926",
       "value": " 1/1 ETA: 00:00s,  281.58s/epochs"
      }
     },
     "57b3f755dcc6450b8b67373f12e20a5c": {
      "model_module": "@jupyter-widgets/controls",
      "model_module_version": "1.5.0",
      "model_name": "FloatProgressModel",
      "state": {
       "_model_module_version": "1.5.0",
       "_view_module_version": "1.5.0",
       "bar_style": "success",
       "description": "Training: 100%",
       "layout": "IPY_MODEL_39a7d19605c0437f8d3f4edd0f2f3cbc",
       "max": 1,
       "style": "IPY_MODEL_112334c503cf46dfbe34ca201059a9b1",
       "value": 1
      }
     },
     "583a0763753543c1ad83352e5116ef4e": {
      "model_module": "@jupyter-widgets/controls",
      "model_module_version": "1.5.0",
      "model_name": "DescriptionStyleModel",
      "state": {
       "_model_module_version": "1.5.0",
       "_view_module_version": "1.2.0",
       "description_width": ""
      }
     },
     "58d39e8aa96f45b6969acf1a389e2752": {
      "model_module": "@jupyter-widgets/base",
      "model_module_version": "1.2.0",
      "model_name": "LayoutModel",
      "state": {
       "_model_module_version": "1.2.0",
       "_view_module_version": "1.2.0",
       "justify_items": null,
       "object_fit": null,
       "object_position": null
      }
     },
     "58e7db6e997d445383e98f28cf3a3f50": {
      "model_module": "@jupyter-widgets/controls",
      "model_module_version": "1.5.0",
      "model_name": "HBoxModel",
      "state": {
       "_model_module_version": "1.5.0",
       "_view_module_version": "1.5.0",
       "children": [
        "IPY_MODEL_db22c522369547088a33e994ac9d9ee5",
        "IPY_MODEL_67caa055fa2c4910b0476982a8d81918"
       ],
       "layout": "IPY_MODEL_e03b4c76e7a94a6b80d4879652df835c"
      }
     },
     "58f27cb2e21f4ca4950d726005d0a505": {
      "model_module": "@jupyter-widgets/controls",
      "model_module_version": "1.5.0",
      "model_name": "ProgressStyleModel",
      "state": {
       "_model_module_version": "1.5.0",
       "_view_module_version": "1.2.0",
       "description_width": "initial"
      }
     },
     "58faa59153054b2f8c79c5fbff608bee": {
      "model_module": "@jupyter-widgets/controls",
      "model_module_version": "1.5.0",
      "model_name": "FloatProgressModel",
      "state": {
       "_model_module_version": "1.5.0",
       "_view_module_version": "1.5.0",
       "bar_style": "success",
       "description": "Training: 100%",
       "layout": "IPY_MODEL_f56561b2d16f478bbdfb24dac4eeedf3",
       "max": 1,
       "style": "IPY_MODEL_fa52a4fe12ad4ad78424838d15dad45a",
       "value": 1
      }
     },
     "598539dad9a24bc5b95e168aac0c13b0": {
      "model_module": "@jupyter-widgets/base",
      "model_module_version": "1.2.0",
      "model_name": "LayoutModel",
      "state": {
       "_model_module_version": "1.2.0",
       "_view_module_version": "1.2.0",
       "display": "inline-flex",
       "flex_flow": "row wrap",
       "justify_items": null,
       "object_fit": null,
       "object_position": null,
       "width": "100%"
      }
     },
     "5995f8ebbd4f4612ae69b8e5665593d5": {
      "model_module": "@jupyter-widgets/controls",
      "model_module_version": "1.5.0",
      "model_name": "ProgressStyleModel",
      "state": {
       "_model_module_version": "1.5.0",
       "_view_module_version": "1.2.0",
       "description_width": "initial"
      }
     },
     "59fb22a20e26477fb7fe1d003db8ebec": {
      "model_module": "@jupyter-widgets/base",
      "model_module_version": "1.2.0",
      "model_name": "LayoutModel",
      "state": {
       "_model_module_version": "1.2.0",
       "_view_module_version": "1.2.0",
       "display": "inline-flex",
       "flex_flow": "row wrap",
       "justify_items": null,
       "object_fit": null,
       "object_position": null,
       "width": "100%"
      }
     },
     "5b2c90c4565a4c0a83228a2d960b864b": {
      "model_module": "@jupyter-widgets/base",
      "model_module_version": "1.2.0",
      "model_name": "LayoutModel",
      "state": {
       "_model_module_version": "1.2.0",
       "_view_module_version": "1.2.0",
       "display": "inline-flex",
       "flex_flow": "row wrap",
       "justify_items": null,
       "object_fit": null,
       "object_position": null,
       "width": "100%"
      }
     },
     "5cd33b7a0c5247b2bf8717d87e4b445b": {
      "model_module": "@jupyter-widgets/controls",
      "model_module_version": "1.5.0",
      "model_name": "HBoxModel",
      "state": {
       "_model_module_version": "1.5.0",
       "_view_module_version": "1.5.0",
       "children": [
        "IPY_MODEL_ea81d46d59984a7a963a31fa34b7c21d",
        "IPY_MODEL_92120172769346f49222870c6f5f25df"
       ],
       "layout": "IPY_MODEL_c536830724764545b62c204488451d04"
      }
     },
     "5cdb1a48bb7c475b88cbc75ef9cf8dd2": {
      "model_module": "@jupyter-widgets/base",
      "model_module_version": "1.2.0",
      "model_name": "LayoutModel",
      "state": {
       "_model_module_version": "1.2.0",
       "_view_module_version": "1.2.0",
       "display": "inline-flex",
       "flex_flow": "row wrap",
       "justify_items": null,
       "object_fit": null,
       "object_position": null,
       "width": "100%"
      }
     },
     "5d52cc670023468d944f177695e3d3d7": {
      "model_module": "@jupyter-widgets/controls",
      "model_module_version": "1.5.0",
      "model_name": "HBoxModel",
      "state": {
       "_model_module_version": "1.5.0",
       "_view_module_version": "1.5.0",
       "children": [
        "IPY_MODEL_a50c845da012487cab8c1fe1e8cb8a53",
        "IPY_MODEL_c67bca57c5bf43b891f3fe238c2fe398"
       ],
       "layout": "IPY_MODEL_2f9e1a8a5dee4fea87a01910f9dc344e"
      }
     },
     "5d664375f16742e08a2a527672cd4618": {
      "model_module": "@jupyter-widgets/base",
      "model_module_version": "1.2.0",
      "model_name": "LayoutModel",
      "state": {
       "_model_module_version": "1.2.0",
       "_view_module_version": "1.2.0",
       "display": "inline-flex",
       "flex_flow": "row wrap",
       "justify_items": null,
       "object_fit": null,
       "object_position": null,
       "width": "100%"
      }
     },
     "5db62b07333c4c8c8f93fab5d4f1b13b": {
      "model_module": "@jupyter-widgets/base",
      "model_module_version": "1.2.0",
      "model_name": "LayoutModel",
      "state": {
       "_model_module_version": "1.2.0",
       "_view_module_version": "1.2.0",
       "flex": "2",
       "justify_items": null,
       "object_fit": null,
       "object_position": null
      }
     },
     "5e165a17bf94482e98e9bbc87cf5389d": {
      "model_module": "@jupyter-widgets/controls",
      "model_module_version": "1.5.0",
      "model_name": "HBoxModel",
      "state": {
       "_model_module_version": "1.5.0",
       "_view_module_version": "1.5.0",
       "children": [
        "IPY_MODEL_c5022d1e315f4534b65cecb7fe13bcca",
        "IPY_MODEL_b804d0e2f76c41399d76c1bdd8f4f754"
       ],
       "layout": "IPY_MODEL_97e715d9797a4f0b835c42a1b788f351"
      }
     },
     "5eb39ccd4eb24434b4db61f9a34b23bf": {
      "model_module": "@jupyter-widgets/base",
      "model_module_version": "1.2.0",
      "model_name": "LayoutModel",
      "state": {
       "_model_module_version": "1.2.0",
       "_view_module_version": "1.2.0",
       "flex": "2",
       "justify_items": null,
       "object_fit": null,
       "object_position": null
      }
     },
     "5eb945c6963d42b1a2da3a44be560aca": {
      "model_module": "@jupyter-widgets/base",
      "model_module_version": "1.2.0",
      "model_name": "LayoutModel",
      "state": {
       "_model_module_version": "1.2.0",
       "_view_module_version": "1.2.0",
       "justify_items": null,
       "object_fit": null,
       "object_position": null
      }
     },
     "5ed65dfea47c41bba39fd9a7b28ee959": {
      "model_module": "@jupyter-widgets/base",
      "model_module_version": "1.2.0",
      "model_name": "LayoutModel",
      "state": {
       "_model_module_version": "1.2.0",
       "_view_module_version": "1.2.0",
       "justify_items": null,
       "object_fit": null,
       "object_position": null
      }
     },
     "60d208fa2ea04b21aab3dae971126426": {
      "model_module": "@jupyter-widgets/controls",
      "model_module_version": "1.5.0",
      "model_name": "DescriptionStyleModel",
      "state": {
       "_model_module_version": "1.5.0",
       "_view_module_version": "1.2.0",
       "description_width": ""
      }
     },
     "6181d291e6214c8abbe8254875cf3256": {
      "model_module": "@jupyter-widgets/controls",
      "model_module_version": "1.5.0",
      "model_name": "FloatProgressModel",
      "state": {
       "_model_module_version": "1.5.0",
       "_view_module_version": "1.5.0",
       "bar_style": "success",
       "description": "3126/3126",
       "layout": "IPY_MODEL_4b899ff03eba4a22859adf99eeffe205",
       "max": 3126,
       "style": "IPY_MODEL_fae6591ae9e34eb3aae459db99f9862b",
       "value": 3126
      }
     },
     "61c4827085ee4472b884b238b93496d3": {
      "model_module": "@jupyter-widgets/base",
      "model_module_version": "1.2.0",
      "model_name": "LayoutModel",
      "state": {
       "_model_module_version": "1.2.0",
       "_view_module_version": "1.2.0",
       "display": "inline-flex",
       "flex_flow": "row wrap",
       "justify_items": null,
       "object_fit": null,
       "object_position": null,
       "width": "100%"
      }
     },
     "61cd70f79c8f45cca4479f55bc3e083a": {
      "model_module": "@jupyter-widgets/base",
      "model_module_version": "1.2.0",
      "model_name": "LayoutModel",
      "state": {
       "_model_module_version": "1.2.0",
       "_view_module_version": "1.2.0",
       "justify_items": null,
       "object_fit": null,
       "object_position": null
      }
     },
     "6201756aa83946cabd0b25210a292c67": {
      "model_module": "@jupyter-widgets/controls",
      "model_module_version": "1.5.0",
      "model_name": "FloatProgressModel",
      "state": {
       "_model_module_version": "1.5.0",
       "_view_module_version": "1.5.0",
       "bar_style": "success",
       "description": "Training: 100%",
       "layout": "IPY_MODEL_cddf935a9d854f13974365120395213d",
       "max": 1,
       "style": "IPY_MODEL_4b649da35a554231acf4952a788a0827",
       "value": 1
      }
     },
     "626d075a4e5849418709165e0a0d220e": {
      "model_module": "@jupyter-widgets/base",
      "model_module_version": "1.2.0",
      "model_name": "LayoutModel",
      "state": {
       "_model_module_version": "1.2.0",
       "_view_module_version": "1.2.0",
       "justify_items": null,
       "object_fit": null,
       "object_position": null
      }
     },
     "630c8d1f3d374c35bbaae0bc8deb6b2e": {
      "model_module": "@jupyter-widgets/controls",
      "model_module_version": "1.5.0",
      "model_name": "HTMLModel",
      "state": {
       "_model_module_version": "1.5.0",
       "_view_module_version": "1.5.0",
       "layout": "IPY_MODEL_c389b1a137c84fdaacc39b8cfb3b9bf8",
       "style": "IPY_MODEL_483c5c4d6a8c45cbb7a261c68121d458",
       "value": " 1/1 ETA: 00:00s,  5525.21s/epochs"
      }
     },
     "630e13a300414d3596700a7cade8612b": {
      "model_module": "@jupyter-widgets/controls",
      "model_module_version": "1.5.0",
      "model_name": "FloatProgressModel",
      "state": {
       "_model_module_version": "1.5.0",
       "_view_module_version": "1.5.0",
       "bar_style": "success",
       "description": "2813/2813",
       "layout": "IPY_MODEL_b165bece13c044c39a543a9df2ff5e6d",
       "max": 2813,
       "style": "IPY_MODEL_01e807f412bb4cff8bbeec55a3c3ba6c",
       "value": 2813
      }
     },
     "6334b2ee2fc24c138a3895361fee3116": {
      "model_module": "@jupyter-widgets/controls",
      "model_module_version": "1.5.0",
      "model_name": "HTMLModel",
      "state": {
       "_model_module_version": "1.5.0",
       "_view_module_version": "1.5.0",
       "layout": "IPY_MODEL_972a4564f62d45b2ac364b9b3c253cad",
       "style": "IPY_MODEL_8491f76c9733481bb26d5184800533df",
       "value": " 1/1 ETA: 00:00s,  955.39s/epochs"
      }
     },
     "6355e8c6b54445e49d549cb24f58e17c": {
      "model_module": "@jupyter-widgets/controls",
      "model_module_version": "1.5.0",
      "model_name": "ProgressStyleModel",
      "state": {
       "_model_module_version": "1.5.0",
       "_view_module_version": "1.2.0",
       "description_width": "initial"
      }
     },
     "63bc0d87e2b24755b6117f6e32671106": {
      "model_module": "@jupyter-widgets/controls",
      "model_module_version": "1.5.0",
      "model_name": "HTMLModel",
      "state": {
       "_model_module_version": "1.5.0",
       "_view_module_version": "1.5.0",
       "layout": "IPY_MODEL_d8671571a7da4b0ba4148fd59c157d70",
       "style": "IPY_MODEL_1ecfae83ac0041eabd330fcff1dd680a",
       "value": " ETA: 00:00s - loss: 1.4633 - mse: 1.4654"
      }
     },
     "643ff2a8bdb24c92b92db21b653dca48": {
      "model_module": "@jupyter-widgets/controls",
      "model_module_version": "1.5.0",
      "model_name": "HBoxModel",
      "state": {
       "_model_module_version": "1.5.0",
       "_view_module_version": "1.5.0",
       "children": [
        "IPY_MODEL_22ab651565b34401b4ccefc8bcc1f67a",
        "IPY_MODEL_4021d0ec98d74fb5881883345f006781"
       ],
       "layout": "IPY_MODEL_24ea060943d34792925aa1f29807a6fa"
      }
     },
     "6472b56c1828491b98d2e9daaf2f395f": {
      "model_module": "@jupyter-widgets/controls",
      "model_module_version": "1.5.0",
      "model_name": "DescriptionStyleModel",
      "state": {
       "_model_module_version": "1.5.0",
       "_view_module_version": "1.2.0",
       "description_width": ""
      }
     },
     "6481340159cf4984a591e27800109374": {
      "model_module": "@jupyter-widgets/controls",
      "model_module_version": "1.5.0",
      "model_name": "HTMLModel",
      "state": {
       "_model_module_version": "1.5.0",
       "_view_module_version": "1.5.0",
       "layout": "IPY_MODEL_9cb3ec7cc6e6474db8b3d9c62f2e69f9",
       "style": "IPY_MODEL_ab62aa3062cd41bd95cde65b284ae266",
       "value": " 1/1 ETA: 00:00s,  866.96s/epochs"
      }
     },
     "652529aa5cc74669a4b5d5e11050727a": {
      "model_module": "@jupyter-widgets/base",
      "model_module_version": "1.2.0",
      "model_name": "LayoutModel",
      "state": {
       "_model_module_version": "1.2.0",
       "_view_module_version": "1.2.0",
       "flex": "2",
       "justify_items": null,
       "object_fit": null,
       "object_position": null
      }
     },
     "6538a2c77f774822beddf544948bc4f0": {
      "model_module": "@jupyter-widgets/controls",
      "model_module_version": "1.5.0",
      "model_name": "ProgressStyleModel",
      "state": {
       "_model_module_version": "1.5.0",
       "_view_module_version": "1.2.0",
       "description_width": "initial"
      }
     },
     "657e5d327b314aa392326a85a8022a26": {
      "model_module": "@jupyter-widgets/base",
      "model_module_version": "1.2.0",
      "model_name": "LayoutModel",
      "state": {
       "_model_module_version": "1.2.0",
       "_view_module_version": "1.2.0",
       "flex": "2",
       "justify_items": null,
       "object_fit": null,
       "object_position": null
      }
     },
     "6615fe6e2ccb409389199b9b3b1e18d3": {
      "model_module": "@jupyter-widgets/controls",
      "model_module_version": "1.5.0",
      "model_name": "DescriptionStyleModel",
      "state": {
       "_model_module_version": "1.5.0",
       "_view_module_version": "1.2.0",
       "description_width": ""
      }
     },
     "67b2ffc43e3745618438b5ad01ce43b4": {
      "model_module": "@jupyter-widgets/controls",
      "model_module_version": "1.5.0",
      "model_name": "FloatProgressModel",
      "state": {
       "_model_module_version": "1.5.0",
       "_view_module_version": "1.5.0",
       "bar_style": "success",
       "description": "2813/2813",
       "layout": "IPY_MODEL_0eed768c54484887ab78b554636c760e",
       "max": 2813,
       "style": "IPY_MODEL_85be9419863449b6846bda7c8ff7cb60",
       "value": 2813
      }
     },
     "67caa055fa2c4910b0476982a8d81918": {
      "model_module": "@jupyter-widgets/controls",
      "model_module_version": "1.5.0",
      "model_name": "HTMLModel",
      "state": {
       "_model_module_version": "1.5.0",
       "_view_module_version": "1.5.0",
       "layout": "IPY_MODEL_86fb487a909047b997d886bb17a14c2d",
       "style": "IPY_MODEL_8d64d7218eac41ab8b7e1963205a0396",
       "value": " 1/1 ETA: 00:00s,  621.71s/epochs"
      }
     },
     "687edb32e32b4b1bb2c006dd7552c401": {
      "model_module": "@jupyter-widgets/base",
      "model_module_version": "1.2.0",
      "model_name": "LayoutModel",
      "state": {
       "_model_module_version": "1.2.0",
       "_view_module_version": "1.2.0",
       "flex": "2",
       "justify_items": null,
       "object_fit": null,
       "object_position": null
      }
     },
     "68d0bfd0355e4e909481d9b95b9e9fba": {
      "model_module": "@jupyter-widgets/base",
      "model_module_version": "1.2.0",
      "model_name": "LayoutModel",
      "state": {
       "_model_module_version": "1.2.0",
       "_view_module_version": "1.2.0",
       "justify_items": null,
       "object_fit": null,
       "object_position": null
      }
     },
     "6ae26cecf84c424785e76b57f9e1e221": {
      "model_module": "@jupyter-widgets/controls",
      "model_module_version": "1.5.0",
      "model_name": "ProgressStyleModel",
      "state": {
       "_model_module_version": "1.5.0",
       "_view_module_version": "1.2.0",
       "description_width": "initial"
      }
     },
     "6b02f4303ce94c3ba7e89b9e183e882c": {
      "model_module": "@jupyter-widgets/controls",
      "model_module_version": "1.5.0",
      "model_name": "HBoxModel",
      "state": {
       "_model_module_version": "1.5.0",
       "_view_module_version": "1.5.0",
       "children": [
        "IPY_MODEL_8bcaeb19d8d0442d9713f257bec07032",
        "IPY_MODEL_beeb259284304e53b94e5c20801a0f4a"
       ],
       "layout": "IPY_MODEL_1cab4f1965b64378b6ef347685c95f92"
      }
     },
     "6ee58fbce4cf41bc95ad04f22568bbd3": {
      "model_module": "@jupyter-widgets/controls",
      "model_module_version": "1.5.0",
      "model_name": "FloatProgressModel",
      "state": {
       "_model_module_version": "1.5.0",
       "_view_module_version": "1.5.0",
       "bar_style": "success",
       "description": "Training: 100%",
       "layout": "IPY_MODEL_9acafe30d02740cdb6e1bc99835a0183",
       "max": 1,
       "style": "IPY_MODEL_49d9c9e8f86a4a029a207834292de750",
       "value": 1
      }
     },
     "6f18d6f9aab5438592819dc2b93b4a68": {
      "model_module": "@jupyter-widgets/controls",
      "model_module_version": "1.5.0",
      "model_name": "DescriptionStyleModel",
      "state": {
       "_model_module_version": "1.5.0",
       "_view_module_version": "1.2.0",
       "description_width": ""
      }
     },
     "6f49cc8cfec94b92862c95bb70cd0e76": {
      "model_module": "@jupyter-widgets/controls",
      "model_module_version": "1.5.0",
      "model_name": "FloatProgressModel",
      "state": {
       "_model_module_version": "1.5.0",
       "_view_module_version": "1.5.0",
       "bar_style": "success",
       "description": "2813/2813",
       "layout": "IPY_MODEL_b14a8028225a42f78d23b0b34116724e",
       "max": 2813,
       "style": "IPY_MODEL_7d9f0e53a3844f82b44f0beea9c89d21",
       "value": 2813
      }
     },
     "71315872caf845a7beac8ac89caa40ca": {
      "model_module": "@jupyter-widgets/controls",
      "model_module_version": "1.5.0",
      "model_name": "HBoxModel",
      "state": {
       "_model_module_version": "1.5.0",
       "_view_module_version": "1.5.0",
       "children": [
        "IPY_MODEL_9d8d12ed355744108a70544193134773",
        "IPY_MODEL_8bfeed93c1814b91978e892344886642"
       ],
       "layout": "IPY_MODEL_26082c1ce2ff4ddb8b2a7bd1276a4c43"
      }
     },
     "7232e50d0bd04203be9c2e30c2d4f1cf": {
      "model_module": "@jupyter-widgets/controls",
      "model_module_version": "1.5.0",
      "model_name": "HTMLModel",
      "state": {
       "_model_module_version": "1.5.0",
       "_view_module_version": "1.5.0",
       "layout": "IPY_MODEL_086e7ffb8a504fc191b8ad4342dfda6b",
       "style": "IPY_MODEL_2e5dff39fdb34641ae37c3cf423c64c0",
       "value": " ETA: 00:00s - loss: 2.5187 - mse: 2.5266"
      }
     },
     "72fce1982eb74ff9abb3a34ecff47a04": {
      "model_module": "@jupyter-widgets/base",
      "model_module_version": "1.2.0",
      "model_name": "LayoutModel",
      "state": {
       "_model_module_version": "1.2.0",
       "_view_module_version": "1.2.0",
       "flex": "2",
       "justify_items": null,
       "object_fit": null,
       "object_position": null
      }
     },
     "7322abf07afb41e6842e8990d4d292b5": {
      "model_module": "@jupyter-widgets/controls",
      "model_module_version": "1.5.0",
      "model_name": "DescriptionStyleModel",
      "state": {
       "_model_module_version": "1.5.0",
       "_view_module_version": "1.2.0",
       "description_width": ""
      }
     },
     "739ce2607a4f451582c45ecba4210850": {
      "model_module": "@jupyter-widgets/base",
      "model_module_version": "1.2.0",
      "model_name": "LayoutModel",
      "state": {
       "_model_module_version": "1.2.0",
       "_view_module_version": "1.2.0",
       "display": "inline-flex",
       "flex_flow": "row wrap",
       "justify_items": null,
       "object_fit": null,
       "object_position": null,
       "width": "100%"
      }
     },
     "73eae24c067445338bcd308998b9cd1e": {
      "model_module": "@jupyter-widgets/base",
      "model_module_version": "1.2.0",
      "model_name": "LayoutModel",
      "state": {
       "_model_module_version": "1.2.0",
       "_view_module_version": "1.2.0",
       "display": "inline-flex",
       "flex_flow": "row wrap",
       "justify_items": null,
       "object_fit": null,
       "object_position": null,
       "width": "100%"
      }
     },
     "7400eeb9c3ba4ac3a7ca39630ca6ee36": {
      "model_module": "@jupyter-widgets/controls",
      "model_module_version": "1.5.0",
      "model_name": "FloatProgressModel",
      "state": {
       "_model_module_version": "1.5.0",
       "_view_module_version": "1.5.0",
       "bar_style": "success",
       "description": "2813/2813",
       "layout": "IPY_MODEL_54157ab3187540de8cf17ecf0fea4833",
       "max": 2813,
       "style": "IPY_MODEL_8ba1910fee364b9a9765ecfa620374f7",
       "value": 2813
      }
     },
     "744675a10b7f45b48becc3f15574066f": {
      "model_module": "@jupyter-widgets/base",
      "model_module_version": "1.2.0",
      "model_name": "LayoutModel",
      "state": {
       "_model_module_version": "1.2.0",
       "_view_module_version": "1.2.0",
       "flex": "2",
       "justify_items": null,
       "object_fit": null,
       "object_position": null
      }
     },
     "746e1cb001e94d66938a4042090df8d7": {
      "model_module": "@jupyter-widgets/base",
      "model_module_version": "1.2.0",
      "model_name": "LayoutModel",
      "state": {
       "_model_module_version": "1.2.0",
       "_view_module_version": "1.2.0",
       "flex": "2",
       "justify_items": null,
       "object_fit": null,
       "object_position": null
      }
     },
     "74cb0b633aac4f97a9874245cca454c6": {
      "model_module": "@jupyter-widgets/controls",
      "model_module_version": "1.5.0",
      "model_name": "HTMLModel",
      "state": {
       "_model_module_version": "1.5.0",
       "_view_module_version": "1.5.0",
       "layout": "IPY_MODEL_ae7bf370ea524a8d959ab02781577f28",
       "style": "IPY_MODEL_f9c9366ec90e413583aa8466532e2e46",
       "value": " 1/1 ETA: 00:00s,  208.82s/epochs"
      }
     },
     "74da317966d041b8a66e748927de15af": {
      "model_module": "@jupyter-widgets/controls",
      "model_module_version": "1.5.0",
      "model_name": "HBoxModel",
      "state": {
       "_model_module_version": "1.5.0",
       "_view_module_version": "1.5.0",
       "children": [
        "IPY_MODEL_b76d7dfef0124569a1f96f67474fe909",
        "IPY_MODEL_fbd8a1454e4f405ebf743ddff1d849ab"
       ],
       "layout": "IPY_MODEL_d9c712c6080541089405433c5ece527f"
      }
     },
     "74fedd5610c8472e8bcbad7a952b0c1f": {
      "model_module": "@jupyter-widgets/controls",
      "model_module_version": "1.5.0",
      "model_name": "DescriptionStyleModel",
      "state": {
       "_model_module_version": "1.5.0",
       "_view_module_version": "1.2.0",
       "description_width": ""
      }
     },
     "7505a7c67b3247c98b86703551ce61b2": {
      "model_module": "@jupyter-widgets/base",
      "model_module_version": "1.2.0",
      "model_name": "LayoutModel",
      "state": {
       "_model_module_version": "1.2.0",
       "_view_module_version": "1.2.0",
       "justify_items": null,
       "object_fit": null,
       "object_position": null
      }
     },
     "755caa786fec4119ad368cf24fac44d2": {
      "model_module": "@jupyter-widgets/controls",
      "model_module_version": "1.5.0",
      "model_name": "HTMLModel",
      "state": {
       "_model_module_version": "1.5.0",
       "_view_module_version": "1.5.0",
       "layout": "IPY_MODEL_78677f5efb4b4d3f87fdb0d93d89f9c5",
       "style": "IPY_MODEL_365d510188c04c5caa789d32036bd156",
       "value": " ETA: 00:00s - loss: 0.0770 - mse: 0.0770 - val_loss: 0.0640 - val_mse: 0.0640"
      }
     },
     "75a0e1c356c74d80852bbf316f294dbe": {
      "model_module": "@jupyter-widgets/base",
      "model_module_version": "1.2.0",
      "model_name": "LayoutModel",
      "state": {
       "_model_module_version": "1.2.0",
       "_view_module_version": "1.2.0",
       "flex": "2",
       "justify_items": null,
       "object_fit": null,
       "object_position": null
      }
     },
     "76648574b9484cc3a46e2511296c42fd": {
      "model_module": "@jupyter-widgets/controls",
      "model_module_version": "1.5.0",
      "model_name": "HBoxModel",
      "state": {
       "_model_module_version": "1.5.0",
       "_view_module_version": "1.5.0",
       "children": [
        "IPY_MODEL_6181d291e6214c8abbe8254875cf3256",
        "IPY_MODEL_ea619fea34ea45ab90b2f19b0e59e147"
       ],
       "layout": "IPY_MODEL_b94d678e29a14e5fbe6ebf14ea6a3859"
      }
     },
     "769435ede52f4e7fb010ea450c5c18e1": {
      "model_module": "@jupyter-widgets/base",
      "model_module_version": "1.2.0",
      "model_name": "LayoutModel",
      "state": {
       "_model_module_version": "1.2.0",
       "_view_module_version": "1.2.0",
       "justify_items": null,
       "object_fit": null,
       "object_position": null
      }
     },
     "7729aacd2ce64a2782bccdeeafeb449a": {
      "model_module": "@jupyter-widgets/base",
      "model_module_version": "1.2.0",
      "model_name": "LayoutModel",
      "state": {
       "_model_module_version": "1.2.0",
       "_view_module_version": "1.2.0",
       "justify_items": null,
       "object_fit": null,
       "object_position": null
      }
     },
     "77e5f657986046679ae7bc7eef102279": {
      "model_module": "@jupyter-widgets/controls",
      "model_module_version": "1.5.0",
      "model_name": "DescriptionStyleModel",
      "state": {
       "_model_module_version": "1.5.0",
       "_view_module_version": "1.2.0",
       "description_width": ""
      }
     },
     "78677f5efb4b4d3f87fdb0d93d89f9c5": {
      "model_module": "@jupyter-widgets/base",
      "model_module_version": "1.2.0",
      "model_name": "LayoutModel",
      "state": {
       "_model_module_version": "1.2.0",
       "_view_module_version": "1.2.0",
       "justify_items": null,
       "object_fit": null,
       "object_position": null
      }
     },
     "7a67f837f5c146558622d8f6cb337e0e": {
      "model_module": "@jupyter-widgets/controls",
      "model_module_version": "1.5.0",
      "model_name": "DescriptionStyleModel",
      "state": {
       "_model_module_version": "1.5.0",
       "_view_module_version": "1.2.0",
       "description_width": ""
      }
     },
     "7abcf41f41c64b03b56bd1ed85217dc1": {
      "model_module": "@jupyter-widgets/base",
      "model_module_version": "1.2.0",
      "model_name": "LayoutModel",
      "state": {
       "_model_module_version": "1.2.0",
       "_view_module_version": "1.2.0",
       "display": "inline-flex",
       "flex_flow": "row wrap",
       "justify_items": null,
       "object_fit": null,
       "object_position": null,
       "width": "100%"
      }
     },
     "7baf54dc547c4125940677555873332f": {
      "model_module": "@jupyter-widgets/base",
      "model_module_version": "1.2.0",
      "model_name": "LayoutModel",
      "state": {
       "_model_module_version": "1.2.0",
       "_view_module_version": "1.2.0",
       "justify_items": null,
       "object_fit": null,
       "object_position": null
      }
     },
     "7bd5748ea84b45b29ba5ecb7692055a4": {
      "model_module": "@jupyter-widgets/controls",
      "model_module_version": "1.5.0",
      "model_name": "ProgressStyleModel",
      "state": {
       "_model_module_version": "1.5.0",
       "_view_module_version": "1.2.0",
       "description_width": "initial"
      }
     },
     "7cad7f728398428cae7a148513ce808d": {
      "model_module": "@jupyter-widgets/controls",
      "model_module_version": "1.5.0",
      "model_name": "HBoxModel",
      "state": {
       "_model_module_version": "1.5.0",
       "_view_module_version": "1.5.0",
       "children": [
        "IPY_MODEL_52a604f9794941959d52f1104f64e43e",
        "IPY_MODEL_468566372acf4ee8b13780512a1c5880"
       ],
       "layout": "IPY_MODEL_3ff8110d984a48119787176312ccfcb6"
      }
     },
     "7d9f0e53a3844f82b44f0beea9c89d21": {
      "model_module": "@jupyter-widgets/controls",
      "model_module_version": "1.5.0",
      "model_name": "ProgressStyleModel",
      "state": {
       "_model_module_version": "1.5.0",
       "_view_module_version": "1.2.0",
       "description_width": "initial"
      }
     },
     "7f7eee59474d4df8bbb4a459227d7afa": {
      "model_module": "@jupyter-widgets/base",
      "model_module_version": "1.2.0",
      "model_name": "LayoutModel",
      "state": {
       "_model_module_version": "1.2.0",
       "_view_module_version": "1.2.0",
       "justify_items": null,
       "object_fit": null,
       "object_position": null
      }
     },
     "817f6ded052546b48a86b7e8f4167d1a": {
      "model_module": "@jupyter-widgets/controls",
      "model_module_version": "1.5.0",
      "model_name": "HBoxModel",
      "state": {
       "_model_module_version": "1.5.0",
       "_view_module_version": "1.5.0",
       "children": [
        "IPY_MODEL_55236c7853694af3ba854ab94c2fc310",
        "IPY_MODEL_86f7c19ce2364a40851f0420f5f3b9c1"
       ],
       "layout": "IPY_MODEL_c460eb0b466a4117b9a122c29c334349"
      }
     },
     "828d4f71bb9b48a0bc8220e2fa7ca5b6": {
      "model_module": "@jupyter-widgets/controls",
      "model_module_version": "1.5.0",
      "model_name": "DescriptionStyleModel",
      "state": {
       "_model_module_version": "1.5.0",
       "_view_module_version": "1.2.0",
       "description_width": ""
      }
     },
     "82b9f0b85c914be6855204c7b8f838ae": {
      "model_module": "@jupyter-widgets/base",
      "model_module_version": "1.2.0",
      "model_name": "LayoutModel",
      "state": {
       "_model_module_version": "1.2.0",
       "_view_module_version": "1.2.0",
       "flex": "2",
       "justify_items": null,
       "object_fit": null,
       "object_position": null
      }
     },
     "83fb58bb01294671a0eed67b9fdeab12": {
      "model_module": "@jupyter-widgets/controls",
      "model_module_version": "1.5.0",
      "model_name": "ProgressStyleModel",
      "state": {
       "_model_module_version": "1.5.0",
       "_view_module_version": "1.2.0",
       "description_width": "initial"
      }
     },
     "8401657b84b944ae8f51f3187f807dbc": {
      "model_module": "@jupyter-widgets/controls",
      "model_module_version": "1.5.0",
      "model_name": "HBoxModel",
      "state": {
       "_model_module_version": "1.5.0",
       "_view_module_version": "1.5.0",
       "children": [
        "IPY_MODEL_630e13a300414d3596700a7cade8612b",
        "IPY_MODEL_d497b24d3f6a4259bc954c1a83fdb0a7"
       ],
       "layout": "IPY_MODEL_b97219369e3d40bcbf452e02788b07f0"
      }
     },
     "8491f76c9733481bb26d5184800533df": {
      "model_module": "@jupyter-widgets/controls",
      "model_module_version": "1.5.0",
      "model_name": "DescriptionStyleModel",
      "state": {
       "_model_module_version": "1.5.0",
       "_view_module_version": "1.2.0",
       "description_width": ""
      }
     },
     "84ad08ac328e468e949ae985e55f816b": {
      "model_module": "@jupyter-widgets/base",
      "model_module_version": "1.2.0",
      "model_name": "LayoutModel",
      "state": {
       "_model_module_version": "1.2.0",
       "_view_module_version": "1.2.0",
       "display": "inline-flex",
       "flex_flow": "row wrap",
       "justify_items": null,
       "object_fit": null,
       "object_position": null,
       "width": "100%"
      }
     },
     "84ffb92b5de8435f9d790343801241d5": {
      "model_module": "@jupyter-widgets/base",
      "model_module_version": "1.2.0",
      "model_name": "LayoutModel",
      "state": {
       "_model_module_version": "1.2.0",
       "_view_module_version": "1.2.0",
       "display": "inline-flex",
       "flex_flow": "row wrap",
       "justify_items": null,
       "object_fit": null,
       "object_position": null,
       "width": "100%"
      }
     },
     "8570408cb3de4427a09f84e1417c90c6": {
      "model_module": "@jupyter-widgets/controls",
      "model_module_version": "1.5.0",
      "model_name": "HBoxModel",
      "state": {
       "_model_module_version": "1.5.0",
       "_view_module_version": "1.5.0",
       "children": [
        "IPY_MODEL_1074ac32d61c412ba638efec149922b7",
        "IPY_MODEL_07ca935453194e85a8ba7e4e0dc3c4dc"
       ],
       "layout": "IPY_MODEL_d1197493a4da4f75ade7c82c454031cb"
      }
     },
     "85be9419863449b6846bda7c8ff7cb60": {
      "model_module": "@jupyter-widgets/controls",
      "model_module_version": "1.5.0",
      "model_name": "ProgressStyleModel",
      "state": {
       "_model_module_version": "1.5.0",
       "_view_module_version": "1.2.0",
       "description_width": "initial"
      }
     },
     "86f7c19ce2364a40851f0420f5f3b9c1": {
      "model_module": "@jupyter-widgets/controls",
      "model_module_version": "1.5.0",
      "model_name": "HTMLModel",
      "state": {
       "_model_module_version": "1.5.0",
       "_view_module_version": "1.5.0",
       "layout": "IPY_MODEL_fb5f1b79ea3c4cbca029f7e3c52ce198",
       "style": "IPY_MODEL_3bc5c065197640f6b0e908e51998c4ea",
       "value": " 1/1 ETA: 00:00s,   1.94s/epochs"
      }
     },
     "86fb487a909047b997d886bb17a14c2d": {
      "model_module": "@jupyter-widgets/base",
      "model_module_version": "1.2.0",
      "model_name": "LayoutModel",
      "state": {
       "_model_module_version": "1.2.0",
       "_view_module_version": "1.2.0",
       "justify_items": null,
       "object_fit": null,
       "object_position": null
      }
     },
     "87dbde934cc646d48f119a6237c00e00": {
      "model_module": "@jupyter-widgets/controls",
      "model_module_version": "1.5.0",
      "model_name": "HTMLModel",
      "state": {
       "_model_module_version": "1.5.0",
       "_view_module_version": "1.5.0",
       "layout": "IPY_MODEL_626d075a4e5849418709165e0a0d220e",
       "style": "IPY_MODEL_20076ccf99b34d20919d064cfaa2bf65",
       "value": " ETA: 00:00s - loss: 0.0672 - mse: 0.0672 - val_loss: 0.0487 - val_mse: 0.0487"
      }
     },
     "87f1434df932473eafe100a2c6d0cd51": {
      "model_module": "@jupyter-widgets/controls",
      "model_module_version": "1.5.0",
      "model_name": "FloatProgressModel",
      "state": {
       "_model_module_version": "1.5.0",
       "_view_module_version": "1.5.0",
       "bar_style": "success",
       "description": "2813/2813",
       "layout": "IPY_MODEL_ba72bc3a6c0443bbbd61d5ddf7dc179d",
       "max": 2813,
       "style": "IPY_MODEL_cbdf05f0b57c41b69174733b62dc9e29",
       "value": 2813
      }
     },
     "892917a4ab124e19b6af6550d4ebda56": {
      "model_module": "@jupyter-widgets/base",
      "model_module_version": "1.2.0",
      "model_name": "LayoutModel",
      "state": {
       "_model_module_version": "1.2.0",
       "_view_module_version": "1.2.0",
       "justify_items": null,
       "object_fit": null,
       "object_position": null
      }
     },
     "895c78e7c3714795b3f552ae65df895c": {
      "model_module": "@jupyter-widgets/controls",
      "model_module_version": "1.5.0",
      "model_name": "FloatProgressModel",
      "state": {
       "_model_module_version": "1.5.0",
       "_view_module_version": "1.5.0",
       "bar_style": "success",
       "description": "2813/2813",
       "layout": "IPY_MODEL_e976207e7bea4926b5eb1e9f0fdf9f84",
       "max": 2813,
       "style": "IPY_MODEL_b3aac1f373e245a69df476085e40104b",
       "value": 2813
      }
     },
     "897573505d614c8fb952c82f1e3f9d01": {
      "model_module": "@jupyter-widgets/controls",
      "model_module_version": "1.5.0",
      "model_name": "ProgressStyleModel",
      "state": {
       "_model_module_version": "1.5.0",
       "_view_module_version": "1.2.0",
       "description_width": "initial"
      }
     },
     "898f5a2d56a54c3cbb8eaa5a99d98f78": {
      "model_module": "@jupyter-widgets/base",
      "model_module_version": "1.2.0",
      "model_name": "LayoutModel",
      "state": {
       "_model_module_version": "1.2.0",
       "_view_module_version": "1.2.0",
       "justify_items": null,
       "object_fit": null,
       "object_position": null
      }
     },
     "8a0fa687afcb44658803e130b07e4ef8": {
      "model_module": "@jupyter-widgets/controls",
      "model_module_version": "1.5.0",
      "model_name": "HBoxModel",
      "state": {
       "_model_module_version": "1.5.0",
       "_view_module_version": "1.5.0",
       "children": [
        "IPY_MODEL_410a15f371ca4f2b9dbea65b70cd69d3",
        "IPY_MODEL_079a5f14880f4a2e8d0488982c97f74e"
       ],
       "layout": "IPY_MODEL_c5d9efc017584547b97fff46857ad01d"
      }
     },
     "8a91eeae7cf345c29083d9a144a7dd68": {
      "model_module": "@jupyter-widgets/base",
      "model_module_version": "1.2.0",
      "model_name": "LayoutModel",
      "state": {
       "_model_module_version": "1.2.0",
       "_view_module_version": "1.2.0",
       "justify_items": null,
       "object_fit": null,
       "object_position": null
      }
     },
     "8aba62c5f6c54c61a7c1b4611941fa56": {
      "model_module": "@jupyter-widgets/controls",
      "model_module_version": "1.5.0",
      "model_name": "ProgressStyleModel",
      "state": {
       "_model_module_version": "1.5.0",
       "_view_module_version": "1.2.0",
       "description_width": "initial"
      }
     },
     "8abfd88f38944660acffa791d543c924": {
      "model_module": "@jupyter-widgets/base",
      "model_module_version": "1.2.0",
      "model_name": "LayoutModel",
      "state": {
       "_model_module_version": "1.2.0",
       "_view_module_version": "1.2.0",
       "justify_items": null,
       "object_fit": null,
       "object_position": null
      }
     },
     "8b1a2254154944c1b940693fddf300e7": {
      "model_module": "@jupyter-widgets/controls",
      "model_module_version": "1.5.0",
      "model_name": "HTMLModel",
      "state": {
       "_model_module_version": "1.5.0",
       "_view_module_version": "1.5.0",
       "layout": "IPY_MODEL_9b4823834b8943d18a19e5669e43ebe9",
       "style": "IPY_MODEL_d15d459431eb4702b2049b20c9011789",
       "value": " 1/1 ETA: 00:00s,   8.40s/epochs"
      }
     },
     "8b4e862fbfac498383a35099c4d8f957": {
      "model_module": "@jupyter-widgets/controls",
      "model_module_version": "1.5.0",
      "model_name": "FloatProgressModel",
      "state": {
       "_model_module_version": "1.5.0",
       "_view_module_version": "1.5.0",
       "bar_style": "success",
       "description": "Training: 100%",
       "layout": "IPY_MODEL_0ffb674d980f463ab875c637cd91c813",
       "max": 1,
       "style": "IPY_MODEL_cb34933926f64c90b795480542e51a53",
       "value": 1
      }
     },
     "8ba1910fee364b9a9765ecfa620374f7": {
      "model_module": "@jupyter-widgets/controls",
      "model_module_version": "1.5.0",
      "model_name": "ProgressStyleModel",
      "state": {
       "_model_module_version": "1.5.0",
       "_view_module_version": "1.2.0",
       "description_width": "initial"
      }
     },
     "8bcaeb19d8d0442d9713f257bec07032": {
      "model_module": "@jupyter-widgets/controls",
      "model_module_version": "1.5.0",
      "model_name": "FloatProgressModel",
      "state": {
       "_model_module_version": "1.5.0",
       "_view_module_version": "1.5.0",
       "bar_style": "success",
       "description": "2813/2813",
       "layout": "IPY_MODEL_b62fc0636fd1452e940164249f1b81d8",
       "max": 2813,
       "style": "IPY_MODEL_af5272a0df754b75ad4a92df8d86fd16",
       "value": 2813
      }
     },
     "8bebdc2f3e7b455289572a5691e6814e": {
      "model_module": "@jupyter-widgets/base",
      "model_module_version": "1.2.0",
      "model_name": "LayoutModel",
      "state": {
       "_model_module_version": "1.2.0",
       "_view_module_version": "1.2.0",
       "flex": "2",
       "justify_items": null,
       "object_fit": null,
       "object_position": null
      }
     },
     "8bf44e64a3fc49e5b8c2e80238536a48": {
      "model_module": "@jupyter-widgets/base",
      "model_module_version": "1.2.0",
      "model_name": "LayoutModel",
      "state": {
       "_model_module_version": "1.2.0",
       "_view_module_version": "1.2.0",
       "display": "inline-flex",
       "flex_flow": "row wrap",
       "justify_items": null,
       "object_fit": null,
       "object_position": null,
       "width": "100%"
      }
     },
     "8bfeed93c1814b91978e892344886642": {
      "model_module": "@jupyter-widgets/controls",
      "model_module_version": "1.5.0",
      "model_name": "HTMLModel",
      "state": {
       "_model_module_version": "1.5.0",
       "_view_module_version": "1.5.0",
       "layout": "IPY_MODEL_b02551e6528346608ef035bebc0f4ec5",
       "style": "IPY_MODEL_8c0a1e0b91e845b38799f6844b23c765",
       "value": " 1/1 ETA: 00:00s,  860.72s/epochs"
      }
     },
     "8c0a1e0b91e845b38799f6844b23c765": {
      "model_module": "@jupyter-widgets/controls",
      "model_module_version": "1.5.0",
      "model_name": "DescriptionStyleModel",
      "state": {
       "_model_module_version": "1.5.0",
       "_view_module_version": "1.2.0",
       "description_width": ""
      }
     },
     "8c0e62171ed742838e4f4b0d45739b28": {
      "model_module": "@jupyter-widgets/controls",
      "model_module_version": "1.5.0",
      "model_name": "FloatProgressModel",
      "state": {
       "_model_module_version": "1.5.0",
       "_view_module_version": "1.5.0",
       "bar_style": "success",
       "description": "Training: 100%",
       "layout": "IPY_MODEL_5eb39ccd4eb24434b4db61f9a34b23bf",
       "max": 1,
       "style": "IPY_MODEL_9cec909b21894f2aa615a7b5ad06b59b",
       "value": 1
      }
     },
     "8c781a29af2240ef9b1d8bb59e7f8ede": {
      "model_module": "@jupyter-widgets/controls",
      "model_module_version": "1.5.0",
      "model_name": "DescriptionStyleModel",
      "state": {
       "_model_module_version": "1.5.0",
       "_view_module_version": "1.2.0",
       "description_width": ""
      }
     },
     "8ca08c52c0a441cc8cdb83d1d9ad4783": {
      "model_module": "@jupyter-widgets/controls",
      "model_module_version": "1.5.0",
      "model_name": "DescriptionStyleModel",
      "state": {
       "_model_module_version": "1.5.0",
       "_view_module_version": "1.2.0",
       "description_width": ""
      }
     },
     "8cb38e45984f43e8a5034b424d11f603": {
      "model_module": "@jupyter-widgets/base",
      "model_module_version": "1.2.0",
      "model_name": "LayoutModel",
      "state": {
       "_model_module_version": "1.2.0",
       "_view_module_version": "1.2.0",
       "justify_items": null,
       "object_fit": null,
       "object_position": null
      }
     },
     "8cc8c08057f7441085341ae4030478b9": {
      "model_module": "@jupyter-widgets/base",
      "model_module_version": "1.2.0",
      "model_name": "LayoutModel",
      "state": {
       "_model_module_version": "1.2.0",
       "_view_module_version": "1.2.0",
       "justify_items": null,
       "object_fit": null,
       "object_position": null
      }
     },
     "8d2515ee79424c439490474427792bf6": {
      "model_module": "@jupyter-widgets/controls",
      "model_module_version": "1.5.0",
      "model_name": "HTMLModel",
      "state": {
       "_model_module_version": "1.5.0",
       "_view_module_version": "1.5.0",
       "layout": "IPY_MODEL_50f555cc35d44a95ae025afb46c5700d",
       "style": "IPY_MODEL_60d208fa2ea04b21aab3dae971126426",
       "value": " 1/1 ETA: 00:00s,  204.37s/epochs"
      }
     },
     "8d64d7218eac41ab8b7e1963205a0396": {
      "model_module": "@jupyter-widgets/controls",
      "model_module_version": "1.5.0",
      "model_name": "DescriptionStyleModel",
      "state": {
       "_model_module_version": "1.5.0",
       "_view_module_version": "1.2.0",
       "description_width": ""
      }
     },
     "8e784e5fa2a74b249e11786413a0bda6": {
      "model_module": "@jupyter-widgets/controls",
      "model_module_version": "1.5.0",
      "model_name": "FloatProgressModel",
      "state": {
       "_model_module_version": "1.5.0",
       "_view_module_version": "1.5.0",
       "bar_style": "success",
       "description": "Training: 100%",
       "layout": "IPY_MODEL_ebe47dbeb3964628b6288a23ac686567",
       "max": 1,
       "style": "IPY_MODEL_2e3b5cd4d84446ccae8ac49c64bb91df",
       "value": 1
      }
     },
     "8f20bab63b8345809ee9caf2bf6c38b5": {
      "model_module": "@jupyter-widgets/base",
      "model_module_version": "1.2.0",
      "model_name": "LayoutModel",
      "state": {
       "_model_module_version": "1.2.0",
       "_view_module_version": "1.2.0",
       "flex": "2",
       "justify_items": null,
       "object_fit": null,
       "object_position": null
      }
     },
     "8f4e2008119342eba9df28092a4a60da": {
      "model_module": "@jupyter-widgets/controls",
      "model_module_version": "1.5.0",
      "model_name": "FloatProgressModel",
      "state": {
       "_model_module_version": "1.5.0",
       "_view_module_version": "1.5.0",
       "bar_style": "success",
       "description": "2813/2813",
       "layout": "IPY_MODEL_8fa0093675cf4f61bb04a9a9f0639040",
       "max": 2813,
       "style": "IPY_MODEL_c6727b71060f444bb2905d767be8f220",
       "value": 2813
      }
     },
     "8f6a7799fb7c4aa291b5c04c09cf9149": {
      "model_module": "@jupyter-widgets/base",
      "model_module_version": "1.2.0",
      "model_name": "LayoutModel",
      "state": {
       "_model_module_version": "1.2.0",
       "_view_module_version": "1.2.0",
       "justify_items": null,
       "object_fit": null,
       "object_position": null
      }
     },
     "8f858ee77061423e9a5ed4bf5b2ba0a8": {
      "model_module": "@jupyter-widgets/controls",
      "model_module_version": "1.5.0",
      "model_name": "DescriptionStyleModel",
      "state": {
       "_model_module_version": "1.5.0",
       "_view_module_version": "1.2.0",
       "description_width": ""
      }
     },
     "8f8fe4b84caa498f846b614d73c07cb8": {
      "model_module": "@jupyter-widgets/base",
      "model_module_version": "1.2.0",
      "model_name": "LayoutModel",
      "state": {
       "_model_module_version": "1.2.0",
       "_view_module_version": "1.2.0",
       "justify_items": null,
       "object_fit": null,
       "object_position": null
      }
     },
     "8fa0093675cf4f61bb04a9a9f0639040": {
      "model_module": "@jupyter-widgets/base",
      "model_module_version": "1.2.0",
      "model_name": "LayoutModel",
      "state": {
       "_model_module_version": "1.2.0",
       "_view_module_version": "1.2.0",
       "flex": "2",
       "justify_items": null,
       "object_fit": null,
       "object_position": null
      }
     },
     "90a5d6de9c794e8a82ba3d3b99bf1d2d": {
      "model_module": "@jupyter-widgets/base",
      "model_module_version": "1.2.0",
      "model_name": "LayoutModel",
      "state": {
       "_model_module_version": "1.2.0",
       "_view_module_version": "1.2.0",
       "justify_items": null,
       "object_fit": null,
       "object_position": null
      }
     },
     "90b086e2842e41d4999e37e5164c1b04": {
      "model_module": "@jupyter-widgets/base",
      "model_module_version": "1.2.0",
      "model_name": "LayoutModel",
      "state": {
       "_model_module_version": "1.2.0",
       "_view_module_version": "1.2.0",
       "display": "inline-flex",
       "flex_flow": "row wrap",
       "justify_items": null,
       "object_fit": null,
       "object_position": null,
       "width": "100%"
      }
     },
     "92120172769346f49222870c6f5f25df": {
      "model_module": "@jupyter-widgets/controls",
      "model_module_version": "1.5.0",
      "model_name": "HTMLModel",
      "state": {
       "_model_module_version": "1.5.0",
       "_view_module_version": "1.5.0",
       "layout": "IPY_MODEL_21365bf0bad44cb0bacc8efa2f3b64d9",
       "style": "IPY_MODEL_a061f0a963da4b3a8d07066ac30033ef",
       "value": " ETA: 00:00s - loss: 0.1913 - mse: 0.1913 - val_loss: 0.1187 - val_mse: 0.1187"
      }
     },
     "9223856a8eb94c80a335f47486144200": {
      "model_module": "@jupyter-widgets/controls",
      "model_module_version": "1.5.0",
      "model_name": "DescriptionStyleModel",
      "state": {
       "_model_module_version": "1.5.0",
       "_view_module_version": "1.2.0",
       "description_width": ""
      }
     },
     "927c8eb696124642a0edad6a73405699": {
      "model_module": "@jupyter-widgets/controls",
      "model_module_version": "1.5.0",
      "model_name": "HTMLModel",
      "state": {
       "_model_module_version": "1.5.0",
       "_view_module_version": "1.5.0",
       "layout": "IPY_MODEL_68d0bfd0355e4e909481d9b95b9e9fba",
       "style": "IPY_MODEL_388c317a6c8f44ad9ead51e39c0eda41",
       "value": " 1/1 ETA: 00:00s,  959.74s/epochs"
      }
     },
     "930f89e069854b0e93b407ba89c15754": {
      "model_module": "@jupyter-widgets/base",
      "model_module_version": "1.2.0",
      "model_name": "LayoutModel",
      "state": {
       "_model_module_version": "1.2.0",
       "_view_module_version": "1.2.0",
       "flex": "2",
       "justify_items": null,
       "object_fit": null,
       "object_position": null
      }
     },
     "941e2428eba94fee928902875e5a6cd0": {
      "model_module": "@jupyter-widgets/base",
      "model_module_version": "1.2.0",
      "model_name": "LayoutModel",
      "state": {
       "_model_module_version": "1.2.0",
       "_view_module_version": "1.2.0",
       "justify_items": null,
       "object_fit": null,
       "object_position": null
      }
     },
     "948c49ff53864559adb2c3f74d9ddd6f": {
      "model_module": "@jupyter-widgets/controls",
      "model_module_version": "1.5.0",
      "model_name": "DescriptionStyleModel",
      "state": {
       "_model_module_version": "1.5.0",
       "_view_module_version": "1.2.0",
       "description_width": ""
      }
     },
     "9541ec32fbb744e38a9b12bf3754ea74": {
      "model_module": "@jupyter-widgets/base",
      "model_module_version": "1.2.0",
      "model_name": "LayoutModel",
      "state": {
       "_model_module_version": "1.2.0",
       "_view_module_version": "1.2.0",
       "display": "inline-flex",
       "flex_flow": "row wrap",
       "justify_items": null,
       "object_fit": null,
       "object_position": null,
       "width": "100%"
      }
     },
     "95fc40ffadb54a90a3b868b4efb86fca": {
      "model_module": "@jupyter-widgets/base",
      "model_module_version": "1.2.0",
      "model_name": "LayoutModel",
      "state": {
       "_model_module_version": "1.2.0",
       "_view_module_version": "1.2.0",
       "display": "inline-flex",
       "flex_flow": "row wrap",
       "justify_items": null,
       "object_fit": null,
       "object_position": null,
       "width": "100%"
      }
     },
     "96cc0fa2bf5745e1a3e5e364b1de463f": {
      "model_module": "@jupyter-widgets/controls",
      "model_module_version": "1.5.0",
      "model_name": "FloatProgressModel",
      "state": {
       "_model_module_version": "1.5.0",
       "_view_module_version": "1.5.0",
       "bar_style": "success",
       "description": "2813/2813",
       "layout": "IPY_MODEL_035c9ae4c0d8463db85bd268de07c8dc",
       "max": 2813,
       "style": "IPY_MODEL_1cc1a179aa3b4a50827b723aec0f8602",
       "value": 2813
      }
     },
     "972a4564f62d45b2ac364b9b3c253cad": {
      "model_module": "@jupyter-widgets/base",
      "model_module_version": "1.2.0",
      "model_name": "LayoutModel",
      "state": {
       "_model_module_version": "1.2.0",
       "_view_module_version": "1.2.0",
       "justify_items": null,
       "object_fit": null,
       "object_position": null
      }
     },
     "97638a50e94f44b99353b36f8c336ec0": {
      "model_module": "@jupyter-widgets/controls",
      "model_module_version": "1.5.0",
      "model_name": "DescriptionStyleModel",
      "state": {
       "_model_module_version": "1.5.0",
       "_view_module_version": "1.2.0",
       "description_width": ""
      }
     },
     "97e715d9797a4f0b835c42a1b788f351": {
      "model_module": "@jupyter-widgets/base",
      "model_module_version": "1.2.0",
      "model_name": "LayoutModel",
      "state": {
       "_model_module_version": "1.2.0",
       "_view_module_version": "1.2.0",
       "display": "inline-flex",
       "flex_flow": "row wrap",
       "justify_items": null,
       "object_fit": null,
       "object_position": null,
       "width": "100%"
      }
     },
     "9884d293f5014228a099f1b4d1b315bb": {
      "model_module": "@jupyter-widgets/controls",
      "model_module_version": "1.5.0",
      "model_name": "ProgressStyleModel",
      "state": {
       "_model_module_version": "1.5.0",
       "_view_module_version": "1.2.0",
       "description_width": "initial"
      }
     },
     "988688f89d5e4fb28955e1152380ba1e": {
      "model_module": "@jupyter-widgets/controls",
      "model_module_version": "1.5.0",
      "model_name": "DescriptionStyleModel",
      "state": {
       "_model_module_version": "1.5.0",
       "_view_module_version": "1.2.0",
       "description_width": ""
      }
     },
     "988727c4b19f4f25a3883acb81383d11": {
      "model_module": "@jupyter-widgets/controls",
      "model_module_version": "1.5.0",
      "model_name": "HTMLModel",
      "state": {
       "_model_module_version": "1.5.0",
       "_view_module_version": "1.5.0",
       "layout": "IPY_MODEL_898f5a2d56a54c3cbb8eaa5a99d98f78",
       "style": "IPY_MODEL_cc97e1db61dc44a0a94dbc6007ae4a6c",
       "value": " ETA: 00:00s - loss: 0.0672 - mse: 0.0672 - val_loss: 0.0488 - val_mse: 0.0487"
      }
     },
     "98c35c06a2d446a3bee5dd67c7e83420": {
      "model_module": "@jupyter-widgets/base",
      "model_module_version": "1.2.0",
      "model_name": "LayoutModel",
      "state": {
       "_model_module_version": "1.2.0",
       "_view_module_version": "1.2.0",
       "flex": "2",
       "justify_items": null,
       "object_fit": null,
       "object_position": null
      }
     },
     "992e81eb027540c7901875af34210e1f": {
      "model_module": "@jupyter-widgets/base",
      "model_module_version": "1.2.0",
      "model_name": "LayoutModel",
      "state": {
       "_model_module_version": "1.2.0",
       "_view_module_version": "1.2.0",
       "display": "inline-flex",
       "flex_flow": "row wrap",
       "justify_items": null,
       "object_fit": null,
       "object_position": null,
       "width": "100%"
      }
     },
     "999af867a10d44d1a22aef348276af3b": {
      "model_module": "@jupyter-widgets/controls",
      "model_module_version": "1.5.0",
      "model_name": "HTMLModel",
      "state": {
       "_model_module_version": "1.5.0",
       "_view_module_version": "1.5.0",
       "layout": "IPY_MODEL_e980d55252af44af9c93e9b5cf197a26",
       "style": "IPY_MODEL_446a18b409dd4797a6deb6a0dcbf1913",
       "value": " 1/1 ETA: 00:00s,  2608.42s/epochs"
      }
     },
     "99e899bbcef74e1b9da85a6bc915b2cb": {
      "model_module": "@jupyter-widgets/controls",
      "model_module_version": "1.5.0",
      "model_name": "HBoxModel",
      "state": {
       "_model_module_version": "1.5.0",
       "_view_module_version": "1.5.0",
       "children": [
        "IPY_MODEL_361e2b2aab06478aa3e72c184170de90",
        "IPY_MODEL_d106e25760254a4f93a17a04f2608056"
       ],
       "layout": "IPY_MODEL_497a945c66fa41f8812efad0df9c306f"
      }
     },
     "99fad68c8f0244aba9cf4a0638d1e824": {
      "model_module": "@jupyter-widgets/controls",
      "model_module_version": "1.5.0",
      "model_name": "HBoxModel",
      "state": {
       "_model_module_version": "1.5.0",
       "_view_module_version": "1.5.0",
       "children": [
        "IPY_MODEL_17cd47db438340d8bef2d36ce98dabcd",
        "IPY_MODEL_3eaf76ccd431410994bb8452c5d5e74f"
       ],
       "layout": "IPY_MODEL_bdfc58c0a8bc47a9ae27eb6d7ed63d74"
      }
     },
     "9a1f4fddd1f64b89af40eb516d5d67ab": {
      "model_module": "@jupyter-widgets/controls",
      "model_module_version": "1.5.0",
      "model_name": "HBoxModel",
      "state": {
       "_model_module_version": "1.5.0",
       "_view_module_version": "1.5.0",
       "children": [
        "IPY_MODEL_10f3fabce80543508c81c7817be959fc",
        "IPY_MODEL_e3b96914efa942afbe38f8ef3ec2755d"
       ],
       "layout": "IPY_MODEL_5d664375f16742e08a2a527672cd4618"
      }
     },
     "9a5acdaeda5b4d66898e6ffd63d333f1": {
      "model_module": "@jupyter-widgets/controls",
      "model_module_version": "1.5.0",
      "model_name": "DescriptionStyleModel",
      "state": {
       "_model_module_version": "1.5.0",
       "_view_module_version": "1.2.0",
       "description_width": ""
      }
     },
     "9acafe30d02740cdb6e1bc99835a0183": {
      "model_module": "@jupyter-widgets/base",
      "model_module_version": "1.2.0",
      "model_name": "LayoutModel",
      "state": {
       "_model_module_version": "1.2.0",
       "_view_module_version": "1.2.0",
       "flex": "2",
       "justify_items": null,
       "object_fit": null,
       "object_position": null
      }
     },
     "9af776a7ef2d4fbb9022098116da458c": {
      "model_module": "@jupyter-widgets/base",
      "model_module_version": "1.2.0",
      "model_name": "LayoutModel",
      "state": {
       "_model_module_version": "1.2.0",
       "_view_module_version": "1.2.0",
       "display": "inline-flex",
       "flex_flow": "row wrap",
       "justify_items": null,
       "object_fit": null,
       "object_position": null,
       "width": "100%"
      }
     },
     "9b09d991b7454d0286bb5951f50bc74f": {
      "model_module": "@jupyter-widgets/controls",
      "model_module_version": "1.5.0",
      "model_name": "HBoxModel",
      "state": {
       "_model_module_version": "1.5.0",
       "_view_module_version": "1.5.0",
       "children": [
        "IPY_MODEL_4f239bd0eacb4ee6ab463aaee5b0f127",
        "IPY_MODEL_bf89bcc3b9634f6885b4688eb7a3a652"
       ],
       "layout": "IPY_MODEL_37f24b5a59a24a7595ba5d255164d56d"
      }
     },
     "9b4823834b8943d18a19e5669e43ebe9": {
      "model_module": "@jupyter-widgets/base",
      "model_module_version": "1.2.0",
      "model_name": "LayoutModel",
      "state": {
       "_model_module_version": "1.2.0",
       "_view_module_version": "1.2.0",
       "justify_items": null,
       "object_fit": null,
       "object_position": null
      }
     },
     "9b860982901542759a1890a1d42940ae": {
      "model_module": "@jupyter-widgets/base",
      "model_module_version": "1.2.0",
      "model_name": "LayoutModel",
      "state": {
       "_model_module_version": "1.2.0",
       "_view_module_version": "1.2.0",
       "justify_items": null,
       "object_fit": null,
       "object_position": null
      }
     },
     "9ba655f0c3c643cc88f954c27503cc4e": {
      "model_module": "@jupyter-widgets/controls",
      "model_module_version": "1.5.0",
      "model_name": "DescriptionStyleModel",
      "state": {
       "_model_module_version": "1.5.0",
       "_view_module_version": "1.2.0",
       "description_width": ""
      }
     },
     "9bcff8d50f484347bf5efbd7da721138": {
      "model_module": "@jupyter-widgets/controls",
      "model_module_version": "1.5.0",
      "model_name": "HTMLModel",
      "state": {
       "_model_module_version": "1.5.0",
       "_view_module_version": "1.5.0",
       "layout": "IPY_MODEL_d9b0f22450154d4d8e0482bf6801ae65",
       "style": "IPY_MODEL_e010f7c1964f4d9ea972f0161545537b",
       "value": " 1/1 ETA: 00:00s,  360.88s/epochs"
      }
     },
     "9c33e2dccc1d41b787a49d9a748323da": {
      "model_module": "@jupyter-widgets/base",
      "model_module_version": "1.2.0",
      "model_name": "LayoutModel",
      "state": {
       "_model_module_version": "1.2.0",
       "_view_module_version": "1.2.0",
       "justify_items": null,
       "object_fit": null,
       "object_position": null
      }
     },
     "9c8c433ec017424f854240babbf2dcb4": {
      "model_module": "@jupyter-widgets/base",
      "model_module_version": "1.2.0",
      "model_name": "LayoutModel",
      "state": {
       "_model_module_version": "1.2.0",
       "_view_module_version": "1.2.0",
       "flex": "2",
       "justify_items": null,
       "object_fit": null,
       "object_position": null
      }
     },
     "9cb3ec7cc6e6474db8b3d9c62f2e69f9": {
      "model_module": "@jupyter-widgets/base",
      "model_module_version": "1.2.0",
      "model_name": "LayoutModel",
      "state": {
       "_model_module_version": "1.2.0",
       "_view_module_version": "1.2.0",
       "justify_items": null,
       "object_fit": null,
       "object_position": null
      }
     },
     "9cbd5cae59bc4a3ba07c1765dbc0b8b7": {
      "model_module": "@jupyter-widgets/base",
      "model_module_version": "1.2.0",
      "model_name": "LayoutModel",
      "state": {
       "_model_module_version": "1.2.0",
       "_view_module_version": "1.2.0",
       "justify_items": null,
       "object_fit": null,
       "object_position": null
      }
     },
     "9cec909b21894f2aa615a7b5ad06b59b": {
      "model_module": "@jupyter-widgets/controls",
      "model_module_version": "1.5.0",
      "model_name": "ProgressStyleModel",
      "state": {
       "_model_module_version": "1.5.0",
       "_view_module_version": "1.2.0",
       "description_width": "initial"
      }
     },
     "9cfc4921140d47a18942e9e30cc65d6c": {
      "model_module": "@jupyter-widgets/controls",
      "model_module_version": "1.5.0",
      "model_name": "FloatProgressModel",
      "state": {
       "_model_module_version": "1.5.0",
       "_view_module_version": "1.5.0",
       "bar_style": "success",
       "description": "2813/2813",
       "layout": "IPY_MODEL_d69acf3f95664bac941147845bb9b740",
       "max": 2813,
       "style": "IPY_MODEL_a8a6b3c4228241baac43112e45c900a1",
       "value": 2813
      }
     },
     "9d091f59fb0d40f399fa6b8939a4a4a9": {
      "model_module": "@jupyter-widgets/base",
      "model_module_version": "1.2.0",
      "model_name": "LayoutModel",
      "state": {
       "_model_module_version": "1.2.0",
       "_view_module_version": "1.2.0",
       "flex": "2",
       "justify_items": null,
       "object_fit": null,
       "object_position": null
      }
     },
     "9d8d12ed355744108a70544193134773": {
      "model_module": "@jupyter-widgets/controls",
      "model_module_version": "1.5.0",
      "model_name": "FloatProgressModel",
      "state": {
       "_model_module_version": "1.5.0",
       "_view_module_version": "1.5.0",
       "bar_style": "success",
       "description": "Training: 100%",
       "layout": "IPY_MODEL_930f89e069854b0e93b407ba89c15754",
       "max": 1,
       "style": "IPY_MODEL_e40db3059920462fa3d62216451ed6ff",
       "value": 1
      }
     },
     "9db588a7246c423e9d959a792e4ef658": {
      "model_module": "@jupyter-widgets/controls",
      "model_module_version": "1.5.0",
      "model_name": "HTMLModel",
      "state": {
       "_model_module_version": "1.5.0",
       "_view_module_version": "1.5.0",
       "layout": "IPY_MODEL_7729aacd2ce64a2782bccdeeafeb449a",
       "style": "IPY_MODEL_8ca08c52c0a441cc8cdb83d1d9ad4783",
       "value": " ETA: 00:00s - loss: 0.0688 - mse: 0.0688 - val_loss: 0.0655 - val_mse: 0.0655"
      }
     },
     "9dde3823e73a4935af14a752fb51add3": {
      "model_module": "@jupyter-widgets/base",
      "model_module_version": "1.2.0",
      "model_name": "LayoutModel",
      "state": {
       "_model_module_version": "1.2.0",
       "_view_module_version": "1.2.0",
       "justify_items": null,
       "object_fit": null,
       "object_position": null
      }
     },
     "9e0723e557e349c5b0dc38a5d752222a": {
      "model_module": "@jupyter-widgets/base",
      "model_module_version": "1.2.0",
      "model_name": "LayoutModel",
      "state": {
       "_model_module_version": "1.2.0",
       "_view_module_version": "1.2.0",
       "display": "inline-flex",
       "flex_flow": "row wrap",
       "justify_items": null,
       "object_fit": null,
       "object_position": null,
       "width": "100%"
      }
     },
     "9e0abec6590c499aaa928b396ba39c16": {
      "model_module": "@jupyter-widgets/controls",
      "model_module_version": "1.5.0",
      "model_name": "FloatProgressModel",
      "state": {
       "_model_module_version": "1.5.0",
       "_view_module_version": "1.5.0",
       "bar_style": "success",
       "description": "Training: 100%",
       "layout": "IPY_MODEL_c5dcfe0db2d7431580d37e35a2343044",
       "max": 1,
       "style": "IPY_MODEL_1f523fe244f749a7b1c941449fbf3c14",
       "value": 1
      }
     },
     "9eab915c923b4a1f89aea1fc912ea33e": {
      "model_module": "@jupyter-widgets/controls",
      "model_module_version": "1.5.0",
      "model_name": "HBoxModel",
      "state": {
       "_model_module_version": "1.5.0",
       "_view_module_version": "1.5.0",
       "children": [
        "IPY_MODEL_6201756aa83946cabd0b25210a292c67",
        "IPY_MODEL_d8267e236cc147e1bd2c6ee6a65f4ae1"
       ],
       "layout": "IPY_MODEL_8bf44e64a3fc49e5b8c2e80238536a48"
      }
     },
     "9eb687e077c34b78b6e28fc4d710455c": {
      "model_module": "@jupyter-widgets/controls",
      "model_module_version": "1.5.0",
      "model_name": "HTMLModel",
      "state": {
       "_model_module_version": "1.5.0",
       "_view_module_version": "1.5.0",
       "layout": "IPY_MODEL_8f8fe4b84caa498f846b614d73c07cb8",
       "style": "IPY_MODEL_eb0f8d7da2964b6d880f98d0176d9e82",
       "value": " ETA: 00:00s - "
      }
     },
     "a0252084a2f048c2a25a8a947cf88a57": {
      "model_module": "@jupyter-widgets/base",
      "model_module_version": "1.2.0",
      "model_name": "LayoutModel",
      "state": {
       "_model_module_version": "1.2.0",
       "_view_module_version": "1.2.0",
       "justify_items": null,
       "object_fit": null,
       "object_position": null
      }
     },
     "a0483dddcf8849198ad7c73377eeca12": {
      "model_module": "@jupyter-widgets/controls",
      "model_module_version": "1.5.0",
      "model_name": "HBoxModel",
      "state": {
       "_model_module_version": "1.5.0",
       "_view_module_version": "1.5.0",
       "children": [
        "IPY_MODEL_d1e64859b3594ad4bbe9d1fd9030ce62",
        "IPY_MODEL_0336f629c22a4b889be5dca5571d1404"
       ],
       "layout": "IPY_MODEL_d16be83f14af4ce1a1b80b6478bb6dd7"
      }
     },
     "a061f0a963da4b3a8d07066ac30033ef": {
      "model_module": "@jupyter-widgets/controls",
      "model_module_version": "1.5.0",
      "model_name": "DescriptionStyleModel",
      "state": {
       "_model_module_version": "1.5.0",
       "_view_module_version": "1.2.0",
       "description_width": ""
      }
     },
     "a12443d213c540a6b6a67ccf4567202a": {
      "model_module": "@jupyter-widgets/controls",
      "model_module_version": "1.5.0",
      "model_name": "ProgressStyleModel",
      "state": {
       "_model_module_version": "1.5.0",
       "_view_module_version": "1.2.0",
       "description_width": "initial"
      }
     },
     "a1d7254e8ed743428a48fc9d921d85bf": {
      "model_module": "@jupyter-widgets/base",
      "model_module_version": "1.2.0",
      "model_name": "LayoutModel",
      "state": {
       "_model_module_version": "1.2.0",
       "_view_module_version": "1.2.0",
       "flex": "2",
       "justify_items": null,
       "object_fit": null,
       "object_position": null
      }
     },
     "a23d8a8479344805820546f15a877818": {
      "model_module": "@jupyter-widgets/base",
      "model_module_version": "1.2.0",
      "model_name": "LayoutModel",
      "state": {
       "_model_module_version": "1.2.0",
       "_view_module_version": "1.2.0",
       "flex": "2",
       "justify_items": null,
       "object_fit": null,
       "object_position": null
      }
     },
     "a358ba1650f54cd29b14d342f33b03d6": {
      "model_module": "@jupyter-widgets/controls",
      "model_module_version": "1.5.0",
      "model_name": "HBoxModel",
      "state": {
       "_model_module_version": "1.5.0",
       "_view_module_version": "1.5.0",
       "children": [
        "IPY_MODEL_c150aff3453e4459b9548ef75dafa667",
        "IPY_MODEL_ad4e9cc4c2cb478b86b55f75756aed32"
       ],
       "layout": "IPY_MODEL_52fbf32794ed41e9a76f9e84a73c6fd1"
      }
     },
     "a3d6ab7cdc9a45938245f2b1dcb494a7": {
      "model_module": "@jupyter-widgets/controls",
      "model_module_version": "1.5.0",
      "model_name": "HBoxModel",
      "state": {
       "_model_module_version": "1.5.0",
       "_view_module_version": "1.5.0",
       "children": [
        "IPY_MODEL_eb7408d420f74506b63fb5f5118f471e",
        "IPY_MODEL_0cbddf3d4f7c42b49ff84dd3d1e5a44f"
       ],
       "layout": "IPY_MODEL_22c9678458ac43ff98275cd1d25813d8"
      }
     },
     "a4208eda0d5b42de8742677e9ddf5864": {
      "model_module": "@jupyter-widgets/base",
      "model_module_version": "1.2.0",
      "model_name": "LayoutModel",
      "state": {
       "_model_module_version": "1.2.0",
       "_view_module_version": "1.2.0",
       "justify_items": null,
       "object_fit": null,
       "object_position": null
      }
     },
     "a44de9362f81404cbe6a69c667670109": {
      "model_module": "@jupyter-widgets/controls",
      "model_module_version": "1.5.0",
      "model_name": "HBoxModel",
      "state": {
       "_model_module_version": "1.5.0",
       "_view_module_version": "1.5.0",
       "children": [
        "IPY_MODEL_58faa59153054b2f8c79c5fbff608bee",
        "IPY_MODEL_630c8d1f3d374c35bbaae0bc8deb6b2e"
       ],
       "layout": "IPY_MODEL_137d727d15f74c4f8c50347360e4d78b"
      }
     },
     "a4e5ab334fdc4b839320e460b667c9d6": {
      "model_module": "@jupyter-widgets/controls",
      "model_module_version": "1.5.0",
      "model_name": "HTMLModel",
      "state": {
       "_model_module_version": "1.5.0",
       "_view_module_version": "1.5.0",
       "layout": "IPY_MODEL_892917a4ab124e19b6af6550d4ebda56",
       "style": "IPY_MODEL_c11e9105899a45b69a01930b74d73f56",
       "value": " ETA: 00:00s - loss: 0.0681 - mse: 0.0681 - val_loss: 0.0465 - val_mse: 0.0465"
      }
     },
     "a50c845da012487cab8c1fe1e8cb8a53": {
      "model_module": "@jupyter-widgets/controls",
      "model_module_version": "1.5.0",
      "model_name": "FloatProgressModel",
      "state": {
       "_model_module_version": "1.5.0",
       "_view_module_version": "1.5.0",
       "bar_style": "success",
       "description": "Training: 100%",
       "layout": "IPY_MODEL_38ffdebe31924e82a93f83908e836cf5",
       "max": 1,
       "style": "IPY_MODEL_b137c8f481174312898b6aa683322166",
       "value": 1
      }
     },
     "a624ab2893014c33bd48590a901bbfa2": {
      "model_module": "@jupyter-widgets/controls",
      "model_module_version": "1.5.0",
      "model_name": "HBoxModel",
      "state": {
       "_model_module_version": "1.5.0",
       "_view_module_version": "1.5.0",
       "children": [
        "IPY_MODEL_e846acb368f841fea8b1d58e6bb4bcc6",
        "IPY_MODEL_9bcff8d50f484347bf5efbd7da721138"
       ],
       "layout": "IPY_MODEL_84ad08ac328e468e949ae985e55f816b"
      }
     },
     "a6fe678205ec47c9944b1825b47941be": {
      "model_module": "@jupyter-widgets/controls",
      "model_module_version": "1.5.0",
      "model_name": "ProgressStyleModel",
      "state": {
       "_model_module_version": "1.5.0",
       "_view_module_version": "1.2.0",
       "description_width": "initial"
      }
     },
     "a781dffeb51445cfa282332bd2854de6": {
      "model_module": "@jupyter-widgets/controls",
      "model_module_version": "1.5.0",
      "model_name": "FloatProgressModel",
      "state": {
       "_model_module_version": "1.5.0",
       "_view_module_version": "1.5.0",
       "bar_style": "success",
       "description": "Training: 100%",
       "layout": "IPY_MODEL_2e302df48a254e6abc6f9f811966ccaa",
       "max": 1,
       "style": "IPY_MODEL_2a85782a8c3b4a59b6771b6169aafeb3",
       "value": 1
      }
     },
     "a88df0e17ead4403b83bbeb7efdce6e5": {
      "model_module": "@jupyter-widgets/base",
      "model_module_version": "1.2.0",
      "model_name": "LayoutModel",
      "state": {
       "_model_module_version": "1.2.0",
       "_view_module_version": "1.2.0",
       "display": "inline-flex",
       "flex_flow": "row wrap",
       "justify_items": null,
       "object_fit": null,
       "object_position": null,
       "width": "100%"
      }
     },
     "a8a6b3c4228241baac43112e45c900a1": {
      "model_module": "@jupyter-widgets/controls",
      "model_module_version": "1.5.0",
      "model_name": "ProgressStyleModel",
      "state": {
       "_model_module_version": "1.5.0",
       "_view_module_version": "1.2.0",
       "description_width": "initial"
      }
     },
     "a8b38bd181d24c7c9bef7af3a8d67b7f": {
      "model_module": "@jupyter-widgets/base",
      "model_module_version": "1.2.0",
      "model_name": "LayoutModel",
      "state": {
       "_model_module_version": "1.2.0",
       "_view_module_version": "1.2.0",
       "justify_items": null,
       "object_fit": null,
       "object_position": null
      }
     },
     "a906f10ce3a74befbfff4d7cea63ba91": {
      "model_module": "@jupyter-widgets/base",
      "model_module_version": "1.2.0",
      "model_name": "LayoutModel",
      "state": {
       "_model_module_version": "1.2.0",
       "_view_module_version": "1.2.0",
       "justify_items": null,
       "object_fit": null,
       "object_position": null
      }
     },
     "a96431f545764bb5803e65c0ac7960a5": {
      "model_module": "@jupyter-widgets/base",
      "model_module_version": "1.2.0",
      "model_name": "LayoutModel",
      "state": {
       "_model_module_version": "1.2.0",
       "_view_module_version": "1.2.0",
       "justify_items": null,
       "object_fit": null,
       "object_position": null
      }
     },
     "aa0ca5fff8454669a1865d09f3567a30": {
      "model_module": "@jupyter-widgets/controls",
      "model_module_version": "1.5.0",
      "model_name": "FloatProgressModel",
      "state": {
       "_model_module_version": "1.5.0",
       "_view_module_version": "1.5.0",
       "bar_style": "success",
       "description": "2813/2813",
       "layout": "IPY_MODEL_46d1d2d4812b4a1c9ce9af990d179160",
       "max": 2813,
       "style": "IPY_MODEL_2d948af569ca4696ba67bc7fc3d095c6",
       "value": 2813
      }
     },
     "aa15bdb8b732466da87050a0521e4074": {
      "model_module": "@jupyter-widgets/base",
      "model_module_version": "1.2.0",
      "model_name": "LayoutModel",
      "state": {
       "_model_module_version": "1.2.0",
       "_view_module_version": "1.2.0",
       "justify_items": null,
       "object_fit": null,
       "object_position": null
      }
     },
     "aa537a7b8dc14488ae7bdf26e785042a": {
      "model_module": "@jupyter-widgets/controls",
      "model_module_version": "1.5.0",
      "model_name": "ProgressStyleModel",
      "state": {
       "_model_module_version": "1.5.0",
       "_view_module_version": "1.2.0",
       "description_width": "initial"
      }
     },
     "ab62aa3062cd41bd95cde65b284ae266": {
      "model_module": "@jupyter-widgets/controls",
      "model_module_version": "1.5.0",
      "model_name": "DescriptionStyleModel",
      "state": {
       "_model_module_version": "1.5.0",
       "_view_module_version": "1.2.0",
       "description_width": ""
      }
     },
     "ab8e59f3848e493785a269731c0986d3": {
      "model_module": "@jupyter-widgets/controls",
      "model_module_version": "1.5.0",
      "model_name": "DescriptionStyleModel",
      "state": {
       "_model_module_version": "1.5.0",
       "_view_module_version": "1.2.0",
       "description_width": ""
      }
     },
     "abe69fe71d924ae8a826c6b2f7864bd8": {
      "model_module": "@jupyter-widgets/controls",
      "model_module_version": "1.5.0",
      "model_name": "HBoxModel",
      "state": {
       "_model_module_version": "1.5.0",
       "_view_module_version": "1.5.0",
       "children": [
        "IPY_MODEL_d1e6f5d733784a5d967abfac86284891",
        "IPY_MODEL_927c8eb696124642a0edad6a73405699"
       ],
       "layout": "IPY_MODEL_7abcf41f41c64b03b56bd1ed85217dc1"
      }
     },
     "acd75ab5e6d64768a0d11172d245b846": {
      "model_module": "@jupyter-widgets/controls",
      "model_module_version": "1.5.0",
      "model_name": "ProgressStyleModel",
      "state": {
       "_model_module_version": "1.5.0",
       "_view_module_version": "1.2.0",
       "description_width": "initial"
      }
     },
     "acdd702719214cd9a38bdcf401a56f3c": {
      "model_module": "@jupyter-widgets/base",
      "model_module_version": "1.2.0",
      "model_name": "LayoutModel",
      "state": {
       "_model_module_version": "1.2.0",
       "_view_module_version": "1.2.0",
       "flex": "2",
       "justify_items": null,
       "object_fit": null,
       "object_position": null
      }
     },
     "ad4e9cc4c2cb478b86b55f75756aed32": {
      "model_module": "@jupyter-widgets/controls",
      "model_module_version": "1.5.0",
      "model_name": "HTMLModel",
      "state": {
       "_model_module_version": "1.5.0",
       "_view_module_version": "1.5.0",
       "layout": "IPY_MODEL_9c33e2dccc1d41b787a49d9a748323da",
       "style": "IPY_MODEL_6615fe6e2ccb409389199b9b3b1e18d3",
       "value": " 1/1 ETA: 00:00s,   9.72s/epochs"
      }
     },
     "ae7bf370ea524a8d959ab02781577f28": {
      "model_module": "@jupyter-widgets/base",
      "model_module_version": "1.2.0",
      "model_name": "LayoutModel",
      "state": {
       "_model_module_version": "1.2.0",
       "_view_module_version": "1.2.0",
       "justify_items": null,
       "object_fit": null,
       "object_position": null
      }
     },
     "af3c5a270f384961a325382a5eb394be": {
      "model_module": "@jupyter-widgets/controls",
      "model_module_version": "1.5.0",
      "model_name": "HBoxModel",
      "state": {
       "_model_module_version": "1.5.0",
       "_view_module_version": "1.5.0",
       "children": [
        "IPY_MODEL_f9c7c46c5ad54a5783f3ba83fa211e08",
        "IPY_MODEL_9db588a7246c423e9d959a792e4ef658"
       ],
       "layout": "IPY_MODEL_5b2c90c4565a4c0a83228a2d960b864b"
      }
     },
     "af5272a0df754b75ad4a92df8d86fd16": {
      "model_module": "@jupyter-widgets/controls",
      "model_module_version": "1.5.0",
      "model_name": "ProgressStyleModel",
      "state": {
       "_model_module_version": "1.5.0",
       "_view_module_version": "1.2.0",
       "description_width": "initial"
      }
     },
     "af69b4c99c5e46c7a1dba2558b722026": {
      "model_module": "@jupyter-widgets/controls",
      "model_module_version": "1.5.0",
      "model_name": "HBoxModel",
      "state": {
       "_model_module_version": "1.5.0",
       "_view_module_version": "1.5.0",
       "children": [
        "IPY_MODEL_c1c6ad045c094ec2b356ef4c33ed8241",
        "IPY_MODEL_6334b2ee2fc24c138a3895361fee3116"
       ],
       "layout": "IPY_MODEL_3d4d9f84b46d414690d3d6990b19ceab"
      }
     },
     "afd7c5b951a74bf4a98f5461ad614ac0": {
      "model_module": "@jupyter-widgets/base",
      "model_module_version": "1.2.0",
      "model_name": "LayoutModel",
      "state": {
       "_model_module_version": "1.2.0",
       "_view_module_version": "1.2.0",
       "display": "inline-flex",
       "flex_flow": "row wrap",
       "justify_items": null,
       "object_fit": null,
       "object_position": null,
       "width": "100%"
      }
     },
     "b02551e6528346608ef035bebc0f4ec5": {
      "model_module": "@jupyter-widgets/base",
      "model_module_version": "1.2.0",
      "model_name": "LayoutModel",
      "state": {
       "_model_module_version": "1.2.0",
       "_view_module_version": "1.2.0",
       "justify_items": null,
       "object_fit": null,
       "object_position": null
      }
     },
     "b108e0a22f8e4c009b8d7baceff4d0da": {
      "model_module": "@jupyter-widgets/controls",
      "model_module_version": "1.5.0",
      "model_name": "HTMLModel",
      "state": {
       "_model_module_version": "1.5.0",
       "_view_module_version": "1.5.0",
       "layout": "IPY_MODEL_dad3a2b87c814d52a4c46895298692f8",
       "style": "IPY_MODEL_3fa11604fe1243ccad33f4133ed7e94c",
       "value": " ETA: 00:00s - loss: 0.0670 - mse: 0.0670 - val_loss: 0.0443 - val_mse: 0.0443"
      }
     },
     "b137c8f481174312898b6aa683322166": {
      "model_module": "@jupyter-widgets/controls",
      "model_module_version": "1.5.0",
      "model_name": "ProgressStyleModel",
      "state": {
       "_model_module_version": "1.5.0",
       "_view_module_version": "1.2.0",
       "description_width": "initial"
      }
     },
     "b14a8028225a42f78d23b0b34116724e": {
      "model_module": "@jupyter-widgets/base",
      "model_module_version": "1.2.0",
      "model_name": "LayoutModel",
      "state": {
       "_model_module_version": "1.2.0",
       "_view_module_version": "1.2.0",
       "flex": "2",
       "justify_items": null,
       "object_fit": null,
       "object_position": null
      }
     },
     "b165bece13c044c39a543a9df2ff5e6d": {
      "model_module": "@jupyter-widgets/base",
      "model_module_version": "1.2.0",
      "model_name": "LayoutModel",
      "state": {
       "_model_module_version": "1.2.0",
       "_view_module_version": "1.2.0",
       "flex": "2",
       "justify_items": null,
       "object_fit": null,
       "object_position": null
      }
     },
     "b307121e2e9c45dbb2d3eb19cc3a6ecf": {
      "model_module": "@jupyter-widgets/base",
      "model_module_version": "1.2.0",
      "model_name": "LayoutModel",
      "state": {
       "_model_module_version": "1.2.0",
       "_view_module_version": "1.2.0",
       "flex": "2",
       "justify_items": null,
       "object_fit": null,
       "object_position": null
      }
     },
     "b3aac1f373e245a69df476085e40104b": {
      "model_module": "@jupyter-widgets/controls",
      "model_module_version": "1.5.0",
      "model_name": "ProgressStyleModel",
      "state": {
       "_model_module_version": "1.5.0",
       "_view_module_version": "1.2.0",
       "description_width": "initial"
      }
     },
     "b4311459b70b49b9979772736379a188": {
      "model_module": "@jupyter-widgets/controls",
      "model_module_version": "1.5.0",
      "model_name": "ProgressStyleModel",
      "state": {
       "_model_module_version": "1.5.0",
       "_view_module_version": "1.2.0",
       "description_width": "initial"
      }
     },
     "b44aae36a6b24f09a104dec5b87ef42b": {
      "model_module": "@jupyter-widgets/controls",
      "model_module_version": "1.5.0",
      "model_name": "DescriptionStyleModel",
      "state": {
       "_model_module_version": "1.5.0",
       "_view_module_version": "1.2.0",
       "description_width": ""
      }
     },
     "b5b8b3d545644bfabcf57f8e3a697821": {
      "model_module": "@jupyter-widgets/controls",
      "model_module_version": "1.5.0",
      "model_name": "FloatProgressModel",
      "state": {
       "_model_module_version": "1.5.0",
       "_view_module_version": "1.5.0",
       "bar_style": "success",
       "description": "Training: 100%",
       "layout": "IPY_MODEL_b307121e2e9c45dbb2d3eb19cc3a6ecf",
       "max": 1,
       "style": "IPY_MODEL_3ad7c7def12a49898c7b92ad76990a6b",
       "value": 1
      }
     },
     "b62fc0636fd1452e940164249f1b81d8": {
      "model_module": "@jupyter-widgets/base",
      "model_module_version": "1.2.0",
      "model_name": "LayoutModel",
      "state": {
       "_model_module_version": "1.2.0",
       "_view_module_version": "1.2.0",
       "flex": "2",
       "justify_items": null,
       "object_fit": null,
       "object_position": null
      }
     },
     "b7139d9e4f114fdc845a7b2e4df483f6": {
      "model_module": "@jupyter-widgets/controls",
      "model_module_version": "1.5.0",
      "model_name": "ProgressStyleModel",
      "state": {
       "_model_module_version": "1.5.0",
       "_view_module_version": "1.2.0",
       "description_width": "initial"
      }
     },
     "b74fea0848dd41c2a7e60d1fe0d6e4b3": {
      "model_module": "@jupyter-widgets/base",
      "model_module_version": "1.2.0",
      "model_name": "LayoutModel",
      "state": {
       "_model_module_version": "1.2.0",
       "_view_module_version": "1.2.0",
       "display": "inline-flex",
       "flex_flow": "row wrap",
       "justify_items": null,
       "object_fit": null,
       "object_position": null,
       "width": "100%"
      }
     },
     "b76d7dfef0124569a1f96f67474fe909": {
      "model_module": "@jupyter-widgets/controls",
      "model_module_version": "1.5.0",
      "model_name": "FloatProgressModel",
      "state": {
       "_model_module_version": "1.5.0",
       "_view_module_version": "1.5.0",
       "bar_style": "success",
       "description": "5625/5625",
       "layout": "IPY_MODEL_acdd702719214cd9a38bdcf401a56f3c",
       "max": 5625,
       "style": "IPY_MODEL_e1a6c974e908462da8ca5254946f75fa",
       "value": 5625
      }
     },
     "b77d6fc13e6d40f4b2105b7ae74cb17d": {
      "model_module": "@jupyter-widgets/base",
      "model_module_version": "1.2.0",
      "model_name": "LayoutModel",
      "state": {
       "_model_module_version": "1.2.0",
       "_view_module_version": "1.2.0",
       "justify_items": null,
       "object_fit": null,
       "object_position": null
      }
     },
     "b78f20e3c0dc4151892683358a22de67": {
      "model_module": "@jupyter-widgets/controls",
      "model_module_version": "1.5.0",
      "model_name": "FloatProgressModel",
      "state": {
       "_model_module_version": "1.5.0",
       "_view_module_version": "1.5.0",
       "bar_style": "success",
       "description": "2813/2813",
       "layout": "IPY_MODEL_432c174652ca4d5293378652b75d5048",
       "max": 2813,
       "style": "IPY_MODEL_6355e8c6b54445e49d549cb24f58e17c",
       "value": 2813
      }
     },
     "b804d0e2f76c41399d76c1bdd8f4f754": {
      "model_module": "@jupyter-widgets/controls",
      "model_module_version": "1.5.0",
      "model_name": "HTMLModel",
      "state": {
       "_model_module_version": "1.5.0",
       "_view_module_version": "1.5.0",
       "layout": "IPY_MODEL_315fc0925511488ab854ea06c38c7959",
       "style": "IPY_MODEL_9a5acdaeda5b4d66898e6ffd63d333f1",
       "value": " ETA: 00:00s - "
      }
     },
     "b94d678e29a14e5fbe6ebf14ea6a3859": {
      "model_module": "@jupyter-widgets/base",
      "model_module_version": "1.2.0",
      "model_name": "LayoutModel",
      "state": {
       "_model_module_version": "1.2.0",
       "_view_module_version": "1.2.0",
       "display": "inline-flex",
       "flex_flow": "row wrap",
       "justify_items": null,
       "object_fit": null,
       "object_position": null,
       "width": "100%"
      }
     },
     "b97219369e3d40bcbf452e02788b07f0": {
      "model_module": "@jupyter-widgets/base",
      "model_module_version": "1.2.0",
      "model_name": "LayoutModel",
      "state": {
       "_model_module_version": "1.2.0",
       "_view_module_version": "1.2.0",
       "display": "inline-flex",
       "flex_flow": "row wrap",
       "justify_items": null,
       "object_fit": null,
       "object_position": null,
       "width": "100%"
      }
     },
     "ba499cb248514e6ea0e32b96395f0e07": {
      "model_module": "@jupyter-widgets/controls",
      "model_module_version": "1.5.0",
      "model_name": "FloatProgressModel",
      "state": {
       "_model_module_version": "1.5.0",
       "_view_module_version": "1.5.0",
       "bar_style": "success",
       "description": "Training: 100%",
       "layout": "IPY_MODEL_e9d259fb56fc46e5b7598b23c8540286",
       "max": 1,
       "style": "IPY_MODEL_acd75ab5e6d64768a0d11172d245b846",
       "value": 1
      }
     },
     "ba59af7570734b27bcecdb07d6b599f6": {
      "model_module": "@jupyter-widgets/controls",
      "model_module_version": "1.5.0",
      "model_name": "DescriptionStyleModel",
      "state": {
       "_model_module_version": "1.5.0",
       "_view_module_version": "1.2.0",
       "description_width": ""
      }
     },
     "ba6ffece0df74da2a2c2801a914a4169": {
      "model_module": "@jupyter-widgets/controls",
      "model_module_version": "1.5.0",
      "model_name": "HTMLModel",
      "state": {
       "_model_module_version": "1.5.0",
       "_view_module_version": "1.5.0",
       "layout": "IPY_MODEL_395355c976bb4be381c4e6464a9beeab",
       "style": "IPY_MODEL_e688f53f65934b939a023ccf6506f1c1",
       "value": " ETA: 00:00s - loss: 33.0353 - mse: 33.0353 - val_loss: 0.3481 - val_mse: 0.3479"
      }
     },
     "ba72bc3a6c0443bbbd61d5ddf7dc179d": {
      "model_module": "@jupyter-widgets/base",
      "model_module_version": "1.2.0",
      "model_name": "LayoutModel",
      "state": {
       "_model_module_version": "1.2.0",
       "_view_module_version": "1.2.0",
       "flex": "2",
       "justify_items": null,
       "object_fit": null,
       "object_position": null
      }
     },
     "bade61dd357845dcb14195122c7804e4": {
      "model_module": "@jupyter-widgets/controls",
      "model_module_version": "1.5.0",
      "model_name": "DescriptionStyleModel",
      "state": {
       "_model_module_version": "1.5.0",
       "_view_module_version": "1.2.0",
       "description_width": ""
      }
     },
     "bb652d0962934aedb46d2a71605fa973": {
      "model_module": "@jupyter-widgets/controls",
      "model_module_version": "1.5.0",
      "model_name": "FloatProgressModel",
      "state": {
       "_model_module_version": "1.5.0",
       "_view_module_version": "1.5.0",
       "bar_style": "success",
       "description": "2813/2813",
       "layout": "IPY_MODEL_3e3fd0e3308e4e7b970c56c02a4bb203",
       "max": 2813,
       "style": "IPY_MODEL_250e55db9eff404d9162876227f818a6",
       "value": 2813
      }
     },
     "bbb04bda020445e194290e3897f023ce": {
      "model_module": "@jupyter-widgets/controls",
      "model_module_version": "1.5.0",
      "model_name": "HBoxModel",
      "state": {
       "_model_module_version": "1.5.0",
       "_view_module_version": "1.5.0",
       "children": [
        "IPY_MODEL_2db9d67c23464482a7535bfbec5d96bc",
        "IPY_MODEL_3722c4cfdc8b4dd09c584bd4d5e6a95b"
       ],
       "layout": "IPY_MODEL_153353d16aea42b2a8fc4329d9150ef9"
      }
     },
     "bd6a7f6c21a04659bc41a58bc8c2872b": {
      "model_module": "@jupyter-widgets/controls",
      "model_module_version": "1.5.0",
      "model_name": "HBoxModel",
      "state": {
       "_model_module_version": "1.5.0",
       "_view_module_version": "1.5.0",
       "children": [
        "IPY_MODEL_aa0ca5fff8454669a1865d09f3567a30",
        "IPY_MODEL_eff8c47398334b3491440889bd9bad0c"
       ],
       "layout": "IPY_MODEL_e5b17e69e02942c5bc061ff9116684ef"
      }
     },
     "bdfc58c0a8bc47a9ae27eb6d7ed63d74": {
      "model_module": "@jupyter-widgets/base",
      "model_module_version": "1.2.0",
      "model_name": "LayoutModel",
      "state": {
       "_model_module_version": "1.2.0",
       "_view_module_version": "1.2.0",
       "display": "inline-flex",
       "flex_flow": "row wrap",
       "justify_items": null,
       "object_fit": null,
       "object_position": null,
       "width": "100%"
      }
     },
     "beeb259284304e53b94e5c20801a0f4a": {
      "model_module": "@jupyter-widgets/controls",
      "model_module_version": "1.5.0",
      "model_name": "HTMLModel",
      "state": {
       "_model_module_version": "1.5.0",
       "_view_module_version": "1.5.0",
       "layout": "IPY_MODEL_b77d6fc13e6d40f4b2105b7ae74cb17d",
       "style": "IPY_MODEL_2caacd5bcda64ecc8104660ebd6fd38b",
       "value": " ETA: 00:00s - loss: 3.6156 - mse: 3.6156 - val_loss: 0.1413 - val_mse: 0.1413"
      }
     },
     "befef40a56c748978a25a79e8e2665a8": {
      "model_module": "@jupyter-widgets/controls",
      "model_module_version": "1.5.0",
      "model_name": "ProgressStyleModel",
      "state": {
       "_model_module_version": "1.5.0",
       "_view_module_version": "1.2.0",
       "description_width": "initial"
      }
     },
     "bf89bcc3b9634f6885b4688eb7a3a652": {
      "model_module": "@jupyter-widgets/controls",
      "model_module_version": "1.5.0",
      "model_name": "HTMLModel",
      "state": {
       "_model_module_version": "1.5.0",
       "_view_module_version": "1.5.0",
       "layout": "IPY_MODEL_d4641e1260bb40378954f26d0c22b06f",
       "style": "IPY_MODEL_2cfea37a727441b386f46c8015f5e9bc",
       "value": " 1/1 ETA: 00:00s,  510.76s/epochs"
      }
     },
     "bfdeecd7325a4f8eb3168346b5883457": {
      "model_module": "@jupyter-widgets/controls",
      "model_module_version": "1.5.0",
      "model_name": "DescriptionStyleModel",
      "state": {
       "_model_module_version": "1.5.0",
       "_view_module_version": "1.2.0",
       "description_width": ""
      }
     },
     "bffa9967a08643e193cdb39f27a4e82f": {
      "model_module": "@jupyter-widgets/base",
      "model_module_version": "1.2.0",
      "model_name": "LayoutModel",
      "state": {
       "_model_module_version": "1.2.0",
       "_view_module_version": "1.2.0",
       "flex": "2",
       "justify_items": null,
       "object_fit": null,
       "object_position": null
      }
     },
     "c07be95c8cdc480c9ebee8eacd4871d1": {
      "model_module": "@jupyter-widgets/controls",
      "model_module_version": "1.5.0",
      "model_name": "ProgressStyleModel",
      "state": {
       "_model_module_version": "1.5.0",
       "_view_module_version": "1.2.0",
       "description_width": "initial"
      }
     },
     "c0efe36bf0dd4771b6753ee73cd2e8ff": {
      "model_module": "@jupyter-widgets/controls",
      "model_module_version": "1.5.0",
      "model_name": "HTMLModel",
      "state": {
       "_model_module_version": "1.5.0",
       "_view_module_version": "1.5.0",
       "layout": "IPY_MODEL_5eb945c6963d42b1a2da3a44be560aca",
       "style": "IPY_MODEL_7322abf07afb41e6842e8990d4d292b5",
       "value": " ETA: 00:00s - loss: 0.0820 - mse: 0.0820 - val_loss: 0.0540 - val_mse: 0.0540"
      }
     },
     "c11e9105899a45b69a01930b74d73f56": {
      "model_module": "@jupyter-widgets/controls",
      "model_module_version": "1.5.0",
      "model_name": "DescriptionStyleModel",
      "state": {
       "_model_module_version": "1.5.0",
       "_view_module_version": "1.2.0",
       "description_width": ""
      }
     },
     "c150aff3453e4459b9548ef75dafa667": {
      "model_module": "@jupyter-widgets/controls",
      "model_module_version": "1.5.0",
      "model_name": "FloatProgressModel",
      "state": {
       "_model_module_version": "1.5.0",
       "_view_module_version": "1.5.0",
       "bar_style": "success",
       "description": "Training: 100%",
       "layout": "IPY_MODEL_f86dfbebcc714947ad8949374b84b81d",
       "max": 1,
       "style": "IPY_MODEL_c07be95c8cdc480c9ebee8eacd4871d1",
       "value": 1
      }
     },
     "c19b00aa45f94c2e96d77ac61447c8e2": {
      "model_module": "@jupyter-widgets/controls",
      "model_module_version": "1.5.0",
      "model_name": "ProgressStyleModel",
      "state": {
       "_model_module_version": "1.5.0",
       "_view_module_version": "1.2.0",
       "description_width": "initial"
      }
     },
     "c1c6ad045c094ec2b356ef4c33ed8241": {
      "model_module": "@jupyter-widgets/controls",
      "model_module_version": "1.5.0",
      "model_name": "FloatProgressModel",
      "state": {
       "_model_module_version": "1.5.0",
       "_view_module_version": "1.5.0",
       "bar_style": "success",
       "description": "Training: 100%",
       "layout": "IPY_MODEL_ca3b328d762d40838f00994a06dc8b6d",
       "max": 1,
       "style": "IPY_MODEL_cab2b6e6cf7249dfb94d236a5cbf1680",
       "value": 1
      }
     },
     "c235b24f62424f79a85cf8dbbdcfb6e3": {
      "model_module": "@jupyter-widgets/controls",
      "model_module_version": "1.5.0",
      "model_name": "HTMLModel",
      "state": {
       "_model_module_version": "1.5.0",
       "_view_module_version": "1.5.0",
       "layout": "IPY_MODEL_8a91eeae7cf345c29083d9a144a7dd68",
       "style": "IPY_MODEL_bfdeecd7325a4f8eb3168346b5883457",
       "value": " ETA: 00:00s - loss: 0.3980 - mse: 0.3980 - val_loss: 0.1197 - val_mse: 0.1197"
      }
     },
     "c27d299007204676ae5cd7cab086792d": {
      "model_module": "@jupyter-widgets/controls",
      "model_module_version": "1.5.0",
      "model_name": "HTMLModel",
      "state": {
       "_model_module_version": "1.5.0",
       "_view_module_version": "1.5.0",
       "layout": "IPY_MODEL_4292dbb72cd844179729425c6c99a485",
       "style": "IPY_MODEL_f0ea5ad0632d467c9a144faf6d2e255b",
       "value": " 1/1 ETA: 00:00s,  768.58s/epochs"
      }
     },
     "c2939b70bd2c4ac384299e3a1d30856d": {
      "model_module": "@jupyter-widgets/controls",
      "model_module_version": "1.5.0",
      "model_name": "HBoxModel",
      "state": {
       "_model_module_version": "1.5.0",
       "_view_module_version": "1.5.0",
       "children": [
        "IPY_MODEL_dcee46dc186c4952acfd785ff65e19ad",
        "IPY_MODEL_6481340159cf4984a591e27800109374"
       ],
       "layout": "IPY_MODEL_4f666ade7d784fd3975d644afb916696"
      }
     },
     "c36d8479ecda4175910e8fc4e258d55f": {
      "model_module": "@jupyter-widgets/base",
      "model_module_version": "1.2.0",
      "model_name": "LayoutModel",
      "state": {
       "_model_module_version": "1.2.0",
       "_view_module_version": "1.2.0",
       "flex": "2",
       "justify_items": null,
       "object_fit": null,
       "object_position": null
      }
     },
     "c389b1a137c84fdaacc39b8cfb3b9bf8": {
      "model_module": "@jupyter-widgets/base",
      "model_module_version": "1.2.0",
      "model_name": "LayoutModel",
      "state": {
       "_model_module_version": "1.2.0",
       "_view_module_version": "1.2.0",
       "justify_items": null,
       "object_fit": null,
       "object_position": null
      }
     },
     "c3e361f194bd4f04ab9d920b33b782a4": {
      "model_module": "@jupyter-widgets/controls",
      "model_module_version": "1.5.0",
      "model_name": "FloatProgressModel",
      "state": {
       "_model_module_version": "1.5.0",
       "_view_module_version": "1.5.0",
       "bar_style": "success",
       "description": "5625/5625",
       "layout": "IPY_MODEL_e1cd5e63108343f88949beb6eb8a405a",
       "max": 5625,
       "style": "IPY_MODEL_b7139d9e4f114fdc845a7b2e4df483f6",
       "value": 5625
      }
     },
     "c460e9dca19c47c299f85d42643d8db3": {
      "model_module": "@jupyter-widgets/controls",
      "model_module_version": "1.5.0",
      "model_name": "DescriptionStyleModel",
      "state": {
       "_model_module_version": "1.5.0",
       "_view_module_version": "1.2.0",
       "description_width": ""
      }
     },
     "c460eb0b466a4117b9a122c29c334349": {
      "model_module": "@jupyter-widgets/base",
      "model_module_version": "1.2.0",
      "model_name": "LayoutModel",
      "state": {
       "_model_module_version": "1.2.0",
       "_view_module_version": "1.2.0",
       "display": "inline-flex",
       "flex_flow": "row wrap",
       "justify_items": null,
       "object_fit": null,
       "object_position": null,
       "width": "100%"
      }
     },
     "c472f70c2a9241898a65aee9dae1c994": {
      "model_module": "@jupyter-widgets/base",
      "model_module_version": "1.2.0",
      "model_name": "LayoutModel",
      "state": {
       "_model_module_version": "1.2.0",
       "_view_module_version": "1.2.0",
       "flex": "2",
       "justify_items": null,
       "object_fit": null,
       "object_position": null
      }
     },
     "c49f957660a04c0783a8560de163d0b9": {
      "model_module": "@jupyter-widgets/controls",
      "model_module_version": "1.5.0",
      "model_name": "HBoxModel",
      "state": {
       "_model_module_version": "1.5.0",
       "_view_module_version": "1.5.0",
       "children": [
        "IPY_MODEL_96cc0fa2bf5745e1a3e5e364b1de463f",
        "IPY_MODEL_87dbde934cc646d48f119a6237c00e00"
       ],
       "layout": "IPY_MODEL_5cdb1a48bb7c475b88cbc75ef9cf8dd2"
      }
     },
     "c4b13bde75f74ffeab7c111666ccc3d3": {
      "model_module": "@jupyter-widgets/base",
      "model_module_version": "1.2.0",
      "model_name": "LayoutModel",
      "state": {
       "_model_module_version": "1.2.0",
       "_view_module_version": "1.2.0",
       "display": "inline-flex",
       "flex_flow": "row wrap",
       "justify_items": null,
       "object_fit": null,
       "object_position": null,
       "width": "100%"
      }
     },
     "c5022d1e315f4534b65cecb7fe13bcca": {
      "model_module": "@jupyter-widgets/controls",
      "model_module_version": "1.5.0",
      "model_name": "FloatProgressModel",
      "state": {
       "_model_module_version": "1.5.0",
       "_view_module_version": "1.5.0",
       "bar_style": "success",
       "description": "2813/2813",
       "layout": "IPY_MODEL_a23d8a8479344805820546f15a877818",
       "max": 2813,
       "style": "IPY_MODEL_ff84c8699cd74545b43ac043f3bfe9d9",
       "value": 2813
      }
     },
     "c536830724764545b62c204488451d04": {
      "model_module": "@jupyter-widgets/base",
      "model_module_version": "1.2.0",
      "model_name": "LayoutModel",
      "state": {
       "_model_module_version": "1.2.0",
       "_view_module_version": "1.2.0",
       "display": "inline-flex",
       "flex_flow": "row wrap",
       "justify_items": null,
       "object_fit": null,
       "object_position": null,
       "width": "100%"
      }
     },
     "c550fb4dacb140ff8d1523c71287a630": {
      "model_module": "@jupyter-widgets/controls",
      "model_module_version": "1.5.0",
      "model_name": "FloatProgressModel",
      "state": {
       "_model_module_version": "1.5.0",
       "_view_module_version": "1.5.0",
       "bar_style": "success",
       "description": "Training: 100%",
       "layout": "IPY_MODEL_4f505addbc404143ae0a7f84b5dcc7a8",
       "max": 1,
       "style": "IPY_MODEL_e341b523a7af48dd8d3c145c4448eeb4",
       "value": 1
      }
     },
     "c5aea82119f641558523d7bfd33334b2": {
      "model_module": "@jupyter-widgets/controls",
      "model_module_version": "1.5.0",
      "model_name": "DescriptionStyleModel",
      "state": {
       "_model_module_version": "1.5.0",
       "_view_module_version": "1.2.0",
       "description_width": ""
      }
     },
     "c5c4b82556ce48ed8ffebfec2c309b6d": {
      "model_module": "@jupyter-widgets/controls",
      "model_module_version": "1.5.0",
      "model_name": "HTMLModel",
      "state": {
       "_model_module_version": "1.5.0",
       "_view_module_version": "1.5.0",
       "layout": "IPY_MODEL_ffb93b2bfc804ba38ff9ed21d17d03a2",
       "style": "IPY_MODEL_56957152069c4fca85581b060a4fcd81",
       "value": " 1/1 ETA: 00:00s,  2506.35s/epochs"
      }
     },
     "c5d2f42496d34406a8aba9e851de697b": {
      "model_module": "@jupyter-widgets/controls",
      "model_module_version": "1.5.0",
      "model_name": "HBoxModel",
      "state": {
       "_model_module_version": "1.5.0",
       "_view_module_version": "1.5.0",
       "children": [
        "IPY_MODEL_017ae4a891ca469dbea32d449a8a4829",
        "IPY_MODEL_988727c4b19f4f25a3883acb81383d11"
       ],
       "layout": "IPY_MODEL_4f4ecf8b221e45f09a82e37b63469cf6"
      }
     },
     "c5d9efc017584547b97fff46857ad01d": {
      "model_module": "@jupyter-widgets/base",
      "model_module_version": "1.2.0",
      "model_name": "LayoutModel",
      "state": {
       "_model_module_version": "1.2.0",
       "_view_module_version": "1.2.0",
       "display": "inline-flex",
       "flex_flow": "row wrap",
       "justify_items": null,
       "object_fit": null,
       "object_position": null,
       "width": "100%"
      }
     },
     "c5dcfe0db2d7431580d37e35a2343044": {
      "model_module": "@jupyter-widgets/base",
      "model_module_version": "1.2.0",
      "model_name": "LayoutModel",
      "state": {
       "_model_module_version": "1.2.0",
       "_view_module_version": "1.2.0",
       "flex": "2",
       "justify_items": null,
       "object_fit": null,
       "object_position": null
      }
     },
     "c624aa12590741a09f4f6695f6218e8a": {
      "model_module": "@jupyter-widgets/controls",
      "model_module_version": "1.5.0",
      "model_name": "HTMLModel",
      "state": {
       "_model_module_version": "1.5.0",
       "_view_module_version": "1.5.0",
       "layout": "IPY_MODEL_9cbd5cae59bc4a3ba07c1765dbc0b8b7",
       "style": "IPY_MODEL_c5aea82119f641558523d7bfd33334b2",
       "value": " ETA: 00:00s - loss: 14.7214 - mse: 14.7217"
      }
     },
     "c62f4e5c3b204126a500043007f30e60": {
      "model_module": "@jupyter-widgets/controls",
      "model_module_version": "1.5.0",
      "model_name": "FloatProgressModel",
      "state": {
       "_model_module_version": "1.5.0",
       "_view_module_version": "1.5.0",
       "bar_style": "success",
       "description": "2813/2813",
       "layout": "IPY_MODEL_4fd4ccf29ff148cd9bb869a1d278a806",
       "max": 2813,
       "style": "IPY_MODEL_2f3409e650074ab8a0baa90a387e6db2",
       "value": 2813
      }
     },
     "c6727b71060f444bb2905d767be8f220": {
      "model_module": "@jupyter-widgets/controls",
      "model_module_version": "1.5.0",
      "model_name": "ProgressStyleModel",
      "state": {
       "_model_module_version": "1.5.0",
       "_view_module_version": "1.2.0",
       "description_width": "initial"
      }
     },
     "c67bca57c5bf43b891f3fe238c2fe398": {
      "model_module": "@jupyter-widgets/controls",
      "model_module_version": "1.5.0",
      "model_name": "HTMLModel",
      "state": {
       "_model_module_version": "1.5.0",
       "_view_module_version": "1.5.0",
       "layout": "IPY_MODEL_da8a65ed57774672a179e24a21fcee40",
       "style": "IPY_MODEL_6472b56c1828491b98d2e9daaf2f395f",
       "value": " 1/1 ETA: 00:00s,  1971.79s/epochs"
      }
     },
     "c830ae66c69e42a7b8e17258dd4a1708": {
      "model_module": "@jupyter-widgets/controls",
      "model_module_version": "1.5.0",
      "model_name": "HBoxModel",
      "state": {
       "_model_module_version": "1.5.0",
       "_view_module_version": "1.5.0",
       "children": [
        "IPY_MODEL_b5b8b3d545644bfabcf57f8e3a697821",
        "IPY_MODEL_ee9a3e45949e4eaf8e3c44e11c770b44"
       ],
       "layout": "IPY_MODEL_ee9b8312474742d2b2802d2ba800c366"
      }
     },
     "c9604509bd8f4832938291c5610fc6c6": {
      "model_module": "@jupyter-widgets/base",
      "model_module_version": "1.2.0",
      "model_name": "LayoutModel",
      "state": {
       "_model_module_version": "1.2.0",
       "_view_module_version": "1.2.0",
       "display": "inline-flex",
       "flex_flow": "row wrap",
       "justify_items": null,
       "object_fit": null,
       "object_position": null,
       "width": "100%"
      }
     },
     "ca3b328d762d40838f00994a06dc8b6d": {
      "model_module": "@jupyter-widgets/base",
      "model_module_version": "1.2.0",
      "model_name": "LayoutModel",
      "state": {
       "_model_module_version": "1.2.0",
       "_view_module_version": "1.2.0",
       "flex": "2",
       "justify_items": null,
       "object_fit": null,
       "object_position": null
      }
     },
     "cab2b6e6cf7249dfb94d236a5cbf1680": {
      "model_module": "@jupyter-widgets/controls",
      "model_module_version": "1.5.0",
      "model_name": "ProgressStyleModel",
      "state": {
       "_model_module_version": "1.5.0",
       "_view_module_version": "1.2.0",
       "description_width": "initial"
      }
     },
     "cb34933926f64c90b795480542e51a53": {
      "model_module": "@jupyter-widgets/controls",
      "model_module_version": "1.5.0",
      "model_name": "ProgressStyleModel",
      "state": {
       "_model_module_version": "1.5.0",
       "_view_module_version": "1.2.0",
       "description_width": "initial"
      }
     },
     "cbc6ad4e8483408382ef825c2d8951ec": {
      "model_module": "@jupyter-widgets/base",
      "model_module_version": "1.2.0",
      "model_name": "LayoutModel",
      "state": {
       "_model_module_version": "1.2.0",
       "_view_module_version": "1.2.0",
       "flex": "2",
       "justify_items": null,
       "object_fit": null,
       "object_position": null
      }
     },
     "cbdf05f0b57c41b69174733b62dc9e29": {
      "model_module": "@jupyter-widgets/controls",
      "model_module_version": "1.5.0",
      "model_name": "ProgressStyleModel",
      "state": {
       "_model_module_version": "1.5.0",
       "_view_module_version": "1.2.0",
       "description_width": "initial"
      }
     },
     "cc6aa0c625024e0395c0d50ec9af24c0": {
      "model_module": "@jupyter-widgets/controls",
      "model_module_version": "1.5.0",
      "model_name": "HBoxModel",
      "state": {
       "_model_module_version": "1.5.0",
       "_view_module_version": "1.5.0",
       "children": [
        "IPY_MODEL_67b2ffc43e3745618438b5ad01ce43b4",
        "IPY_MODEL_e0b50275106841f39f8318a601c9524e"
       ],
       "layout": "IPY_MODEL_3ca4ce999e584c1db4ffb00e809f5b8f"
      }
     },
     "cc97e1db61dc44a0a94dbc6007ae4a6c": {
      "model_module": "@jupyter-widgets/controls",
      "model_module_version": "1.5.0",
      "model_name": "DescriptionStyleModel",
      "state": {
       "_model_module_version": "1.5.0",
       "_view_module_version": "1.2.0",
       "description_width": ""
      }
     },
     "ccb9810a894f4f6a8f150deedbd80387": {
      "model_module": "@jupyter-widgets/controls",
      "model_module_version": "1.5.0",
      "model_name": "ProgressStyleModel",
      "state": {
       "_model_module_version": "1.5.0",
       "_view_module_version": "1.2.0",
       "description_width": "initial"
      }
     },
     "cd5cbcf996a04281ae8897e5c06794cf": {
      "model_module": "@jupyter-widgets/base",
      "model_module_version": "1.2.0",
      "model_name": "LayoutModel",
      "state": {
       "_model_module_version": "1.2.0",
       "_view_module_version": "1.2.0",
       "display": "inline-flex",
       "flex_flow": "row wrap",
       "justify_items": null,
       "object_fit": null,
       "object_position": null,
       "width": "100%"
      }
     },
     "cddf935a9d854f13974365120395213d": {
      "model_module": "@jupyter-widgets/base",
      "model_module_version": "1.2.0",
      "model_name": "LayoutModel",
      "state": {
       "_model_module_version": "1.2.0",
       "_view_module_version": "1.2.0",
       "flex": "2",
       "justify_items": null,
       "object_fit": null,
       "object_position": null
      }
     },
     "ce3ad65701974069b74465ed9a643058": {
      "model_module": "@jupyter-widgets/controls",
      "model_module_version": "1.5.0",
      "model_name": "ProgressStyleModel",
      "state": {
       "_model_module_version": "1.5.0",
       "_view_module_version": "1.2.0",
       "description_width": "initial"
      }
     },
     "cf9182be1d46414aa771d1fe5331ac4f": {
      "model_module": "@jupyter-widgets/controls",
      "model_module_version": "1.5.0",
      "model_name": "HBoxModel",
      "state": {
       "_model_module_version": "1.5.0",
       "_view_module_version": "1.5.0",
       "children": [
        "IPY_MODEL_c3e361f194bd4f04ab9d920b33b782a4",
        "IPY_MODEL_f8b3905d1f3f4856a51bea603051e37e"
       ],
       "layout": "IPY_MODEL_4b23847630e341a384e1ed0a06482591"
      }
     },
     "d0488d4a352d42aca5354f6205a630e5": {
      "model_module": "@jupyter-widgets/controls",
      "model_module_version": "1.5.0",
      "model_name": "FloatProgressModel",
      "state": {
       "_model_module_version": "1.5.0",
       "_view_module_version": "1.5.0",
       "bar_style": "success",
       "description": "5625/5625",
       "layout": "IPY_MODEL_72fce1982eb74ff9abb3a34ecff47a04",
       "max": 5625,
       "style": "IPY_MODEL_8aba62c5f6c54c61a7c1b4611941fa56",
       "value": 5625
      }
     },
     "d0ba52343c0446e7b53ba96b6a778ab5": {
      "model_module": "@jupyter-widgets/controls",
      "model_module_version": "1.5.0",
      "model_name": "ProgressStyleModel",
      "state": {
       "_model_module_version": "1.5.0",
       "_view_module_version": "1.2.0",
       "description_width": "initial"
      }
     },
     "d106e25760254a4f93a17a04f2608056": {
      "model_module": "@jupyter-widgets/controls",
      "model_module_version": "1.5.0",
      "model_name": "HTMLModel",
      "state": {
       "_model_module_version": "1.5.0",
       "_view_module_version": "1.5.0",
       "layout": "IPY_MODEL_40dc522fdaff4782ab4e8a0ec959256c",
       "style": "IPY_MODEL_9ba655f0c3c643cc88f954c27503cc4e",
       "value": " 1/1 ETA: 00:00s,  326.20s/epochs"
      }
     },
     "d1197493a4da4f75ade7c82c454031cb": {
      "model_module": "@jupyter-widgets/base",
      "model_module_version": "1.2.0",
      "model_name": "LayoutModel",
      "state": {
       "_model_module_version": "1.2.0",
       "_view_module_version": "1.2.0",
       "display": "inline-flex",
       "flex_flow": "row wrap",
       "justify_items": null,
       "object_fit": null,
       "object_position": null,
       "width": "100%"
      }
     },
     "d15d459431eb4702b2049b20c9011789": {
      "model_module": "@jupyter-widgets/controls",
      "model_module_version": "1.5.0",
      "model_name": "DescriptionStyleModel",
      "state": {
       "_model_module_version": "1.5.0",
       "_view_module_version": "1.2.0",
       "description_width": ""
      }
     },
     "d16be83f14af4ce1a1b80b6478bb6dd7": {
      "model_module": "@jupyter-widgets/base",
      "model_module_version": "1.2.0",
      "model_name": "LayoutModel",
      "state": {
       "_model_module_version": "1.2.0",
       "_view_module_version": "1.2.0",
       "display": "inline-flex",
       "flex_flow": "row wrap",
       "justify_items": null,
       "object_fit": null,
       "object_position": null,
       "width": "100%"
      }
     },
     "d1e64859b3594ad4bbe9d1fd9030ce62": {
      "model_module": "@jupyter-widgets/controls",
      "model_module_version": "1.5.0",
      "model_name": "FloatProgressModel",
      "state": {
       "_model_module_version": "1.5.0",
       "_view_module_version": "1.5.0",
       "bar_style": "success",
       "description": "2813/2813",
       "layout": "IPY_MODEL_259e7524605a49d4af64beb5b15efd6d",
       "max": 2813,
       "style": "IPY_MODEL_141feec4eef34407aa0112e89bd498dc",
       "value": 2813
      }
     },
     "d1e6f5d733784a5d967abfac86284891": {
      "model_module": "@jupyter-widgets/controls",
      "model_module_version": "1.5.0",
      "model_name": "FloatProgressModel",
      "state": {
       "_model_module_version": "1.5.0",
       "_view_module_version": "1.5.0",
       "bar_style": "success",
       "description": "Training: 100%",
       "layout": "IPY_MODEL_8bebdc2f3e7b455289572a5691e6814e",
       "max": 1,
       "style": "IPY_MODEL_e90abf48b518435093f3d9882be09867",
       "value": 1
      }
     },
     "d2d96233ea8047e4a68fcafd2d039dc8": {
      "model_module": "@jupyter-widgets/controls",
      "model_module_version": "1.5.0",
      "model_name": "HTMLModel",
      "state": {
       "_model_module_version": "1.5.0",
       "_view_module_version": "1.5.0",
       "layout": "IPY_MODEL_e45a518c6f414b859e68d72821da0137",
       "style": "IPY_MODEL_ed6155732da74462b62fed5d787efec9",
       "value": " ETA: 00:00s - loss: 0.9545 - mse: 0.9545 - val_loss: 0.1217 - val_mse: 0.1217"
      }
     },
     "d343e997bf8f40aa94df8fe923a507e3": {
      "model_module": "@jupyter-widgets/controls",
      "model_module_version": "1.5.0",
      "model_name": "FloatProgressModel",
      "state": {
       "_model_module_version": "1.5.0",
       "_view_module_version": "1.5.0",
       "bar_style": "success",
       "description": "Training: 100%",
       "layout": "IPY_MODEL_522a7cd4298d434f81269ef866dd28d7",
       "max": 1,
       "style": "IPY_MODEL_dc28262179d34bc5b89acdfd32aa5757",
       "value": 1
      }
     },
     "d4641e1260bb40378954f26d0c22b06f": {
      "model_module": "@jupyter-widgets/base",
      "model_module_version": "1.2.0",
      "model_name": "LayoutModel",
      "state": {
       "_model_module_version": "1.2.0",
       "_view_module_version": "1.2.0",
       "justify_items": null,
       "object_fit": null,
       "object_position": null
      }
     },
     "d48cf9d443e74786965333681d8d78d6": {
      "model_module": "@jupyter-widgets/controls",
      "model_module_version": "1.5.0",
      "model_name": "HTMLModel",
      "state": {
       "_model_module_version": "1.5.0",
       "_view_module_version": "1.5.0",
       "layout": "IPY_MODEL_eca94fd7f54c46559f832f2aef9965b3",
       "style": "IPY_MODEL_391bf175b6db4a4a9e86059de5a79867",
       "value": " ETA: 00:00s - loss: 0.1166 - mse: 0.1166 - val_loss: 0.0579 - val_mse: 0.0579"
      }
     },
     "d497b24d3f6a4259bc954c1a83fdb0a7": {
      "model_module": "@jupyter-widgets/controls",
      "model_module_version": "1.5.0",
      "model_name": "HTMLModel",
      "state": {
       "_model_module_version": "1.5.0",
       "_view_module_version": "1.5.0",
       "layout": "IPY_MODEL_0fccecae52e84c9ebad62d0b3554609d",
       "style": "IPY_MODEL_0aa6f30b6ecf4912a7f68315bcfbacf4",
       "value": " ETA: 00:00s - loss: 55.7386 - mse: 55.7387 - val_loss: 0.3943 - val_mse: 0.3942"
      }
     },
     "d57445a0a2374582a15b3cc04e85d85b": {
      "model_module": "@jupyter-widgets/controls",
      "model_module_version": "1.5.0",
      "model_name": "DescriptionStyleModel",
      "state": {
       "_model_module_version": "1.5.0",
       "_view_module_version": "1.2.0",
       "description_width": ""
      }
     },
     "d5d30b57372943b5a4d46b24bc8902ef": {
      "model_module": "@jupyter-widgets/controls",
      "model_module_version": "1.5.0",
      "model_name": "HBoxModel",
      "state": {
       "_model_module_version": "1.5.0",
       "_view_module_version": "1.5.0",
       "children": [
        "IPY_MODEL_1aebf31494da44e39fbd1bd7d55dd4d2",
        "IPY_MODEL_8b1a2254154944c1b940693fddf300e7"
       ],
       "layout": "IPY_MODEL_84ffb92b5de8435f9d790343801241d5"
      }
     },
     "d69acf3f95664bac941147845bb9b740": {
      "model_module": "@jupyter-widgets/base",
      "model_module_version": "1.2.0",
      "model_name": "LayoutModel",
      "state": {
       "_model_module_version": "1.2.0",
       "_view_module_version": "1.2.0",
       "flex": "2",
       "justify_items": null,
       "object_fit": null,
       "object_position": null
      }
     },
     "d8267e236cc147e1bd2c6ee6a65f4ae1": {
      "model_module": "@jupyter-widgets/controls",
      "model_module_version": "1.5.0",
      "model_name": "HTMLModel",
      "state": {
       "_model_module_version": "1.5.0",
       "_view_module_version": "1.5.0",
       "layout": "IPY_MODEL_376b67006b1040568fedb08def1b4f68",
       "style": "IPY_MODEL_16acafd36e734faf958d86465deecd5e",
       "value": " 1/1 ETA: 00:00s,  774.98s/epochs"
      }
     },
     "d8671571a7da4b0ba4148fd59c157d70": {
      "model_module": "@jupyter-widgets/base",
      "model_module_version": "1.2.0",
      "model_name": "LayoutModel",
      "state": {
       "_model_module_version": "1.2.0",
       "_view_module_version": "1.2.0",
       "justify_items": null,
       "object_fit": null,
       "object_position": null
      }
     },
     "d9b0f22450154d4d8e0482bf6801ae65": {
      "model_module": "@jupyter-widgets/base",
      "model_module_version": "1.2.0",
      "model_name": "LayoutModel",
      "state": {
       "_model_module_version": "1.2.0",
       "_view_module_version": "1.2.0",
       "justify_items": null,
       "object_fit": null,
       "object_position": null
      }
     },
     "d9c712c6080541089405433c5ece527f": {
      "model_module": "@jupyter-widgets/base",
      "model_module_version": "1.2.0",
      "model_name": "LayoutModel",
      "state": {
       "_model_module_version": "1.2.0",
       "_view_module_version": "1.2.0",
       "display": "inline-flex",
       "flex_flow": "row wrap",
       "justify_items": null,
       "object_fit": null,
       "object_position": null,
       "width": "100%"
      }
     },
     "d9fc602831c04a8b839bda2f24e551d5": {
      "model_module": "@jupyter-widgets/controls",
      "model_module_version": "1.5.0",
      "model_name": "HTMLModel",
      "state": {
       "_model_module_version": "1.5.0",
       "_view_module_version": "1.5.0",
       "layout": "IPY_MODEL_3d34a6925e894e1680261d5c123a87a0",
       "style": "IPY_MODEL_074921ef7f364852831a5805b5c6cd29",
       "value": " ETA: 00:00s - loss: 0.0673 - mse: 0.0673 - val_loss: 0.0452 - val_mse: 0.0451"
      }
     },
     "da5448607bb74a2fa1366cfb33e06903": {
      "model_module": "@jupyter-widgets/base",
      "model_module_version": "1.2.0",
      "model_name": "LayoutModel",
      "state": {
       "_model_module_version": "1.2.0",
       "_view_module_version": "1.2.0",
       "display": "inline-flex",
       "flex_flow": "row wrap",
       "justify_items": null,
       "object_fit": null,
       "object_position": null,
       "width": "100%"
      }
     },
     "da8a65ed57774672a179e24a21fcee40": {
      "model_module": "@jupyter-widgets/base",
      "model_module_version": "1.2.0",
      "model_name": "LayoutModel",
      "state": {
       "_model_module_version": "1.2.0",
       "_view_module_version": "1.2.0",
       "justify_items": null,
       "object_fit": null,
       "object_position": null
      }
     },
     "dab1ec6161384d85b2babec3ddc69a94": {
      "model_module": "@jupyter-widgets/controls",
      "model_module_version": "1.5.0",
      "model_name": "HBoxModel",
      "state": {
       "_model_module_version": "1.5.0",
       "_view_module_version": "1.5.0",
       "children": [
        "IPY_MODEL_231cf0666743403e982fc8b480fe8b6a",
        "IPY_MODEL_c5c4b82556ce48ed8ffebfec2c309b6d"
       ],
       "layout": "IPY_MODEL_4c8e0a23755f455cad9259e2910f3090"
      }
     },
     "dad3a2b87c814d52a4c46895298692f8": {
      "model_module": "@jupyter-widgets/base",
      "model_module_version": "1.2.0",
      "model_name": "LayoutModel",
      "state": {
       "_model_module_version": "1.2.0",
       "_view_module_version": "1.2.0",
       "justify_items": null,
       "object_fit": null,
       "object_position": null
      }
     },
     "db22c522369547088a33e994ac9d9ee5": {
      "model_module": "@jupyter-widgets/controls",
      "model_module_version": "1.5.0",
      "model_name": "FloatProgressModel",
      "state": {
       "_model_module_version": "1.5.0",
       "_view_module_version": "1.5.0",
       "bar_style": "success",
       "description": "Training: 100%",
       "layout": "IPY_MODEL_82b9f0b85c914be6855204c7b8f838ae",
       "max": 1,
       "style": "IPY_MODEL_b4311459b70b49b9979772736379a188",
       "value": 1
      }
     },
     "db3f9c938f9749aba2c6ae76250ccb9d": {
      "model_module": "@jupyter-widgets/base",
      "model_module_version": "1.2.0",
      "model_name": "LayoutModel",
      "state": {
       "_model_module_version": "1.2.0",
       "_view_module_version": "1.2.0",
       "justify_items": null,
       "object_fit": null,
       "object_position": null
      }
     },
     "db7b8829f57d4b1289c96ed3a2342777": {
      "model_module": "@jupyter-widgets/controls",
      "model_module_version": "1.5.0",
      "model_name": "HBoxModel",
      "state": {
       "_model_module_version": "1.5.0",
       "_view_module_version": "1.5.0",
       "children": [
        "IPY_MODEL_21d80dfe25714014b9beddcccdb7f277",
        "IPY_MODEL_9eb687e077c34b78b6e28fc4d710455c"
       ],
       "layout": "IPY_MODEL_deb91e91918846f2b97addf94cb815e7"
      }
     },
     "dbc79ce72fe342ef92fc75a160fa79bc": {
      "model_module": "@jupyter-widgets/base",
      "model_module_version": "1.2.0",
      "model_name": "LayoutModel",
      "state": {
       "_model_module_version": "1.2.0",
       "_view_module_version": "1.2.0",
       "flex": "2",
       "justify_items": null,
       "object_fit": null,
       "object_position": null
      }
     },
     "dc28262179d34bc5b89acdfd32aa5757": {
      "model_module": "@jupyter-widgets/controls",
      "model_module_version": "1.5.0",
      "model_name": "ProgressStyleModel",
      "state": {
       "_model_module_version": "1.5.0",
       "_view_module_version": "1.2.0",
       "description_width": "initial"
      }
     },
     "dcad18382f334498a1eadb1f95296ad2": {
      "model_module": "@jupyter-widgets/controls",
      "model_module_version": "1.5.0",
      "model_name": "ProgressStyleModel",
      "state": {
       "_model_module_version": "1.5.0",
       "_view_module_version": "1.2.0",
       "description_width": "initial"
      }
     },
     "dcee46dc186c4952acfd785ff65e19ad": {
      "model_module": "@jupyter-widgets/controls",
      "model_module_version": "1.5.0",
      "model_name": "FloatProgressModel",
      "state": {
       "_model_module_version": "1.5.0",
       "_view_module_version": "1.5.0",
       "bar_style": "success",
       "description": "Training: 100%",
       "layout": "IPY_MODEL_746e1cb001e94d66938a4042090df8d7",
       "max": 1,
       "style": "IPY_MODEL_a6fe678205ec47c9944b1825b47941be",
       "value": 1
      }
     },
     "dd858ff827b54d82a9b8a07ddecda8d4": {
      "model_module": "@jupyter-widgets/base",
      "model_module_version": "1.2.0",
      "model_name": "LayoutModel",
      "state": {
       "_model_module_version": "1.2.0",
       "_view_module_version": "1.2.0",
       "flex": "2",
       "justify_items": null,
       "object_fit": null,
       "object_position": null
      }
     },
     "ddfefec2f478489e876814f24b2f4315": {
      "model_module": "@jupyter-widgets/controls",
      "model_module_version": "1.5.0",
      "model_name": "HTMLModel",
      "state": {
       "_model_module_version": "1.5.0",
       "_view_module_version": "1.5.0",
       "layout": "IPY_MODEL_a96431f545764bb5803e65c0ac7960a5",
       "style": "IPY_MODEL_32071664a39b4411aba08e1f12927da2",
       "value": " 1/1 ETA: 00:00s,  471.85s/epochs"
      }
     },
     "deb91e91918846f2b97addf94cb815e7": {
      "model_module": "@jupyter-widgets/base",
      "model_module_version": "1.2.0",
      "model_name": "LayoutModel",
      "state": {
       "_model_module_version": "1.2.0",
       "_view_module_version": "1.2.0",
       "display": "inline-flex",
       "flex_flow": "row wrap",
       "justify_items": null,
       "object_fit": null,
       "object_position": null,
       "width": "100%"
      }
     },
     "dec2153b8e1842d2aa8c6ac64d420c8a": {
      "model_module": "@jupyter-widgets/base",
      "model_module_version": "1.2.0",
      "model_name": "LayoutModel",
      "state": {
       "_model_module_version": "1.2.0",
       "_view_module_version": "1.2.0",
       "display": "inline-flex",
       "flex_flow": "row wrap",
       "justify_items": null,
       "object_fit": null,
       "object_position": null,
       "width": "100%"
      }
     },
     "e00db5ed75a3417a844e994eaedc423e": {
      "model_module": "@jupyter-widgets/controls",
      "model_module_version": "1.5.0",
      "model_name": "ProgressStyleModel",
      "state": {
       "_model_module_version": "1.5.0",
       "_view_module_version": "1.2.0",
       "description_width": "initial"
      }
     },
     "e010f7c1964f4d9ea972f0161545537b": {
      "model_module": "@jupyter-widgets/controls",
      "model_module_version": "1.5.0",
      "model_name": "DescriptionStyleModel",
      "state": {
       "_model_module_version": "1.5.0",
       "_view_module_version": "1.2.0",
       "description_width": ""
      }
     },
     "e03b4c76e7a94a6b80d4879652df835c": {
      "model_module": "@jupyter-widgets/base",
      "model_module_version": "1.2.0",
      "model_name": "LayoutModel",
      "state": {
       "_model_module_version": "1.2.0",
       "_view_module_version": "1.2.0",
       "display": "inline-flex",
       "flex_flow": "row wrap",
       "justify_items": null,
       "object_fit": null,
       "object_position": null,
       "width": "100%"
      }
     },
     "e0b50275106841f39f8318a601c9524e": {
      "model_module": "@jupyter-widgets/controls",
      "model_module_version": "1.5.0",
      "model_name": "HTMLModel",
      "state": {
       "_model_module_version": "1.5.0",
       "_view_module_version": "1.5.0",
       "layout": "IPY_MODEL_7f7eee59474d4df8bbb4a459227d7afa",
       "style": "IPY_MODEL_0163129d37af4c5090e654409f0dee04",
       "value": " ETA: 00:00s - loss: 0.1372 - mse: 0.1372 - val_loss: 0.0729 - val_mse: 0.0729"
      }
     },
     "e1a6c974e908462da8ca5254946f75fa": {
      "model_module": "@jupyter-widgets/controls",
      "model_module_version": "1.5.0",
      "model_name": "ProgressStyleModel",
      "state": {
       "_model_module_version": "1.5.0",
       "_view_module_version": "1.2.0",
       "description_width": "initial"
      }
     },
     "e1cd5e63108343f88949beb6eb8a405a": {
      "model_module": "@jupyter-widgets/base",
      "model_module_version": "1.2.0",
      "model_name": "LayoutModel",
      "state": {
       "_model_module_version": "1.2.0",
       "_view_module_version": "1.2.0",
       "flex": "2",
       "justify_items": null,
       "object_fit": null,
       "object_position": null
      }
     },
     "e2ee7347af8146e2ae6b83f432f86478": {
      "model_module": "@jupyter-widgets/base",
      "model_module_version": "1.2.0",
      "model_name": "LayoutModel",
      "state": {
       "_model_module_version": "1.2.0",
       "_view_module_version": "1.2.0",
       "justify_items": null,
       "object_fit": null,
       "object_position": null
      }
     },
     "e341b523a7af48dd8d3c145c4448eeb4": {
      "model_module": "@jupyter-widgets/controls",
      "model_module_version": "1.5.0",
      "model_name": "ProgressStyleModel",
      "state": {
       "_model_module_version": "1.5.0",
       "_view_module_version": "1.2.0",
       "description_width": "initial"
      }
     },
     "e34eff1697e0417cab8d2d408e6e4c1b": {
      "model_module": "@jupyter-widgets/base",
      "model_module_version": "1.2.0",
      "model_name": "LayoutModel",
      "state": {
       "_model_module_version": "1.2.0",
       "_view_module_version": "1.2.0",
       "flex": "2",
       "justify_items": null,
       "object_fit": null,
       "object_position": null
      }
     },
     "e38dc704c1834cd68d91f5bbf5db4711": {
      "model_module": "@jupyter-widgets/controls",
      "model_module_version": "1.5.0",
      "model_name": "HBoxModel",
      "state": {
       "_model_module_version": "1.5.0",
       "_view_module_version": "1.5.0",
       "children": [
        "IPY_MODEL_3a81e05b157343cab4528fbe13d838ff",
        "IPY_MODEL_e595bc9e21144aeb8fd2e53735312184"
       ],
       "layout": "IPY_MODEL_73eae24c067445338bcd308998b9cd1e"
      }
     },
     "e3b96914efa942afbe38f8ef3ec2755d": {
      "model_module": "@jupyter-widgets/controls",
      "model_module_version": "1.5.0",
      "model_name": "HTMLModel",
      "state": {
       "_model_module_version": "1.5.0",
       "_view_module_version": "1.5.0",
       "layout": "IPY_MODEL_8cb38e45984f43e8a5034b424d11f603",
       "style": "IPY_MODEL_77e5f657986046679ae7bc7eef102279",
       "value": " 1/1 ETA: 00:00s,  178.43s/epochs"
      }
     },
     "e40db3059920462fa3d62216451ed6ff": {
      "model_module": "@jupyter-widgets/controls",
      "model_module_version": "1.5.0",
      "model_name": "ProgressStyleModel",
      "state": {
       "_model_module_version": "1.5.0",
       "_view_module_version": "1.2.0",
       "description_width": "initial"
      }
     },
     "e45a518c6f414b859e68d72821da0137": {
      "model_module": "@jupyter-widgets/base",
      "model_module_version": "1.2.0",
      "model_name": "LayoutModel",
      "state": {
       "_model_module_version": "1.2.0",
       "_view_module_version": "1.2.0",
       "justify_items": null,
       "object_fit": null,
       "object_position": null
      }
     },
     "e462aaf6dd044f5d99f4e02208bcbb63": {
      "model_module": "@jupyter-widgets/base",
      "model_module_version": "1.2.0",
      "model_name": "LayoutModel",
      "state": {
       "_model_module_version": "1.2.0",
       "_view_module_version": "1.2.0",
       "flex": "2",
       "justify_items": null,
       "object_fit": null,
       "object_position": null
      }
     },
     "e48aa21621a14730a66bcefdb41c522c": {
      "model_module": "@jupyter-widgets/base",
      "model_module_version": "1.2.0",
      "model_name": "LayoutModel",
      "state": {
       "_model_module_version": "1.2.0",
       "_view_module_version": "1.2.0",
       "display": "inline-flex",
       "flex_flow": "row wrap",
       "justify_items": null,
       "object_fit": null,
       "object_position": null,
       "width": "100%"
      }
     },
     "e595bc9e21144aeb8fd2e53735312184": {
      "model_module": "@jupyter-widgets/controls",
      "model_module_version": "1.5.0",
      "model_name": "HTMLModel",
      "state": {
       "_model_module_version": "1.5.0",
       "_view_module_version": "1.5.0",
       "layout": "IPY_MODEL_52e7bcd905e54aa9bd1f4cffb6f88fc8",
       "style": "IPY_MODEL_583a0763753543c1ad83352e5116ef4e",
       "value": " ETA: 00:00s - loss: 0.0951 - mse: 0.0951"
      }
     },
     "e59edfc05276463dad270ddce59f8544": {
      "model_module": "@jupyter-widgets/controls",
      "model_module_version": "1.5.0",
      "model_name": "FloatProgressModel",
      "state": {
       "_model_module_version": "1.5.0",
       "_view_module_version": "1.5.0",
       "bar_style": "success",
       "description": "2813/2813",
       "layout": "IPY_MODEL_9c8c433ec017424f854240babbf2dcb4",
       "max": 2813,
       "style": "IPY_MODEL_7bd5748ea84b45b29ba5ecb7692055a4",
       "value": 2813
      }
     },
     "e5b17e69e02942c5bc061ff9116684ef": {
      "model_module": "@jupyter-widgets/base",
      "model_module_version": "1.2.0",
      "model_name": "LayoutModel",
      "state": {
       "_model_module_version": "1.2.0",
       "_view_module_version": "1.2.0",
       "display": "inline-flex",
       "flex_flow": "row wrap",
       "justify_items": null,
       "object_fit": null,
       "object_position": null,
       "width": "100%"
      }
     },
     "e5f17058cba347119bcd3620b6738242": {
      "model_module": "@jupyter-widgets/controls",
      "model_module_version": "1.5.0",
      "model_name": "HTMLModel",
      "state": {
       "_model_module_version": "1.5.0",
       "_view_module_version": "1.5.0",
       "layout": "IPY_MODEL_5ed65dfea47c41bba39fd9a7b28ee959",
       "style": "IPY_MODEL_9223856a8eb94c80a335f47486144200",
       "value": " 1/1 ETA: 00:00s,  1979.36s/epochs"
      }
     },
     "e688f53f65934b939a023ccf6506f1c1": {
      "model_module": "@jupyter-widgets/controls",
      "model_module_version": "1.5.0",
      "model_name": "DescriptionStyleModel",
      "state": {
       "_model_module_version": "1.5.0",
       "_view_module_version": "1.2.0",
       "description_width": ""
      }
     },
     "e7500d9fdc644c3bb073ecff5725c4a4": {
      "model_module": "@jupyter-widgets/controls",
      "model_module_version": "1.5.0",
      "model_name": "HBoxModel",
      "state": {
       "_model_module_version": "1.5.0",
       "_view_module_version": "1.5.0",
       "children": [
        "IPY_MODEL_8c0e62171ed742838e4f4b0d45739b28",
        "IPY_MODEL_1709639b79104ce4a58533cdc6f0a2fd"
       ],
       "layout": "IPY_MODEL_26387845e52645eb97e1edfc112d22b1"
      }
     },
     "e846acb368f841fea8b1d58e6bb4bcc6": {
      "model_module": "@jupyter-widgets/controls",
      "model_module_version": "1.5.0",
      "model_name": "FloatProgressModel",
      "state": {
       "_model_module_version": "1.5.0",
       "_view_module_version": "1.5.0",
       "bar_style": "success",
       "description": "Training: 100%",
       "layout": "IPY_MODEL_652529aa5cc74669a4b5d5e11050727a",
       "max": 1,
       "style": "IPY_MODEL_9884d293f5014228a099f1b4d1b315bb",
       "value": 1
      }
     },
     "e87dc9ec1f744c7f8c0dcad822b08fcb": {
      "model_module": "@jupyter-widgets/controls",
      "model_module_version": "1.5.0",
      "model_name": "HTMLModel",
      "state": {
       "_model_module_version": "1.5.0",
       "_view_module_version": "1.5.0",
       "layout": "IPY_MODEL_04e59de9d16f4d6ead40dc1cb2b70a23",
       "style": "IPY_MODEL_0f1b74b707854488b9f41b94b2bf3080",
       "value": " ETA: 00:00s - loss: 0.0940 - mse: 0.0940 - val_loss: 0.0600 - val_mse: 0.0600"
      }
     },
     "e90abf48b518435093f3d9882be09867": {
      "model_module": "@jupyter-widgets/controls",
      "model_module_version": "1.5.0",
      "model_name": "ProgressStyleModel",
      "state": {
       "_model_module_version": "1.5.0",
       "_view_module_version": "1.2.0",
       "description_width": "initial"
      }
     },
     "e976207e7bea4926b5eb1e9f0fdf9f84": {
      "model_module": "@jupyter-widgets/base",
      "model_module_version": "1.2.0",
      "model_name": "LayoutModel",
      "state": {
       "_model_module_version": "1.2.0",
       "_view_module_version": "1.2.0",
       "flex": "2",
       "justify_items": null,
       "object_fit": null,
       "object_position": null
      }
     },
     "e980d55252af44af9c93e9b5cf197a26": {
      "model_module": "@jupyter-widgets/base",
      "model_module_version": "1.2.0",
      "model_name": "LayoutModel",
      "state": {
       "_model_module_version": "1.2.0",
       "_view_module_version": "1.2.0",
       "justify_items": null,
       "object_fit": null,
       "object_position": null
      }
     },
     "e9d259fb56fc46e5b7598b23c8540286": {
      "model_module": "@jupyter-widgets/base",
      "model_module_version": "1.2.0",
      "model_name": "LayoutModel",
      "state": {
       "_model_module_version": "1.2.0",
       "_view_module_version": "1.2.0",
       "flex": "2",
       "justify_items": null,
       "object_fit": null,
       "object_position": null
      }
     },
     "e9eaa1d8545a4f5995499afb1a5c68a0": {
      "model_module": "@jupyter-widgets/controls",
      "model_module_version": "1.5.0",
      "model_name": "ProgressStyleModel",
      "state": {
       "_model_module_version": "1.5.0",
       "_view_module_version": "1.2.0",
       "description_width": "initial"
      }
     },
     "ea5b20bed8a846a7bfb4bf11568ecfd7": {
      "model_module": "@jupyter-widgets/controls",
      "model_module_version": "1.5.0",
      "model_name": "DescriptionStyleModel",
      "state": {
       "_model_module_version": "1.5.0",
       "_view_module_version": "1.2.0",
       "description_width": ""
      }
     },
     "ea619fea34ea45ab90b2f19b0e59e147": {
      "model_module": "@jupyter-widgets/controls",
      "model_module_version": "1.5.0",
      "model_name": "HTMLModel",
      "state": {
       "_model_module_version": "1.5.0",
       "_view_module_version": "1.5.0",
       "layout": "IPY_MODEL_769435ede52f4e7fb010ea450c5c18e1",
       "style": "IPY_MODEL_8c781a29af2240ef9b1d8bb59e7f8ede",
       "value": " ETA: 00:00s - loss: 0.1023 - mse: 0.1024"
      }
     },
     "ea6ef1f8a6e6488495032b10d58479c9": {
      "model_module": "@jupyter-widgets/controls",
      "model_module_version": "1.5.0",
      "model_name": "HBoxModel",
      "state": {
       "_model_module_version": "1.5.0",
       "_view_module_version": "1.5.0",
       "children": [
        "IPY_MODEL_8b4e862fbfac498383a35099c4d8f957",
        "IPY_MODEL_04f5b266bfcc4675ad0e2606ad6a0c99"
       ],
       "layout": "IPY_MODEL_3d027620263c4284bc7bce735b6bd2ab"
      }
     },
     "ea81d46d59984a7a963a31fa34b7c21d": {
      "model_module": "@jupyter-widgets/controls",
      "model_module_version": "1.5.0",
      "model_name": "FloatProgressModel",
      "state": {
       "_model_module_version": "1.5.0",
       "_view_module_version": "1.5.0",
       "bar_style": "success",
       "description": "2813/2813",
       "layout": "IPY_MODEL_fa459350998d4ca18dcbc1ea7a5dd6e1",
       "max": 2813,
       "style": "IPY_MODEL_f6ab9e30b4cb47989be2bd9f52937a68",
       "value": 2813
      }
     },
     "eaa632e0799a4e44889a0b3e085e6618": {
      "model_module": "@jupyter-widgets/controls",
      "model_module_version": "1.5.0",
      "model_name": "ProgressStyleModel",
      "state": {
       "_model_module_version": "1.5.0",
       "_view_module_version": "1.2.0",
       "description_width": "initial"
      }
     },
     "eb0f8d7da2964b6d880f98d0176d9e82": {
      "model_module": "@jupyter-widgets/controls",
      "model_module_version": "1.5.0",
      "model_name": "DescriptionStyleModel",
      "state": {
       "_model_module_version": "1.5.0",
       "_view_module_version": "1.2.0",
       "description_width": ""
      }
     },
     "eb7408d420f74506b63fb5f5118f471e": {
      "model_module": "@jupyter-widgets/controls",
      "model_module_version": "1.5.0",
      "model_name": "FloatProgressModel",
      "state": {
       "_model_module_version": "1.5.0",
       "_view_module_version": "1.5.0",
       "bar_style": "success",
       "description": "2813/2813",
       "layout": "IPY_MODEL_98c35c06a2d446a3bee5dd67c7e83420",
       "max": 2813,
       "style": "IPY_MODEL_f8900528d24a4fb8b389e7e0cd34af83",
       "value": 2813
      }
     },
     "ebb977e4097e49608ccaefc4580d68ae": {
      "model_module": "@jupyter-widgets/controls",
      "model_module_version": "1.5.0",
      "model_name": "HTMLModel",
      "state": {
       "_model_module_version": "1.5.0",
       "_view_module_version": "1.5.0",
       "layout": "IPY_MODEL_a0252084a2f048c2a25a8a947cf88a57",
       "style": "IPY_MODEL_ba59af7570734b27bcecdb07d6b599f6",
       "value": " 1/1 ETA: 00:00s,  342.68s/epochs"
      }
     },
     "ebe47dbeb3964628b6288a23ac686567": {
      "model_module": "@jupyter-widgets/base",
      "model_module_version": "1.2.0",
      "model_name": "LayoutModel",
      "state": {
       "_model_module_version": "1.2.0",
       "_view_module_version": "1.2.0",
       "flex": "2",
       "justify_items": null,
       "object_fit": null,
       "object_position": null
      }
     },
     "ec082582e2f942bebb291df389b25b86": {
      "model_module": "@jupyter-widgets/base",
      "model_module_version": "1.2.0",
      "model_name": "LayoutModel",
      "state": {
       "_model_module_version": "1.2.0",
       "_view_module_version": "1.2.0",
       "justify_items": null,
       "object_fit": null,
       "object_position": null
      }
     },
     "eca94fd7f54c46559f832f2aef9965b3": {
      "model_module": "@jupyter-widgets/base",
      "model_module_version": "1.2.0",
      "model_name": "LayoutModel",
      "state": {
       "_model_module_version": "1.2.0",
       "_view_module_version": "1.2.0",
       "justify_items": null,
       "object_fit": null,
       "object_position": null
      }
     },
     "ecf76be8a23a4ef699da0957b636f9f5": {
      "model_module": "@jupyter-widgets/controls",
      "model_module_version": "1.5.0",
      "model_name": "HBoxModel",
      "state": {
       "_model_module_version": "1.5.0",
       "_view_module_version": "1.5.0",
       "children": [
        "IPY_MODEL_6f49cc8cfec94b92862c95bb70cd0e76",
        "IPY_MODEL_3fdb1ba33c3049c28c6294bee7c44ef6"
       ],
       "layout": "IPY_MODEL_0e75fe13aab947dbb7e9bf02f3b2ee14"
      }
     },
     "ed6155732da74462b62fed5d787efec9": {
      "model_module": "@jupyter-widgets/controls",
      "model_module_version": "1.5.0",
      "model_name": "DescriptionStyleModel",
      "state": {
       "_model_module_version": "1.5.0",
       "_view_module_version": "1.2.0",
       "description_width": ""
      }
     },
     "ed726bebed4844d98811ba20da089f7c": {
      "model_module": "@jupyter-widgets/controls",
      "model_module_version": "1.5.0",
      "model_name": "HTMLModel",
      "state": {
       "_model_module_version": "1.5.0",
       "_view_module_version": "1.5.0",
       "layout": "IPY_MODEL_8abfd88f38944660acffa791d543c924",
       "style": "IPY_MODEL_97638a50e94f44b99353b36f8c336ec0",
       "value": " 1/1 ETA: 00:00s,  179.04s/epochs"
      }
     },
     "edef46aefc9e4033a04f28921e61a2e5": {
      "model_module": "@jupyter-widgets/base",
      "model_module_version": "1.2.0",
      "model_name": "LayoutModel",
      "state": {
       "_model_module_version": "1.2.0",
       "_view_module_version": "1.2.0",
       "justify_items": null,
       "object_fit": null,
       "object_position": null
      }
     },
     "ee9a3e45949e4eaf8e3c44e11c770b44": {
      "model_module": "@jupyter-widgets/controls",
      "model_module_version": "1.5.0",
      "model_name": "HTMLModel",
      "state": {
       "_model_module_version": "1.5.0",
       "_view_module_version": "1.5.0",
       "layout": "IPY_MODEL_aa15bdb8b732466da87050a0521e4074",
       "style": "IPY_MODEL_948c49ff53864559adb2c3f74d9ddd6f",
       "value": " 1/1 ETA: 00:00s,  1164.92s/epochs"
      }
     },
     "ee9b8312474742d2b2802d2ba800c366": {
      "model_module": "@jupyter-widgets/base",
      "model_module_version": "1.2.0",
      "model_name": "LayoutModel",
      "state": {
       "_model_module_version": "1.2.0",
       "_view_module_version": "1.2.0",
       "display": "inline-flex",
       "flex_flow": "row wrap",
       "justify_items": null,
       "object_fit": null,
       "object_position": null,
       "width": "100%"
      }
     },
     "eeb902c1df6a4929bb409acab8e26095": {
      "model_module": "@jupyter-widgets/controls",
      "model_module_version": "1.5.0",
      "model_name": "DescriptionStyleModel",
      "state": {
       "_model_module_version": "1.5.0",
       "_view_module_version": "1.2.0",
       "description_width": ""
      }
     },
     "eff8c47398334b3491440889bd9bad0c": {
      "model_module": "@jupyter-widgets/controls",
      "model_module_version": "1.5.0",
      "model_name": "HTMLModel",
      "state": {
       "_model_module_version": "1.5.0",
       "_view_module_version": "1.5.0",
       "layout": "IPY_MODEL_941e2428eba94fee928902875e5a6cd0",
       "style": "IPY_MODEL_828d4f71bb9b48a0bc8220e2fa7ca5b6",
       "value": " ETA: 00:00s - loss: 5.3534 - mse: 5.3534 - val_loss: 0.2540 - val_mse: 0.2539"
      }
     },
     "f0cb40f3c8ad4fe6ad5aa1188be16cc9": {
      "model_module": "@jupyter-widgets/controls",
      "model_module_version": "1.5.0",
      "model_name": "FloatProgressModel",
      "state": {
       "_model_module_version": "1.5.0",
       "_view_module_version": "1.5.0",
       "bar_style": "success",
       "description": "2813/2813",
       "layout": "IPY_MODEL_5db62b07333c4c8c8f93fab5d4f1b13b",
       "max": 2813,
       "style": "IPY_MODEL_544ebbe7a83648439e019ad656d0b245",
       "value": 2813
      }
     },
     "f0ea5ad0632d467c9a144faf6d2e255b": {
      "model_module": "@jupyter-widgets/controls",
      "model_module_version": "1.5.0",
      "model_name": "DescriptionStyleModel",
      "state": {
       "_model_module_version": "1.5.0",
       "_view_module_version": "1.2.0",
       "description_width": ""
      }
     },
     "f1d8d1ce78f24a108d15f89a4897276f": {
      "model_module": "@jupyter-widgets/base",
      "model_module_version": "1.2.0",
      "model_name": "LayoutModel",
      "state": {
       "_model_module_version": "1.2.0",
       "_view_module_version": "1.2.0",
       "display": "inline-flex",
       "flex_flow": "row wrap",
       "justify_items": null,
       "object_fit": null,
       "object_position": null,
       "width": "100%"
      }
     },
     "f2d8327bad9544b985f93f2bbcab175b": {
      "model_module": "@jupyter-widgets/controls",
      "model_module_version": "1.5.0",
      "model_name": "HBoxModel",
      "state": {
       "_model_module_version": "1.5.0",
       "_view_module_version": "1.5.0",
       "children": [
        "IPY_MODEL_f7a750423f584781bd6f357ef3b78c7a",
        "IPY_MODEL_e87dc9ec1f744c7f8c0dcad822b08fcb"
       ],
       "layout": "IPY_MODEL_c4b13bde75f74ffeab7c111666ccc3d3"
      }
     },
     "f56561b2d16f478bbdfb24dac4eeedf3": {
      "model_module": "@jupyter-widgets/base",
      "model_module_version": "1.2.0",
      "model_name": "LayoutModel",
      "state": {
       "_model_module_version": "1.2.0",
       "_view_module_version": "1.2.0",
       "flex": "2",
       "justify_items": null,
       "object_fit": null,
       "object_position": null
      }
     },
     "f6ab9e30b4cb47989be2bd9f52937a68": {
      "model_module": "@jupyter-widgets/controls",
      "model_module_version": "1.5.0",
      "model_name": "ProgressStyleModel",
      "state": {
       "_model_module_version": "1.5.0",
       "_view_module_version": "1.2.0",
       "description_width": "initial"
      }
     },
     "f7a750423f584781bd6f357ef3b78c7a": {
      "model_module": "@jupyter-widgets/controls",
      "model_module_version": "1.5.0",
      "model_name": "FloatProgressModel",
      "state": {
       "_model_module_version": "1.5.0",
       "_view_module_version": "1.5.0",
       "bar_style": "success",
       "description": "2813/2813",
       "layout": "IPY_MODEL_0fa207aaf3f446baac8139d94f2c1b5f",
       "max": 2813,
       "style": "IPY_MODEL_6538a2c77f774822beddf544948bc4f0",
       "value": 2813
      }
     },
     "f830df85a1814c8bb406b88be558aae3": {
      "model_module": "@jupyter-widgets/controls",
      "model_module_version": "1.5.0",
      "model_name": "FloatProgressModel",
      "state": {
       "_model_module_version": "1.5.0",
       "_view_module_version": "1.5.0",
       "bar_style": "success",
       "description": "Training: 100%",
       "layout": "IPY_MODEL_cbc6ad4e8483408382ef825c2d8951ec",
       "max": 1,
       "style": "IPY_MODEL_a12443d213c540a6b6a67ccf4567202a",
       "value": 1
      }
     },
     "f86dfbebcc714947ad8949374b84b81d": {
      "model_module": "@jupyter-widgets/base",
      "model_module_version": "1.2.0",
      "model_name": "LayoutModel",
      "state": {
       "_model_module_version": "1.2.0",
       "_view_module_version": "1.2.0",
       "flex": "2",
       "justify_items": null,
       "object_fit": null,
       "object_position": null
      }
     },
     "f8900528d24a4fb8b389e7e0cd34af83": {
      "model_module": "@jupyter-widgets/controls",
      "model_module_version": "1.5.0",
      "model_name": "ProgressStyleModel",
      "state": {
       "_model_module_version": "1.5.0",
       "_view_module_version": "1.2.0",
       "description_width": "initial"
      }
     },
     "f8b3905d1f3f4856a51bea603051e37e": {
      "model_module": "@jupyter-widgets/controls",
      "model_module_version": "1.5.0",
      "model_name": "HTMLModel",
      "state": {
       "_model_module_version": "1.5.0",
       "_view_module_version": "1.5.0",
       "layout": "IPY_MODEL_db3f9c938f9749aba2c6ae76250ccb9d",
       "style": "IPY_MODEL_ab8e59f3848e493785a269731c0986d3",
       "value": " ETA: 00:00s - loss: 0.1735 - mse: 0.1735"
      }
     },
     "f90f541246844fed87e324e722245dbf": {
      "model_module": "@jupyter-widgets/base",
      "model_module_version": "1.2.0",
      "model_name": "LayoutModel",
      "state": {
       "_model_module_version": "1.2.0",
       "_view_module_version": "1.2.0",
       "flex": "2",
       "justify_items": null,
       "object_fit": null,
       "object_position": null
      }
     },
     "f98485f4f13b47a9834aee0aecb301a8": {
      "model_module": "@jupyter-widgets/base",
      "model_module_version": "1.2.0",
      "model_name": "LayoutModel",
      "state": {
       "_model_module_version": "1.2.0",
       "_view_module_version": "1.2.0",
       "flex": "2",
       "justify_items": null,
       "object_fit": null,
       "object_position": null
      }
     },
     "f9c7c46c5ad54a5783f3ba83fa211e08": {
      "model_module": "@jupyter-widgets/controls",
      "model_module_version": "1.5.0",
      "model_name": "FloatProgressModel",
      "state": {
       "_model_module_version": "1.5.0",
       "_view_module_version": "1.5.0",
       "bar_style": "success",
       "description": "2813/2813",
       "layout": "IPY_MODEL_dd858ff827b54d82a9b8a07ddecda8d4",
       "max": 2813,
       "style": "IPY_MODEL_15ca832dda9b45108d83dc62eb076b7a",
       "value": 2813
      }
     },
     "f9c9366ec90e413583aa8466532e2e46": {
      "model_module": "@jupyter-widgets/controls",
      "model_module_version": "1.5.0",
      "model_name": "DescriptionStyleModel",
      "state": {
       "_model_module_version": "1.5.0",
       "_view_module_version": "1.2.0",
       "description_width": ""
      }
     },
     "fa459350998d4ca18dcbc1ea7a5dd6e1": {
      "model_module": "@jupyter-widgets/base",
      "model_module_version": "1.2.0",
      "model_name": "LayoutModel",
      "state": {
       "_model_module_version": "1.2.0",
       "_view_module_version": "1.2.0",
       "flex": "2",
       "justify_items": null,
       "object_fit": null,
       "object_position": null
      }
     },
     "fa52a4fe12ad4ad78424838d15dad45a": {
      "model_module": "@jupyter-widgets/controls",
      "model_module_version": "1.5.0",
      "model_name": "ProgressStyleModel",
      "state": {
       "_model_module_version": "1.5.0",
       "_view_module_version": "1.2.0",
       "description_width": "initial"
      }
     },
     "fa5984a6a95e4a089ef8251242f0f984": {
      "model_module": "@jupyter-widgets/controls",
      "model_module_version": "1.5.0",
      "model_name": "HBoxModel",
      "state": {
       "_model_module_version": "1.5.0",
       "_view_module_version": "1.5.0",
       "children": [
        "IPY_MODEL_bb652d0962934aedb46d2a71605fa973",
        "IPY_MODEL_c624aa12590741a09f4f6695f6218e8a"
       ],
       "layout": "IPY_MODEL_e48aa21621a14730a66bcefdb41c522c"
      }
     },
     "fae6591ae9e34eb3aae459db99f9862b": {
      "model_module": "@jupyter-widgets/controls",
      "model_module_version": "1.5.0",
      "model_name": "ProgressStyleModel",
      "state": {
       "_model_module_version": "1.5.0",
       "_view_module_version": "1.2.0",
       "description_width": "initial"
      }
     },
     "fb1965b7a45f425da59236642a755774": {
      "model_module": "@jupyter-widgets/controls",
      "model_module_version": "1.5.0",
      "model_name": "ProgressStyleModel",
      "state": {
       "_model_module_version": "1.5.0",
       "_view_module_version": "1.2.0",
       "description_width": "initial"
      }
     },
     "fb5f1b79ea3c4cbca029f7e3c52ce198": {
      "model_module": "@jupyter-widgets/base",
      "model_module_version": "1.2.0",
      "model_name": "LayoutModel",
      "state": {
       "_model_module_version": "1.2.0",
       "_view_module_version": "1.2.0",
       "justify_items": null,
       "object_fit": null,
       "object_position": null
      }
     },
     "fbd8a1454e4f405ebf743ddff1d849ab": {
      "model_module": "@jupyter-widgets/controls",
      "model_module_version": "1.5.0",
      "model_name": "HTMLModel",
      "state": {
       "_model_module_version": "1.5.0",
       "_view_module_version": "1.5.0",
       "layout": "IPY_MODEL_58d39e8aa96f45b6969acf1a389e2752",
       "style": "IPY_MODEL_3251089b6a934c1a8b94610ff0679132",
       "value": " ETA: 00:00s - loss: 0.0579 - mse: 0.0579 - val_loss: 0.0417 - val_mse: 0.0417"
      }
     },
     "fbe2ecd6fbed4f90ab6060a47d8e2b42": {
      "model_module": "@jupyter-widgets/controls",
      "model_module_version": "1.5.0",
      "model_name": "HBoxModel",
      "state": {
       "_model_module_version": "1.5.0",
       "_view_module_version": "1.5.0",
       "children": [
        "IPY_MODEL_9e0abec6590c499aaa928b396ba39c16",
        "IPY_MODEL_ebb977e4097e49608ccaefc4580d68ae"
       ],
       "layout": "IPY_MODEL_467fe565ed564a11ba54cd1230787220"
      }
     },
     "fe3d33f7f0764294af676ffb7a998bee": {
      "model_module": "@jupyter-widgets/controls",
      "model_module_version": "1.5.0",
      "model_name": "HTMLModel",
      "state": {
       "_model_module_version": "1.5.0",
       "_view_module_version": "1.5.0",
       "layout": "IPY_MODEL_2c8997bf38e14c3eadf7e472f2de3c33",
       "style": "IPY_MODEL_18ec1514b0cd482889a2c2e2a9119b61",
       "value": " ETA: 00:00s - loss: 0.0677 - mse: 0.0677 - val_loss: 0.0578 - val_mse: 0.0578"
      }
     },
     "feb1b1f815bc4bd59eb95bb5a970a366": {
      "model_module": "@jupyter-widgets/controls",
      "model_module_version": "1.5.0",
      "model_name": "HBoxModel",
      "state": {
       "_model_module_version": "1.5.0",
       "_view_module_version": "1.5.0",
       "children": [
        "IPY_MODEL_b78f20e3c0dc4151892683358a22de67",
        "IPY_MODEL_c0efe36bf0dd4771b6753ee73cd2e8ff"
       ],
       "layout": "IPY_MODEL_59fb22a20e26477fb7fe1d003db8ebec"
      }
     },
     "ff3e34e932514791982e0d48ee0a2dda": {
      "model_module": "@jupyter-widgets/controls",
      "model_module_version": "1.5.0",
      "model_name": "HBoxModel",
      "state": {
       "_model_module_version": "1.5.0",
       "_view_module_version": "1.5.0",
       "children": [
        "IPY_MODEL_f0cb40f3c8ad4fe6ad5aa1188be16cc9",
        "IPY_MODEL_a4e5ab334fdc4b839320e460b667c9d6"
       ],
       "layout": "IPY_MODEL_b74fea0848dd41c2a7e60d1fe0d6e4b3"
      }
     },
     "ff84c8699cd74545b43ac043f3bfe9d9": {
      "model_module": "@jupyter-widgets/controls",
      "model_module_version": "1.5.0",
      "model_name": "ProgressStyleModel",
      "state": {
       "_model_module_version": "1.5.0",
       "_view_module_version": "1.2.0",
       "description_width": "initial"
      }
     },
     "ffb93b2bfc804ba38ff9ed21d17d03a2": {
      "model_module": "@jupyter-widgets/base",
      "model_module_version": "1.2.0",
      "model_name": "LayoutModel",
      "state": {
       "_model_module_version": "1.2.0",
       "_view_module_version": "1.2.0",
       "justify_items": null,
       "object_fit": null,
       "object_position": null
      }
     }
    },
    "version_major": 2,
    "version_minor": 0
   }
  }
 },
 "nbformat": 4,
 "nbformat_minor": 1
}
