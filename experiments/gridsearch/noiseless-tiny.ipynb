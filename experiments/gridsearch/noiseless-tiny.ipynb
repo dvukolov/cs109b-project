{
 "cells": [
  {
   "cell_type": "markdown",
   "metadata": {},
   "source": [
    "# CNN for Regression from Noiseless Images to Labels\n",
    "\n",
    "## Stage 3: Training a Tiny Xception Model on the Full Dataset (200k Samples)"
   ]
  },
  {
   "cell_type": "code",
   "execution_count": 1,
   "metadata": {},
   "outputs": [],
   "source": [
    "import json\n",
    "from pprint import pprint\n",
    "import numpy as np\n",
    "from sklearn.preprocessing import MinMaxScaler\n",
    "\n",
    "import tensorflow as tf\n",
    "import tensorflow_addons as tfa\n",
    "\n",
    "%run xception.ipynb"
   ]
  },
  {
   "cell_type": "code",
   "execution_count": 2,
   "metadata": {},
   "outputs": [
    {
     "name": "stdout",
     "output_type": "stream",
     "text": [
      "Available variables: ['img', 'img_nonoise', 'label', 'psf_r', 'snr', 'sigma']\n"
     ]
    }
   ],
   "source": [
    "dataset = \"../../data/data_v1.npz\"\n",
    "\n",
    "with np.load(dataset) as data:\n",
    "    print(\"Available variables:\", data.files)\n",
    "    image = data[\"img_nonoise\"]\n",
    "    label = data[\"label\"]"
   ]
  },
  {
   "cell_type": "code",
   "execution_count": 3,
   "metadata": {},
   "outputs": [],
   "source": [
    "# Use unscaled images. Let TF normalize the data.\n",
    "X = image[..., np.newaxis]\n",
    "input_shape = X.shape[1:]\n",
    "\n",
    "# Scale the labels between -1 and 1 using the full dataset. We know the ranges of generated labels.\n",
    "scaler = MinMaxScaler(feature_range=(-1, 1))\n",
    "y = scaler.fit_transform(label)\n",
    "output_shape = y.shape[1:]"
   ]
  },
  {
   "cell_type": "code",
   "execution_count": 4,
   "metadata": {
    "scrolled": true
   },
   "outputs": [
    {
     "name": "stdout",
     "output_type": "stream",
     "text": [
      "Model: \"model\"\n",
      "__________________________________________________________________________________________________\n",
      "Layer (type)                    Output Shape         Param #     Connected to                     \n",
      "==================================================================================================\n",
      "input_1 (InputLayer)            [(None, 64, 64, 1)]  0                                            \n",
      "__________________________________________________________________________________________________\n",
      "normalization (Normalization)   (None, 64, 64, 1)    3           input_1[0][0]                    \n",
      "__________________________________________________________________________________________________\n",
      "conv2d (Conv2D)                 (None, 32, 32, 16)   416         normalization[0][0]              \n",
      "__________________________________________________________________________________________________\n",
      "separable_conv2d (SeparableConv (None, 32, 32, 64)   1232        conv2d[0][0]                     \n",
      "__________________________________________________________________________________________________\n",
      "separable_conv2d_1 (SeparableCo (None, 32, 32, 64)   4736        separable_conv2d[0][0]           \n",
      "__________________________________________________________________________________________________\n",
      "conv2d_1 (Conv2D)               (None, 32, 32, 64)   1088        conv2d[0][0]                     \n",
      "__________________________________________________________________________________________________\n",
      "add (Add)                       (None, 32, 32, 64)   0           separable_conv2d_1[0][0]         \n",
      "                                                                 conv2d_1[0][0]                   \n",
      "__________________________________________________________________________________________________\n",
      "separable_conv2d_2 (SeparableCo (None, 32, 32, 64)   4736        add[0][0]                        \n",
      "__________________________________________________________________________________________________\n",
      "separable_conv2d_3 (SeparableCo (None, 32, 32, 64)   4736        separable_conv2d_2[0][0]         \n",
      "__________________________________________________________________________________________________\n",
      "add_1 (Add)                     (None, 32, 32, 64)   0           separable_conv2d_3[0][0]         \n",
      "                                                                 add[0][0]                        \n",
      "__________________________________________________________________________________________________\n",
      "separable_conv2d_4 (SeparableCo (None, 32, 32, 64)   4736        add_1[0][0]                      \n",
      "__________________________________________________________________________________________________\n",
      "separable_conv2d_5 (SeparableCo (None, 32, 32, 64)   4736        separable_conv2d_4[0][0]         \n",
      "__________________________________________________________________________________________________\n",
      "add_2 (Add)                     (None, 32, 32, 64)   0           separable_conv2d_5[0][0]         \n",
      "                                                                 add_1[0][0]                      \n",
      "__________________________________________________________________________________________________\n",
      "separable_conv2d_6 (SeparableCo (None, 32, 32, 64)   4736        add_2[0][0]                      \n",
      "__________________________________________________________________________________________________\n",
      "separable_conv2d_7 (SeparableCo (None, 32, 32, 64)   4736        separable_conv2d_6[0][0]         \n",
      "__________________________________________________________________________________________________\n",
      "add_3 (Add)                     (None, 32, 32, 64)   0           separable_conv2d_7[0][0]         \n",
      "                                                                 add_2[0][0]                      \n",
      "__________________________________________________________________________________________________\n",
      "separable_conv2d_8 (SeparableCo (None, 32, 32, 64)   4736        add_3[0][0]                      \n",
      "__________________________________________________________________________________________________\n",
      "separable_conv2d_9 (SeparableCo (None, 32, 32, 64)   4736        separable_conv2d_8[0][0]         \n",
      "__________________________________________________________________________________________________\n",
      "add_4 (Add)                     (None, 32, 32, 64)   0           separable_conv2d_9[0][0]         \n",
      "                                                                 add_3[0][0]                      \n",
      "__________________________________________________________________________________________________\n",
      "separable_conv2d_10 (SeparableC (None, 32, 32, 64)   4736        add_4[0][0]                      \n",
      "__________________________________________________________________________________________________\n",
      "separable_conv2d_11 (SeparableC (None, 32, 32, 64)   4736        separable_conv2d_10[0][0]        \n",
      "__________________________________________________________________________________________________\n",
      "add_5 (Add)                     (None, 32, 32, 64)   0           separable_conv2d_11[0][0]        \n",
      "                                                                 add_4[0][0]                      \n",
      "__________________________________________________________________________________________________\n",
      "separable_conv2d_12 (SeparableC (None, 32, 32, 64)   4736        add_5[0][0]                      \n",
      "__________________________________________________________________________________________________\n",
      "separable_conv2d_13 (SeparableC (None, 32, 32, 64)   4736        separable_conv2d_12[0][0]        \n",
      "__________________________________________________________________________________________________\n",
      "add_6 (Add)                     (None, 32, 32, 64)   0           separable_conv2d_13[0][0]        \n",
      "                                                                 add_5[0][0]                      \n",
      "__________________________________________________________________________________________________\n",
      "separable_conv2d_14 (SeparableC (None, 32, 32, 64)   4736        add_6[0][0]                      \n",
      "__________________________________________________________________________________________________\n",
      "separable_conv2d_15 (SeparableC (None, 32, 32, 64)   4736        separable_conv2d_14[0][0]        \n",
      "__________________________________________________________________________________________________\n",
      "add_7 (Add)                     (None, 32, 32, 64)   0           separable_conv2d_15[0][0]        \n",
      "                                                                 add_6[0][0]                      \n",
      "__________________________________________________________________________________________________\n",
      "separable_conv2d_16 (SeparableC (None, 32, 32, 128)  8896        add_7[0][0]                      \n",
      "__________________________________________________________________________________________________\n",
      "separable_conv2d_17 (SeparableC (None, 32, 32, 128)  17664       separable_conv2d_16[0][0]        \n",
      "__________________________________________________________________________________________________\n",
      "max_pooling2d (MaxPooling2D)    (None, 16, 16, 128)  0           separable_conv2d_17[0][0]        \n",
      "__________________________________________________________________________________________________\n",
      "conv2d_2 (Conv2D)               (None, 16, 16, 128)  8320        add_7[0][0]                      \n",
      "__________________________________________________________________________________________________\n",
      "add_8 (Add)                     (None, 16, 16, 128)  0           max_pooling2d[0][0]              \n",
      "                                                                 conv2d_2[0][0]                   \n",
      "__________________________________________________________________________________________________\n",
      "global_average_pooling2d (Globa (None, 128)          0           add_8[0][0]                      \n",
      "__________________________________________________________________________________________________\n",
      "dense (Dense)                   (None, 5)            645         global_average_pooling2d[0][0]   \n",
      "==================================================================================================\n",
      "Total params: 109,304\n",
      "Trainable params: 109,301\n",
      "Non-trainable params: 3\n",
      "__________________________________________________________________________________________________\n"
     ]
    }
   ],
   "source": [
    "# Build a small Xception model. SeparableConv2D layers form Xception blocks.\n",
    "model = build_xception_model(\n",
    "    input_shape, output_shape, conv2d_num_filters=16, sep_num_filters=64, num_residual_blocks=8\n",
    ")\n",
    "model.summary()"
   ]
  },
  {
   "cell_type": "code",
   "execution_count": 5,
   "metadata": {},
   "outputs": [
    {
     "data": {
      "application/vnd.jupyter.widget-view+json": {
       "model_id": "01e6ec95e6834d2c8764bc0106b9ada3",
       "version_major": 2,
       "version_minor": 0
      },
      "text/plain": [
       "HBox(children=(FloatProgress(value=0.0, description='Training', layout=Layout(flex='2'), style=ProgressStyle(d…"
      ]
     },
     "metadata": {},
     "output_type": "display_data"
    },
    {
     "name": "stdout",
     "output_type": "stream",
     "text": [
      "Epoch 1/100\n"
     ]
    },
    {
     "data": {
      "application/vnd.jupyter.widget-view+json": {
       "model_id": "caec96b3525146eb8cbae2b13590099b",
       "version_major": 2,
       "version_minor": 0
      },
      "text/plain": [
       "HBox(children=(FloatProgress(value=0.0, layout=Layout(flex='2'), max=5625.0), HTML(value='')), layout=Layout(d…"
      ]
     },
     "metadata": {},
     "output_type": "display_data"
    },
    {
     "name": "stdout",
     "output_type": "stream",
     "text": [
      "\n",
      "WARNING:tensorflow:From /usr/share/anaconda3/envs/tf21/lib/python3.7/site-packages/tensorflow_core/python/ops/resource_variable_ops.py:1786: calling BaseResourceVariable.__init__ (from tensorflow.python.ops.resource_variable_ops) with constraint is deprecated and will be removed in a future version.\n",
      "Instructions for updating:\n",
      "If using Keras pass *_constraint arguments to layers.\n",
      "INFO:tensorflow:Assets written to: noiseless-checkpoint.tf/assets\n",
      "Epoch 2/100\n"
     ]
    },
    {
     "data": {
      "application/vnd.jupyter.widget-view+json": {
       "model_id": "a2043bd56e6e4eecbde8c65c169ecf32",
       "version_major": 2,
       "version_minor": 0
      },
      "text/plain": [
       "HBox(children=(FloatProgress(value=0.0, layout=Layout(flex='2'), max=5625.0), HTML(value='')), layout=Layout(d…"
      ]
     },
     "metadata": {},
     "output_type": "display_data"
    },
    {
     "name": "stdout",
     "output_type": "stream",
     "text": [
      "\n",
      "INFO:tensorflow:Assets written to: noiseless-checkpoint.tf/assets\n",
      "Epoch 3/100\n"
     ]
    },
    {
     "data": {
      "application/vnd.jupyter.widget-view+json": {
       "model_id": "50e05f65367a480faf3fe37389341eef",
       "version_major": 2,
       "version_minor": 0
      },
      "text/plain": [
       "HBox(children=(FloatProgress(value=0.0, layout=Layout(flex='2'), max=5625.0), HTML(value='')), layout=Layout(d…"
      ]
     },
     "metadata": {},
     "output_type": "display_data"
    },
    {
     "name": "stdout",
     "output_type": "stream",
     "text": [
      "\n",
      "INFO:tensorflow:Assets written to: noiseless-checkpoint.tf/assets\n",
      "Epoch 4/100\n"
     ]
    },
    {
     "data": {
      "application/vnd.jupyter.widget-view+json": {
       "model_id": "812bfb57aef84864a7892c0e6d919597",
       "version_major": 2,
       "version_minor": 0
      },
      "text/plain": [
       "HBox(children=(FloatProgress(value=0.0, layout=Layout(flex='2'), max=5625.0), HTML(value='')), layout=Layout(d…"
      ]
     },
     "metadata": {},
     "output_type": "display_data"
    },
    {
     "name": "stdout",
     "output_type": "stream",
     "text": [
      "\n",
      "INFO:tensorflow:Assets written to: noiseless-checkpoint.tf/assets\n",
      "Epoch 5/100\n"
     ]
    },
    {
     "data": {
      "application/vnd.jupyter.widget-view+json": {
       "model_id": "a0eafd7a94b6416498bc3031e7cb7e5f",
       "version_major": 2,
       "version_minor": 0
      },
      "text/plain": [
       "HBox(children=(FloatProgress(value=0.0, layout=Layout(flex='2'), max=5625.0), HTML(value='')), layout=Layout(d…"
      ]
     },
     "metadata": {},
     "output_type": "display_data"
    },
    {
     "name": "stdout",
     "output_type": "stream",
     "text": [
      "\n",
      "Epoch 6/100\n"
     ]
    },
    {
     "data": {
      "application/vnd.jupyter.widget-view+json": {
       "model_id": "714089d8a34c411bada380a3f41d8447",
       "version_major": 2,
       "version_minor": 0
      },
      "text/plain": [
       "HBox(children=(FloatProgress(value=0.0, layout=Layout(flex='2'), max=5625.0), HTML(value='')), layout=Layout(d…"
      ]
     },
     "metadata": {},
     "output_type": "display_data"
    },
    {
     "name": "stdout",
     "output_type": "stream",
     "text": [
      "\n",
      "INFO:tensorflow:Assets written to: noiseless-checkpoint.tf/assets\n",
      "Epoch 7/100\n"
     ]
    },
    {
     "data": {
      "application/vnd.jupyter.widget-view+json": {
       "model_id": "3e0c1d4d25134f9bb56433a4973c0aea",
       "version_major": 2,
       "version_minor": 0
      },
      "text/plain": [
       "HBox(children=(FloatProgress(value=0.0, layout=Layout(flex='2'), max=5625.0), HTML(value='')), layout=Layout(d…"
      ]
     },
     "metadata": {},
     "output_type": "display_data"
    },
    {
     "name": "stdout",
     "output_type": "stream",
     "text": [
      "\n",
      "Epoch 8/100\n"
     ]
    },
    {
     "data": {
      "application/vnd.jupyter.widget-view+json": {
       "model_id": "0b88b99f22984a0b9fef699da7911bdd",
       "version_major": 2,
       "version_minor": 0
      },
      "text/plain": [
       "HBox(children=(FloatProgress(value=0.0, layout=Layout(flex='2'), max=5625.0), HTML(value='')), layout=Layout(d…"
      ]
     },
     "metadata": {},
     "output_type": "display_data"
    },
    {
     "name": "stdout",
     "output_type": "stream",
     "text": [
      "\n",
      "Epoch 9/100\n"
     ]
    },
    {
     "data": {
      "application/vnd.jupyter.widget-view+json": {
       "model_id": "f891ef31df694067bea9bc2419dc31a8",
       "version_major": 2,
       "version_minor": 0
      },
      "text/plain": [
       "HBox(children=(FloatProgress(value=0.0, layout=Layout(flex='2'), max=5625.0), HTML(value='')), layout=Layout(d…"
      ]
     },
     "metadata": {},
     "output_type": "display_data"
    },
    {
     "name": "stdout",
     "output_type": "stream",
     "text": [
      "\n",
      "Epoch 10/100\n"
     ]
    },
    {
     "data": {
      "application/vnd.jupyter.widget-view+json": {
       "model_id": "5bcc54cbad5e426da7eff2d64e1143f0",
       "version_major": 2,
       "version_minor": 0
      },
      "text/plain": [
       "HBox(children=(FloatProgress(value=0.0, layout=Layout(flex='2'), max=5625.0), HTML(value='')), layout=Layout(d…"
      ]
     },
     "metadata": {},
     "output_type": "display_data"
    },
    {
     "name": "stdout",
     "output_type": "stream",
     "text": [
      "\n",
      "Epoch 11/100\n"
     ]
    },
    {
     "data": {
      "application/vnd.jupyter.widget-view+json": {
       "model_id": "9afb86472b034531a95d6bc3f704dfd2",
       "version_major": 2,
       "version_minor": 0
      },
      "text/plain": [
       "HBox(children=(FloatProgress(value=0.0, layout=Layout(flex='2'), max=5625.0), HTML(value='')), layout=Layout(d…"
      ]
     },
     "metadata": {},
     "output_type": "display_data"
    },
    {
     "name": "stdout",
     "output_type": "stream",
     "text": [
      "\n",
      "INFO:tensorflow:Assets written to: noiseless-checkpoint.tf/assets\n",
      "Epoch 12/100\n"
     ]
    },
    {
     "data": {
      "application/vnd.jupyter.widget-view+json": {
       "model_id": "b15b1476ea3f4903b60f8e005c7ea9bd",
       "version_major": 2,
       "version_minor": 0
      },
      "text/plain": [
       "HBox(children=(FloatProgress(value=0.0, layout=Layout(flex='2'), max=5625.0), HTML(value='')), layout=Layout(d…"
      ]
     },
     "metadata": {},
     "output_type": "display_data"
    },
    {
     "name": "stdout",
     "output_type": "stream",
     "text": [
      "\n",
      "Epoch 13/100\n"
     ]
    },
    {
     "data": {
      "application/vnd.jupyter.widget-view+json": {
       "model_id": "d14cbb7761c54b78bae5795f9b51d93c",
       "version_major": 2,
       "version_minor": 0
      },
      "text/plain": [
       "HBox(children=(FloatProgress(value=0.0, layout=Layout(flex='2'), max=5625.0), HTML(value='')), layout=Layout(d…"
      ]
     },
     "metadata": {},
     "output_type": "display_data"
    },
    {
     "name": "stdout",
     "output_type": "stream",
     "text": [
      "\n",
      "INFO:tensorflow:Assets written to: noiseless-checkpoint.tf/assets\n",
      "Epoch 14/100\n"
     ]
    },
    {
     "data": {
      "application/vnd.jupyter.widget-view+json": {
       "model_id": "211b7e31eea9499697106d7ab55fd5fe",
       "version_major": 2,
       "version_minor": 0
      },
      "text/plain": [
       "HBox(children=(FloatProgress(value=0.0, layout=Layout(flex='2'), max=5625.0), HTML(value='')), layout=Layout(d…"
      ]
     },
     "metadata": {},
     "output_type": "display_data"
    },
    {
     "name": "stdout",
     "output_type": "stream",
     "text": [
      "\n",
      "INFO:tensorflow:Assets written to: noiseless-checkpoint.tf/assets\n",
      "Epoch 15/100\n"
     ]
    },
    {
     "data": {
      "application/vnd.jupyter.widget-view+json": {
       "model_id": "8177de3beb124090bbe662a725b9d263",
       "version_major": 2,
       "version_minor": 0
      },
      "text/plain": [
       "HBox(children=(FloatProgress(value=0.0, layout=Layout(flex='2'), max=5625.0), HTML(value='')), layout=Layout(d…"
      ]
     },
     "metadata": {},
     "output_type": "display_data"
    },
    {
     "name": "stdout",
     "output_type": "stream",
     "text": [
      "\n",
      "Epoch 16/100\n"
     ]
    },
    {
     "data": {
      "application/vnd.jupyter.widget-view+json": {
       "model_id": "83ecdce4a5fa479e97addab8c5c8e104",
       "version_major": 2,
       "version_minor": 0
      },
      "text/plain": [
       "HBox(children=(FloatProgress(value=0.0, layout=Layout(flex='2'), max=5625.0), HTML(value='')), layout=Layout(d…"
      ]
     },
     "metadata": {},
     "output_type": "display_data"
    },
    {
     "name": "stdout",
     "output_type": "stream",
     "text": [
      "\n",
      "Epoch 17/100\n"
     ]
    },
    {
     "data": {
      "application/vnd.jupyter.widget-view+json": {
       "model_id": "65ee0988b9ed4e1c92fcbe1fe323b6e0",
       "version_major": 2,
       "version_minor": 0
      },
      "text/plain": [
       "HBox(children=(FloatProgress(value=0.0, layout=Layout(flex='2'), max=5625.0), HTML(value='')), layout=Layout(d…"
      ]
     },
     "metadata": {},
     "output_type": "display_data"
    },
    {
     "name": "stdout",
     "output_type": "stream",
     "text": [
      "\n",
      "Epoch 18/100\n"
     ]
    },
    {
     "data": {
      "application/vnd.jupyter.widget-view+json": {
       "model_id": "d0d3716e897d4c7fa6b1e21e18d7f7a1",
       "version_major": 2,
       "version_minor": 0
      },
      "text/plain": [
       "HBox(children=(FloatProgress(value=0.0, layout=Layout(flex='2'), max=5625.0), HTML(value='')), layout=Layout(d…"
      ]
     },
     "metadata": {},
     "output_type": "display_data"
    },
    {
     "name": "stdout",
     "output_type": "stream",
     "text": [
      "\n",
      "INFO:tensorflow:Assets written to: noiseless-checkpoint.tf/assets\n",
      "Epoch 19/100\n"
     ]
    },
    {
     "data": {
      "application/vnd.jupyter.widget-view+json": {
       "model_id": "1827e0da697e41519355b1cdd2ee9b35",
       "version_major": 2,
       "version_minor": 0
      },
      "text/plain": [
       "HBox(children=(FloatProgress(value=0.0, layout=Layout(flex='2'), max=5625.0), HTML(value='')), layout=Layout(d…"
      ]
     },
     "metadata": {},
     "output_type": "display_data"
    },
    {
     "name": "stdout",
     "output_type": "stream",
     "text": [
      "\n",
      "Epoch 20/100\n"
     ]
    },
    {
     "data": {
      "application/vnd.jupyter.widget-view+json": {
       "model_id": "0887971033a24c40a67d3df4833ad0b0",
       "version_major": 2,
       "version_minor": 0
      },
      "text/plain": [
       "HBox(children=(FloatProgress(value=0.0, layout=Layout(flex='2'), max=5625.0), HTML(value='')), layout=Layout(d…"
      ]
     },
     "metadata": {},
     "output_type": "display_data"
    },
    {
     "name": "stdout",
     "output_type": "stream",
     "text": [
      "\n",
      "Epoch 21/100\n"
     ]
    },
    {
     "data": {
      "application/vnd.jupyter.widget-view+json": {
       "model_id": "5983e2de14724bd5b80a35340ab2f0aa",
       "version_major": 2,
       "version_minor": 0
      },
      "text/plain": [
       "HBox(children=(FloatProgress(value=0.0, layout=Layout(flex='2'), max=5625.0), HTML(value='')), layout=Layout(d…"
      ]
     },
     "metadata": {},
     "output_type": "display_data"
    },
    {
     "name": "stdout",
     "output_type": "stream",
     "text": [
      "\n",
      "Epoch 22/100\n"
     ]
    },
    {
     "data": {
      "application/vnd.jupyter.widget-view+json": {
       "model_id": "1561f3e33251430ebca65e6f500bac66",
       "version_major": 2,
       "version_minor": 0
      },
      "text/plain": [
       "HBox(children=(FloatProgress(value=0.0, layout=Layout(flex='2'), max=5625.0), HTML(value='')), layout=Layout(d…"
      ]
     },
     "metadata": {},
     "output_type": "display_data"
    },
    {
     "name": "stdout",
     "output_type": "stream",
     "text": [
      "\n",
      "INFO:tensorflow:Assets written to: noiseless-checkpoint.tf/assets\n",
      "Epoch 23/100\n"
     ]
    },
    {
     "data": {
      "application/vnd.jupyter.widget-view+json": {
       "model_id": "d9374b71d2d04f9b8941ddb077df662d",
       "version_major": 2,
       "version_minor": 0
      },
      "text/plain": [
       "HBox(children=(FloatProgress(value=0.0, layout=Layout(flex='2'), max=5625.0), HTML(value='')), layout=Layout(d…"
      ]
     },
     "metadata": {},
     "output_type": "display_data"
    },
    {
     "name": "stdout",
     "output_type": "stream",
     "text": [
      "\n",
      "Epoch 24/100\n"
     ]
    },
    {
     "data": {
      "application/vnd.jupyter.widget-view+json": {
       "model_id": "6c8373523390436ab1f94e6c59cd71e2",
       "version_major": 2,
       "version_minor": 0
      },
      "text/plain": [
       "HBox(children=(FloatProgress(value=0.0, layout=Layout(flex='2'), max=5625.0), HTML(value='')), layout=Layout(d…"
      ]
     },
     "metadata": {},
     "output_type": "display_data"
    },
    {
     "name": "stdout",
     "output_type": "stream",
     "text": [
      "\n",
      "Epoch 25/100\n"
     ]
    },
    {
     "data": {
      "application/vnd.jupyter.widget-view+json": {
       "model_id": "3dad56549eb049628cd73863353c5b99",
       "version_major": 2,
       "version_minor": 0
      },
      "text/plain": [
       "HBox(children=(FloatProgress(value=0.0, layout=Layout(flex='2'), max=5625.0), HTML(value='')), layout=Layout(d…"
      ]
     },
     "metadata": {},
     "output_type": "display_data"
    },
    {
     "name": "stdout",
     "output_type": "stream",
     "text": [
      "\n",
      "Epoch 26/100\n"
     ]
    },
    {
     "data": {
      "application/vnd.jupyter.widget-view+json": {
       "model_id": "57ca504152274ff390f10b20915f842d",
       "version_major": 2,
       "version_minor": 0
      },
      "text/plain": [
       "HBox(children=(FloatProgress(value=0.0, layout=Layout(flex='2'), max=5625.0), HTML(value='')), layout=Layout(d…"
      ]
     },
     "metadata": {},
     "output_type": "display_data"
    },
    {
     "name": "stdout",
     "output_type": "stream",
     "text": [
      "\n",
      "Epoch 27/100\n"
     ]
    },
    {
     "data": {
      "application/vnd.jupyter.widget-view+json": {
       "model_id": "986027b119394248ac8488fa198d6ab0",
       "version_major": 2,
       "version_minor": 0
      },
      "text/plain": [
       "HBox(children=(FloatProgress(value=0.0, layout=Layout(flex='2'), max=5625.0), HTML(value='')), layout=Layout(d…"
      ]
     },
     "metadata": {},
     "output_type": "display_data"
    },
    {
     "name": "stdout",
     "output_type": "stream",
     "text": [
      "\n",
      "\n"
     ]
    }
   ],
   "source": [
    "# Configure the model\n",
    "model.compile(optimizer=\"adam\", loss=\"mse\")\n",
    "\n",
    "# Setup callbacks. TQDM is used due to issues with the default progress bar on my TF2.1 installation.\n",
    "early_stopping = tf.keras.callbacks.EarlyStopping(patience=5, restore_best_weights=True)\n",
    "tqdm_callback = tfa.callbacks.TQDMProgressBar()\n",
    "checkpoint = tf.keras.callbacks.ModelCheckpoint(\"noiseless-checkpoint.tf\", save_best_only=True)\n",
    "\n",
    "# Adapt the normalization layer to the data\n",
    "adapt_model(model, X)\n",
    "# Train the best model on the full dataset\n",
    "history = model.fit(\n",
    "    X,\n",
    "    y,\n",
    "    batch_size=32,\n",
    "    epochs=100,\n",
    "    validation_split=0.1,\n",
    "    verbose=0,\n",
    "    callbacks=[early_stopping, tqdm_callback, checkpoint],\n",
    ")"
   ]
  },
  {
   "cell_type": "code",
   "execution_count": 9,
   "metadata": {},
   "outputs": [
    {
     "name": "stdout",
     "output_type": "stream",
     "text": [
      "INFO:tensorflow:Assets written to: noiseless_tiny_200k.tf/assets\n"
     ]
    }
   ],
   "source": [
    "# Save the fully trained model\n",
    "model.save(\"noiseless_tiny_200k.tf\")"
   ]
  },
  {
   "cell_type": "code",
   "execution_count": 4,
   "metadata": {},
   "outputs": [],
   "source": [
    "# Optionally: reload the saved model\n",
    "model = tf.keras.models.load_model(\"noiseless_tiny_200k.tf\")"
   ]
  },
  {
   "cell_type": "code",
   "execution_count": 6,
   "metadata": {},
   "outputs": [
    {
     "data": {
      "text/plain": [
       "array([383.31216   ,   0.02920323,   0.00223816,   0.00404614,\n",
       "         0.00360098], dtype=float32)"
      ]
     },
     "execution_count": 6,
     "metadata": {},
     "output_type": "execute_result"
    }
   ],
   "source": [
    "# Evaluate the model on the validation set\n",
    "n_train = int(label.shape[0] * 0.9)\n",
    "X_val = X[n_train:]\n",
    "label_val = label[n_train:]\n",
    "\n",
    "# Predict the labels and convert them to the original scale\n",
    "predictions = model.predict(X_val)\n",
    "predictions = scaler.inverse_transform(predictions)\n",
    "\n",
    "# Compute RMSE for each label individually\n",
    "np.set_printoptions(suppress=True)\n",
    "rmse = np.sqrt(((label_val - predictions)**2).mean(axis=0))\n",
    "rmse"
   ]
  },
  {
   "cell_type": "code",
   "execution_count": 7,
   "metadata": {},
   "outputs": [
    {
     "data": {
      "text/plain": [
       "array([48742.957     ,     1.5922561 ,     0.14061895,     0.2791248 ,\n",
       "           0.27738345], dtype=float32)"
      ]
     },
     "execution_count": 7,
     "metadata": {},
     "output_type": "execute_result"
    }
   ],
   "source": [
    "# Show the standard deviations of the labels for comparison\n",
    "label_val.std(axis=0)"
   ]
  },
  {
   "cell_type": "code",
   "execution_count": 8,
   "metadata": {},
   "outputs": [
    {
     "data": {
      "text/plain": [
       "array([0.00786395, 0.01834079, 0.01591651, 0.0144958 , 0.01298194],\n",
       "      dtype=float32)"
      ]
     },
     "execution_count": 8,
     "metadata": {},
     "output_type": "execute_result"
    }
   ],
   "source": [
    "# RMSE / std. dev\n",
    "rmse / label_val.std(axis=0)"
   ]
  }
 ],
 "metadata": {
  "kernelspec": {
   "display_name": "Python (TF2.1)",
   "language": "python",
   "name": "tf21"
  },
  "language_info": {
   "codemirror_mode": {
    "name": "ipython",
    "version": 3
   },
   "file_extension": ".py",
   "mimetype": "text/x-python",
   "name": "python",
   "nbconvert_exporter": "python",
   "pygments_lexer": "ipython3",
   "version": "3.7.6"
  },
  "widgets": {
   "application/vnd.jupyter.widget-state+json": {
    "state": {
     "001d55903b6e49be8ee3e7f387d44b0a": {
      "model_module": "@jupyter-widgets/controls",
      "model_module_version": "1.5.0",
      "model_name": "DescriptionStyleModel",
      "state": {
       "_model_module_version": "1.5.0",
       "_view_module_version": "1.2.0",
       "description_width": ""
      }
     },
     "002c6b304efa437d9daaebbf9a2e67e9": {
      "model_module": "@jupyter-widgets/controls",
      "model_module_version": "1.5.0",
      "model_name": "HBoxModel",
      "state": {
       "_model_module_version": "1.5.0",
       "_view_module_version": "1.5.0",
       "children": [
        "IPY_MODEL_c755500c7ce24a9abfa4de9e949a15f4",
        "IPY_MODEL_b54281dec6bb46d88bbb229bd1e38a96"
       ],
       "layout": "IPY_MODEL_03120c869aba4c4aaa56d2a4b7ceb28f"
      }
     },
     "00b070df85bb4bbca034af91a5e73c1d": {
      "model_module": "@jupyter-widgets/base",
      "model_module_version": "1.2.0",
      "model_name": "LayoutModel",
      "state": {
       "_model_module_version": "1.2.0",
       "_view_module_version": "1.2.0",
       "flex": "2",
       "justify_items": null,
       "object_fit": null,
       "object_position": null
      }
     },
     "00c29b68ac954f858984a4a103dbd87a": {
      "model_module": "@jupyter-widgets/controls",
      "model_module_version": "1.5.0",
      "model_name": "FloatProgressModel",
      "state": {
       "_model_module_version": "1.5.0",
       "_view_module_version": "1.5.0",
       "bar_style": "success",
       "description": "5625/5625",
       "layout": "IPY_MODEL_4fab34c12ec54a33b3159db9536359ae",
       "max": 5625,
       "style": "IPY_MODEL_d8f16404763845f4862fac686f4e1248",
       "value": 5625
      }
     },
     "00e6005565274da9a3075dfc395f5ea2": {
      "model_module": "@jupyter-widgets/controls",
      "model_module_version": "1.5.0",
      "model_name": "ProgressStyleModel",
      "state": {
       "_model_module_version": "1.5.0",
       "_view_module_version": "1.2.0",
       "description_width": "initial"
      }
     },
     "011e501c75924b47b98a0204712becdf": {
      "model_module": "@jupyter-widgets/base",
      "model_module_version": "1.2.0",
      "model_name": "LayoutModel",
      "state": {
       "_model_module_version": "1.2.0",
       "_view_module_version": "1.2.0",
       "justify_items": null,
       "object_fit": null,
       "object_position": null
      }
     },
     "011ff52bf9b5434e81a487d02ef3cf94": {
      "model_module": "@jupyter-widgets/controls",
      "model_module_version": "1.5.0",
      "model_name": "FloatProgressModel",
      "state": {
       "_model_module_version": "1.5.0",
       "_view_module_version": "1.5.0",
       "bar_style": "success",
       "description": "5625/5625",
       "layout": "IPY_MODEL_8fd1311c82b14969a1f74c08c99c0931",
       "max": 5625,
       "style": "IPY_MODEL_a8ed59e241fd4595b179ac5104e9468c",
       "value": 5625
      }
     },
     "013ee009534f45c8ab4383b36c63285b": {
      "model_module": "@jupyter-widgets/base",
      "model_module_version": "1.2.0",
      "model_name": "LayoutModel",
      "state": {
       "_model_module_version": "1.2.0",
       "_view_module_version": "1.2.0",
       "display": "inline-flex",
       "flex_flow": "row wrap",
       "justify_items": null,
       "object_fit": null,
       "object_position": null,
       "width": "100%"
      }
     },
     "0171dfb5be3849a5a87e93e0a0026e18": {
      "model_module": "@jupyter-widgets/controls",
      "model_module_version": "1.5.0",
      "model_name": "HBoxModel",
      "state": {
       "_model_module_version": "1.5.0",
       "_view_module_version": "1.5.0",
       "children": [
        "IPY_MODEL_88796e58c58b4cf9a3db57d0386af695",
        "IPY_MODEL_5fe534427c124ebb9c1ebe5fe127ece3"
       ],
       "layout": "IPY_MODEL_bddf30f3be5e4402832cb40ea36dc1b3"
      }
     },
     "01e6ec95e6834d2c8764bc0106b9ada3": {
      "model_module": "@jupyter-widgets/controls",
      "model_module_version": "1.5.0",
      "model_name": "HBoxModel",
      "state": {
       "_model_module_version": "1.5.0",
       "_view_module_version": "1.5.0",
       "children": [
        "IPY_MODEL_a0e9b870ca874b5ea0d2e50413dcab11",
        "IPY_MODEL_18e4e29c863f42709e38fce424e6b1e7"
       ],
       "layout": "IPY_MODEL_5fa78391d9d946f8b20683dbb8b1bdf8"
      }
     },
     "028b4852e7e1428aaddb1e4cc3af21c8": {
      "model_module": "@jupyter-widgets/controls",
      "model_module_version": "1.5.0",
      "model_name": "HTMLModel",
      "state": {
       "_model_module_version": "1.5.0",
       "_view_module_version": "1.5.0",
       "layout": "IPY_MODEL_73f23b16f5c34fb3b2606036760ba546",
       "style": "IPY_MODEL_08f80b744237475cb1f568040bbb076e",
       "value": " 1/100 ETA: 35:00s,  21.22s/epochs"
      }
     },
     "028f7b1ec77c4c2d815a0772fdac207b": {
      "model_module": "@jupyter-widgets/base",
      "model_module_version": "1.2.0",
      "model_name": "LayoutModel",
      "state": {
       "_model_module_version": "1.2.0",
       "_view_module_version": "1.2.0",
       "justify_items": null,
       "object_fit": null,
       "object_position": null
      }
     },
     "02d266bb021149e19fa4a995ec16eb27": {
      "model_module": "@jupyter-widgets/controls",
      "model_module_version": "1.5.0",
      "model_name": "ProgressStyleModel",
      "state": {
       "_model_module_version": "1.5.0",
       "_view_module_version": "1.2.0",
       "description_width": "initial"
      }
     },
     "03120c869aba4c4aaa56d2a4b7ceb28f": {
      "model_module": "@jupyter-widgets/base",
      "model_module_version": "1.2.0",
      "model_name": "LayoutModel",
      "state": {
       "_model_module_version": "1.2.0",
       "_view_module_version": "1.2.0",
       "display": "inline-flex",
       "flex_flow": "row wrap",
       "justify_items": null,
       "object_fit": null,
       "object_position": null,
       "width": "100%"
      }
     },
     "031a269482fb48d78f6c81f6f97d431c": {
      "model_module": "@jupyter-widgets/base",
      "model_module_version": "1.2.0",
      "model_name": "LayoutModel",
      "state": {
       "_model_module_version": "1.2.0",
       "_view_module_version": "1.2.0",
       "flex": "2",
       "justify_items": null,
       "object_fit": null,
       "object_position": null
      }
     },
     "031e64bf2cb3402e836206b03391f2da": {
      "model_module": "@jupyter-widgets/controls",
      "model_module_version": "1.5.0",
      "model_name": "HTMLModel",
      "state": {
       "_model_module_version": "1.5.0",
       "_view_module_version": "1.5.0",
       "layout": "IPY_MODEL_d61c95f0a3e94071b8bdd3d2ce153290",
       "style": "IPY_MODEL_2852999c97244ee68e9339c45a62bf9b",
       "value": " 3/100 ETA: 6:27:10s,  239.49s/epochs"
      }
     },
     "03312e1ee25f4815a2b7ba3201c77cb6": {
      "model_module": "@jupyter-widgets/controls",
      "model_module_version": "1.5.0",
      "model_name": "ProgressStyleModel",
      "state": {
       "_model_module_version": "1.5.0",
       "_view_module_version": "1.2.0",
       "description_width": "initial"
      }
     },
     "03bafe6c9278455ba25d81f01a5a6b7a": {
      "model_module": "@jupyter-widgets/base",
      "model_module_version": "1.2.0",
      "model_name": "LayoutModel",
      "state": {
       "_model_module_version": "1.2.0",
       "_view_module_version": "1.2.0",
       "flex": "2",
       "justify_items": null,
       "object_fit": null,
       "object_position": null
      }
     },
     "0446cb3544444761809d364f5db5daff": {
      "model_module": "@jupyter-widgets/base",
      "model_module_version": "1.2.0",
      "model_name": "LayoutModel",
      "state": {
       "_model_module_version": "1.2.0",
       "_view_module_version": "1.2.0",
       "display": "inline-flex",
       "flex_flow": "row wrap",
       "justify_items": null,
       "object_fit": null,
       "object_position": null,
       "width": "100%"
      }
     },
     "04cd61e65b4a4a63a0841b565a335a39": {
      "model_module": "@jupyter-widgets/base",
      "model_module_version": "1.2.0",
      "model_name": "LayoutModel",
      "state": {
       "_model_module_version": "1.2.0",
       "_view_module_version": "1.2.0",
       "display": "inline-flex",
       "flex_flow": "row wrap",
       "justify_items": null,
       "object_fit": null,
       "object_position": null,
       "width": "100%"
      }
     },
     "0546dfe9f58f40e8992f73d522df0552": {
      "model_module": "@jupyter-widgets/base",
      "model_module_version": "1.2.0",
      "model_name": "LayoutModel",
      "state": {
       "_model_module_version": "1.2.0",
       "_view_module_version": "1.2.0",
       "justify_items": null,
       "object_fit": null,
       "object_position": null
      }
     },
     "059295aeaaf146c8b29f02a251a99080": {
      "model_module": "@jupyter-widgets/base",
      "model_module_version": "1.2.0",
      "model_name": "LayoutModel",
      "state": {
       "_model_module_version": "1.2.0",
       "_view_module_version": "1.2.0",
       "display": "inline-flex",
       "flex_flow": "row wrap",
       "justify_items": null,
       "object_fit": null,
       "object_position": null,
       "width": "100%"
      }
     },
     "0595a3c1bb2b4842ba731a8a7ed648bf": {
      "model_module": "@jupyter-widgets/base",
      "model_module_version": "1.2.0",
      "model_name": "LayoutModel",
      "state": {
       "_model_module_version": "1.2.0",
       "_view_module_version": "1.2.0",
       "justify_items": null,
       "object_fit": null,
       "object_position": null
      }
     },
     "05caea4069be4ab99b5edf36cae3cb9e": {
      "model_module": "@jupyter-widgets/controls",
      "model_module_version": "1.5.0",
      "model_name": "DescriptionStyleModel",
      "state": {
       "_model_module_version": "1.5.0",
       "_view_module_version": "1.2.0",
       "description_width": ""
      }
     },
     "06735fb8269b4a2ca57be465006571a6": {
      "model_module": "@jupyter-widgets/base",
      "model_module_version": "1.2.0",
      "model_name": "LayoutModel",
      "state": {
       "_model_module_version": "1.2.0",
       "_view_module_version": "1.2.0",
       "display": "inline-flex",
       "flex_flow": "row wrap",
       "justify_items": null,
       "object_fit": null,
       "object_position": null,
       "width": "100%"
      }
     },
     "067e9fbf048e43d69bafeab07029faaa": {
      "model_module": "@jupyter-widgets/controls",
      "model_module_version": "1.5.0",
      "model_name": "FloatProgressModel",
      "state": {
       "_model_module_version": "1.5.0",
       "_view_module_version": "1.5.0",
       "bar_style": "success",
       "description": "563/563",
       "layout": "IPY_MODEL_4827defc60594d2f8a9846fdcd1c117a",
       "max": 563,
       "style": "IPY_MODEL_56b956d52e25488abb4a490cedbc08fd",
       "value": 563
      }
     },
     "06d17b71f695470dbe11c8aa124d9a70": {
      "model_module": "@jupyter-widgets/controls",
      "model_module_version": "1.5.0",
      "model_name": "DescriptionStyleModel",
      "state": {
       "_model_module_version": "1.5.0",
       "_view_module_version": "1.2.0",
       "description_width": ""
      }
     },
     "07dcb1afc55842d9bd1b231be3592578": {
      "model_module": "@jupyter-widgets/controls",
      "model_module_version": "1.5.0",
      "model_name": "FloatProgressModel",
      "state": {
       "_model_module_version": "1.5.0",
       "_view_module_version": "1.5.0",
       "bar_style": "success",
       "description": "5625/5625",
       "layout": "IPY_MODEL_f731def2fdbd4c789243203255f166a4",
       "max": 5625,
       "style": "IPY_MODEL_bbdbbfbafbf64ae484950821be13455d",
       "value": 5625
      }
     },
     "08302a0188a843719e253856109bcac2": {
      "model_module": "@jupyter-widgets/controls",
      "model_module_version": "1.5.0",
      "model_name": "FloatProgressModel",
      "state": {
       "_model_module_version": "1.5.0",
       "_view_module_version": "1.5.0",
       "bar_style": "danger",
       "description": "Training:   9%",
       "layout": "IPY_MODEL_95e167c3a64240d8893adaebd423c1fd",
       "style": "IPY_MODEL_76ca48721c424fefa106c9b0f8b33098",
       "value": 9
      }
     },
     "0887971033a24c40a67d3df4833ad0b0": {
      "model_module": "@jupyter-widgets/controls",
      "model_module_version": "1.5.0",
      "model_name": "HBoxModel",
      "state": {
       "_model_module_version": "1.5.0",
       "_view_module_version": "1.5.0",
       "children": [
        "IPY_MODEL_8d31e24029a34ab287a0d152b24113ea",
        "IPY_MODEL_b9aff6be8e5a49818d1067e04b7a8271"
       ],
       "layout": "IPY_MODEL_10c53133fa954f2aa3c94fa26fcd2e38"
      }
     },
     "08930163db6e4d9981f73ede4a9fd144": {
      "model_module": "@jupyter-widgets/base",
      "model_module_version": "1.2.0",
      "model_name": "LayoutModel",
      "state": {
       "_model_module_version": "1.2.0",
       "_view_module_version": "1.2.0",
       "display": "inline-flex",
       "flex_flow": "row wrap",
       "justify_items": null,
       "object_fit": null,
       "object_position": null,
       "width": "100%"
      }
     },
     "0894e35f4f85460d9665e4e2837350f8": {
      "model_module": "@jupyter-widgets/controls",
      "model_module_version": "1.5.0",
      "model_name": "ProgressStyleModel",
      "state": {
       "_model_module_version": "1.5.0",
       "_view_module_version": "1.2.0",
       "description_width": "initial"
      }
     },
     "08e5697b87c6432784d3a875bade9bd7": {
      "model_module": "@jupyter-widgets/controls",
      "model_module_version": "1.5.0",
      "model_name": "DescriptionStyleModel",
      "state": {
       "_model_module_version": "1.5.0",
       "_view_module_version": "1.2.0",
       "description_width": ""
      }
     },
     "08f80b744237475cb1f568040bbb076e": {
      "model_module": "@jupyter-widgets/controls",
      "model_module_version": "1.5.0",
      "model_name": "DescriptionStyleModel",
      "state": {
       "_model_module_version": "1.5.0",
       "_view_module_version": "1.2.0",
       "description_width": ""
      }
     },
     "0a522d4902e7471eaa6a2e8a54000c86": {
      "model_module": "@jupyter-widgets/base",
      "model_module_version": "1.2.0",
      "model_name": "LayoutModel",
      "state": {
       "_model_module_version": "1.2.0",
       "_view_module_version": "1.2.0",
       "justify_items": null,
       "object_fit": null,
       "object_position": null
      }
     },
     "0a5befc72e294f218789595c387cd767": {
      "model_module": "@jupyter-widgets/controls",
      "model_module_version": "1.5.0",
      "model_name": "ProgressStyleModel",
      "state": {
       "_model_module_version": "1.5.0",
       "_view_module_version": "1.2.0",
       "description_width": "initial"
      }
     },
     "0b56d2aaa73e46aea3746a436de1bb87": {
      "model_module": "@jupyter-widgets/controls",
      "model_module_version": "1.5.0",
      "model_name": "DescriptionStyleModel",
      "state": {
       "_model_module_version": "1.5.0",
       "_view_module_version": "1.2.0",
       "description_width": ""
      }
     },
     "0b5b68d3101f4333bc68be0110d38122": {
      "model_module": "@jupyter-widgets/controls",
      "model_module_version": "1.5.0",
      "model_name": "FloatProgressModel",
      "state": {
       "_model_module_version": "1.5.0",
       "_view_module_version": "1.5.0",
       "bar_style": "success",
       "description": "5625/5625",
       "layout": "IPY_MODEL_856570b200f84671b2b3629e4be7b71f",
       "max": 5625,
       "style": "IPY_MODEL_b987d9ee375141ddb16d29c414dc1438",
       "value": 5625
      }
     },
     "0b88b99f22984a0b9fef699da7911bdd": {
      "model_module": "@jupyter-widgets/controls",
      "model_module_version": "1.5.0",
      "model_name": "HBoxModel",
      "state": {
       "_model_module_version": "1.5.0",
       "_view_module_version": "1.5.0",
       "children": [
        "IPY_MODEL_41981838e6fc4834a1241512ebad9c8f",
        "IPY_MODEL_9c67afbd297d41be9c57e68300cc9c3c"
       ],
       "layout": "IPY_MODEL_5103418bdebf45d7820706093ee239ad"
      }
     },
     "0c15ef34024e40489d614faeca46ef00": {
      "model_module": "@jupyter-widgets/base",
      "model_module_version": "1.2.0",
      "model_name": "LayoutModel",
      "state": {
       "_model_module_version": "1.2.0",
       "_view_module_version": "1.2.0",
       "justify_items": null,
       "object_fit": null,
       "object_position": null
      }
     },
     "0c19de62539f4dcea88e3c8332172259": {
      "model_module": "@jupyter-widgets/controls",
      "model_module_version": "1.5.0",
      "model_name": "DescriptionStyleModel",
      "state": {
       "_model_module_version": "1.5.0",
       "_view_module_version": "1.2.0",
       "description_width": ""
      }
     },
     "0c495b4015cf4227b53baa9bc509eca2": {
      "model_module": "@jupyter-widgets/controls",
      "model_module_version": "1.5.0",
      "model_name": "FloatProgressModel",
      "state": {
       "_model_module_version": "1.5.0",
       "_view_module_version": "1.5.0",
       "bar_style": "danger",
       "description": "Training:   1%",
       "layout": "IPY_MODEL_a443d712602340a8b413ab4af8a5ae2c",
       "style": "IPY_MODEL_ac4cc4fe14de467f87cc26b5d37691d5",
       "value": 1
      }
     },
     "0c58956d3f964dbc8af9a784dd2a1685": {
      "model_module": "@jupyter-widgets/base",
      "model_module_version": "1.2.0",
      "model_name": "LayoutModel",
      "state": {
       "_model_module_version": "1.2.0",
       "_view_module_version": "1.2.0",
       "display": "inline-flex",
       "flex_flow": "row wrap",
       "justify_items": null,
       "object_fit": null,
       "object_position": null,
       "width": "100%"
      }
     },
     "0cc838b9be9f474aa8bb230612da61d1": {
      "model_module": "@jupyter-widgets/base",
      "model_module_version": "1.2.0",
      "model_name": "LayoutModel",
      "state": {
       "_model_module_version": "1.2.0",
       "_view_module_version": "1.2.0",
       "display": "inline-flex",
       "flex_flow": "row wrap",
       "justify_items": null,
       "object_fit": null,
       "object_position": null,
       "width": "100%"
      }
     },
     "0dfbb29f37cc4726b977f4dd01048046": {
      "model_module": "@jupyter-widgets/base",
      "model_module_version": "1.2.0",
      "model_name": "LayoutModel",
      "state": {
       "_model_module_version": "1.2.0",
       "_view_module_version": "1.2.0",
       "flex": "2",
       "justify_items": null,
       "object_fit": null,
       "object_position": null
      }
     },
     "0e21ea68abdc4b419dd039f2dfe2d924": {
      "model_module": "@jupyter-widgets/controls",
      "model_module_version": "1.5.0",
      "model_name": "DescriptionStyleModel",
      "state": {
       "_model_module_version": "1.5.0",
       "_view_module_version": "1.2.0",
       "description_width": ""
      }
     },
     "0ee30b80e4dd471b997864a8b6dd6015": {
      "model_module": "@jupyter-widgets/controls",
      "model_module_version": "1.5.0",
      "model_name": "DescriptionStyleModel",
      "state": {
       "_model_module_version": "1.5.0",
       "_view_module_version": "1.2.0",
       "description_width": ""
      }
     },
     "0f2cd32f21d8451bb9b03591564da3c6": {
      "model_module": "@jupyter-widgets/controls",
      "model_module_version": "1.5.0",
      "model_name": "ProgressStyleModel",
      "state": {
       "_model_module_version": "1.5.0",
       "_view_module_version": "1.2.0",
       "description_width": "initial"
      }
     },
     "0fc8241040084d87b567b42d54788e82": {
      "model_module": "@jupyter-widgets/controls",
      "model_module_version": "1.5.0",
      "model_name": "FloatProgressModel",
      "state": {
       "_model_module_version": "1.5.0",
       "_view_module_version": "1.5.0",
       "bar_style": "success",
       "description": "5625/5625",
       "layout": "IPY_MODEL_168c5dbdfef84475964828c169aa5030",
       "max": 5625,
       "style": "IPY_MODEL_792f3cd0b3a543789a8bd73a5b9eb658",
       "value": 5625
      }
     },
     "0fecbdf22f7444dbacacdc94759badb1": {
      "model_module": "@jupyter-widgets/base",
      "model_module_version": "1.2.0",
      "model_name": "LayoutModel",
      "state": {
       "_model_module_version": "1.2.0",
       "_view_module_version": "1.2.0",
       "justify_items": null,
       "object_fit": null,
       "object_position": null
      }
     },
     "1023c330cbd347acafad30787e61dc65": {
      "model_module": "@jupyter-widgets/base",
      "model_module_version": "1.2.0",
      "model_name": "LayoutModel",
      "state": {
       "_model_module_version": "1.2.0",
       "_view_module_version": "1.2.0",
       "flex": "2",
       "justify_items": null,
       "object_fit": null,
       "object_position": null
      }
     },
     "1029adb8995043178a2cfa6a49b0fef8": {
      "model_module": "@jupyter-widgets/controls",
      "model_module_version": "1.5.0",
      "model_name": "FloatProgressModel",
      "state": {
       "_model_module_version": "1.5.0",
       "_view_module_version": "1.5.0",
       "bar_style": "success",
       "description": "5625/5625",
       "layout": "IPY_MODEL_e68c894cac084194b199c41f56a3a520",
       "max": 5625,
       "style": "IPY_MODEL_e2cf554a1eba448e8956d488c36c8e98",
       "value": 5625
      }
     },
     "1085a71de8274504a8aff8d4d7a30119": {
      "model_module": "@jupyter-widgets/controls",
      "model_module_version": "1.5.0",
      "model_name": "DescriptionStyleModel",
      "state": {
       "_model_module_version": "1.5.0",
       "_view_module_version": "1.2.0",
       "description_width": ""
      }
     },
     "10c53133fa954f2aa3c94fa26fcd2e38": {
      "model_module": "@jupyter-widgets/base",
      "model_module_version": "1.2.0",
      "model_name": "LayoutModel",
      "state": {
       "_model_module_version": "1.2.0",
       "_view_module_version": "1.2.0",
       "display": "inline-flex",
       "flex_flow": "row wrap",
       "justify_items": null,
       "object_fit": null,
       "object_position": null,
       "width": "100%"
      }
     },
     "10d8771b5ae248b293dd6fb068cfa146": {
      "model_module": "@jupyter-widgets/base",
      "model_module_version": "1.2.0",
      "model_name": "LayoutModel",
      "state": {
       "_model_module_version": "1.2.0",
       "_view_module_version": "1.2.0",
       "display": "inline-flex",
       "flex_flow": "row wrap",
       "justify_items": null,
       "object_fit": null,
       "object_position": null,
       "width": "100%"
      }
     },
     "11967dbda2d54150b6a90dff27c58492": {
      "model_module": "@jupyter-widgets/controls",
      "model_module_version": "1.5.0",
      "model_name": "DescriptionStyleModel",
      "state": {
       "_model_module_version": "1.5.0",
       "_view_module_version": "1.2.0",
       "description_width": ""
      }
     },
     "11c6435dcdda4ffe8b3641a5d60bdaec": {
      "model_module": "@jupyter-widgets/base",
      "model_module_version": "1.2.0",
      "model_name": "LayoutModel",
      "state": {
       "_model_module_version": "1.2.0",
       "_view_module_version": "1.2.0",
       "display": "inline-flex",
       "flex_flow": "row wrap",
       "justify_items": null,
       "object_fit": null,
       "object_position": null,
       "width": "100%"
      }
     },
     "11d0171144ef44c0a6d47e157925a911": {
      "model_module": "@jupyter-widgets/controls",
      "model_module_version": "1.5.0",
      "model_name": "FloatProgressModel",
      "state": {
       "_model_module_version": "1.5.0",
       "_view_module_version": "1.5.0",
       "bar_style": "success",
       "description": "5625/5625",
       "layout": "IPY_MODEL_1ef7484cd4034e0d8a976a76dbd868b6",
       "max": 5625,
       "style": "IPY_MODEL_1bad45f0521141148230415b48f9b1d9",
       "value": 5625
      }
     },
     "11dcf8bdb3f74dc8bddf5e02552208ad": {
      "model_module": "@jupyter-widgets/controls",
      "model_module_version": "1.5.0",
      "model_name": "ProgressStyleModel",
      "state": {
       "_model_module_version": "1.5.0",
       "_view_module_version": "1.2.0",
       "description_width": "initial"
      }
     },
     "11f287cbc7264de28eb022b7571e91a4": {
      "model_module": "@jupyter-widgets/base",
      "model_module_version": "1.2.0",
      "model_name": "LayoutModel",
      "state": {
       "_model_module_version": "1.2.0",
       "_view_module_version": "1.2.0",
       "display": "inline-flex",
       "flex_flow": "row wrap",
       "justify_items": null,
       "object_fit": null,
       "object_position": null,
       "width": "100%"
      }
     },
     "124dd1e4cdb648cd9a17fdba6d259db0": {
      "model_module": "@jupyter-widgets/controls",
      "model_module_version": "1.5.0",
      "model_name": "FloatProgressModel",
      "state": {
       "_model_module_version": "1.5.0",
       "_view_module_version": "1.5.0",
       "bar_style": "danger",
       "description": "Training:   1%",
       "layout": "IPY_MODEL_f856870126534fb99318cc29b82d33d6",
       "style": "IPY_MODEL_97a5295216954ebe9f5c7c480e24188a",
       "value": 1
      }
     },
     "12a2a2db2d29401db223b477f35c4b70": {
      "model_module": "@jupyter-widgets/base",
      "model_module_version": "1.2.0",
      "model_name": "LayoutModel",
      "state": {
       "_model_module_version": "1.2.0",
       "_view_module_version": "1.2.0",
       "flex": "2",
       "justify_items": null,
       "object_fit": null,
       "object_position": null
      }
     },
     "12d98c70f6bf43658be1b94076e1d194": {
      "model_module": "@jupyter-widgets/base",
      "model_module_version": "1.2.0",
      "model_name": "LayoutModel",
      "state": {
       "_model_module_version": "1.2.0",
       "_view_module_version": "1.2.0",
       "flex": "2",
       "justify_items": null,
       "object_fit": null,
       "object_position": null
      }
     },
     "13330c80a2e94b87bf183533443e30f4": {
      "model_module": "@jupyter-widgets/controls",
      "model_module_version": "1.5.0",
      "model_name": "HBoxModel",
      "state": {
       "_model_module_version": "1.5.0",
       "_view_module_version": "1.5.0",
       "children": [
        "IPY_MODEL_95cd3a7d0209493eaf4c7697e4313340",
        "IPY_MODEL_403027a15e90438f852c3c9a74bc2786"
       ],
       "layout": "IPY_MODEL_f35891010cd3475c850caa7bf4a85e2b"
      }
     },
     "13564c91447e416284a65e917c60ecd9": {
      "model_module": "@jupyter-widgets/base",
      "model_module_version": "1.2.0",
      "model_name": "LayoutModel",
      "state": {
       "_model_module_version": "1.2.0",
       "_view_module_version": "1.2.0",
       "flex": "2",
       "justify_items": null,
       "object_fit": null,
       "object_position": null
      }
     },
     "13a0033c975a4189ac405f85acf1c71f": {
      "model_module": "@jupyter-widgets/base",
      "model_module_version": "1.2.0",
      "model_name": "LayoutModel",
      "state": {
       "_model_module_version": "1.2.0",
       "_view_module_version": "1.2.0",
       "display": "inline-flex",
       "flex_flow": "row wrap",
       "justify_items": null,
       "object_fit": null,
       "object_position": null,
       "width": "100%"
      }
     },
     "145206658cc844a8ae46b1910729f7ea": {
      "model_module": "@jupyter-widgets/controls",
      "model_module_version": "1.5.0",
      "model_name": "DescriptionStyleModel",
      "state": {
       "_model_module_version": "1.5.0",
       "_view_module_version": "1.2.0",
       "description_width": ""
      }
     },
     "14b3aa2ab51a4b9ebb44f7ca20fd30a8": {
      "model_module": "@jupyter-widgets/base",
      "model_module_version": "1.2.0",
      "model_name": "LayoutModel",
      "state": {
       "_model_module_version": "1.2.0",
       "_view_module_version": "1.2.0",
       "flex": "2",
       "justify_items": null,
       "object_fit": null,
       "object_position": null
      }
     },
     "14e02e3e19a24673bf79f467cab855b0": {
      "model_module": "@jupyter-widgets/controls",
      "model_module_version": "1.5.0",
      "model_name": "HBoxModel",
      "state": {
       "_model_module_version": "1.5.0",
       "_view_module_version": "1.5.0",
       "children": [
        "IPY_MODEL_df4c71e0a05c4900baa76c54a07a2345",
        "IPY_MODEL_2665c9e4ba6943fb8f53fd120075bd23"
       ],
       "layout": "IPY_MODEL_ecff0c75d90d4e29a91cc44d9544f677"
      }
     },
     "152c63bbee104b11a34a079f0b5fa0e6": {
      "model_module": "@jupyter-widgets/base",
      "model_module_version": "1.2.0",
      "model_name": "LayoutModel",
      "state": {
       "_model_module_version": "1.2.0",
       "_view_module_version": "1.2.0",
       "justify_items": null,
       "object_fit": null,
       "object_position": null
      }
     },
     "152f85690a564196afb3c0bb03534435": {
      "model_module": "@jupyter-widgets/controls",
      "model_module_version": "1.5.0",
      "model_name": "ProgressStyleModel",
      "state": {
       "_model_module_version": "1.5.0",
       "_view_module_version": "1.2.0",
       "description_width": "initial"
      }
     },
     "1561f3e33251430ebca65e6f500bac66": {
      "model_module": "@jupyter-widgets/controls",
      "model_module_version": "1.5.0",
      "model_name": "HBoxModel",
      "state": {
       "_model_module_version": "1.5.0",
       "_view_module_version": "1.5.0",
       "children": [
        "IPY_MODEL_5b6a6a3fdf7c4428a32af05b871638b5",
        "IPY_MODEL_6a5821701fba40669bbf88601e145e11"
       ],
       "layout": "IPY_MODEL_7a8aec14dabe453083d1cd668d311457"
      }
     },
     "15ac3734c2694b66bff2f27919ad4326": {
      "model_module": "@jupyter-widgets/controls",
      "model_module_version": "1.5.0",
      "model_name": "ProgressStyleModel",
      "state": {
       "_model_module_version": "1.5.0",
       "_view_module_version": "1.2.0",
       "description_width": "initial"
      }
     },
     "15f3765ea5f241a29640c66bcdb6cb34": {
      "model_module": "@jupyter-widgets/controls",
      "model_module_version": "1.5.0",
      "model_name": "HBoxModel",
      "state": {
       "_model_module_version": "1.5.0",
       "_view_module_version": "1.5.0",
       "children": [
        "IPY_MODEL_6650b9d1b7fb47f78a52559c8c5106ac",
        "IPY_MODEL_469f7ab978d5419187bb8f75e6f57890"
       ],
       "layout": "IPY_MODEL_08930163db6e4d9981f73ede4a9fd144"
      }
     },
     "168c5dbdfef84475964828c169aa5030": {
      "model_module": "@jupyter-widgets/base",
      "model_module_version": "1.2.0",
      "model_name": "LayoutModel",
      "state": {
       "_model_module_version": "1.2.0",
       "_view_module_version": "1.2.0",
       "flex": "2",
       "justify_items": null,
       "object_fit": null,
       "object_position": null
      }
     },
     "169446ae85904a78bd6fd0f213a04a41": {
      "model_module": "@jupyter-widgets/controls",
      "model_module_version": "1.5.0",
      "model_name": "HBoxModel",
      "state": {
       "_model_module_version": "1.5.0",
       "_view_module_version": "1.5.0",
       "children": [
        "IPY_MODEL_960ab09d5c884f9498654b19968a0cae",
        "IPY_MODEL_1ff9eff213544857b5f3d2104f9f69b6"
       ],
       "layout": "IPY_MODEL_4d89bb6521a6458fac899023b57bdf46"
      }
     },
     "16ea195e70f747a099777e789175db13": {
      "model_module": "@jupyter-widgets/controls",
      "model_module_version": "1.5.0",
      "model_name": "ProgressStyleModel",
      "state": {
       "_model_module_version": "1.5.0",
       "_view_module_version": "1.2.0",
       "description_width": "initial"
      }
     },
     "1721684d7b864dafb92ca1d9c8b6154b": {
      "model_module": "@jupyter-widgets/base",
      "model_module_version": "1.2.0",
      "model_name": "LayoutModel",
      "state": {
       "_model_module_version": "1.2.0",
       "_view_module_version": "1.2.0",
       "justify_items": null,
       "object_fit": null,
       "object_position": null
      }
     },
     "1827e0da697e41519355b1cdd2ee9b35": {
      "model_module": "@jupyter-widgets/controls",
      "model_module_version": "1.5.0",
      "model_name": "HBoxModel",
      "state": {
       "_model_module_version": "1.5.0",
       "_view_module_version": "1.5.0",
       "children": [
        "IPY_MODEL_00c29b68ac954f858984a4a103dbd87a",
        "IPY_MODEL_b6ff544618ec4b8490dc67d48ee2508c"
       ],
       "layout": "IPY_MODEL_3a62ab826aa843efae7af48b0f38dd76"
      }
     },
     "1851c16d27ef4f3c95810bed1c16ae01": {
      "model_module": "@jupyter-widgets/controls",
      "model_module_version": "1.5.0",
      "model_name": "HBoxModel",
      "state": {
       "_model_module_version": "1.5.0",
       "_view_module_version": "1.5.0",
       "children": [
        "IPY_MODEL_2d8443fa367d4a6d935fb6ac3e1a5091",
        "IPY_MODEL_97e6244ece394c4898ad9345e7e46e89"
       ],
       "layout": "IPY_MODEL_2bcb2e1dfd244cb79f40a5caf10da152"
      }
     },
     "18bca73fc2da49c9af7c09d301dd71df": {
      "model_module": "@jupyter-widgets/controls",
      "model_module_version": "1.5.0",
      "model_name": "DescriptionStyleModel",
      "state": {
       "_model_module_version": "1.5.0",
       "_view_module_version": "1.2.0",
       "description_width": ""
      }
     },
     "18e4e29c863f42709e38fce424e6b1e7": {
      "model_module": "@jupyter-widgets/controls",
      "model_module_version": "1.5.0",
      "model_name": "HTMLModel",
      "state": {
       "_model_module_version": "1.5.0",
       "_view_module_version": "1.5.0",
       "layout": "IPY_MODEL_dd475d4ceb0143658ba078208e47c002",
       "style": "IPY_MODEL_8e12558919214d4cb34a3bdbe17e5534",
       "value": " 27/100 ETA: 6:50:44s,  337.60s/epochs"
      }
     },
     "197640cb120049ebadd0f93decc3618a": {
      "model_module": "@jupyter-widgets/controls",
      "model_module_version": "1.5.0",
      "model_name": "HTMLModel",
      "state": {
       "_model_module_version": "1.5.0",
       "_view_module_version": "1.5.0",
       "layout": "IPY_MODEL_ce20cbcd48e04cce9cb6fa33085b3617",
       "style": "IPY_MODEL_4871a9b9228a494e9f34fe2a8930db42",
       "value": " ETA: 00:00s - loss: 0.0307 - val_loss: 0.0309"
      }
     },
     "1a8cdb88f3764d89b42731eaf8e2e7e5": {
      "model_module": "@jupyter-widgets/controls",
      "model_module_version": "1.5.0",
      "model_name": "DescriptionStyleModel",
      "state": {
       "_model_module_version": "1.5.0",
       "_view_module_version": "1.2.0",
       "description_width": ""
      }
     },
     "1ad6cbc2b48e4949b14aaa54a181da4e": {
      "model_module": "@jupyter-widgets/controls",
      "model_module_version": "1.5.0",
      "model_name": "ProgressStyleModel",
      "state": {
       "_model_module_version": "1.5.0",
       "_view_module_version": "1.2.0",
       "description_width": "initial"
      }
     },
     "1b12934d3c6a4c779d2cda4d5805f364": {
      "model_module": "@jupyter-widgets/controls",
      "model_module_version": "1.5.0",
      "model_name": "HTMLModel",
      "state": {
       "_model_module_version": "1.5.0",
       "_view_module_version": "1.5.0",
       "layout": "IPY_MODEL_c4a19cbdf55e4ce1a145d97d24573a90",
       "style": "IPY_MODEL_001d55903b6e49be8ee3e7f387d44b0a",
       "value": " 1/100 ETA: 41:44s,  25.30s/epochs"
      }
     },
     "1b16fc58f66e48d885465da0582af10e": {
      "model_module": "@jupyter-widgets/controls",
      "model_module_version": "1.5.0",
      "model_name": "DescriptionStyleModel",
      "state": {
       "_model_module_version": "1.5.0",
       "_view_module_version": "1.2.0",
       "description_width": ""
      }
     },
     "1b8a3818788b471ca07fa0b95dc0102f": {
      "model_module": "@jupyter-widgets/base",
      "model_module_version": "1.2.0",
      "model_name": "LayoutModel",
      "state": {
       "_model_module_version": "1.2.0",
       "_view_module_version": "1.2.0",
       "flex": "2",
       "justify_items": null,
       "object_fit": null,
       "object_position": null
      }
     },
     "1ba3c62abe0c4b9d8ed42e561eb72d84": {
      "model_module": "@jupyter-widgets/base",
      "model_module_version": "1.2.0",
      "model_name": "LayoutModel",
      "state": {
       "_model_module_version": "1.2.0",
       "_view_module_version": "1.2.0",
       "flex": "2",
       "justify_items": null,
       "object_fit": null,
       "object_position": null
      }
     },
     "1bad45f0521141148230415b48f9b1d9": {
      "model_module": "@jupyter-widgets/controls",
      "model_module_version": "1.5.0",
      "model_name": "ProgressStyleModel",
      "state": {
       "_model_module_version": "1.5.0",
       "_view_module_version": "1.2.0",
       "description_width": "initial"
      }
     },
     "1be31c7f9c854908aafed79dcf6227dc": {
      "model_module": "@jupyter-widgets/controls",
      "model_module_version": "1.5.0",
      "model_name": "FloatProgressModel",
      "state": {
       "_model_module_version": "1.5.0",
       "_view_module_version": "1.5.0",
       "bar_style": "danger",
       "description": "Training:   1%",
       "layout": "IPY_MODEL_d37eabbc19ae45a9998c8c3a58b6ee3a",
       "style": "IPY_MODEL_44db8d88d5a246c884ce8f9c5fe089df",
       "value": 1
      }
     },
     "1d4400bc44f94405a7df1f6d2a122561": {
      "model_module": "@jupyter-widgets/base",
      "model_module_version": "1.2.0",
      "model_name": "LayoutModel",
      "state": {
       "_model_module_version": "1.2.0",
       "_view_module_version": "1.2.0",
       "justify_items": null,
       "object_fit": null,
       "object_position": null
      }
     },
     "1dc4b9089fb34cbd94e0d485e4c213b0": {
      "model_module": "@jupyter-widgets/base",
      "model_module_version": "1.2.0",
      "model_name": "LayoutModel",
      "state": {
       "_model_module_version": "1.2.0",
       "_view_module_version": "1.2.0",
       "flex": "2",
       "justify_items": null,
       "object_fit": null,
       "object_position": null
      }
     },
     "1e089ae614544a609bf09a1a92033372": {
      "model_module": "@jupyter-widgets/base",
      "model_module_version": "1.2.0",
      "model_name": "LayoutModel",
      "state": {
       "_model_module_version": "1.2.0",
       "_view_module_version": "1.2.0",
       "display": "inline-flex",
       "flex_flow": "row wrap",
       "justify_items": null,
       "object_fit": null,
       "object_position": null,
       "width": "100%"
      }
     },
     "1ea6063008ac404ebc5707311c643326": {
      "model_module": "@jupyter-widgets/controls",
      "model_module_version": "1.5.0",
      "model_name": "HTMLModel",
      "state": {
       "_model_module_version": "1.5.0",
       "_view_module_version": "1.5.0",
       "layout": "IPY_MODEL_75ccc2e0e3aa4f8e8b8f13f27a9e8cc3",
       "style": "IPY_MODEL_145206658cc844a8ae46b1910729f7ea",
       "value": " 1/100 ETA: 20:59s,  12.72s/epochs"
      }
     },
     "1ef7484cd4034e0d8a976a76dbd868b6": {
      "model_module": "@jupyter-widgets/base",
      "model_module_version": "1.2.0",
      "model_name": "LayoutModel",
      "state": {
       "_model_module_version": "1.2.0",
       "_view_module_version": "1.2.0",
       "flex": "2",
       "justify_items": null,
       "object_fit": null,
       "object_position": null
      }
     },
     "1f7a7f127457454185d6bbfa4730fe18": {
      "model_module": "@jupyter-widgets/controls",
      "model_module_version": "1.5.0",
      "model_name": "FloatProgressModel",
      "state": {
       "_model_module_version": "1.5.0",
       "_view_module_version": "1.5.0",
       "bar_style": "success",
       "description": "5625/5625",
       "layout": "IPY_MODEL_13564c91447e416284a65e917c60ecd9",
       "max": 5625,
       "style": "IPY_MODEL_4a2dc9ff867d4fad9b5f499688e6d543",
       "value": 5625
      }
     },
     "1ff9eff213544857b5f3d2104f9f69b6": {
      "model_module": "@jupyter-widgets/controls",
      "model_module_version": "1.5.0",
      "model_name": "HTMLModel",
      "state": {
       "_model_module_version": "1.5.0",
       "_view_module_version": "1.5.0",
       "layout": "IPY_MODEL_1721684d7b864dafb92ca1d9c8b6154b",
       "style": "IPY_MODEL_0e21ea68abdc4b419dd039f2dfe2d924",
       "value": " ETA: 00:00s - loss: 0.0320 - val_loss: 0.0298"
      }
     },
     "207df057fa3141c7b3785a50faab2df7": {
      "model_module": "@jupyter-widgets/controls",
      "model_module_version": "1.5.0",
      "model_name": "DescriptionStyleModel",
      "state": {
       "_model_module_version": "1.5.0",
       "_view_module_version": "1.2.0",
       "description_width": ""
      }
     },
     "211b7e31eea9499697106d7ab55fd5fe": {
      "model_module": "@jupyter-widgets/controls",
      "model_module_version": "1.5.0",
      "model_name": "HBoxModel",
      "state": {
       "_model_module_version": "1.5.0",
       "_view_module_version": "1.5.0",
       "children": [
        "IPY_MODEL_96145776441b4a588afdc3f5093715af",
        "IPY_MODEL_d0b172b768eb46dca50d17c3840ebb3b"
       ],
       "layout": "IPY_MODEL_9883b31c152a40739c482acd420c36e0"
      }
     },
     "2120a1ddf15f4b548c30f78fd5a76024": {
      "model_module": "@jupyter-widgets/controls",
      "model_module_version": "1.5.0",
      "model_name": "ProgressStyleModel",
      "state": {
       "_model_module_version": "1.5.0",
       "_view_module_version": "1.2.0",
       "description_width": "initial"
      }
     },
     "21c18fd464fd4ef789855124cad4d204": {
      "model_module": "@jupyter-widgets/controls",
      "model_module_version": "1.5.0",
      "model_name": "DescriptionStyleModel",
      "state": {
       "_model_module_version": "1.5.0",
       "_view_module_version": "1.2.0",
       "description_width": ""
      }
     },
     "21ef5072435e42ec9a9168a1463aa2d8": {
      "model_module": "@jupyter-widgets/controls",
      "model_module_version": "1.5.0",
      "model_name": "DescriptionStyleModel",
      "state": {
       "_model_module_version": "1.5.0",
       "_view_module_version": "1.2.0",
       "description_width": ""
      }
     },
     "226aa666522e43a0a876491ac47987f1": {
      "model_module": "@jupyter-widgets/base",
      "model_module_version": "1.2.0",
      "model_name": "LayoutModel",
      "state": {
       "_model_module_version": "1.2.0",
       "_view_module_version": "1.2.0",
       "display": "inline-flex",
       "flex_flow": "row wrap",
       "justify_items": null,
       "object_fit": null,
       "object_position": null,
       "width": "100%"
      }
     },
     "22bf68a46dff49c299c1e9bba4b27c76": {
      "model_module": "@jupyter-widgets/controls",
      "model_module_version": "1.5.0",
      "model_name": "DescriptionStyleModel",
      "state": {
       "_model_module_version": "1.5.0",
       "_view_module_version": "1.2.0",
       "description_width": ""
      }
     },
     "22c43238b0bb46979214fa83d998e864": {
      "model_module": "@jupyter-widgets/base",
      "model_module_version": "1.2.0",
      "model_name": "LayoutModel",
      "state": {
       "_model_module_version": "1.2.0",
       "_view_module_version": "1.2.0",
       "justify_items": null,
       "object_fit": null,
       "object_position": null
      }
     },
     "22e82cd092a4429f8b63f0b28fc1a9ee": {
      "model_module": "@jupyter-widgets/base",
      "model_module_version": "1.2.0",
      "model_name": "LayoutModel",
      "state": {
       "_model_module_version": "1.2.0",
       "_view_module_version": "1.2.0",
       "justify_items": null,
       "object_fit": null,
       "object_position": null
      }
     },
     "23eda739590f47dabffd966ceb59f4d5": {
      "model_module": "@jupyter-widgets/base",
      "model_module_version": "1.2.0",
      "model_name": "LayoutModel",
      "state": {
       "_model_module_version": "1.2.0",
       "_view_module_version": "1.2.0",
       "justify_items": null,
       "object_fit": null,
       "object_position": null
      }
     },
     "24276458f5244c10896a3f29a4ae0a0f": {
      "model_module": "@jupyter-widgets/controls",
      "model_module_version": "1.5.0",
      "model_name": "ProgressStyleModel",
      "state": {
       "_model_module_version": "1.5.0",
       "_view_module_version": "1.2.0",
       "description_width": "initial"
      }
     },
     "2472ae7e81bc4641b1474001ed2be1fd": {
      "model_module": "@jupyter-widgets/controls",
      "model_module_version": "1.5.0",
      "model_name": "FloatProgressModel",
      "state": {
       "_model_module_version": "1.5.0",
       "_view_module_version": "1.5.0",
       "bar_style": "success",
       "description": "5625/5625",
       "layout": "IPY_MODEL_e7785ed80107402f8bdbea3efafcbfdc",
       "max": 5625,
       "style": "IPY_MODEL_d2e54a6913d34c75b7bc5d7f159a0b3e",
       "value": 5625
      }
     },
     "2531a1ea46684c97b86e689015206aa5": {
      "model_module": "@jupyter-widgets/controls",
      "model_module_version": "1.5.0",
      "model_name": "ProgressStyleModel",
      "state": {
       "_model_module_version": "1.5.0",
       "_view_module_version": "1.2.0",
       "description_width": "initial"
      }
     },
     "26123253971e4485bd2ebe0a16c69a0e": {
      "model_module": "@jupyter-widgets/controls",
      "model_module_version": "1.5.0",
      "model_name": "HBoxModel",
      "state": {
       "_model_module_version": "1.5.0",
       "_view_module_version": "1.5.0",
       "children": [
        "IPY_MODEL_ee280fb485624f38ad65c952bb346923",
        "IPY_MODEL_3090cd4bbdcb4f1d84a4d5f1522bfd0e"
       ],
       "layout": "IPY_MODEL_3724e93848064eeba1b1a6717e1866cc"
      }
     },
     "2665c9e4ba6943fb8f53fd120075bd23": {
      "model_module": "@jupyter-widgets/controls",
      "model_module_version": "1.5.0",
      "model_name": "HTMLModel",
      "state": {
       "_model_module_version": "1.5.0",
       "_view_module_version": "1.5.0",
       "layout": "IPY_MODEL_d729a3b6ab154e218f6be09b7836cdce",
       "style": "IPY_MODEL_eb75c4e8e49c406ca63dccedce62e9d9",
       "value": " ETA: 00:00s - loss: nan"
      }
     },
     "266913d4c6ca45bcb43d26813dbf24e1": {
      "model_module": "@jupyter-widgets/base",
      "model_module_version": "1.2.0",
      "model_name": "LayoutModel",
      "state": {
       "_model_module_version": "1.2.0",
       "_view_module_version": "1.2.0",
       "justify_items": null,
       "object_fit": null,
       "object_position": null
      }
     },
     "26726a478e2547aa8e0fe3919d7b7171": {
      "model_module": "@jupyter-widgets/base",
      "model_module_version": "1.2.0",
      "model_name": "LayoutModel",
      "state": {
       "_model_module_version": "1.2.0",
       "_view_module_version": "1.2.0",
       "flex": "2",
       "justify_items": null,
       "object_fit": null,
       "object_position": null
      }
     },
     "269585222dc9404bab9e8e4029f30e70": {
      "model_module": "@jupyter-widgets/controls",
      "model_module_version": "1.5.0",
      "model_name": "DescriptionStyleModel",
      "state": {
       "_model_module_version": "1.5.0",
       "_view_module_version": "1.2.0",
       "description_width": ""
      }
     },
     "2766be3acb044ece8f347965d99f1bc6": {
      "model_module": "@jupyter-widgets/base",
      "model_module_version": "1.2.0",
      "model_name": "LayoutModel",
      "state": {
       "_model_module_version": "1.2.0",
       "_view_module_version": "1.2.0",
       "justify_items": null,
       "object_fit": null,
       "object_position": null
      }
     },
     "2766ebc7d96c4ddc998b9314980f2423": {
      "model_module": "@jupyter-widgets/controls",
      "model_module_version": "1.5.0",
      "model_name": "ProgressStyleModel",
      "state": {
       "_model_module_version": "1.5.0",
       "_view_module_version": "1.2.0",
       "description_width": "initial"
      }
     },
     "2852999c97244ee68e9339c45a62bf9b": {
      "model_module": "@jupyter-widgets/controls",
      "model_module_version": "1.5.0",
      "model_name": "DescriptionStyleModel",
      "state": {
       "_model_module_version": "1.5.0",
       "_view_module_version": "1.2.0",
       "description_width": ""
      }
     },
     "285877b40898467498dd8ee02853e93a": {
      "model_module": "@jupyter-widgets/base",
      "model_module_version": "1.2.0",
      "model_name": "LayoutModel",
      "state": {
       "_model_module_version": "1.2.0",
       "_view_module_version": "1.2.0",
       "justify_items": null,
       "object_fit": null,
       "object_position": null
      }
     },
     "28c8be03fba24dc08366e01a101c1093": {
      "model_module": "@jupyter-widgets/controls",
      "model_module_version": "1.5.0",
      "model_name": "HTMLModel",
      "state": {
       "_model_module_version": "1.5.0",
       "_view_module_version": "1.5.0",
       "layout": "IPY_MODEL_b33dcc88eef744289914fb869e48c001",
       "style": "IPY_MODEL_78411632e1e54b54a4d049f4b4260540",
       "value": " ETA: 00:00s - loss: 0.0006 - val_loss: 0.0003"
      }
     },
     "291f12c56b044b6f8d1e41695b2babdc": {
      "model_module": "@jupyter-widgets/controls",
      "model_module_version": "1.5.0",
      "model_name": "ProgressStyleModel",
      "state": {
       "_model_module_version": "1.5.0",
       "_view_module_version": "1.2.0",
       "description_width": "initial"
      }
     },
     "295a070fbfcc45918362f483182743c2": {
      "model_module": "@jupyter-widgets/controls",
      "model_module_version": "1.5.0",
      "model_name": "FloatProgressModel",
      "state": {
       "_model_module_version": "1.5.0",
       "_view_module_version": "1.5.0",
       "bar_style": "success",
       "description": "5625/5625",
       "layout": "IPY_MODEL_3be3663ca6d54896abd22e14277942f3",
       "max": 5625,
       "style": "IPY_MODEL_3dbcaa90fe3d413fb575a15453e30fba",
       "value": 5625
      }
     },
     "29851542f222428fb25767f0057346b2": {
      "model_module": "@jupyter-widgets/base",
      "model_module_version": "1.2.0",
      "model_name": "LayoutModel",
      "state": {
       "_model_module_version": "1.2.0",
       "_view_module_version": "1.2.0",
       "display": "inline-flex",
       "flex_flow": "row wrap",
       "justify_items": null,
       "object_fit": null,
       "object_position": null,
       "width": "100%"
      }
     },
     "29fb6c6f995643418ce38ed72469d677": {
      "model_module": "@jupyter-widgets/base",
      "model_module_version": "1.2.0",
      "model_name": "LayoutModel",
      "state": {
       "_model_module_version": "1.2.0",
       "_view_module_version": "1.2.0",
       "justify_items": null,
       "object_fit": null,
       "object_position": null
      }
     },
     "2afe801d26ff4069b43ffbb323c23539": {
      "model_module": "@jupyter-widgets/base",
      "model_module_version": "1.2.0",
      "model_name": "LayoutModel",
      "state": {
       "_model_module_version": "1.2.0",
       "_view_module_version": "1.2.0",
       "display": "inline-flex",
       "flex_flow": "row wrap",
       "justify_items": null,
       "object_fit": null,
       "object_position": null,
       "width": "100%"
      }
     },
     "2b014dc58f3645c2a4665b61a78fe3a2": {
      "model_module": "@jupyter-widgets/controls",
      "model_module_version": "1.5.0",
      "model_name": "ProgressStyleModel",
      "state": {
       "_model_module_version": "1.5.0",
       "_view_module_version": "1.2.0",
       "description_width": "initial"
      }
     },
     "2b912754db7447a8bbd5223b06ae08ca": {
      "model_module": "@jupyter-widgets/controls",
      "model_module_version": "1.5.0",
      "model_name": "HBoxModel",
      "state": {
       "_model_module_version": "1.5.0",
       "_view_module_version": "1.5.0",
       "children": [
        "IPY_MODEL_124dd1e4cdb648cd9a17fdba6d259db0",
        "IPY_MODEL_1b12934d3c6a4c779d2cda4d5805f364"
       ],
       "layout": "IPY_MODEL_eeac3137f05c4b029c215e5c6991d593"
      }
     },
     "2bcb2e1dfd244cb79f40a5caf10da152": {
      "model_module": "@jupyter-widgets/base",
      "model_module_version": "1.2.0",
      "model_name": "LayoutModel",
      "state": {
       "_model_module_version": "1.2.0",
       "_view_module_version": "1.2.0",
       "display": "inline-flex",
       "flex_flow": "row wrap",
       "justify_items": null,
       "object_fit": null,
       "object_position": null,
       "width": "100%"
      }
     },
     "2c30007cec364dbc884f3ba9cba3345c": {
      "model_module": "@jupyter-widgets/base",
      "model_module_version": "1.2.0",
      "model_name": "LayoutModel",
      "state": {
       "_model_module_version": "1.2.0",
       "_view_module_version": "1.2.0",
       "display": "inline-flex",
       "flex_flow": "row wrap",
       "justify_items": null,
       "object_fit": null,
       "object_position": null,
       "width": "100%"
      }
     },
     "2c72a5f332ac4153bd1b7e2ddf8824a4": {
      "model_module": "@jupyter-widgets/base",
      "model_module_version": "1.2.0",
      "model_name": "LayoutModel",
      "state": {
       "_model_module_version": "1.2.0",
       "_view_module_version": "1.2.0",
       "justify_items": null,
       "object_fit": null,
       "object_position": null
      }
     },
     "2cb0a44a16b24cfeb607163d42f7020a": {
      "model_module": "@jupyter-widgets/controls",
      "model_module_version": "1.5.0",
      "model_name": "ProgressStyleModel",
      "state": {
       "_model_module_version": "1.5.0",
       "_view_module_version": "1.2.0",
       "description_width": "initial"
      }
     },
     "2d4022a617c24ea69f95fd4b9e18e0b4": {
      "model_module": "@jupyter-widgets/base",
      "model_module_version": "1.2.0",
      "model_name": "LayoutModel",
      "state": {
       "_model_module_version": "1.2.0",
       "_view_module_version": "1.2.0",
       "display": "inline-flex",
       "flex_flow": "row wrap",
       "justify_items": null,
       "object_fit": null,
       "object_position": null,
       "width": "100%"
      }
     },
     "2d8443fa367d4a6d935fb6ac3e1a5091": {
      "model_module": "@jupyter-widgets/controls",
      "model_module_version": "1.5.0",
      "model_name": "FloatProgressModel",
      "state": {
       "_model_module_version": "1.5.0",
       "_view_module_version": "1.5.0",
       "bar_style": "success",
       "description": "5625/5625",
       "layout": "IPY_MODEL_cbeab32d2e324567912dfddd281cb61f",
       "max": 5625,
       "style": "IPY_MODEL_c496b2b5c6e34387af4b8957179f4f74",
       "value": 5625
      }
     },
     "2eb7feb371ee4f86a57ebd62b3280fc6": {
      "model_module": "@jupyter-widgets/controls",
      "model_module_version": "1.5.0",
      "model_name": "FloatProgressModel",
      "state": {
       "_model_module_version": "1.5.0",
       "_view_module_version": "1.5.0",
       "bar_style": "success",
       "description": "5625/5625",
       "layout": "IPY_MODEL_ce1d9a31a95c46c58b86542748e4ea34",
       "max": 5625,
       "style": "IPY_MODEL_9adb72a50b2f49c1b6cd66e50bc2f815",
       "value": 5625
      }
     },
     "3060e6546f304ac9a512f77a2a38b903": {
      "model_module": "@jupyter-widgets/controls",
      "model_module_version": "1.5.0",
      "model_name": "HBoxModel",
      "state": {
       "_model_module_version": "1.5.0",
       "_view_module_version": "1.5.0",
       "children": [
        "IPY_MODEL_0c495b4015cf4227b53baa9bc509eca2",
        "IPY_MODEL_c4689300762f4d2fb265a1a8c54e7ccb"
       ],
       "layout": "IPY_MODEL_ffce55e4829e4dd88ca7e8cc73fd5354"
      }
     },
     "3086b1eaae2b48ef92b84568ec933cf2": {
      "model_module": "@jupyter-widgets/base",
      "model_module_version": "1.2.0",
      "model_name": "LayoutModel",
      "state": {
       "_model_module_version": "1.2.0",
       "_view_module_version": "1.2.0",
       "flex": "2",
       "justify_items": null,
       "object_fit": null,
       "object_position": null
      }
     },
     "308765d6112048e88e4d9c0c869bc204": {
      "model_module": "@jupyter-widgets/base",
      "model_module_version": "1.2.0",
      "model_name": "LayoutModel",
      "state": {
       "_model_module_version": "1.2.0",
       "_view_module_version": "1.2.0",
       "display": "inline-flex",
       "flex_flow": "row wrap",
       "justify_items": null,
       "object_fit": null,
       "object_position": null,
       "width": "100%"
      }
     },
     "3090cd4bbdcb4f1d84a4d5f1522bfd0e": {
      "model_module": "@jupyter-widgets/controls",
      "model_module_version": "1.5.0",
      "model_name": "HTMLModel",
      "state": {
       "_model_module_version": "1.5.0",
       "_view_module_version": "1.5.0",
       "layout": "IPY_MODEL_e6a030be1fff48458a38ba515c50299f",
       "style": "IPY_MODEL_b1adb1e0e3b64b4baae8cf4a606d2fae",
       "value": " 1/100 ETA: 1:24:31s,  51.23s/epochs"
      }
     },
     "30c2f4021806475181a1047151d8a52a": {
      "model_module": "@jupyter-widgets/controls",
      "model_module_version": "1.5.0",
      "model_name": "HTMLModel",
      "state": {
       "_model_module_version": "1.5.0",
       "_view_module_version": "1.5.0",
       "layout": "IPY_MODEL_152c63bbee104b11a34a079f0b5fa0e6",
       "style": "IPY_MODEL_1b16fc58f66e48d885465da0582af10e",
       "value": " ETA: 00:00s - loss: 0.0004 - mse: 0.0004 - val_loss: 0.0003 - val_mse: 0.0003"
      }
     },
     "314ac319a5dd4ae99794102d8ffbc464": {
      "model_module": "@jupyter-widgets/controls",
      "model_module_version": "1.5.0",
      "model_name": "HTMLModel",
      "state": {
       "_model_module_version": "1.5.0",
       "_view_module_version": "1.5.0",
       "layout": "IPY_MODEL_815e3d60a5e84cc7949b1cdd6dabe52e",
       "style": "IPY_MODEL_9a256a63b2eb482380e52e87fc1bfa47",
       "value": " ETA: 00:00s - loss: 0.0002 - val_loss: 0.0001"
      }
     },
     "316514ab077f40468383dfc94fbc76fd": {
      "model_module": "@jupyter-widgets/controls",
      "model_module_version": "1.5.0",
      "model_name": "HTMLModel",
      "state": {
       "_model_module_version": "1.5.0",
       "_view_module_version": "1.5.0",
       "layout": "IPY_MODEL_f101a73af0154ffeba66dd691c3672a6",
       "style": "IPY_MODEL_52570cfd6c3645a9a93986d701ca0bbe",
       "value": " ETA: 00:00s - loss: 0.0009"
      }
     },
     "3166b984ca1940ffb8c66fc28e6872c4": {
      "model_module": "@jupyter-widgets/base",
      "model_module_version": "1.2.0",
      "model_name": "LayoutModel",
      "state": {
       "_model_module_version": "1.2.0",
       "_view_module_version": "1.2.0",
       "display": "inline-flex",
       "flex_flow": "row wrap",
       "justify_items": null,
       "object_fit": null,
       "object_position": null,
       "width": "100%"
      }
     },
     "317004001f9042548204b142f01b8ee5": {
      "model_module": "@jupyter-widgets/controls",
      "model_module_version": "1.5.0",
      "model_name": "HBoxModel",
      "state": {
       "_model_module_version": "1.5.0",
       "_view_module_version": "1.5.0",
       "children": [
        "IPY_MODEL_7436b89db24f427fabbf964383313aba",
        "IPY_MODEL_a2a79412b9bd4f75afcaec547f0d60db"
       ],
       "layout": "IPY_MODEL_916d3ae930654536b4e8b59b20412dcb"
      }
     },
     "31779450f2ea414da53017a7756df5cd": {
      "model_module": "@jupyter-widgets/base",
      "model_module_version": "1.2.0",
      "model_name": "LayoutModel",
      "state": {
       "_model_module_version": "1.2.0",
       "_view_module_version": "1.2.0",
       "flex": "2",
       "justify_items": null,
       "object_fit": null,
       "object_position": null
      }
     },
     "318950a1ec6e44c897066422a18e1c77": {
      "model_module": "@jupyter-widgets/base",
      "model_module_version": "1.2.0",
      "model_name": "LayoutModel",
      "state": {
       "_model_module_version": "1.2.0",
       "_view_module_version": "1.2.0",
       "flex": "2",
       "justify_items": null,
       "object_fit": null,
       "object_position": null
      }
     },
     "31be6cb34d6d464c83e6238c61dff425": {
      "model_module": "@jupyter-widgets/controls",
      "model_module_version": "1.5.0",
      "model_name": "HTMLModel",
      "state": {
       "_model_module_version": "1.5.0",
       "_view_module_version": "1.5.0",
       "layout": "IPY_MODEL_800cd32ff8314c7481b15c901d10e779",
       "style": "IPY_MODEL_d9d11519b25d4ca89123917c126d85d2",
       "value": " ETA: 00:00s - loss: 0.0288 - val_loss: 0.0319"
      }
     },
     "31c5762eb0744121bb9eed79f37dcd81": {
      "model_module": "@jupyter-widgets/base",
      "model_module_version": "1.2.0",
      "model_name": "LayoutModel",
      "state": {
       "_model_module_version": "1.2.0",
       "_view_module_version": "1.2.0",
       "flex": "2",
       "justify_items": null,
       "object_fit": null,
       "object_position": null
      }
     },
     "31d1f43fcc254a0fb63e5d1eb921802b": {
      "model_module": "@jupyter-widgets/controls",
      "model_module_version": "1.5.0",
      "model_name": "HBoxModel",
      "state": {
       "_model_module_version": "1.5.0",
       "_view_module_version": "1.5.0",
       "children": [
        "IPY_MODEL_3b4eb5310b574d6f8a5cd117c8edfeba",
        "IPY_MODEL_d704e783a38c40abb636340e53502661"
       ],
       "layout": "IPY_MODEL_2afe801d26ff4069b43ffbb323c23539"
      }
     },
     "325f6b1030e9469e839cee5f11f71bbd": {
      "model_module": "@jupyter-widgets/controls",
      "model_module_version": "1.5.0",
      "model_name": "FloatProgressModel",
      "state": {
       "_model_module_version": "1.5.0",
       "_view_module_version": "1.5.0",
       "bar_style": "danger",
       "description": "Training:   3%",
       "layout": "IPY_MODEL_e3a1806e1ac2450fa48db3282df0e85f",
       "style": "IPY_MODEL_748b8d6b632e4de58320754119aa56b2",
       "value": 3
      }
     },
     "3287e391f4974ed090f0bf99e4417f49": {
      "model_module": "@jupyter-widgets/base",
      "model_module_version": "1.2.0",
      "model_name": "LayoutModel",
      "state": {
       "_model_module_version": "1.2.0",
       "_view_module_version": "1.2.0",
       "justify_items": null,
       "object_fit": null,
       "object_position": null
      }
     },
     "3435acd297ac432b9cab665df43b34a0": {
      "model_module": "@jupyter-widgets/controls",
      "model_module_version": "1.5.0",
      "model_name": "HBoxModel",
      "state": {
       "_model_module_version": "1.5.0",
       "_view_module_version": "1.5.0",
       "children": [
        "IPY_MODEL_0fc8241040084d87b567b42d54788e82",
        "IPY_MODEL_918cd81d56164c8784b2e09d63810df7"
       ],
       "layout": "IPY_MODEL_e2d6b8c9145340899786c9deb942584d"
      }
     },
     "3468feda5a5549439912ac6c56aae3bb": {
      "model_module": "@jupyter-widgets/base",
      "model_module_version": "1.2.0",
      "model_name": "LayoutModel",
      "state": {
       "_model_module_version": "1.2.0",
       "_view_module_version": "1.2.0",
       "flex": "2",
       "justify_items": null,
       "object_fit": null,
       "object_position": null
      }
     },
     "3470428fc938439f88d1f1ffbe8d86ac": {
      "model_module": "@jupyter-widgets/controls",
      "model_module_version": "1.5.0",
      "model_name": "DescriptionStyleModel",
      "state": {
       "_model_module_version": "1.5.0",
       "_view_module_version": "1.2.0",
       "description_width": ""
      }
     },
     "3494d4e74134478e830a500f84a9231f": {
      "model_module": "@jupyter-widgets/base",
      "model_module_version": "1.2.0",
      "model_name": "LayoutModel",
      "state": {
       "_model_module_version": "1.2.0",
       "_view_module_version": "1.2.0",
       "flex": "2",
       "justify_items": null,
       "object_fit": null,
       "object_position": null
      }
     },
     "34c9cbbe751541918d02ef1d9dd1da99": {
      "model_module": "@jupyter-widgets/controls",
      "model_module_version": "1.5.0",
      "model_name": "HTMLModel",
      "state": {
       "_model_module_version": "1.5.0",
       "_view_module_version": "1.5.0",
       "layout": "IPY_MODEL_3a87cf18abff4cef900f22d079212e4a",
       "style": "IPY_MODEL_456ae6ce7b3d46dcbb8852fe54b6ee17",
       "value": " ETA: 00:00s - loss: 0.0001 - val_loss: 0.0001"
      }
     },
     "35521731430c42c18c9aaf80edc874ff": {
      "model_module": "@jupyter-widgets/base",
      "model_module_version": "1.2.0",
      "model_name": "LayoutModel",
      "state": {
       "_model_module_version": "1.2.0",
       "_view_module_version": "1.2.0",
       "display": "inline-flex",
       "flex_flow": "row wrap",
       "justify_items": null,
       "object_fit": null,
       "object_position": null,
       "width": "100%"
      }
     },
     "358d6a2924ad4d1db8885c812f3e581a": {
      "model_module": "@jupyter-widgets/base",
      "model_module_version": "1.2.0",
      "model_name": "LayoutModel",
      "state": {
       "_model_module_version": "1.2.0",
       "_view_module_version": "1.2.0",
       "display": "inline-flex",
       "flex_flow": "row wrap",
       "justify_items": null,
       "object_fit": null,
       "object_position": null,
       "width": "100%"
      }
     },
     "35dbcde75ecd4a8fb4e5074ce45bb63b": {
      "model_module": "@jupyter-widgets/controls",
      "model_module_version": "1.5.0",
      "model_name": "HTMLModel",
      "state": {
       "_model_module_version": "1.5.0",
       "_view_module_version": "1.5.0",
       "layout": "IPY_MODEL_61ccc4d6942d4de5ba6822de0f8a058c",
       "style": "IPY_MODEL_1a8cdb88f3764d89b42731eaf8e2e7e5",
       "value": " ETA: 00:00s - loss: 0.0002 - val_loss: 0.0001"
      }
     },
     "36568f8723364ecaab878680ca409d04": {
      "model_module": "@jupyter-widgets/base",
      "model_module_version": "1.2.0",
      "model_name": "LayoutModel",
      "state": {
       "_model_module_version": "1.2.0",
       "_view_module_version": "1.2.0",
       "display": "inline-flex",
       "flex_flow": "row wrap",
       "justify_items": null,
       "object_fit": null,
       "object_position": null,
       "width": "100%"
      }
     },
     "3705cb70f4d042eb97f467b35c527923": {
      "model_module": "@jupyter-widgets/controls",
      "model_module_version": "1.5.0",
      "model_name": "ProgressStyleModel",
      "state": {
       "_model_module_version": "1.5.0",
       "_view_module_version": "1.2.0",
       "description_width": "initial"
      }
     },
     "37125cd7ade9424dbd240bddb2d05ead": {
      "model_module": "@jupyter-widgets/controls",
      "model_module_version": "1.5.0",
      "model_name": "DescriptionStyleModel",
      "state": {
       "_model_module_version": "1.5.0",
       "_view_module_version": "1.2.0",
       "description_width": ""
      }
     },
     "3724e93848064eeba1b1a6717e1866cc": {
      "model_module": "@jupyter-widgets/base",
      "model_module_version": "1.2.0",
      "model_name": "LayoutModel",
      "state": {
       "_model_module_version": "1.2.0",
       "_view_module_version": "1.2.0",
       "display": "inline-flex",
       "flex_flow": "row wrap",
       "justify_items": null,
       "object_fit": null,
       "object_position": null,
       "width": "100%"
      }
     },
     "377d0381784e402b84f63286d82e2060": {
      "model_module": "@jupyter-widgets/controls",
      "model_module_version": "1.5.0",
      "model_name": "ProgressStyleModel",
      "state": {
       "_model_module_version": "1.5.0",
       "_view_module_version": "1.2.0",
       "description_width": "initial"
      }
     },
     "379304bd1013443b837554573c5aec30": {
      "model_module": "@jupyter-widgets/base",
      "model_module_version": "1.2.0",
      "model_name": "LayoutModel",
      "state": {
       "_model_module_version": "1.2.0",
       "_view_module_version": "1.2.0",
       "justify_items": null,
       "object_fit": null,
       "object_position": null
      }
     },
     "3807dd706ae14448bc8639f72e979bd5": {
      "model_module": "@jupyter-widgets/controls",
      "model_module_version": "1.5.0",
      "model_name": "FloatProgressModel",
      "state": {
       "_model_module_version": "1.5.0",
       "_view_module_version": "1.5.0",
       "bar_style": "success",
       "description": "5625/5625",
       "layout": "IPY_MODEL_eaa936f4d5c44d119efd6de9ee0cd992",
       "max": 5625,
       "style": "IPY_MODEL_ab04eb27e2ce4f79896d36b8e81a5482",
       "value": 5625
      }
     },
     "387f7c10950c4bc5bb3d26ace9ef841b": {
      "model_module": "@jupyter-widgets/controls",
      "model_module_version": "1.5.0",
      "model_name": "FloatProgressModel",
      "state": {
       "_model_module_version": "1.5.0",
       "_view_module_version": "1.5.0",
       "bar_style": "success",
       "description": "5625/5625",
       "layout": "IPY_MODEL_4fa4b24f468d4f47bbb48a3173bc4003",
       "max": 5625,
       "style": "IPY_MODEL_74797478fe414f7ea7ed53014961662c",
       "value": 5625
      }
     },
     "39163d73034f4c6780921a471377aa70": {
      "model_module": "@jupyter-widgets/controls",
      "model_module_version": "1.5.0",
      "model_name": "ProgressStyleModel",
      "state": {
       "_model_module_version": "1.5.0",
       "_view_module_version": "1.2.0",
       "description_width": "initial"
      }
     },
     "39567e9a3dab43aba84cdb172b3e1f89": {
      "model_module": "@jupyter-widgets/controls",
      "model_module_version": "1.5.0",
      "model_name": "HTMLModel",
      "state": {
       "_model_module_version": "1.5.0",
       "_view_module_version": "1.5.0",
       "layout": "IPY_MODEL_cefcec7f16644e67a2a04c35ae80a8d1",
       "style": "IPY_MODEL_af0d804d00804fd18f76fe0775938522",
       "value": " ETA: 00:00s - loss: 0.0001 - val_loss: 0.0001"
      }
     },
     "399c97f633f7434f80719afa23c8bd8a": {
      "model_module": "@jupyter-widgets/controls",
      "model_module_version": "1.5.0",
      "model_name": "HTMLModel",
      "state": {
       "_model_module_version": "1.5.0",
       "_view_module_version": "1.5.0",
       "layout": "IPY_MODEL_f930e027856e4c8faf6172b4b39e2a4e",
       "style": "IPY_MODEL_11967dbda2d54150b6a90dff27c58492",
       "value": " ETA: 00:00s - loss: nan"
      }
     },
     "39cd1bb3fdc948e78eec0bb735f86eff": {
      "model_module": "@jupyter-widgets/base",
      "model_module_version": "1.2.0",
      "model_name": "LayoutModel",
      "state": {
       "_model_module_version": "1.2.0",
       "_view_module_version": "1.2.0",
       "justify_items": null,
       "object_fit": null,
       "object_position": null
      }
     },
     "3a1000ea43fc44ea949f159d58311403": {
      "model_module": "@jupyter-widgets/controls",
      "model_module_version": "1.5.0",
      "model_name": "HTMLModel",
      "state": {
       "_model_module_version": "1.5.0",
       "_view_module_version": "1.5.0",
       "layout": "IPY_MODEL_75bc36fff3434eaca2140a9c7f9b20af",
       "style": "IPY_MODEL_cb148b49775542d289d0c6f2cf6e9acc",
       "value": " ETA: 00:00s - loss: 0.0003 - val_loss: 0.0002"
      }
     },
     "3a62ab826aa843efae7af48b0f38dd76": {
      "model_module": "@jupyter-widgets/base",
      "model_module_version": "1.2.0",
      "model_name": "LayoutModel",
      "state": {
       "_model_module_version": "1.2.0",
       "_view_module_version": "1.2.0",
       "display": "inline-flex",
       "flex_flow": "row wrap",
       "justify_items": null,
       "object_fit": null,
       "object_position": null,
       "width": "100%"
      }
     },
     "3a87cf18abff4cef900f22d079212e4a": {
      "model_module": "@jupyter-widgets/base",
      "model_module_version": "1.2.0",
      "model_name": "LayoutModel",
      "state": {
       "_model_module_version": "1.2.0",
       "_view_module_version": "1.2.0",
       "justify_items": null,
       "object_fit": null,
       "object_position": null
      }
     },
     "3af4421af0bc42839deea8a9f8f1c9d3": {
      "model_module": "@jupyter-widgets/controls",
      "model_module_version": "1.5.0",
      "model_name": "ProgressStyleModel",
      "state": {
       "_model_module_version": "1.5.0",
       "_view_module_version": "1.2.0",
       "description_width": "initial"
      }
     },
     "3afa05827f4d4419b52415f4d7996f4c": {
      "model_module": "@jupyter-widgets/controls",
      "model_module_version": "1.5.0",
      "model_name": "DescriptionStyleModel",
      "state": {
       "_model_module_version": "1.5.0",
       "_view_module_version": "1.2.0",
       "description_width": ""
      }
     },
     "3b2d8ff6cc33493ab8f1915575265935": {
      "model_module": "@jupyter-widgets/controls",
      "model_module_version": "1.5.0",
      "model_name": "FloatProgressModel",
      "state": {
       "_model_module_version": "1.5.0",
       "_view_module_version": "1.5.0",
       "bar_style": "success",
       "description": "5625/5625",
       "layout": "IPY_MODEL_7ee1b5cfb0d74693b5823092598b3bf9",
       "max": 5625,
       "style": "IPY_MODEL_4489dcf4c59e4c2fbd6ff0a0d69c2b17",
       "value": 5625
      }
     },
     "3b4eb5310b574d6f8a5cd117c8edfeba": {
      "model_module": "@jupyter-widgets/controls",
      "model_module_version": "1.5.0",
      "model_name": "FloatProgressModel",
      "state": {
       "_model_module_version": "1.5.0",
       "_view_module_version": "1.5.0",
       "bar_style": "success",
       "description": "5625/5625",
       "layout": "IPY_MODEL_a89dbd51bf0b48ceacefcb3a19bdb8c6",
       "max": 5625,
       "style": "IPY_MODEL_39163d73034f4c6780921a471377aa70",
       "value": 5625
      }
     },
     "3bd0d43ebced4585ae642ff9695c5089": {
      "model_module": "@jupyter-widgets/controls",
      "model_module_version": "1.5.0",
      "model_name": "ProgressStyleModel",
      "state": {
       "_model_module_version": "1.5.0",
       "_view_module_version": "1.2.0",
       "description_width": "initial"
      }
     },
     "3bd4d7d8dace4263b88ec37f5974cebb": {
      "model_module": "@jupyter-widgets/controls",
      "model_module_version": "1.5.0",
      "model_name": "ProgressStyleModel",
      "state": {
       "_model_module_version": "1.5.0",
       "_view_module_version": "1.2.0",
       "description_width": "initial"
      }
     },
     "3bd543ee07aa45b680bf4ff265f4bb75": {
      "model_module": "@jupyter-widgets/base",
      "model_module_version": "1.2.0",
      "model_name": "LayoutModel",
      "state": {
       "_model_module_version": "1.2.0",
       "_view_module_version": "1.2.0",
       "flex": "2",
       "justify_items": null,
       "object_fit": null,
       "object_position": null
      }
     },
     "3be3663ca6d54896abd22e14277942f3": {
      "model_module": "@jupyter-widgets/base",
      "model_module_version": "1.2.0",
      "model_name": "LayoutModel",
      "state": {
       "_model_module_version": "1.2.0",
       "_view_module_version": "1.2.0",
       "flex": "2",
       "justify_items": null,
       "object_fit": null,
       "object_position": null
      }
     },
     "3cb98bdc37054caba96ce769c393b972": {
      "model_module": "@jupyter-widgets/controls",
      "model_module_version": "1.5.0",
      "model_name": "HTMLModel",
      "state": {
       "_model_module_version": "1.5.0",
       "_view_module_version": "1.5.0",
       "layout": "IPY_MODEL_bd5dc66cd4fd4a32b387706da3b32111",
       "style": "IPY_MODEL_9b4a5e8859b2445d8d6fe0cff205f850",
       "value": " ETA: 00:00s - loss: 0.0001 - val_loss: 0.0002"
      }
     },
     "3d59469b42ca40c096a9caf74a3cc1ac": {
      "model_module": "@jupyter-widgets/controls",
      "model_module_version": "1.5.0",
      "model_name": "DescriptionStyleModel",
      "state": {
       "_model_module_version": "1.5.0",
       "_view_module_version": "1.2.0",
       "description_width": ""
      }
     },
     "3dad56549eb049628cd73863353c5b99": {
      "model_module": "@jupyter-widgets/controls",
      "model_module_version": "1.5.0",
      "model_name": "HBoxModel",
      "state": {
       "_model_module_version": "1.5.0",
       "_view_module_version": "1.5.0",
       "children": [
        "IPY_MODEL_1029adb8995043178a2cfa6a49b0fef8",
        "IPY_MODEL_fcda9ddc621c4a97b33ef01d3f400570"
       ],
       "layout": "IPY_MODEL_29851542f222428fb25767f0057346b2"
      }
     },
     "3dbcaa90fe3d413fb575a15453e30fba": {
      "model_module": "@jupyter-widgets/controls",
      "model_module_version": "1.5.0",
      "model_name": "ProgressStyleModel",
      "state": {
       "_model_module_version": "1.5.0",
       "_view_module_version": "1.2.0",
       "description_width": "initial"
      }
     },
     "3e0c1d4d25134f9bb56433a4973c0aea": {
      "model_module": "@jupyter-widgets/controls",
      "model_module_version": "1.5.0",
      "model_name": "HBoxModel",
      "state": {
       "_model_module_version": "1.5.0",
       "_view_module_version": "1.5.0",
       "children": [
        "IPY_MODEL_295a070fbfcc45918362f483182743c2",
        "IPY_MODEL_3a1000ea43fc44ea949f159d58311403"
       ],
       "layout": "IPY_MODEL_763c41ac313c441bbad716635a0f0798"
      }
     },
     "3e7ec50fc8a9446e83aa94a81e8da970": {
      "model_module": "@jupyter-widgets/controls",
      "model_module_version": "1.5.0",
      "model_name": "HTMLModel",
      "state": {
       "_model_module_version": "1.5.0",
       "_view_module_version": "1.5.0",
       "layout": "IPY_MODEL_7e86d938bc2540cdb1181068040cdf7f",
       "style": "IPY_MODEL_70d7a35361f948e4ba8dee2f38408f47",
       "value": " ETA: 00:00s - loss: 0.0546 - val_loss: 0.0413"
      }
     },
     "3ea1b7b810d445d7a9d9a96a50e58855": {
      "model_module": "@jupyter-widgets/base",
      "model_module_version": "1.2.0",
      "model_name": "LayoutModel",
      "state": {
       "_model_module_version": "1.2.0",
       "_view_module_version": "1.2.0",
       "display": "inline-flex",
       "flex_flow": "row wrap",
       "justify_items": null,
       "object_fit": null,
       "object_position": null,
       "width": "100%"
      }
     },
     "3eae06cdf9334d8d956a99719c946409": {
      "model_module": "@jupyter-widgets/base",
      "model_module_version": "1.2.0",
      "model_name": "LayoutModel",
      "state": {
       "_model_module_version": "1.2.0",
       "_view_module_version": "1.2.0",
       "justify_items": null,
       "object_fit": null,
       "object_position": null
      }
     },
     "3eeb5ddb42b14cb4974c5fae161067db": {
      "model_module": "@jupyter-widgets/base",
      "model_module_version": "1.2.0",
      "model_name": "LayoutModel",
      "state": {
       "_model_module_version": "1.2.0",
       "_view_module_version": "1.2.0",
       "display": "inline-flex",
       "flex_flow": "row wrap",
       "justify_items": null,
       "object_fit": null,
       "object_position": null,
       "width": "100%"
      }
     },
     "3fbd72a18ac54276839c1f10de0f8838": {
      "model_module": "@jupyter-widgets/controls",
      "model_module_version": "1.5.0",
      "model_name": "FloatProgressModel",
      "state": {
       "_model_module_version": "1.5.0",
       "_view_module_version": "1.5.0",
       "bar_style": "success",
       "description": "5625/5625",
       "layout": "IPY_MODEL_87f76ea53aef498ba439151bbdddd224",
       "max": 5625,
       "style": "IPY_MODEL_e33542869b9c413fa6b9969016477229",
       "value": 5625
      }
     },
     "4020cadec19a4189a608453c252e6c62": {
      "model_module": "@jupyter-widgets/controls",
      "model_module_version": "1.5.0",
      "model_name": "ProgressStyleModel",
      "state": {
       "_model_module_version": "1.5.0",
       "_view_module_version": "1.2.0",
       "description_width": "initial"
      }
     },
     "403027a15e90438f852c3c9a74bc2786": {
      "model_module": "@jupyter-widgets/controls",
      "model_module_version": "1.5.0",
      "model_name": "HTMLModel",
      "state": {
       "_model_module_version": "1.5.0",
       "_view_module_version": "1.5.0",
       "layout": "IPY_MODEL_23eda739590f47dabffd966ceb59f4d5",
       "style": "IPY_MODEL_0ee30b80e4dd471b997864a8b6dd6015",
       "value": " ETA: 00:00s - loss: 0.0293 - val_loss: 0.0291"
      }
     },
     "40555a5af46f4d2e945d9d7eeffe5603": {
      "model_module": "@jupyter-widgets/controls",
      "model_module_version": "1.5.0",
      "model_name": "DescriptionStyleModel",
      "state": {
       "_model_module_version": "1.5.0",
       "_view_module_version": "1.2.0",
       "description_width": ""
      }
     },
     "4072fa18ec304a5fae73dc8bbd921c1f": {
      "model_module": "@jupyter-widgets/controls",
      "model_module_version": "1.5.0",
      "model_name": "FloatProgressModel",
      "state": {
       "_model_module_version": "1.5.0",
       "_view_module_version": "1.5.0",
       "bar_style": "success",
       "description": "5625/5625",
       "layout": "IPY_MODEL_3494d4e74134478e830a500f84a9231f",
       "max": 5625,
       "style": "IPY_MODEL_81664111586940fa8ad05616b45b6f1f",
       "value": 5625
      }
     },
     "418213dddb914c63bc2bff93db2553eb": {
      "model_module": "@jupyter-widgets/base",
      "model_module_version": "1.2.0",
      "model_name": "LayoutModel",
      "state": {
       "_model_module_version": "1.2.0",
       "_view_module_version": "1.2.0",
       "justify_items": null,
       "object_fit": null,
       "object_position": null
      }
     },
     "41981838e6fc4834a1241512ebad9c8f": {
      "model_module": "@jupyter-widgets/controls",
      "model_module_version": "1.5.0",
      "model_name": "FloatProgressModel",
      "state": {
       "_model_module_version": "1.5.0",
       "_view_module_version": "1.5.0",
       "bar_style": "success",
       "description": "5625/5625",
       "layout": "IPY_MODEL_abc902d789f84a1a8e6400d39c539b2c",
       "max": 5625,
       "style": "IPY_MODEL_dea69aeff2254a92aeda14ba8335c998",
       "value": 5625
      }
     },
     "41cb5727b3904b49bf6fdc0a27688af7": {
      "model_module": "@jupyter-widgets/controls",
      "model_module_version": "1.5.0",
      "model_name": "HBoxModel",
      "state": {
       "_model_module_version": "1.5.0",
       "_view_module_version": "1.5.0",
       "children": [
        "IPY_MODEL_9adfe9de806e4cb0a0979307c0f64cae",
        "IPY_MODEL_aeec299d762346fc9d3d242727ba6704"
       ],
       "layout": "IPY_MODEL_f5aa95c70e294dbf8f50dc9f47f1610a"
      }
     },
     "41f1bd265b004f2993559b8d77e9feb8": {
      "model_module": "@jupyter-widgets/controls",
      "model_module_version": "1.5.0",
      "model_name": "HTMLModel",
      "state": {
       "_model_module_version": "1.5.0",
       "_view_module_version": "1.5.0",
       "layout": "IPY_MODEL_f897341538734400b75a5599dcc3ec1a",
       "style": "IPY_MODEL_9ec5440d8eb74eda9930419317f813d5",
       "value": " ETA: 00:00s - loss: 0.0304 - val_loss: 0.0297"
      }
     },
     "42b8db2b294045e2968df94e790e66a2": {
      "model_module": "@jupyter-widgets/base",
      "model_module_version": "1.2.0",
      "model_name": "LayoutModel",
      "state": {
       "_model_module_version": "1.2.0",
       "_view_module_version": "1.2.0",
       "justify_items": null,
       "object_fit": null,
       "object_position": null
      }
     },
     "42eab23fdd86464b89e527528d9532bd": {
      "model_module": "@jupyter-widgets/controls",
      "model_module_version": "1.5.0",
      "model_name": "HTMLModel",
      "state": {
       "_model_module_version": "1.5.0",
       "_view_module_version": "1.5.0",
       "layout": "IPY_MODEL_78cd95aff6c24d2eb89d2db8bff5054c",
       "style": "IPY_MODEL_c790822fdde740fbb33c74a39bc56359",
       "value": " ETA: 00:00s - loss: 0.0011 - val_loss: 0.0012"
      }
     },
     "432ecbabfbc5473284f9b64488bbc20b": {
      "model_module": "@jupyter-widgets/base",
      "model_module_version": "1.2.0",
      "model_name": "LayoutModel",
      "state": {
       "_model_module_version": "1.2.0",
       "_view_module_version": "1.2.0",
       "flex": "2",
       "justify_items": null,
       "object_fit": null,
       "object_position": null
      }
     },
     "4354fb19af7045a494809f58cb8e7089": {
      "model_module": "@jupyter-widgets/controls",
      "model_module_version": "1.5.0",
      "model_name": "FloatProgressModel",
      "state": {
       "_model_module_version": "1.5.0",
       "_view_module_version": "1.5.0",
       "bar_style": "success",
       "description": "5625/5625",
       "layout": "IPY_MODEL_d110bdd278194e52ac45025d21bfe799",
       "max": 5625,
       "style": "IPY_MODEL_f4b296a010a4429fa84a4dd2dbc15374",
       "value": 5625
      }
     },
     "43c15e078c0349538b91586e79161391": {
      "model_module": "@jupyter-widgets/base",
      "model_module_version": "1.2.0",
      "model_name": "LayoutModel",
      "state": {
       "_model_module_version": "1.2.0",
       "_view_module_version": "1.2.0",
       "justify_items": null,
       "object_fit": null,
       "object_position": null
      }
     },
     "445c8467346944258967bd5a094a11ae": {
      "model_module": "@jupyter-widgets/base",
      "model_module_version": "1.2.0",
      "model_name": "LayoutModel",
      "state": {
       "_model_module_version": "1.2.0",
       "_view_module_version": "1.2.0",
       "justify_items": null,
       "object_fit": null,
       "object_position": null
      }
     },
     "4489dcf4c59e4c2fbd6ff0a0d69c2b17": {
      "model_module": "@jupyter-widgets/controls",
      "model_module_version": "1.5.0",
      "model_name": "ProgressStyleModel",
      "state": {
       "_model_module_version": "1.5.0",
       "_view_module_version": "1.2.0",
       "description_width": "initial"
      }
     },
     "44db8d88d5a246c884ce8f9c5fe089df": {
      "model_module": "@jupyter-widgets/controls",
      "model_module_version": "1.5.0",
      "model_name": "ProgressStyleModel",
      "state": {
       "_model_module_version": "1.5.0",
       "_view_module_version": "1.2.0",
       "description_width": "initial"
      }
     },
     "456ae6ce7b3d46dcbb8852fe54b6ee17": {
      "model_module": "@jupyter-widgets/controls",
      "model_module_version": "1.5.0",
      "model_name": "DescriptionStyleModel",
      "state": {
       "_model_module_version": "1.5.0",
       "_view_module_version": "1.2.0",
       "description_width": ""
      }
     },
     "466bb3c6d0294416b59a054359aeb016": {
      "model_module": "@jupyter-widgets/controls",
      "model_module_version": "1.5.0",
      "model_name": "HBoxModel",
      "state": {
       "_model_module_version": "1.5.0",
       "_view_module_version": "1.5.0",
       "children": [
        "IPY_MODEL_5abdb466da18402eba02e3140840680a",
        "IPY_MODEL_30c2f4021806475181a1047151d8a52a"
       ],
       "layout": "IPY_MODEL_e9d073d7336a4bdaaa70bb1bec52682f"
      }
     },
     "469f7ab978d5419187bb8f75e6f57890": {
      "model_module": "@jupyter-widgets/controls",
      "model_module_version": "1.5.0",
      "model_name": "HTMLModel",
      "state": {
       "_model_module_version": "1.5.0",
       "_view_module_version": "1.5.0",
       "layout": "IPY_MODEL_379304bd1013443b837554573c5aec30",
       "style": "IPY_MODEL_5d5e36366cad4979b33a8f2c5f42d475",
       "value": " ETA: 00:00s - loss: 0.0315 - val_loss: 0.0299"
      }
     },
     "469fa72ab02a4062af6ac910f6779da2": {
      "model_module": "@jupyter-widgets/controls",
      "model_module_version": "1.5.0",
      "model_name": "ProgressStyleModel",
      "state": {
       "_model_module_version": "1.5.0",
       "_view_module_version": "1.2.0",
       "description_width": "initial"
      }
     },
     "47f474c674aa4ed0aae12aaf15ac90ce": {
      "model_module": "@jupyter-widgets/controls",
      "model_module_version": "1.5.0",
      "model_name": "FloatProgressModel",
      "state": {
       "_model_module_version": "1.5.0",
       "_view_module_version": "1.5.0",
       "bar_style": "success",
       "description": "5625/5625",
       "layout": "IPY_MODEL_5349f64338e24363970abca5eb0aa9da",
       "max": 5625,
       "style": "IPY_MODEL_62489f5b1dbf45b3a4ccff3816c4bdd5",
       "value": 5625
      }
     },
     "4827defc60594d2f8a9846fdcd1c117a": {
      "model_module": "@jupyter-widgets/base",
      "model_module_version": "1.2.0",
      "model_name": "LayoutModel",
      "state": {
       "_model_module_version": "1.2.0",
       "_view_module_version": "1.2.0",
       "flex": "2",
       "justify_items": null,
       "object_fit": null,
       "object_position": null
      }
     },
     "4837d7e734d44cac9218410fff2e52de": {
      "model_module": "@jupyter-widgets/controls",
      "model_module_version": "1.5.0",
      "model_name": "ProgressStyleModel",
      "state": {
       "_model_module_version": "1.5.0",
       "_view_module_version": "1.2.0",
       "description_width": "initial"
      }
     },
     "4871a9b9228a494e9f34fe2a8930db42": {
      "model_module": "@jupyter-widgets/controls",
      "model_module_version": "1.5.0",
      "model_name": "DescriptionStyleModel",
      "state": {
       "_model_module_version": "1.5.0",
       "_view_module_version": "1.2.0",
       "description_width": ""
      }
     },
     "48e7771898d04dbcb855e7e16db6a6a3": {
      "model_module": "@jupyter-widgets/base",
      "model_module_version": "1.2.0",
      "model_name": "LayoutModel",
      "state": {
       "_model_module_version": "1.2.0",
       "_view_module_version": "1.2.0",
       "display": "inline-flex",
       "flex_flow": "row wrap",
       "justify_items": null,
       "object_fit": null,
       "object_position": null,
       "width": "100%"
      }
     },
     "48e9c2698d6a48578c6b219194d3aa8e": {
      "model_module": "@jupyter-widgets/controls",
      "model_module_version": "1.5.0",
      "model_name": "HTMLModel",
      "state": {
       "_model_module_version": "1.5.0",
       "_view_module_version": "1.5.0",
       "layout": "IPY_MODEL_826462eb8c1a473abf499809661a95b4",
       "style": "IPY_MODEL_61cc27f3e04942c0bf564da56be69d35",
       "value": " ETA: 00:00s - loss: 0.0001 - val_loss: 0.0001"
      }
     },
     "49217a08842d44f8b166a4c321a04642": {
      "model_module": "@jupyter-widgets/controls",
      "model_module_version": "1.5.0",
      "model_name": "HTMLModel",
      "state": {
       "_model_module_version": "1.5.0",
       "_view_module_version": "1.5.0",
       "layout": "IPY_MODEL_a88342a7a75f4993af93ed130209a9c0",
       "style": "IPY_MODEL_207df057fa3141c7b3785a50faab2df7",
       "value": " ETA: 00:00s - loss: 0.0002 - val_loss: 0.0003"
      }
     },
     "4a2dc9ff867d4fad9b5f499688e6d543": {
      "model_module": "@jupyter-widgets/controls",
      "model_module_version": "1.5.0",
      "model_name": "ProgressStyleModel",
      "state": {
       "_model_module_version": "1.5.0",
       "_view_module_version": "1.2.0",
       "description_width": "initial"
      }
     },
     "4a6e24096cf742efbb6e1ee79fe58c7c": {
      "model_module": "@jupyter-widgets/controls",
      "model_module_version": "1.5.0",
      "model_name": "HBoxModel",
      "state": {
       "_model_module_version": "1.5.0",
       "_view_module_version": "1.5.0",
       "children": [
        "IPY_MODEL_9611a8069a0d4cadb6d5be932f2529f5",
        "IPY_MODEL_c3f0abe6742848baa64d939e7dea6e09"
       ],
       "layout": "IPY_MODEL_f3f898e27576497cb5ba005cf858cb4f"
      }
     },
     "4a999f19198a4d03942f98c49c014383": {
      "model_module": "@jupyter-widgets/controls",
      "model_module_version": "1.5.0",
      "model_name": "FloatProgressModel",
      "state": {
       "_model_module_version": "1.5.0",
       "_view_module_version": "1.5.0",
       "bar_style": "danger",
       "description": "Training:   8%",
       "layout": "IPY_MODEL_1dc4b9089fb34cbd94e0d485e4c213b0",
       "style": "IPY_MODEL_bc13439a2e414b90872d85bdaaa670d7",
       "value": 8
      }
     },
     "4b009aed99d04b28832b63ec54a5cdb0": {
      "model_module": "@jupyter-widgets/controls",
      "model_module_version": "1.5.0",
      "model_name": "DescriptionStyleModel",
      "state": {
       "_model_module_version": "1.5.0",
       "_view_module_version": "1.2.0",
       "description_width": ""
      }
     },
     "4b8f811d7f57459e87f7255681c4c091": {
      "model_module": "@jupyter-widgets/controls",
      "model_module_version": "1.5.0",
      "model_name": "DescriptionStyleModel",
      "state": {
       "_model_module_version": "1.5.0",
       "_view_module_version": "1.2.0",
       "description_width": ""
      }
     },
     "4c5e5f4bf3f74422ad6d0346ea1c157f": {
      "model_module": "@jupyter-widgets/controls",
      "model_module_version": "1.5.0",
      "model_name": "DescriptionStyleModel",
      "state": {
       "_model_module_version": "1.5.0",
       "_view_module_version": "1.2.0",
       "description_width": ""
      }
     },
     "4cde282d093d4b5ebfde6e79c1fd3d67": {
      "model_module": "@jupyter-widgets/base",
      "model_module_version": "1.2.0",
      "model_name": "LayoutModel",
      "state": {
       "_model_module_version": "1.2.0",
       "_view_module_version": "1.2.0",
       "justify_items": null,
       "object_fit": null,
       "object_position": null
      }
     },
     "4d5cb4d8562b48e3932161cd6eba7a7f": {
      "model_module": "@jupyter-widgets/base",
      "model_module_version": "1.2.0",
      "model_name": "LayoutModel",
      "state": {
       "_model_module_version": "1.2.0",
       "_view_module_version": "1.2.0",
       "display": "inline-flex",
       "flex_flow": "row wrap",
       "justify_items": null,
       "object_fit": null,
       "object_position": null,
       "width": "100%"
      }
     },
     "4d630a2df43e4d81901938441c569f15": {
      "model_module": "@jupyter-widgets/controls",
      "model_module_version": "1.5.0",
      "model_name": "HBoxModel",
      "state": {
       "_model_module_version": "1.5.0",
       "_view_module_version": "1.5.0",
       "children": [
        "IPY_MODEL_5c355c7497e846bba60ba2770618e6ca",
        "IPY_MODEL_8bb24f7fddd146d6bc4c2a3bc910196c"
       ],
       "layout": "IPY_MODEL_ff520c50599d4fd5a505c6aee15d7a16"
      }
     },
     "4d657fe65c0b4e058d71093d85876cad": {
      "model_module": "@jupyter-widgets/base",
      "model_module_version": "1.2.0",
      "model_name": "LayoutModel",
      "state": {
       "_model_module_version": "1.2.0",
       "_view_module_version": "1.2.0",
       "display": "inline-flex",
       "flex_flow": "row wrap",
       "justify_items": null,
       "object_fit": null,
       "object_position": null,
       "width": "100%"
      }
     },
     "4d82106c6f544f72a3e167feba98fae0": {
      "model_module": "@jupyter-widgets/base",
      "model_module_version": "1.2.0",
      "model_name": "LayoutModel",
      "state": {
       "_model_module_version": "1.2.0",
       "_view_module_version": "1.2.0",
       "flex": "2",
       "justify_items": null,
       "object_fit": null,
       "object_position": null
      }
     },
     "4d89bb6521a6458fac899023b57bdf46": {
      "model_module": "@jupyter-widgets/base",
      "model_module_version": "1.2.0",
      "model_name": "LayoutModel",
      "state": {
       "_model_module_version": "1.2.0",
       "_view_module_version": "1.2.0",
       "display": "inline-flex",
       "flex_flow": "row wrap",
       "justify_items": null,
       "object_fit": null,
       "object_position": null,
       "width": "100%"
      }
     },
     "4de39c0290ff488f9b4ef72deb08ece4": {
      "model_module": "@jupyter-widgets/controls",
      "model_module_version": "1.5.0",
      "model_name": "DescriptionStyleModel",
      "state": {
       "_model_module_version": "1.5.0",
       "_view_module_version": "1.2.0",
       "description_width": ""
      }
     },
     "4e4f5761e510463b88e929126c444fd1": {
      "model_module": "@jupyter-widgets/base",
      "model_module_version": "1.2.0",
      "model_name": "LayoutModel",
      "state": {
       "_model_module_version": "1.2.0",
       "_view_module_version": "1.2.0",
       "justify_items": null,
       "object_fit": null,
       "object_position": null
      }
     },
     "4e5945268e54492bb15b2e4b358dec47": {
      "model_module": "@jupyter-widgets/controls",
      "model_module_version": "1.5.0",
      "model_name": "HTMLModel",
      "state": {
       "_model_module_version": "1.5.0",
       "_view_module_version": "1.5.0",
       "layout": "IPY_MODEL_ce84e4dd6f89414a939a013dd6c90ebd",
       "style": "IPY_MODEL_22bf68a46dff49c299c1e9bba4b27c76",
       "value": " ETA: 00:00s - loss: 0.0001 - val_loss: 0.0001"
      }
     },
     "4f2b657da98e4f83b800e30e352ce148": {
      "model_module": "@jupyter-widgets/controls",
      "model_module_version": "1.5.0",
      "model_name": "DescriptionStyleModel",
      "state": {
       "_model_module_version": "1.5.0",
       "_view_module_version": "1.2.0",
       "description_width": ""
      }
     },
     "4f5a11eb0b6e491893c93de7d75053be": {
      "model_module": "@jupyter-widgets/controls",
      "model_module_version": "1.5.0",
      "model_name": "FloatProgressModel",
      "state": {
       "_model_module_version": "1.5.0",
       "_view_module_version": "1.5.0",
       "bar_style": "success",
       "description": "5625/5625",
       "layout": "IPY_MODEL_03bafe6c9278455ba25d81f01a5a6b7a",
       "max": 5625,
       "style": "IPY_MODEL_00e6005565274da9a3075dfc395f5ea2",
       "value": 5625
      }
     },
     "4fa4b24f468d4f47bbb48a3173bc4003": {
      "model_module": "@jupyter-widgets/base",
      "model_module_version": "1.2.0",
      "model_name": "LayoutModel",
      "state": {
       "_model_module_version": "1.2.0",
       "_view_module_version": "1.2.0",
       "flex": "2",
       "justify_items": null,
       "object_fit": null,
       "object_position": null
      }
     },
     "4fab34c12ec54a33b3159db9536359ae": {
      "model_module": "@jupyter-widgets/base",
      "model_module_version": "1.2.0",
      "model_name": "LayoutModel",
      "state": {
       "_model_module_version": "1.2.0",
       "_view_module_version": "1.2.0",
       "flex": "2",
       "justify_items": null,
       "object_fit": null,
       "object_position": null
      }
     },
     "505087348394424ea302c15b1c6b0b5f": {
      "model_module": "@jupyter-widgets/controls",
      "model_module_version": "1.5.0",
      "model_name": "DescriptionStyleModel",
      "state": {
       "_model_module_version": "1.5.0",
       "_view_module_version": "1.2.0",
       "description_width": ""
      }
     },
     "50e05f65367a480faf3fe37389341eef": {
      "model_module": "@jupyter-widgets/controls",
      "model_module_version": "1.5.0",
      "model_name": "HBoxModel",
      "state": {
       "_model_module_version": "1.5.0",
       "_view_module_version": "1.5.0",
       "children": [
        "IPY_MODEL_11d0171144ef44c0a6d47e157925a911",
        "IPY_MODEL_95ff56535d8d40ff8d3538492b4730bf"
       ],
       "layout": "IPY_MODEL_226aa666522e43a0a876491ac47987f1"
      }
     },
     "5103418bdebf45d7820706093ee239ad": {
      "model_module": "@jupyter-widgets/base",
      "model_module_version": "1.2.0",
      "model_name": "LayoutModel",
      "state": {
       "_model_module_version": "1.2.0",
       "_view_module_version": "1.2.0",
       "display": "inline-flex",
       "flex_flow": "row wrap",
       "justify_items": null,
       "object_fit": null,
       "object_position": null,
       "width": "100%"
      }
     },
     "5139b6ec430148258f0d1f758bac4721": {
      "model_module": "@jupyter-widgets/controls",
      "model_module_version": "1.5.0",
      "model_name": "FloatProgressModel",
      "state": {
       "_model_module_version": "1.5.0",
       "_view_module_version": "1.5.0",
       "bar_style": "danger",
       "description": "Training:  21%",
       "layout": "IPY_MODEL_d28d3ce469d145cca290f7922f90a58e",
       "style": "IPY_MODEL_8897778f30e74963b0b89df75c271143",
       "value": 21
      }
     },
     "52570cfd6c3645a9a93986d701ca0bbe": {
      "model_module": "@jupyter-widgets/controls",
      "model_module_version": "1.5.0",
      "model_name": "DescriptionStyleModel",
      "state": {
       "_model_module_version": "1.5.0",
       "_view_module_version": "1.2.0",
       "description_width": ""
      }
     },
     "53070bb47eec41ad9fbef8a2a52537f9": {
      "model_module": "@jupyter-widgets/controls",
      "model_module_version": "1.5.0",
      "model_name": "HBoxModel",
      "state": {
       "_model_module_version": "1.5.0",
       "_view_module_version": "1.5.0",
       "children": [
        "IPY_MODEL_871a8acd8f874777b05ecfa1de7816f0",
        "IPY_MODEL_de95188f7732410787e5e64420b6a013"
       ],
       "layout": "IPY_MODEL_ac4b6b6fd037456297c6709925880182"
      }
     },
     "53120e835ec04a199ba68948bc636a1e": {
      "model_module": "@jupyter-widgets/base",
      "model_module_version": "1.2.0",
      "model_name": "LayoutModel",
      "state": {
       "_model_module_version": "1.2.0",
       "_view_module_version": "1.2.0",
       "justify_items": null,
       "object_fit": null,
       "object_position": null
      }
     },
     "5349f64338e24363970abca5eb0aa9da": {
      "model_module": "@jupyter-widgets/base",
      "model_module_version": "1.2.0",
      "model_name": "LayoutModel",
      "state": {
       "_model_module_version": "1.2.0",
       "_view_module_version": "1.2.0",
       "flex": "2",
       "justify_items": null,
       "object_fit": null,
       "object_position": null
      }
     },
     "53cdd41ccc51480daaec612b4a8f8e86": {
      "model_module": "@jupyter-widgets/base",
      "model_module_version": "1.2.0",
      "model_name": "LayoutModel",
      "state": {
       "_model_module_version": "1.2.0",
       "_view_module_version": "1.2.0",
       "flex": "2",
       "justify_items": null,
       "object_fit": null,
       "object_position": null
      }
     },
     "54ac7a9968c647cf8661834eafcdd7bc": {
      "model_module": "@jupyter-widgets/controls",
      "model_module_version": "1.5.0",
      "model_name": "FloatProgressModel",
      "state": {
       "_model_module_version": "1.5.0",
       "_view_module_version": "1.5.0",
       "bar_style": "success",
       "description": "5625/5625",
       "layout": "IPY_MODEL_9aad2cb021cf4cedadc0dcd79318719a",
       "max": 5625,
       "style": "IPY_MODEL_0f2cd32f21d8451bb9b03591564da3c6",
       "value": 5625
      }
     },
     "5622f85c5a3b43a19bf0dcba39f3b1ec": {
      "model_module": "@jupyter-widgets/controls",
      "model_module_version": "1.5.0",
      "model_name": "HBoxModel",
      "state": {
       "_model_module_version": "1.5.0",
       "_view_module_version": "1.5.0",
       "children": [
        "IPY_MODEL_56edad479875465e9c6dd98179606948",
        "IPY_MODEL_9cecffe9445d4b84b20fea8916036ef8"
       ],
       "layout": "IPY_MODEL_82d6d3c1f90b47ad8f78a8516a0ea08b"
      }
     },
     "5649688febeb475f8b94b45a49a5e2cf": {
      "model_module": "@jupyter-widgets/base",
      "model_module_version": "1.2.0",
      "model_name": "LayoutModel",
      "state": {
       "_model_module_version": "1.2.0",
       "_view_module_version": "1.2.0",
       "flex": "2",
       "justify_items": null,
       "object_fit": null,
       "object_position": null
      }
     },
     "568b670ec2a14ba0b05cf28097706a4f": {
      "model_module": "@jupyter-widgets/controls",
      "model_module_version": "1.5.0",
      "model_name": "HTMLModel",
      "state": {
       "_model_module_version": "1.5.0",
       "_view_module_version": "1.5.0",
       "layout": "IPY_MODEL_2766be3acb044ece8f347965d99f1bc6",
       "style": "IPY_MODEL_08e5697b87c6432784d3a875bade9bd7",
       "value": " ETA: 00:00s - loss: 0.0534 - val_loss: 0.0365"
      }
     },
     "56b956d52e25488abb4a490cedbc08fd": {
      "model_module": "@jupyter-widgets/controls",
      "model_module_version": "1.5.0",
      "model_name": "ProgressStyleModel",
      "state": {
       "_model_module_version": "1.5.0",
       "_view_module_version": "1.2.0",
       "description_width": "initial"
      }
     },
     "56edad479875465e9c6dd98179606948": {
      "model_module": "@jupyter-widgets/controls",
      "model_module_version": "1.5.0",
      "model_name": "FloatProgressModel",
      "state": {
       "_model_module_version": "1.5.0",
       "_view_module_version": "1.5.0",
       "description": "Training:   2%",
       "layout": "IPY_MODEL_5c2a2114399e47ac99086a07bc7b7f92",
       "style": "IPY_MODEL_7f932dfd923944498183df41665aef27",
       "value": 2
      }
     },
     "57763812e5f24b2f92e9d2cb2e51e287": {
      "model_module": "@jupyter-widgets/controls",
      "model_module_version": "1.5.0",
      "model_name": "ProgressStyleModel",
      "state": {
       "_model_module_version": "1.5.0",
       "_view_module_version": "1.2.0",
       "description_width": "initial"
      }
     },
     "57ca504152274ff390f10b20915f842d": {
      "model_module": "@jupyter-widgets/controls",
      "model_module_version": "1.5.0",
      "model_name": "HBoxModel",
      "state": {
       "_model_module_version": "1.5.0",
       "_view_module_version": "1.5.0",
       "children": [
        "IPY_MODEL_591abfaca3044daca633b9a0f76c63d8",
        "IPY_MODEL_4e5945268e54492bb15b2e4b358dec47"
       ],
       "layout": "IPY_MODEL_059295aeaaf146c8b29f02a251a99080"
      }
     },
     "57d6854c754d4c2982b9c88f3a70bbe5": {
      "model_module": "@jupyter-widgets/base",
      "model_module_version": "1.2.0",
      "model_name": "LayoutModel",
      "state": {
       "_model_module_version": "1.2.0",
       "_view_module_version": "1.2.0",
       "justify_items": null,
       "object_fit": null,
       "object_position": null
      }
     },
     "57fae83576204b91a12e65954b662380": {
      "model_module": "@jupyter-widgets/controls",
      "model_module_version": "1.5.0",
      "model_name": "HTMLModel",
      "state": {
       "_model_module_version": "1.5.0",
       "_view_module_version": "1.5.0",
       "layout": "IPY_MODEL_5b786ccff19846c39d74a679a3183e00",
       "style": "IPY_MODEL_9d87c22bdef542b9b7c9e8e7c0e02f5d",
       "value": " ETA: 00:00s - loss: 0.0011 - val_loss: 0.0038"
      }
     },
     "58b7d7a30635421eaccc9d9f4de6b205": {
      "model_module": "@jupyter-widgets/base",
      "model_module_version": "1.2.0",
      "model_name": "LayoutModel",
      "state": {
       "_model_module_version": "1.2.0",
       "_view_module_version": "1.2.0",
       "display": "inline-flex",
       "flex_flow": "row wrap",
       "justify_items": null,
       "object_fit": null,
       "object_position": null,
       "width": "100%"
      }
     },
     "591abfaca3044daca633b9a0f76c63d8": {
      "model_module": "@jupyter-widgets/controls",
      "model_module_version": "1.5.0",
      "model_name": "FloatProgressModel",
      "state": {
       "_model_module_version": "1.5.0",
       "_view_module_version": "1.5.0",
       "bar_style": "success",
       "description": "5625/5625",
       "layout": "IPY_MODEL_777ce71b95394b18a9c3e11b3fe05073",
       "max": 5625,
       "style": "IPY_MODEL_1ad6cbc2b48e4949b14aaa54a181da4e",
       "value": 5625
      }
     },
     "5934842cfc4842b78a4737d30181c8ae": {
      "model_module": "@jupyter-widgets/base",
      "model_module_version": "1.2.0",
      "model_name": "LayoutModel",
      "state": {
       "_model_module_version": "1.2.0",
       "_view_module_version": "1.2.0",
       "display": "inline-flex",
       "flex_flow": "row wrap",
       "justify_items": null,
       "object_fit": null,
       "object_position": null,
       "width": "100%"
      }
     },
     "595c8ec55ecf4db5990d1010fad81410": {
      "model_module": "@jupyter-widgets/controls",
      "model_module_version": "1.5.0",
      "model_name": "FloatProgressModel",
      "state": {
       "_model_module_version": "1.5.0",
       "_view_module_version": "1.5.0",
       "bar_style": "success",
       "description": "5625/5625",
       "layout": "IPY_MODEL_d37b168d5b294f12b324b12f849a9007",
       "max": 5625,
       "style": "IPY_MODEL_bba9b99d0182490ea4c48ccdc3535ffe",
       "value": 5625
      }
     },
     "595cda79813545b9b4b42b1732a1089f": {
      "model_module": "@jupyter-widgets/controls",
      "model_module_version": "1.5.0",
      "model_name": "DescriptionStyleModel",
      "state": {
       "_model_module_version": "1.5.0",
       "_view_module_version": "1.2.0",
       "description_width": ""
      }
     },
     "596cad349b63468aa9593e125b18206e": {
      "model_module": "@jupyter-widgets/controls",
      "model_module_version": "1.5.0",
      "model_name": "HTMLModel",
      "state": {
       "_model_module_version": "1.5.0",
       "_view_module_version": "1.5.0",
       "layout": "IPY_MODEL_011e501c75924b47b98a0204712becdf",
       "style": "IPY_MODEL_4c5e5f4bf3f74422ad6d0346ea1c157f",
       "value": " ETA: 00:00s - loss: 0.0002 - val_loss: 0.0002"
      }
     },
     "5983e2de14724bd5b80a35340ab2f0aa": {
      "model_module": "@jupyter-widgets/controls",
      "model_module_version": "1.5.0",
      "model_name": "HBoxModel",
      "state": {
       "_model_module_version": "1.5.0",
       "_view_module_version": "1.5.0",
       "children": [
        "IPY_MODEL_cb3420ba675b4160a7b32ac259248dec",
        "IPY_MODEL_39567e9a3dab43aba84cdb172b3e1f89"
       ],
       "layout": "IPY_MODEL_c018ea23b4614a35a7a617013d44bfe1"
      }
     },
     "5a86be098dfa41269b4138ec5854ef2d": {
      "model_module": "@jupyter-widgets/base",
      "model_module_version": "1.2.0",
      "model_name": "LayoutModel",
      "state": {
       "_model_module_version": "1.2.0",
       "_view_module_version": "1.2.0",
       "justify_items": null,
       "object_fit": null,
       "object_position": null
      }
     },
     "5aa8619ae85942bea5589c6d3afc4bb4": {
      "model_module": "@jupyter-widgets/base",
      "model_module_version": "1.2.0",
      "model_name": "LayoutModel",
      "state": {
       "_model_module_version": "1.2.0",
       "_view_module_version": "1.2.0",
       "display": "inline-flex",
       "flex_flow": "row wrap",
       "justify_items": null,
       "object_fit": null,
       "object_position": null,
       "width": "100%"
      }
     },
     "5abdb466da18402eba02e3140840680a": {
      "model_module": "@jupyter-widgets/controls",
      "model_module_version": "1.5.0",
      "model_name": "FloatProgressModel",
      "state": {
       "_model_module_version": "1.5.0",
       "_view_module_version": "1.5.0",
       "bar_style": "success",
       "description": "5625/5625",
       "layout": "IPY_MODEL_7120f3bb970a4fbcb9cd195e964231dc",
       "max": 5625,
       "style": "IPY_MODEL_2cb0a44a16b24cfeb607163d42f7020a",
       "value": 5625
      }
     },
     "5b12e800468b4d5ab88f7ca0c34e4544": {
      "model_module": "@jupyter-widgets/base",
      "model_module_version": "1.2.0",
      "model_name": "LayoutModel",
      "state": {
       "_model_module_version": "1.2.0",
       "_view_module_version": "1.2.0",
       "display": "inline-flex",
       "flex_flow": "row wrap",
       "justify_items": null,
       "object_fit": null,
       "object_position": null,
       "width": "100%"
      }
     },
     "5b6a6a3fdf7c4428a32af05b871638b5": {
      "model_module": "@jupyter-widgets/controls",
      "model_module_version": "1.5.0",
      "model_name": "FloatProgressModel",
      "state": {
       "_model_module_version": "1.5.0",
       "_view_module_version": "1.5.0",
       "bar_style": "success",
       "description": "5625/5625",
       "layout": "IPY_MODEL_82498aedd78b4f18acbe858b70e54aca",
       "max": 5625,
       "style": "IPY_MODEL_5ed356e1a1fc49a483b498b8458a06cf",
       "value": 5625
      }
     },
     "5b786ccff19846c39d74a679a3183e00": {
      "model_module": "@jupyter-widgets/base",
      "model_module_version": "1.2.0",
      "model_name": "LayoutModel",
      "state": {
       "_model_module_version": "1.2.0",
       "_view_module_version": "1.2.0",
       "justify_items": null,
       "object_fit": null,
       "object_position": null
      }
     },
     "5bcc54cbad5e426da7eff2d64e1143f0": {
      "model_module": "@jupyter-widgets/controls",
      "model_module_version": "1.5.0",
      "model_name": "HBoxModel",
      "state": {
       "_model_module_version": "1.5.0",
       "_view_module_version": "1.5.0",
       "children": [
        "IPY_MODEL_e16d3264397c42e1bb0acfa27739f353",
        "IPY_MODEL_49217a08842d44f8b166a4c321a04642"
       ],
       "layout": "IPY_MODEL_9e5e08f398c046fa8cf029ce539a59be"
      }
     },
     "5c2a2114399e47ac99086a07bc7b7f92": {
      "model_module": "@jupyter-widgets/base",
      "model_module_version": "1.2.0",
      "model_name": "LayoutModel",
      "state": {
       "_model_module_version": "1.2.0",
       "_view_module_version": "1.2.0",
       "flex": "2",
       "justify_items": null,
       "object_fit": null,
       "object_position": null
      }
     },
     "5c355c7497e846bba60ba2770618e6ca": {
      "model_module": "@jupyter-widgets/controls",
      "model_module_version": "1.5.0",
      "model_name": "FloatProgressModel",
      "state": {
       "_model_module_version": "1.5.0",
       "_view_module_version": "1.5.0",
       "bar_style": "success",
       "description": "5625/5625",
       "layout": "IPY_MODEL_9c61fdb81dd348a99df1b0d18eb94170",
       "max": 5625,
       "style": "IPY_MODEL_fac6cd36ee634d1cbc758eba004d7e16",
       "value": 5625
      }
     },
     "5cb8a6a15ec94faea69d6b31727e791a": {
      "model_module": "@jupyter-widgets/controls",
      "model_module_version": "1.5.0",
      "model_name": "FloatProgressModel",
      "state": {
       "_model_module_version": "1.5.0",
       "_view_module_version": "1.5.0",
       "bar_style": "success",
       "description": "5625/5625",
       "layout": "IPY_MODEL_fbd8286da126496f89476c9def13c7dc",
       "max": 5625,
       "style": "IPY_MODEL_57763812e5f24b2f92e9d2cb2e51e287",
       "value": 5625
      }
     },
     "5cd50928327d454db391556bd6421982": {
      "model_module": "@jupyter-widgets/controls",
      "model_module_version": "1.5.0",
      "model_name": "ProgressStyleModel",
      "state": {
       "_model_module_version": "1.5.0",
       "_view_module_version": "1.2.0",
       "description_width": "initial"
      }
     },
     "5d49e014786f43c28abb82696b0eb419": {
      "model_module": "@jupyter-widgets/controls",
      "model_module_version": "1.5.0",
      "model_name": "FloatProgressModel",
      "state": {
       "_model_module_version": "1.5.0",
       "_view_module_version": "1.5.0",
       "bar_style": "success",
       "description": "5625/5625",
       "layout": "IPY_MODEL_5d4ace4d22c5467d9bda34e757a2beec",
       "max": 5625,
       "style": "IPY_MODEL_ce80c922f3a745618c2ec9b8b49a2328",
       "value": 5625
      }
     },
     "5d4ace4d22c5467d9bda34e757a2beec": {
      "model_module": "@jupyter-widgets/base",
      "model_module_version": "1.2.0",
      "model_name": "LayoutModel",
      "state": {
       "_model_module_version": "1.2.0",
       "_view_module_version": "1.2.0",
       "flex": "2",
       "justify_items": null,
       "object_fit": null,
       "object_position": null
      }
     },
     "5d5e36366cad4979b33a8f2c5f42d475": {
      "model_module": "@jupyter-widgets/controls",
      "model_module_version": "1.5.0",
      "model_name": "DescriptionStyleModel",
      "state": {
       "_model_module_version": "1.5.0",
       "_view_module_version": "1.2.0",
       "description_width": ""
      }
     },
     "5e49d3d55ce640fab40517b9e842ef6c": {
      "model_module": "@jupyter-widgets/controls",
      "model_module_version": "1.5.0",
      "model_name": "DescriptionStyleModel",
      "state": {
       "_model_module_version": "1.5.0",
       "_view_module_version": "1.2.0",
       "description_width": ""
      }
     },
     "5e97e805379446fc9d3a679c5363800f": {
      "model_module": "@jupyter-widgets/controls",
      "model_module_version": "1.5.0",
      "model_name": "DescriptionStyleModel",
      "state": {
       "_model_module_version": "1.5.0",
       "_view_module_version": "1.2.0",
       "description_width": ""
      }
     },
     "5ed356e1a1fc49a483b498b8458a06cf": {
      "model_module": "@jupyter-widgets/controls",
      "model_module_version": "1.5.0",
      "model_name": "ProgressStyleModel",
      "state": {
       "_model_module_version": "1.5.0",
       "_view_module_version": "1.2.0",
       "description_width": "initial"
      }
     },
     "5fa78391d9d946f8b20683dbb8b1bdf8": {
      "model_module": "@jupyter-widgets/base",
      "model_module_version": "1.2.0",
      "model_name": "LayoutModel",
      "state": {
       "_model_module_version": "1.2.0",
       "_view_module_version": "1.2.0",
       "display": "inline-flex",
       "flex_flow": "row wrap",
       "justify_items": null,
       "object_fit": null,
       "object_position": null,
       "width": "100%"
      }
     },
     "5fe534427c124ebb9c1ebe5fe127ece3": {
      "model_module": "@jupyter-widgets/controls",
      "model_module_version": "1.5.0",
      "model_name": "HTMLModel",
      "state": {
       "_model_module_version": "1.5.0",
       "_view_module_version": "1.5.0",
       "layout": "IPY_MODEL_22c43238b0bb46979214fa83d998e864",
       "style": "IPY_MODEL_c003d736ec9d4af197086a1dc2ba9ab1",
       "value": " ETA: 00:00s - loss: 0.0286 - val_loss: 0.0285"
      }
     },
     "6054f7e3e70e43b1a1c293778478baa2": {
      "model_module": "@jupyter-widgets/controls",
      "model_module_version": "1.5.0",
      "model_name": "HTMLModel",
      "state": {
       "_model_module_version": "1.5.0",
       "_view_module_version": "1.5.0",
       "layout": "IPY_MODEL_f1b07ebc75af49959ed85f037ffe1648",
       "style": "IPY_MODEL_f393ca7d7d3142cfac93e2c6cd8db627",
       "value": " ETA: 00:00s - loss: 0.0287 - val_loss: 0.0293"
      }
     },
     "60aa6d48ea3c456baf004d5758df8690": {
      "model_module": "@jupyter-widgets/controls",
      "model_module_version": "1.5.0",
      "model_name": "HTMLModel",
      "state": {
       "_model_module_version": "1.5.0",
       "_view_module_version": "1.5.0",
       "layout": "IPY_MODEL_0595a3c1bb2b4842ba731a8a7ed648bf",
       "style": "IPY_MODEL_3470428fc938439f88d1f1ffbe8d86ac",
       "value": " ETA: 00:00s - "
      }
     },
     "617f75c5bbf24cce9fbabb80e1842dae": {
      "model_module": "@jupyter-widgets/controls",
      "model_module_version": "1.5.0",
      "model_name": "FloatProgressModel",
      "state": {
       "_model_module_version": "1.5.0",
       "_view_module_version": "1.5.0",
       "bar_style": "danger",
       "description": "Training:   1%",
       "layout": "IPY_MODEL_d3ea43ea7ad946ae8776bcb578685c48",
       "style": "IPY_MODEL_95f327c7fe4b4c2b8e1da2fca69ac461",
       "value": 1
      }
     },
     "61cc27f3e04942c0bf564da56be69d35": {
      "model_module": "@jupyter-widgets/controls",
      "model_module_version": "1.5.0",
      "model_name": "DescriptionStyleModel",
      "state": {
       "_model_module_version": "1.5.0",
       "_view_module_version": "1.2.0",
       "description_width": ""
      }
     },
     "61ccc4d6942d4de5ba6822de0f8a058c": {
      "model_module": "@jupyter-widgets/base",
      "model_module_version": "1.2.0",
      "model_name": "LayoutModel",
      "state": {
       "_model_module_version": "1.2.0",
       "_view_module_version": "1.2.0",
       "justify_items": null,
       "object_fit": null,
       "object_position": null
      }
     },
     "62489f5b1dbf45b3a4ccff3816c4bdd5": {
      "model_module": "@jupyter-widgets/controls",
      "model_module_version": "1.5.0",
      "model_name": "ProgressStyleModel",
      "state": {
       "_model_module_version": "1.5.0",
       "_view_module_version": "1.2.0",
       "description_width": "initial"
      }
     },
     "62e5ba6b51094efaaa4d4cdefa2e95de": {
      "model_module": "@jupyter-widgets/base",
      "model_module_version": "1.2.0",
      "model_name": "LayoutModel",
      "state": {
       "_model_module_version": "1.2.0",
       "_view_module_version": "1.2.0",
       "display": "inline-flex",
       "flex_flow": "row wrap",
       "justify_items": null,
       "object_fit": null,
       "object_position": null,
       "width": "100%"
      }
     },
     "633eaa193586415db35128ec49748bfe": {
      "model_module": "@jupyter-widgets/base",
      "model_module_version": "1.2.0",
      "model_name": "LayoutModel",
      "state": {
       "_model_module_version": "1.2.0",
       "_view_module_version": "1.2.0",
       "justify_items": null,
       "object_fit": null,
       "object_position": null
      }
     },
     "63b08e272e044c23ae3e2c56e774de57": {
      "model_module": "@jupyter-widgets/controls",
      "model_module_version": "1.5.0",
      "model_name": "FloatProgressModel",
      "state": {
       "_model_module_version": "1.5.0",
       "_view_module_version": "1.5.0",
       "bar_style": "danger",
       "description": "Training:   1%",
       "layout": "IPY_MODEL_3086b1eaae2b48ef92b84568ec933cf2",
       "style": "IPY_MODEL_72766370cb96419fa2440fd9a1ca0a53",
       "value": 1
      }
     },
     "63c45e4830ab4a0ab0eb6daa5bd8d9bf": {
      "model_module": "@jupyter-widgets/controls",
      "model_module_version": "1.5.0",
      "model_name": "ProgressStyleModel",
      "state": {
       "_model_module_version": "1.5.0",
       "_view_module_version": "1.2.0",
       "description_width": "initial"
      }
     },
     "6425f27c7fee47b6821eff078a485eee": {
      "model_module": "@jupyter-widgets/controls",
      "model_module_version": "1.5.0",
      "model_name": "FloatProgressModel",
      "state": {
       "_model_module_version": "1.5.0",
       "_view_module_version": "1.5.0",
       "bar_style": "success",
       "description": "5625/5625",
       "layout": "IPY_MODEL_95b4c6e096294862b59a24e1574d5ca6",
       "max": 5625,
       "style": "IPY_MODEL_8e7f363326974dc786ef3c24d5a4953b",
       "value": 5625
      }
     },
     "6489b591157049b586af2ce890b7db4d": {
      "model_module": "@jupyter-widgets/controls",
      "model_module_version": "1.5.0",
      "model_name": "HBoxModel",
      "state": {
       "_model_module_version": "1.5.0",
       "_view_module_version": "1.5.0",
       "children": [
        "IPY_MODEL_07dcb1afc55842d9bd1b231be3592578",
        "IPY_MODEL_eb57036fa4404b3db37a3eb9fee38c50"
       ],
       "layout": "IPY_MODEL_04cd61e65b4a4a63a0841b565a335a39"
      }
     },
     "64a7b81cfe1641de868613ff1e7e2b26": {
      "model_module": "@jupyter-widgets/controls",
      "model_module_version": "1.5.0",
      "model_name": "DescriptionStyleModel",
      "state": {
       "_model_module_version": "1.5.0",
       "_view_module_version": "1.2.0",
       "description_width": ""
      }
     },
     "6573a73888364eaf8f0e37e9ae4a7d61": {
      "model_module": "@jupyter-widgets/controls",
      "model_module_version": "1.5.0",
      "model_name": "HBoxModel",
      "state": {
       "_model_module_version": "1.5.0",
       "_view_module_version": "1.5.0",
       "children": [
        "IPY_MODEL_855ca627f4c043bdab77241c70c29755",
        "IPY_MODEL_568b670ec2a14ba0b05cf28097706a4f"
       ],
       "layout": "IPY_MODEL_f139cc9253dc40e0802e0d8e16a78569"
      }
     },
     "65a830d1c075481d9da50a53bc55be00": {
      "model_module": "@jupyter-widgets/controls",
      "model_module_version": "1.5.0",
      "model_name": "HTMLModel",
      "state": {
       "_model_module_version": "1.5.0",
       "_view_module_version": "1.5.0",
       "layout": "IPY_MODEL_d3ee755c68f64dc8bc21e1f60919ad80",
       "style": "IPY_MODEL_89eea52e9b174065ac488cdae6ceda0d",
       "value": " ETA: 00:00s - loss: 0.0004 - val_loss: 0.0005"
      }
     },
     "65ee0988b9ed4e1c92fcbe1fe323b6e0": {
      "model_module": "@jupyter-widgets/controls",
      "model_module_version": "1.5.0",
      "model_name": "HBoxModel",
      "state": {
       "_model_module_version": "1.5.0",
       "_view_module_version": "1.5.0",
       "children": [
        "IPY_MODEL_e71e7cae040140ec94b111ce4eec18d2",
        "IPY_MODEL_314ac319a5dd4ae99794102d8ffbc464"
       ],
       "layout": "IPY_MODEL_10d8771b5ae248b293dd6fb068cfa146"
      }
     },
     "6625a9d7bbb74a0793448b5949fc3865": {
      "model_module": "@jupyter-widgets/base",
      "model_module_version": "1.2.0",
      "model_name": "LayoutModel",
      "state": {
       "_model_module_version": "1.2.0",
       "_view_module_version": "1.2.0",
       "display": "inline-flex",
       "flex_flow": "row wrap",
       "justify_items": null,
       "object_fit": null,
       "object_position": null,
       "width": "100%"
      }
     },
     "6650b9d1b7fb47f78a52559c8c5106ac": {
      "model_module": "@jupyter-widgets/controls",
      "model_module_version": "1.5.0",
      "model_name": "FloatProgressModel",
      "state": {
       "_model_module_version": "1.5.0",
       "_view_module_version": "1.5.0",
       "bar_style": "success",
       "description": "5625/5625",
       "layout": "IPY_MODEL_5649688febeb475f8b94b45a49a5e2cf",
       "max": 5625,
       "style": "IPY_MODEL_2120a1ddf15f4b548c30f78fd5a76024",
       "value": 5625
      }
     },
     "6685b5701ac54960a3c80b88b4fbc3d8": {
      "model_module": "@jupyter-widgets/base",
      "model_module_version": "1.2.0",
      "model_name": "LayoutModel",
      "state": {
       "_model_module_version": "1.2.0",
       "_view_module_version": "1.2.0",
       "justify_items": null,
       "object_fit": null,
       "object_position": null
      }
     },
     "66fd9527e74e410aba0016636bcefa8e": {
      "model_module": "@jupyter-widgets/base",
      "model_module_version": "1.2.0",
      "model_name": "LayoutModel",
      "state": {
       "_model_module_version": "1.2.0",
       "_view_module_version": "1.2.0",
       "justify_items": null,
       "object_fit": null,
       "object_position": null
      }
     },
     "6748ba7755994bf4b9d9d0a1d90f9b0d": {
      "model_module": "@jupyter-widgets/controls",
      "model_module_version": "1.5.0",
      "model_name": "HBoxModel",
      "state": {
       "_model_module_version": "1.5.0",
       "_view_module_version": "1.5.0",
       "children": [
        "IPY_MODEL_5d49e014786f43c28abb82696b0eb419",
        "IPY_MODEL_3e7ec50fc8a9446e83aa94a81e8da970"
       ],
       "layout": "IPY_MODEL_8060491df0cf4477986a6dcb6058a131"
      }
     },
     "675bca971d814f168dfd8b8e09f071cd": {
      "model_module": "@jupyter-widgets/base",
      "model_module_version": "1.2.0",
      "model_name": "LayoutModel",
      "state": {
       "_model_module_version": "1.2.0",
       "_view_module_version": "1.2.0",
       "display": "inline-flex",
       "flex_flow": "row wrap",
       "justify_items": null,
       "object_fit": null,
       "object_position": null,
       "width": "100%"
      }
     },
     "6795b598faa34816b10012195c9cfb8b": {
      "model_module": "@jupyter-widgets/controls",
      "model_module_version": "1.5.0",
      "model_name": "HTMLModel",
      "state": {
       "_model_module_version": "1.5.0",
       "_view_module_version": "1.5.0",
       "layout": "IPY_MODEL_4cde282d093d4b5ebfde6e79c1fd3d67",
       "style": "IPY_MODEL_730f4f08916f462f90efacd42bfcd992",
       "value": " 1/100 ETA: 32:36s,  19.76s/epochs"
      }
     },
     "69231d91d93b42438365e369fff0ed9c": {
      "model_module": "@jupyter-widgets/controls",
      "model_module_version": "1.5.0",
      "model_name": "HBoxModel",
      "state": {
       "_model_module_version": "1.5.0",
       "_view_module_version": "1.5.0",
       "children": [
        "IPY_MODEL_54ac7a9968c647cf8661834eafcdd7bc",
        "IPY_MODEL_f2f2ea8d233d468eb168542ce947db76"
       ],
       "layout": "IPY_MODEL_e92264f181de491b97e89b0d9f907a0b"
      }
     },
     "692c10d2cc78476fa48878e2191e8c3e": {
      "model_module": "@jupyter-widgets/base",
      "model_module_version": "1.2.0",
      "model_name": "LayoutModel",
      "state": {
       "_model_module_version": "1.2.0",
       "_view_module_version": "1.2.0",
       "flex": "2",
       "justify_items": null,
       "object_fit": null,
       "object_position": null
      }
     },
     "6996c3c52c7540418ead559a971b3ce8": {
      "model_module": "@jupyter-widgets/base",
      "model_module_version": "1.2.0",
      "model_name": "LayoutModel",
      "state": {
       "_model_module_version": "1.2.0",
       "_view_module_version": "1.2.0",
       "flex": "2",
       "justify_items": null,
       "object_fit": null,
       "object_position": null
      }
     },
     "6a5821701fba40669bbf88601e145e11": {
      "model_module": "@jupyter-widgets/controls",
      "model_module_version": "1.5.0",
      "model_name": "HTMLModel",
      "state": {
       "_model_module_version": "1.5.0",
       "_view_module_version": "1.5.0",
       "layout": "IPY_MODEL_0c15ef34024e40489d614faeca46ef00",
       "style": "IPY_MODEL_3d59469b42ca40c096a9caf74a3cc1ac",
       "value": " ETA: 00:00s - loss: 0.0001 - val_loss: 0.0001"
      }
     },
     "6a5c82ece0e644ed8ee3d4e76ca6e6d1": {
      "model_module": "@jupyter-widgets/controls",
      "model_module_version": "1.5.0",
      "model_name": "HTMLModel",
      "state": {
       "_model_module_version": "1.5.0",
       "_view_module_version": "1.5.0",
       "layout": "IPY_MODEL_bd253bf6f76f4de8a24aab4f490631cf",
       "style": "IPY_MODEL_d93f22b85a25470a9d58779ea81840fe",
       "value": " ETA: 00:00s - loss: 0.0002 - val_loss: 0.0001"
      }
     },
     "6abb635ece4f49efae639f8a24020dae": {
      "model_module": "@jupyter-widgets/controls",
      "model_module_version": "1.5.0",
      "model_name": "ProgressStyleModel",
      "state": {
       "_model_module_version": "1.5.0",
       "_view_module_version": "1.2.0",
       "description_width": "initial"
      }
     },
     "6b4e2e29146645d3b79da94aff759238": {
      "model_module": "@jupyter-widgets/controls",
      "model_module_version": "1.5.0",
      "model_name": "HBoxModel",
      "state": {
       "_model_module_version": "1.5.0",
       "_view_module_version": "1.5.0",
       "children": [
        "IPY_MODEL_a971583c33214a1ebbc8111eeb5c0702",
        "IPY_MODEL_dbd52d774e63442d8b3bf5ceddfded59"
       ],
       "layout": "IPY_MODEL_c2224abba05e411ca6f039633de9ec3f"
      }
     },
     "6b71d9665679491eba8ca9b693a3439a": {
      "model_module": "@jupyter-widgets/controls",
      "model_module_version": "1.5.0",
      "model_name": "HTMLModel",
      "state": {
       "_model_module_version": "1.5.0",
       "_view_module_version": "1.5.0",
       "layout": "IPY_MODEL_42b8db2b294045e2968df94e790e66a2",
       "style": "IPY_MODEL_f0b616f9e4fc4577892bc32ce9496df6",
       "value": " ETA: 00:00s - loss: 0.0002 - val_loss: 0.0003"
      }
     },
     "6bdade2898ed440b8079f2bdc6783463": {
      "model_module": "@jupyter-widgets/base",
      "model_module_version": "1.2.0",
      "model_name": "LayoutModel",
      "state": {
       "_model_module_version": "1.2.0",
       "_view_module_version": "1.2.0",
       "flex": "2",
       "justify_items": null,
       "object_fit": null,
       "object_position": null
      }
     },
     "6c8373523390436ab1f94e6c59cd71e2": {
      "model_module": "@jupyter-widgets/controls",
      "model_module_version": "1.5.0",
      "model_name": "HBoxModel",
      "state": {
       "_model_module_version": "1.5.0",
       "_view_module_version": "1.5.0",
       "children": [
        "IPY_MODEL_4f5a11eb0b6e491893c93de7d75053be",
        "IPY_MODEL_34c9cbbe751541918d02ef1d9dd1da99"
       ],
       "layout": "IPY_MODEL_de01dfd19b0d4da9b73f45e2f9395bcc"
      }
     },
     "6cee19bb6bb7488294962cd6613a8495": {
      "model_module": "@jupyter-widgets/base",
      "model_module_version": "1.2.0",
      "model_name": "LayoutModel",
      "state": {
       "_model_module_version": "1.2.0",
       "_view_module_version": "1.2.0",
       "display": "inline-flex",
       "flex_flow": "row wrap",
       "justify_items": null,
       "object_fit": null,
       "object_position": null,
       "width": "100%"
      }
     },
     "6d3953fc951c4a0b908ae37f2a6ca3b1": {
      "model_module": "@jupyter-widgets/base",
      "model_module_version": "1.2.0",
      "model_name": "LayoutModel",
      "state": {
       "_model_module_version": "1.2.0",
       "_view_module_version": "1.2.0",
       "display": "inline-flex",
       "flex_flow": "row wrap",
       "justify_items": null,
       "object_fit": null,
       "object_position": null,
       "width": "100%"
      }
     },
     "6dff44e64fe441139a8ca343de1bc6f9": {
      "model_module": "@jupyter-widgets/base",
      "model_module_version": "1.2.0",
      "model_name": "LayoutModel",
      "state": {
       "_model_module_version": "1.2.0",
       "_view_module_version": "1.2.0",
       "justify_items": null,
       "object_fit": null,
       "object_position": null
      }
     },
     "6e043acd89ec4cca8a4cb626c6d420f7": {
      "model_module": "@jupyter-widgets/controls",
      "model_module_version": "1.5.0",
      "model_name": "HTMLModel",
      "state": {
       "_model_module_version": "1.5.0",
       "_view_module_version": "1.5.0",
       "layout": "IPY_MODEL_c2501bba27074a929e31f02e688ed040",
       "style": "IPY_MODEL_e9c1964940c04c37a91d3c2bd05ab21e",
       "value": " ETA: 00:00s - loss: 0.0002 - mse: 0.0002 - val_loss: 0.0002 - val_mse: 0.0002"
      }
     },
     "6e18e8198e034585895502519961f35c": {
      "model_module": "@jupyter-widgets/controls",
      "model_module_version": "1.5.0",
      "model_name": "HBoxModel",
      "state": {
       "_model_module_version": "1.5.0",
       "_view_module_version": "1.5.0",
       "children": [
        "IPY_MODEL_9d939f27596447068b0bef0499c238f2",
        "IPY_MODEL_911e75eadf434ea79b83472a57956059"
       ],
       "layout": "IPY_MODEL_da65386272dc4774b11cfe67b0b41c99"
      }
     },
     "6e9c3b21c354401e9641c4686a69b499": {
      "model_module": "@jupyter-widgets/controls",
      "model_module_version": "1.5.0",
      "model_name": "ProgressStyleModel",
      "state": {
       "_model_module_version": "1.5.0",
       "_view_module_version": "1.2.0",
       "description_width": "initial"
      }
     },
     "6ecb20d2191c4ceab9b996733ae4670f": {
      "model_module": "@jupyter-widgets/controls",
      "model_module_version": "1.5.0",
      "model_name": "FloatProgressModel",
      "state": {
       "_model_module_version": "1.5.0",
       "_view_module_version": "1.5.0",
       "bar_style": "success",
       "description": "5625/5625",
       "layout": "IPY_MODEL_dbf485b3fbbb4384b3f2c3e9664a13e6",
       "max": 5625,
       "style": "IPY_MODEL_cb65e5611bc24517a80095ab4229fe36",
       "value": 5625
      }
     },
     "70c8f7fed9e64c71ab6f536bd34b5e4f": {
      "model_module": "@jupyter-widgets/controls",
      "model_module_version": "1.5.0",
      "model_name": "ProgressStyleModel",
      "state": {
       "_model_module_version": "1.5.0",
       "_view_module_version": "1.2.0",
       "description_width": "initial"
      }
     },
     "70d7a35361f948e4ba8dee2f38408f47": {
      "model_module": "@jupyter-widgets/controls",
      "model_module_version": "1.5.0",
      "model_name": "DescriptionStyleModel",
      "state": {
       "_model_module_version": "1.5.0",
       "_view_module_version": "1.2.0",
       "description_width": ""
      }
     },
     "71033045ff674d5a8d8cb9f530fe6d6e": {
      "model_module": "@jupyter-widgets/controls",
      "model_module_version": "1.5.0",
      "model_name": "ProgressStyleModel",
      "state": {
       "_model_module_version": "1.5.0",
       "_view_module_version": "1.2.0",
       "description_width": "initial"
      }
     },
     "71044d5c55ee4902a0a6e07b1d41c2b0": {
      "model_module": "@jupyter-widgets/controls",
      "model_module_version": "1.5.0",
      "model_name": "HTMLModel",
      "state": {
       "_model_module_version": "1.5.0",
       "_view_module_version": "1.5.0",
       "layout": "IPY_MODEL_f8c054a02aa94a28bdfbe2c81ca8a95a",
       "style": "IPY_MODEL_4b009aed99d04b28832b63ec54a5cdb0",
       "value": " ETA: 27:01s - loss: 0.0384"
      }
     },
     "7120f3bb970a4fbcb9cd195e964231dc": {
      "model_module": "@jupyter-widgets/base",
      "model_module_version": "1.2.0",
      "model_name": "LayoutModel",
      "state": {
       "_model_module_version": "1.2.0",
       "_view_module_version": "1.2.0",
       "flex": "2",
       "justify_items": null,
       "object_fit": null,
       "object_position": null
      }
     },
     "714089d8a34c411bada380a3f41d8447": {
      "model_module": "@jupyter-widgets/controls",
      "model_module_version": "1.5.0",
      "model_name": "HBoxModel",
      "state": {
       "_model_module_version": "1.5.0",
       "_view_module_version": "1.5.0",
       "children": [
        "IPY_MODEL_85958875f5d74247a090504bd486f726",
        "IPY_MODEL_7734d532f22e4fdcbfdaa3528cf40c4c"
       ],
       "layout": "IPY_MODEL_2d4022a617c24ea69f95fd4b9e18e0b4"
      }
     },
     "724637ba66d9486d9e9c2b725193dc4a": {
      "model_module": "@jupyter-widgets/base",
      "model_module_version": "1.2.0",
      "model_name": "LayoutModel",
      "state": {
       "_model_module_version": "1.2.0",
       "_view_module_version": "1.2.0",
       "flex": "2",
       "justify_items": null,
       "object_fit": null,
       "object_position": null
      }
     },
     "72766370cb96419fa2440fd9a1ca0a53": {
      "model_module": "@jupyter-widgets/controls",
      "model_module_version": "1.5.0",
      "model_name": "ProgressStyleModel",
      "state": {
       "_model_module_version": "1.5.0",
       "_view_module_version": "1.2.0",
       "description_width": "initial"
      }
     },
     "727ff20bfaa44be4b8e58ac1fb251fcc": {
      "model_module": "@jupyter-widgets/controls",
      "model_module_version": "1.5.0",
      "model_name": "ProgressStyleModel",
      "state": {
       "_model_module_version": "1.5.0",
       "_view_module_version": "1.2.0",
       "description_width": "initial"
      }
     },
     "729685473cb647ee99696b9f2c80d221": {
      "model_module": "@jupyter-widgets/controls",
      "model_module_version": "1.5.0",
      "model_name": "FloatProgressModel",
      "state": {
       "_model_module_version": "1.5.0",
       "_view_module_version": "1.5.0",
       "bar_style": "success",
       "description": "5625/5625",
       "layout": "IPY_MODEL_8741e890132b415ea198dcf0759dec6b",
       "max": 5625,
       "style": "IPY_MODEL_c9f13da12d084caea9dbfbde1cce6d44",
       "value": 5625
      }
     },
     "72de4cede73c423d9e1ff3942c22f19a": {
      "model_module": "@jupyter-widgets/controls",
      "model_module_version": "1.5.0",
      "model_name": "FloatProgressModel",
      "state": {
       "_model_module_version": "1.5.0",
       "_view_module_version": "1.5.0",
       "bar_style": "success",
       "description": "563/563",
       "layout": "IPY_MODEL_b311b6e67e4d42b7b1709754a969b478",
       "max": 563,
       "style": "IPY_MODEL_377d0381784e402b84f63286d82e2060",
       "value": 563
      }
     },
     "730f4f08916f462f90efacd42bfcd992": {
      "model_module": "@jupyter-widgets/controls",
      "model_module_version": "1.5.0",
      "model_name": "DescriptionStyleModel",
      "state": {
       "_model_module_version": "1.5.0",
       "_view_module_version": "1.2.0",
       "description_width": ""
      }
     },
     "73cb87a4bb234948ace7ebc32b112c39": {
      "model_module": "@jupyter-widgets/controls",
      "model_module_version": "1.5.0",
      "model_name": "HBoxModel",
      "state": {
       "_model_module_version": "1.5.0",
       "_view_module_version": "1.5.0",
       "children": [
        "IPY_MODEL_92812a3ed31743c4af51e7a853198095",
        "IPY_MODEL_8fda4bb9f50445d6aa72e0bb2a4dcc2f"
       ],
       "layout": "IPY_MODEL_3ea1b7b810d445d7a9d9a96a50e58855"
      }
     },
     "73cb983ac289400697799fd9f9b5923e": {
      "model_module": "@jupyter-widgets/controls",
      "model_module_version": "1.5.0",
      "model_name": "HBoxModel",
      "state": {
       "_model_module_version": "1.5.0",
       "_view_module_version": "1.5.0",
       "children": [
        "IPY_MODEL_91a6145df0d6462c99f01129ef4a8e4a",
        "IPY_MODEL_028b4852e7e1428aaddb1e4cc3af21c8"
       ],
       "layout": "IPY_MODEL_9a522aadc507445b8d5801df22989243"
      }
     },
     "73dab7eca61c423bb6db7ffb17c82ede": {
      "model_module": "@jupyter-widgets/controls",
      "model_module_version": "1.5.0",
      "model_name": "ProgressStyleModel",
      "state": {
       "_model_module_version": "1.5.0",
       "_view_module_version": "1.2.0",
       "description_width": "initial"
      }
     },
     "73f23b16f5c34fb3b2606036760ba546": {
      "model_module": "@jupyter-widgets/base",
      "model_module_version": "1.2.0",
      "model_name": "LayoutModel",
      "state": {
       "_model_module_version": "1.2.0",
       "_view_module_version": "1.2.0",
       "justify_items": null,
       "object_fit": null,
       "object_position": null
      }
     },
     "7436b89db24f427fabbf964383313aba": {
      "model_module": "@jupyter-widgets/controls",
      "model_module_version": "1.5.0",
      "model_name": "FloatProgressModel",
      "state": {
       "_model_module_version": "1.5.0",
       "_view_module_version": "1.5.0",
       "bar_style": "success",
       "description": "5625/5625",
       "layout": "IPY_MODEL_bdae8aa91b5145b3b9ecfda1ba837f75",
       "max": 5625,
       "style": "IPY_MODEL_152f85690a564196afb3c0bb03534435",
       "value": 5625
      }
     },
     "747398216652454b89283b8f0bb59c95": {
      "model_module": "@jupyter-widgets/controls",
      "model_module_version": "1.5.0",
      "model_name": "FloatProgressModel",
      "state": {
       "_model_module_version": "1.5.0",
       "_view_module_version": "1.5.0",
       "bar_style": "success",
       "description": "5625/5625",
       "layout": "IPY_MODEL_318950a1ec6e44c897066422a18e1c77",
       "max": 5625,
       "style": "IPY_MODEL_9c902a2399e743788f3cb8f223701324",
       "value": 5625
      }
     },
     "74797478fe414f7ea7ed53014961662c": {
      "model_module": "@jupyter-widgets/controls",
      "model_module_version": "1.5.0",
      "model_name": "ProgressStyleModel",
      "state": {
       "_model_module_version": "1.5.0",
       "_view_module_version": "1.2.0",
       "description_width": "initial"
      }
     },
     "748b8d6b632e4de58320754119aa56b2": {
      "model_module": "@jupyter-widgets/controls",
      "model_module_version": "1.5.0",
      "model_name": "ProgressStyleModel",
      "state": {
       "_model_module_version": "1.5.0",
       "_view_module_version": "1.2.0",
       "description_width": "initial"
      }
     },
     "7540761103c34d9eb2ec6b8a6f50a21d": {
      "model_module": "@jupyter-widgets/base",
      "model_module_version": "1.2.0",
      "model_name": "LayoutModel",
      "state": {
       "_model_module_version": "1.2.0",
       "_view_module_version": "1.2.0",
       "justify_items": null,
       "object_fit": null,
       "object_position": null
      }
     },
     "75bc36fff3434eaca2140a9c7f9b20af": {
      "model_module": "@jupyter-widgets/base",
      "model_module_version": "1.2.0",
      "model_name": "LayoutModel",
      "state": {
       "_model_module_version": "1.2.0",
       "_view_module_version": "1.2.0",
       "justify_items": null,
       "object_fit": null,
       "object_position": null
      }
     },
     "75ccc2e0e3aa4f8e8b8f13f27a9e8cc3": {
      "model_module": "@jupyter-widgets/base",
      "model_module_version": "1.2.0",
      "model_name": "LayoutModel",
      "state": {
       "_model_module_version": "1.2.0",
       "_view_module_version": "1.2.0",
       "justify_items": null,
       "object_fit": null,
       "object_position": null
      }
     },
     "763c41ac313c441bbad716635a0f0798": {
      "model_module": "@jupyter-widgets/base",
      "model_module_version": "1.2.0",
      "model_name": "LayoutModel",
      "state": {
       "_model_module_version": "1.2.0",
       "_view_module_version": "1.2.0",
       "display": "inline-flex",
       "flex_flow": "row wrap",
       "justify_items": null,
       "object_fit": null,
       "object_position": null,
       "width": "100%"
      }
     },
     "764b1e53e6b649358ff43d9534586f55": {
      "model_module": "@jupyter-widgets/controls",
      "model_module_version": "1.5.0",
      "model_name": "DescriptionStyleModel",
      "state": {
       "_model_module_version": "1.5.0",
       "_view_module_version": "1.2.0",
       "description_width": ""
      }
     },
     "765513a6fdc541f8840c19bea12a5daf": {
      "model_module": "@jupyter-widgets/base",
      "model_module_version": "1.2.0",
      "model_name": "LayoutModel",
      "state": {
       "_model_module_version": "1.2.0",
       "_view_module_version": "1.2.0",
       "display": "inline-flex",
       "flex_flow": "row wrap",
       "justify_items": null,
       "object_fit": null,
       "object_position": null,
       "width": "100%"
      }
     },
     "76c8bec4ef90465fb16f03ebbffea852": {
      "model_module": "@jupyter-widgets/base",
      "model_module_version": "1.2.0",
      "model_name": "LayoutModel",
      "state": {
       "_model_module_version": "1.2.0",
       "_view_module_version": "1.2.0",
       "flex": "2",
       "justify_items": null,
       "object_fit": null,
       "object_position": null
      }
     },
     "76ca48721c424fefa106c9b0f8b33098": {
      "model_module": "@jupyter-widgets/controls",
      "model_module_version": "1.5.0",
      "model_name": "ProgressStyleModel",
      "state": {
       "_model_module_version": "1.5.0",
       "_view_module_version": "1.2.0",
       "description_width": "initial"
      }
     },
     "7734d532f22e4fdcbfdaa3528cf40c4c": {
      "model_module": "@jupyter-widgets/controls",
      "model_module_version": "1.5.0",
      "model_name": "HTMLModel",
      "state": {
       "_model_module_version": "1.5.0",
       "_view_module_version": "1.5.0",
       "layout": "IPY_MODEL_c8ba5c84c7d348b09fd4055bcfa703a6",
       "style": "IPY_MODEL_c4111bfb873647699e4c429551d44b59",
       "value": " ETA: 00:00s - loss: 0.0004 - val_loss: 0.0002"
      }
     },
     "777ce71b95394b18a9c3e11b3fe05073": {
      "model_module": "@jupyter-widgets/base",
      "model_module_version": "1.2.0",
      "model_name": "LayoutModel",
      "state": {
       "_model_module_version": "1.2.0",
       "_view_module_version": "1.2.0",
       "flex": "2",
       "justify_items": null,
       "object_fit": null,
       "object_position": null
      }
     },
     "7829775eefd04eb9b87385d365ed0e73": {
      "model_module": "@jupyter-widgets/controls",
      "model_module_version": "1.5.0",
      "model_name": "HBoxModel",
      "state": {
       "_model_module_version": "1.5.0",
       "_view_module_version": "1.5.0",
       "children": [
        "IPY_MODEL_3fbd72a18ac54276839c1f10de0f8838",
        "IPY_MODEL_fd3fbacbce4e44bb88f78a4c4031eec2"
       ],
       "layout": "IPY_MODEL_bc1c0358e239485982cfa55110847941"
      }
     },
     "78411632e1e54b54a4d049f4b4260540": {
      "model_module": "@jupyter-widgets/controls",
      "model_module_version": "1.5.0",
      "model_name": "DescriptionStyleModel",
      "state": {
       "_model_module_version": "1.5.0",
       "_view_module_version": "1.2.0",
       "description_width": ""
      }
     },
     "7879eb98d4ef4c6b87b7fcf5d0923316": {
      "model_module": "@jupyter-widgets/controls",
      "model_module_version": "1.5.0",
      "model_name": "HBoxModel",
      "state": {
       "_model_module_version": "1.5.0",
       "_view_module_version": "1.5.0",
       "children": [
        "IPY_MODEL_9c01074f4b5542a69b1425502432611a",
        "IPY_MODEL_dad64b08eda64c738330ca74ae710c54"
       ],
       "layout": "IPY_MODEL_a63fc00464d24823926eb28fd0e627a0"
      }
     },
     "787d83f1f199472c8c409f887d3bff32": {
      "model_module": "@jupyter-widgets/base",
      "model_module_version": "1.2.0",
      "model_name": "LayoutModel",
      "state": {
       "_model_module_version": "1.2.0",
       "_view_module_version": "1.2.0",
       "flex": "2",
       "justify_items": null,
       "object_fit": null,
       "object_position": null
      }
     },
     "78cd95aff6c24d2eb89d2db8bff5054c": {
      "model_module": "@jupyter-widgets/base",
      "model_module_version": "1.2.0",
      "model_name": "LayoutModel",
      "state": {
       "_model_module_version": "1.2.0",
       "_view_module_version": "1.2.0",
       "justify_items": null,
       "object_fit": null,
       "object_position": null
      }
     },
     "792ae42b0e454a89ab4e5d77176b49d3": {
      "model_module": "@jupyter-widgets/controls",
      "model_module_version": "1.5.0",
      "model_name": "ProgressStyleModel",
      "state": {
       "_model_module_version": "1.5.0",
       "_view_module_version": "1.2.0",
       "description_width": "initial"
      }
     },
     "792f3cd0b3a543789a8bd73a5b9eb658": {
      "model_module": "@jupyter-widgets/controls",
      "model_module_version": "1.5.0",
      "model_name": "ProgressStyleModel",
      "state": {
       "_model_module_version": "1.5.0",
       "_view_module_version": "1.2.0",
       "description_width": "initial"
      }
     },
     "798cba6efbcd4ca098bc7f996e366b38": {
      "model_module": "@jupyter-widgets/base",
      "model_module_version": "1.2.0",
      "model_name": "LayoutModel",
      "state": {
       "_model_module_version": "1.2.0",
       "_view_module_version": "1.2.0",
       "flex": "2",
       "justify_items": null,
       "object_fit": null,
       "object_position": null
      }
     },
     "79fbabda513b454c872ef816fb5ba2d3": {
      "model_module": "@jupyter-widgets/base",
      "model_module_version": "1.2.0",
      "model_name": "LayoutModel",
      "state": {
       "_model_module_version": "1.2.0",
       "_view_module_version": "1.2.0",
       "flex": "2",
       "justify_items": null,
       "object_fit": null,
       "object_position": null
      }
     },
     "7a8aec14dabe453083d1cd668d311457": {
      "model_module": "@jupyter-widgets/base",
      "model_module_version": "1.2.0",
      "model_name": "LayoutModel",
      "state": {
       "_model_module_version": "1.2.0",
       "_view_module_version": "1.2.0",
       "display": "inline-flex",
       "flex_flow": "row wrap",
       "justify_items": null,
       "object_fit": null,
       "object_position": null,
       "width": "100%"
      }
     },
     "7ae949c722134ecfb3fe9750b12e88a5": {
      "model_module": "@jupyter-widgets/controls",
      "model_module_version": "1.5.0",
      "model_name": "HTMLModel",
      "state": {
       "_model_module_version": "1.5.0",
       "_view_module_version": "1.5.0",
       "layout": "IPY_MODEL_7540761103c34d9eb2ec6b8a6f50a21d",
       "style": "IPY_MODEL_f9c36af073e54353b3988bbc98f17e24",
       "value": " ETA: 00:00s - loss: 0.0007 - mse: 0.0007 - val_loss: 0.0006 - val_mse: 0.0006"
      }
     },
     "7b37e84fc510434daa5593c83759aaa5": {
      "model_module": "@jupyter-widgets/controls",
      "model_module_version": "1.5.0",
      "model_name": "ProgressStyleModel",
      "state": {
       "_model_module_version": "1.5.0",
       "_view_module_version": "1.2.0",
       "description_width": "initial"
      }
     },
     "7b423d6322564258a3b93622531963a8": {
      "model_module": "@jupyter-widgets/base",
      "model_module_version": "1.2.0",
      "model_name": "LayoutModel",
      "state": {
       "_model_module_version": "1.2.0",
       "_view_module_version": "1.2.0",
       "justify_items": null,
       "object_fit": null,
       "object_position": null
      }
     },
     "7b44208302f34316a7a43ef333cc065e": {
      "model_module": "@jupyter-widgets/base",
      "model_module_version": "1.2.0",
      "model_name": "LayoutModel",
      "state": {
       "_model_module_version": "1.2.0",
       "_view_module_version": "1.2.0",
       "display": "inline-flex",
       "flex_flow": "row wrap",
       "justify_items": null,
       "object_fit": null,
       "object_position": null,
       "width": "100%"
      }
     },
     "7c086eb5ba394788bdde38991f99db77": {
      "model_module": "@jupyter-widgets/controls",
      "model_module_version": "1.5.0",
      "model_name": "DescriptionStyleModel",
      "state": {
       "_model_module_version": "1.5.0",
       "_view_module_version": "1.2.0",
       "description_width": ""
      }
     },
     "7cb1d2e221164b42b20ab1f858818ca6": {
      "model_module": "@jupyter-widgets/controls",
      "model_module_version": "1.5.0",
      "model_name": "HTMLModel",
      "state": {
       "_model_module_version": "1.5.0",
       "_view_module_version": "1.5.0",
       "layout": "IPY_MODEL_4e4f5761e510463b88e929126c444fd1",
       "style": "IPY_MODEL_269585222dc9404bab9e8e4029f30e70",
       "value": " ETA: 00:00s - loss: 0.0137 - mse: 0.0150"
      }
     },
     "7d172ec5a4a448cbbc83a97f4bdb23fb": {
      "model_module": "@jupyter-widgets/controls",
      "model_module_version": "1.5.0",
      "model_name": "FloatProgressModel",
      "state": {
       "_model_module_version": "1.5.0",
       "_view_module_version": "1.5.0",
       "bar_style": "success",
       "description": "5625/5625",
       "layout": "IPY_MODEL_8e2fd31bf6bc43be960ce3cc8917973f",
       "max": 5625,
       "style": "IPY_MODEL_469fa72ab02a4062af6ac910f6779da2",
       "value": 5625
      }
     },
     "7d446e295ea54dd4bfd459a5209c6156": {
      "model_module": "@jupyter-widgets/base",
      "model_module_version": "1.2.0",
      "model_name": "LayoutModel",
      "state": {
       "_model_module_version": "1.2.0",
       "_view_module_version": "1.2.0",
       "display": "inline-flex",
       "flex_flow": "row wrap",
       "justify_items": null,
       "object_fit": null,
       "object_position": null,
       "width": "100%"
      }
     },
     "7d611400b8894e7a8b9d0621d8397596": {
      "model_module": "@jupyter-widgets/controls",
      "model_module_version": "1.5.0",
      "model_name": "ProgressStyleModel",
      "state": {
       "_model_module_version": "1.5.0",
       "_view_module_version": "1.2.0",
       "description_width": "initial"
      }
     },
     "7dad28df09a34022806956f9c2ff9a3f": {
      "model_module": "@jupyter-widgets/controls",
      "model_module_version": "1.5.0",
      "model_name": "HBoxModel",
      "state": {
       "_model_module_version": "1.5.0",
       "_view_module_version": "1.5.0",
       "children": [
        "IPY_MODEL_7d172ec5a4a448cbbc83a97f4bdb23fb",
        "IPY_MODEL_927f5129eb8045b4817336147957c0f7"
       ],
       "layout": "IPY_MODEL_11f287cbc7264de28eb022b7571e91a4"
      }
     },
     "7e86d938bc2540cdb1181068040cdf7f": {
      "model_module": "@jupyter-widgets/base",
      "model_module_version": "1.2.0",
      "model_name": "LayoutModel",
      "state": {
       "_model_module_version": "1.2.0",
       "_view_module_version": "1.2.0",
       "justify_items": null,
       "object_fit": null,
       "object_position": null
      }
     },
     "7e948ec6203343d0be06e391e3094794": {
      "model_module": "@jupyter-widgets/controls",
      "model_module_version": "1.5.0",
      "model_name": "HBoxModel",
      "state": {
       "_model_module_version": "1.5.0",
       "_view_module_version": "1.5.0",
       "children": [
        "IPY_MODEL_92e5b5b9b9294083a3ab559dc7c76f63",
        "IPY_MODEL_f895ee89002b4484b7e15ebe02455c58"
       ],
       "layout": "IPY_MODEL_a330b650d0674a32a338ca145fb36d8c"
      }
     },
     "7eb02aa61b5d4dee8960aa7f796d1f58": {
      "model_module": "@jupyter-widgets/controls",
      "model_module_version": "1.5.0",
      "model_name": "DescriptionStyleModel",
      "state": {
       "_model_module_version": "1.5.0",
       "_view_module_version": "1.2.0",
       "description_width": ""
      }
     },
     "7ee1b5cfb0d74693b5823092598b3bf9": {
      "model_module": "@jupyter-widgets/base",
      "model_module_version": "1.2.0",
      "model_name": "LayoutModel",
      "state": {
       "_model_module_version": "1.2.0",
       "_view_module_version": "1.2.0",
       "flex": "2",
       "justify_items": null,
       "object_fit": null,
       "object_position": null
      }
     },
     "7f932dfd923944498183df41665aef27": {
      "model_module": "@jupyter-widgets/controls",
      "model_module_version": "1.5.0",
      "model_name": "ProgressStyleModel",
      "state": {
       "_model_module_version": "1.5.0",
       "_view_module_version": "1.2.0",
       "description_width": "initial"
      }
     },
     "7fa53089e8054d84bf4af8eac72c2543": {
      "model_module": "@jupyter-widgets/controls",
      "model_module_version": "1.5.0",
      "model_name": "DescriptionStyleModel",
      "state": {
       "_model_module_version": "1.5.0",
       "_view_module_version": "1.2.0",
       "description_width": ""
      }
     },
     "800cd32ff8314c7481b15c901d10e779": {
      "model_module": "@jupyter-widgets/base",
      "model_module_version": "1.2.0",
      "model_name": "LayoutModel",
      "state": {
       "_model_module_version": "1.2.0",
       "_view_module_version": "1.2.0",
       "justify_items": null,
       "object_fit": null,
       "object_position": null
      }
     },
     "8060491df0cf4477986a6dcb6058a131": {
      "model_module": "@jupyter-widgets/base",
      "model_module_version": "1.2.0",
      "model_name": "LayoutModel",
      "state": {
       "_model_module_version": "1.2.0",
       "_view_module_version": "1.2.0",
       "display": "inline-flex",
       "flex_flow": "row wrap",
       "justify_items": null,
       "object_fit": null,
       "object_position": null,
       "width": "100%"
      }
     },
     "809075ee3b26402b96c26d98fb7920d4": {
      "model_module": "@jupyter-widgets/base",
      "model_module_version": "1.2.0",
      "model_name": "LayoutModel",
      "state": {
       "_model_module_version": "1.2.0",
       "_view_module_version": "1.2.0",
       "justify_items": null,
       "object_fit": null,
       "object_position": null
      }
     },
     "80b03221067647df81e95421b47fffe3": {
      "model_module": "@jupyter-widgets/base",
      "model_module_version": "1.2.0",
      "model_name": "LayoutModel",
      "state": {
       "_model_module_version": "1.2.0",
       "_view_module_version": "1.2.0",
       "justify_items": null,
       "object_fit": null,
       "object_position": null
      }
     },
     "80d60416716e4c2fa0a155fe20b40b97": {
      "model_module": "@jupyter-widgets/base",
      "model_module_version": "1.2.0",
      "model_name": "LayoutModel",
      "state": {
       "_model_module_version": "1.2.0",
       "_view_module_version": "1.2.0",
       "display": "inline-flex",
       "flex_flow": "row wrap",
       "justify_items": null,
       "object_fit": null,
       "object_position": null,
       "width": "100%"
      }
     },
     "812bfb57aef84864a7892c0e6d919597": {
      "model_module": "@jupyter-widgets/controls",
      "model_module_version": "1.5.0",
      "model_name": "HBoxModel",
      "state": {
       "_model_module_version": "1.5.0",
       "_view_module_version": "1.5.0",
       "children": [
        "IPY_MODEL_f6386233375647838b1fc008ee8c742f",
        "IPY_MODEL_28c8be03fba24dc08366e01a101c1093"
       ],
       "layout": "IPY_MODEL_58b7d7a30635421eaccc9d9f4de6b205"
      }
     },
     "815e3d60a5e84cc7949b1cdd6dabe52e": {
      "model_module": "@jupyter-widgets/base",
      "model_module_version": "1.2.0",
      "model_name": "LayoutModel",
      "state": {
       "_model_module_version": "1.2.0",
       "_view_module_version": "1.2.0",
       "justify_items": null,
       "object_fit": null,
       "object_position": null
      }
     },
     "815f084b67084d5b876fa5f24df357df": {
      "model_module": "@jupyter-widgets/controls",
      "model_module_version": "1.5.0",
      "model_name": "HBoxModel",
      "state": {
       "_model_module_version": "1.5.0",
       "_view_module_version": "1.5.0",
       "children": [
        "IPY_MODEL_a156ca97b93c4ee08a747935d8f5ecca",
        "IPY_MODEL_41f1bd265b004f2993559b8d77e9feb8"
       ],
       "layout": "IPY_MODEL_9358d947dc8d489b82850b1424b615e1"
      }
     },
     "81664111586940fa8ad05616b45b6f1f": {
      "model_module": "@jupyter-widgets/controls",
      "model_module_version": "1.5.0",
      "model_name": "ProgressStyleModel",
      "state": {
       "_model_module_version": "1.5.0",
       "_view_module_version": "1.2.0",
       "description_width": "initial"
      }
     },
     "8177de3beb124090bbe662a725b9d263": {
      "model_module": "@jupyter-widgets/controls",
      "model_module_version": "1.5.0",
      "model_name": "HBoxModel",
      "state": {
       "_model_module_version": "1.5.0",
       "_view_module_version": "1.5.0",
       "children": [
        "IPY_MODEL_eb1a1ddc114f4a46a63b633e4db2f873",
        "IPY_MODEL_6a5c82ece0e644ed8ee3d4e76ca6e6d1"
       ],
       "layout": "IPY_MODEL_4d5cb4d8562b48e3932161cd6eba7a7f"
      }
     },
     "819612ba801c4cbcbe53846432843550": {
      "model_module": "@jupyter-widgets/controls",
      "model_module_version": "1.5.0",
      "model_name": "HBoxModel",
      "state": {
       "_model_module_version": "1.5.0",
       "_view_module_version": "1.5.0",
       "children": [
        "IPY_MODEL_1be31c7f9c854908aafed79dcf6227dc",
        "IPY_MODEL_1ea6063008ac404ebc5707311c643326"
       ],
       "layout": "IPY_MODEL_0c58956d3f964dbc8af9a784dd2a1685"
      }
     },
     "82498aedd78b4f18acbe858b70e54aca": {
      "model_module": "@jupyter-widgets/base",
      "model_module_version": "1.2.0",
      "model_name": "LayoutModel",
      "state": {
       "_model_module_version": "1.2.0",
       "_view_module_version": "1.2.0",
       "flex": "2",
       "justify_items": null,
       "object_fit": null,
       "object_position": null
      }
     },
     "826462eb8c1a473abf499809661a95b4": {
      "model_module": "@jupyter-widgets/base",
      "model_module_version": "1.2.0",
      "model_name": "LayoutModel",
      "state": {
       "_model_module_version": "1.2.0",
       "_view_module_version": "1.2.0",
       "justify_items": null,
       "object_fit": null,
       "object_position": null
      }
     },
     "829f8a22cbf24c94a6a198b3611a0b95": {
      "model_module": "@jupyter-widgets/controls",
      "model_module_version": "1.5.0",
      "model_name": "ProgressStyleModel",
      "state": {
       "_model_module_version": "1.5.0",
       "_view_module_version": "1.2.0",
       "description_width": "initial"
      }
     },
     "82d6d3c1f90b47ad8f78a8516a0ea08b": {
      "model_module": "@jupyter-widgets/base",
      "model_module_version": "1.2.0",
      "model_name": "LayoutModel",
      "state": {
       "_model_module_version": "1.2.0",
       "_view_module_version": "1.2.0",
       "display": "inline-flex",
       "flex_flow": "row wrap",
       "justify_items": null,
       "object_fit": null,
       "object_position": null,
       "width": "100%"
      }
     },
     "82e6f313870b429990c7e65a66d79778": {
      "model_module": "@jupyter-widgets/controls",
      "model_module_version": "1.5.0",
      "model_name": "ProgressStyleModel",
      "state": {
       "_model_module_version": "1.5.0",
       "_view_module_version": "1.2.0",
       "description_width": "initial"
      }
     },
     "830e1453f0544b0aaae700577a08e8e5": {
      "model_module": "@jupyter-widgets/base",
      "model_module_version": "1.2.0",
      "model_name": "LayoutModel",
      "state": {
       "_model_module_version": "1.2.0",
       "_view_module_version": "1.2.0",
       "flex": "2",
       "justify_items": null,
       "object_fit": null,
       "object_position": null
      }
     },
     "83160d4176af42da8837da6667d09b84": {
      "model_module": "@jupyter-widgets/base",
      "model_module_version": "1.2.0",
      "model_name": "LayoutModel",
      "state": {
       "_model_module_version": "1.2.0",
       "_view_module_version": "1.2.0",
       "flex": "2",
       "justify_items": null,
       "object_fit": null,
       "object_position": null
      }
     },
     "83c512c0596548a2aeb6c8fdd926b6c6": {
      "model_module": "@jupyter-widgets/controls",
      "model_module_version": "1.5.0",
      "model_name": "HTMLModel",
      "state": {
       "_model_module_version": "1.5.0",
       "_view_module_version": "1.5.0",
       "layout": "IPY_MODEL_9b30465b263e4066a7b20394caac7c89",
       "style": "IPY_MODEL_0c19de62539f4dcea88e3c8332172259",
       "value": " ETA: 00:00s - loss: 0.0560 - val_loss: 0.0384"
      }
     },
     "83ecdce4a5fa479e97addab8c5c8e104": {
      "model_module": "@jupyter-widgets/controls",
      "model_module_version": "1.5.0",
      "model_name": "HBoxModel",
      "state": {
       "_model_module_version": "1.5.0",
       "_view_module_version": "1.5.0",
       "children": [
        "IPY_MODEL_2eb7feb371ee4f86a57ebd62b3280fc6",
        "IPY_MODEL_6b71d9665679491eba8ca9b693a3439a"
       ],
       "layout": "IPY_MODEL_e8495cd4efcd46669cdd4448de7c1587"
      }
     },
     "851e4010de954194b23d7218b6632402": {
      "model_module": "@jupyter-widgets/controls",
      "model_module_version": "1.5.0",
      "model_name": "HTMLModel",
      "state": {
       "_model_module_version": "1.5.0",
       "_view_module_version": "1.5.0",
       "layout": "IPY_MODEL_a82c9607b5f740e880dd500e8a9e7fa2",
       "style": "IPY_MODEL_ef0b9608475f47978255f1c7c6b50a12",
       "value": " ETA: 00:00s - loss: 0.0083 - val_loss: 0.0013"
      }
     },
     "853cef9d7308438ab75ef8e0d0a04e69": {
      "model_module": "@jupyter-widgets/controls",
      "model_module_version": "1.5.0",
      "model_name": "DescriptionStyleModel",
      "state": {
       "_model_module_version": "1.5.0",
       "_view_module_version": "1.2.0",
       "description_width": ""
      }
     },
     "855ca627f4c043bdab77241c70c29755": {
      "model_module": "@jupyter-widgets/controls",
      "model_module_version": "1.5.0",
      "model_name": "FloatProgressModel",
      "state": {
       "_model_module_version": "1.5.0",
       "_view_module_version": "1.5.0",
       "bar_style": "success",
       "description": "5625/5625",
       "layout": "IPY_MODEL_b106336d548e42a6a0eab3ffe12a3f53",
       "max": 5625,
       "style": "IPY_MODEL_24276458f5244c10896a3f29a4ae0a0f",
       "value": 5625
      }
     },
     "856570b200f84671b2b3629e4be7b71f": {
      "model_module": "@jupyter-widgets/base",
      "model_module_version": "1.2.0",
      "model_name": "LayoutModel",
      "state": {
       "_model_module_version": "1.2.0",
       "_view_module_version": "1.2.0",
       "flex": "2",
       "justify_items": null,
       "object_fit": null,
       "object_position": null
      }
     },
     "85958875f5d74247a090504bd486f726": {
      "model_module": "@jupyter-widgets/controls",
      "model_module_version": "1.5.0",
      "model_name": "FloatProgressModel",
      "state": {
       "_model_module_version": "1.5.0",
       "_view_module_version": "1.5.0",
       "bar_style": "success",
       "description": "5625/5625",
       "layout": "IPY_MODEL_91e82a4f470c4570b0c82d23b5368d43",
       "max": 5625,
       "style": "IPY_MODEL_291f12c56b044b6f8d1e41695b2babdc",
       "value": 5625
      }
     },
     "8639519b41ee4f608db32f15f693d516": {
      "model_module": "@jupyter-widgets/base",
      "model_module_version": "1.2.0",
      "model_name": "LayoutModel",
      "state": {
       "_model_module_version": "1.2.0",
       "_view_module_version": "1.2.0",
       "justify_items": null,
       "object_fit": null,
       "object_position": null
      }
     },
     "8651d30f661846859e175decaa441901": {
      "model_module": "@jupyter-widgets/controls",
      "model_module_version": "1.5.0",
      "model_name": "DescriptionStyleModel",
      "state": {
       "_model_module_version": "1.5.0",
       "_view_module_version": "1.2.0",
       "description_width": ""
      }
     },
     "86e7f8be26ef49a3b6151ae763d9b1bf": {
      "model_module": "@jupyter-widgets/controls",
      "model_module_version": "1.5.0",
      "model_name": "FloatProgressModel",
      "state": {
       "_model_module_version": "1.5.0",
       "_view_module_version": "1.5.0",
       "bar_style": "success",
       "description": "5625/5625",
       "layout": "IPY_MODEL_6996c3c52c7540418ead559a971b3ce8",
       "max": 5625,
       "style": "IPY_MODEL_73dab7eca61c423bb6db7ffb17c82ede",
       "value": 5625
      }
     },
     "871a8acd8f874777b05ecfa1de7816f0": {
      "model_module": "@jupyter-widgets/controls",
      "model_module_version": "1.5.0",
      "model_name": "FloatProgressModel",
      "state": {
       "_model_module_version": "1.5.0",
       "_view_module_version": "1.5.0",
       "bar_style": "success",
       "description": "5625/5625",
       "layout": "IPY_MODEL_e127be0d55dd4c0492dc9048aab0f14d",
       "max": 5625,
       "style": "IPY_MODEL_3af4421af0bc42839deea8a9f8f1c9d3",
       "value": 5625
      }
     },
     "8741e890132b415ea198dcf0759dec6b": {
      "model_module": "@jupyter-widgets/base",
      "model_module_version": "1.2.0",
      "model_name": "LayoutModel",
      "state": {
       "_model_module_version": "1.2.0",
       "_view_module_version": "1.2.0",
       "flex": "2",
       "justify_items": null,
       "object_fit": null,
       "object_position": null
      }
     },
     "87a66f5b26a84533a7731d88ea47a225": {
      "model_module": "@jupyter-widgets/base",
      "model_module_version": "1.2.0",
      "model_name": "LayoutModel",
      "state": {
       "_model_module_version": "1.2.0",
       "_view_module_version": "1.2.0",
       "justify_items": null,
       "object_fit": null,
       "object_position": null
      }
     },
     "87f76ea53aef498ba439151bbdddd224": {
      "model_module": "@jupyter-widgets/base",
      "model_module_version": "1.2.0",
      "model_name": "LayoutModel",
      "state": {
       "_model_module_version": "1.2.0",
       "_view_module_version": "1.2.0",
       "flex": "2",
       "justify_items": null,
       "object_fit": null,
       "object_position": null
      }
     },
     "88796e58c58b4cf9a3db57d0386af695": {
      "model_module": "@jupyter-widgets/controls",
      "model_module_version": "1.5.0",
      "model_name": "FloatProgressModel",
      "state": {
       "_model_module_version": "1.5.0",
       "_view_module_version": "1.5.0",
       "bar_style": "success",
       "description": "5625/5625",
       "layout": "IPY_MODEL_26726a478e2547aa8e0fe3919d7b7171",
       "max": 5625,
       "style": "IPY_MODEL_f405a0b7e5174b63ae4c26ce3618ab71",
       "value": 5625
      }
     },
     "8897778f30e74963b0b89df75c271143": {
      "model_module": "@jupyter-widgets/controls",
      "model_module_version": "1.5.0",
      "model_name": "ProgressStyleModel",
      "state": {
       "_model_module_version": "1.5.0",
       "_view_module_version": "1.2.0",
       "description_width": "initial"
      }
     },
     "88b6eea290e04a86a5bba1790b9ed676": {
      "model_module": "@jupyter-widgets/base",
      "model_module_version": "1.2.0",
      "model_name": "LayoutModel",
      "state": {
       "_model_module_version": "1.2.0",
       "_view_module_version": "1.2.0",
       "display": "inline-flex",
       "flex_flow": "row wrap",
       "justify_items": null,
       "object_fit": null,
       "object_position": null,
       "width": "100%"
      }
     },
     "88be70a2bfb84635b192d31e5aa3e7de": {
      "model_module": "@jupyter-widgets/controls",
      "model_module_version": "1.5.0",
      "model_name": "ProgressStyleModel",
      "state": {
       "_model_module_version": "1.5.0",
       "_view_module_version": "1.2.0",
       "description_width": "initial"
      }
     },
     "898bcae7340a45a2bc06a331145108a8": {
      "model_module": "@jupyter-widgets/controls",
      "model_module_version": "1.5.0",
      "model_name": "DescriptionStyleModel",
      "state": {
       "_model_module_version": "1.5.0",
       "_view_module_version": "1.2.0",
       "description_width": ""
      }
     },
     "89eea52e9b174065ac488cdae6ceda0d": {
      "model_module": "@jupyter-widgets/controls",
      "model_module_version": "1.5.0",
      "model_name": "DescriptionStyleModel",
      "state": {
       "_model_module_version": "1.5.0",
       "_view_module_version": "1.2.0",
       "description_width": ""
      }
     },
     "8a4a8e9821b3431282a328eb49697d03": {
      "model_module": "@jupyter-widgets/controls",
      "model_module_version": "1.5.0",
      "model_name": "ProgressStyleModel",
      "state": {
       "_model_module_version": "1.5.0",
       "_view_module_version": "1.2.0",
       "description_width": "initial"
      }
     },
     "8b44018feb00499ea1cca61cffda1f85": {
      "model_module": "@jupyter-widgets/controls",
      "model_module_version": "1.5.0",
      "model_name": "FloatProgressModel",
      "state": {
       "_model_module_version": "1.5.0",
       "_view_module_version": "1.5.0",
       "bar_style": "success",
       "description": "5625/5625",
       "layout": "IPY_MODEL_ca2947e17c6b40fd8ad7679e768b165f",
       "max": 5625,
       "style": "IPY_MODEL_c58703adb7be4f729096fd9e45db13cb",
       "value": 5625
      }
     },
     "8bb24f7fddd146d6bc4c2a3bc910196c": {
      "model_module": "@jupyter-widgets/controls",
      "model_module_version": "1.5.0",
      "model_name": "HTMLModel",
      "state": {
       "_model_module_version": "1.5.0",
       "_view_module_version": "1.5.0",
       "layout": "IPY_MODEL_3287e391f4974ed090f0bf99e4417f49",
       "style": "IPY_MODEL_05caea4069be4ab99b5edf36cae3cb9e",
       "value": " ETA: 00:00s - loss: 0.0322 - val_loss: 0.0315"
      }
     },
     "8d31e24029a34ab287a0d152b24113ea": {
      "model_module": "@jupyter-widgets/controls",
      "model_module_version": "1.5.0",
      "model_name": "FloatProgressModel",
      "state": {
       "_model_module_version": "1.5.0",
       "_view_module_version": "1.5.0",
       "bar_style": "success",
       "description": "5625/5625",
       "layout": "IPY_MODEL_83160d4176af42da8837da6667d09b84",
       "max": 5625,
       "style": "IPY_MODEL_c6fc96b8d4994c36910723fae0717455",
       "value": 5625
      }
     },
     "8da8cc46892b499c98d9cdbc7ae510df": {
      "model_module": "@jupyter-widgets/base",
      "model_module_version": "1.2.0",
      "model_name": "LayoutModel",
      "state": {
       "_model_module_version": "1.2.0",
       "_view_module_version": "1.2.0",
       "display": "inline-flex",
       "flex_flow": "row wrap",
       "justify_items": null,
       "object_fit": null,
       "object_position": null,
       "width": "100%"
      }
     },
     "8e12558919214d4cb34a3bdbe17e5534": {
      "model_module": "@jupyter-widgets/controls",
      "model_module_version": "1.5.0",
      "model_name": "DescriptionStyleModel",
      "state": {
       "_model_module_version": "1.5.0",
       "_view_module_version": "1.2.0",
       "description_width": ""
      }
     },
     "8e2fd31bf6bc43be960ce3cc8917973f": {
      "model_module": "@jupyter-widgets/base",
      "model_module_version": "1.2.0",
      "model_name": "LayoutModel",
      "state": {
       "_model_module_version": "1.2.0",
       "_view_module_version": "1.2.0",
       "flex": "2",
       "justify_items": null,
       "object_fit": null,
       "object_position": null
      }
     },
     "8e7f363326974dc786ef3c24d5a4953b": {
      "model_module": "@jupyter-widgets/controls",
      "model_module_version": "1.5.0",
      "model_name": "ProgressStyleModel",
      "state": {
       "_model_module_version": "1.5.0",
       "_view_module_version": "1.2.0",
       "description_width": "initial"
      }
     },
     "8f09e610fd8740c9afe96f9aff2ee345": {
      "model_module": "@jupyter-widgets/controls",
      "model_module_version": "1.5.0",
      "model_name": "HTMLModel",
      "state": {
       "_model_module_version": "1.5.0",
       "_view_module_version": "1.5.0",
       "layout": "IPY_MODEL_fadf4e6de6b444d39597f85391eca027",
       "style": "IPY_MODEL_c1cf7ee36e73455c9482968a5c91befb",
       "value": " ETA: 00:00s - loss: 0.0002 - val_loss: 0.0006"
      }
     },
     "8f24bfb7461d4eaea1b0b4977b9905ee": {
      "model_module": "@jupyter-widgets/base",
      "model_module_version": "1.2.0",
      "model_name": "LayoutModel",
      "state": {
       "_model_module_version": "1.2.0",
       "_view_module_version": "1.2.0",
       "display": "inline-flex",
       "flex_flow": "row wrap",
       "justify_items": null,
       "object_fit": null,
       "object_position": null,
       "width": "100%"
      }
     },
     "8fc32a1b36d94663833628b579ecb7c7": {
      "model_module": "@jupyter-widgets/controls",
      "model_module_version": "1.5.0",
      "model_name": "HBoxModel",
      "state": {
       "_model_module_version": "1.5.0",
       "_view_module_version": "1.5.0",
       "children": [
        "IPY_MODEL_6ecb20d2191c4ceab9b996733ae4670f",
        "IPY_MODEL_ad1f4d9481f846abaf615897b6abb053"
       ],
       "layout": "IPY_MODEL_358d6a2924ad4d1db8885c812f3e581a"
      }
     },
     "8fd1311c82b14969a1f74c08c99c0931": {
      "model_module": "@jupyter-widgets/base",
      "model_module_version": "1.2.0",
      "model_name": "LayoutModel",
      "state": {
       "_model_module_version": "1.2.0",
       "_view_module_version": "1.2.0",
       "flex": "2",
       "justify_items": null,
       "object_fit": null,
       "object_position": null
      }
     },
     "8fda4bb9f50445d6aa72e0bb2a4dcc2f": {
      "model_module": "@jupyter-widgets/controls",
      "model_module_version": "1.5.0",
      "model_name": "HTMLModel",
      "state": {
       "_model_module_version": "1.5.0",
       "_view_module_version": "1.5.0",
       "layout": "IPY_MODEL_6685b5701ac54960a3c80b88b4fbc3d8",
       "style": "IPY_MODEL_e3784b84164741bcba8bdd117575e8a5",
       "value": " ETA: 00:00s - loss: 0.0022 - mse: 0.0022"
      }
     },
     "911e75eadf434ea79b83472a57956059": {
      "model_module": "@jupyter-widgets/controls",
      "model_module_version": "1.5.0",
      "model_name": "HTMLModel",
      "state": {
       "_model_module_version": "1.5.0",
       "_view_module_version": "1.5.0",
       "layout": "IPY_MODEL_a6dbb13be48f497e8a6df4b38edc014b",
       "style": "IPY_MODEL_ab4ef7b6eafc4c83bb7d6daed0d0d00f",
       "value": " ETA: 00:00s - loss: 0.0005 - mse: 0.0005 - val_loss: 0.0003 - val_mse: 0.0003"
      }
     },
     "913852a6e5704a4f9ac44e7b580b941a": {
      "model_module": "@jupyter-widgets/controls",
      "model_module_version": "1.5.0",
      "model_name": "HTMLModel",
      "state": {
       "_model_module_version": "1.5.0",
       "_view_module_version": "1.5.0",
       "layout": "IPY_MODEL_028f7b1ec77c4c2d815a0772fdac207b",
       "style": "IPY_MODEL_1085a71de8274504a8aff8d4d7a30119",
       "value": " ETA: 00:00s - loss: 0.0299 - val_loss: 0.0293"
      }
     },
     "916d3ae930654536b4e8b59b20412dcb": {
      "model_module": "@jupyter-widgets/base",
      "model_module_version": "1.2.0",
      "model_name": "LayoutModel",
      "state": {
       "_model_module_version": "1.2.0",
       "_view_module_version": "1.2.0",
       "display": "inline-flex",
       "flex_flow": "row wrap",
       "justify_items": null,
       "object_fit": null,
       "object_position": null,
       "width": "100%"
      }
     },
     "9187f8bdf64d4297800115eea4357ace": {
      "model_module": "@jupyter-widgets/base",
      "model_module_version": "1.2.0",
      "model_name": "LayoutModel",
      "state": {
       "_model_module_version": "1.2.0",
       "_view_module_version": "1.2.0",
       "justify_items": null,
       "object_fit": null,
       "object_position": null
      }
     },
     "918cd81d56164c8784b2e09d63810df7": {
      "model_module": "@jupyter-widgets/controls",
      "model_module_version": "1.5.0",
      "model_name": "HTMLModel",
      "state": {
       "_model_module_version": "1.5.0",
       "_view_module_version": "1.5.0",
       "layout": "IPY_MODEL_39cd1bb3fdc948e78eec0bb735f86eff",
       "style": "IPY_MODEL_cf4c83d62d84414391e877f385243d8d",
       "value": " ETA: 00:00s - loss: 0.0402 - val_loss: 0.0403"
      }
     },
     "91a6145df0d6462c99f01129ef4a8e4a": {
      "model_module": "@jupyter-widgets/controls",
      "model_module_version": "1.5.0",
      "model_name": "FloatProgressModel",
      "state": {
       "_model_module_version": "1.5.0",
       "_view_module_version": "1.5.0",
       "bar_style": "danger",
       "description": "Training:   1%",
       "layout": "IPY_MODEL_1023c330cbd347acafad30787e61dc65",
       "style": "IPY_MODEL_c7c7f860a04040f4a7993f735b98ec71",
       "value": 1
      }
     },
     "91e0db882cb648fab0ca249f52532bb6": {
      "model_module": "@jupyter-widgets/controls",
      "model_module_version": "1.5.0",
      "model_name": "HBoxModel",
      "state": {
       "_model_module_version": "1.5.0",
       "_view_module_version": "1.5.0",
       "children": [
        "IPY_MODEL_4a999f19198a4d03942f98c49c014383",
        "IPY_MODEL_e0023be0cf5b4b0e998eed1c03db19db"
       ],
       "layout": "IPY_MODEL_a72cf98588fd40b291ee3356436b2771"
      }
     },
     "91e82a4f470c4570b0c82d23b5368d43": {
      "model_module": "@jupyter-widgets/base",
      "model_module_version": "1.2.0",
      "model_name": "LayoutModel",
      "state": {
       "_model_module_version": "1.2.0",
       "_view_module_version": "1.2.0",
       "flex": "2",
       "justify_items": null,
       "object_fit": null,
       "object_position": null
      }
     },
     "920c513f43ab43c486c614c4383e2c14": {
      "model_module": "@jupyter-widgets/controls",
      "model_module_version": "1.5.0",
      "model_name": "DescriptionStyleModel",
      "state": {
       "_model_module_version": "1.5.0",
       "_view_module_version": "1.2.0",
       "description_width": ""
      }
     },
     "927f5129eb8045b4817336147957c0f7": {
      "model_module": "@jupyter-widgets/controls",
      "model_module_version": "1.5.0",
      "model_name": "HTMLModel",
      "state": {
       "_model_module_version": "1.5.0",
       "_view_module_version": "1.5.0",
       "layout": "IPY_MODEL_f02dcfae10824c4da238421dd2bebd8e",
       "style": "IPY_MODEL_0b56d2aaa73e46aea3746a436de1bb87",
       "value": " ETA: 00:00s - loss: 0.0003 - mse: 0.0003 - val_loss: 0.0001 - val_mse: 0.0001"
      }
     },
     "92812a3ed31743c4af51e7a853198095": {
      "model_module": "@jupyter-widgets/controls",
      "model_module_version": "1.5.0",
      "model_name": "FloatProgressModel",
      "state": {
       "_model_module_version": "1.5.0",
       "_view_module_version": "1.5.0",
       "bar_style": "success",
       "description": "5625/5625",
       "layout": "IPY_MODEL_14b3aa2ab51a4b9ebb44f7ca20fd30a8",
       "max": 5625,
       "style": "IPY_MODEL_b242b1358eb941c481f651451723b6da",
       "value": 5625
      }
     },
     "92e5b5b9b9294083a3ab559dc7c76f63": {
      "model_module": "@jupyter-widgets/controls",
      "model_module_version": "1.5.0",
      "model_name": "FloatProgressModel",
      "state": {
       "_model_module_version": "1.5.0",
       "_view_module_version": "1.5.0",
       "bar_style": "success",
       "description": "5625/5625",
       "layout": "IPY_MODEL_e2bbf92121384546964a2264ecd84353",
       "max": 5625,
       "style": "IPY_MODEL_3bd4d7d8dace4263b88ec37f5974cebb",
       "value": 5625
      }
     },
     "9358d947dc8d489b82850b1424b615e1": {
      "model_module": "@jupyter-widgets/base",
      "model_module_version": "1.2.0",
      "model_name": "LayoutModel",
      "state": {
       "_model_module_version": "1.2.0",
       "_view_module_version": "1.2.0",
       "display": "inline-flex",
       "flex_flow": "row wrap",
       "justify_items": null,
       "object_fit": null,
       "object_position": null,
       "width": "100%"
      }
     },
     "93a3a181ed5446a799b4b446d78d3c63": {
      "model_module": "@jupyter-widgets/controls",
      "model_module_version": "1.5.0",
      "model_name": "ProgressStyleModel",
      "state": {
       "_model_module_version": "1.5.0",
       "_view_module_version": "1.2.0",
       "description_width": "initial"
      }
     },
     "948b6cb13fe64f7a93209541f17cf66b": {
      "model_module": "@jupyter-widgets/controls",
      "model_module_version": "1.5.0",
      "model_name": "HBoxModel",
      "state": {
       "_model_module_version": "1.5.0",
       "_view_module_version": "1.5.0",
       "children": [
        "IPY_MODEL_0b5b68d3101f4333bc68be0110d38122",
        "IPY_MODEL_a0601f3733ad4bbfb553a3d52f453953"
       ],
       "layout": "IPY_MODEL_0446cb3544444761809d364f5db5daff"
      }
     },
     "95185e5f2c9d4d81bf53bff973f35a01": {
      "model_module": "@jupyter-widgets/base",
      "model_module_version": "1.2.0",
      "model_name": "LayoutModel",
      "state": {
       "_model_module_version": "1.2.0",
       "_view_module_version": "1.2.0",
       "flex": "2",
       "justify_items": null,
       "object_fit": null,
       "object_position": null
      }
     },
     "95b4c6e096294862b59a24e1574d5ca6": {
      "model_module": "@jupyter-widgets/base",
      "model_module_version": "1.2.0",
      "model_name": "LayoutModel",
      "state": {
       "_model_module_version": "1.2.0",
       "_view_module_version": "1.2.0",
       "flex": "2",
       "justify_items": null,
       "object_fit": null,
       "object_position": null
      }
     },
     "95cd3a7d0209493eaf4c7697e4313340": {
      "model_module": "@jupyter-widgets/controls",
      "model_module_version": "1.5.0",
      "model_name": "FloatProgressModel",
      "state": {
       "_model_module_version": "1.5.0",
       "_view_module_version": "1.5.0",
       "bar_style": "success",
       "description": "5625/5625",
       "layout": "IPY_MODEL_031a269482fb48d78f6c81f6f97d431c",
       "max": 5625,
       "style": "IPY_MODEL_829f8a22cbf24c94a6a198b3611a0b95",
       "value": 5625
      }
     },
     "95e167c3a64240d8893adaebd423c1fd": {
      "model_module": "@jupyter-widgets/base",
      "model_module_version": "1.2.0",
      "model_name": "LayoutModel",
      "state": {
       "_model_module_version": "1.2.0",
       "_view_module_version": "1.2.0",
       "flex": "2",
       "justify_items": null,
       "object_fit": null,
       "object_position": null
      }
     },
     "95f327c7fe4b4c2b8e1da2fca69ac461": {
      "model_module": "@jupyter-widgets/controls",
      "model_module_version": "1.5.0",
      "model_name": "ProgressStyleModel",
      "state": {
       "_model_module_version": "1.5.0",
       "_view_module_version": "1.2.0",
       "description_width": "initial"
      }
     },
     "95ff56535d8d40ff8d3538492b4730bf": {
      "model_module": "@jupyter-widgets/controls",
      "model_module_version": "1.5.0",
      "model_name": "HTMLModel",
      "state": {
       "_model_module_version": "1.5.0",
       "_view_module_version": "1.5.0",
       "layout": "IPY_MODEL_e7ed699329bf4200b6eb782969f8843e",
       "style": "IPY_MODEL_40555a5af46f4d2e945d9d7eeffe5603",
       "value": " ETA: 00:00s - loss: 0.0007 - val_loss: 0.0005"
      }
     },
     "960ab09d5c884f9498654b19968a0cae": {
      "model_module": "@jupyter-widgets/controls",
      "model_module_version": "1.5.0",
      "model_name": "FloatProgressModel",
      "state": {
       "_model_module_version": "1.5.0",
       "_view_module_version": "1.5.0",
       "bar_style": "success",
       "description": "5625/5625",
       "layout": "IPY_MODEL_bd3c63f241874969b9fe1925c74f60f6",
       "max": 5625,
       "style": "IPY_MODEL_792ae42b0e454a89ab4e5d77176b49d3",
       "value": 5625
      }
     },
     "960ecb8b5908423e98819d4ec3835248": {
      "model_module": "@jupyter-widgets/base",
      "model_module_version": "1.2.0",
      "model_name": "LayoutModel",
      "state": {
       "_model_module_version": "1.2.0",
       "_view_module_version": "1.2.0",
       "justify_items": null,
       "object_fit": null,
       "object_position": null
      }
     },
     "9611a8069a0d4cadb6d5be932f2529f5": {
      "model_module": "@jupyter-widgets/controls",
      "model_module_version": "1.5.0",
      "model_name": "FloatProgressModel",
      "state": {
       "_model_module_version": "1.5.0",
       "_view_module_version": "1.5.0",
       "bar_style": "success",
       "description": "5625/5625",
       "layout": "IPY_MODEL_d0139365a44148489a0b874bc246f57a",
       "max": 5625,
       "style": "IPY_MODEL_2b014dc58f3645c2a4665b61a78fe3a2",
       "value": 5625
      }
     },
     "96145776441b4a588afdc3f5093715af": {
      "model_module": "@jupyter-widgets/controls",
      "model_module_version": "1.5.0",
      "model_name": "FloatProgressModel",
      "state": {
       "_model_module_version": "1.5.0",
       "_view_module_version": "1.5.0",
       "bar_style": "success",
       "description": "5625/5625",
       "layout": "IPY_MODEL_b69ca34a15ff4e7c837b2a427943e8a8",
       "max": 5625,
       "style": "IPY_MODEL_16ea195e70f747a099777e789175db13",
       "value": 5625
      }
     },
     "97a5295216954ebe9f5c7c480e24188a": {
      "model_module": "@jupyter-widgets/controls",
      "model_module_version": "1.5.0",
      "model_name": "ProgressStyleModel",
      "state": {
       "_model_module_version": "1.5.0",
       "_view_module_version": "1.2.0",
       "description_width": "initial"
      }
     },
     "97dace08cacc44c0803e3c5954fbecfa": {
      "model_module": "@jupyter-widgets/controls",
      "model_module_version": "1.5.0",
      "model_name": "DescriptionStyleModel",
      "state": {
       "_model_module_version": "1.5.0",
       "_view_module_version": "1.2.0",
       "description_width": ""
      }
     },
     "97e6244ece394c4898ad9345e7e46e89": {
      "model_module": "@jupyter-widgets/controls",
      "model_module_version": "1.5.0",
      "model_name": "HTMLModel",
      "state": {
       "_model_module_version": "1.5.0",
       "_view_module_version": "1.5.0",
       "layout": "IPY_MODEL_8639519b41ee4f608db32f15f693d516",
       "style": "IPY_MODEL_97dace08cacc44c0803e3c5954fbecfa",
       "value": " ETA: 00:00s - loss: 0.0356 - val_loss: 0.0331"
      }
     },
     "983af9ceb6d54d26b67e548899cf1eab": {
      "model_module": "@jupyter-widgets/controls",
      "model_module_version": "1.5.0",
      "model_name": "HTMLModel",
      "state": {
       "_model_module_version": "1.5.0",
       "_view_module_version": "1.5.0",
       "layout": "IPY_MODEL_5a86be098dfa41269b4138ec5854ef2d",
       "style": "IPY_MODEL_b1b1b2e74bda4ea1adbfc13a841ea6d0",
       "value": " 1/100 ETA: 2:51:14s,  103.78s/epochs"
      }
     },
     "986027b119394248ac8488fa198d6ab0": {
      "model_module": "@jupyter-widgets/controls",
      "model_module_version": "1.5.0",
      "model_name": "HBoxModel",
      "state": {
       "_model_module_version": "1.5.0",
       "_view_module_version": "1.5.0",
       "children": [
        "IPY_MODEL_ba76656c278e4cecae7193ecc9e03ec9",
        "IPY_MODEL_48e9c2698d6a48578c6b219194d3aa8e"
       ],
       "layout": "IPY_MODEL_013ee009534f45c8ab4383b36c63285b"
      }
     },
     "9883b31c152a40739c482acd420c36e0": {
      "model_module": "@jupyter-widgets/base",
      "model_module_version": "1.2.0",
      "model_name": "LayoutModel",
      "state": {
       "_model_module_version": "1.2.0",
       "_view_module_version": "1.2.0",
       "display": "inline-flex",
       "flex_flow": "row wrap",
       "justify_items": null,
       "object_fit": null,
       "object_position": null,
       "width": "100%"
      }
     },
     "99028dd3d8054e37bdaf18b2500a8d20": {
      "model_module": "@jupyter-widgets/base",
      "model_module_version": "1.2.0",
      "model_name": "LayoutModel",
      "state": {
       "_model_module_version": "1.2.0",
       "_view_module_version": "1.2.0",
       "display": "inline-flex",
       "flex_flow": "row wrap",
       "justify_items": null,
       "object_fit": null,
       "object_position": null,
       "width": "100%"
      }
     },
     "9951c332b08c4027a90a4ed4055d3948": {
      "model_module": "@jupyter-widgets/controls",
      "model_module_version": "1.5.0",
      "model_name": "HTMLModel",
      "state": {
       "_model_module_version": "1.5.0",
       "_view_module_version": "1.5.0",
       "layout": "IPY_MODEL_0546dfe9f58f40e8992f73d522df0552",
       "style": "IPY_MODEL_595cda79813545b9b4b42b1732a1089f",
       "value": " ETA: 00:00s - loss: 0.0296 - val_loss: 0.0293"
      }
     },
     "9980326aa60d4e5f97cb11a3ef51967e": {
      "model_module": "@jupyter-widgets/controls",
      "model_module_version": "1.5.0",
      "model_name": "FloatProgressModel",
      "state": {
       "_model_module_version": "1.5.0",
       "_view_module_version": "1.5.0",
       "description": "3020/5625",
       "layout": "IPY_MODEL_1b8a3818788b471ca07fa0b95dc0102f",
       "max": 5625,
       "style": "IPY_MODEL_7b37e84fc510434daa5593c83759aaa5",
       "value": 3020
      }
     },
     "9a256a63b2eb482380e52e87fc1bfa47": {
      "model_module": "@jupyter-widgets/controls",
      "model_module_version": "1.5.0",
      "model_name": "DescriptionStyleModel",
      "state": {
       "_model_module_version": "1.5.0",
       "_view_module_version": "1.2.0",
       "description_width": ""
      }
     },
     "9a522aadc507445b8d5801df22989243": {
      "model_module": "@jupyter-widgets/base",
      "model_module_version": "1.2.0",
      "model_name": "LayoutModel",
      "state": {
       "_model_module_version": "1.2.0",
       "_view_module_version": "1.2.0",
       "display": "inline-flex",
       "flex_flow": "row wrap",
       "justify_items": null,
       "object_fit": null,
       "object_position": null,
       "width": "100%"
      }
     },
     "9a6d4456b33c48b0aa61e7401efae753": {
      "model_module": "@jupyter-widgets/base",
      "model_module_version": "1.2.0",
      "model_name": "LayoutModel",
      "state": {
       "_model_module_version": "1.2.0",
       "_view_module_version": "1.2.0",
       "flex": "2",
       "justify_items": null,
       "object_fit": null,
       "object_position": null
      }
     },
     "9aad2cb021cf4cedadc0dcd79318719a": {
      "model_module": "@jupyter-widgets/base",
      "model_module_version": "1.2.0",
      "model_name": "LayoutModel",
      "state": {
       "_model_module_version": "1.2.0",
       "_view_module_version": "1.2.0",
       "flex": "2",
       "justify_items": null,
       "object_fit": null,
       "object_position": null
      }
     },
     "9adb72a50b2f49c1b6cd66e50bc2f815": {
      "model_module": "@jupyter-widgets/controls",
      "model_module_version": "1.5.0",
      "model_name": "ProgressStyleModel",
      "state": {
       "_model_module_version": "1.5.0",
       "_view_module_version": "1.2.0",
       "description_width": "initial"
      }
     },
     "9adfe9de806e4cb0a0979307c0f64cae": {
      "model_module": "@jupyter-widgets/controls",
      "model_module_version": "1.5.0",
      "model_name": "FloatProgressModel",
      "state": {
       "_model_module_version": "1.5.0",
       "_view_module_version": "1.5.0",
       "bar_style": "success",
       "description": "5625/5625",
       "layout": "IPY_MODEL_830e1453f0544b0aaae700577a08e8e5",
       "max": 5625,
       "style": "IPY_MODEL_2766ebc7d96c4ddc998b9314980f2423",
       "value": 5625
      }
     },
     "9afb86472b034531a95d6bc3f704dfd2": {
      "model_module": "@jupyter-widgets/controls",
      "model_module_version": "1.5.0",
      "model_name": "HBoxModel",
      "state": {
       "_model_module_version": "1.5.0",
       "_view_module_version": "1.5.0",
       "children": [
        "IPY_MODEL_86e7f8be26ef49a3b6151ae763d9b1bf",
        "IPY_MODEL_35dbcde75ecd4a8fb4e5074ce45bb63b"
       ],
       "layout": "IPY_MODEL_06735fb8269b4a2ca57be465006571a6"
      }
     },
     "9b30465b263e4066a7b20394caac7c89": {
      "model_module": "@jupyter-widgets/base",
      "model_module_version": "1.2.0",
      "model_name": "LayoutModel",
      "state": {
       "_model_module_version": "1.2.0",
       "_view_module_version": "1.2.0",
       "justify_items": null,
       "object_fit": null,
       "object_position": null
      }
     },
     "9b4a5e8859b2445d8d6fe0cff205f850": {
      "model_module": "@jupyter-widgets/controls",
      "model_module_version": "1.5.0",
      "model_name": "DescriptionStyleModel",
      "state": {
       "_model_module_version": "1.5.0",
       "_view_module_version": "1.2.0",
       "description_width": ""
      }
     },
     "9bfb046188aa4c9aba0fbd350ed68c63": {
      "model_module": "@jupyter-widgets/controls",
      "model_module_version": "1.5.0",
      "model_name": "HBoxModel",
      "state": {
       "_model_module_version": "1.5.0",
       "_view_module_version": "1.5.0",
       "children": [
        "IPY_MODEL_c1fa726734784222bac93bd6c58c899e",
        "IPY_MODEL_da6a94d0f414428ca3ee140b4007cf9e"
       ],
       "layout": "IPY_MODEL_308765d6112048e88e4d9c0c869bc204"
      }
     },
     "9c01074f4b5542a69b1425502432611a": {
      "model_module": "@jupyter-widgets/controls",
      "model_module_version": "1.5.0",
      "model_name": "FloatProgressModel",
      "state": {
       "_model_module_version": "1.5.0",
       "_view_module_version": "1.5.0",
       "bar_style": "danger",
       "description": "Training:   1%",
       "layout": "IPY_MODEL_00b070df85bb4bbca034af91a5e73c1d",
       "style": "IPY_MODEL_a8a3de3efbc94553aea7864d496c32f2",
       "value": 1
      }
     },
     "9c16543e0f984faa8a021757fc2cfe23": {
      "model_module": "@jupyter-widgets/base",
      "model_module_version": "1.2.0",
      "model_name": "LayoutModel",
      "state": {
       "_model_module_version": "1.2.0",
       "_view_module_version": "1.2.0",
       "flex": "2",
       "justify_items": null,
       "object_fit": null,
       "object_position": null
      }
     },
     "9c61fdb81dd348a99df1b0d18eb94170": {
      "model_module": "@jupyter-widgets/base",
      "model_module_version": "1.2.0",
      "model_name": "LayoutModel",
      "state": {
       "_model_module_version": "1.2.0",
       "_view_module_version": "1.2.0",
       "flex": "2",
       "justify_items": null,
       "object_fit": null,
       "object_position": null
      }
     },
     "9c67afbd297d41be9c57e68300cc9c3c": {
      "model_module": "@jupyter-widgets/controls",
      "model_module_version": "1.5.0",
      "model_name": "HTMLModel",
      "state": {
       "_model_module_version": "1.5.0",
       "_view_module_version": "1.5.0",
       "layout": "IPY_MODEL_7b423d6322564258a3b93622531963a8",
       "style": "IPY_MODEL_853cef9d7308438ab75ef8e0d0a04e69",
       "value": " ETA: 00:00s - loss: 0.0003 - val_loss: 0.0004"
      }
     },
     "9c902a2399e743788f3cb8f223701324": {
      "model_module": "@jupyter-widgets/controls",
      "model_module_version": "1.5.0",
      "model_name": "ProgressStyleModel",
      "state": {
       "_model_module_version": "1.5.0",
       "_view_module_version": "1.2.0",
       "description_width": "initial"
      }
     },
     "9cecffe9445d4b84b20fea8916036ef8": {
      "model_module": "@jupyter-widgets/controls",
      "model_module_version": "1.5.0",
      "model_name": "HTMLModel",
      "state": {
       "_model_module_version": "1.5.0",
       "_view_module_version": "1.5.0",
       "layout": "IPY_MODEL_6dff44e64fe441139a8ca343de1bc6f9",
       "style": "IPY_MODEL_aec34dfe24ce47b1ab9a55d5402a447f",
       "value": " 2/100 ETA: 99:43:47s,  3663.55s/epochs"
      }
     },
     "9d87c22bdef542b9b7c9e8e7c0e02f5d": {
      "model_module": "@jupyter-widgets/controls",
      "model_module_version": "1.5.0",
      "model_name": "DescriptionStyleModel",
      "state": {
       "_model_module_version": "1.5.0",
       "_view_module_version": "1.2.0",
       "description_width": ""
      }
     },
     "9d939f27596447068b0bef0499c238f2": {
      "model_module": "@jupyter-widgets/controls",
      "model_module_version": "1.5.0",
      "model_name": "FloatProgressModel",
      "state": {
       "_model_module_version": "1.5.0",
       "_view_module_version": "1.5.0",
       "bar_style": "success",
       "description": "5625/5625",
       "layout": "IPY_MODEL_12d98c70f6bf43658be1b94076e1d194",
       "max": 5625,
       "style": "IPY_MODEL_4837d7e734d44cac9218410fff2e52de",
       "value": 5625
      }
     },
     "9dd61a6803bf4135957bb7a55110aba8": {
      "model_module": "@jupyter-widgets/controls",
      "model_module_version": "1.5.0",
      "model_name": "ProgressStyleModel",
      "state": {
       "_model_module_version": "1.5.0",
       "_view_module_version": "1.2.0",
       "description_width": "initial"
      }
     },
     "9df03eedc1344ef280c3545d0b41a456": {
      "model_module": "@jupyter-widgets/controls",
      "model_module_version": "1.5.0",
      "model_name": "HTMLModel",
      "state": {
       "_model_module_version": "1.5.0",
       "_view_module_version": "1.5.0",
       "layout": "IPY_MODEL_bd7de3ac14d54ce0bb7b8f85d059bc33",
       "style": "IPY_MODEL_a4095ae0568c4b65aa7ccea23a2e0a5f",
       "value": " ETA: 00:00s - loss: 0.0298 - val_loss: 0.0283"
      }
     },
     "9e1838cf81d345398811b53a5af56020": {
      "model_module": "@jupyter-widgets/base",
      "model_module_version": "1.2.0",
      "model_name": "LayoutModel",
      "state": {
       "_model_module_version": "1.2.0",
       "_view_module_version": "1.2.0",
       "flex": "2",
       "justify_items": null,
       "object_fit": null,
       "object_position": null
      }
     },
     "9e5e08f398c046fa8cf029ce539a59be": {
      "model_module": "@jupyter-widgets/base",
      "model_module_version": "1.2.0",
      "model_name": "LayoutModel",
      "state": {
       "_model_module_version": "1.2.0",
       "_view_module_version": "1.2.0",
       "display": "inline-flex",
       "flex_flow": "row wrap",
       "justify_items": null,
       "object_fit": null,
       "object_position": null,
       "width": "100%"
      }
     },
     "9ec5440d8eb74eda9930419317f813d5": {
      "model_module": "@jupyter-widgets/controls",
      "model_module_version": "1.5.0",
      "model_name": "DescriptionStyleModel",
      "state": {
       "_model_module_version": "1.5.0",
       "_view_module_version": "1.2.0",
       "description_width": ""
      }
     },
     "9ff65ec13f304c039b1803b30897c482": {
      "model_module": "@jupyter-widgets/base",
      "model_module_version": "1.2.0",
      "model_name": "LayoutModel",
      "state": {
       "_model_module_version": "1.2.0",
       "_view_module_version": "1.2.0",
       "display": "inline-flex",
       "flex_flow": "row wrap",
       "justify_items": null,
       "object_fit": null,
       "object_position": null,
       "width": "100%"
      }
     },
     "a0601f3733ad4bbfb553a3d52f453953": {
      "model_module": "@jupyter-widgets/controls",
      "model_module_version": "1.5.0",
      "model_name": "HTMLModel",
      "state": {
       "_model_module_version": "1.5.0",
       "_view_module_version": "1.5.0",
       "layout": "IPY_MODEL_80b03221067647df81e95421b47fffe3",
       "style": "IPY_MODEL_764b1e53e6b649358ff43d9534586f55",
       "value": " ETA: 00:00s - loss: 0.0309 - val_loss: 0.0303"
      }
     },
     "a0e9b870ca874b5ea0d2e50413dcab11": {
      "model_module": "@jupyter-widgets/controls",
      "model_module_version": "1.5.0",
      "model_name": "FloatProgressModel",
      "state": {
       "_model_module_version": "1.5.0",
       "_view_module_version": "1.5.0",
       "bar_style": "danger",
       "description": "Training:  27%",
       "layout": "IPY_MODEL_31c5762eb0744121bb9eed79f37dcd81",
       "style": "IPY_MODEL_02d266bb021149e19fa4a995ec16eb27",
       "value": 27
      }
     },
     "a0eafd7a94b6416498bc3031e7cb7e5f": {
      "model_module": "@jupyter-widgets/controls",
      "model_module_version": "1.5.0",
      "model_name": "HBoxModel",
      "state": {
       "_model_module_version": "1.5.0",
       "_view_module_version": "1.5.0",
       "children": [
        "IPY_MODEL_db74397ba3a94063aa7edd228ab1c5aa",
        "IPY_MODEL_65a830d1c075481d9da50a53bc55be00"
       ],
       "layout": "IPY_MODEL_8f24bfb7461d4eaea1b0b4977b9905ee"
      }
     },
     "a1189ff3cdc9480892f04d47fd562894": {
      "model_module": "@jupyter-widgets/base",
      "model_module_version": "1.2.0",
      "model_name": "LayoutModel",
      "state": {
       "_model_module_version": "1.2.0",
       "_view_module_version": "1.2.0",
       "flex": "2",
       "justify_items": null,
       "object_fit": null,
       "object_position": null
      }
     },
     "a12d3beb895d4c0794eab1411ac9a539": {
      "model_module": "@jupyter-widgets/controls",
      "model_module_version": "1.5.0",
      "model_name": "HBoxModel",
      "state": {
       "_model_module_version": "1.5.0",
       "_view_module_version": "1.5.0",
       "children": [
        "IPY_MODEL_5cb8a6a15ec94faea69d6b31727e791a",
        "IPY_MODEL_316514ab077f40468383dfc94fbc76fd"
       ],
       "layout": "IPY_MODEL_80d60416716e4c2fa0a155fe20b40b97"
      }
     },
     "a156ca97b93c4ee08a747935d8f5ecca": {
      "model_module": "@jupyter-widgets/controls",
      "model_module_version": "1.5.0",
      "model_name": "FloatProgressModel",
      "state": {
       "_model_module_version": "1.5.0",
       "_view_module_version": "1.5.0",
       "bar_style": "success",
       "description": "5625/5625",
       "layout": "IPY_MODEL_db23380246754d3c82e35e6fdeda5f02",
       "max": 5625,
       "style": "IPY_MODEL_bbf71f2b863a487db3b08cc8c01f2993",
       "value": 5625
      }
     },
     "a1c065de12b4499591ed41760f36a479": {
      "model_module": "@jupyter-widgets/base",
      "model_module_version": "1.2.0",
      "model_name": "LayoutModel",
      "state": {
       "_model_module_version": "1.2.0",
       "_view_module_version": "1.2.0",
       "justify_items": null,
       "object_fit": null,
       "object_position": null
      }
     },
     "a2043bd56e6e4eecbde8c65c169ecf32": {
      "model_module": "@jupyter-widgets/controls",
      "model_module_version": "1.5.0",
      "model_name": "HBoxModel",
      "state": {
       "_model_module_version": "1.5.0",
       "_view_module_version": "1.5.0",
       "children": [
        "IPY_MODEL_747398216652454b89283b8f0bb59c95",
        "IPY_MODEL_42eab23fdd86464b89e527528d9532bd"
       ],
       "layout": "IPY_MODEL_88b6eea290e04a86a5bba1790b9ed676"
      }
     },
     "a2194866fa1c4329ab4ea068d2d23a54": {
      "model_module": "@jupyter-widgets/base",
      "model_module_version": "1.2.0",
      "model_name": "LayoutModel",
      "state": {
       "_model_module_version": "1.2.0",
       "_view_module_version": "1.2.0",
       "display": "inline-flex",
       "flex_flow": "row wrap",
       "justify_items": null,
       "object_fit": null,
       "object_position": null,
       "width": "100%"
      }
     },
     "a2a79412b9bd4f75afcaec547f0d60db": {
      "model_module": "@jupyter-widgets/controls",
      "model_module_version": "1.5.0",
      "model_name": "HTMLModel",
      "state": {
       "_model_module_version": "1.5.0",
       "_view_module_version": "1.5.0",
       "layout": "IPY_MODEL_66fd9527e74e410aba0016636bcefa8e",
       "style": "IPY_MODEL_b7b46bfc63274255aea3adc9a07a0a45",
       "value": " ETA: 00:00s - "
      }
     },
     "a330b650d0674a32a338ca145fb36d8c": {
      "model_module": "@jupyter-widgets/base",
      "model_module_version": "1.2.0",
      "model_name": "LayoutModel",
      "state": {
       "_model_module_version": "1.2.0",
       "_view_module_version": "1.2.0",
       "display": "inline-flex",
       "flex_flow": "row wrap",
       "justify_items": null,
       "object_fit": null,
       "object_position": null,
       "width": "100%"
      }
     },
     "a38651d34f5443c29349a048465c2511": {
      "model_module": "@jupyter-widgets/controls",
      "model_module_version": "1.5.0",
      "model_name": "DescriptionStyleModel",
      "state": {
       "_model_module_version": "1.5.0",
       "_view_module_version": "1.2.0",
       "description_width": ""
      }
     },
     "a3e491087e5f456a8f9a3596df58751a": {
      "model_module": "@jupyter-widgets/base",
      "model_module_version": "1.2.0",
      "model_name": "LayoutModel",
      "state": {
       "_model_module_version": "1.2.0",
       "_view_module_version": "1.2.0",
       "justify_items": null,
       "object_fit": null,
       "object_position": null
      }
     },
     "a4095ae0568c4b65aa7ccea23a2e0a5f": {
      "model_module": "@jupyter-widgets/controls",
      "model_module_version": "1.5.0",
      "model_name": "DescriptionStyleModel",
      "state": {
       "_model_module_version": "1.5.0",
       "_view_module_version": "1.2.0",
       "description_width": ""
      }
     },
     "a4422b2e061d4aa28a090f5958d41929": {
      "model_module": "@jupyter-widgets/controls",
      "model_module_version": "1.5.0",
      "model_name": "HBoxModel",
      "state": {
       "_model_module_version": "1.5.0",
       "_view_module_version": "1.5.0",
       "children": [
        "IPY_MODEL_387f7c10950c4bc5bb3d26ace9ef841b",
        "IPY_MODEL_c2e0616132614c2fbcb20a51c3c13be9"
       ],
       "layout": "IPY_MODEL_fab26eab311a460eaf843da84cc1b4ae"
      }
     },
     "a443d712602340a8b413ab4af8a5ae2c": {
      "model_module": "@jupyter-widgets/base",
      "model_module_version": "1.2.0",
      "model_name": "LayoutModel",
      "state": {
       "_model_module_version": "1.2.0",
       "_view_module_version": "1.2.0",
       "flex": "2",
       "justify_items": null,
       "object_fit": null,
       "object_position": null
      }
     },
     "a4560d6fc14b45c486b23ce0b227f13f": {
      "model_module": "@jupyter-widgets/controls",
      "model_module_version": "1.5.0",
      "model_name": "ProgressStyleModel",
      "state": {
       "_model_module_version": "1.5.0",
       "_view_module_version": "1.2.0",
       "description_width": "initial"
      }
     },
     "a4975af89f3d4101aedf86406f0d71dd": {
      "model_module": "@jupyter-widgets/base",
      "model_module_version": "1.2.0",
      "model_name": "LayoutModel",
      "state": {
       "_model_module_version": "1.2.0",
       "_view_module_version": "1.2.0",
       "display": "inline-flex",
       "flex_flow": "row wrap",
       "justify_items": null,
       "object_fit": null,
       "object_position": null,
       "width": "100%"
      }
     },
     "a63fc00464d24823926eb28fd0e627a0": {
      "model_module": "@jupyter-widgets/base",
      "model_module_version": "1.2.0",
      "model_name": "LayoutModel",
      "state": {
       "_model_module_version": "1.2.0",
       "_view_module_version": "1.2.0",
       "display": "inline-flex",
       "flex_flow": "row wrap",
       "justify_items": null,
       "object_fit": null,
       "object_position": null,
       "width": "100%"
      }
     },
     "a664f28cd6574428824c5fffbf5fb629": {
      "model_module": "@jupyter-widgets/base",
      "model_module_version": "1.2.0",
      "model_name": "LayoutModel",
      "state": {
       "_model_module_version": "1.2.0",
       "_view_module_version": "1.2.0",
       "justify_items": null,
       "object_fit": null,
       "object_position": null
      }
     },
     "a66788d740594e25a83bf6620b20451e": {
      "model_module": "@jupyter-widgets/base",
      "model_module_version": "1.2.0",
      "model_name": "LayoutModel",
      "state": {
       "_model_module_version": "1.2.0",
       "_view_module_version": "1.2.0",
       "display": "inline-flex",
       "flex_flow": "row wrap",
       "justify_items": null,
       "object_fit": null,
       "object_position": null,
       "width": "100%"
      }
     },
     "a6976acd7afb4741ac1724dd5ce8126f": {
      "model_module": "@jupyter-widgets/controls",
      "model_module_version": "1.5.0",
      "model_name": "DescriptionStyleModel",
      "state": {
       "_model_module_version": "1.5.0",
       "_view_module_version": "1.2.0",
       "description_width": ""
      }
     },
     "a6dbb13be48f497e8a6df4b38edc014b": {
      "model_module": "@jupyter-widgets/base",
      "model_module_version": "1.2.0",
      "model_name": "LayoutModel",
      "state": {
       "_model_module_version": "1.2.0",
       "_view_module_version": "1.2.0",
       "justify_items": null,
       "object_fit": null,
       "object_position": null
      }
     },
     "a72cf98588fd40b291ee3356436b2771": {
      "model_module": "@jupyter-widgets/base",
      "model_module_version": "1.2.0",
      "model_name": "LayoutModel",
      "state": {
       "_model_module_version": "1.2.0",
       "_view_module_version": "1.2.0",
       "display": "inline-flex",
       "flex_flow": "row wrap",
       "justify_items": null,
       "object_fit": null,
       "object_position": null,
       "width": "100%"
      }
     },
     "a7ebb169bc124cfba5e16937cc93e337": {
      "model_module": "@jupyter-widgets/controls",
      "model_module_version": "1.5.0",
      "model_name": "FloatProgressModel",
      "state": {
       "_model_module_version": "1.5.0",
       "_view_module_version": "1.5.0",
       "bar_style": "success",
       "description": "5625/5625",
       "layout": "IPY_MODEL_432ecbabfbc5473284f9b64488bbc20b",
       "max": 5625,
       "style": "IPY_MODEL_3bd0d43ebced4585ae642ff9695c5089",
       "value": 5625
      }
     },
     "a82c9607b5f740e880dd500e8a9e7fa2": {
      "model_module": "@jupyter-widgets/base",
      "model_module_version": "1.2.0",
      "model_name": "LayoutModel",
      "state": {
       "_model_module_version": "1.2.0",
       "_view_module_version": "1.2.0",
       "justify_items": null,
       "object_fit": null,
       "object_position": null
      }
     },
     "a83d022c941945bc8e416ea4085b0762": {
      "model_module": "@jupyter-widgets/controls",
      "model_module_version": "1.5.0",
      "model_name": "HBoxModel",
      "state": {
       "_model_module_version": "1.5.0",
       "_view_module_version": "1.5.0",
       "children": [
        "IPY_MODEL_e5184b7a6d114a248955c6704c47f8fb",
        "IPY_MODEL_af23560edef44b0eb3e0c9e6743b21ba"
       ],
       "layout": "IPY_MODEL_36568f8723364ecaab878680ca409d04"
      }
     },
     "a88342a7a75f4993af93ed130209a9c0": {
      "model_module": "@jupyter-widgets/base",
      "model_module_version": "1.2.0",
      "model_name": "LayoutModel",
      "state": {
       "_model_module_version": "1.2.0",
       "_view_module_version": "1.2.0",
       "justify_items": null,
       "object_fit": null,
       "object_position": null
      }
     },
     "a88c172c679c4390a160ff25360fc504": {
      "model_module": "@jupyter-widgets/controls",
      "model_module_version": "1.5.0",
      "model_name": "HBoxModel",
      "state": {
       "_model_module_version": "1.5.0",
       "_view_module_version": "1.5.0",
       "children": [
        "IPY_MODEL_8b44018feb00499ea1cca61cffda1f85",
        "IPY_MODEL_6054f7e3e70e43b1a1c293778478baa2"
       ],
       "layout": "IPY_MODEL_11c6435dcdda4ffe8b3641a5d60bdaec"
      }
     },
     "a89dbd51bf0b48ceacefcb3a19bdb8c6": {
      "model_module": "@jupyter-widgets/base",
      "model_module_version": "1.2.0",
      "model_name": "LayoutModel",
      "state": {
       "_model_module_version": "1.2.0",
       "_view_module_version": "1.2.0",
       "flex": "2",
       "justify_items": null,
       "object_fit": null,
       "object_position": null
      }
     },
     "a8a3de3efbc94553aea7864d496c32f2": {
      "model_module": "@jupyter-widgets/controls",
      "model_module_version": "1.5.0",
      "model_name": "ProgressStyleModel",
      "state": {
       "_model_module_version": "1.5.0",
       "_view_module_version": "1.2.0",
       "description_width": "initial"
      }
     },
     "a8ed59e241fd4595b179ac5104e9468c": {
      "model_module": "@jupyter-widgets/controls",
      "model_module_version": "1.5.0",
      "model_name": "ProgressStyleModel",
      "state": {
       "_model_module_version": "1.5.0",
       "_view_module_version": "1.2.0",
       "description_width": "initial"
      }
     },
     "a971583c33214a1ebbc8111eeb5c0702": {
      "model_module": "@jupyter-widgets/controls",
      "model_module_version": "1.5.0",
      "model_name": "FloatProgressModel",
      "state": {
       "_model_module_version": "1.5.0",
       "_view_module_version": "1.5.0",
       "bar_style": "success",
       "description": "5625/5625",
       "layout": "IPY_MODEL_79fbabda513b454c872ef816fb5ba2d3",
       "max": 5625,
       "style": "IPY_MODEL_5cd50928327d454db391556bd6421982",
       "value": 5625
      }
     },
     "ab02f66638a84121837bdc9746c2288a": {
      "model_module": "@jupyter-widgets/controls",
      "model_module_version": "1.5.0",
      "model_name": "ProgressStyleModel",
      "state": {
       "_model_module_version": "1.5.0",
       "_view_module_version": "1.2.0",
       "description_width": "initial"
      }
     },
     "ab04eb27e2ce4f79896d36b8e81a5482": {
      "model_module": "@jupyter-widgets/controls",
      "model_module_version": "1.5.0",
      "model_name": "ProgressStyleModel",
      "state": {
       "_model_module_version": "1.5.0",
       "_view_module_version": "1.2.0",
       "description_width": "initial"
      }
     },
     "ab2158a322544b308ab1c4b98d808f6b": {
      "model_module": "@jupyter-widgets/controls",
      "model_module_version": "1.5.0",
      "model_name": "FloatProgressModel",
      "state": {
       "_model_module_version": "1.5.0",
       "_view_module_version": "1.5.0",
       "bar_style": "success",
       "description": "5000/5000",
       "layout": "IPY_MODEL_4d82106c6f544f72a3e167feba98fae0",
       "max": 5000,
       "style": "IPY_MODEL_bdbc6896bb984f74b5cc7ead9ca078a4",
       "value": 5000
      }
     },
     "ab4ef7b6eafc4c83bb7d6daed0d0d00f": {
      "model_module": "@jupyter-widgets/controls",
      "model_module_version": "1.5.0",
      "model_name": "DescriptionStyleModel",
      "state": {
       "_model_module_version": "1.5.0",
       "_view_module_version": "1.2.0",
       "description_width": ""
      }
     },
     "abc902d789f84a1a8e6400d39c539b2c": {
      "model_module": "@jupyter-widgets/base",
      "model_module_version": "1.2.0",
      "model_name": "LayoutModel",
      "state": {
       "_model_module_version": "1.2.0",
       "_view_module_version": "1.2.0",
       "flex": "2",
       "justify_items": null,
       "object_fit": null,
       "object_position": null
      }
     },
     "ac4b6b6fd037456297c6709925880182": {
      "model_module": "@jupyter-widgets/base",
      "model_module_version": "1.2.0",
      "model_name": "LayoutModel",
      "state": {
       "_model_module_version": "1.2.0",
       "_view_module_version": "1.2.0",
       "display": "inline-flex",
       "flex_flow": "row wrap",
       "justify_items": null,
       "object_fit": null,
       "object_position": null,
       "width": "100%"
      }
     },
     "ac4cc4fe14de467f87cc26b5d37691d5": {
      "model_module": "@jupyter-widgets/controls",
      "model_module_version": "1.5.0",
      "model_name": "ProgressStyleModel",
      "state": {
       "_model_module_version": "1.5.0",
       "_view_module_version": "1.2.0",
       "description_width": "initial"
      }
     },
     "acf7a1d1dee44df48d4975c08dbc7022": {
      "model_module": "@jupyter-widgets/controls",
      "model_module_version": "1.5.0",
      "model_name": "HTMLModel",
      "state": {
       "_model_module_version": "1.5.0",
       "_view_module_version": "1.5.0",
       "layout": "IPY_MODEL_22e82cd092a4429f8b63f0b28fc1a9ee",
       "style": "IPY_MODEL_4b8f811d7f57459e87f7255681c4c091",
       "value": " ETA: 00:00s - loss: 0.1056"
      }
     },
     "ad1f4d9481f846abaf615897b6abb053": {
      "model_module": "@jupyter-widgets/controls",
      "model_module_version": "1.5.0",
      "model_name": "HTMLModel",
      "state": {
       "_model_module_version": "1.5.0",
       "_view_module_version": "1.5.0",
       "layout": "IPY_MODEL_c2bf601f06c7477e9d5a46fc6195a9a4",
       "style": "IPY_MODEL_4f2b657da98e4f83b800e30e352ce148",
       "value": " ETA: 00:00s - loss: 0.0286 - val_loss: 0.0284"
      }
     },
     "adc18c62ffdd49b486213fad741f477b": {
      "model_module": "@jupyter-widgets/controls",
      "model_module_version": "1.5.0",
      "model_name": "DescriptionStyleModel",
      "state": {
       "_model_module_version": "1.5.0",
       "_view_module_version": "1.2.0",
       "description_width": ""
      }
     },
     "aec34dfe24ce47b1ab9a55d5402a447f": {
      "model_module": "@jupyter-widgets/controls",
      "model_module_version": "1.5.0",
      "model_name": "DescriptionStyleModel",
      "state": {
       "_model_module_version": "1.5.0",
       "_view_module_version": "1.2.0",
       "description_width": ""
      }
     },
     "aeec299d762346fc9d3d242727ba6704": {
      "model_module": "@jupyter-widgets/controls",
      "model_module_version": "1.5.0",
      "model_name": "HTMLModel",
      "state": {
       "_model_module_version": "1.5.0",
       "_view_module_version": "1.5.0",
       "layout": "IPY_MODEL_c0203871f4d54064832fb09b3678334b",
       "style": "IPY_MODEL_06d17b71f695470dbe11c8aa124d9a70",
       "value": " ETA: 00:00s - loss: 0.0294 - val_loss: 0.0288"
      }
     },
     "af0d804d00804fd18f76fe0775938522": {
      "model_module": "@jupyter-widgets/controls",
      "model_module_version": "1.5.0",
      "model_name": "DescriptionStyleModel",
      "state": {
       "_model_module_version": "1.5.0",
       "_view_module_version": "1.2.0",
       "description_width": ""
      }
     },
     "af23560edef44b0eb3e0c9e6743b21ba": {
      "model_module": "@jupyter-widgets/controls",
      "model_module_version": "1.5.0",
      "model_name": "HTMLModel",
      "state": {
       "_model_module_version": "1.5.0",
       "_view_module_version": "1.5.0",
       "layout": "IPY_MODEL_e054f60a5efd48ab9bb606fa8d12ceb6",
       "style": "IPY_MODEL_3afa05827f4d4419b52415f4d7996f4c",
       "value": " ETA: 00:00s - loss: 0.0082 - val_loss: 0.0009"
      }
     },
     "afc11578b8504aa388de809cd9359622": {
      "model_module": "@jupyter-widgets/controls",
      "model_module_version": "1.5.0",
      "model_name": "HTMLModel",
      "state": {
       "_model_module_version": "1.5.0",
       "_view_module_version": "1.5.0",
       "layout": "IPY_MODEL_43c15e078c0349538b91586e79161391",
       "style": "IPY_MODEL_920c513f43ab43c486c614c4383e2c14",
       "value": " ETA: 00:00s - loss: 0.0001 - val_loss: 0.0001"
      }
     },
     "b106336d548e42a6a0eab3ffe12a3f53": {
      "model_module": "@jupyter-widgets/base",
      "model_module_version": "1.2.0",
      "model_name": "LayoutModel",
      "state": {
       "_model_module_version": "1.2.0",
       "_view_module_version": "1.2.0",
       "flex": "2",
       "justify_items": null,
       "object_fit": null,
       "object_position": null
      }
     },
     "b128826fc1c247e9ab73b0c3c0b37e6e": {
      "model_module": "@jupyter-widgets/controls",
      "model_module_version": "1.5.0",
      "model_name": "HTMLModel",
      "state": {
       "_model_module_version": "1.5.0",
       "_view_module_version": "1.5.0",
       "layout": "IPY_MODEL_ba7aa58b54eb4f9cb2a3c5d5965f7cb4",
       "style": "IPY_MODEL_18bca73fc2da49c9af7c09d301dd71df",
       "value": " ETA: 00:00s - loss: 0.0003 - mse: 0.0003 - val_loss: 0.0002 - val_mse: 0.0002"
      }
     },
     "b15b1476ea3f4903b60f8e005c7ea9bd": {
      "model_module": "@jupyter-widgets/controls",
      "model_module_version": "1.5.0",
      "model_name": "HBoxModel",
      "state": {
       "_model_module_version": "1.5.0",
       "_view_module_version": "1.5.0",
       "children": [
        "IPY_MODEL_729685473cb647ee99696b9f2c80d221",
        "IPY_MODEL_596cad349b63468aa9593e125b18206e"
       ],
       "layout": "IPY_MODEL_6cee19bb6bb7488294962cd6613a8495"
      }
     },
     "b1adb1e0e3b64b4baae8cf4a606d2fae": {
      "model_module": "@jupyter-widgets/controls",
      "model_module_version": "1.5.0",
      "model_name": "DescriptionStyleModel",
      "state": {
       "_model_module_version": "1.5.0",
       "_view_module_version": "1.2.0",
       "description_width": ""
      }
     },
     "b1b1b2e74bda4ea1adbfc13a841ea6d0": {
      "model_module": "@jupyter-widgets/controls",
      "model_module_version": "1.5.0",
      "model_name": "DescriptionStyleModel",
      "state": {
       "_model_module_version": "1.5.0",
       "_view_module_version": "1.2.0",
       "description_width": ""
      }
     },
     "b242b1358eb941c481f651451723b6da": {
      "model_module": "@jupyter-widgets/controls",
      "model_module_version": "1.5.0",
      "model_name": "ProgressStyleModel",
      "state": {
       "_model_module_version": "1.5.0",
       "_view_module_version": "1.2.0",
       "description_width": "initial"
      }
     },
     "b311b6e67e4d42b7b1709754a969b478": {
      "model_module": "@jupyter-widgets/base",
      "model_module_version": "1.2.0",
      "model_name": "LayoutModel",
      "state": {
       "_model_module_version": "1.2.0",
       "_view_module_version": "1.2.0",
       "flex": "2",
       "justify_items": null,
       "object_fit": null,
       "object_position": null
      }
     },
     "b32e951f6c0e4090b54ca479d7548374": {
      "model_module": "@jupyter-widgets/controls",
      "model_module_version": "1.5.0",
      "model_name": "FloatProgressModel",
      "state": {
       "_model_module_version": "1.5.0",
       "_view_module_version": "1.5.0",
       "bar_style": "danger",
       "description": "Training:   1%",
       "layout": "IPY_MODEL_b70d05b55d9b49a290361b2ad119c912",
       "style": "IPY_MODEL_2531a1ea46684c97b86e689015206aa5",
       "value": 1
      }
     },
     "b33dcc88eef744289914fb869e48c001": {
      "model_module": "@jupyter-widgets/base",
      "model_module_version": "1.2.0",
      "model_name": "LayoutModel",
      "state": {
       "_model_module_version": "1.2.0",
       "_view_module_version": "1.2.0",
       "justify_items": null,
       "object_fit": null,
       "object_position": null
      }
     },
     "b3b1936c17354a8eb7d4b2f4138c6f6e": {
      "model_module": "@jupyter-widgets/controls",
      "model_module_version": "1.5.0",
      "model_name": "DescriptionStyleModel",
      "state": {
       "_model_module_version": "1.5.0",
       "_view_module_version": "1.2.0",
       "description_width": ""
      }
     },
     "b406e0fe24d14ad5a780e0e89c66ed7c": {
      "model_module": "@jupyter-widgets/controls",
      "model_module_version": "1.5.0",
      "model_name": "DescriptionStyleModel",
      "state": {
       "_model_module_version": "1.5.0",
       "_view_module_version": "1.2.0",
       "description_width": ""
      }
     },
     "b4ff1781f7a84ed2980f20da76fdde84": {
      "model_module": "@jupyter-widgets/controls",
      "model_module_version": "1.5.0",
      "model_name": "HBoxModel",
      "state": {
       "_model_module_version": "1.5.0",
       "_view_module_version": "1.5.0",
       "children": [
        "IPY_MODEL_325f6b1030e9469e839cee5f11f71bbd",
        "IPY_MODEL_031e64bf2cb3402e836206b03391f2da"
       ],
       "layout": "IPY_MODEL_5aa8619ae85942bea5589c6d3afc4bb4"
      }
     },
     "b536a647256445369860885e570773dc": {
      "model_module": "@jupyter-widgets/controls",
      "model_module_version": "1.5.0",
      "model_name": "DescriptionStyleModel",
      "state": {
       "_model_module_version": "1.5.0",
       "_view_module_version": "1.2.0",
       "description_width": ""
      }
     },
     "b54281dec6bb46d88bbb229bd1e38a96": {
      "model_module": "@jupyter-widgets/controls",
      "model_module_version": "1.5.0",
      "model_name": "HTMLModel",
      "state": {
       "_model_module_version": "1.5.0",
       "_view_module_version": "1.5.0",
       "layout": "IPY_MODEL_29fb6c6f995643418ce38ed72469d677",
       "style": "IPY_MODEL_7c086eb5ba394788bdde38991f99db77",
       "value": " ETA: 00:00s - loss: 0.0289 - val_loss: 0.0284"
      }
     },
     "b5921697bec94d7f973964c494bbd69c": {
      "model_module": "@jupyter-widgets/controls",
      "model_module_version": "1.5.0",
      "model_name": "HBoxModel",
      "state": {
       "_model_module_version": "1.5.0",
       "_view_module_version": "1.5.0",
       "children": [
        "IPY_MODEL_ef069b34a492446bb76e92a5f4c3fa10",
        "IPY_MODEL_57fae83576204b91a12e65954b662380"
       ],
       "layout": "IPY_MODEL_a2194866fa1c4329ab4ea068d2d23a54"
      }
     },
     "b69ca34a15ff4e7c837b2a427943e8a8": {
      "model_module": "@jupyter-widgets/base",
      "model_module_version": "1.2.0",
      "model_name": "LayoutModel",
      "state": {
       "_model_module_version": "1.2.0",
       "_view_module_version": "1.2.0",
       "flex": "2",
       "justify_items": null,
       "object_fit": null,
       "object_position": null
      }
     },
     "b6ff544618ec4b8490dc67d48ee2508c": {
      "model_module": "@jupyter-widgets/controls",
      "model_module_version": "1.5.0",
      "model_name": "HTMLModel",
      "state": {
       "_model_module_version": "1.5.0",
       "_view_module_version": "1.5.0",
       "layout": "IPY_MODEL_2c72a5f332ac4153bd1b7e2ddf8824a4",
       "style": "IPY_MODEL_adc18c62ffdd49b486213fad741f477b",
       "value": " ETA: 00:00s - loss: 0.0001 - val_loss: 0.0001"
      }
     },
     "b70d05b55d9b49a290361b2ad119c912": {
      "model_module": "@jupyter-widgets/base",
      "model_module_version": "1.2.0",
      "model_name": "LayoutModel",
      "state": {
       "_model_module_version": "1.2.0",
       "_view_module_version": "1.2.0",
       "flex": "2",
       "justify_items": null,
       "object_fit": null,
       "object_position": null
      }
     },
     "b7b46bfc63274255aea3adc9a07a0a45": {
      "model_module": "@jupyter-widgets/controls",
      "model_module_version": "1.5.0",
      "model_name": "DescriptionStyleModel",
      "state": {
       "_model_module_version": "1.5.0",
       "_view_module_version": "1.2.0",
       "description_width": ""
      }
     },
     "b8f297696e904495a75e34df8cba140e": {
      "model_module": "@jupyter-widgets/controls",
      "model_module_version": "1.5.0",
      "model_name": "HTMLModel",
      "state": {
       "_model_module_version": "1.5.0",
       "_view_module_version": "1.5.0",
       "layout": "IPY_MODEL_a664f28cd6574428824c5fffbf5fb629",
       "style": "IPY_MODEL_5e97e805379446fc9d3a679c5363800f",
       "value": " 1/100 ETA: 15:36s,   9.46s/epochs"
      }
     },
     "b987d9ee375141ddb16d29c414dc1438": {
      "model_module": "@jupyter-widgets/controls",
      "model_module_version": "1.5.0",
      "model_name": "ProgressStyleModel",
      "state": {
       "_model_module_version": "1.5.0",
       "_view_module_version": "1.2.0",
       "description_width": "initial"
      }
     },
     "b98a01f8e1f54832b6be390ef7282fce": {
      "model_module": "@jupyter-widgets/controls",
      "model_module_version": "1.5.0",
      "model_name": "FloatProgressModel",
      "state": {
       "_model_module_version": "1.5.0",
       "_view_module_version": "1.5.0",
       "bar_style": "success",
       "description": "5625/5625",
       "layout": "IPY_MODEL_1ba3c62abe0c4b9d8ed42e561eb72d84",
       "max": 5625,
       "style": "IPY_MODEL_70c8f7fed9e64c71ab6f536bd34b5e4f",
       "value": 5625
      }
     },
     "b9aff6be8e5a49818d1067e04b7a8271": {
      "model_module": "@jupyter-widgets/controls",
      "model_module_version": "1.5.0",
      "model_name": "HTMLModel",
      "state": {
       "_model_module_version": "1.5.0",
       "_view_module_version": "1.5.0",
       "layout": "IPY_MODEL_809075ee3b26402b96c26d98fb7920d4",
       "style": "IPY_MODEL_a38651d34f5443c29349a048465c2511",
       "value": " ETA: 00:00s - loss: 0.0001 - val_loss: 0.0002"
      }
     },
     "b9c1feb43f4740d792ff9171a8b54e03": {
      "model_module": "@jupyter-widgets/controls",
      "model_module_version": "1.5.0",
      "model_name": "HBoxModel",
      "state": {
       "_model_module_version": "1.5.0",
       "_view_module_version": "1.5.0",
       "children": [
        "IPY_MODEL_3b2d8ff6cc33493ab8f1915575265935",
        "IPY_MODEL_c5fcb8aca950495088f65c0f93320e4f"
       ],
       "layout": "IPY_MODEL_765513a6fdc541f8840c19bea12a5daf"
      }
     },
     "ba76656c278e4cecae7193ecc9e03ec9": {
      "model_module": "@jupyter-widgets/controls",
      "model_module_version": "1.5.0",
      "model_name": "FloatProgressModel",
      "state": {
       "_model_module_version": "1.5.0",
       "_view_module_version": "1.5.0",
       "bar_style": "success",
       "description": "5625/5625",
       "layout": "IPY_MODEL_724637ba66d9486d9e9c2b725193dc4a",
       "max": 5625,
       "style": "IPY_MODEL_63c45e4830ab4a0ab0eb6daa5bd8d9bf",
       "value": 5625
      }
     },
     "ba7aa58b54eb4f9cb2a3c5d5965f7cb4": {
      "model_module": "@jupyter-widgets/base",
      "model_module_version": "1.2.0",
      "model_name": "LayoutModel",
      "state": {
       "_model_module_version": "1.2.0",
       "_view_module_version": "1.2.0",
       "justify_items": null,
       "object_fit": null,
       "object_position": null
      }
     },
     "bb6ac68bbcc146ab99bd847189e834eb": {
      "model_module": "@jupyter-widgets/base",
      "model_module_version": "1.2.0",
      "model_name": "LayoutModel",
      "state": {
       "_model_module_version": "1.2.0",
       "_view_module_version": "1.2.0",
       "display": "inline-flex",
       "flex_flow": "row wrap",
       "justify_items": null,
       "object_fit": null,
       "object_position": null,
       "width": "100%"
      }
     },
     "bba9b99d0182490ea4c48ccdc3535ffe": {
      "model_module": "@jupyter-widgets/controls",
      "model_module_version": "1.5.0",
      "model_name": "ProgressStyleModel",
      "state": {
       "_model_module_version": "1.5.0",
       "_view_module_version": "1.2.0",
       "description_width": "initial"
      }
     },
     "bbdbbfbafbf64ae484950821be13455d": {
      "model_module": "@jupyter-widgets/controls",
      "model_module_version": "1.5.0",
      "model_name": "ProgressStyleModel",
      "state": {
       "_model_module_version": "1.5.0",
       "_view_module_version": "1.2.0",
       "description_width": "initial"
      }
     },
     "bbf71f2b863a487db3b08cc8c01f2993": {
      "model_module": "@jupyter-widgets/controls",
      "model_module_version": "1.5.0",
      "model_name": "ProgressStyleModel",
      "state": {
       "_model_module_version": "1.5.0",
       "_view_module_version": "1.2.0",
       "description_width": "initial"
      }
     },
     "bc13439a2e414b90872d85bdaaa670d7": {
      "model_module": "@jupyter-widgets/controls",
      "model_module_version": "1.5.0",
      "model_name": "ProgressStyleModel",
      "state": {
       "_model_module_version": "1.5.0",
       "_view_module_version": "1.2.0",
       "description_width": "initial"
      }
     },
     "bc1c0358e239485982cfa55110847941": {
      "model_module": "@jupyter-widgets/base",
      "model_module_version": "1.2.0",
      "model_name": "LayoutModel",
      "state": {
       "_model_module_version": "1.2.0",
       "_view_module_version": "1.2.0",
       "display": "inline-flex",
       "flex_flow": "row wrap",
       "justify_items": null,
       "object_fit": null,
       "object_position": null,
       "width": "100%"
      }
     },
     "bc2fb35484c849fba94db3d1de041587": {
      "model_module": "@jupyter-widgets/base",
      "model_module_version": "1.2.0",
      "model_name": "LayoutModel",
      "state": {
       "_model_module_version": "1.2.0",
       "_view_module_version": "1.2.0",
       "flex": "2",
       "justify_items": null,
       "object_fit": null,
       "object_position": null
      }
     },
     "bd253bf6f76f4de8a24aab4f490631cf": {
      "model_module": "@jupyter-widgets/base",
      "model_module_version": "1.2.0",
      "model_name": "LayoutModel",
      "state": {
       "_model_module_version": "1.2.0",
       "_view_module_version": "1.2.0",
       "justify_items": null,
       "object_fit": null,
       "object_position": null
      }
     },
     "bd3c63f241874969b9fe1925c74f60f6": {
      "model_module": "@jupyter-widgets/base",
      "model_module_version": "1.2.0",
      "model_name": "LayoutModel",
      "state": {
       "_model_module_version": "1.2.0",
       "_view_module_version": "1.2.0",
       "flex": "2",
       "justify_items": null,
       "object_fit": null,
       "object_position": null
      }
     },
     "bd5dc66cd4fd4a32b387706da3b32111": {
      "model_module": "@jupyter-widgets/base",
      "model_module_version": "1.2.0",
      "model_name": "LayoutModel",
      "state": {
       "_model_module_version": "1.2.0",
       "_view_module_version": "1.2.0",
       "justify_items": null,
       "object_fit": null,
       "object_position": null
      }
     },
     "bd7de3ac14d54ce0bb7b8f85d059bc33": {
      "model_module": "@jupyter-widgets/base",
      "model_module_version": "1.2.0",
      "model_name": "LayoutModel",
      "state": {
       "_model_module_version": "1.2.0",
       "_view_module_version": "1.2.0",
       "justify_items": null,
       "object_fit": null,
       "object_position": null
      }
     },
     "bdae8aa91b5145b3b9ecfda1ba837f75": {
      "model_module": "@jupyter-widgets/base",
      "model_module_version": "1.2.0",
      "model_name": "LayoutModel",
      "state": {
       "_model_module_version": "1.2.0",
       "_view_module_version": "1.2.0",
       "flex": "2",
       "justify_items": null,
       "object_fit": null,
       "object_position": null
      }
     },
     "bdbc6896bb984f74b5cc7ead9ca078a4": {
      "model_module": "@jupyter-widgets/controls",
      "model_module_version": "1.5.0",
      "model_name": "ProgressStyleModel",
      "state": {
       "_model_module_version": "1.5.0",
       "_view_module_version": "1.2.0",
       "description_width": "initial"
      }
     },
     "bddf30f3be5e4402832cb40ea36dc1b3": {
      "model_module": "@jupyter-widgets/base",
      "model_module_version": "1.2.0",
      "model_name": "LayoutModel",
      "state": {
       "_model_module_version": "1.2.0",
       "_view_module_version": "1.2.0",
       "display": "inline-flex",
       "flex_flow": "row wrap",
       "justify_items": null,
       "object_fit": null,
       "object_position": null,
       "width": "100%"
      }
     },
     "be0f136086074f82b3d6e051bdf8e8ae": {
      "model_module": "@jupyter-widgets/controls",
      "model_module_version": "1.5.0",
      "model_name": "DescriptionStyleModel",
      "state": {
       "_model_module_version": "1.5.0",
       "_view_module_version": "1.2.0",
       "description_width": ""
      }
     },
     "be85f91d01c0487aa01dee2ed35f74a1": {
      "model_module": "@jupyter-widgets/controls",
      "model_module_version": "1.5.0",
      "model_name": "HBoxModel",
      "state": {
       "_model_module_version": "1.5.0",
       "_view_module_version": "1.5.0",
       "children": [
        "IPY_MODEL_617f75c5bbf24cce9fbabb80e1842dae",
        "IPY_MODEL_983af9ceb6d54d26b67e548899cf1eab"
       ],
       "layout": "IPY_MODEL_7b44208302f34316a7a43ef333cc065e"
      }
     },
     "bfa2c03aa2c743c7a0f0ea1a162313d7": {
      "model_module": "@jupyter-widgets/base",
      "model_module_version": "1.2.0",
      "model_name": "LayoutModel",
      "state": {
       "_model_module_version": "1.2.0",
       "_view_module_version": "1.2.0",
       "display": "inline-flex",
       "flex_flow": "row wrap",
       "justify_items": null,
       "object_fit": null,
       "object_position": null,
       "width": "100%"
      }
     },
     "c003d736ec9d4af197086a1dc2ba9ab1": {
      "model_module": "@jupyter-widgets/controls",
      "model_module_version": "1.5.0",
      "model_name": "DescriptionStyleModel",
      "state": {
       "_model_module_version": "1.5.0",
       "_view_module_version": "1.2.0",
       "description_width": ""
      }
     },
     "c018ea23b4614a35a7a617013d44bfe1": {
      "model_module": "@jupyter-widgets/base",
      "model_module_version": "1.2.0",
      "model_name": "LayoutModel",
      "state": {
       "_model_module_version": "1.2.0",
       "_view_module_version": "1.2.0",
       "display": "inline-flex",
       "flex_flow": "row wrap",
       "justify_items": null,
       "object_fit": null,
       "object_position": null,
       "width": "100%"
      }
     },
     "c0203871f4d54064832fb09b3678334b": {
      "model_module": "@jupyter-widgets/base",
      "model_module_version": "1.2.0",
      "model_name": "LayoutModel",
      "state": {
       "_model_module_version": "1.2.0",
       "_view_module_version": "1.2.0",
       "justify_items": null,
       "object_fit": null,
       "object_position": null
      }
     },
     "c12265398bc8486aa49693df45e40e61": {
      "model_module": "@jupyter-widgets/controls",
      "model_module_version": "1.5.0",
      "model_name": "HBoxModel",
      "state": {
       "_model_module_version": "1.5.0",
       "_view_module_version": "1.5.0",
       "children": [
        "IPY_MODEL_63b08e272e044c23ae3e2c56e774de57",
        "IPY_MODEL_6795b598faa34816b10012195c9cfb8b"
       ],
       "layout": "IPY_MODEL_99028dd3d8054e37bdaf18b2500a8d20"
      }
     },
     "c14ca2db9b0e4f21aa1dcb6cdfdd9999": {
      "model_module": "@jupyter-widgets/controls",
      "model_module_version": "1.5.0",
      "model_name": "DescriptionStyleModel",
      "state": {
       "_model_module_version": "1.5.0",
       "_view_module_version": "1.2.0",
       "description_width": ""
      }
     },
     "c1cf7ee36e73455c9482968a5c91befb": {
      "model_module": "@jupyter-widgets/controls",
      "model_module_version": "1.5.0",
      "model_name": "DescriptionStyleModel",
      "state": {
       "_model_module_version": "1.5.0",
       "_view_module_version": "1.2.0",
       "description_width": ""
      }
     },
     "c1de2027de164799ae99e2bfd194b23a": {
      "model_module": "@jupyter-widgets/controls",
      "model_module_version": "1.5.0",
      "model_name": "HBoxModel",
      "state": {
       "_model_module_version": "1.5.0",
       "_view_module_version": "1.5.0",
       "children": [
        "IPY_MODEL_f49bd13781034803bbadb4393ca8aadc",
        "IPY_MODEL_83c512c0596548a2aeb6c8fdd926b6c6"
       ],
       "layout": "IPY_MODEL_9ff65ec13f304c039b1803b30897c482"
      }
     },
     "c1fa726734784222bac93bd6c58c899e": {
      "model_module": "@jupyter-widgets/controls",
      "model_module_version": "1.5.0",
      "model_name": "FloatProgressModel",
      "state": {
       "_model_module_version": "1.5.0",
       "_view_module_version": "1.5.0",
       "bar_style": "success",
       "description": "5625/5625",
       "layout": "IPY_MODEL_9e1838cf81d345398811b53a5af56020",
       "max": 5625,
       "style": "IPY_MODEL_ed928f4755d242529403cb6ea17290a1",
       "value": 5625
      }
     },
     "c2224abba05e411ca6f039633de9ec3f": {
      "model_module": "@jupyter-widgets/base",
      "model_module_version": "1.2.0",
      "model_name": "LayoutModel",
      "state": {
       "_model_module_version": "1.2.0",
       "_view_module_version": "1.2.0",
       "display": "inline-flex",
       "flex_flow": "row wrap",
       "justify_items": null,
       "object_fit": null,
       "object_position": null,
       "width": "100%"
      }
     },
     "c2501bba27074a929e31f02e688ed040": {
      "model_module": "@jupyter-widgets/base",
      "model_module_version": "1.2.0",
      "model_name": "LayoutModel",
      "state": {
       "_model_module_version": "1.2.0",
       "_view_module_version": "1.2.0",
       "justify_items": null,
       "object_fit": null,
       "object_position": null
      }
     },
     "c2bf601f06c7477e9d5a46fc6195a9a4": {
      "model_module": "@jupyter-widgets/base",
      "model_module_version": "1.2.0",
      "model_name": "LayoutModel",
      "state": {
       "_model_module_version": "1.2.0",
       "_view_module_version": "1.2.0",
       "justify_items": null,
       "object_fit": null,
       "object_position": null
      }
     },
     "c2e0616132614c2fbcb20a51c3c13be9": {
      "model_module": "@jupyter-widgets/controls",
      "model_module_version": "1.5.0",
      "model_name": "HTMLModel",
      "state": {
       "_model_module_version": "1.5.0",
       "_view_module_version": "1.5.0",
       "layout": "IPY_MODEL_a1c065de12b4499591ed41760f36a479",
       "style": "IPY_MODEL_64a7b81cfe1641de868613ff1e7e2b26",
       "value": " ETA: 00:00s - loss: 0.0353 - val_loss: 0.0368"
      }
     },
     "c2efdc5102b84e7dad2a2a9902204ff7": {
      "model_module": "@jupyter-widgets/controls",
      "model_module_version": "1.5.0",
      "model_name": "HTMLModel",
      "state": {
       "_model_module_version": "1.5.0",
       "_view_module_version": "1.5.0",
       "layout": "IPY_MODEL_87a66f5b26a84533a7731d88ea47a225",
       "style": "IPY_MODEL_a6976acd7afb4741ac1724dd5ce8126f",
       "value": " ETA: 00:00s - loss: 0.0002 - val_loss: 0.0001"
      }
     },
     "c3262a0d34f24d2a925007f6fa1c2f20": {
      "model_module": "@jupyter-widgets/controls",
      "model_module_version": "1.5.0",
      "model_name": "HBoxModel",
      "state": {
       "_model_module_version": "1.5.0",
       "_view_module_version": "1.5.0",
       "children": [
        "IPY_MODEL_4072fa18ec304a5fae73dc8bbd921c1f",
        "IPY_MODEL_913852a6e5704a4f9ac44e7b580b941a"
       ],
       "layout": "IPY_MODEL_d320cde3ea2f4b2187f1f997a184437b"
      }
     },
     "c3f0abe6742848baa64d939e7dea6e09": {
      "model_module": "@jupyter-widgets/controls",
      "model_module_version": "1.5.0",
      "model_name": "HTMLModel",
      "state": {
       "_model_module_version": "1.5.0",
       "_view_module_version": "1.5.0",
       "layout": "IPY_MODEL_d423dfca3aca420490a33ece1df52bdc",
       "style": "IPY_MODEL_b536a647256445369860885e570773dc",
       "value": " ETA: 00:00s - loss: 0.0331 - val_loss: 0.0312"
      }
     },
     "c4111bfb873647699e4c429551d44b59": {
      "model_module": "@jupyter-widgets/controls",
      "model_module_version": "1.5.0",
      "model_name": "DescriptionStyleModel",
      "state": {
       "_model_module_version": "1.5.0",
       "_view_module_version": "1.2.0",
       "description_width": ""
      }
     },
     "c45608a3d403488a83c427602c2808ee": {
      "model_module": "@jupyter-widgets/controls",
      "model_module_version": "1.5.0",
      "model_name": "HTMLModel",
      "state": {
       "_model_module_version": "1.5.0",
       "_view_module_version": "1.5.0",
       "layout": "IPY_MODEL_da83d665bf9a4b6aab4513679b467c51",
       "style": "IPY_MODEL_cebeb37df1ca42a6a9c571f981d3b74f",
       "value": " ETA: 00:00s - loss: 0.0011 - mse: 0.0011 - val_loss: 0.0004 - val_mse: 0.0004"
      }
     },
     "c4689300762f4d2fb265a1a8c54e7ccb": {
      "model_module": "@jupyter-widgets/controls",
      "model_module_version": "1.5.0",
      "model_name": "HTMLModel",
      "state": {
       "_model_module_version": "1.5.0",
       "_view_module_version": "1.5.0",
       "layout": "IPY_MODEL_418213dddb914c63bc2bff93db2553eb",
       "style": "IPY_MODEL_e79fcfabd9894c2ba02d9e3dfb1a7006",
       "value": " 1/100 ETA: 1:24:08s,  50.99s/epochs"
      }
     },
     "c496b2b5c6e34387af4b8957179f4f74": {
      "model_module": "@jupyter-widgets/controls",
      "model_module_version": "1.5.0",
      "model_name": "ProgressStyleModel",
      "state": {
       "_model_module_version": "1.5.0",
       "_view_module_version": "1.2.0",
       "description_width": "initial"
      }
     },
     "c4a19cbdf55e4ce1a145d97d24573a90": {
      "model_module": "@jupyter-widgets/base",
      "model_module_version": "1.2.0",
      "model_name": "LayoutModel",
      "state": {
       "_model_module_version": "1.2.0",
       "_view_module_version": "1.2.0",
       "justify_items": null,
       "object_fit": null,
       "object_position": null
      }
     },
     "c58703adb7be4f729096fd9e45db13cb": {
      "model_module": "@jupyter-widgets/controls",
      "model_module_version": "1.5.0",
      "model_name": "ProgressStyleModel",
      "state": {
       "_model_module_version": "1.5.0",
       "_view_module_version": "1.2.0",
       "description_width": "initial"
      }
     },
     "c5fcb8aca950495088f65c0f93320e4f": {
      "model_module": "@jupyter-widgets/controls",
      "model_module_version": "1.5.0",
      "model_name": "HTMLModel",
      "state": {
       "_model_module_version": "1.5.0",
       "_view_module_version": "1.5.0",
       "layout": "IPY_MODEL_266913d4c6ca45bcb43d26813dbf24e1",
       "style": "IPY_MODEL_21c18fd464fd4ef789855124cad4d204",
       "value": " ETA: 00:00s - loss: 0.0310 - val_loss: 0.0297"
      }
     },
     "c6fc96b8d4994c36910723fae0717455": {
      "model_module": "@jupyter-widgets/controls",
      "model_module_version": "1.5.0",
      "model_name": "ProgressStyleModel",
      "state": {
       "_model_module_version": "1.5.0",
       "_view_module_version": "1.2.0",
       "description_width": "initial"
      }
     },
     "c755500c7ce24a9abfa4de9e949a15f4": {
      "model_module": "@jupyter-widgets/controls",
      "model_module_version": "1.5.0",
      "model_name": "FloatProgressModel",
      "state": {
       "_model_module_version": "1.5.0",
       "_view_module_version": "1.5.0",
       "bar_style": "success",
       "description": "5625/5625",
       "layout": "IPY_MODEL_12a2a2db2d29401db223b477f35c4b70",
       "max": 5625,
       "style": "IPY_MODEL_0894e35f4f85460d9665e4e2837350f8",
       "value": 5625
      }
     },
     "c790822fdde740fbb33c74a39bc56359": {
      "model_module": "@jupyter-widgets/controls",
      "model_module_version": "1.5.0",
      "model_name": "DescriptionStyleModel",
      "state": {
       "_model_module_version": "1.5.0",
       "_view_module_version": "1.2.0",
       "description_width": ""
      }
     },
     "c7c7f860a04040f4a7993f735b98ec71": {
      "model_module": "@jupyter-widgets/controls",
      "model_module_version": "1.5.0",
      "model_name": "ProgressStyleModel",
      "state": {
       "_model_module_version": "1.5.0",
       "_view_module_version": "1.2.0",
       "description_width": "initial"
      }
     },
     "c7e9dcc7742d4b7288d9a78804e49540": {
      "model_module": "@jupyter-widgets/controls",
      "model_module_version": "1.5.0",
      "model_name": "HBoxModel",
      "state": {
       "_model_module_version": "1.5.0",
       "_view_module_version": "1.5.0",
       "children": [
        "IPY_MODEL_4354fb19af7045a494809f58cb8e7089",
        "IPY_MODEL_cad5ff9f81a44d009575345c425463b3"
       ],
       "layout": "IPY_MODEL_fff7ae4b248840788cecd27ebfae8743"
      }
     },
     "c7fb4205e395418bb9c95a1648784dc5": {
      "model_module": "@jupyter-widgets/controls",
      "model_module_version": "1.5.0",
      "model_name": "HBoxModel",
      "state": {
       "_model_module_version": "1.5.0",
       "_view_module_version": "1.5.0",
       "children": [
        "IPY_MODEL_47f474c674aa4ed0aae12aaf15ac90ce",
        "IPY_MODEL_7ae949c722134ecfb3fe9750b12e88a5"
       ],
       "layout": "IPY_MODEL_f3be1db59a2d47e7bb5fc47dc6266f90"
      }
     },
     "c83335718ae54d778fa86b5e505ac58e": {
      "model_module": "@jupyter-widgets/controls",
      "model_module_version": "1.5.0",
      "model_name": "HBoxModel",
      "state": {
       "_model_module_version": "1.5.0",
       "_view_module_version": "1.5.0",
       "children": [
        "IPY_MODEL_067e9fbf048e43d69bafeab07029faaa",
        "IPY_MODEL_399c97f633f7434f80719afa23c8bd8a"
       ],
       "layout": "IPY_MODEL_3166b984ca1940ffb8c66fc28e6872c4"
      }
     },
     "c8ba5c84c7d348b09fd4055bcfa703a6": {
      "model_module": "@jupyter-widgets/base",
      "model_module_version": "1.2.0",
      "model_name": "LayoutModel",
      "state": {
       "_model_module_version": "1.2.0",
       "_view_module_version": "1.2.0",
       "justify_items": null,
       "object_fit": null,
       "object_position": null
      }
     },
     "c8d12b5addbe49b7a6d41cd9d0485610": {
      "model_module": "@jupyter-widgets/controls",
      "model_module_version": "1.5.0",
      "model_name": "FloatProgressModel",
      "state": {
       "_model_module_version": "1.5.0",
       "_view_module_version": "1.5.0",
       "bar_style": "success",
       "description": "5625/5625",
       "layout": "IPY_MODEL_fc8433ae5b0040a68c5ead3f69a8eeed",
       "max": 5625,
       "style": "IPY_MODEL_4020cadec19a4189a608453c252e6c62",
       "value": 5625
      }
     },
     "c9c51366962b4bd8843dfc24d03a93bb": {
      "model_module": "@jupyter-widgets/base",
      "model_module_version": "1.2.0",
      "model_name": "LayoutModel",
      "state": {
       "_model_module_version": "1.2.0",
       "_view_module_version": "1.2.0",
       "flex": "2",
       "justify_items": null,
       "object_fit": null,
       "object_position": null
      }
     },
     "c9f13da12d084caea9dbfbde1cce6d44": {
      "model_module": "@jupyter-widgets/controls",
      "model_module_version": "1.5.0",
      "model_name": "ProgressStyleModel",
      "state": {
       "_model_module_version": "1.5.0",
       "_view_module_version": "1.2.0",
       "description_width": "initial"
      }
     },
     "ca2947e17c6b40fd8ad7679e768b165f": {
      "model_module": "@jupyter-widgets/base",
      "model_module_version": "1.2.0",
      "model_name": "LayoutModel",
      "state": {
       "_model_module_version": "1.2.0",
       "_view_module_version": "1.2.0",
       "flex": "2",
       "justify_items": null,
       "object_fit": null,
       "object_position": null
      }
     },
     "cad5ff9f81a44d009575345c425463b3": {
      "model_module": "@jupyter-widgets/controls",
      "model_module_version": "1.5.0",
      "model_name": "HTMLModel",
      "state": {
       "_model_module_version": "1.5.0",
       "_view_module_version": "1.5.0",
       "layout": "IPY_MODEL_d514b88312c942a1b21fd59b125f8ea0",
       "style": "IPY_MODEL_5e49d3d55ce640fab40517b9e842ef6c",
       "value": " ETA: 00:00s - loss: 0.0002 - mse: 0.0002 - val_loss: 0.0004 - val_mse: 0.0004"
      }
     },
     "caec96b3525146eb8cbae2b13590099b": {
      "model_module": "@jupyter-widgets/controls",
      "model_module_version": "1.5.0",
      "model_name": "HBoxModel",
      "state": {
       "_model_module_version": "1.5.0",
       "_view_module_version": "1.5.0",
       "children": [
        "IPY_MODEL_fee085747d5246f6b2c33025a9ee893f",
        "IPY_MODEL_851e4010de954194b23d7218b6632402"
       ],
       "layout": "IPY_MODEL_6625a9d7bbb74a0793448b5949fc3865"
      }
     },
     "cb148b49775542d289d0c6f2cf6e9acc": {
      "model_module": "@jupyter-widgets/controls",
      "model_module_version": "1.5.0",
      "model_name": "DescriptionStyleModel",
      "state": {
       "_model_module_version": "1.5.0",
       "_view_module_version": "1.2.0",
       "description_width": ""
      }
     },
     "cb1ff9d8162148baba434317cd81f993": {
      "model_module": "@jupyter-widgets/controls",
      "model_module_version": "1.5.0",
      "model_name": "DescriptionStyleModel",
      "state": {
       "_model_module_version": "1.5.0",
       "_view_module_version": "1.2.0",
       "description_width": ""
      }
     },
     "cb3420ba675b4160a7b32ac259248dec": {
      "model_module": "@jupyter-widgets/controls",
      "model_module_version": "1.5.0",
      "model_name": "FloatProgressModel",
      "state": {
       "_model_module_version": "1.5.0",
       "_view_module_version": "1.5.0",
       "bar_style": "success",
       "description": "5625/5625",
       "layout": "IPY_MODEL_31779450f2ea414da53017a7756df5cd",
       "max": 5625,
       "style": "IPY_MODEL_93a3a181ed5446a799b4b446d78d3c63",
       "value": 5625
      }
     },
     "cb65e5611bc24517a80095ab4229fe36": {
      "model_module": "@jupyter-widgets/controls",
      "model_module_version": "1.5.0",
      "model_name": "ProgressStyleModel",
      "state": {
       "_model_module_version": "1.5.0",
       "_view_module_version": "1.2.0",
       "description_width": "initial"
      }
     },
     "cb7d8d4cbf0044e7a07b0834b7291f61": {
      "model_module": "@jupyter-widgets/controls",
      "model_module_version": "1.5.0",
      "model_name": "HBoxModel",
      "state": {
       "_model_module_version": "1.5.0",
       "_view_module_version": "1.5.0",
       "children": [
        "IPY_MODEL_72de4cede73c423d9e1ff3942c22f19a",
        "IPY_MODEL_de6e8fae71484b74ab63436dd765b9a2"
       ],
       "layout": "IPY_MODEL_6d3953fc951c4a0b908ae37f2a6ca3b1"
      }
     },
     "cbeab32d2e324567912dfddd281cb61f": {
      "model_module": "@jupyter-widgets/base",
      "model_module_version": "1.2.0",
      "model_name": "LayoutModel",
      "state": {
       "_model_module_version": "1.2.0",
       "_view_module_version": "1.2.0",
       "flex": "2",
       "justify_items": null,
       "object_fit": null,
       "object_position": null
      }
     },
     "ce1d9a31a95c46c58b86542748e4ea34": {
      "model_module": "@jupyter-widgets/base",
      "model_module_version": "1.2.0",
      "model_name": "LayoutModel",
      "state": {
       "_model_module_version": "1.2.0",
       "_view_module_version": "1.2.0",
       "flex": "2",
       "justify_items": null,
       "object_fit": null,
       "object_position": null
      }
     },
     "ce20cbcd48e04cce9cb6fa33085b3617": {
      "model_module": "@jupyter-widgets/base",
      "model_module_version": "1.2.0",
      "model_name": "LayoutModel",
      "state": {
       "_model_module_version": "1.2.0",
       "_view_module_version": "1.2.0",
       "justify_items": null,
       "object_fit": null,
       "object_position": null
      }
     },
     "ce80c922f3a745618c2ec9b8b49a2328": {
      "model_module": "@jupyter-widgets/controls",
      "model_module_version": "1.5.0",
      "model_name": "ProgressStyleModel",
      "state": {
       "_model_module_version": "1.5.0",
       "_view_module_version": "1.2.0",
       "description_width": "initial"
      }
     },
     "ce84e4dd6f89414a939a013dd6c90ebd": {
      "model_module": "@jupyter-widgets/base",
      "model_module_version": "1.2.0",
      "model_name": "LayoutModel",
      "state": {
       "_model_module_version": "1.2.0",
       "_view_module_version": "1.2.0",
       "justify_items": null,
       "object_fit": null,
       "object_position": null
      }
     },
     "cebeb37df1ca42a6a9c571f981d3b74f": {
      "model_module": "@jupyter-widgets/controls",
      "model_module_version": "1.5.0",
      "model_name": "DescriptionStyleModel",
      "state": {
       "_model_module_version": "1.5.0",
       "_view_module_version": "1.2.0",
       "description_width": ""
      }
     },
     "cefcec7f16644e67a2a04c35ae80a8d1": {
      "model_module": "@jupyter-widgets/base",
      "model_module_version": "1.2.0",
      "model_name": "LayoutModel",
      "state": {
       "_model_module_version": "1.2.0",
       "_view_module_version": "1.2.0",
       "justify_items": null,
       "object_fit": null,
       "object_position": null
      }
     },
     "cf4c83d62d84414391e877f385243d8d": {
      "model_module": "@jupyter-widgets/controls",
      "model_module_version": "1.5.0",
      "model_name": "DescriptionStyleModel",
      "state": {
       "_model_module_version": "1.5.0",
       "_view_module_version": "1.2.0",
       "description_width": ""
      }
     },
     "cfd690881b0d4dbcbd6a32406fa659c2": {
      "model_module": "@jupyter-widgets/controls",
      "model_module_version": "1.5.0",
      "model_name": "FloatProgressModel",
      "state": {
       "_model_module_version": "1.5.0",
       "_view_module_version": "1.5.0",
       "bar_style": "success",
       "description": "5625/5625",
       "layout": "IPY_MODEL_9c16543e0f984faa8a021757fc2cfe23",
       "max": 5625,
       "style": "IPY_MODEL_88be70a2bfb84635b192d31e5aa3e7de",
       "value": 5625
      }
     },
     "cfd8dbeb226f4f6099fc8df4592b2633": {
      "model_module": "@jupyter-widgets/base",
      "model_module_version": "1.2.0",
      "model_name": "LayoutModel",
      "state": {
       "_model_module_version": "1.2.0",
       "_view_module_version": "1.2.0",
       "justify_items": null,
       "object_fit": null,
       "object_position": null
      }
     },
     "d0139365a44148489a0b874bc246f57a": {
      "model_module": "@jupyter-widgets/base",
      "model_module_version": "1.2.0",
      "model_name": "LayoutModel",
      "state": {
       "_model_module_version": "1.2.0",
       "_view_module_version": "1.2.0",
       "flex": "2",
       "justify_items": null,
       "object_fit": null,
       "object_position": null
      }
     },
     "d0b172b768eb46dca50d17c3840ebb3b": {
      "model_module": "@jupyter-widgets/controls",
      "model_module_version": "1.5.0",
      "model_name": "HTMLModel",
      "state": {
       "_model_module_version": "1.5.0",
       "_view_module_version": "1.5.0",
       "layout": "IPY_MODEL_633eaa193586415db35128ec49748bfe",
       "style": "IPY_MODEL_b406e0fe24d14ad5a780e0e89c66ed7c",
       "value": " ETA: 00:00s - loss: 0.0002 - val_loss: 0.0001"
      }
     },
     "d0d3716e897d4c7fa6b1e21e18d7f7a1": {
      "model_module": "@jupyter-widgets/controls",
      "model_module_version": "1.5.0",
      "model_name": "HBoxModel",
      "state": {
       "_model_module_version": "1.5.0",
       "_view_module_version": "1.5.0",
       "children": [
        "IPY_MODEL_cfd690881b0d4dbcbd6a32406fa659c2",
        "IPY_MODEL_afc11578b8504aa388de809cd9359622"
       ],
       "layout": "IPY_MODEL_e5d507b8ceb642048407fcd7e325465c"
      }
     },
     "d110bdd278194e52ac45025d21bfe799": {
      "model_module": "@jupyter-widgets/base",
      "model_module_version": "1.2.0",
      "model_name": "LayoutModel",
      "state": {
       "_model_module_version": "1.2.0",
       "_view_module_version": "1.2.0",
       "flex": "2",
       "justify_items": null,
       "object_fit": null,
       "object_position": null
      }
     },
     "d12ac21b89b7427382d2c975f9b3c423": {
      "model_module": "@jupyter-widgets/base",
      "model_module_version": "1.2.0",
      "model_name": "LayoutModel",
      "state": {
       "_model_module_version": "1.2.0",
       "_view_module_version": "1.2.0",
       "display": "inline-flex",
       "flex_flow": "row wrap",
       "justify_items": null,
       "object_fit": null,
       "object_position": null,
       "width": "100%"
      }
     },
     "d14cbb7761c54b78bae5795f9b51d93c": {
      "model_module": "@jupyter-widgets/controls",
      "model_module_version": "1.5.0",
      "model_name": "HBoxModel",
      "state": {
       "_model_module_version": "1.5.0",
       "_view_module_version": "1.5.0",
       "children": [
        "IPY_MODEL_3807dd706ae14448bc8639f72e979bd5",
        "IPY_MODEL_c2efdc5102b84e7dad2a2a9902204ff7"
       ],
       "layout": "IPY_MODEL_a66788d740594e25a83bf6620b20451e"
      }
     },
     "d1cf39f2de384774aba786091ee3d321": {
      "model_module": "@jupyter-widgets/controls",
      "model_module_version": "1.5.0",
      "model_name": "HTMLModel",
      "state": {
       "_model_module_version": "1.5.0",
       "_view_module_version": "1.5.0",
       "layout": "IPY_MODEL_faa861b4700440eba2c2a72c269363a9",
       "style": "IPY_MODEL_898bcae7340a45a2bc06a331145108a8",
       "value": " 1/100 ETA: 3:26:50s,  125.36s/epochs"
      }
     },
     "d28d3ce469d145cca290f7922f90a58e": {
      "model_module": "@jupyter-widgets/base",
      "model_module_version": "1.2.0",
      "model_name": "LayoutModel",
      "state": {
       "_model_module_version": "1.2.0",
       "_view_module_version": "1.2.0",
       "flex": "2",
       "justify_items": null,
       "object_fit": null,
       "object_position": null
      }
     },
     "d2e54a6913d34c75b7bc5d7f159a0b3e": {
      "model_module": "@jupyter-widgets/controls",
      "model_module_version": "1.5.0",
      "model_name": "ProgressStyleModel",
      "state": {
       "_model_module_version": "1.5.0",
       "_view_module_version": "1.2.0",
       "description_width": "initial"
      }
     },
     "d320cde3ea2f4b2187f1f997a184437b": {
      "model_module": "@jupyter-widgets/base",
      "model_module_version": "1.2.0",
      "model_name": "LayoutModel",
      "state": {
       "_model_module_version": "1.2.0",
       "_view_module_version": "1.2.0",
       "display": "inline-flex",
       "flex_flow": "row wrap",
       "justify_items": null,
       "object_fit": null,
       "object_position": null,
       "width": "100%"
      }
     },
     "d34f595ee5064be7981329bbff015606": {
      "model_module": "@jupyter-widgets/controls",
      "model_module_version": "1.5.0",
      "model_name": "FloatProgressModel",
      "state": {
       "_model_module_version": "1.5.0",
       "_view_module_version": "1.5.0",
       "bar_style": "danger",
       "description": "Training:   1%",
       "layout": "IPY_MODEL_9a6d4456b33c48b0aa61e7401efae753",
       "style": "IPY_MODEL_6abb635ece4f49efae639f8a24020dae",
       "value": 1
      }
     },
     "d37b168d5b294f12b324b12f849a9007": {
      "model_module": "@jupyter-widgets/base",
      "model_module_version": "1.2.0",
      "model_name": "LayoutModel",
      "state": {
       "_model_module_version": "1.2.0",
       "_view_module_version": "1.2.0",
       "flex": "2",
       "justify_items": null,
       "object_fit": null,
       "object_position": null
      }
     },
     "d37eabbc19ae45a9998c8c3a58b6ee3a": {
      "model_module": "@jupyter-widgets/base",
      "model_module_version": "1.2.0",
      "model_name": "LayoutModel",
      "state": {
       "_model_module_version": "1.2.0",
       "_view_module_version": "1.2.0",
       "flex": "2",
       "justify_items": null,
       "object_fit": null,
       "object_position": null
      }
     },
     "d3e25f41ce0b4735b24b720f75bca002": {
      "model_module": "@jupyter-widgets/controls",
      "model_module_version": "1.5.0",
      "model_name": "HBoxModel",
      "state": {
       "_model_module_version": "1.5.0",
       "_view_module_version": "1.5.0",
       "children": [
        "IPY_MODEL_2472ae7e81bc4641b1474001ed2be1fd",
        "IPY_MODEL_6e043acd89ec4cca8a4cb626c6d420f7"
       ],
       "layout": "IPY_MODEL_5b12e800468b4d5ab88f7ca0c34e4544"
      }
     },
     "d3ea43ea7ad946ae8776bcb578685c48": {
      "model_module": "@jupyter-widgets/base",
      "model_module_version": "1.2.0",
      "model_name": "LayoutModel",
      "state": {
       "_model_module_version": "1.2.0",
       "_view_module_version": "1.2.0",
       "flex": "2",
       "justify_items": null,
       "object_fit": null,
       "object_position": null
      }
     },
     "d3ee755c68f64dc8bc21e1f60919ad80": {
      "model_module": "@jupyter-widgets/base",
      "model_module_version": "1.2.0",
      "model_name": "LayoutModel",
      "state": {
       "_model_module_version": "1.2.0",
       "_view_module_version": "1.2.0",
       "justify_items": null,
       "object_fit": null,
       "object_position": null
      }
     },
     "d3fc2a888643429bbc04c5444b95c123": {
      "model_module": "@jupyter-widgets/base",
      "model_module_version": "1.2.0",
      "model_name": "LayoutModel",
      "state": {
       "_model_module_version": "1.2.0",
       "_view_module_version": "1.2.0",
       "justify_items": null,
       "object_fit": null,
       "object_position": null
      }
     },
     "d423dfca3aca420490a33ece1df52bdc": {
      "model_module": "@jupyter-widgets/base",
      "model_module_version": "1.2.0",
      "model_name": "LayoutModel",
      "state": {
       "_model_module_version": "1.2.0",
       "_view_module_version": "1.2.0",
       "justify_items": null,
       "object_fit": null,
       "object_position": null
      }
     },
     "d4c0fb7bcdc34761a2e1f608450de916": {
      "model_module": "@jupyter-widgets/controls",
      "model_module_version": "1.5.0",
      "model_name": "HTMLModel",
      "state": {
       "_model_module_version": "1.5.0",
       "_view_module_version": "1.5.0",
       "layout": "IPY_MODEL_445c8467346944258967bd5a094a11ae",
       "style": "IPY_MODEL_b3b1936c17354a8eb7d4b2f4138c6f6e",
       "value": " ETA: 00:00s - loss: 0.0291 - val_loss: 0.0294"
      }
     },
     "d514b88312c942a1b21fd59b125f8ea0": {
      "model_module": "@jupyter-widgets/base",
      "model_module_version": "1.2.0",
      "model_name": "LayoutModel",
      "state": {
       "_model_module_version": "1.2.0",
       "_view_module_version": "1.2.0",
       "justify_items": null,
       "object_fit": null,
       "object_position": null
      }
     },
     "d51f414b16764afcab88be62acfb1a60": {
      "model_module": "@jupyter-widgets/base",
      "model_module_version": "1.2.0",
      "model_name": "LayoutModel",
      "state": {
       "_model_module_version": "1.2.0",
       "_view_module_version": "1.2.0",
       "justify_items": null,
       "object_fit": null,
       "object_position": null
      }
     },
     "d61c95f0a3e94071b8bdd3d2ce153290": {
      "model_module": "@jupyter-widgets/base",
      "model_module_version": "1.2.0",
      "model_name": "LayoutModel",
      "state": {
       "_model_module_version": "1.2.0",
       "_view_module_version": "1.2.0",
       "justify_items": null,
       "object_fit": null,
       "object_position": null
      }
     },
     "d68969cf71ad41b68bba0c9f80b2b48a": {
      "model_module": "@jupyter-widgets/controls",
      "model_module_version": "1.5.0",
      "model_name": "HBoxModel",
      "state": {
       "_model_module_version": "1.5.0",
       "_view_module_version": "1.5.0",
       "children": [
        "IPY_MODEL_5139b6ec430148258f0d1f758bac4721",
        "IPY_MODEL_d6f65b68ec0141e280edaced4226a50d"
       ],
       "layout": "IPY_MODEL_5934842cfc4842b78a4737d30181c8ae"
      }
     },
     "d6f65b68ec0141e280edaced4226a50d": {
      "model_module": "@jupyter-widgets/controls",
      "model_module_version": "1.5.0",
      "model_name": "HTMLModel",
      "state": {
       "_model_module_version": "1.5.0",
       "_view_module_version": "1.5.0",
       "layout": "IPY_MODEL_53120e835ec04a199ba68948bc636a1e",
       "style": "IPY_MODEL_8651d30f661846859e175decaa441901",
       "value": " 21/100 ETA: 7:23:37s,  336.94s/epochs"
      }
     },
     "d704e783a38c40abb636340e53502661": {
      "model_module": "@jupyter-widgets/controls",
      "model_module_version": "1.5.0",
      "model_name": "HTMLModel",
      "state": {
       "_model_module_version": "1.5.0",
       "_view_module_version": "1.5.0",
       "layout": "IPY_MODEL_cfd8dbeb226f4f6099fc8df4592b2633",
       "style": "IPY_MODEL_7fa53089e8054d84bf4af8eac72c2543",
       "value": " ETA: 00:00s - loss: 0.0292 - val_loss: 0.0298"
      }
     },
     "d729a3b6ab154e218f6be09b7836cdce": {
      "model_module": "@jupyter-widgets/base",
      "model_module_version": "1.2.0",
      "model_name": "LayoutModel",
      "state": {
       "_model_module_version": "1.2.0",
       "_view_module_version": "1.2.0",
       "justify_items": null,
       "object_fit": null,
       "object_position": null
      }
     },
     "d877808952d24322ba123c0a1b61268f": {
      "model_module": "@jupyter-widgets/controls",
      "model_module_version": "1.5.0",
      "model_name": "DescriptionStyleModel",
      "state": {
       "_model_module_version": "1.5.0",
       "_view_module_version": "1.2.0",
       "description_width": ""
      }
     },
     "d8859ee340894d398697c1e05da73653": {
      "model_module": "@jupyter-widgets/controls",
      "model_module_version": "1.5.0",
      "model_name": "ProgressStyleModel",
      "state": {
       "_model_module_version": "1.5.0",
       "_view_module_version": "1.2.0",
       "description_width": "initial"
      }
     },
     "d8aceee1f7e04b0ba8e429ba08bafdb9": {
      "model_module": "@jupyter-widgets/controls",
      "model_module_version": "1.5.0",
      "model_name": "FloatProgressModel",
      "state": {
       "_model_module_version": "1.5.0",
       "_view_module_version": "1.5.0",
       "bar_style": "success",
       "description": "5625/5625",
       "layout": "IPY_MODEL_ed8a545e4222455c8a50c3664285789b",
       "max": 5625,
       "style": "IPY_MODEL_6e9c3b21c354401e9641c4686a69b499",
       "value": 5625
      }
     },
     "d8f16404763845f4862fac686f4e1248": {
      "model_module": "@jupyter-widgets/controls",
      "model_module_version": "1.5.0",
      "model_name": "ProgressStyleModel",
      "state": {
       "_model_module_version": "1.5.0",
       "_view_module_version": "1.2.0",
       "description_width": "initial"
      }
     },
     "d8fc3eee5e2e4fecb3d77bf758bdcb41": {
      "model_module": "@jupyter-widgets/controls",
      "model_module_version": "1.5.0",
      "model_name": "HBoxModel",
      "state": {
       "_model_module_version": "1.5.0",
       "_view_module_version": "1.5.0",
       "children": [
        "IPY_MODEL_c8d12b5addbe49b7a6d41cd9d0485610",
        "IPY_MODEL_b128826fc1c247e9ab73b0c3c0b37e6e"
       ],
       "layout": "IPY_MODEL_48e7771898d04dbcb855e7e16db6a6a3"
      }
     },
     "d9374b71d2d04f9b8941ddb077df662d": {
      "model_module": "@jupyter-widgets/controls",
      "model_module_version": "1.5.0",
      "model_name": "HBoxModel",
      "state": {
       "_model_module_version": "1.5.0",
       "_view_module_version": "1.5.0",
       "children": [
        "IPY_MODEL_d8aceee1f7e04b0ba8e429ba08bafdb9",
        "IPY_MODEL_3cb98bdc37054caba96ce769c393b972"
       ],
       "layout": "IPY_MODEL_62e5ba6b51094efaaa4d4cdefa2e95de"
      }
     },
     "d93f22b85a25470a9d58779ea81840fe": {
      "model_module": "@jupyter-widgets/controls",
      "model_module_version": "1.5.0",
      "model_name": "DescriptionStyleModel",
      "state": {
       "_model_module_version": "1.5.0",
       "_view_module_version": "1.2.0",
       "description_width": ""
      }
     },
     "d9d11519b25d4ca89123917c126d85d2": {
      "model_module": "@jupyter-widgets/controls",
      "model_module_version": "1.5.0",
      "model_name": "DescriptionStyleModel",
      "state": {
       "_model_module_version": "1.5.0",
       "_view_module_version": "1.2.0",
       "description_width": ""
      }
     },
     "da65386272dc4774b11cfe67b0b41c99": {
      "model_module": "@jupyter-widgets/base",
      "model_module_version": "1.2.0",
      "model_name": "LayoutModel",
      "state": {
       "_model_module_version": "1.2.0",
       "_view_module_version": "1.2.0",
       "display": "inline-flex",
       "flex_flow": "row wrap",
       "justify_items": null,
       "object_fit": null,
       "object_position": null,
       "width": "100%"
      }
     },
     "da6a94d0f414428ca3ee140b4007cf9e": {
      "model_module": "@jupyter-widgets/controls",
      "model_module_version": "1.5.0",
      "model_name": "HTMLModel",
      "state": {
       "_model_module_version": "1.5.0",
       "_view_module_version": "1.5.0",
       "layout": "IPY_MODEL_9187f8bdf64d4297800115eea4357ace",
       "style": "IPY_MODEL_c14ca2db9b0e4f21aa1dcb6cdfdd9999",
       "value": " ETA: 00:00s - loss: nan"
      }
     },
     "da83d665bf9a4b6aab4513679b467c51": {
      "model_module": "@jupyter-widgets/base",
      "model_module_version": "1.2.0",
      "model_name": "LayoutModel",
      "state": {
       "_model_module_version": "1.2.0",
       "_view_module_version": "1.2.0",
       "justify_items": null,
       "object_fit": null,
       "object_position": null
      }
     },
     "dad64b08eda64c738330ca74ae710c54": {
      "model_module": "@jupyter-widgets/controls",
      "model_module_version": "1.5.0",
      "model_name": "HTMLModel",
      "state": {
       "_model_module_version": "1.5.0",
       "_view_module_version": "1.5.0",
       "layout": "IPY_MODEL_f156fd35cfd34d6bb766611e146a926e",
       "style": "IPY_MODEL_4de39c0290ff488f9b4ef72deb08ece4",
       "value": " 1/100 ETA: 06:36s,   4.00s/epochs"
      }
     },
     "db23380246754d3c82e35e6fdeda5f02": {
      "model_module": "@jupyter-widgets/base",
      "model_module_version": "1.2.0",
      "model_name": "LayoutModel",
      "state": {
       "_model_module_version": "1.2.0",
       "_view_module_version": "1.2.0",
       "flex": "2",
       "justify_items": null,
       "object_fit": null,
       "object_position": null
      }
     },
     "db2fb05fb7874f008b58502dbf43afae": {
      "model_module": "@jupyter-widgets/controls",
      "model_module_version": "1.5.0",
      "model_name": "FloatProgressModel",
      "state": {
       "_model_module_version": "1.5.0",
       "_view_module_version": "1.5.0",
       "bar_style": "success",
       "description": "5625/5625",
       "layout": "IPY_MODEL_a1189ff3cdc9480892f04d47fd562894",
       "max": 5625,
       "style": "IPY_MODEL_d8859ee340894d398697c1e05da73653",
       "value": 5625
      }
     },
     "db74397ba3a94063aa7edd228ab1c5aa": {
      "model_module": "@jupyter-widgets/controls",
      "model_module_version": "1.5.0",
      "model_name": "FloatProgressModel",
      "state": {
       "_model_module_version": "1.5.0",
       "_view_module_version": "1.5.0",
       "bar_style": "success",
       "description": "5625/5625",
       "layout": "IPY_MODEL_692c10d2cc78476fa48878e2191e8c3e",
       "max": 5625,
       "style": "IPY_MODEL_a4560d6fc14b45c486b23ce0b227f13f",
       "value": 5625
      }
     },
     "dbd52d774e63442d8b3bf5ceddfded59": {
      "model_module": "@jupyter-widgets/controls",
      "model_module_version": "1.5.0",
      "model_name": "HTMLModel",
      "state": {
       "_model_module_version": "1.5.0",
       "_view_module_version": "1.5.0",
       "layout": "IPY_MODEL_1d4400bc44f94405a7df1f6d2a122561",
       "style": "IPY_MODEL_e5f9bebb5dbc4500a8db40f61ec57e1f",
       "value": " ETA: 00:00s - loss: 0.0301 - val_loss: 0.0292"
      }
     },
     "dbf485b3fbbb4384b3f2c3e9664a13e6": {
      "model_module": "@jupyter-widgets/base",
      "model_module_version": "1.2.0",
      "model_name": "LayoutModel",
      "state": {
       "_model_module_version": "1.2.0",
       "_view_module_version": "1.2.0",
       "flex": "2",
       "justify_items": null,
       "object_fit": null,
       "object_position": null
      }
     },
     "dd475d4ceb0143658ba078208e47c002": {
      "model_module": "@jupyter-widgets/base",
      "model_module_version": "1.2.0",
      "model_name": "LayoutModel",
      "state": {
       "_model_module_version": "1.2.0",
       "_view_module_version": "1.2.0",
       "justify_items": null,
       "object_fit": null,
       "object_position": null
      }
     },
     "de01dfd19b0d4da9b73f45e2f9395bcc": {
      "model_module": "@jupyter-widgets/base",
      "model_module_version": "1.2.0",
      "model_name": "LayoutModel",
      "state": {
       "_model_module_version": "1.2.0",
       "_view_module_version": "1.2.0",
       "display": "inline-flex",
       "flex_flow": "row wrap",
       "justify_items": null,
       "object_fit": null,
       "object_position": null,
       "width": "100%"
      }
     },
     "de6e8fae71484b74ab63436dd765b9a2": {
      "model_module": "@jupyter-widgets/controls",
      "model_module_version": "1.5.0",
      "model_name": "HTMLModel",
      "state": {
       "_model_module_version": "1.5.0",
       "_view_module_version": "1.5.0",
       "layout": "IPY_MODEL_a3e491087e5f456a8f9a3596df58751a",
       "style": "IPY_MODEL_cb1ff9d8162148baba434317cd81f993",
       "value": " ETA: 00:00s - loss: nan"
      }
     },
     "de95188f7732410787e5e64420b6a013": {
      "model_module": "@jupyter-widgets/controls",
      "model_module_version": "1.5.0",
      "model_name": "HTMLModel",
      "state": {
       "_model_module_version": "1.5.0",
       "_view_module_version": "1.5.0",
       "layout": "IPY_MODEL_57d6854c754d4c2982b9c88f3a70bbe5",
       "style": "IPY_MODEL_e8be05d539494a55a5f30a73bdb34d62",
       "value": " ETA: 00:00s - loss: nan"
      }
     },
     "dea69aeff2254a92aeda14ba8335c998": {
      "model_module": "@jupyter-widgets/controls",
      "model_module_version": "1.5.0",
      "model_name": "ProgressStyleModel",
      "state": {
       "_model_module_version": "1.5.0",
       "_view_module_version": "1.2.0",
       "description_width": "initial"
      }
     },
     "df4c71e0a05c4900baa76c54a07a2345": {
      "model_module": "@jupyter-widgets/controls",
      "model_module_version": "1.5.0",
      "model_name": "FloatProgressModel",
      "state": {
       "_model_module_version": "1.5.0",
       "_view_module_version": "1.5.0",
       "bar_style": "success",
       "description": "5625/5625",
       "layout": "IPY_MODEL_3468feda5a5549439912ac6c56aae3bb",
       "max": 5625,
       "style": "IPY_MODEL_0a5befc72e294f218789595c387cd767",
       "value": 5625
      }
     },
     "e0023be0cf5b4b0e998eed1c03db19db": {
      "model_module": "@jupyter-widgets/controls",
      "model_module_version": "1.5.0",
      "model_name": "HTMLModel",
      "state": {
       "_model_module_version": "1.5.0",
       "_view_module_version": "1.5.0",
       "layout": "IPY_MODEL_0a522d4902e7471eaa6a2e8a54000c86",
       "style": "IPY_MODEL_21ef5072435e42ec9a9168a1463aa2d8",
       "value": " 8/100 ETA: 8:27:33s,  331.01s/epochs"
      }
     },
     "e054f60a5efd48ab9bb606fa8d12ceb6": {
      "model_module": "@jupyter-widgets/base",
      "model_module_version": "1.2.0",
      "model_name": "LayoutModel",
      "state": {
       "_model_module_version": "1.2.0",
       "_view_module_version": "1.2.0",
       "justify_items": null,
       "object_fit": null,
       "object_position": null
      }
     },
     "e09f13e0f9bd4eb19769daf1b492e9ab": {
      "model_module": "@jupyter-widgets/controls",
      "model_module_version": "1.5.0",
      "model_name": "HBoxModel",
      "state": {
       "_model_module_version": "1.5.0",
       "_view_module_version": "1.5.0",
       "children": [
        "IPY_MODEL_011ff52bf9b5434e81a487d02ef3cf94",
        "IPY_MODEL_c45608a3d403488a83c427602c2808ee"
       ],
       "layout": "IPY_MODEL_8da8cc46892b499c98d9cdbc7ae510df"
      }
     },
     "e127be0d55dd4c0492dc9048aab0f14d": {
      "model_module": "@jupyter-widgets/base",
      "model_module_version": "1.2.0",
      "model_name": "LayoutModel",
      "state": {
       "_model_module_version": "1.2.0",
       "_view_module_version": "1.2.0",
       "flex": "2",
       "justify_items": null,
       "object_fit": null,
       "object_position": null
      }
     },
     "e16d3264397c42e1bb0acfa27739f353": {
      "model_module": "@jupyter-widgets/controls",
      "model_module_version": "1.5.0",
      "model_name": "FloatProgressModel",
      "state": {
       "_model_module_version": "1.5.0",
       "_view_module_version": "1.5.0",
       "bar_style": "success",
       "description": "5625/5625",
       "layout": "IPY_MODEL_53cdd41ccc51480daaec612b4a8f8e86",
       "max": 5625,
       "style": "IPY_MODEL_11dcf8bdb3f74dc8bddf5e02552208ad",
       "value": 5625
      }
     },
     "e16f08439385413bb35e579088ea0c66": {
      "model_module": "@jupyter-widgets/controls",
      "model_module_version": "1.5.0",
      "model_name": "HBoxModel",
      "state": {
       "_model_module_version": "1.5.0",
       "_view_module_version": "1.5.0",
       "children": [
        "IPY_MODEL_9980326aa60d4e5f97cb11a3ef51967e",
        "IPY_MODEL_71044d5c55ee4902a0a6e07b1d41c2b0"
       ],
       "layout": "IPY_MODEL_2c30007cec364dbc884f3ba9cba3345c"
      }
     },
     "e18d08df877445ae8bbeb593a65bfb5d": {
      "model_module": "@jupyter-widgets/controls",
      "model_module_version": "1.5.0",
      "model_name": "HBoxModel",
      "state": {
       "_model_module_version": "1.5.0",
       "_view_module_version": "1.5.0",
       "children": [
        "IPY_MODEL_ab2158a322544b308ab1c4b98d808f6b",
        "IPY_MODEL_7cb1d2e221164b42b20ab1f858818ca6"
       ],
       "layout": "IPY_MODEL_3eeb5ddb42b14cb4974c5fae161067db"
      }
     },
     "e2273ee4654a4f6cb13aa78e5097e12a": {
      "model_module": "@jupyter-widgets/controls",
      "model_module_version": "1.5.0",
      "model_name": "DescriptionStyleModel",
      "state": {
       "_model_module_version": "1.5.0",
       "_view_module_version": "1.2.0",
       "description_width": ""
      }
     },
     "e2bbf92121384546964a2264ecd84353": {
      "model_module": "@jupyter-widgets/base",
      "model_module_version": "1.2.0",
      "model_name": "LayoutModel",
      "state": {
       "_model_module_version": "1.2.0",
       "_view_module_version": "1.2.0",
       "flex": "2",
       "justify_items": null,
       "object_fit": null,
       "object_position": null
      }
     },
     "e2cf554a1eba448e8956d488c36c8e98": {
      "model_module": "@jupyter-widgets/controls",
      "model_module_version": "1.5.0",
      "model_name": "ProgressStyleModel",
      "state": {
       "_model_module_version": "1.5.0",
       "_view_module_version": "1.2.0",
       "description_width": "initial"
      }
     },
     "e2d6b8c9145340899786c9deb942584d": {
      "model_module": "@jupyter-widgets/base",
      "model_module_version": "1.2.0",
      "model_name": "LayoutModel",
      "state": {
       "_model_module_version": "1.2.0",
       "_view_module_version": "1.2.0",
       "display": "inline-flex",
       "flex_flow": "row wrap",
       "justify_items": null,
       "object_fit": null,
       "object_position": null,
       "width": "100%"
      }
     },
     "e33542869b9c413fa6b9969016477229": {
      "model_module": "@jupyter-widgets/controls",
      "model_module_version": "1.5.0",
      "model_name": "ProgressStyleModel",
      "state": {
       "_model_module_version": "1.5.0",
       "_view_module_version": "1.2.0",
       "description_width": "initial"
      }
     },
     "e36b3a66aaf74c03a5315f1e14a398a7": {
      "model_module": "@jupyter-widgets/controls",
      "model_module_version": "1.5.0",
      "model_name": "HBoxModel",
      "state": {
       "_model_module_version": "1.5.0",
       "_view_module_version": "1.5.0",
       "children": [
        "IPY_MODEL_edf593c4b05c4b27ac56dc0889ef17f3",
        "IPY_MODEL_197640cb120049ebadd0f93decc3618a"
       ],
       "layout": "IPY_MODEL_d12ac21b89b7427382d2c975f9b3c423"
      }
     },
     "e3784b84164741bcba8bdd117575e8a5": {
      "model_module": "@jupyter-widgets/controls",
      "model_module_version": "1.5.0",
      "model_name": "DescriptionStyleModel",
      "state": {
       "_model_module_version": "1.5.0",
       "_view_module_version": "1.2.0",
       "description_width": ""
      }
     },
     "e3a1806e1ac2450fa48db3282df0e85f": {
      "model_module": "@jupyter-widgets/base",
      "model_module_version": "1.2.0",
      "model_name": "LayoutModel",
      "state": {
       "_model_module_version": "1.2.0",
       "_view_module_version": "1.2.0",
       "flex": "2",
       "justify_items": null,
       "object_fit": null,
       "object_position": null
      }
     },
     "e457f5b00d764b3d882c97f928b75d36": {
      "model_module": "@jupyter-widgets/controls",
      "model_module_version": "1.5.0",
      "model_name": "HBoxModel",
      "state": {
       "_model_module_version": "1.5.0",
       "_view_module_version": "1.5.0",
       "children": [
        "IPY_MODEL_d34f595ee5064be7981329bbff015606",
        "IPY_MODEL_b8f297696e904495a75e34df8cba140e"
       ],
       "layout": "IPY_MODEL_1e089ae614544a609bf09a1a92033372"
      }
     },
     "e4cc7148975b42048d66d140427dcc89": {
      "model_module": "@jupyter-widgets/controls",
      "model_module_version": "1.5.0",
      "model_name": "HBoxModel",
      "state": {
       "_model_module_version": "1.5.0",
       "_view_module_version": "1.5.0",
       "children": [
        "IPY_MODEL_595c8ec55ecf4db5990d1010fad81410",
        "IPY_MODEL_fa53c9b26046491482422eba4921208d"
       ],
       "layout": "IPY_MODEL_4d657fe65c0b4e058d71093d85876cad"
      }
     },
     "e5184b7a6d114a248955c6704c47f8fb": {
      "model_module": "@jupyter-widgets/controls",
      "model_module_version": "1.5.0",
      "model_name": "FloatProgressModel",
      "state": {
       "_model_module_version": "1.5.0",
       "_view_module_version": "1.5.0",
       "bar_style": "success",
       "description": "5625/5625",
       "layout": "IPY_MODEL_95185e5f2c9d4d81bf53bff973f35a01",
       "max": 5625,
       "style": "IPY_MODEL_03312e1ee25f4815a2b7ba3201c77cb6",
       "value": 5625
      }
     },
     "e5d507b8ceb642048407fcd7e325465c": {
      "model_module": "@jupyter-widgets/base",
      "model_module_version": "1.2.0",
      "model_name": "LayoutModel",
      "state": {
       "_model_module_version": "1.2.0",
       "_view_module_version": "1.2.0",
       "display": "inline-flex",
       "flex_flow": "row wrap",
       "justify_items": null,
       "object_fit": null,
       "object_position": null,
       "width": "100%"
      }
     },
     "e5f9bebb5dbc4500a8db40f61ec57e1f": {
      "model_module": "@jupyter-widgets/controls",
      "model_module_version": "1.5.0",
      "model_name": "DescriptionStyleModel",
      "state": {
       "_model_module_version": "1.5.0",
       "_view_module_version": "1.2.0",
       "description_width": ""
      }
     },
     "e5fbee96fdbf49aeaedfe6c44b811a6b": {
      "model_module": "@jupyter-widgets/controls",
      "model_module_version": "1.5.0",
      "model_name": "DescriptionStyleModel",
      "state": {
       "_model_module_version": "1.5.0",
       "_view_module_version": "1.2.0",
       "description_width": ""
      }
     },
     "e68c894cac084194b199c41f56a3a520": {
      "model_module": "@jupyter-widgets/base",
      "model_module_version": "1.2.0",
      "model_name": "LayoutModel",
      "state": {
       "_model_module_version": "1.2.0",
       "_view_module_version": "1.2.0",
       "flex": "2",
       "justify_items": null,
       "object_fit": null,
       "object_position": null
      }
     },
     "e6a030be1fff48458a38ba515c50299f": {
      "model_module": "@jupyter-widgets/base",
      "model_module_version": "1.2.0",
      "model_name": "LayoutModel",
      "state": {
       "_model_module_version": "1.2.0",
       "_view_module_version": "1.2.0",
       "justify_items": null,
       "object_fit": null,
       "object_position": null
      }
     },
     "e71e7cae040140ec94b111ce4eec18d2": {
      "model_module": "@jupyter-widgets/controls",
      "model_module_version": "1.5.0",
      "model_name": "FloatProgressModel",
      "state": {
       "_model_module_version": "1.5.0",
       "_view_module_version": "1.5.0",
       "bar_style": "success",
       "description": "5625/5625",
       "layout": "IPY_MODEL_3bd543ee07aa45b680bf4ff265f4bb75",
       "max": 5625,
       "style": "IPY_MODEL_15ac3734c2694b66bff2f27919ad4326",
       "value": 5625
      }
     },
     "e7785ed80107402f8bdbea3efafcbfdc": {
      "model_module": "@jupyter-widgets/base",
      "model_module_version": "1.2.0",
      "model_name": "LayoutModel",
      "state": {
       "_model_module_version": "1.2.0",
       "_view_module_version": "1.2.0",
       "flex": "2",
       "justify_items": null,
       "object_fit": null,
       "object_position": null
      }
     },
     "e79fcfabd9894c2ba02d9e3dfb1a7006": {
      "model_module": "@jupyter-widgets/controls",
      "model_module_version": "1.5.0",
      "model_name": "DescriptionStyleModel",
      "state": {
       "_model_module_version": "1.5.0",
       "_view_module_version": "1.2.0",
       "description_width": ""
      }
     },
     "e7ed699329bf4200b6eb782969f8843e": {
      "model_module": "@jupyter-widgets/base",
      "model_module_version": "1.2.0",
      "model_name": "LayoutModel",
      "state": {
       "_model_module_version": "1.2.0",
       "_view_module_version": "1.2.0",
       "justify_items": null,
       "object_fit": null,
       "object_position": null
      }
     },
     "e8495cd4efcd46669cdd4448de7c1587": {
      "model_module": "@jupyter-widgets/base",
      "model_module_version": "1.2.0",
      "model_name": "LayoutModel",
      "state": {
       "_model_module_version": "1.2.0",
       "_view_module_version": "1.2.0",
       "display": "inline-flex",
       "flex_flow": "row wrap",
       "justify_items": null,
       "object_fit": null,
       "object_position": null,
       "width": "100%"
      }
     },
     "e8be05d539494a55a5f30a73bdb34d62": {
      "model_module": "@jupyter-widgets/controls",
      "model_module_version": "1.5.0",
      "model_name": "DescriptionStyleModel",
      "state": {
       "_model_module_version": "1.5.0",
       "_view_module_version": "1.2.0",
       "description_width": ""
      }
     },
     "e92264f181de491b97e89b0d9f907a0b": {
      "model_module": "@jupyter-widgets/base",
      "model_module_version": "1.2.0",
      "model_name": "LayoutModel",
      "state": {
       "_model_module_version": "1.2.0",
       "_view_module_version": "1.2.0",
       "display": "inline-flex",
       "flex_flow": "row wrap",
       "justify_items": null,
       "object_fit": null,
       "object_position": null,
       "width": "100%"
      }
     },
     "e9c1964940c04c37a91d3c2bd05ab21e": {
      "model_module": "@jupyter-widgets/controls",
      "model_module_version": "1.5.0",
      "model_name": "DescriptionStyleModel",
      "state": {
       "_model_module_version": "1.5.0",
       "_view_module_version": "1.2.0",
       "description_width": ""
      }
     },
     "e9d073d7336a4bdaaa70bb1bec52682f": {
      "model_module": "@jupyter-widgets/base",
      "model_module_version": "1.2.0",
      "model_name": "LayoutModel",
      "state": {
       "_model_module_version": "1.2.0",
       "_view_module_version": "1.2.0",
       "display": "inline-flex",
       "flex_flow": "row wrap",
       "justify_items": null,
       "object_fit": null,
       "object_position": null,
       "width": "100%"
      }
     },
     "ea5a4c1bb13e4168a6b1765c521b82c5": {
      "model_module": "@jupyter-widgets/base",
      "model_module_version": "1.2.0",
      "model_name": "LayoutModel",
      "state": {
       "_model_module_version": "1.2.0",
       "_view_module_version": "1.2.0",
       "flex": "2",
       "justify_items": null,
       "object_fit": null,
       "object_position": null
      }
     },
     "eaa936f4d5c44d119efd6de9ee0cd992": {
      "model_module": "@jupyter-widgets/base",
      "model_module_version": "1.2.0",
      "model_name": "LayoutModel",
      "state": {
       "_model_module_version": "1.2.0",
       "_view_module_version": "1.2.0",
       "flex": "2",
       "justify_items": null,
       "object_fit": null,
       "object_position": null
      }
     },
     "eb1a1ddc114f4a46a63b633e4db2f873": {
      "model_module": "@jupyter-widgets/controls",
      "model_module_version": "1.5.0",
      "model_name": "FloatProgressModel",
      "state": {
       "_model_module_version": "1.5.0",
       "_view_module_version": "1.5.0",
       "bar_style": "success",
       "description": "5625/5625",
       "layout": "IPY_MODEL_6bdade2898ed440b8079f2bdc6783463",
       "max": 5625,
       "style": "IPY_MODEL_3705cb70f4d042eb97f467b35c527923",
       "value": 5625
      }
     },
     "eb57036fa4404b3db37a3eb9fee38c50": {
      "model_module": "@jupyter-widgets/controls",
      "model_module_version": "1.5.0",
      "model_name": "HTMLModel",
      "state": {
       "_model_module_version": "1.5.0",
       "_view_module_version": "1.5.0",
       "layout": "IPY_MODEL_fa26b44da44f4effa12af80de560faa4",
       "style": "IPY_MODEL_37125cd7ade9424dbd240bddb2d05ead",
       "value": " ETA: 00:00s - loss: 0.0313 - val_loss: 0.0304"
      }
     },
     "eb75c4e8e49c406ca63dccedce62e9d9": {
      "model_module": "@jupyter-widgets/controls",
      "model_module_version": "1.5.0",
      "model_name": "DescriptionStyleModel",
      "state": {
       "_model_module_version": "1.5.0",
       "_view_module_version": "1.2.0",
       "description_width": ""
      }
     },
     "ebacd50b5132480ba3d5db4c348fc9a1": {
      "model_module": "@jupyter-widgets/controls",
      "model_module_version": "1.5.0",
      "model_name": "ProgressStyleModel",
      "state": {
       "_model_module_version": "1.5.0",
       "_view_module_version": "1.2.0",
       "description_width": "initial"
      }
     },
     "ec3fce1c50c8484cac9f6e0455e45c58": {
      "model_module": "@jupyter-widgets/controls",
      "model_module_version": "1.5.0",
      "model_name": "HBoxModel",
      "state": {
       "_model_module_version": "1.5.0",
       "_view_module_version": "1.5.0",
       "children": [
        "IPY_MODEL_db2fb05fb7874f008b58502dbf43afae",
        "IPY_MODEL_d4c0fb7bcdc34761a2e1f608450de916"
       ],
       "layout": "IPY_MODEL_fc5fc059b2944beb92deb4e4312c7d11"
      }
     },
     "ecff0c75d90d4e29a91cc44d9544f677": {
      "model_module": "@jupyter-widgets/base",
      "model_module_version": "1.2.0",
      "model_name": "LayoutModel",
      "state": {
       "_model_module_version": "1.2.0",
       "_view_module_version": "1.2.0",
       "display": "inline-flex",
       "flex_flow": "row wrap",
       "justify_items": null,
       "object_fit": null,
       "object_position": null,
       "width": "100%"
      }
     },
     "ed8a545e4222455c8a50c3664285789b": {
      "model_module": "@jupyter-widgets/base",
      "model_module_version": "1.2.0",
      "model_name": "LayoutModel",
      "state": {
       "_model_module_version": "1.2.0",
       "_view_module_version": "1.2.0",
       "flex": "2",
       "justify_items": null,
       "object_fit": null,
       "object_position": null
      }
     },
     "ed928f4755d242529403cb6ea17290a1": {
      "model_module": "@jupyter-widgets/controls",
      "model_module_version": "1.5.0",
      "model_name": "ProgressStyleModel",
      "state": {
       "_model_module_version": "1.5.0",
       "_view_module_version": "1.2.0",
       "description_width": "initial"
      }
     },
     "edf593c4b05c4b27ac56dc0889ef17f3": {
      "model_module": "@jupyter-widgets/controls",
      "model_module_version": "1.5.0",
      "model_name": "FloatProgressModel",
      "state": {
       "_model_module_version": "1.5.0",
       "_view_module_version": "1.5.0",
       "bar_style": "success",
       "description": "5625/5625",
       "layout": "IPY_MODEL_0dfbb29f37cc4726b977f4dd01048046",
       "max": 5625,
       "style": "IPY_MODEL_ebacd50b5132480ba3d5db4c348fc9a1",
       "value": 5625
      }
     },
     "ee280fb485624f38ad65c952bb346923": {
      "model_module": "@jupyter-widgets/controls",
      "model_module_version": "1.5.0",
      "model_name": "FloatProgressModel",
      "state": {
       "_model_module_version": "1.5.0",
       "_view_module_version": "1.5.0",
       "bar_style": "danger",
       "description": "Training:   1%",
       "layout": "IPY_MODEL_fdaedfd5d6d44d25bcc46103d430adae",
       "style": "IPY_MODEL_ab02f66638a84121837bdc9746c2288a",
       "value": 1
      }
     },
     "eeac3137f05c4b029c215e5c6991d593": {
      "model_module": "@jupyter-widgets/base",
      "model_module_version": "1.2.0",
      "model_name": "LayoutModel",
      "state": {
       "_model_module_version": "1.2.0",
       "_view_module_version": "1.2.0",
       "display": "inline-flex",
       "flex_flow": "row wrap",
       "justify_items": null,
       "object_fit": null,
       "object_position": null,
       "width": "100%"
      }
     },
     "ef069b34a492446bb76e92a5f4c3fa10": {
      "model_module": "@jupyter-widgets/controls",
      "model_module_version": "1.5.0",
      "model_name": "FloatProgressModel",
      "state": {
       "_model_module_version": "1.5.0",
       "_view_module_version": "1.5.0",
       "bar_style": "success",
       "description": "5625/5625",
       "layout": "IPY_MODEL_76c8bec4ef90465fb16f03ebbffea852",
       "max": 5625,
       "style": "IPY_MODEL_9dd61a6803bf4135957bb7a55110aba8",
       "value": 5625
      }
     },
     "ef0b9608475f47978255f1c7c6b50a12": {
      "model_module": "@jupyter-widgets/controls",
      "model_module_version": "1.5.0",
      "model_name": "DescriptionStyleModel",
      "state": {
       "_model_module_version": "1.5.0",
       "_view_module_version": "1.2.0",
       "description_width": ""
      }
     },
     "f02dcfae10824c4da238421dd2bebd8e": {
      "model_module": "@jupyter-widgets/base",
      "model_module_version": "1.2.0",
      "model_name": "LayoutModel",
      "state": {
       "_model_module_version": "1.2.0",
       "_view_module_version": "1.2.0",
       "justify_items": null,
       "object_fit": null,
       "object_position": null
      }
     },
     "f0b616f9e4fc4577892bc32ce9496df6": {
      "model_module": "@jupyter-widgets/controls",
      "model_module_version": "1.5.0",
      "model_name": "DescriptionStyleModel",
      "state": {
       "_model_module_version": "1.5.0",
       "_view_module_version": "1.2.0",
       "description_width": ""
      }
     },
     "f101a73af0154ffeba66dd691c3672a6": {
      "model_module": "@jupyter-widgets/base",
      "model_module_version": "1.2.0",
      "model_name": "LayoutModel",
      "state": {
       "_model_module_version": "1.2.0",
       "_view_module_version": "1.2.0",
       "justify_items": null,
       "object_fit": null,
       "object_position": null
      }
     },
     "f139cc9253dc40e0802e0d8e16a78569": {
      "model_module": "@jupyter-widgets/base",
      "model_module_version": "1.2.0",
      "model_name": "LayoutModel",
      "state": {
       "_model_module_version": "1.2.0",
       "_view_module_version": "1.2.0",
       "display": "inline-flex",
       "flex_flow": "row wrap",
       "justify_items": null,
       "object_fit": null,
       "object_position": null,
       "width": "100%"
      }
     },
     "f156fd35cfd34d6bb766611e146a926e": {
      "model_module": "@jupyter-widgets/base",
      "model_module_version": "1.2.0",
      "model_name": "LayoutModel",
      "state": {
       "_model_module_version": "1.2.0",
       "_view_module_version": "1.2.0",
       "justify_items": null,
       "object_fit": null,
       "object_position": null
      }
     },
     "f1b07ebc75af49959ed85f037ffe1648": {
      "model_module": "@jupyter-widgets/base",
      "model_module_version": "1.2.0",
      "model_name": "LayoutModel",
      "state": {
       "_model_module_version": "1.2.0",
       "_view_module_version": "1.2.0",
       "justify_items": null,
       "object_fit": null,
       "object_position": null
      }
     },
     "f2f2ea8d233d468eb168542ce947db76": {
      "model_module": "@jupyter-widgets/controls",
      "model_module_version": "1.5.0",
      "model_name": "HTMLModel",
      "state": {
       "_model_module_version": "1.5.0",
       "_view_module_version": "1.5.0",
       "layout": "IPY_MODEL_d3fc2a888643429bbc04c5444b95c123",
       "style": "IPY_MODEL_505087348394424ea302c15b1c6b0b5f",
       "value": " ETA: 00:00s - loss: 0.0303 - val_loss: 0.0298"
      }
     },
     "f35891010cd3475c850caa7bf4a85e2b": {
      "model_module": "@jupyter-widgets/base",
      "model_module_version": "1.2.0",
      "model_name": "LayoutModel",
      "state": {
       "_model_module_version": "1.2.0",
       "_view_module_version": "1.2.0",
       "display": "inline-flex",
       "flex_flow": "row wrap",
       "justify_items": null,
       "object_fit": null,
       "object_position": null,
       "width": "100%"
      }
     },
     "f386ffc8eda74273ad9e5b4117842610": {
      "model_module": "@jupyter-widgets/controls",
      "model_module_version": "1.5.0",
      "model_name": "HBoxModel",
      "state": {
       "_model_module_version": "1.5.0",
       "_view_module_version": "1.5.0",
       "children": [
        "IPY_MODEL_fae60cb580b9475fbcd6b6ee61b8a907",
        "IPY_MODEL_9df03eedc1344ef280c3545d0b41a456"
       ],
       "layout": "IPY_MODEL_675bca971d814f168dfd8b8e09f071cd"
      }
     },
     "f393ca7d7d3142cfac93e2c6cd8db627": {
      "model_module": "@jupyter-widgets/controls",
      "model_module_version": "1.5.0",
      "model_name": "DescriptionStyleModel",
      "state": {
       "_model_module_version": "1.5.0",
       "_view_module_version": "1.2.0",
       "description_width": ""
      }
     },
     "f3be1db59a2d47e7bb5fc47dc6266f90": {
      "model_module": "@jupyter-widgets/base",
      "model_module_version": "1.2.0",
      "model_name": "LayoutModel",
      "state": {
       "_model_module_version": "1.2.0",
       "_view_module_version": "1.2.0",
       "display": "inline-flex",
       "flex_flow": "row wrap",
       "justify_items": null,
       "object_fit": null,
       "object_position": null,
       "width": "100%"
      }
     },
     "f3f898e27576497cb5ba005cf858cb4f": {
      "model_module": "@jupyter-widgets/base",
      "model_module_version": "1.2.0",
      "model_name": "LayoutModel",
      "state": {
       "_model_module_version": "1.2.0",
       "_view_module_version": "1.2.0",
       "display": "inline-flex",
       "flex_flow": "row wrap",
       "justify_items": null,
       "object_fit": null,
       "object_position": null,
       "width": "100%"
      }
     },
     "f405a0b7e5174b63ae4c26ce3618ab71": {
      "model_module": "@jupyter-widgets/controls",
      "model_module_version": "1.5.0",
      "model_name": "ProgressStyleModel",
      "state": {
       "_model_module_version": "1.5.0",
       "_view_module_version": "1.2.0",
       "description_width": "initial"
      }
     },
     "f49bd13781034803bbadb4393ca8aadc": {
      "model_module": "@jupyter-widgets/controls",
      "model_module_version": "1.5.0",
      "model_name": "FloatProgressModel",
      "state": {
       "_model_module_version": "1.5.0",
       "_view_module_version": "1.5.0",
       "bar_style": "success",
       "description": "5625/5625",
       "layout": "IPY_MODEL_ea5a4c1bb13e4168a6b1765c521b82c5",
       "max": 5625,
       "style": "IPY_MODEL_82e6f313870b429990c7e65a66d79778",
       "value": 5625
      }
     },
     "f4b296a010a4429fa84a4dd2dbc15374": {
      "model_module": "@jupyter-widgets/controls",
      "model_module_version": "1.5.0",
      "model_name": "ProgressStyleModel",
      "state": {
       "_model_module_version": "1.5.0",
       "_view_module_version": "1.2.0",
       "description_width": "initial"
      }
     },
     "f54b6e7addf24ca896dba691f3b2e69d": {
      "model_module": "@jupyter-widgets/controls",
      "model_module_version": "1.5.0",
      "model_name": "HBoxModel",
      "state": {
       "_model_module_version": "1.5.0",
       "_view_module_version": "1.5.0",
       "children": [
        "IPY_MODEL_08302a0188a843719e253856109bcac2",
        "IPY_MODEL_fb9755eef09343b08ca97905434d5e17"
       ],
       "layout": "IPY_MODEL_35521731430c42c18c9aaf80edc874ff"
      }
     },
     "f5aa95c70e294dbf8f50dc9f47f1610a": {
      "model_module": "@jupyter-widgets/base",
      "model_module_version": "1.2.0",
      "model_name": "LayoutModel",
      "state": {
       "_model_module_version": "1.2.0",
       "_view_module_version": "1.2.0",
       "display": "inline-flex",
       "flex_flow": "row wrap",
       "justify_items": null,
       "object_fit": null,
       "object_position": null,
       "width": "100%"
      }
     },
     "f6386233375647838b1fc008ee8c742f": {
      "model_module": "@jupyter-widgets/controls",
      "model_module_version": "1.5.0",
      "model_name": "FloatProgressModel",
      "state": {
       "_model_module_version": "1.5.0",
       "_view_module_version": "1.5.0",
       "bar_style": "success",
       "description": "5625/5625",
       "layout": "IPY_MODEL_c9c51366962b4bd8843dfc24d03a93bb",
       "max": 5625,
       "style": "IPY_MODEL_8a4a8e9821b3431282a328eb49697d03",
       "value": 5625
      }
     },
     "f665d95870a24c1b87f8f62dfca8825d": {
      "model_module": "@jupyter-widgets/controls",
      "model_module_version": "1.5.0",
      "model_name": "HBoxModel",
      "state": {
       "_model_module_version": "1.5.0",
       "_view_module_version": "1.5.0",
       "children": [
        "IPY_MODEL_6425f27c7fee47b6821eff078a485eee",
        "IPY_MODEL_9951c332b08c4027a90a4ed4055d3948"
       ],
       "layout": "IPY_MODEL_bb6ac68bbcc146ab99bd847189e834eb"
      }
     },
     "f731def2fdbd4c789243203255f166a4": {
      "model_module": "@jupyter-widgets/base",
      "model_module_version": "1.2.0",
      "model_name": "LayoutModel",
      "state": {
       "_model_module_version": "1.2.0",
       "_view_module_version": "1.2.0",
       "flex": "2",
       "justify_items": null,
       "object_fit": null,
       "object_position": null
      }
     },
     "f856870126534fb99318cc29b82d33d6": {
      "model_module": "@jupyter-widgets/base",
      "model_module_version": "1.2.0",
      "model_name": "LayoutModel",
      "state": {
       "_model_module_version": "1.2.0",
       "_view_module_version": "1.2.0",
       "flex": "2",
       "justify_items": null,
       "object_fit": null,
       "object_position": null
      }
     },
     "f891ef31df694067bea9bc2419dc31a8": {
      "model_module": "@jupyter-widgets/controls",
      "model_module_version": "1.5.0",
      "model_name": "HBoxModel",
      "state": {
       "_model_module_version": "1.5.0",
       "_view_module_version": "1.5.0",
       "children": [
        "IPY_MODEL_1f7a7f127457454185d6bbfa4730fe18",
        "IPY_MODEL_8f09e610fd8740c9afe96f9aff2ee345"
       ],
       "layout": "IPY_MODEL_bfa2c03aa2c743c7a0f0ea1a162313d7"
      }
     },
     "f895ee89002b4484b7e15ebe02455c58": {
      "model_module": "@jupyter-widgets/controls",
      "model_module_version": "1.5.0",
      "model_name": "HTMLModel",
      "state": {
       "_model_module_version": "1.5.0",
       "_view_module_version": "1.5.0",
       "layout": "IPY_MODEL_0fecbdf22f7444dbacacdc94759badb1",
       "style": "IPY_MODEL_d877808952d24322ba123c0a1b61268f",
       "value": " ETA: 00:00s - loss: 0.0002 - mse: 0.0002 - val_loss: 0.0003 - val_mse: 0.0003"
      }
     },
     "f897341538734400b75a5599dcc3ec1a": {
      "model_module": "@jupyter-widgets/base",
      "model_module_version": "1.2.0",
      "model_name": "LayoutModel",
      "state": {
       "_model_module_version": "1.2.0",
       "_view_module_version": "1.2.0",
       "justify_items": null,
       "object_fit": null,
       "object_position": null
      }
     },
     "f8c054a02aa94a28bdfbe2c81ca8a95a": {
      "model_module": "@jupyter-widgets/base",
      "model_module_version": "1.2.0",
      "model_name": "LayoutModel",
      "state": {
       "_model_module_version": "1.2.0",
       "_view_module_version": "1.2.0",
       "justify_items": null,
       "object_fit": null,
       "object_position": null
      }
     },
     "f8daab6630204ee6b84aa05175af4fd8": {
      "model_module": "@jupyter-widgets/controls",
      "model_module_version": "1.5.0",
      "model_name": "HBoxModel",
      "state": {
       "_model_module_version": "1.5.0",
       "_view_module_version": "1.5.0",
       "children": [
        "IPY_MODEL_a7ebb169bc124cfba5e16937cc93e337",
        "IPY_MODEL_31be6cb34d6d464c83e6238c61dff425"
       ],
       "layout": "IPY_MODEL_a4975af89f3d4101aedf86406f0d71dd"
      }
     },
     "f930e027856e4c8faf6172b4b39e2a4e": {
      "model_module": "@jupyter-widgets/base",
      "model_module_version": "1.2.0",
      "model_name": "LayoutModel",
      "state": {
       "_model_module_version": "1.2.0",
       "_view_module_version": "1.2.0",
       "justify_items": null,
       "object_fit": null,
       "object_position": null
      }
     },
     "f93847a4d60c4905b85cd054a1ff866c": {
      "model_module": "@jupyter-widgets/controls",
      "model_module_version": "1.5.0",
      "model_name": "HBoxModel",
      "state": {
       "_model_module_version": "1.5.0",
       "_view_module_version": "1.5.0",
       "children": [
        "IPY_MODEL_b98a01f8e1f54832b6be390ef7282fce",
        "IPY_MODEL_60aa6d48ea3c456baf004d5758df8690"
       ],
       "layout": "IPY_MODEL_13a0033c975a4189ac405f85acf1c71f"
      }
     },
     "f9c36af073e54353b3988bbc98f17e24": {
      "model_module": "@jupyter-widgets/controls",
      "model_module_version": "1.5.0",
      "model_name": "DescriptionStyleModel",
      "state": {
       "_model_module_version": "1.5.0",
       "_view_module_version": "1.2.0",
       "description_width": ""
      }
     },
     "fa26b44da44f4effa12af80de560faa4": {
      "model_module": "@jupyter-widgets/base",
      "model_module_version": "1.2.0",
      "model_name": "LayoutModel",
      "state": {
       "_model_module_version": "1.2.0",
       "_view_module_version": "1.2.0",
       "justify_items": null,
       "object_fit": null,
       "object_position": null
      }
     },
     "fa53c9b26046491482422eba4921208d": {
      "model_module": "@jupyter-widgets/controls",
      "model_module_version": "1.5.0",
      "model_name": "HTMLModel",
      "state": {
       "_model_module_version": "1.5.0",
       "_view_module_version": "1.5.0",
       "layout": "IPY_MODEL_3eae06cdf9334d8d956a99719c946409",
       "style": "IPY_MODEL_be0f136086074f82b3d6e051bdf8e8ae",
       "value": " ETA: 00:00s - loss: 0.0301"
      }
     },
     "faa861b4700440eba2c2a72c269363a9": {
      "model_module": "@jupyter-widgets/base",
      "model_module_version": "1.2.0",
      "model_name": "LayoutModel",
      "state": {
       "_model_module_version": "1.2.0",
       "_view_module_version": "1.2.0",
       "justify_items": null,
       "object_fit": null,
       "object_position": null
      }
     },
     "fab26eab311a460eaf843da84cc1b4ae": {
      "model_module": "@jupyter-widgets/base",
      "model_module_version": "1.2.0",
      "model_name": "LayoutModel",
      "state": {
       "_model_module_version": "1.2.0",
       "_view_module_version": "1.2.0",
       "display": "inline-flex",
       "flex_flow": "row wrap",
       "justify_items": null,
       "object_fit": null,
       "object_position": null,
       "width": "100%"
      }
     },
     "fac6cd36ee634d1cbc758eba004d7e16": {
      "model_module": "@jupyter-widgets/controls",
      "model_module_version": "1.5.0",
      "model_name": "ProgressStyleModel",
      "state": {
       "_model_module_version": "1.5.0",
       "_view_module_version": "1.2.0",
       "description_width": "initial"
      }
     },
     "fadf4e6de6b444d39597f85391eca027": {
      "model_module": "@jupyter-widgets/base",
      "model_module_version": "1.2.0",
      "model_name": "LayoutModel",
      "state": {
       "_model_module_version": "1.2.0",
       "_view_module_version": "1.2.0",
       "justify_items": null,
       "object_fit": null,
       "object_position": null
      }
     },
     "fae60cb580b9475fbcd6b6ee61b8a907": {
      "model_module": "@jupyter-widgets/controls",
      "model_module_version": "1.5.0",
      "model_name": "FloatProgressModel",
      "state": {
       "_model_module_version": "1.5.0",
       "_view_module_version": "1.5.0",
       "bar_style": "success",
       "description": "5625/5625",
       "layout": "IPY_MODEL_798cba6efbcd4ca098bc7f996e366b38",
       "max": 5625,
       "style": "IPY_MODEL_71033045ff674d5a8d8cb9f530fe6d6e",
       "value": 5625
      }
     },
     "fb9755eef09343b08ca97905434d5e17": {
      "model_module": "@jupyter-widgets/controls",
      "model_module_version": "1.5.0",
      "model_name": "HTMLModel",
      "state": {
       "_model_module_version": "1.5.0",
       "_view_module_version": "1.5.0",
       "layout": "IPY_MODEL_285877b40898467498dd8ee02853e93a",
       "style": "IPY_MODEL_e2273ee4654a4f6cb13aa78e5097e12a",
       "value": " 9/100 ETA: 43:07:53s,  1706.31s/epochs"
      }
     },
     "fbd8286da126496f89476c9def13c7dc": {
      "model_module": "@jupyter-widgets/base",
      "model_module_version": "1.2.0",
      "model_name": "LayoutModel",
      "state": {
       "_model_module_version": "1.2.0",
       "_view_module_version": "1.2.0",
       "flex": "2",
       "justify_items": null,
       "object_fit": null,
       "object_position": null
      }
     },
     "fc37f6fc4a9843fc8de81fb8157679b1": {
      "model_module": "@jupyter-widgets/controls",
      "model_module_version": "1.5.0",
      "model_name": "FloatProgressModel",
      "state": {
       "_model_module_version": "1.5.0",
       "_view_module_version": "1.5.0",
       "bar_style": "success",
       "description": "5625/5625",
       "layout": "IPY_MODEL_787d83f1f199472c8c409f887d3bff32",
       "max": 5625,
       "style": "IPY_MODEL_727ff20bfaa44be4b8e58ac1fb251fcc",
       "value": 5625
      }
     },
     "fc5fc059b2944beb92deb4e4312c7d11": {
      "model_module": "@jupyter-widgets/base",
      "model_module_version": "1.2.0",
      "model_name": "LayoutModel",
      "state": {
       "_model_module_version": "1.2.0",
       "_view_module_version": "1.2.0",
       "display": "inline-flex",
       "flex_flow": "row wrap",
       "justify_items": null,
       "object_fit": null,
       "object_position": null,
       "width": "100%"
      }
     },
     "fc8433ae5b0040a68c5ead3f69a8eeed": {
      "model_module": "@jupyter-widgets/base",
      "model_module_version": "1.2.0",
      "model_name": "LayoutModel",
      "state": {
       "_model_module_version": "1.2.0",
       "_view_module_version": "1.2.0",
       "flex": "2",
       "justify_items": null,
       "object_fit": null,
       "object_position": null
      }
     },
     "fc902ea8cf1747b6a53d5e86d0846c34": {
      "model_module": "@jupyter-widgets/controls",
      "model_module_version": "1.5.0",
      "model_name": "HBoxModel",
      "state": {
       "_model_module_version": "1.5.0",
       "_view_module_version": "1.5.0",
       "children": [
        "IPY_MODEL_fc37f6fc4a9843fc8de81fb8157679b1",
        "IPY_MODEL_acf7a1d1dee44df48d4975c08dbc7022"
       ],
       "layout": "IPY_MODEL_0cc838b9be9f474aa8bb230612da61d1"
      }
     },
     "fcda9ddc621c4a97b33ef01d3f400570": {
      "model_module": "@jupyter-widgets/controls",
      "model_module_version": "1.5.0",
      "model_name": "HTMLModel",
      "state": {
       "_model_module_version": "1.5.0",
       "_view_module_version": "1.5.0",
       "layout": "IPY_MODEL_d51f414b16764afcab88be62acfb1a60",
       "style": "IPY_MODEL_7eb02aa61b5d4dee8960aa7f796d1f58",
       "value": " ETA: 00:00s - loss: 0.0001 - val_loss: 0.0001"
      }
     },
     "fd3fbacbce4e44bb88f78a4c4031eec2": {
      "model_module": "@jupyter-widgets/controls",
      "model_module_version": "1.5.0",
      "model_name": "HTMLModel",
      "state": {
       "_model_module_version": "1.5.0",
       "_view_module_version": "1.5.0",
       "layout": "IPY_MODEL_960ecb8b5908423e98819d4ec3835248",
       "style": "IPY_MODEL_e5fbee96fdbf49aeaedfe6c44b811a6b",
       "value": " ETA: 00:00s - loss: 0.0331 - val_loss: 0.0309"
      }
     },
     "fdaedfd5d6d44d25bcc46103d430adae": {
      "model_module": "@jupyter-widgets/base",
      "model_module_version": "1.2.0",
      "model_name": "LayoutModel",
      "state": {
       "_model_module_version": "1.2.0",
       "_view_module_version": "1.2.0",
       "flex": "2",
       "justify_items": null,
       "object_fit": null,
       "object_position": null
      }
     },
     "fe87419dc3bf4b7a98256dee113f2d18": {
      "model_module": "@jupyter-widgets/controls",
      "model_module_version": "1.5.0",
      "model_name": "HBoxModel",
      "state": {
       "_model_module_version": "1.5.0",
       "_view_module_version": "1.5.0",
       "children": [
        "IPY_MODEL_b32e951f6c0e4090b54ca479d7548374",
        "IPY_MODEL_d1cf39f2de384774aba786091ee3d321"
       ],
       "layout": "IPY_MODEL_7d446e295ea54dd4bfd459a5209c6156"
      }
     },
     "fee085747d5246f6b2c33025a9ee893f": {
      "model_module": "@jupyter-widgets/controls",
      "model_module_version": "1.5.0",
      "model_name": "FloatProgressModel",
      "state": {
       "_model_module_version": "1.5.0",
       "_view_module_version": "1.5.0",
       "bar_style": "success",
       "description": "5625/5625",
       "layout": "IPY_MODEL_bc2fb35484c849fba94db3d1de041587",
       "max": 5625,
       "style": "IPY_MODEL_7d611400b8894e7a8b9d0621d8397596",
       "value": 5625
      }
     },
     "ff520c50599d4fd5a505c6aee15d7a16": {
      "model_module": "@jupyter-widgets/base",
      "model_module_version": "1.2.0",
      "model_name": "LayoutModel",
      "state": {
       "_model_module_version": "1.2.0",
       "_view_module_version": "1.2.0",
       "display": "inline-flex",
       "flex_flow": "row wrap",
       "justify_items": null,
       "object_fit": null,
       "object_position": null,
       "width": "100%"
      }
     },
     "ffce55e4829e4dd88ca7e8cc73fd5354": {
      "model_module": "@jupyter-widgets/base",
      "model_module_version": "1.2.0",
      "model_name": "LayoutModel",
      "state": {
       "_model_module_version": "1.2.0",
       "_view_module_version": "1.2.0",
       "display": "inline-flex",
       "flex_flow": "row wrap",
       "justify_items": null,
       "object_fit": null,
       "object_position": null,
       "width": "100%"
      }
     },
     "fff7ae4b248840788cecd27ebfae8743": {
      "model_module": "@jupyter-widgets/base",
      "model_module_version": "1.2.0",
      "model_name": "LayoutModel",
      "state": {
       "_model_module_version": "1.2.0",
       "_view_module_version": "1.2.0",
       "display": "inline-flex",
       "flex_flow": "row wrap",
       "justify_items": null,
       "object_fit": null,
       "object_position": null,
       "width": "100%"
      }
     }
    },
    "version_major": 2,
    "version_minor": 0
   }
  }
 },
 "nbformat": 4,
 "nbformat_minor": 2
}
