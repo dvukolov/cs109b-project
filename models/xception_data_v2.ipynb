{
 "cells": [
  {
   "cell_type": "markdown",
   "metadata": {},
   "source": [
    "Trust the notebook to see the training progress."
   ]
  },
  {
   "cell_type": "code",
   "execution_count": 1,
   "metadata": {},
   "outputs": [],
   "source": [
    "import pickle\n",
    "import numpy as np\n",
    "from sklearn.preprocessing import MinMaxScaler\n",
    "\n",
    "import tensorflow as tf\n",
    "from tensorflow.keras.callbacks import EarlyStopping, ModelCheckpoint\n",
    "from tensorflow.keras.optimizers import Adam\n",
    "from tensorflow_addons.callbacks import TQDMProgressBar\n",
    "\n",
    "%run xception.ipynb"
   ]
  },
  {
   "cell_type": "code",
   "execution_count": 2,
   "metadata": {},
   "outputs": [],
   "source": [
    "# Define the paths\n",
    "dataset = \"../data/data_v2.npz\"\n",
    "modelpath = \"xception_data_v2.tf\"\n",
    "scalerpath = \"xception_data_v2.scaler\"\n",
    "\n",
    "# Load the data\n",
    "with np.load(dataset) as data:\n",
    "    image = data[\"img\"]\n",
    "    label = data[\"label\"]"
   ]
  },
  {
   "cell_type": "code",
   "execution_count": 3,
   "metadata": {},
   "outputs": [],
   "source": [
    "# Use noise unscaled images as input\n",
    "X = image[..., np.newaxis]\n",
    "input_shape = X.shape[1:]\n",
    "\n",
    "# Scale the labels between -1 and 1 using the full dataset. We know the ranges of generated labels.\n",
    "scaler = MinMaxScaler(feature_range=(-1, 1))\n",
    "y = scaler.fit_transform(label)\n",
    "output_shape = y.shape[1:]"
   ]
  },
  {
   "cell_type": "code",
   "execution_count": 5,
   "metadata": {
    "scrolled": true
   },
   "outputs": [
    {
     "name": "stdout",
     "output_type": "stream",
     "text": [
      "Model: \"model\"\n",
      "__________________________________________________________________________________________________\n",
      "Layer (type)                    Output Shape         Param #     Connected to                     \n",
      "==================================================================================================\n",
      "input_1 (InputLayer)            [(None, 64, 64, 1)]  0                                            \n",
      "__________________________________________________________________________________________________\n",
      "normalization (Normalization)   (None, 64, 64, 1)    3           input_1[0][0]                    \n",
      "__________________________________________________________________________________________________\n",
      "conv2d (Conv2D)                 (None, 32, 32, 16)   416         normalization[0][0]              \n",
      "__________________________________________________________________________________________________\n",
      "separable_conv2d (SeparableConv (None, 32, 32, 64)   1232        conv2d[0][0]                     \n",
      "__________________________________________________________________________________________________\n",
      "separable_conv2d_1 (SeparableCo (None, 32, 32, 64)   4736        separable_conv2d[0][0]           \n",
      "__________________________________________________________________________________________________\n",
      "conv2d_1 (Conv2D)               (None, 32, 32, 64)   1088        conv2d[0][0]                     \n",
      "__________________________________________________________________________________________________\n",
      "add (Add)                       (None, 32, 32, 64)   0           separable_conv2d_1[0][0]         \n",
      "                                                                 conv2d_1[0][0]                   \n",
      "__________________________________________________________________________________________________\n",
      "separable_conv2d_2 (SeparableCo (None, 32, 32, 64)   4736        add[0][0]                        \n",
      "__________________________________________________________________________________________________\n",
      "separable_conv2d_3 (SeparableCo (None, 32, 32, 64)   4736        separable_conv2d_2[0][0]         \n",
      "__________________________________________________________________________________________________\n",
      "add_1 (Add)                     (None, 32, 32, 64)   0           separable_conv2d_3[0][0]         \n",
      "                                                                 add[0][0]                        \n",
      "__________________________________________________________________________________________________\n",
      "separable_conv2d_4 (SeparableCo (None, 32, 32, 64)   4736        add_1[0][0]                      \n",
      "__________________________________________________________________________________________________\n",
      "separable_conv2d_5 (SeparableCo (None, 32, 32, 64)   4736        separable_conv2d_4[0][0]         \n",
      "__________________________________________________________________________________________________\n",
      "add_2 (Add)                     (None, 32, 32, 64)   0           separable_conv2d_5[0][0]         \n",
      "                                                                 add_1[0][0]                      \n",
      "__________________________________________________________________________________________________\n",
      "separable_conv2d_6 (SeparableCo (None, 32, 32, 64)   4736        add_2[0][0]                      \n",
      "__________________________________________________________________________________________________\n",
      "separable_conv2d_7 (SeparableCo (None, 32, 32, 64)   4736        separable_conv2d_6[0][0]         \n",
      "__________________________________________________________________________________________________\n",
      "add_3 (Add)                     (None, 32, 32, 64)   0           separable_conv2d_7[0][0]         \n",
      "                                                                 add_2[0][0]                      \n",
      "__________________________________________________________________________________________________\n",
      "separable_conv2d_8 (SeparableCo (None, 32, 32, 64)   4736        add_3[0][0]                      \n",
      "__________________________________________________________________________________________________\n",
      "separable_conv2d_9 (SeparableCo (None, 32, 32, 64)   4736        separable_conv2d_8[0][0]         \n",
      "__________________________________________________________________________________________________\n",
      "add_4 (Add)                     (None, 32, 32, 64)   0           separable_conv2d_9[0][0]         \n",
      "                                                                 add_3[0][0]                      \n",
      "__________________________________________________________________________________________________\n",
      "separable_conv2d_10 (SeparableC (None, 32, 32, 64)   4736        add_4[0][0]                      \n",
      "__________________________________________________________________________________________________\n",
      "separable_conv2d_11 (SeparableC (None, 32, 32, 64)   4736        separable_conv2d_10[0][0]        \n",
      "__________________________________________________________________________________________________\n",
      "add_5 (Add)                     (None, 32, 32, 64)   0           separable_conv2d_11[0][0]        \n",
      "                                                                 add_4[0][0]                      \n",
      "__________________________________________________________________________________________________\n",
      "separable_conv2d_12 (SeparableC (None, 32, 32, 64)   4736        add_5[0][0]                      \n",
      "__________________________________________________________________________________________________\n",
      "separable_conv2d_13 (SeparableC (None, 32, 32, 64)   4736        separable_conv2d_12[0][0]        \n",
      "__________________________________________________________________________________________________\n",
      "add_6 (Add)                     (None, 32, 32, 64)   0           separable_conv2d_13[0][0]        \n",
      "                                                                 add_5[0][0]                      \n",
      "__________________________________________________________________________________________________\n",
      "separable_conv2d_14 (SeparableC (None, 32, 32, 64)   4736        add_6[0][0]                      \n",
      "__________________________________________________________________________________________________\n",
      "separable_conv2d_15 (SeparableC (None, 32, 32, 64)   4736        separable_conv2d_14[0][0]        \n",
      "__________________________________________________________________________________________________\n",
      "add_7 (Add)                     (None, 32, 32, 64)   0           separable_conv2d_15[0][0]        \n",
      "                                                                 add_6[0][0]                      \n",
      "__________________________________________________________________________________________________\n",
      "separable_conv2d_16 (SeparableC (None, 32, 32, 128)  8896        add_7[0][0]                      \n",
      "__________________________________________________________________________________________________\n",
      "separable_conv2d_17 (SeparableC (None, 32, 32, 128)  17664       separable_conv2d_16[0][0]        \n",
      "__________________________________________________________________________________________________\n",
      "max_pooling2d (MaxPooling2D)    (None, 16, 16, 128)  0           separable_conv2d_17[0][0]        \n",
      "__________________________________________________________________________________________________\n",
      "conv2d_2 (Conv2D)               (None, 16, 16, 128)  8320        add_7[0][0]                      \n",
      "__________________________________________________________________________________________________\n",
      "add_8 (Add)                     (None, 16, 16, 128)  0           max_pooling2d[0][0]              \n",
      "                                                                 conv2d_2[0][0]                   \n",
      "__________________________________________________________________________________________________\n",
      "global_average_pooling2d (Globa (None, 128)          0           add_8[0][0]                      \n",
      "__________________________________________________________________________________________________\n",
      "dense (Dense)                   (None, 5)            645         global_average_pooling2d[0][0]   \n",
      "==================================================================================================\n",
      "Total params: 109,304\n",
      "Trainable params: 109,301\n",
      "Non-trainable params: 3\n",
      "__________________________________________________________________________________________________\n"
     ]
    }
   ],
   "source": [
    "# Build an Xception model\n",
    "model = build_xception_model(\n",
    "    input_shape, output_shape, conv2d_num_filters=16, sep_num_filters=64, num_residual_blocks=8,\n",
    ")\n",
    "model.compile(optimizer=\"adam\", loss=\"mse\")\n",
    "\n",
    "# Adapt the normalization layer to the data\n",
    "adapt_model(model, X)\n",
    "model.summary()"
   ]
  },
  {
   "cell_type": "code",
   "execution_count": 6,
   "metadata": {
    "scrolled": true
   },
   "outputs": [
    {
     "data": {
      "application/vnd.jupyter.widget-view+json": {
       "model_id": "a8da79a606f14bbd844d6a3674a5a380",
       "version_major": 2,
       "version_minor": 0
      },
      "text/plain": [
       "HBox(children=(FloatProgress(value=0.0, description='Training', layout=Layout(flex='2'), max=1000.0, style=Pro…"
      ]
     },
     "metadata": {},
     "output_type": "display_data"
    },
    {
     "name": "stdout",
     "output_type": "stream",
     "text": [
      "Epoch 1/1000\n"
     ]
    },
    {
     "data": {
      "application/vnd.jupyter.widget-view+json": {
       "model_id": "234a4f443fd245e595d80678c9375ed0",
       "version_major": 2,
       "version_minor": 0
      },
      "text/plain": [
       "HBox(children=(FloatProgress(value=0.0, layout=Layout(flex='2'), max=5625.0), HTML(value='')), layout=Layout(d…"
      ]
     },
     "metadata": {},
     "output_type": "display_data"
    },
    {
     "name": "stdout",
     "output_type": "stream",
     "text": [
      "\n",
      "WARNING:tensorflow:From /usr/local/lib/python3.6/dist-packages/tensorflow_core/python/ops/resource_variable_ops.py:1786: calling BaseResourceVariable.__init__ (from tensorflow.python.ops.resource_variable_ops) with constraint is deprecated and will be removed in a future version.\n",
      "Instructions for updating:\n",
      "If using Keras pass *_constraint arguments to layers.\n",
      "INFO:tensorflow:Assets written to: xception_data_v2.tf/assets\n",
      "Epoch 2/1000\n"
     ]
    },
    {
     "data": {
      "application/vnd.jupyter.widget-view+json": {
       "model_id": "e5465ac5ccff46b5920b2656890d0811",
       "version_major": 2,
       "version_minor": 0
      },
      "text/plain": [
       "HBox(children=(FloatProgress(value=0.0, layout=Layout(flex='2'), max=5625.0), HTML(value='')), layout=Layout(d…"
      ]
     },
     "metadata": {},
     "output_type": "display_data"
    },
    {
     "name": "stdout",
     "output_type": "stream",
     "text": [
      "\n",
      "Epoch 3/1000\n"
     ]
    },
    {
     "data": {
      "application/vnd.jupyter.widget-view+json": {
       "model_id": "f135dc7596bf4909b3e4603bdf211edd",
       "version_major": 2,
       "version_minor": 0
      },
      "text/plain": [
       "HBox(children=(FloatProgress(value=0.0, layout=Layout(flex='2'), max=5625.0), HTML(value='')), layout=Layout(d…"
      ]
     },
     "metadata": {},
     "output_type": "display_data"
    },
    {
     "name": "stdout",
     "output_type": "stream",
     "text": [
      "\n",
      "INFO:tensorflow:Assets written to: xception_data_v2.tf/assets\n",
      "Epoch 4/1000\n"
     ]
    },
    {
     "data": {
      "application/vnd.jupyter.widget-view+json": {
       "model_id": "bdb73980af4a485f91256c12e842e406",
       "version_major": 2,
       "version_minor": 0
      },
      "text/plain": [
       "HBox(children=(FloatProgress(value=0.0, layout=Layout(flex='2'), max=5625.0), HTML(value='')), layout=Layout(d…"
      ]
     },
     "metadata": {},
     "output_type": "display_data"
    },
    {
     "name": "stdout",
     "output_type": "stream",
     "text": [
      "\n",
      "Epoch 5/1000\n"
     ]
    },
    {
     "data": {
      "application/vnd.jupyter.widget-view+json": {
       "model_id": "e68cd17ff61d4f3fa4a14e0eea9bbc6d",
       "version_major": 2,
       "version_minor": 0
      },
      "text/plain": [
       "HBox(children=(FloatProgress(value=0.0, layout=Layout(flex='2'), max=5625.0), HTML(value='')), layout=Layout(d…"
      ]
     },
     "metadata": {},
     "output_type": "display_data"
    },
    {
     "name": "stdout",
     "output_type": "stream",
     "text": [
      "\n",
      "INFO:tensorflow:Assets written to: xception_data_v2.tf/assets\n",
      "Epoch 6/1000\n"
     ]
    },
    {
     "data": {
      "application/vnd.jupyter.widget-view+json": {
       "model_id": "dac0ba5211f548d2aa6d9ca65a437dfa",
       "version_major": 2,
       "version_minor": 0
      },
      "text/plain": [
       "HBox(children=(FloatProgress(value=0.0, layout=Layout(flex='2'), max=5625.0), HTML(value='')), layout=Layout(d…"
      ]
     },
     "metadata": {},
     "output_type": "display_data"
    },
    {
     "name": "stdout",
     "output_type": "stream",
     "text": [
      "\n",
      "INFO:tensorflow:Assets written to: xception_data_v2.tf/assets\n",
      "Epoch 7/1000\n"
     ]
    },
    {
     "data": {
      "application/vnd.jupyter.widget-view+json": {
       "model_id": "3f10e6ddac234d09b13811ebc492efd9",
       "version_major": 2,
       "version_minor": 0
      },
      "text/plain": [
       "HBox(children=(FloatProgress(value=0.0, layout=Layout(flex='2'), max=5625.0), HTML(value='')), layout=Layout(d…"
      ]
     },
     "metadata": {},
     "output_type": "display_data"
    },
    {
     "name": "stdout",
     "output_type": "stream",
     "text": [
      "\n",
      "Epoch 8/1000\n"
     ]
    },
    {
     "data": {
      "application/vnd.jupyter.widget-view+json": {
       "model_id": "ddb21375ff8f4da6b72e1be96a506cc4",
       "version_major": 2,
       "version_minor": 0
      },
      "text/plain": [
       "HBox(children=(FloatProgress(value=0.0, layout=Layout(flex='2'), max=5625.0), HTML(value='')), layout=Layout(d…"
      ]
     },
     "metadata": {},
     "output_type": "display_data"
    },
    {
     "name": "stdout",
     "output_type": "stream",
     "text": [
      "\n",
      "Epoch 9/1000\n"
     ]
    },
    {
     "data": {
      "application/vnd.jupyter.widget-view+json": {
       "model_id": "1ded7dfe959342f9b84619658e6057ce",
       "version_major": 2,
       "version_minor": 0
      },
      "text/plain": [
       "HBox(children=(FloatProgress(value=0.0, layout=Layout(flex='2'), max=5625.0), HTML(value='')), layout=Layout(d…"
      ]
     },
     "metadata": {},
     "output_type": "display_data"
    },
    {
     "name": "stdout",
     "output_type": "stream",
     "text": [
      "\n",
      "Epoch 10/1000\n"
     ]
    },
    {
     "data": {
      "application/vnd.jupyter.widget-view+json": {
       "model_id": "7071375356f94dacb949773fa529b74c",
       "version_major": 2,
       "version_minor": 0
      },
      "text/plain": [
       "HBox(children=(FloatProgress(value=0.0, layout=Layout(flex='2'), max=5625.0), HTML(value='')), layout=Layout(d…"
      ]
     },
     "metadata": {},
     "output_type": "display_data"
    },
    {
     "name": "stdout",
     "output_type": "stream",
     "text": [
      "\n",
      "Epoch 11/1000\n"
     ]
    },
    {
     "data": {
      "application/vnd.jupyter.widget-view+json": {
       "model_id": "7b86f882efe44010911de6c7541c1979",
       "version_major": 2,
       "version_minor": 0
      },
      "text/plain": [
       "HBox(children=(FloatProgress(value=0.0, layout=Layout(flex='2'), max=5625.0), HTML(value='')), layout=Layout(d…"
      ]
     },
     "metadata": {},
     "output_type": "display_data"
    },
    {
     "name": "stdout",
     "output_type": "stream",
     "text": [
      "\n",
      "Epoch 12/1000\n"
     ]
    },
    {
     "data": {
      "application/vnd.jupyter.widget-view+json": {
       "model_id": "19ba3aaa970b4c1194aec95f1d9e2ad8",
       "version_major": 2,
       "version_minor": 0
      },
      "text/plain": [
       "HBox(children=(FloatProgress(value=0.0, layout=Layout(flex='2'), max=5625.0), HTML(value='')), layout=Layout(d…"
      ]
     },
     "metadata": {},
     "output_type": "display_data"
    },
    {
     "name": "stdout",
     "output_type": "stream",
     "text": [
      "\n",
      "Epoch 13/1000\n"
     ]
    },
    {
     "data": {
      "application/vnd.jupyter.widget-view+json": {
       "model_id": "0b3e0e3bd2434ee3adc7d2d29bb0f01a",
       "version_major": 2,
       "version_minor": 0
      },
      "text/plain": [
       "HBox(children=(FloatProgress(value=0.0, layout=Layout(flex='2'), max=5625.0), HTML(value='')), layout=Layout(d…"
      ]
     },
     "metadata": {},
     "output_type": "display_data"
    },
    {
     "name": "stdout",
     "output_type": "stream",
     "text": [
      "\n",
      "Epoch 14/1000\n"
     ]
    },
    {
     "data": {
      "application/vnd.jupyter.widget-view+json": {
       "model_id": "0a3361000bcb4643b93ec29598a3f394",
       "version_major": 2,
       "version_minor": 0
      },
      "text/plain": [
       "HBox(children=(FloatProgress(value=0.0, layout=Layout(flex='2'), max=5625.0), HTML(value='')), layout=Layout(d…"
      ]
     },
     "metadata": {},
     "output_type": "display_data"
    },
    {
     "name": "stdout",
     "output_type": "stream",
     "text": [
      "\n",
      "Epoch 15/1000\n"
     ]
    },
    {
     "data": {
      "application/vnd.jupyter.widget-view+json": {
       "model_id": "6f04d86312cc4094a1035bb9da9f3856",
       "version_major": 2,
       "version_minor": 0
      },
      "text/plain": [
       "HBox(children=(FloatProgress(value=0.0, layout=Layout(flex='2'), max=5625.0), HTML(value='')), layout=Layout(d…"
      ]
     },
     "metadata": {},
     "output_type": "display_data"
    },
    {
     "name": "stdout",
     "output_type": "stream",
     "text": [
      "\n",
      "INFO:tensorflow:Assets written to: xception_data_v2.tf/assets\n",
      "Epoch 16/1000\n"
     ]
    },
    {
     "data": {
      "application/vnd.jupyter.widget-view+json": {
       "model_id": "20445226336f4ea8b68b32b99b1cfc98",
       "version_major": 2,
       "version_minor": 0
      },
      "text/plain": [
       "HBox(children=(FloatProgress(value=0.0, layout=Layout(flex='2'), max=5625.0), HTML(value='')), layout=Layout(d…"
      ]
     },
     "metadata": {},
     "output_type": "display_data"
    },
    {
     "name": "stdout",
     "output_type": "stream",
     "text": [
      "\n",
      "Epoch 17/1000\n"
     ]
    },
    {
     "data": {
      "application/vnd.jupyter.widget-view+json": {
       "model_id": "d16621dfef6a42019e4b0f01f2836341",
       "version_major": 2,
       "version_minor": 0
      },
      "text/plain": [
       "HBox(children=(FloatProgress(value=0.0, layout=Layout(flex='2'), max=5625.0), HTML(value='')), layout=Layout(d…"
      ]
     },
     "metadata": {},
     "output_type": "display_data"
    },
    {
     "name": "stdout",
     "output_type": "stream",
     "text": [
      "\n",
      "Epoch 18/1000\n"
     ]
    },
    {
     "data": {
      "application/vnd.jupyter.widget-view+json": {
       "model_id": "a20904c9adea4e419a91ac62364b3759",
       "version_major": 2,
       "version_minor": 0
      },
      "text/plain": [
       "HBox(children=(FloatProgress(value=0.0, layout=Layout(flex='2'), max=5625.0), HTML(value='')), layout=Layout(d…"
      ]
     },
     "metadata": {},
     "output_type": "display_data"
    },
    {
     "name": "stdout",
     "output_type": "stream",
     "text": [
      "\n",
      "Epoch 19/1000\n"
     ]
    },
    {
     "data": {
      "application/vnd.jupyter.widget-view+json": {
       "model_id": "37b2910bdb6a432893b1b6a94ac60082",
       "version_major": 2,
       "version_minor": 0
      },
      "text/plain": [
       "HBox(children=(FloatProgress(value=0.0, layout=Layout(flex='2'), max=5625.0), HTML(value='')), layout=Layout(d…"
      ]
     },
     "metadata": {},
     "output_type": "display_data"
    },
    {
     "name": "stdout",
     "output_type": "stream",
     "text": [
      "\n",
      "Epoch 20/1000\n"
     ]
    },
    {
     "data": {
      "application/vnd.jupyter.widget-view+json": {
       "model_id": "c7fcfe2c975547bdab91ad87c99d386f",
       "version_major": 2,
       "version_minor": 0
      },
      "text/plain": [
       "HBox(children=(FloatProgress(value=0.0, layout=Layout(flex='2'), max=5625.0), HTML(value='')), layout=Layout(d…"
      ]
     },
     "metadata": {},
     "output_type": "display_data"
    },
    {
     "name": "stdout",
     "output_type": "stream",
     "text": [
      "\n",
      "Epoch 21/1000\n"
     ]
    },
    {
     "data": {
      "application/vnd.jupyter.widget-view+json": {
       "model_id": "c8645683d1934eba982b95d91c703ede",
       "version_major": 2,
       "version_minor": 0
      },
      "text/plain": [
       "HBox(children=(FloatProgress(value=0.0, layout=Layout(flex='2'), max=5625.0), HTML(value='')), layout=Layout(d…"
      ]
     },
     "metadata": {},
     "output_type": "display_data"
    },
    {
     "name": "stdout",
     "output_type": "stream",
     "text": [
      "\n",
      "Epoch 22/1000\n"
     ]
    },
    {
     "data": {
      "application/vnd.jupyter.widget-view+json": {
       "model_id": "931ab5c6f6984c9da8ded8b504280bbf",
       "version_major": 2,
       "version_minor": 0
      },
      "text/plain": [
       "HBox(children=(FloatProgress(value=0.0, layout=Layout(flex='2'), max=5625.0), HTML(value='')), layout=Layout(d…"
      ]
     },
     "metadata": {},
     "output_type": "display_data"
    },
    {
     "name": "stdout",
     "output_type": "stream",
     "text": [
      "\n",
      "Epoch 23/1000\n"
     ]
    },
    {
     "data": {
      "application/vnd.jupyter.widget-view+json": {
       "model_id": "d628afb85e6945b48a4c12fc96d41462",
       "version_major": 2,
       "version_minor": 0
      },
      "text/plain": [
       "HBox(children=(FloatProgress(value=0.0, layout=Layout(flex='2'), max=5625.0), HTML(value='')), layout=Layout(d…"
      ]
     },
     "metadata": {},
     "output_type": "display_data"
    },
    {
     "name": "stdout",
     "output_type": "stream",
     "text": [
      "\n",
      "Epoch 24/1000\n"
     ]
    },
    {
     "data": {
      "application/vnd.jupyter.widget-view+json": {
       "model_id": "3b589029d5e345488d7140a9523063fb",
       "version_major": 2,
       "version_minor": 0
      },
      "text/plain": [
       "HBox(children=(FloatProgress(value=0.0, layout=Layout(flex='2'), max=5625.0), HTML(value='')), layout=Layout(d…"
      ]
     },
     "metadata": {},
     "output_type": "display_data"
    },
    {
     "name": "stdout",
     "output_type": "stream",
     "text": [
      "\n",
      "Epoch 25/1000\n"
     ]
    },
    {
     "data": {
      "application/vnd.jupyter.widget-view+json": {
       "model_id": "58197fb9a5494e088f10e6f423c331d0",
       "version_major": 2,
       "version_minor": 0
      },
      "text/plain": [
       "HBox(children=(FloatProgress(value=0.0, layout=Layout(flex='2'), max=5625.0), HTML(value='')), layout=Layout(d…"
      ]
     },
     "metadata": {},
     "output_type": "display_data"
    },
    {
     "name": "stdout",
     "output_type": "stream",
     "text": [
      "\n",
      "Epoch 26/1000\n"
     ]
    },
    {
     "data": {
      "application/vnd.jupyter.widget-view+json": {
       "model_id": "01f3f38d391d495795001b76cb2b3924",
       "version_major": 2,
       "version_minor": 0
      },
      "text/plain": [
       "HBox(children=(FloatProgress(value=0.0, layout=Layout(flex='2'), max=5625.0), HTML(value='')), layout=Layout(d…"
      ]
     },
     "metadata": {},
     "output_type": "display_data"
    },
    {
     "name": "stdout",
     "output_type": "stream",
     "text": [
      "\n",
      "Epoch 27/1000\n"
     ]
    },
    {
     "data": {
      "application/vnd.jupyter.widget-view+json": {
       "model_id": "732b3850243f456f9be1d012e835744b",
       "version_major": 2,
       "version_minor": 0
      },
      "text/plain": [
       "HBox(children=(FloatProgress(value=0.0, layout=Layout(flex='2'), max=5625.0), HTML(value='')), layout=Layout(d…"
      ]
     },
     "metadata": {},
     "output_type": "display_data"
    },
    {
     "name": "stdout",
     "output_type": "stream",
     "text": [
      "\n",
      "Epoch 28/1000\n"
     ]
    },
    {
     "data": {
      "application/vnd.jupyter.widget-view+json": {
       "model_id": "82f4abe0758b4219bece320160305c28",
       "version_major": 2,
       "version_minor": 0
      },
      "text/plain": [
       "HBox(children=(FloatProgress(value=0.0, layout=Layout(flex='2'), max=5625.0), HTML(value='')), layout=Layout(d…"
      ]
     },
     "metadata": {},
     "output_type": "display_data"
    },
    {
     "name": "stdout",
     "output_type": "stream",
     "text": [
      "\n",
      "Epoch 29/1000\n"
     ]
    },
    {
     "data": {
      "application/vnd.jupyter.widget-view+json": {
       "model_id": "4c5d425221034874abbc340ae7d6ded4",
       "version_major": 2,
       "version_minor": 0
      },
      "text/plain": [
       "HBox(children=(FloatProgress(value=0.0, layout=Layout(flex='2'), max=5625.0), HTML(value='')), layout=Layout(d…"
      ]
     },
     "metadata": {},
     "output_type": "display_data"
    },
    {
     "name": "stdout",
     "output_type": "stream",
     "text": [
      "\n",
      "Epoch 30/1000\n"
     ]
    },
    {
     "data": {
      "application/vnd.jupyter.widget-view+json": {
       "model_id": "daaf884f123446a794dbe8ca193401da",
       "version_major": 2,
       "version_minor": 0
      },
      "text/plain": [
       "HBox(children=(FloatProgress(value=0.0, layout=Layout(flex='2'), max=5625.0), HTML(value='')), layout=Layout(d…"
      ]
     },
     "metadata": {},
     "output_type": "display_data"
    },
    {
     "name": "stdout",
     "output_type": "stream",
     "text": [
      "\n",
      "Epoch 31/1000\n"
     ]
    },
    {
     "data": {
      "application/vnd.jupyter.widget-view+json": {
       "model_id": "b3a3fa45c512401faf7aef79de1e2457",
       "version_major": 2,
       "version_minor": 0
      },
      "text/plain": [
       "HBox(children=(FloatProgress(value=0.0, layout=Layout(flex='2'), max=5625.0), HTML(value='')), layout=Layout(d…"
      ]
     },
     "metadata": {},
     "output_type": "display_data"
    },
    {
     "name": "stdout",
     "output_type": "stream",
     "text": [
      "\n",
      "Epoch 32/1000\n"
     ]
    },
    {
     "data": {
      "application/vnd.jupyter.widget-view+json": {
       "model_id": "c38899f78f3d4f19aea5757a969aa8c8",
       "version_major": 2,
       "version_minor": 0
      },
      "text/plain": [
       "HBox(children=(FloatProgress(value=0.0, layout=Layout(flex='2'), max=5625.0), HTML(value='')), layout=Layout(d…"
      ]
     },
     "metadata": {},
     "output_type": "display_data"
    },
    {
     "name": "stdout",
     "output_type": "stream",
     "text": [
      "\n",
      "Epoch 33/1000\n"
     ]
    },
    {
     "data": {
      "application/vnd.jupyter.widget-view+json": {
       "model_id": "bd50e7af68a649e3a3544c8bf8ae6ded",
       "version_major": 2,
       "version_minor": 0
      },
      "text/plain": [
       "HBox(children=(FloatProgress(value=0.0, layout=Layout(flex='2'), max=5625.0), HTML(value='')), layout=Layout(d…"
      ]
     },
     "metadata": {},
     "output_type": "display_data"
    },
    {
     "name": "stdout",
     "output_type": "stream",
     "text": [
      "\n",
      "Epoch 34/1000\n"
     ]
    },
    {
     "data": {
      "application/vnd.jupyter.widget-view+json": {
       "model_id": "6870e29cad684eb4ac31234d79ad449a",
       "version_major": 2,
       "version_minor": 0
      },
      "text/plain": [
       "HBox(children=(FloatProgress(value=0.0, layout=Layout(flex='2'), max=5625.0), HTML(value='')), layout=Layout(d…"
      ]
     },
     "metadata": {},
     "output_type": "display_data"
    },
    {
     "name": "stdout",
     "output_type": "stream",
     "text": [
      "\n",
      "Epoch 35/1000\n"
     ]
    },
    {
     "data": {
      "application/vnd.jupyter.widget-view+json": {
       "model_id": "252fe4218569464d9327ac86d77f2fe6",
       "version_major": 2,
       "version_minor": 0
      },
      "text/plain": [
       "HBox(children=(FloatProgress(value=0.0, layout=Layout(flex='2'), max=5625.0), HTML(value='')), layout=Layout(d…"
      ]
     },
     "metadata": {},
     "output_type": "display_data"
    },
    {
     "name": "stdout",
     "output_type": "stream",
     "text": [
      "\n",
      "\n",
      "INFO:tensorflow:Assets written to: xception_data_v2.tf/assets\n"
     ]
    }
   ],
   "source": [
    "# Setup callbacks\n",
    "early_stopping = EarlyStopping(patience=20, restore_best_weights=True)\n",
    "tqdm_callback = TQDMProgressBar()\n",
    "checkpoint = ModelCheckpoint(modelpath, save_best_only=True)\n",
    "\n",
    "# Train the model\n",
    "history = model.fit(\n",
    "    X,\n",
    "    y,\n",
    "    batch_size=32,\n",
    "    epochs=1000,\n",
    "    validation_split=0.1,\n",
    "    verbose=0,\n",
    "    callbacks=[early_stopping, tqdm_callback, checkpoint],\n",
    ")\n",
    "model.save(modelpath)"
   ]
  },
  {
   "cell_type": "code",
   "execution_count": 7,
   "metadata": {},
   "outputs": [
    {
     "data": {
      "text/plain": [
       "array([8993.485     ,    0.83563304,    0.05117362,    0.08388926,\n",
       "          0.08306667], dtype=float32)"
      ]
     },
     "execution_count": 7,
     "metadata": {},
     "output_type": "execute_result"
    }
   ],
   "source": [
    "# Evaluate the model on the validation set\n",
    "n_train = int(label.shape[0] * 0.9)\n",
    "X_val = X[n_train:]\n",
    "label_val = label[n_train:]\n",
    "\n",
    "# Predict the labels and convert them to the original scale\n",
    "predictions = model.predict(X_val)\n",
    "predictions = scaler.inverse_transform(predictions)\n",
    "\n",
    "# Compute RMSE for each label individually\n",
    "np.set_printoptions(suppress=True)\n",
    "rmse = np.sqrt(((label_val - predictions)**2).mean(axis=0))\n",
    "rmse"
   ]
  },
  {
   "cell_type": "code",
   "execution_count": null,
   "metadata": {},
   "outputs": [],
   "source": [
    "# Save the MinMax scaler to convert model outputs\n",
    "with open(scalerpath, \"wb\") as f:\n",
    "    pickle.dump(scaler, f)"
   ]
  }
 ],
 "metadata": {
  "celltoolbar": "Edit Metadata",
  "kernelspec": {
   "display_name": "Python 3",
   "language": "python",
   "name": "python3"
  },
  "language_info": {
   "codemirror_mode": {
    "name": "ipython",
    "version": 3
   },
   "file_extension": ".py",
   "mimetype": "text/x-python",
   "name": "python",
   "nbconvert_exporter": "python",
   "pygments_lexer": "ipython3",
   "version": "3.6.9"
  },
  "widgets": {
   "application/vnd.jupyter.widget-state+json": {
    "state": {
     "0025049ffa7846e98f7c423d5de60e74": {
      "model_module": "@jupyter-widgets/controls",
      "model_module_version": "1.5.0",
      "model_name": "DescriptionStyleModel",
      "state": {
       "description_width": ""
      }
     },
     "00293057dc4e499d8c939a0e4d63101a": {
      "model_module": "@jupyter-widgets/controls",
      "model_module_version": "1.5.0",
      "model_name": "ProgressStyleModel",
      "state": {
       "description_width": "initial"
      }
     },
     "008e69e80e0d47418dcbe504b604861b": {
      "model_module": "@jupyter-widgets/controls",
      "model_module_version": "1.5.0",
      "model_name": "FloatProgressModel",
      "state": {
       "bar_style": "success",
       "description": "5625/5625",
       "layout": "IPY_MODEL_2510a2be5c6547b78b5aec5d033b1dab",
       "max": 5625,
       "style": "IPY_MODEL_a88dcb938cde460fb9e6ce8b31626164",
       "value": 5625
      }
     },
     "0094b80751f145669eb5447802b33fe4": {
      "model_module": "@jupyter-widgets/base",
      "model_module_version": "1.2.0",
      "model_name": "LayoutModel",
      "state": {}
     },
     "00981c2e6a3c431c88329bcc22c5da94": {
      "model_module": "@jupyter-widgets/base",
      "model_module_version": "1.2.0",
      "model_name": "LayoutModel",
      "state": {}
     },
     "00c34de04f83497e83b9bde12c265078": {
      "model_module": "@jupyter-widgets/controls",
      "model_module_version": "1.5.0",
      "model_name": "FloatProgressModel",
      "state": {
       "bar_style": "success",
       "description": "5625/5625",
       "layout": "IPY_MODEL_4477d55f5bda4a5fa1f76e2bfa34a4e4",
       "max": 5625,
       "style": "IPY_MODEL_279c636e0322467e8f6e8e2a3aea1c60",
       "value": 5625
      }
     },
     "00e5583a44ab43fc8652ad9d83d4eb63": {
      "model_module": "@jupyter-widgets/base",
      "model_module_version": "1.2.0",
      "model_name": "LayoutModel",
      "state": {
       "display": "inline-flex",
       "flex_flow": "row wrap",
       "width": "100%"
      }
     },
     "0132ec4eb8954c1cb5e358ab7f83aefb": {
      "model_module": "@jupyter-widgets/base",
      "model_module_version": "1.2.0",
      "model_name": "LayoutModel",
      "state": {}
     },
     "0132f7118e9e464390d548a0b5af3b56": {
      "model_module": "@jupyter-widgets/controls",
      "model_module_version": "1.5.0",
      "model_name": "HTMLModel",
      "state": {
       "layout": "IPY_MODEL_0af096461f384eb3890ffcaabcf57104",
       "style": "IPY_MODEL_1e612c92c9614bf5a812e21b610b7c5c",
       "value": " ETA: 00:00s - loss: 0.0263 - val_loss: 0.0294"
      }
     },
     "014d19e745594268911acee95f8eb37d": {
      "model_module": "@jupyter-widgets/controls",
      "model_module_version": "1.5.0",
      "model_name": "DescriptionStyleModel",
      "state": {
       "description_width": ""
      }
     },
     "0162a1ce06144b2294273013b3b72f1c": {
      "model_module": "@jupyter-widgets/base",
      "model_module_version": "1.2.0",
      "model_name": "LayoutModel",
      "state": {
       "flex": "2"
      }
     },
     "0164d0c5ab4049c0a9f2f10574d36564": {
      "model_module": "@jupyter-widgets/base",
      "model_module_version": "1.2.0",
      "model_name": "LayoutModel",
      "state": {}
     },
     "016e64e2dfca4507b3aa686b96f7d827": {
      "model_module": "@jupyter-widgets/controls",
      "model_module_version": "1.5.0",
      "model_name": "HBoxModel",
      "state": {
       "children": [
        "IPY_MODEL_0c87d4c3b2704d5b92c61065960e49bb",
        "IPY_MODEL_7d482cee83d549d19896ac26a5051374"
       ],
       "layout": "IPY_MODEL_ed2568e88fe44861a04a485938d09f0d"
      }
     },
     "01f3f38d391d495795001b76cb2b3924": {
      "model_module": "@jupyter-widgets/controls",
      "model_module_version": "1.5.0",
      "model_name": "HBoxModel",
      "state": {
       "children": [
        "IPY_MODEL_752ae475158f42fdb9b72510cb7f448a",
        "IPY_MODEL_0b414e58f00440748b79d2c27a7a07bb"
       ],
       "layout": "IPY_MODEL_a20faa142ced4e598d88f30e5dafe0d0"
      }
     },
     "01fc35fa53b444ba9ca7fa51e9597ee9": {
      "model_module": "@jupyter-widgets/base",
      "model_module_version": "1.2.0",
      "model_name": "LayoutModel",
      "state": {
       "display": "inline-flex",
       "flex_flow": "row wrap",
       "width": "100%"
      }
     },
     "0208eccd4ff04472a180675ffc84b981": {
      "model_module": "@jupyter-widgets/controls",
      "model_module_version": "1.5.0",
      "model_name": "FloatProgressModel",
      "state": {
       "bar_style": "success",
       "description": "5625/5625",
       "layout": "IPY_MODEL_ef50a8fec4e54533ba03db680f9dbf6e",
       "max": 5625,
       "style": "IPY_MODEL_192b9f754a1748f0a6c58624a21fe3ad",
       "value": 5625
      }
     },
     "02149767a6f54971a52f323c3d92d8b2": {
      "model_module": "@jupyter-widgets/controls",
      "model_module_version": "1.5.0",
      "model_name": "DescriptionStyleModel",
      "state": {
       "description_width": ""
      }
     },
     "0232d52624c94ba0b0a650f4a85e19c7": {
      "model_module": "@jupyter-widgets/base",
      "model_module_version": "1.2.0",
      "model_name": "LayoutModel",
      "state": {
       "display": "inline-flex",
       "flex_flow": "row wrap",
       "width": "100%"
      }
     },
     "0273358ed6044dbc868f3e9cb71fff23": {
      "model_module": "@jupyter-widgets/controls",
      "model_module_version": "1.5.0",
      "model_name": "HTMLModel",
      "state": {
       "layout": "IPY_MODEL_a64d28a534354eed979fdabda08f5874",
       "style": "IPY_MODEL_483a93140610455c800adefdb4a3bed0",
       "value": " 35/1000 ETA: 25:11:50s,  94.00s/epochs"
      }
     },
     "02882c6cac4745ac85bfd629a573dfed": {
      "model_module": "@jupyter-widgets/base",
      "model_module_version": "1.2.0",
      "model_name": "LayoutModel",
      "state": {}
     },
     "028b4ce81f224d71a0529c18b84037d9": {
      "model_module": "@jupyter-widgets/base",
      "model_module_version": "1.2.0",
      "model_name": "LayoutModel",
      "state": {
       "flex": "2"
      }
     },
     "02d09967f1aa49a2ba632ce2ea9279c1": {
      "model_module": "@jupyter-widgets/controls",
      "model_module_version": "1.5.0",
      "model_name": "FloatProgressModel",
      "state": {
       "bar_style": "success",
       "description": "5625/5625",
       "layout": "IPY_MODEL_cead1ca4122d4bd9820e213acac406f2",
       "max": 5625,
       "style": "IPY_MODEL_988024c86f25408cb7ce0d291cab8b77",
       "value": 5625
      }
     },
     "0311eac278764691a7380f2859f7c273": {
      "model_module": "@jupyter-widgets/base",
      "model_module_version": "1.2.0",
      "model_name": "LayoutModel",
      "state": {
       "flex": "2"
      }
     },
     "03142de47b6b4e3a8f89f7ea23af30db": {
      "model_module": "@jupyter-widgets/controls",
      "model_module_version": "1.5.0",
      "model_name": "FloatProgressModel",
      "state": {
       "bar_style": "success",
       "description": "5625/5625",
       "layout": "IPY_MODEL_b8159e1328e24f6cab76a098105c5163",
       "max": 5625,
       "style": "IPY_MODEL_d9618f8f81c8430e90432371c05f6894",
       "value": 5625
      }
     },
     "03501d2f56d642388a89c88d3bad2791": {
      "model_module": "@jupyter-widgets/controls",
      "model_module_version": "1.5.0",
      "model_name": "HTMLModel",
      "state": {
       "layout": "IPY_MODEL_b280745042a14d56a56fd150242ed7d9",
       "style": "IPY_MODEL_488c9c61e36e4ac085f4778330b2a6c5",
       "value": " ETA: 00:00s - loss: 0.0722 - val_loss: 0.0740"
      }
     },
     "03637edd38954cc3a36457a089b7486b": {
      "model_module": "@jupyter-widgets/controls",
      "model_module_version": "1.5.0",
      "model_name": "HBoxModel",
      "state": {
       "children": [
        "IPY_MODEL_0fc3885e03f74c1a954807a422c091f3",
        "IPY_MODEL_aba2e98b5879451fa82a348a2fba1fca"
       ],
       "layout": "IPY_MODEL_53c18808908c4dfeac8bc8c235a7521e"
      }
     },
     "03bacde4728b40578c68c7d4e2430fa6": {
      "model_module": "@jupyter-widgets/base",
      "model_module_version": "1.2.0",
      "model_name": "LayoutModel",
      "state": {}
     },
     "03c8383c8b234ca5b3d430e5d58dffed": {
      "model_module": "@jupyter-widgets/base",
      "model_module_version": "1.2.0",
      "model_name": "LayoutModel",
      "state": {
       "display": "inline-flex",
       "flex_flow": "row wrap",
       "width": "100%"
      }
     },
     "03f07ad3bfb44aac86202e6d2d770c32": {
      "model_module": "@jupyter-widgets/controls",
      "model_module_version": "1.5.0",
      "model_name": "DescriptionStyleModel",
      "state": {
       "description_width": ""
      }
     },
     "03ffceeb4e1945978164e7b32d054335": {
      "model_module": "@jupyter-widgets/controls",
      "model_module_version": "1.5.0",
      "model_name": "FloatProgressModel",
      "state": {
       "bar_style": "success",
       "description": "5625/5625",
       "layout": "IPY_MODEL_8502882ba3004dfeb916d871e252fdea",
       "max": 5625,
       "style": "IPY_MODEL_41cc55c49e63446ab7885c0d0dc29dc1",
       "value": 5625
      }
     },
     "04051a8d774b4c15bdb76c757dbcb9f5": {
      "model_module": "@jupyter-widgets/controls",
      "model_module_version": "1.5.0",
      "model_name": "HBoxModel",
      "state": {
       "children": [
        "IPY_MODEL_4f5c3b4cb44947d6bdd72877b39d8eac",
        "IPY_MODEL_1a26b7a9386a4d489b42dbfdcc46eb75"
       ],
       "layout": "IPY_MODEL_19d41d6b74854232b5ec2f636431e2bb"
      }
     },
     "040d2bc9c84c4144b3317a52cf610353": {
      "model_module": "@jupyter-widgets/base",
      "model_module_version": "1.2.0",
      "model_name": "LayoutModel",
      "state": {
       "flex": "2"
      }
     },
     "0411d5acb99c49fa9d0af32669f0e352": {
      "model_module": "@jupyter-widgets/controls",
      "model_module_version": "1.5.0",
      "model_name": "DescriptionStyleModel",
      "state": {
       "description_width": ""
      }
     },
     "04537185abca44ea95bd474b8b3f8624": {
      "model_module": "@jupyter-widgets/controls",
      "model_module_version": "1.5.0",
      "model_name": "FloatProgressModel",
      "state": {
       "bar_style": "success",
       "description": "5625/5625",
       "layout": "IPY_MODEL_b530cac2970e438d94438c3fdda97bec",
       "max": 5625,
       "style": "IPY_MODEL_faef5ddf52664e3e91970a1e04466bbc",
       "value": 5625
      }
     },
     "04a313c9249749dca358badf1bdc1499": {
      "model_module": "@jupyter-widgets/controls",
      "model_module_version": "1.5.0",
      "model_name": "DescriptionStyleModel",
      "state": {
       "description_width": ""
      }
     },
     "04bcb7826f7f4e05986a80c4285f2a44": {
      "model_module": "@jupyter-widgets/base",
      "model_module_version": "1.2.0",
      "model_name": "LayoutModel",
      "state": {}
     },
     "04bfb0e3ef7944a29a4d81e72b93c000": {
      "model_module": "@jupyter-widgets/base",
      "model_module_version": "1.2.0",
      "model_name": "LayoutModel",
      "state": {
       "flex": "2"
      }
     },
     "04dd0225e17e4f99adb7635a2f724685": {
      "model_module": "@jupyter-widgets/controls",
      "model_module_version": "1.5.0",
      "model_name": "HBoxModel",
      "state": {
       "children": [
        "IPY_MODEL_8b8db81779314071bec7af812851d783",
        "IPY_MODEL_61353d072b0943fdbc7f2351f82bdfdc"
       ],
       "layout": "IPY_MODEL_1acae30f9be948b6b69aeaceddb70b7f"
      }
     },
     "04e927da1bdd4ea496748551693d6c3d": {
      "model_module": "@jupyter-widgets/controls",
      "model_module_version": "1.5.0",
      "model_name": "ProgressStyleModel",
      "state": {
       "description_width": "initial"
      }
     },
     "0525d4b5f711439db30385f9437d99f9": {
      "model_module": "@jupyter-widgets/controls",
      "model_module_version": "1.5.0",
      "model_name": "ProgressStyleModel",
      "state": {
       "description_width": "initial"
      }
     },
     "0527f4c499754476b2f2b0229f69ac8c": {
      "model_module": "@jupyter-widgets/base",
      "model_module_version": "1.2.0",
      "model_name": "LayoutModel",
      "state": {}
     },
     "05460602f5614ddf8b83bad63163c040": {
      "model_module": "@jupyter-widgets/controls",
      "model_module_version": "1.5.0",
      "model_name": "HBoxModel",
      "state": {
       "children": [
        "IPY_MODEL_6ad114bee30c41ffa93d35da08a37afd",
        "IPY_MODEL_76747cfd9dcf4818856fde78e722095f"
       ],
       "layout": "IPY_MODEL_4663a8c4cc154815a26598eed70a327a"
      }
     },
     "054cc883d0d0450393e46175dea10381": {
      "model_module": "@jupyter-widgets/base",
      "model_module_version": "1.2.0",
      "model_name": "LayoutModel",
      "state": {
       "display": "inline-flex",
       "flex_flow": "row wrap",
       "width": "100%"
      }
     },
     "055b37183f5644c2bb0e8108e683518b": {
      "model_module": "@jupyter-widgets/controls",
      "model_module_version": "1.5.0",
      "model_name": "HBoxModel",
      "state": {
       "children": [
        "IPY_MODEL_02d09967f1aa49a2ba632ce2ea9279c1",
        "IPY_MODEL_d98d3440d38f4c6cbd82851503bec2ca"
       ],
       "layout": "IPY_MODEL_b197726c58db4f5ba8cc632dff230260"
      }
     },
     "057c0ccc72f845fab01a62a5b6462ee2": {
      "model_module": "@jupyter-widgets/controls",
      "model_module_version": "1.5.0",
      "model_name": "ProgressStyleModel",
      "state": {
       "description_width": "initial"
      }
     },
     "058a33eb1204420dba69f1c3295f5843": {
      "model_module": "@jupyter-widgets/controls",
      "model_module_version": "1.5.0",
      "model_name": "HTMLModel",
      "state": {
       "layout": "IPY_MODEL_40cdc8c714e34579a3521a536c00c813",
       "style": "IPY_MODEL_1bf688371290476cb6af6f359acd5863",
       "value": " ETA: 00:00s - loss: -1.8167 - val_loss: -1.8014"
      }
     },
     "05c343567aa14a67b3e2f3b212154954": {
      "model_module": "@jupyter-widgets/controls",
      "model_module_version": "1.5.0",
      "model_name": "DescriptionStyleModel",
      "state": {
       "description_width": ""
      }
     },
     "05d37119a2254a119fcd646da1504e7b": {
      "model_module": "@jupyter-widgets/base",
      "model_module_version": "1.2.0",
      "model_name": "LayoutModel",
      "state": {
       "flex": "2"
      }
     },
     "05e07770d7cc42a2a681378ff5bb72bc": {
      "model_module": "@jupyter-widgets/controls",
      "model_module_version": "1.5.0",
      "model_name": "HTMLModel",
      "state": {
       "layout": "IPY_MODEL_ec87d54442874230ae5d3a4594a75b82",
       "style": "IPY_MODEL_e6b6367898624c23a060c044305afc65",
       "value": " ETA: 00:00s - loss: 0.0271 - val_loss: 0.0286"
      }
     },
     "061c5c6046f04cb4b3fdbdd5c5d1b22c": {
      "model_module": "@jupyter-widgets/base",
      "model_module_version": "1.2.0",
      "model_name": "LayoutModel",
      "state": {}
     },
     "061f1603fa8d4667b201a67bd7614bf5": {
      "model_module": "@jupyter-widgets/controls",
      "model_module_version": "1.5.0",
      "model_name": "DescriptionStyleModel",
      "state": {
       "description_width": ""
      }
     },
     "062905bfdc6a40b1827716a3c7bb5e9f": {
      "model_module": "@jupyter-widgets/controls",
      "model_module_version": "1.5.0",
      "model_name": "DescriptionStyleModel",
      "state": {
       "description_width": ""
      }
     },
     "0636409bccf94e00a20f29d68656574b": {
      "model_module": "@jupyter-widgets/controls",
      "model_module_version": "1.5.0",
      "model_name": "FloatProgressModel",
      "state": {
       "bar_style": "success",
       "description": "5625/5625",
       "layout": "IPY_MODEL_6a6d19bd90c1448abcfa067cec3592a8",
       "max": 5625,
       "style": "IPY_MODEL_b3c55f41bc7f47c6a6821a7f6125d153",
       "value": 5625
      }
     },
     "064c78494595405599e792695d1d1463": {
      "model_module": "@jupyter-widgets/controls",
      "model_module_version": "1.5.0",
      "model_name": "ProgressStyleModel",
      "state": {
       "description_width": "initial"
      }
     },
     "066d9a16602d4d6a856bf24762a7feb5": {
      "model_module": "@jupyter-widgets/base",
      "model_module_version": "1.2.0",
      "model_name": "LayoutModel",
      "state": {
       "flex": "2"
      }
     },
     "0670e418612043dd9c58713e729e5958": {
      "model_module": "@jupyter-widgets/base",
      "model_module_version": "1.2.0",
      "model_name": "LayoutModel",
      "state": {
       "flex": "2"
      }
     },
     "06b7ad52a53049da82ae14d1792b761f": {
      "model_module": "@jupyter-widgets/controls",
      "model_module_version": "1.5.0",
      "model_name": "DescriptionStyleModel",
      "state": {
       "description_width": ""
      }
     },
     "06da932f791840598817a903060d393c": {
      "model_module": "@jupyter-widgets/base",
      "model_module_version": "1.2.0",
      "model_name": "LayoutModel",
      "state": {}
     },
     "06dc487318b8439ea7b77f1481432b5c": {
      "model_module": "@jupyter-widgets/controls",
      "model_module_version": "1.5.0",
      "model_name": "ProgressStyleModel",
      "state": {
       "description_width": "initial"
      }
     },
     "071a03a2b59447c8afb4e52b376e8c09": {
      "model_module": "@jupyter-widgets/controls",
      "model_module_version": "1.5.0",
      "model_name": "FloatProgressModel",
      "state": {
       "bar_style": "success",
       "description": "5625/5625",
       "layout": "IPY_MODEL_ccf1de22c2dc45d4b4036858560e86d6",
       "max": 5625,
       "style": "IPY_MODEL_56722da930614f0f9fb431928c26736a",
       "value": 5625
      }
     },
     "074d4f22b23f4ed4a61b4f7b97b530e1": {
      "model_module": "@jupyter-widgets/controls",
      "model_module_version": "1.5.0",
      "model_name": "HBoxModel",
      "state": {
       "children": [
        "IPY_MODEL_f78b6ce0978f448fbbe52f03dadfa9bd",
        "IPY_MODEL_373cebaaff094abfb00e4eff289fe73f"
       ],
       "layout": "IPY_MODEL_ce7b06cfbf4343d09f2c345f727e96c5"
      }
     },
     "078dc3e4fcd44582962deb659ec727d3": {
      "model_module": "@jupyter-widgets/controls",
      "model_module_version": "1.5.0",
      "model_name": "DescriptionStyleModel",
      "state": {
       "description_width": ""
      }
     },
     "0799271fb6254e90838d9c36d8046088": {
      "model_module": "@jupyter-widgets/base",
      "model_module_version": "1.2.0",
      "model_name": "LayoutModel",
      "state": {
       "flex": "2"
      }
     },
     "07aed5e3897f4641955843dc23be412e": {
      "model_module": "@jupyter-widgets/controls",
      "model_module_version": "1.5.0",
      "model_name": "DescriptionStyleModel",
      "state": {
       "description_width": ""
      }
     },
     "07ca9df807474b1a88391f3c0df6df89": {
      "model_module": "@jupyter-widgets/base",
      "model_module_version": "1.2.0",
      "model_name": "LayoutModel",
      "state": {
       "flex": "2"
      }
     },
     "0817d113ec664cbb891b11113c261c23": {
      "model_module": "@jupyter-widgets/controls",
      "model_module_version": "1.5.0",
      "model_name": "DescriptionStyleModel",
      "state": {
       "description_width": ""
      }
     },
     "0832b77f131f48709877d6c736d57594": {
      "model_module": "@jupyter-widgets/controls",
      "model_module_version": "1.5.0",
      "model_name": "ProgressStyleModel",
      "state": {
       "description_width": "initial"
      }
     },
     "08380f840dab4015ae27d37598fac491": {
      "model_module": "@jupyter-widgets/controls",
      "model_module_version": "1.5.0",
      "model_name": "FloatProgressModel",
      "state": {
       "bar_style": "success",
       "description": "5625/5625",
       "layout": "IPY_MODEL_b1c7d6c48a664684af2d82a596da1bcc",
       "max": 5625,
       "style": "IPY_MODEL_bb4c52339278440691ce0853446593c9",
       "value": 5625
      }
     },
     "084cee18b41048e8b00c3a096b1b145b": {
      "model_module": "@jupyter-widgets/controls",
      "model_module_version": "1.5.0",
      "model_name": "DescriptionStyleModel",
      "state": {
       "description_width": ""
      }
     },
     "0860a67098a3440f9b08d7536e61e05f": {
      "model_module": "@jupyter-widgets/base",
      "model_module_version": "1.2.0",
      "model_name": "LayoutModel",
      "state": {
       "flex": "2"
      }
     },
     "08b1d0f590e2471d9ae1cb8e3a2791e3": {
      "model_module": "@jupyter-widgets/base",
      "model_module_version": "1.2.0",
      "model_name": "LayoutModel",
      "state": {
       "flex": "2"
      }
     },
     "08b71661606e491ea72251533f5b6c54": {
      "model_module": "@jupyter-widgets/controls",
      "model_module_version": "1.5.0",
      "model_name": "DescriptionStyleModel",
      "state": {
       "description_width": ""
      }
     },
     "09240ccdaebc4922a8428093f9a4f683": {
      "model_module": "@jupyter-widgets/controls",
      "model_module_version": "1.5.0",
      "model_name": "HTMLModel",
      "state": {
       "layout": "IPY_MODEL_124de2bed1474bbbbee493272ffdaefe",
       "style": "IPY_MODEL_b684ba1363664084a677fc05ccc3265b",
       "value": " ETA: 00:00s - loss: 0.0739 - val_loss: 0.0754"
      }
     },
     "094f003f4d814fd49be88e8acfb729c5": {
      "model_module": "@jupyter-widgets/controls",
      "model_module_version": "1.5.0",
      "model_name": "HTMLModel",
      "state": {
       "layout": "IPY_MODEL_09ed0e59fe1d4370834bcb76c522b496",
       "style": "IPY_MODEL_d72030d792594bd08d6af801045d4d43",
       "value": " ETA: 00:00s - loss: 0.0728 - val_loss: 0.0724"
      }
     },
     "095ba37109da41aea30417732149c1b5": {
      "model_module": "@jupyter-widgets/base",
      "model_module_version": "1.2.0",
      "model_name": "LayoutModel",
      "state": {}
     },
     "09630373c3824947a2f09a5da9e8bfdf": {
      "model_module": "@jupyter-widgets/base",
      "model_module_version": "1.2.0",
      "model_name": "LayoutModel",
      "state": {
       "flex": "2"
      }
     },
     "096c9500c3bc4c1ab395c62d6291dc90": {
      "model_module": "@jupyter-widgets/controls",
      "model_module_version": "1.5.0",
      "model_name": "DescriptionStyleModel",
      "state": {
       "description_width": ""
      }
     },
     "0988ff4a861344cca3a3c4e3f1c2d974": {
      "model_module": "@jupyter-widgets/base",
      "model_module_version": "1.2.0",
      "model_name": "LayoutModel",
      "state": {
       "display": "inline-flex",
       "flex_flow": "row wrap",
       "width": "100%"
      }
     },
     "09957b7aa984494a9fd01988473c0c0f": {
      "model_module": "@jupyter-widgets/base",
      "model_module_version": "1.2.0",
      "model_name": "LayoutModel",
      "state": {}
     },
     "099fd798bc554cf6a0cb6c94fffedf04": {
      "model_module": "@jupyter-widgets/base",
      "model_module_version": "1.2.0",
      "model_name": "LayoutModel",
      "state": {
       "display": "inline-flex",
       "flex_flow": "row wrap",
       "width": "100%"
      }
     },
     "09a1ec71a8dc42a0a377d89ef4d41b13": {
      "model_module": "@jupyter-widgets/controls",
      "model_module_version": "1.5.0",
      "model_name": "FloatProgressModel",
      "state": {
       "bar_style": "success",
       "description": "5625/5625",
       "layout": "IPY_MODEL_ce42d1efd9b84e87840b763524a9dbf1",
       "max": 5625,
       "style": "IPY_MODEL_3721a44691d245e0aa9c71f168cb28ad",
       "value": 5625
      }
     },
     "09d8c98dacd0449ea2cff4c768b77d74": {
      "model_module": "@jupyter-widgets/controls",
      "model_module_version": "1.5.0",
      "model_name": "FloatProgressModel",
      "state": {
       "bar_style": "success",
       "description": "5625/5625",
       "layout": "IPY_MODEL_7d15f7b89bfc465c84579d79198c5dd4",
       "max": 5625,
       "style": "IPY_MODEL_2416017aa5c84caf878239600b21aa30",
       "value": 5625
      }
     },
     "09ed0e59fe1d4370834bcb76c522b496": {
      "model_module": "@jupyter-widgets/base",
      "model_module_version": "1.2.0",
      "model_name": "LayoutModel",
      "state": {}
     },
     "0a20176c755a4c278766e8bbe05be6e3": {
      "model_module": "@jupyter-widgets/base",
      "model_module_version": "1.2.0",
      "model_name": "LayoutModel",
      "state": {
       "display": "inline-flex",
       "flex_flow": "row wrap",
       "width": "100%"
      }
     },
     "0a3361000bcb4643b93ec29598a3f394": {
      "model_module": "@jupyter-widgets/controls",
      "model_module_version": "1.5.0",
      "model_name": "HBoxModel",
      "state": {
       "children": [
        "IPY_MODEL_c8f9eed8ad7b4f7ebf267ae0b27b356d",
        "IPY_MODEL_8e5aceee41b8462ebbeb261d19c02112"
       ],
       "layout": "IPY_MODEL_431c6af65413482aaee550a4798e9bfd"
      }
     },
     "0a37a1f508564c169f2ff0541f07e293": {
      "model_module": "@jupyter-widgets/controls",
      "model_module_version": "1.5.0",
      "model_name": "ProgressStyleModel",
      "state": {
       "description_width": "initial"
      }
     },
     "0a434ae87c86462c82e182a19ee79aae": {
      "model_module": "@jupyter-widgets/controls",
      "model_module_version": "1.5.0",
      "model_name": "HTMLModel",
      "state": {
       "layout": "IPY_MODEL_2eb84f1061ff4b179ea67df6017b147e",
       "style": "IPY_MODEL_1ce6d8cfa94d4e49bd2c2be0c447aa90",
       "value": " ETA: 00:00s - loss: 0.0284 - val_loss: 0.0291"
      }
     },
     "0a5969cd9d7442df83d967ece26f9aec": {
      "model_module": "@jupyter-widgets/base",
      "model_module_version": "1.2.0",
      "model_name": "LayoutModel",
      "state": {
       "display": "inline-flex",
       "flex_flow": "row wrap",
       "width": "100%"
      }
     },
     "0a611f94d6164df8af71f14f59b00167": {
      "model_module": "@jupyter-widgets/base",
      "model_module_version": "1.2.0",
      "model_name": "LayoutModel",
      "state": {
       "display": "inline-flex",
       "flex_flow": "row wrap",
       "width": "100%"
      }
     },
     "0a9e001af27c4b1fbc1d9251f5ed43c0": {
      "model_module": "@jupyter-widgets/controls",
      "model_module_version": "1.5.0",
      "model_name": "DescriptionStyleModel",
      "state": {
       "description_width": ""
      }
     },
     "0aca793fb42f450a97717ee015133b85": {
      "model_module": "@jupyter-widgets/base",
      "model_module_version": "1.2.0",
      "model_name": "LayoutModel",
      "state": {
       "display": "inline-flex",
       "flex_flow": "row wrap",
       "width": "100%"
      }
     },
     "0ad42468a2b64a3a9497da4931681ede": {
      "model_module": "@jupyter-widgets/controls",
      "model_module_version": "1.5.0",
      "model_name": "ProgressStyleModel",
      "state": {
       "description_width": "initial"
      }
     },
     "0adf9f8933bc45e3b168684b6740f437": {
      "model_module": "@jupyter-widgets/base",
      "model_module_version": "1.2.0",
      "model_name": "LayoutModel",
      "state": {
       "display": "inline-flex",
       "flex_flow": "row wrap",
       "width": "100%"
      }
     },
     "0af096461f384eb3890ffcaabcf57104": {
      "model_module": "@jupyter-widgets/base",
      "model_module_version": "1.2.0",
      "model_name": "LayoutModel",
      "state": {}
     },
     "0b12b5449aba41c2b6ba310ed0ad239c": {
      "model_module": "@jupyter-widgets/base",
      "model_module_version": "1.2.0",
      "model_name": "LayoutModel",
      "state": {}
     },
     "0b13906cf5e94299b14fdf2832a537a2": {
      "model_module": "@jupyter-widgets/controls",
      "model_module_version": "1.5.0",
      "model_name": "HTMLModel",
      "state": {
       "layout": "IPY_MODEL_9c7c6615f88840eea8590895b5983953",
       "style": "IPY_MODEL_6849afe186324b7ca97b67b4aff27f37",
       "value": " ETA: 00:00s - loss: -1.8072 - val_loss: -1.8029"
      }
     },
     "0b3e0e3bd2434ee3adc7d2d29bb0f01a": {
      "model_module": "@jupyter-widgets/controls",
      "model_module_version": "1.5.0",
      "model_name": "HBoxModel",
      "state": {
       "children": [
        "IPY_MODEL_c385ca84ea1746a39ff20b8dfce141e4",
        "IPY_MODEL_2eb22e3332414aada8f1c076529e1131"
       ],
       "layout": "IPY_MODEL_76171d74fdd94099a7b64aab1163bff4"
      }
     },
     "0b414e58f00440748b79d2c27a7a07bb": {
      "model_module": "@jupyter-widgets/controls",
      "model_module_version": "1.5.0",
      "model_name": "HTMLModel",
      "state": {
       "layout": "IPY_MODEL_1a1bc68b75364aafbcf1661604b20058",
       "style": "IPY_MODEL_b23c1cc3aa8b43ae881aff83af5ea778",
       "value": " ETA: 00:00s - loss: 0.0320 - val_loss: 0.0351"
      }
     },
     "0b548c94876449b184d096c1ff9f3bb8": {
      "model_module": "@jupyter-widgets/controls",
      "model_module_version": "1.5.0",
      "model_name": "FloatProgressModel",
      "state": {
       "bar_style": "success",
       "description": "5625/5625",
       "layout": "IPY_MODEL_c354e013627f48f98122580e155f1e0f",
       "max": 5625,
       "style": "IPY_MODEL_d0e32f20b2264543a1f36e250d9c43c1",
       "value": 5625
      }
     },
     "0b7610e515674837b9ea7888f81631e8": {
      "model_module": "@jupyter-widgets/controls",
      "model_module_version": "1.5.0",
      "model_name": "DescriptionStyleModel",
      "state": {
       "description_width": ""
      }
     },
     "0b785106016e49ca8f7fa7b5852a1ba1": {
      "model_module": "@jupyter-widgets/controls",
      "model_module_version": "1.5.0",
      "model_name": "HTMLModel",
      "state": {
       "layout": "IPY_MODEL_f6679008e95d4ee18b204d69948fac24",
       "style": "IPY_MODEL_4937a279556649e0bb33ac7a415b0ae9",
       "value": " ETA: 00:00s - loss: 0.0260 - val_loss: 0.0290"
      }
     },
     "0b7eb5ce2a344dc8ba71414340d9137c": {
      "model_module": "@jupyter-widgets/controls",
      "model_module_version": "1.5.0",
      "model_name": "DescriptionStyleModel",
      "state": {
       "description_width": ""
      }
     },
     "0bca56770b944bc29eafc95ace5937c5": {
      "model_module": "@jupyter-widgets/base",
      "model_module_version": "1.2.0",
      "model_name": "LayoutModel",
      "state": {}
     },
     "0be7c4333c2b4c759762c68beada5c75": {
      "model_module": "@jupyter-widgets/base",
      "model_module_version": "1.2.0",
      "model_name": "LayoutModel",
      "state": {
       "flex": "2"
      }
     },
     "0c00d2db6ebf45ecbd78b46963460aad": {
      "model_module": "@jupyter-widgets/controls",
      "model_module_version": "1.5.0",
      "model_name": "HBoxModel",
      "state": {
       "children": [
        "IPY_MODEL_9ba98b90bbfd4e75ba64c430e80bc2ed",
        "IPY_MODEL_2d40fd6ef75a4fb6b78572a2e3cce791"
       ],
       "layout": "IPY_MODEL_435a953d4401445f90ec0ffb1d4ea0ed"
      }
     },
     "0c23a828ca724c7da84836478efbbe08": {
      "model_module": "@jupyter-widgets/controls",
      "model_module_version": "1.5.0",
      "model_name": "DescriptionStyleModel",
      "state": {
       "description_width": ""
      }
     },
     "0c4f7a67825a472b84594f1158e190a9": {
      "model_module": "@jupyter-widgets/controls",
      "model_module_version": "1.5.0",
      "model_name": "HBoxModel",
      "state": {
       "children": [
        "IPY_MODEL_3b9d0090912643bb8298319de6c4078b",
        "IPY_MODEL_5ddeb7747cd94affb7bd85bb9c179233"
       ],
       "layout": "IPY_MODEL_c0510f7409fe4ac5afd4e1c9c6b9a783"
      }
     },
     "0c6cc8a88c744c92966254bd44b19f2f": {
      "model_module": "@jupyter-widgets/controls",
      "model_module_version": "1.5.0",
      "model_name": "HBoxModel",
      "state": {
       "children": [
        "IPY_MODEL_b6bd22af5ae64eac8c40b4f5098526c4",
        "IPY_MODEL_52eae3c0bd9446b180cac8bb9cea7a1e"
       ],
       "layout": "IPY_MODEL_ec015eef4a1444f49d1260133cd9f1c4"
      }
     },
     "0c87d4c3b2704d5b92c61065960e49bb": {
      "model_module": "@jupyter-widgets/controls",
      "model_module_version": "1.5.0",
      "model_name": "FloatProgressModel",
      "state": {
       "bar_style": "success",
       "description": "5625/5625",
       "layout": "IPY_MODEL_55afc10c77e64a99b26512950d21dac6",
       "max": 5625,
       "style": "IPY_MODEL_319a3ef9229d401e9511108c01d896b6",
       "value": 5625
      }
     },
     "0cacffdcd7044c0c9b7ceda1302bd62a": {
      "model_module": "@jupyter-widgets/base",
      "model_module_version": "1.2.0",
      "model_name": "LayoutModel",
      "state": {}
     },
     "0cbbadab96b643aeb6b9d246ec80310a": {
      "model_module": "@jupyter-widgets/controls",
      "model_module_version": "1.5.0",
      "model_name": "HTMLModel",
      "state": {
       "layout": "IPY_MODEL_963d30858901456b990bf542066686c7",
       "style": "IPY_MODEL_dedbd469852d472fa5dc29af6f3fbb32",
       "value": " ETA: 00:00s - loss: -1.8338 - val_loss: -1.7924"
      }
     },
     "0cc4d222c5a54e5c9a02d1ae63974a8d": {
      "model_module": "@jupyter-widgets/controls",
      "model_module_version": "1.5.0",
      "model_name": "ProgressStyleModel",
      "state": {
       "description_width": "initial"
      }
     },
     "0cc638952e3640b0a1e1e016bb0068ab": {
      "model_module": "@jupyter-widgets/base",
      "model_module_version": "1.2.0",
      "model_name": "LayoutModel",
      "state": {
       "flex": "2"
      }
     },
     "0cd44f5f7f8d4e4caaefe1dfae9f60dd": {
      "model_module": "@jupyter-widgets/base",
      "model_module_version": "1.2.0",
      "model_name": "LayoutModel",
      "state": {}
     },
     "0cff6fd2a6cb4e90bfe14663beeb056a": {
      "model_module": "@jupyter-widgets/base",
      "model_module_version": "1.2.0",
      "model_name": "LayoutModel",
      "state": {}
     },
     "0d05cddc6134406f96497cd07ca05b37": {
      "model_module": "@jupyter-widgets/base",
      "model_module_version": "1.2.0",
      "model_name": "LayoutModel",
      "state": {
       "display": "inline-flex",
       "flex_flow": "row wrap",
       "width": "100%"
      }
     },
     "0d0fc317e1d346bc9f326891f89850cd": {
      "model_module": "@jupyter-widgets/base",
      "model_module_version": "1.2.0",
      "model_name": "LayoutModel",
      "state": {
       "flex": "2"
      }
     },
     "0d1c425b57b8442889e0787930e7a795": {
      "model_module": "@jupyter-widgets/base",
      "model_module_version": "1.2.0",
      "model_name": "LayoutModel",
      "state": {
       "flex": "2"
      }
     },
     "0d677ec0d1da468ebf758aa5618b87a8": {
      "model_module": "@jupyter-widgets/base",
      "model_module_version": "1.2.0",
      "model_name": "LayoutModel",
      "state": {
       "flex": "2"
      }
     },
     "0d69219bc848400b8744f1a898fdc8b4": {
      "model_module": "@jupyter-widgets/controls",
      "model_module_version": "1.5.0",
      "model_name": "ProgressStyleModel",
      "state": {
       "description_width": "initial"
      }
     },
     "0d727fbdefa54b86a7a28bb58ee25ba7": {
      "model_module": "@jupyter-widgets/controls",
      "model_module_version": "1.5.0",
      "model_name": "ProgressStyleModel",
      "state": {
       "description_width": "initial"
      }
     },
     "0da6b5e45dba4c519e6eb0ae45969ca3": {
      "model_module": "@jupyter-widgets/controls",
      "model_module_version": "1.5.0",
      "model_name": "HTMLModel",
      "state": {
       "layout": "IPY_MODEL_8a4d2a1dc91146ce8b3149e7ef8cee72",
       "style": "IPY_MODEL_c98e8101a82a489fae557d6e8ce3b77f",
       "value": " ETA: 00:00s - loss: -1.8373 - val_loss: -1.8073"
      }
     },
     "0da6e4c491104b98b4229571a3f706ef": {
      "model_module": "@jupyter-widgets/base",
      "model_module_version": "1.2.0",
      "model_name": "LayoutModel",
      "state": {
       "flex": "2"
      }
     },
     "0db9238f508b4bb88e960c569e2274b6": {
      "model_module": "@jupyter-widgets/base",
      "model_module_version": "1.2.0",
      "model_name": "LayoutModel",
      "state": {}
     },
     "0dbfacfd9ba2418685a3212ef98df146": {
      "model_module": "@jupyter-widgets/base",
      "model_module_version": "1.2.0",
      "model_name": "LayoutModel",
      "state": {}
     },
     "0dc13229a0024c1b89da2f822d820088": {
      "model_module": "@jupyter-widgets/base",
      "model_module_version": "1.2.0",
      "model_name": "LayoutModel",
      "state": {}
     },
     "0de96a38554d424cbcf3fea89bcab4c8": {
      "model_module": "@jupyter-widgets/controls",
      "model_module_version": "1.5.0",
      "model_name": "HTMLModel",
      "state": {
       "layout": "IPY_MODEL_0edbd835f3004a0b89a237bde9712af1",
       "style": "IPY_MODEL_a88bf1e9f2b74f6495366d540512dd26",
       "value": " ETA: 00:00s - loss: 0.0756 - val_loss: 0.0750"
      }
     },
     "0df2372525af4145ace4f60f2c34ab1c": {
      "model_module": "@jupyter-widgets/base",
      "model_module_version": "1.2.0",
      "model_name": "LayoutModel",
      "state": {
       "flex": "2"
      }
     },
     "0e0682aa3cda40bdb98adad0bfe42f3c": {
      "model_module": "@jupyter-widgets/controls",
      "model_module_version": "1.5.0",
      "model_name": "FloatProgressModel",
      "state": {
       "bar_style": "success",
       "description": "5625/5625",
       "layout": "IPY_MODEL_fc4c3152a41e4f19968bd5551af4854f",
       "max": 5625,
       "style": "IPY_MODEL_f97d6dd9ac9a4a79b309d34f50cc6123",
       "value": 5625
      }
     },
     "0e0b14c152524cbc8d646273551e5d3c": {
      "model_module": "@jupyter-widgets/controls",
      "model_module_version": "1.5.0",
      "model_name": "FloatProgressModel",
      "state": {
       "bar_style": "success",
       "description": "5625/5625",
       "layout": "IPY_MODEL_11cbe3ff575a4985bb3b91808288fa42",
       "max": 5625,
       "style": "IPY_MODEL_4d13fed790824707b3d4cbcece4858b7",
       "value": 5625
      }
     },
     "0e0bd81b12b44ff6a400028908186a6c": {
      "model_module": "@jupyter-widgets/controls",
      "model_module_version": "1.5.0",
      "model_name": "DescriptionStyleModel",
      "state": {
       "description_width": ""
      }
     },
     "0e1cdee71d2746ecbb33c0ee5d6a71c7": {
      "model_module": "@jupyter-widgets/controls",
      "model_module_version": "1.5.0",
      "model_name": "FloatProgressModel",
      "state": {
       "bar_style": "success",
       "description": "5625/5625",
       "layout": "IPY_MODEL_be555de16ed9495ba73a42495c71c5a3",
       "max": 5625,
       "style": "IPY_MODEL_d123b3d87bbc4d6ca33f621a91386b16",
       "value": 5625
      }
     },
     "0e29fb1846d4483694ecb05a963e7faf": {
      "model_module": "@jupyter-widgets/controls",
      "model_module_version": "1.5.0",
      "model_name": "FloatProgressModel",
      "state": {
       "bar_style": "success",
       "description": "5625/5625",
       "layout": "IPY_MODEL_4ecf186fc47a4447b4e9c7e126952716",
       "max": 5625,
       "style": "IPY_MODEL_4acfc15f84954f96a6897cb5d6b98ace",
       "value": 5625
      }
     },
     "0e4cb6e5f08d469eb83ac3f31856aa4c": {
      "model_module": "@jupyter-widgets/controls",
      "model_module_version": "1.5.0",
      "model_name": "HBoxModel",
      "state": {
       "children": [
        "IPY_MODEL_e9d0082f68be4355a154c4a12b01a55a",
        "IPY_MODEL_7d2525ed2b6d4e4881b52cb90dd275db"
       ],
       "layout": "IPY_MODEL_70ca41449c374cb0ab63773c5292da0b"
      }
     },
     "0e5f93f37dc443c7a8d4e701f136cf9c": {
      "model_module": "@jupyter-widgets/controls",
      "model_module_version": "1.5.0",
      "model_name": "HBoxModel",
      "state": {
       "children": [
        "IPY_MODEL_4ed33b95e4204c849d43655084d040a6",
        "IPY_MODEL_be916fd8aa4641329073fe1beea7bbd8"
       ],
       "layout": "IPY_MODEL_9af9150f5fe9423d85575d3da7138d29"
      }
     },
     "0e6b7e97e75b4ba3bbc241326ff4ff32": {
      "model_module": "@jupyter-widgets/base",
      "model_module_version": "1.2.0",
      "model_name": "LayoutModel",
      "state": {
       "flex": "2"
      }
     },
     "0e6b83dc678642cba3e1f63cbb5afed7": {
      "model_module": "@jupyter-widgets/base",
      "model_module_version": "1.2.0",
      "model_name": "LayoutModel",
      "state": {
       "flex": "2"
      }
     },
     "0e821bf7041e449bb703fad522819c14": {
      "model_module": "@jupyter-widgets/base",
      "model_module_version": "1.2.0",
      "model_name": "LayoutModel",
      "state": {}
     },
     "0e95e7403514434382fb310bec28cdc5": {
      "model_module": "@jupyter-widgets/controls",
      "model_module_version": "1.5.0",
      "model_name": "DescriptionStyleModel",
      "state": {
       "description_width": ""
      }
     },
     "0ea7dea33fd94db88bf64258a2b9fa9a": {
      "model_module": "@jupyter-widgets/controls",
      "model_module_version": "1.5.0",
      "model_name": "DescriptionStyleModel",
      "state": {
       "description_width": ""
      }
     },
     "0edbd835f3004a0b89a237bde9712af1": {
      "model_module": "@jupyter-widgets/base",
      "model_module_version": "1.2.0",
      "model_name": "LayoutModel",
      "state": {}
     },
     "0eec6e4698dd4af49c3a838ddcf080ae": {
      "model_module": "@jupyter-widgets/base",
      "model_module_version": "1.2.0",
      "model_name": "LayoutModel",
      "state": {
       "flex": "2"
      }
     },
     "0efa90dcbb254dcfab1e13dfcdef2c79": {
      "model_module": "@jupyter-widgets/controls",
      "model_module_version": "1.5.0",
      "model_name": "DescriptionStyleModel",
      "state": {
       "description_width": ""
      }
     },
     "0f0d6582891f42edba19088881dff1a5": {
      "model_module": "@jupyter-widgets/controls",
      "model_module_version": "1.5.0",
      "model_name": "DescriptionStyleModel",
      "state": {
       "description_width": ""
      }
     },
     "0f272103ef84435eab0df195bf971a77": {
      "model_module": "@jupyter-widgets/controls",
      "model_module_version": "1.5.0",
      "model_name": "FloatProgressModel",
      "state": {
       "bar_style": "success",
       "description": "5625/5625",
       "layout": "IPY_MODEL_f3a09a1cc552499ca3b642c7a4d299c2",
       "max": 5625,
       "style": "IPY_MODEL_9967b488ab4c4490a57c7386dc466ba1",
       "value": 5625
      }
     },
     "0f30b3159a144d5fad1c7fe25b868be0": {
      "model_module": "@jupyter-widgets/controls",
      "model_module_version": "1.5.0",
      "model_name": "FloatProgressModel",
      "state": {
       "bar_style": "success",
       "description": "5625/5625",
       "layout": "IPY_MODEL_bf34c24dde254b2fb533b9b5d9d3596d",
       "max": 5625,
       "style": "IPY_MODEL_3ed898e3964844f3b9efcf240918fa8e",
       "value": 5625
      }
     },
     "0f351bb3721143d6ad473899025aa085": {
      "model_module": "@jupyter-widgets/controls",
      "model_module_version": "1.5.0",
      "model_name": "DescriptionStyleModel",
      "state": {
       "description_width": ""
      }
     },
     "0f41b7e13d79432bb066b3bda0e574aa": {
      "model_module": "@jupyter-widgets/controls",
      "model_module_version": "1.5.0",
      "model_name": "HBoxModel",
      "state": {
       "children": [
        "IPY_MODEL_705290bf1dcb49149697f30ac688b8d7",
        "IPY_MODEL_444e060e786f42f2a74f3f524eff6540"
       ],
       "layout": "IPY_MODEL_f59919a3df97442c809578d9ea61234a"
      }
     },
     "0f4e5cb365884a579e4b3522dbfddc51": {
      "model_module": "@jupyter-widgets/controls",
      "model_module_version": "1.5.0",
      "model_name": "HBoxModel",
      "state": {
       "children": [
        "IPY_MODEL_f5b0501745354328be5631e6b8ebaf14",
        "IPY_MODEL_bc7c50d3850f4b35ac017fa2b58cfc9c"
       ],
       "layout": "IPY_MODEL_c42374b831e14d438e3383b216f3d171"
      }
     },
     "0f552175759b46bebaa11eadf5a770ec": {
      "model_module": "@jupyter-widgets/controls",
      "model_module_version": "1.5.0",
      "model_name": "DescriptionStyleModel",
      "state": {
       "description_width": ""
      }
     },
     "0f55bbbd484646f8ace106640872795a": {
      "model_module": "@jupyter-widgets/controls",
      "model_module_version": "1.5.0",
      "model_name": "FloatProgressModel",
      "state": {
       "bar_style": "success",
       "description": "5625/5625",
       "layout": "IPY_MODEL_50be75165def4a0295ef2f72385417d8",
       "max": 5625,
       "style": "IPY_MODEL_126345de4dd44961b4af4924c9745570",
       "value": 5625
      }
     },
     "0f5695a8b145414cb7d13d7a60721bff": {
      "model_module": "@jupyter-widgets/controls",
      "model_module_version": "1.5.0",
      "model_name": "FloatProgressModel",
      "state": {
       "bar_style": "success",
       "description": "5625/5625",
       "layout": "IPY_MODEL_0d1c425b57b8442889e0787930e7a795",
       "max": 5625,
       "style": "IPY_MODEL_a9cb7d2b2cd343ed8025c3ffea07f711",
       "value": 5625
      }
     },
     "0f60facb694d4de9902170ebe3de8f95": {
      "model_module": "@jupyter-widgets/base",
      "model_module_version": "1.2.0",
      "model_name": "LayoutModel",
      "state": {
       "display": "inline-flex",
       "flex_flow": "row wrap",
       "width": "100%"
      }
     },
     "0f776f4e5a5749c083bd240f8edb002a": {
      "model_module": "@jupyter-widgets/base",
      "model_module_version": "1.2.0",
      "model_name": "LayoutModel",
      "state": {
       "display": "inline-flex",
       "flex_flow": "row wrap",
       "width": "100%"
      }
     },
     "0f856cdf837b4e71b932179d3ef6e147": {
      "model_module": "@jupyter-widgets/controls",
      "model_module_version": "1.5.0",
      "model_name": "DescriptionStyleModel",
      "state": {
       "description_width": ""
      }
     },
     "0fbf6bc1c4464038b363be4d4890c12b": {
      "model_module": "@jupyter-widgets/controls",
      "model_module_version": "1.5.0",
      "model_name": "FloatProgressModel",
      "state": {
       "bar_style": "success",
       "description": "5625/5625",
       "layout": "IPY_MODEL_bd4505727f264499b21369012ee30212",
       "max": 5625,
       "style": "IPY_MODEL_e5b9e3a319ca40ddae2e13d940dc4d73",
       "value": 5625
      }
     },
     "0fc16d64053f4f198b5a917205ca5a90": {
      "model_module": "@jupyter-widgets/controls",
      "model_module_version": "1.5.0",
      "model_name": "ProgressStyleModel",
      "state": {
       "description_width": "initial"
      }
     },
     "0fc3885e03f74c1a954807a422c091f3": {
      "model_module": "@jupyter-widgets/controls",
      "model_module_version": "1.5.0",
      "model_name": "FloatProgressModel",
      "state": {
       "bar_style": "success",
       "description": "5625/5625",
       "layout": "IPY_MODEL_f0192575844449bab20393491dca9cf0",
       "max": 5625,
       "style": "IPY_MODEL_6b282724179e4f3eb237b2ce5f1b3a1a",
       "value": 5625
      }
     },
     "0fe3a03a749948d58fa5ad6284f72860": {
      "model_module": "@jupyter-widgets/controls",
      "model_module_version": "1.5.0",
      "model_name": "DescriptionStyleModel",
      "state": {
       "description_width": ""
      }
     },
     "0ff6cb753b7a498ba1d7f298abf55598": {
      "model_module": "@jupyter-widgets/base",
      "model_module_version": "1.2.0",
      "model_name": "LayoutModel",
      "state": {
       "flex": "2"
      }
     },
     "101fcfcab5fa43c39bcb1d5aef41da8e": {
      "model_module": "@jupyter-widgets/controls",
      "model_module_version": "1.5.0",
      "model_name": "HBoxModel",
      "state": {
       "children": [
        "IPY_MODEL_112e330cf7c1405b857051b0efa36371",
        "IPY_MODEL_fe5ca96e3ab44266bffdb332b8df4696"
       ],
       "layout": "IPY_MODEL_bd012ec24229475088b822f930fc2571"
      }
     },
     "1024eda6a35e488694182e7e2b748e02": {
      "model_module": "@jupyter-widgets/base",
      "model_module_version": "1.2.0",
      "model_name": "LayoutModel",
      "state": {}
     },
     "10398ee0b85643c6a7fed1ae794fd42c": {
      "model_module": "@jupyter-widgets/controls",
      "model_module_version": "1.5.0",
      "model_name": "HBoxModel",
      "state": {
       "children": [
        "IPY_MODEL_690d136232564119b3186960a65cc917",
        "IPY_MODEL_77318bec8e644ac5a2a4db12280f9200"
       ],
       "layout": "IPY_MODEL_8131f49485374ce39038ff04ae133aa6"
      }
     },
     "106c5ecda2b441e293da855e9087ff39": {
      "model_module": "@jupyter-widgets/controls",
      "model_module_version": "1.5.0",
      "model_name": "ProgressStyleModel",
      "state": {
       "description_width": "initial"
      }
     },
     "10756dd001094946b94429574e5fdd70": {
      "model_module": "@jupyter-widgets/controls",
      "model_module_version": "1.5.0",
      "model_name": "ProgressStyleModel",
      "state": {
       "description_width": "initial"
      }
     },
     "1084602b27854c4683a38a98cf9ea4cb": {
      "model_module": "@jupyter-widgets/base",
      "model_module_version": "1.2.0",
      "model_name": "LayoutModel",
      "state": {}
     },
     "10d396a6f5974bf6be24fd3c8b69d08b": {
      "model_module": "@jupyter-widgets/base",
      "model_module_version": "1.2.0",
      "model_name": "LayoutModel",
      "state": {
       "flex": "2"
      }
     },
     "10e91caa06264e67aa3d0c147afcf4fe": {
      "model_module": "@jupyter-widgets/base",
      "model_module_version": "1.2.0",
      "model_name": "LayoutModel",
      "state": {
       "flex": "2"
      }
     },
     "10ecc624d6924e60b256f5cbf8fd482e": {
      "model_module": "@jupyter-widgets/base",
      "model_module_version": "1.2.0",
      "model_name": "LayoutModel",
      "state": {}
     },
     "10f1066445c34be286f0e2ee4014cc60": {
      "model_module": "@jupyter-widgets/base",
      "model_module_version": "1.2.0",
      "model_name": "LayoutModel",
      "state": {
       "flex": "2"
      }
     },
     "10f2d15eba154ca9b3ac42dcab984505": {
      "model_module": "@jupyter-widgets/base",
      "model_module_version": "1.2.0",
      "model_name": "LayoutModel",
      "state": {}
     },
     "110cbccd6a8549dc9bac23cc87bdfe31": {
      "model_module": "@jupyter-widgets/controls",
      "model_module_version": "1.5.0",
      "model_name": "DescriptionStyleModel",
      "state": {
       "description_width": ""
      }
     },
     "11108ad6fdb747c7af883663d745567e": {
      "model_module": "@jupyter-widgets/base",
      "model_module_version": "1.2.0",
      "model_name": "LayoutModel",
      "state": {
       "flex": "2"
      }
     },
     "1126423147bc4f61a9dba2c6844a4705": {
      "model_module": "@jupyter-widgets/base",
      "model_module_version": "1.2.0",
      "model_name": "LayoutModel",
      "state": {}
     },
     "112d2bab4fac49cd8e09116a4455c006": {
      "model_module": "@jupyter-widgets/base",
      "model_module_version": "1.2.0",
      "model_name": "LayoutModel",
      "state": {
       "display": "inline-flex",
       "flex_flow": "row wrap",
       "width": "100%"
      }
     },
     "112e330cf7c1405b857051b0efa36371": {
      "model_module": "@jupyter-widgets/controls",
      "model_module_version": "1.5.0",
      "model_name": "FloatProgressModel",
      "state": {
       "bar_style": "success",
       "description": "5625/5625",
       "layout": "IPY_MODEL_9d516105305e46c08908209ca9ca62f6",
       "max": 5625,
       "style": "IPY_MODEL_54bc9e763be6460d82916f02e4f0e780",
       "value": 5625
      }
     },
     "1132affd18a9469082f6c3da251216b7": {
      "model_module": "@jupyter-widgets/controls",
      "model_module_version": "1.5.0",
      "model_name": "HTMLModel",
      "state": {
       "layout": "IPY_MODEL_61d80308751c454aa915fe6053f29d01",
       "style": "IPY_MODEL_8e1c1be960a04e1b8051819c3b60c90e",
       "value": " ETA: 00:00s - loss: 0.0258 - val_loss: 0.0289"
      }
     },
     "114d8731842648a38cf4f7c1b9b416f4": {
      "model_module": "@jupyter-widgets/controls",
      "model_module_version": "1.5.0",
      "model_name": "DescriptionStyleModel",
      "state": {
       "description_width": ""
      }
     },
     "117fd2a89ef94f718be9d495c0bd7a1e": {
      "model_module": "@jupyter-widgets/controls",
      "model_module_version": "1.5.0",
      "model_name": "DescriptionStyleModel",
      "state": {
       "description_width": ""
      }
     },
     "11b42984dad3440fab5836825e2571c5": {
      "model_module": "@jupyter-widgets/controls",
      "model_module_version": "1.5.0",
      "model_name": "DescriptionStyleModel",
      "state": {
       "description_width": ""
      }
     },
     "11bc486d34714e938e97581bd7ecf6dd": {
      "model_module": "@jupyter-widgets/controls",
      "model_module_version": "1.5.0",
      "model_name": "ProgressStyleModel",
      "state": {
       "description_width": "initial"
      }
     },
     "11cbe3ff575a4985bb3b91808288fa42": {
      "model_module": "@jupyter-widgets/base",
      "model_module_version": "1.2.0",
      "model_name": "LayoutModel",
      "state": {
       "flex": "2"
      }
     },
     "11ffce58246f496694a8c4119a15bbe3": {
      "model_module": "@jupyter-widgets/controls",
      "model_module_version": "1.5.0",
      "model_name": "HBoxModel",
      "state": {
       "children": [
        "IPY_MODEL_f3e4ddecb67e43d3bec438c394227bd0",
        "IPY_MODEL_37004eaa34b447c197a7c4eae6f6f49f"
       ],
       "layout": "IPY_MODEL_5189285bc81b41d5a58a54d8964b427e"
      }
     },
     "120ab8d516154876bb9a9960f8aa4d70": {
      "model_module": "@jupyter-widgets/controls",
      "model_module_version": "1.5.0",
      "model_name": "DescriptionStyleModel",
      "state": {
       "description_width": ""
      }
     },
     "122382aed4e7452d8d541d740cf47688": {
      "model_module": "@jupyter-widgets/controls",
      "model_module_version": "1.5.0",
      "model_name": "HBoxModel",
      "state": {
       "children": [
        "IPY_MODEL_f80ee98a3df94e25b9240a2447cbd23c",
        "IPY_MODEL_cb5c6fe1200d4fccb55f6b1cb6a3cba5"
       ],
       "layout": "IPY_MODEL_ec0b2a4d583d4eedb6dd1cb904484d18"
      }
     },
     "1231d3d6c9374eabbefe7fc5e0af7a60": {
      "model_module": "@jupyter-widgets/controls",
      "model_module_version": "1.5.0",
      "model_name": "DescriptionStyleModel",
      "state": {
       "description_width": ""
      }
     },
     "12363e89638c4404acb0aeb326866eba": {
      "model_module": "@jupyter-widgets/controls",
      "model_module_version": "1.5.0",
      "model_name": "HBoxModel",
      "state": {
       "children": [
        "IPY_MODEL_9037e3f6e37e4a7cb0b4a66c27819730",
        "IPY_MODEL_25d9044f097d4705aed8701d944946aa"
       ],
       "layout": "IPY_MODEL_49ed18a5d64448679b2afca0820a4157"
      }
     },
     "123c906b0fdf47e7a7c586ff9e37d5ae": {
      "model_module": "@jupyter-widgets/controls",
      "model_module_version": "1.5.0",
      "model_name": "HTMLModel",
      "state": {
       "layout": "IPY_MODEL_c7f3f3c5a1cb43cbbd63defdd561f20d",
       "style": "IPY_MODEL_062905bfdc6a40b1827716a3c7bb5e9f",
       "value": " ETA: 00:00s - loss: 0.0450 - val_loss: 0.0427"
      }
     },
     "12469e9f013b48e899d8ca8b9c72a7df": {
      "model_module": "@jupyter-widgets/controls",
      "model_module_version": "1.5.0",
      "model_name": "FloatProgressModel",
      "state": {
       "bar_style": "success",
       "description": "5625/5625",
       "layout": "IPY_MODEL_890ba3d6e5db4c368facc4f82497104e",
       "max": 5625,
       "style": "IPY_MODEL_37337a723ebb4759ad2734cd1e3cc121",
       "value": 5625
      }
     },
     "124de2bed1474bbbbee493272ffdaefe": {
      "model_module": "@jupyter-widgets/base",
      "model_module_version": "1.2.0",
      "model_name": "LayoutModel",
      "state": {}
     },
     "125868e4a4094dac824615e3335ba252": {
      "model_module": "@jupyter-widgets/controls",
      "model_module_version": "1.5.0",
      "model_name": "ProgressStyleModel",
      "state": {
       "description_width": "initial"
      }
     },
     "126345de4dd44961b4af4924c9745570": {
      "model_module": "@jupyter-widgets/controls",
      "model_module_version": "1.5.0",
      "model_name": "ProgressStyleModel",
      "state": {
       "description_width": "initial"
      }
     },
     "1277b619705b45959d0152173327d303": {
      "model_module": "@jupyter-widgets/controls",
      "model_module_version": "1.5.0",
      "model_name": "DescriptionStyleModel",
      "state": {
       "description_width": ""
      }
     },
     "12797f0f67154302b3bcf94750863256": {
      "model_module": "@jupyter-widgets/controls",
      "model_module_version": "1.5.0",
      "model_name": "HTMLModel",
      "state": {
       "layout": "IPY_MODEL_1024eda6a35e488694182e7e2b748e02",
       "style": "IPY_MODEL_d12834d070b04e21a85448086f0d8643",
       "value": " ETA: 00:00s - loss: -1.8167 - val_loss: -1.7981"
      }
     },
     "12ebb0ede2d04a1cb5b66fc7f12f1449": {
      "model_module": "@jupyter-widgets/base",
      "model_module_version": "1.2.0",
      "model_name": "LayoutModel",
      "state": {}
     },
     "132157091f0345faa24097741cdfbdaa": {
      "model_module": "@jupyter-widgets/controls",
      "model_module_version": "1.5.0",
      "model_name": "DescriptionStyleModel",
      "state": {
       "description_width": ""
      }
     },
     "13367c2ae7514fae9b2e98fa5dec6fd8": {
      "model_module": "@jupyter-widgets/controls",
      "model_module_version": "1.5.0",
      "model_name": "HTMLModel",
      "state": {
       "layout": "IPY_MODEL_5665d10d234d467cbbab8f5fc7bc1722",
       "style": "IPY_MODEL_3cf8b267ec0b414eabdf956af5178788",
       "value": " ETA: 00:00s - loss: -1.8392 - val_loss: -1.8033"
      }
     },
     "133681c6f305459fbb3f861314db7529": {
      "model_module": "@jupyter-widgets/controls",
      "model_module_version": "1.5.0",
      "model_name": "DescriptionStyleModel",
      "state": {
       "description_width": ""
      }
     },
     "1337db85a2eb4a1a80d7d4b51ce475e3": {
      "model_module": "@jupyter-widgets/controls",
      "model_module_version": "1.5.0",
      "model_name": "DescriptionStyleModel",
      "state": {
       "description_width": ""
      }
     },
     "134620481df4453c8b832ccb409ef817": {
      "model_module": "@jupyter-widgets/base",
      "model_module_version": "1.2.0",
      "model_name": "LayoutModel",
      "state": {
       "flex": "2"
      }
     },
     "135a9fae9fe94eb88000fc4b0954be0c": {
      "model_module": "@jupyter-widgets/controls",
      "model_module_version": "1.5.0",
      "model_name": "FloatProgressModel",
      "state": {
       "bar_style": "success",
       "description": "5625/5625",
       "layout": "IPY_MODEL_98743ee6569347a4b534dfe0087c0bed",
       "max": 5625,
       "style": "IPY_MODEL_912da996a74f4c4dbb52020f6e989f84",
       "value": 5625
      }
     },
     "136e8c7aedf3495f9f2228fad694688d": {
      "model_module": "@jupyter-widgets/controls",
      "model_module_version": "1.5.0",
      "model_name": "HTMLModel",
      "state": {
       "layout": "IPY_MODEL_65e003b87da3430daa74f2aab77ec224",
       "style": "IPY_MODEL_164cd41c8c554b4cb26aaad0b9c48ce7",
       "value": " ETA: 00:00s - loss: -1.7371 - val_loss: -1.6982"
      }
     },
     "137c7982066a42be8fbe24a869f81671": {
      "model_module": "@jupyter-widgets/base",
      "model_module_version": "1.2.0",
      "model_name": "LayoutModel",
      "state": {}
     },
     "137e64b797424156bd411f017940f4bd": {
      "model_module": "@jupyter-widgets/controls",
      "model_module_version": "1.5.0",
      "model_name": "DescriptionStyleModel",
      "state": {
       "description_width": ""
      }
     },
     "139b04c9a5ee4d6a89af3850382f56f8": {
      "model_module": "@jupyter-widgets/controls",
      "model_module_version": "1.5.0",
      "model_name": "DescriptionStyleModel",
      "state": {
       "description_width": ""
      }
     },
     "13a20143097743c0b96320d3d422a774": {
      "model_module": "@jupyter-widgets/controls",
      "model_module_version": "1.5.0",
      "model_name": "ProgressStyleModel",
      "state": {
       "description_width": "initial"
      }
     },
     "13a8275013cb4330959bbdbebe229559": {
      "model_module": "@jupyter-widgets/base",
      "model_module_version": "1.2.0",
      "model_name": "LayoutModel",
      "state": {
       "display": "inline-flex",
       "flex_flow": "row wrap",
       "width": "100%"
      }
     },
     "13c2fb7cac144105bb1c2595d4265f08": {
      "model_module": "@jupyter-widgets/controls",
      "model_module_version": "1.5.0",
      "model_name": "DescriptionStyleModel",
      "state": {
       "description_width": ""
      }
     },
     "13d7341bf3724bc88dafa9e949ac5873": {
      "model_module": "@jupyter-widgets/base",
      "model_module_version": "1.2.0",
      "model_name": "LayoutModel",
      "state": {}
     },
     "13e6be0402a647bf8846feb5bd0cfcd8": {
      "model_module": "@jupyter-widgets/controls",
      "model_module_version": "1.5.0",
      "model_name": "FloatProgressModel",
      "state": {
       "bar_style": "success",
       "description": "5625/5625",
       "layout": "IPY_MODEL_7793d787455540019318848b10787c91",
       "max": 5625,
       "style": "IPY_MODEL_69cd28ae5a8747f7bdb65e017bfeeff5",
       "value": 5625
      }
     },
     "13fa12e9c7cf4ccfa1b18df72b4cddd0": {
      "model_module": "@jupyter-widgets/base",
      "model_module_version": "1.2.0",
      "model_name": "LayoutModel",
      "state": {
       "display": "inline-flex",
       "flex_flow": "row wrap",
       "width": "100%"
      }
     },
     "14021592921744b7a85148b67fa2238c": {
      "model_module": "@jupyter-widgets/base",
      "model_module_version": "1.2.0",
      "model_name": "LayoutModel",
      "state": {
       "flex": "2"
      }
     },
     "140717c3d7734b7684027c37fe240d07": {
      "model_module": "@jupyter-widgets/controls",
      "model_module_version": "1.5.0",
      "model_name": "FloatProgressModel",
      "state": {
       "bar_style": "success",
       "description": "5625/5625",
       "layout": "IPY_MODEL_5e24ff8aebf84caf92942cdc3f2a93af",
       "max": 5625,
       "style": "IPY_MODEL_55302c2644c04c9c8d61d5be8e1c6725",
       "value": 5625
      }
     },
     "143380dd54ac4edd92ed381aaf1e63ca": {
      "model_module": "@jupyter-widgets/base",
      "model_module_version": "1.2.0",
      "model_name": "LayoutModel",
      "state": {
       "flex": "2"
      }
     },
     "14808200b2d44512bf774425168795aa": {
      "model_module": "@jupyter-widgets/controls",
      "model_module_version": "1.5.0",
      "model_name": "HBoxModel",
      "state": {
       "children": [
        "IPY_MODEL_5e6f5eacf7a64284b8ef047371290365",
        "IPY_MODEL_1c2397cae9794e58ae4dc42ae8045aef"
       ],
       "layout": "IPY_MODEL_218d19345b7045daa509e2f6bbd72c81"
      }
     },
     "1486bcaa04194d0e962e6b61fcd101d1": {
      "model_module": "@jupyter-widgets/base",
      "model_module_version": "1.2.0",
      "model_name": "LayoutModel",
      "state": {}
     },
     "1488219b80434cc18ba7777b3d3e7d44": {
      "model_module": "@jupyter-widgets/base",
      "model_module_version": "1.2.0",
      "model_name": "LayoutModel",
      "state": {
       "flex": "2"
      }
     },
     "14cc8fb08c01497e95e6823532131767": {
      "model_module": "@jupyter-widgets/base",
      "model_module_version": "1.2.0",
      "model_name": "LayoutModel",
      "state": {
       "display": "inline-flex",
       "flex_flow": "row wrap",
       "width": "100%"
      }
     },
     "14f2e8f0356c4f18bc4970f2bf62ee2a": {
      "model_module": "@jupyter-widgets/controls",
      "model_module_version": "1.5.0",
      "model_name": "HBoxModel",
      "state": {
       "children": [
        "IPY_MODEL_a36156a835d04da584df05eb09d3e484",
        "IPY_MODEL_cd5927c9ded2407a88580de2e50d5a6f"
       ],
       "layout": "IPY_MODEL_aa6ea5b46a62421298f09eb38d7e8aab"
      }
     },
     "14fc70b7373a4b6fa897a86db4514e29": {
      "model_module": "@jupyter-widgets/controls",
      "model_module_version": "1.5.0",
      "model_name": "HTMLModel",
      "state": {
       "layout": "IPY_MODEL_22fafa074fe7483bb440b2dd3bdce89c",
       "style": "IPY_MODEL_8cd03b65e00340869f3470f18f3f0756",
       "value": " ETA: 00:00s - loss: 0.0323 - val_loss: 0.0344"
      }
     },
     "150e5e3fba9748ad9aa504c658d42a49": {
      "model_module": "@jupyter-widgets/base",
      "model_module_version": "1.2.0",
      "model_name": "LayoutModel",
      "state": {}
     },
     "151381b4461d40b897c378ab1aae76c0": {
      "model_module": "@jupyter-widgets/base",
      "model_module_version": "1.2.0",
      "model_name": "LayoutModel",
      "state": {}
     },
     "15166ce737a946d795dfdcff12483413": {
      "model_module": "@jupyter-widgets/controls",
      "model_module_version": "1.5.0",
      "model_name": "ProgressStyleModel",
      "state": {
       "description_width": "initial"
      }
     },
     "152be5f9300c4a55803af5203b83fcff": {
      "model_module": "@jupyter-widgets/controls",
      "model_module_version": "1.5.0",
      "model_name": "DescriptionStyleModel",
      "state": {
       "description_width": ""
      }
     },
     "1546fa29522f4556ac3403559e7dd07c": {
      "model_module": "@jupyter-widgets/controls",
      "model_module_version": "1.5.0",
      "model_name": "DescriptionStyleModel",
      "state": {
       "description_width": ""
      }
     },
     "154804dd6e9a47828d6caafba1bd89c0": {
      "model_module": "@jupyter-widgets/base",
      "model_module_version": "1.2.0",
      "model_name": "LayoutModel",
      "state": {}
     },
     "157b46079f3f40f984cad14d1c172b7d": {
      "model_module": "@jupyter-widgets/base",
      "model_module_version": "1.2.0",
      "model_name": "LayoutModel",
      "state": {
       "display": "inline-flex",
       "flex_flow": "row wrap",
       "width": "100%"
      }
     },
     "158f8e76e5cd4b92bf1942d7c1051ed2": {
      "model_module": "@jupyter-widgets/base",
      "model_module_version": "1.2.0",
      "model_name": "LayoutModel",
      "state": {
       "display": "inline-flex",
       "flex_flow": "row wrap",
       "width": "100%"
      }
     },
     "15abb302891b46a6a738bf399225e949": {
      "model_module": "@jupyter-widgets/base",
      "model_module_version": "1.2.0",
      "model_name": "LayoutModel",
      "state": {}
     },
     "15b393eb6feb40929c2b1416d9298bbc": {
      "model_module": "@jupyter-widgets/controls",
      "model_module_version": "1.5.0",
      "model_name": "HBoxModel",
      "state": {
       "children": [
        "IPY_MODEL_b4f92524b06e414f997018fc6508cbdb",
        "IPY_MODEL_9104ad4cccbe4a679cdad6bc2f3807bb"
       ],
       "layout": "IPY_MODEL_ae09dda1dfcb4ac3a5d183426a1365e7"
      }
     },
     "15ef8474f859495e85941792bf9a91b9": {
      "model_module": "@jupyter-widgets/controls",
      "model_module_version": "1.5.0",
      "model_name": "HBoxModel",
      "state": {
       "children": [
        "IPY_MODEL_3ca73e41f0894efe89fc52c00f9d93e8",
        "IPY_MODEL_798ad603cdda436c95cb6febe78970a4"
       ],
       "layout": "IPY_MODEL_8831a49e886549dd8e48525c0905b512"
      }
     },
     "15f0683231c148ddb5a26e286a71f04a": {
      "model_module": "@jupyter-widgets/controls",
      "model_module_version": "1.5.0",
      "model_name": "DescriptionStyleModel",
      "state": {
       "description_width": ""
      }
     },
     "1623f59287ba4872867da92264fea080": {
      "model_module": "@jupyter-widgets/controls",
      "model_module_version": "1.5.0",
      "model_name": "HTMLModel",
      "state": {
       "layout": "IPY_MODEL_f4c19361f3e345e096530398cf22c2bd",
       "style": "IPY_MODEL_0411d5acb99c49fa9d0af32669f0e352",
       "value": " ETA: 00:00s - loss: 0.0340 - val_loss: 0.0341"
      }
     },
     "1641f38004ed491592f91ffc31eb7ea8": {
      "model_module": "@jupyter-widgets/controls",
      "model_module_version": "1.5.0",
      "model_name": "HTMLModel",
      "state": {
       "layout": "IPY_MODEL_5c735866769340a4a6a41a2880097089",
       "style": "IPY_MODEL_6f3cef5d80cb44a4af59f97ed8d9e331",
       "value": " ETA: 00:00s - loss: 0.0334 - val_loss: 0.0335"
      }
     },
     "164b62564f184e46ab0e9b1a5a2ab830": {
      "model_module": "@jupyter-widgets/base",
      "model_module_version": "1.2.0",
      "model_name": "LayoutModel",
      "state": {}
     },
     "164cd41c8c554b4cb26aaad0b9c48ce7": {
      "model_module": "@jupyter-widgets/controls",
      "model_module_version": "1.5.0",
      "model_name": "DescriptionStyleModel",
      "state": {
       "description_width": ""
      }
     },
     "165217641b284dcbb725147560dbe9ce": {
      "model_module": "@jupyter-widgets/base",
      "model_module_version": "1.2.0",
      "model_name": "LayoutModel",
      "state": {
       "display": "inline-flex",
       "flex_flow": "row wrap",
       "width": "100%"
      }
     },
     "167a1dee37d94afd817fcac299543551": {
      "model_module": "@jupyter-widgets/controls",
      "model_module_version": "1.5.0",
      "model_name": "HTMLModel",
      "state": {
       "layout": "IPY_MODEL_15abb302891b46a6a738bf399225e949",
       "style": "IPY_MODEL_d1e60eea1cca422b8a1d406c6b70179f",
       "value": " ETA: 00:00s - loss: 0.1111 - val_loss: 0.1095"
      }
     },
     "168623650c434204abdd5ea4273f3ae7": {
      "model_module": "@jupyter-widgets/controls",
      "model_module_version": "1.5.0",
      "model_name": "HTMLModel",
      "state": {
       "layout": "IPY_MODEL_d6abacb9df96406d9909fe88cf8c7f47",
       "style": "IPY_MODEL_e7f852aa3abd43d18c9d5852b8b86541",
       "value": " ETA: 00:00s - loss: 0.1037 - val_loss: 0.1067"
      }
     },
     "16cc34617be94221b79b65d3ff0ede5d": {
      "model_module": "@jupyter-widgets/base",
      "model_module_version": "1.2.0",
      "model_name": "LayoutModel",
      "state": {
       "display": "inline-flex",
       "flex_flow": "row wrap",
       "width": "100%"
      }
     },
     "16e11d1964fd4ca0b4805c466728d15a": {
      "model_module": "@jupyter-widgets/base",
      "model_module_version": "1.2.0",
      "model_name": "LayoutModel",
      "state": {}
     },
     "16e3ce21a9b545d99a307597d5920a1d": {
      "model_module": "@jupyter-widgets/base",
      "model_module_version": "1.2.0",
      "model_name": "LayoutModel",
      "state": {
       "flex": "2"
      }
     },
     "170521c39ac94a00a514fcf3f112b7b4": {
      "model_module": "@jupyter-widgets/base",
      "model_module_version": "1.2.0",
      "model_name": "LayoutModel",
      "state": {
       "flex": "2"
      }
     },
     "17167932d34547249b6907417cd89f38": {
      "model_module": "@jupyter-widgets/controls",
      "model_module_version": "1.5.0",
      "model_name": "HBoxModel",
      "state": {
       "children": [
        "IPY_MODEL_c52c05ac86534105ab0d22c50f90c598",
        "IPY_MODEL_d51e2cb0d6d84070afb24d7914f0bca3"
       ],
       "layout": "IPY_MODEL_8fd0c318983447d184286ccce86cf197"
      }
     },
     "17654fb794964dbdb48b5f227ad52681": {
      "model_module": "@jupyter-widgets/controls",
      "model_module_version": "1.5.0",
      "model_name": "ProgressStyleModel",
      "state": {
       "description_width": "initial"
      }
     },
     "17750263a0484c048c8da0270a704ef6": {
      "model_module": "@jupyter-widgets/controls",
      "model_module_version": "1.5.0",
      "model_name": "ProgressStyleModel",
      "state": {
       "description_width": "initial"
      }
     },
     "17818c61c7b44c539b840a612a6d4bad": {
      "model_module": "@jupyter-widgets/controls",
      "model_module_version": "1.5.0",
      "model_name": "HTMLModel",
      "state": {
       "layout": "IPY_MODEL_35bf2865c27f4df3b25a490063f75201",
       "style": "IPY_MODEL_27b2869da6a842a88af3ac264f6d6f13",
       "value": " ETA: 00:00s - loss: -1.8208 - val_loss: -1.8021"
      }
     },
     "179c062f94334816bf68ddc5fc194a6b": {
      "model_module": "@jupyter-widgets/controls",
      "model_module_version": "1.5.0",
      "model_name": "DescriptionStyleModel",
      "state": {
       "description_width": ""
      }
     },
     "17aaa4f3dc2341b8b8264ce3ec02b588": {
      "model_module": "@jupyter-widgets/base",
      "model_module_version": "1.2.0",
      "model_name": "LayoutModel",
      "state": {}
     },
     "17dd0ecbabd141fcbd97b07ac53ef97e": {
      "model_module": "@jupyter-widgets/controls",
      "model_module_version": "1.5.0",
      "model_name": "DescriptionStyleModel",
      "state": {
       "description_width": ""
      }
     },
     "17fccb68926b49118ef7df33b5fc8254": {
      "model_module": "@jupyter-widgets/controls",
      "model_module_version": "1.5.0",
      "model_name": "HTMLModel",
      "state": {
       "layout": "IPY_MODEL_701c5fac583340349c3fff357aade845",
       "style": "IPY_MODEL_605cb28072644375a2bf0993e653a636",
       "value": " ETA: 00:00s - loss: 0.0693 - val_loss: 0.0711"
      }
     },
     "180680e3a5e64217b5d019acd61213d6": {
      "model_module": "@jupyter-widgets/base",
      "model_module_version": "1.2.0",
      "model_name": "LayoutModel",
      "state": {
       "flex": "2"
      }
     },
     "184a735289e7473dbaef70c2c3d561fb": {
      "model_module": "@jupyter-widgets/base",
      "model_module_version": "1.2.0",
      "model_name": "LayoutModel",
      "state": {
       "flex": "2"
      }
     },
     "186a7f85037a49fc8bdec0b55fd8a3dd": {
      "model_module": "@jupyter-widgets/controls",
      "model_module_version": "1.5.0",
      "model_name": "HBoxModel",
      "state": {
       "children": [
        "IPY_MODEL_0208eccd4ff04472a180675ffc84b981",
        "IPY_MODEL_4958efb2115e4c119343b3746b9bd39c"
       ],
       "layout": "IPY_MODEL_36dc69e4c4c24d53bd72f221dc9ac513"
      }
     },
     "187d21db13d742ab931dc9970c4c1ac9": {
      "model_module": "@jupyter-widgets/base",
      "model_module_version": "1.2.0",
      "model_name": "LayoutModel",
      "state": {}
     },
     "1890361c6c9f490192991cb2017a9a56": {
      "model_module": "@jupyter-widgets/base",
      "model_module_version": "1.2.0",
      "model_name": "LayoutModel",
      "state": {
       "flex": "2"
      }
     },
     "18a9d195b6fe46c68959dab061b988a7": {
      "model_module": "@jupyter-widgets/base",
      "model_module_version": "1.2.0",
      "model_name": "LayoutModel",
      "state": {}
     },
     "18d108dae3ea4615aeaadf3833b01909": {
      "model_module": "@jupyter-widgets/controls",
      "model_module_version": "1.5.0",
      "model_name": "ProgressStyleModel",
      "state": {
       "description_width": "initial"
      }
     },
     "18d84e7d948e4ba4aef9812c5942192e": {
      "model_module": "@jupyter-widgets/controls",
      "model_module_version": "1.5.0",
      "model_name": "HTMLModel",
      "state": {
       "layout": "IPY_MODEL_7ee1c463cda9441dbd441f4dc24e8ea4",
       "style": "IPY_MODEL_aefac67ac2664f929840bcbf9141c391",
       "value": " ETA: 00:00s - loss: -1.8438 - val_loss: -1.8070"
      }
     },
     "19170b3ec55c453487f5a04d59dc1395": {
      "model_module": "@jupyter-widgets/controls",
      "model_module_version": "1.5.0",
      "model_name": "ProgressStyleModel",
      "state": {
       "description_width": "initial"
      }
     },
     "192b9f754a1748f0a6c58624a21fe3ad": {
      "model_module": "@jupyter-widgets/controls",
      "model_module_version": "1.5.0",
      "model_name": "ProgressStyleModel",
      "state": {
       "description_width": "initial"
      }
     },
     "194c585523c24b84941fb182f8fffb30": {
      "model_module": "@jupyter-widgets/controls",
      "model_module_version": "1.5.0",
      "model_name": "HBoxModel",
      "state": {
       "children": [
        "IPY_MODEL_6c41ad3e178f4a9b8fc723d4bd901351",
        "IPY_MODEL_37130e5a732444fe957b3d3d5592263d"
       ],
       "layout": "IPY_MODEL_3dc673b532a54688bcef9cf01cd2fae3"
      }
     },
     "197f648d35e4409880848087d4ed982f": {
      "model_module": "@jupyter-widgets/base",
      "model_module_version": "1.2.0",
      "model_name": "LayoutModel",
      "state": {
       "flex": "2"
      }
     },
     "1995b5aeb1b9415a89b5d5ec8dda7124": {
      "model_module": "@jupyter-widgets/controls",
      "model_module_version": "1.5.0",
      "model_name": "HTMLModel",
      "state": {
       "layout": "IPY_MODEL_99e3f07f348f4fd597a0c0d3359ea47f",
       "style": "IPY_MODEL_8ffcaa8a33c2428e92aad27f35f9cff7",
       "value": " ETA: 00:00s - loss: 0.0717 - val_loss: 0.0730"
      }
     },
     "19ba3aaa970b4c1194aec95f1d9e2ad8": {
      "model_module": "@jupyter-widgets/controls",
      "model_module_version": "1.5.0",
      "model_name": "HBoxModel",
      "state": {
       "children": [
        "IPY_MODEL_4a14ab24f9d6496ba982f5fc3f385a33",
        "IPY_MODEL_6d254a1cb2194d14bed8ed958d85c195"
       ],
       "layout": "IPY_MODEL_d4f84d0597ad4661bf01a5e20f4be208"
      }
     },
     "19d41d6b74854232b5ec2f636431e2bb": {
      "model_module": "@jupyter-widgets/base",
      "model_module_version": "1.2.0",
      "model_name": "LayoutModel",
      "state": {
       "display": "inline-flex",
       "flex_flow": "row wrap",
       "width": "100%"
      }
     },
     "19d92c95a0964322880b9ac864eda06b": {
      "model_module": "@jupyter-widgets/controls",
      "model_module_version": "1.5.0",
      "model_name": "HTMLModel",
      "state": {
       "layout": "IPY_MODEL_c51c02626de54034a1f1a644b9b566a2",
       "style": "IPY_MODEL_1337db85a2eb4a1a80d7d4b51ce475e3",
       "value": " ETA: 00:00s - loss: 0.0746 - val_loss: 0.0747"
      }
     },
     "19fff65b2b9345c8ab2bb49f5ac2a760": {
      "model_module": "@jupyter-widgets/controls",
      "model_module_version": "1.5.0",
      "model_name": "HTMLModel",
      "state": {
       "layout": "IPY_MODEL_c0d6fbe47fc84bbb8c76c194565f7c36",
       "style": "IPY_MODEL_3b746ff0725f4ea596e4dfd5547a1e25",
       "value": " ETA: 00:00s - loss: 0.0356 - val_loss: 0.0339"
      }
     },
     "1a0ae3c6cfbc4455af60f3a11071b564": {
      "model_module": "@jupyter-widgets/controls",
      "model_module_version": "1.5.0",
      "model_name": "ProgressStyleModel",
      "state": {
       "description_width": "initial"
      }
     },
     "1a1bc68b75364aafbcf1661604b20058": {
      "model_module": "@jupyter-widgets/base",
      "model_module_version": "1.2.0",
      "model_name": "LayoutModel",
      "state": {}
     },
     "1a26b7a9386a4d489b42dbfdcc46eb75": {
      "model_module": "@jupyter-widgets/controls",
      "model_module_version": "1.5.0",
      "model_name": "HTMLModel",
      "state": {
       "layout": "IPY_MODEL_71cf424f63f04d4387ea93d57ebb007a",
       "style": "IPY_MODEL_08b71661606e491ea72251533f5b6c54",
       "value": " ETA: 00:00s - loss: 0.0291 - val_loss: 0.0308"
      }
     },
     "1a2a996eef994ea4880ae8cc1c2d28df": {
      "model_module": "@jupyter-widgets/base",
      "model_module_version": "1.2.0",
      "model_name": "LayoutModel",
      "state": {}
     },
     "1a7f2e2585c840b19603ad255a100876": {
      "model_module": "@jupyter-widgets/controls",
      "model_module_version": "1.5.0",
      "model_name": "DescriptionStyleModel",
      "state": {
       "description_width": ""
      }
     },
     "1acae30f9be948b6b69aeaceddb70b7f": {
      "model_module": "@jupyter-widgets/base",
      "model_module_version": "1.2.0",
      "model_name": "LayoutModel",
      "state": {
       "display": "inline-flex",
       "flex_flow": "row wrap",
       "width": "100%"
      }
     },
     "1ad9cd7c42d14290bde7a1f5f0512c01": {
      "model_module": "@jupyter-widgets/base",
      "model_module_version": "1.2.0",
      "model_name": "LayoutModel",
      "state": {
       "flex": "2"
      }
     },
     "1ae76efdffe848d7bd02ed8a8ee702b2": {
      "model_module": "@jupyter-widgets/controls",
      "model_module_version": "1.5.0",
      "model_name": "ProgressStyleModel",
      "state": {
       "description_width": "initial"
      }
     },
     "1aeec4a569054d56a314e9e96c78bd8a": {
      "model_module": "@jupyter-widgets/controls",
      "model_module_version": "1.5.0",
      "model_name": "HTMLModel",
      "state": {
       "layout": "IPY_MODEL_e81af12afbe24ddb9f1d589dce6778c1",
       "style": "IPY_MODEL_15f0683231c148ddb5a26e286a71f04a",
       "value": " ETA: 00:00s - loss: 0.0316 - val_loss: 0.0350"
      }
     },
     "1b004a0418b64841a36336c27c9e8126": {
      "model_module": "@jupyter-widgets/controls",
      "model_module_version": "1.5.0",
      "model_name": "DescriptionStyleModel",
      "state": {
       "description_width": ""
      }
     },
     "1b28906996c74e3999f4f093d71cba0c": {
      "model_module": "@jupyter-widgets/base",
      "model_module_version": "1.2.0",
      "model_name": "LayoutModel",
      "state": {
       "display": "inline-flex",
       "flex_flow": "row wrap",
       "width": "100%"
      }
     },
     "1b3a0cb9753542da8a95cfac3c6ebee5": {
      "model_module": "@jupyter-widgets/base",
      "model_module_version": "1.2.0",
      "model_name": "LayoutModel",
      "state": {
       "flex": "2"
      }
     },
     "1b3d7ffcdd4d4d0a8c9c13b120ff5663": {
      "model_module": "@jupyter-widgets/base",
      "model_module_version": "1.2.0",
      "model_name": "LayoutModel",
      "state": {
       "flex": "2"
      }
     },
     "1b4fb600a53a4568a2aa52d6d557cdd1": {
      "model_module": "@jupyter-widgets/base",
      "model_module_version": "1.2.0",
      "model_name": "LayoutModel",
      "state": {}
     },
     "1b65509a76e8475b87207d2bac6240c0": {
      "model_module": "@jupyter-widgets/controls",
      "model_module_version": "1.5.0",
      "model_name": "HTMLModel",
      "state": {
       "layout": "IPY_MODEL_7e469a68d9f44d1c8ae727240e857858",
       "style": "IPY_MODEL_e8eb4b48f2c143178998f20a55463559",
       "value": " ETA: 00:00s - loss: 0.0278 - val_loss: 0.0294"
      }
     },
     "1b6653240cca4de5a67dc8bdec82d015": {
      "model_module": "@jupyter-widgets/base",
      "model_module_version": "1.2.0",
      "model_name": "LayoutModel",
      "state": {
       "display": "inline-flex",
       "flex_flow": "row wrap",
       "width": "100%"
      }
     },
     "1b6a4c7d90f84bdd9e85f47be440a527": {
      "model_module": "@jupyter-widgets/controls",
      "model_module_version": "1.5.0",
      "model_name": "HTMLModel",
      "state": {
       "layout": "IPY_MODEL_21e39349d0ae46e7a33612b6774988ca",
       "style": "IPY_MODEL_1a7f2e2585c840b19603ad255a100876",
       "value": " ETA: 00:00s - loss: 0.0359 - val_loss: 0.0344"
      }
     },
     "1b75e1a33d9346d3b2add7a67edbcb18": {
      "model_module": "@jupyter-widgets/base",
      "model_module_version": "1.2.0",
      "model_name": "LayoutModel",
      "state": {
       "flex": "2"
      }
     },
     "1b7abfd15a5e459c97468443f683c27b": {
      "model_module": "@jupyter-widgets/base",
      "model_module_version": "1.2.0",
      "model_name": "LayoutModel",
      "state": {
       "display": "inline-flex",
       "flex_flow": "row wrap",
       "width": "100%"
      }
     },
     "1b97f34b47d7485fbf29b8dce229549e": {
      "model_module": "@jupyter-widgets/controls",
      "model_module_version": "1.5.0",
      "model_name": "FloatProgressModel",
      "state": {
       "bar_style": "success",
       "description": "5625/5625",
       "layout": "IPY_MODEL_cb60cfd3350840d28f1bc3c6477def3e",
       "max": 5625,
       "style": "IPY_MODEL_8c0ca5abfd534dacaa5bebfbe373a3f6",
       "value": 5625
      }
     },
     "1baa2a72e61c4753a4284b467c7cbf1a": {
      "model_module": "@jupyter-widgets/base",
      "model_module_version": "1.2.0",
      "model_name": "LayoutModel",
      "state": {}
     },
     "1bdd6dfac8754214b91cedabb38992be": {
      "model_module": "@jupyter-widgets/controls",
      "model_module_version": "1.5.0",
      "model_name": "HBoxModel",
      "state": {
       "children": [
        "IPY_MODEL_df3cf70d65b3489fb20b869a0ee7d2e8",
        "IPY_MODEL_c0ad92f34a594ae7b4c0b71fd17a0c8d"
       ],
       "layout": "IPY_MODEL_2621697fa946431f83c83775d7c4b3a5"
      }
     },
     "1be9a8870b1b421fb9b7d10005e65d11": {
      "model_module": "@jupyter-widgets/controls",
      "model_module_version": "1.5.0",
      "model_name": "HTMLModel",
      "state": {
       "layout": "IPY_MODEL_92511c63e8234b318a0734c5a005d16b",
       "style": "IPY_MODEL_1dc5d3fcdcab43f5b54b77d52c6196f4",
       "value": " ETA: 00:00s - loss: -1.6813 - val_loss: -1.6880"
      }
     },
     "1bf688371290476cb6af6f359acd5863": {
      "model_module": "@jupyter-widgets/controls",
      "model_module_version": "1.5.0",
      "model_name": "DescriptionStyleModel",
      "state": {
       "description_width": ""
      }
     },
     "1c0049eedc344d5da3d62c1260882bd7": {
      "model_module": "@jupyter-widgets/base",
      "model_module_version": "1.2.0",
      "model_name": "LayoutModel",
      "state": {
       "display": "inline-flex",
       "flex_flow": "row wrap",
       "width": "100%"
      }
     },
     "1c2397cae9794e58ae4dc42ae8045aef": {
      "model_module": "@jupyter-widgets/controls",
      "model_module_version": "1.5.0",
      "model_name": "HTMLModel",
      "state": {
       "layout": "IPY_MODEL_f468a193254a4cb89add736790e22912",
       "style": "IPY_MODEL_7cf648460a10427d96cb1eeee99cec6a",
       "value": " ETA: 00:00s - loss: 0.0880 - val_loss: 0.0877"
      }
     },
     "1c26b2fb70c341a4a22b94557b226b90": {
      "model_module": "@jupyter-widgets/controls",
      "model_module_version": "1.5.0",
      "model_name": "HTMLModel",
      "state": {
       "layout": "IPY_MODEL_857cf8ff9c3b42d2970e40f9738e05b3",
       "style": "IPY_MODEL_9077947016ca407f895d34add3960380",
       "value": " ETA: 00:00s - loss: -1.8036 - val_loss: -1.7760"
      }
     },
     "1c285cb06e024816b3d0dc53bfac9515": {
      "model_module": "@jupyter-widgets/base",
      "model_module_version": "1.2.0",
      "model_name": "LayoutModel",
      "state": {
       "flex": "2"
      }
     },
     "1c481544de6144c49d9003841b979eed": {
      "model_module": "@jupyter-widgets/controls",
      "model_module_version": "1.5.0",
      "model_name": "HBoxModel",
      "state": {
       "children": [
        "IPY_MODEL_7a6eab279d3342698cc1fd1c6105d205",
        "IPY_MODEL_5dfc5cfc57974930b98e8585a76c9204"
       ],
       "layout": "IPY_MODEL_b8224d4c25b14e20a5da698ef1588063"
      }
     },
     "1c5e11f182c549f19bc5cb172abcb651": {
      "model_module": "@jupyter-widgets/controls",
      "model_module_version": "1.5.0",
      "model_name": "DescriptionStyleModel",
      "state": {
       "description_width": ""
      }
     },
     "1c725a2393cc4393bead5c10c3edf676": {
      "model_module": "@jupyter-widgets/controls",
      "model_module_version": "1.5.0",
      "model_name": "HTMLModel",
      "state": {
       "layout": "IPY_MODEL_bcb4e4b81c81461fb5da6af9cf33c8cf",
       "style": "IPY_MODEL_42b5e93424254d65b148f2d1e4d13c45",
       "value": " ETA: 00:00s - loss: 0.0262 - val_loss: 0.0292"
      }
     },
     "1c8aeea001234a1bbdad7f7b88ad2016": {
      "model_module": "@jupyter-widgets/controls",
      "model_module_version": "1.5.0",
      "model_name": "HBoxModel",
      "state": {
       "children": [
        "IPY_MODEL_72a79e73462c4b279bf389ab1c58370f",
        "IPY_MODEL_d18cdfe7d2ed47aa806c3652a18e9ef8"
       ],
       "layout": "IPY_MODEL_a9c25844c6704879b6dbba3e4a84f017"
      }
     },
     "1cbae53df83a4ca6b2ec3e5a2981e1a6": {
      "model_module": "@jupyter-widgets/base",
      "model_module_version": "1.2.0",
      "model_name": "LayoutModel",
      "state": {}
     },
     "1ce6d8cfa94d4e49bd2c2be0c447aa90": {
      "model_module": "@jupyter-widgets/controls",
      "model_module_version": "1.5.0",
      "model_name": "DescriptionStyleModel",
      "state": {
       "description_width": ""
      }
     },
     "1ce833c2b2e54a8895d2ccffbdbe1b42": {
      "model_module": "@jupyter-widgets/controls",
      "model_module_version": "1.5.0",
      "model_name": "FloatProgressModel",
      "state": {
       "bar_style": "success",
       "description": "5625/5625",
       "layout": "IPY_MODEL_2fe0fc2165f94165a645f8a8fd470ec0",
       "max": 5625,
       "style": "IPY_MODEL_ea7f96dbf7ef4e2ea2ec29bae613991f",
       "value": 5625
      }
     },
     "1d1f0c4bfccb460d907ad0195e0066ef": {
      "model_module": "@jupyter-widgets/controls",
      "model_module_version": "1.5.0",
      "model_name": "FloatProgressModel",
      "state": {
       "bar_style": "success",
       "description": "5625/5625",
       "layout": "IPY_MODEL_b6ea1ed76fb441679b6f721cea7cb46d",
       "max": 5625,
       "style": "IPY_MODEL_6cb7f7694f814e5b80308c08d914a861",
       "value": 5625
      }
     },
     "1d333768d465412bbb692c216e7880fe": {
      "model_module": "@jupyter-widgets/controls",
      "model_module_version": "1.5.0",
      "model_name": "FloatProgressModel",
      "state": {
       "bar_style": "success",
       "description": "5625/5625",
       "layout": "IPY_MODEL_c316ae52a06548389a532e50ba0738e8",
       "max": 5625,
       "style": "IPY_MODEL_96d50ac53bb04914b501c20503f868d8",
       "value": 5625
      }
     },
     "1d3b4ebb48cc4c318bedaa6b2bd933a1": {
      "model_module": "@jupyter-widgets/controls",
      "model_module_version": "1.5.0",
      "model_name": "FloatProgressModel",
      "state": {
       "bar_style": "success",
       "description": "5625/5625",
       "layout": "IPY_MODEL_bdec9f63e17f4fa1841c4b3520d1663a",
       "max": 5625,
       "style": "IPY_MODEL_1f872ef9df424b89a2c66e031ab28f21",
       "value": 5625
      }
     },
     "1d69819c4e0a45c19c5b4a62977a60c5": {
      "model_module": "@jupyter-widgets/controls",
      "model_module_version": "1.5.0",
      "model_name": "DescriptionStyleModel",
      "state": {
       "description_width": ""
      }
     },
     "1d7cf0884745483c9b79ac52745217ce": {
      "model_module": "@jupyter-widgets/base",
      "model_module_version": "1.2.0",
      "model_name": "LayoutModel",
      "state": {}
     },
     "1d87a965953141cbab74048aa36c38ae": {
      "model_module": "@jupyter-widgets/controls",
      "model_module_version": "1.5.0",
      "model_name": "FloatProgressModel",
      "state": {
       "bar_style": "success",
       "description": "5625/5625",
       "layout": "IPY_MODEL_636f0ca38a9445afa3dcaeb9ff45cf92",
       "max": 5625,
       "style": "IPY_MODEL_da560856213c4dd1bf8611ff90d81da5",
       "value": 5625
      }
     },
     "1d90d25229df4a4fa84c17f94cc84667": {
      "model_module": "@jupyter-widgets/base",
      "model_module_version": "1.2.0",
      "model_name": "LayoutModel",
      "state": {
       "display": "inline-flex",
       "flex_flow": "row wrap",
       "width": "100%"
      }
     },
     "1d91796d7bd94f0b99a77dc10840d83f": {
      "model_module": "@jupyter-widgets/controls",
      "model_module_version": "1.5.0",
      "model_name": "DescriptionStyleModel",
      "state": {
       "description_width": ""
      }
     },
     "1dc5d3fcdcab43f5b54b77d52c6196f4": {
      "model_module": "@jupyter-widgets/controls",
      "model_module_version": "1.5.0",
      "model_name": "DescriptionStyleModel",
      "state": {
       "description_width": ""
      }
     },
     "1dc825b097dc416abed38ae93663c4ab": {
      "model_module": "@jupyter-widgets/base",
      "model_module_version": "1.2.0",
      "model_name": "LayoutModel",
      "state": {
       "display": "inline-flex",
       "flex_flow": "row wrap",
       "width": "100%"
      }
     },
     "1dcd3e1eba354018a17642432b4bc5c1": {
      "model_module": "@jupyter-widgets/base",
      "model_module_version": "1.2.0",
      "model_name": "LayoutModel",
      "state": {
       "display": "inline-flex",
       "flex_flow": "row wrap",
       "width": "100%"
      }
     },
     "1ded7dfe959342f9b84619658e6057ce": {
      "model_module": "@jupyter-widgets/controls",
      "model_module_version": "1.5.0",
      "model_name": "HBoxModel",
      "state": {
       "children": [
        "IPY_MODEL_cbe6a85af3e64b378417abcaaedede2e",
        "IPY_MODEL_d5a38faa80b34f1c8d497388d2add31d"
       ],
       "layout": "IPY_MODEL_3c4f1feed66e45639c893a5914a59020"
      }
     },
     "1e231d7532654789a0b2c07ca2cf0cd5": {
      "model_module": "@jupyter-widgets/base",
      "model_module_version": "1.2.0",
      "model_name": "LayoutModel",
      "state": {
       "display": "inline-flex",
       "flex_flow": "row wrap",
       "width": "100%"
      }
     },
     "1e2bab1e1f284cd2915bc31d83129c6d": {
      "model_module": "@jupyter-widgets/controls",
      "model_module_version": "1.5.0",
      "model_name": "ProgressStyleModel",
      "state": {
       "description_width": "initial"
      }
     },
     "1e612c92c9614bf5a812e21b610b7c5c": {
      "model_module": "@jupyter-widgets/controls",
      "model_module_version": "1.5.0",
      "model_name": "DescriptionStyleModel",
      "state": {
       "description_width": ""
      }
     },
     "1e7a9e0b5ff949a89c1d82c8dc147d4d": {
      "model_module": "@jupyter-widgets/controls",
      "model_module_version": "1.5.0",
      "model_name": "ProgressStyleModel",
      "state": {
       "description_width": "initial"
      }
     },
     "1e7ccbceebb04ac5a3237b926cdd1e36": {
      "model_module": "@jupyter-widgets/base",
      "model_module_version": "1.2.0",
      "model_name": "LayoutModel",
      "state": {
       "display": "inline-flex",
       "flex_flow": "row wrap",
       "width": "100%"
      }
     },
     "1e9b3b276daa4fa9bd26c8006ae2660d": {
      "model_module": "@jupyter-widgets/controls",
      "model_module_version": "1.5.0",
      "model_name": "DescriptionStyleModel",
      "state": {
       "description_width": ""
      }
     },
     "1e9bf947f03848cca39a59a0d2178e33": {
      "model_module": "@jupyter-widgets/base",
      "model_module_version": "1.2.0",
      "model_name": "LayoutModel",
      "state": {}
     },
     "1e9e04a4d2a4437bb1cff4cfd3f1794a": {
      "model_module": "@jupyter-widgets/base",
      "model_module_version": "1.2.0",
      "model_name": "LayoutModel",
      "state": {}
     },
     "1ee760cb292b4cabafb2c1c34a1b5291": {
      "model_module": "@jupyter-widgets/base",
      "model_module_version": "1.2.0",
      "model_name": "LayoutModel",
      "state": {}
     },
     "1eea06992df54758ad695a91378cbca3": {
      "model_module": "@jupyter-widgets/base",
      "model_module_version": "1.2.0",
      "model_name": "LayoutModel",
      "state": {
       "display": "inline-flex",
       "flex_flow": "row wrap",
       "width": "100%"
      }
     },
     "1efcb405369e4c44ba888ba5594ec40a": {
      "model_module": "@jupyter-widgets/controls",
      "model_module_version": "1.5.0",
      "model_name": "FloatProgressModel",
      "state": {
       "bar_style": "success",
       "description": "5625/5625",
       "layout": "IPY_MODEL_800c6f5676a346f59acbf85cfe40470a",
       "max": 5625,
       "style": "IPY_MODEL_64b22694d8d84395b47d07310286d558",
       "value": 5625
      }
     },
     "1f2505312ed84eb6850fe65b48365f73": {
      "model_module": "@jupyter-widgets/controls",
      "model_module_version": "1.5.0",
      "model_name": "HTMLModel",
      "state": {
       "layout": "IPY_MODEL_b697c973d1364f08b43921448d83b0ab",
       "style": "IPY_MODEL_267f88fbad7140d5bb54c7a7ce581eab",
       "value": " ETA: 00:00s - loss: 0.0320 - val_loss: 0.0340"
      }
     },
     "1f48b831ed0b48ddae20e3b2f06e91fd": {
      "model_module": "@jupyter-widgets/base",
      "model_module_version": "1.2.0",
      "model_name": "LayoutModel",
      "state": {}
     },
     "1f57252fc1f74f16afcbd60a13286e31": {
      "model_module": "@jupyter-widgets/controls",
      "model_module_version": "1.5.0",
      "model_name": "FloatProgressModel",
      "state": {
       "bar_style": "success",
       "description": "5625/5625",
       "layout": "IPY_MODEL_ca91eddb3c634a558fb23d692c143bab",
       "max": 5625,
       "style": "IPY_MODEL_fad93047313d45db97fc03a7c51f8bbf",
       "value": 5625
      }
     },
     "1f5bca185cf840749c33535930d224fc": {
      "model_module": "@jupyter-widgets/controls",
      "model_module_version": "1.5.0",
      "model_name": "FloatProgressModel",
      "state": {
       "bar_style": "success",
       "description": "5625/5625",
       "layout": "IPY_MODEL_b3f944d430914b12bfa62456b8fb1cff",
       "max": 5625,
       "style": "IPY_MODEL_c8122a897bf84e01a4d49479fcbb0f03",
       "value": 5625
      }
     },
     "1f872ef9df424b89a2c66e031ab28f21": {
      "model_module": "@jupyter-widgets/controls",
      "model_module_version": "1.5.0",
      "model_name": "ProgressStyleModel",
      "state": {
       "description_width": "initial"
      }
     },
     "1f974c1e4c3046fcb4c36b61cd76d6b2": {
      "model_module": "@jupyter-widgets/controls",
      "model_module_version": "1.5.0",
      "model_name": "ProgressStyleModel",
      "state": {
       "description_width": "initial"
      }
     },
     "1fb08072aea8435797266daf6f6c11b8": {
      "model_module": "@jupyter-widgets/base",
      "model_module_version": "1.2.0",
      "model_name": "LayoutModel",
      "state": {
       "flex": "2"
      }
     },
     "1fc311d4e38e4cbbbc26bb2a7b04d2d5": {
      "model_module": "@jupyter-widgets/controls",
      "model_module_version": "1.5.0",
      "model_name": "ProgressStyleModel",
      "state": {
       "description_width": "initial"
      }
     },
     "1fcabe12928d4c6e9f8aa2987f0705d0": {
      "model_module": "@jupyter-widgets/controls",
      "model_module_version": "1.5.0",
      "model_name": "FloatProgressModel",
      "state": {
       "bar_style": "success",
       "description": "5625/5625",
       "layout": "IPY_MODEL_1b75e1a33d9346d3b2add7a67edbcb18",
       "max": 5625,
       "style": "IPY_MODEL_7cbb3474a68741a1a1c8333d642c91df",
       "value": 5625
      }
     },
     "1fda7303d26249ef9db1c0fe51237f01": {
      "model_module": "@jupyter-widgets/controls",
      "model_module_version": "1.5.0",
      "model_name": "FloatProgressModel",
      "state": {
       "bar_style": "success",
       "description": "5625/5625",
       "layout": "IPY_MODEL_dd0f485d75b342e1a786641ad5b4a387",
       "max": 5625,
       "style": "IPY_MODEL_e9754b3b6256438db7352894b9466d31",
       "value": 5625
      }
     },
     "1fe9d84ace824f6dabb3ed9ed38fbbdf": {
      "model_module": "@jupyter-widgets/controls",
      "model_module_version": "1.5.0",
      "model_name": "HTMLModel",
      "state": {
       "layout": "IPY_MODEL_f95ab70638324ace9f515e227f4a8092",
       "style": "IPY_MODEL_68cd63acca5e420f9fd74de3bb9158f1",
       "value": " ETA: 00:00s - loss: -1.8452 - val_loss: -1.7903"
      }
     },
     "2017955aff4f4331affc65b52a5eb647": {
      "model_module": "@jupyter-widgets/controls",
      "model_module_version": "1.5.0",
      "model_name": "ProgressStyleModel",
      "state": {
       "description_width": "initial"
      }
     },
     "202d838f40214ce0b022f0118a42a422": {
      "model_module": "@jupyter-widgets/controls",
      "model_module_version": "1.5.0",
      "model_name": "HBoxModel",
      "state": {
       "children": [
        "IPY_MODEL_e583f3e049dc4bb983606d2963101a13",
        "IPY_MODEL_55e271b4d54b44a2930596b409ebcd24"
       ],
       "layout": "IPY_MODEL_3400e61372a04cac9be7a98b6d28e5f7"
      }
     },
     "20326180cef842ddb648f4a1f992144c": {
      "model_module": "@jupyter-widgets/controls",
      "model_module_version": "1.5.0",
      "model_name": "DescriptionStyleModel",
      "state": {
       "description_width": ""
      }
     },
     "20445226336f4ea8b68b32b99b1cfc98": {
      "model_module": "@jupyter-widgets/controls",
      "model_module_version": "1.5.0",
      "model_name": "HBoxModel",
      "state": {
       "children": [
        "IPY_MODEL_579846f2355a4af5b0d37f0512109fc0",
        "IPY_MODEL_d6cd7a76e4e24ab6843ebffa96618c26"
       ],
       "layout": "IPY_MODEL_0988ff4a861344cca3a3c4e3f1c2d974"
      }
     },
     "2054d30e9b3f42fea48e2b846d388e13": {
      "model_module": "@jupyter-widgets/controls",
      "model_module_version": "1.5.0",
      "model_name": "HBoxModel",
      "state": {
       "children": [
        "IPY_MODEL_af89fbde8c5e4b2da462db5aad890b45",
        "IPY_MODEL_99226f2be7d44682bc139cc704a77c59"
       ],
       "layout": "IPY_MODEL_16cc34617be94221b79b65d3ff0ede5d"
      }
     },
     "2064aad8f16a46e987bebe717eb16261": {
      "model_module": "@jupyter-widgets/base",
      "model_module_version": "1.2.0",
      "model_name": "LayoutModel",
      "state": {
       "display": "inline-flex",
       "flex_flow": "row wrap",
       "width": "100%"
      }
     },
     "206dd5bdd1d7425f9859ee58182617d5": {
      "model_module": "@jupyter-widgets/base",
      "model_module_version": "1.2.0",
      "model_name": "LayoutModel",
      "state": {}
     },
     "2080d2e5cf284fa390a01700a2932953": {
      "model_module": "@jupyter-widgets/controls",
      "model_module_version": "1.5.0",
      "model_name": "HTMLModel",
      "state": {
       "layout": "IPY_MODEL_a1f431c8041e4fb3aa03e348f1368734",
       "style": "IPY_MODEL_66a0358dbf0341dbbcc3f4287cdc727e",
       "value": " ETA: 00:00s - loss: 0.0275 - val_loss: 0.0289"
      }
     },
     "2129178118a7476ab7a42a3a65ee2b8f": {
      "model_module": "@jupyter-widgets/base",
      "model_module_version": "1.2.0",
      "model_name": "LayoutModel",
      "state": {}
     },
     "215a6c601b6a4ed393684b35727f8037": {
      "model_module": "@jupyter-widgets/controls",
      "model_module_version": "1.5.0",
      "model_name": "DescriptionStyleModel",
      "state": {
       "description_width": ""
      }
     },
     "218d19345b7045daa509e2f6bbd72c81": {
      "model_module": "@jupyter-widgets/base",
      "model_module_version": "1.2.0",
      "model_name": "LayoutModel",
      "state": {
       "display": "inline-flex",
       "flex_flow": "row wrap",
       "width": "100%"
      }
     },
     "21a67b31343d41eb8fab6ffc740f76f9": {
      "model_module": "@jupyter-widgets/controls",
      "model_module_version": "1.5.0",
      "model_name": "DescriptionStyleModel",
      "state": {
       "description_width": ""
      }
     },
     "21bf4e68dfb644419b2770a977586471": {
      "model_module": "@jupyter-widgets/base",
      "model_module_version": "1.2.0",
      "model_name": "LayoutModel",
      "state": {
       "display": "inline-flex",
       "flex_flow": "row wrap",
       "width": "100%"
      }
     },
     "21d5cb149a804369b0e8e66cbd061a3e": {
      "model_module": "@jupyter-widgets/controls",
      "model_module_version": "1.5.0",
      "model_name": "FloatProgressModel",
      "state": {
       "bar_style": "success",
       "description": "5625/5625",
       "layout": "IPY_MODEL_287f430a78c04cbfb2c21e3c195e3925",
       "max": 5625,
       "style": "IPY_MODEL_7a954fa5f99e4073955b6962f0074241",
       "value": 5625
      }
     },
     "21e39349d0ae46e7a33612b6774988ca": {
      "model_module": "@jupyter-widgets/base",
      "model_module_version": "1.2.0",
      "model_name": "LayoutModel",
      "state": {}
     },
     "21f89a6da69a4fae838ffb3bc9ba1155": {
      "model_module": "@jupyter-widgets/controls",
      "model_module_version": "1.5.0",
      "model_name": "ProgressStyleModel",
      "state": {
       "description_width": "initial"
      }
     },
     "21f96c18793d4d909de24df0bf0bd825": {
      "model_module": "@jupyter-widgets/controls",
      "model_module_version": "1.5.0",
      "model_name": "DescriptionStyleModel",
      "state": {
       "description_width": ""
      }
     },
     "223126c11e6d4d07a88a74b43ea42224": {
      "model_module": "@jupyter-widgets/base",
      "model_module_version": "1.2.0",
      "model_name": "LayoutModel",
      "state": {
       "flex": "2"
      }
     },
     "22571f286c0743da9963ddf457a00741": {
      "model_module": "@jupyter-widgets/controls",
      "model_module_version": "1.5.0",
      "model_name": "HBoxModel",
      "state": {
       "children": [
        "IPY_MODEL_9fd591115c1348b3b0e88b22ce3125ba",
        "IPY_MODEL_4370cb978fc34694877a15a0a33064cd"
       ],
       "layout": "IPY_MODEL_3b1f55a04aeb4dbbabfb12cd615c46cf"
      }
     },
     "22819ddc96884a66b72b04545ac9d79d": {
      "model_module": "@jupyter-widgets/base",
      "model_module_version": "1.2.0",
      "model_name": "LayoutModel",
      "state": {
       "flex": "2"
      }
     },
     "2291fe2f18b04480b2d653ee60066ee8": {
      "model_module": "@jupyter-widgets/controls",
      "model_module_version": "1.5.0",
      "model_name": "HBoxModel",
      "state": {
       "children": [
        "IPY_MODEL_f8cfe86b75c54d9e80519c67df3c7139",
        "IPY_MODEL_83ccdb12c78c43e6aa571874b4eb7d57"
       ],
       "layout": "IPY_MODEL_3b481dd8317c416fad67efbd67b11291"
      }
     },
     "2297e39550c04314bc1144d67547133b": {
      "model_module": "@jupyter-widgets/controls",
      "model_module_version": "1.5.0",
      "model_name": "ProgressStyleModel",
      "state": {
       "description_width": "initial"
      }
     },
     "22ec03275ef34cc99fea33ec860c9bf5": {
      "model_module": "@jupyter-widgets/controls",
      "model_module_version": "1.5.0",
      "model_name": "DescriptionStyleModel",
      "state": {
       "description_width": ""
      }
     },
     "22f2f07421e1404798e091f3c44f36ba": {
      "model_module": "@jupyter-widgets/controls",
      "model_module_version": "1.5.0",
      "model_name": "DescriptionStyleModel",
      "state": {
       "description_width": ""
      }
     },
     "22fafa074fe7483bb440b2dd3bdce89c": {
      "model_module": "@jupyter-widgets/base",
      "model_module_version": "1.2.0",
      "model_name": "LayoutModel",
      "state": {}
     },
     "234a4f443fd245e595d80678c9375ed0": {
      "model_module": "@jupyter-widgets/controls",
      "model_module_version": "1.5.0",
      "model_name": "HBoxModel",
      "state": {
       "children": [
        "IPY_MODEL_bbd4580de4f24316849c9dbd45efc710",
        "IPY_MODEL_91fa6c9135d340d88f408b9c9ee13350"
       ],
       "layout": "IPY_MODEL_d8827a46ff8f4d6d86835f95707450c3"
      }
     },
     "23602384e4564c1f8b776146c4465f2d": {
      "model_module": "@jupyter-widgets/controls",
      "model_module_version": "1.5.0",
      "model_name": "DescriptionStyleModel",
      "state": {
       "description_width": ""
      }
     },
     "23da1556f9ab43b990da9d0022c65caf": {
      "model_module": "@jupyter-widgets/base",
      "model_module_version": "1.2.0",
      "model_name": "LayoutModel",
      "state": {
       "flex": "2"
      }
     },
     "23db597ab2024461bceda6cbfc4bfe17": {
      "model_module": "@jupyter-widgets/controls",
      "model_module_version": "1.5.0",
      "model_name": "HTMLModel",
      "state": {
       "layout": "IPY_MODEL_e7055dea76084bc08c035b68c11ac68d",
       "style": "IPY_MODEL_91eafce7a4e341de8ce983ff874f686f",
       "value": " ETA: 00:00s - loss: -1.5916 - val_loss: -1.6106"
      }
     },
     "2416017aa5c84caf878239600b21aa30": {
      "model_module": "@jupyter-widgets/controls",
      "model_module_version": "1.5.0",
      "model_name": "ProgressStyleModel",
      "state": {
       "description_width": "initial"
      }
     },
     "244266333c43461b88e491d8161d8935": {
      "model_module": "@jupyter-widgets/base",
      "model_module_version": "1.2.0",
      "model_name": "LayoutModel",
      "state": {
       "display": "inline-flex",
       "flex_flow": "row wrap",
       "width": "100%"
      }
     },
     "24429f4c10154209b9d94bda0b296aa5": {
      "model_module": "@jupyter-widgets/controls",
      "model_module_version": "1.5.0",
      "model_name": "ProgressStyleModel",
      "state": {
       "description_width": "initial"
      }
     },
     "2464439c158e44da8357618cd34faae4": {
      "model_module": "@jupyter-widgets/base",
      "model_module_version": "1.2.0",
      "model_name": "LayoutModel",
      "state": {
       "flex": "2"
      }
     },
     "246db9e483ec47c2be5fc4a85114afb6": {
      "model_module": "@jupyter-widgets/base",
      "model_module_version": "1.2.0",
      "model_name": "LayoutModel",
      "state": {
       "display": "inline-flex",
       "flex_flow": "row wrap",
       "width": "100%"
      }
     },
     "2477ad9b52b54fc19ef6cc3ba66bdec5": {
      "model_module": "@jupyter-widgets/base",
      "model_module_version": "1.2.0",
      "model_name": "LayoutModel",
      "state": {
       "display": "inline-flex",
       "flex_flow": "row wrap",
       "width": "100%"
      }
     },
     "247c448076dd4d07a3c0bb3a9603b347": {
      "model_module": "@jupyter-widgets/base",
      "model_module_version": "1.2.0",
      "model_name": "LayoutModel",
      "state": {
       "flex": "2"
      }
     },
     "248ba09f647c4d11b7c06a80a6e21207": {
      "model_module": "@jupyter-widgets/controls",
      "model_module_version": "1.5.0",
      "model_name": "HBoxModel",
      "state": {
       "children": [
        "IPY_MODEL_cf04d43af4a449b993451b0b705d12ca",
        "IPY_MODEL_1132affd18a9469082f6c3da251216b7"
       ],
       "layout": "IPY_MODEL_fdfa4f048e9f4241b135bc6cebd8c4fd"
      }
     },
     "2493cba617b84592ba1cfe68a452a0e1": {
      "model_module": "@jupyter-widgets/controls",
      "model_module_version": "1.5.0",
      "model_name": "HTMLModel",
      "state": {
       "layout": "IPY_MODEL_effe8cb0a6cd4addba7313e3f4fcce36",
       "style": "IPY_MODEL_6cbf3ccbc42748029561b8bb5d75d4b7",
       "value": " ETA: 00:00s - loss: -1.8454 - val_loss: -1.7987"
      }
     },
     "24c3156b80a34751944290913f88f258": {
      "model_module": "@jupyter-widgets/controls",
      "model_module_version": "1.5.0",
      "model_name": "FloatProgressModel",
      "state": {
       "bar_style": "success",
       "description": "5625/5625",
       "layout": "IPY_MODEL_2b4f20bea3f14d9098db69ab5a048674",
       "max": 5625,
       "style": "IPY_MODEL_c227fb4d7bb543979b497012e9149194",
       "value": 5625
      }
     },
     "24d02a36967c4a699a0ff80ce007f4a0": {
      "model_module": "@jupyter-widgets/controls",
      "model_module_version": "1.5.0",
      "model_name": "HTMLModel",
      "state": {
       "layout": "IPY_MODEL_940c115b4c4648a6b71048eeb6a20a8d",
       "style": "IPY_MODEL_6530bfba08ac4df7ba75f9c34e5d3550",
       "value": " ETA: 00:00s - loss: 0.0331 - val_loss: 0.0340"
      }
     },
     "24d6b8f8562c445180b954583927dae2": {
      "model_module": "@jupyter-widgets/controls",
      "model_module_version": "1.5.0",
      "model_name": "ProgressStyleModel",
      "state": {
       "description_width": "initial"
      }
     },
     "24dd842d50f244dc818d49c2cee3d88b": {
      "model_module": "@jupyter-widgets/controls",
      "model_module_version": "1.5.0",
      "model_name": "HBoxModel",
      "state": {
       "children": [
        "IPY_MODEL_5a1a8735487a4fe6aee4ce7fe0607692",
        "IPY_MODEL_a76072066a93427cb31c4427633ee4fa"
       ],
       "layout": "IPY_MODEL_cea20dafeca14385ad5867b9ac48d966"
      }
     },
     "24e7d3be207a4d9584c21400a8b58d94": {
      "model_module": "@jupyter-widgets/base",
      "model_module_version": "1.2.0",
      "model_name": "LayoutModel",
      "state": {}
     },
     "24f304e7d30943918565615d3c1c5ac5": {
      "model_module": "@jupyter-widgets/base",
      "model_module_version": "1.2.0",
      "model_name": "LayoutModel",
      "state": {
       "display": "inline-flex",
       "flex_flow": "row wrap",
       "width": "100%"
      }
     },
     "2510a2be5c6547b78b5aec5d033b1dab": {
      "model_module": "@jupyter-widgets/base",
      "model_module_version": "1.2.0",
      "model_name": "LayoutModel",
      "state": {
       "flex": "2"
      }
     },
     "252fe4218569464d9327ac86d77f2fe6": {
      "model_module": "@jupyter-widgets/controls",
      "model_module_version": "1.5.0",
      "model_name": "HBoxModel",
      "state": {
       "children": [
        "IPY_MODEL_ad4073a97d01436287818d5061de753c",
        "IPY_MODEL_86d671478f794085b1c4148663ab4ccb"
       ],
       "layout": "IPY_MODEL_afab6e956af04480906da7c5a1cea76d"
      }
     },
     "25405b2b8136420c87d3819cd30d1d10": {
      "model_module": "@jupyter-widgets/base",
      "model_module_version": "1.2.0",
      "model_name": "LayoutModel",
      "state": {
       "display": "inline-flex",
       "flex_flow": "row wrap",
       "width": "100%"
      }
     },
     "254bce10fa39416897b6196b5d4de687": {
      "model_module": "@jupyter-widgets/base",
      "model_module_version": "1.2.0",
      "model_name": "LayoutModel",
      "state": {
       "flex": "2"
      }
     },
     "2552f929dbff413991ce7371a848a1c7": {
      "model_module": "@jupyter-widgets/controls",
      "model_module_version": "1.5.0",
      "model_name": "FloatProgressModel",
      "state": {
       "bar_style": "success",
       "description": "5625/5625",
       "layout": "IPY_MODEL_cdefb4dd639c4e998db3d9a17584fbaf",
       "max": 5625,
       "style": "IPY_MODEL_49e2a610f104451fb37d84322d853cf9",
       "value": 5625
      }
     },
     "256ca6aa093543afa98ab4725298329c": {
      "model_module": "@jupyter-widgets/base",
      "model_module_version": "1.2.0",
      "model_name": "LayoutModel",
      "state": {}
     },
     "25d6520d6da140b48310ac8d6d9ba93f": {
      "model_module": "@jupyter-widgets/controls",
      "model_module_version": "1.5.0",
      "model_name": "HTMLModel",
      "state": {
       "layout": "IPY_MODEL_50c0a0ec7f154b0db1403f52cdb8be8b",
       "style": "IPY_MODEL_9f9db51135cc483f8e0e6e26c730d20f",
       "value": " ETA: 00:00s - loss: 0.0319 - val_loss: 0.0321"
      }
     },
     "25d9044f097d4705aed8701d944946aa": {
      "model_module": "@jupyter-widgets/controls",
      "model_module_version": "1.5.0",
      "model_name": "HTMLModel",
      "state": {
       "layout": "IPY_MODEL_b7dd34c6b5b44f4ba311ba661e46a094",
       "style": "IPY_MODEL_9cbece666263415aa037ebb93d7a5e8b",
       "value": " ETA: 00:00s - loss: -1.1516 - val_loss: -1.2550"
      }
     },
     "2621697fa946431f83c83775d7c4b3a5": {
      "model_module": "@jupyter-widgets/base",
      "model_module_version": "1.2.0",
      "model_name": "LayoutModel",
      "state": {
       "display": "inline-flex",
       "flex_flow": "row wrap",
       "width": "100%"
      }
     },
     "267f88fbad7140d5bb54c7a7ce581eab": {
      "model_module": "@jupyter-widgets/controls",
      "model_module_version": "1.5.0",
      "model_name": "DescriptionStyleModel",
      "state": {
       "description_width": ""
      }
     },
     "26884082123840869591b91dc994a990": {
      "model_module": "@jupyter-widgets/controls",
      "model_module_version": "1.5.0",
      "model_name": "HBoxModel",
      "state": {
       "children": [
        "IPY_MODEL_a68919cd0c0c4a968f832891f2d47d0f",
        "IPY_MODEL_410470f795eb4e37b092aca023f29717"
       ],
       "layout": "IPY_MODEL_2477ad9b52b54fc19ef6cc3ba66bdec5"
      }
     },
     "26f18017978345a8979d3ec6eed0d095": {
      "model_module": "@jupyter-widgets/controls",
      "model_module_version": "1.5.0",
      "model_name": "HBoxModel",
      "state": {
       "children": [
        "IPY_MODEL_1efcb405369e4c44ba888ba5594ec40a",
        "IPY_MODEL_56b15f73de4a4f19b529c3ddc95ca6ac"
       ],
       "layout": "IPY_MODEL_92115ebf6e3841d8b67c94172f5b4f7b"
      }
     },
     "27116031894443c6a4b66094bae89429": {
      "model_module": "@jupyter-widgets/controls",
      "model_module_version": "1.5.0",
      "model_name": "DescriptionStyleModel",
      "state": {
       "description_width": ""
      }
     },
     "2714b711204048798e6c8cd993d01f0b": {
      "model_module": "@jupyter-widgets/base",
      "model_module_version": "1.2.0",
      "model_name": "LayoutModel",
      "state": {
       "flex": "2"
      }
     },
     "2718123fbcee44d3a2f5930c8ce56bb9": {
      "model_module": "@jupyter-widgets/controls",
      "model_module_version": "1.5.0",
      "model_name": "ProgressStyleModel",
      "state": {
       "description_width": "initial"
      }
     },
     "27213bff3ab54a2195310dad7e8bf16d": {
      "model_module": "@jupyter-widgets/controls",
      "model_module_version": "1.5.0",
      "model_name": "HBoxModel",
      "state": {
       "children": [
        "IPY_MODEL_514f44e1b245470faf9d07cf1b23e2cf",
        "IPY_MODEL_ae0f47ac5204474a908df80af7b3a775"
       ],
       "layout": "IPY_MODEL_2db9c43d0e84457e87385dfa7e5358d1"
      }
     },
     "2728312fd6ae4b8fb5ced710324eebd6": {
      "model_module": "@jupyter-widgets/controls",
      "model_module_version": "1.5.0",
      "model_name": "ProgressStyleModel",
      "state": {
       "description_width": "initial"
      }
     },
     "27569b9a7c20468680549520a15520a4": {
      "model_module": "@jupyter-widgets/base",
      "model_module_version": "1.2.0",
      "model_name": "LayoutModel",
      "state": {}
     },
     "275b198f791647f789f4e57d9cca6a8b": {
      "model_module": "@jupyter-widgets/controls",
      "model_module_version": "1.5.0",
      "model_name": "FloatProgressModel",
      "state": {
       "bar_style": "success",
       "description": "5625/5625",
       "layout": "IPY_MODEL_0ff6cb753b7a498ba1d7f298abf55598",
       "max": 5625,
       "style": "IPY_MODEL_ab91357c2c484751baf962dc1b3f5b1d",
       "value": 5625
      }
     },
     "275ec5c631c64e119f8d95f4621f999c": {
      "model_module": "@jupyter-widgets/controls",
      "model_module_version": "1.5.0",
      "model_name": "HBoxModel",
      "state": {
       "children": [
        "IPY_MODEL_b3dc9ace348d4937a6a117975bb7c474",
        "IPY_MODEL_f2c9f385087e44899d83d97fa2a602da"
       ],
       "layout": "IPY_MODEL_8f9fd2a08a134f58af37fd8c14fa6ef7"
      }
     },
     "2795b93e79da49c6b73d4e98154a9355": {
      "model_module": "@jupyter-widgets/controls",
      "model_module_version": "1.5.0",
      "model_name": "HBoxModel",
      "state": {
       "children": [
        "IPY_MODEL_5cd2abaee13f45c9bd0aa1b9bf1721bf",
        "IPY_MODEL_05e07770d7cc42a2a681378ff5bb72bc"
       ],
       "layout": "IPY_MODEL_c1705f17a5774815bbcaa027aefeb9f2"
      }
     },
     "279c636e0322467e8f6e8e2a3aea1c60": {
      "model_module": "@jupyter-widgets/controls",
      "model_module_version": "1.5.0",
      "model_name": "ProgressStyleModel",
      "state": {
       "description_width": "initial"
      }
     },
     "27b2869da6a842a88af3ac264f6d6f13": {
      "model_module": "@jupyter-widgets/controls",
      "model_module_version": "1.5.0",
      "model_name": "DescriptionStyleModel",
      "state": {
       "description_width": ""
      }
     },
     "27c853b2e1cd4300b29d783f3a88940d": {
      "model_module": "@jupyter-widgets/base",
      "model_module_version": "1.2.0",
      "model_name": "LayoutModel",
      "state": {}
     },
     "27ccc37087114be197731614e9eeddc9": {
      "model_module": "@jupyter-widgets/base",
      "model_module_version": "1.2.0",
      "model_name": "LayoutModel",
      "state": {
       "flex": "2"
      }
     },
     "27f6472183604dac9788235e854067a5": {
      "model_module": "@jupyter-widgets/controls",
      "model_module_version": "1.5.0",
      "model_name": "HTMLModel",
      "state": {
       "layout": "IPY_MODEL_dc7a3f730a5f485da43a5935765340a7",
       "style": "IPY_MODEL_e037fcaf64654c7bb29750a57e18f1f2",
       "value": " ETA: 00:00s - loss: -1.8409 - val_loss: -1.8057"
      }
     },
     "2827278e316949c995ba8d72d4dcbe46": {
      "model_module": "@jupyter-widgets/controls",
      "model_module_version": "1.5.0",
      "model_name": "HTMLModel",
      "state": {
       "layout": "IPY_MODEL_979e5d6d2f254773ac70b0ab91c74f96",
       "style": "IPY_MODEL_f15ef0c084d14629866e3e6ec63a5784",
       "value": " ETA: 00:00s - loss: 0.0681 - val_loss: 0.0712"
      }
     },
     "282a7848c5484258ac46f78955f08262": {
      "model_module": "@jupyter-widgets/base",
      "model_module_version": "1.2.0",
      "model_name": "LayoutModel",
      "state": {}
     },
     "2831b51545f94cafab56924df7326fc5": {
      "model_module": "@jupyter-widgets/controls",
      "model_module_version": "1.5.0",
      "model_name": "DescriptionStyleModel",
      "state": {
       "description_width": ""
      }
     },
     "2846cb10836741ac86c848e0f4a54dba": {
      "model_module": "@jupyter-widgets/controls",
      "model_module_version": "1.5.0",
      "model_name": "HBoxModel",
      "state": {
       "children": [
        "IPY_MODEL_8b25d9b1a7b349beae223e3a6fd7215c",
        "IPY_MODEL_88d94a1e09a84f54b7bd45217f639baa"
       ],
       "layout": "IPY_MODEL_a502197be5b2444db51482f2c2a547de"
      }
     },
     "287f430a78c04cbfb2c21e3c195e3925": {
      "model_module": "@jupyter-widgets/base",
      "model_module_version": "1.2.0",
      "model_name": "LayoutModel",
      "state": {
       "flex": "2"
      }
     },
     "288d2d7626114c298ff90045800cc69e": {
      "model_module": "@jupyter-widgets/base",
      "model_module_version": "1.2.0",
      "model_name": "LayoutModel",
      "state": {
       "flex": "2"
      }
     },
     "2899cc17066544c8806411becf344e84": {
      "model_module": "@jupyter-widgets/controls",
      "model_module_version": "1.5.0",
      "model_name": "HBoxModel",
      "state": {
       "children": [
        "IPY_MODEL_8bc03e5ca5a44780860ddc8ba7372424",
        "IPY_MODEL_b9517fd67a8d41beb879b7ba4b3853a1"
       ],
       "layout": "IPY_MODEL_a9b7aea1c76a432eaaa6cbb4f8923298"
      }
     },
     "28be8a7de10d493e93e9d88d25fd0cf7": {
      "model_module": "@jupyter-widgets/controls",
      "model_module_version": "1.5.0",
      "model_name": "HTMLModel",
      "state": {
       "layout": "IPY_MODEL_a15218ca9355497d9f1dbda0c276d125",
       "style": "IPY_MODEL_83e08647013e43ce81950e0c41bdd4d3",
       "value": " ETA: 00:00s - loss: 0.0360 - val_loss: 0.0363"
      }
     },
     "28dc4e258738421c9426d8638cf1cd6e": {
      "model_module": "@jupyter-widgets/base",
      "model_module_version": "1.2.0",
      "model_name": "LayoutModel",
      "state": {}
     },
     "28fa37b97663408eb5c9656b26234a79": {
      "model_module": "@jupyter-widgets/base",
      "model_module_version": "1.2.0",
      "model_name": "LayoutModel",
      "state": {}
     },
     "299d6d66c9d34a7db23c1a868d736d9c": {
      "model_module": "@jupyter-widgets/base",
      "model_module_version": "1.2.0",
      "model_name": "LayoutModel",
      "state": {
       "flex": "2"
      }
     },
     "29a3392bc8964c70a3823929ca36756f": {
      "model_module": "@jupyter-widgets/controls",
      "model_module_version": "1.5.0",
      "model_name": "ProgressStyleModel",
      "state": {
       "description_width": "initial"
      }
     },
     "29af9123c5db4d46bd80fbdf992b27b4": {
      "model_module": "@jupyter-widgets/controls",
      "model_module_version": "1.5.0",
      "model_name": "DescriptionStyleModel",
      "state": {
       "description_width": ""
      }
     },
     "29b5835c9e164b52aefcdf51153e350b": {
      "model_module": "@jupyter-widgets/controls",
      "model_module_version": "1.5.0",
      "model_name": "ProgressStyleModel",
      "state": {
       "description_width": "initial"
      }
     },
     "29f1ddd7a86a4300a49bea15618a0f28": {
      "model_module": "@jupyter-widgets/base",
      "model_module_version": "1.2.0",
      "model_name": "LayoutModel",
      "state": {}
     },
     "29ffaac4e9734c3b95b8eb3ddd709996": {
      "model_module": "@jupyter-widgets/base",
      "model_module_version": "1.2.0",
      "model_name": "LayoutModel",
      "state": {
       "display": "inline-flex",
       "flex_flow": "row wrap",
       "width": "100%"
      }
     },
     "2a1584e0fb2e496ead3cdc1a3073a294": {
      "model_module": "@jupyter-widgets/base",
      "model_module_version": "1.2.0",
      "model_name": "LayoutModel",
      "state": {
       "flex": "2"
      }
     },
     "2a1d2297b0494a38b95101f82c3379b2": {
      "model_module": "@jupyter-widgets/controls",
      "model_module_version": "1.5.0",
      "model_name": "FloatProgressModel",
      "state": {
       "bar_style": "success",
       "description": "5625/5625",
       "layout": "IPY_MODEL_cae9914be5534531829fd85b751fc54e",
       "max": 5625,
       "style": "IPY_MODEL_778d84f23c9f47c3826bd87d2d569025",
       "value": 5625
      }
     },
     "2a4087fea3a84f65aba203b0743a2033": {
      "model_module": "@jupyter-widgets/controls",
      "model_module_version": "1.5.0",
      "model_name": "ProgressStyleModel",
      "state": {
       "description_width": "initial"
      }
     },
     "2a41ad395a6c41929dc405c1216a33bb": {
      "model_module": "@jupyter-widgets/base",
      "model_module_version": "1.2.0",
      "model_name": "LayoutModel",
      "state": {
       "display": "inline-flex",
       "flex_flow": "row wrap",
       "width": "100%"
      }
     },
     "2a6ca318a2d24234bf2ae9cb70c1660d": {
      "model_module": "@jupyter-widgets/controls",
      "model_module_version": "1.5.0",
      "model_name": "DescriptionStyleModel",
      "state": {
       "description_width": ""
      }
     },
     "2a87728eb0c74fd4b2264c794c870dbc": {
      "model_module": "@jupyter-widgets/controls",
      "model_module_version": "1.5.0",
      "model_name": "HTMLModel",
      "state": {
       "layout": "IPY_MODEL_27569b9a7c20468680549520a15520a4",
       "style": "IPY_MODEL_d5ba09e15e8d4cbc980267880d5f2e93",
       "value": " ETA: 00:00s - loss: 0.0309 - val_loss: 0.0299"
      }
     },
     "2a9093f4e9cb4f1fbe3adc813d8d42bc": {
      "model_module": "@jupyter-widgets/controls",
      "model_module_version": "1.5.0",
      "model_name": "ProgressStyleModel",
      "state": {
       "description_width": "initial"
      }
     },
     "2aae147e8af145fc90c0788db49c4220": {
      "model_module": "@jupyter-widgets/base",
      "model_module_version": "1.2.0",
      "model_name": "LayoutModel",
      "state": {
       "flex": "2"
      }
     },
     "2ab1b151f0804bb695f97e301d14a6c8": {
      "model_module": "@jupyter-widgets/base",
      "model_module_version": "1.2.0",
      "model_name": "LayoutModel",
      "state": {
       "flex": "2"
      }
     },
     "2acab6a8dac34c099a5b8a48848bb4a6": {
      "model_module": "@jupyter-widgets/controls",
      "model_module_version": "1.5.0",
      "model_name": "FloatProgressModel",
      "state": {
       "bar_style": "success",
       "description": "5625/5625",
       "layout": "IPY_MODEL_d98f4367ae464988933325768a289b3d",
       "max": 5625,
       "style": "IPY_MODEL_b49db9139c224be692b81bf9691d9319",
       "value": 5625
      }
     },
     "2adbf730e49349a19e06d3221ffad7f8": {
      "model_module": "@jupyter-widgets/controls",
      "model_module_version": "1.5.0",
      "model_name": "HTMLModel",
      "state": {
       "layout": "IPY_MODEL_e8e729c9f3684206a840b69e57de5d1e",
       "style": "IPY_MODEL_d97b1e5f21cf40d8bedc36760c25020a",
       "value": " ETA: 00:00s - loss: 0.0683 - val_loss: 0.0712"
      }
     },
     "2ae79cd36eee4cda824258f559b58fe1": {
      "model_module": "@jupyter-widgets/base",
      "model_module_version": "1.2.0",
      "model_name": "LayoutModel",
      "state": {
       "display": "inline-flex",
       "flex_flow": "row wrap",
       "width": "100%"
      }
     },
     "2afcf442a6c942f38e623989c7ba9479": {
      "model_module": "@jupyter-widgets/base",
      "model_module_version": "1.2.0",
      "model_name": "LayoutModel",
      "state": {
       "flex": "2"
      }
     },
     "2b1c6618c8304961837bb25351ab6f37": {
      "model_module": "@jupyter-widgets/base",
      "model_module_version": "1.2.0",
      "model_name": "LayoutModel",
      "state": {
       "flex": "2"
      }
     },
     "2b4c80823f68474db5de091d42e404ed": {
      "model_module": "@jupyter-widgets/base",
      "model_module_version": "1.2.0",
      "model_name": "LayoutModel",
      "state": {
       "flex": "2"
      }
     },
     "2b4f20bea3f14d9098db69ab5a048674": {
      "model_module": "@jupyter-widgets/base",
      "model_module_version": "1.2.0",
      "model_name": "LayoutModel",
      "state": {
       "flex": "2"
      }
     },
     "2b5ab4686fc44cbf924f4a43b906f9dd": {
      "model_module": "@jupyter-widgets/controls",
      "model_module_version": "1.5.0",
      "model_name": "HTMLModel",
      "state": {
       "layout": "IPY_MODEL_ca6d622bb4e64c17ab91257b23a47f0b",
       "style": "IPY_MODEL_2d43be40e18446d28b62484c224e26e1",
       "value": " ETA: 00:00s - loss: 0.0921 - val_loss: 0.0903"
      }
     },
     "2b758ff74207480e841abaede94d4f6f": {
      "model_module": "@jupyter-widgets/base",
      "model_module_version": "1.2.0",
      "model_name": "LayoutModel",
      "state": {
       "flex": "2"
      }
     },
     "2b8d061aad3f491c82c6e419c7fbd694": {
      "model_module": "@jupyter-widgets/controls",
      "model_module_version": "1.5.0",
      "model_name": "HBoxModel",
      "state": {
       "children": [
        "IPY_MODEL_97e82bcc42d144e7aae588113559a0ef",
        "IPY_MODEL_7bece765b9a147ce8e03777c725f3dd2"
       ],
       "layout": "IPY_MODEL_9d2262385a814ca18f9cf67501180d0a"
      }
     },
     "2b9514b16b1941008cd1c8b45620094a": {
      "model_module": "@jupyter-widgets/controls",
      "model_module_version": "1.5.0",
      "model_name": "ProgressStyleModel",
      "state": {
       "description_width": "initial"
      }
     },
     "2ba31d0893444de5a6b9724c1ec7b3e8": {
      "model_module": "@jupyter-widgets/controls",
      "model_module_version": "1.5.0",
      "model_name": "ProgressStyleModel",
      "state": {
       "description_width": "initial"
      }
     },
     "2ba555afb91145eba06985c8633ddb78": {
      "model_module": "@jupyter-widgets/controls",
      "model_module_version": "1.5.0",
      "model_name": "HBoxModel",
      "state": {
       "children": [
        "IPY_MODEL_575ca76c06c34487a00ac26d92b59d64",
        "IPY_MODEL_b85bc41cdfff4ed7b38af178ef12df2e"
       ],
       "layout": "IPY_MODEL_82b5937681554c779344ccea23c8b50f"
      }
     },
     "2baad3f121994b11928486e63584426d": {
      "model_module": "@jupyter-widgets/controls",
      "model_module_version": "1.5.0",
      "model_name": "HBoxModel",
      "state": {
       "children": [
        "IPY_MODEL_6e6b34da6b754c00b18088ce6c3c8dda",
        "IPY_MODEL_e8e302e26a9a40d2a5568f3f5961cbf6"
       ],
       "layout": "IPY_MODEL_054cc883d0d0450393e46175dea10381"
      }
     },
     "2bb97a582cfa45f8a68128f022badc6f": {
      "model_module": "@jupyter-widgets/base",
      "model_module_version": "1.2.0",
      "model_name": "LayoutModel",
      "state": {}
     },
     "2c084513fce94303aaca1a73edbe93e5": {
      "model_module": "@jupyter-widgets/controls",
      "model_module_version": "1.5.0",
      "model_name": "ProgressStyleModel",
      "state": {
       "description_width": "initial"
      }
     },
     "2c63cdb36d944029954da1efe8b554ef": {
      "model_module": "@jupyter-widgets/controls",
      "model_module_version": "1.5.0",
      "model_name": "FloatProgressModel",
      "state": {
       "bar_style": "success",
       "description": "5625/5625",
       "layout": "IPY_MODEL_0df2372525af4145ace4f60f2c34ab1c",
       "max": 5625,
       "style": "IPY_MODEL_e1b78fc6668949a8b7ec77c427168cd7",
       "value": 5625
      }
     },
     "2c72b52a3c8944c9ba839e67215ebb7f": {
      "model_module": "@jupyter-widgets/base",
      "model_module_version": "1.2.0",
      "model_name": "LayoutModel",
      "state": {}
     },
     "2c7ff31a9a8646e48294a12897a42bb2": {
      "model_module": "@jupyter-widgets/base",
      "model_module_version": "1.2.0",
      "model_name": "LayoutModel",
      "state": {
       "display": "inline-flex",
       "flex_flow": "row wrap",
       "width": "100%"
      }
     },
     "2c9208f6bb9948f8ac97644119166465": {
      "model_module": "@jupyter-widgets/controls",
      "model_module_version": "1.5.0",
      "model_name": "HTMLModel",
      "state": {
       "layout": "IPY_MODEL_49b29b22d6da45ee96774557e9bf9f1b",
       "style": "IPY_MODEL_916902ba3f924f6583079f89d1bdc02f",
       "value": " ETA: 00:00s - loss: 0.0783 - val_loss: 0.0786"
      }
     },
     "2cb9bae638814127b93c64451de69bb5": {
      "model_module": "@jupyter-widgets/base",
      "model_module_version": "1.2.0",
      "model_name": "LayoutModel",
      "state": {
       "flex": "2"
      }
     },
     "2cc3377ef39144858bdfdb8577b264a9": {
      "model_module": "@jupyter-widgets/base",
      "model_module_version": "1.2.0",
      "model_name": "LayoutModel",
      "state": {
       "flex": "2"
      }
     },
     "2cc39094528e48be8466c39327d1d5d0": {
      "model_module": "@jupyter-widgets/controls",
      "model_module_version": "1.5.0",
      "model_name": "HBoxModel",
      "state": {
       "children": [
        "IPY_MODEL_a71ff8b1c77d4c2f8eb51f6825aac6ca",
        "IPY_MODEL_ed538a97beb74dffb4e6877a36614063"
       ],
       "layout": "IPY_MODEL_c90671cdb61f49ae8956264f680c1333"
      }
     },
     "2cca1f40eab44607918fb6b4275e5bf7": {
      "model_module": "@jupyter-widgets/controls",
      "model_module_version": "1.5.0",
      "model_name": "HBoxModel",
      "state": {
       "children": [
        "IPY_MODEL_d3c3e8615f3b418fae7538ec291057b3",
        "IPY_MODEL_b7234682328c4f3cb919c3b92484aafd"
       ],
       "layout": "IPY_MODEL_9a6f0b30704747c4bf9e3339af54b329"
      }
     },
     "2cebb03a9d7f47a7825e675b6c9c550a": {
      "model_module": "@jupyter-widgets/controls",
      "model_module_version": "1.5.0",
      "model_name": "FloatProgressModel",
      "state": {
       "bar_style": "danger",
       "description": "Training:   4%",
       "layout": "IPY_MODEL_180680e3a5e64217b5d019acd61213d6",
       "max": 1000,
       "style": "IPY_MODEL_ed3a9dad32514b8eae7b667c65096de9",
       "value": 35
      }
     },
     "2cf1682b00d442b0b47e440c91d60dc3": {
      "model_module": "@jupyter-widgets/controls",
      "model_module_version": "1.5.0",
      "model_name": "DescriptionStyleModel",
      "state": {
       "description_width": ""
      }
     },
     "2d40fd6ef75a4fb6b78572a2e3cce791": {
      "model_module": "@jupyter-widgets/controls",
      "model_module_version": "1.5.0",
      "model_name": "HTMLModel",
      "state": {
       "layout": "IPY_MODEL_2df57ab585fd48b0a50ede38ac9f372e",
       "style": "IPY_MODEL_7aef603a3c674cb3b0c8b3878fc17e26",
       "value": " ETA: 00:00s - loss: 0.0257 - val_loss: 0.0289"
      }
     },
     "2d41637d022544c08e7add20f4ea2b2a": {
      "model_module": "@jupyter-widgets/base",
      "model_module_version": "1.2.0",
      "model_name": "LayoutModel",
      "state": {
       "display": "inline-flex",
       "flex_flow": "row wrap",
       "width": "100%"
      }
     },
     "2d43be40e18446d28b62484c224e26e1": {
      "model_module": "@jupyter-widgets/controls",
      "model_module_version": "1.5.0",
      "model_name": "DescriptionStyleModel",
      "state": {
       "description_width": ""
      }
     },
     "2d5f592838c54d118bfa4d606ce9a1df": {
      "model_module": "@jupyter-widgets/base",
      "model_module_version": "1.2.0",
      "model_name": "LayoutModel",
      "state": {}
     },
     "2db9c43d0e84457e87385dfa7e5358d1": {
      "model_module": "@jupyter-widgets/base",
      "model_module_version": "1.2.0",
      "model_name": "LayoutModel",
      "state": {
       "display": "inline-flex",
       "flex_flow": "row wrap",
       "width": "100%"
      }
     },
     "2dba2204bb984de59910fa52aeb616fb": {
      "model_module": "@jupyter-widgets/controls",
      "model_module_version": "1.5.0",
      "model_name": "DescriptionStyleModel",
      "state": {
       "description_width": ""
      }
     },
     "2ddf462307b2419da03d21ae26594474": {
      "model_module": "@jupyter-widgets/controls",
      "model_module_version": "1.5.0",
      "model_name": "ProgressStyleModel",
      "state": {
       "description_width": "initial"
      }
     },
     "2defacd6b3b14360ba7c50110cca2d50": {
      "model_module": "@jupyter-widgets/controls",
      "model_module_version": "1.5.0",
      "model_name": "HBoxModel",
      "state": {
       "children": [
        "IPY_MODEL_c40047357a18412b8896686b40555444",
        "IPY_MODEL_058a33eb1204420dba69f1c3295f5843"
       ],
       "layout": "IPY_MODEL_2064aad8f16a46e987bebe717eb16261"
      }
     },
     "2df57ab585fd48b0a50ede38ac9f372e": {
      "model_module": "@jupyter-widgets/base",
      "model_module_version": "1.2.0",
      "model_name": "LayoutModel",
      "state": {}
     },
     "2e13d585faa34a719d0a68860b7d3553": {
      "model_module": "@jupyter-widgets/controls",
      "model_module_version": "1.5.0",
      "model_name": "FloatProgressModel",
      "state": {
       "bar_style": "success",
       "description": "5625/5625",
       "layout": "IPY_MODEL_cf16a9c9e6d54458add6541bf067e4c5",
       "max": 5625,
       "style": "IPY_MODEL_d7105fa509fa4f7b9db4c605f12ed05b",
       "value": 5625
      }
     },
     "2e348fc6a9bd46de85a619fbbb43c787": {
      "model_module": "@jupyter-widgets/base",
      "model_module_version": "1.2.0",
      "model_name": "LayoutModel",
      "state": {}
     },
     "2e5dbc8a8fe7446a8aae197616267b90": {
      "model_module": "@jupyter-widgets/controls",
      "model_module_version": "1.5.0",
      "model_name": "HTMLModel",
      "state": {
       "layout": "IPY_MODEL_95004dd236c6448f83120fe2ce81444f",
       "style": "IPY_MODEL_078dc3e4fcd44582962deb659ec727d3",
       "value": " ETA: 00:00s - loss: -1.8299 - val_loss: -1.7990"
      }
     },
     "2e89a25b947d4856b365348b5936987c": {
      "model_module": "@jupyter-widgets/controls",
      "model_module_version": "1.5.0",
      "model_name": "HTMLModel",
      "state": {
       "layout": "IPY_MODEL_cefd86919e3b49a38e0e6b3f9788f359",
       "style": "IPY_MODEL_0817d113ec664cbb891b11113c261c23",
       "value": " ETA: 00:00s - loss: 0.0697 - val_loss: 0.0720"
      }
     },
     "2ea8e846a71047df85245bfa5f87d185": {
      "model_module": "@jupyter-widgets/base",
      "model_module_version": "1.2.0",
      "model_name": "LayoutModel",
      "state": {
       "flex": "2"
      }
     },
     "2eb22e3332414aada8f1c076529e1131": {
      "model_module": "@jupyter-widgets/controls",
      "model_module_version": "1.5.0",
      "model_name": "HTMLModel",
      "state": {
       "layout": "IPY_MODEL_563dc7a219184253b84404e17640a8b9",
       "style": "IPY_MODEL_0f552175759b46bebaa11eadf5a770ec",
       "value": " ETA: 00:00s - loss: 0.0337 - val_loss: 0.0363"
      }
     },
     "2eb84f1061ff4b179ea67df6017b147e": {
      "model_module": "@jupyter-widgets/base",
      "model_module_version": "1.2.0",
      "model_name": "LayoutModel",
      "state": {}
     },
     "2ecb371c85c24b88bcd5aded008a8b0d": {
      "model_module": "@jupyter-widgets/base",
      "model_module_version": "1.2.0",
      "model_name": "LayoutModel",
      "state": {
       "display": "inline-flex",
       "flex_flow": "row wrap",
       "width": "100%"
      }
     },
     "2ed9834fa56742849af36c75c27fbaed": {
      "model_module": "@jupyter-widgets/controls",
      "model_module_version": "1.5.0",
      "model_name": "HBoxModel",
      "state": {
       "children": [
        "IPY_MODEL_76e6789d71bc400abb7dfc4cc2f41bed",
        "IPY_MODEL_1b65509a76e8475b87207d2bac6240c0"
       ],
       "layout": "IPY_MODEL_c94ef8a60e244fe09eaacbf91935666a"
      }
     },
     "2f4a2a9acdc84933abf52ed1983fbc04": {
      "model_module": "@jupyter-widgets/controls",
      "model_module_version": "1.5.0",
      "model_name": "ProgressStyleModel",
      "state": {
       "description_width": "initial"
      }
     },
     "2f7ae0772ef04639817a470ce3e2deb7": {
      "model_module": "@jupyter-widgets/base",
      "model_module_version": "1.2.0",
      "model_name": "LayoutModel",
      "state": {
       "display": "inline-flex",
       "flex_flow": "row wrap",
       "width": "100%"
      }
     },
     "2fcbe78de2314a1cbab46897651bb93e": {
      "model_module": "@jupyter-widgets/controls",
      "model_module_version": "1.5.0",
      "model_name": "HBoxModel",
      "state": {
       "children": [
        "IPY_MODEL_dc953186aa0e4743b6adb9c1b2d8a575",
        "IPY_MODEL_64abea5ac160480ea01683424d20ea88"
       ],
       "layout": "IPY_MODEL_1b7abfd15a5e459c97468443f683c27b"
      }
     },
     "2fe0fc2165f94165a645f8a8fd470ec0": {
      "model_module": "@jupyter-widgets/base",
      "model_module_version": "1.2.0",
      "model_name": "LayoutModel",
      "state": {
       "flex": "2"
      }
     },
     "2ff06bc3e7524eb48bc0c0c9fef4faa6": {
      "model_module": "@jupyter-widgets/base",
      "model_module_version": "1.2.0",
      "model_name": "LayoutModel",
      "state": {}
     },
     "2ff6e8164a77496d8b7172b8cdbdc61b": {
      "model_module": "@jupyter-widgets/controls",
      "model_module_version": "1.5.0",
      "model_name": "ProgressStyleModel",
      "state": {
       "description_width": "initial"
      }
     },
     "30093161b7734ad5a68f0e3f81e15c98": {
      "model_module": "@jupyter-widgets/controls",
      "model_module_version": "1.5.0",
      "model_name": "DescriptionStyleModel",
      "state": {
       "description_width": ""
      }
     },
     "300f65ab8b2e4791b86f01c94439f1a2": {
      "model_module": "@jupyter-widgets/base",
      "model_module_version": "1.2.0",
      "model_name": "LayoutModel",
      "state": {
       "display": "inline-flex",
       "flex_flow": "row wrap",
       "width": "100%"
      }
     },
     "304cf37763fe41cda9d110df73176698": {
      "model_module": "@jupyter-widgets/controls",
      "model_module_version": "1.5.0",
      "model_name": "DescriptionStyleModel",
      "state": {
       "description_width": ""
      }
     },
     "3065ea53a2424867a63741f7f0e13c24": {
      "model_module": "@jupyter-widgets/base",
      "model_module_version": "1.2.0",
      "model_name": "LayoutModel",
      "state": {}
     },
     "306ad727cdd643588db7851a6d1ca519": {
      "model_module": "@jupyter-widgets/controls",
      "model_module_version": "1.5.0",
      "model_name": "DescriptionStyleModel",
      "state": {
       "description_width": ""
      }
     },
     "308b95ec5aa84634b1aadd4e59649502": {
      "model_module": "@jupyter-widgets/base",
      "model_module_version": "1.2.0",
      "model_name": "LayoutModel",
      "state": {
       "display": "inline-flex",
       "flex_flow": "row wrap",
       "width": "100%"
      }
     },
     "30e56cd05dce48b2befdebeccc82e459": {
      "model_module": "@jupyter-widgets/base",
      "model_module_version": "1.2.0",
      "model_name": "LayoutModel",
      "state": {
       "display": "inline-flex",
       "flex_flow": "row wrap",
       "width": "100%"
      }
     },
     "3131c6c31bbb4a46bc6fdc770b76c99d": {
      "model_module": "@jupyter-widgets/controls",
      "model_module_version": "1.5.0",
      "model_name": "FloatProgressModel",
      "state": {
       "bar_style": "success",
       "description": "5625/5625",
       "layout": "IPY_MODEL_a8dc39914fd74f95b2ddacd3fd281e3f",
       "max": 5625,
       "style": "IPY_MODEL_94d2e07e69b94366b52990c28ff80fb0",
       "value": 5625
      }
     },
     "315dca33d7df4534873cfff6056a1a51": {
      "model_module": "@jupyter-widgets/controls",
      "model_module_version": "1.5.0",
      "model_name": "HTMLModel",
      "state": {
       "layout": "IPY_MODEL_ef136b75f68c4275bad0002026fd81ac",
       "style": "IPY_MODEL_03f07ad3bfb44aac86202e6d2d770c32",
       "value": " ETA: 00:00s - loss: 0.0264 - val_loss: 0.0288"
      }
     },
     "31609a20f3a7493292e813d783ef237d": {
      "model_module": "@jupyter-widgets/controls",
      "model_module_version": "1.5.0",
      "model_name": "HBoxModel",
      "state": {
       "children": [
        "IPY_MODEL_39d95a0b10b64156973b60d0bd7a817d",
        "IPY_MODEL_8a6c989747874c6099a14e76ac96bee2"
       ],
       "layout": "IPY_MODEL_38d21905c2cb4015bc6df15ca6f5cf1e"
      }
     },
     "318f739d86b241278e6d53051f373268": {
      "model_module": "@jupyter-widgets/base",
      "model_module_version": "1.2.0",
      "model_name": "LayoutModel",
      "state": {}
     },
     "319a3ef9229d401e9511108c01d896b6": {
      "model_module": "@jupyter-widgets/controls",
      "model_module_version": "1.5.0",
      "model_name": "ProgressStyleModel",
      "state": {
       "description_width": "initial"
      }
     },
     "31b508eeaa184637b8106410913f802a": {
      "model_module": "@jupyter-widgets/controls",
      "model_module_version": "1.5.0",
      "model_name": "FloatProgressModel",
      "state": {
       "bar_style": "success",
       "description": "5625/5625",
       "layout": "IPY_MODEL_456954f77d1c4dcb8e0c347de695c18b",
       "max": 5625,
       "style": "IPY_MODEL_b707e41295ac499fba15fc4905872ff6",
       "value": 5625
      }
     },
     "31b512e66fdd46c09f333eef64851b52": {
      "model_module": "@jupyter-widgets/base",
      "model_module_version": "1.2.0",
      "model_name": "LayoutModel",
      "state": {
       "flex": "2"
      }
     },
     "31bd462f7038464981e0033f950c60c6": {
      "model_module": "@jupyter-widgets/controls",
      "model_module_version": "1.5.0",
      "model_name": "DescriptionStyleModel",
      "state": {
       "description_width": ""
      }
     },
     "31d49aa955da4fc8b01c6ac004963f87": {
      "model_module": "@jupyter-widgets/base",
      "model_module_version": "1.2.0",
      "model_name": "LayoutModel",
      "state": {}
     },
     "32263932be814b8aa68a1750c583e81d": {
      "model_module": "@jupyter-widgets/controls",
      "model_module_version": "1.5.0",
      "model_name": "DescriptionStyleModel",
      "state": {
       "description_width": ""
      }
     },
     "324a9fb2de2444e78b41565df915e093": {
      "model_module": "@jupyter-widgets/base",
      "model_module_version": "1.2.0",
      "model_name": "LayoutModel",
      "state": {
       "display": "inline-flex",
       "flex_flow": "row wrap",
       "width": "100%"
      }
     },
     "3258108c0dec41a5b52d0ba54fa191d1": {
      "model_module": "@jupyter-widgets/controls",
      "model_module_version": "1.5.0",
      "model_name": "HBoxModel",
      "state": {
       "children": [
        "IPY_MODEL_09d8c98dacd0449ea2cff4c768b77d74",
        "IPY_MODEL_9bebe86ccbd7434d82a0c1b6e94c0838"
       ],
       "layout": "IPY_MODEL_b01bf97e9da34f2daeab82bf18214286"
      }
     },
     "3265dd4f66624be487053dbac258b851": {
      "model_module": "@jupyter-widgets/base",
      "model_module_version": "1.2.0",
      "model_name": "LayoutModel",
      "state": {}
     },
     "32663c9bd08a490290a19903ac29bd7e": {
      "model_module": "@jupyter-widgets/base",
      "model_module_version": "1.2.0",
      "model_name": "LayoutModel",
      "state": {}
     },
     "3283c3e99e484017be4ead42ff4328d0": {
      "model_module": "@jupyter-widgets/base",
      "model_module_version": "1.2.0",
      "model_name": "LayoutModel",
      "state": {}
     },
     "328407b22ea8468da76ffdb524f0e6ac": {
      "model_module": "@jupyter-widgets/base",
      "model_module_version": "1.2.0",
      "model_name": "LayoutModel",
      "state": {}
     },
     "3299e48370f74adc8aaef7fb719e5bfb": {
      "model_module": "@jupyter-widgets/controls",
      "model_module_version": "1.5.0",
      "model_name": "ProgressStyleModel",
      "state": {
       "description_width": "initial"
      }
     },
     "32d93196c24a40709673307a963931f3": {
      "model_module": "@jupyter-widgets/controls",
      "model_module_version": "1.5.0",
      "model_name": "FloatProgressModel",
      "state": {
       "bar_style": "success",
       "description": "5625/5625",
       "layout": "IPY_MODEL_7607044a7024402291d3d443752378d4",
       "max": 5625,
       "style": "IPY_MODEL_1fc311d4e38e4cbbbc26bb2a7b04d2d5",
       "value": 5625
      }
     },
     "32e8ccc1a6d7462dba868277b1d4425e": {
      "model_module": "@jupyter-widgets/base",
      "model_module_version": "1.2.0",
      "model_name": "LayoutModel",
      "state": {}
     },
     "3302e53fc6714964b0f9668648b4d3a5": {
      "model_module": "@jupyter-widgets/controls",
      "model_module_version": "1.5.0",
      "model_name": "HBoxModel",
      "state": {
       "children": [
        "IPY_MODEL_f5b5ab908f0248298ba1a242bf7d422a",
        "IPY_MODEL_2c9208f6bb9948f8ac97644119166465"
       ],
       "layout": "IPY_MODEL_ba080a8ee6a5429da708c7468d34fa1c"
      }
     },
     "3310c9a25f594ae38ef730468ba66857": {
      "model_module": "@jupyter-widgets/base",
      "model_module_version": "1.2.0",
      "model_name": "LayoutModel",
      "state": {
       "flex": "2"
      }
     },
     "3325f480fb4d4ae398f8cea3010967c2": {
      "model_module": "@jupyter-widgets/controls",
      "model_module_version": "1.5.0",
      "model_name": "DescriptionStyleModel",
      "state": {
       "description_width": ""
      }
     },
     "33615ba5544045218a9f4ca5d60827e2": {
      "model_module": "@jupyter-widgets/controls",
      "model_module_version": "1.5.0",
      "model_name": "DescriptionStyleModel",
      "state": {
       "description_width": ""
      }
     },
     "33a7b84d8fd94260b8142715b35b6a5c": {
      "model_module": "@jupyter-widgets/base",
      "model_module_version": "1.2.0",
      "model_name": "LayoutModel",
      "state": {}
     },
     "33cd3c932dd64edcbf3a33fc2655e6e5": {
      "model_module": "@jupyter-widgets/controls",
      "model_module_version": "1.5.0",
      "model_name": "FloatProgressModel",
      "state": {
       "bar_style": "success",
       "description": "5625/5625",
       "layout": "IPY_MODEL_94e2b6c41d484cac914d198a924d1c0f",
       "max": 5625,
       "style": "IPY_MODEL_d749930eaf5347458169e9d1a7cde804",
       "value": 5625
      }
     },
     "33df59965ac14b9ba40d74c93c03e008": {
      "model_module": "@jupyter-widgets/controls",
      "model_module_version": "1.5.0",
      "model_name": "DescriptionStyleModel",
      "state": {
       "description_width": ""
      }
     },
     "33e01e7dcf44472abdf6ea5f72574b9a": {
      "model_module": "@jupyter-widgets/controls",
      "model_module_version": "1.5.0",
      "model_name": "FloatProgressModel",
      "state": {
       "bar_style": "success",
       "description": "5625/5625",
       "layout": "IPY_MODEL_0311eac278764691a7380f2859f7c273",
       "max": 5625,
       "style": "IPY_MODEL_53fcefdc6411455fbb458f9241dc98df",
       "value": 5625
      }
     },
     "3400e61372a04cac9be7a98b6d28e5f7": {
      "model_module": "@jupyter-widgets/base",
      "model_module_version": "1.2.0",
      "model_name": "LayoutModel",
      "state": {
       "display": "inline-flex",
       "flex_flow": "row wrap",
       "width": "100%"
      }
     },
     "343b926bbd9f45a3bf8bbc5e2c10360b": {
      "model_module": "@jupyter-widgets/controls",
      "model_module_version": "1.5.0",
      "model_name": "FloatProgressModel",
      "state": {
       "bar_style": "success",
       "description": "5625/5625",
       "layout": "IPY_MODEL_1fb08072aea8435797266daf6f6c11b8",
       "max": 5625,
       "style": "IPY_MODEL_5ef4d85183fa40cea52e3c91d0903bf4",
       "value": 5625
      }
     },
     "347ae9c54702412aa8d949367b4ca236": {
      "model_module": "@jupyter-widgets/base",
      "model_module_version": "1.2.0",
      "model_name": "LayoutModel",
      "state": {}
     },
     "34a176b9850e4f1fbda45a0e81efa64f": {
      "model_module": "@jupyter-widgets/controls",
      "model_module_version": "1.5.0",
      "model_name": "DescriptionStyleModel",
      "state": {
       "description_width": ""
      }
     },
     "34eec0cd882c4d16ac2c0eb1af27dae0": {
      "model_module": "@jupyter-widgets/controls",
      "model_module_version": "1.5.0",
      "model_name": "ProgressStyleModel",
      "state": {
       "description_width": "initial"
      }
     },
     "351842eebf884db393f30cf59d32651e": {
      "model_module": "@jupyter-widgets/controls",
      "model_module_version": "1.5.0",
      "model_name": "HTMLModel",
      "state": {
       "layout": "IPY_MODEL_2129178118a7476ab7a42a3a65ee2b8f",
       "style": "IPY_MODEL_11b42984dad3440fab5836825e2571c5",
       "value": " ETA: 00:00s - loss: -1.8181 - val_loss: -1.7889"
      }
     },
     "3530720e60a34c8f9ac5eb07fb9c4e5c": {
      "model_module": "@jupyter-widgets/controls",
      "model_module_version": "1.5.0",
      "model_name": "FloatProgressModel",
      "state": {
       "bar_style": "success",
       "description": "5625/5625",
       "layout": "IPY_MODEL_184a735289e7473dbaef70c2c3d561fb",
       "max": 5625,
       "style": "IPY_MODEL_4a1c219f8d304600836a11eccc80a7f6",
       "value": 5625
      }
     },
     "35390cbf0b944fcf81101de021fedc9b": {
      "model_module": "@jupyter-widgets/controls",
      "model_module_version": "1.5.0",
      "model_name": "FloatProgressModel",
      "state": {
       "bar_style": "success",
       "description": "5625/5625",
       "layout": "IPY_MODEL_2cc3377ef39144858bdfdb8577b264a9",
       "max": 5625,
       "style": "IPY_MODEL_24d6b8f8562c445180b954583927dae2",
       "value": 5625
      }
     },
     "353aacca153a4fce9d10c75f4733de5d": {
      "model_module": "@jupyter-widgets/controls",
      "model_module_version": "1.5.0",
      "model_name": "FloatProgressModel",
      "state": {
       "bar_style": "success",
       "description": "5625/5625",
       "layout": "IPY_MODEL_63f1fb8660034a979c17910840c88320",
       "max": 5625,
       "style": "IPY_MODEL_a6d3f79e5454414e90b8a46838652ad1",
       "value": 5625
      }
     },
     "354dd96380ee4271a6aa67737ab2bcf1": {
      "model_module": "@jupyter-widgets/controls",
      "model_module_version": "1.5.0",
      "model_name": "HTMLModel",
      "state": {
       "layout": "IPY_MODEL_3fd4cb79697447d09ddce90afd2c1611",
       "style": "IPY_MODEL_8b089675db2743fab963a9ca0d6ec46d",
       "value": " ETA: 00:00s - loss: 0.0708 - val_loss: 0.0733"
      }
     },
     "355a4fcba308467f90ebb9afea771a95": {
      "model_module": "@jupyter-widgets/base",
      "model_module_version": "1.2.0",
      "model_name": "LayoutModel",
      "state": {
       "flex": "2"
      }
     },
     "355e4c158405430f823b7fc3b9dfc6db": {
      "model_module": "@jupyter-widgets/base",
      "model_module_version": "1.2.0",
      "model_name": "LayoutModel",
      "state": {
       "flex": "2"
      }
     },
     "358144b7648f43eeb6b82ef8cdfac7ca": {
      "model_module": "@jupyter-widgets/controls",
      "model_module_version": "1.5.0",
      "model_name": "DescriptionStyleModel",
      "state": {
       "description_width": ""
      }
     },
     "358b420388314e6b92e9b6962d87ffdc": {
      "model_module": "@jupyter-widgets/controls",
      "model_module_version": "1.5.0",
      "model_name": "FloatProgressModel",
      "state": {
       "bar_style": "success",
       "description": "5625/5625",
       "layout": "IPY_MODEL_ce2853bc0e914462966e0590ca788cfc",
       "max": 5625,
       "style": "IPY_MODEL_876a72d2f0454179b9b4279fb5dd686e",
       "value": 5625
      }
     },
     "358d248c3e014e1ab53e0a6e3f7fb446": {
      "model_module": "@jupyter-widgets/controls",
      "model_module_version": "1.5.0",
      "model_name": "HTMLModel",
      "state": {
       "layout": "IPY_MODEL_ba5ade9746774b6b920a8ca16db037f9",
       "style": "IPY_MODEL_22ec03275ef34cc99fea33ec860c9bf5",
       "value": " ETA: 00:00s - loss: -1.6479 - val_loss: -1.6599"
      }
     },
     "35a2a27c067748eb99365d4bf9ac2187": {
      "model_module": "@jupyter-widgets/controls",
      "model_module_version": "1.5.0",
      "model_name": "FloatProgressModel",
      "state": {
       "bar_style": "success",
       "description": "5625/5625",
       "layout": "IPY_MODEL_f698e45ea86342d8a7b89babb74c9570",
       "max": 5625,
       "style": "IPY_MODEL_5bcc83baaebf4e9392e35fdcbd185c0c",
       "value": 5625
      }
     },
     "35bf2865c27f4df3b25a490063f75201": {
      "model_module": "@jupyter-widgets/base",
      "model_module_version": "1.2.0",
      "model_name": "LayoutModel",
      "state": {}
     },
     "35c36c1c94ee4e32a5ee4b023ffc767d": {
      "model_module": "@jupyter-widgets/controls",
      "model_module_version": "1.5.0",
      "model_name": "ProgressStyleModel",
      "state": {
       "description_width": "initial"
      }
     },
     "35d5c91a415044459794814aeeae929d": {
      "model_module": "@jupyter-widgets/controls",
      "model_module_version": "1.5.0",
      "model_name": "DescriptionStyleModel",
      "state": {
       "description_width": ""
      }
     },
     "36282901241c4a9f83a2d0f293251e8c": {
      "model_module": "@jupyter-widgets/controls",
      "model_module_version": "1.5.0",
      "model_name": "ProgressStyleModel",
      "state": {
       "description_width": "initial"
      }
     },
     "366d48bf7fef488482a80ef27cbb1f91": {
      "model_module": "@jupyter-widgets/controls",
      "model_module_version": "1.5.0",
      "model_name": "HBoxModel",
      "state": {
       "children": [
        "IPY_MODEL_89dffb565d94470cb773f87dbfd7bb19",
        "IPY_MODEL_cca669e56f884a31a399f50cb4ce8bf2"
       ],
       "layout": "IPY_MODEL_cdfaa46f958044c5866ae90bb200ca04"
      }
     },
     "367b04223ecc40a3bf3d8dccb30f361c": {
      "model_module": "@jupyter-widgets/controls",
      "model_module_version": "1.5.0",
      "model_name": "HTMLModel",
      "state": {
       "layout": "IPY_MODEL_91671700fe3f41288e4718e987a5ec06",
       "style": "IPY_MODEL_ec7dcde674304d0bbbe98ce182cd0fbe",
       "value": " ETA: 00:00s - loss: -1.6351 - val_loss: -1.6470"
      }
     },
     "36846c0eab764c1c94e6b032338b0e19": {
      "model_module": "@jupyter-widgets/base",
      "model_module_version": "1.2.0",
      "model_name": "LayoutModel",
      "state": {
       "flex": "2"
      }
     },
     "36dc69e4c4c24d53bd72f221dc9ac513": {
      "model_module": "@jupyter-widgets/base",
      "model_module_version": "1.2.0",
      "model_name": "LayoutModel",
      "state": {
       "display": "inline-flex",
       "flex_flow": "row wrap",
       "width": "100%"
      }
     },
     "36df452b86634c61909bf032849dd06a": {
      "model_module": "@jupyter-widgets/controls",
      "model_module_version": "1.5.0",
      "model_name": "HBoxModel",
      "state": {
       "children": [
        "IPY_MODEL_4c506de611bf494ebf6e692cb1e98629",
        "IPY_MODEL_168623650c434204abdd5ea4273f3ae7"
       ],
       "layout": "IPY_MODEL_cc89dbb344f3401c8ba4f2018e315f35"
      }
     },
     "36e3b8e5f3654aed92ffd4a20c8bc9f8": {
      "model_module": "@jupyter-widgets/controls",
      "model_module_version": "1.5.0",
      "model_name": "HBoxModel",
      "state": {
       "children": [
        "IPY_MODEL_c95ac80ab15b407abac0154872a98140",
        "IPY_MODEL_782e46864bd849ed839799d982de2d64"
       ],
       "layout": "IPY_MODEL_517415b7faa24282bacd048565ce4ace"
      }
     },
     "36e971e4b552480899b9c5c950f3c9df": {
      "model_module": "@jupyter-widgets/controls",
      "model_module_version": "1.5.0",
      "model_name": "FloatProgressModel",
      "state": {
       "bar_style": "success",
       "description": "5625/5625",
       "layout": "IPY_MODEL_c6254d28e62946fcb18c8dcfaba82edf",
       "max": 5625,
       "style": "IPY_MODEL_f6ff76ac9aa04dfb9438a03438c14123",
       "value": 5625
      }
     },
     "36f1c7dc0ec142f998a940897fd62b3b": {
      "model_module": "@jupyter-widgets/controls",
      "model_module_version": "1.5.0",
      "model_name": "ProgressStyleModel",
      "state": {
       "description_width": "initial"
      }
     },
     "36f4a96838b4448584479de35aba6be4": {
      "model_module": "@jupyter-widgets/base",
      "model_module_version": "1.2.0",
      "model_name": "LayoutModel",
      "state": {
       "flex": "2"
      }
     },
     "37004eaa34b447c197a7c4eae6f6f49f": {
      "model_module": "@jupyter-widgets/controls",
      "model_module_version": "1.5.0",
      "model_name": "HTMLModel",
      "state": {
       "layout": "IPY_MODEL_f600c3e648fb4911b1fac167d849054d",
       "style": "IPY_MODEL_6328c28ca1e14e15aba735650886c2c9",
       "value": " ETA: 00:00s - loss: -1.8020 - val_loss: -1.7695"
      }
     },
     "37130e5a732444fe957b3d3d5592263d": {
      "model_module": "@jupyter-widgets/controls",
      "model_module_version": "1.5.0",
      "model_name": "HTMLModel",
      "state": {
       "layout": "IPY_MODEL_7f51dc6dae374677a612ed1687509fc1",
       "style": "IPY_MODEL_da209f3f7c10485486931e01c7973e1c",
       "value": " ETA: 00:00s - loss: 0.0736 - val_loss: 0.0734"
      }
     },
     "3719f04c41a64146bb5feeba7bd2f849": {
      "model_module": "@jupyter-widgets/base",
      "model_module_version": "1.2.0",
      "model_name": "LayoutModel",
      "state": {
       "display": "inline-flex",
       "flex_flow": "row wrap",
       "width": "100%"
      }
     },
     "3721a44691d245e0aa9c71f168cb28ad": {
      "model_module": "@jupyter-widgets/controls",
      "model_module_version": "1.5.0",
      "model_name": "ProgressStyleModel",
      "state": {
       "description_width": "initial"
      }
     },
     "37337a723ebb4759ad2734cd1e3cc121": {
      "model_module": "@jupyter-widgets/controls",
      "model_module_version": "1.5.0",
      "model_name": "ProgressStyleModel",
      "state": {
       "description_width": "initial"
      }
     },
     "373cebaaff094abfb00e4eff289fe73f": {
      "model_module": "@jupyter-widgets/controls",
      "model_module_version": "1.5.0",
      "model_name": "HTMLModel",
      "state": {
       "layout": "IPY_MODEL_a3f50642eb354669bbf225f54ad50a27",
       "style": "IPY_MODEL_06b7ad52a53049da82ae14d1792b761f",
       "value": " ETA: 00:00s - loss: -1.8442 - val_loss: -1.8021"
      }
     },
     "3744f690ea26414bbbfe804879c38e4c": {
      "model_module": "@jupyter-widgets/base",
      "model_module_version": "1.2.0",
      "model_name": "LayoutModel",
      "state": {}
     },
     "3748c3b0f3634806822db1a5fa92fca5": {
      "model_module": "@jupyter-widgets/controls",
      "model_module_version": "1.5.0",
      "model_name": "FloatProgressModel",
      "state": {
       "bar_style": "success",
       "description": "5625/5625",
       "layout": "IPY_MODEL_acb215d02ecd4b94a03e5a0c3ec0ba0a",
       "max": 5625,
       "style": "IPY_MODEL_c2f04aeb7ec643c287358256a3a4bcff",
       "value": 5625
      }
     },
     "37633e7ee9274dee97f5a802bca22b13": {
      "model_module": "@jupyter-widgets/base",
      "model_module_version": "1.2.0",
      "model_name": "LayoutModel",
      "state": {
       "display": "inline-flex",
       "flex_flow": "row wrap",
       "width": "100%"
      }
     },
     "37b2910bdb6a432893b1b6a94ac60082": {
      "model_module": "@jupyter-widgets/controls",
      "model_module_version": "1.5.0",
      "model_name": "HBoxModel",
      "state": {
       "children": [
        "IPY_MODEL_615143de7f0842b5a413b5ba15d7f3b9",
        "IPY_MODEL_69e6388a59a741f394f2f7de5417ece4"
       ],
       "layout": "IPY_MODEL_644b1a1ec45045c28e921c62e70fc051"
      }
     },
     "37b5216346e14341be54fb55a6ca7f1f": {
      "model_module": "@jupyter-widgets/controls",
      "model_module_version": "1.5.0",
      "model_name": "ProgressStyleModel",
      "state": {
       "description_width": "initial"
      }
     },
     "37d4be6bed0640c18a644cef7e6a023c": {
      "model_module": "@jupyter-widgets/base",
      "model_module_version": "1.2.0",
      "model_name": "LayoutModel",
      "state": {
       "flex": "2"
      }
     },
     "37e468e2c1ed440999296a85e2bdf01c": {
      "model_module": "@jupyter-widgets/base",
      "model_module_version": "1.2.0",
      "model_name": "LayoutModel",
      "state": {
       "display": "inline-flex",
       "flex_flow": "row wrap",
       "width": "100%"
      }
     },
     "37e9c87b5d854c738e80b16cbebc1cac": {
      "model_module": "@jupyter-widgets/base",
      "model_module_version": "1.2.0",
      "model_name": "LayoutModel",
      "state": {
       "flex": "2"
      }
     },
     "37efc05598a2498c96f86cec3d9c87df": {
      "model_module": "@jupyter-widgets/controls",
      "model_module_version": "1.5.0",
      "model_name": "ProgressStyleModel",
      "state": {
       "description_width": "initial"
      }
     },
     "380917ac53854f8f8439810f5129ccbf": {
      "model_module": "@jupyter-widgets/controls",
      "model_module_version": "1.5.0",
      "model_name": "FloatProgressModel",
      "state": {
       "bar_style": "success",
       "description": "5625/5625",
       "layout": "IPY_MODEL_0162a1ce06144b2294273013b3b72f1c",
       "max": 5625,
       "style": "IPY_MODEL_cdc006885b7146a4b55776547cc84a34",
       "value": 5625
      }
     },
     "380b67057a1d43d3a5a5d33c61eaaf02": {
      "model_module": "@jupyter-widgets/controls",
      "model_module_version": "1.5.0",
      "model_name": "FloatProgressModel",
      "state": {
       "bar_style": "success",
       "description": "5625/5625",
       "layout": "IPY_MODEL_a094b90f93dd41bfa6deb045127dea4f",
       "max": 5625,
       "style": "IPY_MODEL_125868e4a4094dac824615e3335ba252",
       "value": 5625
      }
     },
     "383721375ec047118adf3a6a710ec668": {
      "model_module": "@jupyter-widgets/controls",
      "model_module_version": "1.5.0",
      "model_name": "HBoxModel",
      "state": {
       "children": [
        "IPY_MODEL_4786a682e0a3473eab90dce655da873d",
        "IPY_MODEL_03501d2f56d642388a89c88d3bad2791"
       ],
       "layout": "IPY_MODEL_720d8989201a48ec828fdabe4c40ef97"
      }
     },
     "3852ee9bf5584b76a537b905d63e4fd2": {
      "model_module": "@jupyter-widgets/base",
      "model_module_version": "1.2.0",
      "model_name": "LayoutModel",
      "state": {}
     },
     "3856dccc13914ae9be97ab8d893e50e1": {
      "model_module": "@jupyter-widgets/controls",
      "model_module_version": "1.5.0",
      "model_name": "DescriptionStyleModel",
      "state": {
       "description_width": ""
      }
     },
     "38616e35aad042f6a280e41bdff4df1d": {
      "model_module": "@jupyter-widgets/base",
      "model_module_version": "1.2.0",
      "model_name": "LayoutModel",
      "state": {
       "display": "inline-flex",
       "flex_flow": "row wrap",
       "width": "100%"
      }
     },
     "388d5f8e9c254eb18facae89004b019d": {
      "model_module": "@jupyter-widgets/controls",
      "model_module_version": "1.5.0",
      "model_name": "DescriptionStyleModel",
      "state": {
       "description_width": ""
      }
     },
     "38a15a08fb1f4e9f97b8140c6d49bfb9": {
      "model_module": "@jupyter-widgets/controls",
      "model_module_version": "1.5.0",
      "model_name": "FloatProgressModel",
      "state": {
       "bar_style": "success",
       "description": "5625/5625",
       "layout": "IPY_MODEL_45ba0fcca66a4cf4aa96d64c78525016",
       "max": 5625,
       "style": "IPY_MODEL_b539f10b57f24458b9da853430f59200",
       "value": 5625
      }
     },
     "38d21905c2cb4015bc6df15ca6f5cf1e": {
      "model_module": "@jupyter-widgets/base",
      "model_module_version": "1.2.0",
      "model_name": "LayoutModel",
      "state": {
       "display": "inline-flex",
       "flex_flow": "row wrap",
       "width": "100%"
      }
     },
     "39066e8a7d3541a996c7e8f72f911bac": {
      "model_module": "@jupyter-widgets/base",
      "model_module_version": "1.2.0",
      "model_name": "LayoutModel",
      "state": {}
     },
     "390bb713fc61447f979672b9adcb56cd": {
      "model_module": "@jupyter-widgets/controls",
      "model_module_version": "1.5.0",
      "model_name": "FloatProgressModel",
      "state": {
       "bar_style": "success",
       "description": "5625/5625",
       "layout": "IPY_MODEL_e273f087925442d594960f64983bc676",
       "max": 5625,
       "style": "IPY_MODEL_443a79f8502f41d0b6dc499cdeea4235",
       "value": 5625
      }
     },
     "39172919decc4fd0ad60c81f2291703c": {
      "model_module": "@jupyter-widgets/base",
      "model_module_version": "1.2.0",
      "model_name": "LayoutModel",
      "state": {}
     },
     "393ba39611b646f586de0518937cdc3e": {
      "model_module": "@jupyter-widgets/controls",
      "model_module_version": "1.5.0",
      "model_name": "ProgressStyleModel",
      "state": {
       "description_width": "initial"
      }
     },
     "3961dd88081c43658913a20d6031e31d": {
      "model_module": "@jupyter-widgets/controls",
      "model_module_version": "1.5.0",
      "model_name": "DescriptionStyleModel",
      "state": {
       "description_width": ""
      }
     },
     "396b10fea21b4eb38214657fe7c3f1a7": {
      "model_module": "@jupyter-widgets/base",
      "model_module_version": "1.2.0",
      "model_name": "LayoutModel",
      "state": {
       "flex": "2"
      }
     },
     "39bc0c6799a843a6a18af75c4eb4854f": {
      "model_module": "@jupyter-widgets/base",
      "model_module_version": "1.2.0",
      "model_name": "LayoutModel",
      "state": {}
     },
     "39bc8db5189845e0aef91a29e16eed81": {
      "model_module": "@jupyter-widgets/base",
      "model_module_version": "1.2.0",
      "model_name": "LayoutModel",
      "state": {
       "display": "inline-flex",
       "flex_flow": "row wrap",
       "width": "100%"
      }
     },
     "39c2ac5e2c9c473291c0c8b892b2b58e": {
      "model_module": "@jupyter-widgets/controls",
      "model_module_version": "1.5.0",
      "model_name": "HTMLModel",
      "state": {
       "layout": "IPY_MODEL_1b4fb600a53a4568a2aa52d6d557cdd1",
       "style": "IPY_MODEL_d306949dba2c470ca8ec59929608bcf8",
       "value": " ETA: 00:00s - loss: -1.8153 - val_loss: -1.7676"
      }
     },
     "39d95a0b10b64156973b60d0bd7a817d": {
      "model_module": "@jupyter-widgets/controls",
      "model_module_version": "1.5.0",
      "model_name": "FloatProgressModel",
      "state": {
       "bar_style": "success",
       "description": "5625/5625",
       "layout": "IPY_MODEL_dadec65ce5c6491f81f78ff1fbb7044d",
       "max": 5625,
       "style": "IPY_MODEL_ec1857a5fa4546c184c8f3de2f325186",
       "value": 5625
      }
     },
     "39dc65cf42d44da3ba9f342959d1aa0b": {
      "model_module": "@jupyter-widgets/controls",
      "model_module_version": "1.5.0",
      "model_name": "HBoxModel",
      "state": {
       "children": [
        "IPY_MODEL_bdbcb3ce82504625ba9032a1bd8dae67",
        "IPY_MODEL_1fe9d84ace824f6dabb3ed9ed38fbbdf"
       ],
       "layout": "IPY_MODEL_862d6a2af0f54f4693c16388c7c3e034"
      }
     },
     "3a0cae78463c45259fff670db486f516": {
      "model_module": "@jupyter-widgets/controls",
      "model_module_version": "1.5.0",
      "model_name": "FloatProgressModel",
      "state": {
       "bar_style": "success",
       "description": "5625/5625",
       "layout": "IPY_MODEL_e724ad890254438cb566511a369ed8d5",
       "max": 5625,
       "style": "IPY_MODEL_86e247993eb145c59dd7adef32add27b",
       "value": 5625
      }
     },
     "3a21b4ed7d5249a5a7eec18a2a183572": {
      "model_module": "@jupyter-widgets/controls",
      "model_module_version": "1.5.0",
      "model_name": "HTMLModel",
      "state": {
       "layout": "IPY_MODEL_0bca56770b944bc29eafc95ace5937c5",
       "style": "IPY_MODEL_926f6df2795a458a90c5c35103511f97",
       "value": " ETA: 00:00s - loss: 0.0313 - val_loss: 0.0346"
      }
     },
     "3a33d008f45c4e0d9c89fa75492adc69": {
      "model_module": "@jupyter-widgets/controls",
      "model_module_version": "1.5.0",
      "model_name": "ProgressStyleModel",
      "state": {
       "description_width": "initial"
      }
     },
     "3a437494b9c843ffac23f9b73441efa9": {
      "model_module": "@jupyter-widgets/controls",
      "model_module_version": "1.5.0",
      "model_name": "FloatProgressModel",
      "state": {
       "bar_style": "success",
       "description": "5625/5625",
       "layout": "IPY_MODEL_0be7c4333c2b4c759762c68beada5c75",
       "max": 5625,
       "style": "IPY_MODEL_8d73208deed34cbfb9bb5383650744e1",
       "value": 5625
      }
     },
     "3a4aa0a996d946eb977fea2362951d72": {
      "model_module": "@jupyter-widgets/controls",
      "model_module_version": "1.5.0",
      "model_name": "HBoxModel",
      "state": {
       "children": [
        "IPY_MODEL_008e69e80e0d47418dcbe504b604861b",
        "IPY_MODEL_f7ec540d303b42c2a3e7e28a09a52b98"
       ],
       "layout": "IPY_MODEL_a6028ddf04514bc69c9ca2bfa99aa534"
      }
     },
     "3a6ad3f527194d7d8c7af9537a984ac6": {
      "model_module": "@jupyter-widgets/base",
      "model_module_version": "1.2.0",
      "model_name": "LayoutModel",
      "state": {
       "display": "inline-flex",
       "flex_flow": "row wrap",
       "width": "100%"
      }
     },
     "3a7cc1c800fd46e4bb66735be422e4e8": {
      "model_module": "@jupyter-widgets/base",
      "model_module_version": "1.2.0",
      "model_name": "LayoutModel",
      "state": {
       "flex": "2"
      }
     },
     "3a89950dfa584a929e9f7819dee23034": {
      "model_module": "@jupyter-widgets/controls",
      "model_module_version": "1.5.0",
      "model_name": "FloatProgressModel",
      "state": {
       "bar_style": "success",
       "description": "5625/5625",
       "layout": "IPY_MODEL_5d322f4f5ae84f488fb43cd591b3c381",
       "max": 5625,
       "style": "IPY_MODEL_06dc487318b8439ea7b77f1481432b5c",
       "value": 5625
      }
     },
     "3a94e2c0418a4864af96aa5cb08b7f34": {
      "model_module": "@jupyter-widgets/controls",
      "model_module_version": "1.5.0",
      "model_name": "HTMLModel",
      "state": {
       "layout": "IPY_MODEL_206dd5bdd1d7425f9859ee58182617d5",
       "style": "IPY_MODEL_58a2a11ee4664181904734f96c282618",
       "value": " ETA: 00:00s - loss: 0.0684 - val_loss: 0.0725"
      }
     },
     "3aa757e08874406b99fff614eb9d45b0": {
      "model_module": "@jupyter-widgets/controls",
      "model_module_version": "1.5.0",
      "model_name": "ProgressStyleModel",
      "state": {
       "description_width": "initial"
      }
     },
     "3ab95e1cffb649ae9a532a7de4a99417": {
      "model_module": "@jupyter-widgets/base",
      "model_module_version": "1.2.0",
      "model_name": "LayoutModel",
      "state": {}
     },
     "3afb8c88c7cb40b6bcf14eeacf9be754": {
      "model_module": "@jupyter-widgets/base",
      "model_module_version": "1.2.0",
      "model_name": "LayoutModel",
      "state": {
       "flex": "2"
      }
     },
     "3b07c2f75789402c9be0cbe5e6319ca3": {
      "model_module": "@jupyter-widgets/controls",
      "model_module_version": "1.5.0",
      "model_name": "HTMLModel",
      "state": {
       "layout": "IPY_MODEL_47c5036f32124bd9b01ed46359be2c06",
       "style": "IPY_MODEL_f3c6d65a3e3046c6b41a448b4fb9eb5b",
       "value": " ETA: 00:00s - loss: 0.0302 - val_loss: 0.0300"
      }
     },
     "3b16ebb0559f43798a7f9bedcd87b24d": {
      "model_module": "@jupyter-widgets/controls",
      "model_module_version": "1.5.0",
      "model_name": "DescriptionStyleModel",
      "state": {
       "description_width": ""
      }
     },
     "3b1f55a04aeb4dbbabfb12cd615c46cf": {
      "model_module": "@jupyter-widgets/base",
      "model_module_version": "1.2.0",
      "model_name": "LayoutModel",
      "state": {
       "display": "inline-flex",
       "flex_flow": "row wrap",
       "width": "100%"
      }
     },
     "3b31f9a122d14765b65162833edea465": {
      "model_module": "@jupyter-widgets/controls",
      "model_module_version": "1.5.0",
      "model_name": "HBoxModel",
      "state": {
       "children": [
        "IPY_MODEL_8b2309528e344da896703daeb930a57d",
        "IPY_MODEL_bfa6ab33efbe4621b0688222691677e6"
       ],
       "layout": "IPY_MODEL_d2b9919f0019432ea16596f7a9344029"
      }
     },
     "3b481dd8317c416fad67efbd67b11291": {
      "model_module": "@jupyter-widgets/base",
      "model_module_version": "1.2.0",
      "model_name": "LayoutModel",
      "state": {
       "display": "inline-flex",
       "flex_flow": "row wrap",
       "width": "100%"
      }
     },
     "3b589029d5e345488d7140a9523063fb": {
      "model_module": "@jupyter-widgets/controls",
      "model_module_version": "1.5.0",
      "model_name": "HBoxModel",
      "state": {
       "children": [
        "IPY_MODEL_77052fd1a272478aa2c9105287cb177d",
        "IPY_MODEL_8c7a2654674d4409ad9e4e6e2e9da50b"
       ],
       "layout": "IPY_MODEL_6b59d1db7a0f4dae9063d7ca710715ed"
      }
     },
     "3b644eafc19b427997609968ded16a57": {
      "model_module": "@jupyter-widgets/base",
      "model_module_version": "1.2.0",
      "model_name": "LayoutModel",
      "state": {
       "display": "inline-flex",
       "flex_flow": "row wrap",
       "width": "100%"
      }
     },
     "3b6fde532b154eb8869fd817c6a7c023": {
      "model_module": "@jupyter-widgets/base",
      "model_module_version": "1.2.0",
      "model_name": "LayoutModel",
      "state": {
       "flex": "2"
      }
     },
     "3b746ff0725f4ea596e4dfd5547a1e25": {
      "model_module": "@jupyter-widgets/controls",
      "model_module_version": "1.5.0",
      "model_name": "DescriptionStyleModel",
      "state": {
       "description_width": ""
      }
     },
     "3b867a556bb04c249b20513750e6fbde": {
      "model_module": "@jupyter-widgets/controls",
      "model_module_version": "1.5.0",
      "model_name": "FloatProgressModel",
      "state": {
       "bar_style": "success",
       "description": "5625/5625",
       "layout": "IPY_MODEL_ec5a331218f545949eec410e5547b9d1",
       "max": 5625,
       "style": "IPY_MODEL_502a631ca201443bae4b9204bca2d327",
       "value": 5625
      }
     },
     "3b88f58d1f664208b6c841e50253fe97": {
      "model_module": "@jupyter-widgets/controls",
      "model_module_version": "1.5.0",
      "model_name": "FloatProgressModel",
      "state": {
       "bar_style": "success",
       "description": "5625/5625",
       "layout": "IPY_MODEL_49ae39571f3d473782442add4ef9f7e2",
       "max": 5625,
       "style": "IPY_MODEL_52008254f1f644e3adbee71e554312cc",
       "value": 5625
      }
     },
     "3b9d0090912643bb8298319de6c4078b": {
      "model_module": "@jupyter-widgets/controls",
      "model_module_version": "1.5.0",
      "model_name": "FloatProgressModel",
      "state": {
       "bar_style": "success",
       "description": "5625/5625",
       "layout": "IPY_MODEL_6222dd8f4ffd4f19bcd7acc03377fdd7",
       "max": 5625,
       "style": "IPY_MODEL_4b2f8e3775de49d98025bc0e90c49126",
       "value": 5625
      }
     },
     "3be203e69c68485d8d8ae470607de86f": {
      "model_module": "@jupyter-widgets/controls",
      "model_module_version": "1.5.0",
      "model_name": "DescriptionStyleModel",
      "state": {
       "description_width": ""
      }
     },
     "3beda21d384d43dc8267f2759145f918": {
      "model_module": "@jupyter-widgets/base",
      "model_module_version": "1.2.0",
      "model_name": "LayoutModel",
      "state": {
       "display": "inline-flex",
       "flex_flow": "row wrap",
       "width": "100%"
      }
     },
     "3c0824e181354cd38ef825423f29d636": {
      "model_module": "@jupyter-widgets/base",
      "model_module_version": "1.2.0",
      "model_name": "LayoutModel",
      "state": {}
     },
     "3c4f1feed66e45639c893a5914a59020": {
      "model_module": "@jupyter-widgets/base",
      "model_module_version": "1.2.0",
      "model_name": "LayoutModel",
      "state": {
       "display": "inline-flex",
       "flex_flow": "row wrap",
       "width": "100%"
      }
     },
     "3c87fc500cea4061bf59216440033d78": {
      "model_module": "@jupyter-widgets/controls",
      "model_module_version": "1.5.0",
      "model_name": "ProgressStyleModel",
      "state": {
       "description_width": "initial"
      }
     },
     "3ca73e41f0894efe89fc52c00f9d93e8": {
      "model_module": "@jupyter-widgets/controls",
      "model_module_version": "1.5.0",
      "model_name": "FloatProgressModel",
      "state": {
       "bar_style": "success",
       "description": "5625/5625",
       "layout": "IPY_MODEL_de3a6f10ab64465f8f71aedc6f16c6e7",
       "max": 5625,
       "style": "IPY_MODEL_9f9accda42d1419dbd373347eb113998",
       "value": 5625
      }
     },
     "3ce716c4e6a646ebb3e2d5e9bd0b5efa": {
      "model_module": "@jupyter-widgets/controls",
      "model_module_version": "1.5.0",
      "model_name": "FloatProgressModel",
      "state": {
       "bar_style": "success",
       "description": "5625/5625",
       "layout": "IPY_MODEL_9c407e71ef4847389e09cd3f6e9f3597",
       "max": 5625,
       "style": "IPY_MODEL_7a054b4c2cb546419b5d79f300b3398b",
       "value": 5625
      }
     },
     "3cf8b267ec0b414eabdf956af5178788": {
      "model_module": "@jupyter-widgets/controls",
      "model_module_version": "1.5.0",
      "model_name": "DescriptionStyleModel",
      "state": {
       "description_width": ""
      }
     },
     "3d00ee1eecf04cee8496434c5ea8139c": {
      "model_module": "@jupyter-widgets/base",
      "model_module_version": "1.2.0",
      "model_name": "LayoutModel",
      "state": {
       "display": "inline-flex",
       "flex_flow": "row wrap",
       "width": "100%"
      }
     },
     "3d0b98b268b3431494ab01aa797cffaa": {
      "model_module": "@jupyter-widgets/base",
      "model_module_version": "1.2.0",
      "model_name": "LayoutModel",
      "state": {}
     },
     "3d6633bab43c471da98eb9fc1b7f217c": {
      "model_module": "@jupyter-widgets/base",
      "model_module_version": "1.2.0",
      "model_name": "LayoutModel",
      "state": {}
     },
     "3d7273316504499e88641b50c4c5a648": {
      "model_module": "@jupyter-widgets/base",
      "model_module_version": "1.2.0",
      "model_name": "LayoutModel",
      "state": {}
     },
     "3d784d5811254fba801e06db6f2395e6": {
      "model_module": "@jupyter-widgets/base",
      "model_module_version": "1.2.0",
      "model_name": "LayoutModel",
      "state": {
       "display": "inline-flex",
       "flex_flow": "row wrap",
       "width": "100%"
      }
     },
     "3d9d242b6c814ccb90939158a5f975f2": {
      "model_module": "@jupyter-widgets/controls",
      "model_module_version": "1.5.0",
      "model_name": "ProgressStyleModel",
      "state": {
       "description_width": "initial"
      }
     },
     "3d9da2f25d384300a9d144c44bfbd8fb": {
      "model_module": "@jupyter-widgets/base",
      "model_module_version": "1.2.0",
      "model_name": "LayoutModel",
      "state": {
       "flex": "2"
      }
     },
     "3dc673b532a54688bcef9cf01cd2fae3": {
      "model_module": "@jupyter-widgets/base",
      "model_module_version": "1.2.0",
      "model_name": "LayoutModel",
      "state": {
       "display": "inline-flex",
       "flex_flow": "row wrap",
       "width": "100%"
      }
     },
     "3ddfb41746024b2b868fb1c41c26ace0": {
      "model_module": "@jupyter-widgets/base",
      "model_module_version": "1.2.0",
      "model_name": "LayoutModel",
      "state": {
       "display": "inline-flex",
       "flex_flow": "row wrap",
       "width": "100%"
      }
     },
     "3de57d6a97294e29b2dc09d53dca2a73": {
      "model_module": "@jupyter-widgets/controls",
      "model_module_version": "1.5.0",
      "model_name": "DescriptionStyleModel",
      "state": {
       "description_width": ""
      }
     },
     "3e1378ffade74f70bca5779b55363bd4": {
      "model_module": "@jupyter-widgets/controls",
      "model_module_version": "1.5.0",
      "model_name": "HTMLModel",
      "state": {
       "layout": "IPY_MODEL_7fd306289bba48c5a1b7fbc1e6383684",
       "style": "IPY_MODEL_66265565812547979e9dca94cb6e535e",
       "value": " ETA: 00:00s - loss: 0.0726 - val_loss: 0.0728"
      }
     },
     "3e13aebc942d46fd8f60e300c9ceff5d": {
      "model_module": "@jupyter-widgets/controls",
      "model_module_version": "1.5.0",
      "model_name": "ProgressStyleModel",
      "state": {
       "description_width": "initial"
      }
     },
     "3e2227bf4de84734aaf57c2948c84998": {
      "model_module": "@jupyter-widgets/base",
      "model_module_version": "1.2.0",
      "model_name": "LayoutModel",
      "state": {
       "display": "inline-flex",
       "flex_flow": "row wrap",
       "width": "100%"
      }
     },
     "3e2f331595be4c4d88e99810a04f606d": {
      "model_module": "@jupyter-widgets/controls",
      "model_module_version": "1.5.0",
      "model_name": "FloatProgressModel",
      "state": {
       "bar_style": "success",
       "description": "5625/5625",
       "layout": "IPY_MODEL_983d29ea7bb8456792db7ccb03d63ec0",
       "max": 5625,
       "style": "IPY_MODEL_49f1c7c42f0943088ded1a9b12297d56",
       "value": 5625
      }
     },
     "3e623adb61d84051b44fcd0f471f627e": {
      "model_module": "@jupyter-widgets/controls",
      "model_module_version": "1.5.0",
      "model_name": "HTMLModel",
      "state": {
       "layout": "IPY_MODEL_477e580bef9f40198e87cf160f1fa94a",
       "style": "IPY_MODEL_b22b2a88765e49a88a9613293eb71beb",
       "value": " 134/1000 ETA: 24:37:01s,  102.33s/epochs"
      }
     },
     "3ecba15b92de44aaa17aced8c8fcddb9": {
      "model_module": "@jupyter-widgets/controls",
      "model_module_version": "1.5.0",
      "model_name": "HBoxModel",
      "state": {
       "children": [
        "IPY_MODEL_be32e6d2b1cf4ca49f76cad94a63451c",
        "IPY_MODEL_98e01938824a4aacaf7050f7846237cc"
       ],
       "layout": "IPY_MODEL_5eb7a785dc1e40178a438ac2a07469e6"
      }
     },
     "3ed898e3964844f3b9efcf240918fa8e": {
      "model_module": "@jupyter-widgets/controls",
      "model_module_version": "1.5.0",
      "model_name": "ProgressStyleModel",
      "state": {
       "description_width": "initial"
      }
     },
     "3eedfae9973d4efe99cf0470a1bb44ec": {
      "model_module": "@jupyter-widgets/base",
      "model_module_version": "1.2.0",
      "model_name": "LayoutModel",
      "state": {
       "flex": "2"
      }
     },
     "3f10e6ddac234d09b13811ebc492efd9": {
      "model_module": "@jupyter-widgets/controls",
      "model_module_version": "1.5.0",
      "model_name": "HBoxModel",
      "state": {
       "children": [
        "IPY_MODEL_0b548c94876449b184d096c1ff9f3bb8",
        "IPY_MODEL_e9509ae68b5b48f8b373e6449b3f15dd"
       ],
       "layout": "IPY_MODEL_74eb1f174ad74f21b715840ba175ccfa"
      }
     },
     "3f977fd42b7a49efbb84b46360d17100": {
      "model_module": "@jupyter-widgets/controls",
      "model_module_version": "1.5.0",
      "model_name": "FloatProgressModel",
      "state": {
       "bar_style": "success",
       "description": "5625/5625",
       "layout": "IPY_MODEL_a1f7e5519a4349d88b02586f3047d133",
       "max": 5625,
       "style": "IPY_MODEL_b6fc44a329e8446781e4dfebed5a5706",
       "value": 5625
      }
     },
     "3f993d7f063e481a84bcdf96ecd993c6": {
      "model_module": "@jupyter-widgets/base",
      "model_module_version": "1.2.0",
      "model_name": "LayoutModel",
      "state": {}
     },
     "3fb7fb7f53284287a48a2942447b31d6": {
      "model_module": "@jupyter-widgets/controls",
      "model_module_version": "1.5.0",
      "model_name": "HTMLModel",
      "state": {
       "layout": "IPY_MODEL_52efb70eed964095839a23ed1a4876b6",
       "style": "IPY_MODEL_1e9b3b276daa4fa9bd26c8006ae2660d",
       "value": " ETA: 00:00s - loss: -1.8269 - val_loss: -1.8000"
      }
     },
     "3fd4cb79697447d09ddce90afd2c1611": {
      "model_module": "@jupyter-widgets/base",
      "model_module_version": "1.2.0",
      "model_name": "LayoutModel",
      "state": {}
     },
     "400250ae96224df9b64b53e29b89c35a": {
      "model_module": "@jupyter-widgets/base",
      "model_module_version": "1.2.0",
      "model_name": "LayoutModel",
      "state": {
       "flex": "2"
      }
     },
     "401daa4ee623430189809388cffb8f54": {
      "model_module": "@jupyter-widgets/controls",
      "model_module_version": "1.5.0",
      "model_name": "HBoxModel",
      "state": {
       "children": [
        "IPY_MODEL_1ce833c2b2e54a8895d2ccffbdbe1b42",
        "IPY_MODEL_354dd96380ee4271a6aa67737ab2bcf1"
       ],
       "layout": "IPY_MODEL_e74d84df53f846e59b656efb0af4275b"
      }
     },
     "406bc41299b24fac8f8c792278f8bdde": {
      "model_module": "@jupyter-widgets/controls",
      "model_module_version": "1.5.0",
      "model_name": "HBoxModel",
      "state": {
       "children": [
        "IPY_MODEL_a74c3296f96040d7b54b63bf586cac64",
        "IPY_MODEL_e0074fd7db3948b09b71b4b28a3516db"
       ],
       "layout": "IPY_MODEL_2f7ae0772ef04639817a470ce3e2deb7"
      }
     },
     "40b70c0a3dcb4e3187a4397c2ed2deed": {
      "model_module": "@jupyter-widgets/controls",
      "model_module_version": "1.5.0",
      "model_name": "ProgressStyleModel",
      "state": {
       "description_width": "initial"
      }
     },
     "40ca3cdb904f4bbe9a6e8b4c42866aec": {
      "model_module": "@jupyter-widgets/controls",
      "model_module_version": "1.5.0",
      "model_name": "DescriptionStyleModel",
      "state": {
       "description_width": ""
      }
     },
     "40cdc8c714e34579a3521a536c00c813": {
      "model_module": "@jupyter-widgets/base",
      "model_module_version": "1.2.0",
      "model_name": "LayoutModel",
      "state": {}
     },
     "41018f6664c4472f8b6901c0a12a89f3": {
      "model_module": "@jupyter-widgets/controls",
      "model_module_version": "1.5.0",
      "model_name": "HBoxModel",
      "state": {
       "children": [
        "IPY_MODEL_e219cda8a77f498cb9c3b8ce279b10c1",
        "IPY_MODEL_9e769ae01c024e8f821f059b250931ea"
       ],
       "layout": "IPY_MODEL_916f3ff084ee4034b2207e66179a7860"
      }
     },
     "410470f795eb4e37b092aca023f29717": {
      "model_module": "@jupyter-widgets/controls",
      "model_module_version": "1.5.0",
      "model_name": "HTMLModel",
      "state": {
       "layout": "IPY_MODEL_0cd44f5f7f8d4e4caaefe1dfae9f60dd",
       "style": "IPY_MODEL_084cee18b41048e8b00c3a096b1b145b",
       "value": " ETA: 00:00s - loss: 0.0272 - val_loss: 0.0286"
      }
     },
     "412d6b724ad1443abae788153c9cf807": {
      "model_module": "@jupyter-widgets/controls",
      "model_module_version": "1.5.0",
      "model_name": "HBoxModel",
      "state": {
       "children": [
        "IPY_MODEL_69ac28ddc78b45afb8673eaea9bacf53",
        "IPY_MODEL_980da8de2ea245ebae6805d5c8295a95"
       ],
       "layout": "IPY_MODEL_f8d5d3dc481a4c908280a77bac49ce93"
      }
     },
     "413d2ca038ee407ba9ffe2fa93369d72": {
      "model_module": "@jupyter-widgets/base",
      "model_module_version": "1.2.0",
      "model_name": "LayoutModel",
      "state": {
       "flex": "2"
      }
     },
     "415011c4df42441ca741ce5b6f7f1d9d": {
      "model_module": "@jupyter-widgets/base",
      "model_module_version": "1.2.0",
      "model_name": "LayoutModel",
      "state": {}
     },
     "4169f35e61474be9af4354d1914c299f": {
      "model_module": "@jupyter-widgets/controls",
      "model_module_version": "1.5.0",
      "model_name": "HBoxModel",
      "state": {
       "children": [
        "IPY_MODEL_88349335e4314624bca72ef19153c708",
        "IPY_MODEL_e2262314666849c0b880c7d4d1255d39"
       ],
       "layout": "IPY_MODEL_e35045d3b3204a15b7dccd17831d6636"
      }
     },
     "416b1139feca46318a2becab5804e8d0": {
      "model_module": "@jupyter-widgets/controls",
      "model_module_version": "1.5.0",
      "model_name": "DescriptionStyleModel",
      "state": {
       "description_width": ""
      }
     },
     "41750c24d7814d799e48544ab38d18f7": {
      "model_module": "@jupyter-widgets/base",
      "model_module_version": "1.2.0",
      "model_name": "LayoutModel",
      "state": {
       "flex": "2"
      }
     },
     "41a37af4de754bc0a3ef9246e7e60022": {
      "model_module": "@jupyter-widgets/controls",
      "model_module_version": "1.5.0",
      "model_name": "FloatProgressModel",
      "state": {
       "bar_style": "success",
       "description": "5625/5625",
       "layout": "IPY_MODEL_a7a131fe2e5540d49fe583d566a26810",
       "max": 5625,
       "style": "IPY_MODEL_8379b57ac57e4a909b2e05f68a800c5b",
       "value": 5625
      }
     },
     "41aadc262cf74a5daa77d24746827c26": {
      "model_module": "@jupyter-widgets/base",
      "model_module_version": "1.2.0",
      "model_name": "LayoutModel",
      "state": {}
     },
     "41cc55c49e63446ab7885c0d0dc29dc1": {
      "model_module": "@jupyter-widgets/controls",
      "model_module_version": "1.5.0",
      "model_name": "ProgressStyleModel",
      "state": {
       "description_width": "initial"
      }
     },
     "41dc713aeb4f4573b861c527e51832cf": {
      "model_module": "@jupyter-widgets/controls",
      "model_module_version": "1.5.0",
      "model_name": "ProgressStyleModel",
      "state": {
       "description_width": "initial"
      }
     },
     "4240c2476af448a4b6026274fde94c4b": {
      "model_module": "@jupyter-widgets/controls",
      "model_module_version": "1.5.0",
      "model_name": "DescriptionStyleModel",
      "state": {
       "description_width": ""
      }
     },
     "4256f64cef0841fb9e0b516220d62b8b": {
      "model_module": "@jupyter-widgets/controls",
      "model_module_version": "1.5.0",
      "model_name": "HBoxModel",
      "state": {
       "children": [
        "IPY_MODEL_4b8ab79128cf42e5937280a2a5af48e2",
        "IPY_MODEL_351842eebf884db393f30cf59d32651e"
       ],
       "layout": "IPY_MODEL_754b63bb6d48413a8c328edb8336775d"
      }
     },
     "4271bc269bff4b119ac3ff988cd43294": {
      "model_module": "@jupyter-widgets/base",
      "model_module_version": "1.2.0",
      "model_name": "LayoutModel",
      "state": {
       "display": "inline-flex",
       "flex_flow": "row wrap",
       "width": "100%"
      }
     },
     "4276bfd4c1b04feba6b512969ac34259": {
      "model_module": "@jupyter-widgets/controls",
      "model_module_version": "1.5.0",
      "model_name": "DescriptionStyleModel",
      "state": {
       "description_width": ""
      }
     },
     "42ad27d4e3724fd1b92d9d822b188f49": {
      "model_module": "@jupyter-widgets/base",
      "model_module_version": "1.2.0",
      "model_name": "LayoutModel",
      "state": {
       "flex": "2"
      }
     },
     "42b5e93424254d65b148f2d1e4d13c45": {
      "model_module": "@jupyter-widgets/controls",
      "model_module_version": "1.5.0",
      "model_name": "DescriptionStyleModel",
      "state": {
       "description_width": ""
      }
     },
     "42bd3aa15a0a49f49af18f63c51e529c": {
      "model_module": "@jupyter-widgets/base",
      "model_module_version": "1.2.0",
      "model_name": "LayoutModel",
      "state": {
       "display": "inline-flex",
       "flex_flow": "row wrap",
       "width": "100%"
      }
     },
     "42be84c576544aa5bd2685fb024e95ec": {
      "model_module": "@jupyter-widgets/controls",
      "model_module_version": "1.5.0",
      "model_name": "HBoxModel",
      "state": {
       "children": [
        "IPY_MODEL_77497e164274402a90a74efd41bd7e3f",
        "IPY_MODEL_db16b1ae365f43c589668608e47bece6"
       ],
       "layout": "IPY_MODEL_9b3c2e90570043cc8ce0ae5a993f39f4"
      }
     },
     "431827973fb54126817ef05321fe8c33": {
      "model_module": "@jupyter-widgets/base",
      "model_module_version": "1.2.0",
      "model_name": "LayoutModel",
      "state": {
       "flex": "2"
      }
     },
     "431c6af65413482aaee550a4798e9bfd": {
      "model_module": "@jupyter-widgets/base",
      "model_module_version": "1.2.0",
      "model_name": "LayoutModel",
      "state": {
       "display": "inline-flex",
       "flex_flow": "row wrap",
       "width": "100%"
      }
     },
     "43213c9b83d749e6b1e5310663cff973": {
      "model_module": "@jupyter-widgets/controls",
      "model_module_version": "1.5.0",
      "model_name": "HBoxModel",
      "state": {
       "children": [
        "IPY_MODEL_c731cdc957ba4cd09cf6691bd4d649e1",
        "IPY_MODEL_f37567ed26f64832b80130ab6b48cd26"
       ],
       "layout": "IPY_MODEL_0a5969cd9d7442df83d967ece26f9aec"
      }
     },
     "432748ca9a6a407a84b0cb9673ff836f": {
      "model_module": "@jupyter-widgets/controls",
      "model_module_version": "1.5.0",
      "model_name": "HBoxModel",
      "state": {
       "children": [
        "IPY_MODEL_1d333768d465412bbb692c216e7880fe",
        "IPY_MODEL_e3f7a05042934d76b641b9a29b4d7836"
       ],
       "layout": "IPY_MODEL_cc0b99bad0fa4d9b86e0ce6a20be9787"
      }
     },
     "435a953d4401445f90ec0ffb1d4ea0ed": {
      "model_module": "@jupyter-widgets/base",
      "model_module_version": "1.2.0",
      "model_name": "LayoutModel",
      "state": {
       "display": "inline-flex",
       "flex_flow": "row wrap",
       "width": "100%"
      }
     },
     "4370cb978fc34694877a15a0a33064cd": {
      "model_module": "@jupyter-widgets/controls",
      "model_module_version": "1.5.0",
      "model_name": "HTMLModel",
      "state": {
       "layout": "IPY_MODEL_150e5e3fba9748ad9aa504c658d42a49",
       "style": "IPY_MODEL_f4696e31c4f24e56a79da7fbb02cde9a",
       "value": " ETA: 00:00s - loss: -1.6738 - val_loss: -1.6750"
      }
     },
     "4396fa218eb6415daa8885f123ddb9d7": {
      "model_module": "@jupyter-widgets/controls",
      "model_module_version": "1.5.0",
      "model_name": "DescriptionStyleModel",
      "state": {
       "description_width": ""
      }
     },
     "43a53c37f767406f97aa3719c0f36b56": {
      "model_module": "@jupyter-widgets/controls",
      "model_module_version": "1.5.0",
      "model_name": "DescriptionStyleModel",
      "state": {
       "description_width": ""
      }
     },
     "43a7bfa4003543be86b841b966c3264b": {
      "model_module": "@jupyter-widgets/base",
      "model_module_version": "1.2.0",
      "model_name": "LayoutModel",
      "state": {
       "display": "inline-flex",
       "flex_flow": "row wrap",
       "width": "100%"
      }
     },
     "43b20d0f99f84a2d9bc126c35c35b16d": {
      "model_module": "@jupyter-widgets/controls",
      "model_module_version": "1.5.0",
      "model_name": "HBoxModel",
      "state": {
       "children": [
        "IPY_MODEL_67db37f9c7084c5782a5b7b2e70d204e",
        "IPY_MODEL_13367c2ae7514fae9b2e98fa5dec6fd8"
       ],
       "layout": "IPY_MODEL_802b03169c42429ab168ce47178d816f"
      }
     },
     "43ba4e5300c74b8eb3257c90f303b44d": {
      "model_module": "@jupyter-widgets/base",
      "model_module_version": "1.2.0",
      "model_name": "LayoutModel",
      "state": {
       "flex": "2"
      }
     },
     "43d13e9f4b2345cb816da8adfb95896e": {
      "model_module": "@jupyter-widgets/controls",
      "model_module_version": "1.5.0",
      "model_name": "FloatProgressModel",
      "state": {
       "bar_style": "success",
       "description": "5625/5625",
       "layout": "IPY_MODEL_396b10fea21b4eb38214657fe7c3f1a7",
       "max": 5625,
       "style": "IPY_MODEL_63a675acf89747c7a12600b6f3e6bcef",
       "value": 5625
      }
     },
     "43ed54e74f0e4c2bb2c489c6a9083d04": {
      "model_module": "@jupyter-widgets/controls",
      "model_module_version": "1.5.0",
      "model_name": "DescriptionStyleModel",
      "state": {
       "description_width": ""
      }
     },
     "443a79f8502f41d0b6dc499cdeea4235": {
      "model_module": "@jupyter-widgets/controls",
      "model_module_version": "1.5.0",
      "model_name": "ProgressStyleModel",
      "state": {
       "description_width": "initial"
      }
     },
     "444e060e786f42f2a74f3f524eff6540": {
      "model_module": "@jupyter-widgets/controls",
      "model_module_version": "1.5.0",
      "model_name": "HTMLModel",
      "state": {
       "layout": "IPY_MODEL_85423e97123d43aaad1fe9d502a9ad89",
       "style": "IPY_MODEL_43ed54e74f0e4c2bb2c489c6a9083d04",
       "value": " ETA: 00:00s - loss: 0.0295 - val_loss: 0.0298"
      }
     },
     "4451086069d14de58190c79dd326a089": {
      "model_module": "@jupyter-widgets/base",
      "model_module_version": "1.2.0",
      "model_name": "LayoutModel",
      "state": {
       "flex": "2"
      }
     },
     "4463406e92c54ec4a05e4e7a414c9822": {
      "model_module": "@jupyter-widgets/controls",
      "model_module_version": "1.5.0",
      "model_name": "DescriptionStyleModel",
      "state": {
       "description_width": ""
      }
     },
     "4467967279134ac68d2e1f461fbc52da": {
      "model_module": "@jupyter-widgets/base",
      "model_module_version": "1.2.0",
      "model_name": "LayoutModel",
      "state": {}
     },
     "4477d55f5bda4a5fa1f76e2bfa34a4e4": {
      "model_module": "@jupyter-widgets/base",
      "model_module_version": "1.2.0",
      "model_name": "LayoutModel",
      "state": {
       "flex": "2"
      }
     },
     "44ae6a1049ba4808a5e44e1795921ce5": {
      "model_module": "@jupyter-widgets/base",
      "model_module_version": "1.2.0",
      "model_name": "LayoutModel",
      "state": {
       "flex": "2"
      }
     },
     "44b83fc7cb1b4e0593771de6ee11268a": {
      "model_module": "@jupyter-widgets/controls",
      "model_module_version": "1.5.0",
      "model_name": "FloatProgressModel",
      "state": {
       "bar_style": "success",
       "description": "5625/5625",
       "layout": "IPY_MODEL_6ad4e4bad1714547ab317aeb302d0974",
       "max": 5625,
       "style": "IPY_MODEL_ae356cafb8d941df97d9ec4c4e40ab93",
       "value": 5625
      }
     },
     "44b90d40a59d4ef79e75edb8c7295f81": {
      "model_module": "@jupyter-widgets/controls",
      "model_module_version": "1.5.0",
      "model_name": "ProgressStyleModel",
      "state": {
       "description_width": "initial"
      }
     },
     "44bb09c934cc428eb9805d24f29d1d64": {
      "model_module": "@jupyter-widgets/base",
      "model_module_version": "1.2.0",
      "model_name": "LayoutModel",
      "state": {
       "display": "inline-flex",
       "flex_flow": "row wrap",
       "width": "100%"
      }
     },
     "44e64825d3b4443b994799771c205e43": {
      "model_module": "@jupyter-widgets/base",
      "model_module_version": "1.2.0",
      "model_name": "LayoutModel",
      "state": {}
     },
     "44f7f3785afa46c7b78bc32ba56e6e54": {
      "model_module": "@jupyter-widgets/base",
      "model_module_version": "1.2.0",
      "model_name": "LayoutModel",
      "state": {
       "flex": "2"
      }
     },
     "4551a76cc2764062a7c9558d4d3d30ab": {
      "model_module": "@jupyter-widgets/base",
      "model_module_version": "1.2.0",
      "model_name": "LayoutModel",
      "state": {
       "display": "inline-flex",
       "flex_flow": "row wrap",
       "width": "100%"
      }
     },
     "456954f77d1c4dcb8e0c347de695c18b": {
      "model_module": "@jupyter-widgets/base",
      "model_module_version": "1.2.0",
      "model_name": "LayoutModel",
      "state": {
       "flex": "2"
      }
     },
     "456bcb9568434d55ab229526b83ba7ed": {
      "model_module": "@jupyter-widgets/controls",
      "model_module_version": "1.5.0",
      "model_name": "HTMLModel",
      "state": {
       "layout": "IPY_MODEL_282a7848c5484258ac46f78955f08262",
       "style": "IPY_MODEL_152be5f9300c4a55803af5203b83fcff",
       "value": " ETA: 00:00s - loss: -1.8067 - val_loss: -1.8006"
      }
     },
     "45829bdede374933ae426ebeaa4ce556": {
      "model_module": "@jupyter-widgets/base",
      "model_module_version": "1.2.0",
      "model_name": "LayoutModel",
      "state": {}
     },
     "459395be03074b4b938a1b720abd4386": {
      "model_module": "@jupyter-widgets/controls",
      "model_module_version": "1.5.0",
      "model_name": "HBoxModel",
      "state": {
       "children": [
        "IPY_MODEL_e38642b0fae24fe991fdfdf5fbe23301",
        "IPY_MODEL_c7357c074e9b45bc88138d569ef4dd9c"
       ],
       "layout": "IPY_MODEL_fe7c6e7b85ee44439e8d3e4928b4d1ca"
      }
     },
     "45ba0fcca66a4cf4aa96d64c78525016": {
      "model_module": "@jupyter-widgets/base",
      "model_module_version": "1.2.0",
      "model_name": "LayoutModel",
      "state": {
       "flex": "2"
      }
     },
     "4663a8c4cc154815a26598eed70a327a": {
      "model_module": "@jupyter-widgets/base",
      "model_module_version": "1.2.0",
      "model_name": "LayoutModel",
      "state": {
       "display": "inline-flex",
       "flex_flow": "row wrap",
       "width": "100%"
      }
     },
     "466b951d1063408dbfbf57485ae7e7e6": {
      "model_module": "@jupyter-widgets/controls",
      "model_module_version": "1.5.0",
      "model_name": "FloatProgressModel",
      "state": {
       "bar_style": "success",
       "description": "5625/5625",
       "layout": "IPY_MODEL_f13cb548f7c745ff9caef71ffc21160a",
       "max": 5625,
       "style": "IPY_MODEL_827b8563465743c3b86fef9790174ae4",
       "value": 5625
      }
     },
     "4671ab938278484ca4eb7f7da947ad40": {
      "model_module": "@jupyter-widgets/base",
      "model_module_version": "1.2.0",
      "model_name": "LayoutModel",
      "state": {}
     },
     "4680b76084e042afb267ae16351eff6b": {
      "model_module": "@jupyter-widgets/controls",
      "model_module_version": "1.5.0",
      "model_name": "ProgressStyleModel",
      "state": {
       "description_width": "initial"
      }
     },
     "468aa9f64a5740178c4ec6333d683944": {
      "model_module": "@jupyter-widgets/controls",
      "model_module_version": "1.5.0",
      "model_name": "HTMLModel",
      "state": {
       "layout": "IPY_MODEL_7fcaeeb030ca445688fb165731978e72",
       "style": "IPY_MODEL_65c20186838f44a686d677afc38d4909",
       "value": " ETA: 00:00s - loss: 0.0682 - val_loss: 0.0724"
      }
     },
     "476c16d5c6934a2f8117f1d13bd8d39b": {
      "model_module": "@jupyter-widgets/base",
      "model_module_version": "1.2.0",
      "model_name": "LayoutModel",
      "state": {
       "display": "inline-flex",
       "flex_flow": "row wrap",
       "width": "100%"
      }
     },
     "477e580bef9f40198e87cf160f1fa94a": {
      "model_module": "@jupyter-widgets/base",
      "model_module_version": "1.2.0",
      "model_name": "LayoutModel",
      "state": {}
     },
     "4786a682e0a3473eab90dce655da873d": {
      "model_module": "@jupyter-widgets/controls",
      "model_module_version": "1.5.0",
      "model_name": "FloatProgressModel",
      "state": {
       "bar_style": "success",
       "description": "5625/5625",
       "layout": "IPY_MODEL_028b4ce81f224d71a0529c18b84037d9",
       "max": 5625,
       "style": "IPY_MODEL_0ad42468a2b64a3a9497da4931681ede",
       "value": 5625
      }
     },
     "47afc9b3af2c4a4cac029cdab6a016e8": {
      "model_module": "@jupyter-widgets/controls",
      "model_module_version": "1.5.0",
      "model_name": "HBoxModel",
      "state": {
       "children": [
        "IPY_MODEL_f46fc740d3fc4dbcb817c32a0b7b7208",
        "IPY_MODEL_d39ea682f8c640a19a7308775a1956f7"
       ],
       "layout": "IPY_MODEL_7b74949f716d4c0685a420fde66ef15c"
      }
     },
     "47c5036f32124bd9b01ed46359be2c06": {
      "model_module": "@jupyter-widgets/base",
      "model_module_version": "1.2.0",
      "model_name": "LayoutModel",
      "state": {}
     },
     "47cc7de90e554c5992e510a0d03539c3": {
      "model_module": "@jupyter-widgets/controls",
      "model_module_version": "1.5.0",
      "model_name": "HTMLModel",
      "state": {
       "layout": "IPY_MODEL_d3d4c3f5cd55438e999aa7c4e55d9189",
       "style": "IPY_MODEL_e5e0d6dad85b47b88b9792eb4ac475ab",
       "value": " ETA: 00:00s - loss: 0.0281 - val_loss: 0.0292"
      }
     },
     "47d65bce6a2d482382e78c5a1bdfc726": {
      "model_module": "@jupyter-widgets/controls",
      "model_module_version": "1.5.0",
      "model_name": "HTMLModel",
      "state": {
       "layout": "IPY_MODEL_e86be74618d34d0d9ef3184c1060296b",
       "style": "IPY_MODEL_ba8522057e5c45b9994b3f9ae2d6aa2d",
       "value": " ETA: 00:00s - loss: -1.7882 - val_loss: -1.7811"
      }
     },
     "47dab9cd84414f51956ecdb7c5b177f7": {
      "model_module": "@jupyter-widgets/controls",
      "model_module_version": "1.5.0",
      "model_name": "DescriptionStyleModel",
      "state": {
       "description_width": ""
      }
     },
     "47f2cac8102f4a129786cd6a207e6519": {
      "model_module": "@jupyter-widgets/base",
      "model_module_version": "1.2.0",
      "model_name": "LayoutModel",
      "state": {}
     },
     "483a93140610455c800adefdb4a3bed0": {
      "model_module": "@jupyter-widgets/controls",
      "model_module_version": "1.5.0",
      "model_name": "DescriptionStyleModel",
      "state": {
       "description_width": ""
      }
     },
     "4853d1c41e834a72964d6d56eb431ab6": {
      "model_module": "@jupyter-widgets/base",
      "model_module_version": "1.2.0",
      "model_name": "LayoutModel",
      "state": {}
     },
     "4872e2af4ca44277812652218d955ca7": {
      "model_module": "@jupyter-widgets/controls",
      "model_module_version": "1.5.0",
      "model_name": "ProgressStyleModel",
      "state": {
       "description_width": "initial"
      }
     },
     "487e1d99a14f4533b65f0fefc783e06e": {
      "model_module": "@jupyter-widgets/base",
      "model_module_version": "1.2.0",
      "model_name": "LayoutModel",
      "state": {
       "display": "inline-flex",
       "flex_flow": "row wrap",
       "width": "100%"
      }
     },
     "488c9c61e36e4ac085f4778330b2a6c5": {
      "model_module": "@jupyter-widgets/controls",
      "model_module_version": "1.5.0",
      "model_name": "DescriptionStyleModel",
      "state": {
       "description_width": ""
      }
     },
     "48a56eb62ba64b4981e1069dcccc6e99": {
      "model_module": "@jupyter-widgets/base",
      "model_module_version": "1.2.0",
      "model_name": "LayoutModel",
      "state": {
       "display": "inline-flex",
       "flex_flow": "row wrap",
       "width": "100%"
      }
     },
     "48a5e92f07ba4101ab563248f68759cd": {
      "model_module": "@jupyter-widgets/base",
      "model_module_version": "1.2.0",
      "model_name": "LayoutModel",
      "state": {
       "display": "inline-flex",
       "flex_flow": "row wrap",
       "width": "100%"
      }
     },
     "48fdab4aa83a44b48eca838795488a2a": {
      "model_module": "@jupyter-widgets/base",
      "model_module_version": "1.2.0",
      "model_name": "LayoutModel",
      "state": {
       "flex": "2"
      }
     },
     "48fe20e0dcbe4ddeb4658d267a9195bf": {
      "model_module": "@jupyter-widgets/controls",
      "model_module_version": "1.5.0",
      "model_name": "FloatProgressModel",
      "state": {
       "bar_style": "success",
       "description": "5625/5625",
       "layout": "IPY_MODEL_f9aaf6b6d9ed46e991991bb8baa5893d",
       "max": 5625,
       "style": "IPY_MODEL_8d1576056eed4e5da77742aaa79c1356",
       "value": 5625
      }
     },
     "49017f2bf1534b4cb7ec596e0d3f0c74": {
      "model_module": "@jupyter-widgets/base",
      "model_module_version": "1.2.0",
      "model_name": "LayoutModel",
      "state": {}
     },
     "4937a279556649e0bb33ac7a415b0ae9": {
      "model_module": "@jupyter-widgets/controls",
      "model_module_version": "1.5.0",
      "model_name": "DescriptionStyleModel",
      "state": {
       "description_width": ""
      }
     },
     "49481efececd4ae7b342ed749f188f0a": {
      "model_module": "@jupyter-widgets/base",
      "model_module_version": "1.2.0",
      "model_name": "LayoutModel",
      "state": {
       "flex": "2"
      }
     },
     "4958efb2115e4c119343b3746b9bd39c": {
      "model_module": "@jupyter-widgets/controls",
      "model_module_version": "1.5.0",
      "model_name": "HTMLModel",
      "state": {
       "layout": "IPY_MODEL_b238bf0e4f3144f7a5e5fed120ad508f",
       "style": "IPY_MODEL_0025049ffa7846e98f7c423d5de60e74",
       "value": " ETA: 00:00s - loss: -1.8262 - val_loss: -1.7950"
      }
     },
     "49ae39571f3d473782442add4ef9f7e2": {
      "model_module": "@jupyter-widgets/base",
      "model_module_version": "1.2.0",
      "model_name": "LayoutModel",
      "state": {
       "flex": "2"
      }
     },
     "49b29b22d6da45ee96774557e9bf9f1b": {
      "model_module": "@jupyter-widgets/base",
      "model_module_version": "1.2.0",
      "model_name": "LayoutModel",
      "state": {}
     },
     "49c51869b683473d97aadf25b0271056": {
      "model_module": "@jupyter-widgets/base",
      "model_module_version": "1.2.0",
      "model_name": "LayoutModel",
      "state": {}
     },
     "49c937e1a7254f1e8472bf01573f353a": {
      "model_module": "@jupyter-widgets/controls",
      "model_module_version": "1.5.0",
      "model_name": "HBoxModel",
      "state": {
       "children": [
        "IPY_MODEL_2c63cdb36d944029954da1efe8b554ef",
        "IPY_MODEL_b5021e009b5e45d89411ec8c6e0d691c"
       ],
       "layout": "IPY_MODEL_d26cc14752ef48c2b0093ec205767f3f"
      }
     },
     "49dab6b2383945a2b9214dc28a7e460f": {
      "model_module": "@jupyter-widgets/base",
      "model_module_version": "1.2.0",
      "model_name": "LayoutModel",
      "state": {
       "flex": "2"
      }
     },
     "49e1bce2062b4a869be3fa8d923fb3c1": {
      "model_module": "@jupyter-widgets/controls",
      "model_module_version": "1.5.0",
      "model_name": "HTMLModel",
      "state": {
       "layout": "IPY_MODEL_a4a17655d982459f890890d296a58e3a",
       "style": "IPY_MODEL_f6d3cf30284b47cfaab970e4a3864a15",
       "value": " ETA: 00:00s - loss: -1.8464 - val_loss: -1.7966"
      }
     },
     "49e2a610f104451fb37d84322d853cf9": {
      "model_module": "@jupyter-widgets/controls",
      "model_module_version": "1.5.0",
      "model_name": "ProgressStyleModel",
      "state": {
       "description_width": "initial"
      }
     },
     "49ed18a5d64448679b2afca0820a4157": {
      "model_module": "@jupyter-widgets/base",
      "model_module_version": "1.2.0",
      "model_name": "LayoutModel",
      "state": {
       "display": "inline-flex",
       "flex_flow": "row wrap",
       "width": "100%"
      }
     },
     "49f07523b50541b1a8cd833ec2b314d1": {
      "model_module": "@jupyter-widgets/base",
      "model_module_version": "1.2.0",
      "model_name": "LayoutModel",
      "state": {
       "display": "inline-flex",
       "flex_flow": "row wrap",
       "width": "100%"
      }
     },
     "49f1c7c42f0943088ded1a9b12297d56": {
      "model_module": "@jupyter-widgets/controls",
      "model_module_version": "1.5.0",
      "model_name": "ProgressStyleModel",
      "state": {
       "description_width": "initial"
      }
     },
     "4a14ab24f9d6496ba982f5fc3f385a33": {
      "model_module": "@jupyter-widgets/controls",
      "model_module_version": "1.5.0",
      "model_name": "FloatProgressModel",
      "state": {
       "bar_style": "success",
       "description": "5625/5625",
       "layout": "IPY_MODEL_f8d54f3766db46b68402a3ab6d6f5433",
       "max": 5625,
       "style": "IPY_MODEL_681424168bd047159cd5d59b8394f926",
       "value": 5625
      }
     },
     "4a1c219f8d304600836a11eccc80a7f6": {
      "model_module": "@jupyter-widgets/controls",
      "model_module_version": "1.5.0",
      "model_name": "ProgressStyleModel",
      "state": {
       "description_width": "initial"
      }
     },
     "4a3814ed2f674421aecb5f29285de87b": {
      "model_module": "@jupyter-widgets/base",
      "model_module_version": "1.2.0",
      "model_name": "LayoutModel",
      "state": {
       "display": "inline-flex",
       "flex_flow": "row wrap",
       "width": "100%"
      }
     },
     "4a70d4961e7548f697b0f25f270305a5": {
      "model_module": "@jupyter-widgets/base",
      "model_module_version": "1.2.0",
      "model_name": "LayoutModel",
      "state": {
       "display": "inline-flex",
       "flex_flow": "row wrap",
       "width": "100%"
      }
     },
     "4a7a34da6b63411fafb582dc4a1f8275": {
      "model_module": "@jupyter-widgets/base",
      "model_module_version": "1.2.0",
      "model_name": "LayoutModel",
      "state": {
       "display": "inline-flex",
       "flex_flow": "row wrap",
       "width": "100%"
      }
     },
     "4acf070c5f7a4ab283f6c7fde9c5e802": {
      "model_module": "@jupyter-widgets/controls",
      "model_module_version": "1.5.0",
      "model_name": "ProgressStyleModel",
      "state": {
       "description_width": "initial"
      }
     },
     "4acfc15f84954f96a6897cb5d6b98ace": {
      "model_module": "@jupyter-widgets/controls",
      "model_module_version": "1.5.0",
      "model_name": "ProgressStyleModel",
      "state": {
       "description_width": "initial"
      }
     },
     "4ada4f89edcc48898004e68604fc381a": {
      "model_module": "@jupyter-widgets/controls",
      "model_module_version": "1.5.0",
      "model_name": "HTMLModel",
      "state": {
       "layout": "IPY_MODEL_6520d346cc8744cfb4175976b2f95ca3",
       "style": "IPY_MODEL_54c437f51c514fd5903d952cc1806757",
       "value": " ETA: 00:00s - loss: -1.8389 - val_loss: -1.7945"
      }
     },
     "4adf4e10540140b89cc8b30b3cd7434e": {
      "model_module": "@jupyter-widgets/controls",
      "model_module_version": "1.5.0",
      "model_name": "HTMLModel",
      "state": {
       "layout": "IPY_MODEL_0164d0c5ab4049c0a9f2f10574d36564",
       "style": "IPY_MODEL_4d7494ef847a4b9c96c836af06c24140",
       "value": " ETA: 00:00s - loss: -1.7689 - val_loss: -1.7709"
      }
     },
     "4af833547ae94223a482d7430530c1c3": {
      "model_module": "@jupyter-widgets/controls",
      "model_module_version": "1.5.0",
      "model_name": "FloatProgressModel",
      "state": {
       "bar_style": "success",
       "description": "5625/5625",
       "layout": "IPY_MODEL_10f1066445c34be286f0e2ee4014cc60",
       "max": 5625,
       "style": "IPY_MODEL_c2f5487cde7e4475943694277a3bb7f5",
       "value": 5625
      }
     },
     "4aff06b2df8e40018f34df5d1711e6c6": {
      "model_module": "@jupyter-widgets/base",
      "model_module_version": "1.2.0",
      "model_name": "LayoutModel",
      "state": {}
     },
     "4b037ec03d5b4d338195a957c2da425f": {
      "model_module": "@jupyter-widgets/controls",
      "model_module_version": "1.5.0",
      "model_name": "FloatProgressModel",
      "state": {
       "bar_style": "success",
       "description": "5625/5625",
       "layout": "IPY_MODEL_df12afb0db5b4b20be4f81220fb87b57",
       "max": 5625,
       "style": "IPY_MODEL_96bf507c3b2d45eb8a66e8ca48b2dabd",
       "value": 5625
      }
     },
     "4b2f2370a2714ca9ae42902ddc414244": {
      "model_module": "@jupyter-widgets/controls",
      "model_module_version": "1.5.0",
      "model_name": "HBoxModel",
      "state": {
       "children": [
        "IPY_MODEL_380917ac53854f8f8439810f5129ccbf",
        "IPY_MODEL_e7f245186221413799830ef8603e7cf5"
       ],
       "layout": "IPY_MODEL_246db9e483ec47c2be5fc4a85114afb6"
      }
     },
     "4b2f8e3775de49d98025bc0e90c49126": {
      "model_module": "@jupyter-widgets/controls",
      "model_module_version": "1.5.0",
      "model_name": "ProgressStyleModel",
      "state": {
       "description_width": "initial"
      }
     },
     "4b55b53bbf374b059f66be3be2f173aa": {
      "model_module": "@jupyter-widgets/base",
      "model_module_version": "1.2.0",
      "model_name": "LayoutModel",
      "state": {
       "flex": "2"
      }
     },
     "4b8ab79128cf42e5937280a2a5af48e2": {
      "model_module": "@jupyter-widgets/controls",
      "model_module_version": "1.5.0",
      "model_name": "FloatProgressModel",
      "state": {
       "bar_style": "success",
       "description": "5625/5625",
       "layout": "IPY_MODEL_bd5a2fb6211e43649192d92084304356",
       "max": 5625,
       "style": "IPY_MODEL_5bee49f039ee4446a5b77babc99b21d6",
       "value": 5625
      }
     },
     "4c1542512ee64312ad900f94ec19f671": {
      "model_module": "@jupyter-widgets/base",
      "model_module_version": "1.2.0",
      "model_name": "LayoutModel",
      "state": {
       "display": "inline-flex",
       "flex_flow": "row wrap",
       "width": "100%"
      }
     },
     "4c2060dafc6044d4bd8ed9a17ef95db9": {
      "model_module": "@jupyter-widgets/controls",
      "model_module_version": "1.5.0",
      "model_name": "HTMLModel",
      "state": {
       "layout": "IPY_MODEL_c2ce4252a2ed49108435983a77672a7b",
       "style": "IPY_MODEL_6dd3e3cc1e834262bf0a4fcbfcb32192",
       "value": " ETA: 00:00s - loss: -1.8331 - val_loss: -1.7992"
      }
     },
     "4c41bdd18024433aaf686538bf5ef574": {
      "model_module": "@jupyter-widgets/controls",
      "model_module_version": "1.5.0",
      "model_name": "HBoxModel",
      "state": {
       "children": [
        "IPY_MODEL_bbe4b8810b9840c094de1338be5a077a",
        "IPY_MODEL_b274149094404e1c83b064bd54f50277"
       ],
       "layout": "IPY_MODEL_ede7b9a1b5344eb792d0fdeb57c44974"
      }
     },
     "4c506de611bf494ebf6e692cb1e98629": {
      "model_module": "@jupyter-widgets/controls",
      "model_module_version": "1.5.0",
      "model_name": "FloatProgressModel",
      "state": {
       "bar_style": "success",
       "description": "5625/5625",
       "layout": "IPY_MODEL_ac9c05e662f2452498fa5ca0bfee65bf",
       "max": 5625,
       "style": "IPY_MODEL_064c78494595405599e792695d1d1463",
       "value": 5625
      }
     },
     "4c5d425221034874abbc340ae7d6ded4": {
      "model_module": "@jupyter-widgets/controls",
      "model_module_version": "1.5.0",
      "model_name": "HBoxModel",
      "state": {
       "children": [
        "IPY_MODEL_32d93196c24a40709673307a963931f3",
        "IPY_MODEL_1aeec4a569054d56a314e9e96c78bd8a"
       ],
       "layout": "IPY_MODEL_507d5ed33d2747c8b813cde43d7a9eb6"
      }
     },
     "4c6b889a46044b7c9fb20e2331d70d94": {
      "model_module": "@jupyter-widgets/controls",
      "model_module_version": "1.5.0",
      "model_name": "ProgressStyleModel",
      "state": {
       "description_width": "initial"
      }
     },
     "4c832cf97a904cc6b48859be1b2bf369": {
      "model_module": "@jupyter-widgets/base",
      "model_module_version": "1.2.0",
      "model_name": "LayoutModel",
      "state": {
       "flex": "2"
      }
     },
     "4c8da7cb796d4a5399b8953af69ce829": {
      "model_module": "@jupyter-widgets/controls",
      "model_module_version": "1.5.0",
      "model_name": "HTMLModel",
      "state": {
       "layout": "IPY_MODEL_d6a12de7bfc54b459e15ed73f64250a0",
       "style": "IPY_MODEL_3de57d6a97294e29b2dc09d53dca2a73",
       "value": " ETA: 00:00s - loss: 0.0819 - val_loss: 0.0818"
      }
     },
     "4ca1139f9f964ecdbed250b7c73a0bc2": {
      "model_module": "@jupyter-widgets/controls",
      "model_module_version": "1.5.0",
      "model_name": "ProgressStyleModel",
      "state": {
       "description_width": "initial"
      }
     },
     "4cb5adcc2f3c4efdb5d72c00ce480009": {
      "model_module": "@jupyter-widgets/base",
      "model_module_version": "1.2.0",
      "model_name": "LayoutModel",
      "state": {}
     },
     "4ce0c811998342fa9c298181cd548b19": {
      "model_module": "@jupyter-widgets/base",
      "model_module_version": "1.2.0",
      "model_name": "LayoutModel",
      "state": {}
     },
     "4ce996f1e3c74dc787ecf062a392b1dc": {
      "model_module": "@jupyter-widgets/controls",
      "model_module_version": "1.5.0",
      "model_name": "HTMLModel",
      "state": {
       "layout": "IPY_MODEL_0dbfacfd9ba2418685a3212ef98df146",
       "style": "IPY_MODEL_0f351bb3721143d6ad473899025aa085",
       "value": " ETA: 00:00s - loss: 0.0679 - val_loss: 0.0712"
      }
     },
     "4d13fed790824707b3d4cbcece4858b7": {
      "model_module": "@jupyter-widgets/controls",
      "model_module_version": "1.5.0",
      "model_name": "ProgressStyleModel",
      "state": {
       "description_width": "initial"
      }
     },
     "4d192396856b47da8ed092ba9a5dfb3f": {
      "model_module": "@jupyter-widgets/base",
      "model_module_version": "1.2.0",
      "model_name": "LayoutModel",
      "state": {
       "display": "inline-flex",
       "flex_flow": "row wrap",
       "width": "100%"
      }
     },
     "4d7494ef847a4b9c96c836af06c24140": {
      "model_module": "@jupyter-widgets/controls",
      "model_module_version": "1.5.0",
      "model_name": "DescriptionStyleModel",
      "state": {
       "description_width": ""
      }
     },
     "4d9abfd89e174796a677f78a8a157d05": {
      "model_module": "@jupyter-widgets/base",
      "model_module_version": "1.2.0",
      "model_name": "LayoutModel",
      "state": {
       "display": "inline-flex",
       "flex_flow": "row wrap",
       "width": "100%"
      }
     },
     "4db57279c3c7445b9824c66e5615b8a3": {
      "model_module": "@jupyter-widgets/base",
      "model_module_version": "1.2.0",
      "model_name": "LayoutModel",
      "state": {
       "display": "inline-flex",
       "flex_flow": "row wrap",
       "width": "100%"
      }
     },
     "4dbce011c58243c787c958f2419bd059": {
      "model_module": "@jupyter-widgets/base",
      "model_module_version": "1.2.0",
      "model_name": "LayoutModel",
      "state": {
       "flex": "2"
      }
     },
     "4dd617fe7fa6401693b55c729f629879": {
      "model_module": "@jupyter-widgets/base",
      "model_module_version": "1.2.0",
      "model_name": "LayoutModel",
      "state": {
       "display": "inline-flex",
       "flex_flow": "row wrap",
       "width": "100%"
      }
     },
     "4df0e860a87642dca6ef6194e07c06f0": {
      "model_module": "@jupyter-widgets/controls",
      "model_module_version": "1.5.0",
      "model_name": "FloatProgressModel",
      "state": {
       "bar_style": "success",
       "description": "5625/5625",
       "layout": "IPY_MODEL_e8643f4dcf9443eaaec0052df6645f10",
       "max": 5625,
       "style": "IPY_MODEL_b3ac6f22b9114643b2eca6569b85406e",
       "value": 5625
      }
     },
     "4df9c14a5a49446e870a8b186e7e58eb": {
      "model_module": "@jupyter-widgets/controls",
      "model_module_version": "1.5.0",
      "model_name": "HBoxModel",
      "state": {
       "children": [
        "IPY_MODEL_9f5c998ec1b34c41a611a37948ee3b55",
        "IPY_MODEL_8319937358964dd8b475ccd1f53bde17"
       ],
       "layout": "IPY_MODEL_bbde4febaf004ac1a6fea89340ac7ee1"
      }
     },
     "4e00c1c98f2b486aa82b17e14d3b13e9": {
      "model_module": "@jupyter-widgets/controls",
      "model_module_version": "1.5.0",
      "model_name": "FloatProgressModel",
      "state": {
       "bar_style": "success",
       "description": "5625/5625",
       "layout": "IPY_MODEL_0cc638952e3640b0a1e1e016bb0068ab",
       "max": 5625,
       "style": "IPY_MODEL_3aa757e08874406b99fff614eb9d45b0",
       "value": 5625
      }
     },
     "4e034c3d4e394f72a0ab2bd64530b189": {
      "model_module": "@jupyter-widgets/controls",
      "model_module_version": "1.5.0",
      "model_name": "HBoxModel",
      "state": {
       "children": [
        "IPY_MODEL_987e8667e4ae4292b9fa7707c6f5d65d",
        "IPY_MODEL_c3415393536a4ca98c4f4c8a4ceea3ae"
       ],
       "layout": "IPY_MODEL_73fa6a880bf2412bb23b48ca978a9af5"
      }
     },
     "4e30beaf22ff4bc7b1ebc7273bb7ee32": {
      "model_module": "@jupyter-widgets/controls",
      "model_module_version": "1.5.0",
      "model_name": "ProgressStyleModel",
      "state": {
       "description_width": "initial"
      }
     },
     "4e4699d1d1d14305ad3cdb059541d0cd": {
      "model_module": "@jupyter-widgets/controls",
      "model_module_version": "1.5.0",
      "model_name": "FloatProgressModel",
      "state": {
       "bar_style": "success",
       "description": "5625/5625",
       "layout": "IPY_MODEL_c39cc1b4ac75466aa9524bb17912dfd9",
       "max": 5625,
       "style": "IPY_MODEL_4efda4ca3ecd466bbd83064f7445df8d",
       "value": 5625
      }
     },
     "4e62bad4edb64c54b511222bcc56acbb": {
      "model_module": "@jupyter-widgets/base",
      "model_module_version": "1.2.0",
      "model_name": "LayoutModel",
      "state": {
       "display": "inline-flex",
       "flex_flow": "row wrap",
       "width": "100%"
      }
     },
     "4e6737b8dc07481da9985c4db7cd0692": {
      "model_module": "@jupyter-widgets/controls",
      "model_module_version": "1.5.0",
      "model_name": "DescriptionStyleModel",
      "state": {
       "description_width": ""
      }
     },
     "4ecca57504cc498e87665b36d69996ba": {
      "model_module": "@jupyter-widgets/base",
      "model_module_version": "1.2.0",
      "model_name": "LayoutModel",
      "state": {
       "display": "inline-flex",
       "flex_flow": "row wrap",
       "width": "100%"
      }
     },
     "4ecf186fc47a4447b4e9c7e126952716": {
      "model_module": "@jupyter-widgets/base",
      "model_module_version": "1.2.0",
      "model_name": "LayoutModel",
      "state": {
       "flex": "2"
      }
     },
     "4ed33b95e4204c849d43655084d040a6": {
      "model_module": "@jupyter-widgets/controls",
      "model_module_version": "1.5.0",
      "model_name": "FloatProgressModel",
      "state": {
       "bar_style": "success",
       "description": "5625/5625",
       "layout": "IPY_MODEL_be22e50c7450462b88bde8002e26badc",
       "max": 5625,
       "style": "IPY_MODEL_abc37c829b7844fb930d9be30e15e0d7",
       "value": 5625
      }
     },
     "4edab7d41cf644479d15251185befe60": {
      "model_module": "@jupyter-widgets/controls",
      "model_module_version": "1.5.0",
      "model_name": "FloatProgressModel",
      "state": {
       "bar_style": "success",
       "description": "5625/5625",
       "layout": "IPY_MODEL_a45550b8f20749699d665169cb5ef7c4",
       "max": 5625,
       "style": "IPY_MODEL_13a20143097743c0b96320d3d422a774",
       "value": 5625
      }
     },
     "4ede3dc8cf454a2684f44e380d7b4b58": {
      "model_module": "@jupyter-widgets/base",
      "model_module_version": "1.2.0",
      "model_name": "LayoutModel",
      "state": {}
     },
     "4ee979563571422286233cb02fcf384d": {
      "model_module": "@jupyter-widgets/controls",
      "model_module_version": "1.5.0",
      "model_name": "DescriptionStyleModel",
      "state": {
       "description_width": ""
      }
     },
     "4efda4ca3ecd466bbd83064f7445df8d": {
      "model_module": "@jupyter-widgets/controls",
      "model_module_version": "1.5.0",
      "model_name": "ProgressStyleModel",
      "state": {
       "description_width": "initial"
      }
     },
     "4f1630bdea4440f0962777cac7bc516a": {
      "model_module": "@jupyter-widgets/controls",
      "model_module_version": "1.5.0",
      "model_name": "DescriptionStyleModel",
      "state": {
       "description_width": ""
      }
     },
     "4f1c71ecf98d405d82eaec37a5c8c251": {
      "model_module": "@jupyter-widgets/base",
      "model_module_version": "1.2.0",
      "model_name": "LayoutModel",
      "state": {
       "display": "inline-flex",
       "flex_flow": "row wrap",
       "width": "100%"
      }
     },
     "4f2ba38e097c423d9415644a71ea7388": {
      "model_module": "@jupyter-widgets/controls",
      "model_module_version": "1.5.0",
      "model_name": "ProgressStyleModel",
      "state": {
       "description_width": "initial"
      }
     },
     "4f5c3b4cb44947d6bdd72877b39d8eac": {
      "model_module": "@jupyter-widgets/controls",
      "model_module_version": "1.5.0",
      "model_name": "FloatProgressModel",
      "state": {
       "bar_style": "success",
       "description": "5625/5625",
       "layout": "IPY_MODEL_9f4b847e35a14942a723717cc19ab5f2",
       "max": 5625,
       "style": "IPY_MODEL_f44535c556344c8e80b874873d42da8f",
       "value": 5625
      }
     },
     "4f66d43259334a3394fb4ec11ad063a4": {
      "model_module": "@jupyter-widgets/base",
      "model_module_version": "1.2.0",
      "model_name": "LayoutModel",
      "state": {
       "display": "inline-flex",
       "flex_flow": "row wrap",
       "width": "100%"
      }
     },
     "4fe2c34f85cd4c65a1d01e7db35a65eb": {
      "model_module": "@jupyter-widgets/controls",
      "model_module_version": "1.5.0",
      "model_name": "FloatProgressModel",
      "state": {
       "bar_style": "success",
       "description": "5625/5625",
       "layout": "IPY_MODEL_60361427eaef4173a811f6ae5a546ac1",
       "max": 5625,
       "style": "IPY_MODEL_c86f24d38d2e4fd8a17f5919d93c1d46",
       "value": 5625
      }
     },
     "50209bdc078945e5b9520bc07126a5dc": {
      "model_module": "@jupyter-widgets/controls",
      "model_module_version": "1.5.0",
      "model_name": "FloatProgressModel",
      "state": {
       "bar_style": "success",
       "description": "5625/5625",
       "layout": "IPY_MODEL_6fe8989eb4344733ad92f55e9068e03d",
       "max": 5625,
       "style": "IPY_MODEL_6567f29ad1314f3abcf7dec438e14c3b",
       "value": 5625
      }
     },
     "502a631ca201443bae4b9204bca2d327": {
      "model_module": "@jupyter-widgets/controls",
      "model_module_version": "1.5.0",
      "model_name": "ProgressStyleModel",
      "state": {
       "description_width": "initial"
      }
     },
     "502c86a1f5c944c5acfc49e006081964": {
      "model_module": "@jupyter-widgets/controls",
      "model_module_version": "1.5.0",
      "model_name": "FloatProgressModel",
      "state": {
       "bar_style": "success",
       "description": "5625/5625",
       "layout": "IPY_MODEL_f672f77c36a549fa9eef5d757db477ad",
       "max": 5625,
       "style": "IPY_MODEL_9e4230ed7ee84f3aaac12d71e53fdb68",
       "value": 5625
      }
     },
     "507d5ed33d2747c8b813cde43d7a9eb6": {
      "model_module": "@jupyter-widgets/base",
      "model_module_version": "1.2.0",
      "model_name": "LayoutModel",
      "state": {
       "display": "inline-flex",
       "flex_flow": "row wrap",
       "width": "100%"
      }
     },
     "50be75165def4a0295ef2f72385417d8": {
      "model_module": "@jupyter-widgets/base",
      "model_module_version": "1.2.0",
      "model_name": "LayoutModel",
      "state": {
       "flex": "2"
      }
     },
     "50c0a0ec7f154b0db1403f52cdb8be8b": {
      "model_module": "@jupyter-widgets/base",
      "model_module_version": "1.2.0",
      "model_name": "LayoutModel",
      "state": {}
     },
     "50d41328084f43c98660697bbc160087": {
      "model_module": "@jupyter-widgets/controls",
      "model_module_version": "1.5.0",
      "model_name": "ProgressStyleModel",
      "state": {
       "description_width": "initial"
      }
     },
     "50e2b17aa6624ad39bc621a4964a29b5": {
      "model_module": "@jupyter-widgets/controls",
      "model_module_version": "1.5.0",
      "model_name": "HBoxModel",
      "state": {
       "children": [
        "IPY_MODEL_58e035ec97c84a5d830a6b66a9d2f271",
        "IPY_MODEL_f52239cc23de4d90beb0663de4d5fbc1"
       ],
       "layout": "IPY_MODEL_951dcf79845e4bf4af201220a460c1ba"
      }
     },
     "50f1fa74961c4ba2886b3c4e00974699": {
      "model_module": "@jupyter-widgets/controls",
      "model_module_version": "1.5.0",
      "model_name": "HTMLModel",
      "state": {
       "layout": "IPY_MODEL_328407b22ea8468da76ffdb524f0e6ac",
       "style": "IPY_MODEL_a977cc2de96d4335946f8e81c76d3c8f",
       "value": " ETA: 00:00s - loss: -1.8226 - val_loss: -1.8023"
      }
     },
     "5109bdf4a085432b80bc0ba5114417be": {
      "model_module": "@jupyter-widgets/base",
      "model_module_version": "1.2.0",
      "model_name": "LayoutModel",
      "state": {}
     },
     "510e659ebf19439591acc860b9fd2a82": {
      "model_module": "@jupyter-widgets/base",
      "model_module_version": "1.2.0",
      "model_name": "LayoutModel",
      "state": {
       "flex": "2"
      }
     },
     "512ad031fa044016ba1b887fbaac1d83": {
      "model_module": "@jupyter-widgets/controls",
      "model_module_version": "1.5.0",
      "model_name": "DescriptionStyleModel",
      "state": {
       "description_width": ""
      }
     },
     "512ff302770d44f59174c81a64bf4388": {
      "model_module": "@jupyter-widgets/controls",
      "model_module_version": "1.5.0",
      "model_name": "HTMLModel",
      "state": {
       "layout": "IPY_MODEL_1cbae53df83a4ca6b2ec3e5a2981e1a6",
       "style": "IPY_MODEL_69959a493b32487691f83d3a1e54dc67",
       "value": " 83/1000 ETA: 23:39:35s,  92.89s/epochs"
      }
     },
     "5140482aed884cf198ce926a8465afa5": {
      "model_module": "@jupyter-widgets/base",
      "model_module_version": "1.2.0",
      "model_name": "LayoutModel",
      "state": {
       "flex": "2"
      }
     },
     "514f44e1b245470faf9d07cf1b23e2cf": {
      "model_module": "@jupyter-widgets/controls",
      "model_module_version": "1.5.0",
      "model_name": "FloatProgressModel",
      "state": {
       "bar_style": "success",
       "description": "5625/5625",
       "layout": "IPY_MODEL_cbcfdcdf52494019aad9c252b041e884",
       "max": 5625,
       "style": "IPY_MODEL_cf03c98f71f1499f940cdf9eb601bae5",
       "value": 5625
      }
     },
     "517415b7faa24282bacd048565ce4ace": {
      "model_module": "@jupyter-widgets/base",
      "model_module_version": "1.2.0",
      "model_name": "LayoutModel",
      "state": {
       "display": "inline-flex",
       "flex_flow": "row wrap",
       "width": "100%"
      }
     },
     "5189285bc81b41d5a58a54d8964b427e": {
      "model_module": "@jupyter-widgets/base",
      "model_module_version": "1.2.0",
      "model_name": "LayoutModel",
      "state": {
       "display": "inline-flex",
       "flex_flow": "row wrap",
       "width": "100%"
      }
     },
     "519767beb8704ac59b27226fbe598192": {
      "model_module": "@jupyter-widgets/controls",
      "model_module_version": "1.5.0",
      "model_name": "FloatProgressModel",
      "state": {
       "bar_style": "success",
       "description": "5625/5625",
       "layout": "IPY_MODEL_b66dfd668c4244daaabda0c413ae102f",
       "max": 5625,
       "style": "IPY_MODEL_5ede1ecd30e648f2af6a80eafcaca11a",
       "value": 5625
      }
     },
     "51b03a18fa5b4a78b48609a96e59e8a7": {
      "model_module": "@jupyter-widgets/base",
      "model_module_version": "1.2.0",
      "model_name": "LayoutModel",
      "state": {
       "display": "inline-flex",
       "flex_flow": "row wrap",
       "width": "100%"
      }
     },
     "52008254f1f644e3adbee71e554312cc": {
      "model_module": "@jupyter-widgets/controls",
      "model_module_version": "1.5.0",
      "model_name": "ProgressStyleModel",
      "state": {
       "description_width": "initial"
      }
     },
     "522c1a5ff5ca4002b914f74b077a563b": {
      "model_module": "@jupyter-widgets/controls",
      "model_module_version": "1.5.0",
      "model_name": "HBoxModel",
      "state": {
       "children": [
        "IPY_MODEL_0e1cdee71d2746ecbb33c0ee5d6a71c7",
        "IPY_MODEL_c67ac7d9bb044844bfa67e845560b62b"
       ],
       "layout": "IPY_MODEL_0a611f94d6164df8af71f14f59b00167"
      }
     },
     "52308c34d2b7475c9e1dbe983631b904": {
      "model_module": "@jupyter-widgets/controls",
      "model_module_version": "1.5.0",
      "model_name": "HBoxModel",
      "state": {
       "children": [
        "IPY_MODEL_682b3e591cc343929cea9c9d8fe2379b",
        "IPY_MODEL_5c71376075d742e0a6c8b19de7bcea96"
       ],
       "layout": "IPY_MODEL_89e26cd9c1214aeeb82aad0b9e571dcd"
      }
     },
     "52407ce1e45942eaba1f1e319d4622f9": {
      "model_module": "@jupyter-widgets/controls",
      "model_module_version": "1.5.0",
      "model_name": "HBoxModel",
      "state": {
       "children": [
        "IPY_MODEL_1f5bca185cf840749c33535930d224fc",
        "IPY_MODEL_d0462e045f9c4f7899b67e5b439918cb"
       ],
       "layout": "IPY_MODEL_f9c024ecb2734e60922e4f570d55fdb6"
      }
     },
     "52459da8a3da42b38db2d946263762ff": {
      "model_module": "@jupyter-widgets/base",
      "model_module_version": "1.2.0",
      "model_name": "LayoutModel",
      "state": {
       "display": "inline-flex",
       "flex_flow": "row wrap",
       "width": "100%"
      }
     },
     "524b8534a63c4be2b00b90c624e76d1d": {
      "model_module": "@jupyter-widgets/controls",
      "model_module_version": "1.5.0",
      "model_name": "ProgressStyleModel",
      "state": {
       "description_width": "initial"
      }
     },
     "5281b6979b934e62bc254c9b497e340e": {
      "model_module": "@jupyter-widgets/controls",
      "model_module_version": "1.5.0",
      "model_name": "ProgressStyleModel",
      "state": {
       "description_width": "initial"
      }
     },
     "52eae3c0bd9446b180cac8bb9cea7a1e": {
      "model_module": "@jupyter-widgets/controls",
      "model_module_version": "1.5.0",
      "model_name": "HTMLModel",
      "state": {
       "layout": "IPY_MODEL_bd138593ff6a4d65a8cd153002734137",
       "style": "IPY_MODEL_f9c705c9672e48e0a9a8b9a23cd52411",
       "value": " ETA: 00:00s - loss: 0.0273 - val_loss: 0.0290"
      }
     },
     "52efb70eed964095839a23ed1a4876b6": {
      "model_module": "@jupyter-widgets/base",
      "model_module_version": "1.2.0",
      "model_name": "LayoutModel",
      "state": {}
     },
     "5363826af8ee4df09bbeb6e8c42ab6ea": {
      "model_module": "@jupyter-widgets/controls",
      "model_module_version": "1.5.0",
      "model_name": "FloatProgressModel",
      "state": {
       "bar_style": "success",
       "description": "5625/5625",
       "layout": "IPY_MODEL_41750c24d7814d799e48544ab38d18f7",
       "max": 5625,
       "style": "IPY_MODEL_e46d0c3a548d474a9139803eac09e8ad",
       "value": 5625
      }
     },
     "536992ce64464ba79b0697cdb24a4c16": {
      "model_module": "@jupyter-widgets/controls",
      "model_module_version": "1.5.0",
      "model_name": "FloatProgressModel",
      "state": {
       "bar_style": "success",
       "description": "5625/5625",
       "layout": "IPY_MODEL_c67b88b318e94737b96e94eb0d293af0",
       "max": 5625,
       "style": "IPY_MODEL_715995db4e0c42cba0960a65d8405a30",
       "value": 5625
      }
     },
     "539ea04105764bc382211e1afdfbb506": {
      "model_module": "@jupyter-widgets/controls",
      "model_module_version": "1.5.0",
      "model_name": "HTMLModel",
      "state": {
       "layout": "IPY_MODEL_2e348fc6a9bd46de85a619fbbb43c787",
       "style": "IPY_MODEL_0c23a828ca724c7da84836478efbbe08",
       "value": " ETA: 00:00s - loss: -1.6937 - val_loss: -1.7006"
      }
     },
     "53c18808908c4dfeac8bc8c235a7521e": {
      "model_module": "@jupyter-widgets/base",
      "model_module_version": "1.2.0",
      "model_name": "LayoutModel",
      "state": {
       "display": "inline-flex",
       "flex_flow": "row wrap",
       "width": "100%"
      }
     },
     "53dda268589d4721930ebe419ebef0f9": {
      "model_module": "@jupyter-widgets/base",
      "model_module_version": "1.2.0",
      "model_name": "LayoutModel",
      "state": {
       "flex": "2"
      }
     },
     "53e8a7b6602543eaa0e35ca519bb0d8a": {
      "model_module": "@jupyter-widgets/controls",
      "model_module_version": "1.5.0",
      "model_name": "HTMLModel",
      "state": {
       "layout": "IPY_MODEL_b842cdf1b3b1484bb03e77ff43e70cd6",
       "style": "IPY_MODEL_33df59965ac14b9ba40d74c93c03e008",
       "value": " ETA: 00:00s - loss: 0.0988 - val_loss: 0.0962"
      }
     },
     "53f3acf93c5b42df9bfa0e25a0249b67": {
      "model_module": "@jupyter-widgets/base",
      "model_module_version": "1.2.0",
      "model_name": "LayoutModel",
      "state": {}
     },
     "53fa19fb08b743f6b7eeb94425bfe062": {
      "model_module": "@jupyter-widgets/controls",
      "model_module_version": "1.5.0",
      "model_name": "ProgressStyleModel",
      "state": {
       "description_width": "initial"
      }
     },
     "53fcefdc6411455fbb458f9241dc98df": {
      "model_module": "@jupyter-widgets/controls",
      "model_module_version": "1.5.0",
      "model_name": "ProgressStyleModel",
      "state": {
       "description_width": "initial"
      }
     },
     "5430a519412e4c958fe54169dace3d6e": {
      "model_module": "@jupyter-widgets/controls",
      "model_module_version": "1.5.0",
      "model_name": "HBoxModel",
      "state": {
       "children": [
        "IPY_MODEL_99a8b45632434d808005bfce7bfae851",
        "IPY_MODEL_17fccb68926b49118ef7df33b5fc8254"
       ],
       "layout": "IPY_MODEL_f7966c663bdd46bb9c551ebc2f517b79"
      }
     },
     "5460256668f84a93bd079aa9cbf17d22": {
      "model_module": "@jupyter-widgets/controls",
      "model_module_version": "1.5.0",
      "model_name": "ProgressStyleModel",
      "state": {
       "description_width": "initial"
      }
     },
     "5469260c8d924a4481152d87c36bda49": {
      "model_module": "@jupyter-widgets/base",
      "model_module_version": "1.2.0",
      "model_name": "LayoutModel",
      "state": {}
     },
     "547b871c6afc4d60801b0cf37e0b2899": {
      "model_module": "@jupyter-widgets/controls",
      "model_module_version": "1.5.0",
      "model_name": "FloatProgressModel",
      "state": {
       "bar_style": "success",
       "description": "5625/5625",
       "layout": "IPY_MODEL_8d2b0157aa4344a7b6aebc25c14fed93",
       "max": 5625,
       "style": "IPY_MODEL_622c112c03ff48c2ab1bab8b3683d383",
       "value": 5625
      }
     },
     "54bc9e763be6460d82916f02e4f0e780": {
      "model_module": "@jupyter-widgets/controls",
      "model_module_version": "1.5.0",
      "model_name": "ProgressStyleModel",
      "state": {
       "description_width": "initial"
      }
     },
     "54c437f51c514fd5903d952cc1806757": {
      "model_module": "@jupyter-widgets/controls",
      "model_module_version": "1.5.0",
      "model_name": "DescriptionStyleModel",
      "state": {
       "description_width": ""
      }
     },
     "54d4e7a3ca11460098142eae09c5aeb2": {
      "model_module": "@jupyter-widgets/controls",
      "model_module_version": "1.5.0",
      "model_name": "HTMLModel",
      "state": {
       "layout": "IPY_MODEL_0e821bf7041e449bb703fad522819c14",
       "style": "IPY_MODEL_846e149eb49345f6b0cae2983e697f7d",
       "value": " ETA: 00:00s - loss: -1.8106 - val_loss: -1.7907"
      }
     },
     "54ece273d45d4097996e93a2a9fa79cb": {
      "model_module": "@jupyter-widgets/controls",
      "model_module_version": "1.5.0",
      "model_name": "HBoxModel",
      "state": {
       "children": [
        "IPY_MODEL_bf9a4647d13d470b8cdbc9bce67f248a",
        "IPY_MODEL_367b04223ecc40a3bf3d8dccb30f361c"
       ],
       "layout": "IPY_MODEL_ccfd818468db4ecfa0e92b5450cfffdc"
      }
     },
     "550c0da0fe0e4cfc905d87b454bf1156": {
      "model_module": "@jupyter-widgets/controls",
      "model_module_version": "1.5.0",
      "model_name": "DescriptionStyleModel",
      "state": {
       "description_width": ""
      }
     },
     "55107d12b32a4798a9e23d79a17ce97f": {
      "model_module": "@jupyter-widgets/base",
      "model_module_version": "1.2.0",
      "model_name": "LayoutModel",
      "state": {
       "display": "inline-flex",
       "flex_flow": "row wrap",
       "width": "100%"
      }
     },
     "551161b148794265af784e57fcd8c582": {
      "model_module": "@jupyter-widgets/controls",
      "model_module_version": "1.5.0",
      "model_name": "FloatProgressModel",
      "state": {
       "bar_style": "success",
       "description": "5625/5625",
       "layout": "IPY_MODEL_44f7f3785afa46c7b78bc32ba56e6e54",
       "max": 5625,
       "style": "IPY_MODEL_914604d47ad544f58f54827a86ca5463",
       "value": 5625
      }
     },
     "55302c2644c04c9c8d61d5be8e1c6725": {
      "model_module": "@jupyter-widgets/controls",
      "model_module_version": "1.5.0",
      "model_name": "ProgressStyleModel",
      "state": {
       "description_width": "initial"
      }
     },
     "556dc5f440864be2ac5dfd7f47805e55": {
      "model_module": "@jupyter-widgets/controls",
      "model_module_version": "1.5.0",
      "model_name": "DescriptionStyleModel",
      "state": {
       "description_width": ""
      }
     },
     "559723af04894831abef9939c96ca27b": {
      "model_module": "@jupyter-widgets/controls",
      "model_module_version": "1.5.0",
      "model_name": "HBoxModel",
      "state": {
       "children": [
        "IPY_MODEL_f4223428c5c34230bd9af601d5b9ab48",
        "IPY_MODEL_d7cc7eef1600447cbfc1414122c91608"
       ],
       "layout": "IPY_MODEL_9ccec09b0c964b5dac97546ff5955c32"
      }
     },
     "55afc10c77e64a99b26512950d21dac6": {
      "model_module": "@jupyter-widgets/base",
      "model_module_version": "1.2.0",
      "model_name": "LayoutModel",
      "state": {
       "flex": "2"
      }
     },
     "55b4137f9ef34e81b6e98f0624739c32": {
      "model_module": "@jupyter-widgets/controls",
      "model_module_version": "1.5.0",
      "model_name": "FloatProgressModel",
      "state": {
       "bar_style": "success",
       "description": "5625/5625",
       "layout": "IPY_MODEL_8cdf65b9c8894282abad42ccacf13d27",
       "max": 5625,
       "style": "IPY_MODEL_4ca1139f9f964ecdbed250b7c73a0bc2",
       "value": 5625
      }
     },
     "55e271b4d54b44a2930596b409ebcd24": {
      "model_module": "@jupyter-widgets/controls",
      "model_module_version": "1.5.0",
      "model_name": "HTMLModel",
      "state": {
       "layout": "IPY_MODEL_5469260c8d924a4481152d87c36bda49",
       "style": "IPY_MODEL_97cd74779d3f4de39a19137a5aca443d",
       "value": " ETA: 00:00s - loss: 0.0688 - val_loss: 0.0713"
      }
     },
     "561cfb1b5e1648a39a06845cabbc79d1": {
      "model_module": "@jupyter-widgets/controls",
      "model_module_version": "1.5.0",
      "model_name": "ProgressStyleModel",
      "state": {
       "description_width": "initial"
      }
     },
     "563dc7a219184253b84404e17640a8b9": {
      "model_module": "@jupyter-widgets/base",
      "model_module_version": "1.2.0",
      "model_name": "LayoutModel",
      "state": {}
     },
     "564b9f1d397649b1a5eac0d2814445f1": {
      "model_module": "@jupyter-widgets/base",
      "model_module_version": "1.2.0",
      "model_name": "LayoutModel",
      "state": {
       "display": "inline-flex",
       "flex_flow": "row wrap",
       "width": "100%"
      }
     },
     "5663a2a389f647109c3f1268aac45c1a": {
      "model_module": "@jupyter-widgets/controls",
      "model_module_version": "1.5.0",
      "model_name": "ProgressStyleModel",
      "state": {
       "description_width": "initial"
      }
     },
     "5665d10d234d467cbbab8f5fc7bc1722": {
      "model_module": "@jupyter-widgets/base",
      "model_module_version": "1.2.0",
      "model_name": "LayoutModel",
      "state": {}
     },
     "56722da930614f0f9fb431928c26736a": {
      "model_module": "@jupyter-widgets/controls",
      "model_module_version": "1.5.0",
      "model_name": "ProgressStyleModel",
      "state": {
       "description_width": "initial"
      }
     },
     "567c619cd082451c99acc4b4a8001fd7": {
      "model_module": "@jupyter-widgets/controls",
      "model_module_version": "1.5.0",
      "model_name": "HBoxModel",
      "state": {
       "children": [
        "IPY_MODEL_b30f060087df4bfe86b659d60366718a",
        "IPY_MODEL_bbcee0ce089747138734872ee764ff6f"
       ],
       "layout": "IPY_MODEL_8ecc77006a3c4aa19d76b97f0da21eb5"
      }
     },
     "568e76c22b614ad5918b6d720581b68d": {
      "model_module": "@jupyter-widgets/base",
      "model_module_version": "1.2.0",
      "model_name": "LayoutModel",
      "state": {}
     },
     "56aa5f1698d74c7b9e61f58e2235022c": {
      "model_module": "@jupyter-widgets/controls",
      "model_module_version": "1.5.0",
      "model_name": "ProgressStyleModel",
      "state": {
       "description_width": "initial"
      }
     },
     "56b15f73de4a4f19b529c3ddc95ca6ac": {
      "model_module": "@jupyter-widgets/controls",
      "model_module_version": "1.5.0",
      "model_name": "HTMLModel",
      "state": {
       "layout": "IPY_MODEL_fe5eafb9712d40e58f22427ea2af8fcb",
       "style": "IPY_MODEL_4276bfd4c1b04feba6b512969ac34259",
       "value": " ETA: 00:00s - loss: -1.7207 - val_loss: -1.7322"
      }
     },
     "56b2100b1842461ea89e200822606f99": {
      "model_module": "@jupyter-widgets/base",
      "model_module_version": "1.2.0",
      "model_name": "LayoutModel",
      "state": {
       "flex": "2"
      }
     },
     "56dfa86ad860483cb173725ab4f03790": {
      "model_module": "@jupyter-widgets/controls",
      "model_module_version": "1.5.0",
      "model_name": "ProgressStyleModel",
      "state": {
       "description_width": "initial"
      }
     },
     "56ef5ae653584d1ea089917acfad6611": {
      "model_module": "@jupyter-widgets/base",
      "model_module_version": "1.2.0",
      "model_name": "LayoutModel",
      "state": {}
     },
     "5739ef118fce49e7bffdd13a80a953e9": {
      "model_module": "@jupyter-widgets/base",
      "model_module_version": "1.2.0",
      "model_name": "LayoutModel",
      "state": {}
     },
     "57516d6d28344ff18f1f79ac1278f3ef": {
      "model_module": "@jupyter-widgets/base",
      "model_module_version": "1.2.0",
      "model_name": "LayoutModel",
      "state": {
       "flex": "2"
      }
     },
     "575ca76c06c34487a00ac26d92b59d64": {
      "model_module": "@jupyter-widgets/controls",
      "model_module_version": "1.5.0",
      "model_name": "FloatProgressModel",
      "state": {
       "bar_style": "success",
       "description": "5625/5625",
       "layout": "IPY_MODEL_56b2100b1842461ea89e200822606f99",
       "max": 5625,
       "style": "IPY_MODEL_1e7a9e0b5ff949a89c1d82c8dc147d4d",
       "value": 5625
      }
     },
     "576ae6b9f8544d5185367138412cd250": {
      "model_module": "@jupyter-widgets/base",
      "model_module_version": "1.2.0",
      "model_name": "LayoutModel",
      "state": {
       "display": "inline-flex",
       "flex_flow": "row wrap",
       "width": "100%"
      }
     },
     "578522c8c0d94aa1a0b5270c3d968209": {
      "model_module": "@jupyter-widgets/controls",
      "model_module_version": "1.5.0",
      "model_name": "ProgressStyleModel",
      "state": {
       "description_width": "initial"
      }
     },
     "579846f2355a4af5b0d37f0512109fc0": {
      "model_module": "@jupyter-widgets/controls",
      "model_module_version": "1.5.0",
      "model_name": "FloatProgressModel",
      "state": {
       "bar_style": "success",
       "description": "5625/5625",
       "layout": "IPY_MODEL_7e8627df10a54f0c9de05253a493a91b",
       "max": 5625,
       "style": "IPY_MODEL_1f974c1e4c3046fcb4c36b61cd76d6b2",
       "value": 5625
      }
     },
     "57a76563e0c84188ae1f525fc9473c57": {
      "model_module": "@jupyter-widgets/controls",
      "model_module_version": "1.5.0",
      "model_name": "ProgressStyleModel",
      "state": {
       "description_width": "initial"
      }
     },
     "57be4e5d612f466c94be4ce0d26b6a40": {
      "model_module": "@jupyter-widgets/controls",
      "model_module_version": "1.5.0",
      "model_name": "ProgressStyleModel",
      "state": {
       "description_width": "initial"
      }
     },
     "58197fb9a5494e088f10e6f423c331d0": {
      "model_module": "@jupyter-widgets/controls",
      "model_module_version": "1.5.0",
      "model_name": "HBoxModel",
      "state": {
       "children": [
        "IPY_MODEL_4b037ec03d5b4d338195a957c2da425f",
        "IPY_MODEL_1f2505312ed84eb6850fe65b48365f73"
       ],
       "layout": "IPY_MODEL_7423778dc4944a5b8f558ad838022712"
      }
     },
     "5821c0907ab54a09971cfaf0520a4e5f": {
      "model_module": "@jupyter-widgets/controls",
      "model_module_version": "1.5.0",
      "model_name": "HTMLModel",
      "state": {
       "layout": "IPY_MODEL_757f0bf121be431d84d6925e8c5277f7",
       "style": "IPY_MODEL_fed3add5e2c04b46bc40074ef8ae9ffe",
       "value": " ETA: 00:00s - loss: -1.8431 - val_loss: -1.7872"
      }
     },
     "582d2eaf1c57410daa9a97a2f5d9d224": {
      "model_module": "@jupyter-widgets/controls",
      "model_module_version": "1.5.0",
      "model_name": "HBoxModel",
      "state": {
       "children": [
        "IPY_MODEL_821d7d65945440c89b270c23f2db6ec7",
        "IPY_MODEL_9fcb23f658da45a485f6c3c72c8f5b05"
       ],
       "layout": "IPY_MODEL_8463c31a60314bdb8f4d0ffa81c51f40"
      }
     },
     "584029cf3f9345be94e96be7d3735554": {
      "model_module": "@jupyter-widgets/base",
      "model_module_version": "1.2.0",
      "model_name": "LayoutModel",
      "state": {
       "flex": "2"
      }
     },
     "5852dcbc881449d0bc87a770dcca4dd7": {
      "model_module": "@jupyter-widgets/controls",
      "model_module_version": "1.5.0",
      "model_name": "DescriptionStyleModel",
      "state": {
       "description_width": ""
      }
     },
     "585adcf2e8b247989e7a657ec66242f1": {
      "model_module": "@jupyter-widgets/controls",
      "model_module_version": "1.5.0",
      "model_name": "HBoxModel",
      "state": {
       "children": [
        "IPY_MODEL_92d2a83579a947b0b67deadc40b3538f",
        "IPY_MODEL_a62e9b801c214c63837e040faeb2467e"
       ],
       "layout": "IPY_MODEL_3719f04c41a64146bb5feeba7bd2f849"
      }
     },
     "587d525597744b39aa6bf9b6204eb075": {
      "model_module": "@jupyter-widgets/base",
      "model_module_version": "1.2.0",
      "model_name": "LayoutModel",
      "state": {
       "display": "inline-flex",
       "flex_flow": "row wrap",
       "width": "100%"
      }
     },
     "588b2bca0dc7424caa95db5390162018": {
      "model_module": "@jupyter-widgets/controls",
      "model_module_version": "1.5.0",
      "model_name": "HBoxModel",
      "state": {
       "children": [
        "IPY_MODEL_eb372818d18e4c73bf175ae3e811b8de",
        "IPY_MODEL_539ea04105764bc382211e1afdfbb506"
       ],
       "layout": "IPY_MODEL_5f2fcf483a8d4d3dabead37352ca32cd"
      }
     },
     "58a042bc93204b09804894b1eac5f5b7": {
      "model_module": "@jupyter-widgets/controls",
      "model_module_version": "1.5.0",
      "model_name": "FloatProgressModel",
      "state": {
       "bar_style": "success",
       "description": "5625/5625",
       "layout": "IPY_MODEL_b7ca807f4eb344db92d9a581a2062a17",
       "max": 5625,
       "style": "IPY_MODEL_2ddf462307b2419da03d21ae26594474",
       "value": 5625
      }
     },
     "58a2a11ee4664181904734f96c282618": {
      "model_module": "@jupyter-widgets/controls",
      "model_module_version": "1.5.0",
      "model_name": "DescriptionStyleModel",
      "state": {
       "description_width": ""
      }
     },
     "58ba4a24d88d40ac8a11a7eece22148c": {
      "model_module": "@jupyter-widgets/controls",
      "model_module_version": "1.5.0",
      "model_name": "HBoxModel",
      "state": {
       "children": [
        "IPY_MODEL_04537185abca44ea95bd474b8b3f8624",
        "IPY_MODEL_99207ee2ee484529b9bcd616e36011c3"
       ],
       "layout": "IPY_MODEL_b894ce3bd2154de59ec3e3b34da4b689"
      }
     },
     "58c4959074e14a799b58eb39b6e58c86": {
      "model_module": "@jupyter-widgets/base",
      "model_module_version": "1.2.0",
      "model_name": "LayoutModel",
      "state": {
       "display": "inline-flex",
       "flex_flow": "row wrap",
       "width": "100%"
      }
     },
     "58c76aa1a1994c29ab260017a32a921e": {
      "model_module": "@jupyter-widgets/controls",
      "model_module_version": "1.5.0",
      "model_name": "FloatProgressModel",
      "state": {
       "bar_style": "success",
       "description": "5625/5625",
       "layout": "IPY_MODEL_c815f03031184901b08831f1d681941e",
       "max": 5625,
       "style": "IPY_MODEL_641b6eccefd147b481447cdaefd4985e",
       "value": 5625
      }
     },
     "58e035ec97c84a5d830a6b66a9d2f271": {
      "model_module": "@jupyter-widgets/controls",
      "model_module_version": "1.5.0",
      "model_name": "FloatProgressModel",
      "state": {
       "bar_style": "success",
       "description": "5625/5625",
       "layout": "IPY_MODEL_11108ad6fdb747c7af883663d745567e",
       "max": 5625,
       "style": "IPY_MODEL_4680b76084e042afb267ae16351eff6b",
       "value": 5625
      }
     },
     "590e49f9d29e4ff88a1d89085c3e0430": {
      "model_module": "@jupyter-widgets/controls",
      "model_module_version": "1.5.0",
      "model_name": "FloatProgressModel",
      "state": {
       "bar_style": "success",
       "description": "5625/5625",
       "layout": "IPY_MODEL_400250ae96224df9b64b53e29b89c35a",
       "max": 5625,
       "style": "IPY_MODEL_36282901241c4a9f83a2d0f293251e8c",
       "value": 5625
      }
     },
     "591a0877af5e4a8cb933b63a73fcd173": {
      "model_module": "@jupyter-widgets/controls",
      "model_module_version": "1.5.0",
      "model_name": "ProgressStyleModel",
      "state": {
       "description_width": "initial"
      }
     },
     "594e3fc22e134675bbcc816734f97ef0": {
      "model_module": "@jupyter-widgets/base",
      "model_module_version": "1.2.0",
      "model_name": "LayoutModel",
      "state": {}
     },
     "5955e946f5604fd28b33f98080b62eab": {
      "model_module": "@jupyter-widgets/controls",
      "model_module_version": "1.5.0",
      "model_name": "ProgressStyleModel",
      "state": {
       "description_width": "initial"
      }
     },
     "595956dd026d482cbbcf661cfb0c1187": {
      "model_module": "@jupyter-widgets/controls",
      "model_module_version": "1.5.0",
      "model_name": "HBoxModel",
      "state": {
       "children": [
        "IPY_MODEL_3f977fd42b7a49efbb84b46360d17100",
        "IPY_MODEL_8a8286b3d7d94b1690a65c220996521d"
       ],
       "layout": "IPY_MODEL_fe085850742249128797051e8aa39010"
      }
     },
     "597fd3f03581497ca4e211e71ebf401d": {
      "model_module": "@jupyter-widgets/controls",
      "model_module_version": "1.5.0",
      "model_name": "FloatProgressModel",
      "state": {
       "bar_style": "success",
       "description": "5625/5625",
       "layout": "IPY_MODEL_223126c11e6d4d07a88a74b43ea42224",
       "max": 5625,
       "style": "IPY_MODEL_af5d4aecba5c4b5ea7fde07a9b513b65",
       "value": 5625
      }
     },
     "5988afd6c9a940399c9db37d32d55e91": {
      "model_module": "@jupyter-widgets/controls",
      "model_module_version": "1.5.0",
      "model_name": "HBoxModel",
      "state": {
       "children": [
        "IPY_MODEL_f0d8d2c83de1439ba88be131b31e22c1",
        "IPY_MODEL_94fbd74eaf5843fa964ff0390dbbf93e"
       ],
       "layout": "IPY_MODEL_3d784d5811254fba801e06db6f2395e6"
      }
     },
     "598fd52d7185466fbc0e6f44d53a7024": {
      "model_module": "@jupyter-widgets/controls",
      "model_module_version": "1.5.0",
      "model_name": "HBoxModel",
      "state": {
       "children": [
        "IPY_MODEL_597fd3f03581497ca4e211e71ebf401d",
        "IPY_MODEL_fd33bc262c904a0ebcd351d45fbc8e93"
       ],
       "layout": "IPY_MODEL_67446ce42aba44c0b3157b051be53464"
      }
     },
     "59c86d50772341ee9d5cf2de172fd6f6": {
      "model_module": "@jupyter-widgets/controls",
      "model_module_version": "1.5.0",
      "model_name": "FloatProgressModel",
      "state": {
       "bar_style": "success",
       "description": "5625/5625",
       "layout": "IPY_MODEL_e241afd1354545968ec0d22307d9371d",
       "max": 5625,
       "style": "IPY_MODEL_af6edc80b71a4caca974aa30b1ba9f21",
       "value": 5625
      }
     },
     "59de5cf9bbf54ac49b2d207217f354ce": {
      "model_module": "@jupyter-widgets/base",
      "model_module_version": "1.2.0",
      "model_name": "LayoutModel",
      "state": {}
     },
     "5a1a8735487a4fe6aee4ce7fe0607692": {
      "model_module": "@jupyter-widgets/controls",
      "model_module_version": "1.5.0",
      "model_name": "FloatProgressModel",
      "state": {
       "bar_style": "success",
       "description": "5625/5625",
       "layout": "IPY_MODEL_cba645f93268451ca689f1b12746902c",
       "max": 5625,
       "style": "IPY_MODEL_d26ea3c5c866477386be39d5ec9cf667",
       "value": 5625
      }
     },
     "5a27912b90014807906cea4d09783267": {
      "model_module": "@jupyter-widgets/controls",
      "model_module_version": "1.5.0",
      "model_name": "DescriptionStyleModel",
      "state": {
       "description_width": ""
      }
     },
     "5a6a9085281e42d888d302d24fdd2b02": {
      "model_module": "@jupyter-widgets/controls",
      "model_module_version": "1.5.0",
      "model_name": "HBoxModel",
      "state": {
       "children": [
        "IPY_MODEL_0f5695a8b145414cb7d13d7a60721bff",
        "IPY_MODEL_a94c416a4b28413e8c0ca0c1829a21e5"
       ],
       "layout": "IPY_MODEL_d5aad664b11b4b75a994b01e151e77de"
      }
     },
     "5a82d11c319b468f8482785e70db77a0": {
      "model_module": "@jupyter-widgets/controls",
      "model_module_version": "1.5.0",
      "model_name": "DescriptionStyleModel",
      "state": {
       "description_width": ""
      }
     },
     "5b25bb32b65d455aa72ee554e8894423": {
      "model_module": "@jupyter-widgets/controls",
      "model_module_version": "1.5.0",
      "model_name": "HBoxModel",
      "state": {
       "children": [
        "IPY_MODEL_b1df4c4f563e4f8a9e81f4e99ba8a5bd",
        "IPY_MODEL_7e457cd4890946df8ebd2bc1c9a27d84"
       ],
       "layout": "IPY_MODEL_6c86548e47314f7a969a5822ddc7a852"
      }
     },
     "5b2e3fff9a6541d489bfd7e268bc4acc": {
      "model_module": "@jupyter-widgets/controls",
      "model_module_version": "1.5.0",
      "model_name": "HBoxModel",
      "state": {
       "children": [
        "IPY_MODEL_1fcabe12928d4c6e9f8aa2987f0705d0",
        "IPY_MODEL_6e08b8d46c1c47fe9a52e9e583cb6619"
       ],
       "layout": "IPY_MODEL_157b46079f3f40f984cad14d1c172b7d"
      }
     },
     "5b34ee33b8f042dbb7b27b4199faef88": {
      "model_module": "@jupyter-widgets/base",
      "model_module_version": "1.2.0",
      "model_name": "LayoutModel",
      "state": {}
     },
     "5bcc83baaebf4e9392e35fdcbd185c0c": {
      "model_module": "@jupyter-widgets/controls",
      "model_module_version": "1.5.0",
      "model_name": "ProgressStyleModel",
      "state": {
       "description_width": "initial"
      }
     },
     "5bee49f039ee4446a5b77babc99b21d6": {
      "model_module": "@jupyter-widgets/controls",
      "model_module_version": "1.5.0",
      "model_name": "ProgressStyleModel",
      "state": {
       "description_width": "initial"
      }
     },
     "5c331534962c41489006eaa0f31b5ba0": {
      "model_module": "@jupyter-widgets/controls",
      "model_module_version": "1.5.0",
      "model_name": "HBoxModel",
      "state": {
       "children": [
        "IPY_MODEL_f07b3fd4e431419aa9e44bdae2821db8",
        "IPY_MODEL_ec597658a194470e8993101f1cc1073d"
       ],
       "layout": "IPY_MODEL_ad11ccf8a7f546a3b580189a37ec2c05"
      }
     },
     "5c64826cc2a0434f8b757bbf4f8bcde5": {
      "model_module": "@jupyter-widgets/controls",
      "model_module_version": "1.5.0",
      "model_name": "ProgressStyleModel",
      "state": {
       "description_width": "initial"
      }
     },
     "5c71376075d742e0a6c8b19de7bcea96": {
      "model_module": "@jupyter-widgets/controls",
      "model_module_version": "1.5.0",
      "model_name": "HTMLModel",
      "state": {
       "layout": "IPY_MODEL_18a9d195b6fe46c68959dab061b988a7",
       "style": "IPY_MODEL_f95bb231f2a34c86bfae664ddbb86fa6",
       "value": " ETA: 00:00s - loss: 0.0275 - val_loss: 0.0291"
      }
     },
     "5c735866769340a4a6a41a2880097089": {
      "model_module": "@jupyter-widgets/base",
      "model_module_version": "1.2.0",
      "model_name": "LayoutModel",
      "state": {}
     },
     "5c7503145f6c45ada516ab858177e00f": {
      "model_module": "@jupyter-widgets/controls",
      "model_module_version": "1.5.0",
      "model_name": "HBoxModel",
      "state": {
       "children": [
        "IPY_MODEL_03ffceeb4e1945978164e7b32d054335",
        "IPY_MODEL_167a1dee37d94afd817fcac299543551"
       ],
       "layout": "IPY_MODEL_aea7100c232a4f19b675523f130853cd"
      }
     },
     "5c77b9d84e814f6a8bf23b98d0064732": {
      "model_module": "@jupyter-widgets/base",
      "model_module_version": "1.2.0",
      "model_name": "LayoutModel",
      "state": {
       "display": "inline-flex",
       "flex_flow": "row wrap",
       "width": "100%"
      }
     },
     "5cbea8ae5f2c4b69a868383a2f6a3178": {
      "model_module": "@jupyter-widgets/base",
      "model_module_version": "1.2.0",
      "model_name": "LayoutModel",
      "state": {
       "flex": "2"
      }
     },
     "5cd2abaee13f45c9bd0aa1b9bf1721bf": {
      "model_module": "@jupyter-widgets/controls",
      "model_module_version": "1.5.0",
      "model_name": "FloatProgressModel",
      "state": {
       "bar_style": "success",
       "description": "5625/5625",
       "layout": "IPY_MODEL_b86bdcf44b1746489de6cd3018e1a984",
       "max": 5625,
       "style": "IPY_MODEL_b9c4dfe1a23b4d259a3d70aa0bf57eb8",
       "value": 5625
      }
     },
     "5d284f4fed5b4af99fb4d5fb7df7719f": {
      "model_module": "@jupyter-widgets/controls",
      "model_module_version": "1.5.0",
      "model_name": "HBoxModel",
      "state": {
       "children": [
        "IPY_MODEL_a996ed8b3b424fcb8a42dc5595eeab87",
        "IPY_MODEL_ec172d1d1fd04613a96966de8a422103"
       ],
       "layout": "IPY_MODEL_1e7ccbceebb04ac5a3237b926cdd1e36"
      }
     },
     "5d322f4f5ae84f488fb43cd591b3c381": {
      "model_module": "@jupyter-widgets/base",
      "model_module_version": "1.2.0",
      "model_name": "LayoutModel",
      "state": {
       "flex": "2"
      }
     },
     "5d6972482a134c4693a94d55d9dae895": {
      "model_module": "@jupyter-widgets/controls",
      "model_module_version": "1.5.0",
      "model_name": "ProgressStyleModel",
      "state": {
       "description_width": "initial"
      }
     },
     "5d6cab639a20497ea7d806fdc78d457f": {
      "model_module": "@jupyter-widgets/base",
      "model_module_version": "1.2.0",
      "model_name": "LayoutModel",
      "state": {
       "display": "inline-flex",
       "flex_flow": "row wrap",
       "width": "100%"
      }
     },
     "5da571b69fa84838b3f6ec67a562f5f5": {
      "model_module": "@jupyter-widgets/controls",
      "model_module_version": "1.5.0",
      "model_name": "HBoxModel",
      "state": {
       "children": [
        "IPY_MODEL_f162764b57ab41d69f466b043fad6495",
        "IPY_MODEL_0cbbadab96b643aeb6b9d246ec80310a"
       ],
       "layout": "IPY_MODEL_f4757107cafd4e11b898c92483dd93b7"
      }
     },
     "5ddeb7747cd94affb7bd85bb9c179233": {
      "model_module": "@jupyter-widgets/controls",
      "model_module_version": "1.5.0",
      "model_name": "HTMLModel",
      "state": {
       "layout": "IPY_MODEL_f6cf30019b244a8e81efc544653a337d",
       "style": "IPY_MODEL_02149767a6f54971a52f323c3d92d8b2",
       "value": " ETA: 00:00s - loss: -1.8091 - val_loss: -1.7775"
      }
     },
     "5de97bbec74d4f138fe6eaa9b3f4038a": {
      "model_module": "@jupyter-widgets/controls",
      "model_module_version": "1.5.0",
      "model_name": "FloatProgressModel",
      "state": {
       "bar_style": "success",
       "description": "5625/5625",
       "layout": "IPY_MODEL_1ad9cd7c42d14290bde7a1f5f0512c01",
       "max": 5625,
       "style": "IPY_MODEL_d5ee6709b3be4453adcc8b49a2f59c7f",
       "value": 5625
      }
     },
     "5dfc5cfc57974930b98e8585a76c9204": {
      "model_module": "@jupyter-widgets/controls",
      "model_module_version": "1.5.0",
      "model_name": "HTMLModel",
      "state": {
       "layout": "IPY_MODEL_7d368c64fb34459493dd0ac24e076652",
       "style": "IPY_MODEL_fe201a202f154e559bb835b5ad1eb5a2",
       "value": " ETA: 00:00s - loss: 0.0686 - val_loss: 0.0709"
      }
     },
     "5dfff5497d1c4c13b0ef684a3fab6109": {
      "model_module": "@jupyter-widgets/controls",
      "model_module_version": "1.5.0",
      "model_name": "FloatProgressModel",
      "state": {
       "bar_style": "success",
       "description": "5625/5625",
       "layout": "IPY_MODEL_b60dcde961e745fb9c7bc948db88ecea",
       "max": 5625,
       "style": "IPY_MODEL_ff110331fb764321a9c16e5fdaa1775d",
       "value": 5625
      }
     },
     "5e20305d02e64717829183db603e9c63": {
      "model_module": "@jupyter-widgets/controls",
      "model_module_version": "1.5.0",
      "model_name": "HBoxModel",
      "state": {
       "children": [
        "IPY_MODEL_140717c3d7734b7684027c37fe240d07",
        "IPY_MODEL_9c58f0c243764024a3d11acd9574b663"
       ],
       "layout": "IPY_MODEL_afe6ad14d9f2428393934ec25aa5fff9"
      }
     },
     "5e24ff8aebf84caf92942cdc3f2a93af": {
      "model_module": "@jupyter-widgets/base",
      "model_module_version": "1.2.0",
      "model_name": "LayoutModel",
      "state": {
       "flex": "2"
      }
     },
     "5e3ba01b01a84ece889acacb1191ee67": {
      "model_module": "@jupyter-widgets/base",
      "model_module_version": "1.2.0",
      "model_name": "LayoutModel",
      "state": {}
     },
     "5e561fe18b814825b5f0fc00e2ca1c8a": {
      "model_module": "@jupyter-widgets/controls",
      "model_module_version": "1.5.0",
      "model_name": "HTMLModel",
      "state": {
       "layout": "IPY_MODEL_af5d8ca03f204ebf87046ec323578870",
       "style": "IPY_MODEL_05c343567aa14a67b3e2f3b212154954",
       "value": " ETA: 00:00s - loss: 0.0267 - val_loss: 0.0289"
      }
     },
     "5e6f5eacf7a64284b8ef047371290365": {
      "model_module": "@jupyter-widgets/controls",
      "model_module_version": "1.5.0",
      "model_name": "FloatProgressModel",
      "state": {
       "bar_style": "success",
       "description": "5625/5625",
       "layout": "IPY_MODEL_44ae6a1049ba4808a5e44e1795921ce5",
       "max": 5625,
       "style": "IPY_MODEL_4872e2af4ca44277812652218d955ca7",
       "value": 5625
      }
     },
     "5e7cf91c5a1247b880c51b42dd8a1bca": {
      "model_module": "@jupyter-widgets/controls",
      "model_module_version": "1.5.0",
      "model_name": "HBoxModel",
      "state": {
       "children": [
        "IPY_MODEL_58a042bc93204b09804894b1eac5f5b7",
        "IPY_MODEL_0de96a38554d424cbcf3fea89bcab4c8"
       ],
       "layout": "IPY_MODEL_2a41ad395a6c41929dc405c1216a33bb"
      }
     },
     "5e85b35b79744da7a868cadb02fcd295": {
      "model_module": "@jupyter-widgets/controls",
      "model_module_version": "1.5.0",
      "model_name": "HBoxModel",
      "state": {
       "children": [
        "IPY_MODEL_930c821ca06c4f13a99b772fbd0663e3",
        "IPY_MODEL_e2032f2cd8524f6fb60adfe1b58ddd9e"
       ],
       "layout": "IPY_MODEL_ed543ff1036d49458f790d19a7de5a7f"
      }
     },
     "5eb7a785dc1e40178a438ac2a07469e6": {
      "model_module": "@jupyter-widgets/base",
      "model_module_version": "1.2.0",
      "model_name": "LayoutModel",
      "state": {
       "display": "inline-flex",
       "flex_flow": "row wrap",
       "width": "100%"
      }
     },
     "5eb8a34631a24954a5c16c65b4a57fba": {
      "model_module": "@jupyter-widgets/controls",
      "model_module_version": "1.5.0",
      "model_name": "ProgressStyleModel",
      "state": {
       "description_width": "initial"
      }
     },
     "5ecdb7408d5f4ab9ab5239771f46ddcb": {
      "model_module": "@jupyter-widgets/controls",
      "model_module_version": "1.5.0",
      "model_name": "HBoxModel",
      "state": {
       "children": [
        "IPY_MODEL_6df79855231f41a890007c31b5ce4fe7",
        "IPY_MODEL_7dbdd4a3106a448697f14ad509f5e135"
       ],
       "layout": "IPY_MODEL_e813999bd9c44acca6cdb8aa51a700c8"
      }
     },
     "5ede1ecd30e648f2af6a80eafcaca11a": {
      "model_module": "@jupyter-widgets/controls",
      "model_module_version": "1.5.0",
      "model_name": "ProgressStyleModel",
      "state": {
       "description_width": "initial"
      }
     },
     "5ee6cc969240408c8aa8a6b4511415fb": {
      "model_module": "@jupyter-widgets/controls",
      "model_module_version": "1.5.0",
      "model_name": "HTMLModel",
      "state": {
       "layout": "IPY_MODEL_db76c3251ae8454eb84247693ba68d7a",
       "style": "IPY_MODEL_be017575b1564d3aa32f940a8ebe676b",
       "value": " ETA: 00:00s - loss: 0.0330 - val_loss: 0.0348"
      }
     },
     "5ef4d85183fa40cea52e3c91d0903bf4": {
      "model_module": "@jupyter-widgets/controls",
      "model_module_version": "1.5.0",
      "model_name": "ProgressStyleModel",
      "state": {
       "description_width": "initial"
      }
     },
     "5f1ba0b38c2c43b9a5de7beadcb6612e": {
      "model_module": "@jupyter-widgets/base",
      "model_module_version": "1.2.0",
      "model_name": "LayoutModel",
      "state": {
       "flex": "2"
      }
     },
     "5f20ec856d5642b9ad96859585409add": {
      "model_module": "@jupyter-widgets/controls",
      "model_module_version": "1.5.0",
      "model_name": "HTMLModel",
      "state": {
       "layout": "IPY_MODEL_784a48cd22074b778f475d17cb983d1d",
       "style": "IPY_MODEL_120ab8d516154876bb9a9960f8aa4d70",
       "value": " ETA: 00:00s - loss: 0.0273 - val_loss: 0.0296"
      }
     },
     "5f2fcf483a8d4d3dabead37352ca32cd": {
      "model_module": "@jupyter-widgets/base",
      "model_module_version": "1.2.0",
      "model_name": "LayoutModel",
      "state": {
       "display": "inline-flex",
       "flex_flow": "row wrap",
       "width": "100%"
      }
     },
     "5f396f4d1759496c888751d81f72c8e3": {
      "model_module": "@jupyter-widgets/controls",
      "model_module_version": "1.5.0",
      "model_name": "FloatProgressModel",
      "state": {
       "bar_style": "success",
       "description": "5625/5625",
       "layout": "IPY_MODEL_143380dd54ac4edd92ed381aaf1e63ca",
       "max": 5625,
       "style": "IPY_MODEL_d61181cb3ac24d8db8bd1d7ae7c55424",
       "value": 5625
      }
     },
     "5f5461636ac344c7bac50c4fa78693b5": {
      "model_module": "@jupyter-widgets/base",
      "model_module_version": "1.2.0",
      "model_name": "LayoutModel",
      "state": {
       "display": "inline-flex",
       "flex_flow": "row wrap",
       "width": "100%"
      }
     },
     "5f664d5aab374d17b410ee310c07d954": {
      "model_module": "@jupyter-widgets/base",
      "model_module_version": "1.2.0",
      "model_name": "LayoutModel",
      "state": {
       "flex": "2"
      }
     },
     "5fc4278f9cf24bc28f49a6c4e75c3008": {
      "model_module": "@jupyter-widgets/base",
      "model_module_version": "1.2.0",
      "model_name": "LayoutModel",
      "state": {
       "display": "inline-flex",
       "flex_flow": "row wrap",
       "width": "100%"
      }
     },
     "6015c070dc6e4f028f1a341bb1adabf1": {
      "model_module": "@jupyter-widgets/base",
      "model_module_version": "1.2.0",
      "model_name": "LayoutModel",
      "state": {
       "flex": "2"
      }
     },
     "602624e18f2948278316977a2b12e32c": {
      "model_module": "@jupyter-widgets/controls",
      "model_module_version": "1.5.0",
      "model_name": "ProgressStyleModel",
      "state": {
       "description_width": "initial"
      }
     },
     "602ce1028d7340bf8504e220f15c0f0f": {
      "model_module": "@jupyter-widgets/base",
      "model_module_version": "1.2.0",
      "model_name": "LayoutModel",
      "state": {
       "flex": "2"
      }
     },
     "60361427eaef4173a811f6ae5a546ac1": {
      "model_module": "@jupyter-widgets/base",
      "model_module_version": "1.2.0",
      "model_name": "LayoutModel",
      "state": {
       "flex": "2"
      }
     },
     "605cb28072644375a2bf0993e653a636": {
      "model_module": "@jupyter-widgets/controls",
      "model_module_version": "1.5.0",
      "model_name": "DescriptionStyleModel",
      "state": {
       "description_width": ""
      }
     },
     "605de4a76f5e402f935814ac9cfc3895": {
      "model_module": "@jupyter-widgets/controls",
      "model_module_version": "1.5.0",
      "model_name": "HTMLModel",
      "state": {
       "layout": "IPY_MODEL_80156042a6d0413bad2a6d381962f6ef",
       "style": "IPY_MODEL_7c90a8a8934d41a393c1dc94db93281c",
       "value": " ETA: 00:00s - loss: 0.0701 - val_loss: 0.0714"
      }
     },
     "60756b86a7e64a64afe9db9d2c831a39": {
      "model_module": "@jupyter-widgets/base",
      "model_module_version": "1.2.0",
      "model_name": "LayoutModel",
      "state": {
       "display": "inline-flex",
       "flex_flow": "row wrap",
       "width": "100%"
      }
     },
     "60a5ff295ffe40c8af8a31aa194bd225": {
      "model_module": "@jupyter-widgets/controls",
      "model_module_version": "1.5.0",
      "model_name": "HBoxModel",
      "state": {
       "children": [
        "IPY_MODEL_dcc4e2c06dd743899de4c65b95fb2143",
        "IPY_MODEL_7cbf659092554708a6653de334724fd8"
       ],
       "layout": "IPY_MODEL_3e2227bf4de84734aaf57c2948c84998"
      }
     },
     "60b32e2344554b8e9ac7cbd189c3600e": {
      "model_module": "@jupyter-widgets/controls",
      "model_module_version": "1.5.0",
      "model_name": "HTMLModel",
      "state": {
       "layout": "IPY_MODEL_e032bc850c8a4ebfa9760035f2e48837",
       "style": "IPY_MODEL_fb126ba9b06f4ef59fa27d6e582dedab",
       "value": " ETA: 00:00s - loss: -1.8316 - val_loss: -1.7919"
      }
     },
     "60bbd8f0525f42898f46f4ed1b9801ee": {
      "model_module": "@jupyter-widgets/controls",
      "model_module_version": "1.5.0",
      "model_name": "HBoxModel",
      "state": {
       "children": [
        "IPY_MODEL_502c86a1f5c944c5acfc49e006081964",
        "IPY_MODEL_b8bcf45c9acd4f8b80af61c6b4f0e664"
       ],
       "layout": "IPY_MODEL_f2c799feeddc4044b76d05f439d5cf53"
      }
     },
     "60f99facf9e548b8b43cee3a8d1bab42": {
      "model_module": "@jupyter-widgets/controls",
      "model_module_version": "1.5.0",
      "model_name": "ProgressStyleModel",
      "state": {
       "description_width": "initial"
      }
     },
     "61217c49f2f94f71aa6176cbb0f8266f": {
      "model_module": "@jupyter-widgets/controls",
      "model_module_version": "1.5.0",
      "model_name": "HBoxModel",
      "state": {
       "children": [
        "IPY_MODEL_8b51ba8dbf474a70ab9ddcea0365d709",
        "IPY_MODEL_4ce996f1e3c74dc787ecf062a392b1dc"
       ],
       "layout": "IPY_MODEL_82da80c29f6346f796985a3c2efcdee5"
      }
     },
     "61353d072b0943fdbc7f2351f82bdfdc": {
      "model_module": "@jupyter-widgets/controls",
      "model_module_version": "1.5.0",
      "model_name": "HTMLModel",
      "state": {
       "layout": "IPY_MODEL_47f2cac8102f4a129786cd6a207e6519",
       "style": "IPY_MODEL_061f1603fa8d4667b201a67bd7614bf5",
       "value": " ETA: 00:00s - loss: 0.0752 - val_loss: 0.0760"
      }
     },
     "61504c41e4ea4899b4d7d9af194b0593": {
      "model_module": "@jupyter-widgets/base",
      "model_module_version": "1.2.0",
      "model_name": "LayoutModel",
      "state": {}
     },
     "615143de7f0842b5a413b5ba15d7f3b9": {
      "model_module": "@jupyter-widgets/controls",
      "model_module_version": "1.5.0",
      "model_name": "FloatProgressModel",
      "state": {
       "bar_style": "success",
       "description": "5625/5625",
       "layout": "IPY_MODEL_87efad3793414c8690e52abe85402035",
       "max": 5625,
       "style": "IPY_MODEL_5663a2a389f647109c3f1268aac45c1a",
       "value": 5625
      }
     },
     "61714cf9919f4666be1ae934eded08f0": {
      "model_module": "@jupyter-widgets/base",
      "model_module_version": "1.2.0",
      "model_name": "LayoutModel",
      "state": {}
     },
     "6179be5a1cd94a0aa7613817e54b8992": {
      "model_module": "@jupyter-widgets/controls",
      "model_module_version": "1.5.0",
      "model_name": "HBoxModel",
      "state": {
       "children": [
        "IPY_MODEL_1d1f0c4bfccb460d907ad0195e0066ef",
        "IPY_MODEL_e214589cffa94b6ab3e3c5a9a89b0e64"
       ],
       "layout": "IPY_MODEL_defe6719b7b64716a77deed35ffdc0ad"
      }
     },
     "61b191505505464faf3ac0754d570789": {
      "model_module": "@jupyter-widgets/controls",
      "model_module_version": "1.5.0",
      "model_name": "DescriptionStyleModel",
      "state": {
       "description_width": ""
      }
     },
     "61d80308751c454aa915fe6053f29d01": {
      "model_module": "@jupyter-widgets/base",
      "model_module_version": "1.2.0",
      "model_name": "LayoutModel",
      "state": {}
     },
     "61da5de23b954d47bb8b3fb09789bda8": {
      "model_module": "@jupyter-widgets/controls",
      "model_module_version": "1.5.0",
      "model_name": "HTMLModel",
      "state": {
       "layout": "IPY_MODEL_10ecc624d6924e60b256f5cbf8fd482e",
       "style": "IPY_MODEL_c906bc00070b4ae0b95ba66ab20bdacf",
       "value": " ETA: 00:00s - loss: 0.0685 - val_loss: 0.0714"
      }
     },
     "620b9d51194a4fa69b7c7a8ffb013f07": {
      "model_module": "@jupyter-widgets/base",
      "model_module_version": "1.2.0",
      "model_name": "LayoutModel",
      "state": {
       "flex": "2"
      }
     },
     "6222dd8f4ffd4f19bcd7acc03377fdd7": {
      "model_module": "@jupyter-widgets/base",
      "model_module_version": "1.2.0",
      "model_name": "LayoutModel",
      "state": {
       "flex": "2"
      }
     },
     "622c112c03ff48c2ab1bab8b3683d383": {
      "model_module": "@jupyter-widgets/controls",
      "model_module_version": "1.5.0",
      "model_name": "ProgressStyleModel",
      "state": {
       "description_width": "initial"
      }
     },
     "627ee0ae56e84cf7b3610f5dbe275fb5": {
      "model_module": "@jupyter-widgets/controls",
      "model_module_version": "1.5.0",
      "model_name": "HTMLModel",
      "state": {
       "layout": "IPY_MODEL_febd628e85ed413395ad3af2c842d9db",
       "style": "IPY_MODEL_a9cabf75716a4381abdecd6ea6a9ec29",
       "value": " ETA: 00:00s - loss: -1.7493 - val_loss: -1.7544"
      }
     },
     "631943128ef64e26b7bf040cd6e4f29c": {
      "model_module": "@jupyter-widgets/base",
      "model_module_version": "1.2.0",
      "model_name": "LayoutModel",
      "state": {
       "display": "inline-flex",
       "flex_flow": "row wrap",
       "width": "100%"
      }
     },
     "631cac34b2f641debe337b25da5ec9f3": {
      "model_module": "@jupyter-widgets/base",
      "model_module_version": "1.2.0",
      "model_name": "LayoutModel",
      "state": {
       "display": "inline-flex",
       "flex_flow": "row wrap",
       "width": "100%"
      }
     },
     "6328c28ca1e14e15aba735650886c2c9": {
      "model_module": "@jupyter-widgets/controls",
      "model_module_version": "1.5.0",
      "model_name": "DescriptionStyleModel",
      "state": {
       "description_width": ""
      }
     },
     "634e1c19de094433a2a3ef2be0ed0ef2": {
      "model_module": "@jupyter-widgets/controls",
      "model_module_version": "1.5.0",
      "model_name": "ProgressStyleModel",
      "state": {
       "description_width": "initial"
      }
     },
     "636a0d3ee29c46688aa2c4e9a8d4acf3": {
      "model_module": "@jupyter-widgets/base",
      "model_module_version": "1.2.0",
      "model_name": "LayoutModel",
      "state": {
       "display": "inline-flex",
       "flex_flow": "row wrap",
       "width": "100%"
      }
     },
     "636f0ca38a9445afa3dcaeb9ff45cf92": {
      "model_module": "@jupyter-widgets/base",
      "model_module_version": "1.2.0",
      "model_name": "LayoutModel",
      "state": {
       "flex": "2"
      }
     },
     "637572d042bb45b08e1dea17f68a771e": {
      "model_module": "@jupyter-widgets/controls",
      "model_module_version": "1.5.0",
      "model_name": "DescriptionStyleModel",
      "state": {
       "description_width": ""
      }
     },
     "63a675acf89747c7a12600b6f3e6bcef": {
      "model_module": "@jupyter-widgets/controls",
      "model_module_version": "1.5.0",
      "model_name": "ProgressStyleModel",
      "state": {
       "description_width": "initial"
      }
     },
     "63aa26987ec54356b6210d8318f9b09f": {
      "model_module": "@jupyter-widgets/controls",
      "model_module_version": "1.5.0",
      "model_name": "DescriptionStyleModel",
      "state": {
       "description_width": ""
      }
     },
     "63e0b813a21d487380ba95682b4add42": {
      "model_module": "@jupyter-widgets/controls",
      "model_module_version": "1.5.0",
      "model_name": "HTMLModel",
      "state": {
       "layout": "IPY_MODEL_29f1ddd7a86a4300a49bea15618a0f28",
       "style": "IPY_MODEL_a6094e9a36794899aa29934638f1d9b6",
       "value": " ETA: 00:00s - loss: 0.0719 - val_loss: 0.0738"
      }
     },
     "63f1fb8660034a979c17910840c88320": {
      "model_module": "@jupyter-widgets/base",
      "model_module_version": "1.2.0",
      "model_name": "LayoutModel",
      "state": {
       "flex": "2"
      }
     },
     "6417f98760924e8e92676ecedff7edd6": {
      "model_module": "@jupyter-widgets/base",
      "model_module_version": "1.2.0",
      "model_name": "LayoutModel",
      "state": {}
     },
     "641b6eccefd147b481447cdaefd4985e": {
      "model_module": "@jupyter-widgets/controls",
      "model_module_version": "1.5.0",
      "model_name": "ProgressStyleModel",
      "state": {
       "description_width": "initial"
      }
     },
     "6447ddeeef8a4412ad3016d649de9ec7": {
      "model_module": "@jupyter-widgets/controls",
      "model_module_version": "1.5.0",
      "model_name": "FloatProgressModel",
      "state": {
       "bar_style": "success",
       "description": "5625/5625",
       "layout": "IPY_MODEL_53dda268589d4721930ebe419ebef0f9",
       "max": 5625,
       "style": "IPY_MODEL_c841f90b89414ecfaef9af325f659f65",
       "value": 5625
      }
     },
     "644b1a1ec45045c28e921c62e70fc051": {
      "model_module": "@jupyter-widgets/base",
      "model_module_version": "1.2.0",
      "model_name": "LayoutModel",
      "state": {
       "display": "inline-flex",
       "flex_flow": "row wrap",
       "width": "100%"
      }
     },
     "645baabdbed74d0982df39283c1504a5": {
      "model_module": "@jupyter-widgets/controls",
      "model_module_version": "1.5.0",
      "model_name": "FloatProgressModel",
      "state": {
       "bar_style": "success",
       "description": "5625/5625",
       "layout": "IPY_MODEL_254bce10fa39416897b6196b5d4de687",
       "max": 5625,
       "style": "IPY_MODEL_ac950705e6ab4d6ab267b188ab48dfa9",
       "value": 5625
      }
     },
     "646f980d950349189ce7973cb42a5367": {
      "model_module": "@jupyter-widgets/base",
      "model_module_version": "1.2.0",
      "model_name": "LayoutModel",
      "state": {}
     },
     "64a25e6382f6404ead7c9eae62fa6308": {
      "model_module": "@jupyter-widgets/base",
      "model_module_version": "1.2.0",
      "model_name": "LayoutModel",
      "state": {
       "flex": "2"
      }
     },
     "64abea5ac160480ea01683424d20ea88": {
      "model_module": "@jupyter-widgets/controls",
      "model_module_version": "1.5.0",
      "model_name": "HTMLModel",
      "state": {
       "layout": "IPY_MODEL_dcf7a36a3c7442bcb28e3f75e2c6c7a1",
       "style": "IPY_MODEL_a73ed5098c204bfa8e52a48030af2388",
       "value": " ETA: 00:00s - loss: 0.0299 - val_loss: 0.0295"
      }
     },
     "64b22694d8d84395b47d07310286d558": {
      "model_module": "@jupyter-widgets/controls",
      "model_module_version": "1.5.0",
      "model_name": "ProgressStyleModel",
      "state": {
       "description_width": "initial"
      }
     },
     "64c8f89c0f5243788623454722789eb3": {
      "model_module": "@jupyter-widgets/base",
      "model_module_version": "1.2.0",
      "model_name": "LayoutModel",
      "state": {
       "flex": "2"
      }
     },
     "64dd6fa0da6a4b01859d903bdd211505": {
      "model_module": "@jupyter-widgets/controls",
      "model_module_version": "1.5.0",
      "model_name": "DescriptionStyleModel",
      "state": {
       "description_width": ""
      }
     },
     "64f30a578f3d4c8388f6a23e082f4a6f": {
      "model_module": "@jupyter-widgets/controls",
      "model_module_version": "1.5.0",
      "model_name": "DescriptionStyleModel",
      "state": {
       "description_width": ""
      }
     },
     "6520d346cc8744cfb4175976b2f95ca3": {
      "model_module": "@jupyter-widgets/base",
      "model_module_version": "1.2.0",
      "model_name": "LayoutModel",
      "state": {}
     },
     "652983fb717d4e04af9ec75fcc9ba132": {
      "model_module": "@jupyter-widgets/base",
      "model_module_version": "1.2.0",
      "model_name": "LayoutModel",
      "state": {
       "display": "inline-flex",
       "flex_flow": "row wrap",
       "width": "100%"
      }
     },
     "652ba0e973b04bdd94704072d1b02290": {
      "model_module": "@jupyter-widgets/controls",
      "model_module_version": "1.5.0",
      "model_name": "DescriptionStyleModel",
      "state": {
       "description_width": ""
      }
     },
     "652c8eb94c504142a45363e2a9900b44": {
      "model_module": "@jupyter-widgets/controls",
      "model_module_version": "1.5.0",
      "model_name": "HTMLModel",
      "state": {
       "layout": "IPY_MODEL_67a036561b26443c95fa88ba25ecbc45",
       "style": "IPY_MODEL_8de833929c224771b1b7dfef0bf4f012",
       "value": " ETA: 00:00s - loss: 0.0285 - val_loss: 0.0285"
      }
     },
     "6530bfba08ac4df7ba75f9c34e5d3550": {
      "model_module": "@jupyter-widgets/controls",
      "model_module_version": "1.5.0",
      "model_name": "DescriptionStyleModel",
      "state": {
       "description_width": ""
      }
     },
     "65493805e1fc40d9b1858adfd9a5173d": {
      "model_module": "@jupyter-widgets/controls",
      "model_module_version": "1.5.0",
      "model_name": "HBoxModel",
      "state": {
       "children": [
        "IPY_MODEL_0f272103ef84435eab0df195bf971a77",
        "IPY_MODEL_ec63894b2c5844a7972832d68617edef"
       ],
       "layout": "IPY_MODEL_9e009b931f364ef1bd111d11dbcd529e"
      }
     },
     "6567f29ad1314f3abcf7dec438e14c3b": {
      "model_module": "@jupyter-widgets/controls",
      "model_module_version": "1.5.0",
      "model_name": "ProgressStyleModel",
      "state": {
       "description_width": "initial"
      }
     },
     "657a276726ae4e00b12d472656890bea": {
      "model_module": "@jupyter-widgets/base",
      "model_module_version": "1.2.0",
      "model_name": "LayoutModel",
      "state": {
       "flex": "2"
      }
     },
     "65c20186838f44a686d677afc38d4909": {
      "model_module": "@jupyter-widgets/controls",
      "model_module_version": "1.5.0",
      "model_name": "DescriptionStyleModel",
      "state": {
       "description_width": ""
      }
     },
     "65d1ee3a598343a09dfc6deff726ea64": {
      "model_module": "@jupyter-widgets/controls",
      "model_module_version": "1.5.0",
      "model_name": "DescriptionStyleModel",
      "state": {
       "description_width": ""
      }
     },
     "65d489f0789f40d7a16a2b6147281e07": {
      "model_module": "@jupyter-widgets/controls",
      "model_module_version": "1.5.0",
      "model_name": "DescriptionStyleModel",
      "state": {
       "description_width": ""
      }
     },
     "65e003b87da3430daa74f2aab77ec224": {
      "model_module": "@jupyter-widgets/base",
      "model_module_version": "1.2.0",
      "model_name": "LayoutModel",
      "state": {}
     },
     "660db8e9bd474e8e8c4ff208f1edb12d": {
      "model_module": "@jupyter-widgets/controls",
      "model_module_version": "1.5.0",
      "model_name": "HBoxModel",
      "state": {
       "children": [
        "IPY_MODEL_36e971e4b552480899b9c5c950f3c9df",
        "IPY_MODEL_50f1fa74961c4ba2886b3c4e00974699"
       ],
       "layout": "IPY_MODEL_fe6b22f4ac7a4347af6f623a8a88f005"
      }
     },
     "661f6847712f4fb2846863b3e901724c": {
      "model_module": "@jupyter-widgets/base",
      "model_module_version": "1.2.0",
      "model_name": "LayoutModel",
      "state": {
       "flex": "2"
      }
     },
     "6621c92cb91447c7a97419d08e67fddf": {
      "model_module": "@jupyter-widgets/base",
      "model_module_version": "1.2.0",
      "model_name": "LayoutModel",
      "state": {}
     },
     "66261f2d65e441fc9a0cdf23245afcc2": {
      "model_module": "@jupyter-widgets/base",
      "model_module_version": "1.2.0",
      "model_name": "LayoutModel",
      "state": {
       "display": "inline-flex",
       "flex_flow": "row wrap",
       "width": "100%"
      }
     },
     "66265565812547979e9dca94cb6e535e": {
      "model_module": "@jupyter-widgets/controls",
      "model_module_version": "1.5.0",
      "model_name": "DescriptionStyleModel",
      "state": {
       "description_width": ""
      }
     },
     "664698a1bb4048939bf060fdd99084c9": {
      "model_module": "@jupyter-widgets/controls",
      "model_module_version": "1.5.0",
      "model_name": "DescriptionStyleModel",
      "state": {
       "description_width": ""
      }
     },
     "6657da85b75e4dc88eca12e01af501bd": {
      "model_module": "@jupyter-widgets/base",
      "model_module_version": "1.2.0",
      "model_name": "LayoutModel",
      "state": {}
     },
     "666a880f25c14730b240b8b18f5275d9": {
      "model_module": "@jupyter-widgets/base",
      "model_module_version": "1.2.0",
      "model_name": "LayoutModel",
      "state": {
       "display": "inline-flex",
       "flex_flow": "row wrap",
       "width": "100%"
      }
     },
     "668c284ccdf7422ba46fca32b76fb957": {
      "model_module": "@jupyter-widgets/base",
      "model_module_version": "1.2.0",
      "model_name": "LayoutModel",
      "state": {
       "display": "inline-flex",
       "flex_flow": "row wrap",
       "width": "100%"
      }
     },
     "66a0358dbf0341dbbcc3f4287cdc727e": {
      "model_module": "@jupyter-widgets/controls",
      "model_module_version": "1.5.0",
      "model_name": "DescriptionStyleModel",
      "state": {
       "description_width": ""
      }
     },
     "66e4ec6024bb48fc8437a1ffbabfd596": {
      "model_module": "@jupyter-widgets/controls",
      "model_module_version": "1.5.0",
      "model_name": "HBoxModel",
      "state": {
       "children": [
        "IPY_MODEL_7f4f49678d7f4a528db27a39db2fa8e1",
        "IPY_MODEL_0132f7118e9e464390d548a0b5af3b56"
       ],
       "layout": "IPY_MODEL_099fd798bc554cf6a0cb6c94fffedf04"
      }
     },
     "66e9a6bd09d3482095ca970b3cd5452e": {
      "model_module": "@jupyter-widgets/controls",
      "model_module_version": "1.5.0",
      "model_name": "HTMLModel",
      "state": {
       "layout": "IPY_MODEL_095ba37109da41aea30417732149c1b5",
       "style": "IPY_MODEL_1231d3d6c9374eabbefe7fc5e0af7a60",
       "value": " ETA: 00:00s - loss: 0.0689 - val_loss: 0.0705"
      }
     },
     "671c28c88f9140b58cff3a9e4c3f5975": {
      "model_module": "@jupyter-widgets/base",
      "model_module_version": "1.2.0",
      "model_name": "LayoutModel",
      "state": {
       "flex": "2"
      }
     },
     "67446ce42aba44c0b3157b051be53464": {
      "model_module": "@jupyter-widgets/base",
      "model_module_version": "1.2.0",
      "model_name": "LayoutModel",
      "state": {
       "display": "inline-flex",
       "flex_flow": "row wrap",
       "width": "100%"
      }
     },
     "67a036561b26443c95fa88ba25ecbc45": {
      "model_module": "@jupyter-widgets/base",
      "model_module_version": "1.2.0",
      "model_name": "LayoutModel",
      "state": {}
     },
     "67c9af8be1394275a0f169b252cb3f8a": {
      "model_module": "@jupyter-widgets/base",
      "model_module_version": "1.2.0",
      "model_name": "LayoutModel",
      "state": {
       "display": "inline-flex",
       "flex_flow": "row wrap",
       "width": "100%"
      }
     },
     "67db37f9c7084c5782a5b7b2e70d204e": {
      "model_module": "@jupyter-widgets/controls",
      "model_module_version": "1.5.0",
      "model_name": "FloatProgressModel",
      "state": {
       "bar_style": "success",
       "description": "5625/5625",
       "layout": "IPY_MODEL_d5f84d642e014ad0a20b6fb30fd14e68",
       "max": 5625,
       "style": "IPY_MODEL_561cfb1b5e1648a39a06845cabbc79d1",
       "value": 5625
      }
     },
     "68108061816242c5b4749654804e25dc": {
      "model_module": "@jupyter-widgets/controls",
      "model_module_version": "1.5.0",
      "model_name": "DescriptionStyleModel",
      "state": {
       "description_width": ""
      }
     },
     "681424168bd047159cd5d59b8394f926": {
      "model_module": "@jupyter-widgets/controls",
      "model_module_version": "1.5.0",
      "model_name": "ProgressStyleModel",
      "state": {
       "description_width": "initial"
      }
     },
     "6818726ab87e4c60b924e823f00bb5fa": {
      "model_module": "@jupyter-widgets/controls",
      "model_module_version": "1.5.0",
      "model_name": "HTMLModel",
      "state": {
       "layout": "IPY_MODEL_0b12b5449aba41c2b6ba310ed0ad239c",
       "style": "IPY_MODEL_9374605593684b9d9b465f728d10d475",
       "value": " ETA: 00:00s - loss: -1.8195 - val_loss: -1.8003"
      }
     },
     "682b3e591cc343929cea9c9d8fe2379b": {
      "model_module": "@jupyter-widgets/controls",
      "model_module_version": "1.5.0",
      "model_name": "FloatProgressModel",
      "state": {
       "bar_style": "success",
       "description": "5625/5625",
       "layout": "IPY_MODEL_07ca9df807474b1a88391f3c0df6df89",
       "max": 5625,
       "style": "IPY_MODEL_c398033575b54cffbc5c4edc17e7d529",
       "value": 5625
      }
     },
     "683523fc1fee47bcb72cc6ab158cad9a": {
      "model_module": "@jupyter-widgets/controls",
      "model_module_version": "1.5.0",
      "model_name": "HBoxModel",
      "state": {
       "children": [
        "IPY_MODEL_68372172c2174917b59c3f9f6e8458d6",
        "IPY_MODEL_47d65bce6a2d482382e78c5a1bdfc726"
       ],
       "layout": "IPY_MODEL_1dcd3e1eba354018a17642432b4bc5c1"
      }
     },
     "68372172c2174917b59c3f9f6e8458d6": {
      "model_module": "@jupyter-widgets/controls",
      "model_module_version": "1.5.0",
      "model_name": "FloatProgressModel",
      "state": {
       "bar_style": "success",
       "description": "5625/5625",
       "layout": "IPY_MODEL_f973fa23b3ae454f8c8143721dd3c9f3",
       "max": 5625,
       "style": "IPY_MODEL_2718123fbcee44d3a2f5930c8ce56bb9",
       "value": 5625
      }
     },
     "6849afe186324b7ca97b67b4aff27f37": {
      "model_module": "@jupyter-widgets/controls",
      "model_module_version": "1.5.0",
      "model_name": "DescriptionStyleModel",
      "state": {
       "description_width": ""
      }
     },
     "685441b086a64dbea503a41ba3a655eb": {
      "model_module": "@jupyter-widgets/base",
      "model_module_version": "1.2.0",
      "model_name": "LayoutModel",
      "state": {
       "flex": "2"
      }
     },
     "6870e29cad684eb4ac31234d79ad449a": {
      "model_module": "@jupyter-widgets/controls",
      "model_module_version": "1.5.0",
      "model_name": "HBoxModel",
      "state": {
       "children": [
        "IPY_MODEL_9c333127ce254033b47e1a598a293601",
        "IPY_MODEL_fa20efa89ff8495f95d00c07fed08506"
       ],
       "layout": "IPY_MODEL_c35e93ea9f0e4096a6300aeed22a67d4"
      }
     },
     "688b5f98d3fb4320abee6fdff4a49c40": {
      "model_module": "@jupyter-widgets/controls",
      "model_module_version": "1.5.0",
      "model_name": "HTMLModel",
      "state": {
       "layout": "IPY_MODEL_151381b4461d40b897c378ab1aae76c0",
       "style": "IPY_MODEL_ac1a1f7a96b84eb6992ccc71036e2a95",
       "value": " ETA: 00:00s - loss: 0.0259 - val_loss: 0.0292"
      }
     },
     "68a53094f37344da80d16a1f8be928ae": {
      "model_module": "@jupyter-widgets/controls",
      "model_module_version": "1.5.0",
      "model_name": "HBoxModel",
      "state": {
       "children": [
        "IPY_MODEL_50209bdc078945e5b9520bc07126a5dc",
        "IPY_MODEL_094f003f4d814fd49be88e8acfb729c5"
       ],
       "layout": "IPY_MODEL_ce0f1b923b524bde83d322115bfbd7ba"
      }
     },
     "68bbd85846f04c168fb2efd189a4e795": {
      "model_module": "@jupyter-widgets/base",
      "model_module_version": "1.2.0",
      "model_name": "LayoutModel",
      "state": {
       "flex": "2"
      }
     },
     "68cd63acca5e420f9fd74de3bb9158f1": {
      "model_module": "@jupyter-widgets/controls",
      "model_module_version": "1.5.0",
      "model_name": "DescriptionStyleModel",
      "state": {
       "description_width": ""
      }
     },
     "690448a95d634ef8b81aa4f2b136d40e": {
      "model_module": "@jupyter-widgets/controls",
      "model_module_version": "1.5.0",
      "model_name": "FloatProgressModel",
      "state": {
       "bar_style": "success",
       "description": "5625/5625",
       "layout": "IPY_MODEL_1890361c6c9f490192991cb2017a9a56",
       "max": 5625,
       "style": "IPY_MODEL_5eb8a34631a24954a5c16c65b4a57fba",
       "value": 5625
      }
     },
     "690d136232564119b3186960a65cc917": {
      "model_module": "@jupyter-widgets/controls",
      "model_module_version": "1.5.0",
      "model_name": "FloatProgressModel",
      "state": {
       "bar_style": "success",
       "description": "5625/5625",
       "layout": "IPY_MODEL_c444aefc510048fdbf6f8e6ac1ed578c",
       "max": 5625,
       "style": "IPY_MODEL_afe476e0634745b9a0658bcc00464537",
       "value": 5625
      }
     },
     "6934e6a3740448009eab3a0c8aee469c": {
      "model_module": "@jupyter-widgets/controls",
      "model_module_version": "1.5.0",
      "model_name": "FloatProgressModel",
      "state": {
       "bar_style": "success",
       "description": "5625/5625",
       "layout": "IPY_MODEL_a15bc00c02014fc9964278fa4fda8887",
       "max": 5625,
       "style": "IPY_MODEL_d6dddf578b724b169339605cea48f62e",
       "value": 5625
      }
     },
     "694c86d80366492293c3adfdb8ce93cf": {
      "model_module": "@jupyter-widgets/controls",
      "model_module_version": "1.5.0",
      "model_name": "FloatProgressModel",
      "state": {
       "bar_style": "success",
       "description": "5625/5625",
       "layout": "IPY_MODEL_9dd5a76114b6466587b89ec6f30b02a2",
       "max": 5625,
       "style": "IPY_MODEL_b5d77f794c654fc386c8771f080568b1",
       "value": 5625
      }
     },
     "69959a493b32487691f83d3a1e54dc67": {
      "model_module": "@jupyter-widgets/controls",
      "model_module_version": "1.5.0",
      "model_name": "DescriptionStyleModel",
      "state": {
       "description_width": ""
      }
     },
     "69ac28ddc78b45afb8673eaea9bacf53": {
      "model_module": "@jupyter-widgets/controls",
      "model_module_version": "1.5.0",
      "model_name": "FloatProgressModel",
      "state": {
       "bar_style": "success",
       "description": "5625/5625",
       "layout": "IPY_MODEL_774c84453fb74d7a93ac518d390f9502",
       "max": 5625,
       "style": "IPY_MODEL_e3f9042598bb4fc98805ae3ccf690c6b",
       "value": 5625
      }
     },
     "69b246868f864e4cbfc9595827608d00": {
      "model_module": "@jupyter-widgets/base",
      "model_module_version": "1.2.0",
      "model_name": "LayoutModel",
      "state": {
       "display": "inline-flex",
       "flex_flow": "row wrap",
       "width": "100%"
      }
     },
     "69c57abd4eb94ced9a6c2a04c83b5c09": {
      "model_module": "@jupyter-widgets/base",
      "model_module_version": "1.2.0",
      "model_name": "LayoutModel",
      "state": {}
     },
     "69cd28ae5a8747f7bdb65e017bfeeff5": {
      "model_module": "@jupyter-widgets/controls",
      "model_module_version": "1.5.0",
      "model_name": "ProgressStyleModel",
      "state": {
       "description_width": "initial"
      }
     },
     "69ce66846d9f4939b4bc5e8e5e38d5e1": {
      "model_module": "@jupyter-widgets/controls",
      "model_module_version": "1.5.0",
      "model_name": "DescriptionStyleModel",
      "state": {
       "description_width": ""
      }
     },
     "69e6388a59a741f394f2f7de5417ece4": {
      "model_module": "@jupyter-widgets/controls",
      "model_module_version": "1.5.0",
      "model_name": "HTMLModel",
      "state": {
       "layout": "IPY_MODEL_832aa118c1bc4f688858626eb8b1b493",
       "style": "IPY_MODEL_0efa90dcbb254dcfab1e13dfcdef2c79",
       "value": " ETA: 00:00s - loss: 0.0328 - val_loss: 0.0341"
      }
     },
     "6a100f453aa240e5ab79ab1577678bbb": {
      "model_module": "@jupyter-widgets/controls",
      "model_module_version": "1.5.0",
      "model_name": "HBoxModel",
      "state": {
       "children": [
        "IPY_MODEL_2e13d585faa34a719d0a68860b7d3553",
        "IPY_MODEL_abe08a475524475eafeae703fa7a0164"
       ],
       "layout": "IPY_MODEL_476c16d5c6934a2f8117f1d13bd8d39b"
      }
     },
     "6a2c89dcb5a34598811993a229b894ab": {
      "model_module": "@jupyter-widgets/controls",
      "model_module_version": "1.5.0",
      "model_name": "ProgressStyleModel",
      "state": {
       "description_width": "initial"
      }
     },
     "6a2d6e7d9e8d464d9c937369c854cb7a": {
      "model_module": "@jupyter-widgets/controls",
      "model_module_version": "1.5.0",
      "model_name": "DescriptionStyleModel",
      "state": {
       "description_width": ""
      }
     },
     "6a406e39fbff488ca071852720fefd4b": {
      "model_module": "@jupyter-widgets/base",
      "model_module_version": "1.2.0",
      "model_name": "LayoutModel",
      "state": {
       "flex": "2"
      }
     },
     "6a4f9605fd90490fb95de515357ad0db": {
      "model_module": "@jupyter-widgets/controls",
      "model_module_version": "1.5.0",
      "model_name": "HBoxModel",
      "state": {
       "children": [
        "IPY_MODEL_d21867e81fa9409ab3da0116d4126fee",
        "IPY_MODEL_c0712a5ee7b441c5a85224a9b17adc05"
       ],
       "layout": "IPY_MODEL_da5398e927cb49f798dbb94d588b4795"
      }
     },
     "6a6d19bd90c1448abcfa067cec3592a8": {
      "model_module": "@jupyter-widgets/base",
      "model_module_version": "1.2.0",
      "model_name": "LayoutModel",
      "state": {
       "flex": "2"
      }
     },
     "6ad114bee30c41ffa93d35da08a37afd": {
      "model_module": "@jupyter-widgets/controls",
      "model_module_version": "1.5.0",
      "model_name": "FloatProgressModel",
      "state": {
       "bar_style": "success",
       "description": "5625/5625",
       "layout": "IPY_MODEL_413d2ca038ee407ba9ffe2fa93369d72",
       "max": 5625,
       "style": "IPY_MODEL_812f6f30c3ba42a7a2ca2256a98764b3",
       "value": 5625
      }
     },
     "6ad4e4bad1714547ab317aeb302d0974": {
      "model_module": "@jupyter-widgets/base",
      "model_module_version": "1.2.0",
      "model_name": "LayoutModel",
      "state": {
       "flex": "2"
      }
     },
     "6af6849625644bcfbb7fae2845c6a846": {
      "model_module": "@jupyter-widgets/controls",
      "model_module_version": "1.5.0",
      "model_name": "DescriptionStyleModel",
      "state": {
       "description_width": ""
      }
     },
     "6b282724179e4f3eb237b2ce5f1b3a1a": {
      "model_module": "@jupyter-widgets/controls",
      "model_module_version": "1.5.0",
      "model_name": "ProgressStyleModel",
      "state": {
       "description_width": "initial"
      }
     },
     "6b59d1db7a0f4dae9063d7ca710715ed": {
      "model_module": "@jupyter-widgets/base",
      "model_module_version": "1.2.0",
      "model_name": "LayoutModel",
      "state": {
       "display": "inline-flex",
       "flex_flow": "row wrap",
       "width": "100%"
      }
     },
     "6bb122e3ddfd46948f00831581bba120": {
      "model_module": "@jupyter-widgets/base",
      "model_module_version": "1.2.0",
      "model_name": "LayoutModel",
      "state": {
       "display": "inline-flex",
       "flex_flow": "row wrap",
       "width": "100%"
      }
     },
     "6c3e6523aee74b17b7054de2363bb900": {
      "model_module": "@jupyter-widgets/controls",
      "model_module_version": "1.5.0",
      "model_name": "HTMLModel",
      "state": {
       "layout": "IPY_MODEL_976f9fb397f04480b10088c1b85c1cf6",
       "style": "IPY_MODEL_8084ff6c7d1b438eb5d68232e29c6e3d",
       "value": " ETA: 00:00s - loss: -1.8413 - val_loss: -1.8006"
      }
     },
     "6c41ad3e178f4a9b8fc723d4bd901351": {
      "model_module": "@jupyter-widgets/controls",
      "model_module_version": "1.5.0",
      "model_name": "FloatProgressModel",
      "state": {
       "bar_style": "success",
       "description": "5625/5625",
       "layout": "IPY_MODEL_7ec90556e14b40cd931224c110f70cb7",
       "max": 5625,
       "style": "IPY_MODEL_0525d4b5f711439db30385f9437d99f9",
       "value": 5625
      }
     },
     "6c494d5731a747d8ad7382ba97c33e31": {
      "model_module": "@jupyter-widgets/controls",
      "model_module_version": "1.5.0",
      "model_name": "DescriptionStyleModel",
      "state": {
       "description_width": ""
      }
     },
     "6c557be1fa1a499b84fc7486bf255db9": {
      "model_module": "@jupyter-widgets/base",
      "model_module_version": "1.2.0",
      "model_name": "LayoutModel",
      "state": {}
     },
     "6c7ed80f2afb41a59b55ff456aa5e993": {
      "model_module": "@jupyter-widgets/base",
      "model_module_version": "1.2.0",
      "model_name": "LayoutModel",
      "state": {}
     },
     "6c85da9846774591973c7f8cd082531f": {
      "model_module": "@jupyter-widgets/controls",
      "model_module_version": "1.5.0",
      "model_name": "HTMLModel",
      "state": {
       "layout": "IPY_MODEL_4cb5adcc2f3c4efdb5d72c00ce480009",
       "style": "IPY_MODEL_92627dda85bd4056a2b98f3636798ea4",
       "value": " ETA: 00:00s - loss: 0.0692 - val_loss: 0.0717"
      }
     },
     "6c86548e47314f7a969a5822ddc7a852": {
      "model_module": "@jupyter-widgets/base",
      "model_module_version": "1.2.0",
      "model_name": "LayoutModel",
      "state": {
       "display": "inline-flex",
       "flex_flow": "row wrap",
       "width": "100%"
      }
     },
     "6c8ad3e725cb45a48647c2a85f31bacc": {
      "model_module": "@jupyter-widgets/controls",
      "model_module_version": "1.5.0",
      "model_name": "HBoxModel",
      "state": {
       "children": [
        "IPY_MODEL_071a03a2b59447c8afb4e52b376e8c09",
        "IPY_MODEL_86c0f0bd1cef4dcc93df48331bc11536"
       ],
       "layout": "IPY_MODEL_e009571417374a02a03b02f09a43fdac"
      }
     },
     "6c8af49b834743e28dc5a71d1ab0f9ec": {
      "model_module": "@jupyter-widgets/base",
      "model_module_version": "1.2.0",
      "model_name": "LayoutModel",
      "state": {
       "display": "inline-flex",
       "flex_flow": "row wrap",
       "width": "100%"
      }
     },
     "6c92d81e7ffd4c409b730acef3bb70fd": {
      "model_module": "@jupyter-widgets/base",
      "model_module_version": "1.2.0",
      "model_name": "LayoutModel",
      "state": {}
     },
     "6cb7f7694f814e5b80308c08d914a861": {
      "model_module": "@jupyter-widgets/controls",
      "model_module_version": "1.5.0",
      "model_name": "ProgressStyleModel",
      "state": {
       "description_width": "initial"
      }
     },
     "6cbf3ccbc42748029561b8bb5d75d4b7": {
      "model_module": "@jupyter-widgets/controls",
      "model_module_version": "1.5.0",
      "model_name": "DescriptionStyleModel",
      "state": {
       "description_width": ""
      }
     },
     "6cf6dff9430847cd90b654e112721ce5": {
      "model_module": "@jupyter-widgets/controls",
      "model_module_version": "1.5.0",
      "model_name": "HTMLModel",
      "state": {
       "layout": "IPY_MODEL_819fb70251734e27a9bb9a43bc792fb8",
       "style": "IPY_MODEL_df4deb8a3f2e464f9d0fd8dd8fde057e",
       "value": " ETA: 00:00s - loss: -1.8144 - val_loss: -1.7958"
      }
     },
     "6d19ac744ab74da3856cd073def1a20f": {
      "model_module": "@jupyter-widgets/controls",
      "model_module_version": "1.5.0",
      "model_name": "ProgressStyleModel",
      "state": {
       "description_width": "initial"
      }
     },
     "6d219a29644147a7a53b57882a643900": {
      "model_module": "@jupyter-widgets/controls",
      "model_module_version": "1.5.0",
      "model_name": "HBoxModel",
      "state": {
       "children": [
        "IPY_MODEL_90ededca53184c91a404ce4114bc83fe",
        "IPY_MODEL_358d248c3e014e1ab53e0a6e3f7fb446"
       ],
       "layout": "IPY_MODEL_8ef870f79c19480b9f4e7d00fc90221c"
      }
     },
     "6d254a1cb2194d14bed8ed958d85c195": {
      "model_module": "@jupyter-widgets/controls",
      "model_module_version": "1.5.0",
      "model_name": "HTMLModel",
      "state": {
       "layout": "IPY_MODEL_9ff3f8aaf2f848fe91aa4bc5e0cc6bb6",
       "style": "IPY_MODEL_1277b619705b45959d0152173327d303",
       "value": " ETA: 00:00s - loss: 0.0338 - val_loss: 0.0359"
      }
     },
     "6d6d593704b140ffbe67f364fddade85": {
      "model_module": "@jupyter-widgets/controls",
      "model_module_version": "1.5.0",
      "model_name": "HTMLModel",
      "state": {
       "layout": "IPY_MODEL_b1a5bb3d7c1841af85334b166e84da5d",
       "style": "IPY_MODEL_33615ba5544045218a9f4ca5d60827e2",
       "value": " ETA: 00:00s - loss: -1.7970 - val_loss: -1.7832"
      }
     },
     "6db282337fe84fcea692c29ef72c1c8e": {
      "model_module": "@jupyter-widgets/controls",
      "model_module_version": "1.5.0",
      "model_name": "ProgressStyleModel",
      "state": {
       "description_width": "initial"
      }
     },
     "6db288c53c2b4ecba4ca3aadd184833e": {
      "model_module": "@jupyter-widgets/base",
      "model_module_version": "1.2.0",
      "model_name": "LayoutModel",
      "state": {
       "display": "inline-flex",
       "flex_flow": "row wrap",
       "width": "100%"
      }
     },
     "6dd3e3cc1e834262bf0a4fcbfcb32192": {
      "model_module": "@jupyter-widgets/controls",
      "model_module_version": "1.5.0",
      "model_name": "DescriptionStyleModel",
      "state": {
       "description_width": ""
      }
     },
     "6de8eacadb614f32a1b163e0447da786": {
      "model_module": "@jupyter-widgets/base",
      "model_module_version": "1.2.0",
      "model_name": "LayoutModel",
      "state": {
       "flex": "2"
      }
     },
     "6df79855231f41a890007c31b5ce4fe7": {
      "model_module": "@jupyter-widgets/controls",
      "model_module_version": "1.5.0",
      "model_name": "FloatProgressModel",
      "state": {
       "bar_style": "success",
       "description": "5625/5625",
       "layout": "IPY_MODEL_0d0fc317e1d346bc9f326891f89850cd",
       "max": 5625,
       "style": "IPY_MODEL_57a76563e0c84188ae1f525fc9473c57",
       "value": 5625
      }
     },
     "6e08b8d46c1c47fe9a52e9e583cb6619": {
      "model_module": "@jupyter-widgets/controls",
      "model_module_version": "1.5.0",
      "model_name": "HTMLModel",
      "state": {
       "layout": "IPY_MODEL_6e0cb1ea0a7f4772a677a68ef6ba4786",
       "style": "IPY_MODEL_ccf4dc833d1e432f85f730fe36291215",
       "value": " ETA: 00:00s - loss: -1.7657 - val_loss: -1.7458"
      }
     },
     "6e0cb1ea0a7f4772a677a68ef6ba4786": {
      "model_module": "@jupyter-widgets/base",
      "model_module_version": "1.2.0",
      "model_name": "LayoutModel",
      "state": {}
     },
     "6e17a56273d44a84b1c6bbb43b3ea1a3": {
      "model_module": "@jupyter-widgets/controls",
      "model_module_version": "1.5.0",
      "model_name": "HBoxModel",
      "state": {
       "children": [
        "IPY_MODEL_91a82f5eb43846f894b38e89319162e8",
        "IPY_MODEL_18d84e7d948e4ba4aef9812c5942192e"
       ],
       "layout": "IPY_MODEL_e28b88d4498e440183f9903a7f174664"
      }
     },
     "6e4bba1996294769b73b3f646e61fb5d": {
      "model_module": "@jupyter-widgets/controls",
      "model_module_version": "1.5.0",
      "model_name": "HTMLModel",
      "state": {
       "layout": "IPY_MODEL_56ef5ae653584d1ea089917acfad6611",
       "style": "IPY_MODEL_bdc9dff7e5e54c99844c647ead5a5ee2",
       "value": " ETA: 00:00s - loss: 0.1500 - val_loss: 0.1191"
      }
     },
     "6e6b34da6b754c00b18088ce6c3c8dda": {
      "model_module": "@jupyter-widgets/controls",
      "model_module_version": "1.5.0",
      "model_name": "FloatProgressModel",
      "state": {
       "bar_style": "success",
       "description": "5625/5625",
       "layout": "IPY_MODEL_197f648d35e4409880848087d4ed982f",
       "max": 5625,
       "style": "IPY_MODEL_50d41328084f43c98660697bbc160087",
       "value": 5625
      }
     },
     "6ea1ab8b5848430ea551b704129b4f13": {
      "model_module": "@jupyter-widgets/controls",
      "model_module_version": "1.5.0",
      "model_name": "DescriptionStyleModel",
      "state": {
       "description_width": ""
      }
     },
     "6eafe0273d8743488954eb47948b7b8e": {
      "model_module": "@jupyter-widgets/controls",
      "model_module_version": "1.5.0",
      "model_name": "ProgressStyleModel",
      "state": {
       "description_width": "initial"
      }
     },
     "6ef9f729e47848c68dd41313464d3a07": {
      "model_module": "@jupyter-widgets/base",
      "model_module_version": "1.2.0",
      "model_name": "LayoutModel",
      "state": {}
     },
     "6efb8b8f68434c22b1b13baeb192d9fc": {
      "model_module": "@jupyter-widgets/controls",
      "model_module_version": "1.5.0",
      "model_name": "ProgressStyleModel",
      "state": {
       "description_width": "initial"
      }
     },
     "6f04d86312cc4094a1035bb9da9f3856": {
      "model_module": "@jupyter-widgets/controls",
      "model_module_version": "1.5.0",
      "model_name": "HBoxModel",
      "state": {
       "children": [
        "IPY_MODEL_f2d232671fbd40c79891800d34781dee",
        "IPY_MODEL_1641f38004ed491592f91ffc31eb7ea8"
       ],
       "layout": "IPY_MODEL_997551a19cdf46de9d337a7d05aa5387"
      }
     },
     "6f240264d61c43d08f21882331ce4556": {
      "model_module": "@jupyter-widgets/base",
      "model_module_version": "1.2.0",
      "model_name": "LayoutModel",
      "state": {
       "flex": "2"
      }
     },
     "6f2a7af7053c4b2f97639df248ff9a40": {
      "model_module": "@jupyter-widgets/controls",
      "model_module_version": "1.5.0",
      "model_name": "ProgressStyleModel",
      "state": {
       "description_width": "initial"
      }
     },
     "6f3cef5d80cb44a4af59f97ed8d9e331": {
      "model_module": "@jupyter-widgets/controls",
      "model_module_version": "1.5.0",
      "model_name": "DescriptionStyleModel",
      "state": {
       "description_width": ""
      }
     },
     "6f7e2bea418246969ab58493266952bc": {
      "model_module": "@jupyter-widgets/controls",
      "model_module_version": "1.5.0",
      "model_name": "HBoxModel",
      "state": {
       "children": [
        "IPY_MODEL_35a2a27c067748eb99365d4bf9ac2187",
        "IPY_MODEL_c2e08f2268364cb288c59b1eeab8f4fb"
       ],
       "layout": "IPY_MODEL_d8ce8a950a31424aacbd5fc1c20665c2"
      }
     },
     "6f7e56a4a9604b53be841575802540c6": {
      "model_module": "@jupyter-widgets/base",
      "model_module_version": "1.2.0",
      "model_name": "LayoutModel",
      "state": {}
     },
     "6fe8989eb4344733ad92f55e9068e03d": {
      "model_module": "@jupyter-widgets/base",
      "model_module_version": "1.2.0",
      "model_name": "LayoutModel",
      "state": {
       "flex": "2"
      }
     },
     "7018289e12ce40ef9fc27c562093bd0b": {
      "model_module": "@jupyter-widgets/controls",
      "model_module_version": "1.5.0",
      "model_name": "HBoxModel",
      "state": {
       "children": [
        "IPY_MODEL_d765bc5ef15749d5926818445a245e78",
        "IPY_MODEL_bfee99c693834ef2ba6e676fd638f3b3"
       ],
       "layout": "IPY_MODEL_244266333c43461b88e491d8161d8935"
      }
     },
     "701c5fac583340349c3fff357aade845": {
      "model_module": "@jupyter-widgets/base",
      "model_module_version": "1.2.0",
      "model_name": "LayoutModel",
      "state": {}
     },
     "70349c913ae741e780c43d2919dde7af": {
      "model_module": "@jupyter-widgets/controls",
      "model_module_version": "1.5.0",
      "model_name": "ProgressStyleModel",
      "state": {
       "description_width": "initial"
      }
     },
     "705290bf1dcb49149697f30ac688b8d7": {
      "model_module": "@jupyter-widgets/controls",
      "model_module_version": "1.5.0",
      "model_name": "FloatProgressModel",
      "state": {
       "bar_style": "success",
       "description": "5625/5625",
       "layout": "IPY_MODEL_74407c4e64e24815b9554c8b4fd00ffa",
       "max": 5625,
       "style": "IPY_MODEL_17750263a0484c048c8da0270a704ef6",
       "value": 5625
      }
     },
     "7071375356f94dacb949773fa529b74c": {
      "model_module": "@jupyter-widgets/controls",
      "model_module_version": "1.5.0",
      "model_name": "HBoxModel",
      "state": {
       "children": [
        "IPY_MODEL_fa2cd42258f745cb9c93ac28a19e0ee4",
        "IPY_MODEL_85c92597eb524fa5930518962c960264"
       ],
       "layout": "IPY_MODEL_9a52762541a94630ae34226e74cce533"
      }
     },
     "70a164b0dac84c1f92af42cf5fdb3b69": {
      "model_module": "@jupyter-widgets/controls",
      "model_module_version": "1.5.0",
      "model_name": "HTMLModel",
      "state": {
       "layout": "IPY_MODEL_256ca6aa093543afa98ab4725298329c",
       "style": "IPY_MODEL_ba10303bae6543bab2337852e6e96eeb",
       "value": " ETA: 00:00s - loss: 0.0315 - val_loss: 0.0348"
      }
     },
     "70ca41449c374cb0ab63773c5292da0b": {
      "model_module": "@jupyter-widgets/base",
      "model_module_version": "1.2.0",
      "model_name": "LayoutModel",
      "state": {
       "display": "inline-flex",
       "flex_flow": "row wrap",
       "width": "100%"
      }
     },
     "70cab60ee1f8414197c6c73f5ad99699": {
      "model_module": "@jupyter-widgets/controls",
      "model_module_version": "1.5.0",
      "model_name": "ProgressStyleModel",
      "state": {
       "description_width": "initial"
      }
     },
     "70ccd1c603484e439808a01413727ea0": {
      "model_module": "@jupyter-widgets/base",
      "model_module_version": "1.2.0",
      "model_name": "LayoutModel",
      "state": {
       "display": "inline-flex",
       "flex_flow": "row wrap",
       "width": "100%"
      }
     },
     "711ca0799fa64db5bd1706345e995343": {
      "model_module": "@jupyter-widgets/controls",
      "model_module_version": "1.5.0",
      "model_name": "HBoxModel",
      "state": {
       "children": [
        "IPY_MODEL_343b926bbd9f45a3bf8bbc5e2c10360b",
        "IPY_MODEL_7ea162d326c449759232a22445d17423"
       ],
       "layout": "IPY_MODEL_51b03a18fa5b4a78b48609a96e59e8a7"
      }
     },
     "712d7156e1164886a41ffb8164df8ef7": {
      "model_module": "@jupyter-widgets/controls",
      "model_module_version": "1.5.0",
      "model_name": "HTMLModel",
      "state": {
       "layout": "IPY_MODEL_7748fe91f7a7491ebba675efba845c6f",
       "style": "IPY_MODEL_91b90f4d111a4cbab9f0838a8fceaabd",
       "value": " ETA: 00:00s - loss: -1.7276 - val_loss: -1.7211"
      }
     },
     "7136fb4dd4a041b2ae849cdd8e9931d6": {
      "model_module": "@jupyter-widgets/base",
      "model_module_version": "1.2.0",
      "model_name": "LayoutModel",
      "state": {}
     },
     "715995db4e0c42cba0960a65d8405a30": {
      "model_module": "@jupyter-widgets/controls",
      "model_module_version": "1.5.0",
      "model_name": "ProgressStyleModel",
      "state": {
       "description_width": "initial"
      }
     },
     "7182cd1637014cdf9da42a0dc839acdf": {
      "model_module": "@jupyter-widgets/controls",
      "model_module_version": "1.5.0",
      "model_name": "HTMLModel",
      "state": {
       "layout": "IPY_MODEL_04bcb7826f7f4e05986a80c4285f2a44",
       "style": "IPY_MODEL_74f60bb36b9d4441a3f8a73dfa9da770",
       "value": " ETA: 00:00s - loss: 0.0300 - val_loss: 0.0294"
      }
     },
     "71838e19d3db4e76bda9050719fc4491": {
      "model_module": "@jupyter-widgets/controls",
      "model_module_version": "1.5.0",
      "model_name": "DescriptionStyleModel",
      "state": {
       "description_width": ""
      }
     },
     "7194a2b8e2074562809261ab7d1a722b": {
      "model_module": "@jupyter-widgets/controls",
      "model_module_version": "1.5.0",
      "model_name": "ProgressStyleModel",
      "state": {
       "description_width": "initial"
      }
     },
     "71cf424f63f04d4387ea93d57ebb007a": {
      "model_module": "@jupyter-widgets/base",
      "model_module_version": "1.2.0",
      "model_name": "LayoutModel",
      "state": {}
     },
     "71e2272f66d74244b520754ab905aeed": {
      "model_module": "@jupyter-widgets/controls",
      "model_module_version": "1.5.0",
      "model_name": "HTMLModel",
      "state": {
       "layout": "IPY_MODEL_d73f5354e3c24e53806c47ac588294a7",
       "style": "IPY_MODEL_3856dccc13914ae9be97ab8d893e50e1",
       "value": " ETA: 00:00s - loss: 0.0742 - val_loss: 0.0739"
      }
     },
     "720836918afd412eb5fea1fe1bc58080": {
      "model_module": "@jupyter-widgets/base",
      "model_module_version": "1.2.0",
      "model_name": "LayoutModel",
      "state": {
       "flex": "2"
      }
     },
     "720d8989201a48ec828fdabe4c40ef97": {
      "model_module": "@jupyter-widgets/base",
      "model_module_version": "1.2.0",
      "model_name": "LayoutModel",
      "state": {
       "display": "inline-flex",
       "flex_flow": "row wrap",
       "width": "100%"
      }
     },
     "726b8a267fb042b58348da1e4c9692ba": {
      "model_module": "@jupyter-widgets/base",
      "model_module_version": "1.2.0",
      "model_name": "LayoutModel",
      "state": {}
     },
     "7277d7321f5548a98e669b9d639a7301": {
      "model_module": "@jupyter-widgets/controls",
      "model_module_version": "1.5.0",
      "model_name": "FloatProgressModel",
      "state": {
       "bar_style": "success",
       "description": "5625/5625",
       "layout": "IPY_MODEL_c3063b9a705046489ed20bc5cdb2341e",
       "max": 5625,
       "style": "IPY_MODEL_4e30beaf22ff4bc7b1ebc7273bb7ee32",
       "value": 5625
      }
     },
     "72a79e73462c4b279bf389ab1c58370f": {
      "model_module": "@jupyter-widgets/controls",
      "model_module_version": "1.5.0",
      "model_name": "FloatProgressModel",
      "state": {
       "bar_style": "success",
       "description": "5625/5625",
       "layout": "IPY_MODEL_c168a25f22ee46b082c4a2f9c8db9291",
       "max": 5625,
       "style": "IPY_MODEL_4f2ba38e097c423d9415644a71ea7388",
       "value": 5625
      }
     },
     "72d8fd84bf1240dab6d2b0b67b19d387": {
      "model_module": "@jupyter-widgets/controls",
      "model_module_version": "1.5.0",
      "model_name": "DescriptionStyleModel",
      "state": {
       "description_width": ""
      }
     },
     "72da321fe97541aea02f447d3c48d172": {
      "model_module": "@jupyter-widgets/controls",
      "model_module_version": "1.5.0",
      "model_name": "ProgressStyleModel",
      "state": {
       "description_width": "initial"
      }
     },
     "732b3850243f456f9be1d012e835744b": {
      "model_module": "@jupyter-widgets/controls",
      "model_module_version": "1.5.0",
      "model_name": "HBoxModel",
      "state": {
       "children": [
        "IPY_MODEL_fd01f5e513324df0a8849b46d81731aa",
        "IPY_MODEL_962f3835d05f475db371a2197abdf190"
       ],
       "layout": "IPY_MODEL_300f65ab8b2e4791b86f01c94439f1a2"
      }
     },
     "733d82b11aa840098562e80e6152133d": {
      "model_module": "@jupyter-widgets/controls",
      "model_module_version": "1.5.0",
      "model_name": "HBoxModel",
      "state": {
       "children": [
        "IPY_MODEL_6447ddeeef8a4412ad3016d649de9ec7",
        "IPY_MODEL_0b13906cf5e94299b14fdf2832a537a2"
       ],
       "layout": "IPY_MODEL_5c77b9d84e814f6a8bf23b98d0064732"
      }
     },
     "73536326dcd246f58f02020bfcb8ffc7": {
      "model_module": "@jupyter-widgets/controls",
      "model_module_version": "1.5.0",
      "model_name": "DescriptionStyleModel",
      "state": {
       "description_width": ""
      }
     },
     "73a3fd02006247a4b731b93b85c08a7c": {
      "model_module": "@jupyter-widgets/controls",
      "model_module_version": "1.5.0",
      "model_name": "ProgressStyleModel",
      "state": {
       "description_width": "initial"
      }
     },
     "73e7b2930a604142b7fa13c63a71749c": {
      "model_module": "@jupyter-widgets/controls",
      "model_module_version": "1.5.0",
      "model_name": "HBoxModel",
      "state": {
       "children": [
        "IPY_MODEL_3b88f58d1f664208b6c841e50253fe97",
        "IPY_MODEL_cd721152233b4a9fab234066dcb10a56"
       ],
       "layout": "IPY_MODEL_c71dd242b31d465b93eaf1b4e78ec868"
      }
     },
     "73fa6a880bf2412bb23b48ca978a9af5": {
      "model_module": "@jupyter-widgets/base",
      "model_module_version": "1.2.0",
      "model_name": "LayoutModel",
      "state": {
       "display": "inline-flex",
       "flex_flow": "row wrap",
       "width": "100%"
      }
     },
     "740ae9544c164f6d8c21b7e9b46a7555": {
      "model_module": "@jupyter-widgets/controls",
      "model_module_version": "1.5.0",
      "model_name": "HBoxModel",
      "state": {
       "children": [
        "IPY_MODEL_275b198f791647f789f4e57d9cca6a8b",
        "IPY_MODEL_17818c61c7b44c539b840a612a6d4bad"
       ],
       "layout": "IPY_MODEL_42bd3aa15a0a49f49af18f63c51e529c"
      }
     },
     "7421f90604d745c0a58ec553eefe5947": {
      "model_module": "@jupyter-widgets/controls",
      "model_module_version": "1.5.0",
      "model_name": "FloatProgressModel",
      "state": {
       "bar_style": "success",
       "description": "5625/5625",
       "layout": "IPY_MODEL_3afb8c88c7cb40b6bcf14eeacf9be754",
       "max": 5625,
       "style": "IPY_MODEL_db8d6f962f3d4c20a36a202824fdab34",
       "value": 5625
      }
     },
     "7423778dc4944a5b8f558ad838022712": {
      "model_module": "@jupyter-widgets/base",
      "model_module_version": "1.2.0",
      "model_name": "LayoutModel",
      "state": {
       "display": "inline-flex",
       "flex_flow": "row wrap",
       "width": "100%"
      }
     },
     "74407c4e64e24815b9554c8b4fd00ffa": {
      "model_module": "@jupyter-widgets/base",
      "model_module_version": "1.2.0",
      "model_name": "LayoutModel",
      "state": {
       "flex": "2"
      }
     },
     "7477e9b258de437c898715527ff55038": {
      "model_module": "@jupyter-widgets/controls",
      "model_module_version": "1.5.0",
      "model_name": "DescriptionStyleModel",
      "state": {
       "description_width": ""
      }
     },
     "74a89ee39dfe4d6fb426490711f6a7be": {
      "model_module": "@jupyter-widgets/controls",
      "model_module_version": "1.5.0",
      "model_name": "HBoxModel",
      "state": {
       "children": [
        "IPY_MODEL_ec832a7330f84f429a6eb3390da476ae",
        "IPY_MODEL_5821c0907ab54a09971cfaf0520a4e5f"
       ],
       "layout": "IPY_MODEL_03c8383c8b234ca5b3d430e5d58dffed"
      }
     },
     "74b48168a4bc4ed998bf7b6e6fc891a3": {
      "model_module": "@jupyter-widgets/controls",
      "model_module_version": "1.5.0",
      "model_name": "DescriptionStyleModel",
      "state": {
       "description_width": ""
      }
     },
     "74eb1f174ad74f21b715840ba175ccfa": {
      "model_module": "@jupyter-widgets/base",
      "model_module_version": "1.2.0",
      "model_name": "LayoutModel",
      "state": {
       "display": "inline-flex",
       "flex_flow": "row wrap",
       "width": "100%"
      }
     },
     "74edea37ad294706ae98ed0d88803277": {
      "model_module": "@jupyter-widgets/controls",
      "model_module_version": "1.5.0",
      "model_name": "HTMLModel",
      "state": {
       "layout": "IPY_MODEL_1e9bf947f03848cca39a59a0d2178e33",
       "style": "IPY_MODEL_f08e23eff3ca420bbeb5143c16966801",
       "value": " ETA: 00:00s - loss: -1.5206 - val_loss: -1.5158"
      }
     },
     "74f60bb36b9d4441a3f8a73dfa9da770": {
      "model_module": "@jupyter-widgets/controls",
      "model_module_version": "1.5.0",
      "model_name": "DescriptionStyleModel",
      "state": {
       "description_width": ""
      }
     },
     "752ae475158f42fdb9b72510cb7f448a": {
      "model_module": "@jupyter-widgets/controls",
      "model_module_version": "1.5.0",
      "model_name": "FloatProgressModel",
      "state": {
       "bar_style": "success",
       "description": "5625/5625",
       "layout": "IPY_MODEL_2afcf442a6c942f38e623989c7ba9479",
       "max": 5625,
       "style": "IPY_MODEL_81aeaebb5f2c42f6aadcc8fd0c57ec0a",
       "value": 5625
      }
     },
     "754b63bb6d48413a8c328edb8336775d": {
      "model_module": "@jupyter-widgets/base",
      "model_module_version": "1.2.0",
      "model_name": "LayoutModel",
      "state": {
       "display": "inline-flex",
       "flex_flow": "row wrap",
       "width": "100%"
      }
     },
     "75731de21ab74fb28cd8ccefe8c7ab6d": {
      "model_module": "@jupyter-widgets/controls",
      "model_module_version": "1.5.0",
      "model_name": "ProgressStyleModel",
      "state": {
       "description_width": "initial"
      }
     },
     "757f0bf121be431d84d6925e8c5277f7": {
      "model_module": "@jupyter-widgets/base",
      "model_module_version": "1.2.0",
      "model_name": "LayoutModel",
      "state": {}
     },
     "75820b0753034a1ab602d44d05b6ac2d": {
      "model_module": "@jupyter-widgets/controls",
      "model_module_version": "1.5.0",
      "model_name": "HBoxModel",
      "state": {
       "children": [
        "IPY_MODEL_1b97f34b47d7485fbf29b8dce229549e",
        "IPY_MODEL_ea984ed012034cf3b719836212da0a93"
       ],
       "layout": "IPY_MODEL_0f60facb694d4de9902170ebe3de8f95"
      }
     },
     "758b291a9d824cbe9121662debdf81b1": {
      "model_module": "@jupyter-widgets/controls",
      "model_module_version": "1.5.0",
      "model_name": "HBoxModel",
      "state": {
       "children": [
        "IPY_MODEL_38a15a08fb1f4e9f97b8140c6d49bfb9",
        "IPY_MODEL_74edea37ad294706ae98ed0d88803277"
       ],
       "layout": "IPY_MODEL_60756b86a7e64a64afe9db9d2c831a39"
      }
     },
     "75a5d1e58e5d45eb9fee2f8dd52af414": {
      "model_module": "@jupyter-widgets/controls",
      "model_module_version": "1.5.0",
      "model_name": "ProgressStyleModel",
      "state": {
       "description_width": "initial"
      }
     },
     "75ab12244fab4143808d541232caf865": {
      "model_module": "@jupyter-widgets/controls",
      "model_module_version": "1.5.0",
      "model_name": "HBoxModel",
      "state": {
       "children": [
        "IPY_MODEL_fb212a10540741f79978cbf9657f6b4d",
        "IPY_MODEL_ef185ee7b3f544338956ce27ffc74c78"
       ],
       "layout": "IPY_MODEL_c0b9b8d4ca2a472ea62503389c648033"
      }
     },
     "75b4faf4ae22421db6ecd7d0ea14de04": {
      "model_module": "@jupyter-widgets/controls",
      "model_module_version": "1.5.0",
      "model_name": "ProgressStyleModel",
      "state": {
       "description_width": "initial"
      }
     },
     "75ef322e5f954621b3af85de9758ffe9": {
      "model_module": "@jupyter-widgets/controls",
      "model_module_version": "1.5.0",
      "model_name": "DescriptionStyleModel",
      "state": {
       "description_width": ""
      }
     },
     "75f4450341b547a19f7e8cd30f5a86bf": {
      "model_module": "@jupyter-widgets/base",
      "model_module_version": "1.2.0",
      "model_name": "LayoutModel",
      "state": {
       "display": "inline-flex",
       "flex_flow": "row wrap",
       "width": "100%"
      }
     },
     "7607044a7024402291d3d443752378d4": {
      "model_module": "@jupyter-widgets/base",
      "model_module_version": "1.2.0",
      "model_name": "LayoutModel",
      "state": {
       "flex": "2"
      }
     },
     "7616fd7e09bf41da81e2d8fc19f6e849": {
      "model_module": "@jupyter-widgets/controls",
      "model_module_version": "1.5.0",
      "model_name": "DescriptionStyleModel",
      "state": {
       "description_width": ""
      }
     },
     "76171d74fdd94099a7b64aab1163bff4": {
      "model_module": "@jupyter-widgets/base",
      "model_module_version": "1.2.0",
      "model_name": "LayoutModel",
      "state": {
       "display": "inline-flex",
       "flex_flow": "row wrap",
       "width": "100%"
      }
     },
     "76747cfd9dcf4818856fde78e722095f": {
      "model_module": "@jupyter-widgets/controls",
      "model_module_version": "1.5.0",
      "model_name": "HTMLModel",
      "state": {
       "layout": "IPY_MODEL_a8c7fad876624278b5ceba36254bc000",
       "style": "IPY_MODEL_550c0da0fe0e4cfc905d87b454bf1156",
       "value": " ETA: 00:00s - loss: 0.0279 - val_loss: 0.0285"
      }
     },
     "767d43b37b7f4e63981a19063cc59d44": {
      "model_module": "@jupyter-widgets/controls",
      "model_module_version": "1.5.0",
      "model_name": "FloatProgressModel",
      "state": {
       "bar_style": "success",
       "description": "5625/5625",
       "layout": "IPY_MODEL_8351f2f14de341b9a020ad3a63ae87e8",
       "max": 5625,
       "style": "IPY_MODEL_35c36c1c94ee4e32a5ee4b023ffc767d",
       "value": 5625
      }
     },
     "768422fb1dd14b02856655adf6828a0e": {
      "model_module": "@jupyter-widgets/base",
      "model_module_version": "1.2.0",
      "model_name": "LayoutModel",
      "state": {}
     },
     "769d27c23b73470f9212a99be1e8e5a7": {
      "model_module": "@jupyter-widgets/controls",
      "model_module_version": "1.5.0",
      "model_name": "ProgressStyleModel",
      "state": {
       "description_width": "initial"
      }
     },
     "76b677f5021b485289bc82996609f06f": {
      "model_module": "@jupyter-widgets/controls",
      "model_module_version": "1.5.0",
      "model_name": "DescriptionStyleModel",
      "state": {
       "description_width": ""
      }
     },
     "76e6789d71bc400abb7dfc4cc2f41bed": {
      "model_module": "@jupyter-widgets/controls",
      "model_module_version": "1.5.0",
      "model_name": "FloatProgressModel",
      "state": {
       "bar_style": "success",
       "description": "5625/5625",
       "layout": "IPY_MODEL_8704dcd960ee43b8842a15ef0fbfc8eb",
       "max": 5625,
       "style": "IPY_MODEL_95ed5dd6dadd4b4784bf06636486a0c6",
       "value": 5625
      }
     },
     "77052fd1a272478aa2c9105287cb177d": {
      "model_module": "@jupyter-widgets/controls",
      "model_module_version": "1.5.0",
      "model_name": "FloatProgressModel",
      "state": {
       "bar_style": "success",
       "description": "5625/5625",
       "layout": "IPY_MODEL_eaeac308f56d4347bb169c22ad6363d2",
       "max": 5625,
       "style": "IPY_MODEL_777da824e94343b492e7161bacc7cc93",
       "value": 5625
      }
     },
     "77318bec8e644ac5a2a4db12280f9200": {
      "model_module": "@jupyter-widgets/controls",
      "model_module_version": "1.5.0",
      "model_name": "HTMLModel",
      "state": {
       "layout": "IPY_MODEL_f324da9e6bd940f7ad3b38df8a8bd45a",
       "style": "IPY_MODEL_23602384e4564c1f8b776146c4465f2d",
       "value": " ETA: 00:00s - loss: 0.0298 - val_loss: 0.0295"
      }
     },
     "7748fe91f7a7491ebba675efba845c6f": {
      "model_module": "@jupyter-widgets/base",
      "model_module_version": "1.2.0",
      "model_name": "LayoutModel",
      "state": {}
     },
     "77497e164274402a90a74efd41bd7e3f": {
      "model_module": "@jupyter-widgets/controls",
      "model_module_version": "1.5.0",
      "model_name": "FloatProgressModel",
      "state": {
       "bar_style": "success",
       "description": "5625/5625",
       "layout": "IPY_MODEL_cb7588b09a4f4e4c8beae21eedef8fec",
       "max": 5625,
       "style": "IPY_MODEL_e6b00932b5be410a836ef42a2876c33a",
       "value": 5625
      }
     },
     "774c84453fb74d7a93ac518d390f9502": {
      "model_module": "@jupyter-widgets/base",
      "model_module_version": "1.2.0",
      "model_name": "LayoutModel",
      "state": {
       "flex": "2"
      }
     },
     "7768292ba1d0433dacbbbac9d447200f": {
      "model_module": "@jupyter-widgets/controls",
      "model_module_version": "1.5.0",
      "model_name": "DescriptionStyleModel",
      "state": {
       "description_width": ""
      }
     },
     "777da824e94343b492e7161bacc7cc93": {
      "model_module": "@jupyter-widgets/controls",
      "model_module_version": "1.5.0",
      "model_name": "ProgressStyleModel",
      "state": {
       "description_width": "initial"
      }
     },
     "7785739e64ad49ccb044f70dafc64092": {
      "model_module": "@jupyter-widgets/base",
      "model_module_version": "1.2.0",
      "model_name": "LayoutModel",
      "state": {
       "flex": "2"
      }
     },
     "778d84f23c9f47c3826bd87d2d569025": {
      "model_module": "@jupyter-widgets/controls",
      "model_module_version": "1.5.0",
      "model_name": "ProgressStyleModel",
      "state": {
       "description_width": "initial"
      }
     },
     "7791040627f345a6b90ced4752abe056": {
      "model_module": "@jupyter-widgets/controls",
      "model_module_version": "1.5.0",
      "model_name": "FloatProgressModel",
      "state": {
       "bar_style": "success",
       "description": "5625/5625",
       "layout": "IPY_MODEL_10e91caa06264e67aa3d0c147afcf4fe",
       "max": 5625,
       "style": "IPY_MODEL_e8597527928348489f9a3e8a379916ff",
       "value": 5625
      }
     },
     "7793d787455540019318848b10787c91": {
      "model_module": "@jupyter-widgets/base",
      "model_module_version": "1.2.0",
      "model_name": "LayoutModel",
      "state": {
       "flex": "2"
      }
     },
     "77aa228a9dcf460a98b4364b64ed6bff": {
      "model_module": "@jupyter-widgets/controls",
      "model_module_version": "1.5.0",
      "model_name": "HBoxModel",
      "state": {
       "children": [
        "IPY_MODEL_f49beb1d805a42b08034995a1b4b38c8",
        "IPY_MODEL_61da5de23b954d47bb8b3fb09789bda8"
       ],
       "layout": "IPY_MODEL_29ffaac4e9734c3b95b8eb3ddd709996"
      }
     },
     "77bc822b40954593ae374564b7f47cd0": {
      "model_module": "@jupyter-widgets/controls",
      "model_module_version": "1.5.0",
      "model_name": "ProgressStyleModel",
      "state": {
       "description_width": "initial"
      }
     },
     "77d9b555d62542d2bd31bec595fd2389": {
      "model_module": "@jupyter-widgets/controls",
      "model_module_version": "1.5.0",
      "model_name": "DescriptionStyleModel",
      "state": {
       "description_width": ""
      }
     },
     "77da3772df004bde9a72d26977e6fb54": {
      "model_module": "@jupyter-widgets/controls",
      "model_module_version": "1.5.0",
      "model_name": "FloatProgressModel",
      "state": {
       "bar_style": "success",
       "description": "5625/5625",
       "layout": "IPY_MODEL_7ca6f41476db4f3999faee7ee9798458",
       "max": 5625,
       "style": "IPY_MODEL_f043e0e1ecc74b1b8b4aa2d0c94a03c9",
       "value": 5625
      }
     },
     "77f3d8631dca4907a034a09ac30de675": {
      "model_module": "@jupyter-widgets/controls",
      "model_module_version": "1.5.0",
      "model_name": "HBoxModel",
      "state": {
       "children": [
        "IPY_MODEL_ba996a6e7f274e978835f4bf16e6ce1f",
        "IPY_MODEL_8cc1e733b3be4906b7685d8bbf7eaeed"
       ],
       "layout": "IPY_MODEL_0adf9f8933bc45e3b168684b6740f437"
      }
     },
     "77fac047cde744deb192ec9828c5e4b0": {
      "model_module": "@jupyter-widgets/controls",
      "model_module_version": "1.5.0",
      "model_name": "HTMLModel",
      "state": {
       "layout": "IPY_MODEL_f9d14c3a51d5419e85d9f6e3e37c0f50",
       "style": "IPY_MODEL_e6b274cbf30d4fdaa5942dff49d6aee2",
       "value": " ETA: 00:00s - loss: 0.0714 - val_loss: 0.0719"
      }
     },
     "782a63c3f0d7423fbc6d73996bf557c1": {
      "model_module": "@jupyter-widgets/controls",
      "model_module_version": "1.5.0",
      "model_name": "ProgressStyleModel",
      "state": {
       "description_width": "initial"
      }
     },
     "782e46864bd849ed839799d982de2d64": {
      "model_module": "@jupyter-widgets/controls",
      "model_module_version": "1.5.0",
      "model_name": "HTMLModel",
      "state": {
       "layout": "IPY_MODEL_0db9238f508b4bb88e960c569e2274b6",
       "style": "IPY_MODEL_6af6849625644bcfbb7fae2845c6a846",
       "value": " ETA: 00:00s - loss: -1.7572 - val_loss: -1.7564"
      }
     },
     "784a48cd22074b778f475d17cb983d1d": {
      "model_module": "@jupyter-widgets/base",
      "model_module_version": "1.2.0",
      "model_name": "LayoutModel",
      "state": {}
     },
     "784edef584b9415c884a63434a36bd7d": {
      "model_module": "@jupyter-widgets/base",
      "model_module_version": "1.2.0",
      "model_name": "LayoutModel",
      "state": {}
     },
     "786c0432bb1e466bae2035a261890f10": {
      "model_module": "@jupyter-widgets/controls",
      "model_module_version": "1.5.0",
      "model_name": "HBoxModel",
      "state": {
       "children": [
        "IPY_MODEL_ce3e06ffeb2d41ed82f56288347dc386",
        "IPY_MODEL_e8510ecdc8cd4fba98f1fb707e84d20b"
       ],
       "layout": "IPY_MODEL_165217641b284dcbb725147560dbe9ce"
      }
     },
     "7892ad685feb483ab9ea3b4089e00b8a": {
      "model_module": "@jupyter-widgets/controls",
      "model_module_version": "1.5.0",
      "model_name": "DescriptionStyleModel",
      "state": {
       "description_width": ""
      }
     },
     "78c33a8a22cd4c4698f8998d6ea99b6f": {
      "model_module": "@jupyter-widgets/controls",
      "model_module_version": "1.5.0",
      "model_name": "FloatProgressModel",
      "state": {
       "bar_style": "success",
       "description": "5625/5625",
       "layout": "IPY_MODEL_92fb1111a85245e2a0e9f0d7a647b334",
       "max": 5625,
       "style": "IPY_MODEL_70349c913ae741e780c43d2919dde7af",
       "value": 5625
      }
     },
     "78d014e5b39b45dca481a1ce5569b4ed": {
      "model_module": "@jupyter-widgets/controls",
      "model_module_version": "1.5.0",
      "model_name": "HBoxModel",
      "state": {
       "children": [
        "IPY_MODEL_9fd86e801cb3400099e58a530dc69d1f",
        "IPY_MODEL_dd30bbc4cde74f289fcbb5370a11a5b9"
       ],
       "layout": "IPY_MODEL_3beda21d384d43dc8267f2759145f918"
      }
     },
     "78d37c5426cd4683b626a2fe5e317cad": {
      "model_module": "@jupyter-widgets/base",
      "model_module_version": "1.2.0",
      "model_name": "LayoutModel",
      "state": {
       "flex": "2"
      }
     },
     "7905923332364506824fe22eba912f80": {
      "model_module": "@jupyter-widgets/controls",
      "model_module_version": "1.5.0",
      "model_name": "HBoxModel",
      "state": {
       "children": [
        "IPY_MODEL_a4d4ac07a65242b297606386c42dedcf",
        "IPY_MODEL_688b5f98d3fb4320abee6fdff4a49c40"
       ],
       "layout": "IPY_MODEL_ceb2523e24fb490f9f06b27a6f8b7202"
      }
     },
     "7918c64f4f2341ad94f3f7d692975045": {
      "model_module": "@jupyter-widgets/controls",
      "model_module_version": "1.5.0",
      "model_name": "ProgressStyleModel",
      "state": {
       "description_width": "initial"
      }
     },
     "798ad603cdda436c95cb6febe78970a4": {
      "model_module": "@jupyter-widgets/controls",
      "model_module_version": "1.5.0",
      "model_name": "HTMLModel",
      "state": {
       "layout": "IPY_MODEL_5e3ba01b01a84ece889acacb1191ee67",
       "style": "IPY_MODEL_ce40360564194ee7baf86b86a1813624",
       "value": " ETA: 00:00s - loss: -1.8259 - val_loss: -1.8032"
      }
     },
     "79931e0a18e840d9b01cbe1858a94276": {
      "model_module": "@jupyter-widgets/controls",
      "model_module_version": "1.5.0",
      "model_name": "FloatProgressModel",
      "state": {
       "bar_style": "success",
       "description": "5625/5625",
       "layout": "IPY_MODEL_bf52a55472004c66a7c641141498980e",
       "max": 5625,
       "style": "IPY_MODEL_b6aeabba56624443a8127c2f3ff6ad4c",
       "value": 5625
      }
     },
     "79e3b50fd6124f6bb5c3967ddd0223bd": {
      "model_module": "@jupyter-widgets/controls",
      "model_module_version": "1.5.0",
      "model_name": "HTMLModel",
      "state": {
       "layout": "IPY_MODEL_99605d05fa0b45bbab9d3c52ee59c507",
       "style": "IPY_MODEL_f55f9f3979094f579c780dd2eceef2c8",
       "value": " ETA: 00:00s - loss: 0.0277 - val_loss: 0.0283"
      }
     },
     "79e699b3e3ed4ae68bf2c0094945e6a7": {
      "model_module": "@jupyter-widgets/base",
      "model_module_version": "1.2.0",
      "model_name": "LayoutModel",
      "state": {
       "flex": "2"
      }
     },
     "7a054b4c2cb546419b5d79f300b3398b": {
      "model_module": "@jupyter-widgets/controls",
      "model_module_version": "1.5.0",
      "model_name": "ProgressStyleModel",
      "state": {
       "description_width": "initial"
      }
     },
     "7a48e322249c4348817c05ed06999abc": {
      "model_module": "@jupyter-widgets/base",
      "model_module_version": "1.2.0",
      "model_name": "LayoutModel",
      "state": {
       "flex": "2"
      }
     },
     "7a4c1e6189cb47a9b9dfd4b88d083f7c": {
      "model_module": "@jupyter-widgets/controls",
      "model_module_version": "1.5.0",
      "model_name": "ProgressStyleModel",
      "state": {
       "description_width": "initial"
      }
     },
     "7a6eab279d3342698cc1fd1c6105d205": {
      "model_module": "@jupyter-widgets/controls",
      "model_module_version": "1.5.0",
      "model_name": "FloatProgressModel",
      "state": {
       "bar_style": "success",
       "description": "5625/5625",
       "layout": "IPY_MODEL_c95a39f031324532a23f60039b757b4c",
       "max": 5625,
       "style": "IPY_MODEL_91219f0372774e188190279e382b470d",
       "value": 5625
      }
     },
     "7a78499a5c094c409f3d5ef48fd42c8e": {
      "model_module": "@jupyter-widgets/controls",
      "model_module_version": "1.5.0",
      "model_name": "FloatProgressModel",
      "state": {
       "bar_style": "success",
       "description": "5625/5625",
       "layout": "IPY_MODEL_16e3ce21a9b545d99a307597d5920a1d",
       "max": 5625,
       "style": "IPY_MODEL_29a3392bc8964c70a3823929ca36756f",
       "value": 5625
      }
     },
     "7a8a9310cdb64f7994174d46deee9945": {
      "model_module": "@jupyter-widgets/controls",
      "model_module_version": "1.5.0",
      "model_name": "HBoxModel",
      "state": {
       "children": [
        "IPY_MODEL_3530720e60a34c8f9ac5eb07fb9c4e5c",
        "IPY_MODEL_6cf6dff9430847cd90b654e112721ce5"
       ],
       "layout": "IPY_MODEL_1c0049eedc344d5da3d62c1260882bd7"
      }
     },
     "7a954fa5f99e4073955b6962f0074241": {
      "model_module": "@jupyter-widgets/controls",
      "model_module_version": "1.5.0",
      "model_name": "ProgressStyleModel",
      "state": {
       "description_width": "initial"
      }
     },
     "7ad0a76495534d5798635ae0f870fccf": {
      "model_module": "@jupyter-widgets/controls",
      "model_module_version": "1.5.0",
      "model_name": "DescriptionStyleModel",
      "state": {
       "description_width": ""
      }
     },
     "7aef603a3c674cb3b0c8b3878fc17e26": {
      "model_module": "@jupyter-widgets/controls",
      "model_module_version": "1.5.0",
      "model_name": "DescriptionStyleModel",
      "state": {
       "description_width": ""
      }
     },
     "7b14b7986d4e4b73a52f722927b645ab": {
      "model_module": "@jupyter-widgets/controls",
      "model_module_version": "1.5.0",
      "model_name": "HTMLModel",
      "state": {
       "layout": "IPY_MODEL_4853d1c41e834a72964d6d56eb431ab6",
       "style": "IPY_MODEL_fbf113d5e31541dfa9548d6649247c7a",
       "value": " ETA: 00:00s - loss: -1.6658 - val_loss: -1.6444"
      }
     },
     "7b25b45b57194ec89f2290f3348f24e2": {
      "model_module": "@jupyter-widgets/controls",
      "model_module_version": "1.5.0",
      "model_name": "HTMLModel",
      "state": {
       "layout": "IPY_MODEL_12ebb0ede2d04a1cb5b66fc7f12f1449",
       "style": "IPY_MODEL_416b1139feca46318a2becab5804e8d0",
       "value": " ETA: 00:00s - loss: -1.6986 - val_loss: -1.7056"
      }
     },
     "7b39e9cacacb46b0bb096fd15db1fde4": {
      "model_module": "@jupyter-widgets/controls",
      "model_module_version": "1.5.0",
      "model_name": "ProgressStyleModel",
      "state": {
       "description_width": "initial"
      }
     },
     "7b74949f716d4c0685a420fde66ef15c": {
      "model_module": "@jupyter-widgets/base",
      "model_module_version": "1.2.0",
      "model_name": "LayoutModel",
      "state": {
       "display": "inline-flex",
       "flex_flow": "row wrap",
       "width": "100%"
      }
     },
     "7b86f882efe44010911de6c7541c1979": {
      "model_module": "@jupyter-widgets/controls",
      "model_module_version": "1.5.0",
      "model_name": "HBoxModel",
      "state": {
       "children": [
        "IPY_MODEL_44b83fc7cb1b4e0593771de6ee11268a",
        "IPY_MODEL_1623f59287ba4872867da92264fea080"
       ],
       "layout": "IPY_MODEL_4271bc269bff4b119ac3ff988cd43294"
      }
     },
     "7ba76528d52041e185b20018f2333664": {
      "model_module": "@jupyter-widgets/controls",
      "model_module_version": "1.5.0",
      "model_name": "FloatProgressModel",
      "state": {
       "bar_style": "success",
       "description": "5625/5625",
       "layout": "IPY_MODEL_fdfd2ef3edd642b9aba17c8fb8ac7d5a",
       "max": 5625,
       "style": "IPY_MODEL_2728312fd6ae4b8fb5ced710324eebd6",
       "value": 5625
      }
     },
     "7bb2ff1e00004edfa830cab3eeb00add": {
      "model_module": "@jupyter-widgets/controls",
      "model_module_version": "1.5.0",
      "model_name": "HBoxModel",
      "state": {
       "children": [
        "IPY_MODEL_f20708811e78480ab6321debb0ca9855",
        "IPY_MODEL_f975f3f0ec9446749a2fb187e54903aa"
       ],
       "layout": "IPY_MODEL_d0cab6066e274b2894412892cf404c98"
      }
     },
     "7bb8ba32527444888448bdad795978c1": {
      "model_module": "@jupyter-widgets/controls",
      "model_module_version": "1.5.0",
      "model_name": "HBoxModel",
      "state": {
       "children": [
        "IPY_MODEL_7d2eedee7ae14acf8db790d2cb501ef2",
        "IPY_MODEL_71e2272f66d74244b520754ab905aeed"
       ],
       "layout": "IPY_MODEL_666a880f25c14730b240b8b18f5275d9"
      }
     },
     "7bcfad54715045058c72613073dac697": {
      "model_module": "@jupyter-widgets/controls",
      "model_module_version": "1.5.0",
      "model_name": "DescriptionStyleModel",
      "state": {
       "description_width": ""
      }
     },
     "7bdd55e11ae8407199a557ecd42f6f3b": {
      "model_module": "@jupyter-widgets/controls",
      "model_module_version": "1.5.0",
      "model_name": "HBoxModel",
      "state": {
       "children": [
        "IPY_MODEL_c0d1a7f6e955474180156b1bc5dc2cb5",
        "IPY_MODEL_0da6b5e45dba4c519e6eb0ae45969ca3"
       ],
       "layout": "IPY_MODEL_b950c0fd01a14cc09e000cf92b9bff6f"
      }
     },
     "7bece765b9a147ce8e03777c725f3dd2": {
      "model_module": "@jupyter-widgets/controls",
      "model_module_version": "1.5.0",
      "model_name": "HTMLModel",
      "state": {
       "layout": "IPY_MODEL_44e64825d3b4443b994799771c205e43",
       "style": "IPY_MODEL_cdfca50e60f14fb5854893951e825553",
       "value": " ETA: 00:00s - loss: -1.7517 - val_loss: -1.7630"
      }
     },
     "7c1cddc1d0d74a4f8983ac78541e6340": {
      "model_module": "@jupyter-widgets/controls",
      "model_module_version": "1.5.0",
      "model_name": "DescriptionStyleModel",
      "state": {
       "description_width": ""
      }
     },
     "7c208d35128240a3bb7ddca9c20a3be7": {
      "model_module": "@jupyter-widgets/controls",
      "model_module_version": "1.5.0",
      "model_name": "HBoxModel",
      "state": {
       "children": [
        "IPY_MODEL_94c94c6603d04032a13f82fa0b649fa0",
        "IPY_MODEL_1c26b2fb70c341a4a22b94557b226b90"
       ],
       "layout": "IPY_MODEL_0a20176c755a4c278766e8bbe05be6e3"
      }
     },
     "7c37a765516542768790c98c633c4e49": {
      "model_module": "@jupyter-widgets/controls",
      "model_module_version": "1.5.0",
      "model_name": "DescriptionStyleModel",
      "state": {
       "description_width": ""
      }
     },
     "7c525d879a8e4056abbc2d48f0367dc4": {
      "model_module": "@jupyter-widgets/controls",
      "model_module_version": "1.5.0",
      "model_name": "ProgressStyleModel",
      "state": {
       "description_width": "initial"
      }
     },
     "7c6d6895e8a64a0f8f296b5698de9c88": {
      "model_module": "@jupyter-widgets/controls",
      "model_module_version": "1.5.0",
      "model_name": "DescriptionStyleModel",
      "state": {
       "description_width": ""
      }
     },
     "7c799885df76466dbc5cb5405b8bf0fd": {
      "model_module": "@jupyter-widgets/controls",
      "model_module_version": "1.5.0",
      "model_name": "ProgressStyleModel",
      "state": {
       "description_width": "initial"
      }
     },
     "7c90a8a8934d41a393c1dc94db93281c": {
      "model_module": "@jupyter-widgets/controls",
      "model_module_version": "1.5.0",
      "model_name": "DescriptionStyleModel",
      "state": {
       "description_width": ""
      }
     },
     "7ca6f41476db4f3999faee7ee9798458": {
      "model_module": "@jupyter-widgets/base",
      "model_module_version": "1.2.0",
      "model_name": "LayoutModel",
      "state": {
       "flex": "2"
      }
     },
     "7cba123d6c2f473daf25f3e8edf1957d": {
      "model_module": "@jupyter-widgets/controls",
      "model_module_version": "1.5.0",
      "model_name": "ProgressStyleModel",
      "state": {
       "description_width": "initial"
      }
     },
     "7cbb3474a68741a1a1c8333d642c91df": {
      "model_module": "@jupyter-widgets/controls",
      "model_module_version": "1.5.0",
      "model_name": "ProgressStyleModel",
      "state": {
       "description_width": "initial"
      }
     },
     "7cbf659092554708a6653de334724fd8": {
      "model_module": "@jupyter-widgets/controls",
      "model_module_version": "1.5.0",
      "model_name": "HTMLModel",
      "state": {
       "layout": "IPY_MODEL_4ede3dc8cf454a2684f44e380d7b4b58",
       "style": "IPY_MODEL_63aa26987ec54356b6210d8318f9b09f",
       "value": " ETA: 00:00s - loss: -1.7920 - val_loss: -1.7751"
      }
     },
     "7cf648460a10427d96cb1eeee99cec6a": {
      "model_module": "@jupyter-widgets/controls",
      "model_module_version": "1.5.0",
      "model_name": "DescriptionStyleModel",
      "state": {
       "description_width": ""
      }
     },
     "7cfef5724e5346c8a247ea84fcb329ce": {
      "model_module": "@jupyter-widgets/controls",
      "model_module_version": "1.5.0",
      "model_name": "FloatProgressModel",
      "state": {
       "bar_style": "success",
       "description": "5625/5625",
       "layout": "IPY_MODEL_4dbce011c58243c787c958f2419bd059",
       "max": 5625,
       "style": "IPY_MODEL_7194a2b8e2074562809261ab7d1a722b",
       "value": 5625
      }
     },
     "7d129f323ae4421fae18a3059c6381d2": {
      "model_module": "@jupyter-widgets/controls",
      "model_module_version": "1.5.0",
      "model_name": "ProgressStyleModel",
      "state": {
       "description_width": "initial"
      }
     },
     "7d15f7b89bfc465c84579d79198c5dd4": {
      "model_module": "@jupyter-widgets/base",
      "model_module_version": "1.2.0",
      "model_name": "LayoutModel",
      "state": {
       "flex": "2"
      }
     },
     "7d2525ed2b6d4e4881b52cb90dd275db": {
      "model_module": "@jupyter-widgets/controls",
      "model_module_version": "1.5.0",
      "model_name": "HTMLModel",
      "state": {
       "layout": "IPY_MODEL_e3122e14a51e494aaa6315faeb83405e",
       "style": "IPY_MODEL_5a82d11c319b468f8482785e70db77a0",
       "value": " ETA: 00:00s - loss: 0.0695 - val_loss: 0.0723"
      }
     },
     "7d2eedee7ae14acf8db790d2cb501ef2": {
      "model_module": "@jupyter-widgets/controls",
      "model_module_version": "1.5.0",
      "model_name": "FloatProgressModel",
      "state": {
       "bar_style": "success",
       "description": "5625/5625",
       "layout": "IPY_MODEL_c7c828fc738241d086cab87afd5f3961",
       "max": 5625,
       "style": "IPY_MODEL_5d6972482a134c4693a94d55d9dae895",
       "value": 5625
      }
     },
     "7d368c64fb34459493dd0ac24e076652": {
      "model_module": "@jupyter-widgets/base",
      "model_module_version": "1.2.0",
      "model_name": "LayoutModel",
      "state": {}
     },
     "7d36a06ed6d3448e950e73569580e339": {
      "model_module": "@jupyter-widgets/base",
      "model_module_version": "1.2.0",
      "model_name": "LayoutModel",
      "state": {
       "display": "inline-flex",
       "flex_flow": "row wrap",
       "width": "100%"
      }
     },
     "7d482cee83d549d19896ac26a5051374": {
      "model_module": "@jupyter-widgets/controls",
      "model_module_version": "1.5.0",
      "model_name": "HTMLModel",
      "state": {
       "layout": "IPY_MODEL_92a607a33b31412681a8fdf070f1dd24",
       "style": "IPY_MODEL_47dab9cd84414f51956ecdb7c5b177f7",
       "value": " ETA: 00:00s - loss: -1.7859 - val_loss: -1.7819"
      }
     },
     "7dbdd4a3106a448697f14ad509f5e135": {
      "model_module": "@jupyter-widgets/controls",
      "model_module_version": "1.5.0",
      "model_name": "HTMLModel",
      "state": {
       "layout": "IPY_MODEL_49c51869b683473d97aadf25b0271056",
       "style": "IPY_MODEL_30093161b7734ad5a68f0e3f81e15c98",
       "value": " ETA: 00:00s - loss: 0.0339 - val_loss: 0.0326"
      }
     },
     "7e0bd391aa6c4428aaa0e7ad4d195a67": {
      "model_module": "@jupyter-widgets/controls",
      "model_module_version": "1.5.0",
      "model_name": "HBoxModel",
      "state": {
       "children": [
        "IPY_MODEL_e13a7f3978ff48f6bf5039cde77856ba",
        "IPY_MODEL_987e1b617e3a410795c638e91b3c9af1"
       ],
       "layout": "IPY_MODEL_f36817f11e8c40f2805e9dfce71a0d20"
      }
     },
     "7e457cd4890946df8ebd2bc1c9a27d84": {
      "model_module": "@jupyter-widgets/controls",
      "model_module_version": "1.5.0",
      "model_name": "HTMLModel",
      "state": {
       "layout": "IPY_MODEL_e6107dcadfe74c73afcf697152128e7e",
       "style": "IPY_MODEL_fadd47d66ae946baa6831785260129e7",
       "value": " ETA: 00:00s - loss: 0.0266 - val_loss: 0.0303"
      }
     },
     "7e45e617f69c4cfab395039ac13bd945": {
      "model_module": "@jupyter-widgets/base",
      "model_module_version": "1.2.0",
      "model_name": "LayoutModel",
      "state": {
       "display": "inline-flex",
       "flex_flow": "row wrap",
       "width": "100%"
      }
     },
     "7e465a8494434ce2849a2c7700368b25": {
      "model_module": "@jupyter-widgets/controls",
      "model_module_version": "1.5.0",
      "model_name": "HTMLModel",
      "state": {
       "layout": "IPY_MODEL_154804dd6e9a47828d6caafba1bd89c0",
       "style": "IPY_MODEL_137e64b797424156bd411f017940f4bd",
       "value": " ETA: 00:00s - loss: -1.7633 - val_loss: -1.7727"
      }
     },
     "7e469a68d9f44d1c8ae727240e857858": {
      "model_module": "@jupyter-widgets/base",
      "model_module_version": "1.2.0",
      "model_name": "LayoutModel",
      "state": {}
     },
     "7e6b6c36173848da9a5d7a9dc4099c29": {
      "model_module": "@jupyter-widgets/controls",
      "model_module_version": "1.5.0",
      "model_name": "DescriptionStyleModel",
      "state": {
       "description_width": ""
      }
     },
     "7e8627df10a54f0c9de05253a493a91b": {
      "model_module": "@jupyter-widgets/base",
      "model_module_version": "1.2.0",
      "model_name": "LayoutModel",
      "state": {
       "flex": "2"
      }
     },
     "7e9b672ee37c438db3df4f00fdddd4bd": {
      "model_module": "@jupyter-widgets/controls",
      "model_module_version": "1.5.0",
      "model_name": "HTMLModel",
      "state": {
       "layout": "IPY_MODEL_92465f5608ed425b87cbe71794004425",
       "style": "IPY_MODEL_fcf73cbd477040cf99ad5ae1f2881186",
       "value": " ETA: 00:00s - loss: -1.8113 - val_loss: -1.7887"
      }
     },
     "7ea162d326c449759232a22445d17423": {
      "model_module": "@jupyter-widgets/controls",
      "model_module_version": "1.5.0",
      "model_name": "HTMLModel",
      "state": {
       "layout": "IPY_MODEL_cbaa223365f64372bfa90ab4fe545e51",
       "style": "IPY_MODEL_7e6b6c36173848da9a5d7a9dc4099c29",
       "value": " ETA: 00:00s - loss: -1.8353 - val_loss: -1.8091"
      }
     },
     "7ec90556e14b40cd931224c110f70cb7": {
      "model_module": "@jupyter-widgets/base",
      "model_module_version": "1.2.0",
      "model_name": "LayoutModel",
      "state": {
       "flex": "2"
      }
     },
     "7ee1c463cda9441dbd441f4dc24e8ea4": {
      "model_module": "@jupyter-widgets/base",
      "model_module_version": "1.2.0",
      "model_name": "LayoutModel",
      "state": {}
     },
     "7f09a55f498a43daa1f2833659332b2d": {
      "model_module": "@jupyter-widgets/controls",
      "model_module_version": "1.5.0",
      "model_name": "FloatProgressModel",
      "state": {
       "bar_style": "success",
       "description": "5625/5625",
       "layout": "IPY_MODEL_c0b139311f7248ef84179d67f8d19a3b",
       "max": 5625,
       "style": "IPY_MODEL_057c0ccc72f845fab01a62a5b6462ee2",
       "value": 5625
      }
     },
     "7f3528da8e674e5ba4eeed132b165245": {
      "model_module": "@jupyter-widgets/base",
      "model_module_version": "1.2.0",
      "model_name": "LayoutModel",
      "state": {
       "flex": "2"
      }
     },
     "7f4f49678d7f4a528db27a39db2fa8e1": {
      "model_module": "@jupyter-widgets/controls",
      "model_module_version": "1.5.0",
      "model_name": "FloatProgressModel",
      "state": {
       "bar_style": "success",
       "description": "5625/5625",
       "layout": "IPY_MODEL_22819ddc96884a66b72b04545ac9d79d",
       "max": 5625,
       "style": "IPY_MODEL_e343aa9defe84853a444cde7cc1d5da4",
       "value": 5625
      }
     },
     "7f51dc6dae374677a612ed1687509fc1": {
      "model_module": "@jupyter-widgets/base",
      "model_module_version": "1.2.0",
      "model_name": "LayoutModel",
      "state": {}
     },
     "7f5e9fc8ef5e4a1fa4a42ac1769a2a84": {
      "model_module": "@jupyter-widgets/controls",
      "model_module_version": "1.5.0",
      "model_name": "ProgressStyleModel",
      "state": {
       "description_width": "initial"
      }
     },
     "7f77c0fc815b4792a9bb13136b355cc8": {
      "model_module": "@jupyter-widgets/base",
      "model_module_version": "1.2.0",
      "model_name": "LayoutModel",
      "state": {
       "flex": "2"
      }
     },
     "7f8a276e1ee54dbdb7ed1bede7bfa042": {
      "model_module": "@jupyter-widgets/controls",
      "model_module_version": "1.5.0",
      "model_name": "HTMLModel",
      "state": {
       "layout": "IPY_MODEL_28dc4e258738421c9426d8638cf1cd6e",
       "style": "IPY_MODEL_72d8fd84bf1240dab6d2b0b67b19d387",
       "value": " ETA: 00:00s - loss: 0.0700 - val_loss: 0.0719"
      }
     },
     "7fa8eec0c93747808a3efa567a781eba": {
      "model_module": "@jupyter-widgets/controls",
      "model_module_version": "1.5.0",
      "model_name": "DescriptionStyleModel",
      "state": {
       "description_width": ""
      }
     },
     "7fcaeeb030ca445688fb165731978e72": {
      "model_module": "@jupyter-widgets/base",
      "model_module_version": "1.2.0",
      "model_name": "LayoutModel",
      "state": {}
     },
     "7fd16e3d094f44679398affe68382651": {
      "model_module": "@jupyter-widgets/controls",
      "model_module_version": "1.5.0",
      "model_name": "FloatProgressModel",
      "state": {
       "bar_style": "success",
       "description": "5625/5625",
       "layout": "IPY_MODEL_c9b2ed99349048b58957480db2f4022b",
       "max": 5625,
       "style": "IPY_MODEL_41dc713aeb4f4573b861c527e51832cf",
       "value": 5625
      }
     },
     "7fd306289bba48c5a1b7fbc1e6383684": {
      "model_module": "@jupyter-widgets/base",
      "model_module_version": "1.2.0",
      "model_name": "LayoutModel",
      "state": {}
     },
     "7fef4b35f3ee4d08959173ce89747099": {
      "model_module": "@jupyter-widgets/controls",
      "model_module_version": "1.5.0",
      "model_name": "ProgressStyleModel",
      "state": {
       "description_width": "initial"
      }
     },
     "800c6f5676a346f59acbf85cfe40470a": {
      "model_module": "@jupyter-widgets/base",
      "model_module_version": "1.2.0",
      "model_name": "LayoutModel",
      "state": {
       "flex": "2"
      }
     },
     "8011ea2e174b48d8a9b34afb424792e1": {
      "model_module": "@jupyter-widgets/controls",
      "model_module_version": "1.5.0",
      "model_name": "HTMLModel",
      "state": {
       "layout": "IPY_MODEL_a017ac2f3b2c4a24bab7442a4a00cb05",
       "style": "IPY_MODEL_b104f9da332640a38e92886b20c50aba",
       "value": " ETA: 00:00s - loss: 0.0677 - val_loss: 0.0716"
      }
     },
     "80156042a6d0413bad2a6d381962f6ef": {
      "model_module": "@jupyter-widgets/base",
      "model_module_version": "1.2.0",
      "model_name": "LayoutModel",
      "state": {}
     },
     "801e1749d2b84b7783fec099d390348b": {
      "model_module": "@jupyter-widgets/controls",
      "model_module_version": "1.5.0",
      "model_name": "HBoxModel",
      "state": {
       "children": [
        "IPY_MODEL_77da3772df004bde9a72d26977e6fb54",
        "IPY_MODEL_ec9003dcefdd4b49b8ad442653306057"
       ],
       "layout": "IPY_MODEL_959f553747144858aa4f431ccaccd7e2"
      }
     },
     "802b03169c42429ab168ce47178d816f": {
      "model_module": "@jupyter-widgets/base",
      "model_module_version": "1.2.0",
      "model_name": "LayoutModel",
      "state": {
       "display": "inline-flex",
       "flex_flow": "row wrap",
       "width": "100%"
      }
     },
     "8084ff6c7d1b438eb5d68232e29c6e3d": {
      "model_module": "@jupyter-widgets/controls",
      "model_module_version": "1.5.0",
      "model_name": "DescriptionStyleModel",
      "state": {
       "description_width": ""
      }
     },
     "808c53b2be0d4211a7c6ee19d2db1db5": {
      "model_module": "@jupyter-widgets/base",
      "model_module_version": "1.2.0",
      "model_name": "LayoutModel",
      "state": {}
     },
     "80b776e2d7254cf08fe41c9c6d61aed3": {
      "model_module": "@jupyter-widgets/controls",
      "model_module_version": "1.5.0",
      "model_name": "HBoxModel",
      "state": {
       "children": [
        "IPY_MODEL_466b951d1063408dbfbf57485ae7e7e6",
        "IPY_MODEL_2080d2e5cf284fa390a01700a2932953"
       ],
       "layout": "IPY_MODEL_bb9e9e1392f243638c1db7afcb26307d"
      }
     },
     "80c9e33c49b44f34a635893994b05aad": {
      "model_module": "@jupyter-widgets/controls",
      "model_module_version": "1.5.0",
      "model_name": "DescriptionStyleModel",
      "state": {
       "description_width": ""
      }
     },
     "80ce5b010dce4e5e9259d35d346c155b": {
      "model_module": "@jupyter-widgets/controls",
      "model_module_version": "1.5.0",
      "model_name": "ProgressStyleModel",
      "state": {
       "description_width": "initial"
      }
     },
     "810e8477cf404f6d873680387a13b91f": {
      "model_module": "@jupyter-widgets/base",
      "model_module_version": "1.2.0",
      "model_name": "LayoutModel",
      "state": {
       "display": "inline-flex",
       "flex_flow": "row wrap",
       "width": "100%"
      }
     },
     "811f8cede1e24e79bce6df9cc2964c21": {
      "model_module": "@jupyter-widgets/controls",
      "model_module_version": "1.5.0",
      "model_name": "HTMLModel",
      "state": {
       "layout": "IPY_MODEL_768422fb1dd14b02856655adf6828a0e",
       "style": "IPY_MODEL_9c7bbe4bf938496186ba6029dafe916c",
       "value": " ETA: 00:00s - loss: 0.0349 - val_loss: 0.0339"
      }
     },
     "812f6f30c3ba42a7a2ca2256a98764b3": {
      "model_module": "@jupyter-widgets/controls",
      "model_module_version": "1.5.0",
      "model_name": "ProgressStyleModel",
      "state": {
       "description_width": "initial"
      }
     },
     "8131f49485374ce39038ff04ae133aa6": {
      "model_module": "@jupyter-widgets/base",
      "model_module_version": "1.2.0",
      "model_name": "LayoutModel",
      "state": {
       "display": "inline-flex",
       "flex_flow": "row wrap",
       "width": "100%"
      }
     },
     "81347edc37a4460887a0c93f32e7d79f": {
      "model_module": "@jupyter-widgets/controls",
      "model_module_version": "1.5.0",
      "model_name": "HBoxModel",
      "state": {
       "children": [
        "IPY_MODEL_9e4411cd9cb64dbf94d4635ebe1cfdb0",
        "IPY_MODEL_da09877e321d48bb92fb2013931882c6"
       ],
       "layout": "IPY_MODEL_ab9e9e00d264442fa06ce2fbc2566ed1"
      }
     },
     "8135dd433ba547088f7f6fc0103e66e3": {
      "model_module": "@jupyter-widgets/controls",
      "model_module_version": "1.5.0",
      "model_name": "ProgressStyleModel",
      "state": {
       "description_width": "initial"
      }
     },
     "818909352bbe4153b848c55ee2ff199c": {
      "model_module": "@jupyter-widgets/base",
      "model_module_version": "1.2.0",
      "model_name": "LayoutModel",
      "state": {}
     },
     "81900647149a457f980473a66073e439": {
      "model_module": "@jupyter-widgets/base",
      "model_module_version": "1.2.0",
      "model_name": "LayoutModel",
      "state": {
       "flex": "2"
      }
     },
     "819fb70251734e27a9bb9a43bc792fb8": {
      "model_module": "@jupyter-widgets/base",
      "model_module_version": "1.2.0",
      "model_name": "LayoutModel",
      "state": {}
     },
     "81aeaebb5f2c42f6aadcc8fd0c57ec0a": {
      "model_module": "@jupyter-widgets/controls",
      "model_module_version": "1.5.0",
      "model_name": "ProgressStyleModel",
      "state": {
       "description_width": "initial"
      }
     },
     "81ecddad148f4c0aaf2b84133f9568d2": {
      "model_module": "@jupyter-widgets/controls",
      "model_module_version": "1.5.0",
      "model_name": "ProgressStyleModel",
      "state": {
       "description_width": "initial"
      }
     },
     "81f3f1ed23ad4fbcaae5fab6f5e02d7c": {
      "model_module": "@jupyter-widgets/base",
      "model_module_version": "1.2.0",
      "model_name": "LayoutModel",
      "state": {
       "display": "inline-flex",
       "flex_flow": "row wrap",
       "width": "100%"
      }
     },
     "8211ce6d89914a889358887a842260bc": {
      "model_module": "@jupyter-widgets/base",
      "model_module_version": "1.2.0",
      "model_name": "LayoutModel",
      "state": {}
     },
     "821d7d65945440c89b270c23f2db6ec7": {
      "model_module": "@jupyter-widgets/controls",
      "model_module_version": "1.5.0",
      "model_name": "FloatProgressModel",
      "state": {
       "bar_style": "success",
       "description": "5625/5625",
       "layout": "IPY_MODEL_f6281adf67514ad4b00cac041ede4fdd",
       "max": 5625,
       "style": "IPY_MODEL_bfe1f947e90d4f8c9edffe6ade7b1366",
       "value": 5625
      }
     },
     "823bcd53c88344a795f5a6e2d2a6be7e": {
      "model_module": "@jupyter-widgets/controls",
      "model_module_version": "1.5.0",
      "model_name": "HTMLModel",
      "state": {
       "layout": "IPY_MODEL_a0277700896440a7a47ef9d9264ce519",
       "style": "IPY_MODEL_ace1e0fbb2e34a64bc117987c89d0b8b",
       "value": " ETA: 00:00s - loss: -1.8276 - val_loss: -1.7964"
      }
     },
     "824972a08ff840d59d1176bfec1ce104": {
      "model_module": "@jupyter-widgets/controls",
      "model_module_version": "1.5.0",
      "model_name": "HTMLModel",
      "state": {
       "layout": "IPY_MODEL_a096ee64f2554bf685918267f96beaa2",
       "style": "IPY_MODEL_7fa8eec0c93747808a3efa567a781eba",
       "value": " ETA: 00:00s - loss: -1.7984 - val_loss: -1.7757"
      }
     },
     "8276d644f209405d9ca106ab211b0b55": {
      "model_module": "@jupyter-widgets/controls",
      "model_module_version": "1.5.0",
      "model_name": "DescriptionStyleModel",
      "state": {
       "description_width": ""
      }
     },
     "827b8563465743c3b86fef9790174ae4": {
      "model_module": "@jupyter-widgets/controls",
      "model_module_version": "1.5.0",
      "model_name": "ProgressStyleModel",
      "state": {
       "description_width": "initial"
      }
     },
     "828b6e35897845dba58ad9d94976613f": {
      "model_module": "@jupyter-widgets/controls",
      "model_module_version": "1.5.0",
      "model_name": "DescriptionStyleModel",
      "state": {
       "description_width": ""
      }
     },
     "828c8f37453b4f68aed5126912e880a9": {
      "model_module": "@jupyter-widgets/base",
      "model_module_version": "1.2.0",
      "model_name": "LayoutModel",
      "state": {}
     },
     "82ad7df7a65c409d98767fb66e04ece2": {
      "model_module": "@jupyter-widgets/controls",
      "model_module_version": "1.5.0",
      "model_name": "ProgressStyleModel",
      "state": {
       "description_width": "initial"
      }
     },
     "82b4433baf5e4f9eb8e1fb1122ea57fb": {
      "model_module": "@jupyter-widgets/base",
      "model_module_version": "1.2.0",
      "model_name": "LayoutModel",
      "state": {
       "display": "inline-flex",
       "flex_flow": "row wrap",
       "width": "100%"
      }
     },
     "82b5937681554c779344ccea23c8b50f": {
      "model_module": "@jupyter-widgets/base",
      "model_module_version": "1.2.0",
      "model_name": "LayoutModel",
      "state": {
       "display": "inline-flex",
       "flex_flow": "row wrap",
       "width": "100%"
      }
     },
     "82be0c33ce364178a8560e4f0dec2751": {
      "model_module": "@jupyter-widgets/controls",
      "model_module_version": "1.5.0",
      "model_name": "DescriptionStyleModel",
      "state": {
       "description_width": ""
      }
     },
     "82d0f0f5f1504d6ca35260599ae7037e": {
      "model_module": "@jupyter-widgets/base",
      "model_module_version": "1.2.0",
      "model_name": "LayoutModel",
      "state": {}
     },
     "82da80c29f6346f796985a3c2efcdee5": {
      "model_module": "@jupyter-widgets/base",
      "model_module_version": "1.2.0",
      "model_name": "LayoutModel",
      "state": {
       "display": "inline-flex",
       "flex_flow": "row wrap",
       "width": "100%"
      }
     },
     "82decb89be944b8da4d63d42166f6288": {
      "model_module": "@jupyter-widgets/controls",
      "model_module_version": "1.5.0",
      "model_name": "HBoxModel",
      "state": {
       "children": [
        "IPY_MODEL_390bb713fc61447f979672b9adcb56cd",
        "IPY_MODEL_3a94e2c0418a4864af96aa5cb08b7f34"
       ],
       "layout": "IPY_MODEL_0f776f4e5a5749c083bd240f8edb002a"
      }
     },
     "82eedc3aa7c64f89a2a5b215bbe9b3b1": {
      "model_module": "@jupyter-widgets/controls",
      "model_module_version": "1.5.0",
      "model_name": "ProgressStyleModel",
      "state": {
       "description_width": "initial"
      }
     },
     "82f4abe0758b4219bece320160305c28": {
      "model_module": "@jupyter-widgets/controls",
      "model_module_version": "1.5.0",
      "model_name": "HBoxModel",
      "state": {
       "children": [
        "IPY_MODEL_f87546397aec4f2c835809bb4b1f21a7",
        "IPY_MODEL_e3d56ba492294359a063b0fb0f624f63"
       ],
       "layout": "IPY_MODEL_dc260d3c675047838f49aa9658a501ed"
      }
     },
     "8319937358964dd8b475ccd1f53bde17": {
      "model_module": "@jupyter-widgets/controls",
      "model_module_version": "1.5.0",
      "model_name": "HTMLModel",
      "state": {
       "layout": "IPY_MODEL_24e7d3be207a4d9584c21400a8b58d94",
       "style": "IPY_MODEL_ed0630dab42f4fe4b2d0252896ec0858",
       "value": " ETA: 00:00s - loss: 0.0288 - val_loss: 0.0294"
      }
     },
     "832aa118c1bc4f688858626eb8b1b493": {
      "model_module": "@jupyter-widgets/base",
      "model_module_version": "1.2.0",
      "model_name": "LayoutModel",
      "state": {}
     },
     "8351f2f14de341b9a020ad3a63ae87e8": {
      "model_module": "@jupyter-widgets/base",
      "model_module_version": "1.2.0",
      "model_name": "LayoutModel",
      "state": {
       "flex": "2"
      }
     },
     "8379b57ac57e4a909b2e05f68a800c5b": {
      "model_module": "@jupyter-widgets/controls",
      "model_module_version": "1.5.0",
      "model_name": "ProgressStyleModel",
      "state": {
       "description_width": "initial"
      }
     },
     "839c7152bef94aa0b4e16fa1143e6a94": {
      "model_module": "@jupyter-widgets/controls",
      "model_module_version": "1.5.0",
      "model_name": "DescriptionStyleModel",
      "state": {
       "description_width": ""
      }
     },
     "839e59e0369d4620970a8befadf3137d": {
      "model_module": "@jupyter-widgets/controls",
      "model_module_version": "1.5.0",
      "model_name": "ProgressStyleModel",
      "state": {
       "description_width": "initial"
      }
     },
     "83a47033211b48b0bc0ef0fe43fb79f7": {
      "model_module": "@jupyter-widgets/base",
      "model_module_version": "1.2.0",
      "model_name": "LayoutModel",
      "state": {
       "flex": "2"
      }
     },
     "83aff5ac1a2a45019a227d3e76105f9c": {
      "model_module": "@jupyter-widgets/base",
      "model_module_version": "1.2.0",
      "model_name": "LayoutModel",
      "state": {}
     },
     "83b5c99b8a0640039a933e782760867f": {
      "model_module": "@jupyter-widgets/base",
      "model_module_version": "1.2.0",
      "model_name": "LayoutModel",
      "state": {
       "flex": "2"
      }
     },
     "83c1f897608c475cb7887e489c15ca99": {
      "model_module": "@jupyter-widgets/base",
      "model_module_version": "1.2.0",
      "model_name": "LayoutModel",
      "state": {
       "display": "inline-flex",
       "flex_flow": "row wrap",
       "width": "100%"
      }
     },
     "83c3dbb127df48448db04cf621a175b4": {
      "model_module": "@jupyter-widgets/controls",
      "model_module_version": "1.5.0",
      "model_name": "DescriptionStyleModel",
      "state": {
       "description_width": ""
      }
     },
     "83ccdb12c78c43e6aa571874b4eb7d57": {
      "model_module": "@jupyter-widgets/controls",
      "model_module_version": "1.5.0",
      "model_name": "HTMLModel",
      "state": {
       "layout": "IPY_MODEL_c5500a8a6e3241ff92564c52def91ad1",
       "style": "IPY_MODEL_652ba0e973b04bdd94704072d1b02290",
       "value": " ETA: 00:00s - loss: -1.7701 - val_loss: -1.7582"
      }
     },
     "83e08647013e43ce81950e0c41bdd4d3": {
      "model_module": "@jupyter-widgets/controls",
      "model_module_version": "1.5.0",
      "model_name": "DescriptionStyleModel",
      "state": {
       "description_width": ""
      }
     },
     "8458e5f4d882455cab10184e14f82681": {
      "model_module": "@jupyter-widgets/controls",
      "model_module_version": "1.5.0",
      "model_name": "FloatProgressModel",
      "state": {
       "bar_style": "success",
       "description": "5625/5625",
       "layout": "IPY_MODEL_1c285cb06e024816b3d0dc53bfac9515",
       "max": 5625,
       "style": "IPY_MODEL_75b4faf4ae22421db6ecd7d0ea14de04",
       "value": 5625
      }
     },
     "8463c31a60314bdb8f4d0ffa81c51f40": {
      "model_module": "@jupyter-widgets/base",
      "model_module_version": "1.2.0",
      "model_name": "LayoutModel",
      "state": {
       "display": "inline-flex",
       "flex_flow": "row wrap",
       "width": "100%"
      }
     },
     "846d4f9de83243618bc193d768acc757": {
      "model_module": "@jupyter-widgets/base",
      "model_module_version": "1.2.0",
      "model_name": "LayoutModel",
      "state": {
       "flex": "2"
      }
     },
     "846e149eb49345f6b0cae2983e697f7d": {
      "model_module": "@jupyter-widgets/controls",
      "model_module_version": "1.5.0",
      "model_name": "DescriptionStyleModel",
      "state": {
       "description_width": ""
      }
     },
     "847d67ff7fd346369827526b57ed6eb8": {
      "model_module": "@jupyter-widgets/base",
      "model_module_version": "1.2.0",
      "model_name": "LayoutModel",
      "state": {
       "display": "inline-flex",
       "flex_flow": "row wrap",
       "width": "100%"
      }
     },
     "848c489811a04a11af830b0d89cf0d46": {
      "model_module": "@jupyter-widgets/controls",
      "model_module_version": "1.5.0",
      "model_name": "FloatProgressModel",
      "state": {
       "bar_style": "success",
       "description": "5625/5625",
       "layout": "IPY_MODEL_355e4c158405430f823b7fc3b9dfc6db",
       "max": 5625,
       "style": "IPY_MODEL_f52dc2a16e364fdabd309d1235f7ca64",
       "value": 5625
      }
     },
     "84c08fbb34d34df089a51ffefcae1f75": {
      "model_module": "@jupyter-widgets/base",
      "model_module_version": "1.2.0",
      "model_name": "LayoutModel",
      "state": {
       "display": "inline-flex",
       "flex_flow": "row wrap",
       "width": "100%"
      }
     },
     "84eaf7c008fd49139bb6661e511f8208": {
      "model_module": "@jupyter-widgets/controls",
      "model_module_version": "1.5.0",
      "model_name": "ProgressStyleModel",
      "state": {
       "description_width": "initial"
      }
     },
     "8502882ba3004dfeb916d871e252fdea": {
      "model_module": "@jupyter-widgets/base",
      "model_module_version": "1.2.0",
      "model_name": "LayoutModel",
      "state": {
       "flex": "2"
      }
     },
     "850798862abd41b7984e493010e225aa": {
      "model_module": "@jupyter-widgets/controls",
      "model_module_version": "1.5.0",
      "model_name": "ProgressStyleModel",
      "state": {
       "description_width": "initial"
      }
     },
     "851b244466e24c209d67d31eefd705e8": {
      "model_module": "@jupyter-widgets/controls",
      "model_module_version": "1.5.0",
      "model_name": "FloatProgressModel",
      "state": {
       "bar_style": "success",
       "description": "5625/5625",
       "layout": "IPY_MODEL_10d396a6f5974bf6be24fd3c8b69d08b",
       "max": 5625,
       "style": "IPY_MODEL_634e1c19de094433a2a3ef2be0ed0ef2",
       "value": 5625
      }
     },
     "85423e97123d43aaad1fe9d502a9ad89": {
      "model_module": "@jupyter-widgets/base",
      "model_module_version": "1.2.0",
      "model_name": "LayoutModel",
      "state": {}
     },
     "8558fdde3a534ced96ad1e18d97d5124": {
      "model_module": "@jupyter-widgets/base",
      "model_module_version": "1.2.0",
      "model_name": "LayoutModel",
      "state": {
       "flex": "2"
      }
     },
     "856990ea317a474da63f2d3777e10c66": {
      "model_module": "@jupyter-widgets/base",
      "model_module_version": "1.2.0",
      "model_name": "LayoutModel",
      "state": {
       "display": "inline-flex",
       "flex_flow": "row wrap",
       "width": "100%"
      }
     },
     "857cf8ff9c3b42d2970e40f9738e05b3": {
      "model_module": "@jupyter-widgets/base",
      "model_module_version": "1.2.0",
      "model_name": "LayoutModel",
      "state": {}
     },
     "85a17d8009a944a5b00732a7bfb99258": {
      "model_module": "@jupyter-widgets/controls",
      "model_module_version": "1.5.0",
      "model_name": "HBoxModel",
      "state": {
       "children": [
        "IPY_MODEL_551161b148794265af784e57fcd8c582",
        "IPY_MODEL_e43b07960fa74b58b412419c057bd2d1"
       ],
       "layout": "IPY_MODEL_f824a8b32504423d886bfffd2263aa65"
      }
     },
     "85bf5c7dba2343bfa16a319f9a368c95": {
      "model_module": "@jupyter-widgets/controls",
      "model_module_version": "1.5.0",
      "model_name": "FloatProgressModel",
      "state": {
       "bar_style": "success",
       "description": "5625/5625",
       "layout": "IPY_MODEL_a53e4dbce103446498773d69ab56a629",
       "max": 5625,
       "style": "IPY_MODEL_0d727fbdefa54b86a7a28bb58ee25ba7",
       "value": 5625
      }
     },
     "85c186bd704f4759b8d3f5b0dc876b11": {
      "model_module": "@jupyter-widgets/controls",
      "model_module_version": "1.5.0",
      "model_name": "ProgressStyleModel",
      "state": {
       "description_width": "initial"
      }
     },
     "85c630ef76a6465b9d6e6c151bf69fba": {
      "model_module": "@jupyter-widgets/base",
      "model_module_version": "1.2.0",
      "model_name": "LayoutModel",
      "state": {
       "display": "inline-flex",
       "flex_flow": "row wrap",
       "width": "100%"
      }
     },
     "85c92597eb524fa5930518962c960264": {
      "model_module": "@jupyter-widgets/controls",
      "model_module_version": "1.5.0",
      "model_name": "HTMLModel",
      "state": {
       "layout": "IPY_MODEL_61504c41e4ea4899b4d7d9af194b0593",
       "style": "IPY_MODEL_d17c6f3bca2b46d29af74908a40e2c56",
       "value": " ETA: 00:00s - loss: 0.0343 - val_loss: 0.0347"
      }
     },
     "85c96a1ef15248fa811007f3a4f27f13": {
      "model_module": "@jupyter-widgets/base",
      "model_module_version": "1.2.0",
      "model_name": "LayoutModel",
      "state": {
       "display": "inline-flex",
       "flex_flow": "row wrap",
       "width": "100%"
      }
     },
     "85db5c83bceb4e3cb19a012d16ca3f54": {
      "model_module": "@jupyter-widgets/controls",
      "model_module_version": "1.5.0",
      "model_name": "HBoxModel",
      "state": {
       "children": [
        "IPY_MODEL_7421f90604d745c0a58ec553eefe5947",
        "IPY_MODEL_a7522e248d0646cca868629259278533"
       ],
       "layout": "IPY_MODEL_ce9b4f67cb8542f4942a6d9001d31191"
      }
     },
     "85f07a2ba12d492e9da98e2669c01168": {
      "model_module": "@jupyter-widgets/controls",
      "model_module_version": "1.5.0",
      "model_name": "FloatProgressModel",
      "state": {
       "bar_style": "success",
       "description": "5625/5625",
       "layout": "IPY_MODEL_134620481df4453c8b832ccb409ef817",
       "max": 5625,
       "style": "IPY_MODEL_3e13aebc942d46fd8f60e300c9ceff5d",
       "value": 5625
      }
     },
     "860c3e91e14340ffb496c60560a80b41": {
      "model_module": "@jupyter-widgets/controls",
      "model_module_version": "1.5.0",
      "model_name": "HTMLModel",
      "state": {
       "layout": "IPY_MODEL_784edef584b9415c884a63434a36bd7d",
       "style": "IPY_MODEL_3325f480fb4d4ae398f8cea3010967c2",
       "value": " ETA: 00:00s - loss: 0.0710 - val_loss: 0.0719"
      }
     },
     "8611c2243d7e49e1a6b2776fac133a9e": {
      "model_module": "@jupyter-widgets/controls",
      "model_module_version": "1.5.0",
      "model_name": "FloatProgressModel",
      "state": {
       "bar_style": "success",
       "description": "5625/5625",
       "layout": "IPY_MODEL_36846c0eab764c1c94e6b032338b0e19",
       "max": 5625,
       "style": "IPY_MODEL_b6ee16c8f29f4f42b73f02ba9899f5d4",
       "value": 5625
      }
     },
     "862d6a2af0f54f4693c16388c7c3e034": {
      "model_module": "@jupyter-widgets/base",
      "model_module_version": "1.2.0",
      "model_name": "LayoutModel",
      "state": {
       "display": "inline-flex",
       "flex_flow": "row wrap",
       "width": "100%"
      }
     },
     "8647b80db27a4a6690468178190087e6": {
      "model_module": "@jupyter-widgets/controls",
      "model_module_version": "1.5.0",
      "model_name": "HTMLModel",
      "state": {
       "layout": "IPY_MODEL_c43d5ea01f4242729155f84f176125dd",
       "style": "IPY_MODEL_0e0bd81b12b44ff6a400028908186a6c",
       "value": " ETA: 00:00s - loss: -1.7466 - val_loss: -1.7507"
      }
     },
     "86981dcb0b2749c687769865c0bb19e3": {
      "model_module": "@jupyter-widgets/controls",
      "model_module_version": "1.5.0",
      "model_name": "DescriptionStyleModel",
      "state": {
       "description_width": ""
      }
     },
     "86a9720500fb40c58dfdfe09dd8c7988": {
      "model_module": "@jupyter-widgets/controls",
      "model_module_version": "1.5.0",
      "model_name": "ProgressStyleModel",
      "state": {
       "description_width": "initial"
      }
     },
     "86ac727029304b41b3c77ed7265c5f9f": {
      "model_module": "@jupyter-widgets/controls",
      "model_module_version": "1.5.0",
      "model_name": "FloatProgressModel",
      "state": {
       "bar_style": "success",
       "description": "5625/5625",
       "layout": "IPY_MODEL_cb160eed1e06476ebec931e1b433cb5f",
       "max": 5625,
       "style": "IPY_MODEL_b6ba21dabd43490fa4dd94ee7b2b2414",
       "value": 5625
      }
     },
     "86c0f0bd1cef4dcc93df48331bc11536": {
      "model_module": "@jupyter-widgets/controls",
      "model_module_version": "1.5.0",
      "model_name": "HTMLModel",
      "state": {
       "layout": "IPY_MODEL_808c53b2be0d4211a7c6ee19d2db1db5",
       "style": "IPY_MODEL_be872b62035049c1b0732aa41241fa5e",
       "value": " ETA: 00:00s - loss: 0.0296 - val_loss: 0.0293"
      }
     },
     "86d671478f794085b1c4148663ab4ccb": {
      "model_module": "@jupyter-widgets/controls",
      "model_module_version": "1.5.0",
      "model_name": "HTMLModel",
      "state": {
       "layout": "IPY_MODEL_39172919decc4fd0ad60c81f2291703c",
       "style": "IPY_MODEL_1d91796d7bd94f0b99a77dc10840d83f",
       "value": " ETA: 00:00s - loss: 0.0309 - val_loss: 0.0348"
      }
     },
     "86e247993eb145c59dd7adef32add27b": {
      "model_module": "@jupyter-widgets/controls",
      "model_module_version": "1.5.0",
      "model_name": "ProgressStyleModel",
      "state": {
       "description_width": "initial"
      }
     },
     "8704dcd960ee43b8842a15ef0fbfc8eb": {
      "model_module": "@jupyter-widgets/base",
      "model_module_version": "1.2.0",
      "model_name": "LayoutModel",
      "state": {
       "flex": "2"
      }
     },
     "871858a9fb724c138225a36b42f7f4b9": {
      "model_module": "@jupyter-widgets/controls",
      "model_module_version": "1.5.0",
      "model_name": "FloatProgressModel",
      "state": {
       "bar_style": "success",
       "description": "5625/5625",
       "layout": "IPY_MODEL_09630373c3824947a2f09a5da9e8bfdf",
       "max": 5625,
       "style": "IPY_MODEL_b15bd418dc574515a66f30c0f1d685bc",
       "value": 5625
      }
     },
     "874a5fc3b1f94868872c0f6b6b2a81ec": {
      "model_module": "@jupyter-widgets/controls",
      "model_module_version": "1.5.0",
      "model_name": "HTMLModel",
      "state": {
       "layout": "IPY_MODEL_e9254229e7d74d9ebc8e154951d4d1d0",
       "style": "IPY_MODEL_e96720742617454da2ba1e48a195b1ae",
       "value": " ETA: 00:00s - loss: -1.8132 - val_loss: -1.7920"
      }
     },
     "876a72d2f0454179b9b4279fb5dd686e": {
      "model_module": "@jupyter-widgets/controls",
      "model_module_version": "1.5.0",
      "model_name": "ProgressStyleModel",
      "state": {
       "description_width": "initial"
      }
     },
     "8778fac84e80432d9e19f9a9aa183f7a": {
      "model_module": "@jupyter-widgets/controls",
      "model_module_version": "1.5.0",
      "model_name": "DescriptionStyleModel",
      "state": {
       "description_width": ""
      }
     },
     "87b5b090a5a34b00844971489b751f46": {
      "model_module": "@jupyter-widgets/controls",
      "model_module_version": "1.5.0",
      "model_name": "HBoxModel",
      "state": {
       "children": [
        "IPY_MODEL_3a437494b9c843ffac23f9b73441efa9",
        "IPY_MODEL_7182cd1637014cdf9da42a0dc839acdf"
       ],
       "layout": "IPY_MODEL_c51a598171e64858a3e56a298c062a22"
      }
     },
     "87c0a5372628472188214773a426f8ac": {
      "model_module": "@jupyter-widgets/controls",
      "model_module_version": "1.5.0",
      "model_name": "HTMLModel",
      "state": {
       "layout": "IPY_MODEL_828c8f37453b4f68aed5126912e880a9",
       "style": "IPY_MODEL_a11d16aa58034346b528eca3a7c7b351",
       "value": " ETA: 00:00s - loss: -1.6082 - val_loss: -1.6162"
      }
     },
     "87efad3793414c8690e52abe85402035": {
      "model_module": "@jupyter-widgets/base",
      "model_module_version": "1.2.0",
      "model_name": "LayoutModel",
      "state": {
       "flex": "2"
      }
     },
     "8831a49e886549dd8e48525c0905b512": {
      "model_module": "@jupyter-widgets/base",
      "model_module_version": "1.2.0",
      "model_name": "LayoutModel",
      "state": {
       "display": "inline-flex",
       "flex_flow": "row wrap",
       "width": "100%"
      }
     },
     "88349335e4314624bca72ef19153c708": {
      "model_module": "@jupyter-widgets/controls",
      "model_module_version": "1.5.0",
      "model_name": "FloatProgressModel",
      "state": {
       "bar_style": "success",
       "description": "5625/5625",
       "layout": "IPY_MODEL_04bfb0e3ef7944a29a4d81e72b93c000",
       "max": 5625,
       "style": "IPY_MODEL_9166a89abd4849148c75a4ef9efd55f1",
       "value": 5625
      }
     },
     "887ed4c45c854011a9c320acf1615bff": {
      "model_module": "@jupyter-widgets/controls",
      "model_module_version": "1.5.0",
      "model_name": "DescriptionStyleModel",
      "state": {
       "description_width": ""
      }
     },
     "88c9f3ab057b4258a95d563b0f27720d": {
      "model_module": "@jupyter-widgets/controls",
      "model_module_version": "1.5.0",
      "model_name": "HBoxModel",
      "state": {
       "children": [
        "IPY_MODEL_e80209d2c56f4aeab5b0c0a6d244a12e",
        "IPY_MODEL_adf88c17b5ca47aa8eeb630879999534"
       ],
       "layout": "IPY_MODEL_c28bbe5e03d448cca3e82224d1e6758a"
      }
     },
     "88d94a1e09a84f54b7bd45217f639baa": {
      "model_module": "@jupyter-widgets/controls",
      "model_module_version": "1.5.0",
      "model_name": "HTMLModel",
      "state": {
       "layout": "IPY_MODEL_9d8c3021dec84562b48353334dfcdb84",
       "style": "IPY_MODEL_a630f020269441d78bd6300a8723d7cb",
       "value": " ETA: 00:00s - loss: 0.0264 - val_loss: 0.0289"
      }
     },
     "88dec22c56d94da8b317d56e736c2e42": {
      "model_module": "@jupyter-widgets/controls",
      "model_module_version": "1.5.0",
      "model_name": "HBoxModel",
      "state": {
       "children": [
        "IPY_MODEL_41a37af4de754bc0a3ef9246e7e60022",
        "IPY_MODEL_8ca2fe176aad43d2b7835be222c3e243"
       ],
       "layout": "IPY_MODEL_1dc825b097dc416abed38ae93663c4ab"
      }
     },
     "88fa4b5ad4de4921a551cf270dcafb4d": {
      "model_module": "@jupyter-widgets/base",
      "model_module_version": "1.2.0",
      "model_name": "LayoutModel",
      "state": {
       "display": "inline-flex",
       "flex_flow": "row wrap",
       "width": "100%"
      }
     },
     "89052cbdeb8d4a009dbd8fb4087c49f6": {
      "model_module": "@jupyter-widgets/base",
      "model_module_version": "1.2.0",
      "model_name": "LayoutModel",
      "state": {}
     },
     "890ba3d6e5db4c368facc4f82497104e": {
      "model_module": "@jupyter-widgets/base",
      "model_module_version": "1.2.0",
      "model_name": "LayoutModel",
      "state": {
       "flex": "2"
      }
     },
     "8928610c61c74e508d0959405f2336d2": {
      "model_module": "@jupyter-widgets/base",
      "model_module_version": "1.2.0",
      "model_name": "LayoutModel",
      "state": {
       "display": "inline-flex",
       "flex_flow": "row wrap",
       "width": "100%"
      }
     },
     "8940c614c40b4d82b810271ba1e59961": {
      "model_module": "@jupyter-widgets/base",
      "model_module_version": "1.2.0",
      "model_name": "LayoutModel",
      "state": {}
     },
     "896f1e422506479eba1d62edf026f0a0": {
      "model_module": "@jupyter-widgets/base",
      "model_module_version": "1.2.0",
      "model_name": "LayoutModel",
      "state": {
       "flex": "2"
      }
     },
     "897b27d61ca74b478fb586db7fa6ecbf": {
      "model_module": "@jupyter-widgets/controls",
      "model_module_version": "1.5.0",
      "model_name": "FloatProgressModel",
      "state": {
       "bar_style": "success",
       "description": "5625/5625",
       "layout": "IPY_MODEL_bc808a5092f644fab2fa01aef1ba534a",
       "max": 5625,
       "style": "IPY_MODEL_5c64826cc2a0434f8b757bbf4f8bcde5",
       "value": 5625
      }
     },
     "89dffb565d94470cb773f87dbfd7bb19": {
      "model_module": "@jupyter-widgets/controls",
      "model_module_version": "1.5.0",
      "model_name": "FloatProgressModel",
      "state": {
       "bar_style": "success",
       "description": "5625/5625",
       "layout": "IPY_MODEL_846d4f9de83243618bc193d768acc757",
       "max": 5625,
       "style": "IPY_MODEL_19170b3ec55c453487f5a04d59dc1395",
       "value": 5625
      }
     },
     "89e26cd9c1214aeeb82aad0b9e571dcd": {
      "model_module": "@jupyter-widgets/base",
      "model_module_version": "1.2.0",
      "model_name": "LayoutModel",
      "state": {
       "display": "inline-flex",
       "flex_flow": "row wrap",
       "width": "100%"
      }
     },
     "8a0e02df82074c80a949de20abdec043": {
      "model_module": "@jupyter-widgets/controls",
      "model_module_version": "1.5.0",
      "model_name": "FloatProgressModel",
      "state": {
       "bar_style": "success",
       "description": "5625/5625",
       "layout": "IPY_MODEL_ae4d48160adf4793a6cb5e8168605abe",
       "max": 5625,
       "style": "IPY_MODEL_dc8053ce7e474e34b3a25e7c52797df6",
       "value": 5625
      }
     },
     "8a4d03c2ce8e4ec2a4ac06a3f3b6fe9b": {
      "model_module": "@jupyter-widgets/base",
      "model_module_version": "1.2.0",
      "model_name": "LayoutModel",
      "state": {
       "display": "inline-flex",
       "flex_flow": "row wrap",
       "width": "100%"
      }
     },
     "8a4d2a1dc91146ce8b3149e7ef8cee72": {
      "model_module": "@jupyter-widgets/base",
      "model_module_version": "1.2.0",
      "model_name": "LayoutModel",
      "state": {}
     },
     "8a59fa8fd194427d9c08919877e4fd2f": {
      "model_module": "@jupyter-widgets/base",
      "model_module_version": "1.2.0",
      "model_name": "LayoutModel",
      "state": {}
     },
     "8a6c989747874c6099a14e76ac96bee2": {
      "model_module": "@jupyter-widgets/controls",
      "model_module_version": "1.5.0",
      "model_name": "HTMLModel",
      "state": {
       "layout": "IPY_MODEL_8211ce6d89914a889358887a842260bc",
       "style": "IPY_MODEL_c742902c8ecf483ea69ee8bc94c1d490",
       "value": " ETA: 00:00s - loss: -1.8360 - val_loss: -1.7853"
      }
     },
     "8a759ef2875f460da461e197b4aecb84": {
      "model_module": "@jupyter-widgets/base",
      "model_module_version": "1.2.0",
      "model_name": "LayoutModel",
      "state": {
       "display": "inline-flex",
       "flex_flow": "row wrap",
       "width": "100%"
      }
     },
     "8a8286b3d7d94b1690a65c220996521d": {
      "model_module": "@jupyter-widgets/controls",
      "model_module_version": "1.5.0",
      "model_name": "HTMLModel",
      "state": {
       "layout": "IPY_MODEL_0132ec4eb8954c1cb5e358ab7f83aefb",
       "style": "IPY_MODEL_74b48168a4bc4ed998bf7b6e6fc891a3",
       "value": " ETA: 00:00s - loss: -1.8232 - val_loss: -1.7903"
      }
     },
     "8a8cb6325e814f02a2bfd1c9c85bf9b5": {
      "model_module": "@jupyter-widgets/base",
      "model_module_version": "1.2.0",
      "model_name": "LayoutModel",
      "state": {}
     },
     "8a919fe3539b4fc99eba7d0530327b85": {
      "model_module": "@jupyter-widgets/controls",
      "model_module_version": "1.5.0",
      "model_name": "DescriptionStyleModel",
      "state": {
       "description_width": ""
      }
     },
     "8aa8b631fbb34ab29b628f995884e050": {
      "model_module": "@jupyter-widgets/base",
      "model_module_version": "1.2.0",
      "model_name": "LayoutModel",
      "state": {}
     },
     "8aefcdb9186f4033ab495330ef7a1332": {
      "model_module": "@jupyter-widgets/base",
      "model_module_version": "1.2.0",
      "model_name": "LayoutModel",
      "state": {
       "display": "inline-flex",
       "flex_flow": "row wrap",
       "width": "100%"
      }
     },
     "8b089675db2743fab963a9ca0d6ec46d": {
      "model_module": "@jupyter-widgets/controls",
      "model_module_version": "1.5.0",
      "model_name": "DescriptionStyleModel",
      "state": {
       "description_width": ""
      }
     },
     "8b2309528e344da896703daeb930a57d": {
      "model_module": "@jupyter-widgets/controls",
      "model_module_version": "1.5.0",
      "model_name": "FloatProgressModel",
      "state": {
       "bar_style": "success",
       "description": "5625/5625",
       "layout": "IPY_MODEL_aa46f6ee51304e9eb777bc243f58461f",
       "max": 5625,
       "style": "IPY_MODEL_f5ac9d2289594430a1e0db9899fdd93c",
       "value": 5625
      }
     },
     "8b25d9b1a7b349beae223e3a6fd7215c": {
      "model_module": "@jupyter-widgets/controls",
      "model_module_version": "1.5.0",
      "model_name": "FloatProgressModel",
      "state": {
       "bar_style": "success",
       "description": "5625/5625",
       "layout": "IPY_MODEL_6015c070dc6e4f028f1a341bb1adabf1",
       "max": 5625,
       "style": "IPY_MODEL_72da321fe97541aea02f447d3c48d172",
       "value": 5625
      }
     },
     "8b51ba8dbf474a70ab9ddcea0365d709": {
      "model_module": "@jupyter-widgets/controls",
      "model_module_version": "1.5.0",
      "model_name": "FloatProgressModel",
      "state": {
       "bar_style": "success",
       "description": "5625/5625",
       "layout": "IPY_MODEL_f0b2b81ae76d4cd7a435a54316daa2b2",
       "max": 5625,
       "style": "IPY_MODEL_769d27c23b73470f9212a99be1e8e5a7",
       "value": 5625
      }
     },
     "8b739baf476a4d2b823c754422f68c56": {
      "model_module": "@jupyter-widgets/controls",
      "model_module_version": "1.5.0",
      "model_name": "DescriptionStyleModel",
      "state": {
       "description_width": ""
      }
     },
     "8b8d45b94cc24b04a8240ef26362d0a9": {
      "model_module": "@jupyter-widgets/controls",
      "model_module_version": "1.5.0",
      "model_name": "FloatProgressModel",
      "state": {
       "bar_style": "success",
       "description": "5625/5625",
       "layout": "IPY_MODEL_170521c39ac94a00a514fcf3f112b7b4",
       "max": 5625,
       "style": "IPY_MODEL_a6eefb57f9a04f2a8ec9167a68aa873f",
       "value": 5625
      }
     },
     "8b8db81779314071bec7af812851d783": {
      "model_module": "@jupyter-widgets/controls",
      "model_module_version": "1.5.0",
      "model_name": "FloatProgressModel",
      "state": {
       "bar_style": "success",
       "description": "5625/5625",
       "layout": "IPY_MODEL_8be62015167f4ab58d4fd984c4582b43",
       "max": 5625,
       "style": "IPY_MODEL_850798862abd41b7984e493010e225aa",
       "value": 5625
      }
     },
     "8b9a2310062a4c71aa410725feec55a5": {
      "model_module": "@jupyter-widgets/controls",
      "model_module_version": "1.5.0",
      "model_name": "DescriptionStyleModel",
      "state": {
       "description_width": ""
      }
     },
     "8bc03e5ca5a44780860ddc8ba7372424": {
      "model_module": "@jupyter-widgets/controls",
      "model_module_version": "1.5.0",
      "model_name": "FloatProgressModel",
      "state": {
       "bar_style": "success",
       "description": "5625/5625",
       "layout": "IPY_MODEL_9e4cc139966d4a86bf8a788d0c057d29",
       "max": 5625,
       "style": "IPY_MODEL_7c525d879a8e4056abbc2d48f0367dc4",
       "value": 5625
      }
     },
     "8bc82af300be4db081668ddf823a209c": {
      "model_module": "@jupyter-widgets/controls",
      "model_module_version": "1.5.0",
      "model_name": "FloatProgressModel",
      "state": {
       "bar_style": "success",
       "description": "5625/5625",
       "layout": "IPY_MODEL_a2d13eb48ae94624b4c662027438a012",
       "max": 5625,
       "style": "IPY_MODEL_d697241ea6494f1fa08074f9491757e4",
       "value": 5625
      }
     },
     "8bd107abd6734cddbc494ec1aec0473d": {
      "model_module": "@jupyter-widgets/controls",
      "model_module_version": "1.5.0",
      "model_name": "ProgressStyleModel",
      "state": {
       "description_width": "initial"
      }
     },
     "8bd7696baa0c49e5a22a9c4077560652": {
      "model_module": "@jupyter-widgets/base",
      "model_module_version": "1.2.0",
      "model_name": "LayoutModel",
      "state": {}
     },
     "8be62015167f4ab58d4fd984c4582b43": {
      "model_module": "@jupyter-widgets/base",
      "model_module_version": "1.2.0",
      "model_name": "LayoutModel",
      "state": {
       "flex": "2"
      }
     },
     "8bf01f8a43094edfbffd6d958bbd24bb": {
      "model_module": "@jupyter-widgets/base",
      "model_module_version": "1.2.0",
      "model_name": "LayoutModel",
      "state": {
       "flex": "2"
      }
     },
     "8bf9bf2165214bec9bd2615e56d0b15f": {
      "model_module": "@jupyter-widgets/controls",
      "model_module_version": "1.5.0",
      "model_name": "FloatProgressModel",
      "state": {
       "bar_style": "success",
       "description": "5625/5625",
       "layout": "IPY_MODEL_896f1e422506479eba1d62edf026f0a0",
       "max": 5625,
       "style": "IPY_MODEL_85c186bd704f4759b8d3f5b0dc876b11",
       "value": 5625
      }
     },
     "8c0ca5abfd534dacaa5bebfbe373a3f6": {
      "model_module": "@jupyter-widgets/controls",
      "model_module_version": "1.5.0",
      "model_name": "ProgressStyleModel",
      "state": {
       "description_width": "initial"
      }
     },
     "8c35e6d83ceb4c519dd78b9352e5cddf": {
      "model_module": "@jupyter-widgets/controls",
      "model_module_version": "1.5.0",
      "model_name": "HTMLModel",
      "state": {
       "layout": "IPY_MODEL_4aff06b2df8e40018f34df5d1711e6c6",
       "style": "IPY_MODEL_f98c5e4480ed440a840e6722d89f1227",
       "value": " ETA: 00:00s - loss: -1.8231 - val_loss: -1.8047"
      }
     },
     "8c7a2654674d4409ad9e4e6e2e9da50b": {
      "model_module": "@jupyter-widgets/controls",
      "model_module_version": "1.5.0",
      "model_name": "HTMLModel",
      "state": {
       "layout": "IPY_MODEL_9919cf03eb1b4c5b9c56b0b2ec6a1d77",
       "style": "IPY_MODEL_3b16ebb0559f43798a7f9bedcd87b24d",
       "value": " ETA: 00:00s - loss: 0.0322 - val_loss: 0.0352"
      }
     },
     "8c827a85195545248332b1ef07aadc4a": {
      "model_module": "@jupyter-widgets/base",
      "model_module_version": "1.2.0",
      "model_name": "LayoutModel",
      "state": {
       "display": "inline-flex",
       "flex_flow": "row wrap",
       "width": "100%"
      }
     },
     "8c9912155c39444d94fe40709448f8b1": {
      "model_module": "@jupyter-widgets/controls",
      "model_module_version": "1.5.0",
      "model_name": "HBoxModel",
      "state": {
       "children": [
        "IPY_MODEL_31b508eeaa184637b8106410913f802a",
        "IPY_MODEL_1c725a2393cc4393bead5c10c3edf676"
       ],
       "layout": "IPY_MODEL_b366bcc5ba0e42ba987cc13e0cbe9a2b"
      }
     },
     "8c9beca4cdce43a5b1f9668693d80df5": {
      "model_module": "@jupyter-widgets/controls",
      "model_module_version": "1.5.0",
      "model_name": "HTMLModel",
      "state": {
       "layout": "IPY_MODEL_c08aa8254a624163a0e0f74a932477b3",
       "style": "IPY_MODEL_71838e19d3db4e76bda9050719fc4491",
       "value": " ETA: 00:00s - loss: -1.6884 - val_loss: -1.6816"
      }
     },
     "8ca2fe176aad43d2b7835be222c3e243": {
      "model_module": "@jupyter-widgets/controls",
      "model_module_version": "1.5.0",
      "model_name": "HTMLModel",
      "state": {
       "layout": "IPY_MODEL_9e891388fb5f47d3ae4c651325b63e7a",
       "style": "IPY_MODEL_61b191505505464faf3ac0754d570789",
       "value": " ETA: 00:00s - loss: -1.7549 - val_loss: -1.7517"
      }
     },
     "8cc1e733b3be4906b7685d8bbf7eaeed": {
      "model_module": "@jupyter-widgets/controls",
      "model_module_version": "1.5.0",
      "model_name": "HTMLModel",
      "state": {
       "layout": "IPY_MODEL_5b34ee33b8f042dbb7b27b4199faef88",
       "style": "IPY_MODEL_e0ecaaaab6784e68965a2d03442d266e",
       "value": " ETA: 00:00s - loss: -1.8010 - val_loss: -1.7965"
      }
     },
     "8ccfd8df024b4b64857e0260377b3328": {
      "model_module": "@jupyter-widgets/controls",
      "model_module_version": "1.5.0",
      "model_name": "HBoxModel",
      "state": {
       "children": [
        "IPY_MODEL_0f55bbbd484646f8ace106640872795a",
        "IPY_MODEL_fe3f1755aaa84512ab84a2b5d0563cd1"
       ],
       "layout": "IPY_MODEL_4f1c71ecf98d405d82eaec37a5c8c251"
      }
     },
     "8cd03b65e00340869f3470f18f3f0756": {
      "model_module": "@jupyter-widgets/controls",
      "model_module_version": "1.5.0",
      "model_name": "DescriptionStyleModel",
      "state": {
       "description_width": ""
      }
     },
     "8cd756327163483bb1ac494882f8e579": {
      "model_module": "@jupyter-widgets/controls",
      "model_module_version": "1.5.0",
      "model_name": "DescriptionStyleModel",
      "state": {
       "description_width": ""
      }
     },
     "8cdf65b9c8894282abad42ccacf13d27": {
      "model_module": "@jupyter-widgets/base",
      "model_module_version": "1.2.0",
      "model_name": "LayoutModel",
      "state": {
       "flex": "2"
      }
     },
     "8cf1676d04b04bb9bb39fe6aed5384fb": {
      "model_module": "@jupyter-widgets/controls",
      "model_module_version": "1.5.0",
      "model_name": "HBoxModel",
      "state": {
       "children": [
        "IPY_MODEL_7277d7321f5548a98e669b9d639a7301",
        "IPY_MODEL_fc42656ac8774d93ae975baa2f6081d2"
       ],
       "layout": "IPY_MODEL_3ddfb41746024b2b868fb1c41c26ace0"
      }
     },
     "8d1576056eed4e5da77742aaa79c1356": {
      "model_module": "@jupyter-widgets/controls",
      "model_module_version": "1.5.0",
      "model_name": "ProgressStyleModel",
      "state": {
       "description_width": "initial"
      }
     },
     "8d170b8194d043b0897f031a6e30be9b": {
      "model_module": "@jupyter-widgets/controls",
      "model_module_version": "1.5.0",
      "model_name": "HTMLModel",
      "state": {
       "layout": "IPY_MODEL_96db077ece0746edaaca3b9e9b475bdd",
       "style": "IPY_MODEL_bd1912a0be994c2385a9f9c436c4e769",
       "value": " ETA: 00:00s - loss: 0.0797 - val_loss: 0.0803"
      }
     },
     "8d2b0157aa4344a7b6aebc25c14fed93": {
      "model_module": "@jupyter-widgets/base",
      "model_module_version": "1.2.0",
      "model_name": "LayoutModel",
      "state": {
       "flex": "2"
      }
     },
     "8d3a0db875404e39bd4d2878bfb376c9": {
      "model_module": "@jupyter-widgets/controls",
      "model_module_version": "1.5.0",
      "model_name": "HBoxModel",
      "state": {
       "children": [
        "IPY_MODEL_f6a1b25383994ff4bcdff829537fc15d",
        "IPY_MODEL_fd2098a98f744cdea821ba89e4421c4b"
       ],
       "layout": "IPY_MODEL_85c96a1ef15248fa811007f3a4f27f13"
      }
     },
     "8d52e254c4c644adaa89fad5d8830a41": {
      "model_module": "@jupyter-widgets/base",
      "model_module_version": "1.2.0",
      "model_name": "LayoutModel",
      "state": {
       "display": "inline-flex",
       "flex_flow": "row wrap",
       "width": "100%"
      }
     },
     "8d6916c7c2cc4d6c9caaf81ec0fb3dfc": {
      "model_module": "@jupyter-widgets/controls",
      "model_module_version": "1.5.0",
      "model_name": "DescriptionStyleModel",
      "state": {
       "description_width": ""
      }
     },
     "8d73208deed34cbfb9bb5383650744e1": {
      "model_module": "@jupyter-widgets/controls",
      "model_module_version": "1.5.0",
      "model_name": "ProgressStyleModel",
      "state": {
       "description_width": "initial"
      }
     },
     "8d804f915a5740b590aa174828e071c3": {
      "model_module": "@jupyter-widgets/controls",
      "model_module_version": "1.5.0",
      "model_name": "HBoxModel",
      "state": {
       "children": [
        "IPY_MODEL_358b420388314e6b92e9b6962d87ffdc",
        "IPY_MODEL_ac9200a9892c483482d4c08c4e1f14e3"
       ],
       "layout": "IPY_MODEL_82b4433baf5e4f9eb8e1fb1122ea57fb"
      }
     },
     "8d9068073cd94ed79c581a7b57296059": {
      "model_module": "@jupyter-widgets/base",
      "model_module_version": "1.2.0",
      "model_name": "LayoutModel",
      "state": {
       "display": "inline-flex",
       "flex_flow": "row wrap",
       "width": "100%"
      }
     },
     "8de833929c224771b1b7dfef0bf4f012": {
      "model_module": "@jupyter-widgets/controls",
      "model_module_version": "1.5.0",
      "model_name": "DescriptionStyleModel",
      "state": {
       "description_width": ""
      }
     },
     "8e13aa06889e40f38ff1eeac6703b1f0": {
      "model_module": "@jupyter-widgets/controls",
      "model_module_version": "1.5.0",
      "model_name": "HTMLModel",
      "state": {
       "layout": "IPY_MODEL_3d6633bab43c471da98eb9fc1b7f217c",
       "style": "IPY_MODEL_b233cb75adee4ef08d64208be4e95dbc",
       "value": " ETA: 00:00s - loss: -1.7872 - val_loss: -1.7710"
      }
     },
     "8e1c1be960a04e1b8051819c3b60c90e": {
      "model_module": "@jupyter-widgets/controls",
      "model_module_version": "1.5.0",
      "model_name": "DescriptionStyleModel",
      "state": {
       "description_width": ""
      }
     },
     "8e209cfad21545cfb63b405656cc5b22": {
      "model_module": "@jupyter-widgets/controls",
      "model_module_version": "1.5.0",
      "model_name": "HBoxModel",
      "state": {
       "children": [
        "IPY_MODEL_1d87a965953141cbab74048aa36c38ae",
        "IPY_MODEL_4adf4e10540140b89cc8b30b3cd7434e"
       ],
       "layout": "IPY_MODEL_69b246868f864e4cbfc9595827608d00"
      }
     },
     "8e226a0d2963444d8d9b72d8b79caaa7": {
      "model_module": "@jupyter-widgets/controls",
      "model_module_version": "1.5.0",
      "model_name": "ProgressStyleModel",
      "state": {
       "description_width": "initial"
      }
     },
     "8e3f878362c647509dfd290122c6751b": {
      "model_module": "@jupyter-widgets/controls",
      "model_module_version": "1.5.0",
      "model_name": "HBoxModel",
      "state": {
       "children": [
        "IPY_MODEL_f2505d5fec774e38aebd335fc5c9b3fa",
        "IPY_MODEL_2e5dbc8a8fe7446a8aae197616267b90"
       ],
       "layout": "IPY_MODEL_b59ac157fe0f47f8a62ff0ef0cdc32f6"
      }
     },
     "8e56101e1a6f4f3988d7a670e2a37e5c": {
      "model_module": "@jupyter-widgets/controls",
      "model_module_version": "1.5.0",
      "model_name": "HBoxModel",
      "state": {
       "children": [
        "IPY_MODEL_33cd3c932dd64edcbf3a33fc2655e6e5",
        "IPY_MODEL_d35d3be277f44b1898086636fa7ee1f0"
       ],
       "layout": "IPY_MODEL_668c284ccdf7422ba46fca32b76fb957"
      }
     },
     "8e5aceee41b8462ebbeb261d19c02112": {
      "model_module": "@jupyter-widgets/controls",
      "model_module_version": "1.5.0",
      "model_name": "HTMLModel",
      "state": {
       "layout": "IPY_MODEL_8bd7696baa0c49e5a22a9c4077560652",
       "style": "IPY_MODEL_b195d1489c6c483ba472ad43b64c6c75",
       "value": " ETA: 00:00s - loss: 0.0336 - val_loss: 0.0342"
      }
     },
     "8e60a18d68904b699ca8845c0ba7281e": {
      "model_module": "@jupyter-widgets/controls",
      "model_module_version": "1.5.0",
      "model_name": "HBoxModel",
      "state": {
       "children": [
        "IPY_MODEL_03142de47b6b4e3a8f89f7ea23af30db",
        "IPY_MODEL_4ada4f89edcc48898004e68604fc381a"
       ],
       "layout": "IPY_MODEL_fc6ccf7eaa0743f89628bb0688a63176"
      }
     },
     "8e8006be31284f51b20c449a81c4ccb6": {
      "model_module": "@jupyter-widgets/controls",
      "model_module_version": "1.5.0",
      "model_name": "ProgressStyleModel",
      "state": {
       "description_width": "initial"
      }
     },
     "8e807024531746a7a1236f7eef0c0e51": {
      "model_module": "@jupyter-widgets/controls",
      "model_module_version": "1.5.0",
      "model_name": "HBoxModel",
      "state": {
       "children": [
        "IPY_MODEL_cef4477b0fb1498fa2d25bd33fd0ae2b",
        "IPY_MODEL_ba9fb1f8d2a6470d8488bf769b629343"
       ],
       "layout": "IPY_MODEL_00e5583a44ab43fc8652ad9d83d4eb63"
      }
     },
     "8e83493ac55443df9efbe3deb2d3c083": {
      "model_module": "@jupyter-widgets/controls",
      "model_module_version": "1.5.0",
      "model_name": "HTMLModel",
      "state": {
       "layout": "IPY_MODEL_fbfda0bac0eb484d80e6f387f30dafd4",
       "style": "IPY_MODEL_cb343d5e5efa4dbfb1c62832ce00e101",
       "value": " ETA: 00:00s - loss: -1.6576 - val_loss: -1.6629"
      }
     },
     "8e8858002c514edfbc588ff2bc7034c3": {
      "model_module": "@jupyter-widgets/controls",
      "model_module_version": "1.5.0",
      "model_name": "HBoxModel",
      "state": {
       "children": [
        "IPY_MODEL_590e49f9d29e4ff88a1d89085c3e0430",
        "IPY_MODEL_136e8c7aedf3495f9f2228fad694688d"
       ],
       "layout": "IPY_MODEL_ba3d1e96d19045b299fbcccdfe2705b0"
      }
     },
     "8e95343bde684399a1230eac51348686": {
      "model_module": "@jupyter-widgets/base",
      "model_module_version": "1.2.0",
      "model_name": "LayoutModel",
      "state": {
       "display": "inline-flex",
       "flex_flow": "row wrap",
       "width": "100%"
      }
     },
     "8e9c16d2027b4cdb932cded6ee53ac22": {
      "model_module": "@jupyter-widgets/base",
      "model_module_version": "1.2.0",
      "model_name": "LayoutModel",
      "state": {}
     },
     "8ecc77006a3c4aa19d76b97f0da21eb5": {
      "model_module": "@jupyter-widgets/base",
      "model_module_version": "1.2.0",
      "model_name": "LayoutModel",
      "state": {
       "display": "inline-flex",
       "flex_flow": "row wrap",
       "width": "100%"
      }
     },
     "8ef870f79c19480b9f4e7d00fc90221c": {
      "model_module": "@jupyter-widgets/base",
      "model_module_version": "1.2.0",
      "model_name": "LayoutModel",
      "state": {
       "display": "inline-flex",
       "flex_flow": "row wrap",
       "width": "100%"
      }
     },
     "8f0a3a5bd5834635a5d8f2168d22a0e6": {
      "model_module": "@jupyter-widgets/base",
      "model_module_version": "1.2.0",
      "model_name": "LayoutModel",
      "state": {}
     },
     "8f14d12835e248bf90522133c6e33a7a": {
      "model_module": "@jupyter-widgets/base",
      "model_module_version": "1.2.0",
      "model_name": "LayoutModel",
      "state": {}
     },
     "8f5f51c4c7534a76bd335eeba06597a4": {
      "model_module": "@jupyter-widgets/controls",
      "model_module_version": "1.5.0",
      "model_name": "HBoxModel",
      "state": {
       "children": [
        "IPY_MODEL_536992ce64464ba79b0697cdb24a4c16",
        "IPY_MODEL_9870cdedf6d9494595187d5edb6e9b1e"
       ],
       "layout": "IPY_MODEL_9f8d62ca7c694295ad1801313e5582d3"
      }
     },
     "8f9fd2a08a134f58af37fd8c14fa6ef7": {
      "model_module": "@jupyter-widgets/base",
      "model_module_version": "1.2.0",
      "model_name": "LayoutModel",
      "state": {
       "display": "inline-flex",
       "flex_flow": "row wrap",
       "width": "100%"
      }
     },
     "8fd0c318983447d184286ccce86cf197": {
      "model_module": "@jupyter-widgets/base",
      "model_module_version": "1.2.0",
      "model_name": "LayoutModel",
      "state": {
       "display": "inline-flex",
       "flex_flow": "row wrap",
       "width": "100%"
      }
     },
     "8fd0ca06795449c49e3a13c72d655054": {
      "model_module": "@jupyter-widgets/base",
      "model_module_version": "1.2.0",
      "model_name": "LayoutModel",
      "state": {}
     },
     "8fd0efabb30a4e8ca3b721bf124a055f": {
      "model_module": "@jupyter-widgets/controls",
      "model_module_version": "1.5.0",
      "model_name": "DescriptionStyleModel",
      "state": {
       "description_width": ""
      }
     },
     "8feb0779db5649d8b8847f39e6daa4c5": {
      "model_module": "@jupyter-widgets/controls",
      "model_module_version": "1.5.0",
      "model_name": "HBoxModel",
      "state": {
       "children": [
        "IPY_MODEL_8611c2243d7e49e1a6b2776fac133a9e",
        "IPY_MODEL_6818726ab87e4c60b924e823f00bb5fa"
       ],
       "layout": "IPY_MODEL_ec4e9f39dec648f7b5e583d780b288d5"
      }
     },
     "8ffcaa8a33c2428e92aad27f35f9cff7": {
      "model_module": "@jupyter-widgets/controls",
      "model_module_version": "1.5.0",
      "model_name": "DescriptionStyleModel",
      "state": {
       "description_width": ""
      }
     },
     "901e5142d1404a238cb9595a8a966cc9": {
      "model_module": "@jupyter-widgets/base",
      "model_module_version": "1.2.0",
      "model_name": "LayoutModel",
      "state": {}
     },
     "901ea8ac4a3a4cf690a50fc0b31c6169": {
      "model_module": "@jupyter-widgets/controls",
      "model_module_version": "1.5.0",
      "model_name": "DescriptionStyleModel",
      "state": {
       "description_width": ""
      }
     },
     "9037e3f6e37e4a7cb0b4a66c27819730": {
      "model_module": "@jupyter-widgets/controls",
      "model_module_version": "1.5.0",
      "model_name": "FloatProgressModel",
      "state": {
       "bar_style": "success",
       "description": "5625/5625",
       "layout": "IPY_MODEL_584029cf3f9345be94e96be7d3735554",
       "max": 5625,
       "style": "IPY_MODEL_a0f286e9a44841b09993c6dd0afd2ff8",
       "value": 5625
      }
     },
     "9077947016ca407f895d34add3960380": {
      "model_module": "@jupyter-widgets/controls",
      "model_module_version": "1.5.0",
      "model_name": "DescriptionStyleModel",
      "state": {
       "description_width": ""
      }
     },
     "9083557d61544433b0093ebb1b9b04c1": {
      "model_module": "@jupyter-widgets/controls",
      "model_module_version": "1.5.0",
      "model_name": "DescriptionStyleModel",
      "state": {
       "description_width": ""
      }
     },
     "90ededca53184c91a404ce4114bc83fe": {
      "model_module": "@jupyter-widgets/controls",
      "model_module_version": "1.5.0",
      "model_name": "FloatProgressModel",
      "state": {
       "bar_style": "success",
       "description": "5625/5625",
       "layout": "IPY_MODEL_42ad27d4e3724fd1b92d9d822b188f49",
       "max": 5625,
       "style": "IPY_MODEL_9731c8956ea54b28b90eac326ee2e51f",
       "value": 5625
      }
     },
     "9104ad4cccbe4a679cdad6bc2f3807bb": {
      "model_module": "@jupyter-widgets/controls",
      "model_module_version": "1.5.0",
      "model_name": "HTMLModel",
      "state": {
       "layout": "IPY_MODEL_10f2d15eba154ca9b3ac42dcab984505",
       "style": "IPY_MODEL_6ea1ab8b5848430ea551b704129b4f13",
       "value": " ETA: 00:00s - loss: -1.7779 - val_loss: -1.7703"
      }
     },
     "910cc0f13e1749bb8b53b36bccb0ae95": {
      "model_module": "@jupyter-widgets/controls",
      "model_module_version": "1.5.0",
      "model_name": "HBoxModel",
      "state": {
       "children": [
        "IPY_MODEL_c01b5d54bcc24811bd55a0c7d90ca789",
        "IPY_MODEL_c6eca4b93dfe4d2aa2e5cf6079077811"
       ],
       "layout": "IPY_MODEL_8a4d03c2ce8e4ec2a4ac06a3f3b6fe9b"
      }
     },
     "91219f0372774e188190279e382b470d": {
      "model_module": "@jupyter-widgets/controls",
      "model_module_version": "1.5.0",
      "model_name": "ProgressStyleModel",
      "state": {
       "description_width": "initial"
      }
     },
     "912785b74b1240fea036ee1d95b8b3e5": {
      "model_module": "@jupyter-widgets/base",
      "model_module_version": "1.2.0",
      "model_name": "LayoutModel",
      "state": {
       "flex": "2"
      }
     },
     "912da996a74f4c4dbb52020f6e989f84": {
      "model_module": "@jupyter-widgets/controls",
      "model_module_version": "1.5.0",
      "model_name": "ProgressStyleModel",
      "state": {
       "description_width": "initial"
      }
     },
     "913da30e2bf6444a8e9a5b2bcfb1f46e": {
      "model_module": "@jupyter-widgets/base",
      "model_module_version": "1.2.0",
      "model_name": "LayoutModel",
      "state": {
       "display": "inline-flex",
       "flex_flow": "row wrap",
       "width": "100%"
      }
     },
     "914604d47ad544f58f54827a86ca5463": {
      "model_module": "@jupyter-widgets/controls",
      "model_module_version": "1.5.0",
      "model_name": "ProgressStyleModel",
      "state": {
       "description_width": "initial"
      }
     },
     "9166a89abd4849148c75a4ef9efd55f1": {
      "model_module": "@jupyter-widgets/controls",
      "model_module_version": "1.5.0",
      "model_name": "ProgressStyleModel",
      "state": {
       "description_width": "initial"
      }
     },
     "91671700fe3f41288e4718e987a5ec06": {
      "model_module": "@jupyter-widgets/base",
      "model_module_version": "1.2.0",
      "model_name": "LayoutModel",
      "state": {}
     },
     "916902ba3f924f6583079f89d1bdc02f": {
      "model_module": "@jupyter-widgets/controls",
      "model_module_version": "1.5.0",
      "model_name": "DescriptionStyleModel",
      "state": {
       "description_width": ""
      }
     },
     "916f3ff084ee4034b2207e66179a7860": {
      "model_module": "@jupyter-widgets/base",
      "model_module_version": "1.2.0",
      "model_name": "LayoutModel",
      "state": {
       "display": "inline-flex",
       "flex_flow": "row wrap",
       "width": "100%"
      }
     },
     "917a24b900ff48f2bd2c0e8d441373b2": {
      "model_module": "@jupyter-widgets/controls",
      "model_module_version": "1.5.0",
      "model_name": "DescriptionStyleModel",
      "state": {
       "description_width": ""
      }
     },
     "917fa4ce8c844d8cb9f657ce59e32b1f": {
      "model_module": "@jupyter-widgets/controls",
      "model_module_version": "1.5.0",
      "model_name": "HBoxModel",
      "state": {
       "children": [
        "IPY_MODEL_b2fec12296ee49579005dd906990e179",
        "IPY_MODEL_8647b80db27a4a6690468178190087e6"
       ],
       "layout": "IPY_MODEL_66261f2d65e441fc9a0cdf23245afcc2"
      }
     },
     "9186c77d04cb490bb4ccb7349710d52d": {
      "model_module": "@jupyter-widgets/controls",
      "model_module_version": "1.5.0",
      "model_name": "ProgressStyleModel",
      "state": {
       "description_width": "initial"
      }
     },
     "91a82f5eb43846f894b38e89319162e8": {
      "model_module": "@jupyter-widgets/controls",
      "model_module_version": "1.5.0",
      "model_name": "FloatProgressModel",
      "state": {
       "bar_style": "success",
       "description": "5625/5625",
       "layout": "IPY_MODEL_ffd5e257f5374471ac9db8b586fe1ae7",
       "max": 5625,
       "style": "IPY_MODEL_a7bfd742f33e44c68c7707ca4fa1a00f",
       "value": 5625
      }
     },
     "91b1635fad514014a0c7557b5b5fee4f": {
      "model_module": "@jupyter-widgets/controls",
      "model_module_version": "1.5.0",
      "model_name": "DescriptionStyleModel",
      "state": {
       "description_width": ""
      }
     },
     "91b8d76c2db9488b9f2421947c2ae387": {
      "model_module": "@jupyter-widgets/controls",
      "model_module_version": "1.5.0",
      "model_name": "HBoxModel",
      "state": {
       "children": [
        "IPY_MODEL_96b937b39e644e8ca061ed577cf2bd43",
        "IPY_MODEL_db3c2fc5af134831901e2325feb77240"
       ],
       "layout": "IPY_MODEL_52459da8a3da42b38db2d946263762ff"
      }
     },
     "91b90f4d111a4cbab9f0838a8fceaabd": {
      "model_module": "@jupyter-widgets/controls",
      "model_module_version": "1.5.0",
      "model_name": "DescriptionStyleModel",
      "state": {
       "description_width": ""
      }
     },
     "91d1552b048b4ba099669e2421b6eb08": {
      "model_module": "@jupyter-widgets/base",
      "model_module_version": "1.2.0",
      "model_name": "LayoutModel",
      "state": {
       "flex": "2"
      }
     },
     "91e58e92232e4dbd8868b8a2e843c6b3": {
      "model_module": "@jupyter-widgets/controls",
      "model_module_version": "1.5.0",
      "model_name": "HBoxModel",
      "state": {
       "children": [
        "IPY_MODEL_aa5f73e38bf943379d057e9f55373fc1",
        "IPY_MODEL_d670c2b370ac4f26b6d2d630c6483b03"
       ],
       "layout": "IPY_MODEL_487e1d99a14f4533b65f0fefc783e06e"
      }
     },
     "91eafce7a4e341de8ce983ff874f686f": {
      "model_module": "@jupyter-widgets/controls",
      "model_module_version": "1.5.0",
      "model_name": "DescriptionStyleModel",
      "state": {
       "description_width": ""
      }
     },
     "91f68f113dba4ab7be76fe6bbaf12c83": {
      "model_module": "@jupyter-widgets/controls",
      "model_module_version": "1.5.0",
      "model_name": "HTMLModel",
      "state": {
       "layout": "IPY_MODEL_646f980d950349189ce7973cb42a5367",
       "style": "IPY_MODEL_7c6d6895e8a64a0f8f296b5698de9c88",
       "value": " ETA: 00:00s - loss: -1.8310 - val_loss: -1.8051"
      }
     },
     "91fa6c9135d340d88f408b9c9ee13350": {
      "model_module": "@jupyter-widgets/controls",
      "model_module_version": "1.5.0",
      "model_name": "HTMLModel",
      "state": {
       "layout": "IPY_MODEL_fd83f72854bd40dbb65746245ab0540d",
       "style": "IPY_MODEL_d028cb6744814bc7a535071ffe19b376",
       "value": " ETA: 00:00s - loss: 0.0577 - val_loss: 0.0421"
      }
     },
     "92115ebf6e3841d8b67c94172f5b4f7b": {
      "model_module": "@jupyter-widgets/base",
      "model_module_version": "1.2.0",
      "model_name": "LayoutModel",
      "state": {
       "display": "inline-flex",
       "flex_flow": "row wrap",
       "width": "100%"
      }
     },
     "9233af4fa4e645f186d16893d55e6282": {
      "model_module": "@jupyter-widgets/base",
      "model_module_version": "1.2.0",
      "model_name": "LayoutModel",
      "state": {}
     },
     "9242f0d382444a4bacaeae5ce72906b5": {
      "model_module": "@jupyter-widgets/base",
      "model_module_version": "1.2.0",
      "model_name": "LayoutModel",
      "state": {
       "display": "inline-flex",
       "flex_flow": "row wrap",
       "width": "100%"
      }
     },
     "92465f5608ed425b87cbe71794004425": {
      "model_module": "@jupyter-widgets/base",
      "model_module_version": "1.2.0",
      "model_name": "LayoutModel",
      "state": {}
     },
     "92511c63e8234b318a0734c5a005d16b": {
      "model_module": "@jupyter-widgets/base",
      "model_module_version": "1.2.0",
      "model_name": "LayoutModel",
      "state": {}
     },
     "92543d8c407445869abb88225819541f": {
      "model_module": "@jupyter-widgets/controls",
      "model_module_version": "1.5.0",
      "model_name": "ProgressStyleModel",
      "state": {
       "description_width": "initial"
      }
     },
     "92627dda85bd4056a2b98f3636798ea4": {
      "model_module": "@jupyter-widgets/controls",
      "model_module_version": "1.5.0",
      "model_name": "DescriptionStyleModel",
      "state": {
       "description_width": ""
      }
     },
     "9267d9d669014c118bf90f4a5cac0aeb": {
      "model_module": "@jupyter-widgets/controls",
      "model_module_version": "1.5.0",
      "model_name": "ProgressStyleModel",
      "state": {
       "description_width": "initial"
      }
     },
     "926f6df2795a458a90c5c35103511f97": {
      "model_module": "@jupyter-widgets/controls",
      "model_module_version": "1.5.0",
      "model_name": "DescriptionStyleModel",
      "state": {
       "description_width": ""
      }
     },
     "9295ca9ae59944119e4640a1b5afd752": {
      "model_module": "@jupyter-widgets/controls",
      "model_module_version": "1.5.0",
      "model_name": "FloatProgressModel",
      "state": {
       "bar_style": "success",
       "description": "5625/5625",
       "layout": "IPY_MODEL_0799271fb6254e90838d9c36d8046088",
       "max": 5625,
       "style": "IPY_MODEL_7fef4b35f3ee4d08959173ce89747099",
       "value": 5625
      }
     },
     "92a607a33b31412681a8fdf070f1dd24": {
      "model_module": "@jupyter-widgets/base",
      "model_module_version": "1.2.0",
      "model_name": "LayoutModel",
      "state": {}
     },
     "92d2a83579a947b0b67deadc40b3538f": {
      "model_module": "@jupyter-widgets/controls",
      "model_module_version": "1.5.0",
      "model_name": "FloatProgressModel",
      "state": {
       "bar_style": "success",
       "description": "5625/5625",
       "layout": "IPY_MODEL_95fb8894bef847d3ab89011954449506",
       "max": 5625,
       "style": "IPY_MODEL_82ad7df7a65c409d98767fb66e04ece2",
       "value": 5625
      }
     },
     "92fb1111a85245e2a0e9f0d7a647b334": {
      "model_module": "@jupyter-widgets/base",
      "model_module_version": "1.2.0",
      "model_name": "LayoutModel",
      "state": {
       "flex": "2"
      }
     },
     "930c821ca06c4f13a99b772fbd0663e3": {
      "model_module": "@jupyter-widgets/controls",
      "model_module_version": "1.5.0",
      "model_name": "FloatProgressModel",
      "state": {
       "bar_style": "success",
       "description": "5625/5625",
       "layout": "IPY_MODEL_2b1c6618c8304961837bb25351ab6f37",
       "max": 5625,
       "style": "IPY_MODEL_7d129f323ae4421fae18a3059c6381d2",
       "value": 5625
      }
     },
     "931ab5c6f6984c9da8ded8b504280bbf": {
      "model_module": "@jupyter-widgets/controls",
      "model_module_version": "1.5.0",
      "model_name": "HBoxModel",
      "state": {
       "children": [
        "IPY_MODEL_c5224c45068949f18322fa123e51d123",
        "IPY_MODEL_9f50dafc9b794888bd30fb7577295011"
       ],
       "layout": "IPY_MODEL_c28e499fee0346d988e9fe26b995a440"
      }
     },
     "9362f0b2e8fc43fe9acbbdd558c5f027": {
      "model_module": "@jupyter-widgets/base",
      "model_module_version": "1.2.0",
      "model_name": "LayoutModel",
      "state": {
       "flex": "2"
      }
     },
     "9372ef1931634ac8919155746a47b322": {
      "model_module": "@jupyter-widgets/controls",
      "model_module_version": "1.5.0",
      "model_name": "HBoxModel",
      "state": {
       "children": [
        "IPY_MODEL_8a0e02df82074c80a949de20abdec043",
        "IPY_MODEL_2827278e316949c995ba8d72d4dcbe46"
       ],
       "layout": "IPY_MODEL_0232d52624c94ba0b0a650f4a85e19c7"
      }
     },
     "9374605593684b9d9b465f728d10d475": {
      "model_module": "@jupyter-widgets/controls",
      "model_module_version": "1.5.0",
      "model_name": "DescriptionStyleModel",
      "state": {
       "description_width": ""
      }
     },
     "93799bbf8f0545aa8d4aba0a8ab0f454": {
      "model_module": "@jupyter-widgets/base",
      "model_module_version": "1.2.0",
      "model_name": "LayoutModel",
      "state": {
       "display": "inline-flex",
       "flex_flow": "row wrap",
       "width": "100%"
      }
     },
     "937eb6020acb44a89e71f64f2512a441": {
      "model_module": "@jupyter-widgets/base",
      "model_module_version": "1.2.0",
      "model_name": "LayoutModel",
      "state": {}
     },
     "93e6c045040d46839f01e7c8bf65218c": {
      "model_module": "@jupyter-widgets/controls",
      "model_module_version": "1.5.0",
      "model_name": "FloatProgressModel",
      "state": {
       "bar_style": "success",
       "description": "5625/5625",
       "layout": "IPY_MODEL_661f6847712f4fb2846863b3e901724c",
       "max": 5625,
       "style": "IPY_MODEL_f31ef8d597e742c7b4bd7b6a1b1f0166",
       "value": 5625
      }
     },
     "93eb3a47244a42eca1508bac85e00760": {
      "model_module": "@jupyter-widgets/controls",
      "model_module_version": "1.5.0",
      "model_name": "FloatProgressModel",
      "state": {
       "bar_style": "success",
       "description": "5625/5625",
       "layout": "IPY_MODEL_5f664d5aab374d17b410ee310c07d954",
       "max": 5625,
       "style": "IPY_MODEL_7918c64f4f2341ad94f3f7d692975045",
       "value": 5625
      }
     },
     "93f81e8954ba40c7a10e341f932596d7": {
      "model_module": "@jupyter-widgets/controls",
      "model_module_version": "1.5.0",
      "model_name": "FloatProgressModel",
      "state": {
       "bar_style": "success",
       "description": "5625/5625",
       "layout": "IPY_MODEL_83b5c99b8a0640039a933e782760867f",
       "max": 5625,
       "style": "IPY_MODEL_c7331444a8e84620a6df77f25a54092b",
       "value": 5625
      }
     },
     "940c115b4c4648a6b71048eeb6a20a8d": {
      "model_module": "@jupyter-widgets/base",
      "model_module_version": "1.2.0",
      "model_name": "LayoutModel",
      "state": {}
     },
     "942833d4e13747e7afeaf04741df8d59": {
      "model_module": "@jupyter-widgets/base",
      "model_module_version": "1.2.0",
      "model_name": "LayoutModel",
      "state": {
       "display": "inline-flex",
       "flex_flow": "row wrap",
       "width": "100%"
      }
     },
     "943bebc0c6d94636b019666cac2688b8": {
      "model_module": "@jupyter-widgets/controls",
      "model_module_version": "1.5.0",
      "model_name": "FloatProgressModel",
      "state": {
       "bar_style": "success",
       "description": "5625/5625",
       "layout": "IPY_MODEL_fe5c779ece274e68a6420342c7a597b5",
       "max": 5625,
       "style": "IPY_MODEL_75731de21ab74fb28cd8ccefe8c7ab6d",
       "value": 5625
      }
     },
     "9458d40f5db74407bc41e113a6f425b8": {
      "model_module": "@jupyter-widgets/controls",
      "model_module_version": "1.5.0",
      "model_name": "HBoxModel",
      "state": {
       "children": [
        "IPY_MODEL_519767beb8704ac59b27226fbe598192",
        "IPY_MODEL_2b5ab4686fc44cbf924f4a43b906f9dd"
       ],
       "layout": "IPY_MODEL_9dda272f3be140578a91d1a16878c9db"
      }
     },
     "9475e14cce5a4da5a3cd8c9f5fe4d95e": {
      "model_module": "@jupyter-widgets/controls",
      "model_module_version": "1.5.0",
      "model_name": "DescriptionStyleModel",
      "state": {
       "description_width": ""
      }
     },
     "94898c9aa17643aba8a3d90fbd444d5c": {
      "model_module": "@jupyter-widgets/controls",
      "model_module_version": "1.5.0",
      "model_name": "FloatProgressModel",
      "state": {
       "bar_style": "success",
       "description": "5625/5625",
       "layout": "IPY_MODEL_8bf01f8a43094edfbffd6d958bbd24bb",
       "max": 5625,
       "style": "IPY_MODEL_b8a83d711b5c4ca581b6dc6264219c7d",
       "value": 5625
      }
     },
     "94c94c6603d04032a13f82fa0b649fa0": {
      "model_module": "@jupyter-widgets/controls",
      "model_module_version": "1.5.0",
      "model_name": "FloatProgressModel",
      "state": {
       "bar_style": "success",
       "description": "5625/5625",
       "layout": "IPY_MODEL_79e699b3e3ed4ae68bf2c0094945e6a7",
       "max": 5625,
       "style": "IPY_MODEL_3299e48370f74adc8aaef7fb719e5bfb",
       "value": 5625
      }
     },
     "94d2e07e69b94366b52990c28ff80fb0": {
      "model_module": "@jupyter-widgets/controls",
      "model_module_version": "1.5.0",
      "model_name": "ProgressStyleModel",
      "state": {
       "description_width": "initial"
      }
     },
     "94db369305ae40e9944b506e779234e8": {
      "model_module": "@jupyter-widgets/base",
      "model_module_version": "1.2.0",
      "model_name": "LayoutModel",
      "state": {
       "flex": "2"
      }
     },
     "94e2b6c41d484cac914d198a924d1c0f": {
      "model_module": "@jupyter-widgets/base",
      "model_module_version": "1.2.0",
      "model_name": "LayoutModel",
      "state": {
       "flex": "2"
      }
     },
     "94f1fb101d9c4c01ae2bf255d8b320e1": {
      "model_module": "@jupyter-widgets/controls",
      "model_module_version": "1.5.0",
      "model_name": "HBoxModel",
      "state": {
       "children": [
        "IPY_MODEL_e2a0161a73384ccf9c4259339aafa6c4",
        "IPY_MODEL_a737b7a90ed24ad89e27d0ed9d237621"
       ],
       "layout": "IPY_MODEL_a559afa09fd141a287cac88b085caced"
      }
     },
     "94fbd74eaf5843fa964ff0390dbbf93e": {
      "model_module": "@jupyter-widgets/controls",
      "model_module_version": "1.5.0",
      "model_name": "HTMLModel",
      "state": {
       "layout": "IPY_MODEL_32663c9bd08a490290a19903ac29bd7e",
       "style": "IPY_MODEL_b0a2b770422747a3b8974c88e40fd26e",
       "value": " 75/1000 ETA: 25:43:45s,  100.14s/epochs"
      }
     },
     "95004dd236c6448f83120fe2ce81444f": {
      "model_module": "@jupyter-widgets/base",
      "model_module_version": "1.2.0",
      "model_name": "LayoutModel",
      "state": {}
     },
     "95091b8f5cb94905b9edfb5ee5d8016a": {
      "model_module": "@jupyter-widgets/base",
      "model_module_version": "1.2.0",
      "model_name": "LayoutModel",
      "state": {
       "flex": "2"
      }
     },
     "951dcf79845e4bf4af201220a460c1ba": {
      "model_module": "@jupyter-widgets/base",
      "model_module_version": "1.2.0",
      "model_name": "LayoutModel",
      "state": {
       "display": "inline-flex",
       "flex_flow": "row wrap",
       "width": "100%"
      }
     },
     "95816c5b0291474fb43438d209d4c56a": {
      "model_module": "@jupyter-widgets/controls",
      "model_module_version": "1.5.0",
      "model_name": "HTMLModel",
      "state": {
       "layout": "IPY_MODEL_eec8d62feeaf4580b444ff005eaf01ee",
       "style": "IPY_MODEL_c403f92271244c4dbbb42a224b1b1cab",
       "value": " ETA: 00:00s - loss: 0.0288 - val_loss: 0.0286"
      }
     },
     "959f553747144858aa4f431ccaccd7e2": {
      "model_module": "@jupyter-widgets/base",
      "model_module_version": "1.2.0",
      "model_name": "LayoutModel",
      "state": {
       "display": "inline-flex",
       "flex_flow": "row wrap",
       "width": "100%"
      }
     },
     "95ed5dd6dadd4b4784bf06636486a0c6": {
      "model_module": "@jupyter-widgets/controls",
      "model_module_version": "1.5.0",
      "model_name": "ProgressStyleModel",
      "state": {
       "description_width": "initial"
      }
     },
     "95f3241f67eb4d22bf5bd3ce100b0db6": {
      "model_module": "@jupyter-widgets/base",
      "model_module_version": "1.2.0",
      "model_name": "LayoutModel",
      "state": {
       "flex": "2"
      }
     },
     "95fb8894bef847d3ab89011954449506": {
      "model_module": "@jupyter-widgets/base",
      "model_module_version": "1.2.0",
      "model_name": "LayoutModel",
      "state": {
       "flex": "2"
      }
     },
     "962f3835d05f475db371a2197abdf190": {
      "model_module": "@jupyter-widgets/controls",
      "model_module_version": "1.5.0",
      "model_name": "HTMLModel",
      "state": {
       "layout": "IPY_MODEL_8f14d12835e248bf90522133c6e33a7a",
       "style": "IPY_MODEL_64f30a578f3d4c8388f6a23e082f4a6f",
       "value": " ETA: 00:00s - loss: 0.0319 - val_loss: 0.0345"
      }
     },
     "963503671169420a86ce570bb01dee5c": {
      "model_module": "@jupyter-widgets/controls",
      "model_module_version": "1.5.0",
      "model_name": "HBoxModel",
      "state": {
       "children": [
        "IPY_MODEL_b165a1a8826742c29eee9204cb448796",
        "IPY_MODEL_456bcb9568434d55ab229526b83ba7ed"
       ],
       "layout": "IPY_MODEL_88fa4b5ad4de4921a551cf270dcafb4d"
      }
     },
     "963d30858901456b990bf542066686c7": {
      "model_module": "@jupyter-widgets/base",
      "model_module_version": "1.2.0",
      "model_name": "LayoutModel",
      "state": {}
     },
     "96903b1f0a1d4ddba8c8f9ad87fe894c": {
      "model_module": "@jupyter-widgets/controls",
      "model_module_version": "1.5.0",
      "model_name": "HBoxModel",
      "state": {
       "children": [
        "IPY_MODEL_e270acede0d54fe7a222b89e6f916971",
        "IPY_MODEL_6e4bba1996294769b73b3f646e61fb5d"
       ],
       "layout": "IPY_MODEL_ccb4a4a42cbf4e3d84934a29faa08359"
      }
     },
     "96a51ced8b80452082ca540865110cd4": {
      "model_module": "@jupyter-widgets/base",
      "model_module_version": "1.2.0",
      "model_name": "LayoutModel",
      "state": {
       "flex": "2"
      }
     },
     "96b937b39e644e8ca061ed577cf2bd43": {
      "model_module": "@jupyter-widgets/controls",
      "model_module_version": "1.5.0",
      "model_name": "FloatProgressModel",
      "state": {
       "bar_style": "success",
       "description": "5625/5625",
       "layout": "IPY_MODEL_3310c9a25f594ae38ef730468ba66857",
       "max": 5625,
       "style": "IPY_MODEL_d475770b28954f818b5953a42567df7b",
       "value": 5625
      }
     },
     "96bf507c3b2d45eb8a66e8ca48b2dabd": {
      "model_module": "@jupyter-widgets/controls",
      "model_module_version": "1.5.0",
      "model_name": "ProgressStyleModel",
      "state": {
       "description_width": "initial"
      }
     },
     "96d50ac53bb04914b501c20503f868d8": {
      "model_module": "@jupyter-widgets/controls",
      "model_module_version": "1.5.0",
      "model_name": "ProgressStyleModel",
      "state": {
       "description_width": "initial"
      }
     },
     "96d7aabe87fd49db853d5c46aaf6721c": {
      "model_module": "@jupyter-widgets/controls",
      "model_module_version": "1.5.0",
      "model_name": "DescriptionStyleModel",
      "state": {
       "description_width": ""
      }
     },
     "96db077ece0746edaaca3b9e9b475bdd": {
      "model_module": "@jupyter-widgets/base",
      "model_module_version": "1.2.0",
      "model_name": "LayoutModel",
      "state": {}
     },
     "96e9e2f229754834a058c613d51dc044": {
      "model_module": "@jupyter-widgets/controls",
      "model_module_version": "1.5.0",
      "model_name": "HBoxModel",
      "state": {
       "children": [
        "IPY_MODEL_93e6c045040d46839f01e7c8bf65218c",
        "IPY_MODEL_1995b5aeb1b9415a89b5d5ec8dda7124"
       ],
       "layout": "IPY_MODEL_d0bcc8ca335541ceb574a03604b8523b"
      }
     },
     "96fbb26a9b634009950dd20b2695a999": {
      "model_module": "@jupyter-widgets/base",
      "model_module_version": "1.2.0",
      "model_name": "LayoutModel",
      "state": {
       "flex": "2"
      }
     },
     "970d3cb62be84d54805b7b0247eebe86": {
      "model_module": "@jupyter-widgets/controls",
      "model_module_version": "1.5.0",
      "model_name": "HBoxModel",
      "state": {
       "children": [
        "IPY_MODEL_2a1d2297b0494a38b95101f82c3379b2",
        "IPY_MODEL_6d6d593704b140ffbe67f364fddade85"
       ],
       "layout": "IPY_MODEL_a368a5dbb71945b2ad7a961bf0827ac2"
      }
     },
     "9723fa553c2c406ebbb5c8b0d7cd85c3": {
      "model_module": "@jupyter-widgets/base",
      "model_module_version": "1.2.0",
      "model_name": "LayoutModel",
      "state": {
       "display": "inline-flex",
       "flex_flow": "row wrap",
       "width": "100%"
      }
     },
     "9731c8956ea54b28b90eac326ee2e51f": {
      "model_module": "@jupyter-widgets/controls",
      "model_module_version": "1.5.0",
      "model_name": "ProgressStyleModel",
      "state": {
       "description_width": "initial"
      }
     },
     "97653ff20653463785d87702d46b1295": {
      "model_module": "@jupyter-widgets/controls",
      "model_module_version": "1.5.0",
      "model_name": "DescriptionStyleModel",
      "state": {
       "description_width": ""
      }
     },
     "9769268b6828444a80c543dd11c4a284": {
      "model_module": "@jupyter-widgets/controls",
      "model_module_version": "1.5.0",
      "model_name": "HBoxModel",
      "state": {
       "children": [
        "IPY_MODEL_0e0682aa3cda40bdb98adad0bfe42f3c",
        "IPY_MODEL_f3486e3e950640ab811f43618ffeb612"
       ],
       "layout": "IPY_MODEL_a32a7768e0df4c7997766ecf76407148"
      }
     },
     "976f9fb397f04480b10088c1b85c1cf6": {
      "model_module": "@jupyter-widgets/base",
      "model_module_version": "1.2.0",
      "model_name": "LayoutModel",
      "state": {}
     },
     "979e5d6d2f254773ac70b0ab91c74f96": {
      "model_module": "@jupyter-widgets/base",
      "model_module_version": "1.2.0",
      "model_name": "LayoutModel",
      "state": {}
     },
     "97cd74779d3f4de39a19137a5aca443d": {
      "model_module": "@jupyter-widgets/controls",
      "model_module_version": "1.5.0",
      "model_name": "DescriptionStyleModel",
      "state": {
       "description_width": ""
      }
     },
     "97e82bcc42d144e7aae588113559a0ef": {
      "model_module": "@jupyter-widgets/controls",
      "model_module_version": "1.5.0",
      "model_name": "FloatProgressModel",
      "state": {
       "bar_style": "success",
       "description": "5625/5625",
       "layout": "IPY_MODEL_d771c706db3a405bbcb3f320c36c2dae",
       "max": 5625,
       "style": "IPY_MODEL_56aa5f1698d74c7b9e61f58e2235022c",
       "value": 5625
      }
     },
     "980da8de2ea245ebae6805d5c8295a95": {
      "model_module": "@jupyter-widgets/controls",
      "model_module_version": "1.5.0",
      "model_name": "HTMLModel",
      "state": {
       "layout": "IPY_MODEL_0cacffdcd7044c0c9b7ceda1302bd62a",
       "style": "IPY_MODEL_306ad727cdd643588db7851a6d1ca519",
       "value": " ETA: 00:00s - loss: 0.0313 - val_loss: 0.0316"
      }
     },
     "98125015c4394e0594e65e597623f325": {
      "model_module": "@jupyter-widgets/controls",
      "model_module_version": "1.5.0",
      "model_name": "DescriptionStyleModel",
      "state": {
       "description_width": ""
      }
     },
     "983d29ea7bb8456792db7ccb03d63ec0": {
      "model_module": "@jupyter-widgets/base",
      "model_module_version": "1.2.0",
      "model_name": "LayoutModel",
      "state": {
       "flex": "2"
      }
     },
     "9844028190df4508ba4b97a58046a5d6": {
      "model_module": "@jupyter-widgets/controls",
      "model_module_version": "1.5.0",
      "model_name": "DescriptionStyleModel",
      "state": {
       "description_width": ""
      }
     },
     "985ce708939e4cc885bc17004bd0d500": {
      "model_module": "@jupyter-widgets/controls",
      "model_module_version": "1.5.0",
      "model_name": "FloatProgressModel",
      "state": {
       "bar_style": "success",
       "description": "5625/5625",
       "layout": "IPY_MODEL_da1e281b53734b818caf4ba66cfb0a5c",
       "max": 5625,
       "style": "IPY_MODEL_21f89a6da69a4fae838ffb3bc9ba1155",
       "value": 5625
      }
     },
     "986560770063484ba54aa4443759716f": {
      "model_module": "@jupyter-widgets/controls",
      "model_module_version": "1.5.0",
      "model_name": "ProgressStyleModel",
      "state": {
       "description_width": "initial"
      }
     },
     "9870cdedf6d9494595187d5edb6e9b1e": {
      "model_module": "@jupyter-widgets/controls",
      "model_module_version": "1.5.0",
      "model_name": "HTMLModel",
      "state": {
       "layout": "IPY_MODEL_c97128b02af04898bcdd8f0fc49549d1",
       "style": "IPY_MODEL_0b7610e515674837b9ea7888f81631e8",
       "value": " ETA: 00:00s - loss: -1.8297 - val_loss: -1.8013"
      }
     },
     "98743ee6569347a4b534dfe0087c0bed": {
      "model_module": "@jupyter-widgets/base",
      "model_module_version": "1.2.0",
      "model_name": "LayoutModel",
      "state": {
       "flex": "2"
      }
     },
     "987d7b8d32454d3f89e5a6dbe43534e0": {
      "model_module": "@jupyter-widgets/controls",
      "model_module_version": "1.5.0",
      "model_name": "HBoxModel",
      "state": {
       "children": [
        "IPY_MODEL_9b9503ccadcd491a9eb04f66f0de879b",
        "IPY_MODEL_8011ea2e174b48d8a9b34afb424792e1"
       ],
       "layout": "IPY_MODEL_652983fb717d4e04af9ec75fcc9ba132"
      }
     },
     "987e1b617e3a410795c638e91b3c9af1": {
      "model_module": "@jupyter-widgets/controls",
      "model_module_version": "1.5.0",
      "model_name": "HTMLModel",
      "state": {
       "layout": "IPY_MODEL_2d5f592838c54d118bfa4d606ce9a1df",
       "style": "IPY_MODEL_110cbccd6a8549dc9bac23cc87bdfe31",
       "value": " ETA: 00:00s - loss: 0.0283 - val_loss: 0.0288"
      }
     },
     "987e8667e4ae4292b9fa7707c6f5d65d": {
      "model_module": "@jupyter-widgets/controls",
      "model_module_version": "1.5.0",
      "model_name": "FloatProgressModel",
      "state": {
       "bar_style": "success",
       "description": "5625/5625",
       "layout": "IPY_MODEL_e1d10beff68d4b23b49692d4895401c0",
       "max": 5625,
       "style": "IPY_MODEL_0a37a1f508564c169f2ff0541f07e293",
       "value": 5625
      }
     },
     "988024c86f25408cb7ce0d291cab8b77": {
      "model_module": "@jupyter-widgets/controls",
      "model_module_version": "1.5.0",
      "model_name": "ProgressStyleModel",
      "state": {
       "description_width": "initial"
      }
     },
     "989ff4a83fbb468eb81465cc71a339ec": {
      "model_module": "@jupyter-widgets/controls",
      "model_module_version": "1.5.0",
      "model_name": "HTMLModel",
      "state": {
       "layout": "IPY_MODEL_a214e16165c34b03b3ff619a957c7291",
       "style": "IPY_MODEL_8cd756327163483bb1ac494882f8e579",
       "value": " ETA: 00:00s - loss: -1.2959 - val_loss: -1.3660"
      }
     },
     "98cdf97ec41443069ee39fe6f656da84": {
      "model_module": "@jupyter-widgets/base",
      "model_module_version": "1.2.0",
      "model_name": "LayoutModel",
      "state": {
       "flex": "2"
      }
     },
     "98e01938824a4aacaf7050f7846237cc": {
      "model_module": "@jupyter-widgets/controls",
      "model_module_version": "1.5.0",
      "model_name": "HTMLModel",
      "state": {
       "layout": "IPY_MODEL_b226e7214b024bdd885c672c9f7be359",
       "style": "IPY_MODEL_20326180cef842ddb648f4a1f992144c",
       "value": " ETA: 00:00s - loss: 0.0713 - val_loss: 0.0730"
      }
     },
     "9919cf03eb1b4c5b9c56b0b2ec6a1d77": {
      "model_module": "@jupyter-widgets/base",
      "model_module_version": "1.2.0",
      "model_name": "LayoutModel",
      "state": {}
     },
     "991cd1e2d1b04518ae9f70f73326d978": {
      "model_module": "@jupyter-widgets/controls",
      "model_module_version": "1.5.0",
      "model_name": "HTMLModel",
      "state": {
       "layout": "IPY_MODEL_32e8ccc1a6d7462dba868277b1d4425e",
       "style": "IPY_MODEL_8a919fe3539b4fc99eba7d0530327b85",
       "value": " ETA: 00:00s - loss: 0.0261 - val_loss: 0.0289"
      }
     },
     "99207ee2ee484529b9bcd616e36011c3": {
      "model_module": "@jupyter-widgets/controls",
      "model_module_version": "1.5.0",
      "model_name": "HTMLModel",
      "state": {
       "layout": "IPY_MODEL_a62085874f0e45eb88481a1acfab1b2c",
       "style": "IPY_MODEL_3be203e69c68485d8d8ae470607de86f",
       "value": " ETA: 00:00s - loss: -1.8372 - val_loss: -1.7975"
      }
     },
     "99226f2be7d44682bc139cc704a77c59": {
      "model_module": "@jupyter-widgets/controls",
      "model_module_version": "1.5.0",
      "model_name": "HTMLModel",
      "state": {
       "layout": "IPY_MODEL_6c557be1fa1a499b84fc7486bf255db9",
       "style": "IPY_MODEL_e3e0151b62634df497bf742546b1a033",
       "value": " ETA: 00:00s - loss: -1.8109 - val_loss: -1.7887"
      }
     },
     "994a670e65c045328e7962dbb043c6ee": {
      "model_module": "@jupyter-widgets/controls",
      "model_module_version": "1.5.0",
      "model_name": "FloatProgressModel",
      "state": {
       "bar_style": "success",
       "description": "5625/5625",
       "layout": "IPY_MODEL_ccf005a649d84f2ca254d2833b731bfd",
       "max": 5625,
       "style": "IPY_MODEL_2017955aff4f4331affc65b52a5eb647",
       "value": 5625
      }
     },
     "99605d05fa0b45bbab9d3c52ee59c507": {
      "model_module": "@jupyter-widgets/base",
      "model_module_version": "1.2.0",
      "model_name": "LayoutModel",
      "state": {}
     },
     "9967b488ab4c4490a57c7386dc466ba1": {
      "model_module": "@jupyter-widgets/controls",
      "model_module_version": "1.5.0",
      "model_name": "ProgressStyleModel",
      "state": {
       "description_width": "initial"
      }
     },
     "997551a19cdf46de9d337a7d05aa5387": {
      "model_module": "@jupyter-widgets/base",
      "model_module_version": "1.2.0",
      "model_name": "LayoutModel",
      "state": {
       "display": "inline-flex",
       "flex_flow": "row wrap",
       "width": "100%"
      }
     },
     "99982e8b88ee4727b1e1681c9c566d53": {
      "model_module": "@jupyter-widgets/base",
      "model_module_version": "1.2.0",
      "model_name": "LayoutModel",
      "state": {
       "display": "inline-flex",
       "flex_flow": "row wrap",
       "width": "100%"
      }
     },
     "99a8b45632434d808005bfce7bfae851": {
      "model_module": "@jupyter-widgets/controls",
      "model_module_version": "1.5.0",
      "model_name": "FloatProgressModel",
      "state": {
       "bar_style": "success",
       "description": "5625/5625",
       "layout": "IPY_MODEL_2a1584e0fb2e496ead3cdc1a3073a294",
       "max": 5625,
       "style": "IPY_MODEL_e9d65d0c9ff946e39bb6a2582422759d",
       "value": 5625
      }
     },
     "99e3f07f348f4fd597a0c0d3359ea47f": {
      "model_module": "@jupyter-widgets/base",
      "model_module_version": "1.2.0",
      "model_name": "LayoutModel",
      "state": {}
     },
     "9a0d7a899385465e9956a64f85961792": {
      "model_module": "@jupyter-widgets/controls",
      "model_module_version": "1.5.0",
      "model_name": "HBoxModel",
      "state": {
       "children": [
        "IPY_MODEL_00c34de04f83497e83b9bde12c265078",
        "IPY_MODEL_123c906b0fdf47e7a7c586ff9e37d5ae"
       ],
       "layout": "IPY_MODEL_587d525597744b39aa6bf9b6204eb075"
      }
     },
     "9a161d6bda764f24bd4b33f0ef033704": {
      "model_module": "@jupyter-widgets/controls",
      "model_module_version": "1.5.0",
      "model_name": "HTMLModel",
      "state": {
       "layout": "IPY_MODEL_33a7b84d8fd94260b8142715b35b6a5c",
       "style": "IPY_MODEL_e688b3f785584dd4a1c99168f714bfea",
       "value": " ETA: 00:00s - loss: -1.7437 - val_loss: -1.7516"
      }
     },
     "9a52762541a94630ae34226e74cce533": {
      "model_module": "@jupyter-widgets/base",
      "model_module_version": "1.2.0",
      "model_name": "LayoutModel",
      "state": {
       "display": "inline-flex",
       "flex_flow": "row wrap",
       "width": "100%"
      }
     },
     "9a6822b474a046588cdf8942e4d4316d": {
      "model_module": "@jupyter-widgets/base",
      "model_module_version": "1.2.0",
      "model_name": "LayoutModel",
      "state": {
       "display": "inline-flex",
       "flex_flow": "row wrap",
       "width": "100%"
      }
     },
     "9a6f0b30704747c4bf9e3339af54b329": {
      "model_module": "@jupyter-widgets/base",
      "model_module_version": "1.2.0",
      "model_name": "LayoutModel",
      "state": {
       "display": "inline-flex",
       "flex_flow": "row wrap",
       "width": "100%"
      }
     },
     "9a92cb779c31464a8c83c5d2eac9de6d": {
      "model_module": "@jupyter-widgets/controls",
      "model_module_version": "1.5.0",
      "model_name": "FloatProgressModel",
      "state": {
       "bar_style": "success",
       "description": "5625/5625",
       "layout": "IPY_MODEL_9d0c12fa826c4418a0599068c7f0f0d4",
       "max": 5625,
       "style": "IPY_MODEL_56dfa86ad860483cb173725ab4f03790",
       "value": 5625
      }
     },
     "9aad18c51c024b19a5f094b37580baa3": {
      "model_module": "@jupyter-widgets/controls",
      "model_module_version": "1.5.0",
      "model_name": "HTMLModel",
      "state": {
       "layout": "IPY_MODEL_6c92d81e7ffd4c409b730acef3bb70fd",
       "style": "IPY_MODEL_f3ba1ae03d4e40e0b9d6cb1a632aeb74",
       "value": " ETA: 00:00s - loss: 0.0282 - val_loss: 0.0286"
      }
     },
     "9abb005e414a4972af36e9006b985081": {
      "model_module": "@jupyter-widgets/controls",
      "model_module_version": "1.5.0",
      "model_name": "ProgressStyleModel",
      "state": {
       "description_width": "initial"
      }
     },
     "9af9150f5fe9423d85575d3da7138d29": {
      "model_module": "@jupyter-widgets/base",
      "model_module_version": "1.2.0",
      "model_name": "LayoutModel",
      "state": {
       "display": "inline-flex",
       "flex_flow": "row wrap",
       "width": "100%"
      }
     },
     "9b020d8b4408419e82c753fef6e9a417": {
      "model_module": "@jupyter-widgets/base",
      "model_module_version": "1.2.0",
      "model_name": "LayoutModel",
      "state": {}
     },
     "9b3c2e90570043cc8ce0ae5a993f39f4": {
      "model_module": "@jupyter-widgets/base",
      "model_module_version": "1.2.0",
      "model_name": "LayoutModel",
      "state": {
       "display": "inline-flex",
       "flex_flow": "row wrap",
       "width": "100%"
      }
     },
     "9b5cff4611ae4aaebe50273bafe069b7": {
      "model_module": "@jupyter-widgets/controls",
      "model_module_version": "1.5.0",
      "model_name": "HBoxModel",
      "state": {
       "children": [
        "IPY_MODEL_ab2681ede33b41c8b7399e25defb9de5",
        "IPY_MODEL_e153700da5a44a1b852fb55d6277f3c6"
       ],
       "layout": "IPY_MODEL_84c08fbb34d34df089a51ffefcae1f75"
      }
     },
     "9b9503ccadcd491a9eb04f66f0de879b": {
      "model_module": "@jupyter-widgets/controls",
      "model_module_version": "1.5.0",
      "model_name": "FloatProgressModel",
      "state": {
       "bar_style": "success",
       "description": "5625/5625",
       "layout": "IPY_MODEL_c9d3ffb25add4b58ad2cd520b6faca5c",
       "max": 5625,
       "style": "IPY_MODEL_75a5d1e58e5d45eb9fee2f8dd52af414",
       "value": 5625
      }
     },
     "9ba98b90bbfd4e75ba64c430e80bc2ed": {
      "model_module": "@jupyter-widgets/controls",
      "model_module_version": "1.5.0",
      "model_name": "FloatProgressModel",
      "state": {
       "bar_style": "success",
       "description": "5625/5625",
       "layout": "IPY_MODEL_9f25b3f28b974516acd6d0437bc8c9d5",
       "max": 5625,
       "style": "IPY_MODEL_8e226a0d2963444d8d9b72d8b79caaa7",
       "value": 5625
      }
     },
     "9bebe86ccbd7434d82a0c1b6e94c0838": {
      "model_module": "@jupyter-widgets/controls",
      "model_module_version": "1.5.0",
      "model_name": "HTMLModel",
      "state": {
       "layout": "IPY_MODEL_818909352bbe4153b848c55ee2ff199c",
       "style": "IPY_MODEL_0f0d6582891f42edba19088881dff1a5",
       "value": " ETA: 00:00s - loss: 0.0268 - val_loss: 0.0286"
      }
     },
     "9bf59479ddfd4804bb20425b66705cee": {
      "model_module": "@jupyter-widgets/controls",
      "model_module_version": "1.5.0",
      "model_name": "ProgressStyleModel",
      "state": {
       "description_width": "initial"
      }
     },
     "9c333127ce254033b47e1a598a293601": {
      "model_module": "@jupyter-widgets/controls",
      "model_module_version": "1.5.0",
      "model_name": "FloatProgressModel",
      "state": {
       "bar_style": "success",
       "description": "5625/5625",
       "layout": "IPY_MODEL_96fbb26a9b634009950dd20b2695a999",
       "max": 5625,
       "style": "IPY_MODEL_37efc05598a2498c96f86cec3d9c87df",
       "value": 5625
      }
     },
     "9c407e71ef4847389e09cd3f6e9f3597": {
      "model_module": "@jupyter-widgets/base",
      "model_module_version": "1.2.0",
      "model_name": "LayoutModel",
      "state": {
       "flex": "2"
      }
     },
     "9c413e49535e47af89f6b3114bfc4d3b": {
      "model_module": "@jupyter-widgets/controls",
      "model_module_version": "1.5.0",
      "model_name": "ProgressStyleModel",
      "state": {
       "description_width": "initial"
      }
     },
     "9c58f0c243764024a3d11acd9574b663": {
      "model_module": "@jupyter-widgets/controls",
      "model_module_version": "1.5.0",
      "model_name": "HTMLModel",
      "state": {
       "layout": "IPY_MODEL_1a2a996eef994ea4880ae8cc1c2d28df",
       "style": "IPY_MODEL_0fe3a03a749948d58fa5ad6284f72860",
       "value": " ETA: 00:00s - loss: 0.0772 - val_loss: 0.0764"
      }
     },
     "9c72210d122c4326bcc8264492e04837": {
      "model_module": "@jupyter-widgets/base",
      "model_module_version": "1.2.0",
      "model_name": "LayoutModel",
      "state": {
       "display": "inline-flex",
       "flex_flow": "row wrap",
       "width": "100%"
      }
     },
     "9c7bbe4bf938496186ba6029dafe916c": {
      "model_module": "@jupyter-widgets/controls",
      "model_module_version": "1.5.0",
      "model_name": "DescriptionStyleModel",
      "state": {
       "description_width": ""
      }
     },
     "9c7c6615f88840eea8590895b5983953": {
      "model_module": "@jupyter-widgets/base",
      "model_module_version": "1.2.0",
      "model_name": "LayoutModel",
      "state": {}
     },
     "9cbece666263415aa037ebb93d7a5e8b": {
      "model_module": "@jupyter-widgets/controls",
      "model_module_version": "1.5.0",
      "model_name": "DescriptionStyleModel",
      "state": {
       "description_width": ""
      }
     },
     "9cc4cbc489f04d25b0886830098841f4": {
      "model_module": "@jupyter-widgets/base",
      "model_module_version": "1.2.0",
      "model_name": "LayoutModel",
      "state": {}
     },
     "9ccec09b0c964b5dac97546ff5955c32": {
      "model_module": "@jupyter-widgets/base",
      "model_module_version": "1.2.0",
      "model_name": "LayoutModel",
      "state": {
       "display": "inline-flex",
       "flex_flow": "row wrap",
       "width": "100%"
      }
     },
     "9cd74a77baad45f48494d5c1cbdd7546": {
      "model_module": "@jupyter-widgets/controls",
      "model_module_version": "1.5.0",
      "model_name": "FloatProgressModel",
      "state": {
       "bar_style": "success",
       "description": "5625/5625",
       "layout": "IPY_MODEL_f271dff7ebba4a83bfd0e85df95c6a67",
       "max": 5625,
       "style": "IPY_MODEL_c902c138d37744979dc3e8e08b2e2209",
       "value": 5625
      }
     },
     "9ce63eb75a454e0384c34b54e02db62c": {
      "model_module": "@jupyter-widgets/controls",
      "model_module_version": "1.5.0",
      "model_name": "HBoxModel",
      "state": {
       "children": [
        "IPY_MODEL_58c76aa1a1994c29ab260017a32a921e",
        "IPY_MODEL_652c8eb94c504142a45363e2a9900b44"
       ],
       "layout": "IPY_MODEL_4a3814ed2f674421aecb5f29285de87b"
      }
     },
     "9ce9eed561364bb798afa6406668248a": {
      "model_module": "@jupyter-widgets/controls",
      "model_module_version": "1.5.0",
      "model_name": "HTMLModel",
      "state": {
       "layout": "IPY_MODEL_a7fd8bda1d3e439ba8ca4e7f1e39fd00",
       "style": "IPY_MODEL_13c2fb7cac144105bb1c2595d4265f08",
       "value": " ETA: 00:00s - loss: 0.0715 - val_loss: 0.0726"
      }
     },
     "9cefee526cc64fed9f4dd3dda9f09d87": {
      "model_module": "@jupyter-widgets/controls",
      "model_module_version": "1.5.0",
      "model_name": "DescriptionStyleModel",
      "state": {
       "description_width": ""
      }
     },
     "9d0c12fa826c4418a0599068c7f0f0d4": {
      "model_module": "@jupyter-widgets/base",
      "model_module_version": "1.2.0",
      "model_name": "LayoutModel",
      "state": {
       "flex": "2"
      }
     },
     "9d2262385a814ca18f9cf67501180d0a": {
      "model_module": "@jupyter-widgets/base",
      "model_module_version": "1.2.0",
      "model_name": "LayoutModel",
      "state": {
       "display": "inline-flex",
       "flex_flow": "row wrap",
       "width": "100%"
      }
     },
     "9d516105305e46c08908209ca9ca62f6": {
      "model_module": "@jupyter-widgets/base",
      "model_module_version": "1.2.0",
      "model_name": "LayoutModel",
      "state": {
       "flex": "2"
      }
     },
     "9d7ce778f8bf452c8eb4efa00a7c6ee5": {
      "model_module": "@jupyter-widgets/base",
      "model_module_version": "1.2.0",
      "model_name": "LayoutModel",
      "state": {
       "flex": "2"
      }
     },
     "9d8c3021dec84562b48353334dfcdb84": {
      "model_module": "@jupyter-widgets/base",
      "model_module_version": "1.2.0",
      "model_name": "LayoutModel",
      "state": {}
     },
     "9d930e8f612e4f7e80efddd4cb1a39c1": {
      "model_module": "@jupyter-widgets/controls",
      "model_module_version": "1.5.0",
      "model_name": "HTMLModel",
      "state": {
       "layout": "IPY_MODEL_02882c6cac4745ac85bfd629a573dfed",
       "style": "IPY_MODEL_b41a8ba969154bf5bc1c1da9c71b22e6",
       "value": " ETA: 00:00s - loss: 0.0701 - val_loss: 0.0715"
      }
     },
     "9da58f8d2c404f5dbbcf50b5e0ddb379": {
      "model_module": "@jupyter-widgets/controls",
      "model_module_version": "1.5.0",
      "model_name": "FloatProgressModel",
      "state": {
       "bar_style": "success",
       "description": "5625/5625",
       "layout": "IPY_MODEL_7785739e64ad49ccb044f70dafc64092",
       "max": 5625,
       "style": "IPY_MODEL_0d69219bc848400b8744f1a898fdc8b4",
       "value": 5625
      }
     },
     "9da880c1feb447db86d86ddcc5275d8d": {
      "model_module": "@jupyter-widgets/base",
      "model_module_version": "1.2.0",
      "model_name": "LayoutModel",
      "state": {}
     },
     "9db7147623ab4ac797c937ffeaeb2906": {
      "model_module": "@jupyter-widgets/controls",
      "model_module_version": "1.5.0",
      "model_name": "HTMLModel",
      "state": {
       "layout": "IPY_MODEL_2ff06bc3e7524eb48bc0c0c9fef4faa6",
       "style": "IPY_MODEL_8b739baf476a4d2b823c754422f68c56",
       "value": " ETA: 00:00s - loss: -1.8281 - val_loss: -1.7994"
      }
     },
     "9dd5a76114b6466587b89ec6f30b02a2": {
      "model_module": "@jupyter-widgets/base",
      "model_module_version": "1.2.0",
      "model_name": "LayoutModel",
      "state": {
       "flex": "2"
      }
     },
     "9dda272f3be140578a91d1a16878c9db": {
      "model_module": "@jupyter-widgets/base",
      "model_module_version": "1.2.0",
      "model_name": "LayoutModel",
      "state": {
       "display": "inline-flex",
       "flex_flow": "row wrap",
       "width": "100%"
      }
     },
     "9de33bf907824b33b816179712ecfec3": {
      "model_module": "@jupyter-widgets/controls",
      "model_module_version": "1.5.0",
      "model_name": "HBoxModel",
      "state": {
       "children": [
        "IPY_MODEL_7cfef5724e5346c8a247ea84fcb329ce",
        "IPY_MODEL_95816c5b0291474fb43438d209d4c56a"
       ],
       "layout": "IPY_MODEL_fcc5645d9eed4222bcc14911f3c78bd2"
      }
     },
     "9e009b931f364ef1bd111d11dbcd529e": {
      "model_module": "@jupyter-widgets/base",
      "model_module_version": "1.2.0",
      "model_name": "LayoutModel",
      "state": {
       "display": "inline-flex",
       "flex_flow": "row wrap",
       "width": "100%"
      }
     },
     "9e128f778c084c2cae1183f5f2e0301e": {
      "model_module": "@jupyter-widgets/controls",
      "model_module_version": "1.5.0",
      "model_name": "HTMLModel",
      "state": {
       "layout": "IPY_MODEL_d745088cf6c1418995009d6997eebe97",
       "style": "IPY_MODEL_7616fd7e09bf41da81e2d8fc19f6e849",
       "value": " ETA: 00:00s - loss: 0.0898 - val_loss: 0.0877"
      }
     },
     "9e4230ed7ee84f3aaac12d71e53fdb68": {
      "model_module": "@jupyter-widgets/controls",
      "model_module_version": "1.5.0",
      "model_name": "ProgressStyleModel",
      "state": {
       "description_width": "initial"
      }
     },
     "9e4411cd9cb64dbf94d4635ebe1cfdb0": {
      "model_module": "@jupyter-widgets/controls",
      "model_module_version": "1.5.0",
      "model_name": "FloatProgressModel",
      "state": {
       "bar_style": "success",
       "description": "5625/5625",
       "layout": "IPY_MODEL_6a406e39fbff488ca071852720fefd4b",
       "max": 5625,
       "style": "IPY_MODEL_cb6dfbec4ed24431b4e14f8f29e5679d",
       "value": 5625
      }
     },
     "9e4cc139966d4a86bf8a788d0c057d29": {
      "model_module": "@jupyter-widgets/base",
      "model_module_version": "1.2.0",
      "model_name": "LayoutModel",
      "state": {
       "flex": "2"
      }
     },
     "9e6e73a622624bd396c7e82b2961bde5": {
      "model_module": "@jupyter-widgets/controls",
      "model_module_version": "1.5.0",
      "model_name": "HBoxModel",
      "state": {
       "children": [
        "IPY_MODEL_690448a95d634ef8b81aa4f2b136d40e",
        "IPY_MODEL_b49bfdbc3a2b439ca9192abae6313a2e"
       ],
       "layout": "IPY_MODEL_7e45e617f69c4cfab395039ac13bd945"
      }
     },
     "9e734e4a568e44f49aba0dcf8539dfb7": {
      "model_module": "@jupyter-widgets/base",
      "model_module_version": "1.2.0",
      "model_name": "LayoutModel",
      "state": {
       "flex": "2"
      }
     },
     "9e769ae01c024e8f821f059b250931ea": {
      "model_module": "@jupyter-widgets/controls",
      "model_module_version": "1.5.0",
      "model_name": "HTMLModel",
      "state": {
       "layout": "IPY_MODEL_726b8a267fb042b58348da1e4c9692ba",
       "style": "IPY_MODEL_d0f77409c5e04688a2dab095504b4376",
       "value": " ETA: 00:00s - loss: 0.0328 - val_loss: 0.0311"
      }
     },
     "9e7972f203f94d49afd92b654cd05175": {
      "model_module": "@jupyter-widgets/controls",
      "model_module_version": "1.5.0",
      "model_name": "DescriptionStyleModel",
      "state": {
       "description_width": ""
      }
     },
     "9e891388fb5f47d3ae4c651325b63e7a": {
      "model_module": "@jupyter-widgets/base",
      "model_module_version": "1.2.0",
      "model_name": "LayoutModel",
      "state": {}
     },
     "9f25b3f28b974516acd6d0437bc8c9d5": {
      "model_module": "@jupyter-widgets/base",
      "model_module_version": "1.2.0",
      "model_name": "LayoutModel",
      "state": {
       "flex": "2"
      }
     },
     "9f42d4e4e9bf43f9a01a07bcad44bb4a": {
      "model_module": "@jupyter-widgets/base",
      "model_module_version": "1.2.0",
      "model_name": "LayoutModel",
      "state": {}
     },
     "9f47b068932a4044b4da6840c9ed2f75": {
      "model_module": "@jupyter-widgets/controls",
      "model_module_version": "1.5.0",
      "model_name": "HBoxModel",
      "state": {
       "children": [
        "IPY_MODEL_3a0cae78463c45259fff670db486f516",
        "IPY_MODEL_712d7156e1164886a41ffb8164df8ef7"
       ],
       "layout": "IPY_MODEL_49f07523b50541b1a8cd833ec2b314d1"
      }
     },
     "9f4b847e35a14942a723717cc19ab5f2": {
      "model_module": "@jupyter-widgets/base",
      "model_module_version": "1.2.0",
      "model_name": "LayoutModel",
      "state": {
       "flex": "2"
      }
     },
     "9f50dafc9b794888bd30fb7577295011": {
      "model_module": "@jupyter-widgets/controls",
      "model_module_version": "1.5.0",
      "model_name": "HTMLModel",
      "state": {
       "layout": "IPY_MODEL_bd03cb11c1b6449f910a39acb4b439e2",
       "style": "IPY_MODEL_8276d644f209405d9ca106ab211b0b55",
       "value": " ETA: 00:00s - loss: 0.0325 - val_loss: 0.0352"
      }
     },
     "9f5c998ec1b34c41a611a37948ee3b55": {
      "model_module": "@jupyter-widgets/controls",
      "model_module_version": "1.5.0",
      "model_name": "FloatProgressModel",
      "state": {
       "bar_style": "success",
       "description": "5625/5625",
       "layout": "IPY_MODEL_e2e2eea4e91e40fb85bdda5efd07e9c4",
       "max": 5625,
       "style": "IPY_MODEL_04e927da1bdd4ea496748551693d6c3d",
       "value": 5625
      }
     },
     "9f8296a2c6714a7f94e0603709873571": {
      "model_module": "@jupyter-widgets/controls",
      "model_module_version": "1.5.0",
      "model_name": "HTMLModel",
      "state": {
       "layout": "IPY_MODEL_27c853b2e1cd4300b29d783f3a88940d",
       "style": "IPY_MODEL_eef178bf42ac4f62865bb22d90fab465",
       "value": " ETA: 00:00s - loss: 0.0323 - val_loss: 0.0312"
      }
     },
     "9f8d62ca7c694295ad1801313e5582d3": {
      "model_module": "@jupyter-widgets/base",
      "model_module_version": "1.2.0",
      "model_name": "LayoutModel",
      "state": {
       "display": "inline-flex",
       "flex_flow": "row wrap",
       "width": "100%"
      }
     },
     "9f9accda42d1419dbd373347eb113998": {
      "model_module": "@jupyter-widgets/controls",
      "model_module_version": "1.5.0",
      "model_name": "ProgressStyleModel",
      "state": {
       "description_width": "initial"
      }
     },
     "9f9db51135cc483f8e0e6e26c730d20f": {
      "model_module": "@jupyter-widgets/controls",
      "model_module_version": "1.5.0",
      "model_name": "DescriptionStyleModel",
      "state": {
       "description_width": ""
      }
     },
     "9fc4c20b7853468d863d8060907f2890": {
      "model_module": "@jupyter-widgets/controls",
      "model_module_version": "1.5.0",
      "model_name": "ProgressStyleModel",
      "state": {
       "description_width": "initial"
      }
     },
     "9fcb23f658da45a485f6c3c72c8f5b05": {
      "model_module": "@jupyter-widgets/controls",
      "model_module_version": "1.5.0",
      "model_name": "HTMLModel",
      "state": {
       "layout": "IPY_MODEL_137c7982066a42be8fbe24a869f81671",
       "style": "IPY_MODEL_f7cbb612ae4248db87afe01b5448df07",
       "value": " ETA: 00:00s - loss: -1.7760 - val_loss: -1.7741"
      }
     },
     "9fd591115c1348b3b0e88b22ce3125ba": {
      "model_module": "@jupyter-widgets/controls",
      "model_module_version": "1.5.0",
      "model_name": "FloatProgressModel",
      "state": {
       "bar_style": "success",
       "description": "5625/5625",
       "layout": "IPY_MODEL_7f77c0fc815b4792a9bb13136b355cc8",
       "max": 5625,
       "style": "IPY_MODEL_a7992d04ac1240c9a9ce734aedea4b25",
       "value": 5625
      }
     },
     "9fd86e801cb3400099e58a530dc69d1f": {
      "model_module": "@jupyter-widgets/controls",
      "model_module_version": "1.5.0",
      "model_name": "FloatProgressModel",
      "state": {
       "bar_style": "success",
       "description": "5625/5625",
       "layout": "IPY_MODEL_247c448076dd4d07a3c0bb3a9603b347",
       "max": 5625,
       "style": "IPY_MODEL_b5ec0cbafa11436495db10f98bfc0230",
       "value": 5625
      }
     },
     "9ff33efd93464e63a0e59f1375afee41": {
      "model_module": "@jupyter-widgets/base",
      "model_module_version": "1.2.0",
      "model_name": "LayoutModel",
      "state": {
       "display": "inline-flex",
       "flex_flow": "row wrap",
       "width": "100%"
      }
     },
     "9ff3f8aaf2f848fe91aa4bc5e0cc6bb6": {
      "model_module": "@jupyter-widgets/base",
      "model_module_version": "1.2.0",
      "model_name": "LayoutModel",
      "state": {}
     },
     "9ffbd588dfe7463e9bdcc17ffe2a5a28": {
      "model_module": "@jupyter-widgets/controls",
      "model_module_version": "1.5.0",
      "model_name": "HBoxModel",
      "state": {
       "children": [
        "IPY_MODEL_3e2f331595be4c4d88e99810a04f606d",
        "IPY_MODEL_6c3e6523aee74b17b7054de2363bb900"
       ],
       "layout": "IPY_MODEL_9c72210d122c4326bcc8264492e04837"
      }
     },
     "a002f9b55a4b40e191960836ea2d0489": {
      "model_module": "@jupyter-widgets/controls",
      "model_module_version": "1.5.0",
      "model_name": "ProgressStyleModel",
      "state": {
       "description_width": "initial"
      }
     },
     "a017ac2f3b2c4a24bab7442a4a00cb05": {
      "model_module": "@jupyter-widgets/base",
      "model_module_version": "1.2.0",
      "model_name": "LayoutModel",
      "state": {}
     },
     "a0277700896440a7a47ef9d9264ce519": {
      "model_module": "@jupyter-widgets/base",
      "model_module_version": "1.2.0",
      "model_name": "LayoutModel",
      "state": {}
     },
     "a030f15611de4483b43d6bf9ef980cdc": {
      "model_module": "@jupyter-widgets/base",
      "model_module_version": "1.2.0",
      "model_name": "LayoutModel",
      "state": {
       "display": "inline-flex",
       "flex_flow": "row wrap",
       "width": "100%"
      }
     },
     "a07586e5f7f74d2e854119786a5e30ea": {
      "model_module": "@jupyter-widgets/controls",
      "model_module_version": "1.5.0",
      "model_name": "HTMLModel",
      "state": {
       "layout": "IPY_MODEL_eb08a4ea3c5a4febb99cb3db360e9ff7",
       "style": "IPY_MODEL_ec96c976c258464fac877cc076982500",
       "value": " ETA: 00:00s - loss: -1.7176 - val_loss: -1.7085"
      }
     },
     "a07e6d57e13546218798f80a86ff2c9b": {
      "model_module": "@jupyter-widgets/controls",
      "model_module_version": "1.5.0",
      "model_name": "ProgressStyleModel",
      "state": {
       "description_width": "initial"
      }
     },
     "a0892d39e1454f80b1226eb2629071a6": {
      "model_module": "@jupyter-widgets/controls",
      "model_module_version": "1.5.0",
      "model_name": "DescriptionStyleModel",
      "state": {
       "description_width": ""
      }
     },
     "a094b90f93dd41bfa6deb045127dea4f": {
      "model_module": "@jupyter-widgets/base",
      "model_module_version": "1.2.0",
      "model_name": "LayoutModel",
      "state": {
       "flex": "2"
      }
     },
     "a096ee64f2554bf685918267f96beaa2": {
      "model_module": "@jupyter-widgets/base",
      "model_module_version": "1.2.0",
      "model_name": "LayoutModel",
      "state": {}
     },
     "a0a0f015c7b246ffbaca1c77793d7dba": {
      "model_module": "@jupyter-widgets/controls",
      "model_module_version": "1.5.0",
      "model_name": "HBoxModel",
      "state": {
       "children": [
        "IPY_MODEL_12469e9f013b48e899d8ca8b9c72a7df",
        "IPY_MODEL_25d6520d6da140b48310ac8d6d9ba93f"
       ],
       "layout": "IPY_MODEL_db439408a11844219ce97f98d9350aa2"
      }
     },
     "a0f286e9a44841b09993c6dd0afd2ff8": {
      "model_module": "@jupyter-widgets/controls",
      "model_module_version": "1.5.0",
      "model_name": "ProgressStyleModel",
      "state": {
       "description_width": "initial"
      }
     },
     "a11d16aa58034346b528eca3a7c7b351": {
      "model_module": "@jupyter-widgets/controls",
      "model_module_version": "1.5.0",
      "model_name": "DescriptionStyleModel",
      "state": {
       "description_width": ""
      }
     },
     "a15218ca9355497d9f1dbda0c276d125": {
      "model_module": "@jupyter-widgets/base",
      "model_module_version": "1.2.0",
      "model_name": "LayoutModel",
      "state": {}
     },
     "a15bc00c02014fc9964278fa4fda8887": {
      "model_module": "@jupyter-widgets/base",
      "model_module_version": "1.2.0",
      "model_name": "LayoutModel",
      "state": {
       "flex": "2"
      }
     },
     "a183864f9c3a40749df8f73975eea213": {
      "model_module": "@jupyter-widgets/base",
      "model_module_version": "1.2.0",
      "model_name": "LayoutModel",
      "state": {
       "display": "inline-flex",
       "flex_flow": "row wrap",
       "width": "100%"
      }
     },
     "a1be34bac2a04facb571f7ca000472e0": {
      "model_module": "@jupyter-widgets/base",
      "model_module_version": "1.2.0",
      "model_name": "LayoutModel",
      "state": {
       "display": "inline-flex",
       "flex_flow": "row wrap",
       "width": "100%"
      }
     },
     "a1c7f0900cf64fc1ba8ed884cae2d83f": {
      "model_module": "@jupyter-widgets/controls",
      "model_module_version": "1.5.0",
      "model_name": "HTMLModel",
      "state": {
       "layout": "IPY_MODEL_bc3a9f6b051d4a09a81df9ea49a27379",
       "style": "IPY_MODEL_8778fac84e80432d9e19f9a9aa183f7a",
       "value": " ETA: 00:00s - loss: 0.0368 - val_loss: 0.0376"
      }
     },
     "a1f431c8041e4fb3aa03e348f1368734": {
      "model_module": "@jupyter-widgets/base",
      "model_module_version": "1.2.0",
      "model_name": "LayoutModel",
      "state": {}
     },
     "a1f7e5519a4349d88b02586f3047d133": {
      "model_module": "@jupyter-widgets/base",
      "model_module_version": "1.2.0",
      "model_name": "LayoutModel",
      "state": {
       "flex": "2"
      }
     },
     "a203f1a23c9c4fc7aacbfce7a4a5a39c": {
      "model_module": "@jupyter-widgets/base",
      "model_module_version": "1.2.0",
      "model_name": "LayoutModel",
      "state": {
       "display": "inline-flex",
       "flex_flow": "row wrap",
       "width": "100%"
      }
     },
     "a20904c9adea4e419a91ac62364b3759": {
      "model_module": "@jupyter-widgets/controls",
      "model_module_version": "1.5.0",
      "model_name": "HBoxModel",
      "state": {
       "children": [
        "IPY_MODEL_b193fe220a2e40009bb9509b9691d7a1",
        "IPY_MODEL_5ee6cc969240408c8aa8a6b4511415fb"
       ],
       "layout": "IPY_MODEL_a203f1a23c9c4fc7aacbfce7a4a5a39c"
      }
     },
     "a20faa142ced4e598d88f30e5dafe0d0": {
      "model_module": "@jupyter-widgets/base",
      "model_module_version": "1.2.0",
      "model_name": "LayoutModel",
      "state": {
       "display": "inline-flex",
       "flex_flow": "row wrap",
       "width": "100%"
      }
     },
     "a214e16165c34b03b3ff619a957c7291": {
      "model_module": "@jupyter-widgets/base",
      "model_module_version": "1.2.0",
      "model_name": "LayoutModel",
      "state": {}
     },
     "a226dac113c3423b94b284448e0dabcf": {
      "model_module": "@jupyter-widgets/base",
      "model_module_version": "1.2.0",
      "model_name": "LayoutModel",
      "state": {
       "display": "inline-flex",
       "flex_flow": "row wrap",
       "width": "100%"
      }
     },
     "a2a0b5c702ee4a62b2ae665026481a09": {
      "model_module": "@jupyter-widgets/base",
      "model_module_version": "1.2.0",
      "model_name": "LayoutModel",
      "state": {
       "flex": "2"
      }
     },
     "a2d13eb48ae94624b4c662027438a012": {
      "model_module": "@jupyter-widgets/base",
      "model_module_version": "1.2.0",
      "model_name": "LayoutModel",
      "state": {
       "flex": "2"
      }
     },
     "a32a7768e0df4c7997766ecf76407148": {
      "model_module": "@jupyter-widgets/base",
      "model_module_version": "1.2.0",
      "model_name": "LayoutModel",
      "state": {
       "display": "inline-flex",
       "flex_flow": "row wrap",
       "width": "100%"
      }
     },
     "a33be9ce50134980b2dcb4f0f71004c6": {
      "model_module": "@jupyter-widgets/controls",
      "model_module_version": "1.5.0",
      "model_name": "HBoxModel",
      "state": {
       "children": [
        "IPY_MODEL_4e00c1c98f2b486aa82b17e14d3b13e9",
        "IPY_MODEL_be66afeeeeb34d42906311b0aa5e2048"
       ],
       "layout": "IPY_MODEL_93799bbf8f0545aa8d4aba0a8ab0f454"
      }
     },
     "a36156a835d04da584df05eb09d3e484": {
      "model_module": "@jupyter-widgets/controls",
      "model_module_version": "1.5.0",
      "model_name": "FloatProgressModel",
      "state": {
       "bar_style": "success",
       "description": "5625/5625",
       "layout": "IPY_MODEL_0860a67098a3440f9b08d7536e61e05f",
       "max": 5625,
       "style": "IPY_MODEL_5955e946f5604fd28b33f98080b62eab",
       "value": 5625
      }
     },
     "a368a5dbb71945b2ad7a961bf0827ac2": {
      "model_module": "@jupyter-widgets/base",
      "model_module_version": "1.2.0",
      "model_name": "LayoutModel",
      "state": {
       "display": "inline-flex",
       "flex_flow": "row wrap",
       "width": "100%"
      }
     },
     "a3f50642eb354669bbf225f54ad50a27": {
      "model_module": "@jupyter-widgets/base",
      "model_module_version": "1.2.0",
      "model_name": "LayoutModel",
      "state": {}
     },
     "a45550b8f20749699d665169cb5ef7c4": {
      "model_module": "@jupyter-widgets/base",
      "model_module_version": "1.2.0",
      "model_name": "LayoutModel",
      "state": {
       "flex": "2"
      }
     },
     "a455fac0c77a48e1959b84752dfafbdf": {
      "model_module": "@jupyter-widgets/controls",
      "model_module_version": "1.5.0",
      "model_name": "ProgressStyleModel",
      "state": {
       "description_width": "initial"
      }
     },
     "a4a17655d982459f890890d296a58e3a": {
      "model_module": "@jupyter-widgets/base",
      "model_module_version": "1.2.0",
      "model_name": "LayoutModel",
      "state": {}
     },
     "a4b2cea7821f4c00aad3ae1f99600323": {
      "model_module": "@jupyter-widgets/controls",
      "model_module_version": "1.5.0",
      "model_name": "HBoxModel",
      "state": {
       "children": [
        "IPY_MODEL_55b4137f9ef34e81b6e98f0624739c32",
        "IPY_MODEL_7e465a8494434ce2849a2c7700368b25"
       ],
       "layout": "IPY_MODEL_e2ab34ac26464b21a6ae48a50d19ef30"
      }
     },
     "a4d4ac07a65242b297606386c42dedcf": {
      "model_module": "@jupyter-widgets/controls",
      "model_module_version": "1.5.0",
      "model_name": "FloatProgressModel",
      "state": {
       "bar_style": "success",
       "description": "5625/5625",
       "layout": "IPY_MODEL_b95c9c9c67f5453096a00c40f3141e37",
       "max": 5625,
       "style": "IPY_MODEL_81ecddad148f4c0aaf2b84133f9568d2",
       "value": 5625
      }
     },
     "a502197be5b2444db51482f2c2a547de": {
      "model_module": "@jupyter-widgets/base",
      "model_module_version": "1.2.0",
      "model_name": "LayoutModel",
      "state": {
       "display": "inline-flex",
       "flex_flow": "row wrap",
       "width": "100%"
      }
     },
     "a53e4dbce103446498773d69ab56a629": {
      "model_module": "@jupyter-widgets/base",
      "model_module_version": "1.2.0",
      "model_name": "LayoutModel",
      "state": {
       "flex": "2"
      }
     },
     "a559afa09fd141a287cac88b085caced": {
      "model_module": "@jupyter-widgets/base",
      "model_module_version": "1.2.0",
      "model_name": "LayoutModel",
      "state": {
       "display": "inline-flex",
       "flex_flow": "row wrap",
       "width": "100%"
      }
     },
     "a5786b8970be4288aafaaf424752a3fb": {
      "model_module": "@jupyter-widgets/controls",
      "model_module_version": "1.5.0",
      "model_name": "FloatProgressModel",
      "state": {
       "bar_style": "danger",
       "description": "Training:   8%",
       "layout": "IPY_MODEL_657a276726ae4e00b12d472656890bea",
       "max": 1000,
       "style": "IPY_MODEL_b638c067bb6e4e4fbe0e4a1d8a414e5f",
       "value": 83
      }
     },
     "a581bbc08bc34438af5856b633f39af3": {
      "model_module": "@jupyter-widgets/controls",
      "model_module_version": "1.5.0",
      "model_name": "HBoxModel",
      "state": {
       "children": [
        "IPY_MODEL_dffe7685aaae4c42ab65d8396f7171bf",
        "IPY_MODEL_7e9b672ee37c438db3df4f00fdddd4bd"
       ],
       "layout": "IPY_MODEL_1d90d25229df4a4fa84c17f94cc84667"
      }
     },
     "a5e66844abd347c2ac7740fca17e4b88": {
      "model_module": "@jupyter-widgets/controls",
      "model_module_version": "1.5.0",
      "model_name": "DescriptionStyleModel",
      "state": {
       "description_width": ""
      }
     },
     "a5fd4b8a3faa4970b5bb7cd52455ba3d": {
      "model_module": "@jupyter-widgets/controls",
      "model_module_version": "1.5.0",
      "model_name": "HBoxModel",
      "state": {
       "children": [
        "IPY_MODEL_e4f9877b0afc41a08beb47f7568888ef",
        "IPY_MODEL_cd65716147f7444ca9f383646906f968"
       ],
       "layout": "IPY_MODEL_1eea06992df54758ad695a91378cbca3"
      }
     },
     "a6028ddf04514bc69c9ca2bfa99aa534": {
      "model_module": "@jupyter-widgets/base",
      "model_module_version": "1.2.0",
      "model_name": "LayoutModel",
      "state": {
       "display": "inline-flex",
       "flex_flow": "row wrap",
       "width": "100%"
      }
     },
     "a6094e9a36794899aa29934638f1d9b6": {
      "model_module": "@jupyter-widgets/controls",
      "model_module_version": "1.5.0",
      "model_name": "DescriptionStyleModel",
      "state": {
       "description_width": ""
      }
     },
     "a62085874f0e45eb88481a1acfab1b2c": {
      "model_module": "@jupyter-widgets/base",
      "model_module_version": "1.2.0",
      "model_name": "LayoutModel",
      "state": {}
     },
     "a62e9b801c214c63837e040faeb2467e": {
      "model_module": "@jupyter-widgets/controls",
      "model_module_version": "1.5.0",
      "model_name": "HTMLModel",
      "state": {
       "layout": "IPY_MODEL_dd1b8df1e80a4515b091a91be07e2b8f",
       "style": "IPY_MODEL_556dc5f440864be2ac5dfd7f47805e55",
       "value": " ETA: 00:00s - loss: -1.7351 - val_loss: -1.7282"
      }
     },
     "a630f020269441d78bd6300a8723d7cb": {
      "model_module": "@jupyter-widgets/controls",
      "model_module_version": "1.5.0",
      "model_name": "DescriptionStyleModel",
      "state": {
       "description_width": ""
      }
     },
     "a64d28a534354eed979fdabda08f5874": {
      "model_module": "@jupyter-widgets/base",
      "model_module_version": "1.2.0",
      "model_name": "LayoutModel",
      "state": {}
     },
     "a64fbea997494dc69bd3cd7a19fc3371": {
      "model_module": "@jupyter-widgets/base",
      "model_module_version": "1.2.0",
      "model_name": "LayoutModel",
      "state": {
       "display": "inline-flex",
       "flex_flow": "row wrap",
       "width": "100%"
      }
     },
     "a687c71693114809866e22a7b740cba1": {
      "model_module": "@jupyter-widgets/controls",
      "model_module_version": "1.5.0",
      "model_name": "HBoxModel",
      "state": {
       "children": [
        "IPY_MODEL_13e6be0402a647bf8846feb5bd0cfcd8",
        "IPY_MODEL_fa96734c40c14533b5040da983cadb66"
       ],
       "layout": "IPY_MODEL_8d9068073cd94ed79c581a7b57296059"
      }
     },
     "a68919cd0c0c4a968f832891f2d47d0f": {
      "model_module": "@jupyter-widgets/controls",
      "model_module_version": "1.5.0",
      "model_name": "FloatProgressModel",
      "state": {
       "bar_style": "success",
       "description": "5625/5625",
       "layout": "IPY_MODEL_95f3241f67eb4d22bf5bd3ce100b0db6",
       "max": 5625,
       "style": "IPY_MODEL_9186c77d04cb490bb4ccb7349710d52d",
       "value": 5625
      }
     },
     "a698a1a1513142ec9c03eb8a39c2f2c1": {
      "model_module": "@jupyter-widgets/base",
      "model_module_version": "1.2.0",
      "model_name": "LayoutModel",
      "state": {
       "flex": "2"
      }
     },
     "a6d3f79e5454414e90b8a46838652ad1": {
      "model_module": "@jupyter-widgets/controls",
      "model_module_version": "1.5.0",
      "model_name": "ProgressStyleModel",
      "state": {
       "description_width": "initial"
      }
     },
     "a6eefb57f9a04f2a8ec9167a68aa873f": {
      "model_module": "@jupyter-widgets/controls",
      "model_module_version": "1.5.0",
      "model_name": "ProgressStyleModel",
      "state": {
       "description_width": "initial"
      }
     },
     "a70bb4413fe44d73b2f2b79c421e3c72": {
      "model_module": "@jupyter-widgets/controls",
      "model_module_version": "1.5.0",
      "model_name": "HBoxModel",
      "state": {
       "children": [
        "IPY_MODEL_93eb3a47244a42eca1508bac85e00760",
        "IPY_MODEL_8c35e6d83ceb4c519dd78b9352e5cddf"
       ],
       "layout": "IPY_MODEL_636a0d3ee29c46688aa2c4e9a8d4acf3"
      }
     },
     "a71ff8b1c77d4c2f8eb51f6825aac6ca": {
      "model_module": "@jupyter-widgets/controls",
      "model_module_version": "1.5.0",
      "model_name": "FloatProgressModel",
      "state": {
       "bar_style": "success",
       "description": "5625/5625",
       "layout": "IPY_MODEL_d815e3eeb52041cbb3341c92c8cd3930",
       "max": 5625,
       "style": "IPY_MODEL_e542d7863ef74af3b7c9e28ce870f58e",
       "value": 5625
      }
     },
     "a737b7a90ed24ad89e27d0ed9d237621": {
      "model_module": "@jupyter-widgets/controls",
      "model_module_version": "1.5.0",
      "model_name": "HTMLModel",
      "state": {
       "layout": "IPY_MODEL_3852ee9bf5584b76a537b905d63e4fd2",
       "style": "IPY_MODEL_215a6c601b6a4ed393684b35727f8037",
       "value": " ETA: 00:00s - loss: 0.0305 - val_loss: 0.0293"
      }
     },
     "a738ba8da951494cbf55d3b4ff59b37c": {
      "model_module": "@jupyter-widgets/controls",
      "model_module_version": "1.5.0",
      "model_name": "DescriptionStyleModel",
      "state": {
       "description_width": ""
      }
     },
     "a73ddd26c6e74f56aa272e594d49b479": {
      "model_module": "@jupyter-widgets/controls",
      "model_module_version": "1.5.0",
      "model_name": "DescriptionStyleModel",
      "state": {
       "description_width": ""
      }
     },
     "a73ed5098c204bfa8e52a48030af2388": {
      "model_module": "@jupyter-widgets/controls",
      "model_module_version": "1.5.0",
      "model_name": "DescriptionStyleModel",
      "state": {
       "description_width": ""
      }
     },
     "a74c3296f96040d7b54b63bf586cac64": {
      "model_module": "@jupyter-widgets/controls",
      "model_module_version": "1.5.0",
      "model_name": "FloatProgressModel",
      "state": {
       "bar_style": "success",
       "description": "5625/5625",
       "layout": "IPY_MODEL_040d2bc9c84c4144b3317a52cf610353",
       "max": 5625,
       "style": "IPY_MODEL_d7895bae6cb545f88ec802b6536cd64f",
       "value": 5625
      }
     },
     "a74cef01cf1f4262acc0222c2d8a17d3": {
      "model_module": "@jupyter-widgets/base",
      "model_module_version": "1.2.0",
      "model_name": "LayoutModel",
      "state": {}
     },
     "a7522e248d0646cca868629259278533": {
      "model_module": "@jupyter-widgets/controls",
      "model_module_version": "1.5.0",
      "model_name": "HTMLModel",
      "state": {
       "layout": "IPY_MODEL_a9ef5623e1f64d6b92eeeea27cfe80ed",
       "style": "IPY_MODEL_139b04c9a5ee4d6a89af3850382f56f8",
       "value": " ETA: 00:00s - loss: 0.0673 - val_loss: 0.0715"
      }
     },
     "a76072066a93427cb31c4427633ee4fa": {
      "model_module": "@jupyter-widgets/controls",
      "model_module_version": "1.5.0",
      "model_name": "HTMLModel",
      "state": {
       "layout": "IPY_MODEL_9233af4fa4e645f186d16893d55e6282",
       "style": "IPY_MODEL_32263932be814b8aa68a1750c583e81d",
       "value": " ETA: 00:00s - loss: 0.0669 - val_loss: 0.0719"
      }
     },
     "a784aa5a18a94a15b789a49e4b912c21": {
      "model_module": "@jupyter-widgets/controls",
      "model_module_version": "1.5.0",
      "model_name": "HBoxModel",
      "state": {
       "children": [
        "IPY_MODEL_3ce716c4e6a646ebb3e2d5e9bd0b5efa",
        "IPY_MODEL_12797f0f67154302b3bcf94750863256"
       ],
       "layout": "IPY_MODEL_2ae79cd36eee4cda824258f559b58fe1"
      }
     },
     "a786fd8a771946a0acaea591677d189c": {
      "model_module": "@jupyter-widgets/controls",
      "model_module_version": "1.5.0",
      "model_name": "HTMLModel",
      "state": {
       "layout": "IPY_MODEL_00981c2e6a3c431c88329bcc22c5da94",
       "style": "IPY_MODEL_df3e7871819f4691b02367fd5f3a620c",
       "value": " ETA: 00:00s - loss: 0.0274 - val_loss: 0.0291"
      }
     },
     "a7992d04ac1240c9a9ce734aedea4b25": {
      "model_module": "@jupyter-widgets/controls",
      "model_module_version": "1.5.0",
      "model_name": "ProgressStyleModel",
      "state": {
       "description_width": "initial"
      }
     },
     "a7a131fe2e5540d49fe583d566a26810": {
      "model_module": "@jupyter-widgets/base",
      "model_module_version": "1.2.0",
      "model_name": "LayoutModel",
      "state": {
       "flex": "2"
      }
     },
     "a7b37f8fe9774487b306679bdee7a279": {
      "model_module": "@jupyter-widgets/controls",
      "model_module_version": "1.5.0",
      "model_name": "ProgressStyleModel",
      "state": {
       "description_width": "initial"
      }
     },
     "a7bfd742f33e44c68c7707ca4fa1a00f": {
      "model_module": "@jupyter-widgets/controls",
      "model_module_version": "1.5.0",
      "model_name": "ProgressStyleModel",
      "state": {
       "description_width": "initial"
      }
     },
     "a7ea4785bcc34b28b33df746e6846e53": {
      "model_module": "@jupyter-widgets/controls",
      "model_module_version": "1.5.0",
      "model_name": "ProgressStyleModel",
      "state": {
       "description_width": "initial"
      }
     },
     "a7fd8bda1d3e439ba8ca4e7f1e39fd00": {
      "model_module": "@jupyter-widgets/base",
      "model_module_version": "1.2.0",
      "model_name": "LayoutModel",
      "state": {}
     },
     "a81acf86154e4b09989ca13d09c61992": {
      "model_module": "@jupyter-widgets/controls",
      "model_module_version": "1.5.0",
      "model_name": "FloatProgressModel",
      "state": {
       "bar_style": "success",
       "description": "5625/5625",
       "layout": "IPY_MODEL_9d7ce778f8bf452c8eb4efa00a7c6ee5",
       "max": 5625,
       "style": "IPY_MODEL_d158b087f83442e79fd81a9a630836c1",
       "value": 5625
      }
     },
     "a8263dd2fae04772b0ed9d421f7c5839": {
      "model_module": "@jupyter-widgets/controls",
      "model_module_version": "1.5.0",
      "model_name": "HTMLModel",
      "state": {
       "layout": "IPY_MODEL_89052cbdeb8d4a009dbd8fb4087c49f6",
       "style": "IPY_MODEL_8b9a2310062a4c71aa410725feec55a5",
       "value": " ETA: 00:00s - loss: -1.8193 - val_loss: -1.8003"
      }
     },
     "a8389f1c8ea641b18a26d3b9db29ed75": {
      "model_module": "@jupyter-widgets/controls",
      "model_module_version": "1.5.0",
      "model_name": "HTMLModel",
      "state": {
       "layout": "IPY_MODEL_b28bc7cda8574fef80d1364725618488",
       "style": "IPY_MODEL_ab8d944daf334e31ab6d97e6b60c4428",
       "value": " ETA: 00:00s - loss: 0.0866 - val_loss: 0.0860"
      }
     },
     "a88bf1e9f2b74f6495366d540512dd26": {
      "model_module": "@jupyter-widgets/controls",
      "model_module_version": "1.5.0",
      "model_name": "DescriptionStyleModel",
      "state": {
       "description_width": ""
      }
     },
     "a88dcb938cde460fb9e6ce8b31626164": {
      "model_module": "@jupyter-widgets/controls",
      "model_module_version": "1.5.0",
      "model_name": "ProgressStyleModel",
      "state": {
       "description_width": "initial"
      }
     },
     "a8c7fad876624278b5ceba36254bc000": {
      "model_module": "@jupyter-widgets/base",
      "model_module_version": "1.2.0",
      "model_name": "LayoutModel",
      "state": {}
     },
     "a8da79a606f14bbd844d6a3674a5a380": {
      "model_module": "@jupyter-widgets/controls",
      "model_module_version": "1.5.0",
      "model_name": "HBoxModel",
      "state": {
       "children": [
        "IPY_MODEL_2cebb03a9d7f47a7825e675b6c9c550a",
        "IPY_MODEL_0273358ed6044dbc868f3e9cb71fff23"
       ],
       "layout": "IPY_MODEL_39bc8db5189845e0aef91a29e16eed81"
      }
     },
     "a8dc39914fd74f95b2ddacd3fd281e3f": {
      "model_module": "@jupyter-widgets/base",
      "model_module_version": "1.2.0",
      "model_name": "LayoutModel",
      "state": {
       "flex": "2"
      }
     },
     "a8f9155f2aee4b4bb4dec4d3d48ffd87": {
      "model_module": "@jupyter-widgets/controls",
      "model_module_version": "1.5.0",
      "model_name": "ProgressStyleModel",
      "state": {
       "description_width": "initial"
      }
     },
     "a94c416a4b28413e8c0ca0c1829a21e5": {
      "model_module": "@jupyter-widgets/controls",
      "model_module_version": "1.5.0",
      "model_name": "HTMLModel",
      "state": {
       "layout": "IPY_MODEL_d2c79147298b4df5a56f6e82549400c3",
       "style": "IPY_MODEL_512ad031fa044016ba1b887fbaac1d83",
       "value": " ETA: 00:00s - loss: -1.4835 - val_loss: -1.5085"
      }
     },
     "a977cc2de96d4335946f8e81c76d3c8f": {
      "model_module": "@jupyter-widgets/controls",
      "model_module_version": "1.5.0",
      "model_name": "DescriptionStyleModel",
      "state": {
       "description_width": ""
      }
     },
     "a996ed8b3b424fcb8a42dc5595eeab87": {
      "model_module": "@jupyter-widgets/controls",
      "model_module_version": "1.5.0",
      "model_name": "FloatProgressModel",
      "state": {
       "bar_style": "success",
       "description": "5625/5625",
       "layout": "IPY_MODEL_c9bfe8eabb89471d818756714ed33108",
       "max": 5625,
       "style": "IPY_MODEL_cc5e100b8f534f2cb6a62c907ca7906c",
       "value": 5625
      }
     },
     "a9ac8a6900d64236a86dc1c8d1c4605b": {
      "model_module": "@jupyter-widgets/base",
      "model_module_version": "1.2.0",
      "model_name": "LayoutModel",
      "state": {
       "flex": "2"
      }
     },
     "a9b7aea1c76a432eaaa6cbb4f8923298": {
      "model_module": "@jupyter-widgets/base",
      "model_module_version": "1.2.0",
      "model_name": "LayoutModel",
      "state": {
       "display": "inline-flex",
       "flex_flow": "row wrap",
       "width": "100%"
      }
     },
     "a9c25844c6704879b6dbba3e4a84f017": {
      "model_module": "@jupyter-widgets/base",
      "model_module_version": "1.2.0",
      "model_name": "LayoutModel",
      "state": {
       "display": "inline-flex",
       "flex_flow": "row wrap",
       "width": "100%"
      }
     },
     "a9cabf75716a4381abdecd6ea6a9ec29": {
      "model_module": "@jupyter-widgets/controls",
      "model_module_version": "1.5.0",
      "model_name": "DescriptionStyleModel",
      "state": {
       "description_width": ""
      }
     },
     "a9cb7d2b2cd343ed8025c3ffea07f711": {
      "model_module": "@jupyter-widgets/controls",
      "model_module_version": "1.5.0",
      "model_name": "ProgressStyleModel",
      "state": {
       "description_width": "initial"
      }
     },
     "a9cd0f6b036d48d692f533902fd44e11": {
      "model_module": "@jupyter-widgets/controls",
      "model_module_version": "1.5.0",
      "model_name": "FloatProgressModel",
      "state": {
       "bar_style": "success",
       "description": "5625/5625",
       "layout": "IPY_MODEL_c225b71ea0724501bb047393cd6f7ac2",
       "max": 5625,
       "style": "IPY_MODEL_2b9514b16b1941008cd1c8b45620094a",
       "value": 5625
      }
     },
     "a9e970f14fd941f082badd461f9a5894": {
      "model_module": "@jupyter-widgets/base",
      "model_module_version": "1.2.0",
      "model_name": "LayoutModel",
      "state": {
       "flex": "2"
      }
     },
     "a9ef5623e1f64d6b92eeeea27cfe80ed": {
      "model_module": "@jupyter-widgets/base",
      "model_module_version": "1.2.0",
      "model_name": "LayoutModel",
      "state": {}
     },
     "a9fa47fc41d747a18475ea1b55a4a037": {
      "model_module": "@jupyter-widgets/controls",
      "model_module_version": "1.5.0",
      "model_name": "HBoxModel",
      "state": {
       "children": [
        "IPY_MODEL_3131c6c31bbb4a46bc6fdc770b76c99d",
        "IPY_MODEL_19d92c95a0964322880b9ac864eda06b"
       ],
       "layout": "IPY_MODEL_24f304e7d30943918565615d3c1c5ac5"
      }
     },
     "aa22c932f5a74e3fa7dd0c95df8a82af": {
      "model_module": "@jupyter-widgets/controls",
      "model_module_version": "1.5.0",
      "model_name": "FloatProgressModel",
      "state": {
       "bar_style": "success",
       "description": "5625/5625",
       "layout": "IPY_MODEL_dc112b03afd74842b92fe99a17aa94f2",
       "max": 5625,
       "style": "IPY_MODEL_34eec0cd882c4d16ac2c0eb1af27dae0",
       "value": 5625
      }
     },
     "aa30ab7afa974b3ca412b77defdfd069": {
      "model_module": "@jupyter-widgets/base",
      "model_module_version": "1.2.0",
      "model_name": "LayoutModel",
      "state": {
       "flex": "2"
      }
     },
     "aa46f6ee51304e9eb777bc243f58461f": {
      "model_module": "@jupyter-widgets/base",
      "model_module_version": "1.2.0",
      "model_name": "LayoutModel",
      "state": {
       "flex": "2"
      }
     },
     "aa47e7a245c44c44adbc51ed71ed4138": {
      "model_module": "@jupyter-widgets/controls",
      "model_module_version": "1.5.0",
      "model_name": "FloatProgressModel",
      "state": {
       "bar_style": "success",
       "description": "5625/5625",
       "layout": "IPY_MODEL_f1ae24b4bc164e3596d3a440385a2759",
       "max": 5625,
       "style": "IPY_MODEL_e4cbea272388431b91e1d654ea94c7b9",
       "value": 5625
      }
     },
     "aa5f73e38bf943379d057e9f55373fc1": {
      "model_module": "@jupyter-widgets/controls",
      "model_module_version": "1.5.0",
      "model_name": "FloatProgressModel",
      "state": {
       "bar_style": "success",
       "description": "5625/5625",
       "layout": "IPY_MODEL_fd55bba56bec4351821240da05b40948",
       "max": 5625,
       "style": "IPY_MODEL_ac45a51b28034b9c92f20f027e81f239",
       "value": 5625
      }
     },
     "aa5f9a8ccd424d85bd93e18524eaf890": {
      "model_module": "@jupyter-widgets/base",
      "model_module_version": "1.2.0",
      "model_name": "LayoutModel",
      "state": {
       "flex": "2"
      }
     },
     "aa6ea5b46a62421298f09eb38d7e8aab": {
      "model_module": "@jupyter-widgets/base",
      "model_module_version": "1.2.0",
      "model_name": "LayoutModel",
      "state": {
       "display": "inline-flex",
       "flex_flow": "row wrap",
       "width": "100%"
      }
     },
     "aa7501b694b6413badd3a61e31a6efe2": {
      "model_module": "@jupyter-widgets/controls",
      "model_module_version": "1.5.0",
      "model_name": "ProgressStyleModel",
      "state": {
       "description_width": "initial"
      }
     },
     "aa88b11b50654548ae4e77fc993331e5": {
      "model_module": "@jupyter-widgets/controls",
      "model_module_version": "1.5.0",
      "model_name": "DescriptionStyleModel",
      "state": {
       "description_width": ""
      }
     },
     "aab8d90d9c1b4b4abe5f4160024df9a5": {
      "model_module": "@jupyter-widgets/base",
      "model_module_version": "1.2.0",
      "model_name": "LayoutModel",
      "state": {
       "display": "inline-flex",
       "flex_flow": "row wrap",
       "width": "100%"
      }
     },
     "aac0c39a1a48444da0f8eb9725b93a2f": {
      "model_module": "@jupyter-widgets/controls",
      "model_module_version": "1.5.0",
      "model_name": "HBoxModel",
      "state": {
       "children": [
        "IPY_MODEL_5363826af8ee4df09bbeb6e8c42ab6ea",
        "IPY_MODEL_53e8a7b6602543eaa0e35ca519bb0d8a"
       ],
       "layout": "IPY_MODEL_564b9f1d397649b1a5eac0d2814445f1"
      }
     },
     "aacac49af6c64915982e33a6f518a813": {
      "model_module": "@jupyter-widgets/controls",
      "model_module_version": "1.5.0",
      "model_name": "ProgressStyleModel",
      "state": {
       "description_width": "initial"
      }
     },
     "aadd6fda693e4deead9cf08c0123c389": {
      "model_module": "@jupyter-widgets/controls",
      "model_module_version": "1.5.0",
      "model_name": "ProgressStyleModel",
      "state": {
       "description_width": "initial"
      }
     },
     "ab00e6bb1f0b4a74aa1ff3fc956798a3": {
      "model_module": "@jupyter-widgets/base",
      "model_module_version": "1.2.0",
      "model_name": "LayoutModel",
      "state": {
       "display": "inline-flex",
       "flex_flow": "row wrap",
       "width": "100%"
      }
     },
     "ab2681ede33b41c8b7399e25defb9de5": {
      "model_module": "@jupyter-widgets/controls",
      "model_module_version": "1.5.0",
      "model_name": "FloatProgressModel",
      "state": {
       "bar_style": "success",
       "description": "5625/5625",
       "layout": "IPY_MODEL_a9e970f14fd941f082badd461f9a5894",
       "max": 5625,
       "style": "IPY_MODEL_c4e26e0344df48549442b4a69acd91e8",
       "value": 5625
      }
     },
     "ab53a8490968495585a8dad26edc1828": {
      "model_module": "@jupyter-widgets/controls",
      "model_module_version": "1.5.0",
      "model_name": "HBoxModel",
      "state": {
       "children": [
        "IPY_MODEL_48fe20e0dcbe4ddeb4658d267a9195bf",
        "IPY_MODEL_af46fc8f617c4817bf3283c0d065aa05"
       ],
       "layout": "IPY_MODEL_acc78b02add741259b3ef487f9156cbd"
      }
     },
     "ab6b335142114fc782132470867ef391": {
      "model_module": "@jupyter-widgets/controls",
      "model_module_version": "1.5.0",
      "model_name": "HTMLModel",
      "state": {
       "layout": "IPY_MODEL_1f48b831ed0b48ddae20e3b2f06e91fd",
       "style": "IPY_MODEL_7c37a765516542768790c98c633c4e49",
       "value": " ETA: 00:00s - loss: -1.7075 - val_loss: -1.7141"
      }
     },
     "ab8d944daf334e31ab6d97e6b60c4428": {
      "model_module": "@jupyter-widgets/controls",
      "model_module_version": "1.5.0",
      "model_name": "DescriptionStyleModel",
      "state": {
       "description_width": ""
      }
     },
     "ab9128dc69ab4ecb83c627d9199864fd": {
      "model_module": "@jupyter-widgets/controls",
      "model_module_version": "1.5.0",
      "model_name": "FloatProgressModel",
      "state": {
       "bar_style": "success",
       "description": "5625/5625",
       "layout": "IPY_MODEL_d1a6cac5ec4844cfb9d0bce95573c0f7",
       "max": 5625,
       "style": "IPY_MODEL_a455fac0c77a48e1959b84752dfafbdf",
       "value": 5625
      }
     },
     "ab91357c2c484751baf962dc1b3f5b1d": {
      "model_module": "@jupyter-widgets/controls",
      "model_module_version": "1.5.0",
      "model_name": "ProgressStyleModel",
      "state": {
       "description_width": "initial"
      }
     },
     "ab94374dc3bd4efbad36778a68ec142d": {
      "model_module": "@jupyter-widgets/base",
      "model_module_version": "1.2.0",
      "model_name": "LayoutModel",
      "state": {
       "flex": "2"
      }
     },
     "ab9e9e00d264442fa06ce2fbc2566ed1": {
      "model_module": "@jupyter-widgets/base",
      "model_module_version": "1.2.0",
      "model_name": "LayoutModel",
      "state": {
       "display": "inline-flex",
       "flex_flow": "row wrap",
       "width": "100%"
      }
     },
     "aba2e98b5879451fa82a348a2fba1fca": {
      "model_module": "@jupyter-widgets/controls",
      "model_module_version": "1.5.0",
      "model_name": "HTMLModel",
      "state": {
       "layout": "IPY_MODEL_13d7341bf3724bc88dafa9e949ac5873",
       "style": "IPY_MODEL_68108061816242c5b4749654804e25dc",
       "value": " ETA: 00:00s - loss: -1.8053 - val_loss: -1.7832"
      }
     },
     "abb74f73d3004c8897dad90a81698e7f": {
      "model_module": "@jupyter-widgets/controls",
      "model_module_version": "1.5.0",
      "model_name": "FloatProgressModel",
      "state": {
       "bar_style": "success",
       "description": "5625/5625",
       "layout": "IPY_MODEL_49481efececd4ae7b342ed749f188f0a",
       "max": 5625,
       "style": "IPY_MODEL_e5edd964da9c48c696cab1600b22bfb0",
       "value": 5625
      }
     },
     "abc37c829b7844fb930d9be30e15e0d7": {
      "model_module": "@jupyter-widgets/controls",
      "model_module_version": "1.5.0",
      "model_name": "ProgressStyleModel",
      "state": {
       "description_width": "initial"
      }
     },
     "abe08a475524475eafeae703fa7a0164": {
      "model_module": "@jupyter-widgets/controls",
      "model_module_version": "1.5.0",
      "model_name": "HTMLModel",
      "state": {
       "layout": "IPY_MODEL_1e9e04a4d2a4437bb1cff4cfd3f1794a",
       "style": "IPY_MODEL_ee5e3d76ec534801aab54e9e27a27c78",
       "value": " ETA: 00:00s - loss: -1.4396 - val_loss: -1.4597"
      }
     },
     "abf35ab0d81843939e4f884ceb3f9be0": {
      "model_module": "@jupyter-widgets/controls",
      "model_module_version": "1.5.0",
      "model_name": "HBoxModel",
      "state": {
       "children": [
        "IPY_MODEL_5dfff5497d1c4c13b0ef684a3fab6109",
        "IPY_MODEL_f9aa69e3ab6041b08c5008003ae69509"
       ],
       "layout": "IPY_MODEL_8928610c61c74e508d0959405f2336d2"
      }
     },
     "ac1a1f7a96b84eb6992ccc71036e2a95": {
      "model_module": "@jupyter-widgets/controls",
      "model_module_version": "1.5.0",
      "model_name": "DescriptionStyleModel",
      "state": {
       "description_width": ""
      }
     },
     "ac287acfd5a34f79b0581c88692f4a8e": {
      "model_module": "@jupyter-widgets/base",
      "model_module_version": "1.2.0",
      "model_name": "LayoutModel",
      "state": {
       "flex": "2"
      }
     },
     "ac45a51b28034b9c92f20f027e81f239": {
      "model_module": "@jupyter-widgets/controls",
      "model_module_version": "1.5.0",
      "model_name": "ProgressStyleModel",
      "state": {
       "description_width": "initial"
      }
     },
     "ac9200a9892c483482d4c08c4e1f14e3": {
      "model_module": "@jupyter-widgets/controls",
      "model_module_version": "1.5.0",
      "model_name": "HTMLModel",
      "state": {
       "layout": "IPY_MODEL_ec3a975f618e4ffda43a6b12865fe951",
       "style": "IPY_MODEL_b9064b87e3ff4e67a66f1eb2a275c782",
       "value": " ETA: 00:00s - loss: -1.8002 - val_loss: -1.7849"
      }
     },
     "ac950705e6ab4d6ab267b188ab48dfa9": {
      "model_module": "@jupyter-widgets/controls",
      "model_module_version": "1.5.0",
      "model_name": "ProgressStyleModel",
      "state": {
       "description_width": "initial"
      }
     },
     "ac9c05e662f2452498fa5ca0bfee65bf": {
      "model_module": "@jupyter-widgets/base",
      "model_module_version": "1.2.0",
      "model_name": "LayoutModel",
      "state": {
       "flex": "2"
      }
     },
     "acb215d02ecd4b94a03e5a0c3ec0ba0a": {
      "model_module": "@jupyter-widgets/base",
      "model_module_version": "1.2.0",
      "model_name": "LayoutModel",
      "state": {
       "flex": "2"
      }
     },
     "acc78b02add741259b3ef487f9156cbd": {
      "model_module": "@jupyter-widgets/base",
      "model_module_version": "1.2.0",
      "model_name": "LayoutModel",
      "state": {
       "display": "inline-flex",
       "flex_flow": "row wrap",
       "width": "100%"
      }
     },
     "ace1e0fbb2e34a64bc117987c89d0b8b": {
      "model_module": "@jupyter-widgets/controls",
      "model_module_version": "1.5.0",
      "model_name": "DescriptionStyleModel",
      "state": {
       "description_width": ""
      }
     },
     "ad11ccf8a7f546a3b580189a37ec2c05": {
      "model_module": "@jupyter-widgets/base",
      "model_module_version": "1.2.0",
      "model_name": "LayoutModel",
      "state": {
       "display": "inline-flex",
       "flex_flow": "row wrap",
       "width": "100%"
      }
     },
     "ad4073a97d01436287818d5061de753c": {
      "model_module": "@jupyter-widgets/controls",
      "model_module_version": "1.5.0",
      "model_name": "FloatProgressModel",
      "state": {
       "bar_style": "success",
       "description": "5625/5625",
       "layout": "IPY_MODEL_9e734e4a568e44f49aba0dcf8539dfb7",
       "max": 5625,
       "style": "IPY_MODEL_a7ea4785bcc34b28b33df746e6846e53",
       "value": 5625
      }
     },
     "ad90e35e8eb54e499875b95d8079533b": {
      "model_module": "@jupyter-widgets/base",
      "model_module_version": "1.2.0",
      "model_name": "LayoutModel",
      "state": {}
     },
     "adf88c17b5ca47aa8eeb630879999534": {
      "model_module": "@jupyter-widgets/controls",
      "model_module_version": "1.5.0",
      "model_name": "HTMLModel",
      "state": {
       "layout": "IPY_MODEL_bd5198ce4aa8497e88053f48cf58c033",
       "style": "IPY_MODEL_cc881005435b422b807296a2ff44b641",
       "value": " ETA: 00:00s - loss: -1.7313 - val_loss: -1.7111"
      }
     },
     "adf95a741ccf4843b5c3b460e66d122a": {
      "model_module": "@jupyter-widgets/controls",
      "model_module_version": "1.5.0",
      "model_name": "ProgressStyleModel",
      "state": {
       "description_width": "initial"
      }
     },
     "ae09dda1dfcb4ac3a5d183426a1365e7": {
      "model_module": "@jupyter-widgets/base",
      "model_module_version": "1.2.0",
      "model_name": "LayoutModel",
      "state": {
       "display": "inline-flex",
       "flex_flow": "row wrap",
       "width": "100%"
      }
     },
     "ae0f47ac5204474a908df80af7b3a775": {
      "model_module": "@jupyter-widgets/controls",
      "model_module_version": "1.5.0",
      "model_name": "HTMLModel",
      "state": {
       "layout": "IPY_MODEL_c99e418aba6d477f8dfedef54a9fd148",
       "style": "IPY_MODEL_65d1ee3a598343a09dfc6deff726ea64",
       "value": " ETA: 00:00s - loss: 0.0732 - val_loss: 0.0733"
      }
     },
     "ae20c8c07ce44800a3bc65433d42ab96": {
      "model_module": "@jupyter-widgets/base",
      "model_module_version": "1.2.0",
      "model_name": "LayoutModel",
      "state": {
       "flex": "2"
      }
     },
     "ae356cafb8d941df97d9ec4c4e40ab93": {
      "model_module": "@jupyter-widgets/controls",
      "model_module_version": "1.5.0",
      "model_name": "ProgressStyleModel",
      "state": {
       "description_width": "initial"
      }
     },
     "ae4d48160adf4793a6cb5e8168605abe": {
      "model_module": "@jupyter-widgets/base",
      "model_module_version": "1.2.0",
      "model_name": "LayoutModel",
      "state": {
       "flex": "2"
      }
     },
     "ae60a02d6c454c57bdd5e971f628c41c": {
      "model_module": "@jupyter-widgets/controls",
      "model_module_version": "1.5.0",
      "model_name": "FloatProgressModel",
      "state": {
       "bar_style": "success",
       "description": "5625/5625",
       "layout": "IPY_MODEL_671c28c88f9140b58cff3a9e4c3f5975",
       "max": 5625,
       "style": "IPY_MODEL_aadd6fda693e4deead9cf08c0123c389",
       "value": 5625
      }
     },
     "ae88456b0b394461a28e70951da2eb3d": {
      "model_module": "@jupyter-widgets/controls",
      "model_module_version": "1.5.0",
      "model_name": "HBoxModel",
      "state": {
       "children": [
        "IPY_MODEL_0e29fb1846d4483694ecb05a963e7faf",
        "IPY_MODEL_7f8a276e1ee54dbdb7ed1bede7bfa042"
       ],
       "layout": "IPY_MODEL_44bb09c934cc428eb9805d24f29d1d64"
      }
     },
     "aea05d2ed0024ca58bd67e6bc742de38": {
      "model_module": "@jupyter-widgets/controls",
      "model_module_version": "1.5.0",
      "model_name": "HTMLModel",
      "state": {
       "layout": "IPY_MODEL_e90a665a294648b6a7735b49098cb2b9",
       "style": "IPY_MODEL_d0c0831fec164a61a489978c1d5a9210",
       "value": " ETA: 00:00s - loss: 0.1056 - val_loss: 0.0651"
      }
     },
     "aea7100c232a4f19b675523f130853cd": {
      "model_module": "@jupyter-widgets/base",
      "model_module_version": "1.2.0",
      "model_name": "LayoutModel",
      "state": {
       "display": "inline-flex",
       "flex_flow": "row wrap",
       "width": "100%"
      }
     },
     "aefac67ac2664f929840bcbf9141c391": {
      "model_module": "@jupyter-widgets/controls",
      "model_module_version": "1.5.0",
      "model_name": "DescriptionStyleModel",
      "state": {
       "description_width": ""
      }
     },
     "af46fc8f617c4817bf3283c0d065aa05": {
      "model_module": "@jupyter-widgets/controls",
      "model_module_version": "1.5.0",
      "model_name": "HTMLModel",
      "state": {
       "layout": "IPY_MODEL_8a59fa8fd194427d9c08919877e4fd2f",
       "style": "IPY_MODEL_04a313c9249749dca358badf1bdc1499",
       "value": " ETA: 00:00s - loss: -1.3795 - val_loss: -1.4239"
      }
     },
     "af5d4aecba5c4b5ea7fde07a9b513b65": {
      "model_module": "@jupyter-widgets/controls",
      "model_module_version": "1.5.0",
      "model_name": "ProgressStyleModel",
      "state": {
       "description_width": "initial"
      }
     },
     "af5d8ca03f204ebf87046ec323578870": {
      "model_module": "@jupyter-widgets/base",
      "model_module_version": "1.2.0",
      "model_name": "LayoutModel",
      "state": {}
     },
     "af6edc80b71a4caca974aa30b1ba9f21": {
      "model_module": "@jupyter-widgets/controls",
      "model_module_version": "1.5.0",
      "model_name": "ProgressStyleModel",
      "state": {
       "description_width": "initial"
      }
     },
     "af89fbde8c5e4b2da462db5aad890b45": {
      "model_module": "@jupyter-widgets/controls",
      "model_module_version": "1.5.0",
      "model_name": "FloatProgressModel",
      "state": {
       "bar_style": "success",
       "description": "5625/5625",
       "layout": "IPY_MODEL_48fdab4aa83a44b48eca838795488a2a",
       "max": 5625,
       "style": "IPY_MODEL_2a4087fea3a84f65aba203b0743a2033",
       "value": 5625
      }
     },
     "afab6e956af04480906da7c5a1cea76d": {
      "model_module": "@jupyter-widgets/base",
      "model_module_version": "1.2.0",
      "model_name": "LayoutModel",
      "state": {
       "display": "inline-flex",
       "flex_flow": "row wrap",
       "width": "100%"
      }
     },
     "afe476e0634745b9a0658bcc00464537": {
      "model_module": "@jupyter-widgets/controls",
      "model_module_version": "1.5.0",
      "model_name": "ProgressStyleModel",
      "state": {
       "description_width": "initial"
      }
     },
     "afe6ad14d9f2428393934ec25aa5fff9": {
      "model_module": "@jupyter-widgets/base",
      "model_module_version": "1.2.0",
      "model_name": "LayoutModel",
      "state": {
       "display": "inline-flex",
       "flex_flow": "row wrap",
       "width": "100%"
      }
     },
     "b0079c7233a44ead81e07ab019a362f3": {
      "model_module": "@jupyter-widgets/controls",
      "model_module_version": "1.5.0",
      "model_name": "FloatProgressModel",
      "state": {
       "bar_style": "success",
       "description": "5625/5625",
       "layout": "IPY_MODEL_98cdf97ec41443069ee39fe6f656da84",
       "max": 5625,
       "style": "IPY_MODEL_6f2a7af7053c4b2f97639df248ff9a40",
       "value": 5625
      }
     },
     "b01bf97e9da34f2daeab82bf18214286": {
      "model_module": "@jupyter-widgets/base",
      "model_module_version": "1.2.0",
      "model_name": "LayoutModel",
      "state": {
       "display": "inline-flex",
       "flex_flow": "row wrap",
       "width": "100%"
      }
     },
     "b04ca5daaadc420ea7ae7ecf41ed8258": {
      "model_module": "@jupyter-widgets/base",
      "model_module_version": "1.2.0",
      "model_name": "LayoutModel",
      "state": {
       "flex": "2"
      }
     },
     "b054e7b4dfc14aa1a4099056e40c33b1": {
      "model_module": "@jupyter-widgets/controls",
      "model_module_version": "1.5.0",
      "model_name": "DescriptionStyleModel",
      "state": {
       "description_width": ""
      }
     },
     "b05c15c030564fca99bf16549eb19687": {
      "model_module": "@jupyter-widgets/controls",
      "model_module_version": "1.5.0",
      "model_name": "HBoxModel",
      "state": {
       "children": [
        "IPY_MODEL_353aacca153a4fce9d10c75f4733de5d",
        "IPY_MODEL_f29a92e9793f46c98ab6c717d99e7bfd"
       ],
       "layout": "IPY_MODEL_58c4959074e14a799b58eb39b6e58c86"
      }
     },
     "b0a2b770422747a3b8974c88e40fd26e": {
      "model_module": "@jupyter-widgets/controls",
      "model_module_version": "1.5.0",
      "model_name": "DescriptionStyleModel",
      "state": {
       "description_width": ""
      }
     },
     "b0cafcd9127e47519d52f6eeb0ea86d2": {
      "model_module": "@jupyter-widgets/controls",
      "model_module_version": "1.5.0",
      "model_name": "HBoxModel",
      "state": {
       "children": [
        "IPY_MODEL_21d5cb149a804369b0e8e66cbd061a3e",
        "IPY_MODEL_f035ff12ce5b4458a76e3851b174beaf"
       ],
       "layout": "IPY_MODEL_da3dab8b99fd4e75b79d5d149d2365c2"
      }
     },
     "b104f9da332640a38e92886b20c50aba": {
      "model_module": "@jupyter-widgets/controls",
      "model_module_version": "1.5.0",
      "model_name": "DescriptionStyleModel",
      "state": {
       "description_width": ""
      }
     },
     "b154f5ef9da84794b2cddba5d6c7b0ef": {
      "model_module": "@jupyter-widgets/controls",
      "model_module_version": "1.5.0",
      "model_name": "HTMLModel",
      "state": {
       "layout": "IPY_MODEL_3265dd4f66624be487053dbac258b851",
       "style": "IPY_MODEL_114d8731842648a38cf4f7c1b9b416f4",
       "value": " ETA: 00:00s - loss: 0.0702 - val_loss: 0.0729"
      }
     },
     "b15bd418dc574515a66f30c0f1d685bc": {
      "model_module": "@jupyter-widgets/controls",
      "model_module_version": "1.5.0",
      "model_name": "ProgressStyleModel",
      "state": {
       "description_width": "initial"
      }
     },
     "b165a1a8826742c29eee9204cb448796": {
      "model_module": "@jupyter-widgets/controls",
      "model_module_version": "1.5.0",
      "model_name": "FloatProgressModel",
      "state": {
       "bar_style": "success",
       "description": "5625/5625",
       "layout": "IPY_MODEL_aa5f9a8ccd424d85bd93e18524eaf890",
       "max": 5625,
       "style": "IPY_MODEL_7a4c1e6189cb47a9b9dfd4b88d083f7c",
       "value": 5625
      }
     },
     "b193fe220a2e40009bb9509b9691d7a1": {
      "model_module": "@jupyter-widgets/controls",
      "model_module_version": "1.5.0",
      "model_name": "FloatProgressModel",
      "state": {
       "bar_style": "success",
       "description": "5625/5625",
       "layout": "IPY_MODEL_dbc4df9191d2411c84ba67c47074663a",
       "max": 5625,
       "style": "IPY_MODEL_b4f507ef1c4d4c4a8e7ced8740507100",
       "value": 5625
      }
     },
     "b195d1489c6c483ba472ad43b64c6c75": {
      "model_module": "@jupyter-widgets/controls",
      "model_module_version": "1.5.0",
      "model_name": "DescriptionStyleModel",
      "state": {
       "description_width": ""
      }
     },
     "b197726c58db4f5ba8cc632dff230260": {
      "model_module": "@jupyter-widgets/base",
      "model_module_version": "1.2.0",
      "model_name": "LayoutModel",
      "state": {
       "display": "inline-flex",
       "flex_flow": "row wrap",
       "width": "100%"
      }
     },
     "b1a5bb3d7c1841af85334b166e84da5d": {
      "model_module": "@jupyter-widgets/base",
      "model_module_version": "1.2.0",
      "model_name": "LayoutModel",
      "state": {}
     },
     "b1c3f009ff3b462ab2ecf6b17b7d221e": {
      "model_module": "@jupyter-widgets/controls",
      "model_module_version": "1.5.0",
      "model_name": "HBoxModel",
      "state": {
       "children": [
        "IPY_MODEL_8bf9bf2165214bec9bd2615e56d0b15f",
        "IPY_MODEL_ab6b335142114fc782132470867ef391"
       ],
       "layout": "IPY_MODEL_75f4450341b547a19f7e8cd30f5a86bf"
      }
     },
     "b1c7d6c48a664684af2d82a596da1bcc": {
      "model_module": "@jupyter-widgets/base",
      "model_module_version": "1.2.0",
      "model_name": "LayoutModel",
      "state": {
       "flex": "2"
      }
     },
     "b1df4c4f563e4f8a9e81f4e99ba8a5bd": {
      "model_module": "@jupyter-widgets/controls",
      "model_module_version": "1.5.0",
      "model_name": "FloatProgressModel",
      "state": {
       "bar_style": "success",
       "description": "5625/5625",
       "layout": "IPY_MODEL_37e9c87b5d854c738e80b16cbebc1cac",
       "max": 5625,
       "style": "IPY_MODEL_e0f662ecd74642e5954352ae0d952cca",
       "value": 5625
      }
     },
     "b1e11f0399814567947d7f51c4ede20e": {
      "model_module": "@jupyter-widgets/controls",
      "model_module_version": "1.5.0",
      "model_name": "HBoxModel",
      "state": {
       "children": [
        "IPY_MODEL_abb74f73d3004c8897dad90a81698e7f",
        "IPY_MODEL_c53b8a4bb21c48c29454cacd2548edcb"
       ],
       "layout": "IPY_MODEL_0d05cddc6134406f96497cd07ca05b37"
      }
     },
     "b1f4fc1fb4634463ae7353446efde734": {
      "model_module": "@jupyter-widgets/controls",
      "model_module_version": "1.5.0",
      "model_name": "HTMLModel",
      "state": {
       "layout": "IPY_MODEL_2c72b52a3c8944c9ba839e67215ebb7f",
       "style": "IPY_MODEL_0f856cdf837b4e71b932179d3ef6e147",
       "value": " ETA: 00:00s - loss: -1.7959 - val_loss: -1.7970"
      }
     },
     "b210a75fdedd49109d1aa20712bd3cb0": {
      "model_module": "@jupyter-widgets/base",
      "model_module_version": "1.2.0",
      "model_name": "LayoutModel",
      "state": {
       "flex": "2"
      }
     },
     "b226e7214b024bdd885c672c9f7be359": {
      "model_module": "@jupyter-widgets/base",
      "model_module_version": "1.2.0",
      "model_name": "LayoutModel",
      "state": {}
     },
     "b22b2a88765e49a88a9613293eb71beb": {
      "model_module": "@jupyter-widgets/controls",
      "model_module_version": "1.5.0",
      "model_name": "DescriptionStyleModel",
      "state": {
       "description_width": ""
      }
     },
     "b233cb75adee4ef08d64208be4e95dbc": {
      "model_module": "@jupyter-widgets/controls",
      "model_module_version": "1.5.0",
      "model_name": "DescriptionStyleModel",
      "state": {
       "description_width": ""
      }
     },
     "b238bf0e4f3144f7a5e5fed120ad508f": {
      "model_module": "@jupyter-widgets/base",
      "model_module_version": "1.2.0",
      "model_name": "LayoutModel",
      "state": {}
     },
     "b23c1cc3aa8b43ae881aff83af5ea778": {
      "model_module": "@jupyter-widgets/controls",
      "model_module_version": "1.5.0",
      "model_name": "DescriptionStyleModel",
      "state": {
       "description_width": ""
      }
     },
     "b23f79f8d6f8413881f76c37a7d6dce3": {
      "model_module": "@jupyter-widgets/controls",
      "model_module_version": "1.5.0",
      "model_name": "DescriptionStyleModel",
      "state": {
       "description_width": ""
      }
     },
     "b2505dfd879548d8adc2abaa606d9542": {
      "model_module": "@jupyter-widgets/controls",
      "model_module_version": "1.5.0",
      "model_name": "DescriptionStyleModel",
      "state": {
       "description_width": ""
      }
     },
     "b26e1febfb694ee898b58521fa4478ec": {
      "model_module": "@jupyter-widgets/controls",
      "model_module_version": "1.5.0",
      "model_name": "FloatProgressModel",
      "state": {
       "bar_style": "success",
       "description": "5625/5625",
       "layout": "IPY_MODEL_bae621af289c40f3b98c1234dd29938d",
       "max": 5625,
       "style": "IPY_MODEL_524b8534a63c4be2b00b90c624e76d1d",
       "value": 5625
      }
     },
     "b271982e3bc84feda8e72a2e22f5360a": {
      "model_module": "@jupyter-widgets/controls",
      "model_module_version": "1.5.0",
      "model_name": "HBoxModel",
      "state": {
       "children": [
        "IPY_MODEL_9295ca9ae59944119e4640a1b5afd752",
        "IPY_MODEL_811f8cede1e24e79bce6df9cc2964c21"
       ],
       "layout": "IPY_MODEL_f556bb6c0aab41d7a1efe9599137d204"
      }
     },
     "b274149094404e1c83b064bd54f50277": {
      "model_module": "@jupyter-widgets/controls",
      "model_module_version": "1.5.0",
      "model_name": "HTMLModel",
      "state": {
       "layout": "IPY_MODEL_cdb10141868243869b8ecff1017bd85d",
       "style": "IPY_MODEL_132157091f0345faa24097741cdfbdaa",
       "value": " ETA: 00:00s - loss: 0.0698 - val_loss: 0.0713"
      }
     },
     "b2771ca4f4304c718cbfbfb934c0df14": {
      "model_module": "@jupyter-widgets/controls",
      "model_module_version": "1.5.0",
      "model_name": "HTMLModel",
      "state": {
       "layout": "IPY_MODEL_4467967279134ac68d2e1f461fbc52da",
       "style": "IPY_MODEL_86981dcb0b2749c687769865c0bb19e3",
       "value": " ETA: 00:00s - loss: -1.7800 - val_loss: -1.7795"
      }
     },
     "b280745042a14d56a56fd150242ed7d9": {
      "model_module": "@jupyter-widgets/base",
      "model_module_version": "1.2.0",
      "model_name": "LayoutModel",
      "state": {}
     },
     "b28bc7cda8574fef80d1364725618488": {
      "model_module": "@jupyter-widgets/base",
      "model_module_version": "1.2.0",
      "model_name": "LayoutModel",
      "state": {}
     },
     "b29fb41e74be4964b7edc531c1f8e077": {
      "model_module": "@jupyter-widgets/controls",
      "model_module_version": "1.5.0",
      "model_name": "ProgressStyleModel",
      "state": {
       "description_width": "initial"
      }
     },
     "b2cda737c78d4e62845e9231e2b1553d": {
      "model_module": "@jupyter-widgets/base",
      "model_module_version": "1.2.0",
      "model_name": "LayoutModel",
      "state": {
       "display": "inline-flex",
       "flex_flow": "row wrap",
       "width": "100%"
      }
     },
     "b2fec12296ee49579005dd906990e179": {
      "model_module": "@jupyter-widgets/controls",
      "model_module_version": "1.5.0",
      "model_name": "FloatProgressModel",
      "state": {
       "bar_style": "success",
       "description": "5625/5625",
       "layout": "IPY_MODEL_bd34bf89173d4ed890c77eb69495e78b",
       "max": 5625,
       "style": "IPY_MODEL_15166ce737a946d795dfdcff12483413",
       "value": 5625
      }
     },
     "b30f060087df4bfe86b659d60366718a": {
      "model_module": "@jupyter-widgets/controls",
      "model_module_version": "1.5.0",
      "model_name": "FloatProgressModel",
      "state": {
       "bar_style": "success",
       "description": "5625/5625",
       "layout": "IPY_MODEL_1b3d7ffcdd4d4d0a8c9c13b120ff5663",
       "max": 5625,
       "style": "IPY_MODEL_f4d9138e214a4116a96f5e0de92b0ef2",
       "value": 5625
      }
     },
     "b335ffa018f64f6f91d244bb15889856": {
      "model_module": "@jupyter-widgets/base",
      "model_module_version": "1.2.0",
      "model_name": "LayoutModel",
      "state": {}
     },
     "b366bcc5ba0e42ba987cc13e0cbe9a2b": {
      "model_module": "@jupyter-widgets/base",
      "model_module_version": "1.2.0",
      "model_name": "LayoutModel",
      "state": {
       "display": "inline-flex",
       "flex_flow": "row wrap",
       "width": "100%"
      }
     },
     "b3746cb68ce3459c96dd64b2afdcf718": {
      "model_module": "@jupyter-widgets/controls",
      "model_module_version": "1.5.0",
      "model_name": "HBoxModel",
      "state": {
       "children": [
        "IPY_MODEL_db6136507b594bca8b09d31283b45324",
        "IPY_MODEL_ca7ffd8cecc145cfaa4b7e5533ae2fd0"
       ],
       "layout": "IPY_MODEL_38616e35aad042f6a280e41bdff4df1d"
      }
     },
     "b38f65c3e04d4cd18894276148054f7b": {
      "model_module": "@jupyter-widgets/controls",
      "model_module_version": "1.5.0",
      "model_name": "HBoxModel",
      "state": {
       "children": [
        "IPY_MODEL_1f57252fc1f74f16afcbd60a13286e31",
        "IPY_MODEL_d80fe4841a5d4d6d86ba06ab67852ed1"
       ],
       "layout": "IPY_MODEL_25405b2b8136420c87d3819cd30d1d10"
      }
     },
     "b3a3fa45c512401faf7aef79de1e2457": {
      "model_module": "@jupyter-widgets/controls",
      "model_module_version": "1.5.0",
      "model_name": "HBoxModel",
      "state": {
       "children": [
        "IPY_MODEL_ca7e23c8791a4edd8565c0c053ba57c1",
        "IPY_MODEL_e0f1a5b0cfed41d092fe266b7844fac6"
       ],
       "layout": "IPY_MODEL_810e8477cf404f6d873680387a13b91f"
      }
     },
     "b3ac6f22b9114643b2eca6569b85406e": {
      "model_module": "@jupyter-widgets/controls",
      "model_module_version": "1.5.0",
      "model_name": "ProgressStyleModel",
      "state": {
       "description_width": "initial"
      }
     },
     "b3c55f41bc7f47c6a6821a7f6125d153": {
      "model_module": "@jupyter-widgets/controls",
      "model_module_version": "1.5.0",
      "model_name": "ProgressStyleModel",
      "state": {
       "description_width": "initial"
      }
     },
     "b3dc9ace348d4937a6a117975bb7c474": {
      "model_module": "@jupyter-widgets/controls",
      "model_module_version": "1.5.0",
      "model_name": "FloatProgressModel",
      "state": {
       "bar_style": "success",
       "description": "5625/5625",
       "layout": "IPY_MODEL_d2e56c5088844419b172dc81d2330121",
       "max": 5625,
       "style": "IPY_MODEL_44b90d40a59d4ef79e75edb8c7295f81",
       "value": 5625
      }
     },
     "b3f944d430914b12bfa62456b8fb1cff": {
      "model_module": "@jupyter-widgets/base",
      "model_module_version": "1.2.0",
      "model_name": "LayoutModel",
      "state": {
       "flex": "2"
      }
     },
     "b41a8ba969154bf5bc1c1da9c71b22e6": {
      "model_module": "@jupyter-widgets/controls",
      "model_module_version": "1.5.0",
      "model_name": "DescriptionStyleModel",
      "state": {
       "description_width": ""
      }
     },
     "b46ac7e4526f46658287560e48818db6": {
      "model_module": "@jupyter-widgets/controls",
      "model_module_version": "1.5.0",
      "model_name": "DescriptionStyleModel",
      "state": {
       "description_width": ""
      }
     },
     "b49bfdbc3a2b439ca9192abae6313a2e": {
      "model_module": "@jupyter-widgets/controls",
      "model_module_version": "1.5.0",
      "model_name": "HTMLModel",
      "state": {
       "layout": "IPY_MODEL_8a8cb6325e814f02a2bfd1c9c85bf9b5",
       "style": "IPY_MODEL_22f2f07421e1404798e091f3c44f36ba",
       "value": " ETA: 00:00s - loss: 0.0287 - val_loss: 0.0293"
      }
     },
     "b49db9139c224be692b81bf9691d9319": {
      "model_module": "@jupyter-widgets/controls",
      "model_module_version": "1.5.0",
      "model_name": "ProgressStyleModel",
      "state": {
       "description_width": "initial"
      }
     },
     "b4af88cfacd540ba928ed04523d04448": {
      "model_module": "@jupyter-widgets/controls",
      "model_module_version": "1.5.0",
      "model_name": "DescriptionStyleModel",
      "state": {
       "description_width": ""
      }
     },
     "b4f507ef1c4d4c4a8e7ced8740507100": {
      "model_module": "@jupyter-widgets/controls",
      "model_module_version": "1.5.0",
      "model_name": "ProgressStyleModel",
      "state": {
       "description_width": "initial"
      }
     },
     "b4f92524b06e414f997018fc6508cbdb": {
      "model_module": "@jupyter-widgets/controls",
      "model_module_version": "1.5.0",
      "model_name": "FloatProgressModel",
      "state": {
       "bar_style": "success",
       "description": "5625/5625",
       "layout": "IPY_MODEL_36f4a96838b4448584479de35aba6be4",
       "max": 5625,
       "style": "IPY_MODEL_11bc486d34714e938e97581bd7ecf6dd",
       "value": 5625
      }
     },
     "b5021e009b5e45d89411ec8c6e0d691c": {
      "model_module": "@jupyter-widgets/controls",
      "model_module_version": "1.5.0",
      "model_name": "HTMLModel",
      "state": {
       "layout": "IPY_MODEL_f40177fbb25f4093832fb3c75247e56a",
       "style": "IPY_MODEL_83c3dbb127df48448db04cf621a175b4",
       "value": " ETA: 00:00s - loss: 0.0317 - val_loss: 0.0304"
      }
     },
     "b50662e8bdb445b79c56d49ef73d1b5c": {
      "model_module": "@jupyter-widgets/controls",
      "model_module_version": "1.5.0",
      "model_name": "HTMLModel",
      "state": {
       "layout": "IPY_MODEL_ad90e35e8eb54e499875b95d8079533b",
       "style": "IPY_MODEL_637572d042bb45b08e1dea17f68a771e",
       "value": " ETA: 00:00s - loss: 0.0276 - val_loss: 0.0292"
      }
     },
     "b530cac2970e438d94438c3fdda97bec": {
      "model_module": "@jupyter-widgets/base",
      "model_module_version": "1.2.0",
      "model_name": "LayoutModel",
      "state": {
       "flex": "2"
      }
     },
     "b539f10b57f24458b9da853430f59200": {
      "model_module": "@jupyter-widgets/controls",
      "model_module_version": "1.5.0",
      "model_name": "ProgressStyleModel",
      "state": {
       "description_width": "initial"
      }
     },
     "b557506d7f974ef6adf869d9bfc9e3f9": {
      "model_module": "@jupyter-widgets/controls",
      "model_module_version": "1.5.0",
      "model_name": "HBoxModel",
      "state": {
       "children": [
        "IPY_MODEL_e12f6f555e004c07a917fb8906ae4992",
        "IPY_MODEL_b2771ca4f4304c718cbfbfb934c0df14"
       ],
       "layout": "IPY_MODEL_324a9fb2de2444e78b41565df915e093"
      }
     },
     "b5710c2ca0b4459a9ae944671665ad0f": {
      "model_module": "@jupyter-widgets/base",
      "model_module_version": "1.2.0",
      "model_name": "LayoutModel",
      "state": {
       "display": "inline-flex",
       "flex_flow": "row wrap",
       "width": "100%"
      }
     },
     "b58cefe80db140b48aa37b118592d4dc": {
      "model_module": "@jupyter-widgets/controls",
      "model_module_version": "1.5.0",
      "model_name": "FloatProgressModel",
      "state": {
       "bar_style": "danger",
       "description": "Training:  13%",
       "layout": "IPY_MODEL_685441b086a64dbea503a41ba3a655eb",
       "max": 1000,
       "style": "IPY_MODEL_9fc4c20b7853468d863d8060907f2890",
       "value": 134
      }
     },
     "b59ac157fe0f47f8a62ff0ef0cdc32f6": {
      "model_module": "@jupyter-widgets/base",
      "model_module_version": "1.2.0",
      "model_name": "LayoutModel",
      "state": {
       "display": "inline-flex",
       "flex_flow": "row wrap",
       "width": "100%"
      }
     },
     "b59fc5168a844c6bbd22df017b31237c": {
      "model_module": "@jupyter-widgets/controls",
      "model_module_version": "1.5.0",
      "model_name": "HBoxModel",
      "state": {
       "children": [
        "IPY_MODEL_94898c9aa17643aba8a3d90fbd444d5c",
        "IPY_MODEL_e2d416b719d54c65869909999a19242c"
       ],
       "layout": "IPY_MODEL_f8a4dbec2e23410a84b60954c9fa1655"
      }
     },
     "b5d77f794c654fc386c8771f080568b1": {
      "model_module": "@jupyter-widgets/controls",
      "model_module_version": "1.5.0",
      "model_name": "ProgressStyleModel",
      "state": {
       "description_width": "initial"
      }
     },
     "b5ead08959644f68897a96c0be366a86": {
      "model_module": "@jupyter-widgets/controls",
      "model_module_version": "1.5.0",
      "model_name": "HBoxModel",
      "state": {
       "children": [
        "IPY_MODEL_df61542ee8f04062b18f252cfed08ab9",
        "IPY_MODEL_6c85da9846774591973c7f8cd082531f"
       ],
       "layout": "IPY_MODEL_dd1f62eebfa84eeebfb06b407ab9aff2"
      }
     },
     "b5ec0cbafa11436495db10f98bfc0230": {
      "model_module": "@jupyter-widgets/controls",
      "model_module_version": "1.5.0",
      "model_name": "ProgressStyleModel",
      "state": {
       "description_width": "initial"
      }
     },
     "b5ec92e305cf4d48b0eb685994c7b3cb": {
      "model_module": "@jupyter-widgets/base",
      "model_module_version": "1.2.0",
      "model_name": "LayoutModel",
      "state": {
       "display": "inline-flex",
       "flex_flow": "row wrap",
       "width": "100%"
      }
     },
     "b60dcde961e745fb9c7bc948db88ecea": {
      "model_module": "@jupyter-widgets/base",
      "model_module_version": "1.2.0",
      "model_name": "LayoutModel",
      "state": {
       "flex": "2"
      }
     },
     "b6172e0ef7a84919b86e5dde69b8b741": {
      "model_module": "@jupyter-widgets/base",
      "model_module_version": "1.2.0",
      "model_name": "LayoutModel",
      "state": {
       "flex": "2"
      }
     },
     "b632afed94454b3f918e2b5b058eb200": {
      "model_module": "@jupyter-widgets/controls",
      "model_module_version": "1.5.0",
      "model_name": "HTMLModel",
      "state": {
       "layout": "IPY_MODEL_3d7273316504499e88641b50c4c5a648",
       "style": "IPY_MODEL_f9fa6d3b8ef44dd8a0d3cdf4cebfa93a",
       "value": " ETA: 00:00s - loss: 0.0347 - val_loss: 0.0347"
      }
     },
     "b638c067bb6e4e4fbe0e4a1d8a414e5f": {
      "model_module": "@jupyter-widgets/controls",
      "model_module_version": "1.5.0",
      "model_name": "ProgressStyleModel",
      "state": {
       "description_width": "initial"
      }
     },
     "b639bc3d667d4eefbaaf4e1e3687084b": {
      "model_module": "@jupyter-widgets/base",
      "model_module_version": "1.2.0",
      "model_name": "LayoutModel",
      "state": {}
     },
     "b669925117d54bc19835c12799e5f256": {
      "model_module": "@jupyter-widgets/controls",
      "model_module_version": "1.5.0",
      "model_name": "FloatProgressModel",
      "state": {
       "bar_style": "success",
       "description": "5625/5625",
       "layout": "IPY_MODEL_4c832cf97a904cc6b48859be1b2bf369",
       "max": 5625,
       "style": "IPY_MODEL_ca1b8e7edb0e41a5a7506de6c51d936a",
       "value": 5625
      }
     },
     "b66dfd668c4244daaabda0c413ae102f": {
      "model_module": "@jupyter-widgets/base",
      "model_module_version": "1.2.0",
      "model_name": "LayoutModel",
      "state": {
       "flex": "2"
      }
     },
     "b6741b5826c94c7e9ea7002df85b5a10": {
      "model_module": "@jupyter-widgets/controls",
      "model_module_version": "1.5.0",
      "model_name": "HBoxModel",
      "state": {
       "children": [
        "IPY_MODEL_6934e6a3740448009eab3a0c8aee469c",
        "IPY_MODEL_989ff4a83fbb468eb81465cc71a339ec"
       ],
       "layout": "IPY_MODEL_48a5e92f07ba4101ab563248f68759cd"
      }
     },
     "b684ba1363664084a677fc05ccc3265b": {
      "model_module": "@jupyter-widgets/controls",
      "model_module_version": "1.5.0",
      "model_name": "DescriptionStyleModel",
      "state": {
       "description_width": ""
      }
     },
     "b697c973d1364f08b43921448d83b0ab": {
      "model_module": "@jupyter-widgets/base",
      "model_module_version": "1.2.0",
      "model_name": "LayoutModel",
      "state": {}
     },
     "b6a3807957fc4b2abe60771803cee53d": {
      "model_module": "@jupyter-widgets/controls",
      "model_module_version": "1.5.0",
      "model_name": "HBoxModel",
      "state": {
       "children": [
        "IPY_MODEL_4edab7d41cf644479d15251185befe60",
        "IPY_MODEL_e0272c8c2d974c1891674b71bf36bd7b"
       ],
       "layout": "IPY_MODEL_f374c21aa11742418741104999653857"
      }
     },
     "b6aeabba56624443a8127c2f3ff6ad4c": {
      "model_module": "@jupyter-widgets/controls",
      "model_module_version": "1.5.0",
      "model_name": "ProgressStyleModel",
      "state": {
       "description_width": "initial"
      }
     },
     "b6ba21dabd43490fa4dd94ee7b2b2414": {
      "model_module": "@jupyter-widgets/controls",
      "model_module_version": "1.5.0",
      "model_name": "ProgressStyleModel",
      "state": {
       "description_width": "initial"
      }
     },
     "b6bc06ddbf764b75a0b94ac6f9432d50": {
      "model_module": "@jupyter-widgets/base",
      "model_module_version": "1.2.0",
      "model_name": "LayoutModel",
      "state": {
       "display": "inline-flex",
       "flex_flow": "row wrap",
       "width": "100%"
      }
     },
     "b6bd22af5ae64eac8c40b4f5098526c4": {
      "model_module": "@jupyter-widgets/controls",
      "model_module_version": "1.5.0",
      "model_name": "FloatProgressModel",
      "state": {
       "bar_style": "success",
       "description": "5625/5625",
       "layout": "IPY_MODEL_e5172fb84ed44c89b90d3d3e1c5bdfd8",
       "max": 5625,
       "style": "IPY_MODEL_d839cc670fff45b0811a9bf4ed1b0f80",
       "value": 5625
      }
     },
     "b6dd5b7699114d5db0ed7f1c2b0bb1f2": {
      "model_module": "@jupyter-widgets/base",
      "model_module_version": "1.2.0",
      "model_name": "LayoutModel",
      "state": {}
     },
     "b6ea1ed76fb441679b6f721cea7cb46d": {
      "model_module": "@jupyter-widgets/base",
      "model_module_version": "1.2.0",
      "model_name": "LayoutModel",
      "state": {
       "flex": "2"
      }
     },
     "b6ee16c8f29f4f42b73f02ba9899f5d4": {
      "model_module": "@jupyter-widgets/controls",
      "model_module_version": "1.5.0",
      "model_name": "ProgressStyleModel",
      "state": {
       "description_width": "initial"
      }
     },
     "b6fc44a329e8446781e4dfebed5a5706": {
      "model_module": "@jupyter-widgets/controls",
      "model_module_version": "1.5.0",
      "model_name": "ProgressStyleModel",
      "state": {
       "description_width": "initial"
      }
     },
     "b707e41295ac499fba15fc4905872ff6": {
      "model_module": "@jupyter-widgets/controls",
      "model_module_version": "1.5.0",
      "model_name": "ProgressStyleModel",
      "state": {
       "description_width": "initial"
      }
     },
     "b71286479e194511b08d7f50e9e5d658": {
      "model_module": "@jupyter-widgets/controls",
      "model_module_version": "1.5.0",
      "model_name": "HBoxModel",
      "state": {
       "children": [
        "IPY_MODEL_85f07a2ba12d492e9da98e2669c01168",
        "IPY_MODEL_dd483be33c154d4ab01b41a7103cb019"
       ],
       "layout": "IPY_MODEL_b8abdd8ce85246bb87445601c243f688"
      }
     },
     "b7234682328c4f3cb919c3b92484aafd": {
      "model_module": "@jupyter-widgets/controls",
      "model_module_version": "1.5.0",
      "model_name": "HTMLModel",
      "state": {
       "layout": "IPY_MODEL_1ee760cb292b4cabafb2c1c34a1b5291",
       "style": "IPY_MODEL_664698a1bb4048939bf060fdd99084c9",
       "value": " ETA: 00:00s - loss: 0.0414 - val_loss: 0.0386"
      }
     },
     "b7255f045057434ca38a1c834ce0f3ce": {
      "model_module": "@jupyter-widgets/base",
      "model_module_version": "1.2.0",
      "model_name": "LayoutModel",
      "state": {
       "flex": "2"
      }
     },
     "b75a6ccd589d45ca8e8428e5091922bb": {
      "model_module": "@jupyter-widgets/base",
      "model_module_version": "1.2.0",
      "model_name": "LayoutModel",
      "state": {}
     },
     "b7ca807f4eb344db92d9a581a2062a17": {
      "model_module": "@jupyter-widgets/base",
      "model_module_version": "1.2.0",
      "model_name": "LayoutModel",
      "state": {
       "flex": "2"
      }
     },
     "b7d5a36654f74c31a3d03266f6f8aaed": {
      "model_module": "@jupyter-widgets/base",
      "model_module_version": "1.2.0",
      "model_name": "LayoutModel",
      "state": {}
     },
     "b7dd34c6b5b44f4ba311ba661e46a094": {
      "model_module": "@jupyter-widgets/base",
      "model_module_version": "1.2.0",
      "model_name": "LayoutModel",
      "state": {}
     },
     "b8159e1328e24f6cab76a098105c5163": {
      "model_module": "@jupyter-widgets/base",
      "model_module_version": "1.2.0",
      "model_name": "LayoutModel",
      "state": {
       "flex": "2"
      }
     },
     "b8224d4c25b14e20a5da698ef1588063": {
      "model_module": "@jupyter-widgets/base",
      "model_module_version": "1.2.0",
      "model_name": "LayoutModel",
      "state": {
       "display": "inline-flex",
       "flex_flow": "row wrap",
       "width": "100%"
      }
     },
     "b842cdf1b3b1484bb03e77ff43e70cd6": {
      "model_module": "@jupyter-widgets/base",
      "model_module_version": "1.2.0",
      "model_name": "LayoutModel",
      "state": {}
     },
     "b85bc41cdfff4ed7b38af178ef12df2e": {
      "model_module": "@jupyter-widgets/controls",
      "model_module_version": "1.5.0",
      "model_name": "HTMLModel",
      "state": {
       "layout": "IPY_MODEL_d60a0a35e05743a99fe1cf62c458dd8f",
       "style": "IPY_MODEL_e88205ca1c1b4c8aac751ed2adb7b202",
       "value": " ETA: 00:00s - loss: -1.8292 - val_loss: -1.8046"
      }
     },
     "b86bdcf44b1746489de6cd3018e1a984": {
      "model_module": "@jupyter-widgets/base",
      "model_module_version": "1.2.0",
      "model_name": "LayoutModel",
      "state": {
       "flex": "2"
      }
     },
     "b894ce3bd2154de59ec3e3b34da4b689": {
      "model_module": "@jupyter-widgets/base",
      "model_module_version": "1.2.0",
      "model_name": "LayoutModel",
      "state": {
       "display": "inline-flex",
       "flex_flow": "row wrap",
       "width": "100%"
      }
     },
     "b8a83d711b5c4ca581b6dc6264219c7d": {
      "model_module": "@jupyter-widgets/controls",
      "model_module_version": "1.5.0",
      "model_name": "ProgressStyleModel",
      "state": {
       "description_width": "initial"
      }
     },
     "b8abdd8ce85246bb87445601c243f688": {
      "model_module": "@jupyter-widgets/base",
      "model_module_version": "1.2.0",
      "model_name": "LayoutModel",
      "state": {
       "display": "inline-flex",
       "flex_flow": "row wrap",
       "width": "100%"
      }
     },
     "b8bcf45c9acd4f8b80af61c6b4f0e664": {
      "model_module": "@jupyter-widgets/controls",
      "model_module_version": "1.5.0",
      "model_name": "HTMLModel",
      "state": {
       "layout": "IPY_MODEL_b639bc3d667d4eefbaaf4e1e3687084b",
       "style": "IPY_MODEL_43a53c37f767406f97aa3719c0f36b56",
       "value": " ETA: 00:00s - loss: 0.0282 - val_loss: 0.0283"
      }
     },
     "b8ced3500ff04a30a8983d02189fbc48": {
      "model_module": "@jupyter-widgets/controls",
      "model_module_version": "1.5.0",
      "model_name": "HBoxModel",
      "state": {
       "children": [
        "IPY_MODEL_3b867a556bb04c249b20513750e6fbde",
        "IPY_MODEL_fe7d5e2bb5d64d8386f2f66924d33f9f"
       ],
       "layout": "IPY_MODEL_d79c257015a54da29844a62da0c40e9b"
      }
     },
     "b9064b87e3ff4e67a66f1eb2a275c782": {
      "model_module": "@jupyter-widgets/controls",
      "model_module_version": "1.5.0",
      "model_name": "DescriptionStyleModel",
      "state": {
       "description_width": ""
      }
     },
     "b908a57573c54217a772f5830bc01f9d": {
      "model_module": "@jupyter-widgets/controls",
      "model_module_version": "1.5.0",
      "model_name": "DescriptionStyleModel",
      "state": {
       "description_width": ""
      }
     },
     "b91c1b458f2b47638303271aa31bdd3c": {
      "model_module": "@jupyter-widgets/base",
      "model_module_version": "1.2.0",
      "model_name": "LayoutModel",
      "state": {
       "display": "inline-flex",
       "flex_flow": "row wrap",
       "width": "100%"
      }
     },
     "b950c0fd01a14cc09e000cf92b9bff6f": {
      "model_module": "@jupyter-widgets/base",
      "model_module_version": "1.2.0",
      "model_name": "LayoutModel",
      "state": {
       "display": "inline-flex",
       "flex_flow": "row wrap",
       "width": "100%"
      }
     },
     "b9517fd67a8d41beb879b7ba4b3853a1": {
      "model_module": "@jupyter-widgets/controls",
      "model_module_version": "1.5.0",
      "model_name": "HTMLModel",
      "state": {
       "layout": "IPY_MODEL_fb72d205acfe494eb3349ab057397d62",
       "style": "IPY_MODEL_4e6737b8dc07481da9985c4db7cd0692",
       "value": " ETA: 00:00s - loss: -1.7727 - val_loss: -1.7723"
      }
     },
     "b95c9c9c67f5453096a00c40f3141e37": {
      "model_module": "@jupyter-widgets/base",
      "model_module_version": "1.2.0",
      "model_name": "LayoutModel",
      "state": {
       "flex": "2"
      }
     },
     "b965936f0fae4954a3d01a88de1429af": {
      "model_module": "@jupyter-widgets/controls",
      "model_module_version": "1.5.0",
      "model_name": "DescriptionStyleModel",
      "state": {
       "description_width": ""
      }
     },
     "b98c682653dd4a7093067744c241e082": {
      "model_module": "@jupyter-widgets/controls",
      "model_module_version": "1.5.0",
      "model_name": "HBoxModel",
      "state": {
       "children": [
        "IPY_MODEL_43d13e9f4b2345cb816da8adfb95896e",
        "IPY_MODEL_fc0d380192a04ce38c3d11278f97dcf1"
       ],
       "layout": "IPY_MODEL_4d192396856b47da8ed092ba9a5dfb3f"
      }
     },
     "b9c4dfe1a23b4d259a3d70aa0bf57eb8": {
      "model_module": "@jupyter-widgets/controls",
      "model_module_version": "1.5.0",
      "model_name": "ProgressStyleModel",
      "state": {
       "description_width": "initial"
      }
     },
     "ba080a8ee6a5429da708c7468d34fa1c": {
      "model_module": "@jupyter-widgets/base",
      "model_module_version": "1.2.0",
      "model_name": "LayoutModel",
      "state": {
       "display": "inline-flex",
       "flex_flow": "row wrap",
       "width": "100%"
      }
     },
     "ba10303bae6543bab2337852e6e96eeb": {
      "model_module": "@jupyter-widgets/controls",
      "model_module_version": "1.5.0",
      "model_name": "DescriptionStyleModel",
      "state": {
       "description_width": ""
      }
     },
     "ba2ef5a28d8e46c788cacf4c81468c7c": {
      "model_module": "@jupyter-widgets/controls",
      "model_module_version": "1.5.0",
      "model_name": "HBoxModel",
      "state": {
       "children": [
        "IPY_MODEL_f6b95a5cc49a4246bd98e77454e5da6f",
        "IPY_MODEL_47cc7de90e554c5992e510a0d03539c3"
       ],
       "layout": "IPY_MODEL_8a759ef2875f460da461e197b4aecb84"
      }
     },
     "ba3a912b08d944fa9e3a562eda75fb19": {
      "model_module": "@jupyter-widgets/controls",
      "model_module_version": "1.5.0",
      "model_name": "FloatProgressModel",
      "state": {
       "bar_style": "success",
       "description": "5625/5625",
       "layout": "IPY_MODEL_14021592921744b7a85148b67fa2238c",
       "max": 5625,
       "style": "IPY_MODEL_393ba39611b646f586de0518937cdc3e",
       "value": 5625
      }
     },
     "ba3d1e96d19045b299fbcccdfe2705b0": {
      "model_module": "@jupyter-widgets/base",
      "model_module_version": "1.2.0",
      "model_name": "LayoutModel",
      "state": {
       "display": "inline-flex",
       "flex_flow": "row wrap",
       "width": "100%"
      }
     },
     "ba5ade9746774b6b920a8ca16db037f9": {
      "model_module": "@jupyter-widgets/base",
      "model_module_version": "1.2.0",
      "model_name": "LayoutModel",
      "state": {}
     },
     "ba8522057e5c45b9994b3f9ae2d6aa2d": {
      "model_module": "@jupyter-widgets/controls",
      "model_module_version": "1.5.0",
      "model_name": "DescriptionStyleModel",
      "state": {
       "description_width": ""
      }
     },
     "ba996a6e7f274e978835f4bf16e6ce1f": {
      "model_module": "@jupyter-widgets/controls",
      "model_module_version": "1.5.0",
      "model_name": "FloatProgressModel",
      "state": {
       "bar_style": "success",
       "description": "5625/5625",
       "layout": "IPY_MODEL_05d37119a2254a119fcd646da1504e7b",
       "max": 5625,
       "style": "IPY_MODEL_ef9cbd83614d48c794df208c0cae4147",
       "value": 5625
      }
     },
     "ba9fb1f8d2a6470d8488bf769b629343": {
      "model_module": "@jupyter-widgets/controls",
      "model_module_version": "1.5.0",
      "model_name": "HTMLModel",
      "state": {
       "layout": "IPY_MODEL_41aadc262cf74a5daa77d24746827c26",
       "style": "IPY_MODEL_cd3ae5b0d6554176b30cd0d8f790200b",
       "value": " ETA: 00:00s - loss: 0.0950 - val_loss: 0.0941"
      }
     },
     "bae621af289c40f3b98c1234dd29938d": {
      "model_module": "@jupyter-widgets/base",
      "model_module_version": "1.2.0",
      "model_name": "LayoutModel",
      "state": {
       "flex": "2"
      }
     },
     "bb191a6b3a80401b8560bb940c1363a4": {
      "model_module": "@jupyter-widgets/base",
      "model_module_version": "1.2.0",
      "model_name": "LayoutModel",
      "state": {}
     },
     "bb42bdb63ed04765a9b0863a034bf4cf": {
      "model_module": "@jupyter-widgets/base",
      "model_module_version": "1.2.0",
      "model_name": "LayoutModel",
      "state": {
       "display": "inline-flex",
       "flex_flow": "row wrap",
       "width": "100%"
      }
     },
     "bb4c52339278440691ce0853446593c9": {
      "model_module": "@jupyter-widgets/controls",
      "model_module_version": "1.5.0",
      "model_name": "ProgressStyleModel",
      "state": {
       "description_width": "initial"
      }
     },
     "bb85df7abf13401183abaf5307cf5df9": {
      "model_module": "@jupyter-widgets/base",
      "model_module_version": "1.2.0",
      "model_name": "LayoutModel",
      "state": {
       "flex": "2"
      }
     },
     "bb9e9e1392f243638c1db7afcb26307d": {
      "model_module": "@jupyter-widgets/base",
      "model_module_version": "1.2.0",
      "model_name": "LayoutModel",
      "state": {
       "display": "inline-flex",
       "flex_flow": "row wrap",
       "width": "100%"
      }
     },
     "bba759a81b354d8ebe363898dd297358": {
      "model_module": "@jupyter-widgets/controls",
      "model_module_version": "1.5.0",
      "model_name": "ProgressStyleModel",
      "state": {
       "description_width": "initial"
      }
     },
     "bba9724223d64c0299459f087cc16d7a": {
      "model_module": "@jupyter-widgets/controls",
      "model_module_version": "1.5.0",
      "model_name": "HBoxModel",
      "state": {
       "children": [
        "IPY_MODEL_0636409bccf94e00a20f29d68656574b",
        "IPY_MODEL_09240ccdaebc4922a8428093f9a4f683"
       ],
       "layout": "IPY_MODEL_c3a8fbb6c28e40ef852d156558bdba5e"
      }
     },
     "bbbeddc8f9634c0eb8b2ccfac652de49": {
      "model_module": "@jupyter-widgets/controls",
      "model_module_version": "1.5.0",
      "model_name": "HBoxModel",
      "state": {
       "children": [
        "IPY_MODEL_eb0cd613842a47a4a5e1d17d7ad632d2",
        "IPY_MODEL_cff6a77be08543268ac9b6dfcda3b9d3"
       ],
       "layout": "IPY_MODEL_8aefcdb9186f4033ab495330ef7a1332"
      }
     },
     "bbcee0ce089747138734872ee764ff6f": {
      "model_module": "@jupyter-widgets/controls",
      "model_module_version": "1.5.0",
      "model_name": "HTMLModel",
      "state": {
       "layout": "IPY_MODEL_fc57a452071b4e40a651a94dcfed62da",
       "style": "IPY_MODEL_5a27912b90014807906cea4d09783267",
       "value": " ETA: 00:00s - loss: 0.0270 - val_loss: 0.0284"
      }
     },
     "bbd3ca57347543a298ed443232b58fb6": {
      "model_module": "@jupyter-widgets/controls",
      "model_module_version": "1.5.0",
      "model_name": "HBoxModel",
      "state": {
       "children": [
        "IPY_MODEL_cd57ccff8a0548419131c8368a8d55e3",
        "IPY_MODEL_b50662e8bdb445b79c56d49ef73d1b5c"
       ],
       "layout": "IPY_MODEL_14cc8fb08c01497e95e6823532131767"
      }
     },
     "bbd4580de4f24316849c9dbd45efc710": {
      "model_module": "@jupyter-widgets/controls",
      "model_module_version": "1.5.0",
      "model_name": "FloatProgressModel",
      "state": {
       "bar_style": "success",
       "description": "5625/5625",
       "layout": "IPY_MODEL_3b6fde532b154eb8869fd817c6a7c023",
       "max": 5625,
       "style": "IPY_MODEL_1a0ae3c6cfbc4455af60f3a11071b564",
       "value": 5625
      }
     },
     "bbde4febaf004ac1a6fea89340ac7ee1": {
      "model_module": "@jupyter-widgets/base",
      "model_module_version": "1.2.0",
      "model_name": "LayoutModel",
      "state": {
       "display": "inline-flex",
       "flex_flow": "row wrap",
       "width": "100%"
      }
     },
     "bbe4b8810b9840c094de1338be5a077a": {
      "model_module": "@jupyter-widgets/controls",
      "model_module_version": "1.5.0",
      "model_name": "FloatProgressModel",
      "state": {
       "bar_style": "success",
       "description": "5625/5625",
       "layout": "IPY_MODEL_510e659ebf19439591acc860b9fd2a82",
       "max": 5625,
       "style": "IPY_MODEL_3d9d242b6c814ccb90939158a5f975f2",
       "value": 5625
      }
     },
     "bc3a9f6b051d4a09a81df9ea49a27379": {
      "model_module": "@jupyter-widgets/base",
      "model_module_version": "1.2.0",
      "model_name": "LayoutModel",
      "state": {}
     },
     "bc4b3d02e497482685d05b84b210c7a1": {
      "model_module": "@jupyter-widgets/controls",
      "model_module_version": "1.5.0",
      "model_name": "ProgressStyleModel",
      "state": {
       "description_width": "initial"
      }
     },
     "bc7a302cb40b45fda79cedd15c868e12": {
      "model_module": "@jupyter-widgets/controls",
      "model_module_version": "1.5.0",
      "model_name": "FloatProgressModel",
      "state": {
       "bar_style": "success",
       "description": "5625/5625",
       "layout": "IPY_MODEL_e12b87384c244a60affae5dec25119db",
       "max": 5625,
       "style": "IPY_MODEL_578522c8c0d94aa1a0b5270c3d968209",
       "value": 5625
      }
     },
     "bc7c50d3850f4b35ac017fa2b58cfc9c": {
      "model_module": "@jupyter-widgets/controls",
      "model_module_version": "1.5.0",
      "model_name": "HTMLModel",
      "state": {
       "layout": "IPY_MODEL_347ae9c54702412aa8d949367b4ca236",
       "style": "IPY_MODEL_db46ef9088784f00ac5dceac242317e7",
       "value": " ETA: 00:00s - loss: -1.6227 - val_loss: -1.6347"
      }
     },
     "bc808a5092f644fab2fa01aef1ba534a": {
      "model_module": "@jupyter-widgets/base",
      "model_module_version": "1.2.0",
      "model_name": "LayoutModel",
      "state": {
       "flex": "2"
      }
     },
     "bc9105f003e44f67a87d841fffc66cca": {
      "model_module": "@jupyter-widgets/base",
      "model_module_version": "1.2.0",
      "model_name": "LayoutModel",
      "state": {
       "flex": "2"
      }
     },
     "bcb4e4b81c81461fb5da6af9cf33c8cf": {
      "model_module": "@jupyter-widgets/base",
      "model_module_version": "1.2.0",
      "model_name": "LayoutModel",
      "state": {}
     },
     "bd012ec24229475088b822f930fc2571": {
      "model_module": "@jupyter-widgets/base",
      "model_module_version": "1.2.0",
      "model_name": "LayoutModel",
      "state": {
       "display": "inline-flex",
       "flex_flow": "row wrap",
       "width": "100%"
      }
     },
     "bd03cb11c1b6449f910a39acb4b439e2": {
      "model_module": "@jupyter-widgets/base",
      "model_module_version": "1.2.0",
      "model_name": "LayoutModel",
      "state": {}
     },
     "bd138593ff6a4d65a8cd153002734137": {
      "model_module": "@jupyter-widgets/base",
      "model_module_version": "1.2.0",
      "model_name": "LayoutModel",
      "state": {}
     },
     "bd1912a0be994c2385a9f9c436c4e769": {
      "model_module": "@jupyter-widgets/controls",
      "model_module_version": "1.5.0",
      "model_name": "DescriptionStyleModel",
      "state": {
       "description_width": ""
      }
     },
     "bd34bf89173d4ed890c77eb69495e78b": {
      "model_module": "@jupyter-widgets/base",
      "model_module_version": "1.2.0",
      "model_name": "LayoutModel",
      "state": {
       "flex": "2"
      }
     },
     "bd4505727f264499b21369012ee30212": {
      "model_module": "@jupyter-widgets/base",
      "model_module_version": "1.2.0",
      "model_name": "LayoutModel",
      "state": {
       "flex": "2"
      }
     },
     "bd50e7af68a649e3a3544c8bf8ae6ded": {
      "model_module": "@jupyter-widgets/controls",
      "model_module_version": "1.5.0",
      "model_name": "HBoxModel",
      "state": {
       "children": [
        "IPY_MODEL_33e01e7dcf44472abdf6ea5f72574b9a",
        "IPY_MODEL_d85af07f5db643c98d1e4a5a5f08e422"
       ],
       "layout": "IPY_MODEL_b91c1b458f2b47638303271aa31bdd3c"
      }
     },
     "bd5198ce4aa8497e88053f48cf58c033": {
      "model_module": "@jupyter-widgets/base",
      "model_module_version": "1.2.0",
      "model_name": "LayoutModel",
      "state": {}
     },
     "bd5a2fb6211e43649192d92084304356": {
      "model_module": "@jupyter-widgets/base",
      "model_module_version": "1.2.0",
      "model_name": "LayoutModel",
      "state": {
       "flex": "2"
      }
     },
     "bd5badc3c5734a06a504c898ac679051": {
      "model_module": "@jupyter-widgets/controls",
      "model_module_version": "1.5.0",
      "model_name": "FloatProgressModel",
      "state": {
       "bar_style": "success",
       "description": "5625/5625",
       "layout": "IPY_MODEL_08b1d0f590e2471d9ae1cb8e3a2791e3",
       "max": 5625,
       "style": "IPY_MODEL_80ce5b010dce4e5e9259d35d346c155b",
       "value": 5625
      }
     },
     "bd69195fd8494ac2a1a8c07806a06068": {
      "model_module": "@jupyter-widgets/controls",
      "model_module_version": "1.5.0",
      "model_name": "FloatProgressModel",
      "state": {
       "bar_style": "success",
       "description": "5625/5625",
       "layout": "IPY_MODEL_3eedfae9973d4efe99cf0470a1bb44ec",
       "max": 5625,
       "style": "IPY_MODEL_2ff6e8164a77496d8b7172b8cdbdc61b",
       "value": 5625
      }
     },
     "bd781de4a2814b288405f0d6315b548e": {
      "model_module": "@jupyter-widgets/base",
      "model_module_version": "1.2.0",
      "model_name": "LayoutModel",
      "state": {
       "flex": "2"
      }
     },
     "bdb73980af4a485f91256c12e842e406": {
      "model_module": "@jupyter-widgets/controls",
      "model_module_version": "1.5.0",
      "model_name": "HBoxModel",
      "state": {
       "children": [
        "IPY_MODEL_85bf5c7dba2343bfa16a319f9a368c95",
        "IPY_MODEL_a1c7f0900cf64fc1ba8ed884cae2d83f"
       ],
       "layout": "IPY_MODEL_6db288c53c2b4ecba4ca3aadd184833e"
      }
     },
     "bdbcb3ce82504625ba9032a1bd8dae67": {
      "model_module": "@jupyter-widgets/controls",
      "model_module_version": "1.5.0",
      "model_name": "FloatProgressModel",
      "state": {
       "bar_style": "success",
       "description": "5625/5625",
       "layout": "IPY_MODEL_d3477c11848341ae984dc1116a571fed",
       "max": 5625,
       "style": "IPY_MODEL_782a63c3f0d7423fbc6d73996bf557c1",
       "value": 5625
      }
     },
     "bdbd2ea3fc2f4846afc5dd60d03afa57": {
      "model_module": "@jupyter-widgets/controls",
      "model_module_version": "1.5.0",
      "model_name": "HTMLModel",
      "state": {
       "layout": "IPY_MODEL_8940c614c40b4d82b810271ba1e59961",
       "style": "IPY_MODEL_b2505dfd879548d8adc2abaa606d9542",
       "value": " ETA: 00:00s - loss: -1.7839 - val_loss: -1.7742"
      }
     },
     "bdc9dff7e5e54c99844c647ead5a5ee2": {
      "model_module": "@jupyter-widgets/controls",
      "model_module_version": "1.5.0",
      "model_name": "DescriptionStyleModel",
      "state": {
       "description_width": ""
      }
     },
     "bdec9f63e17f4fa1841c4b3520d1663a": {
      "model_module": "@jupyter-widgets/base",
      "model_module_version": "1.2.0",
      "model_name": "LayoutModel",
      "state": {
       "flex": "2"
      }
     },
     "be017575b1564d3aa32f940a8ebe676b": {
      "model_module": "@jupyter-widgets/controls",
      "model_module_version": "1.5.0",
      "model_name": "DescriptionStyleModel",
      "state": {
       "description_width": ""
      }
     },
     "be03386cc1734ea88918a0b0c910b83d": {
      "model_module": "@jupyter-widgets/controls",
      "model_module_version": "1.5.0",
      "model_name": "FloatProgressModel",
      "state": {
       "bar_style": "success",
       "description": "5625/5625",
       "layout": "IPY_MODEL_e44574c2b3444c93a5d91f6f401438e6",
       "max": 5625,
       "style": "IPY_MODEL_73a3fd02006247a4b731b93b85c08a7c",
       "value": 5625
      }
     },
     "be22e50c7450462b88bde8002e26badc": {
      "model_module": "@jupyter-widgets/base",
      "model_module_version": "1.2.0",
      "model_name": "LayoutModel",
      "state": {
       "flex": "2"
      }
     },
     "be2416abeed8455e82d238fcbe84674f": {
      "model_module": "@jupyter-widgets/controls",
      "model_module_version": "1.5.0",
      "model_name": "FloatProgressModel",
      "state": {
       "bar_style": "success",
       "description": "5625/5625",
       "layout": "IPY_MODEL_0670e418612043dd9c58713e729e5958",
       "max": 5625,
       "style": "IPY_MODEL_2f4a2a9acdc84933abf52ed1983fbc04",
       "value": 5625
      }
     },
     "be2e532e793040cfbad9628a4ffd58d9": {
      "model_module": "@jupyter-widgets/controls",
      "model_module_version": "1.5.0",
      "model_name": "DescriptionStyleModel",
      "state": {
       "description_width": ""
      }
     },
     "be32e6d2b1cf4ca49f76cad94a63451c": {
      "model_module": "@jupyter-widgets/controls",
      "model_module_version": "1.5.0",
      "model_name": "FloatProgressModel",
      "state": {
       "bar_style": "success",
       "description": "5625/5625",
       "layout": "IPY_MODEL_ae20c8c07ce44800a3bc65433d42ab96",
       "max": 5625,
       "style": "IPY_MODEL_92543d8c407445869abb88225819541f",
       "value": 5625
      }
     },
     "be555de16ed9495ba73a42495c71c5a3": {
      "model_module": "@jupyter-widgets/base",
      "model_module_version": "1.2.0",
      "model_name": "LayoutModel",
      "state": {
       "flex": "2"
      }
     },
     "be66afeeeeb34d42906311b0aa5e2048": {
      "model_module": "@jupyter-widgets/controls",
      "model_module_version": "1.5.0",
      "model_name": "HTMLModel",
      "state": {
       "layout": "IPY_MODEL_39bc0c6799a843a6a18af75c4eb4854f",
       "style": "IPY_MODEL_ea3b73bf55e547febdc486abf552b2fd",
       "value": " ETA: 00:00s - loss: 0.0689 - val_loss: 0.0712"
      }
     },
     "be872b62035049c1b0732aa41241fa5e": {
      "model_module": "@jupyter-widgets/controls",
      "model_module_version": "1.5.0",
      "model_name": "DescriptionStyleModel",
      "state": {
       "description_width": ""
      }
     },
     "be916fd8aa4641329073fe1beea7bbd8": {
      "model_module": "@jupyter-widgets/controls",
      "model_module_version": "1.5.0",
      "model_name": "HTMLModel",
      "state": {
       "layout": "IPY_MODEL_b75a6ccd589d45ca8e8428e5091922bb",
       "style": "IPY_MODEL_f1761c5dbf15463a980b645aa49b457e",
       "value": " ETA: 00:00s - loss: 0.0373 - val_loss: 0.0360"
      }
     },
     "bebc68584c184237b066797b29535d49": {
      "model_module": "@jupyter-widgets/base",
      "model_module_version": "1.2.0",
      "model_name": "LayoutModel",
      "state": {
       "display": "inline-flex",
       "flex_flow": "row wrap",
       "width": "100%"
      }
     },
     "bedb69dd8d0d441ba293903e134c5a46": {
      "model_module": "@jupyter-widgets/controls",
      "model_module_version": "1.5.0",
      "model_name": "HBoxModel",
      "state": {
       "children": [
        "IPY_MODEL_0f30b3159a144d5fad1c7fe25b868be0",
        "IPY_MODEL_cbcb6b6a28df407e83d492f276c93b00"
       ],
       "layout": "IPY_MODEL_847d67ff7fd346369827526b57ed6eb8"
      }
     },
     "bf09139161c34ffd8e4be0905d710eb8": {
      "model_module": "@jupyter-widgets/controls",
      "model_module_version": "1.5.0",
      "model_name": "HBoxModel",
      "state": {
       "children": [
        "IPY_MODEL_c16f16b0796c4ea789cb6ad5c4e0f647",
        "IPY_MODEL_fc23a3d331cd4eeaba176afea43b0011"
       ],
       "layout": "IPY_MODEL_a030f15611de4483b43d6bf9ef980cdc"
      }
     },
     "bf2e860fea8344b99ece216fde1a9d4b": {
      "model_module": "@jupyter-widgets/base",
      "model_module_version": "1.2.0",
      "model_name": "LayoutModel",
      "state": {}
     },
     "bf34c24dde254b2fb533b9b5d9d3596d": {
      "model_module": "@jupyter-widgets/base",
      "model_module_version": "1.2.0",
      "model_name": "LayoutModel",
      "state": {
       "flex": "2"
      }
     },
     "bf5186e64f86468394f9c4c8a5574861": {
      "model_module": "@jupyter-widgets/base",
      "model_module_version": "1.2.0",
      "model_name": "LayoutModel",
      "state": {
       "flex": "2"
      }
     },
     "bf52a55472004c66a7c641141498980e": {
      "model_module": "@jupyter-widgets/base",
      "model_module_version": "1.2.0",
      "model_name": "LayoutModel",
      "state": {
       "flex": "2"
      }
     },
     "bf9a4647d13d470b8cdbc9bce67f248a": {
      "model_module": "@jupyter-widgets/controls",
      "model_module_version": "1.5.0",
      "model_name": "FloatProgressModel",
      "state": {
       "bar_style": "success",
       "description": "5625/5625",
       "layout": "IPY_MODEL_ef5d1f5f96624531b35ff6d0220d21de",
       "max": 5625,
       "style": "IPY_MODEL_4acf070c5f7a4ab283f6c7fde9c5e802",
       "value": 5625
      }
     },
     "bfa6ab33efbe4621b0688222691677e6": {
      "model_module": "@jupyter-widgets/controls",
      "model_module_version": "1.5.0",
      "model_name": "HTMLModel",
      "state": {
       "layout": "IPY_MODEL_c1da1403bb7f43059af0a7b6d69d73c9",
       "style": "IPY_MODEL_07aed5e3897f4641955843dc23be412e",
       "value": " ETA: 00:00s - loss: -1.8360 - val_loss: -1.7953"
      }
     },
     "bfb833708ab74404a0039c675909e7bd": {
      "model_module": "@jupyter-widgets/controls",
      "model_module_version": "1.5.0",
      "model_name": "FloatProgressModel",
      "state": {
       "bar_style": "success",
       "description": "5625/5625",
       "layout": "IPY_MODEL_37d4be6bed0640c18a644cef7e6a023c",
       "max": 5625,
       "style": "IPY_MODEL_9abb005e414a4972af36e9006b985081",
       "value": 5625
      }
     },
     "bfd41c156b0c41359e004cdcb8139862": {
      "model_module": "@jupyter-widgets/controls",
      "model_module_version": "1.5.0",
      "model_name": "HBoxModel",
      "state": {
       "children": [
        "IPY_MODEL_a9cd0f6b036d48d692f533902fd44e11",
        "IPY_MODEL_87c0a5372628472188214773a426f8ac"
       ],
       "layout": "IPY_MODEL_67c9af8be1394275a0f169b252cb3f8a"
      }
     },
     "bfe1f947e90d4f8c9edffe6ade7b1366": {
      "model_module": "@jupyter-widgets/controls",
      "model_module_version": "1.5.0",
      "model_name": "ProgressStyleModel",
      "state": {
       "description_width": "initial"
      }
     },
     "bfee99c693834ef2ba6e676fd638f3b3": {
      "model_module": "@jupyter-widgets/controls",
      "model_module_version": "1.5.0",
      "model_name": "HTMLModel",
      "state": {
       "layout": "IPY_MODEL_e78779c42ba24f68bce39313accb3f39",
       "style": "IPY_MODEL_1546fa29522f4556ac3403559e7dd07c",
       "value": " ETA: 00:00s - loss: 0.0272 - val_loss: 0.0296"
      }
     },
     "c01b5d54bcc24811bd55a0c7d90ca789": {
      "model_module": "@jupyter-widgets/controls",
      "model_module_version": "1.5.0",
      "model_name": "FloatProgressModel",
      "state": {
       "bar_style": "success",
       "description": "5625/5625",
       "layout": "IPY_MODEL_c441c9ef6f424c75b7c6c10ff52329ef",
       "max": 5625,
       "style": "IPY_MODEL_c151457a453b4f77b7e2469d84835ce6",
       "value": 5625
      }
     },
     "c04979e82d27484b8dff10cd7dba289d": {
      "model_module": "@jupyter-widgets/controls",
      "model_module_version": "1.5.0",
      "model_name": "HBoxModel",
      "state": {
       "children": [
        "IPY_MODEL_d22b05a4c4cd4e69a7aa0bf204431f5a",
        "IPY_MODEL_468aa9f64a5740178c4ec6333d683944"
       ],
       "layout": "IPY_MODEL_576ae6b9f8544d5185367138412cd250"
      }
     },
     "c0510f7409fe4ac5afd4e1c9c6b9a783": {
      "model_module": "@jupyter-widgets/base",
      "model_module_version": "1.2.0",
      "model_name": "LayoutModel",
      "state": {
       "display": "inline-flex",
       "flex_flow": "row wrap",
       "width": "100%"
      }
     },
     "c0712a5ee7b441c5a85224a9b17adc05": {
      "model_module": "@jupyter-widgets/controls",
      "model_module_version": "1.5.0",
      "model_name": "HTMLModel",
      "state": {
       "layout": "IPY_MODEL_ec114b9d1cfd44b889016065a5088daf",
       "style": "IPY_MODEL_096c9500c3bc4c1ab395c62d6291dc90",
       "value": " ETA: 00:00s - loss: 0.0607 - val_loss: 0.0537"
      }
     },
     "c08aa8254a624163a0e0f74a932477b3": {
      "model_module": "@jupyter-widgets/base",
      "model_module_version": "1.2.0",
      "model_name": "LayoutModel",
      "state": {}
     },
     "c0ad92f34a594ae7b4c0b71fd17a0c8d": {
      "model_module": "@jupyter-widgets/controls",
      "model_module_version": "1.5.0",
      "model_name": "HTMLModel",
      "state": {
       "layout": "IPY_MODEL_6c7ed80f2afb41a59b55ff456aa5e993",
       "style": "IPY_MODEL_133681c6f305459fbb3f861314db7529",
       "value": " ETA: 00:00s - loss: -1.5481 - val_loss: -1.5744"
      }
     },
     "c0b139311f7248ef84179d67f8d19a3b": {
      "model_module": "@jupyter-widgets/base",
      "model_module_version": "1.2.0",
      "model_name": "LayoutModel",
      "state": {
       "flex": "2"
      }
     },
     "c0b9b8d4ca2a472ea62503389c648033": {
      "model_module": "@jupyter-widgets/base",
      "model_module_version": "1.2.0",
      "model_name": "LayoutModel",
      "state": {
       "display": "inline-flex",
       "flex_flow": "row wrap",
       "width": "100%"
      }
     },
     "c0d1a7f6e955474180156b1bc5dc2cb5": {
      "model_module": "@jupyter-widgets/controls",
      "model_module_version": "1.5.0",
      "model_name": "FloatProgressModel",
      "state": {
       "bar_style": "success",
       "description": "5625/5625",
       "layout": "IPY_MODEL_fd6d27d31eb445d3a69daf6c2fbe6597",
       "max": 5625,
       "style": "IPY_MODEL_9bf59479ddfd4804bb20425b66705cee",
       "value": 5625
      }
     },
     "c0d6fbe47fc84bbb8c76c194565f7c36": {
      "model_module": "@jupyter-widgets/base",
      "model_module_version": "1.2.0",
      "model_name": "LayoutModel",
      "state": {}
     },
     "c151457a453b4f77b7e2469d84835ce6": {
      "model_module": "@jupyter-widgets/controls",
      "model_module_version": "1.5.0",
      "model_name": "ProgressStyleModel",
      "state": {
       "description_width": "initial"
      }
     },
     "c158068403674174968a06bfbaeea666": {
      "model_module": "@jupyter-widgets/controls",
      "model_module_version": "1.5.0",
      "model_name": "HTMLModel",
      "state": {
       "layout": "IPY_MODEL_28fa37b97663408eb5c9656b26234a79",
       "style": "IPY_MODEL_839c7152bef94aa0b4e16fa1143e6a94",
       "value": " ETA: 00:00s - loss: 0.0724 - val_loss: 0.0745"
      }
     },
     "c168a25f22ee46b082c4a2f9c8db9291": {
      "model_module": "@jupyter-widgets/base",
      "model_module_version": "1.2.0",
      "model_name": "LayoutModel",
      "state": {
       "flex": "2"
      }
     },
     "c16f16b0796c4ea789cb6ad5c4e0f647": {
      "model_module": "@jupyter-widgets/controls",
      "model_module_version": "1.5.0",
      "model_name": "FloatProgressModel",
      "state": {
       "bar_style": "success",
       "description": "5625/5625",
       "layout": "IPY_MODEL_2ab1b151f0804bb695f97e301d14a6c8",
       "max": 5625,
       "style": "IPY_MODEL_29b5835c9e164b52aefcdf51153e350b",
       "value": 5625
      }
     },
     "c1705f17a5774815bbcaa027aefeb9f2": {
      "model_module": "@jupyter-widgets/base",
      "model_module_version": "1.2.0",
      "model_name": "LayoutModel",
      "state": {
       "display": "inline-flex",
       "flex_flow": "row wrap",
       "width": "100%"
      }
     },
     "c182911a0ced461daea09050c5fa75e6": {
      "model_module": "@jupyter-widgets/controls",
      "model_module_version": "1.5.0",
      "model_name": "HTMLModel",
      "state": {
       "layout": "IPY_MODEL_17aaa4f3dc2341b8b8264ce3ec02b588",
       "style": "IPY_MODEL_73536326dcd246f58f02020bfcb8ffc7",
       "value": " ETA: 00:00s - loss: 0.0380 - val_loss: 0.0375"
      }
     },
     "c1b690146fa74ce79e14fbe52247965f": {
      "model_module": "@jupyter-widgets/controls",
      "model_module_version": "1.5.0",
      "model_name": "DescriptionStyleModel",
      "state": {
       "description_width": ""
      }
     },
     "c1da1403bb7f43059af0a7b6d69d73c9": {
      "model_module": "@jupyter-widgets/base",
      "model_module_version": "1.2.0",
      "model_name": "LayoutModel",
      "state": {}
     },
     "c202067be03149a48e09c0e18a96cd22": {
      "model_module": "@jupyter-widgets/controls",
      "model_module_version": "1.5.0",
      "model_name": "HBoxModel",
      "state": {
       "children": [
        "IPY_MODEL_694c86d80366492293c3adfdb8ce93cf",
        "IPY_MODEL_b1f4fc1fb4634463ae7353446efde734"
       ],
       "layout": "IPY_MODEL_2c7ff31a9a8646e48294a12897a42bb2"
      }
     },
     "c225b71ea0724501bb047393cd6f7ac2": {
      "model_module": "@jupyter-widgets/base",
      "model_module_version": "1.2.0",
      "model_name": "LayoutModel",
      "state": {
       "flex": "2"
      }
     },
     "c227fb4d7bb543979b497012e9149194": {
      "model_module": "@jupyter-widgets/controls",
      "model_module_version": "1.5.0",
      "model_name": "ProgressStyleModel",
      "state": {
       "description_width": "initial"
      }
     },
     "c24cf8f20e0141a0ab3b2f43d5b986db": {
      "model_module": "@jupyter-widgets/controls",
      "model_module_version": "1.5.0",
      "model_name": "HTMLModel",
      "state": {
       "layout": "IPY_MODEL_8fd0ca06795449c49e3a13c72d655054",
       "style": "IPY_MODEL_ee94f82dc4c3433b8641556962f4aa15",
       "value": " ETA: 00:00s - loss: -1.7811 - val_loss: -1.7635"
      }
     },
     "c28bbe5e03d448cca3e82224d1e6758a": {
      "model_module": "@jupyter-widgets/base",
      "model_module_version": "1.2.0",
      "model_name": "LayoutModel",
      "state": {
       "display": "inline-flex",
       "flex_flow": "row wrap",
       "width": "100%"
      }
     },
     "c28e499fee0346d988e9fe26b995a440": {
      "model_module": "@jupyter-widgets/base",
      "model_module_version": "1.2.0",
      "model_name": "LayoutModel",
      "state": {
       "display": "inline-flex",
       "flex_flow": "row wrap",
       "width": "100%"
      }
     },
     "c2a4dc14c8e4423fb078bfbad837e64b": {
      "model_module": "@jupyter-widgets/controls",
      "model_module_version": "1.5.0",
      "model_name": "HBoxModel",
      "state": {
       "children": [
        "IPY_MODEL_cd8ebfed7e8a4e52a0c9e5f4ade19a73",
        "IPY_MODEL_23db597ab2024461bceda6cbfc4bfe17"
       ],
       "layout": "IPY_MODEL_4d9abfd89e174796a677f78a8a157d05"
      }
     },
     "c2c7903e7cd8401e88d08d63602253b0": {
      "model_module": "@jupyter-widgets/base",
      "model_module_version": "1.2.0",
      "model_name": "LayoutModel",
      "state": {
       "flex": "2"
      }
     },
     "c2ce4252a2ed49108435983a77672a7b": {
      "model_module": "@jupyter-widgets/base",
      "model_module_version": "1.2.0",
      "model_name": "LayoutModel",
      "state": {}
     },
     "c2e08f2268364cb288c59b1eeab8f4fb": {
      "model_module": "@jupyter-widgets/controls",
      "model_module_version": "1.5.0",
      "model_name": "HTMLModel",
      "state": {
       "layout": "IPY_MODEL_fdd0979c639e496fad40a601d6fe2866",
       "style": "IPY_MODEL_cabc837dd5fe4eb0bcd8b8f1cb600545",
       "value": " ETA: 00:00s - loss: 0.0672 - val_loss: 0.0718"
      }
     },
     "c2f04aeb7ec643c287358256a3a4bcff": {
      "model_module": "@jupyter-widgets/controls",
      "model_module_version": "1.5.0",
      "model_name": "ProgressStyleModel",
      "state": {
       "description_width": "initial"
      }
     },
     "c2f5487cde7e4475943694277a3bb7f5": {
      "model_module": "@jupyter-widgets/controls",
      "model_module_version": "1.5.0",
      "model_name": "ProgressStyleModel",
      "state": {
       "description_width": "initial"
      }
     },
     "c3063b9a705046489ed20bc5cdb2341e": {
      "model_module": "@jupyter-widgets/base",
      "model_module_version": "1.2.0",
      "model_name": "LayoutModel",
      "state": {
       "flex": "2"
      }
     },
     "c316ae52a06548389a532e50ba0738e8": {
      "model_module": "@jupyter-widgets/base",
      "model_module_version": "1.2.0",
      "model_name": "LayoutModel",
      "state": {
       "flex": "2"
      }
     },
     "c331555b8d894393844f4e13a7a69618": {
      "model_module": "@jupyter-widgets/controls",
      "model_module_version": "1.5.0",
      "model_name": "HTMLModel",
      "state": {
       "layout": "IPY_MODEL_bf2e860fea8344b99ece216fde1a9d4b",
       "style": "IPY_MODEL_1c5e11f182c549f19bc5cb172abcb651",
       "value": " ETA: 00:00s - loss: -1.7591 - val_loss: -1.7563"
      }
     },
     "c3415393536a4ca98c4f4c8a4ceea3ae": {
      "model_module": "@jupyter-widgets/controls",
      "model_module_version": "1.5.0",
      "model_name": "HTMLModel",
      "state": {
       "layout": "IPY_MODEL_9da880c1feb447db86d86ddcc5275d8d",
       "style": "IPY_MODEL_fd890f080cb241fcb0e419a61efd654e",
       "value": " ETA: 00:00s - loss: -1.8404 - val_loss: -1.8024"
      }
     },
     "c351cec9a913414ebc977ed1bb871ad0": {
      "model_module": "@jupyter-widgets/controls",
      "model_module_version": "1.5.0",
      "model_name": "HTMLModel",
      "state": {
       "layout": "IPY_MODEL_dc74a87fcc684141bf8caa94ce5ab3bd",
       "style": "IPY_MODEL_cee2995afb5849af95e300237130679c",
       "value": " ETA: 00:00s - loss: 0.0674 - val_loss: 0.0727"
      }
     },
     "c354e013627f48f98122580e155f1e0f": {
      "model_module": "@jupyter-widgets/base",
      "model_module_version": "1.2.0",
      "model_name": "LayoutModel",
      "state": {
       "flex": "2"
      }
     },
     "c35e93ea9f0e4096a6300aeed22a67d4": {
      "model_module": "@jupyter-widgets/base",
      "model_module_version": "1.2.0",
      "model_name": "LayoutModel",
      "state": {
       "display": "inline-flex",
       "flex_flow": "row wrap",
       "width": "100%"
      }
     },
     "c385ca84ea1746a39ff20b8dfce141e4": {
      "model_module": "@jupyter-widgets/controls",
      "model_module_version": "1.5.0",
      "model_name": "FloatProgressModel",
      "state": {
       "bar_style": "success",
       "description": "5625/5625",
       "layout": "IPY_MODEL_720836918afd412eb5fea1fe1bc58080",
       "max": 5625,
       "style": "IPY_MODEL_18d108dae3ea4615aeaadf3833b01909",
       "value": 5625
      }
     },
     "c38899f78f3d4f19aea5757a969aa8c8": {
      "model_module": "@jupyter-widgets/controls",
      "model_module_version": "1.5.0",
      "model_name": "HBoxModel",
      "state": {
       "children": [
        "IPY_MODEL_cab8307fd4cb4ef9b69643439973bd76",
        "IPY_MODEL_3a21b4ed7d5249a5a7eec18a2a183572"
       ],
       "layout": "IPY_MODEL_e901dd6e1a714bdb86987a61d72b5192"
      }
     },
     "c398033575b54cffbc5c4edc17e7d529": {
      "model_module": "@jupyter-widgets/controls",
      "model_module_version": "1.5.0",
      "model_name": "ProgressStyleModel",
      "state": {
       "description_width": "initial"
      }
     },
     "c39cc1b4ac75466aa9524bb17912dfd9": {
      "model_module": "@jupyter-widgets/base",
      "model_module_version": "1.2.0",
      "model_name": "LayoutModel",
      "state": {
       "flex": "2"
      }
     },
     "c3a5b514744b46499cd3c888f006282b": {
      "model_module": "@jupyter-widgets/controls",
      "model_module_version": "1.5.0",
      "model_name": "HBoxModel",
      "state": {
       "children": [
        "IPY_MODEL_b26e1febfb694ee898b58521fa4478ec",
        "IPY_MODEL_9e128f778c084c2cae1183f5f2e0301e"
       ],
       "layout": "IPY_MODEL_1b28906996c74e3999f4f093d71cba0c"
      }
     },
     "c3a8fbb6c28e40ef852d156558bdba5e": {
      "model_module": "@jupyter-widgets/base",
      "model_module_version": "1.2.0",
      "model_name": "LayoutModel",
      "state": {
       "display": "inline-flex",
       "flex_flow": "row wrap",
       "width": "100%"
      }
     },
     "c3b52fceb480454f8e4146e61544a6f6": {
      "model_module": "@jupyter-widgets/controls",
      "model_module_version": "1.5.0",
      "model_name": "FloatProgressModel",
      "state": {
       "bar_style": "success",
       "description": "5625/5625",
       "layout": "IPY_MODEL_64c8f89c0f5243788623454722789eb3",
       "max": 5625,
       "style": "IPY_MODEL_7c799885df76466dbc5cb5405b8bf0fd",
       "value": 5625
      }
     },
     "c3cc4d977c3242f998bd77a4ec0b7e1b": {
      "model_module": "@jupyter-widgets/controls",
      "model_module_version": "1.5.0",
      "model_name": "DescriptionStyleModel",
      "state": {
       "description_width": ""
      }
     },
     "c40047357a18412b8896686b40555444": {
      "model_module": "@jupyter-widgets/controls",
      "model_module_version": "1.5.0",
      "model_name": "FloatProgressModel",
      "state": {
       "bar_style": "success",
       "description": "5625/5625",
       "layout": "IPY_MODEL_431827973fb54126817ef05321fe8c33",
       "max": 5625,
       "style": "IPY_MODEL_cdf0eab1b3a6482ea0c484b0d3c5543e",
       "value": 5625
      }
     },
     "c403f92271244c4dbbb42a224b1b1cab": {
      "model_module": "@jupyter-widgets/controls",
      "model_module_version": "1.5.0",
      "model_name": "DescriptionStyleModel",
      "state": {
       "description_width": ""
      }
     },
     "c40c3a3bea42424082ca9bce23880064": {
      "model_module": "@jupyter-widgets/controls",
      "model_module_version": "1.5.0",
      "model_name": "HBoxModel",
      "state": {
       "children": [
        "IPY_MODEL_a81acf86154e4b09989ca13d09c61992",
        "IPY_MODEL_77fac047cde744deb192ec9828c5e4b0"
       ],
       "layout": "IPY_MODEL_f676fdd607fa4771b4a3fe66c64f9cc4"
      }
     },
     "c42374b831e14d438e3383b216f3d171": {
      "model_module": "@jupyter-widgets/base",
      "model_module_version": "1.2.0",
      "model_name": "LayoutModel",
      "state": {
       "display": "inline-flex",
       "flex_flow": "row wrap",
       "width": "100%"
      }
     },
     "c42f1b24dc7449d7a6d0ce71bcdc3dbf": {
      "model_module": "@jupyter-widgets/controls",
      "model_module_version": "1.5.0",
      "model_name": "HBoxModel",
      "state": {
       "children": [
        "IPY_MODEL_c3b52fceb480454f8e4146e61544a6f6",
        "IPY_MODEL_c331555b8d894393844f4e13a7a69618"
       ],
       "layout": "IPY_MODEL_1b6653240cca4de5a67dc8bdec82d015"
      }
     },
     "c43d5ea01f4242729155f84f176125dd": {
      "model_module": "@jupyter-widgets/base",
      "model_module_version": "1.2.0",
      "model_name": "LayoutModel",
      "state": {}
     },
     "c441c9ef6f424c75b7c6c10ff52329ef": {
      "model_module": "@jupyter-widgets/base",
      "model_module_version": "1.2.0",
      "model_name": "LayoutModel",
      "state": {
       "flex": "2"
      }
     },
     "c4440e49c8ea4dddbc8dda52197b9218": {
      "model_module": "@jupyter-widgets/controls",
      "model_module_version": "1.5.0",
      "model_name": "HBoxModel",
      "state": {
       "children": [
        "IPY_MODEL_897b27d61ca74b478fb586db7fa6ecbf",
        "IPY_MODEL_e310ab4231dd4f798696ce485e663311"
       ],
       "layout": "IPY_MODEL_308b95ec5aa84634b1aadd4e59649502"
      }
     },
     "c444aefc510048fdbf6f8e6ac1ed578c": {
      "model_module": "@jupyter-widgets/base",
      "model_module_version": "1.2.0",
      "model_name": "LayoutModel",
      "state": {
       "flex": "2"
      }
     },
     "c46dd8d1827f429d9d91acb03c00699d": {
      "model_module": "@jupyter-widgets/controls",
      "model_module_version": "1.5.0",
      "model_name": "DescriptionStyleModel",
      "state": {
       "description_width": ""
      }
     },
     "c4714d3d8da74567aa1afe2fb1cd96fc": {
      "model_module": "@jupyter-widgets/controls",
      "model_module_version": "1.5.0",
      "model_name": "DescriptionStyleModel",
      "state": {
       "description_width": ""
      }
     },
     "c4b0ad892a0949089e56016d22399ada": {
      "model_module": "@jupyter-widgets/controls",
      "model_module_version": "1.5.0",
      "model_name": "HBoxModel",
      "state": {
       "children": [
        "IPY_MODEL_1d3b4ebb48cc4c318bedaa6b2bd933a1",
        "IPY_MODEL_a786fd8a771946a0acaea591677d189c"
       ],
       "layout": "IPY_MODEL_37e468e2c1ed440999296a85e2bdf01c"
      }
     },
     "c4db1af0d3074fc58f8fe7850920836a": {
      "model_module": "@jupyter-widgets/controls",
      "model_module_version": "1.5.0",
      "model_name": "HTMLModel",
      "state": {
       "layout": "IPY_MODEL_3065ea53a2424867a63741f7f0e13c24",
       "style": "IPY_MODEL_a0892d39e1454f80b1226eb2629071a6",
       "value": " ETA: 00:00s - loss: 0.0285 - val_loss: 0.0292"
      }
     },
     "c4e26e0344df48549442b4a69acd91e8": {
      "model_module": "@jupyter-widgets/controls",
      "model_module_version": "1.5.0",
      "model_name": "ProgressStyleModel",
      "state": {
       "description_width": "initial"
      }
     },
     "c51a598171e64858a3e56a298c062a22": {
      "model_module": "@jupyter-widgets/base",
      "model_module_version": "1.2.0",
      "model_name": "LayoutModel",
      "state": {
       "display": "inline-flex",
       "flex_flow": "row wrap",
       "width": "100%"
      }
     },
     "c51c02626de54034a1f1a644b9b566a2": {
      "model_module": "@jupyter-widgets/base",
      "model_module_version": "1.2.0",
      "model_name": "LayoutModel",
      "state": {}
     },
     "c5224c45068949f18322fa123e51d123": {
      "model_module": "@jupyter-widgets/controls",
      "model_module_version": "1.5.0",
      "model_name": "FloatProgressModel",
      "state": {
       "bar_style": "success",
       "description": "5625/5625",
       "layout": "IPY_MODEL_eee8ba914c9040f9964ee3d6c48f67f4",
       "max": 5625,
       "style": "IPY_MODEL_a002f9b55a4b40e191960836ea2d0489",
       "value": 5625
      }
     },
     "c52c05ac86534105ab0d22c50f90c598": {
      "model_module": "@jupyter-widgets/controls",
      "model_module_version": "1.5.0",
      "model_name": "FloatProgressModel",
      "state": {
       "bar_style": "success",
       "description": "5625/5625",
       "layout": "IPY_MODEL_3a7cc1c800fd46e4bb66735be422e4e8",
       "max": 5625,
       "style": "IPY_MODEL_57be4e5d612f466c94be4ce0d26b6a40",
       "value": 5625
      }
     },
     "c53b8a4bb21c48c29454cacd2548edcb": {
      "model_module": "@jupyter-widgets/controls",
      "model_module_version": "1.5.0",
      "model_name": "HTMLModel",
      "state": {
       "layout": "IPY_MODEL_f8da2b85bf8541089ca333a40c877b93",
       "style": "IPY_MODEL_7bcfad54715045058c72613073dac697",
       "value": " ETA: 00:00s - loss: 0.0295 - val_loss: 0.0294"
      }
     },
     "c5500a8a6e3241ff92564c52def91ad1": {
      "model_module": "@jupyter-widgets/base",
      "model_module_version": "1.2.0",
      "model_name": "LayoutModel",
      "state": {}
     },
     "c5ba5569396445ecbcb8008756f30d7e": {
      "model_module": "@jupyter-widgets/controls",
      "model_module_version": "1.5.0",
      "model_name": "HBoxModel",
      "state": {
       "children": [
        "IPY_MODEL_e201885888754bc597a9975373e2ca89",
        "IPY_MODEL_2adbf730e49349a19e06d3221ffad7f8"
       ],
       "layout": "IPY_MODEL_2d41637d022544c08e7add20f4ea2b2a"
      }
     },
     "c5bef7691dbd44ad962b111254261376": {
      "model_module": "@jupyter-widgets/controls",
      "model_module_version": "1.5.0",
      "model_name": "HBoxModel",
      "state": {
       "children": [
        "IPY_MODEL_bd69195fd8494ac2a1a8c07806a06068",
        "IPY_MODEL_c4db1af0d3074fc58f8fe7850920836a"
       ],
       "layout": "IPY_MODEL_13fa12e9c7cf4ccfa1b18df72b4cddd0"
      }
     },
     "c5c7597d3a0945a5904e5097adf228e4": {
      "model_module": "@jupyter-widgets/base",
      "model_module_version": "1.2.0",
      "model_name": "LayoutModel",
      "state": {
       "flex": "2"
      }
     },
     "c5cea289857f4daa9f3de756ef5e5b40": {
      "model_module": "@jupyter-widgets/controls",
      "model_module_version": "1.5.0",
      "model_name": "HBoxModel",
      "state": {
       "children": [
        "IPY_MODEL_1fda7303d26249ef9db1c0fe51237f01",
        "IPY_MODEL_eabff6f3bb2940258b9e512a43380269"
       ],
       "layout": "IPY_MODEL_158f8e76e5cd4b92bf1942d7c1051ed2"
      }
     },
     "c619927134ba4d1e817ab856e4630959": {
      "model_module": "@jupyter-widgets/controls",
      "model_module_version": "1.5.0",
      "model_name": "HBoxModel",
      "state": {
       "children": [
        "IPY_MODEL_59c86d50772341ee9d5cf2de172fd6f6",
        "IPY_MODEL_aea05d2ed0024ca58bd67e6bc742de38"
       ],
       "layout": "IPY_MODEL_631943128ef64e26b7bf040cd6e4f29c"
      }
     },
     "c6254d28e62946fcb18c8dcfaba82edf": {
      "model_module": "@jupyter-widgets/base",
      "model_module_version": "1.2.0",
      "model_name": "LayoutModel",
      "state": {
       "flex": "2"
      }
     },
     "c67ac7d9bb044844bfa67e845560b62b": {
      "model_module": "@jupyter-widgets/controls",
      "model_module_version": "1.5.0",
      "model_name": "HTMLModel",
      "state": {
       "layout": "IPY_MODEL_b6dd5b7699114d5db0ed7f1c2b0bb1f2",
       "style": "IPY_MODEL_b23f79f8d6f8413881f76c37a7d6dce3",
       "value": " ETA: 00:00s - loss: 0.0692 - val_loss: 0.0712"
      }
     },
     "c67b88b318e94737b96e94eb0d293af0": {
      "model_module": "@jupyter-widgets/base",
      "model_module_version": "1.2.0",
      "model_name": "LayoutModel",
      "state": {
       "flex": "2"
      }
     },
     "c68bbdaf9c894122824b93814ca538d5": {
      "model_module": "@jupyter-widgets/base",
      "model_module_version": "1.2.0",
      "model_name": "LayoutModel",
      "state": {
       "flex": "2"
      }
     },
     "c6955a9cfc5b4942a4cc35a7d361348d": {
      "model_module": "@jupyter-widgets/controls",
      "model_module_version": "1.5.0",
      "model_name": "FloatProgressModel",
      "state": {
       "bar_style": "success",
       "description": "5625/5625",
       "layout": "IPY_MODEL_ceb3174d41684ab5a0f129c3fc8ac4ac",
       "max": 5625,
       "style": "IPY_MODEL_9267d9d669014c118bf90f4a5cac0aeb",
       "value": 5625
      }
     },
     "c6eca4b93dfe4d2aa2e5cf6079077811": {
      "model_module": "@jupyter-widgets/controls",
      "model_module_version": "1.5.0",
      "model_name": "HTMLModel",
      "state": {
       "layout": "IPY_MODEL_d24f811f92b64685b5a2f0cacc08f147",
       "style": "IPY_MODEL_de284857867f42a5b9a26e37d1419bdd",
       "value": " ETA: 00:00s - loss: 0.0266 - val_loss: 0.0287"
      }
     },
     "c71dd242b31d465b93eaf1b4e78ec868": {
      "model_module": "@jupyter-widgets/base",
      "model_module_version": "1.2.0",
      "model_name": "LayoutModel",
      "state": {
       "display": "inline-flex",
       "flex_flow": "row wrap",
       "width": "100%"
      }
     },
     "c731cdc957ba4cd09cf6691bd4d649e1": {
      "model_module": "@jupyter-widgets/controls",
      "model_module_version": "1.5.0",
      "model_name": "FloatProgressModel",
      "state": {
       "bar_style": "success",
       "description": "5625/5625",
       "layout": "IPY_MODEL_2b4c80823f68474db5de091d42e404ed",
       "max": 5625,
       "style": "IPY_MODEL_53fa19fb08b743f6b7eeb94425bfe062",
       "value": 5625
      }
     },
     "c7331444a8e84620a6df77f25a54092b": {
      "model_module": "@jupyter-widgets/controls",
      "model_module_version": "1.5.0",
      "model_name": "ProgressStyleModel",
      "state": {
       "description_width": "initial"
      }
     },
     "c7357c074e9b45bc88138d569ef4dd9c": {
      "model_module": "@jupyter-widgets/controls",
      "model_module_version": "1.5.0",
      "model_name": "HTMLModel",
      "state": {
       "layout": "IPY_MODEL_6417f98760924e8e92676ecedff7edd6",
       "style": "IPY_MODEL_179c062f94334816bf68ddc5fc194a6b",
       "value": " ETA: 00:00s - loss: -1.7827 - val_loss: -1.7828"
      }
     },
     "c742902c8ecf483ea69ee8bc94c1d490": {
      "model_module": "@jupyter-widgets/controls",
      "model_module_version": "1.5.0",
      "model_name": "DescriptionStyleModel",
      "state": {
       "description_width": ""
      }
     },
     "c759ebad642f4691bc7589674f4a5968": {
      "model_module": "@jupyter-widgets/base",
      "model_module_version": "1.2.0",
      "model_name": "LayoutModel",
      "state": {
       "display": "inline-flex",
       "flex_flow": "row wrap",
       "width": "100%"
      }
     },
     "c7698f9349454eb7b945c5d0ef052ac7": {
      "model_module": "@jupyter-widgets/controls",
      "model_module_version": "1.5.0",
      "model_name": "ProgressStyleModel",
      "state": {
       "description_width": "initial"
      }
     },
     "c78def1949244127a8e685ec67d72181": {
      "model_module": "@jupyter-widgets/controls",
      "model_module_version": "1.5.0",
      "model_name": "HBoxModel",
      "state": {
       "children": [
        "IPY_MODEL_bfb833708ab74404a0039c675909e7bd",
        "IPY_MODEL_ecd49c86bdab4552aca561139a1919e1"
       ],
       "layout": "IPY_MODEL_0aca793fb42f450a97717ee015133b85"
      }
     },
     "c799b55e466b48949b997422816c7e4d": {
      "model_module": "@jupyter-widgets/base",
      "model_module_version": "1.2.0",
      "model_name": "LayoutModel",
      "state": {
       "flex": "2"
      }
     },
     "c7c828fc738241d086cab87afd5f3961": {
      "model_module": "@jupyter-widgets/base",
      "model_module_version": "1.2.0",
      "model_name": "LayoutModel",
      "state": {
       "flex": "2"
      }
     },
     "c7d82bf3910742a79a445b24b4105c88": {
      "model_module": "@jupyter-widgets/controls",
      "model_module_version": "1.5.0",
      "model_name": "HTMLModel",
      "state": {
       "layout": "IPY_MODEL_61714cf9919f4666be1ae934eded08f0",
       "style": "IPY_MODEL_27116031894443c6a4b66094bae89429",
       "value": " ETA: 00:00s - loss: 0.0704 - val_loss: 0.0728"
      }
     },
     "c7f3f3c5a1cb43cbbd63defdd561f20d": {
      "model_module": "@jupyter-widgets/base",
      "model_module_version": "1.2.0",
      "model_name": "LayoutModel",
      "state": {}
     },
     "c7fcfe2c975547bdab91ad87c99d386f": {
      "model_module": "@jupyter-widgets/controls",
      "model_module_version": "1.5.0",
      "model_name": "HBoxModel",
      "state": {
       "children": [
        "IPY_MODEL_4af833547ae94223a482d7430530c1c3",
        "IPY_MODEL_c84c5a75e3024cbeaef61dc6625c2831"
       ],
       "layout": "IPY_MODEL_1e231d7532654789a0b2c07ca2cf0cd5"
      }
     },
     "c8122a897bf84e01a4d49479fcbb0f03": {
      "model_module": "@jupyter-widgets/controls",
      "model_module_version": "1.5.0",
      "model_name": "ProgressStyleModel",
      "state": {
       "description_width": "initial"
      }
     },
     "c815f03031184901b08831f1d681941e": {
      "model_module": "@jupyter-widgets/base",
      "model_module_version": "1.2.0",
      "model_name": "LayoutModel",
      "state": {
       "flex": "2"
      }
     },
     "c841f90b89414ecfaef9af325f659f65": {
      "model_module": "@jupyter-widgets/controls",
      "model_module_version": "1.5.0",
      "model_name": "ProgressStyleModel",
      "state": {
       "description_width": "initial"
      }
     },
     "c84c5a75e3024cbeaef61dc6625c2831": {
      "model_module": "@jupyter-widgets/controls",
      "model_module_version": "1.5.0",
      "model_name": "HTMLModel",
      "state": {
       "layout": "IPY_MODEL_8e9c16d2027b4cdb932cded6ee53ac22",
       "style": "IPY_MODEL_a73ddd26c6e74f56aa272e594d49b479",
       "value": " ETA: 00:00s - loss: 0.0327 - val_loss: 0.0344"
      }
     },
     "c8645683d1934eba982b95d91c703ede": {
      "model_module": "@jupyter-widgets/controls",
      "model_module_version": "1.5.0",
      "model_name": "HBoxModel",
      "state": {
       "children": [
        "IPY_MODEL_08380f840dab4015ae27d37598fac491",
        "IPY_MODEL_ee8567d0f02c4f778021db56b834050f"
       ],
       "layout": "IPY_MODEL_4a70d4961e7548f697b0f25f270305a5"
      }
     },
     "c86f24d38d2e4fd8a17f5919d93c1d46": {
      "model_module": "@jupyter-widgets/controls",
      "model_module_version": "1.5.0",
      "model_name": "ProgressStyleModel",
      "state": {
       "description_width": "initial"
      }
     },
     "c883f48478c645599702e3a6b9419ae6": {
      "model_module": "@jupyter-widgets/controls",
      "model_module_version": "1.5.0",
      "model_name": "HBoxModel",
      "state": {
       "children": [
        "IPY_MODEL_df80afb4869b4fb999de116597c9d7d0",
        "IPY_MODEL_8c9beca4cdce43a5b1f9668693d80df5"
       ],
       "layout": "IPY_MODEL_5fc4278f9cf24bc28f49a6c4e75c3008"
      }
     },
     "c8bd72d782a24860b3158c6e878097a4": {
      "model_module": "@jupyter-widgets/base",
      "model_module_version": "1.2.0",
      "model_name": "LayoutModel",
      "state": {}
     },
     "c8f9eed8ad7b4f7ebf267ae0b27b356d": {
      "model_module": "@jupyter-widgets/controls",
      "model_module_version": "1.5.0",
      "model_name": "FloatProgressModel",
      "state": {
       "bar_style": "success",
       "description": "5625/5625",
       "layout": "IPY_MODEL_0e6b83dc678642cba3e1f63cbb5afed7",
       "max": 5625,
       "style": "IPY_MODEL_70cab60ee1f8414197c6c73f5ad99699",
       "value": 5625
      }
     },
     "c902c138d37744979dc3e8e08b2e2209": {
      "model_module": "@jupyter-widgets/controls",
      "model_module_version": "1.5.0",
      "model_name": "ProgressStyleModel",
      "state": {
       "description_width": "initial"
      }
     },
     "c90671cdb61f49ae8956264f680c1333": {
      "model_module": "@jupyter-widgets/base",
      "model_module_version": "1.2.0",
      "model_name": "LayoutModel",
      "state": {
       "display": "inline-flex",
       "flex_flow": "row wrap",
       "width": "100%"
      }
     },
     "c906bc00070b4ae0b95ba66ab20bdacf": {
      "model_module": "@jupyter-widgets/controls",
      "model_module_version": "1.5.0",
      "model_name": "DescriptionStyleModel",
      "state": {
       "description_width": ""
      }
     },
     "c91ae2feddb84ace91494392084d19e6": {
      "model_module": "@jupyter-widgets/controls",
      "model_module_version": "1.5.0",
      "model_name": "FloatProgressModel",
      "state": {
       "bar_style": "success",
       "description": "5625/5625",
       "layout": "IPY_MODEL_d1fa2b59be1c473b80a6a6c964ae5062",
       "max": 5625,
       "style": "IPY_MODEL_0fc16d64053f4f198b5a917205ca5a90",
       "value": 5625
      }
     },
     "c938425f2439454887fb8a93c26df718": {
      "model_module": "@jupyter-widgets/controls",
      "model_module_version": "1.5.0",
      "model_name": "ProgressStyleModel",
      "state": {
       "description_width": "initial"
      }
     },
     "c94ef8a60e244fe09eaacbf91935666a": {
      "model_module": "@jupyter-widgets/base",
      "model_module_version": "1.2.0",
      "model_name": "LayoutModel",
      "state": {
       "display": "inline-flex",
       "flex_flow": "row wrap",
       "width": "100%"
      }
     },
     "c95824dead0841aaab2999ccb8b8e108": {
      "model_module": "@jupyter-widgets/controls",
      "model_module_version": "1.5.0",
      "model_name": "HTMLModel",
      "state": {
       "layout": "IPY_MODEL_4671ab938278484ca4eb7f7da947ad40",
       "style": "IPY_MODEL_2a6ca318a2d24234bf2ae9cb70c1660d",
       "value": " ETA: 00:00s - loss: 0.0290 - val_loss: 0.0291"
      }
     },
     "c95a39f031324532a23f60039b757b4c": {
      "model_module": "@jupyter-widgets/base",
      "model_module_version": "1.2.0",
      "model_name": "LayoutModel",
      "state": {
       "flex": "2"
      }
     },
     "c95ac80ab15b407abac0154872a98140": {
      "model_module": "@jupyter-widgets/controls",
      "model_module_version": "1.5.0",
      "model_name": "FloatProgressModel",
      "state": {
       "bar_style": "success",
       "description": "5625/5625",
       "layout": "IPY_MODEL_0d677ec0d1da468ebf758aa5618b87a8",
       "max": 5625,
       "style": "IPY_MODEL_37b5216346e14341be54fb55a6ca7f1f",
       "value": 5625
      }
     },
     "c97128b02af04898bcdd8f0fc49549d1": {
      "model_module": "@jupyter-widgets/base",
      "model_module_version": "1.2.0",
      "model_name": "LayoutModel",
      "state": {}
     },
     "c98e8101a82a489fae557d6e8ce3b77f": {
      "model_module": "@jupyter-widgets/controls",
      "model_module_version": "1.5.0",
      "model_name": "DescriptionStyleModel",
      "state": {
       "description_width": ""
      }
     },
     "c994078314864001964178c85264faf7": {
      "model_module": "@jupyter-widgets/controls",
      "model_module_version": "1.5.0",
      "model_name": "ProgressStyleModel",
      "state": {
       "description_width": "initial"
      }
     },
     "c99e418aba6d477f8dfedef54a9fd148": {
      "model_module": "@jupyter-widgets/base",
      "model_module_version": "1.2.0",
      "model_name": "LayoutModel",
      "state": {}
     },
     "c9b2ed99349048b58957480db2f4022b": {
      "model_module": "@jupyter-widgets/base",
      "model_module_version": "1.2.0",
      "model_name": "LayoutModel",
      "state": {
       "flex": "2"
      }
     },
     "c9bfe8eabb89471d818756714ed33108": {
      "model_module": "@jupyter-widgets/base",
      "model_module_version": "1.2.0",
      "model_name": "LayoutModel",
      "state": {
       "flex": "2"
      }
     },
     "c9c9f8f595774a5c8842f44ae2efd141": {
      "model_module": "@jupyter-widgets/controls",
      "model_module_version": "1.5.0",
      "model_name": "HBoxModel",
      "state": {
       "children": [
        "IPY_MODEL_cea03ae0bb16495db4f0ddb6e0c46eff",
        "IPY_MODEL_9db7147623ab4ac797c937ffeaeb2906"
       ],
       "layout": "IPY_MODEL_b6bc06ddbf764b75a0b94ac6f9432d50"
      }
     },
     "c9d3ffb25add4b58ad2cd520b6faca5c": {
      "model_module": "@jupyter-widgets/base",
      "model_module_version": "1.2.0",
      "model_name": "LayoutModel",
      "state": {
       "flex": "2"
      }
     },
     "ca054106bad84f76889393d4422efd01": {
      "model_module": "@jupyter-widgets/controls",
      "model_module_version": "1.5.0",
      "model_name": "ProgressStyleModel",
      "state": {
       "description_width": "initial"
      }
     },
     "ca1b8e7edb0e41a5a7506de6c51d936a": {
      "model_module": "@jupyter-widgets/controls",
      "model_module_version": "1.5.0",
      "model_name": "ProgressStyleModel",
      "state": {
       "description_width": "initial"
      }
     },
     "ca5ea0a1fdaa485abe02f5ae93c24d6d": {
      "model_module": "@jupyter-widgets/base",
      "model_module_version": "1.2.0",
      "model_name": "LayoutModel",
      "state": {}
     },
     "ca6d622bb4e64c17ab91257b23a47f0b": {
      "model_module": "@jupyter-widgets/base",
      "model_module_version": "1.2.0",
      "model_name": "LayoutModel",
      "state": {}
     },
     "ca7702c95ad949bcae50ddfb9e3df332": {
      "model_module": "@jupyter-widgets/controls",
      "model_module_version": "1.5.0",
      "model_name": "HTMLModel",
      "state": {
       "layout": "IPY_MODEL_e7dec22e830442e98a763d58e2352aec",
       "style": "IPY_MODEL_d9840595c41445d8b83b4691eb8d27ee",
       "value": " ETA: 00:00s - loss: 0.0261 - val_loss: 0.0299"
      }
     },
     "ca7e23c8791a4edd8565c0c053ba57c1": {
      "model_module": "@jupyter-widgets/controls",
      "model_module_version": "1.5.0",
      "model_name": "FloatProgressModel",
      "state": {
       "bar_style": "success",
       "description": "5625/5625",
       "layout": "IPY_MODEL_78d37c5426cd4683b626a2fe5e317cad",
       "max": 5625,
       "style": "IPY_MODEL_986560770063484ba54aa4443759716f",
       "value": 5625
      }
     },
     "ca7ffd8cecc145cfaa4b7e5533ae2fd0": {
      "model_module": "@jupyter-widgets/controls",
      "model_module_version": "1.5.0",
      "model_name": "HTMLModel",
      "state": {
       "layout": "IPY_MODEL_b7d5a36654f74c31a3d03266f6f8aaed",
       "style": "IPY_MODEL_7768292ba1d0433dacbbbac9d447200f",
       "value": " ETA: 00:00s - loss: -1.8304 - val_loss: -1.8062"
      }
     },
     "ca91eddb3c634a558fb23d692c143bab": {
      "model_module": "@jupyter-widgets/base",
      "model_module_version": "1.2.0",
      "model_name": "LayoutModel",
      "state": {
       "flex": "2"
      }
     },
     "caa2c00ab7334a618cae2a5787b792ff": {
      "model_module": "@jupyter-widgets/controls",
      "model_module_version": "1.5.0",
      "model_name": "FloatProgressModel",
      "state": {
       "bar_style": "success",
       "description": "5625/5625",
       "layout": "IPY_MODEL_49dab6b2383945a2b9214dc28a7e460f",
       "max": 5625,
       "style": "IPY_MODEL_cad2d93a23f841ba8f509d7724f00801",
       "value": 5625
      }
     },
     "cab8307fd4cb4ef9b69643439973bd76": {
      "model_module": "@jupyter-widgets/controls",
      "model_module_version": "1.5.0",
      "model_name": "FloatProgressModel",
      "state": {
       "bar_style": "success",
       "description": "5625/5625",
       "layout": "IPY_MODEL_4b55b53bbf374b059f66be3be2f173aa",
       "max": 5625,
       "style": "IPY_MODEL_adf95a741ccf4843b5c3b460e66d122a",
       "value": 5625
      }
     },
     "cabc837dd5fe4eb0bcd8b8f1cb600545": {
      "model_module": "@jupyter-widgets/controls",
      "model_module_version": "1.5.0",
      "model_name": "DescriptionStyleModel",
      "state": {
       "description_width": ""
      }
     },
     "cac9957b9c0549e6b46a519ffd227e5b": {
      "model_module": "@jupyter-widgets/controls",
      "model_module_version": "1.5.0",
      "model_name": "HBoxModel",
      "state": {
       "children": [
        "IPY_MODEL_135a9fae9fe94eb88000fc4b0954be0c",
        "IPY_MODEL_1b6a4c7d90f84bdd9e85f47be440a527"
       ],
       "layout": "IPY_MODEL_83c1f897608c475cb7887e489c15ca99"
      }
     },
     "cad2d93a23f841ba8f509d7724f00801": {
      "model_module": "@jupyter-widgets/controls",
      "model_module_version": "1.5.0",
      "model_name": "ProgressStyleModel",
      "state": {
       "description_width": "initial"
      }
     },
     "cae9914be5534531829fd85b751fc54e": {
      "model_module": "@jupyter-widgets/base",
      "model_module_version": "1.2.0",
      "model_name": "LayoutModel",
      "state": {
       "flex": "2"
      }
     },
     "cb115cabb685447e964015fb3cac08cb": {
      "model_module": "@jupyter-widgets/base",
      "model_module_version": "1.2.0",
      "model_name": "LayoutModel",
      "state": {}
     },
     "cb154ba0dce34fa9b57e88fb1edceee9": {
      "model_module": "@jupyter-widgets/controls",
      "model_module_version": "1.5.0",
      "model_name": "HBoxModel",
      "state": {
       "children": [
        "IPY_MODEL_7ba76528d52041e185b20018f2333664",
        "IPY_MODEL_5f20ec856d5642b9ad96859585409add"
       ],
       "layout": "IPY_MODEL_37633e7ee9274dee97f5a802bca22b13"
      }
     },
     "cb160eed1e06476ebec931e1b433cb5f": {
      "model_module": "@jupyter-widgets/base",
      "model_module_version": "1.2.0",
      "model_name": "LayoutModel",
      "state": {
       "flex": "2"
      }
     },
     "cb343d5e5efa4dbfb1c62832ce00e101": {
      "model_module": "@jupyter-widgets/controls",
      "model_module_version": "1.5.0",
      "model_name": "DescriptionStyleModel",
      "state": {
       "description_width": ""
      }
     },
     "cb5c6fe1200d4fccb55f6b1cb6a3cba5": {
      "model_module": "@jupyter-widgets/controls",
      "model_module_version": "1.5.0",
      "model_name": "HTMLModel",
      "state": {
       "layout": "IPY_MODEL_3d0b98b268b3431494ab01aa797cffaa",
       "style": "IPY_MODEL_b908a57573c54217a772f5830bc01f9d",
       "value": " ETA: 00:00s - loss: -1.7738 - val_loss: -1.7724"
      }
     },
     "cb60cfd3350840d28f1bc3c6477def3e": {
      "model_module": "@jupyter-widgets/base",
      "model_module_version": "1.2.0",
      "model_name": "LayoutModel",
      "state": {
       "flex": "2"
      }
     },
     "cb6dfbec4ed24431b4e14f8f29e5679d": {
      "model_module": "@jupyter-widgets/controls",
      "model_module_version": "1.5.0",
      "model_name": "ProgressStyleModel",
      "state": {
       "description_width": "initial"
      }
     },
     "cb7588b09a4f4e4c8beae21eedef8fec": {
      "model_module": "@jupyter-widgets/base",
      "model_module_version": "1.2.0",
      "model_name": "LayoutModel",
      "state": {
       "flex": "2"
      }
     },
     "cb9eea6a68484291b73c8900c0bfdef2": {
      "model_module": "@jupyter-widgets/controls",
      "model_module_version": "1.5.0",
      "model_name": "HBoxModel",
      "state": {
       "children": [
        "IPY_MODEL_b669925117d54bc19835c12799e5f256",
        "IPY_MODEL_4c2060dafc6044d4bd8ed9a17ef95db9"
       ],
       "layout": "IPY_MODEL_631cac34b2f641debe337b25da5ec9f3"
      }
     },
     "cba645f93268451ca689f1b12746902c": {
      "model_module": "@jupyter-widgets/base",
      "model_module_version": "1.2.0",
      "model_name": "LayoutModel",
      "state": {
       "flex": "2"
      }
     },
     "cbaa223365f64372bfa90ab4fe545e51": {
      "model_module": "@jupyter-widgets/base",
      "model_module_version": "1.2.0",
      "model_name": "LayoutModel",
      "state": {}
     },
     "cbcb6b6a28df407e83d492f276c93b00": {
      "model_module": "@jupyter-widgets/controls",
      "model_module_version": "1.5.0",
      "model_name": "HTMLModel",
      "state": {
       "layout": "IPY_MODEL_83aff5ac1a2a45019a227d3e76105f9c",
       "style": "IPY_MODEL_69ce66846d9f4939b4bc5e8e5e38d5e1",
       "value": " ETA: 00:00s - loss: 0.0289 - val_loss: 0.0289"
      }
     },
     "cbcfdcdf52494019aad9c252b041e884": {
      "model_module": "@jupyter-widgets/base",
      "model_module_version": "1.2.0",
      "model_name": "LayoutModel",
      "state": {
       "flex": "2"
      }
     },
     "cbe6a85af3e64b378417abcaaedede2e": {
      "model_module": "@jupyter-widgets/controls",
      "model_module_version": "1.5.0",
      "model_name": "FloatProgressModel",
      "state": {
       "bar_style": "success",
       "description": "5625/5625",
       "layout": "IPY_MODEL_7f3528da8e674e5ba4eeed132b165245",
       "max": 5625,
       "style": "IPY_MODEL_db6f304ec3f7413480ff0cd6ffe72219",
       "value": 5625
      }
     },
     "cc0b99bad0fa4d9b86e0ce6a20be9787": {
      "model_module": "@jupyter-widgets/base",
      "model_module_version": "1.2.0",
      "model_name": "LayoutModel",
      "state": {
       "display": "inline-flex",
       "flex_flow": "row wrap",
       "width": "100%"
      }
     },
     "cc5be9593a704403a325adcb8add47b5": {
      "model_module": "@jupyter-widgets/controls",
      "model_module_version": "1.5.0",
      "model_name": "HBoxModel",
      "state": {
       "children": [
        "IPY_MODEL_4df0e860a87642dca6ef6194e07c06f0",
        "IPY_MODEL_f099c5538add40e8aaeab3a7b63e9bc9"
       ],
       "layout": "IPY_MODEL_bb42bdb63ed04765a9b0863a034bf4cf"
      }
     },
     "cc5e100b8f534f2cb6a62c907ca7906c": {
      "model_module": "@jupyter-widgets/controls",
      "model_module_version": "1.5.0",
      "model_name": "ProgressStyleModel",
      "state": {
       "description_width": "initial"
      }
     },
     "cc881005435b422b807296a2ff44b641": {
      "model_module": "@jupyter-widgets/controls",
      "model_module_version": "1.5.0",
      "model_name": "DescriptionStyleModel",
      "state": {
       "description_width": ""
      }
     },
     "cc89dbb344f3401c8ba4f2018e315f35": {
      "model_module": "@jupyter-widgets/base",
      "model_module_version": "1.2.0",
      "model_name": "LayoutModel",
      "state": {
       "display": "inline-flex",
       "flex_flow": "row wrap",
       "width": "100%"
      }
     },
     "cc9322a45d054b9290ef7f94988479bc": {
      "model_module": "@jupyter-widgets/controls",
      "model_module_version": "1.5.0",
      "model_name": "HBoxModel",
      "state": {
       "children": [
        "IPY_MODEL_db88197efbae4bc6ab985a0050921edb",
        "IPY_MODEL_874a5fc3b1f94868872c0f6b6b2a81ec"
       ],
       "layout": "IPY_MODEL_30e56cd05dce48b2befdebeccc82e459"
      }
     },
     "cca669e56f884a31a399f50cb4ce8bf2": {
      "model_module": "@jupyter-widgets/controls",
      "model_module_version": "1.5.0",
      "model_name": "HTMLModel",
      "state": {
       "layout": "IPY_MODEL_4ce0c811998342fa9c298181cd548b19",
       "style": "IPY_MODEL_117fd2a89ef94f718be9d495c0bd7a1e",
       "value": " ETA: 00:00s - loss: 0.0678 - val_loss: 0.0710"
      }
     },
     "ccb4a4a42cbf4e3d84934a29faa08359": {
      "model_module": "@jupyter-widgets/base",
      "model_module_version": "1.2.0",
      "model_name": "LayoutModel",
      "state": {
       "display": "inline-flex",
       "flex_flow": "row wrap",
       "width": "100%"
      }
     },
     "ccf005a649d84f2ca254d2833b731bfd": {
      "model_module": "@jupyter-widgets/base",
      "model_module_version": "1.2.0",
      "model_name": "LayoutModel",
      "state": {
       "flex": "2"
      }
     },
     "ccf1de22c2dc45d4b4036858560e86d6": {
      "model_module": "@jupyter-widgets/base",
      "model_module_version": "1.2.0",
      "model_name": "LayoutModel",
      "state": {
       "flex": "2"
      }
     },
     "ccf4dc833d1e432f85f730fe36291215": {
      "model_module": "@jupyter-widgets/controls",
      "model_module_version": "1.5.0",
      "model_name": "DescriptionStyleModel",
      "state": {
       "description_width": ""
      }
     },
     "ccfa10a56461471ba0a10a904bba65e4": {
      "model_module": "@jupyter-widgets/controls",
      "model_module_version": "1.5.0",
      "model_name": "HBoxModel",
      "state": {
       "children": [
        "IPY_MODEL_ba3a912b08d944fa9e3a562eda75fb19",
        "IPY_MODEL_7b25b45b57194ec89f2290f3348f24e2"
       ],
       "layout": "IPY_MODEL_ab00e6bb1f0b4a74aa1ff3fc956798a3"
      }
     },
     "ccfd818468db4ecfa0e92b5450cfffdc": {
      "model_module": "@jupyter-widgets/base",
      "model_module_version": "1.2.0",
      "model_name": "LayoutModel",
      "state": {
       "display": "inline-flex",
       "flex_flow": "row wrap",
       "width": "100%"
      }
     },
     "cd3ae5b0d6554176b30cd0d8f790200b": {
      "model_module": "@jupyter-widgets/controls",
      "model_module_version": "1.5.0",
      "model_name": "DescriptionStyleModel",
      "state": {
       "description_width": ""
      }
     },
     "cd57ccff8a0548419131c8368a8d55e3": {
      "model_module": "@jupyter-widgets/controls",
      "model_module_version": "1.5.0",
      "model_name": "FloatProgressModel",
      "state": {
       "bar_style": "success",
       "description": "5625/5625",
       "layout": "IPY_MODEL_57516d6d28344ff18f1f79ac1278f3ef",
       "max": 5625,
       "style": "IPY_MODEL_ef2e7d2a29df49dabc26dcb3884e2208",
       "value": 5625
      }
     },
     "cd5927c9ded2407a88580de2e50d5a6f": {
      "model_module": "@jupyter-widgets/controls",
      "model_module_version": "1.5.0",
      "model_name": "HTMLModel",
      "state": {
       "layout": "IPY_MODEL_d6b53245b04a4b7fb11dbc764c8dd42f",
       "style": "IPY_MODEL_014d19e745594268911acee95f8eb37d",
       "value": " ETA: 00:00s - loss: 0.0267 - val_loss: 0.0290"
      }
     },
     "cd5a85ed2c33484eb843311afc01ec74": {
      "model_module": "@jupyter-widgets/controls",
      "model_module_version": "1.5.0",
      "model_name": "DescriptionStyleModel",
      "state": {
       "description_width": ""
      }
     },
     "cd65716147f7444ca9f383646906f968": {
      "model_module": "@jupyter-widgets/controls",
      "model_module_version": "1.5.0",
      "model_name": "HTMLModel",
      "state": {
       "layout": "IPY_MODEL_7136fb4dd4a041b2ae849cdd8e9931d6",
       "style": "IPY_MODEL_96d7aabe87fd49db853d5c46aaf6721c",
       "value": " ETA: 00:00s - loss: -1.8432 - val_loss: -1.7909"
      }
     },
     "cd71861600c345fa9c5aafb0e526a2b8": {
      "model_module": "@jupyter-widgets/base",
      "model_module_version": "1.2.0",
      "model_name": "LayoutModel",
      "state": {
       "display": "inline-flex",
       "flex_flow": "row wrap",
       "width": "100%"
      }
     },
     "cd721152233b4a9fab234066dcb10a56": {
      "model_module": "@jupyter-widgets/controls",
      "model_module_version": "1.5.0",
      "model_name": "HTMLModel",
      "state": {
       "layout": "IPY_MODEL_5739ef118fce49e7bffdd13a80a953e9",
       "style": "IPY_MODEL_a738ba8da951494cbf55d3b4ff59b37c",
       "value": " ETA: 00:00s - loss: 0.0293 - val_loss: 0.0305"
      }
     },
     "cd8ebfed7e8a4e52a0c9e5f4ade19a73": {
      "model_module": "@jupyter-widgets/controls",
      "model_module_version": "1.5.0",
      "model_name": "FloatProgressModel",
      "state": {
       "bar_style": "success",
       "description": "5625/5625",
       "layout": "IPY_MODEL_ee65ac81ea864ad99d54b4257e9ea470",
       "max": 5625,
       "style": "IPY_MODEL_84eaf7c008fd49139bb6661e511f8208",
       "value": 5625
      }
     },
     "cdb10141868243869b8ecff1017bd85d": {
      "model_module": "@jupyter-widgets/base",
      "model_module_version": "1.2.0",
      "model_name": "LayoutModel",
      "state": {}
     },
     "cdc006885b7146a4b55776547cc84a34": {
      "model_module": "@jupyter-widgets/controls",
      "model_module_version": "1.5.0",
      "model_name": "ProgressStyleModel",
      "state": {
       "description_width": "initial"
      }
     },
     "cdee5de87d55479394f0184b18909070": {
      "model_module": "@jupyter-widgets/controls",
      "model_module_version": "1.5.0",
      "model_name": "HBoxModel",
      "state": {
       "children": [
        "IPY_MODEL_985ce708939e4cc885bc17004bd0d500",
        "IPY_MODEL_8e83493ac55443df9efbe3deb2d3c083"
       ],
       "layout": "IPY_MODEL_7d36a06ed6d3448e950e73569580e339"
      }
     },
     "cdefb4dd639c4e998db3d9a17584fbaf": {
      "model_module": "@jupyter-widgets/base",
      "model_module_version": "1.2.0",
      "model_name": "LayoutModel",
      "state": {
       "flex": "2"
      }
     },
     "cdf0eab1b3a6482ea0c484b0d3c5543e": {
      "model_module": "@jupyter-widgets/controls",
      "model_module_version": "1.5.0",
      "model_name": "ProgressStyleModel",
      "state": {
       "description_width": "initial"
      }
     },
     "cdfaa46f958044c5866ae90bb200ca04": {
      "model_module": "@jupyter-widgets/base",
      "model_module_version": "1.2.0",
      "model_name": "LayoutModel",
      "state": {
       "display": "inline-flex",
       "flex_flow": "row wrap",
       "width": "100%"
      }
     },
     "cdfca50e60f14fb5854893951e825553": {
      "model_module": "@jupyter-widgets/controls",
      "model_module_version": "1.5.0",
      "model_name": "DescriptionStyleModel",
      "state": {
       "description_width": ""
      }
     },
     "ce06594e5a554ef8b17109810de4de66": {
      "model_module": "@jupyter-widgets/base",
      "model_module_version": "1.2.0",
      "model_name": "LayoutModel",
      "state": {
       "display": "inline-flex",
       "flex_flow": "row wrap",
       "width": "100%"
      }
     },
     "ce0f1b923b524bde83d322115bfbd7ba": {
      "model_module": "@jupyter-widgets/base",
      "model_module_version": "1.2.0",
      "model_name": "LayoutModel",
      "state": {
       "display": "inline-flex",
       "flex_flow": "row wrap",
       "width": "100%"
      }
     },
     "ce2853bc0e914462966e0590ca788cfc": {
      "model_module": "@jupyter-widgets/base",
      "model_module_version": "1.2.0",
      "model_name": "LayoutModel",
      "state": {
       "flex": "2"
      }
     },
     "ce3e06ffeb2d41ed82f56288347dc386": {
      "model_module": "@jupyter-widgets/controls",
      "model_module_version": "1.5.0",
      "model_name": "FloatProgressModel",
      "state": {
       "bar_style": "success",
       "description": "5625/5625",
       "layout": "IPY_MODEL_f2cbc9d23c4e475bb88537ae9b3e9723",
       "max": 5625,
       "style": "IPY_MODEL_a8f9155f2aee4b4bb4dec4d3d48ffd87",
       "value": 5625
      }
     },
     "ce40360564194ee7baf86b86a1813624": {
      "model_module": "@jupyter-widgets/controls",
      "model_module_version": "1.5.0",
      "model_name": "DescriptionStyleModel",
      "state": {
       "description_width": ""
      }
     },
     "ce42d1efd9b84e87840b763524a9dbf1": {
      "model_module": "@jupyter-widgets/base",
      "model_module_version": "1.2.0",
      "model_name": "LayoutModel",
      "state": {
       "flex": "2"
      }
     },
     "ce4e38390b93411686db10de47bf4e0d": {
      "model_module": "@jupyter-widgets/controls",
      "model_module_version": "1.5.0",
      "model_name": "ProgressStyleModel",
      "state": {
       "description_width": "initial"
      }
     },
     "ce6136ef849042caadf980b0dcc21a4b": {
      "model_module": "@jupyter-widgets/controls",
      "model_module_version": "1.5.0",
      "model_name": "HBoxModel",
      "state": {
       "children": [
        "IPY_MODEL_ab9128dc69ab4ecb83c627d9199864fd",
        "IPY_MODEL_91f68f113dba4ab7be76fe6bbaf12c83"
       ],
       "layout": "IPY_MODEL_d6e293b8fea34fa5b2d9634065a79b82"
      }
     },
     "ce7b06cfbf4343d09f2c345f727e96c5": {
      "model_module": "@jupyter-widgets/base",
      "model_module_version": "1.2.0",
      "model_name": "LayoutModel",
      "state": {
       "display": "inline-flex",
       "flex_flow": "row wrap",
       "width": "100%"
      }
     },
     "ce9a7089f3c64c2491a4112af98af72b": {
      "model_module": "@jupyter-widgets/base",
      "model_module_version": "1.2.0",
      "model_name": "LayoutModel",
      "state": {
       "display": "inline-flex",
       "flex_flow": "row wrap",
       "width": "100%"
      }
     },
     "ce9b4f67cb8542f4942a6d9001d31191": {
      "model_module": "@jupyter-widgets/base",
      "model_module_version": "1.2.0",
      "model_name": "LayoutModel",
      "state": {
       "display": "inline-flex",
       "flex_flow": "row wrap",
       "width": "100%"
      }
     },
     "cea03ae0bb16495db4f0ddb6e0c46eff": {
      "model_module": "@jupyter-widgets/controls",
      "model_module_version": "1.5.0",
      "model_name": "FloatProgressModel",
      "state": {
       "bar_style": "success",
       "description": "5625/5625",
       "layout": "IPY_MODEL_b7255f045057434ca38a1c834ce0f3ce",
       "max": 5625,
       "style": "IPY_MODEL_6a2c89dcb5a34598811993a229b894ab",
       "value": 5625
      }
     },
     "cea20dafeca14385ad5867b9ac48d966": {
      "model_module": "@jupyter-widgets/base",
      "model_module_version": "1.2.0",
      "model_name": "LayoutModel",
      "state": {
       "display": "inline-flex",
       "flex_flow": "row wrap",
       "width": "100%"
      }
     },
     "cead1ca4122d4bd9820e213acac406f2": {
      "model_module": "@jupyter-widgets/base",
      "model_module_version": "1.2.0",
      "model_name": "LayoutModel",
      "state": {
       "flex": "2"
      }
     },
     "ceb2523e24fb490f9f06b27a6f8b7202": {
      "model_module": "@jupyter-widgets/base",
      "model_module_version": "1.2.0",
      "model_name": "LayoutModel",
      "state": {
       "display": "inline-flex",
       "flex_flow": "row wrap",
       "width": "100%"
      }
     },
     "ceb3174d41684ab5a0f129c3fc8ac4ac": {
      "model_module": "@jupyter-widgets/base",
      "model_module_version": "1.2.0",
      "model_name": "LayoutModel",
      "state": {
       "flex": "2"
      }
     },
     "cee2995afb5849af95e300237130679c": {
      "model_module": "@jupyter-widgets/controls",
      "model_module_version": "1.5.0",
      "model_name": "DescriptionStyleModel",
      "state": {
       "description_width": ""
      }
     },
     "cef4477b0fb1498fa2d25bd33fd0ae2b": {
      "model_module": "@jupyter-widgets/controls",
      "model_module_version": "1.5.0",
      "model_name": "FloatProgressModel",
      "state": {
       "bar_style": "success",
       "description": "5625/5625",
       "layout": "IPY_MODEL_f23217310359490a88d54954bcb9e6c7",
       "max": 5625,
       "style": "IPY_MODEL_a7b37f8fe9774487b306679bdee7a279",
       "value": 5625
      }
     },
     "cefd66d6deda4e2aabd31f408b394c51": {
      "model_module": "@jupyter-widgets/controls",
      "model_module_version": "1.5.0",
      "model_name": "DescriptionStyleModel",
      "state": {
       "description_width": ""
      }
     },
     "cefd86919e3b49a38e0e6b3f9788f359": {
      "model_module": "@jupyter-widgets/base",
      "model_module_version": "1.2.0",
      "model_name": "LayoutModel",
      "state": {}
     },
     "cf03c98f71f1499f940cdf9eb601bae5": {
      "model_module": "@jupyter-widgets/controls",
      "model_module_version": "1.5.0",
      "model_name": "ProgressStyleModel",
      "state": {
       "description_width": "initial"
      }
     },
     "cf04d43af4a449b993451b0b705d12ca": {
      "model_module": "@jupyter-widgets/controls",
      "model_module_version": "1.5.0",
      "model_name": "FloatProgressModel",
      "state": {
       "bar_style": "success",
       "description": "5625/5625",
       "layout": "IPY_MODEL_066d9a16602d4d6a856bf24762a7feb5",
       "max": 5625,
       "style": "IPY_MODEL_6efb8b8f68434c22b1b13baeb192d9fc",
       "value": 5625
      }
     },
     "cf16a9c9e6d54458add6541bf067e4c5": {
      "model_module": "@jupyter-widgets/base",
      "model_module_version": "1.2.0",
      "model_name": "LayoutModel",
      "state": {
       "flex": "2"
      }
     },
     "cf9808127ed34ca3bc70a70bde8372ee": {
      "model_module": "@jupyter-widgets/controls",
      "model_module_version": "1.5.0",
      "model_name": "HBoxModel",
      "state": {
       "children": [
        "IPY_MODEL_86ac727029304b41b3c77ed7265c5f9f",
        "IPY_MODEL_2e89a25b947d4856b365348b5936987c"
       ],
       "layout": "IPY_MODEL_c759ebad642f4691bc7589674f4a5968"
      }
     },
     "cfa4ee21a86b4b3cac0fa76e44d25a4f": {
      "model_module": "@jupyter-widgets/controls",
      "model_module_version": "1.5.0",
      "model_name": "HBoxModel",
      "state": {
       "children": [
        "IPY_MODEL_994a670e65c045328e7962dbb043c6ee",
        "IPY_MODEL_627ee0ae56e84cf7b3610f5dbe275fb5"
       ],
       "layout": "IPY_MODEL_fa0f9746be8045b8864a34ba98bfe582"
      }
     },
     "cfb4514dcfd3422a894d62ff87de32aa": {
      "model_module": "@jupyter-widgets/controls",
      "model_module_version": "1.5.0",
      "model_name": "HBoxModel",
      "state": {
       "children": [
        "IPY_MODEL_35390cbf0b944fcf81101de021fedc9b",
        "IPY_MODEL_9ce9eed561364bb798afa6406668248a"
       ],
       "layout": "IPY_MODEL_ce06594e5a554ef8b17109810de4de66"
      }
     },
     "cfe250318e4d4752b928f67d99cfb86b": {
      "model_module": "@jupyter-widgets/controls",
      "model_module_version": "1.5.0",
      "model_name": "HBoxModel",
      "state": {
       "children": [
        "IPY_MODEL_0fbf6bc1c4464038b363be4d4890c12b",
        "IPY_MODEL_a8263dd2fae04772b0ed9d421f7c5839"
       ],
       "layout": "IPY_MODEL_21bf4e68dfb644419b2770a977586471"
      }
     },
     "cff6a77be08543268ac9b6dfcda3b9d3": {
      "model_module": "@jupyter-widgets/controls",
      "model_module_version": "1.5.0",
      "model_name": "HTMLModel",
      "state": {
       "layout": "IPY_MODEL_dd16817c11994a1ba01cf88209805096",
       "style": "IPY_MODEL_2831b51545f94cafab56924df7326fc5",
       "value": " ETA: 00:00s - loss: 0.0306 - val_loss: 0.0303"
      }
     },
     "d028cb6744814bc7a535071ffe19b376": {
      "model_module": "@jupyter-widgets/controls",
      "model_module_version": "1.5.0",
      "model_name": "DescriptionStyleModel",
      "state": {
       "description_width": ""
      }
     },
     "d0462e045f9c4f7899b67e5b439918cb": {
      "model_module": "@jupyter-widgets/controls",
      "model_module_version": "1.5.0",
      "model_name": "HTMLModel",
      "state": {
       "layout": "IPY_MODEL_82d0f0f5f1504d6ca35260599ae7037e",
       "style": "IPY_MODEL_917a24b900ff48f2bd2c0e8d441373b2",
       "value": " ETA: 00:00s - loss: 0.0286 - val_loss: 0.0306"
      }
     },
     "d069e8dbc224411e8ccc0738da580617": {
      "model_module": "@jupyter-widgets/base",
      "model_module_version": "1.2.0",
      "model_name": "LayoutModel",
      "state": {
       "flex": "2"
      }
     },
     "d0bc8cabe8f2450c84093dc0ddeef4ff": {
      "model_module": "@jupyter-widgets/controls",
      "model_module_version": "1.5.0",
      "model_name": "ProgressStyleModel",
      "state": {
       "description_width": "initial"
      }
     },
     "d0bcc8ca335541ceb574a03604b8523b": {
      "model_module": "@jupyter-widgets/base",
      "model_module_version": "1.2.0",
      "model_name": "LayoutModel",
      "state": {
       "display": "inline-flex",
       "flex_flow": "row wrap",
       "width": "100%"
      }
     },
     "d0c0831fec164a61a489978c1d5a9210": {
      "model_module": "@jupyter-widgets/controls",
      "model_module_version": "1.5.0",
      "model_name": "DescriptionStyleModel",
      "state": {
       "description_width": ""
      }
     },
     "d0cab6066e274b2894412892cf404c98": {
      "model_module": "@jupyter-widgets/base",
      "model_module_version": "1.2.0",
      "model_name": "LayoutModel",
      "state": {
       "display": "inline-flex",
       "flex_flow": "row wrap",
       "width": "100%"
      }
     },
     "d0e32f20b2264543a1f36e250d9c43c1": {
      "model_module": "@jupyter-widgets/controls",
      "model_module_version": "1.5.0",
      "model_name": "ProgressStyleModel",
      "state": {
       "description_width": "initial"
      }
     },
     "d0f77409c5e04688a2dab095504b4376": {
      "model_module": "@jupyter-widgets/controls",
      "model_module_version": "1.5.0",
      "model_name": "DescriptionStyleModel",
      "state": {
       "description_width": ""
      }
     },
     "d123b3d87bbc4d6ca33f621a91386b16": {
      "model_module": "@jupyter-widgets/controls",
      "model_module_version": "1.5.0",
      "model_name": "ProgressStyleModel",
      "state": {
       "description_width": "initial"
      }
     },
     "d12834d070b04e21a85448086f0d8643": {
      "model_module": "@jupyter-widgets/controls",
      "model_module_version": "1.5.0",
      "model_name": "DescriptionStyleModel",
      "state": {
       "description_width": ""
      }
     },
     "d12b3e89478b450cae7d03024eb58a04": {
      "model_module": "@jupyter-widgets/base",
      "model_module_version": "1.2.0",
      "model_name": "LayoutModel",
      "state": {
       "display": "inline-flex",
       "flex_flow": "row wrap",
       "width": "100%"
      }
     },
     "d12f642d5e884e6ca98ba9352a40cc86": {
      "model_module": "@jupyter-widgets/controls",
      "model_module_version": "1.5.0",
      "model_name": "HBoxModel",
      "state": {
       "children": [
        "IPY_MODEL_943bebc0c6d94636b019666cac2688b8",
        "IPY_MODEL_3e1378ffade74f70bca5779b55363bd4"
       ],
       "layout": "IPY_MODEL_9242f0d382444a4bacaeae5ce72906b5"
      }
     },
     "d14a443f11d84f6588f754be44919b76": {
      "model_module": "@jupyter-widgets/base",
      "model_module_version": "1.2.0",
      "model_name": "LayoutModel",
      "state": {
       "display": "inline-flex",
       "flex_flow": "row wrap",
       "width": "100%"
      }
     },
     "d158b087f83442e79fd81a9a630836c1": {
      "model_module": "@jupyter-widgets/controls",
      "model_module_version": "1.5.0",
      "model_name": "ProgressStyleModel",
      "state": {
       "description_width": "initial"
      }
     },
     "d15c0940dbe94161ab5af5d3d4ff4bda": {
      "model_module": "@jupyter-widgets/controls",
      "model_module_version": "1.5.0",
      "model_name": "DescriptionStyleModel",
      "state": {
       "description_width": ""
      }
     },
     "d16621dfef6a42019e4b0f01f2836341": {
      "model_module": "@jupyter-widgets/controls",
      "model_module_version": "1.5.0",
      "model_name": "HBoxModel",
      "state": {
       "children": [
        "IPY_MODEL_fa14fe6d04e8488ab2ad6452606106ef",
        "IPY_MODEL_24d02a36967c4a699a0ff80ce007f4a0"
       ],
       "layout": "IPY_MODEL_8c827a85195545248332b1ef07aadc4a"
      }
     },
     "d179ff829cd14216a274d84cbf9a2c20": {
      "model_module": "@jupyter-widgets/controls",
      "model_module_version": "1.5.0",
      "model_name": "HBoxModel",
      "state": {
       "children": [
        "IPY_MODEL_eb8072e41d5e4e36b38858c27556ce2a",
        "IPY_MODEL_ed7f64a5b9424d9c9ecc58918e992eee"
       ],
       "layout": "IPY_MODEL_13a8275013cb4330959bbdbebe229559"
      }
     },
     "d17c6f3bca2b46d29af74908a40e2c56": {
      "model_module": "@jupyter-widgets/controls",
      "model_module_version": "1.5.0",
      "model_name": "DescriptionStyleModel",
      "state": {
       "description_width": ""
      }
     },
     "d18cdfe7d2ed47aa806c3652a18e9ef8": {
      "model_module": "@jupyter-widgets/controls",
      "model_module_version": "1.5.0",
      "model_name": "HTMLModel",
      "state": {
       "layout": "IPY_MODEL_16e11d1964fd4ca0b4805c466728d15a",
       "style": "IPY_MODEL_0b7eb5ce2a344dc8ba71414340d9137c",
       "value": " ETA: 00:00s - loss: 0.0278 - val_loss: 0.0288"
      }
     },
     "d1a6cac5ec4844cfb9d0bce95573c0f7": {
      "model_module": "@jupyter-widgets/base",
      "model_module_version": "1.2.0",
      "model_name": "LayoutModel",
      "state": {
       "flex": "2"
      }
     },
     "d1d3b81a2a934bff9553e7acefb05947": {
      "model_module": "@jupyter-widgets/base",
      "model_module_version": "1.2.0",
      "model_name": "LayoutModel",
      "state": {}
     },
     "d1e60eea1cca422b8a1d406c6b70179f": {
      "model_module": "@jupyter-widgets/controls",
      "model_module_version": "1.5.0",
      "model_name": "DescriptionStyleModel",
      "state": {
       "description_width": ""
      }
     },
     "d1fa2b59be1c473b80a6a6c964ae5062": {
      "model_module": "@jupyter-widgets/base",
      "model_module_version": "1.2.0",
      "model_name": "LayoutModel",
      "state": {
       "flex": "2"
      }
     },
     "d21867e81fa9409ab3da0116d4126fee": {
      "model_module": "@jupyter-widgets/controls",
      "model_module_version": "1.5.0",
      "model_name": "FloatProgressModel",
      "state": {
       "bar_style": "success",
       "description": "5625/5625",
       "layout": "IPY_MODEL_e01222e5ee1f465480e0f0f2e5e3ff47",
       "max": 5625,
       "style": "IPY_MODEL_3c87fc500cea4061bf59216440033d78",
       "value": 5625
      }
     },
     "d22b05a4c4cd4e69a7aa0bf204431f5a": {
      "model_module": "@jupyter-widgets/controls",
      "model_module_version": "1.5.0",
      "model_name": "FloatProgressModel",
      "state": {
       "bar_style": "success",
       "description": "5625/5625",
       "layout": "IPY_MODEL_bd781de4a2814b288405f0d6315b548e",
       "max": 5625,
       "style": "IPY_MODEL_2297e39550c04314bc1144d67547133b",
       "value": 5625
      }
     },
     "d24f811f92b64685b5a2f0cacc08f147": {
      "model_module": "@jupyter-widgets/base",
      "model_module_version": "1.2.0",
      "model_name": "LayoutModel",
      "state": {}
     },
     "d256d6e0634149ec9e1d3ba1af942ec3": {
      "model_module": "@jupyter-widgets/controls",
      "model_module_version": "1.5.0",
      "model_name": "DescriptionStyleModel",
      "state": {
       "description_width": ""
      }
     },
     "d26cc14752ef48c2b0093ec205767f3f": {
      "model_module": "@jupyter-widgets/base",
      "model_module_version": "1.2.0",
      "model_name": "LayoutModel",
      "state": {
       "display": "inline-flex",
       "flex_flow": "row wrap",
       "width": "100%"
      }
     },
     "d26ea3c5c866477386be39d5ec9cf667": {
      "model_module": "@jupyter-widgets/controls",
      "model_module_version": "1.5.0",
      "model_name": "ProgressStyleModel",
      "state": {
       "description_width": "initial"
      }
     },
     "d2b9919f0019432ea16596f7a9344029": {
      "model_module": "@jupyter-widgets/base",
      "model_module_version": "1.2.0",
      "model_name": "LayoutModel",
      "state": {
       "display": "inline-flex",
       "flex_flow": "row wrap",
       "width": "100%"
      }
     },
     "d2c79147298b4df5a56f6e82549400c3": {
      "model_module": "@jupyter-widgets/base",
      "model_module_version": "1.2.0",
      "model_name": "LayoutModel",
      "state": {}
     },
     "d2c81f58f1f64901b14af4ce43a24da6": {
      "model_module": "@jupyter-widgets/controls",
      "model_module_version": "1.5.0",
      "model_name": "HTMLModel",
      "state": {
       "layout": "IPY_MODEL_ee7d40fdc5914d9b89d7296916cd6ddf",
       "style": "IPY_MODEL_97653ff20653463785d87702d46b1295",
       "value": " ETA: 00:00s - loss: 0.0730 - val_loss: 0.0729"
      }
     },
     "d2e56c5088844419b172dc81d2330121": {
      "model_module": "@jupyter-widgets/base",
      "model_module_version": "1.2.0",
      "model_name": "LayoutModel",
      "state": {
       "flex": "2"
      }
     },
     "d306949dba2c470ca8ec59929608bcf8": {
      "model_module": "@jupyter-widgets/controls",
      "model_module_version": "1.5.0",
      "model_name": "DescriptionStyleModel",
      "state": {
       "description_width": ""
      }
     },
     "d3477c11848341ae984dc1116a571fed": {
      "model_module": "@jupyter-widgets/base",
      "model_module_version": "1.2.0",
      "model_name": "LayoutModel",
      "state": {
       "flex": "2"
      }
     },
     "d35d3be277f44b1898086636fa7ee1f0": {
      "model_module": "@jupyter-widgets/controls",
      "model_module_version": "1.5.0",
      "model_name": "HTMLModel",
      "state": {
       "layout": "IPY_MODEL_69c57abd4eb94ced9a6c2a04c83b5c09",
       "style": "IPY_MODEL_c1b690146fa74ce79e14fbe52247965f",
       "value": " ETA: 00:00s - loss: 0.0258 - val_loss: 0.0289"
      }
     },
     "d3683fff3bbc48809460d1fdc0b89c1d": {
      "model_module": "@jupyter-widgets/base",
      "model_module_version": "1.2.0",
      "model_name": "LayoutModel",
      "state": {}
     },
     "d39ea682f8c640a19a7308775a1956f7": {
      "model_module": "@jupyter-widgets/controls",
      "model_module_version": "1.5.0",
      "model_name": "HTMLModel",
      "state": {
       "layout": "IPY_MODEL_415011c4df42441ca741ce5b6f7f1d9d",
       "style": "IPY_MODEL_2dba2204bb984de59910fa52aeb616fb",
       "value": " ETA: 00:00s - loss: 0.0670 - val_loss: 0.0714"
      }
     },
     "d3c3e8615f3b418fae7538ec291057b3": {
      "model_module": "@jupyter-widgets/controls",
      "model_module_version": "1.5.0",
      "model_name": "FloatProgressModel",
      "state": {
       "bar_style": "success",
       "description": "5625/5625",
       "layout": "IPY_MODEL_aa30ab7afa974b3ca412b77defdfd069",
       "max": 5625,
       "style": "IPY_MODEL_2ba31d0893444de5a6b9724c1ec7b3e8",
       "value": 5625
      }
     },
     "d3d4c3f5cd55438e999aa7c4e55d9189": {
      "model_module": "@jupyter-widgets/base",
      "model_module_version": "1.2.0",
      "model_name": "LayoutModel",
      "state": {}
     },
     "d410532a0c44421a966b1ebf153f5454": {
      "model_module": "@jupyter-widgets/controls",
      "model_module_version": "1.5.0",
      "model_name": "HBoxModel",
      "state": {
       "children": [
        "IPY_MODEL_d88e0d477b334ac8a76b3380e595312d",
        "IPY_MODEL_c7d82bf3910742a79a445b24b4105c88"
       ],
       "layout": "IPY_MODEL_8d52e254c4c644adaa89fad5d8830a41"
      }
     },
     "d4242adba4c24b6082c29bab3a9f3c27": {
      "model_module": "@jupyter-widgets/controls",
      "model_module_version": "1.5.0",
      "model_name": "ProgressStyleModel",
      "state": {
       "description_width": "initial"
      }
     },
     "d475770b28954f818b5953a42567df7b": {
      "model_module": "@jupyter-widgets/controls",
      "model_module_version": "1.5.0",
      "model_name": "ProgressStyleModel",
      "state": {
       "description_width": "initial"
      }
     },
     "d48f94d2e5924f65bad3fb0ff0003910": {
      "model_module": "@jupyter-widgets/base",
      "model_module_version": "1.2.0",
      "model_name": "LayoutModel",
      "state": {}
     },
     "d4f84d0597ad4661bf01a5e20f4be208": {
      "model_module": "@jupyter-widgets/base",
      "model_module_version": "1.2.0",
      "model_name": "LayoutModel",
      "state": {
       "display": "inline-flex",
       "flex_flow": "row wrap",
       "width": "100%"
      }
     },
     "d51e2cb0d6d84070afb24d7914f0bca3": {
      "model_module": "@jupyter-widgets/controls",
      "model_module_version": "1.5.0",
      "model_name": "HTMLModel",
      "state": {
       "layout": "IPY_MODEL_9cc4cbc489f04d25b0886830098841f4",
       "style": "IPY_MODEL_29af9123c5db4d46bd80fbdf992b27b4",
       "value": " ETA: 00:00s - loss: -1.8046 - val_loss: -1.7659"
      }
     },
     "d53433d442c146dab39f3f4e71fa43c9": {
      "model_module": "@jupyter-widgets/base",
      "model_module_version": "1.2.0",
      "model_name": "LayoutModel",
      "state": {}
     },
     "d5585af692b5410b84e3740983671d54": {
      "model_module": "@jupyter-widgets/controls",
      "model_module_version": "1.5.0",
      "model_name": "HBoxModel",
      "state": {
       "children": [
        "IPY_MODEL_9da58f8d2c404f5dbbcf50b5e0ddb379",
        "IPY_MODEL_8d170b8194d043b0897f031a6e30be9b"
       ],
       "layout": "IPY_MODEL_55107d12b32a4798a9e23d79a17ce97f"
      }
     },
     "d593e7bf3d4647fc9a2de73056bd3041": {
      "model_module": "@jupyter-widgets/controls",
      "model_module_version": "1.5.0",
      "model_name": "HBoxModel",
      "state": {
       "children": [
        "IPY_MODEL_f20be0134c40433bb969ebf4db367fda",
        "IPY_MODEL_54d4e7a3ca11460098142eae09c5aeb2"
       ],
       "layout": "IPY_MODEL_48a56eb62ba64b4981e1069dcccc6e99"
      }
     },
     "d5a38faa80b34f1c8d497388d2add31d": {
      "model_module": "@jupyter-widgets/controls",
      "model_module_version": "1.5.0",
      "model_name": "HTMLModel",
      "state": {
       "layout": "IPY_MODEL_dbe0852819c544eba03a6f4c596cf9bf",
       "style": "IPY_MODEL_40ca3cdb904f4bbe9a6e8b4c42866aec",
       "value": " ETA: 00:00s - loss: 0.0344 - val_loss: 0.0354"
      }
     },
     "d5aad664b11b4b75a994b01e151e77de": {
      "model_module": "@jupyter-widgets/base",
      "model_module_version": "1.2.0",
      "model_name": "LayoutModel",
      "state": {
       "display": "inline-flex",
       "flex_flow": "row wrap",
       "width": "100%"
      }
     },
     "d5ba09e15e8d4cbc980267880d5f2e93": {
      "model_module": "@jupyter-widgets/controls",
      "model_module_version": "1.5.0",
      "model_name": "DescriptionStyleModel",
      "state": {
       "description_width": ""
      }
     },
     "d5eb2e0872c2437eb3e82c8f48b0a696": {
      "model_module": "@jupyter-widgets/base",
      "model_module_version": "1.2.0",
      "model_name": "LayoutModel",
      "state": {}
     },
     "d5ee6709b3be4453adcc8b49a2f59c7f": {
      "model_module": "@jupyter-widgets/controls",
      "model_module_version": "1.5.0",
      "model_name": "ProgressStyleModel",
      "state": {
       "description_width": "initial"
      }
     },
     "d5f84d642e014ad0a20b6fb30fd14e68": {
      "model_module": "@jupyter-widgets/base",
      "model_module_version": "1.2.0",
      "model_name": "LayoutModel",
      "state": {
       "flex": "2"
      }
     },
     "d609724a42714f5a916312a9a903657f": {
      "model_module": "@jupyter-widgets/controls",
      "model_module_version": "1.5.0",
      "model_name": "FloatProgressModel",
      "state": {
       "bar_style": "success",
       "description": "5625/5625",
       "layout": "IPY_MODEL_602ce1028d7340bf8504e220f15c0f0f",
       "max": 5625,
       "style": "IPY_MODEL_60f99facf9e548b8b43cee3a8d1bab42",
       "value": 5625
      }
     },
     "d60a0a35e05743a99fe1cf62c458dd8f": {
      "model_module": "@jupyter-widgets/base",
      "model_module_version": "1.2.0",
      "model_name": "LayoutModel",
      "state": {}
     },
     "d61181cb3ac24d8db8bd1d7ae7c55424": {
      "model_module": "@jupyter-widgets/controls",
      "model_module_version": "1.5.0",
      "model_name": "ProgressStyleModel",
      "state": {
       "description_width": "initial"
      }
     },
     "d628afb85e6945b48a4c12fc96d41462": {
      "model_module": "@jupyter-widgets/controls",
      "model_module_version": "1.5.0",
      "model_name": "HBoxModel",
      "state": {
       "children": [
        "IPY_MODEL_24c3156b80a34751944290913f88f258",
        "IPY_MODEL_14fc70b7373a4b6fa897a86db4514e29"
       ],
       "layout": "IPY_MODEL_85c630ef76a6465b9d6e6c151bf69fba"
      }
     },
     "d670c2b370ac4f26b6d2d630c6483b03": {
      "model_module": "@jupyter-widgets/controls",
      "model_module_version": "1.5.0",
      "model_name": "HTMLModel",
      "state": {
       "layout": "IPY_MODEL_df988c28178a446e8fffed84e32dcc28",
       "style": "IPY_MODEL_64dd6fa0da6a4b01859d903bdd211505",
       "value": " ETA: 00:00s - loss: -1.7252 - val_loss: -1.7187"
      }
     },
     "d67c788fecc3448c9cb8771a9ebe5488": {
      "model_module": "@jupyter-widgets/controls",
      "model_module_version": "1.5.0",
      "model_name": "ProgressStyleModel",
      "state": {
       "description_width": "initial"
      }
     },
     "d697241ea6494f1fa08074f9491757e4": {
      "model_module": "@jupyter-widgets/controls",
      "model_module_version": "1.5.0",
      "model_name": "ProgressStyleModel",
      "state": {
       "description_width": "initial"
      }
     },
     "d6a12de7bfc54b459e15ed73f64250a0": {
      "model_module": "@jupyter-widgets/base",
      "model_module_version": "1.2.0",
      "model_name": "LayoutModel",
      "state": {}
     },
     "d6abacb9df96406d9909fe88cf8c7f47": {
      "model_module": "@jupyter-widgets/base",
      "model_module_version": "1.2.0",
      "model_name": "LayoutModel",
      "state": {}
     },
     "d6b53245b04a4b7fb11dbc764c8dd42f": {
      "model_module": "@jupyter-widgets/base",
      "model_module_version": "1.2.0",
      "model_name": "LayoutModel",
      "state": {}
     },
     "d6cd7a76e4e24ab6843ebffa96618c26": {
      "model_module": "@jupyter-widgets/controls",
      "model_module_version": "1.5.0",
      "model_name": "HTMLModel",
      "state": {
       "layout": "IPY_MODEL_e7b39bfce9a14d4d8162dcd4d884fa61",
       "style": "IPY_MODEL_4463406e92c54ec4a05e4e7a414c9822",
       "value": " ETA: 00:00s - loss: 0.0332 - val_loss: 0.0348"
      }
     },
     "d6dddf578b724b169339605cea48f62e": {
      "model_module": "@jupyter-widgets/controls",
      "model_module_version": "1.5.0",
      "model_name": "ProgressStyleModel",
      "state": {
       "description_width": "initial"
      }
     },
     "d6e293b8fea34fa5b2d9634065a79b82": {
      "model_module": "@jupyter-widgets/base",
      "model_module_version": "1.2.0",
      "model_name": "LayoutModel",
      "state": {
       "display": "inline-flex",
       "flex_flow": "row wrap",
       "width": "100%"
      }
     },
     "d7105fa509fa4f7b9db4c605f12ed05b": {
      "model_module": "@jupyter-widgets/controls",
      "model_module_version": "1.5.0",
      "model_name": "ProgressStyleModel",
      "state": {
       "description_width": "initial"
      }
     },
     "d7152af88de74e79badfa37c36767d28": {
      "model_module": "@jupyter-widgets/base",
      "model_module_version": "1.2.0",
      "model_name": "LayoutModel",
      "state": {
       "display": "inline-flex",
       "flex_flow": "row wrap",
       "width": "100%"
      }
     },
     "d72030d792594bd08d6af801045d4d43": {
      "model_module": "@jupyter-widgets/controls",
      "model_module_version": "1.5.0",
      "model_name": "DescriptionStyleModel",
      "state": {
       "description_width": ""
      }
     },
     "d73f5354e3c24e53806c47ac588294a7": {
      "model_module": "@jupyter-widgets/base",
      "model_module_version": "1.2.0",
      "model_name": "LayoutModel",
      "state": {}
     },
     "d745088cf6c1418995009d6997eebe97": {
      "model_module": "@jupyter-widgets/base",
      "model_module_version": "1.2.0",
      "model_name": "LayoutModel",
      "state": {}
     },
     "d749930eaf5347458169e9d1a7cde804": {
      "model_module": "@jupyter-widgets/controls",
      "model_module_version": "1.5.0",
      "model_name": "ProgressStyleModel",
      "state": {
       "description_width": "initial"
      }
     },
     "d75d5c69828b442bb53982f5c9f17d72": {
      "model_module": "@jupyter-widgets/controls",
      "model_module_version": "1.5.0",
      "model_name": "HBoxModel",
      "state": {
       "children": [
        "IPY_MODEL_7a78499a5c094c409f3d5ef48fd42c8e",
        "IPY_MODEL_991cd1e2d1b04518ae9f70f73326d978"
       ],
       "layout": "IPY_MODEL_a226dac113c3423b94b284448e0dabcf"
      }
     },
     "d765bc5ef15749d5926818445a245e78": {
      "model_module": "@jupyter-widgets/controls",
      "model_module_version": "1.5.0",
      "model_name": "FloatProgressModel",
      "state": {
       "bar_style": "success",
       "description": "5625/5625",
       "layout": "IPY_MODEL_0e6b7e97e75b4ba3bbc241326ff4ff32",
       "max": 5625,
       "style": "IPY_MODEL_eada548b60fd4dbb9807e98d6dbe488c",
       "value": 5625
      }
     },
     "d771c706db3a405bbcb3f320c36c2dae": {
      "model_module": "@jupyter-widgets/base",
      "model_module_version": "1.2.0",
      "model_name": "LayoutModel",
      "state": {
       "flex": "2"
      }
     },
     "d78080f6bc37423f8f13aa4e0188415b": {
      "model_module": "@jupyter-widgets/controls",
      "model_module_version": "1.5.0",
      "model_name": "ProgressStyleModel",
      "state": {
       "description_width": "initial"
      }
     },
     "d7895bae6cb545f88ec802b6536cd64f": {
      "model_module": "@jupyter-widgets/controls",
      "model_module_version": "1.5.0",
      "model_name": "ProgressStyleModel",
      "state": {
       "description_width": "initial"
      }
     },
     "d79c257015a54da29844a62da0c40e9b": {
      "model_module": "@jupyter-widgets/base",
      "model_module_version": "1.2.0",
      "model_name": "LayoutModel",
      "state": {
       "display": "inline-flex",
       "flex_flow": "row wrap",
       "width": "100%"
      }
     },
     "d7cc7eef1600447cbfc1414122c91608": {
      "model_module": "@jupyter-widgets/controls",
      "model_module_version": "1.5.0",
      "model_name": "HTMLModel",
      "state": {
       "layout": "IPY_MODEL_568e76c22b614ad5918b6d720581b68d",
       "style": "IPY_MODEL_887ed4c45c854011a9c320acf1615bff",
       "value": " ETA: 00:00s - loss: -1.8185 - val_loss: -1.8037"
      }
     },
     "d7f3eebfd8ed4a1ca2681d7da5b1a45d": {
      "model_module": "@jupyter-widgets/controls",
      "model_module_version": "1.5.0",
      "model_name": "HTMLModel",
      "state": {
       "layout": "IPY_MODEL_31d49aa955da4fc8b01c6ac004963f87",
       "style": "IPY_MODEL_6c494d5731a747d8ad7382ba97c33e31",
       "value": " ETA: 00:00s - loss: -1.7897 - val_loss: -1.7842"
      }
     },
     "d80fe4841a5d4d6d86ba06ab67852ed1": {
      "model_module": "@jupyter-widgets/controls",
      "model_module_version": "1.5.0",
      "model_name": "HTMLModel",
      "state": {
       "layout": "IPY_MODEL_fae509493c1a4375ac893a9ac75bfc11",
       "style": "IPY_MODEL_8d6916c7c2cc4d6c9caaf81ec0fb3dfc",
       "value": " ETA: 00:00s - loss: -1.8247 - val_loss: -1.7933"
      }
     },
     "d815e3eeb52041cbb3341c92c8cd3930": {
      "model_module": "@jupyter-widgets/base",
      "model_module_version": "1.2.0",
      "model_name": "LayoutModel",
      "state": {
       "flex": "2"
      }
     },
     "d839cc670fff45b0811a9bf4ed1b0f80": {
      "model_module": "@jupyter-widgets/controls",
      "model_module_version": "1.5.0",
      "model_name": "ProgressStyleModel",
      "state": {
       "description_width": "initial"
      }
     },
     "d839e5db38994ee78cb447ced1862a5c": {
      "model_module": "@jupyter-widgets/controls",
      "model_module_version": "1.5.0",
      "model_name": "ProgressStyleModel",
      "state": {
       "description_width": "initial"
      }
     },
     "d85af07f5db643c98d1e4a5a5f08e422": {
      "model_module": "@jupyter-widgets/controls",
      "model_module_version": "1.5.0",
      "model_name": "HTMLModel",
      "state": {
       "layout": "IPY_MODEL_ece88e4649ae4fc5b75145c1d1fd9482",
       "style": "IPY_MODEL_9475e14cce5a4da5a3cd8c9f5fe4d95e",
       "value": " ETA: 00:00s - loss: 0.0312 - val_loss: 0.0348"
      }
     },
     "d8827a46ff8f4d6d86835f95707450c3": {
      "model_module": "@jupyter-widgets/base",
      "model_module_version": "1.2.0",
      "model_name": "LayoutModel",
      "state": {
       "display": "inline-flex",
       "flex_flow": "row wrap",
       "width": "100%"
      }
     },
     "d88a66cf81d74eed9446847dcea38fcc": {
      "model_module": "@jupyter-widgets/controls",
      "model_module_version": "1.5.0",
      "model_name": "DescriptionStyleModel",
      "state": {
       "description_width": ""
      }
     },
     "d88e0d477b334ac8a76b3380e595312d": {
      "model_module": "@jupyter-widgets/controls",
      "model_module_version": "1.5.0",
      "model_name": "FloatProgressModel",
      "state": {
       "bar_style": "success",
       "description": "5625/5625",
       "layout": "IPY_MODEL_355a4fcba308467f90ebb9afea771a95",
       "max": 5625,
       "style": "IPY_MODEL_d4242adba4c24b6082c29bab3a9f3c27",
       "value": 5625
      }
     },
     "d8ce8a950a31424aacbd5fc1c20665c2": {
      "model_module": "@jupyter-widgets/base",
      "model_module_version": "1.2.0",
      "model_name": "LayoutModel",
      "state": {
       "display": "inline-flex",
       "flex_flow": "row wrap",
       "width": "100%"
      }
     },
     "d904cce9b9be438494c2fc900d0d8306": {
      "model_module": "@jupyter-widgets/controls",
      "model_module_version": "1.5.0",
      "model_name": "HBoxModel",
      "state": {
       "children": [
        "IPY_MODEL_ae60a02d6c454c57bdd5e971f628c41c",
        "IPY_MODEL_79e3b50fd6124f6bb5c3967ddd0223bd"
       ],
       "layout": "IPY_MODEL_942833d4e13747e7afeaf04741df8d59"
      }
     },
     "d9618f8f81c8430e90432371c05f6894": {
      "model_module": "@jupyter-widgets/controls",
      "model_module_version": "1.5.0",
      "model_name": "ProgressStyleModel",
      "state": {
       "description_width": "initial"
      }
     },
     "d965c1740963417e824676d9de168315": {
      "model_module": "@jupyter-widgets/base",
      "model_module_version": "1.2.0",
      "model_name": "LayoutModel",
      "state": {
       "display": "inline-flex",
       "flex_flow": "row wrap",
       "width": "100%"
      }
     },
     "d976840f1824469e97f1e08a6cab065b": {
      "model_module": "@jupyter-widgets/base",
      "model_module_version": "1.2.0",
      "model_name": "LayoutModel",
      "state": {}
     },
     "d97b1e5f21cf40d8bedc36760c25020a": {
      "model_module": "@jupyter-widgets/controls",
      "model_module_version": "1.5.0",
      "model_name": "DescriptionStyleModel",
      "state": {
       "description_width": ""
      }
     },
     "d9840595c41445d8b83b4691eb8d27ee": {
      "model_module": "@jupyter-widgets/controls",
      "model_module_version": "1.5.0",
      "model_name": "DescriptionStyleModel",
      "state": {
       "description_width": ""
      }
     },
     "d98d3440d38f4c6cbd82851503bec2ca": {
      "model_module": "@jupyter-widgets/controls",
      "model_module_version": "1.5.0",
      "model_name": "HTMLModel",
      "state": {
       "layout": "IPY_MODEL_decb1e2928574abdb1d0677a7e7fa520",
       "style": "IPY_MODEL_82be0c33ce364178a8560e4f0dec2751",
       "value": " ETA: 00:00s - loss: 0.0706 - val_loss: 0.0724"
      }
     },
     "d98f4367ae464988933325768a289b3d": {
      "model_module": "@jupyter-widgets/base",
      "model_module_version": "1.2.0",
      "model_name": "LayoutModel",
      "state": {
       "flex": "2"
      }
     },
     "d9e99e5dc3304cdda3194a9b87b1671d": {
      "model_module": "@jupyter-widgets/controls",
      "model_module_version": "1.5.0",
      "model_name": "FloatProgressModel",
      "state": {
       "bar_style": "success",
       "description": "5625/5625",
       "layout": "IPY_MODEL_c799b55e466b48949b997422816c7e4d",
       "max": 5625,
       "style": "IPY_MODEL_d0bc8cabe8f2450c84093dc0ddeef4ff",
       "value": 5625
      }
     },
     "da09877e321d48bb92fb2013931882c6": {
      "model_module": "@jupyter-widgets/controls",
      "model_module_version": "1.5.0",
      "model_name": "HTMLModel",
      "state": {
       "layout": "IPY_MODEL_6621c92cb91447c7a97419d08e67fddf",
       "style": "IPY_MODEL_21a67b31343d41eb8fab6ffc740f76f9",
       "value": " ETA: 00:00s - loss: 0.0676 - val_loss: 0.0710"
      }
     },
     "da1e281b53734b818caf4ba66cfb0a5c": {
      "model_module": "@jupyter-widgets/base",
      "model_module_version": "1.2.0",
      "model_name": "LayoutModel",
      "state": {
       "flex": "2"
      }
     },
     "da209f3f7c10485486931e01c7973e1c": {
      "model_module": "@jupyter-widgets/controls",
      "model_module_version": "1.5.0",
      "model_name": "DescriptionStyleModel",
      "state": {
       "description_width": ""
      }
     },
     "da3dab8b99fd4e75b79d5d149d2365c2": {
      "model_module": "@jupyter-widgets/base",
      "model_module_version": "1.2.0",
      "model_name": "LayoutModel",
      "state": {
       "display": "inline-flex",
       "flex_flow": "row wrap",
       "width": "100%"
      }
     },
     "da5398e927cb49f798dbb94d588b4795": {
      "model_module": "@jupyter-widgets/base",
      "model_module_version": "1.2.0",
      "model_name": "LayoutModel",
      "state": {
       "display": "inline-flex",
       "flex_flow": "row wrap",
       "width": "100%"
      }
     },
     "da560856213c4dd1bf8611ff90d81da5": {
      "model_module": "@jupyter-widgets/controls",
      "model_module_version": "1.5.0",
      "model_name": "ProgressStyleModel",
      "state": {
       "description_width": "initial"
      }
     },
     "da84eaadb80a4fb5a5785665c9e0079d": {
      "model_module": "@jupyter-widgets/base",
      "model_module_version": "1.2.0",
      "model_name": "LayoutModel",
      "state": {
       "display": "inline-flex",
       "flex_flow": "row wrap",
       "width": "100%"
      }
     },
     "daaf884f123446a794dbe8ca193401da": {
      "model_module": "@jupyter-widgets/controls",
      "model_module_version": "1.5.0",
      "model_name": "HBoxModel",
      "state": {
       "children": [
        "IPY_MODEL_380b67057a1d43d3a5a5d33c61eaaf02",
        "IPY_MODEL_70a164b0dac84c1f92af42cf5fdb3b69"
       ],
       "layout": "IPY_MODEL_856990ea317a474da63f2d3777e10c66"
      }
     },
     "dac0ba5211f548d2aa6d9ca65a437dfa": {
      "model_module": "@jupyter-widgets/controls",
      "model_module_version": "1.5.0",
      "model_name": "HBoxModel",
      "state": {
       "children": [
        "IPY_MODEL_9cd74a77baad45f48494d5c1cbdd7546",
        "IPY_MODEL_19fff65b2b9345c8ab2bb49f5ac2a760"
       ],
       "layout": "IPY_MODEL_f6ee7a71c5c54e4baa8bec39dd5a2fc3"
      }
     },
     "dadec65ce5c6491f81f78ff1fbb7044d": {
      "model_module": "@jupyter-widgets/base",
      "model_module_version": "1.2.0",
      "model_name": "LayoutModel",
      "state": {
       "flex": "2"
      }
     },
     "db16b1ae365f43c589668608e47bece6": {
      "model_module": "@jupyter-widgets/controls",
      "model_module_version": "1.5.0",
      "model_name": "HTMLModel",
      "state": {
       "layout": "IPY_MODEL_dc27b3a75c5b48eca4068b4d306c9d91",
       "style": "IPY_MODEL_9cefee526cc64fed9f4dd3dda9f09d87",
       "value": " ETA: 00:00s - loss: -1.7404 - val_loss: -1.7343"
      }
     },
     "db3c2fc5af134831901e2325feb77240": {
      "model_module": "@jupyter-widgets/controls",
      "model_module_version": "1.5.0",
      "model_name": "HTMLModel",
      "state": {
       "layout": "IPY_MODEL_ebf11907982c4036b756d4bc2d04e200",
       "style": "IPY_MODEL_65d489f0789f40d7a16a2b6147281e07",
       "value": " ETA: 00:00s - loss: -1.8217 - val_loss: -1.7879"
      }
     },
     "db439408a11844219ce97f98d9350aa2": {
      "model_module": "@jupyter-widgets/base",
      "model_module_version": "1.2.0",
      "model_name": "LayoutModel",
      "state": {
       "display": "inline-flex",
       "flex_flow": "row wrap",
       "width": "100%"
      }
     },
     "db46ef9088784f00ac5dceac242317e7": {
      "model_module": "@jupyter-widgets/controls",
      "model_module_version": "1.5.0",
      "model_name": "DescriptionStyleModel",
      "state": {
       "description_width": ""
      }
     },
     "db6136507b594bca8b09d31283b45324": {
      "model_module": "@jupyter-widgets/controls",
      "model_module_version": "1.5.0",
      "model_name": "FloatProgressModel",
      "state": {
       "bar_style": "success",
       "description": "5625/5625",
       "layout": "IPY_MODEL_ac287acfd5a34f79b0581c88692f4a8e",
       "max": 5625,
       "style": "IPY_MODEL_86a9720500fb40c58dfdfe09dd8c7988",
       "value": 5625
      }
     },
     "db655dd5d8cd4f7db51da45b10bc94d2": {
      "model_module": "@jupyter-widgets/controls",
      "model_module_version": "1.5.0",
      "model_name": "HBoxModel",
      "state": {
       "children": [
        "IPY_MODEL_e5b0253aa2f3443facadb14514229b1a",
        "IPY_MODEL_d7f3eebfd8ed4a1ca2681d7da5b1a45d"
       ],
       "layout": "IPY_MODEL_43a7bfa4003543be86b841b966c3264b"
      }
     },
     "db6f304ec3f7413480ff0cd6ffe72219": {
      "model_module": "@jupyter-widgets/controls",
      "model_module_version": "1.5.0",
      "model_name": "ProgressStyleModel",
      "state": {
       "description_width": "initial"
      }
     },
     "db76c3251ae8454eb84247693ba68d7a": {
      "model_module": "@jupyter-widgets/base",
      "model_module_version": "1.2.0",
      "model_name": "LayoutModel",
      "state": {}
     },
     "db88197efbae4bc6ab985a0050921edb": {
      "model_module": "@jupyter-widgets/controls",
      "model_module_version": "1.5.0",
      "model_name": "FloatProgressModel",
      "state": {
       "bar_style": "success",
       "description": "5625/5625",
       "layout": "IPY_MODEL_a698a1a1513142ec9c03eb8a39c2f2c1",
       "max": 5625,
       "style": "IPY_MODEL_a07e6d57e13546218798f80a86ff2c9b",
       "value": 5625
      }
     },
     "db8d6f962f3d4c20a36a202824fdab34": {
      "model_module": "@jupyter-widgets/controls",
      "model_module_version": "1.5.0",
      "model_name": "ProgressStyleModel",
      "state": {
       "description_width": "initial"
      }
     },
     "dbc4df9191d2411c84ba67c47074663a": {
      "model_module": "@jupyter-widgets/base",
      "model_module_version": "1.2.0",
      "model_name": "LayoutModel",
      "state": {
       "flex": "2"
      }
     },
     "dbe0852819c544eba03a6f4c596cf9bf": {
      "model_module": "@jupyter-widgets/base",
      "model_module_version": "1.2.0",
      "model_name": "LayoutModel",
      "state": {}
     },
     "dc112b03afd74842b92fe99a17aa94f2": {
      "model_module": "@jupyter-widgets/base",
      "model_module_version": "1.2.0",
      "model_name": "LayoutModel",
      "state": {
       "flex": "2"
      }
     },
     "dc24ad859f31462891a82f1b8e097fd1": {
      "model_module": "@jupyter-widgets/controls",
      "model_module_version": "1.5.0",
      "model_name": "HBoxModel",
      "state": {
       "children": [
        "IPY_MODEL_5de97bbec74d4f138fe6eaa9b3f4038a",
        "IPY_MODEL_315dca33d7df4534873cfff6056a1a51"
       ],
       "layout": "IPY_MODEL_5f5461636ac344c7bac50c4fa78693b5"
      }
     },
     "dc260d3c675047838f49aa9658a501ed": {
      "model_module": "@jupyter-widgets/base",
      "model_module_version": "1.2.0",
      "model_name": "LayoutModel",
      "state": {
       "display": "inline-flex",
       "flex_flow": "row wrap",
       "width": "100%"
      }
     },
     "dc27b3a75c5b48eca4068b4d306c9d91": {
      "model_module": "@jupyter-widgets/base",
      "model_module_version": "1.2.0",
      "model_name": "LayoutModel",
      "state": {}
     },
     "dc38fd80e7e2456b842197a1d22aee2f": {
      "model_module": "@jupyter-widgets/controls",
      "model_module_version": "1.5.0",
      "model_name": "FloatProgressModel",
      "state": {
       "bar_style": "success",
       "description": "5625/5625",
       "layout": "IPY_MODEL_ff2dc062e2d44a3ba52dc0a846244743",
       "max": 5625,
       "style": "IPY_MODEL_d78080f6bc37423f8f13aa4e0188415b",
       "value": 5625
      }
     },
     "dc74a87fcc684141bf8caa94ce5ab3bd": {
      "model_module": "@jupyter-widgets/base",
      "model_module_version": "1.2.0",
      "model_name": "LayoutModel",
      "state": {}
     },
     "dc7a3f730a5f485da43a5935765340a7": {
      "model_module": "@jupyter-widgets/base",
      "model_module_version": "1.2.0",
      "model_name": "LayoutModel",
      "state": {}
     },
     "dc8053ce7e474e34b3a25e7c52797df6": {
      "model_module": "@jupyter-widgets/controls",
      "model_module_version": "1.5.0",
      "model_name": "ProgressStyleModel",
      "state": {
       "description_width": "initial"
      }
     },
     "dc953186aa0e4743b6adb9c1b2d8a575": {
      "model_module": "@jupyter-widgets/controls",
      "model_module_version": "1.5.0",
      "model_name": "FloatProgressModel",
      "state": {
       "bar_style": "success",
       "description": "5625/5625",
       "layout": "IPY_MODEL_23da1556f9ab43b990da9d0022c65caf",
       "max": 5625,
       "style": "IPY_MODEL_de9d97db4bfb456a98acc0f550ab7abc",
       "value": 5625
      }
     },
     "dcc4e2c06dd743899de4c65b95fb2143": {
      "model_module": "@jupyter-widgets/controls",
      "model_module_version": "1.5.0",
      "model_name": "FloatProgressModel",
      "state": {
       "bar_style": "success",
       "description": "5625/5625",
       "layout": "IPY_MODEL_a9ac8a6900d64236a86dc1c8d1c4605b",
       "max": 5625,
       "style": "IPY_MODEL_8135dd433ba547088f7f6fc0103e66e3",
       "value": 5625
      }
     },
     "dcf7a36a3c7442bcb28e3f75e2c6c7a1": {
      "model_module": "@jupyter-widgets/base",
      "model_module_version": "1.2.0",
      "model_name": "LayoutModel",
      "state": {}
     },
     "dd0f485d75b342e1a786641ad5b4a387": {
      "model_module": "@jupyter-widgets/base",
      "model_module_version": "1.2.0",
      "model_name": "LayoutModel",
      "state": {
       "flex": "2"
      }
     },
     "dd16817c11994a1ba01cf88209805096": {
      "model_module": "@jupyter-widgets/base",
      "model_module_version": "1.2.0",
      "model_name": "LayoutModel",
      "state": {}
     },
     "dd1b8df1e80a4515b091a91be07e2b8f": {
      "model_module": "@jupyter-widgets/base",
      "model_module_version": "1.2.0",
      "model_name": "LayoutModel",
      "state": {}
     },
     "dd1f62eebfa84eeebfb06b407ab9aff2": {
      "model_module": "@jupyter-widgets/base",
      "model_module_version": "1.2.0",
      "model_name": "LayoutModel",
      "state": {
       "display": "inline-flex",
       "flex_flow": "row wrap",
       "width": "100%"
      }
     },
     "dd30bbc4cde74f289fcbb5370a11a5b9": {
      "model_module": "@jupyter-widgets/controls",
      "model_module_version": "1.5.0",
      "model_name": "HTMLModel",
      "state": {
       "layout": "IPY_MODEL_f3541016173e4e5c8606a9eeae2fb04c",
       "style": "IPY_MODEL_4ee979563571422286233cb02fcf384d",
       "value": " ETA: 00:00s - loss: 0.0292 - val_loss: 0.0310"
      }
     },
     "dd483be33c154d4ab01b41a7103cb019": {
      "model_module": "@jupyter-widgets/controls",
      "model_module_version": "1.5.0",
      "model_name": "HTMLModel",
      "state": {
       "layout": "IPY_MODEL_3ab95e1cffb649ae9a532a7de4a99417",
       "style": "IPY_MODEL_c4714d3d8da74567aa1afe2fb1cd96fc",
       "value": " ETA: 00:00s - loss: -1.8132 - val_loss: -1.8002"
      }
     },
     "dd5b451870654876ac87f01d924d2fe2": {
      "model_module": "@jupyter-widgets/controls",
      "model_module_version": "1.5.0",
      "model_name": "HBoxModel",
      "state": {
       "children": [
        "IPY_MODEL_645baabdbed74d0982df39283c1504a5",
        "IPY_MODEL_823bcd53c88344a795f5a6e2d2a6be7e"
       ],
       "layout": "IPY_MODEL_da84eaadb80a4fb5a5785665c9e0079d"
      }
     },
     "dd5bea548eb248598f65d16a96ca9cf1": {
      "model_module": "@jupyter-widgets/controls",
      "model_module_version": "1.5.0",
      "model_name": "HBoxModel",
      "state": {
       "children": [
        "IPY_MODEL_0e0b14c152524cbc8d646273551e5d3c",
        "IPY_MODEL_60b32e2344554b8e9ac7cbd189c3600e"
       ],
       "layout": "IPY_MODEL_f3fc94c914a2439196f7505bafd4e85f"
      }
     },
     "dd867ccc18ec4971ba481d2b6060b940": {
      "model_module": "@jupyter-widgets/controls",
      "model_module_version": "1.5.0",
      "model_name": "HBoxModel",
      "state": {
       "children": [
        "IPY_MODEL_9a92cb779c31464a8c83c5d2eac9de6d",
        "IPY_MODEL_39c2ac5e2c9c473291c0c8b892b2b58e"
       ],
       "layout": "IPY_MODEL_6c8af49b834743e28dc5a71d1ab0f9ec"
      }
     },
     "ddb21375ff8f4da6b72e1be96a506cc4": {
      "model_module": "@jupyter-widgets/controls",
      "model_module_version": "1.5.0",
      "model_name": "HBoxModel",
      "state": {
       "children": [
        "IPY_MODEL_ed2181b56cd54616bb3bc1b78b651d59",
        "IPY_MODEL_b632afed94454b3f918e2b5b058eb200"
       ],
       "layout": "IPY_MODEL_2ecb371c85c24b88bcd5aded008a8b0d"
      }
     },
     "dde6466689b341e18e5209a5b36137d4": {
      "model_module": "@jupyter-widgets/controls",
      "model_module_version": "1.5.0",
      "model_name": "HBoxModel",
      "state": {
       "children": [
        "IPY_MODEL_c91ae2feddb84ace91494392084d19e6",
        "IPY_MODEL_824972a08ff840d59d1176bfec1ce104"
       ],
       "layout": "IPY_MODEL_b5710c2ca0b4459a9ae944671665ad0f"
      }
     },
     "ddfe7b6c976f40ffa0c998aed8214cad": {
      "model_module": "@jupyter-widgets/controls",
      "model_module_version": "1.5.0",
      "model_name": "HBoxModel",
      "state": {
       "children": [
        "IPY_MODEL_93f81e8954ba40c7a10e341f932596d7",
        "IPY_MODEL_0b785106016e49ca8f7fa7b5852a1ba1"
       ],
       "layout": "IPY_MODEL_99982e8b88ee4727b1e1681c9c566d53"
      }
     },
     "de284857867f42a5b9a26e37d1419bdd": {
      "model_module": "@jupyter-widgets/controls",
      "model_module_version": "1.5.0",
      "model_name": "DescriptionStyleModel",
      "state": {
       "description_width": ""
      }
     },
     "de3a6f10ab64465f8f71aedc6f16c6e7": {
      "model_module": "@jupyter-widgets/base",
      "model_module_version": "1.2.0",
      "model_name": "LayoutModel",
      "state": {
       "flex": "2"
      }
     },
     "de44e8c51d6c4330be906cd90f9bea02": {
      "model_module": "@jupyter-widgets/controls",
      "model_module_version": "1.5.0",
      "model_name": "HBoxModel",
      "state": {
       "children": [
        "IPY_MODEL_f5e44f1052104b3c8e6799cf2d74ce34",
        "IPY_MODEL_c351cec9a913414ebc977ed1bb871ad0"
       ],
       "layout": "IPY_MODEL_aab8d90d9c1b4b4abe5f4160024df9a5"
      }
     },
     "de9d97db4bfb456a98acc0f550ab7abc": {
      "model_module": "@jupyter-widgets/controls",
      "model_module_version": "1.5.0",
      "model_name": "ProgressStyleModel",
      "state": {
       "description_width": "initial"
      }
     },
     "decb1e2928574abdb1d0677a7e7fa520": {
      "model_module": "@jupyter-widgets/base",
      "model_module_version": "1.2.0",
      "model_name": "LayoutModel",
      "state": {}
     },
     "dedbd469852d472fa5dc29af6f3fbb32": {
      "model_module": "@jupyter-widgets/controls",
      "model_module_version": "1.5.0",
      "model_name": "DescriptionStyleModel",
      "state": {
       "description_width": ""
      }
     },
     "dedc15754893481b82ad495119f9a8d2": {
      "model_module": "@jupyter-widgets/controls",
      "model_module_version": "1.5.0",
      "model_name": "HBoxModel",
      "state": {
       "children": [
        "IPY_MODEL_871858a9fb724c138225a36b42f7f4b9",
        "IPY_MODEL_63e0b813a21d487380ba95682b4add42"
       ],
       "layout": "IPY_MODEL_9a6822b474a046588cdf8942e4d4316d"
      }
     },
     "defe6719b7b64716a77deed35ffdc0ad": {
      "model_module": "@jupyter-widgets/base",
      "model_module_version": "1.2.0",
      "model_name": "LayoutModel",
      "state": {
       "display": "inline-flex",
       "flex_flow": "row wrap",
       "width": "100%"
      }
     },
     "df12afb0db5b4b20be4f81220fb87b57": {
      "model_module": "@jupyter-widgets/base",
      "model_module_version": "1.2.0",
      "model_name": "LayoutModel",
      "state": {
       "flex": "2"
      }
     },
     "df3cf70d65b3489fb20b869a0ee7d2e8": {
      "model_module": "@jupyter-widgets/controls",
      "model_module_version": "1.5.0",
      "model_name": "FloatProgressModel",
      "state": {
       "bar_style": "success",
       "description": "5625/5625",
       "layout": "IPY_MODEL_8558fdde3a534ced96ad1e18d97d5124",
       "max": 5625,
       "style": "IPY_MODEL_106c5ecda2b441e293da855e9087ff39",
       "value": 5625
      }
     },
     "df3e7871819f4691b02367fd5f3a620c": {
      "model_module": "@jupyter-widgets/controls",
      "model_module_version": "1.5.0",
      "model_name": "DescriptionStyleModel",
      "state": {
       "description_width": ""
      }
     },
     "df41d1252e0e44d69565caf4603adb2e": {
      "model_module": "@jupyter-widgets/controls",
      "model_module_version": "1.5.0",
      "model_name": "DescriptionStyleModel",
      "state": {
       "description_width": ""
      }
     },
     "df4deb8a3f2e464f9d0fd8dd8fde057e": {
      "model_module": "@jupyter-widgets/controls",
      "model_module_version": "1.5.0",
      "model_name": "DescriptionStyleModel",
      "state": {
       "description_width": ""
      }
     },
     "df61542ee8f04062b18f252cfed08ab9": {
      "model_module": "@jupyter-widgets/controls",
      "model_module_version": "1.5.0",
      "model_name": "FloatProgressModel",
      "state": {
       "bar_style": "success",
       "description": "5625/5625",
       "layout": "IPY_MODEL_288d2d7626114c298ff90045800cc69e",
       "max": 5625,
       "style": "IPY_MODEL_8e8006be31284f51b20c449a81c4ccb6",
       "value": 5625
      }
     },
     "df71ccfb147c44ceaa51f5fa00d458b7": {
      "model_module": "@jupyter-widgets/controls",
      "model_module_version": "1.5.0",
      "model_name": "FloatProgressModel",
      "state": {
       "bar_style": "success",
       "description": "5625/5625",
       "layout": "IPY_MODEL_1488219b80434cc18ba7777b3d3e7d44",
       "max": 5625,
       "style": "IPY_MODEL_7f5e9fc8ef5e4a1fa4a42ac1769a2a84",
       "value": 5625
      }
     },
     "df80afb4869b4fb999de116597c9d7d0": {
      "model_module": "@jupyter-widgets/controls",
      "model_module_version": "1.5.0",
      "model_name": "FloatProgressModel",
      "state": {
       "bar_style": "success",
       "description": "5625/5625",
       "layout": "IPY_MODEL_31b512e66fdd46c09f333eef64851b52",
       "max": 5625,
       "style": "IPY_MODEL_17654fb794964dbdb48b5f227ad52681",
       "value": 5625
      }
     },
     "df988c28178a446e8fffed84e32dcc28": {
      "model_module": "@jupyter-widgets/base",
      "model_module_version": "1.2.0",
      "model_name": "LayoutModel",
      "state": {}
     },
     "dfb755d246104b728794df1b88940c41": {
      "model_module": "@jupyter-widgets/controls",
      "model_module_version": "1.5.0",
      "model_name": "HBoxModel",
      "state": {
       "children": [
        "IPY_MODEL_aa22c932f5a74e3fa7dd0c95df8a82af",
        "IPY_MODEL_3fb7fb7f53284287a48a2942447b31d6"
       ],
       "layout": "IPY_MODEL_b2cda737c78d4e62845e9231e2b1553d"
      }
     },
     "dfdce8dae5c54b52a728c285dbf33a52": {
      "model_module": "@jupyter-widgets/controls",
      "model_module_version": "1.5.0",
      "model_name": "HBoxModel",
      "state": {
       "children": [
        "IPY_MODEL_fa0b11d181cd44b3bcf862497a939d95",
        "IPY_MODEL_a8389f1c8ea641b18a26d3b9db29ed75"
       ],
       "layout": "IPY_MODEL_f5b96f44470c434e9f0e81a92caee14c"
      }
     },
     "dffe7685aaae4c42ab65d8396f7171bf": {
      "model_module": "@jupyter-widgets/controls",
      "model_module_version": "1.5.0",
      "model_name": "FloatProgressModel",
      "state": {
       "bar_style": "success",
       "description": "5625/5625",
       "layout": "IPY_MODEL_efd5fd0672f94cf880085777dabcfae9",
       "max": 5625,
       "style": "IPY_MODEL_24429f4c10154209b9d94bda0b296aa5",
       "value": 5625
      }
     },
     "e0074fd7db3948b09b71b4b28a3516db": {
      "model_module": "@jupyter-widgets/controls",
      "model_module_version": "1.5.0",
      "model_name": "HTMLModel",
      "state": {
       "layout": "IPY_MODEL_d3683fff3bbc48809460d1fdc0b89c1d",
       "style": "IPY_MODEL_388d5f8e9c254eb18facae89004b019d",
       "value": " ETA: 00:00s - loss: 0.0720 - val_loss: 0.0731"
      }
     },
     "e0085a0164de47fc9c6460a41a0ad11b": {
      "model_module": "@jupyter-widgets/controls",
      "model_module_version": "1.5.0",
      "model_name": "HBoxModel",
      "state": {
       "children": [
        "IPY_MODEL_b0079c7233a44ead81e07ab019a362f3",
        "IPY_MODEL_8e13aa06889e40f38ff1eeac6703b1f0"
       ],
       "layout": "IPY_MODEL_5d6cab639a20497ea7d806fdc78d457f"
      }
     },
     "e009571417374a02a03b02f09a43fdac": {
      "model_module": "@jupyter-widgets/base",
      "model_module_version": "1.2.0",
      "model_name": "LayoutModel",
      "state": {
       "display": "inline-flex",
       "flex_flow": "row wrap",
       "width": "100%"
      }
     },
     "e01222e5ee1f465480e0f0f2e5e3ff47": {
      "model_module": "@jupyter-widgets/base",
      "model_module_version": "1.2.0",
      "model_name": "LayoutModel",
      "state": {
       "flex": "2"
      }
     },
     "e01d6312163f412f90c3671548a74f50": {
      "model_module": "@jupyter-widgets/controls",
      "model_module_version": "1.5.0",
      "model_name": "HTMLModel",
      "state": {
       "layout": "IPY_MODEL_318f739d86b241278e6d53051f373268",
       "style": "IPY_MODEL_21f96c18793d4d909de24df0bf0bd825",
       "value": " ETA: 00:00s - loss: 0.0303 - val_loss: 0.0302"
      }
     },
     "e0272c8c2d974c1891674b71bf36bd7b": {
      "model_module": "@jupyter-widgets/controls",
      "model_module_version": "1.5.0",
      "model_name": "HTMLModel",
      "state": {
       "layout": "IPY_MODEL_164b62564f184e46ab0e9b1a5a2ab830",
       "style": "IPY_MODEL_75ef322e5f954621b3af85de9758ffe9",
       "value": " ETA: 00:00s - loss: -1.8245 - val_loss: -1.7907"
      }
     },
     "e032bc850c8a4ebfa9760035f2e48837": {
      "model_module": "@jupyter-widgets/base",
      "model_module_version": "1.2.0",
      "model_name": "LayoutModel",
      "state": {}
     },
     "e037fcaf64654c7bb29750a57e18f1f2": {
      "model_module": "@jupyter-widgets/controls",
      "model_module_version": "1.5.0",
      "model_name": "DescriptionStyleModel",
      "state": {
       "description_width": ""
      }
     },
     "e069967ef2224492bafe2e3d2f7b19f8": {
      "model_module": "@jupyter-widgets/controls",
      "model_module_version": "1.5.0",
      "model_name": "ProgressStyleModel",
      "state": {
       "description_width": "initial"
      }
     },
     "e0ecaaaab6784e68965a2d03442d266e": {
      "model_module": "@jupyter-widgets/controls",
      "model_module_version": "1.5.0",
      "model_name": "DescriptionStyleModel",
      "state": {
       "description_width": ""
      }
     },
     "e0f1a5b0cfed41d092fe266b7844fac6": {
      "model_module": "@jupyter-widgets/controls",
      "model_module_version": "1.5.0",
      "model_name": "HTMLModel",
      "state": {
       "layout": "IPY_MODEL_3f993d7f063e481a84bcdf96ecd993c6",
       "style": "IPY_MODEL_0ea7dea33fd94db88bf64258a2b9fa9a",
       "value": " ETA: 00:00s - loss: 0.0314 - val_loss: 0.0353"
      }
     },
     "e0f662ecd74642e5954352ae0d952cca": {
      "model_module": "@jupyter-widgets/controls",
      "model_module_version": "1.5.0",
      "model_name": "ProgressStyleModel",
      "state": {
       "description_width": "initial"
      }
     },
     "e12b87384c244a60affae5dec25119db": {
      "model_module": "@jupyter-widgets/base",
      "model_module_version": "1.2.0",
      "model_name": "LayoutModel",
      "state": {
       "flex": "2"
      }
     },
     "e12f6f555e004c07a917fb8906ae4992": {
      "model_module": "@jupyter-widgets/controls",
      "model_module_version": "1.5.0",
      "model_name": "FloatProgressModel",
      "state": {
       "bar_style": "success",
       "description": "5625/5625",
       "layout": "IPY_MODEL_2714b711204048798e6c8cd993d01f0b",
       "max": 5625,
       "style": "IPY_MODEL_aa7501b694b6413badd3a61e31a6efe2",
       "value": 5625
      }
     },
     "e13a7f3978ff48f6bf5039cde77856ba": {
      "model_module": "@jupyter-widgets/controls",
      "model_module_version": "1.5.0",
      "model_name": "FloatProgressModel",
      "state": {
       "bar_style": "success",
       "description": "5625/5625",
       "layout": "IPY_MODEL_f2b3ceda01b446e0b94c63ad1a0f3e66",
       "max": 5625,
       "style": "IPY_MODEL_feb8d949fc014f95bbf03dd9bc98b42d",
       "value": 5625
      }
     },
     "e153700da5a44a1b852fb55d6277f3c6": {
      "model_module": "@jupyter-widgets/controls",
      "model_module_version": "1.5.0",
      "model_name": "HTMLModel",
      "state": {
       "layout": "IPY_MODEL_5109bdf4a085432b80bc0ba5114417be",
       "style": "IPY_MODEL_b46ac7e4526f46658287560e48818db6",
       "value": " ETA: 00:00s - loss: -1.8208 - val_loss: -1.8007"
      }
     },
     "e1b78fc6668949a8b7ec77c427168cd7": {
      "model_module": "@jupyter-widgets/controls",
      "model_module_version": "1.5.0",
      "model_name": "ProgressStyleModel",
      "state": {
       "description_width": "initial"
      }
     },
     "e1c14f4321dc441cba3e584ba315bfbd": {
      "model_module": "@jupyter-widgets/controls",
      "model_module_version": "1.5.0",
      "model_name": "HBoxModel",
      "state": {
       "children": [
        "IPY_MODEL_09a1ec71a8dc42a0a377d89ef4d41b13",
        "IPY_MODEL_66e9a6bd09d3482095ca970b3cd5452e"
       ],
       "layout": "IPY_MODEL_9723fa553c2c406ebbb5c8b0d7cd85c3"
      }
     },
     "e1d10beff68d4b23b49692d4895401c0": {
      "model_module": "@jupyter-widgets/base",
      "model_module_version": "1.2.0",
      "model_name": "LayoutModel",
      "state": {
       "flex": "2"
      }
     },
     "e201885888754bc597a9975373e2ca89": {
      "model_module": "@jupyter-widgets/controls",
      "model_module_version": "1.5.0",
      "model_name": "FloatProgressModel",
      "state": {
       "bar_style": "success",
       "description": "5625/5625",
       "layout": "IPY_MODEL_620b9d51194a4fa69b7c7a8ffb013f07",
       "max": 5625,
       "style": "IPY_MODEL_8bd107abd6734cddbc494ec1aec0473d",
       "value": 5625
      }
     },
     "e2032f2cd8524f6fb60adfe1b58ddd9e": {
      "model_module": "@jupyter-widgets/controls",
      "model_module_version": "1.5.0",
      "model_name": "HTMLModel",
      "state": {
       "layout": "IPY_MODEL_fb7ecdbd8e7f4166a7507368b30224a0",
       "style": "IPY_MODEL_7477e9b258de437c898715527ff55038",
       "value": " ETA: 00:00s - loss: -1.8384 - val_loss: -1.7932"
      }
     },
     "e214589cffa94b6ab3e3c5a9a89b0e64": {
      "model_module": "@jupyter-widgets/controls",
      "model_module_version": "1.5.0",
      "model_name": "HTMLModel",
      "state": {
       "layout": "IPY_MODEL_e8381993290e42faa1fd99e2c90d82ab",
       "style": "IPY_MODEL_8fd0efabb30a4e8ca3b721bf124a055f",
       "value": " ETA: 00:00s - loss: 0.0697 - val_loss: 0.0731"
      }
     },
     "e219cda8a77f498cb9c3b8ce279b10c1": {
      "model_module": "@jupyter-widgets/controls",
      "model_module_version": "1.5.0",
      "model_name": "FloatProgressModel",
      "state": {
       "bar_style": "success",
       "description": "5625/5625",
       "layout": "IPY_MODEL_68bbd85846f04c168fb2efd189a4e795",
       "max": 5625,
       "style": "IPY_MODEL_40b70c0a3dcb4e3187a4397c2ed2deed",
       "value": 5625
      }
     },
     "e2262314666849c0b880c7d4d1255d39": {
      "model_module": "@jupyter-widgets/controls",
      "model_module_version": "1.5.0",
      "model_name": "HTMLModel",
      "state": {
       "layout": "IPY_MODEL_187d21db13d742ab931dc9970c4c1ac9",
       "style": "IPY_MODEL_17dd0ecbabd141fcbd97b07ac53ef97e",
       "value": " ETA: 00:00s - loss: 0.0271 - val_loss: 0.0283"
      }
     },
     "e241afd1354545968ec0d22307d9371d": {
      "model_module": "@jupyter-widgets/base",
      "model_module_version": "1.2.0",
      "model_name": "LayoutModel",
      "state": {
       "flex": "2"
      }
     },
     "e270acede0d54fe7a222b89e6f916971": {
      "model_module": "@jupyter-widgets/controls",
      "model_module_version": "1.5.0",
      "model_name": "FloatProgressModel",
      "state": {
       "bar_style": "success",
       "description": "5625/5625",
       "layout": "IPY_MODEL_5140482aed884cf198ce926a8465afa5",
       "max": 5625,
       "style": "IPY_MODEL_0832b77f131f48709877d6c736d57594",
       "value": 5625
      }
     },
     "e273f087925442d594960f64983bc676": {
      "model_module": "@jupyter-widgets/base",
      "model_module_version": "1.2.0",
      "model_name": "LayoutModel",
      "state": {
       "flex": "2"
      }
     },
     "e2872106fcc94f869f6eea4de628dbdc": {
      "model_module": "@jupyter-widgets/controls",
      "model_module_version": "1.5.0",
      "model_name": "HTMLModel",
      "state": {
       "layout": "IPY_MODEL_6ef9f729e47848c68dd41313464d3a07",
       "style": "IPY_MODEL_34a176b9850e4f1fbda45a0e81efa64f",
       "value": " ETA: 00:00s - loss: -1.8343 - val_loss: -1.8003"
      }
     },
     "e28b88d4498e440183f9903a7f174664": {
      "model_module": "@jupyter-widgets/base",
      "model_module_version": "1.2.0",
      "model_name": "LayoutModel",
      "state": {
       "display": "inline-flex",
       "flex_flow": "row wrap",
       "width": "100%"
      }
     },
     "e2a0161a73384ccf9c4259339aafa6c4": {
      "model_module": "@jupyter-widgets/controls",
      "model_module_version": "1.5.0",
      "model_name": "FloatProgressModel",
      "state": {
       "bar_style": "success",
       "description": "5625/5625",
       "layout": "IPY_MODEL_0eec6e4698dd4af49c3a838ddcf080ae",
       "max": 5625,
       "style": "IPY_MODEL_3a33d008f45c4e0d9c89fa75492adc69",
       "value": 5625
      }
     },
     "e2ab34ac26464b21a6ae48a50d19ef30": {
      "model_module": "@jupyter-widgets/base",
      "model_module_version": "1.2.0",
      "model_name": "LayoutModel",
      "state": {
       "display": "inline-flex",
       "flex_flow": "row wrap",
       "width": "100%"
      }
     },
     "e2d416b719d54c65869909999a19242c": {
      "model_module": "@jupyter-widgets/controls",
      "model_module_version": "1.5.0",
      "model_name": "HTMLModel",
      "state": {
       "layout": "IPY_MODEL_3283c3e99e484017be4ead42ff4328d0",
       "style": "IPY_MODEL_7ad0a76495534d5798635ae0f870fccf",
       "value": " ETA: 00:00s - loss: 0.0280 - val_loss: 0.0284"
      }
     },
     "e2e2eea4e91e40fb85bdda5efd07e9c4": {
      "model_module": "@jupyter-widgets/base",
      "model_module_version": "1.2.0",
      "model_name": "LayoutModel",
      "state": {
       "flex": "2"
      }
     },
     "e310ab4231dd4f798696ce485e663311": {
      "model_module": "@jupyter-widgets/controls",
      "model_module_version": "1.5.0",
      "model_name": "HTMLModel",
      "state": {
       "layout": "IPY_MODEL_1084602b27854c4683a38a98cf9ea4cb",
       "style": "IPY_MODEL_35d5c91a415044459794814aeeae929d",
       "value": " ETA: 00:00s - loss: 0.0294 - val_loss: 0.0289"
      }
     },
     "e3122e14a51e494aaa6315faeb83405e": {
      "model_module": "@jupyter-widgets/base",
      "model_module_version": "1.2.0",
      "model_name": "LayoutModel",
      "state": {}
     },
     "e343aa9defe84853a444cde7cc1d5da4": {
      "model_module": "@jupyter-widgets/controls",
      "model_module_version": "1.5.0",
      "model_name": "ProgressStyleModel",
      "state": {
       "description_width": "initial"
      }
     },
     "e35045d3b3204a15b7dccd17831d6636": {
      "model_module": "@jupyter-widgets/base",
      "model_module_version": "1.2.0",
      "model_name": "LayoutModel",
      "state": {
       "display": "inline-flex",
       "flex_flow": "row wrap",
       "width": "100%"
      }
     },
     "e353d7e880234165aa83a912b9ece010": {
      "model_module": "@jupyter-widgets/controls",
      "model_module_version": "1.5.0",
      "model_name": "HBoxModel",
      "state": {
       "children": [
        "IPY_MODEL_7791040627f345a6b90ced4752abe056",
        "IPY_MODEL_a07586e5f7f74d2e854119786a5e30ea"
       ],
       "layout": "IPY_MODEL_4c1542512ee64312ad900f94ec19f671"
      }
     },
     "e35fadf3bb634dc1829ac7080430ae7e": {
      "model_module": "@jupyter-widgets/controls",
      "model_module_version": "1.5.0",
      "model_name": "HBoxModel",
      "state": {
       "children": [
        "IPY_MODEL_be2416abeed8455e82d238fcbe84674f",
        "IPY_MODEL_bdbd2ea3fc2f4846afc5dd60d03afa57"
       ],
       "layout": "IPY_MODEL_81f3f1ed23ad4fbcaae5fab6f5e02d7c"
      }
     },
     "e361defc956b41f3a45a525353daa611": {
      "model_module": "@jupyter-widgets/controls",
      "model_module_version": "1.5.0",
      "model_name": "HBoxModel",
      "state": {
       "children": [
        "IPY_MODEL_8458e5f4d882455cab10184e14f82681",
        "IPY_MODEL_f997c33e7d604299bc0d78a9bf6e203c"
       ],
       "layout": "IPY_MODEL_fdcab5103b1044809f17d92ada3f3a78"
      }
     },
     "e38642b0fae24fe991fdfdf5fbe23301": {
      "model_module": "@jupyter-widgets/controls",
      "model_module_version": "1.5.0",
      "model_name": "FloatProgressModel",
      "state": {
       "bar_style": "success",
       "description": "5625/5625",
       "layout": "IPY_MODEL_3d9da2f25d384300a9d144c44bfbd8fb",
       "max": 5625,
       "style": "IPY_MODEL_fd5fa05e5c384966a6d67f826cac7bb0",
       "value": 5625
      }
     },
     "e39f6258ea944aed8cd297bae23e1925": {
      "model_module": "@jupyter-widgets/controls",
      "model_module_version": "1.5.0",
      "model_name": "HBoxModel",
      "state": {
       "children": [
        "IPY_MODEL_e58cbf3b9e4f4968831b1dfee1b36cb0",
        "IPY_MODEL_1be9a8870b1b421fb9b7d10005e65d11"
       ],
       "layout": "IPY_MODEL_3b644eafc19b427997609968ded16a57"
      }
     },
     "e3d56ba492294359a063b0fb0f624f63": {
      "model_module": "@jupyter-widgets/controls",
      "model_module_version": "1.5.0",
      "model_name": "HTMLModel",
      "state": {
       "layout": "IPY_MODEL_e6c8f1d91b334291b054f69f443f33cc",
       "style": "IPY_MODEL_80c9e33c49b44f34a635893994b05aad",
       "value": " ETA: 00:00s - loss: 0.0317 - val_loss: 0.0351"
      }
     },
     "e3e0151b62634df497bf742546b1a033": {
      "model_module": "@jupyter-widgets/controls",
      "model_module_version": "1.5.0",
      "model_name": "DescriptionStyleModel",
      "state": {
       "description_width": ""
      }
     },
     "e3f7a05042934d76b641b9a29b4d7836": {
      "model_module": "@jupyter-widgets/controls",
      "model_module_version": "1.5.0",
      "model_name": "HTMLModel",
      "state": {
       "layout": "IPY_MODEL_0dc13229a0024c1b89da2f822d820088",
       "style": "IPY_MODEL_901ea8ac4a3a4cf690a50fc0b31c6169",
       "value": " ETA: 00:00s - loss: 0.0390 - val_loss: 0.0379"
      }
     },
     "e3f9042598bb4fc98805ae3ccf690c6b": {
      "model_module": "@jupyter-widgets/controls",
      "model_module_version": "1.5.0",
      "model_name": "ProgressStyleModel",
      "state": {
       "description_width": "initial"
      }
     },
     "e43b07960fa74b58b412419c057bd2d1": {
      "model_module": "@jupyter-widgets/controls",
      "model_module_version": "1.5.0",
      "model_name": "HTMLModel",
      "state": {
       "layout": "IPY_MODEL_0527f4c499754476b2f2b0229f69ac8c",
       "style": "IPY_MODEL_4240c2476af448a4b6026274fde94c4b",
       "value": " ETA: 00:00s - loss: -1.7039 - val_loss: -1.7026"
      }
     },
     "e44574c2b3444c93a5d91f6f401438e6": {
      "model_module": "@jupyter-widgets/base",
      "model_module_version": "1.2.0",
      "model_name": "LayoutModel",
      "state": {
       "flex": "2"
      }
     },
     "e44975826bee4182b2a32e6020fec1b8": {
      "model_module": "@jupyter-widgets/controls",
      "model_module_version": "1.5.0",
      "model_name": "ProgressStyleModel",
      "state": {
       "description_width": "initial"
      }
     },
     "e46d0c3a548d474a9139803eac09e8ad": {
      "model_module": "@jupyter-widgets/controls",
      "model_module_version": "1.5.0",
      "model_name": "ProgressStyleModel",
      "state": {
       "description_width": "initial"
      }
     },
     "e484021ff55b491bbeb90b87a47148fa": {
      "model_module": "@jupyter-widgets/controls",
      "model_module_version": "1.5.0",
      "model_name": "FloatProgressModel",
      "state": {
       "bar_style": "success",
       "description": "5625/5625",
       "layout": "IPY_MODEL_b210a75fdedd49109d1aa20712bd3cb0",
       "max": 5625,
       "style": "IPY_MODEL_c7698f9349454eb7b945c5d0ef052ac7",
       "value": 5625
      }
     },
     "e4cbea272388431b91e1d654ea94c7b9": {
      "model_module": "@jupyter-widgets/controls",
      "model_module_version": "1.5.0",
      "model_name": "ProgressStyleModel",
      "state": {
       "description_width": "initial"
      }
     },
     "e4f9877b0afc41a08beb47f7568888ef": {
      "model_module": "@jupyter-widgets/controls",
      "model_module_version": "1.5.0",
      "model_name": "FloatProgressModel",
      "state": {
       "bar_style": "success",
       "description": "5625/5625",
       "layout": "IPY_MODEL_2aae147e8af145fc90c0788db49c4220",
       "max": 5625,
       "style": "IPY_MODEL_7cba123d6c2f473daf25f3e8edf1957d",
       "value": 5625
      }
     },
     "e5172fb84ed44c89b90d3d3e1c5bdfd8": {
      "model_module": "@jupyter-widgets/base",
      "model_module_version": "1.2.0",
      "model_name": "LayoutModel",
      "state": {
       "flex": "2"
      }
     },
     "e542d7863ef74af3b7c9e28ce870f58e": {
      "model_module": "@jupyter-widgets/controls",
      "model_module_version": "1.5.0",
      "model_name": "ProgressStyleModel",
      "state": {
       "description_width": "initial"
      }
     },
     "e5465ac5ccff46b5920b2656890d0811": {
      "model_module": "@jupyter-widgets/controls",
      "model_module_version": "1.5.0",
      "model_name": "HBoxModel",
      "state": {
       "children": [
        "IPY_MODEL_4fe2c34f85cd4c65a1d01e7db35a65eb",
        "IPY_MODEL_ec00eda583ab422f8a398232fb028f94"
       ],
       "layout": "IPY_MODEL_4ecca57504cc498e87665b36d69996ba"
      }
     },
     "e583f3e049dc4bb983606d2963101a13": {
      "model_module": "@jupyter-widgets/controls",
      "model_module_version": "1.5.0",
      "model_name": "FloatProgressModel",
      "state": {
       "bar_style": "success",
       "description": "5625/5625",
       "layout": "IPY_MODEL_81900647149a457f980473a66073e439",
       "max": 5625,
       "style": "IPY_MODEL_b29fb41e74be4964b7edc531c1f8e077",
       "value": 5625
      }
     },
     "e58cbf3b9e4f4968831b1dfee1b36cb0": {
      "model_module": "@jupyter-widgets/controls",
      "model_module_version": "1.5.0",
      "model_name": "FloatProgressModel",
      "state": {
       "bar_style": "success",
       "description": "5625/5625",
       "layout": "IPY_MODEL_9362f0b2e8fc43fe9acbbdd558c5f027",
       "max": 5625,
       "style": "IPY_MODEL_602624e18f2948278316977a2b12e32c",
       "value": 5625
      }
     },
     "e5b0253aa2f3443facadb14514229b1a": {
      "model_module": "@jupyter-widgets/controls",
      "model_module_version": "1.5.0",
      "model_name": "FloatProgressModel",
      "state": {
       "bar_style": "success",
       "description": "5625/5625",
       "layout": "IPY_MODEL_c68bbdaf9c894122824b93814ca538d5",
       "max": 5625,
       "style": "IPY_MODEL_bba759a81b354d8ebe363898dd297358",
       "value": 5625
      }
     },
     "e5b9e3a319ca40ddae2e13d940dc4d73": {
      "model_module": "@jupyter-widgets/controls",
      "model_module_version": "1.5.0",
      "model_name": "ProgressStyleModel",
      "state": {
       "description_width": "initial"
      }
     },
     "e5e0d6dad85b47b88b9792eb4ac475ab": {
      "model_module": "@jupyter-widgets/controls",
      "model_module_version": "1.5.0",
      "model_name": "DescriptionStyleModel",
      "state": {
       "description_width": ""
      }
     },
     "e5edd964da9c48c696cab1600b22bfb0": {
      "model_module": "@jupyter-widgets/controls",
      "model_module_version": "1.5.0",
      "model_name": "ProgressStyleModel",
      "state": {
       "description_width": "initial"
      }
     },
     "e6107dcadfe74c73afcf697152128e7e": {
      "model_module": "@jupyter-widgets/base",
      "model_module_version": "1.2.0",
      "model_name": "LayoutModel",
      "state": {}
     },
     "e688b3f785584dd4a1c99168f714bfea": {
      "model_module": "@jupyter-widgets/controls",
      "model_module_version": "1.5.0",
      "model_name": "DescriptionStyleModel",
      "state": {
       "description_width": ""
      }
     },
     "e68cd17ff61d4f3fa4a14e0eea9bbc6d": {
      "model_module": "@jupyter-widgets/controls",
      "model_module_version": "1.5.0",
      "model_name": "HBoxModel",
      "state": {
       "children": [
        "IPY_MODEL_851b244466e24c209d67d31eefd705e8",
        "IPY_MODEL_28be8a7de10d493e93e9d88d25fd0cf7"
       ],
       "layout": "IPY_MODEL_d965c1740963417e824676d9de168315"
      }
     },
     "e6910572bd9a433c98780463677cb951": {
      "model_module": "@jupyter-widgets/base",
      "model_module_version": "1.2.0",
      "model_name": "LayoutModel",
      "state": {}
     },
     "e6b00932b5be410a836ef42a2876c33a": {
      "model_module": "@jupyter-widgets/controls",
      "model_module_version": "1.5.0",
      "model_name": "ProgressStyleModel",
      "state": {
       "description_width": "initial"
      }
     },
     "e6b274cbf30d4fdaa5942dff49d6aee2": {
      "model_module": "@jupyter-widgets/controls",
      "model_module_version": "1.5.0",
      "model_name": "DescriptionStyleModel",
      "state": {
       "description_width": ""
      }
     },
     "e6b6367898624c23a060c044305afc65": {
      "model_module": "@jupyter-widgets/controls",
      "model_module_version": "1.5.0",
      "model_name": "DescriptionStyleModel",
      "state": {
       "description_width": ""
      }
     },
     "e6c8f1d91b334291b054f69f443f33cc": {
      "model_module": "@jupyter-widgets/base",
      "model_module_version": "1.2.0",
      "model_name": "LayoutModel",
      "state": {}
     },
     "e6ca750393944970bca560eb736b04b4": {
      "model_module": "@jupyter-widgets/controls",
      "model_module_version": "1.5.0",
      "model_name": "HBoxModel",
      "state": {
       "children": [
        "IPY_MODEL_848c489811a04a11af830b0d89cf0d46",
        "IPY_MODEL_d2c81f58f1f64901b14af4ce43a24da6"
       ],
       "layout": "IPY_MODEL_4a7a34da6b63411fafb582dc4a1f8275"
      }
     },
     "e6d3153049ab4a159b1dbbe75d399563": {
      "model_module": "@jupyter-widgets/controls",
      "model_module_version": "1.5.0",
      "model_name": "HBoxModel",
      "state": {
       "children": [
        "IPY_MODEL_bc7a302cb40b45fda79cedd15c868e12",
        "IPY_MODEL_9a161d6bda764f24bd4b33f0ef033704"
       ],
       "layout": "IPY_MODEL_4551a76cc2764062a7c9558d4d3d30ab"
      }
     },
     "e7055dea76084bc08c035b68c11ac68d": {
      "model_module": "@jupyter-widgets/base",
      "model_module_version": "1.2.0",
      "model_name": "LayoutModel",
      "state": {}
     },
     "e724ad890254438cb566511a369ed8d5": {
      "model_module": "@jupyter-widgets/base",
      "model_module_version": "1.2.0",
      "model_name": "LayoutModel",
      "state": {
       "flex": "2"
      }
     },
     "e72753d8a6a340f9bd4113f32950d54f": {
      "model_module": "@jupyter-widgets/base",
      "model_module_version": "1.2.0",
      "model_name": "LayoutModel",
      "state": {
       "display": "inline-flex",
       "flex_flow": "row wrap",
       "width": "100%"
      }
     },
     "e74d84df53f846e59b656efb0af4275b": {
      "model_module": "@jupyter-widgets/base",
      "model_module_version": "1.2.0",
      "model_name": "LayoutModel",
      "state": {
       "display": "inline-flex",
       "flex_flow": "row wrap",
       "width": "100%"
      }
     },
     "e78779c42ba24f68bce39313accb3f39": {
      "model_module": "@jupyter-widgets/base",
      "model_module_version": "1.2.0",
      "model_name": "LayoutModel",
      "state": {}
     },
     "e787ad09b2b34beaa460db5455410987": {
      "model_module": "@jupyter-widgets/controls",
      "model_module_version": "1.5.0",
      "model_name": "HBoxModel",
      "state": {
       "children": [
        "IPY_MODEL_2acab6a8dac34c099a5b8a48848bb4a6",
        "IPY_MODEL_fa5581162b2e4e2eb5c9a56fe83b4d79"
       ],
       "layout": "IPY_MODEL_edc8008adda348f1a5c088251e566d99"
      }
     },
     "e7b39bfce9a14d4d8162dcd4d884fa61": {
      "model_module": "@jupyter-widgets/base",
      "model_module_version": "1.2.0",
      "model_name": "LayoutModel",
      "state": {}
     },
     "e7dec22e830442e98a763d58e2352aec": {
      "model_module": "@jupyter-widgets/base",
      "model_module_version": "1.2.0",
      "model_name": "LayoutModel",
      "state": {}
     },
     "e7f245186221413799830ef8603e7cf5": {
      "model_module": "@jupyter-widgets/controls",
      "model_module_version": "1.5.0",
      "model_name": "HTMLModel",
      "state": {
       "layout": "IPY_MODEL_937eb6020acb44a89e71f64f2512a441",
       "style": "IPY_MODEL_4f1630bdea4440f0962777cac7bc516a",
       "value": " ETA: 00:00s - loss: 0.0681 - val_loss: 0.0738"
      }
     },
     "e7f852aa3abd43d18c9d5852b8b86541": {
      "model_module": "@jupyter-widgets/controls",
      "model_module_version": "1.5.0",
      "model_name": "DescriptionStyleModel",
      "state": {
       "description_width": ""
      }
     },
     "e80209d2c56f4aeab5b0c0a6d244a12e": {
      "model_module": "@jupyter-widgets/controls",
      "model_module_version": "1.5.0",
      "model_name": "FloatProgressModel",
      "state": {
       "bar_style": "success",
       "description": "5625/5625",
       "layout": "IPY_MODEL_96a51ced8b80452082ca540865110cd4",
       "max": 5625,
       "style": "IPY_MODEL_1e2bab1e1f284cd2915bc31d83129c6d",
       "value": 5625
      }
     },
     "e813999bd9c44acca6cdb8aa51a700c8": {
      "model_module": "@jupyter-widgets/base",
      "model_module_version": "1.2.0",
      "model_name": "LayoutModel",
      "state": {
       "display": "inline-flex",
       "flex_flow": "row wrap",
       "width": "100%"
      }
     },
     "e81af12afbe24ddb9f1d589dce6778c1": {
      "model_module": "@jupyter-widgets/base",
      "model_module_version": "1.2.0",
      "model_name": "LayoutModel",
      "state": {}
     },
     "e8381993290e42faa1fd99e2c90d82ab": {
      "model_module": "@jupyter-widgets/base",
      "model_module_version": "1.2.0",
      "model_name": "LayoutModel",
      "state": {}
     },
     "e8510ecdc8cd4fba98f1fb707e84d20b": {
      "model_module": "@jupyter-widgets/controls",
      "model_module_version": "1.5.0",
      "model_name": "HTMLModel",
      "state": {
       "layout": "IPY_MODEL_1126423147bc4f61a9dba2c6844a4705",
       "style": "IPY_MODEL_98125015c4394e0594e65e597623f325",
       "value": " ETA: 00:00s - loss: -1.7620 - val_loss: -1.7563"
      }
     },
     "e8597527928348489f9a3e8a379916ff": {
      "model_module": "@jupyter-widgets/controls",
      "model_module_version": "1.5.0",
      "model_name": "ProgressStyleModel",
      "state": {
       "description_width": "initial"
      }
     },
     "e8643f4dcf9443eaaec0052df6645f10": {
      "model_module": "@jupyter-widgets/base",
      "model_module_version": "1.2.0",
      "model_name": "LayoutModel",
      "state": {
       "flex": "2"
      }
     },
     "e86be74618d34d0d9ef3184c1060296b": {
      "model_module": "@jupyter-widgets/base",
      "model_module_version": "1.2.0",
      "model_name": "LayoutModel",
      "state": {}
     },
     "e88205ca1c1b4c8aac751ed2adb7b202": {
      "model_module": "@jupyter-widgets/controls",
      "model_module_version": "1.5.0",
      "model_name": "DescriptionStyleModel",
      "state": {
       "description_width": ""
      }
     },
     "e8d6d26cb00d4711af2fb76c3afddbdf": {
      "model_module": "@jupyter-widgets/controls",
      "model_module_version": "1.5.0",
      "model_name": "HBoxModel",
      "state": {
       "children": [
        "IPY_MODEL_79931e0a18e840d9b01cbe1858a94276",
        "IPY_MODEL_5e561fe18b814825b5f0fc00e2ca1c8a"
       ],
       "layout": "IPY_MODEL_a64fbea997494dc69bd3cd7a19fc3371"
      }
     },
     "e8e302e26a9a40d2a5568f3f5961cbf6": {
      "model_module": "@jupyter-widgets/controls",
      "model_module_version": "1.5.0",
      "model_name": "HTMLModel",
      "state": {
       "layout": "IPY_MODEL_2bb97a582cfa45f8a68128f022badc6f",
       "style": "IPY_MODEL_7c1cddc1d0d74a4f8983ac78541e6340",
       "value": " ETA: 00:00s - loss: 0.0694 - val_loss: 0.0721"
      }
     },
     "e8e729c9f3684206a840b69e57de5d1e": {
      "model_module": "@jupyter-widgets/base",
      "model_module_version": "1.2.0",
      "model_name": "LayoutModel",
      "state": {}
     },
     "e8eb4b48f2c143178998f20a55463559": {
      "model_module": "@jupyter-widgets/controls",
      "model_module_version": "1.5.0",
      "model_name": "DescriptionStyleModel",
      "state": {
       "description_width": ""
      }
     },
     "e901dd6e1a714bdb86987a61d72b5192": {
      "model_module": "@jupyter-widgets/base",
      "model_module_version": "1.2.0",
      "model_name": "LayoutModel",
      "state": {
       "display": "inline-flex",
       "flex_flow": "row wrap",
       "width": "100%"
      }
     },
     "e90a665a294648b6a7735b49098cb2b9": {
      "model_module": "@jupyter-widgets/base",
      "model_module_version": "1.2.0",
      "model_name": "LayoutModel",
      "state": {}
     },
     "e9254229e7d74d9ebc8e154951d4d1d0": {
      "model_module": "@jupyter-widgets/base",
      "model_module_version": "1.2.0",
      "model_name": "LayoutModel",
      "state": {}
     },
     "e9509ae68b5b48f8b373e6449b3f15dd": {
      "model_module": "@jupyter-widgets/controls",
      "model_module_version": "1.5.0",
      "model_name": "HTMLModel",
      "state": {
       "layout": "IPY_MODEL_6657da85b75e4dc88eca12e01af501bd",
       "style": "IPY_MODEL_cefd66d6deda4e2aabd31f408b394c51",
       "value": " ETA: 00:00s - loss: 0.0351 - val_loss: 0.0349"
      }
     },
     "e96720742617454da2ba1e48a195b1ae": {
      "model_module": "@jupyter-widgets/controls",
      "model_module_version": "1.5.0",
      "model_name": "DescriptionStyleModel",
      "state": {
       "description_width": ""
      }
     },
     "e968a51d9d0d4977a3813f389115418a": {
      "model_module": "@jupyter-widgets/controls",
      "model_module_version": "1.5.0",
      "model_name": "HBoxModel",
      "state": {
       "children": [
        "IPY_MODEL_8bc82af300be4db081668ddf823a209c",
        "IPY_MODEL_0a434ae87c86462c82e182a19ee79aae"
       ],
       "layout": "IPY_MODEL_112d2bab4fac49cd8e09116a4455c006"
      }
     },
     "e9754b3b6256438db7352894b9466d31": {
      "model_module": "@jupyter-widgets/controls",
      "model_module_version": "1.5.0",
      "model_name": "ProgressStyleModel",
      "state": {
       "description_width": "initial"
      }
     },
     "e98ee1cd2fee4acfa90482be22c21381": {
      "model_module": "@jupyter-widgets/controls",
      "model_module_version": "1.5.0",
      "model_name": "HBoxModel",
      "state": {
       "children": [
        "IPY_MODEL_2552f929dbff413991ce7371a848a1c7",
        "IPY_MODEL_ca7702c95ad949bcae50ddfb9e3df332"
       ],
       "layout": "IPY_MODEL_a1be34bac2a04facb571f7ca000472e0"
      }
     },
     "e9cff7730fdb47f8a09abff8a4fcec41": {
      "model_module": "@jupyter-widgets/controls",
      "model_module_version": "1.5.0",
      "model_name": "HBoxModel",
      "state": {
       "children": [
        "IPY_MODEL_e484021ff55b491bbeb90b87a47148fa",
        "IPY_MODEL_605de4a76f5e402f935814ac9cfc3895"
       ],
       "layout": "IPY_MODEL_8e95343bde684399a1230eac51348686"
      }
     },
     "e9d0082f68be4355a154c4a12b01a55a": {
      "model_module": "@jupyter-widgets/controls",
      "model_module_version": "1.5.0",
      "model_name": "FloatProgressModel",
      "state": {
       "bar_style": "success",
       "description": "5625/5625",
       "layout": "IPY_MODEL_a2a0b5c702ee4a62b2ae665026481a09",
       "max": 5625,
       "style": "IPY_MODEL_82eedc3aa7c64f89a2a5b215bbe9b3b1",
       "value": 5625
      }
     },
     "e9d65d0c9ff946e39bb6a2582422759d": {
      "model_module": "@jupyter-widgets/controls",
      "model_module_version": "1.5.0",
      "model_name": "ProgressStyleModel",
      "state": {
       "description_width": "initial"
      }
     },
     "ea38cfa17f4945bb83085d82e3107f4c": {
      "model_module": "@jupyter-widgets/controls",
      "model_module_version": "1.5.0",
      "model_name": "ProgressStyleModel",
      "state": {
       "description_width": "initial"
      }
     },
     "ea3b73bf55e547febdc486abf552b2fd": {
      "model_module": "@jupyter-widgets/controls",
      "model_module_version": "1.5.0",
      "model_name": "DescriptionStyleModel",
      "state": {
       "description_width": ""
      }
     },
     "ea6edfd0d03c41d6a3499534f8018e0a": {
      "model_module": "@jupyter-widgets/controls",
      "model_module_version": "1.5.0",
      "model_name": "HBoxModel",
      "state": {
       "children": [
        "IPY_MODEL_767d43b37b7f4e63981a19063cc59d44",
        "IPY_MODEL_4c8da7cb796d4a5399b8953af69ce829"
       ],
       "layout": "IPY_MODEL_6bb122e3ddfd46948f00831581bba120"
      }
     },
     "ea7f96dbf7ef4e2ea2ec29bae613991f": {
      "model_module": "@jupyter-widgets/controls",
      "model_module_version": "1.5.0",
      "model_name": "ProgressStyleModel",
      "state": {
       "description_width": "initial"
      }
     },
     "ea984ed012034cf3b719836212da0a93": {
      "model_module": "@jupyter-widgets/controls",
      "model_module_version": "1.5.0",
      "model_name": "HTMLModel",
      "state": {
       "layout": "IPY_MODEL_0cff6fd2a6cb4e90bfe14663beeb056a",
       "style": "IPY_MODEL_c46dd8d1827f429d9d91acb03c00699d",
       "value": " ETA: 00:00s - loss: -1.8139 - val_loss: -1.7908"
      }
     },
     "eabff6f3bb2940258b9e512a43380269": {
      "model_module": "@jupyter-widgets/controls",
      "model_module_version": "1.5.0",
      "model_name": "HTMLModel",
      "state": {
       "layout": "IPY_MODEL_e6910572bd9a433c98780463677cb951",
       "style": "IPY_MODEL_91b1635fad514014a0c7557b5b5fee4f",
       "value": " ETA: 00:00s - loss: -1.8325 - val_loss: -1.7997"
      }
     },
     "eacbdf145549488ba616b59ef44271df": {
      "model_module": "@jupyter-widgets/controls",
      "model_module_version": "1.5.0",
      "model_name": "HBoxModel",
      "state": {
       "children": [
        "IPY_MODEL_7f09a55f498a43daa1f2833659332b2d",
        "IPY_MODEL_e01d6312163f412f90c3671548a74f50"
       ],
       "layout": "IPY_MODEL_ce9a7089f3c64c2491a4112af98af72b"
      }
     },
     "eada548b60fd4dbb9807e98d6dbe488c": {
      "model_module": "@jupyter-widgets/controls",
      "model_module_version": "1.5.0",
      "model_name": "ProgressStyleModel",
      "state": {
       "description_width": "initial"
      }
     },
     "eaeac308f56d4347bb169c22ad6363d2": {
      "model_module": "@jupyter-widgets/base",
      "model_module_version": "1.2.0",
      "model_name": "LayoutModel",
      "state": {
       "flex": "2"
      }
     },
     "eaebe29155df4d1e84cb714656e2c4a3": {
      "model_module": "@jupyter-widgets/controls",
      "model_module_version": "1.5.0",
      "model_name": "FloatProgressModel",
      "state": {
       "bar_style": "success",
       "description": "5625/5625",
       "layout": "IPY_MODEL_64a25e6382f6404ead7c9eae62fa6308",
       "max": 5625,
       "style": "IPY_MODEL_d839e5db38994ee78cb447ced1862a5c",
       "value": 5625
      }
     },
     "eb08a4ea3c5a4febb99cb3db360e9ff7": {
      "model_module": "@jupyter-widgets/base",
      "model_module_version": "1.2.0",
      "model_name": "LayoutModel",
      "state": {}
     },
     "eb0cd613842a47a4a5e1d17d7ad632d2": {
      "model_module": "@jupyter-widgets/controls",
      "model_module_version": "1.5.0",
      "model_name": "FloatProgressModel",
      "state": {
       "bar_style": "success",
       "description": "5625/5625",
       "layout": "IPY_MODEL_299d6d66c9d34a7db23c1a868d736d9c",
       "max": 5625,
       "style": "IPY_MODEL_36f1c7dc0ec142f998a940897fd62b3b",
       "value": 5625
      }
     },
     "eb1c5ae72a1b4467be7900257251d42f": {
      "model_module": "@jupyter-widgets/controls",
      "model_module_version": "1.5.0",
      "model_name": "HBoxModel",
      "state": {
       "children": [
        "IPY_MODEL_a5786b8970be4288aafaaf424752a3fb",
        "IPY_MODEL_512ff302770d44f59174c81a64bf4388"
       ],
       "layout": "IPY_MODEL_d14a443f11d84f6588f754be44919b76"
      }
     },
     "eb372818d18e4c73bf175ae3e811b8de": {
      "model_module": "@jupyter-widgets/controls",
      "model_module_version": "1.5.0",
      "model_name": "FloatProgressModel",
      "state": {
       "bar_style": "success",
       "description": "5625/5625",
       "layout": "IPY_MODEL_b04ca5daaadc420ea7ae7ecf41ed8258",
       "max": 5625,
       "style": "IPY_MODEL_d67c788fecc3448c9cb8771a9ebe5488",
       "value": 5625
      }
     },
     "eb542b74275943a08cbc8722f65f3a3f": {
      "model_module": "@jupyter-widgets/controls",
      "model_module_version": "1.5.0",
      "model_name": "HBoxModel",
      "state": {
       "children": [
        "IPY_MODEL_be03386cc1734ea88918a0b0c910b83d",
        "IPY_MODEL_7b14b7986d4e4b73a52f722927b645ab"
       ],
       "layout": "IPY_MODEL_e72753d8a6a340f9bd4113f32950d54f"
      }
     },
     "eb8072e41d5e4e36b38858c27556ce2a": {
      "model_module": "@jupyter-widgets/controls",
      "model_module_version": "1.5.0",
      "model_name": "FloatProgressModel",
      "state": {
       "bar_style": "success",
       "description": "5625/5625",
       "layout": "IPY_MODEL_c5c7597d3a0945a5904e5097adf228e4",
       "max": 5625,
       "style": "IPY_MODEL_4c6b889a46044b7c9fb20e2331d70d94",
       "value": 5625
      }
     },
     "ebf11907982c4036b756d4bc2d04e200": {
      "model_module": "@jupyter-widgets/base",
      "model_module_version": "1.2.0",
      "model_name": "LayoutModel",
      "state": {}
     },
     "ebf91c9a18c04e048d2293ee441fa372": {
      "model_module": "@jupyter-widgets/controls",
      "model_module_version": "1.5.0",
      "model_name": "HBoxModel",
      "state": {
       "children": [
        "IPY_MODEL_c6955a9cfc5b4942a4cc35a7d361348d",
        "IPY_MODEL_860c3e91e14340ffb496c60560a80b41"
       ],
       "layout": "IPY_MODEL_4db57279c3c7445b9824c66e5615b8a3"
      }
     },
     "ec00eda583ab422f8a398232fb028f94": {
      "model_module": "@jupyter-widgets/controls",
      "model_module_version": "1.5.0",
      "model_name": "HTMLModel",
      "state": {
       "layout": "IPY_MODEL_9f42d4e4e9bf43f9a01a07bcad44bb4a",
       "style": "IPY_MODEL_358144b7648f43eeb6b82ef8cdfac7ca",
       "value": " ETA: 00:00s - loss: 0.0401 - val_loss: 0.0453"
      }
     },
     "ec015eef4a1444f49d1260133cd9f1c4": {
      "model_module": "@jupyter-widgets/base",
      "model_module_version": "1.2.0",
      "model_name": "LayoutModel",
      "state": {
       "display": "inline-flex",
       "flex_flow": "row wrap",
       "width": "100%"
      }
     },
     "ec0b2a4d583d4eedb6dd1cb904484d18": {
      "model_module": "@jupyter-widgets/base",
      "model_module_version": "1.2.0",
      "model_name": "LayoutModel",
      "state": {
       "display": "inline-flex",
       "flex_flow": "row wrap",
       "width": "100%"
      }
     },
     "ec114b9d1cfd44b889016065a5088daf": {
      "model_module": "@jupyter-widgets/base",
      "model_module_version": "1.2.0",
      "model_name": "LayoutModel",
      "state": {}
     },
     "ec172d1d1fd04613a96966de8a422103": {
      "model_module": "@jupyter-widgets/controls",
      "model_module_version": "1.5.0",
      "model_name": "HTMLModel",
      "state": {
       "layout": "IPY_MODEL_53f3acf93c5b42df9bfa0e25a0249b67",
       "style": "IPY_MODEL_77d9b555d62542d2bd31bec595fd2389",
       "value": " ETA: 00:00s - loss: 0.0707 - val_loss: 0.0714"
      }
     },
     "ec1857a5fa4546c184c8f3de2f325186": {
      "model_module": "@jupyter-widgets/controls",
      "model_module_version": "1.5.0",
      "model_name": "ProgressStyleModel",
      "state": {
       "description_width": "initial"
      }
     },
     "ec3029d9dddf4e498f04d0afbb1e0ac0": {
      "model_module": "@jupyter-widgets/controls",
      "model_module_version": "1.5.0",
      "model_name": "HBoxModel",
      "state": {
       "children": [
        "IPY_MODEL_aa47e7a245c44c44adbc51ed71ed4138",
        "IPY_MODEL_2493cba617b84592ba1cfe68a452a0e1"
       ],
       "layout": "IPY_MODEL_d7152af88de74e79badfa37c36767d28"
      }
     },
     "ec3a975f618e4ffda43a6b12865fe951": {
      "model_module": "@jupyter-widgets/base",
      "model_module_version": "1.2.0",
      "model_name": "LayoutModel",
      "state": {}
     },
     "ec4e9f39dec648f7b5e583d780b288d5": {
      "model_module": "@jupyter-widgets/base",
      "model_module_version": "1.2.0",
      "model_name": "LayoutModel",
      "state": {
       "display": "inline-flex",
       "flex_flow": "row wrap",
       "width": "100%"
      }
     },
     "ec597658a194470e8993101f1cc1073d": {
      "model_module": "@jupyter-widgets/controls",
      "model_module_version": "1.5.0",
      "model_name": "HTMLModel",
      "state": {
       "layout": "IPY_MODEL_ca5ea0a1fdaa485abe02f5ae93c24d6d",
       "style": "IPY_MODEL_76b677f5021b485289bc82996609f06f",
       "value": " ETA: 00:00s - loss: 0.0269 - val_loss: 0.0287"
      }
     },
     "ec5a331218f545949eec410e5547b9d1": {
      "model_module": "@jupyter-widgets/base",
      "model_module_version": "1.2.0",
      "model_name": "LayoutModel",
      "state": {
       "flex": "2"
      }
     },
     "ec63894b2c5844a7972832d68617edef": {
      "model_module": "@jupyter-widgets/controls",
      "model_module_version": "1.5.0",
      "model_name": "HTMLModel",
      "state": {
       "layout": "IPY_MODEL_bb191a6b3a80401b8560bb940c1363a4",
       "style": "IPY_MODEL_9844028190df4508ba4b97a58046a5d6",
       "value": " ETA: 00:00s - loss: -1.8028 - val_loss: -1.7789"
      }
     },
     "ec7dcde674304d0bbbe98ce182cd0fbe": {
      "model_module": "@jupyter-widgets/controls",
      "model_module_version": "1.5.0",
      "model_name": "DescriptionStyleModel",
      "state": {
       "description_width": ""
      }
     },
     "ec832a7330f84f429a6eb3390da476ae": {
      "model_module": "@jupyter-widgets/controls",
      "model_module_version": "1.5.0",
      "model_name": "FloatProgressModel",
      "state": {
       "bar_style": "success",
       "description": "5625/5625",
       "layout": "IPY_MODEL_2ea8e846a71047df85245bfa5f87d185",
       "max": 5625,
       "style": "IPY_MODEL_591a0877af5e4a8cb933b63a73fcd173",
       "value": 5625
      }
     },
     "ec87d54442874230ae5d3a4594a75b82": {
      "model_module": "@jupyter-widgets/base",
      "model_module_version": "1.2.0",
      "model_name": "LayoutModel",
      "state": {}
     },
     "ec9003dcefdd4b49b8ad442653306057": {
      "model_module": "@jupyter-widgets/controls",
      "model_module_version": "1.5.0",
      "model_name": "HTMLModel",
      "state": {
       "layout": "IPY_MODEL_f21dda2fa6584a1ba5cfcce4c2a88255",
       "style": "IPY_MODEL_3961dd88081c43658913a20d6031e31d",
       "value": " ETA: 00:00s - loss: 0.0284 - val_loss: 0.0284"
      }
     },
     "ec96c976c258464fac877cc076982500": {
      "model_module": "@jupyter-widgets/controls",
      "model_module_version": "1.5.0",
      "model_name": "DescriptionStyleModel",
      "state": {
       "description_width": ""
      }
     },
     "ecb85f568f794bf0856f6a878de84d57": {
      "model_module": "@jupyter-widgets/controls",
      "model_module_version": "1.5.0",
      "model_name": "HBoxModel",
      "state": {
       "children": [
        "IPY_MODEL_d609724a42714f5a916312a9a903657f",
        "IPY_MODEL_9f8296a2c6714a7f94e0603709873571"
       ],
       "layout": "IPY_MODEL_d12b3e89478b450cae7d03024eb58a04"
      }
     },
     "ecd49c86bdab4552aca561139a1919e1": {
      "model_module": "@jupyter-widgets/controls",
      "model_module_version": "1.5.0",
      "model_name": "HTMLModel",
      "state": {
       "layout": "IPY_MODEL_8aa8b631fbb34ab29b628f995884e050",
       "style": "IPY_MODEL_31bd462f7038464981e0033f950c60c6",
       "value": " ETA: 00:00s - loss: 0.0690 - val_loss: 0.0734"
      }
     },
     "ece88e4649ae4fc5b75145c1d1fd9482": {
      "model_module": "@jupyter-widgets/base",
      "model_module_version": "1.2.0",
      "model_name": "LayoutModel",
      "state": {}
     },
     "ed0630dab42f4fe4b2d0252896ec0858": {
      "model_module": "@jupyter-widgets/controls",
      "model_module_version": "1.5.0",
      "model_name": "DescriptionStyleModel",
      "state": {
       "description_width": ""
      }
     },
     "ed1689fd545a4625b730864e03791b2a": {
      "model_module": "@jupyter-widgets/base",
      "model_module_version": "1.2.0",
      "model_name": "LayoutModel",
      "state": {
       "flex": "2"
      }
     },
     "ed2181b56cd54616bb3bc1b78b651d59": {
      "model_module": "@jupyter-widgets/controls",
      "model_module_version": "1.5.0",
      "model_name": "FloatProgressModel",
      "state": {
       "bar_style": "success",
       "description": "5625/5625",
       "layout": "IPY_MODEL_b6172e0ef7a84919b86e5dde69b8b741",
       "max": 5625,
       "style": "IPY_MODEL_2c084513fce94303aaca1a73edbe93e5",
       "value": 5625
      }
     },
     "ed2568e88fe44861a04a485938d09f0d": {
      "model_module": "@jupyter-widgets/base",
      "model_module_version": "1.2.0",
      "model_name": "LayoutModel",
      "state": {
       "display": "inline-flex",
       "flex_flow": "row wrap",
       "width": "100%"
      }
     },
     "ed3a9dad32514b8eae7b667c65096de9": {
      "model_module": "@jupyter-widgets/controls",
      "model_module_version": "1.5.0",
      "model_name": "ProgressStyleModel",
      "state": {
       "description_width": "initial"
      }
     },
     "ed538a97beb74dffb4e6877a36614063": {
      "model_module": "@jupyter-widgets/controls",
      "model_module_version": "1.5.0",
      "model_name": "HTMLModel",
      "state": {
       "layout": "IPY_MODEL_d1d3b81a2a934bff9553e7acefb05947",
       "style": "IPY_MODEL_0e95e7403514434382fb310bec28cdc5",
       "value": " ETA: 00:00s - loss: 0.0675 - val_loss: 0.0716"
      }
     },
     "ed543ff1036d49458f790d19a7de5a7f": {
      "model_module": "@jupyter-widgets/base",
      "model_module_version": "1.2.0",
      "model_name": "LayoutModel",
      "state": {
       "display": "inline-flex",
       "flex_flow": "row wrap",
       "width": "100%"
      }
     },
     "ed60229f64ce4e55ba21c3dbb4a38081": {
      "model_module": "@jupyter-widgets/controls",
      "model_module_version": "1.5.0",
      "model_name": "HBoxModel",
      "state": {
       "children": [
        "IPY_MODEL_3748c3b0f3634806822db1a5fa92fca5",
        "IPY_MODEL_f922cdd6577e4c5b8fe253837386b636"
       ],
       "layout": "IPY_MODEL_9ff33efd93464e63a0e59f1375afee41"
      }
     },
     "ed7f64a5b9424d9c9ecc58918e992eee": {
      "model_module": "@jupyter-widgets/controls",
      "model_module_version": "1.5.0",
      "model_name": "HTMLModel",
      "state": {
       "layout": "IPY_MODEL_cb115cabb685447e964015fb3cac08cb",
       "style": "IPY_MODEL_aa88b11b50654548ae4e77fc993331e5",
       "value": " ETA: 00:00s - loss: 0.0712 - val_loss: 0.0722"
      }
     },
     "ed9876fbe3b74ce380da898453fff560": {
      "model_module": "@jupyter-widgets/controls",
      "model_module_version": "1.5.0",
      "model_name": "HBoxModel",
      "state": {
       "children": [
        "IPY_MODEL_78c33a8a22cd4c4698f8998d6ea99b6f",
        "IPY_MODEL_3b07c2f75789402c9be0cbe5e6319ca3"
       ],
       "layout": "IPY_MODEL_3d00ee1eecf04cee8496434c5ea8139c"
      }
     },
     "edc8008adda348f1a5c088251e566d99": {
      "model_module": "@jupyter-widgets/base",
      "model_module_version": "1.2.0",
      "model_name": "LayoutModel",
      "state": {
       "display": "inline-flex",
       "flex_flow": "row wrap",
       "width": "100%"
      }
     },
     "edd5095e373e4f9d97f7e30e9c914be9": {
      "model_module": "@jupyter-widgets/controls",
      "model_module_version": "1.5.0",
      "model_name": "ProgressStyleModel",
      "state": {
       "description_width": "initial"
      }
     },
     "ede7b9a1b5344eb792d0fdeb57c44974": {
      "model_module": "@jupyter-widgets/base",
      "model_module_version": "1.2.0",
      "model_name": "LayoutModel",
      "state": {
       "display": "inline-flex",
       "flex_flow": "row wrap",
       "width": "100%"
      }
     },
     "ee5e3d76ec534801aab54e9e27a27c78": {
      "model_module": "@jupyter-widgets/controls",
      "model_module_version": "1.5.0",
      "model_name": "DescriptionStyleModel",
      "state": {
       "description_width": ""
      }
     },
     "ee65ac81ea864ad99d54b4257e9ea470": {
      "model_module": "@jupyter-widgets/base",
      "model_module_version": "1.2.0",
      "model_name": "LayoutModel",
      "state": {
       "flex": "2"
      }
     },
     "ee7d40fdc5914d9b89d7296916cd6ddf": {
      "model_module": "@jupyter-widgets/base",
      "model_module_version": "1.2.0",
      "model_name": "LayoutModel",
      "state": {}
     },
     "ee8567d0f02c4f778021db56b834050f": {
      "model_module": "@jupyter-widgets/controls",
      "model_module_version": "1.5.0",
      "model_name": "HTMLModel",
      "state": {
       "layout": "IPY_MODEL_8f0a3a5bd5834635a5d8f2168d22a0e6",
       "style": "IPY_MODEL_fe965b1913af48fda8437dd21738cd50",
       "value": " ETA: 00:00s - loss: 0.0326 - val_loss: 0.0351"
      }
     },
     "ee94f82dc4c3433b8641556962f4aa15": {
      "model_module": "@jupyter-widgets/controls",
      "model_module_version": "1.5.0",
      "model_name": "DescriptionStyleModel",
      "state": {
       "description_width": ""
      }
     },
     "eea675fbd142405eba2ac61cc5c4fc7d": {
      "model_module": "@jupyter-widgets/controls",
      "model_module_version": "1.5.0",
      "model_name": "HBoxModel",
      "state": {
       "children": [
        "IPY_MODEL_df71ccfb147c44ceaa51f5fa00d458b7",
        "IPY_MODEL_9aad18c51c024b19a5f094b37580baa3"
       ],
       "layout": "IPY_MODEL_cd71861600c345fa9c5aafb0e526a2b8"
      }
     },
     "eec8d62feeaf4580b444ff005eaf01ee": {
      "model_module": "@jupyter-widgets/base",
      "model_module_version": "1.2.0",
      "model_name": "LayoutModel",
      "state": {}
     },
     "eee8ba914c9040f9964ee3d6c48f67f4": {
      "model_module": "@jupyter-widgets/base",
      "model_module_version": "1.2.0",
      "model_name": "LayoutModel",
      "state": {
       "flex": "2"
      }
     },
     "eef178bf42ac4f62865bb22d90fab465": {
      "model_module": "@jupyter-widgets/controls",
      "model_module_version": "1.5.0",
      "model_name": "DescriptionStyleModel",
      "state": {
       "description_width": ""
      }
     },
     "eefc95b1c8b549908aa45f3b8271a754": {
      "model_module": "@jupyter-widgets/controls",
      "model_module_version": "1.5.0",
      "model_name": "HBoxModel",
      "state": {
       "children": [
        "IPY_MODEL_caa2c00ab7334a618cae2a5787b792ff",
        "IPY_MODEL_c158068403674174968a06bfbaeea666"
       ],
       "layout": "IPY_MODEL_4e62bad4edb64c54b511222bcc56acbb"
      }
     },
     "ef136b75f68c4275bad0002026fd81ac": {
      "model_module": "@jupyter-widgets/base",
      "model_module_version": "1.2.0",
      "model_name": "LayoutModel",
      "state": {}
     },
     "ef185ee7b3f544338956ce27ffc74c78": {
      "model_module": "@jupyter-widgets/controls",
      "model_module_version": "1.5.0",
      "model_name": "HTMLModel",
      "state": {
       "layout": "IPY_MODEL_a74cef01cf1f4262acc0222c2d8a17d3",
       "style": "IPY_MODEL_9083557d61544433b0093ebb1b9b04c1",
       "value": " ETA: 00:00s - loss: -1.8382 - val_loss: -1.7994"
      }
     },
     "ef2e7d2a29df49dabc26dcb3884e2208": {
      "model_module": "@jupyter-widgets/controls",
      "model_module_version": "1.5.0",
      "model_name": "ProgressStyleModel",
      "state": {
       "description_width": "initial"
      }
     },
     "ef50a8fec4e54533ba03db680f9dbf6e": {
      "model_module": "@jupyter-widgets/base",
      "model_module_version": "1.2.0",
      "model_name": "LayoutModel",
      "state": {
       "flex": "2"
      }
     },
     "ef5d1f5f96624531b35ff6d0220d21de": {
      "model_module": "@jupyter-widgets/base",
      "model_module_version": "1.2.0",
      "model_name": "LayoutModel",
      "state": {
       "flex": "2"
      }
     },
     "ef9cbd83614d48c794df208c0cae4147": {
      "model_module": "@jupyter-widgets/controls",
      "model_module_version": "1.5.0",
      "model_name": "ProgressStyleModel",
      "state": {
       "description_width": "initial"
      }
     },
     "efd5fd0672f94cf880085777dabcfae9": {
      "model_module": "@jupyter-widgets/base",
      "model_module_version": "1.2.0",
      "model_name": "LayoutModel",
      "state": {
       "flex": "2"
      }
     },
     "effe8cb0a6cd4addba7313e3f4fcce36": {
      "model_module": "@jupyter-widgets/base",
      "model_module_version": "1.2.0",
      "model_name": "LayoutModel",
      "state": {}
     },
     "f0192575844449bab20393491dca9cf0": {
      "model_module": "@jupyter-widgets/base",
      "model_module_version": "1.2.0",
      "model_name": "LayoutModel",
      "state": {
       "flex": "2"
      }
     },
     "f01c8b09cc17463190b4328a0a1f35ff": {
      "model_module": "@jupyter-widgets/base",
      "model_module_version": "1.2.0",
      "model_name": "LayoutModel",
      "state": {
       "display": "inline-flex",
       "flex_flow": "row wrap",
       "width": "100%"
      }
     },
     "f035ff12ce5b4458a76e3851b174beaf": {
      "model_module": "@jupyter-widgets/controls",
      "model_module_version": "1.5.0",
      "model_name": "HTMLModel",
      "state": {
       "layout": "IPY_MODEL_d5eb2e0872c2437eb3e82c8f48b0a696",
       "style": "IPY_MODEL_828b6e35897845dba58ad9d94976613f",
       "value": " ETA: 00:00s - loss: 0.0852 - val_loss: 0.0845"
      }
     },
     "f03b1b35d8f34cbd9d5cb868ebde8dc8": {
      "model_module": "@jupyter-widgets/controls",
      "model_module_version": "1.5.0",
      "model_name": "HTMLModel",
      "state": {
       "layout": "IPY_MODEL_9b020d8b4408419e82c753fef6e9a417",
       "style": "IPY_MODEL_1b004a0418b64841a36336c27c9e8126",
       "value": " ETA: 00:00s - loss: -1.8083 - val_loss: -1.7992"
      }
     },
     "f043e0e1ecc74b1b8b4aa2d0c94a03c9": {
      "model_module": "@jupyter-widgets/controls",
      "model_module_version": "1.5.0",
      "model_name": "ProgressStyleModel",
      "state": {
       "description_width": "initial"
      }
     },
     "f07b3fd4e431419aa9e44bdae2821db8": {
      "model_module": "@jupyter-widgets/controls",
      "model_module_version": "1.5.0",
      "model_name": "FloatProgressModel",
      "state": {
       "bar_style": "success",
       "description": "5625/5625",
       "layout": "IPY_MODEL_7a48e322249c4348817c05ed06999abc",
       "max": 5625,
       "style": "IPY_MODEL_839e59e0369d4620970a8befadf3137d",
       "value": 5625
      }
     },
     "f08e23eff3ca420bbeb5143c16966801": {
      "model_module": "@jupyter-widgets/controls",
      "model_module_version": "1.5.0",
      "model_name": "DescriptionStyleModel",
      "state": {
       "description_width": ""
      }
     },
     "f099c5538add40e8aaeab3a7b63e9bc9": {
      "model_module": "@jupyter-widgets/controls",
      "model_module_version": "1.5.0",
      "model_name": "HTMLModel",
      "state": {
       "layout": "IPY_MODEL_03bacde4728b40578c68c7d4e2430fa6",
       "style": "IPY_MODEL_9e7972f203f94d49afd92b654cd05175",
       "value": " ETA: 00:00s - loss: 0.0838 - val_loss: 0.0821"
      }
     },
     "f0b2b81ae76d4cd7a435a54316daa2b2": {
      "model_module": "@jupyter-widgets/base",
      "model_module_version": "1.2.0",
      "model_name": "LayoutModel",
      "state": {
       "flex": "2"
      }
     },
     "f0d8d2c83de1439ba88be131b31e22c1": {
      "model_module": "@jupyter-widgets/controls",
      "model_module_version": "1.5.0",
      "model_name": "FloatProgressModel",
      "state": {
       "bar_style": "danger",
       "description": "Training:   8%",
       "layout": "IPY_MODEL_ed1689fd545a4625b730864e03791b2a",
       "max": 1000,
       "style": "IPY_MODEL_ffe15e6369354e449e40a4a6de39f987",
       "value": 75
      }
     },
     "f135dc7596bf4909b3e4603bdf211edd": {
      "model_module": "@jupyter-widgets/controls",
      "model_module_version": "1.5.0",
      "model_name": "HBoxModel",
      "state": {
       "children": [
        "IPY_MODEL_7fd16e3d094f44679398affe68382651",
        "IPY_MODEL_c182911a0ced461daea09050c5fa75e6"
       ],
       "layout": "IPY_MODEL_a183864f9c3a40749df8f73975eea213"
      }
     },
     "f13cb548f7c745ff9caef71ffc21160a": {
      "model_module": "@jupyter-widgets/base",
      "model_module_version": "1.2.0",
      "model_name": "LayoutModel",
      "state": {
       "flex": "2"
      }
     },
     "f142be46686d4291ae73e2654f92b04c": {
      "model_module": "@jupyter-widgets/controls",
      "model_module_version": "1.5.0",
      "model_name": "HBoxModel",
      "state": {
       "children": [
        "IPY_MODEL_5f396f4d1759496c888751d81f72c8e3",
        "IPY_MODEL_27f6472183604dac9788235e854067a5"
       ],
       "layout": "IPY_MODEL_3a6ad3f527194d7d8c7af9537a984ac6"
      }
     },
     "f15ef0c084d14629866e3e6ec63a5784": {
      "model_module": "@jupyter-widgets/controls",
      "model_module_version": "1.5.0",
      "model_name": "DescriptionStyleModel",
      "state": {
       "description_width": ""
      }
     },
     "f162764b57ab41d69f466b043fad6495": {
      "model_module": "@jupyter-widgets/controls",
      "model_module_version": "1.5.0",
      "model_name": "FloatProgressModel",
      "state": {
       "bar_style": "success",
       "description": "5625/5625",
       "layout": "IPY_MODEL_2cb9bae638814127b93c64451de69bb5",
       "max": 5625,
       "style": "IPY_MODEL_c994078314864001964178c85264faf7",
       "value": 5625
      }
     },
     "f1761c5dbf15463a980b645aa49b457e": {
      "model_module": "@jupyter-widgets/controls",
      "model_module_version": "1.5.0",
      "model_name": "DescriptionStyleModel",
      "state": {
       "description_width": ""
      }
     },
     "f1ae24b4bc164e3596d3a440385a2759": {
      "model_module": "@jupyter-widgets/base",
      "model_module_version": "1.2.0",
      "model_name": "LayoutModel",
      "state": {
       "flex": "2"
      }
     },
     "f20708811e78480ab6321debb0ca9855": {
      "model_module": "@jupyter-widgets/controls",
      "model_module_version": "1.5.0",
      "model_name": "FloatProgressModel",
      "state": {
       "bar_style": "success",
       "description": "5625/5625",
       "layout": "IPY_MODEL_d069e8dbc224411e8ccc0738da580617",
       "max": 5625,
       "style": "IPY_MODEL_edd5095e373e4f9d97f7e30e9c914be9",
       "value": 5625
      }
     },
     "f20be0134c40433bb969ebf4db367fda": {
      "model_module": "@jupyter-widgets/controls",
      "model_module_version": "1.5.0",
      "model_name": "FloatProgressModel",
      "state": {
       "bar_style": "success",
       "description": "5625/5625",
       "layout": "IPY_MODEL_6f240264d61c43d08f21882331ce4556",
       "max": 5625,
       "style": "IPY_MODEL_aacac49af6c64915982e33a6f518a813",
       "value": 5625
      }
     },
     "f21dda2fa6584a1ba5cfcce4c2a88255": {
      "model_module": "@jupyter-widgets/base",
      "model_module_version": "1.2.0",
      "model_name": "LayoutModel",
      "state": {}
     },
     "f23217310359490a88d54954bcb9e6c7": {
      "model_module": "@jupyter-widgets/base",
      "model_module_version": "1.2.0",
      "model_name": "LayoutModel",
      "state": {
       "flex": "2"
      }
     },
     "f2505d5fec774e38aebd335fc5c9b3fa": {
      "model_module": "@jupyter-widgets/controls",
      "model_module_version": "1.5.0",
      "model_name": "FloatProgressModel",
      "state": {
       "bar_style": "success",
       "description": "5625/5625",
       "layout": "IPY_MODEL_bb85df7abf13401183abaf5307cf5df9",
       "max": 5625,
       "style": "IPY_MODEL_2a9093f4e9cb4f1fbe3adc813d8d42bc",
       "value": 5625
      }
     },
     "f250f86010e348bb80fec4fed3b050a2": {
      "model_module": "@jupyter-widgets/controls",
      "model_module_version": "1.5.0",
      "model_name": "DescriptionStyleModel",
      "state": {
       "description_width": ""
      }
     },
     "f271dff7ebba4a83bfd0e85df95c6a67": {
      "model_module": "@jupyter-widgets/base",
      "model_module_version": "1.2.0",
      "model_name": "LayoutModel",
      "state": {
       "flex": "2"
      }
     },
     "f28e6c8471ef4a85a206af36219897c2": {
      "model_module": "@jupyter-widgets/controls",
      "model_module_version": "1.5.0",
      "model_name": "HBoxModel",
      "state": {
       "children": [
        "IPY_MODEL_eaebe29155df4d1e84cb714656e2c4a3",
        "IPY_MODEL_49e1bce2062b4a869be3fa8d923fb3c1"
       ],
       "layout": "IPY_MODEL_4dd617fe7fa6401693b55c729f629879"
      }
     },
     "f29a92e9793f46c98ab6c717d99e7bfd": {
      "model_module": "@jupyter-widgets/controls",
      "model_module_version": "1.5.0",
      "model_name": "HTMLModel",
      "state": {
       "layout": "IPY_MODEL_c8bd72d782a24860b3158c6e878097a4",
       "style": "IPY_MODEL_304cf37763fe41cda9d110df73176698",
       "value": " ETA: 00:00s - loss: -1.7951 - val_loss: -1.7853"
      }
     },
     "f2b3ceda01b446e0b94c63ad1a0f3e66": {
      "model_module": "@jupyter-widgets/base",
      "model_module_version": "1.2.0",
      "model_name": "LayoutModel",
      "state": {
       "flex": "2"
      }
     },
     "f2c799feeddc4044b76d05f439d5cf53": {
      "model_module": "@jupyter-widgets/base",
      "model_module_version": "1.2.0",
      "model_name": "LayoutModel",
      "state": {
       "display": "inline-flex",
       "flex_flow": "row wrap",
       "width": "100%"
      }
     },
     "f2c9f385087e44899d83d97fa2a602da": {
      "model_module": "@jupyter-widgets/controls",
      "model_module_version": "1.5.0",
      "model_name": "HTMLModel",
      "state": {
       "layout": "IPY_MODEL_061c5c6046f04cb4b3fdbdd5c5d1b22c",
       "style": "IPY_MODEL_0a9e001af27c4b1fbc1d9251f5ed43c0",
       "value": " ETA: 00:00s - loss: 0.0265 - val_loss: 0.0285"
      }
     },
     "f2cbc9d23c4e475bb88537ae9b3e9723": {
      "model_module": "@jupyter-widgets/base",
      "model_module_version": "1.2.0",
      "model_name": "LayoutModel",
      "state": {
       "flex": "2"
      }
     },
     "f2d232671fbd40c79891800d34781dee": {
      "model_module": "@jupyter-widgets/controls",
      "model_module_version": "1.5.0",
      "model_name": "FloatProgressModel",
      "state": {
       "bar_style": "success",
       "description": "5625/5625",
       "layout": "IPY_MODEL_94db369305ae40e9944b506e779234e8",
       "max": 5625,
       "style": "IPY_MODEL_10756dd001094946b94429574e5fdd70",
       "value": 5625
      }
     },
     "f31ef8d597e742c7b4bd7b6a1b1f0166": {
      "model_module": "@jupyter-widgets/controls",
      "model_module_version": "1.5.0",
      "model_name": "ProgressStyleModel",
      "state": {
       "description_width": "initial"
      }
     },
     "f324da9e6bd940f7ad3b38df8a8bd45a": {
      "model_module": "@jupyter-widgets/base",
      "model_module_version": "1.2.0",
      "model_name": "LayoutModel",
      "state": {}
     },
     "f3486e3e950640ab811f43618ffeb612": {
      "model_module": "@jupyter-widgets/controls",
      "model_module_version": "1.5.0",
      "model_name": "HTMLModel",
      "state": {
       "layout": "IPY_MODEL_b335ffa018f64f6f91d244bb15889856",
       "style": "IPY_MODEL_6a2d6e7d9e8d464d9c937369c854cb7a",
       "value": " ETA: 00:00s - loss: 0.0290 - val_loss: 0.0295"
      }
     },
     "f3541016173e4e5c8606a9eeae2fb04c": {
      "model_module": "@jupyter-widgets/base",
      "model_module_version": "1.2.0",
      "model_name": "LayoutModel",
      "state": {}
     },
     "f36817f11e8c40f2805e9dfce71a0d20": {
      "model_module": "@jupyter-widgets/base",
      "model_module_version": "1.2.0",
      "model_name": "LayoutModel",
      "state": {
       "display": "inline-flex",
       "flex_flow": "row wrap",
       "width": "100%"
      }
     },
     "f373725e8e0a4de593f38dac3a99e085": {
      "model_module": "@jupyter-widgets/controls",
      "model_module_version": "1.5.0",
      "model_name": "HBoxModel",
      "state": {
       "children": [
        "IPY_MODEL_b58cefe80db140b48aa37b118592d4dc",
        "IPY_MODEL_3e623adb61d84051b44fcd0f471f627e"
       ],
       "layout": "IPY_MODEL_01fc35fa53b444ba9ca7fa51e9597ee9"
      }
     },
     "f374c21aa11742418741104999653857": {
      "model_module": "@jupyter-widgets/base",
      "model_module_version": "1.2.0",
      "model_name": "LayoutModel",
      "state": {
       "display": "inline-flex",
       "flex_flow": "row wrap",
       "width": "100%"
      }
     },
     "f37567ed26f64832b80130ab6b48cd26": {
      "model_module": "@jupyter-widgets/controls",
      "model_module_version": "1.5.0",
      "model_name": "HTMLModel",
      "state": {
       "layout": "IPY_MODEL_594e3fc22e134675bbcc816734f97ef0",
       "style": "IPY_MODEL_7892ad685feb483ab9ea3b4089e00b8a",
       "value": " ETA: 00:00s - loss: 0.0764 - val_loss: 0.0756"
      }
     },
     "f3a09a1cc552499ca3b642c7a4d299c2": {
      "model_module": "@jupyter-widgets/base",
      "model_module_version": "1.2.0",
      "model_name": "LayoutModel",
      "state": {
       "flex": "2"
      }
     },
     "f3ba1ae03d4e40e0b9d6cb1a632aeb74": {
      "model_module": "@jupyter-widgets/controls",
      "model_module_version": "1.5.0",
      "model_name": "DescriptionStyleModel",
      "state": {
       "description_width": ""
      }
     },
     "f3c6d65a3e3046c6b41a448b4fb9eb5b": {
      "model_module": "@jupyter-widgets/controls",
      "model_module_version": "1.5.0",
      "model_name": "DescriptionStyleModel",
      "state": {
       "description_width": ""
      }
     },
     "f3d29a8c1427498ea836cac71cfac6e2": {
      "model_module": "@jupyter-widgets/controls",
      "model_module_version": "1.5.0",
      "model_name": "HBoxModel",
      "state": {
       "children": [
        "IPY_MODEL_8b8d45b94cc24b04a8240ef26362d0a9",
        "IPY_MODEL_b154f5ef9da84794b2cddba5d6c7b0ef"
       ],
       "layout": "IPY_MODEL_4f66d43259334a3394fb4ec11ad063a4"
      }
     },
     "f3e4ddecb67e43d3bec438c394227bd0": {
      "model_module": "@jupyter-widgets/controls",
      "model_module_version": "1.5.0",
      "model_name": "FloatProgressModel",
      "state": {
       "bar_style": "success",
       "description": "5625/5625",
       "layout": "IPY_MODEL_95091b8f5cb94905b9edfb5ee5d8016a",
       "max": 5625,
       "style": "IPY_MODEL_0cc4d222c5a54e5c9a02d1ae63974a8d",
       "value": 5625
      }
     },
     "f3fc94c914a2439196f7505bafd4e85f": {
      "model_module": "@jupyter-widgets/base",
      "model_module_version": "1.2.0",
      "model_name": "LayoutModel",
      "state": {
       "display": "inline-flex",
       "flex_flow": "row wrap",
       "width": "100%"
      }
     },
     "f40177fbb25f4093832fb3c75247e56a": {
      "model_module": "@jupyter-widgets/base",
      "model_module_version": "1.2.0",
      "model_name": "LayoutModel",
      "state": {}
     },
     "f4223428c5c34230bd9af601d5b9ab48": {
      "model_module": "@jupyter-widgets/controls",
      "model_module_version": "1.5.0",
      "model_name": "FloatProgressModel",
      "state": {
       "bar_style": "success",
       "description": "5625/5625",
       "layout": "IPY_MODEL_5cbea8ae5f2c4b69a868383a2f6a3178",
       "max": 5625,
       "style": "IPY_MODEL_00293057dc4e499d8c939a0e4d63101a",
       "value": 5625
      }
     },
     "f44535c556344c8e80b874873d42da8f": {
      "model_module": "@jupyter-widgets/controls",
      "model_module_version": "1.5.0",
      "model_name": "ProgressStyleModel",
      "state": {
       "description_width": "initial"
      }
     },
     "f468a193254a4cb89add736790e22912": {
      "model_module": "@jupyter-widgets/base",
      "model_module_version": "1.2.0",
      "model_name": "LayoutModel",
      "state": {}
     },
     "f4696e31c4f24e56a79da7fbb02cde9a": {
      "model_module": "@jupyter-widgets/controls",
      "model_module_version": "1.5.0",
      "model_name": "DescriptionStyleModel",
      "state": {
       "description_width": ""
      }
     },
     "f46fc740d3fc4dbcb817c32a0b7b7208": {
      "model_module": "@jupyter-widgets/controls",
      "model_module_version": "1.5.0",
      "model_name": "FloatProgressModel",
      "state": {
       "bar_style": "success",
       "description": "5625/5625",
       "layout": "IPY_MODEL_2b758ff74207480e841abaede94d4f6f",
       "max": 5625,
       "style": "IPY_MODEL_e069967ef2224492bafe2e3d2f7b19f8",
       "value": 5625
      }
     },
     "f4757107cafd4e11b898c92483dd93b7": {
      "model_module": "@jupyter-widgets/base",
      "model_module_version": "1.2.0",
      "model_name": "LayoutModel",
      "state": {
       "display": "inline-flex",
       "flex_flow": "row wrap",
       "width": "100%"
      }
     },
     "f49beb1d805a42b08034995a1b4b38c8": {
      "model_module": "@jupyter-widgets/controls",
      "model_module_version": "1.5.0",
      "model_name": "FloatProgressModel",
      "state": {
       "bar_style": "success",
       "description": "5625/5625",
       "layout": "IPY_MODEL_43ba4e5300c74b8eb3257c90f303b44d",
       "max": 5625,
       "style": "IPY_MODEL_c938425f2439454887fb8a93c26df718",
       "value": 5625
      }
     },
     "f4c19361f3e345e096530398cf22c2bd": {
      "model_module": "@jupyter-widgets/base",
      "model_module_version": "1.2.0",
      "model_name": "LayoutModel",
      "state": {}
     },
     "f4d9138e214a4116a96f5e0de92b0ef2": {
      "model_module": "@jupyter-widgets/controls",
      "model_module_version": "1.5.0",
      "model_name": "ProgressStyleModel",
      "state": {
       "description_width": "initial"
      }
     },
     "f52239cc23de4d90beb0663de4d5fbc1": {
      "model_module": "@jupyter-widgets/controls",
      "model_module_version": "1.5.0",
      "model_name": "HTMLModel",
      "state": {
       "layout": "IPY_MODEL_49017f2bf1534b4cb7ec596e0d3f0c74",
       "style": "IPY_MODEL_b4af88cfacd540ba928ed04523d04448",
       "value": " ETA: 00:00s - loss: 0.0705 - val_loss: 0.0723"
      }
     },
     "f52dc2a16e364fdabd309d1235f7ca64": {
      "model_module": "@jupyter-widgets/controls",
      "model_module_version": "1.5.0",
      "model_name": "ProgressStyleModel",
      "state": {
       "description_width": "initial"
      }
     },
     "f556bb6c0aab41d7a1efe9599137d204": {
      "model_module": "@jupyter-widgets/base",
      "model_module_version": "1.2.0",
      "model_name": "LayoutModel",
      "state": {
       "display": "inline-flex",
       "flex_flow": "row wrap",
       "width": "100%"
      }
     },
     "f55f9f3979094f579c780dd2eceef2c8": {
      "model_module": "@jupyter-widgets/controls",
      "model_module_version": "1.5.0",
      "model_name": "DescriptionStyleModel",
      "state": {
       "description_width": ""
      }
     },
     "f59919a3df97442c809578d9ea61234a": {
      "model_module": "@jupyter-widgets/base",
      "model_module_version": "1.2.0",
      "model_name": "LayoutModel",
      "state": {
       "display": "inline-flex",
       "flex_flow": "row wrap",
       "width": "100%"
      }
     },
     "f5ac9d2289594430a1e0db9899fdd93c": {
      "model_module": "@jupyter-widgets/controls",
      "model_module_version": "1.5.0",
      "model_name": "ProgressStyleModel",
      "state": {
       "description_width": "initial"
      }
     },
     "f5b0501745354328be5631e6b8ebaf14": {
      "model_module": "@jupyter-widgets/controls",
      "model_module_version": "1.5.0",
      "model_name": "FloatProgressModel",
      "state": {
       "bar_style": "success",
       "description": "5625/5625",
       "layout": "IPY_MODEL_bc9105f003e44f67a87d841fffc66cca",
       "max": 5625,
       "style": "IPY_MODEL_1ae76efdffe848d7bd02ed8a8ee702b2",
       "value": 5625
      }
     },
     "f5b5ab908f0248298ba1a242bf7d422a": {
      "model_module": "@jupyter-widgets/controls",
      "model_module_version": "1.5.0",
      "model_name": "FloatProgressModel",
      "state": {
       "bar_style": "success",
       "description": "5625/5625",
       "layout": "IPY_MODEL_4451086069d14de58190c79dd326a089",
       "max": 5625,
       "style": "IPY_MODEL_6d19ac744ab74da3856cd073def1a20f",
       "value": 5625
      }
     },
     "f5b96f44470c434e9f0e81a92caee14c": {
      "model_module": "@jupyter-widgets/base",
      "model_module_version": "1.2.0",
      "model_name": "LayoutModel",
      "state": {
       "display": "inline-flex",
       "flex_flow": "row wrap",
       "width": "100%"
      }
     },
     "f5e44f1052104b3c8e6799cf2d74ce34": {
      "model_module": "@jupyter-widgets/controls",
      "model_module_version": "1.5.0",
      "model_name": "FloatProgressModel",
      "state": {
       "bar_style": "success",
       "description": "5625/5625",
       "layout": "IPY_MODEL_bf5186e64f86468394f9c4c8a5574861",
       "max": 5625,
       "style": "IPY_MODEL_ea38cfa17f4945bb83085d82e3107f4c",
       "value": 5625
      }
     },
     "f600c3e648fb4911b1fac167d849054d": {
      "model_module": "@jupyter-widgets/base",
      "model_module_version": "1.2.0",
      "model_name": "LayoutModel",
      "state": {}
     },
     "f6281adf67514ad4b00cac041ede4fdd": {
      "model_module": "@jupyter-widgets/base",
      "model_module_version": "1.2.0",
      "model_name": "LayoutModel",
      "state": {
       "flex": "2"
      }
     },
     "f6679008e95d4ee18b204d69948fac24": {
      "model_module": "@jupyter-widgets/base",
      "model_module_version": "1.2.0",
      "model_name": "LayoutModel",
      "state": {}
     },
     "f672f77c36a549fa9eef5d757db477ad": {
      "model_module": "@jupyter-widgets/base",
      "model_module_version": "1.2.0",
      "model_name": "LayoutModel",
      "state": {
       "flex": "2"
      }
     },
     "f676fdd607fa4771b4a3fe66c64f9cc4": {
      "model_module": "@jupyter-widgets/base",
      "model_module_version": "1.2.0",
      "model_name": "LayoutModel",
      "state": {
       "display": "inline-flex",
       "flex_flow": "row wrap",
       "width": "100%"
      }
     },
     "f698e45ea86342d8a7b89babb74c9570": {
      "model_module": "@jupyter-widgets/base",
      "model_module_version": "1.2.0",
      "model_name": "LayoutModel",
      "state": {
       "flex": "2"
      }
     },
     "f6a1b25383994ff4bcdff829537fc15d": {
      "model_module": "@jupyter-widgets/controls",
      "model_module_version": "1.5.0",
      "model_name": "FloatProgressModel",
      "state": {
       "bar_style": "success",
       "description": "5625/5625",
       "layout": "IPY_MODEL_0da6e4c491104b98b4229571a3f706ef",
       "max": 5625,
       "style": "IPY_MODEL_9c413e49535e47af89f6b3114bfc4d3b",
       "value": 5625
      }
     },
     "f6b95a5cc49a4246bd98e77454e5da6f": {
      "model_module": "@jupyter-widgets/controls",
      "model_module_version": "1.5.0",
      "model_name": "FloatProgressModel",
      "state": {
       "bar_style": "success",
       "description": "5625/5625",
       "layout": "IPY_MODEL_2464439c158e44da8357618cd34faae4",
       "max": 5625,
       "style": "IPY_MODEL_6eafe0273d8743488954eb47948b7b8e",
       "value": 5625
      }
     },
     "f6cf30019b244a8e81efc544653a337d": {
      "model_module": "@jupyter-widgets/base",
      "model_module_version": "1.2.0",
      "model_name": "LayoutModel",
      "state": {}
     },
     "f6d3cf30284b47cfaab970e4a3864a15": {
      "model_module": "@jupyter-widgets/controls",
      "model_module_version": "1.5.0",
      "model_name": "DescriptionStyleModel",
      "state": {
       "description_width": ""
      }
     },
     "f6ee7a71c5c54e4baa8bec39dd5a2fc3": {
      "model_module": "@jupyter-widgets/base",
      "model_module_version": "1.2.0",
      "model_name": "LayoutModel",
      "state": {
       "display": "inline-flex",
       "flex_flow": "row wrap",
       "width": "100%"
      }
     },
     "f6ff76ac9aa04dfb9438a03438c14123": {
      "model_module": "@jupyter-widgets/controls",
      "model_module_version": "1.5.0",
      "model_name": "ProgressStyleModel",
      "state": {
       "description_width": "initial"
      }
     },
     "f74b755605364286aac3a1cece30e465": {
      "model_module": "@jupyter-widgets/controls",
      "model_module_version": "1.5.0",
      "model_name": "DescriptionStyleModel",
      "state": {
       "description_width": ""
      }
     },
     "f78b6ce0978f448fbbe52f03dadfa9bd": {
      "model_module": "@jupyter-widgets/controls",
      "model_module_version": "1.5.0",
      "model_name": "FloatProgressModel",
      "state": {
       "bar_style": "success",
       "description": "5625/5625",
       "layout": "IPY_MODEL_27ccc37087114be197731614e9eeddc9",
       "max": 5625,
       "style": "IPY_MODEL_5281b6979b934e62bc254c9b497e340e",
       "value": 5625
      }
     },
     "f7947b66320140bd84fa36a94e80cd40": {
      "model_module": "@jupyter-widgets/controls",
      "model_module_version": "1.5.0",
      "model_name": "HBoxModel",
      "state": {
       "children": [
        "IPY_MODEL_bd5badc3c5734a06a504c898ac679051",
        "IPY_MODEL_2a87728eb0c74fd4b2264c794c870dbc"
       ],
       "layout": "IPY_MODEL_ff0720283be842cca7380c65035fff41"
      }
     },
     "f7966c663bdd46bb9c551ebc2f517b79": {
      "model_module": "@jupyter-widgets/base",
      "model_module_version": "1.2.0",
      "model_name": "LayoutModel",
      "state": {
       "display": "inline-flex",
       "flex_flow": "row wrap",
       "width": "100%"
      }
     },
     "f7cbb612ae4248db87afe01b5448df07": {
      "model_module": "@jupyter-widgets/controls",
      "model_module_version": "1.5.0",
      "model_name": "DescriptionStyleModel",
      "state": {
       "description_width": ""
      }
     },
     "f7ec540d303b42c2a3e7e28a09a52b98": {
      "model_module": "@jupyter-widgets/controls",
      "model_module_version": "1.5.0",
      "model_name": "HTMLModel",
      "state": {
       "layout": "IPY_MODEL_3c0824e181354cd38ef825423f29d636",
       "style": "IPY_MODEL_5852dcbc881449d0bc87a770dcca4dd7",
       "value": " ETA: 00:00s - loss: -1.8319 - val_loss: -1.8007"
      }
     },
     "f80ee98a3df94e25b9240a2447cbd23c": {
      "model_module": "@jupyter-widgets/controls",
      "model_module_version": "1.5.0",
      "model_name": "FloatProgressModel",
      "state": {
       "bar_style": "success",
       "description": "5625/5625",
       "layout": "IPY_MODEL_5f1ba0b38c2c43b9a5de7beadcb6612e",
       "max": 5625,
       "style": "IPY_MODEL_e44975826bee4182b2a32e6020fec1b8",
       "value": 5625
      }
     },
     "f824a8b32504423d886bfffd2263aa65": {
      "model_module": "@jupyter-widgets/base",
      "model_module_version": "1.2.0",
      "model_name": "LayoutModel",
      "state": {
       "display": "inline-flex",
       "flex_flow": "row wrap",
       "width": "100%"
      }
     },
     "f87546397aec4f2c835809bb4b1f21a7": {
      "model_module": "@jupyter-widgets/controls",
      "model_module_version": "1.5.0",
      "model_name": "FloatProgressModel",
      "state": {
       "bar_style": "success",
       "description": "5625/5625",
       "layout": "IPY_MODEL_912785b74b1240fea036ee1d95b8b3e5",
       "max": 5625,
       "style": "IPY_MODEL_7b39e9cacacb46b0bb096fd15db1fde4",
       "value": 5625
      }
     },
     "f8a4dbec2e23410a84b60954c9fa1655": {
      "model_module": "@jupyter-widgets/base",
      "model_module_version": "1.2.0",
      "model_name": "LayoutModel",
      "state": {
       "display": "inline-flex",
       "flex_flow": "row wrap",
       "width": "100%"
      }
     },
     "f8cfe86b75c54d9e80519c67df3c7139": {
      "model_module": "@jupyter-widgets/controls",
      "model_module_version": "1.5.0",
      "model_name": "FloatProgressModel",
      "state": {
       "bar_style": "success",
       "description": "5625/5625",
       "layout": "IPY_MODEL_83a47033211b48b0bc0ef0fe43fb79f7",
       "max": 5625,
       "style": "IPY_MODEL_77bc822b40954593ae374564b7f47cd0",
       "value": 5625
      }
     },
     "f8d54f3766db46b68402a3ab6d6f5433": {
      "model_module": "@jupyter-widgets/base",
      "model_module_version": "1.2.0",
      "model_name": "LayoutModel",
      "state": {
       "flex": "2"
      }
     },
     "f8d5d3dc481a4c908280a77bac49ce93": {
      "model_module": "@jupyter-widgets/base",
      "model_module_version": "1.2.0",
      "model_name": "LayoutModel",
      "state": {
       "display": "inline-flex",
       "flex_flow": "row wrap",
       "width": "100%"
      }
     },
     "f8da2b85bf8541089ca333a40c877b93": {
      "model_module": "@jupyter-widgets/base",
      "model_module_version": "1.2.0",
      "model_name": "LayoutModel",
      "state": {}
     },
     "f922cdd6577e4c5b8fe253837386b636": {
      "model_module": "@jupyter-widgets/controls",
      "model_module_version": "1.5.0",
      "model_name": "HTMLModel",
      "state": {
       "layout": "IPY_MODEL_d53433d442c146dab39f3f4e71fa43c9",
       "style": "IPY_MODEL_4396fa218eb6415daa8885f123ddb9d7",
       "value": " ETA: 00:00s - loss: -0.7406 - val_loss: -1.0095"
      }
     },
     "f95ab70638324ace9f515e227f4a8092": {
      "model_module": "@jupyter-widgets/base",
      "model_module_version": "1.2.0",
      "model_name": "LayoutModel",
      "state": {}
     },
     "f95bb231f2a34c86bfae664ddbb86fa6": {
      "model_module": "@jupyter-widgets/controls",
      "model_module_version": "1.5.0",
      "model_name": "DescriptionStyleModel",
      "state": {
       "description_width": ""
      }
     },
     "f973fa23b3ae454f8c8143721dd3c9f3": {
      "model_module": "@jupyter-widgets/base",
      "model_module_version": "1.2.0",
      "model_name": "LayoutModel",
      "state": {
       "flex": "2"
      }
     },
     "f975f3f0ec9446749a2fb187e54903aa": {
      "model_module": "@jupyter-widgets/controls",
      "model_module_version": "1.5.0",
      "model_name": "HTMLModel",
      "state": {
       "layout": "IPY_MODEL_1d7cf0884745483c9b79ac52745217ce",
       "style": "IPY_MODEL_a5e66844abd347c2ac7740fca17e4b88",
       "value": " ETA: 00:00s - loss: -1.8408 - val_loss: -1.8059"
      }
     },
     "f97d6dd9ac9a4a79b309d34f50cc6123": {
      "model_module": "@jupyter-widgets/controls",
      "model_module_version": "1.5.0",
      "model_name": "ProgressStyleModel",
      "state": {
       "description_width": "initial"
      }
     },
     "f98c5e4480ed440a840e6722d89f1227": {
      "model_module": "@jupyter-widgets/controls",
      "model_module_version": "1.5.0",
      "model_name": "DescriptionStyleModel",
      "state": {
       "description_width": ""
      }
     },
     "f997c33e7d604299bc0d78a9bf6e203c": {
      "model_module": "@jupyter-widgets/controls",
      "model_module_version": "1.5.0",
      "model_name": "HTMLModel",
      "state": {
       "layout": "IPY_MODEL_45829bdede374933ae426ebeaa4ce556",
       "style": "IPY_MODEL_f250f86010e348bb80fec4fed3b050a2",
       "value": " ETA: 00:00s - loss: 0.0311 - val_loss: 0.0307"
      }
     },
     "f9aa69e3ab6041b08c5008003ae69509": {
      "model_module": "@jupyter-widgets/controls",
      "model_module_version": "1.5.0",
      "model_name": "HTMLModel",
      "state": {
       "layout": "IPY_MODEL_1486bcaa04194d0e962e6b61fcd101d1",
       "style": "IPY_MODEL_d15c0940dbe94161ab5af5d3d4ff4bda",
       "value": " ETA: 00:00s - loss: -1.7989 - val_loss: -1.7898"
      }
     },
     "f9aaf6b6d9ed46e991991bb8baa5893d": {
      "model_module": "@jupyter-widgets/base",
      "model_module_version": "1.2.0",
      "model_name": "LayoutModel",
      "state": {
       "flex": "2"
      }
     },
     "f9b3fca4733444d4ba67423c383b54ef": {
      "model_module": "@jupyter-widgets/controls",
      "model_module_version": "1.5.0",
      "model_name": "HBoxModel",
      "state": {
       "children": [
        "IPY_MODEL_4e4699d1d1d14305ad3cdb059541d0cd",
        "IPY_MODEL_c95824dead0841aaab2999ccb8b8e108"
       ],
       "layout": "IPY_MODEL_b5ec92e305cf4d48b0eb685994c7b3cb"
      }
     },
     "f9c024ecb2734e60922e4f570d55fdb6": {
      "model_module": "@jupyter-widgets/base",
      "model_module_version": "1.2.0",
      "model_name": "LayoutModel",
      "state": {
       "display": "inline-flex",
       "flex_flow": "row wrap",
       "width": "100%"
      }
     },
     "f9c705c9672e48e0a9a8b9a23cd52411": {
      "model_module": "@jupyter-widgets/controls",
      "model_module_version": "1.5.0",
      "model_name": "DescriptionStyleModel",
      "state": {
       "description_width": ""
      }
     },
     "f9d14c3a51d5419e85d9f6e3e37c0f50": {
      "model_module": "@jupyter-widgets/base",
      "model_module_version": "1.2.0",
      "model_name": "LayoutModel",
      "state": {}
     },
     "f9fa6d3b8ef44dd8a0d3cdf4cebfa93a": {
      "model_module": "@jupyter-widgets/controls",
      "model_module_version": "1.5.0",
      "model_name": "DescriptionStyleModel",
      "state": {
       "description_width": ""
      }
     },
     "fa0b11d181cd44b3bcf862497a939d95": {
      "model_module": "@jupyter-widgets/controls",
      "model_module_version": "1.5.0",
      "model_name": "FloatProgressModel",
      "state": {
       "bar_style": "success",
       "description": "5625/5625",
       "layout": "IPY_MODEL_c2c7903e7cd8401e88d08d63602253b0",
       "max": 5625,
       "style": "IPY_MODEL_ce4e38390b93411686db10de47bf4e0d",
       "value": 5625
      }
     },
     "fa0f9746be8045b8864a34ba98bfe582": {
      "model_module": "@jupyter-widgets/base",
      "model_module_version": "1.2.0",
      "model_name": "LayoutModel",
      "state": {
       "display": "inline-flex",
       "flex_flow": "row wrap",
       "width": "100%"
      }
     },
     "fa14fe6d04e8488ab2ad6452606106ef": {
      "model_module": "@jupyter-widgets/controls",
      "model_module_version": "1.5.0",
      "model_name": "FloatProgressModel",
      "state": {
       "bar_style": "success",
       "description": "5625/5625",
       "layout": "IPY_MODEL_1b3a0cb9753542da8a95cfac3c6ebee5",
       "max": 5625,
       "style": "IPY_MODEL_bc4b3d02e497482685d05b84b210c7a1",
       "value": 5625
      }
     },
     "fa20efa89ff8495f95d00c07fed08506": {
      "model_module": "@jupyter-widgets/controls",
      "model_module_version": "1.5.0",
      "model_name": "HTMLModel",
      "state": {
       "layout": "IPY_MODEL_39066e8a7d3541a996c7e8f72f911bac",
       "style": "IPY_MODEL_2cf1682b00d442b0b47e440c91d60dc3",
       "value": " ETA: 00:00s - loss: 0.0310 - val_loss: 0.0347"
      }
     },
     "fa2cd42258f745cb9c93ac28a19e0ee4": {
      "model_module": "@jupyter-widgets/controls",
      "model_module_version": "1.5.0",
      "model_name": "FloatProgressModel",
      "state": {
       "bar_style": "success",
       "description": "5625/5625",
       "layout": "IPY_MODEL_ab94374dc3bd4efbad36778a68ec142d",
       "max": 5625,
       "style": "IPY_MODEL_ca054106bad84f76889393d4422efd01",
       "value": 5625
      }
     },
     "fa5581162b2e4e2eb5c9a56fe83b4d79": {
      "model_module": "@jupyter-widgets/controls",
      "model_module_version": "1.5.0",
      "model_name": "HTMLModel",
      "state": {
       "layout": "IPY_MODEL_901e5142d1404a238cb9595a8a966cc9",
       "style": "IPY_MODEL_b054e7b4dfc14aa1a4099056e40c33b1",
       "value": " ETA: 00:00s - loss: -1.5716 - val_loss: -1.5981"
      }
     },
     "fa6dc24b9aed49b1b0b046b0250a9023": {
      "model_module": "@jupyter-widgets/controls",
      "model_module_version": "1.5.0",
      "model_name": "HBoxModel",
      "state": {
       "children": [
        "IPY_MODEL_dc38fd80e7e2456b842197a1d22aee2f",
        "IPY_MODEL_e2872106fcc94f869f6eea4de628dbdc"
       ],
       "layout": "IPY_MODEL_f01c8b09cc17463190b4328a0a1f35ff"
      }
     },
     "fa86acf6bcfe448b901169198469be51": {
      "model_module": "@jupyter-widgets/controls",
      "model_module_version": "1.5.0",
      "model_name": "HBoxModel",
      "state": {
       "children": [
        "IPY_MODEL_d9e99e5dc3304cdda3194a9b87b1671d",
        "IPY_MODEL_9d930e8f612e4f7e80efddd4cb1a39c1"
       ],
       "layout": "IPY_MODEL_70ccd1c603484e439808a01413727ea0"
      }
     },
     "fa96734c40c14533b5040da983cadb66": {
      "model_module": "@jupyter-widgets/controls",
      "model_module_version": "1.5.0",
      "model_name": "HTMLModel",
      "state": {
       "layout": "IPY_MODEL_59de5cf9bbf54ac49b2d207217f354ce",
       "style": "IPY_MODEL_cd5a85ed2c33484eb843311afc01ec74",
       "value": " ETA: 00:00s - loss: -1.7916 - val_loss: -1.7721"
      }
     },
     "fad93047313d45db97fc03a7c51f8bbf": {
      "model_module": "@jupyter-widgets/controls",
      "model_module_version": "1.5.0",
      "model_name": "ProgressStyleModel",
      "state": {
       "description_width": "initial"
      }
     },
     "fadd47d66ae946baa6831785260129e7": {
      "model_module": "@jupyter-widgets/controls",
      "model_module_version": "1.5.0",
      "model_name": "DescriptionStyleModel",
      "state": {
       "description_width": ""
      }
     },
     "fae509493c1a4375ac893a9ac75bfc11": {
      "model_module": "@jupyter-widgets/base",
      "model_module_version": "1.2.0",
      "model_name": "LayoutModel",
      "state": {}
     },
     "faef5ddf52664e3e91970a1e04466bbc": {
      "model_module": "@jupyter-widgets/controls",
      "model_module_version": "1.5.0",
      "model_name": "ProgressStyleModel",
      "state": {
       "description_width": "initial"
      }
     },
     "fb126ba9b06f4ef59fa27d6e582dedab": {
      "model_module": "@jupyter-widgets/controls",
      "model_module_version": "1.5.0",
      "model_name": "DescriptionStyleModel",
      "state": {
       "description_width": ""
      }
     },
     "fb212a10540741f79978cbf9657f6b4d": {
      "model_module": "@jupyter-widgets/controls",
      "model_module_version": "1.5.0",
      "model_name": "FloatProgressModel",
      "state": {
       "bar_style": "success",
       "description": "5625/5625",
       "layout": "IPY_MODEL_91d1552b048b4ba099669e2421b6eb08",
       "max": 5625,
       "style": "IPY_MODEL_6db282337fe84fcea692c29ef72c1c8e",
       "value": 5625
      }
     },
     "fb2501cd6f224362b9a260e34e3aa740": {
      "model_module": "@jupyter-widgets/controls",
      "model_module_version": "1.5.0",
      "model_name": "HBoxModel",
      "state": {
       "children": [
        "IPY_MODEL_547b871c6afc4d60801b0cf37e0b2899",
        "IPY_MODEL_f03b1b35d8f34cbd9d5cb868ebde8dc8"
       ],
       "layout": "IPY_MODEL_913da30e2bf6444a8e9a5b2bcfb1f46e"
      }
     },
     "fb72d205acfe494eb3349ab057397d62": {
      "model_module": "@jupyter-widgets/base",
      "model_module_version": "1.2.0",
      "model_name": "LayoutModel",
      "state": {}
     },
     "fb7ecdbd8e7f4166a7507368b30224a0": {
      "model_module": "@jupyter-widgets/base",
      "model_module_version": "1.2.0",
      "model_name": "LayoutModel",
      "state": {}
     },
     "fbf113d5e31541dfa9548d6649247c7a": {
      "model_module": "@jupyter-widgets/controls",
      "model_module_version": "1.5.0",
      "model_name": "DescriptionStyleModel",
      "state": {
       "description_width": ""
      }
     },
     "fbfda0bac0eb484d80e6f387f30dafd4": {
      "model_module": "@jupyter-widgets/base",
      "model_module_version": "1.2.0",
      "model_name": "LayoutModel",
      "state": {}
     },
     "fc0d380192a04ce38c3d11278f97dcf1": {
      "model_module": "@jupyter-widgets/controls",
      "model_module_version": "1.5.0",
      "model_name": "HTMLModel",
      "state": {
       "layout": "IPY_MODEL_06da932f791840598817a903060d393c",
       "style": "IPY_MODEL_1d69819c4e0a45c19c5b4a62977a60c5",
       "value": " ETA: 00:00s - loss: -1.8437 - val_loss: -1.7935"
      }
     },
     "fc23a3d331cd4eeaba176afea43b0011": {
      "model_module": "@jupyter-widgets/controls",
      "model_module_version": "1.5.0",
      "model_name": "HTMLModel",
      "state": {
       "layout": "IPY_MODEL_3744f690ea26414bbbfe804879c38e4c",
       "style": "IPY_MODEL_d256d6e0634149ec9e1d3ba1af942ec3",
       "value": " ETA: 00:00s - loss: 0.0507 - val_loss: 0.0458"
      }
     },
     "fc42656ac8774d93ae975baa2f6081d2": {
      "model_module": "@jupyter-widgets/controls",
      "model_module_version": "1.5.0",
      "model_name": "HTMLModel",
      "state": {
       "layout": "IPY_MODEL_d48f94d2e5924f65bad3fb0ff0003910",
       "style": "IPY_MODEL_be2e532e793040cfbad9628a4ffd58d9",
       "value": " ETA: 00:00s - loss: -1.7131 - val_loss: -1.7115"
      }
     },
     "fc4c3152a41e4f19968bd5551af4854f": {
      "model_module": "@jupyter-widgets/base",
      "model_module_version": "1.2.0",
      "model_name": "LayoutModel",
      "state": {
       "flex": "2"
      }
     },
     "fc57a452071b4e40a651a94dcfed62da": {
      "model_module": "@jupyter-widgets/base",
      "model_module_version": "1.2.0",
      "model_name": "LayoutModel",
      "state": {}
     },
     "fc6ccf7eaa0743f89628bb0688a63176": {
      "model_module": "@jupyter-widgets/base",
      "model_module_version": "1.2.0",
      "model_name": "LayoutModel",
      "state": {
       "display": "inline-flex",
       "flex_flow": "row wrap",
       "width": "100%"
      }
     },
     "fcc5645d9eed4222bcc14911f3c78bd2": {
      "model_module": "@jupyter-widgets/base",
      "model_module_version": "1.2.0",
      "model_name": "LayoutModel",
      "state": {
       "display": "inline-flex",
       "flex_flow": "row wrap",
       "width": "100%"
      }
     },
     "fcf73cbd477040cf99ad5ae1f2881186": {
      "model_module": "@jupyter-widgets/controls",
      "model_module_version": "1.5.0",
      "model_name": "DescriptionStyleModel",
      "state": {
       "description_width": ""
      }
     },
     "fd01f5e513324df0a8849b46d81731aa": {
      "model_module": "@jupyter-widgets/controls",
      "model_module_version": "1.5.0",
      "model_name": "FloatProgressModel",
      "state": {
       "bar_style": "success",
       "description": "5625/5625",
       "layout": "IPY_MODEL_6de8eacadb614f32a1b163e0447da786",
       "max": 5625,
       "style": "IPY_MODEL_5460256668f84a93bd079aa9cbf17d22",
       "value": 5625
      }
     },
     "fd2098a98f744cdea821ba89e4421c4b": {
      "model_module": "@jupyter-widgets/controls",
      "model_module_version": "1.5.0",
      "model_name": "HTMLModel",
      "state": {
       "layout": "IPY_MODEL_6f7e56a4a9604b53be841575802540c6",
       "style": "IPY_MODEL_c3cc4d977c3242f998bd77a4ec0b7e1b",
       "value": " ETA: 00:00s - loss: 0.0333 - val_loss: 0.0326"
      }
     },
     "fd33bc262c904a0ebcd351d45fbc8e93": {
      "model_module": "@jupyter-widgets/controls",
      "model_module_version": "1.5.0",
      "model_name": "HTMLModel",
      "state": {
       "layout": "IPY_MODEL_09957b7aa984494a9fd01988473c0c0f",
       "style": "IPY_MODEL_b965936f0fae4954a3d01a88de1429af",
       "value": " ETA: 00:00s - loss: 0.0671 - val_loss: 0.0713"
      }
     },
     "fd55bba56bec4351821240da05b40948": {
      "model_module": "@jupyter-widgets/base",
      "model_module_version": "1.2.0",
      "model_name": "LayoutModel",
      "state": {
       "flex": "2"
      }
     },
     "fd5fa05e5c384966a6d67f826cac7bb0": {
      "model_module": "@jupyter-widgets/controls",
      "model_module_version": "1.5.0",
      "model_name": "ProgressStyleModel",
      "state": {
       "description_width": "initial"
      }
     },
     "fd6d27d31eb445d3a69daf6c2fbe6597": {
      "model_module": "@jupyter-widgets/base",
      "model_module_version": "1.2.0",
      "model_name": "LayoutModel",
      "state": {
       "flex": "2"
      }
     },
     "fd83f72854bd40dbb65746245ab0540d": {
      "model_module": "@jupyter-widgets/base",
      "model_module_version": "1.2.0",
      "model_name": "LayoutModel",
      "state": {}
     },
     "fd890f080cb241fcb0e419a61efd654e": {
      "model_module": "@jupyter-widgets/controls",
      "model_module_version": "1.5.0",
      "model_name": "DescriptionStyleModel",
      "state": {
       "description_width": ""
      }
     },
     "fdcab5103b1044809f17d92ada3f3a78": {
      "model_module": "@jupyter-widgets/base",
      "model_module_version": "1.2.0",
      "model_name": "LayoutModel",
      "state": {
       "display": "inline-flex",
       "flex_flow": "row wrap",
       "width": "100%"
      }
     },
     "fdd0979c639e496fad40a601d6fe2866": {
      "model_module": "@jupyter-widgets/base",
      "model_module_version": "1.2.0",
      "model_name": "LayoutModel",
      "state": {}
     },
     "fdfa4f048e9f4241b135bc6cebd8c4fd": {
      "model_module": "@jupyter-widgets/base",
      "model_module_version": "1.2.0",
      "model_name": "LayoutModel",
      "state": {
       "display": "inline-flex",
       "flex_flow": "row wrap",
       "width": "100%"
      }
     },
     "fdfd2ef3edd642b9aba17c8fb8ac7d5a": {
      "model_module": "@jupyter-widgets/base",
      "model_module_version": "1.2.0",
      "model_name": "LayoutModel",
      "state": {
       "flex": "2"
      }
     },
     "fe085850742249128797051e8aa39010": {
      "model_module": "@jupyter-widgets/base",
      "model_module_version": "1.2.0",
      "model_name": "LayoutModel",
      "state": {
       "display": "inline-flex",
       "flex_flow": "row wrap",
       "width": "100%"
      }
     },
     "fe201a202f154e559bb835b5ad1eb5a2": {
      "model_module": "@jupyter-widgets/controls",
      "model_module_version": "1.5.0",
      "model_name": "DescriptionStyleModel",
      "state": {
       "description_width": ""
      }
     },
     "fe3f1755aaa84512ab84a2b5d0563cd1": {
      "model_module": "@jupyter-widgets/controls",
      "model_module_version": "1.5.0",
      "model_name": "HTMLModel",
      "state": {
       "layout": "IPY_MODEL_0094b80751f145669eb5447802b33fe4",
       "style": "IPY_MODEL_d88a66cf81d74eed9446847dcea38fcc",
       "value": " ETA: 00:00s - loss: 0.0277 - val_loss: 0.0300"
      }
     },
     "fe5c779ece274e68a6420342c7a597b5": {
      "model_module": "@jupyter-widgets/base",
      "model_module_version": "1.2.0",
      "model_name": "LayoutModel",
      "state": {
       "flex": "2"
      }
     },
     "fe5ca96e3ab44266bffdb332b8df4696": {
      "model_module": "@jupyter-widgets/controls",
      "model_module_version": "1.5.0",
      "model_name": "HTMLModel",
      "state": {
       "layout": "IPY_MODEL_1baa2a72e61c4753a4284b467c7cbf1a",
       "style": "IPY_MODEL_df41d1252e0e44d69565caf4603adb2e",
       "value": " ETA: 00:00s - loss: 0.0281 - val_loss: 0.0289"
      }
     },
     "fe5eafb9712d40e58f22427ea2af8fcb": {
      "model_module": "@jupyter-widgets/base",
      "model_module_version": "1.2.0",
      "model_name": "LayoutModel",
      "state": {}
     },
     "fe6b22f4ac7a4347af6f623a8a88f005": {
      "model_module": "@jupyter-widgets/base",
      "model_module_version": "1.2.0",
      "model_name": "LayoutModel",
      "state": {
       "display": "inline-flex",
       "flex_flow": "row wrap",
       "width": "100%"
      }
     },
     "fe7c6e7b85ee44439e8d3e4928b4d1ca": {
      "model_module": "@jupyter-widgets/base",
      "model_module_version": "1.2.0",
      "model_name": "LayoutModel",
      "state": {
       "display": "inline-flex",
       "flex_flow": "row wrap",
       "width": "100%"
      }
     },
     "fe7d5e2bb5d64d8386f2f66924d33f9f": {
      "model_module": "@jupyter-widgets/controls",
      "model_module_version": "1.5.0",
      "model_name": "HTMLModel",
      "state": {
       "layout": "IPY_MODEL_d976840f1824469e97f1e08a6cab065b",
       "style": "IPY_MODEL_f74b755605364286aac3a1cece30e465",
       "value": " ETA: 00:00s - loss: -1.7938 - val_loss: -1.7893"
      }
     },
     "fe965b1913af48fda8437dd21738cd50": {
      "model_module": "@jupyter-widgets/controls",
      "model_module_version": "1.5.0",
      "model_name": "DescriptionStyleModel",
      "state": {
       "description_width": ""
      }
     },
     "feb8d949fc014f95bbf03dd9bc98b42d": {
      "model_module": "@jupyter-widgets/controls",
      "model_module_version": "1.5.0",
      "model_name": "ProgressStyleModel",
      "state": {
       "description_width": "initial"
      }
     },
     "febd628e85ed413395ad3af2c842d9db": {
      "model_module": "@jupyter-widgets/base",
      "model_module_version": "1.2.0",
      "model_name": "LayoutModel",
      "state": {}
     },
     "fed3add5e2c04b46bc40074ef8ae9ffe": {
      "model_module": "@jupyter-widgets/controls",
      "model_module_version": "1.5.0",
      "model_name": "DescriptionStyleModel",
      "state": {
       "description_width": ""
      }
     },
     "ff0720283be842cca7380c65035fff41": {
      "model_module": "@jupyter-widgets/base",
      "model_module_version": "1.2.0",
      "model_name": "LayoutModel",
      "state": {
       "display": "inline-flex",
       "flex_flow": "row wrap",
       "width": "100%"
      }
     },
     "ff110331fb764321a9c16e5fdaa1775d": {
      "model_module": "@jupyter-widgets/controls",
      "model_module_version": "1.5.0",
      "model_name": "ProgressStyleModel",
      "state": {
       "description_width": "initial"
      }
     },
     "ff2dc062e2d44a3ba52dc0a846244743": {
      "model_module": "@jupyter-widgets/base",
      "model_module_version": "1.2.0",
      "model_name": "LayoutModel",
      "state": {
       "flex": "2"
      }
     },
     "ffb20841b17b4eadaab95e3efa6a0488": {
      "model_module": "@jupyter-widgets/controls",
      "model_module_version": "1.5.0",
      "model_name": "HBoxModel",
      "state": {
       "children": [
        "IPY_MODEL_3a89950dfa584a929e9f7819dee23034",
        "IPY_MODEL_c24cf8f20e0141a0ab3b2f43d5b986db"
       ],
       "layout": "IPY_MODEL_bebc68584c184237b066797b29535d49"
      }
     },
     "ffd5e257f5374471ac9db8b586fe1ae7": {
      "model_module": "@jupyter-widgets/base",
      "model_module_version": "1.2.0",
      "model_name": "LayoutModel",
      "state": {
       "flex": "2"
      }
     },
     "ffe15e6369354e449e40a4a6de39f987": {
      "model_module": "@jupyter-widgets/controls",
      "model_module_version": "1.5.0",
      "model_name": "ProgressStyleModel",
      "state": {
       "description_width": "initial"
      }
     }
    },
    "version_major": 2,
    "version_minor": 0
   }
  }
 },
 "nbformat": 4,
 "nbformat_minor": 4
}
